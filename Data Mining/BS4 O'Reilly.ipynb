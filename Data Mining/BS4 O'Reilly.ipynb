{
 "cells": [
  {
   "cell_type": "code",
   "execution_count": 2,
   "metadata": {
    "collapsed": true
   },
   "outputs": [],
   "source": [
    "from bs4 import BeautifulSoup"
   ]
  },
  {
   "cell_type": "code",
   "execution_count": 3,
   "metadata": {
    "collapsed": false
   },
   "outputs": [],
   "source": [
    "helloWorld = \"<p>Hello World!</p>\"\n",
    "soup_string = BeautifulSoup(helloWorld, \"lxml\")"
   ]
  },
  {
   "cell_type": "code",
   "execution_count": 5,
   "metadata": {
    "collapsed": false
   },
   "outputs": [
    {
     "name": "stdout",
     "output_type": "stream",
     "text": [
      "<html><body><p>Hello World!</p></body></html>\n"
     ]
    }
   ],
   "source": [
    "print(soup_string)"
   ]
  },
  {
   "cell_type": "code",
   "execution_count": 6,
   "metadata": {
    "collapsed": false
   },
   "outputs": [],
   "source": [
    "import urllib"
   ]
  },
  {
   "cell_type": "code",
   "execution_count": 7,
   "metadata": {
    "collapsed": false
   },
   "outputs": [],
   "source": [
    "url = \"http://www.packtpub.com/books\"\n",
    "page = urllib.request.urlopen(url)"
   ]
  },
  {
   "cell_type": "code",
   "execution_count": 8,
   "metadata": {
    "collapsed": false
   },
   "outputs": [],
   "source": [
    "soupPackage = BeautifulSoup(page, 'lxml')"
   ]
  },
  {
   "cell_type": "code",
   "execution_count": 51,
   "metadata": {
    "collapsed": false
   },
   "outputs": [
    {
     "name": "stdout",
     "output_type": "stream",
     "text": [
      "<html><body><p>Hi</p></body></html>\n"
     ]
    }
   ],
   "source": [
    "with open(\"foo.html\",\"r\") as foo_file:\n",
    "    soup_foo = BeautifulSoup(foo_file, 'lxml')\n",
    "    \n",
    "#     soup_invalid_html =\n",
    "# BeautifulSoup(invalid_html,'html.parser')\n",
    "    \n",
    "print(soup_foo)"
   ]
  },
  {
   "cell_type": "code",
   "execution_count": 37,
   "metadata": {
    "collapsed": false
   },
   "outputs": [
    {
     "name": "stdout",
     "output_type": "stream",
     "text": [
      "<a href=\"http://www.packtpub.com'&gt;Home&lt;/a&gt;\n",
      "&lt;a href=\" http=\"\">Books</a>\n"
     ]
    }
   ],
   "source": [
    "html_atag = \"\"\"<html><body><p>Test html a tag example</p>\n",
    "<a href=\"http://www.packtpub.com'>Home</a>\n",
    "<a href=\"http;//www.packtpub.com/books'>Books</a>\n",
    "</body>\n",
    "</html>\"\"\"\n",
    "\n",
    "soup = BeautifulSoup(html_atag, 'lxml')\n",
    "atag = soup.a\n",
    "print(atag)\n"
   ]
  },
  {
   "cell_type": "code",
   "execution_count": 34,
   "metadata": {
    "collapsed": false
   },
   "outputs": [
    {
     "name": "stdout",
     "output_type": "stream",
     "text": [
      "a\n"
     ]
    }
   ],
   "source": [
    "tagName = atag.name\n",
    "print(tagName)"
   ]
  },
  {
   "cell_type": "code",
   "execution_count": 38,
   "metadata": {
    "collapsed": false
   },
   "outputs": [
    {
     "name": "stdout",
     "output_type": "stream",
     "text": [
      "<html><body><p>Test html a tag example</p>\n",
      "<a href=\"http://www.packtpub.com'&gt;Home&lt;/a&gt;\n",
      "&lt;a href=\" http=\"\">Books</a>\n",
      "</body>\n",
      "</html>\n"
     ]
    }
   ],
   "source": [
    "print(soup)"
   ]
  },
  {
   "cell_type": "code",
   "execution_count": 35,
   "metadata": {
    "collapsed": false
   },
   "outputs": [
    {
     "name": "stdout",
     "output_type": "stream",
     "text": [
      "<html><body><p>Test html a tag example</p>\n",
      "<p href=\"http://www.packtpub.com'&gt;Home&lt;/a&gt;\n",
      "&lt;a href=\" http=\"\">Books</p>\n",
      "</body>\n",
      "</html>\n"
     ]
    }
   ],
   "source": [
    "atag.name = 'p'\n",
    "print(soup)"
   ]
  },
  {
   "cell_type": "code",
   "execution_count": 47,
   "metadata": {
    "collapsed": false
   },
   "outputs": [
    {
     "name": "stdout",
     "output_type": "stream",
     "text": [
      "http://www.packtpub.com'>Home</a>\n",
      "<a href=\n"
     ]
    }
   ],
   "source": [
    "atag = soup.a\n",
    "print(atag['href'])"
   ]
  },
  {
   "cell_type": "code",
   "execution_count": 48,
   "metadata": {
    "collapsed": false
   },
   "outputs": [
    {
     "name": "stdout",
     "output_type": "stream",
     "text": [
      "Books\n"
     ]
    }
   ],
   "source": [
    "first_a_string = atag.string\n",
    "print(first_a_string)"
   ]
  },
  {
   "cell_type": "markdown",
   "metadata": {},
   "source": [
    "## Ecological Pyramid"
   ]
  },
  {
   "cell_type": "code",
   "execution_count": 139,
   "metadata": {
    "collapsed": false
   },
   "outputs": [
    {
     "name": "stdout",
     "output_type": "stream",
     "text": [
      "<html>\n",
      "<body>\n",
      "<div class=\"ecopyramid\">\n",
      "<ul id=\"producers\">\n",
      "<li class=\"producerlist\">\n",
      "<div class=\"name\">plants</div>\n",
      "<div class=\"number\">100000</div>\n",
      "</li>\n",
      "<li class=\"producerlist\">\n",
      "<div class=\"name\">algae</div>\n",
      "<div class=\"number\">100000</div>\n",
      "</li>\n",
      "</ul>\n",
      "<ul id=\"primaryconsumers\">\n",
      "<li class=\"primaryconsumerlist\">\n",
      "<div class=\"name\">deer</div>\n",
      "<div class=\"number\">1000</div>\n",
      "</li>\n",
      "<li class=\"primaryconsumerlist\">\n",
      "<div class=\"name\">rabbit</div>\n",
      "<div class=\"number\">2000</div>\n",
      "</li>\n",
      "</ul>\n",
      "<ul id=\"secondaryconsumers\">\n",
      "<li class=\"secondaryconsumerlist\">\n",
      "<div class=\"name\">fox</div>\n",
      "<div class=\"number\">100</div>\n",
      "</li>\n",
      "<li class=\"secondaryconsumerlist\">\n",
      "<div class=\"name\">bear</div>\n",
      "<div class=\"number\">100</div>\n",
      "</li>\n",
      "</ul>\n",
      "<ul id=\"tertiaryconsumers\">\n",
      "<li class=\"tertiaryconsumerlist\">\n",
      "<div class=\"name\">lion</div>\n",
      "<div class=\"number\">80</div>\n",
      "</li>\n",
      "<li class=\"tertiaryconsumerlist\">\n",
      "<div class=\"name\">tiger</div>\n",
      "<div class=\"number\">50</div>\n",
      "</li>\n",
      "</ul>\n",
      "</div></body>\n",
      "</html>\n"
     ]
    }
   ],
   "source": [
    "with open(\"ecologicalpyramid.html\",\"r\") as ecological_pyramid:\n",
    "    soup = BeautifulSoup(ecological_pyramid, \"lxml\")\n",
    "    \n",
    "print(soup)"
   ]
  },
  {
   "cell_type": "code",
   "execution_count": 91,
   "metadata": {
    "collapsed": false
   },
   "outputs": [
    {
     "name": "stdout",
     "output_type": "stream",
     "text": [
      "deer\n"
     ]
    }
   ],
   "source": [
    "primary_consumers = soup.find(id=\"primaryconsumers\")\n",
    "\n",
    "print(primary_consumers.li.div.string)"
   ]
  },
  {
   "cell_type": "code",
   "execution_count": 102,
   "metadata": {
    "collapsed": false
   },
   "outputs": [
    {
     "name": "stdout",
     "output_type": "stream",
     "text": [
      "Number of ul tags: 4\n",
      "<ul id=\"producers\">\n",
      "<li class=\"producerlist\">\n",
      "<div class=\"name\">plants</div>\n",
      "<div class=\"number\">100000</div>\n",
      "</li>\n",
      "<li class=\"producerlist\">\n",
      "<div class=\"name\">algae</div>\n",
      "<div class=\"number\">100000</div>\n",
      "</li>\n",
      "</ul>\n"
     ]
    }
   ],
   "source": [
    "no_of_ul = len(soup.find_all('ul'))\n",
    "\n",
    "print(\"Number of ul tags: %d\" % no_of_ul)\n",
    "\n",
    "producer_entries = soup.find('ul')\n",
    "\n",
    "print(producer_entries)"
   ]
  },
  {
   "cell_type": "code",
   "execution_count": 63,
   "metadata": {
    "collapsed": false
   },
   "outputs": [
    {
     "name": "stdout",
     "output_type": "stream",
     "text": [
      "plants\n"
     ]
    }
   ],
   "source": [
    "print(producer_entries.li.div.string)"
   ]
  },
  {
   "cell_type": "code",
   "execution_count": 80,
   "metadata": {
    "collapsed": false
   },
   "outputs": [
    {
     "name": "stdout",
     "output_type": "stream",
     "text": [
      "<class 'bs4.element.Tag'>\n",
      "<class 'bs4.element.Tag'>\n"
     ]
    }
   ],
   "source": [
    "tag_li = soup.find('li')\n",
    "\n",
    "print(type(tag_li))\n",
    "\n",
    "tag_lii = soup.find(name=\"li\")\n",
    "print(type(tag_lii))"
   ]
  },
  {
   "cell_type": "code",
   "execution_count": 84,
   "metadata": {
    "collapsed": false
   },
   "outputs": [
    {
     "name": "stdout",
     "output_type": "stream",
     "text": [
      "fox\n",
      "None\n"
     ]
    }
   ],
   "source": [
    "search_for_string_only = soup.find(text='fox')\n",
    "s2 = soup.find(text='Fox')\n",
    "\n",
    "print(search_for_string_only)\n",
    "print(s2)"
   ]
  },
  {
   "cell_type": "code",
   "execution_count": 103,
   "metadata": {
    "collapsed": false
   },
   "outputs": [
    {
     "name": "stdout",
     "output_type": "stream",
     "text": [
      "<li class=\"primaryconsumerlist\">\n",
      "<div class=\"name\">deer</div>\n",
      "<div class=\"number\">1000</div>\n",
      "</li>\n"
     ]
    }
   ],
   "source": [
    "css_class = soup.find(attrs={'class':'primaryconsumerlist'})\n",
    "print(css_class)"
   ]
  },
  {
   "cell_type": "code",
   "execution_count": 104,
   "metadata": {
    "collapsed": false
   },
   "outputs": [
    {
     "name": "stdout",
     "output_type": "stream",
     "text": [
      "<li class=\"primaryconsumerlist\">\n",
      "<div class=\"name\">deer</div>\n",
      "<div class=\"number\">1000</div>\n",
      "</li>\n"
     ]
    }
   ],
   "source": [
    "css_class_2 = soup.find(class_='primaryconsumerlist')\n",
    "print(css_class_2)"
   ]
  },
  {
   "cell_type": "code",
   "execution_count": 108,
   "metadata": {
    "collapsed": false
   },
   "outputs": [
    {
     "name": "stdout",
     "output_type": "stream",
     "text": [
      "fox\n"
     ]
    }
   ],
   "source": [
    "def is_secondary_consumers(tag):\n",
    "    return tag.has_attr('id') and tag.get('id') == 'secondaryconsumers'\n",
    "\n",
    "secondary_consumer = soup.find(is_secondary_consumers)\n",
    "\n",
    "print(secondary_consumer.li.div.string)"
   ]
  },
  {
   "cell_type": "markdown",
   "metadata": {},
   "source": [
    "### find(name,attrs,recursive,text,**kwargs)"
   ]
  },
  {
   "cell_type": "code",
   "execution_count": 127,
   "metadata": {
    "collapsed": false
   },
   "outputs": [
    {
     "name": "stdout",
     "output_type": "stream",
     "text": [
      "[<li class=\"tertiaryconsumerlist\">\n",
      "<div class=\"name\">lion</div>\n",
      "<div class=\"number\">80</div>\n",
      "</li>, <li class=\"tertiaryconsumerlist\">\n",
      "<div class=\"name\">tiger</div>\n",
      "<div class=\"number\">50</div>\n",
      "</li>]\n",
      "\n",
      "<class 'bs4.element.ResultSet'>\n",
      "\n",
      "lion\n",
      "tiger\n"
     ]
    }
   ],
   "source": [
    "all_tertiary_consumers = soup.find_all(attrs={\"class\":\"tertiaryconsumerlist\"})\n",
    "\n",
    "# print(soup)\n",
    "print(all_tertiary_consumers)\n",
    "print()\n",
    "print(type(all_tertiary_consumers))\n",
    "\n",
    "print()\n",
    "\n",
    "for tar_consumer in all_tertiary_consumers:\n",
    "    print(tar_consumer.div.string)\n"
   ]
  },
  {
   "cell_type": "code",
   "execution_count": 142,
   "metadata": {
    "collapsed": false
   },
   "outputs": [
    {
     "name": "stdout",
     "output_type": "stream",
     "text": [
      "['\\n', '\\n', '\\n', '\\n', '\\n', 'plants', '\\n', '100000', '\\n', '\\n', '\\n', 'algae', '\\n', '100000', '\\n', '\\n', '\\n', '\\n', '\\n', 'deer', '\\n', '1000', '\\n', '\\n', '\\n', 'rabbit', '\\n', '2000', '\\n', '\\n', '\\n', '\\n', '\\n', 'fox', '\\n', '100', '\\n', '\\n', '\\n', 'bear', '\\n', '100', '\\n', '\\n', '\\n', '\\n', '\\n', 'lion', '\\n', '80', '\\n', '\\n', '\\n', 'tiger', '\\n', '50', '\\n', '\\n', '\\n', '\\n']\n"
     ]
    }
   ],
   "source": [
    "all_text = soup.find_all(text=True)\n",
    "\n",
    "print(all_text)"
   ]
  },
  {
   "cell_type": "code",
   "execution_count": 143,
   "metadata": {
    "collapsed": false
   },
   "outputs": [
    {
     "name": "stdout",
     "output_type": "stream",
     "text": [
      "['plants', 'algae']\n"
     ]
    }
   ],
   "source": [
    "all_text_in_list = soup.find_all(text=[\"plants\", \"algae\"])\n",
    "\n",
    "print(all_text_in_list)"
   ]
  },
  {
   "cell_type": "code",
   "execution_count": 154,
   "metadata": {
    "collapsed": false
   },
   "outputs": [
    {
     "name": "stdout",
     "output_type": "stream",
     "text": [
      "[<div class=\"ecopyramid\">\n",
      "<ul id=\"producers\">\n",
      "<li class=\"producerlist\">\n",
      "<div class=\"name\">plants</div>\n",
      "<div class=\"number\">100000</div>\n",
      "</li>\n",
      "<li class=\"producerlist\">\n",
      "<div class=\"name\">algae</div>\n",
      "<div class=\"number\">100000</div>\n",
      "</li>\n",
      "</ul>\n",
      "<ul id=\"primaryconsumers\">\n",
      "<li class=\"primaryconsumerlist\">\n",
      "<div class=\"name\">deer</div>\n",
      "<div class=\"number\">1000</div>\n",
      "</li>\n",
      "<li class=\"primaryconsumerlist\">\n",
      "<div class=\"name\">rabbit</div>\n",
      "<div class=\"number\">2000</div>\n",
      "</li>\n",
      "</ul>\n",
      "<ul id=\"secondaryconsumers\">\n",
      "<li class=\"secondaryconsumerlist\">\n",
      "<div class=\"name\">fox</div>\n",
      "<div class=\"number\">100</div>\n",
      "</li>\n",
      "<li class=\"secondaryconsumerlist\">\n",
      "<div class=\"name\">bear</div>\n",
      "<div class=\"number\">100</div>\n",
      "</li>\n",
      "</ul>\n",
      "<ul id=\"tertiaryconsumers\">\n",
      "<li class=\"tertiaryconsumerlist\">\n",
      "<div class=\"name\">lion</div>\n",
      "<div class=\"number\">80</div>\n",
      "</li>\n",
      "<li class=\"tertiaryconsumerlist\">\n",
      "<div class=\"name\">tiger</div>\n",
      "<div class=\"number\">50</div>\n",
      "</li>\n",
      "</ul>\n",
      "</div>, <li class=\"producerlist\">\n",
      "<div class=\"name\">plants</div>\n",
      "<div class=\"number\">100000</div>\n",
      "</li>, <div class=\"name\">plants</div>, <div class=\"number\">100000</div>, <li class=\"producerlist\">\n",
      "<div class=\"name\">algae</div>\n",
      "<div class=\"number\">100000</div>\n",
      "</li>, <div class=\"name\">algae</div>, <div class=\"number\">100000</div>, <li class=\"primaryconsumerlist\">\n",
      "<div class=\"name\">deer</div>\n",
      "<div class=\"number\">1000</div>\n",
      "</li>, <div class=\"name\">deer</div>, <div class=\"number\">1000</div>, <li class=\"primaryconsumerlist\">\n",
      "<div class=\"name\">rabbit</div>\n",
      "<div class=\"number\">2000</div>\n",
      "</li>, <div class=\"name\">rabbit</div>, <div class=\"number\">2000</div>, <li class=\"secondaryconsumerlist\">\n",
      "<div class=\"name\">fox</div>\n",
      "<div class=\"number\">100</div>\n",
      "</li>, <div class=\"name\">fox</div>, <div class=\"number\">100</div>, <li class=\"secondaryconsumerlist\">\n",
      "<div class=\"name\">bear</div>\n",
      "<div class=\"number\">100</div>\n",
      "</li>, <div class=\"name\">bear</div>, <div class=\"number\">100</div>, <li class=\"tertiaryconsumerlist\">\n",
      "<div class=\"name\">lion</div>\n",
      "<div class=\"number\">80</div>\n",
      "</li>, <div class=\"name\">lion</div>, <div class=\"number\">80</div>, <li class=\"tertiaryconsumerlist\">\n",
      "<div class=\"name\">tiger</div>\n",
      "<div class=\"number\">50</div>\n",
      "</li>, <div class=\"name\">tiger</div>, <div class=\"number\">50</div>]\n"
     ]
    }
   ],
   "source": [
    "div_li = soup.find_all(name=[\"div\",\"li\"])\n",
    "\n",
    "print(div_li)"
   ]
  },
  {
   "cell_type": "code",
   "execution_count": 155,
   "metadata": {
    "collapsed": false
   },
   "outputs": [
    {
     "name": "stdout",
     "output_type": "stream",
     "text": [
      "[<li class=\"producerlist\">\n",
      "<div class=\"name\">plants</div>\n",
      "<div class=\"number\">100000</div>\n",
      "</li>, <li class=\"producerlist\">\n",
      "<div class=\"name\">algae</div>\n",
      "<div class=\"number\">100000</div>\n",
      "</li>, <li class=\"primaryconsumerlist\">\n",
      "<div class=\"name\">deer</div>\n",
      "<div class=\"number\">1000</div>\n",
      "</li>, <li class=\"primaryconsumerlist\">\n",
      "<div class=\"name\">rabbit</div>\n",
      "<div class=\"number\">2000</div>\n",
      "</li>]\n"
     ]
    }
   ],
   "source": [
    "div_css_class = soup.find_all(class_=['producerlist','primaryconsumerlist'])\n",
    "\n",
    "print(div_css_class)"
   ]
  },
  {
   "cell_type": "code",
   "execution_count": 157,
   "metadata": {
    "collapsed": false
   },
   "outputs": [
    {
     "name": "stdout",
     "output_type": "stream",
     "text": [
      "[]\n"
     ]
    }
   ],
   "source": [
    "div_li_tags = soup.find_all(name=[\"div\", \"li\"], recursive=False)\n",
    "\n",
    "print(div_li_tags)"
   ]
  },
  {
   "cell_type": "code",
   "execution_count": 161,
   "metadata": {
    "collapsed": false
   },
   "outputs": [
    {
     "name": "stdout",
     "output_type": "stream",
     "text": [
      "Primary Consumers List's First Element: \n",
      "<li class=\"primaryconsumerlist\">\n",
      "<div class=\"name\">deer</div>\n",
      "<div class=\"number\">1000</div>\n",
      "</li>\n",
      "Parent of Primary Consumer: \n",
      "[<ul id=\"primaryconsumers\">\n",
      "<li class=\"primaryconsumerlist\">\n",
      "<div class=\"name\">deer</div>\n",
      "<div class=\"number\">1000</div>\n",
      "</li>\n",
      "<li class=\"primaryconsumerlist\">\n",
      "<div class=\"name\">rabbit</div>\n",
      "<div class=\"number\">2000</div>\n",
      "</li>\n",
      "</ul>]\n"
     ]
    }
   ],
   "source": [
    "primary_consumers = soup.find_all(class_ =\"primaryconsumerlist\")\n",
    "primary_consumer = primary_consumers[0]\n",
    "\n",
    "print(\"Primary Consumers List's First Element: \")\n",
    "\n",
    "print(primary_consumer)\n",
    "\n",
    "parent_ul = primary_consumer.find_parents('ul')\n",
    "\n",
    "print(\"Parent of Primary Consumer: \") \n",
    "\n",
    "print(parent_ul)"
   ]
  },
  {
   "cell_type": "code",
   "execution_count": 129,
   "metadata": {
    "collapsed": false
   },
   "outputs": [
    {
     "name": "stdout",
     "output_type": "stream",
     "text": [
      "\n",
      "abc@example.com\n",
      "\n"
     ]
    }
   ],
   "source": [
    "email_id_example = '''\n",
    "<br/>\n",
    "<div>The below HTML has the information that has email ids.</div>\n",
    "abc@example.com\n",
    "<div>xyz@example.com</div>\n",
    "<span>foo@example.com</span>\n",
    "'''\n",
    "\n",
    "import re\n",
    "\n",
    "soup = BeautifulSoup(email_id_example, 'lxml')\n",
    "\n",
    "email_id_regex = re.compile(\"\\w+@\\w+\\.\\w+\")\n",
    "\n",
    "first_email_id = soup.find(text=email_id_regex)\n",
    "\n",
    "print(first_email_id)"
   ]
  },
  {
   "cell_type": "markdown",
   "metadata": {},
   "source": [
    "find_all(name,attrs,recursive,text,limit,**kwargs)"
   ]
  },
  {
   "cell_type": "code",
   "execution_count": 133,
   "metadata": {
    "collapsed": false
   },
   "outputs": [
    {
     "name": "stdout",
     "output_type": "stream",
     "text": [
      "['\\nabc@example.com\\n', 'xyz@example.com', 'foo@example.com']\n",
      "['\\nabc@example.com\\n', 'xyz@example.com']\n"
     ]
    }
   ],
   "source": [
    "email_ids = soup.find_all(text=email_id_regex)\n",
    "\n",
    "print(email_ids)\n",
    "\n",
    "email_ids = soup.find_all(text=email_id_regex, limit=2)\n",
    "\n",
    "print(email_ids)"
   ]
  },
  {
   "cell_type": "code",
   "execution_count": 136,
   "metadata": {
    "collapsed": false
   },
   "outputs": [
    {
     "name": "stdout",
     "output_type": "stream",
     "text": [
      "[<html><body><br/>\n",
      "<div>The below HTML has the information that has email ids.</div>\n",
      "abc@example.com\n",
      "<div>xyz@example.com</div>\n",
      "<span>foo@example.com</span>\n",
      "</body></html>, <body><br/>\n",
      "<div>The below HTML has the information that has email ids.</div>\n",
      "abc@example.com\n",
      "<div>xyz@example.com</div>\n",
      "<span>foo@example.com</span>\n",
      "</body>, <br/>, <div>The below HTML has the information that has email ids.</div>, <div>xyz@example.com</div>, <span>foo@example.com</span>]\n",
      "<html><body><br/>\n",
      "<div>The below HTML has the information that has email ids.</div>\n",
      "abc@example.com\n",
      "<div>xyz@example.com</div>\n",
      "<span>foo@example.com</span>\n",
      "</body></html>\n"
     ]
    }
   ],
   "source": [
    "print(soup.find_all(True))\n",
    "\n",
    "print()\n",
    "\n",
    "print(soup.find(True))"
   ]
  },
  {
   "cell_type": "code",
   "execution_count": 100,
   "metadata": {
    "collapsed": false
   },
   "outputs": [
    {
     "name": "stdout",
     "output_type": "stream",
     "text": [
      "<p data-custom=\"custom\">custom attribute\n",
      "example</p>\n"
     ]
    }
   ],
   "source": [
    "customattr = \"\"\"<p data-custom=\"custom\">custom attribute\n",
    "example</p>\"\"\"\n",
    "customsoup = BeautifulSoup(customattr,'lxml')\n",
    "# customSoup.find(data-custom=\"custom\")\n",
    "\n",
    "using_attrs = customsoup.find(attrs={'data-custom':'custom'})\n",
    "print(using_attrs)"
   ]
  },
  {
   "cell_type": "code",
   "execution_count": 113,
   "metadata": {
    "collapsed": false
   },
   "outputs": [
    {
     "name": "stdout",
     "output_type": "stream",
     "text": [
      "<div class=\"identical\">\n",
      "Example of div tag with class identical\n",
      "</div>\n"
     ]
    }
   ],
   "source": [
    "identi = \"\"\"\n",
    "<p class=\"identical\">\n",
    "Example of p tag with class identical\n",
    "</p>\n",
    "<div class=\"identical\">\n",
    "Example of div tag with class identical\n",
    "</div>\n",
    "\"\"\"\n",
    "\n",
    "identi_Soup = BeautifulSoup(identi, 'lxml')\n",
    "\n",
    "# print(identi_Soup.prettify)\n",
    "\n",
    "identical_div = identi_Soup.find(name=\"div\", attrs={\"class\":\"identical\"})\n",
    "\n",
    "print(identical_div)"
   ]
  },
  {
   "cell_type": "markdown",
   "metadata": {},
   "source": [
    "html page below was supposed to be like this, kinda, e_e :\n",
    "    \n",
    "<div class=\"views-field-title\">\n",
    "<span class=\"field-content\">\n",
    "<a href=\"/angularjs-web-application-development/book\">\n",
    "Mastering Web Application Development with AngularJS</a>\n",
    "</span>\n",
    "</div>\n",
    "<div class=\"views-field-field-date-of-publication-value\">\n",
    "<span class=\"field-content\">Published: August 2013</span>\n",
    "</div>\n",
    "<div class=\"views-field-sell-price\">\n",
    "<label class=\"views-label-sell-price\">\n",
    "Our price:\n",
    "</label>\n",
    "<span class=\"field-content\">\n",
    "1,386.00</span>\n",
    "</div>"
   ]
  },
  {
   "cell_type": "code",
   "execution_count": 166,
   "metadata": {
    "collapsed": false
   },
   "outputs": [],
   "source": [
    "url = \"http://www.packtpub.com/books\"\n",
    "\n",
    "# ei link chole na \n",
    "\n",
    "page = urllib.request.urlopen(url)\n",
    "\n",
    "soup_package = BeautifulSoup(page, 'lxml')\n",
    "\n",
    "page.close()"
   ]
  },
  {
   "cell_type": "code",
   "execution_count": 168,
   "metadata": {
    "collapsed": false
   },
   "outputs": [
    {
     "ename": "AttributeError",
     "evalue": "'NoneType' object has no attribute 'find_all'",
     "output_type": "error",
     "traceback": [
      "\u001b[0;31m---------------------------------------------------------------------------\u001b[0m",
      "\u001b[0;31mAttributeError\u001b[0m                            Traceback (most recent call last)",
      "\u001b[0;32m<ipython-input-168-c3861b02c8f0>\u001b[0m in \u001b[0;36m<module>\u001b[0;34m()\u001b[0m\n\u001b[1;32m      1\u001b[0m \u001b[0mall_books_table\u001b[0m \u001b[0;34m=\u001b[0m \u001b[0msoup_package\u001b[0m\u001b[0;34m.\u001b[0m\u001b[0mfind\u001b[0m\u001b[0;34m(\u001b[0m\u001b[0;34m\"table\"\u001b[0m\u001b[0;34m,\u001b[0m\u001b[0mclass_\u001b[0m\u001b[0;34m=\u001b[0m\u001b[0;34m'views-view-grid'\u001b[0m\u001b[0;34m)\u001b[0m\u001b[0;34m\u001b[0m\u001b[0m\n\u001b[1;32m      2\u001b[0m \u001b[0;34m\u001b[0m\u001b[0m\n\u001b[0;32m----> 3\u001b[0;31m \u001b[0mall_book_titles\u001b[0m \u001b[0;34m=\u001b[0m \u001b[0mall_books_table\u001b[0m\u001b[0;34m.\u001b[0m\u001b[0mfind_all\u001b[0m\u001b[0;34m(\u001b[0m\u001b[0;34m\"div\"\u001b[0m\u001b[0;34m,\u001b[0m\u001b[0mclass_\u001b[0m\u001b[0;34m=\u001b[0m\u001b[0;34m\"views-field-title\"\u001b[0m\u001b[0;34m)\u001b[0m\u001b[0;34m\u001b[0m\u001b[0m\n\u001b[0m\u001b[1;32m      4\u001b[0m \u001b[0;34m\u001b[0m\u001b[0m\n\u001b[1;32m      5\u001b[0m \u001b[0;34m\u001b[0m\u001b[0m\n",
      "\u001b[0;31mAttributeError\u001b[0m: 'NoneType' object has no attribute 'find_all'"
     ]
    }
   ],
   "source": [
    "# tai er porer eitao chole na\n",
    "\n",
    "all_books_table = soup_package.find(\"table\",class_='views-view-grid')\n",
    "\n",
    "all_book_titles = all_books_table.find_all(\"div\",class_=\"views-field-title\")\n",
    "\n",
    "\n"
   ]
  },
  {
   "cell_type": "code",
   "execution_count": null,
   "metadata": {
    "collapsed": true
   },
   "outputs": [],
   "source": [
    "#you get the drill, etao bhota\n",
    "\n",
    "for book_title in all_book_titles:\n",
    "    book_title_span = book_title.span\n",
    "    print(\"Title Name is :\"+book_title_span.a.string)\n",
    "    published_date = book_title.find_next(\"div\",class_=\"views-field-\n",
    "    field-date-of-publication-value\")\n",
    "    print(\"Published Date is :\"+published_date.span.string)\n",
    "    price = book_title.find_next(\"div\",class_=\"views-field-sell-\n",
    "    price\")\n",
    "    print(\"Price is :\"+price.span.string)"
   ]
  },
  {
   "cell_type": "markdown",
   "metadata": {},
   "source": [
    "#But jodi cholto\n",
    "\n",
    "#output\n",
    "Title Name is :Mastering Web Application Development with AngularJS\n",
    "    \n",
    "Published Date is :Published: August 2013\n",
    "Price is :\n",
    "1,386.00\n",
    "Title Name is :Building Machine Learning Systems with Python\n",
    "Published Date is :Published: July 2013\n",
    "Price is :\n",
    "1,540.00\n",
    "Title Name is :Beginning Yii [Video]\n",
    "Published Date is :Published: April 2012\n",
    "Price is :\n",
    "1,078.00\n",
    "Title Name is :Responsive Web Design with HTML5 and CSS3\n",
    "Published Date is :Published: April 2012\n",
    "Price is :\n",
    "1,232.00\n",
    "Title Name is :jQuery UI 1.8: The User Interface Library for jQuery\n",
    "Published Date is :Published: August 2011\n",
    "Price is :\n",
    "1,386.00\n",
    "......"
   ]
  },
  {
   "cell_type": "code",
   "execution_count": 26,
   "metadata": {
    "collapsed": false
   },
   "outputs": [
    {
     "name": "stdout",
     "output_type": "stream",
     "text": [
      "<ul id=\"producers\">\n",
      "<li class=\"producerlist\">\n",
      "<div class=\"name\">plants</div>\n",
      "<div class=\"number\">100000</div>\n",
      "</li>\n",
      "<li class=\"producerlist\">\n",
      "<div class=\"name\">algae</div>\n",
      "<div class=\"number\">100000</div>\n",
      "</li>\n",
      "</ul>\n",
      "\n",
      "<li class=\"producerlist\">\n",
      "<div class=\"name\">plants</div>\n",
      "<div class=\"number\">100000</div>\n",
      "</li>\n",
      "\n",
      "plants\n"
     ]
    }
   ],
   "source": [
    "html_markup = \"\"\"<div class=\"ecopyramid\">\n",
    "<ul id=\"producers\">\n",
    "<li class=\"producerlist\">\n",
    "<div class=\"name\">plants</div>\n",
    "<div class=\"number\">100000</div>\n",
    "</li>\n",
    "<li class=\"producerlist\">\n",
    "<div class=\"name\">algae</div>\n",
    "<div class=\"number\">100000</div>\n",
    "</li>\n",
    "</ul>\n",
    "</div>\"\"\"\n",
    "\n",
    "saup = BeautifulSoup(html_markup, 'lxml')\n",
    "\n",
    "producer_entries = saup.ul\n",
    "\n",
    "print(producer_entries)\n",
    "\n",
    "first_prod = producer_entries.li\n",
    "\n",
    "print()\n",
    "\n",
    "print(first_prod)\n",
    "\n",
    "print()\n",
    "\n",
    "producer_name = first_prod.div.string\n",
    "\n",
    "print(producer_name)"
   ]
  },
  {
   "cell_type": "code",
   "execution_count": 14,
   "metadata": {
    "collapsed": false
   },
   "outputs": [
    {
     "name": "stdout",
     "output_type": "stream",
     "text": [
      "[<html><body><div class=\"ecopyramid\">\n",
      "<ul id=\"producers\">\n",
      "<li class=\"producerlist\">\n",
      "<div class=\"name\">plants</div>\n",
      "<div class=\"number\">100000</div>\n",
      "</li>\n",
      "<li class=\"producerlist\">\n",
      "<div class=\"name\">algae</div>\n",
      "<div class=\"number\">100000</div>\n",
      "</li>\n",
      "</ul>\n",
      "</div></body></html>]\n",
      "\n",
      "<class 'list'>\n",
      "\n",
      "1\n"
     ]
    }
   ],
   "source": [
    "print(saup.contents)\n",
    "\n",
    "from os import linesep\n",
    "\n",
    "print(linesep + str(type(saup.contents)))\n",
    "\n",
    "print(linesep + str(len(saup.contents)))"
   ]
  },
  {
   "cell_type": "code",
   "execution_count": 16,
   "metadata": {
    "collapsed": false
   },
   "outputs": [
    {
     "name": "stdout",
     "output_type": "stream",
     "text": [
      "html\n"
     ]
    }
   ],
   "source": [
    "for tag in saup.contents:\n",
    "    print(tag.name)"
   ]
  },
  {
   "cell_type": "code",
   "execution_count": 23,
   "metadata": {
    "collapsed": false
   },
   "outputs": [
    {
     "name": "stdout",
     "output_type": "stream",
     "text": [
      "<ul id=\"producers\">\n",
      "<li class=\"producerlist\">\n",
      "<div class=\"name\">plants</div>\n",
      "<div class=\"number\">100000</div>\n",
      "</li>\n",
      "<li class=\"producerlist\">\n",
      "<div class=\"name\">algae</div>\n",
      "<div class=\"number\">100000</div>\n",
      "</li>\n",
      "</ul>\n",
      "\n",
      "5\n",
      "\n",
      "\n",
      "\n",
      "Counter: 1\n",
      "\n",
      "\n",
      "Counter: 2<li class=\"producerlist\">\n",
      "<div class=\"name\">plants</div>\n",
      "<div class=\"number\">100000</div>\n",
      "</li>\n",
      "\n",
      "Counter: 3\n",
      "\n",
      "\n",
      "Counter: 4<li class=\"producerlist\">\n",
      "<div class=\"name\">algae</div>\n",
      "<div class=\"number\">100000</div>\n",
      "</li>\n",
      "\n",
      "Counter: 5\n",
      "\n",
      "\n"
     ]
    }
   ],
   "source": [
    "print(producer_entries)\n",
    "\n",
    "print(linesep + str(len(producer_entries)) + linesep)\n",
    "\n",
    "print(linesep)\n",
    "\n",
    "c = 1\n",
    "\n",
    "for child in producer_entries.contents:\n",
    "    print(\"Counter: \" + str(c) + str(child) + linesep)\n",
    "    c = c+ 1"
   ]
  },
  {
   "cell_type": "code",
   "execution_count": 24,
   "metadata": {
    "collapsed": false
   },
   "outputs": [
    {
     "name": "stdout",
     "output_type": "stream",
     "text": [
      "html\n",
      "body\n",
      "div\n",
      "\n",
      "\n",
      "ul\n",
      "\n",
      "\n",
      "li\n",
      "\n",
      "\n",
      "div\n",
      "plants\n",
      "\n",
      "\n",
      "div\n",
      "100000\n",
      "\n",
      "\n",
      "\n",
      "\n",
      "li\n",
      "\n",
      "\n",
      "div\n",
      "algae\n",
      "\n",
      "\n",
      "div\n",
      "100000\n",
      "\n",
      "\n",
      "\n",
      "\n",
      "\n",
      "\n"
     ]
    }
   ],
   "source": [
    "from bs4.element import NavigableString\n",
    "\n",
    "for tag in saup.descendants:\n",
    "    if isinstance(tag, NavigableString):\n",
    "        print(tag)\n",
    "    else:\n",
    "        print(tag.name)"
   ]
  },
  {
   "cell_type": "code",
   "execution_count": 28,
   "metadata": {
    "collapsed": false
   },
   "outputs": [
    {
     "name": "stdout",
     "output_type": "stream",
     "text": [
      "None\n",
      "\n",
      "\n"
     ]
    }
   ],
   "source": [
    "first_producer = saup.div\n",
    "\n",
    "print(first_producer.string)\n"
   ]
  },
  {
   "cell_type": "code",
   "execution_count": 32,
   "metadata": {
    "collapsed": false
   },
   "outputs": [
    {
     "name": "stdout",
     "output_type": "stream",
     "text": [
      "ul\n",
      "\n",
      "<ul id=\"producers\">\n",
      "<li class=\"producerlist\">\n",
      "<div class=\"name\">plants</div>\n",
      "<div class=\"number\">100000</div>\n",
      "</li>\n",
      "<li class=\"producerlist\">\n",
      "<div class=\"name\">algae</div>\n",
      "<div class=\"number\">100000</div>\n",
      "</li>\n",
      "</ul>\n"
     ]
    }
   ],
   "source": [
    "html_markup = \"\"\"<div class=\"ecopyramid\">\n",
    "<ul id=\"producers\">\n",
    "<li class=\"producerlist\">\n",
    "<div class=\"name\">plants</div>\n",
    "<div class=\"number\">100000</div>\n",
    "</li>\n",
    "<li class=\"producerlist\">\n",
    "<div class=\"name\">algae</div>\n",
    "<div class=\"number\">100000</div>\n",
    "</li>\n",
    "</ul>\"\"\"\n",
    "\n",
    "soup = BeautifulSoup(html_markup, 'lxml')\n",
    "\n",
    "producer_entries = soup.ul\n",
    "\n",
    "print(producer_entries.name)\n",
    "\n",
    "print(linesep + str(producer_entries))"
   ]
  },
  {
   "cell_type": "code",
   "execution_count": 35,
   "metadata": {
    "collapsed": false
   },
   "outputs": [
    {
     "name": "stdout",
     "output_type": "stream",
     "text": [
      "<div id=\"producers\">\n",
      " <li class=\"producerlist\">\n",
      "  <div class=\"name\">\n",
      "   plants\n",
      "  </div>\n",
      "  <div class=\"number\">\n",
      "   100000\n",
      "  </div>\n",
      " </li>\n",
      " <li class=\"producerlist\">\n",
      "  <div class=\"name\">\n",
      "   algae\n",
      "  </div>\n",
      "  <div class=\"number\">\n",
      "   100000\n",
      "  </div>\n",
      " </li>\n",
      "</div>\n"
     ]
    }
   ],
   "source": [
    "producer_entries.name = \"div\"\n",
    "\n",
    "print(producer_entries.prettify())"
   ]
  },
  {
   "cell_type": "code",
   "execution_count": 39,
   "metadata": {
    "collapsed": false
   },
   "outputs": [
    {
     "name": "stdout",
     "output_type": "stream",
     "text": [
      "<div id=\"producers_new_value\">\n",
      " <li class=\"producerlist\">\n",
      "  <div class=\"name\">\n",
      "   plants\n",
      "  </div>\n",
      "  <div class=\"number\">\n",
      "   100000\n",
      "  </div>\n",
      " </li>\n",
      " <li class=\"producerlist\">\n",
      "  <div class=\"name\">\n",
      "   algae\n",
      "  </div>\n",
      "  <div class=\"number\">\n",
      "   100000\n",
      "  </div>\n",
      " </li>\n",
      "</div>\n"
     ]
    }
   ],
   "source": [
    "producer_entries['id'] = \"producers_new_value\"\n",
    "\n",
    "print(producer_entries.prettify())"
   ]
  },
  {
   "cell_type": "code",
   "execution_count": 44,
   "metadata": {
    "collapsed": false
   },
   "outputs": [
    {
     "name": "stdout",
     "output_type": "stream",
     "text": [
      "div\n",
      "\n",
      "<div class=\"newclass\" id=\"producers_new_value\">\n",
      " <li class=\"producerlist\">\n",
      "  <div class=\"name\">\n",
      "   plants\n",
      "  </div>\n",
      "  <div class=\"number\">\n",
      "   100000\n",
      "  </div>\n",
      " </li>\n",
      " <li class=\"producerlist\">\n",
      "  <div class=\"name\">\n",
      "   algae\n",
      "  </div>\n",
      "  <div class=\"number\">\n",
      "   100000\n",
      "  </div>\n",
      " </li>\n",
      "</div>\n"
     ]
    }
   ],
   "source": [
    "print((producer_entries.name) + linesep)\n",
    "\n",
    "producer_entries['class'] = 'newclass'\n",
    "\n",
    "print(producer_entries.prettify())"
   ]
  },
  {
   "cell_type": "code",
   "execution_count": 45,
   "metadata": {
    "collapsed": false
   },
   "outputs": [
    {
     "name": "stdout",
     "output_type": "stream",
     "text": [
      "<div id=\"producers_new_value\">\n",
      "<li class=\"producerlist\">\n",
      "<div class=\"name\">plants</div>\n",
      "<div class=\"number\">100000</div>\n",
      "</li>\n",
      "<li class=\"producerlist\">\n",
      "<div class=\"name\">algae</div>\n",
      "<div class=\"number\">100000</div>\n",
      "</li>\n",
      "</div>\n"
     ]
    }
   ],
   "source": [
    "del producer_entries['class']\n",
    "\n",
    "print(producer_entries)"
   ]
  },
  {
   "cell_type": "code",
   "execution_count": 53,
   "metadata": {
    "collapsed": false
   },
   "outputs": [
    {
     "name": "stdout",
     "output_type": "stream",
     "text": [
      "<html><body><div class=\"ecopyramid\">\n",
      "<div id=\"producers_new_value\">\n",
      "<li class=\"producerlist\">\n",
      "<div class=\"name\">plants</div>\n",
      "<div class=\"number\">100000</div>\n",
      "</li>\n",
      "<li class=\"producerlist\">\n",
      "<div class=\"name\">algae</div>\n",
      "<div class=\"number\">100000</div>\n",
      "</li>\n",
      "</div></div></body></html>\n",
      "\n"
     ]
    },
    {
     "ename": "AttributeError",
     "evalue": "'NoneType' object has no attribute 'prettify'",
     "output_type": "error",
     "traceback": [
      "\u001b[0;31m---------------------------------------------------------------------------\u001b[0m",
      "\u001b[0;31mAttributeError\u001b[0m                            Traceback (most recent call last)",
      "\u001b[0;32m<ipython-input-53-b84245640a2d>\u001b[0m in \u001b[0;36m<module>\u001b[0;34m()\u001b[0m\n\u001b[1;32m     15\u001b[0m \u001b[0mproducer_entries\u001b[0m \u001b[0;34m=\u001b[0m \u001b[0msoup\u001b[0m\u001b[0;34m.\u001b[0m\u001b[0mul\u001b[0m\u001b[0;34m\u001b[0m\u001b[0m\n\u001b[1;32m     16\u001b[0m \u001b[0;34m\u001b[0m\u001b[0m\n\u001b[0;32m---> 17\u001b[0;31m \u001b[0mprint\u001b[0m\u001b[0;34m(\u001b[0m\u001b[0mlinesep\u001b[0m \u001b[0;34m+\u001b[0m \u001b[0mstr\u001b[0m\u001b[0;34m(\u001b[0m\u001b[0mproducer_entries\u001b[0m\u001b[0;34m.\u001b[0m\u001b[0mprettify\u001b[0m\u001b[0;34m(\u001b[0m\u001b[0;34m)\u001b[0m\u001b[0;34m)\u001b[0m\u001b[0;34m)\u001b[0m\u001b[0;34m\u001b[0m\u001b[0m\n\u001b[0m\u001b[1;32m     18\u001b[0m \u001b[0;34m\u001b[0m\u001b[0m\n\u001b[1;32m     19\u001b[0m \u001b[0mproducer_entries\u001b[0m\u001b[0;34m.\u001b[0m\u001b[0mappend\u001b[0m\u001b[0;34m(\u001b[0m\u001b[0mnew_li_tag\u001b[0m\u001b[0;34m)\u001b[0m\u001b[0;34m\u001b[0m\u001b[0m\n",
      "\u001b[0;31mAttributeError\u001b[0m: 'NoneType' object has no attribute 'prettify'"
     ]
    }
   ],
   "source": [
    "#needs debugging / tracing , doesnt work. code runs thou\n",
    "\n",
    "print(str(soup) + linesep)\n",
    "\n",
    "new_li_tag = soup.new_tag('li')\n",
    "\n",
    "#print(str(soup) + linesep)\n",
    "\n",
    "new_a_tag = soup.new_tag(\"a\", href=\"www.example.com\")\n",
    "\n",
    "#print(str(soup) + linesep)\n",
    "\n",
    "new_li_tag.attrs  = {'class':'producerlist'}\n",
    "\n",
    "#print(str(soup) + linesep)\n",
    "\n",
    "producer_entries = soup.ul\n",
    "\n",
    "print(linesep + str(producer_entries.prettify()))\n",
    "\n",
    "producer_entries.append(new_li_tag)\n",
    "\n",
    "print(producer_entries.prettify())\n"
   ]
  }
 ],
 "metadata": {
  "kernelspec": {
   "display_name": "Python 3",
   "language": "python",
   "name": "python3"
  },
  "language_info": {
   "codemirror_mode": {
    "name": "ipython",
    "version": 3
   },
   "file_extension": ".py",
   "mimetype": "text/x-python",
   "name": "python",
   "nbconvert_exporter": "python",
   "pygments_lexer": "ipython3",
   "version": "3.5.2"
  }
 },
 "nbformat": 4,
 "nbformat_minor": 2
}
