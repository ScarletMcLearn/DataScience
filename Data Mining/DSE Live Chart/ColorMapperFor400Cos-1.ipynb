{
 "cells": [
  {
   "cell_type": "code",
   "execution_count": 32,
   "id": "63ed8c6c-cbe4-4d24-bab9-20b1a0ea770f",
   "metadata": {},
   "outputs": [],
   "source": [
    "from colorama import Fore, Style\n",
    "from selenium import webdriver\n",
    "from selenium.webdriver.common.keys import Keys\n",
    "from selenium.webdriver.common.by import By\n",
    "import time, random\n",
    "from bokeh.plotting import figure, show, curdoc\n",
    "from bokeh.models import DatetimeTickFormatter\n",
    "from datetime import datetime\n",
    "import random\n",
    "from bokeh.models import ContinuousColorMapper\n",
    "from bokeh.palettes import Viridis256\n",
    "from bokeh.transform import linear_cmap\n",
    "from bokeh.palettes import Turbo256\n",
    "from bokeh.palettes import Category10, Category20, Category20b, Category20c\n",
    "from bokeh.plotting import figure, show\n",
    "from bokeh.models import HoverTool\n",
    "from bokeh.models import HoverTool, ColumnDataSource, DatetimeTickFormatter\n",
    "from bokeh.models import LinearColorMapper\n",
    "from tqdm import tqdm\n",
    "import pandas as pd\n",
    "from selenium.webdriver.support.wait import WebDriverWait\n",
    "from selenium.webdriver.support import expected_conditions as EC\n",
    "from bs4 import BeautifulSoup\n",
    "from datetime import datetime, timedelta\n",
    "from bokeh.models import Legend, LegendItem\n",
    "\n",
    "def scroll(d):\n",
    "    SCROLL_PAUSE_TIME = 0.5 \n",
    "    # Get scroll height\n",
    "    last_height = d.execute_script(\"return document.body.scrollHeight\")\n",
    "    while True:\n",
    "        # Scroll down to bottom\n",
    "        d.execute_script(\"window.scrollTo(0, document.body.scrollHeight);\")\n",
    "        # Wait to load page\n",
    "        time.sleep(SCROLL_PAUSE_TIME)\n",
    "        # Calculate new scroll height and compare with last scroll height\n",
    "        new_height = d.execute_script(\"return document.body.scrollHeight\")\n",
    "        if new_height == last_height:\n",
    "            break\n",
    "        last_height = new_height\n",
    "\n",
    "\n",
    "def tqdm_sleep(sec):\n",
    "    for i in tqdm(range(sec)):\n",
    "        time.sleep(1)\n",
    "\n",
    "\n",
    "def generate_datetime_objects(no_of_obj, no_already_avail):\n",
    "    x_values = []\n",
    "    current_datetime = datetime.now()\n",
    "\n",
    "    for i in range(no_already_avail, no_already_avail + no_of_obj):\n",
    "        start_datetime = current_datetime.replace(hour=i + 1, minute=0, second=0, microsecond=0)\n",
    "        end_datetime = current_datetime.replace(hour=i + 2, minute=0, second=0, microsecond=0)\n",
    "        new_datetime = start_datetime + timedelta(seconds=random.randint(0, int((end_datetime - start_datetime).total_seconds())))\n",
    "\n",
    "        x_values.append(new_datetime)\n",
    "\n",
    "    return x_values\n",
    "\n",
    "def generate_random_floats(n_of_obj):\n",
    "    return [random.uniform(0, 100) for _ in range(n_of_obj)]\n",
    "\n",
    "def draw_shape(figure, source, x_col_name, y_col_name, shape, size, fill_color, border_color, border_width, alpha, line_dash, line_alpha, line_cap, line_join, line_smoothing,):\n",
    "    # if cmap_cond==True:\n",
    "    #     mapper = linear_cmap(field_name=\"y\", palette=Turbo256, \n",
    "    #                  low=100, high=0)\n",
    "    #     color = mapper\n",
    "        # border_color = mapper\n",
    "        # fill_color = mapper\n",
    "    if shape=='circle' or shape=='c':\n",
    "        item = figure.circle(x=x_col_name, y=y_col_name, source=source, size=size, fill_color=fill_color, line_color=border_color, line_width=border_width, alpha=alpha)\n",
    "    elif shape=='square' or shape=='s':\n",
    "        item = figure.square(x=x_col_name, y=y_col_name, source=source, size=size, fill_color=fill_color, line_color=border_color, line_width=border_width, alpha=alpha)\n",
    "    elif shape=='diamond' or shape=='d':\n",
    "        item = figure.diamond(x=x_col_name, y=y_col_name, source=source, size=size, fill_color=fill_color, line_color=border_color, line_width=border_width, alpha=alpha)\n",
    "    elif shape=='triangle' or shape=='t':\n",
    "        item = figure.triangle(x=x_col_name, y=y_col_name, source=source, size=size, fill_color=fill_color, line_color=border_color, line_width=border_width, alpha=alpha)\n",
    "    elif shape=='cross' or shape=='+':\n",
    "        item = figure.cross(x=x_col_name, y=y_col_name, source=source, size=size,  fill_color=fill_color, \n",
    "                line_color=border_color, line_width=border_width, alpha=alpha)\n",
    "    elif shape=='X' or shape=='x':\n",
    "        item = figure.x(x=x_col_name, y=y_col_name, source=source, size=size,  fill_color=fill_color, \n",
    "                line_color=border_color, line_width=border_width, alpha=alpha)\n",
    "    elif shape=='asterisk' or shape=='*':\n",
    "        item = figure.asterisk(x=x_col_name, y=y_col_name, source=source, size=size,  fill_color=fill_color, \n",
    "                line_color=border_color, line_width=border_width, alpha=alpha)\n",
    "    elif shape=='circle_cross' or shape=='c+':\n",
    "        item = figure.circle_cross(x=x_col_name, y=y_col_name, source=source, size=size,  fill_color=fill_color, \n",
    "                line_color=border_color, line_width=border_width, alpha=alpha)\n",
    "    elif shape=='circle_x' or shape=='cx':\n",
    "        item = figure.circle_x(x=x_col_name, y=y_col_name, source=source, size=size,  fill_color=fill_color, \n",
    "                line_color=border_color, line_width=border_width, alpha=alpha)\n",
    "    elif shape=='inverted_triangle' or shape=='it':\n",
    "        item = figure.inverted_triangle(x=x_col_name, y=y_col_name, source=source,  size=size, fill_color=fill_color, \n",
    "                line_color=border_color, line_width=border_width, alpha=alpha)\n",
    "    elif shape=='square_cross' or shape=='s+':\n",
    "        item = figure.square_cross(x=x_col_name, y=y_col_name, source=source, size=size,  fill_color=fill_color, \n",
    "                line_color=border_color, line_width=border_width, alpha=alpha)\n",
    "    elif shape=='square_x' or shape=='sx':\n",
    "        item = figure.square_x(x=x_col_name, y=y_col_name, source=source, size=size,  fill_color=fill_color, \n",
    "                line_color=border_color, line_width=border_width, alpha=alpha)\n",
    "    elif shape=='plus' or shape=='p':\n",
    "        item = figure.plus(x=x_col_name, y=y_col_name, source=source, size=size,  fill_color=fill_color, \n",
    "                line_color=border_color, line_width=border_width, alpha=alpha)\n",
    "    elif shape=='diamond_cross' or shape=='d+':\n",
    "        item = figure.diamond_cross(x=x_col_name, y=y_col_name, source=source, size=size,  fill_color=fill_color, \n",
    "                line_color=border_color, line_width=border_width, alpha=alpha)\n",
    "    elif shape=='diamond_x' or shape=='dx':\n",
    "        item = figure.diamond_x(x=x_col_name, y=y_col_name, source=source, size=size,  fill_color=fill_color, \n",
    "                line_color=border_color, line_width=border_width, alpha=alpha)\n",
    "    elif shape=='hex' or shape=='h':\n",
    "        item = figure.hex(x=x_col_name, y=y_col_name, source=source, size=size,  fill_color=fill_color, \n",
    "                line_color=border_color, line_width=border_width, alpha=alpha)\n",
    "    elif shape=='y':\n",
    "        item = figure.y(x=x_col_name, y=y_col_name, source=source, size=size,  fill_color=fill_color, \n",
    "                line_color=border_color, line_width=border_width, alpha=alpha)\n",
    "    elif shape=='-' or shape=='dash':\n",
    "        item = figure.dash(x=x_col_name, y=y_col_name, source=source, size=size,  fill_color=fill_color, \n",
    "                line_color=border_color, line_width=border_width, alpha=alpha)\n",
    "    elif shape=='line' or shape=='l':\n",
    "        # Line cap / line join : \"butt\", \"round\", or \"square\"\n",
    "        # miter, round or bevel\n",
    "        item = figure.line(x=x_col_name, y=y_col_name, source=source, #size=size, \n",
    "               # fill_color=fill_color, \n",
    "                line_color=border_color, line_width=border_width, alpha=alpha, line_dash=line_dash, line_alpha=alpha,  line_cap=line_cap, line_join=line_join, \n",
    "               # line_smoothing=line_smoothing\n",
    "              )\n",
    "        # Final line\n",
    "    # figure.line(x=x_col_name, y=y_col_name, source=source, #size=size, \n",
    "    #            # fill_color=fill_color, \n",
    "    #             line_color=border_color, line_width=border_width, alpha=alpha, line_dash=line_dash, line_alpha=alpha,  line_cap=line_cap, line_join=line_join, \n",
    "               # line_smoothing=line_smoothing\n",
    "              # )\n",
    "    return figure, item\n",
    "\n",
    "# Perfection Here\n",
    "p = figure(\n",
    "    title=\"Dhaka Stock Exchange Live Change\",\n",
    "    x_axis_type=\"datetime\",\n",
    "    sizing_mode=\"scale_both\",\n",
    "    max_width=900,\n",
    "    max_height=300,\n",
    "    width=900,\n",
    "    height=900\n",
    ")\n",
    "\n",
    "p.title.align = \"center\"\n",
    "# Set x-axis and y-axis labels\n",
    "p.xaxis.axis_label = \"Date-Time\"\n",
    "p.yaxis.axis_label = \"Percentage Change (%)\"\n",
    "\n",
    "p.xaxis.formatter = DatetimeTickFormatter(hours=\"%H:%M\")\n",
    "\n",
    "curdoc().theme = 'dark_minimal'\n",
    "\n",
    "global source\n",
    "no_of_obj = 6\n",
    "x_values = []\n",
    "no_already_avail = len(x_values)\n",
    "x_values += generate_datetime_objects(no_of_obj, no_already_avail)\n",
    "\n",
    "y_1_values = generate_random_floats(len(x_values))\n",
    "y_2_values = generate_random_floats(len(x_values))\n",
    "y_3_values = generate_random_floats(len(x_values))\n",
    "y_4_values = generate_random_floats(len(x_values))\n",
    "\n",
    "# print(len(x_values))\n",
    "# print(len(y_1_values))\n",
    "# print(len(y_2_values))\n",
    "source = ColumnDataSource(data=dict(x_values=x_values, y_1_values=y_1_values, y_2_values=y_2_values, y_3_values=y_3_values, y_4_values=y_4_values))\n",
    "\n",
    "\n",
    "mapper = linear_cmap(field_name=\"y_1_values\", palette=Turbo256, \n",
    "                     low=100, high=0)\n",
    "p, i2 = draw_shape(x_col_name='x_values', y_col_name='y_1_values', source=source, figure=p, shape='c', size=30, fill_color=mapper, border_color='white', border_width=3, alpha=0.3, line_smoothing=0.9, line_join='round', line_cap='round', line_alpha=0.6, line_dash='solid', )\n",
    "\n",
    "p, i3 = draw_shape(x_col_name='x_values', y_col_name='y_1_values', source=source, figure=p, shape='l', size=30, fill_color='#1ee8af', border_color='#1ee8af', border_width=8, alpha=1, line_smoothing=0.9, line_join='round', line_cap='round', line_alpha=0.6, line_dash='solid', )\n",
    "\n",
    "# p, i4 = draw_shape(x_col_name='x_values', y_col_name='y_2_values', source=source, figure=p, shape='c', size=30, fill_color=mapper, border_color='white', border_width=3, alpha=0.3, line_smoothing=0.9, line_join='round', line_cap='round', line_alpha=0.6, line_dash='4 4', )\n",
    "\n",
    "# p, i5 = draw_shape(x_col_name='x_values', y_col_name='y_2_values', source=source, figure=p, shape='l', size=30, fill_color='blue', border_color='white', border_width=3, alpha=0.3, line_smoothing=0.9, line_join='round', line_cap='round', line_alpha=0.6, line_dash='4 4', )\n",
    "\n",
    "\n",
    "# p, i6 = draw_shape(x_col_name='x_values', y_col_name='y_3_values', source=source, figure=p, shape='c', size=30, fill_color='pink', border_color='white', border_width=3, alpha=0.3, line_smoothing=0.9, line_join='round', line_cap='round', line_alpha=0.6, line_dash='4 4', )\n",
    "\n",
    "# p, i7 = draw_shape(x_col_name='x_values', y_col_name='y_3_values', source=source, figure=p, shape='l', size=30, fill_color='blue', border_color='white', border_width=3, alpha=0.3, line_smoothing=0.9, line_join='round', line_cap='round', line_alpha=0.6, line_dash='4 4', )\n",
    "\n",
    "i2_i3 = LegendItem(label=\"Circle Line 1\", renderers=[i2, i3])\n",
    "# i4_i5 = LegendItem(label=\"Circle Line 2\", renderers=[i4, i5])\n",
    "# i6_i7 = LegendItem(label=\"Circle Line 3\", renderers=[i6, i7])\n",
    "\n",
    "legend_item = []\n",
    "legend_item.append(i2_i3)\n",
    "# legend_item.append(i4_i5)\n",
    "# legend_item.append(i6_i7)\n",
    "\n",
    "\n",
    "legend = Legend(items=legend_item, location=\"top_left\", orientation=\"vertical\")\n",
    "\n",
    "# Add the legend to the figure\n",
    "p.add_layout(legend)\n",
    "\n",
    "# Show the plot\n",
    "show(p)"
   ]
  },
  {
   "cell_type": "code",
   "execution_count": null,
   "id": "6061687f-5a23-42aa-8328-b1cb4e727426",
   "metadata": {},
   "outputs": [],
   "source": []
  },
  {
   "cell_type": "code",
   "execution_count": 1,
   "id": "5a1ecc53-8efd-4007-8fc4-662ca42df19c",
   "metadata": {},
   "outputs": [],
   "source": [
    "import colorsys\n",
    "\n",
    "def generate_distinct_colors(num_colors):\n",
    "    colors = []\n",
    "    hue = 0.0\n",
    "    saturation = 0.8\n",
    "    value = 0.8\n",
    "\n",
    "    for _ in range(num_colors):\n",
    "        r, g, b = colorsys.hsv_to_rgb(hue, saturation, value)\n",
    "        r = int(r * 255)\n",
    "        g = int(g * 255)\n",
    "        b = int(b * 255)\n",
    "        colors.append('#{:02x}{:02x}{:02x}'.format(r, g, b))\n",
    "        hue += 1.0 / num_colors\n",
    "\n",
    "    return colors\n",
    "\n",
    "# Generate 400 distinct colors\n",
    "distinct_colors = generate_distinct_colors(400)\n",
    "\n",
    "# Each color in the `distinct_colors` list is a unique color\n",
    "\n"
   ]
  },
  {
   "cell_type": "code",
   "execution_count": 4,
   "id": "fbb07d45-d080-45ca-beb2-6f84ff24169e",
   "metadata": {},
   "outputs": [
    {
     "name": "stdout",
     "output_type": "stream",
     "text": [
      "['#cc2828', '#cc2b28', '#cc2d28', '#cc3028', '#cc3228', '#cc3528', '#cc3728', '#cc3928', '#cc3c28', '#cc3e28']\n"
     ]
    }
   ],
   "source": [
    "print(distinct_colors[:10])"
   ]
  },
  {
   "cell_type": "code",
   "execution_count": 75,
   "id": "1ff6c9b3-d1c5-4270-a580-6eea7a1a9f7b",
   "metadata": {},
   "outputs": [
    {
     "name": "stdout",
     "output_type": "stream",
     "text": [
      "['#5ff2ba', '#982727', '#0edc99']\n"
     ]
    }
   ],
   "source": [
    "# from bokeh.palettes import Turbo256\n",
    "\n",
    "# def get_colors(num_categories: int):\n",
    "#     colors = Turbo256[50:241]\n",
    "#     step = len(colors) // num_categories\n",
    "#     return [colors[i] for i in range(0, len(colors), step)]\n",
    "\n",
    "# from bokeh.palettes import Turbo256\n",
    "\n",
    "# def get_colors(num_categories: int):\n",
    "#     colors = Turbo256[50:241]\n",
    "#     step = len(colors) // num_categories\n",
    "#     return [colors[i] for i in range(0, len(colors[:num_categories * step]), step)]\n",
    "\n",
    "# import numpy as np\n",
    "# from matplotlib.pyplot import get_cmap\n",
    "\n",
    "# def get_colors(num_categories: int):\n",
    "#     colormap = get_cmap('viridis', num_categories)\n",
    "#     colors = [colormap(i) for i in range(colormap.N)]\n",
    "#     colors = [\"#%02x%02x%02x\" % (int(r*255), int(g*255), int(b*255)) for r, g, b, _ in colors]\n",
    "#     step = len(colors) // num_categories\n",
    "#     return [colors[i] for i in range(0, len(colors[:num_categories * step]), step)]\n",
    "\n",
    "\n",
    "import numpy as np\n",
    "from matplotlib.pyplot import get_cmap\n",
    "\n",
    "# def get_colors(num_categories: int):\n",
    "#     colormap = get_cmap('viridis', num_categories)\n",
    "#     colors = [colormap(i % colormap.N) for i in range(num_categories)]\n",
    "#     colors = [\"#%02x%02x%02x\" % (int(r*255), int(g*255), int(b*255)) for r, g, b, _ in colors]\n",
    "#     return colors\n",
    "\n",
    "def get_colors(num_categories: int):\n",
    "    np.random.seed(42)  # Setting a random seed for consistent results\n",
    "    colors = []\n",
    "    while len(colors) < num_categories:\n",
    "        color = tuple(np.random.uniform(0, 1, 3))\n",
    "        hex_color = \"#{:02x}{:02x}{:02x}\".format(*[int(c * 255) for c in color])\n",
    "        if hex_color not in colors:\n",
    "            colors.append(hex_color)\n",
    "    return colors\n",
    "\n",
    "num_categories = 3\n",
    "colors = get_colors(num_categories)\n",
    "print(colors)"
   ]
  },
  {
   "cell_type": "code",
   "execution_count": 70,
   "id": "2f5e5636-65e5-48a6-a0ad-f491d4dd262b",
   "metadata": {},
   "outputs": [],
   "source": [
    "# !pip install matplotlib"
   ]
  },
  {
   "cell_type": "code",
   "execution_count": 63,
   "id": "2b5ce33b-1f59-4583-8ff5-7ef7640d6b9b",
   "metadata": {},
   "outputs": [],
   "source": [
    "# get_colors(400)"
   ]
  },
  {
   "cell_type": "code",
   "execution_count": null,
   "id": "1daf415f-cd0f-4220-acfc-b0f1173d9b38",
   "metadata": {},
   "outputs": [],
   "source": []
  },
  {
   "cell_type": "code",
   "execution_count": 33,
   "id": "1776f666-400d-4a01-ad09-4e4f1cb7e3a1",
   "metadata": {},
   "outputs": [],
   "source": [
    "# from bokeh.io import output_notebook, show\n",
    "# from bokeh.models import ColumnDataSource, CategoricalColorMapper\n",
    "# from bokeh.plotting import figure\n",
    "# from bokeh.transform import factor_cmap\n",
    "\n",
    "# # Define the companies and colors\n",
    "# companies = [\"Company A\", \"Company B\", \"Company C\"]\n",
    "# colors = [\"red\", \"green\", \"blue\"]\n",
    "\n",
    "# # Define x and y values\n",
    "# x_values = [1, 2, 3, 4, 5]\n",
    "# y_values = [5, 4, 3, 2, 1]\n",
    "\n",
    "# # Create a data source\n",
    "# source = ColumnDataSource(data=dict(x=x_values, y=y_values))\n",
    "\n",
    "# # Define the color mapper\n",
    "# color_mapper = CategoricalColorMapper(factors=companies, palette=colors)\n",
    "\n",
    "# # Create the plot\n",
    "# # Create a figure\n",
    "# p = figure(title='Line Plot', x_axis_label='X', y_axis_label='Y')\n",
    "\n",
    "# # Plot the line for 'Company A' with the assigned color\n",
    "# p.line(x='x', y='y', legend_label='Company A', line_color=color_mapper, source=source)\n",
    "\n",
    "# # Show the plot\n",
    "# show(p)\n",
    "\n"
   ]
  },
  {
   "cell_type": "code",
   "execution_count": 76,
   "id": "f8776ec8-cf8e-4b79-bf5d-429adf2386ac",
   "metadata": {},
   "outputs": [
    {
     "data": {
      "text/html": [
       "<div style=\"display: flex; align-items: center;\"><div style=\"background-color: #3f98fe; width: 100px; height: 30px; display: inline-block; vertical-align: middle;\"></div><span style=\"margin-left: 5px;\">#3f98fe</span></div>"
      ],
      "text/plain": [
       "<IPython.core.display.HTML object>"
      ]
     },
     "metadata": {},
     "output_type": "display_data"
    },
    {
     "data": {
      "text/html": [
       "<div style=\"display: flex; align-items: center;\"><div style=\"background-color: #1ee8af; width: 100px; height: 30px; display: inline-block; vertical-align: middle;\"></div><span style=\"margin-left: 5px;\">#1ee8af</span></div>"
      ],
      "text/plain": [
       "<IPython.core.display.HTML object>"
      ]
     },
     "metadata": {},
     "output_type": "display_data"
    },
    {
     "data": {
      "text/html": [
       "<div style=\"display: flex; align-items: center;\"><div style=\"background-color: #9efd3e; width: 100px; height: 30px; display: inline-block; vertical-align: middle;\"></div><span style=\"margin-left: 5px;\">#9efd3e</span></div>"
      ],
      "text/plain": [
       "<IPython.core.display.HTML object>"
      ]
     },
     "metadata": {},
     "output_type": "display_data"
    },
    {
     "data": {
      "text/html": [
       "<div style=\"display: flex; align-items: center;\"><div style=\"background-color: #f3c63a; width: 100px; height: 30px; display: inline-block; vertical-align: middle;\"></div><span style=\"margin-left: 5px;\">#f3c63a</span></div>"
      ],
      "text/plain": [
       "<IPython.core.display.HTML object>"
      ]
     },
     "metadata": {},
     "output_type": "display_data"
    },
    {
     "data": {
      "text/html": [
       "<div style=\"display: flex; align-items: center;\"><div style=\"background-color: #f26014; width: 100px; height: 30px; display: inline-block; vertical-align: middle;\"></div><span style=\"margin-left: 5px;\">#f26014</span></div>"
      ],
      "text/plain": [
       "<IPython.core.display.HTML object>"
      ]
     },
     "metadata": {},
     "output_type": "display_data"
    },
    {
     "data": {
      "text/html": [
       "<div style=\"display: flex; align-items: center;\"><div style=\"background-color: #a91501; width: 100px; height: 30px; display: inline-block; vertical-align: middle;\"></div><span style=\"margin-left: 5px;\">#a91501</span></div>"
      ],
      "text/plain": [
       "<IPython.core.display.HTML object>"
      ]
     },
     "metadata": {},
     "output_type": "display_data"
    }
   ],
   "source": [
    "from IPython.display import display, HTML\n",
    "\n",
    "def display_color_with_string(hex_code):\n",
    "    color_style = f\"background-color: {hex_code}; width: 100px; height: 30px; display: inline-block; vertical-align: middle;\"\n",
    "    color_html = f'<div style=\"{color_style}\"></div>'\n",
    "    display(HTML(f'<div style=\"display: flex; align-items: center;\">{color_html}<span style=\"margin-left: 5px;\">{hex_code}</span></div>'))\n",
    "\n",
    "color_list = ['#3f98fe', '#1ee8af', '#9efd3e', '#f3c63a', '#f26014', '#a91501']\n",
    "\n",
    "def disp_color_list(color_list):\n",
    "    for hex_code in color_list:\n",
    "        display_color_with_string(hex_code)\n",
    "\n",
    "disp_color_list(color_list)"
   ]
  },
  {
   "cell_type": "code",
   "execution_count": 78,
   "id": "df2a8807-8e2b-4b93-b9a8-e9f66fe7835b",
   "metadata": {},
   "outputs": [
    {
     "data": {
      "text/html": [
       "<div style=\"display: flex; align-items: center;\"><div style=\"background-color: #5ff2ba; width: 100px; height: 30px; display: inline-block; vertical-align: middle;\"></div><span style=\"margin-left: 5px;\">#5ff2ba</span></div>"
      ],
      "text/plain": [
       "<IPython.core.display.HTML object>"
      ]
     },
     "metadata": {},
     "output_type": "display_data"
    },
    {
     "data": {
      "text/html": [
       "<div style=\"display: flex; align-items: center;\"><div style=\"background-color: #982727; width: 100px; height: 30px; display: inline-block; vertical-align: middle;\"></div><span style=\"margin-left: 5px;\">#982727</span></div>"
      ],
      "text/plain": [
       "<IPython.core.display.HTML object>"
      ]
     },
     "metadata": {},
     "output_type": "display_data"
    },
    {
     "data": {
      "text/html": [
       "<div style=\"display: flex; align-items: center;\"><div style=\"background-color: #0edc99; width: 100px; height: 30px; display: inline-block; vertical-align: middle;\"></div><span style=\"margin-left: 5px;\">#0edc99</span></div>"
      ],
      "text/plain": [
       "<IPython.core.display.HTML object>"
      ]
     },
     "metadata": {},
     "output_type": "display_data"
    },
    {
     "data": {
      "text/html": [
       "<div style=\"display: flex; align-items: center;\"><div style=\"background-color: #b405f7; width: 100px; height: 30px; display: inline-block; vertical-align: middle;\"></div><span style=\"margin-left: 5px;\">#b405f7</span></div>"
      ],
      "text/plain": [
       "<IPython.core.display.HTML object>"
      ]
     },
     "metadata": {},
     "output_type": "display_data"
    },
    {
     "data": {
      "text/html": [
       "<div style=\"display: flex; align-items: center;\"><div style=\"background-color: #d4362e; width: 100px; height: 30px; display: inline-block; vertical-align: middle;\"></div><span style=\"margin-left: 5px;\">#d4362e</span></div>"
      ],
      "text/plain": [
       "<IPython.core.display.HTML object>"
      ]
     },
     "metadata": {},
     "output_type": "display_data"
    },
    {
     "data": {
      "text/html": [
       "<div style=\"display: flex; align-items: center;\"><div style=\"background-color: #2e4d85; width: 100px; height: 30px; display: inline-block; vertical-align: middle;\"></div><span style=\"margin-left: 5px;\">#2e4d85</span></div>"
      ],
      "text/plain": [
       "<IPython.core.display.HTML object>"
      ]
     },
     "metadata": {},
     "output_type": "display_data"
    },
    {
     "data": {
      "text/html": [
       "<div style=\"display: flex; align-items: center;\"><div style=\"background-color: #6e4a9c; width: 100px; height: 30px; display: inline-block; vertical-align: middle;\"></div><span style=\"margin-left: 5px;\">#6e4a9c</span></div>"
      ],
      "text/plain": [
       "<IPython.core.display.HTML object>"
      ]
     },
     "metadata": {},
     "output_type": "display_data"
    },
    {
     "data": {
      "text/html": [
       "<div style=\"display: flex; align-items: center;\"><div style=\"background-color: #234a5d; width: 100px; height: 30px; display: inline-block; vertical-align: middle;\"></div><span style=\"margin-left: 5px;\">#234a5d</span></div>"
      ],
      "text/plain": [
       "<IPython.core.display.HTML object>"
      ]
     },
     "metadata": {},
     "output_type": "display_data"
    },
    {
     "data": {
      "text/html": [
       "<div style=\"display: flex; align-items: center;\"><div style=\"background-color: #74c832; width: 100px; height: 30px; display: inline-block; vertical-align: middle;\"></div><span style=\"margin-left: 5px;\">#74c832</span></div>"
      ],
      "text/plain": [
       "<IPython.core.display.HTML object>"
      ]
     },
     "metadata": {},
     "output_type": "display_data"
    },
    {
     "data": {
      "text/html": [
       "<div style=\"display: flex; align-items: center;\"><div style=\"background-color: #83970b; width: 100px; height: 30px; display: inline-block; vertical-align: middle;\"></div><span style=\"margin-left: 5px;\">#83970b</span></div>"
      ],
      "text/plain": [
       "<IPython.core.display.HTML object>"
      ]
     },
     "metadata": {},
     "output_type": "display_data"
    },
    {
     "data": {
      "text/html": [
       "<div style=\"display: flex; align-items: center;\"><div style=\"background-color: #9a2b10; width: 100px; height: 30px; display: inline-block; vertical-align: middle;\"></div><span style=\"margin-left: 5px;\">#9a2b10</span></div>"
      ],
      "text/plain": [
       "<IPython.core.display.HTML object>"
      ]
     },
     "metadata": {},
     "output_type": "display_data"
    },
    {
     "data": {
      "text/html": [
       "<div style=\"display: flex; align-items: center;\"><div style=\"background-color: #f1f6ce; width: 100px; height: 30px; display: inline-block; vertical-align: middle;\"></div><span style=\"margin-left: 5px;\">#f1f6ce</span></div>"
      ],
      "text/plain": [
       "<IPython.core.display.HTML object>"
      ]
     },
     "metadata": {},
     "output_type": "display_data"
    },
    {
     "data": {
      "text/html": [
       "<div style=\"display: flex; align-items: center;\"><div style=\"background-color: #4d18ae; width: 100px; height: 30px; display: inline-block; vertical-align: middle;\"></div><span style=\"margin-left: 5px;\">#4d18ae</span></div>"
      ],
      "text/plain": [
       "<IPython.core.display.HTML object>"
      ]
     },
     "metadata": {},
     "output_type": "display_data"
    },
    {
     "data": {
      "text/html": [
       "<div style=\"display: flex; align-items: center;\"><div style=\"background-color: #701f7e; width: 100px; height: 30px; display: inline-block; vertical-align: middle;\"></div><span style=\"margin-left: 5px;\">#701f7e</span></div>"
      ],
      "text/plain": [
       "<IPython.core.display.HTML object>"
      ]
     },
     "metadata": {},
     "output_type": "display_data"
    },
    {
     "data": {
      "text/html": [
       "<div style=\"display: flex; align-items: center;\"><div style=\"background-color: #08e741; width: 100px; height: 30px; display: inline-block; vertical-align: middle;\"></div><span style=\"margin-left: 5px;\">#08e741</span></div>"
      ],
      "text/plain": [
       "<IPython.core.display.HTML object>"
      ]
     },
     "metadata": {},
     "output_type": "display_data"
    },
    {
     "data": {
      "text/html": [
       "<div style=\"display: flex; align-items: center;\"><div style=\"background-color: #a84f84; width: 100px; height: 30px; display: inline-block; vertical-align: middle;\"></div><span style=\"margin-left: 5px;\">#a84f84</span></div>"
      ],
      "text/plain": [
       "<IPython.core.display.HTML object>"
      ]
     },
     "metadata": {},
     "output_type": "display_data"
    },
    {
     "data": {
      "text/html": [
       "<div style=\"display: flex; align-items: center;\"><div style=\"background-color: #8b2ff7; width: 100px; height: 30px; display: inline-block; vertical-align: middle;\"></div><span style=\"margin-left: 5px;\">#8b2ff7</span></div>"
      ],
      "text/plain": [
       "<IPython.core.display.HTML object>"
      ]
     },
     "metadata": {},
     "output_type": "display_data"
    },
    {
     "data": {
      "text/html": [
       "<div style=\"display: flex; align-items: center;\"><div style=\"background-color: #c5efe4; width: 100px; height: 30px; display: inline-block; vertical-align: middle;\"></div><span style=\"margin-left: 5px;\">#c5efe4</span></div>"
      ],
      "text/plain": [
       "<IPython.core.display.HTML object>"
      ]
     },
     "metadata": {},
     "output_type": "display_data"
    },
    {
     "data": {
      "text/html": [
       "<div style=\"display: flex; align-items: center;\"><div style=\"background-color: #98eb16; width: 100px; height: 30px; display: inline-block; vertical-align: middle;\"></div><span style=\"margin-left: 5px;\">#98eb16</span></div>"
      ],
      "text/plain": [
       "<IPython.core.display.HTML object>"
      ]
     },
     "metadata": {},
     "output_type": "display_data"
    },
    {
     "data": {
      "text/html": [
       "<div style=\"display: flex; align-items: center;\"><div style=\"background-color: #310b52; width: 100px; height: 30px; display: inline-block; vertical-align: middle;\"></div><span style=\"margin-left: 5px;\">#310b52</span></div>"
      ],
      "text/plain": [
       "<IPython.core.display.HTML object>"
      ]
     },
     "metadata": {},
     "output_type": "display_data"
    },
    {
     "data": {
      "text/html": [
       "<div style=\"display: flex; align-items: center;\"><div style=\"background-color: #6345d3; width: 100px; height: 30px; display: inline-block; vertical-align: middle;\"></div><span style=\"margin-left: 5px;\">#6345d3</span></div>"
      ],
      "text/plain": [
       "<IPython.core.display.HTML object>"
      ]
     },
     "metadata": {},
     "output_type": "display_data"
    },
    {
     "data": {
      "text/html": [
       "<div style=\"display: flex; align-items: center;\"><div style=\"background-color: #5a478a; width: 100px; height: 30px; display: inline-block; vertical-align: middle;\"></div><span style=\"margin-left: 5px;\">#5a478a</span></div>"
      ],
      "text/plain": [
       "<IPython.core.display.HTML object>"
      ]
     },
     "metadata": {},
     "output_type": "display_data"
    },
    {
     "data": {
      "text/html": [
       "<div style=\"display: flex; align-items: center;\"><div style=\"background-color: #23cc13; width: 100px; height: 30px; display: inline-block; vertical-align: middle;\"></div><span style=\"margin-left: 5px;\">#23cc13</span></div>"
      ],
      "text/plain": [
       "<IPython.core.display.HTML object>"
      ]
     },
     "metadata": {},
     "output_type": "display_data"
    },
    {
     "data": {
      "text/html": [
       "<div style=\"display: flex; align-items: center;\"><div style=\"background-color: #fbc432; width: 100px; height: 30px; display: inline-block; vertical-align: middle;\"></div><span style=\"margin-left: 5px;\">#fbc432</span></div>"
      ],
      "text/plain": [
       "<IPython.core.display.HTML object>"
      ]
     },
     "metadata": {},
     "output_type": "display_data"
    },
    {
     "data": {
      "text/html": [
       "<div style=\"display: flex; align-items: center;\"><div style=\"background-color: #01cfb4; width: 100px; height: 30px; display: inline-block; vertical-align: middle;\"></div><span style=\"margin-left: 5px;\">#01cfb4</span></div>"
      ],
      "text/plain": [
       "<IPython.core.display.HTML object>"
      ]
     },
     "metadata": {},
     "output_type": "display_data"
    },
    {
     "data": {
      "text/html": [
       "<div style=\"display: flex; align-items: center;\"><div style=\"background-color: #b9c412; width: 100px; height: 30px; display: inline-block; vertical-align: middle;\"></div><span style=\"margin-left: 5px;\">#b9c412</span></div>"
      ],
      "text/plain": [
       "<IPython.core.display.HTML object>"
      ]
     },
     "metadata": {},
     "output_type": "display_data"
    },
    {
     "data": {
      "text/html": [
       "<div style=\"display: flex; align-items: center;\"><div style=\"background-color: #5b1ddc; width: 100px; height: 30px; display: inline-block; vertical-align: middle;\"></div><span style=\"margin-left: 5px;\">#5b1ddc</span></div>"
      ],
      "text/plain": [
       "<IPython.core.display.HTML object>"
      ]
     },
     "metadata": {},
     "output_type": "display_data"
    },
    {
     "data": {
      "text/html": [
       "<div style=\"display: flex; align-items: center;\"><div style=\"background-color: #9e5410; width: 100px; height: 30px; display: inline-block; vertical-align: middle;\"></div><span style=\"margin-left: 5px;\">#9e5410</span></div>"
      ],
      "text/plain": [
       "<IPython.core.display.HTML object>"
      ]
     },
     "metadata": {},
     "output_type": "display_data"
    },
    {
     "data": {
      "text/html": [
       "<div style=\"display: flex; align-items: center;\"><div style=\"background-color: #4f52ba; width: 100px; height: 30px; display: inline-block; vertical-align: middle;\"></div><span style=\"margin-left: 5px;\">#4f52ba</span></div>"
      ],
      "text/plain": [
       "<IPython.core.display.HTML object>"
      ]
     },
     "metadata": {},
     "output_type": "display_data"
    },
    {
     "data": {
      "text/html": [
       "<div style=\"display: flex; align-items: center;\"><div style=\"background-color: #a2e278; width: 100px; height: 30px; display: inline-block; vertical-align: middle;\"></div><span style=\"margin-left: 5px;\">#a2e278</span></div>"
      ],
      "text/plain": [
       "<IPython.core.display.HTML object>"
      ]
     },
     "metadata": {},
     "output_type": "display_data"
    },
    {
     "data": {
      "text/html": [
       "<div style=\"display: flex; align-items: center;\"><div style=\"background-color: #1eb5c2; width: 100px; height: 30px; display: inline-block; vertical-align: middle;\"></div><span style=\"margin-left: 5px;\">#1eb5c2</span></div>"
      ],
      "text/plain": [
       "<IPython.core.display.HTML object>"
      ]
     },
     "metadata": {},
     "output_type": "display_data"
    },
    {
     "data": {
      "text/html": [
       "<div style=\"display: flex; align-items: center;\"><div style=\"background-color: #8fc47d; width: 100px; height: 30px; display: inline-block; vertical-align: middle;\"></div><span style=\"margin-left: 5px;\">#8fc47d</span></div>"
      ],
      "text/plain": [
       "<IPython.core.display.HTML object>"
      ]
     },
     "metadata": {},
     "output_type": "display_data"
    },
    {
     "data": {
      "text/html": [
       "<div style=\"display: flex; align-items: center;\"><div style=\"background-color: #856d06; width: 100px; height: 30px; display: inline-block; vertical-align: middle;\"></div><span style=\"margin-left: 5px;\">#856d06</span></div>"
      ],
      "text/plain": [
       "<IPython.core.display.HTML object>"
      ]
     },
     "metadata": {},
     "output_type": "display_data"
    },
    {
     "data": {
      "text/html": [
       "<div style=\"display: flex; align-items: center;\"><div style=\"background-color: #1b08a2; width: 100px; height: 30px; display: inline-block; vertical-align: middle;\"></div><span style=\"margin-left: 5px;\">#1b08a2</span></div>"
      ],
      "text/plain": [
       "<IPython.core.display.HTML object>"
      ]
     },
     "metadata": {},
     "output_type": "display_data"
    },
    {
     "data": {
      "text/html": [
       "<div style=\"display: flex; align-items: center;\"><div style=\"background-color: #5081e7; width: 100px; height: 30px; display: inline-block; vertical-align: middle;\"></div><span style=\"margin-left: 5px;\">#5081e7</span></div>"
      ],
      "text/plain": [
       "<IPython.core.display.HTML object>"
      ]
     },
     "metadata": {},
     "output_type": "display_data"
    },
    {
     "data": {
      "text/html": [
       "<div style=\"display: flex; align-items: center;\"><div style=\"background-color: #3f68c0; width: 100px; height: 30px; display: inline-block; vertical-align: middle;\"></div><span style=\"margin-left: 5px;\">#3f68c0</span></div>"
      ],
      "text/plain": [
       "<IPython.core.display.HTML object>"
      ]
     },
     "metadata": {},
     "output_type": "display_data"
    },
    {
     "data": {
      "text/html": [
       "<div style=\"display: flex; align-items: center;\"><div style=\"background-color: #3a1349; width: 100px; height: 30px; display: inline-block; vertical-align: middle;\"></div><span style=\"margin-left: 5px;\">#3a1349</span></div>"
      ],
      "text/plain": [
       "<IPython.core.display.HTML object>"
      ]
     },
     "metadata": {},
     "output_type": "display_data"
    },
    {
     "data": {
      "text/html": [
       "<div style=\"display: flex; align-items: center;\"><div style=\"background-color: #29edce; width: 100px; height: 30px; display: inline-block; vertical-align: middle;\"></div><span style=\"margin-left: 5px;\">#29edce</span></div>"
      ],
      "text/plain": [
       "<IPython.core.display.HTML object>"
      ]
     },
     "metadata": {},
     "output_type": "display_data"
    },
    {
     "data": {
      "text/html": [
       "<div style=\"display: flex; align-items: center;\"><div style=\"background-color: #a1decc; width: 100px; height: 30px; display: inline-block; vertical-align: middle;\"></div><span style=\"margin-left: 5px;\">#a1decc</span></div>"
      ],
      "text/plain": [
       "<IPython.core.display.HTML object>"
      ]
     },
     "metadata": {},
     "output_type": "display_data"
    },
    {
     "data": {
      "text/html": [
       "<div style=\"display: flex; align-items: center;\"><div style=\"background-color: #2fe389; width: 100px; height: 30px; display: inline-block; vertical-align: middle;\"></div><span style=\"margin-left: 5px;\">#2fe389</span></div>"
      ],
      "text/plain": [
       "<IPython.core.display.HTML object>"
      ]
     },
     "metadata": {},
     "output_type": "display_data"
    },
    {
     "data": {
      "text/html": [
       "<div style=\"display: flex; align-items: center;\"><div style=\"background-color: #cde451; width: 100px; height: 30px; display: inline-block; vertical-align: middle;\"></div><span style=\"margin-left: 5px;\">#cde451</span></div>"
      ],
      "text/plain": [
       "<IPython.core.display.HTML object>"
      ]
     },
     "metadata": {},
     "output_type": "display_data"
    },
    {
     "data": {
      "text/html": [
       "<div style=\"display: flex; align-items: center;\"><div style=\"background-color: #1c3a6c; width: 100px; height: 30px; display: inline-block; vertical-align: middle;\"></div><span style=\"margin-left: 5px;\">#1c3a6c</span></div>"
      ],
      "text/plain": [
       "<IPython.core.display.HTML object>"
      ]
     },
     "metadata": {},
     "output_type": "display_data"
    },
    {
     "data": {
      "text/html": [
       "<div style=\"display: flex; align-items: center;\"><div style=\"background-color: #d0db01; width: 100px; height: 30px; display: inline-block; vertical-align: middle;\"></div><span style=\"margin-left: 5px;\">#d0db01</span></div>"
      ],
      "text/plain": [
       "<IPython.core.display.HTML object>"
      ]
     },
     "metadata": {},
     "output_type": "display_data"
    },
    {
     "data": {
      "text/html": [
       "<div style=\"display: flex; align-items: center;\"><div style=\"background-color: #826a38; width: 100px; height: 30px; display: inline-block; vertical-align: middle;\"></div><span style=\"margin-left: 5px;\">#826a38</span></div>"
      ],
      "text/plain": [
       "<IPython.core.display.HTML object>"
      ]
     },
     "metadata": {},
     "output_type": "display_data"
    },
    {
     "data": {
      "text/html": [
       "<div style=\"display: flex; align-items: center;\"><div style=\"background-color: #1e56f0; width: 100px; height: 30px; display: inline-block; vertical-align: middle;\"></div><span style=\"margin-left: 5px;\">#1e56f0</span></div>"
      ],
      "text/plain": [
       "<IPython.core.display.HTML object>"
      ]
     },
     "metadata": {},
     "output_type": "display_data"
    },
    {
     "data": {
      "text/html": [
       "<div style=\"display: flex; align-items: center;\"><div style=\"background-color: #5284b3; width: 100px; height: 30px; display: inline-block; vertical-align: middle;\"></div><span style=\"margin-left: 5px;\">#5284b3</span></div>"
      ],
      "text/plain": [
       "<IPython.core.display.HTML object>"
      ]
     },
     "metadata": {},
     "output_type": "display_data"
    },
    {
     "data": {
      "text/html": [
       "<div style=\"display: flex; align-items: center;\"><div style=\"background-color: #5cf7f5; width: 100px; height: 30px; display: inline-block; vertical-align: middle;\"></div><span style=\"margin-left: 5px;\">#5cf7f5</span></div>"
      ],
      "text/plain": [
       "<IPython.core.display.HTML object>"
      ]
     },
     "metadata": {},
     "output_type": "display_data"
    },
    {
     "data": {
      "text/html": [
       "<div style=\"display: flex; align-items: center;\"><div style=\"background-color: #407e4c; width: 100px; height: 30px; display: inline-block; vertical-align: middle;\"></div><span style=\"margin-left: 5px;\">#407e4c</span></div>"
      ],
      "text/plain": [
       "<IPython.core.display.HTML object>"
      ]
     },
     "metadata": {},
     "output_type": "display_data"
    },
    {
     "data": {
      "text/html": [
       "<div style=\"display: flex; align-items: center;\"><div style=\"background-color: #48099b; width: 100px; height: 30px; display: inline-block; vertical-align: middle;\"></div><span style=\"margin-left: 5px;\">#48099b</span></div>"
      ],
      "text/plain": [
       "<IPython.core.display.HTML object>"
      ]
     },
     "metadata": {},
     "output_type": "display_data"
    },
    {
     "data": {
      "text/html": [
       "<div style=\"display: flex; align-items: center;\"><div style=\"background-color: #800d47; width: 100px; height: 30px; display: inline-block; vertical-align: middle;\"></div><span style=\"margin-left: 5px;\">#800d47</span></div>"
      ],
      "text/plain": [
       "<IPython.core.display.HTML object>"
      ]
     },
     "metadata": {},
     "output_type": "display_data"
    },
    {
     "data": {
      "text/html": [
       "<div style=\"display: flex; align-items: center;\"><div style=\"background-color: #e73d24; width: 100px; height: 30px; display: inline-block; vertical-align: middle;\"></div><span style=\"margin-left: 5px;\">#e73d24</span></div>"
      ],
      "text/plain": [
       "<IPython.core.display.HTML object>"
      ]
     },
     "metadata": {},
     "output_type": "display_data"
    },
    {
     "data": {
      "text/html": [
       "<div style=\"display: flex; align-items: center;\"><div style=\"background-color: #7cfb3d; width: 100px; height: 30px; display: inline-block; vertical-align: middle;\"></div><span style=\"margin-left: 5px;\">#7cfb3d</span></div>"
      ],
      "text/plain": [
       "<IPython.core.display.HTML object>"
      ]
     },
     "metadata": {},
     "output_type": "display_data"
    },
    {
     "data": {
      "text/html": [
       "<div style=\"display: flex; align-items: center;\"><div style=\"background-color: #abc23c; width: 100px; height: 30px; display: inline-block; vertical-align: middle;\"></div><span style=\"margin-left: 5px;\">#abc23c</span></div>"
      ],
      "text/plain": [
       "<IPython.core.display.HTML object>"
      ]
     },
     "metadata": {},
     "output_type": "display_data"
    },
    {
     "data": {
      "text/html": [
       "<div style=\"display: flex; align-items: center;\"><div style=\"background-color: #b95da1; width: 100px; height: 30px; display: inline-block; vertical-align: middle;\"></div><span style=\"margin-left: 5px;\">#b95da1</span></div>"
      ],
      "text/plain": [
       "<IPython.core.display.HTML object>"
      ]
     },
     "metadata": {},
     "output_type": "display_data"
    },
    {
     "data": {
      "text/html": [
       "<div style=\"display: flex; align-items: center;\"><div style=\"background-color: #a18817; width: 100px; height: 30px; display: inline-block; vertical-align: middle;\"></div><span style=\"margin-left: 5px;\">#a18817</span></div>"
      ],
      "text/plain": [
       "<IPython.core.display.HTML object>"
      ]
     },
     "metadata": {},
     "output_type": "display_data"
    },
    {
     "data": {
      "text/html": [
       "<div style=\"display: flex; align-items: center;\"><div style=\"background-color: #d5512f; width: 100px; height: 30px; display: inline-block; vertical-align: middle;\"></div><span style=\"margin-left: 5px;\">#d5512f</span></div>"
      ],
      "text/plain": [
       "<IPython.core.display.HTML object>"
      ]
     },
     "metadata": {},
     "output_type": "display_data"
    },
    {
     "data": {
      "text/html": [
       "<div style=\"display: flex; align-items: center;\"><div style=\"background-color: #0a96ac; width: 100px; height: 30px; display: inline-block; vertical-align: middle;\"></div><span style=\"margin-left: 5px;\">#0a96ac</span></div>"
      ],
      "text/plain": [
       "<IPython.core.display.HTML object>"
      ]
     },
     "metadata": {},
     "output_type": "display_data"
    },
    {
     "data": {
      "text/html": [
       "<div style=\"display: flex; align-items: center;\"><div style=\"background-color: #048239; width: 100px; height: 30px; display: inline-block; vertical-align: middle;\"></div><span style=\"margin-left: 5px;\">#048239</span></div>"
      ],
      "text/plain": [
       "<IPython.core.display.HTML object>"
      ]
     },
     "metadata": {},
     "output_type": "display_data"
    },
    {
     "data": {
      "text/html": [
       "<div style=\"display: flex; align-items: center;\"><div style=\"background-color: #a42cb0; width: 100px; height: 30px; display: inline-block; vertical-align: middle;\"></div><span style=\"margin-left: 5px;\">#a42cb0</span></div>"
      ],
      "text/plain": [
       "<IPython.core.display.HTML object>"
      ]
     },
     "metadata": {},
     "output_type": "display_data"
    },
    {
     "data": {
      "text/html": [
       "<div style=\"display: flex; align-items: center;\"><div style=\"background-color: #62ee23; width: 100px; height: 30px; display: inline-block; vertical-align: middle;\"></div><span style=\"margin-left: 5px;\">#62ee23</span></div>"
      ],
      "text/plain": [
       "<IPython.core.display.HTML object>"
      ]
     },
     "metadata": {},
     "output_type": "display_data"
    },
    {
     "data": {
      "text/html": [
       "<div style=\"display: flex; align-items: center;\"><div style=\"background-color: #561ceb; width: 100px; height: 30px; display: inline-block; vertical-align: middle;\"></div><span style=\"margin-left: 5px;\">#561ceb</span></div>"
      ],
      "text/plain": [
       "<IPython.core.display.HTML object>"
      ]
     },
     "metadata": {},
     "output_type": "display_data"
    },
    {
     "data": {
      "text/html": [
       "<div style=\"display: flex; align-items: center;\"><div style=\"background-color: #df41a8; width: 100px; height: 30px; display: inline-block; vertical-align: middle;\"></div><span style=\"margin-left: 5px;\">#df41a8</span></div>"
      ],
      "text/plain": [
       "<IPython.core.display.HTML object>"
      ]
     },
     "metadata": {},
     "output_type": "display_data"
    },
    {
     "data": {
      "text/html": [
       "<div style=\"display: flex; align-items: center;\"><div style=\"background-color: #d08d87; width: 100px; height: 30px; display: inline-block; vertical-align: middle;\"></div><span style=\"margin-left: 5px;\">#d08d87</span></div>"
      ],
      "text/plain": [
       "<IPython.core.display.HTML object>"
      ]
     },
     "metadata": {},
     "output_type": "display_data"
    },
    {
     "data": {
      "text/html": [
       "<div style=\"display: flex; align-items: center;\"><div style=\"background-color: #3d17e4; width: 100px; height: 30px; display: inline-block; vertical-align: middle;\"></div><span style=\"margin-left: 5px;\">#3d17e4</span></div>"
      ],
      "text/plain": [
       "<IPython.core.display.HTML object>"
      ]
     },
     "metadata": {},
     "output_type": "display_data"
    },
    {
     "data": {
      "text/html": [
       "<div style=\"display: flex; align-items: center;\"><div style=\"background-color: #e5a156; width: 100px; height: 30px; display: inline-block; vertical-align: middle;\"></div><span style=\"margin-left: 5px;\">#e5a156</span></div>"
      ],
      "text/plain": [
       "<IPython.core.display.HTML object>"
      ]
     },
     "metadata": {},
     "output_type": "display_data"
    },
    {
     "data": {
      "text/html": [
       "<div style=\"display: flex; align-items: center;\"><div style=\"background-color: #59b9e4; width: 100px; height: 30px; display: inline-block; vertical-align: middle;\"></div><span style=\"margin-left: 5px;\">#59b9e4</span></div>"
      ],
      "text/plain": [
       "<IPython.core.display.HTML object>"
      ]
     },
     "metadata": {},
     "output_type": "display_data"
    },
    {
     "data": {
      "text/html": [
       "<div style=\"display: flex; align-items: center;\"><div style=\"background-color: #e2c6a3; width: 100px; height: 30px; display: inline-block; vertical-align: middle;\"></div><span style=\"margin-left: 5px;\">#e2c6a3</span></div>"
      ],
      "text/plain": [
       "<IPython.core.display.HTML object>"
      ]
     },
     "metadata": {},
     "output_type": "display_data"
    },
    {
     "data": {
      "text/html": [
       "<div style=\"display: flex; align-items: center;\"><div style=\"background-color: #1529e5; width: 100px; height: 30px; display: inline-block; vertical-align: middle;\"></div><span style=\"margin-left: 5px;\">#1529e5</span></div>"
      ],
      "text/plain": [
       "<IPython.core.display.HTML object>"
      ]
     },
     "metadata": {},
     "output_type": "display_data"
    },
    {
     "data": {
      "text/html": [
       "<div style=\"display: flex; align-items: center;\"><div style=\"background-color: #9a0219; width: 100px; height: 30px; display: inline-block; vertical-align: middle;\"></div><span style=\"margin-left: 5px;\">#9a0219</span></div>"
      ],
      "text/plain": [
       "<IPython.core.display.HTML object>"
      ]
     },
     "metadata": {},
     "output_type": "display_data"
    },
    {
     "data": {
      "text/html": [
       "<div style=\"display: flex; align-items: center;\"><div style=\"background-color: #a90129; width: 100px; height: 30px; display: inline-block; vertical-align: middle;\"></div><span style=\"margin-left: 5px;\">#a90129</span></div>"
      ],
      "text/plain": [
       "<IPython.core.display.HTML object>"
      ]
     },
     "metadata": {},
     "output_type": "display_data"
    },
    {
     "data": {
      "text/html": [
       "<div style=\"display: flex; align-items: center;\"><div style=\"background-color: #8bb0a6; width: 100px; height: 30px; display: inline-block; vertical-align: middle;\"></div><span style=\"margin-left: 5px;\">#8bb0a6</span></div>"
      ],
      "text/plain": [
       "<IPython.core.display.HTML object>"
      ]
     },
     "metadata": {},
     "output_type": "display_data"
    },
    {
     "data": {
      "text/html": [
       "<div style=\"display: flex; align-items: center;\"><div style=\"background-color: #39b53c; width: 100px; height: 30px; display: inline-block; vertical-align: middle;\"></div><span style=\"margin-left: 5px;\">#39b53c</span></div>"
      ],
      "text/plain": [
       "<IPython.core.display.HTML object>"
      ]
     },
     "metadata": {},
     "output_type": "display_data"
    },
    {
     "data": {
      "text/html": [
       "<div style=\"display: flex; align-items: center;\"><div style=\"background-color: #52bea5; width: 100px; height: 30px; display: inline-block; vertical-align: middle;\"></div><span style=\"margin-left: 5px;\">#52bea5</span></div>"
      ],
      "text/plain": [
       "<IPython.core.display.HTML object>"
      ]
     },
     "metadata": {},
     "output_type": "display_data"
    },
    {
     "data": {
      "text/html": [
       "<div style=\"display: flex; align-items: center;\"><div style=\"background-color: #d8a790; width: 100px; height: 30px; display: inline-block; vertical-align: middle;\"></div><span style=\"margin-left: 5px;\">#d8a790</span></div>"
      ],
      "text/plain": [
       "<IPython.core.display.HTML object>"
      ]
     },
     "metadata": {},
     "output_type": "display_data"
    },
    {
     "data": {
      "text/html": [
       "<div style=\"display: flex; align-items: center;\"><div style=\"background-color: #175d43; width: 100px; height: 30px; display: inline-block; vertical-align: middle;\"></div><span style=\"margin-left: 5px;\">#175d43</span></div>"
      ],
      "text/plain": [
       "<IPython.core.display.HTML object>"
      ]
     },
     "metadata": {},
     "output_type": "display_data"
    },
    {
     "data": {
      "text/html": [
       "<div style=\"display: flex; align-items: center;\"><div style=\"background-color: #3ef864; width: 100px; height: 30px; display: inline-block; vertical-align: middle;\"></div><span style=\"margin-left: 5px;\">#3ef864</span></div>"
      ],
      "text/plain": [
       "<IPython.core.display.HTML object>"
      ]
     },
     "metadata": {},
     "output_type": "display_data"
    },
    {
     "data": {
      "text/html": [
       "<div style=\"display: flex; align-items: center;\"><div style=\"background-color: #e3a0ca; width: 100px; height: 30px; display: inline-block; vertical-align: middle;\"></div><span style=\"margin-left: 5px;\">#e3a0ca</span></div>"
      ],
      "text/plain": [
       "<IPython.core.display.HTML object>"
      ]
     },
     "metadata": {},
     "output_type": "display_data"
    },
    {
     "data": {
      "text/html": [
       "<div style=\"display: flex; align-items: center;\"><div style=\"background-color: #80937d; width: 100px; height: 30px; display: inline-block; vertical-align: middle;\"></div><span style=\"margin-left: 5px;\">#80937d</span></div>"
      ],
      "text/plain": [
       "<IPython.core.display.HTML object>"
      ]
     },
     "metadata": {},
     "output_type": "display_data"
    },
    {
     "data": {
      "text/html": [
       "<div style=\"display: flex; align-items: center;\"><div style=\"background-color: #31b847; width: 100px; height: 30px; display: inline-block; vertical-align: middle;\"></div><span style=\"margin-left: 5px;\">#31b847</span></div>"
      ],
      "text/plain": [
       "<IPython.core.display.HTML object>"
      ]
     },
     "metadata": {},
     "output_type": "display_data"
    },
    {
     "data": {
      "text/html": [
       "<div style=\"display: flex; align-items: center;\"><div style=\"background-color: #06a42d; width: 100px; height: 30px; display: inline-block; vertical-align: middle;\"></div><span style=\"margin-left: 5px;\">#06a42d</span></div>"
      ],
      "text/plain": [
       "<IPython.core.display.HTML object>"
      ]
     },
     "metadata": {},
     "output_type": "display_data"
    },
    {
     "data": {
      "text/html": [
       "<div style=\"display: flex; align-items: center;\"><div style=\"background-color: #eff3e9; width: 100px; height: 30px; display: inline-block; vertical-align: middle;\"></div><span style=\"margin-left: 5px;\">#eff3e9</span></div>"
      ],
      "text/plain": [
       "<IPython.core.display.HTML object>"
      ]
     },
     "metadata": {},
     "output_type": "display_data"
    },
    {
     "data": {
      "text/html": [
       "<div style=\"display: flex; align-items: center;\"><div style=\"background-color: #5e03ec; width: 100px; height: 30px; display: inline-block; vertical-align: middle;\"></div><span style=\"margin-left: 5px;\">#5e03ec</span></div>"
      ],
      "text/plain": [
       "<IPython.core.display.HTML object>"
      ]
     },
     "metadata": {},
     "output_type": "display_data"
    },
    {
     "data": {
      "text/html": [
       "<div style=\"display: flex; align-items: center;\"><div style=\"background-color: #6df6f5; width: 100px; height: 30px; display: inline-block; vertical-align: middle;\"></div><span style=\"margin-left: 5px;\">#6df6f5</span></div>"
      ],
      "text/plain": [
       "<IPython.core.display.HTML object>"
      ]
     },
     "metadata": {},
     "output_type": "display_data"
    },
    {
     "data": {
      "text/html": [
       "<div style=\"display: flex; align-items: center;\"><div style=\"background-color: #d94b62; width: 100px; height: 30px; display: inline-block; vertical-align: middle;\"></div><span style=\"margin-left: 5px;\">#d94b62</span></div>"
      ],
      "text/plain": [
       "<IPython.core.display.HTML object>"
      ]
     },
     "metadata": {},
     "output_type": "display_data"
    },
    {
     "data": {
      "text/html": [
       "<div style=\"display: flex; align-items: center;\"><div style=\"background-color: #d9502b; width: 100px; height: 30px; display: inline-block; vertical-align: middle;\"></div><span style=\"margin-left: 5px;\">#d9502b</span></div>"
      ],
      "text/plain": [
       "<IPython.core.display.HTML object>"
      ]
     },
     "metadata": {},
     "output_type": "display_data"
    },
    {
     "data": {
      "text/html": [
       "<div style=\"display: flex; align-items: center;\"><div style=\"background-color: #8deeb1; width: 100px; height: 30px; display: inline-block; vertical-align: middle;\"></div><span style=\"margin-left: 5px;\">#8deeb1</span></div>"
      ],
      "text/plain": [
       "<IPython.core.display.HTML object>"
      ]
     },
     "metadata": {},
     "output_type": "display_data"
    },
    {
     "data": {
      "text/html": [
       "<div style=\"display: flex; align-items: center;\"><div style=\"background-color: #91189c; width: 100px; height: 30px; display: inline-block; vertical-align: middle;\"></div><span style=\"margin-left: 5px;\">#91189c</span></div>"
      ],
      "text/plain": [
       "<IPython.core.display.HTML object>"
      ]
     },
     "metadata": {},
     "output_type": "display_data"
    },
    {
     "data": {
      "text/html": [
       "<div style=\"display: flex; align-items: center;\"><div style=\"background-color: #fc2384; width: 100px; height: 30px; display: inline-block; vertical-align: middle;\"></div><span style=\"margin-left: 5px;\">#fc2384</span></div>"
      ],
      "text/plain": [
       "<IPython.core.display.HTML object>"
      ]
     },
     "metadata": {},
     "output_type": "display_data"
    },
    {
     "data": {
      "text/html": [
       "<div style=\"display: flex; align-items: center;\"><div style=\"background-color: #dfbcb1; width: 100px; height: 30px; display: inline-block; vertical-align: middle;\"></div><span style=\"margin-left: 5px;\">#dfbcb1</span></div>"
      ],
      "text/plain": [
       "<IPython.core.display.HTML object>"
      ]
     },
     "metadata": {},
     "output_type": "display_data"
    },
    {
     "data": {
      "text/html": [
       "<div style=\"display: flex; align-items: center;\"><div style=\"background-color: #b35b4a; width: 100px; height: 30px; display: inline-block; vertical-align: middle;\"></div><span style=\"margin-left: 5px;\">#b35b4a</span></div>"
      ],
      "text/plain": [
       "<IPython.core.display.HTML object>"
      ]
     },
     "metadata": {},
     "output_type": "display_data"
    },
    {
     "data": {
      "text/html": [
       "<div style=\"display: flex; align-items: center;\"><div style=\"background-color: #cecedd; width: 100px; height: 30px; display: inline-block; vertical-align: middle;\"></div><span style=\"margin-left: 5px;\">#cecedd</span></div>"
      ],
      "text/plain": [
       "<IPython.core.display.HTML object>"
      ]
     },
     "metadata": {},
     "output_type": "display_data"
    },
    {
     "data": {
      "text/html": [
       "<div style=\"display: flex; align-items: center;\"><div style=\"background-color: #e8827f; width: 100px; height: 30px; display: inline-block; vertical-align: middle;\"></div><span style=\"margin-left: 5px;\">#e8827f</span></div>"
      ],
      "text/plain": [
       "<IPython.core.display.HTML object>"
      ]
     },
     "metadata": {},
     "output_type": "display_data"
    },
    {
     "data": {
      "text/html": [
       "<div style=\"display: flex; align-items: center;\"><div style=\"background-color: #cba5b3; width: 100px; height: 30px; display: inline-block; vertical-align: middle;\"></div><span style=\"margin-left: 5px;\">#cba5b3</span></div>"
      ],
      "text/plain": [
       "<IPython.core.display.HTML object>"
      ]
     },
     "metadata": {},
     "output_type": "display_data"
    },
    {
     "data": {
      "text/html": [
       "<div style=\"display: flex; align-items: center;\"><div style=\"background-color: #cae256; width: 100px; height: 30px; display: inline-block; vertical-align: middle;\"></div><span style=\"margin-left: 5px;\">#cae256</span></div>"
      ],
      "text/plain": [
       "<IPython.core.display.HTML object>"
      ]
     },
     "metadata": {},
     "output_type": "display_data"
    },
    {
     "data": {
      "text/html": [
       "<div style=\"display: flex; align-items: center;\"><div style=\"background-color: #5f1793; width: 100px; height: 30px; display: inline-block; vertical-align: middle;\"></div><span style=\"margin-left: 5px;\">#5f1793</span></div>"
      ],
      "text/plain": [
       "<IPython.core.display.HTML object>"
      ]
     },
     "metadata": {},
     "output_type": "display_data"
    },
    {
     "data": {
      "text/html": [
       "<div style=\"display: flex; align-items: center;\"><div style=\"background-color: #09768a; width: 100px; height: 30px; display: inline-block; vertical-align: middle;\"></div><span style=\"margin-left: 5px;\">#09768a</span></div>"
      ],
      "text/plain": [
       "<IPython.core.display.HTML object>"
      ]
     },
     "metadata": {},
     "output_type": "display_data"
    },
    {
     "data": {
      "text/html": [
       "<div style=\"display: flex; align-items: center;\"><div style=\"background-color: #499607; width: 100px; height: 30px; display: inline-block; vertical-align: middle;\"></div><span style=\"margin-left: 5px;\">#499607</span></div>"
      ],
      "text/plain": [
       "<IPython.core.display.HTML object>"
      ]
     },
     "metadata": {},
     "output_type": "display_data"
    },
    {
     "data": {
      "text/html": [
       "<div style=\"display: flex; align-items: center;\"><div style=\"background-color: #09d15b; width: 100px; height: 30px; display: inline-block; vertical-align: middle;\"></div><span style=\"margin-left: 5px;\">#09d15b</span></div>"
      ],
      "text/plain": [
       "<IPython.core.display.HTML object>"
      ]
     },
     "metadata": {},
     "output_type": "display_data"
    },
    {
     "data": {
      "text/html": [
       "<div style=\"display: flex; align-items: center;\"><div style=\"background-color: #2085c4; width: 100px; height: 30px; display: inline-block; vertical-align: middle;\"></div><span style=\"margin-left: 5px;\">#2085c4</span></div>"
      ],
      "text/plain": [
       "<IPython.core.display.HTML object>"
      ]
     },
     "metadata": {},
     "output_type": "display_data"
    },
    {
     "data": {
      "text/html": [
       "<div style=\"display: flex; align-items: center;\"><div style=\"background-color: #379e15; width: 100px; height: 30px; display: inline-block; vertical-align: middle;\"></div><span style=\"margin-left: 5px;\">#379e15</span></div>"
      ],
      "text/plain": [
       "<IPython.core.display.HTML object>"
      ]
     },
     "metadata": {},
     "output_type": "display_data"
    },
    {
     "data": {
      "text/html": [
       "<div style=\"display: flex; align-items: center;\"><div style=\"background-color: #0d8789; width: 100px; height: 30px; display: inline-block; vertical-align: middle;\"></div><span style=\"margin-left: 5px;\">#0d8789</span></div>"
      ],
      "text/plain": [
       "<IPython.core.display.HTML object>"
      ]
     },
     "metadata": {},
     "output_type": "display_data"
    },
    {
     "data": {
      "text/html": [
       "<div style=\"display: flex; align-items: center;\"><div style=\"background-color: #a2b9f8; width: 100px; height: 30px; display: inline-block; vertical-align: middle;\"></div><span style=\"margin-left: 5px;\">#a2b9f8</span></div>"
      ],
      "text/plain": [
       "<IPython.core.display.HTML object>"
      ]
     },
     "metadata": {},
     "output_type": "display_data"
    },
    {
     "data": {
      "text/html": [
       "<div style=\"display: flex; align-items: center;\"><div style=\"background-color: #8352ca; width: 100px; height: 30px; display: inline-block; vertical-align: middle;\"></div><span style=\"margin-left: 5px;\">#8352ca</span></div>"
      ],
      "text/plain": [
       "<IPython.core.display.HTML object>"
      ]
     },
     "metadata": {},
     "output_type": "display_data"
    },
    {
     "data": {
      "text/html": [
       "<div style=\"display: flex; align-items: center;\"><div style=\"background-color: #456f14; width: 100px; height: 30px; display: inline-block; vertical-align: middle;\"></div><span style=\"margin-left: 5px;\">#456f14</span></div>"
      ],
      "text/plain": [
       "<IPython.core.display.HTML object>"
      ]
     },
     "metadata": {},
     "output_type": "display_data"
    },
    {
     "data": {
      "text/html": [
       "<div style=\"display: flex; align-items: center;\"><div style=\"background-color: #06f5d5; width: 100px; height: 30px; display: inline-block; vertical-align: middle;\"></div><span style=\"margin-left: 5px;\">#06f5d5</span></div>"
      ],
      "text/plain": [
       "<IPython.core.display.HTML object>"
      ]
     },
     "metadata": {},
     "output_type": "display_data"
    },
    {
     "data": {
      "text/html": [
       "<div style=\"display: flex; align-items: center;\"><div style=\"background-color: #b1682c; width: 100px; height: 30px; display: inline-block; vertical-align: middle;\"></div><span style=\"margin-left: 5px;\">#b1682c</span></div>"
      ],
      "text/plain": [
       "<IPython.core.display.HTML object>"
      ]
     },
     "metadata": {},
     "output_type": "display_data"
    },
    {
     "data": {
      "text/html": [
       "<div style=\"display: flex; align-items: center;\"><div style=\"background-color: #273f8c; width: 100px; height: 30px; display: inline-block; vertical-align: middle;\"></div><span style=\"margin-left: 5px;\">#273f8c</span></div>"
      ],
      "text/plain": [
       "<IPython.core.display.HTML object>"
      ]
     },
     "metadata": {},
     "output_type": "display_data"
    },
    {
     "data": {
      "text/html": [
       "<div style=\"display: flex; align-items: center;\"><div style=\"background-color: #b6a847; width: 100px; height: 30px; display: inline-block; vertical-align: middle;\"></div><span style=\"margin-left: 5px;\">#b6a847</span></div>"
      ],
      "text/plain": [
       "<IPython.core.display.HTML object>"
      ]
     },
     "metadata": {},
     "output_type": "display_data"
    },
    {
     "data": {
      "text/html": [
       "<div style=\"display: flex; align-items: center;\"><div style=\"background-color: #f3bc8d; width: 100px; height: 30px; display: inline-block; vertical-align: middle;\"></div><span style=\"margin-left: 5px;\">#f3bc8d</span></div>"
      ],
      "text/plain": [
       "<IPython.core.display.HTML object>"
      ]
     },
     "metadata": {},
     "output_type": "display_data"
    },
    {
     "data": {
      "text/html": [
       "<div style=\"display: flex; align-items: center;\"><div style=\"background-color: #9b6a3f; width: 100px; height: 30px; display: inline-block; vertical-align: middle;\"></div><span style=\"margin-left: 5px;\">#9b6a3f</span></div>"
      ],
      "text/plain": [
       "<IPython.core.display.HTML object>"
      ]
     },
     "metadata": {},
     "output_type": "display_data"
    },
    {
     "data": {
      "text/html": [
       "<div style=\"display: flex; align-items: center;\"><div style=\"background-color: #5ac103; width: 100px; height: 30px; display: inline-block; vertical-align: middle;\"></div><span style=\"margin-left: 5px;\">#5ac103</span></div>"
      ],
      "text/plain": [
       "<IPython.core.display.HTML object>"
      ]
     },
     "metadata": {},
     "output_type": "display_data"
    },
    {
     "data": {
      "text/html": [
       "<div style=\"display: flex; align-items: center;\"><div style=\"background-color: #1d0b0a; width: 100px; height: 30px; display: inline-block; vertical-align: middle;\"></div><span style=\"margin-left: 5px;\">#1d0b0a</span></div>"
      ],
      "text/plain": [
       "<IPython.core.display.HTML object>"
      ]
     },
     "metadata": {},
     "output_type": "display_data"
    },
    {
     "data": {
      "text/html": [
       "<div style=\"display: flex; align-items: center;\"><div style=\"background-color: #dab378; width: 100px; height: 30px; display: inline-block; vertical-align: middle;\"></div><span style=\"margin-left: 5px;\">#dab378</span></div>"
      ],
      "text/plain": [
       "<IPython.core.display.HTML object>"
      ]
     },
     "metadata": {},
     "output_type": "display_data"
    },
    {
     "data": {
      "text/html": [
       "<div style=\"display: flex; align-items: center;\"><div style=\"background-color: #187d78; width: 100px; height: 30px; display: inline-block; vertical-align: middle;\"></div><span style=\"margin-left: 5px;\">#187d78</span></div>"
      ],
      "text/plain": [
       "<IPython.core.display.HTML object>"
      ]
     },
     "metadata": {},
     "output_type": "display_data"
    },
    {
     "data": {
      "text/html": [
       "<div style=\"display: flex; align-items: center;\"><div style=\"background-color: #2c6e65; width: 100px; height: 30px; display: inline-block; vertical-align: middle;\"></div><span style=\"margin-left: 5px;\">#2c6e65</span></div>"
      ],
      "text/plain": [
       "<IPython.core.display.HTML object>"
      ]
     },
     "metadata": {},
     "output_type": "display_data"
    },
    {
     "data": {
      "text/html": [
       "<div style=\"display: flex; align-items: center;\"><div style=\"background-color: #9da10b; width: 100px; height: 30px; display: inline-block; vertical-align: middle;\"></div><span style=\"margin-left: 5px;\">#9da10b</span></div>"
      ],
      "text/plain": [
       "<IPython.core.display.HTML object>"
      ]
     },
     "metadata": {},
     "output_type": "display_data"
    },
    {
     "data": {
      "text/html": [
       "<div style=\"display: flex; align-items: center;\"><div style=\"background-color: #5f9f80; width: 100px; height: 30px; display: inline-block; vertical-align: middle;\"></div><span style=\"margin-left: 5px;\">#5f9f80</span></div>"
      ],
      "text/plain": [
       "<IPython.core.display.HTML object>"
      ]
     },
     "metadata": {},
     "output_type": "display_data"
    },
    {
     "data": {
      "text/html": [
       "<div style=\"display: flex; align-items: center;\"><div style=\"background-color: #daa729; width: 100px; height: 30px; display: inline-block; vertical-align: middle;\"></div><span style=\"margin-left: 5px;\">#daa729</span></div>"
      ],
      "text/plain": [
       "<IPython.core.display.HTML object>"
      ]
     },
     "metadata": {},
     "output_type": "display_data"
    },
    {
     "data": {
      "text/html": [
       "<div style=\"display: flex; align-items: center;\"><div style=\"background-color: #11a306; width: 100px; height: 30px; display: inline-block; vertical-align: middle;\"></div><span style=\"margin-left: 5px;\">#11a306</span></div>"
      ],
      "text/plain": [
       "<IPython.core.display.HTML object>"
      ]
     },
     "metadata": {},
     "output_type": "display_data"
    },
    {
     "data": {
      "text/html": [
       "<div style=\"display: flex; align-items: center;\"><div style=\"background-color: #95ef92; width: 100px; height: 30px; display: inline-block; vertical-align: middle;\"></div><span style=\"margin-left: 5px;\">#95ef92</span></div>"
      ],
      "text/plain": [
       "<IPython.core.display.HTML object>"
      ]
     },
     "metadata": {},
     "output_type": "display_data"
    },
    {
     "data": {
      "text/html": [
       "<div style=\"display: flex; align-items: center;\"><div style=\"background-color: #62a474; width: 100px; height: 30px; display: inline-block; vertical-align: middle;\"></div><span style=\"margin-left: 5px;\">#62a474</span></div>"
      ],
      "text/plain": [
       "<IPython.core.display.HTML object>"
      ]
     },
     "metadata": {},
     "output_type": "display_data"
    },
    {
     "data": {
      "text/html": [
       "<div style=\"display: flex; align-items: center;\"><div style=\"background-color: #8bf062; width: 100px; height: 30px; display: inline-block; vertical-align: middle;\"></div><span style=\"margin-left: 5px;\">#8bf062</span></div>"
      ],
      "text/plain": [
       "<IPython.core.display.HTML object>"
      ]
     },
     "metadata": {},
     "output_type": "display_data"
    },
    {
     "data": {
      "text/html": [
       "<div style=\"display: flex; align-items: center;\"><div style=\"background-color: #f5e631; width: 100px; height: 30px; display: inline-block; vertical-align: middle;\"></div><span style=\"margin-left: 5px;\">#f5e631</span></div>"
      ],
      "text/plain": [
       "<IPython.core.display.HTML object>"
      ]
     },
     "metadata": {},
     "output_type": "display_data"
    },
    {
     "data": {
      "text/html": [
       "<div style=\"display: flex; align-items: center;\"><div style=\"background-color: #111904; width: 100px; height: 30px; display: inline-block; vertical-align: middle;\"></div><span style=\"margin-left: 5px;\">#111904</span></div>"
      ],
      "text/plain": [
       "<IPython.core.display.HTML object>"
      ]
     },
     "metadata": {},
     "output_type": "display_data"
    },
    {
     "data": {
      "text/html": [
       "<div style=\"display: flex; align-items: center;\"><div style=\"background-color: #18ae12; width: 100px; height: 30px; display: inline-block; vertical-align: middle;\"></div><span style=\"margin-left: 5px;\">#18ae12</span></div>"
      ],
      "text/plain": [
       "<IPython.core.display.HTML object>"
      ]
     },
     "metadata": {},
     "output_type": "display_data"
    },
    {
     "data": {
      "text/html": [
       "<div style=\"display: flex; align-items: center;\"><div style=\"background-color: #51d705; width: 100px; height: 30px; display: inline-block; vertical-align: middle;\"></div><span style=\"margin-left: 5px;\">#51d705</span></div>"
      ],
      "text/plain": [
       "<IPython.core.display.HTML object>"
      ]
     },
     "metadata": {},
     "output_type": "display_data"
    },
    {
     "data": {
      "text/html": [
       "<div style=\"display: flex; align-items: center;\"><div style=\"background-color: #cf471e; width: 100px; height: 30px; display: inline-block; vertical-align: middle;\"></div><span style=\"margin-left: 5px;\">#cf471e</span></div>"
      ],
      "text/plain": [
       "<IPython.core.display.HTML object>"
      ]
     },
     "metadata": {},
     "output_type": "display_data"
    },
    {
     "data": {
      "text/html": [
       "<div style=\"display: flex; align-items: center;\"><div style=\"background-color: #b1a0df; width: 100px; height: 30px; display: inline-block; vertical-align: middle;\"></div><span style=\"margin-left: 5px;\">#b1a0df</span></div>"
      ],
      "text/plain": [
       "<IPython.core.display.HTML object>"
      ]
     },
     "metadata": {},
     "output_type": "display_data"
    },
    {
     "data": {
      "text/html": [
       "<div style=\"display: flex; align-items: center;\"><div style=\"background-color: #bbcc47; width: 100px; height: 30px; display: inline-block; vertical-align: middle;\"></div><span style=\"margin-left: 5px;\">#bbcc47</span></div>"
      ],
      "text/plain": [
       "<IPython.core.display.HTML object>"
      ]
     },
     "metadata": {},
     "output_type": "display_data"
    },
    {
     "data": {
      "text/html": [
       "<div style=\"display: flex; align-items: center;\"><div style=\"background-color: #2dbfcd; width: 100px; height: 30px; display: inline-block; vertical-align: middle;\"></div><span style=\"margin-left: 5px;\">#2dbfcd</span></div>"
      ],
      "text/plain": [
       "<IPython.core.display.HTML object>"
      ]
     },
     "metadata": {},
     "output_type": "display_data"
    },
    {
     "data": {
      "text/html": [
       "<div style=\"display: flex; align-items: center;\"><div style=\"background-color: #fc695e; width: 100px; height: 30px; display: inline-block; vertical-align: middle;\"></div><span style=\"margin-left: 5px;\">#fc695e</span></div>"
      ],
      "text/plain": [
       "<IPython.core.display.HTML object>"
      ]
     },
     "metadata": {},
     "output_type": "display_data"
    },
    {
     "data": {
      "text/html": [
       "<div style=\"display: flex; align-items: center;\"><div style=\"background-color: #c556ed; width: 100px; height: 30px; display: inline-block; vertical-align: middle;\"></div><span style=\"margin-left: 5px;\">#c556ed</span></div>"
      ],
      "text/plain": [
       "<IPython.core.display.HTML object>"
      ]
     },
     "metadata": {},
     "output_type": "display_data"
    },
    {
     "data": {
      "text/html": [
       "<div style=\"display: flex; align-items: center;\"><div style=\"background-color: #da6dbf; width: 100px; height: 30px; display: inline-block; vertical-align: middle;\"></div><span style=\"margin-left: 5px;\">#da6dbf</span></div>"
      ],
      "text/plain": [
       "<IPython.core.display.HTML object>"
      ]
     },
     "metadata": {},
     "output_type": "display_data"
    },
    {
     "data": {
      "text/html": [
       "<div style=\"display: flex; align-items: center;\"><div style=\"background-color: #c01ae6; width: 100px; height: 30px; display: inline-block; vertical-align: middle;\"></div><span style=\"margin-left: 5px;\">#c01ae6</span></div>"
      ],
      "text/plain": [
       "<IPython.core.display.HTML object>"
      ]
     },
     "metadata": {},
     "output_type": "display_data"
    },
    {
     "data": {
      "text/html": [
       "<div style=\"display: flex; align-items: center;\"><div style=\"background-color: #80d251; width: 100px; height: 30px; display: inline-block; vertical-align: middle;\"></div><span style=\"margin-left: 5px;\">#80d251</span></div>"
      ],
      "text/plain": [
       "<IPython.core.display.HTML object>"
      ]
     },
     "metadata": {},
     "output_type": "display_data"
    },
    {
     "data": {
      "text/html": [
       "<div style=\"display: flex; align-items: center;\"><div style=\"background-color: #e46302; width: 100px; height: 30px; display: inline-block; vertical-align: middle;\"></div><span style=\"margin-left: 5px;\">#e46302</span></div>"
      ],
      "text/plain": [
       "<IPython.core.display.HTML object>"
      ]
     },
     "metadata": {},
     "output_type": "display_data"
    },
    {
     "data": {
      "text/html": [
       "<div style=\"display: flex; align-items: center;\"><div style=\"background-color: #e61751; width: 100px; height: 30px; display: inline-block; vertical-align: middle;\"></div><span style=\"margin-left: 5px;\">#e61751</span></div>"
      ],
      "text/plain": [
       "<IPython.core.display.HTML object>"
      ]
     },
     "metadata": {},
     "output_type": "display_data"
    },
    {
     "data": {
      "text/html": [
       "<div style=\"display: flex; align-items: center;\"><div style=\"background-color: #f2f292; width: 100px; height: 30px; display: inline-block; vertical-align: middle;\"></div><span style=\"margin-left: 5px;\">#f2f292</span></div>"
      ],
      "text/plain": [
       "<IPython.core.display.HTML object>"
      ]
     },
     "metadata": {},
     "output_type": "display_data"
    },
    {
     "data": {
      "text/html": [
       "<div style=\"display: flex; align-items: center;\"><div style=\"background-color: #a1724a; width: 100px; height: 30px; display: inline-block; vertical-align: middle;\"></div><span style=\"margin-left: 5px;\">#a1724a</span></div>"
      ],
      "text/plain": [
       "<IPython.core.display.HTML object>"
      ]
     },
     "metadata": {},
     "output_type": "display_data"
    },
    {
     "data": {
      "text/html": [
       "<div style=\"display: flex; align-items: center;\"><div style=\"background-color: #53abbf; width: 100px; height: 30px; display: inline-block; vertical-align: middle;\"></div><span style=\"margin-left: 5px;\">#53abbf</span></div>"
      ],
      "text/plain": [
       "<IPython.core.display.HTML object>"
      ]
     },
     "metadata": {},
     "output_type": "display_data"
    },
    {
     "data": {
      "text/html": [
       "<div style=\"display: flex; align-items: center;\"><div style=\"background-color: #c9c917; width: 100px; height: 30px; display: inline-block; vertical-align: middle;\"></div><span style=\"margin-left: 5px;\">#c9c917</span></div>"
      ],
      "text/plain": [
       "<IPython.core.display.HTML object>"
      ]
     },
     "metadata": {},
     "output_type": "display_data"
    },
    {
     "data": {
      "text/html": [
       "<div style=\"display: flex; align-items: center;\"><div style=\"background-color: #7e0e8c; width: 100px; height: 30px; display: inline-block; vertical-align: middle;\"></div><span style=\"margin-left: 5px;\">#7e0e8c</span></div>"
      ],
      "text/plain": [
       "<IPython.core.display.HTML object>"
      ]
     },
     "metadata": {},
     "output_type": "display_data"
    },
    {
     "data": {
      "text/html": [
       "<div style=\"display: flex; align-items: center;\"><div style=\"background-color: #70e259; width: 100px; height: 30px; display: inline-block; vertical-align: middle;\"></div><span style=\"margin-left: 5px;\">#70e259</span></div>"
      ],
      "text/plain": [
       "<IPython.core.display.HTML object>"
      ]
     },
     "metadata": {},
     "output_type": "display_data"
    },
    {
     "data": {
      "text/html": [
       "<div style=\"display: flex; align-items: center;\"><div style=\"background-color: #1d24c2; width: 100px; height: 30px; display: inline-block; vertical-align: middle;\"></div><span style=\"margin-left: 5px;\">#1d24c2</span></div>"
      ],
      "text/plain": [
       "<IPython.core.display.HTML object>"
      ]
     },
     "metadata": {},
     "output_type": "display_data"
    },
    {
     "data": {
      "text/html": [
       "<div style=\"display: flex; align-items: center;\"><div style=\"background-color: #9d1915; width: 100px; height: 30px; display: inline-block; vertical-align: middle;\"></div><span style=\"margin-left: 5px;\">#9d1915</span></div>"
      ],
      "text/plain": [
       "<IPython.core.display.HTML object>"
      ]
     },
     "metadata": {},
     "output_type": "display_data"
    },
    {
     "data": {
      "text/html": [
       "<div style=\"display: flex; align-items: center;\"><div style=\"background-color: #b212d1; width: 100px; height: 30px; display: inline-block; vertical-align: middle;\"></div><span style=\"margin-left: 5px;\">#b212d1</span></div>"
      ],
      "text/plain": [
       "<IPython.core.display.HTML object>"
      ]
     },
     "metadata": {},
     "output_type": "display_data"
    },
    {
     "data": {
      "text/html": [
       "<div style=\"display: flex; align-items: center;\"><div style=\"background-color: #b41415; width: 100px; height: 30px; display: inline-block; vertical-align: middle;\"></div><span style=\"margin-left: 5px;\">#b41415</span></div>"
      ],
      "text/plain": [
       "<IPython.core.display.HTML object>"
      ]
     },
     "metadata": {},
     "output_type": "display_data"
    },
    {
     "data": {
      "text/html": [
       "<div style=\"display: flex; align-items: center;\"><div style=\"background-color: #fb5f5e; width: 100px; height: 30px; display: inline-block; vertical-align: middle;\"></div><span style=\"margin-left: 5px;\">#fb5f5e</span></div>"
      ],
      "text/plain": [
       "<IPython.core.display.HTML object>"
      ]
     },
     "metadata": {},
     "output_type": "display_data"
    },
    {
     "data": {
      "text/html": [
       "<div style=\"display: flex; align-items: center;\"><div style=\"background-color: #cff1fb; width: 100px; height: 30px; display: inline-block; vertical-align: middle;\"></div><span style=\"margin-left: 5px;\">#cff1fb</span></div>"
      ],
      "text/plain": [
       "<IPython.core.display.HTML object>"
      ]
     },
     "metadata": {},
     "output_type": "display_data"
    },
    {
     "data": {
      "text/html": [
       "<div style=\"display: flex; align-items: center;\"><div style=\"background-color: #c05f15; width: 100px; height: 30px; display: inline-block; vertical-align: middle;\"></div><span style=\"margin-left: 5px;\">#c05f15</span></div>"
      ],
      "text/plain": [
       "<IPython.core.display.HTML object>"
      ]
     },
     "metadata": {},
     "output_type": "display_data"
    },
    {
     "data": {
      "text/html": [
       "<div style=\"display: flex; align-items: center;\"><div style=\"background-color: #c68e6c; width: 100px; height: 30px; display: inline-block; vertical-align: middle;\"></div><span style=\"margin-left: 5px;\">#c68e6c</span></div>"
      ],
      "text/plain": [
       "<IPython.core.display.HTML object>"
      ]
     },
     "metadata": {},
     "output_type": "display_data"
    },
    {
     "data": {
      "text/html": [
       "<div style=\"display: flex; align-items: center;\"><div style=\"background-color: #e71c7d; width: 100px; height: 30px; display: inline-block; vertical-align: middle;\"></div><span style=\"margin-left: 5px;\">#e71c7d</span></div>"
      ],
      "text/plain": [
       "<IPython.core.display.HTML object>"
      ]
     },
     "metadata": {},
     "output_type": "display_data"
    },
    {
     "data": {
      "text/html": [
       "<div style=\"display: flex; align-items: center;\"><div style=\"background-color: #02770e; width: 100px; height: 30px; display: inline-block; vertical-align: middle;\"></div><span style=\"margin-left: 5px;\">#02770e</span></div>"
      ],
      "text/plain": [
       "<IPython.core.display.HTML object>"
      ]
     },
     "metadata": {},
     "output_type": "display_data"
    },
    {
     "data": {
      "text/html": [
       "<div style=\"display: flex; align-items: center;\"><div style=\"background-color: #1e1da5; width: 100px; height: 30px; display: inline-block; vertical-align: middle;\"></div><span style=\"margin-left: 5px;\">#1e1da5</span></div>"
      ],
      "text/plain": [
       "<IPython.core.display.HTML object>"
      ]
     },
     "metadata": {},
     "output_type": "display_data"
    },
    {
     "data": {
      "text/html": [
       "<div style=\"display: flex; align-items: center;\"><div style=\"background-color: #be94f5; width: 100px; height: 30px; display: inline-block; vertical-align: middle;\"></div><span style=\"margin-left: 5px;\">#be94f5</span></div>"
      ],
      "text/plain": [
       "<IPython.core.display.HTML object>"
      ]
     },
     "metadata": {},
     "output_type": "display_data"
    },
    {
     "data": {
      "text/html": [
       "<div style=\"display: flex; align-items: center;\"><div style=\"background-color: #5f48dd; width: 100px; height: 30px; display: inline-block; vertical-align: middle;\"></div><span style=\"margin-left: 5px;\">#5f48dd</span></div>"
      ],
      "text/plain": [
       "<IPython.core.display.HTML object>"
      ]
     },
     "metadata": {},
     "output_type": "display_data"
    },
    {
     "data": {
      "text/html": [
       "<div style=\"display: flex; align-items: center;\"><div style=\"background-color: #39f503; width: 100px; height: 30px; display: inline-block; vertical-align: middle;\"></div><span style=\"margin-left: 5px;\">#39f503</span></div>"
      ],
      "text/plain": [
       "<IPython.core.display.HTML object>"
      ]
     },
     "metadata": {},
     "output_type": "display_data"
    },
    {
     "data": {
      "text/html": [
       "<div style=\"display: flex; align-items: center;\"><div style=\"background-color: #f70be3; width: 100px; height: 30px; display: inline-block; vertical-align: middle;\"></div><span style=\"margin-left: 5px;\">#f70be3</span></div>"
      ],
      "text/plain": [
       "<IPython.core.display.HTML object>"
      ]
     },
     "metadata": {},
     "output_type": "display_data"
    },
    {
     "data": {
      "text/html": [
       "<div style=\"display: flex; align-items: center;\"><div style=\"background-color: #86fd12; width: 100px; height: 30px; display: inline-block; vertical-align: middle;\"></div><span style=\"margin-left: 5px;\">#86fd12</span></div>"
      ],
      "text/plain": [
       "<IPython.core.display.HTML object>"
      ]
     },
     "metadata": {},
     "output_type": "display_data"
    },
    {
     "data": {
      "text/html": [
       "<div style=\"display: flex; align-items: center;\"><div style=\"background-color: #8df785; width: 100px; height: 30px; display: inline-block; vertical-align: middle;\"></div><span style=\"margin-left: 5px;\">#8df785</span></div>"
      ],
      "text/plain": [
       "<IPython.core.display.HTML object>"
      ]
     },
     "metadata": {},
     "output_type": "display_data"
    },
    {
     "data": {
      "text/html": [
       "<div style=\"display: flex; align-items: center;\"><div style=\"background-color: #a0b173; width: 100px; height: 30px; display: inline-block; vertical-align: middle;\"></div><span style=\"margin-left: 5px;\">#a0b173</span></div>"
      ],
      "text/plain": [
       "<IPython.core.display.HTML object>"
      ]
     },
     "metadata": {},
     "output_type": "display_data"
    },
    {
     "data": {
      "text/html": [
       "<div style=\"display: flex; align-items: center;\"><div style=\"background-color: #a095e5; width: 100px; height: 30px; display: inline-block; vertical-align: middle;\"></div><span style=\"margin-left: 5px;\">#a095e5</span></div>"
      ],
      "text/plain": [
       "<IPython.core.display.HTML object>"
      ]
     },
     "metadata": {},
     "output_type": "display_data"
    },
    {
     "data": {
      "text/html": [
       "<div style=\"display: flex; align-items: center;\"><div style=\"background-color: #0b47f2; width: 100px; height: 30px; display: inline-block; vertical-align: middle;\"></div><span style=\"margin-left: 5px;\">#0b47f2</span></div>"
      ],
      "text/plain": [
       "<IPython.core.display.HTML object>"
      ]
     },
     "metadata": {},
     "output_type": "display_data"
    },
    {
     "data": {
      "text/html": [
       "<div style=\"display: flex; align-items: center;\"><div style=\"background-color: #e3749e; width: 100px; height: 30px; display: inline-block; vertical-align: middle;\"></div><span style=\"margin-left: 5px;\">#e3749e</span></div>"
      ],
      "text/plain": [
       "<IPython.core.display.HTML object>"
      ]
     },
     "metadata": {},
     "output_type": "display_data"
    },
    {
     "data": {
      "text/html": [
       "<div style=\"display: flex; align-items: center;\"><div style=\"background-color: #462f76; width: 100px; height: 30px; display: inline-block; vertical-align: middle;\"></div><span style=\"margin-left: 5px;\">#462f76</span></div>"
      ],
      "text/plain": [
       "<IPython.core.display.HTML object>"
      ]
     },
     "metadata": {},
     "output_type": "display_data"
    },
    {
     "data": {
      "text/html": [
       "<div style=\"display: flex; align-items: center;\"><div style=\"background-color: #5a9413; width: 100px; height: 30px; display: inline-block; vertical-align: middle;\"></div><span style=\"margin-left: 5px;\">#5a9413</span></div>"
      ],
      "text/plain": [
       "<IPython.core.display.HTML object>"
      ]
     },
     "metadata": {},
     "output_type": "display_data"
    },
    {
     "data": {
      "text/html": [
       "<div style=\"display: flex; align-items: center;\"><div style=\"background-color: #f8fbb2; width: 100px; height: 30px; display: inline-block; vertical-align: middle;\"></div><span style=\"margin-left: 5px;\">#f8fbb2</span></div>"
      ],
      "text/plain": [
       "<IPython.core.display.HTML object>"
      ]
     },
     "metadata": {},
     "output_type": "display_data"
    },
    {
     "data": {
      "text/html": [
       "<div style=\"display: flex; align-items: center;\"><div style=\"background-color: #884ecf; width: 100px; height: 30px; display: inline-block; vertical-align: middle;\"></div><span style=\"margin-left: 5px;\">#884ecf</span></div>"
      ],
      "text/plain": [
       "<IPython.core.display.HTML object>"
      ]
     },
     "metadata": {},
     "output_type": "display_data"
    },
    {
     "data": {
      "text/html": [
       "<div style=\"display: flex; align-items: center;\"><div style=\"background-color: #ae29e8; width: 100px; height: 30px; display: inline-block; vertical-align: middle;\"></div><span style=\"margin-left: 5px;\">#ae29e8</span></div>"
      ],
      "text/plain": [
       "<IPython.core.display.HTML object>"
      ]
     },
     "metadata": {},
     "output_type": "display_data"
    },
    {
     "data": {
      "text/html": [
       "<div style=\"display: flex; align-items: center;\"><div style=\"background-color: #d1f2b9; width: 100px; height: 30px; display: inline-block; vertical-align: middle;\"></div><span style=\"margin-left: 5px;\">#d1f2b9</span></div>"
      ],
      "text/plain": [
       "<IPython.core.display.HTML object>"
      ]
     },
     "metadata": {},
     "output_type": "display_data"
    },
    {
     "data": {
      "text/html": [
       "<div style=\"display: flex; align-items: center;\"><div style=\"background-color: #9c6aed; width: 100px; height: 30px; display: inline-block; vertical-align: middle;\"></div><span style=\"margin-left: 5px;\">#9c6aed</span></div>"
      ],
      "text/plain": [
       "<IPython.core.display.HTML object>"
      ]
     },
     "metadata": {},
     "output_type": "display_data"
    },
    {
     "data": {
      "text/html": [
       "<div style=\"display: flex; align-items: center;\"><div style=\"background-color: #dc0b06; width: 100px; height: 30px; display: inline-block; vertical-align: middle;\"></div><span style=\"margin-left: 5px;\">#dc0b06</span></div>"
      ],
      "text/plain": [
       "<IPython.core.display.HTML object>"
      ]
     },
     "metadata": {},
     "output_type": "display_data"
    },
    {
     "data": {
      "text/html": [
       "<div style=\"display: flex; align-items: center;\"><div style=\"background-color: #5fcefb; width: 100px; height: 30px; display: inline-block; vertical-align: middle;\"></div><span style=\"margin-left: 5px;\">#5fcefb</span></div>"
      ],
      "text/plain": [
       "<IPython.core.display.HTML object>"
      ]
     },
     "metadata": {},
     "output_type": "display_data"
    },
    {
     "data": {
      "text/html": [
       "<div style=\"display: flex; align-items: center;\"><div style=\"background-color: #269761; width: 100px; height: 30px; display: inline-block; vertical-align: middle;\"></div><span style=\"margin-left: 5px;\">#269761</span></div>"
      ],
      "text/plain": [
       "<IPython.core.display.HTML object>"
      ]
     },
     "metadata": {},
     "output_type": "display_data"
    },
    {
     "data": {
      "text/html": [
       "<div style=\"display: flex; align-items: center;\"><div style=\"background-color: #f7d6d5; width: 100px; height: 30px; display: inline-block; vertical-align: middle;\"></div><span style=\"margin-left: 5px;\">#f7d6d5</span></div>"
      ],
      "text/plain": [
       "<IPython.core.display.HTML object>"
      ]
     },
     "metadata": {},
     "output_type": "display_data"
    },
    {
     "data": {
      "text/html": [
       "<div style=\"display: flex; align-items: center;\"><div style=\"background-color: #776945; width: 100px; height: 30px; display: inline-block; vertical-align: middle;\"></div><span style=\"margin-left: 5px;\">#776945</span></div>"
      ],
      "text/plain": [
       "<IPython.core.display.HTML object>"
      ]
     },
     "metadata": {},
     "output_type": "display_data"
    },
    {
     "data": {
      "text/html": [
       "<div style=\"display: flex; align-items: center;\"><div style=\"background-color: #0edccf; width: 100px; height: 30px; display: inline-block; vertical-align: middle;\"></div><span style=\"margin-left: 5px;\">#0edccf</span></div>"
      ],
      "text/plain": [
       "<IPython.core.display.HTML object>"
      ]
     },
     "metadata": {},
     "output_type": "display_data"
    },
    {
     "data": {
      "text/html": [
       "<div style=\"display: flex; align-items: center;\"><div style=\"background-color: #fefe8d; width: 100px; height: 30px; display: inline-block; vertical-align: middle;\"></div><span style=\"margin-left: 5px;\">#fefe8d</span></div>"
      ],
      "text/plain": [
       "<IPython.core.display.HTML object>"
      ]
     },
     "metadata": {},
     "output_type": "display_data"
    },
    {
     "data": {
      "text/html": [
       "<div style=\"display: flex; align-items: center;\"><div style=\"background-color: #c4f0d8; width: 100px; height: 30px; display: inline-block; vertical-align: middle;\"></div><span style=\"margin-left: 5px;\">#c4f0d8</span></div>"
      ],
      "text/plain": [
       "<IPython.core.display.HTML object>"
      ]
     },
     "metadata": {},
     "output_type": "display_data"
    },
    {
     "data": {
      "text/html": [
       "<div style=\"display: flex; align-items: center;\"><div style=\"background-color: #3f7220; width: 100px; height: 30px; display: inline-block; vertical-align: middle;\"></div><span style=\"margin-left: 5px;\">#3f7220</span></div>"
      ],
      "text/plain": [
       "<IPython.core.display.HTML object>"
      ]
     },
     "metadata": {},
     "output_type": "display_data"
    },
    {
     "data": {
      "text/html": [
       "<div style=\"display: flex; align-items: center;\"><div style=\"background-color: #f39a3a; width: 100px; height: 30px; display: inline-block; vertical-align: middle;\"></div><span style=\"margin-left: 5px;\">#f39a3a</span></div>"
      ],
      "text/plain": [
       "<IPython.core.display.HTML object>"
      ]
     },
     "metadata": {},
     "output_type": "display_data"
    },
    {
     "data": {
      "text/html": [
       "<div style=\"display: flex; align-items: center;\"><div style=\"background-color: #ab9d5b; width: 100px; height: 30px; display: inline-block; vertical-align: middle;\"></div><span style=\"margin-left: 5px;\">#ab9d5b</span></div>"
      ],
      "text/plain": [
       "<IPython.core.display.HTML object>"
      ]
     },
     "metadata": {},
     "output_type": "display_data"
    },
    {
     "data": {
      "text/html": [
       "<div style=\"display: flex; align-items: center;\"><div style=\"background-color: #1cab84; width: 100px; height: 30px; display: inline-block; vertical-align: middle;\"></div><span style=\"margin-left: 5px;\">#1cab84</span></div>"
      ],
      "text/plain": [
       "<IPython.core.display.HTML object>"
      ]
     },
     "metadata": {},
     "output_type": "display_data"
    },
    {
     "data": {
      "text/html": [
       "<div style=\"display: flex; align-items: center;\"><div style=\"background-color: #c484d9; width: 100px; height: 30px; display: inline-block; vertical-align: middle;\"></div><span style=\"margin-left: 5px;\">#c484d9</span></div>"
      ],
      "text/plain": [
       "<IPython.core.display.HTML object>"
      ]
     },
     "metadata": {},
     "output_type": "display_data"
    },
    {
     "data": {
      "text/html": [
       "<div style=\"display: flex; align-items: center;\"><div style=\"background-color: #8c8fdf; width: 100px; height: 30px; display: inline-block; vertical-align: middle;\"></div><span style=\"margin-left: 5px;\">#8c8fdf</span></div>"
      ],
      "text/plain": [
       "<IPython.core.display.HTML object>"
      ]
     },
     "metadata": {},
     "output_type": "display_data"
    },
    {
     "data": {
      "text/html": [
       "<div style=\"display: flex; align-items: center;\"><div style=\"background-color: #662207; width: 100px; height: 30px; display: inline-block; vertical-align: middle;\"></div><span style=\"margin-left: 5px;\">#662207</span></div>"
      ],
      "text/plain": [
       "<IPython.core.display.HTML object>"
      ]
     },
     "metadata": {},
     "output_type": "display_data"
    },
    {
     "data": {
      "text/html": [
       "<div style=\"display: flex; align-items: center;\"><div style=\"background-color: #c09eb3; width: 100px; height: 30px; display: inline-block; vertical-align: middle;\"></div><span style=\"margin-left: 5px;\">#c09eb3</span></div>"
      ],
      "text/plain": [
       "<IPython.core.display.HTML object>"
      ]
     },
     "metadata": {},
     "output_type": "display_data"
    },
    {
     "data": {
      "text/html": [
       "<div style=\"display: flex; align-items: center;\"><div style=\"background-color: #362203; width: 100px; height: 30px; display: inline-block; vertical-align: middle;\"></div><span style=\"margin-left: 5px;\">#362203</span></div>"
      ],
      "text/plain": [
       "<IPython.core.display.HTML object>"
      ]
     },
     "metadata": {},
     "output_type": "display_data"
    },
    {
     "data": {
      "text/html": [
       "<div style=\"display: flex; align-items: center;\"><div style=\"background-color: #599664; width: 100px; height: 30px; display: inline-block; vertical-align: middle;\"></div><span style=\"margin-left: 5px;\">#599664</span></div>"
      ],
      "text/plain": [
       "<IPython.core.display.HTML object>"
      ]
     },
     "metadata": {},
     "output_type": "display_data"
    },
    {
     "data": {
      "text/html": [
       "<div style=\"display: flex; align-items: center;\"><div style=\"background-color: #6fe658; width: 100px; height: 30px; display: inline-block; vertical-align: middle;\"></div><span style=\"margin-left: 5px;\">#6fe658</span></div>"
      ],
      "text/plain": [
       "<IPython.core.display.HTML object>"
      ]
     },
     "metadata": {},
     "output_type": "display_data"
    },
    {
     "data": {
      "text/html": [
       "<div style=\"display: flex; align-items: center;\"><div style=\"background-color: #83c765; width: 100px; height: 30px; display: inline-block; vertical-align: middle;\"></div><span style=\"margin-left: 5px;\">#83c765</span></div>"
      ],
      "text/plain": [
       "<IPython.core.display.HTML object>"
      ]
     },
     "metadata": {},
     "output_type": "display_data"
    },
    {
     "data": {
      "text/html": [
       "<div style=\"display: flex; align-items: center;\"><div style=\"background-color: #9edbf2; width: 100px; height: 30px; display: inline-block; vertical-align: middle;\"></div><span style=\"margin-left: 5px;\">#9edbf2</span></div>"
      ],
      "text/plain": [
       "<IPython.core.display.HTML object>"
      ]
     },
     "metadata": {},
     "output_type": "display_data"
    },
    {
     "data": {
      "text/html": [
       "<div style=\"display: flex; align-items: center;\"><div style=\"background-color: #25ec7d; width: 100px; height: 30px; display: inline-block; vertical-align: middle;\"></div><span style=\"margin-left: 5px;\">#25ec7d</span></div>"
      ],
      "text/plain": [
       "<IPython.core.display.HTML object>"
      ]
     },
     "metadata": {},
     "output_type": "display_data"
    },
    {
     "data": {
      "text/html": [
       "<div style=\"display: flex; align-items: center;\"><div style=\"background-color: #4175f9; width: 100px; height: 30px; display: inline-block; vertical-align: middle;\"></div><span style=\"margin-left: 5px;\">#4175f9</span></div>"
      ],
      "text/plain": [
       "<IPython.core.display.HTML object>"
      ]
     },
     "metadata": {},
     "output_type": "display_data"
    },
    {
     "data": {
      "text/html": [
       "<div style=\"display: flex; align-items: center;\"><div style=\"background-color: #7d53a1; width: 100px; height: 30px; display: inline-block; vertical-align: middle;\"></div><span style=\"margin-left: 5px;\">#7d53a1</span></div>"
      ],
      "text/plain": [
       "<IPython.core.display.HTML object>"
      ]
     },
     "metadata": {},
     "output_type": "display_data"
    },
    {
     "data": {
      "text/html": [
       "<div style=\"display: flex; align-items: center;\"><div style=\"background-color: #3d1320; width: 100px; height: 30px; display: inline-block; vertical-align: middle;\"></div><span style=\"margin-left: 5px;\">#3d1320</span></div>"
      ],
      "text/plain": [
       "<IPython.core.display.HTML object>"
      ]
     },
     "metadata": {},
     "output_type": "display_data"
    },
    {
     "data": {
      "text/html": [
       "<div style=\"display: flex; align-items: center;\"><div style=\"background-color: #202623; width: 100px; height: 30px; display: inline-block; vertical-align: middle;\"></div><span style=\"margin-left: 5px;\">#202623</span></div>"
      ],
      "text/plain": [
       "<IPython.core.display.HTML object>"
      ]
     },
     "metadata": {},
     "output_type": "display_data"
    },
    {
     "data": {
      "text/html": [
       "<div style=\"display: flex; align-items: center;\"><div style=\"background-color: #a32e58; width: 100px; height: 30px; display: inline-block; vertical-align: middle;\"></div><span style=\"margin-left: 5px;\">#a32e58</span></div>"
      ],
      "text/plain": [
       "<IPython.core.display.HTML object>"
      ]
     },
     "metadata": {},
     "output_type": "display_data"
    },
    {
     "data": {
      "text/html": [
       "<div style=\"display: flex; align-items: center;\"><div style=\"background-color: #e478aa; width: 100px; height: 30px; display: inline-block; vertical-align: middle;\"></div><span style=\"margin-left: 5px;\">#e478aa</span></div>"
      ],
      "text/plain": [
       "<IPython.core.display.HTML object>"
      ]
     },
     "metadata": {},
     "output_type": "display_data"
    },
    {
     "data": {
      "text/html": [
       "<div style=\"display: flex; align-items: center;\"><div style=\"background-color: #2b310a; width: 100px; height: 30px; display: inline-block; vertical-align: middle;\"></div><span style=\"margin-left: 5px;\">#2b310a</span></div>"
      ],
      "text/plain": [
       "<IPython.core.display.HTML object>"
      ]
     },
     "metadata": {},
     "output_type": "display_data"
    },
    {
     "data": {
      "text/html": [
       "<div style=\"display: flex; align-items: center;\"><div style=\"background-color: #2b472d; width: 100px; height: 30px; display: inline-block; vertical-align: middle;\"></div><span style=\"margin-left: 5px;\">#2b472d</span></div>"
      ],
      "text/plain": [
       "<IPython.core.display.HTML object>"
      ]
     },
     "metadata": {},
     "output_type": "display_data"
    },
    {
     "data": {
      "text/html": [
       "<div style=\"display: flex; align-items: center;\"><div style=\"background-color: #161e75; width: 100px; height: 30px; display: inline-block; vertical-align: middle;\"></div><span style=\"margin-left: 5px;\">#161e75</span></div>"
      ],
      "text/plain": [
       "<IPython.core.display.HTML object>"
      ]
     },
     "metadata": {},
     "output_type": "display_data"
    },
    {
     "data": {
      "text/html": [
       "<div style=\"display: flex; align-items: center;\"><div style=\"background-color: #345c80; width: 100px; height: 30px; display: inline-block; vertical-align: middle;\"></div><span style=\"margin-left: 5px;\">#345c80</span></div>"
      ],
      "text/plain": [
       "<IPython.core.display.HTML object>"
      ]
     },
     "metadata": {},
     "output_type": "display_data"
    },
    {
     "data": {
      "text/html": [
       "<div style=\"display: flex; align-items: center;\"><div style=\"background-color: #b00acb; width: 100px; height: 30px; display: inline-block; vertical-align: middle;\"></div><span style=\"margin-left: 5px;\">#b00acb</span></div>"
      ],
      "text/plain": [
       "<IPython.core.display.HTML object>"
      ]
     },
     "metadata": {},
     "output_type": "display_data"
    },
    {
     "data": {
      "text/html": [
       "<div style=\"display: flex; align-items: center;\"><div style=\"background-color: #a014de; width: 100px; height: 30px; display: inline-block; vertical-align: middle;\"></div><span style=\"margin-left: 5px;\">#a014de</span></div>"
      ],
      "text/plain": [
       "<IPython.core.display.HTML object>"
      ]
     },
     "metadata": {},
     "output_type": "display_data"
    },
    {
     "data": {
      "text/html": [
       "<div style=\"display: flex; align-items: center;\"><div style=\"background-color: #ea0f46; width: 100px; height: 30px; display: inline-block; vertical-align: middle;\"></div><span style=\"margin-left: 5px;\">#ea0f46</span></div>"
      ],
      "text/plain": [
       "<IPython.core.display.HTML object>"
      ]
     },
     "metadata": {},
     "output_type": "display_data"
    },
    {
     "data": {
      "text/html": [
       "<div style=\"display: flex; align-items: center;\"><div style=\"background-color: #cdbe2f; width: 100px; height: 30px; display: inline-block; vertical-align: middle;\"></div><span style=\"margin-left: 5px;\">#cdbe2f</span></div>"
      ],
      "text/plain": [
       "<IPython.core.display.HTML object>"
      ]
     },
     "metadata": {},
     "output_type": "display_data"
    },
    {
     "data": {
      "text/html": [
       "<div style=\"display: flex; align-items: center;\"><div style=\"background-color: #355e7b; width: 100px; height: 30px; display: inline-block; vertical-align: middle;\"></div><span style=\"margin-left: 5px;\">#355e7b</span></div>"
      ],
      "text/plain": [
       "<IPython.core.display.HTML object>"
      ]
     },
     "metadata": {},
     "output_type": "display_data"
    },
    {
     "data": {
      "text/html": [
       "<div style=\"display: flex; align-items: center;\"><div style=\"background-color: #9d5e75; width: 100px; height: 30px; display: inline-block; vertical-align: middle;\"></div><span style=\"margin-left: 5px;\">#9d5e75</span></div>"
      ],
      "text/plain": [
       "<IPython.core.display.HTML object>"
      ]
     },
     "metadata": {},
     "output_type": "display_data"
    },
    {
     "data": {
      "text/html": [
       "<div style=\"display: flex; align-items: center;\"><div style=\"background-color: #be0940; width: 100px; height: 30px; display: inline-block; vertical-align: middle;\"></div><span style=\"margin-left: 5px;\">#be0940</span></div>"
      ],
      "text/plain": [
       "<IPython.core.display.HTML object>"
      ]
     },
     "metadata": {},
     "output_type": "display_data"
    },
    {
     "data": {
      "text/html": [
       "<div style=\"display: flex; align-items: center;\"><div style=\"background-color: #b5e482; width: 100px; height: 30px; display: inline-block; vertical-align: middle;\"></div><span style=\"margin-left: 5px;\">#b5e482</span></div>"
      ],
      "text/plain": [
       "<IPython.core.display.HTML object>"
      ]
     },
     "metadata": {},
     "output_type": "display_data"
    },
    {
     "data": {
      "text/html": [
       "<div style=\"display: flex; align-items: center;\"><div style=\"background-color: #871b72; width: 100px; height: 30px; display: inline-block; vertical-align: middle;\"></div><span style=\"margin-left: 5px;\">#871b72</span></div>"
      ],
      "text/plain": [
       "<IPython.core.display.HTML object>"
      ]
     },
     "metadata": {},
     "output_type": "display_data"
    },
    {
     "data": {
      "text/html": [
       "<div style=\"display: flex; align-items: center;\"><div style=\"background-color: #873d44; width: 100px; height: 30px; display: inline-block; vertical-align: middle;\"></div><span style=\"margin-left: 5px;\">#873d44</span></div>"
      ],
      "text/plain": [
       "<IPython.core.display.HTML object>"
      ]
     },
     "metadata": {},
     "output_type": "display_data"
    },
    {
     "data": {
      "text/html": [
       "<div style=\"display: flex; align-items: center;\"><div style=\"background-color: #600552; width: 100px; height: 30px; display: inline-block; vertical-align: middle;\"></div><span style=\"margin-left: 5px;\">#600552</span></div>"
      ],
      "text/plain": [
       "<IPython.core.display.HTML object>"
      ]
     },
     "metadata": {},
     "output_type": "display_data"
    },
    {
     "data": {
      "text/html": [
       "<div style=\"display: flex; align-items: center;\"><div style=\"background-color: #35531e; width: 100px; height: 30px; display: inline-block; vertical-align: middle;\"></div><span style=\"margin-left: 5px;\">#35531e</span></div>"
      ],
      "text/plain": [
       "<IPython.core.display.HTML object>"
      ]
     },
     "metadata": {},
     "output_type": "display_data"
    },
    {
     "data": {
      "text/html": [
       "<div style=\"display: flex; align-items: center;\"><div style=\"background-color: #e397ad; width: 100px; height: 30px; display: inline-block; vertical-align: middle;\"></div><span style=\"margin-left: 5px;\">#e397ad</span></div>"
      ],
      "text/plain": [
       "<IPython.core.display.HTML object>"
      ]
     },
     "metadata": {},
     "output_type": "display_data"
    },
    {
     "data": {
      "text/html": [
       "<div style=\"display: flex; align-items: center;\"><div style=\"background-color: #c97f16; width: 100px; height: 30px; display: inline-block; vertical-align: middle;\"></div><span style=\"margin-left: 5px;\">#c97f16</span></div>"
      ],
      "text/plain": [
       "<IPython.core.display.HTML object>"
      ]
     },
     "metadata": {},
     "output_type": "display_data"
    },
    {
     "data": {
      "text/html": [
       "<div style=\"display: flex; align-items: center;\"><div style=\"background-color: #8895be; width: 100px; height: 30px; display: inline-block; vertical-align: middle;\"></div><span style=\"margin-left: 5px;\">#8895be</span></div>"
      ],
      "text/plain": [
       "<IPython.core.display.HTML object>"
      ]
     },
     "metadata": {},
     "output_type": "display_data"
    },
    {
     "data": {
      "text/html": [
       "<div style=\"display: flex; align-items: center;\"><div style=\"background-color: #6e2048; width: 100px; height: 30px; display: inline-block; vertical-align: middle;\"></div><span style=\"margin-left: 5px;\">#6e2048</span></div>"
      ],
      "text/plain": [
       "<IPython.core.display.HTML object>"
      ]
     },
     "metadata": {},
     "output_type": "display_data"
    },
    {
     "data": {
      "text/html": [
       "<div style=\"display: flex; align-items: center;\"><div style=\"background-color: #5ca491; width: 100px; height: 30px; display: inline-block; vertical-align: middle;\"></div><span style=\"margin-left: 5px;\">#5ca491</span></div>"
      ],
      "text/plain": [
       "<IPython.core.display.HTML object>"
      ]
     },
     "metadata": {},
     "output_type": "display_data"
    },
    {
     "data": {
      "text/html": [
       "<div style=\"display: flex; align-items: center;\"><div style=\"background-color: #5afb9a; width: 100px; height: 30px; display: inline-block; vertical-align: middle;\"></div><span style=\"margin-left: 5px;\">#5afb9a</span></div>"
      ],
      "text/plain": [
       "<IPython.core.display.HTML object>"
      ]
     },
     "metadata": {},
     "output_type": "display_data"
    },
    {
     "data": {
      "text/html": [
       "<div style=\"display: flex; align-items: center;\"><div style=\"background-color: #3c1926; width: 100px; height: 30px; display: inline-block; vertical-align: middle;\"></div><span style=\"margin-left: 5px;\">#3c1926</span></div>"
      ],
      "text/plain": [
       "<IPython.core.display.HTML object>"
      ]
     },
     "metadata": {},
     "output_type": "display_data"
    },
    {
     "data": {
      "text/html": [
       "<div style=\"display: flex; align-items: center;\"><div style=\"background-color: #3e282f; width: 100px; height: 30px; display: inline-block; vertical-align: middle;\"></div><span style=\"margin-left: 5px;\">#3e282f</span></div>"
      ],
      "text/plain": [
       "<IPython.core.display.HTML object>"
      ]
     },
     "metadata": {},
     "output_type": "display_data"
    },
    {
     "data": {
      "text/html": [
       "<div style=\"display: flex; align-items: center;\"><div style=\"background-color: #482ce4; width: 100px; height: 30px; display: inline-block; vertical-align: middle;\"></div><span style=\"margin-left: 5px;\">#482ce4</span></div>"
      ],
      "text/plain": [
       "<IPython.core.display.HTML object>"
      ]
     },
     "metadata": {},
     "output_type": "display_data"
    },
    {
     "data": {
      "text/html": [
       "<div style=\"display: flex; align-items: center;\"><div style=\"background-color: #148568; width: 100px; height: 30px; display: inline-block; vertical-align: middle;\"></div><span style=\"margin-left: 5px;\">#148568</span></div>"
      ],
      "text/plain": [
       "<IPython.core.display.HTML object>"
      ]
     },
     "metadata": {},
     "output_type": "display_data"
    },
    {
     "data": {
      "text/html": [
       "<div style=\"display: flex; align-items: center;\"><div style=\"background-color: #fa1c65; width: 100px; height: 30px; display: inline-block; vertical-align: middle;\"></div><span style=\"margin-left: 5px;\">#fa1c65</span></div>"
      ],
      "text/plain": [
       "<IPython.core.display.HTML object>"
      ]
     },
     "metadata": {},
     "output_type": "display_data"
    },
    {
     "data": {
      "text/html": [
       "<div style=\"display: flex; align-items: center;\"><div style=\"background-color: #f7dcd0; width: 100px; height: 30px; display: inline-block; vertical-align: middle;\"></div><span style=\"margin-left: 5px;\">#f7dcd0</span></div>"
      ],
      "text/plain": [
       "<IPython.core.display.HTML object>"
      ]
     },
     "metadata": {},
     "output_type": "display_data"
    },
    {
     "data": {
      "text/html": [
       "<div style=\"display: flex; align-items: center;\"><div style=\"background-color: #412baa; width: 100px; height: 30px; display: inline-block; vertical-align: middle;\"></div><span style=\"margin-left: 5px;\">#412baa</span></div>"
      ],
      "text/plain": [
       "<IPython.core.display.HTML object>"
      ]
     },
     "metadata": {},
     "output_type": "display_data"
    },
    {
     "data": {
      "text/html": [
       "<div style=\"display: flex; align-items: center;\"><div style=\"background-color: #ec8d91; width: 100px; height: 30px; display: inline-block; vertical-align: middle;\"></div><span style=\"margin-left: 5px;\">#ec8d91</span></div>"
      ],
      "text/plain": [
       "<IPython.core.display.HTML object>"
      ]
     },
     "metadata": {},
     "output_type": "display_data"
    },
    {
     "data": {
      "text/html": [
       "<div style=\"display: flex; align-items: center;\"><div style=\"background-color: #47c42f; width: 100px; height: 30px; display: inline-block; vertical-align: middle;\"></div><span style=\"margin-left: 5px;\">#47c42f</span></div>"
      ],
      "text/plain": [
       "<IPython.core.display.HTML object>"
      ]
     },
     "metadata": {},
     "output_type": "display_data"
    },
    {
     "data": {
      "text/html": [
       "<div style=\"display: flex; align-items: center;\"><div style=\"background-color: #526c81; width: 100px; height: 30px; display: inline-block; vertical-align: middle;\"></div><span style=\"margin-left: 5px;\">#526c81</span></div>"
      ],
      "text/plain": [
       "<IPython.core.display.HTML object>"
      ]
     },
     "metadata": {},
     "output_type": "display_data"
    },
    {
     "data": {
      "text/html": [
       "<div style=\"display: flex; align-items: center;\"><div style=\"background-color: #3d1d9b; width: 100px; height: 30px; display: inline-block; vertical-align: middle;\"></div><span style=\"margin-left: 5px;\">#3d1d9b</span></div>"
      ],
      "text/plain": [
       "<IPython.core.display.HTML object>"
      ]
     },
     "metadata": {},
     "output_type": "display_data"
    },
    {
     "data": {
      "text/html": [
       "<div style=\"display: flex; align-items: center;\"><div style=\"background-color: #499427; width: 100px; height: 30px; display: inline-block; vertical-align: middle;\"></div><span style=\"margin-left: 5px;\">#499427</span></div>"
      ],
      "text/plain": [
       "<IPython.core.display.HTML object>"
      ]
     },
     "metadata": {},
     "output_type": "display_data"
    },
    {
     "data": {
      "text/html": [
       "<div style=\"display: flex; align-items: center;\"><div style=\"background-color: #7a870d; width: 100px; height: 30px; display: inline-block; vertical-align: middle;\"></div><span style=\"margin-left: 5px;\">#7a870d</span></div>"
      ],
      "text/plain": [
       "<IPython.core.display.HTML object>"
      ]
     },
     "metadata": {},
     "output_type": "display_data"
    },
    {
     "data": {
      "text/html": [
       "<div style=\"display: flex; align-items: center;\"><div style=\"background-color: #552210; width: 100px; height: 30px; display: inline-block; vertical-align: middle;\"></div><span style=\"margin-left: 5px;\">#552210</span></div>"
      ],
      "text/plain": [
       "<IPython.core.display.HTML object>"
      ]
     },
     "metadata": {},
     "output_type": "display_data"
    },
    {
     "data": {
      "text/html": [
       "<div style=\"display: flex; align-items: center;\"><div style=\"background-color: #fc52ce; width: 100px; height: 30px; display: inline-block; vertical-align: middle;\"></div><span style=\"margin-left: 5px;\">#fc52ce</span></div>"
      ],
      "text/plain": [
       "<IPython.core.display.HTML object>"
      ]
     },
     "metadata": {},
     "output_type": "display_data"
    },
    {
     "data": {
      "text/html": [
       "<div style=\"display: flex; align-items: center;\"><div style=\"background-color: #40adc1; width: 100px; height: 30px; display: inline-block; vertical-align: middle;\"></div><span style=\"margin-left: 5px;\">#40adc1</span></div>"
      ],
      "text/plain": [
       "<IPython.core.display.HTML object>"
      ]
     },
     "metadata": {},
     "output_type": "display_data"
    },
    {
     "data": {
      "text/html": [
       "<div style=\"display: flex; align-items: center;\"><div style=\"background-color: #977869; width: 100px; height: 30px; display: inline-block; vertical-align: middle;\"></div><span style=\"margin-left: 5px;\">#977869</span></div>"
      ],
      "text/plain": [
       "<IPython.core.display.HTML object>"
      ]
     },
     "metadata": {},
     "output_type": "display_data"
    },
    {
     "data": {
      "text/html": [
       "<div style=\"display: flex; align-items: center;\"><div style=\"background-color: #58edd3; width: 100px; height: 30px; display: inline-block; vertical-align: middle;\"></div><span style=\"margin-left: 5px;\">#58edd3</span></div>"
      ],
      "text/plain": [
       "<IPython.core.display.HTML object>"
      ]
     },
     "metadata": {},
     "output_type": "display_data"
    },
    {
     "data": {
      "text/html": [
       "<div style=\"display: flex; align-items: center;\"><div style=\"background-color: #f61fba; width: 100px; height: 30px; display: inline-block; vertical-align: middle;\"></div><span style=\"margin-left: 5px;\">#f61fba</span></div>"
      ],
      "text/plain": [
       "<IPython.core.display.HTML object>"
      ]
     },
     "metadata": {},
     "output_type": "display_data"
    },
    {
     "data": {
      "text/html": [
       "<div style=\"display: flex; align-items: center;\"><div style=\"background-color: #ef2e10; width: 100px; height: 30px; display: inline-block; vertical-align: middle;\"></div><span style=\"margin-left: 5px;\">#ef2e10</span></div>"
      ],
      "text/plain": [
       "<IPython.core.display.HTML object>"
      ]
     },
     "metadata": {},
     "output_type": "display_data"
    },
    {
     "data": {
      "text/html": [
       "<div style=\"display: flex; align-items: center;\"><div style=\"background-color: #bc92d6; width: 100px; height: 30px; display: inline-block; vertical-align: middle;\"></div><span style=\"margin-left: 5px;\">#bc92d6</span></div>"
      ],
      "text/plain": [
       "<IPython.core.display.HTML object>"
      ]
     },
     "metadata": {},
     "output_type": "display_data"
    },
    {
     "data": {
      "text/html": [
       "<div style=\"display: flex; align-items: center;\"><div style=\"background-color: #23ca33; width: 100px; height: 30px; display: inline-block; vertical-align: middle;\"></div><span style=\"margin-left: 5px;\">#23ca33</span></div>"
      ],
      "text/plain": [
       "<IPython.core.display.HTML object>"
      ]
     },
     "metadata": {},
     "output_type": "display_data"
    },
    {
     "data": {
      "text/html": [
       "<div style=\"display: flex; align-items: center;\"><div style=\"background-color: #2929cf; width: 100px; height: 30px; display: inline-block; vertical-align: middle;\"></div><span style=\"margin-left: 5px;\">#2929cf</span></div>"
      ],
      "text/plain": [
       "<IPython.core.display.HTML object>"
      ]
     },
     "metadata": {},
     "output_type": "display_data"
    },
    {
     "data": {
      "text/html": [
       "<div style=\"display: flex; align-items: center;\"><div style=\"background-color: #a9855b; width: 100px; height: 30px; display: inline-block; vertical-align: middle;\"></div><span style=\"margin-left: 5px;\">#a9855b</span></div>"
      ],
      "text/plain": [
       "<IPython.core.display.HTML object>"
      ]
     },
     "metadata": {},
     "output_type": "display_data"
    },
    {
     "data": {
      "text/html": [
       "<div style=\"display: flex; align-items: center;\"><div style=\"background-color: #df64d0; width: 100px; height: 30px; display: inline-block; vertical-align: middle;\"></div><span style=\"margin-left: 5px;\">#df64d0</span></div>"
      ],
      "text/plain": [
       "<IPython.core.display.HTML object>"
      ]
     },
     "metadata": {},
     "output_type": "display_data"
    },
    {
     "data": {
      "text/html": [
       "<div style=\"display: flex; align-items: center;\"><div style=\"background-color: #6f6075; width: 100px; height: 30px; display: inline-block; vertical-align: middle;\"></div><span style=\"margin-left: 5px;\">#6f6075</span></div>"
      ],
      "text/plain": [
       "<IPython.core.display.HTML object>"
      ]
     },
     "metadata": {},
     "output_type": "display_data"
    },
    {
     "data": {
      "text/html": [
       "<div style=\"display: flex; align-items: center;\"><div style=\"background-color: #4cbe80; width: 100px; height: 30px; display: inline-block; vertical-align: middle;\"></div><span style=\"margin-left: 5px;\">#4cbe80</span></div>"
      ],
      "text/plain": [
       "<IPython.core.display.HTML object>"
      ]
     },
     "metadata": {},
     "output_type": "display_data"
    },
    {
     "data": {
      "text/html": [
       "<div style=\"display: flex; align-items: center;\"><div style=\"background-color: #3be561; width: 100px; height: 30px; display: inline-block; vertical-align: middle;\"></div><span style=\"margin-left: 5px;\">#3be561</span></div>"
      ],
      "text/plain": [
       "<IPython.core.display.HTML object>"
      ]
     },
     "metadata": {},
     "output_type": "display_data"
    },
    {
     "data": {
      "text/html": [
       "<div style=\"display: flex; align-items: center;\"><div style=\"background-color: #8ae79f; width: 100px; height: 30px; display: inline-block; vertical-align: middle;\"></div><span style=\"margin-left: 5px;\">#8ae79f</span></div>"
      ],
      "text/plain": [
       "<IPython.core.display.HTML object>"
      ]
     },
     "metadata": {},
     "output_type": "display_data"
    },
    {
     "data": {
      "text/html": [
       "<div style=\"display: flex; align-items: center;\"><div style=\"background-color: #1defa0; width: 100px; height: 30px; display: inline-block; vertical-align: middle;\"></div><span style=\"margin-left: 5px;\">#1defa0</span></div>"
      ],
      "text/plain": [
       "<IPython.core.display.HTML object>"
      ]
     },
     "metadata": {},
     "output_type": "display_data"
    },
    {
     "data": {
      "text/html": [
       "<div style=\"display: flex; align-items: center;\"><div style=\"background-color: #5523ca; width: 100px; height: 30px; display: inline-block; vertical-align: middle;\"></div><span style=\"margin-left: 5px;\">#5523ca</span></div>"
      ],
      "text/plain": [
       "<IPython.core.display.HTML object>"
      ]
     },
     "metadata": {},
     "output_type": "display_data"
    },
    {
     "data": {
      "text/html": [
       "<div style=\"display: flex; align-items: center;\"><div style=\"background-color: #9e88e3; width: 100px; height: 30px; display: inline-block; vertical-align: middle;\"></div><span style=\"margin-left: 5px;\">#9e88e3</span></div>"
      ],
      "text/plain": [
       "<IPython.core.display.HTML object>"
      ]
     },
     "metadata": {},
     "output_type": "display_data"
    },
    {
     "data": {
      "text/html": [
       "<div style=\"display: flex; align-items: center;\"><div style=\"background-color: #c9264f; width: 100px; height: 30px; display: inline-block; vertical-align: middle;\"></div><span style=\"margin-left: 5px;\">#c9264f</span></div>"
      ],
      "text/plain": [
       "<IPython.core.display.HTML object>"
      ]
     },
     "metadata": {},
     "output_type": "display_data"
    },
    {
     "data": {
      "text/html": [
       "<div style=\"display: flex; align-items: center;\"><div style=\"background-color: #3fbd08; width: 100px; height: 30px; display: inline-block; vertical-align: middle;\"></div><span style=\"margin-left: 5px;\">#3fbd08</span></div>"
      ],
      "text/plain": [
       "<IPython.core.display.HTML object>"
      ]
     },
     "metadata": {},
     "output_type": "display_data"
    },
    {
     "data": {
      "text/html": [
       "<div style=\"display: flex; align-items: center;\"><div style=\"background-color: #91c2df; width: 100px; height: 30px; display: inline-block; vertical-align: middle;\"></div><span style=\"margin-left: 5px;\">#91c2df</span></div>"
      ],
      "text/plain": [
       "<IPython.core.display.HTML object>"
      ]
     },
     "metadata": {},
     "output_type": "display_data"
    },
    {
     "data": {
      "text/html": [
       "<div style=\"display: flex; align-items: center;\"><div style=\"background-color: #57d11c; width: 100px; height: 30px; display: inline-block; vertical-align: middle;\"></div><span style=\"margin-left: 5px;\">#57d11c</span></div>"
      ],
      "text/plain": [
       "<IPython.core.display.HTML object>"
      ]
     },
     "metadata": {},
     "output_type": "display_data"
    },
    {
     "data": {
      "text/html": [
       "<div style=\"display: flex; align-items: center;\"><div style=\"background-color: #d72065; width: 100px; height: 30px; display: inline-block; vertical-align: middle;\"></div><span style=\"margin-left: 5px;\">#d72065</span></div>"
      ],
      "text/plain": [
       "<IPython.core.display.HTML object>"
      ]
     },
     "metadata": {},
     "output_type": "display_data"
    },
    {
     "data": {
      "text/html": [
       "<div style=\"display: flex; align-items: center;\"><div style=\"background-color: #cb263a; width: 100px; height: 30px; display: inline-block; vertical-align: middle;\"></div><span style=\"margin-left: 5px;\">#cb263a</span></div>"
      ],
      "text/plain": [
       "<IPython.core.display.HTML object>"
      ]
     },
     "metadata": {},
     "output_type": "display_data"
    },
    {
     "data": {
      "text/html": [
       "<div style=\"display: flex; align-items: center;\"><div style=\"background-color: #b8b7a3; width: 100px; height: 30px; display: inline-block; vertical-align: middle;\"></div><span style=\"margin-left: 5px;\">#b8b7a3</span></div>"
      ],
      "text/plain": [
       "<IPython.core.display.HTML object>"
      ]
     },
     "metadata": {},
     "output_type": "display_data"
    },
    {
     "data": {
      "text/html": [
       "<div style=\"display: flex; align-items: center;\"><div style=\"background-color: #b08a40; width: 100px; height: 30px; display: inline-block; vertical-align: middle;\"></div><span style=\"margin-left: 5px;\">#b08a40</span></div>"
      ],
      "text/plain": [
       "<IPython.core.display.HTML object>"
      ]
     },
     "metadata": {},
     "output_type": "display_data"
    },
    {
     "data": {
      "text/html": [
       "<div style=\"display: flex; align-items: center;\"><div style=\"background-color: #582ee7; width: 100px; height: 30px; display: inline-block; vertical-align: middle;\"></div><span style=\"margin-left: 5px;\">#582ee7</span></div>"
      ],
      "text/plain": [
       "<IPython.core.display.HTML object>"
      ]
     },
     "metadata": {},
     "output_type": "display_data"
    },
    {
     "data": {
      "text/html": [
       "<div style=\"display: flex; align-items: center;\"><div style=\"background-color: #946675; width: 100px; height: 30px; display: inline-block; vertical-align: middle;\"></div><span style=\"margin-left: 5px;\">#946675</span></div>"
      ],
      "text/plain": [
       "<IPython.core.display.HTML object>"
      ]
     },
     "metadata": {},
     "output_type": "display_data"
    },
    {
     "data": {
      "text/html": [
       "<div style=\"display: flex; align-items: center;\"><div style=\"background-color: #f12795; width: 100px; height: 30px; display: inline-block; vertical-align: middle;\"></div><span style=\"margin-left: 5px;\">#f12795</span></div>"
      ],
      "text/plain": [
       "<IPython.core.display.HTML object>"
      ]
     },
     "metadata": {},
     "output_type": "display_data"
    },
    {
     "data": {
      "text/html": [
       "<div style=\"display: flex; align-items: center;\"><div style=\"background-color: #819b04; width: 100px; height: 30px; display: inline-block; vertical-align: middle;\"></div><span style=\"margin-left: 5px;\">#819b04</span></div>"
      ],
      "text/plain": [
       "<IPython.core.display.HTML object>"
      ]
     },
     "metadata": {},
     "output_type": "display_data"
    },
    {
     "data": {
      "text/html": [
       "<div style=\"display: flex; align-items: center;\"><div style=\"background-color: #deed90; width: 100px; height: 30px; display: inline-block; vertical-align: middle;\"></div><span style=\"margin-left: 5px;\">#deed90</span></div>"
      ],
      "text/plain": [
       "<IPython.core.display.HTML object>"
      ]
     },
     "metadata": {},
     "output_type": "display_data"
    },
    {
     "data": {
      "text/html": [
       "<div style=\"display: flex; align-items: center;\"><div style=\"background-color: #b1ebb4; width: 100px; height: 30px; display: inline-block; vertical-align: middle;\"></div><span style=\"margin-left: 5px;\">#b1ebb4</span></div>"
      ],
      "text/plain": [
       "<IPython.core.display.HTML object>"
      ]
     },
     "metadata": {},
     "output_type": "display_data"
    },
    {
     "data": {
      "text/html": [
       "<div style=\"display: flex; align-items: center;\"><div style=\"background-color: #26929a; width: 100px; height: 30px; display: inline-block; vertical-align: middle;\"></div><span style=\"margin-left: 5px;\">#26929a</span></div>"
      ],
      "text/plain": [
       "<IPython.core.display.HTML object>"
      ]
     },
     "metadata": {},
     "output_type": "display_data"
    },
    {
     "data": {
      "text/html": [
       "<div style=\"display: flex; align-items: center;\"><div style=\"background-color: #6cbbee; width: 100px; height: 30px; display: inline-block; vertical-align: middle;\"></div><span style=\"margin-left: 5px;\">#6cbbee</span></div>"
      ],
      "text/plain": [
       "<IPython.core.display.HTML object>"
      ]
     },
     "metadata": {},
     "output_type": "display_data"
    },
    {
     "data": {
      "text/html": [
       "<div style=\"display: flex; align-items: center;\"><div style=\"background-color: #ec721c; width: 100px; height: 30px; display: inline-block; vertical-align: middle;\"></div><span style=\"margin-left: 5px;\">#ec721c</span></div>"
      ],
      "text/plain": [
       "<IPython.core.display.HTML object>"
      ]
     },
     "metadata": {},
     "output_type": "display_data"
    },
    {
     "data": {
      "text/html": [
       "<div style=\"display: flex; align-items: center;\"><div style=\"background-color: #fbd51f; width: 100px; height: 30px; display: inline-block; vertical-align: middle;\"></div><span style=\"margin-left: 5px;\">#fbd51f</span></div>"
      ],
      "text/plain": [
       "<IPython.core.display.HTML object>"
      ]
     },
     "metadata": {},
     "output_type": "display_data"
    },
    {
     "data": {
      "text/html": [
       "<div style=\"display: flex; align-items: center;\"><div style=\"background-color: #eadd84; width: 100px; height: 30px; display: inline-block; vertical-align: middle;\"></div><span style=\"margin-left: 5px;\">#eadd84</span></div>"
      ],
      "text/plain": [
       "<IPython.core.display.HTML object>"
      ]
     },
     "metadata": {},
     "output_type": "display_data"
    },
    {
     "data": {
      "text/html": [
       "<div style=\"display: flex; align-items: center;\"><div style=\"background-color: #96650d; width: 100px; height: 30px; display: inline-block; vertical-align: middle;\"></div><span style=\"margin-left: 5px;\">#96650d</span></div>"
      ],
      "text/plain": [
       "<IPython.core.display.HTML object>"
      ]
     },
     "metadata": {},
     "output_type": "display_data"
    },
    {
     "data": {
      "text/html": [
       "<div style=\"display: flex; align-items: center;\"><div style=\"background-color: #55cc01; width: 100px; height: 30px; display: inline-block; vertical-align: middle;\"></div><span style=\"margin-left: 5px;\">#55cc01</span></div>"
      ],
      "text/plain": [
       "<IPython.core.display.HTML object>"
      ]
     },
     "metadata": {},
     "output_type": "display_data"
    },
    {
     "data": {
      "text/html": [
       "<div style=\"display: flex; align-items: center;\"><div style=\"background-color: #556589; width: 100px; height: 30px; display: inline-block; vertical-align: middle;\"></div><span style=\"margin-left: 5px;\">#556589</span></div>"
      ],
      "text/plain": [
       "<IPython.core.display.HTML object>"
      ]
     },
     "metadata": {},
     "output_type": "display_data"
    },
    {
     "data": {
      "text/html": [
       "<div style=\"display: flex; align-items: center;\"><div style=\"background-color: #ea5858; width: 100px; height: 30px; display: inline-block; vertical-align: middle;\"></div><span style=\"margin-left: 5px;\">#ea5858</span></div>"
      ],
      "text/plain": [
       "<IPython.core.display.HTML object>"
      ]
     },
     "metadata": {},
     "output_type": "display_data"
    },
    {
     "data": {
      "text/html": [
       "<div style=\"display: flex; align-items: center;\"><div style=\"background-color: #bc7339; width: 100px; height: 30px; display: inline-block; vertical-align: middle;\"></div><span style=\"margin-left: 5px;\">#bc7339</span></div>"
      ],
      "text/plain": [
       "<IPython.core.display.HTML object>"
      ]
     },
     "metadata": {},
     "output_type": "display_data"
    },
    {
     "data": {
      "text/html": [
       "<div style=\"display: flex; align-items: center;\"><div style=\"background-color: #73232c; width: 100px; height: 30px; display: inline-block; vertical-align: middle;\"></div><span style=\"margin-left: 5px;\">#73232c</span></div>"
      ],
      "text/plain": [
       "<IPython.core.display.HTML object>"
      ]
     },
     "metadata": {},
     "output_type": "display_data"
    },
    {
     "data": {
      "text/html": [
       "<div style=\"display: flex; align-items: center;\"><div style=\"background-color: #7f6ae9; width: 100px; height: 30px; display: inline-block; vertical-align: middle;\"></div><span style=\"margin-left: 5px;\">#7f6ae9</span></div>"
      ],
      "text/plain": [
       "<IPython.core.display.HTML object>"
      ]
     },
     "metadata": {},
     "output_type": "display_data"
    },
    {
     "data": {
      "text/html": [
       "<div style=\"display: flex; align-items: center;\"><div style=\"background-color: #5c94a1; width: 100px; height: 30px; display: inline-block; vertical-align: middle;\"></div><span style=\"margin-left: 5px;\">#5c94a1</span></div>"
      ],
      "text/plain": [
       "<IPython.core.display.HTML object>"
      ]
     },
     "metadata": {},
     "output_type": "display_data"
    },
    {
     "data": {
      "text/html": [
       "<div style=\"display: flex; align-items: center;\"><div style=\"background-color: #03a92d; width: 100px; height: 30px; display: inline-block; vertical-align: middle;\"></div><span style=\"margin-left: 5px;\">#03a92d</span></div>"
      ],
      "text/plain": [
       "<IPython.core.display.HTML object>"
      ]
     },
     "metadata": {},
     "output_type": "display_data"
    },
    {
     "data": {
      "text/html": [
       "<div style=\"display: flex; align-items: center;\"><div style=\"background-color: #f52569; width: 100px; height: 30px; display: inline-block; vertical-align: middle;\"></div><span style=\"margin-left: 5px;\">#f52569</span></div>"
      ],
      "text/plain": [
       "<IPython.core.display.HTML object>"
      ]
     },
     "metadata": {},
     "output_type": "display_data"
    },
    {
     "data": {
      "text/html": [
       "<div style=\"display: flex; align-items: center;\"><div style=\"background-color: #15fe80; width: 100px; height: 30px; display: inline-block; vertical-align: middle;\"></div><span style=\"margin-left: 5px;\">#15fe80</span></div>"
      ],
      "text/plain": [
       "<IPython.core.display.HTML object>"
      ]
     },
     "metadata": {},
     "output_type": "display_data"
    },
    {
     "data": {
      "text/html": [
       "<div style=\"display: flex; align-items: center;\"><div style=\"background-color: #9711bf; width: 100px; height: 30px; display: inline-block; vertical-align: middle;\"></div><span style=\"margin-left: 5px;\">#9711bf</span></div>"
      ],
      "text/plain": [
       "<IPython.core.display.HTML object>"
      ]
     },
     "metadata": {},
     "output_type": "display_data"
    },
    {
     "data": {
      "text/html": [
       "<div style=\"display: flex; align-items: center;\"><div style=\"background-color: #35e534; width: 100px; height: 30px; display: inline-block; vertical-align: middle;\"></div><span style=\"margin-left: 5px;\">#35e534</span></div>"
      ],
      "text/plain": [
       "<IPython.core.display.HTML object>"
      ]
     },
     "metadata": {},
     "output_type": "display_data"
    },
    {
     "data": {
      "text/html": [
       "<div style=\"display: flex; align-items: center;\"><div style=\"background-color: #300978; width: 100px; height: 30px; display: inline-block; vertical-align: middle;\"></div><span style=\"margin-left: 5px;\">#300978</span></div>"
      ],
      "text/plain": [
       "<IPython.core.display.HTML object>"
      ]
     },
     "metadata": {},
     "output_type": "display_data"
    },
    {
     "data": {
      "text/html": [
       "<div style=\"display: flex; align-items: center;\"><div style=\"background-color: #9010c5; width: 100px; height: 30px; display: inline-block; vertical-align: middle;\"></div><span style=\"margin-left: 5px;\">#9010c5</span></div>"
      ],
      "text/plain": [
       "<IPython.core.display.HTML object>"
      ]
     },
     "metadata": {},
     "output_type": "display_data"
    },
    {
     "data": {
      "text/html": [
       "<div style=\"display: flex; align-items: center;\"><div style=\"background-color: #738570; width: 100px; height: 30px; display: inline-block; vertical-align: middle;\"></div><span style=\"margin-left: 5px;\">#738570</span></div>"
      ],
      "text/plain": [
       "<IPython.core.display.HTML object>"
      ]
     },
     "metadata": {},
     "output_type": "display_data"
    },
    {
     "data": {
      "text/html": [
       "<div style=\"display: flex; align-items: center;\"><div style=\"background-color: #668e27; width: 100px; height: 30px; display: inline-block; vertical-align: middle;\"></div><span style=\"margin-left: 5px;\">#668e27</span></div>"
      ],
      "text/plain": [
       "<IPython.core.display.HTML object>"
      ]
     },
     "metadata": {},
     "output_type": "display_data"
    },
    {
     "data": {
      "text/html": [
       "<div style=\"display: flex; align-items: center;\"><div style=\"background-color: #2edbf1; width: 100px; height: 30px; display: inline-block; vertical-align: middle;\"></div><span style=\"margin-left: 5px;\">#2edbf1</span></div>"
      ],
      "text/plain": [
       "<IPython.core.display.HTML object>"
      ]
     },
     "metadata": {},
     "output_type": "display_data"
    },
    {
     "data": {
      "text/html": [
       "<div style=\"display: flex; align-items: center;\"><div style=\"background-color: #5f45a4; width: 100px; height: 30px; display: inline-block; vertical-align: middle;\"></div><span style=\"margin-left: 5px;\">#5f45a4</span></div>"
      ],
      "text/plain": [
       "<IPython.core.display.HTML object>"
      ]
     },
     "metadata": {},
     "output_type": "display_data"
    },
    {
     "data": {
      "text/html": [
       "<div style=\"display: flex; align-items: center;\"><div style=\"background-color: #680627; width: 100px; height: 30px; display: inline-block; vertical-align: middle;\"></div><span style=\"margin-left: 5px;\">#680627</span></div>"
      ],
      "text/plain": [
       "<IPython.core.display.HTML object>"
      ]
     },
     "metadata": {},
     "output_type": "display_data"
    },
    {
     "data": {
      "text/html": [
       "<div style=\"display: flex; align-items: center;\"><div style=\"background-color: #b6a806; width: 100px; height: 30px; display: inline-block; vertical-align: middle;\"></div><span style=\"margin-left: 5px;\">#b6a806</span></div>"
      ],
      "text/plain": [
       "<IPython.core.display.HTML object>"
      ]
     },
     "metadata": {},
     "output_type": "display_data"
    },
    {
     "data": {
      "text/html": [
       "<div style=\"display: flex; align-items: center;\"><div style=\"background-color: #383aab; width: 100px; height: 30px; display: inline-block; vertical-align: middle;\"></div><span style=\"margin-left: 5px;\">#383aab</span></div>"
      ],
      "text/plain": [
       "<IPython.core.display.HTML object>"
      ]
     },
     "metadata": {},
     "output_type": "display_data"
    },
    {
     "data": {
      "text/html": [
       "<div style=\"display: flex; align-items: center;\"><div style=\"background-color: #051acb; width: 100px; height: 30px; display: inline-block; vertical-align: middle;\"></div><span style=\"margin-left: 5px;\">#051acb</span></div>"
      ],
      "text/plain": [
       "<IPython.core.display.HTML object>"
      ]
     },
     "metadata": {},
     "output_type": "display_data"
    },
    {
     "data": {
      "text/html": [
       "<div style=\"display: flex; align-items: center;\"><div style=\"background-color: #2da63c; width: 100px; height: 30px; display: inline-block; vertical-align: middle;\"></div><span style=\"margin-left: 5px;\">#2da63c</span></div>"
      ],
      "text/plain": [
       "<IPython.core.display.HTML object>"
      ]
     },
     "metadata": {},
     "output_type": "display_data"
    },
    {
     "data": {
      "text/html": [
       "<div style=\"display: flex; align-items: center;\"><div style=\"background-color: #193eb8; width: 100px; height: 30px; display: inline-block; vertical-align: middle;\"></div><span style=\"margin-left: 5px;\">#193eb8</span></div>"
      ],
      "text/plain": [
       "<IPython.core.display.HTML object>"
      ]
     },
     "metadata": {},
     "output_type": "display_data"
    },
    {
     "data": {
      "text/html": [
       "<div style=\"display: flex; align-items: center;\"><div style=\"background-color: #dad365; width: 100px; height: 30px; display: inline-block; vertical-align: middle;\"></div><span style=\"margin-left: 5px;\">#dad365</span></div>"
      ],
      "text/plain": [
       "<IPython.core.display.HTML object>"
      ]
     },
     "metadata": {},
     "output_type": "display_data"
    },
    {
     "data": {
      "text/html": [
       "<div style=\"display: flex; align-items: center;\"><div style=\"background-color: #aa344a; width: 100px; height: 30px; display: inline-block; vertical-align: middle;\"></div><span style=\"margin-left: 5px;\">#aa344a</span></div>"
      ],
      "text/plain": [
       "<IPython.core.display.HTML object>"
      ]
     },
     "metadata": {},
     "output_type": "display_data"
    },
    {
     "data": {
      "text/html": [
       "<div style=\"display: flex; align-items: center;\"><div style=\"background-color: #e40315; width: 100px; height: 30px; display: inline-block; vertical-align: middle;\"></div><span style=\"margin-left: 5px;\">#e40315</span></div>"
      ],
      "text/plain": [
       "<IPython.core.display.HTML object>"
      ]
     },
     "metadata": {},
     "output_type": "display_data"
    },
    {
     "data": {
      "text/html": [
       "<div style=\"display: flex; align-items: center;\"><div style=\"background-color: #35062e; width: 100px; height: 30px; display: inline-block; vertical-align: middle;\"></div><span style=\"margin-left: 5px;\">#35062e</span></div>"
      ],
      "text/plain": [
       "<IPython.core.display.HTML object>"
      ]
     },
     "metadata": {},
     "output_type": "display_data"
    },
    {
     "data": {
      "text/html": [
       "<div style=\"display: flex; align-items: center;\"><div style=\"background-color: #946be3; width: 100px; height: 30px; display: inline-block; vertical-align: middle;\"></div><span style=\"margin-left: 5px;\">#946be3</span></div>"
      ],
      "text/plain": [
       "<IPython.core.display.HTML object>"
      ]
     },
     "metadata": {},
     "output_type": "display_data"
    },
    {
     "data": {
      "text/html": [
       "<div style=\"display: flex; align-items: center;\"><div style=\"background-color: #d05742; width: 100px; height: 30px; display: inline-block; vertical-align: middle;\"></div><span style=\"margin-left: 5px;\">#d05742</span></div>"
      ],
      "text/plain": [
       "<IPython.core.display.HTML object>"
      ]
     },
     "metadata": {},
     "output_type": "display_data"
    },
    {
     "data": {
      "text/html": [
       "<div style=\"display: flex; align-items: center;\"><div style=\"background-color: #609644; width: 100px; height: 30px; display: inline-block; vertical-align: middle;\"></div><span style=\"margin-left: 5px;\">#609644</span></div>"
      ],
      "text/plain": [
       "<IPython.core.display.HTML object>"
      ]
     },
     "metadata": {},
     "output_type": "display_data"
    },
    {
     "data": {
      "text/html": [
       "<div style=\"display: flex; align-items: center;\"><div style=\"background-color: #9f688c; width: 100px; height: 30px; display: inline-block; vertical-align: middle;\"></div><span style=\"margin-left: 5px;\">#9f688c</span></div>"
      ],
      "text/plain": [
       "<IPython.core.display.HTML object>"
      ]
     },
     "metadata": {},
     "output_type": "display_data"
    },
    {
     "data": {
      "text/html": [
       "<div style=\"display: flex; align-items: center;\"><div style=\"background-color: #6f4bf1; width: 100px; height: 30px; display: inline-block; vertical-align: middle;\"></div><span style=\"margin-left: 5px;\">#6f4bf1</span></div>"
      ],
      "text/plain": [
       "<IPython.core.display.HTML object>"
      ]
     },
     "metadata": {},
     "output_type": "display_data"
    },
    {
     "data": {
      "text/html": [
       "<div style=\"display: flex; align-items: center;\"><div style=\"background-color: #c223dd; width: 100px; height: 30px; display: inline-block; vertical-align: middle;\"></div><span style=\"margin-left: 5px;\">#c223dd</span></div>"
      ],
      "text/plain": [
       "<IPython.core.display.HTML object>"
      ]
     },
     "metadata": {},
     "output_type": "display_data"
    },
    {
     "data": {
      "text/html": [
       "<div style=\"display: flex; align-items: center;\"><div style=\"background-color: #7ce4cb; width: 100px; height: 30px; display: inline-block; vertical-align: middle;\"></div><span style=\"margin-left: 5px;\">#7ce4cb</span></div>"
      ],
      "text/plain": [
       "<IPython.core.display.HTML object>"
      ]
     },
     "metadata": {},
     "output_type": "display_data"
    },
    {
     "data": {
      "text/html": [
       "<div style=\"display: flex; align-items: center;\"><div style=\"background-color: #6c0544; width: 100px; height: 30px; display: inline-block; vertical-align: middle;\"></div><span style=\"margin-left: 5px;\">#6c0544</span></div>"
      ],
      "text/plain": [
       "<IPython.core.display.HTML object>"
      ]
     },
     "metadata": {},
     "output_type": "display_data"
    },
    {
     "data": {
      "text/html": [
       "<div style=\"display: flex; align-items: center;\"><div style=\"background-color: #8aa141; width: 100px; height: 30px; display: inline-block; vertical-align: middle;\"></div><span style=\"margin-left: 5px;\">#8aa141</span></div>"
      ],
      "text/plain": [
       "<IPython.core.display.HTML object>"
      ]
     },
     "metadata": {},
     "output_type": "display_data"
    },
    {
     "data": {
      "text/html": [
       "<div style=\"display: flex; align-items: center;\"><div style=\"background-color: #23d4fb; width: 100px; height: 30px; display: inline-block; vertical-align: middle;\"></div><span style=\"margin-left: 5px;\">#23d4fb</span></div>"
      ],
      "text/plain": [
       "<IPython.core.display.HTML object>"
      ]
     },
     "metadata": {},
     "output_type": "display_data"
    },
    {
     "data": {
      "text/html": [
       "<div style=\"display: flex; align-items: center;\"><div style=\"background-color: #862b45; width: 100px; height: 30px; display: inline-block; vertical-align: middle;\"></div><span style=\"margin-left: 5px;\">#862b45</span></div>"
      ],
      "text/plain": [
       "<IPython.core.display.HTML object>"
      ]
     },
     "metadata": {},
     "output_type": "display_data"
    },
    {
     "data": {
      "text/html": [
       "<div style=\"display: flex; align-items: center;\"><div style=\"background-color: #04e91e; width: 100px; height: 30px; display: inline-block; vertical-align: middle;\"></div><span style=\"margin-left: 5px;\">#04e91e</span></div>"
      ],
      "text/plain": [
       "<IPython.core.display.HTML object>"
      ]
     },
     "metadata": {},
     "output_type": "display_data"
    },
    {
     "data": {
      "text/html": [
       "<div style=\"display: flex; align-items: center;\"><div style=\"background-color: #93458d; width: 100px; height: 30px; display: inline-block; vertical-align: middle;\"></div><span style=\"margin-left: 5px;\">#93458d</span></div>"
      ],
      "text/plain": [
       "<IPython.core.display.HTML object>"
      ]
     },
     "metadata": {},
     "output_type": "display_data"
    },
    {
     "data": {
      "text/html": [
       "<div style=\"display: flex; align-items: center;\"><div style=\"background-color: #a6d334; width: 100px; height: 30px; display: inline-block; vertical-align: middle;\"></div><span style=\"margin-left: 5px;\">#a6d334</span></div>"
      ],
      "text/plain": [
       "<IPython.core.display.HTML object>"
      ]
     },
     "metadata": {},
     "output_type": "display_data"
    },
    {
     "data": {
      "text/html": [
       "<div style=\"display: flex; align-items: center;\"><div style=\"background-color: #0222e5; width: 100px; height: 30px; display: inline-block; vertical-align: middle;\"></div><span style=\"margin-left: 5px;\">#0222e5</span></div>"
      ],
      "text/plain": [
       "<IPython.core.display.HTML object>"
      ]
     },
     "metadata": {},
     "output_type": "display_data"
    },
    {
     "data": {
      "text/html": [
       "<div style=\"display: flex; align-items: center;\"><div style=\"background-color: #de9899; width: 100px; height: 30px; display: inline-block; vertical-align: middle;\"></div><span style=\"margin-left: 5px;\">#de9899</span></div>"
      ],
      "text/plain": [
       "<IPython.core.display.HTML object>"
      ]
     },
     "metadata": {},
     "output_type": "display_data"
    },
    {
     "data": {
      "text/html": [
       "<div style=\"display: flex; align-items: center;\"><div style=\"background-color: #a92ce9; width: 100px; height: 30px; display: inline-block; vertical-align: middle;\"></div><span style=\"margin-left: 5px;\">#a92ce9</span></div>"
      ],
      "text/plain": [
       "<IPython.core.display.HTML object>"
      ]
     },
     "metadata": {},
     "output_type": "display_data"
    },
    {
     "data": {
      "text/html": [
       "<div style=\"display: flex; align-items: center;\"><div style=\"background-color: #6a6184; width: 100px; height: 30px; display: inline-block; vertical-align: middle;\"></div><span style=\"margin-left: 5px;\">#6a6184</span></div>"
      ],
      "text/plain": [
       "<IPython.core.display.HTML object>"
      ]
     },
     "metadata": {},
     "output_type": "display_data"
    },
    {
     "data": {
      "text/html": [
       "<div style=\"display: flex; align-items: center;\"><div style=\"background-color: #0b2abc; width: 100px; height: 30px; display: inline-block; vertical-align: middle;\"></div><span style=\"margin-left: 5px;\">#0b2abc</span></div>"
      ],
      "text/plain": [
       "<IPython.core.display.HTML object>"
      ]
     },
     "metadata": {},
     "output_type": "display_data"
    },
    {
     "data": {
      "text/html": [
       "<div style=\"display: flex; align-items: center;\"><div style=\"background-color: #15993e; width: 100px; height: 30px; display: inline-block; vertical-align: middle;\"></div><span style=\"margin-left: 5px;\">#15993e</span></div>"
      ],
      "text/plain": [
       "<IPython.core.display.HTML object>"
      ]
     },
     "metadata": {},
     "output_type": "display_data"
    },
    {
     "data": {
      "text/html": [
       "<div style=\"display: flex; align-items: center;\"><div style=\"background-color: #63495a; width: 100px; height: 30px; display: inline-block; vertical-align: middle;\"></div><span style=\"margin-left: 5px;\">#63495a</span></div>"
      ],
      "text/plain": [
       "<IPython.core.display.HTML object>"
      ]
     },
     "metadata": {},
     "output_type": "display_data"
    },
    {
     "data": {
      "text/html": [
       "<div style=\"display: flex; align-items: center;\"><div style=\"background-color: #b74b90; width: 100px; height: 30px; display: inline-block; vertical-align: middle;\"></div><span style=\"margin-left: 5px;\">#b74b90</span></div>"
      ],
      "text/plain": [
       "<IPython.core.display.HTML object>"
      ]
     },
     "metadata": {},
     "output_type": "display_data"
    },
    {
     "data": {
      "text/html": [
       "<div style=\"display: flex; align-items: center;\"><div style=\"background-color: #79a9ee; width: 100px; height: 30px; display: inline-block; vertical-align: middle;\"></div><span style=\"margin-left: 5px;\">#79a9ee</span></div>"
      ],
      "text/plain": [
       "<IPython.core.display.HTML object>"
      ]
     },
     "metadata": {},
     "output_type": "display_data"
    },
    {
     "data": {
      "text/html": [
       "<div style=\"display: flex; align-items: center;\"><div style=\"background-color: #ba3607; width: 100px; height: 30px; display: inline-block; vertical-align: middle;\"></div><span style=\"margin-left: 5px;\">#ba3607</span></div>"
      ],
      "text/plain": [
       "<IPython.core.display.HTML object>"
      ]
     },
     "metadata": {},
     "output_type": "display_data"
    },
    {
     "data": {
      "text/html": [
       "<div style=\"display: flex; align-items: center;\"><div style=\"background-color: #42970d; width: 100px; height: 30px; display: inline-block; vertical-align: middle;\"></div><span style=\"margin-left: 5px;\">#42970d</span></div>"
      ],
      "text/plain": [
       "<IPython.core.display.HTML object>"
      ]
     },
     "metadata": {},
     "output_type": "display_data"
    },
    {
     "data": {
      "text/html": [
       "<div style=\"display: flex; align-items: center;\"><div style=\"background-color: #7e9855; width: 100px; height: 30px; display: inline-block; vertical-align: middle;\"></div><span style=\"margin-left: 5px;\">#7e9855</span></div>"
      ],
      "text/plain": [
       "<IPython.core.display.HTML object>"
      ]
     },
     "metadata": {},
     "output_type": "display_data"
    },
    {
     "data": {
      "text/html": [
       "<div style=\"display: flex; align-items: center;\"><div style=\"background-color: #c41b13; width: 100px; height: 30px; display: inline-block; vertical-align: middle;\"></div><span style=\"margin-left: 5px;\">#c41b13</span></div>"
      ],
      "text/plain": [
       "<IPython.core.display.HTML object>"
      ]
     },
     "metadata": {},
     "output_type": "display_data"
    },
    {
     "data": {
      "text/html": [
       "<div style=\"display: flex; align-items: center;\"><div style=\"background-color: #b97eaf; width: 100px; height: 30px; display: inline-block; vertical-align: middle;\"></div><span style=\"margin-left: 5px;\">#b97eaf</span></div>"
      ],
      "text/plain": [
       "<IPython.core.display.HTML object>"
      ]
     },
     "metadata": {},
     "output_type": "display_data"
    },
    {
     "data": {
      "text/html": [
       "<div style=\"display: flex; align-items: center;\"><div style=\"background-color: #6e3ed0; width: 100px; height: 30px; display: inline-block; vertical-align: middle;\"></div><span style=\"margin-left: 5px;\">#6e3ed0</span></div>"
      ],
      "text/plain": [
       "<IPython.core.display.HTML object>"
      ]
     },
     "metadata": {},
     "output_type": "display_data"
    },
    {
     "data": {
      "text/html": [
       "<div style=\"display: flex; align-items: center;\"><div style=\"background-color: #cbb145; width: 100px; height: 30px; display: inline-block; vertical-align: middle;\"></div><span style=\"margin-left: 5px;\">#cbb145</span></div>"
      ],
      "text/plain": [
       "<IPython.core.display.HTML object>"
      ]
     },
     "metadata": {},
     "output_type": "display_data"
    },
    {
     "data": {
      "text/html": [
       "<div style=\"display: flex; align-items: center;\"><div style=\"background-color: #965c17; width: 100px; height: 30px; display: inline-block; vertical-align: middle;\"></div><span style=\"margin-left: 5px;\">#965c17</span></div>"
      ],
      "text/plain": [
       "<IPython.core.display.HTML object>"
      ]
     },
     "metadata": {},
     "output_type": "display_data"
    },
    {
     "data": {
      "text/html": [
       "<div style=\"display: flex; align-items: center;\"><div style=\"background-color: #e922f2; width: 100px; height: 30px; display: inline-block; vertical-align: middle;\"></div><span style=\"margin-left: 5px;\">#e922f2</span></div>"
      ],
      "text/plain": [
       "<IPython.core.display.HTML object>"
      ]
     },
     "metadata": {},
     "output_type": "display_data"
    },
    {
     "data": {
      "text/html": [
       "<div style=\"display: flex; align-items: center;\"><div style=\"background-color: #712f8a; width: 100px; height: 30px; display: inline-block; vertical-align: middle;\"></div><span style=\"margin-left: 5px;\">#712f8a</span></div>"
      ],
      "text/plain": [
       "<IPython.core.display.HTML object>"
      ]
     },
     "metadata": {},
     "output_type": "display_data"
    },
    {
     "data": {
      "text/html": [
       "<div style=\"display: flex; align-items: center;\"><div style=\"background-color: #debacd; width: 100px; height: 30px; display: inline-block; vertical-align: middle;\"></div><span style=\"margin-left: 5px;\">#debacd</span></div>"
      ],
      "text/plain": [
       "<IPython.core.display.HTML object>"
      ]
     },
     "metadata": {},
     "output_type": "display_data"
    },
    {
     "data": {
      "text/html": [
       "<div style=\"display: flex; align-items: center;\"><div style=\"background-color: #a7b0d8; width: 100px; height: 30px; display: inline-block; vertical-align: middle;\"></div><span style=\"margin-left: 5px;\">#a7b0d8</span></div>"
      ],
      "text/plain": [
       "<IPython.core.display.HTML object>"
      ]
     },
     "metadata": {},
     "output_type": "display_data"
    },
    {
     "data": {
      "text/html": [
       "<div style=\"display: flex; align-items: center;\"><div style=\"background-color: #3f7c38; width: 100px; height: 30px; display: inline-block; vertical-align: middle;\"></div><span style=\"margin-left: 5px;\">#3f7c38</span></div>"
      ],
      "text/plain": [
       "<IPython.core.display.HTML object>"
      ]
     },
     "metadata": {},
     "output_type": "display_data"
    },
    {
     "data": {
      "text/html": [
       "<div style=\"display: flex; align-items: center;\"><div style=\"background-color: #fbf00a; width: 100px; height: 30px; display: inline-block; vertical-align: middle;\"></div><span style=\"margin-left: 5px;\">#fbf00a</span></div>"
      ],
      "text/plain": [
       "<IPython.core.display.HTML object>"
      ]
     },
     "metadata": {},
     "output_type": "display_data"
    },
    {
     "data": {
      "text/html": [
       "<div style=\"display: flex; align-items: center;\"><div style=\"background-color: #b3eb2e; width: 100px; height: 30px; display: inline-block; vertical-align: middle;\"></div><span style=\"margin-left: 5px;\">#b3eb2e</span></div>"
      ],
      "text/plain": [
       "<IPython.core.display.HTML object>"
      ]
     },
     "metadata": {},
     "output_type": "display_data"
    },
    {
     "data": {
      "text/html": [
       "<div style=\"display: flex; align-items: center;\"><div style=\"background-color: #90e908; width: 100px; height: 30px; display: inline-block; vertical-align: middle;\"></div><span style=\"margin-left: 5px;\">#90e908</span></div>"
      ],
      "text/plain": [
       "<IPython.core.display.HTML object>"
      ]
     },
     "metadata": {},
     "output_type": "display_data"
    },
    {
     "data": {
      "text/html": [
       "<div style=\"display: flex; align-items: center;\"><div style=\"background-color: #b14beb; width: 100px; height: 30px; display: inline-block; vertical-align: middle;\"></div><span style=\"margin-left: 5px;\">#b14beb</span></div>"
      ],
      "text/plain": [
       "<IPython.core.display.HTML object>"
      ]
     },
     "metadata": {},
     "output_type": "display_data"
    },
    {
     "data": {
      "text/html": [
       "<div style=\"display: flex; align-items: center;\"><div style=\"background-color: #f7f078; width: 100px; height: 30px; display: inline-block; vertical-align: middle;\"></div><span style=\"margin-left: 5px;\">#f7f078</span></div>"
      ],
      "text/plain": [
       "<IPython.core.display.HTML object>"
      ]
     },
     "metadata": {},
     "output_type": "display_data"
    },
    {
     "data": {
      "text/html": [
       "<div style=\"display: flex; align-items: center;\"><div style=\"background-color: #dbd751; width: 100px; height: 30px; display: inline-block; vertical-align: middle;\"></div><span style=\"margin-left: 5px;\">#dbd751</span></div>"
      ],
      "text/plain": [
       "<IPython.core.display.HTML object>"
      ]
     },
     "metadata": {},
     "output_type": "display_data"
    },
    {
     "data": {
      "text/html": [
       "<div style=\"display: flex; align-items: center;\"><div style=\"background-color: #d30998; width: 100px; height: 30px; display: inline-block; vertical-align: middle;\"></div><span style=\"margin-left: 5px;\">#d30998</span></div>"
      ],
      "text/plain": [
       "<IPython.core.display.HTML object>"
      ]
     },
     "metadata": {},
     "output_type": "display_data"
    },
    {
     "data": {
      "text/html": [
       "<div style=\"display: flex; align-items: center;\"><div style=\"background-color: #3a1e13; width: 100px; height: 30px; display: inline-block; vertical-align: middle;\"></div><span style=\"margin-left: 5px;\">#3a1e13</span></div>"
      ],
      "text/plain": [
       "<IPython.core.display.HTML object>"
      ]
     },
     "metadata": {},
     "output_type": "display_data"
    },
    {
     "data": {
      "text/html": [
       "<div style=\"display: flex; align-items: center;\"><div style=\"background-color: #b156b8; width: 100px; height: 30px; display: inline-block; vertical-align: middle;\"></div><span style=\"margin-left: 5px;\">#b156b8</span></div>"
      ],
      "text/plain": [
       "<IPython.core.display.HTML object>"
      ]
     },
     "metadata": {},
     "output_type": "display_data"
    },
    {
     "data": {
      "text/html": [
       "<div style=\"display: flex; align-items: center;\"><div style=\"background-color: #105089; width: 100px; height: 30px; display: inline-block; vertical-align: middle;\"></div><span style=\"margin-left: 5px;\">#105089</span></div>"
      ],
      "text/plain": [
       "<IPython.core.display.HTML object>"
      ]
     },
     "metadata": {},
     "output_type": "display_data"
    },
    {
     "data": {
      "text/html": [
       "<div style=\"display: flex; align-items: center;\"><div style=\"background-color: #c9519f; width: 100px; height: 30px; display: inline-block; vertical-align: middle;\"></div><span style=\"margin-left: 5px;\">#c9519f</span></div>"
      ],
      "text/plain": [
       "<IPython.core.display.HTML object>"
      ]
     },
     "metadata": {},
     "output_type": "display_data"
    },
    {
     "data": {
      "text/html": [
       "<div style=\"display: flex; align-items: center;\"><div style=\"background-color: #e19d3b; width: 100px; height: 30px; display: inline-block; vertical-align: middle;\"></div><span style=\"margin-left: 5px;\">#e19d3b</span></div>"
      ],
      "text/plain": [
       "<IPython.core.display.HTML object>"
      ]
     },
     "metadata": {},
     "output_type": "display_data"
    },
    {
     "data": {
      "text/html": [
       "<div style=\"display: flex; align-items: center;\"><div style=\"background-color: #06dd05; width: 100px; height: 30px; display: inline-block; vertical-align: middle;\"></div><span style=\"margin-left: 5px;\">#06dd05</span></div>"
      ],
      "text/plain": [
       "<IPython.core.display.HTML object>"
      ]
     },
     "metadata": {},
     "output_type": "display_data"
    },
    {
     "data": {
      "text/html": [
       "<div style=\"display: flex; align-items: center;\"><div style=\"background-color: #df86ef; width: 100px; height: 30px; display: inline-block; vertical-align: middle;\"></div><span style=\"margin-left: 5px;\">#df86ef</span></div>"
      ],
      "text/plain": [
       "<IPython.core.display.HTML object>"
      ]
     },
     "metadata": {},
     "output_type": "display_data"
    },
    {
     "data": {
      "text/html": [
       "<div style=\"display: flex; align-items: center;\"><div style=\"background-color: #cbfe59; width: 100px; height: 30px; display: inline-block; vertical-align: middle;\"></div><span style=\"margin-left: 5px;\">#cbfe59</span></div>"
      ],
      "text/plain": [
       "<IPython.core.display.HTML object>"
      ]
     },
     "metadata": {},
     "output_type": "display_data"
    },
    {
     "data": {
      "text/html": [
       "<div style=\"display: flex; align-items: center;\"><div style=\"background-color: #c3667a; width: 100px; height: 30px; display: inline-block; vertical-align: middle;\"></div><span style=\"margin-left: 5px;\">#c3667a</span></div>"
      ],
      "text/plain": [
       "<IPython.core.display.HTML object>"
      ]
     },
     "metadata": {},
     "output_type": "display_data"
    },
    {
     "data": {
      "text/html": [
       "<div style=\"display: flex; align-items: center;\"><div style=\"background-color: #a0defa; width: 100px; height: 30px; display: inline-block; vertical-align: middle;\"></div><span style=\"margin-left: 5px;\">#a0defa</span></div>"
      ],
      "text/plain": [
       "<IPython.core.display.HTML object>"
      ]
     },
     "metadata": {},
     "output_type": "display_data"
    },
    {
     "data": {
      "text/html": [
       "<div style=\"display: flex; align-items: center;\"><div style=\"background-color: #c36a6b; width: 100px; height: 30px; display: inline-block; vertical-align: middle;\"></div><span style=\"margin-left: 5px;\">#c36a6b</span></div>"
      ],
      "text/plain": [
       "<IPython.core.display.HTML object>"
      ]
     },
     "metadata": {},
     "output_type": "display_data"
    },
    {
     "data": {
      "text/html": [
       "<div style=\"display: flex; align-items: center;\"><div style=\"background-color: #bc3c1c; width: 100px; height: 30px; display: inline-block; vertical-align: middle;\"></div><span style=\"margin-left: 5px;\">#bc3c1c</span></div>"
      ],
      "text/plain": [
       "<IPython.core.display.HTML object>"
      ]
     },
     "metadata": {},
     "output_type": "display_data"
    },
    {
     "data": {
      "text/html": [
       "<div style=\"display: flex; align-items: center;\"><div style=\"background-color: #5a494b; width: 100px; height: 30px; display: inline-block; vertical-align: middle;\"></div><span style=\"margin-left: 5px;\">#5a494b</span></div>"
      ],
      "text/plain": [
       "<IPython.core.display.HTML object>"
      ]
     },
     "metadata": {},
     "output_type": "display_data"
    },
    {
     "data": {
      "text/html": [
       "<div style=\"display: flex; align-items: center;\"><div style=\"background-color: #3b0a04; width: 100px; height: 30px; display: inline-block; vertical-align: middle;\"></div><span style=\"margin-left: 5px;\">#3b0a04</span></div>"
      ],
      "text/plain": [
       "<IPython.core.display.HTML object>"
      ]
     },
     "metadata": {},
     "output_type": "display_data"
    },
    {
     "data": {
      "text/html": [
       "<div style=\"display: flex; align-items: center;\"><div style=\"background-color: #fb6d62; width: 100px; height: 30px; display: inline-block; vertical-align: middle;\"></div><span style=\"margin-left: 5px;\">#fb6d62</span></div>"
      ],
      "text/plain": [
       "<IPython.core.display.HTML object>"
      ]
     },
     "metadata": {},
     "output_type": "display_data"
    },
    {
     "data": {
      "text/html": [
       "<div style=\"display: flex; align-items: center;\"><div style=\"background-color: #ad37f2; width: 100px; height: 30px; display: inline-block; vertical-align: middle;\"></div><span style=\"margin-left: 5px;\">#ad37f2</span></div>"
      ],
      "text/plain": [
       "<IPython.core.display.HTML object>"
      ]
     },
     "metadata": {},
     "output_type": "display_data"
    },
    {
     "data": {
      "text/html": [
       "<div style=\"display: flex; align-items: center;\"><div style=\"background-color: #c8166a; width: 100px; height: 30px; display: inline-block; vertical-align: middle;\"></div><span style=\"margin-left: 5px;\">#c8166a</span></div>"
      ],
      "text/plain": [
       "<IPython.core.display.HTML object>"
      ]
     },
     "metadata": {},
     "output_type": "display_data"
    },
    {
     "data": {
      "text/html": [
       "<div style=\"display: flex; align-items: center;\"><div style=\"background-color: #e0f077; width: 100px; height: 30px; display: inline-block; vertical-align: middle;\"></div><span style=\"margin-left: 5px;\">#e0f077</span></div>"
      ],
      "text/plain": [
       "<IPython.core.display.HTML object>"
      ]
     },
     "metadata": {},
     "output_type": "display_data"
    },
    {
     "data": {
      "text/html": [
       "<div style=\"display: flex; align-items: center;\"><div style=\"background-color: #9c2afc; width: 100px; height: 30px; display: inline-block; vertical-align: middle;\"></div><span style=\"margin-left: 5px;\">#9c2afc</span></div>"
      ],
      "text/plain": [
       "<IPython.core.display.HTML object>"
      ]
     },
     "metadata": {},
     "output_type": "display_data"
    },
    {
     "data": {
      "text/html": [
       "<div style=\"display: flex; align-items: center;\"><div style=\"background-color: #3bf0a5; width: 100px; height: 30px; display: inline-block; vertical-align: middle;\"></div><span style=\"margin-left: 5px;\">#3bf0a5</span></div>"
      ],
      "text/plain": [
       "<IPython.core.display.HTML object>"
      ]
     },
     "metadata": {},
     "output_type": "display_data"
    },
    {
     "data": {
      "text/html": [
       "<div style=\"display: flex; align-items: center;\"><div style=\"background-color: #9a823a; width: 100px; height: 30px; display: inline-block; vertical-align: middle;\"></div><span style=\"margin-left: 5px;\">#9a823a</span></div>"
      ],
      "text/plain": [
       "<IPython.core.display.HTML object>"
      ]
     },
     "metadata": {},
     "output_type": "display_data"
    },
    {
     "data": {
      "text/html": [
       "<div style=\"display: flex; align-items: center;\"><div style=\"background-color: #2d382f; width: 100px; height: 30px; display: inline-block; vertical-align: middle;\"></div><span style=\"margin-left: 5px;\">#2d382f</span></div>"
      ],
      "text/plain": [
       "<IPython.core.display.HTML object>"
      ]
     },
     "metadata": {},
     "output_type": "display_data"
    },
    {
     "data": {
      "text/html": [
       "<div style=\"display: flex; align-items: center;\"><div style=\"background-color: #c6590e; width: 100px; height: 30px; display: inline-block; vertical-align: middle;\"></div><span style=\"margin-left: 5px;\">#c6590e</span></div>"
      ],
      "text/plain": [
       "<IPython.core.display.HTML object>"
      ]
     },
     "metadata": {},
     "output_type": "display_data"
    },
    {
     "data": {
      "text/html": [
       "<div style=\"display: flex; align-items: center;\"><div style=\"background-color: #f7e1ec; width: 100px; height: 30px; display: inline-block; vertical-align: middle;\"></div><span style=\"margin-left: 5px;\">#f7e1ec</span></div>"
      ],
      "text/plain": [
       "<IPython.core.display.HTML object>"
      ]
     },
     "metadata": {},
     "output_type": "display_data"
    },
    {
     "data": {
      "text/html": [
       "<div style=\"display: flex; align-items: center;\"><div style=\"background-color: #fd2c65; width: 100px; height: 30px; display: inline-block; vertical-align: middle;\"></div><span style=\"margin-left: 5px;\">#fd2c65</span></div>"
      ],
      "text/plain": [
       "<IPython.core.display.HTML object>"
      ]
     },
     "metadata": {},
     "output_type": "display_data"
    },
    {
     "data": {
      "text/html": [
       "<div style=\"display: flex; align-items: center;\"><div style=\"background-color: #c1b127; width: 100px; height: 30px; display: inline-block; vertical-align: middle;\"></div><span style=\"margin-left: 5px;\">#c1b127</span></div>"
      ],
      "text/plain": [
       "<IPython.core.display.HTML object>"
      ]
     },
     "metadata": {},
     "output_type": "display_data"
    },
    {
     "data": {
      "text/html": [
       "<div style=\"display: flex; align-items: center;\"><div style=\"background-color: #d03939; width: 100px; height: 30px; display: inline-block; vertical-align: middle;\"></div><span style=\"margin-left: 5px;\">#d03939</span></div>"
      ],
      "text/plain": [
       "<IPython.core.display.HTML object>"
      ]
     },
     "metadata": {},
     "output_type": "display_data"
    },
    {
     "data": {
      "text/html": [
       "<div style=\"display: flex; align-items: center;\"><div style=\"background-color: #889793; width: 100px; height: 30px; display: inline-block; vertical-align: middle;\"></div><span style=\"margin-left: 5px;\">#889793</span></div>"
      ],
      "text/plain": [
       "<IPython.core.display.HTML object>"
      ]
     },
     "metadata": {},
     "output_type": "display_data"
    },
    {
     "data": {
      "text/html": [
       "<div style=\"display: flex; align-items: center;\"><div style=\"background-color: #17df43; width: 100px; height: 30px; display: inline-block; vertical-align: middle;\"></div><span style=\"margin-left: 5px;\">#17df43</span></div>"
      ],
      "text/plain": [
       "<IPython.core.display.HTML object>"
      ]
     },
     "metadata": {},
     "output_type": "display_data"
    },
    {
     "data": {
      "text/html": [
       "<div style=\"display: flex; align-items: center;\"><div style=\"background-color: #21e2f3; width: 100px; height: 30px; display: inline-block; vertical-align: middle;\"></div><span style=\"margin-left: 5px;\">#21e2f3</span></div>"
      ],
      "text/plain": [
       "<IPython.core.display.HTML object>"
      ]
     },
     "metadata": {},
     "output_type": "display_data"
    },
    {
     "data": {
      "text/html": [
       "<div style=\"display: flex; align-items: center;\"><div style=\"background-color: #dbcea7; width: 100px; height: 30px; display: inline-block; vertical-align: middle;\"></div><span style=\"margin-left: 5px;\">#dbcea7</span></div>"
      ],
      "text/plain": [
       "<IPython.core.display.HTML object>"
      ]
     },
     "metadata": {},
     "output_type": "display_data"
    },
    {
     "data": {
      "text/html": [
       "<div style=\"display: flex; align-items: center;\"><div style=\"background-color: #8c1668; width: 100px; height: 30px; display: inline-block; vertical-align: middle;\"></div><span style=\"margin-left: 5px;\">#8c1668</span></div>"
      ],
      "text/plain": [
       "<IPython.core.display.HTML object>"
      ]
     },
     "metadata": {},
     "output_type": "display_data"
    },
    {
     "data": {
      "text/html": [
       "<div style=\"display: flex; align-items: center;\"><div style=\"background-color: #5f42b8; width: 100px; height: 30px; display: inline-block; vertical-align: middle;\"></div><span style=\"margin-left: 5px;\">#5f42b8</span></div>"
      ],
      "text/plain": [
       "<IPython.core.display.HTML object>"
      ]
     },
     "metadata": {},
     "output_type": "display_data"
    },
    {
     "data": {
      "text/html": [
       "<div style=\"display: flex; align-items: center;\"><div style=\"background-color: #7e1438; width: 100px; height: 30px; display: inline-block; vertical-align: middle;\"></div><span style=\"margin-left: 5px;\">#7e1438</span></div>"
      ],
      "text/plain": [
       "<IPython.core.display.HTML object>"
      ]
     },
     "metadata": {},
     "output_type": "display_data"
    },
    {
     "data": {
      "text/html": [
       "<div style=\"display: flex; align-items: center;\"><div style=\"background-color: #ae13d9; width: 100px; height: 30px; display: inline-block; vertical-align: middle;\"></div><span style=\"margin-left: 5px;\">#ae13d9</span></div>"
      ],
      "text/plain": [
       "<IPython.core.display.HTML object>"
      ]
     },
     "metadata": {},
     "output_type": "display_data"
    },
    {
     "data": {
      "text/html": [
       "<div style=\"display: flex; align-items: center;\"><div style=\"background-color: #7e7a97; width: 100px; height: 30px; display: inline-block; vertical-align: middle;\"></div><span style=\"margin-left: 5px;\">#7e7a97</span></div>"
      ],
      "text/plain": [
       "<IPython.core.display.HTML object>"
      ]
     },
     "metadata": {},
     "output_type": "display_data"
    },
    {
     "data": {
      "text/html": [
       "<div style=\"display: flex; align-items: center;\"><div style=\"background-color: #d258ac; width: 100px; height: 30px; display: inline-block; vertical-align: middle;\"></div><span style=\"margin-left: 5px;\">#d258ac</span></div>"
      ],
      "text/plain": [
       "<IPython.core.display.HTML object>"
      ]
     },
     "metadata": {},
     "output_type": "display_data"
    },
    {
     "data": {
      "text/html": [
       "<div style=\"display: flex; align-items: center;\"><div style=\"background-color: #9044e0; width: 100px; height: 30px; display: inline-block; vertical-align: middle;\"></div><span style=\"margin-left: 5px;\">#9044e0</span></div>"
      ],
      "text/plain": [
       "<IPython.core.display.HTML object>"
      ]
     },
     "metadata": {},
     "output_type": "display_data"
    },
    {
     "data": {
      "text/html": [
       "<div style=\"display: flex; align-items: center;\"><div style=\"background-color: #cba7d8; width: 100px; height: 30px; display: inline-block; vertical-align: middle;\"></div><span style=\"margin-left: 5px;\">#cba7d8</span></div>"
      ],
      "text/plain": [
       "<IPython.core.display.HTML object>"
      ]
     },
     "metadata": {},
     "output_type": "display_data"
    },
    {
     "data": {
      "text/html": [
       "<div style=\"display: flex; align-items: center;\"><div style=\"background-color: #ddb4d5; width: 100px; height: 30px; display: inline-block; vertical-align: middle;\"></div><span style=\"margin-left: 5px;\">#ddb4d5</span></div>"
      ],
      "text/plain": [
       "<IPython.core.display.HTML object>"
      ]
     },
     "metadata": {},
     "output_type": "display_data"
    },
    {
     "data": {
      "text/html": [
       "<div style=\"display: flex; align-items: center;\"><div style=\"background-color: #b1ad9d; width: 100px; height: 30px; display: inline-block; vertical-align: middle;\"></div><span style=\"margin-left: 5px;\">#b1ad9d</span></div>"
      ],
      "text/plain": [
       "<IPython.core.display.HTML object>"
      ]
     },
     "metadata": {},
     "output_type": "display_data"
    },
    {
     "data": {
      "text/html": [
       "<div style=\"display: flex; align-items: center;\"><div style=\"background-color: #bf28e0; width: 100px; height: 30px; display: inline-block; vertical-align: middle;\"></div><span style=\"margin-left: 5px;\">#bf28e0</span></div>"
      ],
      "text/plain": [
       "<IPython.core.display.HTML object>"
      ]
     },
     "metadata": {},
     "output_type": "display_data"
    },
    {
     "data": {
      "text/html": [
       "<div style=\"display: flex; align-items: center;\"><div style=\"background-color: #de07d2; width: 100px; height: 30px; display: inline-block; vertical-align: middle;\"></div><span style=\"margin-left: 5px;\">#de07d2</span></div>"
      ],
      "text/plain": [
       "<IPython.core.display.HTML object>"
      ]
     },
     "metadata": {},
     "output_type": "display_data"
    },
    {
     "data": {
      "text/html": [
       "<div style=\"display: flex; align-items: center;\"><div style=\"background-color: #2055bd; width: 100px; height: 30px; display: inline-block; vertical-align: middle;\"></div><span style=\"margin-left: 5px;\">#2055bd</span></div>"
      ],
      "text/plain": [
       "<IPython.core.display.HTML object>"
      ]
     },
     "metadata": {},
     "output_type": "display_data"
    },
    {
     "data": {
      "text/html": [
       "<div style=\"display: flex; align-items: center;\"><div style=\"background-color: #28d0d4; width: 100px; height: 30px; display: inline-block; vertical-align: middle;\"></div><span style=\"margin-left: 5px;\">#28d0d4</span></div>"
      ],
      "text/plain": [
       "<IPython.core.display.HTML object>"
      ]
     },
     "metadata": {},
     "output_type": "display_data"
    },
    {
     "data": {
      "text/html": [
       "<div style=\"display: flex; align-items: center;\"><div style=\"background-color: #810149; width: 100px; height: 30px; display: inline-block; vertical-align: middle;\"></div><span style=\"margin-left: 5px;\">#810149</span></div>"
      ],
      "text/plain": [
       "<IPython.core.display.HTML object>"
      ]
     },
     "metadata": {},
     "output_type": "display_data"
    },
    {
     "data": {
      "text/html": [
       "<div style=\"display: flex; align-items: center;\"><div style=\"background-color: #9dfaa1; width: 100px; height: 30px; display: inline-block; vertical-align: middle;\"></div><span style=\"margin-left: 5px;\">#9dfaa1</span></div>"
      ],
      "text/plain": [
       "<IPython.core.display.HTML object>"
      ]
     },
     "metadata": {},
     "output_type": "display_data"
    },
    {
     "data": {
      "text/html": [
       "<div style=\"display: flex; align-items: center;\"><div style=\"background-color: #42a189; width: 100px; height: 30px; display: inline-block; vertical-align: middle;\"></div><span style=\"margin-left: 5px;\">#42a189</span></div>"
      ],
      "text/plain": [
       "<IPython.core.display.HTML object>"
      ]
     },
     "metadata": {},
     "output_type": "display_data"
    },
    {
     "data": {
      "text/html": [
       "<div style=\"display: flex; align-items: center;\"><div style=\"background-color: #c61bc2; width: 100px; height: 30px; display: inline-block; vertical-align: middle;\"></div><span style=\"margin-left: 5px;\">#c61bc2</span></div>"
      ],
      "text/plain": [
       "<IPython.core.display.HTML object>"
      ]
     },
     "metadata": {},
     "output_type": "display_data"
    },
    {
     "data": {
      "text/html": [
       "<div style=\"display: flex; align-items: center;\"><div style=\"background-color: #8af557; width: 100px; height: 30px; display: inline-block; vertical-align: middle;\"></div><span style=\"margin-left: 5px;\">#8af557</span></div>"
      ],
      "text/plain": [
       "<IPython.core.display.HTML object>"
      ]
     },
     "metadata": {},
     "output_type": "display_data"
    },
    {
     "data": {
      "text/html": [
       "<div style=\"display: flex; align-items: center;\"><div style=\"background-color: #a1ed1a; width: 100px; height: 30px; display: inline-block; vertical-align: middle;\"></div><span style=\"margin-left: 5px;\">#a1ed1a</span></div>"
      ],
      "text/plain": [
       "<IPython.core.display.HTML object>"
      ]
     },
     "metadata": {},
     "output_type": "display_data"
    },
    {
     "data": {
      "text/html": [
       "<div style=\"display: flex; align-items: center;\"><div style=\"background-color: #eeaf11; width: 100px; height: 30px; display: inline-block; vertical-align: middle;\"></div><span style=\"margin-left: 5px;\">#eeaf11</span></div>"
      ],
      "text/plain": [
       "<IPython.core.display.HTML object>"
      ]
     },
     "metadata": {},
     "output_type": "display_data"
    },
    {
     "data": {
      "text/html": [
       "<div style=\"display: flex; align-items: center;\"><div style=\"background-color: #4cb411; width: 100px; height: 30px; display: inline-block; vertical-align: middle;\"></div><span style=\"margin-left: 5px;\">#4cb411</span></div>"
      ],
      "text/plain": [
       "<IPython.core.display.HTML object>"
      ]
     },
     "metadata": {},
     "output_type": "display_data"
    },
    {
     "data": {
      "text/html": [
       "<div style=\"display: flex; align-items: center;\"><div style=\"background-color: #94589e; width: 100px; height: 30px; display: inline-block; vertical-align: middle;\"></div><span style=\"margin-left: 5px;\">#94589e</span></div>"
      ],
      "text/plain": [
       "<IPython.core.display.HTML object>"
      ]
     },
     "metadata": {},
     "output_type": "display_data"
    },
    {
     "data": {
      "text/html": [
       "<div style=\"display: flex; align-items: center;\"><div style=\"background-color: #0bdef8; width: 100px; height: 30px; display: inline-block; vertical-align: middle;\"></div><span style=\"margin-left: 5px;\">#0bdef8</span></div>"
      ],
      "text/plain": [
       "<IPython.core.display.HTML object>"
      ]
     },
     "metadata": {},
     "output_type": "display_data"
    },
    {
     "data": {
      "text/html": [
       "<div style=\"display: flex; align-items: center;\"><div style=\"background-color: #f7bf21; width: 100px; height: 30px; display: inline-block; vertical-align: middle;\"></div><span style=\"margin-left: 5px;\">#f7bf21</span></div>"
      ],
      "text/plain": [
       "<IPython.core.display.HTML object>"
      ]
     },
     "metadata": {},
     "output_type": "display_data"
    }
   ],
   "source": [
    "disp_color_list(get_colors(400))"
   ]
  },
  {
   "cell_type": "code",
   "execution_count": null,
   "id": "87b1e084-bc3a-4afd-97ad-0e67bb6e3778",
   "metadata": {},
   "outputs": [],
   "source": []
  }
 ],
 "metadata": {
  "kernelspec": {
   "display_name": "Python 3 (ipykernel)",
   "language": "python",
   "name": "python3"
  },
  "language_info": {
   "codemirror_mode": {
    "name": "ipython",
    "version": 3
   },
   "file_extension": ".py",
   "mimetype": "text/x-python",
   "name": "python",
   "nbconvert_exporter": "python",
   "pygments_lexer": "ipython3",
   "version": "3.10.6"
  }
 },
 "nbformat": 4,
 "nbformat_minor": 5
}
