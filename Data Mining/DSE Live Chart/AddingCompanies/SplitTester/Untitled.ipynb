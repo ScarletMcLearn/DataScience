{
 "cells": [
  {
   "cell_type": "code",
   "execution_count": 3,
   "id": "b5eabc50-ba4b-42bb-91bc-79532b885b9b",
   "metadata": {},
   "outputs": [],
   "source": [
    "from Utils.Utilities import *\n",
    "from Utils.ColDataSource import *\n",
    "\n",
    "# If import/run from parent directory\n",
    "# from AddingCompanies.DSEStreamerUtilities.Utilities import *\n",
    "\n",
    "\n",
    "p = figure(x_axis_type='datetime', \n",
    "           y_range=(-100, 100),\n",
    "           # x_range = (0, 100),\n",
    "           width=2150, height=950, \n",
    "           # tools='pan,reset'\n",
    "           title=\"Dhaka Stock Exchange Live Change\",\n",
    "           # sizing_mode='stretch_both',\n",
    "          )\n",
    "\n",
    "p.title.align = \"center\"\n",
    "# Set x-axis and y-axis labels\n",
    "p.xaxis.axis_label = \"Date-Time\"\n",
    "p.yaxis.axis_label = \"Percentage Change (%)\"\n",
    "\n",
    "p.xaxis.ticker = DatetimeTicker()\n",
    "\n",
    "# Customize the time axis\n",
    "p.xaxis.formatter = DatetimeTickFormatter(\n",
    "                                          days =\"%dth %B - %I:%M:%S %p\",\n",
    "                                          months =\"%dth %B - %I:%M:%S %p\",\n",
    "                                          hours=\"%dth %B - %I:%M:%S %p\",\n",
    "                                          minutes=\"%dth %B - %I:%M:%S %p\",\n",
    "                                          seconds=\"%dth %B - %I:%M:%S %p\",\n",
    "                                         )\n",
    "\n",
    "curdoc().theme = 'dark_minimal'\n",
    "\n",
    "# Get the script start time\n",
    "start_time = datetime.now()"
   ]
  },
  {
   "cell_type": "code",
   "execution_count": 4,
   "id": "58eb96ed-55bc-4002-8d0c-c98e2cde1055",
   "metadata": {},
   "outputs": [],
   "source": [
    "p, l1, ia1, ib1 = draw_shape_line(x_col_name='x', y_col_name='y1', source=source, figure=p, label='Testy time', shape='c')"
   ]
  },
  {
   "cell_type": "code",
   "execution_count": 5,
   "id": "e879c105-3d1d-438d-899c-ef8116f6e1ea",
   "metadata": {},
   "outputs": [
    {
     "data": {
      "text/plain": [
       "bokeh.plotting._figure.figure"
      ]
     },
     "execution_count": 5,
     "metadata": {},
     "output_type": "execute_result"
    }
   ],
   "source": [
    "type(p)"
   ]
  },
  {
   "cell_type": "code",
   "execution_count": 6,
   "id": "6c8099f9-7037-46c6-a338-d2dc446eb7e7",
   "metadata": {},
   "outputs": [
    {
     "data": {
      "text/plain": [
       "bokeh.models.annotations.legends.LegendItem"
      ]
     },
     "execution_count": 6,
     "metadata": {},
     "output_type": "execute_result"
    }
   ],
   "source": [
    "type(l1)"
   ]
  },
  {
   "cell_type": "code",
   "execution_count": 8,
   "id": "35d890af-5ea8-4aba-9493-f64cc57dcc42",
   "metadata": {},
   "outputs": [
    {
     "data": {
      "text/plain": [
       "bokeh.models.renderers.glyph_renderer.GlyphRenderer"
      ]
     },
     "execution_count": 8,
     "metadata": {},
     "output_type": "execute_result"
    }
   ],
   "source": [
    "type(ia1)"
   ]
  },
  {
   "cell_type": "code",
   "execution_count": 9,
   "id": "3362d66a-8023-4828-9334-0bdf2849ccdc",
   "metadata": {},
   "outputs": [
    {
     "data": {
      "text/plain": [
       "bokeh.models.renderers.glyph_renderer.GlyphRenderer"
      ]
     },
     "execution_count": 9,
     "metadata": {},
     "output_type": "execute_result"
    }
   ],
   "source": [
    "type(ib1)"
   ]
  },
  {
   "cell_type": "code",
   "execution_count": null,
   "id": "4170b967-78b0-4b1d-907b-3a6897ff8ce7",
   "metadata": {},
   "outputs": [],
   "source": []
  }
 ],
 "metadata": {
  "kernelspec": {
   "display_name": "Python 3 (ipykernel)",
   "language": "python",
   "name": "python3"
  },
  "language_info": {
   "codemirror_mode": {
    "name": "ipython",
    "version": 3
   },
   "file_extension": ".py",
   "mimetype": "text/x-python",
   "name": "python",
   "nbconvert_exporter": "python",
   "pygments_lexer": "ipython3",
   "version": "3.10.6"
  }
 },
 "nbformat": 4,
 "nbformat_minor": 5
}
