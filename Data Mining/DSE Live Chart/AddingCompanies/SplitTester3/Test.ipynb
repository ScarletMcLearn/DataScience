{
 "cells": [
  {
   "cell_type": "code",
   "execution_count": 3,
   "id": "b5eabc50-ba4b-42bb-91bc-79532b885b9b",
   "metadata": {},
   "outputs": [],
   "source": [
    "from Utils.Utilities import *\n",
    "from Utils.ColDataSource import *\n",
    "\n",
    "# If import/run from parent directory\n",
    "# from AddingCompanies.DSEStreamerUtilities.Utilities import *\n",
    "\n",
    "\n",
    "p = figure(x_axis_type='datetime', \n",
    "           y_range=(-100, 100),\n",
    "           # x_range = (0, 100),\n",
    "           width=2150, height=950, \n",
    "           # tools='pan,reset'\n",
    "           title=\"Dhaka Stock Exchange Live Change\",\n",
    "           # sizing_mode='stretch_both',\n",
    "          )\n",
    "\n",
    "p.title.align = \"center\"\n",
    "# Set x-axis and y-axis labels\n",
    "p.xaxis.axis_label = \"Date-Time\"\n",
    "p.yaxis.axis_label = \"Percentage Change (%)\"\n",
    "\n",
    "p.xaxis.ticker = DatetimeTicker()\n",
    "\n",
    "# Customize the time axis\n",
    "p.xaxis.formatter = DatetimeTickFormatter(\n",
    "                                          days =\"%dth %B - %I:%M:%S %p\",\n",
    "                                          months =\"%dth %B - %I:%M:%S %p\",\n",
    "                                          hours=\"%dth %B - %I:%M:%S %p\",\n",
    "                                          minutes=\"%dth %B - %I:%M:%S %p\",\n",
    "                                          seconds=\"%dth %B - %I:%M:%S %p\",\n",
    "                                         )\n",
    "\n",
    "curdoc().theme = 'dark_minimal'\n",
    "\n",
    "# Get the script start time\n",
    "start_time = datetime.now()"
   ]
  },
  {
   "cell_type": "code",
   "execution_count": 4,
   "id": "58eb96ed-55bc-4002-8d0c-c98e2cde1055",
   "metadata": {},
   "outputs": [],
   "source": [
    "p, l1, ia1, ib1 = draw_shape_line(x_col_name='x', y_col_name='y1', source=source, figure=p, label='Testy time', shape='c')"
   ]
  },
  {
   "cell_type": "code",
   "execution_count": 5,
   "id": "e879c105-3d1d-438d-899c-ef8116f6e1ea",
   "metadata": {},
   "outputs": [
    {
     "data": {
      "text/plain": [
       "bokeh.plotting._figure.figure"
      ]
     },
     "execution_count": 5,
     "metadata": {},
     "output_type": "execute_result"
    }
   ],
   "source": [
    "type(p)"
   ]
  },
  {
   "cell_type": "code",
   "execution_count": 6,
   "id": "6c8099f9-7037-46c6-a338-d2dc446eb7e7",
   "metadata": {},
   "outputs": [
    {
     "data": {
      "text/plain": [
       "bokeh.models.annotations.legends.LegendItem"
      ]
     },
     "execution_count": 6,
     "metadata": {},
     "output_type": "execute_result"
    }
   ],
   "source": [
    "type(l1)"
   ]
  },
  {
   "cell_type": "code",
   "execution_count": 8,
   "id": "35d890af-5ea8-4aba-9493-f64cc57dcc42",
   "metadata": {},
   "outputs": [
    {
     "data": {
      "text/plain": [
       "bokeh.models.renderers.glyph_renderer.GlyphRenderer"
      ]
     },
     "execution_count": 8,
     "metadata": {},
     "output_type": "execute_result"
    }
   ],
   "source": [
    "type(ia1)"
   ]
  },
  {
   "cell_type": "code",
   "execution_count": 9,
   "id": "3362d66a-8023-4828-9334-0bdf2849ccdc",
   "metadata": {},
   "outputs": [
    {
     "data": {
      "text/plain": [
       "bokeh.models.renderers.glyph_renderer.GlyphRenderer"
      ]
     },
     "execution_count": 9,
     "metadata": {},
     "output_type": "execute_result"
    }
   ],
   "source": [
    "type(ib1)"
   ]
  },
  {
   "cell_type": "code",
   "execution_count": null,
   "id": "4170b967-78b0-4b1d-907b-3a6897ff8ce7",
   "metadata": {},
   "outputs": [],
   "source": []
  },
  {
   "cell_type": "code",
   "execution_count": null,
   "id": "5a44b086-fac7-46b2-9282-88ad1382087f",
   "metadata": {},
   "outputs": [],
   "source": []
  },
  {
   "cell_type": "code",
   "execution_count": null,
   "id": "93e510fb-209a-4ff5-8c28-d6af29135b7e",
   "metadata": {},
   "outputs": [],
   "source": []
  },
  {
   "cell_type": "code",
   "execution_count": 1,
   "id": "6614c887-893d-40a4-af4e-d034cc94fce0",
   "metadata": {},
   "outputs": [
    {
     "name": "stdout",
     "output_type": "stream",
     "text": [
      "{'column1': [1], 'column2': [2], 'column3': [3]}\n",
      "{'column1': [1, 4], 'column2': [2, 5], 'column3': [3, 6]}\n"
     ]
    }
   ],
   "source": [
    "from bokeh.models import ColumnDataSource\n",
    "from bokeh.plotting import figure, show\n",
    "\n",
    "# List of column names\n",
    "column_names = ['column1', 'column2', 'column3']\n",
    "\n",
    "# Create an empty dictionary to store the column data\n",
    "data = {}\n",
    "for name in column_names:\n",
    "    data[name] = []\n",
    "\n",
    "# Create the ColumnDataSource\n",
    "source = ColumnDataSource(data)\n",
    "\n",
    "# Example usage: Add data to the columns\n",
    "source.data['column1'].append(1)\n",
    "source.data['column2'].append(2)\n",
    "source.data['column3'].append(3)\n",
    "\n",
    "# Verify the data in the source\n",
    "print(source.data)\n",
    "\n",
    "# Further usage: Loop over a list and add data to columns dynamically\n",
    "data_list = [4, 5, 6]\n",
    "for i, name in enumerate(column_names):\n",
    "    source.data[name].append(data_list[i])\n",
    "\n",
    "# Verify the updated data in the source\n",
    "print(source.data)"
   ]
  },
  {
   "cell_type": "code",
   "execution_count": 2,
   "id": "37c17782-503a-44b4-9809-aeb4cd129843",
   "metadata": {},
   "outputs": [],
   "source": [
    "# AAMRANET_LTP=[],\n",
    "#                                     AAMRANET_LH=[],\n",
    "#                                     AAMRANET_LL=[],\n",
    "#                                     AAMRANET_CP=[],\n",
    "#                                     AAMRANET_YCP=[],\n",
    "#                                     AAMRANET_PC=[],\n",
    "#                                     AAMRANET_NoT=[],\n",
    "#                                     AAMRANET_VoT=[],\n",
    "#                                     AAMRANET_Vol=[],"
   ]
  },
  {
   "cell_type": "code",
   "execution_count": 4,
   "id": "4f219e35-99ba-4af7-8c44-a72521b4c1d8",
   "metadata": {},
   "outputs": [],
   "source": [
    "def company_columns_generator(company):\n",
    "    ltp = company + '_LTP'\n",
    "    lh = company + '_LH'\n",
    "    ll = company + '_LL'\n",
    "    cp = company + '_CP'\n",
    "    ycp = company + '_YCP'\n",
    "    pc = company + '_PC'\n",
    "    NoT = company + '_NoT'\n",
    "    vot = company + '_VoT'\n",
    "    vol = company + '_Vol'\n",
    "    return {\n",
    "            ltp : [],\n",
    "            lh : [],\n",
    "            ll : [],\n",
    "            cp : [],\n",
    "            ycp : [],\n",
    "            pc : [],\n",
    "            NoT : [],\n",
    "            vot : [],\n",
    "            vol : [],\n",
    "           }"
   ]
  },
  {
   "cell_type": "code",
   "execution_count": 11,
   "id": "9bf7a681-08ce-48dd-8fdf-fbfb0a03d4ea",
   "metadata": {},
   "outputs": [],
   "source": [
    "t = company_columns_generator('AAMRANET')"
   ]
  },
  {
   "cell_type": "code",
   "execution_count": 6,
   "id": "022a769f-8425-4b4b-9dc2-aa7b2fb0369a",
   "metadata": {},
   "outputs": [
    {
     "data": {
      "text/plain": [
       "{'TONGI_LTP': [],\n",
       " 'TONGI_LH': [],\n",
       " 'TONGI_LL': [],\n",
       " 'TONGI_CP': [],\n",
       " 'TONGI_YCP': [],\n",
       " 'TONGI_PC': [],\n",
       " 'TONGI_NoT': [],\n",
       " 'TONGI_VoT': [],\n",
       " 'TONGI_Vol': []}"
      ]
     },
     "execution_count": 6,
     "metadata": {},
     "output_type": "execute_result"
    }
   ],
   "source": [
    "company_columns_generator('TONGI')"
   ]
  },
  {
   "cell_type": "code",
   "execution_count": 16,
   "id": "c78cd7f6-f625-4715-b0ac-450a8361c914",
   "metadata": {},
   "outputs": [],
   "source": [
    "t.update(company_columns_generator('BANGI'))"
   ]
  },
  {
   "cell_type": "code",
   "execution_count": 17,
   "id": "c44b5e3c-9c3d-4823-a97f-3d8a3debc86f",
   "metadata": {},
   "outputs": [
    {
     "data": {
      "text/plain": [
       "{'AAMRANET_LTP': [],\n",
       " 'AAMRANET_LH': [],\n",
       " 'AAMRANET_LL': [],\n",
       " 'AAMRANET_CP': [],\n",
       " 'AAMRANET_YCP': [],\n",
       " 'AAMRANET_PC': [],\n",
       " 'AAMRANET_NoT': [],\n",
       " 'AAMRANET_VoT': [],\n",
       " 'AAMRANET_Vol': [],\n",
       " 'TONGI_LTP': [],\n",
       " 'TONGI_LH': [],\n",
       " 'TONGI_LL': [],\n",
       " 'TONGI_CP': [],\n",
       " 'TONGI_YCP': [],\n",
       " 'TONGI_PC': [],\n",
       " 'TONGI_NoT': [],\n",
       " 'TONGI_VoT': [],\n",
       " 'TONGI_Vol': [],\n",
       " 'BANGI_LTP': [],\n",
       " 'BANGI_LH': [],\n",
       " 'BANGI_LL': [],\n",
       " 'BANGI_CP': [],\n",
       " 'BANGI_YCP': [],\n",
       " 'BANGI_PC': [],\n",
       " 'BANGI_NoT': [],\n",
       " 'BANGI_VoT': [],\n",
       " 'BANGI_Vol': []}"
      ]
     },
     "execution_count": 17,
     "metadata": {},
     "output_type": "execute_result"
    }
   ],
   "source": [
    "t"
   ]
  },
  {
   "cell_type": "code",
   "execution_count": 21,
   "id": "411f1006-c3dd-47c0-843e-871bad9ea84e",
   "metadata": {},
   "outputs": [
    {
     "data": {
      "text/plain": [
       "{'AMRANET_LTP': [],\n",
       " 'AMRANET_LH': [],\n",
       " 'AMRANET_LL': [],\n",
       " 'AMRANET_CP': [],\n",
       " 'AMRANET_YCP': [],\n",
       " 'AMRANET_PC': [],\n",
       " 'AMRANET_NoT': [],\n",
       " 'AMRANET_VoT': [],\n",
       " 'AMRANET_Vol': [],\n",
       " 'TONGI_LTP': [],\n",
       " 'TONGI_LH': [],\n",
       " 'TONGI_LL': [],\n",
       " 'TONGI_CP': [],\n",
       " 'TONGI_YCP': [],\n",
       " 'TONGI_PC': [],\n",
       " 'TONGI_NoT': [],\n",
       " 'TONGI_VoT': [],\n",
       " 'TONGI_Vol': [],\n",
       " 'BANGI_LTP': [],\n",
       " 'BANGI_LH': [],\n",
       " 'BANGI_LL': [],\n",
       " 'BANGI_CP': [],\n",
       " 'BANGI_YCP': [],\n",
       " 'BANGI_PC': [],\n",
       " 'BANGI_NoT': [],\n",
       " 'BANGI_VoT': [],\n",
       " 'BANGI_Vol': []}"
      ]
     },
     "execution_count": 21,
     "metadata": {},
     "output_type": "execute_result"
    }
   ],
   "source": [
    "def company_columns_generator(company):\n",
    "    ltp = company + '_LTP'\n",
    "    lh = company + '_LH'\n",
    "    ll = company + '_LL'\n",
    "    cp = company + '_CP'\n",
    "    ycp = company + '_YCP'\n",
    "    pc = company + '_PC'\n",
    "    NoT = company + '_NoT'\n",
    "    vot = company + '_VoT'\n",
    "    vol = company + '_Vol'\n",
    "    return {\n",
    "            ltp : [],\n",
    "            lh : [],\n",
    "            ll : [],\n",
    "            cp : [],\n",
    "            ycp : [],\n",
    "            pc : [],\n",
    "            NoT : [],\n",
    "            vot : [],\n",
    "            vol : [],\n",
    "           }\n",
    "\n",
    "company_lst = ['AMRANET', 'TONGI', 'BANGI']\n",
    "data = company_columns_generator(company_lst[0])\n",
    "\n",
    "for i in range(1, len(company_lst)):\n",
    "    data.update(company_columns_generator(company_lst[i]))\n",
    "\n",
    "data"
   ]
  },
  {
   "cell_type": "code",
   "execution_count": 22,
   "id": "420f8fc8-8aee-49ec-9987-4da0e1239c8e",
   "metadata": {},
   "outputs": [
    {
     "data": {
      "text/plain": [
       "{'x': [],\n",
       " 'AMRANET_LTP': [],\n",
       " 'AMRANET_LH': [],\n",
       " 'AMRANET_LL': [],\n",
       " 'AMRANET_CP': [],\n",
       " 'AMRANET_YCP': [],\n",
       " 'AMRANET_PC': [],\n",
       " 'AMRANET_NoT': [],\n",
       " 'AMRANET_VoT': [],\n",
       " 'AMRANET_Vol': [],\n",
       " 'TONGI_LTP': [],\n",
       " 'TONGI_LH': [],\n",
       " 'TONGI_LL': [],\n",
       " 'TONGI_CP': [],\n",
       " 'TONGI_YCP': [],\n",
       " 'TONGI_PC': [],\n",
       " 'TONGI_NoT': [],\n",
       " 'TONGI_VoT': [],\n",
       " 'TONGI_Vol': [],\n",
       " 'BANGI_LTP': [],\n",
       " 'BANGI_LH': [],\n",
       " 'BANGI_LL': [],\n",
       " 'BANGI_CP': [],\n",
       " 'BANGI_YCP': [],\n",
       " 'BANGI_PC': [],\n",
       " 'BANGI_NoT': [],\n",
       " 'BANGI_VoT': [],\n",
       " 'BANGI_Vol': []}"
      ]
     },
     "execution_count": 22,
     "metadata": {},
     "output_type": "execute_result"
    }
   ],
   "source": [
    "company_lst = ['AMRANET', 'TONGI', 'BANGI']\n",
    "data = {'x':[]}\n",
    "data.update(company_columns_generator(company_lst[0]))\n",
    "\n",
    "for i in range(1, len(company_lst)):\n",
    "    data.update(company_columns_generator(company_lst[i]))\n",
    "\n",
    "data"
   ]
  },
  {
   "cell_type": "code",
   "execution_count": 30,
   "id": "efddb8e3-10bc-49a4-8a5d-ec0c4ea6bff8",
   "metadata": {},
   "outputs": [
    {
     "data": {
      "text/plain": [
       "{'l1': 1,\n",
       " 'ia1': 2,\n",
       " 'ib1': 3,\n",
       " 'l2': 1,\n",
       " 'ia2': 2,\n",
       " 'ib2': 3,\n",
       " 'l3': 1,\n",
       " 'ia3': 2,\n",
       " 'ib3': 3}"
      ]
     },
     "execution_count": 30,
     "metadata": {},
     "output_type": "execute_result"
    }
   ],
   "source": [
    "def generate_dictionary(company_list):\n",
    "    dictionary = {}\n",
    "    counter = len(company_list)\n",
    "    for i in range(1, counter + 1):\n",
    "        key_l = f\"l{i}\"\n",
    "        key_ia = f\"ia{i}\"\n",
    "        key_ib = f\"ib{i}\"\n",
    "\n",
    "        dictionary[key_l], dictionary[key_ia], dictionary[key_ib] = 1, 2, 3\n",
    "\n",
    "\n",
    "    return dictionary\n",
    "\n",
    "generate_dictionary(['tongi', 'mara', 'hey'])"
   ]
  },
  {
   "cell_type": "code",
   "execution_count": 31,
   "id": "bc4359e1-fdf2-430b-8be2-a2340ad352b2",
   "metadata": {},
   "outputs": [],
   "source": [
    "def generate_gly_dictionary(source, figure, company_list, company_symbol_lst):\n",
    "    dictionary = {}\n",
    "    counter = len(company_list)\n",
    "    for i in range(0, counter):\n",
    "        key_l = f\"l{i}\"\n",
    "        key_ia = f\"ia{i}\"\n",
    "        key_ib = f\"ib{i}\"\n",
    "        pc = company_list[i] + '_PC'\n",
    "        label = company_list[i]\n",
    "        shape = company_symbol_lst[i]\n",
    "        dictionary[key_l], dictionary[key_ia], dictionary[key_ib] = 1, 2, 3\n",
    "    return dictionary"
   ]
  },
  {
   "cell_type": "code",
   "execution_count": 32,
   "id": "38181616-9920-4955-bada-b390197f9e0b",
   "metadata": {},
   "outputs": [
    {
     "data": {
      "text/plain": [
       "{'l0': 1,\n",
       " 'ia0': 2,\n",
       " 'ib0': 3,\n",
       " 'l1': 1,\n",
       " 'ia1': 2,\n",
       " 'ib1': 3,\n",
       " 'l2': 1,\n",
       " 'ia2': 2,\n",
       " 'ib2': 3}"
      ]
     },
     "execution_count": 32,
     "metadata": {},
     "output_type": "execute_result"
    }
   ],
   "source": [
    "generate_gly_dictionary('', '', ['a', 'b', 'c'], ['x', 'y', 'z'])"
   ]
  },
  {
   "cell_type": "code",
   "execution_count": 33,
   "id": "ca85c061-84b4-49a1-8c1a-60aa4a94c005",
   "metadata": {},
   "outputs": [
    {
     "name": "stdout",
     "output_type": "stream",
     "text": [
      "l1 1\n"
     ]
    }
   ],
   "source": [
    "index = 1\n",
    "\n",
    "for key in generate_gly_dictionary('', '', ['a', 'b', 'c'], ['x', 'y', 'z']).keys():\n",
    "    if key.startswith('l') and key[1:] == str(index):\n",
    "        print(key, generate_gly_dictionary('', '', ['a', 'b', 'c'], ['x', 'y', 'z'])[key])"
   ]
  },
  {
   "cell_type": "code",
   "execution_count": 34,
   "id": "96110d53-8cef-4587-8d1e-241ec6f2d384",
   "metadata": {},
   "outputs": [
    {
     "name": "stdout",
     "output_type": "stream",
     "text": [
      "l1 1\n"
     ]
    }
   ],
   "source": [
    "dictionary = {'l0': 1,\n",
    " 'ia0': 2,\n",
    " 'ib0': 3,\n",
    " 'l1': 1,\n",
    " 'ia1': 2,\n",
    " 'ib1': 3,\n",
    " 'l2': 1,\n",
    " 'ia2': 2,\n",
    " 'ib2': 3}\n",
    "\n",
    "index = 1\n",
    "\n",
    "for key in dictionary.keys():\n",
    "    if key.startswith('l') and key[1:] == str(index):\n",
    "        print(key, dictionary[key])"
   ]
  },
  {
   "cell_type": "code",
   "execution_count": 37,
   "id": "42a0641a-3f1a-4bb1-bcd6-b4328401a88d",
   "metadata": {},
   "outputs": [],
   "source": [
    "import requests\n",
    "from bs4 import BeautifulSoup\n",
    "from random import randint\n",
    "import time, random\n",
    "import re\n",
    "\n",
    "\n",
    "debug = False\n",
    "\n",
    "def get_all_data():\n",
    "    user_agents = [\n",
    "        \"Mozilla/5.0 (Windows NT 10.0; Win64; x64) AppleWebKit/537.36 (KHTML, like Gecko) Chrome/91.0.4472.124 Safari/537.36\",\n",
    "        \"Mozilla/5.0 (Windows NT 10.0; Win64; x64; rv:89.0) Gecko/20100101 Firefox/89.0\",\n",
    "        \"Mozilla/5.0 (Macintosh; Intel Mac OS X 10_15_7) AppleWebKit/537.36 (KHTML, like Gecko) Chrome/91.0.4472.124 Safari/537.36\",\n",
    "        \"Mozilla/5.0 (Macintosh; Intel Mac OS X 10_15_7) AppleWebKit/537.36 (KHTML, like Gecko) Chrome/91.0.4472.124 Safari/537.36\",\n",
    "        \"Mozilla/5.0 (X11; Ubuntu; Linux x86_64; rv:89.0) Gecko/20100101 Firefox/89.0\",\n",
    "        \"Mozilla/5.0 (X11; Linux x86_64) AppleWebKit/537.36 (KHTML, like Gecko) Chrome/91.0.4472.124 Safari/537.36\",\n",
    "        \"Mozilla/5.0 (X11; Linux x86_64) AppleWebKit/537.36 (KHTML, like Gecko) Chrome/91.0.4472.124 Safari/537.36\",\n",
    "        \"Mozilla/5.0 (Windows NT 10.0; Win64; x64) AppleWebKit/537.36 (KHTML, like Gecko) Chrome/91.0.4472.124 Safari/537.36\",\n",
    "        \"Mozilla/5.0 (Windows NT 10.0; Win64; x64; rv:89.0) Gecko/20100101 Firefox/89.0\",\n",
    "        \"Mozilla/5.0 (Windows NT 10.0; Win64; x64) AppleWebKit/537.36 (KHTML, like Gecko) Chrome/91.0.4472.124 Safari/537.36\",\n",
    "        \"Mozilla/5.0 (Windows NT 10.0; Win64; x64; rv:89.0) Gecko/20100101 Firefox/89.0\",\n",
    "        \"Mozilla/5.0 (Windows NT 10.0; Win64; x64) AppleWebKit/537.36 (KHTML, like Gecko) Chrome/91.0.4472.124 Safari/537.36\",\n",
    "        \"Mozilla/5.0 (Windows NT 10.0; Win64; x64; rv:89.0) Gecko/20100101 Firefox/89.0\",\n",
    "        \"Mozilla/5.0 (Windows NT 10.0; Win64; x64) AppleWebKit/537.36 (KHTML, like Gecko) Chrome/91.0.4472.124 Safari/537.36\",\n",
    "        \"Mozilla/5.0 (Windows NT 10.0; Win64; x64; rv:89.0) Gecko/20100101 Firefox/89.0\",\n",
    "        \"Mozilla/5.0 (Windows NT 10.0; Win64; x64) AppleWebKit/537.36 (KHTML, like Gecko) Chrome/91.0.4472.124 Safari/537.36\",\n",
    "        \"Mozilla/5.0 (Windows NT 10.0; Win64; x64; rv:89.0) Gecko/20100101 Firefox/89.0\",\n",
    "        \"Mozilla/5.0 (Windows NT 10.0; Win64; x64) AppleWebKit/537.36 (KHTML, like Gecko) Chrome/91.0.4472.124 Safari/537.36\",\n",
    "        \"Mozilla/5.0 (Windows NT 10.0; Win64; x64; rv:89.0) Gecko/20100101 Firefox/89.0\",\n",
    "        \"Mozilla/5.0 (Windows NT 10.0; Win64; x64) AppleWebKit/537.36 (KHTML, like Gecko) Chrome/91.0.4472.124 Safari/537.36\",\n",
    "        \"Mozilla/5.0 (Windows NT 10.0; Win64; x64; rv:89.0) Gecko/20100101 Firefox/89.0\",\n",
    "        \"Mozilla/5.0 (Windows NT 10.0; Win64; x64) AppleWebKit/537.36 (KHTML, like Gecko) Chrome/91.0.4472.124 Safari/537.36\",\n",
    "        \"Mozilla/5.0 (Windows NT 10.0; Win64; x64; rv:89.0) Gecko/20100101 Firefox/89.0\",\n",
    "        \"Mozilla/5.0 (Windows NT 10.0; Win64; x64) AppleWebKit/537.36 (KHTML, like Gecko) Chrome/91.0.4472.124 Safari/537.36\",\n",
    "        \"Mozilla/5.0 (Windows NT 10.0; Win64; x64; rv:89.0) Gecko/20100101 Firefox/89.0\",\n",
    "        # Add more user agents here...\n",
    "        # ...\n",
    "    ]\n",
    "    \n",
    "    \n",
    "    \n",
    "    # Randomly select a user agent\n",
    "    random_user_agent = random.choice(user_agents)\n",
    "    \n",
    "    # Create a session object\n",
    "    session = requests.Session()\n",
    "    \n",
    "    # Set the user agent as a header for the session\n",
    "    session.headers.update({'User-Agent': random_user_agent,\n",
    "                            'Accept': 'text/plain'})\n",
    "    \n",
    "    url = 'https://www.dsebd.org/latest_share_price_scroll_l.php'\n",
    "    \n",
    "    # Make a request using the session\n",
    "    response = session.get(url)\n",
    "    \n",
    "    \n",
    "    \n",
    "    # soup = BeautifulSoup(response.text)\n",
    "    html_content = response.content\n",
    "    \n",
    "    # Parse the HTML content with BeautifulSoup\n",
    "    soup = BeautifulSoup(html_content, 'html.parser')\n",
    "\n",
    "    all_tr = soup.findAll('div', class_='table-responsive inner-scroll')[0].findAll('tr')\n",
    "    return all_tr\n",
    "    \n",
    "def get_co_data(co_name):\n",
    "    all_tr = get_all_data()\n",
    "    tmp_c = 0\n",
    "    \n",
    "    for j in all_tr[1:]:   \n",
    "        curr_tr_data = j.findAll('td')\n",
    "        for i in range(len(curr_tr_data)):\n",
    "            if i == 0:\n",
    "                if debug==True:\n",
    "                    print(str(i) , \" : \", curr_tr_data[i])\n",
    "                serial=curr_tr_data[i].text\n",
    "                pass\n",
    "            if i % 10 == 0:\n",
    "                if debug==True:\n",
    "                    print(str(i) , \" : \", curr_tr_data[i])\n",
    "                if curr_tr_data[i].text == '--':\n",
    "                    volume = 0\n",
    "                else: \n",
    "                    volume = float(curr_tr_data[i].text.replace(',', ''))\n",
    "                pass\n",
    "            elif i % 9 == 0:\n",
    "                if debug==True:\n",
    "                    print(str(i) , \" : \", curr_tr_data[i])\n",
    "                if curr_tr_data[i].text == '--':\n",
    "                    value_of_trades = 0\n",
    "                else: \n",
    "                    value_of_trades = float(curr_tr_data[i].text.replace(',', ''))\n",
    "                pass\n",
    "            elif i % 8 == 0:\n",
    "                if debug==True:\n",
    "                    print(str(i) , \" : \", curr_tr_data[i])\n",
    "                if curr_tr_data[i].text == '--':\n",
    "                    number_of_trades = 0\n",
    "                else: \n",
    "                    number_of_trades = float(curr_tr_data[i].text.replace(',', ''))\n",
    "                pass\n",
    "            elif i % 7 == 0:\n",
    "                if debug==True:\n",
    "                    print(str(i) , \" : \", curr_tr_data[i])\n",
    "                if curr_tr_data[i].text == '--':\n",
    "                    percentage_change = 0\n",
    "                else: \n",
    "                    percentage_change = float(curr_tr_data[i].text.replace(',', ''))\n",
    "                pass\n",
    "            elif i % 6 == 0:\n",
    "                if debug==True:\n",
    "                    print(str(i) , \" : \", curr_tr_data[i])\n",
    "                if curr_tr_data[i].text == '--':\n",
    "                    yesterday_close_price = 0\n",
    "                else: \n",
    "                    yesterday_close_price = float(curr_tr_data[i].text.replace(',', ''))\n",
    "                pass\n",
    "            elif i % 5 == 0:\n",
    "                if debug==True:\n",
    "                    print(str(i) , \" : \", curr_tr_data[i])\n",
    "                if curr_tr_data[i].text == '--':\n",
    "                    close_price = 0\n",
    "                else:\n",
    "                    close_price = float(curr_tr_data[i].text.replace(',', '')) \n",
    "                pass\n",
    "            elif i % 4 == 0:\n",
    "                if debug==True:\n",
    "                    print(str(i) , \" : \", curr_tr_data[i])\n",
    "                if curr_tr_data[i].text == '--':\n",
    "                    last_low = 0\n",
    "                else:\n",
    "                    last_low = float(curr_tr_data[i].text.replace(',', ''))\n",
    "                pass\n",
    "            elif i % 3 == 0:\n",
    "                if debug==True:\n",
    "                    print(str(i) , \" : \", curr_tr_data[i])\n",
    "                if curr_tr_data[i].text == '--':\n",
    "                    last_high = 0\n",
    "                else:\n",
    "                    last_high = float(curr_tr_data[i].text.replace(',', ''))\n",
    "                pass\n",
    "            elif i % 2 == 0:\n",
    "                if debug==True:\n",
    "                    print(str(i) , \" : \", curr_tr_data[i])\n",
    "                if curr_tr_data[i].text == '--':\n",
    "                    last_trading_price = 0\n",
    "                else:\n",
    "                    last_trading_price = float(curr_tr_data[i].text.replace(',', ''))\n",
    "                pass\n",
    "            elif i % 1 == 0:\n",
    "                if debug==True:\n",
    "                    print(str(i) , \" : \", curr_tr_data[i])\n",
    "                if curr_tr_data[i].text == '--':\n",
    "                    trading_code = 'None'\n",
    "                else:\n",
    "                    trading_code = re.sub(r'[^a-zA-Z0-9]', '', curr_tr_data[i].text)\n",
    "                pass\n",
    "                \n",
    "        curr_co_data = {\n",
    "                        'serial':serial,\n",
    "                        'Company_Name':trading_code,\n",
    "                        '_LTP':last_trading_price,\n",
    "                        '_LH':last_high,\n",
    "                        '_LL':last_low,\n",
    "                        '_CP':close_price,\n",
    "                        '_YCP':yesterday_close_price,\n",
    "                        '_PC':percentage_change,\n",
    "                        '_NoT':number_of_trades,\n",
    "                        '_VoT':value_of_trades,\n",
    "                        '_Vol':volume,                    \n",
    "                        }\n",
    "            # continue\n",
    "        tmp_c=tmp_c+1\n",
    "        if trading_code == co_name:\n",
    "            if debug==True:\n",
    "                print('Breaking')\n",
    "            return curr_co_data\n",
    "            break\n"
   ]
  },
  {
   "cell_type": "code",
   "execution_count": 38,
   "id": "24c333e9-5d45-4d86-a727-98713e9ac91f",
   "metadata": {},
   "outputs": [
    {
     "data": {
      "text/plain": [
       "{'serial': '3',\n",
       " 'Company_Name': 'AAMRANET',\n",
       " '_LTP': 67.2,\n",
       " '_LH': 68.4,\n",
       " '_LL': 64.0,\n",
       " '_CP': 67.2,\n",
       " '_YCP': 64.4,\n",
       " '_PC': 2.8,\n",
       " '_NoT': 1760.0,\n",
       " '_VoT': 51.798,\n",
       " '_Vol': 780265.0}"
      ]
     },
     "execution_count": 38,
     "metadata": {},
     "output_type": "execute_result"
    }
   ],
   "source": [
    "get_co_data('AAMRANET')"
   ]
  },
  {
   "cell_type": "code",
   "execution_count": null,
   "id": "ffbb8897-8d5e-458d-963c-65df72182f61",
   "metadata": {},
   "outputs": [],
   "source": [
    "def update_data(company_lst):\n",
    "    for company in company_lst:\n",
    "        curr_co_data = get_co_data(company)\n",
    "        prefix = curr_co_data['Company_Name'] + '_'\n",
    "        new_data = {prefix + key: [value] for key, value in curr_co_data.items() if key != 'Company_Name'}\n",
    "        source.data.update(new_data)\n",
    "        # return new_data\n",
    "\n",
    "update_data(['AAMRA_NET'])"
   ]
  },
  {
   "cell_type": "code",
   "execution_count": 55,
   "id": "fe98202c-0dfb-4691-83d4-eba7c5f284fa",
   "metadata": {},
   "outputs": [
    {
     "data": {
      "text/plain": [
       "{'AmRA_serial': ['3'],\n",
       " 'AmRA_LTP': [67.2],\n",
       " 'AmRA_LH': [68.4],\n",
       " 'AmRA_LL': [64.0],\n",
       " 'AmRA_CP': [67.2],\n",
       " 'AmRA_YCP': [64.4],\n",
       " 'AmRA_PC': [2.8],\n",
       " 'AmRA_NoT': [1760.0],\n",
       " 'AmRA_VoT': [51.798],\n",
       " 'AmRA_Vol': [780265.0]}"
      ]
     },
     "execution_count": 55,
     "metadata": {},
     "output_type": "execute_result"
    }
   ],
   "source": [
    "tmp = {'_serial': '3',\n",
    " 'Company_Name': 'AAMRANET',\n",
    " '_LTP': 67.2,\n",
    " '_LH': 68.4,\n",
    " '_LL': 64.0,\n",
    " '_CP': 67.2,\n",
    " '_YCP': 64.4,\n",
    " '_PC': 2.8,\n",
    " '_NoT': 1760.0,\n",
    " '_VoT': 51.798,\n",
    " '_Vol': 780265.0}\n",
    "\n",
    "tmp_2 = {'_serial': '3',\n",
    " 'Company_Name': 'AmRA',\n",
    " '_LTP': 67.2,\n",
    " '_LH': 68.4,\n",
    " '_LL': 64.0,\n",
    " '_CP': 67.2,\n",
    " '_YCP': 64.4,\n",
    " '_PC': 2.8,\n",
    " '_NoT': 1760.0,\n",
    " '_VoT': 51.798,\n",
    " '_Vol': 780265.0}\n",
    "\n",
    "def update_data(company_lst):\n",
    "    for company in company_lst:\n",
    "        if company == 'Tongi': # Selection\n",
    "            curr_co_data = tmp\n",
    "        elif company == 'AmRA': # Selection\n",
    "            curr_co_data = tmp_2\n",
    "        prefix = curr_co_data['Company_Name']\n",
    "        new_data = {prefix + key: [value] for key, value in curr_co_data.items() if key != 'Company_Name'}\n",
    "        # source.data.update(new_data)\n",
    "        return new_data\n",
    "\n",
    "update_data(['AmRA'])"
   ]
  },
  {
   "cell_type": "code",
   "execution_count": 57,
   "id": "6cad1582-96e7-4756-9010-559b42b0688c",
   "metadata": {},
   "outputs": [
    {
     "data": {
      "text/plain": [
       "{'AmRA_serial': ['3'],\n",
       " 'AmRA_LTP': [67.2],\n",
       " 'AmRA_LH': [68.4],\n",
       " 'AmRA_LL': [64.0],\n",
       " 'AmRA_CP': [67.2],\n",
       " 'AmRA_YCP': [64.4],\n",
       " 'AmRA_PC': [2.8],\n",
       " 'AmRA_NoT': [1760.0],\n",
       " 'AmRA_VoT': [51.798],\n",
       " 'AmRA_Vol': [780265.0]}"
      ]
     },
     "execution_count": 57,
     "metadata": {},
     "output_type": "execute_result"
    }
   ],
   "source": [
    "update_data(['AmRA', 'Tongi', ])"
   ]
  },
  {
   "cell_type": "code",
   "execution_count": 9,
   "id": "db5219c6-755b-4518-89cf-0be16891b150",
   "metadata": {},
   "outputs": [],
   "source": [
    "import requests\n",
    "from bs4 import BeautifulSoup\n",
    "from random import randint\n",
    "import time, random\n",
    "import re\n",
    "\n",
    "\n",
    "debug = False\n",
    "\n",
    "def get_all_data():\n",
    "    user_agents = [\n",
    "        \"Mozilla/5.0 (Windows NT 10.0; Win64; x64) AppleWebKit/537.36 (KHTML, like Gecko) Chrome/91.0.4472.124 Safari/537.36\",\n",
    "        \"Mozilla/5.0 (Windows NT 10.0; Win64; x64; rv:89.0) Gecko/20100101 Firefox/89.0\",\n",
    "        \"Mozilla/5.0 (Macintosh; Intel Mac OS X 10_15_7) AppleWebKit/537.36 (KHTML, like Gecko) Chrome/91.0.4472.124 Safari/537.36\",\n",
    "        \"Mozilla/5.0 (Macintosh; Intel Mac OS X 10_15_7) AppleWebKit/537.36 (KHTML, like Gecko) Chrome/91.0.4472.124 Safari/537.36\",\n",
    "        \"Mozilla/5.0 (X11; Ubuntu; Linux x86_64; rv:89.0) Gecko/20100101 Firefox/89.0\",\n",
    "        \"Mozilla/5.0 (X11; Linux x86_64) AppleWebKit/537.36 (KHTML, like Gecko) Chrome/91.0.4472.124 Safari/537.36\",\n",
    "        \"Mozilla/5.0 (X11; Linux x86_64) AppleWebKit/537.36 (KHTML, like Gecko) Chrome/91.0.4472.124 Safari/537.36\",\n",
    "        \"Mozilla/5.0 (Windows NT 10.0; Win64; x64) AppleWebKit/537.36 (KHTML, like Gecko) Chrome/91.0.4472.124 Safari/537.36\",\n",
    "        \"Mozilla/5.0 (Windows NT 10.0; Win64; x64; rv:89.0) Gecko/20100101 Firefox/89.0\",\n",
    "        \"Mozilla/5.0 (Windows NT 10.0; Win64; x64) AppleWebKit/537.36 (KHTML, like Gecko) Chrome/91.0.4472.124 Safari/537.36\",\n",
    "        \"Mozilla/5.0 (Windows NT 10.0; Win64; x64; rv:89.0) Gecko/20100101 Firefox/89.0\",\n",
    "        \"Mozilla/5.0 (Windows NT 10.0; Win64; x64) AppleWebKit/537.36 (KHTML, like Gecko) Chrome/91.0.4472.124 Safari/537.36\",\n",
    "        \"Mozilla/5.0 (Windows NT 10.0; Win64; x64; rv:89.0) Gecko/20100101 Firefox/89.0\",\n",
    "        \"Mozilla/5.0 (Windows NT 10.0; Win64; x64) AppleWebKit/537.36 (KHTML, like Gecko) Chrome/91.0.4472.124 Safari/537.36\",\n",
    "        \"Mozilla/5.0 (Windows NT 10.0; Win64; x64; rv:89.0) Gecko/20100101 Firefox/89.0\",\n",
    "        \"Mozilla/5.0 (Windows NT 10.0; Win64; x64) AppleWebKit/537.36 (KHTML, like Gecko) Chrome/91.0.4472.124 Safari/537.36\",\n",
    "        \"Mozilla/5.0 (Windows NT 10.0; Win64; x64; rv:89.0) Gecko/20100101 Firefox/89.0\",\n",
    "        \"Mozilla/5.0 (Windows NT 10.0; Win64; x64) AppleWebKit/537.36 (KHTML, like Gecko) Chrome/91.0.4472.124 Safari/537.36\",\n",
    "        \"Mozilla/5.0 (Windows NT 10.0; Win64; x64; rv:89.0) Gecko/20100101 Firefox/89.0\",\n",
    "        \"Mozilla/5.0 (Windows NT 10.0; Win64; x64) AppleWebKit/537.36 (KHTML, like Gecko) Chrome/91.0.4472.124 Safari/537.36\",\n",
    "        \"Mozilla/5.0 (Windows NT 10.0; Win64; x64; rv:89.0) Gecko/20100101 Firefox/89.0\",\n",
    "        \"Mozilla/5.0 (Windows NT 10.0; Win64; x64) AppleWebKit/537.36 (KHTML, like Gecko) Chrome/91.0.4472.124 Safari/537.36\",\n",
    "        \"Mozilla/5.0 (Windows NT 10.0; Win64; x64; rv:89.0) Gecko/20100101 Firefox/89.0\",\n",
    "        \"Mozilla/5.0 (Windows NT 10.0; Win64; x64) AppleWebKit/537.36 (KHTML, like Gecko) Chrome/91.0.4472.124 Safari/537.36\",\n",
    "        \"Mozilla/5.0 (Windows NT 10.0; Win64; x64; rv:89.0) Gecko/20100101 Firefox/89.0\",\n",
    "        # Add more user agents here...\n",
    "        # ...\n",
    "    ]\n",
    "    \n",
    "    \n",
    "    \n",
    "    # Randomly select a user agent\n",
    "    random_user_agent = random.choice(user_agents)\n",
    "    \n",
    "    # Create a session object\n",
    "    session = requests.Session()\n",
    "    \n",
    "    # Set the user agent as a header for the session\n",
    "    session.headers.update({'User-Agent': random_user_agent,\n",
    "                            'Accept': 'text/plain'})\n",
    "    \n",
    "    url = 'https://www.dsebd.org/latest_share_price_scroll_l.php'\n",
    "    \n",
    "    # Make a request using the session\n",
    "    response = session.get(url)\n",
    "    \n",
    "    \n",
    "    \n",
    "    # soup = BeautifulSoup(response.text)\n",
    "    html_content = response.content\n",
    "    \n",
    "    # Parse the HTML content with BeautifulSoup\n",
    "    soup = BeautifulSoup(html_content, 'html.parser')\n",
    "\n",
    "    all_tr = soup.findAll('div', class_='table-responsive inner-scroll')[0].findAll('tr')\n",
    "    return all_tr\n",
    "    \n",
    "def get_co_data(co_name, all_tr):\n",
    "    tmp_c = 0\n",
    "    \n",
    "    for j in all_tr[1:]:   \n",
    "        curr_tr_data = j.findAll('td')\n",
    "        for i in range(len(curr_tr_data)):\n",
    "            if i == 0:\n",
    "                if debug==True:\n",
    "                    print(str(i) , \" : \", curr_tr_data[i])\n",
    "                serial=curr_tr_data[i].text\n",
    "                pass\n",
    "            if i % 10 == 0:\n",
    "                if debug==True:\n",
    "                    print(str(i) , \" : \", curr_tr_data[i])\n",
    "                if curr_tr_data[i].text == '--':\n",
    "                    volume = 0\n",
    "                else: \n",
    "                    volume = float(curr_tr_data[i].text.replace(',', ''))\n",
    "                pass\n",
    "            elif i % 9 == 0:\n",
    "                if debug==True:\n",
    "                    print(str(i) , \" : \", curr_tr_data[i])\n",
    "                if curr_tr_data[i].text == '--':\n",
    "                    value_of_trades = 0\n",
    "                else: \n",
    "                    value_of_trades = float(curr_tr_data[i].text.replace(',', ''))\n",
    "                pass\n",
    "            elif i % 8 == 0:\n",
    "                if debug==True:\n",
    "                    print(str(i) , \" : \", curr_tr_data[i])\n",
    "                if curr_tr_data[i].text == '--':\n",
    "                    number_of_trades = 0\n",
    "                else: \n",
    "                    number_of_trades = float(curr_tr_data[i].text.replace(',', ''))\n",
    "                pass\n",
    "            elif i % 7 == 0:\n",
    "                if debug==True:\n",
    "                    print(str(i) , \" : \", curr_tr_data[i])\n",
    "                if curr_tr_data[i].text == '--':\n",
    "                    percentage_change = 0\n",
    "                else: \n",
    "                    percentage_change = float(curr_tr_data[i].text.replace(',', ''))\n",
    "                pass\n",
    "            elif i % 6 == 0:\n",
    "                if debug==True:\n",
    "                    print(str(i) , \" : \", curr_tr_data[i])\n",
    "                if curr_tr_data[i].text == '--':\n",
    "                    yesterday_close_price = 0\n",
    "                else: \n",
    "                    yesterday_close_price = float(curr_tr_data[i].text.replace(',', ''))\n",
    "                pass\n",
    "            elif i % 5 == 0:\n",
    "                if debug==True:\n",
    "                    print(str(i) , \" : \", curr_tr_data[i])\n",
    "                if curr_tr_data[i].text == '--':\n",
    "                    close_price = 0\n",
    "                else:\n",
    "                    close_price = float(curr_tr_data[i].text.replace(',', '')) \n",
    "                pass\n",
    "            elif i % 4 == 0:\n",
    "                if debug==True:\n",
    "                    print(str(i) , \" : \", curr_tr_data[i])\n",
    "                if curr_tr_data[i].text == '--':\n",
    "                    last_low = 0\n",
    "                else:\n",
    "                    last_low = float(curr_tr_data[i].text.replace(',', ''))\n",
    "                pass\n",
    "            elif i % 3 == 0:\n",
    "                if debug==True:\n",
    "                    print(str(i) , \" : \", curr_tr_data[i])\n",
    "                if curr_tr_data[i].text == '--':\n",
    "                    last_high = 0\n",
    "                else:\n",
    "                    last_high = float(curr_tr_data[i].text.replace(',', ''))\n",
    "                pass\n",
    "            elif i % 2 == 0:\n",
    "                if debug==True:\n",
    "                    print(str(i) , \" : \", curr_tr_data[i])\n",
    "                if curr_tr_data[i].text == '--':\n",
    "                    last_trading_price = 0\n",
    "                else:\n",
    "                    last_trading_price = float(curr_tr_data[i].text.replace(',', ''))\n",
    "                pass\n",
    "            elif i % 1 == 0:\n",
    "                if debug==True:\n",
    "                    print(str(i) , \" : \", curr_tr_data[i])\n",
    "                if curr_tr_data[i].text == '--':\n",
    "                    trading_code = 'None'\n",
    "                else:\n",
    "                    trading_code = re.sub(r'[^a-zA-Z0-9]', '', curr_tr_data[i].text)\n",
    "                pass\n",
    "\n",
    "\n",
    "        val_1 = trading_code + '_Serial'\n",
    "        val_2 = trading_code + '_Company_Name'\n",
    "        val_3 = trading_code + '_LTP'\n",
    "        val_4 = trading_code + '_LH'\n",
    "        val_5 = trading_code + '_LL'\n",
    "        val_6 = trading_code + '_CP'\n",
    "        val_7 = trading_code + '_YCP'\n",
    "        val_8 = trading_code + '_PC'\n",
    "        val_9 = trading_code + '_NoT'\n",
    "        val_10 = trading_code + '_VoT'\n",
    "        val_11 = trading_code + '_Vol'\n",
    "        \n",
    "        curr_co_data = {\n",
    "                        val_1:serial,\n",
    "                        val_2:trading_code,\n",
    "                        val_3:last_trading_price,\n",
    "                        val_4:last_high,\n",
    "                        val_5:last_low,\n",
    "                        val_6:close_price,\n",
    "                        val_7:yesterday_close_price,\n",
    "                        val_8:percentage_change,\n",
    "                        val_9:number_of_trades,\n",
    "                        val_10:value_of_trades,\n",
    "                        val_11:volume,                    \n",
    "                        }\n",
    "            # continue\n",
    "        tmp_c=tmp_c+1\n",
    "        if trading_code == co_name:\n",
    "            if debug==True:\n",
    "                print('Breaking')\n",
    "            return curr_co_data\n",
    "            break\n"
   ]
  },
  {
   "cell_type": "code",
   "execution_count": 7,
   "id": "f08bbcc6-5b88-4c8b-813a-b194960d58a4",
   "metadata": {},
   "outputs": [
    {
     "data": {
      "text/plain": [
       "{'serial': '64',\n",
       " 'BEXIMCO_Company_Name': 'BEXIMCO',\n",
       " 'BEXIMCO_LTP': 115.6,\n",
       " 'BEXIMCO_LH': 115.6,\n",
       " 'BEXIMCO_LL': 115.6,\n",
       " 'BEXIMCO_CP': 115.6,\n",
       " 'BEXIMCO_YCP': 115.6,\n",
       " 'BEXIMCO_PC': 0.0,\n",
       " 'BEXIMCO_NoT': 7.0,\n",
       " 'BEXIMCO_VoT': 0.072,\n",
       " 'BEXIMCO_Vol': 623.0}"
      ]
     },
     "execution_count": 7,
     "metadata": {},
     "output_type": "execute_result"
    }
   ],
   "source": [
    "all_tr = get_all_data()\n",
    "get_co_data('BEXIMCO', all_tr)"
   ]
  },
  {
   "cell_type": "code",
   "execution_count": 5,
   "id": "1a58247c-c071-48c2-8407-61e085c411ac",
   "metadata": {},
   "outputs": [
    {
     "data": {
      "text/plain": [
       "{'serial': '116',\n",
       " 'EHL_Company_Name': 'EHL',\n",
       " 'EHL_LTP': 94.7,\n",
       " 'EHL_LH': 96.1,\n",
       " 'EHL_LL': 94.3,\n",
       " 'EHL_CP': 94.7,\n",
       " 'EHL_YCP': 95.2,\n",
       " 'EHL_PC': -0.5,\n",
       " 'EHL_NoT': 974.0,\n",
       " 'EHL_VoT': 26.134,\n",
       " 'EHL_Vol': 274754.0}"
      ]
     },
     "execution_count": 5,
     "metadata": {},
     "output_type": "execute_result"
    }
   ],
   "source": [
    "get_co_data('EHL', all_tr)"
   ]
  },
  {
   "cell_type": "code",
   "execution_count": 10,
   "id": "2b186e64-6421-4dfc-b98a-95079913c5e1",
   "metadata": {},
   "outputs": [
    {
     "data": {
      "text/plain": [
       "{'AAMRANET_Serial': '3',\n",
       " 'AAMRANET_Company_Name': 'AAMRANET',\n",
       " 'AAMRANET_LTP': 66.7,\n",
       " 'AAMRANET_LH': 68.5,\n",
       " 'AAMRANET_LL': 65.9,\n",
       " 'AAMRANET_CP': 66.7,\n",
       " 'AAMRANET_YCP': 67.2,\n",
       " 'AAMRANET_PC': -0.5,\n",
       " 'AAMRANET_NoT': 916.0,\n",
       " 'AAMRANET_VoT': 35.679,\n",
       " 'AAMRANET_Vol': 534459.0,\n",
       " 'EHL_Serial': '116',\n",
       " 'EHL_Company_Name': 'EHL',\n",
       " 'EHL_LTP': 94.7,\n",
       " 'EHL_LH': 96.1,\n",
       " 'EHL_LL': 94.3,\n",
       " 'EHL_CP': 94.7,\n",
       " 'EHL_YCP': 95.2,\n",
       " 'EHL_PC': -0.5,\n",
       " 'EHL_NoT': 974.0,\n",
       " 'EHL_VoT': 26.134,\n",
       " 'EHL_Vol': 274754.0,\n",
       " 'BEXIMCO_Serial': '64',\n",
       " 'BEXIMCO_Company_Name': 'BEXIMCO',\n",
       " 'BEXIMCO_LTP': 115.6,\n",
       " 'BEXIMCO_LH': 115.6,\n",
       " 'BEXIMCO_LL': 115.6,\n",
       " 'BEXIMCO_CP': 115.6,\n",
       " 'BEXIMCO_YCP': 115.6,\n",
       " 'BEXIMCO_PC': 0.0,\n",
       " 'BEXIMCO_NoT': 7.0,\n",
       " 'BEXIMCO_VoT': 0.072,\n",
       " 'BEXIMCO_Vol': 623.0}"
      ]
     },
     "execution_count": 10,
     "metadata": {},
     "output_type": "execute_result"
    }
   ],
   "source": [
    "# all_tr = get_all_data()\n",
    "company_lst = ['AAMRANET', 'EHL', 'BEXIMCO']\n",
    "stream_data = get_co_data(company_lst[0], all_tr)\n",
    "for i in range(1, len(company_lst)):\n",
    "    stream_data.update(get_co_data(company_lst[i], all_tr))  # [y_col]  # company_lst[i] + '_PC'\n",
    "    # get_co_data(co, all_tr)[y_col]\n",
    "\n",
    "stream_data"
   ]
  },
  {
   "cell_type": "code",
   "execution_count": 63,
   "id": "441014bf-52f5-47ca-92a1-0a0a515dd7e1",
   "metadata": {},
   "outputs": [
    {
     "data": {
      "text/plain": [
       "{'Tongi_LTP': [],\n",
       " 'Tongi_LH': [],\n",
       " 'Tongi_LL': [],\n",
       " 'Tongi_CP': [],\n",
       " 'Tongi_YCP': [],\n",
       " 'Tongi_PC': [],\n",
       " 'Tongi_NoT': [],\n",
       " 'Tongi_VoT': [],\n",
       " 'Tongi_Vol': []}"
      ]
     },
     "execution_count": 63,
     "metadata": {},
     "output_type": "execute_result"
    }
   ],
   "source": [
    "def company_columns_generator(company):\n",
    "    ltp = company + '_LTP'\n",
    "    lh = company + '_LH'\n",
    "    ll = company + '_LL'\n",
    "    cp = company + '_CP'\n",
    "    ycp = company + '_YCP'\n",
    "    pc = company + '_PC'\n",
    "    NoT = company + '_NoT'\n",
    "    vot = company + '_VoT'\n",
    "    vol = company + '_Vol'\n",
    "    return {\n",
    "            ltp : [],\n",
    "            lh : [],\n",
    "            ll : [],\n",
    "            cp : [],\n",
    "            ycp : [],\n",
    "            pc : [],\n",
    "            NoT : [],\n",
    "            vot : [],\n",
    "            vol : [],\n",
    "           }\n",
    "\n",
    "company_columns_generator('Tongi')"
   ]
  },
  {
   "cell_type": "code",
   "execution_count": null,
   "id": "bcd12201-20e7-4e6c-829d-ad36cf6d83b4",
   "metadata": {},
   "outputs": [],
   "source": []
  }
 ],
 "metadata": {
  "kernelspec": {
   "display_name": "Python 3 (ipykernel)",
   "language": "python",
   "name": "python3"
  },
  "language_info": {
   "codemirror_mode": {
    "name": "ipython",
    "version": 3
   },
   "file_extension": ".py",
   "mimetype": "text/x-python",
   "name": "python",
   "nbconvert_exporter": "python",
   "pygments_lexer": "ipython3",
   "version": "3.10.6"
  }
 },
 "nbformat": 4,
 "nbformat_minor": 5
}
