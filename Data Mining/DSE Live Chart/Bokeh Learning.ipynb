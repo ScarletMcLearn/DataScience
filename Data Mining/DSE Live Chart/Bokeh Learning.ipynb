{
 "cells": [
  {
   "cell_type": "code",
   "execution_count": 1,
   "id": "ad007823-3639-4dbd-aab5-d6dd5b3750d6",
   "metadata": {},
   "outputs": [],
   "source": [
    "from bokeh.plotting import figure\n",
    "from bokeh.io import output_file, show\n",
    "from bokeh.models import Range1d"
   ]
  },
  {
   "cell_type": "code",
   "execution_count": 2,
   "id": "87ccf167-d69f-43c7-b5d9-43098309fa09",
   "metadata": {},
   "outputs": [
    {
     "name": "stderr",
     "output_type": "stream",
     "text": [
      "WARNING:bokeh.core.validation.check:W-1000 (MISSING_RENDERERS): Plot has no renderers: figure(id='p1001', ...)\n"
     ]
    }
   ],
   "source": [
    "# Create a new figure\n",
    "p = figure()\n",
    "\n",
    "# Add glyphs and customize plot attributes\n",
    "# ...\n",
    "\n",
    "# Display the plot\n",
    "show(p)"
   ]
  },
  {
   "cell_type": "code",
   "execution_count": 3,
   "id": "653e604b-30b2-4f6c-8974-b62b124a751d",
   "metadata": {},
   "outputs": [],
   "source": [
    "from bokeh.plotting import figure\n",
    "\n",
    "def create_figure():\n",
    "    # Create a new figure\n",
    "    p = figure()\n",
    "    \n",
    "    # Add glyphs and customize plot attributes\n",
    "    # ...\n",
    "    \n",
    "    return p"
   ]
  },
  {
   "cell_type": "code",
   "execution_count": 4,
   "id": "b1d57464-11ad-449e-83e9-2aa2da35d945",
   "metadata": {},
   "outputs": [
    {
     "name": "stderr",
     "output_type": "stream",
     "text": [
      "WARNING:bokeh.core.validation.check:W-1000 (MISSING_RENDERERS): Plot has no renderers: figure(id='p1093', ...)\n"
     ]
    }
   ],
   "source": [
    "# Create the figure object\n",
    "my_figure = create_figure()\n",
    "\n",
    "# Modify the figure object\n",
    "my_figure.title.text = \"My Custom Plot\"\n",
    "my_figure.xaxis.axis_label = \"X-axis\"\n",
    "my_figure.yaxis.axis_label = \"Y-axis\"\n",
    "\n",
    "# Display the modified figure\n",
    "show(my_figure)\n"
   ]
  },
  {
   "cell_type": "code",
   "execution_count": 5,
   "id": "6dd0e355-82ca-4c23-b77d-d04a54e7f9b2",
   "metadata": {},
   "outputs": [
    {
     "name": "stderr",
     "output_type": "stream",
     "text": [
      "WARNING:bokeh.core.validation.check:W-1000 (MISSING_RENDERERS): Plot has no renderers: figure(id='p1186', ...)\n"
     ]
    }
   ],
   "source": [
    "from bokeh.plotting import figure\n",
    "\n",
    "def modify_figure(fig):\n",
    "    # Modify the figure object\n",
    "    fig.title.text = \"Modified Plot\"\n",
    "    fig.xaxis.axis_label = \"Modified X-axis\"\n",
    "    fig.yaxis.axis_label = \"Modified Y-axis\"\n",
    "    \n",
    "    # Add additional glyphs or customize plot attributes\n",
    "    # ...\n",
    "    \n",
    "    return fig\n",
    "\n",
    "# Create the initial figure\n",
    "p = figure()\n",
    "\n",
    "# Pass the figure to the modify_figure function\n",
    "modified_figure = modify_figure(p)\n",
    "\n",
    "# Display the modified figure\n",
    "show(modified_figure)"
   ]
  },
  {
   "cell_type": "code",
   "execution_count": null,
   "id": "4db7b864-1f2e-42d1-b69d-b2b949b24455",
   "metadata": {},
   "outputs": [],
   "source": []
  }
 ],
 "metadata": {
  "kernelspec": {
   "display_name": "Python 3 (ipykernel)",
   "language": "python",
   "name": "python3"
  },
  "language_info": {
   "codemirror_mode": {
    "name": "ipython",
    "version": 3
   },
   "file_extension": ".py",
   "mimetype": "text/x-python",
   "name": "python",
   "nbconvert_exporter": "python",
   "pygments_lexer": "ipython3",
   "version": "3.10.6"
  }
 },
 "nbformat": 4,
 "nbformat_minor": 5
}
