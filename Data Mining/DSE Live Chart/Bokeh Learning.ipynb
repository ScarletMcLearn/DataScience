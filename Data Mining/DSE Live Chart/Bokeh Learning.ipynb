{
 "cells": [
  {
   "cell_type": "code",
   "execution_count": 1,
   "id": "ad007823-3639-4dbd-aab5-d6dd5b3750d6",
   "metadata": {},
   "outputs": [],
   "source": [
    "from bokeh.plotting import figure\n",
    "from bokeh.io import output_file, show\n",
    "from bokeh.models import Range1d"
   ]
  },
  {
   "cell_type": "code",
   "execution_count": 2,
   "id": "87ccf167-d69f-43c7-b5d9-43098309fa09",
   "metadata": {},
   "outputs": [
    {
     "name": "stderr",
     "output_type": "stream",
     "text": [
      "WARNING:bokeh.core.validation.check:W-1000 (MISSING_RENDERERS): Plot has no renderers: figure(id='p1001', ...)\n"
     ]
    }
   ],
   "source": [
    "# Create a new figure\n",
    "p = figure()\n",
    "\n",
    "# Add glyphs and customize plot attributes\n",
    "# ...\n",
    "\n",
    "# Display the plot\n",
    "show(p)"
   ]
  },
  {
   "cell_type": "code",
   "execution_count": 3,
   "id": "653e604b-30b2-4f6c-8974-b62b124a751d",
   "metadata": {},
   "outputs": [],
   "source": [
    "from bokeh.plotting import figure\n",
    "\n",
    "def create_figure():\n",
    "    # Create a new figure\n",
    "    p = figure()\n",
    "    \n",
    "    # Add glyphs and customize plot attributes\n",
    "    # ...\n",
    "    \n",
    "    return p"
   ]
  },
  {
   "cell_type": "code",
   "execution_count": 4,
   "id": "b1d57464-11ad-449e-83e9-2aa2da35d945",
   "metadata": {},
   "outputs": [
    {
     "name": "stderr",
     "output_type": "stream",
     "text": [
      "WARNING:bokeh.core.validation.check:W-1000 (MISSING_RENDERERS): Plot has no renderers: figure(id='p1093', ...)\n"
     ]
    }
   ],
   "source": [
    "# Create the figure object\n",
    "my_figure = create_figure()\n",
    "\n",
    "# Modify the figure object\n",
    "my_figure.title.text = \"My Custom Plot\"\n",
    "my_figure.xaxis.axis_label = \"X-axis\"\n",
    "my_figure.yaxis.axis_label = \"Y-axis\"\n",
    "\n",
    "# Display the modified figure\n",
    "show(my_figure)\n"
   ]
  },
  {
   "cell_type": "code",
   "execution_count": 5,
   "id": "6dd0e355-82ca-4c23-b77d-d04a54e7f9b2",
   "metadata": {},
   "outputs": [
    {
     "name": "stderr",
     "output_type": "stream",
     "text": [
      "WARNING:bokeh.core.validation.check:W-1000 (MISSING_RENDERERS): Plot has no renderers: figure(id='p1186', ...)\n"
     ]
    }
   ],
   "source": [
    "from bokeh.plotting import figure\n",
    "\n",
    "def modify_figure(fig):\n",
    "    # Modify the figure object\n",
    "    fig.title.text = \"Modified Plot\"\n",
    "    fig.xaxis.axis_label = \"Modified X-axis\"\n",
    "    fig.yaxis.axis_label = \"Modified Y-axis\"\n",
    "    \n",
    "    # Add additional glyphs or customize plot attributes\n",
    "    # ...\n",
    "    \n",
    "    return fig\n",
    "\n",
    "# Create the initial figure\n",
    "p = figure()\n",
    "\n",
    "# Pass the figure to the modify_figure function\n",
    "modified_figure = modify_figure(p)\n",
    "\n",
    "# Display the modified figure\n",
    "show(modified_figure)"
   ]
  },
  {
   "cell_type": "code",
   "execution_count": null,
   "id": "4db7b864-1f2e-42d1-b69d-b2b949b24455",
   "metadata": {},
   "outputs": [],
   "source": []
  },
  {
   "cell_type": "code",
   "execution_count": null,
   "id": "50bde5d8-af4a-419c-bb8b-02049d261198",
   "metadata": {},
   "outputs": [],
   "source": []
  },
  {
   "cell_type": "code",
   "execution_count": null,
   "id": "de3ad2dd-96a9-4f6f-b228-1eafb024129f",
   "metadata": {},
   "outputs": [],
   "source": []
  },
  {
   "cell_type": "code",
   "execution_count": 12,
   "id": "91d5e9ba-f3a5-4622-9c90-826a645045e6",
   "metadata": {},
   "outputs": [
    {
     "ename": "ValueError",
     "evalue": "failed to validate HoverTool(id='p1794', ...).renderers: expected an element of either Auto or List(Instance(DataRenderer)), got [BoxAnnotation(id='p1793', ...)]",
     "output_type": "error",
     "traceback": [
      "\u001b[0;31m---------------------------------------------------------------------------\u001b[0m",
      "\u001b[0;31mValueError\u001b[0m                                Traceback (most recent call last)",
      "Cell \u001b[0;32mIn[12], line 25\u001b[0m\n\u001b[1;32m     22\u001b[0m p\u001b[38;5;241m.\u001b[39madd_layout(crossover_box)\n\u001b[1;32m     24\u001b[0m \u001b[38;5;66;03m# Configure the hover behavior to show/hide the crossover box\u001b[39;00m\n\u001b[0;32m---> 25\u001b[0m hover_tool \u001b[38;5;241m=\u001b[39m \u001b[43mHoverTool\u001b[49m\u001b[43m(\u001b[49m\u001b[43mrenderers\u001b[49m\u001b[38;5;241;43m=\u001b[39;49m\u001b[43m[\u001b[49m\u001b[43mcrossover_box\u001b[49m\u001b[43m]\u001b[49m\u001b[43m,\u001b[49m\u001b[43m \u001b[49m\u001b[43mtooltips\u001b[49m\u001b[38;5;241;43m=\u001b[39;49m\u001b[38;5;28;43;01mNone\u001b[39;49;00m\u001b[43m,\u001b[49m\u001b[43m \u001b[49m\u001b[43mmode\u001b[49m\u001b[38;5;241;43m=\u001b[39;49m\u001b[38;5;124;43m'\u001b[39;49m\u001b[38;5;124;43mvline\u001b[39;49m\u001b[38;5;124;43m'\u001b[39;49m\u001b[43m)\u001b[49m\n\u001b[1;32m     26\u001b[0m p\u001b[38;5;241m.\u001b[39madd_tools(hover_tool)\n\u001b[1;32m     28\u001b[0m \u001b[38;5;66;03m# Display the plot\u001b[39;00m\n",
      "File \u001b[0;32m/media/scarlet/Project/Project Files/PythonEnvs/AutomationEnv/PyAutomationEnv/lib/python3.10/site-packages/bokeh/models/tools.py:1197\u001b[0m, in \u001b[0;36mHoverTool.__init__\u001b[0;34m(self, *args, **kwargs)\u001b[0m\n\u001b[1;32m   1196\u001b[0m \u001b[38;5;28;01mdef\u001b[39;00m \u001b[38;5;21m__init__\u001b[39m(\u001b[38;5;28mself\u001b[39m, \u001b[38;5;241m*\u001b[39margs, \u001b[38;5;241m*\u001b[39m\u001b[38;5;241m*\u001b[39mkwargs) \u001b[38;5;241m-\u001b[39m\u001b[38;5;241m>\u001b[39m \u001b[38;5;28;01mNone\u001b[39;00m:\n\u001b[0;32m-> 1197\u001b[0m     \u001b[38;5;28;43msuper\u001b[39;49m\u001b[43m(\u001b[49m\u001b[43m)\u001b[49m\u001b[38;5;241;43m.\u001b[39;49m\u001b[38;5;21;43m__init__\u001b[39;49m\u001b[43m(\u001b[49m\u001b[38;5;241;43m*\u001b[39;49m\u001b[43margs\u001b[49m\u001b[43m,\u001b[49m\u001b[43m \u001b[49m\u001b[38;5;241;43m*\u001b[39;49m\u001b[38;5;241;43m*\u001b[39;49m\u001b[43mkwargs\u001b[49m\u001b[43m)\u001b[49m\n",
      "File \u001b[0;32m/media/scarlet/Project/Project Files/PythonEnvs/AutomationEnv/PyAutomationEnv/lib/python3.10/site-packages/bokeh/models/tools.py:329\u001b[0m, in \u001b[0;36mInspectTool.__init__\u001b[0;34m(self, *args, **kwargs)\u001b[0m\n\u001b[1;32m    328\u001b[0m \u001b[38;5;28;01mdef\u001b[39;00m \u001b[38;5;21m__init__\u001b[39m(\u001b[38;5;28mself\u001b[39m, \u001b[38;5;241m*\u001b[39margs, \u001b[38;5;241m*\u001b[39m\u001b[38;5;241m*\u001b[39mkwargs) \u001b[38;5;241m-\u001b[39m\u001b[38;5;241m>\u001b[39m \u001b[38;5;28;01mNone\u001b[39;00m:\n\u001b[0;32m--> 329\u001b[0m     \u001b[38;5;28;43msuper\u001b[39;49m\u001b[43m(\u001b[49m\u001b[43m)\u001b[49m\u001b[38;5;241;43m.\u001b[39;49m\u001b[38;5;21;43m__init__\u001b[39;49m\u001b[43m(\u001b[49m\u001b[38;5;241;43m*\u001b[39;49m\u001b[43margs\u001b[49m\u001b[43m,\u001b[49m\u001b[43m \u001b[49m\u001b[38;5;241;43m*\u001b[39;49m\u001b[38;5;241;43m*\u001b[39;49m\u001b[43mkwargs\u001b[49m\u001b[43m)\u001b[49m\n",
      "File \u001b[0;32m/media/scarlet/Project/Project Files/PythonEnvs/AutomationEnv/PyAutomationEnv/lib/python3.10/site-packages/bokeh/models/tools.py:245\u001b[0m, in \u001b[0;36mGestureTool.__init__\u001b[0;34m(self, *args, **kwargs)\u001b[0m\n\u001b[1;32m    244\u001b[0m \u001b[38;5;28;01mdef\u001b[39;00m \u001b[38;5;21m__init__\u001b[39m(\u001b[38;5;28mself\u001b[39m, \u001b[38;5;241m*\u001b[39margs, \u001b[38;5;241m*\u001b[39m\u001b[38;5;241m*\u001b[39mkwargs) \u001b[38;5;241m-\u001b[39m\u001b[38;5;241m>\u001b[39m \u001b[38;5;28;01mNone\u001b[39;00m:\n\u001b[0;32m--> 245\u001b[0m     \u001b[38;5;28;43msuper\u001b[39;49m\u001b[43m(\u001b[49m\u001b[43m)\u001b[49m\u001b[38;5;241;43m.\u001b[39;49m\u001b[38;5;21;43m__init__\u001b[39;49m\u001b[43m(\u001b[49m\u001b[38;5;241;43m*\u001b[39;49m\u001b[43margs\u001b[49m\u001b[43m,\u001b[49m\u001b[43m \u001b[49m\u001b[38;5;241;43m*\u001b[39;49m\u001b[38;5;241;43m*\u001b[39;49m\u001b[43mkwargs\u001b[49m\u001b[43m)\u001b[49m\n",
      "File \u001b[0;32m/media/scarlet/Project/Project Files/PythonEnvs/AutomationEnv/PyAutomationEnv/lib/python3.10/site-packages/bokeh/models/tools.py:171\u001b[0m, in \u001b[0;36mTool.__init__\u001b[0;34m(self, *args, **kwargs)\u001b[0m\n\u001b[1;32m    170\u001b[0m \u001b[38;5;28;01mdef\u001b[39;00m \u001b[38;5;21m__init__\u001b[39m(\u001b[38;5;28mself\u001b[39m, \u001b[38;5;241m*\u001b[39margs, \u001b[38;5;241m*\u001b[39m\u001b[38;5;241m*\u001b[39mkwargs) \u001b[38;5;241m-\u001b[39m\u001b[38;5;241m>\u001b[39m \u001b[38;5;28;01mNone\u001b[39;00m:\n\u001b[0;32m--> 171\u001b[0m     \u001b[38;5;28;43msuper\u001b[39;49m\u001b[43m(\u001b[49m\u001b[43m)\u001b[49m\u001b[38;5;241;43m.\u001b[39;49m\u001b[38;5;21;43m__init__\u001b[39;49m\u001b[43m(\u001b[49m\u001b[38;5;241;43m*\u001b[39;49m\u001b[43margs\u001b[49m\u001b[43m,\u001b[49m\u001b[43m \u001b[49m\u001b[38;5;241;43m*\u001b[39;49m\u001b[38;5;241;43m*\u001b[39;49m\u001b[43mkwargs\u001b[49m\u001b[43m)\u001b[49m\n",
      "File \u001b[0;32m/media/scarlet/Project/Project Files/PythonEnvs/AutomationEnv/PyAutomationEnv/lib/python3.10/site-packages/bokeh/model/model.py:110\u001b[0m, in \u001b[0;36mModel.__init__\u001b[0;34m(self, *args, **kwargs)\u001b[0m\n\u001b[1;32m    107\u001b[0m \u001b[38;5;28;01mif\u001b[39;00m \u001b[38;5;124m\"\u001b[39m\u001b[38;5;124mid\u001b[39m\u001b[38;5;124m\"\u001b[39m \u001b[38;5;129;01min\u001b[39;00m kwargs:\n\u001b[1;32m    108\u001b[0m     \u001b[38;5;28;01mraise\u001b[39;00m \u001b[38;5;167;01mValueError\u001b[39;00m(\u001b[38;5;124m\"\u001b[39m\u001b[38;5;124minitializing \u001b[39m\u001b[38;5;124m'\u001b[39m\u001b[38;5;124mid\u001b[39m\u001b[38;5;124m'\u001b[39m\u001b[38;5;124m is not allowed\u001b[39m\u001b[38;5;124m\"\u001b[39m)\n\u001b[0;32m--> 110\u001b[0m \u001b[38;5;28;43msuper\u001b[39;49m\u001b[43m(\u001b[49m\u001b[43m)\u001b[49m\u001b[38;5;241;43m.\u001b[39;49m\u001b[38;5;21;43m__init__\u001b[39;49m\u001b[43m(\u001b[49m\u001b[38;5;241;43m*\u001b[39;49m\u001b[38;5;241;43m*\u001b[39;49m\u001b[43mkwargs\u001b[49m\u001b[43m)\u001b[49m\n\u001b[1;32m    111\u001b[0m default_theme\u001b[38;5;241m.\u001b[39mapply_to_model(\u001b[38;5;28mself\u001b[39m)\n",
      "File \u001b[0;32m/media/scarlet/Project/Project Files/PythonEnvs/AutomationEnv/PyAutomationEnv/lib/python3.10/site-packages/bokeh/core/has_props.py:298\u001b[0m, in \u001b[0;36mHasProps.__init__\u001b[0;34m(self, **properties)\u001b[0m\n\u001b[1;32m    296\u001b[0m     \u001b[38;5;28;01mif\u001b[39;00m value \u001b[38;5;129;01mis\u001b[39;00m Undefined \u001b[38;5;129;01mor\u001b[39;00m value \u001b[38;5;129;01mis\u001b[39;00m Intrinsic:\n\u001b[1;32m    297\u001b[0m         \u001b[38;5;28;01mcontinue\u001b[39;00m\n\u001b[0;32m--> 298\u001b[0m     \u001b[38;5;28;43msetattr\u001b[39;49m\u001b[43m(\u001b[49m\u001b[38;5;28;43mself\u001b[39;49m\u001b[43m,\u001b[49m\u001b[43m \u001b[49m\u001b[43mname\u001b[49m\u001b[43m,\u001b[49m\u001b[43m \u001b[49m\u001b[43mvalue\u001b[49m\u001b[43m)\u001b[49m\n\u001b[1;32m    300\u001b[0m \u001b[38;5;28;01mfor\u001b[39;00m name \u001b[38;5;129;01min\u001b[39;00m \u001b[38;5;28mself\u001b[39m\u001b[38;5;241m.\u001b[39mproperties() \u001b[38;5;241m-\u001b[39m \u001b[38;5;28mset\u001b[39m(properties\u001b[38;5;241m.\u001b[39mkeys()):\n\u001b[1;32m    301\u001b[0m     desc \u001b[38;5;241m=\u001b[39m \u001b[38;5;28mself\u001b[39m\u001b[38;5;241m.\u001b[39mlookup(name)\n",
      "File \u001b[0;32m/media/scarlet/Project/Project Files/PythonEnvs/AutomationEnv/PyAutomationEnv/lib/python3.10/site-packages/bokeh/core/has_props.py:327\u001b[0m, in \u001b[0;36mHasProps.__setattr__\u001b[0;34m(self, name, value)\u001b[0m\n\u001b[1;32m    325\u001b[0m properties \u001b[38;5;241m=\u001b[39m \u001b[38;5;28mself\u001b[39m\u001b[38;5;241m.\u001b[39mproperties(_with_props\u001b[38;5;241m=\u001b[39m\u001b[38;5;28;01mTrue\u001b[39;00m)\n\u001b[1;32m    326\u001b[0m \u001b[38;5;28;01mif\u001b[39;00m name \u001b[38;5;129;01min\u001b[39;00m properties:\n\u001b[0;32m--> 327\u001b[0m     \u001b[38;5;28;01mreturn\u001b[39;00m \u001b[38;5;28;43msuper\u001b[39;49m\u001b[43m(\u001b[49m\u001b[43m)\u001b[49m\u001b[38;5;241;43m.\u001b[39;49m\u001b[38;5;21;43m__setattr__\u001b[39;49m\u001b[43m(\u001b[49m\u001b[43mname\u001b[49m\u001b[43m,\u001b[49m\u001b[43m \u001b[49m\u001b[43mvalue\u001b[49m\u001b[43m)\u001b[49m\n\u001b[1;32m    329\u001b[0m descriptor \u001b[38;5;241m=\u001b[39m \u001b[38;5;28mgetattr\u001b[39m(\u001b[38;5;28mself\u001b[39m\u001b[38;5;241m.\u001b[39m\u001b[38;5;18m__class__\u001b[39m, name, \u001b[38;5;28;01mNone\u001b[39;00m)\n\u001b[1;32m    330\u001b[0m \u001b[38;5;28;01mif\u001b[39;00m \u001b[38;5;28misinstance\u001b[39m(descriptor, \u001b[38;5;28mproperty\u001b[39m): \u001b[38;5;66;03m# Python property\u001b[39;00m\n",
      "File \u001b[0;32m/media/scarlet/Project/Project Files/PythonEnvs/AutomationEnv/PyAutomationEnv/lib/python3.10/site-packages/bokeh/core/property/descriptors.py:332\u001b[0m, in \u001b[0;36mPropertyDescriptor.__set__\u001b[0;34m(self, obj, value, setter)\u001b[0m\n\u001b[1;32m    329\u001b[0m     class_name \u001b[38;5;241m=\u001b[39m obj\u001b[38;5;241m.\u001b[39m\u001b[38;5;18m__class__\u001b[39m\u001b[38;5;241m.\u001b[39m\u001b[38;5;18m__name__\u001b[39m\n\u001b[1;32m    330\u001b[0m     \u001b[38;5;28;01mraise\u001b[39;00m \u001b[38;5;167;01mRuntimeError\u001b[39;00m(\u001b[38;5;124mf\u001b[39m\u001b[38;5;124m\"\u001b[39m\u001b[38;5;132;01m{\u001b[39;00mclass_name\u001b[38;5;132;01m}\u001b[39;00m\u001b[38;5;124m.\u001b[39m\u001b[38;5;132;01m{\u001b[39;00m\u001b[38;5;28mself\u001b[39m\u001b[38;5;241m.\u001b[39mname\u001b[38;5;132;01m}\u001b[39;00m\u001b[38;5;124m is a readonly property\u001b[39m\u001b[38;5;124m\"\u001b[39m)\n\u001b[0;32m--> 332\u001b[0m value \u001b[38;5;241m=\u001b[39m \u001b[38;5;28;43mself\u001b[39;49m\u001b[38;5;241;43m.\u001b[39;49m\u001b[43mproperty\u001b[49m\u001b[38;5;241;43m.\u001b[39;49m\u001b[43mprepare_value\u001b[49m\u001b[43m(\u001b[49m\u001b[43mobj\u001b[49m\u001b[43m,\u001b[49m\u001b[43m \u001b[49m\u001b[38;5;28;43mself\u001b[39;49m\u001b[38;5;241;43m.\u001b[39;49m\u001b[43mname\u001b[49m\u001b[43m,\u001b[49m\u001b[43m \u001b[49m\u001b[43mvalue\u001b[49m\u001b[43m)\u001b[49m\n\u001b[1;32m    333\u001b[0m old \u001b[38;5;241m=\u001b[39m \u001b[38;5;28mself\u001b[39m\u001b[38;5;241m.\u001b[39m_get(obj)\n\u001b[1;32m    334\u001b[0m \u001b[38;5;28mself\u001b[39m\u001b[38;5;241m.\u001b[39m_set(obj, old, value, setter\u001b[38;5;241m=\u001b[39msetter)\n",
      "File \u001b[0;32m/media/scarlet/Project/Project Files/PythonEnvs/AutomationEnv/PyAutomationEnv/lib/python3.10/site-packages/bokeh/core/property/bases.py:365\u001b[0m, in \u001b[0;36mProperty.prepare_value\u001b[0;34m(self, owner, name, value, hint)\u001b[0m\n\u001b[1;32m    363\u001b[0m \u001b[38;5;28;01melse\u001b[39;00m:\n\u001b[1;32m    364\u001b[0m     obj_repr \u001b[38;5;241m=\u001b[39m owner \u001b[38;5;28;01mif\u001b[39;00m \u001b[38;5;28misinstance\u001b[39m(owner, HasProps) \u001b[38;5;28;01melse\u001b[39;00m owner\u001b[38;5;241m.\u001b[39m\u001b[38;5;18m__name__\u001b[39m\n\u001b[0;32m--> 365\u001b[0m     \u001b[38;5;28;01mraise\u001b[39;00m \u001b[38;5;167;01mValueError\u001b[39;00m(\u001b[38;5;124mf\u001b[39m\u001b[38;5;124m\"\u001b[39m\u001b[38;5;124mfailed to validate \u001b[39m\u001b[38;5;132;01m{\u001b[39;00mobj_repr\u001b[38;5;132;01m}\u001b[39;00m\u001b[38;5;124m.\u001b[39m\u001b[38;5;132;01m{\u001b[39;00mname\u001b[38;5;132;01m}\u001b[39;00m\u001b[38;5;124m: \u001b[39m\u001b[38;5;132;01m{\u001b[39;00merror\u001b[38;5;132;01m}\u001b[39;00m\u001b[38;5;124m\"\u001b[39m)\n\u001b[1;32m    367\u001b[0m \u001b[38;5;28;01mif\u001b[39;00m \u001b[38;5;28misinstance\u001b[39m(owner, HasProps):\n\u001b[1;32m    368\u001b[0m     obj \u001b[38;5;241m=\u001b[39m owner\n",
      "\u001b[0;31mValueError\u001b[0m: failed to validate HoverTool(id='p1794', ...).renderers: expected an element of either Auto or List(Instance(DataRenderer)), got [BoxAnnotation(id='p1793', ...)]"
     ]
    }
   ],
   "source": [
    "from bokeh.plotting import figure, show\n",
    "from bokeh.models import ColumnDataSource, HoverTool, BoxAnnotation\n",
    "\n",
    "# Dummy data\n",
    "x = [1, 2, 3, 4, 5]\n",
    "y = [6, 7, 2, 4, 5]\n",
    "\n",
    "# Create a ColumnDataSource object\n",
    "source = ColumnDataSource(data={\n",
    "    'x': x,\n",
    "    'y': y,\n",
    "})\n",
    "\n",
    "# Create a figure\n",
    "p = figure(width=400, height=400)\n",
    "\n",
    "# Plot the data points\n",
    "p.circle('x', 'y', source=source, size=10)\n",
    "\n",
    "# Create a BoxAnnotation glyph for the crossover box\n",
    "crossover_box = BoxAnnotation(top=10, bottom=0, fill_alpha=0, line_alpha=0)\n",
    "p.add_layout(crossover_box)\n",
    "\n",
    "# Configure the hover behavior to show/hide the crossover box\n",
    "hover_tool = HoverTool(renderers=[crossover_box], tooltips=None, mode='vline')\n",
    "p.add_tools(hover_tool)\n",
    "\n",
    "# Display the plot\n",
    "show(p)\n"
   ]
  },
  {
   "cell_type": "code",
   "execution_count": 14,
   "id": "9e8a42eb-83c9-41d0-ab2a-bf159a912ae2",
   "metadata": {},
   "outputs": [],
   "source": [
    "from bokeh.plotting import figure, show\n",
    "from bokeh.models import CustomJS, HoverTool\n",
    "from bokeh.sampledata.iris import flowers\n",
    "\n",
    "# Create the plot\n",
    "p = figure(tools=\"hover\", tooltips=\"<div>@species</div><div>@sepal_width</div>\")\n",
    "\n",
    "# Define the JavaScript code for the tooltip\n",
    "js_code = \"\"\"\n",
    "    // Get the data source\n",
    "    var data = source.data;\n",
    "\n",
    "    // Get the indices of the hovered point\n",
    "    var indices = cb_data.index.indices;\n",
    "\n",
    "    // Get the values for the tooltip\n",
    "    var species = data['species'][indices[0]];\n",
    "    var sepal_width = data['sepal_width'][indices[0]];\n",
    "\n",
    "    // Update the tooltip content\n",
    "    var tooltip = document.getElementsByClassName('bk-tooltip')[0];\n",
    "    tooltip.innerHTML = '<div>' + species + '</div><div>' + sepal_width + '</div>';\n",
    "\"\"\"\n",
    "\n",
    "# Create the CustomJS callback\n",
    "callback = CustomJS(code=js_code, args={'source': p.select(dict(type=HoverTool))})\n",
    "\n",
    "# Add the callback to the HoverTool\n",
    "p.select(dict(type=HoverTool)).callback = callback\n",
    "\n",
    "# Add the scatter plot\n",
    "p.circle(x='petal_length', y='petal_width', source=flowers, size=10)\n",
    "\n",
    "# Display the plot\n",
    "show(p)\n"
   ]
  },
  {
   "cell_type": "code",
   "execution_count": null,
   "id": "dff2f651-2174-4b54-8a0b-ac0be94c479f",
   "metadata": {},
   "outputs": [],
   "source": []
  }
 ],
 "metadata": {
  "kernelspec": {
   "display_name": "Python 3 (ipykernel)",
   "language": "python",
   "name": "python3"
  },
  "language_info": {
   "codemirror_mode": {
    "name": "ipython",
    "version": 3
   },
   "file_extension": ".py",
   "mimetype": "text/x-python",
   "name": "python",
   "nbconvert_exporter": "python",
   "pygments_lexer": "ipython3",
   "version": "3.10.6"
  }
 },
 "nbformat": 4,
 "nbformat_minor": 5
}
