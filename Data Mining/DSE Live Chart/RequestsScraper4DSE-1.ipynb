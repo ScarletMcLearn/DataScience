{
 "cells": [
  {
   "cell_type": "code",
   "execution_count": 1,
   "id": "85aa7952-9aad-4774-aa66-53e0b3eb2be6",
   "metadata": {},
   "outputs": [],
   "source": [
    "user_agents = [\n",
    "    \"Mozilla/5.0 (Windows NT 10.0; Win64; x64) AppleWebKit/537.36 (KHTML, like Gecko) Chrome/91.0.4472.124 Safari/537.36\",\n",
    "    \"Mozilla/5.0 (Windows NT 10.0; Win64; x64; rv:89.0) Gecko/20100101 Firefox/89.0\",\n",
    "    \"Mozilla/5.0 (Macintosh; Intel Mac OS X 10_15_7) AppleWebKit/537.36 (KHTML, like Gecko) Chrome/91.0.4472.124 Safari/537.36\",\n",
    "    \"Mozilla/5.0 (Macintosh; Intel Mac OS X 10_15_7) AppleWebKit/537.36 (KHTML, like Gecko) Chrome/91.0.4472.124 Safari/537.36\",\n",
    "    \"Mozilla/5.0 (X11; Ubuntu; Linux x86_64; rv:89.0) Gecko/20100101 Firefox/89.0\",\n",
    "    \"Mozilla/5.0 (X11; Linux x86_64) AppleWebKit/537.36 (KHTML, like Gecko) Chrome/91.0.4472.124 Safari/537.36\",\n",
    "    \"Mozilla/5.0 (X11; Linux x86_64) AppleWebKit/537.36 (KHTML, like Gecko) Chrome/91.0.4472.124 Safari/537.36\",\n",
    "    \"Mozilla/5.0 (Windows NT 10.0; Win64; x64) AppleWebKit/537.36 (KHTML, like Gecko) Chrome/91.0.4472.124 Safari/537.36\",\n",
    "    \"Mozilla/5.0 (Windows NT 10.0; Win64; x64; rv:89.0) Gecko/20100101 Firefox/89.0\",\n",
    "    \"Mozilla/5.0 (Windows NT 10.0; Win64; x64) AppleWebKit/537.36 (KHTML, like Gecko) Chrome/91.0.4472.124 Safari/537.36\",\n",
    "    \"Mozilla/5.0 (Windows NT 10.0; Win64; x64; rv:89.0) Gecko/20100101 Firefox/89.0\",\n",
    "    \"Mozilla/5.0 (Windows NT 10.0; Win64; x64) AppleWebKit/537.36 (KHTML, like Gecko) Chrome/91.0.4472.124 Safari/537.36\",\n",
    "    \"Mozilla/5.0 (Windows NT 10.0; Win64; x64; rv:89.0) Gecko/20100101 Firefox/89.0\",\n",
    "    \"Mozilla/5.0 (Windows NT 10.0; Win64; x64) AppleWebKit/537.36 (KHTML, like Gecko) Chrome/91.0.4472.124 Safari/537.36\",\n",
    "    \"Mozilla/5.0 (Windows NT 10.0; Win64; x64; rv:89.0) Gecko/20100101 Firefox/89.0\",\n",
    "    \"Mozilla/5.0 (Windows NT 10.0; Win64; x64) AppleWebKit/537.36 (KHTML, like Gecko) Chrome/91.0.4472.124 Safari/537.36\",\n",
    "    \"Mozilla/5.0 (Windows NT 10.0; Win64; x64; rv:89.0) Gecko/20100101 Firefox/89.0\",\n",
    "    \"Mozilla/5.0 (Windows NT 10.0; Win64; x64) AppleWebKit/537.36 (KHTML, like Gecko) Chrome/91.0.4472.124 Safari/537.36\",\n",
    "    \"Mozilla/5.0 (Windows NT 10.0; Win64; x64; rv:89.0) Gecko/20100101 Firefox/89.0\",\n",
    "    \"Mozilla/5.0 (Windows NT 10.0; Win64; x64) AppleWebKit/537.36 (KHTML, like Gecko) Chrome/91.0.4472.124 Safari/537.36\",\n",
    "    \"Mozilla/5.0 (Windows NT 10.0; Win64; x64; rv:89.0) Gecko/20100101 Firefox/89.0\",\n",
    "    \"Mozilla/5.0 (Windows NT 10.0; Win64; x64) AppleWebKit/537.36 (KHTML, like Gecko) Chrome/91.0.4472.124 Safari/537.36\",\n",
    "    \"Mozilla/5.0 (Windows NT 10.0; Win64; x64; rv:89.0) Gecko/20100101 Firefox/89.0\",\n",
    "    \"Mozilla/5.0 (Windows NT 10.0; Win64; x64) AppleWebKit/537.36 (KHTML, like Gecko) Chrome/91.0.4472.124 Safari/537.36\",\n",
    "    \"Mozilla/5.0 (Windows NT 10.0; Win64; x64; rv:89.0) Gecko/20100101 Firefox/89.0\",\n",
    "    # Add more user agents here...\n",
    "    # ...\n",
    "]\n"
   ]
  },
  {
   "cell_type": "code",
   "execution_count": 3,
   "id": "a3e30317-d5c5-4194-a638-12f04684dce4",
   "metadata": {},
   "outputs": [],
   "source": [
    "import random\n",
    "import requests\n",
    "\n",
    "# Randomly select a user agent\n",
    "random_user_agent = random.choice(user_agents)\n",
    "\n",
    "# Create a session object\n",
    "session = requests.Session()\n",
    "\n",
    "# Set the user agent as a header for the session\n",
    "session.headers.update({'User-Agent': random_user_agent,\n",
    "                        'Accept': 'text/plain'})\n",
    "\n",
    "url = 'https://www.dsebd.org/latest_share_price_scroll_l.php'\n",
    "\n",
    "# Make a request using the session\n",
    "response = session.get(url)"
   ]
  },
  {
   "cell_type": "code",
   "execution_count": 11,
   "id": "391c9acb-b4d2-4b31-92cf-8f038fa8317e",
   "metadata": {},
   "outputs": [],
   "source": [
    "# import pprint"
   ]
  },
  {
   "cell_type": "code",
   "execution_count": 13,
   "id": "dcd8e671-c4a5-49a5-bdda-0db2eab0cd35",
   "metadata": {},
   "outputs": [],
   "source": [
    "# pprint.pprint(response.text)"
   ]
  },
  {
   "cell_type": "code",
   "execution_count": 25,
   "id": "969b8953-8676-4c35-a1c5-7dd7f4c92ad3",
   "metadata": {},
   "outputs": [],
   "source": [
    "from bs4 import BeautifulSoup\n",
    "\n",
    "# soup = BeautifulSoup(response.text)\n",
    "html_content = response.content\n",
    "\n",
    "# Parse the HTML content with BeautifulSoup\n",
    "soup = BeautifulSoup(html_content, 'html.parser')\n",
    "\n",
    "# Find the element using its class name and get the outer HTML\n",
    "element = soup.findAll(class_='floatThead-wrapper')\n",
    "# outer_html = str(element)\n",
    "    \n",
    "    # d.find_elements(By.CLASS_NAME, 'floatThead-wrapper')[0].get_attribute('outerHTML'), 'html.parser')\n"
   ]
  },
  {
   "cell_type": "code",
   "execution_count": 24,
   "id": "9f4d90fa-9b90-407b-b77d-780aa9504a31",
   "metadata": {},
   "outputs": [
    {
     "data": {
      "text/plain": [
       "[]"
      ]
     },
     "execution_count": 24,
     "metadata": {},
     "output_type": "execute_result"
    }
   ],
   "source": [
    "element"
   ]
  },
  {
   "cell_type": "code",
   "execution_count": 20,
   "id": "25abb990-c796-4c06-a143-99dc171dfe80",
   "metadata": {},
   "outputs": [],
   "source": [
    "# soup"
   ]
  },
  {
   "cell_type": "code",
   "execution_count": 26,
   "id": "a81eb2a7-72e6-4ed9-8090-8f86f9a486b3",
   "metadata": {},
   "outputs": [],
   "source": [
    "# with open('output.html', 'w') as file:\n",
    "#     # Write the HTML content to the file\n",
    "#     file.write(str(soup))"
   ]
  },
  {
   "cell_type": "code",
   "execution_count": 39,
   "id": "30596573-71a2-4f16-b071-5e17bea5302f",
   "metadata": {},
   "outputs": [
    {
     "name": "stdout",
     "output_type": "stream",
     "text": [
      "0  : Trading code:  1JANATAMF610000000\n"
     ]
    },
    {
     "ename": "ValueError",
     "evalue": "could not convert string to float: ''",
     "output_type": "error",
     "traceback": [
      "\u001b[0;31m---------------------------------------------------------------------------\u001b[0m",
      "\u001b[0;31mValueError\u001b[0m                                Traceback (most recent call last)",
      "Cell \u001b[0;32mIn[39], line 61\u001b[0m\n\u001b[1;32m     59\u001b[0m         last_trading_price \u001b[38;5;241m=\u001b[39m \u001b[38;5;241m0\u001b[39m\n\u001b[1;32m     60\u001b[0m     \u001b[38;5;28;01melse\u001b[39;00m:\n\u001b[0;32m---> 61\u001b[0m         last_trading_price \u001b[38;5;241m=\u001b[39m \u001b[38;5;28;43mfloat\u001b[39;49m\u001b[43m(\u001b[49m\u001b[43mj\u001b[49m\u001b[38;5;241;43m.\u001b[39;49m\u001b[43mfindAll\u001b[49m\u001b[43m(\u001b[49m\u001b[38;5;124;43m'\u001b[39;49m\u001b[38;5;124;43mtd\u001b[39;49m\u001b[38;5;124;43m'\u001b[39;49m\u001b[43m)\u001b[49m\u001b[43m[\u001b[49m\u001b[43mi\u001b[49m\u001b[43m]\u001b[49m\u001b[38;5;241;43m.\u001b[39;49m\u001b[43mtext\u001b[49m\u001b[38;5;241;43m.\u001b[39;49m\u001b[43mreplace\u001b[49m\u001b[43m(\u001b[49m\u001b[38;5;124;43m'\u001b[39;49m\u001b[38;5;124;43m,\u001b[39;49m\u001b[38;5;124;43m'\u001b[39;49m\u001b[43m,\u001b[49m\u001b[43m \u001b[49m\u001b[38;5;124;43m'\u001b[39;49m\u001b[38;5;124;43m'\u001b[39;49m\u001b[43m)\u001b[49m\u001b[43m)\u001b[49m\n\u001b[1;32m     62\u001b[0m     \u001b[38;5;28mprint\u001b[39m(\u001b[38;5;28mstr\u001b[39m(c), \u001b[38;5;124m'\u001b[39m\u001b[38;5;124m : Last Trading Price:\u001b[39m\u001b[38;5;124m'\u001b[39m, last_trading_price)\n\u001b[1;32m     63\u001b[0m \u001b[38;5;28;01melif\u001b[39;00m (i\u001b[38;5;241m%\u001b[39m\u001b[38;5;241m1\u001b[39m\u001b[38;5;241m==\u001b[39m\u001b[38;5;241m0\u001b[39m):\n",
      "\u001b[0;31mValueError\u001b[0m: could not convert string to float: ''"
     ]
    }
   ],
   "source": [
    "import re\n",
    "\n",
    "c = 0\n",
    "for j in soup.findAll('tr'):\n",
    "    for i in range(1, len(j.findAll('td'))):\n",
    "             if (i%10==0):\n",
    "                 if j.findAll('td')[i].text == '--':\n",
    "                     volume = 0.0\n",
    "                 else:\n",
    "                     volume = float(j.findAll('td')[i].text.replace(',', ''))\n",
    "                 print(str(c), ' : Volume: ', volume)\n",
    "             elif i%9==0:\n",
    "                 if j.findAll('td')[i].text == '--':\n",
    "                     value_of_trades = 0\n",
    "                 else:\n",
    "                     value_of_trades = float(j.findAll('td')[i].text.replace(',', ''))\n",
    "                 print(str(c), ' : Value of Trades: ', value_of_trades)\n",
    "             elif (i%8==0):\n",
    "                 if j.findAll('td')[i].text == '--':\n",
    "                     number_of_trades = 0\n",
    "                 else:\n",
    "                     number_of_trades = float(j.findAll('td')[i].text.replace(',', ''))\n",
    "                 print(str(c), ' : Number of Trades: ', number_of_trades)\n",
    "             elif (i%7==0):\n",
    "                 if j.findAll('td')[i].text == '--':\n",
    "                     percentage_change = 0\n",
    "                 else:\n",
    "                     percentage_change = float(j.findAll('td')[i].text.replace(',', ''))\n",
    "                 print(str(c), ' : Percentage Change: ', percentage_change)\n",
    "             elif (i%6==0):\n",
    "                 if j.findAll('td')[i].text == '--':\n",
    "                     yesterday_close_price = 0\n",
    "                 else: \n",
    "                     yesterday_close_price = float(j.findAll('td')[i].text.replace(',', ''))\n",
    "                 print(str(c), ' : Yesterday Close Price: ', yesterday_close_price)\n",
    "             elif (i%5==0):\n",
    "                 if j.findAll('td')[i].text == '--':\n",
    "                     close_price = 0\n",
    "                 else:\n",
    "                     close_price = float(j.findAll('td')[i].text.replace(',', ''))   \n",
    "                 print(str(c), ' : Close Price: ', close_price)\n",
    "             elif (i%4==0):\n",
    "                 if j.findAll('td')[i].text == '--':\n",
    "                     last_low = 0\n",
    "                 else:\n",
    "                     last_low = float(j.findAll('td')[i].text.replace(',', ''))\n",
    "                 # last_high = float(j.findAll('td')[i].text.replace(',', ''))\n",
    "                 print(str(c), ' : Last Low: ', last_low)\n",
    "             elif (i%3==0):\n",
    "                 if j.findAll('td')[i].text == '--':\n",
    "                     last_high = 0\n",
    "                 else:\n",
    "                     last_high = float(j.findAll('td')[i].text.replace(',', ''))\n",
    "                 print(str(c), ' : Last High: ', last_high)\n",
    "             # elif (i%3==0):\n",
    "             #     last_trading_price = float(j.findAll('td')[i].text.replace(',', ''))\n",
    "             elif (i%2==0):\n",
    "                 if j.findAll('td')[i].text == '--':\n",
    "                     last_trading_price = 0\n",
    "                 else:\n",
    "                     last_trading_price = float(j.findAll('td')[i].text.replace(',', ''))\n",
    "                 print(str(c), ' : Last Trading Price:', last_trading_price)\n",
    "             elif (i%1==0):\n",
    "                 if j.findAll('td')[i].text == '--':\n",
    "                     trading_code = 'None'\n",
    "                 else:\n",
    "                     trading_code = re.sub(r'[^a-zA-Z0-9]', '', j.findAll('td')[i].text)\n",
    "                 print(str(c), ' : Trading code: ', trading_code)\n",
    "    print(c)\n",
    "    curr_co_data = {\n",
    "                    'trading_code':trading_code,\n",
    "                    'last_trading_price':last_trading_price,\n",
    "                    'last_high':last_high,\n",
    "                    'last_low':last_low,\n",
    "                    'close_price':close_price,\n",
    "                    'yesterday_close_price':yesterday_close_price,\n",
    "                    'percentage_change':percentage_change,\n",
    "                    'number_of_trades':number_of_trades,\n",
    "                    'value_of_trades':value_of_trades,\n",
    "                    'volume':volume,                    \n",
    "                   }\n",
    "    c = c + 1\n",
    "    print(curr_co_data)\n",
    "    if c == 5:\n",
    "        break\n"
   ]
  },
  {
   "cell_type": "code",
   "execution_count": 28,
   "id": "2e1b6b0f-f646-40d8-b21a-3704583f8999",
   "metadata": {},
   "outputs": [
    {
     "data": {
      "text/plain": [
       "793"
      ]
     },
     "execution_count": 28,
     "metadata": {},
     "output_type": "execute_result"
    }
   ],
   "source": [
    "len(soup.findAll('tr'))"
   ]
  },
  {
   "cell_type": "code",
   "execution_count": 60,
   "id": "a8d43e8d-f2f8-44f7-98b7-cf40a91b1759",
   "metadata": {},
   "outputs": [
    {
     "data": {
      "text/plain": [
       "'\\n\\n\\n\\n\\r\\n\\t\\t\\t\\t\\t\\t\\t\\t\\t\\t\\t1STPRIMFMF\\xa014.60\\xa0 \\r\\n\\t\\t\\t\\t\\t\\t\\t   \\t\\t\\t\\t0.10\\xa0\\xa0\\xa0\\xa00.69%\\t                       \\t\\t\\t\\t\\n\\n\\n\\n\\n'"
      ]
     },
     "execution_count": 60,
     "metadata": {},
     "output_type": "execute_result"
    }
   ],
   "source": [
    "soup.findAll('tr')[0].findAll('td')[3].text"
   ]
  },
  {
   "cell_type": "code",
   "execution_count": 31,
   "id": "711bb500-eb9c-4cf3-84e7-4220eb5bc83a",
   "metadata": {},
   "outputs": [
    {
     "data": {
      "text/plain": [
       "366"
      ]
     },
     "execution_count": 31,
     "metadata": {},
     "output_type": "execute_result"
    }
   ],
   "source": [
    "len(soup.findAll('tr')[0].findAll('tr'))"
   ]
  },
  {
   "cell_type": "code",
   "execution_count": 48,
   "id": "57c1908e-0ac8-4029-ac5c-78bbab496e71",
   "metadata": {},
   "outputs": [
    {
     "data": {
      "text/plain": [
       "<td height=\"30\" valign=\"top\">\n",
       "<table border=\"0\" cellpadding=\"0\" cellspacing=\"0\" width=\"125\">\n",
       "<tr>\n",
       "<td height=\"30\" width=\"100%\">\n",
       "<a class=\"abhead\" href=\"displayCompany.php?name=FAREASTFIN\" target=\"_top\">\n",
       "\t\t\t\t\t\t\t\t\t\t\tFAREASTFIN 5.90 <img border=\"0\" src=\"assets/imgs/tkupdown.gif\"/> <br/>\n",
       "\t\t\t\t\t\t\t   \t\t\t\t0.00    0.00%\t                       \t\t\t\t</a>\n",
       "<br/>\n",
       "</td>\n",
       "</tr>\n",
       "</table>\n",
       "</td>"
      ]
     },
     "execution_count": 48,
     "metadata": {},
     "output_type": "execute_result"
    }
   ],
   "source": [
    "soup.findAll('tr')[0].findAll('td')[363]"
   ]
  },
  {
   "cell_type": "code",
   "execution_count": 45,
   "id": "6f98be31-7626-46a6-955a-0482d9ab5c06",
   "metadata": {},
   "outputs": [
    {
     "name": "stdout",
     "output_type": "stream",
     "text": [
      "['1JANATAMF', '6.10', '0.00', '0.00']\n"
     ]
    }
   ],
   "source": [
    "import re\n",
    "\n",
    "text = '\\n\\r\\n\\t\\t\\t\\t\\t\\t\\t\\t\\t\\t\\t1JANATAMF\\xa06.10\\xa0 \\r\\n\\t\\t\\t\\t\\t\\t\\t   \\t\\t\\t\\t0.00\\xa0\\xa0\\xa0\\xa00.00%\\t                       \\t\\t\\t\\t\\n\\n'\n",
    "\n",
    "# Remove special characters using regex and string manipulation\n",
    "clean_text = re.sub(r'[^\\w\\s.-]', '', text).strip()\n",
    "\n",
    "# Split the clean text into a list of strings\n",
    "string_list = clean_text.split()\n",
    "\n",
    "print(string_list)"
   ]
  },
  {
   "cell_type": "code",
   "execution_count": 76,
   "id": "ca55dc5c-5afb-41e4-821e-d8244453622d",
   "metadata": {},
   "outputs": [
    {
     "name": "stdout",
     "output_type": "stream",
     "text": [
      "\n",
      "\n",
      "\t\t\t\t\t\t\t\t\t\t\t1STPRIMFMF 14.60  \n",
      "\t\t\t\t\t\t\t   \t\t\t\t0.10    0.69%\t                       \t\t\t\t\n",
      "\n",
      "\n"
     ]
    }
   ],
   "source": [
    "for i in range(5):\n",
    "    print(soup.findAll('tr')[2].findAll('td')[i].text)\n",
    "    break"
   ]
  },
  {
   "cell_type": "code",
   "execution_count": 67,
   "id": "ee65f108-9285-4860-8e75-66a79501d63f",
   "metadata": {},
   "outputs": [
    {
     "data": {
      "text/plain": [
       "793"
      ]
     },
     "execution_count": 67,
     "metadata": {},
     "output_type": "execute_result"
    }
   ],
   "source": [
    "len(soup.findAll('tr'))"
   ]
  },
  {
   "cell_type": "code",
   "execution_count": 77,
   "id": "cddb6812-3cca-4fc7-8f8f-fcbd9d90fd8f",
   "metadata": {},
   "outputs": [
    {
     "data": {
      "text/plain": [
       "<tr>\n",
       "<td height=\"30\" width=\"100%\">\n",
       "<a class=\"abhead\" href=\"displayCompany.php?name=1STPRIMFMF\" target=\"_top\">\n",
       "\t\t\t\t\t\t\t\t\t\t\t1STPRIMFMF 14.60 <img border=\"0\" src=\"assets/imgs/tkup.gif\"/> <br/>\n",
       "\t\t\t\t\t\t\t   \t\t\t\t0.10    0.69%\t                       \t\t\t\t</a>\n",
       "<br/>\n",
       "</td>\n",
       "</tr>"
      ]
     },
     "execution_count": 77,
     "metadata": {},
     "output_type": "execute_result"
    }
   ],
   "source": [
    "soup.findAll('tr')[2]"
   ]
  },
  {
   "cell_type": "code",
   "execution_count": 73,
   "id": "7a398ef7-1bb8-4706-9480-cdde6fe94994",
   "metadata": {},
   "outputs": [
    {
     "data": {
      "text/plain": [
       "<tr>\n",
       "<td height=\"30\" width=\"100%\">\n",
       "<a class=\"abhead\" href=\"displayCompany.php?name=AAMRATECH\" target=\"_top\">\n",
       "\t\t\t\t\t\t\t\t\t\t\tAAMRATECH 36.60 <img border=\"0\" src=\"assets/imgs/tkdown.gif\"/> <br/>\n",
       "\t\t\t\t\t\t\t   \t\t\t\t-0.10    -0.27%\t                       \t\t\t\t</a>\n",
       "<br/>\n",
       "</td>\n",
       "</tr>"
      ]
     },
     "execution_count": 73,
     "metadata": {},
     "output_type": "execute_result"
    }
   ],
   "source": [
    "soup.findAll('tr')[4]"
   ]
  },
  {
   "cell_type": "code",
   "execution_count": 81,
   "id": "d681a414-aaca-479e-bffe-b1b95257a912",
   "metadata": {},
   "outputs": [],
   "source": [
    "# for i in range(5):\n",
    "#     print(soup.findAll('tr')[i].findAll('td'))\n",
    "#     break"
   ]
  },
  {
   "cell_type": "code",
   "execution_count": 83,
   "id": "e2435966-8ed2-4418-8860-38557f51baf8",
   "metadata": {},
   "outputs": [
    {
     "data": {
      "text/plain": [
       "1"
      ]
     },
     "execution_count": 83,
     "metadata": {},
     "output_type": "execute_result"
    }
   ],
   "source": [
    "len(soup.findAll('div', class_='table-responsive inner-scroll'))"
   ]
  },
  {
   "cell_type": "code",
   "execution_count": 86,
   "id": "3ae4b9d2-0c85-49d4-af33-4401203d4a11",
   "metadata": {},
   "outputs": [
    {
     "data": {
      "text/plain": [
       "<tr>\n",
       "<td width=\"4%\">1</td>\n",
       "<td width=\"15%\">\n",
       "<a class=\"ab1\" href=\"displayCompany.php?name=1JANATAMF\">\n",
       "\t\t\t\t\t\t\t\t\t\t\t\t\t1JANATAMF\t\t\t\t\t\t\t\t\t\t\t\t</a>\n",
       "</td>\n",
       "<td width=\"10%\">6.1</td>\n",
       "<td width=\"10%\">6.1</td>\n",
       "<td width=\"12%\">6.1</td>\n",
       "<td width=\"11%\">6.1</td>\n",
       "<td width=\"12%\">6.1</td>\n",
       "<td style=\"color: blue\" width=\"12%\">0</td>\n",
       "<td width=\"11%\">5</td>\n",
       "<td width=\"11%\">0.003</td>\n",
       "<td width=\"11%\">498</td>\n",
       "</tr>"
      ]
     },
     "execution_count": 86,
     "metadata": {},
     "output_type": "execute_result"
    }
   ],
   "source": [
    "soup.findAll('div', class_='table-responsive inner-scroll')[0].findAll('tr')[1]"
   ]
  },
  {
   "cell_type": "code",
   "execution_count": 87,
   "id": "b109f709-da83-492c-853c-376b40ee85eb",
   "metadata": {},
   "outputs": [
    {
     "data": {
      "text/plain": [
       "394"
      ]
     },
     "execution_count": 87,
     "metadata": {},
     "output_type": "execute_result"
    }
   ],
   "source": [
    "len(soup.findAll('div', class_='table-responsive inner-scroll')[0].findAll('tr'))"
   ]
  },
  {
   "cell_type": "code",
   "execution_count": 88,
   "id": "cb6d77ab-63d0-49e8-aa00-918a784339ad",
   "metadata": {},
   "outputs": [],
   "source": [
    "all_tr = soup.findAll('div', class_='table-responsive inner-scroll')[0].findAll('tr')"
   ]
  },
  {
   "cell_type": "code",
   "execution_count": 91,
   "id": "8d3199d0-c3ac-48de-8f31-d39d63bf1314",
   "metadata": {},
   "outputs": [
    {
     "data": {
      "text/plain": [
       "[<td width=\"4%\">1</td>,\n",
       " <td width=\"15%\">\n",
       " <a class=\"ab1\" href=\"displayCompany.php?name=1JANATAMF\">\n",
       " \t\t\t\t\t\t\t\t\t\t\t\t\t1JANATAMF\t\t\t\t\t\t\t\t\t\t\t\t</a>\n",
       " </td>,\n",
       " <td width=\"10%\">6.1</td>,\n",
       " <td width=\"10%\">6.1</td>,\n",
       " <td width=\"12%\">6.1</td>,\n",
       " <td width=\"11%\">6.1</td>,\n",
       " <td width=\"12%\">6.1</td>,\n",
       " <td style=\"color: blue\" width=\"12%\">0</td>,\n",
       " <td width=\"11%\">5</td>,\n",
       " <td width=\"11%\">0.003</td>,\n",
       " <td width=\"11%\">498</td>]"
      ]
     },
     "execution_count": 91,
     "metadata": {},
     "output_type": "execute_result"
    }
   ],
   "source": [
    "all_tr[1].findAll('td')]"
   ]
  },
  {
   "cell_type": "code",
   "execution_count": 100,
   "id": "3b880934-144b-4548-bfff-70406cec87a7",
   "metadata": {},
   "outputs": [
    {
     "name": "stdout",
     "output_type": "stream",
     "text": [
      "0  :  1\n",
      "\n",
      "1  :  \n",
      "\n",
      "\t\t\t\t\t\t\t\t\t\t\t\t\t1JANATAMF\t\t\t\t\t\t\t\t\t\t\t\t\n",
      "\n",
      "\n",
      "2  :  6.1\n",
      "\n",
      "3  :  6.1\n",
      "\n",
      "4  :  6.1\n",
      "\n",
      "5  :  6.1\n",
      "\n",
      "6  :  6.1\n",
      "\n",
      "7  :  0\n",
      "\n",
      "8  :  5\n",
      "\n",
      "9  :  0.003\n",
      "\n",
      "10  :  498\n",
      "\n"
     ]
    }
   ],
   "source": [
    "p = 0\n",
    "for i in all_tr[1].findAll('td'):\n",
    "    print(str(p), ' : ', i.text, end='\\n\\n')\n",
    "    p=p+1"
   ]
  },
  {
   "cell_type": "code",
   "execution_count": 111,
   "id": "4bb2df12-07b0-42e6-937d-0e3126a296d7",
   "metadata": {},
   "outputs": [
    {
     "name": "stdout",
     "output_type": "stream",
     "text": [
      "11\n",
      "11\n",
      "11\n",
      "11\n",
      "11\n",
      "11\n",
      "11\n",
      "11\n",
      "11\n",
      "11\n"
     ]
    }
   ],
   "source": [
    "import re\n",
    "\n",
    "c = 0\n",
    "for j in all_tr[1:]:\n",
    "    curr_tr_data = j.findAll('td')\n",
    "    tmp_c = 0\n",
    "    for i in curr_tr_data:\n",
    "        if (tmp_c%10==0):\n",
    "             if i.findAll('td')[i].text == '--':\n",
    "    #                  volume = 0.0\n",
    "    #              else:\n",
    "    #                  volume = float(j.findAll('td')[i].text.replace(',', ''))\n",
    "    print(len(curr_tr_data))\n",
    "\n",
    "    c=c+1\n",
    "    if c==10:\n",
    "        break\n",
    "    # for i in range(1, len(j.findAll('td'))):\n",
    "    #          if (i%10==0):\n",
    "    #              if j.findAll('td')[i].text == '--':\n",
    "    #                  volume = 0.0\n",
    "    #              else:\n",
    "    #                  volume = float(j.findAll('td')[i].text.replace(',', ''))\n",
    "    #              print(str(c), ' : Volume: ', volume)\n",
    "             # elif i%9==0:\n",
    "             #     if j.findAll('td')[i].text == '--':\n",
    "             #         value_of_trades = 0\n",
    "             #     else:\n",
    "             #         value_of_trades = float(j.findAll('td')[i].text.replace(',', ''))\n",
    "             #     print(str(c), ' : Value of Trades: ', value_of_trades)\n",
    "             # elif (i%8==0):\n",
    "             #     if j.findAll('td')[i].text == '--':\n",
    "             #         number_of_trades = 0\n",
    "             #     else:\n",
    "             #         number_of_trades = float(j.findAll('td')[i].text.replace(',', ''))\n",
    "             #     print(str(c), ' : Number of Trades: ', number_of_trades)\n",
    "             # elif (i%7==0):\n",
    "             #     if j.findAll('td')[i].text == '--':\n",
    "             #         percentage_change = 0\n",
    "             #     else:\n",
    "             #         percentage_change = float(j.findAll('td')[i].text.replace(',', ''))\n",
    "             #     print(str(c), ' : Percentage Change: ', percentage_change)\n",
    "             # elif (i%6==0):\n",
    "             #     if j.findAll('td')[i].text == '--':\n",
    "             #         yesterday_close_price = 0\n",
    "             #     else: \n",
    "             #         yesterday_close_price = float(j.findAll('td')[i].text.replace(',', ''))\n",
    "             #     print(str(c), ' : Yesterday Close Price: ', yesterday_close_price)\n",
    "             # elif (i%5==0):\n",
    "             #     if j.findAll('td')[i].text == '--':\n",
    "             #         close_price = 0\n",
    "             #     else:\n",
    "             #         close_price = float(j.findAll('td')[i].text.replace(',', ''))   \n",
    "             #     print(str(c), ' : Close Price: ', close_price)\n",
    "             # elif (i%4==0):\n",
    "             #     if j.findAll('td')[i].text == '--':\n",
    "             #         last_low = 0\n",
    "             #     else:\n",
    "             #         last_low = float(j.findAll('td')[i].text.replace(',', ''))\n",
    "             #     # last_high = float(j.findAll('td')[i].text.replace(',', ''))\n",
    "             #     print(str(c), ' : Last Low: ', last_low)\n",
    "             # elif (i%3==0):\n",
    "             #     if j.findAll('td')[i].text == '--':\n",
    "             #         last_high = 0\n",
    "             #     else:\n",
    "             #         last_high = float(j.findAll('td')[i].text.replace(',', ''))\n",
    "             #     print(str(c), ' : Last High: ', last_high)\n",
    "             # elif (i%2==0):\n",
    "             #     if j.findAll('td')[i].text == '--':\n",
    "             #         last_trading_price = 0\n",
    "             #     else:\n",
    "             #         last_trading_price = float(j.findAll('td')[i].text.replace(',', ''))\n",
    "             #     print(str(c), ' : Last Trading Price:', last_trading_price)\n",
    "             # elif (i%1==0):\n",
    "             #     if j.findAll('td')[i].text == '--':\n",
    "             #         trading_code = 'None'\n",
    "             #     else:\n",
    "             #         trading_code = re.sub(r'[^a-zA-Z0-9]', '', j.findAll('td')[i].text)\n",
    "             #     print(str(c), ' : Trading code: ', trading_code)\n",
    "    # print(c)\n",
    "    # # curr_co_data = {\n",
    "    #                     'serial':serial,\n",
    "    #                 # 'trading_code':trading_code,\n",
    "    #                 # 'last_trading_price':last_trading_price,\n",
    "    #                 # 'last_high':last_high,\n",
    "    #                 # 'last_low':last_low,\n",
    "    #                 # 'close_price':close_price,\n",
    "    #                 # 'yesterday_close_price':yesterday_close_price,\n",
    "    #                 # 'percentage_change':percentage_change,\n",
    "    #                 # 'number_of_trades':number_of_trades,\n",
    "    #                 # 'value_of_trades':value_of_trades,\n",
    "    #                #  'volume':volume,                    \n",
    "    #                # }\n",
    "    # c = c + 1\n",
    "    # print(curr_co_data)\n",
    "            "
   ]
  },
  {
   "cell_type": "code",
   "execution_count": 129,
   "id": "2ecbd3f9-7562-4987-9a0f-494f912bec37",
   "metadata": {},
   "outputs": [
    {
     "name": "stdout",
     "output_type": "stream",
     "text": [
      "0  :  <td width=\"4%\">10</td>\n",
      "0  :  <td width=\"4%\">10</td>\n",
      "1  :  <td width=\"15%\">\n",
      "<a class=\"ab1\" href=\"displayCompany.php?name=ACMELAB\">\n",
      "\t\t\t\t\t\t\t\t\t\t\t\t\tACMELAB\t\t\t\t\t\t\t\t\t\t\t\t</a>\n",
      "</td>\n",
      "2  :  <td width=\"10%\">86.8</td>\n",
      "3  :  <td width=\"10%\">88.6</td>\n",
      "4  :  <td width=\"12%\">86</td>\n",
      "5  :  <td width=\"11%\">86.8</td>\n",
      "6  :  <td width=\"12%\">85.7</td>\n",
      "7  :  <td style=\"color: green\" width=\"12%\">1.1</td>\n",
      "8  :  <td width=\"11%\">1,845</td>\n",
      "9  :  <td width=\"11%\">90.485</td>\n",
      "10  :  <td width=\"11%\">1,037,157</td>\n"
     ]
    }
   ],
   "source": [
    "for i in range(len(curr_tr_data)):\n",
    "    if i == 0:\n",
    "        print(str(i) , \" : \", curr_tr_data[i])\n",
    "        serial=curr_tr_data[i].text\n",
    "        pass\n",
    "    if i % 10 == 0:\n",
    "        print(str(i) , \" : \", curr_tr_data[i])\n",
    "        if curr_tr_data[i].text == '--':\n",
    "            volume = 0\n",
    "        else: \n",
    "            volume = float(curr_tr_data[i].text.replace(',', ''))\n",
    "        pass\n",
    "    elif i % 9 == 0:\n",
    "        print(str(i) , \" : \", curr_tr_data[i])\n",
    "        if curr_tr_data[i].text == '--':\n",
    "            value_of_trades = 0\n",
    "        else: \n",
    "            value_of_trades = float(curr_tr_data[i].text.replace(',', ''))\n",
    "        pass\n",
    "    elif i % 8 == 0:\n",
    "        print(str(i) , \" : \", curr_tr_data[i])\n",
    "        if curr_tr_data[i].text == '--':\n",
    "            number_of_trades = 0\n",
    "        else: \n",
    "            number_of_trades = float(curr_tr_data[i].text.replace(',', ''))\n",
    "        pass\n",
    "    elif i % 7 == 0:\n",
    "        print(str(i) , \" : \", curr_tr_data[i])\n",
    "        if curr_tr_data[i].text == '--':\n",
    "            percentage_change = 0\n",
    "        else: \n",
    "            percentage_change = float(curr_tr_data[i].text.replace(',', ''))\n",
    "        pass\n",
    "    elif i % 6 == 0:\n",
    "        print(str(i) , \" : \", curr_tr_data[i])\n",
    "        if curr_tr_data[i].text == '--':\n",
    "            yesterday_close_price = 0\n",
    "        else: \n",
    "            yesterday_close_price = float(curr_tr_data[i].text.replace(',', ''))\n",
    "        pass\n",
    "    elif i % 5 == 0:\n",
    "        print(str(i) , \" : \", curr_tr_data[i])\n",
    "        if curr_tr_data[i].text == '--':\n",
    "            close_price = 0\n",
    "        else:\n",
    "            close_price = float(curr_tr_data[i].text.replace(',', '')) \n",
    "        pass\n",
    "    elif i % 4 == 0:\n",
    "        print(str(i) , \" : \", curr_tr_data[i])\n",
    "        if curr_tr_data[i].text == '--':\n",
    "            last_low = 0\n",
    "        else:\n",
    "            last_low = float(curr_tr_data[i].text.replace(',', ''))\n",
    "        pass\n",
    "    elif i % 3 == 0:\n",
    "        print(str(i) , \" : \", curr_tr_data[i])\n",
    "        if curr_tr_data[i].text == '--':\n",
    "            last_high = 0\n",
    "        else:\n",
    "            last_high = float(curr_tr_data[i].text.replace(',', ''))\n",
    "        pass\n",
    "    elif i % 2 == 0:\n",
    "        print(str(i) , \" : \", curr_tr_data[i])\n",
    "        if curr_tr_data[i].text == '--':\n",
    "            last_trading_price = 0\n",
    "        else:\n",
    "            last_trading_price = float(curr_tr_data[i].text.replace(',', ''))\n",
    "        pass\n",
    "    elif i % 1 == 0:\n",
    "        print(str(i) , \" : \", curr_tr_data[i])\n",
    "        if curr_tr_data[i].text == '--':\n",
    "            trading_code = 'None'\n",
    "        else:\n",
    "            trading_code = re.sub(r'[^a-zA-Z0-9]', '', curr_tr_data[i].text)\n",
    "        pass\n",
    "        \n",
    "curr_co_data = {\n",
    "                'serial':serial,\n",
    "                'trading_code':trading_code,\n",
    "                'last_trading_price':last_trading_price,\n",
    "                'last_high':last_high,\n",
    "                'last_low':last_low,\n",
    "                'close_price':close_price,\n",
    "                'yesterday_close_price':yesterday_close_price,\n",
    "                'percentage_change':percentage_change,\n",
    "                'number_of_trades':number_of_trades,\n",
    "                'value_of_trades':value_of_trades,\n",
    "                'volume':volume,                    \n",
    "                }"
   ]
  },
  {
   "cell_type": "code",
   "execution_count": 121,
   "id": "0e94b0cc-eba7-4b4c-aa08-0692316fc3bd",
   "metadata": {},
   "outputs": [
    {
     "data": {
      "text/plain": [
       "'ACMELAB'"
      ]
     },
     "execution_count": 121,
     "metadata": {},
     "output_type": "execute_result"
    }
   ],
   "source": [
    "trading_code"
   ]
  },
  {
   "cell_type": "code",
   "execution_count": 123,
   "id": "92e2cd61-64e0-42e7-982b-91bf95182fe0",
   "metadata": {},
   "outputs": [
    {
     "data": {
      "text/plain": [
       "86.8"
      ]
     },
     "execution_count": 123,
     "metadata": {},
     "output_type": "execute_result"
    }
   ],
   "source": [
    "last_trading_price"
   ]
  },
  {
   "cell_type": "code",
   "execution_count": 130,
   "id": "5a5096a8-526f-42ec-b6b3-a125e1d17fce",
   "metadata": {},
   "outputs": [
    {
     "data": {
      "text/plain": [
       "{'serial': '10',\n",
       " 'trading_code': 'ACMELAB',\n",
       " 'last_trading_price': 86.8,\n",
       " 'last_high': 88.6,\n",
       " 'last_low': 86.0,\n",
       " 'close_price': 86.8,\n",
       " 'yesterday_close_price': 85.7,\n",
       " 'percentage_change': 1.1,\n",
       " 'number_of_trades': 1845.0,\n",
       " 'value_of_trades': 90.485,\n",
       " 'volume': 1037157.0}"
      ]
     },
     "execution_count": 130,
     "metadata": {},
     "output_type": "execute_result"
    }
   ],
   "source": [
    "curr_co_data"
   ]
  },
  {
   "cell_type": "code",
   "execution_count": 135,
   "id": "7627995f-1c0e-4ba2-aeb5-4f157b41d7eb",
   "metadata": {},
   "outputs": [],
   "source": [
    "for j in all_tr[1:]:\n",
    "    tmp_c = 0\n",
    "    curr_tr_data = j.findAll('td')\n",
    "    for i in range(len(curr_tr_data)):\n",
    "        if i == 0:\n",
    "            print(str(i) , \" : \", curr_tr_data[i])\n",
    "            serial=curr_tr_data[i].text\n",
    "            pass\n",
    "        if i % 10 == 0:\n",
    "            print(str(i) , \" : \", curr_tr_data[i])\n",
    "            if curr_tr_data[i].text == '--':\n",
    "                volume = 0\n",
    "            else: \n",
    "                volume = float(curr_tr_data[i].text.replace(',', ''))\n",
    "            pass\n",
    "        elif i % 9 == 0:\n",
    "            print(str(i) , \" : \", curr_tr_data[i])\n",
    "            if curr_tr_data[i].text == '--':\n",
    "                value_of_trades = 0\n",
    "            else: \n",
    "                value_of_trades = float(curr_tr_data[i].text.replace(',', ''))\n",
    "            pass\n",
    "        elif i % 8 == 0:\n",
    "            print(str(i) , \" : \", curr_tr_data[i])\n",
    "            if curr_tr_data[i].text == '--':\n",
    "                number_of_trades = 0\n",
    "            else: \n",
    "                number_of_trades = float(curr_tr_data[i].text.replace(',', ''))\n",
    "            pass\n",
    "        elif i % 7 == 0:\n",
    "            print(str(i) , \" : \", curr_tr_data[i])\n",
    "            if curr_tr_data[i].text == '--':\n",
    "                percentage_change = 0\n",
    "            else: \n",
    "                percentage_change = float(curr_tr_data[i].text.replace(',', ''))\n",
    "            pass\n",
    "        elif i % 6 == 0:\n",
    "            print(str(i) , \" : \", curr_tr_data[i])\n",
    "            if curr_tr_data[i].text == '--':\n",
    "                yesterday_close_price = 0\n",
    "            else: \n",
    "                yesterday_close_price = float(curr_tr_data[i].text.replace(',', ''))\n",
    "            pass\n",
    "        elif i % 5 == 0:\n",
    "            print(str(i) , \" : \", curr_tr_data[i])\n",
    "            if curr_tr_data[i].text == '--':\n",
    "                close_price = 0\n",
    "            else:\n",
    "                close_price = float(curr_tr_data[i].text.replace(',', '')) \n",
    "            pass\n",
    "        elif i % 4 == 0:\n",
    "            print(str(i) , \" : \", curr_tr_data[i])\n",
    "            if curr_tr_data[i].text == '--':\n",
    "                last_low = 0\n",
    "            else:\n",
    "                last_low = float(curr_tr_data[i].text.replace(',', ''))\n",
    "            pass\n",
    "        elif i % 3 == 0:\n",
    "            print(str(i) , \" : \", curr_tr_data[i])\n",
    "            if curr_tr_data[i].text == '--':\n",
    "                last_high = 0\n",
    "            else:\n",
    "                last_high = float(curr_tr_data[i].text.replace(',', ''))\n",
    "            pass\n",
    "        elif i % 2 == 0:\n",
    "            print(str(i) , \" : \", curr_tr_data[i])\n",
    "            if curr_tr_data[i].text == '--':\n",
    "                last_trading_price = 0\n",
    "            else:\n",
    "                last_trading_price = float(curr_tr_data[i].text.replace(',', ''))\n",
    "            pass\n",
    "        elif i % 1 == 0:\n",
    "            print(str(i) , \" : \", curr_tr_data[i])\n",
    "            if curr_tr_data[i].text == '--':\n",
    "                trading_code = 'None'\n",
    "            else:\n",
    "                trading_code = re.sub(r'[^a-zA-Z0-9]', '', curr_tr_data[i].text)\n",
    "            pass\n",
    "            \n",
    "    curr_co_data = {\n",
    "                    'serial':serial,\n",
    "                    'trading_code':trading_code,\n",
    "                    'last_trading_price':last_trading_price,\n",
    "                    'last_high':last_high,\n",
    "                    'last_low':last_low,\n",
    "                    'close_price':close_price,\n",
    "                    'yesterday_close_price':yesterday_close_price,\n",
    "                    'percentage_change':percentage_change,\n",
    "                    'number_of_trades':number_of_trades,\n",
    "                    'value_of_trades':value_of_trades,\n",
    "                    'volume':volume,                    \n",
    "                    }\n",
    "    # tmp_c=tmp_c+1\n",
    "    # if tmp_c==2:\n",
    "    #     break"
   ]
  },
  {
   "cell_type": "code",
   "execution_count": 141,
   "id": "06c779e9-f907-4d76-bb6f-9960bb31163e",
   "metadata": {},
   "outputs": [
    {
     "data": {
      "text/plain": [
       "11"
      ]
     },
     "execution_count": 141,
     "metadata": {},
     "output_type": "execute_result"
    }
   ],
   "source": [
    "len(curr_tr_data)"
   ]
  },
  {
   "cell_type": "code",
   "execution_count": 147,
   "id": "399a7a2f-8fd7-46c3-af04-54f2ac2895b3",
   "metadata": {},
   "outputs": [
    {
     "name": "stdout",
     "output_type": "stream",
     "text": [
      "0  :  <td width=\"4%\">1</td>\n",
      "0  :  <td width=\"4%\">1</td>\n",
      "1  :  <td width=\"15%\">\n",
      "<a class=\"ab1\" href=\"displayCompany.php?name=1JANATAMF\">\n",
      "\t\t\t\t\t\t\t\t\t\t\t\t\t1JANATAMF\t\t\t\t\t\t\t\t\t\t\t\t</a>\n",
      "</td>\n",
      "2  :  <td width=\"10%\">6.1</td>\n",
      "3  :  <td width=\"10%\">6.1</td>\n",
      "4  :  <td width=\"12%\">6.1</td>\n",
      "5  :  <td width=\"11%\">6.1</td>\n",
      "6  :  <td width=\"12%\">6.1</td>\n",
      "7  :  <td style=\"color: blue\" width=\"12%\">0</td>\n",
      "8  :  <td width=\"11%\">5</td>\n",
      "9  :  <td width=\"11%\">0.003</td>\n",
      "10  :  <td width=\"11%\">498</td>\n",
      "0  :  <td width=\"4%\">2</td>\n",
      "0  :  <td width=\"4%\">2</td>\n",
      "1  :  <td width=\"15%\">\n",
      "<a class=\"ab1\" href=\"displayCompany.php?name=1STPRIMFMF\">\n",
      "\t\t\t\t\t\t\t\t\t\t\t\t\t1STPRIMFMF\t\t\t\t\t\t\t\t\t\t\t\t</a>\n",
      "</td>\n",
      "2  :  <td width=\"10%\">14.6</td>\n",
      "3  :  <td width=\"10%\">15.1</td>\n",
      "4  :  <td width=\"12%\">14.5</td>\n",
      "5  :  <td width=\"11%\">14.6</td>\n",
      "6  :  <td width=\"12%\">14.5</td>\n",
      "7  :  <td style=\"color: green\" width=\"12%\">0.1</td>\n",
      "8  :  <td width=\"11%\">215</td>\n",
      "9  :  <td width=\"11%\">3.848</td>\n",
      "10  :  <td width=\"11%\">260,543</td>\n",
      "Breaking\n"
     ]
    }
   ],
   "source": [
    "tmp_c = 0\n",
    "\n",
    "for j in all_tr[1:]:   \n",
    "    curr_tr_data = j.findAll('td')\n",
    "    for i in range(len(curr_tr_data)):\n",
    "        if i == 0:\n",
    "            print(str(i) , \" : \", curr_tr_data[i])\n",
    "            serial=curr_tr_data[i].text\n",
    "            pass\n",
    "        if i % 10 == 0:\n",
    "            print(str(i) , \" : \", curr_tr_data[i])\n",
    "            if curr_tr_data[i].text == '--':\n",
    "                volume = 0\n",
    "            else: \n",
    "                volume = float(curr_tr_data[i].text.replace(',', ''))\n",
    "            pass\n",
    "        elif i % 9 == 0:\n",
    "            print(str(i) , \" : \", curr_tr_data[i])\n",
    "            if curr_tr_data[i].text == '--':\n",
    "                value_of_trades = 0\n",
    "            else: \n",
    "                value_of_trades = float(curr_tr_data[i].text.replace(',', ''))\n",
    "            pass\n",
    "        elif i % 8 == 0:\n",
    "            print(str(i) , \" : \", curr_tr_data[i])\n",
    "            if curr_tr_data[i].text == '--':\n",
    "                number_of_trades = 0\n",
    "            else: \n",
    "                number_of_trades = float(curr_tr_data[i].text.replace(',', ''))\n",
    "            pass\n",
    "        elif i % 7 == 0:\n",
    "            print(str(i) , \" : \", curr_tr_data[i])\n",
    "            if curr_tr_data[i].text == '--':\n",
    "                percentage_change = 0\n",
    "            else: \n",
    "                percentage_change = float(curr_tr_data[i].text.replace(',', ''))\n",
    "            pass\n",
    "        elif i % 6 == 0:\n",
    "            print(str(i) , \" : \", curr_tr_data[i])\n",
    "            if curr_tr_data[i].text == '--':\n",
    "                yesterday_close_price = 0\n",
    "            else: \n",
    "                yesterday_close_price = float(curr_tr_data[i].text.replace(',', ''))\n",
    "            pass\n",
    "        elif i % 5 == 0:\n",
    "            print(str(i) , \" : \", curr_tr_data[i])\n",
    "            if curr_tr_data[i].text == '--':\n",
    "                close_price = 0\n",
    "            else:\n",
    "                close_price = float(curr_tr_data[i].text.replace(',', '')) \n",
    "            pass\n",
    "        elif i % 4 == 0:\n",
    "            print(str(i) , \" : \", curr_tr_data[i])\n",
    "            if curr_tr_data[i].text == '--':\n",
    "                last_low = 0\n",
    "            else:\n",
    "                last_low = float(curr_tr_data[i].text.replace(',', ''))\n",
    "            pass\n",
    "        elif i % 3 == 0:\n",
    "            print(str(i) , \" : \", curr_tr_data[i])\n",
    "            if curr_tr_data[i].text == '--':\n",
    "                last_high = 0\n",
    "            else:\n",
    "                last_high = float(curr_tr_data[i].text.replace(',', ''))\n",
    "            pass\n",
    "        elif i % 2 == 0:\n",
    "            print(str(i) , \" : \", curr_tr_data[i])\n",
    "            if curr_tr_data[i].text == '--':\n",
    "                last_trading_price = 0\n",
    "            else:\n",
    "                last_trading_price = float(curr_tr_data[i].text.replace(',', ''))\n",
    "            pass\n",
    "        elif i % 1 == 0:\n",
    "            print(str(i) , \" : \", curr_tr_data[i])\n",
    "            if curr_tr_data[i].text == '--':\n",
    "                trading_code = 'None'\n",
    "            else:\n",
    "                trading_code = re.sub(r'[^a-zA-Z0-9]', '', curr_tr_data[i].text)\n",
    "            pass\n",
    "            \n",
    "    curr_co_data = {\n",
    "                    'serial':serial,\n",
    "                    'trading_code':trading_code,\n",
    "                    'last_trading_price':last_trading_price,\n",
    "                    'last_high':last_high,\n",
    "                    'last_low':last_low,\n",
    "                    'close_price':close_price,\n",
    "                    'yesterday_close_price':yesterday_close_price,\n",
    "                    'percentage_change':percentage_change,\n",
    "                    'number_of_trades':number_of_trades,\n",
    "                    'value_of_trades':value_of_trades,\n",
    "                    'volume':volume,                    \n",
    "                    }\n",
    "        # continue\n",
    "    tmp_c=tmp_c+1\n",
    "    if tmp_c==2:\n",
    "        print('Breaking')\n",
    "        break"
   ]
  },
  {
   "cell_type": "code",
   "execution_count": 148,
   "id": "542a8ef1-d35d-4097-8256-8277cbc7e247",
   "metadata": {},
   "outputs": [
    {
     "data": {
      "text/plain": [
       "{'serial': '2',\n",
       " 'trading_code': '1STPRIMFMF',\n",
       " 'last_trading_price': 14.6,\n",
       " 'last_high': 15.1,\n",
       " 'last_low': 14.5,\n",
       " 'close_price': 14.6,\n",
       " 'yesterday_close_price': 14.5,\n",
       " 'percentage_change': 0.1,\n",
       " 'number_of_trades': 215.0,\n",
       " 'value_of_trades': 3.848,\n",
       " 'volume': 260543.0}"
      ]
     },
     "execution_count": 148,
     "metadata": {},
     "output_type": "execute_result"
    }
   ],
   "source": [
    "curr_co_data"
   ]
  },
  {
   "cell_type": "code",
   "execution_count": null,
   "id": "116f2939-c2e3-4bed-9c2b-b481f104636f",
   "metadata": {},
   "outputs": [],
   "source": []
  },
  {
   "cell_type": "code",
   "execution_count": null,
   "id": "1a42f6a8-c225-4ee1-887a-90e272c4657b",
   "metadata": {},
   "outputs": [],
   "source": []
  },
  {
   "cell_type": "code",
   "execution_count": 133,
   "id": "71ef06be-861a-480f-9776-c4a8062b72b6",
   "metadata": {},
   "outputs": [
    {
     "data": {
      "text/plain": [
       "<tr>\n",
       "<td width=\"4%\">2</td>\n",
       "<td width=\"15%\">\n",
       "<a class=\"ab1\" href=\"displayCompany.php?name=1STPRIMFMF\">\n",
       "\t\t\t\t\t\t\t\t\t\t\t\t\t1STPRIMFMF\t\t\t\t\t\t\t\t\t\t\t\t</a>\n",
       "</td>\n",
       "<td width=\"10%\">14.6</td>\n",
       "<td width=\"10%\">15.1</td>\n",
       "<td width=\"12%\">14.5</td>\n",
       "<td width=\"11%\">14.6</td>\n",
       "<td width=\"12%\">14.5</td>\n",
       "<td style=\"color: green\" width=\"12%\">0.1</td>\n",
       "<td width=\"11%\">215</td>\n",
       "<td width=\"11%\">3.848</td>\n",
       "<td width=\"11%\">260,543</td>\n",
       "</tr>"
      ]
     },
     "execution_count": 133,
     "metadata": {},
     "output_type": "execute_result"
    }
   ],
   "source": [
    "all_tr[2]"
   ]
  },
  {
   "cell_type": "code",
   "execution_count": null,
   "id": "7db57e9c-d4f4-445d-9c09-eb4289147b89",
   "metadata": {},
   "outputs": [],
   "source": []
  }
 ],
 "metadata": {
  "kernelspec": {
   "display_name": "Python 3 (ipykernel)",
   "language": "python",
   "name": "python3"
  },
  "language_info": {
   "codemirror_mode": {
    "name": "ipython",
    "version": 3
   },
   "file_extension": ".py",
   "mimetype": "text/x-python",
   "name": "python",
   "nbconvert_exporter": "python",
   "pygments_lexer": "ipython3",
   "version": "3.10.6"
  }
 },
 "nbformat": 4,
 "nbformat_minor": 5
}
