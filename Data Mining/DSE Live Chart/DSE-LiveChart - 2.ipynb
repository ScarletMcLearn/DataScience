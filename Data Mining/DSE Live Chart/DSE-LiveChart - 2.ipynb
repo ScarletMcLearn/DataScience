{
 "cells": [
  {
   "cell_type": "code",
   "execution_count": 87,
   "id": "cb9f9a2e-3a54-4703-b243-5dabcbddcf1f",
   "metadata": {},
   "outputs": [
    {
     "name": "stderr",
     "output_type": "stream",
     "text": [
      "/tmp/ipykernel_171278/1163964081.py:42: DeprecationWarning: executable_path has been deprecated, please pass in a Service object\n",
      "  d = webdriver.Firefox(executable_path='/media/scarlet/Project/Project Files/PythonEnvs/AutomationEnv/AutoDriver/geckodriver', service_log_path='/media/scarlet/Project/Project Files/geckodriver.log')\n",
      "/tmp/ipykernel_171278/1163964081.py:42: DeprecationWarning: service_log_path has been deprecated, please pass in a Service object\n",
      "  d = webdriver.Firefox(executable_path='/media/scarlet/Project/Project Files/PythonEnvs/AutomationEnv/AutoDriver/geckodriver', service_log_path='/media/scarlet/Project/Project Files/geckodriver.log')\n"
     ]
    }
   ],
   "source": [
    "from colorama import Fore, Style\n",
    "from selenium import webdriver\n",
    "from selenium.webdriver.common.keys import Keys\n",
    "from selenium.webdriver.common.by import By\n",
    "import time, random\n",
    "\n",
    "\n",
    "from tqdm import tqdm\n",
    "\n",
    "import pandas as pd\n",
    "\n",
    "from selenium.webdriver.support.wait import WebDriverWait\n",
    "from selenium.webdriver.support import expected_conditions as EC\n",
    "\n",
    "from bs4 import BeautifulSoup\n",
    "\n",
    "\n",
    "\n",
    "def scroll(d):\n",
    "    SCROLL_PAUSE_TIME = 0.5 \n",
    "    # Get scroll height\n",
    "    last_height = d.execute_script(\"return document.body.scrollHeight\")\n",
    "    while True:\n",
    "        # Scroll down to bottom\n",
    "        d.execute_script(\"window.scrollTo(0, document.body.scrollHeight);\")\n",
    "        # Wait to load page\n",
    "        time.sleep(SCROLL_PAUSE_TIME)\n",
    "        # Calculate new scroll height and compare with last scroll height\n",
    "        new_height = d.execute_script(\"return document.body.scrollHeight\")\n",
    "        if new_height == last_height:\n",
    "            break\n",
    "        last_height = new_height\n",
    "\n",
    "\n",
    "def tqdm_sleep(sec):\n",
    "    for i in tqdm(range(sec)):\n",
    "        time.sleep(1)\n",
    "        \n",
    "        \n",
    "random.seed(time.time())\n",
    "\n",
    "d = webdriver.Firefox(executable_path='/media/scarlet/Project/Project Files/PythonEnvs/AutomationEnv/AutoDriver/geckodriver', service_log_path='/media/scarlet/Project/Project Files/geckodriver.log')\n",
    "\n",
    "\n",
    "\n",
    "d.maximize_window()\n",
    "\n",
    "\n",
    "\n",
    "d.get('https://www.dsebd.org/latest_share_price_scroll_l.php')\n",
    "\n",
    "d.implicitly_wait(7) # 30\n",
    "\n",
    "soup = BeautifulSoup(d.find_elements(By.CLASS_NAME, 'floatThead-wrapper')[0].get_attribute('outerHTML'), 'html.parser')"
   ]
  },
  {
   "cell_type": "code",
   "execution_count": 88,
   "id": "e0e1da36-10de-4508-90ee-d2b15023d31e",
   "metadata": {},
   "outputs": [
    {
     "name": "stdout",
     "output_type": "stream",
     "text": [
      "TRADING CODE\n",
      "LTP*\n",
      "HIGH\n",
      "LOW\n",
      "CLOSEP*\n",
      "YCP*\n",
      "CHANGE\n",
      "TRADE\n",
      "VALUE (mn)\n",
      "VOLUME\n"
     ]
    }
   ],
   "source": [
    "#find_header\n",
    "for i in soup.findAll('th', attrs={\"width\": \"12%\"}):\n",
    "    print(i.text)"
   ]
  },
  {
   "cell_type": "code",
   "execution_count": 200,
   "id": "51e9cd25-12c7-4783-9730-483a7b94f95d",
   "metadata": {},
   "outputs": [
    {
     "name": "stdout",
     "output_type": "stream",
     "text": [
      "0  :  <th width=\"12%\">TRADING CODE</th>\n",
      "1  :  <th width=\"12%\">LTP*</th>\n",
      "2  :  <th width=\"12%\">HIGH</th>\n",
      "3  :  <th width=\"12%\">LOW</th>\n",
      "4  :  <th width=\"12%\">CLOSEP*</th>\n",
      "5  :  <th width=\"12%\">YCP*</th>\n",
      "6  :  <th width=\"12%\">CHANGE</th>\n",
      "7  :  <th width=\"12%\">TRADE</th>\n",
      "8  :  <th width=\"12%\">VALUE (mn)</th>\n",
      "9  :  <th width=\"12%\">VOLUME</th>\n"
     ]
    }
   ],
   "source": [
    "for i in range(len(soup.findAll('th', attrs={\"width\": \"12%\"}))):\n",
    "    print(str(i), ' : ', soup.findAll('th', attrs={\"width\": \"12%\"})[i])\n",
    "    # print(str(i), ' : ', soup.findAll('tr')[394].findAll('td')[i].text)"
   ]
  },
  {
   "cell_type": "code",
   "execution_count": 201,
   "id": "f111490e-7943-466b-8c68-f28906eb9e05",
   "metadata": {},
   "outputs": [
    {
     "name": "stdout",
     "output_type": "stream",
     "text": [
      "0  :  \n",
      "\n",
      "\t\t\t\t\t\t\t\t\t\t\t\t\tZEALBANGLA\t\t\t\t\t\t\t\t\t\t\t\t\n",
      "\n",
      "1  :  121.7\n",
      "2  :  126.2\n",
      "3  :  121.5\n",
      "4  :  122\n",
      "5  :  122.1\n",
      "6  :  -0.4\n",
      "7  :  36\n",
      "8  :  0.492\n",
      "9  :  4,028\n"
     ]
    }
   ],
   "source": [
    "for i in range(1, len(soup.findAll('tr')[394].findAll('td'))):\n",
    "     print(str(i-1), ' : ', soup.findAll('tr')[394].findAll('td')[i].text)"
   ]
  },
  {
   "cell_type": "code",
   "execution_count": 211,
   "id": "9c141eab-4247-4c14-973a-fc9a7caf0c53",
   "metadata": {},
   "outputs": [],
   "source": [
    "import re\n",
    "\n",
    "# string_with_unwanted_chars = \"Hello, @World! 123\"\n",
    "# clean_string = re.sub(r'[^a-zA-Z0-9]', '', string_with_unwanted_chars)\n",
    "# print(clean_string)  # Output: \"Hello World 123\"\n",
    "\n",
    "for i in range(1, len(soup.findAll('tr')[394].findAll('td'))):\n",
    "         if (i%10==0):\n",
    "             # print(i, ' vs 10')\n",
    "             volume = float(soup.findAll('tr')[394].findAll('td')[i].text.replace(',', ''))\n",
    "             # print(str(i), ' : ', soup.findAll('tr')[394].findAll('td'))\n",
    "         elif i%9==0:\n",
    "             # print('Hey')\n",
    "             # print(i, ' vs 9')\n",
    "             value_of_trades = float(soup.findAll('tr')[394].findAll('td')[i].text.replace(',', ''))\n",
    "             # print(str(i), ' : ', soup.findAll('tr')[394].findAll('td')[i].text)\n",
    "         elif (i%8==0):\n",
    "             # print(i, ' vs 8')\n",
    "             number_of_trades = float(soup.findAll('tr')[394].findAll('td')[i].text.replace(',', ''))\n",
    "             # print(str(i), ' : ', soup.findAll('tr')[394].findAll('td')[i].text)\n",
    "         elif (i%7==0):\n",
    "             # print(i, ' vs 7')\n",
    "             percentage_change = float(soup.findAll('tr')[394].findAll('td')[i].text.replace(',', ''))\n",
    "             # print(str(i), ' : ', soup.findAll('tr')[394].findAll('td')[i].text)\n",
    "         elif (i%6==0):\n",
    "             # print(i, ' vs 6')\n",
    "             yesterday_close_price = float(soup.findAll('tr')[394].findAll('td')[i].text.replace(',', ''))\n",
    "             # print(str(i), ' : ', soup.findAll('tr')[394].findAll('td')[i].text)\n",
    "         elif (i%5==0):\n",
    "             # print(i, ' vs 5')\n",
    "             close_price = float(soup.findAll('tr')[394].findAll('td')[i].text.replace(',', ''))\n",
    "             # print(str(i), ' : ', soup.findAll('tr')[394].findAll('td')[i].text)         \n",
    "         \n",
    "         elif (i%4==0):\n",
    "             # print(i, ' vs 4')\n",
    "             last_low = float(soup.findAll('tr')[394].findAll('td')[i].text.replace(',', ''))\n",
    "             # print(i, ' vs 3')\n",
    "             last_high = float(soup.findAll('tr')[394].findAll('td')[i].text.replace(',', ''))\n",
    "         elif (i%3==0):\n",
    "             # print(i, \" vs 2\")\n",
    "             last_trading_price = float(soup.findAll('tr')[394].findAll('td')[i].text.replace(',', ''))\n",
    "         elif (i%2==0):\n",
    "             # print(i, \" vs 2\")\n",
    "             last_trading_price = float(soup.findAll('tr')[394].findAll('td')[i].text.replace(',', ''))\n",
    "         elif (i%1==0):\n",
    "            # print(i, ' vs 1')\n",
    "            # print('tc ', i, ' ', soup.findAll('tr')[394].findAll('td')[i].text)\n",
    "            # print('tc ', i, ' ', re.sub(r'[^a-zA-Z0-9]', '', soup.findAll('tr')[394].findAll('td')[i].text))\n",
    "            trading_code = re.sub(r'[^a-zA-Z0-9]', '', soup.findAll('tr')[394].findAll('td')[i].text)\n",
    "\n",
    "\n",
    "\n",
    "\n",
    "# >TRADING CODE</th>\n",
    "# 1  :  <th width=\"12%\">LTP*</th>\n",
    "# 2  :  <th width=\"12%\">HIGH</th>\n",
    "# 3  :  <th width=\"12%\">LOW</th>\n",
    "# 4  :  <th width=\"12%\">CLOSEP*</th>\n",
    "# 5  :  <th width=\"12%\">YCP*</th>\n",
    "# 6  :  <th width=\"12%\">CHANGE</th>\n",
    "# 7  :  <th width=\"12%\">TRADE</th>\n",
    "# 8  :  <th width=\"12%\">VALUE (mn)</th>\n",
    "# 9  :  <th width=\"12%\">VOLUME</th>\n",
    "\n",
    "         \n",
    "         # elif (i%10==0):\n",
    "         #     print('Hello!')\n",
    "             # volume = soup.findAll('tr')[394].findAll('td')[i].text\n",
    "         #     print(str(i), ' : ', soup.findAll('tr')[394].findAll('td')[i].text)\n",
    "         # time.sleep(60)\n",
    "         # print(str(i), ' : ', soup.findAll('tr')[394].findAll('td')[i].text)\n",
    "         # print('Mod: ', str(i), \" : \", (i%9==0))\n",
    "     "
   ]
  },
  {
   "cell_type": "code",
   "execution_count": 212,
   "id": "918794d9-680e-47b7-9acd-1d15c7a23800",
   "metadata": {},
   "outputs": [
    {
     "data": {
      "text/plain": [
       "'ZEALBANGLA'"
      ]
     },
     "execution_count": 212,
     "metadata": {},
     "output_type": "execute_result"
    }
   ],
   "source": [
    "trading_code"
   ]
  },
  {
   "cell_type": "code",
   "execution_count": 213,
   "id": "0e64f534-f591-4b12-b8b7-b236d827e78c",
   "metadata": {},
   "outputs": [],
   "source": [
    "# '4,208'.replace(',', '')"
   ]
  },
  {
   "cell_type": "code",
   "execution_count": 214,
   "id": "f81e86cf-73bf-4dfb-a51b-1a79dfa9e5db",
   "metadata": {},
   "outputs": [],
   "source": [
    "# soup.findAll('tr')[394].findAll('td')[1].text"
   ]
  },
  {
   "cell_type": "code",
   "execution_count": 215,
   "id": "cb5c42bb-08e4-4d75-95b6-ac5e3644b6ba",
   "metadata": {},
   "outputs": [],
   "source": [
    "# 2%1"
   ]
  },
  {
   "cell_type": "code",
   "execution_count": null,
   "id": "27e4431c-58c8-40f7-8343-5e3fcb05e6e3",
   "metadata": {},
   "outputs": [],
   "source": []
  },
  {
   "cell_type": "code",
   "execution_count": 175,
   "id": "a20e8c02-9d40-4dfb-a377-7af4f43ad4fa",
   "metadata": {},
   "outputs": [
    {
     "data": {
      "text/html": [
       "\n",
       "  <div id=\"d7a70ceb-1bda-4820-97ed-cb3ce05e9f06\" data-root-id=\"p306453\" style=\"display: contents;\"></div>\n"
      ]
     },
     "metadata": {},
     "output_type": "display_data"
    },
    {
     "data": {
      "application/javascript": [
       "(function(root) {\n",
       "  function embed_document(root) {\n",
       "  const docs_json = {\"2da3121e-e47b-4b4e-9b3f-ec713163a2f1\":{\"version\":\"3.1.1\",\"title\":\"Bokeh Application\",\"defs\":[],\"roots\":[{\"type\":\"object\",\"name\":\"Figure\",\"id\":\"p306453\",\"attributes\":{\"width\":900,\"height\":900,\"max_width\":900,\"max_height\":300,\"sizing_mode\":\"scale_both\",\"x_range\":{\"type\":\"object\",\"name\":\"DataRange1d\",\"id\":\"p306454\"},\"y_range\":{\"type\":\"object\",\"name\":\"DataRange1d\",\"id\":\"p306455\"},\"x_scale\":{\"type\":\"object\",\"name\":\"LinearScale\",\"id\":\"p306467\"},\"y_scale\":{\"type\":\"object\",\"name\":\"LinearScale\",\"id\":\"p306469\"},\"title\":{\"type\":\"object\",\"name\":\"Title\",\"id\":\"p306456\",\"attributes\":{\"text\":\"Dhaka Stock Exchange Live Change\",\"text_color\":\"#E0E0E0\",\"text_font\":\"Helvetica\",\"text_font_size\":\"1.15em\",\"align\":\"center\"}},\"outline_line_color\":\"#E0E0E0\",\"outline_line_alpha\":0.25,\"renderers\":[{\"type\":\"object\",\"name\":\"GlyphRenderer\",\"id\":\"p306542\",\"attributes\":{\"data_source\":{\"type\":\"object\",\"name\":\"ColumnDataSource\",\"id\":\"p306536\",\"attributes\":{\"selected\":{\"type\":\"object\",\"name\":\"Selection\",\"id\":\"p306538\",\"attributes\":{\"indices\":[],\"line_indices\":[]}},\"selection_policy\":{\"type\":\"object\",\"name\":\"UnionRenderers\",\"id\":\"p306537\"},\"data\":{\"type\":\"map\",\"entries\":[[\"x\",[1684458000000.0,1684461900000.0,1684465800000.0,1684469700000.0,1684473600000.0,1684488300000.0]],[\"y\",[0,1,2,3,4,5]]]}}},\"view\":{\"type\":\"object\",\"name\":\"CDSView\",\"id\":\"p306543\",\"attributes\":{\"filter\":{\"type\":\"object\",\"name\":\"AllIndices\",\"id\":\"p306544\"}}},\"glyph\":{\"type\":\"object\",\"name\":\"Circle\",\"id\":\"p306539\",\"attributes\":{\"x\":{\"type\":\"field\",\"field\":\"x\"},\"y\":{\"type\":\"field\",\"field\":\"y\"},\"line_color\":{\"type\":\"value\",\"value\":\"pink\"},\"fill_color\":{\"type\":\"value\",\"value\":\"#1f77b4\"}}},\"nonselection_glyph\":{\"type\":\"object\",\"name\":\"Circle\",\"id\":\"p306540\",\"attributes\":{\"x\":{\"type\":\"field\",\"field\":\"x\"},\"y\":{\"type\":\"field\",\"field\":\"y\"},\"line_color\":{\"type\":\"value\",\"value\":\"pink\"},\"line_alpha\":{\"type\":\"value\",\"value\":0.1},\"fill_color\":{\"type\":\"value\",\"value\":\"#1f77b4\"},\"fill_alpha\":{\"type\":\"value\",\"value\":0.1},\"hatch_alpha\":{\"type\":\"value\",\"value\":0.1}}},\"muted_glyph\":{\"type\":\"object\",\"name\":\"Circle\",\"id\":\"p306541\",\"attributes\":{\"x\":{\"type\":\"field\",\"field\":\"x\"},\"y\":{\"type\":\"field\",\"field\":\"y\"},\"line_color\":{\"type\":\"value\",\"value\":\"pink\"},\"line_alpha\":{\"type\":\"value\",\"value\":0.2},\"fill_color\":{\"type\":\"value\",\"value\":\"#1f77b4\"},\"fill_alpha\":{\"type\":\"value\",\"value\":0.2},\"hatch_alpha\":{\"type\":\"value\",\"value\":0.2}}}}},{\"type\":\"object\",\"name\":\"GlyphRenderer\",\"id\":\"p306554\",\"attributes\":{\"data_source\":{\"type\":\"object\",\"name\":\"ColumnDataSource\",\"id\":\"p306548\",\"attributes\":{\"selected\":{\"type\":\"object\",\"name\":\"Selection\",\"id\":\"p306550\",\"attributes\":{\"indices\":[],\"line_indices\":[]}},\"selection_policy\":{\"type\":\"object\",\"name\":\"UnionRenderers\",\"id\":\"p306549\"},\"data\":{\"type\":\"map\",\"entries\":[[\"x\",[1684458000000.0,1684461900000.0,1684465800000.0,1684469700000.0,1684473600000.0,1684488300000.0]],[\"y\",[0,1,2,3,4,5]]]}}},\"view\":{\"type\":\"object\",\"name\":\"CDSView\",\"id\":\"p306555\",\"attributes\":{\"filter\":{\"type\":\"object\",\"name\":\"AllIndices\",\"id\":\"p306556\"}}},\"glyph\":{\"type\":\"object\",\"name\":\"Line\",\"id\":\"p306551\",\"attributes\":{\"x\":{\"type\":\"field\",\"field\":\"x\"},\"y\":{\"type\":\"field\",\"field\":\"y\"},\"line_color\":\"yellow\"}},\"nonselection_glyph\":{\"type\":\"object\",\"name\":\"Line\",\"id\":\"p306552\",\"attributes\":{\"x\":{\"type\":\"field\",\"field\":\"x\"},\"y\":{\"type\":\"field\",\"field\":\"y\"},\"line_color\":\"yellow\",\"line_alpha\":0.1}},\"muted_glyph\":{\"type\":\"object\",\"name\":\"Line\",\"id\":\"p306553\",\"attributes\":{\"x\":{\"type\":\"field\",\"field\":\"x\"},\"y\":{\"type\":\"field\",\"field\":\"y\"},\"line_color\":\"yellow\",\"line_alpha\":0.2}}}},{\"type\":\"object\",\"name\":\"GlyphRenderer\",\"id\":\"p306563\",\"attributes\":{\"data_source\":{\"type\":\"object\",\"name\":\"ColumnDataSource\",\"id\":\"p306557\",\"attributes\":{\"selected\":{\"type\":\"object\",\"name\":\"Selection\",\"id\":\"p306559\",\"attributes\":{\"indices\":[],\"line_indices\":[]}},\"selection_policy\":{\"type\":\"object\",\"name\":\"UnionRenderers\",\"id\":\"p306558\"},\"data\":{\"type\":\"map\",\"entries\":[[\"x\",[1684458000000.0,1684461900000.0,1684465800000.0,1684469700000.0,1684473600000.0,1684488300000.0]],[\"y\",[5,29,25,83,100,28]]]}}},\"view\":{\"type\":\"object\",\"name\":\"CDSView\",\"id\":\"p306564\",\"attributes\":{\"filter\":{\"type\":\"object\",\"name\":\"AllIndices\",\"id\":\"p306565\"}}},\"glyph\":{\"type\":\"object\",\"name\":\"Circle\",\"id\":\"p306560\",\"attributes\":{\"x\":{\"type\":\"field\",\"field\":\"x\"},\"y\":{\"type\":\"field\",\"field\":\"y\"},\"size\":{\"type\":\"value\",\"value\":10},\"line_color\":{\"type\":\"field\",\"field\":\"y\",\"transform\":{\"type\":\"object\",\"name\":\"LinearColorMapper\",\"id\":\"p306452\",\"attributes\":{\"palette\":[\"#30123b\",\"#311542\",\"#32184a\",\"#341b51\",\"#351e58\",\"#36215f\",\"#372365\",\"#38266c\",\"#392972\",\"#3a2c79\",\"#3b2f7f\",\"#3c3285\",\"#3c358b\",\"#3d3791\",\"#3e3a96\",\"#3f3d9c\",\"#4040a1\",\"#4043a6\",\"#4145ab\",\"#4148b0\",\"#424bb5\",\"#434eba\",\"#4350be\",\"#4353c2\",\"#4456c7\",\"#4458cb\",\"#455bce\",\"#455ed2\",\"#4560d6\",\"#4563d9\",\"#4666dd\",\"#4668e0\",\"#466be3\",\"#466de6\",\"#4670e8\",\"#4673eb\",\"#4675ed\",\"#4678f0\",\"#467af2\",\"#467df4\",\"#467ff6\",\"#4682f8\",\"#4584f9\",\"#4587fb\",\"#4589fc\",\"#448cfd\",\"#438efd\",\"#4291fe\",\"#4193fe\",\"#4096fe\",\"#3f98fe\",\"#3e9bfe\",\"#3c9dfd\",\"#3ba0fc\",\"#39a2fc\",\"#38a5fb\",\"#36a8f9\",\"#34aaf8\",\"#33acf6\",\"#31aff5\",\"#2fb1f3\",\"#2db4f1\",\"#2bb6ef\",\"#2ab9ed\",\"#28bbeb\",\"#26bde9\",\"#25c0e6\",\"#23c2e4\",\"#21c4e1\",\"#20c6df\",\"#1ec9dc\",\"#1dcbda\",\"#1ccdd7\",\"#1bcfd4\",\"#1ad1d2\",\"#19d3cf\",\"#18d5cc\",\"#18d7ca\",\"#17d9c7\",\"#17dac4\",\"#17dcc2\",\"#17debf\",\"#18e0bd\",\"#18e1ba\",\"#19e3b8\",\"#1ae4b6\",\"#1be5b4\",\"#1de7b1\",\"#1ee8af\",\"#20e9ac\",\"#22eba9\",\"#24eca6\",\"#27eda3\",\"#29eea0\",\"#2cef9d\",\"#2ff09a\",\"#32f197\",\"#35f394\",\"#38f491\",\"#3bf48d\",\"#3ff58a\",\"#42f687\",\"#46f783\",\"#4af880\",\"#4df97c\",\"#51f979\",\"#55fa76\",\"#59fb72\",\"#5dfb6f\",\"#61fc6c\",\"#65fc68\",\"#69fd65\",\"#6dfd62\",\"#71fd5f\",\"#74fe5c\",\"#78fe59\",\"#7cfe56\",\"#80fe53\",\"#84fe50\",\"#87fe4d\",\"#8bfe4b\",\"#8efe48\",\"#92fe46\",\"#95fe44\",\"#98fe42\",\"#9bfd40\",\"#9efd3e\",\"#a1fc3d\",\"#a4fc3b\",\"#a6fb3a\",\"#a9fb39\",\"#acfa37\",\"#aef937\",\"#b1f836\",\"#b3f835\",\"#b6f735\",\"#b9f534\",\"#bbf434\",\"#bef334\",\"#c0f233\",\"#c3f133\",\"#c5ef33\",\"#c8ee33\",\"#caed33\",\"#cdeb34\",\"#cfea34\",\"#d1e834\",\"#d4e735\",\"#d6e535\",\"#d8e335\",\"#dae236\",\"#dde036\",\"#dfde36\",\"#e1dc37\",\"#e3da37\",\"#e5d838\",\"#e7d738\",\"#e8d538\",\"#ead339\",\"#ecd139\",\"#edcf39\",\"#efcd39\",\"#f0cb3a\",\"#f2c83a\",\"#f3c63a\",\"#f4c43a\",\"#f6c23a\",\"#f7c039\",\"#f8be39\",\"#f9bc39\",\"#f9ba38\",\"#fab737\",\"#fbb537\",\"#fbb336\",\"#fcb035\",\"#fcae34\",\"#fdab33\",\"#fda932\",\"#fda631\",\"#fda330\",\"#fea12f\",\"#fe9e2e\",\"#fe9b2d\",\"#fe982c\",\"#fd952b\",\"#fd9229\",\"#fd8f28\",\"#fd8c27\",\"#fc8926\",\"#fc8624\",\"#fb8323\",\"#fb8022\",\"#fa7d20\",\"#fa7a1f\",\"#f9771e\",\"#f8741c\",\"#f7711b\",\"#f76e1a\",\"#f66b18\",\"#f56817\",\"#f46516\",\"#f36315\",\"#f26014\",\"#f15d13\",\"#ef5a11\",\"#ee5810\",\"#ed550f\",\"#ec520e\",\"#ea500d\",\"#e94d0d\",\"#e84b0c\",\"#e6490b\",\"#e5460a\",\"#e3440a\",\"#e24209\",\"#e04008\",\"#de3e08\",\"#dd3c07\",\"#db3a07\",\"#d93806\",\"#d73606\",\"#d63405\",\"#d43205\",\"#d23005\",\"#d02f04\",\"#ce2d04\",\"#cb2b03\",\"#c92903\",\"#c72803\",\"#c52602\",\"#c32402\",\"#c02302\",\"#be2102\",\"#bb1f01\",\"#b91e01\",\"#b61c01\",\"#b41b01\",\"#b11901\",\"#ae1801\",\"#ac1601\",\"#a91501\",\"#a61401\",\"#a31201\",\"#a01101\",\"#9d1001\",\"#9a0e01\",\"#970d01\",\"#940c01\",\"#910b01\",\"#8e0a01\",\"#8b0901\",\"#870801\",\"#840701\",\"#810602\",\"#7d0502\",\"#7a0402\"],\"low\":100,\"high\":5}}},\"fill_color\":{\"type\":\"field\",\"field\":\"y\",\"transform\":{\"id\":\"p306452\"}},\"hatch_color\":{\"type\":\"field\",\"field\":\"y\",\"transform\":{\"id\":\"p306452\"}}}},\"nonselection_glyph\":{\"type\":\"object\",\"name\":\"Circle\",\"id\":\"p306561\",\"attributes\":{\"x\":{\"type\":\"field\",\"field\":\"x\"},\"y\":{\"type\":\"field\",\"field\":\"y\"},\"size\":{\"type\":\"value\",\"value\":10},\"line_color\":{\"type\":\"field\",\"field\":\"y\",\"transform\":{\"id\":\"p306452\"}},\"line_alpha\":{\"type\":\"value\",\"value\":0.1},\"fill_color\":{\"type\":\"field\",\"field\":\"y\",\"transform\":{\"id\":\"p306452\"}},\"fill_alpha\":{\"type\":\"value\",\"value\":0.1},\"hatch_color\":{\"type\":\"field\",\"field\":\"y\",\"transform\":{\"id\":\"p306452\"}},\"hatch_alpha\":{\"type\":\"value\",\"value\":0.1}}},\"muted_glyph\":{\"type\":\"object\",\"name\":\"Circle\",\"id\":\"p306562\",\"attributes\":{\"x\":{\"type\":\"field\",\"field\":\"x\"},\"y\":{\"type\":\"field\",\"field\":\"y\"},\"size\":{\"type\":\"value\",\"value\":10},\"line_color\":{\"type\":\"field\",\"field\":\"y\",\"transform\":{\"id\":\"p306452\"}},\"line_alpha\":{\"type\":\"value\",\"value\":0.2},\"fill_color\":{\"type\":\"field\",\"field\":\"y\",\"transform\":{\"id\":\"p306452\"}},\"fill_alpha\":{\"type\":\"value\",\"value\":0.2},\"hatch_color\":{\"type\":\"field\",\"field\":\"y\",\"transform\":{\"id\":\"p306452\"}},\"hatch_alpha\":{\"type\":\"value\",\"value\":0.2}}}}},{\"type\":\"object\",\"name\":\"GlyphRenderer\",\"id\":\"p306573\",\"attributes\":{\"data_source\":{\"type\":\"object\",\"name\":\"ColumnDataSource\",\"id\":\"p306567\",\"attributes\":{\"selected\":{\"type\":\"object\",\"name\":\"Selection\",\"id\":\"p306569\",\"attributes\":{\"indices\":[],\"line_indices\":[]}},\"selection_policy\":{\"type\":\"object\",\"name\":\"UnionRenderers\",\"id\":\"p306568\"},\"data\":{\"type\":\"map\",\"entries\":[[\"x\",[1684458000000.0,1684461900000.0,1684465800000.0,1684469700000.0,1684473600000.0,1684488300000.0]],[\"y\",[5,29,25,83,100,28]]]}}},\"view\":{\"type\":\"object\",\"name\":\"CDSView\",\"id\":\"p306574\",\"attributes\":{\"filter\":{\"type\":\"object\",\"name\":\"AllIndices\",\"id\":\"p306575\"}}},\"glyph\":{\"type\":\"object\",\"name\":\"Line\",\"id\":\"p306570\",\"attributes\":{\"x\":{\"type\":\"field\",\"field\":\"x\"},\"y\":{\"type\":\"field\",\"field\":\"y\"},\"line_color\":\"orange\"}},\"nonselection_glyph\":{\"type\":\"object\",\"name\":\"Line\",\"id\":\"p306571\",\"attributes\":{\"x\":{\"type\":\"field\",\"field\":\"x\"},\"y\":{\"type\":\"field\",\"field\":\"y\"},\"line_color\":\"orange\",\"line_alpha\":0.1}},\"muted_glyph\":{\"type\":\"object\",\"name\":\"Line\",\"id\":\"p306572\",\"attributes\":{\"x\":{\"type\":\"field\",\"field\":\"x\"},\"y\":{\"type\":\"field\",\"field\":\"y\"},\"line_color\":\"orange\",\"line_alpha\":0.2}}}}],\"toolbar\":{\"type\":\"object\",\"name\":\"Toolbar\",\"id\":\"p306459\",\"attributes\":{\"tools\":[{\"type\":\"object\",\"name\":\"PanTool\",\"id\":\"p306521\"},{\"type\":\"object\",\"name\":\"WheelZoomTool\",\"id\":\"p306522\"},{\"type\":\"object\",\"name\":\"BoxZoomTool\",\"id\":\"p306523\",\"attributes\":{\"overlay\":{\"type\":\"object\",\"name\":\"BoxAnnotation\",\"id\":\"p306524\",\"attributes\":{\"syncable\":false,\"level\":\"overlay\",\"visible\":false,\"left_units\":\"canvas\",\"right_units\":\"canvas\",\"bottom_units\":\"canvas\",\"top_units\":\"canvas\",\"line_color\":\"black\",\"line_alpha\":1.0,\"line_width\":2,\"line_dash\":[4,4],\"fill_color\":\"lightgrey\",\"fill_alpha\":0.5}}}},{\"type\":\"object\",\"name\":\"SaveTool\",\"id\":\"p306525\"},{\"type\":\"object\",\"name\":\"ResetTool\",\"id\":\"p306526\"},{\"type\":\"object\",\"name\":\"HelpTool\",\"id\":\"p306527\"}]}},\"left\":[{\"type\":\"object\",\"name\":\"LinearAxis\",\"id\":\"p306514\",\"attributes\":{\"ticker\":{\"type\":\"object\",\"name\":\"BasicTicker\",\"id\":\"p306517\",\"attributes\":{\"mantissas\":[1,2,5]}},\"formatter\":{\"type\":\"object\",\"name\":\"BasicTickFormatter\",\"id\":\"p306516\"},\"axis_label\":\"Percentage Change (%)\",\"axis_label_standoff\":10,\"axis_label_text_color\":\"#E0E0E0\",\"axis_label_text_font\":\"Helvetica\",\"axis_label_text_font_size\":\"1.25em\",\"axis_label_text_font_style\":\"normal\",\"major_label_policy\":{\"type\":\"object\",\"name\":\"AllLabels\",\"id\":\"p306515\"},\"major_label_text_color\":\"#E0E0E0\",\"major_label_text_font\":\"Helvetica\",\"major_label_text_font_size\":\"1.025em\",\"axis_line_color\":\"#E0E0E0\",\"axis_line_alpha\":0,\"major_tick_line_color\":\"#E0E0E0\",\"major_tick_line_alpha\":0,\"minor_tick_line_color\":\"#E0E0E0\",\"minor_tick_line_alpha\":0}}],\"below\":[{\"type\":\"object\",\"name\":\"DatetimeAxis\",\"id\":\"p306471\",\"attributes\":{\"ticker\":{\"type\":\"object\",\"name\":\"DatetimeTicker\",\"id\":\"p306474\",\"attributes\":{\"num_minor_ticks\":5,\"tickers\":[{\"type\":\"object\",\"name\":\"AdaptiveTicker\",\"id\":\"p306475\",\"attributes\":{\"num_minor_ticks\":0,\"mantissas\":[1,2,5],\"max_interval\":500.0}},{\"type\":\"object\",\"name\":\"AdaptiveTicker\",\"id\":\"p306476\",\"attributes\":{\"num_minor_ticks\":0,\"base\":60,\"mantissas\":[1,2,5,10,15,20,30],\"min_interval\":1000.0,\"max_interval\":1800000.0}},{\"type\":\"object\",\"name\":\"AdaptiveTicker\",\"id\":\"p306477\",\"attributes\":{\"num_minor_ticks\":0,\"base\":24,\"mantissas\":[1,2,4,6,8,12],\"min_interval\":3600000.0,\"max_interval\":43200000.0}},{\"type\":\"object\",\"name\":\"DaysTicker\",\"id\":\"p306478\",\"attributes\":{\"days\":[1,2,3,4,5,6,7,8,9,10,11,12,13,14,15,16,17,18,19,20,21,22,23,24,25,26,27,28,29,30,31]}},{\"type\":\"object\",\"name\":\"DaysTicker\",\"id\":\"p306479\",\"attributes\":{\"days\":[1,4,7,10,13,16,19,22,25,28]}},{\"type\":\"object\",\"name\":\"DaysTicker\",\"id\":\"p306480\",\"attributes\":{\"days\":[1,8,15,22]}},{\"type\":\"object\",\"name\":\"DaysTicker\",\"id\":\"p306481\",\"attributes\":{\"days\":[1,15]}},{\"type\":\"object\",\"name\":\"MonthsTicker\",\"id\":\"p306482\",\"attributes\":{\"months\":[0,1,2,3,4,5,6,7,8,9,10,11]}},{\"type\":\"object\",\"name\":\"MonthsTicker\",\"id\":\"p306483\",\"attributes\":{\"months\":[0,2,4,6,8,10]}},{\"type\":\"object\",\"name\":\"MonthsTicker\",\"id\":\"p306484\",\"attributes\":{\"months\":[0,4,8]}},{\"type\":\"object\",\"name\":\"MonthsTicker\",\"id\":\"p306485\",\"attributes\":{\"months\":[0,6]}},{\"type\":\"object\",\"name\":\"YearsTicker\",\"id\":\"p306486\"}]}},\"formatter\":{\"type\":\"object\",\"name\":\"DatetimeTickFormatter\",\"id\":\"p306576\",\"attributes\":{\"hours\":\"%H:%M\"}},\"axis_label\":\"Date-Time\",\"axis_label_standoff\":10,\"axis_label_text_color\":\"#E0E0E0\",\"axis_label_text_font\":\"Helvetica\",\"axis_label_text_font_size\":\"1.25em\",\"axis_label_text_font_style\":\"normal\",\"major_label_policy\":{\"type\":\"object\",\"name\":\"AllLabels\",\"id\":\"p306472\"},\"major_label_text_color\":\"#E0E0E0\",\"major_label_text_font\":\"Helvetica\",\"major_label_text_font_size\":\"1.025em\",\"axis_line_color\":\"#E0E0E0\",\"axis_line_alpha\":0,\"major_tick_line_color\":\"#E0E0E0\",\"major_tick_line_alpha\":0,\"minor_tick_line_color\":\"#E0E0E0\",\"minor_tick_line_alpha\":0}}],\"center\":[{\"type\":\"object\",\"name\":\"Grid\",\"id\":\"p306513\",\"attributes\":{\"axis\":{\"id\":\"p306471\"},\"grid_line_color\":\"#E0E0E0\",\"grid_line_alpha\":0.25}},{\"type\":\"object\",\"name\":\"Grid\",\"id\":\"p306520\",\"attributes\":{\"dimension\":1,\"axis\":{\"id\":\"p306514\"},\"grid_line_color\":\"#E0E0E0\",\"grid_line_alpha\":0.25}},{\"type\":\"object\",\"name\":\"Legend\",\"id\":\"p306545\",\"attributes\":{\"location\":\"top_left\",\"title\":\"Lines\",\"border_line_alpha\":0,\"background_fill_color\":\"#20262B\",\"background_fill_alpha\":0.25,\"label_text_color\":\"#E0E0E0\",\"label_text_font\":\"Helvetica\",\"label_text_font_size\":\"1.025em\",\"label_standoff\":8,\"glyph_width\":15,\"spacing\":8,\"items\":[{\"type\":\"object\",\"name\":\"LegendItem\",\"id\":\"p306546\",\"attributes\":{\"label\":{\"type\":\"value\",\"value\":\"Line 1\"},\"renderers\":[{\"id\":\"p306542\"},{\"id\":\"p306554\"}]}},{\"type\":\"object\",\"name\":\"LegendItem\",\"id\":\"p306566\",\"attributes\":{\"label\":{\"type\":\"value\",\"value\":\"Line 2\"},\"renderers\":[{\"id\":\"p306563\"},{\"id\":\"p306573\"}]}}]}}],\"background_fill_color\":\"#20262B\",\"border_fill_color\":\"#15191C\"}}],\"callbacks\":{\"type\":\"map\"}}};\n",
       "  const render_items = [{\"docid\":\"2da3121e-e47b-4b4e-9b3f-ec713163a2f1\",\"roots\":{\"p306453\":\"d7a70ceb-1bda-4820-97ed-cb3ce05e9f06\"},\"root_ids\":[\"p306453\"]}];\n",
       "  root.Bokeh.embed.embed_items_notebook(docs_json, render_items);\n",
       "  }\n",
       "  if (root.Bokeh !== undefined) {\n",
       "    embed_document(root);\n",
       "  } else {\n",
       "    let attempts = 0;\n",
       "    const timer = setInterval(function(root) {\n",
       "      if (root.Bokeh !== undefined) {\n",
       "        clearInterval(timer);\n",
       "        embed_document(root);\n",
       "      } else {\n",
       "        attempts++;\n",
       "        if (attempts > 100) {\n",
       "          clearInterval(timer);\n",
       "          console.log(\"Bokeh: ERROR: Unable to run BokehJS code because BokehJS library is missing\");\n",
       "        }\n",
       "      }\n",
       "    }, 10, root)\n",
       "  }\n",
       "})(window);"
      ],
      "application/vnd.bokehjs_exec.v0+json": ""
     },
     "metadata": {
      "application/vnd.bokehjs_exec.v0+json": {
       "id": "p306453"
      }
     },
     "output_type": "display_data"
    }
   ],
   "source": [
    "from bokeh.plotting import figure, show, curdoc\n",
    "from bokeh.models import DatetimeTickFormatter\n",
    "from datetime import datetime\n",
    "import random\n",
    "from bokeh.models import ContinuousColorMapper\n",
    "from bokeh.palettes import Viridis256\n",
    "from bokeh.transform import linear_cmap\n",
    "from bokeh.palettes import Turbo256\n",
    "from bokeh.palettes import Category10, Category20, Category20b, Category20c\n",
    "\n",
    "\n",
    "\n",
    "\n",
    "# Dummy data representing different hour-minute values\n",
    "hour_minutes = [(1, 0), (2, 5), (3, 10), (4, 15), (5, 20), (9, 25)]\n",
    "\n",
    "# Create a list of datetime objects from the hour-minute values\n",
    "x_values = [datetime(datetime.now().year, datetime.now().month, datetime.now().day, hour, minute) for hour, minute in hour_minutes]\n",
    "y_1_values = [i for i in range(len(hour_minutes))]\n",
    "y_2_values = [random.randint(0, 100) for _ in range(len(hour_minutes))]\n",
    "\n",
    "mapper = linear_cmap(field_name=\"y\", palette=Turbo256, low=max(y_2_values), high=min(y_2_values))\n",
    "\n",
    "# Create a figure\n",
    "# p = figure(x_axis_type=\"datetime\")\n",
    "\n",
    "# create figure\n",
    "p = figure(\n",
    "    title=\"Dhaka Stock Exchange Live Change\",\n",
    "    x_axis_type=\"datetime\",\n",
    "    sizing_mode=\"scale_both\",\n",
    "\n",
    "    # Comment the width heights later\n",
    "    max_width=900,\n",
    "    max_height = 300,\n",
    "    width=900,\n",
    "    height=900\n",
    "    \n",
    ")\n",
    "\n",
    "p.title.align = \"center\"\n",
    "# Set x-axis and y-axis labels\n",
    "p.xaxis.axis_label = \"Date-Time\"\n",
    "p.yaxis.axis_label = \"Percentage Change (%)\"\n",
    "\n",
    "\n",
    "\n",
    "p.circle(x_values, y_1_values, legend_label=\"Line 1\", line_color=\n",
    "         'pink'\n",
    "        )\n",
    "\n",
    "\n",
    "# Define the color mapping based on y_1_values\n",
    "colors = Turbo256\n",
    "color_mapper = LinearColorMapper(palette=Viridis256, low=min(y_1_values), high=max(y_1_values))\n",
    "\n",
    "\n",
    "# Add the line with varying colors based on values\n",
    "p.line(x_values, y_1_values, legend_label=\"Line 1\", \n",
    "       line_color=\n",
    "       'yellow'\n",
    "      )\n",
    "\n",
    "\n",
    "p.circle(x_values, y_2_values, legend_label=\"Line 2\", \n",
    "        color=mapper, size=10\n",
    "        )\n",
    "\n",
    "p.line(x_values, y_2_values, legend_label=\"Line 2\",\n",
    "      line_color=\n",
    "       'orange'\n",
    "\n",
    "      )\n",
    "\n",
    "\n",
    "\n",
    "# Customize the x-axis tick labels\n",
    "p.xaxis.formatter = DatetimeTickFormatter(hours=\"%H:%M\")\n",
    "\n",
    "curdoc().theme = 'dark_minimal'\n",
    "\n",
    "p.legend.title = 'Lines'\n",
    "p.legend.location = \"top_left\"  # Options: top_left, top_right, bottom_left, bottom_right, center, center_left, center_right\n",
    "\n",
    "\n",
    "\n",
    "# Show the plot\n",
    "show(p)\n"
   ]
  },
  {
   "cell_type": "code",
   "execution_count": 178,
   "id": "02a1a187-fef6-4906-9dd0-0838c7d3506d",
   "metadata": {},
   "outputs": [],
   "source": [
    "# dir(p.circle())"
   ]
  },
  {
   "cell_type": "code",
   "execution_count": 179,
   "id": "9a0702a7-cb5c-4cc4-a73f-13ec16b01ee7",
   "metadata": {},
   "outputs": [
    {
     "data": {
      "text/html": [
       "\n",
       "  <div id=\"f16677ef-0472-4888-8a64-4d12f53487b9\" data-root-id=\"p321760\" style=\"display: contents;\"></div>\n"
      ]
     },
     "metadata": {},
     "output_type": "display_data"
    },
    {
     "data": {
      "application/javascript": [
       "(function(root) {\n",
       "  function embed_document(root) {\n",
       "  const docs_json = {\"6613bb2a-736a-490b-99e5-f59f92f3fee5\":{\"version\":\"3.1.1\",\"title\":\"Bokeh Application\",\"defs\":[],\"roots\":[{\"type\":\"object\",\"name\":\"Figure\",\"id\":\"p321760\",\"attributes\":{\"width\":900,\"height\":900,\"max_width\":900,\"max_height\":300,\"sizing_mode\":\"scale_both\",\"x_range\":{\"type\":\"object\",\"name\":\"DataRange1d\",\"id\":\"p321761\"},\"y_range\":{\"type\":\"object\",\"name\":\"DataRange1d\",\"id\":\"p321762\"},\"x_scale\":{\"type\":\"object\",\"name\":\"LinearScale\",\"id\":\"p321774\"},\"y_scale\":{\"type\":\"object\",\"name\":\"LinearScale\",\"id\":\"p321776\"},\"title\":{\"type\":\"object\",\"name\":\"Title\",\"id\":\"p321763\",\"attributes\":{\"text\":\"Dhaka Stock Exchange Live Change\",\"text_color\":\"#E0E0E0\",\"text_font\":\"Helvetica\",\"text_font_size\":\"1.15em\",\"align\":\"center\"}},\"outline_line_color\":\"#E0E0E0\",\"outline_line_alpha\":0.25,\"renderers\":[{\"type\":\"object\",\"name\":\"GlyphRenderer\",\"id\":\"p321849\",\"attributes\":{\"data_source\":{\"type\":\"object\",\"name\":\"ColumnDataSource\",\"id\":\"p321843\",\"attributes\":{\"selected\":{\"type\":\"object\",\"name\":\"Selection\",\"id\":\"p321845\",\"attributes\":{\"indices\":[],\"line_indices\":[]}},\"selection_policy\":{\"type\":\"object\",\"name\":\"UnionRenderers\",\"id\":\"p321844\"},\"data\":{\"type\":\"map\",\"entries\":[[\"x\",[1684458000000.0,1684461900000.0,1684465800000.0,1684469700000.0,1684473600000.0,1684488300000.0]],[\"y\",[0,1,2,3,4,5]]]}}},\"view\":{\"type\":\"object\",\"name\":\"CDSView\",\"id\":\"p321850\",\"attributes\":{\"filter\":{\"type\":\"object\",\"name\":\"AllIndices\",\"id\":\"p321851\"}}},\"glyph\":{\"type\":\"object\",\"name\":\"Line\",\"id\":\"p321846\",\"attributes\":{\"x\":{\"type\":\"field\",\"field\":\"x\"},\"y\":{\"type\":\"field\",\"field\":\"y\"},\"line_color\":\"yellow\"}},\"nonselection_glyph\":{\"type\":\"object\",\"name\":\"Line\",\"id\":\"p321847\",\"attributes\":{\"x\":{\"type\":\"field\",\"field\":\"x\"},\"y\":{\"type\":\"field\",\"field\":\"y\"},\"line_color\":\"yellow\",\"line_alpha\":0.1}},\"muted_glyph\":{\"type\":\"object\",\"name\":\"Line\",\"id\":\"p321848\",\"attributes\":{\"x\":{\"type\":\"field\",\"field\":\"x\"},\"y\":{\"type\":\"field\",\"field\":\"y\"},\"line_color\":\"yellow\",\"line_alpha\":0.2}}}},{\"type\":\"object\",\"name\":\"GlyphRenderer\",\"id\":\"p321862\",\"attributes\":{\"data_source\":{\"type\":\"object\",\"name\":\"ColumnDataSource\",\"id\":\"p321856\",\"attributes\":{\"selected\":{\"type\":\"object\",\"name\":\"Selection\",\"id\":\"p321858\",\"attributes\":{\"indices\":[],\"line_indices\":[]}},\"selection_policy\":{\"type\":\"object\",\"name\":\"UnionRenderers\",\"id\":\"p321857\"},\"data\":{\"type\":\"map\",\"entries\":[[\"x\",[1684458000000.0,1684461900000.0,1684465800000.0,1684469700000.0,1684473600000.0,1684488300000.0]],[\"y\",[86,69,74,62,31,39]]]}}},\"view\":{\"type\":\"object\",\"name\":\"CDSView\",\"id\":\"p321863\",\"attributes\":{\"filter\":{\"type\":\"object\",\"name\":\"AllIndices\",\"id\":\"p321864\"}}},\"glyph\":{\"type\":\"object\",\"name\":\"Circle\",\"id\":\"p321859\",\"attributes\":{\"x\":{\"type\":\"field\",\"field\":\"x\"},\"y\":{\"type\":\"field\",\"field\":\"y\"},\"size\":{\"type\":\"value\",\"value\":10},\"line_color\":{\"type\":\"field\",\"field\":\"y\",\"transform\":{\"type\":\"object\",\"name\":\"LinearColorMapper\",\"id\":\"p321759\",\"attributes\":{\"palette\":[\"#30123b\",\"#311542\",\"#32184a\",\"#341b51\",\"#351e58\",\"#36215f\",\"#372365\",\"#38266c\",\"#392972\",\"#3a2c79\",\"#3b2f7f\",\"#3c3285\",\"#3c358b\",\"#3d3791\",\"#3e3a96\",\"#3f3d9c\",\"#4040a1\",\"#4043a6\",\"#4145ab\",\"#4148b0\",\"#424bb5\",\"#434eba\",\"#4350be\",\"#4353c2\",\"#4456c7\",\"#4458cb\",\"#455bce\",\"#455ed2\",\"#4560d6\",\"#4563d9\",\"#4666dd\",\"#4668e0\",\"#466be3\",\"#466de6\",\"#4670e8\",\"#4673eb\",\"#4675ed\",\"#4678f0\",\"#467af2\",\"#467df4\",\"#467ff6\",\"#4682f8\",\"#4584f9\",\"#4587fb\",\"#4589fc\",\"#448cfd\",\"#438efd\",\"#4291fe\",\"#4193fe\",\"#4096fe\",\"#3f98fe\",\"#3e9bfe\",\"#3c9dfd\",\"#3ba0fc\",\"#39a2fc\",\"#38a5fb\",\"#36a8f9\",\"#34aaf8\",\"#33acf6\",\"#31aff5\",\"#2fb1f3\",\"#2db4f1\",\"#2bb6ef\",\"#2ab9ed\",\"#28bbeb\",\"#26bde9\",\"#25c0e6\",\"#23c2e4\",\"#21c4e1\",\"#20c6df\",\"#1ec9dc\",\"#1dcbda\",\"#1ccdd7\",\"#1bcfd4\",\"#1ad1d2\",\"#19d3cf\",\"#18d5cc\",\"#18d7ca\",\"#17d9c7\",\"#17dac4\",\"#17dcc2\",\"#17debf\",\"#18e0bd\",\"#18e1ba\",\"#19e3b8\",\"#1ae4b6\",\"#1be5b4\",\"#1de7b1\",\"#1ee8af\",\"#20e9ac\",\"#22eba9\",\"#24eca6\",\"#27eda3\",\"#29eea0\",\"#2cef9d\",\"#2ff09a\",\"#32f197\",\"#35f394\",\"#38f491\",\"#3bf48d\",\"#3ff58a\",\"#42f687\",\"#46f783\",\"#4af880\",\"#4df97c\",\"#51f979\",\"#55fa76\",\"#59fb72\",\"#5dfb6f\",\"#61fc6c\",\"#65fc68\",\"#69fd65\",\"#6dfd62\",\"#71fd5f\",\"#74fe5c\",\"#78fe59\",\"#7cfe56\",\"#80fe53\",\"#84fe50\",\"#87fe4d\",\"#8bfe4b\",\"#8efe48\",\"#92fe46\",\"#95fe44\",\"#98fe42\",\"#9bfd40\",\"#9efd3e\",\"#a1fc3d\",\"#a4fc3b\",\"#a6fb3a\",\"#a9fb39\",\"#acfa37\",\"#aef937\",\"#b1f836\",\"#b3f835\",\"#b6f735\",\"#b9f534\",\"#bbf434\",\"#bef334\",\"#c0f233\",\"#c3f133\",\"#c5ef33\",\"#c8ee33\",\"#caed33\",\"#cdeb34\",\"#cfea34\",\"#d1e834\",\"#d4e735\",\"#d6e535\",\"#d8e335\",\"#dae236\",\"#dde036\",\"#dfde36\",\"#e1dc37\",\"#e3da37\",\"#e5d838\",\"#e7d738\",\"#e8d538\",\"#ead339\",\"#ecd139\",\"#edcf39\",\"#efcd39\",\"#f0cb3a\",\"#f2c83a\",\"#f3c63a\",\"#f4c43a\",\"#f6c23a\",\"#f7c039\",\"#f8be39\",\"#f9bc39\",\"#f9ba38\",\"#fab737\",\"#fbb537\",\"#fbb336\",\"#fcb035\",\"#fcae34\",\"#fdab33\",\"#fda932\",\"#fda631\",\"#fda330\",\"#fea12f\",\"#fe9e2e\",\"#fe9b2d\",\"#fe982c\",\"#fd952b\",\"#fd9229\",\"#fd8f28\",\"#fd8c27\",\"#fc8926\",\"#fc8624\",\"#fb8323\",\"#fb8022\",\"#fa7d20\",\"#fa7a1f\",\"#f9771e\",\"#f8741c\",\"#f7711b\",\"#f76e1a\",\"#f66b18\",\"#f56817\",\"#f46516\",\"#f36315\",\"#f26014\",\"#f15d13\",\"#ef5a11\",\"#ee5810\",\"#ed550f\",\"#ec520e\",\"#ea500d\",\"#e94d0d\",\"#e84b0c\",\"#e6490b\",\"#e5460a\",\"#e3440a\",\"#e24209\",\"#e04008\",\"#de3e08\",\"#dd3c07\",\"#db3a07\",\"#d93806\",\"#d73606\",\"#d63405\",\"#d43205\",\"#d23005\",\"#d02f04\",\"#ce2d04\",\"#cb2b03\",\"#c92903\",\"#c72803\",\"#c52602\",\"#c32402\",\"#c02302\",\"#be2102\",\"#bb1f01\",\"#b91e01\",\"#b61c01\",\"#b41b01\",\"#b11901\",\"#ae1801\",\"#ac1601\",\"#a91501\",\"#a61401\",\"#a31201\",\"#a01101\",\"#9d1001\",\"#9a0e01\",\"#970d01\",\"#940c01\",\"#910b01\",\"#8e0a01\",\"#8b0901\",\"#870801\",\"#840701\",\"#810602\",\"#7d0502\",\"#7a0402\"],\"low\":86,\"high\":31}}},\"fill_color\":{\"type\":\"field\",\"field\":\"y\",\"transform\":{\"id\":\"p321759\"}},\"hatch_color\":{\"type\":\"field\",\"field\":\"y\",\"transform\":{\"id\":\"p321759\"}}}},\"nonselection_glyph\":{\"type\":\"object\",\"name\":\"Circle\",\"id\":\"p321860\",\"attributes\":{\"x\":{\"type\":\"field\",\"field\":\"x\"},\"y\":{\"type\":\"field\",\"field\":\"y\"},\"size\":{\"type\":\"value\",\"value\":10},\"line_color\":{\"type\":\"field\",\"field\":\"y\",\"transform\":{\"id\":\"p321759\"}},\"line_alpha\":{\"type\":\"value\",\"value\":0.1},\"fill_color\":{\"type\":\"field\",\"field\":\"y\",\"transform\":{\"id\":\"p321759\"}},\"fill_alpha\":{\"type\":\"value\",\"value\":0.1},\"hatch_color\":{\"type\":\"field\",\"field\":\"y\",\"transform\":{\"id\":\"p321759\"}},\"hatch_alpha\":{\"type\":\"value\",\"value\":0.1}}},\"muted_glyph\":{\"type\":\"object\",\"name\":\"Circle\",\"id\":\"p321861\",\"attributes\":{\"x\":{\"type\":\"field\",\"field\":\"x\"},\"y\":{\"type\":\"field\",\"field\":\"y\"},\"size\":{\"type\":\"value\",\"value\":10},\"line_color\":{\"type\":\"field\",\"field\":\"y\",\"transform\":{\"id\":\"p321759\"}},\"line_alpha\":{\"type\":\"value\",\"value\":0.2},\"fill_color\":{\"type\":\"field\",\"field\":\"y\",\"transform\":{\"id\":\"p321759\"}},\"fill_alpha\":{\"type\":\"value\",\"value\":0.2},\"hatch_color\":{\"type\":\"field\",\"field\":\"y\",\"transform\":{\"id\":\"p321759\"}},\"hatch_alpha\":{\"type\":\"value\",\"value\":0.2}}}}}],\"toolbar\":{\"type\":\"object\",\"name\":\"Toolbar\",\"id\":\"p321766\",\"attributes\":{\"tools\":[{\"type\":\"object\",\"name\":\"PanTool\",\"id\":\"p321828\"},{\"type\":\"object\",\"name\":\"WheelZoomTool\",\"id\":\"p321829\"},{\"type\":\"object\",\"name\":\"BoxZoomTool\",\"id\":\"p321830\",\"attributes\":{\"overlay\":{\"type\":\"object\",\"name\":\"BoxAnnotation\",\"id\":\"p321831\",\"attributes\":{\"syncable\":false,\"level\":\"overlay\",\"visible\":false,\"left_units\":\"canvas\",\"right_units\":\"canvas\",\"bottom_units\":\"canvas\",\"top_units\":\"canvas\",\"line_color\":\"black\",\"line_alpha\":1.0,\"line_width\":2,\"line_dash\":[4,4],\"fill_color\":\"lightgrey\",\"fill_alpha\":0.5}}}},{\"type\":\"object\",\"name\":\"SaveTool\",\"id\":\"p321832\"},{\"type\":\"object\",\"name\":\"ResetTool\",\"id\":\"p321833\"},{\"type\":\"object\",\"name\":\"HelpTool\",\"id\":\"p321834\"},{\"type\":\"object\",\"name\":\"HoverTool\",\"id\":\"p321854\",\"attributes\":{\"renderers\":[{\"id\":\"p321849\"}],\"tooltips\":[[\"x\",\"@x\"],[\"y\",\"@y\"]]}},{\"type\":\"object\",\"name\":\"HoverTool\",\"id\":\"p321866\",\"attributes\":{\"renderers\":[{\"id\":\"p321862\"}],\"tooltips\":[[\"x\",\"@x\"],[\"y\",\"@y\"]]}}]}},\"left\":[{\"type\":\"object\",\"name\":\"LinearAxis\",\"id\":\"p321821\",\"attributes\":{\"ticker\":{\"type\":\"object\",\"name\":\"BasicTicker\",\"id\":\"p321824\",\"attributes\":{\"mantissas\":[1,2,5]}},\"formatter\":{\"type\":\"object\",\"name\":\"BasicTickFormatter\",\"id\":\"p321823\"},\"axis_label\":\"Percentage Change (%)\",\"axis_label_standoff\":10,\"axis_label_text_color\":\"#E0E0E0\",\"axis_label_text_font\":\"Helvetica\",\"axis_label_text_font_size\":\"1.25em\",\"axis_label_text_font_style\":\"normal\",\"major_label_policy\":{\"type\":\"object\",\"name\":\"AllLabels\",\"id\":\"p321822\"},\"major_label_text_color\":\"#E0E0E0\",\"major_label_text_font\":\"Helvetica\",\"major_label_text_font_size\":\"1.025em\",\"axis_line_color\":\"#E0E0E0\",\"axis_line_alpha\":0,\"major_tick_line_color\":\"#E0E0E0\",\"major_tick_line_alpha\":0,\"minor_tick_line_color\":\"#E0E0E0\",\"minor_tick_line_alpha\":0}}],\"below\":[{\"type\":\"object\",\"name\":\"DatetimeAxis\",\"id\":\"p321778\",\"attributes\":{\"ticker\":{\"type\":\"object\",\"name\":\"DatetimeTicker\",\"id\":\"p321781\",\"attributes\":{\"num_minor_ticks\":5,\"tickers\":[{\"type\":\"object\",\"name\":\"AdaptiveTicker\",\"id\":\"p321782\",\"attributes\":{\"num_minor_ticks\":0,\"mantissas\":[1,2,5],\"max_interval\":500.0}},{\"type\":\"object\",\"name\":\"AdaptiveTicker\",\"id\":\"p321783\",\"attributes\":{\"num_minor_ticks\":0,\"base\":60,\"mantissas\":[1,2,5,10,15,20,30],\"min_interval\":1000.0,\"max_interval\":1800000.0}},{\"type\":\"object\",\"name\":\"AdaptiveTicker\",\"id\":\"p321784\",\"attributes\":{\"num_minor_ticks\":0,\"base\":24,\"mantissas\":[1,2,4,6,8,12],\"min_interval\":3600000.0,\"max_interval\":43200000.0}},{\"type\":\"object\",\"name\":\"DaysTicker\",\"id\":\"p321785\",\"attributes\":{\"days\":[1,2,3,4,5,6,7,8,9,10,11,12,13,14,15,16,17,18,19,20,21,22,23,24,25,26,27,28,29,30,31]}},{\"type\":\"object\",\"name\":\"DaysTicker\",\"id\":\"p321786\",\"attributes\":{\"days\":[1,4,7,10,13,16,19,22,25,28]}},{\"type\":\"object\",\"name\":\"DaysTicker\",\"id\":\"p321787\",\"attributes\":{\"days\":[1,8,15,22]}},{\"type\":\"object\",\"name\":\"DaysTicker\",\"id\":\"p321788\",\"attributes\":{\"days\":[1,15]}},{\"type\":\"object\",\"name\":\"MonthsTicker\",\"id\":\"p321789\",\"attributes\":{\"months\":[0,1,2,3,4,5,6,7,8,9,10,11]}},{\"type\":\"object\",\"name\":\"MonthsTicker\",\"id\":\"p321790\",\"attributes\":{\"months\":[0,2,4,6,8,10]}},{\"type\":\"object\",\"name\":\"MonthsTicker\",\"id\":\"p321791\",\"attributes\":{\"months\":[0,4,8]}},{\"type\":\"object\",\"name\":\"MonthsTicker\",\"id\":\"p321792\",\"attributes\":{\"months\":[0,6]}},{\"type\":\"object\",\"name\":\"YearsTicker\",\"id\":\"p321793\"}]}},\"formatter\":{\"type\":\"object\",\"name\":\"DatetimeTickFormatter\",\"id\":\"p321868\",\"attributes\":{\"hours\":\"%H:%M\"}},\"axis_label\":\"Date-Time\",\"axis_label_standoff\":10,\"axis_label_text_color\":\"#E0E0E0\",\"axis_label_text_font\":\"Helvetica\",\"axis_label_text_font_size\":\"1.25em\",\"axis_label_text_font_style\":\"normal\",\"major_label_policy\":{\"type\":\"object\",\"name\":\"AllLabels\",\"id\":\"p321779\"},\"major_label_text_color\":\"#E0E0E0\",\"major_label_text_font\":\"Helvetica\",\"major_label_text_font_size\":\"1.025em\",\"axis_line_color\":\"#E0E0E0\",\"axis_line_alpha\":0,\"major_tick_line_color\":\"#E0E0E0\",\"major_tick_line_alpha\":0,\"minor_tick_line_color\":\"#E0E0E0\",\"minor_tick_line_alpha\":0}}],\"center\":[{\"type\":\"object\",\"name\":\"Grid\",\"id\":\"p321820\",\"attributes\":{\"axis\":{\"id\":\"p321778\"},\"grid_line_color\":\"#E0E0E0\",\"grid_line_alpha\":0.25}},{\"type\":\"object\",\"name\":\"Grid\",\"id\":\"p321827\",\"attributes\":{\"dimension\":1,\"axis\":{\"id\":\"p321821\"},\"grid_line_color\":\"#E0E0E0\",\"grid_line_alpha\":0.25}},{\"type\":\"object\",\"name\":\"Legend\",\"id\":\"p321852\",\"attributes\":{\"location\":\"top_left\",\"title\":\"Lines\",\"border_line_alpha\":0,\"background_fill_color\":\"#20262B\",\"background_fill_alpha\":0.25,\"label_text_color\":\"#E0E0E0\",\"label_text_font\":\"Helvetica\",\"label_text_font_size\":\"1.025em\",\"label_standoff\":8,\"glyph_width\":15,\"spacing\":8,\"items\":[{\"type\":\"object\",\"name\":\"LegendItem\",\"id\":\"p321853\",\"attributes\":{\"label\":{\"type\":\"value\",\"value\":\"Line 1\"},\"renderers\":[{\"id\":\"p321849\"}]}},{\"type\":\"object\",\"name\":\"LegendItem\",\"id\":\"p321865\",\"attributes\":{\"label\":{\"type\":\"value\",\"value\":\"Line 2\"},\"renderers\":[{\"id\":\"p321862\"}]}}]}}],\"background_fill_color\":\"#20262B\",\"border_fill_color\":\"#15191C\"}}],\"callbacks\":{\"type\":\"map\"}}};\n",
       "  const render_items = [{\"docid\":\"6613bb2a-736a-490b-99e5-f59f92f3fee5\",\"roots\":{\"p321760\":\"f16677ef-0472-4888-8a64-4d12f53487b9\"},\"root_ids\":[\"p321760\"]}];\n",
       "  root.Bokeh.embed.embed_items_notebook(docs_json, render_items);\n",
       "  }\n",
       "  if (root.Bokeh !== undefined) {\n",
       "    embed_document(root);\n",
       "  } else {\n",
       "    let attempts = 0;\n",
       "    const timer = setInterval(function(root) {\n",
       "      if (root.Bokeh !== undefined) {\n",
       "        clearInterval(timer);\n",
       "        embed_document(root);\n",
       "      } else {\n",
       "        attempts++;\n",
       "        if (attempts > 100) {\n",
       "          clearInterval(timer);\n",
       "          console.log(\"Bokeh: ERROR: Unable to run BokehJS code because BokehJS library is missing\");\n",
       "        }\n",
       "      }\n",
       "    }, 10, root)\n",
       "  }\n",
       "})(window);"
      ],
      "application/vnd.bokehjs_exec.v0+json": ""
     },
     "metadata": {
      "application/vnd.bokehjs_exec.v0+json": {
       "id": "p321760"
      }
     },
     "output_type": "display_data"
    }
   ],
   "source": [
    "from bokeh.plotting import figure, show, curdoc\n",
    "from bokeh.models import DatetimeTickFormatter, HoverTool\n",
    "from datetime import datetime\n",
    "import random\n",
    "from bokeh.models import ContinuousColorMapper\n",
    "from bokeh.palettes import Viridis256\n",
    "from bokeh.transform import linear_cmap\n",
    "from bokeh.palettes import Turbo256\n",
    "from bokeh.palettes import Category10, Category20, Category20b, Category20c\n",
    "\n",
    "# Dummy data representing different hour-minute values\n",
    "hour_minutes = [(1, 0), (2, 5), (3, 10), (4, 15), (5, 20), (9, 25)]\n",
    "\n",
    "# Create a list of datetime objects from the hour-minute values\n",
    "x_values = [datetime(datetime.now().year, datetime.now().month, datetime.now().day, hour, minute) for hour, minute in hour_minutes]\n",
    "y_1_values = [i for i in range(len(hour_minutes))]\n",
    "y_2_values = [random.randint(0, 100) for _ in range(len(hour_minutes))]\n",
    "\n",
    "mapper = linear_cmap(field_name=\"y\", palette=Turbo256, low=max(y_2_values), high=min(y_2_values))\n",
    "\n",
    "# Create a figure\n",
    "p = figure(\n",
    "    title=\"Dhaka Stock Exchange Live Change\",\n",
    "    x_axis_type=\"datetime\",\n",
    "    sizing_mode=\"scale_both\",\n",
    "    max_width=900,\n",
    "    max_height=300,\n",
    "    width=900,\n",
    "    height=900\n",
    ")\n",
    "\n",
    "p.title.align = \"center\"\n",
    "# Set x-axis and y-axis labels\n",
    "p.xaxis.axis_label = \"Date-Time\"\n",
    "p.yaxis.axis_label = \"Percentage Change (%)\"\n",
    "\n",
    "# Add the line with varying colors based on values\n",
    "p.line(x_values, y_1_values, legend_label=\"Line 1\", line_color='yellow')\n",
    "\n",
    "# Add tooltips for Line 1\n",
    "hover_tool_1 = HoverTool(\n",
    "    tooltips=[('x', '@x'), ('y', '@y')],\n",
    "    renderers=[p.renderers[-1]],\n",
    "    mode='mouse'\n",
    ")\n",
    "p.add_tools(hover_tool_1)\n",
    "\n",
    "# Add the circle scatter plot with continuous color mapping\n",
    "p.circle(x_values, y_2_values, legend_label=\"Line 2\", color=mapper, size=10)\n",
    "\n",
    "# Add tooltips for Line 2\n",
    "hover_tool_2 = HoverTool(\n",
    "    tooltips=[('x', '@x'), ('y', '@y')],\n",
    "    renderers=[p.renderers[-1]],\n",
    "    mode='mouse'\n",
    ")\n",
    "p.add_tools(hover_tool_2)\n",
    "\n",
    "# Customize the x-axis tick labels\n",
    "p.xaxis.formatter = DatetimeTickFormatter(hours=\"%H:%M\")\n",
    "\n",
    "curdoc().theme = 'dark_minimal'\n",
    "\n",
    "p.legend.title = 'Lines'\n",
    "p.legend.location = \"top_left\"  # Options: top_left, top_right, bottom_left, bottom_right, center, center_left, center_right\n",
    "\n",
    "# Show the plot\n",
    "show(p)\n"
   ]
  },
  {
   "cell_type": "code",
   "execution_count": null,
   "id": "cf15cfa4-b142-46e5-8788-aab06a7b7591",
   "metadata": {},
   "outputs": [],
   "source": []
  }
 ],
 "metadata": {
  "kernelspec": {
   "display_name": "Python 3 (ipykernel)",
   "language": "python",
   "name": "python3"
  },
  "language_info": {
   "codemirror_mode": {
    "name": "ipython",
    "version": 3
   },
   "file_extension": ".py",
   "mimetype": "text/x-python",
   "name": "python",
   "nbconvert_exporter": "python",
   "pygments_lexer": "ipython3",
   "version": "3.10.6"
  }
 },
 "nbformat": 4,
 "nbformat_minor": 5
}
