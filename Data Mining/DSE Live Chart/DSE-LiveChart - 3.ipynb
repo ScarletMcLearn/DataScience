{
 "cells": [
  {
   "cell_type": "code",
   "execution_count": 87,
   "id": "cb9f9a2e-3a54-4703-b243-5dabcbddcf1f",
   "metadata": {},
   "outputs": [
    {
     "name": "stderr",
     "output_type": "stream",
     "text": [
      "/tmp/ipykernel_171278/1163964081.py:42: DeprecationWarning: executable_path has been deprecated, please pass in a Service object\n",
      "  d = webdriver.Firefox(executable_path='/media/scarlet/Project/Project Files/PythonEnvs/AutomationEnv/AutoDriver/geckodriver', service_log_path='/media/scarlet/Project/Project Files/geckodriver.log')\n",
      "/tmp/ipykernel_171278/1163964081.py:42: DeprecationWarning: service_log_path has been deprecated, please pass in a Service object\n",
      "  d = webdriver.Firefox(executable_path='/media/scarlet/Project/Project Files/PythonEnvs/AutomationEnv/AutoDriver/geckodriver', service_log_path='/media/scarlet/Project/Project Files/geckodriver.log')\n"
     ]
    }
   ],
   "source": [
    "from colorama import Fore, Style\n",
    "from selenium import webdriver\n",
    "from selenium.webdriver.common.keys import Keys\n",
    "from selenium.webdriver.common.by import By\n",
    "import time, random\n",
    "\n",
    "\n",
    "from tqdm import tqdm\n",
    "\n",
    "import pandas as pd\n",
    "\n",
    "from selenium.webdriver.support.wait import WebDriverWait\n",
    "from selenium.webdriver.support import expected_conditions as EC\n",
    "\n",
    "from bs4 import BeautifulSoup\n",
    "\n",
    "\n",
    "\n",
    "def scroll(d):\n",
    "    SCROLL_PAUSE_TIME = 0.5 \n",
    "    # Get scroll height\n",
    "    last_height = d.execute_script(\"return document.body.scrollHeight\")\n",
    "    while True:\n",
    "        # Scroll down to bottom\n",
    "        d.execute_script(\"window.scrollTo(0, document.body.scrollHeight);\")\n",
    "        # Wait to load page\n",
    "        time.sleep(SCROLL_PAUSE_TIME)\n",
    "        # Calculate new scroll height and compare with last scroll height\n",
    "        new_height = d.execute_script(\"return document.body.scrollHeight\")\n",
    "        if new_height == last_height:\n",
    "            break\n",
    "        last_height = new_height\n",
    "\n",
    "\n",
    "def tqdm_sleep(sec):\n",
    "    for i in tqdm(range(sec)):\n",
    "        time.sleep(1)\n",
    "        \n",
    "        \n",
    "random.seed(time.time())\n",
    "\n",
    "d = webdriver.Firefox(executable_path='/media/scarlet/Project/Project Files/PythonEnvs/AutomationEnv/AutoDriver/geckodriver', service_log_path='/media/scarlet/Project/Project Files/geckodriver.log')\n",
    "\n",
    "\n",
    "\n",
    "d.maximize_window()\n",
    "\n",
    "\n",
    "\n",
    "d.get('https://www.dsebd.org/latest_share_price_scroll_l.php')\n",
    "\n",
    "d.implicitly_wait(7) # 30\n",
    "\n",
    "soup = BeautifulSoup(d.find_elements(By.CLASS_NAME, 'floatThead-wrapper')[0].get_attribute('outerHTML'), 'html.parser')"
   ]
  },
  {
   "cell_type": "code",
   "execution_count": 88,
   "id": "e0e1da36-10de-4508-90ee-d2b15023d31e",
   "metadata": {},
   "outputs": [
    {
     "name": "stdout",
     "output_type": "stream",
     "text": [
      "TRADING CODE\n",
      "LTP*\n",
      "HIGH\n",
      "LOW\n",
      "CLOSEP*\n",
      "YCP*\n",
      "CHANGE\n",
      "TRADE\n",
      "VALUE (mn)\n",
      "VOLUME\n"
     ]
    }
   ],
   "source": [
    "#find_header\n",
    "for i in soup.findAll('th', attrs={\"width\": \"12%\"}):\n",
    "    print(i.text)"
   ]
  },
  {
   "cell_type": "code",
   "execution_count": 200,
   "id": "51e9cd25-12c7-4783-9730-483a7b94f95d",
   "metadata": {},
   "outputs": [
    {
     "name": "stdout",
     "output_type": "stream",
     "text": [
      "0  :  <th width=\"12%\">TRADING CODE</th>\n",
      "1  :  <th width=\"12%\">LTP*</th>\n",
      "2  :  <th width=\"12%\">HIGH</th>\n",
      "3  :  <th width=\"12%\">LOW</th>\n",
      "4  :  <th width=\"12%\">CLOSEP*</th>\n",
      "5  :  <th width=\"12%\">YCP*</th>\n",
      "6  :  <th width=\"12%\">CHANGE</th>\n",
      "7  :  <th width=\"12%\">TRADE</th>\n",
      "8  :  <th width=\"12%\">VALUE (mn)</th>\n",
      "9  :  <th width=\"12%\">VOLUME</th>\n"
     ]
    }
   ],
   "source": [
    "for i in range(len(soup.findAll('th', attrs={\"width\": \"12%\"}))):\n",
    "    print(str(i), ' : ', soup.findAll('th', attrs={\"width\": \"12%\"})[i])\n",
    "    # print(str(i), ' : ', soup.findAll('tr')[394].findAll('td')[i].text)"
   ]
  },
  {
   "cell_type": "code",
   "execution_count": 201,
   "id": "f111490e-7943-466b-8c68-f28906eb9e05",
   "metadata": {},
   "outputs": [
    {
     "name": "stdout",
     "output_type": "stream",
     "text": [
      "0  :  \n",
      "\n",
      "\t\t\t\t\t\t\t\t\t\t\t\t\tZEALBANGLA\t\t\t\t\t\t\t\t\t\t\t\t\n",
      "\n",
      "1  :  121.7\n",
      "2  :  126.2\n",
      "3  :  121.5\n",
      "4  :  122\n",
      "5  :  122.1\n",
      "6  :  -0.4\n",
      "7  :  36\n",
      "8  :  0.492\n",
      "9  :  4,028\n"
     ]
    }
   ],
   "source": [
    "for i in range(1, len(soup.findAll('tr')[394].findAll('td'))):\n",
    "     print(str(i-1), ' : ', soup.findAll('tr')[394].findAll('td')[i].text)"
   ]
  },
  {
   "cell_type": "code",
   "execution_count": 211,
   "id": "9c141eab-4247-4c14-973a-fc9a7caf0c53",
   "metadata": {},
   "outputs": [],
   "source": [
    "import re\n",
    "\n",
    "# string_with_unwanted_chars = \"Hello, @World! 123\"\n",
    "# clean_string = re.sub(r'[^a-zA-Z0-9]', '', string_with_unwanted_chars)\n",
    "# print(clean_string)  # Output: \"Hello World 123\"\n",
    "\n",
    "for i in range(1, len(soup.findAll('tr')[394].findAll('td'))):\n",
    "         if (i%10==0):\n",
    "             # print(i, ' vs 10')\n",
    "             volume = float(soup.findAll('tr')[394].findAll('td')[i].text.replace(',', ''))\n",
    "             # print(str(i), ' : ', soup.findAll('tr')[394].findAll('td'))\n",
    "         elif i%9==0:\n",
    "             # print('Hey')\n",
    "             # print(i, ' vs 9')\n",
    "             value_of_trades = float(soup.findAll('tr')[394].findAll('td')[i].text.replace(',', ''))\n",
    "             # print(str(i), ' : ', soup.findAll('tr')[394].findAll('td')[i].text)\n",
    "         elif (i%8==0):\n",
    "             # print(i, ' vs 8')\n",
    "             number_of_trades = float(soup.findAll('tr')[394].findAll('td')[i].text.replace(',', ''))\n",
    "             # print(str(i), ' : ', soup.findAll('tr')[394].findAll('td')[i].text)\n",
    "         elif (i%7==0):\n",
    "             # print(i, ' vs 7')\n",
    "             percentage_change = float(soup.findAll('tr')[394].findAll('td')[i].text.replace(',', ''))\n",
    "             # print(str(i), ' : ', soup.findAll('tr')[394].findAll('td')[i].text)\n",
    "         elif (i%6==0):\n",
    "             # print(i, ' vs 6')\n",
    "             yesterday_close_price = float(soup.findAll('tr')[394].findAll('td')[i].text.replace(',', ''))\n",
    "             # print(str(i), ' : ', soup.findAll('tr')[394].findAll('td')[i].text)\n",
    "         elif (i%5==0):\n",
    "             # print(i, ' vs 5')\n",
    "             close_price = float(soup.findAll('tr')[394].findAll('td')[i].text.replace(',', ''))\n",
    "             # print(str(i), ' : ', soup.findAll('tr')[394].findAll('td')[i].text)         \n",
    "         \n",
    "         elif (i%4==0):\n",
    "             # print(i, ' vs 4')\n",
    "             last_low = float(soup.findAll('tr')[394].findAll('td')[i].text.replace(',', ''))\n",
    "             # print(i, ' vs 3')\n",
    "             last_high = float(soup.findAll('tr')[394].findAll('td')[i].text.replace(',', ''))\n",
    "         elif (i%3==0):\n",
    "             # print(i, \" vs 2\")\n",
    "             last_trading_price = float(soup.findAll('tr')[394].findAll('td')[i].text.replace(',', ''))\n",
    "         elif (i%2==0):\n",
    "             # print(i, \" vs 2\")\n",
    "             last_trading_price = float(soup.findAll('tr')[394].findAll('td')[i].text.replace(',', ''))\n",
    "         elif (i%1==0):\n",
    "            # print(i, ' vs 1')\n",
    "            # print('tc ', i, ' ', soup.findAll('tr')[394].findAll('td')[i].text)\n",
    "            # print('tc ', i, ' ', re.sub(r'[^a-zA-Z0-9]', '', soup.findAll('tr')[394].findAll('td')[i].text))\n",
    "            trading_code = re.sub(r'[^a-zA-Z0-9]', '', soup.findAll('tr')[394].findAll('td')[i].text)\n",
    "\n",
    "\n",
    "\n",
    "\n",
    "# >TRADING CODE</th>\n",
    "# 1  :  <th width=\"12%\">LTP*</th>\n",
    "# 2  :  <th width=\"12%\">HIGH</th>\n",
    "# 3  :  <th width=\"12%\">LOW</th>\n",
    "# 4  :  <th width=\"12%\">CLOSEP*</th>\n",
    "# 5  :  <th width=\"12%\">YCP*</th>\n",
    "# 6  :  <th width=\"12%\">CHANGE</th>\n",
    "# 7  :  <th width=\"12%\">TRADE</th>\n",
    "# 8  :  <th width=\"12%\">VALUE (mn)</th>\n",
    "# 9  :  <th width=\"12%\">VOLUME</th>\n",
    "\n",
    "         \n",
    "         # elif (i%10==0):\n",
    "         #     print('Hello!')\n",
    "             # volume = soup.findAll('tr')[394].findAll('td')[i].text\n",
    "         #     print(str(i), ' : ', soup.findAll('tr')[394].findAll('td')[i].text)\n",
    "         # time.sleep(60)\n",
    "         # print(str(i), ' : ', soup.findAll('tr')[394].findAll('td')[i].text)\n",
    "         # print('Mod: ', str(i), \" : \", (i%9==0))\n",
    "     "
   ]
  },
  {
   "cell_type": "code",
   "execution_count": 212,
   "id": "918794d9-680e-47b7-9acd-1d15c7a23800",
   "metadata": {},
   "outputs": [
    {
     "data": {
      "text/plain": [
       "'ZEALBANGLA'"
      ]
     },
     "execution_count": 212,
     "metadata": {},
     "output_type": "execute_result"
    }
   ],
   "source": [
    "trading_code"
   ]
  },
  {
   "cell_type": "code",
   "execution_count": 213,
   "id": "0e64f534-f591-4b12-b8b7-b236d827e78c",
   "metadata": {},
   "outputs": [],
   "source": [
    "# '4,208'.replace(',', '')"
   ]
  },
  {
   "cell_type": "code",
   "execution_count": 214,
   "id": "f81e86cf-73bf-4dfb-a51b-1a79dfa9e5db",
   "metadata": {},
   "outputs": [],
   "source": [
    "# soup.findAll('tr')[394].findAll('td')[1].text"
   ]
  },
  {
   "cell_type": "code",
   "execution_count": 215,
   "id": "cb5c42bb-08e4-4d75-95b6-ac5e3644b6ba",
   "metadata": {},
   "outputs": [],
   "source": [
    "# 2%1"
   ]
  },
  {
   "cell_type": "code",
   "execution_count": null,
   "id": "27e4431c-58c8-40f7-8343-5e3fcb05e6e3",
   "metadata": {},
   "outputs": [],
   "source": []
  },
  {
   "cell_type": "code",
   "execution_count": 175,
   "id": "a20e8c02-9d40-4dfb-a377-7af4f43ad4fa",
   "metadata": {},
   "outputs": [
    {
     "data": {
      "text/html": [
       "\n",
       "  <div id=\"d7a70ceb-1bda-4820-97ed-cb3ce05e9f06\" data-root-id=\"p306453\" style=\"display: contents;\"></div>\n"
      ]
     },
     "metadata": {},
     "output_type": "display_data"
    },
    {
     "data": {
      "application/javascript": [
       "(function(root) {\n",
       "  function embed_document(root) {\n",
       "  const docs_json = {\"2da3121e-e47b-4b4e-9b3f-ec713163a2f1\":{\"version\":\"3.1.1\",\"title\":\"Bokeh Application\",\"defs\":[],\"roots\":[{\"type\":\"object\",\"name\":\"Figure\",\"id\":\"p306453\",\"attributes\":{\"width\":900,\"height\":900,\"max_width\":900,\"max_height\":300,\"sizing_mode\":\"scale_both\",\"x_range\":{\"type\":\"object\",\"name\":\"DataRange1d\",\"id\":\"p306454\"},\"y_range\":{\"type\":\"object\",\"name\":\"DataRange1d\",\"id\":\"p306455\"},\"x_scale\":{\"type\":\"object\",\"name\":\"LinearScale\",\"id\":\"p306467\"},\"y_scale\":{\"type\":\"object\",\"name\":\"LinearScale\",\"id\":\"p306469\"},\"title\":{\"type\":\"object\",\"name\":\"Title\",\"id\":\"p306456\",\"attributes\":{\"text\":\"Dhaka Stock Exchange Live Change\",\"text_color\":\"#E0E0E0\",\"text_font\":\"Helvetica\",\"text_font_size\":\"1.15em\",\"align\":\"center\"}},\"outline_line_color\":\"#E0E0E0\",\"outline_line_alpha\":0.25,\"renderers\":[{\"type\":\"object\",\"name\":\"GlyphRenderer\",\"id\":\"p306542\",\"attributes\":{\"data_source\":{\"type\":\"object\",\"name\":\"ColumnDataSource\",\"id\":\"p306536\",\"attributes\":{\"selected\":{\"type\":\"object\",\"name\":\"Selection\",\"id\":\"p306538\",\"attributes\":{\"indices\":[],\"line_indices\":[]}},\"selection_policy\":{\"type\":\"object\",\"name\":\"UnionRenderers\",\"id\":\"p306537\"},\"data\":{\"type\":\"map\",\"entries\":[[\"x\",[1684458000000.0,1684461900000.0,1684465800000.0,1684469700000.0,1684473600000.0,1684488300000.0]],[\"y\",[0,1,2,3,4,5]]]}}},\"view\":{\"type\":\"object\",\"name\":\"CDSView\",\"id\":\"p306543\",\"attributes\":{\"filter\":{\"type\":\"object\",\"name\":\"AllIndices\",\"id\":\"p306544\"}}},\"glyph\":{\"type\":\"object\",\"name\":\"Circle\",\"id\":\"p306539\",\"attributes\":{\"x\":{\"type\":\"field\",\"field\":\"x\"},\"y\":{\"type\":\"field\",\"field\":\"y\"},\"line_color\":{\"type\":\"value\",\"value\":\"pink\"},\"fill_color\":{\"type\":\"value\",\"value\":\"#1f77b4\"}}},\"nonselection_glyph\":{\"type\":\"object\",\"name\":\"Circle\",\"id\":\"p306540\",\"attributes\":{\"x\":{\"type\":\"field\",\"field\":\"x\"},\"y\":{\"type\":\"field\",\"field\":\"y\"},\"line_color\":{\"type\":\"value\",\"value\":\"pink\"},\"line_alpha\":{\"type\":\"value\",\"value\":0.1},\"fill_color\":{\"type\":\"value\",\"value\":\"#1f77b4\"},\"fill_alpha\":{\"type\":\"value\",\"value\":0.1},\"hatch_alpha\":{\"type\":\"value\",\"value\":0.1}}},\"muted_glyph\":{\"type\":\"object\",\"name\":\"Circle\",\"id\":\"p306541\",\"attributes\":{\"x\":{\"type\":\"field\",\"field\":\"x\"},\"y\":{\"type\":\"field\",\"field\":\"y\"},\"line_color\":{\"type\":\"value\",\"value\":\"pink\"},\"line_alpha\":{\"type\":\"value\",\"value\":0.2},\"fill_color\":{\"type\":\"value\",\"value\":\"#1f77b4\"},\"fill_alpha\":{\"type\":\"value\",\"value\":0.2},\"hatch_alpha\":{\"type\":\"value\",\"value\":0.2}}}}},{\"type\":\"object\",\"name\":\"GlyphRenderer\",\"id\":\"p306554\",\"attributes\":{\"data_source\":{\"type\":\"object\",\"name\":\"ColumnDataSource\",\"id\":\"p306548\",\"attributes\":{\"selected\":{\"type\":\"object\",\"name\":\"Selection\",\"id\":\"p306550\",\"attributes\":{\"indices\":[],\"line_indices\":[]}},\"selection_policy\":{\"type\":\"object\",\"name\":\"UnionRenderers\",\"id\":\"p306549\"},\"data\":{\"type\":\"map\",\"entries\":[[\"x\",[1684458000000.0,1684461900000.0,1684465800000.0,1684469700000.0,1684473600000.0,1684488300000.0]],[\"y\",[0,1,2,3,4,5]]]}}},\"view\":{\"type\":\"object\",\"name\":\"CDSView\",\"id\":\"p306555\",\"attributes\":{\"filter\":{\"type\":\"object\",\"name\":\"AllIndices\",\"id\":\"p306556\"}}},\"glyph\":{\"type\":\"object\",\"name\":\"Line\",\"id\":\"p306551\",\"attributes\":{\"x\":{\"type\":\"field\",\"field\":\"x\"},\"y\":{\"type\":\"field\",\"field\":\"y\"},\"line_color\":\"yellow\"}},\"nonselection_glyph\":{\"type\":\"object\",\"name\":\"Line\",\"id\":\"p306552\",\"attributes\":{\"x\":{\"type\":\"field\",\"field\":\"x\"},\"y\":{\"type\":\"field\",\"field\":\"y\"},\"line_color\":\"yellow\",\"line_alpha\":0.1}},\"muted_glyph\":{\"type\":\"object\",\"name\":\"Line\",\"id\":\"p306553\",\"attributes\":{\"x\":{\"type\":\"field\",\"field\":\"x\"},\"y\":{\"type\":\"field\",\"field\":\"y\"},\"line_color\":\"yellow\",\"line_alpha\":0.2}}}},{\"type\":\"object\",\"name\":\"GlyphRenderer\",\"id\":\"p306563\",\"attributes\":{\"data_source\":{\"type\":\"object\",\"name\":\"ColumnDataSource\",\"id\":\"p306557\",\"attributes\":{\"selected\":{\"type\":\"object\",\"name\":\"Selection\",\"id\":\"p306559\",\"attributes\":{\"indices\":[],\"line_indices\":[]}},\"selection_policy\":{\"type\":\"object\",\"name\":\"UnionRenderers\",\"id\":\"p306558\"},\"data\":{\"type\":\"map\",\"entries\":[[\"x\",[1684458000000.0,1684461900000.0,1684465800000.0,1684469700000.0,1684473600000.0,1684488300000.0]],[\"y\",[5,29,25,83,100,28]]]}}},\"view\":{\"type\":\"object\",\"name\":\"CDSView\",\"id\":\"p306564\",\"attributes\":{\"filter\":{\"type\":\"object\",\"name\":\"AllIndices\",\"id\":\"p306565\"}}},\"glyph\":{\"type\":\"object\",\"name\":\"Circle\",\"id\":\"p306560\",\"attributes\":{\"x\":{\"type\":\"field\",\"field\":\"x\"},\"y\":{\"type\":\"field\",\"field\":\"y\"},\"size\":{\"type\":\"value\",\"value\":10},\"line_color\":{\"type\":\"field\",\"field\":\"y\",\"transform\":{\"type\":\"object\",\"name\":\"LinearColorMapper\",\"id\":\"p306452\",\"attributes\":{\"palette\":[\"#30123b\",\"#311542\",\"#32184a\",\"#341b51\",\"#351e58\",\"#36215f\",\"#372365\",\"#38266c\",\"#392972\",\"#3a2c79\",\"#3b2f7f\",\"#3c3285\",\"#3c358b\",\"#3d3791\",\"#3e3a96\",\"#3f3d9c\",\"#4040a1\",\"#4043a6\",\"#4145ab\",\"#4148b0\",\"#424bb5\",\"#434eba\",\"#4350be\",\"#4353c2\",\"#4456c7\",\"#4458cb\",\"#455bce\",\"#455ed2\",\"#4560d6\",\"#4563d9\",\"#4666dd\",\"#4668e0\",\"#466be3\",\"#466de6\",\"#4670e8\",\"#4673eb\",\"#4675ed\",\"#4678f0\",\"#467af2\",\"#467df4\",\"#467ff6\",\"#4682f8\",\"#4584f9\",\"#4587fb\",\"#4589fc\",\"#448cfd\",\"#438efd\",\"#4291fe\",\"#4193fe\",\"#4096fe\",\"#3f98fe\",\"#3e9bfe\",\"#3c9dfd\",\"#3ba0fc\",\"#39a2fc\",\"#38a5fb\",\"#36a8f9\",\"#34aaf8\",\"#33acf6\",\"#31aff5\",\"#2fb1f3\",\"#2db4f1\",\"#2bb6ef\",\"#2ab9ed\",\"#28bbeb\",\"#26bde9\",\"#25c0e6\",\"#23c2e4\",\"#21c4e1\",\"#20c6df\",\"#1ec9dc\",\"#1dcbda\",\"#1ccdd7\",\"#1bcfd4\",\"#1ad1d2\",\"#19d3cf\",\"#18d5cc\",\"#18d7ca\",\"#17d9c7\",\"#17dac4\",\"#17dcc2\",\"#17debf\",\"#18e0bd\",\"#18e1ba\",\"#19e3b8\",\"#1ae4b6\",\"#1be5b4\",\"#1de7b1\",\"#1ee8af\",\"#20e9ac\",\"#22eba9\",\"#24eca6\",\"#27eda3\",\"#29eea0\",\"#2cef9d\",\"#2ff09a\",\"#32f197\",\"#35f394\",\"#38f491\",\"#3bf48d\",\"#3ff58a\",\"#42f687\",\"#46f783\",\"#4af880\",\"#4df97c\",\"#51f979\",\"#55fa76\",\"#59fb72\",\"#5dfb6f\",\"#61fc6c\",\"#65fc68\",\"#69fd65\",\"#6dfd62\",\"#71fd5f\",\"#74fe5c\",\"#78fe59\",\"#7cfe56\",\"#80fe53\",\"#84fe50\",\"#87fe4d\",\"#8bfe4b\",\"#8efe48\",\"#92fe46\",\"#95fe44\",\"#98fe42\",\"#9bfd40\",\"#9efd3e\",\"#a1fc3d\",\"#a4fc3b\",\"#a6fb3a\",\"#a9fb39\",\"#acfa37\",\"#aef937\",\"#b1f836\",\"#b3f835\",\"#b6f735\",\"#b9f534\",\"#bbf434\",\"#bef334\",\"#c0f233\",\"#c3f133\",\"#c5ef33\",\"#c8ee33\",\"#caed33\",\"#cdeb34\",\"#cfea34\",\"#d1e834\",\"#d4e735\",\"#d6e535\",\"#d8e335\",\"#dae236\",\"#dde036\",\"#dfde36\",\"#e1dc37\",\"#e3da37\",\"#e5d838\",\"#e7d738\",\"#e8d538\",\"#ead339\",\"#ecd139\",\"#edcf39\",\"#efcd39\",\"#f0cb3a\",\"#f2c83a\",\"#f3c63a\",\"#f4c43a\",\"#f6c23a\",\"#f7c039\",\"#f8be39\",\"#f9bc39\",\"#f9ba38\",\"#fab737\",\"#fbb537\",\"#fbb336\",\"#fcb035\",\"#fcae34\",\"#fdab33\",\"#fda932\",\"#fda631\",\"#fda330\",\"#fea12f\",\"#fe9e2e\",\"#fe9b2d\",\"#fe982c\",\"#fd952b\",\"#fd9229\",\"#fd8f28\",\"#fd8c27\",\"#fc8926\",\"#fc8624\",\"#fb8323\",\"#fb8022\",\"#fa7d20\",\"#fa7a1f\",\"#f9771e\",\"#f8741c\",\"#f7711b\",\"#f76e1a\",\"#f66b18\",\"#f56817\",\"#f46516\",\"#f36315\",\"#f26014\",\"#f15d13\",\"#ef5a11\",\"#ee5810\",\"#ed550f\",\"#ec520e\",\"#ea500d\",\"#e94d0d\",\"#e84b0c\",\"#e6490b\",\"#e5460a\",\"#e3440a\",\"#e24209\",\"#e04008\",\"#de3e08\",\"#dd3c07\",\"#db3a07\",\"#d93806\",\"#d73606\",\"#d63405\",\"#d43205\",\"#d23005\",\"#d02f04\",\"#ce2d04\",\"#cb2b03\",\"#c92903\",\"#c72803\",\"#c52602\",\"#c32402\",\"#c02302\",\"#be2102\",\"#bb1f01\",\"#b91e01\",\"#b61c01\",\"#b41b01\",\"#b11901\",\"#ae1801\",\"#ac1601\",\"#a91501\",\"#a61401\",\"#a31201\",\"#a01101\",\"#9d1001\",\"#9a0e01\",\"#970d01\",\"#940c01\",\"#910b01\",\"#8e0a01\",\"#8b0901\",\"#870801\",\"#840701\",\"#810602\",\"#7d0502\",\"#7a0402\"],\"low\":100,\"high\":5}}},\"fill_color\":{\"type\":\"field\",\"field\":\"y\",\"transform\":{\"id\":\"p306452\"}},\"hatch_color\":{\"type\":\"field\",\"field\":\"y\",\"transform\":{\"id\":\"p306452\"}}}},\"nonselection_glyph\":{\"type\":\"object\",\"name\":\"Circle\",\"id\":\"p306561\",\"attributes\":{\"x\":{\"type\":\"field\",\"field\":\"x\"},\"y\":{\"type\":\"field\",\"field\":\"y\"},\"size\":{\"type\":\"value\",\"value\":10},\"line_color\":{\"type\":\"field\",\"field\":\"y\",\"transform\":{\"id\":\"p306452\"}},\"line_alpha\":{\"type\":\"value\",\"value\":0.1},\"fill_color\":{\"type\":\"field\",\"field\":\"y\",\"transform\":{\"id\":\"p306452\"}},\"fill_alpha\":{\"type\":\"value\",\"value\":0.1},\"hatch_color\":{\"type\":\"field\",\"field\":\"y\",\"transform\":{\"id\":\"p306452\"}},\"hatch_alpha\":{\"type\":\"value\",\"value\":0.1}}},\"muted_glyph\":{\"type\":\"object\",\"name\":\"Circle\",\"id\":\"p306562\",\"attributes\":{\"x\":{\"type\":\"field\",\"field\":\"x\"},\"y\":{\"type\":\"field\",\"field\":\"y\"},\"size\":{\"type\":\"value\",\"value\":10},\"line_color\":{\"type\":\"field\",\"field\":\"y\",\"transform\":{\"id\":\"p306452\"}},\"line_alpha\":{\"type\":\"value\",\"value\":0.2},\"fill_color\":{\"type\":\"field\",\"field\":\"y\",\"transform\":{\"id\":\"p306452\"}},\"fill_alpha\":{\"type\":\"value\",\"value\":0.2},\"hatch_color\":{\"type\":\"field\",\"field\":\"y\",\"transform\":{\"id\":\"p306452\"}},\"hatch_alpha\":{\"type\":\"value\",\"value\":0.2}}}}},{\"type\":\"object\",\"name\":\"GlyphRenderer\",\"id\":\"p306573\",\"attributes\":{\"data_source\":{\"type\":\"object\",\"name\":\"ColumnDataSource\",\"id\":\"p306567\",\"attributes\":{\"selected\":{\"type\":\"object\",\"name\":\"Selection\",\"id\":\"p306569\",\"attributes\":{\"indices\":[],\"line_indices\":[]}},\"selection_policy\":{\"type\":\"object\",\"name\":\"UnionRenderers\",\"id\":\"p306568\"},\"data\":{\"type\":\"map\",\"entries\":[[\"x\",[1684458000000.0,1684461900000.0,1684465800000.0,1684469700000.0,1684473600000.0,1684488300000.0]],[\"y\",[5,29,25,83,100,28]]]}}},\"view\":{\"type\":\"object\",\"name\":\"CDSView\",\"id\":\"p306574\",\"attributes\":{\"filter\":{\"type\":\"object\",\"name\":\"AllIndices\",\"id\":\"p306575\"}}},\"glyph\":{\"type\":\"object\",\"name\":\"Line\",\"id\":\"p306570\",\"attributes\":{\"x\":{\"type\":\"field\",\"field\":\"x\"},\"y\":{\"type\":\"field\",\"field\":\"y\"},\"line_color\":\"orange\"}},\"nonselection_glyph\":{\"type\":\"object\",\"name\":\"Line\",\"id\":\"p306571\",\"attributes\":{\"x\":{\"type\":\"field\",\"field\":\"x\"},\"y\":{\"type\":\"field\",\"field\":\"y\"},\"line_color\":\"orange\",\"line_alpha\":0.1}},\"muted_glyph\":{\"type\":\"object\",\"name\":\"Line\",\"id\":\"p306572\",\"attributes\":{\"x\":{\"type\":\"field\",\"field\":\"x\"},\"y\":{\"type\":\"field\",\"field\":\"y\"},\"line_color\":\"orange\",\"line_alpha\":0.2}}}}],\"toolbar\":{\"type\":\"object\",\"name\":\"Toolbar\",\"id\":\"p306459\",\"attributes\":{\"tools\":[{\"type\":\"object\",\"name\":\"PanTool\",\"id\":\"p306521\"},{\"type\":\"object\",\"name\":\"WheelZoomTool\",\"id\":\"p306522\"},{\"type\":\"object\",\"name\":\"BoxZoomTool\",\"id\":\"p306523\",\"attributes\":{\"overlay\":{\"type\":\"object\",\"name\":\"BoxAnnotation\",\"id\":\"p306524\",\"attributes\":{\"syncable\":false,\"level\":\"overlay\",\"visible\":false,\"left_units\":\"canvas\",\"right_units\":\"canvas\",\"bottom_units\":\"canvas\",\"top_units\":\"canvas\",\"line_color\":\"black\",\"line_alpha\":1.0,\"line_width\":2,\"line_dash\":[4,4],\"fill_color\":\"lightgrey\",\"fill_alpha\":0.5}}}},{\"type\":\"object\",\"name\":\"SaveTool\",\"id\":\"p306525\"},{\"type\":\"object\",\"name\":\"ResetTool\",\"id\":\"p306526\"},{\"type\":\"object\",\"name\":\"HelpTool\",\"id\":\"p306527\"}]}},\"left\":[{\"type\":\"object\",\"name\":\"LinearAxis\",\"id\":\"p306514\",\"attributes\":{\"ticker\":{\"type\":\"object\",\"name\":\"BasicTicker\",\"id\":\"p306517\",\"attributes\":{\"mantissas\":[1,2,5]}},\"formatter\":{\"type\":\"object\",\"name\":\"BasicTickFormatter\",\"id\":\"p306516\"},\"axis_label\":\"Percentage Change (%)\",\"axis_label_standoff\":10,\"axis_label_text_color\":\"#E0E0E0\",\"axis_label_text_font\":\"Helvetica\",\"axis_label_text_font_size\":\"1.25em\",\"axis_label_text_font_style\":\"normal\",\"major_label_policy\":{\"type\":\"object\",\"name\":\"AllLabels\",\"id\":\"p306515\"},\"major_label_text_color\":\"#E0E0E0\",\"major_label_text_font\":\"Helvetica\",\"major_label_text_font_size\":\"1.025em\",\"axis_line_color\":\"#E0E0E0\",\"axis_line_alpha\":0,\"major_tick_line_color\":\"#E0E0E0\",\"major_tick_line_alpha\":0,\"minor_tick_line_color\":\"#E0E0E0\",\"minor_tick_line_alpha\":0}}],\"below\":[{\"type\":\"object\",\"name\":\"DatetimeAxis\",\"id\":\"p306471\",\"attributes\":{\"ticker\":{\"type\":\"object\",\"name\":\"DatetimeTicker\",\"id\":\"p306474\",\"attributes\":{\"num_minor_ticks\":5,\"tickers\":[{\"type\":\"object\",\"name\":\"AdaptiveTicker\",\"id\":\"p306475\",\"attributes\":{\"num_minor_ticks\":0,\"mantissas\":[1,2,5],\"max_interval\":500.0}},{\"type\":\"object\",\"name\":\"AdaptiveTicker\",\"id\":\"p306476\",\"attributes\":{\"num_minor_ticks\":0,\"base\":60,\"mantissas\":[1,2,5,10,15,20,30],\"min_interval\":1000.0,\"max_interval\":1800000.0}},{\"type\":\"object\",\"name\":\"AdaptiveTicker\",\"id\":\"p306477\",\"attributes\":{\"num_minor_ticks\":0,\"base\":24,\"mantissas\":[1,2,4,6,8,12],\"min_interval\":3600000.0,\"max_interval\":43200000.0}},{\"type\":\"object\",\"name\":\"DaysTicker\",\"id\":\"p306478\",\"attributes\":{\"days\":[1,2,3,4,5,6,7,8,9,10,11,12,13,14,15,16,17,18,19,20,21,22,23,24,25,26,27,28,29,30,31]}},{\"type\":\"object\",\"name\":\"DaysTicker\",\"id\":\"p306479\",\"attributes\":{\"days\":[1,4,7,10,13,16,19,22,25,28]}},{\"type\":\"object\",\"name\":\"DaysTicker\",\"id\":\"p306480\",\"attributes\":{\"days\":[1,8,15,22]}},{\"type\":\"object\",\"name\":\"DaysTicker\",\"id\":\"p306481\",\"attributes\":{\"days\":[1,15]}},{\"type\":\"object\",\"name\":\"MonthsTicker\",\"id\":\"p306482\",\"attributes\":{\"months\":[0,1,2,3,4,5,6,7,8,9,10,11]}},{\"type\":\"object\",\"name\":\"MonthsTicker\",\"id\":\"p306483\",\"attributes\":{\"months\":[0,2,4,6,8,10]}},{\"type\":\"object\",\"name\":\"MonthsTicker\",\"id\":\"p306484\",\"attributes\":{\"months\":[0,4,8]}},{\"type\":\"object\",\"name\":\"MonthsTicker\",\"id\":\"p306485\",\"attributes\":{\"months\":[0,6]}},{\"type\":\"object\",\"name\":\"YearsTicker\",\"id\":\"p306486\"}]}},\"formatter\":{\"type\":\"object\",\"name\":\"DatetimeTickFormatter\",\"id\":\"p306576\",\"attributes\":{\"hours\":\"%H:%M\"}},\"axis_label\":\"Date-Time\",\"axis_label_standoff\":10,\"axis_label_text_color\":\"#E0E0E0\",\"axis_label_text_font\":\"Helvetica\",\"axis_label_text_font_size\":\"1.25em\",\"axis_label_text_font_style\":\"normal\",\"major_label_policy\":{\"type\":\"object\",\"name\":\"AllLabels\",\"id\":\"p306472\"},\"major_label_text_color\":\"#E0E0E0\",\"major_label_text_font\":\"Helvetica\",\"major_label_text_font_size\":\"1.025em\",\"axis_line_color\":\"#E0E0E0\",\"axis_line_alpha\":0,\"major_tick_line_color\":\"#E0E0E0\",\"major_tick_line_alpha\":0,\"minor_tick_line_color\":\"#E0E0E0\",\"minor_tick_line_alpha\":0}}],\"center\":[{\"type\":\"object\",\"name\":\"Grid\",\"id\":\"p306513\",\"attributes\":{\"axis\":{\"id\":\"p306471\"},\"grid_line_color\":\"#E0E0E0\",\"grid_line_alpha\":0.25}},{\"type\":\"object\",\"name\":\"Grid\",\"id\":\"p306520\",\"attributes\":{\"dimension\":1,\"axis\":{\"id\":\"p306514\"},\"grid_line_color\":\"#E0E0E0\",\"grid_line_alpha\":0.25}},{\"type\":\"object\",\"name\":\"Legend\",\"id\":\"p306545\",\"attributes\":{\"location\":\"top_left\",\"title\":\"Lines\",\"border_line_alpha\":0,\"background_fill_color\":\"#20262B\",\"background_fill_alpha\":0.25,\"label_text_color\":\"#E0E0E0\",\"label_text_font\":\"Helvetica\",\"label_text_font_size\":\"1.025em\",\"label_standoff\":8,\"glyph_width\":15,\"spacing\":8,\"items\":[{\"type\":\"object\",\"name\":\"LegendItem\",\"id\":\"p306546\",\"attributes\":{\"label\":{\"type\":\"value\",\"value\":\"Line 1\"},\"renderers\":[{\"id\":\"p306542\"},{\"id\":\"p306554\"}]}},{\"type\":\"object\",\"name\":\"LegendItem\",\"id\":\"p306566\",\"attributes\":{\"label\":{\"type\":\"value\",\"value\":\"Line 2\"},\"renderers\":[{\"id\":\"p306563\"},{\"id\":\"p306573\"}]}}]}}],\"background_fill_color\":\"#20262B\",\"border_fill_color\":\"#15191C\"}}],\"callbacks\":{\"type\":\"map\"}}};\n",
       "  const render_items = [{\"docid\":\"2da3121e-e47b-4b4e-9b3f-ec713163a2f1\",\"roots\":{\"p306453\":\"d7a70ceb-1bda-4820-97ed-cb3ce05e9f06\"},\"root_ids\":[\"p306453\"]}];\n",
       "  root.Bokeh.embed.embed_items_notebook(docs_json, render_items);\n",
       "  }\n",
       "  if (root.Bokeh !== undefined) {\n",
       "    embed_document(root);\n",
       "  } else {\n",
       "    let attempts = 0;\n",
       "    const timer = setInterval(function(root) {\n",
       "      if (root.Bokeh !== undefined) {\n",
       "        clearInterval(timer);\n",
       "        embed_document(root);\n",
       "      } else {\n",
       "        attempts++;\n",
       "        if (attempts > 100) {\n",
       "          clearInterval(timer);\n",
       "          console.log(\"Bokeh: ERROR: Unable to run BokehJS code because BokehJS library is missing\");\n",
       "        }\n",
       "      }\n",
       "    }, 10, root)\n",
       "  }\n",
       "})(window);"
      ],
      "application/vnd.bokehjs_exec.v0+json": ""
     },
     "metadata": {
      "application/vnd.bokehjs_exec.v0+json": {
       "id": "p306453"
      }
     },
     "output_type": "display_data"
    }
   ],
   "source": [
    "from bokeh.plotting import figure, show, curdoc\n",
    "from bokeh.models import DatetimeTickFormatter\n",
    "from datetime import datetime\n",
    "import random\n",
    "from bokeh.models import ContinuousColorMapper\n",
    "from bokeh.palettes import Viridis256\n",
    "from bokeh.transform import linear_cmap\n",
    "from bokeh.palettes import Turbo256\n",
    "from bokeh.palettes import Category10, Category20, Category20b, Category20c\n",
    "\n",
    "\n",
    "\n",
    "\n",
    "# Dummy data representing different hour-minute values\n",
    "hour_minutes = [(1, 0), (2, 5), (3, 10), (4, 15), (5, 20), (9, 25)]\n",
    "\n",
    "# Create a list of datetime objects from the hour-minute values\n",
    "x_values = [datetime(datetime.now().year, datetime.now().month, datetime.now().day, hour, minute) for hour, minute in hour_minutes]\n",
    "y_1_values = [i for i in range(len(hour_minutes))]\n",
    "y_2_values = [random.randint(0, 100) for _ in range(len(hour_minutes))]\n",
    "\n",
    "mapper = linear_cmap(field_name=\"y\", palette=Turbo256, low=max(y_2_values), high=min(y_2_values))\n",
    "\n",
    "# Create a figure\n",
    "# p = figure(x_axis_type=\"datetime\")\n",
    "\n",
    "# create figure\n",
    "p = figure(\n",
    "    title=\"Dhaka Stock Exchange Live Change\",\n",
    "    x_axis_type=\"datetime\",\n",
    "    sizing_mode=\"scale_both\",\n",
    "\n",
    "    # Comment the width heights later\n",
    "    max_width=900,\n",
    "    max_height = 300,\n",
    "    width=900,\n",
    "    height=900\n",
    "    \n",
    ")\n",
    "\n",
    "p.title.align = \"center\"\n",
    "# Set x-axis and y-axis labels\n",
    "p.xaxis.axis_label = \"Date-Time\"\n",
    "p.yaxis.axis_label = \"Percentage Change (%)\"\n",
    "\n",
    "\n",
    "\n",
    "p.circle(x_values, y_1_values, legend_label=\"Line 1\", line_color=\n",
    "         'pink'\n",
    "        )\n",
    "\n",
    "\n",
    "# Define the color mapping based on y_1_values\n",
    "colors = Turbo256\n",
    "color_mapper = LinearColorMapper(palette=Viridis256, low=min(y_1_values), high=max(y_1_values))\n",
    "\n",
    "\n",
    "# Add the line with varying colors based on values\n",
    "p.line(x_values, y_1_values, legend_label=\"Line 1\", \n",
    "       line_color=\n",
    "       'yellow'\n",
    "      )\n",
    "\n",
    "\n",
    "p.circle(x_values, y_2_values, legend_label=\"Line 2\", \n",
    "        color=mapper, size=10\n",
    "        )\n",
    "\n",
    "p.line(x_values, y_2_values, legend_label=\"Line 2\",\n",
    "      line_color=\n",
    "       'orange'\n",
    "\n",
    "      )\n",
    "\n",
    "\n",
    "\n",
    "# Customize the x-axis tick labels\n",
    "p.xaxis.formatter = DatetimeTickFormatter(hours=\"%H:%M\")\n",
    "\n",
    "curdoc().theme = 'dark_minimal'\n",
    "\n",
    "p.legend.title = 'Lines'\n",
    "p.legend.location = \"top_left\"  # Options: top_left, top_right, bottom_left, bottom_right, center, center_left, center_right\n",
    "\n",
    "\n",
    "\n",
    "# Show the plot\n",
    "show(p)\n"
   ]
  },
  {
   "cell_type": "code",
   "execution_count": 178,
   "id": "02a1a187-fef6-4906-9dd0-0838c7d3506d",
   "metadata": {},
   "outputs": [],
   "source": [
    "# dir(p.circle())"
   ]
  },
  {
   "cell_type": "code",
   "execution_count": 183,
   "id": "9a0702a7-cb5c-4cc4-a73f-13ec16b01ee7",
   "metadata": {},
   "outputs": [
    {
     "data": {
      "text/html": [
       "\n",
       "  <div id=\"b2e3596c-d0c8-4512-a22c-70584d2c607e\" data-root-id=\"p344032\" style=\"display: contents;\"></div>\n"
      ]
     },
     "metadata": {},
     "output_type": "display_data"
    },
    {
     "data": {
      "application/javascript": [
       "(function(root) {\n",
       "  function embed_document(root) {\n",
       "  const docs_json = {\"21f9fc28-7716-42a1-9ed9-3c3faa922321\":{\"version\":\"3.1.1\",\"title\":\"Bokeh Application\",\"defs\":[],\"roots\":[{\"type\":\"object\",\"name\":\"Figure\",\"id\":\"p344032\",\"attributes\":{\"width\":900,\"height\":900,\"max_width\":900,\"max_height\":300,\"sizing_mode\":\"scale_both\",\"x_range\":{\"type\":\"object\",\"name\":\"DataRange1d\",\"id\":\"p344033\"},\"y_range\":{\"type\":\"object\",\"name\":\"DataRange1d\",\"id\":\"p344034\"},\"x_scale\":{\"type\":\"object\",\"name\":\"LinearScale\",\"id\":\"p344046\"},\"y_scale\":{\"type\":\"object\",\"name\":\"LinearScale\",\"id\":\"p344048\"},\"title\":{\"type\":\"object\",\"name\":\"Title\",\"id\":\"p344035\",\"attributes\":{\"text\":\"Dhaka Stock Exchange Live Change\",\"text_color\":\"#E0E0E0\",\"text_font\":\"Helvetica\",\"text_font_size\":\"1.15em\",\"align\":\"center\"}},\"outline_line_color\":\"#E0E0E0\",\"outline_line_alpha\":0.25,\"renderers\":[{\"type\":\"object\",\"name\":\"GlyphRenderer\",\"id\":\"p344121\",\"attributes\":{\"data_source\":{\"type\":\"object\",\"name\":\"ColumnDataSource\",\"id\":\"p344115\",\"attributes\":{\"selected\":{\"type\":\"object\",\"name\":\"Selection\",\"id\":\"p344117\",\"attributes\":{\"indices\":[],\"line_indices\":[]}},\"selection_policy\":{\"type\":\"object\",\"name\":\"UnionRenderers\",\"id\":\"p344116\"},\"data\":{\"type\":\"map\",\"entries\":[[\"x\",[1684458000000.0,1684461900000.0,1684465800000.0,1684469700000.0,1684473600000.0,1684488300000.0]],[\"y\",[0,1,2,3,4,5]]]}}},\"view\":{\"type\":\"object\",\"name\":\"CDSView\",\"id\":\"p344122\",\"attributes\":{\"filter\":{\"type\":\"object\",\"name\":\"AllIndices\",\"id\":\"p344123\"}}},\"glyph\":{\"type\":\"object\",\"name\":\"Circle\",\"id\":\"p344118\",\"attributes\":{\"x\":{\"type\":\"field\",\"field\":\"x\"},\"y\":{\"type\":\"field\",\"field\":\"y\"},\"line_color\":{\"type\":\"value\",\"value\":\"pink\"},\"fill_color\":{\"type\":\"value\",\"value\":\"#1f77b4\"}}},\"nonselection_glyph\":{\"type\":\"object\",\"name\":\"Circle\",\"id\":\"p344119\",\"attributes\":{\"x\":{\"type\":\"field\",\"field\":\"x\"},\"y\":{\"type\":\"field\",\"field\":\"y\"},\"line_color\":{\"type\":\"value\",\"value\":\"pink\"},\"line_alpha\":{\"type\":\"value\",\"value\":0.1},\"fill_color\":{\"type\":\"value\",\"value\":\"#1f77b4\"},\"fill_alpha\":{\"type\":\"value\",\"value\":0.1},\"hatch_alpha\":{\"type\":\"value\",\"value\":0.1}}},\"muted_glyph\":{\"type\":\"object\",\"name\":\"Circle\",\"id\":\"p344120\",\"attributes\":{\"x\":{\"type\":\"field\",\"field\":\"x\"},\"y\":{\"type\":\"field\",\"field\":\"y\"},\"line_color\":{\"type\":\"value\",\"value\":\"pink\"},\"line_alpha\":{\"type\":\"value\",\"value\":0.2},\"fill_color\":{\"type\":\"value\",\"value\":\"#1f77b4\"},\"fill_alpha\":{\"type\":\"value\",\"value\":0.2},\"hatch_alpha\":{\"type\":\"value\",\"value\":0.2}}}}},{\"type\":\"object\",\"name\":\"GlyphRenderer\",\"id\":\"p344133\",\"attributes\":{\"data_source\":{\"type\":\"object\",\"name\":\"ColumnDataSource\",\"id\":\"p344127\",\"attributes\":{\"selected\":{\"type\":\"object\",\"name\":\"Selection\",\"id\":\"p344129\",\"attributes\":{\"indices\":[],\"line_indices\":[]}},\"selection_policy\":{\"type\":\"object\",\"name\":\"UnionRenderers\",\"id\":\"p344128\"},\"data\":{\"type\":\"map\",\"entries\":[[\"x\",[1684458000000.0,1684461900000.0,1684465800000.0,1684469700000.0,1684473600000.0,1684488300000.0]],[\"y\",[0,1,2,3,4,5]]]}}},\"view\":{\"type\":\"object\",\"name\":\"CDSView\",\"id\":\"p344134\",\"attributes\":{\"filter\":{\"type\":\"object\",\"name\":\"AllIndices\",\"id\":\"p344135\"}}},\"glyph\":{\"type\":\"object\",\"name\":\"Line\",\"id\":\"p344130\",\"attributes\":{\"x\":{\"type\":\"field\",\"field\":\"x\"},\"y\":{\"type\":\"field\",\"field\":\"y\"},\"line_color\":\"yellow\"}},\"nonselection_glyph\":{\"type\":\"object\",\"name\":\"Line\",\"id\":\"p344131\",\"attributes\":{\"x\":{\"type\":\"field\",\"field\":\"x\"},\"y\":{\"type\":\"field\",\"field\":\"y\"},\"line_color\":\"yellow\",\"line_alpha\":0.1}},\"muted_glyph\":{\"type\":\"object\",\"name\":\"Line\",\"id\":\"p344132\",\"attributes\":{\"x\":{\"type\":\"field\",\"field\":\"x\"},\"y\":{\"type\":\"field\",\"field\":\"y\"},\"line_color\":\"yellow\",\"line_alpha\":0.2}}}},{\"type\":\"object\",\"name\":\"GlyphRenderer\",\"id\":\"p344142\",\"attributes\":{\"data_source\":{\"type\":\"object\",\"name\":\"ColumnDataSource\",\"id\":\"p344136\",\"attributes\":{\"selected\":{\"type\":\"object\",\"name\":\"Selection\",\"id\":\"p344138\",\"attributes\":{\"indices\":[],\"line_indices\":[]}},\"selection_policy\":{\"type\":\"object\",\"name\":\"UnionRenderers\",\"id\":\"p344137\"},\"data\":{\"type\":\"map\",\"entries\":[[\"x\",[1684458000000.0,1684461900000.0,1684465800000.0,1684469700000.0,1684473600000.0,1684488300000.0]],[\"y\",[84,69,97,18,3,86]]]}}},\"view\":{\"type\":\"object\",\"name\":\"CDSView\",\"id\":\"p344143\",\"attributes\":{\"filter\":{\"type\":\"object\",\"name\":\"AllIndices\",\"id\":\"p344144\"}}},\"glyph\":{\"type\":\"object\",\"name\":\"Circle\",\"id\":\"p344139\",\"attributes\":{\"x\":{\"type\":\"field\",\"field\":\"x\"},\"y\":{\"type\":\"field\",\"field\":\"y\"},\"size\":{\"type\":\"value\",\"value\":10},\"line_color\":{\"type\":\"field\",\"field\":\"y\",\"transform\":{\"type\":\"object\",\"name\":\"LinearColorMapper\",\"id\":\"p344031\",\"attributes\":{\"palette\":[\"#30123b\",\"#311542\",\"#32184a\",\"#341b51\",\"#351e58\",\"#36215f\",\"#372365\",\"#38266c\",\"#392972\",\"#3a2c79\",\"#3b2f7f\",\"#3c3285\",\"#3c358b\",\"#3d3791\",\"#3e3a96\",\"#3f3d9c\",\"#4040a1\",\"#4043a6\",\"#4145ab\",\"#4148b0\",\"#424bb5\",\"#434eba\",\"#4350be\",\"#4353c2\",\"#4456c7\",\"#4458cb\",\"#455bce\",\"#455ed2\",\"#4560d6\",\"#4563d9\",\"#4666dd\",\"#4668e0\",\"#466be3\",\"#466de6\",\"#4670e8\",\"#4673eb\",\"#4675ed\",\"#4678f0\",\"#467af2\",\"#467df4\",\"#467ff6\",\"#4682f8\",\"#4584f9\",\"#4587fb\",\"#4589fc\",\"#448cfd\",\"#438efd\",\"#4291fe\",\"#4193fe\",\"#4096fe\",\"#3f98fe\",\"#3e9bfe\",\"#3c9dfd\",\"#3ba0fc\",\"#39a2fc\",\"#38a5fb\",\"#36a8f9\",\"#34aaf8\",\"#33acf6\",\"#31aff5\",\"#2fb1f3\",\"#2db4f1\",\"#2bb6ef\",\"#2ab9ed\",\"#28bbeb\",\"#26bde9\",\"#25c0e6\",\"#23c2e4\",\"#21c4e1\",\"#20c6df\",\"#1ec9dc\",\"#1dcbda\",\"#1ccdd7\",\"#1bcfd4\",\"#1ad1d2\",\"#19d3cf\",\"#18d5cc\",\"#18d7ca\",\"#17d9c7\",\"#17dac4\",\"#17dcc2\",\"#17debf\",\"#18e0bd\",\"#18e1ba\",\"#19e3b8\",\"#1ae4b6\",\"#1be5b4\",\"#1de7b1\",\"#1ee8af\",\"#20e9ac\",\"#22eba9\",\"#24eca6\",\"#27eda3\",\"#29eea0\",\"#2cef9d\",\"#2ff09a\",\"#32f197\",\"#35f394\",\"#38f491\",\"#3bf48d\",\"#3ff58a\",\"#42f687\",\"#46f783\",\"#4af880\",\"#4df97c\",\"#51f979\",\"#55fa76\",\"#59fb72\",\"#5dfb6f\",\"#61fc6c\",\"#65fc68\",\"#69fd65\",\"#6dfd62\",\"#71fd5f\",\"#74fe5c\",\"#78fe59\",\"#7cfe56\",\"#80fe53\",\"#84fe50\",\"#87fe4d\",\"#8bfe4b\",\"#8efe48\",\"#92fe46\",\"#95fe44\",\"#98fe42\",\"#9bfd40\",\"#9efd3e\",\"#a1fc3d\",\"#a4fc3b\",\"#a6fb3a\",\"#a9fb39\",\"#acfa37\",\"#aef937\",\"#b1f836\",\"#b3f835\",\"#b6f735\",\"#b9f534\",\"#bbf434\",\"#bef334\",\"#c0f233\",\"#c3f133\",\"#c5ef33\",\"#c8ee33\",\"#caed33\",\"#cdeb34\",\"#cfea34\",\"#d1e834\",\"#d4e735\",\"#d6e535\",\"#d8e335\",\"#dae236\",\"#dde036\",\"#dfde36\",\"#e1dc37\",\"#e3da37\",\"#e5d838\",\"#e7d738\",\"#e8d538\",\"#ead339\",\"#ecd139\",\"#edcf39\",\"#efcd39\",\"#f0cb3a\",\"#f2c83a\",\"#f3c63a\",\"#f4c43a\",\"#f6c23a\",\"#f7c039\",\"#f8be39\",\"#f9bc39\",\"#f9ba38\",\"#fab737\",\"#fbb537\",\"#fbb336\",\"#fcb035\",\"#fcae34\",\"#fdab33\",\"#fda932\",\"#fda631\",\"#fda330\",\"#fea12f\",\"#fe9e2e\",\"#fe9b2d\",\"#fe982c\",\"#fd952b\",\"#fd9229\",\"#fd8f28\",\"#fd8c27\",\"#fc8926\",\"#fc8624\",\"#fb8323\",\"#fb8022\",\"#fa7d20\",\"#fa7a1f\",\"#f9771e\",\"#f8741c\",\"#f7711b\",\"#f76e1a\",\"#f66b18\",\"#f56817\",\"#f46516\",\"#f36315\",\"#f26014\",\"#f15d13\",\"#ef5a11\",\"#ee5810\",\"#ed550f\",\"#ec520e\",\"#ea500d\",\"#e94d0d\",\"#e84b0c\",\"#e6490b\",\"#e5460a\",\"#e3440a\",\"#e24209\",\"#e04008\",\"#de3e08\",\"#dd3c07\",\"#db3a07\",\"#d93806\",\"#d73606\",\"#d63405\",\"#d43205\",\"#d23005\",\"#d02f04\",\"#ce2d04\",\"#cb2b03\",\"#c92903\",\"#c72803\",\"#c52602\",\"#c32402\",\"#c02302\",\"#be2102\",\"#bb1f01\",\"#b91e01\",\"#b61c01\",\"#b41b01\",\"#b11901\",\"#ae1801\",\"#ac1601\",\"#a91501\",\"#a61401\",\"#a31201\",\"#a01101\",\"#9d1001\",\"#9a0e01\",\"#970d01\",\"#940c01\",\"#910b01\",\"#8e0a01\",\"#8b0901\",\"#870801\",\"#840701\",\"#810602\",\"#7d0502\",\"#7a0402\"],\"low\":97,\"high\":3}}},\"fill_color\":{\"type\":\"field\",\"field\":\"y\",\"transform\":{\"id\":\"p344031\"}},\"hatch_color\":{\"type\":\"field\",\"field\":\"y\",\"transform\":{\"id\":\"p344031\"}}}},\"nonselection_glyph\":{\"type\":\"object\",\"name\":\"Circle\",\"id\":\"p344140\",\"attributes\":{\"x\":{\"type\":\"field\",\"field\":\"x\"},\"y\":{\"type\":\"field\",\"field\":\"y\"},\"size\":{\"type\":\"value\",\"value\":10},\"line_color\":{\"type\":\"field\",\"field\":\"y\",\"transform\":{\"id\":\"p344031\"}},\"line_alpha\":{\"type\":\"value\",\"value\":0.1},\"fill_color\":{\"type\":\"field\",\"field\":\"y\",\"transform\":{\"id\":\"p344031\"}},\"fill_alpha\":{\"type\":\"value\",\"value\":0.1},\"hatch_color\":{\"type\":\"field\",\"field\":\"y\",\"transform\":{\"id\":\"p344031\"}},\"hatch_alpha\":{\"type\":\"value\",\"value\":0.1}}},\"muted_glyph\":{\"type\":\"object\",\"name\":\"Circle\",\"id\":\"p344141\",\"attributes\":{\"x\":{\"type\":\"field\",\"field\":\"x\"},\"y\":{\"type\":\"field\",\"field\":\"y\"},\"size\":{\"type\":\"value\",\"value\":10},\"line_color\":{\"type\":\"field\",\"field\":\"y\",\"transform\":{\"id\":\"p344031\"}},\"line_alpha\":{\"type\":\"value\",\"value\":0.2},\"fill_color\":{\"type\":\"field\",\"field\":\"y\",\"transform\":{\"id\":\"p344031\"}},\"fill_alpha\":{\"type\":\"value\",\"value\":0.2},\"hatch_color\":{\"type\":\"field\",\"field\":\"y\",\"transform\":{\"id\":\"p344031\"}},\"hatch_alpha\":{\"type\":\"value\",\"value\":0.2}}}}},{\"type\":\"object\",\"name\":\"GlyphRenderer\",\"id\":\"p344152\",\"attributes\":{\"data_source\":{\"type\":\"object\",\"name\":\"ColumnDataSource\",\"id\":\"p344146\",\"attributes\":{\"selected\":{\"type\":\"object\",\"name\":\"Selection\",\"id\":\"p344148\",\"attributes\":{\"indices\":[],\"line_indices\":[]}},\"selection_policy\":{\"type\":\"object\",\"name\":\"UnionRenderers\",\"id\":\"p344147\"},\"data\":{\"type\":\"map\",\"entries\":[[\"x\",[1684458000000.0,1684461900000.0,1684465800000.0,1684469700000.0,1684473600000.0,1684488300000.0]],[\"y\",[84,69,97,18,3,86]]]}}},\"view\":{\"type\":\"object\",\"name\":\"CDSView\",\"id\":\"p344153\",\"attributes\":{\"filter\":{\"type\":\"object\",\"name\":\"AllIndices\",\"id\":\"p344154\"}}},\"glyph\":{\"type\":\"object\",\"name\":\"Line\",\"id\":\"p344149\",\"attributes\":{\"x\":{\"type\":\"field\",\"field\":\"x\"},\"y\":{\"type\":\"field\",\"field\":\"y\"},\"line_color\":\"orange\"}},\"nonselection_glyph\":{\"type\":\"object\",\"name\":\"Line\",\"id\":\"p344150\",\"attributes\":{\"x\":{\"type\":\"field\",\"field\":\"x\"},\"y\":{\"type\":\"field\",\"field\":\"y\"},\"line_color\":\"orange\",\"line_alpha\":0.1}},\"muted_glyph\":{\"type\":\"object\",\"name\":\"Line\",\"id\":\"p344151\",\"attributes\":{\"x\":{\"type\":\"field\",\"field\":\"x\"},\"y\":{\"type\":\"field\",\"field\":\"y\"},\"line_color\":\"orange\",\"line_alpha\":0.2}}}}],\"toolbar\":{\"type\":\"object\",\"name\":\"Toolbar\",\"id\":\"p344038\",\"attributes\":{\"tools\":[{\"type\":\"object\",\"name\":\"PanTool\",\"id\":\"p344100\"},{\"type\":\"object\",\"name\":\"WheelZoomTool\",\"id\":\"p344101\"},{\"type\":\"object\",\"name\":\"BoxZoomTool\",\"id\":\"p344102\",\"attributes\":{\"overlay\":{\"type\":\"object\",\"name\":\"BoxAnnotation\",\"id\":\"p344103\",\"attributes\":{\"syncable\":false,\"level\":\"overlay\",\"visible\":false,\"left_units\":\"canvas\",\"right_units\":\"canvas\",\"bottom_units\":\"canvas\",\"top_units\":\"canvas\",\"line_color\":\"black\",\"line_alpha\":1.0,\"line_width\":2,\"line_dash\":[4,4],\"fill_color\":\"lightgrey\",\"fill_alpha\":0.5}}}},{\"type\":\"object\",\"name\":\"SaveTool\",\"id\":\"p344104\"},{\"type\":\"object\",\"name\":\"ResetTool\",\"id\":\"p344105\"},{\"type\":\"object\",\"name\":\"HelpTool\",\"id\":\"p344106\"},{\"type\":\"object\",\"name\":\"HoverTool\",\"id\":\"p344157\",\"attributes\":{\"renderers\":[{\"type\":\"object\",\"name\":\"GlyphRenderer\",\"id\":\"p332949\",\"attributes\":{\"data_source\":{\"type\":\"object\",\"name\":\"ColumnDataSource\",\"id\":\"p332943\",\"attributes\":{\"selected\":{\"type\":\"object\",\"name\":\"Selection\",\"id\":\"p332945\",\"attributes\":{\"indices\":[],\"line_indices\":[]}},\"selection_policy\":{\"type\":\"object\",\"name\":\"UnionRenderers\",\"id\":\"p332944\"},\"data\":{\"type\":\"map\",\"entries\":[[\"x\",[1,2,3,4,5]],[\"y\",[2,4,6,8,10]]]}}},\"view\":{\"type\":\"object\",\"name\":\"CDSView\",\"id\":\"p332950\",\"attributes\":{\"filter\":{\"type\":\"object\",\"name\":\"AllIndices\",\"id\":\"p332951\"}}},\"glyph\":{\"type\":\"object\",\"name\":\"Line\",\"id\":\"p332946\",\"attributes\":{\"x\":{\"type\":\"field\",\"field\":\"x\"},\"y\":{\"type\":\"field\",\"field\":\"y\"},\"line_color\":\"red\"}},\"nonselection_glyph\":{\"type\":\"object\",\"name\":\"Line\",\"id\":\"p332947\",\"attributes\":{\"x\":{\"type\":\"field\",\"field\":\"x\"},\"y\":{\"type\":\"field\",\"field\":\"y\"},\"line_color\":\"red\",\"line_alpha\":0.1}},\"muted_glyph\":{\"type\":\"object\",\"name\":\"Line\",\"id\":\"p332948\",\"attributes\":{\"x\":{\"type\":\"field\",\"field\":\"x\"},\"y\":{\"type\":\"field\",\"field\":\"y\"},\"line_color\":\"red\",\"line_alpha\":0.2}}}},{\"type\":\"object\",\"name\":\"GlyphRenderer\",\"id\":\"p332960\",\"attributes\":{\"data_source\":{\"type\":\"object\",\"name\":\"ColumnDataSource\",\"id\":\"p332954\",\"attributes\":{\"selected\":{\"type\":\"object\",\"name\":\"Selection\",\"id\":\"p332956\",\"attributes\":{\"indices\":[],\"line_indices\":[]}},\"selection_policy\":{\"type\":\"object\",\"name\":\"UnionRenderers\",\"id\":\"p332955\"},\"data\":{\"type\":\"map\",\"entries\":[[\"x\",[1,2,3,4,5]],[\"y\",[1,3,5,7,9]]]}}},\"view\":{\"type\":\"object\",\"name\":\"CDSView\",\"id\":\"p332961\",\"attributes\":{\"filter\":{\"type\":\"object\",\"name\":\"AllIndices\",\"id\":\"p332962\"}}},\"glyph\":{\"type\":\"object\",\"name\":\"Line\",\"id\":\"p332957\",\"attributes\":{\"x\":{\"type\":\"field\",\"field\":\"x\"},\"y\":{\"type\":\"field\",\"field\":\"y\"},\"line_color\":\"blue\"}},\"nonselection_glyph\":{\"type\":\"object\",\"name\":\"Line\",\"id\":\"p332958\",\"attributes\":{\"x\":{\"type\":\"field\",\"field\":\"x\"},\"y\":{\"type\":\"field\",\"field\":\"y\"},\"line_color\":\"blue\",\"line_alpha\":0.1}},\"muted_glyph\":{\"type\":\"object\",\"name\":\"Line\",\"id\":\"p332959\",\"attributes\":{\"x\":{\"type\":\"field\",\"field\":\"x\"},\"y\":{\"type\":\"field\",\"field\":\"y\"},\"line_color\":\"blue\",\"line_alpha\":0.2}}}}],\"tooltips\":[[\"x: \",\"$x_values\"],[\"y: \",\"$y_2_values\"]]}}]}},\"left\":[{\"type\":\"object\",\"name\":\"LinearAxis\",\"id\":\"p344093\",\"attributes\":{\"ticker\":{\"type\":\"object\",\"name\":\"BasicTicker\",\"id\":\"p344096\",\"attributes\":{\"mantissas\":[1,2,5]}},\"formatter\":{\"type\":\"object\",\"name\":\"BasicTickFormatter\",\"id\":\"p344095\"},\"axis_label\":\"Percentage Change (%)\",\"axis_label_standoff\":10,\"axis_label_text_color\":\"#E0E0E0\",\"axis_label_text_font\":\"Helvetica\",\"axis_label_text_font_size\":\"1.25em\",\"axis_label_text_font_style\":\"normal\",\"major_label_policy\":{\"type\":\"object\",\"name\":\"AllLabels\",\"id\":\"p344094\"},\"major_label_text_color\":\"#E0E0E0\",\"major_label_text_font\":\"Helvetica\",\"major_label_text_font_size\":\"1.025em\",\"axis_line_color\":\"#E0E0E0\",\"axis_line_alpha\":0,\"major_tick_line_color\":\"#E0E0E0\",\"major_tick_line_alpha\":0,\"minor_tick_line_color\":\"#E0E0E0\",\"minor_tick_line_alpha\":0}}],\"below\":[{\"type\":\"object\",\"name\":\"DatetimeAxis\",\"id\":\"p344050\",\"attributes\":{\"ticker\":{\"type\":\"object\",\"name\":\"DatetimeTicker\",\"id\":\"p344053\",\"attributes\":{\"num_minor_ticks\":5,\"tickers\":[{\"type\":\"object\",\"name\":\"AdaptiveTicker\",\"id\":\"p344054\",\"attributes\":{\"num_minor_ticks\":0,\"mantissas\":[1,2,5],\"max_interval\":500.0}},{\"type\":\"object\",\"name\":\"AdaptiveTicker\",\"id\":\"p344055\",\"attributes\":{\"num_minor_ticks\":0,\"base\":60,\"mantissas\":[1,2,5,10,15,20,30],\"min_interval\":1000.0,\"max_interval\":1800000.0}},{\"type\":\"object\",\"name\":\"AdaptiveTicker\",\"id\":\"p344056\",\"attributes\":{\"num_minor_ticks\":0,\"base\":24,\"mantissas\":[1,2,4,6,8,12],\"min_interval\":3600000.0,\"max_interval\":43200000.0}},{\"type\":\"object\",\"name\":\"DaysTicker\",\"id\":\"p344057\",\"attributes\":{\"days\":[1,2,3,4,5,6,7,8,9,10,11,12,13,14,15,16,17,18,19,20,21,22,23,24,25,26,27,28,29,30,31]}},{\"type\":\"object\",\"name\":\"DaysTicker\",\"id\":\"p344058\",\"attributes\":{\"days\":[1,4,7,10,13,16,19,22,25,28]}},{\"type\":\"object\",\"name\":\"DaysTicker\",\"id\":\"p344059\",\"attributes\":{\"days\":[1,8,15,22]}},{\"type\":\"object\",\"name\":\"DaysTicker\",\"id\":\"p344060\",\"attributes\":{\"days\":[1,15]}},{\"type\":\"object\",\"name\":\"MonthsTicker\",\"id\":\"p344061\",\"attributes\":{\"months\":[0,1,2,3,4,5,6,7,8,9,10,11]}},{\"type\":\"object\",\"name\":\"MonthsTicker\",\"id\":\"p344062\",\"attributes\":{\"months\":[0,2,4,6,8,10]}},{\"type\":\"object\",\"name\":\"MonthsTicker\",\"id\":\"p344063\",\"attributes\":{\"months\":[0,4,8]}},{\"type\":\"object\",\"name\":\"MonthsTicker\",\"id\":\"p344064\",\"attributes\":{\"months\":[0,6]}},{\"type\":\"object\",\"name\":\"YearsTicker\",\"id\":\"p344065\"}]}},\"formatter\":{\"type\":\"object\",\"name\":\"DatetimeTickFormatter\",\"id\":\"p344155\",\"attributes\":{\"hours\":\"%H:%M\"}},\"axis_label\":\"Date-Time\",\"axis_label_standoff\":10,\"axis_label_text_color\":\"#E0E0E0\",\"axis_label_text_font\":\"Helvetica\",\"axis_label_text_font_size\":\"1.25em\",\"axis_label_text_font_style\":\"normal\",\"major_label_policy\":{\"type\":\"object\",\"name\":\"AllLabels\",\"id\":\"p344051\"},\"major_label_text_color\":\"#E0E0E0\",\"major_label_text_font\":\"Helvetica\",\"major_label_text_font_size\":\"1.025em\",\"axis_line_color\":\"#E0E0E0\",\"axis_line_alpha\":0,\"major_tick_line_color\":\"#E0E0E0\",\"major_tick_line_alpha\":0,\"minor_tick_line_color\":\"#E0E0E0\",\"minor_tick_line_alpha\":0}}],\"center\":[{\"type\":\"object\",\"name\":\"Grid\",\"id\":\"p344092\",\"attributes\":{\"axis\":{\"id\":\"p344050\"},\"grid_line_color\":\"#E0E0E0\",\"grid_line_alpha\":0.25}},{\"type\":\"object\",\"name\":\"Grid\",\"id\":\"p344099\",\"attributes\":{\"dimension\":1,\"axis\":{\"id\":\"p344093\"},\"grid_line_color\":\"#E0E0E0\",\"grid_line_alpha\":0.25}},{\"type\":\"object\",\"name\":\"Legend\",\"id\":\"p344124\",\"attributes\":{\"location\":\"top_left\",\"title\":\"Lines\",\"border_line_alpha\":0,\"background_fill_color\":\"#20262B\",\"background_fill_alpha\":0.25,\"label_text_color\":\"#E0E0E0\",\"label_text_font\":\"Helvetica\",\"label_text_font_size\":\"1.025em\",\"label_standoff\":8,\"glyph_width\":15,\"spacing\":8,\"items\":[{\"type\":\"object\",\"name\":\"LegendItem\",\"id\":\"p344125\",\"attributes\":{\"label\":{\"type\":\"value\",\"value\":\"Line 1\"},\"renderers\":[{\"id\":\"p344121\"},{\"id\":\"p344133\"}]}},{\"type\":\"object\",\"name\":\"LegendItem\",\"id\":\"p344145\",\"attributes\":{\"label\":{\"type\":\"value\",\"value\":\"Line 2\"},\"renderers\":[{\"id\":\"p344142\"},{\"id\":\"p344152\"}]}}]}}],\"background_fill_color\":\"#20262B\",\"border_fill_color\":\"#15191C\"}}],\"callbacks\":{\"type\":\"map\"}}};\n",
       "  const render_items = [{\"docid\":\"21f9fc28-7716-42a1-9ed9-3c3faa922321\",\"roots\":{\"p344032\":\"b2e3596c-d0c8-4512-a22c-70584d2c607e\"},\"root_ids\":[\"p344032\"]}];\n",
       "  root.Bokeh.embed.embed_items_notebook(docs_json, render_items);\n",
       "  }\n",
       "  if (root.Bokeh !== undefined) {\n",
       "    embed_document(root);\n",
       "  } else {\n",
       "    let attempts = 0;\n",
       "    const timer = setInterval(function(root) {\n",
       "      if (root.Bokeh !== undefined) {\n",
       "        clearInterval(timer);\n",
       "        embed_document(root);\n",
       "      } else {\n",
       "        attempts++;\n",
       "        if (attempts > 100) {\n",
       "          clearInterval(timer);\n",
       "          console.log(\"Bokeh: ERROR: Unable to run BokehJS code because BokehJS library is missing\");\n",
       "        }\n",
       "      }\n",
       "    }, 10, root)\n",
       "  }\n",
       "})(window);"
      ],
      "application/vnd.bokehjs_exec.v0+json": ""
     },
     "metadata": {
      "application/vnd.bokehjs_exec.v0+json": {
       "id": "p344032"
      }
     },
     "output_type": "display_data"
    }
   ],
   "source": [
    "from bokeh.plotting import figure, show, curdoc\n",
    "from bokeh.models import DatetimeTickFormatter\n",
    "from datetime import datetime\n",
    "import random\n",
    "from bokeh.models import ContinuousColorMapper\n",
    "from bokeh.palettes import Viridis256\n",
    "from bokeh.transform import linear_cmap\n",
    "from bokeh.palettes import Turbo256\n",
    "from bokeh.palettes import Category10, Category20, Category20b, Category20c\n",
    "\n",
    "\n",
    "\n",
    "\n",
    "# Dummy data representing different hour-minute values\n",
    "hour_minutes = [(1, 0), (2, 5), (3, 10), (4, 15), (5, 20), (9, 25)]\n",
    "\n",
    "# Create a list of datetime objects from the hour-minute values\n",
    "x_values = [datetime(datetime.now().year, datetime.now().month, datetime.now().day, hour, minute) for hour, minute in hour_minutes]\n",
    "y_1_values = [i for i in range(len(hour_minutes))]\n",
    "y_2_values = [random.randint(0, 100) for _ in range(len(hour_minutes))]\n",
    "\n",
    "mapper = linear_cmap(field_name=\"y\", palette=Turbo256, low=max(y_2_values), high=min(y_2_values))\n",
    "\n",
    "# Create a figure\n",
    "# p = figure(x_axis_type=\"datetime\")\n",
    "\n",
    "# create figure\n",
    "\n",
    "\n",
    "\n",
    "\n",
    "p = figure(\n",
    "    title=\"Dhaka Stock Exchange Live Change\",\n",
    "    x_axis_type=\"datetime\",\n",
    "    sizing_mode=\"scale_both\",\n",
    "\n",
    "    # Comment the width heights later\n",
    "    max_width=900,\n",
    "    max_height = 300,\n",
    "    width=900,\n",
    "    height=900\n",
    "    \n",
    ")\n",
    "\n",
    "\n",
    "\n",
    "p.title.align = \"center\"\n",
    "# Set x-axis and y-axis labels\n",
    "p.xaxis.axis_label = \"Date-Time\"\n",
    "p.yaxis.axis_label = \"Percentage Change (%)\"\n",
    "\n",
    "\n",
    "\n",
    "p.circle(x_values, y_1_values, legend_label=\"Line 1\", line_color=\n",
    "         'pink'\n",
    "        )\n",
    "\n",
    "\n",
    "# Define the color mapping based on y_1_values\n",
    "colors = Turbo256\n",
    "color_mapper = LinearColorMapper(palette=Viridis256, low=min(y_1_values), high=max(y_1_values))\n",
    "\n",
    "\n",
    "# Add the line with varying colors based on values\n",
    "p.line(x_values, y_1_values, legend_label=\"Line 1\", \n",
    "       line_color=\n",
    "       'yellow'\n",
    "      )\n",
    "\n",
    "\n",
    "p.circle(x_values, y_2_values, legend_label=\"Line 2\", \n",
    "        color=mapper, size=10\n",
    "        )\n",
    "\n",
    "p.line(x_values, y_2_values, legend_label=\"Line 2\",\n",
    "      line_color=\n",
    "       'orange'\n",
    "\n",
    "      )\n",
    "\n",
    "\n",
    "\n",
    "# Customize the x-axis tick labels\n",
    "p.xaxis.formatter = DatetimeTickFormatter(hours=\"%H:%M\")\n",
    "\n",
    "curdoc().theme = 'dark_minimal'\n",
    "\n",
    "p.legend.title = 'Lines'\n",
    "p.legend.location = \"top_left\"  # Options: top_left, top_right, bottom_left, bottom_right, center, center_left, center_right\n",
    "\n",
    "\n",
    "# Define tooltips\n",
    "tooltips = [\n",
    "    # (\"index\", \"$index\"),\n",
    "    (\"x: \", \"$x_values\"),\n",
    "    (\"y: \", \"$y_2_values\"),\n",
    "]\n",
    "\n",
    "# Add tooltips to both lines\n",
    "hover_tool = HoverTool(renderers=[line1, line2], tooltips=tooltips)\n",
    "p.add_tools(hover_tool)\n",
    "\n",
    "\n",
    "# Show the plot\n",
    "show(p)\n"
   ]
  },
  {
   "cell_type": "code",
   "execution_count": 181,
   "id": "cf15cfa4-b142-46e5-8788-aab06a7b7591",
   "metadata": {},
   "outputs": [
    {
     "data": {
      "text/html": [
       "\n",
       "  <div id=\"fbea6462-d78a-4351-973c-aa5884560323\" data-root-id=\"p332897\" style=\"display: contents;\"></div>\n"
      ]
     },
     "metadata": {},
     "output_type": "display_data"
    },
    {
     "data": {
      "application/javascript": [
       "(function(root) {\n",
       "  function embed_document(root) {\n",
       "  const docs_json = {\"76e5118d-3f93-442c-bdcf-743dc3bb3d99\":{\"version\":\"3.1.1\",\"title\":\"Bokeh Application\",\"defs\":[],\"roots\":[{\"type\":\"object\",\"name\":\"Figure\",\"id\":\"p332897\",\"attributes\":{\"x_range\":{\"type\":\"object\",\"name\":\"DataRange1d\",\"id\":\"p332898\"},\"y_range\":{\"type\":\"object\",\"name\":\"DataRange1d\",\"id\":\"p332899\"},\"x_scale\":{\"type\":\"object\",\"name\":\"LinearScale\",\"id\":\"p332910\"},\"y_scale\":{\"type\":\"object\",\"name\":\"LinearScale\",\"id\":\"p332912\"},\"title\":{\"type\":\"object\",\"name\":\"Title\",\"id\":\"p332904\",\"attributes\":{\"text_color\":\"#E0E0E0\",\"text_font\":\"Helvetica\",\"text_font_size\":\"1.15em\"}},\"outline_line_color\":\"#E0E0E0\",\"outline_line_alpha\":0.25,\"renderers\":[{\"type\":\"object\",\"name\":\"GlyphRenderer\",\"id\":\"p332949\",\"attributes\":{\"data_source\":{\"type\":\"object\",\"name\":\"ColumnDataSource\",\"id\":\"p332943\",\"attributes\":{\"selected\":{\"type\":\"object\",\"name\":\"Selection\",\"id\":\"p332945\",\"attributes\":{\"indices\":[],\"line_indices\":[]}},\"selection_policy\":{\"type\":\"object\",\"name\":\"UnionRenderers\",\"id\":\"p332944\"},\"data\":{\"type\":\"map\",\"entries\":[[\"x\",[1,2,3,4,5]],[\"y\",[2,4,6,8,10]]]}}},\"view\":{\"type\":\"object\",\"name\":\"CDSView\",\"id\":\"p332950\",\"attributes\":{\"filter\":{\"type\":\"object\",\"name\":\"AllIndices\",\"id\":\"p332951\"}}},\"glyph\":{\"type\":\"object\",\"name\":\"Line\",\"id\":\"p332946\",\"attributes\":{\"x\":{\"type\":\"field\",\"field\":\"x\"},\"y\":{\"type\":\"field\",\"field\":\"y\"},\"line_color\":\"red\"}},\"nonselection_glyph\":{\"type\":\"object\",\"name\":\"Line\",\"id\":\"p332947\",\"attributes\":{\"x\":{\"type\":\"field\",\"field\":\"x\"},\"y\":{\"type\":\"field\",\"field\":\"y\"},\"line_color\":\"red\",\"line_alpha\":0.1}},\"muted_glyph\":{\"type\":\"object\",\"name\":\"Line\",\"id\":\"p332948\",\"attributes\":{\"x\":{\"type\":\"field\",\"field\":\"x\"},\"y\":{\"type\":\"field\",\"field\":\"y\"},\"line_color\":\"red\",\"line_alpha\":0.2}}}},{\"type\":\"object\",\"name\":\"GlyphRenderer\",\"id\":\"p332960\",\"attributes\":{\"data_source\":{\"type\":\"object\",\"name\":\"ColumnDataSource\",\"id\":\"p332954\",\"attributes\":{\"selected\":{\"type\":\"object\",\"name\":\"Selection\",\"id\":\"p332956\",\"attributes\":{\"indices\":[],\"line_indices\":[]}},\"selection_policy\":{\"type\":\"object\",\"name\":\"UnionRenderers\",\"id\":\"p332955\"},\"data\":{\"type\":\"map\",\"entries\":[[\"x\",[1,2,3,4,5]],[\"y\",[1,3,5,7,9]]]}}},\"view\":{\"type\":\"object\",\"name\":\"CDSView\",\"id\":\"p332961\",\"attributes\":{\"filter\":{\"type\":\"object\",\"name\":\"AllIndices\",\"id\":\"p332962\"}}},\"glyph\":{\"type\":\"object\",\"name\":\"Line\",\"id\":\"p332957\",\"attributes\":{\"x\":{\"type\":\"field\",\"field\":\"x\"},\"y\":{\"type\":\"field\",\"field\":\"y\"},\"line_color\":\"blue\"}},\"nonselection_glyph\":{\"type\":\"object\",\"name\":\"Line\",\"id\":\"p332958\",\"attributes\":{\"x\":{\"type\":\"field\",\"field\":\"x\"},\"y\":{\"type\":\"field\",\"field\":\"y\"},\"line_color\":\"blue\",\"line_alpha\":0.1}},\"muted_glyph\":{\"type\":\"object\",\"name\":\"Line\",\"id\":\"p332959\",\"attributes\":{\"x\":{\"type\":\"field\",\"field\":\"x\"},\"y\":{\"type\":\"field\",\"field\":\"y\"},\"line_color\":\"blue\",\"line_alpha\":0.2}}}}],\"toolbar\":{\"type\":\"object\",\"name\":\"Toolbar\",\"id\":\"p332901\",\"attributes\":{\"tools\":[{\"type\":\"object\",\"name\":\"PanTool\",\"id\":\"p332928\"},{\"type\":\"object\",\"name\":\"WheelZoomTool\",\"id\":\"p332929\"},{\"type\":\"object\",\"name\":\"BoxZoomTool\",\"id\":\"p332930\",\"attributes\":{\"overlay\":{\"type\":\"object\",\"name\":\"BoxAnnotation\",\"id\":\"p332931\",\"attributes\":{\"syncable\":false,\"level\":\"overlay\",\"visible\":false,\"left_units\":\"canvas\",\"right_units\":\"canvas\",\"bottom_units\":\"canvas\",\"top_units\":\"canvas\",\"line_color\":\"black\",\"line_alpha\":1.0,\"line_width\":2,\"line_dash\":[4,4],\"fill_color\":\"lightgrey\",\"fill_alpha\":0.5}}}},{\"type\":\"object\",\"name\":\"SaveTool\",\"id\":\"p332932\"},{\"type\":\"object\",\"name\":\"ResetTool\",\"id\":\"p332933\"},{\"type\":\"object\",\"name\":\"HelpTool\",\"id\":\"p332934\"},{\"type\":\"object\",\"name\":\"HoverTool\",\"id\":\"p332964\",\"attributes\":{\"renderers\":[{\"id\":\"p332949\"},{\"id\":\"p332960\"}],\"tooltips\":[[\"x\",\"@x\"],[\"y\",\"@y\"]]}}]}},\"left\":[{\"type\":\"object\",\"name\":\"LinearAxis\",\"id\":\"p332921\",\"attributes\":{\"ticker\":{\"type\":\"object\",\"name\":\"BasicTicker\",\"id\":\"p332924\",\"attributes\":{\"mantissas\":[1,2,5]}},\"formatter\":{\"type\":\"object\",\"name\":\"BasicTickFormatter\",\"id\":\"p332923\"},\"axis_label_standoff\":10,\"axis_label_text_color\":\"#E0E0E0\",\"axis_label_text_font\":\"Helvetica\",\"axis_label_text_font_size\":\"1.25em\",\"axis_label_text_font_style\":\"normal\",\"major_label_policy\":{\"type\":\"object\",\"name\":\"AllLabels\",\"id\":\"p332922\"},\"major_label_text_color\":\"#E0E0E0\",\"major_label_text_font\":\"Helvetica\",\"major_label_text_font_size\":\"1.025em\",\"axis_line_color\":\"#E0E0E0\",\"axis_line_alpha\":0,\"major_tick_line_color\":\"#E0E0E0\",\"major_tick_line_alpha\":0,\"minor_tick_line_color\":\"#E0E0E0\",\"minor_tick_line_alpha\":0}}],\"below\":[{\"type\":\"object\",\"name\":\"LinearAxis\",\"id\":\"p332914\",\"attributes\":{\"ticker\":{\"type\":\"object\",\"name\":\"BasicTicker\",\"id\":\"p332917\",\"attributes\":{\"mantissas\":[1,2,5]}},\"formatter\":{\"type\":\"object\",\"name\":\"BasicTickFormatter\",\"id\":\"p332916\"},\"axis_label_standoff\":10,\"axis_label_text_color\":\"#E0E0E0\",\"axis_label_text_font\":\"Helvetica\",\"axis_label_text_font_size\":\"1.25em\",\"axis_label_text_font_style\":\"normal\",\"major_label_policy\":{\"type\":\"object\",\"name\":\"AllLabels\",\"id\":\"p332915\"},\"major_label_text_color\":\"#E0E0E0\",\"major_label_text_font\":\"Helvetica\",\"major_label_text_font_size\":\"1.025em\",\"axis_line_color\":\"#E0E0E0\",\"axis_line_alpha\":0,\"major_tick_line_color\":\"#E0E0E0\",\"major_tick_line_alpha\":0,\"minor_tick_line_color\":\"#E0E0E0\",\"minor_tick_line_alpha\":0}}],\"center\":[{\"type\":\"object\",\"name\":\"Grid\",\"id\":\"p332920\",\"attributes\":{\"axis\":{\"id\":\"p332914\"},\"grid_line_color\":\"#E0E0E0\",\"grid_line_alpha\":0.25}},{\"type\":\"object\",\"name\":\"Grid\",\"id\":\"p332927\",\"attributes\":{\"dimension\":1,\"axis\":{\"id\":\"p332921\"},\"grid_line_color\":\"#E0E0E0\",\"grid_line_alpha\":0.25}},{\"type\":\"object\",\"name\":\"Legend\",\"id\":\"p332952\",\"attributes\":{\"border_line_alpha\":0,\"background_fill_color\":\"#20262B\",\"background_fill_alpha\":0.25,\"label_text_color\":\"#E0E0E0\",\"label_text_font\":\"Helvetica\",\"label_text_font_size\":\"1.025em\",\"label_standoff\":8,\"glyph_width\":15,\"spacing\":8,\"items\":[{\"type\":\"object\",\"name\":\"LegendItem\",\"id\":\"p332953\",\"attributes\":{\"label\":{\"type\":\"value\",\"value\":\"Line 1\"},\"renderers\":[{\"id\":\"p332949\"}]}},{\"type\":\"object\",\"name\":\"LegendItem\",\"id\":\"p332963\",\"attributes\":{\"label\":{\"type\":\"value\",\"value\":\"Line 2\"},\"renderers\":[{\"id\":\"p332960\"}]}}]}}],\"background_fill_color\":\"#20262B\",\"border_fill_color\":\"#15191C\"}}],\"callbacks\":{\"type\":\"map\"}}};\n",
       "  const render_items = [{\"docid\":\"76e5118d-3f93-442c-bdcf-743dc3bb3d99\",\"roots\":{\"p332897\":\"fbea6462-d78a-4351-973c-aa5884560323\"},\"root_ids\":[\"p332897\"]}];\n",
       "  root.Bokeh.embed.embed_items_notebook(docs_json, render_items);\n",
       "  }\n",
       "  if (root.Bokeh !== undefined) {\n",
       "    embed_document(root);\n",
       "  } else {\n",
       "    let attempts = 0;\n",
       "    const timer = setInterval(function(root) {\n",
       "      if (root.Bokeh !== undefined) {\n",
       "        clearInterval(timer);\n",
       "        embed_document(root);\n",
       "      } else {\n",
       "        attempts++;\n",
       "        if (attempts > 100) {\n",
       "          clearInterval(timer);\n",
       "          console.log(\"Bokeh: ERROR: Unable to run BokehJS code because BokehJS library is missing\");\n",
       "        }\n",
       "      }\n",
       "    }, 10, root)\n",
       "  }\n",
       "})(window);"
      ],
      "application/vnd.bokehjs_exec.v0+json": ""
     },
     "metadata": {
      "application/vnd.bokehjs_exec.v0+json": {
       "id": "p332897"
      }
     },
     "output_type": "display_data"
    }
   ],
   "source": [
    "from bokeh.plotting import figure, show\n",
    "from bokeh.models import HoverTool\n",
    "\n",
    "# Dummy data\n",
    "x_values = [1, 2, 3, 4, 5]\n",
    "y1_values = [2, 4, 6, 8, 10]\n",
    "y2_values = [1, 3, 5, 7, 9]\n",
    "\n",
    "# Create a figure\n",
    "p = figure()\n",
    "\n",
    "# Add the lines\n",
    "line1 = p.line(x_values, y1_values, color='red', legend_label='Line 1')\n",
    "line2 = p.line(x_values, y2_values, color='blue', legend_label='Line 2')\n",
    "\n",
    "# Define tooltips\n",
    "tooltips = [\n",
    "    ('x', '@x'),\n",
    "    ('y', '@y'),\n",
    "]\n",
    "\n",
    "# Add tooltips to both lines\n",
    "hover_tool = HoverTool(renderers=[line1, line2], tooltips=tooltips)\n",
    "p.add_tools(hover_tool)\n",
    "\n",
    "# Show the plot\n",
    "show(p)\n"
   ]
  },
  {
   "cell_type": "code",
   "execution_count": 187,
   "id": "c7e5a5c9-988c-44ab-a18a-146e7a491a9d",
   "metadata": {},
   "outputs": [
    {
     "data": {
      "text/html": [
       "\n",
       "  <div id=\"a02ebc97-6df5-44a7-92d7-25ed6e9834cb\" data-root-id=\"p361838\" style=\"display: contents;\"></div>\n"
      ]
     },
     "metadata": {},
     "output_type": "display_data"
    },
    {
     "data": {
      "application/javascript": [
       "(function(root) {\n",
       "  function embed_document(root) {\n",
       "  const docs_json = {\"6e6bfb93-037b-4751-8d98-25bc6b4a2796\":{\"version\":\"3.1.1\",\"title\":\"Bokeh Application\",\"defs\":[],\"roots\":[{\"type\":\"object\",\"name\":\"Figure\",\"id\":\"p361838\",\"attributes\":{\"width\":900,\"height\":900,\"max_width\":900,\"max_height\":300,\"sizing_mode\":\"scale_both\",\"x_range\":{\"type\":\"object\",\"name\":\"DataRange1d\",\"id\":\"p361839\"},\"y_range\":{\"type\":\"object\",\"name\":\"DataRange1d\",\"id\":\"p361840\"},\"x_scale\":{\"type\":\"object\",\"name\":\"LinearScale\",\"id\":\"p361852\"},\"y_scale\":{\"type\":\"object\",\"name\":\"LinearScale\",\"id\":\"p361854\"},\"title\":{\"type\":\"object\",\"name\":\"Title\",\"id\":\"p361841\",\"attributes\":{\"text\":\"Dhaka Stock Exchange Live Change\",\"text_color\":\"#E0E0E0\",\"text_font\":\"Helvetica\",\"text_font_size\":\"1.15em\",\"align\":\"center\"}},\"outline_line_color\":\"#E0E0E0\",\"outline_line_alpha\":0.25,\"renderers\":[{\"type\":\"object\",\"name\":\"GlyphRenderer\",\"id\":\"p361927\",\"attributes\":{\"data_source\":{\"type\":\"object\",\"name\":\"ColumnDataSource\",\"id\":\"p361921\",\"attributes\":{\"selected\":{\"type\":\"object\",\"name\":\"Selection\",\"id\":\"p361923\",\"attributes\":{\"indices\":[],\"line_indices\":[]}},\"selection_policy\":{\"type\":\"object\",\"name\":\"UnionRenderers\",\"id\":\"p361922\"},\"data\":{\"type\":\"map\",\"entries\":[[\"x\",[1684458000000.0,1684461900000.0,1684465800000.0,1684469700000.0,1684473600000.0,1684488300000.0]],[\"y\",[0,1,2,3,4,5]]]}}},\"view\":{\"type\":\"object\",\"name\":\"CDSView\",\"id\":\"p361928\",\"attributes\":{\"filter\":{\"type\":\"object\",\"name\":\"AllIndices\",\"id\":\"p361929\"}}},\"glyph\":{\"type\":\"object\",\"name\":\"Circle\",\"id\":\"p361924\",\"attributes\":{\"x\":{\"type\":\"field\",\"field\":\"x\"},\"y\":{\"type\":\"field\",\"field\":\"y\"},\"line_color\":{\"type\":\"value\",\"value\":\"pink\"},\"fill_color\":{\"type\":\"value\",\"value\":\"#1f77b4\"}}},\"nonselection_glyph\":{\"type\":\"object\",\"name\":\"Circle\",\"id\":\"p361925\",\"attributes\":{\"x\":{\"type\":\"field\",\"field\":\"x\"},\"y\":{\"type\":\"field\",\"field\":\"y\"},\"line_color\":{\"type\":\"value\",\"value\":\"pink\"},\"line_alpha\":{\"type\":\"value\",\"value\":0.1},\"fill_color\":{\"type\":\"value\",\"value\":\"#1f77b4\"},\"fill_alpha\":{\"type\":\"value\",\"value\":0.1},\"hatch_alpha\":{\"type\":\"value\",\"value\":0.1}}},\"muted_glyph\":{\"type\":\"object\",\"name\":\"Circle\",\"id\":\"p361926\",\"attributes\":{\"x\":{\"type\":\"field\",\"field\":\"x\"},\"y\":{\"type\":\"field\",\"field\":\"y\"},\"line_color\":{\"type\":\"value\",\"value\":\"pink\"},\"line_alpha\":{\"type\":\"value\",\"value\":0.2},\"fill_color\":{\"type\":\"value\",\"value\":\"#1f77b4\"},\"fill_alpha\":{\"type\":\"value\",\"value\":0.2},\"hatch_alpha\":{\"type\":\"value\",\"value\":0.2}}}}},{\"type\":\"object\",\"name\":\"GlyphRenderer\",\"id\":\"p361938\",\"attributes\":{\"data_source\":{\"type\":\"object\",\"name\":\"ColumnDataSource\",\"id\":\"p361932\",\"attributes\":{\"selected\":{\"type\":\"object\",\"name\":\"Selection\",\"id\":\"p361934\",\"attributes\":{\"indices\":[],\"line_indices\":[]}},\"selection_policy\":{\"type\":\"object\",\"name\":\"UnionRenderers\",\"id\":\"p361933\"},\"data\":{\"type\":\"map\",\"entries\":[[\"x\",[1684458000000.0,1684461900000.0,1684465800000.0,1684469700000.0,1684473600000.0,1684488300000.0]],[\"y\",[0,1,2,3,4,5]]]}}},\"view\":{\"type\":\"object\",\"name\":\"CDSView\",\"id\":\"p361939\",\"attributes\":{\"filter\":{\"type\":\"object\",\"name\":\"AllIndices\",\"id\":\"p361940\"}}},\"glyph\":{\"type\":\"object\",\"name\":\"Line\",\"id\":\"p361935\",\"attributes\":{\"x\":{\"type\":\"field\",\"field\":\"x\"},\"y\":{\"type\":\"field\",\"field\":\"y\"},\"line_color\":\"yellow\"}},\"nonselection_glyph\":{\"type\":\"object\",\"name\":\"Line\",\"id\":\"p361936\",\"attributes\":{\"x\":{\"type\":\"field\",\"field\":\"x\"},\"y\":{\"type\":\"field\",\"field\":\"y\"},\"line_color\":\"yellow\",\"line_alpha\":0.1}},\"muted_glyph\":{\"type\":\"object\",\"name\":\"Line\",\"id\":\"p361937\",\"attributes\":{\"x\":{\"type\":\"field\",\"field\":\"x\"},\"y\":{\"type\":\"field\",\"field\":\"y\"},\"line_color\":\"yellow\",\"line_alpha\":0.2}}}},{\"type\":\"object\",\"name\":\"GlyphRenderer\",\"id\":\"p361948\",\"attributes\":{\"data_source\":{\"type\":\"object\",\"name\":\"ColumnDataSource\",\"id\":\"p361942\",\"attributes\":{\"selected\":{\"type\":\"object\",\"name\":\"Selection\",\"id\":\"p361944\",\"attributes\":{\"indices\":[],\"line_indices\":[]}},\"selection_policy\":{\"type\":\"object\",\"name\":\"UnionRenderers\",\"id\":\"p361943\"},\"data\":{\"type\":\"map\",\"entries\":[[\"x\",[1684458000000.0,1684461900000.0,1684465800000.0,1684469700000.0,1684473600000.0,1684488300000.0]],[\"y\",[33,56,96,30,24,6]]]}}},\"view\":{\"type\":\"object\",\"name\":\"CDSView\",\"id\":\"p361949\",\"attributes\":{\"filter\":{\"type\":\"object\",\"name\":\"AllIndices\",\"id\":\"p361950\"}}},\"glyph\":{\"type\":\"object\",\"name\":\"Circle\",\"id\":\"p361945\",\"attributes\":{\"x\":{\"type\":\"field\",\"field\":\"x\"},\"y\":{\"type\":\"field\",\"field\":\"y\"},\"size\":{\"type\":\"value\",\"value\":10},\"line_color\":{\"type\":\"field\",\"field\":\"y\",\"transform\":{\"type\":\"object\",\"name\":\"LinearColorMapper\",\"id\":\"p361941\",\"attributes\":{\"palette\":[\"#30123b\",\"#311542\",\"#32184a\",\"#341b51\",\"#351e58\",\"#36215f\",\"#372365\",\"#38266c\",\"#392972\",\"#3a2c79\",\"#3b2f7f\",\"#3c3285\",\"#3c358b\",\"#3d3791\",\"#3e3a96\",\"#3f3d9c\",\"#4040a1\",\"#4043a6\",\"#4145ab\",\"#4148b0\",\"#424bb5\",\"#434eba\",\"#4350be\",\"#4353c2\",\"#4456c7\",\"#4458cb\",\"#455bce\",\"#455ed2\",\"#4560d6\",\"#4563d9\",\"#4666dd\",\"#4668e0\",\"#466be3\",\"#466de6\",\"#4670e8\",\"#4673eb\",\"#4675ed\",\"#4678f0\",\"#467af2\",\"#467df4\",\"#467ff6\",\"#4682f8\",\"#4584f9\",\"#4587fb\",\"#4589fc\",\"#448cfd\",\"#438efd\",\"#4291fe\",\"#4193fe\",\"#4096fe\",\"#3f98fe\",\"#3e9bfe\",\"#3c9dfd\",\"#3ba0fc\",\"#39a2fc\",\"#38a5fb\",\"#36a8f9\",\"#34aaf8\",\"#33acf6\",\"#31aff5\",\"#2fb1f3\",\"#2db4f1\",\"#2bb6ef\",\"#2ab9ed\",\"#28bbeb\",\"#26bde9\",\"#25c0e6\",\"#23c2e4\",\"#21c4e1\",\"#20c6df\",\"#1ec9dc\",\"#1dcbda\",\"#1ccdd7\",\"#1bcfd4\",\"#1ad1d2\",\"#19d3cf\",\"#18d5cc\",\"#18d7ca\",\"#17d9c7\",\"#17dac4\",\"#17dcc2\",\"#17debf\",\"#18e0bd\",\"#18e1ba\",\"#19e3b8\",\"#1ae4b6\",\"#1be5b4\",\"#1de7b1\",\"#1ee8af\",\"#20e9ac\",\"#22eba9\",\"#24eca6\",\"#27eda3\",\"#29eea0\",\"#2cef9d\",\"#2ff09a\",\"#32f197\",\"#35f394\",\"#38f491\",\"#3bf48d\",\"#3ff58a\",\"#42f687\",\"#46f783\",\"#4af880\",\"#4df97c\",\"#51f979\",\"#55fa76\",\"#59fb72\",\"#5dfb6f\",\"#61fc6c\",\"#65fc68\",\"#69fd65\",\"#6dfd62\",\"#71fd5f\",\"#74fe5c\",\"#78fe59\",\"#7cfe56\",\"#80fe53\",\"#84fe50\",\"#87fe4d\",\"#8bfe4b\",\"#8efe48\",\"#92fe46\",\"#95fe44\",\"#98fe42\",\"#9bfd40\",\"#9efd3e\",\"#a1fc3d\",\"#a4fc3b\",\"#a6fb3a\",\"#a9fb39\",\"#acfa37\",\"#aef937\",\"#b1f836\",\"#b3f835\",\"#b6f735\",\"#b9f534\",\"#bbf434\",\"#bef334\",\"#c0f233\",\"#c3f133\",\"#c5ef33\",\"#c8ee33\",\"#caed33\",\"#cdeb34\",\"#cfea34\",\"#d1e834\",\"#d4e735\",\"#d6e535\",\"#d8e335\",\"#dae236\",\"#dde036\",\"#dfde36\",\"#e1dc37\",\"#e3da37\",\"#e5d838\",\"#e7d738\",\"#e8d538\",\"#ead339\",\"#ecd139\",\"#edcf39\",\"#efcd39\",\"#f0cb3a\",\"#f2c83a\",\"#f3c63a\",\"#f4c43a\",\"#f6c23a\",\"#f7c039\",\"#f8be39\",\"#f9bc39\",\"#f9ba38\",\"#fab737\",\"#fbb537\",\"#fbb336\",\"#fcb035\",\"#fcae34\",\"#fdab33\",\"#fda932\",\"#fda631\",\"#fda330\",\"#fea12f\",\"#fe9e2e\",\"#fe9b2d\",\"#fe982c\",\"#fd952b\",\"#fd9229\",\"#fd8f28\",\"#fd8c27\",\"#fc8926\",\"#fc8624\",\"#fb8323\",\"#fb8022\",\"#fa7d20\",\"#fa7a1f\",\"#f9771e\",\"#f8741c\",\"#f7711b\",\"#f76e1a\",\"#f66b18\",\"#f56817\",\"#f46516\",\"#f36315\",\"#f26014\",\"#f15d13\",\"#ef5a11\",\"#ee5810\",\"#ed550f\",\"#ec520e\",\"#ea500d\",\"#e94d0d\",\"#e84b0c\",\"#e6490b\",\"#e5460a\",\"#e3440a\",\"#e24209\",\"#e04008\",\"#de3e08\",\"#dd3c07\",\"#db3a07\",\"#d93806\",\"#d73606\",\"#d63405\",\"#d43205\",\"#d23005\",\"#d02f04\",\"#ce2d04\",\"#cb2b03\",\"#c92903\",\"#c72803\",\"#c52602\",\"#c32402\",\"#c02302\",\"#be2102\",\"#bb1f01\",\"#b91e01\",\"#b61c01\",\"#b41b01\",\"#b11901\",\"#ae1801\",\"#ac1601\",\"#a91501\",\"#a61401\",\"#a31201\",\"#a01101\",\"#9d1001\",\"#9a0e01\",\"#970d01\",\"#940c01\",\"#910b01\",\"#8e0a01\",\"#8b0901\",\"#870801\",\"#840701\",\"#810602\",\"#7d0502\",\"#7a0402\"],\"low\":6,\"high\":96}}},\"fill_color\":{\"type\":\"field\",\"field\":\"y\",\"transform\":{\"id\":\"p361941\"}},\"hatch_color\":{\"type\":\"field\",\"field\":\"y\",\"transform\":{\"id\":\"p361941\"}}}},\"nonselection_glyph\":{\"type\":\"object\",\"name\":\"Circle\",\"id\":\"p361946\",\"attributes\":{\"x\":{\"type\":\"field\",\"field\":\"x\"},\"y\":{\"type\":\"field\",\"field\":\"y\"},\"size\":{\"type\":\"value\",\"value\":10},\"line_color\":{\"type\":\"field\",\"field\":\"y\",\"transform\":{\"id\":\"p361941\"}},\"line_alpha\":{\"type\":\"value\",\"value\":0.1},\"fill_color\":{\"type\":\"field\",\"field\":\"y\",\"transform\":{\"id\":\"p361941\"}},\"fill_alpha\":{\"type\":\"value\",\"value\":0.1},\"hatch_color\":{\"type\":\"field\",\"field\":\"y\",\"transform\":{\"id\":\"p361941\"}},\"hatch_alpha\":{\"type\":\"value\",\"value\":0.1}}},\"muted_glyph\":{\"type\":\"object\",\"name\":\"Circle\",\"id\":\"p361947\",\"attributes\":{\"x\":{\"type\":\"field\",\"field\":\"x\"},\"y\":{\"type\":\"field\",\"field\":\"y\"},\"size\":{\"type\":\"value\",\"value\":10},\"line_color\":{\"type\":\"field\",\"field\":\"y\",\"transform\":{\"id\":\"p361941\"}},\"line_alpha\":{\"type\":\"value\",\"value\":0.2},\"fill_color\":{\"type\":\"field\",\"field\":\"y\",\"transform\":{\"id\":\"p361941\"}},\"fill_alpha\":{\"type\":\"value\",\"value\":0.2},\"hatch_color\":{\"type\":\"field\",\"field\":\"y\",\"transform\":{\"id\":\"p361941\"}},\"hatch_alpha\":{\"type\":\"value\",\"value\":0.2}}}}},{\"type\":\"object\",\"name\":\"GlyphRenderer\",\"id\":\"p361958\",\"attributes\":{\"data_source\":{\"type\":\"object\",\"name\":\"ColumnDataSource\",\"id\":\"p361952\",\"attributes\":{\"selected\":{\"type\":\"object\",\"name\":\"Selection\",\"id\":\"p361954\",\"attributes\":{\"indices\":[],\"line_indices\":[]}},\"selection_policy\":{\"type\":\"object\",\"name\":\"UnionRenderers\",\"id\":\"p361953\"},\"data\":{\"type\":\"map\",\"entries\":[[\"x\",[1684458000000.0,1684461900000.0,1684465800000.0,1684469700000.0,1684473600000.0,1684488300000.0]],[\"y\",[33,56,96,30,24,6]]]}}},\"view\":{\"type\":\"object\",\"name\":\"CDSView\",\"id\":\"p361959\",\"attributes\":{\"filter\":{\"type\":\"object\",\"name\":\"AllIndices\",\"id\":\"p361960\"}}},\"glyph\":{\"type\":\"object\",\"name\":\"Line\",\"id\":\"p361955\",\"attributes\":{\"x\":{\"type\":\"field\",\"field\":\"x\"},\"y\":{\"type\":\"field\",\"field\":\"y\"},\"line_color\":\"orange\"}},\"nonselection_glyph\":{\"type\":\"object\",\"name\":\"Line\",\"id\":\"p361956\",\"attributes\":{\"x\":{\"type\":\"field\",\"field\":\"x\"},\"y\":{\"type\":\"field\",\"field\":\"y\"},\"line_color\":\"orange\",\"line_alpha\":0.1}},\"muted_glyph\":{\"type\":\"object\",\"name\":\"Line\",\"id\":\"p361957\",\"attributes\":{\"x\":{\"type\":\"field\",\"field\":\"x\"},\"y\":{\"type\":\"field\",\"field\":\"y\"},\"line_color\":\"orange\",\"line_alpha\":0.2}}}}],\"toolbar\":{\"type\":\"object\",\"name\":\"Toolbar\",\"id\":\"p361844\",\"attributes\":{\"tools\":[{\"type\":\"object\",\"name\":\"PanTool\",\"id\":\"p361906\"},{\"type\":\"object\",\"name\":\"WheelZoomTool\",\"id\":\"p361907\"},{\"type\":\"object\",\"name\":\"BoxZoomTool\",\"id\":\"p361908\",\"attributes\":{\"overlay\":{\"type\":\"object\",\"name\":\"BoxAnnotation\",\"id\":\"p361909\",\"attributes\":{\"syncable\":false,\"level\":\"overlay\",\"visible\":false,\"left_units\":\"canvas\",\"right_units\":\"canvas\",\"bottom_units\":\"canvas\",\"top_units\":\"canvas\",\"line_color\":\"black\",\"line_alpha\":1.0,\"line_width\":2,\"line_dash\":[4,4],\"fill_color\":\"lightgrey\",\"fill_alpha\":0.5}}}},{\"type\":\"object\",\"name\":\"SaveTool\",\"id\":\"p361910\"},{\"type\":\"object\",\"name\":\"ResetTool\",\"id\":\"p361911\"},{\"type\":\"object\",\"name\":\"HelpTool\",\"id\":\"p361912\"},{\"type\":\"object\",\"name\":\"HoverTool\",\"id\":\"p361963\",\"attributes\":{\"renderers\":[{\"id\":\"p361938\"},{\"id\":\"p361958\"}],\"tooltips\":[[\"x:\",\"@x{%Y-%m-%d %H:%M}\"],[\"y:\",\"@y\"]],\"formatters\":{\"type\":\"map\",\"entries\":[[\"@x\",\"datetime\"]]}}}]}},\"left\":[{\"type\":\"object\",\"name\":\"LinearAxis\",\"id\":\"p361899\",\"attributes\":{\"ticker\":{\"type\":\"object\",\"name\":\"BasicTicker\",\"id\":\"p361902\",\"attributes\":{\"mantissas\":[1,2,5]}},\"formatter\":{\"type\":\"object\",\"name\":\"BasicTickFormatter\",\"id\":\"p361901\"},\"axis_label\":\"Percentage Change (%)\",\"axis_label_standoff\":10,\"axis_label_text_color\":\"#E0E0E0\",\"axis_label_text_font\":\"Helvetica\",\"axis_label_text_font_size\":\"1.25em\",\"axis_label_text_font_style\":\"normal\",\"major_label_policy\":{\"type\":\"object\",\"name\":\"AllLabels\",\"id\":\"p361900\"},\"major_label_text_color\":\"#E0E0E0\",\"major_label_text_font\":\"Helvetica\",\"major_label_text_font_size\":\"1.025em\",\"axis_line_color\":\"#E0E0E0\",\"axis_line_alpha\":0,\"major_tick_line_color\":\"#E0E0E0\",\"major_tick_line_alpha\":0,\"minor_tick_line_color\":\"#E0E0E0\",\"minor_tick_line_alpha\":0}}],\"below\":[{\"type\":\"object\",\"name\":\"DatetimeAxis\",\"id\":\"p361856\",\"attributes\":{\"ticker\":{\"type\":\"object\",\"name\":\"DatetimeTicker\",\"id\":\"p361859\",\"attributes\":{\"num_minor_ticks\":5,\"tickers\":[{\"type\":\"object\",\"name\":\"AdaptiveTicker\",\"id\":\"p361860\",\"attributes\":{\"num_minor_ticks\":0,\"mantissas\":[1,2,5],\"max_interval\":500.0}},{\"type\":\"object\",\"name\":\"AdaptiveTicker\",\"id\":\"p361861\",\"attributes\":{\"num_minor_ticks\":0,\"base\":60,\"mantissas\":[1,2,5,10,15,20,30],\"min_interval\":1000.0,\"max_interval\":1800000.0}},{\"type\":\"object\",\"name\":\"AdaptiveTicker\",\"id\":\"p361862\",\"attributes\":{\"num_minor_ticks\":0,\"base\":24,\"mantissas\":[1,2,4,6,8,12],\"min_interval\":3600000.0,\"max_interval\":43200000.0}},{\"type\":\"object\",\"name\":\"DaysTicker\",\"id\":\"p361863\",\"attributes\":{\"days\":[1,2,3,4,5,6,7,8,9,10,11,12,13,14,15,16,17,18,19,20,21,22,23,24,25,26,27,28,29,30,31]}},{\"type\":\"object\",\"name\":\"DaysTicker\",\"id\":\"p361864\",\"attributes\":{\"days\":[1,4,7,10,13,16,19,22,25,28]}},{\"type\":\"object\",\"name\":\"DaysTicker\",\"id\":\"p361865\",\"attributes\":{\"days\":[1,8,15,22]}},{\"type\":\"object\",\"name\":\"DaysTicker\",\"id\":\"p361866\",\"attributes\":{\"days\":[1,15]}},{\"type\":\"object\",\"name\":\"MonthsTicker\",\"id\":\"p361867\",\"attributes\":{\"months\":[0,1,2,3,4,5,6,7,8,9,10,11]}},{\"type\":\"object\",\"name\":\"MonthsTicker\",\"id\":\"p361868\",\"attributes\":{\"months\":[0,2,4,6,8,10]}},{\"type\":\"object\",\"name\":\"MonthsTicker\",\"id\":\"p361869\",\"attributes\":{\"months\":[0,4,8]}},{\"type\":\"object\",\"name\":\"MonthsTicker\",\"id\":\"p361870\",\"attributes\":{\"months\":[0,6]}},{\"type\":\"object\",\"name\":\"YearsTicker\",\"id\":\"p361871\"}]}},\"formatter\":{\"type\":\"object\",\"name\":\"DatetimeTickFormatter\",\"id\":\"p361961\",\"attributes\":{\"hours\":\"%H:%M\"}},\"axis_label\":\"Date-Time\",\"axis_label_standoff\":10,\"axis_label_text_color\":\"#E0E0E0\",\"axis_label_text_font\":\"Helvetica\",\"axis_label_text_font_size\":\"1.25em\",\"axis_label_text_font_style\":\"normal\",\"major_label_policy\":{\"type\":\"object\",\"name\":\"AllLabels\",\"id\":\"p361857\"},\"major_label_text_color\":\"#E0E0E0\",\"major_label_text_font\":\"Helvetica\",\"major_label_text_font_size\":\"1.025em\",\"axis_line_color\":\"#E0E0E0\",\"axis_line_alpha\":0,\"major_tick_line_color\":\"#E0E0E0\",\"major_tick_line_alpha\":0,\"minor_tick_line_color\":\"#E0E0E0\",\"minor_tick_line_alpha\":0}}],\"center\":[{\"type\":\"object\",\"name\":\"Grid\",\"id\":\"p361898\",\"attributes\":{\"axis\":{\"id\":\"p361856\"},\"grid_line_color\":\"#E0E0E0\",\"grid_line_alpha\":0.25}},{\"type\":\"object\",\"name\":\"Grid\",\"id\":\"p361905\",\"attributes\":{\"dimension\":1,\"axis\":{\"id\":\"p361899\"},\"grid_line_color\":\"#E0E0E0\",\"grid_line_alpha\":0.25}},{\"type\":\"object\",\"name\":\"Legend\",\"id\":\"p361930\",\"attributes\":{\"location\":\"top_left\",\"title\":\"Lines\",\"border_line_alpha\":0,\"background_fill_color\":\"#20262B\",\"background_fill_alpha\":0.25,\"label_text_color\":\"#E0E0E0\",\"label_text_font\":\"Helvetica\",\"label_text_font_size\":\"1.025em\",\"label_standoff\":8,\"glyph_width\":15,\"spacing\":8,\"items\":[{\"type\":\"object\",\"name\":\"LegendItem\",\"id\":\"p361931\",\"attributes\":{\"label\":{\"type\":\"value\",\"value\":\"Line 1\"},\"renderers\":[{\"id\":\"p361927\"},{\"id\":\"p361938\"}]}},{\"type\":\"object\",\"name\":\"LegendItem\",\"id\":\"p361951\",\"attributes\":{\"label\":{\"type\":\"value\",\"value\":\"Line 2\"},\"renderers\":[{\"id\":\"p361948\"},{\"id\":\"p361958\"}]}}]}}],\"background_fill_color\":\"#20262B\",\"border_fill_color\":\"#15191C\"}}],\"callbacks\":{\"type\":\"map\"}}};\n",
       "  const render_items = [{\"docid\":\"6e6bfb93-037b-4751-8d98-25bc6b4a2796\",\"roots\":{\"p361838\":\"a02ebc97-6df5-44a7-92d7-25ed6e9834cb\"},\"root_ids\":[\"p361838\"]}];\n",
       "  root.Bokeh.embed.embed_items_notebook(docs_json, render_items);\n",
       "  }\n",
       "  if (root.Bokeh !== undefined) {\n",
       "    embed_document(root);\n",
       "  } else {\n",
       "    let attempts = 0;\n",
       "    const timer = setInterval(function(root) {\n",
       "      if (root.Bokeh !== undefined) {\n",
       "        clearInterval(timer);\n",
       "        embed_document(root);\n",
       "      } else {\n",
       "        attempts++;\n",
       "        if (attempts > 100) {\n",
       "          clearInterval(timer);\n",
       "          console.log(\"Bokeh: ERROR: Unable to run BokehJS code because BokehJS library is missing\");\n",
       "        }\n",
       "      }\n",
       "    }, 10, root)\n",
       "  }\n",
       "})(window);"
      ],
      "application/vnd.bokehjs_exec.v0+json": ""
     },
     "metadata": {
      "application/vnd.bokehjs_exec.v0+json": {
       "id": "p361838"
      }
     },
     "output_type": "display_data"
    }
   ],
   "source": [
    "from bokeh.plotting import figure, show\n",
    "from bokeh.models import HoverTool\n",
    "from datetime import datetime\n",
    "import random\n",
    "from bokeh.models import ContinuousColorMapper\n",
    "from bokeh.palettes import Turbo256\n",
    "from bokeh.palettes import Viridis256\n",
    "\n",
    "# Dummy data representing different hour-minute values\n",
    "hour_minutes = [(1, 0), (2, 5), (3, 10), (4, 15), (5, 20), (9, 25)]\n",
    "\n",
    "# Create a list of datetime objects from the hour-minute values\n",
    "x_values = [datetime(datetime.now().year, datetime.now().month, datetime.now().day, hour, minute) for hour, minute in hour_minutes]\n",
    "y_1_values = [i for i in range(len(hour_minutes))]\n",
    "y_2_values = [random.randint(0, 100) for _ in range(len(hour_minutes))]\n",
    "\n",
    "# Create a figure\n",
    "p = figure(\n",
    "    title=\"Dhaka Stock Exchange Live Change\",\n",
    "    x_axis_type=\"datetime\",\n",
    "    sizing_mode=\"scale_both\",\n",
    "    max_width=900,\n",
    "    max_height=300,\n",
    "    width=900,\n",
    "    height=900\n",
    ")\n",
    "\n",
    "p.title.align = \"center\"\n",
    "# Set x-axis and y-axis labels\n",
    "p.xaxis.axis_label = \"Date-Time\"\n",
    "p.yaxis.axis_label = \"Percentage Change (%)\"\n",
    "\n",
    "p.circle(x_values, y_1_values, legend_label=\"Line 1\", line_color='pink')\n",
    "\n",
    "# Add the line with varying colors based on values\n",
    "line1 = p.line(x_values, y_1_values, legend_label=\"Line 1\", line_color='yellow')\n",
    "\n",
    "mapper = linear_cmap(field_name=\"y\", palette=Turbo256, low=min(y_2_values), high=max(y_2_values))\n",
    "\n",
    "p.circle(x_values, y_2_values, legend_label=\"Line 2\", color=mapper, size=10)\n",
    "\n",
    "# Add the line with varying colors based on values\n",
    "line2 = p.line(x_values, y_2_values, legend_label=\"Line 2\", line_color='orange')\n",
    "\n",
    "# Customize the x-axis tick labels\n",
    "p.xaxis.formatter = DatetimeTickFormatter(hours=\"%H:%M\")\n",
    "\n",
    "# Set the theme to dark_minimal\n",
    "curdoc().theme = 'dark_minimal'\n",
    "\n",
    "p.legend.title = 'Lines'\n",
    "p.legend.location = \"top_left\"  # Options: top_left, top_right, bottom_left, bottom_right, center, center_left, center_right\n",
    "\n",
    "# Define tooltips\n",
    "# Define tooltips\n",
    "tooltips = [\n",
    "    (\"x:\", \"@x{%Y-%m-%d %H:%M}\"),\n",
    "    (\"y:\", \"@y\"),\n",
    "]\n",
    "\n",
    "# Add tooltips to both lines\n",
    "hover_tool = HoverTool(renderers=[line1, line2], tooltips=tooltips, formatters={\"@x\": \"datetime\"})\n",
    "p.add_tools(hover_tool)\n",
    "\n",
    "# Show the plot\n",
    "show(p)\n"
   ]
  },
  {
   "cell_type": "code",
   "execution_count": 198,
   "id": "aad43bfc-e813-45c1-8776-8782f1784412",
   "metadata": {},
   "outputs": [
    {
     "data": {
      "text/html": [
       "\n",
       "  <div id=\"cb70bc12-9290-4c40-868d-48f02ce330fc\" data-root-id=\"p405037\" style=\"display: contents;\"></div>\n"
      ]
     },
     "metadata": {},
     "output_type": "display_data"
    },
    {
     "data": {
      "application/javascript": [
       "(function(root) {\n",
       "  function embed_document(root) {\n",
       "  const docs_json = {\"e2a15e48-587d-4383-8af8-1a64ad0ed7ac\":{\"version\":\"3.1.1\",\"title\":\"Bokeh Application\",\"defs\":[],\"roots\":[{\"type\":\"object\",\"name\":\"Figure\",\"id\":\"p405037\",\"attributes\":{\"width\":900,\"height\":900,\"max_width\":900,\"max_height\":300,\"sizing_mode\":\"scale_both\",\"x_range\":{\"type\":\"object\",\"name\":\"DataRange1d\",\"id\":\"p405038\"},\"y_range\":{\"type\":\"object\",\"name\":\"DataRange1d\",\"id\":\"p405039\"},\"x_scale\":{\"type\":\"object\",\"name\":\"LinearScale\",\"id\":\"p405051\"},\"y_scale\":{\"type\":\"object\",\"name\":\"LinearScale\",\"id\":\"p405053\"},\"title\":{\"type\":\"object\",\"name\":\"Title\",\"id\":\"p405040\",\"attributes\":{\"text\":\"Dhaka Stock Exchange Live Change\",\"text_color\":\"#E0E0E0\",\"text_font\":\"Helvetica\",\"text_font_size\":\"1.15em\",\"align\":\"center\"}},\"outline_line_color\":\"#E0E0E0\",\"outline_line_alpha\":0.25,\"renderers\":[{\"type\":\"object\",\"name\":\"GlyphRenderer\",\"id\":\"p405126\",\"attributes\":{\"data_source\":{\"type\":\"object\",\"name\":\"ColumnDataSource\",\"id\":\"p405120\",\"attributes\":{\"selected\":{\"type\":\"object\",\"name\":\"Selection\",\"id\":\"p405122\",\"attributes\":{\"indices\":[],\"line_indices\":[]}},\"selection_policy\":{\"type\":\"object\",\"name\":\"UnionRenderers\",\"id\":\"p405121\"},\"data\":{\"type\":\"map\",\"entries\":[[\"x\",[1684458000000.0,1684461900000.0,1684465800000.0,1684469700000.0,1684473600000.0,1684488300000.0]],[\"y\",[0,1,2,3,4,5]]]}}},\"view\":{\"type\":\"object\",\"name\":\"CDSView\",\"id\":\"p405127\",\"attributes\":{\"filter\":{\"type\":\"object\",\"name\":\"AllIndices\",\"id\":\"p405128\"}}},\"glyph\":{\"type\":\"object\",\"name\":\"Circle\",\"id\":\"p405123\",\"attributes\":{\"x\":{\"type\":\"field\",\"field\":\"x\"},\"y\":{\"type\":\"field\",\"field\":\"y\"},\"line_color\":{\"type\":\"value\",\"value\":\"pink\"},\"fill_color\":{\"type\":\"value\",\"value\":\"#1f77b4\"}}},\"nonselection_glyph\":{\"type\":\"object\",\"name\":\"Circle\",\"id\":\"p405124\",\"attributes\":{\"x\":{\"type\":\"field\",\"field\":\"x\"},\"y\":{\"type\":\"field\",\"field\":\"y\"},\"line_color\":{\"type\":\"value\",\"value\":\"pink\"},\"line_alpha\":{\"type\":\"value\",\"value\":0.1},\"fill_color\":{\"type\":\"value\",\"value\":\"#1f77b4\"},\"fill_alpha\":{\"type\":\"value\",\"value\":0.1},\"hatch_alpha\":{\"type\":\"value\",\"value\":0.1}}},\"muted_glyph\":{\"type\":\"object\",\"name\":\"Circle\",\"id\":\"p405125\",\"attributes\":{\"x\":{\"type\":\"field\",\"field\":\"x\"},\"y\":{\"type\":\"field\",\"field\":\"y\"},\"line_color\":{\"type\":\"value\",\"value\":\"pink\"},\"line_alpha\":{\"type\":\"value\",\"value\":0.2},\"fill_color\":{\"type\":\"value\",\"value\":\"#1f77b4\"},\"fill_alpha\":{\"type\":\"value\",\"value\":0.2},\"hatch_alpha\":{\"type\":\"value\",\"value\":0.2}}}}},{\"type\":\"object\",\"name\":\"GlyphRenderer\",\"id\":\"p405137\",\"attributes\":{\"data_source\":{\"type\":\"object\",\"name\":\"ColumnDataSource\",\"id\":\"p405131\",\"attributes\":{\"selected\":{\"type\":\"object\",\"name\":\"Selection\",\"id\":\"p405133\",\"attributes\":{\"indices\":[],\"line_indices\":[]}},\"selection_policy\":{\"type\":\"object\",\"name\":\"UnionRenderers\",\"id\":\"p405132\"},\"data\":{\"type\":\"map\",\"entries\":[[\"x\",[1684458000000.0,1684461900000.0,1684465800000.0,1684469700000.0,1684473600000.0,1684488300000.0]],[\"y\",[0,1,2,3,4,5]]]}}},\"view\":{\"type\":\"object\",\"name\":\"CDSView\",\"id\":\"p405138\",\"attributes\":{\"filter\":{\"type\":\"object\",\"name\":\"AllIndices\",\"id\":\"p405139\"}}},\"glyph\":{\"type\":\"object\",\"name\":\"Line\",\"id\":\"p405134\",\"attributes\":{\"x\":{\"type\":\"field\",\"field\":\"x\"},\"y\":{\"type\":\"field\",\"field\":\"y\"},\"line_color\":\"yellow\"}},\"nonselection_glyph\":{\"type\":\"object\",\"name\":\"Line\",\"id\":\"p405135\",\"attributes\":{\"x\":{\"type\":\"field\",\"field\":\"x\"},\"y\":{\"type\":\"field\",\"field\":\"y\"},\"line_color\":\"yellow\",\"line_alpha\":0.1}},\"muted_glyph\":{\"type\":\"object\",\"name\":\"Line\",\"id\":\"p405136\",\"attributes\":{\"x\":{\"type\":\"field\",\"field\":\"x\"},\"y\":{\"type\":\"field\",\"field\":\"y\"},\"line_color\":\"yellow\",\"line_alpha\":0.2}}}},{\"type\":\"object\",\"name\":\"GlyphRenderer\",\"id\":\"p405147\",\"attributes\":{\"data_source\":{\"type\":\"object\",\"name\":\"ColumnDataSource\",\"id\":\"p405141\",\"attributes\":{\"selected\":{\"type\":\"object\",\"name\":\"Selection\",\"id\":\"p405143\",\"attributes\":{\"indices\":[],\"line_indices\":[]}},\"selection_policy\":{\"type\":\"object\",\"name\":\"UnionRenderers\",\"id\":\"p405142\"},\"data\":{\"type\":\"map\",\"entries\":[[\"x\",[1684458000000.0,1684461900000.0,1684465800000.0,1684469700000.0,1684473600000.0,1684488300000.0]],[\"y\",[9,65,0,29,52,84]]]}}},\"view\":{\"type\":\"object\",\"name\":\"CDSView\",\"id\":\"p405148\",\"attributes\":{\"filter\":{\"type\":\"object\",\"name\":\"AllIndices\",\"id\":\"p405149\"}}},\"glyph\":{\"type\":\"object\",\"name\":\"Circle\",\"id\":\"p405144\",\"attributes\":{\"x\":{\"type\":\"field\",\"field\":\"x\"},\"y\":{\"type\":\"field\",\"field\":\"y\"},\"size\":{\"type\":\"value\",\"value\":10},\"line_color\":{\"type\":\"field\",\"field\":\"y\",\"transform\":{\"type\":\"object\",\"name\":\"LinearColorMapper\",\"id\":\"p405140\",\"attributes\":{\"palette\":[\"#30123b\",\"#311542\",\"#32184a\",\"#341b51\",\"#351e58\",\"#36215f\",\"#372365\",\"#38266c\",\"#392972\",\"#3a2c79\",\"#3b2f7f\",\"#3c3285\",\"#3c358b\",\"#3d3791\",\"#3e3a96\",\"#3f3d9c\",\"#4040a1\",\"#4043a6\",\"#4145ab\",\"#4148b0\",\"#424bb5\",\"#434eba\",\"#4350be\",\"#4353c2\",\"#4456c7\",\"#4458cb\",\"#455bce\",\"#455ed2\",\"#4560d6\",\"#4563d9\",\"#4666dd\",\"#4668e0\",\"#466be3\",\"#466de6\",\"#4670e8\",\"#4673eb\",\"#4675ed\",\"#4678f0\",\"#467af2\",\"#467df4\",\"#467ff6\",\"#4682f8\",\"#4584f9\",\"#4587fb\",\"#4589fc\",\"#448cfd\",\"#438efd\",\"#4291fe\",\"#4193fe\",\"#4096fe\",\"#3f98fe\",\"#3e9bfe\",\"#3c9dfd\",\"#3ba0fc\",\"#39a2fc\",\"#38a5fb\",\"#36a8f9\",\"#34aaf8\",\"#33acf6\",\"#31aff5\",\"#2fb1f3\",\"#2db4f1\",\"#2bb6ef\",\"#2ab9ed\",\"#28bbeb\",\"#26bde9\",\"#25c0e6\",\"#23c2e4\",\"#21c4e1\",\"#20c6df\",\"#1ec9dc\",\"#1dcbda\",\"#1ccdd7\",\"#1bcfd4\",\"#1ad1d2\",\"#19d3cf\",\"#18d5cc\",\"#18d7ca\",\"#17d9c7\",\"#17dac4\",\"#17dcc2\",\"#17debf\",\"#18e0bd\",\"#18e1ba\",\"#19e3b8\",\"#1ae4b6\",\"#1be5b4\",\"#1de7b1\",\"#1ee8af\",\"#20e9ac\",\"#22eba9\",\"#24eca6\",\"#27eda3\",\"#29eea0\",\"#2cef9d\",\"#2ff09a\",\"#32f197\",\"#35f394\",\"#38f491\",\"#3bf48d\",\"#3ff58a\",\"#42f687\",\"#46f783\",\"#4af880\",\"#4df97c\",\"#51f979\",\"#55fa76\",\"#59fb72\",\"#5dfb6f\",\"#61fc6c\",\"#65fc68\",\"#69fd65\",\"#6dfd62\",\"#71fd5f\",\"#74fe5c\",\"#78fe59\",\"#7cfe56\",\"#80fe53\",\"#84fe50\",\"#87fe4d\",\"#8bfe4b\",\"#8efe48\",\"#92fe46\",\"#95fe44\",\"#98fe42\",\"#9bfd40\",\"#9efd3e\",\"#a1fc3d\",\"#a4fc3b\",\"#a6fb3a\",\"#a9fb39\",\"#acfa37\",\"#aef937\",\"#b1f836\",\"#b3f835\",\"#b6f735\",\"#b9f534\",\"#bbf434\",\"#bef334\",\"#c0f233\",\"#c3f133\",\"#c5ef33\",\"#c8ee33\",\"#caed33\",\"#cdeb34\",\"#cfea34\",\"#d1e834\",\"#d4e735\",\"#d6e535\",\"#d8e335\",\"#dae236\",\"#dde036\",\"#dfde36\",\"#e1dc37\",\"#e3da37\",\"#e5d838\",\"#e7d738\",\"#e8d538\",\"#ead339\",\"#ecd139\",\"#edcf39\",\"#efcd39\",\"#f0cb3a\",\"#f2c83a\",\"#f3c63a\",\"#f4c43a\",\"#f6c23a\",\"#f7c039\",\"#f8be39\",\"#f9bc39\",\"#f9ba38\",\"#fab737\",\"#fbb537\",\"#fbb336\",\"#fcb035\",\"#fcae34\",\"#fdab33\",\"#fda932\",\"#fda631\",\"#fda330\",\"#fea12f\",\"#fe9e2e\",\"#fe9b2d\",\"#fe982c\",\"#fd952b\",\"#fd9229\",\"#fd8f28\",\"#fd8c27\",\"#fc8926\",\"#fc8624\",\"#fb8323\",\"#fb8022\",\"#fa7d20\",\"#fa7a1f\",\"#f9771e\",\"#f8741c\",\"#f7711b\",\"#f76e1a\",\"#f66b18\",\"#f56817\",\"#f46516\",\"#f36315\",\"#f26014\",\"#f15d13\",\"#ef5a11\",\"#ee5810\",\"#ed550f\",\"#ec520e\",\"#ea500d\",\"#e94d0d\",\"#e84b0c\",\"#e6490b\",\"#e5460a\",\"#e3440a\",\"#e24209\",\"#e04008\",\"#de3e08\",\"#dd3c07\",\"#db3a07\",\"#d93806\",\"#d73606\",\"#d63405\",\"#d43205\",\"#d23005\",\"#d02f04\",\"#ce2d04\",\"#cb2b03\",\"#c92903\",\"#c72803\",\"#c52602\",\"#c32402\",\"#c02302\",\"#be2102\",\"#bb1f01\",\"#b91e01\",\"#b61c01\",\"#b41b01\",\"#b11901\",\"#ae1801\",\"#ac1601\",\"#a91501\",\"#a61401\",\"#a31201\",\"#a01101\",\"#9d1001\",\"#9a0e01\",\"#970d01\",\"#940c01\",\"#910b01\",\"#8e0a01\",\"#8b0901\",\"#870801\",\"#840701\",\"#810602\",\"#7d0502\",\"#7a0402\"],\"low\":0,\"high\":84}}},\"fill_color\":{\"type\":\"field\",\"field\":\"y\",\"transform\":{\"id\":\"p405140\"}},\"hatch_color\":{\"type\":\"field\",\"field\":\"y\",\"transform\":{\"id\":\"p405140\"}}}},\"nonselection_glyph\":{\"type\":\"object\",\"name\":\"Circle\",\"id\":\"p405145\",\"attributes\":{\"x\":{\"type\":\"field\",\"field\":\"x\"},\"y\":{\"type\":\"field\",\"field\":\"y\"},\"size\":{\"type\":\"value\",\"value\":10},\"line_color\":{\"type\":\"field\",\"field\":\"y\",\"transform\":{\"id\":\"p405140\"}},\"line_alpha\":{\"type\":\"value\",\"value\":0.1},\"fill_color\":{\"type\":\"field\",\"field\":\"y\",\"transform\":{\"id\":\"p405140\"}},\"fill_alpha\":{\"type\":\"value\",\"value\":0.1},\"hatch_color\":{\"type\":\"field\",\"field\":\"y\",\"transform\":{\"id\":\"p405140\"}},\"hatch_alpha\":{\"type\":\"value\",\"value\":0.1}}},\"muted_glyph\":{\"type\":\"object\",\"name\":\"Circle\",\"id\":\"p405146\",\"attributes\":{\"x\":{\"type\":\"field\",\"field\":\"x\"},\"y\":{\"type\":\"field\",\"field\":\"y\"},\"size\":{\"type\":\"value\",\"value\":10},\"line_color\":{\"type\":\"field\",\"field\":\"y\",\"transform\":{\"id\":\"p405140\"}},\"line_alpha\":{\"type\":\"value\",\"value\":0.2},\"fill_color\":{\"type\":\"field\",\"field\":\"y\",\"transform\":{\"id\":\"p405140\"}},\"fill_alpha\":{\"type\":\"value\",\"value\":0.2},\"hatch_color\":{\"type\":\"field\",\"field\":\"y\",\"transform\":{\"id\":\"p405140\"}},\"hatch_alpha\":{\"type\":\"value\",\"value\":0.2}}}}},{\"type\":\"object\",\"name\":\"GlyphRenderer\",\"id\":\"p405157\",\"attributes\":{\"data_source\":{\"type\":\"object\",\"name\":\"ColumnDataSource\",\"id\":\"p405151\",\"attributes\":{\"selected\":{\"type\":\"object\",\"name\":\"Selection\",\"id\":\"p405153\",\"attributes\":{\"indices\":[],\"line_indices\":[]}},\"selection_policy\":{\"type\":\"object\",\"name\":\"UnionRenderers\",\"id\":\"p405152\"},\"data\":{\"type\":\"map\",\"entries\":[[\"x\",[1684458000000.0,1684461900000.0,1684465800000.0,1684469700000.0,1684473600000.0,1684488300000.0]],[\"y\",[9,65,0,29,52,84]]]}}},\"view\":{\"type\":\"object\",\"name\":\"CDSView\",\"id\":\"p405158\",\"attributes\":{\"filter\":{\"type\":\"object\",\"name\":\"AllIndices\",\"id\":\"p405159\"}}},\"glyph\":{\"type\":\"object\",\"name\":\"Line\",\"id\":\"p405154\",\"attributes\":{\"x\":{\"type\":\"field\",\"field\":\"x\"},\"y\":{\"type\":\"field\",\"field\":\"y\"},\"line_color\":\"orange\"}},\"nonselection_glyph\":{\"type\":\"object\",\"name\":\"Line\",\"id\":\"p405155\",\"attributes\":{\"x\":{\"type\":\"field\",\"field\":\"x\"},\"y\":{\"type\":\"field\",\"field\":\"y\"},\"line_color\":\"orange\",\"line_alpha\":0.1}},\"muted_glyph\":{\"type\":\"object\",\"name\":\"Line\",\"id\":\"p405156\",\"attributes\":{\"x\":{\"type\":\"field\",\"field\":\"x\"},\"y\":{\"type\":\"field\",\"field\":\"y\"},\"line_color\":\"orange\",\"line_alpha\":0.2}}}}],\"toolbar\":{\"type\":\"object\",\"name\":\"Toolbar\",\"id\":\"p405043\",\"attributes\":{\"tools\":[{\"type\":\"object\",\"name\":\"PanTool\",\"id\":\"p405105\"},{\"type\":\"object\",\"name\":\"WheelZoomTool\",\"id\":\"p405106\"},{\"type\":\"object\",\"name\":\"BoxZoomTool\",\"id\":\"p405107\",\"attributes\":{\"overlay\":{\"type\":\"object\",\"name\":\"BoxAnnotation\",\"id\":\"p405108\",\"attributes\":{\"syncable\":false,\"level\":\"overlay\",\"visible\":false,\"left_units\":\"canvas\",\"right_units\":\"canvas\",\"bottom_units\":\"canvas\",\"top_units\":\"canvas\",\"line_color\":\"black\",\"line_alpha\":1.0,\"line_width\":2,\"line_dash\":[4,4],\"fill_color\":\"lightgrey\",\"fill_alpha\":0.5}}}},{\"type\":\"object\",\"name\":\"SaveTool\",\"id\":\"p405109\"},{\"type\":\"object\",\"name\":\"ResetTool\",\"id\":\"p405110\"},{\"type\":\"object\",\"name\":\"HelpTool\",\"id\":\"p405111\"},{\"type\":\"object\",\"name\":\"HoverTool\",\"id\":\"p405162\",\"attributes\":{\"renderers\":[{\"id\":\"p405137\"},{\"id\":\"p405157\"}],\"tooltips\":[[\"Date\",\"@x{%F}\"],[\"Value\",\"@y\"]],\"formatters\":{\"type\":\"map\",\"entries\":[[\"@x\",\"datetime\"]]}}}]}},\"left\":[{\"type\":\"object\",\"name\":\"LinearAxis\",\"id\":\"p405098\",\"attributes\":{\"ticker\":{\"type\":\"object\",\"name\":\"BasicTicker\",\"id\":\"p405101\",\"attributes\":{\"mantissas\":[1,2,5]}},\"formatter\":{\"type\":\"object\",\"name\":\"BasicTickFormatter\",\"id\":\"p405100\"},\"axis_label\":\"Percentage Change (%)\",\"axis_label_standoff\":10,\"axis_label_text_color\":\"#E0E0E0\",\"axis_label_text_font\":\"Helvetica\",\"axis_label_text_font_size\":\"1.25em\",\"axis_label_text_font_style\":\"normal\",\"major_label_policy\":{\"type\":\"object\",\"name\":\"AllLabels\",\"id\":\"p405099\"},\"major_label_text_color\":\"#E0E0E0\",\"major_label_text_font\":\"Helvetica\",\"major_label_text_font_size\":\"1.025em\",\"axis_line_color\":\"#E0E0E0\",\"axis_line_alpha\":0,\"major_tick_line_color\":\"#E0E0E0\",\"major_tick_line_alpha\":0,\"minor_tick_line_color\":\"#E0E0E0\",\"minor_tick_line_alpha\":0}}],\"below\":[{\"type\":\"object\",\"name\":\"DatetimeAxis\",\"id\":\"p405055\",\"attributes\":{\"ticker\":{\"type\":\"object\",\"name\":\"DatetimeTicker\",\"id\":\"p405058\",\"attributes\":{\"num_minor_ticks\":5,\"tickers\":[{\"type\":\"object\",\"name\":\"AdaptiveTicker\",\"id\":\"p405059\",\"attributes\":{\"num_minor_ticks\":0,\"mantissas\":[1,2,5],\"max_interval\":500.0}},{\"type\":\"object\",\"name\":\"AdaptiveTicker\",\"id\":\"p405060\",\"attributes\":{\"num_minor_ticks\":0,\"base\":60,\"mantissas\":[1,2,5,10,15,20,30],\"min_interval\":1000.0,\"max_interval\":1800000.0}},{\"type\":\"object\",\"name\":\"AdaptiveTicker\",\"id\":\"p405061\",\"attributes\":{\"num_minor_ticks\":0,\"base\":24,\"mantissas\":[1,2,4,6,8,12],\"min_interval\":3600000.0,\"max_interval\":43200000.0}},{\"type\":\"object\",\"name\":\"DaysTicker\",\"id\":\"p405062\",\"attributes\":{\"days\":[1,2,3,4,5,6,7,8,9,10,11,12,13,14,15,16,17,18,19,20,21,22,23,24,25,26,27,28,29,30,31]}},{\"type\":\"object\",\"name\":\"DaysTicker\",\"id\":\"p405063\",\"attributes\":{\"days\":[1,4,7,10,13,16,19,22,25,28]}},{\"type\":\"object\",\"name\":\"DaysTicker\",\"id\":\"p405064\",\"attributes\":{\"days\":[1,8,15,22]}},{\"type\":\"object\",\"name\":\"DaysTicker\",\"id\":\"p405065\",\"attributes\":{\"days\":[1,15]}},{\"type\":\"object\",\"name\":\"MonthsTicker\",\"id\":\"p405066\",\"attributes\":{\"months\":[0,1,2,3,4,5,6,7,8,9,10,11]}},{\"type\":\"object\",\"name\":\"MonthsTicker\",\"id\":\"p405067\",\"attributes\":{\"months\":[0,2,4,6,8,10]}},{\"type\":\"object\",\"name\":\"MonthsTicker\",\"id\":\"p405068\",\"attributes\":{\"months\":[0,4,8]}},{\"type\":\"object\",\"name\":\"MonthsTicker\",\"id\":\"p405069\",\"attributes\":{\"months\":[0,6]}},{\"type\":\"object\",\"name\":\"YearsTicker\",\"id\":\"p405070\"}]}},\"formatter\":{\"type\":\"object\",\"name\":\"DatetimeTickFormatter\",\"id\":\"p405160\",\"attributes\":{\"hours\":\"%H:%M\"}},\"axis_label\":\"Date-Time\",\"axis_label_standoff\":10,\"axis_label_text_color\":\"#E0E0E0\",\"axis_label_text_font\":\"Helvetica\",\"axis_label_text_font_size\":\"1.25em\",\"axis_label_text_font_style\":\"normal\",\"major_label_policy\":{\"type\":\"object\",\"name\":\"AllLabels\",\"id\":\"p405056\"},\"major_label_text_color\":\"#E0E0E0\",\"major_label_text_font\":\"Helvetica\",\"major_label_text_font_size\":\"1.025em\",\"axis_line_color\":\"#E0E0E0\",\"axis_line_alpha\":0,\"major_tick_line_color\":\"#E0E0E0\",\"major_tick_line_alpha\":0,\"minor_tick_line_color\":\"#E0E0E0\",\"minor_tick_line_alpha\":0}}],\"center\":[{\"type\":\"object\",\"name\":\"Grid\",\"id\":\"p405097\",\"attributes\":{\"axis\":{\"id\":\"p405055\"},\"grid_line_color\":\"#E0E0E0\",\"grid_line_alpha\":0.25}},{\"type\":\"object\",\"name\":\"Grid\",\"id\":\"p405104\",\"attributes\":{\"dimension\":1,\"axis\":{\"id\":\"p405098\"},\"grid_line_color\":\"#E0E0E0\",\"grid_line_alpha\":0.25}},{\"type\":\"object\",\"name\":\"Legend\",\"id\":\"p405129\",\"attributes\":{\"location\":\"top_left\",\"title\":\"Lines\",\"border_line_alpha\":0,\"background_fill_color\":\"#20262B\",\"background_fill_alpha\":0.25,\"label_text_color\":\"#E0E0E0\",\"label_text_font\":\"Helvetica\",\"label_text_font_size\":\"1.025em\",\"label_standoff\":8,\"glyph_width\":15,\"spacing\":8,\"items\":[{\"type\":\"object\",\"name\":\"LegendItem\",\"id\":\"p405130\",\"attributes\":{\"label\":{\"type\":\"value\",\"value\":\"Line 1\"},\"renderers\":[{\"id\":\"p405126\"},{\"id\":\"p405137\"}]}},{\"type\":\"object\",\"name\":\"LegendItem\",\"id\":\"p405150\",\"attributes\":{\"label\":{\"type\":\"value\",\"value\":\"Line 2\"},\"renderers\":[{\"id\":\"p405147\"},{\"id\":\"p405157\"}]}}]}}],\"background_fill_color\":\"#20262B\",\"border_fill_color\":\"#15191C\"}}],\"callbacks\":{\"type\":\"map\"}}};\n",
       "  const render_items = [{\"docid\":\"e2a15e48-587d-4383-8af8-1a64ad0ed7ac\",\"roots\":{\"p405037\":\"cb70bc12-9290-4c40-868d-48f02ce330fc\"},\"root_ids\":[\"p405037\"]}];\n",
       "  root.Bokeh.embed.embed_items_notebook(docs_json, render_items);\n",
       "  }\n",
       "  if (root.Bokeh !== undefined) {\n",
       "    embed_document(root);\n",
       "  } else {\n",
       "    let attempts = 0;\n",
       "    const timer = setInterval(function(root) {\n",
       "      if (root.Bokeh !== undefined) {\n",
       "        clearInterval(timer);\n",
       "        embed_document(root);\n",
       "      } else {\n",
       "        attempts++;\n",
       "        if (attempts > 100) {\n",
       "          clearInterval(timer);\n",
       "          console.log(\"Bokeh: ERROR: Unable to run BokehJS code because BokehJS library is missing\");\n",
       "        }\n",
       "      }\n",
       "    }, 10, root)\n",
       "  }\n",
       "})(window);"
      ],
      "application/vnd.bokehjs_exec.v0+json": ""
     },
     "metadata": {
      "application/vnd.bokehjs_exec.v0+json": {
       "id": "p405037"
      }
     },
     "output_type": "display_data"
    }
   ],
   "source": [
    "from bokeh.plotting import figure, show\n",
    "from bokeh.models import HoverTool\n",
    "from datetime import datetime\n",
    "import random\n",
    "from bokeh.models import ContinuousColorMapper\n",
    "from bokeh.palettes import Turbo256\n",
    "from bokeh.palettes import Viridis256\n",
    "\n",
    "# Dummy data representing different hour-minute values\n",
    "hour_minutes = [(1, 0), (2, 5), (3, 10), (4, 15), (5, 20), (9, 25)]\n",
    "\n",
    "# Create a list of datetime objects from the hour-minute values\n",
    "x_values = [datetime(datetime.now().year, datetime.now().month, datetime.now().day, hour, minute) for hour, minute in hour_minutes]\n",
    "y_1_values = [i for i in range(len(hour_minutes))]\n",
    "y_2_values = [random.randint(0, 100) for _ in range(len(hour_minutes))]\n",
    "\n",
    "# Create a figure\n",
    "p = figure(\n",
    "    title=\"Dhaka Stock Exchange Live Change\",\n",
    "    x_axis_type=\"datetime\",\n",
    "    sizing_mode=\"scale_both\",\n",
    "    max_width=900,\n",
    "    max_height=300,\n",
    "    width=900,\n",
    "    height=900\n",
    ")\n",
    "\n",
    "p.title.align = \"center\"\n",
    "# Set x-axis and y-axis labels\n",
    "p.xaxis.axis_label = \"Date-Time\"\n",
    "p.yaxis.axis_label = \"Percentage Change (%)\"\n",
    "\n",
    "p.circle(x_values, y_1_values, legend_label=\"Line 1\", line_color='pink')\n",
    "\n",
    "# Add the line with varying colors based on values\n",
    "line1 = p.line(x_values, y_1_values, legend_label=\"Line 1\", line_color='yellow')\n",
    "\n",
    "mapper = linear_cmap(field_name=\"y\", palette=Turbo256, low=min(y_2_values), high=max(y_2_values))\n",
    "\n",
    "p.circle(x_values, y_2_values, legend_label=\"Line 2\", color=mapper, size=10)\n",
    "\n",
    "# Add the line with varying colors based on values\n",
    "line2 = p.line(x_values, y_2_values, legend_label=\"Line 2\", line_color='orange')\n",
    "\n",
    "# Customize the x-axis tick labels\n",
    "p.xaxis.formatter = DatetimeTickFormatter(hours=\"%H:%M\")\n",
    "\n",
    "# Set the theme to dark_minimal\n",
    "curdoc().theme = 'dark_minimal'\n",
    "\n",
    "p.legend.title = 'Lines'\n",
    "p.legend.location = \"top_left\"  # Options: top_left, top_right, bottom_left, bottom_right, center, center_left, center_right\n",
    "\n",
    "# Define tooltips\n",
    "# Define tooltips\n",
    "tooltips = [\n",
    "    (\"x:\", \"@x{%Y-%m-%d %H:%M}\"),\n",
    "    (\"y:\", \"@y\"),\n",
    "]\n",
    "\n",
    "# Add tooltips to both lines\n",
    "# hover_tool = HoverTool(renderers=[line1, line2], tooltips=tooltips, formatters={\"@x\": \"datetime\"})\n",
    "# p.add_tools(hover_tool)\n",
    "\n",
    "line_renderers = [line1, line2]\n",
    "\n",
    "# Add hover interactivity\n",
    "hover = HoverTool(renderers=line_renderers, tooltips=[(\"Date\", \"@x{%F}\"), (\"Value\", \"@y\")], formatters={\"@x\": \"datetime\"})\n",
    "hover.point_policy = \"snap_to_data\"\n",
    "hover.mode = \"mouse\"\n",
    "p.add_tools(hover)\n",
    "\n",
    "\n",
    "# Show the plot\n",
    "show(p)\n"
   ]
  },
  {
   "cell_type": "code",
   "execution_count": 225,
   "id": "a6616dd7-c11d-4566-b640-66377d9056e7",
   "metadata": {},
   "outputs": [
    {
     "data": {
      "text/html": [
       "\n",
       "  <div id=\"d68bce19-8c89-4e8f-a828-6cfd5fd9dc29\" data-root-id=\"p492281\" style=\"display: contents;\"></div>\n"
      ]
     },
     "metadata": {},
     "output_type": "display_data"
    },
    {
     "data": {
      "application/javascript": [
       "(function(root) {\n",
       "  function embed_document(root) {\n",
       "  const docs_json = {\"b2c15f9e-4106-4b86-8420-3a09246ab5ed\":{\"version\":\"3.1.1\",\"title\":\"Bokeh Application\",\"defs\":[],\"roots\":[{\"type\":\"object\",\"name\":\"Figure\",\"id\":\"p492281\",\"attributes\":{\"width\":900,\"height\":900,\"max_width\":900,\"max_height\":300,\"sizing_mode\":\"scale_both\",\"x_range\":{\"type\":\"object\",\"name\":\"DataRange1d\",\"id\":\"p492282\"},\"y_range\":{\"type\":\"object\",\"name\":\"DataRange1d\",\"id\":\"p492283\"},\"x_scale\":{\"type\":\"object\",\"name\":\"LinearScale\",\"id\":\"p492295\"},\"y_scale\":{\"type\":\"object\",\"name\":\"LinearScale\",\"id\":\"p492297\"},\"title\":{\"type\":\"object\",\"name\":\"Title\",\"id\":\"p492284\",\"attributes\":{\"text\":\"Dhaka Stock Exchange Live Change\",\"text_color\":\"#E0E0E0\",\"text_font\":\"Helvetica\",\"text_font_size\":\"1.15em\",\"align\":\"center\"}},\"outline_line_color\":\"#E0E0E0\",\"outline_line_alpha\":0.25,\"renderers\":[{\"type\":\"object\",\"name\":\"GlyphRenderer\",\"id\":\"p492373\",\"attributes\":{\"data_source\":{\"type\":\"object\",\"name\":\"ColumnDataSource\",\"id\":\"p492364\",\"attributes\":{\"selected\":{\"type\":\"object\",\"name\":\"Selection\",\"id\":\"p492366\",\"attributes\":{\"indices\":[],\"line_indices\":[]}},\"selection_policy\":{\"type\":\"object\",\"name\":\"UnionRenderers\",\"id\":\"p492365\"},\"data\":{\"type\":\"map\",\"entries\":[[\"x_values\",[1684544400000.0,1684548300000.0,1684552200000.0,1684556100000.0,1684560000000.0,1684574700000.0]],[\"y_1_values\",[0,1,2,3,4,5]],[\"y_2_values\",[93,98,83,74,70,92]]]}}},\"view\":{\"type\":\"object\",\"name\":\"CDSView\",\"id\":\"p492374\",\"attributes\":{\"filter\":{\"type\":\"object\",\"name\":\"AllIndices\",\"id\":\"p492375\"}}},\"glyph\":{\"type\":\"object\",\"name\":\"Circle\",\"id\":\"p492370\",\"attributes\":{\"x\":{\"type\":\"field\",\"field\":\"x_values\"},\"y\":{\"type\":\"field\",\"field\":\"y_1_values\"},\"line_color\":{\"type\":\"value\",\"value\":\"pink\"},\"fill_color\":{\"type\":\"value\",\"value\":\"#1f77b4\"}}},\"nonselection_glyph\":{\"type\":\"object\",\"name\":\"Circle\",\"id\":\"p492371\",\"attributes\":{\"x\":{\"type\":\"field\",\"field\":\"x_values\"},\"y\":{\"type\":\"field\",\"field\":\"y_1_values\"},\"line_color\":{\"type\":\"value\",\"value\":\"pink\"},\"line_alpha\":{\"type\":\"value\",\"value\":0.1},\"fill_color\":{\"type\":\"value\",\"value\":\"#1f77b4\"},\"fill_alpha\":{\"type\":\"value\",\"value\":0.1},\"hatch_alpha\":{\"type\":\"value\",\"value\":0.1}}},\"muted_glyph\":{\"type\":\"object\",\"name\":\"Circle\",\"id\":\"p492372\",\"attributes\":{\"x\":{\"type\":\"field\",\"field\":\"x_values\"},\"y\":{\"type\":\"field\",\"field\":\"y_1_values\"},\"line_color\":{\"type\":\"value\",\"value\":\"pink\"},\"line_alpha\":{\"type\":\"value\",\"value\":0.2},\"fill_color\":{\"type\":\"value\",\"value\":\"#1f77b4\"},\"fill_alpha\":{\"type\":\"value\",\"value\":0.2},\"hatch_alpha\":{\"type\":\"value\",\"value\":0.2}}}}},{\"type\":\"object\",\"name\":\"GlyphRenderer\",\"id\":\"p492384\",\"attributes\":{\"data_source\":{\"id\":\"p492364\"},\"view\":{\"type\":\"object\",\"name\":\"CDSView\",\"id\":\"p492385\",\"attributes\":{\"filter\":{\"type\":\"object\",\"name\":\"AllIndices\",\"id\":\"p492386\"}}},\"glyph\":{\"type\":\"object\",\"name\":\"Line\",\"id\":\"p492381\",\"attributes\":{\"x\":{\"type\":\"field\",\"field\":\"x_values\"},\"y\":{\"type\":\"field\",\"field\":\"y_1_values\"},\"line_color\":\"yellow\"}},\"nonselection_glyph\":{\"type\":\"object\",\"name\":\"Line\",\"id\":\"p492382\",\"attributes\":{\"x\":{\"type\":\"field\",\"field\":\"x_values\"},\"y\":{\"type\":\"field\",\"field\":\"y_1_values\"},\"line_color\":\"yellow\",\"line_alpha\":0.1}},\"muted_glyph\":{\"type\":\"object\",\"name\":\"Line\",\"id\":\"p492383\",\"attributes\":{\"x\":{\"type\":\"field\",\"field\":\"x_values\"},\"y\":{\"type\":\"field\",\"field\":\"y_1_values\"},\"line_color\":\"yellow\",\"line_alpha\":0.2}}}},{\"type\":\"object\",\"name\":\"GlyphRenderer\",\"id\":\"p492394\",\"attributes\":{\"data_source\":{\"id\":\"p492364\"},\"view\":{\"type\":\"object\",\"name\":\"CDSView\",\"id\":\"p492395\",\"attributes\":{\"filter\":{\"type\":\"object\",\"name\":\"AllIndices\",\"id\":\"p492396\"}}},\"glyph\":{\"type\":\"object\",\"name\":\"Circle\",\"id\":\"p492391\",\"attributes\":{\"x\":{\"type\":\"field\",\"field\":\"x_values\"},\"y\":{\"type\":\"field\",\"field\":\"y_2_values\"},\"size\":{\"type\":\"value\",\"value\":10},\"line_color\":{\"type\":\"field\",\"field\":\"y_2_values\",\"transform\":{\"type\":\"object\",\"name\":\"LinearColorMapper\",\"id\":\"p492387\",\"attributes\":{\"palette\":[\"#30123b\",\"#311542\",\"#32184a\",\"#341b51\",\"#351e58\",\"#36215f\",\"#372365\",\"#38266c\",\"#392972\",\"#3a2c79\",\"#3b2f7f\",\"#3c3285\",\"#3c358b\",\"#3d3791\",\"#3e3a96\",\"#3f3d9c\",\"#4040a1\",\"#4043a6\",\"#4145ab\",\"#4148b0\",\"#424bb5\",\"#434eba\",\"#4350be\",\"#4353c2\",\"#4456c7\",\"#4458cb\",\"#455bce\",\"#455ed2\",\"#4560d6\",\"#4563d9\",\"#4666dd\",\"#4668e0\",\"#466be3\",\"#466de6\",\"#4670e8\",\"#4673eb\",\"#4675ed\",\"#4678f0\",\"#467af2\",\"#467df4\",\"#467ff6\",\"#4682f8\",\"#4584f9\",\"#4587fb\",\"#4589fc\",\"#448cfd\",\"#438efd\",\"#4291fe\",\"#4193fe\",\"#4096fe\",\"#3f98fe\",\"#3e9bfe\",\"#3c9dfd\",\"#3ba0fc\",\"#39a2fc\",\"#38a5fb\",\"#36a8f9\",\"#34aaf8\",\"#33acf6\",\"#31aff5\",\"#2fb1f3\",\"#2db4f1\",\"#2bb6ef\",\"#2ab9ed\",\"#28bbeb\",\"#26bde9\",\"#25c0e6\",\"#23c2e4\",\"#21c4e1\",\"#20c6df\",\"#1ec9dc\",\"#1dcbda\",\"#1ccdd7\",\"#1bcfd4\",\"#1ad1d2\",\"#19d3cf\",\"#18d5cc\",\"#18d7ca\",\"#17d9c7\",\"#17dac4\",\"#17dcc2\",\"#17debf\",\"#18e0bd\",\"#18e1ba\",\"#19e3b8\",\"#1ae4b6\",\"#1be5b4\",\"#1de7b1\",\"#1ee8af\",\"#20e9ac\",\"#22eba9\",\"#24eca6\",\"#27eda3\",\"#29eea0\",\"#2cef9d\",\"#2ff09a\",\"#32f197\",\"#35f394\",\"#38f491\",\"#3bf48d\",\"#3ff58a\",\"#42f687\",\"#46f783\",\"#4af880\",\"#4df97c\",\"#51f979\",\"#55fa76\",\"#59fb72\",\"#5dfb6f\",\"#61fc6c\",\"#65fc68\",\"#69fd65\",\"#6dfd62\",\"#71fd5f\",\"#74fe5c\",\"#78fe59\",\"#7cfe56\",\"#80fe53\",\"#84fe50\",\"#87fe4d\",\"#8bfe4b\",\"#8efe48\",\"#92fe46\",\"#95fe44\",\"#98fe42\",\"#9bfd40\",\"#9efd3e\",\"#a1fc3d\",\"#a4fc3b\",\"#a6fb3a\",\"#a9fb39\",\"#acfa37\",\"#aef937\",\"#b1f836\",\"#b3f835\",\"#b6f735\",\"#b9f534\",\"#bbf434\",\"#bef334\",\"#c0f233\",\"#c3f133\",\"#c5ef33\",\"#c8ee33\",\"#caed33\",\"#cdeb34\",\"#cfea34\",\"#d1e834\",\"#d4e735\",\"#d6e535\",\"#d8e335\",\"#dae236\",\"#dde036\",\"#dfde36\",\"#e1dc37\",\"#e3da37\",\"#e5d838\",\"#e7d738\",\"#e8d538\",\"#ead339\",\"#ecd139\",\"#edcf39\",\"#efcd39\",\"#f0cb3a\",\"#f2c83a\",\"#f3c63a\",\"#f4c43a\",\"#f6c23a\",\"#f7c039\",\"#f8be39\",\"#f9bc39\",\"#f9ba38\",\"#fab737\",\"#fbb537\",\"#fbb336\",\"#fcb035\",\"#fcae34\",\"#fdab33\",\"#fda932\",\"#fda631\",\"#fda330\",\"#fea12f\",\"#fe9e2e\",\"#fe9b2d\",\"#fe982c\",\"#fd952b\",\"#fd9229\",\"#fd8f28\",\"#fd8c27\",\"#fc8926\",\"#fc8624\",\"#fb8323\",\"#fb8022\",\"#fa7d20\",\"#fa7a1f\",\"#f9771e\",\"#f8741c\",\"#f7711b\",\"#f76e1a\",\"#f66b18\",\"#f56817\",\"#f46516\",\"#f36315\",\"#f26014\",\"#f15d13\",\"#ef5a11\",\"#ee5810\",\"#ed550f\",\"#ec520e\",\"#ea500d\",\"#e94d0d\",\"#e84b0c\",\"#e6490b\",\"#e5460a\",\"#e3440a\",\"#e24209\",\"#e04008\",\"#de3e08\",\"#dd3c07\",\"#db3a07\",\"#d93806\",\"#d73606\",\"#d63405\",\"#d43205\",\"#d23005\",\"#d02f04\",\"#ce2d04\",\"#cb2b03\",\"#c92903\",\"#c72803\",\"#c52602\",\"#c32402\",\"#c02302\",\"#be2102\",\"#bb1f01\",\"#b91e01\",\"#b61c01\",\"#b41b01\",\"#b11901\",\"#ae1801\",\"#ac1601\",\"#a91501\",\"#a61401\",\"#a31201\",\"#a01101\",\"#9d1001\",\"#9a0e01\",\"#970d01\",\"#940c01\",\"#910b01\",\"#8e0a01\",\"#8b0901\",\"#870801\",\"#840701\",\"#810602\",\"#7d0502\",\"#7a0402\"],\"low\":98,\"high\":70}}},\"fill_color\":{\"type\":\"field\",\"field\":\"y_2_values\",\"transform\":{\"id\":\"p492387\"}},\"hatch_color\":{\"type\":\"field\",\"field\":\"y_2_values\",\"transform\":{\"id\":\"p492387\"}}}},\"nonselection_glyph\":{\"type\":\"object\",\"name\":\"Circle\",\"id\":\"p492392\",\"attributes\":{\"x\":{\"type\":\"field\",\"field\":\"x_values\"},\"y\":{\"type\":\"field\",\"field\":\"y_2_values\"},\"size\":{\"type\":\"value\",\"value\":10},\"line_color\":{\"type\":\"field\",\"field\":\"y_2_values\",\"transform\":{\"id\":\"p492387\"}},\"line_alpha\":{\"type\":\"value\",\"value\":0.1},\"fill_color\":{\"type\":\"field\",\"field\":\"y_2_values\",\"transform\":{\"id\":\"p492387\"}},\"fill_alpha\":{\"type\":\"value\",\"value\":0.1},\"hatch_color\":{\"type\":\"field\",\"field\":\"y_2_values\",\"transform\":{\"id\":\"p492387\"}},\"hatch_alpha\":{\"type\":\"value\",\"value\":0.1}}},\"muted_glyph\":{\"type\":\"object\",\"name\":\"Circle\",\"id\":\"p492393\",\"attributes\":{\"x\":{\"type\":\"field\",\"field\":\"x_values\"},\"y\":{\"type\":\"field\",\"field\":\"y_2_values\"},\"size\":{\"type\":\"value\",\"value\":10},\"line_color\":{\"type\":\"field\",\"field\":\"y_2_values\",\"transform\":{\"id\":\"p492387\"}},\"line_alpha\":{\"type\":\"value\",\"value\":0.2},\"fill_color\":{\"type\":\"field\",\"field\":\"y_2_values\",\"transform\":{\"id\":\"p492387\"}},\"fill_alpha\":{\"type\":\"value\",\"value\":0.2},\"hatch_color\":{\"type\":\"field\",\"field\":\"y_2_values\",\"transform\":{\"id\":\"p492387\"}},\"hatch_alpha\":{\"type\":\"value\",\"value\":0.2}}}}},{\"type\":\"object\",\"name\":\"GlyphRenderer\",\"id\":\"p492404\",\"attributes\":{\"data_source\":{\"id\":\"p492364\"},\"view\":{\"type\":\"object\",\"name\":\"CDSView\",\"id\":\"p492405\",\"attributes\":{\"filter\":{\"type\":\"object\",\"name\":\"AllIndices\",\"id\":\"p492406\"}}},\"glyph\":{\"type\":\"object\",\"name\":\"Line\",\"id\":\"p492401\",\"attributes\":{\"x\":{\"type\":\"field\",\"field\":\"x_values\"},\"y\":{\"type\":\"field\",\"field\":\"y_2_values\"},\"line_color\":\"orange\"}},\"nonselection_glyph\":{\"type\":\"object\",\"name\":\"Line\",\"id\":\"p492402\",\"attributes\":{\"x\":{\"type\":\"field\",\"field\":\"x_values\"},\"y\":{\"type\":\"field\",\"field\":\"y_2_values\"},\"line_color\":\"orange\",\"line_alpha\":0.1}},\"muted_glyph\":{\"type\":\"object\",\"name\":\"Line\",\"id\":\"p492403\",\"attributes\":{\"x\":{\"type\":\"field\",\"field\":\"x_values\"},\"y\":{\"type\":\"field\",\"field\":\"y_2_values\"},\"line_color\":\"orange\",\"line_alpha\":0.2}}}}],\"toolbar\":{\"type\":\"object\",\"name\":\"Toolbar\",\"id\":\"p492287\",\"attributes\":{\"tools\":[{\"type\":\"object\",\"name\":\"PanTool\",\"id\":\"p492349\"},{\"type\":\"object\",\"name\":\"WheelZoomTool\",\"id\":\"p492350\"},{\"type\":\"object\",\"name\":\"BoxZoomTool\",\"id\":\"p492351\",\"attributes\":{\"overlay\":{\"type\":\"object\",\"name\":\"BoxAnnotation\",\"id\":\"p492352\",\"attributes\":{\"syncable\":false,\"level\":\"overlay\",\"visible\":false,\"left_units\":\"canvas\",\"right_units\":\"canvas\",\"bottom_units\":\"canvas\",\"top_units\":\"canvas\",\"line_color\":\"black\",\"line_alpha\":1.0,\"line_width\":2,\"line_dash\":[4,4],\"fill_color\":\"lightgrey\",\"fill_alpha\":0.5}}}},{\"type\":\"object\",\"name\":\"SaveTool\",\"id\":\"p492353\"},{\"type\":\"object\",\"name\":\"ResetTool\",\"id\":\"p492354\"},{\"type\":\"object\",\"name\":\"HelpTool\",\"id\":\"p492355\"},{\"type\":\"object\",\"name\":\"HoverTool\",\"id\":\"p492409\",\"attributes\":{\"renderers\":[{\"id\":\"p492384\"},{\"id\":\"p492404\"}],\"tooltips\":[[\"Date\",\"@x{%F}\"],[\"Value\",\"@y\"]],\"formatters\":{\"type\":\"map\",\"entries\":[[\"@x\",\"datetime\"]]}}}]}},\"left\":[{\"type\":\"object\",\"name\":\"LinearAxis\",\"id\":\"p492342\",\"attributes\":{\"ticker\":{\"type\":\"object\",\"name\":\"BasicTicker\",\"id\":\"p492345\",\"attributes\":{\"mantissas\":[1,2,5]}},\"formatter\":{\"type\":\"object\",\"name\":\"BasicTickFormatter\",\"id\":\"p492344\"},\"axis_label\":\"Percentage Change (%)\",\"axis_label_standoff\":10,\"axis_label_text_color\":\"#E0E0E0\",\"axis_label_text_font\":\"Helvetica\",\"axis_label_text_font_size\":\"1.25em\",\"axis_label_text_font_style\":\"normal\",\"major_label_policy\":{\"type\":\"object\",\"name\":\"AllLabels\",\"id\":\"p492343\"},\"major_label_text_color\":\"#E0E0E0\",\"major_label_text_font\":\"Helvetica\",\"major_label_text_font_size\":\"1.025em\",\"axis_line_color\":\"#E0E0E0\",\"axis_line_alpha\":0,\"major_tick_line_color\":\"#E0E0E0\",\"major_tick_line_alpha\":0,\"minor_tick_line_color\":\"#E0E0E0\",\"minor_tick_line_alpha\":0}}],\"below\":[{\"type\":\"object\",\"name\":\"DatetimeAxis\",\"id\":\"p492299\",\"attributes\":{\"ticker\":{\"type\":\"object\",\"name\":\"DatetimeTicker\",\"id\":\"p492302\",\"attributes\":{\"num_minor_ticks\":5,\"tickers\":[{\"type\":\"object\",\"name\":\"AdaptiveTicker\",\"id\":\"p492303\",\"attributes\":{\"num_minor_ticks\":0,\"mantissas\":[1,2,5],\"max_interval\":500.0}},{\"type\":\"object\",\"name\":\"AdaptiveTicker\",\"id\":\"p492304\",\"attributes\":{\"num_minor_ticks\":0,\"base\":60,\"mantissas\":[1,2,5,10,15,20,30],\"min_interval\":1000.0,\"max_interval\":1800000.0}},{\"type\":\"object\",\"name\":\"AdaptiveTicker\",\"id\":\"p492305\",\"attributes\":{\"num_minor_ticks\":0,\"base\":24,\"mantissas\":[1,2,4,6,8,12],\"min_interval\":3600000.0,\"max_interval\":43200000.0}},{\"type\":\"object\",\"name\":\"DaysTicker\",\"id\":\"p492306\",\"attributes\":{\"days\":[1,2,3,4,5,6,7,8,9,10,11,12,13,14,15,16,17,18,19,20,21,22,23,24,25,26,27,28,29,30,31]}},{\"type\":\"object\",\"name\":\"DaysTicker\",\"id\":\"p492307\",\"attributes\":{\"days\":[1,4,7,10,13,16,19,22,25,28]}},{\"type\":\"object\",\"name\":\"DaysTicker\",\"id\":\"p492308\",\"attributes\":{\"days\":[1,8,15,22]}},{\"type\":\"object\",\"name\":\"DaysTicker\",\"id\":\"p492309\",\"attributes\":{\"days\":[1,15]}},{\"type\":\"object\",\"name\":\"MonthsTicker\",\"id\":\"p492310\",\"attributes\":{\"months\":[0,1,2,3,4,5,6,7,8,9,10,11]}},{\"type\":\"object\",\"name\":\"MonthsTicker\",\"id\":\"p492311\",\"attributes\":{\"months\":[0,2,4,6,8,10]}},{\"type\":\"object\",\"name\":\"MonthsTicker\",\"id\":\"p492312\",\"attributes\":{\"months\":[0,4,8]}},{\"type\":\"object\",\"name\":\"MonthsTicker\",\"id\":\"p492313\",\"attributes\":{\"months\":[0,6]}},{\"type\":\"object\",\"name\":\"YearsTicker\",\"id\":\"p492314\"}]}},\"formatter\":{\"type\":\"object\",\"name\":\"DatetimeTickFormatter\",\"id\":\"p492407\",\"attributes\":{\"hours\":\"%H:%M\"}},\"axis_label\":\"Date-Time\",\"axis_label_standoff\":10,\"axis_label_text_color\":\"#E0E0E0\",\"axis_label_text_font\":\"Helvetica\",\"axis_label_text_font_size\":\"1.25em\",\"axis_label_text_font_style\":\"normal\",\"major_label_policy\":{\"type\":\"object\",\"name\":\"AllLabels\",\"id\":\"p492300\"},\"major_label_text_color\":\"#E0E0E0\",\"major_label_text_font\":\"Helvetica\",\"major_label_text_font_size\":\"1.025em\",\"axis_line_color\":\"#E0E0E0\",\"axis_line_alpha\":0,\"major_tick_line_color\":\"#E0E0E0\",\"major_tick_line_alpha\":0,\"minor_tick_line_color\":\"#E0E0E0\",\"minor_tick_line_alpha\":0}}],\"center\":[{\"type\":\"object\",\"name\":\"Grid\",\"id\":\"p492341\",\"attributes\":{\"axis\":{\"id\":\"p492299\"},\"grid_line_color\":\"#E0E0E0\",\"grid_line_alpha\":0.25}},{\"type\":\"object\",\"name\":\"Grid\",\"id\":\"p492348\",\"attributes\":{\"dimension\":1,\"axis\":{\"id\":\"p492342\"},\"grid_line_color\":\"#E0E0E0\",\"grid_line_alpha\":0.25}},{\"type\":\"object\",\"name\":\"Legend\",\"id\":\"p492376\",\"attributes\":{\"location\":\"top_left\",\"title\":\"Lines\",\"border_line_alpha\":0,\"background_fill_color\":\"#20262B\",\"background_fill_alpha\":0.25,\"label_text_color\":\"#E0E0E0\",\"label_text_font\":\"Helvetica\",\"label_text_font_size\":\"1.025em\",\"label_standoff\":8,\"glyph_width\":15,\"spacing\":8,\"items\":[{\"type\":\"object\",\"name\":\"LegendItem\",\"id\":\"p492377\",\"attributes\":{\"label\":{\"type\":\"value\",\"value\":\"Line 1\"},\"renderers\":[{\"id\":\"p492373\"},{\"id\":\"p492384\"}]}},{\"type\":\"object\",\"name\":\"LegendItem\",\"id\":\"p492397\",\"attributes\":{\"label\":{\"type\":\"value\",\"value\":\"Line 2\"},\"renderers\":[{\"id\":\"p492394\"},{\"id\":\"p492404\"}]}}]}}],\"background_fill_color\":\"#20262B\",\"border_fill_color\":\"#15191C\"}}],\"callbacks\":{\"type\":\"map\"}}};\n",
       "  const render_items = [{\"docid\":\"b2c15f9e-4106-4b86-8420-3a09246ab5ed\",\"roots\":{\"p492281\":\"d68bce19-8c89-4e8f-a828-6cfd5fd9dc29\"},\"root_ids\":[\"p492281\"]}];\n",
       "  root.Bokeh.embed.embed_items_notebook(docs_json, render_items);\n",
       "  }\n",
       "  if (root.Bokeh !== undefined) {\n",
       "    embed_document(root);\n",
       "  } else {\n",
       "    let attempts = 0;\n",
       "    const timer = setInterval(function(root) {\n",
       "      if (root.Bokeh !== undefined) {\n",
       "        clearInterval(timer);\n",
       "        embed_document(root);\n",
       "      } else {\n",
       "        attempts++;\n",
       "        if (attempts > 100) {\n",
       "          clearInterval(timer);\n",
       "          console.log(\"Bokeh: ERROR: Unable to run BokehJS code because BokehJS library is missing\");\n",
       "        }\n",
       "      }\n",
       "    }, 10, root)\n",
       "  }\n",
       "})(window);"
      ],
      "application/vnd.bokehjs_exec.v0+json": ""
     },
     "metadata": {
      "application/vnd.bokehjs_exec.v0+json": {
       "id": "p492281"
      }
     },
     "output_type": "display_data"
    }
   ],
   "source": [
    "from bokeh.plotting import figure, show\n",
    "from bokeh.models import HoverTool\n",
    "from datetime import datetime\n",
    "import random\n",
    "from bokeh.models import ContinuousColorMapper\n",
    "from bokeh.palettes import Turbo256\n",
    "from bokeh.palettes import Viridis256\n",
    "\n",
    "# Dummy data representing different hour-minute values\n",
    "hour_minutes = [(1, 0), (2, 5), (3, 10), (4, 15), (5, 20), (9, 25)]\n",
    "\n",
    "# Create a list of datetime objects from the hour-minute values\n",
    "x_values = [datetime(datetime.now().year, datetime.now().month, datetime.now().day, hour, minute) for hour, minute in hour_minutes]\n",
    "y_1_values = [i for i in range(len(hour_minutes))]\n",
    "y_2_values = [random.randint(0, 100) for _ in range(len(hour_minutes))]\n",
    "\n",
    "# Create a figure\n",
    "p = figure(\n",
    "    title=\"Dhaka Stock Exchange Live Change\",\n",
    "    x_axis_type=\"datetime\",\n",
    "    sizing_mode=\"scale_both\",\n",
    "    max_width=900,\n",
    "    max_height=300,\n",
    "    width=900,\n",
    "    height=900\n",
    ")\n",
    "\n",
    "p.title.align = \"center\"\n",
    "# Set x-axis and y-axis labels\n",
    "p.xaxis.axis_label = \"Date-Time\"\n",
    "p.yaxis.axis_label = \"Percentage Change (%)\"\n",
    "\n",
    "source = ColumnDataSource({'x_values':x_values, 'y_1_values':y_1_values, 'y_2_values':y_2_values})\n",
    "\n",
    "p.circle(x='x_values', y='y_1_values', source=source, legend_label=\"Line 1\", line_color='pink')\n",
    "\n",
    "# Add the line with varying colors based on values\n",
    "line1 = p.line(\n",
    "    x='x_values', y='y_1_values', \n",
    "    legend_label=\"Line 1\", line_color='yellow', source=source)\n",
    "\n",
    "mapper = linear_cmap(field_name=\"y_2_values\", palette=Turbo256, low=max(y_2_values), high=min(y_2_values))\n",
    "\n",
    "p.circle(x='x_values', y='y_2_values', source=source, legend_label=\"Line 2\", color=mapper, size=10)\n",
    "\n",
    "# Add the line with varying colors based on values\n",
    "line2 = p.line(x='x_values', y='y_2_values', source=source, legend_label=\"Line 2\", line_color='orange')\n",
    "\n",
    "# Customize the x-axis tick labels\n",
    "p.xaxis.formatter = DatetimeTickFormatter(hours=\"%H:%M\")\n",
    "\n",
    "# Set the theme to dark_minimal\n",
    "curdoc().theme = 'dark_minimal'\n",
    "\n",
    "p.legend.title = 'Lines'\n",
    "p.legend.location = \"top_left\"  # Options: top_left, top_right, bottom_left, bottom_right, center, center_left, center_right\n",
    "\n",
    "# Define tooltips\n",
    "# Define tooltips\n",
    "tooltips = [\n",
    "    (\"x:\", \"@x{%Y-%m-%d %H:%M}\"),\n",
    "    (\"y:\", \"@y\"),\n",
    "]\n",
    "\n",
    "# Add tooltips to both lines\n",
    "# hover_tool = HoverTool(renderers=[line1, line2], tooltips=tooltips, formatters={\"@x\": \"datetime\"})\n",
    "# p.add_tools(hover_tool)\n",
    "\n",
    "line_renderers = [line1, line2]\n",
    "\n",
    "# Add hover interactivity\n",
    "hover = HoverTool(renderers=line_renderers, tooltips=[(\"Date\", \"@x{%F}\"), (\"Value\", \"@y\")], formatters={\"@x\": \"datetime\"},)\n",
    "hover.point_policy = \"snap_to_data\"\n",
    "hover.mode = \"mouse\"\n",
    "p.add_tools(hover)\n",
    "\n",
    "\n",
    "# Show the plot\n",
    "show(p)\n"
   ]
  },
  {
   "cell_type": "code",
   "execution_count": 236,
   "id": "bf9c30e8-df16-4a2b-80af-f914b62c1dca",
   "metadata": {},
   "outputs": [
    {
     "data": {
      "text/html": [
       "\n",
       "  <div id=\"cc4cd7ed-cdf6-4de7-841c-3045d8a0cb94\" data-root-id=\"p527687\" style=\"display: contents;\"></div>\n"
      ]
     },
     "metadata": {},
     "output_type": "display_data"
    },
    {
     "data": {
      "application/javascript": [
       "(function(root) {\n",
       "  function embed_document(root) {\n",
       "  const docs_json = {\"16edb452-c1a5-4476-bd97-d50b6598fa15\":{\"version\":\"3.1.1\",\"title\":\"Bokeh Application\",\"defs\":[],\"roots\":[{\"type\":\"object\",\"name\":\"Figure\",\"id\":\"p527687\",\"attributes\":{\"width\":900,\"height\":900,\"max_width\":900,\"max_height\":300,\"sizing_mode\":\"scale_both\",\"x_range\":{\"type\":\"object\",\"name\":\"DataRange1d\",\"id\":\"p527688\"},\"y_range\":{\"type\":\"object\",\"name\":\"DataRange1d\",\"id\":\"p527689\"},\"x_scale\":{\"type\":\"object\",\"name\":\"LinearScale\",\"id\":\"p527701\"},\"y_scale\":{\"type\":\"object\",\"name\":\"LinearScale\",\"id\":\"p527703\"},\"title\":{\"type\":\"object\",\"name\":\"Title\",\"id\":\"p527690\",\"attributes\":{\"text\":\"Dhaka Stock Exchange Live Change\",\"text_color\":\"#E0E0E0\",\"text_font\":\"Helvetica\",\"text_font_size\":\"1.15em\",\"align\":\"center\"}},\"outline_line_color\":\"#E0E0E0\",\"outline_line_alpha\":0.25,\"renderers\":[{\"type\":\"object\",\"name\":\"GlyphRenderer\",\"id\":\"p527779\",\"attributes\":{\"data_source\":{\"type\":\"object\",\"name\":\"ColumnDataSource\",\"id\":\"p527770\",\"attributes\":{\"selected\":{\"type\":\"object\",\"name\":\"Selection\",\"id\":\"p527772\",\"attributes\":{\"indices\":[],\"line_indices\":[]}},\"selection_policy\":{\"type\":\"object\",\"name\":\"UnionRenderers\",\"id\":\"p527771\"},\"data\":{\"type\":\"map\",\"entries\":[[\"x_values\",[1684544400000.0,1684548300000.0,1684552200000.0,1684556100000.0,1684560000000.0,1684574700000.0,1684646400000.0]],[\"y_1_values\",[0,1,2,3,4,5,100]],[\"y_2_values\",[46,54,17,11,96,57,50]]]}}},\"view\":{\"type\":\"object\",\"name\":\"CDSView\",\"id\":\"p527780\",\"attributes\":{\"filter\":{\"type\":\"object\",\"name\":\"AllIndices\",\"id\":\"p527781\"}}},\"glyph\":{\"type\":\"object\",\"name\":\"Circle\",\"id\":\"p527776\",\"attributes\":{\"x\":{\"type\":\"field\",\"field\":\"x_values\"},\"y\":{\"type\":\"field\",\"field\":\"y_1_values\"},\"line_color\":{\"type\":\"value\",\"value\":\"pink\"},\"fill_color\":{\"type\":\"value\",\"value\":\"#1f77b4\"}}},\"nonselection_glyph\":{\"type\":\"object\",\"name\":\"Circle\",\"id\":\"p527777\",\"attributes\":{\"x\":{\"type\":\"field\",\"field\":\"x_values\"},\"y\":{\"type\":\"field\",\"field\":\"y_1_values\"},\"line_color\":{\"type\":\"value\",\"value\":\"pink\"},\"line_alpha\":{\"type\":\"value\",\"value\":0.1},\"fill_color\":{\"type\":\"value\",\"value\":\"#1f77b4\"},\"fill_alpha\":{\"type\":\"value\",\"value\":0.1},\"hatch_alpha\":{\"type\":\"value\",\"value\":0.1}}},\"muted_glyph\":{\"type\":\"object\",\"name\":\"Circle\",\"id\":\"p527778\",\"attributes\":{\"x\":{\"type\":\"field\",\"field\":\"x_values\"},\"y\":{\"type\":\"field\",\"field\":\"y_1_values\"},\"line_color\":{\"type\":\"value\",\"value\":\"pink\"},\"line_alpha\":{\"type\":\"value\",\"value\":0.2},\"fill_color\":{\"type\":\"value\",\"value\":\"#1f77b4\"},\"fill_alpha\":{\"type\":\"value\",\"value\":0.2},\"hatch_alpha\":{\"type\":\"value\",\"value\":0.2}}}}},{\"type\":\"object\",\"name\":\"GlyphRenderer\",\"id\":\"p527790\",\"attributes\":{\"data_source\":{\"id\":\"p527770\"},\"view\":{\"type\":\"object\",\"name\":\"CDSView\",\"id\":\"p527791\",\"attributes\":{\"filter\":{\"type\":\"object\",\"name\":\"AllIndices\",\"id\":\"p527792\"}}},\"glyph\":{\"type\":\"object\",\"name\":\"Line\",\"id\":\"p527787\",\"attributes\":{\"x\":{\"type\":\"field\",\"field\":\"x_values\"},\"y\":{\"type\":\"field\",\"field\":\"y_1_values\"},\"line_color\":\"yellow\"}},\"nonselection_glyph\":{\"type\":\"object\",\"name\":\"Line\",\"id\":\"p527788\",\"attributes\":{\"x\":{\"type\":\"field\",\"field\":\"x_values\"},\"y\":{\"type\":\"field\",\"field\":\"y_1_values\"},\"line_color\":\"yellow\",\"line_alpha\":0.1}},\"muted_glyph\":{\"type\":\"object\",\"name\":\"Line\",\"id\":\"p527789\",\"attributes\":{\"x\":{\"type\":\"field\",\"field\":\"x_values\"},\"y\":{\"type\":\"field\",\"field\":\"y_1_values\"},\"line_color\":\"yellow\",\"line_alpha\":0.2}}}},{\"type\":\"object\",\"name\":\"GlyphRenderer\",\"id\":\"p527800\",\"attributes\":{\"data_source\":{\"id\":\"p527770\"},\"view\":{\"type\":\"object\",\"name\":\"CDSView\",\"id\":\"p527801\",\"attributes\":{\"filter\":{\"type\":\"object\",\"name\":\"AllIndices\",\"id\":\"p527802\"}}},\"glyph\":{\"type\":\"object\",\"name\":\"Circle\",\"id\":\"p527797\",\"attributes\":{\"x\":{\"type\":\"field\",\"field\":\"x_values\"},\"y\":{\"type\":\"field\",\"field\":\"y_2_values\"},\"size\":{\"type\":\"value\",\"value\":10},\"line_color\":{\"type\":\"field\",\"field\":\"y_2_values\",\"transform\":{\"type\":\"object\",\"name\":\"LinearColorMapper\",\"id\":\"p527793\",\"attributes\":{\"palette\":[\"#30123b\",\"#311542\",\"#32184a\",\"#341b51\",\"#351e58\",\"#36215f\",\"#372365\",\"#38266c\",\"#392972\",\"#3a2c79\",\"#3b2f7f\",\"#3c3285\",\"#3c358b\",\"#3d3791\",\"#3e3a96\",\"#3f3d9c\",\"#4040a1\",\"#4043a6\",\"#4145ab\",\"#4148b0\",\"#424bb5\",\"#434eba\",\"#4350be\",\"#4353c2\",\"#4456c7\",\"#4458cb\",\"#455bce\",\"#455ed2\",\"#4560d6\",\"#4563d9\",\"#4666dd\",\"#4668e0\",\"#466be3\",\"#466de6\",\"#4670e8\",\"#4673eb\",\"#4675ed\",\"#4678f0\",\"#467af2\",\"#467df4\",\"#467ff6\",\"#4682f8\",\"#4584f9\",\"#4587fb\",\"#4589fc\",\"#448cfd\",\"#438efd\",\"#4291fe\",\"#4193fe\",\"#4096fe\",\"#3f98fe\",\"#3e9bfe\",\"#3c9dfd\",\"#3ba0fc\",\"#39a2fc\",\"#38a5fb\",\"#36a8f9\",\"#34aaf8\",\"#33acf6\",\"#31aff5\",\"#2fb1f3\",\"#2db4f1\",\"#2bb6ef\",\"#2ab9ed\",\"#28bbeb\",\"#26bde9\",\"#25c0e6\",\"#23c2e4\",\"#21c4e1\",\"#20c6df\",\"#1ec9dc\",\"#1dcbda\",\"#1ccdd7\",\"#1bcfd4\",\"#1ad1d2\",\"#19d3cf\",\"#18d5cc\",\"#18d7ca\",\"#17d9c7\",\"#17dac4\",\"#17dcc2\",\"#17debf\",\"#18e0bd\",\"#18e1ba\",\"#19e3b8\",\"#1ae4b6\",\"#1be5b4\",\"#1de7b1\",\"#1ee8af\",\"#20e9ac\",\"#22eba9\",\"#24eca6\",\"#27eda3\",\"#29eea0\",\"#2cef9d\",\"#2ff09a\",\"#32f197\",\"#35f394\",\"#38f491\",\"#3bf48d\",\"#3ff58a\",\"#42f687\",\"#46f783\",\"#4af880\",\"#4df97c\",\"#51f979\",\"#55fa76\",\"#59fb72\",\"#5dfb6f\",\"#61fc6c\",\"#65fc68\",\"#69fd65\",\"#6dfd62\",\"#71fd5f\",\"#74fe5c\",\"#78fe59\",\"#7cfe56\",\"#80fe53\",\"#84fe50\",\"#87fe4d\",\"#8bfe4b\",\"#8efe48\",\"#92fe46\",\"#95fe44\",\"#98fe42\",\"#9bfd40\",\"#9efd3e\",\"#a1fc3d\",\"#a4fc3b\",\"#a6fb3a\",\"#a9fb39\",\"#acfa37\",\"#aef937\",\"#b1f836\",\"#b3f835\",\"#b6f735\",\"#b9f534\",\"#bbf434\",\"#bef334\",\"#c0f233\",\"#c3f133\",\"#c5ef33\",\"#c8ee33\",\"#caed33\",\"#cdeb34\",\"#cfea34\",\"#d1e834\",\"#d4e735\",\"#d6e535\",\"#d8e335\",\"#dae236\",\"#dde036\",\"#dfde36\",\"#e1dc37\",\"#e3da37\",\"#e5d838\",\"#e7d738\",\"#e8d538\",\"#ead339\",\"#ecd139\",\"#edcf39\",\"#efcd39\",\"#f0cb3a\",\"#f2c83a\",\"#f3c63a\",\"#f4c43a\",\"#f6c23a\",\"#f7c039\",\"#f8be39\",\"#f9bc39\",\"#f9ba38\",\"#fab737\",\"#fbb537\",\"#fbb336\",\"#fcb035\",\"#fcae34\",\"#fdab33\",\"#fda932\",\"#fda631\",\"#fda330\",\"#fea12f\",\"#fe9e2e\",\"#fe9b2d\",\"#fe982c\",\"#fd952b\",\"#fd9229\",\"#fd8f28\",\"#fd8c27\",\"#fc8926\",\"#fc8624\",\"#fb8323\",\"#fb8022\",\"#fa7d20\",\"#fa7a1f\",\"#f9771e\",\"#f8741c\",\"#f7711b\",\"#f76e1a\",\"#f66b18\",\"#f56817\",\"#f46516\",\"#f36315\",\"#f26014\",\"#f15d13\",\"#ef5a11\",\"#ee5810\",\"#ed550f\",\"#ec520e\",\"#ea500d\",\"#e94d0d\",\"#e84b0c\",\"#e6490b\",\"#e5460a\",\"#e3440a\",\"#e24209\",\"#e04008\",\"#de3e08\",\"#dd3c07\",\"#db3a07\",\"#d93806\",\"#d73606\",\"#d63405\",\"#d43205\",\"#d23005\",\"#d02f04\",\"#ce2d04\",\"#cb2b03\",\"#c92903\",\"#c72803\",\"#c52602\",\"#c32402\",\"#c02302\",\"#be2102\",\"#bb1f01\",\"#b91e01\",\"#b61c01\",\"#b41b01\",\"#b11901\",\"#ae1801\",\"#ac1601\",\"#a91501\",\"#a61401\",\"#a31201\",\"#a01101\",\"#9d1001\",\"#9a0e01\",\"#970d01\",\"#940c01\",\"#910b01\",\"#8e0a01\",\"#8b0901\",\"#870801\",\"#840701\",\"#810602\",\"#7d0502\",\"#7a0402\"],\"low\":96,\"high\":11}}},\"fill_color\":{\"type\":\"field\",\"field\":\"y_2_values\",\"transform\":{\"id\":\"p527793\"}},\"hatch_color\":{\"type\":\"field\",\"field\":\"y_2_values\",\"transform\":{\"id\":\"p527793\"}}}},\"nonselection_glyph\":{\"type\":\"object\",\"name\":\"Circle\",\"id\":\"p527798\",\"attributes\":{\"x\":{\"type\":\"field\",\"field\":\"x_values\"},\"y\":{\"type\":\"field\",\"field\":\"y_2_values\"},\"size\":{\"type\":\"value\",\"value\":10},\"line_color\":{\"type\":\"field\",\"field\":\"y_2_values\",\"transform\":{\"id\":\"p527793\"}},\"line_alpha\":{\"type\":\"value\",\"value\":0.1},\"fill_color\":{\"type\":\"field\",\"field\":\"y_2_values\",\"transform\":{\"id\":\"p527793\"}},\"fill_alpha\":{\"type\":\"value\",\"value\":0.1},\"hatch_color\":{\"type\":\"field\",\"field\":\"y_2_values\",\"transform\":{\"id\":\"p527793\"}},\"hatch_alpha\":{\"type\":\"value\",\"value\":0.1}}},\"muted_glyph\":{\"type\":\"object\",\"name\":\"Circle\",\"id\":\"p527799\",\"attributes\":{\"x\":{\"type\":\"field\",\"field\":\"x_values\"},\"y\":{\"type\":\"field\",\"field\":\"y_2_values\"},\"size\":{\"type\":\"value\",\"value\":10},\"line_color\":{\"type\":\"field\",\"field\":\"y_2_values\",\"transform\":{\"id\":\"p527793\"}},\"line_alpha\":{\"type\":\"value\",\"value\":0.2},\"fill_color\":{\"type\":\"field\",\"field\":\"y_2_values\",\"transform\":{\"id\":\"p527793\"}},\"fill_alpha\":{\"type\":\"value\",\"value\":0.2},\"hatch_color\":{\"type\":\"field\",\"field\":\"y_2_values\",\"transform\":{\"id\":\"p527793\"}},\"hatch_alpha\":{\"type\":\"value\",\"value\":0.2}}}}},{\"type\":\"object\",\"name\":\"GlyphRenderer\",\"id\":\"p527810\",\"attributes\":{\"data_source\":{\"id\":\"p527770\"},\"view\":{\"type\":\"object\",\"name\":\"CDSView\",\"id\":\"p527811\",\"attributes\":{\"filter\":{\"type\":\"object\",\"name\":\"AllIndices\",\"id\":\"p527812\"}}},\"glyph\":{\"type\":\"object\",\"name\":\"Line\",\"id\":\"p527807\",\"attributes\":{\"x\":{\"type\":\"field\",\"field\":\"x_values\"},\"y\":{\"type\":\"field\",\"field\":\"y_2_values\"},\"line_color\":\"orange\"}},\"nonselection_glyph\":{\"type\":\"object\",\"name\":\"Line\",\"id\":\"p527808\",\"attributes\":{\"x\":{\"type\":\"field\",\"field\":\"x_values\"},\"y\":{\"type\":\"field\",\"field\":\"y_2_values\"},\"line_color\":\"orange\",\"line_alpha\":0.1}},\"muted_glyph\":{\"type\":\"object\",\"name\":\"Line\",\"id\":\"p527809\",\"attributes\":{\"x\":{\"type\":\"field\",\"field\":\"x_values\"},\"y\":{\"type\":\"field\",\"field\":\"y_2_values\"},\"line_color\":\"orange\",\"line_alpha\":0.2}}}}],\"toolbar\":{\"type\":\"object\",\"name\":\"Toolbar\",\"id\":\"p527693\",\"attributes\":{\"tools\":[{\"type\":\"object\",\"name\":\"PanTool\",\"id\":\"p527755\"},{\"type\":\"object\",\"name\":\"WheelZoomTool\",\"id\":\"p527756\"},{\"type\":\"object\",\"name\":\"BoxZoomTool\",\"id\":\"p527757\",\"attributes\":{\"overlay\":{\"type\":\"object\",\"name\":\"BoxAnnotation\",\"id\":\"p527758\",\"attributes\":{\"syncable\":false,\"level\":\"overlay\",\"visible\":false,\"left_units\":\"canvas\",\"right_units\":\"canvas\",\"bottom_units\":\"canvas\",\"top_units\":\"canvas\",\"line_color\":\"black\",\"line_alpha\":1.0,\"line_width\":2,\"line_dash\":[4,4],\"fill_color\":\"lightgrey\",\"fill_alpha\":0.5}}}},{\"type\":\"object\",\"name\":\"SaveTool\",\"id\":\"p527759\"},{\"type\":\"object\",\"name\":\"ResetTool\",\"id\":\"p527760\"},{\"type\":\"object\",\"name\":\"HelpTool\",\"id\":\"p527761\"},{\"type\":\"object\",\"name\":\"HoverTool\",\"id\":\"p527815\",\"attributes\":{\"renderers\":[{\"id\":\"p527790\"},{\"id\":\"p527810\"}],\"tooltips\":[[\"Date\",\"@x_values{%Y-%m-%d %H:%M}\"],[\"Value\",\"@y_2_values\"]],\"formatters\":{\"type\":\"map\",\"entries\":[[\"@x_values\",\"datetime\"]]}}}]}},\"left\":[{\"type\":\"object\",\"name\":\"LinearAxis\",\"id\":\"p527748\",\"attributes\":{\"ticker\":{\"type\":\"object\",\"name\":\"BasicTicker\",\"id\":\"p527751\",\"attributes\":{\"mantissas\":[1,2,5]}},\"formatter\":{\"type\":\"object\",\"name\":\"BasicTickFormatter\",\"id\":\"p527750\"},\"axis_label\":\"Percentage Change (%)\",\"axis_label_standoff\":10,\"axis_label_text_color\":\"#E0E0E0\",\"axis_label_text_font\":\"Helvetica\",\"axis_label_text_font_size\":\"1.25em\",\"axis_label_text_font_style\":\"normal\",\"major_label_policy\":{\"type\":\"object\",\"name\":\"AllLabels\",\"id\":\"p527749\"},\"major_label_text_color\":\"#E0E0E0\",\"major_label_text_font\":\"Helvetica\",\"major_label_text_font_size\":\"1.025em\",\"axis_line_color\":\"#E0E0E0\",\"axis_line_alpha\":0,\"major_tick_line_color\":\"#E0E0E0\",\"major_tick_line_alpha\":0,\"minor_tick_line_color\":\"#E0E0E0\",\"minor_tick_line_alpha\":0}}],\"below\":[{\"type\":\"object\",\"name\":\"DatetimeAxis\",\"id\":\"p527705\",\"attributes\":{\"ticker\":{\"type\":\"object\",\"name\":\"DatetimeTicker\",\"id\":\"p527708\",\"attributes\":{\"num_minor_ticks\":5,\"tickers\":[{\"type\":\"object\",\"name\":\"AdaptiveTicker\",\"id\":\"p527709\",\"attributes\":{\"num_minor_ticks\":0,\"mantissas\":[1,2,5],\"max_interval\":500.0}},{\"type\":\"object\",\"name\":\"AdaptiveTicker\",\"id\":\"p527710\",\"attributes\":{\"num_minor_ticks\":0,\"base\":60,\"mantissas\":[1,2,5,10,15,20,30],\"min_interval\":1000.0,\"max_interval\":1800000.0}},{\"type\":\"object\",\"name\":\"AdaptiveTicker\",\"id\":\"p527711\",\"attributes\":{\"num_minor_ticks\":0,\"base\":24,\"mantissas\":[1,2,4,6,8,12],\"min_interval\":3600000.0,\"max_interval\":43200000.0}},{\"type\":\"object\",\"name\":\"DaysTicker\",\"id\":\"p527712\",\"attributes\":{\"days\":[1,2,3,4,5,6,7,8,9,10,11,12,13,14,15,16,17,18,19,20,21,22,23,24,25,26,27,28,29,30,31]}},{\"type\":\"object\",\"name\":\"DaysTicker\",\"id\":\"p527713\",\"attributes\":{\"days\":[1,4,7,10,13,16,19,22,25,28]}},{\"type\":\"object\",\"name\":\"DaysTicker\",\"id\":\"p527714\",\"attributes\":{\"days\":[1,8,15,22]}},{\"type\":\"object\",\"name\":\"DaysTicker\",\"id\":\"p527715\",\"attributes\":{\"days\":[1,15]}},{\"type\":\"object\",\"name\":\"MonthsTicker\",\"id\":\"p527716\",\"attributes\":{\"months\":[0,1,2,3,4,5,6,7,8,9,10,11]}},{\"type\":\"object\",\"name\":\"MonthsTicker\",\"id\":\"p527717\",\"attributes\":{\"months\":[0,2,4,6,8,10]}},{\"type\":\"object\",\"name\":\"MonthsTicker\",\"id\":\"p527718\",\"attributes\":{\"months\":[0,4,8]}},{\"type\":\"object\",\"name\":\"MonthsTicker\",\"id\":\"p527719\",\"attributes\":{\"months\":[0,6]}},{\"type\":\"object\",\"name\":\"YearsTicker\",\"id\":\"p527720\"}]}},\"formatter\":{\"type\":\"object\",\"name\":\"DatetimeTickFormatter\",\"id\":\"p527813\",\"attributes\":{\"hours\":\"%H:%M\"}},\"axis_label\":\"Date-Time\",\"axis_label_standoff\":10,\"axis_label_text_color\":\"#E0E0E0\",\"axis_label_text_font\":\"Helvetica\",\"axis_label_text_font_size\":\"1.25em\",\"axis_label_text_font_style\":\"normal\",\"major_label_policy\":{\"type\":\"object\",\"name\":\"AllLabels\",\"id\":\"p527706\"},\"major_label_text_color\":\"#E0E0E0\",\"major_label_text_font\":\"Helvetica\",\"major_label_text_font_size\":\"1.025em\",\"axis_line_color\":\"#E0E0E0\",\"axis_line_alpha\":0,\"major_tick_line_color\":\"#E0E0E0\",\"major_tick_line_alpha\":0,\"minor_tick_line_color\":\"#E0E0E0\",\"minor_tick_line_alpha\":0}}],\"center\":[{\"type\":\"object\",\"name\":\"Grid\",\"id\":\"p527747\",\"attributes\":{\"axis\":{\"id\":\"p527705\"},\"grid_line_color\":\"#E0E0E0\",\"grid_line_alpha\":0.25}},{\"type\":\"object\",\"name\":\"Grid\",\"id\":\"p527754\",\"attributes\":{\"dimension\":1,\"axis\":{\"id\":\"p527748\"},\"grid_line_color\":\"#E0E0E0\",\"grid_line_alpha\":0.25}},{\"type\":\"object\",\"name\":\"Legend\",\"id\":\"p527782\",\"attributes\":{\"location\":\"top_left\",\"title\":\"Lines\",\"border_line_alpha\":0,\"background_fill_color\":\"#20262B\",\"background_fill_alpha\":0.25,\"label_text_color\":\"#E0E0E0\",\"label_text_font\":\"Helvetica\",\"label_text_font_size\":\"1.025em\",\"label_standoff\":8,\"glyph_width\":15,\"spacing\":8,\"items\":[{\"type\":\"object\",\"name\":\"LegendItem\",\"id\":\"p527783\",\"attributes\":{\"label\":{\"type\":\"value\",\"value\":\"Line 1\"},\"renderers\":[{\"id\":\"p527779\"},{\"id\":\"p527790\"}]}},{\"type\":\"object\",\"name\":\"LegendItem\",\"id\":\"p527803\",\"attributes\":{\"label\":{\"type\":\"value\",\"value\":\"Line 2\"},\"renderers\":[{\"id\":\"p527800\"},{\"id\":\"p527810\"}]}}]}}],\"background_fill_color\":\"#20262B\",\"border_fill_color\":\"#15191C\"}}],\"callbacks\":{\"type\":\"map\"}}};\n",
       "  const render_items = [{\"docid\":\"16edb452-c1a5-4476-bd97-d50b6598fa15\",\"roots\":{\"p527687\":\"cc4cd7ed-cdf6-4de7-841c-3045d8a0cb94\"},\"root_ids\":[\"p527687\"]}];\n",
       "  root.Bokeh.embed.embed_items_notebook(docs_json, render_items);\n",
       "  }\n",
       "  if (root.Bokeh !== undefined) {\n",
       "    embed_document(root);\n",
       "  } else {\n",
       "    let attempts = 0;\n",
       "    const timer = setInterval(function(root) {\n",
       "      if (root.Bokeh !== undefined) {\n",
       "        clearInterval(timer);\n",
       "        embed_document(root);\n",
       "      } else {\n",
       "        attempts++;\n",
       "        if (attempts > 100) {\n",
       "          clearInterval(timer);\n",
       "          console.log(\"Bokeh: ERROR: Unable to run BokehJS code because BokehJS library is missing\");\n",
       "        }\n",
       "      }\n",
       "    }, 10, root)\n",
       "  }\n",
       "})(window);"
      ],
      "application/vnd.bokehjs_exec.v0+json": ""
     },
     "metadata": {
      "application/vnd.bokehjs_exec.v0+json": {
       "id": "p527687"
      }
     },
     "output_type": "display_data"
    }
   ],
   "source": [
    "from bokeh.plotting import figure, show\n",
    "from bokeh.models import HoverTool, ColumnDataSource, DatetimeTickFormatter\n",
    "from datetime import datetime\n",
    "import random\n",
    "from bokeh.models import LinearColorMapper\n",
    "from bokeh.palettes import Turbo256\n",
    "\n",
    "# Dummy data representing different hour-minute values\n",
    "hour_minutes = [(1, 0), (2, 5), (3, 10), (4, 15), (5, 20), (9, 25)]\n",
    "\n",
    "# Create a list of datetime objects from the hour-minute values\n",
    "x_values = [datetime(datetime.now().year, datetime.now().month, datetime.now().day, hour, minute) for hour, minute in hour_minutes]\n",
    "y_1_values = [i for i in range(len(hour_minutes))]\n",
    "y_2_values = [random.randint(0, 100) for _ in range(len(hour_minutes))]\n",
    "\n",
    "# Create a figure\n",
    "p = figure(\n",
    "    title=\"Dhaka Stock Exchange Live Change\",\n",
    "    x_axis_type=\"datetime\",\n",
    "    sizing_mode=\"scale_both\",\n",
    "    max_width=900,\n",
    "    max_height=300,\n",
    "    width=900,\n",
    "    height=900\n",
    ")\n",
    "\n",
    "p.title.align = \"center\"\n",
    "# Set x-axis and y-axis labels\n",
    "p.xaxis.axis_label = \"Date-Time\"\n",
    "p.yaxis.axis_label = \"Percentage Change (%)\"\n",
    "\n",
    "source = ColumnDataSource(data=dict(x_values=x_values, y_1_values=y_1_values, y_2_values=y_2_values))\n",
    "\n",
    "p.circle(x='x_values', y='y_1_values', source=source, legend_label=\"Line 1\", line_color='pink')\n",
    "\n",
    "# Add the line with varying colors based on values\n",
    "line1 = p.line(x='x_values', y='y_1_values', legend_label=\"Line 1\", line_color='yellow', source=source)\n",
    "\n",
    "mapper = LinearColorMapper(palette=Turbo256, high=min(y_2_values), low=max(y_2_values))\n",
    "\n",
    "p.circle(x='x_values', y='y_2_values', legend_label=\"Line 2\", color={'field': 'y_2_values', 'transform': mapper}, size=10, source=source)\n",
    "\n",
    "# Add the line with varying colors based on values\n",
    "line2 = p.line(x='x_values', y='y_2_values', legend_label=\"Line 2\", line_color='orange', source=source)\n",
    "\n",
    "\n",
    "new_data = {\n",
    "    'x_values' : [datetime(2023, 5, 21, 5, 20), ],\n",
    "    'y_1_values' : [100,],\n",
    "    'y_2_values' : [50,],\n",
    "}\n",
    "\n",
    "source.stream(new_data)\n",
    "\n",
    "# Customize the x-axis tick labels\n",
    "p.xaxis.formatter = DatetimeTickFormatter(hours=\"%H:%M\")\n",
    "\n",
    "# Set the theme to dark_minimal\n",
    "curdoc().theme = 'dark_minimal'\n",
    "\n",
    "p.legend.title = 'Lines'\n",
    "p.legend.location = \"top_left\"  # Options: top_left, top_right, bottom_left, bottom_right, center, center_left, center_right\n",
    "\n",
    "# Define tooltips\n",
    "tooltips = [\n",
    "    (\"Date\", \"@x_values{%Y-%m-%d %H:%M}\"),\n",
    "    (\"Value\", \"@y_2_values\"),\n",
    "]\n",
    "\n",
    "# Add tooltips to both lines\n",
    "hover_tool = HoverTool(renderers=[line1, line2], tooltips=tooltips, formatters={\"@x_values\": \"datetime\"})\n",
    "p.add_tools(hover_tool)\n",
    "\n",
    "# Show the plot\n",
    "show(p)\n"
   ]
  },
  {
   "cell_type": "code",
   "execution_count": 239,
   "id": "b241620d-c811-4ff8-a965-ad0c05414acf",
   "metadata": {},
   "outputs": [
    {
     "data": {
      "text/html": [
       "\n",
       "  <div id=\"f728651f-7a1d-4e34-af6c-ffb21a083d47\" data-root-id=\"p542022\" style=\"display: contents;\"></div>\n"
      ]
     },
     "metadata": {},
     "output_type": "display_data"
    },
    {
     "data": {
      "application/javascript": [
       "(function(root) {\n",
       "  function embed_document(root) {\n",
       "  const docs_json = {\"8a406a79-483c-4a7f-8cf6-95e6eb955f46\":{\"version\":\"3.1.1\",\"title\":\"Bokeh Application\",\"defs\":[],\"roots\":[{\"type\":\"object\",\"name\":\"Figure\",\"id\":\"p542022\",\"attributes\":{\"width\":900,\"height\":900,\"max_width\":900,\"max_height\":300,\"sizing_mode\":\"scale_both\",\"x_range\":{\"type\":\"object\",\"name\":\"DataRange1d\",\"id\":\"p542023\"},\"y_range\":{\"type\":\"object\",\"name\":\"DataRange1d\",\"id\":\"p542024\"},\"x_scale\":{\"type\":\"object\",\"name\":\"LinearScale\",\"id\":\"p542036\"},\"y_scale\":{\"type\":\"object\",\"name\":\"LinearScale\",\"id\":\"p542038\"},\"title\":{\"type\":\"object\",\"name\":\"Title\",\"id\":\"p542025\",\"attributes\":{\"text\":\"Dhaka Stock Exchange Live Change\",\"text_color\":\"#E0E0E0\",\"text_font\":\"Helvetica\",\"text_font_size\":\"1.15em\",\"align\":\"center\"}},\"outline_line_color\":\"#E0E0E0\",\"outline_line_alpha\":0.25,\"renderers\":[{\"type\":\"object\",\"name\":\"GlyphRenderer\",\"id\":\"p542114\",\"attributes\":{\"data_source\":{\"type\":\"object\",\"name\":\"ColumnDataSource\",\"id\":\"p542105\",\"attributes\":{\"selected\":{\"type\":\"object\",\"name\":\"Selection\",\"id\":\"p542107\",\"attributes\":{\"indices\":[],\"line_indices\":[]}},\"selection_policy\":{\"type\":\"object\",\"name\":\"UnionRenderers\",\"id\":\"p542106\"},\"data\":{\"type\":\"map\",\"entries\":[[\"x_values\",[1684544400000.0,1684548300000.0,1684552200000.0,1684556100000.0,1684560000000.0,1684574700000.0,1684646400000.0]],[\"y_1_values\",[0,1,2,3,4,5,100]],[\"y_2_values\",[2,47,30,82,8,68,50]]]}}},\"view\":{\"type\":\"object\",\"name\":\"CDSView\",\"id\":\"p542115\",\"attributes\":{\"filter\":{\"type\":\"object\",\"name\":\"AllIndices\",\"id\":\"p542116\"}}},\"glyph\":{\"type\":\"object\",\"name\":\"Circle\",\"id\":\"p542111\",\"attributes\":{\"x\":{\"type\":\"field\",\"field\":\"x_values\"},\"y\":{\"type\":\"field\",\"field\":\"y_1_values\"},\"line_color\":{\"type\":\"value\",\"value\":\"pink\"},\"fill_color\":{\"type\":\"value\",\"value\":\"#1f77b4\"}}},\"nonselection_glyph\":{\"type\":\"object\",\"name\":\"Circle\",\"id\":\"p542112\",\"attributes\":{\"x\":{\"type\":\"field\",\"field\":\"x_values\"},\"y\":{\"type\":\"field\",\"field\":\"y_1_values\"},\"line_color\":{\"type\":\"value\",\"value\":\"pink\"},\"line_alpha\":{\"type\":\"value\",\"value\":0.1},\"fill_color\":{\"type\":\"value\",\"value\":\"#1f77b4\"},\"fill_alpha\":{\"type\":\"value\",\"value\":0.1},\"hatch_alpha\":{\"type\":\"value\",\"value\":0.1}}},\"muted_glyph\":{\"type\":\"object\",\"name\":\"Circle\",\"id\":\"p542113\",\"attributes\":{\"x\":{\"type\":\"field\",\"field\":\"x_values\"},\"y\":{\"type\":\"field\",\"field\":\"y_1_values\"},\"line_color\":{\"type\":\"value\",\"value\":\"pink\"},\"line_alpha\":{\"type\":\"value\",\"value\":0.2},\"fill_color\":{\"type\":\"value\",\"value\":\"#1f77b4\"},\"fill_alpha\":{\"type\":\"value\",\"value\":0.2},\"hatch_alpha\":{\"type\":\"value\",\"value\":0.2}}}}},{\"type\":\"object\",\"name\":\"GlyphRenderer\",\"id\":\"p542125\",\"attributes\":{\"data_source\":{\"id\":\"p542105\"},\"view\":{\"type\":\"object\",\"name\":\"CDSView\",\"id\":\"p542126\",\"attributes\":{\"filter\":{\"type\":\"object\",\"name\":\"AllIndices\",\"id\":\"p542127\"}}},\"glyph\":{\"type\":\"object\",\"name\":\"Line\",\"id\":\"p542122\",\"attributes\":{\"x\":{\"type\":\"field\",\"field\":\"x_values\"},\"y\":{\"type\":\"field\",\"field\":\"y_1_values\"},\"line_color\":\"yellow\"}},\"nonselection_glyph\":{\"type\":\"object\",\"name\":\"Line\",\"id\":\"p542123\",\"attributes\":{\"x\":{\"type\":\"field\",\"field\":\"x_values\"},\"y\":{\"type\":\"field\",\"field\":\"y_1_values\"},\"line_color\":\"yellow\",\"line_alpha\":0.1}},\"muted_glyph\":{\"type\":\"object\",\"name\":\"Line\",\"id\":\"p542124\",\"attributes\":{\"x\":{\"type\":\"field\",\"field\":\"x_values\"},\"y\":{\"type\":\"field\",\"field\":\"y_1_values\"},\"line_color\":\"yellow\",\"line_alpha\":0.2}}}},{\"type\":\"object\",\"name\":\"GlyphRenderer\",\"id\":\"p542135\",\"attributes\":{\"data_source\":{\"id\":\"p542105\"},\"view\":{\"type\":\"object\",\"name\":\"CDSView\",\"id\":\"p542136\",\"attributes\":{\"filter\":{\"type\":\"object\",\"name\":\"AllIndices\",\"id\":\"p542137\"}}},\"glyph\":{\"type\":\"object\",\"name\":\"Circle\",\"id\":\"p542132\",\"attributes\":{\"x\":{\"type\":\"field\",\"field\":\"x_values\"},\"y\":{\"type\":\"field\",\"field\":\"y_2_values\"},\"size\":{\"type\":\"value\",\"value\":10},\"line_color\":{\"type\":\"field\",\"field\":\"y_2_values\",\"transform\":{\"type\":\"object\",\"name\":\"LinearColorMapper\",\"id\":\"p542128\",\"attributes\":{\"palette\":[\"#30123b\",\"#311542\",\"#32184a\",\"#341b51\",\"#351e58\",\"#36215f\",\"#372365\",\"#38266c\",\"#392972\",\"#3a2c79\",\"#3b2f7f\",\"#3c3285\",\"#3c358b\",\"#3d3791\",\"#3e3a96\",\"#3f3d9c\",\"#4040a1\",\"#4043a6\",\"#4145ab\",\"#4148b0\",\"#424bb5\",\"#434eba\",\"#4350be\",\"#4353c2\",\"#4456c7\",\"#4458cb\",\"#455bce\",\"#455ed2\",\"#4560d6\",\"#4563d9\",\"#4666dd\",\"#4668e0\",\"#466be3\",\"#466de6\",\"#4670e8\",\"#4673eb\",\"#4675ed\",\"#4678f0\",\"#467af2\",\"#467df4\",\"#467ff6\",\"#4682f8\",\"#4584f9\",\"#4587fb\",\"#4589fc\",\"#448cfd\",\"#438efd\",\"#4291fe\",\"#4193fe\",\"#4096fe\",\"#3f98fe\",\"#3e9bfe\",\"#3c9dfd\",\"#3ba0fc\",\"#39a2fc\",\"#38a5fb\",\"#36a8f9\",\"#34aaf8\",\"#33acf6\",\"#31aff5\",\"#2fb1f3\",\"#2db4f1\",\"#2bb6ef\",\"#2ab9ed\",\"#28bbeb\",\"#26bde9\",\"#25c0e6\",\"#23c2e4\",\"#21c4e1\",\"#20c6df\",\"#1ec9dc\",\"#1dcbda\",\"#1ccdd7\",\"#1bcfd4\",\"#1ad1d2\",\"#19d3cf\",\"#18d5cc\",\"#18d7ca\",\"#17d9c7\",\"#17dac4\",\"#17dcc2\",\"#17debf\",\"#18e0bd\",\"#18e1ba\",\"#19e3b8\",\"#1ae4b6\",\"#1be5b4\",\"#1de7b1\",\"#1ee8af\",\"#20e9ac\",\"#22eba9\",\"#24eca6\",\"#27eda3\",\"#29eea0\",\"#2cef9d\",\"#2ff09a\",\"#32f197\",\"#35f394\",\"#38f491\",\"#3bf48d\",\"#3ff58a\",\"#42f687\",\"#46f783\",\"#4af880\",\"#4df97c\",\"#51f979\",\"#55fa76\",\"#59fb72\",\"#5dfb6f\",\"#61fc6c\",\"#65fc68\",\"#69fd65\",\"#6dfd62\",\"#71fd5f\",\"#74fe5c\",\"#78fe59\",\"#7cfe56\",\"#80fe53\",\"#84fe50\",\"#87fe4d\",\"#8bfe4b\",\"#8efe48\",\"#92fe46\",\"#95fe44\",\"#98fe42\",\"#9bfd40\",\"#9efd3e\",\"#a1fc3d\",\"#a4fc3b\",\"#a6fb3a\",\"#a9fb39\",\"#acfa37\",\"#aef937\",\"#b1f836\",\"#b3f835\",\"#b6f735\",\"#b9f534\",\"#bbf434\",\"#bef334\",\"#c0f233\",\"#c3f133\",\"#c5ef33\",\"#c8ee33\",\"#caed33\",\"#cdeb34\",\"#cfea34\",\"#d1e834\",\"#d4e735\",\"#d6e535\",\"#d8e335\",\"#dae236\",\"#dde036\",\"#dfde36\",\"#e1dc37\",\"#e3da37\",\"#e5d838\",\"#e7d738\",\"#e8d538\",\"#ead339\",\"#ecd139\",\"#edcf39\",\"#efcd39\",\"#f0cb3a\",\"#f2c83a\",\"#f3c63a\",\"#f4c43a\",\"#f6c23a\",\"#f7c039\",\"#f8be39\",\"#f9bc39\",\"#f9ba38\",\"#fab737\",\"#fbb537\",\"#fbb336\",\"#fcb035\",\"#fcae34\",\"#fdab33\",\"#fda932\",\"#fda631\",\"#fda330\",\"#fea12f\",\"#fe9e2e\",\"#fe9b2d\",\"#fe982c\",\"#fd952b\",\"#fd9229\",\"#fd8f28\",\"#fd8c27\",\"#fc8926\",\"#fc8624\",\"#fb8323\",\"#fb8022\",\"#fa7d20\",\"#fa7a1f\",\"#f9771e\",\"#f8741c\",\"#f7711b\",\"#f76e1a\",\"#f66b18\",\"#f56817\",\"#f46516\",\"#f36315\",\"#f26014\",\"#f15d13\",\"#ef5a11\",\"#ee5810\",\"#ed550f\",\"#ec520e\",\"#ea500d\",\"#e94d0d\",\"#e84b0c\",\"#e6490b\",\"#e5460a\",\"#e3440a\",\"#e24209\",\"#e04008\",\"#de3e08\",\"#dd3c07\",\"#db3a07\",\"#d93806\",\"#d73606\",\"#d63405\",\"#d43205\",\"#d23005\",\"#d02f04\",\"#ce2d04\",\"#cb2b03\",\"#c92903\",\"#c72803\",\"#c52602\",\"#c32402\",\"#c02302\",\"#be2102\",\"#bb1f01\",\"#b91e01\",\"#b61c01\",\"#b41b01\",\"#b11901\",\"#ae1801\",\"#ac1601\",\"#a91501\",\"#a61401\",\"#a31201\",\"#a01101\",\"#9d1001\",\"#9a0e01\",\"#970d01\",\"#940c01\",\"#910b01\",\"#8e0a01\",\"#8b0901\",\"#870801\",\"#840701\",\"#810602\",\"#7d0502\",\"#7a0402\"],\"low\":82,\"high\":2}}},\"fill_color\":{\"type\":\"field\",\"field\":\"y_2_values\",\"transform\":{\"id\":\"p542128\"}},\"hatch_color\":{\"type\":\"field\",\"field\":\"y_2_values\",\"transform\":{\"id\":\"p542128\"}}}},\"nonselection_glyph\":{\"type\":\"object\",\"name\":\"Circle\",\"id\":\"p542133\",\"attributes\":{\"x\":{\"type\":\"field\",\"field\":\"x_values\"},\"y\":{\"type\":\"field\",\"field\":\"y_2_values\"},\"size\":{\"type\":\"value\",\"value\":10},\"line_color\":{\"type\":\"field\",\"field\":\"y_2_values\",\"transform\":{\"id\":\"p542128\"}},\"line_alpha\":{\"type\":\"value\",\"value\":0.1},\"fill_color\":{\"type\":\"field\",\"field\":\"y_2_values\",\"transform\":{\"id\":\"p542128\"}},\"fill_alpha\":{\"type\":\"value\",\"value\":0.1},\"hatch_color\":{\"type\":\"field\",\"field\":\"y_2_values\",\"transform\":{\"id\":\"p542128\"}},\"hatch_alpha\":{\"type\":\"value\",\"value\":0.1}}},\"muted_glyph\":{\"type\":\"object\",\"name\":\"Circle\",\"id\":\"p542134\",\"attributes\":{\"x\":{\"type\":\"field\",\"field\":\"x_values\"},\"y\":{\"type\":\"field\",\"field\":\"y_2_values\"},\"size\":{\"type\":\"value\",\"value\":10},\"line_color\":{\"type\":\"field\",\"field\":\"y_2_values\",\"transform\":{\"id\":\"p542128\"}},\"line_alpha\":{\"type\":\"value\",\"value\":0.2},\"fill_color\":{\"type\":\"field\",\"field\":\"y_2_values\",\"transform\":{\"id\":\"p542128\"}},\"fill_alpha\":{\"type\":\"value\",\"value\":0.2},\"hatch_color\":{\"type\":\"field\",\"field\":\"y_2_values\",\"transform\":{\"id\":\"p542128\"}},\"hatch_alpha\":{\"type\":\"value\",\"value\":0.2}}}}},{\"type\":\"object\",\"name\":\"GlyphRenderer\",\"id\":\"p542145\",\"attributes\":{\"data_source\":{\"id\":\"p542105\"},\"view\":{\"type\":\"object\",\"name\":\"CDSView\",\"id\":\"p542146\",\"attributes\":{\"filter\":{\"type\":\"object\",\"name\":\"AllIndices\",\"id\":\"p542147\"}}},\"glyph\":{\"type\":\"object\",\"name\":\"Line\",\"id\":\"p542142\",\"attributes\":{\"x\":{\"type\":\"field\",\"field\":\"x_values\"},\"y\":{\"type\":\"field\",\"field\":\"y_2_values\"},\"line_color\":\"orange\"}},\"nonselection_glyph\":{\"type\":\"object\",\"name\":\"Line\",\"id\":\"p542143\",\"attributes\":{\"x\":{\"type\":\"field\",\"field\":\"x_values\"},\"y\":{\"type\":\"field\",\"field\":\"y_2_values\"},\"line_color\":\"orange\",\"line_alpha\":0.1}},\"muted_glyph\":{\"type\":\"object\",\"name\":\"Line\",\"id\":\"p542144\",\"attributes\":{\"x\":{\"type\":\"field\",\"field\":\"x_values\"},\"y\":{\"type\":\"field\",\"field\":\"y_2_values\"},\"line_color\":\"orange\",\"line_alpha\":0.2}}}}],\"toolbar\":{\"type\":\"object\",\"name\":\"Toolbar\",\"id\":\"p542028\",\"attributes\":{\"tools\":[{\"type\":\"object\",\"name\":\"PanTool\",\"id\":\"p542090\"},{\"type\":\"object\",\"name\":\"WheelZoomTool\",\"id\":\"p542091\"},{\"type\":\"object\",\"name\":\"BoxZoomTool\",\"id\":\"p542092\",\"attributes\":{\"overlay\":{\"type\":\"object\",\"name\":\"BoxAnnotation\",\"id\":\"p542093\",\"attributes\":{\"syncable\":false,\"level\":\"overlay\",\"visible\":false,\"left_units\":\"canvas\",\"right_units\":\"canvas\",\"bottom_units\":\"canvas\",\"top_units\":\"canvas\",\"line_color\":\"black\",\"line_alpha\":1.0,\"line_width\":2,\"line_dash\":[4,4],\"fill_color\":\"lightgrey\",\"fill_alpha\":0.5}}}},{\"type\":\"object\",\"name\":\"SaveTool\",\"id\":\"p542094\"},{\"type\":\"object\",\"name\":\"ResetTool\",\"id\":\"p542095\"},{\"type\":\"object\",\"name\":\"HelpTool\",\"id\":\"p542096\"},{\"type\":\"object\",\"name\":\"HoverTool\",\"id\":\"p542150\",\"attributes\":{\"renderers\":[{\"id\":\"p542145\"}],\"tooltips\":[[\"Date\",\"@x_values{%Y-%m-%d %H:%M}\"],[\"Value\",\"@y_2_values\"]],\"formatters\":{\"type\":\"map\",\"entries\":[[\"@x_values\",\"datetime\"]]}}},{\"type\":\"object\",\"name\":\"HoverTool\",\"id\":\"p542152\",\"attributes\":{\"renderers\":[{\"id\":\"p542125\"},{\"id\":\"p542145\"}],\"tooltips\":[[\"Date\",\"@x_values{%Y-%m-%d %H:%M}\"],[\"Value\",\"@y_1_values\"]],\"formatters\":{\"type\":\"map\",\"entries\":[[\"@x_values\",\"datetime\"]]}}}]}},\"left\":[{\"type\":\"object\",\"name\":\"LinearAxis\",\"id\":\"p542083\",\"attributes\":{\"ticker\":{\"type\":\"object\",\"name\":\"BasicTicker\",\"id\":\"p542086\",\"attributes\":{\"mantissas\":[1,2,5]}},\"formatter\":{\"type\":\"object\",\"name\":\"BasicTickFormatter\",\"id\":\"p542085\"},\"axis_label\":\"Percentage Change (%)\",\"axis_label_standoff\":10,\"axis_label_text_color\":\"#E0E0E0\",\"axis_label_text_font\":\"Helvetica\",\"axis_label_text_font_size\":\"1.25em\",\"axis_label_text_font_style\":\"normal\",\"major_label_policy\":{\"type\":\"object\",\"name\":\"AllLabels\",\"id\":\"p542084\"},\"major_label_text_color\":\"#E0E0E0\",\"major_label_text_font\":\"Helvetica\",\"major_label_text_font_size\":\"1.025em\",\"axis_line_color\":\"#E0E0E0\",\"axis_line_alpha\":0,\"major_tick_line_color\":\"#E0E0E0\",\"major_tick_line_alpha\":0,\"minor_tick_line_color\":\"#E0E0E0\",\"minor_tick_line_alpha\":0}}],\"below\":[{\"type\":\"object\",\"name\":\"DatetimeAxis\",\"id\":\"p542040\",\"attributes\":{\"ticker\":{\"type\":\"object\",\"name\":\"DatetimeTicker\",\"id\":\"p542043\",\"attributes\":{\"num_minor_ticks\":5,\"tickers\":[{\"type\":\"object\",\"name\":\"AdaptiveTicker\",\"id\":\"p542044\",\"attributes\":{\"num_minor_ticks\":0,\"mantissas\":[1,2,5],\"max_interval\":500.0}},{\"type\":\"object\",\"name\":\"AdaptiveTicker\",\"id\":\"p542045\",\"attributes\":{\"num_minor_ticks\":0,\"base\":60,\"mantissas\":[1,2,5,10,15,20,30],\"min_interval\":1000.0,\"max_interval\":1800000.0}},{\"type\":\"object\",\"name\":\"AdaptiveTicker\",\"id\":\"p542046\",\"attributes\":{\"num_minor_ticks\":0,\"base\":24,\"mantissas\":[1,2,4,6,8,12],\"min_interval\":3600000.0,\"max_interval\":43200000.0}},{\"type\":\"object\",\"name\":\"DaysTicker\",\"id\":\"p542047\",\"attributes\":{\"days\":[1,2,3,4,5,6,7,8,9,10,11,12,13,14,15,16,17,18,19,20,21,22,23,24,25,26,27,28,29,30,31]}},{\"type\":\"object\",\"name\":\"DaysTicker\",\"id\":\"p542048\",\"attributes\":{\"days\":[1,4,7,10,13,16,19,22,25,28]}},{\"type\":\"object\",\"name\":\"DaysTicker\",\"id\":\"p542049\",\"attributes\":{\"days\":[1,8,15,22]}},{\"type\":\"object\",\"name\":\"DaysTicker\",\"id\":\"p542050\",\"attributes\":{\"days\":[1,15]}},{\"type\":\"object\",\"name\":\"MonthsTicker\",\"id\":\"p542051\",\"attributes\":{\"months\":[0,1,2,3,4,5,6,7,8,9,10,11]}},{\"type\":\"object\",\"name\":\"MonthsTicker\",\"id\":\"p542052\",\"attributes\":{\"months\":[0,2,4,6,8,10]}},{\"type\":\"object\",\"name\":\"MonthsTicker\",\"id\":\"p542053\",\"attributes\":{\"months\":[0,4,8]}},{\"type\":\"object\",\"name\":\"MonthsTicker\",\"id\":\"p542054\",\"attributes\":{\"months\":[0,6]}},{\"type\":\"object\",\"name\":\"YearsTicker\",\"id\":\"p542055\"}]}},\"formatter\":{\"type\":\"object\",\"name\":\"DatetimeTickFormatter\",\"id\":\"p542148\",\"attributes\":{\"hours\":\"%H:%M\"}},\"axis_label\":\"Date-Time\",\"axis_label_standoff\":10,\"axis_label_text_color\":\"#E0E0E0\",\"axis_label_text_font\":\"Helvetica\",\"axis_label_text_font_size\":\"1.25em\",\"axis_label_text_font_style\":\"normal\",\"major_label_policy\":{\"type\":\"object\",\"name\":\"AllLabels\",\"id\":\"p542041\"},\"major_label_text_color\":\"#E0E0E0\",\"major_label_text_font\":\"Helvetica\",\"major_label_text_font_size\":\"1.025em\",\"axis_line_color\":\"#E0E0E0\",\"axis_line_alpha\":0,\"major_tick_line_color\":\"#E0E0E0\",\"major_tick_line_alpha\":0,\"minor_tick_line_color\":\"#E0E0E0\",\"minor_tick_line_alpha\":0}}],\"center\":[{\"type\":\"object\",\"name\":\"Grid\",\"id\":\"p542082\",\"attributes\":{\"axis\":{\"id\":\"p542040\"},\"grid_line_color\":\"#E0E0E0\",\"grid_line_alpha\":0.25}},{\"type\":\"object\",\"name\":\"Grid\",\"id\":\"p542089\",\"attributes\":{\"dimension\":1,\"axis\":{\"id\":\"p542083\"},\"grid_line_color\":\"#E0E0E0\",\"grid_line_alpha\":0.25}},{\"type\":\"object\",\"name\":\"Legend\",\"id\":\"p542117\",\"attributes\":{\"location\":\"top_left\",\"title\":\"Lines\",\"border_line_alpha\":0,\"background_fill_color\":\"#20262B\",\"background_fill_alpha\":0.25,\"label_text_color\":\"#E0E0E0\",\"label_text_font\":\"Helvetica\",\"label_text_font_size\":\"1.025em\",\"label_standoff\":8,\"glyph_width\":15,\"spacing\":8,\"items\":[{\"type\":\"object\",\"name\":\"LegendItem\",\"id\":\"p542118\",\"attributes\":{\"label\":{\"type\":\"value\",\"value\":\"Line 1\"},\"renderers\":[{\"id\":\"p542114\"},{\"id\":\"p542125\"}]}},{\"type\":\"object\",\"name\":\"LegendItem\",\"id\":\"p542138\",\"attributes\":{\"label\":{\"type\":\"value\",\"value\":\"Line 2\"},\"renderers\":[{\"id\":\"p542135\"},{\"id\":\"p542145\"}]}}]}}],\"background_fill_color\":\"#20262B\",\"border_fill_color\":\"#15191C\"}}],\"callbacks\":{\"type\":\"map\"}}};\n",
       "  const render_items = [{\"docid\":\"8a406a79-483c-4a7f-8cf6-95e6eb955f46\",\"roots\":{\"p542022\":\"f728651f-7a1d-4e34-af6c-ffb21a083d47\"},\"root_ids\":[\"p542022\"]}];\n",
       "  root.Bokeh.embed.embed_items_notebook(docs_json, render_items);\n",
       "  }\n",
       "  if (root.Bokeh !== undefined) {\n",
       "    embed_document(root);\n",
       "  } else {\n",
       "    let attempts = 0;\n",
       "    const timer = setInterval(function(root) {\n",
       "      if (root.Bokeh !== undefined) {\n",
       "        clearInterval(timer);\n",
       "        embed_document(root);\n",
       "      } else {\n",
       "        attempts++;\n",
       "        if (attempts > 100) {\n",
       "          clearInterval(timer);\n",
       "          console.log(\"Bokeh: ERROR: Unable to run BokehJS code because BokehJS library is missing\");\n",
       "        }\n",
       "      }\n",
       "    }, 10, root)\n",
       "  }\n",
       "})(window);"
      ],
      "application/vnd.bokehjs_exec.v0+json": ""
     },
     "metadata": {
      "application/vnd.bokehjs_exec.v0+json": {
       "id": "p542022"
      }
     },
     "output_type": "display_data"
    }
   ],
   "source": [
    "from bokeh.plotting import figure, show\n",
    "from bokeh.models import HoverTool, ColumnDataSource, DatetimeTickFormatter\n",
    "from datetime import datetime\n",
    "import random\n",
    "from bokeh.models import LinearColorMapper\n",
    "from bokeh.palettes import Turbo256\n",
    "\n",
    "# Dummy data representing different hour-minute values\n",
    "hour_minutes = [(1, 0), (2, 5), (3, 10), (4, 15), (5, 20), (9, 25)]\n",
    "\n",
    "# Create a list of datetime objects from the hour-minute values\n",
    "x_values = [datetime(datetime.now().year, datetime.now().month, datetime.now().day, hour, minute) for hour, minute in hour_minutes]\n",
    "y_1_values = [i for i in range(len(hour_minutes))]\n",
    "y_2_values = [random.randint(0, 100) for _ in range(len(hour_minutes))]\n",
    "\n",
    "# Create a figure\n",
    "p = figure(\n",
    "    title=\"Dhaka Stock Exchange Live Change\",\n",
    "    x_axis_type=\"datetime\",\n",
    "    sizing_mode=\"scale_both\",\n",
    "    max_width=900,\n",
    "    max_height=300,\n",
    "    width=900,\n",
    "    height=900\n",
    ")\n",
    "\n",
    "p.title.align = \"center\"\n",
    "# Set x-axis and y-axis labels\n",
    "p.xaxis.axis_label = \"Date-Time\"\n",
    "p.yaxis.axis_label = \"Percentage Change (%)\"\n",
    "\n",
    "source = ColumnDataSource(data=dict(x_values=x_values, y_1_values=y_1_values, y_2_values=y_2_values))\n",
    "\n",
    "p.circle(x='x_values', y='y_1_values', source=source, legend_label=\"Line 1\", line_color='pink')\n",
    "\n",
    "# Add the line with varying colors based on values\n",
    "line1 = p.line(x='x_values', y='y_1_values', legend_label=\"Line 1\", line_color='yellow', source=source)\n",
    "\n",
    "mapper = LinearColorMapper(palette=Turbo256, high=min(y_2_values), low=max(y_2_values))\n",
    "\n",
    "p.circle(x='x_values', y='y_2_values', legend_label=\"Line 2\", color={'field': 'y_2_values', 'transform': mapper}, size=10, source=source)\n",
    "\n",
    "# Add the line with varying colors based on values\n",
    "line2 = p.line(x='x_values', y='y_2_values', legend_label=\"Line 2\", line_color='orange', source=source)\n",
    "\n",
    "\n",
    "new_data = {\n",
    "    'x_values' : [datetime(2023, 5, 21, 5, 20), ],\n",
    "    'y_1_values' : [100,],\n",
    "    'y_2_values' : [50,],\n",
    "}\n",
    "\n",
    "source.stream(new_data)\n",
    "\n",
    "# Customize the x-axis tick labels\n",
    "p.xaxis.formatter = DatetimeTickFormatter(hours=\"%H:%M\")\n",
    "\n",
    "# Set the theme to dark_minimal\n",
    "curdoc().theme = 'dark_minimal'\n",
    "\n",
    "p.legend.title = 'Lines'\n",
    "p.legend.location = \"top_left\"  # Options: top_left, top_right, bottom_left, bottom_right, center, center_left, center_right\n",
    "\n",
    "# Define tooltips\n",
    "tooltips = [\n",
    "    (\"Date\", \"@x_values{%Y-%m-%d %H:%M}\"),\n",
    "    (\"Value\", \"@y_2_values\"),\n",
    "]\n",
    "\n",
    "# Add tooltips to both lines\n",
    "hover_tool = HoverTool(renderers=[line2, \n",
    "                                  # line2\n",
    "                                 ], tooltips=tooltips, formatters={\"@x_values\": \"datetime\"})\n",
    "p.add_tools(hover_tool)\n",
    "\n",
    "\n",
    "# Define tooltips\n",
    "tooltips = [\n",
    "    (\"Date\", \"@x_values{%Y-%m-%d %H:%M}\"),\n",
    "    (\"Value\", \"@y_1_values\"),\n",
    "]\n",
    "\n",
    "# Add tooltips to both lines\n",
    "hover_tool = HoverTool(renderers=[line1, \n",
    "                                  line2\n",
    "                                 ], tooltips=tooltips, formatters={\"@x_values\": \"datetime\"})\n",
    "p.add_tools(hover_tool)\n",
    "# Show the plot\n",
    "show(p)\n"
   ]
  },
  {
   "cell_type": "code",
   "execution_count": 243,
   "id": "a6cee9db-5791-44ea-a81c-7f8ead7623ac",
   "metadata": {},
   "outputs": [
    {
     "data": {
      "text/html": [
       "\n",
       "  <div id=\"e03bd9d6-d226-40ad-b968-542e823e0f9e\" data-root-id=\"p549654\" style=\"display: contents;\"></div>\n"
      ]
     },
     "metadata": {},
     "output_type": "display_data"
    },
    {
     "data": {
      "application/javascript": [
       "(function(root) {\n",
       "  function embed_document(root) {\n",
       "  const docs_json = {\"e9b3c0bc-0d81-44a6-909a-af9edc5accec\":{\"version\":\"3.1.1\",\"title\":\"Bokeh Application\",\"defs\":[],\"roots\":[{\"type\":\"object\",\"name\":\"Figure\",\"id\":\"p549654\",\"attributes\":{\"width\":900,\"height\":900,\"max_width\":900,\"max_height\":300,\"sizing_mode\":\"scale_both\",\"x_range\":{\"type\":\"object\",\"name\":\"DataRange1d\",\"id\":\"p549655\"},\"y_range\":{\"type\":\"object\",\"name\":\"DataRange1d\",\"id\":\"p549656\"},\"x_scale\":{\"type\":\"object\",\"name\":\"LinearScale\",\"id\":\"p549668\"},\"y_scale\":{\"type\":\"object\",\"name\":\"LinearScale\",\"id\":\"p549670\"},\"title\":{\"type\":\"object\",\"name\":\"Title\",\"id\":\"p549657\",\"attributes\":{\"text\":\"Dhaka Stock Exchange Live Change\",\"text_color\":\"#E0E0E0\",\"text_font\":\"Helvetica\",\"text_font_size\":\"1.15em\",\"align\":\"center\"}},\"outline_line_color\":\"#E0E0E0\",\"outline_line_alpha\":0.25,\"renderers\":[{\"type\":\"object\",\"name\":\"GlyphRenderer\",\"id\":\"p549746\",\"attributes\":{\"data_source\":{\"type\":\"object\",\"name\":\"ColumnDataSource\",\"id\":\"p549737\",\"attributes\":{\"selected\":{\"type\":\"object\",\"name\":\"Selection\",\"id\":\"p549739\",\"attributes\":{\"indices\":[],\"line_indices\":[]}},\"selection_policy\":{\"type\":\"object\",\"name\":\"UnionRenderers\",\"id\":\"p549738\"},\"data\":{\"type\":\"map\",\"entries\":[[\"x_values\",[1684544400000.0,1684548300000.0,1684552200000.0,1684556100000.0,1684560000000.0,1684574700000.0,1684646400000.0]],[\"y_1_values\",[0,1,2,3,4,5,100]],[\"y_2_values\",[84,19,58,59,79,20,50]]]}}},\"view\":{\"type\":\"object\",\"name\":\"CDSView\",\"id\":\"p549747\",\"attributes\":{\"filter\":{\"type\":\"object\",\"name\":\"AllIndices\",\"id\":\"p549748\"}}},\"glyph\":{\"type\":\"object\",\"name\":\"Circle\",\"id\":\"p549743\",\"attributes\":{\"x\":{\"type\":\"field\",\"field\":\"x_values\"},\"y\":{\"type\":\"field\",\"field\":\"y_1_values\"},\"line_color\":{\"type\":\"value\",\"value\":\"pink\"},\"fill_color\":{\"type\":\"value\",\"value\":\"#1f77b4\"}}},\"nonselection_glyph\":{\"type\":\"object\",\"name\":\"Circle\",\"id\":\"p549744\",\"attributes\":{\"x\":{\"type\":\"field\",\"field\":\"x_values\"},\"y\":{\"type\":\"field\",\"field\":\"y_1_values\"},\"line_color\":{\"type\":\"value\",\"value\":\"pink\"},\"line_alpha\":{\"type\":\"value\",\"value\":0.1},\"fill_color\":{\"type\":\"value\",\"value\":\"#1f77b4\"},\"fill_alpha\":{\"type\":\"value\",\"value\":0.1},\"hatch_alpha\":{\"type\":\"value\",\"value\":0.1}}},\"muted_glyph\":{\"type\":\"object\",\"name\":\"Circle\",\"id\":\"p549745\",\"attributes\":{\"x\":{\"type\":\"field\",\"field\":\"x_values\"},\"y\":{\"type\":\"field\",\"field\":\"y_1_values\"},\"line_color\":{\"type\":\"value\",\"value\":\"pink\"},\"line_alpha\":{\"type\":\"value\",\"value\":0.2},\"fill_color\":{\"type\":\"value\",\"value\":\"#1f77b4\"},\"fill_alpha\":{\"type\":\"value\",\"value\":0.2},\"hatch_alpha\":{\"type\":\"value\",\"value\":0.2}}}}},{\"type\":\"object\",\"name\":\"GlyphRenderer\",\"id\":\"p549757\",\"attributes\":{\"data_source\":{\"id\":\"p549737\"},\"view\":{\"type\":\"object\",\"name\":\"CDSView\",\"id\":\"p549758\",\"attributes\":{\"filter\":{\"type\":\"object\",\"name\":\"AllIndices\",\"id\":\"p549759\"}}},\"glyph\":{\"type\":\"object\",\"name\":\"Line\",\"id\":\"p549754\",\"attributes\":{\"x\":{\"type\":\"field\",\"field\":\"x_values\"},\"y\":{\"type\":\"field\",\"field\":\"y_1_values\"},\"line_color\":\"yellow\"}},\"nonselection_glyph\":{\"type\":\"object\",\"name\":\"Line\",\"id\":\"p549755\",\"attributes\":{\"x\":{\"type\":\"field\",\"field\":\"x_values\"},\"y\":{\"type\":\"field\",\"field\":\"y_1_values\"},\"line_color\":\"yellow\",\"line_alpha\":0.1}},\"muted_glyph\":{\"type\":\"object\",\"name\":\"Line\",\"id\":\"p549756\",\"attributes\":{\"x\":{\"type\":\"field\",\"field\":\"x_values\"},\"y\":{\"type\":\"field\",\"field\":\"y_1_values\"},\"line_color\":\"yellow\",\"line_alpha\":0.2}}}},{\"type\":\"object\",\"name\":\"GlyphRenderer\",\"id\":\"p549767\",\"attributes\":{\"data_source\":{\"id\":\"p549737\"},\"view\":{\"type\":\"object\",\"name\":\"CDSView\",\"id\":\"p549768\",\"attributes\":{\"filter\":{\"type\":\"object\",\"name\":\"AllIndices\",\"id\":\"p549769\"}}},\"glyph\":{\"type\":\"object\",\"name\":\"Circle\",\"id\":\"p549764\",\"attributes\":{\"x\":{\"type\":\"field\",\"field\":\"x_values\"},\"y\":{\"type\":\"field\",\"field\":\"y_2_values\"},\"size\":{\"type\":\"value\",\"value\":10},\"line_color\":{\"type\":\"field\",\"field\":\"y_2_values\",\"transform\":{\"type\":\"object\",\"name\":\"LinearColorMapper\",\"id\":\"p549760\",\"attributes\":{\"palette\":[\"#30123b\",\"#311542\",\"#32184a\",\"#341b51\",\"#351e58\",\"#36215f\",\"#372365\",\"#38266c\",\"#392972\",\"#3a2c79\",\"#3b2f7f\",\"#3c3285\",\"#3c358b\",\"#3d3791\",\"#3e3a96\",\"#3f3d9c\",\"#4040a1\",\"#4043a6\",\"#4145ab\",\"#4148b0\",\"#424bb5\",\"#434eba\",\"#4350be\",\"#4353c2\",\"#4456c7\",\"#4458cb\",\"#455bce\",\"#455ed2\",\"#4560d6\",\"#4563d9\",\"#4666dd\",\"#4668e0\",\"#466be3\",\"#466de6\",\"#4670e8\",\"#4673eb\",\"#4675ed\",\"#4678f0\",\"#467af2\",\"#467df4\",\"#467ff6\",\"#4682f8\",\"#4584f9\",\"#4587fb\",\"#4589fc\",\"#448cfd\",\"#438efd\",\"#4291fe\",\"#4193fe\",\"#4096fe\",\"#3f98fe\",\"#3e9bfe\",\"#3c9dfd\",\"#3ba0fc\",\"#39a2fc\",\"#38a5fb\",\"#36a8f9\",\"#34aaf8\",\"#33acf6\",\"#31aff5\",\"#2fb1f3\",\"#2db4f1\",\"#2bb6ef\",\"#2ab9ed\",\"#28bbeb\",\"#26bde9\",\"#25c0e6\",\"#23c2e4\",\"#21c4e1\",\"#20c6df\",\"#1ec9dc\",\"#1dcbda\",\"#1ccdd7\",\"#1bcfd4\",\"#1ad1d2\",\"#19d3cf\",\"#18d5cc\",\"#18d7ca\",\"#17d9c7\",\"#17dac4\",\"#17dcc2\",\"#17debf\",\"#18e0bd\",\"#18e1ba\",\"#19e3b8\",\"#1ae4b6\",\"#1be5b4\",\"#1de7b1\",\"#1ee8af\",\"#20e9ac\",\"#22eba9\",\"#24eca6\",\"#27eda3\",\"#29eea0\",\"#2cef9d\",\"#2ff09a\",\"#32f197\",\"#35f394\",\"#38f491\",\"#3bf48d\",\"#3ff58a\",\"#42f687\",\"#46f783\",\"#4af880\",\"#4df97c\",\"#51f979\",\"#55fa76\",\"#59fb72\",\"#5dfb6f\",\"#61fc6c\",\"#65fc68\",\"#69fd65\",\"#6dfd62\",\"#71fd5f\",\"#74fe5c\",\"#78fe59\",\"#7cfe56\",\"#80fe53\",\"#84fe50\",\"#87fe4d\",\"#8bfe4b\",\"#8efe48\",\"#92fe46\",\"#95fe44\",\"#98fe42\",\"#9bfd40\",\"#9efd3e\",\"#a1fc3d\",\"#a4fc3b\",\"#a6fb3a\",\"#a9fb39\",\"#acfa37\",\"#aef937\",\"#b1f836\",\"#b3f835\",\"#b6f735\",\"#b9f534\",\"#bbf434\",\"#bef334\",\"#c0f233\",\"#c3f133\",\"#c5ef33\",\"#c8ee33\",\"#caed33\",\"#cdeb34\",\"#cfea34\",\"#d1e834\",\"#d4e735\",\"#d6e535\",\"#d8e335\",\"#dae236\",\"#dde036\",\"#dfde36\",\"#e1dc37\",\"#e3da37\",\"#e5d838\",\"#e7d738\",\"#e8d538\",\"#ead339\",\"#ecd139\",\"#edcf39\",\"#efcd39\",\"#f0cb3a\",\"#f2c83a\",\"#f3c63a\",\"#f4c43a\",\"#f6c23a\",\"#f7c039\",\"#f8be39\",\"#f9bc39\",\"#f9ba38\",\"#fab737\",\"#fbb537\",\"#fbb336\",\"#fcb035\",\"#fcae34\",\"#fdab33\",\"#fda932\",\"#fda631\",\"#fda330\",\"#fea12f\",\"#fe9e2e\",\"#fe9b2d\",\"#fe982c\",\"#fd952b\",\"#fd9229\",\"#fd8f28\",\"#fd8c27\",\"#fc8926\",\"#fc8624\",\"#fb8323\",\"#fb8022\",\"#fa7d20\",\"#fa7a1f\",\"#f9771e\",\"#f8741c\",\"#f7711b\",\"#f76e1a\",\"#f66b18\",\"#f56817\",\"#f46516\",\"#f36315\",\"#f26014\",\"#f15d13\",\"#ef5a11\",\"#ee5810\",\"#ed550f\",\"#ec520e\",\"#ea500d\",\"#e94d0d\",\"#e84b0c\",\"#e6490b\",\"#e5460a\",\"#e3440a\",\"#e24209\",\"#e04008\",\"#de3e08\",\"#dd3c07\",\"#db3a07\",\"#d93806\",\"#d73606\",\"#d63405\",\"#d43205\",\"#d23005\",\"#d02f04\",\"#ce2d04\",\"#cb2b03\",\"#c92903\",\"#c72803\",\"#c52602\",\"#c32402\",\"#c02302\",\"#be2102\",\"#bb1f01\",\"#b91e01\",\"#b61c01\",\"#b41b01\",\"#b11901\",\"#ae1801\",\"#ac1601\",\"#a91501\",\"#a61401\",\"#a31201\",\"#a01101\",\"#9d1001\",\"#9a0e01\",\"#970d01\",\"#940c01\",\"#910b01\",\"#8e0a01\",\"#8b0901\",\"#870801\",\"#840701\",\"#810602\",\"#7d0502\",\"#7a0402\"],\"low\":84,\"high\":19}}},\"fill_color\":{\"type\":\"field\",\"field\":\"y_2_values\",\"transform\":{\"id\":\"p549760\"}},\"hatch_color\":{\"type\":\"field\",\"field\":\"y_2_values\",\"transform\":{\"id\":\"p549760\"}}}},\"nonselection_glyph\":{\"type\":\"object\",\"name\":\"Circle\",\"id\":\"p549765\",\"attributes\":{\"x\":{\"type\":\"field\",\"field\":\"x_values\"},\"y\":{\"type\":\"field\",\"field\":\"y_2_values\"},\"size\":{\"type\":\"value\",\"value\":10},\"line_color\":{\"type\":\"field\",\"field\":\"y_2_values\",\"transform\":{\"id\":\"p549760\"}},\"line_alpha\":{\"type\":\"value\",\"value\":0.1},\"fill_color\":{\"type\":\"field\",\"field\":\"y_2_values\",\"transform\":{\"id\":\"p549760\"}},\"fill_alpha\":{\"type\":\"value\",\"value\":0.1},\"hatch_color\":{\"type\":\"field\",\"field\":\"y_2_values\",\"transform\":{\"id\":\"p549760\"}},\"hatch_alpha\":{\"type\":\"value\",\"value\":0.1}}},\"muted_glyph\":{\"type\":\"object\",\"name\":\"Circle\",\"id\":\"p549766\",\"attributes\":{\"x\":{\"type\":\"field\",\"field\":\"x_values\"},\"y\":{\"type\":\"field\",\"field\":\"y_2_values\"},\"size\":{\"type\":\"value\",\"value\":10},\"line_color\":{\"type\":\"field\",\"field\":\"y_2_values\",\"transform\":{\"id\":\"p549760\"}},\"line_alpha\":{\"type\":\"value\",\"value\":0.2},\"fill_color\":{\"type\":\"field\",\"field\":\"y_2_values\",\"transform\":{\"id\":\"p549760\"}},\"fill_alpha\":{\"type\":\"value\",\"value\":0.2},\"hatch_color\":{\"type\":\"field\",\"field\":\"y_2_values\",\"transform\":{\"id\":\"p549760\"}},\"hatch_alpha\":{\"type\":\"value\",\"value\":0.2}}}}},{\"type\":\"object\",\"name\":\"GlyphRenderer\",\"id\":\"p549777\",\"attributes\":{\"data_source\":{\"id\":\"p549737\"},\"view\":{\"type\":\"object\",\"name\":\"CDSView\",\"id\":\"p549778\",\"attributes\":{\"filter\":{\"type\":\"object\",\"name\":\"AllIndices\",\"id\":\"p549779\"}}},\"glyph\":{\"type\":\"object\",\"name\":\"Line\",\"id\":\"p549774\",\"attributes\":{\"x\":{\"type\":\"field\",\"field\":\"x_values\"},\"y\":{\"type\":\"field\",\"field\":\"y_2_values\"},\"line_color\":\"orange\"}},\"nonselection_glyph\":{\"type\":\"object\",\"name\":\"Line\",\"id\":\"p549775\",\"attributes\":{\"x\":{\"type\":\"field\",\"field\":\"x_values\"},\"y\":{\"type\":\"field\",\"field\":\"y_2_values\"},\"line_color\":\"orange\",\"line_alpha\":0.1}},\"muted_glyph\":{\"type\":\"object\",\"name\":\"Line\",\"id\":\"p549776\",\"attributes\":{\"x\":{\"type\":\"field\",\"field\":\"x_values\"},\"y\":{\"type\":\"field\",\"field\":\"y_2_values\"},\"line_color\":\"orange\",\"line_alpha\":0.2}}}}],\"toolbar\":{\"type\":\"object\",\"name\":\"Toolbar\",\"id\":\"p549660\",\"attributes\":{\"tools\":[{\"type\":\"object\",\"name\":\"PanTool\",\"id\":\"p549722\"},{\"type\":\"object\",\"name\":\"WheelZoomTool\",\"id\":\"p549723\"},{\"type\":\"object\",\"name\":\"BoxZoomTool\",\"id\":\"p549724\",\"attributes\":{\"overlay\":{\"type\":\"object\",\"name\":\"BoxAnnotation\",\"id\":\"p549725\",\"attributes\":{\"syncable\":false,\"level\":\"overlay\",\"visible\":false,\"left_units\":\"canvas\",\"right_units\":\"canvas\",\"bottom_units\":\"canvas\",\"top_units\":\"canvas\",\"line_color\":\"black\",\"line_alpha\":1.0,\"line_width\":2,\"line_dash\":[4,4],\"fill_color\":\"lightgrey\",\"fill_alpha\":0.5}}}},{\"type\":\"object\",\"name\":\"SaveTool\",\"id\":\"p549726\"},{\"type\":\"object\",\"name\":\"ResetTool\",\"id\":\"p549727\"},{\"type\":\"object\",\"name\":\"HelpTool\",\"id\":\"p549728\"},{\"type\":\"object\",\"name\":\"HoverTool\",\"id\":\"p549782\",\"attributes\":{\"renderers\":[{\"id\":\"p549777\"}],\"tooltips\":[[\"Date\",\"@x_values{%Y-%m-%d %H:%M}\"],[\"Value\",\"@y_2_values\"]],\"formatters\":{\"type\":\"map\",\"entries\":[[\"@x_values\",\"datetime\"]]}}},{\"type\":\"object\",\"name\":\"HoverTool\",\"id\":\"p549784\",\"attributes\":{\"renderers\":[{\"id\":\"p549757\"}],\"tooltips\":[[\"Date\",\"@x_values{%Y-%m-%d %H:%M}\"],[\"Value\",\"@y_1_values\"]],\"formatters\":{\"type\":\"map\",\"entries\":[[\"@x_values\",\"datetime\"]]}}}]}},\"left\":[{\"type\":\"object\",\"name\":\"LinearAxis\",\"id\":\"p549715\",\"attributes\":{\"ticker\":{\"type\":\"object\",\"name\":\"BasicTicker\",\"id\":\"p549718\",\"attributes\":{\"mantissas\":[1,2,5]}},\"formatter\":{\"type\":\"object\",\"name\":\"BasicTickFormatter\",\"id\":\"p549717\"},\"axis_label\":\"Percentage Change (%)\",\"axis_label_standoff\":10,\"axis_label_text_color\":\"#E0E0E0\",\"axis_label_text_font\":\"Helvetica\",\"axis_label_text_font_size\":\"1.25em\",\"axis_label_text_font_style\":\"normal\",\"major_label_policy\":{\"type\":\"object\",\"name\":\"AllLabels\",\"id\":\"p549716\"},\"major_label_text_color\":\"#E0E0E0\",\"major_label_text_font\":\"Helvetica\",\"major_label_text_font_size\":\"1.025em\",\"axis_line_color\":\"#E0E0E0\",\"axis_line_alpha\":0,\"major_tick_line_color\":\"#E0E0E0\",\"major_tick_line_alpha\":0,\"minor_tick_line_color\":\"#E0E0E0\",\"minor_tick_line_alpha\":0}}],\"below\":[{\"type\":\"object\",\"name\":\"DatetimeAxis\",\"id\":\"p549672\",\"attributes\":{\"ticker\":{\"type\":\"object\",\"name\":\"DatetimeTicker\",\"id\":\"p549675\",\"attributes\":{\"num_minor_ticks\":5,\"tickers\":[{\"type\":\"object\",\"name\":\"AdaptiveTicker\",\"id\":\"p549676\",\"attributes\":{\"num_minor_ticks\":0,\"mantissas\":[1,2,5],\"max_interval\":500.0}},{\"type\":\"object\",\"name\":\"AdaptiveTicker\",\"id\":\"p549677\",\"attributes\":{\"num_minor_ticks\":0,\"base\":60,\"mantissas\":[1,2,5,10,15,20,30],\"min_interval\":1000.0,\"max_interval\":1800000.0}},{\"type\":\"object\",\"name\":\"AdaptiveTicker\",\"id\":\"p549678\",\"attributes\":{\"num_minor_ticks\":0,\"base\":24,\"mantissas\":[1,2,4,6,8,12],\"min_interval\":3600000.0,\"max_interval\":43200000.0}},{\"type\":\"object\",\"name\":\"DaysTicker\",\"id\":\"p549679\",\"attributes\":{\"days\":[1,2,3,4,5,6,7,8,9,10,11,12,13,14,15,16,17,18,19,20,21,22,23,24,25,26,27,28,29,30,31]}},{\"type\":\"object\",\"name\":\"DaysTicker\",\"id\":\"p549680\",\"attributes\":{\"days\":[1,4,7,10,13,16,19,22,25,28]}},{\"type\":\"object\",\"name\":\"DaysTicker\",\"id\":\"p549681\",\"attributes\":{\"days\":[1,8,15,22]}},{\"type\":\"object\",\"name\":\"DaysTicker\",\"id\":\"p549682\",\"attributes\":{\"days\":[1,15]}},{\"type\":\"object\",\"name\":\"MonthsTicker\",\"id\":\"p549683\",\"attributes\":{\"months\":[0,1,2,3,4,5,6,7,8,9,10,11]}},{\"type\":\"object\",\"name\":\"MonthsTicker\",\"id\":\"p549684\",\"attributes\":{\"months\":[0,2,4,6,8,10]}},{\"type\":\"object\",\"name\":\"MonthsTicker\",\"id\":\"p549685\",\"attributes\":{\"months\":[0,4,8]}},{\"type\":\"object\",\"name\":\"MonthsTicker\",\"id\":\"p549686\",\"attributes\":{\"months\":[0,6]}},{\"type\":\"object\",\"name\":\"YearsTicker\",\"id\":\"p549687\"}]}},\"formatter\":{\"type\":\"object\",\"name\":\"DatetimeTickFormatter\",\"id\":\"p549780\",\"attributes\":{\"hours\":\"%H:%M\"}},\"axis_label\":\"Date-Time\",\"axis_label_standoff\":10,\"axis_label_text_color\":\"#E0E0E0\",\"axis_label_text_font\":\"Helvetica\",\"axis_label_text_font_size\":\"1.25em\",\"axis_label_text_font_style\":\"normal\",\"major_label_policy\":{\"type\":\"object\",\"name\":\"AllLabels\",\"id\":\"p549673\"},\"major_label_text_color\":\"#E0E0E0\",\"major_label_text_font\":\"Helvetica\",\"major_label_text_font_size\":\"1.025em\",\"axis_line_color\":\"#E0E0E0\",\"axis_line_alpha\":0,\"major_tick_line_color\":\"#E0E0E0\",\"major_tick_line_alpha\":0,\"minor_tick_line_color\":\"#E0E0E0\",\"minor_tick_line_alpha\":0}}],\"center\":[{\"type\":\"object\",\"name\":\"Grid\",\"id\":\"p549714\",\"attributes\":{\"axis\":{\"id\":\"p549672\"},\"grid_line_color\":\"#E0E0E0\",\"grid_line_alpha\":0.25}},{\"type\":\"object\",\"name\":\"Grid\",\"id\":\"p549721\",\"attributes\":{\"dimension\":1,\"axis\":{\"id\":\"p549715\"},\"grid_line_color\":\"#E0E0E0\",\"grid_line_alpha\":0.25}},{\"type\":\"object\",\"name\":\"Legend\",\"id\":\"p549749\",\"attributes\":{\"location\":\"top_left\",\"title\":\"Lines\",\"border_line_alpha\":0,\"background_fill_color\":\"#20262B\",\"background_fill_alpha\":0.25,\"label_text_color\":\"#E0E0E0\",\"label_text_font\":\"Helvetica\",\"label_text_font_size\":\"1.025em\",\"label_standoff\":8,\"glyph_width\":15,\"spacing\":8,\"items\":[{\"type\":\"object\",\"name\":\"LegendItem\",\"id\":\"p549750\",\"attributes\":{\"label\":{\"type\":\"value\",\"value\":\"Line 1\"},\"renderers\":[{\"id\":\"p549746\"},{\"id\":\"p549757\"}]}},{\"type\":\"object\",\"name\":\"LegendItem\",\"id\":\"p549770\",\"attributes\":{\"label\":{\"type\":\"value\",\"value\":\"Line 2\"},\"renderers\":[{\"id\":\"p549767\"},{\"id\":\"p549777\"}]}}]}}],\"background_fill_color\":\"#20262B\",\"border_fill_color\":\"#15191C\"}}],\"callbacks\":{\"type\":\"map\"}}};\n",
       "  const render_items = [{\"docid\":\"e9b3c0bc-0d81-44a6-909a-af9edc5accec\",\"roots\":{\"p549654\":\"e03bd9d6-d226-40ad-b968-542e823e0f9e\"},\"root_ids\":[\"p549654\"]}];\n",
       "  root.Bokeh.embed.embed_items_notebook(docs_json, render_items);\n",
       "  }\n",
       "  if (root.Bokeh !== undefined) {\n",
       "    embed_document(root);\n",
       "  } else {\n",
       "    let attempts = 0;\n",
       "    const timer = setInterval(function(root) {\n",
       "      if (root.Bokeh !== undefined) {\n",
       "        clearInterval(timer);\n",
       "        embed_document(root);\n",
       "      } else {\n",
       "        attempts++;\n",
       "        if (attempts > 100) {\n",
       "          clearInterval(timer);\n",
       "          console.log(\"Bokeh: ERROR: Unable to run BokehJS code because BokehJS library is missing\");\n",
       "        }\n",
       "      }\n",
       "    }, 10, root)\n",
       "  }\n",
       "})(window);"
      ],
      "application/vnd.bokehjs_exec.v0+json": ""
     },
     "metadata": {
      "application/vnd.bokehjs_exec.v0+json": {
       "id": "p549654"
      }
     },
     "output_type": "display_data"
    }
   ],
   "source": [
    "from bokeh.plotting import figure, show\n",
    "from bokeh.models import HoverTool, ColumnDataSource, DatetimeTickFormatter\n",
    "from datetime import datetime\n",
    "import random\n",
    "from bokeh.models import LinearColorMapper\n",
    "from bokeh.palettes import Turbo256\n",
    "\n",
    "# Dummy data representing different hour-minute values\n",
    "hour_minutes = [(1, 0), (2, 5), (3, 10), (4, 15), (5, 20), (9, 25)]\n",
    "\n",
    "# Create a list of datetime objects from the hour-minute values\n",
    "x_values = [datetime(datetime.now().year, datetime.now().month, datetime.now().day, hour, minute) for hour, minute in hour_minutes]\n",
    "y_1_values = [i for i in range(len(hour_minutes))]\n",
    "y_2_values = [random.randint(0, 100) for _ in range(len(hour_minutes))]\n",
    "\n",
    "# Create a figure\n",
    "p = figure(\n",
    "    title=\"Dhaka Stock Exchange Live Change\",\n",
    "    x_axis_type=\"datetime\",\n",
    "    sizing_mode=\"scale_both\",\n",
    "    max_width=900,\n",
    "    max_height=300,\n",
    "    width=900,\n",
    "    height=900\n",
    ")\n",
    "\n",
    "p.title.align = \"center\"\n",
    "# Set x-axis and y-axis labels\n",
    "p.xaxis.axis_label = \"Date-Time\"\n",
    "p.yaxis.axis_label = \"Percentage Change (%)\"\n",
    "\n",
    "global source\n",
    "source = ColumnDataSource(data=dict(x_values=x_values, y_1_values=y_1_values, y_2_values=y_2_values))\n",
    "\n",
    "p.circle(x='x_values', y='y_1_values', source=source, legend_label=\"Line 1\", line_color='pink')\n",
    "\n",
    "# Add the line with varying colors based on values\n",
    "line1 = p.line(x='x_values', y='y_1_values', legend_label=\"Line 1\", line_color='yellow', source=source)\n",
    "\n",
    "mapper = LinearColorMapper(palette=Turbo256, high=min(y_2_values), low=max(y_2_values))\n",
    "\n",
    "p.circle(x='x_values', y='y_2_values', legend_label=\"Line 2\", color={'field': 'y_2_values', 'transform': mapper}, size=10, source=source)\n",
    "\n",
    "# Add the line with varying colors based on values\n",
    "line2 = p.line(x='x_values', y='y_2_values', legend_label=\"Line 2\", line_color='orange', source=source)\n",
    "\n",
    "\n",
    "new_data = {\n",
    "    'x_values' : [datetime(2023, 5, 21, 5, 20), ],\n",
    "    'y_1_values' : [100,],\n",
    "    'y_2_values' : [50,],\n",
    "}\n",
    "\n",
    "source.stream(new_data)\n",
    "\n",
    "def get_data():\n",
    "    x_values = datetime(2023, 5, 30, 12, 10)\n",
    "    y_1_values = [98]\n",
    "    y_2_values = [50]\n",
    "    return x_values, y_1_values, y_2_values\n",
    "\n",
    "def update():\n",
    "    source.stream(get_data())\n",
    "    \n",
    "\n",
    "# Customize the x-axis tick labels\n",
    "p.xaxis.formatter = DatetimeTickFormatter(hours=\"%H:%M\")\n",
    "\n",
    "# Set the theme to dark_minimal\n",
    "curdoc().theme = 'dark_minimal'\n",
    "\n",
    "p.legend.title = 'Lines'\n",
    "p.legend.location = \"top_left\"  # Options: top_left, top_right, bottom_left, bottom_right, center, center_left, center_right\n",
    "\n",
    "# Define tooltips\n",
    "tooltips = [\n",
    "    (\"Date\", \"@x_values{%Y-%m-%d %H:%M}\"),\n",
    "    (\"Value\", \"@y_2_values\"),\n",
    "]\n",
    "\n",
    "# Add tooltips to both lines\n",
    "hover_tool = HoverTool(renderers=[line2, \n",
    "                                  # line2\n",
    "                                 ], tooltips=tooltips, formatters={\"@x_values\": \"datetime\"})\n",
    "p.add_tools(hover_tool)\n",
    "\n",
    "\n",
    "# Define tooltips\n",
    "tooltips = [\n",
    "    (\"Date\", \"@x_values{%Y-%m-%d %H:%M}\"),\n",
    "    (\"Value\", \"@y_1_values\"),\n",
    "]\n",
    "\n",
    "# Add tooltips to both lines\n",
    "hover_tool_2 = HoverTool(renderers=[line1, \n",
    "                                  # line2\n",
    "                                 ], tooltips=tooltips, formatters={\"@x_values\": \"datetime\"})\n",
    "p.add_tools(hover_tool_2)\n",
    "# Show the plot\n",
    "\n",
    "\n",
    "curdoc().add_periodic_callback(update, 60)\n",
    "show(p)\n"
   ]
  },
  {
   "cell_type": "code",
   "execution_count": null,
   "id": "c3355ce3-f198-46e0-8eb2-f5b64ae44d13",
   "metadata": {},
   "outputs": [],
   "source": []
  },
  {
   "cell_type": "code",
   "execution_count": null,
   "id": "4ad4f44d-830b-4108-82c3-e33b4f892f87",
   "metadata": {},
   "outputs": [],
   "source": []
  },
  {
   "cell_type": "code",
   "execution_count": 286,
   "id": "25543b7f-1996-43e3-810d-a3a08c75b86c",
   "metadata": {},
   "outputs": [
    {
     "name": "stdout",
     "output_type": "stream",
     "text": [
      "2023-05-20 01:27:53\n",
      "2023-05-20 02:46:27\n",
      "2023-05-20 03:05:33\n",
      "2023-05-20 04:53:59\n",
      "2023-05-20 05:42:01\n",
      "2023-05-20 06:07:46\n"
     ]
    }
   ],
   "source": [
    "from datetime import datetime, timedelta\n",
    "import random\n",
    "\n",
    "# def generate_datetime_objects(no_of_obj, no_already_avail):\n",
    "#     x_values = []\n",
    "#     current_datetime = datetime.now()\n",
    "\n",
    "#     if no_already_avail == 0:\n",
    "#         x_values.append(current_datetime)\n",
    "\n",
    "#     for i in range(no_already_avail, no_already_avail + no_of_obj - 1):\n",
    "#         # Calculate the start and end time range for the current hour\n",
    "#         start_datetime = x_values[i - no_already_avail]\n",
    "#         end_datetime = start_datetime.replace(minute=0, second=0, microsecond=0) + timedelta(hours=1)\n",
    "\n",
    "#         # Generate a random datetime within the current hour range\n",
    "#         new_datetime = start_datetime + timedelta(seconds=random.randint(0, int((end_datetime - start_datetime).total_seconds())))\n",
    "\n",
    "#         x_values.append(new_datetime)\n",
    "\n",
    "#     return x_values\n",
    "\n",
    "from datetime import datetime, timedelta\n",
    "import random\n",
    "\n",
    "def generate_datetime_objects(no_of_obj, no_already_avail):\n",
    "    x_values = []\n",
    "    current_datetime = datetime.now()\n",
    "\n",
    "    for i in range(no_already_avail, no_already_avail + no_of_obj):\n",
    "        start_datetime = current_datetime.replace(hour=i + 1, minute=0, second=0, microsecond=0)\n",
    "        end_datetime = current_datetime.replace(hour=i + 2, minute=0, second=0, microsecond=0)\n",
    "        new_datetime = start_datetime + timedelta(seconds=random.randint(0, int((end_datetime - start_datetime).total_seconds())))\n",
    "\n",
    "        x_values.append(new_datetime)\n",
    "\n",
    "    return x_values\n",
    "\n",
    "\n",
    "test = []\n",
    "# no_of_obj = 3\n",
    "# no_already_avail = len(test)\n",
    "\n",
    "# test += generate_datetime_objects(no_of_obj, no_already_avail)\n",
    "\n",
    "\n",
    "no_of_obj = 6\n",
    "test += generate_datetime_objects(no_of_obj, no_already_avail)\n",
    "\n",
    "for i in test:\n",
    "    print(i)"
   ]
  },
  {
   "cell_type": "code",
   "execution_count": 291,
   "id": "c79fa8c4-bb33-4923-ad3e-a8d3911851ec",
   "metadata": {},
   "outputs": [
    {
     "name": "stderr",
     "output_type": "stream",
     "text": [
      "BokehUserWarning: ColumnDataSource's columns must be of the same length. Current lengths: ('x_values', 6), ('y_1_values', 5), ('y_2_values', 5)\n"
     ]
    },
    {
     "data": {
      "text/html": [
       "\n",
       "  <div id=\"a21778f2-731d-411f-840b-e3f198e2d095\" data-root-id=\"p647824\" style=\"display: contents;\"></div>\n"
      ]
     },
     "metadata": {},
     "output_type": "display_data"
    },
    {
     "data": {
      "application/javascript": [
       "(function(root) {\n",
       "  function embed_document(root) {\n",
       "  const docs_json = {\"ff259bce-8ae2-40cf-83d8-ff7256869fd4\":{\"version\":\"3.1.1\",\"title\":\"Bokeh Application\",\"defs\":[],\"roots\":[{\"type\":\"object\",\"name\":\"Figure\",\"id\":\"p647824\",\"attributes\":{\"width\":900,\"height\":900,\"max_width\":900,\"max_height\":300,\"sizing_mode\":\"scale_both\",\"x_range\":{\"type\":\"object\",\"name\":\"DataRange1d\",\"id\":\"p647825\"},\"y_range\":{\"type\":\"object\",\"name\":\"DataRange1d\",\"id\":\"p647826\"},\"x_scale\":{\"type\":\"object\",\"name\":\"LinearScale\",\"id\":\"p647838\"},\"y_scale\":{\"type\":\"object\",\"name\":\"LinearScale\",\"id\":\"p647840\"},\"title\":{\"type\":\"object\",\"name\":\"Title\",\"id\":\"p647827\",\"attributes\":{\"text\":\"Dhaka Stock Exchange Live Change\",\"text_color\":\"#E0E0E0\",\"text_font\":\"Helvetica\",\"text_font_size\":\"1.15em\",\"align\":\"center\"}},\"outline_line_color\":\"#E0E0E0\",\"outline_line_alpha\":0.25,\"renderers\":[{\"type\":\"object\",\"name\":\"GlyphRenderer\",\"id\":\"p647916\",\"attributes\":{\"data_source\":{\"type\":\"object\",\"name\":\"ColumnDataSource\",\"id\":\"p647907\",\"attributes\":{\"selected\":{\"type\":\"object\",\"name\":\"Selection\",\"id\":\"p647909\",\"attributes\":{\"indices\":[],\"line_indices\":[]}},\"selection_policy\":{\"type\":\"object\",\"name\":\"UnionRenderers\",\"id\":\"p647908\"},\"data\":{\"type\":\"map\",\"entries\":[[\"x_values\",[1684547183000.0,1684551374000.0,1684554205000.0,1684556726000.0,1684559713000.0,1684564480000.0]],[\"y_1_values\",[67.71670856852965,92.00657254169785,70.53095453754388,75.10182862513403,84.83527243583168]],[\"y_2_values\",[6.37297393360543,70.19826883123874,72.48704880288692,51.61354316738971,59.93929755296791]]]}}},\"view\":{\"type\":\"object\",\"name\":\"CDSView\",\"id\":\"p647917\",\"attributes\":{\"filter\":{\"type\":\"object\",\"name\":\"AllIndices\",\"id\":\"p647918\"}}},\"glyph\":{\"type\":\"object\",\"name\":\"Circle\",\"id\":\"p647913\",\"attributes\":{\"x\":{\"type\":\"field\",\"field\":\"x_values\"},\"y\":{\"type\":\"field\",\"field\":\"y_1_values\"},\"line_color\":{\"type\":\"value\",\"value\":\"pink\"},\"fill_color\":{\"type\":\"value\",\"value\":\"#1f77b4\"}}},\"nonselection_glyph\":{\"type\":\"object\",\"name\":\"Circle\",\"id\":\"p647914\",\"attributes\":{\"x\":{\"type\":\"field\",\"field\":\"x_values\"},\"y\":{\"type\":\"field\",\"field\":\"y_1_values\"},\"line_color\":{\"type\":\"value\",\"value\":\"pink\"},\"line_alpha\":{\"type\":\"value\",\"value\":0.1},\"fill_color\":{\"type\":\"value\",\"value\":\"#1f77b4\"},\"fill_alpha\":{\"type\":\"value\",\"value\":0.1},\"hatch_alpha\":{\"type\":\"value\",\"value\":0.1}}},\"muted_glyph\":{\"type\":\"object\",\"name\":\"Circle\",\"id\":\"p647915\",\"attributes\":{\"x\":{\"type\":\"field\",\"field\":\"x_values\"},\"y\":{\"type\":\"field\",\"field\":\"y_1_values\"},\"line_color\":{\"type\":\"value\",\"value\":\"pink\"},\"line_alpha\":{\"type\":\"value\",\"value\":0.2},\"fill_color\":{\"type\":\"value\",\"value\":\"#1f77b4\"},\"fill_alpha\":{\"type\":\"value\",\"value\":0.2},\"hatch_alpha\":{\"type\":\"value\",\"value\":0.2}}}}},{\"type\":\"object\",\"name\":\"GlyphRenderer\",\"id\":\"p647927\",\"attributes\":{\"data_source\":{\"id\":\"p647907\"},\"view\":{\"type\":\"object\",\"name\":\"CDSView\",\"id\":\"p647928\",\"attributes\":{\"filter\":{\"type\":\"object\",\"name\":\"AllIndices\",\"id\":\"p647929\"}}},\"glyph\":{\"type\":\"object\",\"name\":\"Line\",\"id\":\"p647924\",\"attributes\":{\"x\":{\"type\":\"field\",\"field\":\"x_values\"},\"y\":{\"type\":\"field\",\"field\":\"y_1_values\"},\"line_color\":\"yellow\"}},\"nonselection_glyph\":{\"type\":\"object\",\"name\":\"Line\",\"id\":\"p647925\",\"attributes\":{\"x\":{\"type\":\"field\",\"field\":\"x_values\"},\"y\":{\"type\":\"field\",\"field\":\"y_1_values\"},\"line_color\":\"yellow\",\"line_alpha\":0.1}},\"muted_glyph\":{\"type\":\"object\",\"name\":\"Line\",\"id\":\"p647926\",\"attributes\":{\"x\":{\"type\":\"field\",\"field\":\"x_values\"},\"y\":{\"type\":\"field\",\"field\":\"y_1_values\"},\"line_color\":\"yellow\",\"line_alpha\":0.2}}}},{\"type\":\"object\",\"name\":\"GlyphRenderer\",\"id\":\"p647937\",\"attributes\":{\"data_source\":{\"id\":\"p647907\"},\"view\":{\"type\":\"object\",\"name\":\"CDSView\",\"id\":\"p647938\",\"attributes\":{\"filter\":{\"type\":\"object\",\"name\":\"AllIndices\",\"id\":\"p647939\"}}},\"glyph\":{\"type\":\"object\",\"name\":\"Circle\",\"id\":\"p647934\",\"attributes\":{\"x\":{\"type\":\"field\",\"field\":\"x_values\"},\"y\":{\"type\":\"field\",\"field\":\"y_2_values\"},\"size\":{\"type\":\"value\",\"value\":10},\"line_color\":{\"type\":\"field\",\"field\":\"y_2_values\",\"transform\":{\"type\":\"object\",\"name\":\"LinearColorMapper\",\"id\":\"p647930\",\"attributes\":{\"palette\":[\"#30123b\",\"#311542\",\"#32184a\",\"#341b51\",\"#351e58\",\"#36215f\",\"#372365\",\"#38266c\",\"#392972\",\"#3a2c79\",\"#3b2f7f\",\"#3c3285\",\"#3c358b\",\"#3d3791\",\"#3e3a96\",\"#3f3d9c\",\"#4040a1\",\"#4043a6\",\"#4145ab\",\"#4148b0\",\"#424bb5\",\"#434eba\",\"#4350be\",\"#4353c2\",\"#4456c7\",\"#4458cb\",\"#455bce\",\"#455ed2\",\"#4560d6\",\"#4563d9\",\"#4666dd\",\"#4668e0\",\"#466be3\",\"#466de6\",\"#4670e8\",\"#4673eb\",\"#4675ed\",\"#4678f0\",\"#467af2\",\"#467df4\",\"#467ff6\",\"#4682f8\",\"#4584f9\",\"#4587fb\",\"#4589fc\",\"#448cfd\",\"#438efd\",\"#4291fe\",\"#4193fe\",\"#4096fe\",\"#3f98fe\",\"#3e9bfe\",\"#3c9dfd\",\"#3ba0fc\",\"#39a2fc\",\"#38a5fb\",\"#36a8f9\",\"#34aaf8\",\"#33acf6\",\"#31aff5\",\"#2fb1f3\",\"#2db4f1\",\"#2bb6ef\",\"#2ab9ed\",\"#28bbeb\",\"#26bde9\",\"#25c0e6\",\"#23c2e4\",\"#21c4e1\",\"#20c6df\",\"#1ec9dc\",\"#1dcbda\",\"#1ccdd7\",\"#1bcfd4\",\"#1ad1d2\",\"#19d3cf\",\"#18d5cc\",\"#18d7ca\",\"#17d9c7\",\"#17dac4\",\"#17dcc2\",\"#17debf\",\"#18e0bd\",\"#18e1ba\",\"#19e3b8\",\"#1ae4b6\",\"#1be5b4\",\"#1de7b1\",\"#1ee8af\",\"#20e9ac\",\"#22eba9\",\"#24eca6\",\"#27eda3\",\"#29eea0\",\"#2cef9d\",\"#2ff09a\",\"#32f197\",\"#35f394\",\"#38f491\",\"#3bf48d\",\"#3ff58a\",\"#42f687\",\"#46f783\",\"#4af880\",\"#4df97c\",\"#51f979\",\"#55fa76\",\"#59fb72\",\"#5dfb6f\",\"#61fc6c\",\"#65fc68\",\"#69fd65\",\"#6dfd62\",\"#71fd5f\",\"#74fe5c\",\"#78fe59\",\"#7cfe56\",\"#80fe53\",\"#84fe50\",\"#87fe4d\",\"#8bfe4b\",\"#8efe48\",\"#92fe46\",\"#95fe44\",\"#98fe42\",\"#9bfd40\",\"#9efd3e\",\"#a1fc3d\",\"#a4fc3b\",\"#a6fb3a\",\"#a9fb39\",\"#acfa37\",\"#aef937\",\"#b1f836\",\"#b3f835\",\"#b6f735\",\"#b9f534\",\"#bbf434\",\"#bef334\",\"#c0f233\",\"#c3f133\",\"#c5ef33\",\"#c8ee33\",\"#caed33\",\"#cdeb34\",\"#cfea34\",\"#d1e834\",\"#d4e735\",\"#d6e535\",\"#d8e335\",\"#dae236\",\"#dde036\",\"#dfde36\",\"#e1dc37\",\"#e3da37\",\"#e5d838\",\"#e7d738\",\"#e8d538\",\"#ead339\",\"#ecd139\",\"#edcf39\",\"#efcd39\",\"#f0cb3a\",\"#f2c83a\",\"#f3c63a\",\"#f4c43a\",\"#f6c23a\",\"#f7c039\",\"#f8be39\",\"#f9bc39\",\"#f9ba38\",\"#fab737\",\"#fbb537\",\"#fbb336\",\"#fcb035\",\"#fcae34\",\"#fdab33\",\"#fda932\",\"#fda631\",\"#fda330\",\"#fea12f\",\"#fe9e2e\",\"#fe9b2d\",\"#fe982c\",\"#fd952b\",\"#fd9229\",\"#fd8f28\",\"#fd8c27\",\"#fc8926\",\"#fc8624\",\"#fb8323\",\"#fb8022\",\"#fa7d20\",\"#fa7a1f\",\"#f9771e\",\"#f8741c\",\"#f7711b\",\"#f76e1a\",\"#f66b18\",\"#f56817\",\"#f46516\",\"#f36315\",\"#f26014\",\"#f15d13\",\"#ef5a11\",\"#ee5810\",\"#ed550f\",\"#ec520e\",\"#ea500d\",\"#e94d0d\",\"#e84b0c\",\"#e6490b\",\"#e5460a\",\"#e3440a\",\"#e24209\",\"#e04008\",\"#de3e08\",\"#dd3c07\",\"#db3a07\",\"#d93806\",\"#d73606\",\"#d63405\",\"#d43205\",\"#d23005\",\"#d02f04\",\"#ce2d04\",\"#cb2b03\",\"#c92903\",\"#c72803\",\"#c52602\",\"#c32402\",\"#c02302\",\"#be2102\",\"#bb1f01\",\"#b91e01\",\"#b61c01\",\"#b41b01\",\"#b11901\",\"#ae1801\",\"#ac1601\",\"#a91501\",\"#a61401\",\"#a31201\",\"#a01101\",\"#9d1001\",\"#9a0e01\",\"#970d01\",\"#940c01\",\"#910b01\",\"#8e0a01\",\"#8b0901\",\"#870801\",\"#840701\",\"#810602\",\"#7d0502\",\"#7a0402\"],\"low\":72.48704880288692,\"high\":6.37297393360543}}},\"fill_color\":{\"type\":\"field\",\"field\":\"y_2_values\",\"transform\":{\"id\":\"p647930\"}},\"hatch_color\":{\"type\":\"field\",\"field\":\"y_2_values\",\"transform\":{\"id\":\"p647930\"}}}},\"nonselection_glyph\":{\"type\":\"object\",\"name\":\"Circle\",\"id\":\"p647935\",\"attributes\":{\"x\":{\"type\":\"field\",\"field\":\"x_values\"},\"y\":{\"type\":\"field\",\"field\":\"y_2_values\"},\"size\":{\"type\":\"value\",\"value\":10},\"line_color\":{\"type\":\"field\",\"field\":\"y_2_values\",\"transform\":{\"id\":\"p647930\"}},\"line_alpha\":{\"type\":\"value\",\"value\":0.1},\"fill_color\":{\"type\":\"field\",\"field\":\"y_2_values\",\"transform\":{\"id\":\"p647930\"}},\"fill_alpha\":{\"type\":\"value\",\"value\":0.1},\"hatch_color\":{\"type\":\"field\",\"field\":\"y_2_values\",\"transform\":{\"id\":\"p647930\"}},\"hatch_alpha\":{\"type\":\"value\",\"value\":0.1}}},\"muted_glyph\":{\"type\":\"object\",\"name\":\"Circle\",\"id\":\"p647936\",\"attributes\":{\"x\":{\"type\":\"field\",\"field\":\"x_values\"},\"y\":{\"type\":\"field\",\"field\":\"y_2_values\"},\"size\":{\"type\":\"value\",\"value\":10},\"line_color\":{\"type\":\"field\",\"field\":\"y_2_values\",\"transform\":{\"id\":\"p647930\"}},\"line_alpha\":{\"type\":\"value\",\"value\":0.2},\"fill_color\":{\"type\":\"field\",\"field\":\"y_2_values\",\"transform\":{\"id\":\"p647930\"}},\"fill_alpha\":{\"type\":\"value\",\"value\":0.2},\"hatch_color\":{\"type\":\"field\",\"field\":\"y_2_values\",\"transform\":{\"id\":\"p647930\"}},\"hatch_alpha\":{\"type\":\"value\",\"value\":0.2}}}}},{\"type\":\"object\",\"name\":\"GlyphRenderer\",\"id\":\"p647947\",\"attributes\":{\"data_source\":{\"id\":\"p647907\"},\"view\":{\"type\":\"object\",\"name\":\"CDSView\",\"id\":\"p647948\",\"attributes\":{\"filter\":{\"type\":\"object\",\"name\":\"AllIndices\",\"id\":\"p647949\"}}},\"glyph\":{\"type\":\"object\",\"name\":\"Line\",\"id\":\"p647944\",\"attributes\":{\"x\":{\"type\":\"field\",\"field\":\"x_values\"},\"y\":{\"type\":\"field\",\"field\":\"y_2_values\"},\"line_color\":\"orange\"}},\"nonselection_glyph\":{\"type\":\"object\",\"name\":\"Line\",\"id\":\"p647945\",\"attributes\":{\"x\":{\"type\":\"field\",\"field\":\"x_values\"},\"y\":{\"type\":\"field\",\"field\":\"y_2_values\"},\"line_color\":\"orange\",\"line_alpha\":0.1}},\"muted_glyph\":{\"type\":\"object\",\"name\":\"Line\",\"id\":\"p647946\",\"attributes\":{\"x\":{\"type\":\"field\",\"field\":\"x_values\"},\"y\":{\"type\":\"field\",\"field\":\"y_2_values\"},\"line_color\":\"orange\",\"line_alpha\":0.2}}}}],\"toolbar\":{\"type\":\"object\",\"name\":\"Toolbar\",\"id\":\"p647830\",\"attributes\":{\"tools\":[{\"type\":\"object\",\"name\":\"PanTool\",\"id\":\"p647892\"},{\"type\":\"object\",\"name\":\"WheelZoomTool\",\"id\":\"p647893\"},{\"type\":\"object\",\"name\":\"BoxZoomTool\",\"id\":\"p647894\",\"attributes\":{\"overlay\":{\"type\":\"object\",\"name\":\"BoxAnnotation\",\"id\":\"p647895\",\"attributes\":{\"syncable\":false,\"level\":\"overlay\",\"visible\":false,\"left_units\":\"canvas\",\"right_units\":\"canvas\",\"bottom_units\":\"canvas\",\"top_units\":\"canvas\",\"line_color\":\"black\",\"line_alpha\":1.0,\"line_width\":2,\"line_dash\":[4,4],\"fill_color\":\"lightgrey\",\"fill_alpha\":0.5}}}},{\"type\":\"object\",\"name\":\"SaveTool\",\"id\":\"p647896\"},{\"type\":\"object\",\"name\":\"ResetTool\",\"id\":\"p647897\"},{\"type\":\"object\",\"name\":\"HelpTool\",\"id\":\"p647898\"},{\"type\":\"object\",\"name\":\"HoverTool\",\"id\":\"p647952\",\"attributes\":{\"renderers\":[{\"id\":\"p647947\"}],\"tooltips\":[[\"Date\",\"@x_values{%Y-%m-%d %H:%M}\"],[\"Value\",\"@y_2_values\"]],\"formatters\":{\"type\":\"map\",\"entries\":[[\"@x_values\",\"datetime\"]]}}},{\"type\":\"object\",\"name\":\"HoverTool\",\"id\":\"p647954\",\"attributes\":{\"renderers\":[{\"id\":\"p647927\"}],\"tooltips\":[[\"Date\",\"@x_values{%Y-%m-%d %H:%M}\"],[\"Value\",\"@y_1_values\"]],\"formatters\":{\"type\":\"map\",\"entries\":[[\"@x_values\",\"datetime\"]]}}}]}},\"left\":[{\"type\":\"object\",\"name\":\"LinearAxis\",\"id\":\"p647885\",\"attributes\":{\"ticker\":{\"type\":\"object\",\"name\":\"BasicTicker\",\"id\":\"p647888\",\"attributes\":{\"mantissas\":[1,2,5]}},\"formatter\":{\"type\":\"object\",\"name\":\"BasicTickFormatter\",\"id\":\"p647887\"},\"axis_label\":\"Percentage Change (%)\",\"axis_label_standoff\":10,\"axis_label_text_color\":\"#E0E0E0\",\"axis_label_text_font\":\"Helvetica\",\"axis_label_text_font_size\":\"1.25em\",\"axis_label_text_font_style\":\"normal\",\"major_label_policy\":{\"type\":\"object\",\"name\":\"AllLabels\",\"id\":\"p647886\"},\"major_label_text_color\":\"#E0E0E0\",\"major_label_text_font\":\"Helvetica\",\"major_label_text_font_size\":\"1.025em\",\"axis_line_color\":\"#E0E0E0\",\"axis_line_alpha\":0,\"major_tick_line_color\":\"#E0E0E0\",\"major_tick_line_alpha\":0,\"minor_tick_line_color\":\"#E0E0E0\",\"minor_tick_line_alpha\":0}}],\"below\":[{\"type\":\"object\",\"name\":\"DatetimeAxis\",\"id\":\"p647842\",\"attributes\":{\"ticker\":{\"type\":\"object\",\"name\":\"DatetimeTicker\",\"id\":\"p647845\",\"attributes\":{\"num_minor_ticks\":5,\"tickers\":[{\"type\":\"object\",\"name\":\"AdaptiveTicker\",\"id\":\"p647846\",\"attributes\":{\"num_minor_ticks\":0,\"mantissas\":[1,2,5],\"max_interval\":500.0}},{\"type\":\"object\",\"name\":\"AdaptiveTicker\",\"id\":\"p647847\",\"attributes\":{\"num_minor_ticks\":0,\"base\":60,\"mantissas\":[1,2,5,10,15,20,30],\"min_interval\":1000.0,\"max_interval\":1800000.0}},{\"type\":\"object\",\"name\":\"AdaptiveTicker\",\"id\":\"p647848\",\"attributes\":{\"num_minor_ticks\":0,\"base\":24,\"mantissas\":[1,2,4,6,8,12],\"min_interval\":3600000.0,\"max_interval\":43200000.0}},{\"type\":\"object\",\"name\":\"DaysTicker\",\"id\":\"p647849\",\"attributes\":{\"days\":[1,2,3,4,5,6,7,8,9,10,11,12,13,14,15,16,17,18,19,20,21,22,23,24,25,26,27,28,29,30,31]}},{\"type\":\"object\",\"name\":\"DaysTicker\",\"id\":\"p647850\",\"attributes\":{\"days\":[1,4,7,10,13,16,19,22,25,28]}},{\"type\":\"object\",\"name\":\"DaysTicker\",\"id\":\"p647851\",\"attributes\":{\"days\":[1,8,15,22]}},{\"type\":\"object\",\"name\":\"DaysTicker\",\"id\":\"p647852\",\"attributes\":{\"days\":[1,15]}},{\"type\":\"object\",\"name\":\"MonthsTicker\",\"id\":\"p647853\",\"attributes\":{\"months\":[0,1,2,3,4,5,6,7,8,9,10,11]}},{\"type\":\"object\",\"name\":\"MonthsTicker\",\"id\":\"p647854\",\"attributes\":{\"months\":[0,2,4,6,8,10]}},{\"type\":\"object\",\"name\":\"MonthsTicker\",\"id\":\"p647855\",\"attributes\":{\"months\":[0,4,8]}},{\"type\":\"object\",\"name\":\"MonthsTicker\",\"id\":\"p647856\",\"attributes\":{\"months\":[0,6]}},{\"type\":\"object\",\"name\":\"YearsTicker\",\"id\":\"p647857\"}]}},\"formatter\":{\"type\":\"object\",\"name\":\"DatetimeTickFormatter\",\"id\":\"p647950\",\"attributes\":{\"hours\":\"%H:%M\"}},\"axis_label\":\"Date-Time\",\"axis_label_standoff\":10,\"axis_label_text_color\":\"#E0E0E0\",\"axis_label_text_font\":\"Helvetica\",\"axis_label_text_font_size\":\"1.25em\",\"axis_label_text_font_style\":\"normal\",\"major_label_policy\":{\"type\":\"object\",\"name\":\"AllLabels\",\"id\":\"p647843\"},\"major_label_text_color\":\"#E0E0E0\",\"major_label_text_font\":\"Helvetica\",\"major_label_text_font_size\":\"1.025em\",\"axis_line_color\":\"#E0E0E0\",\"axis_line_alpha\":0,\"major_tick_line_color\":\"#E0E0E0\",\"major_tick_line_alpha\":0,\"minor_tick_line_color\":\"#E0E0E0\",\"minor_tick_line_alpha\":0}}],\"center\":[{\"type\":\"object\",\"name\":\"Grid\",\"id\":\"p647884\",\"attributes\":{\"axis\":{\"id\":\"p647842\"},\"grid_line_color\":\"#E0E0E0\",\"grid_line_alpha\":0.25}},{\"type\":\"object\",\"name\":\"Grid\",\"id\":\"p647891\",\"attributes\":{\"dimension\":1,\"axis\":{\"id\":\"p647885\"},\"grid_line_color\":\"#E0E0E0\",\"grid_line_alpha\":0.25}},{\"type\":\"object\",\"name\":\"Legend\",\"id\":\"p647919\",\"attributes\":{\"location\":\"top_left\",\"title\":\"Lines\",\"border_line_alpha\":0,\"background_fill_color\":\"#20262B\",\"background_fill_alpha\":0.25,\"label_text_color\":\"#E0E0E0\",\"label_text_font\":\"Helvetica\",\"label_text_font_size\":\"1.025em\",\"label_standoff\":8,\"glyph_width\":15,\"spacing\":8,\"items\":[{\"type\":\"object\",\"name\":\"LegendItem\",\"id\":\"p647920\",\"attributes\":{\"label\":{\"type\":\"value\",\"value\":\"Line 1\"},\"renderers\":[{\"id\":\"p647916\"},{\"id\":\"p647927\"}]}},{\"type\":\"object\",\"name\":\"LegendItem\",\"id\":\"p647940\",\"attributes\":{\"label\":{\"type\":\"value\",\"value\":\"Line 2\"},\"renderers\":[{\"id\":\"p647937\"},{\"id\":\"p647947\"}]}}]}}],\"background_fill_color\":\"#20262B\",\"border_fill_color\":\"#15191C\"}}],\"callbacks\":{\"type\":\"map\"}}};\n",
       "  const render_items = [{\"docid\":\"ff259bce-8ae2-40cf-83d8-ff7256869fd4\",\"roots\":{\"p647824\":\"a21778f2-731d-411f-840b-e3f198e2d095\"},\"root_ids\":[\"p647824\"]}];\n",
       "  root.Bokeh.embed.embed_items_notebook(docs_json, render_items);\n",
       "  }\n",
       "  if (root.Bokeh !== undefined) {\n",
       "    embed_document(root);\n",
       "  } else {\n",
       "    let attempts = 0;\n",
       "    const timer = setInterval(function(root) {\n",
       "      if (root.Bokeh !== undefined) {\n",
       "        clearInterval(timer);\n",
       "        embed_document(root);\n",
       "      } else {\n",
       "        attempts++;\n",
       "        if (attempts > 100) {\n",
       "          clearInterval(timer);\n",
       "          console.log(\"Bokeh: ERROR: Unable to run BokehJS code because BokehJS library is missing\");\n",
       "        }\n",
       "      }\n",
       "    }, 10, root)\n",
       "  }\n",
       "})(window);"
      ],
      "application/vnd.bokehjs_exec.v0+json": ""
     },
     "metadata": {
      "application/vnd.bokehjs_exec.v0+json": {
       "id": "p647824"
      }
     },
     "output_type": "display_data"
    }
   ],
   "source": [
    "from bokeh.plotting import figure, show\n",
    "from bokeh.models import HoverTool, ColumnDataSource, DatetimeTickFormatter\n",
    "from datetime import datetime\n",
    "import random\n",
    "from bokeh.models import LinearColorMapper\n",
    "from bokeh.palettes import Turbo256\n",
    "\n",
    "# Dummy data representing different hour-minute values\n",
    "hour_minutes = [(1, 0), (2, 5), (3, 10), (4, 15), (5, 20), (9, 25)]\n",
    "\n",
    "from datetime import datetime, timedelta\n",
    "import random\n",
    "\n",
    "def generate_datetime_objects(no_of_obj, no_already_avail):\n",
    "    x_values = []\n",
    "    current_datetime = datetime.now()\n",
    "\n",
    "    for i in range(no_already_avail, no_already_avail + no_of_obj):\n",
    "        start_datetime = current_datetime.replace(hour=i + 1, minute=0, second=0, microsecond=0)\n",
    "        end_datetime = current_datetime.replace(hour=i + 2, minute=0, second=0, microsecond=0)\n",
    "        new_datetime = start_datetime + timedelta(seconds=random.randint(0, int((end_datetime - start_datetime).total_seconds())))\n",
    "\n",
    "        x_values.append(new_datetime)\n",
    "\n",
    "    return x_values\n",
    "\n",
    "\n",
    "# Create a list of datetime objects from the hour-minute values\n",
    "x_values = []\n",
    "no_of_obj = 6\n",
    "no_already_avail = len(x_values)\n",
    "x_values += generate_datetime_objects(no_of_obj, no_already_avail)\n",
    "\n",
    "\n",
    "\n",
    "import random\n",
    "\n",
    "def generate_random_floats(n_of_obj):\n",
    "    return [random.uniform(0, 100) for _ in range(n_of_obj + 1)][1:]\n",
    "\n",
    "\n",
    "# n_of_obj = 5\n",
    "\n",
    "y_1_values = generate_random_floats(n_of_obj)\n",
    "y_2_values = generate_random_floats(n_of_obj)\n",
    "\n",
    "# Create a figure\n",
    "p = figure(\n",
    "    title=\"Dhaka Stock Exchange Live Change\",\n",
    "    x_axis_type=\"datetime\",\n",
    "    sizing_mode=\"scale_both\",\n",
    "    max_width=900,\n",
    "    max_height=300,\n",
    "    width=900,\n",
    "    height=900\n",
    ")\n",
    "\n",
    "p.title.align = \"center\"\n",
    "# Set x-axis and y-axis labels\n",
    "p.xaxis.axis_label = \"Date-Time\"\n",
    "p.yaxis.axis_label = \"Percentage Change (%)\"\n",
    "\n",
    "global source\n",
    "source = ColumnDataSource(data=dict(x_values=x_values, y_1_values=y_1_values, y_2_values=y_2_values))\n",
    "\n",
    "p.circle(x='x_values', y='y_1_values', source=source, legend_label=\"Line 1\", line_color='pink')\n",
    "\n",
    "# Add the line with varying colors based on values\n",
    "line1 = p.line(x='x_values', y='y_1_values', legend_label=\"Line 1\", line_color='yellow', source=source)\n",
    "\n",
    "mapper = LinearColorMapper(palette=Turbo256, high=min(y_2_values), low=max(y_2_values))\n",
    "\n",
    "p.circle(x='x_values', y='y_2_values', legend_label=\"Line 2\", color={'field': 'y_2_values', 'transform': mapper}, size=10, source=source)\n",
    "\n",
    "# Add the line with varying colors based on values\n",
    "line2 = p.line(x='x_values', y='y_2_values', legend_label=\"Line 2\", line_color='orange', source=source)\n",
    "\n",
    "\n",
    "# new_data = {\n",
    "#     'x_values' : [datetime(2023, 5, 21, 5, 20), ],\n",
    "#     'y_1_values' : [100,],\n",
    "#     'y_2_values' : [50,],\n",
    "# }\n",
    "\n",
    "# # source.stream(new_data)\n",
    "\n",
    "# def get_data():\n",
    "#     x_values = datetime(2023, 5, 30, 12, 10)\n",
    "#     y_1_values = [98]\n",
    "#     y_2_values = [50]\n",
    "#     return x_values, y_1_values, y_2_values\n",
    "\n",
    "# def update():\n",
    "#     source.stream(get_data())\n",
    "    \n",
    "\n",
    "# Customize the x-axis tick labels\n",
    "p.xaxis.formatter = DatetimeTickFormatter(hours=\"%H:%M\")\n",
    "\n",
    "# Set the theme to dark_minimal\n",
    "curdoc().theme = 'dark_minimal'\n",
    "\n",
    "p.legend.title = 'Lines'\n",
    "p.legend.location = \"top_left\"  # Options: top_left, top_right, bottom_left, bottom_right, center, center_left, center_right\n",
    "\n",
    "# Define tooltips\n",
    "tooltips = [\n",
    "    (\"Date\", \"@x_values{%Y-%m-%d %H:%M}\"),\n",
    "    (\"Value\", \"@y_2_values\"),\n",
    "]\n",
    "\n",
    "# Add tooltips to both lines\n",
    "hover_tool = HoverTool(renderers=[line2, \n",
    "                                  # line2\n",
    "                                 ], tooltips=tooltips, formatters={\"@x_values\": \"datetime\"})\n",
    "p.add_tools(hover_tool)\n",
    "\n",
    "\n",
    "# Define tooltips\n",
    "tooltips = [\n",
    "    (\"Date\", \"@x_values{%Y-%m-%d %H:%M}\"),\n",
    "    (\"Value\", \"@y_1_values\"),\n",
    "]\n",
    "\n",
    "# Add tooltips to both lines\n",
    "hover_tool_2 = HoverTool(renderers=[line1, \n",
    "                                  # line2\n",
    "                                 ], tooltips=tooltips, formatters={\"@x_values\": \"datetime\"})\n",
    "p.add_tools(hover_tool_2)\n",
    "# Show the plot\n",
    "\n",
    "\n",
    "# curdoc().add_periodic_callback(update, 60)\n",
    "\n",
    "show(p)\n"
   ]
  },
  {
   "cell_type": "code",
   "execution_count": 272,
   "id": "d0457423-5dae-4ae8-a625-6511db3aadcb",
   "metadata": {},
   "outputs": [
    {
     "name": "stdout",
     "output_type": "stream",
     "text": [
      "6 5 5\n"
     ]
    }
   ],
   "source": [
    "print(\n",
    "    len(x_values),\n",
    "    len(y_1_values),\n",
    "    len(y_2_values),\n",
    "    )"
   ]
  },
  {
   "cell_type": "code",
   "execution_count": 255,
   "id": "db985267-5c6b-4422-9803-d674ec829c0b",
   "metadata": {},
   "outputs": [
    {
     "name": "stdout",
     "output_type": "stream",
     "text": [
      "[65.86269070725082, 38.1826532749006, 5.993877604757714, 37.369912081881296, 99.11530852021826]\n",
      "[35.88841515956699, 7.505757631896259, 68.47045331994555, 37.42347898312539, 97.40941516887713]\n"
     ]
    }
   ],
   "source": [
    "\n",
    "\n",
    "print(y_1_values)\n",
    "print(y_2_values)\n"
   ]
  },
  {
   "cell_type": "code",
   "execution_count": 279,
   "id": "35c29d8f-fbbe-478d-80f3-9e3502343351",
   "metadata": {},
   "outputs": [
    {
     "data": {
      "text/plain": [
       "[81.61714871174179,\n",
       " 19.680000601822766,\n",
       " 93.87833675156354,\n",
       " 24.13703764560259,\n",
       " 55.43294646789468]"
      ]
     },
     "execution_count": 279,
     "metadata": {},
     "output_type": "execute_result"
    }
   ],
   "source": [
    "generate_random_floats(n_of_obj)"
   ]
  },
  {
   "cell_type": "code",
   "execution_count": 295,
   "id": "23c44076-785f-4abe-8ce8-039860ee2783",
   "metadata": {},
   "outputs": [
    {
     "data": {
      "text/plain": [
       "5"
      ]
     },
     "execution_count": 295,
     "metadata": {},
     "output_type": "execute_result"
    }
   ],
   "source": [
    "n_of_obj"
   ]
  },
  {
   "cell_type": "code",
   "execution_count": 294,
   "id": "346df5dc-316c-4bec-820d-d0f8fb5e5927",
   "metadata": {},
   "outputs": [],
   "source": [
    "x_values = []\n",
    "no_of_obj = 6\n",
    "no_already_avail = len(x_values)\n",
    "x_values += generate_datetime_objects(no_of_obj, no_already_avail)"
   ]
  },
  {
   "cell_type": "code",
   "execution_count": 289,
   "id": "2b70b819-c10a-4a7d-871f-056e39063cc0",
   "metadata": {},
   "outputs": [
    {
     "data": {
      "text/plain": [
       "6"
      ]
     },
     "execution_count": 289,
     "metadata": {},
     "output_type": "execute_result"
    }
   ],
   "source": [
    "len(x_values)"
   ]
  },
  {
   "cell_type": "code",
   "execution_count": 292,
   "id": "b76a3312-a9e1-453a-b6e6-28d8662896b8",
   "metadata": {},
   "outputs": [
    {
     "data": {
      "text/plain": [
       "[31.791952656704236,\n",
       " 48.03585886649151,\n",
       " 30.463218553412254,\n",
       " 21.8179907749364,\n",
       " 65.70438381584684]"
      ]
     },
     "execution_count": 292,
     "metadata": {},
     "output_type": "execute_result"
    }
   ],
   "source": [
    "y_1_values = generate_random_floats(n_of_obj)\n",
    "y_1_values"
   ]
  },
  {
   "cell_type": "code",
   "execution_count": 300,
   "id": "e1ca259a-21a6-4b39-b070-cdff386e3f0b",
   "metadata": {},
   "outputs": [
    {
     "name": "stdout",
     "output_type": "stream",
     "text": [
      "6\n",
      "6\n",
      "6\n"
     ]
    },
    {
     "data": {
      "text/html": [
       "\n",
       "  <div id=\"a89dc9c0-8993-4422-9215-b1fbbb3d85b2\" data-root-id=\"p655690\" style=\"display: contents;\"></div>\n"
      ]
     },
     "metadata": {},
     "output_type": "display_data"
    },
    {
     "data": {
      "application/javascript": [
       "(function(root) {\n",
       "  function embed_document(root) {\n",
       "  const docs_json = {\"9fc5a141-0988-467b-9eb8-ab8fcf75526a\":{\"version\":\"3.1.1\",\"title\":\"Bokeh Application\",\"defs\":[],\"roots\":[{\"type\":\"object\",\"name\":\"Figure\",\"id\":\"p655690\",\"attributes\":{\"width\":900,\"height\":900,\"max_width\":900,\"max_height\":300,\"sizing_mode\":\"scale_both\",\"x_range\":{\"type\":\"object\",\"name\":\"DataRange1d\",\"id\":\"p655691\"},\"y_range\":{\"type\":\"object\",\"name\":\"DataRange1d\",\"id\":\"p655692\"},\"x_scale\":{\"type\":\"object\",\"name\":\"LinearScale\",\"id\":\"p655704\"},\"y_scale\":{\"type\":\"object\",\"name\":\"LinearScale\",\"id\":\"p655706\"},\"title\":{\"type\":\"object\",\"name\":\"Title\",\"id\":\"p655693\",\"attributes\":{\"text\":\"Dhaka Stock Exchange Live Change\",\"text_color\":\"#E0E0E0\",\"text_font\":\"Helvetica\",\"text_font_size\":\"1.15em\",\"align\":\"center\"}},\"outline_line_color\":\"#E0E0E0\",\"outline_line_alpha\":0.25,\"renderers\":[{\"type\":\"object\",\"name\":\"GlyphRenderer\",\"id\":\"p655782\",\"attributes\":{\"data_source\":{\"type\":\"object\",\"name\":\"ColumnDataSource\",\"id\":\"p655773\",\"attributes\":{\"selected\":{\"type\":\"object\",\"name\":\"Selection\",\"id\":\"p655775\",\"attributes\":{\"indices\":[],\"line_indices\":[]}},\"selection_policy\":{\"type\":\"object\",\"name\":\"UnionRenderers\",\"id\":\"p655774\"},\"data\":{\"type\":\"map\",\"entries\":[[\"x_values\",[1684546355000.0,1684551121000.0,1684554492000.0,1684556781000.0,1684562265000.0,1684563815000.0]],[\"y_1_values\",[66.3894271052403,78.62749449144977,14.89263109824267,92.78852099955176,53.53842669431111,47.642690930526975]],[\"y_2_values\",[61.447240773171764,7.147781896885541,69.21716615523626,35.416474749375425,59.80977811661706,15.464647308621371]]]}}},\"view\":{\"type\":\"object\",\"name\":\"CDSView\",\"id\":\"p655783\",\"attributes\":{\"filter\":{\"type\":\"object\",\"name\":\"AllIndices\",\"id\":\"p655784\"}}},\"glyph\":{\"type\":\"object\",\"name\":\"Circle\",\"id\":\"p655779\",\"attributes\":{\"x\":{\"type\":\"field\",\"field\":\"x_values\"},\"y\":{\"type\":\"field\",\"field\":\"y_1_values\"},\"line_color\":{\"type\":\"value\",\"value\":\"pink\"},\"fill_color\":{\"type\":\"value\",\"value\":\"#1f77b4\"}}},\"nonselection_glyph\":{\"type\":\"object\",\"name\":\"Circle\",\"id\":\"p655780\",\"attributes\":{\"x\":{\"type\":\"field\",\"field\":\"x_values\"},\"y\":{\"type\":\"field\",\"field\":\"y_1_values\"},\"line_color\":{\"type\":\"value\",\"value\":\"pink\"},\"line_alpha\":{\"type\":\"value\",\"value\":0.1},\"fill_color\":{\"type\":\"value\",\"value\":\"#1f77b4\"},\"fill_alpha\":{\"type\":\"value\",\"value\":0.1},\"hatch_alpha\":{\"type\":\"value\",\"value\":0.1}}},\"muted_glyph\":{\"type\":\"object\",\"name\":\"Circle\",\"id\":\"p655781\",\"attributes\":{\"x\":{\"type\":\"field\",\"field\":\"x_values\"},\"y\":{\"type\":\"field\",\"field\":\"y_1_values\"},\"line_color\":{\"type\":\"value\",\"value\":\"pink\"},\"line_alpha\":{\"type\":\"value\",\"value\":0.2},\"fill_color\":{\"type\":\"value\",\"value\":\"#1f77b4\"},\"fill_alpha\":{\"type\":\"value\",\"value\":0.2},\"hatch_alpha\":{\"type\":\"value\",\"value\":0.2}}}}},{\"type\":\"object\",\"name\":\"GlyphRenderer\",\"id\":\"p655793\",\"attributes\":{\"data_source\":{\"id\":\"p655773\"},\"view\":{\"type\":\"object\",\"name\":\"CDSView\",\"id\":\"p655794\",\"attributes\":{\"filter\":{\"type\":\"object\",\"name\":\"AllIndices\",\"id\":\"p655795\"}}},\"glyph\":{\"type\":\"object\",\"name\":\"Line\",\"id\":\"p655790\",\"attributes\":{\"x\":{\"type\":\"field\",\"field\":\"x_values\"},\"y\":{\"type\":\"field\",\"field\":\"y_1_values\"},\"line_color\":\"yellow\"}},\"nonselection_glyph\":{\"type\":\"object\",\"name\":\"Line\",\"id\":\"p655791\",\"attributes\":{\"x\":{\"type\":\"field\",\"field\":\"x_values\"},\"y\":{\"type\":\"field\",\"field\":\"y_1_values\"},\"line_color\":\"yellow\",\"line_alpha\":0.1}},\"muted_glyph\":{\"type\":\"object\",\"name\":\"Line\",\"id\":\"p655792\",\"attributes\":{\"x\":{\"type\":\"field\",\"field\":\"x_values\"},\"y\":{\"type\":\"field\",\"field\":\"y_1_values\"},\"line_color\":\"yellow\",\"line_alpha\":0.2}}}},{\"type\":\"object\",\"name\":\"GlyphRenderer\",\"id\":\"p655803\",\"attributes\":{\"data_source\":{\"id\":\"p655773\"},\"view\":{\"type\":\"object\",\"name\":\"CDSView\",\"id\":\"p655804\",\"attributes\":{\"filter\":{\"type\":\"object\",\"name\":\"AllIndices\",\"id\":\"p655805\"}}},\"glyph\":{\"type\":\"object\",\"name\":\"Circle\",\"id\":\"p655800\",\"attributes\":{\"x\":{\"type\":\"field\",\"field\":\"x_values\"},\"y\":{\"type\":\"field\",\"field\":\"y_2_values\"},\"size\":{\"type\":\"value\",\"value\":10},\"line_color\":{\"type\":\"field\",\"field\":\"y_2_values\",\"transform\":{\"type\":\"object\",\"name\":\"LinearColorMapper\",\"id\":\"p655796\",\"attributes\":{\"palette\":[\"#30123b\",\"#311542\",\"#32184a\",\"#341b51\",\"#351e58\",\"#36215f\",\"#372365\",\"#38266c\",\"#392972\",\"#3a2c79\",\"#3b2f7f\",\"#3c3285\",\"#3c358b\",\"#3d3791\",\"#3e3a96\",\"#3f3d9c\",\"#4040a1\",\"#4043a6\",\"#4145ab\",\"#4148b0\",\"#424bb5\",\"#434eba\",\"#4350be\",\"#4353c2\",\"#4456c7\",\"#4458cb\",\"#455bce\",\"#455ed2\",\"#4560d6\",\"#4563d9\",\"#4666dd\",\"#4668e0\",\"#466be3\",\"#466de6\",\"#4670e8\",\"#4673eb\",\"#4675ed\",\"#4678f0\",\"#467af2\",\"#467df4\",\"#467ff6\",\"#4682f8\",\"#4584f9\",\"#4587fb\",\"#4589fc\",\"#448cfd\",\"#438efd\",\"#4291fe\",\"#4193fe\",\"#4096fe\",\"#3f98fe\",\"#3e9bfe\",\"#3c9dfd\",\"#3ba0fc\",\"#39a2fc\",\"#38a5fb\",\"#36a8f9\",\"#34aaf8\",\"#33acf6\",\"#31aff5\",\"#2fb1f3\",\"#2db4f1\",\"#2bb6ef\",\"#2ab9ed\",\"#28bbeb\",\"#26bde9\",\"#25c0e6\",\"#23c2e4\",\"#21c4e1\",\"#20c6df\",\"#1ec9dc\",\"#1dcbda\",\"#1ccdd7\",\"#1bcfd4\",\"#1ad1d2\",\"#19d3cf\",\"#18d5cc\",\"#18d7ca\",\"#17d9c7\",\"#17dac4\",\"#17dcc2\",\"#17debf\",\"#18e0bd\",\"#18e1ba\",\"#19e3b8\",\"#1ae4b6\",\"#1be5b4\",\"#1de7b1\",\"#1ee8af\",\"#20e9ac\",\"#22eba9\",\"#24eca6\",\"#27eda3\",\"#29eea0\",\"#2cef9d\",\"#2ff09a\",\"#32f197\",\"#35f394\",\"#38f491\",\"#3bf48d\",\"#3ff58a\",\"#42f687\",\"#46f783\",\"#4af880\",\"#4df97c\",\"#51f979\",\"#55fa76\",\"#59fb72\",\"#5dfb6f\",\"#61fc6c\",\"#65fc68\",\"#69fd65\",\"#6dfd62\",\"#71fd5f\",\"#74fe5c\",\"#78fe59\",\"#7cfe56\",\"#80fe53\",\"#84fe50\",\"#87fe4d\",\"#8bfe4b\",\"#8efe48\",\"#92fe46\",\"#95fe44\",\"#98fe42\",\"#9bfd40\",\"#9efd3e\",\"#a1fc3d\",\"#a4fc3b\",\"#a6fb3a\",\"#a9fb39\",\"#acfa37\",\"#aef937\",\"#b1f836\",\"#b3f835\",\"#b6f735\",\"#b9f534\",\"#bbf434\",\"#bef334\",\"#c0f233\",\"#c3f133\",\"#c5ef33\",\"#c8ee33\",\"#caed33\",\"#cdeb34\",\"#cfea34\",\"#d1e834\",\"#d4e735\",\"#d6e535\",\"#d8e335\",\"#dae236\",\"#dde036\",\"#dfde36\",\"#e1dc37\",\"#e3da37\",\"#e5d838\",\"#e7d738\",\"#e8d538\",\"#ead339\",\"#ecd139\",\"#edcf39\",\"#efcd39\",\"#f0cb3a\",\"#f2c83a\",\"#f3c63a\",\"#f4c43a\",\"#f6c23a\",\"#f7c039\",\"#f8be39\",\"#f9bc39\",\"#f9ba38\",\"#fab737\",\"#fbb537\",\"#fbb336\",\"#fcb035\",\"#fcae34\",\"#fdab33\",\"#fda932\",\"#fda631\",\"#fda330\",\"#fea12f\",\"#fe9e2e\",\"#fe9b2d\",\"#fe982c\",\"#fd952b\",\"#fd9229\",\"#fd8f28\",\"#fd8c27\",\"#fc8926\",\"#fc8624\",\"#fb8323\",\"#fb8022\",\"#fa7d20\",\"#fa7a1f\",\"#f9771e\",\"#f8741c\",\"#f7711b\",\"#f76e1a\",\"#f66b18\",\"#f56817\",\"#f46516\",\"#f36315\",\"#f26014\",\"#f15d13\",\"#ef5a11\",\"#ee5810\",\"#ed550f\",\"#ec520e\",\"#ea500d\",\"#e94d0d\",\"#e84b0c\",\"#e6490b\",\"#e5460a\",\"#e3440a\",\"#e24209\",\"#e04008\",\"#de3e08\",\"#dd3c07\",\"#db3a07\",\"#d93806\",\"#d73606\",\"#d63405\",\"#d43205\",\"#d23005\",\"#d02f04\",\"#ce2d04\",\"#cb2b03\",\"#c92903\",\"#c72803\",\"#c52602\",\"#c32402\",\"#c02302\",\"#be2102\",\"#bb1f01\",\"#b91e01\",\"#b61c01\",\"#b41b01\",\"#b11901\",\"#ae1801\",\"#ac1601\",\"#a91501\",\"#a61401\",\"#a31201\",\"#a01101\",\"#9d1001\",\"#9a0e01\",\"#970d01\",\"#940c01\",\"#910b01\",\"#8e0a01\",\"#8b0901\",\"#870801\",\"#840701\",\"#810602\",\"#7d0502\",\"#7a0402\"],\"low\":69.21716615523626,\"high\":7.147781896885541}}},\"fill_color\":{\"type\":\"field\",\"field\":\"y_2_values\",\"transform\":{\"id\":\"p655796\"}},\"hatch_color\":{\"type\":\"field\",\"field\":\"y_2_values\",\"transform\":{\"id\":\"p655796\"}}}},\"nonselection_glyph\":{\"type\":\"object\",\"name\":\"Circle\",\"id\":\"p655801\",\"attributes\":{\"x\":{\"type\":\"field\",\"field\":\"x_values\"},\"y\":{\"type\":\"field\",\"field\":\"y_2_values\"},\"size\":{\"type\":\"value\",\"value\":10},\"line_color\":{\"type\":\"field\",\"field\":\"y_2_values\",\"transform\":{\"id\":\"p655796\"}},\"line_alpha\":{\"type\":\"value\",\"value\":0.1},\"fill_color\":{\"type\":\"field\",\"field\":\"y_2_values\",\"transform\":{\"id\":\"p655796\"}},\"fill_alpha\":{\"type\":\"value\",\"value\":0.1},\"hatch_color\":{\"type\":\"field\",\"field\":\"y_2_values\",\"transform\":{\"id\":\"p655796\"}},\"hatch_alpha\":{\"type\":\"value\",\"value\":0.1}}},\"muted_glyph\":{\"type\":\"object\",\"name\":\"Circle\",\"id\":\"p655802\",\"attributes\":{\"x\":{\"type\":\"field\",\"field\":\"x_values\"},\"y\":{\"type\":\"field\",\"field\":\"y_2_values\"},\"size\":{\"type\":\"value\",\"value\":10},\"line_color\":{\"type\":\"field\",\"field\":\"y_2_values\",\"transform\":{\"id\":\"p655796\"}},\"line_alpha\":{\"type\":\"value\",\"value\":0.2},\"fill_color\":{\"type\":\"field\",\"field\":\"y_2_values\",\"transform\":{\"id\":\"p655796\"}},\"fill_alpha\":{\"type\":\"value\",\"value\":0.2},\"hatch_color\":{\"type\":\"field\",\"field\":\"y_2_values\",\"transform\":{\"id\":\"p655796\"}},\"hatch_alpha\":{\"type\":\"value\",\"value\":0.2}}}}},{\"type\":\"object\",\"name\":\"GlyphRenderer\",\"id\":\"p655813\",\"attributes\":{\"data_source\":{\"id\":\"p655773\"},\"view\":{\"type\":\"object\",\"name\":\"CDSView\",\"id\":\"p655814\",\"attributes\":{\"filter\":{\"type\":\"object\",\"name\":\"AllIndices\",\"id\":\"p655815\"}}},\"glyph\":{\"type\":\"object\",\"name\":\"Line\",\"id\":\"p655810\",\"attributes\":{\"x\":{\"type\":\"field\",\"field\":\"x_values\"},\"y\":{\"type\":\"field\",\"field\":\"y_2_values\"},\"line_color\":\"orange\"}},\"nonselection_glyph\":{\"type\":\"object\",\"name\":\"Line\",\"id\":\"p655811\",\"attributes\":{\"x\":{\"type\":\"field\",\"field\":\"x_values\"},\"y\":{\"type\":\"field\",\"field\":\"y_2_values\"},\"line_color\":\"orange\",\"line_alpha\":0.1}},\"muted_glyph\":{\"type\":\"object\",\"name\":\"Line\",\"id\":\"p655812\",\"attributes\":{\"x\":{\"type\":\"field\",\"field\":\"x_values\"},\"y\":{\"type\":\"field\",\"field\":\"y_2_values\"},\"line_color\":\"orange\",\"line_alpha\":0.2}}}}],\"toolbar\":{\"type\":\"object\",\"name\":\"Toolbar\",\"id\":\"p655696\",\"attributes\":{\"tools\":[{\"type\":\"object\",\"name\":\"PanTool\",\"id\":\"p655758\"},{\"type\":\"object\",\"name\":\"WheelZoomTool\",\"id\":\"p655759\"},{\"type\":\"object\",\"name\":\"BoxZoomTool\",\"id\":\"p655760\",\"attributes\":{\"overlay\":{\"type\":\"object\",\"name\":\"BoxAnnotation\",\"id\":\"p655761\",\"attributes\":{\"syncable\":false,\"level\":\"overlay\",\"visible\":false,\"left_units\":\"canvas\",\"right_units\":\"canvas\",\"bottom_units\":\"canvas\",\"top_units\":\"canvas\",\"line_color\":\"black\",\"line_alpha\":1.0,\"line_width\":2,\"line_dash\":[4,4],\"fill_color\":\"lightgrey\",\"fill_alpha\":0.5}}}},{\"type\":\"object\",\"name\":\"SaveTool\",\"id\":\"p655762\"},{\"type\":\"object\",\"name\":\"ResetTool\",\"id\":\"p655763\"},{\"type\":\"object\",\"name\":\"HelpTool\",\"id\":\"p655764\"},{\"type\":\"object\",\"name\":\"HoverTool\",\"id\":\"p655818\",\"attributes\":{\"renderers\":[{\"id\":\"p655813\"}],\"tooltips\":[[\"Date\",\"@x_values{%Y-%m-%d %H:%M}\"],[\"Value\",\"@y_2_values\"]],\"formatters\":{\"type\":\"map\",\"entries\":[[\"@x_values\",\"datetime\"]]}}},{\"type\":\"object\",\"name\":\"HoverTool\",\"id\":\"p655820\",\"attributes\":{\"renderers\":[{\"id\":\"p655793\"}],\"tooltips\":[[\"Date\",\"@x_values{%Y-%m-%d %H:%M}\"],[\"Value\",\"@y_1_values\"]],\"formatters\":{\"type\":\"map\",\"entries\":[[\"@x_values\",\"datetime\"]]}}}]}},\"left\":[{\"type\":\"object\",\"name\":\"LinearAxis\",\"id\":\"p655751\",\"attributes\":{\"ticker\":{\"type\":\"object\",\"name\":\"BasicTicker\",\"id\":\"p655754\",\"attributes\":{\"mantissas\":[1,2,5]}},\"formatter\":{\"type\":\"object\",\"name\":\"BasicTickFormatter\",\"id\":\"p655753\"},\"axis_label\":\"Percentage Change (%)\",\"axis_label_standoff\":10,\"axis_label_text_color\":\"#E0E0E0\",\"axis_label_text_font\":\"Helvetica\",\"axis_label_text_font_size\":\"1.25em\",\"axis_label_text_font_style\":\"normal\",\"major_label_policy\":{\"type\":\"object\",\"name\":\"AllLabels\",\"id\":\"p655752\"},\"major_label_text_color\":\"#E0E0E0\",\"major_label_text_font\":\"Helvetica\",\"major_label_text_font_size\":\"1.025em\",\"axis_line_color\":\"#E0E0E0\",\"axis_line_alpha\":0,\"major_tick_line_color\":\"#E0E0E0\",\"major_tick_line_alpha\":0,\"minor_tick_line_color\":\"#E0E0E0\",\"minor_tick_line_alpha\":0}}],\"below\":[{\"type\":\"object\",\"name\":\"DatetimeAxis\",\"id\":\"p655708\",\"attributes\":{\"ticker\":{\"type\":\"object\",\"name\":\"DatetimeTicker\",\"id\":\"p655711\",\"attributes\":{\"num_minor_ticks\":5,\"tickers\":[{\"type\":\"object\",\"name\":\"AdaptiveTicker\",\"id\":\"p655712\",\"attributes\":{\"num_minor_ticks\":0,\"mantissas\":[1,2,5],\"max_interval\":500.0}},{\"type\":\"object\",\"name\":\"AdaptiveTicker\",\"id\":\"p655713\",\"attributes\":{\"num_minor_ticks\":0,\"base\":60,\"mantissas\":[1,2,5,10,15,20,30],\"min_interval\":1000.0,\"max_interval\":1800000.0}},{\"type\":\"object\",\"name\":\"AdaptiveTicker\",\"id\":\"p655714\",\"attributes\":{\"num_minor_ticks\":0,\"base\":24,\"mantissas\":[1,2,4,6,8,12],\"min_interval\":3600000.0,\"max_interval\":43200000.0}},{\"type\":\"object\",\"name\":\"DaysTicker\",\"id\":\"p655715\",\"attributes\":{\"days\":[1,2,3,4,5,6,7,8,9,10,11,12,13,14,15,16,17,18,19,20,21,22,23,24,25,26,27,28,29,30,31]}},{\"type\":\"object\",\"name\":\"DaysTicker\",\"id\":\"p655716\",\"attributes\":{\"days\":[1,4,7,10,13,16,19,22,25,28]}},{\"type\":\"object\",\"name\":\"DaysTicker\",\"id\":\"p655717\",\"attributes\":{\"days\":[1,8,15,22]}},{\"type\":\"object\",\"name\":\"DaysTicker\",\"id\":\"p655718\",\"attributes\":{\"days\":[1,15]}},{\"type\":\"object\",\"name\":\"MonthsTicker\",\"id\":\"p655719\",\"attributes\":{\"months\":[0,1,2,3,4,5,6,7,8,9,10,11]}},{\"type\":\"object\",\"name\":\"MonthsTicker\",\"id\":\"p655720\",\"attributes\":{\"months\":[0,2,4,6,8,10]}},{\"type\":\"object\",\"name\":\"MonthsTicker\",\"id\":\"p655721\",\"attributes\":{\"months\":[0,4,8]}},{\"type\":\"object\",\"name\":\"MonthsTicker\",\"id\":\"p655722\",\"attributes\":{\"months\":[0,6]}},{\"type\":\"object\",\"name\":\"YearsTicker\",\"id\":\"p655723\"}]}},\"formatter\":{\"type\":\"object\",\"name\":\"DatetimeTickFormatter\",\"id\":\"p655816\",\"attributes\":{\"hours\":\"%H:%M\"}},\"axis_label\":\"Date-Time\",\"axis_label_standoff\":10,\"axis_label_text_color\":\"#E0E0E0\",\"axis_label_text_font\":\"Helvetica\",\"axis_label_text_font_size\":\"1.25em\",\"axis_label_text_font_style\":\"normal\",\"major_label_policy\":{\"type\":\"object\",\"name\":\"AllLabels\",\"id\":\"p655709\"},\"major_label_text_color\":\"#E0E0E0\",\"major_label_text_font\":\"Helvetica\",\"major_label_text_font_size\":\"1.025em\",\"axis_line_color\":\"#E0E0E0\",\"axis_line_alpha\":0,\"major_tick_line_color\":\"#E0E0E0\",\"major_tick_line_alpha\":0,\"minor_tick_line_color\":\"#E0E0E0\",\"minor_tick_line_alpha\":0}}],\"center\":[{\"type\":\"object\",\"name\":\"Grid\",\"id\":\"p655750\",\"attributes\":{\"axis\":{\"id\":\"p655708\"},\"grid_line_color\":\"#E0E0E0\",\"grid_line_alpha\":0.25}},{\"type\":\"object\",\"name\":\"Grid\",\"id\":\"p655757\",\"attributes\":{\"dimension\":1,\"axis\":{\"id\":\"p655751\"},\"grid_line_color\":\"#E0E0E0\",\"grid_line_alpha\":0.25}},{\"type\":\"object\",\"name\":\"Legend\",\"id\":\"p655785\",\"attributes\":{\"location\":\"top_left\",\"title\":\"Lines\",\"border_line_alpha\":0,\"background_fill_color\":\"#20262B\",\"background_fill_alpha\":0.25,\"label_text_color\":\"#E0E0E0\",\"label_text_font\":\"Helvetica\",\"label_text_font_size\":\"1.025em\",\"label_standoff\":8,\"glyph_width\":15,\"spacing\":8,\"items\":[{\"type\":\"object\",\"name\":\"LegendItem\",\"id\":\"p655786\",\"attributes\":{\"label\":{\"type\":\"value\",\"value\":\"Line 1\"},\"renderers\":[{\"id\":\"p655782\"},{\"id\":\"p655793\"}]}},{\"type\":\"object\",\"name\":\"LegendItem\",\"id\":\"p655806\",\"attributes\":{\"label\":{\"type\":\"value\",\"value\":\"Line 2\"},\"renderers\":[{\"id\":\"p655803\"},{\"id\":\"p655813\"}]}}]}}],\"background_fill_color\":\"#20262B\",\"border_fill_color\":\"#15191C\"}}],\"callbacks\":{\"type\":\"map\"}}};\n",
       "  const render_items = [{\"docid\":\"9fc5a141-0988-467b-9eb8-ab8fcf75526a\",\"roots\":{\"p655690\":\"a89dc9c0-8993-4422-9215-b1fbbb3d85b2\"},\"root_ids\":[\"p655690\"]}];\n",
       "  root.Bokeh.embed.embed_items_notebook(docs_json, render_items);\n",
       "  }\n",
       "  if (root.Bokeh !== undefined) {\n",
       "    embed_document(root);\n",
       "  } else {\n",
       "    let attempts = 0;\n",
       "    const timer = setInterval(function(root) {\n",
       "      if (root.Bokeh !== undefined) {\n",
       "        clearInterval(timer);\n",
       "        embed_document(root);\n",
       "      } else {\n",
       "        attempts++;\n",
       "        if (attempts > 100) {\n",
       "          clearInterval(timer);\n",
       "          console.log(\"Bokeh: ERROR: Unable to run BokehJS code because BokehJS library is missing\");\n",
       "        }\n",
       "      }\n",
       "    }, 10, root)\n",
       "  }\n",
       "})(window);"
      ],
      "application/vnd.bokehjs_exec.v0+json": ""
     },
     "metadata": {
      "application/vnd.bokehjs_exec.v0+json": {
       "id": "p655690"
      }
     },
     "output_type": "display_data"
    }
   ],
   "source": [
    "from bokeh.plotting import figure, show\n",
    "from bokeh.models import HoverTool, ColumnDataSource, DatetimeTickFormatter\n",
    "from datetime import datetime\n",
    "import random\n",
    "from bokeh.models import LinearColorMapper\n",
    "from bokeh.palettes import Turbo256\n",
    "import random\n",
    "from datetime import datetime, timedelta\n",
    "\n",
    "def generate_datetime_objects(no_of_obj, no_already_avail):\n",
    "    x_values = []\n",
    "    current_datetime = datetime.now()\n",
    "\n",
    "    for i in range(no_already_avail, no_already_avail + no_of_obj):\n",
    "        start_datetime = current_datetime.replace(hour=i + 1, minute=0, second=0, microsecond=0)\n",
    "        end_datetime = current_datetime.replace(hour=i + 2, minute=0, second=0, microsecond=0)\n",
    "        new_datetime = start_datetime + timedelta(seconds=random.randint(0, int((end_datetime - start_datetime).total_seconds())))\n",
    "\n",
    "        x_values.append(new_datetime)\n",
    "\n",
    "    return x_values\n",
    "\n",
    "def generate_random_floats(n_of_obj):\n",
    "    return [random.uniform(0, 100) for _ in range(n_of_obj)]\n",
    "\n",
    "x_values = []\n",
    "no_of_obj = 6\n",
    "no_already_avail = len(x_values)\n",
    "x_values += generate_datetime_objects(no_of_obj, no_already_avail)\n",
    "\n",
    "y_1_values = generate_random_floats(len(x_values))\n",
    "y_2_values = generate_random_floats(len(x_values))\n",
    "\n",
    "print(len(x_values))\n",
    "print(len(y_1_values))\n",
    "print(len(y_2_values))\n",
    "\n",
    "# Create a figure\n",
    "p = figure(\n",
    "    title=\"Dhaka Stock Exchange Live Change\",\n",
    "    x_axis_type=\"datetime\",\n",
    "    sizing_mode=\"scale_both\",\n",
    "    max_width=900,\n",
    "    max_height=300,\n",
    "    width=900,\n",
    "    height=900\n",
    ")\n",
    "\n",
    "p.title.align = \"center\"\n",
    "# Set x-axis and y-axis labels\n",
    "p.xaxis.axis_label = \"Date-Time\"\n",
    "p.yaxis.axis_label = \"Percentage Change (%)\"\n",
    "\n",
    "global source\n",
    "source = ColumnDataSource(data=dict(x_values=x_values, y_1_values=y_1_values, y_2_values=y_2_values))\n",
    "\n",
    "p.circle(x='x_values', y='y_1_values', source=source, legend_label=\"Line 1\", line_color='pink')\n",
    "\n",
    "# Add the line with varying colors based on values\n",
    "line1 = p.line(x='x_values', y='y_1_values', legend_label=\"Line 1\", line_color='yellow', source=source)\n",
    "\n",
    "mapper = LinearColorMapper(palette=Turbo256, high=min(y_2_values), low=max(y_2_values))\n",
    "\n",
    "p.circle(x='x_values', y='y_2_values', legend_label=\"Line 2\", color={'field': 'y_2_values', 'transform': mapper}, size=10, source=source)\n",
    "\n",
    "# Add the line with varying colors based on values\n",
    "line2 = p.line(x='x_values', y='y_2_values', legend_label=\"Line 2\", line_color='orange', source=source)\n",
    "\n",
    "    \n",
    "\n",
    "# Customize the x-axis tick labels\n",
    "p.xaxis.formatter = DatetimeTickFormatter(hours=\"%H:%M\")\n",
    "\n",
    "# Set the theme to dark_minimal\n",
    "curdoc().theme = 'dark_minimal'\n",
    "\n",
    "p.legend.title = 'Lines'\n",
    "p.legend.location = \"top_left\"  # Options: top_left, top_right, bottom_left, bottom_right, center, center_left, center_right\n",
    "\n",
    "# Define tooltips\n",
    "tooltips = [\n",
    "    (\"Date\", \"@x_values{%Y-%m-%d %H:%M}\"),\n",
    "    (\"Value\", \"@y_2_values\"),\n",
    "]\n",
    "\n",
    "# Add tooltips to both lines\n",
    "hover_tool = HoverTool(renderers=[line2, \n",
    "                                  # line2\n",
    "                                 ], tooltips=tooltips, formatters={\"@x_values\": \"datetime\"})\n",
    "p.add_tools(hover_tool)\n",
    "\n",
    "\n",
    "# Define tooltips\n",
    "tooltips = [\n",
    "    (\"Date\", \"@x_values{%Y-%m-%d %H:%M}\"),\n",
    "    (\"Value\", \"@y_1_values\"),\n",
    "]\n",
    "\n",
    "# Add tooltips to both lines\n",
    "hover_tool_2 = HoverTool(renderers=[line1, \n",
    "                                  # line2\n",
    "                                 ], tooltips=tooltips, formatters={\"@x_values\": \"datetime\"})\n",
    "p.add_tools(hover_tool_2)\n",
    "# Show the plot\n",
    "\n",
    "\n",
    "# curdoc().add_periodic_callback(update, 60)\n",
    "\n",
    "show(p)\n",
    "\n"
   ]
  },
  {
   "cell_type": "code",
   "execution_count": 364,
   "id": "e3f59e77-dfcf-4f4e-9c2a-a3b52bebed90",
   "metadata": {},
   "outputs": [
    {
     "data": {
      "text/html": [
       "\n",
       "  <div id=\"a3380249-194c-4c10-9400-eaa3aab9ce6a\" data-root-id=\"p982352\" style=\"display: contents;\"></div>\n"
      ]
     },
     "metadata": {},
     "output_type": "display_data"
    },
    {
     "data": {
      "application/javascript": [
       "(function(root) {\n",
       "  function embed_document(root) {\n",
       "  const docs_json = {\"b3921978-81f0-46b8-9079-78650a5ee691\":{\"version\":\"3.1.1\",\"title\":\"Bokeh Application\",\"defs\":[],\"roots\":[{\"type\":\"object\",\"name\":\"Figure\",\"id\":\"p982352\",\"attributes\":{\"x_range\":{\"type\":\"object\",\"name\":\"DataRange1d\",\"id\":\"p982353\"},\"y_range\":{\"type\":\"object\",\"name\":\"DataRange1d\",\"id\":\"p982354\"},\"x_scale\":{\"type\":\"object\",\"name\":\"LinearScale\",\"id\":\"p982365\"},\"y_scale\":{\"type\":\"object\",\"name\":\"LinearScale\",\"id\":\"p982367\"},\"title\":{\"type\":\"object\",\"name\":\"Title\",\"id\":\"p982359\",\"attributes\":{\"text_color\":\"#E0E0E0\",\"text_font\":\"Helvetica\",\"text_font_size\":\"1.15em\"}},\"outline_line_color\":\"#E0E0E0\",\"outline_line_alpha\":0.25,\"renderers\":[{\"type\":\"object\",\"name\":\"GlyphRenderer\",\"id\":\"p982404\",\"attributes\":{\"data_source\":{\"type\":\"object\",\"name\":\"ColumnDataSource\",\"id\":\"p655773\",\"attributes\":{\"selected\":{\"type\":\"object\",\"name\":\"Selection\",\"id\":\"p655775\",\"attributes\":{\"indices\":[],\"line_indices\":[]}},\"selection_policy\":{\"type\":\"object\",\"name\":\"UnionRenderers\",\"id\":\"p655774\"},\"data\":{\"type\":\"map\",\"entries\":[[\"x_values\",[1684546355000.0,1684551121000.0,1684554492000.0,1684556781000.0,1684562265000.0,1684563815000.0]],[\"y_1_values\",[66.3894271052403,78.62749449144977,14.89263109824267,92.78852099955176,53.53842669431111,47.642690930526975]],[\"y_2_values\",[61.447240773171764,7.147781896885541,69.21716615523626,35.416474749375425,59.80977811661706,15.464647308621371]]]}}},\"view\":{\"type\":\"object\",\"name\":\"CDSView\",\"id\":\"p982405\",\"attributes\":{\"filter\":{\"type\":\"object\",\"name\":\"AllIndices\",\"id\":\"p982406\"}}},\"glyph\":{\"type\":\"object\",\"name\":\"Circle\",\"id\":\"p982401\",\"attributes\":{\"x\":{\"type\":\"field\",\"field\":\"x_values\"},\"y\":{\"type\":\"field\",\"field\":\"y_1_values\"},\"size\":{\"type\":\"value\",\"value\":30},\"line_color\":{\"type\":\"value\",\"value\":\"white\"},\"line_alpha\":{\"type\":\"value\",\"value\":0.3},\"line_width\":{\"type\":\"value\",\"value\":3},\"fill_color\":{\"type\":\"value\",\"value\":\"blue\"},\"fill_alpha\":{\"type\":\"value\",\"value\":0.3},\"hatch_alpha\":{\"type\":\"value\",\"value\":0.3}}},\"nonselection_glyph\":{\"type\":\"object\",\"name\":\"Circle\",\"id\":\"p982402\",\"attributes\":{\"x\":{\"type\":\"field\",\"field\":\"x_values\"},\"y\":{\"type\":\"field\",\"field\":\"y_1_values\"},\"size\":{\"type\":\"value\",\"value\":30},\"line_color\":{\"type\":\"value\",\"value\":\"white\"},\"line_alpha\":{\"type\":\"value\",\"value\":0.1},\"line_width\":{\"type\":\"value\",\"value\":3},\"fill_color\":{\"type\":\"value\",\"value\":\"blue\"},\"fill_alpha\":{\"type\":\"value\",\"value\":0.1},\"hatch_alpha\":{\"type\":\"value\",\"value\":0.1}}},\"muted_glyph\":{\"type\":\"object\",\"name\":\"Circle\",\"id\":\"p982403\",\"attributes\":{\"x\":{\"type\":\"field\",\"field\":\"x_values\"},\"y\":{\"type\":\"field\",\"field\":\"y_1_values\"},\"size\":{\"type\":\"value\",\"value\":30},\"line_color\":{\"type\":\"value\",\"value\":\"white\"},\"line_alpha\":{\"type\":\"value\",\"value\":0.2},\"line_width\":{\"type\":\"value\",\"value\":3},\"fill_color\":{\"type\":\"value\",\"value\":\"blue\"},\"fill_alpha\":{\"type\":\"value\",\"value\":0.2},\"hatch_alpha\":{\"type\":\"value\",\"value\":0.2}}}}},{\"type\":\"object\",\"name\":\"GlyphRenderer\",\"id\":\"p982413\",\"attributes\":{\"data_source\":{\"id\":\"p655773\"},\"view\":{\"type\":\"object\",\"name\":\"CDSView\",\"id\":\"p982414\",\"attributes\":{\"filter\":{\"type\":\"object\",\"name\":\"AllIndices\",\"id\":\"p982415\"}}},\"glyph\":{\"type\":\"object\",\"name\":\"Line\",\"id\":\"p982410\",\"attributes\":{\"x\":{\"type\":\"field\",\"field\":\"x_values\"},\"y\":{\"type\":\"field\",\"field\":\"y_1_values\"},\"line_color\":\"pink\",\"line_alpha\":0.3,\"line_width\":3,\"line_join\":\"round\",\"line_cap\":\"round\",\"line_dash\":[4,4]}},\"nonselection_glyph\":{\"type\":\"object\",\"name\":\"Line\",\"id\":\"p982411\",\"attributes\":{\"x\":{\"type\":\"field\",\"field\":\"x_values\"},\"y\":{\"type\":\"field\",\"field\":\"y_1_values\"},\"line_color\":\"pink\",\"line_alpha\":0.1,\"line_width\":3,\"line_join\":\"round\",\"line_cap\":\"round\",\"line_dash\":[4,4]}},\"muted_glyph\":{\"type\":\"object\",\"name\":\"Line\",\"id\":\"p982412\",\"attributes\":{\"x\":{\"type\":\"field\",\"field\":\"x_values\"},\"y\":{\"type\":\"field\",\"field\":\"y_1_values\"},\"line_color\":\"pink\",\"line_alpha\":0.2,\"line_width\":3,\"line_join\":\"round\",\"line_cap\":\"round\",\"line_dash\":[4,4]}}}}],\"toolbar\":{\"type\":\"object\",\"name\":\"Toolbar\",\"id\":\"p982356\",\"attributes\":{\"tools\":[{\"type\":\"object\",\"name\":\"PanTool\",\"id\":\"p982383\"},{\"type\":\"object\",\"name\":\"WheelZoomTool\",\"id\":\"p982384\"},{\"type\":\"object\",\"name\":\"BoxZoomTool\",\"id\":\"p982385\",\"attributes\":{\"overlay\":{\"type\":\"object\",\"name\":\"BoxAnnotation\",\"id\":\"p982386\",\"attributes\":{\"syncable\":false,\"level\":\"overlay\",\"visible\":false,\"left_units\":\"canvas\",\"right_units\":\"canvas\",\"bottom_units\":\"canvas\",\"top_units\":\"canvas\",\"line_color\":\"black\",\"line_alpha\":1.0,\"line_width\":2,\"line_dash\":[4,4],\"fill_color\":\"lightgrey\",\"fill_alpha\":0.5}}}},{\"type\":\"object\",\"name\":\"SaveTool\",\"id\":\"p982387\"},{\"type\":\"object\",\"name\":\"ResetTool\",\"id\":\"p982388\"},{\"type\":\"object\",\"name\":\"HelpTool\",\"id\":\"p982389\"}]}},\"left\":[{\"type\":\"object\",\"name\":\"LinearAxis\",\"id\":\"p982376\",\"attributes\":{\"ticker\":{\"type\":\"object\",\"name\":\"BasicTicker\",\"id\":\"p982379\",\"attributes\":{\"mantissas\":[1,2,5]}},\"formatter\":{\"type\":\"object\",\"name\":\"BasicTickFormatter\",\"id\":\"p982378\"},\"axis_label_standoff\":10,\"axis_label_text_color\":\"#E0E0E0\",\"axis_label_text_font\":\"Helvetica\",\"axis_label_text_font_size\":\"1.25em\",\"axis_label_text_font_style\":\"normal\",\"major_label_policy\":{\"type\":\"object\",\"name\":\"AllLabels\",\"id\":\"p982377\"},\"major_label_text_color\":\"#E0E0E0\",\"major_label_text_font\":\"Helvetica\",\"major_label_text_font_size\":\"1.025em\",\"axis_line_color\":\"#E0E0E0\",\"axis_line_alpha\":0,\"major_tick_line_color\":\"#E0E0E0\",\"major_tick_line_alpha\":0,\"minor_tick_line_color\":\"#E0E0E0\",\"minor_tick_line_alpha\":0}}],\"below\":[{\"type\":\"object\",\"name\":\"LinearAxis\",\"id\":\"p982369\",\"attributes\":{\"ticker\":{\"type\":\"object\",\"name\":\"BasicTicker\",\"id\":\"p982372\",\"attributes\":{\"mantissas\":[1,2,5]}},\"formatter\":{\"type\":\"object\",\"name\":\"DatetimeTickFormatter\",\"id\":\"p982416\",\"attributes\":{\"hours\":\"%H:%M\"}},\"axis_label_standoff\":10,\"axis_label_text_color\":\"#E0E0E0\",\"axis_label_text_font\":\"Helvetica\",\"axis_label_text_font_size\":\"1.25em\",\"axis_label_text_font_style\":\"normal\",\"major_label_policy\":{\"type\":\"object\",\"name\":\"AllLabels\",\"id\":\"p982370\"},\"major_label_text_color\":\"#E0E0E0\",\"major_label_text_font\":\"Helvetica\",\"major_label_text_font_size\":\"1.025em\",\"axis_line_color\":\"#E0E0E0\",\"axis_line_alpha\":0,\"major_tick_line_color\":\"#E0E0E0\",\"major_tick_line_alpha\":0,\"minor_tick_line_color\":\"#E0E0E0\",\"minor_tick_line_alpha\":0}}],\"center\":[{\"type\":\"object\",\"name\":\"Grid\",\"id\":\"p982375\",\"attributes\":{\"axis\":{\"id\":\"p982369\"},\"grid_line_color\":\"#E0E0E0\",\"grid_line_alpha\":0.25}},{\"type\":\"object\",\"name\":\"Grid\",\"id\":\"p982382\",\"attributes\":{\"dimension\":1,\"axis\":{\"id\":\"p982376\"},\"grid_line_color\":\"#E0E0E0\",\"grid_line_alpha\":0.25}}],\"background_fill_color\":\"#20262B\",\"border_fill_color\":\"#15191C\"}}],\"callbacks\":{\"type\":\"map\"}}};\n",
       "  const render_items = [{\"docid\":\"b3921978-81f0-46b8-9079-78650a5ee691\",\"roots\":{\"p982352\":\"a3380249-194c-4c10-9400-eaa3aab9ce6a\"},\"root_ids\":[\"p982352\"]}];\n",
       "  root.Bokeh.embed.embed_items_notebook(docs_json, render_items);\n",
       "  }\n",
       "  if (root.Bokeh !== undefined) {\n",
       "    embed_document(root);\n",
       "  } else {\n",
       "    let attempts = 0;\n",
       "    const timer = setInterval(function(root) {\n",
       "      if (root.Bokeh !== undefined) {\n",
       "        clearInterval(timer);\n",
       "        embed_document(root);\n",
       "      } else {\n",
       "        attempts++;\n",
       "        if (attempts > 100) {\n",
       "          clearInterval(timer);\n",
       "          console.log(\"Bokeh: ERROR: Unable to run BokehJS code because BokehJS library is missing\");\n",
       "        }\n",
       "      }\n",
       "    }, 10, root)\n",
       "  }\n",
       "})(window);"
      ],
      "application/vnd.bokehjs_exec.v0+json": ""
     },
     "metadata": {
      "application/vnd.bokehjs_exec.v0+json": {
       "id": "p982352"
      }
     },
     "output_type": "display_data"
    }
   ],
   "source": [
    "from bokeh.plotting import figure, show\n",
    "\n",
    "p = figure()\n",
    "\n",
    "def draw_shape(figure, source, x_col_name, y_col_name, shape, size, fill_color, border_color, border_width, alpha, line_dash, line_alpha, line_cap, line_join, line_smoothing):\n",
    "    if shape=='circle' or shape=='c':\n",
    "        p.circle(x=x_col_name, y=y_col_name, source=source, size=size, fill_color=fill_color, line_color=border_color, line_width=border_width, alpha=alpha)\n",
    "    elif shape=='square' or shape=='s':\n",
    "        p.square(x=x_col_name, y=y_col_name, source=source, size=size, fill_color=fill_color, line_color=border_color, line_width=border_width, alpha=alpha)\n",
    "    elif shape=='diamond' or shape=='d':\n",
    "        p.diamond(x=x_col_name, y=y_col_name, source=source, size=size, fill_color=fill_color, line_color=border_color, line_width=border_width, alpha=alpha)\n",
    "    elif shape=='triangle' or shape=='t':\n",
    "        p.triangle(x=x_col_name, y=y_col_name, source=source, size=size, fill_color=fill_color, line_color=border_color, line_width=border_width, alpha=alpha)\n",
    "    elif shape=='cross' or shape=='+':\n",
    "        p.cross(x=x_col_name, y=y_col_name, source=source, size=size,  fill_color=fill_color, \n",
    "                line_color=border_color, line_width=border_width, alpha=alpha)\n",
    "    elif shape=='X' or shape=='x':\n",
    "        p.x(x=x_col_name, y=y_col_name, source=source, size=size,  fill_color=fill_color, \n",
    "                line_color=border_color, line_width=border_width, alpha=alpha)\n",
    "    elif shape=='asterisk' or shape=='*':\n",
    "        p.asterisk(x=x_col_name, y=y_col_name, source=source, size=size,  fill_color=fill_color, \n",
    "                line_color=border_color, line_width=border_width, alpha=alpha)\n",
    "    elif shape=='circle_cross' or shape=='c+':\n",
    "        p.circle_cross(x=x_col_name, y=y_col_name, source=source, size=size,  fill_color=fill_color, \n",
    "                line_color=border_color, line_width=border_width, alpha=alpha)\n",
    "    elif shape=='circle_x' or shape=='cx':\n",
    "        p.circle_x(x=x_col_name, y=y_col_name, source=source, size=size,  fill_color=fill_color, \n",
    "                line_color=border_color, line_width=border_width, alpha=alpha)\n",
    "    elif shape=='inverted_triangle' or shape=='it':\n",
    "        p.inverted_triangle(x=x_col_name, y=y_col_name, source=source,  size=size, fill_color=fill_color, \n",
    "                line_color=border_color, line_width=border_width, alpha=alpha)\n",
    "    elif shape=='square_cross' or shape=='s+':\n",
    "        p.square_cross(x=x_col_name, y=y_col_name, source=source, size=size,  fill_color=fill_color, \n",
    "                line_color=border_color, line_width=border_width, alpha=alpha)\n",
    "    elif shape=='square_x' or shape=='sx':\n",
    "        p.square_x(x=x_col_name, y=y_col_name, source=source, size=size,  fill_color=fill_color, \n",
    "                line_color=border_color, line_width=border_width, alpha=alpha)\n",
    "    elif shape=='plus' or shape=='p':\n",
    "        p.plus(x=x_col_name, y=y_col_name, source=source, size=size,  fill_color=fill_color, \n",
    "                line_color=border_color, line_width=border_width, alpha=alpha)\n",
    "    elif shape=='diamond_cross' or shape=='d+':\n",
    "        p.diamond_cross(x=x_col_name, y=y_col_name, source=source, size=size,  fill_color=fill_color, \n",
    "                line_color=border_color, line_width=border_width, alpha=alpha)\n",
    "    elif shape=='diamond_x' or shape=='dx':\n",
    "        p.diamond_x(x=x_col_name, y=y_col_name, source=source, size=size,  fill_color=fill_color, \n",
    "                line_color=border_color, line_width=border_width, alpha=alpha)\n",
    "    elif shape=='hex' or shape=='h':\n",
    "        p.hex(x=x_col_name, y=y_col_name, source=source, size=size,  fill_color=fill_color, \n",
    "                line_color=border_color, line_width=border_width, alpha=alpha)\n",
    "    elif shape=='y':\n",
    "        p.y(x=x_col_name, y=y_col_name, source=source, size=size,  fill_color=fill_color, \n",
    "                line_color=border_color, line_width=border_width, alpha=alpha)\n",
    "    elif shape=='-' or shape=='dash':\n",
    "        p.dash(x=x_col_name, y=y_col_name, source=source, size=size,  fill_color=fill_color, \n",
    "                line_color=border_color, line_width=border_width, alpha=alpha)\n",
    "    elif shape=='line' or shape=='l':\n",
    "        # Line cap / line join : \"butt\", \"round\", or \"square\"\n",
    "        # miter, round or bevel\n",
    "        p.line(x=x_col_name, y=y_col_name, source=source, #size=size, \n",
    "               # fill_color=fill_color, \n",
    "                line_color=border_color, line_width=border_width, alpha=alpha, line_dash=line_dash, line_alpha=alpha,  line_cap=line_cap, line_join=line_join, \n",
    "               # line_smoothing=line_smoothing\n",
    "              )\n",
    "   \n",
    "\n",
    "draw_shape(x_col_name='x_values', y_col_name='y_1_values', source=source, figure=p, shape='c', size=30, fill_color='blue', border_color='white', border_width=3, alpha=0.3, line_smoothing=0.9, line_join='round', line_cap='round', line_alpha=0.6, line_dash='4 4')\n",
    "\n",
    "draw_shape(x_col_name='x_values', y_col_name='y_1_values', source=source, figure=p, shape='line', size=30, fill_color='blue', border_color='pink', border_width=3, alpha=0.3, line_smoothing=1, line_join='round', line_cap='round', line_alpha=0.9, line_dash='4 4')\n",
    "\n",
    "p.xaxis.formatter = DatetimeTickFormatter(hours=\"%H:%M\")\n",
    "show(p)"
   ]
  },
  {
   "cell_type": "code",
   "execution_count": 298,
   "id": "dafbe4a6-8ac6-47c8-b7bc-07fe95e59e41",
   "metadata": {},
   "outputs": [
    {
     "data": {
      "text/plain": [
       "[71.29586774282811,\n",
       " 74.47580347456278,\n",
       " 56.17854626009523,\n",
       " 43.0121318398036,\n",
       " 20.290482535311426,\n",
       " 67.1349570452645]"
      ]
     },
     "execution_count": 298,
     "metadata": {},
     "output_type": "execute_result"
    }
   ],
   "source": [
    "y_1_values"
   ]
  },
  {
   "cell_type": "code",
   "execution_count": 299,
   "id": "d07ae94f-32b1-4a37-8d01-23a208542010",
   "metadata": {},
   "outputs": [
    {
     "data": {
      "text/plain": [
       "[datetime.datetime(2023, 5, 20, 1, 18, 14),\n",
       " datetime.datetime(2023, 5, 20, 2, 53, 50),\n",
       " datetime.datetime(2023, 5, 20, 3, 46, 24),\n",
       " datetime.datetime(2023, 5, 20, 4, 9, 57),\n",
       " datetime.datetime(2023, 5, 20, 5, 12),\n",
       " datetime.datetime(2023, 5, 20, 6, 48, 10)]"
      ]
     },
     "execution_count": 299,
     "metadata": {},
     "output_type": "execute_result"
    }
   ],
   "source": [
    "x_values"
   ]
  },
  {
   "cell_type": "code",
   "execution_count": null,
   "id": "218a39e2-5c11-4751-99f8-539c60d8484a",
   "metadata": {},
   "outputs": [],
   "source": [
    "# "
   ]
  },
  {
   "cell_type": "code",
   "execution_count": 306,
   "id": "ba39429c-31d1-411b-bbd3-93213d63de61",
   "metadata": {},
   "outputs": [],
   "source": [
    "\n",
    "# "
   ]
  },
  {
   "cell_type": "code",
   "execution_count": 322,
   "id": "e60dbd7d-57c9-49ee-8caf-9498e8201e71",
   "metadata": {},
   "outputs": [],
   "source": [
    "# "
   ]
  },
  {
   "cell_type": "code",
   "execution_count": 323,
   "id": "bc7e0917-c66b-4448-8ebc-71c4f96608bd",
   "metadata": {},
   "outputs": [
    {
     "name": "stdout",
     "output_type": "stream",
     "text": [
      "['__annotations__', '__class__', '__delattr__', '__dict__', '__dir__', '__doc__', '__eq__', '__format__', '__ge__', '__getattr__', '__getattribute__', '__gt__', '__hash__', '__init__', '__init_subclass__', '__le__', '__lt__', '__module__', '__ne__', '__new__', '__overridden_defaults__', '__properties__', '__qualified_model__', '__reduce__', '__reduce_ex__', '__repr__', '__setattr__', '__sizeof__', '__str__', '__subclasshook__', '__view_model__', '__view_module__', '__weakref__', '_args', '_attach_document', '_axis', '_callbacks', '_check_bad_extra_range_name', '_check_compatible_scale_and_ranges', '_check_fixed_height_policy', '_check_fixed_sizing_mode', '_check_fixed_width_policy', '_check_missing_renderers', '_check_required_range', '_check_required_scale', '_clear_extensions', '_coordinates', '_detach_document', '_document', '_event_callbacks', '_extra_kws', '_grid', '_id', '_initialized', '_line_stack', '_min_preferred_max_height', '_min_preferred_max_width', '_overridden_defaults', '_parent', '_property_values', '_raise_attribute_error_with_matches', '_repr_html_', '_scale', '_scatter', '_set_background', '_sphinx_height_hint', '_temp_document', '_trigger_event', '_unstable_default_values', '_unstable_themed_values', '_update_event_callbacks', 'above', 'add_glyph', 'add_layout', 'add_tile', 'add_tools', 'align', 'annular_wedge', 'annulus', 'apply_theme', 'arc', 'aspect_ratio', 'aspect_scale', 'asterisk', 'axis', 'background', 'background_fill_alpha', 'background_fill_color', 'below', 'bezier', 'block', 'border_fill_alpha', 'border_fill_color', 'center', 'circle', 'circle_cross', 'circle_dot', 'circle_x', 'circle_y', 'clone', 'column', 'context_menu', 'contour', 'coordinates', 'cross', 'css_classes', 'dash', 'dataspecs', 'descriptors', 'destroy', 'diamond', 'diamond_cross', 'diamond_dot', 'disabled', 'document', 'dot', 'ellipse', 'equals', 'extra_x_ranges', 'extra_x_scales', 'extra_y_ranges', 'extra_y_scales', 'flow_mode', 'frame_align', 'frame_height', 'frame_width', 'graph', 'grid', 'harea', 'harea_stack', 'hbar', 'hbar_stack', 'height', 'height_policy', 'hex', 'hex_dot', 'hex_tile', 'hexbin', 'hidpi', 'hline_stack', 'hold', 'hold_render', 'hover', 'id', 'image', 'image_rgba', 'image_stack', 'image_url', 'inner_height', 'inner_width', 'inverted_triangle', 'js_event_callbacks', 'js_link', 'js_on_change', 'js_on_event', 'js_property_callbacks', 'left', 'legend', 'line', 'lod_factor', 'lod_interval', 'lod_threshold', 'lod_timeout', 'lookup', 'margin', 'match_aspect', 'max_height', 'max_width', 'min_border', 'min_border_bottom', 'min_border_left', 'min_border_right', 'min_border_top', 'min_height', 'min_width', 'multi_line', 'multi_polygons', 'name', 'on_change', 'on_event', 'outer_height', 'outer_width', 'outline_line_alpha', 'outline_line_cap', 'outline_line_color', 'outline_line_dash', 'outline_line_dash_offset', 'outline_line_join', 'outline_line_width', 'output_backend', 'parameters', 'patch', 'patches', 'plot', 'plus', 'properties', 'properties_with_refs', 'properties_with_values', 'quad', 'quadratic', 'query_properties_with_values', 'ray', 'rect', 'ref', 'references', 'remove_on_change', 'remove_tools', 'renderers', 'reset_policy', 'resizable', 'right', 'row', 'scatter', 'segment', 'select', 'select_one', 'set_from_json', 'set_select', 'sizing_mode', 'square', 'square_cross', 'square_dot', 'square_pin', 'square_x', 'star', 'star_dot', 'step', 'styles', 'stylesheets', 'subplot', 'subscribed_events', 'syncable', 'tags', 'text', 'themed_values', 'title', 'title_location', 'to_serializable', 'toolbar', 'toolbar_inner', 'toolbar_location', 'toolbar_sticky', 'tools', 'triangle', 'triangle_dot', 'triangle_pin', 'trigger', 'unapply_theme', 'update', 'varea', 'varea_stack', 'vbar', 'vbar_stack', 'visible', 'vline_stack', 'wedge', 'width', 'width_policy', 'x', 'x_range', 'x_scale', 'xaxis', 'xgrid', 'y', 'y_range', 'y_scale', 'yaxis', 'ygrid']\n"
     ]
    }
   ],
   "source": [
    "print(dir(p))"
   ]
  },
  {
   "cell_type": "code",
   "execution_count": 365,
   "id": "f9b883f5-0211-4fe6-a795-98c3691cb23e",
   "metadata": {},
   "outputs": [
    {
     "data": {
      "text/html": [
       "<div style=\"display: table;\"><div style=\"display: table-row;\"><div style=\"display: table-cell;\"><b title=\"bokeh.models.renderers.glyph_renderer.GlyphRenderer\">GlyphRenderer</b>(</div><div style=\"display: table-cell;\">id&nbsp;=&nbsp;'p655813', <span id=\"p990443\" style=\"cursor: pointer;\">&hellip;)</span></div></div><div class=\"p990442\" style=\"display: none;\"><div style=\"display: table-cell;\"></div><div style=\"display: table-cell;\">coordinates&nbsp;=&nbsp;None,</div></div><div class=\"p990442\" style=\"display: none;\"><div style=\"display: table-cell;\"></div><div style=\"display: table-cell;\">data_source&nbsp;=&nbsp;ColumnDataSource(id='p655773', ...),</div></div><div class=\"p990442\" style=\"display: none;\"><div style=\"display: table-cell;\"></div><div style=\"display: table-cell;\">glyph&nbsp;=&nbsp;Line(id='p655810', ...),</div></div><div class=\"p990442\" style=\"display: none;\"><div style=\"display: table-cell;\"></div><div style=\"display: table-cell;\">group&nbsp;=&nbsp;None,</div></div><div class=\"p990442\" style=\"display: none;\"><div style=\"display: table-cell;\"></div><div style=\"display: table-cell;\">hover_glyph&nbsp;=&nbsp;None,</div></div><div class=\"p990442\" style=\"display: none;\"><div style=\"display: table-cell;\"></div><div style=\"display: table-cell;\">js_event_callbacks&nbsp;=&nbsp;{},</div></div><div class=\"p990442\" style=\"display: none;\"><div style=\"display: table-cell;\"></div><div style=\"display: table-cell;\">js_property_callbacks&nbsp;=&nbsp;{},</div></div><div class=\"p990442\" style=\"display: none;\"><div style=\"display: table-cell;\"></div><div style=\"display: table-cell;\">level&nbsp;=&nbsp;'glyph',</div></div><div class=\"p990442\" style=\"display: none;\"><div style=\"display: table-cell;\"></div><div style=\"display: table-cell;\">muted&nbsp;=&nbsp;False,</div></div><div class=\"p990442\" style=\"display: none;\"><div style=\"display: table-cell;\"></div><div style=\"display: table-cell;\">muted_glyph&nbsp;=&nbsp;Line(id='p655812', ...),</div></div><div class=\"p990442\" style=\"display: none;\"><div style=\"display: table-cell;\"></div><div style=\"display: table-cell;\">name&nbsp;=&nbsp;None,</div></div><div class=\"p990442\" style=\"display: none;\"><div style=\"display: table-cell;\"></div><div style=\"display: table-cell;\">nonselection_glyph&nbsp;=&nbsp;Line(id='p655811', ...),</div></div><div class=\"p990442\" style=\"display: none;\"><div style=\"display: table-cell;\"></div><div style=\"display: table-cell;\">propagate_hover&nbsp;=&nbsp;False,</div></div><div class=\"p990442\" style=\"display: none;\"><div style=\"display: table-cell;\"></div><div style=\"display: table-cell;\">selection_glyph&nbsp;=&nbsp;'auto',</div></div><div class=\"p990442\" style=\"display: none;\"><div style=\"display: table-cell;\"></div><div style=\"display: table-cell;\">subscribed_events&nbsp;=&nbsp;PropertyValueSet(),</div></div><div class=\"p990442\" style=\"display: none;\"><div style=\"display: table-cell;\"></div><div style=\"display: table-cell;\">syncable&nbsp;=&nbsp;True,</div></div><div class=\"p990442\" style=\"display: none;\"><div style=\"display: table-cell;\"></div><div style=\"display: table-cell;\">tags&nbsp;=&nbsp;[],</div></div><div class=\"p990442\" style=\"display: none;\"><div style=\"display: table-cell;\"></div><div style=\"display: table-cell;\">view&nbsp;=&nbsp;CDSView(id='p655814', ...),</div></div><div class=\"p990442\" style=\"display: none;\"><div style=\"display: table-cell;\"></div><div style=\"display: table-cell;\">visible&nbsp;=&nbsp;True,</div></div><div class=\"p990442\" style=\"display: none;\"><div style=\"display: table-cell;\"></div><div style=\"display: table-cell;\">x_range_name&nbsp;=&nbsp;'default',</div></div><div class=\"p990442\" style=\"display: none;\"><div style=\"display: table-cell;\"></div><div style=\"display: table-cell;\">y_range_name&nbsp;=&nbsp;'default')</div></div></div>\n",
       "<script>\n",
       "(function() {\n",
       "  let expanded = false;\n",
       "  const ellipsis = document.getElementById(\"p990443\");\n",
       "  ellipsis.addEventListener(\"click\", function() {\n",
       "    const rows = document.getElementsByClassName(\"p990442\");\n",
       "    for (let i = 0; i < rows.length; i++) {\n",
       "      const el = rows[i];\n",
       "      el.style.display = expanded ? \"none\" : \"table-row\";\n",
       "    }\n",
       "    ellipsis.innerHTML = expanded ? \"&hellip;)\" : \"&lsaquo;&lsaquo;&lsaquo;\";\n",
       "    expanded = !expanded;\n",
       "  });\n",
       "})();\n",
       "</script>\n"
      ],
      "text/plain": [
       "GlyphRenderer(id='p655813', ...)"
      ]
     },
     "execution_count": 365,
     "metadata": {},
     "output_type": "execute_result"
    }
   ],
   "source": [
    "line2"
   ]
  },
  {
   "cell_type": "code",
   "execution_count": null,
   "id": "adfc2a83-5aa4-472e-8a97-fd714aad1340",
   "metadata": {},
   "outputs": [],
   "source": []
  }
 ],
 "metadata": {
  "kernelspec": {
   "display_name": "Python 3 (ipykernel)",
   "language": "python",
   "name": "python3"
  },
  "language_info": {
   "codemirror_mode": {
    "name": "ipython",
    "version": 3
   },
   "file_extension": ".py",
   "mimetype": "text/x-python",
   "name": "python",
   "nbconvert_exporter": "python",
   "pygments_lexer": "ipython3",
   "version": "3.10.6"
  }
 },
 "nbformat": 4,
 "nbformat_minor": 5
}
