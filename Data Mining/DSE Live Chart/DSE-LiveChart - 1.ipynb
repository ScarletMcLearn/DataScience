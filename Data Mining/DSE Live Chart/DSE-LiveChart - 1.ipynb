{
 "cells": [
  {
   "cell_type": "code",
   "execution_count": 87,
   "id": "cb9f9a2e-3a54-4703-b243-5dabcbddcf1f",
   "metadata": {},
   "outputs": [
    {
     "name": "stderr",
     "output_type": "stream",
     "text": [
      "/tmp/ipykernel_171278/1163964081.py:42: DeprecationWarning: executable_path has been deprecated, please pass in a Service object\n",
      "  d = webdriver.Firefox(executable_path='/media/scarlet/Project/Project Files/PythonEnvs/AutomationEnv/AutoDriver/geckodriver', service_log_path='/media/scarlet/Project/Project Files/geckodriver.log')\n",
      "/tmp/ipykernel_171278/1163964081.py:42: DeprecationWarning: service_log_path has been deprecated, please pass in a Service object\n",
      "  d = webdriver.Firefox(executable_path='/media/scarlet/Project/Project Files/PythonEnvs/AutomationEnv/AutoDriver/geckodriver', service_log_path='/media/scarlet/Project/Project Files/geckodriver.log')\n"
     ]
    }
   ],
   "source": [
    "from colorama import Fore, Style\n",
    "from selenium import webdriver\n",
    "from selenium.webdriver.common.keys import Keys\n",
    "from selenium.webdriver.common.by import By\n",
    "import time, random\n",
    "\n",
    "\n",
    "from tqdm import tqdm\n",
    "\n",
    "import pandas as pd\n",
    "\n",
    "from selenium.webdriver.support.wait import WebDriverWait\n",
    "from selenium.webdriver.support import expected_conditions as EC\n",
    "\n",
    "from bs4 import BeautifulSoup\n",
    "\n",
    "\n",
    "\n",
    "def scroll(d):\n",
    "    SCROLL_PAUSE_TIME = 0.5 \n",
    "    # Get scroll height\n",
    "    last_height = d.execute_script(\"return document.body.scrollHeight\")\n",
    "    while True:\n",
    "        # Scroll down to bottom\n",
    "        d.execute_script(\"window.scrollTo(0, document.body.scrollHeight);\")\n",
    "        # Wait to load page\n",
    "        time.sleep(SCROLL_PAUSE_TIME)\n",
    "        # Calculate new scroll height and compare with last scroll height\n",
    "        new_height = d.execute_script(\"return document.body.scrollHeight\")\n",
    "        if new_height == last_height:\n",
    "            break\n",
    "        last_height = new_height\n",
    "\n",
    "\n",
    "def tqdm_sleep(sec):\n",
    "    for i in tqdm(range(sec)):\n",
    "        time.sleep(1)\n",
    "        \n",
    "        \n",
    "random.seed(time.time())\n",
    "\n",
    "d = webdriver.Firefox(executable_path='/media/scarlet/Project/Project Files/PythonEnvs/AutomationEnv/AutoDriver/geckodriver', service_log_path='/media/scarlet/Project/Project Files/geckodriver.log')\n",
    "\n",
    "\n",
    "\n",
    "d.maximize_window()\n",
    "\n",
    "\n",
    "\n",
    "d.get('https://www.dsebd.org/latest_share_price_scroll_l.php')\n",
    "\n",
    "d.implicitly_wait(7) # 30\n",
    "\n",
    "soup = BeautifulSoup(d.find_elements(By.CLASS_NAME, 'floatThead-wrapper')[0].get_attribute('outerHTML'), 'html.parser')"
   ]
  },
  {
   "cell_type": "code",
   "execution_count": 88,
   "id": "e0e1da36-10de-4508-90ee-d2b15023d31e",
   "metadata": {},
   "outputs": [
    {
     "name": "stdout",
     "output_type": "stream",
     "text": [
      "TRADING CODE\n",
      "LTP*\n",
      "HIGH\n",
      "LOW\n",
      "CLOSEP*\n",
      "YCP*\n",
      "CHANGE\n",
      "TRADE\n",
      "VALUE (mn)\n",
      "VOLUME\n"
     ]
    }
   ],
   "source": [
    "#find_header\n",
    "for i in soup.findAll('th', attrs={\"width\": \"12%\"}):\n",
    "    print(i.text)"
   ]
  },
  {
   "cell_type": "code",
   "execution_count": 200,
   "id": "51e9cd25-12c7-4783-9730-483a7b94f95d",
   "metadata": {},
   "outputs": [
    {
     "name": "stdout",
     "output_type": "stream",
     "text": [
      "0  :  <th width=\"12%\">TRADING CODE</th>\n",
      "1  :  <th width=\"12%\">LTP*</th>\n",
      "2  :  <th width=\"12%\">HIGH</th>\n",
      "3  :  <th width=\"12%\">LOW</th>\n",
      "4  :  <th width=\"12%\">CLOSEP*</th>\n",
      "5  :  <th width=\"12%\">YCP*</th>\n",
      "6  :  <th width=\"12%\">CHANGE</th>\n",
      "7  :  <th width=\"12%\">TRADE</th>\n",
      "8  :  <th width=\"12%\">VALUE (mn)</th>\n",
      "9  :  <th width=\"12%\">VOLUME</th>\n"
     ]
    }
   ],
   "source": [
    "for i in range(len(soup.findAll('th', attrs={\"width\": \"12%\"}))):\n",
    "    print(str(i), ' : ', soup.findAll('th', attrs={\"width\": \"12%\"})[i])\n",
    "    # print(str(i), ' : ', soup.findAll('tr')[394].findAll('td')[i].text)"
   ]
  },
  {
   "cell_type": "code",
   "execution_count": 201,
   "id": "f111490e-7943-466b-8c68-f28906eb9e05",
   "metadata": {},
   "outputs": [
    {
     "name": "stdout",
     "output_type": "stream",
     "text": [
      "0  :  \n",
      "\n",
      "\t\t\t\t\t\t\t\t\t\t\t\t\tZEALBANGLA\t\t\t\t\t\t\t\t\t\t\t\t\n",
      "\n",
      "1  :  121.7\n",
      "2  :  126.2\n",
      "3  :  121.5\n",
      "4  :  122\n",
      "5  :  122.1\n",
      "6  :  -0.4\n",
      "7  :  36\n",
      "8  :  0.492\n",
      "9  :  4,028\n"
     ]
    }
   ],
   "source": [
    "for i in range(1, len(soup.findAll('tr')[394].findAll('td'))):\n",
    "     print(str(i-1), ' : ', soup.findAll('tr')[394].findAll('td')[i].text)"
   ]
  },
  {
   "cell_type": "code",
   "execution_count": 211,
   "id": "9c141eab-4247-4c14-973a-fc9a7caf0c53",
   "metadata": {},
   "outputs": [],
   "source": [
    "import re\n",
    "\n",
    "# string_with_unwanted_chars = \"Hello, @World! 123\"\n",
    "# clean_string = re.sub(r'[^a-zA-Z0-9]', '', string_with_unwanted_chars)\n",
    "# print(clean_string)  # Output: \"Hello World 123\"\n",
    "\n",
    "for i in range(1, len(soup.findAll('tr')[394].findAll('td'))):\n",
    "         if (i%10==0):\n",
    "             # print(i, ' vs 10')\n",
    "             volume = float(soup.findAll('tr')[394].findAll('td')[i].text.replace(',', ''))\n",
    "             # print(str(i), ' : ', soup.findAll('tr')[394].findAll('td'))\n",
    "         elif i%9==0:\n",
    "             # print('Hey')\n",
    "             # print(i, ' vs 9')\n",
    "             value_of_trades = float(soup.findAll('tr')[394].findAll('td')[i].text.replace(',', ''))\n",
    "             # print(str(i), ' : ', soup.findAll('tr')[394].findAll('td')[i].text)\n",
    "         elif (i%8==0):\n",
    "             # print(i, ' vs 8')\n",
    "             number_of_trades = float(soup.findAll('tr')[394].findAll('td')[i].text.replace(',', ''))\n",
    "             # print(str(i), ' : ', soup.findAll('tr')[394].findAll('td')[i].text)\n",
    "         elif (i%7==0):\n",
    "             # print(i, ' vs 7')\n",
    "             percentage_change = float(soup.findAll('tr')[394].findAll('td')[i].text.replace(',', ''))\n",
    "             # print(str(i), ' : ', soup.findAll('tr')[394].findAll('td')[i].text)\n",
    "         elif (i%6==0):\n",
    "             # print(i, ' vs 6')\n",
    "             yesterday_close_price = float(soup.findAll('tr')[394].findAll('td')[i].text.replace(',', ''))\n",
    "             # print(str(i), ' : ', soup.findAll('tr')[394].findAll('td')[i].text)\n",
    "         elif (i%5==0):\n",
    "             # print(i, ' vs 5')\n",
    "             close_price = float(soup.findAll('tr')[394].findAll('td')[i].text.replace(',', ''))\n",
    "             # print(str(i), ' : ', soup.findAll('tr')[394].findAll('td')[i].text)         \n",
    "         \n",
    "         elif (i%4==0):\n",
    "             # print(i, ' vs 4')\n",
    "             last_low = float(soup.findAll('tr')[394].findAll('td')[i].text.replace(',', ''))\n",
    "             # print(i, ' vs 3')\n",
    "             last_high = float(soup.findAll('tr')[394].findAll('td')[i].text.replace(',', ''))\n",
    "         elif (i%3==0):\n",
    "             # print(i, \" vs 2\")\n",
    "             last_trading_price = float(soup.findAll('tr')[394].findAll('td')[i].text.replace(',', ''))\n",
    "         elif (i%2==0):\n",
    "             # print(i, \" vs 2\")\n",
    "             last_trading_price = float(soup.findAll('tr')[394].findAll('td')[i].text.replace(',', ''))\n",
    "         elif (i%1==0):\n",
    "            # print(i, ' vs 1')\n",
    "            # print('tc ', i, ' ', soup.findAll('tr')[394].findAll('td')[i].text)\n",
    "            # print('tc ', i, ' ', re.sub(r'[^a-zA-Z0-9]', '', soup.findAll('tr')[394].findAll('td')[i].text))\n",
    "            trading_code = re.sub(r'[^a-zA-Z0-9]', '', soup.findAll('tr')[394].findAll('td')[i].text)\n",
    "\n",
    "\n",
    "\n",
    "\n",
    "# >TRADING CODE</th>\n",
    "# 1  :  <th width=\"12%\">LTP*</th>\n",
    "# 2  :  <th width=\"12%\">HIGH</th>\n",
    "# 3  :  <th width=\"12%\">LOW</th>\n",
    "# 4  :  <th width=\"12%\">CLOSEP*</th>\n",
    "# 5  :  <th width=\"12%\">YCP*</th>\n",
    "# 6  :  <th width=\"12%\">CHANGE</th>\n",
    "# 7  :  <th width=\"12%\">TRADE</th>\n",
    "# 8  :  <th width=\"12%\">VALUE (mn)</th>\n",
    "# 9  :  <th width=\"12%\">VOLUME</th>\n",
    "\n",
    "         \n",
    "         # elif (i%10==0):\n",
    "         #     print('Hello!')\n",
    "             # volume = soup.findAll('tr')[394].findAll('td')[i].text\n",
    "         #     print(str(i), ' : ', soup.findAll('tr')[394].findAll('td')[i].text)\n",
    "         # time.sleep(60)\n",
    "         # print(str(i), ' : ', soup.findAll('tr')[394].findAll('td')[i].text)\n",
    "         # print('Mod: ', str(i), \" : \", (i%9==0))\n",
    "     "
   ]
  },
  {
   "cell_type": "code",
   "execution_count": 212,
   "id": "918794d9-680e-47b7-9acd-1d15c7a23800",
   "metadata": {},
   "outputs": [
    {
     "data": {
      "text/plain": [
       "'ZEALBANGLA'"
      ]
     },
     "execution_count": 212,
     "metadata": {},
     "output_type": "execute_result"
    }
   ],
   "source": [
    "trading_code"
   ]
  },
  {
   "cell_type": "code",
   "execution_count": 213,
   "id": "0e64f534-f591-4b12-b8b7-b236d827e78c",
   "metadata": {},
   "outputs": [],
   "source": [
    "# '4,208'.replace(',', '')"
   ]
  },
  {
   "cell_type": "code",
   "execution_count": 214,
   "id": "f81e86cf-73bf-4dfb-a51b-1a79dfa9e5db",
   "metadata": {},
   "outputs": [],
   "source": [
    "# soup.findAll('tr')[394].findAll('td')[1].text"
   ]
  },
  {
   "cell_type": "code",
   "execution_count": 215,
   "id": "cb5c42bb-08e4-4d75-95b6-ac5e3644b6ba",
   "metadata": {},
   "outputs": [],
   "source": [
    "# 2%1"
   ]
  },
  {
   "cell_type": "code",
   "execution_count": null,
   "id": "27e4431c-58c8-40f7-8343-5e3fcb05e6e3",
   "metadata": {},
   "outputs": [],
   "source": []
  },
  {
   "cell_type": "code",
   "execution_count": 1,
   "id": "dbc68274-1e1a-4cf3-b2ee-7e1992d6bb57",
   "metadata": {},
   "outputs": [],
   "source": [
    "!pip install bokeh"
   ]
  },
  {
   "cell_type": "code",
   "execution_count": 35,
   "id": "2bf64ccc-e0d4-4662-8002-fd0b8edcbf25",
   "metadata": {},
   "outputs": [
    {
     "data": {
      "text/html": [
       "<div>\n",
       "<style scoped>\n",
       "    .dataframe tbody tr th:only-of-type {\n",
       "        vertical-align: middle;\n",
       "    }\n",
       "\n",
       "    .dataframe tbody tr th {\n",
       "        vertical-align: top;\n",
       "    }\n",
       "\n",
       "    .dataframe thead th {\n",
       "        text-align: right;\n",
       "    }\n",
       "</style>\n",
       "<table border=\"1\" class=\"dataframe\">\n",
       "  <thead>\n",
       "    <tr style=\"text-align: right;\">\n",
       "      <th></th>\n",
       "      <th>foo</th>\n",
       "    </tr>\n",
       "  </thead>\n",
       "  <tbody>\n",
       "    <tr>\n",
       "      <th>2015-01-01 01:01:00</th>\n",
       "      <td>1</td>\n",
       "    </tr>\n",
       "    <tr>\n",
       "      <th>2015-01-02 01:01:00</th>\n",
       "      <td>2</td>\n",
       "    </tr>\n",
       "    <tr>\n",
       "      <th>2015-01-03 01:01:00</th>\n",
       "      <td>3</td>\n",
       "    </tr>\n",
       "  </tbody>\n",
       "</table>\n",
       "</div>"
      ],
      "text/plain": [
       "                     foo\n",
       "2015-01-01 01:01:00    1\n",
       "2015-01-02 01:01:00    2\n",
       "2015-01-03 01:01:00    3"
      ]
     },
     "execution_count": 35,
     "metadata": {},
     "output_type": "execute_result"
    }
   ],
   "source": [
    "import pandas as pd\n",
    "from math import pi\n",
    "from datetime import datetime as dt\n",
    "\n",
    "\n",
    "df = pd.DataFrame(data=[1,2,3],\n",
    "                  index=[dt(2015, 1, 1, 1, 1), \n",
    "                         dt(2015, 1, 2, 1, 1), \n",
    "                         dt(2015, 1, 3, 1, 1)],\n",
    "                  columns=['foo'])\n",
    "# df"
   ]
  },
  {
   "cell_type": "code",
   "execution_count": 57,
   "id": "80d22bc0-0505-4848-b018-ba52601839b8",
   "metadata": {},
   "outputs": [
    {
     "data": {
      "text/html": [
       "\n",
       "  <div id=\"c97e6922-9625-4269-af81-e4f2a1487081\" data-root-id=\"p43897\" style=\"display: contents;\"></div>\n"
      ]
     },
     "metadata": {},
     "output_type": "display_data"
    },
    {
     "data": {
      "application/javascript": [
       "(function(root) {\n",
       "  function embed_document(root) {\n",
       "  const docs_json = {\"7518ec22-f0b5-426b-98c8-96cae8d5b27b\":{\"version\":\"3.1.1\",\"title\":\"Bokeh Application\",\"defs\":[],\"roots\":[{\"type\":\"object\",\"name\":\"Figure\",\"id\":\"p43897\",\"attributes\":{\"height\":300,\"max_width\":900,\"sizing_mode\":\"stretch_width\",\"x_range\":{\"type\":\"object\",\"name\":\"DataRange1d\",\"id\":\"p43898\"},\"y_range\":{\"type\":\"object\",\"name\":\"DataRange1d\",\"id\":\"p43899\"},\"x_scale\":{\"type\":\"object\",\"name\":\"LinearScale\",\"id\":\"p43911\"},\"y_scale\":{\"type\":\"object\",\"name\":\"LinearScale\",\"id\":\"p43913\"},\"title\":{\"type\":\"object\",\"name\":\"Title\",\"id\":\"p43900\",\"attributes\":{\"text\":\"Datetime Axis Example\"}},\"renderers\":[{\"type\":\"object\",\"name\":\"GlyphRenderer\",\"id\":\"p43986\",\"attributes\":{\"data_source\":{\"type\":\"object\",\"name\":\"ColumnDataSource\",\"id\":\"p43980\",\"attributes\":{\"selected\":{\"type\":\"object\",\"name\":\"Selection\",\"id\":\"p43982\",\"attributes\":{\"indices\":[],\"line_indices\":[]}},\"selection_policy\":{\"type\":\"object\",\"name\":\"UnionRenderers\",\"id\":\"p43981\"},\"data\":{\"type\":\"map\",\"entries\":[[\"x\",[[23,30],[23,35],[23,40],[23,45],[23,50],[23,55],[0,0],[0,5],[0,10],[0,15],[0,20],[0,25],[0,30],[0,35],[0,40],[0,45],[0,50],[0,55],[1,0],[1,5],[1,10],[1,15],[1,20],[1,25],[1,30],[1,35]]],[\"y\",[35,53,37,79,86,74,70,68,2,34,31,94,45,12,10,40,71,95,29,78,16,76,7,3,88,46]]]}}},\"view\":{\"type\":\"object\",\"name\":\"CDSView\",\"id\":\"p43987\",\"attributes\":{\"filter\":{\"type\":\"object\",\"name\":\"AllIndices\",\"id\":\"p43988\"}}},\"glyph\":{\"type\":\"object\",\"name\":\"Circle\",\"id\":\"p43983\",\"attributes\":{\"x\":{\"type\":\"field\",\"field\":\"x\"},\"y\":{\"type\":\"field\",\"field\":\"y\"},\"size\":{\"type\":\"value\",\"value\":5},\"line_color\":{\"type\":\"value\",\"value\":\"#1f77b4\"},\"fill_color\":{\"type\":\"value\",\"value\":\"#1f77b4\"}}},\"nonselection_glyph\":{\"type\":\"object\",\"name\":\"Circle\",\"id\":\"p43984\",\"attributes\":{\"x\":{\"type\":\"field\",\"field\":\"x\"},\"y\":{\"type\":\"field\",\"field\":\"y\"},\"size\":{\"type\":\"value\",\"value\":5},\"line_color\":{\"type\":\"value\",\"value\":\"#1f77b4\"},\"line_alpha\":{\"type\":\"value\",\"value\":0.1},\"fill_color\":{\"type\":\"value\",\"value\":\"#1f77b4\"},\"fill_alpha\":{\"type\":\"value\",\"value\":0.1},\"hatch_alpha\":{\"type\":\"value\",\"value\":0.1}}},\"muted_glyph\":{\"type\":\"object\",\"name\":\"Circle\",\"id\":\"p43985\",\"attributes\":{\"x\":{\"type\":\"field\",\"field\":\"x\"},\"y\":{\"type\":\"field\",\"field\":\"y\"},\"size\":{\"type\":\"value\",\"value\":5},\"line_color\":{\"type\":\"value\",\"value\":\"#1f77b4\"},\"line_alpha\":{\"type\":\"value\",\"value\":0.2},\"fill_color\":{\"type\":\"value\",\"value\":\"#1f77b4\"},\"fill_alpha\":{\"type\":\"value\",\"value\":0.2},\"hatch_alpha\":{\"type\":\"value\",\"value\":0.2}}}}},{\"type\":\"object\",\"name\":\"GlyphRenderer\",\"id\":\"p43995\",\"attributes\":{\"data_source\":{\"type\":\"object\",\"name\":\"ColumnDataSource\",\"id\":\"p43989\",\"attributes\":{\"selected\":{\"type\":\"object\",\"name\":\"Selection\",\"id\":\"p43991\",\"attributes\":{\"indices\":[],\"line_indices\":[]}},\"selection_policy\":{\"type\":\"object\",\"name\":\"UnionRenderers\",\"id\":\"p43990\"},\"data\":{\"type\":\"map\",\"entries\":[[\"x\",[[23,30],[23,35],[23,40],[23,45],[23,50],[23,55],[0,0],[0,5],[0,10],[0,15],[0,20],[0,25],[0,30],[0,35],[0,40],[0,45],[0,50],[0,55],[1,0],[1,5],[1,10],[1,15],[1,20],[1,25],[1,30],[1,35]]],[\"y\",[35,53,37,79,86,74,70,68,2,34,31,94,45,12,10,40,71,95,29,78,16,76,7,3,88,46]]]}}},\"view\":{\"type\":\"object\",\"name\":\"CDSView\",\"id\":\"p43996\",\"attributes\":{\"filter\":{\"type\":\"object\",\"name\":\"AllIndices\",\"id\":\"p43997\"}}},\"glyph\":{\"type\":\"object\",\"name\":\"Line\",\"id\":\"p43992\",\"attributes\":{\"x\":{\"type\":\"field\",\"field\":\"x\"},\"y\":{\"type\":\"field\",\"field\":\"y\"},\"line_color\":\"blue\",\"line_width\":2}},\"nonselection_glyph\":{\"type\":\"object\",\"name\":\"Line\",\"id\":\"p43993\",\"attributes\":{\"x\":{\"type\":\"field\",\"field\":\"x\"},\"y\":{\"type\":\"field\",\"field\":\"y\"},\"line_color\":\"blue\",\"line_alpha\":0.1,\"line_width\":2}},\"muted_glyph\":{\"type\":\"object\",\"name\":\"Line\",\"id\":\"p43994\",\"attributes\":{\"x\":{\"type\":\"field\",\"field\":\"x\"},\"y\":{\"type\":\"field\",\"field\":\"y\"},\"line_color\":\"blue\",\"line_alpha\":0.2,\"line_width\":2}}}}],\"toolbar\":{\"type\":\"object\",\"name\":\"Toolbar\",\"id\":\"p43903\",\"attributes\":{\"tools\":[{\"type\":\"object\",\"name\":\"PanTool\",\"id\":\"p43965\"},{\"type\":\"object\",\"name\":\"WheelZoomTool\",\"id\":\"p43966\"},{\"type\":\"object\",\"name\":\"BoxZoomTool\",\"id\":\"p43967\",\"attributes\":{\"overlay\":{\"type\":\"object\",\"name\":\"BoxAnnotation\",\"id\":\"p43968\",\"attributes\":{\"syncable\":false,\"level\":\"overlay\",\"visible\":false,\"left_units\":\"canvas\",\"right_units\":\"canvas\",\"bottom_units\":\"canvas\",\"top_units\":\"canvas\",\"line_color\":\"black\",\"line_alpha\":1.0,\"line_width\":2,\"line_dash\":[4,4],\"fill_color\":\"lightgrey\",\"fill_alpha\":0.5}}}},{\"type\":\"object\",\"name\":\"SaveTool\",\"id\":\"p43969\"},{\"type\":\"object\",\"name\":\"ResetTool\",\"id\":\"p43970\"},{\"type\":\"object\",\"name\":\"HelpTool\",\"id\":\"p43971\"}]}},\"left\":[{\"type\":\"object\",\"name\":\"LinearAxis\",\"id\":\"p43958\",\"attributes\":{\"ticker\":{\"type\":\"object\",\"name\":\"BasicTicker\",\"id\":\"p43961\",\"attributes\":{\"mantissas\":[1,2,5]}},\"formatter\":{\"type\":\"object\",\"name\":\"NumeralTickFormatter\",\"id\":\"p43998\",\"attributes\":{\"format\":\"$0.00\"}},\"major_label_policy\":{\"type\":\"object\",\"name\":\"AllLabels\",\"id\":\"p43959\"}}}],\"below\":[{\"type\":\"object\",\"name\":\"DatetimeAxis\",\"id\":\"p43915\",\"attributes\":{\"ticker\":{\"type\":\"object\",\"name\":\"DatetimeTicker\",\"id\":\"p43918\",\"attributes\":{\"num_minor_ticks\":5,\"tickers\":[{\"type\":\"object\",\"name\":\"AdaptiveTicker\",\"id\":\"p43919\",\"attributes\":{\"num_minor_ticks\":0,\"mantissas\":[1,2,5],\"max_interval\":500.0}},{\"type\":\"object\",\"name\":\"AdaptiveTicker\",\"id\":\"p43920\",\"attributes\":{\"num_minor_ticks\":0,\"base\":60,\"mantissas\":[1,2,5,10,15,20,30],\"min_interval\":1000.0,\"max_interval\":1800000.0}},{\"type\":\"object\",\"name\":\"AdaptiveTicker\",\"id\":\"p43921\",\"attributes\":{\"num_minor_ticks\":0,\"base\":24,\"mantissas\":[1,2,4,6,8,12],\"min_interval\":3600000.0,\"max_interval\":43200000.0}},{\"type\":\"object\",\"name\":\"DaysTicker\",\"id\":\"p43922\",\"attributes\":{\"days\":[1,2,3,4,5,6,7,8,9,10,11,12,13,14,15,16,17,18,19,20,21,22,23,24,25,26,27,28,29,30,31]}},{\"type\":\"object\",\"name\":\"DaysTicker\",\"id\":\"p43923\",\"attributes\":{\"days\":[1,4,7,10,13,16,19,22,25,28]}},{\"type\":\"object\",\"name\":\"DaysTicker\",\"id\":\"p43924\",\"attributes\":{\"days\":[1,8,15,22]}},{\"type\":\"object\",\"name\":\"DaysTicker\",\"id\":\"p43925\",\"attributes\":{\"days\":[1,15]}},{\"type\":\"object\",\"name\":\"MonthsTicker\",\"id\":\"p43926\",\"attributes\":{\"months\":[0,1,2,3,4,5,6,7,8,9,10,11]}},{\"type\":\"object\",\"name\":\"MonthsTicker\",\"id\":\"p43927\",\"attributes\":{\"months\":[0,2,4,6,8,10]}},{\"type\":\"object\",\"name\":\"MonthsTicker\",\"id\":\"p43928\",\"attributes\":{\"months\":[0,4,8]}},{\"type\":\"object\",\"name\":\"MonthsTicker\",\"id\":\"p43929\",\"attributes\":{\"months\":[0,6]}},{\"type\":\"object\",\"name\":\"YearsTicker\",\"id\":\"p43930\"}]}},\"formatter\":{\"type\":\"object\",\"name\":\"DatetimeTickFormatter\",\"id\":\"p44000\"},\"major_label_policy\":{\"type\":\"object\",\"name\":\"AllLabels\",\"id\":\"p43916\"}}}],\"center\":[{\"type\":\"object\",\"name\":\"Grid\",\"id\":\"p43957\",\"attributes\":{\"axis\":{\"id\":\"p43915\"}}},{\"type\":\"object\",\"name\":\"Grid\",\"id\":\"p43964\",\"attributes\":{\"dimension\":1,\"axis\":{\"id\":\"p43958\"}}}]}}],\"callbacks\":{\"type\":\"map\"}}};\n",
       "  const render_items = [{\"docid\":\"7518ec22-f0b5-426b-98c8-96cae8d5b27b\",\"roots\":{\"p43897\":\"c97e6922-9625-4269-af81-e4f2a1487081\"},\"root_ids\":[\"p43897\"]}];\n",
       "  root.Bokeh.embed.embed_items_notebook(docs_json, render_items);\n",
       "  }\n",
       "  if (root.Bokeh !== undefined) {\n",
       "    embed_document(root);\n",
       "  } else {\n",
       "    let attempts = 0;\n",
       "    const timer = setInterval(function(root) {\n",
       "      if (root.Bokeh !== undefined) {\n",
       "        clearInterval(timer);\n",
       "        embed_document(root);\n",
       "      } else {\n",
       "        attempts++;\n",
       "        if (attempts > 100) {\n",
       "          clearInterval(timer);\n",
       "          console.log(\"Bokeh: ERROR: Unable to run BokehJS code because BokehJS library is missing\");\n",
       "        }\n",
       "      }\n",
       "    }, 10, root)\n",
       "  }\n",
       "})(window);"
      ],
      "application/vnd.bokehjs_exec.v0+json": ""
     },
     "metadata": {
      "application/vnd.bokehjs_exec.v0+json": {
       "id": "p43897"
      }
     },
     "output_type": "display_data"
    }
   ],
   "source": [
    "import random\n",
    "from datetime import datetime, timedelta\n",
    "\n",
    "from bokeh.models import DatetimeTickFormatter, NumeralTickFormatter\n",
    "from bokeh.plotting import figure, show\n",
    "\n",
    "# generate list of dates 25 days\n",
    "dates = [(datetime.now() + timedelta(day * 7)) for day in range(0, 26)]\n",
    "# dates =  [(datetime.now() + timedelta(days=day, hours=hour, minutes=minute)) for day in range(0, 26) for hour in range(24) for minute in range(60)]\n",
    "# generate 25 random data points\n",
    "current_time = datetime.now()\n",
    "hour = current_time.hour\n",
    "minute = current_time.minute\n",
    "\n",
    "hour_minutes = [(hour, minute)]\n",
    "\n",
    "for _ in range(25):\n",
    "    current_time += timedelta(minutes=5)\n",
    "    hour = current_time.hour\n",
    "    minute = current_time.minute\n",
    "    hour_minutes.append((hour, minute))\n",
    "dates = hour_minutes\n",
    "\n",
    "y = random.sample(range(0,100), 26)\n",
    "\n",
    "# create figure\n",
    "p = figure(\n",
    "    title=\"Datetime Axis Example\",\n",
    "    x_axis_type=\"datetime\",\n",
    "    sizing_mode=\"stretch_width\",\n",
    "    max_width=900,\n",
    "    height = 300,\n",
    ")\n",
    "\n",
    "# Renderers\n",
    "p.circle(dates, y, size=5)\n",
    "p.line(dates, y, color=\"blue\", line_width=2)\n",
    "\n",
    "# formating\n",
    "p.yaxis[0].formatter = NumeralTickFormatter(format=\"$0.00\")\n",
    "p.xaxis[0].formatter = DatetimeTickFormatter(hourmin=\"%H:%M\")\n",
    "\n",
    "#show\n",
    "show(p)"
   ]
  },
  {
   "cell_type": "code",
   "execution_count": 148,
   "id": "713116ec-d8f2-4a7b-b8a9-f51a4c9fb862",
   "metadata": {},
   "outputs": [
    {
     "data": {
      "text/html": [
       "\n",
       "  <div id=\"ce1edc7f-e5dd-44eb-b051-f503fc60b1ad\" data-root-id=\"p197625\" style=\"display: contents;\"></div>\n"
      ]
     },
     "metadata": {},
     "output_type": "display_data"
    },
    {
     "data": {
      "application/javascript": [
       "(function(root) {\n",
       "  function embed_document(root) {\n",
       "  const docs_json = {\"dc7563f7-e420-40c7-bf1a-49da88bc2e19\":{\"version\":\"3.1.1\",\"title\":\"Bokeh Application\",\"defs\":[],\"roots\":[{\"type\":\"object\",\"name\":\"Figure\",\"id\":\"p197625\",\"attributes\":{\"width\":900,\"height\":900,\"max_width\":900,\"max_height\":300,\"sizing_mode\":\"scale_both\",\"x_range\":{\"type\":\"object\",\"name\":\"DataRange1d\",\"id\":\"p197626\"},\"y_range\":{\"type\":\"object\",\"name\":\"DataRange1d\",\"id\":\"p197627\"},\"x_scale\":{\"type\":\"object\",\"name\":\"LinearScale\",\"id\":\"p197639\"},\"y_scale\":{\"type\":\"object\",\"name\":\"LinearScale\",\"id\":\"p197641\"},\"title\":{\"type\":\"object\",\"name\":\"Title\",\"id\":\"p197628\",\"attributes\":{\"text\":\"Dhaka Stock Exchange Live Change\",\"text_color\":\"#E0E0E0\",\"text_font\":\"Helvetica\",\"text_font_size\":\"1.15em\",\"align\":\"center\"}},\"outline_line_color\":\"#E0E0E0\",\"outline_line_alpha\":0.25,\"renderers\":[{\"type\":\"object\",\"name\":\"GlyphRenderer\",\"id\":\"p197714\",\"attributes\":{\"data_source\":{\"type\":\"object\",\"name\":\"ColumnDataSource\",\"id\":\"p197708\",\"attributes\":{\"selected\":{\"type\":\"object\",\"name\":\"Selection\",\"id\":\"p197710\",\"attributes\":{\"indices\":[],\"line_indices\":[]}},\"selection_policy\":{\"type\":\"object\",\"name\":\"UnionRenderers\",\"id\":\"p197709\"},\"data\":{\"type\":\"map\",\"entries\":[[\"x\",[1684458000000.0,1684461900000.0,1684465800000.0,1684469700000.0,1684473600000.0,1684488300000.0]],[\"y\",[0,1,2,3,4,5]]]}}},\"view\":{\"type\":\"object\",\"name\":\"CDSView\",\"id\":\"p197715\",\"attributes\":{\"filter\":{\"type\":\"object\",\"name\":\"AllIndices\",\"id\":\"p197716\"}}},\"glyph\":{\"type\":\"object\",\"name\":\"Circle\",\"id\":\"p197711\",\"attributes\":{\"x\":{\"type\":\"field\",\"field\":\"x\"},\"y\":{\"type\":\"field\",\"field\":\"y\"},\"line_color\":{\"type\":\"value\",\"value\":\"pink\"},\"fill_color\":{\"type\":\"value\",\"value\":\"#1f77b4\"}}},\"nonselection_glyph\":{\"type\":\"object\",\"name\":\"Circle\",\"id\":\"p197712\",\"attributes\":{\"x\":{\"type\":\"field\",\"field\":\"x\"},\"y\":{\"type\":\"field\",\"field\":\"y\"},\"line_color\":{\"type\":\"value\",\"value\":\"pink\"},\"line_alpha\":{\"type\":\"value\",\"value\":0.1},\"fill_color\":{\"type\":\"value\",\"value\":\"#1f77b4\"},\"fill_alpha\":{\"type\":\"value\",\"value\":0.1},\"hatch_alpha\":{\"type\":\"value\",\"value\":0.1}}},\"muted_glyph\":{\"type\":\"object\",\"name\":\"Circle\",\"id\":\"p197713\",\"attributes\":{\"x\":{\"type\":\"field\",\"field\":\"x\"},\"y\":{\"type\":\"field\",\"field\":\"y\"},\"line_color\":{\"type\":\"value\",\"value\":\"pink\"},\"line_alpha\":{\"type\":\"value\",\"value\":0.2},\"fill_color\":{\"type\":\"value\",\"value\":\"#1f77b4\"},\"fill_alpha\":{\"type\":\"value\",\"value\":0.2},\"hatch_alpha\":{\"type\":\"value\",\"value\":0.2}}}}},{\"type\":\"object\",\"name\":\"GlyphRenderer\",\"id\":\"p197726\",\"attributes\":{\"data_source\":{\"type\":\"object\",\"name\":\"ColumnDataSource\",\"id\":\"p197720\",\"attributes\":{\"selected\":{\"type\":\"object\",\"name\":\"Selection\",\"id\":\"p197722\",\"attributes\":{\"indices\":[],\"line_indices\":[]}},\"selection_policy\":{\"type\":\"object\",\"name\":\"UnionRenderers\",\"id\":\"p197721\"},\"data\":{\"type\":\"map\",\"entries\":[[\"x\",[1684458000000.0,1684461900000.0,1684465800000.0,1684469700000.0,1684473600000.0,1684488300000.0]],[\"y\",[0,1,2,3,4,5]]]}}},\"view\":{\"type\":\"object\",\"name\":\"CDSView\",\"id\":\"p197727\",\"attributes\":{\"filter\":{\"type\":\"object\",\"name\":\"AllIndices\",\"id\":\"p197728\"}}},\"glyph\":{\"type\":\"object\",\"name\":\"Line\",\"id\":\"p197723\",\"attributes\":{\"x\":{\"type\":\"field\",\"field\":\"x\"},\"y\":{\"type\":\"field\",\"field\":\"y\"},\"line_color\":\"yellow\"}},\"nonselection_glyph\":{\"type\":\"object\",\"name\":\"Line\",\"id\":\"p197724\",\"attributes\":{\"x\":{\"type\":\"field\",\"field\":\"x\"},\"y\":{\"type\":\"field\",\"field\":\"y\"},\"line_color\":\"yellow\",\"line_alpha\":0.1}},\"muted_glyph\":{\"type\":\"object\",\"name\":\"Line\",\"id\":\"p197725\",\"attributes\":{\"x\":{\"type\":\"field\",\"field\":\"x\"},\"y\":{\"type\":\"field\",\"field\":\"y\"},\"line_color\":\"yellow\",\"line_alpha\":0.2}}}},{\"type\":\"object\",\"name\":\"GlyphRenderer\",\"id\":\"p197735\",\"attributes\":{\"data_source\":{\"type\":\"object\",\"name\":\"ColumnDataSource\",\"id\":\"p197729\",\"attributes\":{\"selected\":{\"type\":\"object\",\"name\":\"Selection\",\"id\":\"p197731\",\"attributes\":{\"indices\":[],\"line_indices\":[]}},\"selection_policy\":{\"type\":\"object\",\"name\":\"UnionRenderers\",\"id\":\"p197730\"},\"data\":{\"type\":\"map\",\"entries\":[[\"x\",[1684458000000.0,1684461900000.0,1684465800000.0,1684469700000.0,1684473600000.0,1684488300000.0]],[\"y\",[38,0,24,50,89,93]]]}}},\"view\":{\"type\":\"object\",\"name\":\"CDSView\",\"id\":\"p197736\",\"attributes\":{\"filter\":{\"type\":\"object\",\"name\":\"AllIndices\",\"id\":\"p197737\"}}},\"glyph\":{\"type\":\"object\",\"name\":\"Scatter\",\"id\":\"p197732\",\"attributes\":{\"x\":{\"type\":\"field\",\"field\":\"x\"},\"y\":{\"type\":\"field\",\"field\":\"y\"},\"line_color\":{\"type\":\"value\",\"value\":\"green\"},\"fill_color\":{\"type\":\"value\",\"value\":\"#1f77b4\"},\"marker\":{\"type\":\"value\",\"value\":\"square\"}}},\"nonselection_glyph\":{\"type\":\"object\",\"name\":\"Scatter\",\"id\":\"p197733\",\"attributes\":{\"x\":{\"type\":\"field\",\"field\":\"x\"},\"y\":{\"type\":\"field\",\"field\":\"y\"},\"line_color\":{\"type\":\"value\",\"value\":\"green\"},\"line_alpha\":{\"type\":\"value\",\"value\":0.1},\"fill_color\":{\"type\":\"value\",\"value\":\"#1f77b4\"},\"fill_alpha\":{\"type\":\"value\",\"value\":0.1},\"hatch_alpha\":{\"type\":\"value\",\"value\":0.1},\"marker\":{\"type\":\"value\",\"value\":\"square\"}}},\"muted_glyph\":{\"type\":\"object\",\"name\":\"Scatter\",\"id\":\"p197734\",\"attributes\":{\"x\":{\"type\":\"field\",\"field\":\"x\"},\"y\":{\"type\":\"field\",\"field\":\"y\"},\"line_color\":{\"type\":\"value\",\"value\":\"green\"},\"line_alpha\":{\"type\":\"value\",\"value\":0.2},\"fill_color\":{\"type\":\"value\",\"value\":\"#1f77b4\"},\"fill_alpha\":{\"type\":\"value\",\"value\":0.2},\"hatch_alpha\":{\"type\":\"value\",\"value\":0.2},\"marker\":{\"type\":\"value\",\"value\":\"square\"}}}}},{\"type\":\"object\",\"name\":\"GlyphRenderer\",\"id\":\"p197745\",\"attributes\":{\"data_source\":{\"type\":\"object\",\"name\":\"ColumnDataSource\",\"id\":\"p197739\",\"attributes\":{\"selected\":{\"type\":\"object\",\"name\":\"Selection\",\"id\":\"p197741\",\"attributes\":{\"indices\":[],\"line_indices\":[]}},\"selection_policy\":{\"type\":\"object\",\"name\":\"UnionRenderers\",\"id\":\"p197740\"},\"data\":{\"type\":\"map\",\"entries\":[[\"x\",[1684458000000.0,1684461900000.0,1684465800000.0,1684469700000.0,1684473600000.0,1684488300000.0]],[\"y\",[38,0,24,50,89,93]]]}}},\"view\":{\"type\":\"object\",\"name\":\"CDSView\",\"id\":\"p197746\",\"attributes\":{\"filter\":{\"type\":\"object\",\"name\":\"AllIndices\",\"id\":\"p197747\"}}},\"glyph\":{\"type\":\"object\",\"name\":\"Line\",\"id\":\"p197742\",\"attributes\":{\"x\":{\"type\":\"field\",\"field\":\"x\"},\"y\":{\"type\":\"field\",\"field\":\"y\"},\"line_color\":\"purple\"}},\"nonselection_glyph\":{\"type\":\"object\",\"name\":\"Line\",\"id\":\"p197743\",\"attributes\":{\"x\":{\"type\":\"field\",\"field\":\"x\"},\"y\":{\"type\":\"field\",\"field\":\"y\"},\"line_color\":\"purple\",\"line_alpha\":0.1}},\"muted_glyph\":{\"type\":\"object\",\"name\":\"Line\",\"id\":\"p197744\",\"attributes\":{\"x\":{\"type\":\"field\",\"field\":\"x\"},\"y\":{\"type\":\"field\",\"field\":\"y\"},\"line_color\":\"purple\",\"line_alpha\":0.2}}}}],\"toolbar\":{\"type\":\"object\",\"name\":\"Toolbar\",\"id\":\"p197631\",\"attributes\":{\"tools\":[{\"type\":\"object\",\"name\":\"PanTool\",\"id\":\"p197693\"},{\"type\":\"object\",\"name\":\"WheelZoomTool\",\"id\":\"p197694\"},{\"type\":\"object\",\"name\":\"BoxZoomTool\",\"id\":\"p197695\",\"attributes\":{\"overlay\":{\"type\":\"object\",\"name\":\"BoxAnnotation\",\"id\":\"p197696\",\"attributes\":{\"syncable\":false,\"level\":\"overlay\",\"visible\":false,\"left_units\":\"canvas\",\"right_units\":\"canvas\",\"bottom_units\":\"canvas\",\"top_units\":\"canvas\",\"line_color\":\"black\",\"line_alpha\":1.0,\"line_width\":2,\"line_dash\":[4,4],\"fill_color\":\"lightgrey\",\"fill_alpha\":0.5}}}},{\"type\":\"object\",\"name\":\"SaveTool\",\"id\":\"p197697\"},{\"type\":\"object\",\"name\":\"ResetTool\",\"id\":\"p197698\"},{\"type\":\"object\",\"name\":\"HelpTool\",\"id\":\"p197699\"}]}},\"left\":[{\"type\":\"object\",\"name\":\"LinearAxis\",\"id\":\"p197686\",\"attributes\":{\"ticker\":{\"type\":\"object\",\"name\":\"BasicTicker\",\"id\":\"p197689\",\"attributes\":{\"mantissas\":[1,2,5]}},\"formatter\":{\"type\":\"object\",\"name\":\"BasicTickFormatter\",\"id\":\"p197688\"},\"axis_label\":\"Percentage Change (%)\",\"axis_label_standoff\":10,\"axis_label_text_color\":\"#E0E0E0\",\"axis_label_text_font\":\"Helvetica\",\"axis_label_text_font_size\":\"1.25em\",\"axis_label_text_font_style\":\"normal\",\"major_label_policy\":{\"type\":\"object\",\"name\":\"AllLabels\",\"id\":\"p197687\"},\"major_label_text_color\":\"#E0E0E0\",\"major_label_text_font\":\"Helvetica\",\"major_label_text_font_size\":\"1.025em\",\"axis_line_color\":\"#E0E0E0\",\"axis_line_alpha\":0,\"major_tick_line_color\":\"#E0E0E0\",\"major_tick_line_alpha\":0,\"minor_tick_line_color\":\"#E0E0E0\",\"minor_tick_line_alpha\":0}}],\"below\":[{\"type\":\"object\",\"name\":\"DatetimeAxis\",\"id\":\"p197643\",\"attributes\":{\"ticker\":{\"type\":\"object\",\"name\":\"DatetimeTicker\",\"id\":\"p197646\",\"attributes\":{\"num_minor_ticks\":5,\"tickers\":[{\"type\":\"object\",\"name\":\"AdaptiveTicker\",\"id\":\"p197647\",\"attributes\":{\"num_minor_ticks\":0,\"mantissas\":[1,2,5],\"max_interval\":500.0}},{\"type\":\"object\",\"name\":\"AdaptiveTicker\",\"id\":\"p197648\",\"attributes\":{\"num_minor_ticks\":0,\"base\":60,\"mantissas\":[1,2,5,10,15,20,30],\"min_interval\":1000.0,\"max_interval\":1800000.0}},{\"type\":\"object\",\"name\":\"AdaptiveTicker\",\"id\":\"p197649\",\"attributes\":{\"num_minor_ticks\":0,\"base\":24,\"mantissas\":[1,2,4,6,8,12],\"min_interval\":3600000.0,\"max_interval\":43200000.0}},{\"type\":\"object\",\"name\":\"DaysTicker\",\"id\":\"p197650\",\"attributes\":{\"days\":[1,2,3,4,5,6,7,8,9,10,11,12,13,14,15,16,17,18,19,20,21,22,23,24,25,26,27,28,29,30,31]}},{\"type\":\"object\",\"name\":\"DaysTicker\",\"id\":\"p197651\",\"attributes\":{\"days\":[1,4,7,10,13,16,19,22,25,28]}},{\"type\":\"object\",\"name\":\"DaysTicker\",\"id\":\"p197652\",\"attributes\":{\"days\":[1,8,15,22]}},{\"type\":\"object\",\"name\":\"DaysTicker\",\"id\":\"p197653\",\"attributes\":{\"days\":[1,15]}},{\"type\":\"object\",\"name\":\"MonthsTicker\",\"id\":\"p197654\",\"attributes\":{\"months\":[0,1,2,3,4,5,6,7,8,9,10,11]}},{\"type\":\"object\",\"name\":\"MonthsTicker\",\"id\":\"p197655\",\"attributes\":{\"months\":[0,2,4,6,8,10]}},{\"type\":\"object\",\"name\":\"MonthsTicker\",\"id\":\"p197656\",\"attributes\":{\"months\":[0,4,8]}},{\"type\":\"object\",\"name\":\"MonthsTicker\",\"id\":\"p197657\",\"attributes\":{\"months\":[0,6]}},{\"type\":\"object\",\"name\":\"YearsTicker\",\"id\":\"p197658\"}]}},\"formatter\":{\"type\":\"object\",\"name\":\"DatetimeTickFormatter\",\"id\":\"p197748\",\"attributes\":{\"hours\":\"%H:%M\"}},\"axis_label\":\"Date-Time\",\"axis_label_standoff\":10,\"axis_label_text_color\":\"#E0E0E0\",\"axis_label_text_font\":\"Helvetica\",\"axis_label_text_font_size\":\"1.25em\",\"axis_label_text_font_style\":\"normal\",\"major_label_policy\":{\"type\":\"object\",\"name\":\"AllLabels\",\"id\":\"p197644\"},\"major_label_text_color\":\"#E0E0E0\",\"major_label_text_font\":\"Helvetica\",\"major_label_text_font_size\":\"1.025em\",\"axis_line_color\":\"#E0E0E0\",\"axis_line_alpha\":0,\"major_tick_line_color\":\"#E0E0E0\",\"major_tick_line_alpha\":0,\"minor_tick_line_color\":\"#E0E0E0\",\"minor_tick_line_alpha\":0}}],\"center\":[{\"type\":\"object\",\"name\":\"Grid\",\"id\":\"p197685\",\"attributes\":{\"axis\":{\"id\":\"p197643\"},\"grid_line_color\":\"#E0E0E0\",\"grid_line_alpha\":0.25}},{\"type\":\"object\",\"name\":\"Grid\",\"id\":\"p197692\",\"attributes\":{\"dimension\":1,\"axis\":{\"id\":\"p197686\"},\"grid_line_color\":\"#E0E0E0\",\"grid_line_alpha\":0.25}},{\"type\":\"object\",\"name\":\"Legend\",\"id\":\"p197717\",\"attributes\":{\"location\":\"top_left\",\"title\":\"Lines\",\"border_line_alpha\":0,\"background_fill_color\":\"#20262B\",\"background_fill_alpha\":0.25,\"label_text_color\":\"#E0E0E0\",\"label_text_font\":\"Helvetica\",\"label_text_font_size\":\"1.025em\",\"label_standoff\":8,\"glyph_width\":15,\"spacing\":8,\"items\":[{\"type\":\"object\",\"name\":\"LegendItem\",\"id\":\"p197718\",\"attributes\":{\"label\":{\"type\":\"value\",\"value\":\"Line 1\"},\"renderers\":[{\"id\":\"p197714\"},{\"id\":\"p197726\"}]}},{\"type\":\"object\",\"name\":\"LegendItem\",\"id\":\"p197738\",\"attributes\":{\"label\":{\"type\":\"value\",\"value\":\"Line 2\"},\"renderers\":[{\"id\":\"p197735\"},{\"id\":\"p197745\"}]}}]}}],\"background_fill_color\":\"#20262B\",\"border_fill_color\":\"#15191C\"}}],\"callbacks\":{\"type\":\"map\"}}};\n",
       "  const render_items = [{\"docid\":\"dc7563f7-e420-40c7-bf1a-49da88bc2e19\",\"roots\":{\"p197625\":\"ce1edc7f-e5dd-44eb-b051-f503fc60b1ad\"},\"root_ids\":[\"p197625\"]}];\n",
       "  root.Bokeh.embed.embed_items_notebook(docs_json, render_items);\n",
       "  }\n",
       "  if (root.Bokeh !== undefined) {\n",
       "    embed_document(root);\n",
       "  } else {\n",
       "    let attempts = 0;\n",
       "    const timer = setInterval(function(root) {\n",
       "      if (root.Bokeh !== undefined) {\n",
       "        clearInterval(timer);\n",
       "        embed_document(root);\n",
       "      } else {\n",
       "        attempts++;\n",
       "        if (attempts > 100) {\n",
       "          clearInterval(timer);\n",
       "          console.log(\"Bokeh: ERROR: Unable to run BokehJS code because BokehJS library is missing\");\n",
       "        }\n",
       "      }\n",
       "    }, 10, root)\n",
       "  }\n",
       "})(window);"
      ],
      "application/vnd.bokehjs_exec.v0+json": ""
     },
     "metadata": {
      "application/vnd.bokehjs_exec.v0+json": {
       "id": "p197625"
      }
     },
     "output_type": "display_data"
    }
   ],
   "source": [
    "from bokeh.plotting import figure, show, curdoc\n",
    "from bokeh.models import DatetimeTickFormatter\n",
    "from datetime import datetime\n",
    "import random\n",
    "from bokeh.models import ContinuousColorMapper\n",
    "from bokeh.palettes import Viridis256\n",
    "from bokeh.transform import linear_cmap\n",
    "from bokeh.palettes import Turbo256\n",
    "from bokeh.palettes import Category10, Category20, Category20b, Category20c\n",
    "\n",
    "\n",
    "\n",
    "\n",
    "# Dummy data representing different hour-minute values\n",
    "hour_minutes = [(1, 0), (2, 5), (3, 10), (4, 15), (5, 20), (9, 25)]\n",
    "\n",
    "# Create a list of datetime objects from the hour-minute values\n",
    "x_values = [datetime(datetime.now().year, datetime.now().month, datetime.now().day, hour, minute) for hour, minute in hour_minutes]\n",
    "y_1_values = [i for i in range(len(hour_minutes))]\n",
    "y_2_values = [random.randint(0, 100) for _ in range(len(hour_minutes))]\n",
    "\n",
    "\n",
    "# Create a figure\n",
    "# p = figure(x_axis_type=\"datetime\")\n",
    "\n",
    "# create figure\n",
    "p = figure(\n",
    "    title=\"Dhaka Stock Exchange Live Change\",\n",
    "    x_axis_type=\"datetime\",\n",
    "    sizing_mode=\"scale_both\",\n",
    "\n",
    "    # Comment the width heights later\n",
    "    max_width=900,\n",
    "    max_height = 300,\n",
    "    width=900,\n",
    "    height=900\n",
    "    \n",
    ")\n",
    "\n",
    "p.title.align = \"center\"\n",
    "# Set x-axis and y-axis labels\n",
    "p.xaxis.axis_label = \"Date-Time\"\n",
    "p.yaxis.axis_label = \"Percentage Change (%)\"\n",
    "\n",
    "\n",
    "# color_mapper = LinearColorMapper(palette=Viridis256, low=min(y_2_values), high=max(y_2_values))\n",
    "\n",
    "# # Plot the data\n",
    "# p.line(x_values, y_1_values, legend_label=\"Line 1\", # line_color=\n",
    "#        # 'red'\n",
    "#       line_color={'field': 'y_1_values', 'transform': color_mapper}\n",
    "#       )\n",
    "\n",
    "p.circle(x_values, y_1_values, legend_label=\"Line 1\", line_color=\n",
    "         'pink'\n",
    "      # line_color={'field': 'y_1_values', 'transform': color_mapper}\n",
    "        )\n",
    "\n",
    "# Create a color mapping based on y_1_values\n",
    "# color_mapper = linear_cmap(field_name='y_1_values', palette=Viridis256, low=min(y_1_values), high=max(y_1_values))\n",
    "\n",
    "# # Add the line with varying colors based on values\n",
    "# p.line(x_values, y_1_values, legend_label=\"Line 1\", line_color=color_mapper)\n",
    "\n",
    "# Define the color mapping based on y_1_values\n",
    "colors = Turbo256\n",
    "color_mapper = LinearColorMapper(palette=Viridis256, low=min(y_1_values), high=max(y_1_values))\n",
    "\n",
    "\n",
    "# Add the line with varying colors based on values\n",
    "p.line(x_values, y_1_values, legend_label=\"Line 1\", \n",
    "       line_color=\n",
    "       'yellow'\n",
    "       # color= Category10[10]\n",
    "      #  {'field': 'y_1_values', 'transform': color_mapper}\n",
    "      )\n",
    "\n",
    "\n",
    "p.square(x_values, y_2_values, legend_label=\"Line 2\", line_color='green')\n",
    "\n",
    "p.line(x_values, y_2_values, legend_label=\"Line 2\",\n",
    "      line_color=\n",
    "       # {'field': 'y_2_values', 'transform': color_mapper}\n",
    "       'purple'\n",
    "\n",
    "       # linear_cmap('y_2_values', palette=color_mapper.palette, low=min(y_2_values), high=max(y_2_values))\n",
    "      )\n",
    "\n",
    "\n",
    "\n",
    "# Customize the x-axis tick labels\n",
    "p.xaxis.formatter = DatetimeTickFormatter(hours=\"%H:%M\")\n",
    "\n",
    "curdoc().theme = 'dark_minimal'\n",
    "\n",
    "p.legend.title = 'Lines'\n",
    "p.legend.location = \"top_left\"  # Options: top_left, top_right, bottom_left, bottom_right, center, center_left, center_right\n",
    "\n",
    "\n",
    "\n",
    "# Show the plot\n",
    "show(p)\n"
   ]
  },
  {
   "cell_type": "code",
   "execution_count": 121,
   "id": "4ff94a20-a2e3-4f0d-b7bc-8ddffcbf2fd9",
   "metadata": {},
   "outputs": [
    {
     "data": {
      "text/plain": [
       "[31, 68, 1, 53, 18, 11]"
      ]
     },
     "execution_count": 121,
     "metadata": {},
     "output_type": "execute_result"
    }
   ],
   "source": [
    "y_2_values"
   ]
  },
  {
   "cell_type": "code",
   "execution_count": null,
   "id": "b99c42cc-c2a9-4221-a343-85ad251f9c45",
   "metadata": {},
   "outputs": [],
   "source": []
  },
  {
   "cell_type": "code",
   "execution_count": null,
   "id": "728c32db-9189-4c68-821e-d9a6824387ee",
   "metadata": {},
   "outputs": [],
   "source": []
  },
  {
   "cell_type": "code",
   "execution_count": null,
   "id": "9e6b9cd3-4469-42d5-a867-fc65deefa811",
   "metadata": {},
   "outputs": [],
   "source": []
  },
  {
   "cell_type": "code",
   "execution_count": 128,
   "id": "1e124f6b-8d5b-406f-bd18-3d80caa46a57",
   "metadata": {},
   "outputs": [
    {
     "data": {
      "text/html": [
       "\n",
       "  <div id=\"bd61c5f0-d576-46d6-be44-7f88e26ce1dd\" data-root-id=\"p137372\" style=\"display: contents;\"></div>\n"
      ]
     },
     "metadata": {},
     "output_type": "display_data"
    },
    {
     "data": {
      "application/javascript": [
       "(function(root) {\n",
       "  function embed_document(root) {\n",
       "  const docs_json = {\"89c92a4a-2a85-4486-ac22-1c4f93c0f0ad\":{\"version\":\"3.1.1\",\"title\":\"Bokeh Application\",\"defs\":[],\"roots\":[{\"type\":\"object\",\"name\":\"Figure\",\"id\":\"p137372\",\"attributes\":{\"width\":300,\"height\":300,\"x_range\":{\"type\":\"object\",\"name\":\"DataRange1d\",\"id\":\"p137373\"},\"y_range\":{\"type\":\"object\",\"name\":\"DataRange1d\",\"id\":\"p137374\"},\"x_scale\":{\"type\":\"object\",\"name\":\"LinearScale\",\"id\":\"p137386\"},\"y_scale\":{\"type\":\"object\",\"name\":\"LinearScale\",\"id\":\"p137388\"},\"title\":{\"type\":\"object\",\"name\":\"Title\",\"id\":\"p137375\",\"attributes\":{\"text\":\"Linear Color Map Based on Y\",\"text_color\":\"#E0E0E0\",\"text_font\":\"Helvetica\",\"text_font_size\":\"1.15em\"}},\"outline_line_color\":\"#E0E0E0\",\"outline_line_alpha\":0.25,\"renderers\":[{\"type\":\"object\",\"name\":\"GlyphRenderer\",\"id\":\"p137425\",\"attributes\":{\"data_source\":{\"type\":\"object\",\"name\":\"ColumnDataSource\",\"id\":\"p137369\",\"attributes\":{\"selected\":{\"type\":\"object\",\"name\":\"Selection\",\"id\":\"p137371\",\"attributes\":{\"indices\":[],\"line_indices\":[]}},\"selection_policy\":{\"type\":\"object\",\"name\":\"UnionRenderers\",\"id\":\"p137370\"},\"data\":{\"type\":\"map\",\"entries\":[[\"x\",[1,2,3,4,5,7,8,9,10]],[\"y\",[1,2,3,4,5,7,8,9,10]]]}}},\"view\":{\"type\":\"object\",\"name\":\"CDSView\",\"id\":\"p137426\",\"attributes\":{\"filter\":{\"type\":\"object\",\"name\":\"AllIndices\",\"id\":\"p137427\"}}},\"glyph\":{\"type\":\"object\",\"name\":\"Circle\",\"id\":\"p137422\",\"attributes\":{\"x\":{\"type\":\"field\",\"field\":\"x\"},\"y\":{\"type\":\"field\",\"field\":\"y\"},\"size\":{\"type\":\"value\",\"value\":12},\"line_color\":{\"type\":\"field\",\"field\":\"y\",\"transform\":{\"type\":\"object\",\"name\":\"LinearColorMapper\",\"id\":\"p137368\",\"attributes\":{\"palette\":[\"#3288bd\",\"#99d594\",\"#e6f598\",\"#fee08b\",\"#fc8d59\",\"#d53e4f\"],\"low\":1,\"high\":10}}},\"fill_color\":{\"type\":\"field\",\"field\":\"y\",\"transform\":{\"id\":\"p137368\"}},\"hatch_color\":{\"type\":\"field\",\"field\":\"y\",\"transform\":{\"id\":\"p137368\"}}}},\"nonselection_glyph\":{\"type\":\"object\",\"name\":\"Circle\",\"id\":\"p137423\",\"attributes\":{\"x\":{\"type\":\"field\",\"field\":\"x\"},\"y\":{\"type\":\"field\",\"field\":\"y\"},\"size\":{\"type\":\"value\",\"value\":12},\"line_color\":{\"type\":\"field\",\"field\":\"y\",\"transform\":{\"id\":\"p137368\"}},\"line_alpha\":{\"type\":\"value\",\"value\":0.1},\"fill_color\":{\"type\":\"field\",\"field\":\"y\",\"transform\":{\"id\":\"p137368\"}},\"fill_alpha\":{\"type\":\"value\",\"value\":0.1},\"hatch_color\":{\"type\":\"field\",\"field\":\"y\",\"transform\":{\"id\":\"p137368\"}},\"hatch_alpha\":{\"type\":\"value\",\"value\":0.1}}},\"muted_glyph\":{\"type\":\"object\",\"name\":\"Circle\",\"id\":\"p137424\",\"attributes\":{\"x\":{\"type\":\"field\",\"field\":\"x\"},\"y\":{\"type\":\"field\",\"field\":\"y\"},\"size\":{\"type\":\"value\",\"value\":12},\"line_color\":{\"type\":\"field\",\"field\":\"y\",\"transform\":{\"id\":\"p137368\"}},\"line_alpha\":{\"type\":\"value\",\"value\":0.2},\"fill_color\":{\"type\":\"field\",\"field\":\"y\",\"transform\":{\"id\":\"p137368\"}},\"fill_alpha\":{\"type\":\"value\",\"value\":0.2},\"hatch_color\":{\"type\":\"field\",\"field\":\"y\",\"transform\":{\"id\":\"p137368\"}},\"hatch_alpha\":{\"type\":\"value\",\"value\":0.2}}}}}],\"toolbar\":{\"type\":\"object\",\"name\":\"Toolbar\",\"id\":\"p137378\",\"attributes\":{\"tools\":[{\"type\":\"object\",\"name\":\"PanTool\",\"id\":\"p137404\"},{\"type\":\"object\",\"name\":\"WheelZoomTool\",\"id\":\"p137405\"},{\"type\":\"object\",\"name\":\"BoxZoomTool\",\"id\":\"p137406\",\"attributes\":{\"overlay\":{\"type\":\"object\",\"name\":\"BoxAnnotation\",\"id\":\"p137407\",\"attributes\":{\"syncable\":false,\"level\":\"overlay\",\"visible\":false,\"left_units\":\"canvas\",\"right_units\":\"canvas\",\"bottom_units\":\"canvas\",\"top_units\":\"canvas\",\"line_color\":\"black\",\"line_alpha\":1.0,\"line_width\":2,\"line_dash\":[4,4],\"fill_color\":\"lightgrey\",\"fill_alpha\":0.5}}}},{\"type\":\"object\",\"name\":\"SaveTool\",\"id\":\"p137408\"},{\"type\":\"object\",\"name\":\"ResetTool\",\"id\":\"p137409\"},{\"type\":\"object\",\"name\":\"HelpTool\",\"id\":\"p137410\"}]}},\"left\":[{\"type\":\"object\",\"name\":\"LinearAxis\",\"id\":\"p137397\",\"attributes\":{\"ticker\":{\"type\":\"object\",\"name\":\"BasicTicker\",\"id\":\"p137400\",\"attributes\":{\"mantissas\":[1,2,5]}},\"formatter\":{\"type\":\"object\",\"name\":\"BasicTickFormatter\",\"id\":\"p137399\"},\"axis_label_standoff\":10,\"axis_label_text_color\":\"#E0E0E0\",\"axis_label_text_font\":\"Helvetica\",\"axis_label_text_font_size\":\"1.25em\",\"axis_label_text_font_style\":\"normal\",\"major_label_policy\":{\"type\":\"object\",\"name\":\"AllLabels\",\"id\":\"p137398\"},\"major_label_text_color\":\"#E0E0E0\",\"major_label_text_font\":\"Helvetica\",\"major_label_text_font_size\":\"1.025em\",\"axis_line_color\":\"#E0E0E0\",\"axis_line_alpha\":0,\"major_tick_line_color\":\"#E0E0E0\",\"major_tick_line_alpha\":0,\"minor_tick_line_color\":\"#E0E0E0\",\"minor_tick_line_alpha\":0}}],\"right\":[{\"type\":\"object\",\"name\":\"ColorBar\",\"id\":\"p137428\",\"attributes\":{\"width\":8,\"title_text_color\":\"#E0E0E0\",\"title_text_font\":\"Helvetica\",\"title_text_font_size\":\"1.025em\",\"title_text_font_style\":\"normal\",\"major_label_policy\":{\"type\":\"object\",\"name\":\"NoOverlap\",\"id\":\"p137429\"},\"major_label_text_color\":\"#E0E0E0\",\"major_label_text_font\":\"Helvetica\",\"major_label_text_font_size\":\"1.025em\",\"major_tick_line_alpha\":0,\"bar_line_alpha\":0,\"background_fill_color\":\"#15191C\",\"color_mapper\":{\"id\":\"p137368\"}}}],\"below\":[{\"type\":\"object\",\"name\":\"LinearAxis\",\"id\":\"p137390\",\"attributes\":{\"ticker\":{\"type\":\"object\",\"name\":\"BasicTicker\",\"id\":\"p137393\",\"attributes\":{\"mantissas\":[1,2,5]}},\"formatter\":{\"type\":\"object\",\"name\":\"BasicTickFormatter\",\"id\":\"p137392\"},\"axis_label_standoff\":10,\"axis_label_text_color\":\"#E0E0E0\",\"axis_label_text_font\":\"Helvetica\",\"axis_label_text_font_size\":\"1.25em\",\"axis_label_text_font_style\":\"normal\",\"major_label_policy\":{\"type\":\"object\",\"name\":\"AllLabels\",\"id\":\"p137391\"},\"major_label_text_color\":\"#E0E0E0\",\"major_label_text_font\":\"Helvetica\",\"major_label_text_font_size\":\"1.025em\",\"axis_line_color\":\"#E0E0E0\",\"axis_line_alpha\":0,\"major_tick_line_color\":\"#E0E0E0\",\"major_tick_line_alpha\":0,\"minor_tick_line_color\":\"#E0E0E0\",\"minor_tick_line_alpha\":0}}],\"center\":[{\"type\":\"object\",\"name\":\"Grid\",\"id\":\"p137396\",\"attributes\":{\"axis\":{\"id\":\"p137390\"},\"grid_line_color\":\"#E0E0E0\",\"grid_line_alpha\":0.25}},{\"type\":\"object\",\"name\":\"Grid\",\"id\":\"p137403\",\"attributes\":{\"dimension\":1,\"axis\":{\"id\":\"p137397\"},\"grid_line_color\":\"#E0E0E0\",\"grid_line_alpha\":0.25}}],\"background_fill_color\":\"#20262B\",\"border_fill_color\":\"#15191C\"}}],\"callbacks\":{\"type\":\"map\"}}};\n",
       "  const render_items = [{\"docid\":\"89c92a4a-2a85-4486-ac22-1c4f93c0f0ad\",\"roots\":{\"p137372\":\"bd61c5f0-d576-46d6-be44-7f88e26ce1dd\"},\"root_ids\":[\"p137372\"]}];\n",
       "  root.Bokeh.embed.embed_items_notebook(docs_json, render_items);\n",
       "  }\n",
       "  if (root.Bokeh !== undefined) {\n",
       "    embed_document(root);\n",
       "  } else {\n",
       "    let attempts = 0;\n",
       "    const timer = setInterval(function(root) {\n",
       "      if (root.Bokeh !== undefined) {\n",
       "        clearInterval(timer);\n",
       "        embed_document(root);\n",
       "      } else {\n",
       "        attempts++;\n",
       "        if (attempts > 100) {\n",
       "          clearInterval(timer);\n",
       "          console.log(\"Bokeh: ERROR: Unable to run BokehJS code because BokehJS library is missing\");\n",
       "        }\n",
       "      }\n",
       "    }, 10, root)\n",
       "  }\n",
       "})(window);"
      ],
      "application/vnd.bokehjs_exec.v0+json": ""
     },
     "metadata": {
      "application/vnd.bokehjs_exec.v0+json": {
       "id": "p137372"
      }
     },
     "output_type": "display_data"
    }
   ],
   "source": [
    "from bokeh.io import show\n",
    "from bokeh.models import ColumnDataSource, LinearColorMapper\n",
    "from bokeh.plotting import figure\n",
    "from bokeh.transform import linear_cmap\n",
    "from bokeh.palettes import Viridis256\n",
    "from bokeh.palettes import Spectral6\n",
    "\n",
    "\n",
    "x = [1,2,3,4,5,7,8,9,10]\n",
    "y = [1,2,3,4,5,7,8,9,10]\n",
    "\n",
    "#Use the field name of the column source\n",
    "mapper = linear_cmap(field_name='y', palette=Spectral6 ,low=min(y) ,high=max(y))\n",
    "\n",
    "source = ColumnDataSource(dict(x=x,y=y))\n",
    "\n",
    "p = figure(width=300, height=300, title=\"Linear Color Map Based on Y\")\n",
    "\n",
    "p.circle(x='x', y='y', line_color=mapper,color=mapper, fill_alpha=1, size=12, source=source)\n",
    "\n",
    "# p.line(x='x', y='y', line_color=mapper,color=mapper, \n",
    "#        # fill_alpha=1, size=12, \n",
    "#        source=source)\n",
    "\n",
    "color_bar = ColorBar(color_mapper=mapper['transform'], width=8)\n",
    "\n",
    "p.add_layout(color_bar, 'right')\n",
    "\n",
    "show(p)"
   ]
  },
  {
   "cell_type": "code",
   "execution_count": 163,
   "id": "45f593f9-29e3-4a77-aa21-1e59e14eb1d3",
   "metadata": {},
   "outputs": [
    {
     "name": "stderr",
     "output_type": "stream",
     "text": [
      "ERROR:bokeh.core.validation.check:E-1001 (BAD_COLUMN_NAME): Glyph refers to nonexistent column name. This could either be due to a misspelling or typo, or due to an expected column being missing. : fill_color='y_1_values' [no close matches], hatch_color='y_1_values' [no close matches], line_color='y_1_values' [no close matches], x='x_values' [no close matches], y='y_1_values' [no close matches] {renderer: GlyphRenderer(id='p256098', ...)}\n"
     ]
    },
    {
     "data": {
      "text/html": [
       "\n",
       "  <div id=\"e35b15bd-fb2d-4e63-a767-f5e666b30c2f\" data-root-id=\"p255975\" style=\"display: contents;\"></div>\n"
      ]
     },
     "metadata": {},
     "output_type": "display_data"
    },
    {
     "data": {
      "application/javascript": [
       "(function(root) {\n",
       "  function embed_document(root) {\n",
       "  const docs_json = {\"fbe04efc-21f7-4331-8300-a3bd01c753c7\":{\"version\":\"3.1.1\",\"title\":\"Bokeh Application\",\"defs\":[],\"roots\":[{\"type\":\"object\",\"name\":\"Figure\",\"id\":\"p255975\",\"attributes\":{\"width\":900,\"height\":900,\"max_width\":900,\"max_height\":300,\"sizing_mode\":\"scale_both\",\"x_range\":{\"type\":\"object\",\"name\":\"DataRange1d\",\"id\":\"p255976\"},\"y_range\":{\"type\":\"object\",\"name\":\"DataRange1d\",\"id\":\"p255977\"},\"x_scale\":{\"type\":\"object\",\"name\":\"LinearScale\",\"id\":\"p255989\"},\"y_scale\":{\"type\":\"object\",\"name\":\"LinearScale\",\"id\":\"p255991\"},\"title\":{\"type\":\"object\",\"name\":\"Title\",\"id\":\"p255978\",\"attributes\":{\"text\":\"Dhaka Stock Exchange Live Change\",\"text_color\":\"#E0E0E0\",\"text_font\":\"Helvetica\",\"text_font_size\":\"1.15em\",\"align\":\"center\"}},\"outline_line_color\":\"#E0E0E0\",\"outline_line_alpha\":0.25,\"renderers\":[{\"type\":\"object\",\"name\":\"GlyphRenderer\",\"id\":\"p256064\",\"attributes\":{\"data_source\":{\"type\":\"object\",\"name\":\"ColumnDataSource\",\"id\":\"p256058\",\"attributes\":{\"selected\":{\"type\":\"object\",\"name\":\"Selection\",\"id\":\"p256060\",\"attributes\":{\"indices\":[],\"line_indices\":[]}},\"selection_policy\":{\"type\":\"object\",\"name\":\"UnionRenderers\",\"id\":\"p256059\"},\"data\":{\"type\":\"map\",\"entries\":[[\"x\",[1684458000000.0,1684461900000.0,1684465800000.0,1684469700000.0,1684473600000.0,1684488300000.0]],[\"y\",[0,1,2,3,4,5]]]}}},\"view\":{\"type\":\"object\",\"name\":\"CDSView\",\"id\":\"p256065\",\"attributes\":{\"filter\":{\"type\":\"object\",\"name\":\"AllIndices\",\"id\":\"p256066\"}}},\"glyph\":{\"type\":\"object\",\"name\":\"Line\",\"id\":\"p256061\",\"attributes\":{\"x\":{\"type\":\"field\",\"field\":\"x\"},\"y\":{\"type\":\"field\",\"field\":\"y\"},\"line_color\":\"yellow\"}},\"nonselection_glyph\":{\"type\":\"object\",\"name\":\"Line\",\"id\":\"p256062\",\"attributes\":{\"x\":{\"type\":\"field\",\"field\":\"x\"},\"y\":{\"type\":\"field\",\"field\":\"y\"},\"line_color\":\"yellow\",\"line_alpha\":0.1}},\"muted_glyph\":{\"type\":\"object\",\"name\":\"Line\",\"id\":\"p256063\",\"attributes\":{\"x\":{\"type\":\"field\",\"field\":\"x\"},\"y\":{\"type\":\"field\",\"field\":\"y\"},\"line_color\":\"yellow\",\"line_alpha\":0.2}}}},{\"type\":\"object\",\"name\":\"GlyphRenderer\",\"id\":\"p256075\",\"attributes\":{\"data_source\":{\"type\":\"object\",\"name\":\"ColumnDataSource\",\"id\":\"p256069\",\"attributes\":{\"selected\":{\"type\":\"object\",\"name\":\"Selection\",\"id\":\"p256071\",\"attributes\":{\"indices\":[],\"line_indices\":[]}},\"selection_policy\":{\"type\":\"object\",\"name\":\"UnionRenderers\",\"id\":\"p256070\"},\"data\":{\"type\":\"map\",\"entries\":[[\"x\",[1684458000000.0,1684461900000.0,1684465800000.0,1684469700000.0,1684473600000.0,1684488300000.0]],[\"y\",[27,80,28,90,53,31]]]}}},\"view\":{\"type\":\"object\",\"name\":\"CDSView\",\"id\":\"p256076\",\"attributes\":{\"filter\":{\"type\":\"object\",\"name\":\"AllIndices\",\"id\":\"p256077\"}}},\"glyph\":{\"type\":\"object\",\"name\":\"Scatter\",\"id\":\"p256072\",\"attributes\":{\"x\":{\"type\":\"field\",\"field\":\"x\"},\"y\":{\"type\":\"field\",\"field\":\"y\"},\"line_color\":{\"type\":\"value\",\"value\":\"green\"},\"fill_color\":{\"type\":\"value\",\"value\":\"#1f77b4\"},\"marker\":{\"type\":\"value\",\"value\":\"square\"}}},\"nonselection_glyph\":{\"type\":\"object\",\"name\":\"Scatter\",\"id\":\"p256073\",\"attributes\":{\"x\":{\"type\":\"field\",\"field\":\"x\"},\"y\":{\"type\":\"field\",\"field\":\"y\"},\"line_color\":{\"type\":\"value\",\"value\":\"green\"},\"line_alpha\":{\"type\":\"value\",\"value\":0.1},\"fill_color\":{\"type\":\"value\",\"value\":\"#1f77b4\"},\"fill_alpha\":{\"type\":\"value\",\"value\":0.1},\"hatch_alpha\":{\"type\":\"value\",\"value\":0.1},\"marker\":{\"type\":\"value\",\"value\":\"square\"}}},\"muted_glyph\":{\"type\":\"object\",\"name\":\"Scatter\",\"id\":\"p256074\",\"attributes\":{\"x\":{\"type\":\"field\",\"field\":\"x\"},\"y\":{\"type\":\"field\",\"field\":\"y\"},\"line_color\":{\"type\":\"value\",\"value\":\"green\"},\"line_alpha\":{\"type\":\"value\",\"value\":0.2},\"fill_color\":{\"type\":\"value\",\"value\":\"#1f77b4\"},\"fill_alpha\":{\"type\":\"value\",\"value\":0.2},\"hatch_alpha\":{\"type\":\"value\",\"value\":0.2},\"marker\":{\"type\":\"value\",\"value\":\"square\"}}}}},{\"type\":\"object\",\"name\":\"GlyphRenderer\",\"id\":\"p256085\",\"attributes\":{\"data_source\":{\"type\":\"object\",\"name\":\"ColumnDataSource\",\"id\":\"p256079\",\"attributes\":{\"selected\":{\"type\":\"object\",\"name\":\"Selection\",\"id\":\"p256081\",\"attributes\":{\"indices\":[],\"line_indices\":[]}},\"selection_policy\":{\"type\":\"object\",\"name\":\"UnionRenderers\",\"id\":\"p256080\"},\"data\":{\"type\":\"map\",\"entries\":[[\"x\",[1684458000000.0,1684461900000.0,1684465800000.0,1684469700000.0,1684473600000.0,1684488300000.0]],[\"y\",[27,80,28,90,53,31]]]}}},\"view\":{\"type\":\"object\",\"name\":\"CDSView\",\"id\":\"p256086\",\"attributes\":{\"filter\":{\"type\":\"object\",\"name\":\"AllIndices\",\"id\":\"p256087\"}}},\"glyph\":{\"type\":\"object\",\"name\":\"Line\",\"id\":\"p256082\",\"attributes\":{\"x\":{\"type\":\"field\",\"field\":\"x\"},\"y\":{\"type\":\"field\",\"field\":\"y\"},\"line_color\":\"purple\"}},\"nonselection_glyph\":{\"type\":\"object\",\"name\":\"Line\",\"id\":\"p256083\",\"attributes\":{\"x\":{\"type\":\"field\",\"field\":\"x\"},\"y\":{\"type\":\"field\",\"field\":\"y\"},\"line_color\":\"purple\",\"line_alpha\":0.1}},\"muted_glyph\":{\"type\":\"object\",\"name\":\"Line\",\"id\":\"p256084\",\"attributes\":{\"x\":{\"type\":\"field\",\"field\":\"x\"},\"y\":{\"type\":\"field\",\"field\":\"y\"},\"line_color\":\"purple\",\"line_alpha\":0.2}}}},{\"type\":\"object\",\"name\":\"GlyphRenderer\",\"id\":\"p256098\",\"attributes\":{\"data_source\":{\"type\":\"object\",\"name\":\"ColumnDataSource\",\"id\":\"p256089\",\"attributes\":{\"selected\":{\"type\":\"object\",\"name\":\"Selection\",\"id\":\"p256091\",\"attributes\":{\"indices\":[],\"line_indices\":[]}},\"selection_policy\":{\"type\":\"object\",\"name\":\"UnionRenderers\",\"id\":\"p256090\"},\"data\":{\"type\":\"map\",\"entries\":[[\"x\",[1684458000000.0,1684461900000.0,1684465800000.0,1684469700000.0,1684473600000.0,1684488300000.0]],[\"y\",[0,1,2,3,4,5]]]}}},\"view\":{\"type\":\"object\",\"name\":\"CDSView\",\"id\":\"p256099\",\"attributes\":{\"filter\":{\"type\":\"object\",\"name\":\"AllIndices\",\"id\":\"p256100\"}}},\"glyph\":{\"type\":\"object\",\"name\":\"Circle\",\"id\":\"p256095\",\"attributes\":{\"x\":{\"type\":\"field\",\"field\":\"x_values\"},\"y\":{\"type\":\"field\",\"field\":\"y_1_values\"},\"size\":{\"type\":\"value\",\"value\":30},\"line_color\":{\"type\":\"field\",\"field\":\"y_1_values\",\"transform\":{\"type\":\"object\",\"name\":\"LinearColorMapper\",\"id\":\"p256088\",\"attributes\":{\"palette\":[\"#3288bd\",\"#99d594\",\"#e6f598\",\"#fee08b\",\"#fc8d59\",\"#d53e4f\"],\"low\":0,\"high\":5}}},\"fill_color\":{\"type\":\"field\",\"field\":\"y_1_values\",\"transform\":{\"id\":\"p256088\"}},\"hatch_color\":{\"type\":\"field\",\"field\":\"y_1_values\",\"transform\":{\"id\":\"p256088\"}}}},\"nonselection_glyph\":{\"type\":\"object\",\"name\":\"Circle\",\"id\":\"p256096\",\"attributes\":{\"x\":{\"type\":\"field\",\"field\":\"x_values\"},\"y\":{\"type\":\"field\",\"field\":\"y_1_values\"},\"size\":{\"type\":\"value\",\"value\":30},\"line_color\":{\"type\":\"field\",\"field\":\"y_1_values\",\"transform\":{\"id\":\"p256088\"}},\"line_alpha\":{\"type\":\"value\",\"value\":0.1},\"fill_color\":{\"type\":\"field\",\"field\":\"y_1_values\",\"transform\":{\"id\":\"p256088\"}},\"fill_alpha\":{\"type\":\"value\",\"value\":0.1},\"hatch_color\":{\"type\":\"field\",\"field\":\"y_1_values\",\"transform\":{\"id\":\"p256088\"}},\"hatch_alpha\":{\"type\":\"value\",\"value\":0.1}}},\"muted_glyph\":{\"type\":\"object\",\"name\":\"Circle\",\"id\":\"p256097\",\"attributes\":{\"x\":{\"type\":\"field\",\"field\":\"x_values\"},\"y\":{\"type\":\"field\",\"field\":\"y_1_values\"},\"size\":{\"type\":\"value\",\"value\":30},\"line_color\":{\"type\":\"field\",\"field\":\"y_1_values\",\"transform\":{\"id\":\"p256088\"}},\"line_alpha\":{\"type\":\"value\",\"value\":0.2},\"fill_color\":{\"type\":\"field\",\"field\":\"y_1_values\",\"transform\":{\"id\":\"p256088\"}},\"fill_alpha\":{\"type\":\"value\",\"value\":0.2},\"hatch_color\":{\"type\":\"field\",\"field\":\"y_1_values\",\"transform\":{\"id\":\"p256088\"}},\"hatch_alpha\":{\"type\":\"value\",\"value\":0.2}}}}}],\"toolbar\":{\"type\":\"object\",\"name\":\"Toolbar\",\"id\":\"p255981\",\"attributes\":{\"tools\":[{\"type\":\"object\",\"name\":\"PanTool\",\"id\":\"p256043\"},{\"type\":\"object\",\"name\":\"WheelZoomTool\",\"id\":\"p256044\"},{\"type\":\"object\",\"name\":\"BoxZoomTool\",\"id\":\"p256045\",\"attributes\":{\"overlay\":{\"type\":\"object\",\"name\":\"BoxAnnotation\",\"id\":\"p256046\",\"attributes\":{\"syncable\":false,\"level\":\"overlay\",\"visible\":false,\"left_units\":\"canvas\",\"right_units\":\"canvas\",\"bottom_units\":\"canvas\",\"top_units\":\"canvas\",\"line_color\":\"black\",\"line_alpha\":1.0,\"line_width\":2,\"line_dash\":[4,4],\"fill_color\":\"lightgrey\",\"fill_alpha\":0.5}}}},{\"type\":\"object\",\"name\":\"SaveTool\",\"id\":\"p256047\"},{\"type\":\"object\",\"name\":\"ResetTool\",\"id\":\"p256048\"},{\"type\":\"object\",\"name\":\"HelpTool\",\"id\":\"p256049\"}]}},\"left\":[{\"type\":\"object\",\"name\":\"LinearAxis\",\"id\":\"p256036\",\"attributes\":{\"ticker\":{\"type\":\"object\",\"name\":\"BasicTicker\",\"id\":\"p256039\",\"attributes\":{\"mantissas\":[1,2,5]}},\"formatter\":{\"type\":\"object\",\"name\":\"BasicTickFormatter\",\"id\":\"p256038\"},\"axis_label\":\"Percentage Change (%)\",\"axis_label_standoff\":10,\"axis_label_text_color\":\"#E0E0E0\",\"axis_label_text_font\":\"Helvetica\",\"axis_label_text_font_size\":\"1.25em\",\"axis_label_text_font_style\":\"normal\",\"major_label_policy\":{\"type\":\"object\",\"name\":\"AllLabels\",\"id\":\"p256037\"},\"major_label_text_color\":\"#E0E0E0\",\"major_label_text_font\":\"Helvetica\",\"major_label_text_font_size\":\"1.025em\",\"axis_line_color\":\"#E0E0E0\",\"axis_line_alpha\":0,\"major_tick_line_color\":\"#E0E0E0\",\"major_tick_line_alpha\":0,\"minor_tick_line_color\":\"#E0E0E0\",\"minor_tick_line_alpha\":0}}],\"right\":[{\"type\":\"object\",\"name\":\"ColorBar\",\"id\":\"p256101\",\"attributes\":{\"width\":8,\"title_text_color\":\"#E0E0E0\",\"title_text_font\":\"Helvetica\",\"title_text_font_size\":\"1.025em\",\"title_text_font_style\":\"normal\",\"major_label_policy\":{\"type\":\"object\",\"name\":\"NoOverlap\",\"id\":\"p256102\"},\"major_label_text_color\":\"#E0E0E0\",\"major_label_text_font\":\"Helvetica\",\"major_label_text_font_size\":\"1.025em\",\"major_tick_line_alpha\":0,\"bar_line_alpha\":0,\"background_fill_color\":\"#15191C\",\"color_mapper\":{\"id\":\"p256088\"}}}],\"below\":[{\"type\":\"object\",\"name\":\"DatetimeAxis\",\"id\":\"p255993\",\"attributes\":{\"ticker\":{\"type\":\"object\",\"name\":\"DatetimeTicker\",\"id\":\"p255996\",\"attributes\":{\"num_minor_ticks\":5,\"tickers\":[{\"type\":\"object\",\"name\":\"AdaptiveTicker\",\"id\":\"p255997\",\"attributes\":{\"num_minor_ticks\":0,\"mantissas\":[1,2,5],\"max_interval\":500.0}},{\"type\":\"object\",\"name\":\"AdaptiveTicker\",\"id\":\"p255998\",\"attributes\":{\"num_minor_ticks\":0,\"base\":60,\"mantissas\":[1,2,5,10,15,20,30],\"min_interval\":1000.0,\"max_interval\":1800000.0}},{\"type\":\"object\",\"name\":\"AdaptiveTicker\",\"id\":\"p255999\",\"attributes\":{\"num_minor_ticks\":0,\"base\":24,\"mantissas\":[1,2,4,6,8,12],\"min_interval\":3600000.0,\"max_interval\":43200000.0}},{\"type\":\"object\",\"name\":\"DaysTicker\",\"id\":\"p256000\",\"attributes\":{\"days\":[1,2,3,4,5,6,7,8,9,10,11,12,13,14,15,16,17,18,19,20,21,22,23,24,25,26,27,28,29,30,31]}},{\"type\":\"object\",\"name\":\"DaysTicker\",\"id\":\"p256001\",\"attributes\":{\"days\":[1,4,7,10,13,16,19,22,25,28]}},{\"type\":\"object\",\"name\":\"DaysTicker\",\"id\":\"p256002\",\"attributes\":{\"days\":[1,8,15,22]}},{\"type\":\"object\",\"name\":\"DaysTicker\",\"id\":\"p256003\",\"attributes\":{\"days\":[1,15]}},{\"type\":\"object\",\"name\":\"MonthsTicker\",\"id\":\"p256004\",\"attributes\":{\"months\":[0,1,2,3,4,5,6,7,8,9,10,11]}},{\"type\":\"object\",\"name\":\"MonthsTicker\",\"id\":\"p256005\",\"attributes\":{\"months\":[0,2,4,6,8,10]}},{\"type\":\"object\",\"name\":\"MonthsTicker\",\"id\":\"p256006\",\"attributes\":{\"months\":[0,4,8]}},{\"type\":\"object\",\"name\":\"MonthsTicker\",\"id\":\"p256007\",\"attributes\":{\"months\":[0,6]}},{\"type\":\"object\",\"name\":\"YearsTicker\",\"id\":\"p256008\"}]}},\"formatter\":{\"type\":\"object\",\"name\":\"DatetimeTickFormatter\",\"id\":\"p256103\",\"attributes\":{\"hours\":\"%H:%M\"}},\"axis_label\":\"Date-Time\",\"axis_label_standoff\":10,\"axis_label_text_color\":\"#E0E0E0\",\"axis_label_text_font\":\"Helvetica\",\"axis_label_text_font_size\":\"1.25em\",\"axis_label_text_font_style\":\"normal\",\"major_label_policy\":{\"type\":\"object\",\"name\":\"AllLabels\",\"id\":\"p255994\"},\"major_label_text_color\":\"#E0E0E0\",\"major_label_text_font\":\"Helvetica\",\"major_label_text_font_size\":\"1.025em\",\"axis_line_color\":\"#E0E0E0\",\"axis_line_alpha\":0,\"major_tick_line_color\":\"#E0E0E0\",\"major_tick_line_alpha\":0,\"minor_tick_line_color\":\"#E0E0E0\",\"minor_tick_line_alpha\":0}}],\"center\":[{\"type\":\"object\",\"name\":\"Grid\",\"id\":\"p256035\",\"attributes\":{\"axis\":{\"id\":\"p255993\"},\"grid_line_color\":\"#E0E0E0\",\"grid_line_alpha\":0.25}},{\"type\":\"object\",\"name\":\"Grid\",\"id\":\"p256042\",\"attributes\":{\"dimension\":1,\"axis\":{\"id\":\"p256036\"},\"grid_line_color\":\"#E0E0E0\",\"grid_line_alpha\":0.25}},{\"type\":\"object\",\"name\":\"Legend\",\"id\":\"p256067\",\"attributes\":{\"location\":\"top_left\",\"title\":\"Lines\",\"border_line_alpha\":0,\"background_fill_color\":\"#20262B\",\"background_fill_alpha\":0.25,\"label_text_color\":\"#E0E0E0\",\"label_text_font\":\"Helvetica\",\"label_text_font_size\":\"1.025em\",\"label_standoff\":8,\"glyph_width\":15,\"spacing\":8,\"items\":[{\"type\":\"object\",\"name\":\"LegendItem\",\"id\":\"p256068\",\"attributes\":{\"label\":{\"type\":\"value\",\"value\":\"Line 1\"},\"renderers\":[{\"id\":\"p256064\"},{\"id\":\"p256098\"}]}},{\"type\":\"object\",\"name\":\"LegendItem\",\"id\":\"p256078\",\"attributes\":{\"label\":{\"type\":\"value\",\"value\":\"Line 2\"},\"renderers\":[{\"id\":\"p256075\"},{\"id\":\"p256085\"}]}}]}}],\"background_fill_color\":\"#20262B\",\"border_fill_color\":\"#15191C\"}}],\"callbacks\":{\"type\":\"map\"}}};\n",
       "  const render_items = [{\"docid\":\"fbe04efc-21f7-4331-8300-a3bd01c753c7\",\"roots\":{\"p255975\":\"e35b15bd-fb2d-4e63-a767-f5e666b30c2f\"},\"root_ids\":[\"p255975\"]}];\n",
       "  root.Bokeh.embed.embed_items_notebook(docs_json, render_items);\n",
       "  }\n",
       "  if (root.Bokeh !== undefined) {\n",
       "    embed_document(root);\n",
       "  } else {\n",
       "    let attempts = 0;\n",
       "    const timer = setInterval(function(root) {\n",
       "      if (root.Bokeh !== undefined) {\n",
       "        clearInterval(timer);\n",
       "        embed_document(root);\n",
       "      } else {\n",
       "        attempts++;\n",
       "        if (attempts > 100) {\n",
       "          clearInterval(timer);\n",
       "          console.log(\"Bokeh: ERROR: Unable to run BokehJS code because BokehJS library is missing\");\n",
       "        }\n",
       "      }\n",
       "    }, 10, root)\n",
       "  }\n",
       "})(window);"
      ],
      "application/vnd.bokehjs_exec.v0+json": ""
     },
     "metadata": {
      "application/vnd.bokehjs_exec.v0+json": {
       "id": "p255975"
      }
     },
     "output_type": "display_data"
    }
   ],
   "source": [
    "from bokeh.plotting import figure, show, curdoc\n",
    "from bokeh.models import DatetimeTickFormatter\n",
    "from datetime import datetime\n",
    "import random\n",
    "from bokeh.models import ContinuousColorMapper\n",
    "from bokeh.palettes import Viridis256\n",
    "from bokeh.transform import linear_cmap\n",
    "from bokeh.palettes import Turbo256\n",
    "from bokeh.palettes import Category10, Category20, Category20b, Category20c\n",
    "\n",
    "\n",
    "\n",
    "\n",
    "# Dummy data representing different hour-minute values\n",
    "hour_minutes = [(1, 0), (2, 5), (3, 10), (4, 15), (5, 20), (9, 25)]\n",
    "\n",
    "# Create a list of datetime objects from the hour-minute values\n",
    "x_values = [datetime(datetime.now().year, datetime.now().month, datetime.now().day, hour, minute) for hour, minute in hour_minutes]\n",
    "y_1_values = [i for i in range(len(hour_minutes))]\n",
    "y_2_values = [random.randint(0, 100) for _ in range(len(hour_minutes))]\n",
    "\n",
    "\n",
    "# Create a figure\n",
    "# p = figure(x_axis_type=\"datetime\")\n",
    "\n",
    "# create figure\n",
    "p = figure(\n",
    "    title=\"Dhaka Stock Exchange Live Change\",\n",
    "    x_axis_type=\"datetime\",\n",
    "    sizing_mode=\"scale_both\",\n",
    "\n",
    "    # Comment the width heights later\n",
    "    max_width=900,\n",
    "    max_height = 300,\n",
    "    width=900,\n",
    "    height=900\n",
    "    \n",
    ")\n",
    "\n",
    "p.title.align = \"center\"\n",
    "# Set x-axis and y-axis labels\n",
    "p.xaxis.axis_label = \"Date-Time\"\n",
    "p.yaxis.axis_label = \"Percentage Change (%)\"\n",
    "\n",
    "\n",
    "\n",
    "# Add the line with varying colors based on values\n",
    "p.line(x_values, y_1_values, legend_label=\"Line 1\", \n",
    "       line_color=\n",
    "       'yellow'\n",
    "       # color= Category10[10]\n",
    "      #  {'field': 'y_1_values', 'transform': color_mapper}\n",
    "      )\n",
    "\n",
    "\n",
    "p.square(x_values, y_2_values, legend_label=\"Line 2\", line_color='green')\n",
    "\n",
    "p.line(x_values, y_2_values, legend_label=\"Line 2\",\n",
    "      line_color=\n",
    "       # {'field': 'y_2_values', 'transform': color_mapper}\n",
    "       'purple'\n",
    "\n",
    "       # linear_cmap('y_2_values', palette=color_mapper.palette, low=min(y_2_values), high=max(y_2_values))\n",
    "      )\n",
    "\n",
    "mapper = linear_cmap(field_name='y_1_values', palette=Spectral6 ,low=min(y_1_values) ,high=max(y_1_values))\n",
    "\n",
    "source = ColumnDataSource(dict(x=x_values,y=y_1_values))\n",
    "\n",
    "p.circle(x='x_values', y='y_1_values', legend_label=\"Line 1\",  line_color=mapper,color=mapper, fill_alpha=1, size=30, \n",
    "         source=source\n",
    "        )\n",
    "\n",
    "\n",
    "\n",
    "\n",
    "\n",
    "# p.line(x='x', y='y', line_color=mapper,color=mapper, \n",
    "#        # fill_alpha=1, size=12, \n",
    "#        source=source)\n",
    "\n",
    "color_bar = ColorBar(color_mapper=mapper['transform'], width=8)\n",
    "\n",
    "p.add_layout(color_bar, 'right')\n",
    "\n",
    "\n",
    "# Customize the x-axis tick labels\n",
    "p.xaxis.formatter = DatetimeTickFormatter(hours=\"%H:%M\")\n",
    "\n",
    "curdoc().theme = 'dark_minimal'\n",
    "\n",
    "p.legend.title = 'Lines'\n",
    "p.legend.location = \"top_left\"  # Options: top_left, top_right, bottom_left, bottom_right, center, center_left, center_right\n",
    "\n",
    "\n",
    "\n",
    "# Show the plot\n",
    "show(p)\n"
   ]
  },
  {
   "cell_type": "code",
   "execution_count": 164,
   "id": "58d0361f-79b8-4029-bb54-49fe88d1efa6",
   "metadata": {},
   "outputs": [
    {
     "name": "stderr",
     "output_type": "stream",
     "text": [
      "ERROR:bokeh.core.validation.check:E-1001 (BAD_COLUMN_NAME): Glyph refers to nonexistent column name. This could either be due to a misspelling or typo, or due to an expected column being missing. : fill_color='y_2_values' [no close matches], line_color='y_2_values' [no close matches] {renderer: GlyphRenderer(id='p260907', ...)}\n"
     ]
    },
    {
     "data": {
      "text/html": [
       "\n",
       "  <div id=\"d070f16f-4c17-4166-bc16-f87d7862f1b5\" data-root-id=\"p260803\" style=\"display: contents;\"></div>\n"
      ]
     },
     "metadata": {},
     "output_type": "display_data"
    },
    {
     "data": {
      "application/javascript": [
       "(function(root) {\n",
       "  function embed_document(root) {\n",
       "  const docs_json = {\"df3eb925-2ded-413b-a379-cd33095cbcdc\":{\"version\":\"3.1.1\",\"title\":\"Bokeh Application\",\"defs\":[],\"roots\":[{\"type\":\"object\",\"name\":\"Figure\",\"id\":\"p260803\",\"attributes\":{\"width\":900,\"height\":900,\"max_width\":900,\"max_height\":300,\"sizing_mode\":\"scale_both\",\"x_range\":{\"type\":\"object\",\"name\":\"DataRange1d\",\"id\":\"p260804\"},\"y_range\":{\"type\":\"object\",\"name\":\"DataRange1d\",\"id\":\"p260805\"},\"x_scale\":{\"type\":\"object\",\"name\":\"LinearScale\",\"id\":\"p260817\"},\"y_scale\":{\"type\":\"object\",\"name\":\"LinearScale\",\"id\":\"p260819\"},\"title\":{\"type\":\"object\",\"name\":\"Title\",\"id\":\"p260806\",\"attributes\":{\"text\":\"Dhaka Stock Exchange Live Change\",\"text_color\":\"#E0E0E0\",\"text_font\":\"Helvetica\",\"text_font_size\":\"1.15em\",\"align\":\"center\"}},\"outline_line_color\":\"#E0E0E0\",\"outline_line_alpha\":0.25,\"renderers\":[{\"type\":\"object\",\"name\":\"GlyphRenderer\",\"id\":\"p260892\",\"attributes\":{\"data_source\":{\"type\":\"object\",\"name\":\"ColumnDataSource\",\"id\":\"p260886\",\"attributes\":{\"selected\":{\"type\":\"object\",\"name\":\"Selection\",\"id\":\"p260888\",\"attributes\":{\"indices\":[],\"line_indices\":[]}},\"selection_policy\":{\"type\":\"object\",\"name\":\"UnionRenderers\",\"id\":\"p260887\"},\"data\":{\"type\":\"map\",\"entries\":[[\"x\",[1684458000000.0,1684461900000.0,1684465800000.0,1684469700000.0,1684473600000.0,1684488300000.0]],[\"y\",[0,1,2,3,4,5]]]}}},\"view\":{\"type\":\"object\",\"name\":\"CDSView\",\"id\":\"p260893\",\"attributes\":{\"filter\":{\"type\":\"object\",\"name\":\"AllIndices\",\"id\":\"p260894\"}}},\"glyph\":{\"type\":\"object\",\"name\":\"Line\",\"id\":\"p260889\",\"attributes\":{\"x\":{\"type\":\"field\",\"field\":\"x\"},\"y\":{\"type\":\"field\",\"field\":\"y\"},\"line_color\":\"yellow\"}},\"nonselection_glyph\":{\"type\":\"object\",\"name\":\"Line\",\"id\":\"p260890\",\"attributes\":{\"x\":{\"type\":\"field\",\"field\":\"x\"},\"y\":{\"type\":\"field\",\"field\":\"y\"},\"line_color\":\"yellow\",\"line_alpha\":0.1}},\"muted_glyph\":{\"type\":\"object\",\"name\":\"Line\",\"id\":\"p260891\",\"attributes\":{\"x\":{\"type\":\"field\",\"field\":\"x\"},\"y\":{\"type\":\"field\",\"field\":\"y\"},\"line_color\":\"yellow\",\"line_alpha\":0.2}}}},{\"type\":\"object\",\"name\":\"GlyphRenderer\",\"id\":\"p260907\",\"attributes\":{\"data_source\":{\"type\":\"object\",\"name\":\"ColumnDataSource\",\"id\":\"p260898\",\"attributes\":{\"selected\":{\"type\":\"object\",\"name\":\"Selection\",\"id\":\"p260900\",\"attributes\":{\"indices\":[],\"line_indices\":[]}},\"selection_policy\":{\"type\":\"object\",\"name\":\"UnionRenderers\",\"id\":\"p260899\"},\"data\":{\"type\":\"map\",\"entries\":[[\"x\",[1684458000000.0,1684461900000.0,1684465800000.0,1684469700000.0,1684473600000.0,1684488300000.0]],[\"y\",[69,35,33,56,49,38]]]}}},\"view\":{\"type\":\"object\",\"name\":\"CDSView\",\"id\":\"p260908\",\"attributes\":{\"filter\":{\"type\":\"object\",\"name\":\"AllIndices\",\"id\":\"p260909\"}}},\"glyph\":{\"type\":\"object\",\"name\":\"Circle\",\"id\":\"p260904\",\"attributes\":{\"x\":{\"type\":\"field\",\"field\":\"x\"},\"y\":{\"type\":\"field\",\"field\":\"y\"},\"size\":{\"type\":\"value\",\"value\":10},\"line_color\":{\"type\":\"field\",\"field\":\"y_2_values\",\"transform\":{\"type\":\"object\",\"name\":\"LinearColorMapper\",\"id\":\"p260897\",\"attributes\":{\"palette\":[\"#30123b\",\"#311542\",\"#32184a\",\"#341b51\",\"#351e58\",\"#36215f\",\"#372365\",\"#38266c\",\"#392972\",\"#3a2c79\",\"#3b2f7f\",\"#3c3285\",\"#3c358b\",\"#3d3791\",\"#3e3a96\",\"#3f3d9c\",\"#4040a1\",\"#4043a6\",\"#4145ab\",\"#4148b0\",\"#424bb5\",\"#434eba\",\"#4350be\",\"#4353c2\",\"#4456c7\",\"#4458cb\",\"#455bce\",\"#455ed2\",\"#4560d6\",\"#4563d9\",\"#4666dd\",\"#4668e0\",\"#466be3\",\"#466de6\",\"#4670e8\",\"#4673eb\",\"#4675ed\",\"#4678f0\",\"#467af2\",\"#467df4\",\"#467ff6\",\"#4682f8\",\"#4584f9\",\"#4587fb\",\"#4589fc\",\"#448cfd\",\"#438efd\",\"#4291fe\",\"#4193fe\",\"#4096fe\",\"#3f98fe\",\"#3e9bfe\",\"#3c9dfd\",\"#3ba0fc\",\"#39a2fc\",\"#38a5fb\",\"#36a8f9\",\"#34aaf8\",\"#33acf6\",\"#31aff5\",\"#2fb1f3\",\"#2db4f1\",\"#2bb6ef\",\"#2ab9ed\",\"#28bbeb\",\"#26bde9\",\"#25c0e6\",\"#23c2e4\",\"#21c4e1\",\"#20c6df\",\"#1ec9dc\",\"#1dcbda\",\"#1ccdd7\",\"#1bcfd4\",\"#1ad1d2\",\"#19d3cf\",\"#18d5cc\",\"#18d7ca\",\"#17d9c7\",\"#17dac4\",\"#17dcc2\",\"#17debf\",\"#18e0bd\",\"#18e1ba\",\"#19e3b8\",\"#1ae4b6\",\"#1be5b4\",\"#1de7b1\",\"#1ee8af\",\"#20e9ac\",\"#22eba9\",\"#24eca6\",\"#27eda3\",\"#29eea0\",\"#2cef9d\",\"#2ff09a\",\"#32f197\",\"#35f394\",\"#38f491\",\"#3bf48d\",\"#3ff58a\",\"#42f687\",\"#46f783\",\"#4af880\",\"#4df97c\",\"#51f979\",\"#55fa76\",\"#59fb72\",\"#5dfb6f\",\"#61fc6c\",\"#65fc68\",\"#69fd65\",\"#6dfd62\",\"#71fd5f\",\"#74fe5c\",\"#78fe59\",\"#7cfe56\",\"#80fe53\",\"#84fe50\",\"#87fe4d\",\"#8bfe4b\",\"#8efe48\",\"#92fe46\",\"#95fe44\",\"#98fe42\",\"#9bfd40\",\"#9efd3e\",\"#a1fc3d\",\"#a4fc3b\",\"#a6fb3a\",\"#a9fb39\",\"#acfa37\",\"#aef937\",\"#b1f836\",\"#b3f835\",\"#b6f735\",\"#b9f534\",\"#bbf434\",\"#bef334\",\"#c0f233\",\"#c3f133\",\"#c5ef33\",\"#c8ee33\",\"#caed33\",\"#cdeb34\",\"#cfea34\",\"#d1e834\",\"#d4e735\",\"#d6e535\",\"#d8e335\",\"#dae236\",\"#dde036\",\"#dfde36\",\"#e1dc37\",\"#e3da37\",\"#e5d838\",\"#e7d738\",\"#e8d538\",\"#ead339\",\"#ecd139\",\"#edcf39\",\"#efcd39\",\"#f0cb3a\",\"#f2c83a\",\"#f3c63a\",\"#f4c43a\",\"#f6c23a\",\"#f7c039\",\"#f8be39\",\"#f9bc39\",\"#f9ba38\",\"#fab737\",\"#fbb537\",\"#fbb336\",\"#fcb035\",\"#fcae34\",\"#fdab33\",\"#fda932\",\"#fda631\",\"#fda330\",\"#fea12f\",\"#fe9e2e\",\"#fe9b2d\",\"#fe982c\",\"#fd952b\",\"#fd9229\",\"#fd8f28\",\"#fd8c27\",\"#fc8926\",\"#fc8624\",\"#fb8323\",\"#fb8022\",\"#fa7d20\",\"#fa7a1f\",\"#f9771e\",\"#f8741c\",\"#f7711b\",\"#f76e1a\",\"#f66b18\",\"#f56817\",\"#f46516\",\"#f36315\",\"#f26014\",\"#f15d13\",\"#ef5a11\",\"#ee5810\",\"#ed550f\",\"#ec520e\",\"#ea500d\",\"#e94d0d\",\"#e84b0c\",\"#e6490b\",\"#e5460a\",\"#e3440a\",\"#e24209\",\"#e04008\",\"#de3e08\",\"#dd3c07\",\"#db3a07\",\"#d93806\",\"#d73606\",\"#d63405\",\"#d43205\",\"#d23005\",\"#d02f04\",\"#ce2d04\",\"#cb2b03\",\"#c92903\",\"#c72803\",\"#c52602\",\"#c32402\",\"#c02302\",\"#be2102\",\"#bb1f01\",\"#b91e01\",\"#b61c01\",\"#b41b01\",\"#b11901\",\"#ae1801\",\"#ac1601\",\"#a91501\",\"#a61401\",\"#a31201\",\"#a01101\",\"#9d1001\",\"#9a0e01\",\"#970d01\",\"#940c01\",\"#910b01\",\"#8e0a01\",\"#8b0901\",\"#870801\",\"#840701\",\"#810602\",\"#7d0502\",\"#7a0402\"],\"low\":33,\"high\":69}}},\"fill_color\":{\"type\":\"field\",\"field\":\"y_2_values\",\"transform\":{\"id\":\"p260897\"}},\"fill_alpha\":{\"type\":\"value\",\"value\":0.6}}},\"nonselection_glyph\":{\"type\":\"object\",\"name\":\"Circle\",\"id\":\"p260905\",\"attributes\":{\"x\":{\"type\":\"field\",\"field\":\"x\"},\"y\":{\"type\":\"field\",\"field\":\"y\"},\"size\":{\"type\":\"value\",\"value\":10},\"line_color\":{\"type\":\"field\",\"field\":\"y_2_values\",\"transform\":{\"id\":\"p260897\"}},\"line_alpha\":{\"type\":\"value\",\"value\":0.1},\"fill_color\":{\"type\":\"field\",\"field\":\"y_2_values\",\"transform\":{\"id\":\"p260897\"}},\"fill_alpha\":{\"type\":\"value\",\"value\":0.1},\"hatch_alpha\":{\"type\":\"value\",\"value\":0.1}}},\"muted_glyph\":{\"type\":\"object\",\"name\":\"Circle\",\"id\":\"p260906\",\"attributes\":{\"x\":{\"type\":\"field\",\"field\":\"x\"},\"y\":{\"type\":\"field\",\"field\":\"y\"},\"size\":{\"type\":\"value\",\"value\":10},\"line_color\":{\"type\":\"field\",\"field\":\"y_2_values\",\"transform\":{\"id\":\"p260897\"}},\"line_alpha\":{\"type\":\"value\",\"value\":0.2},\"fill_color\":{\"type\":\"field\",\"field\":\"y_2_values\",\"transform\":{\"id\":\"p260897\"}},\"fill_alpha\":{\"type\":\"value\",\"value\":0.2},\"hatch_alpha\":{\"type\":\"value\",\"value\":0.2}}}}}],\"toolbar\":{\"type\":\"object\",\"name\":\"Toolbar\",\"id\":\"p260809\",\"attributes\":{\"tools\":[{\"type\":\"object\",\"name\":\"PanTool\",\"id\":\"p260871\"},{\"type\":\"object\",\"name\":\"WheelZoomTool\",\"id\":\"p260872\"},{\"type\":\"object\",\"name\":\"BoxZoomTool\",\"id\":\"p260873\",\"attributes\":{\"overlay\":{\"type\":\"object\",\"name\":\"BoxAnnotation\",\"id\":\"p260874\",\"attributes\":{\"syncable\":false,\"level\":\"overlay\",\"visible\":false,\"left_units\":\"canvas\",\"right_units\":\"canvas\",\"bottom_units\":\"canvas\",\"top_units\":\"canvas\",\"line_color\":\"black\",\"line_alpha\":1.0,\"line_width\":2,\"line_dash\":[4,4],\"fill_color\":\"lightgrey\",\"fill_alpha\":0.5}}}},{\"type\":\"object\",\"name\":\"SaveTool\",\"id\":\"p260875\"},{\"type\":\"object\",\"name\":\"ResetTool\",\"id\":\"p260876\"},{\"type\":\"object\",\"name\":\"HelpTool\",\"id\":\"p260877\"}]}},\"left\":[{\"type\":\"object\",\"name\":\"LinearAxis\",\"id\":\"p260864\",\"attributes\":{\"ticker\":{\"type\":\"object\",\"name\":\"BasicTicker\",\"id\":\"p260867\",\"attributes\":{\"mantissas\":[1,2,5]}},\"formatter\":{\"type\":\"object\",\"name\":\"BasicTickFormatter\",\"id\":\"p260866\"},\"axis_label\":\"Percentage Change (%)\",\"axis_label_standoff\":10,\"axis_label_text_color\":\"#E0E0E0\",\"axis_label_text_font\":\"Helvetica\",\"axis_label_text_font_size\":\"1.25em\",\"axis_label_text_font_style\":\"normal\",\"major_label_policy\":{\"type\":\"object\",\"name\":\"AllLabels\",\"id\":\"p260865\"},\"major_label_text_color\":\"#E0E0E0\",\"major_label_text_font\":\"Helvetica\",\"major_label_text_font_size\":\"1.025em\",\"axis_line_color\":\"#E0E0E0\",\"axis_line_alpha\":0,\"major_tick_line_color\":\"#E0E0E0\",\"major_tick_line_alpha\":0,\"minor_tick_line_color\":\"#E0E0E0\",\"minor_tick_line_alpha\":0}}],\"right\":[{\"type\":\"object\",\"name\":\"ColorBar\",\"id\":\"p260911\",\"attributes\":{\"width\":8,\"title_text_color\":\"#E0E0E0\",\"title_text_font\":\"Helvetica\",\"title_text_font_size\":\"1.025em\",\"title_text_font_style\":\"normal\",\"major_label_policy\":{\"type\":\"object\",\"name\":\"NoOverlap\",\"id\":\"p260912\"},\"major_label_text_color\":\"#E0E0E0\",\"major_label_text_font\":\"Helvetica\",\"major_label_text_font_size\":\"1.025em\",\"major_tick_line_alpha\":0,\"bar_line_alpha\":0,\"background_fill_color\":\"#15191C\",\"color_mapper\":{\"id\":\"p260897\"}}}],\"below\":[{\"type\":\"object\",\"name\":\"DatetimeAxis\",\"id\":\"p260821\",\"attributes\":{\"ticker\":{\"type\":\"object\",\"name\":\"DatetimeTicker\",\"id\":\"p260824\",\"attributes\":{\"num_minor_ticks\":5,\"tickers\":[{\"type\":\"object\",\"name\":\"AdaptiveTicker\",\"id\":\"p260825\",\"attributes\":{\"num_minor_ticks\":0,\"mantissas\":[1,2,5],\"max_interval\":500.0}},{\"type\":\"object\",\"name\":\"AdaptiveTicker\",\"id\":\"p260826\",\"attributes\":{\"num_minor_ticks\":0,\"base\":60,\"mantissas\":[1,2,5,10,15,20,30],\"min_interval\":1000.0,\"max_interval\":1800000.0}},{\"type\":\"object\",\"name\":\"AdaptiveTicker\",\"id\":\"p260827\",\"attributes\":{\"num_minor_ticks\":0,\"base\":24,\"mantissas\":[1,2,4,6,8,12],\"min_interval\":3600000.0,\"max_interval\":43200000.0}},{\"type\":\"object\",\"name\":\"DaysTicker\",\"id\":\"p260828\",\"attributes\":{\"days\":[1,2,3,4,5,6,7,8,9,10,11,12,13,14,15,16,17,18,19,20,21,22,23,24,25,26,27,28,29,30,31]}},{\"type\":\"object\",\"name\":\"DaysTicker\",\"id\":\"p260829\",\"attributes\":{\"days\":[1,4,7,10,13,16,19,22,25,28]}},{\"type\":\"object\",\"name\":\"DaysTicker\",\"id\":\"p260830\",\"attributes\":{\"days\":[1,8,15,22]}},{\"type\":\"object\",\"name\":\"DaysTicker\",\"id\":\"p260831\",\"attributes\":{\"days\":[1,15]}},{\"type\":\"object\",\"name\":\"MonthsTicker\",\"id\":\"p260832\",\"attributes\":{\"months\":[0,1,2,3,4,5,6,7,8,9,10,11]}},{\"type\":\"object\",\"name\":\"MonthsTicker\",\"id\":\"p260833\",\"attributes\":{\"months\":[0,2,4,6,8,10]}},{\"type\":\"object\",\"name\":\"MonthsTicker\",\"id\":\"p260834\",\"attributes\":{\"months\":[0,4,8]}},{\"type\":\"object\",\"name\":\"MonthsTicker\",\"id\":\"p260835\",\"attributes\":{\"months\":[0,6]}},{\"type\":\"object\",\"name\":\"YearsTicker\",\"id\":\"p260836\"}]}},\"formatter\":{\"type\":\"object\",\"name\":\"DatetimeTickFormatter\",\"id\":\"p260913\",\"attributes\":{\"hours\":\"%H:%M\"}},\"axis_label\":\"Date-Time\",\"axis_label_standoff\":10,\"axis_label_text_color\":\"#E0E0E0\",\"axis_label_text_font\":\"Helvetica\",\"axis_label_text_font_size\":\"1.25em\",\"axis_label_text_font_style\":\"normal\",\"major_label_policy\":{\"type\":\"object\",\"name\":\"AllLabels\",\"id\":\"p260822\"},\"major_label_text_color\":\"#E0E0E0\",\"major_label_text_font\":\"Helvetica\",\"major_label_text_font_size\":\"1.025em\",\"axis_line_color\":\"#E0E0E0\",\"axis_line_alpha\":0,\"major_tick_line_color\":\"#E0E0E0\",\"major_tick_line_alpha\":0,\"minor_tick_line_color\":\"#E0E0E0\",\"minor_tick_line_alpha\":0}}],\"center\":[{\"type\":\"object\",\"name\":\"Grid\",\"id\":\"p260863\",\"attributes\":{\"axis\":{\"id\":\"p260821\"},\"grid_line_color\":\"#E0E0E0\",\"grid_line_alpha\":0.25}},{\"type\":\"object\",\"name\":\"Grid\",\"id\":\"p260870\",\"attributes\":{\"dimension\":1,\"axis\":{\"id\":\"p260864\"},\"grid_line_color\":\"#E0E0E0\",\"grid_line_alpha\":0.25}},{\"type\":\"object\",\"name\":\"Legend\",\"id\":\"p260895\",\"attributes\":{\"location\":\"top_left\",\"title\":\"Lines\",\"border_line_alpha\":0,\"background_fill_color\":\"#20262B\",\"background_fill_alpha\":0.25,\"label_text_color\":\"#E0E0E0\",\"label_text_font\":\"Helvetica\",\"label_text_font_size\":\"1.025em\",\"label_standoff\":8,\"glyph_width\":15,\"spacing\":8,\"items\":[{\"type\":\"object\",\"name\":\"LegendItem\",\"id\":\"p260896\",\"attributes\":{\"label\":{\"type\":\"value\",\"value\":\"Line 1\"},\"renderers\":[{\"id\":\"p260892\"}]}},{\"type\":\"object\",\"name\":\"LegendItem\",\"id\":\"p260910\",\"attributes\":{\"label\":{\"type\":\"value\",\"value\":\"Line 2\"},\"renderers\":[{\"id\":\"p260907\"}]}}]}}],\"background_fill_color\":\"#20262B\",\"border_fill_color\":\"#15191C\"}}],\"callbacks\":{\"type\":\"map\"}}};\n",
       "  const render_items = [{\"docid\":\"df3eb925-2ded-413b-a379-cd33095cbcdc\",\"roots\":{\"p260803\":\"d070f16f-4c17-4166-bc16-f87d7862f1b5\"},\"root_ids\":[\"p260803\"]}];\n",
       "  root.Bokeh.embed.embed_items_notebook(docs_json, render_items);\n",
       "  }\n",
       "  if (root.Bokeh !== undefined) {\n",
       "    embed_document(root);\n",
       "  } else {\n",
       "    let attempts = 0;\n",
       "    const timer = setInterval(function(root) {\n",
       "      if (root.Bokeh !== undefined) {\n",
       "        clearInterval(timer);\n",
       "        embed_document(root);\n",
       "      } else {\n",
       "        attempts++;\n",
       "        if (attempts > 100) {\n",
       "          clearInterval(timer);\n",
       "          console.log(\"Bokeh: ERROR: Unable to run BokehJS code because BokehJS library is missing\");\n",
       "        }\n",
       "      }\n",
       "    }, 10, root)\n",
       "  }\n",
       "})(window);"
      ],
      "application/vnd.bokehjs_exec.v0+json": ""
     },
     "metadata": {
      "application/vnd.bokehjs_exec.v0+json": {
       "id": "p260803"
      }
     },
     "output_type": "display_data"
    }
   ],
   "source": [
    "from bokeh.plotting import figure, show, curdoc\n",
    "from bokeh.models import DatetimeTickFormatter, ColumnDataSource, ColorBar\n",
    "from datetime import datetime\n",
    "import random\n",
    "from bokeh.transform import linear_cmap\n",
    "from bokeh.palettes import Turbo256\n",
    "\n",
    "# Dummy data representing different hour-minute values\n",
    "hour_minutes = [(1, 0), (2, 5), (3, 10), (4, 15), (5, 20), (9, 25)]\n",
    "\n",
    "# Create a list of datetime objects from the hour-minute values\n",
    "x_values = [datetime(datetime.now().year, datetime.now().month, datetime.now().day, hour, minute) for hour, minute in hour_minutes]\n",
    "y_1_values = [i for i in range(len(hour_minutes))]\n",
    "y_2_values = [random.randint(0, 100) for _ in range(len(hour_minutes))]\n",
    "\n",
    "# Create a figure\n",
    "p = figure(\n",
    "    title=\"Dhaka Stock Exchange Live Change\",\n",
    "    x_axis_type=\"datetime\",\n",
    "    sizing_mode=\"scale_both\",\n",
    "    max_width=900,\n",
    "    max_height=300,\n",
    "    width=900,\n",
    "    height=900\n",
    ")\n",
    "\n",
    "p.title.align = \"center\"\n",
    "# Set x-axis and y-axis labels\n",
    "p.xaxis.axis_label = \"Date-Time\"\n",
    "p.yaxis.axis_label = \"Percentage Change (%)\"\n",
    "\n",
    "# Add the line with varying colors based on values\n",
    "p.line(x_values, y_1_values, legend_label=\"Line 1\", line_color='yellow')\n",
    "\n",
    "# Create a color mapper for the scatter plot using y_2_values\n",
    "color_mapper = linear_cmap(field_name='y_2_values', palette=Turbo256, low=min(y_2_values), high=max(y_2_values))\n",
    "\n",
    "# Create a ColumnDataSource for the scatter plot\n",
    "source = ColumnDataSource(data=dict(x=x_values, y=y_2_values))\n",
    "\n",
    "# Add the scatter plot with continuous color mapping\n",
    "p.circle('x', 'y', source=source, legend_label=\"Line 2\", line_color=color_mapper, fill_color=color_mapper, fill_alpha=0.6, size=10)\n",
    "\n",
    "# Create a color bar to show the color mapping\n",
    "color_bar = ColorBar(color_mapper=color_mapper['transform'], width=8)\n",
    "p.add_layout(color_bar, 'right')\n",
    "\n",
    "# Customize the x-axis tick labels\n",
    "p.xaxis.formatter = DatetimeTickFormatter(hours=\"%H:%M\")\n",
    "\n",
    "curdoc().theme = 'dark_minimal'\n",
    "\n",
    "p.legend.title = 'Lines'\n",
    "p.legend.location = \"top_left\"  # Options: top_left, top_right, bottom_left, bottom_right, center, center_left, center_right\n",
    "\n",
    "# Show the plot\n",
    "show(p)\n"
   ]
  },
  {
   "cell_type": "code",
   "execution_count": 166,
   "id": "d0210cb3-3474-481e-abfa-5ebf09f82df5",
   "metadata": {},
   "outputs": [
    {
     "data": {
      "text/html": [
       "\n",
       "  <div id=\"d9ac6a84-e578-48f7-8604-2a3b5daba5d7\" data-root-id=\"p265607\" style=\"display: contents;\"></div>\n"
      ]
     },
     "metadata": {},
     "output_type": "display_data"
    },
    {
     "data": {
      "application/javascript": [
       "(function(root) {\n",
       "  function embed_document(root) {\n",
       "  const docs_json = {\"8d97ecc3-6144-44a5-870d-9c26fcec8811\":{\"version\":\"3.1.1\",\"title\":\"Bokeh Application\",\"defs\":[],\"roots\":[{\"type\":\"object\",\"name\":\"Figure\",\"id\":\"p265607\",\"attributes\":{\"width\":900,\"height\":900,\"x_range\":{\"type\":\"object\",\"name\":\"DataRange1d\",\"id\":\"p265608\"},\"y_range\":{\"type\":\"object\",\"name\":\"DataRange1d\",\"id\":\"p265609\"},\"x_scale\":{\"type\":\"object\",\"name\":\"LinearScale\",\"id\":\"p265620\"},\"y_scale\":{\"type\":\"object\",\"name\":\"LinearScale\",\"id\":\"p265622\"},\"title\":{\"type\":\"object\",\"name\":\"Title\",\"id\":\"p265614\",\"attributes\":{\"text_color\":\"#E0E0E0\",\"text_font\":\"Helvetica\",\"text_font_size\":\"1.15em\"}},\"outline_line_color\":\"#E0E0E0\",\"outline_line_alpha\":0.25,\"renderers\":[{\"type\":\"object\",\"name\":\"GlyphRenderer\",\"id\":\"p265659\",\"attributes\":{\"data_source\":{\"type\":\"object\",\"name\":\"ColumnDataSource\",\"id\":\"p265653\",\"attributes\":{\"selected\":{\"type\":\"object\",\"name\":\"Selection\",\"id\":\"p265655\",\"attributes\":{\"indices\":[],\"line_indices\":[]}},\"selection_policy\":{\"type\":\"object\",\"name\":\"UnionRenderers\",\"id\":\"p265654\"},\"data\":{\"type\":\"map\",\"entries\":[[\"x\",[-32,-31,-30,-29,-28,-27,-26,-25,-24,-23,-22,-21,-20,-19,-18,-17,-16,-15,-14,-13,-12,-11,-10,-9,-8,-7,-6,-5,-4,-3,-2,-1,0,1,2,3,4,5,6,7,8,9,10,11,12,13,14,15,16,17,18,19,20,21,22,23,24,25,26,27,28,29,30,31,32]],[\"y\",[1024,961,900,841,784,729,676,625,576,529,484,441,400,361,324,289,256,225,196,169,144,121,100,81,64,49,36,25,16,9,4,1,0,1,4,9,16,25,36,49,64,81,100,121,144,169,196,225,256,289,324,361,400,441,484,529,576,625,676,729,784,841,900,961,1024]]]}}},\"view\":{\"type\":\"object\",\"name\":\"CDSView\",\"id\":\"p265660\",\"attributes\":{\"filter\":{\"type\":\"object\",\"name\":\"AllIndices\",\"id\":\"p265661\"}}},\"glyph\":{\"type\":\"object\",\"name\":\"Circle\",\"id\":\"p265656\",\"attributes\":{\"x\":{\"type\":\"field\",\"field\":\"x\"},\"y\":{\"type\":\"field\",\"field\":\"y\"},\"size\":{\"type\":\"value\",\"value\":10},\"line_color\":{\"type\":\"field\",\"field\":\"y\",\"transform\":{\"type\":\"object\",\"name\":\"LinearColorMapper\",\"id\":\"p265606\",\"attributes\":{\"palette\":[\"#30123b\",\"#311542\",\"#32184a\",\"#341b51\",\"#351e58\",\"#36215f\",\"#372365\",\"#38266c\",\"#392972\",\"#3a2c79\",\"#3b2f7f\",\"#3c3285\",\"#3c358b\",\"#3d3791\",\"#3e3a96\",\"#3f3d9c\",\"#4040a1\",\"#4043a6\",\"#4145ab\",\"#4148b0\",\"#424bb5\",\"#434eba\",\"#4350be\",\"#4353c2\",\"#4456c7\",\"#4458cb\",\"#455bce\",\"#455ed2\",\"#4560d6\",\"#4563d9\",\"#4666dd\",\"#4668e0\",\"#466be3\",\"#466de6\",\"#4670e8\",\"#4673eb\",\"#4675ed\",\"#4678f0\",\"#467af2\",\"#467df4\",\"#467ff6\",\"#4682f8\",\"#4584f9\",\"#4587fb\",\"#4589fc\",\"#448cfd\",\"#438efd\",\"#4291fe\",\"#4193fe\",\"#4096fe\",\"#3f98fe\",\"#3e9bfe\",\"#3c9dfd\",\"#3ba0fc\",\"#39a2fc\",\"#38a5fb\",\"#36a8f9\",\"#34aaf8\",\"#33acf6\",\"#31aff5\",\"#2fb1f3\",\"#2db4f1\",\"#2bb6ef\",\"#2ab9ed\",\"#28bbeb\",\"#26bde9\",\"#25c0e6\",\"#23c2e4\",\"#21c4e1\",\"#20c6df\",\"#1ec9dc\",\"#1dcbda\",\"#1ccdd7\",\"#1bcfd4\",\"#1ad1d2\",\"#19d3cf\",\"#18d5cc\",\"#18d7ca\",\"#17d9c7\",\"#17dac4\",\"#17dcc2\",\"#17debf\",\"#18e0bd\",\"#18e1ba\",\"#19e3b8\",\"#1ae4b6\",\"#1be5b4\",\"#1de7b1\",\"#1ee8af\",\"#20e9ac\",\"#22eba9\",\"#24eca6\",\"#27eda3\",\"#29eea0\",\"#2cef9d\",\"#2ff09a\",\"#32f197\",\"#35f394\",\"#38f491\",\"#3bf48d\",\"#3ff58a\",\"#42f687\",\"#46f783\",\"#4af880\",\"#4df97c\",\"#51f979\",\"#55fa76\",\"#59fb72\",\"#5dfb6f\",\"#61fc6c\",\"#65fc68\",\"#69fd65\",\"#6dfd62\",\"#71fd5f\",\"#74fe5c\",\"#78fe59\",\"#7cfe56\",\"#80fe53\",\"#84fe50\",\"#87fe4d\",\"#8bfe4b\",\"#8efe48\",\"#92fe46\",\"#95fe44\",\"#98fe42\",\"#9bfd40\",\"#9efd3e\",\"#a1fc3d\",\"#a4fc3b\",\"#a6fb3a\",\"#a9fb39\",\"#acfa37\",\"#aef937\",\"#b1f836\",\"#b3f835\",\"#b6f735\",\"#b9f534\",\"#bbf434\",\"#bef334\",\"#c0f233\",\"#c3f133\",\"#c5ef33\",\"#c8ee33\",\"#caed33\",\"#cdeb34\",\"#cfea34\",\"#d1e834\",\"#d4e735\",\"#d6e535\",\"#d8e335\",\"#dae236\",\"#dde036\",\"#dfde36\",\"#e1dc37\",\"#e3da37\",\"#e5d838\",\"#e7d738\",\"#e8d538\",\"#ead339\",\"#ecd139\",\"#edcf39\",\"#efcd39\",\"#f0cb3a\",\"#f2c83a\",\"#f3c63a\",\"#f4c43a\",\"#f6c23a\",\"#f7c039\",\"#f8be39\",\"#f9bc39\",\"#f9ba38\",\"#fab737\",\"#fbb537\",\"#fbb336\",\"#fcb035\",\"#fcae34\",\"#fdab33\",\"#fda932\",\"#fda631\",\"#fda330\",\"#fea12f\",\"#fe9e2e\",\"#fe9b2d\",\"#fe982c\",\"#fd952b\",\"#fd9229\",\"#fd8f28\",\"#fd8c27\",\"#fc8926\",\"#fc8624\",\"#fb8323\",\"#fb8022\",\"#fa7d20\",\"#fa7a1f\",\"#f9771e\",\"#f8741c\",\"#f7711b\",\"#f76e1a\",\"#f66b18\",\"#f56817\",\"#f46516\",\"#f36315\",\"#f26014\",\"#f15d13\",\"#ef5a11\",\"#ee5810\",\"#ed550f\",\"#ec520e\",\"#ea500d\",\"#e94d0d\",\"#e84b0c\",\"#e6490b\",\"#e5460a\",\"#e3440a\",\"#e24209\",\"#e04008\",\"#de3e08\",\"#dd3c07\",\"#db3a07\",\"#d93806\",\"#d73606\",\"#d63405\",\"#d43205\",\"#d23005\",\"#d02f04\",\"#ce2d04\",\"#cb2b03\",\"#c92903\",\"#c72803\",\"#c52602\",\"#c32402\",\"#c02302\",\"#be2102\",\"#bb1f01\",\"#b91e01\",\"#b61c01\",\"#b41b01\",\"#b11901\",\"#ae1801\",\"#ac1601\",\"#a91501\",\"#a61401\",\"#a31201\",\"#a01101\",\"#9d1001\",\"#9a0e01\",\"#970d01\",\"#940c01\",\"#910b01\",\"#8e0a01\",\"#8b0901\",\"#870801\",\"#840701\",\"#810602\",\"#7d0502\",\"#7a0402\"],\"low\":0,\"high\":1024}}},\"fill_color\":{\"type\":\"field\",\"field\":\"y\",\"transform\":{\"id\":\"p265606\"}},\"hatch_color\":{\"type\":\"field\",\"field\":\"y\",\"transform\":{\"id\":\"p265606\"}}}},\"nonselection_glyph\":{\"type\":\"object\",\"name\":\"Circle\",\"id\":\"p265657\",\"attributes\":{\"x\":{\"type\":\"field\",\"field\":\"x\"},\"y\":{\"type\":\"field\",\"field\":\"y\"},\"size\":{\"type\":\"value\",\"value\":10},\"line_color\":{\"type\":\"field\",\"field\":\"y\",\"transform\":{\"id\":\"p265606\"}},\"line_alpha\":{\"type\":\"value\",\"value\":0.1},\"fill_color\":{\"type\":\"field\",\"field\":\"y\",\"transform\":{\"id\":\"p265606\"}},\"fill_alpha\":{\"type\":\"value\",\"value\":0.1},\"hatch_color\":{\"type\":\"field\",\"field\":\"y\",\"transform\":{\"id\":\"p265606\"}},\"hatch_alpha\":{\"type\":\"value\",\"value\":0.1}}},\"muted_glyph\":{\"type\":\"object\",\"name\":\"Circle\",\"id\":\"p265658\",\"attributes\":{\"x\":{\"type\":\"field\",\"field\":\"x\"},\"y\":{\"type\":\"field\",\"field\":\"y\"},\"size\":{\"type\":\"value\",\"value\":10},\"line_color\":{\"type\":\"field\",\"field\":\"y\",\"transform\":{\"id\":\"p265606\"}},\"line_alpha\":{\"type\":\"value\",\"value\":0.2},\"fill_color\":{\"type\":\"field\",\"field\":\"y\",\"transform\":{\"id\":\"p265606\"}},\"fill_alpha\":{\"type\":\"value\",\"value\":0.2},\"hatch_color\":{\"type\":\"field\",\"field\":\"y\",\"transform\":{\"id\":\"p265606\"}},\"hatch_alpha\":{\"type\":\"value\",\"value\":0.2}}}}}],\"toolbar\":{\"type\":\"object\",\"name\":\"Toolbar\",\"id\":\"p265611\",\"attributes\":{\"tools\":[{\"type\":\"object\",\"name\":\"PanTool\",\"id\":\"p265638\"},{\"type\":\"object\",\"name\":\"WheelZoomTool\",\"id\":\"p265639\"},{\"type\":\"object\",\"name\":\"BoxZoomTool\",\"id\":\"p265640\",\"attributes\":{\"overlay\":{\"type\":\"object\",\"name\":\"BoxAnnotation\",\"id\":\"p265641\",\"attributes\":{\"syncable\":false,\"level\":\"overlay\",\"visible\":false,\"left_units\":\"canvas\",\"right_units\":\"canvas\",\"bottom_units\":\"canvas\",\"top_units\":\"canvas\",\"line_color\":\"black\",\"line_alpha\":1.0,\"line_width\":2,\"line_dash\":[4,4],\"fill_color\":\"lightgrey\",\"fill_alpha\":0.5}}}},{\"type\":\"object\",\"name\":\"SaveTool\",\"id\":\"p265642\"},{\"type\":\"object\",\"name\":\"ResetTool\",\"id\":\"p265643\"},{\"type\":\"object\",\"name\":\"HelpTool\",\"id\":\"p265644\"}]}},\"left\":[{\"type\":\"object\",\"name\":\"LinearAxis\",\"id\":\"p265631\",\"attributes\":{\"ticker\":{\"type\":\"object\",\"name\":\"BasicTicker\",\"id\":\"p265634\",\"attributes\":{\"mantissas\":[1,2,5]}},\"formatter\":{\"type\":\"object\",\"name\":\"BasicTickFormatter\",\"id\":\"p265633\"},\"axis_label_standoff\":10,\"axis_label_text_color\":\"#E0E0E0\",\"axis_label_text_font\":\"Helvetica\",\"axis_label_text_font_size\":\"1.25em\",\"axis_label_text_font_style\":\"normal\",\"major_label_policy\":{\"type\":\"object\",\"name\":\"AllLabels\",\"id\":\"p265632\"},\"major_label_text_color\":\"#E0E0E0\",\"major_label_text_font\":\"Helvetica\",\"major_label_text_font_size\":\"1.025em\",\"axis_line_color\":\"#E0E0E0\",\"axis_line_alpha\":0,\"major_tick_line_color\":\"#E0E0E0\",\"major_tick_line_alpha\":0,\"minor_tick_line_color\":\"#E0E0E0\",\"minor_tick_line_alpha\":0}}],\"below\":[{\"type\":\"object\",\"name\":\"LinearAxis\",\"id\":\"p265624\",\"attributes\":{\"ticker\":{\"type\":\"object\",\"name\":\"BasicTicker\",\"id\":\"p265627\",\"attributes\":{\"mantissas\":[1,2,5]}},\"formatter\":{\"type\":\"object\",\"name\":\"BasicTickFormatter\",\"id\":\"p265626\"},\"axis_label_standoff\":10,\"axis_label_text_color\":\"#E0E0E0\",\"axis_label_text_font\":\"Helvetica\",\"axis_label_text_font_size\":\"1.25em\",\"axis_label_text_font_style\":\"normal\",\"major_label_policy\":{\"type\":\"object\",\"name\":\"AllLabels\",\"id\":\"p265625\"},\"major_label_text_color\":\"#E0E0E0\",\"major_label_text_font\":\"Helvetica\",\"major_label_text_font_size\":\"1.025em\",\"axis_line_color\":\"#E0E0E0\",\"axis_line_alpha\":0,\"major_tick_line_color\":\"#E0E0E0\",\"major_tick_line_alpha\":0,\"minor_tick_line_color\":\"#E0E0E0\",\"minor_tick_line_alpha\":0}}],\"center\":[{\"type\":\"object\",\"name\":\"Grid\",\"id\":\"p265630\",\"attributes\":{\"axis\":{\"id\":\"p265624\"},\"grid_line_color\":\"#E0E0E0\",\"grid_line_alpha\":0.25}},{\"type\":\"object\",\"name\":\"Grid\",\"id\":\"p265637\",\"attributes\":{\"dimension\":1,\"axis\":{\"id\":\"p265631\"},\"grid_line_color\":\"#E0E0E0\",\"grid_line_alpha\":0.25}}],\"background_fill_color\":\"#20262B\",\"border_fill_color\":\"#15191C\"}}],\"callbacks\":{\"type\":\"map\"}}};\n",
       "  const render_items = [{\"docid\":\"8d97ecc3-6144-44a5-870d-9c26fcec8811\",\"roots\":{\"p265607\":\"d9ac6a84-e578-48f7-8604-2a3b5daba5d7\"},\"root_ids\":[\"p265607\"]}];\n",
       "  root.Bokeh.embed.embed_items_notebook(docs_json, render_items);\n",
       "  }\n",
       "  if (root.Bokeh !== undefined) {\n",
       "    embed_document(root);\n",
       "  } else {\n",
       "    let attempts = 0;\n",
       "    const timer = setInterval(function(root) {\n",
       "      if (root.Bokeh !== undefined) {\n",
       "        clearInterval(timer);\n",
       "        embed_document(root);\n",
       "      } else {\n",
       "        attempts++;\n",
       "        if (attempts > 100) {\n",
       "          clearInterval(timer);\n",
       "          console.log(\"Bokeh: ERROR: Unable to run BokehJS code because BokehJS library is missing\");\n",
       "        }\n",
       "      }\n",
       "    }, 10, root)\n",
       "  }\n",
       "})(window);"
      ],
      "application/vnd.bokehjs_exec.v0+json": ""
     },
     "metadata": {
      "application/vnd.bokehjs_exec.v0+json": {
       "id": "p265607"
      }
     },
     "output_type": "display_data"
    }
   ],
   "source": [
    "from bokeh.plotting import figure, show\n",
    "from bokeh.palettes import Viridis, Turbo256\n",
    "from bokeh.transform import linear_cmap\n",
    "\n",
    "# Some Palettes are Dictionaries, Some are Lists\n",
    "\n",
    "# generate data\n",
    "\n",
    "x = list(range(-32, 33))\n",
    "y = [i**2 for i in x]\n",
    "\n",
    "# Create linear Color map, Expects a list\n",
    "mapper = linear_cmap(field_name=\"y\", palette=Turbo256, low=min(y), high=max(y))\n",
    "\n",
    "#Create plot\n",
    "p = figure(\n",
    "    width=900,\n",
    "    height=900\n",
    ")\n",
    "\n",
    "p.circle(x, y, color=mapper, size=10)\n",
    "\n",
    "show(p)"
   ]
  },
  {
   "cell_type": "code",
   "execution_count": 169,
   "id": "a20e8c02-9d40-4dfb-a377-7af4f43ad4fa",
   "metadata": {},
   "outputs": [
    {
     "data": {
      "text/html": [
       "\n",
       "  <div id=\"d9004652-5d1f-4939-b06f-f4a7a39ba410\" data-root-id=\"p280124\" style=\"display: contents;\"></div>\n"
      ]
     },
     "metadata": {},
     "output_type": "display_data"
    },
    {
     "data": {
      "application/javascript": [
       "(function(root) {\n",
       "  function embed_document(root) {\n",
       "  const docs_json = {\"f1515090-7d47-499d-984e-a8075a1b93a4\":{\"version\":\"3.1.1\",\"title\":\"Bokeh Application\",\"defs\":[],\"roots\":[{\"type\":\"object\",\"name\":\"Figure\",\"id\":\"p280124\",\"attributes\":{\"width\":900,\"height\":900,\"max_width\":900,\"max_height\":300,\"sizing_mode\":\"scale_both\",\"x_range\":{\"type\":\"object\",\"name\":\"DataRange1d\",\"id\":\"p280125\"},\"y_range\":{\"type\":\"object\",\"name\":\"DataRange1d\",\"id\":\"p280126\"},\"x_scale\":{\"type\":\"object\",\"name\":\"LinearScale\",\"id\":\"p280138\"},\"y_scale\":{\"type\":\"object\",\"name\":\"LinearScale\",\"id\":\"p280140\"},\"title\":{\"type\":\"object\",\"name\":\"Title\",\"id\":\"p280127\",\"attributes\":{\"text\":\"Dhaka Stock Exchange Live Change\",\"text_color\":\"#E0E0E0\",\"text_font\":\"Helvetica\",\"text_font_size\":\"1.15em\",\"align\":\"center\"}},\"outline_line_color\":\"#E0E0E0\",\"outline_line_alpha\":0.25,\"renderers\":[{\"type\":\"object\",\"name\":\"GlyphRenderer\",\"id\":\"p280213\",\"attributes\":{\"data_source\":{\"type\":\"object\",\"name\":\"ColumnDataSource\",\"id\":\"p280207\",\"attributes\":{\"selected\":{\"type\":\"object\",\"name\":\"Selection\",\"id\":\"p280209\",\"attributes\":{\"indices\":[],\"line_indices\":[]}},\"selection_policy\":{\"type\":\"object\",\"name\":\"UnionRenderers\",\"id\":\"p280208\"},\"data\":{\"type\":\"map\",\"entries\":[[\"x\",[1684458000000.0,1684461900000.0,1684465800000.0,1684469700000.0,1684473600000.0,1684488300000.0]],[\"y\",[0,1,2,3,4,5]]]}}},\"view\":{\"type\":\"object\",\"name\":\"CDSView\",\"id\":\"p280214\",\"attributes\":{\"filter\":{\"type\":\"object\",\"name\":\"AllIndices\",\"id\":\"p280215\"}}},\"glyph\":{\"type\":\"object\",\"name\":\"Circle\",\"id\":\"p280210\",\"attributes\":{\"x\":{\"type\":\"field\",\"field\":\"x\"},\"y\":{\"type\":\"field\",\"field\":\"y\"},\"line_color\":{\"type\":\"value\",\"value\":\"pink\"},\"fill_color\":{\"type\":\"value\",\"value\":\"#1f77b4\"}}},\"nonselection_glyph\":{\"type\":\"object\",\"name\":\"Circle\",\"id\":\"p280211\",\"attributes\":{\"x\":{\"type\":\"field\",\"field\":\"x\"},\"y\":{\"type\":\"field\",\"field\":\"y\"},\"line_color\":{\"type\":\"value\",\"value\":\"pink\"},\"line_alpha\":{\"type\":\"value\",\"value\":0.1},\"fill_color\":{\"type\":\"value\",\"value\":\"#1f77b4\"},\"fill_alpha\":{\"type\":\"value\",\"value\":0.1},\"hatch_alpha\":{\"type\":\"value\",\"value\":0.1}}},\"muted_glyph\":{\"type\":\"object\",\"name\":\"Circle\",\"id\":\"p280212\",\"attributes\":{\"x\":{\"type\":\"field\",\"field\":\"x\"},\"y\":{\"type\":\"field\",\"field\":\"y\"},\"line_color\":{\"type\":\"value\",\"value\":\"pink\"},\"line_alpha\":{\"type\":\"value\",\"value\":0.2},\"fill_color\":{\"type\":\"value\",\"value\":\"#1f77b4\"},\"fill_alpha\":{\"type\":\"value\",\"value\":0.2},\"hatch_alpha\":{\"type\":\"value\",\"value\":0.2}}}}},{\"type\":\"object\",\"name\":\"GlyphRenderer\",\"id\":\"p280225\",\"attributes\":{\"data_source\":{\"type\":\"object\",\"name\":\"ColumnDataSource\",\"id\":\"p280219\",\"attributes\":{\"selected\":{\"type\":\"object\",\"name\":\"Selection\",\"id\":\"p280221\",\"attributes\":{\"indices\":[],\"line_indices\":[]}},\"selection_policy\":{\"type\":\"object\",\"name\":\"UnionRenderers\",\"id\":\"p280220\"},\"data\":{\"type\":\"map\",\"entries\":[[\"x\",[1684458000000.0,1684461900000.0,1684465800000.0,1684469700000.0,1684473600000.0,1684488300000.0]],[\"y\",[0,1,2,3,4,5]]]}}},\"view\":{\"type\":\"object\",\"name\":\"CDSView\",\"id\":\"p280226\",\"attributes\":{\"filter\":{\"type\":\"object\",\"name\":\"AllIndices\",\"id\":\"p280227\"}}},\"glyph\":{\"type\":\"object\",\"name\":\"Line\",\"id\":\"p280222\",\"attributes\":{\"x\":{\"type\":\"field\",\"field\":\"x\"},\"y\":{\"type\":\"field\",\"field\":\"y\"},\"line_color\":\"yellow\"}},\"nonselection_glyph\":{\"type\":\"object\",\"name\":\"Line\",\"id\":\"p280223\",\"attributes\":{\"x\":{\"type\":\"field\",\"field\":\"x\"},\"y\":{\"type\":\"field\",\"field\":\"y\"},\"line_color\":\"yellow\",\"line_alpha\":0.1}},\"muted_glyph\":{\"type\":\"object\",\"name\":\"Line\",\"id\":\"p280224\",\"attributes\":{\"x\":{\"type\":\"field\",\"field\":\"x\"},\"y\":{\"type\":\"field\",\"field\":\"y\"},\"line_color\":\"yellow\",\"line_alpha\":0.2}}}},{\"type\":\"object\",\"name\":\"GlyphRenderer\",\"id\":\"p280234\",\"attributes\":{\"data_source\":{\"type\":\"object\",\"name\":\"ColumnDataSource\",\"id\":\"p280228\",\"attributes\":{\"selected\":{\"type\":\"object\",\"name\":\"Selection\",\"id\":\"p280230\",\"attributes\":{\"indices\":[],\"line_indices\":[]}},\"selection_policy\":{\"type\":\"object\",\"name\":\"UnionRenderers\",\"id\":\"p280229\"},\"data\":{\"type\":\"map\",\"entries\":[[\"x\",[1684458000000.0,1684461900000.0,1684465800000.0,1684469700000.0,1684473600000.0,1684488300000.0]],[\"y\",[27,18,43,81,34,19]]]}}},\"view\":{\"type\":\"object\",\"name\":\"CDSView\",\"id\":\"p280235\",\"attributes\":{\"filter\":{\"type\":\"object\",\"name\":\"AllIndices\",\"id\":\"p280236\"}}},\"glyph\":{\"type\":\"object\",\"name\":\"Scatter\",\"id\":\"p280231\",\"attributes\":{\"x\":{\"type\":\"field\",\"field\":\"x\"},\"y\":{\"type\":\"field\",\"field\":\"y\"},\"size\":{\"type\":\"value\",\"value\":10},\"line_color\":{\"type\":\"field\",\"field\":\"y\",\"transform\":{\"type\":\"object\",\"name\":\"LinearColorMapper\",\"id\":\"p280123\",\"attributes\":{\"palette\":[\"#30123b\",\"#311542\",\"#32184a\",\"#341b51\",\"#351e58\",\"#36215f\",\"#372365\",\"#38266c\",\"#392972\",\"#3a2c79\",\"#3b2f7f\",\"#3c3285\",\"#3c358b\",\"#3d3791\",\"#3e3a96\",\"#3f3d9c\",\"#4040a1\",\"#4043a6\",\"#4145ab\",\"#4148b0\",\"#424bb5\",\"#434eba\",\"#4350be\",\"#4353c2\",\"#4456c7\",\"#4458cb\",\"#455bce\",\"#455ed2\",\"#4560d6\",\"#4563d9\",\"#4666dd\",\"#4668e0\",\"#466be3\",\"#466de6\",\"#4670e8\",\"#4673eb\",\"#4675ed\",\"#4678f0\",\"#467af2\",\"#467df4\",\"#467ff6\",\"#4682f8\",\"#4584f9\",\"#4587fb\",\"#4589fc\",\"#448cfd\",\"#438efd\",\"#4291fe\",\"#4193fe\",\"#4096fe\",\"#3f98fe\",\"#3e9bfe\",\"#3c9dfd\",\"#3ba0fc\",\"#39a2fc\",\"#38a5fb\",\"#36a8f9\",\"#34aaf8\",\"#33acf6\",\"#31aff5\",\"#2fb1f3\",\"#2db4f1\",\"#2bb6ef\",\"#2ab9ed\",\"#28bbeb\",\"#26bde9\",\"#25c0e6\",\"#23c2e4\",\"#21c4e1\",\"#20c6df\",\"#1ec9dc\",\"#1dcbda\",\"#1ccdd7\",\"#1bcfd4\",\"#1ad1d2\",\"#19d3cf\",\"#18d5cc\",\"#18d7ca\",\"#17d9c7\",\"#17dac4\",\"#17dcc2\",\"#17debf\",\"#18e0bd\",\"#18e1ba\",\"#19e3b8\",\"#1ae4b6\",\"#1be5b4\",\"#1de7b1\",\"#1ee8af\",\"#20e9ac\",\"#22eba9\",\"#24eca6\",\"#27eda3\",\"#29eea0\",\"#2cef9d\",\"#2ff09a\",\"#32f197\",\"#35f394\",\"#38f491\",\"#3bf48d\",\"#3ff58a\",\"#42f687\",\"#46f783\",\"#4af880\",\"#4df97c\",\"#51f979\",\"#55fa76\",\"#59fb72\",\"#5dfb6f\",\"#61fc6c\",\"#65fc68\",\"#69fd65\",\"#6dfd62\",\"#71fd5f\",\"#74fe5c\",\"#78fe59\",\"#7cfe56\",\"#80fe53\",\"#84fe50\",\"#87fe4d\",\"#8bfe4b\",\"#8efe48\",\"#92fe46\",\"#95fe44\",\"#98fe42\",\"#9bfd40\",\"#9efd3e\",\"#a1fc3d\",\"#a4fc3b\",\"#a6fb3a\",\"#a9fb39\",\"#acfa37\",\"#aef937\",\"#b1f836\",\"#b3f835\",\"#b6f735\",\"#b9f534\",\"#bbf434\",\"#bef334\",\"#c0f233\",\"#c3f133\",\"#c5ef33\",\"#c8ee33\",\"#caed33\",\"#cdeb34\",\"#cfea34\",\"#d1e834\",\"#d4e735\",\"#d6e535\",\"#d8e335\",\"#dae236\",\"#dde036\",\"#dfde36\",\"#e1dc37\",\"#e3da37\",\"#e5d838\",\"#e7d738\",\"#e8d538\",\"#ead339\",\"#ecd139\",\"#edcf39\",\"#efcd39\",\"#f0cb3a\",\"#f2c83a\",\"#f3c63a\",\"#f4c43a\",\"#f6c23a\",\"#f7c039\",\"#f8be39\",\"#f9bc39\",\"#f9ba38\",\"#fab737\",\"#fbb537\",\"#fbb336\",\"#fcb035\",\"#fcae34\",\"#fdab33\",\"#fda932\",\"#fda631\",\"#fda330\",\"#fea12f\",\"#fe9e2e\",\"#fe9b2d\",\"#fe982c\",\"#fd952b\",\"#fd9229\",\"#fd8f28\",\"#fd8c27\",\"#fc8926\",\"#fc8624\",\"#fb8323\",\"#fb8022\",\"#fa7d20\",\"#fa7a1f\",\"#f9771e\",\"#f8741c\",\"#f7711b\",\"#f76e1a\",\"#f66b18\",\"#f56817\",\"#f46516\",\"#f36315\",\"#f26014\",\"#f15d13\",\"#ef5a11\",\"#ee5810\",\"#ed550f\",\"#ec520e\",\"#ea500d\",\"#e94d0d\",\"#e84b0c\",\"#e6490b\",\"#e5460a\",\"#e3440a\",\"#e24209\",\"#e04008\",\"#de3e08\",\"#dd3c07\",\"#db3a07\",\"#d93806\",\"#d73606\",\"#d63405\",\"#d43205\",\"#d23005\",\"#d02f04\",\"#ce2d04\",\"#cb2b03\",\"#c92903\",\"#c72803\",\"#c52602\",\"#c32402\",\"#c02302\",\"#be2102\",\"#bb1f01\",\"#b91e01\",\"#b61c01\",\"#b41b01\",\"#b11901\",\"#ae1801\",\"#ac1601\",\"#a91501\",\"#a61401\",\"#a31201\",\"#a01101\",\"#9d1001\",\"#9a0e01\",\"#970d01\",\"#940c01\",\"#910b01\",\"#8e0a01\",\"#8b0901\",\"#870801\",\"#840701\",\"#810602\",\"#7d0502\",\"#7a0402\"],\"low\":81,\"high\":18}}},\"fill_color\":{\"type\":\"field\",\"field\":\"y\",\"transform\":{\"id\":\"p280123\"}},\"hatch_color\":{\"type\":\"field\",\"field\":\"y\",\"transform\":{\"id\":\"p280123\"}},\"marker\":{\"type\":\"value\",\"value\":\"square\"}}},\"nonselection_glyph\":{\"type\":\"object\",\"name\":\"Scatter\",\"id\":\"p280232\",\"attributes\":{\"x\":{\"type\":\"field\",\"field\":\"x\"},\"y\":{\"type\":\"field\",\"field\":\"y\"},\"size\":{\"type\":\"value\",\"value\":10},\"line_color\":{\"type\":\"field\",\"field\":\"y\",\"transform\":{\"id\":\"p280123\"}},\"line_alpha\":{\"type\":\"value\",\"value\":0.1},\"fill_color\":{\"type\":\"field\",\"field\":\"y\",\"transform\":{\"id\":\"p280123\"}},\"fill_alpha\":{\"type\":\"value\",\"value\":0.1},\"hatch_color\":{\"type\":\"field\",\"field\":\"y\",\"transform\":{\"id\":\"p280123\"}},\"hatch_alpha\":{\"type\":\"value\",\"value\":0.1},\"marker\":{\"type\":\"value\",\"value\":\"square\"}}},\"muted_glyph\":{\"type\":\"object\",\"name\":\"Scatter\",\"id\":\"p280233\",\"attributes\":{\"x\":{\"type\":\"field\",\"field\":\"x\"},\"y\":{\"type\":\"field\",\"field\":\"y\"},\"size\":{\"type\":\"value\",\"value\":10},\"line_color\":{\"type\":\"field\",\"field\":\"y\",\"transform\":{\"id\":\"p280123\"}},\"line_alpha\":{\"type\":\"value\",\"value\":0.2},\"fill_color\":{\"type\":\"field\",\"field\":\"y\",\"transform\":{\"id\":\"p280123\"}},\"fill_alpha\":{\"type\":\"value\",\"value\":0.2},\"hatch_color\":{\"type\":\"field\",\"field\":\"y\",\"transform\":{\"id\":\"p280123\"}},\"hatch_alpha\":{\"type\":\"value\",\"value\":0.2},\"marker\":{\"type\":\"value\",\"value\":\"square\"}}}}},{\"type\":\"object\",\"name\":\"GlyphRenderer\",\"id\":\"p280244\",\"attributes\":{\"data_source\":{\"type\":\"object\",\"name\":\"ColumnDataSource\",\"id\":\"p280238\",\"attributes\":{\"selected\":{\"type\":\"object\",\"name\":\"Selection\",\"id\":\"p280240\",\"attributes\":{\"indices\":[],\"line_indices\":[]}},\"selection_policy\":{\"type\":\"object\",\"name\":\"UnionRenderers\",\"id\":\"p280239\"},\"data\":{\"type\":\"map\",\"entries\":[[\"x\",[1684458000000.0,1684461900000.0,1684465800000.0,1684469700000.0,1684473600000.0,1684488300000.0]],[\"y\",[27,18,43,81,34,19]]]}}},\"view\":{\"type\":\"object\",\"name\":\"CDSView\",\"id\":\"p280245\",\"attributes\":{\"filter\":{\"type\":\"object\",\"name\":\"AllIndices\",\"id\":\"p280246\"}}},\"glyph\":{\"type\":\"object\",\"name\":\"Line\",\"id\":\"p280241\",\"attributes\":{\"x\":{\"type\":\"field\",\"field\":\"x\"},\"y\":{\"type\":\"field\",\"field\":\"y\"},\"line_color\":\"purple\"}},\"nonselection_glyph\":{\"type\":\"object\",\"name\":\"Line\",\"id\":\"p280242\",\"attributes\":{\"x\":{\"type\":\"field\",\"field\":\"x\"},\"y\":{\"type\":\"field\",\"field\":\"y\"},\"line_color\":\"purple\",\"line_alpha\":0.1}},\"muted_glyph\":{\"type\":\"object\",\"name\":\"Line\",\"id\":\"p280243\",\"attributes\":{\"x\":{\"type\":\"field\",\"field\":\"x\"},\"y\":{\"type\":\"field\",\"field\":\"y\"},\"line_color\":\"purple\",\"line_alpha\":0.2}}}}],\"toolbar\":{\"type\":\"object\",\"name\":\"Toolbar\",\"id\":\"p280130\",\"attributes\":{\"tools\":[{\"type\":\"object\",\"name\":\"PanTool\",\"id\":\"p280192\"},{\"type\":\"object\",\"name\":\"WheelZoomTool\",\"id\":\"p280193\"},{\"type\":\"object\",\"name\":\"BoxZoomTool\",\"id\":\"p280194\",\"attributes\":{\"overlay\":{\"type\":\"object\",\"name\":\"BoxAnnotation\",\"id\":\"p280195\",\"attributes\":{\"syncable\":false,\"level\":\"overlay\",\"visible\":false,\"left_units\":\"canvas\",\"right_units\":\"canvas\",\"bottom_units\":\"canvas\",\"top_units\":\"canvas\",\"line_color\":\"black\",\"line_alpha\":1.0,\"line_width\":2,\"line_dash\":[4,4],\"fill_color\":\"lightgrey\",\"fill_alpha\":0.5}}}},{\"type\":\"object\",\"name\":\"SaveTool\",\"id\":\"p280196\"},{\"type\":\"object\",\"name\":\"ResetTool\",\"id\":\"p280197\"},{\"type\":\"object\",\"name\":\"HelpTool\",\"id\":\"p280198\"}]}},\"left\":[{\"type\":\"object\",\"name\":\"LinearAxis\",\"id\":\"p280185\",\"attributes\":{\"ticker\":{\"type\":\"object\",\"name\":\"BasicTicker\",\"id\":\"p280188\",\"attributes\":{\"mantissas\":[1,2,5]}},\"formatter\":{\"type\":\"object\",\"name\":\"BasicTickFormatter\",\"id\":\"p280187\"},\"axis_label\":\"Percentage Change (%)\",\"axis_label_standoff\":10,\"axis_label_text_color\":\"#E0E0E0\",\"axis_label_text_font\":\"Helvetica\",\"axis_label_text_font_size\":\"1.25em\",\"axis_label_text_font_style\":\"normal\",\"major_label_policy\":{\"type\":\"object\",\"name\":\"AllLabels\",\"id\":\"p280186\"},\"major_label_text_color\":\"#E0E0E0\",\"major_label_text_font\":\"Helvetica\",\"major_label_text_font_size\":\"1.025em\",\"axis_line_color\":\"#E0E0E0\",\"axis_line_alpha\":0,\"major_tick_line_color\":\"#E0E0E0\",\"major_tick_line_alpha\":0,\"minor_tick_line_color\":\"#E0E0E0\",\"minor_tick_line_alpha\":0}}],\"below\":[{\"type\":\"object\",\"name\":\"DatetimeAxis\",\"id\":\"p280142\",\"attributes\":{\"ticker\":{\"type\":\"object\",\"name\":\"DatetimeTicker\",\"id\":\"p280145\",\"attributes\":{\"num_minor_ticks\":5,\"tickers\":[{\"type\":\"object\",\"name\":\"AdaptiveTicker\",\"id\":\"p280146\",\"attributes\":{\"num_minor_ticks\":0,\"mantissas\":[1,2,5],\"max_interval\":500.0}},{\"type\":\"object\",\"name\":\"AdaptiveTicker\",\"id\":\"p280147\",\"attributes\":{\"num_minor_ticks\":0,\"base\":60,\"mantissas\":[1,2,5,10,15,20,30],\"min_interval\":1000.0,\"max_interval\":1800000.0}},{\"type\":\"object\",\"name\":\"AdaptiveTicker\",\"id\":\"p280148\",\"attributes\":{\"num_minor_ticks\":0,\"base\":24,\"mantissas\":[1,2,4,6,8,12],\"min_interval\":3600000.0,\"max_interval\":43200000.0}},{\"type\":\"object\",\"name\":\"DaysTicker\",\"id\":\"p280149\",\"attributes\":{\"days\":[1,2,3,4,5,6,7,8,9,10,11,12,13,14,15,16,17,18,19,20,21,22,23,24,25,26,27,28,29,30,31]}},{\"type\":\"object\",\"name\":\"DaysTicker\",\"id\":\"p280150\",\"attributes\":{\"days\":[1,4,7,10,13,16,19,22,25,28]}},{\"type\":\"object\",\"name\":\"DaysTicker\",\"id\":\"p280151\",\"attributes\":{\"days\":[1,8,15,22]}},{\"type\":\"object\",\"name\":\"DaysTicker\",\"id\":\"p280152\",\"attributes\":{\"days\":[1,15]}},{\"type\":\"object\",\"name\":\"MonthsTicker\",\"id\":\"p280153\",\"attributes\":{\"months\":[0,1,2,3,4,5,6,7,8,9,10,11]}},{\"type\":\"object\",\"name\":\"MonthsTicker\",\"id\":\"p280154\",\"attributes\":{\"months\":[0,2,4,6,8,10]}},{\"type\":\"object\",\"name\":\"MonthsTicker\",\"id\":\"p280155\",\"attributes\":{\"months\":[0,4,8]}},{\"type\":\"object\",\"name\":\"MonthsTicker\",\"id\":\"p280156\",\"attributes\":{\"months\":[0,6]}},{\"type\":\"object\",\"name\":\"YearsTicker\",\"id\":\"p280157\"}]}},\"formatter\":{\"type\":\"object\",\"name\":\"DatetimeTickFormatter\",\"id\":\"p280247\",\"attributes\":{\"hours\":\"%H:%M\"}},\"axis_label\":\"Date-Time\",\"axis_label_standoff\":10,\"axis_label_text_color\":\"#E0E0E0\",\"axis_label_text_font\":\"Helvetica\",\"axis_label_text_font_size\":\"1.25em\",\"axis_label_text_font_style\":\"normal\",\"major_label_policy\":{\"type\":\"object\",\"name\":\"AllLabels\",\"id\":\"p280143\"},\"major_label_text_color\":\"#E0E0E0\",\"major_label_text_font\":\"Helvetica\",\"major_label_text_font_size\":\"1.025em\",\"axis_line_color\":\"#E0E0E0\",\"axis_line_alpha\":0,\"major_tick_line_color\":\"#E0E0E0\",\"major_tick_line_alpha\":0,\"minor_tick_line_color\":\"#E0E0E0\",\"minor_tick_line_alpha\":0}}],\"center\":[{\"type\":\"object\",\"name\":\"Grid\",\"id\":\"p280184\",\"attributes\":{\"axis\":{\"id\":\"p280142\"},\"grid_line_color\":\"#E0E0E0\",\"grid_line_alpha\":0.25}},{\"type\":\"object\",\"name\":\"Grid\",\"id\":\"p280191\",\"attributes\":{\"dimension\":1,\"axis\":{\"id\":\"p280185\"},\"grid_line_color\":\"#E0E0E0\",\"grid_line_alpha\":0.25}},{\"type\":\"object\",\"name\":\"Legend\",\"id\":\"p280216\",\"attributes\":{\"location\":\"top_left\",\"title\":\"Lines\",\"border_line_alpha\":0,\"background_fill_color\":\"#20262B\",\"background_fill_alpha\":0.25,\"label_text_color\":\"#E0E0E0\",\"label_text_font\":\"Helvetica\",\"label_text_font_size\":\"1.025em\",\"label_standoff\":8,\"glyph_width\":15,\"spacing\":8,\"items\":[{\"type\":\"object\",\"name\":\"LegendItem\",\"id\":\"p280217\",\"attributes\":{\"label\":{\"type\":\"value\",\"value\":\"Line 1\"},\"renderers\":[{\"id\":\"p280213\"},{\"id\":\"p280225\"}]}},{\"type\":\"object\",\"name\":\"LegendItem\",\"id\":\"p280237\",\"attributes\":{\"label\":{\"type\":\"value\",\"value\":\"Line 2\"},\"renderers\":[{\"id\":\"p280234\"},{\"id\":\"p280244\"}]}}]}}],\"background_fill_color\":\"#20262B\",\"border_fill_color\":\"#15191C\"}}],\"callbacks\":{\"type\":\"map\"}}};\n",
       "  const render_items = [{\"docid\":\"f1515090-7d47-499d-984e-a8075a1b93a4\",\"roots\":{\"p280124\":\"d9004652-5d1f-4939-b06f-f4a7a39ba410\"},\"root_ids\":[\"p280124\"]}];\n",
       "  root.Bokeh.embed.embed_items_notebook(docs_json, render_items);\n",
       "  }\n",
       "  if (root.Bokeh !== undefined) {\n",
       "    embed_document(root);\n",
       "  } else {\n",
       "    let attempts = 0;\n",
       "    const timer = setInterval(function(root) {\n",
       "      if (root.Bokeh !== undefined) {\n",
       "        clearInterval(timer);\n",
       "        embed_document(root);\n",
       "      } else {\n",
       "        attempts++;\n",
       "        if (attempts > 100) {\n",
       "          clearInterval(timer);\n",
       "          console.log(\"Bokeh: ERROR: Unable to run BokehJS code because BokehJS library is missing\");\n",
       "        }\n",
       "      }\n",
       "    }, 10, root)\n",
       "  }\n",
       "})(window);"
      ],
      "application/vnd.bokehjs_exec.v0+json": ""
     },
     "metadata": {
      "application/vnd.bokehjs_exec.v0+json": {
       "id": "p280124"
      }
     },
     "output_type": "display_data"
    }
   ],
   "source": [
    "from bokeh.plotting import figure, show, curdoc\n",
    "from bokeh.models import DatetimeTickFormatter\n",
    "from datetime import datetime\n",
    "import random\n",
    "from bokeh.models import ContinuousColorMapper\n",
    "from bokeh.palettes import Viridis256\n",
    "from bokeh.transform import linear_cmap\n",
    "from bokeh.palettes import Turbo256\n",
    "from bokeh.palettes import Category10, Category20, Category20b, Category20c\n",
    "\n",
    "\n",
    "\n",
    "\n",
    "# Dummy data representing different hour-minute values\n",
    "hour_minutes = [(1, 0), (2, 5), (3, 10), (4, 15), (5, 20), (9, 25)]\n",
    "\n",
    "# Create a list of datetime objects from the hour-minute values\n",
    "x_values = [datetime(datetime.now().year, datetime.now().month, datetime.now().day, hour, minute) for hour, minute in hour_minutes]\n",
    "y_1_values = [i for i in range(len(hour_minutes))]\n",
    "y_2_values = [random.randint(0, 100) for _ in range(len(hour_minutes))]\n",
    "\n",
    "mapper = linear_cmap(field_name=\"y\", palette=Turbo256, low=max(y_2_values), high=min(y_2_values))\n",
    "\n",
    "# Create a figure\n",
    "# p = figure(x_axis_type=\"datetime\")\n",
    "\n",
    "# create figure\n",
    "p = figure(\n",
    "    title=\"Dhaka Stock Exchange Live Change\",\n",
    "    x_axis_type=\"datetime\",\n",
    "    sizing_mode=\"scale_both\",\n",
    "\n",
    "    # Comment the width heights later\n",
    "    max_width=900,\n",
    "    max_height = 300,\n",
    "    width=900,\n",
    "    height=900\n",
    "    \n",
    ")\n",
    "\n",
    "p.title.align = \"center\"\n",
    "# Set x-axis and y-axis labels\n",
    "p.xaxis.axis_label = \"Date-Time\"\n",
    "p.yaxis.axis_label = \"Percentage Change (%)\"\n",
    "\n",
    "\n",
    "\n",
    "p.circle(x_values, y_1_values, legend_label=\"Line 1\", line_color=\n",
    "         'pink'\n",
    "      # line_color={'field': 'y_1_values', 'transform': color_mapper}\n",
    "        )\n",
    "\n",
    "\n",
    "# Define the color mapping based on y_1_values\n",
    "colors = Turbo256\n",
    "color_mapper = LinearColorMapper(palette=Viridis256, low=min(y_1_values), high=max(y_1_values))\n",
    "\n",
    "\n",
    "# Add the line with varying colors based on values\n",
    "p.line(x_values, y_1_values, legend_label=\"Line 1\", \n",
    "       line_color=\n",
    "       'yellow'\n",
    "       # color= Category10[10]\n",
    "      #  {'field': 'y_1_values', 'transform': color_mapper}\n",
    "      )\n",
    "\n",
    "\n",
    "p.square(x_values, y_2_values, legend_label=\"Line 2\", \n",
    "         # line_color='green'\n",
    "        color=mapper, size=10\n",
    "        )\n",
    "\n",
    "p.line(x_values, y_2_values, legend_label=\"Line 2\",\n",
    "      line_color=\n",
    "       # {'field': 'y_2_values', 'transform': color_mapper}\n",
    "       'purple'\n",
    "\n",
    "       # linear_cmap('y_2_values', palette=color_mapper.palette, low=min(y_2_values), high=max(y_2_values))\n",
    "      )\n",
    "\n",
    "\n",
    "\n",
    "# Customize the x-axis tick labels\n",
    "p.xaxis.formatter = DatetimeTickFormatter(hours=\"%H:%M\")\n",
    "\n",
    "curdoc().theme = 'dark_minimal'\n",
    "\n",
    "p.legend.title = 'Lines'\n",
    "p.legend.location = \"top_left\"  # Options: top_left, top_right, bottom_left, bottom_right, center, center_left, center_right\n",
    "\n",
    "\n",
    "\n",
    "# Show the plot\n",
    "show(p)\n"
   ]
  },
  {
   "cell_type": "code",
   "execution_count": null,
   "id": "02a1a187-fef6-4906-9dd0-0838c7d3506d",
   "metadata": {},
   "outputs": [],
   "source": []
  }
 ],
 "metadata": {
  "kernelspec": {
   "display_name": "Python 3 (ipykernel)",
   "language": "python",
   "name": "python3"
  },
  "language_info": {
   "codemirror_mode": {
    "name": "ipython",
    "version": 3
   },
   "file_extension": ".py",
   "mimetype": "text/x-python",
   "name": "python",
   "nbconvert_exporter": "python",
   "pygments_lexer": "ipython3",
   "version": "3.10.6"
  }
 },
 "nbformat": 4,
 "nbformat_minor": 5
}
