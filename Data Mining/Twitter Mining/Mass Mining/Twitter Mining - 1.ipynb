{
 "cells": [
  {
   "cell_type": "code",
   "execution_count": 38,
   "metadata": {},
   "outputs": [],
   "source": [
    "consumer_key='4fsyL9GWIQkbXi9hHJcVDpm4L'\n",
    "consumer_secret='ekOHjtbvWCltUTkMX9qC3YwxAZmU9QgnIetKd1hfzMLKP41HIn'\n",
    "access_token_key='149863732-hCncnsL7EDkgaujC5WRZl3oGCYNaaCDttyjcYVxU'\n",
    "access_token_secret='AcELcldQyLIIKz78LLr6JYiscjRBMJKM7b6CLA1gg86rS'"
   ]
  },
  {
   "cell_type": "code",
   "execution_count": 2,
   "metadata": {},
   "outputs": [],
   "source": [
    "import twitter"
   ]
  },
  {
   "cell_type": "code",
   "execution_count": 3,
   "metadata": {},
   "outputs": [],
   "source": [
    "api = twitter.Api(consumer_key,\n",
    "                      consumer_secret,\n",
    "                      access_token_key,\n",
    "                      access_token_secret)"
   ]
  },
  {
   "cell_type": "code",
   "execution_count": 5,
   "metadata": {},
   "outputs": [],
   "source": [
    "credentials = api.VerifyCredentials()"
   ]
  },
  {
   "cell_type": "code",
   "execution_count": 6,
   "metadata": {},
   "outputs": [
    {
     "name": "stdout",
     "output_type": "stream",
     "text": [
      "('{\"created_at\": \"Sun May 30 12:36:34 +0000 2010\", \"favourites_count\": 346, '\n",
      " '\"followers_count\": 86, \"friends_count\": 695, \"geo_enabled\": true, \"id\": '\n",
      " '149863732, \"lang\": \"en\", \"listed_count\": 2, \"name\": \"Essence Primus\", '\n",
      " '\"profile_background_color\": \"000000\", \"profile_background_image_url\": '\n",
      " '\"http://abs.twimg.com/images/themes/theme1/bg.png\", \"profile_banner_url\": '\n",
      " '\"https://pbs.twimg.com/profile_banners/149863732/1520207671\", '\n",
      " '\"profile_image_url\": '\n",
      " '\"http://pbs.twimg.com/profile_images/970447491282841600/QWPlQw5r_normal.jpg\", '\n",
      " '\"profile_link_color\": \"FAB81E\", \"profile_sidebar_fill_color\": \"000000\", '\n",
      " '\"profile_text_color\": \"000000\", \"screen_name\": \"essenceprimus\", \"status\": '\n",
      " '{\"created_at\": \"Wed May 23 14:39:24 +0000 2018\", \"id\": 999298756255203328, '\n",
      " '\"id_str\": \"999298756255203328\", \"in_reply_to_screen_name\": \"_Zeets\", '\n",
      " '\"in_reply_to_status_id\": 922148512787247107, \"in_reply_to_user_id\": '\n",
      " '45646060, \"lang\": \"en\", \"source\": \"<a href=\\\\\"http://twitter.com\\\\\" '\n",
      " 'rel=\\\\\"nofollow\\\\\">Twitter Web Client</a>\", \"text\": \"@_Zeets test\"}, '\n",
      " '\"statuses_count\": 36174}')\n"
     ]
    }
   ],
   "source": [
    "import pprint\n",
    "\n",
    "pprint.pprint(credentials.AsJsonString())"
   ]
  },
  {
   "cell_type": "code",
   "execution_count": 7,
   "metadata": {},
   "outputs": [],
   "source": [
    "rt_1 = api.GetRetweets(statusid='988016857251631104')"
   ]
  },
  {
   "cell_type": "code",
   "execution_count": 9,
   "metadata": {},
   "outputs": [
    {
     "data": {
      "text/plain": [
       "19"
      ]
     },
     "execution_count": 9,
     "metadata": {},
     "output_type": "execute_result"
    }
   ],
   "source": [
    "len(rt_1)"
   ]
  },
  {
   "cell_type": "code",
   "execution_count": 10,
   "metadata": {},
   "outputs": [
    {
     "data": {
      "text/plain": [
       "[Status(ID=999534867590385665, ScreenName=separata16, Created=Thu May 24 06:17:37 +0000 2018, Text=\"RT @Nike: 1, 2, 3. Men's and Women's in London. \\n\\U0001f947\\U0001f948\\U0001f949 #JustDoIt \\n\\n@EliudKipchoge \\nTola Shura Kitata \\n@Mo_Farah \\n\\n@VivianCheruiyot \\nBrigid Ko…\"),\n",
       " Status(ID=999296208802865153, ScreenName=rhs_043363, Created=Wed May 23 14:29:16 +0000 2018, Text=\"RT @Nike: 1, 2, 3. Men's and Women's in London. \\n\\U0001f947\\U0001f948\\U0001f949 #JustDoIt \\n\\n@EliudKipchoge \\nTola Shura Kitata \\n@Mo_Farah \\n\\n@VivianCheruiyot \\nBrigid Ko…\"),\n",
       " Status(ID=998936742567661568, ScreenName=ML3BM, Created=Tue May 22 14:40:53 +0000 2018, Text=\"RT @Nike: 1, 2, 3. Men's and Women's in London. \\n\\U0001f947\\U0001f948\\U0001f949 #JustDoIt \\n\\n@EliudKipchoge \\nTola Shura Kitata \\n@Mo_Farah \\n\\n@VivianCheruiyot \\nBrigid Ko…\"),\n",
       " Status(ID=998603647029268481, ScreenName=Rainbowgmailco1, Created=Mon May 21 16:37:17 +0000 2018, Text=\"RT @Nike: 1, 2, 3. Men's and Women's in London. \\n\\U0001f947\\U0001f948\\U0001f949 #JustDoIt \\n\\n@EliudKipchoge \\nTola Shura Kitata \\n@Mo_Farah \\n\\n@VivianCheruiyot \\nBrigid Ko…\"),\n",
       " Status(ID=998361031155085317, ScreenName=Otto74268407, Created=Mon May 21 00:33:13 +0000 2018, Text=\"RT @Nike: 1, 2, 3. Men's and Women's in London. \\n\\U0001f947\\U0001f948\\U0001f949 #JustDoIt \\n\\n@EliudKipchoge \\nTola Shura Kitata \\n@Mo_Farah \\n\\n@VivianCheruiyot \\nBrigid Ko…\"),\n",
       " Status(ID=997887584075468801, ScreenName=louiselane01, Created=Sat May 19 17:11:54 +0000 2018, Text=\"RT @Nike: 1, 2, 3. Men's and Women's in London. \\n\\U0001f947\\U0001f948\\U0001f949 #JustDoIt \\n\\n@EliudKipchoge \\nTola Shura Kitata \\n@Mo_Farah \\n\\n@VivianCheruiyot \\nBrigid Ko…\"),\n",
       " Status(ID=996870815567118336, ScreenName=NY_SportsMoney_, Created=Wed May 16 21:51:38 +0000 2018, Text=\"RT @Nike: 1, 2, 3. Men's and Women's in London. \\n\\U0001f947\\U0001f948\\U0001f949 #JustDoIt \\n\\n@EliudKipchoge \\nTola Shura Kitata \\n@Mo_Farah \\n\\n@VivianCheruiyot \\nBrigid Ko…\"),\n",
       " Status(ID=996144992396742656, ScreenName=Arez_YSL, Created=Mon May 14 21:47:28 +0000 2018, Text=\"RT @Nike: 1, 2, 3. Men's and Women's in London. \\n\\U0001f947\\U0001f948\\U0001f949 #JustDoIt \\n\\n@EliudKipchoge \\nTola Shura Kitata \\n@Mo_Farah \\n\\n@VivianCheruiyot \\nBrigid Ko…\"),\n",
       " Status(ID=996062030711926784, ScreenName=rhs_043363, Created=Mon May 14 16:17:48 +0000 2018, Text=\"RT @Nike: 1, 2, 3. Men's and Women's in London. \\n\\U0001f947\\U0001f948\\U0001f949 #JustDoIt \\n\\n@EliudKipchoge \\nTola Shura Kitata \\n@Mo_Farah \\n\\n@VivianCheruiyot \\nBrigid Ko…\"),\n",
       " Status(ID=995985447783452674, ScreenName=DesfoursA, Created=Mon May 14 11:13:29 +0000 2018, Text=\"RT @Nike: 1, 2, 3. Men's and Women's in London. \\n\\U0001f947\\U0001f948\\U0001f949 #JustDoIt \\n\\n@EliudKipchoge \\nTola Shura Kitata \\n@Mo_Farah \\n\\n@VivianCheruiyot \\nBrigid Ko…\"),\n",
       " Status(ID=995670097074311168, ScreenName=MontDogg75, Created=Sun May 13 14:20:24 +0000 2018, Text=\"RT @Nike: 1, 2, 3. Men's and Women's in London. \\n\\U0001f947\\U0001f948\\U0001f949 #JustDoIt \\n\\n@EliudKipchoge \\nTola Shura Kitata \\n@Mo_Farah \\n\\n@VivianCheruiyot \\nBrigid Ko…\"),\n",
       " Status(ID=994836844503359491, ScreenName=AdvaniLakshya, Created=Fri May 11 07:09:21 +0000 2018, Text=\"RT @Nike: 1, 2, 3. Men's and Women's in London. \\n\\U0001f947\\U0001f948\\U0001f949 #JustDoIt \\n\\n@EliudKipchoge \\nTola Shura Kitata \\n@Mo_Farah \\n\\n@VivianCheruiyot \\nBrigid Ko…\"),\n",
       " Status(ID=994586987226062848, ScreenName=rhs_043363, Created=Thu May 10 14:36:30 +0000 2018, Text=\"RT @Nike: 1, 2, 3. Men's and Women's in London. \\n\\U0001f947\\U0001f948\\U0001f949 #JustDoIt \\n\\n@EliudKipchoge \\nTola Shura Kitata \\n@Mo_Farah \\n\\n@VivianCheruiyot \\nBrigid Ko…\"),\n",
       " Status(ID=994141455563264000, ScreenName=tarekkk_11, Created=Wed May 09 09:06:07 +0000 2018, Text=\"RT @Nike: 1, 2, 3. Men's and Women's in London. \\n\\U0001f947\\U0001f948\\U0001f949 #JustDoIt \\n\\n@EliudKipchoge \\nTola Shura Kitata \\n@Mo_Farah \\n\\n@VivianCheruiyot \\nBrigid Ko…\"),\n",
       " Status(ID=993808375484952581, ScreenName=THEBESTRAPPEEUR, Created=Tue May 08 11:02:35 +0000 2018, Text=\"RT @Nike: 1, 2, 3. Men's and Women's in London. \\n\\U0001f947\\U0001f948\\U0001f949 #JustDoIt \\n\\n@EliudKipchoge \\nTola Shura Kitata \\n@Mo_Farah \\n\\n@VivianCheruiyot \\nBrigid Ko…\"),\n",
       " Status(ID=993720074111303680, ScreenName=superfan_user, Created=Tue May 08 05:11:42 +0000 2018, Text=\"RT @Nike: 1, 2, 3. Men's and Women's in London. \\n\\U0001f947\\U0001f948\\U0001f949 #JustDoIt \\n\\n@EliudKipchoge \\nTola Shura Kitata \\n@Mo_Farah \\n\\n@VivianCheruiyot \\nBrigid Ko…\"),\n",
       " Status(ID=993082283740495873, ScreenName=chidubemb12, Created=Sun May 06 10:57:21 +0000 2018, Text=\"RT @Nike: 1, 2, 3. Men's and Women's in London. \\n\\U0001f947\\U0001f948\\U0001f949 #JustDoIt \\n\\n@EliudKipchoge \\nTola Shura Kitata \\n@Mo_Farah \\n\\n@VivianCheruiyot \\nBrigid Ko…\"),\n",
       " Status(ID=992146951922692099, ScreenName=KidFlang, Created=Thu May 03 21:00:41 +0000 2018, Text=\"RT @Nike: 1, 2, 3. Men's and Women's in London. \\n\\U0001f947\\U0001f948\\U0001f949 #JustDoIt \\n\\n@EliudKipchoge \\nTola Shura Kitata \\n@Mo_Farah \\n\\n@VivianCheruiyot \\nBrigid Ko…\"),\n",
       " Status(ID=992078024286855168, ScreenName=thelastkodacfam, Created=Thu May 03 16:26:47 +0000 2018, Text=\"RT @Nike: 1, 2, 3. Men's and Women's in London. \\n\\U0001f947\\U0001f948\\U0001f949 #JustDoIt \\n\\n@EliudKipchoge \\nTola Shura Kitata \\n@Mo_Farah \\n\\n@VivianCheruiyot \\nBrigid Ko…\")]"
      ]
     },
     "execution_count": 10,
     "metadata": {},
     "output_type": "execute_result"
    }
   ],
   "source": [
    "rt_1"
   ]
  },
  {
   "cell_type": "code",
   "execution_count": 30,
   "metadata": {},
   "outputs": [],
   "source": [
    "rply_2 = api.GetSearch(term='@Nike', since_id='999654396370866176')"
   ]
  },
  {
   "cell_type": "code",
   "execution_count": 14,
   "metadata": {},
   "outputs": [
    {
     "data": {
      "text/plain": [
       "[Status(ID=999656078622314496, ScreenName=MartinDaniell7, Created=Thu May 24 14:19:16 +0000 2018, Text=\"Uptempo's. @Nike 👟💣💥 https://t.co/OIxDleOJdJ\"),\n",
       " Status(ID=999656014164234240, ScreenName=KingMaine_, Created=Thu May 24 14:19:01 +0000 2018, Text='RT @aardodson: 15 years ago, an 18-year-old @KingJames signed his first deal with @Nike. But Reebok wanted him badly, and so did Adidas.\\n\\nT…'),\n",
       " Status(ID=999655967687106560, ScreenName=heyiwhunmmy, Created=Thu May 24 14:18:50 +0000 2018, Text='@Cristiayno @realmadriden @realmadrid @adidasfootball Just like @Cristiano to @Nike'),\n",
       " Status(ID=999655928566829056, ScreenName=foliray, Created=Thu May 24 14:18:40 +0000 2018, Text='@Nike just hit the diamond rock in the middle of the African ocean. @thenff @NGSuperEagles #Russia2018 https://t.co/OZmqz9cndT'),\n",
       " Status(ID=999655916038426624, ScreenName=GenellTheBaller, Created=Thu May 24 14:18:37 +0000 2018, Text='RT @sswoopes22: Great time @Nike today talking hoops, WNBA and #AirSwoopes. Had all 6 shoes on display!\\n#Blessed\\n#DreamsDoComeTrue https://…'),\n",
       " Status(ID=999655905548521473, ScreenName=_vicksterz, Created=Thu May 24 14:18:35 +0000 2018, Text='RT @Nike: Reclaiming the past to empower the future.\\n\\nThis year’s #BETRUE collection breaks symbolic boundaries. \\n\\nLearn More: https://t.co…'),\n",
       " Status(ID=999655776712044544, ScreenName=kaylabeaver16, Created=Thu May 24 14:18:04 +0000 2018, Text='RT @Nike: Reclaiming the past to empower the future.\\n\\nThis year’s #BETRUE collection breaks symbolic boundaries. \\n\\nLearn More: https://t.co…'),\n",
       " Status(ID=999655706784616449, ScreenName=Brezshun, Created=Thu May 24 14:17:47 +0000 2018, Text='RT @sswoopes22: Great time @Nike today talking hoops, WNBA and #AirSwoopes. Had all 6 shoes on display!\\n#Blessed\\n#DreamsDoComeTrue https://…'),\n",
       " Status(ID=999655695355002880, ScreenName=m_romadhoniiii, Created=Thu May 24 14:17:45 +0000 2018, Text='RT @Nike: Reclaiming the past to empower the future.\\n\\nThis year’s #BETRUE collection breaks symbolic boundaries. \\n\\nLearn More: https://t.co…'),\n",
       " Status(ID=999655406430437383, ScreenName=bjorniceside, Created=Thu May 24 14:16:36 +0000 2018, Text='RT @HYPEBEAST: .@virgilabloh and @Nike gift @BoylanCatholic brand new kits. \\nhttps://t.co/UqcD6jqoqL'),\n",
       " Status(ID=999655333856464896, ScreenName=malcmccoy2, Created=Thu May 24 14:16:18 +0000 2018, Text='RT @Nike: Reclaiming the past to empower the future.\\n\\nThis year’s #BETRUE collection breaks symbolic boundaries. \\n\\nLearn More: https://t.co…'),\n",
       " Status(ID=999655316357861376, ScreenName=IScore_YouTweet, Created=Thu May 24 14:16:14 +0000 2018, Text='RT @aardodson: 15 years ago, an 18-year-old @KingJames signed his first deal with @Nike. But Reebok wanted him badly, and so did Adidas.\\n\\nT…'),\n",
       " Status(ID=999655232534728707, ScreenName=julesrcf, Created=Thu May 24 14:15:54 +0000 2018, Text='RT @Nike: Reclaiming the past to empower the future.\\n\\nThis year’s #BETRUE collection breaks symbolic boundaries. \\n\\nLearn More: https://t.co…'),\n",
       " Status(ID=999655213026832385, ScreenName=mhermhery, Created=Thu May 24 14:15:50 +0000 2018, Text='RT @Nike: Reclaiming the past to empower the future.\\n\\nThis year’s #BETRUE collection breaks symbolic boundaries. \\n\\nLearn More: https://t.co…'),\n",
       " Status(ID=999655202444759046, ScreenName=lilppkeke, Created=Thu May 24 14:15:47 +0000 2018, Text='RT @HYPEBEAST: .@virgilabloh and @Nike gift @BoylanCatholic brand new kits. \\nhttps://t.co/UqcD6jqoqL')]"
      ]
     },
     "execution_count": 14,
     "metadata": {},
     "output_type": "execute_result"
    }
   ],
   "source": [
    "rply_1"
   ]
  },
  {
   "cell_type": "code",
   "execution_count": 31,
   "metadata": {},
   "outputs": [
    {
     "data": {
      "text/plain": [
       "[Status(ID=999660507379458049, ScreenName=DGates44, Created=Thu May 24 14:36:52 +0000 2018, Text='RT @HYPEBEAST: .@virgilabloh and @Nike gift @BoylanCatholic brand new kits. \\nhttps://t.co/UqcD6jqoqL'),\n",
       " Status(ID=999660449665863680, ScreenName=awgeful, Created=Thu May 24 14:36:38 +0000 2018, Text='RT @awgeful: I Just Was Off Seeing Things\\n\\n(Off White One)🚧\\n\\nDesign By Me\\n\\nCome Buy Your Artwork Today 💻\\n\\n@virgilabloh @OffWht @Nike @Jumpm…'),\n",
       " Status(ID=999660309781630976, ScreenName=carolyn_addie, Created=Thu May 24 14:36:05 +0000 2018, Text='RT @Nike: Reclaiming the past to empower the future.\\n\\nThis year’s #BETRUE collection breaks symbolic boundaries. \\n\\nLearn More: https://t.co…'),\n",
       " Status(ID=999660084979318786, ScreenName=CLDALK, Created=Thu May 24 14:35:11 +0000 2018, Text='RT @Nike: Reclaiming the past to empower the future.\\n\\nThis year’s #BETRUE collection breaks symbolic boundaries. \\n\\nLearn More: https://t.co…'),\n",
       " Status(ID=999659998211919872, ScreenName=JR_Surg, Created=Thu May 24 14:34:51 +0000 2018, Text='RT @aardodson: 15 years ago, an 18-year-old @KingJames signed his first deal with @Nike. But Reebok wanted him badly, and so did Adidas.\\n\\nT…'),\n",
       " Status(ID=999659820293742592, ScreenName=bishop_brock, Created=Thu May 24 14:34:08 +0000 2018, Text='RT @aardodson: 15 years ago, an 18-year-old @KingJames signed his first deal with @Nike. But Reebok wanted him badly, and so did Adidas.\\n\\nT…'),\n",
       " Status(ID=999659732628656128, ScreenName=49erlover4life, Created=Thu May 24 14:33:47 +0000 2018, Text='RT @sswoopes22: Great time @Nike today talking hoops, WNBA and #AirSwoopes. Had all 6 shoes on display!\\n#Blessed\\n#DreamsDoComeTrue https://…'),\n",
       " Status(ID=999659676194271233, ScreenName=aidan_adamany, Created=Thu May 24 14:33:34 +0000 2018, Text='RT @BoylanCatholic: Thanks @virgilabloh and @Nike \\n\\nhttps://t.co/GxeWN2YtuW \\n\\n#greenandwhite https://t.co/dfSDJe3SzG'),\n",
       " Status(ID=999659620753866752, ScreenName=Kris__Davis, Created=Thu May 24 14:33:21 +0000 2018, Text='RT @aardodson: 15 years ago, an 18-year-old @KingJames signed his first deal with @Nike. But Reebok wanted him badly, and so did Adidas.\\n\\nT…'),\n",
       " Status(ID=999659564315357184, ScreenName=SporthausGruner, Created=Thu May 24 14:33:07 +0000 2018, Text='| Own your runs and dominate your routes. |\\n@Nike \\n#sport #running #training #workout #nikewomen #outfit #womens… https://t.co/HBPle1fO2w'),\n",
       " Status(ID=999659552059600901, ScreenName=instaread_bio, Created=Thu May 24 14:33:04 +0000 2018, Text='RT @Biscuet: \"The single easiest way to find out how you feel about someone. Say goodbye.” from Shoe Dog by @Nike founder Phil Knight.'),\n",
       " Status(ID=999659447009103873, ScreenName=coralbini, Created=Thu May 24 14:32:39 +0000 2018, Text='RT @aardodson: 15 years ago, an 18-year-old @KingJames signed his first deal with @Nike. But Reebok wanted him badly, and so did Adidas.\\n\\nT…'),\n",
       " Status(ID=999659261759279110, ScreenName=JustinLeVon, Created=Thu May 24 14:31:55 +0000 2018, Text='RT @Nike: Reclaiming the past to empower the future.\\n\\nThis year’s #BETRUE collection breaks symbolic boundaries. \\n\\nLearn More: https://t.co…'),\n",
       " Status(ID=999659243258212352, ScreenName=XMACK_DON, Created=Thu May 24 14:31:51 +0000 2018, Text='One day i will be @nike ambassador https://t.co/KQ8KYh8jpX'),\n",
       " Status(ID=999658985593692161, ScreenName=FballKitDesign, Created=Thu May 24 14:30:49 +0000 2018, Text='RT @luke16taylor: Reports saying @nike have received over 3 million orders of the Nigeria shirt. Wowwww. https://t.co/rnt6wnixYr https://t.…')]"
      ]
     },
     "execution_count": 31,
     "metadata": {},
     "output_type": "execute_result"
    }
   ],
   "source": [
    "rply_2"
   ]
  },
  {
   "cell_type": "code",
   "execution_count": 29,
   "metadata": {},
   "outputs": [
    {
     "data": {
      "text/plain": [
       "<twitter.ratelimit.RateLimit at 0x7fe7d1dec668>"
      ]
     },
     "execution_count": 29,
     "metadata": {},
     "output_type": "execute_result"
    }
   ],
   "source": [
    "api.rate_limit"
   ]
  },
  {
   "cell_type": "code",
   "execution_count": null,
   "metadata": {},
   "outputs": [],
   "source": []
  },
  {
   "cell_type": "code",
   "execution_count": null,
   "metadata": {},
   "outputs": [],
   "source": []
  },
  {
   "cell_type": "code",
   "execution_count": 32,
   "metadata": {},
   "outputs": [],
   "source": [
    "from TwitterSearch import *\n",
    "import time"
   ]
  },
  {
   "cell_type": "code",
   "execution_count": 36,
   "metadata": {},
   "outputs": [
    {
     "ename": "SyntaxError",
     "evalue": "unexpected EOF while parsing (<ipython-input-36-781d66256d28>, line 9)",
     "output_type": "error",
     "traceback": [
      "\u001b[0;36m  File \u001b[0;32m\"<ipython-input-36-781d66256d28>\"\u001b[0;36m, line \u001b[0;32m9\u001b[0m\n\u001b[0;31m    access_token_secret = access_token_secret)\u001b[0m\n\u001b[0m                                              ^\u001b[0m\n\u001b[0;31mSyntaxError\u001b[0m\u001b[0;31m:\u001b[0m unexpected EOF while parsing\n"
     ]
    }
   ],
   "source": [
    "try:\n",
    "    tso = TwitterSearchOrder()\n",
    "    tso.set_keywords(['@Nike'])\n",
    "\n",
    "    ts = TwitterSearch(\n",
    "        consumer_key = consumer_key,\n",
    "        consumer_secret = consumer_secret,\n",
    "        access_token = access_token_key,\n",
    "        access_token_secret = access_token_secret)"
   ]
  },
  {
   "cell_type": "code",
   "execution_count": 40,
   "metadata": {},
   "outputs": [
    {
     "ename": "TwitterSearchException",
     "evalue": "Error 1009: Invalid string",
     "output_type": "error",
     "traceback": [
      "\u001b[0;31m---------------------------------------------------------------------------\u001b[0m",
      "\u001b[0;31mTwitterSearchException\u001b[0m                    Traceback (most recent call last)",
      "\u001b[0;32m<ipython-input-40-354895f3b653>\u001b[0m in \u001b[0;36m<module>\u001b[0;34m()\u001b[0m\n\u001b[1;32m      2\u001b[0m \u001b[0mts2\u001b[0m\u001b[0;34m.\u001b[0m\u001b[0mset_keywords\u001b[0m\u001b[0;34m(\u001b[0m\u001b[0;34m[\u001b[0m\u001b[0;34m'@Nike'\u001b[0m\u001b[0;34m]\u001b[0m\u001b[0;34m)\u001b[0m\u001b[0;34m\u001b[0m\u001b[0m\n\u001b[1;32m      3\u001b[0m \u001b[0;34m\u001b[0m\u001b[0m\n\u001b[0;32m----> 4\u001b[0;31m \u001b[0mts\u001b[0m \u001b[0;34m=\u001b[0m \u001b[0mTwitterSearch\u001b[0m\u001b[0;34m(\u001b[0m\u001b[0mconsumer_key\u001b[0m\u001b[0;34m,\u001b[0m \u001b[0mconsumer_secret\u001b[0m\u001b[0;34m,\u001b[0m \u001b[0maccess_token_key\u001b[0m\u001b[0;34m,\u001b[0m \u001b[0maccess_token_secret\u001b[0m\u001b[0;34m,\u001b[0m \u001b[0mverify\u001b[0m\u001b[0;34m=\u001b[0m\u001b[0;32mTrue\u001b[0m\u001b[0;34m,\u001b[0m \u001b[0mproxy\u001b[0m\u001b[0;34m=\u001b[0m\u001b[0;32mNone\u001b[0m\u001b[0;34m)\u001b[0m\u001b[0;34m\u001b[0m\u001b[0m\n\u001b[0m",
      "\u001b[0;32m~/.local/share/virtualenvs/installers-OifosnB-/lib/python3.5/site-packages/TwitterSearch/TwitterSearch.py\u001b[0m in \u001b[0;36m__init__\u001b[0;34m(self, consumer_key, consumer_secret, access_token, access_token_secret, **attr)\u001b[0m\n\u001b[1;32m    102\u001b[0m \u001b[0;34m\u001b[0m\u001b[0m\n\u001b[1;32m    103\u001b[0m         \u001b[0;32mif\u001b[0m \u001b[0;34m\"proxy\"\u001b[0m \u001b[0;32min\u001b[0m \u001b[0mattr\u001b[0m\u001b[0;34m:\u001b[0m\u001b[0;34m\u001b[0m\u001b[0m\n\u001b[0;32m--> 104\u001b[0;31m             \u001b[0mself\u001b[0m\u001b[0;34m.\u001b[0m\u001b[0mset_proxy\u001b[0m\u001b[0;34m(\u001b[0m\u001b[0mattr\u001b[0m\u001b[0;34m[\u001b[0m\u001b[0;34m\"proxy\"\u001b[0m\u001b[0;34m]\u001b[0m\u001b[0;34m)\u001b[0m\u001b[0;34m\u001b[0m\u001b[0m\n\u001b[0m\u001b[1;32m    105\u001b[0m         \u001b[0;32melse\u001b[0m\u001b[0;34m:\u001b[0m\u001b[0;34m\u001b[0m\u001b[0m\n\u001b[1;32m    106\u001b[0m             \u001b[0mself\u001b[0m\u001b[0;34m.\u001b[0m\u001b[0m__proxy\u001b[0m \u001b[0;34m=\u001b[0m \u001b[0;32mNone\u001b[0m\u001b[0;34m\u001b[0m\u001b[0m\n",
      "\u001b[0;32m~/.local/share/virtualenvs/installers-OifosnB-/lib/python3.5/site-packages/TwitterSearch/TwitterSearch.py\u001b[0m in \u001b[0;36mset_proxy\u001b[0;34m(self, proxy)\u001b[0m\n\u001b[1;32m    138\u001b[0m             \u001b[0mself\u001b[0m\u001b[0;34m.\u001b[0m\u001b[0m__proxy\u001b[0m \u001b[0;34m=\u001b[0m \u001b[0mproxy\u001b[0m\u001b[0;34m\u001b[0m\u001b[0m\n\u001b[1;32m    139\u001b[0m         \u001b[0;32melse\u001b[0m\u001b[0;34m:\u001b[0m\u001b[0;34m\u001b[0m\u001b[0m\n\u001b[0;32m--> 140\u001b[0;31m             \u001b[0;32mraise\u001b[0m \u001b[0mTwitterSearchException\u001b[0m\u001b[0;34m(\u001b[0m\u001b[0;36m1009\u001b[0m\u001b[0;34m)\u001b[0m\u001b[0;34m\u001b[0m\u001b[0m\n\u001b[0m\u001b[1;32m    141\u001b[0m \u001b[0;34m\u001b[0m\u001b[0m\n\u001b[1;32m    142\u001b[0m     \u001b[0;32mdef\u001b[0m \u001b[0mget_proxy\u001b[0m\u001b[0;34m(\u001b[0m\u001b[0mself\u001b[0m\u001b[0;34m)\u001b[0m\u001b[0;34m:\u001b[0m\u001b[0;34m\u001b[0m\u001b[0m\n",
      "\u001b[0;31mTwitterSearchException\u001b[0m: Error 1009: Invalid string"
     ]
    }
   ],
   "source": [
    "ts2 = TwitterSearchOrder()\n",
    "ts2.set_keywords(['@Nike'])\n",
    "    \n",
    "ts = TwitterSearch(consumer_key, consumer_secret, access_token_key, access_token_secret, verify=True, proxy=None)"
   ]
  },
  {
   "cell_type": "code",
   "execution_count": 42,
   "metadata": {},
   "outputs": [],
   "source": [
    "import time"
   ]
  },
  {
   "cell_type": "code",
   "execution_count": 43,
   "metadata": {},
   "outputs": [
    {
     "name": "stdout",
     "output_type": "stream",
     "text": [
      "Done!\n"
     ]
    }
   ],
   "source": [
    "from TwitterSearch import *\n",
    "\n",
    "t_l_1 = []\n",
    "\n",
    "try:\n",
    "    # create a TwitterUserOrder for user named 'NeinQuarterly'\n",
    "    tuo = TwitterUserOrder('Nike') # is equal to TwitterUserOrder(458966079)\n",
    "\n",
    "    # it's about time to create TwitterSearch object again\n",
    "    ts = TwitterSearch(\n",
    "        consumer_key = consumer_key,\n",
    "        consumer_secret = consumer_secret,\n",
    "        access_token = access_token_key,\n",
    "        access_token_secret = access_token_secret\n",
    "    )\n",
    "    \n",
    "    def my_callback_closure(current_ts_instance): # accepts ONE argument: an instance of TwitterSearch\n",
    "        queries, tweets_seen = current_ts_instance.get_statistics()\n",
    "        if queries > 0 and (queries % 5) == 0: # trigger delay every 5th query\n",
    "            time.sleep(60) # sleep for 60 seconds\n",
    "            \n",
    "    # start asking Twitter about the timeline\n",
    "    for tweet in ts.search_tweets_iterable(tuo):\n",
    "        t_l_1.append(tweet)\n",
    "    \n",
    "    print(\"Done!\")\n",
    "    \n",
    "except TwitterSearchException as e: # catch all those ugly errors\n",
    "    print(e)"
   ]
  },
  {
   "cell_type": "code",
   "execution_count": 45,
   "metadata": {},
   "outputs": [
    {
     "data": {
      "text/plain": [
       "3209"
      ]
     },
     "execution_count": 45,
     "metadata": {},
     "output_type": "execute_result"
    }
   ],
   "source": [
    "len(t_l_1)"
   ]
  },
  {
   "cell_type": "code",
   "execution_count": 46,
   "metadata": {},
   "outputs": [
    {
     "data": {
      "text/plain": [
       "{'contributors': None,\n",
       " 'coordinates': None,\n",
       " 'created_at': 'Thu May 24 14:01:18 +0000 2018',\n",
       " 'entities': {'hashtags': [{'indices': [56, 63], 'text': 'BETRUE'}],\n",
       "  'symbols': [],\n",
       "  'urls': [{'display_url': 'twitter.com/i/web/status/9…',\n",
       "    'expanded_url': 'https://twitter.com/i/web/status/999651558773026819',\n",
       "    'indices': [117, 140],\n",
       "    'url': 'https://t.co/pfxxrV3bhu'}],\n",
       "  'user_mentions': []},\n",
       " 'favorite_count': 509,\n",
       " 'favorited': False,\n",
       " 'geo': None,\n",
       " 'id': 999651558773026819,\n",
       " 'id_str': '999651558773026819',\n",
       " 'in_reply_to_screen_name': None,\n",
       " 'in_reply_to_status_id': None,\n",
       " 'in_reply_to_status_id_str': None,\n",
       " 'in_reply_to_user_id': None,\n",
       " 'in_reply_to_user_id_str': None,\n",
       " 'is_quote_status': False,\n",
       " 'lang': 'en',\n",
       " 'place': None,\n",
       " 'possibly_sensitive': False,\n",
       " 'retweet_count': 99,\n",
       " 'retweeted': False,\n",
       " 'source': '<a href=\"http://twitter.com\" rel=\"nofollow\">Twitter Web Client</a>',\n",
       " 'text': 'Reclaiming the past to empower the future.\\n\\nThis year’s #BETRUE collection breaks symbolic boundaries. \\n\\nLearn More… https://t.co/pfxxrV3bhu',\n",
       " 'truncated': True,\n",
       " 'user': {'contributors_enabled': False,\n",
       "  'created_at': 'Fri Nov 18 22:31:18 +0000 2011',\n",
       "  'default_profile': False,\n",
       "  'default_profile_image': False,\n",
       "  'description': 'Just Do It.',\n",
       "  'entities': {'description': {'urls': []},\n",
       "   'url': {'urls': [{'display_url': 'nike.com',\n",
       "      'expanded_url': 'http://nike.com',\n",
       "      'indices': [0, 23],\n",
       "      'url': 'https://t.co/RBhnlkkzPV'}]}},\n",
       "  'favourites_count': 6061,\n",
       "  'follow_request_sent': False,\n",
       "  'followers_count': 7466487,\n",
       "  'following': False,\n",
       "  'friends_count': 153,\n",
       "  'geo_enabled': True,\n",
       "  'has_extended_profile': False,\n",
       "  'id': 415859364,\n",
       "  'id_str': '415859364',\n",
       "  'is_translation_enabled': False,\n",
       "  'is_translator': False,\n",
       "  'lang': 'en',\n",
       "  'listed_count': 9957,\n",
       "  'location': 'Beaverton, Oregon',\n",
       "  'name': 'Nike',\n",
       "  'notifications': False,\n",
       "  'profile_background_color': 'FFFFFF',\n",
       "  'profile_background_image_url': 'http://abs.twimg.com/images/themes/theme14/bg.gif',\n",
       "  'profile_background_image_url_https': 'https://abs.twimg.com/images/themes/theme14/bg.gif',\n",
       "  'profile_background_tile': True,\n",
       "  'profile_banner_url': 'https://pbs.twimg.com/profile_banners/415859364/1516124378',\n",
       "  'profile_image_url': 'http://pbs.twimg.com/profile_images/953320896101412864/UdE5mfkP_normal.jpg',\n",
       "  'profile_image_url_https': 'https://pbs.twimg.com/profile_images/953320896101412864/UdE5mfkP_normal.jpg',\n",
       "  'profile_link_color': 'FF8400',\n",
       "  'profile_sidebar_border_color': 'FFFFFF',\n",
       "  'profile_sidebar_fill_color': 'EFEFEF',\n",
       "  'profile_text_color': '333333',\n",
       "  'profile_use_background_image': True,\n",
       "  'protected': False,\n",
       "  'screen_name': 'Nike',\n",
       "  'statuses_count': 34316,\n",
       "  'time_zone': 'Pacific Time (US & Canada)',\n",
       "  'translator_type': 'none',\n",
       "  'url': 'https://t.co/RBhnlkkzPV',\n",
       "  'utc_offset': -25200,\n",
       "  'verified': True}}"
      ]
     },
     "execution_count": 46,
     "metadata": {},
     "output_type": "execute_result"
    }
   ],
   "source": [
    "t_l_1[0]"
   ]
  },
  {
   "cell_type": "code",
   "execution_count": null,
   "metadata": {},
   "outputs": [],
   "source": []
  },
  {
   "cell_type": "code",
   "execution_count": null,
   "metadata": {},
   "outputs": [],
   "source": [
    "from TwitterSearch import *\n",
    "\n",
    "t_l_1 = []\n",
    "\n",
    "try:\n",
    "    # create a TwitterUserOrder for user named 'NeinQuarterly'\n",
    "    tuo = TwitterUserOrder('Nike') # is equal to TwitterUserOrder(458966079)\n",
    "\n",
    "    # it's about time to create TwitterSearch object again\n",
    "    ts = TwitterSearch(\n",
    "        consumer_key = consumer_key,\n",
    "        consumer_secret = consumer_secret,\n",
    "        access_token = access_token_key,\n",
    "        access_token_secret = access_token_secret\n",
    "    )\n",
    "    \n",
    "    sleep_for = 60 # sleep for 60 seconds\n",
    "    last_amount_of_queries = 0 # used to detect when new queries are done\n",
    "            \n",
    "    # start asking Twitter about the timeline\n",
    "    for tweet in ts.search_tweets_iterable(tuo):\n",
    "        t_l_1.append(tweet)\n",
    "    \n",
    "    print(\"Done!\")\n",
    "    \n",
    "except TwitterSearchException as e: # catch all those ugly errors\n",
    "    print(e)"
   ]
  },
  {
   "cell_type": "code",
   "execution_count": null,
   "metadata": {},
   "outputs": [],
   "source": []
  },
  {
   "cell_type": "code",
   "execution_count": null,
   "metadata": {},
   "outputs": [],
   "source": [
    "from TwitterSearch import *\n",
    "\n",
    "t_l_1 = []\n",
    "\n",
    "try:\n",
    "    tso = TwitterSearchOrder()\n",
    "    tso.set_keywords(['Germany', 'castle'])\n",
    "\n",
    "    # it's about time to create TwitterSearch object again\n",
    "    ts = TwitterSearch(\n",
    "        consumer_key = consumer_key,\n",
    "        consumer_secret = consumer_secret,\n",
    "        access_token = access_token_key,\n",
    "        access_token_secret = access_token_secret\n",
    "    )\n",
    "    \n",
    "    # init variables needed in loop\n",
    "    todo = True\n",
    "    next_max_id = 0\n",
    "\n",
    "    # let's start the action\n",
    "    while(todo):\n",
    "\n",
    "        # first query the Twitter API\n",
    "        response = ts.search_tweets(tso)\n",
    "\n",
    "        # print rate limiting status\n",
    "        print( \"Current rate-limiting status: %i\" % ts.get_metadata()['x-rate-limit-reset'])\n",
    "\n",
    "        # check if there are statuses returned and whether we still have work to do\n",
    "        todo = not len(response['content']['statuses']) == 0\n",
    "\n",
    "        # check all tweets according to their ID\n",
    "        for tweet in response['content']['statuses']:\n",
    "            tweet_id = tweet['id']\n",
    "            print(\"Seen tweet with ID %i\" % tweet_id)\n",
    "\n",
    "            # current ID is lower than current next_max_id?\n",
    "            if (tweet_id < next_max_id) or (next_max_id == 0):\n",
    "                next_max_id = tweet_id\n",
    "                next_max_id -= 1 # decrement to avoid seeing this tweet again\n",
    "\n",
    "        # set lowest ID as MaxID\n",
    "        tso.set_max_id(next_max_id)\n",
    "\n",
    "except TwitterSearchException as e:\n",
    "    print(e)"
   ]
  }
 ],
 "metadata": {
  "kernelspec": {
   "display_name": "Python 3",
   "language": "python",
   "name": "python3"
  },
  "language_info": {
   "codemirror_mode": {
    "name": "ipython",
    "version": 3
   },
   "file_extension": ".py",
   "mimetype": "text/x-python",
   "name": "python",
   "nbconvert_exporter": "python",
   "pygments_lexer": "ipython3",
   "version": "3.5.2"
  }
 },
 "nbformat": 4,
 "nbformat_minor": 2
}
