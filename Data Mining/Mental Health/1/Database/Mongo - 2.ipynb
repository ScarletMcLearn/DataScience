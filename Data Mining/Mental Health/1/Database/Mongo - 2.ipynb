{
 "cells": [
  {
   "cell_type": "code",
   "execution_count": 1,
   "metadata": {},
   "outputs": [
    {
     "data": {
      "text/plain": [
       "MongoClient(host=['localhost:27017'], document_class=dict, tz_aware=False, connect=True, read_preference=Primary())"
      ]
     },
     "execution_count": 1,
     "metadata": {},
     "output_type": "execute_result"
    }
   ],
   "source": [
    "from mongoengine import *\n",
    "\n",
    "connect('mongoengine_2', host='localhost', port=27017)"
   ]
  },
  {
   "cell_type": "code",
   "execution_count": 2,
   "metadata": {},
   "outputs": [],
   "source": [
    "import datetime"
   ]
  },
  {
   "cell_type": "code",
   "execution_count": null,
   "metadata": {},
   "outputs": [],
   "source": []
  },
  {
   "cell_type": "code",
   "execution_count": null,
   "metadata": {},
   "outputs": [],
   "source": []
  },
  {
   "cell_type": "code",
   "execution_count": 3,
   "metadata": {},
   "outputs": [],
   "source": [
    "class TaggedText(EmbeddedDocument):\n",
    "    content = StringField()\n",
    "    text_tag = StringField()\n",
    "    \n",
    "class Author(Document):\n",
    "#     author = StringField(required=True)\n",
    "    name = StringField(required=True)\n",
    "    \n",
    "    \n",
    "class Article(Document):\n",
    "    title = StringField(required=True)\n",
    "    contents = ListField(EmbeddedDocumentField(TaggedText))\n",
    "    author = ReferenceField(Author, reverse_delete_rule=CASCADE)\n",
    "    posted_date = DateTimeField(default=datetime.datetime.now)\n",
    "    published_status = BooleanField(default=False)\n",
    "    source_url = URLField()\n",
    "    source = StringField()\n",
    "\n",
    "    credits = StringField(required=True)\n",
    "    tags = ListField(StringField(max_length=30))\n",
    "    img_urls = ListField(URLField())"
   ]
  },
  {
   "cell_type": "code",
   "execution_count": 37,
   "metadata": {},
   "outputs": [
    {
     "data": {
      "text/plain": [
       "<Article: Article object>"
      ]
     },
     "execution_count": 37,
     "metadata": {},
     "output_type": "execute_result"
    }
   ],
   "source": [
    "a1"
   ]
  },
  {
   "cell_type": "code",
   "execution_count": 38,
   "metadata": {},
   "outputs": [
    {
     "name": "stdout",
     "output_type": "stream",
     "text": [
      "Article object\n"
     ]
    }
   ],
   "source": [
    "print(a1)"
   ]
  },
  {
   "cell_type": "code",
   "execution_count": 12,
   "metadata": {},
   "outputs": [],
   "source": [
    "au1 = Author('Lemon')"
   ]
  },
  {
   "cell_type": "code",
   "execution_count": 13,
   "metadata": {},
   "outputs": [
    {
     "data": {
      "text/plain": [
       "<Author: Author object>"
      ]
     },
     "execution_count": 13,
     "metadata": {},
     "output_type": "execute_result"
    }
   ],
   "source": [
    "au1.save()"
   ]
  },
  {
   "cell_type": "code",
   "execution_count": 14,
   "metadata": {},
   "outputs": [],
   "source": [
    "a1 = Article(title='Random Title', contents=[TaggedText(content='Test text', text_tag='br'), TaggedText(content='Teeest text', text_tag='brr')],\n",
    "            author=au1, credits='Chiken')"
   ]
  },
  {
   "cell_type": "code",
   "execution_count": 15,
   "metadata": {},
   "outputs": [
    {
     "data": {
      "text/plain": [
       "<Article: Article object>"
      ]
     },
     "execution_count": 15,
     "metadata": {},
     "output_type": "execute_result"
    }
   ],
   "source": [
    "a1.save() "
   ]
  },
  {
   "cell_type": "code",
   "execution_count": 16,
   "metadata": {},
   "outputs": [
    {
     "data": {
      "text/plain": [
       "'Random Title'"
      ]
     },
     "execution_count": 16,
     "metadata": {},
     "output_type": "execute_result"
    }
   ],
   "source": [
    "Article.objects()[0].title"
   ]
  },
  {
   "cell_type": "code",
   "execution_count": 22,
   "metadata": {},
   "outputs": [
    {
     "data": {
      "text/plain": [
       "'Lemon'"
      ]
     },
     "execution_count": 22,
     "metadata": {},
     "output_type": "execute_result"
    }
   ],
   "source": [
    "Article.objects()[2].author.name"
   ]
  },
  {
   "cell_type": "code",
   "execution_count": 5,
   "metadata": {},
   "outputs": [
    {
     "data": {
      "text/plain": [
       "[<TaggedText: TaggedText object>, <TaggedText: TaggedText object>]"
      ]
     },
     "execution_count": 5,
     "metadata": {},
     "output_type": "execute_result"
    }
   ],
   "source": [
    "Article.objects()[1].contents"
   ]
  },
  {
   "cell_type": "code",
   "execution_count": 30,
   "metadata": {},
   "outputs": [
    {
     "data": {
      "text/plain": [
       "0"
      ]
     },
     "execution_count": 30,
     "metadata": {},
     "output_type": "execute_result"
    }
   ],
   "source": [
    "Article.objects.count()"
   ]
  },
  {
   "cell_type": "code",
   "execution_count": 8,
   "metadata": {},
   "outputs": [
    {
     "data": {
      "text/plain": [
       "0"
      ]
     },
     "execution_count": 8,
     "metadata": {},
     "output_type": "execute_result"
    }
   ],
   "source": [
    "Author.objects.count()"
   ]
  },
  {
   "cell_type": "code",
   "execution_count": 24,
   "metadata": {},
   "outputs": [
    {
     "name": "stdout",
     "output_type": "stream",
     "text": [
      "Help on class Author in module __main__:\n",
      "\n",
      "class Author(mongoengine.document.Document)\n",
      " |  The base class used for defining the structure and properties of\n",
      " |  collections of documents stored in MongoDB. Inherit from this class, and\n",
      " |  add fields as class attributes to define a document's structure.\n",
      " |  Individual documents may then be created by making instances of the\n",
      " |  :class:`~mongoengine.Document` subclass.\n",
      " |  \n",
      " |  By default, the MongoDB collection used to store documents created using a\n",
      " |  :class:`~mongoengine.Document` subclass will be the name of the subclass\n",
      " |  converted to lowercase. A different collection may be specified by\n",
      " |  providing :attr:`collection` to the :attr:`meta` dictionary in the class\n",
      " |  definition.\n",
      " |  \n",
      " |  A :class:`~mongoengine.Document` subclass may be itself subclassed, to\n",
      " |  create a specialised version of the document that will be stored in the\n",
      " |  same collection. To facilitate this behaviour a `_cls`\n",
      " |  field is added to documents (hidden though the MongoEngine interface).\n",
      " |  To enable this behaviourset :attr:`allow_inheritance` to ``True`` in the\n",
      " |  :attr:`meta` dictionary.\n",
      " |  \n",
      " |  A :class:`~mongoengine.Document` may use a **Capped Collection** by\n",
      " |  specifying :attr:`max_documents` and :attr:`max_size` in the :attr:`meta`\n",
      " |  dictionary. :attr:`max_documents` is the maximum number of documents that\n",
      " |  is allowed to be stored in the collection, and :attr:`max_size` is the\n",
      " |  maximum size of the collection in bytes. :attr:`max_size` is rounded up\n",
      " |  to the next multiple of 256 by MongoDB internally and mongoengine before.\n",
      " |  Use also a multiple of 256 to avoid confusions.  If :attr:`max_size` is not\n",
      " |  specified and :attr:`max_documents` is, :attr:`max_size` defaults to\n",
      " |  10485760 bytes (10MB).\n",
      " |  \n",
      " |  Indexes may be created by specifying :attr:`indexes` in the :attr:`meta`\n",
      " |  dictionary. The value should be a list of field names or tuples of field\n",
      " |  names. Index direction may be specified by prefixing the field names with\n",
      " |  a **+** or **-** sign.\n",
      " |  \n",
      " |  Automatic index creation can be disabled by specifying\n",
      " |  :attr:`auto_create_index` in the :attr:`meta` dictionary. If this is set to\n",
      " |  False then indexes will not be created by MongoEngine.  This is useful in\n",
      " |  production systems where index creation is performed as part of a\n",
      " |  deployment system.\n",
      " |  \n",
      " |  By default, _cls will be added to the start of every index (that\n",
      " |  doesn't contain a list) if allow_inheritance is True. This can be\n",
      " |  disabled by either setting cls to False on the specific index or\n",
      " |  by setting index_cls to False on the meta dictionary for the document.\n",
      " |  \n",
      " |  By default, any extra attribute existing in stored data but not declared\n",
      " |  in your model will raise a :class:`~mongoengine.FieldDoesNotExist` error.\n",
      " |  This can be disabled by setting :attr:`strict` to ``False``\n",
      " |  in the :attr:`meta` dictionary.\n",
      " |  \n",
      " |  Method resolution order:\n",
      " |      Author\n",
      " |      mongoengine.document.Document\n",
      " |      mongoengine.base.document.BaseDocument\n",
      " |      builtins.object\n",
      " |  \n",
      " |  Data descriptors defined here:\n",
      " |  \n",
      " |  __dict__\n",
      " |      dictionary for instance variables (if defined)\n",
      " |  \n",
      " |  id\n",
      " |      A field wrapper around MongoDB's ObjectIds.\n",
      " |  \n",
      " |  name\n",
      " |      A unicode string field.\n",
      " |  \n",
      " |  ----------------------------------------------------------------------\n",
      " |  Data and other attributes defined here:\n",
      " |  \n",
      " |  DoesNotExist = <class '__main__.DoesNotExist'>\n",
      " |      Common base class for all non-exit exceptions.\n",
      " |  \n",
      " |  MultipleObjectsReturned = <class '__main__.MultipleObjectsReturned'>\n",
      " |      Common base class for all non-exit exceptions.\n",
      " |  \n",
      " |  _auto_id_field = True\n",
      " |  \n",
      " |  _cached_reference_fields = []\n",
      " |  \n",
      " |  _class_name = 'Author'\n",
      " |  \n",
      " |  _collection = Collection(Database(MongoClient(host=['localhost...refer...\n",
      " |      A Mongo collection.\n",
      " |  \n",
      " |  _db_field_map = {'id': '_id', 'name': 'name'}\n",
      " |  \n",
      " |  _fields = {'id': <mongoengine.base.fields.ObjectIdField object>, 'name...\n",
      " |  \n",
      " |  _fields_ordered = ('id', 'name')\n",
      " |  \n",
      " |  _is_base_cls = False\n",
      " |  \n",
      " |  _is_document = True\n",
      " |  \n",
      " |  _meta = {'max_size': None, 'allow_inheritance': None, 'd...ion': 'auth...\n",
      " |  \n",
      " |  _reverse_db_field_map = {'_id': 'id', 'name': 'name'}\n",
      " |  \n",
      " |  _subclasses = ('Author',)\n",
      " |  \n",
      " |  _superclasses = ()\n",
      " |  \n",
      " |  _types = ('Author',)\n",
      " |  \n",
      " |  objects = [<Author: Author object>]\n",
      " |      The default queryset, that builds queries and handles a set of results\n",
      " |      returned from a query.\n",
      " |      \n",
      " |      Wraps a MongoDB cursor, providing :class:`~mongoengine.Document` objects as\n",
      " |      the results.\n",
      " |  \n",
      " |  ----------------------------------------------------------------------\n",
      " |  Methods inherited from mongoengine.document.Document:\n",
      " |  \n",
      " |  __hash__(self)\n",
      " |      Return the hash based on the PK of this document. If it's new\n",
      " |      and doesn't have a PK yet, return the default object hash instead.\n",
      " |  \n",
      " |  _get_update_doc(self)\n",
      " |      Return a dict containing all the $set and $unset operations\n",
      " |      that should be sent to MongoDB based on the changes made to this\n",
      " |      Document.\n",
      " |  \n",
      " |  _reload(self, key, value)\n",
      " |      Used by :meth:`~mongoengine.Document.reload` to ensure the\n",
      " |      correct instance is linked to self.\n",
      " |  \n",
      " |  _save_create(self, doc, force_insert, write_concern)\n",
      " |      Save a new document.\n",
      " |      \n",
      " |      Helper method, should only be used inside save().\n",
      " |  \n",
      " |  _save_update(self, doc, save_condition, write_concern)\n",
      " |      Update an existing document.\n",
      " |      \n",
      " |      Helper method, should only be used inside save().\n",
      " |  \n",
      " |  cascade_save(self, **kwargs)\n",
      " |      Recursively save any references and generic references on the\n",
      " |      document.\n",
      " |  \n",
      " |  delete(self, signal_kwargs=None, **write_concern)\n",
      " |      Delete the :class:`~mongoengine.Document` from the database. This\n",
      " |      will only take effect if the document has been previously saved.\n",
      " |      \n",
      " |      :param signal_kwargs: (optional) kwargs dictionary to be passed to\n",
      " |          the signal calls.\n",
      " |      :param write_concern: Extra keyword arguments are passed down which\n",
      " |          will be used as options for the resultant ``getLastError`` command.\n",
      " |          For example, ``save(..., w: 2, fsync: True)`` will\n",
      " |          wait until at least two servers have recorded the write and\n",
      " |          will force an fsync on the primary server.\n",
      " |      \n",
      " |      .. versionchanged:: 0.10.7\n",
      " |          Add signal_kwargs argument\n",
      " |  \n",
      " |  modify(self, query=None, **update)\n",
      " |      Perform an atomic update of the document in the database and reload\n",
      " |      the document object using updated version.\n",
      " |      \n",
      " |      Returns True if the document has been updated or False if the document\n",
      " |      in the database doesn't match the query.\n",
      " |      \n",
      " |      .. note:: All unsaved changes that have been made to the document are\n",
      " |          rejected if the method returns True.\n",
      " |      \n",
      " |      :param query: the update will be performed only if the document in the\n",
      " |          database matches the query\n",
      " |      :param update: Django-style update keyword arguments\n",
      " |  \n",
      " |  reload(self, *fields, **kwargs)\n",
      " |      Reloads all attributes from the database.\n",
      " |      \n",
      " |      :param fields: (optional) args list of fields to reload\n",
      " |      :param max_depth: (optional) depth of dereferencing to follow\n",
      " |      \n",
      " |      .. versionadded:: 0.1.2\n",
      " |      .. versionchanged:: 0.6  Now chainable\n",
      " |      .. versionchanged:: 0.9  Can provide specific fields to reload\n",
      " |  \n",
      " |  save(self, force_insert=False, validate=True, clean=True, write_concern=None, cascade=None, cascade_kwargs=None, _refs=None, save_condition=None, signal_kwargs=None, **kwargs)\n",
      " |      Save the :class:`~mongoengine.Document` to the database. If the\n",
      " |      document already exists, it will be updated, otherwise it will be\n",
      " |      created.\n",
      " |      \n",
      " |      :param force_insert: only try to create a new document, don't allow\n",
      " |          updates of existing documents.\n",
      " |      :param validate: validates the document; set to ``False`` to skip.\n",
      " |      :param clean: call the document clean method, requires `validate` to be\n",
      " |          True.\n",
      " |      :param write_concern: Extra keyword arguments are passed down to\n",
      " |          :meth:`~pymongo.collection.Collection.save` OR\n",
      " |          :meth:`~pymongo.collection.Collection.insert`\n",
      " |          which will be used as options for the resultant\n",
      " |          ``getLastError`` command.  For example,\n",
      " |          ``save(..., write_concern={w: 2, fsync: True}, ...)`` will\n",
      " |          wait until at least two servers have recorded the write and\n",
      " |          will force an fsync on the primary server.\n",
      " |      :param cascade: Sets the flag for cascading saves.  You can set a\n",
      " |          default by setting \"cascade\" in the document __meta__\n",
      " |      :param cascade_kwargs: (optional) kwargs dictionary to be passed throw\n",
      " |          to cascading saves.  Implies ``cascade=True``.\n",
      " |      :param _refs: A list of processed references used in cascading saves\n",
      " |      :param save_condition: only perform save if matching record in db\n",
      " |          satisfies condition(s) (e.g. version number).\n",
      " |          Raises :class:`OperationError` if the conditions are not satisfied\n",
      " |      :param signal_kwargs: (optional) kwargs dictionary to be passed to\n",
      " |          the signal calls.\n",
      " |      \n",
      " |      .. versionchanged:: 0.5\n",
      " |          In existing documents it only saves changed fields using\n",
      " |          set / unset.  Saves are cascaded and any\n",
      " |          :class:`~bson.dbref.DBRef` objects that have changes are\n",
      " |          saved as well.\n",
      " |      .. versionchanged:: 0.6\n",
      " |          Added cascading saves\n",
      " |      .. versionchanged:: 0.8\n",
      " |          Cascade saves are optional and default to False.  If you want\n",
      " |          fine grain control then you can turn off using document\n",
      " |          meta['cascade'] = True.  Also you can pass different kwargs to\n",
      " |          the cascade save using cascade_kwargs which overwrites the\n",
      " |          existing kwargs with custom values.\n",
      " |      .. versionchanged:: 0.8.5\n",
      " |          Optional save_condition that only overwrites existing documents\n",
      " |          if the condition is satisfied in the current db record.\n",
      " |      .. versionchanged:: 0.10\n",
      " |          :class:`OperationError` exception raised if save_condition fails.\n",
      " |      .. versionchanged:: 0.10.1\n",
      " |          :class: save_condition failure now raises a `SaveConditionError`\n",
      " |      .. versionchanged:: 0.10.7\n",
      " |          Add signal_kwargs argument\n",
      " |  \n",
      " |  select_related(self, max_depth=1)\n",
      " |      Handles dereferencing of :class:`~bson.dbref.DBRef` objects to\n",
      " |      a maximum depth in order to cut down the number queries to mongodb.\n",
      " |      \n",
      " |      .. versionadded:: 0.5\n",
      " |  \n",
      " |  switch_collection(self, collection_name, keep_created=True)\n",
      " |      Temporarily switch the collection for a document instance.\n",
      " |      \n",
      " |      Only really useful for archiving off data and calling `save()`::\n",
      " |      \n",
      " |          user = User.objects.get(id=user_id)\n",
      " |          user.switch_collection('old-users')\n",
      " |          user.save()\n",
      " |      \n",
      " |      :param str collection_name: The database alias to use for saving the\n",
      " |          document\n",
      " |      \n",
      " |      :param bool keep_created: keep self._created value after switching collection, else is reset to True\n",
      " |      \n",
      " |      \n",
      " |      .. seealso::\n",
      " |          Use :class:`~mongoengine.context_managers.switch_db`\n",
      " |          if you need to read from another database\n",
      " |  \n",
      " |  switch_db(self, db_alias, keep_created=True)\n",
      " |      Temporarily switch the database for a document instance.\n",
      " |      \n",
      " |      Only really useful for archiving off data and calling `save()`::\n",
      " |      \n",
      " |          user = User.objects.get(id=user_id)\n",
      " |          user.switch_db('archive-db')\n",
      " |          user.save()\n",
      " |      \n",
      " |      :param str db_alias: The database alias to use for saving the document\n",
      " |      \n",
      " |      :param bool keep_created: keep self._created value after switching db, else is reset to True\n",
      " |      \n",
      " |      \n",
      " |      .. seealso::\n",
      " |          Use :class:`~mongoengine.context_managers.switch_collection`\n",
      " |          if you need to read from another collection\n",
      " |  \n",
      " |  to_dbref(self)\n",
      " |      Returns an instance of :class:`~bson.dbref.DBRef` useful in\n",
      " |      `__raw__` queries.\n",
      " |  \n",
      " |  to_mongo(self, *args, **kwargs)\n",
      " |      Return as SON data ready for use with MongoDB.\n",
      " |  \n",
      " |  update(self, **kwargs)\n",
      " |      Performs an update on the :class:`~mongoengine.Document`\n",
      " |      A convenience wrapper to :meth:`~mongoengine.QuerySet.update`.\n",
      " |      \n",
      " |      Raises :class:`OperationError` if called on an object that has not yet\n",
      " |      been saved.\n",
      " |  \n",
      " |  ----------------------------------------------------------------------\n",
      " |  Class methods inherited from mongoengine.document.Document:\n",
      " |  \n",
      " |  _get_capped_collection() from mongoengine.base.metaclasses.TopLevelDocumentMetaclass\n",
      " |      Create a new or get an existing capped PyMongo collection.\n",
      " |  \n",
      " |  _get_collection() from mongoengine.base.metaclasses.TopLevelDocumentMetaclass\n",
      " |      Return a PyMongo collection for the document.\n",
      " |  \n",
      " |  _get_db() from mongoengine.base.metaclasses.TopLevelDocumentMetaclass\n",
      " |      Some Model using other db_alias\n",
      " |  \n",
      " |  compare_indexes() from mongoengine.base.metaclasses.TopLevelDocumentMetaclass\n",
      " |      Compares the indexes defined in MongoEngine with the ones\n",
      " |      existing in the database. Returns any missing/extra indexes.\n",
      " |  \n",
      " |  create_index(keys, background=False, **kwargs) from mongoengine.base.metaclasses.TopLevelDocumentMetaclass\n",
      " |      Creates the given indexes if required.\n",
      " |      \n",
      " |      :param keys: a single index key or a list of index keys (to\n",
      " |          construct a multi-field index); keys may be prefixed with a **+**\n",
      " |          or a **-** to determine the index ordering\n",
      " |      :param background: Allows index creation in the background\n",
      " |  \n",
      " |  drop_collection() from mongoengine.base.metaclasses.TopLevelDocumentMetaclass\n",
      " |      Drops the entire collection associated with this\n",
      " |      :class:`~mongoengine.Document` type from the database.\n",
      " |      \n",
      " |      Raises :class:`OperationError` if the document has no collection set\n",
      " |      (i.g. if it is `abstract`)\n",
      " |      \n",
      " |      .. versionchanged:: 0.10.7\n",
      " |          :class:`OperationError` exception raised if no collection available\n",
      " |  \n",
      " |  ensure_index(key_or_list, drop_dups=False, background=False, **kwargs) from mongoengine.base.metaclasses.TopLevelDocumentMetaclass\n",
      " |      Ensure that the given indexes are in place. Deprecated in favour\n",
      " |      of create_index.\n",
      " |      \n",
      " |      :param key_or_list: a single index key or a list of index keys (to\n",
      " |          construct a multi-field index); keys may be prefixed with a **+**\n",
      " |          or a **-** to determine the index ordering\n",
      " |      :param background: Allows index creation in the background\n",
      " |      :param drop_dups: Was removed/ignored with MongoDB >2.7.5. The value\n",
      " |          will be removed if PyMongo3+ is used\n",
      " |  \n",
      " |  ensure_indexes() from mongoengine.base.metaclasses.TopLevelDocumentMetaclass\n",
      " |      Checks the document meta data and ensures all the indexes exist.\n",
      " |      \n",
      " |      Global defaults can be set in the meta - see :doc:`guide/defining-documents`\n",
      " |      \n",
      " |      .. note:: You can disable automatic index creation by setting\n",
      " |                `auto_create_index` to False in the documents meta data\n",
      " |  \n",
      " |  list_indexes() from mongoengine.base.metaclasses.TopLevelDocumentMetaclass\n",
      " |      Lists all of the indexes that should be created for given\n",
      " |      collection. It includes all the indexes from super- and sub-classes.\n",
      " |  \n",
      " |  register_delete_rule(document_cls, field_name, rule) from mongoengine.base.metaclasses.TopLevelDocumentMetaclass\n",
      " |      This method registers the delete rules to apply when removing this\n",
      " |      object.\n",
      " |  \n",
      " |  ----------------------------------------------------------------------\n",
      " |  Data descriptors inherited from mongoengine.document.Document:\n",
      " |  \n",
      " |  _Document__objects\n",
      " |  \n",
      " |  _object_key\n",
      " |      Get the query dict that can be used to fetch this object from\n",
      " |      the database. Most of the time it's a simple PK lookup, but in\n",
      " |      case of a sharded collection with a compound shard key, it can\n",
      " |      contain a more complex query.\n",
      " |  \n",
      " |  _qs\n",
      " |      Return the queryset to use for updating / reloading / deletions.\n",
      " |  \n",
      " |  pk\n",
      " |      Get the primary key.\n",
      " |  \n",
      " |  ----------------------------------------------------------------------\n",
      " |  Data and other attributes inherited from mongoengine.document.Document:\n",
      " |  \n",
      " |  my_metaclass = <class 'mongoengine.base.metaclasses.TopLevelDocumentMe...\n",
      " |      Metaclass for top-level documents (i.e. documents that have their own\n",
      " |      collection in the database.\n",
      " |  \n",
      " |  ----------------------------------------------------------------------\n",
      " |  Methods inherited from mongoengine.base.document.BaseDocument:\n",
      " |  \n",
      " |  _BaseDocument__expand_dynamic_values = __expand_dynamic_values(self, name, value)\n",
      " |      Expand any dynamic values to their correct types / values.\n",
      " |  \n",
      " |  _BaseDocument__get_field_display = __get_field_display(self, field)\n",
      " |      Return the display value for a choice field\n",
      " |  \n",
      " |  _BaseDocument__set_field_display = __set_field_display(self)\n",
      " |      For each field that specifies choices, create a\n",
      " |      get_<field>_display method.\n",
      " |  \n",
      " |  __contains__(self, name)\n",
      " |  \n",
      " |  __delattr__(self, *args, **kwargs)\n",
      " |      Handle deletions of fields\n",
      " |  \n",
      " |  __eq__(self, other)\n",
      " |      Return self==value.\n",
      " |  \n",
      " |  __getitem__(self, name)\n",
      " |      Dictionary-style field access, return a field's value if present.\n",
      " |  \n",
      " |  __getstate__(self)\n",
      " |  \n",
      " |  __init__(self, *args, **values)\n",
      " |      Initialise a document or embedded document\n",
      " |      \n",
      " |      :param __auto_convert: Try and will cast python objects to Object types\n",
      " |      :param values: A dictionary of values for the document\n",
      " |  \n",
      " |  __iter__(self)\n",
      " |  \n",
      " |  __len__(self)\n",
      " |  \n",
      " |  __ne__(self, other)\n",
      " |      Return self!=value.\n",
      " |  \n",
      " |  __repr__(self)\n",
      " |      Return repr(self).\n",
      " |  \n",
      " |  __setattr__(self, name, value)\n",
      " |      Implement setattr(self, name, value).\n",
      " |  \n",
      " |  __setitem__(self, name, value)\n",
      " |      Dictionary-style field access, set a field's value.\n",
      " |  \n",
      " |  __setstate__(self, data)\n",
      " |  \n",
      " |  __str__(self)\n",
      " |      Return str(self).\n",
      " |  \n",
      " |  _clear_changed_fields(self)\n",
      " |      Using _get_changed_fields iterate and remove any fields that\n",
      " |      are marked as changed.\n",
      " |  \n",
      " |  _delta(self)\n",
      " |      Returns the delta (set, unset) of the changes for a document.\n",
      " |      Gets any values that have been explicitly changed.\n",
      " |  \n",
      " |  _get_changed_fields(self)\n",
      " |      Return a list of all fields that have explicitly been changed.\n",
      " |  \n",
      " |  _mark_as_changed(self, key)\n",
      " |      Mark a key as explicitly changed by the user.\n",
      " |  \n",
      " |  _nestable_types_changed_fields(self, changed_fields, base_key, data)\n",
      " |      Inspect nested data for changed fields\n",
      " |      \n",
      " |      :param changed_fields: Previously collected changed fields\n",
      " |      :param base_key: The base key that must be used to prepend changes to this data\n",
      " |      :param data: data to inspect for changes\n",
      " |  \n",
      " |  clean(self)\n",
      " |      Hook for doing document level data cleaning before validation is run.\n",
      " |      \n",
      " |      Any ValidationError raised by this method will not be associated with\n",
      " |      a particular field; it will have a special-case association with the\n",
      " |      field defined by NON_FIELD_ERRORS.\n",
      " |  \n",
      " |  get_text_score(self)\n",
      " |      Get text score from text query\n",
      " |  \n",
      " |  to_json(self, *args, **kwargs)\n",
      " |      Convert this document to JSON.\n",
      " |      \n",
      " |      :param use_db_field: Serialize field names as they appear in\n",
      " |          MongoDB (as opposed to attribute names on this document).\n",
      " |          Defaults to True.\n",
      " |  \n",
      " |  validate(self, clean=True)\n",
      " |      Ensure that all fields' values are valid and that required fields\n",
      " |      are present.\n",
      " |  \n",
      " |  ----------------------------------------------------------------------\n",
      " |  Class methods inherited from mongoengine.base.document.BaseDocument:\n",
      " |  \n",
      " |  _build_index_spec(spec) from mongoengine.base.metaclasses.TopLevelDocumentMetaclass\n",
      " |      Build a PyMongo index spec from a MongoEngine index spec.\n",
      " |  \n",
      " |  _build_index_specs(meta_indexes) from mongoengine.base.metaclasses.TopLevelDocumentMetaclass\n",
      " |      Generate and merge the full index specs.\n",
      " |  \n",
      " |  _from_son(son, _auto_dereference=True, only_fields=None, created=False) from mongoengine.base.metaclasses.TopLevelDocumentMetaclass\n",
      " |      Create an instance of a Document (subclass) from a PyMongo\n",
      " |      SON.\n",
      " |  \n",
      " |  _geo_indices(inspected=None, parent_field=None) from mongoengine.base.metaclasses.TopLevelDocumentMetaclass\n",
      " |  \n",
      " |  _get_collection_name() from mongoengine.base.metaclasses.TopLevelDocumentMetaclass\n",
      " |      Return the collection name for this class. None for abstract\n",
      " |      class.\n",
      " |  \n",
      " |  _lookup_field(parts) from mongoengine.base.metaclasses.TopLevelDocumentMetaclass\n",
      " |      Given the path to a given field, return a list containing\n",
      " |      the Field object associated with that field and all of its parent\n",
      " |      Field objects.\n",
      " |      \n",
      " |      Args:\n",
      " |          parts (str, list, or tuple) - path to the field. Should be a\n",
      " |          string for simple fields existing on this document or a list\n",
      " |          of strings for a field that exists deeper in embedded documents.\n",
      " |      \n",
      " |      Returns:\n",
      " |          A list of Field instances for fields that were found or\n",
      " |          strings for sub-fields that weren't.\n",
      " |      \n",
      " |      Example:\n",
      " |          >>> user._lookup_field('name')\n",
      " |          [<mongoengine.fields.StringField at 0x1119bff50>]\n",
      " |      \n",
      " |          >>> user._lookup_field('roles')\n",
      " |          [<mongoengine.fields.EmbeddedDocumentListField at 0x1119ec250>]\n",
      " |      \n",
      " |          >>> user._lookup_field(['roles', 'role'])\n",
      " |          [<mongoengine.fields.EmbeddedDocumentListField at 0x1119ec250>,\n",
      " |           <mongoengine.fields.StringField at 0x1119ec050>]\n",
      " |      \n",
      " |          >>> user._lookup_field('doesnt_exist')\n",
      " |          raises LookUpError\n",
      " |      \n",
      " |          >>> user._lookup_field(['roles', 'doesnt_exist'])\n",
      " |          [<mongoengine.fields.EmbeddedDocumentListField at 0x1119ec250>,\n",
      " |           'doesnt_exist']\n",
      " |  \n",
      " |  _translate_field_name(field, sep='.') from mongoengine.base.metaclasses.TopLevelDocumentMetaclass\n",
      " |      Translate a field attribute name to a database field name.\n",
      " |  \n",
      " |  _unique_with_indexes(namespace='') from mongoengine.base.metaclasses.TopLevelDocumentMetaclass\n",
      " |      Find unique indexes in the document schema and return them.\n",
      " |  \n",
      " |  from_json(json_data, created=False) from mongoengine.base.metaclasses.TopLevelDocumentMetaclass\n",
      " |      Converts json data to a Document instance\n",
      " |      \n",
      " |      :param json_data: The json data to load into the Document\n",
      " |      :param created: If True, the document will be considered as a brand new document\n",
      " |                      If False and an id is provided, it will consider that the data being\n",
      " |                      loaded corresponds to what's already in the database (This has an impact of subsequent call to .save())\n",
      " |                      If False and no id is provided, it will consider the data as a new document\n",
      " |                      (default ``False``)\n",
      " |  \n",
      " |  ----------------------------------------------------------------------\n",
      " |  Data descriptors inherited from mongoengine.base.document.BaseDocument:\n",
      " |  \n",
      " |  __weakref__\n",
      " |      list of weak references to the object (if defined)\n",
      " |  \n",
      " |  _changed_fields\n",
      " |  \n",
      " |  _created\n",
      " |  \n",
      " |  _data\n",
      " |  \n",
      " |  _dynamic_fields\n",
      " |  \n",
      " |  _initialised\n",
      " |  \n",
      " |  ----------------------------------------------------------------------\n",
      " |  Data and other attributes inherited from mongoengine.base.document.BaseDocument:\n",
      " |  \n",
      " |  STRICT = False\n",
      " |  \n",
      " |  _dynamic = False\n",
      " |  \n",
      " |  _dynamic_lock = True\n",
      "\n"
     ]
    }
   ],
   "source": [
    "help(Author)"
   ]
  },
  {
   "cell_type": "code",
   "execution_count": 27,
   "metadata": {},
   "outputs": [
    {
     "data": {
      "text/plain": [
       "1"
      ]
     },
     "execution_count": 27,
     "metadata": {},
     "output_type": "execute_result"
    }
   ],
   "source": [
    "Author.objects.delete()"
   ]
  },
  {
   "cell_type": "code",
   "execution_count": 28,
   "metadata": {},
   "outputs": [
    {
     "data": {
      "text/plain": [
       "[]"
      ]
     },
     "execution_count": 28,
     "metadata": {},
     "output_type": "execute_result"
    }
   ],
   "source": [
    "Author.objects"
   ]
  },
  {
   "cell_type": "code",
   "execution_count": 29,
   "metadata": {},
   "outputs": [
    {
     "data": {
      "text/plain": [
       "2"
      ]
     },
     "execution_count": 29,
     "metadata": {},
     "output_type": "execute_result"
    }
   ],
   "source": [
    "Article.objects.delete()"
   ]
  },
  {
   "cell_type": "code",
   "execution_count": null,
   "metadata": {},
   "outputs": [],
   "source": []
  }
 ],
 "metadata": {
  "kernelspec": {
   "display_name": "Python 3",
   "language": "python",
   "name": "python3"
  },
  "language_info": {
   "codemirror_mode": {
    "name": "ipython",
    "version": 3
   },
   "file_extension": ".py",
   "mimetype": "text/x-python",
   "name": "python",
   "nbconvert_exporter": "python",
   "pygments_lexer": "ipython3",
   "version": "3.5.2"
  }
 },
 "nbformat": 4,
 "nbformat_minor": 2
}
