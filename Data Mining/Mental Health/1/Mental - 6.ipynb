{
 "cells": [
  {
   "cell_type": "code",
   "execution_count": 1,
   "metadata": {},
   "outputs": [],
   "source": [
    "import web_scraper, ArticleScraper"
   ]
  },
  {
   "cell_type": "code",
   "execution_count": 3,
   "metadata": {},
   "outputs": [],
   "source": [
    "from mongoengine import *\n",
    "import datetime\n",
    "\n",
    "connect('mongoengine_2', host='localhost', port=27017)\n",
    "\n",
    "class TaggedText(EmbeddedDocument):\n",
    "    content = StringField()\n",
    "    text_tag = StringField()\n",
    "    \n",
    "class Author(Document):\n",
    "#     author = StringField(required=True)\n",
    "    name = StringField()\n",
    "    \n",
    "    \n",
    "class Article(Document):\n",
    "    title = StringField(required=True)\n",
    "    contents = ListField(EmbeddedDocumentField(TaggedText))\n",
    "    author = ReferenceField(Author, reverse_delete_rule=CASCADE)\n",
    "    posted_date = DateTimeField(default=datetime.datetime.now)\n",
    "    published_status = BooleanField(default=False)\n",
    "    source_url = URLField()\n",
    "    source = StringField()\n",
    "\n",
    "    credits = StringField()\n",
    "    tags = ListField(StringField(max_length=30))\n",
    "    img_urls = ListField(URLField())"
   ]
  },
  {
   "cell_type": "code",
   "execution_count": null,
   "metadata": {},
   "outputs": [],
   "source": []
  },
  {
   "cell_type": "code",
   "execution_count": 4,
   "metadata": {},
   "outputs": [],
   "source": [
    "import time"
   ]
  },
  {
   "cell_type": "code",
   "execution_count": null,
   "metadata": {},
   "outputs": [],
   "source": [
    "with open('cleaned_data_url.txt', 'r') as f:\n",
    "    data = f.readlines()\n",
    " \n",
    "    for line in data:\n",
    "#         words = line.split()\n",
    "#         print (line)\n",
    "#         print(type(line))\n",
    "\n",
    "        print('Processing URL...')\n",
    "        current_page = web_scraper.soupified_request(line)\n",
    "        \n",
    "        tag_text_list = []\n",
    "\n",
    "        tag_text_list.append(['title', ArticleScraper.get_article_title(current_page)])\n",
    "\n",
    "        body = list(current_page.find('div', {'class' : 'field-item even first last'}))\n",
    "\n",
    "        ArticleScraper.tag_text_list_gen(body, tag_text_list)\n",
    "\n",
    "        title = tag_text_list[0][1]\n",
    "        \n",
    "        contentss = []\n",
    "\n",
    "        for i in range(1, len(tag_text_list)):\n",
    "\n",
    "            tagg = tag_text_list[i][0]\n",
    "            textt = tag_text_list[i][1]\n",
    "\n",
    "            contentss.append(TaggedText(content=textt, text_tag=tagg))\n",
    "            \n",
    "        article_1 = Article(title=title, contents=contentss)\n",
    "        \n",
    "        article_1.save()\n",
    "        \n",
    "        print('\\nCompleted URL...\\n')\n",
    "        time.sleep(11)\n",
    "        print('\\nSleeping!\\n')\n",
    "\n",
    "        "
   ]
  }
 ],
 "metadata": {
  "kernelspec": {
   "display_name": "Python 3",
   "language": "python",
   "name": "python3"
  },
  "language_info": {
   "codemirror_mode": {
    "name": "ipython",
    "version": 3
   },
   "file_extension": ".py",
   "mimetype": "text/x-python",
   "name": "python",
   "nbconvert_exporter": "python",
   "pygments_lexer": "ipython3",
   "version": "3.5.2"
  }
 },
 "nbformat": 4,
 "nbformat_minor": 2
}
