{
 "cells": [
  {
   "cell_type": "code",
   "execution_count": 1,
   "metadata": {},
   "outputs": [],
   "source": [
    "from googletrans import Translator"
   ]
  },
  {
   "cell_type": "code",
   "execution_count": 2,
   "metadata": {},
   "outputs": [],
   "source": [
    "trans = Translator()"
   ]
  },
  {
   "cell_type": "code",
   "execution_count": null,
   "metadata": {},
   "outputs": [],
   "source": []
  },
  {
   "cell_type": "code",
   "execution_count": 4,
   "metadata": {},
   "outputs": [
    {
     "data": {
      "text/plain": [
       "<googletrans.models.Translated at 0x7f2f55425a20>"
      ]
     },
     "execution_count": 4,
     "metadata": {},
     "output_type": "execute_result"
    }
   ],
   "source": [
    "from googletrans import Translator\n",
    "\n",
    "translator = Translator()\n",
    "\n",
    "translator.translate('안녕하세요.')\n",
    "# <Translated src=ko dest=en text=Good evening. pronunciation=Good evening.>"
   ]
  },
  {
   "cell_type": "code",
   "execution_count": 7,
   "metadata": {},
   "outputs": [
    {
     "name": "stdout",
     "output_type": "stream",
     "text": [
      "Hi.\n"
     ]
    }
   ],
   "source": [
    "print(translator.translate('안녕하세요.').text)"
   ]
  },
  {
   "cell_type": "code",
   "execution_count": 11,
   "metadata": {},
   "outputs": [
    {
     "data": {
      "text/plain": [
       "'안녕하십니까.'"
      ]
     },
     "execution_count": 11,
     "metadata": {},
     "output_type": "execute_result"
    }
   ],
   "source": [
    "translator.translate(text='Hello there.', dest='ko').text"
   ]
  },
  {
   "cell_type": "code",
   "execution_count": 12,
   "metadata": {},
   "outputs": [
    {
     "data": {
      "text/plain": [
       "'হ্যালো সেখানে।'"
      ]
     },
     "execution_count": 12,
     "metadata": {},
     "output_type": "execute_result"
    }
   ],
   "source": [
    "translator.translate(text='Hello there.', dest='bn').text"
   ]
  },
  {
   "cell_type": "code",
   "execution_count": 13,
   "metadata": {},
   "outputs": [
    {
     "data": {
      "text/plain": [
       "'আপনি কেমন আছেন?'"
      ]
     },
     "execution_count": 13,
     "metadata": {},
     "output_type": "execute_result"
    }
   ],
   "source": [
    "translator.translate(text='How are you?', dest='bn').text"
   ]
  },
  {
   "cell_type": "code",
   "execution_count": 34,
   "metadata": {},
   "outputs": [
    {
     "name": "stdout",
     "output_type": "stream",
     "text": [
      "Waiting for 4 seconds.\n"
     ]
    }
   ],
   "source": [
    "str_array = ['I am so hungry.', \n",
    "             'Mental health issues', \n",
    "             'Third text', \n",
    "             'Sadia is a gangster!', \n",
    "             'Ratul is a good boy.']\n",
    "\n",
    "\n",
    "import time\n",
    "import random\n",
    "\n",
    "res = []\n",
    "\n",
    "str_len = 0\n",
    "\n",
    "for txt in str_array:\n",
    "#     t_flag = True\n",
    "    str_len = str_len + len(txt)\n",
    "    \n",
    "#     if (len(txt) >= 15000):\n",
    "#         print('Too big!!! 15k Max!')\n",
    "#         t_flag = False\n",
    "#         break\n",
    "#     else:\n",
    "#         res = translator.translate(str_array, dest='bn')\n",
    "\n",
    "if (str_len >= 15000):\n",
    "    print('Too big!!! 15k Max!')\n",
    "\n",
    "else:\n",
    "    res.append(translator.translate(str_array, dest='bn'))\n",
    "\n",
    "\n",
    "\n",
    "# Wait for 5 seconds\n",
    "randy = random.randint(1, 5)\n",
    "\n",
    "print(\"Waiting for \" + str(randy) + \" seconds.\")\n",
    "\n",
    "time.sleep(randy)\n",
    " \n",
    "# Wait for 300 milliseconds\n",
    "# .3 can also be used\n",
    "# time.sleep(.300)"
   ]
  },
  {
   "cell_type": "code",
   "execution_count": 32,
   "metadata": {},
   "outputs": [
    {
     "name": "stdout",
     "output_type": "stream",
     "text": [
      "3\n",
      "4\n",
      "3\n",
      "5\n",
      "4\n",
      "4\n",
      "3\n",
      "3\n",
      "2\n",
      "1\n"
     ]
    }
   ],
   "source": [
    "\n",
    "# for x in range(10):\n",
    "#   print ()"
   ]
  },
  {
   "cell_type": "code",
   "execution_count": 37,
   "metadata": {},
   "outputs": [
    {
     "name": "stdout",
     "output_type": "stream",
     "text": [
      "আমি খুবই ক্ষুধার্ত.\n",
      "মানসিক স্বাস্থ্য সমস্যা\n",
      "তৃতীয় টেক্সট\n",
      "সাদিয়া একটি গ্যাংস্টার!\n",
      "রতুল একটি ভাল ছেলে।\n"
     ]
    }
   ],
   "source": [
    "for _ in res[0]:\n",
    "    print(_.text)"
   ]
  },
  {
   "cell_type": "code",
   "execution_count": 36,
   "metadata": {},
   "outputs": [
    {
     "data": {
      "text/plain": [
       "[[<googletrans.models.Translated at 0x7f2f549ddbe0>,\n",
       "  <googletrans.models.Translated at 0x7f2f549dd1d0>,\n",
       "  <googletrans.models.Translated at 0x7f2f54a4b550>,\n",
       "  <googletrans.models.Translated at 0x7f2f54a4b438>,\n",
       "  <googletrans.models.Translated at 0x7f2f54a4b9e8>]]"
      ]
     },
     "execution_count": 36,
     "metadata": {},
     "output_type": "execute_result"
    }
   ],
   "source": [
    "res"
   ]
  },
  {
   "cell_type": "code",
   "execution_count": 38,
   "metadata": {},
   "outputs": [],
   "source": [
    "def trans_list(str_array):\n",
    "\n",
    "    res = []\n",
    "\n",
    "    str_len = 0\n",
    "\n",
    "    for txt in str_array:\n",
    "        str_len = str_len + len(txt)\n",
    "\n",
    "\n",
    "\n",
    "    if (str_len >= 15000):\n",
    "        print('Too big!!! 15k Max!')\n",
    "\n",
    "    else:\n",
    "        res.append(translator.translate(str_array, dest='bn'))\n",
    "\n",
    "\n",
    "\n",
    "    # Wait for 5 seconds\n",
    "    randy = random.randint(1, 5)\n",
    "\n",
    "    print(\"Waiting for \" + str(randy) + \" seconds.\")\n",
    "\n",
    "    time.sleep(randy)\n",
    "    \n",
    "    return res\n"
   ]
  },
  {
   "cell_type": "code",
   "execution_count": 39,
   "metadata": {},
   "outputs": [
    {
     "name": "stdout",
     "output_type": "stream",
     "text": [
      "Waiting for 4 seconds.\n"
     ]
    }
   ],
   "source": [
    "a = trans_list(str_array)"
   ]
  },
  {
   "cell_type": "code",
   "execution_count": 41,
   "metadata": {},
   "outputs": [
    {
     "name": "stdout",
     "output_type": "stream",
     "text": [
      "আমি খুবই ক্ষুধার্ত.\n",
      "মানসিক স্বাস্থ্য সমস্যা\n",
      "তৃতীয় টেক্সট\n",
      "সাদিয়া একটি গ্যাংস্টার!\n",
      "রতুল একটি ভাল ছেলে।\n"
     ]
    }
   ],
   "source": [
    "for _ in a[0]:\n",
    "    print(_.text)"
   ]
  },
  {
   "cell_type": "code",
   "execution_count": null,
   "metadata": {},
   "outputs": [],
   "source": []
  }
 ],
 "metadata": {
  "kernelspec": {
   "display_name": "Python 3",
   "language": "python",
   "name": "python3"
  },
  "language_info": {
   "codemirror_mode": {
    "name": "ipython",
    "version": 3
   },
   "file_extension": ".py",
   "mimetype": "text/x-python",
   "name": "python",
   "nbconvert_exporter": "python",
   "pygments_lexer": "ipython3",
   "version": "3.5.2"
  }
 },
 "nbformat": 4,
 "nbformat_minor": 2
}
