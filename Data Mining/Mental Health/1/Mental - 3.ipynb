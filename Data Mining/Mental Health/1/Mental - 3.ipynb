{
 "cells": [
  {
   "cell_type": "code",
   "execution_count": 1,
   "metadata": {},
   "outputs": [],
   "source": [
    "import web_scraper, ArticleScraper"
   ]
  },
  {
   "cell_type": "code",
   "execution_count": 2,
   "metadata": {},
   "outputs": [],
   "source": [
    "current_page = web_scraper.soupified_request('http://www.mentalhealthamerica.net/every-child-needs')"
   ]
  },
  {
   "cell_type": "code",
   "execution_count": null,
   "metadata": {},
   "outputs": [],
   "source": []
  },
  {
   "cell_type": "code",
   "execution_count": 3,
   "metadata": {},
   "outputs": [],
   "source": [
    "#######################################################################################"
   ]
  },
  {
   "cell_type": "code",
   "execution_count": 4,
   "metadata": {},
   "outputs": [],
   "source": [
    "tag_text_list = []\n",
    "\n",
    "tag_text_list.append(['title', ArticleScraper.get_article_title(current_page)])"
   ]
  },
  {
   "cell_type": "code",
   "execution_count": null,
   "metadata": {},
   "outputs": [],
   "source": []
  },
  {
   "cell_type": "code",
   "execution_count": 5,
   "metadata": {},
   "outputs": [],
   "source": [
    "body = list(current_page.find('div', {'class' : 'field-item even first last'}))"
   ]
  },
  {
   "cell_type": "code",
   "execution_count": null,
   "metadata": {},
   "outputs": [],
   "source": []
  },
  {
   "cell_type": "code",
   "execution_count": 6,
   "metadata": {},
   "outputs": [
    {
     "data": {
      "text/plain": [
       "[['title', 'What Every Child Needs For Good Mental Health'],\n",
       " ['p',\n",
       "  'It is easy for parents to identify their child’s physical needs: nutritious food, warm clothes when it’s cold, bedtime at a reasonable hour. However, a child’s mental and emotional needs may not be as obvious. Good mental health allows children to think clearly, develop socially and learn new skills.\\xa0 Additionally, good friends and\\xa0 encouraging words from adults are all important for helping children develop self confidence, high self-esteem, and a healthy emotional outlook on life.'],\n",
       " ['p', 'A child’s physical and mental health are both important.'],\n",
       " ['p', 'Basics for a child’s good physical health:'],\n",
       " ['ul',\n",
       "  '\\n\\nNutritious food\\n\\n\\nAdequate shelter and sleep\\n\\n\\nExercise\\n\\n\\nImmunizations\\n\\n\\nHealthy living environment\\n\\n'],\n",
       " ['p', 'Basics for a child’s good mental health:'],\n",
       " ['ul',\n",
       "  '\\n\\nUnconditional love from family\\n\\n\\nSelf-confidence and high self-esteem\\n\\n\\nThe opportunity to play with other children\\n\\n\\nEncouraging teachers and supportive caretakers\\n\\n\\nSafe and secure surroundings\\n\\n\\nAppropriate guidance and discipline\\n\\n'],\n",
       " ['p', 'Give children unconditional love.'],\n",
       " ['p',\n",
       "  'Love, security and acceptance should be at the heart of family life.\\xa0 Children need to know that your love does not depend on his or her accomplishments.'],\n",
       " ['p',\n",
       "  'Mistakes and/or defeats should be expected and accepted. Confidence grows in a home that is full of unconditional love and affection.'],\n",
       " ['p', 'Nurture children’s confidence and self-esteem.'],\n",
       " ['ul',\n",
       "  '\\n\\nPraise Them - Encouraging children’s first steps or their ability to learn a new game helps them develop a desire to explore and learn about their surroundings. Allow children to explore and play in a safe area where they cannot get hurt.\\xa0 Assure them by smiling and talking to them often. Be an active participant in their activities. Your attention helps build their self-confidence and self-esteem.\\n\\n\\nSet Realistic Goals - Young children need realistic goals that match their ambitions with their abilities. With your help, older children can choose activities that test their abilities and increase their self-confidence.\\n\\n\\nBe Honest - Do not hide your failures from your children. It is important for them to know that we all make mistakes. It can be very re-assuring to know that adults are not perfect.\\n\\n\\nAvoid Sarcastic Remarks - If a child loses a game or fails a test, find out how he or she feels about the situation. Children may get discouraged and need a pep talk. Later, when they are ready, talk and offer assurance.\\n\\n\\nEncourage children - To not only strive to do their best, but also to enjoy the process. Trying new activities teaches children about teamwork, self-esteem and new skills.\\n\\n'],\n",
       " ['p', 'Make time for play!'],\n",
       " ['p', 'Encourage Children to Play'],\n",
       " ['p',\n",
       "  'To children, play is just fun. However, playtime is as important to their development as food and good care. Playtime helps children be creative, learn problem-solving skills and learn self-control.\\xa0 Good, hardy play, which includes running and yelling, is not only fun, but helps children to be physically and mentally healthy.'],\n",
       " ['p', 'Children Need Playmates'],\n",
       " ['p',\n",
       "  'Sometimes it is important for children to have time with their peers.\\xa0 By playing with others, children discover their strengths and weaknesses, develop a sense of belonging, and learn how to get along with others. Consider finding a good children’s program through neighbors, local community centers, schools, or your local park and recreation department.'],\n",
       " ['p', 'Parents Can be Great Playmates'],\n",
       " ['p',\n",
       "  'Join the fun! Playing Monopoly or coloring with a child gives you a great opportunity to share ideas and spend time together in a relaxed setting.'],\n",
       " ['p', 'Play for Fun'],\n",
       " ['p',\n",
       "  'Winning is not as important as being involved and enjoying the activity. One of the most important questions to ask children is “Did you have fun?’’ not “Did you win?”'],\n",
       " ['p',\n",
       "  'In our goal-oriented society, we often acknowledge only success and winning. This attitude can be discouraging and frustrating to children who are learning and experimenting with new activities. It’s more important for children to participate and enjoy themselves.'],\n",
       " ['p', 'TV use should be monitored'],\n",
       " ['p',\n",
       "  'Try not to use TV as a “baby-sitter” on a regular basis.\\xa0 Be selective in choosing television shows for children. Some shows can be educational as well as entertaining.'],\n",
       " ['p', 'School should be fun!'],\n",
       " ['p',\n",
       "  'Starting school is a big event for children. “Playing school” can be a positive way to give them a glimpse of school life.'],\n",
       " ['p',\n",
       "  'Try to enroll them in a pre-school, Head Start, or similar community program which provides an opportunity to be with other kids and make new friends. Children can also learn academic basics as well as how to make decisions and cope with problems.'],\n",
       " ['p', 'Provide appropriate guidance and instructive discipline'],\n",
       " ['p',\n",
       "  'Children need the opportunity to explore and develop new skills and independence. At the same time, children need to learn that certain behaviors are unacceptable and that they are responsible for the consequences of their actions.'],\n",
       " ['p',\n",
       "  'As members of a family, children need to learn the rules of the family unit. Offer guidance and discipline that is fair and consistent. They will take these social skills and rules of conduct to school and eventually to the workplace.'],\n",
       " ['p', 'Suggestions on Guidance and Discipline'],\n",
       " ['ul',\n",
       "  '\\n\\nBe firm, but kind and realistic with your expectations. Children’s development depends on your love and encouragement.\\n\\n\\nSet a good example. You cannot expect self-control and self-discipline from a child if you do not practice this behavior.\\n\\n'],\n",
       " ['p',\n",
       "  'Criticize the behavior, not the child.\\xa0 It is best to say, “That was a bad thing you did,” rather than “You are a bad boy or girl.”'],\n",
       " ['p',\n",
       "  'Avoid nagging, threats and bribery.\\xa0Children will learn to ignore nagging, and threats and bribes are seldom effective.'],\n",
       " ['p',\n",
       "  'Give children the reasons “why” you are disciplining them and what the potential consequences of their actions might be.'],\n",
       " ['p',\n",
       "  'Talk about your feelings.\\xa0 We all lose our temper from time to time. If you do “blow your top,” it is important to talk about what happened and why you are angry.\\xa0 Apologize if you were wrong!'],\n",
       " ['p',\n",
       "  'Remember, the goal is not to control the child, but for him or her to learn self-control.'],\n",
       " ['p', 'Provide a safe and secure home.'],\n",
       " ['p',\n",
       "  'It’s okay for children to feel afraid sometimes.\\xa0 Everyone is afraid of something at some point in their life. Fear and anxiety grow out of experiences that we do not understand.'],\n",
       " ['p',\n",
       "  'If your children have fears that will not go away and affect his or her behavior, the first step is to find out what is frightening them. Be loving, patient and reassuring, not critical. Remember:\\xa0 the fear may be very real to the child.'],\n",
       " ['p', 'Signs of Fear'],\n",
       " ['p',\n",
       "  'Nervous mannerisms, shyness, withdrawal and aggressive behavior may be signs of childhood fears. A change in\\xa0 normal eating and sleeping patterns may also signal an unhealthy fear. Children who “play sick” or feel anxious regularly may have some problems that need attention.'],\n",
       " ['p',\n",
       "  'Fear of school can occur following a stressful event such as moving to a new neighborhood, changing schools, or after a bad incident at school.'],\n",
       " ['p',\n",
       "  'Children may not want to go to school after a period of being at home because of an illness.'],\n",
       " ['p', 'When to seek help'],\n",
       " ['p',\n",
       "  'Parents and family members are usually the first to notice if a child has problems with emotions or behavior. Your observations with those of teachers and other caregivers may lead you to seek help for your child. If you suspect a problem or have questions, consult your pediatrician or contact a mental health professional.'],\n",
       " ['p', 'Warning Signs'],\n",
       " ['p',\n",
       "  'The following signs may indicate the need for professional assistance or evaluation:'],\n",
       " ['ul',\n",
       "  '\\n\\nDecline in school performance\\n\\n\\nPoor grades despite strong efforts\\n\\n\\nRegular worry or anxiety\\n\\n\\nRepeated refusal to go to school or take part in normal children’s activities\\n\\n\\nHyperactivity or fidgeting\\n\\n\\nPersistent nightmares\\n\\n\\nPersistent disobedience or aggression\\n\\n\\nFrequent temper tantrums\\n\\n\\nDepression, sadness or irritability\\n\\n'],\n",
       " ['div',\n",
       "  '\\nLearn more about specific mental health conditions and children \\n\\n\\n\\nADHD - attentional problems\\n\\n\\nAutism - developmental delay\\n\\n\\nBipolar Disorder - depression and high energy\\n\\n\\nConduct Disorder - behavioral problems\\n\\n\\nDepression - sadness\\n\\n\\nGrief - coping with loss\\n\\n\\nPsychosis - hearing voices or seeing things that aren\\'t there\\n\\n\\nSuicide - thoughts of death/dying\\n\\n\\nSubstance use - drinking and using drugs\\n\\n\\n\\n\\nWhere to seek help\\n\\nInformation and referrals regarding the types of services that are available for children may be obtained from:\\n\\n\\nMental health organizations, hotlines and libraries\\n\\n\\nOther professionals such as the child’s pediatrician or school counselor\\n\\n\\nOther families in the community\\n\\n\\nFamily network organizations\\n\\n\\nCommunity-based psychiatric care\\n\\n\\nCrisis outreach teams\\n\\n\\nEducation or special education services\\n\\n\\nFamily resource centers and support groups\\n\\n\\nHealth services\\n\\n\\nProtection and advocacy groups and organizations\\n\\n\\nSelf-help and support groups\\n\\n\\nOther Resources\\nAmerican Academy of Child and Adolescent Psychiatry\\nwww.aacap.org\\nFederation of Families for Children’s Mental Health\\n\\t\\t\\t\\tPhone: 703-684-7710\\nwww.ffcmh.org\\nFamily Support America\\n\\t\\t\\t\\tPhone: 312-338-0900\\n\\nNational Association of School Psychologists\\n\\t\\t\\t\\tPhone 301-657-0270\\nwww.naspweb.org\\nWhat Every Child Needs for Good Mental Health is one in a series of pamphlets on children and teen mental health.\\nOther Mental Health America titles include:\\n\\n\\n\\nTeen Eating Disorders\\n\\n\\n\\n\\n\\nTeen Depression and Suicide\\n\\n\\nTeen Self-esteem Feeling Good About Yourself\\n\\n\\nTeen Stress: A Guide to Surviving Stress\\n\\n\\nSOURCES\\n“Facts for Families,\" America Academy of Child and Adolescent Psychiatry\\n\\t\\t\\t\\t“Children’s and Adolescent’s Mental Health,\" US Dept. of Health and Human Services\\n\\t\\t\\t\\tcopyright 1997 revised 2/00\\nThis pamphlet is copyrighted.\\xa0 Permission to reprint must be obtained from Mental Health America. 2/00\\n\\n\\xa0\\n\\n'],\n",
       " ['p', '\\xa0']]"
      ]
     },
     "execution_count": 6,
     "metadata": {},
     "output_type": "execute_result"
    }
   ],
   "source": [
    "ArticleScraper.tag_text_list_gen(body, tag_text_list)"
   ]
  },
  {
   "cell_type": "code",
   "execution_count": 7,
   "metadata": {},
   "outputs": [],
   "source": [
    "#######################################################################################"
   ]
  },
  {
   "cell_type": "code",
   "execution_count": null,
   "metadata": {},
   "outputs": [],
   "source": []
  },
  {
   "cell_type": "code",
   "execution_count": null,
   "metadata": {},
   "outputs": [],
   "source": []
  },
  {
   "cell_type": "code",
   "execution_count": 8,
   "metadata": {},
   "outputs": [
    {
     "data": {
      "text/plain": [
       "[['title', 'What Every Child Needs For Good Mental Health'],\n",
       " ['p',\n",
       "  'It is easy for parents to identify their child’s physical needs: nutritious food, warm clothes when it’s cold, bedtime at a reasonable hour. However, a child’s mental and emotional needs may not be as obvious. Good mental health allows children to think clearly, develop socially and learn new skills.\\xa0 Additionally, good friends and\\xa0 encouraging words from adults are all important for helping children develop self confidence, high self-esteem, and a healthy emotional outlook on life.'],\n",
       " ['p', 'A child’s physical and mental health are both important.'],\n",
       " ['p', 'Basics for a child’s good physical health:'],\n",
       " ['ul',\n",
       "  '\\n\\nNutritious food\\n\\n\\nAdequate shelter and sleep\\n\\n\\nExercise\\n\\n\\nImmunizations\\n\\n\\nHealthy living environment\\n\\n'],\n",
       " ['p', 'Basics for a child’s good mental health:'],\n",
       " ['ul',\n",
       "  '\\n\\nUnconditional love from family\\n\\n\\nSelf-confidence and high self-esteem\\n\\n\\nThe opportunity to play with other children\\n\\n\\nEncouraging teachers and supportive caretakers\\n\\n\\nSafe and secure surroundings\\n\\n\\nAppropriate guidance and discipline\\n\\n'],\n",
       " ['p', 'Give children unconditional love.'],\n",
       " ['p',\n",
       "  'Love, security and acceptance should be at the heart of family life.\\xa0 Children need to know that your love does not depend on his or her accomplishments.'],\n",
       " ['p',\n",
       "  'Mistakes and/or defeats should be expected and accepted. Confidence grows in a home that is full of unconditional love and affection.'],\n",
       " ['p', 'Nurture children’s confidence and self-esteem.'],\n",
       " ['ul',\n",
       "  '\\n\\nPraise Them - Encouraging children’s first steps or their ability to learn a new game helps them develop a desire to explore and learn about their surroundings. Allow children to explore and play in a safe area where they cannot get hurt.\\xa0 Assure them by smiling and talking to them often. Be an active participant in their activities. Your attention helps build their self-confidence and self-esteem.\\n\\n\\nSet Realistic Goals - Young children need realistic goals that match their ambitions with their abilities. With your help, older children can choose activities that test their abilities and increase their self-confidence.\\n\\n\\nBe Honest - Do not hide your failures from your children. It is important for them to know that we all make mistakes. It can be very re-assuring to know that adults are not perfect.\\n\\n\\nAvoid Sarcastic Remarks - If a child loses a game or fails a test, find out how he or she feels about the situation. Children may get discouraged and need a pep talk. Later, when they are ready, talk and offer assurance.\\n\\n\\nEncourage children - To not only strive to do their best, but also to enjoy the process. Trying new activities teaches children about teamwork, self-esteem and new skills.\\n\\n'],\n",
       " ['p', 'Make time for play!'],\n",
       " ['p', 'Encourage Children to Play'],\n",
       " ['p',\n",
       "  'To children, play is just fun. However, playtime is as important to their development as food and good care. Playtime helps children be creative, learn problem-solving skills and learn self-control.\\xa0 Good, hardy play, which includes running and yelling, is not only fun, but helps children to be physically and mentally healthy.'],\n",
       " ['p', 'Children Need Playmates'],\n",
       " ['p',\n",
       "  'Sometimes it is important for children to have time with their peers.\\xa0 By playing with others, children discover their strengths and weaknesses, develop a sense of belonging, and learn how to get along with others. Consider finding a good children’s program through neighbors, local community centers, schools, or your local park and recreation department.'],\n",
       " ['p', 'Parents Can be Great Playmates'],\n",
       " ['p',\n",
       "  'Join the fun! Playing Monopoly or coloring with a child gives you a great opportunity to share ideas and spend time together in a relaxed setting.'],\n",
       " ['p', 'Play for Fun'],\n",
       " ['p',\n",
       "  'Winning is not as important as being involved and enjoying the activity. One of the most important questions to ask children is “Did you have fun?’’ not “Did you win?”'],\n",
       " ['p',\n",
       "  'In our goal-oriented society, we often acknowledge only success and winning. This attitude can be discouraging and frustrating to children who are learning and experimenting with new activities. It’s more important for children to participate and enjoy themselves.'],\n",
       " ['p', 'TV use should be monitored'],\n",
       " ['p',\n",
       "  'Try not to use TV as a “baby-sitter” on a regular basis.\\xa0 Be selective in choosing television shows for children. Some shows can be educational as well as entertaining.'],\n",
       " ['p', 'School should be fun!'],\n",
       " ['p',\n",
       "  'Starting school is a big event for children. “Playing school” can be a positive way to give them a glimpse of school life.'],\n",
       " ['p',\n",
       "  'Try to enroll them in a pre-school, Head Start, or similar community program which provides an opportunity to be with other kids and make new friends. Children can also learn academic basics as well as how to make decisions and cope with problems.'],\n",
       " ['p', 'Provide appropriate guidance and instructive discipline'],\n",
       " ['p',\n",
       "  'Children need the opportunity to explore and develop new skills and independence. At the same time, children need to learn that certain behaviors are unacceptable and that they are responsible for the consequences of their actions.'],\n",
       " ['p',\n",
       "  'As members of a family, children need to learn the rules of the family unit. Offer guidance and discipline that is fair and consistent. They will take these social skills and rules of conduct to school and eventually to the workplace.'],\n",
       " ['p', 'Suggestions on Guidance and Discipline'],\n",
       " ['ul',\n",
       "  '\\n\\nBe firm, but kind and realistic with your expectations. Children’s development depends on your love and encouragement.\\n\\n\\nSet a good example. You cannot expect self-control and self-discipline from a child if you do not practice this behavior.\\n\\n'],\n",
       " ['p',\n",
       "  'Criticize the behavior, not the child.\\xa0 It is best to say, “That was a bad thing you did,” rather than “You are a bad boy or girl.”'],\n",
       " ['p',\n",
       "  'Avoid nagging, threats and bribery.\\xa0Children will learn to ignore nagging, and threats and bribes are seldom effective.'],\n",
       " ['p',\n",
       "  'Give children the reasons “why” you are disciplining them and what the potential consequences of their actions might be.'],\n",
       " ['p',\n",
       "  'Talk about your feelings.\\xa0 We all lose our temper from time to time. If you do “blow your top,” it is important to talk about what happened and why you are angry.\\xa0 Apologize if you were wrong!'],\n",
       " ['p',\n",
       "  'Remember, the goal is not to control the child, but for him or her to learn self-control.'],\n",
       " ['p', 'Provide a safe and secure home.'],\n",
       " ['p',\n",
       "  'It’s okay for children to feel afraid sometimes.\\xa0 Everyone is afraid of something at some point in their life. Fear and anxiety grow out of experiences that we do not understand.'],\n",
       " ['p',\n",
       "  'If your children have fears that will not go away and affect his or her behavior, the first step is to find out what is frightening them. Be loving, patient and reassuring, not critical. Remember:\\xa0 the fear may be very real to the child.'],\n",
       " ['p', 'Signs of Fear'],\n",
       " ['p',\n",
       "  'Nervous mannerisms, shyness, withdrawal and aggressive behavior may be signs of childhood fears. A change in\\xa0 normal eating and sleeping patterns may also signal an unhealthy fear. Children who “play sick” or feel anxious regularly may have some problems that need attention.'],\n",
       " ['p',\n",
       "  'Fear of school can occur following a stressful event such as moving to a new neighborhood, changing schools, or after a bad incident at school.'],\n",
       " ['p',\n",
       "  'Children may not want to go to school after a period of being at home because of an illness.'],\n",
       " ['p', 'When to seek help'],\n",
       " ['p',\n",
       "  'Parents and family members are usually the first to notice if a child has problems with emotions or behavior. Your observations with those of teachers and other caregivers may lead you to seek help for your child. If you suspect a problem or have questions, consult your pediatrician or contact a mental health professional.'],\n",
       " ['p', 'Warning Signs'],\n",
       " ['p',\n",
       "  'The following signs may indicate the need for professional assistance or evaluation:'],\n",
       " ['ul',\n",
       "  '\\n\\nDecline in school performance\\n\\n\\nPoor grades despite strong efforts\\n\\n\\nRegular worry or anxiety\\n\\n\\nRepeated refusal to go to school or take part in normal children’s activities\\n\\n\\nHyperactivity or fidgeting\\n\\n\\nPersistent nightmares\\n\\n\\nPersistent disobedience or aggression\\n\\n\\nFrequent temper tantrums\\n\\n\\nDepression, sadness or irritability\\n\\n'],\n",
       " ['div',\n",
       "  '\\nLearn more about specific mental health conditions and children \\n\\n\\n\\nADHD - attentional problems\\n\\n\\nAutism - developmental delay\\n\\n\\nBipolar Disorder - depression and high energy\\n\\n\\nConduct Disorder - behavioral problems\\n\\n\\nDepression - sadness\\n\\n\\nGrief - coping with loss\\n\\n\\nPsychosis - hearing voices or seeing things that aren\\'t there\\n\\n\\nSuicide - thoughts of death/dying\\n\\n\\nSubstance use - drinking and using drugs\\n\\n\\n\\n\\nWhere to seek help\\n\\nInformation and referrals regarding the types of services that are available for children may be obtained from:\\n\\n\\nMental health organizations, hotlines and libraries\\n\\n\\nOther professionals such as the child’s pediatrician or school counselor\\n\\n\\nOther families in the community\\n\\n\\nFamily network organizations\\n\\n\\nCommunity-based psychiatric care\\n\\n\\nCrisis outreach teams\\n\\n\\nEducation or special education services\\n\\n\\nFamily resource centers and support groups\\n\\n\\nHealth services\\n\\n\\nProtection and advocacy groups and organizations\\n\\n\\nSelf-help and support groups\\n\\n\\nOther Resources\\nAmerican Academy of Child and Adolescent Psychiatry\\nwww.aacap.org\\nFederation of Families for Children’s Mental Health\\n\\t\\t\\t\\tPhone: 703-684-7710\\nwww.ffcmh.org\\nFamily Support America\\n\\t\\t\\t\\tPhone: 312-338-0900\\n\\nNational Association of School Psychologists\\n\\t\\t\\t\\tPhone 301-657-0270\\nwww.naspweb.org\\nWhat Every Child Needs for Good Mental Health is one in a series of pamphlets on children and teen mental health.\\nOther Mental Health America titles include:\\n\\n\\n\\nTeen Eating Disorders\\n\\n\\n\\n\\n\\nTeen Depression and Suicide\\n\\n\\nTeen Self-esteem Feeling Good About Yourself\\n\\n\\nTeen Stress: A Guide to Surviving Stress\\n\\n\\nSOURCES\\n“Facts for Families,\" America Academy of Child and Adolescent Psychiatry\\n\\t\\t\\t\\t“Children’s and Adolescent’s Mental Health,\" US Dept. of Health and Human Services\\n\\t\\t\\t\\tcopyright 1997 revised 2/00\\nThis pamphlet is copyrighted.\\xa0 Permission to reprint must be obtained from Mental Health America. 2/00\\n\\n\\xa0\\n\\n'],\n",
       " ['p', '\\xa0']]"
      ]
     },
     "execution_count": 8,
     "metadata": {},
     "output_type": "execute_result"
    }
   ],
   "source": [
    "tag_text_list"
   ]
  },
  {
   "cell_type": "code",
   "execution_count": null,
   "metadata": {},
   "outputs": [],
   "source": []
  },
  {
   "cell_type": "code",
   "execution_count": 9,
   "metadata": {},
   "outputs": [],
   "source": [
    "import BanglaTrans"
   ]
  },
  {
   "cell_type": "code",
   "execution_count": 10,
   "metadata": {},
   "outputs": [
    {
     "name": "stdout",
     "output_type": "stream",
     "text": [
      "What Every Child Needs For Good Mental Health\n",
      "It is easy for parents to identify their child’s physical needs: nutritious food, warm clothes when it’s cold, bedtime at a reasonable hour. However, a child’s mental and emotional needs may not be as obvious. Good mental health allows children to think clearly, develop socially and learn new skills.  Additionally, good friends and  encouraging words from adults are all important for helping children develop self confidence, high self-esteem, and a healthy emotional outlook on life.\n",
      "A child’s physical and mental health are both important.\n",
      "Basics for a child’s good physical health:\n",
      "\n",
      "\n",
      "Nutritious food\n",
      "\n",
      "\n",
      "Adequate shelter and sleep\n",
      "\n",
      "\n",
      "Exercise\n",
      "\n",
      "\n",
      "Immunizations\n",
      "\n",
      "\n",
      "Healthy living environment\n",
      "\n",
      "\n",
      "Basics for a child’s good mental health:\n",
      "\n",
      "\n",
      "Unconditional love from family\n",
      "\n",
      "\n",
      "Self-confidence and high self-esteem\n",
      "\n",
      "\n",
      "The opportunity to play with other children\n",
      "\n",
      "\n",
      "Encouraging teachers and supportive caretakers\n",
      "\n",
      "\n",
      "Safe and secure surroundings\n",
      "\n",
      "\n",
      "Appropriate guidance and discipline\n",
      "\n",
      "\n",
      "Give children unconditional love.\n",
      "Love, security and acceptance should be at the heart of family life.  Children need to know that your love does not depend on his or her accomplishments.\n",
      "Mistakes and/or defeats should be expected and accepted. Confidence grows in a home that is full of unconditional love and affection.\n",
      "Nurture children’s confidence and self-esteem.\n",
      "\n",
      "\n",
      "Praise Them - Encouraging children’s first steps or their ability to learn a new game helps them develop a desire to explore and learn about their surroundings. Allow children to explore and play in a safe area where they cannot get hurt.  Assure them by smiling and talking to them often. Be an active participant in their activities. Your attention helps build their self-confidence and self-esteem.\n",
      "\n",
      "\n",
      "Set Realistic Goals - Young children need realistic goals that match their ambitions with their abilities. With your help, older children can choose activities that test their abilities and increase their self-confidence.\n",
      "\n",
      "\n",
      "Be Honest - Do not hide your failures from your children. It is important for them to know that we all make mistakes. It can be very re-assuring to know that adults are not perfect.\n",
      "\n",
      "\n",
      "Avoid Sarcastic Remarks - If a child loses a game or fails a test, find out how he or she feels about the situation. Children may get discouraged and need a pep talk. Later, when they are ready, talk and offer assurance.\n",
      "\n",
      "\n",
      "Encourage children - To not only strive to do their best, but also to enjoy the process. Trying new activities teaches children about teamwork, self-esteem and new skills.\n",
      "\n",
      "\n",
      "Make time for play!\n",
      "Encourage Children to Play\n",
      "To children, play is just fun. However, playtime is as important to their development as food and good care. Playtime helps children be creative, learn problem-solving skills and learn self-control.  Good, hardy play, which includes running and yelling, is not only fun, but helps children to be physically and mentally healthy.\n",
      "Children Need Playmates\n",
      "Sometimes it is important for children to have time with their peers.  By playing with others, children discover their strengths and weaknesses, develop a sense of belonging, and learn how to get along with others. Consider finding a good children’s program through neighbors, local community centers, schools, or your local park and recreation department.\n",
      "Parents Can be Great Playmates\n",
      "Join the fun! Playing Monopoly or coloring with a child gives you a great opportunity to share ideas and spend time together in a relaxed setting.\n",
      "Play for Fun\n",
      "Winning is not as important as being involved and enjoying the activity. One of the most important questions to ask children is “Did you have fun?’’ not “Did you win?”\n",
      "In our goal-oriented society, we often acknowledge only success and winning. This attitude can be discouraging and frustrating to children who are learning and experimenting with new activities. It’s more important for children to participate and enjoy themselves.\n",
      "TV use should be monitored\n",
      "Try not to use TV as a “baby-sitter” on a regular basis.  Be selective in choosing television shows for children. Some shows can be educational as well as entertaining.\n",
      "School should be fun!\n",
      "Starting school is a big event for children. “Playing school” can be a positive way to give them a glimpse of school life.\n",
      "Try to enroll them in a pre-school, Head Start, or similar community program which provides an opportunity to be with other kids and make new friends. Children can also learn academic basics as well as how to make decisions and cope with problems.\n",
      "Provide appropriate guidance and instructive discipline\n",
      "Children need the opportunity to explore and develop new skills and independence. At the same time, children need to learn that certain behaviors are unacceptable and that they are responsible for the consequences of their actions.\n",
      "As members of a family, children need to learn the rules of the family unit. Offer guidance and discipline that is fair and consistent. They will take these social skills and rules of conduct to school and eventually to the workplace.\n",
      "Suggestions on Guidance and Discipline\n",
      "\n",
      "\n",
      "Be firm, but kind and realistic with your expectations. Children’s development depends on your love and encouragement.\n",
      "\n",
      "\n",
      "Set a good example. You cannot expect self-control and self-discipline from a child if you do not practice this behavior.\n",
      "\n",
      "\n",
      "Criticize the behavior, not the child.  It is best to say, “That was a bad thing you did,” rather than “You are a bad boy or girl.”\n",
      "Avoid nagging, threats and bribery. Children will learn to ignore nagging, and threats and bribes are seldom effective.\n",
      "Give children the reasons “why” you are disciplining them and what the potential consequences of their actions might be.\n",
      "Talk about your feelings.  We all lose our temper from time to time. If you do “blow your top,” it is important to talk about what happened and why you are angry.  Apologize if you were wrong!\n",
      "Remember, the goal is not to control the child, but for him or her to learn self-control.\n",
      "Provide a safe and secure home.\n",
      "It’s okay for children to feel afraid sometimes.  Everyone is afraid of something at some point in their life. Fear and anxiety grow out of experiences that we do not understand.\n",
      "If your children have fears that will not go away and affect his or her behavior, the first step is to find out what is frightening them. Be loving, patient and reassuring, not critical. Remember:  the fear may be very real to the child.\n",
      "Signs of Fear\n",
      "Nervous mannerisms, shyness, withdrawal and aggressive behavior may be signs of childhood fears. A change in  normal eating and sleeping patterns may also signal an unhealthy fear. Children who “play sick” or feel anxious regularly may have some problems that need attention.\n",
      "Fear of school can occur following a stressful event such as moving to a new neighborhood, changing schools, or after a bad incident at school.\n",
      "Children may not want to go to school after a period of being at home because of an illness.\n",
      "When to seek help\n",
      "Parents and family members are usually the first to notice if a child has problems with emotions or behavior. Your observations with those of teachers and other caregivers may lead you to seek help for your child. If you suspect a problem or have questions, consult your pediatrician or contact a mental health professional.\n",
      "Warning Signs\n",
      "The following signs may indicate the need for professional assistance or evaluation:\n",
      "\n",
      "\n",
      "Decline in school performance\n",
      "\n",
      "\n",
      "Poor grades despite strong efforts\n",
      "\n",
      "\n",
      "Regular worry or anxiety\n",
      "\n",
      "\n",
      "Repeated refusal to go to school or take part in normal children’s activities\n",
      "\n",
      "\n",
      "Hyperactivity or fidgeting\n",
      "\n",
      "\n",
      "Persistent nightmares\n",
      "\n",
      "\n",
      "Persistent disobedience or aggression\n",
      "\n",
      "\n",
      "Frequent temper tantrums\n",
      "\n",
      "\n",
      "Depression, sadness or irritability\n",
      "\n",
      "\n",
      "\n",
      "Learn more about specific mental health conditions and children \n",
      "\n",
      "\n",
      "\n",
      "ADHD - attentional problems\n",
      "\n",
      "\n",
      "Autism - developmental delay\n",
      "\n",
      "\n",
      "Bipolar Disorder - depression and high energy\n",
      "\n",
      "\n",
      "Conduct Disorder - behavioral problems\n",
      "\n",
      "\n",
      "Depression - sadness\n",
      "\n",
      "\n",
      "Grief - coping with loss\n",
      "\n",
      "\n",
      "Psychosis - hearing voices or seeing things that aren't there\n",
      "\n",
      "\n",
      "Suicide - thoughts of death/dying\n",
      "\n",
      "\n",
      "Substance use - drinking and using drugs\n",
      "\n",
      "\n",
      "\n",
      "\n",
      "Where to seek help\n",
      "\n",
      "Information and referrals regarding the types of services that are available for children may be obtained from:\n",
      "\n",
      "\n",
      "Mental health organizations, hotlines and libraries\n",
      "\n",
      "\n",
      "Other professionals such as the child’s pediatrician or school counselor\n",
      "\n",
      "\n",
      "Other families in the community\n",
      "\n",
      "\n",
      "Family network organizations\n",
      "\n",
      "\n",
      "Community-based psychiatric care\n",
      "\n",
      "\n",
      "Crisis outreach teams\n",
      "\n",
      "\n",
      "Education or special education services\n",
      "\n",
      "\n",
      "Family resource centers and support groups\n",
      "\n",
      "\n",
      "Health services\n",
      "\n",
      "\n",
      "Protection and advocacy groups and organizations\n",
      "\n",
      "\n",
      "Self-help and support groups\n",
      "\n",
      "\n",
      "Other Resources\n",
      "American Academy of Child and Adolescent Psychiatry\n",
      "www.aacap.org\n",
      "Federation of Families for Children’s Mental Health\n",
      "\t\t\t\tPhone: 703-684-7710\n",
      "www.ffcmh.org\n",
      "Family Support America\n",
      "\t\t\t\tPhone: 312-338-0900\n",
      "\n",
      "National Association of School Psychologists\n",
      "\t\t\t\tPhone 301-657-0270\n",
      "www.naspweb.org\n",
      "What Every Child Needs for Good Mental Health is one in a series of pamphlets on children and teen mental health.\n",
      "Other Mental Health America titles include:\n",
      "\n",
      "\n",
      "\n",
      "Teen Eating Disorders\n",
      "\n",
      "\n",
      "\n",
      "\n",
      "\n",
      "Teen Depression and Suicide\n",
      "\n",
      "\n",
      "Teen Self-esteem Feeling Good About Yourself\n",
      "\n",
      "\n",
      "Teen Stress: A Guide to Surviving Stress\n",
      "\n",
      "\n",
      "SOURCES\n",
      "“Facts for Families,\" America Academy of Child and Adolescent Psychiatry\n",
      "\t\t\t\t“Children’s and Adolescent’s Mental Health,\" US Dept. of Health and Human Services\n",
      "\t\t\t\tcopyright 1997 revised 2/00\n",
      "This pamphlet is copyrighted.  Permission to reprint must be obtained from Mental Health America. 2/00\n",
      "\n",
      " \n",
      "\n",
      "\n",
      " \n"
     ]
    }
   ],
   "source": [
    "magic_lst = []\n",
    "\n",
    "str_len = 0\n",
    "\n",
    "for _ in tag_text_list:\n",
    "    if(str_len >= 15000):\n",
    "        break\n",
    "        \n",
    "    str_len = str_len + len(_[1])\n",
    "    print(_[1])\n",
    "    magic_lst.append(_[1])\n",
    "    "
   ]
  },
  {
   "cell_type": "code",
   "execution_count": 11,
   "metadata": {},
   "outputs": [],
   "source": [
    "def conc_tag_txt_lst(tag_text_list):\n",
    "    '''\n",
    "    tag_text_list = \n",
    "    [['title', 'What Every Child Needs For Good Mental Health'],\n",
    "     ['p', 'Basics for a child’s good physical health:'],\n",
    "     ]\n",
    "    '''\n",
    "    magic_lst = []\n",
    "\n",
    "    str_len = 0\n",
    "\n",
    "    for _ in tag_text_list:\n",
    "        if(str_len >= 15000):\n",
    "            break\n",
    "\n",
    "        str_len = str_len + len(_[1])\n",
    "#         print(_[1])\n",
    "        magic_lst.append(_[1])\n",
    "        \n",
    "    return magic_lst"
   ]
  },
  {
   "cell_type": "code",
   "execution_count": 12,
   "metadata": {},
   "outputs": [],
   "source": [
    "a1 = conc_tag_txt_lst(tag_text_list)"
   ]
  },
  {
   "cell_type": "code",
   "execution_count": 13,
   "metadata": {},
   "outputs": [
    {
     "data": {
      "text/plain": [
       "['What Every Child Needs For Good Mental Health',\n",
       " 'It is easy for parents to identify their child’s physical needs: nutritious food, warm clothes when it’s cold, bedtime at a reasonable hour. However, a child’s mental and emotional needs may not be as obvious. Good mental health allows children to think clearly, develop socially and learn new skills.\\xa0 Additionally, good friends and\\xa0 encouraging words from adults are all important for helping children develop self confidence, high self-esteem, and a healthy emotional outlook on life.',\n",
       " 'A child’s physical and mental health are both important.',\n",
       " 'Basics for a child’s good physical health:',\n",
       " '\\n\\nNutritious food\\n\\n\\nAdequate shelter and sleep\\n\\n\\nExercise\\n\\n\\nImmunizations\\n\\n\\nHealthy living environment\\n\\n',\n",
       " 'Basics for a child’s good mental health:',\n",
       " '\\n\\nUnconditional love from family\\n\\n\\nSelf-confidence and high self-esteem\\n\\n\\nThe opportunity to play with other children\\n\\n\\nEncouraging teachers and supportive caretakers\\n\\n\\nSafe and secure surroundings\\n\\n\\nAppropriate guidance and discipline\\n\\n',\n",
       " 'Give children unconditional love.',\n",
       " 'Love, security and acceptance should be at the heart of family life.\\xa0 Children need to know that your love does not depend on his or her accomplishments.',\n",
       " 'Mistakes and/or defeats should be expected and accepted. Confidence grows in a home that is full of unconditional love and affection.',\n",
       " 'Nurture children’s confidence and self-esteem.',\n",
       " '\\n\\nPraise Them - Encouraging children’s first steps or their ability to learn a new game helps them develop a desire to explore and learn about their surroundings. Allow children to explore and play in a safe area where they cannot get hurt.\\xa0 Assure them by smiling and talking to them often. Be an active participant in their activities. Your attention helps build their self-confidence and self-esteem.\\n\\n\\nSet Realistic Goals - Young children need realistic goals that match their ambitions with their abilities. With your help, older children can choose activities that test their abilities and increase their self-confidence.\\n\\n\\nBe Honest - Do not hide your failures from your children. It is important for them to know that we all make mistakes. It can be very re-assuring to know that adults are not perfect.\\n\\n\\nAvoid Sarcastic Remarks - If a child loses a game or fails a test, find out how he or she feels about the situation. Children may get discouraged and need a pep talk. Later, when they are ready, talk and offer assurance.\\n\\n\\nEncourage children - To not only strive to do their best, but also to enjoy the process. Trying new activities teaches children about teamwork, self-esteem and new skills.\\n\\n',\n",
       " 'Make time for play!',\n",
       " 'Encourage Children to Play',\n",
       " 'To children, play is just fun. However, playtime is as important to their development as food and good care. Playtime helps children be creative, learn problem-solving skills and learn self-control.\\xa0 Good, hardy play, which includes running and yelling, is not only fun, but helps children to be physically and mentally healthy.',\n",
       " 'Children Need Playmates',\n",
       " 'Sometimes it is important for children to have time with their peers.\\xa0 By playing with others, children discover their strengths and weaknesses, develop a sense of belonging, and learn how to get along with others. Consider finding a good children’s program through neighbors, local community centers, schools, or your local park and recreation department.',\n",
       " 'Parents Can be Great Playmates',\n",
       " 'Join the fun! Playing Monopoly or coloring with a child gives you a great opportunity to share ideas and spend time together in a relaxed setting.',\n",
       " 'Play for Fun',\n",
       " 'Winning is not as important as being involved and enjoying the activity. One of the most important questions to ask children is “Did you have fun?’’ not “Did you win?”',\n",
       " 'In our goal-oriented society, we often acknowledge only success and winning. This attitude can be discouraging and frustrating to children who are learning and experimenting with new activities. It’s more important for children to participate and enjoy themselves.',\n",
       " 'TV use should be monitored',\n",
       " 'Try not to use TV as a “baby-sitter” on a regular basis.\\xa0 Be selective in choosing television shows for children. Some shows can be educational as well as entertaining.',\n",
       " 'School should be fun!',\n",
       " 'Starting school is a big event for children. “Playing school” can be a positive way to give them a glimpse of school life.',\n",
       " 'Try to enroll them in a pre-school, Head Start, or similar community program which provides an opportunity to be with other kids and make new friends. Children can also learn academic basics as well as how to make decisions and cope with problems.',\n",
       " 'Provide appropriate guidance and instructive discipline',\n",
       " 'Children need the opportunity to explore and develop new skills and independence. At the same time, children need to learn that certain behaviors are unacceptable and that they are responsible for the consequences of their actions.',\n",
       " 'As members of a family, children need to learn the rules of the family unit. Offer guidance and discipline that is fair and consistent. They will take these social skills and rules of conduct to school and eventually to the workplace.',\n",
       " 'Suggestions on Guidance and Discipline',\n",
       " '\\n\\nBe firm, but kind and realistic with your expectations. Children’s development depends on your love and encouragement.\\n\\n\\nSet a good example. You cannot expect self-control and self-discipline from a child if you do not practice this behavior.\\n\\n',\n",
       " 'Criticize the behavior, not the child.\\xa0 It is best to say, “That was a bad thing you did,” rather than “You are a bad boy or girl.”',\n",
       " 'Avoid nagging, threats and bribery.\\xa0Children will learn to ignore nagging, and threats and bribes are seldom effective.',\n",
       " 'Give children the reasons “why” you are disciplining them and what the potential consequences of their actions might be.',\n",
       " 'Talk about your feelings.\\xa0 We all lose our temper from time to time. If you do “blow your top,” it is important to talk about what happened and why you are angry.\\xa0 Apologize if you were wrong!',\n",
       " 'Remember, the goal is not to control the child, but for him or her to learn self-control.',\n",
       " 'Provide a safe and secure home.',\n",
       " 'It’s okay for children to feel afraid sometimes.\\xa0 Everyone is afraid of something at some point in their life. Fear and anxiety grow out of experiences that we do not understand.',\n",
       " 'If your children have fears that will not go away and affect his or her behavior, the first step is to find out what is frightening them. Be loving, patient and reassuring, not critical. Remember:\\xa0 the fear may be very real to the child.',\n",
       " 'Signs of Fear',\n",
       " 'Nervous mannerisms, shyness, withdrawal and aggressive behavior may be signs of childhood fears. A change in\\xa0 normal eating and sleeping patterns may also signal an unhealthy fear. Children who “play sick” or feel anxious regularly may have some problems that need attention.',\n",
       " 'Fear of school can occur following a stressful event such as moving to a new neighborhood, changing schools, or after a bad incident at school.',\n",
       " 'Children may not want to go to school after a period of being at home because of an illness.',\n",
       " 'When to seek help',\n",
       " 'Parents and family members are usually the first to notice if a child has problems with emotions or behavior. Your observations with those of teachers and other caregivers may lead you to seek help for your child. If you suspect a problem or have questions, consult your pediatrician or contact a mental health professional.',\n",
       " 'Warning Signs',\n",
       " 'The following signs may indicate the need for professional assistance or evaluation:',\n",
       " '\\n\\nDecline in school performance\\n\\n\\nPoor grades despite strong efforts\\n\\n\\nRegular worry or anxiety\\n\\n\\nRepeated refusal to go to school or take part in normal children’s activities\\n\\n\\nHyperactivity or fidgeting\\n\\n\\nPersistent nightmares\\n\\n\\nPersistent disobedience or aggression\\n\\n\\nFrequent temper tantrums\\n\\n\\nDepression, sadness or irritability\\n\\n',\n",
       " '\\nLearn more about specific mental health conditions and children \\n\\n\\n\\nADHD - attentional problems\\n\\n\\nAutism - developmental delay\\n\\n\\nBipolar Disorder - depression and high energy\\n\\n\\nConduct Disorder - behavioral problems\\n\\n\\nDepression - sadness\\n\\n\\nGrief - coping with loss\\n\\n\\nPsychosis - hearing voices or seeing things that aren\\'t there\\n\\n\\nSuicide - thoughts of death/dying\\n\\n\\nSubstance use - drinking and using drugs\\n\\n\\n\\n\\nWhere to seek help\\n\\nInformation and referrals regarding the types of services that are available for children may be obtained from:\\n\\n\\nMental health organizations, hotlines and libraries\\n\\n\\nOther professionals such as the child’s pediatrician or school counselor\\n\\n\\nOther families in the community\\n\\n\\nFamily network organizations\\n\\n\\nCommunity-based psychiatric care\\n\\n\\nCrisis outreach teams\\n\\n\\nEducation or special education services\\n\\n\\nFamily resource centers and support groups\\n\\n\\nHealth services\\n\\n\\nProtection and advocacy groups and organizations\\n\\n\\nSelf-help and support groups\\n\\n\\nOther Resources\\nAmerican Academy of Child and Adolescent Psychiatry\\nwww.aacap.org\\nFederation of Families for Children’s Mental Health\\n\\t\\t\\t\\tPhone: 703-684-7710\\nwww.ffcmh.org\\nFamily Support America\\n\\t\\t\\t\\tPhone: 312-338-0900\\n\\nNational Association of School Psychologists\\n\\t\\t\\t\\tPhone 301-657-0270\\nwww.naspweb.org\\nWhat Every Child Needs for Good Mental Health is one in a series of pamphlets on children and teen mental health.\\nOther Mental Health America titles include:\\n\\n\\n\\nTeen Eating Disorders\\n\\n\\n\\n\\n\\nTeen Depression and Suicide\\n\\n\\nTeen Self-esteem Feeling Good About Yourself\\n\\n\\nTeen Stress: A Guide to Surviving Stress\\n\\n\\nSOURCES\\n“Facts for Families,\" America Academy of Child and Adolescent Psychiatry\\n\\t\\t\\t\\t“Children’s and Adolescent’s Mental Health,\" US Dept. of Health and Human Services\\n\\t\\t\\t\\tcopyright 1997 revised 2/00\\nThis pamphlet is copyrighted.\\xa0 Permission to reprint must be obtained from Mental Health America. 2/00\\n\\n\\xa0\\n\\n',\n",
       " '\\xa0']"
      ]
     },
     "execution_count": 13,
     "metadata": {},
     "output_type": "execute_result"
    }
   ],
   "source": [
    "a1"
   ]
  },
  {
   "cell_type": "code",
   "execution_count": null,
   "metadata": {},
   "outputs": [],
   "source": []
  },
  {
   "cell_type": "code",
   "execution_count": null,
   "metadata": {},
   "outputs": [],
   "source": []
  },
  {
   "cell_type": "code",
   "execution_count": null,
   "metadata": {},
   "outputs": [],
   "source": []
  },
  {
   "cell_type": "code",
   "execution_count": 14,
   "metadata": {},
   "outputs": [],
   "source": [
    "from googletrans import Translator\n",
    "import time\n",
    "import random\n",
    "\n",
    "trans = Translator()\n",
    "\n",
    "\n",
    "def trans_list(str_array):\n",
    "\n",
    "    res = []\n",
    "\n",
    "#     str_len = 0\n",
    "\n",
    "#     for txt in str_array:\n",
    "#         str_len = str_len + len(txt)\n",
    "\n",
    "\n",
    "\n",
    "#     if (str_len >= 15000):\n",
    "#         print('Too big!!! 15k Max!')\n",
    "        \n",
    "#         return\n",
    "\n",
    "#     else:\n",
    "    res.append(translator.translate(str_array, dest='bn'))\n",
    "\n",
    "\n",
    "\n",
    "    # Wait for 5 seconds\n",
    "    randy = random.randint(1, 5)\n",
    "\n",
    "    print(\"Waiting for \" + str(randy) + \" seconds.\")\n",
    "\n",
    "    time.sleep(randy)\n",
    "    \n",
    "    return res\n"
   ]
  },
  {
   "cell_type": "code",
   "execution_count": 15,
   "metadata": {},
   "outputs": [
    {
     "name": "stdout",
     "output_type": "stream",
     "text": [
      "Starting Translator!\n",
      "\n",
      "Waiting for 3 seconds.\n"
     ]
    }
   ],
   "source": [
    "a = BanglaTrans.trans_list(magic_lst)"
   ]
  },
  {
   "cell_type": "code",
   "execution_count": 16,
   "metadata": {},
   "outputs": [
    {
     "data": {
      "text/plain": [
       "['Translator',\n",
       " '__builtins__',\n",
       " '__cached__',\n",
       " '__doc__',\n",
       " '__file__',\n",
       " '__loader__',\n",
       " '__name__',\n",
       " '__package__',\n",
       " '__spec__',\n",
       " 'random',\n",
       " 'time',\n",
       " 'trans_list',\n",
       " 'translator']"
      ]
     },
     "execution_count": 16,
     "metadata": {},
     "output_type": "execute_result"
    }
   ],
   "source": [
    "dir(BanglaTrans)"
   ]
  },
  {
   "cell_type": "code",
   "execution_count": 17,
   "metadata": {},
   "outputs": [
    {
     "ename": "TypeError",
     "evalue": "'Translated' object is not iterable",
     "output_type": "error",
     "traceback": [
      "\u001b[0;31m---------------------------------------------------------------------------\u001b[0m",
      "\u001b[0;31mTypeError\u001b[0m                                 Traceback (most recent call last)",
      "\u001b[0;32m<ipython-input-17-42c0e10baaa2>\u001b[0m in \u001b[0;36m<module>\u001b[0;34m()\u001b[0m\n\u001b[0;32m----> 1\u001b[0;31m \u001b[0;32mfor\u001b[0m \u001b[0m_\u001b[0m \u001b[0;32min\u001b[0m \u001b[0ma\u001b[0m\u001b[0;34m[\u001b[0m\u001b[0;36m0\u001b[0m\u001b[0;34m]\u001b[0m\u001b[0;34m:\u001b[0m\u001b[0;34m\u001b[0m\u001b[0m\n\u001b[0m\u001b[1;32m      2\u001b[0m     \u001b[0mprint\u001b[0m\u001b[0;34m(\u001b[0m\u001b[0m_\u001b[0m\u001b[0;34m.\u001b[0m\u001b[0mtext\u001b[0m\u001b[0;34m)\u001b[0m\u001b[0;34m\u001b[0m\u001b[0m\n",
      "\u001b[0;31mTypeError\u001b[0m: 'Translated' object is not iterable"
     ]
    }
   ],
   "source": [
    "for _ in a[0]:\n",
    "    print(_.text)"
   ]
  },
  {
   "cell_type": "code",
   "execution_count": 18,
   "metadata": {},
   "outputs": [
    {
     "data": {
      "text/plain": [
       "['What Every Child Needs For Good Mental Health',\n",
       " 'It is easy for parents to identify their child’s physical needs: nutritious food, warm clothes when it’s cold, bedtime at a reasonable hour. However, a child’s mental and emotional needs may not be as obvious. Good mental health allows children to think clearly, develop socially and learn new skills.\\xa0 Additionally, good friends and\\xa0 encouraging words from adults are all important for helping children develop self confidence, high self-esteem, and a healthy emotional outlook on life.',\n",
       " 'A child’s physical and mental health are both important.',\n",
       " 'Basics for a child’s good physical health:',\n",
       " '\\n\\nNutritious food\\n\\n\\nAdequate shelter and sleep\\n\\n\\nExercise\\n\\n\\nImmunizations\\n\\n\\nHealthy living environment\\n\\n',\n",
       " 'Basics for a child’s good mental health:',\n",
       " '\\n\\nUnconditional love from family\\n\\n\\nSelf-confidence and high self-esteem\\n\\n\\nThe opportunity to play with other children\\n\\n\\nEncouraging teachers and supportive caretakers\\n\\n\\nSafe and secure surroundings\\n\\n\\nAppropriate guidance and discipline\\n\\n',\n",
       " 'Give children unconditional love.',\n",
       " 'Love, security and acceptance should be at the heart of family life.\\xa0 Children need to know that your love does not depend on his or her accomplishments.',\n",
       " 'Mistakes and/or defeats should be expected and accepted. Confidence grows in a home that is full of unconditional love and affection.',\n",
       " 'Nurture children’s confidence and self-esteem.',\n",
       " '\\n\\nPraise Them - Encouraging children’s first steps or their ability to learn a new game helps them develop a desire to explore and learn about their surroundings. Allow children to explore and play in a safe area where they cannot get hurt.\\xa0 Assure them by smiling and talking to them often. Be an active participant in their activities. Your attention helps build their self-confidence and self-esteem.\\n\\n\\nSet Realistic Goals - Young children need realistic goals that match their ambitions with their abilities. With your help, older children can choose activities that test their abilities and increase their self-confidence.\\n\\n\\nBe Honest - Do not hide your failures from your children. It is important for them to know that we all make mistakes. It can be very re-assuring to know that adults are not perfect.\\n\\n\\nAvoid Sarcastic Remarks - If a child loses a game or fails a test, find out how he or she feels about the situation. Children may get discouraged and need a pep talk. Later, when they are ready, talk and offer assurance.\\n\\n\\nEncourage children - To not only strive to do their best, but also to enjoy the process. Trying new activities teaches children about teamwork, self-esteem and new skills.\\n\\n',\n",
       " 'Make time for play!',\n",
       " 'Encourage Children to Play',\n",
       " 'To children, play is just fun. However, playtime is as important to their development as food and good care. Playtime helps children be creative, learn problem-solving skills and learn self-control.\\xa0 Good, hardy play, which includes running and yelling, is not only fun, but helps children to be physically and mentally healthy.',\n",
       " 'Children Need Playmates',\n",
       " 'Sometimes it is important for children to have time with their peers.\\xa0 By playing with others, children discover their strengths and weaknesses, develop a sense of belonging, and learn how to get along with others. Consider finding a good children’s program through neighbors, local community centers, schools, or your local park and recreation department.',\n",
       " 'Parents Can be Great Playmates',\n",
       " 'Join the fun! Playing Monopoly or coloring with a child gives you a great opportunity to share ideas and spend time together in a relaxed setting.',\n",
       " 'Play for Fun',\n",
       " 'Winning is not as important as being involved and enjoying the activity. One of the most important questions to ask children is “Did you have fun?’’ not “Did you win?”',\n",
       " 'In our goal-oriented society, we often acknowledge only success and winning. This attitude can be discouraging and frustrating to children who are learning and experimenting with new activities. It’s more important for children to participate and enjoy themselves.',\n",
       " 'TV use should be monitored',\n",
       " 'Try not to use TV as a “baby-sitter” on a regular basis.\\xa0 Be selective in choosing television shows for children. Some shows can be educational as well as entertaining.',\n",
       " 'School should be fun!',\n",
       " 'Starting school is a big event for children. “Playing school” can be a positive way to give them a glimpse of school life.',\n",
       " 'Try to enroll them in a pre-school, Head Start, or similar community program which provides an opportunity to be with other kids and make new friends. Children can also learn academic basics as well as how to make decisions and cope with problems.',\n",
       " 'Provide appropriate guidance and instructive discipline',\n",
       " 'Children need the opportunity to explore and develop new skills and independence. At the same time, children need to learn that certain behaviors are unacceptable and that they are responsible for the consequences of their actions.',\n",
       " 'As members of a family, children need to learn the rules of the family unit. Offer guidance and discipline that is fair and consistent. They will take these social skills and rules of conduct to school and eventually to the workplace.',\n",
       " 'Suggestions on Guidance and Discipline',\n",
       " '\\n\\nBe firm, but kind and realistic with your expectations. Children’s development depends on your love and encouragement.\\n\\n\\nSet a good example. You cannot expect self-control and self-discipline from a child if you do not practice this behavior.\\n\\n',\n",
       " 'Criticize the behavior, not the child.\\xa0 It is best to say, “That was a bad thing you did,” rather than “You are a bad boy or girl.”',\n",
       " 'Avoid nagging, threats and bribery.\\xa0Children will learn to ignore nagging, and threats and bribes are seldom effective.',\n",
       " 'Give children the reasons “why” you are disciplining them and what the potential consequences of their actions might be.',\n",
       " 'Talk about your feelings.\\xa0 We all lose our temper from time to time. If you do “blow your top,” it is important to talk about what happened and why you are angry.\\xa0 Apologize if you were wrong!',\n",
       " 'Remember, the goal is not to control the child, but for him or her to learn self-control.',\n",
       " 'Provide a safe and secure home.',\n",
       " 'It’s okay for children to feel afraid sometimes.\\xa0 Everyone is afraid of something at some point in their life. Fear and anxiety grow out of experiences that we do not understand.',\n",
       " 'If your children have fears that will not go away and affect his or her behavior, the first step is to find out what is frightening them. Be loving, patient and reassuring, not critical. Remember:\\xa0 the fear may be very real to the child.',\n",
       " 'Signs of Fear',\n",
       " 'Nervous mannerisms, shyness, withdrawal and aggressive behavior may be signs of childhood fears. A change in\\xa0 normal eating and sleeping patterns may also signal an unhealthy fear. Children who “play sick” or feel anxious regularly may have some problems that need attention.',\n",
       " 'Fear of school can occur following a stressful event such as moving to a new neighborhood, changing schools, or after a bad incident at school.',\n",
       " 'Children may not want to go to school after a period of being at home because of an illness.',\n",
       " 'When to seek help',\n",
       " 'Parents and family members are usually the first to notice if a child has problems with emotions or behavior. Your observations with those of teachers and other caregivers may lead you to seek help for your child. If you suspect a problem or have questions, consult your pediatrician or contact a mental health professional.',\n",
       " 'Warning Signs',\n",
       " 'The following signs may indicate the need for professional assistance or evaluation:',\n",
       " '\\n\\nDecline in school performance\\n\\n\\nPoor grades despite strong efforts\\n\\n\\nRegular worry or anxiety\\n\\n\\nRepeated refusal to go to school or take part in normal children’s activities\\n\\n\\nHyperactivity or fidgeting\\n\\n\\nPersistent nightmares\\n\\n\\nPersistent disobedience or aggression\\n\\n\\nFrequent temper tantrums\\n\\n\\nDepression, sadness or irritability\\n\\n',\n",
       " '\\nLearn more about specific mental health conditions and children \\n\\n\\n\\nADHD - attentional problems\\n\\n\\nAutism - developmental delay\\n\\n\\nBipolar Disorder - depression and high energy\\n\\n\\nConduct Disorder - behavioral problems\\n\\n\\nDepression - sadness\\n\\n\\nGrief - coping with loss\\n\\n\\nPsychosis - hearing voices or seeing things that aren\\'t there\\n\\n\\nSuicide - thoughts of death/dying\\n\\n\\nSubstance use - drinking and using drugs\\n\\n\\n\\n\\nWhere to seek help\\n\\nInformation and referrals regarding the types of services that are available for children may be obtained from:\\n\\n\\nMental health organizations, hotlines and libraries\\n\\n\\nOther professionals such as the child’s pediatrician or school counselor\\n\\n\\nOther families in the community\\n\\n\\nFamily network organizations\\n\\n\\nCommunity-based psychiatric care\\n\\n\\nCrisis outreach teams\\n\\n\\nEducation or special education services\\n\\n\\nFamily resource centers and support groups\\n\\n\\nHealth services\\n\\n\\nProtection and advocacy groups and organizations\\n\\n\\nSelf-help and support groups\\n\\n\\nOther Resources\\nAmerican Academy of Child and Adolescent Psychiatry\\nwww.aacap.org\\nFederation of Families for Children’s Mental Health\\n\\t\\t\\t\\tPhone: 703-684-7710\\nwww.ffcmh.org\\nFamily Support America\\n\\t\\t\\t\\tPhone: 312-338-0900\\n\\nNational Association of School Psychologists\\n\\t\\t\\t\\tPhone 301-657-0270\\nwww.naspweb.org\\nWhat Every Child Needs for Good Mental Health is one in a series of pamphlets on children and teen mental health.\\nOther Mental Health America titles include:\\n\\n\\n\\nTeen Eating Disorders\\n\\n\\n\\n\\n\\nTeen Depression and Suicide\\n\\n\\nTeen Self-esteem Feeling Good About Yourself\\n\\n\\nTeen Stress: A Guide to Surviving Stress\\n\\n\\nSOURCES\\n“Facts for Families,\" America Academy of Child and Adolescent Psychiatry\\n\\t\\t\\t\\t“Children’s and Adolescent’s Mental Health,\" US Dept. of Health and Human Services\\n\\t\\t\\t\\tcopyright 1997 revised 2/00\\nThis pamphlet is copyrighted.\\xa0 Permission to reprint must be obtained from Mental Health America. 2/00\\n\\n\\xa0\\n\\n',\n",
       " '\\xa0']"
      ]
     },
     "execution_count": 18,
     "metadata": {},
     "output_type": "execute_result"
    }
   ],
   "source": [
    "a1"
   ]
  },
  {
   "cell_type": "code",
   "execution_count": 19,
   "metadata": {},
   "outputs": [
    {
     "name": "stdout",
     "output_type": "stream",
     "text": [
      "Starting Translator!\n",
      "\n",
      "Waiting for 5 seconds.\n"
     ]
    }
   ],
   "source": [
    "t1 = BanglaTrans.trans_list(a1)"
   ]
  },
  {
   "cell_type": "code",
   "execution_count": 20,
   "metadata": {},
   "outputs": [
    {
     "data": {
      "text/plain": [
       "list"
      ]
     },
     "execution_count": 20,
     "metadata": {},
     "output_type": "execute_result"
    }
   ],
   "source": [
    "type(t1)"
   ]
  },
  {
   "cell_type": "code",
   "execution_count": 22,
   "metadata": {},
   "outputs": [
    {
     "data": {
      "text/plain": [
       "'ভাল মানসিক স্বাস্থ্যের জন্য প্রতিটি সন্তানের কি প্রয়োজন'"
      ]
     },
     "execution_count": 22,
     "metadata": {},
     "output_type": "execute_result"
    }
   ],
   "source": [
    "t1[0].text"
   ]
  },
  {
   "cell_type": "code",
   "execution_count": 23,
   "metadata": {},
   "outputs": [
    {
     "data": {
      "text/plain": [
       "list"
      ]
     },
     "execution_count": 23,
     "metadata": {},
     "output_type": "execute_result"
    }
   ],
   "source": [
    "type(t1)"
   ]
  },
  {
   "cell_type": "code",
   "execution_count": 24,
   "metadata": {},
   "outputs": [
    {
     "data": {
      "text/plain": [
       "googletrans.models.Translated"
      ]
     },
     "execution_count": 24,
     "metadata": {},
     "output_type": "execute_result"
    }
   ],
   "source": [
    "type(t1[0])"
   ]
  },
  {
   "cell_type": "code",
   "execution_count": 25,
   "metadata": {},
   "outputs": [
    {
     "data": {
      "text/plain": [
       "51"
      ]
     },
     "execution_count": 25,
     "metadata": {},
     "output_type": "execute_result"
    }
   ],
   "source": [
    "len(t1)"
   ]
  },
  {
   "cell_type": "code",
   "execution_count": 29,
   "metadata": {},
   "outputs": [
    {
     "name": "stdout",
     "output_type": "stream",
     "text": [
      "0: ভাল মানসিক স্বাস্থ্যের জন্য প্রতিটি সন্তানের কি প্রয়োজন\n",
      "\n",
      "1: বাবা-মা তাদের সন্তানের শারীরিক চাহিদাগুলি সনাক্ত করা সহজ: পুষ্টিকর খাবার, ঠান্ডা অবস্থায় উষ্ণ জামাকাপড়, যুক্তিসঙ্গত সময়ে শুতে থাকা। তবে, একটি সন্তানের মানসিক এবং মানসিক চাহিদা হিসাবে স্পষ্ট হতে পারে না। ভাল মানসিক স্বাস্থ্য শিশুদের পরিষ্কারভাবে চিন্তা করতে, সামাজিকভাবে বিকাশ এবং নতুন দক্ষতা শিখতে পারবেন। উপরন্তু, প্রাপ্তবয়স্কদের কাছ থেকে ভাল বন্ধু এবং উৎসাহজনক শব্দগুলি শিশুদের আত্মবিশ্বাস, উচ্চ স্ব-সম্মান, এবং জীবনের উপর একটি সুস্থ মানসিক দৃষ্টিভঙ্গি বিকাশের জন্য গুরুত্বপূর্ণ।\n",
      "\n",
      "2: একটি শিশুর শারীরিক এবং মানসিক স্বাস্থ্য উভয় গুরুত্বপূর্ণ।\n",
      "\n",
      "3: একটি শিশুর ভাল শারীরিক স্বাস্থ্য জন্য বুনিয়াদি:\n",
      "\n",
      "4: পুষ্টিকর খাবার\n",
      "\n",
      "\n",
      "পর্যাপ্ত আশ্রয় এবং ঘুম\n",
      "\n",
      "\n",
      "ব্যায়াম\n",
      "\n",
      "\n",
      "ইমিউনাইজেশন\n",
      "\n",
      "\n",
      "স্বাস্থ্যকর জীবন্ত পরিবেশ\n",
      "\n",
      "5: শিশুর সন্তানের মানসিক স্বাস্থ্যের মূল বিষয়:\n",
      "\n",
      "6: পরিবার থেকে অসাধু প্রেম\n",
      "\n",
      "\n",
      "আত্মবিশ্বাস এবং উচ্চ স্ব-সম্মান\n",
      "\n",
      "\n",
      "অন্যান্য শিশুদের সঙ্গে খেলা করার সুযোগ\n",
      "\n",
      "\n",
      "শিক্ষক এবং সহায়ক caretakers উত্সাহিত\n",
      "\n",
      "\n",
      "নিরাপদ এবং নিরাপদ আশেপাশের\n",
      "\n",
      "\n",
      "উপযুক্ত নির্দেশিকা এবং শৃঙ্খলা\n",
      "\n",
      "7: সন্তান নিঃশর্ত প্রেম দিতে।\n",
      "\n",
      "8: প্রেম, নিরাপত্তা এবং স্বীকৃতি পরিবারের জীবনের হৃদয় হতে হবে। শিশুদের জানা দরকার যে আপনার প্রেম তার কৃতিত্বের উপর নির্ভর করে না।\n",
      "\n",
      "9: ভুল এবং / অথবা পরাজয়ের প্রত্যাশিত এবং গ্রহণ করা উচিত। আত্মবিশ্বাসহীন ভালবাসা এবং স্নেহ পূর্ণ একটি বাড়িতে বাড়ছে।\n",
      "\n"
     ]
    }
   ],
   "source": [
    "for i in range(10):\n",
    "    print(str(i) + \": \" + t1[i].text)\n",
    "    print()"
   ]
  },
  {
   "cell_type": "code",
   "execution_count": null,
   "metadata": {},
   "outputs": [],
   "source": []
  }
 ],
 "metadata": {
  "kernelspec": {
   "display_name": "Python 3",
   "language": "python",
   "name": "python3"
  },
  "language_info": {
   "codemirror_mode": {
    "name": "ipython",
    "version": 3
   },
   "file_extension": ".py",
   "mimetype": "text/x-python",
   "name": "python",
   "nbconvert_exporter": "python",
   "pygments_lexer": "ipython3",
   "version": "3.5.2"
  }
 },
 "nbformat": 4,
 "nbformat_minor": 2
}
