{
 "cells": [
  {
   "cell_type": "code",
   "execution_count": 2,
   "metadata": {},
   "outputs": [],
   "source": [
    "import web_scraper, ArticleScraper"
   ]
  },
  {
   "cell_type": "code",
   "execution_count": 4,
   "metadata": {},
   "outputs": [],
   "source": [
    "current_page = web_scraper.soupified_request('http://www.mentalhealthamerica.net/every-child-needs')"
   ]
  },
  {
   "cell_type": "code",
   "execution_count": null,
   "metadata": {},
   "outputs": [],
   "source": []
  },
  {
   "cell_type": "code",
   "execution_count": 10,
   "metadata": {},
   "outputs": [],
   "source": [
    "#######################################################################################"
   ]
  },
  {
   "cell_type": "code",
   "execution_count": 6,
   "metadata": {},
   "outputs": [],
   "source": [
    "tag_text_list = []\n",
    "\n",
    "tag_text_list.append(['title', ArticleScraper.get_article_title(current_page)])"
   ]
  },
  {
   "cell_type": "code",
   "execution_count": null,
   "metadata": {},
   "outputs": [],
   "source": []
  },
  {
   "cell_type": "code",
   "execution_count": 7,
   "metadata": {},
   "outputs": [],
   "source": [
    "body = list(current_page.find('div', {'class' : 'field-item even first last'}))"
   ]
  },
  {
   "cell_type": "code",
   "execution_count": null,
   "metadata": {},
   "outputs": [],
   "source": []
  },
  {
   "cell_type": "code",
   "execution_count": 8,
   "metadata": {},
   "outputs": [
    {
     "data": {
      "text/plain": [
       "[['title', 'What Every Child Needs For Good Mental Health'],\n",
       " ['p',\n",
       "  'It is easy for parents to identify their child’s physical needs: nutritious food, warm clothes when it’s cold, bedtime at a reasonable hour. However, a child’s mental and emotional needs may not be as obvious. Good mental health allows children to think clearly, develop socially and learn new skills.\\xa0 Additionally, good friends and\\xa0 encouraging words from adults are all important for helping children develop self confidence, high self-esteem, and a healthy emotional outlook on life.'],\n",
       " ['p', 'A child’s physical and mental health are both important.'],\n",
       " ['p', 'Basics for a child’s good physical health:'],\n",
       " ['ul',\n",
       "  '\\n\\nNutritious food\\n\\n\\nAdequate shelter and sleep\\n\\n\\nExercise\\n\\n\\nImmunizations\\n\\n\\nHealthy living environment\\n\\n'],\n",
       " ['p', 'Basics for a child’s good mental health:'],\n",
       " ['ul',\n",
       "  '\\n\\nUnconditional love from family\\n\\n\\nSelf-confidence and high self-esteem\\n\\n\\nThe opportunity to play with other children\\n\\n\\nEncouraging teachers and supportive caretakers\\n\\n\\nSafe and secure surroundings\\n\\n\\nAppropriate guidance and discipline\\n\\n'],\n",
       " ['p', 'Give children unconditional love.'],\n",
       " ['p',\n",
       "  'Love, security and acceptance should be at the heart of family life.\\xa0 Children need to know that your love does not depend on his or her accomplishments.'],\n",
       " ['p',\n",
       "  'Mistakes and/or defeats should be expected and accepted. Confidence grows in a home that is full of unconditional love and affection.'],\n",
       " ['p', 'Nurture children’s confidence and self-esteem.'],\n",
       " ['ul',\n",
       "  '\\n\\nPraise Them - Encouraging children’s first steps or their ability to learn a new game helps them develop a desire to explore and learn about their surroundings. Allow children to explore and play in a safe area where they cannot get hurt.\\xa0 Assure them by smiling and talking to them often. Be an active participant in their activities. Your attention helps build their self-confidence and self-esteem.\\n\\n\\nSet Realistic Goals - Young children need realistic goals that match their ambitions with their abilities. With your help, older children can choose activities that test their abilities and increase their self-confidence.\\n\\n\\nBe Honest - Do not hide your failures from your children. It is important for them to know that we all make mistakes. It can be very re-assuring to know that adults are not perfect.\\n\\n\\nAvoid Sarcastic Remarks - If a child loses a game or fails a test, find out how he or she feels about the situation. Children may get discouraged and need a pep talk. Later, when they are ready, talk and offer assurance.\\n\\n\\nEncourage children - To not only strive to do their best, but also to enjoy the process. Trying new activities teaches children about teamwork, self-esteem and new skills.\\n\\n'],\n",
       " ['p', 'Make time for play!'],\n",
       " ['p', 'Encourage Children to Play'],\n",
       " ['p',\n",
       "  'To children, play is just fun. However, playtime is as important to their development as food and good care. Playtime helps children be creative, learn problem-solving skills and learn self-control.\\xa0 Good, hardy play, which includes running and yelling, is not only fun, but helps children to be physically and mentally healthy.'],\n",
       " ['p', 'Children Need Playmates'],\n",
       " ['p',\n",
       "  'Sometimes it is important for children to have time with their peers.\\xa0 By playing with others, children discover their strengths and weaknesses, develop a sense of belonging, and learn how to get along with others. Consider finding a good children’s program through neighbors, local community centers, schools, or your local park and recreation department.'],\n",
       " ['p', 'Parents Can be Great Playmates'],\n",
       " ['p',\n",
       "  'Join the fun! Playing Monopoly or coloring with a child gives you a great opportunity to share ideas and spend time together in a relaxed setting.'],\n",
       " ['p', 'Play for Fun'],\n",
       " ['p',\n",
       "  'Winning is not as important as being involved and enjoying the activity. One of the most important questions to ask children is “Did you have fun?’’ not “Did you win?”'],\n",
       " ['p',\n",
       "  'In our goal-oriented society, we often acknowledge only success and winning. This attitude can be discouraging and frustrating to children who are learning and experimenting with new activities. It’s more important for children to participate and enjoy themselves.'],\n",
       " ['p', 'TV use should be monitored'],\n",
       " ['p',\n",
       "  'Try not to use TV as a “baby-sitter” on a regular basis.\\xa0 Be selective in choosing television shows for children. Some shows can be educational as well as entertaining.'],\n",
       " ['p', 'School should be fun!'],\n",
       " ['p',\n",
       "  'Starting school is a big event for children. “Playing school” can be a positive way to give them a glimpse of school life.'],\n",
       " ['p',\n",
       "  'Try to enroll them in a pre-school, Head Start, or similar community program which provides an opportunity to be with other kids and make new friends. Children can also learn academic basics as well as how to make decisions and cope with problems.'],\n",
       " ['p', 'Provide appropriate guidance and instructive discipline'],\n",
       " ['p',\n",
       "  'Children need the opportunity to explore and develop new skills and independence. At the same time, children need to learn that certain behaviors are unacceptable and that they are responsible for the consequences of their actions.'],\n",
       " ['p',\n",
       "  'As members of a family, children need to learn the rules of the family unit. Offer guidance and discipline that is fair and consistent. They will take these social skills and rules of conduct to school and eventually to the workplace.'],\n",
       " ['p', 'Suggestions on Guidance and Discipline'],\n",
       " ['ul',\n",
       "  '\\n\\nBe firm, but kind and realistic with your expectations. Children’s development depends on your love and encouragement.\\n\\n\\nSet a good example. You cannot expect self-control and self-discipline from a child if you do not practice this behavior.\\n\\n'],\n",
       " ['p',\n",
       "  'Criticize the behavior, not the child.\\xa0 It is best to say, “That was a bad thing you did,” rather than “You are a bad boy or girl.”'],\n",
       " ['p',\n",
       "  'Avoid nagging, threats and bribery.\\xa0Children will learn to ignore nagging, and threats and bribes are seldom effective.'],\n",
       " ['p',\n",
       "  'Give children the reasons “why” you are disciplining them and what the potential consequences of their actions might be.'],\n",
       " ['p',\n",
       "  'Talk about your feelings.\\xa0 We all lose our temper from time to time. If you do “blow your top,” it is important to talk about what happened and why you are angry.\\xa0 Apologize if you were wrong!'],\n",
       " ['p',\n",
       "  'Remember, the goal is not to control the child, but for him or her to learn self-control.'],\n",
       " ['p', 'Provide a safe and secure home.'],\n",
       " ['p',\n",
       "  'It’s okay for children to feel afraid sometimes.\\xa0 Everyone is afraid of something at some point in their life. Fear and anxiety grow out of experiences that we do not understand.'],\n",
       " ['p',\n",
       "  'If your children have fears that will not go away and affect his or her behavior, the first step is to find out what is frightening them. Be loving, patient and reassuring, not critical. Remember:\\xa0 the fear may be very real to the child.'],\n",
       " ['p', 'Signs of Fear'],\n",
       " ['p',\n",
       "  'Nervous mannerisms, shyness, withdrawal and aggressive behavior may be signs of childhood fears. A change in\\xa0 normal eating and sleeping patterns may also signal an unhealthy fear. Children who “play sick” or feel anxious regularly may have some problems that need attention.'],\n",
       " ['p',\n",
       "  'Fear of school can occur following a stressful event such as moving to a new neighborhood, changing schools, or after a bad incident at school.'],\n",
       " ['p',\n",
       "  'Children may not want to go to school after a period of being at home because of an illness.'],\n",
       " ['p', 'When to seek help'],\n",
       " ['p',\n",
       "  'Parents and family members are usually the first to notice if a child has problems with emotions or behavior. Your observations with those of teachers and other caregivers may lead you to seek help for your child. If you suspect a problem or have questions, consult your pediatrician or contact a mental health professional.'],\n",
       " ['p', 'Warning Signs'],\n",
       " ['p',\n",
       "  'The following signs may indicate the need for professional assistance or evaluation:'],\n",
       " ['ul',\n",
       "  '\\n\\nDecline in school performance\\n\\n\\nPoor grades despite strong efforts\\n\\n\\nRegular worry or anxiety\\n\\n\\nRepeated refusal to go to school or take part in normal children’s activities\\n\\n\\nHyperactivity or fidgeting\\n\\n\\nPersistent nightmares\\n\\n\\nPersistent disobedience or aggression\\n\\n\\nFrequent temper tantrums\\n\\n\\nDepression, sadness or irritability\\n\\n'],\n",
       " ['div',\n",
       "  '\\nLearn more about specific mental health conditions and children \\n\\n\\n\\nADHD - attentional problems\\n\\n\\nAutism - developmental delay\\n\\n\\nBipolar Disorder - depression and high energy\\n\\n\\nConduct Disorder - behavioral problems\\n\\n\\nDepression - sadness\\n\\n\\nGrief - coping with loss\\n\\n\\nPsychosis - hearing voices or seeing things that aren\\'t there\\n\\n\\nSuicide - thoughts of death/dying\\n\\n\\nSubstance use - drinking and using drugs\\n\\n\\n\\n\\nWhere to seek help\\n\\nInformation and referrals regarding the types of services that are available for children may be obtained from:\\n\\n\\nMental health organizations, hotlines and libraries\\n\\n\\nOther professionals such as the child’s pediatrician or school counselor\\n\\n\\nOther families in the community\\n\\n\\nFamily network organizations\\n\\n\\nCommunity-based psychiatric care\\n\\n\\nCrisis outreach teams\\n\\n\\nEducation or special education services\\n\\n\\nFamily resource centers and support groups\\n\\n\\nHealth services\\n\\n\\nProtection and advocacy groups and organizations\\n\\n\\nSelf-help and support groups\\n\\n\\nOther Resources\\nAmerican Academy of Child and Adolescent Psychiatry\\nwww.aacap.org\\nFederation of Families for Children’s Mental Health\\n\\t\\t\\t\\tPhone: 703-684-7710\\nwww.ffcmh.org\\nFamily Support America\\n\\t\\t\\t\\tPhone: 312-338-0900\\n\\nNational Association of School Psychologists\\n\\t\\t\\t\\tPhone 301-657-0270\\nwww.naspweb.org\\nWhat Every Child Needs for Good Mental Health is one in a series of pamphlets on children and teen mental health.\\nOther Mental Health America titles include:\\n\\n\\n\\nTeen Eating Disorders\\n\\n\\n\\n\\n\\nTeen Depression and Suicide\\n\\n\\nTeen Self-esteem Feeling Good About Yourself\\n\\n\\nTeen Stress: A Guide to Surviving Stress\\n\\n\\nSOURCES\\n“Facts for Families,\" America Academy of Child and Adolescent Psychiatry\\n\\t\\t\\t\\t“Children’s and Adolescent’s Mental Health,\" US Dept. of Health and Human Services\\n\\t\\t\\t\\tcopyright 1997 revised 2/00\\nThis pamphlet is copyrighted.\\xa0 Permission to reprint must be obtained from Mental Health America. 2/00\\n\\n\\xa0\\n\\n'],\n",
       " ['p', '\\xa0']]"
      ]
     },
     "execution_count": 8,
     "metadata": {},
     "output_type": "execute_result"
    }
   ],
   "source": [
    "ArticleScraper.tag_text_list_gen(body, tag_text_list)"
   ]
  },
  {
   "cell_type": "code",
   "execution_count": 11,
   "metadata": {},
   "outputs": [],
   "source": [
    "#######################################################################################"
   ]
  },
  {
   "cell_type": "code",
   "execution_count": null,
   "metadata": {},
   "outputs": [],
   "source": []
  },
  {
   "cell_type": "code",
   "execution_count": null,
   "metadata": {},
   "outputs": [],
   "source": []
  },
  {
   "cell_type": "code",
   "execution_count": 9,
   "metadata": {},
   "outputs": [
    {
     "data": {
      "text/plain": [
       "[['title', 'What Every Child Needs For Good Mental Health'],\n",
       " ['p',\n",
       "  'It is easy for parents to identify their child’s physical needs: nutritious food, warm clothes when it’s cold, bedtime at a reasonable hour. However, a child’s mental and emotional needs may not be as obvious. Good mental health allows children to think clearly, develop socially and learn new skills.\\xa0 Additionally, good friends and\\xa0 encouraging words from adults are all important for helping children develop self confidence, high self-esteem, and a healthy emotional outlook on life.'],\n",
       " ['p', 'A child’s physical and mental health are both important.'],\n",
       " ['p', 'Basics for a child’s good physical health:'],\n",
       " ['ul',\n",
       "  '\\n\\nNutritious food\\n\\n\\nAdequate shelter and sleep\\n\\n\\nExercise\\n\\n\\nImmunizations\\n\\n\\nHealthy living environment\\n\\n'],\n",
       " ['p', 'Basics for a child’s good mental health:'],\n",
       " ['ul',\n",
       "  '\\n\\nUnconditional love from family\\n\\n\\nSelf-confidence and high self-esteem\\n\\n\\nThe opportunity to play with other children\\n\\n\\nEncouraging teachers and supportive caretakers\\n\\n\\nSafe and secure surroundings\\n\\n\\nAppropriate guidance and discipline\\n\\n'],\n",
       " ['p', 'Give children unconditional love.'],\n",
       " ['p',\n",
       "  'Love, security and acceptance should be at the heart of family life.\\xa0 Children need to know that your love does not depend on his or her accomplishments.'],\n",
       " ['p',\n",
       "  'Mistakes and/or defeats should be expected and accepted. Confidence grows in a home that is full of unconditional love and affection.'],\n",
       " ['p', 'Nurture children’s confidence and self-esteem.'],\n",
       " ['ul',\n",
       "  '\\n\\nPraise Them - Encouraging children’s first steps or their ability to learn a new game helps them develop a desire to explore and learn about their surroundings. Allow children to explore and play in a safe area where they cannot get hurt.\\xa0 Assure them by smiling and talking to them often. Be an active participant in their activities. Your attention helps build their self-confidence and self-esteem.\\n\\n\\nSet Realistic Goals - Young children need realistic goals that match their ambitions with their abilities. With your help, older children can choose activities that test their abilities and increase their self-confidence.\\n\\n\\nBe Honest - Do not hide your failures from your children. It is important for them to know that we all make mistakes. It can be very re-assuring to know that adults are not perfect.\\n\\n\\nAvoid Sarcastic Remarks - If a child loses a game or fails a test, find out how he or she feels about the situation. Children may get discouraged and need a pep talk. Later, when they are ready, talk and offer assurance.\\n\\n\\nEncourage children - To not only strive to do their best, but also to enjoy the process. Trying new activities teaches children about teamwork, self-esteem and new skills.\\n\\n'],\n",
       " ['p', 'Make time for play!'],\n",
       " ['p', 'Encourage Children to Play'],\n",
       " ['p',\n",
       "  'To children, play is just fun. However, playtime is as important to their development as food and good care. Playtime helps children be creative, learn problem-solving skills and learn self-control.\\xa0 Good, hardy play, which includes running and yelling, is not only fun, but helps children to be physically and mentally healthy.'],\n",
       " ['p', 'Children Need Playmates'],\n",
       " ['p',\n",
       "  'Sometimes it is important for children to have time with their peers.\\xa0 By playing with others, children discover their strengths and weaknesses, develop a sense of belonging, and learn how to get along with others. Consider finding a good children’s program through neighbors, local community centers, schools, or your local park and recreation department.'],\n",
       " ['p', 'Parents Can be Great Playmates'],\n",
       " ['p',\n",
       "  'Join the fun! Playing Monopoly or coloring with a child gives you a great opportunity to share ideas and spend time together in a relaxed setting.'],\n",
       " ['p', 'Play for Fun'],\n",
       " ['p',\n",
       "  'Winning is not as important as being involved and enjoying the activity. One of the most important questions to ask children is “Did you have fun?’’ not “Did you win?”'],\n",
       " ['p',\n",
       "  'In our goal-oriented society, we often acknowledge only success and winning. This attitude can be discouraging and frustrating to children who are learning and experimenting with new activities. It’s more important for children to participate and enjoy themselves.'],\n",
       " ['p', 'TV use should be monitored'],\n",
       " ['p',\n",
       "  'Try not to use TV as a “baby-sitter” on a regular basis.\\xa0 Be selective in choosing television shows for children. Some shows can be educational as well as entertaining.'],\n",
       " ['p', 'School should be fun!'],\n",
       " ['p',\n",
       "  'Starting school is a big event for children. “Playing school” can be a positive way to give them a glimpse of school life.'],\n",
       " ['p',\n",
       "  'Try to enroll them in a pre-school, Head Start, or similar community program which provides an opportunity to be with other kids and make new friends. Children can also learn academic basics as well as how to make decisions and cope with problems.'],\n",
       " ['p', 'Provide appropriate guidance and instructive discipline'],\n",
       " ['p',\n",
       "  'Children need the opportunity to explore and develop new skills and independence. At the same time, children need to learn that certain behaviors are unacceptable and that they are responsible for the consequences of their actions.'],\n",
       " ['p',\n",
       "  'As members of a family, children need to learn the rules of the family unit. Offer guidance and discipline that is fair and consistent. They will take these social skills and rules of conduct to school and eventually to the workplace.'],\n",
       " ['p', 'Suggestions on Guidance and Discipline'],\n",
       " ['ul',\n",
       "  '\\n\\nBe firm, but kind and realistic with your expectations. Children’s development depends on your love and encouragement.\\n\\n\\nSet a good example. You cannot expect self-control and self-discipline from a child if you do not practice this behavior.\\n\\n'],\n",
       " ['p',\n",
       "  'Criticize the behavior, not the child.\\xa0 It is best to say, “That was a bad thing you did,” rather than “You are a bad boy or girl.”'],\n",
       " ['p',\n",
       "  'Avoid nagging, threats and bribery.\\xa0Children will learn to ignore nagging, and threats and bribes are seldom effective.'],\n",
       " ['p',\n",
       "  'Give children the reasons “why” you are disciplining them and what the potential consequences of their actions might be.'],\n",
       " ['p',\n",
       "  'Talk about your feelings.\\xa0 We all lose our temper from time to time. If you do “blow your top,” it is important to talk about what happened and why you are angry.\\xa0 Apologize if you were wrong!'],\n",
       " ['p',\n",
       "  'Remember, the goal is not to control the child, but for him or her to learn self-control.'],\n",
       " ['p', 'Provide a safe and secure home.'],\n",
       " ['p',\n",
       "  'It’s okay for children to feel afraid sometimes.\\xa0 Everyone is afraid of something at some point in their life. Fear and anxiety grow out of experiences that we do not understand.'],\n",
       " ['p',\n",
       "  'If your children have fears that will not go away and affect his or her behavior, the first step is to find out what is frightening them. Be loving, patient and reassuring, not critical. Remember:\\xa0 the fear may be very real to the child.'],\n",
       " ['p', 'Signs of Fear'],\n",
       " ['p',\n",
       "  'Nervous mannerisms, shyness, withdrawal and aggressive behavior may be signs of childhood fears. A change in\\xa0 normal eating and sleeping patterns may also signal an unhealthy fear. Children who “play sick” or feel anxious regularly may have some problems that need attention.'],\n",
       " ['p',\n",
       "  'Fear of school can occur following a stressful event such as moving to a new neighborhood, changing schools, or after a bad incident at school.'],\n",
       " ['p',\n",
       "  'Children may not want to go to school after a period of being at home because of an illness.'],\n",
       " ['p', 'When to seek help'],\n",
       " ['p',\n",
       "  'Parents and family members are usually the first to notice if a child has problems with emotions or behavior. Your observations with those of teachers and other caregivers may lead you to seek help for your child. If you suspect a problem or have questions, consult your pediatrician or contact a mental health professional.'],\n",
       " ['p', 'Warning Signs'],\n",
       " ['p',\n",
       "  'The following signs may indicate the need for professional assistance or evaluation:'],\n",
       " ['ul',\n",
       "  '\\n\\nDecline in school performance\\n\\n\\nPoor grades despite strong efforts\\n\\n\\nRegular worry or anxiety\\n\\n\\nRepeated refusal to go to school or take part in normal children’s activities\\n\\n\\nHyperactivity or fidgeting\\n\\n\\nPersistent nightmares\\n\\n\\nPersistent disobedience or aggression\\n\\n\\nFrequent temper tantrums\\n\\n\\nDepression, sadness or irritability\\n\\n'],\n",
       " ['div',\n",
       "  '\\nLearn more about specific mental health conditions and children \\n\\n\\n\\nADHD - attentional problems\\n\\n\\nAutism - developmental delay\\n\\n\\nBipolar Disorder - depression and high energy\\n\\n\\nConduct Disorder - behavioral problems\\n\\n\\nDepression - sadness\\n\\n\\nGrief - coping with loss\\n\\n\\nPsychosis - hearing voices or seeing things that aren\\'t there\\n\\n\\nSuicide - thoughts of death/dying\\n\\n\\nSubstance use - drinking and using drugs\\n\\n\\n\\n\\nWhere to seek help\\n\\nInformation and referrals regarding the types of services that are available for children may be obtained from:\\n\\n\\nMental health organizations, hotlines and libraries\\n\\n\\nOther professionals such as the child’s pediatrician or school counselor\\n\\n\\nOther families in the community\\n\\n\\nFamily network organizations\\n\\n\\nCommunity-based psychiatric care\\n\\n\\nCrisis outreach teams\\n\\n\\nEducation or special education services\\n\\n\\nFamily resource centers and support groups\\n\\n\\nHealth services\\n\\n\\nProtection and advocacy groups and organizations\\n\\n\\nSelf-help and support groups\\n\\n\\nOther Resources\\nAmerican Academy of Child and Adolescent Psychiatry\\nwww.aacap.org\\nFederation of Families for Children’s Mental Health\\n\\t\\t\\t\\tPhone: 703-684-7710\\nwww.ffcmh.org\\nFamily Support America\\n\\t\\t\\t\\tPhone: 312-338-0900\\n\\nNational Association of School Psychologists\\n\\t\\t\\t\\tPhone 301-657-0270\\nwww.naspweb.org\\nWhat Every Child Needs for Good Mental Health is one in a series of pamphlets on children and teen mental health.\\nOther Mental Health America titles include:\\n\\n\\n\\nTeen Eating Disorders\\n\\n\\n\\n\\n\\nTeen Depression and Suicide\\n\\n\\nTeen Self-esteem Feeling Good About Yourself\\n\\n\\nTeen Stress: A Guide to Surviving Stress\\n\\n\\nSOURCES\\n“Facts for Families,\" America Academy of Child and Adolescent Psychiatry\\n\\t\\t\\t\\t“Children’s and Adolescent’s Mental Health,\" US Dept. of Health and Human Services\\n\\t\\t\\t\\tcopyright 1997 revised 2/00\\nThis pamphlet is copyrighted.\\xa0 Permission to reprint must be obtained from Mental Health America. 2/00\\n\\n\\xa0\\n\\n'],\n",
       " ['p', '\\xa0']]"
      ]
     },
     "execution_count": 9,
     "metadata": {},
     "output_type": "execute_result"
    }
   ],
   "source": [
    "tag_text_list"
   ]
  },
  {
   "cell_type": "code",
   "execution_count": null,
   "metadata": {},
   "outputs": [],
   "source": []
  }
 ],
 "metadata": {
  "kernelspec": {
   "display_name": "Python 3",
   "language": "python",
   "name": "python3"
  },
  "language_info": {
   "codemirror_mode": {
    "name": "ipython",
    "version": 3
   },
   "file_extension": ".py",
   "mimetype": "text/x-python",
   "name": "python",
   "nbconvert_exporter": "python",
   "pygments_lexer": "ipython3",
   "version": "3.5.2"
  }
 },
 "nbformat": 4,
 "nbformat_minor": 2
}
