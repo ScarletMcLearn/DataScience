{
 "cells": [
  {
   "cell_type": "code",
   "execution_count": 1,
   "metadata": {},
   "outputs": [
    {
     "name": "stdout",
     "output_type": "stream",
     "text": [
      "Hello!\n",
      "Welcome.\n",
      "Bikrawler is an API (Application program interface) for the largest e-marketplace in Bangladesh\n",
      "Bikroy.com\n",
      "https://bikroy.com/en\n"
     ]
    }
   ],
   "source": [
    "print(\"Hello!\")\n",
    "print(\"Welcome.\")\n",
    "print('Bikrawler is an API (Application program interface) for the largest e-marketplace in Bangladesh')\n",
    "print('Bikroy.com')\n",
    "print('https://bikroy.com/en')"
   ]
  },
  {
   "cell_type": "markdown",
   "metadata": {},
   "source": [
    "# Bikrawler Dot Py \n",
    "An Application program interface (API) for the largest e-marketplace in Bangladesh. <br>\n",
    "[Bikroy.com](https://bikroy.com/en)"
   ]
  },
  {
   "cell_type": "markdown",
   "metadata": {},
   "source": [
    "Bikrawler Dot Py lets you search for items on the [site](www.bikroy.com) Bikroy.com,<br>\n",
    "Sort them by parameters,<br>\n",
    "Display the queried results,<br>\n",
    "And save it as a CSV file."
   ]
  },
  {
   "cell_type": "markdown",
   "metadata": {},
   "source": [
    "Dependencies :<br>\n",
    "Python 3 <br>\n",
    "Beautiful Soup 4<br>\n",
    "Url Lib 3"
   ]
  },
  {
   "cell_type": "markdown",
   "metadata": {},
   "source": [
    "## Importing WebScrapper - The Helper Module\n",
    "WebScrapper.py module should be in the same directory as Bikrawler.\n",
    "It contains the webscraping dependencies."
   ]
  },
  {
   "cell_type": "code",
   "execution_count": 2,
   "metadata": {
    "collapsed": true
   },
   "outputs": [],
   "source": [
    "from WebScrapper import *"
   ]
  },
  {
   "cell_type": "markdown",
   "metadata": {},
   "source": [
    "## Defining Functions To Use In Bikrawling\n",
    "Here are some functions to use in the API."
   ]
  },
  {
   "cell_type": "code",
   "execution_count": 3,
   "metadata": {
    "collapsed": true
   },
   "outputs": [],
   "source": [
    "# Get Location\n",
    "\n",
    "def get_location():\n",
    "    city = ['Dhaka', 'Chittagong', 'Sylhet', 'Khulna', 'Barisal', 'Rajshahi', 'Rangpur']\n",
    "    print(\"Keys\\t-\\tLocations\")\n",
    "    for index, values in enumerate(city):\n",
    "        print(index, \"\\t-\\t\", values)\n",
    "\n",
    "    while(True):\n",
    "        print(\"\\nPlease enter the key of the location you would like to search in.\")\n",
    "\n",
    "        loc_key = int(input(\"\\nYour key: \"))\n",
    "\n",
    "        if (loc_key < 0 or loc_key > 6):\n",
    "            print(\"\\nSorry but \" + str(loc_key) + \" is not a valid key. \")\n",
    "            print(\"Try again!\")\n",
    "        else:\n",
    "            print(\"\\nCity Selected: \" + city[loc_key])\n",
    "            return (city[loc_key].lower())"
   ]
  },
  {
   "cell_type": "code",
   "execution_count": 4,
   "metadata": {
    "collapsed": true
   },
   "outputs": [],
   "source": [
    "# Set Search Sort Option\n",
    "\n",
    "def get_sort_option():\n",
    "    sort_by_options = ['&sort=date_desc&by_paying_member=0',  '&sort=date_asc&by_paying_member=0', '&sort=price_desc&by_paying_member=0', '&sort=price_asc&by_paying_member=0']\n",
    "    \n",
    "    print(\"\\nKeys\\t-\\tSorting Options\")\n",
    "    \n",
    "    sorting_helper_list = [\"New to Old\", \"Old to New\", \"Expensive to Cheap\", \"Cheap to Expensive\"]\n",
    "    for index, values in enumerate(sorting_helper_list):\n",
    "        print(index, \"\\t-\\t\", values)\n",
    "\n",
    "    while(True):\n",
    "        print(\"\\nPlease enter the key of the sorting option you would like to use.\")\n",
    "\n",
    "        sort_key = int(input(\"\\nYour key: \"))\n",
    "\n",
    "        if (sort_key < 0 or sort_key >= len(sorting_helper_list)):\n",
    "            print(\"\\nSorry but \" + str(sort_key) + \" is not a valid key. \")\n",
    "            print(\"Try again!\")\n",
    "        else:\n",
    "            print(\"\\nSorting Selected: \" + sorting_helper_list[sort_key])\n",
    "            return (sort_by_options[sort_key])\n"
   ]
  },
  {
   "cell_type": "code",
   "execution_count": 5,
   "metadata": {
    "collapsed": true
   },
   "outputs": [],
   "source": [
    "# Search Word\n",
    "\n",
    "def get_key_word():\n",
    "    print(\"\\nPlease enter the item you would like to search for.\")\n",
    "    item = input(\"Search Item: \")\n",
    "    return (item.replace(' ', '+').lower())"
   ]
  },
  {
   "cell_type": "code",
   "execution_count": 6,
   "metadata": {
    "collapsed": true
   },
   "outputs": [],
   "source": [
    "# Get Maximum Number of Pages\n",
    "\n",
    "def get_max_page(link):\n",
    "    print(\"Please enter the maximum number of pages available in the following link: \\n\" + link + \"\\n\")\n",
    "    max_page = int(input(\"Maximum page number: \"))\n",
    "    return (max_page)"
   ]
  },
  {
   "cell_type": "markdown",
   "metadata": {},
   "source": [
    "## Setting Up The Base URL\n",
    "This is the base URL from which the API will crawl to the other search results."
   ]
  },
  {
   "cell_type": "code",
   "execution_count": 7,
   "metadata": {
    "collapsed": true
   },
   "outputs": [],
   "source": [
    "base_link =\"https://bikroy.com/en/ads/\""
   ]
  },
  {
   "cell_type": "code",
   "execution_count": 8,
   "metadata": {},
   "outputs": [
    {
     "name": "stdout",
     "output_type": "stream",
     "text": [
      "Keys\t-\tLocations\n",
      "0 \t-\t Dhaka\n",
      "1 \t-\t Chittagong\n",
      "2 \t-\t Sylhet\n",
      "3 \t-\t Khulna\n",
      "4 \t-\t Barisal\n",
      "5 \t-\t Rajshahi\n",
      "6 \t-\t Rangpur\n",
      "\n",
      "Please enter the key of the location you would like to search in.\n",
      "\n",
      "Your key: 0\n",
      "\n",
      "City Selected: Dhaka\n",
      "\n",
      "Please enter the item you would like to search for.\n",
      "Search Item: \n",
      "\n",
      "Keys\t-\tSorting Options\n",
      "0 \t-\t New to Old\n",
      "1 \t-\t Old to New\n",
      "2 \t-\t Expensive to Cheap\n",
      "3 \t-\t Cheap to Expensive\n",
      "\n",
      "Please enter the key of the sorting option you would like to use.\n",
      "\n",
      "Your key: 0\n",
      "\n",
      "Sorting Selected: New to Old\n"
     ]
    }
   ],
   "source": [
    "loc = get_location()\n",
    "item = get_key_word()\n",
    "sort = get_sort_option()\n",
    "\n",
    "link_init = base_link + loc + '?query=' + item + '&sort=' + sort"
   ]
  },
  {
   "cell_type": "markdown",
   "metadata": {},
   "source": [
    "Click on the link below and find the maximum page number (the last page number)."
   ]
  },
  {
   "cell_type": "code",
   "execution_count": 9,
   "metadata": {},
   "outputs": [
    {
     "data": {
      "text/plain": [
       "'https://bikroy.com/en/ads/dhaka?query=&sort=&sort=date_desc&by_paying_member=0'"
      ]
     },
     "execution_count": 9,
     "metadata": {},
     "output_type": "execute_result"
    }
   ],
   "source": [
    "link_init"
   ]
  },
  {
   "cell_type": "code",
   "execution_count": 10,
   "metadata": {},
   "outputs": [
    {
     "name": "stdout",
     "output_type": "stream",
     "text": [
      "Please enter the maximum number of pages available in the following link: \n",
      "https://bikroy.com/en/ads/dhaka?query=&sort=&sort=date_desc&by_paying_member=0\n",
      "\n",
      "Maximum page number: 5\n"
     ]
    }
   ],
   "source": [
    "max_page = get_max_page(link_init)"
   ]
  },
  {
   "cell_type": "markdown",
   "metadata": {},
   "source": [
    "## The Scraping Part"
   ]
  },
  {
   "cell_type": "code",
   "execution_count": 14,
   "metadata": {},
   "outputs": [
    {
     "name": "stderr",
     "output_type": "stream",
     "text": [
      "/home/scarlet/anaconda3/envs/my_env/lib/python3.6/site-packages/urllib3/connectionpool.py:852: InsecureRequestWarning: Unverified HTTPS request is being made. Adding certificate verification is strongly advised. See: https://urllib3.readthedocs.io/en/latest/advanced-usage.html#ssl-warnings\n",
      "  InsecureRequestWarning)\n"
     ]
    },
    {
     "name": "stdout",
     "output_type": "stream",
     "text": [
      "Item:  Portable Bluetooth Speaker A5 - 34% OFF\n",
      "Location:  Dhaka\n",
      "Posted On:  MEMBER\n",
      "Category:  Audio & MP3\n",
      "Price:  Tk 960\n",
      "Link: https://bikroy.com/en/ad/portable-bluetooth-speaker-a5-34-percent-off-for-sale-dhaka\n",
      "\n",
      "Item:  GAMING CORE i3 4GB 500GB 17”LED\n",
      "Location:  Dhaka\n",
      "Posted On:  13 Aug  6:01 pm\n",
      "Category:  Computers & Tablets\n",
      "Price:  Tk 12,500\n",
      "Link: https://bikroy.com/en/ad/gaming-core-i3-4gb-500gb-17led-for-sale-dhaka-24\n",
      "\n",
      "Item:  LG 19EN43S LED monitor বিক্রয়।\n",
      "Location:  Dhaka\n",
      "Posted On:  , \n",
      "Category:  Computer Accessories\n",
      "Price:  Tk 3,800\n",
      "Link: https://bikroy.com/en/ad/lg-19en43s-led-monitor-bikryy-for-sale-dhaka\n",
      "\n",
      "Item:  Walton V2 Original\n",
      "Location:  Dhaka\n",
      "Posted On:  , \n",
      "Category:  Mobile Phones\n",
      "Price:  Tk 5,500\n",
      "Link: https://bikroy.com/en/ad/walton-v2-original-for-sale-dhaka-168\n",
      "\n",
      "Item:  Lenovo Yoga 500 6th Gen i7/8/1TB GFX\n",
      "Location:  Dhaka\n",
      "Posted On:  a few seconds ago\n",
      "Category:  Computers & Tablets\n",
      "Price:  Tk 55,000\n",
      "Link: https://bikroy.com/en/ad/lenovo-yoga-500-6th-gen-i7-8-1tb-gfx-for-sale-dhaka\n",
      "\n",
      "Item:  Noise GT 08 Black Smart watch Phone\n",
      "Location:  Dhaka\n",
      "Posted On:  a few seconds ago\n",
      "Category:  Mobile Phone Accessories\n",
      "Price:  Tk 3,250\n",
      "Link: https://bikroy.com/en/ad/noise-gt-08-black-smart-watch-phone-for-sale-dhaka\n",
      "\n",
      "Item:  Koti lahanga\n",
      "Location:  Dhaka\n",
      "Posted On:  3 minutes ago\n",
      "Category:  Clothing\n",
      "Price:  Tk 2,050\n",
      "Link: https://bikroy.com/en/ad/koti-lahanga-for-sale-dhaka\n",
      "\n",
      "Item:  Symphony P6 2Gb 16Gb Original\n",
      "Location:  Dhaka\n",
      "Posted On:  , \n",
      "Category:  Mobile Phones\n",
      "Price:  Tk 5,000\n",
      "Link: https://bikroy.com/en/ad/symphony-p6-2gb-16gb-original-for-sale-dhaka-6\n",
      "\n",
      "Item:  HTC 10 Pro 64 GB Original\n",
      "Location:  Dhaka\n",
      "Posted On:  4 minutes ago\n",
      "Category:  Mobile Phones\n",
      "Price:  Tk 20,200\n",
      "Link: https://bikroy.com/en/ad/htc-10-pro-64-gb-original-for-sale-dhaka-4\n",
      "\n",
      "Item:  Samsung A8(16) Original\n",
      "Location:  Dhaka\n",
      "Posted On:  4 minutes ago\n",
      "Category:  Mobile Phones\n",
      "Price:  Tk 27,500\n",
      "Link: https://bikroy.com/en/ad/samsung-a816-original-for-sale-dhaka-1\n",
      "\n",
      "Item:  Apple iPhone 4s 16gb Original\n",
      "Location:  Dhaka\n",
      "Posted On:  , \n",
      "Category:  Mobile Phones\n",
      "Price:  Tk 6,500\n",
      "Link: https://bikroy.com/en/ad/apple-iphone-4s-16gb-original-for-sale-dhaka-2761\n",
      "\n",
      "Item:  Sami strice long grown\n",
      "Location:  Dhaka\n",
      "Posted On:  6 minutes ago\n",
      "Category:  Clothing\n",
      "Price:  Tk 2,000\n",
      "Link: https://bikroy.com/en/ad/sami-strice-long-grown-for-sale-dhaka-7\n",
      "\n",
      "Item:  TV Cabinet\n",
      "Location:  Dhaka\n",
      "Posted On:  , \n",
      "Category:  Furniture\n",
      "Price:  Tk 10,000\n",
      "Link: https://bikroy.com/en/ad/tv-cabinet-for-sale-dhaka-124\n",
      "\n",
      "Item:  LG G6(64gb) Original\n",
      "Location:  Dhaka\n",
      "Posted On:  6 minutes ago\n",
      "Category:  Mobile Phones\n",
      "Price:  Tk 45,500\n",
      "Link: https://bikroy.com/en/ad/lg-g664gb-original-for-sale-dhaka\n",
      "\n"
     ]
    }
   ],
   "source": [
    "list_items = [[\"Item\", 'Location', 'Posted On', 'Category', 'Price', 'Link'],]\n",
    "\n",
    "first_link = soupified_request(link_init)\n",
    "all_divs = first_link.findAll(\"div\", { \"class\" : \"ui-item\" })\n",
    "\n",
    "\n",
    "try:\n",
    "\n",
    "    for item in all_divs:\n",
    "        Item = (item.find('img').get('title'))\n",
    "        print(\"Item: \", Item)\n",
    "\n",
    "        Location = item.find('span', {'class': 'item-area'}).text\n",
    "        print(\"Location: \", Location)\n",
    "\n",
    "        Post_Date = item.findAll('span')[1].text\n",
    "        print(\"Posted On: \", Post_Date)\n",
    "\n",
    "        Category = item.find('span', {'class': 'item-cat'}).text\n",
    "        print(\"Category: \", Category)\n",
    "\n",
    "        Price = item.find('p', {'class': 'item-info'}).text\n",
    "        print(\"Price: \", Price)\n",
    "\n",
    "        Link = 'https://bikroy.com'+ item.find('a')['href']\n",
    "        print(\"Link: \" + Link, end='\\n\\n')\n",
    "\n",
    "        list_items.append([Item, Location, Post_Date, Category, Price, Link])\n",
    "\n",
    "    wait()\n",
    "\n",
    "\n",
    "    for l in range(2, max_page):\n",
    "        bikroy = soupified_request(link_init + \"&page=\" + str(l))\n",
    "\n",
    "        all_divs = bikroy.findAll(\"div\", { \"class\" : \"ui-item\" })\n",
    "\n",
    "        for item in all_divs:\n",
    "            Item = (item.find('img').get('title'))\n",
    "            print(\"Item: \", Item)\n",
    "\n",
    "            Location = item.find('span', {'class': 'item-area'}).text\n",
    "            print(\"Location: \", Location)\n",
    "\n",
    "            Post_Date = item.findAll('span')[1].text\n",
    "            print(\"Posted On: \", Post_Date)\n",
    "\n",
    "            Category = item.find('span', {'class': 'item-cat'}).text\n",
    "            print(\"Category: \", Category)\n",
    "\n",
    "            Price = item.find('p', {'class': 'item-info'}).text\n",
    "            print(\"Price: \", Price)\n",
    "\n",
    "            Link = 'https://bikroy.com'+ item.find('a')['href']\n",
    "            print(\"Link: \" + Link, end='\\n\\n')\n",
    "\n",
    "            list_items.append([Item, Location, Post_Date, Category, Price, Link])\n",
    "\n",
    "        wait()\n",
    "        \n",
    "except:\n",
    "    pass\n",
    "        "
   ]
  },
  {
   "cell_type": "markdown",
   "metadata": {},
   "source": [
    "## Displaying The Results"
   ]
  },
  {
   "cell_type": "code",
   "execution_count": 15,
   "metadata": {},
   "outputs": [
    {
     "data": {
      "text/plain": [
       "[['Item', 'Location', 'Posted On', 'Category', 'Price', 'Link'],\n",
       " ['Portable Bluetooth Speaker A5 - 34% OFF',\n",
       "  'Dhaka',\n",
       "  'MEMBER',\n",
       "  'Audio & MP3',\n",
       "  'Tk 960',\n",
       "  'https://bikroy.com/en/ad/portable-bluetooth-speaker-a5-34-percent-off-for-sale-dhaka'],\n",
       " ['GAMING CORE i3 4GB 500GB 17”LED',\n",
       "  'Dhaka',\n",
       "  '13 Aug  6:01 pm',\n",
       "  'Computers & Tablets',\n",
       "  'Tk 12,500',\n",
       "  'https://bikroy.com/en/ad/gaming-core-i3-4gb-500gb-17led-for-sale-dhaka-24'],\n",
       " ['LG 19EN43S LED monitor বিক্রয়।',\n",
       "  'Dhaka',\n",
       "  ', ',\n",
       "  'Computer Accessories',\n",
       "  'Tk 3,800',\n",
       "  'https://bikroy.com/en/ad/lg-19en43s-led-monitor-bikryy-for-sale-dhaka'],\n",
       " ['Walton V2 Original',\n",
       "  'Dhaka',\n",
       "  ', ',\n",
       "  'Mobile Phones',\n",
       "  'Tk 5,500',\n",
       "  'https://bikroy.com/en/ad/walton-v2-original-for-sale-dhaka-168'],\n",
       " ['Lenovo Yoga 500 6th Gen i7/8/1TB GFX',\n",
       "  'Dhaka',\n",
       "  'a few seconds ago',\n",
       "  'Computers & Tablets',\n",
       "  'Tk 55,000',\n",
       "  'https://bikroy.com/en/ad/lenovo-yoga-500-6th-gen-i7-8-1tb-gfx-for-sale-dhaka'],\n",
       " ['Noise GT 08 Black Smart watch Phone',\n",
       "  'Dhaka',\n",
       "  'a few seconds ago',\n",
       "  'Mobile Phone Accessories',\n",
       "  'Tk 3,250',\n",
       "  'https://bikroy.com/en/ad/noise-gt-08-black-smart-watch-phone-for-sale-dhaka'],\n",
       " ['Koti lahanga',\n",
       "  'Dhaka',\n",
       "  '3 minutes ago',\n",
       "  'Clothing',\n",
       "  'Tk 2,050',\n",
       "  'https://bikroy.com/en/ad/koti-lahanga-for-sale-dhaka'],\n",
       " ['Symphony P6 2Gb 16Gb Original',\n",
       "  'Dhaka',\n",
       "  ', ',\n",
       "  'Mobile Phones',\n",
       "  'Tk 5,000',\n",
       "  'https://bikroy.com/en/ad/symphony-p6-2gb-16gb-original-for-sale-dhaka-6'],\n",
       " ['HTC 10 Pro 64 GB Original',\n",
       "  'Dhaka',\n",
       "  '4 minutes ago',\n",
       "  'Mobile Phones',\n",
       "  'Tk 20,200',\n",
       "  'https://bikroy.com/en/ad/htc-10-pro-64-gb-original-for-sale-dhaka-4'],\n",
       " ['Samsung A8(16) Original',\n",
       "  'Dhaka',\n",
       "  '4 minutes ago',\n",
       "  'Mobile Phones',\n",
       "  'Tk 27,500',\n",
       "  'https://bikroy.com/en/ad/samsung-a816-original-for-sale-dhaka-1'],\n",
       " ['Apple iPhone 4s 16gb Original',\n",
       "  'Dhaka',\n",
       "  ', ',\n",
       "  'Mobile Phones',\n",
       "  'Tk 6,500',\n",
       "  'https://bikroy.com/en/ad/apple-iphone-4s-16gb-original-for-sale-dhaka-2761'],\n",
       " ['Sami strice long grown',\n",
       "  'Dhaka',\n",
       "  '6 minutes ago',\n",
       "  'Clothing',\n",
       "  'Tk 2,000',\n",
       "  'https://bikroy.com/en/ad/sami-strice-long-grown-for-sale-dhaka-7'],\n",
       " ['TV Cabinet',\n",
       "  'Dhaka',\n",
       "  ', ',\n",
       "  'Furniture',\n",
       "  'Tk 10,000',\n",
       "  'https://bikroy.com/en/ad/tv-cabinet-for-sale-dhaka-124'],\n",
       " ['LG G6(64gb) Original',\n",
       "  'Dhaka',\n",
       "  '6 minutes ago',\n",
       "  'Mobile Phones',\n",
       "  'Tk 45,500',\n",
       "  'https://bikroy.com/en/ad/lg-g664gb-original-for-sale-dhaka']]"
      ]
     },
     "execution_count": 15,
     "metadata": {},
     "output_type": "execute_result"
    }
   ],
   "source": [
    "list_items"
   ]
  },
  {
   "cell_type": "markdown",
   "metadata": {},
   "source": [
    "## Writing To CSV File "
   ]
  },
  {
   "cell_type": "code",
   "execution_count": 20,
   "metadata": {},
   "outputs": [
    {
     "name": "stdout",
     "output_type": "stream",
     "text": [
      "Please enter the file name to which to save your results: Bikroy Output\n"
     ]
    }
   ],
   "source": [
    "file_name = input(\"Please enter the file name to which to save your results: \")"
   ]
  },
  {
   "cell_type": "code",
   "execution_count": 21,
   "metadata": {
    "collapsed": true
   },
   "outputs": [],
   "source": [
    "file = open(file_name+'.csv', 'w')\n",
    "\n",
    "for elements in list_items:\n",
    "    file.write(str(elements))\n",
    "    file.write('\\n')\n",
    "    \n",
    "file.close()"
   ]
  },
  {
   "cell_type": "markdown",
   "metadata": {},
   "source": [
    "## Open The Generated File To Get Your Bikrawled Data"
   ]
  },
  {
   "cell_type": "markdown",
   "metadata": {},
   "source": [
    "In the same directory open the generated CSV file to get your data."
   ]
  },
  {
   "cell_type": "markdown",
   "metadata": {},
   "source": [
    "## Alls Well That Ends Well\n",
    "\n",
    "For Any Queries, Suggestions, or Feedback Feel Free To Report A Bug, Or Mail Me At : Ratul_Shams@Yahoo.Com With The Subject: Bikcrawler Issue \n",
    "\n",
    "Follow Me On Twitter : @essenceprimus\n",
    "Add Me On LinkedIn : Scarlet McLearn\n",
    "\n",
    "\n",
    "\n",
    "## Thank You"
   ]
  },
  {
   "cell_type": "code",
   "execution_count": 22,
   "metadata": {
    "collapsed": true
   },
   "outputs": [],
   "source": [
    "## P.s. You can also copy the code cells into a Python file and use it basically the same way. \n",
    "## But you prolly know that.\n",
    "## But just saying. :p"
   ]
  },
  {
   "cell_type": "code",
   "execution_count": 24,
   "metadata": {
    "collapsed": true
   },
   "outputs": [],
   "source": [
    "#######################\n",
    "##        By         ##\n",
    "##  Scarlet McLearn  ##\n",
    "##  Essence Primus   ##\n",
    "##  Miracle Worker   ##\n",
    "#######################"
   ]
  }
 ],
 "metadata": {
  "kernelspec": {
   "display_name": "Python 3",
   "language": "python",
   "name": "python3"
  },
  "language_info": {
   "codemirror_mode": {
    "name": "ipython",
    "version": 3
   },
   "file_extension": ".py",
   "mimetype": "text/x-python",
   "name": "python",
   "nbconvert_exporter": "python",
   "pygments_lexer": "ipython3",
   "version": "3.6.1"
  }
 },
 "nbformat": 4,
 "nbformat_minor": 2
}
