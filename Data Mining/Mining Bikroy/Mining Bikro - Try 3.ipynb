{
 "cells": [
  {
   "cell_type": "code",
   "execution_count": 1,
   "metadata": {
    "collapsed": true
   },
   "outputs": [],
   "source": [
    "from WebScrapper import *"
   ]
  },
  {
   "cell_type": "code",
   "execution_count": 3,
   "metadata": {},
   "outputs": [
    {
     "name": "stdout",
     "output_type": "stream",
     "text": [
      "Keys\t-\tLocations\n",
      "0 \t-\t Dhaka\n",
      "1 \t-\t Chittagong\n",
      "2 \t-\t Sylhet\n",
      "3 \t-\t Khulna\n",
      "4 \t-\t Barisal\n",
      "5 \t-\t Rajshahi\n",
      "6 \t-\t Rangpur\n",
      "\n",
      "Please enter the key of the location you would like to search in.\n",
      "\n",
      "Your key: 0\n",
      "\n",
      "City Selected: Dhaka\n"
     ]
    },
    {
     "data": {
      "text/plain": [
       "'dhaka'"
      ]
     },
     "execution_count": 3,
     "metadata": {},
     "output_type": "execute_result"
    }
   ],
   "source": [
    "\n",
    "\n",
    "def get_location():\n",
    "    city = ['Dhaka', 'Chittagong', 'Sylhet', 'Khulna', 'Barisal', 'Rajshahi', 'Rangpur']\n",
    "    print(\"Keys\\t-\\tLocations\")\n",
    "    for index, values in enumerate(city):\n",
    "        print(index, \"\\t-\\t\", values)\n",
    "\n",
    "    while(True):\n",
    "        print(\"\\nPlease enter the key of the location you would like to search in.\")\n",
    "\n",
    "        loc_key = int(input(\"\\nYour key: \"))\n",
    "\n",
    "        if (loc_key < 0 or loc_key > 6):\n",
    "            print(\"\\nSorry but \" + str(loc_key) + \" is not a valid key. \")\n",
    "            print(\"Try again!\")\n",
    "        else:\n",
    "            print(\"\\nCity Selected: \" + city[loc_key])\n",
    "            return (city[loc_key].lower())\n",
    "\n",
    "\n",
    "get_location()\n"
   ]
  },
  {
   "cell_type": "code",
   "execution_count": 4,
   "metadata": {
    "collapsed": true
   },
   "outputs": [],
   "source": [
    "sort_by_options = ['&sort=date_desc&by_paying_member=0',  '&sort=date_asc&by_paying_member=0', '&sort=price_desc&by_paying_member=0', '&sort=price_asc&by_paying_member=0']\n",
    "\n",
    "def get_sort_option():\n",
    "    sort_by_options = ['&sort=date_desc&by_paying_member=0',  '&sort=date_asc&by_paying_member=0', '&sort=price_desc&by_paying_member=0', '&sort=price_asc&by_paying_member=0']\n",
    "    \n",
    "    print(\"Keys\\t-\\tSorting Options\")\n",
    "    \n",
    "    sorting_helper_list = [\"New to Old\", \"Old to New\", \"Expensive to Cheap\", \"Cheap to Expensive\"]\n",
    "    for index, values in enumerate(sorting_helper_list):\n",
    "        print(index, \"\\t-\\t\", values)\n",
    "\n",
    "    while(True):\n",
    "        print(\"\\nPlease enter the key of the sorting option you would like to use.\")\n",
    "\n",
    "        sort_key = int(input(\"\\nYour key: \"))\n",
    "\n",
    "        if (sort_key < 0 or sort_key >= len(sorting_helper_list)):\n",
    "            print(\"\\nSorry but \" + str(sort_key) + \" is not a valid key. \")\n",
    "            print(\"Try again!\")\n",
    "        else:\n",
    "            print(\"\\nSorting Selected: \" + sorting_helper_list[sort_key])\n",
    "            return (sort_by_options[sort_key])\n"
   ]
  },
  {
   "cell_type": "code",
   "execution_count": 5,
   "metadata": {},
   "outputs": [
    {
     "name": "stdout",
     "output_type": "stream",
     "text": [
      "Keys\t-\tSorting Options\n",
      "0 \t-\t New to Old\n",
      "1 \t-\t Old to New\n",
      "2 \t-\t Expensive to Cheap\n",
      "3 \t-\t Cheap to Expensive\n",
      "\n",
      "Please enter the key of the sorting option you would like to use.\n",
      "\n",
      "Your key: 3\n",
      "\n",
      "Sorting Selected: Cheap to Expensive\n",
      "&sort=price_asc&by_paying_member=0\n"
     ]
    }
   ],
   "source": [
    "# for i in range(len(sort_by_options)):\n",
    "    \n",
    "print(get_sort_option())"
   ]
  },
  {
   "cell_type": "code",
   "execution_count": 6,
   "metadata": {
    "collapsed": true
   },
   "outputs": [],
   "source": [
    "def get_key_word():\n",
    "    print(\"Please enter the item you would like to search for.\")\n",
    "    item = input(\"Search Item: \")\n",
    "    return (item.replace(' ', '+').lower())"
   ]
  },
  {
   "cell_type": "code",
   "execution_count": 7,
   "metadata": {},
   "outputs": [
    {
     "name": "stdout",
     "output_type": "stream",
     "text": [
      "Please enter the item you would like to search for.\n",
      "Search Item: mobile\n"
     ]
    },
    {
     "data": {
      "text/plain": [
       "'mobile'"
      ]
     },
     "execution_count": 7,
     "metadata": {},
     "output_type": "execute_result"
    }
   ],
   "source": [
    "get_key_word()"
   ]
  },
  {
   "cell_type": "code",
   "execution_count": 8,
   "metadata": {},
   "outputs": [
    {
     "name": "stdout",
     "output_type": "stream",
     "text": [
      "worrfd e r sd fdsd sdffd d\n"
     ]
    }
   ],
   "source": [
    "print(\"WorRFd e R sd Fdsd sdfFD d\".lower())"
   ]
  },
  {
   "cell_type": "code",
   "execution_count": 9,
   "metadata": {},
   "outputs": [
    {
     "name": "stdout",
     "output_type": "stream",
     "text": [
      "Keys\t-\tLocations\n",
      "0 \t-\t Dhaka\n",
      "1 \t-\t Chittagong\n",
      "2 \t-\t Sylhet\n",
      "3 \t-\t Khulna\n",
      "4 \t-\t Barisal\n",
      "5 \t-\t Rajshahi\n",
      "6 \t-\t Rangpur\n",
      "\n",
      "Please enter the key of the location you would like to search in.\n",
      "\n",
      "Your key: 0\n",
      "\n",
      "City Selected: Dhaka\n",
      "Please enter the item you would like to search for.\n",
      "Search Item: mobile\n",
      "Keys\t-\tSorting Options\n",
      "0 \t-\t New to Old\n",
      "1 \t-\t Old to New\n",
      "2 \t-\t Expensive to Cheap\n",
      "3 \t-\t Cheap to Expensive\n",
      "\n",
      "Please enter the key of the sorting option you would like to use.\n",
      "\n",
      "Your key: 3\n",
      "\n",
      "Sorting Selected: Cheap to Expensive\n"
     ]
    }
   ],
   "source": [
    "base_link =\"https://bikroy.com/en/ads/\"\n",
    "\n",
    "loc = get_location()\n",
    "item = get_key_word()\n",
    "sort = get_sort_option()\n",
    "\n",
    "link_init = base_link + loc + '?query=' + item + '&sort=' + sort"
   ]
  },
  {
   "cell_type": "code",
   "execution_count": 10,
   "metadata": {},
   "outputs": [
    {
     "data": {
      "text/plain": [
       "'dhaka'"
      ]
     },
     "execution_count": 10,
     "metadata": {},
     "output_type": "execute_result"
    }
   ],
   "source": [
    "loc"
   ]
  },
  {
   "cell_type": "code",
   "execution_count": 11,
   "metadata": {},
   "outputs": [
    {
     "data": {
      "text/plain": [
       "'&sort=price_asc&by_paying_member=0'"
      ]
     },
     "execution_count": 11,
     "metadata": {},
     "output_type": "execute_result"
    }
   ],
   "source": [
    "sort"
   ]
  },
  {
   "cell_type": "code",
   "execution_count": 12,
   "metadata": {},
   "outputs": [
    {
     "data": {
      "text/plain": [
       "'mobile'"
      ]
     },
     "execution_count": 12,
     "metadata": {},
     "output_type": "execute_result"
    }
   ],
   "source": [
    "item"
   ]
  },
  {
   "cell_type": "code",
   "execution_count": 13,
   "metadata": {},
   "outputs": [
    {
     "data": {
      "text/plain": [
       "'https://bikroy.com/en/ads/dhaka?query=mobile&sort=&sort=price_asc&by_paying_member=0'"
      ]
     },
     "execution_count": 13,
     "metadata": {},
     "output_type": "execute_result"
    }
   ],
   "source": [
    "link_init"
   ]
  },
  {
   "cell_type": "code",
   "execution_count": 14,
   "metadata": {
    "collapsed": true
   },
   "outputs": [],
   "source": [
    "def get_max_page(link):\n",
    "    print(\"Please enter the maximum number of pages available in the following link: \\n\" + link + \"\\n\")\n",
    "    max_page = int(input(\"Maximum page number: \"))\n",
    "    return (max_page)"
   ]
  },
  {
   "cell_type": "code",
   "execution_count": 15,
   "metadata": {},
   "outputs": [
    {
     "name": "stdout",
     "output_type": "stream",
     "text": [
      "Please enter the maximum number of pages available in the following link: \n",
      "https://bikroy.com/en/ads/dhaka?query=mobile&sort=&sort=price_asc&by_paying_member=0\n",
      "\n",
      "Maximum page number: 5\n"
     ]
    },
    {
     "data": {
      "text/plain": [
       "5"
      ]
     },
     "execution_count": 15,
     "metadata": {},
     "output_type": "execute_result"
    }
   ],
   "source": [
    "get_max_page(link_init)"
   ]
  },
  {
   "cell_type": "code",
   "execution_count": 16,
   "metadata": {},
   "outputs": [
    {
     "name": "stdout",
     "output_type": "stream",
     "text": [
      "Please enter the maximum number of pages available in the following link: \n",
      "https://bikroy.com/en/ads/dhaka?query=mobile&sort=&sort=price_asc&by_paying_member=0\n",
      "\n",
      "Maximum page number: 5\n"
     ]
    }
   ],
   "source": [
    "max_page = get_max_page(link_init)"
   ]
  },
  {
   "cell_type": "code",
   "execution_count": 19,
   "metadata": {},
   "outputs": [
    {
     "name": "stderr",
     "output_type": "stream",
     "text": [
      "/home/scarlet/anaconda3/envs/my_env/lib/python3.6/site-packages/urllib3/connectionpool.py:852: InsecureRequestWarning: Unverified HTTPS request is being made. Adding certificate verification is strongly advised. See: https://urllib3.readthedocs.io/en/latest/advanced-usage.html#ssl-warnings\n",
      "  InsecureRequestWarning)\n"
     ]
    },
    {
     "name": "stdout",
     "output_type": "stream",
     "text": [
      "Item:  Smart Watch Mobile DZ09\n",
      "Location:  Dhaka\n",
      "Posted On:  03 Aug 11:12 am\n",
      "Category:  Mobile Phone Accessories\n",
      "Price:  Tk 1,100\n",
      "Link: https://bikroy.com/en/ad/smart-watch-mobile-dz09-for-sale-dhaka-23\n",
      "\n",
      "Item:  All Kinds Of Mobile Servicing\n",
      "Location:  Dhaka\n",
      "Posted On:  09 Aug 10:53 am\n",
      "Category:  Business & Technical Services\n",
      "Price:  \n",
      "Link: https://bikroy.com/en/ad/all-kinds-of-mobile-servicing-for-sale-dhaka\n",
      "\n",
      "Item:  Symphony V-80 Original\n",
      "Location:  Dhaka\n",
      "Posted On:  , \n",
      "Category:  Mobile Phones\n",
      "Price:  Tk 4,000\n",
      "Link: https://bikroy.com/en/ad/symphony-v-80-original-for-sale-dhaka-163\n",
      "\n",
      "Item:  Smart Watch Mobile - 47% OFF\n",
      "Location:  Dhaka\n",
      "Posted On:  MEMBER\n",
      "Category:  Mobile Phone Accessories\n",
      "Price:  Tk 800\n",
      "Link: https://bikroy.com/en/ad/smart-watch-mobile-47-percent-off-for-sale-dhaka\n",
      "\n",
      "Item:  Nokia Rm980 Original\n",
      "Location:  Dhaka\n",
      "Posted On:  , \n",
      "Category:  Mobile Phones\n",
      "Price:  Tk 5,000\n",
      "Link: https://bikroy.com/en/ad/nokia-rm980-original-for-sale-dhaka-6\n",
      "\n",
      "Item:  Samsung Galaxy j7 prime Original\n",
      "Location:  Dhaka\n",
      "Posted On:  , \n",
      "Category:  Mobile Phones\n",
      "Price:  Tk 16,999\n",
      "Link: https://bikroy.com/en/ad/samsung-galaxy-j7-prime-original-for-sale-dhaka-590\n",
      "\n",
      "Item:  Walton Gh6 Original\n",
      "Location:  Dhaka\n",
      "Posted On:  , \n",
      "Category:  Mobile Phones\n",
      "Price:  Tk 4,400\n",
      "Link: https://bikroy.com/en/ad/walton-gh6-original-for-sale-dhaka-664\n",
      "\n",
      "Item:  Walton R4+ Original\n",
      "Location:  Dhaka\n",
      "Posted On:  , \n",
      "Category:  Mobile Phones\n",
      "Price:  Tk 6,800\n",
      "Link: https://bikroy.com/en/ad/walton-r4-original-for-sale-dhaka-409\n",
      "\n",
      "Item:  Symphony V80 Original\n",
      "Location:  Dhaka\n",
      "Posted On:  , \n",
      "Category:  Mobile Phones\n",
      "Price:  Tk 4,000\n",
      "Link: https://bikroy.com/en/ad/symphony-v80-original-for-sale-dhaka-2648\n",
      "\n",
      "Item:  Walton R4+ Original\n",
      "Location:  Dhaka\n",
      "Posted On:  , \n",
      "Category:  Mobile Phones\n",
      "Price:  Tk 6,500\n",
      "Link: https://bikroy.com/en/ad/walton-r4-original-for-sale-dhaka-408\n",
      "\n",
      "Item:  OPPO F1S (3/32GB) Original\n",
      "Location:  Dhaka\n",
      "Posted On:  Today  3:34 pm\n",
      "Category:  Mobile Phones\n",
      "Price:  Tk 16,500\n",
      "Link: https://bikroy.com/en/ad/oppo-f1s-3-32gb-original-for-sale-dhaka-22\n",
      "\n",
      "Item:  Samsung grand prime Original\n",
      "Location:  Dhaka\n",
      "Posted On:  , \n",
      "Category:  Mobile Phones\n",
      "Price:  Tk 5,500\n",
      "Link: https://bikroy.com/en/ad/samsung-grand-prime-original-for-sale-dhaka-10172\n",
      "\n",
      "Item:  Smart Watch Mobile\n",
      "Location:  Dhaka\n",
      "Posted On:  Today  2:26 pm\n",
      "Category:  Mobile Phone Accessories\n",
      "Price:  Tk 1,890\n",
      "Link: https://bikroy.com/en/ad/smart-watch-mobile-for-sale-dhaka-145\n",
      "\n",
      "Item:  Mobile Phone Network Jammer\n",
      "Location:  Dhaka\n",
      "Posted On:  , \n",
      "Category:  Mobile Phone Accessories\n",
      "Price:  Tk 7,200\n",
      "Link: https://bikroy.com/en/ad/mobile-phone-network-jammer-for-sale-dhaka-48\n",
      "\n",
      "Item:  USB Mobile Projector\n",
      "Location:  Dhaka\n",
      "Posted On:  , \n",
      "Category:  Mobile Phone Accessories\n",
      "Price:  Tk 4,899\n",
      "Link: https://bikroy.com/en/ad/usb-mobile-projector-for-sale-dhaka\n",
      "\n",
      "Item:  Xiaomi Mi redmi 4a 2gb Original\n",
      "Location:  Dhaka\n",
      "Posted On:  , \n",
      "Category:  Mobile Phones\n",
      "Price:  Tk 7,000\n",
      "Link: https://bikroy.com/en/ad/xiaomi-mi-redmi-4a-2gb-original-for-sale-dhaka\n",
      "\n",
      "Item:  Nokia 108 Original\n",
      "Location:  Dhaka\n",
      "Posted On:  , \n",
      "Category:  Mobile Phones\n",
      "Price:  Tk 1,100\n",
      "Link: https://bikroy.com/en/ad/nokia-108-original-for-sale-dhaka-776\n",
      "\n",
      "Item:  Sony x-bo 06 Original\n",
      "Location:  Dhaka\n",
      "Posted On:  , \n",
      "Category:  Mobile Phones\n",
      "Price:  Tk 2,999\n",
      "Link: https://bikroy.com/en/ad/sony-x-bo-06-original-for-sale-dhaka-9\n",
      "\n",
      "Item:  Walton Primo GF5 Original\n",
      "Location:  Dhaka\n",
      "Posted On:  , \n",
      "Category:  Mobile Phones\n",
      "Price:  Tk 5,000\n",
      "Link: https://bikroy.com/en/ad/walton-primo-gf5-original-for-sale-dhaka-67\n",
      "\n",
      "Item:  Samsung j7 2016 gold Original\n",
      "Location:  Dhaka\n",
      "Posted On:  , \n",
      "Category:  Mobile Phones\n",
      "Price:  Tk 11,999\n",
      "Link: https://bikroy.com/en/ad/samsung-j7-2016-gold-original-for-sale-dhaka-50\n",
      "\n",
      "Item:  Selfie পানির নিচে-Touch mobile bag ২টি\n",
      "Location:  Dhaka\n",
      "Posted On:  , \n",
      "Category:  Mobile Phone Accessories\n",
      "Price:  Tk 490\n",
      "Link: https://bikroy.com/en/ad/selfie-paanir-nice-touch-mobile-bag-2tti-for-sale-dhaka\n",
      "\n",
      "Item:  Xiaomi MI note 4 Original\n",
      "Location:  Dhaka\n",
      "Posted On:  , \n",
      "Category:  Mobile Phones\n",
      "Price:  Tk 12,500\n",
      "Link: https://bikroy.com/en/ad/xiaomi-mi-note-4-original-for-sale-dhaka-205\n",
      "\n",
      "Item:  Symphony ZVI Original\n",
      "Location:  Dhaka\n",
      "Posted On:  , \n",
      "Category:  Mobile Phones\n",
      "Price:  Tk 4,500\n",
      "Link: https://bikroy.com/en/ad/symphony-zvi-original-for-sale-dhaka-1833\n",
      "\n",
      "Item:  Amerian W90+ Gear Watch Mobile 1sim New\n",
      "Location:  Dhaka\n",
      "Posted On:  24 Jul  1:59 pm\n",
      "Category:  Mobile Phone Accessories\n",
      "Price:  Tk 2,200\n",
      "Link: https://bikroy.com/en/ad/amerian-w90-gear-watch-mobile-1sim-new-for-sale-dhaka\n",
      "\n",
      "Item:  Walton H5 Original\n",
      "Location:  Dhaka\n",
      "Posted On:  , \n",
      "Category:  Mobile Phones\n",
      "Price:  Tk 4,500\n",
      "Link: https://bikroy.com/en/ad/walton-h5-original-for-sale-dhaka-124\n",
      "\n",
      "Item:  VR SHINECON 4D BLACK\n",
      "Location:  Dhaka\n",
      "Posted On:  , \n",
      "Category:  Mobile Phone Accessories\n",
      "Price:  Tk 399\n",
      "Link: https://bikroy.com/en/ad/vr-shinecon-4d-black-for-sale-dhaka\n",
      "\n",
      "Item:  Samsung SM-B310E Original\n",
      "Location:  Dhaka\n",
      "Posted On:  , \n",
      "Category:  Mobile Phones\n",
      "Price:  Tk 1,250\n",
      "Link: https://bikroy.com/en/ad/samsung-sm-b310e-original-for-sale-dhaka-123\n",
      "\n"
     ]
    },
    {
     "name": "stderr",
     "output_type": "stream",
     "text": [
      "/home/scarlet/anaconda3/envs/my_env/lib/python3.6/site-packages/urllib3/connectionpool.py:852: InsecureRequestWarning: Unverified HTTPS request is being made. Adding certificate verification is strongly advised. See: https://urllib3.readthedocs.io/en/latest/advanced-usage.html#ssl-warnings\n",
      "  InsecureRequestWarning)\n"
     ]
    },
    {
     "name": "stdout",
     "output_type": "stream",
     "text": [
      "Item:  Smart Watch Mobile DZ09\n",
      "Location:  Dhaka\n",
      "Posted On:  03 Aug 11:12 am\n",
      "Category:  Mobile Phone Accessories\n",
      "Price:  Tk 1,100\n",
      "Link: https://bikroy.com/en/ad/smart-watch-mobile-dz09-for-sale-dhaka-23\n",
      "\n",
      "Item:  Smart Watch Mobile DZ09\n",
      "Location:  Dhaka\n",
      "Posted On:  , \n",
      "Category:  Mobile Phone Accessories\n",
      "Price:  Tk 1,100\n",
      "Link: https://bikroy.com/en/ad/smart-watch-mobile-dz09-for-sale-dhaka-24\n",
      "\n",
      "Item:  Symphony B9 Original\n",
      "Location:  Dhaka\n",
      "Posted On:  , \n",
      "Category:  Mobile Phones\n",
      "Price:  Tk 350\n",
      "Link: https://bikroy.com/en/ad/symphony-b9-original-for-sale-dhaka-204\n",
      "\n",
      "Item:  LG gflex Original\n",
      "Location:  Dhaka\n",
      "Posted On:  , \n",
      "Category:  Mobile Phones\n",
      "Price:  Tk 27,000\n",
      "Link: https://bikroy.com/en/ad/lg-gflex-original-for-sale-dhaka\n",
      "\n"
     ]
    },
    {
     "ename": "AttributeError",
     "evalue": "'NoneType' object has no attribute 'get'",
     "output_type": "error",
     "traceback": [
      "\u001b[0;31m---------------------------------------------------------------------------\u001b[0m",
      "\u001b[0;31mAttributeError\u001b[0m                            Traceback (most recent call last)",
      "\u001b[0;32m<ipython-input-19-2f0459eb2f55>\u001b[0m in \u001b[0;36m<module>\u001b[0;34m()\u001b[0m\n\u001b[1;32m      7\u001b[0m \u001b[0;34m\u001b[0m\u001b[0m\n\u001b[1;32m      8\u001b[0m     \u001b[0;32mfor\u001b[0m \u001b[0mitem\u001b[0m \u001b[0;32min\u001b[0m \u001b[0mall_divs\u001b[0m\u001b[0;34m:\u001b[0m\u001b[0;34m\u001b[0m\u001b[0m\n\u001b[0;32m----> 9\u001b[0;31m         \u001b[0mItem\u001b[0m \u001b[0;34m=\u001b[0m \u001b[0;34m(\u001b[0m\u001b[0mitem\u001b[0m\u001b[0;34m.\u001b[0m\u001b[0mfind\u001b[0m\u001b[0;34m(\u001b[0m\u001b[0;34m'img'\u001b[0m\u001b[0;34m)\u001b[0m\u001b[0;34m.\u001b[0m\u001b[0mget\u001b[0m\u001b[0;34m(\u001b[0m\u001b[0;34m'title'\u001b[0m\u001b[0;34m)\u001b[0m\u001b[0;34m)\u001b[0m\u001b[0;34m\u001b[0m\u001b[0m\n\u001b[0m\u001b[1;32m     10\u001b[0m         \u001b[0mprint\u001b[0m\u001b[0;34m(\u001b[0m\u001b[0;34m\"Item: \"\u001b[0m\u001b[0;34m,\u001b[0m \u001b[0mItem\u001b[0m\u001b[0;34m)\u001b[0m\u001b[0;34m\u001b[0m\u001b[0m\n\u001b[1;32m     11\u001b[0m \u001b[0;34m\u001b[0m\u001b[0m\n",
      "\u001b[0;31mAttributeError\u001b[0m: 'NoneType' object has no attribute 'get'"
     ]
    }
   ],
   "source": [
    "list_items = [[\"Item\", 'Location', 'Posted On', 'Category', 'Price', 'Link'],]\n",
    "\n",
    "for l in range(2, max_page + 1):\n",
    "    bikroy = soupified_request(link_init + \"&page=\" + str(l))\n",
    "    \n",
    "    all_divs = bikroy.findAll(\"div\", { \"class\" : \"ui-item\" })\n",
    "    \n",
    "    for item in all_divs:\n",
    "        Item = (item.find('img').get('title'))\n",
    "        print(\"Item: \", Item)\n",
    "        \n",
    "        Location = item.find('span', {'class': 'item-area'}).text\n",
    "        print(\"Location: \", Location)\n",
    "        \n",
    "        Post_Date = item.findAll('span')[1].text\n",
    "        print(\"Posted On: \", Post_Date)\n",
    "        \n",
    "        Category = item.find('span', {'class': 'item-cat'}).text\n",
    "        print(\"Category: \", Category)\n",
    "        \n",
    "        Price = item.find('p', {'class': 'item-info'}).text\n",
    "        print(\"Price: \", Price)\n",
    "        \n",
    "        Link = 'https://bikroy.com'+ item.find('a')['href']\n",
    "        print(\"Link: \" + Link, end='\\n\\n')\n",
    "        \n",
    "        list_items.append([Item, Location, Post_Date, Category, Price, Link])\n",
    "        \n",
    "    wait()\n",
    "        \n",
    "    "
   ]
  },
  {
   "cell_type": "code",
   "execution_count": 20,
   "metadata": {},
   "outputs": [
    {
     "data": {
      "text/plain": [
       "[['Item', 'Location', 'Posted On', 'Category', 'Price', 'Link'],\n",
       " ['Smart Watch Mobile DZ09',\n",
       "  'Dhaka',\n",
       "  '03 Aug 11:12 am',\n",
       "  'Mobile Phone Accessories',\n",
       "  'Tk 1,100',\n",
       "  'https://bikroy.com/en/ad/smart-watch-mobile-dz09-for-sale-dhaka-23'],\n",
       " ['All Kinds Of Mobile Servicing',\n",
       "  'Dhaka',\n",
       "  '09 Aug 10:53 am',\n",
       "  'Business & Technical Services',\n",
       "  '',\n",
       "  'https://bikroy.com/en/ad/all-kinds-of-mobile-servicing-for-sale-dhaka'],\n",
       " ['Symphony V-80 Original',\n",
       "  'Dhaka',\n",
       "  ', ',\n",
       "  'Mobile Phones',\n",
       "  'Tk 4,000',\n",
       "  'https://bikroy.com/en/ad/symphony-v-80-original-for-sale-dhaka-163'],\n",
       " ['Smart Watch Mobile - 47% OFF',\n",
       "  'Dhaka',\n",
       "  'MEMBER',\n",
       "  'Mobile Phone Accessories',\n",
       "  'Tk 800',\n",
       "  'https://bikroy.com/en/ad/smart-watch-mobile-47-percent-off-for-sale-dhaka'],\n",
       " ['Nokia Rm980 Original',\n",
       "  'Dhaka',\n",
       "  ', ',\n",
       "  'Mobile Phones',\n",
       "  'Tk 5,000',\n",
       "  'https://bikroy.com/en/ad/nokia-rm980-original-for-sale-dhaka-6'],\n",
       " ['Samsung Galaxy j7 prime Original',\n",
       "  'Dhaka',\n",
       "  ', ',\n",
       "  'Mobile Phones',\n",
       "  'Tk 16,999',\n",
       "  'https://bikroy.com/en/ad/samsung-galaxy-j7-prime-original-for-sale-dhaka-590'],\n",
       " ['Walton Gh6 Original',\n",
       "  'Dhaka',\n",
       "  ', ',\n",
       "  'Mobile Phones',\n",
       "  'Tk 4,400',\n",
       "  'https://bikroy.com/en/ad/walton-gh6-original-for-sale-dhaka-664'],\n",
       " ['Walton R4+ Original',\n",
       "  'Dhaka',\n",
       "  ', ',\n",
       "  'Mobile Phones',\n",
       "  'Tk 6,800',\n",
       "  'https://bikroy.com/en/ad/walton-r4-original-for-sale-dhaka-409'],\n",
       " ['Symphony V80 Original',\n",
       "  'Dhaka',\n",
       "  ', ',\n",
       "  'Mobile Phones',\n",
       "  'Tk 4,000',\n",
       "  'https://bikroy.com/en/ad/symphony-v80-original-for-sale-dhaka-2648'],\n",
       " ['Walton R4+ Original',\n",
       "  'Dhaka',\n",
       "  ', ',\n",
       "  'Mobile Phones',\n",
       "  'Tk 6,500',\n",
       "  'https://bikroy.com/en/ad/walton-r4-original-for-sale-dhaka-408'],\n",
       " ['OPPO F1S (3/32GB) Original',\n",
       "  'Dhaka',\n",
       "  'Today  3:34 pm',\n",
       "  'Mobile Phones',\n",
       "  'Tk 16,500',\n",
       "  'https://bikroy.com/en/ad/oppo-f1s-3-32gb-original-for-sale-dhaka-22'],\n",
       " ['Samsung grand prime Original',\n",
       "  'Dhaka',\n",
       "  ', ',\n",
       "  'Mobile Phones',\n",
       "  'Tk 5,500',\n",
       "  'https://bikroy.com/en/ad/samsung-grand-prime-original-for-sale-dhaka-10172'],\n",
       " ['Smart Watch Mobile',\n",
       "  'Dhaka',\n",
       "  'Today  2:26 pm',\n",
       "  'Mobile Phone Accessories',\n",
       "  'Tk 1,890',\n",
       "  'https://bikroy.com/en/ad/smart-watch-mobile-for-sale-dhaka-145'],\n",
       " ['Mobile Phone Network Jammer',\n",
       "  'Dhaka',\n",
       "  ', ',\n",
       "  'Mobile Phone Accessories',\n",
       "  'Tk 7,200',\n",
       "  'https://bikroy.com/en/ad/mobile-phone-network-jammer-for-sale-dhaka-48'],\n",
       " ['USB Mobile Projector',\n",
       "  'Dhaka',\n",
       "  ', ',\n",
       "  'Mobile Phone Accessories',\n",
       "  'Tk 4,899',\n",
       "  'https://bikroy.com/en/ad/usb-mobile-projector-for-sale-dhaka'],\n",
       " ['Xiaomi Mi redmi 4a 2gb Original',\n",
       "  'Dhaka',\n",
       "  ', ',\n",
       "  'Mobile Phones',\n",
       "  'Tk 7,000',\n",
       "  'https://bikroy.com/en/ad/xiaomi-mi-redmi-4a-2gb-original-for-sale-dhaka'],\n",
       " ['Nokia 108 Original',\n",
       "  'Dhaka',\n",
       "  ', ',\n",
       "  'Mobile Phones',\n",
       "  'Tk 1,100',\n",
       "  'https://bikroy.com/en/ad/nokia-108-original-for-sale-dhaka-776'],\n",
       " ['Sony x-bo 06 Original',\n",
       "  'Dhaka',\n",
       "  ', ',\n",
       "  'Mobile Phones',\n",
       "  'Tk 2,999',\n",
       "  'https://bikroy.com/en/ad/sony-x-bo-06-original-for-sale-dhaka-9'],\n",
       " ['Walton Primo GF5 Original',\n",
       "  'Dhaka',\n",
       "  ', ',\n",
       "  'Mobile Phones',\n",
       "  'Tk 5,000',\n",
       "  'https://bikroy.com/en/ad/walton-primo-gf5-original-for-sale-dhaka-67'],\n",
       " ['Samsung j7 2016 gold Original',\n",
       "  'Dhaka',\n",
       "  ', ',\n",
       "  'Mobile Phones',\n",
       "  'Tk 11,999',\n",
       "  'https://bikroy.com/en/ad/samsung-j7-2016-gold-original-for-sale-dhaka-50'],\n",
       " ['Selfie পানির নিচে-Touch mobile bag ২টি',\n",
       "  'Dhaka',\n",
       "  ', ',\n",
       "  'Mobile Phone Accessories',\n",
       "  'Tk 490',\n",
       "  'https://bikroy.com/en/ad/selfie-paanir-nice-touch-mobile-bag-2tti-for-sale-dhaka'],\n",
       " ['Xiaomi MI note 4 Original',\n",
       "  'Dhaka',\n",
       "  ', ',\n",
       "  'Mobile Phones',\n",
       "  'Tk 12,500',\n",
       "  'https://bikroy.com/en/ad/xiaomi-mi-note-4-original-for-sale-dhaka-205'],\n",
       " ['Symphony ZVI Original',\n",
       "  'Dhaka',\n",
       "  ', ',\n",
       "  'Mobile Phones',\n",
       "  'Tk 4,500',\n",
       "  'https://bikroy.com/en/ad/symphony-zvi-original-for-sale-dhaka-1833'],\n",
       " ['Amerian W90+ Gear Watch Mobile 1sim New',\n",
       "  'Dhaka',\n",
       "  '24 Jul  1:59 pm',\n",
       "  'Mobile Phone Accessories',\n",
       "  'Tk 2,200',\n",
       "  'https://bikroy.com/en/ad/amerian-w90-gear-watch-mobile-1sim-new-for-sale-dhaka'],\n",
       " ['Walton H5 Original',\n",
       "  'Dhaka',\n",
       "  ', ',\n",
       "  'Mobile Phones',\n",
       "  'Tk 4,500',\n",
       "  'https://bikroy.com/en/ad/walton-h5-original-for-sale-dhaka-124'],\n",
       " ['VR SHINECON 4D BLACK',\n",
       "  'Dhaka',\n",
       "  ', ',\n",
       "  'Mobile Phone Accessories',\n",
       "  'Tk 399',\n",
       "  'https://bikroy.com/en/ad/vr-shinecon-4d-black-for-sale-dhaka'],\n",
       " ['Samsung SM-B310E Original',\n",
       "  'Dhaka',\n",
       "  ', ',\n",
       "  'Mobile Phones',\n",
       "  'Tk 1,250',\n",
       "  'https://bikroy.com/en/ad/samsung-sm-b310e-original-for-sale-dhaka-123'],\n",
       " ['Smart Watch Mobile DZ09',\n",
       "  'Dhaka',\n",
       "  '03 Aug 11:12 am',\n",
       "  'Mobile Phone Accessories',\n",
       "  'Tk 1,100',\n",
       "  'https://bikroy.com/en/ad/smart-watch-mobile-dz09-for-sale-dhaka-23'],\n",
       " ['Smart Watch Mobile DZ09',\n",
       "  'Dhaka',\n",
       "  ', ',\n",
       "  'Mobile Phone Accessories',\n",
       "  'Tk 1,100',\n",
       "  'https://bikroy.com/en/ad/smart-watch-mobile-dz09-for-sale-dhaka-24'],\n",
       " ['Symphony B9 Original',\n",
       "  'Dhaka',\n",
       "  ', ',\n",
       "  'Mobile Phones',\n",
       "  'Tk 350',\n",
       "  'https://bikroy.com/en/ad/symphony-b9-original-for-sale-dhaka-204'],\n",
       " ['LG gflex Original',\n",
       "  'Dhaka',\n",
       "  ', ',\n",
       "  'Mobile Phones',\n",
       "  'Tk 27,000',\n",
       "  'https://bikroy.com/en/ad/lg-gflex-original-for-sale-dhaka']]"
      ]
     },
     "execution_count": 20,
     "metadata": {},
     "output_type": "execute_result"
    }
   ],
   "source": [
    "list_items"
   ]
  },
  {
   "cell_type": "code",
   "execution_count": null,
   "metadata": {
    "collapsed": true
   },
   "outputs": [],
   "source": []
  },
  {
   "cell_type": "code",
   "execution_count": 21,
   "metadata": {
    "collapsed": true
   },
   "outputs": [],
   "source": [
    "import plotly.plotly as py"
   ]
  },
  {
   "cell_type": "code",
   "execution_count": 24,
   "metadata": {},
   "outputs": [],
   "source": [
    "import plotly\n",
    "\n",
    "plotly.tools.set_credentials_file(username='ScarletMcLearn', api_key='llXQrno28hJ0j4rrjSqS')\n"
   ]
  },
  {
   "cell_type": "code",
   "execution_count": 25,
   "metadata": {},
   "outputs": [
    {
     "data": {
      "text/html": [
       "<iframe id=\"igraph\" scrolling=\"no\" style=\"border:none;\" seamless=\"seamless\" src=\"https://plot.ly/~ScarletMcLearn/4.embed\" height=\"1010px\" width=\"100%\"></iframe>"
      ],
      "text/plain": [
       "<plotly.tools.PlotlyDisplay object>"
      ]
     },
     "execution_count": 25,
     "metadata": {},
     "output_type": "execute_result"
    }
   ],
   "source": [
    "import plotly.plotly as py\n",
    "\n",
    "# plotly.tools.set_credentials_file(username='DemoAccount', api_key='lr1c37zw81')\n",
    "\n",
    "import plotly.figure_factory as ff\n",
    "\n",
    "data_matrix = list_items\n",
    "\n",
    "table = ff.create_table(data_matrix)\n",
    "py.iplot(table, filename='simple_table')"
   ]
  },
  {
   "cell_type": "code",
   "execution_count": 39,
   "metadata": {},
   "outputs": [],
   "source": [
    "fh = open('Bikroy List.csv', 'w')\n",
    "\n",
    "for ele in list_items:\n",
    "    fh.write(str(ele))\n",
    "    fh.write('\\n')\n",
    "# fh.write(str(list_items)) \n",
    "fh.close()"
   ]
  },
  {
   "cell_type": "code",
   "execution_count": 35,
   "metadata": {},
   "outputs": [],
   "source": [
    "# outF = open(\"myOutFile.txt\", \"w\")\n",
    "# for line in list_items:\n",
    "#     outF.write(str(line))\n",
    "#     outF.write(\"\\n\")\n",
    "# outF.close()"
   ]
  },
  {
   "cell_type": "code",
   "execution_count": 27,
   "metadata": {},
   "outputs": [
    {
     "data": {
      "text/plain": [
       "[['Item', 'Location', 'Posted On', 'Category', 'Price', 'Link'],\n",
       " ['Smart Watch Mobile DZ09',\n",
       "  'Dhaka',\n",
       "  '03 Aug 11:12 am',\n",
       "  'Mobile Phone Accessories',\n",
       "  'Tk 1,100',\n",
       "  'https://bikroy.com/en/ad/smart-watch-mobile-dz09-for-sale-dhaka-23'],\n",
       " ['All Kinds Of Mobile Servicing',\n",
       "  'Dhaka',\n",
       "  '09 Aug 10:53 am',\n",
       "  'Business & Technical Services',\n",
       "  '',\n",
       "  'https://bikroy.com/en/ad/all-kinds-of-mobile-servicing-for-sale-dhaka'],\n",
       " ['Symphony V-80 Original',\n",
       "  'Dhaka',\n",
       "  ', ',\n",
       "  'Mobile Phones',\n",
       "  'Tk 4,000',\n",
       "  'https://bikroy.com/en/ad/symphony-v-80-original-for-sale-dhaka-163'],\n",
       " ['Smart Watch Mobile - 47% OFF',\n",
       "  'Dhaka',\n",
       "  'MEMBER',\n",
       "  'Mobile Phone Accessories',\n",
       "  'Tk 800',\n",
       "  'https://bikroy.com/en/ad/smart-watch-mobile-47-percent-off-for-sale-dhaka'],\n",
       " ['Nokia Rm980 Original',\n",
       "  'Dhaka',\n",
       "  ', ',\n",
       "  'Mobile Phones',\n",
       "  'Tk 5,000',\n",
       "  'https://bikroy.com/en/ad/nokia-rm980-original-for-sale-dhaka-6'],\n",
       " ['Samsung Galaxy j7 prime Original',\n",
       "  'Dhaka',\n",
       "  ', ',\n",
       "  'Mobile Phones',\n",
       "  'Tk 16,999',\n",
       "  'https://bikroy.com/en/ad/samsung-galaxy-j7-prime-original-for-sale-dhaka-590'],\n",
       " ['Walton Gh6 Original',\n",
       "  'Dhaka',\n",
       "  ', ',\n",
       "  'Mobile Phones',\n",
       "  'Tk 4,400',\n",
       "  'https://bikroy.com/en/ad/walton-gh6-original-for-sale-dhaka-664'],\n",
       " ['Walton R4+ Original',\n",
       "  'Dhaka',\n",
       "  ', ',\n",
       "  'Mobile Phones',\n",
       "  'Tk 6,800',\n",
       "  'https://bikroy.com/en/ad/walton-r4-original-for-sale-dhaka-409'],\n",
       " ['Symphony V80 Original',\n",
       "  'Dhaka',\n",
       "  ', ',\n",
       "  'Mobile Phones',\n",
       "  'Tk 4,000',\n",
       "  'https://bikroy.com/en/ad/symphony-v80-original-for-sale-dhaka-2648'],\n",
       " ['Walton R4+ Original',\n",
       "  'Dhaka',\n",
       "  ', ',\n",
       "  'Mobile Phones',\n",
       "  'Tk 6,500',\n",
       "  'https://bikroy.com/en/ad/walton-r4-original-for-sale-dhaka-408'],\n",
       " ['OPPO F1S (3/32GB) Original',\n",
       "  'Dhaka',\n",
       "  'Today  3:34 pm',\n",
       "  'Mobile Phones',\n",
       "  'Tk 16,500',\n",
       "  'https://bikroy.com/en/ad/oppo-f1s-3-32gb-original-for-sale-dhaka-22'],\n",
       " ['Samsung grand prime Original',\n",
       "  'Dhaka',\n",
       "  ', ',\n",
       "  'Mobile Phones',\n",
       "  'Tk 5,500',\n",
       "  'https://bikroy.com/en/ad/samsung-grand-prime-original-for-sale-dhaka-10172'],\n",
       " ['Smart Watch Mobile',\n",
       "  'Dhaka',\n",
       "  'Today  2:26 pm',\n",
       "  'Mobile Phone Accessories',\n",
       "  'Tk 1,890',\n",
       "  'https://bikroy.com/en/ad/smart-watch-mobile-for-sale-dhaka-145'],\n",
       " ['Mobile Phone Network Jammer',\n",
       "  'Dhaka',\n",
       "  ', ',\n",
       "  'Mobile Phone Accessories',\n",
       "  'Tk 7,200',\n",
       "  'https://bikroy.com/en/ad/mobile-phone-network-jammer-for-sale-dhaka-48'],\n",
       " ['USB Mobile Projector',\n",
       "  'Dhaka',\n",
       "  ', ',\n",
       "  'Mobile Phone Accessories',\n",
       "  'Tk 4,899',\n",
       "  'https://bikroy.com/en/ad/usb-mobile-projector-for-sale-dhaka'],\n",
       " ['Xiaomi Mi redmi 4a 2gb Original',\n",
       "  'Dhaka',\n",
       "  ', ',\n",
       "  'Mobile Phones',\n",
       "  'Tk 7,000',\n",
       "  'https://bikroy.com/en/ad/xiaomi-mi-redmi-4a-2gb-original-for-sale-dhaka'],\n",
       " ['Nokia 108 Original',\n",
       "  'Dhaka',\n",
       "  ', ',\n",
       "  'Mobile Phones',\n",
       "  'Tk 1,100',\n",
       "  'https://bikroy.com/en/ad/nokia-108-original-for-sale-dhaka-776'],\n",
       " ['Sony x-bo 06 Original',\n",
       "  'Dhaka',\n",
       "  ', ',\n",
       "  'Mobile Phones',\n",
       "  'Tk 2,999',\n",
       "  'https://bikroy.com/en/ad/sony-x-bo-06-original-for-sale-dhaka-9'],\n",
       " ['Walton Primo GF5 Original',\n",
       "  'Dhaka',\n",
       "  ', ',\n",
       "  'Mobile Phones',\n",
       "  'Tk 5,000',\n",
       "  'https://bikroy.com/en/ad/walton-primo-gf5-original-for-sale-dhaka-67'],\n",
       " ['Samsung j7 2016 gold Original',\n",
       "  'Dhaka',\n",
       "  ', ',\n",
       "  'Mobile Phones',\n",
       "  'Tk 11,999',\n",
       "  'https://bikroy.com/en/ad/samsung-j7-2016-gold-original-for-sale-dhaka-50'],\n",
       " ['Selfie পানির নিচে-Touch mobile bag ২টি',\n",
       "  'Dhaka',\n",
       "  ', ',\n",
       "  'Mobile Phone Accessories',\n",
       "  'Tk 490',\n",
       "  'https://bikroy.com/en/ad/selfie-paanir-nice-touch-mobile-bag-2tti-for-sale-dhaka'],\n",
       " ['Xiaomi MI note 4 Original',\n",
       "  'Dhaka',\n",
       "  ', ',\n",
       "  'Mobile Phones',\n",
       "  'Tk 12,500',\n",
       "  'https://bikroy.com/en/ad/xiaomi-mi-note-4-original-for-sale-dhaka-205'],\n",
       " ['Symphony ZVI Original',\n",
       "  'Dhaka',\n",
       "  ', ',\n",
       "  'Mobile Phones',\n",
       "  'Tk 4,500',\n",
       "  'https://bikroy.com/en/ad/symphony-zvi-original-for-sale-dhaka-1833'],\n",
       " ['Amerian W90+ Gear Watch Mobile 1sim New',\n",
       "  'Dhaka',\n",
       "  '24 Jul  1:59 pm',\n",
       "  'Mobile Phone Accessories',\n",
       "  'Tk 2,200',\n",
       "  'https://bikroy.com/en/ad/amerian-w90-gear-watch-mobile-1sim-new-for-sale-dhaka'],\n",
       " ['Walton H5 Original',\n",
       "  'Dhaka',\n",
       "  ', ',\n",
       "  'Mobile Phones',\n",
       "  'Tk 4,500',\n",
       "  'https://bikroy.com/en/ad/walton-h5-original-for-sale-dhaka-124'],\n",
       " ['VR SHINECON 4D BLACK',\n",
       "  'Dhaka',\n",
       "  ', ',\n",
       "  'Mobile Phone Accessories',\n",
       "  'Tk 399',\n",
       "  'https://bikroy.com/en/ad/vr-shinecon-4d-black-for-sale-dhaka'],\n",
       " ['Samsung SM-B310E Original',\n",
       "  'Dhaka',\n",
       "  ', ',\n",
       "  'Mobile Phones',\n",
       "  'Tk 1,250',\n",
       "  'https://bikroy.com/en/ad/samsung-sm-b310e-original-for-sale-dhaka-123'],\n",
       " ['Smart Watch Mobile DZ09',\n",
       "  'Dhaka',\n",
       "  '03 Aug 11:12 am',\n",
       "  'Mobile Phone Accessories',\n",
       "  'Tk 1,100',\n",
       "  'https://bikroy.com/en/ad/smart-watch-mobile-dz09-for-sale-dhaka-23'],\n",
       " ['Smart Watch Mobile DZ09',\n",
       "  'Dhaka',\n",
       "  ', ',\n",
       "  'Mobile Phone Accessories',\n",
       "  'Tk 1,100',\n",
       "  'https://bikroy.com/en/ad/smart-watch-mobile-dz09-for-sale-dhaka-24'],\n",
       " ['Symphony B9 Original',\n",
       "  'Dhaka',\n",
       "  ', ',\n",
       "  'Mobile Phones',\n",
       "  'Tk 350',\n",
       "  'https://bikroy.com/en/ad/symphony-b9-original-for-sale-dhaka-204'],\n",
       " ['LG gflex Original',\n",
       "  'Dhaka',\n",
       "  ', ',\n",
       "  'Mobile Phones',\n",
       "  'Tk 27,000',\n",
       "  'https://bikroy.com/en/ad/lg-gflex-original-for-sale-dhaka']]"
      ]
     },
     "execution_count": 27,
     "metadata": {},
     "output_type": "execute_result"
    }
   ],
   "source": [
    "list_items"
   ]
  },
  {
   "cell_type": "code",
   "execution_count": null,
   "metadata": {
    "collapsed": true
   },
   "outputs": [],
   "source": []
  }
 ],
 "metadata": {
  "kernelspec": {
   "display_name": "Python 3",
   "language": "python",
   "name": "python3"
  },
  "language_info": {
   "codemirror_mode": {
    "name": "ipython",
    "version": 3
   },
   "file_extension": ".py",
   "mimetype": "text/x-python",
   "name": "python",
   "nbconvert_exporter": "python",
   "pygments_lexer": "ipython3",
   "version": "3.6.1"
  }
 },
 "nbformat": 4,
 "nbformat_minor": 2
}
