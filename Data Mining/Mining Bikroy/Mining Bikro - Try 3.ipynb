{
 "cells": [
  {
   "cell_type": "code",
   "execution_count": 19,
   "metadata": {},
   "outputs": [
    {
     "name": "stdout",
     "output_type": "stream",
     "text": [
      "Keys\t-\tLocations\n",
      "0 \t-\t Dhaka\n",
      "1 \t-\t Chittagong\n",
      "2 \t-\t Sylhet\n",
      "3 \t-\t Khulna\n",
      "4 \t-\t Barisal\n",
      "5 \t-\t Rajshahi\n",
      "6 \t-\t Rangpur\n",
      "\n",
      "Please enter the key of the location you would like to search in.\n",
      "\n",
      "Your key: 3\n",
      "\n",
      "City Selected: Khulna\n"
     ]
    },
    {
     "data": {
      "text/plain": [
       "'khulna'"
      ]
     },
     "execution_count": 19,
     "metadata": {},
     "output_type": "execute_result"
    }
   ],
   "source": [
    "\n",
    "\n",
    "def get_location():\n",
    "    city = ['Dhaka', 'Chittagong', 'Sylhet', 'Khulna', 'Barisal', 'Rajshahi', 'Rangpur']\n",
    "    print(\"Keys\\t-\\tLocations\")\n",
    "    for index, values in enumerate(city):\n",
    "        print(index, \"\\t-\\t\", values)\n",
    "\n",
    "    while(True):\n",
    "        print(\"\\nPlease enter the key of the location you would like to search in.\")\n",
    "\n",
    "        loc_key = int(input(\"\\nYour key: \"))\n",
    "\n",
    "        if (loc_key < 0 or loc_key > 6):\n",
    "            print(\"\\nSorry but \" + str(loc_key) + \" is not a valid key. \")\n",
    "            print(\"Try again!\")\n",
    "        else:\n",
    "            print(\"\\nCity Selected: \" + city[loc_key])\n",
    "            return (city[loc_key].lower())\n",
    "\n",
    "\n",
    "get_location()\n"
   ]
  },
  {
   "cell_type": "code",
   "execution_count": 7,
   "metadata": {
    "collapsed": true
   },
   "outputs": [],
   "source": [
    "sort_by_options = ['&sort=date_desc&by_paying_member=0',  '&sort=date_asc&by_paying_member=0', '&sort=price_desc&by_paying_member=0', '&sort=price_asc&by_paying_member=0']\n",
    "\n",
    "def get_sort_option():\n",
    "    sort_by_options = ['&sort=date_desc&by_paying_member=0',  '&sort=date_asc&by_paying_member=0', '&sort=price_desc&by_paying_member=0', '&sort=price_asc&by_paying_member=0']\n",
    "    \n",
    "    print(\"Keys\\t-\\tSorting Options\")\n",
    "    \n",
    "    sorting_helper_list = [\"New to Old\", \"Old to New\", \"Expensive to Cheap\", \"Cheap to Expensive\"]\n",
    "    for index, values in enumerate(sorting_helper_list):\n",
    "        print(index, \"\\t-\\t\", values)\n",
    "\n",
    "    while(True):\n",
    "        print(\"\\nPlease enter the key of the sorting option you would like to use.\")\n",
    "\n",
    "        sort_key = int(input(\"\\nYour key: \"))\n",
    "\n",
    "        if (sort_key < 0 or sort_key >= len(sorting_helper_list)):\n",
    "            print(\"\\nSorry but \" + str(sort_key) + \" is not a valid key. \")\n",
    "            print(\"Try again!\")\n",
    "        else:\n",
    "            print(\"\\nSorting Selected: \" + sorting_helper_list[sort_key])\n",
    "            return (sort_by_options[sort_key])\n"
   ]
  },
  {
   "cell_type": "code",
   "execution_count": 9,
   "metadata": {},
   "outputs": [
    {
     "name": "stdout",
     "output_type": "stream",
     "text": [
      "Keys\t-\tSorting Options\n",
      "0 \t-\t New to Old\n",
      "1 \t-\t Old to New\n",
      "2 \t-\t Expensive to Cheap\n",
      "3 \t-\t Cheap to Expensive\n",
      "\n",
      "Please enter the key of the sorting option you would like to use.\n",
      "\n",
      "Your key: 3\n",
      "\n",
      "Sorting Selected: Cheap to Expensive\n",
      "&sort=price_asc&by_paying_member=0\n"
     ]
    }
   ],
   "source": [
    "# for i in range(len(sort_by_options)):\n",
    "    \n",
    "print(get_sort_option())"
   ]
  },
  {
   "cell_type": "code",
   "execution_count": 30,
   "metadata": {
    "collapsed": true
   },
   "outputs": [],
   "source": [
    "def get_key_word():\n",
    "    print(\"Please enter the item you would like to search for.\")\n",
    "    item = input(\"Search Item: \")\n",
    "    return (item.replace(' ', '+').lower())"
   ]
  },
  {
   "cell_type": "code",
   "execution_count": 11,
   "metadata": {},
   "outputs": [
    {
     "name": "stdout",
     "output_type": "stream",
     "text": [
      "Please enter the item you would like to search for.\n",
      "Search Item: Ass fart wiggel wiggel\n"
     ]
    },
    {
     "data": {
      "text/plain": [
       "'Ass+fart+wiggel+wiggel'"
      ]
     },
     "execution_count": 11,
     "metadata": {},
     "output_type": "execute_result"
    }
   ],
   "source": [
    "get_key_word()"
   ]
  },
  {
   "cell_type": "code",
   "execution_count": 16,
   "metadata": {},
   "outputs": [
    {
     "name": "stdout",
     "output_type": "stream",
     "text": [
      "worrfd e r sd fdsd sdffd d\n"
     ]
    }
   ],
   "source": [
    "print(\"WorRFd e R sd Fdsd sdfFD d\".lower())"
   ]
  },
  {
   "cell_type": "code",
   "execution_count": 35,
   "metadata": {},
   "outputs": [
    {
     "name": "stdout",
     "output_type": "stream",
     "text": [
      "Keys\t-\tLocations\n",
      "0 \t-\t Dhaka\n",
      "1 \t-\t Chittagong\n",
      "2 \t-\t Sylhet\n",
      "3 \t-\t Khulna\n",
      "4 \t-\t Barisal\n",
      "5 \t-\t Rajshahi\n",
      "6 \t-\t Rangpur\n",
      "\n",
      "Please enter the key of the location you would like to search in.\n",
      "\n",
      "Your key: 0\n",
      "\n",
      "City Selected: Dhaka\n",
      "Please enter the item you would like to search for.\n",
      "Search Item: mobile cover\n",
      "Keys\t-\tSorting Options\n",
      "0 \t-\t New to Old\n",
      "1 \t-\t Old to New\n",
      "2 \t-\t Expensive to Cheap\n",
      "3 \t-\t Cheap to Expensive\n",
      "\n",
      "Please enter the key of the sorting option you would like to use.\n",
      "\n",
      "Your key: 3\n",
      "\n",
      "Sorting Selected: Cheap to Expensive\n"
     ]
    }
   ],
   "source": [
    "base_link =\"https://bikroy.com/en/ads/\"\n",
    "\n",
    "loc = get_location()\n",
    "item = get_key_word()\n",
    "sort = get_sort_option()\n",
    "\n",
    "link_init = base_link + loc + '?query=' + item + '&sort=' + sort"
   ]
  },
  {
   "cell_type": "code",
   "execution_count": 32,
   "metadata": {},
   "outputs": [
    {
     "data": {
      "text/plain": [
       "'chittagong'"
      ]
     },
     "execution_count": 32,
     "metadata": {},
     "output_type": "execute_result"
    }
   ],
   "source": [
    "loc"
   ]
  },
  {
   "cell_type": "code",
   "execution_count": 33,
   "metadata": {},
   "outputs": [
    {
     "data": {
      "text/plain": [
       "'&sort=price_desc&by_paying_member=0'"
      ]
     },
     "execution_count": 33,
     "metadata": {},
     "output_type": "execute_result"
    }
   ],
   "source": [
    "sort"
   ]
  },
  {
   "cell_type": "code",
   "execution_count": 34,
   "metadata": {},
   "outputs": [
    {
     "data": {
      "text/plain": [
       "'ass+fart+sedw'"
      ]
     },
     "execution_count": 34,
     "metadata": {},
     "output_type": "execute_result"
    }
   ],
   "source": [
    "item"
   ]
  },
  {
   "cell_type": "code",
   "execution_count": 36,
   "metadata": {},
   "outputs": [
    {
     "data": {
      "text/plain": [
       "'https://bikroy.com/en/ads/dhaka?query=mobile+cover&sort=&sort=price_asc&by_paying_member=0'"
      ]
     },
     "execution_count": 36,
     "metadata": {},
     "output_type": "execute_result"
    }
   ],
   "source": [
    "link_init"
   ]
  },
  {
   "cell_type": "code",
   "execution_count": null,
   "metadata": {
    "collapsed": true
   },
   "outputs": [],
   "source": []
  }
 ],
 "metadata": {
  "kernelspec": {
   "display_name": "Python 3",
   "language": "python",
   "name": "python3"
  },
  "language_info": {
   "codemirror_mode": {
    "name": "ipython",
    "version": 3
   },
   "file_extension": ".py",
   "mimetype": "text/x-python",
   "name": "python",
   "nbconvert_exporter": "python",
   "pygments_lexer": "ipython3",
   "version": "3.6.1"
  }
 },
 "nbformat": 4,
 "nbformat_minor": 2
}
