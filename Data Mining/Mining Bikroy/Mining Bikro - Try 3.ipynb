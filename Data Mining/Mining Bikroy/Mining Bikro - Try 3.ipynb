{
 "cells": [
  {
   "cell_type": "code",
   "execution_count": 41,
   "metadata": {
    "collapsed": true
   },
   "outputs": [],
   "source": [
    "from WebScrapper import *"
   ]
  },
  {
   "cell_type": "code",
   "execution_count": 19,
   "metadata": {},
   "outputs": [
    {
     "name": "stdout",
     "output_type": "stream",
     "text": [
      "Keys\t-\tLocations\n",
      "0 \t-\t Dhaka\n",
      "1 \t-\t Chittagong\n",
      "2 \t-\t Sylhet\n",
      "3 \t-\t Khulna\n",
      "4 \t-\t Barisal\n",
      "5 \t-\t Rajshahi\n",
      "6 \t-\t Rangpur\n",
      "\n",
      "Please enter the key of the location you would like to search in.\n",
      "\n",
      "Your key: 3\n",
      "\n",
      "City Selected: Khulna\n"
     ]
    },
    {
     "data": {
      "text/plain": [
       "'khulna'"
      ]
     },
     "execution_count": 19,
     "metadata": {},
     "output_type": "execute_result"
    }
   ],
   "source": [
    "\n",
    "\n",
    "def get_location():\n",
    "    city = ['Dhaka', 'Chittagong', 'Sylhet', 'Khulna', 'Barisal', 'Rajshahi', 'Rangpur']\n",
    "    print(\"Keys\\t-\\tLocations\")\n",
    "    for index, values in enumerate(city):\n",
    "        print(index, \"\\t-\\t\", values)\n",
    "\n",
    "    while(True):\n",
    "        print(\"\\nPlease enter the key of the location you would like to search in.\")\n",
    "\n",
    "        loc_key = int(input(\"\\nYour key: \"))\n",
    "\n",
    "        if (loc_key < 0 or loc_key > 6):\n",
    "            print(\"\\nSorry but \" + str(loc_key) + \" is not a valid key. \")\n",
    "            print(\"Try again!\")\n",
    "        else:\n",
    "            print(\"\\nCity Selected: \" + city[loc_key])\n",
    "            return (city[loc_key].lower())\n",
    "\n",
    "\n",
    "get_location()\n"
   ]
  },
  {
   "cell_type": "code",
   "execution_count": 7,
   "metadata": {
    "collapsed": true
   },
   "outputs": [],
   "source": [
    "sort_by_options = ['&sort=date_desc&by_paying_member=0',  '&sort=date_asc&by_paying_member=0', '&sort=price_desc&by_paying_member=0', '&sort=price_asc&by_paying_member=0']\n",
    "\n",
    "def get_sort_option():\n",
    "    sort_by_options = ['&sort=date_desc&by_paying_member=0',  '&sort=date_asc&by_paying_member=0', '&sort=price_desc&by_paying_member=0', '&sort=price_asc&by_paying_member=0']\n",
    "    \n",
    "    print(\"Keys\\t-\\tSorting Options\")\n",
    "    \n",
    "    sorting_helper_list = [\"New to Old\", \"Old to New\", \"Expensive to Cheap\", \"Cheap to Expensive\"]\n",
    "    for index, values in enumerate(sorting_helper_list):\n",
    "        print(index, \"\\t-\\t\", values)\n",
    "\n",
    "    while(True):\n",
    "        print(\"\\nPlease enter the key of the sorting option you would like to use.\")\n",
    "\n",
    "        sort_key = int(input(\"\\nYour key: \"))\n",
    "\n",
    "        if (sort_key < 0 or sort_key >= len(sorting_helper_list)):\n",
    "            print(\"\\nSorry but \" + str(sort_key) + \" is not a valid key. \")\n",
    "            print(\"Try again!\")\n",
    "        else:\n",
    "            print(\"\\nSorting Selected: \" + sorting_helper_list[sort_key])\n",
    "            return (sort_by_options[sort_key])\n"
   ]
  },
  {
   "cell_type": "code",
   "execution_count": 9,
   "metadata": {},
   "outputs": [
    {
     "name": "stdout",
     "output_type": "stream",
     "text": [
      "Keys\t-\tSorting Options\n",
      "0 \t-\t New to Old\n",
      "1 \t-\t Old to New\n",
      "2 \t-\t Expensive to Cheap\n",
      "3 \t-\t Cheap to Expensive\n",
      "\n",
      "Please enter the key of the sorting option you would like to use.\n",
      "\n",
      "Your key: 3\n",
      "\n",
      "Sorting Selected: Cheap to Expensive\n",
      "&sort=price_asc&by_paying_member=0\n"
     ]
    }
   ],
   "source": [
    "# for i in range(len(sort_by_options)):\n",
    "    \n",
    "print(get_sort_option())"
   ]
  },
  {
   "cell_type": "code",
   "execution_count": 30,
   "metadata": {
    "collapsed": true
   },
   "outputs": [],
   "source": [
    "def get_key_word():\n",
    "    print(\"Please enter the item you would like to search for.\")\n",
    "    item = input(\"Search Item: \")\n",
    "    return (item.replace(' ', '+').lower())"
   ]
  },
  {
   "cell_type": "code",
   "execution_count": 11,
   "metadata": {},
   "outputs": [
    {
     "name": "stdout",
     "output_type": "stream",
     "text": [
      "Please enter the item you would like to search for.\n",
      "Search Item: Ass fart wiggel wiggel\n"
     ]
    },
    {
     "data": {
      "text/plain": [
       "'Ass+fart+wiggel+wiggel'"
      ]
     },
     "execution_count": 11,
     "metadata": {},
     "output_type": "execute_result"
    }
   ],
   "source": [
    "get_key_word()"
   ]
  },
  {
   "cell_type": "code",
   "execution_count": 16,
   "metadata": {},
   "outputs": [
    {
     "name": "stdout",
     "output_type": "stream",
     "text": [
      "worrfd e r sd fdsd sdffd d\n"
     ]
    }
   ],
   "source": [
    "print(\"WorRFd e R sd Fdsd sdfFD d\".lower())"
   ]
  },
  {
   "cell_type": "code",
   "execution_count": 35,
   "metadata": {},
   "outputs": [
    {
     "name": "stdout",
     "output_type": "stream",
     "text": [
      "Keys\t-\tLocations\n",
      "0 \t-\t Dhaka\n",
      "1 \t-\t Chittagong\n",
      "2 \t-\t Sylhet\n",
      "3 \t-\t Khulna\n",
      "4 \t-\t Barisal\n",
      "5 \t-\t Rajshahi\n",
      "6 \t-\t Rangpur\n",
      "\n",
      "Please enter the key of the location you would like to search in.\n",
      "\n",
      "Your key: 0\n",
      "\n",
      "City Selected: Dhaka\n",
      "Please enter the item you would like to search for.\n",
      "Search Item: mobile cover\n",
      "Keys\t-\tSorting Options\n",
      "0 \t-\t New to Old\n",
      "1 \t-\t Old to New\n",
      "2 \t-\t Expensive to Cheap\n",
      "3 \t-\t Cheap to Expensive\n",
      "\n",
      "Please enter the key of the sorting option you would like to use.\n",
      "\n",
      "Your key: 3\n",
      "\n",
      "Sorting Selected: Cheap to Expensive\n"
     ]
    }
   ],
   "source": [
    "base_link =\"https://bikroy.com/en/ads/\"\n",
    "\n",
    "loc = get_location()\n",
    "item = get_key_word()\n",
    "sort = get_sort_option()\n",
    "\n",
    "link_init = base_link + loc + '?query=' + item + '&sort=' + sort"
   ]
  },
  {
   "cell_type": "code",
   "execution_count": 32,
   "metadata": {},
   "outputs": [
    {
     "data": {
      "text/plain": [
       "'chittagong'"
      ]
     },
     "execution_count": 32,
     "metadata": {},
     "output_type": "execute_result"
    }
   ],
   "source": [
    "loc"
   ]
  },
  {
   "cell_type": "code",
   "execution_count": 33,
   "metadata": {},
   "outputs": [
    {
     "data": {
      "text/plain": [
       "'&sort=price_desc&by_paying_member=0'"
      ]
     },
     "execution_count": 33,
     "metadata": {},
     "output_type": "execute_result"
    }
   ],
   "source": [
    "sort"
   ]
  },
  {
   "cell_type": "code",
   "execution_count": 34,
   "metadata": {},
   "outputs": [
    {
     "data": {
      "text/plain": [
       "'ass+fart+sedw'"
      ]
     },
     "execution_count": 34,
     "metadata": {},
     "output_type": "execute_result"
    }
   ],
   "source": [
    "item"
   ]
  },
  {
   "cell_type": "code",
   "execution_count": 36,
   "metadata": {},
   "outputs": [
    {
     "data": {
      "text/plain": [
       "'https://bikroy.com/en/ads/dhaka?query=mobile+cover&sort=&sort=price_asc&by_paying_member=0'"
      ]
     },
     "execution_count": 36,
     "metadata": {},
     "output_type": "execute_result"
    }
   ],
   "source": [
    "link_init"
   ]
  },
  {
   "cell_type": "code",
   "execution_count": 37,
   "metadata": {
    "collapsed": true
   },
   "outputs": [],
   "source": [
    "def get_max_page(link):\n",
    "    print(\"Please enter the maximum number of pages available in the following link: \\n\" + link + \"\\n\")\n",
    "    max_page = int(input(\"Maximum page number: \"))\n",
    "    return (max_page)"
   ]
  },
  {
   "cell_type": "code",
   "execution_count": 38,
   "metadata": {},
   "outputs": [
    {
     "name": "stdout",
     "output_type": "stream",
     "text": [
      "Please enter the maximum number of pages available in the following link: \n",
      "https://bikroy.com/en/ads/dhaka?query=mobile+cover&sort=&sort=price_asc&by_paying_member=0\n",
      "\n",
      "Maximum page number: 5\n"
     ]
    },
    {
     "data": {
      "text/plain": [
       "5"
      ]
     },
     "execution_count": 38,
     "metadata": {},
     "output_type": "execute_result"
    }
   ],
   "source": [
    "get_max_page(link_init)"
   ]
  },
  {
   "cell_type": "code",
   "execution_count": 39,
   "metadata": {},
   "outputs": [
    {
     "name": "stdout",
     "output_type": "stream",
     "text": [
      "Please enter the maximum number of pages available in the following link: \n",
      "https://bikroy.com/en/ads/dhaka?query=mobile+cover&sort=&sort=price_asc&by_paying_member=0\n",
      "\n",
      "Maximum page number: 5\n"
     ]
    }
   ],
   "source": [
    "max_page = get_max_page(link_init)"
   ]
  },
  {
   "cell_type": "code",
   "execution_count": null,
   "metadata": {
    "collapsed": true
   },
   "outputs": [],
   "source": []
  },
  {
   "cell_type": "code",
   "execution_count": null,
   "metadata": {
    "collapsed": true
   },
   "outputs": [],
   "source": []
  },
  {
   "cell_type": "code",
   "execution_count": null,
   "metadata": {
    "collapsed": true
   },
   "outputs": [],
   "source": []
  },
  {
   "cell_type": "code",
   "execution_count": null,
   "metadata": {
    "collapsed": true
   },
   "outputs": [],
   "source": []
  },
  {
   "cell_type": "code",
   "execution_count": 43,
   "metadata": {},
   "outputs": [
    {
     "name": "stderr",
     "output_type": "stream",
     "text": [
      "/home/scarlet/anaconda3/envs/my_env/lib/python3.6/site-packages/urllib3/connectionpool.py:852: InsecureRequestWarning: Unverified HTTPS request is being made. Adding certificate verification is strongly advised. See: https://urllib3.readthedocs.io/en/latest/advanced-usage.html#ssl-warnings\n",
      "  InsecureRequestWarning)\n"
     ]
    },
    {
     "name": "stdout",
     "output_type": "stream",
     "text": [
      "Item:  Begasso mountain bicycles\n",
      "Location:  Dhaka\n",
      "Posted On:  09 Aug  8:13 am\n",
      "Category:  Bicycles and Three Wheelers\n",
      "Price:  Tk 22,000\n",
      "Link: https://bikroy.com/en/ad/begasso-mountain-bicycles-for-sale-dhaka\n",
      "\n",
      "Item:  Samsung Note 2 Original\n",
      "Location:  Dhaka\n",
      "Posted On:  , \n",
      "Category:  Mobile Phones\n",
      "Price:  Tk 8,000\n",
      "Link: https://bikroy.com/en/ad/samsung-note-2-original-for-sale-dhaka-1524\n",
      "\n",
      "Item:  Sony T2 Ultra Original\n",
      "Location:  Dhaka\n",
      "Posted On:  , \n",
      "Category:  Mobile Phones\n",
      "Price:  Tk 8,000\n",
      "Link: https://bikroy.com/en/ad/sony-t2-ultra-original-for-sale-dhaka-178\n",
      "\n",
      "Item:  HTC M7 Original\n",
      "Location:  Dhaka\n",
      "Posted On:  , \n",
      "Category:  Mobile Phones\n",
      "Price:  Tk 6,980\n",
      "Link: https://bikroy.com/en/ad/htc-m7-original-for-sale-dhaka-673\n",
      "\n",
      "Item:  Samsung Grand Prime Original\n",
      "Location:  Dhaka\n",
      "Posted On:  , \n",
      "Category:  Mobile Phones\n",
      "Price:  Tk 6,000\n",
      "Link: https://bikroy.com/en/ad/samsung-grand-prime-original-for-sale-dhaka-9936\n",
      "\n",
      "Item:  iPhone 5/5s back cover from Portugal\n",
      "Location:  Dhaka\n",
      "Posted On:  , \n",
      "Category:  Mobile Phone Accessories\n",
      "Price:  Tk 250\n",
      "Link: https://bikroy.com/en/ad/iphone-5-5s-back-cover-from-portugal-for-sale-dhaka\n",
      "\n",
      "Item:  Samsung S6 Edge 32gb Original\n",
      "Location:  Dhaka\n",
      "Posted On:  , \n",
      "Category:  Mobile Phones\n",
      "Price:  Tk 20,500\n",
      "Link: https://bikroy.com/en/ad/samsung-s6-edge-32gb-original-for-sale-dhaka-377\n",
      "\n",
      "Item:  Microsoft 540 Original\n",
      "Location:  Dhaka\n",
      "Posted On:  , \n",
      "Category:  Mobile Phones\n",
      "Price:  Tk 5,500\n",
      "Link: https://bikroy.com/en/ad/microsoft-540-original-for-sale-dhaka-554\n",
      "\n",
      "Item:  Apple iPhone 6 16 Gb Original\n",
      "Location:  Dhaka\n",
      "Posted On:  , \n",
      "Category:  Mobile Phones\n",
      "Price:  Tk 18,000\n",
      "Link: https://bikroy.com/en/ad/apple-iphone-6-16-gb-original-for-sale-dhaka-707\n",
      "\n",
      "Item:  Nokia 6 Black Original\n",
      "Location:  Dhaka\n",
      "Posted On:  , \n",
      "Category:  Mobile Phones\n",
      "Price:  Tk 23,000\n",
      "Link: https://bikroy.com/en/ad/nokia-6-black-original-for-sale-dhaka-21\n",
      "\n",
      "Item:  Xiaomi redmi note 4 Original\n",
      "Location:  Dhaka\n",
      "Posted On:  , \n",
      "Category:  Mobile Phones\n",
      "Price:  Tk 11,500\n",
      "Link: https://bikroy.com/en/ad/xiaomi-redmi-note-4-original-for-sale-dhaka-1084\n",
      "\n",
      "Item:  Huawei Y6II Original\n",
      "Location:  Dhaka\n",
      "Posted On:  , \n",
      "Category:  Mobile Phones\n",
      "Price:  Tk 9,500\n",
      "Link: https://bikroy.com/en/ad/huawei-y6ii-original-for-sale-dhaka-438\n",
      "\n",
      "Item:  Symphony H120 Original\n",
      "Location:  Dhaka\n",
      "Posted On:  , \n",
      "Category:  Mobile Phones\n",
      "Price:  Tk 6,000\n",
      "Link: https://bikroy.com/en/ad/symphony-h120-original-for-sale-dhaka-1383\n",
      "\n",
      "Item:  Micromax X455 Original\n",
      "Location:  Dhaka\n",
      "Posted On:  , \n",
      "Category:  Mobile Phones\n",
      "Price:  Tk 1,500\n",
      "Link: https://bikroy.com/en/ad/micromax-x455-original-for-sale-dhaka-21\n",
      "\n",
      "Item:  Huawei G Play Mini Original\n",
      "Location:  Dhaka\n",
      "Posted On:  , \n",
      "Category:  Mobile Phones\n",
      "Price:  Tk 6,199\n",
      "Link: https://bikroy.com/en/ad/huawei-g-play-mini-original-for-sale-dhaka-2342\n",
      "\n",
      "Item:  Walton Primo nf 2 Original\n",
      "Location:  Dhaka\n",
      "Posted On:  , \n",
      "Category:  Mobile Phones\n",
      "Price:  Tk 5,200\n",
      "Link: https://bikroy.com/en/ad/walton-primo-nf-2-original-for-sale-dhaka-31\n",
      "\n",
      "Item:  Samsung j7 Prime Original\n",
      "Location:  Dhaka\n",
      "Posted On:  , \n",
      "Category:  Mobile Phones\n",
      "Price:  Tk 16,000\n",
      "Link: https://bikroy.com/en/ad/samsung-j7-prime-original-for-sale-dhaka-1672\n",
      "\n",
      "Item:  Samsung galaxy s8 Original\n",
      "Location:  Dhaka\n",
      "Posted On:  , \n",
      "Category:  Mobile Phones\n",
      "Price:  Tk 64,000\n",
      "Link: https://bikroy.com/en/ad/samsung-galaxy-s8-original-for-sale-dhaka-148\n",
      "\n",
      "Item:  Window Flip Cover for Walton NF2\n",
      "Location:  Dhaka\n",
      "Posted On:  , \n",
      "Category:  Mobile Phone Accessories\n",
      "Price:  Tk 150\n",
      "Link: https://bikroy.com/en/ad/window-flip-cover-for-walton-nf2-for-sale-dhaka\n",
      "\n",
      "Item:  Lenovo K3 Note Temepered Glass\n",
      "Location:  Dhaka\n",
      "Posted On:  , \n",
      "Category:  Mobile Phone Accessories\n",
      "Price:  Tk 100\n",
      "Link: https://bikroy.com/en/ad/lenovo-k3-note-temepered-glass-for-sale-dhaka\n",
      "\n",
      "Item:  WE A3 Original\n",
      "Location:  Dhaka\n",
      "Posted On:  , \n",
      "Category:  Mobile Phones\n",
      "Price:  Tk 2,300\n",
      "Link: https://bikroy.com/en/ad/we-a3-original-for-sale-dhaka-5\n",
      "\n",
      "Item:  Vivo x3s Original\n",
      "Location:  Dhaka\n",
      "Posted On:  , \n",
      "Category:  Mobile Phones\n",
      "Price:  Tk 10,000\n",
      "Link: https://bikroy.com/en/ad/vivo-x3s-original-for-sale-dhaka-1\n",
      "\n",
      "Item:  Samsung note 4 mobile cover\n",
      "Location:  Dhaka\n",
      "Posted On:  , \n",
      "Category:  Mobile Phone Accessories\n",
      "Price:  Tk 200\n",
      "Link: https://bikroy.com/en/ad/samsung-note-4-mobile-cover-for-sale-dhaka\n",
      "\n",
      "Item:  Sony M5 Dual Original\n",
      "Location:  Dhaka\n",
      "Posted On:  , \n",
      "Category:  Mobile Phones\n",
      "Price:  Tk 20,000\n",
      "Link: https://bikroy.com/en/ad/sony-m5-dual-original-for-sale-dhaka-120\n",
      "\n",
      "Item:  Samsung Galaxy Note 4 Original\n",
      "Location:  Dhaka\n",
      "Posted On:  , \n",
      "Category:  Mobile Phones\n",
      "Price:  Tk 15,500\n",
      "Link: https://bikroy.com/en/ad/samsung-galaxy-note-4-original-for-sale-dhaka-2489\n",
      "\n",
      "Item:  Symphony P6 1gb Original\n",
      "Location:  Dhaka\n",
      "Posted On:  , \n",
      "Category:  Mobile Phones\n",
      "Price:  Tk 4,200\n",
      "Link: https://bikroy.com/en/ad/symphony-p6-1gb-original-for-sale-dhaka-323\n",
      "\n"
     ]
    },
    {
     "name": "stderr",
     "output_type": "stream",
     "text": [
      "/home/scarlet/anaconda3/envs/my_env/lib/python3.6/site-packages/urllib3/connectionpool.py:852: InsecureRequestWarning: Unverified HTTPS request is being made. Adding certificate verification is strongly advised. See: https://urllib3.readthedocs.io/en/latest/advanced-usage.html#ssl-warnings\n",
      "  InsecureRequestWarning)\n"
     ]
    },
    {
     "name": "stdout",
     "output_type": "stream",
     "text": [
      "Item:  Begasso mountain bicycles\n",
      "Location:  Dhaka\n",
      "Posted On:  09 Aug  8:13 am\n",
      "Category:  Bicycles and Three Wheelers\n",
      "Price:  Tk 22,000\n",
      "Link: https://bikroy.com/en/ad/begasso-mountain-bicycles-for-sale-dhaka\n",
      "\n",
      "Item:  Vivo x3s Original\n",
      "Location:  Dhaka\n",
      "Posted On:  , \n",
      "Category:  Mobile Phones\n",
      "Price:  Tk 10,000\n",
      "Link: https://bikroy.com/en/ad/vivo-x3s-original-for-sale-dhaka-1\n",
      "\n",
      "Item:  Samsung note 4 mobile cover\n",
      "Location:  Dhaka\n",
      "Posted On:  , \n",
      "Category:  Mobile Phone Accessories\n",
      "Price:  Tk 200\n",
      "Link: https://bikroy.com/en/ad/samsung-note-4-mobile-cover-for-sale-dhaka\n",
      "\n",
      "Item:  Sony M5 Dual Original\n",
      "Location:  Dhaka\n",
      "Posted On:  , \n",
      "Category:  Mobile Phones\n",
      "Price:  Tk 20,000\n",
      "Link: https://bikroy.com/en/ad/sony-m5-dual-original-for-sale-dhaka-120\n",
      "\n",
      "Item:  Samsung Galaxy Note 4 Original\n",
      "Location:  Dhaka\n",
      "Posted On:  , \n",
      "Category:  Mobile Phones\n",
      "Price:  Tk 15,500\n",
      "Link: https://bikroy.com/en/ad/samsung-galaxy-note-4-original-for-sale-dhaka-2489\n",
      "\n",
      "Item:  Symphony P6 1gb Original\n",
      "Location:  Dhaka\n",
      "Posted On:  , \n",
      "Category:  Mobile Phones\n",
      "Price:  Tk 4,200\n",
      "Link: https://bikroy.com/en/ad/symphony-p6-1gb-original-for-sale-dhaka-323\n",
      "\n",
      "Item:  Samsung SM-531H White Original\n",
      "Location:  Dhaka\n",
      "Posted On:  , \n",
      "Category:  Mobile Phones\n",
      "Price:  Tk 7,000\n",
      "Link: https://bikroy.com/en/ad/samsung-sm-531h-white-original-for-sale-dhaka\n",
      "\n",
      "Item:  Walton walped C Original\n",
      "Location:  Dhaka\n",
      "Posted On:  , \n",
      "Category:  Computers & Tablets\n",
      "Price:  Tk 6,000\n",
      "Link: https://bikroy.com/en/ad/walton-walped-c-original-for-sale-dhaka\n",
      "\n",
      "Item:  Lava iris 810 Original\n",
      "Location:  Dhaka\n",
      "Posted On:  , \n",
      "Category:  Mobile Phones\n",
      "Price:  Tk 5,000\n",
      "Link: https://bikroy.com/en/ad/lava-iris-810-original-for-sale-dhaka-223\n",
      "\n",
      "Item:  Xiaomi Note 3 Original\n",
      "Location:  Dhaka\n",
      "Posted On:  , \n",
      "Category:  Mobile Phones\n",
      "Price:  Tk 9,000\n",
      "Link: https://bikroy.com/en/ad/xiaomi-note-3-original-for-sale-dhaka-568\n",
      "\n",
      "Item:  Symphony i10 gold Original\n",
      "Location:  Dhaka\n",
      "Posted On:  , \n",
      "Category:  Mobile Phones\n",
      "Price:  Tk 5,000\n",
      "Link: https://bikroy.com/en/ad/symphony-i10-gold-original-for-sale-dhaka-56\n",
      "\n",
      "Item:  Symphony Zvii, gray cloor Original\n",
      "Location:  Dhaka\n",
      "Posted On:  , \n",
      "Category:  Mobile Phones\n",
      "Price:  Tk 9,000\n",
      "Link: https://bikroy.com/en/ad/symphony-zvii-gray-cloor-original-for-sale-dhaka\n",
      "\n",
      "Item:  Samsung J2 (16) Original\n",
      "Location:  Dhaka\n",
      "Posted On:  , \n",
      "Category:  Mobile Phones\n",
      "Price:  Tk 7,600\n",
      "Link: https://bikroy.com/en/ad/samsung-j2-16-original-for-sale-dhaka-115\n",
      "\n",
      "Item:  Asus ZE500KL Original\n",
      "Location:  Dhaka\n",
      "Posted On:  , \n",
      "Category:  Mobile Phones\n",
      "Price:  Tk 6,000\n",
      "Link: https://bikroy.com/en/ad/asus-ze500kl-original-for-sale-dhaka-34\n",
      "\n",
      "Item:  Samsung Galaxy GT-S7580 Original\n",
      "Location:  Dhaka\n",
      "Posted On:  , \n",
      "Category:  Mobile Phones\n",
      "Price:  Tk 2,200\n",
      "Link: https://bikroy.com/en/ad/samsung-galaxy-gt-s7580-original-for-sale-dhaka-6\n",
      "\n",
      "Item:  ZTE Blade l5 Original\n",
      "Location:  Dhaka\n",
      "Posted On:  , \n",
      "Category:  Mobile Phones\n",
      "Price:  Tk 6,200\n",
      "Link: https://bikroy.com/en/ad/zte-blade-l5-original-for-sale-dhaka-6\n",
      "\n",
      "Item:  Symphony W70Q Original\n",
      "Location:  Dhaka\n",
      "Posted On:  , \n",
      "Category:  Mobile Phones\n",
      "Price:  Tk 2,499\n",
      "Link: https://bikroy.com/en/ad/symphony-w70q-original-for-sale-dhaka-925\n",
      "\n",
      "Item:  Symphony P6 Pro Golden Original\n",
      "Location:  Dhaka\n",
      "Posted On:  , \n",
      "Category:  Mobile Phones\n",
      "Price:  Tk 6,499\n",
      "Link: https://bikroy.com/en/ad/symphony-p6-pro-golden-original-for-sale-dhaka-37\n",
      "\n",
      "Item:  Xiaomi note 4X Original\n",
      "Location:  Dhaka\n",
      "Posted On:  , \n",
      "Category:  Mobile Phones\n",
      "Price:  Tk 17,000\n",
      "Link: https://bikroy.com/en/ad/xiaomi-note-4x-original-for-sale-dhaka-272\n",
      "\n",
      "Item:  Waterproof Mobile Cover\n",
      "Location:  Dhaka\n",
      "Posted On:  25 Jul  3:39 pm\n",
      "Category:  Mobile Phone Accessories\n",
      "Price:  Tk 300\n",
      "Link: https://bikroy.com/en/ad/waterproof-mobile-cover-for-sale-dhaka-3\n",
      "\n",
      "Item:  Apple iPhone 4S 32GB Original\n",
      "Location:  Dhaka\n",
      "Posted On:  , \n",
      "Category:  Mobile Phones\n",
      "Price:  Tk 9,000\n",
      "Link: https://bikroy.com/en/ad/apple-iphone-4s-32gb-original-for-sale-dhaka-1178\n",
      "\n",
      "Item:  Symphony R100 Original\n",
      "Location:  Dhaka\n",
      "Posted On:  , \n",
      "Category:  Mobile Phones\n",
      "Price:  Tk 8,000\n",
      "Link: https://bikroy.com/en/ad/symphony-r100-original-for-sale-dhaka-334\n",
      "\n",
      "Item:  Huawei G Play Mini Original\n",
      "Location:  Dhaka\n",
      "Posted On:  , \n",
      "Category:  Mobile Phones\n",
      "Price:  Tk 6,800\n",
      "Link: https://bikroy.com/en/ad/huawei-g-play-mini-original-for-sale-dhaka-2298\n",
      "\n",
      "Item:  Maximus Max 908 Original\n",
      "Location:  Dhaka\n",
      "Posted On:  , \n",
      "Category:  Mobile Phones\n",
      "Price:  Tk 2,000\n",
      "Link: https://bikroy.com/en/ad/maximus-max-908-original-for-sale-dhaka-669\n",
      "\n",
      "Item:  HTC M9 Original\n",
      "Location:  Dhaka\n",
      "Posted On:  , \n",
      "Category:  Mobile Phones\n",
      "Price:  Tk 15,500\n",
      "Link: https://bikroy.com/en/ad/htc-m9-original-for-sale-dhaka-452\n",
      "\n",
      "Item:  One Plus Three Original\n",
      "Location:  Dhaka\n",
      "Posted On:  , \n",
      "Category:  Mobile Phones\n",
      "Price:  Tk 28,000\n",
      "Link: https://bikroy.com/en/ad/one-plus-three-original-for-sale-dhaka-203\n",
      "\n"
     ]
    },
    {
     "name": "stderr",
     "output_type": "stream",
     "text": [
      "/home/scarlet/anaconda3/envs/my_env/lib/python3.6/site-packages/urllib3/connectionpool.py:852: InsecureRequestWarning: Unverified HTTPS request is being made. Adding certificate verification is strongly advised. See: https://urllib3.readthedocs.io/en/latest/advanced-usage.html#ssl-warnings\n",
      "  InsecureRequestWarning)\n"
     ]
    },
    {
     "name": "stdout",
     "output_type": "stream",
     "text": [
      "Item:  Begasso mountain bicycles\n",
      "Location:  Dhaka\n",
      "Posted On:  09 Aug  8:13 am\n",
      "Category:  Bicycles and Three Wheelers\n",
      "Price:  Tk 22,000\n",
      "Link: https://bikroy.com/en/ad/begasso-mountain-bicycles-for-sale-dhaka\n",
      "\n",
      "Item:  Symphony L16 dark blue Original\n",
      "Location:  Dhaka\n",
      "Posted On:  , \n",
      "Category:  Mobile Phones\n",
      "Price:  Tk 500\n",
      "Link: https://bikroy.com/en/ad/symphony-l16-dark-blue-original-for-sale-dhaka\n",
      "\n",
      "Item:  Huawei Y6 pro Original\n",
      "Location:  Dhaka\n",
      "Posted On:  , \n",
      "Category:  Mobile Phones\n",
      "Price:  Tk 7,000\n",
      "Link: https://bikroy.com/en/ad/huawei-y6-pro-original-for-sale-dhaka-792\n",
      "\n",
      "Item:  Apple iPhone 5s 16gb silver Original\n",
      "Location:  Dhaka\n",
      "Posted On:  , \n",
      "Category:  Mobile Phones\n",
      "Price:  Tk 11,500\n",
      "Link: https://bikroy.com/en/ad/apple-iphone-5s-16gb-silver-original-for-sale-dhaka-66\n",
      "\n",
      "Item:  Lava Iris 605 Original\n",
      "Location:  Dhaka\n",
      "Posted On:  , \n",
      "Category:  Mobile Phones\n",
      "Price:  Tk 3,500\n",
      "Link: https://bikroy.com/en/ad/lava-iris-605-original-for-sale-dhaka-146\n",
      "\n",
      "Item:  Samsung S duos 2 Original\n",
      "Location:  Dhaka\n",
      "Posted On:  , \n",
      "Category:  Mobile Phones\n",
      "Price:  Tk 3,500\n",
      "Link: https://bikroy.com/en/ad/samsung-s-duos-2-original-for-sale-dhaka-1443\n",
      "\n",
      "Item:  Xiaomi Redmi note 3 Original\n",
      "Location:  Dhaka\n",
      "Posted On:  , \n",
      "Category:  Mobile Phones\n",
      "Price:  Tk 12,000\n",
      "Link: https://bikroy.com/en/ad/xiaomi-redmi-note-3-original-for-sale-dhaka-1035\n",
      "\n",
      "Item:  Huawei Y3 ii Original\n",
      "Location:  Dhaka\n",
      "Posted On:  , \n",
      "Category:  Mobile Phones\n",
      "Price:  Tk 5,800\n",
      "Link: https://bikroy.com/en/ad/huawei-y3-ii-original-for-sale-dhaka-142\n",
      "\n",
      "Item:  Samsung core prime Original\n",
      "Location:  Dhaka\n",
      "Posted On:  , \n",
      "Category:  Mobile Phones\n",
      "Price:  Tk 5,000\n",
      "Link: https://bikroy.com/en/ad/samsung-core-prime-original-for-sale-dhaka-3105\n",
      "\n",
      "Item:  Huawei Y511 Original\n",
      "Location:  Dhaka\n",
      "Posted On:  , \n",
      "Category:  Mobile Phones\n",
      "Price:  Tk 3,800\n",
      "Link: https://bikroy.com/en/ad/huawei-y511-original-for-sale-dhaka-200\n",
      "\n",
      "Item:  Lava Flair S1 Original\n",
      "Location:  Dhaka\n",
      "Posted On:  , \n",
      "Category:  Mobile Phones\n",
      "Price:  Tk 2,800\n",
      "Link: https://bikroy.com/en/ad/lava-flair-s1-original-for-sale-dhaka-114\n",
      "\n",
      "Item:  Symphony W85 Black Original\n",
      "Location:  Dhaka\n",
      "Posted On:  , \n",
      "Category:  Mobile Phones\n",
      "Price:  Tk 2,500\n",
      "Link: https://bikroy.com/en/ad/symphony-w85-black-original-for-sale-dhaka-81\n",
      "\n",
      "Item:  Acer Tablet original\n",
      "Location:  Dhaka\n",
      "Posted On:  , \n",
      "Category:  Computers & Tablets\n",
      "Price:  Tk 15,000\n",
      "Link: https://bikroy.com/en/ad/acer-tablet-original-for-sale-dhaka-1\n",
      "\n",
      "Item:  Xiaomi Redmi Pro Original\n",
      "Location:  Dhaka\n",
      "Posted On:  , \n",
      "Category:  Mobile Phones\n",
      "Price:  Tk 13,000\n",
      "Link: https://bikroy.com/en/ad/xiaomi-redmi-pro-original-for-sale-dhaka-392\n",
      "\n",
      "Item:  Samsung A5 golden Original\n",
      "Location:  Dhaka\n",
      "Posted On:  , \n",
      "Category:  Mobile Phones\n",
      "Price:  Tk 12,000\n",
      "Link: https://bikroy.com/en/ad/samsung-a5-golden-original-for-sale-dhaka-48\n",
      "\n",
      "Item:  Samsung Grand Prime Original\n",
      "Location:  Dhaka\n",
      "Posted On:  , \n",
      "Category:  Mobile Phones\n",
      "Price:  Tk 4,800\n",
      "Link: https://bikroy.com/en/ad/samsung-grand-prime-original-for-sale-dhaka-9398\n",
      "\n",
      "Item:  Lava Iris 605 Original\n",
      "Location:  Dhaka\n",
      "Posted On:  , \n",
      "Category:  Mobile Phones\n",
      "Price:  Tk 3,200\n",
      "Link: https://bikroy.com/en/ad/lava-iris-605-original-for-sale-dhaka-143\n",
      "\n",
      "Item:  Smart Door Phone Camera WiFi\n",
      "Location:  Dhaka\n",
      "Posted On:  20 Jun  1:11 am\n",
      "Category:  Other Electronics\n",
      "Price:  Tk 6,800\n",
      "Link: https://bikroy.com/en/ad/smart-door-phone-camera-wifi-for-sale-dhaka-1\n",
      "\n",
      "Item:  Samsung Note 3 Original\n",
      "Location:  Dhaka\n",
      "Posted On:  , \n",
      "Category:  Mobile Phones\n",
      "Price:  Tk 13,500\n",
      "Link: https://bikroy.com/en/ad/samsung-note-3-original-for-sale-dhaka-3024\n",
      "\n",
      "Item:  OPPO C1 -Black Original\n",
      "Location:  Dhaka\n",
      "Posted On:  , \n",
      "Category:  Mobile Phones\n",
      "Price:  Tk 8,900\n",
      "Link: https://bikroy.com/en/ad/oppo-c1-black-original-for-sale-dhaka-43\n",
      "\n"
     ]
    },
    {
     "name": "stderr",
     "output_type": "stream",
     "text": [
      "/home/scarlet/anaconda3/envs/my_env/lib/python3.6/site-packages/urllib3/connectionpool.py:852: InsecureRequestWarning: Unverified HTTPS request is being made. Adding certificate verification is strongly advised. See: https://urllib3.readthedocs.io/en/latest/advanced-usage.html#ssl-warnings\n",
      "  InsecureRequestWarning)\n"
     ]
    },
    {
     "name": "stdout",
     "output_type": "stream",
     "text": [
      "Item:  Begasso mountain bicycles\n",
      "Location:  Dhaka\n",
      "Posted On:  09 Aug  8:13 am\n",
      "Category:  Bicycles and Three Wheelers\n",
      "Price:  Tk 22,000\n",
      "Link: https://bikroy.com/en/ad/begasso-mountain-bicycles-for-sale-dhaka\n",
      "\n",
      "Item:  Samsung core prime Original\n",
      "Location:  Dhaka\n",
      "Posted On:  , \n",
      "Category:  Mobile Phones\n",
      "Price:  Tk 5,000\n",
      "Link: https://bikroy.com/en/ad/samsung-core-prime-original-for-sale-dhaka-3105\n",
      "\n",
      "Item:  Samsung J1 Original\n",
      "Location:  Dhaka\n",
      "Posted On:  , \n",
      "Category:  Mobile Phones\n",
      "Price:  Tk 4,400\n",
      "Link: https://bikroy.com/en/ad/samsung-j1-original-for-sale-dhaka-2032\n",
      "\n",
      "Item:  Huawei Y511 Original\n",
      "Location:  Dhaka\n",
      "Posted On:  , \n",
      "Category:  Mobile Phones\n",
      "Price:  Tk 3,800\n",
      "Link: https://bikroy.com/en/ad/huawei-y511-original-for-sale-dhaka-200\n",
      "\n",
      "Item:  Lava Flair S1 Original\n",
      "Location:  Dhaka\n",
      "Posted On:  , \n",
      "Category:  Mobile Phones\n",
      "Price:  Tk 2,800\n",
      "Link: https://bikroy.com/en/ad/lava-flair-s1-original-for-sale-dhaka-114\n",
      "\n",
      "Item:  Symphony W85 Black Original\n",
      "Location:  Dhaka\n",
      "Posted On:  , \n",
      "Category:  Mobile Phones\n",
      "Price:  Tk 2,500\n",
      "Link: https://bikroy.com/en/ad/symphony-w85-black-original-for-sale-dhaka-81\n",
      "\n",
      "Item:  Acer Tablet original\n",
      "Location:  Dhaka\n",
      "Posted On:  , \n",
      "Category:  Computers & Tablets\n",
      "Price:  Tk 15,000\n",
      "Link: https://bikroy.com/en/ad/acer-tablet-original-for-sale-dhaka-1\n",
      "\n",
      "Item:  Xiaomi Redmi Pro Original\n",
      "Location:  Dhaka\n",
      "Posted On:  , \n",
      "Category:  Mobile Phones\n",
      "Price:  Tk 13,000\n",
      "Link: https://bikroy.com/en/ad/xiaomi-redmi-pro-original-for-sale-dhaka-392\n",
      "\n",
      "Item:  Samsung A5 golden Original\n",
      "Location:  Dhaka\n",
      "Posted On:  , \n",
      "Category:  Mobile Phones\n",
      "Price:  Tk 12,000\n",
      "Link: https://bikroy.com/en/ad/samsung-a5-golden-original-for-sale-dhaka-48\n",
      "\n",
      "Item:  Samsung Grand Prime Original\n",
      "Location:  Dhaka\n",
      "Posted On:  , \n",
      "Category:  Mobile Phones\n",
      "Price:  Tk 4,800\n",
      "Link: https://bikroy.com/en/ad/samsung-grand-prime-original-for-sale-dhaka-9398\n",
      "\n",
      "Item:  Lava Iris 605 Original\n",
      "Location:  Dhaka\n",
      "Posted On:  , \n",
      "Category:  Mobile Phones\n",
      "Price:  Tk 3,200\n",
      "Link: https://bikroy.com/en/ad/lava-iris-605-original-for-sale-dhaka-143\n",
      "\n",
      "Item:  Smart Door Phone Camera WiFi\n",
      "Location:  Dhaka\n",
      "Posted On:  20 Jun  1:11 am\n",
      "Category:  Other Electronics\n",
      "Price:  Tk 6,800\n",
      "Link: https://bikroy.com/en/ad/smart-door-phone-camera-wifi-for-sale-dhaka-1\n",
      "\n",
      "Item:  Samsung Note 3 Original\n",
      "Location:  Dhaka\n",
      "Posted On:  , \n",
      "Category:  Mobile Phones\n",
      "Price:  Tk 13,500\n",
      "Link: https://bikroy.com/en/ad/samsung-note-3-original-for-sale-dhaka-3024\n",
      "\n",
      "Item:  OPPO C1 -Black Original\n",
      "Location:  Dhaka\n",
      "Posted On:  , \n",
      "Category:  Mobile Phones\n",
      "Price:  Tk 8,900\n",
      "Link: https://bikroy.com/en/ad/oppo-c1-black-original-for-sale-dhaka-43\n",
      "\n",
      "Item:  Winstar W15 white Original\n",
      "Location:  Dhaka\n",
      "Posted On:  , \n",
      "Category:  Mobile Phones\n",
      "Price:  Tk 2,500\n",
      "Link: https://bikroy.com/en/ad/winstar-w15-white-original-for-sale-dhaka\n",
      "\n"
     ]
    }
   ],
   "source": [
    "for l in range(2, max_page + 1):\n",
    "    bikroy = soupified_request(link_init + \"&page=\" + str(l))\n",
    "    \n",
    "    all_divs = bikroy.findAll(\"div\", { \"class\" : \"ui-item\" })\n",
    "    \n",
    "    for item in all_divs:\n",
    "        print(\"Item: \", item.find('img').get('title'))\n",
    "        print(\"Location: \", item.find('span', {'class': 'item-area'}).text)\n",
    "        print(\"Posted On: \", item.findAll('span')[1].text)\n",
    "        print(\"Category: \", item.find('span', {'class': 'item-cat'}).text)\n",
    "        print(\"Price: \", item.find('p', {'class': 'item-info'}).text)\n",
    "        print(\"Link: \" + 'https://bikroy.com'+ item.find('a')['href'], end='\\n\\n')\n",
    "        \n",
    "    wait()\n",
    "        \n",
    "    "
   ]
  },
  {
   "cell_type": "code",
   "execution_count": null,
   "metadata": {
    "collapsed": true
   },
   "outputs": [],
   "source": []
  }
 ],
 "metadata": {
  "kernelspec": {
   "display_name": "Python 3",
   "language": "python",
   "name": "python3"
  },
  "language_info": {
   "codemirror_mode": {
    "name": "ipython",
    "version": 3
   },
   "file_extension": ".py",
   "mimetype": "text/x-python",
   "name": "python",
   "nbconvert_exporter": "python",
   "pygments_lexer": "ipython3",
   "version": "3.6.1"
  }
 },
 "nbformat": 4,
 "nbformat_minor": 2
}
