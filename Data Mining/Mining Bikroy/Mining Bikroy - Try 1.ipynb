{
 "cells": [
  {
   "cell_type": "code",
   "execution_count": 3,
   "metadata": {
    "collapsed": true
   },
   "outputs": [],
   "source": [
    "import urllib3\n",
    "\n",
    "http = urllib3.PoolManager()\n",
    "\n",
    "request = http.request('GET', 'http://en.akinator.com/personnages/')"
   ]
  },
  {
   "cell_type": "raw",
   "metadata": {},
   "source": [
    "type(request)"
   ]
  },
  {
   "cell_type": "code",
   "execution_count": 2,
   "metadata": {},
   "outputs": [
    {
     "name": "stdout",
     "output_type": "stream",
     "text": [
      "hey\n"
     ]
    }
   ],
   "source": [
    "print(\"hey\")"
   ]
  },
  {
   "cell_type": "code",
   "execution_count": 4,
   "metadata": {},
   "outputs": [
    {
     "name": "stdout",
     "output_type": "stream",
     "text": [
      "<class 'urllib3.response.HTTPResponse'>\n"
     ]
    }
   ],
   "source": [
    "print(type(request))"
   ]
  },
  {
   "cell_type": "code",
   "execution_count": 5,
   "metadata": {},
   "outputs": [
    {
     "data": {
      "text/plain": [
       "3"
      ]
     },
     "execution_count": 5,
     "metadata": {},
     "output_type": "execute_result"
    }
   ],
   "source": [
    "3"
   ]
  },
  {
   "cell_type": "code",
   "execution_count": null,
   "metadata": {
    "collapsed": true
   },
   "outputs": [],
   "source": []
  },
  {
   "cell_type": "code",
   "execution_count": 6,
   "metadata": {
    "collapsed": true
   },
   "outputs": [],
   "source": [
    "from WebScrapper import *"
   ]
  },
  {
   "cell_type": "code",
   "execution_count": 7,
   "metadata": {},
   "outputs": [
    {
     "name": "stderr",
     "output_type": "stream",
     "text": [
      "/home/scarlet/anaconda3/envs/my_env/lib/python3.6/site-packages/urllib3/connectionpool.py:852: InsecureRequestWarning: Unverified HTTPS request is being made. Adding certificate verification is strongly advised. See: https://urllib3.readthedocs.io/en/latest/advanced-usage.html#ssl-warnings\n",
      "  InsecureRequestWarning)\n"
     ]
    }
   ],
   "source": [
    "bikroy = soupified_request('https://bikroy.com/en/ads/dhaka?query=laptop&sort=price_asc&by_paying_member=0&page=3')"
   ]
  },
  {
   "cell_type": "code",
   "execution_count": 8,
   "metadata": {},
   "outputs": [
    {
     "data": {
      "text/plain": [
       "'<!DOCTYPE html>\\n<html lang=\"en\">\\n <head>\\n  <meta content=\"IE=edge\" http-equiv=\"X-UA-Compatible\"/>\\n  <title>\\n   Marketplace in Dhaka on Bikroy.com | Bikroy\\n  </title>\\n  <link href=\"android-app://com.bikroy/bikroy/ads?page=3&amp;query=laptop&amp;sort=price&amp;order=asc&amp;location=1211\" rel=\"alternate\"/>\\n  <meta content=\"Buy and sell everything from second-hand cars to mobile phones, or even find a new home. Find a great deal in Dhaka or search all of Bangladesh!\" name=\"description\"/>\\n  <link href=\"https://bikroy.com/en/amp/ads/dhaka?query=laptop&amp;sort=price_asc&amp;by_paying_member=0&amp;page=3\" rel=\"amphtml\"/>\\n  <meta content=\"#149576\" name=\"theme-color\"/>\\n  <meta content=\"Fby1wz3clnhb00BBvcVaaqdUDHc-qCbAbTE19zkpyBo\" name=\"google-site-verification\"/>\\n  <meta content=\"BD-13\" name=\"geo.region\"/>\\n  <meta content=\"Dhaka\" name=\"geo.placename\"/>\\n  <meta content=\"width=device-width, user-scalable=yes, maximum-scale=1, initial-scale=1\" name=\"viewport\"/>\\n  <link data-page-stylesheet=\"\" href=\"/dist/15022765/css/lg/bikroy/serp.css\" rel=\"stylesheet\"/>\\n  <link href=\"https://w.bikroy-st.com/dist/img/all/icons/favicon-725a6b77.ico\" rel=\"shortcut icon\"/>\\n  <link href=\"/apple-touch-icon-precomposed.png\" rel=\"apple-touch-icon-precomposed\"/>\\n  <link href=\"#009877\" rel=\"msapplication-TileColor\"/>\\n  <link href=\"/metro-tile.png\" rel=\"msapplication-TileImage\"/>\\n  <script>\\n   var googletag = googletag || {};\\ngoogletag.cmd = googletag.cmd || [];\\n(function() {\\n\\tvar gads = document.createElement(\\'script\\');\\n\\tgads.async = true;\\n\\tgads.type = \\'text/javascript\\';\\n\\tvar useSSL = \\'https:\\' == document.location.protocol;\\n\\tgads.src = (useSSL ? \\'https:\\' : \\'http:\\') + \\'//www.googletagservices.com/tag/js/gpt.js\\';\\n\\tvar node = document.getElementsByTagName(\\'script\\')[0];\\n\\tnode.parentNode.insertBefore(gads, node);\\n})();\\ngoogletag.cmd.push(function() {\\n\\tgoogletag.defineSlot(\\'/134461134/Bikroy_EN_Desktop_SERP_728x90_Firstlistingpage_All\\', [[728, 90], [970, 90]], \\'div-gpt-ad-1491300315468-391\\').addService(googletag.pubads());\\ngoogletag.defineSlot(\\'/134461134/Bikroy_EN_Desktop_SERP_160x600_Firstlistingpage_All\\', [160, 600], \\'div-gpt-ad-1491300315468-373\\').addService(googletag.pubads());\\ngoogletag.defineSlot(\\'/134461134/Bikroy_EN_Desktop_SERPbottom_970x90_Firstlistingpage_All\\', [970, 90], \\'div-gpt-ad-1491300315468-407\\').addService(googletag.pubads());\\n\\tgoogletag.pubads().enableSingleRequest();\\n\\tgoogletag.enableServices();\\n});\\n  </script>\\n  <meta content=\"https://bikroy.com/en/ads/dhaka\" property=\"og:url\"/>\\n  <meta content=\"Bikroy.com\" property=\"og:site_name\"/>\\n  <meta content=\"Marketplace in Dhaka on Bikroy.com | Bikroy\" property=\"og:title\"/>\\n  <meta content=\"Buy and sell everything from second-hand cars to mobile phones, or even find a new home. Find a great deal in Dhaka or search all of Bangladesh!\" property=\"og:description\"/>\\n  <meta content=\"https://bikroy.com/facebook-opengraph.png\" property=\"og:image\"/>\\n  <link href=\"https://bikroy.com/en/ads/dhaka?page=2\" rel=\"prev\"/>\\n  <link href=\"https://bikroy.com/en/ads/dhaka?page=4\" rel=\"next\"/>\\n  <script>\\n   window.APIDATA = {};\\nwindow.CONFIG = {};\\nwindow.gtmData = [];\\n  </script>\\n </head>\\n <body class=\"on-serp-locationV2\" data-env=\"production\" data-market=\"bikroy\" data-os=\"\" data-os-ver=\"\">\\n  <nav class=\"ui-nav\">\\n   <div class=\"container\">\\n    <div class=\"ui-logo\">\\n     <a href=\"/en\">\\n      Bikroy.com\\n     </a>\\n    </div>\\n    <ul class=\"ui-nav-list\">\\n     <li class=\"ui-nav-item is-active force-show-label browse-ads\">\\n      <a href=\"/en/ads\" rel=\"\" target=\"\">\\n       <span class=\"hide-for-inactive\">\\n        All ads\\n       </span>\\n      </a>\\n     </li>\\n    </ul>\\n    <ul class=\"locales\">\\n     <li>\\n      <a href=\"/bn/ads/dhaka?query=laptop&amp;sort=price_asc&amp;by_paying_member=0&amp;page=3\" hreflang=\"bn\">\\n       বাংলা\\n      </a>\\n     </li>\\n    </ul>\\n    <ul class=\"ui-nav-list is-opposite\">\\n     <li class=\"ui-nav-item nav-chat is-not-logged-in\" data-modal-platforms=\"LG SM\" data-modal-selector=\".login-panel\">\\n      <a data-modal-platforms=\"LG SM\" data-modal-selector=\".login-panel\" href=\"/en/chat\" rel=\"nofollow\" target=\"\">\\n       <svg class=\"ui-icon i-chat chat-read-icon\">\\n        <use xlink:href=\"#i-chat\">\\n        </use>\\n       </svg>\\n       <span class=\"hide-for-inactive\">\\n       </span>\\n      </a>\\n     </li>\\n     <li class=\"ui-nav-item nav-chat is-logged-in\">\\n      <a href=\"/en/chat\" rel=\"nofollow\" target=\"\">\\n       <svg class=\"ui-icon i-chat chat-read-icon\">\\n        <use xlink:href=\"#i-chat\">\\n        </use>\\n       </svg>\\n       <svg class=\"ui-icon i-chat-notif-white-circle chat-unread-icon\" style=\"display: none;\">\\n        <use xlink:href=\"#i-chat-notif-white-circle\">\\n        </use>\\n       </svg>\\n       <span class=\"hide-for-inactive\">\\n       </span>\\n      </a>\\n     </li>\\n     <li class=\"ui-nav-item nav-dashboard\">\\n      <a href=\"/en/my/dashboard\" rel=\"nofollow\" target=\"\">\\n       <svg class=\"ui-icon i-user\">\\n        <use xlink:href=\"#i-user\">\\n        </use>\\n       </svg>\\n       <span class=\"hide-for-inactive\">\\n        My account\\n       </span>\\n      </a>\\n     </li>\\n     <li class=\"ui-nav-item nav-login\">\\n      <a href=\"/en/users/login\" rel=\"nofollow\" target=\"\">\\n       <svg class=\"ui-icon i-user\">\\n        <use xlink:href=\"#i-user\">\\n        </use>\\n       </svg>\\n       <span class=\"hide-for-inactive\">\\n        Log in\\n       </span>\\n      </a>\\n     </li>\\n     <li>\\n      <a class=\"ui-btn is-important btn-post\" href=\"/en/post-ad\" rel=\"nofollow\">\\n       <span class=\"h4 t-bold btn-post\">\\n        Post your ad\\n       </span>\\n      </a>\\n     </li>\\n    </ul>\\n   </div>\\n  </nav>\\n  <div class=\"alerts\">\\n   <div class=\"container\">\\n   </div>\\n  </div>\\n  <div class=\"app-content\">\\n   <div class=\"container main\">\\n    <div class=\"serp-listing\">\\n     <div class=\"ui-panel is-transparent serp-banner is-leaderboard t-center\">\\n      <div class=\"ui-panel-content ui-panel-block\">\\n       <div id=\"div-gpt-ad-1491300315468-391\">\\n        <script>\\n         googletag.cmd.push(function() { googletag.display(\\'div-gpt-ad-1491300315468-391\\'); });\\n        </script>\\n       </div>\\n      </div>\\n     </div>\\n     <div class=\"ui-panel is-rounded serp-panel\">\\n      <div class=\"ui-panel-header ui-panel-block\">\\n       <div class=\"row serp-search\">\\n        <div class=\"col-6 lg-3\">\\n         <div class=\"ui-buttons has-expanded\">\\n          <a class=\"ui-btn is-secondary set-location\" data-modal-selector=\".serp-locations\" href=\"/en/ads-locations?locationId=1211&amp;query=laptop\">\\n           <svg class=\"ui-icon i-pin is-inline\">\\n            <use xlink:href=\"#i-pin\">\\n            </use>\\n           </svg>\\n           Dhaka\\n          </a>\\n         </div>\\n        </div>\\n        <div class=\"col-6 lg-3\">\\n         <div class=\"ui-buttons has-expanded\">\\n          <a class=\"ui-btn is-secondary set-category\" data-modal-selector=\".serp-categories\" href=\"/en/ads-categories?locationId=1211&amp;query=laptop\">\\n           <svg class=\"ui-icon i-tag\">\\n            <use xlink:href=\"#i-tag\">\\n            </use>\\n           </svg>\\n           Select Category\\n          </a>\\n         </div>\\n        </div>\\n        <div class=\"col-12 lg-6\">\\n         <form class=\"ui-form is-inline\" method=\"GET\">\\n          <div class=\"row xs-adjust\">\\n           <div class=\"col-10 lg-8\">\\n            <input class=\"ui-input\" id=\"query\" name=\"query\" placeholder=\"What are you searching for?\" type=\"text\" value=\"laptop\"/>\\n           </div>\\n           <div class=\"col-2 lg-4 push\">\\n            <button class=\"ui-btn is-secondary\">\\n             <svg class=\"ui-icon i-search\">\\n              <use xlink:href=\"#i-search\">\\n              </use>\\n             </svg>\\n             Search\\n            </button>\\n           </div>\\n          </div>\\n         </form>\\n        </div>\\n       </div>\\n      </div>\\n      <div class=\"ui-panel-content ui-panel-block\">\\n       <div class=\"row\">\\n        <div class=\"col-12 lg-3 lg-filter-area\">\\n         <div class=\"ui-panel is-transparent\">\\n          <div class=\"ui-panel-content ui-panel-block\">\\n           <form action=\"/en/ads/dhaka?query=laptop&amp;sort=price_asc&amp;by_paying_member=0\" class=\"ui-form is-standard serp-filter-form\" method=\"GET\">\\n            <input class=\"ui-input\" id=\"query\" name=\"query\" type=\"hidden\" value=\"laptop\"/>\\n            <div class=\"ui-accordion\">\\n             <div class=\"ui-accordion-item is-static\">\\n              <a class=\"ui-accordion-title t-small\">\\n               <span>\\n                Sort results by:\\n               </span>\\n              </a>\\n              <div class=\"ui-accordion-content\">\\n               <ul class=\"ui-link-tree\">\\n                <li class=\"ui-link-tree-item\">\\n                 <div class=\"ui-field is-normal\">\\n                  <select class=\"ui-select filter-submit-trigger\" id=\"sort\" name=\"sort\">\\n                   <option value=\"date_desc\">\\n                    Date: Newest on top\\n                   </option>\\n                   <option value=\"date_asc\">\\n                    Date: Oldest on top\\n                   </option>\\n                   <option value=\"price_desc\">\\n                    Price: High to Low\\n                   </option>\\n                   <option selected=\"selected\" value=\"price_asc\">\\n                    Price: Low to High\\n                   </option>\\n                  </select>\\n                 </div>\\n                </li>\\n               </ul>\\n              </div>\\n             </div>\\n             <div class=\"ui-accordion-item is-static\">\\n              <a class=\"ui-accordion-title t-small\">\\n               <span>\\n                Type of poster\\n               </span>\\n              </a>\\n              <div class=\"ui-accordion-content\">\\n               <ul class=\"ui-link-tree\">\\n                <li class=\"ui-link-tree-item\">\\n                 <a href=\"#\">\\n                  <div class=\"ui-field is-inline\">\\n                   <label class=\"ui-label\">\\n                    <input checked=\"checked\" class=\"ui-radio filter-submit-trigger\" id=\"by_paying_member-0\" name=\"by_paying_member\" type=\"radio\" value=\"0\"/>\\n                    All posters\\n                   </label>\\n                  </div>\\n                 </a>\\n                </li>\\n                <li class=\"ui-link-tree-item\">\\n                 <a href=\"#\">\\n                  <div class=\"ui-field is-inline\">\\n                   <label class=\"ui-label\">\\n                    <input class=\"ui-radio filter-submit-trigger\" id=\"by_paying_member-1\" name=\"by_paying_member\" type=\"radio\" value=\"1\"/>\\n                    Only members\\n                   </label>\\n                  </div>\\n                 </a>\\n                </li>\\n               </ul>\\n              </div>\\n             </div>\\n             <div class=\"ui-accordion-item is-open\">\\n              <a class=\"ui-accordion-title t-small\">\\n               <span>\\n                Category:\\n               </span>\\n               <div class=\"ui-accordion-icon\">\\n                <svg class=\"ui-icon i-arrow-d\">\\n                 <use xlink:href=\"#i-arrow-d\">\\n                 </use>\\n                </svg>\\n               </div>\\n              </a>\\n              <div class=\"ui-accordion-content\">\\n               <ul class=\"ui-link-tree serp-category-links\">\\n                <li class=\"ui-link-tree-item is-active\">\\n                 <a class=\"cat-all\" href=\"/en/ads/dhaka?query=laptop&amp;sort=price_asc&amp;by_paying_member=0\">\\n                  <span class=\"text\">\\n                   All Categories\\n                  </span>\\n                 </a>\\n                 <ul class=\"ui-link-tree\">\\n                  <li class=\"ui-link-tree-item cat-229\">\\n                   <a href=\"/en/ads/dhaka/electronics?query=laptop&amp;sort=price_asc&amp;by_paying_member=0\">\\n                    <span class=\"icon\">\\n                     <span class=\"ui-sprite categories-18 electronics\">\\n                     </span>\\n                    </span>\\n                    <span class=\"text\">\\n                     Electronics\\n                     <span class=\"ui-badge\">\\n                      44,368\\n                     </span>\\n                    </span>\\n                   </a>\\n                  </li>\\n                  <li class=\"ui-link-tree-item cat-245\">\\n                   <a href=\"/en/ads/dhaka/home-garden?query=laptop&amp;sort=price_asc&amp;by_paying_member=0\">\\n                    <span class=\"icon\">\\n                     <span class=\"ui-sprite categories-18 home\">\\n                     </span>\\n                    </span>\\n                    <span class=\"text\">\\n                     Home &amp; Garden\\n                     <span class=\"ui-badge\">\\n                      12,643\\n                     </span>\\n                    </span>\\n                   </a>\\n                  </li>\\n                  <li class=\"ui-link-tree-item cat-210\">\\n                   <a href=\"/en/ads/dhaka/property?query=laptop&amp;sort=price_asc&amp;by_paying_member=0\">\\n                    <span class=\"icon\">\\n                     <span class=\"ui-sprite categories-18 property\">\\n                     </span>\\n                    </span>\\n                    <span class=\"text\">\\n                     Property\\n                     <span class=\"ui-badge\">\\n                      7,801\\n                     </span>\\n                    </span>\\n                   </a>\\n                  </li>\\n                  <li class=\"ui-link-tree-item cat-192\">\\n                   <a href=\"/en/ads/dhaka/cars-vehicles?query=laptop&amp;sort=price_asc&amp;by_paying_member=0\">\\n                    <span class=\"icon\">\\n                     <span class=\"ui-sprite categories-18 vehicles\">\\n                     </span>\\n                    </span>\\n                    <span class=\"text\">\\n                     Cars &amp; Vehicles\\n                     <span class=\"ui-badge\">\\n                      7,654\\n                     </span>\\n                    </span>\\n                   </a>\\n                  </li>\\n                  <li class=\"ui-link-tree-item cat-273\">\\n                   <a href=\"/en/ads/dhaka/clothing-health-beauty?query=laptop&amp;sort=price_asc&amp;by_paying_member=0\">\\n                    <span class=\"icon\">\\n                     <span class=\"ui-sprite categories-18 fashion\">\\n                     </span>\\n                    </span>\\n                    <span class=\"text\">\\n                     Clothing, Health &amp; Beauty\\n                     <span class=\"ui-badge\">\\n                      5,021\\n                     </span>\\n                    </span>\\n                   </a>\\n                  </li>\\n                  <li class=\"ui-link-tree-item cat-314\">\\n                   <a href=\"/en/ads/dhaka/hobby-sport-kids?query=laptop&amp;sort=price_asc&amp;by_paying_member=0\">\\n                    <span class=\"icon\">\\n                     <span class=\"ui-sprite categories-18 hobby\">\\n                     </span>\\n                    </span>\\n                    <span class=\"text\">\\n                     Hobby, Sport &amp; Kids\\n                     <span class=\"ui-badge\">\\n                      3,719\\n                     </span>\\n                    </span>\\n                   </a>\\n                  </li>\\n                  <li class=\"ui-link-tree-item cat-299\">\\n                   <a href=\"/en/ads/dhaka/pets-animals?query=laptop&amp;sort=price_asc&amp;by_paying_member=0\">\\n                    <span class=\"icon\">\\n                     <span class=\"ui-sprite categories-18 animals\">\\n                     </span>\\n                    </span>\\n                    <span class=\"text\">\\n                     Pets &amp; Animals\\n                     <span class=\"ui-badge\">\\n                      3,598\\n                     </span>\\n                    </span>\\n                   </a>\\n                  </li>\\n                  <li class=\"ui-link-tree-item cat-1100\">\\n                   <a href=\"/en/ads/dhaka/services?query=laptop&amp;sort=price_asc&amp;by_paying_member=0\">\\n                    <span class=\"icon\">\\n                     <span class=\"ui-sprite categories-18 services\">\\n                     </span>\\n                    </span>\\n                    <span class=\"text\">\\n                     Services\\n                     <span class=\"ui-badge\">\\n                      1,165\\n                     </span>\\n                    </span>\\n                   </a>\\n                  </li>\\n                  <li class=\"ui-link-tree-item cat-348\">\\n                   <a href=\"/en/ads/dhaka/business-industry?query=laptop&amp;sort=price_asc&amp;by_paying_member=0\">\\n                    <span class=\"icon\">\\n                     <span class=\"ui-sprite categories-18 business\">\\n                     </span>\\n                    </span>\\n                    <span class=\"text\">\\n                     Business &amp; Industry\\n                     <span class=\"ui-badge\">\\n                      949\\n                     </span>\\n                    </span>\\n                   </a>\\n                  </li>\\n                  <li class=\"ui-link-tree-item cat-381\">\\n                   <a href=\"/en/ads/dhaka/education?query=laptop&amp;sort=price_asc&amp;by_paying_member=0\">\\n                    <span class=\"icon\">\\n                     <span class=\"ui-sprite categories-18 education\">\\n                     </span>\\n                    </span>\\n                    <span class=\"text\">\\n                     Education\\n                     <span class=\"ui-badge\">\\n                      869\\n                     </span>\\n                    </span>\\n                   </a>\\n                  </li>\\n                  <li class=\"ui-link-tree-item cat-390\">\\n                   <a href=\"/en/ads/dhaka/other?query=laptop&amp;sort=price_asc&amp;by_paying_member=0\">\\n                    <span class=\"icon\">\\n                     <span class=\"ui-sprite categories-18 other\">\\n                     </span>\\n                    </span>\\n                    <span class=\"text\">\\n                     Other\\n                     <span class=\"ui-badge\">\\n                      405\\n                     </span>\\n                    </span>\\n                   </a>\\n                  </li>\\n                  <li class=\"ui-link-tree-item cat-594\">\\n                   <a href=\"/en/ads/dhaka/food-agriculture?query=laptop&amp;sort=price_asc&amp;by_paying_member=0\">\\n                    <span class=\"icon\">\\n                     <span class=\"ui-sprite categories-18 food\">\\n                     </span>\\n                    </span>\\n                    <span class=\"text\">\\n                     Food &amp; Agriculture\\n                     <span class=\"ui-badge\">\\n                      261\\n                     </span>\\n                    </span>\\n                   </a>\\n                  </li>\\n                  <li class=\"ui-link-tree-item cat-400\">\\n                   <a href=\"/en/ads/dhaka/overseas-jobs?query=laptop&amp;sort=price_asc&amp;by_paying_member=0\">\\n                    <span class=\"icon\">\\n                     <span class=\"ui-sprite categories-18 overseas_jobs\">\\n                     </span>\\n                    </span>\\n                    <span class=\"text\">\\n                     Overseas Jobs\\n                     <span class=\"ui-badge\">\\n                      13\\n                     </span>\\n                    </span>\\n                   </a>\\n                  </li>\\n                 </ul>\\n                 <ul class=\"ui-link-tree\">\\n                 </ul>\\n                </li>\\n               </ul>\\n              </div>\\n             </div>\\n             <div class=\"ui-accordion-item is-open\">\\n              <a class=\"ui-accordion-title t-small\">\\n               <span>\\n                Location:\\n               </span>\\n               <div class=\"ui-accordion-icon\">\\n                <svg class=\"ui-icon i-arrow-d\">\\n                 <use xlink:href=\"#i-arrow-d\">\\n                 </use>\\n                </svg>\\n               </div>\\n              </a>\\n              <div class=\"ui-accordion-content\">\\n               <ul class=\"ui-link-tree serp-location-links is-collapsed\">\\n                <li class=\"ui-link-tree-item\">\\n                 <a class=\"loc-all\" href=\"/en/ads?query=laptop&amp;sort=price_asc&amp;by_paying_member=0\">\\n                  <span class=\"text has-indicator\">\\n                   All of Bangladesh\\n                  </span>\\n                 </a>\\n                 <ul class=\"ui-link-tree\">\\n                  <li class=\"ui-link-tree-item is-active loc-1211\">\\n                   <a href=\"/en/ads/dhaka?query=laptop&amp;sort=price_asc&amp;by_paying_member=0\">\\n                    <span class=\"text has-indicator\">\\n                     Dhaka\\n                    </span>\\n                   </a>\\n                   <ul class=\"ui-link-tree\">\\n                    <li class=\"ui-link-tree-item loc-1255\">\\n                     <a href=\"/en/ads/mirpur?query=laptop&amp;sort=price_asc&amp;by_paying_member=0\">\\n                      <span class=\"text\">\\n                       Mirpur\\n                       <span class=\"ui-badge\">\\n                        16,544\\n                       </span>\\n                      </span>\\n                     </a>\\n                    </li>\\n                    <li class=\"ui-link-tree-item loc-1292\">\\n                     <a href=\"/en/ads/uttara?query=laptop&amp;sort=price_asc&amp;by_paying_member=0\">\\n                      <span class=\"text\">\\n                       Uttara\\n                       <span class=\"ui-badge\">\\n                        9,257\\n                       </span>\\n                      </span>\\n                     </a>\\n                    </li>\\n                    <li class=\"ui-link-tree-item loc-1232\">\\n                     <a href=\"/en/ads/dhanmondi?query=laptop&amp;sort=price_asc&amp;by_paying_member=0\">\\n                      <span class=\"text\">\\n                       Dhanmondi\\n                       <span class=\"ui-badge\">\\n                        8,153\\n                       </span>\\n                      </span>\\n                     </a>\\n                    </li>\\n                    <li class=\"ui-link-tree-item loc-4068\">\\n                     <a href=\"/en/ads/gulshan?query=laptop&amp;sort=price_asc&amp;by_paying_member=0\">\\n                      <span class=\"text\">\\n                       Gulshan\\n                       <span class=\"ui-badge\">\\n                        5,951\\n                       </span>\\n                      </span>\\n                     </a>\\n                    </li>\\n                    <li class=\"ui-link-tree-item loc-1259\">\\n                     <a href=\"/en/ads/mohammadpur?query=laptop&amp;sort=price_asc&amp;by_paying_member=0\">\\n                      <span class=\"text\">\\n                       Mohammadpur\\n                       <span class=\"ui-badge\">\\n                        5,564\\n                       </span>\\n                      </span>\\n                     </a>\\n                    </li>\\n                    <li class=\"ui-link-tree-item loc-1215\">\\n                     <a href=\"/en/ads/badda?query=laptop&amp;sort=price_asc&amp;by_paying_member=0\">\\n                      <span class=\"text\">\\n                       Badda\\n                       <span class=\"ui-badge\">\\n                        2,575\\n                       </span>\\n                      </span>\\n                     </a>\\n                    </li>\\n                    <li class=\"ui-link-tree-item loc-1217\">\\n                     <a href=\"/en/ads/banani?query=laptop&amp;sort=price_asc&amp;by_paying_member=0\">\\n                      <span class=\"text\">\\n                       Banani\\n                       <span class=\"ui-badge\">\\n                        1,671\\n                       </span>\\n                      </span>\\n                     </a>\\n                    </li>\\n                    <li class=\"ui-link-tree-item loc-1218\">\\n                     <a href=\"/en/ads/banani-dohs?query=laptop&amp;sort=price_asc&amp;by_paying_member=0\">\\n                      <span class=\"text\">\\n                       Banani DOHS\\n                       <span class=\"ui-badge\">\\n                        45\\n                       </span>\\n                      </span>\\n                     </a>\\n                    </li>\\n                    <li class=\"ui-link-tree-item loc-4082\">\\n                     <a href=\"/en/ads/banglamotor?query=laptop&amp;sort=price_asc&amp;by_paying_member=0\">\\n                      <span class=\"text\">\\n                       Banglamotor\\n                       <span class=\"ui-badge\">\\n                        549\\n                       </span>\\n                      </span>\\n                     </a>\\n                    </li>\\n                    <li class=\"ui-link-tree-item loc-1220\">\\n                     <a href=\"/en/ads/bangshal?query=laptop&amp;sort=price_asc&amp;by_paying_member=0\">\\n                      <span class=\"text\">\\n                       Bangshal\\n                       <span class=\"ui-badge\">\\n                        534\\n                       </span>\\n                      </span>\\n                     </a>\\n                    </li>\\n                    <li class=\"ui-link-tree-item loc-1221\">\\n                     <a href=\"/en/ads/baridhara?query=laptop&amp;sort=price_asc&amp;by_paying_member=0\">\\n                      <span class=\"text\">\\n                       Baridhara\\n                       <span class=\"ui-badge\">\\n                        1,525\\n                       </span>\\n                      </span>\\n                     </a>\\n                    </li>\\n                    <li class=\"ui-link-tree-item loc-1279\">\\n                     <a href=\"/en/ads/basabo?query=laptop&amp;sort=price_asc&amp;by_paying_member=0\">\\n                      <span class=\"text\">\\n                       Basabo\\n                       <span class=\"ui-badge\">\\n                        568\\n                       </span>\\n                      </span>\\n                     </a>\\n                    </li>\\n                    <li class=\"ui-link-tree-item loc-1224\">\\n                     <a href=\"/en/ads/basundhara?query=laptop&amp;sort=price_asc&amp;by_paying_member=0\">\\n                      <span class=\"text\">\\n                       Basundhara\\n                       <span class=\"ui-badge\">\\n                        2,395\\n                       </span>\\n                      </span>\\n                     </a>\\n                    </li>\\n                    <li class=\"ui-link-tree-item loc-1226\">\\n                     <a href=\"/en/ads/cantonment?query=laptop&amp;sort=price_asc&amp;by_paying_member=0\">\\n                      <span class=\"text\">\\n                       Cantonment\\n                       <span class=\"ui-badge\">\\n                        595\\n                       </span>\\n                      </span>\\n                     </a>\\n                    </li>\\n                    <li class=\"ui-link-tree-item loc-1227\">\\n                     <a href=\"/en/ads/chaukbazar?query=laptop&amp;sort=price_asc&amp;by_paying_member=0\">\\n                      <span class=\"text\">\\n                       Chaukbazar\\n                       <span class=\"ui-badge\">\\n                        217\\n                       </span>\\n                      </span>\\n                     </a>\\n                    </li>\\n                    <li class=\"ui-link-tree-item loc-1230\">\\n                     <a href=\"/en/ads/demra?query=laptop&amp;sort=price_asc&amp;by_paying_member=0\">\\n                      <span class=\"text\">\\n                       Demra\\n                       <span class=\"ui-badge\">\\n                        616\\n                       </span>\\n                      </span>\\n                     </a>\\n                    </li>\\n                    <li class=\"ui-link-tree-item loc-1231\">\\n                     <a href=\"/en/ads/dhamrai?query=laptop&amp;sort=price_asc&amp;by_paying_member=0\">\\n                      <span class=\"text\">\\n                       Dhamrai\\n                       <span class=\"ui-badge\">\\n                        92\\n                       </span>\\n                      </span>\\n                     </a>\\n                    </li>\\n                    <li class=\"ui-link-tree-item loc-1233\">\\n                     <a href=\"/en/ads/dohar?query=laptop&amp;sort=price_asc&amp;by_paying_member=0\">\\n                      <span class=\"text\">\\n                       Dohar\\n                       <span class=\"ui-badge\">\\n                        51\\n                       </span>\\n                      </span>\\n                     </a>\\n                    </li>\\n                    <li class=\"ui-link-tree-item loc-1235\">\\n                     <a href=\"/en/ads/elephant-road?query=laptop&amp;sort=price_asc&amp;by_paying_member=0\">\\n                      <span class=\"text\">\\n                       Elephant Road\\n                       <span class=\"ui-badge\">\\n                        3,469\\n                       </span>\\n                      </span>\\n                     </a>\\n                    </li>\\n                    <li class=\"ui-link-tree-item loc-1241\">\\n                     <a href=\"/en/ads/hazaribagh?query=laptop&amp;sort=price_asc&amp;by_paying_member=0\">\\n                      <span class=\"text\">\\n                       Hazaribagh\\n                       <span class=\"ui-badge\">\\n                        245\\n                       </span>\\n                      </span>\\n                     </a>\\n                    </li>\\n                    <li class=\"ui-link-tree-item loc-1242\">\\n                     <a href=\"/en/ads/jatrabari?query=laptop&amp;sort=price_asc&amp;by_paying_member=0\">\\n                      <span class=\"text\">\\n                       Jatrabari\\n                       <span class=\"ui-badge\">\\n                        2,942\\n                       </span>\\n                      </span>\\n                     </a>\\n                    </li>\\n                    <li class=\"ui-link-tree-item loc-1245\">\\n                     <a href=\"/en/ads/kafrul?query=laptop&amp;sort=price_asc&amp;by_paying_member=0\">\\n                      <span class=\"text\">\\n                       Kafrul\\n                       <span class=\"ui-badge\">\\n                        163\\n                       </span>\\n                      </span>\\n                     </a>\\n                    </li>\\n                    <li class=\"ui-link-tree-item loc-1249\">\\n                     <a href=\"/en/ads/kamrangirchar?query=laptop&amp;sort=price_asc&amp;by_paying_member=0\">\\n                      <span class=\"text\">\\n                       Kamrangirchar\\n                       <span class=\"ui-badge\">\\n                        214\\n                       </span>\\n                      </span>\\n                     </a>\\n                    </li>\\n                    <li class=\"ui-link-tree-item loc-1251\">\\n                     <a href=\"/en/ads/kawranbazar?query=laptop&amp;sort=price_asc&amp;by_paying_member=0\">\\n                      <span class=\"text\">\\n                       Kawranbazar\\n                       <span class=\"ui-badge\">\\n                        1,059\\n                       </span>\\n                      </span>\\n                     </a>\\n                    </li>\\n                    <li class=\"ui-link-tree-item loc-1253\">\\n                     <a href=\"/en/ads/keraniganj?query=laptop&amp;sort=price_asc&amp;by_paying_member=0\">\\n                      <span class=\"text\">\\n                       Keraniganj\\n                       <span class=\"ui-badge\">\\n                        945\\n                       </span>\\n                      </span>\\n                     </a>\\n                    </li>\\n                    <li class=\"ui-link-tree-item loc-1254\">\\n                     <a href=\"/en/ads/khilgaon?query=laptop&amp;sort=price_asc&amp;by_paying_member=0\">\\n                      <span class=\"text\">\\n                       Khilgaon\\n                       <span class=\"ui-badge\">\\n                        1,827\\n                       </span>\\n                      </span>\\n                     </a>\\n                    </li>\\n                    <li class=\"ui-link-tree-item loc-4081\">\\n                     <a href=\"/en/ads/khilkhet?query=laptop&amp;sort=price_asc&amp;by_paying_member=0\">\\n                      <span class=\"text\">\\n                       Khilkhet\\n                       <span class=\"ui-badge\">\\n                        966\\n                       </span>\\n                      </span>\\n                     </a>\\n                    </li>\\n                    <li class=\"ui-link-tree-item loc-3579\">\\n                     <a href=\"/en/ads/kotowali?query=laptop&amp;sort=price_asc&amp;by_paying_member=0\">\\n                      <span class=\"text\">\\n                       Kotowali\\n                       <span class=\"ui-badge\">\\n                        141\\n                       </span>\\n                      </span>\\n                     </a>\\n                    </li>\\n                    <li class=\"ui-link-tree-item loc-3580\">\\n                     <a href=\"/en/ads/lalbag?query=laptop&amp;sort=price_asc&amp;by_paying_member=0\">\\n                      <span class=\"text\">\\n                       Lalbag\\n                       <span class=\"ui-badge\">\\n                        895\\n                       </span>\\n                      </span>\\n                     </a>\\n                    </li>\\n                    <li class=\"ui-link-tree-item loc-3582\">\\n                     <a href=\"/en/ads/malibag?query=laptop&amp;sort=price_asc&amp;by_paying_member=0\">\\n                      <span class=\"text\">\\n                       Malibag\\n                       <span class=\"ui-badge\">\\n                        1,550\\n                       </span>\\n                      </span>\\n                     </a>\\n                    </li>\\n                    <li class=\"ui-link-tree-item loc-1256\">\\n                     <a href=\"/en/ads/mirpur-dohs?query=laptop&amp;sort=price_asc&amp;by_paying_member=0\">\\n                      <span class=\"text\">\\n                       Mirpur DOHS\\n                       <span class=\"ui-badge\">\\n                        125\\n                       </span>\\n                      </span>\\n                     </a>\\n                    </li>\\n                    <li class=\"ui-link-tree-item loc-4080\">\\n                     <a href=\"/en/ads/mogbazar?query=laptop&amp;sort=price_asc&amp;by_paying_member=0\">\\n                      <span class=\"text\">\\n                       Mogbazar\\n                       <span class=\"ui-badge\">\\n                        946\\n                       </span>\\n                      </span>\\n                     </a>\\n                    </li>\\n                    <li class=\"ui-link-tree-item loc-4079\">\\n                     <a href=\"/en/ads/mohakhali?query=laptop&amp;sort=price_asc&amp;by_paying_member=0\">\\n                      <span class=\"text\">\\n                       Mohakhali\\n                       <span class=\"ui-badge\">\\n                        599\\n                       </span>\\n                      </span>\\n                     </a>\\n                    </li>\\n                    <li class=\"ui-link-tree-item loc-4088\">\\n                     <a href=\"/en/ads/mohakhali-dohs?query=laptop&amp;sort=price_asc&amp;by_paying_member=0\">\\n                      <span class=\"text\">\\n                       Mohakhali DOHS\\n                       <span class=\"ui-badge\">\\n                        153\\n                       </span>\\n                      </span>\\n                     </a>\\n                    </li>\\n                    <li class=\"ui-link-tree-item loc-1260\">\\n                     <a href=\"/en/ads/motijheel?query=laptop&amp;sort=price_asc&amp;by_paying_member=0\">\\n                      <span class=\"text\">\\n                       Motijheel\\n                       <span class=\"ui-badge\">\\n                        2,536\\n                       </span>\\n                      </span>\\n                     </a>\\n                    </li>\\n                    <li class=\"ui-link-tree-item loc-1263\">\\n                     <a href=\"/en/ads/nawabganj?query=laptop&amp;sort=price_asc&amp;by_paying_member=0\">\\n                      <span class=\"text\">\\n                       Nawabganj\\n                       <span class=\"ui-badge\">\\n                        78\\n                       </span>\\n                      </span>\\n                     </a>\\n                    </li>\\n                    <li class=\"ui-link-tree-item loc-4078\">\\n                     <a href=\"/en/ads/new-market?query=laptop&amp;sort=price_asc&amp;by_paying_member=0\">\\n                      <span class=\"text\">\\n                       New Market\\n                       <span class=\"ui-badge\">\\n                        427\\n                       </span>\\n                      </span>\\n                     </a>\\n                    </li>\\n                    <li class=\"ui-link-tree-item loc-4069\">\\n                     <a href=\"/en/ads/paltan?query=laptop&amp;sort=price_asc&amp;by_paying_member=0\">\\n                      <span class=\"text\">\\n                       Paltan\\n                       <span class=\"ui-badge\">\\n                        1,385\\n                       </span>\\n                      </span>\\n                     </a>\\n                    </li>\\n                    <li class=\"ui-link-tree-item loc-1272\">\\n                     <a href=\"/en/ads/purbachal?query=laptop&amp;sort=price_asc&amp;by_paying_member=0\">\\n                      <span class=\"text\">\\n                       Purbachal\\n                       <span class=\"ui-badge\">\\n                        702\\n                       </span>\\n                      </span>\\n                     </a>\\n                    </li>\\n                    <li class=\"ui-link-tree-item loc-1275\">\\n                     <a href=\"/en/ads/ramna?query=laptop&amp;sort=price_asc&amp;by_paying_member=0\">\\n                      <span class=\"text\">\\n                       Ramna\\n                       <span class=\"ui-badge\">\\n                        615\\n                       </span>\\n                      </span>\\n                     </a>\\n                    </li>\\n                    <li class=\"ui-link-tree-item loc-1276\">\\n                     <a href=\"/en/ads/rampura?query=laptop&amp;sort=price_asc&amp;by_paying_member=0\">\\n                      <span class=\"text\">\\n                       Rampura\\n                       <span class=\"ui-badge\">\\n                        2,044\\n                       </span>\\n                      </span>\\n                     </a>\\n                    </li>\\n                    <li class=\"ui-link-tree-item loc-1281\">\\n                     <a href=\"/en/ads/savar?query=laptop&amp;sort=price_asc&amp;by_paying_member=0\">\\n                      <span class=\"text\">\\n                       Savar\\n                       <span class=\"ui-badge\">\\n                        3,056\\n                       </span>\\n                      </span>\\n                     </a>\\n                    </li>\\n                    <li class=\"ui-link-tree-item loc-1284\">\\n                     <a href=\"/en/ads/shajahanpur?query=laptop&amp;sort=price_asc&amp;by_paying_member=0\">\\n                      <span class=\"text\">\\n                       Shajahanpur\\n                       <span class=\"ui-badge\">\\n                        156\\n                       </span>\\n                      </span>\\n                     </a>\\n                    </li>\\n                    <li class=\"ui-link-tree-item loc-1290\">\\n                     <a href=\"/en/ads/sutrapur?query=laptop&amp;sort=price_asc&amp;by_paying_member=0\">\\n                      <span class=\"text\">\\n                       Sutrapur\\n                       <span class=\"ui-badge\">\\n                        533\\n                       </span>\\n                      </span>\\n                     </a>\\n                    </li>\\n                    <li class=\"ui-link-tree-item loc-1291\">\\n                     <a href=\"/en/ads/tejgaon?query=laptop&amp;sort=price_asc&amp;by_paying_member=0\">\\n                      <span class=\"text\">\\n                       Tejgaon\\n                       <span class=\"ui-badge\">\\n                        2,159\\n                       </span>\\n                      </span>\\n                     </a>\\n                    </li>\\n                    <li class=\"ui-link-tree-item loc-4076\">\\n                     <a href=\"/en/ads/tongi?query=laptop&amp;sort=price_asc&amp;by_paying_member=0\">\\n                      <span class=\"text\">\\n                       Tongi\\n                       <span class=\"ui-badge\">\\n                        733\\n                       </span>\\n                      </span>\\n                     </a>\\n                    </li>\\n                    <li class=\"ui-link-tree-item loc-1294\">\\n                     <a href=\"/en/ads/wari?query=laptop&amp;sort=price_asc&amp;by_paying_member=0\">\\n                      <span class=\"text\">\\n                       Wari\\n                       <span class=\"ui-badge\">\\n                        901\\n                       </span>\\n                      </span>\\n                     </a>\\n                    </li>\\n                    <li class=\"ui-link-tree-item is-opener\">\\n                     <a>\\n                      <span class=\"icon\">\\n                       <svg class=\"ui-icon i-add\">\\n                        <use xlink:href=\"#i-add\">\\n                        </use>\\n                       </svg>\\n                      </span>\\n                      <span class=\"text\">\\n                       Show more...\\n                      </span>\\n                     </a>\\n                    </li>\\n                   </ul>\\n                  </li>\\n                 </ul>\\n                </li>\\n               </ul>\\n              </div>\\n             </div>\\n            </div>\\n           </form>\\n          </div>\\n         </div>\\n        </div>\\n        <div class=\"col-12 lg-9\">\\n         <div class=\"ui-panel is-transparent serp-results\">\\n          <div class=\"ui-panel-content ui-panel-block\">\\n           <div class=\"row\">\\n            <div class=\"col-12\">\\n             <div class=\"serp-summary\">\\n              <nav class=\"ui-crumbs\">\\n               <ol itemscope=\"itemscope\" itemtype=\"http://schema.org/BreadcrumbList\">\\n                <li class=\"ui-crumb breadcrumb\" itemprop=\"itemListElement\" itemscope=\"itemscope\" itemtype=\"http://schema.org/ListItem\">\\n                 <a href=\"https://bikroy.com/en\" itemprop=\"item\">\\n                  <span itemprop=\"name\">\\n                   Home\\n                  </span>\\n                  <meta content=\"1\" itemprop=\"position\"/>\\n                 </a>\\n                </li>\\n                <li class=\"ui-crumb breadcrumb\" itemprop=\"itemListElement\" itemscope=\"itemscope\" itemtype=\"http://schema.org/ListItem\">\\n                 <a href=\"https://bikroy.com/en/ads\" itemprop=\"item\">\\n                  <span itemprop=\"name\">\\n                   All ads\\n                  </span>\\n                  <meta content=\"2\" itemprop=\"position\"/>\\n                 </a>\\n                </li>\\n                <li class=\"ui-crumb breadcrumb\" itemprop=\"itemListElement\" itemscope=\"itemscope\" itemtype=\"http://schema.org/ListItem\">\\n                 <span itemprop=\"name\">\\n                  Dhaka\\n                 </span>\\n                 <meta content=\"3\" itemprop=\"position\"/>\\n                </li>\\n               </ol>\\n              </nav>\\n              <div>\\n               <span class=\"t-small summary-count\">\\n                Showing 51-75 of 2,400 ads for\\n                <span>\\n                 \"laptop\"\\n                </span>\\n                .\\n               </span>\\n              </div>\\n              <h1 class=\"header-tag\">\\n               Ads in Dhaka\\n              </h1>\\n             </div>\\n            </div>\\n           </div>\\n           <div class=\"row lg-g\">\\n            <div class=\"col-12 lg-9\">\\n             <div class=\"serp-items\">\\n              <div class=\"ui-item is-top\">\\n               <div class=\"item-thumb has-frames\">\\n                <a href=\"/en/ad/dell-laptop-battery-for-sale-dhaka-27\">\\n                 <img alt=\"Computer Accessories-Dhaka - Dell Laptop Battery\" data-srcset=\"//i.bikroy-st.com/86e91a60-9445-4828-aac1-d754fe7e3428/160/120/cropped.jpg 1x, //i.bikroy-st.com/86e91a60-9445-4828-aac1-d754fe7e3428/320/240/cropped.jpg 1.3x\" title=\"Dell Laptop Battery\"/>\\n                </a>\\n               </div>\\n               <div class=\"item-content\">\\n                <a class=\"item-title h4\" href=\"/en/ad/dell-laptop-battery-for-sale-dhaka-27\">\\n                 Dell Laptop Battery\\n                </a>\\n                <p class=\"item-location\">\\n                 <span class=\"ui-bubble is-member\">\\n                  MEMBER\\n                 </span>\\n                 <span>\\n                  20 Jul 12:12 pm\\n                 </span>\\n                 <span>\\n                  ,\\n                 </span>\\n                 <span class=\"item-area\">\\n                  Dhaka\\n                 </span>\\n                 <span>\\n                  ,\\n                 </span>\\n                 <span class=\"item-cat\">\\n                  Computer Accessories\\n                 </span>\\n                </p>\\n                <p class=\"item-info\">\\n                 <strong>\\n                  Tk 1,450\\n                 </strong>\\n                </p>\\n               </div>\\n               <div class=\"item-extras\">\\n                <a class=\"item-promotion\" href=\"/en/promotions\">\\n                 <img data-srcset=\"https://w.bikroy-st.com/dist/img/all/products/18/topad-1x-bb475439.png 1x, https://w.bikroy-st.com/dist/img/all/products/18/topad-2x-b8940959.png 1.3x\" height=\"18\" width=\"18\"/>\\n                 <span>\\n                  TOP AD\\n                 </span>\\n                </a>\\n                <script type=\"application/ld+json\">\\n                 {\\n\\t\"name\": \"Dell Laptop Battery\",\\n\\t\"@context\": \"http://schema.org\",\\n\\t\"@type\": \"Offer\",\\n\\t\"availability\": \"http://schema.org/InStock\",\\n\\t\"price\": \"1,450\",\\n\\t\"priceCurrency\": \"Tk\",\\n\\t\"url\": \"http://bikroy.com/en/ad/dell-laptop-battery-for-sale-dhaka-27\"\\n}\\n                </script>\\n               </div>\\n              </div>\\n              <div class=\"ui-item is-top\">\\n               <div class=\"item-thumb has-frames\">\\n                <a href=\"/en/ad/hp-elitbook-8470p-intel-i5-new-laptop-for-sale-dhaka\">\\n                 <img alt=\"Computers &amp; Tablets-Dhaka - HP ElitBook 8470p Intel i5 New Laptop\" data-srcset=\"//i.bikroy-st.com/67280a41-81d3-4f4d-a5fa-634433648d76/160/120/cropped.jpg 1x, //i.bikroy-st.com/67280a41-81d3-4f4d-a5fa-634433648d76/320/240/cropped.jpg 1.3x\" title=\"HP ElitBook 8470p Intel i5 New Laptop\"/>\\n                </a>\\n               </div>\\n               <div class=\"item-content\">\\n                <a class=\"item-title h4\" href=\"/en/ad/hp-elitbook-8470p-intel-i5-new-laptop-for-sale-dhaka\">\\n                 HP ElitBook 8470p Intel i5 New Laptop\\n                </a>\\n                <p class=\"item-location\">\\n                 <span class=\"ui-bubble is-member\">\\n                  MEMBER\\n                 </span>\\n                 <span>\\n                  28 Jul  2:58 am\\n                 </span>\\n                 <span>\\n                  ,\\n                 </span>\\n                 <span class=\"item-area\">\\n                  Dhaka\\n                 </span>\\n                 <span>\\n                  ,\\n                 </span>\\n                 <span class=\"item-cat\">\\n                  Computers &amp; Tablets\\n                 </span>\\n                </p>\\n                <p class=\"item-info\">\\n                 <strong>\\n                  Tk 19,000\\n                 </strong>\\n                </p>\\n               </div>\\n               <div class=\"item-extras\">\\n                <a class=\"item-promotion\" href=\"/en/promotions\">\\n                 <img data-srcset=\"https://w.bikroy-st.com/dist/img/all/products/18/topad-1x-bb475439.png 1x, https://w.bikroy-st.com/dist/img/all/products/18/topad-2x-b8940959.png 1.3x\" height=\"18\" width=\"18\"/>\\n                 <span>\\n                  TOP AD\\n                 </span>\\n                </a>\\n                <script type=\"application/ld+json\">\\n                 {\\n\\t\"name\": \"HP ElitBook 8470p Intel i5 New Laptop\",\\n\\t\"@context\": \"http://schema.org\",\\n\\t\"@type\": \"Offer\",\\n\\t\"availability\": \"http://schema.org/InStock\",\\n\\t\"price\": \"19,000\",\\n\\t\"priceCurrency\": \"Tk\",\\n\\t\"url\": \"http://bikroy.com/en/ad/hp-elitbook-8470p-intel-i5-new-laptop-for-sale-dhaka\"\\n}\\n                </script>\\n               </div>\\n              </div>\\n              <div class=\"ui-item\">\\n               <div class=\"item-thumb has-frames\">\\n                <a href=\"/en/ad/laptop-keyboard-for-sale-dhaka-260\">\\n                 <img alt=\"Computer Accessories-Dhaka - laptop keyboard\" data-srcset=\"//i.bikroy-st.com/b658f9ae-b42c-4b1e-bf57-3ea0a3297543/136/102/cropped.jpg 1x, //i.bikroy-st.com/b658f9ae-b42c-4b1e-bf57-3ea0a3297543/272/204/cropped.jpg 1.3x\" title=\"laptop keyboard\"/>\\n                </a>\\n               </div>\\n               <div class=\"item-content\">\\n                <a class=\"item-title h4\" href=\"/en/ad/laptop-keyboard-for-sale-dhaka-260\">\\n                 laptop keyboard\\n                </a>\\n                <p class=\"item-location\">\\n                 <span class=\"ui-bubble is-member\">\\n                  MEMBER\\n                 </span>\\n                 <span>\\n                  23 Jul  2:20 pm\\n                 </span>\\n                 <span>\\n                  ,\\n                 </span>\\n                 <span class=\"item-area\">\\n                  Dhaka\\n                 </span>\\n                 <span>\\n                  ,\\n                 </span>\\n                 <span class=\"item-cat\">\\n                  Computer Accessories\\n                 </span>\\n                </p>\\n                <p class=\"item-info\">\\n                 <strong>\\n                  Tk 500\\n                 </strong>\\n                </p>\\n               </div>\\n               <div class=\"item-extras\">\\n                <script type=\"application/ld+json\">\\n                 {\\n\\t\"name\": \"laptop keyboard\",\\n\\t\"@context\": \"http://schema.org\",\\n\\t\"@type\": \"Offer\",\\n\\t\"availability\": \"http://schema.org/InStock\",\\n\\t\"price\": \"500\",\\n\\t\"priceCurrency\": \"Tk\",\\n\\t\"url\": \"http://bikroy.com/en/ad/laptop-keyboard-for-sale-dhaka-260\"\\n}\\n                </script>\\n               </div>\\n              </div>\\n              <div class=\"ui-item\">\\n               <div class=\"item-thumb has-frames\">\\n                <a href=\"/en/ad/laptop-keyboard-for-sale-dhaka-278\">\\n                 <img alt=\"Computer Accessories-Dhaka - laptop keyboard\" data-srcset=\"//i.bikroy-st.com/dd82362b-9067-4f2f-8ae2-56a9826c9134/136/102/cropped.jpg 1x, //i.bikroy-st.com/dd82362b-9067-4f2f-8ae2-56a9826c9134/272/204/cropped.jpg 1.3x\" title=\"laptop keyboard\"/>\\n                </a>\\n               </div>\\n               <div class=\"item-content\">\\n                <a class=\"item-title h4\" href=\"/en/ad/laptop-keyboard-for-sale-dhaka-278\">\\n                 laptop keyboard\\n                </a>\\n                <p class=\"item-location\">\\n                 <span class=\"ui-bubble is-member\">\\n                  MEMBER\\n                 </span>\\n                 <span>\\n                  23 Jul  4:14 pm\\n                 </span>\\n                 <span>\\n                  ,\\n                 </span>\\n                 <span class=\"item-area\">\\n                  Dhaka\\n                 </span>\\n                 <span>\\n                  ,\\n                 </span>\\n                 <span class=\"item-cat\">\\n                  Computer Accessories\\n                 </span>\\n                </p>\\n                <p class=\"item-info\">\\n                 <strong>\\n                  Tk 500\\n                 </strong>\\n                </p>\\n               </div>\\n               <div class=\"item-extras\">\\n                <script type=\"application/ld+json\">\\n                 {\\n\\t\"name\": \"laptop keyboard\",\\n\\t\"@context\": \"http://schema.org\",\\n\\t\"@type\": \"Offer\",\\n\\t\"availability\": \"http://schema.org/InStock\",\\n\\t\"price\": \"500\",\\n\\t\"priceCurrency\": \"Tk\",\\n\\t\"url\": \"http://bikroy.com/en/ad/laptop-keyboard-for-sale-dhaka-278\"\\n}\\n                </script>\\n               </div>\\n              </div>\\n              <div class=\"ui-item\">\\n               <div class=\"item-thumb has-frames\">\\n                <a href=\"/en/ad/laptop-keyboard-for-sale-dhaka-263\">\\n                 <img alt=\"Computer Accessories-Dhaka - laptop keyboard\" data-srcset=\"//i.bikroy-st.com/867874e2-98df-4669-83e9-3b25066b6e0d/136/102/cropped.jpg 1x, //i.bikroy-st.com/867874e2-98df-4669-83e9-3b25066b6e0d/272/204/cropped.jpg 1.3x\" title=\"laptop keyboard\"/>\\n                </a>\\n               </div>\\n               <div class=\"item-content\">\\n                <a class=\"item-title h4\" href=\"/en/ad/laptop-keyboard-for-sale-dhaka-263\">\\n                 laptop keyboard\\n                </a>\\n                <p class=\"item-location\">\\n                 <span class=\"ui-bubble is-member\">\\n                  MEMBER\\n                 </span>\\n                 <span>\\n                  23 Jul  2:53 pm\\n                 </span>\\n                 <span>\\n                  ,\\n                 </span>\\n                 <span class=\"item-area\">\\n                  Dhaka\\n                 </span>\\n                 <span>\\n                  ,\\n                 </span>\\n                 <span class=\"item-cat\">\\n                  Computer Accessories\\n                 </span>\\n                </p>\\n                <p class=\"item-info\">\\n                 <strong>\\n                  Tk 500\\n                 </strong>\\n                </p>\\n               </div>\\n               <div class=\"item-extras\">\\n                <script type=\"application/ld+json\">\\n                 {\\n\\t\"name\": \"laptop keyboard\",\\n\\t\"@context\": \"http://schema.org\",\\n\\t\"@type\": \"Offer\",\\n\\t\"availability\": \"http://schema.org/InStock\",\\n\\t\"price\": \"500\",\\n\\t\"priceCurrency\": \"Tk\",\\n\\t\"url\": \"http://bikroy.com/en/ad/laptop-keyboard-for-sale-dhaka-263\"\\n}\\n                </script>\\n               </div>\\n              </div>\\n              <div class=\"ui-item\">\\n               <div class=\"item-thumb\">\\n                <a href=\"/en/ad/hp-elitebook-8470p-laptop-ribbon-for-sale-dhaka-1\">\\n                 <img alt=\"Computer Accessories-Dhaka - HP Elitebook 8470P Laptop Ribbon\" data-srcset=\"//i.bikroy-st.com/74551bfe-8bc8-432d-8ef7-c702adfae590/136/102/cropped.jpg 1x, //i.bikroy-st.com/74551bfe-8bc8-432d-8ef7-c702adfae590/272/204/cropped.jpg 1.3x\" title=\"HP Elitebook 8470P Laptop Ribbon\"/>\\n                </a>\\n               </div>\\n               <div class=\"item-content\">\\n                <a class=\"item-title h4\" href=\"/en/ad/hp-elitebook-8470p-laptop-ribbon-for-sale-dhaka-1\">\\n                 HP Elitebook 8470P Laptop Ribbon\\n                </a>\\n                <p class=\"item-location\">\\n                 <span class=\"ui-bubble is-member\">\\n                  MEMBER\\n                 </span>\\n                 <span>\\n                  31 Jul 11:26 pm\\n                 </span>\\n                 <span>\\n                  ,\\n                 </span>\\n                 <span class=\"item-area\">\\n                  Dhaka\\n                 </span>\\n                 <span>\\n                  ,\\n                 </span>\\n                 <span class=\"item-cat\">\\n                  Computer Accessories\\n                 </span>\\n                </p>\\n                <p class=\"item-info\">\\n                 <strong>\\n                  Tk 500\\n                 </strong>\\n                </p>\\n               </div>\\n               <div class=\"item-extras\">\\n                <script type=\"application/ld+json\">\\n                 {\\n\\t\"name\": \"HP Elitebook 8470P Laptop Ribbon\",\\n\\t\"@context\": \"http://schema.org\",\\n\\t\"@type\": \"Offer\",\\n\\t\"availability\": \"http://schema.org/InStock\",\\n\\t\"price\": \"500\",\\n\\t\"priceCurrency\": \"Tk\",\\n\\t\"url\": \"http://bikroy.com/en/ad/hp-elitebook-8470p-laptop-ribbon-for-sale-dhaka-1\"\\n}\\n                </script>\\n               </div>\\n              </div>\\n              <div class=\"ui-item\">\\n               <div class=\"item-thumb\">\\n                <a href=\"/en/ad/laptop-cooler-model-x890-for-sale-dhaka-1\">\\n                 <img alt=\"Computer Accessories-Dhaka - Laptop Cooler Model - X890\" data-srcset=\"//i.bikroy-st.com/0c0caf2c-2f67-4c3e-b61f-f086944a3c75/136/102/cropped.jpg 1x, //i.bikroy-st.com/0c0caf2c-2f67-4c3e-b61f-f086944a3c75/272/204/cropped.jpg 1.3x\" title=\"Laptop Cooler Model - X890\"/>\\n                </a>\\n               </div>\\n               <div class=\"item-content\">\\n                <a class=\"item-title h4\" href=\"/en/ad/laptop-cooler-model-x890-for-sale-dhaka-1\">\\n                 Laptop Cooler Model - X890\\n                </a>\\n                <p class=\"item-location\">\\n                 <span>\\n                  08 Jul 11:08 pm\\n                 </span>\\n                 <span>\\n                  ,\\n                 </span>\\n                 <span class=\"item-area\">\\n                  Dhaka\\n                 </span>\\n                 <span>\\n                  ,\\n                 </span>\\n                 <span class=\"item-cat\">\\n                  Computer Accessories\\n                 </span>\\n                </p>\\n                <p class=\"item-info\">\\n                 <strong>\\n                  Tk 500\\n                 </strong>\\n                </p>\\n               </div>\\n               <div class=\"item-extras\">\\n                <script type=\"application/ld+json\">\\n                 {\\n\\t\"name\": \"Laptop Cooler Model - X890\",\\n\\t\"@context\": \"http://schema.org\",\\n\\t\"@type\": \"Offer\",\\n\\t\"availability\": \"http://schema.org/InStock\",\\n\\t\"price\": \"500\",\\n\\t\"priceCurrency\": \"Tk\",\\n\\t\"url\": \"http://bikroy.com/en/ad/laptop-cooler-model-x890-for-sale-dhaka-1\"\\n}\\n                </script>\\n               </div>\\n              </div>\\n              <div class=\"ui-item\">\\n               <div class=\"item-thumb\">\\n                <a href=\"/en/ad/dell-inspiron-3421-laptop-ribbon-cable-for-sale-dhaka-1\">\\n                 <img alt=\"Computer Accessories-Dhaka - Dell Inspiron 3421 Laptop Ribbon Cable\" data-srcset=\"//i.bikroy-st.com/7379cdcc-0d63-4acf-99b6-e1ccadffee51/136/102/cropped.jpg 1x, //i.bikroy-st.com/7379cdcc-0d63-4acf-99b6-e1ccadffee51/272/204/cropped.jpg 1.3x\" title=\"Dell Inspiron 3421 Laptop Ribbon Cable\"/>\\n                </a>\\n               </div>\\n               <div class=\"item-content\">\\n                <a class=\"item-title h4\" href=\"/en/ad/dell-inspiron-3421-laptop-ribbon-cable-for-sale-dhaka-1\">\\n                 Dell Inspiron 3421 Laptop Ribbon Cable\\n                </a>\\n                <p class=\"item-location\">\\n                 <span class=\"ui-bubble is-member\">\\n                  MEMBER\\n                 </span>\\n                 <span>\\n                  31 Jul  9:14 pm\\n                 </span>\\n                 <span>\\n                  ,\\n                 </span>\\n                 <span class=\"item-area\">\\n                  Dhaka\\n                 </span>\\n                 <span>\\n                  ,\\n                 </span>\\n                 <span class=\"item-cat\">\\n                  Computer Accessories\\n                 </span>\\n                </p>\\n                <p class=\"item-info\">\\n                 <strong>\\n                  Tk 500\\n                 </strong>\\n                </p>\\n               </div>\\n               <div class=\"item-extras\">\\n                <script type=\"application/ld+json\">\\n                 {\\n\\t\"name\": \"Dell Inspiron 3421 Laptop Ribbon Cable\",\\n\\t\"@context\": \"http://schema.org\",\\n\\t\"@type\": \"Offer\",\\n\\t\"availability\": \"http://schema.org/InStock\",\\n\\t\"price\": \"500\",\\n\\t\"priceCurrency\": \"Tk\",\\n\\t\"url\": \"http://bikroy.com/en/ad/dell-inspiron-3421-laptop-ribbon-cable-for-sale-dhaka-1\"\\n}\\n                </script>\\n               </div>\\n              </div>\\n              <div class=\"ui-item\">\\n               <div class=\"item-thumb\">\\n                <a href=\"/en/ad/hp-g4-laptop-ribbon-cable-for-sale-dhaka-1\">\\n                 <img alt=\"Computer Accessories-Dhaka - HP G4 Laptop Ribbon Cable\" data-srcset=\"//i.bikroy-st.com/167f7114-0afa-4ac6-9516-ff1380bdb334/136/102/cropped.jpg 1x, //i.bikroy-st.com/167f7114-0afa-4ac6-9516-ff1380bdb334/272/204/cropped.jpg 1.3x\" title=\"HP G4 Laptop Ribbon Cable\"/>\\n                </a>\\n               </div>\\n               <div class=\"item-content\">\\n                <a class=\"item-title h4\" href=\"/en/ad/hp-g4-laptop-ribbon-cable-for-sale-dhaka-1\">\\n                 HP G4 Laptop Ribbon Cable\\n                </a>\\n                <p class=\"item-location\">\\n                 <span class=\"ui-bubble is-member\">\\n                  MEMBER\\n                 </span>\\n                 <span>\\n                  31 Jul  9:25 pm\\n                 </span>\\n                 <span>\\n                  ,\\n                 </span>\\n                 <span class=\"item-area\">\\n                  Dhaka\\n                 </span>\\n                 <span>\\n                  ,\\n                 </span>\\n                 <span class=\"item-cat\">\\n                  Computer Accessories\\n                 </span>\\n                </p>\\n                <p class=\"item-info\">\\n                 <strong>\\n                  Tk 500\\n                 </strong>\\n                </p>\\n               </div>\\n               <div class=\"item-extras\">\\n                <script type=\"application/ld+json\">\\n                 {\\n\\t\"name\": \"HP G4 Laptop Ribbon Cable\",\\n\\t\"@context\": \"http://schema.org\",\\n\\t\"@type\": \"Offer\",\\n\\t\"availability\": \"http://schema.org/InStock\",\\n\\t\"price\": \"500\",\\n\\t\"priceCurrency\": \"Tk\",\\n\\t\"url\": \"http://bikroy.com/en/ad/hp-g4-laptop-ribbon-cable-for-sale-dhaka-1\"\\n}\\n                </script>\\n               </div>\\n              </div>\\n              <div class=\"ui-item\">\\n               <div class=\"item-thumb\">\\n                <a href=\"/en/ad/asus-k42f-laptop-keyboard-for-sale-dhaka-2\">\\n                 <img alt=\"Computer Accessories-Dhaka - Asus K42F Laptop Keyboard\" data-srcset=\"//i.bikroy-st.com/24964b0b-3ce7-4ebd-8f44-3aa81c4cc353/136/102/cropped.jpg 1x, //i.bikroy-st.com/24964b0b-3ce7-4ebd-8f44-3aa81c4cc353/272/204/cropped.jpg 1.3x\" title=\"Asus K42F Laptop Keyboard\"/>\\n                </a>\\n               </div>\\n               <div class=\"item-content\">\\n                <a class=\"item-title h4\" href=\"/en/ad/asus-k42f-laptop-keyboard-for-sale-dhaka-2\">\\n                 Asus K42F Laptop Keyboard\\n                </a>\\n                <p class=\"item-location\">\\n                 <span class=\"ui-bubble is-member\">\\n                  MEMBER\\n                 </span>\\n                 <span>\\n                  31 Jul  9:35 pm\\n                 </span>\\n                 <span>\\n                  ,\\n                 </span>\\n                 <span class=\"item-area\">\\n                  Dhaka\\n                 </span>\\n                 <span>\\n                  ,\\n                 </span>\\n                 <span class=\"item-cat\">\\n                  Computer Accessories\\n                 </span>\\n                </p>\\n                <p class=\"item-info\">\\n                 <strong>\\n                  Tk 500\\n                 </strong>\\n                </p>\\n               </div>\\n               <div class=\"item-extras\">\\n                <script type=\"application/ld+json\">\\n                 {\\n\\t\"name\": \"Asus K42F Laptop Keyboard\",\\n\\t\"@context\": \"http://schema.org\",\\n\\t\"@type\": \"Offer\",\\n\\t\"availability\": \"http://schema.org/InStock\",\\n\\t\"price\": \"500\",\\n\\t\"priceCurrency\": \"Tk\",\\n\\t\"url\": \"http://bikroy.com/en/ad/asus-k42f-laptop-keyboard-for-sale-dhaka-2\"\\n}\\n                </script>\\n               </div>\\n              </div>\\n              <div class=\"ui-item\">\\n               <div class=\"item-thumb\">\\n                <a href=\"/en/ad/hp-probook-440-g1-laptop-ribbon-cable-for-sale-dhaka-1\">\\n                 <img alt=\"Computer Accessories-Dhaka - HP ProBook 440 G1 Laptop Ribbon Cable\" data-srcset=\"//i.bikroy-st.com/645cc955-07f9-499d-9f1b-68bd4f7e1613/136/102/cropped.jpg 1x, //i.bikroy-st.com/645cc955-07f9-499d-9f1b-68bd4f7e1613/272/204/cropped.jpg 1.3x\" title=\"HP ProBook 440 G1 Laptop Ribbon Cable\"/>\\n                </a>\\n               </div>\\n               <div class=\"item-content\">\\n                <a class=\"item-title h4\" href=\"/en/ad/hp-probook-440-g1-laptop-ribbon-cable-for-sale-dhaka-1\">\\n                 HP ProBook 440 G1 Laptop Ribbon Cable\\n                </a>\\n                <p class=\"item-location\">\\n                 <span class=\"ui-bubble is-member\">\\n                  MEMBER\\n                 </span>\\n                 <span>\\n                  31 Jul  9:31 pm\\n                 </span>\\n                 <span>\\n                  ,\\n                 </span>\\n                 <span class=\"item-area\">\\n                  Dhaka\\n                 </span>\\n                 <span>\\n                  ,\\n                 </span>\\n                 <span class=\"item-cat\">\\n                  Computer Accessories\\n                 </span>\\n                </p>\\n                <p class=\"item-info\">\\n                 <strong>\\n                  Tk 500\\n                 </strong>\\n                </p>\\n               </div>\\n               <div class=\"item-extras\">\\n                <script type=\"application/ld+json\">\\n                 {\\n\\t\"name\": \"HP ProBook 440 G1 Laptop Ribbon Cable\",\\n\\t\"@context\": \"http://schema.org\",\\n\\t\"@type\": \"Offer\",\\n\\t\"availability\": \"http://schema.org/InStock\",\\n\\t\"price\": \"500\",\\n\\t\"priceCurrency\": \"Tk\",\\n\\t\"url\": \"http://bikroy.com/en/ad/hp-probook-440-g1-laptop-ribbon-cable-for-sale-dhaka-1\"\\n}\\n                </script>\\n               </div>\\n              </div>\\n              <div class=\"ui-item\">\\n               <div class=\"item-thumb\">\\n                <a href=\"/en/ad/acer-e1-571-laptop-ribbon-for-sale-dhaka-1\">\\n                 <img alt=\"Computer Accessories-Dhaka - Acer E1-571 Laptop Ribbon\" data-srcset=\"//i.bikroy-st.com/3e608767-1fde-4662-a95f-7ed1d669a73a/136/102/cropped.jpg 1x, //i.bikroy-st.com/3e608767-1fde-4662-a95f-7ed1d669a73a/272/204/cropped.jpg 1.3x\" title=\"Acer E1-571 Laptop Ribbon\"/>\\n                </a>\\n               </div>\\n               <div class=\"item-content\">\\n                <a class=\"item-title h4\" href=\"/en/ad/acer-e1-571-laptop-ribbon-for-sale-dhaka-1\">\\n                 Acer E1-571 Laptop Ribbon\\n                </a>\\n                <p class=\"item-location\">\\n                 <span class=\"ui-bubble is-member\">\\n                  MEMBER\\n                 </span>\\n                 <span>\\n                  31 Jul  9:42 pm\\n                 </span>\\n                 <span>\\n                  ,\\n                 </span>\\n                 <span class=\"item-area\">\\n                  Dhaka\\n                 </span>\\n                 <span>\\n                  ,\\n                 </span>\\n                 <span class=\"item-cat\">\\n                  Computer Accessories\\n                 </span>\\n                </p>\\n                <p class=\"item-info\">\\n                 <strong>\\n                  Tk 500\\n                 </strong>\\n                </p>\\n               </div>\\n               <div class=\"item-extras\">\\n                <script type=\"application/ld+json\">\\n                 {\\n\\t\"name\": \"Acer E1-571 Laptop Ribbon\",\\n\\t\"@context\": \"http://schema.org\",\\n\\t\"@type\": \"Offer\",\\n\\t\"availability\": \"http://schema.org/InStock\",\\n\\t\"price\": \"500\",\\n\\t\"priceCurrency\": \"Tk\",\\n\\t\"url\": \"http://bikroy.com/en/ad/acer-e1-571-laptop-ribbon-for-sale-dhaka-1\"\\n}\\n                </script>\\n               </div>\\n              </div>\\n              <div class=\"ui-item\">\\n               <div class=\"item-thumb\">\\n                <a href=\"/en/ad/dell-vostro-3450-laptop-ribbon-cable-for-sale-dhaka-1\">\\n                 <img alt=\"Computer Accessories-Dhaka - Dell Vostro 3450 Laptop Ribbon Cable\" data-srcset=\"//i.bikroy-st.com/1d681f3a-a654-4729-b938-64dbd27bd3a2/136/102/cropped.jpg 1x, //i.bikroy-st.com/1d681f3a-a654-4729-b938-64dbd27bd3a2/272/204/cropped.jpg 1.3x\" title=\"Dell Vostro 3450 Laptop Ribbon Cable\"/>\\n                </a>\\n               </div>\\n               <div class=\"item-content\">\\n                <a class=\"item-title h4\" href=\"/en/ad/dell-vostro-3450-laptop-ribbon-cable-for-sale-dhaka-1\">\\n                 Dell Vostro 3450 Laptop Ribbon Cable\\n                </a>\\n                <p class=\"item-location\">\\n                 <span class=\"ui-bubble is-member\">\\n                  MEMBER\\n                 </span>\\n                 <span>\\n                  31 Jul  9:44 pm\\n                 </span>\\n                 <span>\\n                  ,\\n                 </span>\\n                 <span class=\"item-area\">\\n                  Dhaka\\n                 </span>\\n                 <span>\\n                  ,\\n                 </span>\\n                 <span class=\"item-cat\">\\n                  Computer Accessories\\n                 </span>\\n                </p>\\n                <p class=\"item-info\">\\n                 <strong>\\n                  Tk 500\\n                 </strong>\\n                </p>\\n               </div>\\n               <div class=\"item-extras\">\\n                <script type=\"application/ld+json\">\\n                 {\\n\\t\"name\": \"Dell Vostro 3450 Laptop Ribbon Cable\",\\n\\t\"@context\": \"http://schema.org\",\\n\\t\"@type\": \"Offer\",\\n\\t\"availability\": \"http://schema.org/InStock\",\\n\\t\"price\": \"500\",\\n\\t\"priceCurrency\": \"Tk\",\\n\\t\"url\": \"http://bikroy.com/en/ad/dell-vostro-3450-laptop-ribbon-cable-for-sale-dhaka-1\"\\n}\\n                </script>\\n               </div>\\n              </div>\\n              <div class=\"ui-item\">\\n               <div class=\"item-thumb\">\\n                <a href=\"/en/ad/acer-d-255-laptop-keyboard-for-sale-dhaka-1\">\\n                 <img alt=\"Computer Accessories-Dhaka - Acer D-255 Laptop Keyboard\" data-srcset=\"//i.bikroy-st.com/c5d381bc-d297-4af5-bcf1-5f75300e6821/136/102/cropped.jpg 1x, //i.bikroy-st.com/c5d381bc-d297-4af5-bcf1-5f75300e6821/272/204/cropped.jpg 1.3x\" title=\"Acer D-255 Laptop Keyboard\"/>\\n                </a>\\n               </div>\\n               <div class=\"item-content\">\\n                <a class=\"item-title h4\" href=\"/en/ad/acer-d-255-laptop-keyboard-for-sale-dhaka-1\">\\n                 Acer D-255 Laptop Keyboard\\n                </a>\\n                <p class=\"item-location\">\\n                 <span class=\"ui-bubble is-member\">\\n                  MEMBER\\n                 </span>\\n                 <span>\\n                  31 Jul  9:51 pm\\n                 </span>\\n                 <span>\\n                  ,\\n                 </span>\\n                 <span class=\"item-area\">\\n                  Dhaka\\n                 </span>\\n                 <span>\\n                  ,\\n                 </span>\\n                 <span class=\"item-cat\">\\n                  Computer Accessories\\n                 </span>\\n                </p>\\n                <p class=\"item-info\">\\n                 <strong>\\n                  Tk 500\\n                 </strong>\\n                </p>\\n               </div>\\n               <div class=\"item-extras\">\\n                <script type=\"application/ld+json\">\\n                 {\\n\\t\"name\": \"Acer D-255 Laptop Keyboard\",\\n\\t\"@context\": \"http://schema.org\",\\n\\t\"@type\": \"Offer\",\\n\\t\"availability\": \"http://schema.org/InStock\",\\n\\t\"price\": \"500\",\\n\\t\"priceCurrency\": \"Tk\",\\n\\t\"url\": \"http://bikroy.com/en/ad/acer-d-255-laptop-keyboard-for-sale-dhaka-1\"\\n}\\n                </script>\\n               </div>\\n              </div>\\n              <div class=\"ui-item\">\\n               <div class=\"item-thumb\">\\n                <a href=\"/en/ad/hp-4440s-laptop-ribbon-for-sale-dhaka-1\">\\n                 <img alt=\"Computer Accessories-Dhaka - HP 4440S Laptop Ribbon\" data-srcset=\"//i.bikroy-st.com/c1e500ad-7a12-406d-aead-67110ac926f6/136/102/cropped.jpg 1x, //i.bikroy-st.com/c1e500ad-7a12-406d-aead-67110ac926f6/272/204/cropped.jpg 1.3x\" title=\"HP 4440S Laptop Ribbon\"/>\\n                </a>\\n               </div>\\n               <div class=\"item-content\">\\n                <a class=\"item-title h4\" href=\"/en/ad/hp-4440s-laptop-ribbon-for-sale-dhaka-1\">\\n                 HP 4440S Laptop Ribbon\\n                </a>\\n                <p class=\"item-location\">\\n                 <span class=\"ui-bubble is-member\">\\n                  MEMBER\\n                 </span>\\n                 <span>\\n                  31 Jul  9:54 pm\\n                 </span>\\n                 <span>\\n                  ,\\n                 </span>\\n                 <span class=\"item-area\">\\n                  Dhaka\\n                 </span>\\n                 <span>\\n                  ,\\n                 </span>\\n                 <span class=\"item-cat\">\\n                  Computer Accessories\\n                 </span>\\n                </p>\\n                <p class=\"item-info\">\\n                 <strong>\\n                  Tk 500\\n                 </strong>\\n                </p>\\n               </div>\\n               <div class=\"item-extras\">\\n                <script type=\"application/ld+json\">\\n                 {\\n\\t\"name\": \"HP 4440S Laptop Ribbon\",\\n\\t\"@context\": \"http://schema.org\",\\n\\t\"@type\": \"Offer\",\\n\\t\"availability\": \"http://schema.org/InStock\",\\n\\t\"price\": \"500\",\\n\\t\"priceCurrency\": \"Tk\",\\n\\t\"url\": \"http://bikroy.com/en/ad/hp-4440s-laptop-ribbon-for-sale-dhaka-1\"\\n}\\n                </script>\\n               </div>\\n              </div>\\n              <div class=\"ui-item\">\\n               <div class=\"item-thumb\">\\n                <a href=\"/en/ad/hp-probook-450-g2-laptop-ribbon-for-sale-dhaka-1\">\\n                 <img alt=\"Computer Accessories-Dhaka - HP ProBook 450 G2 Laptop Ribbon\" data-srcset=\"//i.bikroy-st.com/5bbfd914-f7fa-4cc2-a8b3-254f00537e73/136/102/cropped.jpg 1x, //i.bikroy-st.com/5bbfd914-f7fa-4cc2-a8b3-254f00537e73/272/204/cropped.jpg 1.3x\" title=\"HP ProBook 450 G2 Laptop Ribbon\"/>\\n                </a>\\n               </div>\\n               <div class=\"item-content\">\\n                <a class=\"item-title h4\" href=\"/en/ad/hp-probook-450-g2-laptop-ribbon-for-sale-dhaka-1\">\\n                 HP ProBook 450 G2 Laptop Ribbon\\n                </a>\\n                <p class=\"item-location\">\\n                 <span class=\"ui-bubble is-member\">\\n                  MEMBER\\n                 </span>\\n                 <span>\\n                  31 Jul  9:56 pm\\n                 </span>\\n                 <span>\\n                  ,\\n                 </span>\\n                 <span class=\"item-area\">\\n                  Dhaka\\n                 </span>\\n                 <span>\\n                  ,\\n                 </span>\\n                 <span class=\"item-cat\">\\n                  Computer Accessories\\n                 </span>\\n                </p>\\n                <p class=\"item-info\">\\n                 <strong>\\n                  Tk 500\\n                 </strong>\\n                </p>\\n               </div>\\n               <div class=\"item-extras\">\\n                <script type=\"application/ld+json\">\\n                 {\\n\\t\"name\": \"HP ProBook 450 G2 Laptop Ribbon\",\\n\\t\"@context\": \"http://schema.org\",\\n\\t\"@type\": \"Offer\",\\n\\t\"availability\": \"http://schema.org/InStock\",\\n\\t\"price\": \"500\",\\n\\t\"priceCurrency\": \"Tk\",\\n\\t\"url\": \"http://bikroy.com/en/ad/hp-probook-450-g2-laptop-ribbon-for-sale-dhaka-1\"\\n}\\n                </script>\\n               </div>\\n              </div>\\n              <div class=\"ui-item\">\\n               <div class=\"item-thumb\">\\n                <a href=\"/en/ad/fujitsu-lifebook-lh530-laptop-ribbon-for-sale-dhaka-1\">\\n                 <img alt=\"Computer Accessories-Dhaka - Fujitsu Lifebook LH530 Laptop Ribbon\" data-srcset=\"//i.bikroy-st.com/2be9fe27-1ef3-44fe-9e7f-c6881359ff95/136/102/cropped.jpg 1x, //i.bikroy-st.com/2be9fe27-1ef3-44fe-9e7f-c6881359ff95/272/204/cropped.jpg 1.3x\" title=\"Fujitsu Lifebook LH530 Laptop Ribbon\"/>\\n                </a>\\n               </div>\\n               <div class=\"item-content\">\\n                <a class=\"item-title h4\" href=\"/en/ad/fujitsu-lifebook-lh530-laptop-ribbon-for-sale-dhaka-1\">\\n                 Fujitsu Lifebook LH530 Laptop Ribbon\\n                </a>\\n                <p class=\"item-location\">\\n                 <span class=\"ui-bubble is-member\">\\n                  MEMBER\\n                 </span>\\n                 <span>\\n                  31 Jul 11:21 pm\\n                 </span>\\n                 <span>\\n                  ,\\n                 </span>\\n                 <span class=\"item-area\">\\n                  Dhaka\\n                 </span>\\n                 <span>\\n                  ,\\n                 </span>\\n                 <span class=\"item-cat\">\\n                  Computer Accessories\\n                 </span>\\n                </p>\\n                <p class=\"item-info\">\\n                 <strong>\\n                  Tk 500\\n                 </strong>\\n                </p>\\n               </div>\\n               <div class=\"item-extras\">\\n                <script type=\"application/ld+json\">\\n                 {\\n\\t\"name\": \"Fujitsu Lifebook LH530 Laptop Ribbon\",\\n\\t\"@context\": \"http://schema.org\",\\n\\t\"@type\": \"Offer\",\\n\\t\"availability\": \"http://schema.org/InStock\",\\n\\t\"price\": \"500\",\\n\\t\"priceCurrency\": \"Tk\",\\n\\t\"url\": \"http://bikroy.com/en/ad/fujitsu-lifebook-lh530-laptop-ribbon-for-sale-dhaka-1\"\\n}\\n                </script>\\n               </div>\\n              </div>\\n              <div class=\"ui-item\">\\n               <div class=\"item-thumb\">\\n                <a href=\"/en/ad/dell-n4050-laptop-ribbon-for-sale-dhaka-1\">\\n                 <img alt=\"Computer Accessories-Dhaka - Dell N4050 Laptop Ribbon\" data-srcset=\"//i.bikroy-st.com/2684b899-c333-4ea8-89e3-006d2ed76922/136/102/cropped.jpg 1x, //i.bikroy-st.com/2684b899-c333-4ea8-89e3-006d2ed76922/272/204/cropped.jpg 1.3x\" title=\"Dell N4050 Laptop Ribbon\"/>\\n                </a>\\n               </div>\\n               <div class=\"item-content\">\\n                <a class=\"item-title h4\" href=\"/en/ad/dell-n4050-laptop-ribbon-for-sale-dhaka-1\">\\n                 Dell N4050 Laptop Ribbon\\n                </a>\\n                <p class=\"item-location\">\\n                 <span class=\"ui-bubble is-member\">\\n                  MEMBER\\n                 </span>\\n                 <span>\\n                  31 Jul 11:11 pm\\n                 </span>\\n                 <span>\\n                  ,\\n                 </span>\\n                 <span class=\"item-area\">\\n                  Dhaka\\n                 </span>\\n                 <span>\\n                  ,\\n                 </span>\\n                 <span class=\"item-cat\">\\n                  Computer Accessories\\n                 </span>\\n                </p>\\n                <p class=\"item-info\">\\n                 <strong>\\n                  Tk 500\\n                 </strong>\\n                </p>\\n               </div>\\n               <div class=\"item-extras\">\\n                <script type=\"application/ld+json\">\\n                 {\\n\\t\"name\": \"Dell N4050 Laptop Ribbon\",\\n\\t\"@context\": \"http://schema.org\",\\n\\t\"@type\": \"Offer\",\\n\\t\"availability\": \"http://schema.org/InStock\",\\n\\t\"price\": \"500\",\\n\\t\"priceCurrency\": \"Tk\",\\n\\t\"url\": \"http://bikroy.com/en/ad/dell-n4050-laptop-ribbon-for-sale-dhaka-1\"\\n}\\n                </script>\\n               </div>\\n              </div>\\n              <div class=\"ui-item\">\\n               <div class=\"item-thumb\">\\n                <a href=\"/en/ad/fujitsu-lifebook-lh531-laptop-ribbon-for-sale-dhaka-1\">\\n                 <img alt=\"Computer Accessories-Dhaka - Fujitsu Lifebook LH531 Laptop Ribbon\" data-srcset=\"//i.bikroy-st.com/0b87c562-8716-43f2-b5b7-00df48fd70d0/136/102/cropped.jpg 1x, //i.bikroy-st.com/0b87c562-8716-43f2-b5b7-00df48fd70d0/272/204/cropped.jpg 1.3x\" title=\"Fujitsu Lifebook LH531 Laptop Ribbon\"/>\\n                </a>\\n               </div>\\n               <div class=\"item-content\">\\n                <a class=\"item-title h4\" href=\"/en/ad/fujitsu-lifebook-lh531-laptop-ribbon-for-sale-dhaka-1\">\\n                 Fujitsu Lifebook LH531 Laptop Ribbon\\n                </a>\\n                <p class=\"item-location\">\\n                 <span class=\"ui-bubble is-member\">\\n                  MEMBER\\n                 </span>\\n                 <span>\\n                  31 Jul 11:16 pm\\n                 </span>\\n                 <span>\\n                  ,\\n                 </span>\\n                 <span class=\"item-area\">\\n                  Dhaka\\n                 </span>\\n                 <span>\\n                  ,\\n                 </span>\\n                 <span class=\"item-cat\">\\n                  Computer Accessories\\n                 </span>\\n                </p>\\n                <p class=\"item-info\">\\n                 <strong>\\n                  Tk 500\\n                 </strong>\\n                </p>\\n               </div>\\n               <div class=\"item-extras\">\\n                <script type=\"application/ld+json\">\\n                 {\\n\\t\"name\": \"Fujitsu Lifebook LH531 Laptop Ribbon\",\\n\\t\"@context\": \"http://schema.org\",\\n\\t\"@type\": \"Offer\",\\n\\t\"availability\": \"http://schema.org/InStock\",\\n\\t\"price\": \"500\",\\n\\t\"priceCurrency\": \"Tk\",\\n\\t\"url\": \"http://bikroy.com/en/ad/fujitsu-lifebook-lh531-laptop-ribbon-for-sale-dhaka-1\"\\n}\\n                </script>\\n               </div>\\n              </div>\\n              <div class=\"ui-item\">\\n               <div class=\"item-thumb has-frames\">\\n                <a href=\"/en/ad/micron-2gb-ddr2-800mhz-laptop-ram-for-sale-dhaka\">\\n                 <img alt=\"Computer Accessories-Dhaka - MICRON 2GB DDR2 800MHz Laptop RAM\" data-srcset=\"//i.bikroy-st.com/d471e0b9-50fb-4a1b-b218-9627e92315c9/136/102/cropped.jpg 1x, //i.bikroy-st.com/d471e0b9-50fb-4a1b-b218-9627e92315c9/272/204/cropped.jpg 1.3x\" title=\"MICRON 2GB DDR2 800MHz Laptop RAM\"/>\\n                </a>\\n               </div>\\n               <div class=\"item-content\">\\n                <a class=\"item-title h4\" href=\"/en/ad/micron-2gb-ddr2-800mhz-laptop-ram-for-sale-dhaka\">\\n                 MICRON 2GB DDR2 800MHz Laptop RAM\\n                </a>\\n                <p class=\"item-location\">\\n                 <span>\\n                  04 Aug  2:40 am\\n                 </span>\\n                 <span>\\n                  ,\\n                 </span>\\n                 <span class=\"item-area\">\\n                  Dhaka\\n                 </span>\\n                 <span>\\n                  ,\\n                 </span>\\n                 <span class=\"item-cat\">\\n                  Computer Accessories\\n                 </span>\\n                </p>\\n                <p class=\"item-info\">\\n                 <strong>\\n                  Tk 500\\n                 </strong>\\n                </p>\\n               </div>\\n               <div class=\"item-extras\">\\n                <script type=\"application/ld+json\">\\n                 {\\n\\t\"name\": \"MICRON 2GB DDR2 800MHz Laptop RAM\",\\n\\t\"@context\": \"http://schema.org\",\\n\\t\"@type\": \"Offer\",\\n\\t\"availability\": \"http://schema.org/InStock\",\\n\\t\"price\": \"500\",\\n\\t\"priceCurrency\": \"Tk\",\\n\\t\"url\": \"http://bikroy.com/en/ad/micron-2gb-ddr2-800mhz-laptop-ram-for-sale-dhaka\"\\n}\\n                </script>\\n               </div>\\n              </div>\\n              <div class=\"ui-item\">\\n               <div class=\"item-thumb has-frames\">\\n                <a href=\"/en/ad/laptop-keyboard-for-sale-dhaka-287\">\\n                 <img alt=\"Computer Accessories-Dhaka - Laptop keyboard\" data-srcset=\"//i.bikroy-st.com/caf167fd-8682-4620-8e53-06d3075edf78/136/102/cropped.jpg 1x, //i.bikroy-st.com/caf167fd-8682-4620-8e53-06d3075edf78/272/204/cropped.jpg 1.3x\" title=\"Laptop keyboard\"/>\\n                </a>\\n               </div>\\n               <div class=\"item-content\">\\n                <a class=\"item-title h4\" href=\"/en/ad/laptop-keyboard-for-sale-dhaka-287\">\\n                 Laptop keyboard\\n                </a>\\n                <p class=\"item-location\">\\n                 <span class=\"ui-bubble is-member\">\\n                  MEMBER\\n                 </span>\\n                 <span>\\n                  06 Aug  2:48 am\\n                 </span>\\n                 <span>\\n                  ,\\n                 </span>\\n                 <span class=\"item-area\">\\n                  Dhaka\\n                 </span>\\n                 <span>\\n                  ,\\n                 </span>\\n                 <span class=\"item-cat\">\\n                  Computer Accessories\\n                 </span>\\n                </p>\\n                <p class=\"item-info\">\\n                 <strong>\\n                  Tk 500\\n                 </strong>\\n                </p>\\n               </div>\\n               <div class=\"item-extras\">\\n                <script type=\"application/ld+json\">\\n                 {\\n\\t\"name\": \"Laptop keyboard\",\\n\\t\"@context\": \"http://schema.org\",\\n\\t\"@type\": \"Offer\",\\n\\t\"availability\": \"http://schema.org/InStock\",\\n\\t\"price\": \"500\",\\n\\t\"priceCurrency\": \"Tk\",\\n\\t\"url\": \"http://bikroy.com/en/ad/laptop-keyboard-for-sale-dhaka-287\"\\n}\\n                </script>\\n               </div>\\n              </div>\\n              <div class=\"ui-item\">\\n               <div class=\"item-thumb has-frames\">\\n                <a href=\"/en/ad/computer-home-service-in-uttara-for-sale-dhaka-6\">\\n                 <img alt=\"Business &amp; Technical Services-Dhaka - Computer Home Service in Uttara\" data-srcset=\"//i.bikroy-st.com/626b3856-a95e-4f74-8260-8e74659092a5/136/102/cropped.jpg 1x, //i.bikroy-st.com/626b3856-a95e-4f74-8260-8e74659092a5/272/204/cropped.jpg 1.3x\" title=\"Computer Home Service in Uttara\"/>\\n                </a>\\n               </div>\\n               <div class=\"item-content\">\\n                <a class=\"item-title h4\" href=\"/en/ad/computer-home-service-in-uttara-for-sale-dhaka-6\">\\n                 Computer Home Service in Uttara\\n                </a>\\n                <p class=\"item-location\">\\n                 <span class=\"ui-bubble is-member\">\\n                  MEMBER\\n                 </span>\\n                 <span>\\n                  17 Jun  9:37 pm\\n                 </span>\\n                 <span>\\n                  ,\\n                 </span>\\n                 <span class=\"item-area\">\\n                  Dhaka\\n                 </span>\\n                 <span>\\n                  ,\\n                 </span>\\n                 <span class=\"item-cat\">\\n                  Business &amp; Technical Services\\n                 </span>\\n                </p>\\n                <p class=\"item-info\">\\n                 <strong>\\n                  Tk 500\\n                 </strong>\\n                </p>\\n               </div>\\n               <div class=\"item-extras\">\\n                <script type=\"application/ld+json\">\\n                 {\\n\\t\"name\": \"Computer Home Service in Uttara\",\\n\\t\"@context\": \"http://schema.org\",\\n\\t\"@type\": \"Offer\",\\n\\t\"availability\": \"http://schema.org/InStock\",\\n\\t\"price\": \"500\",\\n\\t\"priceCurrency\": \"Tk\",\\n\\t\"url\": \"http://bikroy.com/en/ad/computer-home-service-in-uttara-for-sale-dhaka-6\"\\n}\\n                </script>\\n               </div>\\n              </div>\\n              <div class=\"ui-item\">\\n               <div class=\"item-thumb has-frames\">\\n                <a href=\"/en/ad/laptop-new-adaptor-for-sale-dhaka\">\\n                 <img alt=\"Computer Accessories-Dhaka - Laptop New Adaptor\" data-srcset=\"//i.bikroy-st.com/9fe76021-2ca9-4d64-a015-4c435dee7d00/136/102/cropped.jpg 1x, //i.bikroy-st.com/9fe76021-2ca9-4d64-a015-4c435dee7d00/272/204/cropped.jpg 1.3x\" title=\"Laptop New Adaptor\"/>\\n                </a>\\n               </div>\\n               <div class=\"item-content\">\\n                <a class=\"item-title h4\" href=\"/en/ad/laptop-new-adaptor-for-sale-dhaka\">\\n                 Laptop New Adaptor\\n                </a>\\n                <p class=\"item-location\">\\n                 <span class=\"ui-bubble is-member\">\\n                  MEMBER\\n                 </span>\\n                 <span>\\n                  06 Jul 12:59 pm\\n                 </span>\\n                 <span>\\n                  ,\\n                 </span>\\n                 <span class=\"item-area\">\\n                  Dhaka\\n                 </span>\\n                 <span>\\n                  ,\\n                 </span>\\n                 <span class=\"item-cat\">\\n                  Computer Accessories\\n                 </span>\\n                </p>\\n                <p class=\"item-info\">\\n                 <strong>\\n                  Tk 500\\n                 </strong>\\n                </p>\\n               </div>\\n               <div class=\"item-extras\">\\n                <script type=\"application/ld+json\">\\n                 {\\n\\t\"name\": \"Laptop New Adaptor\",\\n\\t\"@context\": \"http://schema.org\",\\n\\t\"@type\": \"Offer\",\\n\\t\"availability\": \"http://schema.org/InStock\",\\n\\t\"price\": \"500\",\\n\\t\"priceCurrency\": \"Tk\",\\n\\t\"url\": \"http://bikroy.com/en/ad/laptop-new-adaptor-for-sale-dhaka\"\\n}\\n                </script>\\n               </div>\\n              </div>\\n              <div class=\"ui-item\">\\n               <div class=\"item-thumb\">\\n                <a href=\"/en/ad/dell-inspiron-14r-laptop-keyboard-for-sale-dhaka\">\\n                 <img alt=\"Computer Accessories-Dhaka - Dell Inspiron 14R Laptop Keyboard\" data-srcset=\"//i.bikroy-st.com/e1ef92d3-8dcc-4db4-b8af-f085be7ab009/136/102/cropped.jpg 1x, //i.bikroy-st.com/e1ef92d3-8dcc-4db4-b8af-f085be7ab009/272/204/cropped.jpg 1.3x\" title=\"Dell Inspiron 14R Laptop Keyboard\"/>\\n                </a>\\n               </div>\\n               <div class=\"item-content\">\\n                <a class=\"item-title h4\" href=\"/en/ad/dell-inspiron-14r-laptop-keyboard-for-sale-dhaka\">\\n                 Dell Inspiron 14R Laptop Keyboard\\n                </a>\\n                <p class=\"item-location\">\\n                 <span class=\"ui-bubble is-member\">\\n                  MEMBER\\n                 </span>\\n                 <span>\\n                  23 Jun 11:53 am\\n                 </span>\\n                 <span>\\n                  ,\\n                 </span>\\n                 <span class=\"item-area\">\\n                  Dhaka\\n                 </span>\\n                 <span>\\n                  ,\\n                 </span>\\n                 <span class=\"item-cat\">\\n                  Computer Accessories\\n                 </span>\\n                </p>\\n                <p class=\"item-info\">\\n                 <strong>\\n                  Tk 500\\n                 </strong>\\n                </p>\\n               </div>\\n               <div class=\"item-extras\">\\n                <script type=\"application/ld+json\">\\n                 {\\n\\t\"name\": \"Dell Inspiron 14R Laptop Keyboard\",\\n\\t\"@context\": \"http://schema.org\",\\n\\t\"@type\": \"Offer\",\\n\\t\"availability\": \"http://schema.org/InStock\",\\n\\t\"price\": \"500\",\\n\\t\"priceCurrency\": \"Tk\",\\n\\t\"url\": \"http://bikroy.com/en/ad/dell-inspiron-14r-laptop-keyboard-for-sale-dhaka\"\\n}\\n                </script>\\n               </div>\\n              </div>\\n              <div class=\"ui-item\">\\n               <div class=\"item-thumb has-frames\">\\n                <a href=\"/en/ad/laptop-case-for-macbook-air-pro-11-for-sale-dhaka\">\\n                 <img alt=\"Computer Accessories-Dhaka - Laptop Case for Macbook Air Pro 11\" data-srcset=\"//i.bikroy-st.com/2509a34f-045a-4176-9246-3f84710848c1/136/102/cropped.jpg 1x, //i.bikroy-st.com/2509a34f-045a-4176-9246-3f84710848c1/272/204/cropped.jpg 1.3x\" title=\"Laptop Case for Macbook Air Pro 11\"/>\\n                </a>\\n               </div>\\n               <div class=\"item-content\">\\n                <a class=\"item-title h4\" href=\"/en/ad/laptop-case-for-macbook-air-pro-11-for-sale-dhaka\">\\n                 Laptop Case for Macbook Air Pro 11\\n                </a>\\n                <p class=\"item-location\">\\n                 <span>\\n                  18 Jul  9:00 am\\n                 </span>\\n                 <span>\\n                  ,\\n                 </span>\\n                 <span class=\"item-area\">\\n                  Dhaka\\n                 </span>\\n                 <span>\\n                  ,\\n                 </span>\\n                 <span class=\"item-cat\">\\n                  Computer Accessories\\n                 </span>\\n                </p>\\n                <p class=\"item-info\">\\n                 <strong>\\n                  Tk 500\\n                 </strong>\\n                </p>\\n               </div>\\n               <div class=\"item-extras\">\\n                <script type=\"application/ld+json\">\\n                 {\\n\\t\"name\": \"Laptop Case for Macbook Air Pro 11\",\\n\\t\"@context\": \"http://schema.org\",\\n\\t\"@type\": \"Offer\",\\n\\t\"availability\": \"http://schema.org/InStock\",\\n\\t\"price\": \"500\",\\n\\t\"priceCurrency\": \"Tk\",\\n\\t\"url\": \"http://bikroy.com/en/ad/laptop-case-for-macbook-air-pro-11-for-sale-dhaka\"\\n}\\n                </script>\\n               </div>\\n              </div>\\n              <div class=\"ui-item\">\\n               <div class=\"item-thumb has-frames\">\\n                <a href=\"/en/ad/laptop-and-desktop-home-service-and-repair-for-sale-dhaka\">\\n                 <img alt=\"Business &amp; Technical Services-Dhaka - *Laptop &amp; Desktop* Home Service &amp; Repair\" data-srcset=\"//i.bikroy-st.com/cefafc99-a226-4352-8c09-38809ce8b801/136/102/cropped.jpg 1x, //i.bikroy-st.com/cefafc99-a226-4352-8c09-38809ce8b801/272/204/cropped.jpg 1.3x\" title=\"*Laptop &amp; Desktop* Home Service &amp; Repair\"/>\\n                </a>\\n               </div>\\n               <div class=\"item-content\">\\n                <a class=\"item-title h4\" href=\"/en/ad/laptop-and-desktop-home-service-and-repair-for-sale-dhaka\">\\n                 *Laptop &amp; Desktop* Home Service &amp; Repair\\n                </a>\\n                <p class=\"item-location\">\\n                 <span>\\n                  18 Jul  3:31 pm\\n                 </span>\\n                 <span>\\n                  ,\\n                 </span>\\n                 <span class=\"item-area\">\\n                  Dhaka\\n                 </span>\\n                 <span>\\n                  ,\\n                 </span>\\n                 <span class=\"item-cat\">\\n                  Business &amp; Technical Services\\n                 </span>\\n                </p>\\n                <p class=\"item-info\">\\n                 <strong>\\n                  Tk 500\\n                 </strong>\\n                </p>\\n               </div>\\n               <div class=\"item-extras\">\\n                <script type=\"application/ld+json\">\\n                 {\\n\\t\"name\": \"*Laptop &amp; Desktop* Home Service &amp; Repair\",\\n\\t\"@context\": \"http://schema.org\",\\n\\t\"@type\": \"Offer\",\\n\\t\"availability\": \"http://schema.org/InStock\",\\n\\t\"price\": \"500\",\\n\\t\"priceCurrency\": \"Tk\",\\n\\t\"url\": \"http://bikroy.com/en/ad/laptop-and-desktop-home-service-and-repair-for-sale-dhaka\"\\n}\\n                </script>\\n               </div>\\n              </div>\\n              <div class=\"ui-item\">\\n               <div class=\"item-thumb has-frames\">\\n                <a href=\"/en/ad/laptop-adapter-for-sale-dhaka-162\">\\n                 <img alt=\"Computer Accessories-Dhaka - laptop adapter\" data-srcset=\"//i.bikroy-st.com/3eabad10-f35a-49d6-9486-e2392bf48a44/136/102/cropped.jpg 1x, //i.bikroy-st.com/3eabad10-f35a-49d6-9486-e2392bf48a44/272/204/cropped.jpg 1.3x\" title=\"laptop adapter\"/>\\n                </a>\\n               </div>\\n               <div class=\"item-content\">\\n                <a class=\"item-title h4\" href=\"/en/ad/laptop-adapter-for-sale-dhaka-162\">\\n                 laptop adapter\\n                </a>\\n                <p class=\"item-location\">\\n                 <span class=\"ui-bubble is-member\">\\n                  MEMBER\\n                 </span>\\n                 <span>\\n                  24 Jul 11:39 am\\n                 </span>\\n                 <span>\\n                  ,\\n                 </span>\\n                 <span class=\"item-area\">\\n                  Dhaka\\n                 </span>\\n                 <span>\\n                  ,\\n                 </span>\\n                 <span class=\"item-cat\">\\n                  Computer Accessories\\n                 </span>\\n                </p>\\n                <p class=\"item-info\">\\n                 <strong>\\n                  Tk 500\\n                 </strong>\\n                </p>\\n               </div>\\n               <div class=\"item-extras\">\\n                <script type=\"application/ld+json\">\\n                 {\\n\\t\"name\": \"laptop adapter\",\\n\\t\"@context\": \"http://schema.org\",\\n\\t\"@type\": \"Offer\",\\n\\t\"availability\": \"http://schema.org/InStock\",\\n\\t\"price\": \"500\",\\n\\t\"priceCurrency\": \"Tk\",\\n\\t\"url\": \"http://bikroy.com/en/ad/laptop-adapter-for-sale-dhaka-162\"\\n}\\n                </script>\\n               </div>\\n              </div>\\n             </div>\\n             <div class=\"ui-panel ui-pagination serp-pagination\">\\n              <div class=\"ui-panel-content ui-panel-block\">\\n               <div class=\"row lg-g\">\\n                <a class=\"col-6 lg-3 pag-prev\" href=\"/en/ads/dhaka?query=laptop&amp;sort=price_asc&amp;by_paying_member=0&amp;page=2\">\\n                 <svg class=\"ui-icon i-arrow-l\">\\n                  <use xlink:href=\"#i-arrow-l\">\\n                  </use>\\n                 </svg>\\n                 <span>\\n                  Previous\\n                 </span>\\n                </a>\\n                <div class=\"col-6 lg-6 pag-list\">\\n                 <a class=\"pag-number\" href=\"/en/ads/dhaka?query=laptop&amp;sort=price_asc&amp;by_paying_member=0\">\\n                  1\\n                 </a>\\n                 <a class=\"pag-number\" href=\"/en/ads/dhaka?query=laptop&amp;sort=price_asc&amp;by_paying_member=0&amp;page=2\">\\n                  2\\n                 </a>\\n                 <span class=\"pag-number is-current\">\\n                  3\\n                 </span>\\n                 <a class=\"pag-number\" href=\"/en/ads/dhaka?query=laptop&amp;sort=price_asc&amp;by_paying_member=0&amp;page=4\">\\n                  4\\n                 </a>\\n                 <a class=\"pag-number\" href=\"/en/ads/dhaka?query=laptop&amp;sort=price_asc&amp;by_paying_member=0&amp;page=5\">\\n                  5\\n                 </a>\\n                 <span class=\"pag-number is-ellipse\">\\n                  ...\\n                 </span>\\n                </div>\\n                <a class=\"col-6 lg-3 pag-next\" href=\"/en/ads/dhaka?query=laptop&amp;sort=price_asc&amp;by_paying_member=0&amp;page=4\">\\n                 <span>\\n                  Next\\n                 </span>\\n                 <svg class=\"ui-icon i-arrow-r\">\\n                  <use xlink:href=\"#i-arrow-r\">\\n                  </use>\\n                 </svg>\\n                </a>\\n               </div>\\n              </div>\\n             </div>\\n            </div>\\n            <div class=\"col-12 lg-3\">\\n             <div class=\"ui-panel is-transparent serp-banner is-skyscraper no-pad\">\\n              <div class=\"ui-panel-content ui-panel-block\">\\n               <div id=\"div-gpt-ad-1491300315468-373\" style=\"height:600px; width:160px;\">\\n                <script>\\n                 googletag.cmd.push(function() { googletag.display(\\'div-gpt-ad-1491300315468-373\\'); });\\n                </script>\\n               </div>\\n              </div>\\n             </div>\\n             <div class=\"serp-safety serp-insert\">\\n              <div class=\"ui-info-box row stay-safe-box\">\\n               <div class=\"col-12\">\\n                <img data-srcset=\"https://w.bikroy-st.com/dist/img/all/shared/shield-1x-d620e149.png 1x, https://w.bikroy-st.com/dist/img/all/shared/shield-2x-0a86fbef.png 1.3x\" height=\"36\" width=\"36\"/>\\n                <p>\\n                 <strong>\\n                  Stay safe on Bikroy.com!\\n                 </strong>\\n                </p>\\n                <p>\\n                 Read these safety tips before contacting any seller directly.\\n                </p>\\n               </div>\\n               <div class=\"col-12 learn-more\">\\n                <a href=\"/en/help/stay-safe#help-content\">\\n                 <span>\\n                  Learn more\\n                 </span>\\n                 <span>\\n                  <svg class=\"ui-icon i-arrow-r is-v-center\">\\n                   <use xlink:href=\"#i-arrow-r\">\\n                   </use>\\n                  </svg>\\n                 </span>\\n                </a>\\n               </div>\\n              </div>\\n             </div>\\n            </div>\\n           </div>\\n          </div>\\n         </div>\\n        </div>\\n       </div>\\n      </div>\\n     </div>\\n    </div>\\n    <div class=\"serp-banner lower-board t-center\">\\n     <div id=\"div-gpt-ad-1491300315468-407\" style=\"height:90px; width:970px;\">\\n      <script>\\n       googletag.cmd.push(function() { googletag.display(\\'div-gpt-ad-1491300315468-407\\'); });\\n      </script>\\n     </div>\\n    </div>\\n    <div class=\"post-cta t-center\">\\n     <p class=\"h1\">\\n      Do you have something to sell?\\n     </p>\\n     <p class=\"h3\">\\n      Post your ad on Bikroy.com\\n     </p>\\n     <p>\\n      <svg class=\"ui-icon i-pointer-l\">\\n       <use xlink:href=\"#i-pointer-l\">\\n       </use>\\n      </svg>\\n      <a class=\"ui-btn is-primary\" href=\"/en/post-ad\" rel=\"nofollow\">\\n       Post an ad now!\\n      </a>\\n      <svg class=\"ui-icon i-pointer-r\">\\n       <use xlink:href=\"#i-pointer-r\">\\n       </use>\\n      </svg>\\n     </p>\\n    </div>\\n   </div>\\n  </div>\\n  <div class=\"app-footer container\">\\n   <div class=\"row lg-g\">\\n    <nav class=\"footer-intro ui-nav-links col-12 lg-4\">\\n     <p class=\"title\">\\n      Download our app\\n     </p>\\n     <ul>\\n      <li>\\n       <a class=\"app-android\" href=\"https://play.google.com/store/apps/details?id=com.bikroy&amp;referrer=utm_source%3D(direct)%26utm_medium%3Dfooter_banner%26utm_campaign%3Dandroid_app\" rel=\"nofollow\" target=\"_blank\">\\n        <img data-srcset=\"https://w.bikroy-st.com/dist/img/all/app/android-a9c12585.png 1x, https://w.bikroy-st.com/dist/img/all/app/android-2x-f6e6a4fb.png 1.3x\" height=\"41\" width=\"136\"/>\\n       </a>\\n      </li>\\n      <li>\\n       <a class=\"app-ios\" href=\"https://itunes.apple.com/us/app/bikroy/id991709005\" rel=\"nofollow\" target=\"_blank\">\\n        <img data-srcset=\"https://w.bikroy-st.com/dist/img/all/app/ios-f93749bf.png 1x, https://w.bikroy-st.com/dist/img/all/app/ios-2x-5670037f.png 1.3x\" height=\"41\" width=\"136\"/>\\n       </a>\\n      </li>\\n     </ul>\\n     <p class=\"title\">\\n      Connect with us\\n     </p>\\n     <a class=\"ui-social-btn is-fb\" href=\"https://www.facebook.com/bikroy\" rel=\"nofollow\" target=\"_blank\">\\n      <span class=\"icon\">\\n       <svg class=\"ui-icon i-facebook is-l\">\\n        <use xlink:href=\"#i-facebook\">\\n        </use>\\n       </svg>\\n      </span>\\n      <span class=\"text\">\\n       Like us on Facebook\\n      </span>\\n     </a>\\n    </nav>\\n    <nav class=\"ui-nav-links col-12 lg-2\">\\n     <p class=\"title\">\\n      Learn More\\n     </p>\\n     <ul>\\n      <li class=\"ui-nav-item \">\\n       <a href=\"/en/help/sell-fast#help-content\" rel=\"\" target=\"\">\\n        <span class=\"hide-for-inactive\">\\n         How to sell fast\\n        </span>\\n       </a>\\n      </li>\\n      <li class=\"ui-nav-item \">\\n       <a href=\"/en/buy-now\" rel=\"\" target=\"\">\\n        <span class=\"hide-for-inactive\">\\n         Buy Now on Bikroy.com\\n        </span>\\n       </a>\\n      </li>\\n      <li class=\"ui-nav-item \">\\n       <a href=\"/en/membership\" rel=\"\" target=\"\">\\n        <span class=\"hide-for-inactive\">\\n         Membership\\n        </span>\\n       </a>\\n      </li>\\n      <li class=\"ui-nav-item \">\\n       <a href=\"/en/advertising\" rel=\"\" target=\"\">\\n        <span class=\"hide-for-inactive\">\\n         Banner Advertising\\n        </span>\\n       </a>\\n      </li>\\n      <li class=\"ui-nav-item \">\\n       <a href=\"/en/promotions\" rel=\"\" target=\"\">\\n        <span class=\"hide-for-inactive\">\\n         Promote your ad\\n        </span>\\n       </a>\\n      </li>\\n     </ul>\\n    </nav>\\n    <nav class=\"ui-nav-links col-12 lg-2\">\\n     <p class=\"title\">\\n      Help &amp; Support\\n     </p>\\n     <ul>\\n      <li class=\"ui-nav-item \">\\n       <a href=\"/en/help/faq#help-content\" rel=\"\" target=\"\">\\n        <span class=\"hide-for-inactive\">\\n         FAQ\\n        </span>\\n       </a>\\n      </li>\\n      <li class=\"ui-nav-item \">\\n       <a href=\"/en/help/stay-safe#help-content\" rel=\"\" target=\"\">\\n        <span class=\"hide-for-inactive\">\\n         Stay safe on Bikroy.com\\n        </span>\\n       </a>\\n      </li>\\n      <li class=\"ui-nav-item \">\\n       <a href=\"/en/help/contact#help-content\" rel=\"\" target=\"\">\\n        <span class=\"hide-for-inactive\">\\n         Contact us\\n        </span>\\n       </a>\\n      </li>\\n     </ul>\\n    </nav>\\n    <nav class=\"ui-nav-links col-12 lg-2\">\\n     <p class=\"title\">\\n      Social\\n     </p>\\n     <ul>\\n      <li class=\"ui-nav-item blog-url\">\\n       <a href=\"http://blog.bikroy.com/\">\\n        Blog\\n       </a>\\n      </li>\\n      <li class=\"ui-nav-item social-facebook\">\\n       <a href=\"https://www.facebook.com/bikroy\" rel=\"nofollow\" target=\"_blank\">\\n        Facebook\\n       </a>\\n      </li>\\n      <li class=\"ui-nav-item social-twitter\">\\n       <a href=\"https://twitter.com/bikroy_com\" rel=\"nofollow\" target=\"_blank\">\\n        Twitter\\n       </a>\\n      </li>\\n      <li class=\"ui-nav-item social-youtube\">\\n       <a href=\"https://www.youtube.com/user/BikroyBD\" rel=\"nofollow\" target=\"_blank\">\\n        YouTube\\n       </a>\\n      </li>\\n      <li class=\"ui-nav-item social-googlePlus\">\\n       <a href=\"https://plus.google.com/+Bikroy/posts\" rel=\"nofollow\" target=\"_blank\">\\n        Google+\\n       </a>\\n      </li>\\n     </ul>\\n    </nav>\\n    <nav class=\"ui-nav-links col-12 lg-2\">\\n     <p class=\"title\">\\n      About us\\n     </p>\\n     <ul>\\n      <li class=\"ui-nav-item \">\\n       <a href=\"/en/help/about#help-content\" rel=\"\" target=\"\">\\n        <span class=\"hide-for-inactive\">\\n         About us\\n        </span>\\n       </a>\\n      </li>\\n      <li class=\"ui-nav-item\">\\n       <a class=\"careers\" href=\"https://www.bikroy.com/BikroyJobs\">\\n        Career\\n       </a>\\n      </li>\\n      <li class=\"ui-nav-item \">\\n       <a href=\"/en/terms\" rel=\"nofollow\" target=\"\">\\n        <span class=\"hide-for-inactive\">\\n         Terms &amp; Conditions\\n        </span>\\n       </a>\\n      </li>\\n      <li class=\"ui-nav-item \">\\n       <a href=\"/en/privacy\" rel=\"nofollow\" target=\"\">\\n        <span class=\"hide-for-inactive\">\\n         Privacy Policy\\n        </span>\\n       </a>\\n      </li>\\n      <li class=\"ui-nav-item \">\\n       <a href=\"/en/sitemap\" rel=\"\" target=\"\">\\n        <span class=\"hide-for-inactive\">\\n         Sitemap\\n        </span>\\n       </a>\\n      </li>\\n     </ul>\\n    </nav>\\n   </div>\\n   <div class=\"footer-final row\">\\n    <div class=\"col-8 copyright\">\\n     Copyright © Saltside Technologies\\n    </div>\\n    <div class=\"col-4 logo\">\\n     <img data-srcset=\"https://w.bikroy-st.com/dist/img/bikroy/all/logos/footer-ac8735cc.png 1x, https://w.bikroy-st.com/dist/img/bikroy/all/logos/footer-2x-dbac45ae.png 1.3x\" height=\"18\"/>\\n    </div>\\n   </div>\\n  </div>\\n  <script type=\"application/ld+json\">\\n   {\"@context\":\"http://schema.org\",\"@type\":\"WebSite\",\"name\":\"Bikroy\",\"url\":\"https://bikroy.com\",\"image\":\"https://w.bikroy-st.com/dist/img/bikroy/all/logos/footer-2x-dbac45ae.png\",\"potentialAction\":[{\"@type\":\"SearchAction\",\"target\":\"https://bikroy.com/bn/ads?query={search_term_string}\",\"query-input\":\"required name=search_term_string\"},{\"@type\":\"SearchAction\",\"target\":\"android-app://com.bikroy/bikroy/ads?query={search_term_string}\",\"query-input\":\"required name=search_term_string\"}],\"description\":\"Buy and sell everything from second-hand cars to mobile phones, or even find a new home. Find a great deal in Dhaka or search all of Bangladesh!\"}\\n  </script>\\n  <script type=\"application/ld+json\">\\n   {\"@context\":\"http://schema.org\",\"@type\":\"Organization\",\"name\":\"Bikroy\",\"url\":\"https://bikroy.com\",\"logo\":\"https://w.bikroy-st.com/dist/img/bikroy/all/logos/footer-2x-dbac45ae.png\",\"contactPoint\":{\"@type\":\"ContactPoint\",\"telephone\":\"+8809613 555444\",\"contactType\":\"Customer Service\"},\"sameAs\":[\"https://www.facebook.com/bikroy\",\"https://www.instagram.com/bikroy/\",\"https://www.pinterest.com/bikroy/\",\"https://twitter.com/bikroy_com\",\"https://plus.google.com/+bikroy\",\"https://www.linkedin.com/company/bikroy-com\",\"https://en.wikipedia.org/wiki/Bikroy.com\"]}\\n  </script>\\n  <script>\\n   window.PLATFORM = CONFIG.platform = \\'lg\\';\\nCONFIG.locale = \\'en\\';\\n  </script>\\n  <script src=\"https://w.bikroy-st.com/dist/15022765/js/lg/serp.js\">\\n  </script>\\n  <script type=\"text/javascript\">\\n   gtmData.push({\"userAuthenticated\":\"no\",\"platform\":\"lg\"})\\n  </script>\\n  <script>\\n   (function(w,d,s,l,i){w[l]=w[l]||[];w[l].push({\\'gtm.start\\':new Date().getTime(),event:\\'gtm.js\\'});var f=d.getElementsByTagName(s)[0],j=d.createElement(s),dl=l!=\\'dataLayer\\'?\\'&l=\\'+l:\\'\\';j.async=true;j.src=\\'//www.googletagmanager.com/gtm.js?id=\\'+i+dl;f.parentNode.insertBefore(j,f);})(window,document,\\'script\\',\\'gtmData\\',\\'GTM-TJ458N\\');\\n  </script>\\n  <!-- 2017-08-13T11:51:35.088Z -->\\n </body>\\n</html>'"
      ]
     },
     "execution_count": 8,
     "metadata": {},
     "output_type": "execute_result"
    }
   ],
   "source": [
    "bikroy.prettify()"
   ]
  },
  {
   "cell_type": "code",
   "execution_count": 9,
   "metadata": {
    "collapsed": true
   },
   "outputs": [],
   "source": [
    "my_divs = bikroy.findAll(\"div\", { \"class\" : \"ui-item\" })"
   ]
  },
  {
   "cell_type": "code",
   "execution_count": 10,
   "metadata": {},
   "outputs": [
    {
     "data": {
      "text/plain": [
       "[<div class=\"ui-item is-top\"><div class=\"item-thumb has-frames\"><a href=\"/en/ad/dell-laptop-battery-for-sale-dhaka-27\"><img alt=\"Computer Accessories-Dhaka - Dell Laptop Battery\" data-srcset=\"//i.bikroy-st.com/86e91a60-9445-4828-aac1-d754fe7e3428/160/120/cropped.jpg 1x, //i.bikroy-st.com/86e91a60-9445-4828-aac1-d754fe7e3428/320/240/cropped.jpg 1.3x\" title=\"Dell Laptop Battery\"/></a></div><div class=\"item-content\"><a class=\"item-title h4\" href=\"/en/ad/dell-laptop-battery-for-sale-dhaka-27\">Dell Laptop Battery</a><p class=\"item-location\"><span class=\"ui-bubble is-member\">MEMBER</span><span>20 Jul 12:12 pm</span><span>, </span><span class=\"item-area\">Dhaka</span><span>, </span><span class=\"item-cat\">Computer Accessories</span></p><p class=\"item-info\"><strong>Tk 1,450</strong></p></div><div class=\"item-extras\"><a class=\"item-promotion\" href=\"/en/promotions\"><img data-srcset=\"https://w.bikroy-st.com/dist/img/all/products/18/topad-1x-bb475439.png 1x, https://w.bikroy-st.com/dist/img/all/products/18/topad-2x-b8940959.png 1.3x\" height=\"18\" width=\"18\"/><span>TOP AD</span></a><script type=\"application/ld+json\">{\n",
       " \t\"name\": \"Dell Laptop Battery\",\n",
       " \t\"@context\": \"http://schema.org\",\n",
       " \t\"@type\": \"Offer\",\n",
       " \t\"availability\": \"http://schema.org/InStock\",\n",
       " \t\"price\": \"1,450\",\n",
       " \t\"priceCurrency\": \"Tk\",\n",
       " \t\"url\": \"http://bikroy.com/en/ad/dell-laptop-battery-for-sale-dhaka-27\"\n",
       " }</script></div></div>,\n",
       " <div class=\"ui-item is-top\"><div class=\"item-thumb has-frames\"><a href=\"/en/ad/hp-elitbook-8470p-intel-i5-new-laptop-for-sale-dhaka\"><img alt=\"Computers &amp; Tablets-Dhaka - HP ElitBook 8470p Intel i5 New Laptop\" data-srcset=\"//i.bikroy-st.com/67280a41-81d3-4f4d-a5fa-634433648d76/160/120/cropped.jpg 1x, //i.bikroy-st.com/67280a41-81d3-4f4d-a5fa-634433648d76/320/240/cropped.jpg 1.3x\" title=\"HP ElitBook 8470p Intel i5 New Laptop\"/></a></div><div class=\"item-content\"><a class=\"item-title h4\" href=\"/en/ad/hp-elitbook-8470p-intel-i5-new-laptop-for-sale-dhaka\">HP ElitBook 8470p Intel i5 New Laptop</a><p class=\"item-location\"><span class=\"ui-bubble is-member\">MEMBER</span><span>28 Jul  2:58 am</span><span>, </span><span class=\"item-area\">Dhaka</span><span>, </span><span class=\"item-cat\">Computers &amp; Tablets</span></p><p class=\"item-info\"><strong>Tk 19,000</strong></p></div><div class=\"item-extras\"><a class=\"item-promotion\" href=\"/en/promotions\"><img data-srcset=\"https://w.bikroy-st.com/dist/img/all/products/18/topad-1x-bb475439.png 1x, https://w.bikroy-st.com/dist/img/all/products/18/topad-2x-b8940959.png 1.3x\" height=\"18\" width=\"18\"/><span>TOP AD</span></a><script type=\"application/ld+json\">{\n",
       " \t\"name\": \"HP ElitBook 8470p Intel i5 New Laptop\",\n",
       " \t\"@context\": \"http://schema.org\",\n",
       " \t\"@type\": \"Offer\",\n",
       " \t\"availability\": \"http://schema.org/InStock\",\n",
       " \t\"price\": \"19,000\",\n",
       " \t\"priceCurrency\": \"Tk\",\n",
       " \t\"url\": \"http://bikroy.com/en/ad/hp-elitbook-8470p-intel-i5-new-laptop-for-sale-dhaka\"\n",
       " }</script></div></div>,\n",
       " <div class=\"ui-item\"><div class=\"item-thumb has-frames\"><a href=\"/en/ad/laptop-keyboard-for-sale-dhaka-260\"><img alt=\"Computer Accessories-Dhaka - laptop keyboard\" data-srcset=\"//i.bikroy-st.com/b658f9ae-b42c-4b1e-bf57-3ea0a3297543/136/102/cropped.jpg 1x, //i.bikroy-st.com/b658f9ae-b42c-4b1e-bf57-3ea0a3297543/272/204/cropped.jpg 1.3x\" title=\"laptop keyboard\"/></a></div><div class=\"item-content\"><a class=\"item-title h4\" href=\"/en/ad/laptop-keyboard-for-sale-dhaka-260\">laptop keyboard</a><p class=\"item-location\"><span class=\"ui-bubble is-member\">MEMBER</span><span>23 Jul  2:20 pm</span><span>, </span><span class=\"item-area\">Dhaka</span><span>, </span><span class=\"item-cat\">Computer Accessories</span></p><p class=\"item-info\"><strong>Tk 500</strong></p></div><div class=\"item-extras\"><script type=\"application/ld+json\">{\n",
       " \t\"name\": \"laptop keyboard\",\n",
       " \t\"@context\": \"http://schema.org\",\n",
       " \t\"@type\": \"Offer\",\n",
       " \t\"availability\": \"http://schema.org/InStock\",\n",
       " \t\"price\": \"500\",\n",
       " \t\"priceCurrency\": \"Tk\",\n",
       " \t\"url\": \"http://bikroy.com/en/ad/laptop-keyboard-for-sale-dhaka-260\"\n",
       " }</script></div></div>,\n",
       " <div class=\"ui-item\"><div class=\"item-thumb has-frames\"><a href=\"/en/ad/laptop-keyboard-for-sale-dhaka-278\"><img alt=\"Computer Accessories-Dhaka - laptop keyboard\" data-srcset=\"//i.bikroy-st.com/dd82362b-9067-4f2f-8ae2-56a9826c9134/136/102/cropped.jpg 1x, //i.bikroy-st.com/dd82362b-9067-4f2f-8ae2-56a9826c9134/272/204/cropped.jpg 1.3x\" title=\"laptop keyboard\"/></a></div><div class=\"item-content\"><a class=\"item-title h4\" href=\"/en/ad/laptop-keyboard-for-sale-dhaka-278\">laptop keyboard</a><p class=\"item-location\"><span class=\"ui-bubble is-member\">MEMBER</span><span>23 Jul  4:14 pm</span><span>, </span><span class=\"item-area\">Dhaka</span><span>, </span><span class=\"item-cat\">Computer Accessories</span></p><p class=\"item-info\"><strong>Tk 500</strong></p></div><div class=\"item-extras\"><script type=\"application/ld+json\">{\n",
       " \t\"name\": \"laptop keyboard\",\n",
       " \t\"@context\": \"http://schema.org\",\n",
       " \t\"@type\": \"Offer\",\n",
       " \t\"availability\": \"http://schema.org/InStock\",\n",
       " \t\"price\": \"500\",\n",
       " \t\"priceCurrency\": \"Tk\",\n",
       " \t\"url\": \"http://bikroy.com/en/ad/laptop-keyboard-for-sale-dhaka-278\"\n",
       " }</script></div></div>,\n",
       " <div class=\"ui-item\"><div class=\"item-thumb has-frames\"><a href=\"/en/ad/laptop-keyboard-for-sale-dhaka-263\"><img alt=\"Computer Accessories-Dhaka - laptop keyboard\" data-srcset=\"//i.bikroy-st.com/867874e2-98df-4669-83e9-3b25066b6e0d/136/102/cropped.jpg 1x, //i.bikroy-st.com/867874e2-98df-4669-83e9-3b25066b6e0d/272/204/cropped.jpg 1.3x\" title=\"laptop keyboard\"/></a></div><div class=\"item-content\"><a class=\"item-title h4\" href=\"/en/ad/laptop-keyboard-for-sale-dhaka-263\">laptop keyboard</a><p class=\"item-location\"><span class=\"ui-bubble is-member\">MEMBER</span><span>23 Jul  2:53 pm</span><span>, </span><span class=\"item-area\">Dhaka</span><span>, </span><span class=\"item-cat\">Computer Accessories</span></p><p class=\"item-info\"><strong>Tk 500</strong></p></div><div class=\"item-extras\"><script type=\"application/ld+json\">{\n",
       " \t\"name\": \"laptop keyboard\",\n",
       " \t\"@context\": \"http://schema.org\",\n",
       " \t\"@type\": \"Offer\",\n",
       " \t\"availability\": \"http://schema.org/InStock\",\n",
       " \t\"price\": \"500\",\n",
       " \t\"priceCurrency\": \"Tk\",\n",
       " \t\"url\": \"http://bikroy.com/en/ad/laptop-keyboard-for-sale-dhaka-263\"\n",
       " }</script></div></div>,\n",
       " <div class=\"ui-item\"><div class=\"item-thumb\"><a href=\"/en/ad/hp-elitebook-8470p-laptop-ribbon-for-sale-dhaka-1\"><img alt=\"Computer Accessories-Dhaka - HP Elitebook 8470P Laptop Ribbon\" data-srcset=\"//i.bikroy-st.com/74551bfe-8bc8-432d-8ef7-c702adfae590/136/102/cropped.jpg 1x, //i.bikroy-st.com/74551bfe-8bc8-432d-8ef7-c702adfae590/272/204/cropped.jpg 1.3x\" title=\"HP Elitebook 8470P Laptop Ribbon\"/></a></div><div class=\"item-content\"><a class=\"item-title h4\" href=\"/en/ad/hp-elitebook-8470p-laptop-ribbon-for-sale-dhaka-1\">HP Elitebook 8470P Laptop Ribbon</a><p class=\"item-location\"><span class=\"ui-bubble is-member\">MEMBER</span><span>31 Jul 11:26 pm</span><span>, </span><span class=\"item-area\">Dhaka</span><span>, </span><span class=\"item-cat\">Computer Accessories</span></p><p class=\"item-info\"><strong>Tk 500</strong></p></div><div class=\"item-extras\"><script type=\"application/ld+json\">{\n",
       " \t\"name\": \"HP Elitebook 8470P Laptop Ribbon\",\n",
       " \t\"@context\": \"http://schema.org\",\n",
       " \t\"@type\": \"Offer\",\n",
       " \t\"availability\": \"http://schema.org/InStock\",\n",
       " \t\"price\": \"500\",\n",
       " \t\"priceCurrency\": \"Tk\",\n",
       " \t\"url\": \"http://bikroy.com/en/ad/hp-elitebook-8470p-laptop-ribbon-for-sale-dhaka-1\"\n",
       " }</script></div></div>,\n",
       " <div class=\"ui-item\"><div class=\"item-thumb\"><a href=\"/en/ad/laptop-cooler-model-x890-for-sale-dhaka-1\"><img alt=\"Computer Accessories-Dhaka - Laptop Cooler Model - X890\" data-srcset=\"//i.bikroy-st.com/0c0caf2c-2f67-4c3e-b61f-f086944a3c75/136/102/cropped.jpg 1x, //i.bikroy-st.com/0c0caf2c-2f67-4c3e-b61f-f086944a3c75/272/204/cropped.jpg 1.3x\" title=\"Laptop Cooler Model - X890\"/></a></div><div class=\"item-content\"><a class=\"item-title h4\" href=\"/en/ad/laptop-cooler-model-x890-for-sale-dhaka-1\">Laptop Cooler Model - X890</a><p class=\"item-location\"><span>08 Jul 11:08 pm</span><span>, </span><span class=\"item-area\">Dhaka</span><span>, </span><span class=\"item-cat\">Computer Accessories</span></p><p class=\"item-info\"><strong>Tk 500</strong></p></div><div class=\"item-extras\"><script type=\"application/ld+json\">{\n",
       " \t\"name\": \"Laptop Cooler Model - X890\",\n",
       " \t\"@context\": \"http://schema.org\",\n",
       " \t\"@type\": \"Offer\",\n",
       " \t\"availability\": \"http://schema.org/InStock\",\n",
       " \t\"price\": \"500\",\n",
       " \t\"priceCurrency\": \"Tk\",\n",
       " \t\"url\": \"http://bikroy.com/en/ad/laptop-cooler-model-x890-for-sale-dhaka-1\"\n",
       " }</script></div></div>,\n",
       " <div class=\"ui-item\"><div class=\"item-thumb\"><a href=\"/en/ad/dell-inspiron-3421-laptop-ribbon-cable-for-sale-dhaka-1\"><img alt=\"Computer Accessories-Dhaka - Dell Inspiron 3421 Laptop Ribbon Cable\" data-srcset=\"//i.bikroy-st.com/7379cdcc-0d63-4acf-99b6-e1ccadffee51/136/102/cropped.jpg 1x, //i.bikroy-st.com/7379cdcc-0d63-4acf-99b6-e1ccadffee51/272/204/cropped.jpg 1.3x\" title=\"Dell Inspiron 3421 Laptop Ribbon Cable\"/></a></div><div class=\"item-content\"><a class=\"item-title h4\" href=\"/en/ad/dell-inspiron-3421-laptop-ribbon-cable-for-sale-dhaka-1\">Dell Inspiron 3421 Laptop Ribbon Cable</a><p class=\"item-location\"><span class=\"ui-bubble is-member\">MEMBER</span><span>31 Jul  9:14 pm</span><span>, </span><span class=\"item-area\">Dhaka</span><span>, </span><span class=\"item-cat\">Computer Accessories</span></p><p class=\"item-info\"><strong>Tk 500</strong></p></div><div class=\"item-extras\"><script type=\"application/ld+json\">{\n",
       " \t\"name\": \"Dell Inspiron 3421 Laptop Ribbon Cable\",\n",
       " \t\"@context\": \"http://schema.org\",\n",
       " \t\"@type\": \"Offer\",\n",
       " \t\"availability\": \"http://schema.org/InStock\",\n",
       " \t\"price\": \"500\",\n",
       " \t\"priceCurrency\": \"Tk\",\n",
       " \t\"url\": \"http://bikroy.com/en/ad/dell-inspiron-3421-laptop-ribbon-cable-for-sale-dhaka-1\"\n",
       " }</script></div></div>,\n",
       " <div class=\"ui-item\"><div class=\"item-thumb\"><a href=\"/en/ad/hp-g4-laptop-ribbon-cable-for-sale-dhaka-1\"><img alt=\"Computer Accessories-Dhaka - HP G4 Laptop Ribbon Cable\" data-srcset=\"//i.bikroy-st.com/167f7114-0afa-4ac6-9516-ff1380bdb334/136/102/cropped.jpg 1x, //i.bikroy-st.com/167f7114-0afa-4ac6-9516-ff1380bdb334/272/204/cropped.jpg 1.3x\" title=\"HP G4 Laptop Ribbon Cable\"/></a></div><div class=\"item-content\"><a class=\"item-title h4\" href=\"/en/ad/hp-g4-laptop-ribbon-cable-for-sale-dhaka-1\">HP G4 Laptop Ribbon Cable</a><p class=\"item-location\"><span class=\"ui-bubble is-member\">MEMBER</span><span>31 Jul  9:25 pm</span><span>, </span><span class=\"item-area\">Dhaka</span><span>, </span><span class=\"item-cat\">Computer Accessories</span></p><p class=\"item-info\"><strong>Tk 500</strong></p></div><div class=\"item-extras\"><script type=\"application/ld+json\">{\n",
       " \t\"name\": \"HP G4 Laptop Ribbon Cable\",\n",
       " \t\"@context\": \"http://schema.org\",\n",
       " \t\"@type\": \"Offer\",\n",
       " \t\"availability\": \"http://schema.org/InStock\",\n",
       " \t\"price\": \"500\",\n",
       " \t\"priceCurrency\": \"Tk\",\n",
       " \t\"url\": \"http://bikroy.com/en/ad/hp-g4-laptop-ribbon-cable-for-sale-dhaka-1\"\n",
       " }</script></div></div>,\n",
       " <div class=\"ui-item\"><div class=\"item-thumb\"><a href=\"/en/ad/asus-k42f-laptop-keyboard-for-sale-dhaka-2\"><img alt=\"Computer Accessories-Dhaka - Asus K42F Laptop Keyboard\" data-srcset=\"//i.bikroy-st.com/24964b0b-3ce7-4ebd-8f44-3aa81c4cc353/136/102/cropped.jpg 1x, //i.bikroy-st.com/24964b0b-3ce7-4ebd-8f44-3aa81c4cc353/272/204/cropped.jpg 1.3x\" title=\"Asus K42F Laptop Keyboard\"/></a></div><div class=\"item-content\"><a class=\"item-title h4\" href=\"/en/ad/asus-k42f-laptop-keyboard-for-sale-dhaka-2\">Asus K42F Laptop Keyboard</a><p class=\"item-location\"><span class=\"ui-bubble is-member\">MEMBER</span><span>31 Jul  9:35 pm</span><span>, </span><span class=\"item-area\">Dhaka</span><span>, </span><span class=\"item-cat\">Computer Accessories</span></p><p class=\"item-info\"><strong>Tk 500</strong></p></div><div class=\"item-extras\"><script type=\"application/ld+json\">{\n",
       " \t\"name\": \"Asus K42F Laptop Keyboard\",\n",
       " \t\"@context\": \"http://schema.org\",\n",
       " \t\"@type\": \"Offer\",\n",
       " \t\"availability\": \"http://schema.org/InStock\",\n",
       " \t\"price\": \"500\",\n",
       " \t\"priceCurrency\": \"Tk\",\n",
       " \t\"url\": \"http://bikroy.com/en/ad/asus-k42f-laptop-keyboard-for-sale-dhaka-2\"\n",
       " }</script></div></div>,\n",
       " <div class=\"ui-item\"><div class=\"item-thumb\"><a href=\"/en/ad/hp-probook-440-g1-laptop-ribbon-cable-for-sale-dhaka-1\"><img alt=\"Computer Accessories-Dhaka - HP ProBook 440 G1 Laptop Ribbon Cable\" data-srcset=\"//i.bikroy-st.com/645cc955-07f9-499d-9f1b-68bd4f7e1613/136/102/cropped.jpg 1x, //i.bikroy-st.com/645cc955-07f9-499d-9f1b-68bd4f7e1613/272/204/cropped.jpg 1.3x\" title=\"HP ProBook 440 G1 Laptop Ribbon Cable\"/></a></div><div class=\"item-content\"><a class=\"item-title h4\" href=\"/en/ad/hp-probook-440-g1-laptop-ribbon-cable-for-sale-dhaka-1\">HP ProBook 440 G1 Laptop Ribbon Cable</a><p class=\"item-location\"><span class=\"ui-bubble is-member\">MEMBER</span><span>31 Jul  9:31 pm</span><span>, </span><span class=\"item-area\">Dhaka</span><span>, </span><span class=\"item-cat\">Computer Accessories</span></p><p class=\"item-info\"><strong>Tk 500</strong></p></div><div class=\"item-extras\"><script type=\"application/ld+json\">{\n",
       " \t\"name\": \"HP ProBook 440 G1 Laptop Ribbon Cable\",\n",
       " \t\"@context\": \"http://schema.org\",\n",
       " \t\"@type\": \"Offer\",\n",
       " \t\"availability\": \"http://schema.org/InStock\",\n",
       " \t\"price\": \"500\",\n",
       " \t\"priceCurrency\": \"Tk\",\n",
       " \t\"url\": \"http://bikroy.com/en/ad/hp-probook-440-g1-laptop-ribbon-cable-for-sale-dhaka-1\"\n",
       " }</script></div></div>,\n",
       " <div class=\"ui-item\"><div class=\"item-thumb\"><a href=\"/en/ad/acer-e1-571-laptop-ribbon-for-sale-dhaka-1\"><img alt=\"Computer Accessories-Dhaka - Acer E1-571 Laptop Ribbon\" data-srcset=\"//i.bikroy-st.com/3e608767-1fde-4662-a95f-7ed1d669a73a/136/102/cropped.jpg 1x, //i.bikroy-st.com/3e608767-1fde-4662-a95f-7ed1d669a73a/272/204/cropped.jpg 1.3x\" title=\"Acer E1-571 Laptop Ribbon\"/></a></div><div class=\"item-content\"><a class=\"item-title h4\" href=\"/en/ad/acer-e1-571-laptop-ribbon-for-sale-dhaka-1\">Acer E1-571 Laptop Ribbon</a><p class=\"item-location\"><span class=\"ui-bubble is-member\">MEMBER</span><span>31 Jul  9:42 pm</span><span>, </span><span class=\"item-area\">Dhaka</span><span>, </span><span class=\"item-cat\">Computer Accessories</span></p><p class=\"item-info\"><strong>Tk 500</strong></p></div><div class=\"item-extras\"><script type=\"application/ld+json\">{\n",
       " \t\"name\": \"Acer E1-571 Laptop Ribbon\",\n",
       " \t\"@context\": \"http://schema.org\",\n",
       " \t\"@type\": \"Offer\",\n",
       " \t\"availability\": \"http://schema.org/InStock\",\n",
       " \t\"price\": \"500\",\n",
       " \t\"priceCurrency\": \"Tk\",\n",
       " \t\"url\": \"http://bikroy.com/en/ad/acer-e1-571-laptop-ribbon-for-sale-dhaka-1\"\n",
       " }</script></div></div>,\n",
       " <div class=\"ui-item\"><div class=\"item-thumb\"><a href=\"/en/ad/dell-vostro-3450-laptop-ribbon-cable-for-sale-dhaka-1\"><img alt=\"Computer Accessories-Dhaka - Dell Vostro 3450 Laptop Ribbon Cable\" data-srcset=\"//i.bikroy-st.com/1d681f3a-a654-4729-b938-64dbd27bd3a2/136/102/cropped.jpg 1x, //i.bikroy-st.com/1d681f3a-a654-4729-b938-64dbd27bd3a2/272/204/cropped.jpg 1.3x\" title=\"Dell Vostro 3450 Laptop Ribbon Cable\"/></a></div><div class=\"item-content\"><a class=\"item-title h4\" href=\"/en/ad/dell-vostro-3450-laptop-ribbon-cable-for-sale-dhaka-1\">Dell Vostro 3450 Laptop Ribbon Cable</a><p class=\"item-location\"><span class=\"ui-bubble is-member\">MEMBER</span><span>31 Jul  9:44 pm</span><span>, </span><span class=\"item-area\">Dhaka</span><span>, </span><span class=\"item-cat\">Computer Accessories</span></p><p class=\"item-info\"><strong>Tk 500</strong></p></div><div class=\"item-extras\"><script type=\"application/ld+json\">{\n",
       " \t\"name\": \"Dell Vostro 3450 Laptop Ribbon Cable\",\n",
       " \t\"@context\": \"http://schema.org\",\n",
       " \t\"@type\": \"Offer\",\n",
       " \t\"availability\": \"http://schema.org/InStock\",\n",
       " \t\"price\": \"500\",\n",
       " \t\"priceCurrency\": \"Tk\",\n",
       " \t\"url\": \"http://bikroy.com/en/ad/dell-vostro-3450-laptop-ribbon-cable-for-sale-dhaka-1\"\n",
       " }</script></div></div>,\n",
       " <div class=\"ui-item\"><div class=\"item-thumb\"><a href=\"/en/ad/acer-d-255-laptop-keyboard-for-sale-dhaka-1\"><img alt=\"Computer Accessories-Dhaka - Acer D-255 Laptop Keyboard\" data-srcset=\"//i.bikroy-st.com/c5d381bc-d297-4af5-bcf1-5f75300e6821/136/102/cropped.jpg 1x, //i.bikroy-st.com/c5d381bc-d297-4af5-bcf1-5f75300e6821/272/204/cropped.jpg 1.3x\" title=\"Acer D-255 Laptop Keyboard\"/></a></div><div class=\"item-content\"><a class=\"item-title h4\" href=\"/en/ad/acer-d-255-laptop-keyboard-for-sale-dhaka-1\">Acer D-255 Laptop Keyboard</a><p class=\"item-location\"><span class=\"ui-bubble is-member\">MEMBER</span><span>31 Jul  9:51 pm</span><span>, </span><span class=\"item-area\">Dhaka</span><span>, </span><span class=\"item-cat\">Computer Accessories</span></p><p class=\"item-info\"><strong>Tk 500</strong></p></div><div class=\"item-extras\"><script type=\"application/ld+json\">{\n",
       " \t\"name\": \"Acer D-255 Laptop Keyboard\",\n",
       " \t\"@context\": \"http://schema.org\",\n",
       " \t\"@type\": \"Offer\",\n",
       " \t\"availability\": \"http://schema.org/InStock\",\n",
       " \t\"price\": \"500\",\n",
       " \t\"priceCurrency\": \"Tk\",\n",
       " \t\"url\": \"http://bikroy.com/en/ad/acer-d-255-laptop-keyboard-for-sale-dhaka-1\"\n",
       " }</script></div></div>,\n",
       " <div class=\"ui-item\"><div class=\"item-thumb\"><a href=\"/en/ad/hp-4440s-laptop-ribbon-for-sale-dhaka-1\"><img alt=\"Computer Accessories-Dhaka - HP 4440S Laptop Ribbon\" data-srcset=\"//i.bikroy-st.com/c1e500ad-7a12-406d-aead-67110ac926f6/136/102/cropped.jpg 1x, //i.bikroy-st.com/c1e500ad-7a12-406d-aead-67110ac926f6/272/204/cropped.jpg 1.3x\" title=\"HP 4440S Laptop Ribbon\"/></a></div><div class=\"item-content\"><a class=\"item-title h4\" href=\"/en/ad/hp-4440s-laptop-ribbon-for-sale-dhaka-1\">HP 4440S Laptop Ribbon</a><p class=\"item-location\"><span class=\"ui-bubble is-member\">MEMBER</span><span>31 Jul  9:54 pm</span><span>, </span><span class=\"item-area\">Dhaka</span><span>, </span><span class=\"item-cat\">Computer Accessories</span></p><p class=\"item-info\"><strong>Tk 500</strong></p></div><div class=\"item-extras\"><script type=\"application/ld+json\">{\n",
       " \t\"name\": \"HP 4440S Laptop Ribbon\",\n",
       " \t\"@context\": \"http://schema.org\",\n",
       " \t\"@type\": \"Offer\",\n",
       " \t\"availability\": \"http://schema.org/InStock\",\n",
       " \t\"price\": \"500\",\n",
       " \t\"priceCurrency\": \"Tk\",\n",
       " \t\"url\": \"http://bikroy.com/en/ad/hp-4440s-laptop-ribbon-for-sale-dhaka-1\"\n",
       " }</script></div></div>,\n",
       " <div class=\"ui-item\"><div class=\"item-thumb\"><a href=\"/en/ad/hp-probook-450-g2-laptop-ribbon-for-sale-dhaka-1\"><img alt=\"Computer Accessories-Dhaka - HP ProBook 450 G2 Laptop Ribbon\" data-srcset=\"//i.bikroy-st.com/5bbfd914-f7fa-4cc2-a8b3-254f00537e73/136/102/cropped.jpg 1x, //i.bikroy-st.com/5bbfd914-f7fa-4cc2-a8b3-254f00537e73/272/204/cropped.jpg 1.3x\" title=\"HP ProBook 450 G2 Laptop Ribbon\"/></a></div><div class=\"item-content\"><a class=\"item-title h4\" href=\"/en/ad/hp-probook-450-g2-laptop-ribbon-for-sale-dhaka-1\">HP ProBook 450 G2 Laptop Ribbon</a><p class=\"item-location\"><span class=\"ui-bubble is-member\">MEMBER</span><span>31 Jul  9:56 pm</span><span>, </span><span class=\"item-area\">Dhaka</span><span>, </span><span class=\"item-cat\">Computer Accessories</span></p><p class=\"item-info\"><strong>Tk 500</strong></p></div><div class=\"item-extras\"><script type=\"application/ld+json\">{\n",
       " \t\"name\": \"HP ProBook 450 G2 Laptop Ribbon\",\n",
       " \t\"@context\": \"http://schema.org\",\n",
       " \t\"@type\": \"Offer\",\n",
       " \t\"availability\": \"http://schema.org/InStock\",\n",
       " \t\"price\": \"500\",\n",
       " \t\"priceCurrency\": \"Tk\",\n",
       " \t\"url\": \"http://bikroy.com/en/ad/hp-probook-450-g2-laptop-ribbon-for-sale-dhaka-1\"\n",
       " }</script></div></div>,\n",
       " <div class=\"ui-item\"><div class=\"item-thumb\"><a href=\"/en/ad/fujitsu-lifebook-lh530-laptop-ribbon-for-sale-dhaka-1\"><img alt=\"Computer Accessories-Dhaka - Fujitsu Lifebook LH530 Laptop Ribbon\" data-srcset=\"//i.bikroy-st.com/2be9fe27-1ef3-44fe-9e7f-c6881359ff95/136/102/cropped.jpg 1x, //i.bikroy-st.com/2be9fe27-1ef3-44fe-9e7f-c6881359ff95/272/204/cropped.jpg 1.3x\" title=\"Fujitsu Lifebook LH530 Laptop Ribbon\"/></a></div><div class=\"item-content\"><a class=\"item-title h4\" href=\"/en/ad/fujitsu-lifebook-lh530-laptop-ribbon-for-sale-dhaka-1\">Fujitsu Lifebook LH530 Laptop Ribbon</a><p class=\"item-location\"><span class=\"ui-bubble is-member\">MEMBER</span><span>31 Jul 11:21 pm</span><span>, </span><span class=\"item-area\">Dhaka</span><span>, </span><span class=\"item-cat\">Computer Accessories</span></p><p class=\"item-info\"><strong>Tk 500</strong></p></div><div class=\"item-extras\"><script type=\"application/ld+json\">{\n",
       " \t\"name\": \"Fujitsu Lifebook LH530 Laptop Ribbon\",\n",
       " \t\"@context\": \"http://schema.org\",\n",
       " \t\"@type\": \"Offer\",\n",
       " \t\"availability\": \"http://schema.org/InStock\",\n",
       " \t\"price\": \"500\",\n",
       " \t\"priceCurrency\": \"Tk\",\n",
       " \t\"url\": \"http://bikroy.com/en/ad/fujitsu-lifebook-lh530-laptop-ribbon-for-sale-dhaka-1\"\n",
       " }</script></div></div>,\n",
       " <div class=\"ui-item\"><div class=\"item-thumb\"><a href=\"/en/ad/dell-n4050-laptop-ribbon-for-sale-dhaka-1\"><img alt=\"Computer Accessories-Dhaka - Dell N4050 Laptop Ribbon\" data-srcset=\"//i.bikroy-st.com/2684b899-c333-4ea8-89e3-006d2ed76922/136/102/cropped.jpg 1x, //i.bikroy-st.com/2684b899-c333-4ea8-89e3-006d2ed76922/272/204/cropped.jpg 1.3x\" title=\"Dell N4050 Laptop Ribbon\"/></a></div><div class=\"item-content\"><a class=\"item-title h4\" href=\"/en/ad/dell-n4050-laptop-ribbon-for-sale-dhaka-1\">Dell N4050 Laptop Ribbon</a><p class=\"item-location\"><span class=\"ui-bubble is-member\">MEMBER</span><span>31 Jul 11:11 pm</span><span>, </span><span class=\"item-area\">Dhaka</span><span>, </span><span class=\"item-cat\">Computer Accessories</span></p><p class=\"item-info\"><strong>Tk 500</strong></p></div><div class=\"item-extras\"><script type=\"application/ld+json\">{\n",
       " \t\"name\": \"Dell N4050 Laptop Ribbon\",\n",
       " \t\"@context\": \"http://schema.org\",\n",
       " \t\"@type\": \"Offer\",\n",
       " \t\"availability\": \"http://schema.org/InStock\",\n",
       " \t\"price\": \"500\",\n",
       " \t\"priceCurrency\": \"Tk\",\n",
       " \t\"url\": \"http://bikroy.com/en/ad/dell-n4050-laptop-ribbon-for-sale-dhaka-1\"\n",
       " }</script></div></div>,\n",
       " <div class=\"ui-item\"><div class=\"item-thumb\"><a href=\"/en/ad/fujitsu-lifebook-lh531-laptop-ribbon-for-sale-dhaka-1\"><img alt=\"Computer Accessories-Dhaka - Fujitsu Lifebook LH531 Laptop Ribbon\" data-srcset=\"//i.bikroy-st.com/0b87c562-8716-43f2-b5b7-00df48fd70d0/136/102/cropped.jpg 1x, //i.bikroy-st.com/0b87c562-8716-43f2-b5b7-00df48fd70d0/272/204/cropped.jpg 1.3x\" title=\"Fujitsu Lifebook LH531 Laptop Ribbon\"/></a></div><div class=\"item-content\"><a class=\"item-title h4\" href=\"/en/ad/fujitsu-lifebook-lh531-laptop-ribbon-for-sale-dhaka-1\">Fujitsu Lifebook LH531 Laptop Ribbon</a><p class=\"item-location\"><span class=\"ui-bubble is-member\">MEMBER</span><span>31 Jul 11:16 pm</span><span>, </span><span class=\"item-area\">Dhaka</span><span>, </span><span class=\"item-cat\">Computer Accessories</span></p><p class=\"item-info\"><strong>Tk 500</strong></p></div><div class=\"item-extras\"><script type=\"application/ld+json\">{\n",
       " \t\"name\": \"Fujitsu Lifebook LH531 Laptop Ribbon\",\n",
       " \t\"@context\": \"http://schema.org\",\n",
       " \t\"@type\": \"Offer\",\n",
       " \t\"availability\": \"http://schema.org/InStock\",\n",
       " \t\"price\": \"500\",\n",
       " \t\"priceCurrency\": \"Tk\",\n",
       " \t\"url\": \"http://bikroy.com/en/ad/fujitsu-lifebook-lh531-laptop-ribbon-for-sale-dhaka-1\"\n",
       " }</script></div></div>,\n",
       " <div class=\"ui-item\"><div class=\"item-thumb has-frames\"><a href=\"/en/ad/micron-2gb-ddr2-800mhz-laptop-ram-for-sale-dhaka\"><img alt=\"Computer Accessories-Dhaka - MICRON 2GB DDR2 800MHz Laptop RAM\" data-srcset=\"//i.bikroy-st.com/d471e0b9-50fb-4a1b-b218-9627e92315c9/136/102/cropped.jpg 1x, //i.bikroy-st.com/d471e0b9-50fb-4a1b-b218-9627e92315c9/272/204/cropped.jpg 1.3x\" title=\"MICRON 2GB DDR2 800MHz Laptop RAM\"/></a></div><div class=\"item-content\"><a class=\"item-title h4\" href=\"/en/ad/micron-2gb-ddr2-800mhz-laptop-ram-for-sale-dhaka\">MICRON 2GB DDR2 800MHz Laptop RAM</a><p class=\"item-location\"><span>04 Aug  2:40 am</span><span>, </span><span class=\"item-area\">Dhaka</span><span>, </span><span class=\"item-cat\">Computer Accessories</span></p><p class=\"item-info\"><strong>Tk 500</strong></p></div><div class=\"item-extras\"><script type=\"application/ld+json\">{\n",
       " \t\"name\": \"MICRON 2GB DDR2 800MHz Laptop RAM\",\n",
       " \t\"@context\": \"http://schema.org\",\n",
       " \t\"@type\": \"Offer\",\n",
       " \t\"availability\": \"http://schema.org/InStock\",\n",
       " \t\"price\": \"500\",\n",
       " \t\"priceCurrency\": \"Tk\",\n",
       " \t\"url\": \"http://bikroy.com/en/ad/micron-2gb-ddr2-800mhz-laptop-ram-for-sale-dhaka\"\n",
       " }</script></div></div>,\n",
       " <div class=\"ui-item\"><div class=\"item-thumb has-frames\"><a href=\"/en/ad/laptop-keyboard-for-sale-dhaka-287\"><img alt=\"Computer Accessories-Dhaka - Laptop keyboard\" data-srcset=\"//i.bikroy-st.com/caf167fd-8682-4620-8e53-06d3075edf78/136/102/cropped.jpg 1x, //i.bikroy-st.com/caf167fd-8682-4620-8e53-06d3075edf78/272/204/cropped.jpg 1.3x\" title=\"Laptop keyboard\"/></a></div><div class=\"item-content\"><a class=\"item-title h4\" href=\"/en/ad/laptop-keyboard-for-sale-dhaka-287\">Laptop keyboard</a><p class=\"item-location\"><span class=\"ui-bubble is-member\">MEMBER</span><span>06 Aug  2:48 am</span><span>, </span><span class=\"item-area\">Dhaka</span><span>, </span><span class=\"item-cat\">Computer Accessories</span></p><p class=\"item-info\"><strong>Tk 500</strong></p></div><div class=\"item-extras\"><script type=\"application/ld+json\">{\n",
       " \t\"name\": \"Laptop keyboard\",\n",
       " \t\"@context\": \"http://schema.org\",\n",
       " \t\"@type\": \"Offer\",\n",
       " \t\"availability\": \"http://schema.org/InStock\",\n",
       " \t\"price\": \"500\",\n",
       " \t\"priceCurrency\": \"Tk\",\n",
       " \t\"url\": \"http://bikroy.com/en/ad/laptop-keyboard-for-sale-dhaka-287\"\n",
       " }</script></div></div>,\n",
       " <div class=\"ui-item\"><div class=\"item-thumb has-frames\"><a href=\"/en/ad/computer-home-service-in-uttara-for-sale-dhaka-6\"><img alt=\"Business &amp; Technical Services-Dhaka - Computer Home Service in Uttara\" data-srcset=\"//i.bikroy-st.com/626b3856-a95e-4f74-8260-8e74659092a5/136/102/cropped.jpg 1x, //i.bikroy-st.com/626b3856-a95e-4f74-8260-8e74659092a5/272/204/cropped.jpg 1.3x\" title=\"Computer Home Service in Uttara\"/></a></div><div class=\"item-content\"><a class=\"item-title h4\" href=\"/en/ad/computer-home-service-in-uttara-for-sale-dhaka-6\">Computer Home Service in Uttara</a><p class=\"item-location\"><span class=\"ui-bubble is-member\">MEMBER</span><span>17 Jun  9:37 pm</span><span>, </span><span class=\"item-area\">Dhaka</span><span>, </span><span class=\"item-cat\">Business &amp; Technical Services</span></p><p class=\"item-info\"><strong>Tk 500</strong></p></div><div class=\"item-extras\"><script type=\"application/ld+json\">{\n",
       " \t\"name\": \"Computer Home Service in Uttara\",\n",
       " \t\"@context\": \"http://schema.org\",\n",
       " \t\"@type\": \"Offer\",\n",
       " \t\"availability\": \"http://schema.org/InStock\",\n",
       " \t\"price\": \"500\",\n",
       " \t\"priceCurrency\": \"Tk\",\n",
       " \t\"url\": \"http://bikroy.com/en/ad/computer-home-service-in-uttara-for-sale-dhaka-6\"\n",
       " }</script></div></div>,\n",
       " <div class=\"ui-item\"><div class=\"item-thumb has-frames\"><a href=\"/en/ad/laptop-new-adaptor-for-sale-dhaka\"><img alt=\"Computer Accessories-Dhaka - Laptop New Adaptor\" data-srcset=\"//i.bikroy-st.com/9fe76021-2ca9-4d64-a015-4c435dee7d00/136/102/cropped.jpg 1x, //i.bikroy-st.com/9fe76021-2ca9-4d64-a015-4c435dee7d00/272/204/cropped.jpg 1.3x\" title=\"Laptop New Adaptor\"/></a></div><div class=\"item-content\"><a class=\"item-title h4\" href=\"/en/ad/laptop-new-adaptor-for-sale-dhaka\">Laptop New Adaptor</a><p class=\"item-location\"><span class=\"ui-bubble is-member\">MEMBER</span><span>06 Jul 12:59 pm</span><span>, </span><span class=\"item-area\">Dhaka</span><span>, </span><span class=\"item-cat\">Computer Accessories</span></p><p class=\"item-info\"><strong>Tk 500</strong></p></div><div class=\"item-extras\"><script type=\"application/ld+json\">{\n",
       " \t\"name\": \"Laptop New Adaptor\",\n",
       " \t\"@context\": \"http://schema.org\",\n",
       " \t\"@type\": \"Offer\",\n",
       " \t\"availability\": \"http://schema.org/InStock\",\n",
       " \t\"price\": \"500\",\n",
       " \t\"priceCurrency\": \"Tk\",\n",
       " \t\"url\": \"http://bikroy.com/en/ad/laptop-new-adaptor-for-sale-dhaka\"\n",
       " }</script></div></div>,\n",
       " <div class=\"ui-item\"><div class=\"item-thumb\"><a href=\"/en/ad/dell-inspiron-14r-laptop-keyboard-for-sale-dhaka\"><img alt=\"Computer Accessories-Dhaka - Dell Inspiron 14R Laptop Keyboard\" data-srcset=\"//i.bikroy-st.com/e1ef92d3-8dcc-4db4-b8af-f085be7ab009/136/102/cropped.jpg 1x, //i.bikroy-st.com/e1ef92d3-8dcc-4db4-b8af-f085be7ab009/272/204/cropped.jpg 1.3x\" title=\"Dell Inspiron 14R Laptop Keyboard\"/></a></div><div class=\"item-content\"><a class=\"item-title h4\" href=\"/en/ad/dell-inspiron-14r-laptop-keyboard-for-sale-dhaka\">Dell Inspiron 14R Laptop Keyboard</a><p class=\"item-location\"><span class=\"ui-bubble is-member\">MEMBER</span><span>23 Jun 11:53 am</span><span>, </span><span class=\"item-area\">Dhaka</span><span>, </span><span class=\"item-cat\">Computer Accessories</span></p><p class=\"item-info\"><strong>Tk 500</strong></p></div><div class=\"item-extras\"><script type=\"application/ld+json\">{\n",
       " \t\"name\": \"Dell Inspiron 14R Laptop Keyboard\",\n",
       " \t\"@context\": \"http://schema.org\",\n",
       " \t\"@type\": \"Offer\",\n",
       " \t\"availability\": \"http://schema.org/InStock\",\n",
       " \t\"price\": \"500\",\n",
       " \t\"priceCurrency\": \"Tk\",\n",
       " \t\"url\": \"http://bikroy.com/en/ad/dell-inspiron-14r-laptop-keyboard-for-sale-dhaka\"\n",
       " }</script></div></div>,\n",
       " <div class=\"ui-item\"><div class=\"item-thumb has-frames\"><a href=\"/en/ad/laptop-case-for-macbook-air-pro-11-for-sale-dhaka\"><img alt=\"Computer Accessories-Dhaka - Laptop Case for Macbook Air Pro 11\" data-srcset=\"//i.bikroy-st.com/2509a34f-045a-4176-9246-3f84710848c1/136/102/cropped.jpg 1x, //i.bikroy-st.com/2509a34f-045a-4176-9246-3f84710848c1/272/204/cropped.jpg 1.3x\" title=\"Laptop Case for Macbook Air Pro 11\"/></a></div><div class=\"item-content\"><a class=\"item-title h4\" href=\"/en/ad/laptop-case-for-macbook-air-pro-11-for-sale-dhaka\">Laptop Case for Macbook Air Pro 11</a><p class=\"item-location\"><span>18 Jul  9:00 am</span><span>, </span><span class=\"item-area\">Dhaka</span><span>, </span><span class=\"item-cat\">Computer Accessories</span></p><p class=\"item-info\"><strong>Tk 500</strong></p></div><div class=\"item-extras\"><script type=\"application/ld+json\">{\n",
       " \t\"name\": \"Laptop Case for Macbook Air Pro 11\",\n",
       " \t\"@context\": \"http://schema.org\",\n",
       " \t\"@type\": \"Offer\",\n",
       " \t\"availability\": \"http://schema.org/InStock\",\n",
       " \t\"price\": \"500\",\n",
       " \t\"priceCurrency\": \"Tk\",\n",
       " \t\"url\": \"http://bikroy.com/en/ad/laptop-case-for-macbook-air-pro-11-for-sale-dhaka\"\n",
       " }</script></div></div>,\n",
       " <div class=\"ui-item\"><div class=\"item-thumb has-frames\"><a href=\"/en/ad/laptop-and-desktop-home-service-and-repair-for-sale-dhaka\"><img alt=\"Business &amp; Technical Services-Dhaka - *Laptop &amp; Desktop* Home Service &amp; Repair\" data-srcset=\"//i.bikroy-st.com/cefafc99-a226-4352-8c09-38809ce8b801/136/102/cropped.jpg 1x, //i.bikroy-st.com/cefafc99-a226-4352-8c09-38809ce8b801/272/204/cropped.jpg 1.3x\" title=\"*Laptop &amp; Desktop* Home Service &amp; Repair\"/></a></div><div class=\"item-content\"><a class=\"item-title h4\" href=\"/en/ad/laptop-and-desktop-home-service-and-repair-for-sale-dhaka\">*Laptop &amp; Desktop* Home Service &amp; Repair</a><p class=\"item-location\"><span>18 Jul  3:31 pm</span><span>, </span><span class=\"item-area\">Dhaka</span><span>, </span><span class=\"item-cat\">Business &amp; Technical Services</span></p><p class=\"item-info\"><strong>Tk 500</strong></p></div><div class=\"item-extras\"><script type=\"application/ld+json\">{\n",
       " \t\"name\": \"*Laptop &amp; Desktop* Home Service &amp; Repair\",\n",
       " \t\"@context\": \"http://schema.org\",\n",
       " \t\"@type\": \"Offer\",\n",
       " \t\"availability\": \"http://schema.org/InStock\",\n",
       " \t\"price\": \"500\",\n",
       " \t\"priceCurrency\": \"Tk\",\n",
       " \t\"url\": \"http://bikroy.com/en/ad/laptop-and-desktop-home-service-and-repair-for-sale-dhaka\"\n",
       " }</script></div></div>,\n",
       " <div class=\"ui-item\"><div class=\"item-thumb has-frames\"><a href=\"/en/ad/laptop-adapter-for-sale-dhaka-162\"><img alt=\"Computer Accessories-Dhaka - laptop adapter\" data-srcset=\"//i.bikroy-st.com/3eabad10-f35a-49d6-9486-e2392bf48a44/136/102/cropped.jpg 1x, //i.bikroy-st.com/3eabad10-f35a-49d6-9486-e2392bf48a44/272/204/cropped.jpg 1.3x\" title=\"laptop adapter\"/></a></div><div class=\"item-content\"><a class=\"item-title h4\" href=\"/en/ad/laptop-adapter-for-sale-dhaka-162\">laptop adapter</a><p class=\"item-location\"><span class=\"ui-bubble is-member\">MEMBER</span><span>24 Jul 11:39 am</span><span>, </span><span class=\"item-area\">Dhaka</span><span>, </span><span class=\"item-cat\">Computer Accessories</span></p><p class=\"item-info\"><strong>Tk 500</strong></p></div><div class=\"item-extras\"><script type=\"application/ld+json\">{\n",
       " \t\"name\": \"laptop adapter\",\n",
       " \t\"@context\": \"http://schema.org\",\n",
       " \t\"@type\": \"Offer\",\n",
       " \t\"availability\": \"http://schema.org/InStock\",\n",
       " \t\"price\": \"500\",\n",
       " \t\"priceCurrency\": \"Tk\",\n",
       " \t\"url\": \"http://bikroy.com/en/ad/laptop-adapter-for-sale-dhaka-162\"\n",
       " }</script></div></div>]"
      ]
     },
     "execution_count": 10,
     "metadata": {},
     "output_type": "execute_result"
    }
   ],
   "source": [
    "my_divs"
   ]
  },
  {
   "cell_type": "code",
   "execution_count": 11,
   "metadata": {},
   "outputs": [
    {
     "data": {
      "text/plain": [
       "27"
      ]
     },
     "execution_count": 11,
     "metadata": {},
     "output_type": "execute_result"
    }
   ],
   "source": [
    "len(my_divs)"
   ]
  },
  {
   "cell_type": "code",
   "execution_count": 13,
   "metadata": {},
   "outputs": [
    {
     "data": {
      "text/plain": [
       "<div class=\"ui-item\"><div class=\"item-thumb\"><a href=\"/en/ad/dell-inspiron-3421-laptop-ribbon-cable-for-sale-dhaka-1\"><img alt=\"Computer Accessories-Dhaka - Dell Inspiron 3421 Laptop Ribbon Cable\" data-srcset=\"//i.bikroy-st.com/7379cdcc-0d63-4acf-99b6-e1ccadffee51/136/102/cropped.jpg 1x, //i.bikroy-st.com/7379cdcc-0d63-4acf-99b6-e1ccadffee51/272/204/cropped.jpg 1.3x\" title=\"Dell Inspiron 3421 Laptop Ribbon Cable\"/></a></div><div class=\"item-content\"><a class=\"item-title h4\" href=\"/en/ad/dell-inspiron-3421-laptop-ribbon-cable-for-sale-dhaka-1\">Dell Inspiron 3421 Laptop Ribbon Cable</a><p class=\"item-location\"><span class=\"ui-bubble is-member\">MEMBER</span><span>31 Jul  9:14 pm</span><span>, </span><span class=\"item-area\">Dhaka</span><span>, </span><span class=\"item-cat\">Computer Accessories</span></p><p class=\"item-info\"><strong>Tk 500</strong></p></div><div class=\"item-extras\"><script type=\"application/ld+json\">{\n",
       "\t\"name\": \"Dell Inspiron 3421 Laptop Ribbon Cable\",\n",
       "\t\"@context\": \"http://schema.org\",\n",
       "\t\"@type\": \"Offer\",\n",
       "\t\"availability\": \"http://schema.org/InStock\",\n",
       "\t\"price\": \"500\",\n",
       "\t\"priceCurrency\": \"Tk\",\n",
       "\t\"url\": \"http://bikroy.com/en/ad/dell-inspiron-3421-laptop-ribbon-cable-for-sale-dhaka-1\"\n",
       "}</script></div></div>"
      ]
     },
     "execution_count": 13,
     "metadata": {},
     "output_type": "execute_result"
    }
   ],
   "source": [
    "my_divs[7]"
   ]
  },
  {
   "cell_type": "code",
   "execution_count": 14,
   "metadata": {},
   "outputs": [
    {
     "name": "stdout",
     "output_type": "stream",
     "text": [
      "<div class=\"item-thumb\"><a href=\"/en/ad/dell-inspiron-3421-laptop-ribbon-cable-for-sale-dhaka-1\"><img alt=\"Computer Accessories-Dhaka - Dell Inspiron 3421 Laptop Ribbon Cable\" data-srcset=\"//i.bikroy-st.com/7379cdcc-0d63-4acf-99b6-e1ccadffee51/136/102/cropped.jpg 1x, //i.bikroy-st.com/7379cdcc-0d63-4acf-99b6-e1ccadffee51/272/204/cropped.jpg 1.3x\" title=\"Dell Inspiron 3421 Laptop Ribbon Cable\"/></a></div>\n",
      "\n",
      "<div class=\"item-content\"><a class=\"item-title h4\" href=\"/en/ad/dell-inspiron-3421-laptop-ribbon-cable-for-sale-dhaka-1\">Dell Inspiron 3421 Laptop Ribbon Cable</a><p class=\"item-location\"><span class=\"ui-bubble is-member\">MEMBER</span><span>31 Jul  9:14 pm</span><span>, </span><span class=\"item-area\">Dhaka</span><span>, </span><span class=\"item-cat\">Computer Accessories</span></p><p class=\"item-info\"><strong>Tk 500</strong></p></div>\n",
      "\n",
      "<div class=\"item-extras\"><script type=\"application/ld+json\">{\n",
      "\t\"name\": \"Dell Inspiron 3421 Laptop Ribbon Cable\",\n",
      "\t\"@context\": \"http://schema.org\",\n",
      "\t\"@type\": \"Offer\",\n",
      "\t\"availability\": \"http://schema.org/InStock\",\n",
      "\t\"price\": \"500\",\n",
      "\t\"priceCurrency\": \"Tk\",\n",
      "\t\"url\": \"http://bikroy.com/en/ad/dell-inspiron-3421-laptop-ribbon-cable-for-sale-dhaka-1\"\n",
      "}</script></div>\n",
      "\n"
     ]
    }
   ],
   "source": [
    "for item in my_divs[7]:\n",
    "    print(item)\n",
    "    print()"
   ]
  },
  {
   "cell_type": "code",
   "execution_count": 15,
   "metadata": {},
   "outputs": [
    {
     "data": {
      "text/plain": [
       "[<div class=\"item-content\"><a class=\"item-title h4\" href=\"/en/ad/dell-inspiron-3421-laptop-ribbon-cable-for-sale-dhaka-1\">Dell Inspiron 3421 Laptop Ribbon Cable</a><p class=\"item-location\"><span class=\"ui-bubble is-member\">MEMBER</span><span>31 Jul  9:14 pm</span><span>, </span><span class=\"item-area\">Dhaka</span><span>, </span><span class=\"item-cat\">Computer Accessories</span></p><p class=\"item-info\"><strong>Tk 500</strong></p></div>]"
      ]
     },
     "execution_count": 15,
     "metadata": {},
     "output_type": "execute_result"
    }
   ],
   "source": [
    "my_divs[7].findAll(\"div\", { \"class\" : \"item-content\" })"
   ]
  },
  {
   "cell_type": "code",
   "execution_count": 16,
   "metadata": {},
   "outputs": [
    {
     "data": {
      "text/plain": [
       "1"
      ]
     },
     "execution_count": 16,
     "metadata": {},
     "output_type": "execute_result"
    }
   ],
   "source": [
    "len(my_divs[7].findAll(\"div\", { \"class\" : \"item-content\" }))"
   ]
  },
  {
   "cell_type": "code",
   "execution_count": 17,
   "metadata": {},
   "outputs": [
    {
     "ename": "AttributeError",
     "evalue": "ResultSet object has no attribute 'findAll'. You're probably treating a list of items like a single item. Did you call find_all() when you meant to call find()?",
     "output_type": "error",
     "traceback": [
      "\u001b[0;31m---------------------------------------------------------------------------\u001b[0m",
      "\u001b[0;31mAttributeError\u001b[0m                            Traceback (most recent call last)",
      "\u001b[0;32m<ipython-input-17-e7d851bcb8b5>\u001b[0m in \u001b[0;36m<module>\u001b[0;34m()\u001b[0m\n\u001b[1;32m      1\u001b[0m \u001b[0mb\u001b[0m \u001b[0;34m=\u001b[0m \u001b[0mmy_divs\u001b[0m\u001b[0;34m[\u001b[0m\u001b[0;36m7\u001b[0m\u001b[0;34m]\u001b[0m\u001b[0;34m.\u001b[0m\u001b[0mfindAll\u001b[0m\u001b[0;34m(\u001b[0m\u001b[0;34m\"div\"\u001b[0m\u001b[0;34m,\u001b[0m \u001b[0;34m{\u001b[0m \u001b[0;34m\"class\"\u001b[0m \u001b[0;34m:\u001b[0m \u001b[0;34m\"item-content\"\u001b[0m \u001b[0;34m}\u001b[0m\u001b[0;34m)\u001b[0m\u001b[0;34m\u001b[0m\u001b[0m\n\u001b[1;32m      2\u001b[0m \u001b[0;34m\u001b[0m\u001b[0m\n\u001b[0;32m----> 3\u001b[0;31m \u001b[0mb\u001b[0m\u001b[0;34m.\u001b[0m\u001b[0mfindAll\u001b[0m\u001b[0;34m(\u001b[0m\u001b[0;34m\"a\"\u001b[0m\u001b[0;34m)\u001b[0m\u001b[0;34m\u001b[0m\u001b[0m\n\u001b[0m",
      "\u001b[0;32m/home/scarlet/anaconda3/envs/my_env/lib/python3.6/site-packages/bs4/element.py\u001b[0m in \u001b[0;36m__getattr__\u001b[0;34m(self, key)\u001b[0m\n\u001b[1;32m   1805\u001b[0m     \u001b[0;32mdef\u001b[0m \u001b[0m__getattr__\u001b[0m\u001b[0;34m(\u001b[0m\u001b[0mself\u001b[0m\u001b[0;34m,\u001b[0m \u001b[0mkey\u001b[0m\u001b[0;34m)\u001b[0m\u001b[0;34m:\u001b[0m\u001b[0;34m\u001b[0m\u001b[0m\n\u001b[1;32m   1806\u001b[0m         raise AttributeError(\n\u001b[0;32m-> 1807\u001b[0;31m             \u001b[0;34m\"ResultSet object has no attribute '%s'. You're probably treating a list of items like a single item. Did you call find_all() when you meant to call find()?\"\u001b[0m \u001b[0;34m%\u001b[0m \u001b[0mkey\u001b[0m\u001b[0;34m\u001b[0m\u001b[0m\n\u001b[0m\u001b[1;32m   1808\u001b[0m         )\n",
      "\u001b[0;31mAttributeError\u001b[0m: ResultSet object has no attribute 'findAll'. You're probably treating a list of items like a single item. Did you call find_all() when you meant to call find()?"
     ]
    }
   ],
   "source": [
    "b = my_divs[7].findAll(\"div\", { \"class\" : \"item-content\" })\n",
    "\n",
    "b.findAll(\"a\")"
   ]
  },
  {
   "cell_type": "code",
   "execution_count": 23,
   "metadata": {},
   "outputs": [
    {
     "data": {
      "text/plain": [
       "[<a class=\"item-title h4\" href=\"/en/ad/dell-inspiron-3421-laptop-ribbon-cable-for-sale-dhaka-1\">Dell Inspiron 3421 Laptop Ribbon Cable</a>]"
      ]
     },
     "execution_count": 23,
     "metadata": {},
     "output_type": "execute_result"
    }
   ],
   "source": [
    "my_divs[7].findAll(\"a\", { \"class\" : \"item-title h4\" })"
   ]
  },
  {
   "cell_type": "code",
   "execution_count": 24,
   "metadata": {},
   "outputs": [
    {
     "data": {
      "text/plain": [
       "bs4.element.ResultSet"
      ]
     },
     "execution_count": 24,
     "metadata": {},
     "output_type": "execute_result"
    }
   ],
   "source": [
    "type(my_divs[7].findAll(\"a\", { \"class\" : \"item-title h4\" }))"
   ]
  },
  {
   "cell_type": "code",
   "execution_count": 30,
   "metadata": {},
   "outputs": [
    {
     "ename": "AttributeError",
     "evalue": "ResultSet object has no attribute 'getText'. You're probably treating a list of items like a single item. Did you call find_all() when you meant to call find()?",
     "output_type": "error",
     "traceback": [
      "\u001b[0;31m---------------------------------------------------------------------------\u001b[0m",
      "\u001b[0;31mAttributeError\u001b[0m                            Traceback (most recent call last)",
      "\u001b[0;32m<ipython-input-30-99b987f19ff6>\u001b[0m in \u001b[0;36m<module>\u001b[0;34m()\u001b[0m\n\u001b[0;32m----> 1\u001b[0;31m \u001b[0mmy_divs\u001b[0m\u001b[0;34m[\u001b[0m\u001b[0;36m7\u001b[0m\u001b[0;34m]\u001b[0m\u001b[0;34m.\u001b[0m\u001b[0mfindAll\u001b[0m\u001b[0;34m(\u001b[0m\u001b[0;34m\"a\"\u001b[0m\u001b[0;34m,\u001b[0m \u001b[0;34m{\u001b[0m \u001b[0;34m\"class\"\u001b[0m \u001b[0;34m:\u001b[0m \u001b[0;34m\"item-title h4\"\u001b[0m \u001b[0;34m}\u001b[0m\u001b[0;34m)\u001b[0m\u001b[0;34m.\u001b[0m\u001b[0mgetText\u001b[0m\u001b[0;34m(\u001b[0m\u001b[0;34m)\u001b[0m\u001b[0;34m\u001b[0m\u001b[0m\n\u001b[0m",
      "\u001b[0;32m/home/scarlet/anaconda3/envs/my_env/lib/python3.6/site-packages/bs4/element.py\u001b[0m in \u001b[0;36m__getattr__\u001b[0;34m(self, key)\u001b[0m\n\u001b[1;32m   1805\u001b[0m     \u001b[0;32mdef\u001b[0m \u001b[0m__getattr__\u001b[0m\u001b[0;34m(\u001b[0m\u001b[0mself\u001b[0m\u001b[0;34m,\u001b[0m \u001b[0mkey\u001b[0m\u001b[0;34m)\u001b[0m\u001b[0;34m:\u001b[0m\u001b[0;34m\u001b[0m\u001b[0m\n\u001b[1;32m   1806\u001b[0m         raise AttributeError(\n\u001b[0;32m-> 1807\u001b[0;31m             \u001b[0;34m\"ResultSet object has no attribute '%s'. You're probably treating a list of items like a single item. Did you call find_all() when you meant to call find()?\"\u001b[0m \u001b[0;34m%\u001b[0m \u001b[0mkey\u001b[0m\u001b[0;34m\u001b[0m\u001b[0m\n\u001b[0m\u001b[1;32m   1808\u001b[0m         )\n",
      "\u001b[0;31mAttributeError\u001b[0m: ResultSet object has no attribute 'getText'. You're probably treating a list of items like a single item. Did you call find_all() when you meant to call find()?"
     ]
    }
   ],
   "source": [
    "my_divs[7].findAll(\"a\", { \"class\" : \"item-title h4\" }).getText()"
   ]
  },
  {
   "cell_type": "code",
   "execution_count": 31,
   "metadata": {
    "collapsed": true
   },
   "outputs": [],
   "source": [
    "import bs4"
   ]
  },
  {
   "cell_type": "code",
   "execution_count": 33,
   "metadata": {},
   "outputs": [
    {
     "ename": "AttributeError",
     "evalue": "module 'bs4' has no attribute 'uClient'",
     "output_type": "error",
     "traceback": [
      "\u001b[0;31m---------------------------------------------------------------------------\u001b[0m",
      "\u001b[0;31mAttributeError\u001b[0m                            Traceback (most recent call last)",
      "\u001b[0;32m<ipython-input-33-d8b51f8f9729>\u001b[0m in \u001b[0;36m<module>\u001b[0;34m()\u001b[0m\n\u001b[0;32m----> 1\u001b[0;31m \u001b[0mbs4\u001b[0m\u001b[0;34m.\u001b[0m\u001b[0muClient\u001b[0m\u001b[0;34m(\u001b[0m\u001b[0;34m'www.facebook.com'\u001b[0m\u001b[0;34m)\u001b[0m\u001b[0;34m\u001b[0m\u001b[0m\n\u001b[0m",
      "\u001b[0;31mAttributeError\u001b[0m: module 'bs4' has no attribute 'uClient'"
     ]
    }
   ],
   "source": [
    "bs4.uClient('www.facebook.com')"
   ]
  },
  {
   "cell_type": "code",
   "execution_count": null,
   "metadata": {
    "collapsed": true
   },
   "outputs": [],
   "source": []
  },
  {
   "cell_type": "code",
   "execution_count": 35,
   "metadata": {},
   "outputs": [],
   "source": [
    "current_div = my_divs[7]"
   ]
  },
  {
   "cell_type": "code",
   "execution_count": 36,
   "metadata": {},
   "outputs": [
    {
     "data": {
      "text/plain": [
       "<div class=\"ui-item\"><div class=\"item-thumb\"><a href=\"/en/ad/dell-inspiron-3421-laptop-ribbon-cable-for-sale-dhaka-1\"><img alt=\"Computer Accessories-Dhaka - Dell Inspiron 3421 Laptop Ribbon Cable\" data-srcset=\"//i.bikroy-st.com/7379cdcc-0d63-4acf-99b6-e1ccadffee51/136/102/cropped.jpg 1x, //i.bikroy-st.com/7379cdcc-0d63-4acf-99b6-e1ccadffee51/272/204/cropped.jpg 1.3x\" title=\"Dell Inspiron 3421 Laptop Ribbon Cable\"/></a></div><div class=\"item-content\"><a class=\"item-title h4\" href=\"/en/ad/dell-inspiron-3421-laptop-ribbon-cable-for-sale-dhaka-1\">Dell Inspiron 3421 Laptop Ribbon Cable</a><p class=\"item-location\"><span class=\"ui-bubble is-member\">MEMBER</span><span>31 Jul  9:14 pm</span><span>, </span><span class=\"item-area\">Dhaka</span><span>, </span><span class=\"item-cat\">Computer Accessories</span></p><p class=\"item-info\"><strong>Tk 500</strong></p></div><div class=\"item-extras\"><script type=\"application/ld+json\">{\n",
       "\t\"name\": \"Dell Inspiron 3421 Laptop Ribbon Cable\",\n",
       "\t\"@context\": \"http://schema.org\",\n",
       "\t\"@type\": \"Offer\",\n",
       "\t\"availability\": \"http://schema.org/InStock\",\n",
       "\t\"price\": \"500\",\n",
       "\t\"priceCurrency\": \"Tk\",\n",
       "\t\"url\": \"http://bikroy.com/en/ad/dell-inspiron-3421-laptop-ribbon-cable-for-sale-dhaka-1\"\n",
       "}</script></div></div>"
      ]
     },
     "execution_count": 36,
     "metadata": {},
     "output_type": "execute_result"
    }
   ],
   "source": [
    "current_div"
   ]
  },
  {
   "cell_type": "code",
   "execution_count": 37,
   "metadata": {},
   "outputs": [
    {
     "data": {
      "text/plain": [
       "<a href=\"/en/ad/dell-inspiron-3421-laptop-ribbon-cable-for-sale-dhaka-1\"><img alt=\"Computer Accessories-Dhaka - Dell Inspiron 3421 Laptop Ribbon Cable\" data-srcset=\"//i.bikroy-st.com/7379cdcc-0d63-4acf-99b6-e1ccadffee51/136/102/cropped.jpg 1x, //i.bikroy-st.com/7379cdcc-0d63-4acf-99b6-e1ccadffee51/272/204/cropped.jpg 1.3x\" title=\"Dell Inspiron 3421 Laptop Ribbon Cable\"/></a>"
      ]
     },
     "execution_count": 37,
     "metadata": {},
     "output_type": "execute_result"
    }
   ],
   "source": [
    "current_div.a"
   ]
  },
  {
   "cell_type": "code",
   "execution_count": 47,
   "metadata": {},
   "outputs": [
    {
     "data": {
      "text/plain": [
       "'Dell Inspiron 3421 Laptop Ribbon Cable'"
      ]
     },
     "execution_count": 47,
     "metadata": {},
     "output_type": "execute_result"
    }
   ],
   "source": [
    "current_div.find('img').get('title')"
   ]
  },
  {
   "cell_type": "code",
   "execution_count": 49,
   "metadata": {},
   "outputs": [
    {
     "data": {
      "text/plain": [
       "'Dhaka'"
      ]
     },
     "execution_count": 49,
     "metadata": {},
     "output_type": "execute_result"
    }
   ],
   "source": [
    "current_div.find('span', {'class': 'item-area'}).text"
   ]
  },
  {
   "cell_type": "code",
   "execution_count": 51,
   "metadata": {},
   "outputs": [
    {
     "data": {
      "text/plain": [
       "'31 Jul  9:14 pm'"
      ]
     },
     "execution_count": 51,
     "metadata": {},
     "output_type": "execute_result"
    }
   ],
   "source": [
    "current_div.findAll('span')[1].text"
   ]
  },
  {
   "cell_type": "code",
   "execution_count": 52,
   "metadata": {},
   "outputs": [
    {
     "data": {
      "text/plain": [
       "'Computer Accessories'"
      ]
     },
     "execution_count": 52,
     "metadata": {},
     "output_type": "execute_result"
    }
   ],
   "source": [
    "current_div.find('span', {'class': 'item-cat'}).text"
   ]
  },
  {
   "cell_type": "code",
   "execution_count": 58,
   "metadata": {},
   "outputs": [
    {
     "data": {
      "text/plain": [
       "'Tk 500'"
      ]
     },
     "execution_count": 58,
     "metadata": {},
     "output_type": "execute_result"
    }
   ],
   "source": [
    "current_div.find('p', {'class': 'item-info'}).text"
   ]
  },
  {
   "cell_type": "code",
   "execution_count": 66,
   "metadata": {},
   "outputs": [
    {
     "data": {
      "text/plain": [
       "<a href=\"/en/ad/dell-inspiron-3421-laptop-ribbon-cable-for-sale-dhaka-1\"><img alt=\"Computer Accessories-Dhaka - Dell Inspiron 3421 Laptop Ribbon Cable\" data-srcset=\"//i.bikroy-st.com/7379cdcc-0d63-4acf-99b6-e1ccadffee51/136/102/cropped.jpg 1x, //i.bikroy-st.com/7379cdcc-0d63-4acf-99b6-e1ccadffee51/272/204/cropped.jpg 1.3x\" title=\"Dell Inspiron 3421 Laptop Ribbon Cable\"/></a>"
      ]
     },
     "execution_count": 66,
     "metadata": {},
     "output_type": "execute_result"
    }
   ],
   "source": [
    "current_div.find('a', href=True)"
   ]
  },
  {
   "cell_type": "code",
   "execution_count": 69,
   "metadata": {},
   "outputs": [
    {
     "data": {
      "text/plain": [
       "'/en/ad/dell-inspiron-3421-laptop-ribbon-cable-for-sale-dhaka-1'"
      ]
     },
     "execution_count": 69,
     "metadata": {},
     "output_type": "execute_result"
    }
   ],
   "source": [
    "current_div.find('a')['href']"
   ]
  },
  {
   "cell_type": "code",
   "execution_count": 71,
   "metadata": {},
   "outputs": [
    {
     "ename": "KeyError",
     "evalue": "'href'",
     "output_type": "error",
     "traceback": [
      "\u001b[0;31m---------------------------------------------------------------------------\u001b[0m",
      "\u001b[0;31mKeyError\u001b[0m                                  Traceback (most recent call last)",
      "\u001b[0;32m<ipython-input-71-bd3440a156aa>\u001b[0m in \u001b[0;36m<module>\u001b[0;34m()\u001b[0m\n\u001b[0;32m----> 1\u001b[0;31m \u001b[0mcurrent_div\u001b[0m\u001b[0;34m.\u001b[0m\u001b[0mfind\u001b[0m\u001b[0;34m(\u001b[0m\u001b[0;34m'img'\u001b[0m\u001b[0;34m)\u001b[0m\u001b[0;34m[\u001b[0m\u001b[0;34m'href'\u001b[0m\u001b[0;34m]\u001b[0m\u001b[0;34m\u001b[0m\u001b[0m\n\u001b[0m",
      "\u001b[0;32m/home/scarlet/anaconda3/envs/my_env/lib/python3.6/site-packages/bs4/element.py\u001b[0m in \u001b[0;36m__getitem__\u001b[0;34m(self, key)\u001b[0m\n\u001b[1;32m   1009\u001b[0m         \"\"\"tag[key] returns the value of the 'key' attribute for the tag,\n\u001b[1;32m   1010\u001b[0m         and throws an exception if it's not there.\"\"\"\n\u001b[0;32m-> 1011\u001b[0;31m         \u001b[0;32mreturn\u001b[0m \u001b[0mself\u001b[0m\u001b[0;34m.\u001b[0m\u001b[0mattrs\u001b[0m\u001b[0;34m[\u001b[0m\u001b[0mkey\u001b[0m\u001b[0;34m]\u001b[0m\u001b[0;34m\u001b[0m\u001b[0m\n\u001b[0m\u001b[1;32m   1012\u001b[0m \u001b[0;34m\u001b[0m\u001b[0m\n\u001b[1;32m   1013\u001b[0m     \u001b[0;32mdef\u001b[0m \u001b[0m__iter__\u001b[0m\u001b[0;34m(\u001b[0m\u001b[0mself\u001b[0m\u001b[0;34m)\u001b[0m\u001b[0;34m:\u001b[0m\u001b[0;34m\u001b[0m\u001b[0m\n",
      "\u001b[0;31mKeyError\u001b[0m: 'href'"
     ]
    }
   ],
   "source": [
    "current_div.find('img')['href']"
   ]
  },
  {
   "cell_type": "code",
   "execution_count": 74,
   "metadata": {},
   "outputs": [
    {
     "ename": "KeyError",
     "evalue": "'href'",
     "output_type": "error",
     "traceback": [
      "\u001b[0;31m---------------------------------------------------------------------------\u001b[0m",
      "\u001b[0;31mKeyError\u001b[0m                                  Traceback (most recent call last)",
      "\u001b[0;32m<ipython-input-74-bd3440a156aa>\u001b[0m in \u001b[0;36m<module>\u001b[0;34m()\u001b[0m\n\u001b[0;32m----> 1\u001b[0;31m \u001b[0mcurrent_div\u001b[0m\u001b[0;34m.\u001b[0m\u001b[0mfind\u001b[0m\u001b[0;34m(\u001b[0m\u001b[0;34m'img'\u001b[0m\u001b[0;34m)\u001b[0m\u001b[0;34m[\u001b[0m\u001b[0;34m'href'\u001b[0m\u001b[0;34m]\u001b[0m\u001b[0;34m\u001b[0m\u001b[0m\n\u001b[0m",
      "\u001b[0;32m/home/scarlet/anaconda3/envs/my_env/lib/python3.6/site-packages/bs4/element.py\u001b[0m in \u001b[0;36m__getitem__\u001b[0;34m(self, key)\u001b[0m\n\u001b[1;32m   1009\u001b[0m         \"\"\"tag[key] returns the value of the 'key' attribute for the tag,\n\u001b[1;32m   1010\u001b[0m         and throws an exception if it's not there.\"\"\"\n\u001b[0;32m-> 1011\u001b[0;31m         \u001b[0;32mreturn\u001b[0m \u001b[0mself\u001b[0m\u001b[0;34m.\u001b[0m\u001b[0mattrs\u001b[0m\u001b[0;34m[\u001b[0m\u001b[0mkey\u001b[0m\u001b[0;34m]\u001b[0m\u001b[0;34m\u001b[0m\u001b[0m\n\u001b[0m\u001b[1;32m   1012\u001b[0m \u001b[0;34m\u001b[0m\u001b[0m\n\u001b[1;32m   1013\u001b[0m     \u001b[0;32mdef\u001b[0m \u001b[0m__iter__\u001b[0m\u001b[0;34m(\u001b[0m\u001b[0mself\u001b[0m\u001b[0;34m)\u001b[0m\u001b[0;34m:\u001b[0m\u001b[0;34m\u001b[0m\u001b[0m\n",
      "\u001b[0;31mKeyError\u001b[0m: 'href'"
     ]
    }
   ],
   "source": [
    "current_div.find('img')['href']"
   ]
  },
  {
   "cell_type": "code",
   "execution_count": 86,
   "metadata": {},
   "outputs": [
    {
     "data": {
      "text/plain": [
       "<div class=\"item-thumb\"><a href=\"/en/ad/dell-inspiron-3421-laptop-ribbon-cable-for-sale-dhaka-1\"><img alt=\"Computer Accessories-Dhaka - Dell Inspiron 3421 Laptop Ribbon Cable\" data-srcset=\"//i.bikroy-st.com/7379cdcc-0d63-4acf-99b6-e1ccadffee51/136/102/cropped.jpg 1x, //i.bikroy-st.com/7379cdcc-0d63-4acf-99b6-e1ccadffee51/272/204/cropped.jpg 1.3x\" title=\"Dell Inspiron 3421 Laptop Ribbon Cable\"/></a></div>"
      ]
     },
     "execution_count": 86,
     "metadata": {},
     "output_type": "execute_result"
    }
   ],
   "source": [
    "current_div.find( 'div',{'class': 'item-thumb'})"
   ]
  },
  {
   "cell_type": "code",
   "execution_count": 85,
   "metadata": {},
   "outputs": [
    {
     "data": {
      "text/plain": [
       "<img alt=\"Computer Accessories-Dhaka - Dell Inspiron 3421 Laptop Ribbon Cable\" data-srcset=\"//i.bikroy-st.com/7379cdcc-0d63-4acf-99b6-e1ccadffee51/136/102/cropped.jpg 1x, //i.bikroy-st.com/7379cdcc-0d63-4acf-99b6-e1ccadffee51/272/204/cropped.jpg 1.3x\" title=\"Dell Inspiron 3421 Laptop Ribbon Cable\"/>"
      ]
     },
     "execution_count": 85,
     "metadata": {},
     "output_type": "execute_result"
    }
   ],
   "source": [
    "current_div.find('img')"
   ]
  },
  {
   "cell_type": "code",
   "execution_count": 98,
   "metadata": {},
   "outputs": [
    {
     "data": {
      "text/plain": [
       "'//i.bikroy-st.com/7379cdcc-0d63-4acf-99b6-e1ccadffee51/136/102/cropped.jpg 1x, //i.bikroy-st.com/7379cdcc-0d63-4acf-99b6-e1ccadffee51/272/204/cropped.jpg 1.3x'"
      ]
     },
     "execution_count": 98,
     "metadata": {},
     "output_type": "execute_result"
    }
   ],
   "source": [
    "current_div.find('img')['data-srcset']"
   ]
  },
  {
   "cell_type": "code",
   "execution_count": null,
   "metadata": {
    "collapsed": true
   },
   "outputs": [],
   "source": []
  }
 ],
 "metadata": {
  "kernelspec": {
   "display_name": "Python 3",
   "language": "python",
   "name": "python3"
  },
  "language_info": {
   "codemirror_mode": {
    "name": "ipython",
    "version": 3
   },
   "file_extension": ".py",
   "mimetype": "text/x-python",
   "name": "python",
   "nbconvert_exporter": "python",
   "pygments_lexer": "ipython3",
   "version": "3.6.1"
  }
 },
 "nbformat": 4,
 "nbformat_minor": 2
}
