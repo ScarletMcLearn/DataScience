{
 "cells": [
  {
   "cell_type": "code",
   "execution_count": 27,
   "metadata": {},
   "outputs": [],
   "source": [
    "from selenium import webdriver\n",
    "import time \n",
    "import random\n",
    "\n"
   ]
  },
  {
   "cell_type": "code",
   "execution_count": null,
   "metadata": {},
   "outputs": [],
   "source": [
    "option = webdriver.ChromeOptions()\n",
    "\n",
    "\n",
    "#Removes navigator.webdriver flag\n",
    "\n",
    "# For older ChromeDriver under version 79.0.3945.16\n",
    "option.add_experimental_option(\"excludeSwitches\", [\"enable-automation\"])\n",
    "option.add_experimental_option('useAutomationExtension', False)\n",
    "\n",
    "#For ChromeDriver version 79.0.3945.16 or over\n",
    "option.add_argument('--disable-blink-features=AutomationControlled')\n",
    "\n",
    "\n",
    "option.add_argument(\"window-size=1280,800\")\n",
    "option.add_argument(\"user-agent=Mozilla/5.0 (Windows NT 10.0; Win64; x64) AppleWebKit/537.36 (KHTML, like Gecko) Chrome/74.0.3729.169 Safari/537.36\")\n",
    "\n",
    "\n",
    "\n",
    "driver = webdriver.Chrome(executable_path='/home/scarlet/Projects/WebDrivers/Chromedriver/chromedriver', options=option)"
   ]
  },
  {
   "cell_type": "code",
   "execution_count": null,
   "metadata": {},
   "outputs": [],
   "source": []
  },
  {
   "cell_type": "code",
   "execution_count": 28,
   "metadata": {},
   "outputs": [],
   "source": [
    "def get_page(url):\n",
    "    return driver.get(url)"
   ]
  },
  {
   "cell_type": "code",
   "execution_count": 153,
   "metadata": {},
   "outputs": [],
   "source": [
    "url = 'https://dl.acm.org/action/doSearch?AllField=digital+mental+healthcare+less+economically+developed+countries&startPage=0&pageSize=50'"
   ]
  },
  {
   "cell_type": "code",
   "execution_count": 160,
   "metadata": {},
   "outputs": [],
   "source": [
    "get_page(url)"
   ]
  },
  {
   "cell_type": "code",
   "execution_count": 19,
   "metadata": {},
   "outputs": [],
   "source": [
    "title_list = driver.find_elements_by_class_name('hlFld-Title')"
   ]
  },
  {
   "cell_type": "code",
   "execution_count": 24,
   "metadata": {},
   "outputs": [],
   "source": [
    "for i in range(len(title_list)):\n",
    "    title_list[i] = title_list[i].text"
   ]
  },
  {
   "cell_type": "code",
   "execution_count": 26,
   "metadata": {},
   "outputs": [
    {
     "data": {
      "text/plain": [
       "50"
      ]
     },
     "execution_count": 26,
     "metadata": {},
     "output_type": "execute_result"
    }
   ],
   "source": [
    "len(title_list)"
   ]
  },
  {
   "cell_type": "code",
   "execution_count": 27,
   "metadata": {},
   "outputs": [
    {
     "data": {
      "text/plain": [
       "['Digital Phenotyping as a Tool for Personalized Mental Healthcare',\n",
       " \"A 'digital gap' between developed country and least developed country: a comparative case study between Nepal and Korea\",\n",
       " 'Revisiting the theory of planned behavior for the preparation of the adoption of municipal e-services in less developed countries',\n",
       " 'A Framework for Digital Government Transformation Performance Assessment and Toolkit for Developing Countries',\n",
       " 'Computing in a less-developed country']"
      ]
     },
     "execution_count": 27,
     "metadata": {},
     "output_type": "execute_result"
    }
   ],
   "source": [
    "title_list[:5]"
   ]
  },
  {
   "cell_type": "code",
   "execution_count": 28,
   "metadata": {},
   "outputs": [],
   "source": [
    "published_date_list = driver.find_elements_by_class_name('bookPubDate')"
   ]
  },
  {
   "cell_type": "code",
   "execution_count": 29,
   "metadata": {},
   "outputs": [],
   "source": [
    "for i in range(len(published_date_list)):\n",
    "    published_date_list[i] = published_date_list[i].text"
   ]
  },
  {
   "cell_type": "code",
   "execution_count": 31,
   "metadata": {},
   "outputs": [
    {
     "data": {
      "text/plain": [
       "50"
      ]
     },
     "execution_count": 31,
     "metadata": {},
     "output_type": "execute_result"
    }
   ],
   "source": [
    "len(published_date_list)"
   ]
  },
  {
   "cell_type": "code",
   "execution_count": 32,
   "metadata": {},
   "outputs": [
    {
     "data": {
      "text/plain": [
       "['May 2019', 'October 2010', 'October 2012']"
      ]
     },
     "execution_count": 32,
     "metadata": {},
     "output_type": "execute_result"
    }
   ],
   "source": [
    "published_date_list[:3]  "
   ]
  },
  {
   "cell_type": "code",
   "execution_count": 146,
   "metadata": {},
   "outputs": [],
   "source": [
    "authors_list = driver.find_elements_by_css_selector('ul[aria-label=\"authors\"]')\n",
    "\n",
    "for i in range(len(authors_list)):\n",
    "    authors_list[i] = authors_list[i].text"
   ]
  },
  {
   "cell_type": "code",
   "execution_count": 147,
   "metadata": {},
   "outputs": [
    {
     "data": {
      "text/plain": [
       "50"
      ]
     },
     "execution_count": 147,
     "metadata": {},
     "output_type": "execute_result"
    }
   ],
   "source": [
    "len(authors_list)"
   ]
  },
  {
   "cell_type": "code",
   "execution_count": 38,
   "metadata": {},
   "outputs": [
    {
     "data": {
      "text/plain": [
       "['Ana M. Bernardos,Marcos Pires, + 2',\n",
       " 'Manish Pokharel,Young Sik Kim,Jong Sou Park (Less)',\n",
       " 'Ntjatji Gosebo,Seraphin Desire Eyono Obono',\n",
       " 'Lukman Idowu Lamid,Isa Ali Ibrahim, + 2',\n",
       " 'Seymour E. Goodman']"
      ]
     },
     "execution_count": 38,
     "metadata": {},
     "output_type": "execute_result"
    }
   ],
   "source": [
    "authors_list[:5]  "
   ]
  },
  {
   "cell_type": "code",
   "execution_count": 40,
   "metadata": {},
   "outputs": [],
   "source": [
    "published_in =  driver.find_elements_by_class_name('epub-section__title')\n",
    "\n",
    "for i in range(len(published_in)):\n",
    "    published_in[i] = published_in[i].text"
   ]
  },
  {
   "cell_type": "code",
   "execution_count": 41,
   "metadata": {},
   "outputs": [
    {
     "data": {
      "text/plain": [
       "[\"PervasiveHealth'19: Proceedings of the 13th EAI International Conference on Pervasive Computing Technologies for Healthcare\",\n",
       " \"ICEGOV '10: Proceedings of the 4th International Conference on Theory and Practice of Electronic Governance\",\n",
       " \"SAICSIT '12: Proceedings of the South African Institute for Computer Scientists and Information Technologists Conference\",\n",
       " 'ICEGOV 2021: 14th International Conference on Theory and Practice of Electronic Governance',\n",
       " 'Communications of the ACM (CACM), Volume 34, Issue 12']"
      ]
     },
     "execution_count": 41,
     "metadata": {},
     "output_type": "execute_result"
    }
   ],
   "source": [
    "published_in[:5]  "
   ]
  },
  {
   "cell_type": "code",
   "execution_count": 42,
   "metadata": {},
   "outputs": [
    {
     "data": {
      "text/plain": [
       "50"
      ]
     },
     "execution_count": 42,
     "metadata": {},
     "output_type": "execute_result"
    }
   ],
   "source": [
    "len(published_in)"
   ]
  },
  {
   "cell_type": "code",
   "execution_count": 63,
   "metadata": {},
   "outputs": [],
   "source": [
    "abstract_list =  driver.find_elements_by_class_name('issue-item__abstract')\n",
    "\n",
    "for i in range(len(abstract_list)):\n",
    "    abstract_list[i] = abstract_list[i].text"
   ]
  },
  {
   "cell_type": "code",
   "execution_count": 64,
   "metadata": {},
   "outputs": [
    {
     "data": {
      "text/plain": [
       "50"
      ]
     },
     "execution_count": 64,
     "metadata": {},
     "output_type": "execute_result"
    }
   ],
   "source": [
    "len(abstract_list)"
   ]
  },
  {
   "cell_type": "code",
   "execution_count": 66,
   "metadata": {},
   "outputs": [
    {
     "data": {
      "text/plain": [
       "['Digital phenotyping is a novel approach to refer to moment-by-moment quantification of the individual-level social, physical, cognitive, emotional and behavioral phenotype in situ, using data from personal…']"
      ]
     },
     "execution_count": 66,
     "metadata": {},
     "output_type": "execute_result"
    }
   ],
   "source": [
    "abstract_list[:1]   "
   ]
  },
  {
   "cell_type": "code",
   "execution_count": 86,
   "metadata": {},
   "outputs": [],
   "source": [
    "citation_list =  driver.find_elements_by_class_name('citation')\n",
    "\n",
    "for i in range(len(citation_list)):\n",
    "        citation_list[i] = citation_list[i].text"
   ]
  },
  {
   "cell_type": "code",
   "execution_count": 87,
   "metadata": {},
   "outputs": [
    {
     "data": {
      "text/plain": [
       "100"
      ]
     },
     "execution_count": 87,
     "metadata": {},
     "output_type": "execute_result"
    }
   ],
   "source": [
    "len(citation_list)"
   ]
  },
  {
   "cell_type": "code",
   "execution_count": 77,
   "metadata": {},
   "outputs": [
    {
     "data": {
      "text/plain": [
       "['3', '', '1', '', '4', '']"
      ]
     },
     "execution_count": 77,
     "metadata": {},
     "output_type": "execute_result"
    }
   ],
   "source": [
    "citation_list[:6]   "
   ]
  },
  {
   "cell_type": "code",
   "execution_count": 82,
   "metadata": {},
   "outputs": [],
   "source": [
    "def remove_values_from_list(the_list, val):\n",
    "       return [value for value in the_list if value != val]"
   ]
  },
  {
   "cell_type": "code",
   "execution_count": 88,
   "metadata": {},
   "outputs": [],
   "source": [
    "citation_list = remove_values_from_list(citation_list, '')"
   ]
  },
  {
   "cell_type": "code",
   "execution_count": 89,
   "metadata": {},
   "outputs": [
    {
     "data": {
      "text/plain": [
       "['3', '1', '4', '0', '18', '0']"
      ]
     },
     "execution_count": 89,
     "metadata": {},
     "output_type": "execute_result"
    }
   ],
   "source": [
    "citation_list[:6]"
   ]
  },
  {
   "cell_type": "code",
   "execution_count": 90,
   "metadata": {},
   "outputs": [
    {
     "data": {
      "text/plain": [
       "50"
      ]
     },
     "execution_count": 90,
     "metadata": {},
     "output_type": "execute_result"
    }
   ],
   "source": [
    "len(citation_list)"
   ]
  },
  {
   "cell_type": "code",
   "execution_count": 174,
   "metadata": {},
   "outputs": [
    {
     "name": "stdout",
     "output_type": "stream",
     "text": [
      "Next button not found\n"
     ]
    }
   ],
   "source": [
    "from selenium.common.exceptions import NoSuchElementException\n",
    "\n",
    "try:\n",
    "    next_button =  driver.find_element_by_class_name('pagination__btn--next')\n",
    "except NoSuchElementException:\n",
    "    print('Next button not found')"
   ]
  },
  {
   "cell_type": "code",
   "execution_count": null,
   "metadata": {},
   "outputs": [],
   "source": []
  },
  {
   "cell_type": "code",
   "execution_count": 143,
   "metadata": {},
   "outputs": [],
   "source": [
    "next_button.click()"
   ]
  },
  {
   "cell_type": "code",
   "execution_count": 122,
   "metadata": {},
   "outputs": [
    {
     "data": {
      "text/plain": [
       "46"
      ]
     },
     "execution_count": 122,
     "metadata": {},
     "output_type": "execute_result"
    }
   ],
   "source": []
  },
  {
   "cell_type": "code",
   "execution_count": 38,
   "metadata": {},
   "outputs": [],
   "source": [
    "import pandas as pd"
   ]
  },
  {
   "cell_type": "code",
   "execution_count": 148,
   "metadata": {},
   "outputs": [],
   "source": [
    "df = pd.DataFrame(list(zip(title_list, published_date_list, citation_list, authors_list, published_in, abstract_list)),\n",
    "               columns =['Title', 'Published Date', 'Citations', 'Authors List', 'Published In', 'Abstract List'])"
   ]
  },
  {
   "cell_type": "code",
   "execution_count": 149,
   "metadata": {},
   "outputs": [
    {
     "data": {
      "text/html": [
       "<div>\n",
       "<style scoped>\n",
       "    .dataframe tbody tr th:only-of-type {\n",
       "        vertical-align: middle;\n",
       "    }\n",
       "\n",
       "    .dataframe tbody tr th {\n",
       "        vertical-align: top;\n",
       "    }\n",
       "\n",
       "    .dataframe thead th {\n",
       "        text-align: right;\n",
       "    }\n",
       "</style>\n",
       "<table border=\"1\" class=\"dataframe\">\n",
       "  <thead>\n",
       "    <tr style=\"text-align: right;\">\n",
       "      <th></th>\n",
       "      <th>Title</th>\n",
       "      <th>Published Date</th>\n",
       "      <th>Citations</th>\n",
       "      <th>Authors List</th>\n",
       "      <th>Published In</th>\n",
       "      <th>Abstract List</th>\n",
       "    </tr>\n",
       "  </thead>\n",
       "  <tbody>\n",
       "    <tr>\n",
       "      <th>0</th>\n",
       "      <td>Digital Phenotyping as a Tool for Personalized...</td>\n",
       "      <td>May 2019</td>\n",
       "      <td>3</td>\n",
       "      <td>Ana M. Bernardos,Marcos Pires, + 2</td>\n",
       "      <td>PervasiveHealth'19: Proceedings of the 13th EA...</td>\n",
       "      <td>Digital phenotyping is a novel approach to ref...</td>\n",
       "    </tr>\n",
       "    <tr>\n",
       "      <th>1</th>\n",
       "      <td>A 'digital gap' between developed country and ...</td>\n",
       "      <td>October 2010</td>\n",
       "      <td>1</td>\n",
       "      <td>Manish Pokharel,Young Sik Kim, + 1</td>\n",
       "      <td>ICEGOV '10: Proceedings of the 4th Internation...</td>\n",
       "      <td>The 'Digital gap' is a very common terminology...</td>\n",
       "    </tr>\n",
       "    <tr>\n",
       "      <th>2</th>\n",
       "      <td>Revisiting the theory of planned behavior for ...</td>\n",
       "      <td>October 2012</td>\n",
       "      <td>4</td>\n",
       "      <td>Ntjatji Gosebo,Seraphin Desire Eyono Obono</td>\n",
       "      <td>SAICSIT '12: Proceedings of the South African ...</td>\n",
       "      <td>The aim of this study is to design a model of ...</td>\n",
       "    </tr>\n",
       "    <tr>\n",
       "      <th>3</th>\n",
       "      <td>A Framework for Digital Government Transformat...</td>\n",
       "      <td>October 2021</td>\n",
       "      <td>0</td>\n",
       "      <td>Lukman Idowu Lamid,Isa Ali Ibrahim, + 2</td>\n",
       "      <td>ICEGOV 2021: 14th International Conference on ...</td>\n",
       "      <td>In developing countries, the importance of dig...</td>\n",
       "    </tr>\n",
       "    <tr>\n",
       "      <th>4</th>\n",
       "      <td>Computing in a less-developed country</td>\n",
       "      <td>December 1991</td>\n",
       "      <td>18</td>\n",
       "      <td>Seymour E. Goodman</td>\n",
       "      <td>Communications of the ACM (CACM), Volume 34, I...</td>\n",
       "      <td>Almost all of the nations of Latin America are...</td>\n",
       "    </tr>\n",
       "    <tr>\n",
       "      <th>5</th>\n",
       "      <td>Central government computing agency in less de...</td>\n",
       "      <td>February 1981</td>\n",
       "      <td>0</td>\n",
       "      <td>Asad Khailany</td>\n",
       "      <td>SIGCSE '81: Proceedings of the twelfth SIGCSE ...</td>\n",
       "      <td>This paper is a result of research conducted i...</td>\n",
       "    </tr>\n",
       "    <tr>\n",
       "      <th>6</th>\n",
       "      <td>Enhancing computer knowledge in Less Developed...</td>\n",
       "      <td>February 1982</td>\n",
       "      <td>0</td>\n",
       "      <td>Asad Khailany</td>\n",
       "      <td>SIGCSE '82: Proceedings of the thirteenth SIGC...</td>\n",
       "      <td>This panel focuses on how computer knowledge c...</td>\n",
       "    </tr>\n",
       "    <tr>\n",
       "      <th>7</th>\n",
       "      <td>Central government computing agency in less de...</td>\n",
       "      <td>September 1981</td>\n",
       "      <td>0</td>\n",
       "      <td>Asad Khailany</td>\n",
       "      <td>ACM SIGCSE Bulletin (SIGCSE), Volume 13, Issue 3</td>\n",
       "      <td></td>\n",
       "    </tr>\n",
       "    <tr>\n",
       "      <th>8</th>\n",
       "      <td>Can Chatbots Help Support a Person’s Mental He...</td>\n",
       "      <td>July 2021</td>\n",
       "      <td>2</td>\n",
       "      <td>Colm Sweeney,Courtney Potts, + 15</td>\n",
       "      <td>ACM Transactions on Computing for Healthcare (...</td>\n",
       "      <td>The objective of this study was to understand ...</td>\n",
       "    </tr>\n",
       "    <tr>\n",
       "      <th>9</th>\n",
       "      <td>Digital Library Appropriation in the Context o...</td>\n",
       "      <td>November 2016</td>\n",
       "      <td>2</td>\n",
       "      <td>Nicci C. L. Gafinowitz</td>\n",
       "      <td>ACM DEV '16: Proceedings of the 7th Annual Sym...</td>\n",
       "      <td>Users of information and communication technol...</td>\n",
       "    </tr>\n",
       "    <tr>\n",
       "      <th>10</th>\n",
       "      <td>Involving Crowdworkers with Lived Experience i...</td>\n",
       "      <td>April 2022</td>\n",
       "      <td>0</td>\n",
       "      <td>Rachel Kornfield,David C. Mohr,Rachel Ranney, + 4</td>\n",
       "      <td>Proceedings of the ACM on Human-Computer Inter...</td>\n",
       "      <td>Digital tools can support individuals managing...</td>\n",
       "    </tr>\n",
       "    <tr>\n",
       "      <th>11</th>\n",
       "      <td>Perceived and objective usability and visual a...</td>\n",
       "      <td>December 2014</td>\n",
       "      <td>4</td>\n",
       "      <td>Milica Stojmenovic,Christopher Pilgrim, + 1</td>\n",
       "      <td>OzCHI '14: Proceedings of the 26th Australian ...</td>\n",
       "      <td>In Human-Computer Interaction (HCI), the usabi...</td>\n",
       "    </tr>\n",
       "    <tr>\n",
       "      <th>12</th>\n",
       "      <td>Suitable EAI architectures are necessary to fi...</td>\n",
       "      <td>November 2007</td>\n",
       "      <td>0</td>\n",
       "      <td>Gerald Knoll,Karsten Tolle, + 1</td>\n",
       "      <td>MC '07: Proceedings of the 2007 ACM/IFIP/USENI...</td>\n",
       "      <td>In this paper, we describe the main barriers f...</td>\n",
       "    </tr>\n",
       "    <tr>\n",
       "      <th>13</th>\n",
       "      <td>Towards a Digital Ecosystem for Predictive Hea...</td>\n",
       "      <td>September 2014</td>\n",
       "      <td>8</td>\n",
       "      <td>Basit Qureshi</td>\n",
       "      <td>MEDES '14: Proceedings of the 6th Internationa...</td>\n",
       "      <td>Healthcare applications depend on voluminous d...</td>\n",
       "    </tr>\n",
       "    <tr>\n",
       "      <th>14</th>\n",
       "      <td>Economic Growth and Automation Risks in Develo...</td>\n",
       "      <td>April 2018</td>\n",
       "      <td>4</td>\n",
       "      <td>Aki Nagano</td>\n",
       "      <td>ICEGOV '18: Proceedings of the 11th Internatio...</td>\n",
       "      <td>This paper is aimed at making recommendations ...</td>\n",
       "    </tr>\n",
       "    <tr>\n",
       "      <th>15</th>\n",
       "      <td>Smartphone driven healthcare system for rural ...</td>\n",
       "      <td>June 2008</td>\n",
       "      <td>10</td>\n",
       "      <td>Santosh Kulkarni,Prathima Agrawal</td>\n",
       "      <td>HealthNet '08: Proceedings of the 2nd Internat...</td>\n",
       "      <td>People in developing countries often do not ha...</td>\n",
       "    </tr>\n",
       "    <tr>\n",
       "      <th>16</th>\n",
       "      <td>Towards Devising a Low-cost and Easy-to-use Ar...</td>\n",
       "      <td>November 2018</td>\n",
       "      <td>2</td>\n",
       "      <td>Tusher Chakraborty,Taslim Arefin Khan, + 1</td>\n",
       "      <td>ACM Transactions on Accessible Computing (TACC...</td>\n",
       "      <td>Basic arithmetic operations are essential skil...</td>\n",
       "    </tr>\n",
       "    <tr>\n",
       "      <th>17</th>\n",
       "      <td>The promise of digital libraries in developing...</td>\n",
       "      <td>May 2001</td>\n",
       "      <td>18</td>\n",
       "      <td>Ian H. Witten,Michel Loots, + 2</td>\n",
       "      <td>Communications of the ACM (CACM), Volume 44, I...</td>\n",
       "      <td></td>\n",
       "    </tr>\n",
       "    <tr>\n",
       "      <th>18</th>\n",
       "      <td>The contents of resource decisions in the diff...</td>\n",
       "      <td>January 1999</td>\n",
       "      <td>0</td>\n",
       "      <td>Mohammed Khwaja,Svenja Pieritz, + 2</td>\n",
       "      <td>ICIS '99: Proceedings of the 20th internationa...</td>\n",
       "      <td>Personalisation is key to creating successful ...</td>\n",
       "    </tr>\n",
       "    <tr>\n",
       "      <th>19</th>\n",
       "      <td>Personality and Engagement with Digital Mental...</td>\n",
       "      <td>June 2021</td>\n",
       "      <td>0</td>\n",
       "      <td>Ramiro Montealegre</td>\n",
       "      <td>UMAP '21: Proceedings of the 29th ACM Conferen...</td>\n",
       "      <td></td>\n",
       "    </tr>\n",
       "    <tr>\n",
       "      <th>20</th>\n",
       "      <td>Haptic feedback in motor hand virtual therapy ...</td>\n",
       "      <td>May 2015</td>\n",
       "      <td>1</td>\n",
       "      <td>Cristina Ramírez--Fernández, + 2</td>\n",
       "      <td>PervasiveHealth '15: Proceedings of the 9th In...</td>\n",
       "      <td>In this work we show that haptic feedback in u...</td>\n",
       "    </tr>\n",
       "    <tr>\n",
       "      <th>21</th>\n",
       "      <td>The role of computer science education in aidi...</td>\n",
       "      <td>January 1979</td>\n",
       "      <td>0</td>\n",
       "      <td>Lawrence Mazlack</td>\n",
       "      <td>SIGCSE '79: Proceedings of the tenth SIGCSE te...</td>\n",
       "      <td></td>\n",
       "    </tr>\n",
       "    <tr>\n",
       "      <th>22</th>\n",
       "      <td>Workshop on interactive digital TV in emergent...</td>\n",
       "      <td>June 2010</td>\n",
       "      <td>0</td>\n",
       "      <td>Vicente Ferreira de Lucena,Lin Gui, + 2</td>\n",
       "      <td>EuroITV '10: Proceedings of the 8th European C...</td>\n",
       "      <td>The main goal of this workshop is to bring tog...</td>\n",
       "    </tr>\n",
       "    <tr>\n",
       "      <th>23</th>\n",
       "      <td>Designing Mobile Persuasive Technology to Prom...</td>\n",
       "      <td>May 2019</td>\n",
       "      <td>1</td>\n",
       "      <td>Makuochi Nkwo</td>\n",
       "      <td>W4A '19: Proceedings of the 16th International...</td>\n",
       "      <td>My research examines new ways of supporting pe...</td>\n",
       "    </tr>\n",
       "    <tr>\n",
       "      <th>24</th>\n",
       "      <td>The influence of digital levers on the growth ...</td>\n",
       "      <td>April 2021</td>\n",
       "      <td>0</td>\n",
       "      <td>Alfonso Marino,Paolo Pariso, + 1</td>\n",
       "      <td>ICEEG 2021: 2021 The 5th International Confere...</td>\n",
       "      <td>The study focuses on the evaluation the relati...</td>\n",
       "    </tr>\n",
       "    <tr>\n",
       "      <th>25</th>\n",
       "      <td>A Digital Platform for Remote Healthcare Monit...</td>\n",
       "      <td>April 2020</td>\n",
       "      <td>4</td>\n",
       "      <td>Shirin Enshaeifar,Payam Barnaghi, + 4</td>\n",
       "      <td>WWW '20: Companion Proceedings of the Web Conf...</td>\n",
       "      <td>We describe a digital platform developed in co...</td>\n",
       "    </tr>\n",
       "    <tr>\n",
       "      <th>26</th>\n",
       "      <td>Mobile phones and digital divide in East Afric...</td>\n",
       "      <td>October 2011</td>\n",
       "      <td>0</td>\n",
       "      <td>Nicolau Reinhard,Prashant Palvia, + 3</td>\n",
       "      <td>SAICSIT '11: Proceedings of the South African ...</td>\n",
       "      <td></td>\n",
       "    </tr>\n",
       "    <tr>\n",
       "      <th>27</th>\n",
       "      <td>What is different with information technology ...</td>\n",
       "      <td>December 1997</td>\n",
       "      <td>6</td>\n",
       "      <td>Lucas Mimbi,Felix Olu Bankole, + 1</td>\n",
       "      <td>ICIS '97: Proceedings of the eighteenth intern...</td>\n",
       "      <td>Among reasons inhibiting information flow from...</td>\n",
       "    </tr>\n",
       "    <tr>\n",
       "      <th>28</th>\n",
       "      <td>Digital technology in healthcare and elderly care</td>\n",
       "      <td>September 2017</td>\n",
       "      <td>1</td>\n",
       "      <td>Karin Danielsson,Helena Lindgren, + 3</td>\n",
       "      <td>ECCE 2017: Proceedings of the European Confere...</td>\n",
       "      <td>The focus of this ECCE 2017 panel is on digita...</td>\n",
       "    </tr>\n",
       "    <tr>\n",
       "      <th>29</th>\n",
       "      <td>User-centered design in developing countries: ...</td>\n",
       "      <td>May 2019</td>\n",
       "      <td>0</td>\n",
       "      <td>Rahel Bekele,Iris Groher, + 5</td>\n",
       "      <td>SEiA '19: Proceedings of the 2nd Symposium on ...</td>\n",
       "      <td>User-centered design (UCD) is a well-establish...</td>\n",
       "    </tr>\n",
       "    <tr>\n",
       "      <th>30</th>\n",
       "      <td>Do Human Capital and Economic Development Driv...</td>\n",
       "      <td>December 2021</td>\n",
       "      <td>0</td>\n",
       "      <td>Gulnora Abdurakhmanova,Anastas Khachaturov, + 2</td>\n",
       "      <td>ICFNDS 2021: The 5th International Conference ...</td>\n",
       "      <td>The goal of this study is to explore the relat...</td>\n",
       "    </tr>\n",
       "    <tr>\n",
       "      <th>31</th>\n",
       "      <td>Examining the Digital Labor of Mental Health C...</td>\n",
       "      <td>October 2021</td>\n",
       "      <td>0</td>\n",
       "      <td>Katlynne Davis</td>\n",
       "      <td>SIGDOC '21: The 39th ACM International Confere...</td>\n",
       "      <td>Mental health messaging on social media can in...</td>\n",
       "    </tr>\n",
       "    <tr>\n",
       "      <th>32</th>\n",
       "      <td>Designing for Digital Detox: Making Social Med...</td>\n",
       "      <td>April 2020</td>\n",
       "      <td>5</td>\n",
       "      <td>Aditya Kumar Purohit,Louis Barclay, + 1</td>\n",
       "      <td>CHI EA '20: Extended Abstracts of the 2020 CHI...</td>\n",
       "      <td>Social media addiction concerns have increased...</td>\n",
       "    </tr>\n",
       "    <tr>\n",
       "      <th>33</th>\n",
       "      <td>Towards continuous monitoring in personalized ...</td>\n",
       "      <td>November 2019</td>\n",
       "      <td>0</td>\n",
       "      <td>Zakharova Nadezhda,Polyakov Kirill, + 3</td>\n",
       "      <td>CASCON '19: Proceedings of the 29th Annual Int...</td>\n",
       "      <td>Given the speed of the changing landscape and ...</td>\n",
       "    </tr>\n",
       "    <tr>\n",
       "      <th>34</th>\n",
       "      <td>Developing key competencies in the digital eco...</td>\n",
       "      <td>October 2019</td>\n",
       "      <td>0</td>\n",
       "      <td>Luis F. Rivera,Miguel Jiménez, + 4</td>\n",
       "      <td>SPBPU IDE '19: Proceedings of the 2019 Interna...</td>\n",
       "      <td>Continuous and effective monitoring of chronic...</td>\n",
       "    </tr>\n",
       "    <tr>\n",
       "      <th>35</th>\n",
       "      <td>Framework to prioritize digital transformation...</td>\n",
       "      <td>September 2020</td>\n",
       "      <td>0</td>\n",
       "      <td>Denisse Cañete,Romina Torres, + 2</td>\n",
       "      <td>ICEGOV 2020: Proceedings of the 13th Internati...</td>\n",
       "      <td>Current public administration trends have rais...</td>\n",
       "    </tr>\n",
       "    <tr>\n",
       "      <th>36</th>\n",
       "      <td>Efficient multiplier-less inference of deep au...</td>\n",
       "      <td>September 2019</td>\n",
       "      <td>0</td>\n",
       "      <td>Jiafei Wu,Shing Chow Chan,Shuai Zhang</td>\n",
       "      <td>ISWC '19: Proceedings of the 23rd Internationa...</td>\n",
       "      <td>This paper presents an efficient multiplier-le...</td>\n",
       "    </tr>\n",
       "    <tr>\n",
       "      <th>37</th>\n",
       "      <td>Statistical analysis and implications of SNS s...</td>\n",
       "      <td>November 2013</td>\n",
       "      <td>5</td>\n",
       "      <td>Saif Ahmed,Md. Tanvir Alam Anik, + 2</td>\n",
       "      <td>OzCHI '13: Proceedings of the 25th Australian ...</td>\n",
       "      <td>Using Social Network Sites (SNS) as an informa...</td>\n",
       "    </tr>\n",
       "    <tr>\n",
       "      <th>38</th>\n",
       "      <td>The Digital Patient and the Digital Neighborho...</td>\n",
       "      <td>May 2021</td>\n",
       "      <td>0</td>\n",
       "      <td>C. Donald Combs</td>\n",
       "      <td>SIGSIM-PADS '21: Proceedings of the 2021 ACM S...</td>\n",
       "      <td>Healthcare is the largest industry in the Unit...</td>\n",
       "    </tr>\n",
       "    <tr>\n",
       "      <th>39</th>\n",
       "      <td>Approaches to Evaluation of Digital Transforma...</td>\n",
       "      <td>October 2020</td>\n",
       "      <td>0</td>\n",
       "      <td>Marina Ivanova,Natalia Putintseva</td>\n",
       "      <td>SPBPU IDE '20: Proceedings of the 2nd Internat...</td>\n",
       "      <td>E-government emphasizes new values of governan...</td>\n",
       "    </tr>\n",
       "    <tr>\n",
       "      <th>40</th>\n",
       "      <td>Technostress in digital healthcare environments</td>\n",
       "      <td>April 2020</td>\n",
       "      <td>0</td>\n",
       "      <td>Magdalena Stadin</td>\n",
       "      <td>XRDS: Crossroads, The ACM Magazine for Student...</td>\n",
       "      <td>The introduction of information and communicat...</td>\n",
       "    </tr>\n",
       "    <tr>\n",
       "      <th>41</th>\n",
       "      <td>To envisage and design the transition from a d...</td>\n",
       "      <td>June 2012</td>\n",
       "      <td>1</td>\n",
       "      <td>Maristella Agosti,Nicola Orio</td>\n",
       "      <td>JCDL '12: Proceedings of the 12th ACM/IEEE-CS ...</td>\n",
       "      <td>Diverse digital resources are commonly used by...</td>\n",
       "    </tr>\n",
       "    <tr>\n",
       "      <th>42</th>\n",
       "      <td>Promotion of Continuous Use of a Self-guided M...</td>\n",
       "      <td>October 2020</td>\n",
       "      <td>0</td>\n",
       "      <td>Takeshi Kamita,Atsuko Matsumoto, + 2</td>\n",
       "      <td>CSCW '20 Companion: Conference Companion Publi...</td>\n",
       "      <td>A stress check for early detection and caring ...</td>\n",
       "    </tr>\n",
       "    <tr>\n",
       "      <th>43</th>\n",
       "      <td>Job Digital Storytelling Program for Universit...</td>\n",
       "      <td>October 2019</td>\n",
       "      <td>1</td>\n",
       "      <td>Rika Ikeda,Fathima Assilmia, + 2</td>\n",
       "      <td>ICDTE 2019: Proceedings of the 2019 The 3rd In...</td>\n",
       "      <td>As technology is rapidly evolving, we are face...</td>\n",
       "    </tr>\n",
       "    <tr>\n",
       "      <th>44</th>\n",
       "      <td>Imagineering Gamification using Interactive Au...</td>\n",
       "      <td>October 2019</td>\n",
       "      <td>2</td>\n",
       "      <td>Tunyaboon Choolarb,Jakkrit Premsmith, + 1</td>\n",
       "      <td>ICDTE 2019: Proceedings of the 2019 The 3rd In...</td>\n",
       "      <td>The purpose of this research is to develop Ima...</td>\n",
       "    </tr>\n",
       "    <tr>\n",
       "      <th>45</th>\n",
       "      <td>Factors Driving Long-Term Economy Growth: An A...</td>\n",
       "      <td>December 2021</td>\n",
       "      <td>0</td>\n",
       "      <td>Yuting Wang,Shiqi Peng, + 2</td>\n",
       "      <td>EBEE 2021: 2021 3rd International Conference o...</td>\n",
       "      <td>This paper examines the factors that drive a c...</td>\n",
       "    </tr>\n",
       "    <tr>\n",
       "      <th>46</th>\n",
       "      <td>Digital Technologies in the Humanitarian Conte...</td>\n",
       "      <td>November 2019</td>\n",
       "      <td>0</td>\n",
       "      <td>Paul Lalvani,Francis D'Silva, + 5</td>\n",
       "      <td>DPH2019: Proceedings of the 9th International ...</td>\n",
       "      <td>The panel will address the potential benefits ...</td>\n",
       "    </tr>\n",
       "    <tr>\n",
       "      <th>47</th>\n",
       "      <td>Implementation of SMART on FHIR in Developing ...</td>\n",
       "      <td>November 2018</td>\n",
       "      <td>2</td>\n",
       "      <td>Nicolas Anciaux,Luc Bouganim, + 5</td>\n",
       "      <td>ICBBE '18: Proceedings of the 2018 5th Interna...</td>\n",
       "      <td>According to many studies, IT should become a ...</td>\n",
       "    </tr>\n",
       "    <tr>\n",
       "      <th>48</th>\n",
       "      <td>Opportunistic data services in least developed...</td>\n",
       "      <td>May 2014</td>\n",
       "      <td>2</td>\n",
       "      <td>Abrar Ahmad,Farooque Azam, + 1</td>\n",
       "      <td>ACM SIGMOD Record (SIGMOD), Volume 43, Issue 1</td>\n",
       "      <td>Fast Healthcare Interoperability Resources (FH...</td>\n",
       "    </tr>\n",
       "    <tr>\n",
       "      <th>49</th>\n",
       "      <td>Challenges for Designing new Technology for He...</td>\n",
       "      <td>May 2016</td>\n",
       "      <td>23</td>\n",
       "      <td>Anja Thieme,John McCarthy, + 14</td>\n",
       "      <td>CHI '16: Proceedings of the 2016 CHI Conferenc...</td>\n",
       "      <td>This paper describes the challenges and lesson...</td>\n",
       "    </tr>\n",
       "  </tbody>\n",
       "</table>\n",
       "</div>"
      ],
      "text/plain": [
       "                                                Title  Published Date  \\\n",
       "0   Digital Phenotyping as a Tool for Personalized...        May 2019   \n",
       "1   A 'digital gap' between developed country and ...    October 2010   \n",
       "2   Revisiting the theory of planned behavior for ...    October 2012   \n",
       "3   A Framework for Digital Government Transformat...    October 2021   \n",
       "4               Computing in a less-developed country   December 1991   \n",
       "5   Central government computing agency in less de...   February 1981   \n",
       "6   Enhancing computer knowledge in Less Developed...   February 1982   \n",
       "7   Central government computing agency in less de...  September 1981   \n",
       "8   Can Chatbots Help Support a Person’s Mental He...       July 2021   \n",
       "9   Digital Library Appropriation in the Context o...   November 2016   \n",
       "10  Involving Crowdworkers with Lived Experience i...      April 2022   \n",
       "11  Perceived and objective usability and visual a...   December 2014   \n",
       "12  Suitable EAI architectures are necessary to fi...   November 2007   \n",
       "13  Towards a Digital Ecosystem for Predictive Hea...  September 2014   \n",
       "14  Economic Growth and Automation Risks in Develo...      April 2018   \n",
       "15  Smartphone driven healthcare system for rural ...       June 2008   \n",
       "16  Towards Devising a Low-cost and Easy-to-use Ar...   November 2018   \n",
       "17  The promise of digital libraries in developing...        May 2001   \n",
       "18  The contents of resource decisions in the diff...    January 1999   \n",
       "19  Personality and Engagement with Digital Mental...       June 2021   \n",
       "20  Haptic feedback in motor hand virtual therapy ...        May 2015   \n",
       "21  The role of computer science education in aidi...    January 1979   \n",
       "22  Workshop on interactive digital TV in emergent...       June 2010   \n",
       "23  Designing Mobile Persuasive Technology to Prom...        May 2019   \n",
       "24  The influence of digital levers on the growth ...      April 2021   \n",
       "25  A Digital Platform for Remote Healthcare Monit...      April 2020   \n",
       "26  Mobile phones and digital divide in East Afric...    October 2011   \n",
       "27  What is different with information technology ...   December 1997   \n",
       "28  Digital technology in healthcare and elderly care  September 2017   \n",
       "29  User-centered design in developing countries: ...        May 2019   \n",
       "30  Do Human Capital and Economic Development Driv...   December 2021   \n",
       "31  Examining the Digital Labor of Mental Health C...    October 2021   \n",
       "32  Designing for Digital Detox: Making Social Med...      April 2020   \n",
       "33  Towards continuous monitoring in personalized ...   November 2019   \n",
       "34  Developing key competencies in the digital eco...    October 2019   \n",
       "35  Framework to prioritize digital transformation...  September 2020   \n",
       "36  Efficient multiplier-less inference of deep au...  September 2019   \n",
       "37  Statistical analysis and implications of SNS s...   November 2013   \n",
       "38  The Digital Patient and the Digital Neighborho...        May 2021   \n",
       "39  Approaches to Evaluation of Digital Transforma...    October 2020   \n",
       "40    Technostress in digital healthcare environments      April 2020   \n",
       "41  To envisage and design the transition from a d...       June 2012   \n",
       "42  Promotion of Continuous Use of a Self-guided M...    October 2020   \n",
       "43  Job Digital Storytelling Program for Universit...    October 2019   \n",
       "44  Imagineering Gamification using Interactive Au...    October 2019   \n",
       "45  Factors Driving Long-Term Economy Growth: An A...   December 2021   \n",
       "46  Digital Technologies in the Humanitarian Conte...   November 2019   \n",
       "47  Implementation of SMART on FHIR in Developing ...   November 2018   \n",
       "48  Opportunistic data services in least developed...        May 2014   \n",
       "49  Challenges for Designing new Technology for He...        May 2016   \n",
       "\n",
       "   Citations                                       Authors List  \\\n",
       "0          3                 Ana M. Bernardos,Marcos Pires, + 2   \n",
       "1          1                 Manish Pokharel,Young Sik Kim, + 1   \n",
       "2          4         Ntjatji Gosebo,Seraphin Desire Eyono Obono   \n",
       "3          0            Lukman Idowu Lamid,Isa Ali Ibrahim, + 2   \n",
       "4         18                                 Seymour E. Goodman   \n",
       "5          0                                      Asad Khailany   \n",
       "6          0                                      Asad Khailany   \n",
       "7          0                                      Asad Khailany   \n",
       "8          2                  Colm Sweeney,Courtney Potts, + 15   \n",
       "9          2                             Nicci C. L. Gafinowitz   \n",
       "10         0  Rachel Kornfield,David C. Mohr,Rachel Ranney, + 4   \n",
       "11         4        Milica Stojmenovic,Christopher Pilgrim, + 1   \n",
       "12         0                    Gerald Knoll,Karsten Tolle, + 1   \n",
       "13         8                                      Basit Qureshi   \n",
       "14         4                                         Aki Nagano   \n",
       "15        10                  Santosh Kulkarni,Prathima Agrawal   \n",
       "16         2         Tusher Chakraborty,Taslim Arefin Khan, + 1   \n",
       "17        18                    Ian H. Witten,Michel Loots, + 2   \n",
       "18         0                Mohammed Khwaja,Svenja Pieritz, + 2   \n",
       "19         0                                 Ramiro Montealegre   \n",
       "20         1                   Cristina Ramírez--Fernández, + 2   \n",
       "21         0                                   Lawrence Mazlack   \n",
       "22         0            Vicente Ferreira de Lucena,Lin Gui, + 2   \n",
       "23         1                                      Makuochi Nkwo   \n",
       "24         0                   Alfonso Marino,Paolo Pariso, + 1   \n",
       "25         4              Shirin Enshaeifar,Payam Barnaghi, + 4   \n",
       "26         0              Nicolau Reinhard,Prashant Palvia, + 3   \n",
       "27         6                 Lucas Mimbi,Felix Olu Bankole, + 1   \n",
       "28         1              Karin Danielsson,Helena Lindgren, + 3   \n",
       "29         0                      Rahel Bekele,Iris Groher, + 5   \n",
       "30         0    Gulnora Abdurakhmanova,Anastas Khachaturov, + 2   \n",
       "31         0                                     Katlynne Davis   \n",
       "32         5            Aditya Kumar Purohit,Louis Barclay, + 1   \n",
       "33         0            Zakharova Nadezhda,Polyakov Kirill, + 3   \n",
       "34         0                 Luis F. Rivera,Miguel Jiménez, + 4   \n",
       "35         0                  Denisse Cañete,Romina Torres, + 2   \n",
       "36         0              Jiafei Wu,Shing Chow Chan,Shuai Zhang   \n",
       "37         5               Saif Ahmed,Md. Tanvir Alam Anik, + 2   \n",
       "38         0                                    C. Donald Combs   \n",
       "39         0                  Marina Ivanova,Natalia Putintseva   \n",
       "40         0                                   Magdalena Stadin   \n",
       "41         1                      Maristella Agosti,Nicola Orio   \n",
       "42         0               Takeshi Kamita,Atsuko Matsumoto, + 2   \n",
       "43         1                   Rika Ikeda,Fathima Assilmia, + 2   \n",
       "44         2          Tunyaboon Choolarb,Jakkrit Premsmith, + 1   \n",
       "45         0                        Yuting Wang,Shiqi Peng, + 2   \n",
       "46         0                  Paul Lalvani,Francis D'Silva, + 5   \n",
       "47         2                  Nicolas Anciaux,Luc Bouganim, + 5   \n",
       "48         2                     Abrar Ahmad,Farooque Azam, + 1   \n",
       "49        23                    Anja Thieme,John McCarthy, + 14   \n",
       "\n",
       "                                         Published In  \\\n",
       "0   PervasiveHealth'19: Proceedings of the 13th EA...   \n",
       "1   ICEGOV '10: Proceedings of the 4th Internation...   \n",
       "2   SAICSIT '12: Proceedings of the South African ...   \n",
       "3   ICEGOV 2021: 14th International Conference on ...   \n",
       "4   Communications of the ACM (CACM), Volume 34, I...   \n",
       "5   SIGCSE '81: Proceedings of the twelfth SIGCSE ...   \n",
       "6   SIGCSE '82: Proceedings of the thirteenth SIGC...   \n",
       "7    ACM SIGCSE Bulletin (SIGCSE), Volume 13, Issue 3   \n",
       "8   ACM Transactions on Computing for Healthcare (...   \n",
       "9   ACM DEV '16: Proceedings of the 7th Annual Sym...   \n",
       "10  Proceedings of the ACM on Human-Computer Inter...   \n",
       "11  OzCHI '14: Proceedings of the 26th Australian ...   \n",
       "12  MC '07: Proceedings of the 2007 ACM/IFIP/USENI...   \n",
       "13  MEDES '14: Proceedings of the 6th Internationa...   \n",
       "14  ICEGOV '18: Proceedings of the 11th Internatio...   \n",
       "15  HealthNet '08: Proceedings of the 2nd Internat...   \n",
       "16  ACM Transactions on Accessible Computing (TACC...   \n",
       "17  Communications of the ACM (CACM), Volume 44, I...   \n",
       "18  ICIS '99: Proceedings of the 20th internationa...   \n",
       "19  UMAP '21: Proceedings of the 29th ACM Conferen...   \n",
       "20  PervasiveHealth '15: Proceedings of the 9th In...   \n",
       "21  SIGCSE '79: Proceedings of the tenth SIGCSE te...   \n",
       "22  EuroITV '10: Proceedings of the 8th European C...   \n",
       "23  W4A '19: Proceedings of the 16th International...   \n",
       "24  ICEEG 2021: 2021 The 5th International Confere...   \n",
       "25  WWW '20: Companion Proceedings of the Web Conf...   \n",
       "26  SAICSIT '11: Proceedings of the South African ...   \n",
       "27  ICIS '97: Proceedings of the eighteenth intern...   \n",
       "28  ECCE 2017: Proceedings of the European Confere...   \n",
       "29  SEiA '19: Proceedings of the 2nd Symposium on ...   \n",
       "30  ICFNDS 2021: The 5th International Conference ...   \n",
       "31  SIGDOC '21: The 39th ACM International Confere...   \n",
       "32  CHI EA '20: Extended Abstracts of the 2020 CHI...   \n",
       "33  CASCON '19: Proceedings of the 29th Annual Int...   \n",
       "34  SPBPU IDE '19: Proceedings of the 2019 Interna...   \n",
       "35  ICEGOV 2020: Proceedings of the 13th Internati...   \n",
       "36  ISWC '19: Proceedings of the 23rd Internationa...   \n",
       "37  OzCHI '13: Proceedings of the 25th Australian ...   \n",
       "38  SIGSIM-PADS '21: Proceedings of the 2021 ACM S...   \n",
       "39  SPBPU IDE '20: Proceedings of the 2nd Internat...   \n",
       "40  XRDS: Crossroads, The ACM Magazine for Student...   \n",
       "41  JCDL '12: Proceedings of the 12th ACM/IEEE-CS ...   \n",
       "42  CSCW '20 Companion: Conference Companion Publi...   \n",
       "43  ICDTE 2019: Proceedings of the 2019 The 3rd In...   \n",
       "44  ICDTE 2019: Proceedings of the 2019 The 3rd In...   \n",
       "45  EBEE 2021: 2021 3rd International Conference o...   \n",
       "46  DPH2019: Proceedings of the 9th International ...   \n",
       "47  ICBBE '18: Proceedings of the 2018 5th Interna...   \n",
       "48     ACM SIGMOD Record (SIGMOD), Volume 43, Issue 1   \n",
       "49  CHI '16: Proceedings of the 2016 CHI Conferenc...   \n",
       "\n",
       "                                        Abstract List  \n",
       "0   Digital phenotyping is a novel approach to ref...  \n",
       "1   The 'Digital gap' is a very common terminology...  \n",
       "2   The aim of this study is to design a model of ...  \n",
       "3   In developing countries, the importance of dig...  \n",
       "4   Almost all of the nations of Latin America are...  \n",
       "5   This paper is a result of research conducted i...  \n",
       "6   This panel focuses on how computer knowledge c...  \n",
       "7                                                      \n",
       "8   The objective of this study was to understand ...  \n",
       "9   Users of information and communication technol...  \n",
       "10  Digital tools can support individuals managing...  \n",
       "11  In Human-Computer Interaction (HCI), the usabi...  \n",
       "12  In this paper, we describe the main barriers f...  \n",
       "13  Healthcare applications depend on voluminous d...  \n",
       "14  This paper is aimed at making recommendations ...  \n",
       "15  People in developing countries often do not ha...  \n",
       "16  Basic arithmetic operations are essential skil...  \n",
       "17                                                     \n",
       "18  Personalisation is key to creating successful ...  \n",
       "19                                                     \n",
       "20  In this work we show that haptic feedback in u...  \n",
       "21                                                     \n",
       "22  The main goal of this workshop is to bring tog...  \n",
       "23  My research examines new ways of supporting pe...  \n",
       "24  The study focuses on the evaluation the relati...  \n",
       "25  We describe a digital platform developed in co...  \n",
       "26                                                     \n",
       "27  Among reasons inhibiting information flow from...  \n",
       "28  The focus of this ECCE 2017 panel is on digita...  \n",
       "29  User-centered design (UCD) is a well-establish...  \n",
       "30  The goal of this study is to explore the relat...  \n",
       "31  Mental health messaging on social media can in...  \n",
       "32  Social media addiction concerns have increased...  \n",
       "33  Given the speed of the changing landscape and ...  \n",
       "34  Continuous and effective monitoring of chronic...  \n",
       "35  Current public administration trends have rais...  \n",
       "36  This paper presents an efficient multiplier-le...  \n",
       "37  Using Social Network Sites (SNS) as an informa...  \n",
       "38  Healthcare is the largest industry in the Unit...  \n",
       "39  E-government emphasizes new values of governan...  \n",
       "40  The introduction of information and communicat...  \n",
       "41  Diverse digital resources are commonly used by...  \n",
       "42  A stress check for early detection and caring ...  \n",
       "43  As technology is rapidly evolving, we are face...  \n",
       "44  The purpose of this research is to develop Ima...  \n",
       "45  This paper examines the factors that drive a c...  \n",
       "46  The panel will address the potential benefits ...  \n",
       "47  According to many studies, IT should become a ...  \n",
       "48  Fast Healthcare Interoperability Resources (FH...  \n",
       "49  This paper describes the challenges and lesson...  "
      ]
     },
     "execution_count": 149,
     "metadata": {},
     "output_type": "execute_result"
    }
   ],
   "source": [
    "df"
   ]
  },
  {
   "cell_type": "code",
   "execution_count": 150,
   "metadata": {},
   "outputs": [
    {
     "data": {
      "text/plain": [
       "50"
      ]
     },
     "execution_count": 150,
     "metadata": {},
     "output_type": "execute_result"
    }
   ],
   "source": [
    "len(df)"
   ]
  },
  {
   "cell_type": "code",
   "execution_count": null,
   "metadata": {},
   "outputs": [],
   "source": []
  },
  {
   "cell_type": "code",
   "execution_count": null,
   "metadata": {},
   "outputs": [],
   "source": []
  },
  {
   "cell_type": "code",
   "execution_count": null,
   "metadata": {},
   "outputs": [],
   "source": []
  },
  {
   "cell_type": "code",
   "execution_count": null,
   "metadata": {},
   "outputs": [],
   "source": []
  },
  {
   "cell_type": "code",
   "execution_count": 251,
   "metadata": {},
   "outputs": [],
   "source": [
    "from selenium import webdriver\n",
    "import time \n",
    "import random\n",
    "\n",
    "def get_page(url):\n",
    "    return driver.get(url)\n",
    "\n",
    "def remove_values_from_list(the_list, val):\n",
    "       return [value for value in the_list if value != val]\n",
    "\n",
    "option = webdriver.ChromeOptions()\n",
    "\n",
    "\n",
    "#Removes navigator.webdriver flag\n",
    "\n",
    "# For older ChromeDriver under version 79.0.3945.16\n",
    "option.add_experimental_option(\"excludeSwitches\", [\"enable-automation\"])\n",
    "option.add_experimental_option('useAutomationExtension', False)\n",
    "\n",
    "#For ChromeDriver version 79.0.3945.16 or over\n",
    "option.add_argument('--disable-blink-features=AutomationControlled')\n",
    "\n",
    "\n",
    "option.add_argument(\"window-size=1280,800\")\n",
    "option.add_argument(\"user-agent=Mozilla/5.0 (Windows NT 10.0; Win64; x64) AppleWebKit/537.36 (KHTML, like Gecko) Chrome/74.0.3729.169 Safari/537.36\")\n",
    "\n",
    "\n",
    "\n",
    "driver = webdriver.Chrome(executable_path='/home/scarlet/Projects/WebDrivers/Chromedriver/chromedriver', options=option)\n",
    "\n",
    "\n",
    "url = 'https://dl.acm.org/action/doSearch?fillQuickSearch=false&target=advanced&ContentItemType=research-article&expand=all&AfterMonth=1&AfterYear=2017&BeforeMonth=12&BeforeYear=2022&AllField=%22digital%22+OR+%22mobile%22+AND+%22third+world%22+OR+%22less+economically%22+AND+%22countries%22+AND+%22mental+illness%22+OR+%22mental+healthcare%22&pageSize=50&startPage=0&sortBy=Ppub_desc'\n",
    "\n",
    "url = 'https://dl.acm.org/action/doSearch?AllField=digital+mental+healthcare&pageSize=50&startPage=&rel=nofollow&ContentItemType=research-article'\n",
    "\n",
    "url = 'https://ieeexplore.ieee.org/search/searchresult.jsp?newsearch=true&queryText=digital%20mental%20healthcare'\n",
    "\n",
    "get_page(url)\n",
    "\n",
    "sleep_time = 20\n",
    "time.sleep(sleep_time)"
   ]
  },
  {
   "cell_type": "code",
   "execution_count": 182,
   "metadata": {},
   "outputs": [],
   "source": [
    "time.sleep(sleep_time)"
   ]
  },
  {
   "cell_type": "code",
   "execution_count": 246,
   "metadata": {},
   "outputs": [],
   "source": [
    "title_list = []\n",
    "published_date_list = []\n",
    "publication_type = []\n",
    "authors_list = []\n",
    "published_in = []\n",
    "abstract_list = []\n",
    "citation_list = []\n",
    "\n",
    "tmp_title_list = driver.find_elements_by_class_name('hlFld-Title')\n",
    "\n",
    "for i in range(len(tmp_title_list)):\n",
    "    tmp_title_list[i] = tmp_title_list[i].text\n",
    "\n",
    "\n",
    "\n",
    "tmp_published_date_list = driver.find_elements_by_class_name('bookPubDate')\n",
    "\n",
    "for i in range(len(tmp_published_date_list)):\n",
    "    tmp_published_date_list[i] = tmp_published_date_list[i].text\n",
    "\n",
    "\n",
    "tmp_publication_type =  driver.find_elements_by_class_name('issue-heading')\n",
    "\n",
    "for i in range(len(tmp_publication_type)):\n",
    "        tmp_publication_type[i] = tmp_publication_type[i].text\n",
    "        \n",
    "\n",
    "tmp_authors_list = driver.find_elements_by_css_selector('ul[aria-label=\"authors\"]')\n",
    "\n",
    "for i in range(len(tmp_authors_list)):\n",
    "    tmp_authors_list[i] = tmp_authors_list[i].text\n",
    "\n",
    "\n",
    "\n",
    "tmp_published_in =  driver.find_elements_by_class_name('epub-section__title')\n",
    "\n",
    "for i in range(len(tmp_published_in)):\n",
    "    tmp_published_in[i] = tmp_published_in[i].text\n",
    "\n",
    "\n",
    "\n",
    "tmp_abstract_list =  driver.find_elements_by_class_name('issue-item__abstract')\n",
    "\n",
    "for i in range(len(tmp_abstract_list)):\n",
    "    tmp_abstract_list[i] = tmp_abstract_list[i].text\n",
    "\n",
    "\n",
    "\n",
    "\n",
    "tmp_citation_list =  driver.find_elements_by_class_name('citation')\n",
    "\n",
    "for i in range(len(tmp_citation_list)):\n",
    "        tmp_citation_list[i] = tmp_citation_list[i].text\n",
    "\n",
    "\n",
    "tmp_citation_list = remove_values_from_list(citation_list, '')\n",
    "\n",
    "driver.find_element_by_class_name('issue-heading').text\n",
    "\n",
    "\n",
    "title_list = title_list + tmp_title_list \n",
    "published_date_list = published_date_list + tmp_published_date_list\n",
    "publication_type = publication_type + tmp_publication_type\n",
    "authors_list = authors_list + tmp_authors_list\n",
    "published_in = published_in + tmp_published_in\n",
    "abstract_list = abstract_list + tmp_abstract_list\n",
    "citation_list = citation_list + tmp_citation_list"
   ]
  },
  {
   "cell_type": "code",
   "execution_count": 202,
   "metadata": {},
   "outputs": [
    {
     "data": {
      "text/plain": [
       "50"
      ]
     },
     "execution_count": 202,
     "metadata": {},
     "output_type": "execute_result"
    }
   ],
   "source": [
    "len(title_list)"
   ]
  },
  {
   "cell_type": "code",
   "execution_count": null,
   "metadata": {},
   "outputs": [],
   "source": [
    "time.sleep(sleep_time)"
   ]
  },
  {
   "cell_type": "code",
   "execution_count": 247,
   "metadata": {},
   "outputs": [
    {
     "name": "stdout",
     "output_type": "stream",
     "text": [
      "Next button not found\n"
     ]
    },
    {
     "ename": "StaleElementReferenceException",
     "evalue": "Message: stale element reference: element is not attached to the page document\n  (Session info: chrome=84.0.4147.89)\n",
     "output_type": "error",
     "traceback": [
      "\u001b[0;31m---------------------------------------------------------------------------\u001b[0m",
      "\u001b[0;31mStaleElementReferenceException\u001b[0m            Traceback (most recent call last)",
      "\u001b[0;32m<ipython-input-247-f76c585ac214>\u001b[0m in \u001b[0;36m<module>\u001b[0;34m\u001b[0m\n\u001b[1;32m      8\u001b[0m         \u001b[0mprint\u001b[0m\u001b[0;34m(\u001b[0m\u001b[0;34m'Next button not found'\u001b[0m\u001b[0;34m)\u001b[0m\u001b[0;34m\u001b[0m\u001b[0;34m\u001b[0m\u001b[0m\n\u001b[1;32m      9\u001b[0m \u001b[0;34m\u001b[0m\u001b[0m\n\u001b[0;32m---> 10\u001b[0;31m     \u001b[0mnext_button\u001b[0m\u001b[0;34m.\u001b[0m\u001b[0mclick\u001b[0m\u001b[0;34m(\u001b[0m\u001b[0;34m)\u001b[0m\u001b[0;34m\u001b[0m\u001b[0;34m\u001b[0m\u001b[0m\n\u001b[0m\u001b[1;32m     11\u001b[0m     \u001b[0mtime\u001b[0m\u001b[0;34m.\u001b[0m\u001b[0msleep\u001b[0m\u001b[0;34m(\u001b[0m\u001b[0msleep_time\u001b[0m\u001b[0;34m)\u001b[0m\u001b[0;34m\u001b[0m\u001b[0;34m\u001b[0m\u001b[0m\n\u001b[1;32m     12\u001b[0m \u001b[0;34m\u001b[0m\u001b[0m\n",
      "\u001b[0;32m~/.pyenv/versions/3.8.5/envs/WebAutomationEnv/lib/python3.8/site-packages/selenium/webdriver/remote/webelement.py\u001b[0m in \u001b[0;36mclick\u001b[0;34m(self)\u001b[0m\n\u001b[1;32m     78\u001b[0m     \u001b[0;32mdef\u001b[0m \u001b[0mclick\u001b[0m\u001b[0;34m(\u001b[0m\u001b[0mself\u001b[0m\u001b[0;34m)\u001b[0m\u001b[0;34m:\u001b[0m\u001b[0;34m\u001b[0m\u001b[0;34m\u001b[0m\u001b[0m\n\u001b[1;32m     79\u001b[0m         \u001b[0;34m\"\"\"Clicks the element.\"\"\"\u001b[0m\u001b[0;34m\u001b[0m\u001b[0;34m\u001b[0m\u001b[0m\n\u001b[0;32m---> 80\u001b[0;31m         \u001b[0mself\u001b[0m\u001b[0;34m.\u001b[0m\u001b[0m_execute\u001b[0m\u001b[0;34m(\u001b[0m\u001b[0mCommand\u001b[0m\u001b[0;34m.\u001b[0m\u001b[0mCLICK_ELEMENT\u001b[0m\u001b[0;34m)\u001b[0m\u001b[0;34m\u001b[0m\u001b[0;34m\u001b[0m\u001b[0m\n\u001b[0m\u001b[1;32m     81\u001b[0m \u001b[0;34m\u001b[0m\u001b[0m\n\u001b[1;32m     82\u001b[0m     \u001b[0;32mdef\u001b[0m \u001b[0msubmit\u001b[0m\u001b[0;34m(\u001b[0m\u001b[0mself\u001b[0m\u001b[0;34m)\u001b[0m\u001b[0;34m:\u001b[0m\u001b[0;34m\u001b[0m\u001b[0;34m\u001b[0m\u001b[0m\n",
      "\u001b[0;32m~/.pyenv/versions/3.8.5/envs/WebAutomationEnv/lib/python3.8/site-packages/selenium/webdriver/remote/webelement.py\u001b[0m in \u001b[0;36m_execute\u001b[0;34m(self, command, params)\u001b[0m\n\u001b[1;32m    631\u001b[0m             \u001b[0mparams\u001b[0m \u001b[0;34m=\u001b[0m \u001b[0;34m{\u001b[0m\u001b[0;34m}\u001b[0m\u001b[0;34m\u001b[0m\u001b[0;34m\u001b[0m\u001b[0m\n\u001b[1;32m    632\u001b[0m         \u001b[0mparams\u001b[0m\u001b[0;34m[\u001b[0m\u001b[0;34m'id'\u001b[0m\u001b[0;34m]\u001b[0m \u001b[0;34m=\u001b[0m \u001b[0mself\u001b[0m\u001b[0;34m.\u001b[0m\u001b[0m_id\u001b[0m\u001b[0;34m\u001b[0m\u001b[0;34m\u001b[0m\u001b[0m\n\u001b[0;32m--> 633\u001b[0;31m         \u001b[0;32mreturn\u001b[0m \u001b[0mself\u001b[0m\u001b[0;34m.\u001b[0m\u001b[0m_parent\u001b[0m\u001b[0;34m.\u001b[0m\u001b[0mexecute\u001b[0m\u001b[0;34m(\u001b[0m\u001b[0mcommand\u001b[0m\u001b[0;34m,\u001b[0m \u001b[0mparams\u001b[0m\u001b[0;34m)\u001b[0m\u001b[0;34m\u001b[0m\u001b[0;34m\u001b[0m\u001b[0m\n\u001b[0m\u001b[1;32m    634\u001b[0m \u001b[0;34m\u001b[0m\u001b[0m\n\u001b[1;32m    635\u001b[0m     \u001b[0;32mdef\u001b[0m \u001b[0mfind_element\u001b[0m\u001b[0;34m(\u001b[0m\u001b[0mself\u001b[0m\u001b[0;34m,\u001b[0m \u001b[0mby\u001b[0m\u001b[0;34m=\u001b[0m\u001b[0mBy\u001b[0m\u001b[0;34m.\u001b[0m\u001b[0mID\u001b[0m\u001b[0;34m,\u001b[0m \u001b[0mvalue\u001b[0m\u001b[0;34m=\u001b[0m\u001b[0;32mNone\u001b[0m\u001b[0;34m)\u001b[0m\u001b[0;34m:\u001b[0m\u001b[0;34m\u001b[0m\u001b[0;34m\u001b[0m\u001b[0m\n",
      "\u001b[0;32m~/.pyenv/versions/3.8.5/envs/WebAutomationEnv/lib/python3.8/site-packages/selenium/webdriver/remote/webdriver.py\u001b[0m in \u001b[0;36mexecute\u001b[0;34m(self, driver_command, params)\u001b[0m\n\u001b[1;32m    319\u001b[0m         \u001b[0mresponse\u001b[0m \u001b[0;34m=\u001b[0m \u001b[0mself\u001b[0m\u001b[0;34m.\u001b[0m\u001b[0mcommand_executor\u001b[0m\u001b[0;34m.\u001b[0m\u001b[0mexecute\u001b[0m\u001b[0;34m(\u001b[0m\u001b[0mdriver_command\u001b[0m\u001b[0;34m,\u001b[0m \u001b[0mparams\u001b[0m\u001b[0;34m)\u001b[0m\u001b[0;34m\u001b[0m\u001b[0;34m\u001b[0m\u001b[0m\n\u001b[1;32m    320\u001b[0m         \u001b[0;32mif\u001b[0m \u001b[0mresponse\u001b[0m\u001b[0;34m:\u001b[0m\u001b[0;34m\u001b[0m\u001b[0;34m\u001b[0m\u001b[0m\n\u001b[0;32m--> 321\u001b[0;31m             \u001b[0mself\u001b[0m\u001b[0;34m.\u001b[0m\u001b[0merror_handler\u001b[0m\u001b[0;34m.\u001b[0m\u001b[0mcheck_response\u001b[0m\u001b[0;34m(\u001b[0m\u001b[0mresponse\u001b[0m\u001b[0;34m)\u001b[0m\u001b[0;34m\u001b[0m\u001b[0;34m\u001b[0m\u001b[0m\n\u001b[0m\u001b[1;32m    322\u001b[0m             response['value'] = self._unwrap_value(\n\u001b[1;32m    323\u001b[0m                 response.get('value', None))\n",
      "\u001b[0;32m~/.pyenv/versions/3.8.5/envs/WebAutomationEnv/lib/python3.8/site-packages/selenium/webdriver/remote/errorhandler.py\u001b[0m in \u001b[0;36mcheck_response\u001b[0;34m(self, response)\u001b[0m\n\u001b[1;32m    240\u001b[0m                 \u001b[0malert_text\u001b[0m \u001b[0;34m=\u001b[0m \u001b[0mvalue\u001b[0m\u001b[0;34m[\u001b[0m\u001b[0;34m'alert'\u001b[0m\u001b[0;34m]\u001b[0m\u001b[0;34m.\u001b[0m\u001b[0mget\u001b[0m\u001b[0;34m(\u001b[0m\u001b[0;34m'text'\u001b[0m\u001b[0;34m)\u001b[0m\u001b[0;34m\u001b[0m\u001b[0;34m\u001b[0m\u001b[0m\n\u001b[1;32m    241\u001b[0m             \u001b[0;32mraise\u001b[0m \u001b[0mexception_class\u001b[0m\u001b[0;34m(\u001b[0m\u001b[0mmessage\u001b[0m\u001b[0;34m,\u001b[0m \u001b[0mscreen\u001b[0m\u001b[0;34m,\u001b[0m \u001b[0mstacktrace\u001b[0m\u001b[0;34m,\u001b[0m \u001b[0malert_text\u001b[0m\u001b[0;34m)\u001b[0m\u001b[0;34m\u001b[0m\u001b[0;34m\u001b[0m\u001b[0m\n\u001b[0;32m--> 242\u001b[0;31m         \u001b[0;32mraise\u001b[0m \u001b[0mexception_class\u001b[0m\u001b[0;34m(\u001b[0m\u001b[0mmessage\u001b[0m\u001b[0;34m,\u001b[0m \u001b[0mscreen\u001b[0m\u001b[0;34m,\u001b[0m \u001b[0mstacktrace\u001b[0m\u001b[0;34m)\u001b[0m\u001b[0;34m\u001b[0m\u001b[0;34m\u001b[0m\u001b[0m\n\u001b[0m\u001b[1;32m    243\u001b[0m \u001b[0;34m\u001b[0m\u001b[0m\n\u001b[1;32m    244\u001b[0m     \u001b[0;32mdef\u001b[0m \u001b[0m_value_or_default\u001b[0m\u001b[0;34m(\u001b[0m\u001b[0mself\u001b[0m\u001b[0;34m,\u001b[0m \u001b[0mobj\u001b[0m\u001b[0;34m,\u001b[0m \u001b[0mkey\u001b[0m\u001b[0;34m,\u001b[0m \u001b[0mdefault\u001b[0m\u001b[0;34m)\u001b[0m\u001b[0;34m:\u001b[0m\u001b[0;34m\u001b[0m\u001b[0;34m\u001b[0m\u001b[0m\n",
      "\u001b[0;31mStaleElementReferenceException\u001b[0m: Message: stale element reference: element is not attached to the page document\n  (Session info: chrome=84.0.4147.89)\n"
     ]
    }
   ],
   "source": [
    "from selenium.common.exceptions import NoSuchElementException\n",
    "\n",
    "cnt = 0\n",
    "while cnt != 5732:\n",
    "    try:\n",
    "        next_button =  driver.find_element_by_class_name('pagination__btn--next')\n",
    "    except NoSuchElementException:\n",
    "        print('Next button not found')\n",
    "    \n",
    "    next_button.click()\n",
    "    time.sleep(sleep_time)\n",
    "    \n",
    "    cnt = cnt + 1\n",
    "    \n",
    "    \n",
    "    tmp_title_list = driver.find_elements_by_class_name('hlFld-Title')\n",
    "\n",
    "    for i in range(len(tmp_title_list)):\n",
    "        tmp_title_list[i] = tmp_title_list[i].text\n",
    "\n",
    "\n",
    "\n",
    "    tmp_published_date_list = driver.find_elements_by_class_name('bookPubDate')\n",
    "\n",
    "    for i in range(len(tmp_published_date_list)):\n",
    "        tmp_published_date_list[i] = tmp_published_date_list[i].text\n",
    "        \n",
    "        \n",
    "    tmp_publication_type =  driver.find_elements_by_class_name('issue-heading')\n",
    "\n",
    "    for i in range(len(tmp_publication_type)):\n",
    "            tmp_publication_type[i] = tmp_publication_type[i].text\n",
    "\n",
    "\n",
    "\n",
    "    tmp_authors_list = driver.find_elements_by_css_selector('ul[aria-label=\"authors\"]')\n",
    "\n",
    "    for i in range(len(tmp_authors_list)):\n",
    "        tmp_authors_list[i] = tmp_authors_list[i].text\n",
    "\n",
    "\n",
    "\n",
    "    tmp_published_in =  driver.find_elements_by_class_name('epub-section__title')\n",
    "\n",
    "    for i in range(len(tmp_published_in)):\n",
    "        tmp_published_in[i] = tmp_published_in[i].text\n",
    "\n",
    "\n",
    "\n",
    "    tmp_abstract_list =  driver.find_elements_by_class_name('issue-item__abstract')\n",
    "\n",
    "    for i in range(len(tmp_abstract_list)):\n",
    "        tmp_abstract_list[i] = tmp_abstract_list[i].text\n",
    "\n",
    "\n",
    "\n",
    "\n",
    "    tmp_citation_list =  driver.find_elements_by_class_name('citation')\n",
    "\n",
    "    for i in range(len(tmp_citation_list)):\n",
    "            tmp_citation_list[i] = tmp_citation_list[i].text\n",
    "\n",
    "\n",
    "    tmp_citation_list = remove_values_from_list(citation_list, '')\n",
    "\n",
    "\n",
    "    title_list = title_list + tmp_title_list \n",
    "    published_date_list = published_date_list + tmp_published_date_list\n",
    "    publication_type = publication_type + tmp_publication_type\n",
    "    authors_list = authors_list + tmp_authors_list\n",
    "    published_in = published_in + tmp_published_in\n",
    "    abstract_list = abstract_list + tmp_abstract_list\n",
    "    citation_list = citation_list + tmp_citation_list\n"
   ]
  },
  {
   "cell_type": "code",
   "execution_count": 250,
   "metadata": {},
   "outputs": [],
   "source": [
    "# dictionary of lists  \n",
    "tmp = {'Title': title_list, 'Published Date': published_date_list, \n",
    "#         'Citations': citation_list,\n",
    "       'Publication Type':publication_type,\n",
    "        'Authors List':authors_list, 'Published In':published_in, 'Abstract List':abstract_list\n",
    "       }  \n",
    "       \n",
    "df = pd.DataFrame(tmp) \n",
    "    \n",
    "# saving the dataframe \n",
    "df.to_csv('ACM 2.csv') "
   ]
  },
  {
   "cell_type": "code",
   "execution_count": 227,
   "metadata": {},
   "outputs": [
    {
     "data": {
      "text/plain": [
       "0"
      ]
     },
     "execution_count": 227,
     "metadata": {},
     "output_type": "execute_result"
    }
   ],
   "source": [
    "len(df)"
   ]
  },
  {
   "cell_type": "code",
   "execution_count": 238,
   "metadata": {},
   "outputs": [
    {
     "data": {
      "text/plain": [
       "0"
      ]
     },
     "execution_count": 238,
     "metadata": {},
     "output_type": "execute_result"
    }
   ],
   "source": [
    "len(citation_list)"
   ]
  },
  {
   "cell_type": "code",
   "execution_count": 248,
   "metadata": {},
   "outputs": [],
   "source": [
    "    title_list = title_list + tmp_title_list \n",
    "    published_date_list = published_date_list + tmp_published_date_list\n",
    "    publication_type = publication_type + tmp_publication_type\n",
    "    authors_list = authors_list + tmp_authors_list\n",
    "    published_in = published_in + tmp_published_in\n",
    "    abstract_list = abstract_list + tmp_abstract_list\n",
    "    citation_list = citation_list + tmp_citation_list"
   ]
  },
  {
   "cell_type": "code",
   "execution_count": 249,
   "metadata": {},
   "outputs": [
    {
     "data": {
      "text/html": [
       "<div>\n",
       "<style scoped>\n",
       "    .dataframe tbody tr th:only-of-type {\n",
       "        vertical-align: middle;\n",
       "    }\n",
       "\n",
       "    .dataframe tbody tr th {\n",
       "        vertical-align: top;\n",
       "    }\n",
       "\n",
       "    .dataframe thead th {\n",
       "        text-align: right;\n",
       "    }\n",
       "</style>\n",
       "<table border=\"1\" class=\"dataframe\">\n",
       "  <thead>\n",
       "    <tr style=\"text-align: right;\">\n",
       "      <th></th>\n",
       "      <th>Title</th>\n",
       "      <th>Published Date</th>\n",
       "      <th>Publication Type</th>\n",
       "      <th>Authors List</th>\n",
       "      <th>Published In</th>\n",
       "      <th>Abstract List</th>\n",
       "    </tr>\n",
       "  </thead>\n",
       "  <tbody>\n",
       "    <tr>\n",
       "      <th>0</th>\n",
       "      <td>An approach for detecting LDoS attack based on...</td>\n",
       "      <td>December 2022</td>\n",
       "      <td>RESEARCH-ARTICLE</td>\n",
       "      <td>Wei Shi,Dan Tang,Sijia Zhan,Zheng Qin,Xiyin Wang</td>\n",
       "      <td>Frontiers of Computer Science: Selected Public...</td>\n",
       "      <td>Abstract\\nCybersecurity has always been the fo...</td>\n",
       "    </tr>\n",
       "    <tr>\n",
       "      <th>1</th>\n",
       "      <td>On the hardness of NTRU problems</td>\n",
       "      <td>December 2022</td>\n",
       "      <td>RESEARCH-ARTICLE</td>\n",
       "      <td>Yang Wang,Mingqiang Wang</td>\n",
       "      <td>Frontiers of Computer Science: Selected Public...</td>\n",
       "      <td>Abstract\\nThe hardness of NTRU problem affects...</td>\n",
       "    </tr>\n",
       "    <tr>\n",
       "      <th>2</th>\n",
       "      <td>Verifiable searchable symmetric encryption for...</td>\n",
       "      <td>December 2022</td>\n",
       "      <td>RESEARCH-ARTICLE</td>\n",
       "      <td>Qingqing Gan,Joseph K. Liu,Xiaoming Wang,Xingl...</td>\n",
       "      <td>Frontiers of Computer Science: Selected Public...</td>\n",
       "      <td>Abstract\\nSearchable symmetric encryption (SSE...</td>\n",
       "    </tr>\n",
       "    <tr>\n",
       "      <th>3</th>\n",
       "      <td>How to certify machine learning based safety-c...</td>\n",
       "      <td>November 2022</td>\n",
       "      <td>RESEARCH-ARTICLE</td>\n",
       "      <td>Florian Tambon,Gabriel Laberge,Le An,Amin Nika...</td>\n",
       "      <td>Automated Software Engineering (KLU-AUSE), Vol...</td>\n",
       "      <td>AbstractContext\\nMachine Learning (ML) has bee...</td>\n",
       "    </tr>\n",
       "    <tr>\n",
       "      <th>4</th>\n",
       "      <td>(Full) Leakage resilience of Fiat-Shamir signa...</td>\n",
       "      <td>October 2022</td>\n",
       "      <td>RESEARCH-ARTICLE</td>\n",
       "      <td>Yuejun Liu,Yongbin Zhou,Rui Zhang,Yang Tao</td>\n",
       "      <td>Frontiers of Computer Science: Selected Public...</td>\n",
       "      <td>Abstract\\nFiat-Shamir is a mainstream construc...</td>\n",
       "    </tr>\n",
       "    <tr>\n",
       "      <th>...</th>\n",
       "      <td>...</td>\n",
       "      <td>...</td>\n",
       "      <td>...</td>\n",
       "      <td>...</td>\n",
       "      <td>...</td>\n",
       "      <td>...</td>\n",
       "    </tr>\n",
       "    <tr>\n",
       "      <th>1995</th>\n",
       "      <td>Anomaly Detection in Player Performances in Mu...</td>\n",
       "      <td>February 2022</td>\n",
       "      <td>RESEARCH-ARTICLE</td>\n",
       "      <td>Xin Qian,Rafet Sifa,Xuefei Liu,Shreyashi Gangu...</td>\n",
       "      <td>ACSW 2022: Australasian Computer Science Week ...</td>\n",
       "      <td>Esports are digital video games that are playe...</td>\n",
       "    </tr>\n",
       "    <tr>\n",
       "      <th>1996</th>\n",
       "      <td>Towards Higher-Level Abstractions for Quantum ...</td>\n",
       "      <td>February 2022</td>\n",
       "      <td>RESEARCH-ARTICLE</td>\n",
       "      <td>Adrian Cobb,Jean-Guy Schneider,Kevin Lee</td>\n",
       "      <td>ACSW 2022: Australasian Computer Science Week ...</td>\n",
       "      <td>Quantum Computing (QC) has emerged as a field ...</td>\n",
       "    </tr>\n",
       "    <tr>\n",
       "      <th>1997</th>\n",
       "      <td>Android malware detection through generative a...</td>\n",
       "      <td>February 2022</td>\n",
       "      <td>RESEARCH-ARTICLE</td>\n",
       "      <td>Muhammad Amin,Babar Shah,Aizaz Sharif,Tamleek ...</td>\n",
       "      <td>Transactions on Emerging Telecommunications Te...</td>\n",
       "      <td>Abstract\\nMobile and cell devices have empower...</td>\n",
       "    </tr>\n",
       "    <tr>\n",
       "      <th>1998</th>\n",
       "      <td>Designing and implementation of energy‐efficie...</td>\n",
       "      <td>February 2022</td>\n",
       "      <td>RESEARCH-ARTICLE</td>\n",
       "      <td>Mahmood Khan,Javed Iqbal,Muhammad Ali,Afaq Muh...</td>\n",
       "      <td>Transactions on Emerging Telecommunications Te...</td>\n",
       "      <td>Abstract\\nPhotovoltaic (PV) cell usually shows...</td>\n",
       "    </tr>\n",
       "    <tr>\n",
       "      <th>1999</th>\n",
       "      <td>Teaching Code Quality in High School Programmi...</td>\n",
       "      <td>February 2022</td>\n",
       "      <td>RESEARCH-ARTICLE</td>\n",
       "      <td>Diana Kirk,Tyne Crow,Andrew Luxton-Reilly,Ewan...</td>\n",
       "      <td>ACE '22: Australasian Computing Education Conf...</td>\n",
       "      <td>The introduction of computer programming into ...</td>\n",
       "    </tr>\n",
       "  </tbody>\n",
       "</table>\n",
       "<p>2000 rows × 6 columns</p>\n",
       "</div>"
      ],
      "text/plain": [
       "                                                  Title Published Date  \\\n",
       "0     An approach for detecting LDoS attack based on...  December 2022   \n",
       "1                      On the hardness of NTRU problems  December 2022   \n",
       "2     Verifiable searchable symmetric encryption for...  December 2022   \n",
       "3     How to certify machine learning based safety-c...  November 2022   \n",
       "4     (Full) Leakage resilience of Fiat-Shamir signa...   October 2022   \n",
       "...                                                 ...            ...   \n",
       "1995  Anomaly Detection in Player Performances in Mu...  February 2022   \n",
       "1996  Towards Higher-Level Abstractions for Quantum ...  February 2022   \n",
       "1997  Android malware detection through generative a...  February 2022   \n",
       "1998  Designing and implementation of energy‐efficie...  February 2022   \n",
       "1999  Teaching Code Quality in High School Programmi...  February 2022   \n",
       "\n",
       "      Publication Type                                       Authors List  \\\n",
       "0     RESEARCH-ARTICLE   Wei Shi,Dan Tang,Sijia Zhan,Zheng Qin,Xiyin Wang   \n",
       "1     RESEARCH-ARTICLE                           Yang Wang,Mingqiang Wang   \n",
       "2     RESEARCH-ARTICLE  Qingqing Gan,Joseph K. Liu,Xiaoming Wang,Xingl...   \n",
       "3     RESEARCH-ARTICLE  Florian Tambon,Gabriel Laberge,Le An,Amin Nika...   \n",
       "4     RESEARCH-ARTICLE         Yuejun Liu,Yongbin Zhou,Rui Zhang,Yang Tao   \n",
       "...                ...                                                ...   \n",
       "1995  RESEARCH-ARTICLE  Xin Qian,Rafet Sifa,Xuefei Liu,Shreyashi Gangu...   \n",
       "1996  RESEARCH-ARTICLE           Adrian Cobb,Jean-Guy Schneider,Kevin Lee   \n",
       "1997  RESEARCH-ARTICLE  Muhammad Amin,Babar Shah,Aizaz Sharif,Tamleek ...   \n",
       "1998  RESEARCH-ARTICLE  Mahmood Khan,Javed Iqbal,Muhammad Ali,Afaq Muh...   \n",
       "1999  RESEARCH-ARTICLE  Diana Kirk,Tyne Crow,Andrew Luxton-Reilly,Ewan...   \n",
       "\n",
       "                                           Published In  \\\n",
       "0     Frontiers of Computer Science: Selected Public...   \n",
       "1     Frontiers of Computer Science: Selected Public...   \n",
       "2     Frontiers of Computer Science: Selected Public...   \n",
       "3     Automated Software Engineering (KLU-AUSE), Vol...   \n",
       "4     Frontiers of Computer Science: Selected Public...   \n",
       "...                                                 ...   \n",
       "1995  ACSW 2022: Australasian Computer Science Week ...   \n",
       "1996  ACSW 2022: Australasian Computer Science Week ...   \n",
       "1997  Transactions on Emerging Telecommunications Te...   \n",
       "1998  Transactions on Emerging Telecommunications Te...   \n",
       "1999  ACE '22: Australasian Computing Education Conf...   \n",
       "\n",
       "                                          Abstract List  \n",
       "0     Abstract\\nCybersecurity has always been the fo...  \n",
       "1     Abstract\\nThe hardness of NTRU problem affects...  \n",
       "2     Abstract\\nSearchable symmetric encryption (SSE...  \n",
       "3     AbstractContext\\nMachine Learning (ML) has bee...  \n",
       "4     Abstract\\nFiat-Shamir is a mainstream construc...  \n",
       "...                                                 ...  \n",
       "1995  Esports are digital video games that are playe...  \n",
       "1996  Quantum Computing (QC) has emerged as a field ...  \n",
       "1997  Abstract\\nMobile and cell devices have empower...  \n",
       "1998  Abstract\\nPhotovoltaic (PV) cell usually shows...  \n",
       "1999  The introduction of computer programming into ...  \n",
       "\n",
       "[2000 rows x 6 columns]"
      ]
     },
     "execution_count": 249,
     "metadata": {},
     "output_type": "execute_result"
    }
   ],
   "source": [
    "df"
   ]
  },
  {
   "cell_type": "code",
   "execution_count": null,
   "metadata": {},
   "outputs": [],
   "source": []
  },
  {
   "cell_type": "code",
   "execution_count": null,
   "metadata": {},
   "outputs": [],
   "source": []
  },
  {
   "cell_type": "code",
   "execution_count": null,
   "metadata": {},
   "outputs": [],
   "source": []
  },
  {
   "cell_type": "code",
   "execution_count": null,
   "metadata": {},
   "outputs": [],
   "source": []
  },
  {
   "cell_type": "code",
   "execution_count": null,
   "metadata": {},
   "outputs": [],
   "source": [
    "from selenium import webdriver\n",
    "import time \n",
    "import random\n",
    "\n",
    "def get_page(url):\n",
    "    return driver.get(url)\n",
    "\n",
    "def remove_values_from_list(the_list, val):\n",
    "       return [value for value in the_list if value != val]\n",
    "\n",
    "option = webdriver.ChromeOptions()\n",
    "\n",
    "\n",
    "#Removes navigator.webdriver flag\n",
    "\n",
    "# For older ChromeDriver under version 79.0.3945.16\n",
    "option.add_experimental_option(\"excludeSwitches\", [\"enable-automation\"])\n",
    "option.add_experimental_option('useAutomationExtension', False)\n",
    "\n",
    "#For ChromeDriver version 79.0.3945.16 or over\n",
    "option.add_argument('--disable-blink-features=AutomationControlled')\n",
    "\n",
    "\n",
    "option.add_argument(\"window-size=1280,800\")\n",
    "option.add_argument(\"user-agent=Mozilla/5.0 (Windows NT 10.0; Win64; x64) AppleWebKit/537.36 (KHTML, like Gecko) Chrome/74.0.3729.169 Safari/537.36\")\n",
    "\n",
    "\n",
    "\n",
    "driver = webdriver.Chrome(executable_path='/home/scarlet/Projects/WebDrivers/Chromedriver/chromedriver', options=option)\n",
    "\n",
    "\n",
    "url = 'https://dl.acm.org/action/doSearch?fillQuickSearch=false&target=advanced&ContentItemType=research-article&expand=all&AfterMonth=1&AfterYear=2017&BeforeMonth=12&BeforeYear=2022&AllField=%22digital%22+OR+%22mobile%22+AND+%22third+world%22+OR+%22less+economically%22+AND+%22countries%22+AND+%22mental+illness%22+OR+%22mental+healthcare%22&pageSize=50&startPage=0&sortBy=Ppub_desc'\n",
    "\n",
    "url = 'https://dl.acm.org/action/doSearch?AllField=digital+mental+healthcare&pageSize=50&startPage=&rel=nofollow&ContentItemType=research-article'\n",
    "\n",
    "url = 'https://ieeexplore.ieee.org/search/searchresult.jsp?newsearch=true&queryText=digital%20mental%20healthcare'\n",
    "\n",
    "get_page(url)\n",
    "\n",
    "sleep_time = 20\n",
    "time.sleep(sleep_time)\n",
    "time.sleep(sleep_time)"
   ]
  },
  {
   "cell_type": "code",
   "execution_count": null,
   "metadata": {},
   "outputs": [],
   "source": [
    "title_list = []\n",
    "published_date_list = []\n",
    "publication_type = []\n",
    "authors_list = []\n",
    "published_in = []\n",
    "abstract_list = []\n",
    "citation_list = []\n",
    "\n"
   ]
  },
  {
   "cell_type": "code",
   "execution_count": 254,
   "metadata": {},
   "outputs": [],
   "source": [
    "load_more = driver.find_elements_by_class_name('loadMore-container')[0]\n",
    "load_more.click()"
   ]
  },
  {
   "cell_type": "code",
   "execution_count": 258,
   "metadata": {},
   "outputs": [],
   "source": [
    "tmp_title_list = driver.find_elements_by_class_name('result-item-title')\n",
    "\n",
    "for i in range(len(tmp_title_list)):\n",
    "    tmp_title_list[i] = tmp_title_list[i].text"
   ]
  },
  {
   "cell_type": "code",
   "execution_count": 282,
   "metadata": {},
   "outputs": [
    {
     "data": {
      "text/plain": [
       "50"
      ]
     },
     "execution_count": 282,
     "metadata": {},
     "output_type": "execute_result"
    }
   ],
   "source": [
    "len(tmp_title_list)"
   ]
  },
  {
   "cell_type": "code",
   "execution_count": 274,
   "metadata": {},
   "outputs": [],
   "source": [
    "tmp = driver.find_elements_by_class_name('publisher-info-container')"
   ]
  },
  {
   "cell_type": "code",
   "execution_count": 275,
   "metadata": {},
   "outputs": [
    {
     "data": {
      "text/plain": [
       "200"
      ]
     },
     "execution_count": 275,
     "metadata": {},
     "output_type": "execute_result"
    }
   ],
   "source": [
    "len(tmp)"
   ]
  },
  {
   "cell_type": "code",
   "execution_count": 280,
   "metadata": {},
   "outputs": [],
   "source": [
    "tmp_lst = []\n",
    "\n",
    "for i in tmp:\n",
    "    if len(i.text) > 0:\n",
    "        tmp_lst.append(i.text)\n",
    "#         print(len(i.text))"
   ]
  },
  {
   "cell_type": "code",
   "execution_count": 281,
   "metadata": {},
   "outputs": [
    {
     "data": {
      "text/plain": [
       "100"
      ]
     },
     "execution_count": 281,
     "metadata": {},
     "output_type": "execute_result"
    }
   ],
   "source": [
    "len(tmp_lst)"
   ]
  },
  {
   "cell_type": "code",
   "execution_count": 288,
   "metadata": {},
   "outputs": [
    {
     "data": {
      "text/plain": [
       "100"
      ]
     },
     "execution_count": 288,
     "metadata": {},
     "output_type": "execute_result"
    }
   ],
   "source": [
    "tmp_lst_2 = []\n",
    "\n",
    "for i in range(len(tmp_lst)):\n",
    "    if len(tmp_lst[i]) > 10:\n",
    "        tmp_lst_2.append(tmp_lst[i])\n",
    "        \n",
    "len(tmp_lst_2)"
   ]
  },
  {
   "cell_type": "code",
   "execution_count": 290,
   "metadata": {},
   "outputs": [],
   "source": [
    "publisher_info = tmp_lst_2"
   ]
  },
  {
   "cell_type": "code",
   "execution_count": 292,
   "metadata": {},
   "outputs": [],
   "source": [
    "del tmp"
   ]
  },
  {
   "cell_type": "code",
   "execution_count": 293,
   "metadata": {},
   "outputs": [
    {
     "data": {
      "text/plain": [
       "100"
      ]
     },
     "execution_count": 293,
     "metadata": {},
     "output_type": "execute_result"
    }
   ],
   "source": [
    "len(publisher_info)"
   ]
  },
  {
   "cell_type": "code",
   "execution_count": 295,
   "metadata": {},
   "outputs": [],
   "source": [
    "# dictionary of lists  \n",
    "tmp = {'Title': tmp_title_list, \n",
    "#        'Publisher Info': publisher_info, \n",
    "#         'Citations': citation_list,\n",
    "#        'Publication Type':publication_type,\n",
    "#         'Authors List':authors_list, 'Published In':published_in, 'Abstract List':abstract_list\n",
    "       }  \n",
    "       \n",
    "df = pd.DataFrame(tmp) \n",
    "    \n",
    "# saving the dataframe \n",
    "df.to_csv('IEEE.csv') \n",
    "\n"
   ]
  },
  {
   "cell_type": "code",
   "execution_count": null,
   "metadata": {},
   "outputs": [],
   "source": []
  },
  {
   "cell_type": "code",
   "execution_count": null,
   "metadata": {},
   "outputs": [],
   "source": []
  },
  {
   "cell_type": "code",
   "execution_count": null,
   "metadata": {},
   "outputs": [],
   "source": []
  },
  {
   "cell_type": "code",
   "execution_count": 303,
   "metadata": {},
   "outputs": [],
   "source": [
    "from selenium import webdriver\n",
    "import time \n",
    "import random\n",
    "\n",
    "def get_page(url):\n",
    "    return driver.get(url)\n",
    "\n",
    "def remove_values_from_list(the_list, val):\n",
    "       return [value for value in the_list if value != val]\n",
    "\n",
    "option = webdriver.ChromeOptions()\n",
    "\n",
    "\n",
    "#Removes navigator.webdriver flag\n",
    "\n",
    "# For older ChromeDriver under version 79.0.3945.16\n",
    "option.add_experimental_option(\"excludeSwitches\", [\"enable-automation\"])\n",
    "option.add_experimental_option('useAutomationExtension', False)\n",
    "\n",
    "#For ChromeDriver version 79.0.3945.16 or over\n",
    "option.add_argument('--disable-blink-features=AutomationControlled')\n",
    "\n",
    "\n",
    "option.add_argument(\"window-size=1280,800\")\n",
    "option.add_argument(\"user-agent=Mozilla/5.0 (Windows NT 10.0; Win64; x64) AppleWebKit/537.36 (KHTML, like Gecko) Chrome/74.0.3729.169 Safari/537.36\")\n",
    "\n",
    "\n",
    "\n",
    "driver = webdriver.Chrome(executable_path='/home/scarlet/Projects/WebDrivers/Chromedriver/chromedriver', options=option)\n",
    "\n",
    "\n",
    "url = 'https://dl.acm.org/action/doSearch?fillQuickSearch=false&target=advanced&ContentItemType=research-article&expand=all&AfterMonth=1&AfterYear=2017&BeforeMonth=12&BeforeYear=2022&AllField=%22digital%22+OR+%22mobile%22+AND+%22third+world%22+OR+%22less+economically%22+AND+%22countries%22+AND+%22mental+illness%22+OR+%22mental+healthcare%22&pageSize=50&startPage=0&sortBy=Ppub_desc'\n",
    "\n",
    "url = 'https://dl.acm.org/action/doSearch?AllField=digital+mental+healthcare&pageSize=50&startPage=&rel=nofollow&ContentItemType=research-article'\n",
    "\n",
    "url = 'https://ieeexplore.ieee.org/search/searchresult.jsp?newsearch=true&queryText=digital%20mental%20healthcare'\n",
    "\n",
    "url = 'https://scholar.google.com/scholar?hl=en&as_sdt=0%2C5&q=digital+mental+healthcare&btnG=&oq=digital+me'\n",
    "\n",
    "url = 'https://www.semanticscholar.org/search?fos%5B0%5D=computer-science&fos%5B1%5D=psychology&q=digital%20mental%20healthcare&sort=influence&page=1'\n",
    "\n",
    "get_page(url)\n",
    "\n",
    "sleep_time = 20\n",
    "time.sleep(sleep_time)\n",
    "time.sleep(sleep_time)"
   ]
  },
  {
   "cell_type": "code",
   "execution_count": 323,
   "metadata": {},
   "outputs": [
    {
     "name": "stdout",
     "output_type": "stream",
     "text": [
      "Message: element click intercepted: Element <span class=\"cl-button__label\">...</span> is not clickable at point (505, 849). Other element would receive the click: <div class=\"copyright-banner\" data-selenium-selector=\"copyright-banner\">...</div>\n",
      "  (Session info: chrome=84.0.4147.89)\n",
      "\n"
     ]
    }
   ],
   "source": [
    "for i in driver.find_elements_by_css_selector('button[aria-label=\"Expand truncated text\"]'):\n",
    "    try:\n",
    "        i.find_element_by_class_name('cl-button__label').click()\n",
    "        time.sleep(5)\n",
    "    except Exception as e:\n",
    "        print(e)\n",
    "        pass"
   ]
  },
  {
   "cell_type": "code",
   "execution_count": null,
   "metadata": {},
   "outputs": [],
   "source": []
  },
  {
   "cell_type": "code",
   "execution_count": null,
   "metadata": {},
   "outputs": [],
   "source": []
  },
  {
   "cell_type": "code",
   "execution_count": null,
   "metadata": {},
   "outputs": [],
   "source": []
  },
  {
   "cell_type": "code",
   "execution_count": 305,
   "metadata": {},
   "outputs": [
    {
     "data": {
      "text/plain": [
       "'Mitigating the Psychological Impact of COVID-19 on Healthcare Workers: A Digital Learning Package'"
      ]
     },
     "execution_count": 305,
     "metadata": {},
     "output_type": "execute_result"
    }
   ],
   "source": [
    "driver.find_element_by_class_name('cl-paper-title').text"
   ]
  },
  {
   "cell_type": "code",
   "execution_count": 307,
   "metadata": {},
   "outputs": [
    {
     "data": {
      "text/plain": [
       "'H. Blake, Fiona Bermingham, Graham Johnson, A. Tabner'"
      ]
     },
     "execution_count": 307,
     "metadata": {},
     "output_type": "execute_result"
    }
   ],
   "source": [
    "driver.find_element_by_class_name('cl-paper-authors').text"
   ]
  },
  {
   "cell_type": "code",
   "execution_count": 309,
   "metadata": {},
   "outputs": [
    {
     "data": {
      "text/plain": [
       "'278'"
      ]
     },
     "execution_count": 309,
     "metadata": {},
     "output_type": "execute_result"
    }
   ],
   "source": [
    "driver.find_element_by_class_name('cl-paper-stats__total-citations').text"
   ]
  },
  {
   "cell_type": "code",
   "execution_count": 310,
   "metadata": {},
   "outputs": [
    {
     "data": {
      "text/plain": [
       "'26 April 2020'"
      ]
     },
     "execution_count": 310,
     "metadata": {},
     "output_type": "execute_result"
    }
   ],
   "source": [
    "driver.find_element_by_class_name('cl-paper-pubdates').text"
   ]
  },
  {
   "cell_type": "code",
   "execution_count": 313,
   "metadata": {},
   "outputs": [
    {
     "data": {
      "text/plain": [
       "'Expand'"
      ]
     },
     "execution_count": 313,
     "metadata": {},
     "output_type": "execute_result"
    }
   ],
   "source": [
    "driver.find_element_by_class_name('more-toggle').text"
   ]
  },
  {
   "cell_type": "code",
   "execution_count": 314,
   "metadata": {},
   "outputs": [
    {
     "data": {
      "text/plain": [
       "10"
      ]
     },
     "execution_count": 314,
     "metadata": {},
     "output_type": "execute_result"
    }
   ],
   "source": [
    "len(driver.find_elements_by_class_name('more-toggle'))"
   ]
  },
  {
   "cell_type": "code",
   "execution_count": 324,
   "metadata": {},
   "outputs": [
    {
     "data": {
      "text/plain": [
       "'TLDR\\nA dig'"
      ]
     },
     "execution_count": 324,
     "metadata": {},
     "output_type": "execute_result"
    }
   ],
   "source": [
    "driver.find_element_by_class_name('tldr-abstract-replacement').text[:10]"
   ]
  },
  {
   "cell_type": "code",
   "execution_count": 325,
   "metadata": {},
   "outputs": [
    {
     "data": {
      "text/plain": [
       "10"
      ]
     },
     "execution_count": 325,
     "metadata": {},
     "output_type": "execute_result"
    }
   ],
   "source": [
    "len(driver.find_elements_by_class_name('tldr-abstract-replacement'))"
   ]
  },
  {
   "cell_type": "code",
   "execution_count": 326,
   "metadata": {},
   "outputs": [
    {
     "data": {
      "text/plain": [
       "'International journal of environmental research…'"
      ]
     },
     "execution_count": 326,
     "metadata": {},
     "output_type": "execute_result"
    }
   ],
   "source": [
    "driver.find_element_by_class_name('cl-paper-venue').text"
   ]
  },
  {
   "cell_type": "code",
   "execution_count": 327,
   "metadata": {},
   "outputs": [
    {
     "data": {
      "text/plain": [
       "9"
      ]
     },
     "execution_count": 327,
     "metadata": {},
     "output_type": "execute_result"
    }
   ],
   "source": [
    "len(driver.find_elements_by_class_name('cl-paper-venue'))"
   ]
  },
  {
   "cell_type": "code",
   "execution_count": null,
   "metadata": {},
   "outputs": [],
   "source": []
  },
  {
   "cell_type": "code",
   "execution_count": null,
   "metadata": {},
   "outputs": [],
   "source": []
  },
  {
   "cell_type": "code",
   "execution_count": 329,
   "metadata": {},
   "outputs": [
    {
     "name": "stdout",
     "output_type": "stream",
     "text": [
      "Message: element click intercepted: Element <span class=\"cl-button__label\">...</span> is not clickable at point (285, 891). Other element would receive the click: <div class=\"copyright-banner\" data-selenium-selector=\"copyright-banner\">...</div>\n",
      "  (Session info: chrome=84.0.4147.89)\n",
      "\n",
      "Message: element click intercepted: Element <span class=\"cl-button__label\">...</span> is not clickable at point (250, 891). Other element would receive the click: <div class=\"copyright-banner\" data-selenium-selector=\"copyright-banner\">...</div>\n",
      "  (Session info: chrome=84.0.4147.89)\n",
      "\n",
      "Message: element click intercepted: Element <span class=\"cl-button__label\">...</span> is not clickable at point (302, 891). Other element would receive the click: <div class=\"copyright-banner\" data-selenium-selector=\"copyright-banner\">...</div>\n",
      "  (Session info: chrome=84.0.4147.89)\n",
      "\n",
      "Message: element click intercepted: Element <span class=\"cl-button__label\">...</span> is not clickable at point (335, 871). Other element would receive the click: <div class=\"copyright-banner__message\">...</div>\n",
      "  (Session info: chrome=84.0.4147.89)\n",
      "\n",
      "Message: element click intercepted: Element <span class=\"cl-button__label\">...</span> is not clickable at point (167, 891). Other element would receive the click: <div class=\"copyright-banner\" data-selenium-selector=\"copyright-banner\">...</div>\n",
      "  (Session info: chrome=84.0.4147.89)\n",
      "\n"
     ]
    }
   ],
   "source": [
    "from selenium import webdriver\n",
    "import time \n",
    "import random\n",
    "\n",
    "def get_page(url):\n",
    "    return driver.get(url)\n",
    "\n",
    "def remove_values_from_list(the_list, val):\n",
    "       return [value for value in the_list if value != val]\n",
    "\n",
    "option = webdriver.ChromeOptions()\n",
    "\n",
    "\n",
    "#Removes navigator.webdriver flag\n",
    "\n",
    "# For older ChromeDriver under version 79.0.3945.16\n",
    "option.add_experimental_option(\"excludeSwitches\", [\"enable-automation\"])\n",
    "option.add_experimental_option('useAutomationExtension', False)\n",
    "\n",
    "#For ChromeDriver version 79.0.3945.16 or over\n",
    "option.add_argument('--disable-blink-features=AutomationControlled')\n",
    "\n",
    "\n",
    "option.add_argument(\"window-size=1280,800\")\n",
    "option.add_argument(\"user-agent=Mozilla/5.0 (Windows NT 10.0; Win64; x64) AppleWebKit/537.36 (KHTML, like Gecko) Chrome/74.0.3729.169 Safari/537.36\")\n",
    "\n",
    "\n",
    "\n",
    "driver = webdriver.Chrome(executable_path='/home/scarlet/Projects/WebDrivers/Chromedriver/chromedriver', options=option)\n",
    "\n",
    "\n",
    "url = 'https://dl.acm.org/action/doSearch?fillQuickSearch=false&target=advanced&ContentItemType=research-article&expand=all&AfterMonth=1&AfterYear=2017&BeforeMonth=12&BeforeYear=2022&AllField=%22digital%22+OR+%22mobile%22+AND+%22third+world%22+OR+%22less+economically%22+AND+%22countries%22+AND+%22mental+illness%22+OR+%22mental+healthcare%22&pageSize=50&startPage=0&sortBy=Ppub_desc'\n",
    "\n",
    "url = 'https://dl.acm.org/action/doSearch?AllField=digital+mental+healthcare&pageSize=50&startPage=&rel=nofollow&ContentItemType=research-article'\n",
    "\n",
    "url = 'https://ieeexplore.ieee.org/search/searchresult.jsp?newsearch=true&queryText=digital%20mental%20healthcare'\n",
    "\n",
    "url = 'https://scholar.google.com/scholar?hl=en&as_sdt=0%2C5&q=digital+mental+healthcare&btnG=&oq=digital+me'\n",
    "\n",
    "url = 'https://www.semanticscholar.org/search?fos%5B0%5D=computer-science&fos%5B1%5D=psychology&q=digital%20mental%20healthcare&sort=influence&page=1'\n",
    "\n",
    "get_page(url)\n",
    "\n",
    "sleep_time = 20\n",
    "time.sleep(sleep_time)\n"
   ]
  },
  {
   "cell_type": "code",
   "execution_count": null,
   "metadata": {},
   "outputs": [],
   "source": [
    "for i in driver.find_elements_by_css_selector('button[aria-label=\"Expand truncated text\"]'):\n",
    "    try:\n",
    "        i.find_element_by_class_name('cl-button__label').click()\n",
    "        time.sleep(5)\n",
    "    except Exception as e:\n",
    "        print(e)\n",
    "        pass\n",
    "\n",
    "\n",
    "titles_lst = []\n",
    "authors_lst = []\n",
    "citations_lst = []\n",
    "pub_date_lst = []\n",
    "abstract_lst = []\n",
    "\n",
    "\n",
    "\n",
    "tmp_titles_lst =  driver.find_elements_by_class_name('cl-paper-title')\n",
    "\n",
    "for i in range(len(tmp_titles_lst)):\n",
    "    tmp_titles_lst[i] = tmp_titles_lst[i].text\n",
    "\n",
    "\n",
    "tmp_authors_lst =  driver.find_elements_by_class_name('cl-paper-authors')\n",
    "\n",
    "for i in range(len(tmp_authors_lst)):\n",
    "    tmp_authors_lst[i] = tmp_authors_lst[i].text\n",
    "\n",
    "\n",
    "tmp_citations_lst =  driver.find_elements_by_class_name('cl-paper-stats__total-citations')\n",
    "\n",
    "for i in range(len(tmp_citations_lst)):\n",
    "    tmp_citations_lst[i] = tmp_citations_lst[i].text\n",
    "\n",
    "\n",
    "tmp_pub_date_lst =  driver.find_elements_by_class_name('cl-paper-pubdates')\n",
    "\n",
    "for i in range(len(tmp_pub_date_lst)):\n",
    "    tmp_pub_date_lst[i] = tmp_pub_date_lst[i].text\n",
    "\n",
    "\n",
    "tmp_abstract_lst =  driver.find_elements_by_class_name('tldr-abstract-replacement')\n",
    "\n",
    "for i in range(len(tmp_abstract_lst)):\n",
    "    tmp_abstract_lst[i] = tmp_abstract_lst[i].text\n",
    "\n",
    "\n",
    "\n",
    "\n",
    "titles_lst = titles_lst + tmp_titles_lst\n",
    "authors_lst = authors_lst + tmp_authors_lst\n",
    "citations_lst = citations_lst + tmp_citations_lst\n",
    "pub_date_lst = pub_date_lst + tmp_pub_date_lst\n",
    "abstract_lst = abstract_lst + tmp_abstract_lst"
   ]
  },
  {
   "cell_type": "code",
   "execution_count": 334,
   "metadata": {},
   "outputs": [],
   "source": [
    "driver.find_element_by_class_name('cl-pager__next').click()"
   ]
  },
  {
   "cell_type": "code",
   "execution_count": 348,
   "metadata": {},
   "outputs": [
    {
     "ename": "ElementClickInterceptedException",
     "evalue": "Message: element click intercepted: Element <div aria-label=\"next page\" class=\"cl-pager__button cl-pager__next\" data-selenium-selector=\"next-page\" role=\"button\" tabindex=\"0\">...</div> is not clickable at point (288, 890). Other element would receive the click: <div class=\"copyright-banner\" data-selenium-selector=\"copyright-banner\">...</div>\n  (Session info: chrome=84.0.4147.89)\n",
     "output_type": "error",
     "traceback": [
      "\u001b[0;31m---------------------------------------------------------------------------\u001b[0m",
      "\u001b[0;31mElementClickInterceptedException\u001b[0m          Traceback (most recent call last)",
      "\u001b[0;32m<ipython-input-348-485872182e1c>\u001b[0m in \u001b[0;36m<module>\u001b[0;34m\u001b[0m\n\u001b[1;32m     61\u001b[0m         \u001b[0mtime\u001b[0m\u001b[0;34m.\u001b[0m\u001b[0msleep\u001b[0m\u001b[0;34m(\u001b[0m\u001b[0msleep_time\u001b[0m\u001b[0;34m)\u001b[0m\u001b[0;34m\u001b[0m\u001b[0;34m\u001b[0m\u001b[0m\n\u001b[1;32m     62\u001b[0m         \u001b[0mnext_button\u001b[0m \u001b[0;34m=\u001b[0m  \u001b[0mdriver\u001b[0m\u001b[0;34m.\u001b[0m\u001b[0mfind_element_by_css_selector\u001b[0m\u001b[0;34m(\u001b[0m\u001b[0;34m'div[data-selenium-selector=\"next-page\"]'\u001b[0m\u001b[0;34m)\u001b[0m\u001b[0;34m\u001b[0m\u001b[0;34m\u001b[0m\u001b[0m\n\u001b[0;32m---> 63\u001b[0;31m         \u001b[0mnext_button\u001b[0m\u001b[0;34m.\u001b[0m\u001b[0mclick\u001b[0m\u001b[0;34m(\u001b[0m\u001b[0;34m)\u001b[0m\u001b[0;34m\u001b[0m\u001b[0;34m\u001b[0m\u001b[0m\n\u001b[0m\u001b[1;32m     64\u001b[0m     \u001b[0;32mexcept\u001b[0m \u001b[0mNoSuchElementException\u001b[0m\u001b[0;34m:\u001b[0m\u001b[0;34m\u001b[0m\u001b[0;34m\u001b[0m\u001b[0m\n\u001b[1;32m     65\u001b[0m         \u001b[0mprint\u001b[0m\u001b[0;34m(\u001b[0m\u001b[0;34m'Next button not found'\u001b[0m\u001b[0;34m)\u001b[0m\u001b[0;34m\u001b[0m\u001b[0;34m\u001b[0m\u001b[0m\n",
      "\u001b[0;32m~/.pyenv/versions/3.8.5/envs/WebAutomationEnv/lib/python3.8/site-packages/selenium/webdriver/remote/webelement.py\u001b[0m in \u001b[0;36mclick\u001b[0;34m(self)\u001b[0m\n\u001b[1;32m     78\u001b[0m     \u001b[0;32mdef\u001b[0m \u001b[0mclick\u001b[0m\u001b[0;34m(\u001b[0m\u001b[0mself\u001b[0m\u001b[0;34m)\u001b[0m\u001b[0;34m:\u001b[0m\u001b[0;34m\u001b[0m\u001b[0;34m\u001b[0m\u001b[0m\n\u001b[1;32m     79\u001b[0m         \u001b[0;34m\"\"\"Clicks the element.\"\"\"\u001b[0m\u001b[0;34m\u001b[0m\u001b[0;34m\u001b[0m\u001b[0m\n\u001b[0;32m---> 80\u001b[0;31m         \u001b[0mself\u001b[0m\u001b[0;34m.\u001b[0m\u001b[0m_execute\u001b[0m\u001b[0;34m(\u001b[0m\u001b[0mCommand\u001b[0m\u001b[0;34m.\u001b[0m\u001b[0mCLICK_ELEMENT\u001b[0m\u001b[0;34m)\u001b[0m\u001b[0;34m\u001b[0m\u001b[0;34m\u001b[0m\u001b[0m\n\u001b[0m\u001b[1;32m     81\u001b[0m \u001b[0;34m\u001b[0m\u001b[0m\n\u001b[1;32m     82\u001b[0m     \u001b[0;32mdef\u001b[0m \u001b[0msubmit\u001b[0m\u001b[0;34m(\u001b[0m\u001b[0mself\u001b[0m\u001b[0;34m)\u001b[0m\u001b[0;34m:\u001b[0m\u001b[0;34m\u001b[0m\u001b[0;34m\u001b[0m\u001b[0m\n",
      "\u001b[0;32m~/.pyenv/versions/3.8.5/envs/WebAutomationEnv/lib/python3.8/site-packages/selenium/webdriver/remote/webelement.py\u001b[0m in \u001b[0;36m_execute\u001b[0;34m(self, command, params)\u001b[0m\n\u001b[1;32m    631\u001b[0m             \u001b[0mparams\u001b[0m \u001b[0;34m=\u001b[0m \u001b[0;34m{\u001b[0m\u001b[0;34m}\u001b[0m\u001b[0;34m\u001b[0m\u001b[0;34m\u001b[0m\u001b[0m\n\u001b[1;32m    632\u001b[0m         \u001b[0mparams\u001b[0m\u001b[0;34m[\u001b[0m\u001b[0;34m'id'\u001b[0m\u001b[0;34m]\u001b[0m \u001b[0;34m=\u001b[0m \u001b[0mself\u001b[0m\u001b[0;34m.\u001b[0m\u001b[0m_id\u001b[0m\u001b[0;34m\u001b[0m\u001b[0;34m\u001b[0m\u001b[0m\n\u001b[0;32m--> 633\u001b[0;31m         \u001b[0;32mreturn\u001b[0m \u001b[0mself\u001b[0m\u001b[0;34m.\u001b[0m\u001b[0m_parent\u001b[0m\u001b[0;34m.\u001b[0m\u001b[0mexecute\u001b[0m\u001b[0;34m(\u001b[0m\u001b[0mcommand\u001b[0m\u001b[0;34m,\u001b[0m \u001b[0mparams\u001b[0m\u001b[0;34m)\u001b[0m\u001b[0;34m\u001b[0m\u001b[0;34m\u001b[0m\u001b[0m\n\u001b[0m\u001b[1;32m    634\u001b[0m \u001b[0;34m\u001b[0m\u001b[0m\n\u001b[1;32m    635\u001b[0m     \u001b[0;32mdef\u001b[0m \u001b[0mfind_element\u001b[0m\u001b[0;34m(\u001b[0m\u001b[0mself\u001b[0m\u001b[0;34m,\u001b[0m \u001b[0mby\u001b[0m\u001b[0;34m=\u001b[0m\u001b[0mBy\u001b[0m\u001b[0;34m.\u001b[0m\u001b[0mID\u001b[0m\u001b[0;34m,\u001b[0m \u001b[0mvalue\u001b[0m\u001b[0;34m=\u001b[0m\u001b[0;32mNone\u001b[0m\u001b[0;34m)\u001b[0m\u001b[0;34m:\u001b[0m\u001b[0;34m\u001b[0m\u001b[0;34m\u001b[0m\u001b[0m\n",
      "\u001b[0;32m~/.pyenv/versions/3.8.5/envs/WebAutomationEnv/lib/python3.8/site-packages/selenium/webdriver/remote/webdriver.py\u001b[0m in \u001b[0;36mexecute\u001b[0;34m(self, driver_command, params)\u001b[0m\n\u001b[1;32m    319\u001b[0m         \u001b[0mresponse\u001b[0m \u001b[0;34m=\u001b[0m \u001b[0mself\u001b[0m\u001b[0;34m.\u001b[0m\u001b[0mcommand_executor\u001b[0m\u001b[0;34m.\u001b[0m\u001b[0mexecute\u001b[0m\u001b[0;34m(\u001b[0m\u001b[0mdriver_command\u001b[0m\u001b[0;34m,\u001b[0m \u001b[0mparams\u001b[0m\u001b[0;34m)\u001b[0m\u001b[0;34m\u001b[0m\u001b[0;34m\u001b[0m\u001b[0m\n\u001b[1;32m    320\u001b[0m         \u001b[0;32mif\u001b[0m \u001b[0mresponse\u001b[0m\u001b[0;34m:\u001b[0m\u001b[0;34m\u001b[0m\u001b[0;34m\u001b[0m\u001b[0m\n\u001b[0;32m--> 321\u001b[0;31m             \u001b[0mself\u001b[0m\u001b[0;34m.\u001b[0m\u001b[0merror_handler\u001b[0m\u001b[0;34m.\u001b[0m\u001b[0mcheck_response\u001b[0m\u001b[0;34m(\u001b[0m\u001b[0mresponse\u001b[0m\u001b[0;34m)\u001b[0m\u001b[0;34m\u001b[0m\u001b[0;34m\u001b[0m\u001b[0m\n\u001b[0m\u001b[1;32m    322\u001b[0m             response['value'] = self._unwrap_value(\n\u001b[1;32m    323\u001b[0m                 response.get('value', None))\n",
      "\u001b[0;32m~/.pyenv/versions/3.8.5/envs/WebAutomationEnv/lib/python3.8/site-packages/selenium/webdriver/remote/errorhandler.py\u001b[0m in \u001b[0;36mcheck_response\u001b[0;34m(self, response)\u001b[0m\n\u001b[1;32m    240\u001b[0m                 \u001b[0malert_text\u001b[0m \u001b[0;34m=\u001b[0m \u001b[0mvalue\u001b[0m\u001b[0;34m[\u001b[0m\u001b[0;34m'alert'\u001b[0m\u001b[0;34m]\u001b[0m\u001b[0;34m.\u001b[0m\u001b[0mget\u001b[0m\u001b[0;34m(\u001b[0m\u001b[0;34m'text'\u001b[0m\u001b[0;34m)\u001b[0m\u001b[0;34m\u001b[0m\u001b[0;34m\u001b[0m\u001b[0m\n\u001b[1;32m    241\u001b[0m             \u001b[0;32mraise\u001b[0m \u001b[0mexception_class\u001b[0m\u001b[0;34m(\u001b[0m\u001b[0mmessage\u001b[0m\u001b[0;34m,\u001b[0m \u001b[0mscreen\u001b[0m\u001b[0;34m,\u001b[0m \u001b[0mstacktrace\u001b[0m\u001b[0;34m,\u001b[0m \u001b[0malert_text\u001b[0m\u001b[0;34m)\u001b[0m\u001b[0;34m\u001b[0m\u001b[0;34m\u001b[0m\u001b[0m\n\u001b[0;32m--> 242\u001b[0;31m         \u001b[0;32mraise\u001b[0m \u001b[0mexception_class\u001b[0m\u001b[0;34m(\u001b[0m\u001b[0mmessage\u001b[0m\u001b[0;34m,\u001b[0m \u001b[0mscreen\u001b[0m\u001b[0;34m,\u001b[0m \u001b[0mstacktrace\u001b[0m\u001b[0;34m)\u001b[0m\u001b[0;34m\u001b[0m\u001b[0;34m\u001b[0m\u001b[0m\n\u001b[0m\u001b[1;32m    243\u001b[0m \u001b[0;34m\u001b[0m\u001b[0m\n\u001b[1;32m    244\u001b[0m     \u001b[0;32mdef\u001b[0m \u001b[0m_value_or_default\u001b[0m\u001b[0;34m(\u001b[0m\u001b[0mself\u001b[0m\u001b[0;34m,\u001b[0m \u001b[0mobj\u001b[0m\u001b[0;34m,\u001b[0m \u001b[0mkey\u001b[0m\u001b[0;34m,\u001b[0m \u001b[0mdefault\u001b[0m\u001b[0;34m)\u001b[0m\u001b[0;34m:\u001b[0m\u001b[0;34m\u001b[0m\u001b[0;34m\u001b[0m\u001b[0m\n",
      "\u001b[0;31mElementClickInterceptedException\u001b[0m: Message: element click intercepted: Element <div aria-label=\"next page\" class=\"cl-pager__button cl-pager__next\" data-selenium-selector=\"next-page\" role=\"button\" tabindex=\"0\">...</div> is not clickable at point (288, 890). Other element would receive the click: <div class=\"copyright-banner\" data-selenium-selector=\"copyright-banner\">...</div>\n  (Session info: chrome=84.0.4147.89)\n"
     ]
    }
   ],
   "source": [
    "from selenium.common.exceptions import NoSuchElementException\n",
    "\n",
    "titles_lst = []\n",
    "authors_lst = []\n",
    "citations_lst = []\n",
    "pub_date_lst = []\n",
    "abstract_lst = []\n",
    "\n",
    "cnt = 0\n",
    "while cnt != 57320:    \n",
    "    for i in driver.find_elements_by_css_selector('button[aria-label=\"Expand truncated text\"]'):\n",
    "        try:\n",
    "            i.find_element_by_class_name('cl-button__label').click()\n",
    "            time.sleep(5)\n",
    "        except Exception as e:\n",
    "#             print(e)\n",
    "            pass\n",
    "    \n",
    "    \n",
    "    tmp_titles_lst =  driver.find_elements_by_class_name('cl-paper-title')\n",
    "\n",
    "    for i in range(len(tmp_titles_lst)):\n",
    "        tmp_titles_lst[i] = tmp_titles_lst[i].text\n",
    "\n",
    "\n",
    "    tmp_authors_lst =  driver.find_elements_by_class_name('cl-paper-authors')\n",
    "\n",
    "    for i in range(len(tmp_authors_lst)):\n",
    "        tmp_authors_lst[i] = tmp_authors_lst[i].text\n",
    "\n",
    "\n",
    "    tmp_citations_lst =  driver.find_elements_by_class_name('cl-paper-stats__total-citations')\n",
    "\n",
    "    for i in range(len(tmp_citations_lst)):\n",
    "        tmp_citations_lst[i] = tmp_citations_lst[i].text\n",
    "\n",
    "\n",
    "    tmp_pub_date_lst =  driver.find_elements_by_class_name('cl-paper-pubdates')\n",
    "\n",
    "    for i in range(len(tmp_pub_date_lst)):\n",
    "        tmp_pub_date_lst[i] = tmp_pub_date_lst[i].text\n",
    "\n",
    "\n",
    "    tmp_abstract_lst =  driver.find_elements_by_class_name('tldr-abstract-replacement')\n",
    "\n",
    "    for i in range(len(tmp_abstract_lst)):\n",
    "        tmp_abstract_lst[i] = tmp_abstract_lst[i].text\n",
    "\n",
    "\n",
    "\n",
    "\n",
    "    titles_lst = titles_lst + tmp_titles_lst\n",
    "    authors_lst = authors_lst + tmp_authors_lst\n",
    "    citations_lst = citations_lst + tmp_citations_lst\n",
    "    pub_date_lst = pub_date_lst + tmp_pub_date_lst\n",
    "    abstract_lst = abstract_lst + tmp_abstract_lst\n",
    "    \n",
    "    \n",
    "    try:\n",
    "        time.sleep(sleep_time)\n",
    "        time.sleep(sleep_time)\n",
    "        next_button =  driver.find_element_by_css_selector('div[data-selenium-selector=\"next-page\"]')\n",
    "        next_button.click()\n",
    "    except NoSuchElementException:\n",
    "        print('Next button not found')\n",
    "    \n",
    "\n",
    "    time.sleep(sleep_time)\n",
    "    \n",
    "    cnt = cnt + 1\n",
    "    \n",
    "\n",
    "    "
   ]
  },
  {
   "cell_type": "code",
   "execution_count": 351,
   "metadata": {},
   "outputs": [
    {
     "ename": "WebDriverException",
     "evalue": "Message: chrome not reachable\n  (Session info: chrome=84.0.4147.89)\n",
     "output_type": "error",
     "traceback": [
      "\u001b[0;31m---------------------------------------------------------------------------\u001b[0m",
      "\u001b[0;31mWebDriverException\u001b[0m                        Traceback (most recent call last)",
      "\u001b[0;32m<ipython-input-351-4ba0d04dcd2e>\u001b[0m in \u001b[0;36m<module>\u001b[0;34m\u001b[0m\n\u001b[1;32m      4\u001b[0m     \u001b[0mget_page\u001b[0m\u001b[0;34m(\u001b[0m\u001b[0mtmp_url\u001b[0m\u001b[0;34m)\u001b[0m\u001b[0;34m\u001b[0m\u001b[0;34m\u001b[0m\u001b[0m\n\u001b[1;32m      5\u001b[0m     \u001b[0mtime\u001b[0m\u001b[0;34m.\u001b[0m\u001b[0msleep\u001b[0m\u001b[0;34m(\u001b[0m\u001b[0msleep_time\u001b[0m\u001b[0;34m)\u001b[0m\u001b[0;34m\u001b[0m\u001b[0;34m\u001b[0m\u001b[0m\n\u001b[0;32m----> 6\u001b[0;31m     \u001b[0;32mfor\u001b[0m \u001b[0mi\u001b[0m \u001b[0;32min\u001b[0m \u001b[0mdriver\u001b[0m\u001b[0;34m.\u001b[0m\u001b[0mfind_elements_by_css_selector\u001b[0m\u001b[0;34m(\u001b[0m\u001b[0;34m'button[aria-label=\"Expand truncated text\"]'\u001b[0m\u001b[0;34m)\u001b[0m\u001b[0;34m:\u001b[0m\u001b[0;34m\u001b[0m\u001b[0;34m\u001b[0m\u001b[0m\n\u001b[0m\u001b[1;32m      7\u001b[0m         \u001b[0;32mtry\u001b[0m\u001b[0;34m:\u001b[0m\u001b[0;34m\u001b[0m\u001b[0;34m\u001b[0m\u001b[0m\n\u001b[1;32m      8\u001b[0m             \u001b[0mi\u001b[0m\u001b[0;34m.\u001b[0m\u001b[0mfind_element_by_class_name\u001b[0m\u001b[0;34m(\u001b[0m\u001b[0;34m'cl-button__label'\u001b[0m\u001b[0;34m)\u001b[0m\u001b[0;34m.\u001b[0m\u001b[0mclick\u001b[0m\u001b[0;34m(\u001b[0m\u001b[0;34m)\u001b[0m\u001b[0;34m\u001b[0m\u001b[0;34m\u001b[0m\u001b[0m\n",
      "\u001b[0;32m~/.pyenv/versions/3.8.5/envs/WebAutomationEnv/lib/python3.8/site-packages/selenium/webdriver/remote/webdriver.py\u001b[0m in \u001b[0;36mfind_elements_by_css_selector\u001b[0;34m(self, css_selector)\u001b[0m\n\u001b[1;32m    612\u001b[0m             \u001b[0melements\u001b[0m \u001b[0;34m=\u001b[0m \u001b[0mdriver\u001b[0m\u001b[0;34m.\u001b[0m\u001b[0mfind_elements_by_css_selector\u001b[0m\u001b[0;34m(\u001b[0m\u001b[0;34m'.foo'\u001b[0m\u001b[0;34m)\u001b[0m\u001b[0;34m\u001b[0m\u001b[0;34m\u001b[0m\u001b[0m\n\u001b[1;32m    613\u001b[0m         \"\"\"\n\u001b[0;32m--> 614\u001b[0;31m         \u001b[0;32mreturn\u001b[0m \u001b[0mself\u001b[0m\u001b[0;34m.\u001b[0m\u001b[0mfind_elements\u001b[0m\u001b[0;34m(\u001b[0m\u001b[0mby\u001b[0m\u001b[0;34m=\u001b[0m\u001b[0mBy\u001b[0m\u001b[0;34m.\u001b[0m\u001b[0mCSS_SELECTOR\u001b[0m\u001b[0;34m,\u001b[0m \u001b[0mvalue\u001b[0m\u001b[0;34m=\u001b[0m\u001b[0mcss_selector\u001b[0m\u001b[0;34m)\u001b[0m\u001b[0;34m\u001b[0m\u001b[0;34m\u001b[0m\u001b[0m\n\u001b[0m\u001b[1;32m    615\u001b[0m \u001b[0;34m\u001b[0m\u001b[0m\n\u001b[1;32m    616\u001b[0m     \u001b[0;32mdef\u001b[0m \u001b[0mexecute_script\u001b[0m\u001b[0;34m(\u001b[0m\u001b[0mself\u001b[0m\u001b[0;34m,\u001b[0m \u001b[0mscript\u001b[0m\u001b[0;34m,\u001b[0m \u001b[0;34m*\u001b[0m\u001b[0margs\u001b[0m\u001b[0;34m)\u001b[0m\u001b[0;34m:\u001b[0m\u001b[0;34m\u001b[0m\u001b[0;34m\u001b[0m\u001b[0m\n",
      "\u001b[0;32m~/.pyenv/versions/3.8.5/envs/WebAutomationEnv/lib/python3.8/site-packages/selenium/webdriver/remote/webdriver.py\u001b[0m in \u001b[0;36mfind_elements\u001b[0;34m(self, by, value)\u001b[0m\n\u001b[1;32m   1003\u001b[0m         \u001b[0;31m# Return empty list if driver returns null\u001b[0m\u001b[0;34m\u001b[0m\u001b[0;34m\u001b[0m\u001b[0;34m\u001b[0m\u001b[0m\n\u001b[1;32m   1004\u001b[0m         \u001b[0;31m# See https://github.com/SeleniumHQ/selenium/issues/4555\u001b[0m\u001b[0;34m\u001b[0m\u001b[0;34m\u001b[0m\u001b[0;34m\u001b[0m\u001b[0m\n\u001b[0;32m-> 1005\u001b[0;31m         return self.execute(Command.FIND_ELEMENTS, {\n\u001b[0m\u001b[1;32m   1006\u001b[0m             \u001b[0;34m'using'\u001b[0m\u001b[0;34m:\u001b[0m \u001b[0mby\u001b[0m\u001b[0;34m,\u001b[0m\u001b[0;34m\u001b[0m\u001b[0;34m\u001b[0m\u001b[0m\n\u001b[1;32m   1007\u001b[0m             'value': value})['value'] or []\n",
      "\u001b[0;32m~/.pyenv/versions/3.8.5/envs/WebAutomationEnv/lib/python3.8/site-packages/selenium/webdriver/remote/webdriver.py\u001b[0m in \u001b[0;36mexecute\u001b[0;34m(self, driver_command, params)\u001b[0m\n\u001b[1;32m    319\u001b[0m         \u001b[0mresponse\u001b[0m \u001b[0;34m=\u001b[0m \u001b[0mself\u001b[0m\u001b[0;34m.\u001b[0m\u001b[0mcommand_executor\u001b[0m\u001b[0;34m.\u001b[0m\u001b[0mexecute\u001b[0m\u001b[0;34m(\u001b[0m\u001b[0mdriver_command\u001b[0m\u001b[0;34m,\u001b[0m \u001b[0mparams\u001b[0m\u001b[0;34m)\u001b[0m\u001b[0;34m\u001b[0m\u001b[0;34m\u001b[0m\u001b[0m\n\u001b[1;32m    320\u001b[0m         \u001b[0;32mif\u001b[0m \u001b[0mresponse\u001b[0m\u001b[0;34m:\u001b[0m\u001b[0;34m\u001b[0m\u001b[0;34m\u001b[0m\u001b[0m\n\u001b[0;32m--> 321\u001b[0;31m             \u001b[0mself\u001b[0m\u001b[0;34m.\u001b[0m\u001b[0merror_handler\u001b[0m\u001b[0;34m.\u001b[0m\u001b[0mcheck_response\u001b[0m\u001b[0;34m(\u001b[0m\u001b[0mresponse\u001b[0m\u001b[0;34m)\u001b[0m\u001b[0;34m\u001b[0m\u001b[0;34m\u001b[0m\u001b[0m\n\u001b[0m\u001b[1;32m    322\u001b[0m             response['value'] = self._unwrap_value(\n\u001b[1;32m    323\u001b[0m                 response.get('value', None))\n",
      "\u001b[0;32m~/.pyenv/versions/3.8.5/envs/WebAutomationEnv/lib/python3.8/site-packages/selenium/webdriver/remote/errorhandler.py\u001b[0m in \u001b[0;36mcheck_response\u001b[0;34m(self, response)\u001b[0m\n\u001b[1;32m    240\u001b[0m                 \u001b[0malert_text\u001b[0m \u001b[0;34m=\u001b[0m \u001b[0mvalue\u001b[0m\u001b[0;34m[\u001b[0m\u001b[0;34m'alert'\u001b[0m\u001b[0;34m]\u001b[0m\u001b[0;34m.\u001b[0m\u001b[0mget\u001b[0m\u001b[0;34m(\u001b[0m\u001b[0;34m'text'\u001b[0m\u001b[0;34m)\u001b[0m\u001b[0;34m\u001b[0m\u001b[0;34m\u001b[0m\u001b[0m\n\u001b[1;32m    241\u001b[0m             \u001b[0;32mraise\u001b[0m \u001b[0mexception_class\u001b[0m\u001b[0;34m(\u001b[0m\u001b[0mmessage\u001b[0m\u001b[0;34m,\u001b[0m \u001b[0mscreen\u001b[0m\u001b[0;34m,\u001b[0m \u001b[0mstacktrace\u001b[0m\u001b[0;34m,\u001b[0m \u001b[0malert_text\u001b[0m\u001b[0;34m)\u001b[0m\u001b[0;34m\u001b[0m\u001b[0;34m\u001b[0m\u001b[0m\n\u001b[0;32m--> 242\u001b[0;31m         \u001b[0;32mraise\u001b[0m \u001b[0mexception_class\u001b[0m\u001b[0;34m(\u001b[0m\u001b[0mmessage\u001b[0m\u001b[0;34m,\u001b[0m \u001b[0mscreen\u001b[0m\u001b[0;34m,\u001b[0m \u001b[0mstacktrace\u001b[0m\u001b[0;34m)\u001b[0m\u001b[0;34m\u001b[0m\u001b[0;34m\u001b[0m\u001b[0m\n\u001b[0m\u001b[1;32m    243\u001b[0m \u001b[0;34m\u001b[0m\u001b[0m\n\u001b[1;32m    244\u001b[0m     \u001b[0;32mdef\u001b[0m \u001b[0m_value_or_default\u001b[0m\u001b[0;34m(\u001b[0m\u001b[0mself\u001b[0m\u001b[0;34m,\u001b[0m \u001b[0mobj\u001b[0m\u001b[0;34m,\u001b[0m \u001b[0mkey\u001b[0m\u001b[0;34m,\u001b[0m \u001b[0mdefault\u001b[0m\u001b[0;34m)\u001b[0m\u001b[0;34m:\u001b[0m\u001b[0;34m\u001b[0m\u001b[0;34m\u001b[0m\u001b[0m\n",
      "\u001b[0;31mWebDriverException\u001b[0m: Message: chrome not reachable\n  (Session info: chrome=84.0.4147.89)\n"
     ]
    }
   ],
   "source": [
    "cnt = 0\n",
    "for pg_no in range(7, 50000):\n",
    "    tmp_url = 'https://www.semanticscholar.org/search?fos%5B0%5D=computer-science&fos%5B1%5D=psychology&q=digital%20mental%20healthcare&sort=influence&page=' + str(pg_no)\n",
    "    get_page(tmp_url)\n",
    "    time.sleep(sleep_time)\n",
    "    for i in driver.find_elements_by_css_selector('button[aria-label=\"Expand truncated text\"]'):\n",
    "        try:\n",
    "            i.find_element_by_class_name('cl-button__label').click()\n",
    "            time.sleep(sleep_time)\n",
    "        except Exception as e:\n",
    "#             print(e)\n",
    "            pass\n",
    "    \n",
    "    \n",
    "    tmp_titles_lst =  driver.find_elements_by_class_name('cl-paper-title')\n",
    "\n",
    "    for i in range(len(tmp_titles_lst)):\n",
    "        tmp_titles_lst[i] = tmp_titles_lst[i].text\n",
    "\n",
    "\n",
    "    tmp_authors_lst =  driver.find_elements_by_class_name('cl-paper-authors')\n",
    "\n",
    "    for i in range(len(tmp_authors_lst)):\n",
    "        tmp_authors_lst[i] = tmp_authors_lst[i].text\n",
    "\n",
    "\n",
    "    tmp_citations_lst =  driver.find_elements_by_class_name('cl-paper-stats__total-citations')\n",
    "\n",
    "    for i in range(len(tmp_citations_lst)):\n",
    "        tmp_citations_lst[i] = tmp_citations_lst[i].text\n",
    "\n",
    "\n",
    "    tmp_pub_date_lst =  driver.find_elements_by_class_name('cl-paper-pubdates')\n",
    "\n",
    "    for i in range(len(tmp_pub_date_lst)):\n",
    "        tmp_pub_date_lst[i] = tmp_pub_date_lst[i].text\n",
    "\n",
    "\n",
    "    tmp_abstract_lst =  driver.find_elements_by_class_name('tldr-abstract-replacement')\n",
    "\n",
    "    for i in range(len(tmp_abstract_lst)):\n",
    "        tmp_abstract_lst[i] = tmp_abstract_lst[i].text\n",
    "\n",
    "\n",
    "\n",
    "\n",
    "    titles_lst = titles_lst + tmp_titles_lst\n",
    "    authors_lst = authors_lst + tmp_authors_lst\n",
    "    citations_lst = citations_lst + tmp_citations_lst\n",
    "    pub_date_lst = pub_date_lst + tmp_pub_date_lst\n",
    "    abstract_lst = abstract_lst + tmp_abstract_lst\n",
    "    \n",
    "    \n",
    "#     try:\n",
    "#         time.sleep(sleep_time)\n",
    "#         time.sleep(sleep_time)\n",
    "#         time.sleep(sleep_time)\n",
    "#         next_button =  driver.find_element_by_css_selector('div[data-selenium-selector=\"next-page\"]')\n",
    "#         next_button.click()\n",
    "#     except NoSuchElementException:\n",
    "#         print('Next button not found')\n",
    "    \n",
    "\n",
    "    time.sleep(sleep_time)\n",
    "    \n",
    "#     cnt = cnt + 1\n",
    "    "
   ]
  },
  {
   "cell_type": "code",
   "execution_count": 359,
   "metadata": {},
   "outputs": [],
   "source": [
    "#  titles_lst = titles_lst + tmp_titles_lst\n",
    "#     authors_lst = authors_lst + tmp_authors_lst\n",
    "#     citations_lst = citations_lst + tmp_citations_lst\n",
    "#     pub_date_lst = pub_date_lst + tmp_pub_date_lst\n",
    "#     abstract_lst = abstract_lst + tmp_abstract_lst\n",
    "    \n",
    "\n",
    "# dictionary of lists  \n",
    "tmp = {'Title': titles_lst, \n",
    "#        'Publisher Info': publisher_info, \n",
    "#         'Citations': citations_lst,\n",
    "# #        'Publication Type':publication_type,\n",
    "#         'Authors List':authors_lst, \n",
    "# #        'Published In':published_in, \n",
    "       \n",
    "#        'Published Date' : pub_date_lst,\n",
    "#        'Abstract List':abstract_lst,\n",
    "       }  \n",
    "       \n",
    "df = pd.DataFrame(tmp) \n",
    "    \n",
    "# saving the dataframe \n",
    "# df.to_csv('Semantic Scholar.csv') \n",
    "\n"
   ]
  },
  {
   "cell_type": "code",
   "execution_count": null,
   "metadata": {},
   "outputs": [],
   "source": []
  },
  {
   "cell_type": "code",
   "execution_count": null,
   "metadata": {},
   "outputs": [],
   "source": []
  },
  {
   "cell_type": "code",
   "execution_count": null,
   "metadata": {},
   "outputs": [],
   "source": []
  },
  {
   "cell_type": "code",
   "execution_count": 29,
   "metadata": {},
   "outputs": [],
   "source": [
    "from selenium import webdriver\n",
    "import time \n",
    "import random\n",
    "\n",
    "def get_page(url):\n",
    "    return driver.get(url)\n",
    "\n",
    "def remove_values_from_list(the_list, val):\n",
    "       return [value for value in the_list if value != val]\n",
    "\n",
    "option = webdriver.ChromeOptions()\n",
    "\n",
    "\n",
    "#Removes navigator.webdriver flag\n",
    "\n",
    "# For older ChromeDriver under version 79.0.3945.16\n",
    "option.add_experimental_option(\"excludeSwitches\", [\"enable-automation\"])\n",
    "option.add_experimental_option('useAutomationExtension', False)\n",
    "\n",
    "#For ChromeDriver version 79.0.3945.16 or over\n",
    "option.add_argument('--disable-blink-features=AutomationControlled')\n",
    "\n",
    "\n",
    "option.add_argument(\"window-size=1280,800\")\n",
    "option.add_argument(\"user-agent=Mozilla/5.0 (Windows NT 10.0; Win64; x64) AppleWebKit/537.36 (KHTML, like Gecko) Chrome/74.0.3729.169 Safari/537.36\")\n",
    "\n",
    "\n",
    "\n",
    "driver = webdriver.Chrome(executable_path='/home/scarlet/Projects/WebDrivers/Chromedriver/chromedriver', options=option)\n",
    "\n",
    "\n",
    "url = 'https://dl.acm.org/action/doSearch?fillQuickSearch=false&target=advanced&ContentItemType=research-article&expand=all&AfterMonth=1&AfterYear=2017&BeforeMonth=12&BeforeYear=2022&AllField=%22digital%22+OR+%22mobile%22+AND+%22third+world%22+OR+%22less+economically%22+AND+%22countries%22+AND+%22mental+illness%22+OR+%22mental+healthcare%22&pageSize=50&startPage=0&sortBy=Ppub_desc'\n",
    "\n",
    "url = 'https://dl.acm.org/action/doSearch?AllField=digital+mental+healthcare&pageSize=50&startPage=&rel=nofollow&ContentItemType=research-article'\n",
    "\n",
    "url = 'https://ieeexplore.ieee.org/search/searchresult.jsp?newsearch=true&queryText=digital%20mental%20healthcare'\n",
    "\n",
    "url = 'https://scholar.google.com/scholar?hl=en&as_sdt=0%2C5&q=digital+mental+healthcare&btnG=&oq=digital+me'\n",
    "\n",
    "url = 'https://www.semanticscholar.org/search?fos%5B0%5D=computer-science&fos%5B1%5D=psychology&q=digital%20mental%20healthcare&sort=influence&page=1'\n",
    "\n",
    "url = 'https://www.cambridge.org/core/search?q=digital%20mental%20healthcare&sort=canonical.date%3Adesc&aggs%5BproductTypes%5D%5Bfilters%5D=JOURNAL_ARTICLE%2CJOURNAL&aggs%5BproductSubject%5D%5Bfilters%5D=15EA497D52C1FA27DD65B6F765D6533B%2C21B42A72BA3E4CB0E3315E5B1B71B07F%2CA57E10708F64FB69CE78C81A5C2A6555'\n",
    "\n",
    "url = 'https://www.emerald.com/insight/search?q=digital%20mental%20healthcare&ipp=50&facet-content-type=article&p=10'\n",
    "\n",
    "get_page(url)\n",
    "\n",
    "sleep_time = 20\n",
    "time.sleep(sleep_time)\n"
   ]
  },
  {
   "cell_type": "code",
   "execution_count": 17,
   "metadata": {},
   "outputs": [],
   "source": [
    "titles_lst = []\n",
    "\n",
    "tmp_titles_lst = driver.find_elements_by_class_name('part-link')\n",
    "\n",
    "for i in range(len(tmp_titles_lst)):\n",
    "    tmp_titles_lst[i] = tmp_titles_lst[i].text\n",
    "    \n",
    "titles_lst = titles_lst + tmp_titles_lst"
   ]
  },
  {
   "cell_type": "code",
   "execution_count": 9,
   "metadata": {},
   "outputs": [],
   "source": [
    "tmp_dates_lst = driver.find_elements_by_class_name('date')\n",
    "\n",
    "for i in range(len(tmp_dates_lst)):\n",
    "    tmp_dates_lst[i] = tmp_dates_lst[i].text"
   ]
  },
  {
   "cell_type": "code",
   "execution_count": 10,
   "metadata": {},
   "outputs": [
    {
     "data": {
      "text/plain": [
       "20"
      ]
     },
     "execution_count": 10,
     "metadata": {},
     "output_type": "execute_result"
    }
   ],
   "source": [
    "len(tmp_dates_lst)"
   ]
  },
  {
   "cell_type": "code",
   "execution_count": 12,
   "metadata": {},
   "outputs": [],
   "source": [
    "tmp_published_lst = driver.find_elements_by_class_name('published')\n",
    "\n",
    "for i in range(len(tmp_published_lst)):\n",
    "    tmp_published_lst[i] = tmp_published_lst[i].text"
   ]
  },
  {
   "cell_type": "code",
   "execution_count": 30,
   "metadata": {},
   "outputs": [],
   "source": [
    "titles_lst = []\n",
    "\n",
    "tmp_titles_lst = driver.find_elements_by_class_name('intent_title')\n",
    "\n",
    "for i in range(len(tmp_titles_lst)):\n",
    "    tmp_titles_lst[i] = tmp_titles_lst[i].text\n",
    "    \n",
    "titles_lst = titles_lst + tmp_titles_lst"
   ]
  },
  {
   "cell_type": "code",
   "execution_count": 31,
   "metadata": {},
   "outputs": [
    {
     "data": {
      "text/plain": [
       "96"
      ]
     },
     "execution_count": 31,
     "metadata": {},
     "output_type": "execute_result"
    }
   ],
   "source": [
    "len(tmp_titles_lst)"
   ]
  },
  {
   "cell_type": "code",
   "execution_count": 33,
   "metadata": {},
   "outputs": [],
   "source": [
    "# tmp_titles_lst"
   ]
  },
  {
   "cell_type": "code",
   "execution_count": 35,
   "metadata": {},
   "outputs": [],
   "source": [
    "cnt = 10\n",
    "titles_lst = []\n",
    "\n",
    "\n",
    "while (cnt >= 0):\n",
    "#     try:\n",
    "#         next_button =  driver.find_element_by_css_selector('a[aria-label=\"Next page\"]')\n",
    "#         next_button.click()\n",
    "#     except Exception as e:\n",
    "#         print(e)\n",
    "    url = 'https://www.emerald.com/insight/search?q=digital%20mental%20healthcare&ipp=50&facet-content-type=article&p=' + str(cnt)\n",
    "    get_page(url)\n",
    "    \n",
    "\n",
    "    tmp_titles_lst = driver.find_elements_by_class_name('intent_title')\n",
    "\n",
    "    for i in range(len(tmp_titles_lst)):\n",
    "        tmp_titles_lst[i] = tmp_titles_lst[i].text\n",
    "\n",
    "    titles_lst = titles_lst + tmp_titles_lst\n",
    "    \n",
    "    time.sleep(sleep_time)\n",
    "    time.sleep(sleep_time)\n",
    "#     time.sleep(sleep_time)\n",
    "    \n",
    "    cnt = cnt - 1\n",
    "    "
   ]
  },
  {
   "cell_type": "code",
   "execution_count": 36,
   "metadata": {},
   "outputs": [
    {
     "data": {
      "text/plain": [
       "1070"
      ]
     },
     "execution_count": 36,
     "metadata": {},
     "output_type": "execute_result"
    }
   ],
   "source": [
    "len(titles_lst)"
   ]
  },
  {
   "cell_type": "code",
   "execution_count": 39,
   "metadata": {},
   "outputs": [],
   "source": [
    "# dictionary of lists  \n",
    "tmp = {'Title': titles_lst, \n",
    "#        'Publisher Info': publisher_info, \n",
    "#         'Citations': citations_lst,\n",
    "# #        'Publication Type':publication_type,\n",
    "#         'Authors List':authors_lst, \n",
    "# #        'Published In':published_in, \n",
    "       \n",
    "#        'Published Date' : pub_date_lst,\n",
    "#        'Abstract List':abstract_lst,\n",
    "       }  \n",
    "       \n",
    "df = pd.DataFrame(tmp) \n",
    "    \n",
    "# saving the dataframe \n",
    "# df.to_csv('Emerald.csv') \n"
   ]
  },
  {
   "cell_type": "code",
   "execution_count": 50,
   "metadata": {},
   "outputs": [],
   "source": [
    "from selenium import webdriver\n",
    "import time \n",
    "import random\n",
    "\n",
    "def get_page(url):\n",
    "    return driver.get(url)\n",
    "\n",
    "def remove_values_from_list(the_list, val):\n",
    "       return [value for value in the_list if value != val]\n",
    "\n",
    "option = webdriver.ChromeOptions()\n",
    "\n",
    "\n",
    "#Removes navigator.webdriver flag\n",
    "\n",
    "# For older ChromeDriver under version 79.0.3945.16\n",
    "option.add_experimental_option(\"excludeSwitches\", [\"enable-automation\"])\n",
    "option.add_experimental_option('useAutomationExtension', False)\n",
    "\n",
    "#For ChromeDriver version 79.0.3945.16 or over\n",
    "option.add_argument('--disable-blink-features=AutomationControlled')\n",
    "\n",
    "\n",
    "option.add_argument(\"window-size=1280,800\")\n",
    "option.add_argument(\"user-agent=Mozilla/5.0 (Windows NT 10.0; Win64; x64) AppleWebKit/537.36 (KHTML, like Gecko) Chrome/74.0.3729.169 Safari/537.36\")\n",
    "\n",
    "\n",
    "\n",
    "driver = webdriver.Chrome(executable_path='/home/scarlet/Projects/WebDrivers/Chromedriver/chromedriver', options=option)\n",
    "\n",
    "\n",
    "url = 'https://dl.acm.org/action/doSearch?fillQuickSearch=false&target=advanced&ContentItemType=research-article&expand=all&AfterMonth=1&AfterYear=2017&BeforeMonth=12&BeforeYear=2022&AllField=%22digital%22+OR+%22mobile%22+AND+%22third+world%22+OR+%22less+economically%22+AND+%22countries%22+AND+%22mental+illness%22+OR+%22mental+healthcare%22&pageSize=50&startPage=0&sortBy=Ppub_desc'\n",
    "\n",
    "url = 'https://dl.acm.org/action/doSearch?AllField=digital+mental+healthcare&pageSize=50&startPage=&rel=nofollow&ContentItemType=research-article'\n",
    "\n",
    "url = 'https://ieeexplore.ieee.org/search/searchresult.jsp?newsearch=true&queryText=digital%20mental%20healthcare'\n",
    "\n",
    "url = 'https://scholar.google.com/scholar?hl=en&as_sdt=0%2C5&q=digital+mental+healthcare&btnG=&oq=digital+me'\n",
    "\n",
    "url = 'https://www.semanticscholar.org/search?fos%5B0%5D=computer-science&fos%5B1%5D=psychology&q=digital%20mental%20healthcare&sort=influence&page=1'\n",
    "\n",
    "url = 'https://www.cambridge.org/core/search?q=digital%20mental%20healthcare&sort=canonical.date%3Adesc&aggs%5BproductTypes%5D%5Bfilters%5D=JOURNAL_ARTICLE%2CJOURNAL&aggs%5BproductSubject%5D%5Bfilters%5D=15EA497D52C1FA27DD65B6F765D6533B%2C21B42A72BA3E4CB0E3315E5B1B71B07F%2CA57E10708F64FB69CE78C81A5C2A6555'\n",
    "\n",
    "url = 'https://www.emerald.com/insight/search?q=digital%20mental%20healthcare&ipp=50&facet-content-type=article&p=10'\n",
    "\n",
    "url = 'https://academic.oup.com/journals/search-results?page=1&q=digital+mental+healthcare&fl_SiteID=5567&SearchSourceType=1&allJournals=1&sort=Relevance'\n",
    "\n",
    "get_page(url)\n",
    "\n",
    "sleep_time = 20\n",
    "time.sleep(sleep_time)\n"
   ]
  },
  {
   "cell_type": "code",
   "execution_count": 42,
   "metadata": {},
   "outputs": [
    {
     "data": {
      "text/plain": [
       "'Telemedicine and mental health: coming of age?'"
      ]
     },
     "execution_count": 42,
     "metadata": {},
     "output_type": "execute_result"
    }
   ],
   "source": [
    "driver.find_element_by_class_name('sri-title').text"
   ]
  },
  {
   "cell_type": "code",
   "execution_count": 43,
   "metadata": {},
   "outputs": [
    {
     "name": "stdout",
     "output_type": "stream",
     "text": [
      "Message: element not interactable\n",
      "  (Session info: chrome=84.0.4147.89)\n",
      "\n"
     ]
    }
   ],
   "source": [
    "    try:\n",
    "        next_button =  driver.find_element_by_css_selector('a[aria-label=\"Next\"]')\n",
    "        next_button.click()\n",
    "    except Exception as e:\n",
    "        print(e)"
   ]
  },
  {
   "cell_type": "code",
   "execution_count": 51,
   "metadata": {},
   "outputs": [
    {
     "ename": "WebDriverException",
     "evalue": "Message: chrome not reachable\n  (Session info: chrome=84.0.4147.89)\n",
     "output_type": "error",
     "traceback": [
      "\u001b[0;31m---------------------------------------------------------------------------\u001b[0m",
      "\u001b[0;31mWebDriverException\u001b[0m                        Traceback (most recent call last)",
      "\u001b[0;32m<ipython-input-51-ce734a2ec55c>\u001b[0m in \u001b[0;36m<module>\u001b[0;34m\u001b[0m\n\u001b[1;32m     16\u001b[0m     \u001b[0mtime\u001b[0m\u001b[0;34m.\u001b[0m\u001b[0msleep\u001b[0m\u001b[0;34m(\u001b[0m\u001b[0msleep_time\u001b[0m\u001b[0;34m)\u001b[0m\u001b[0;34m\u001b[0m\u001b[0;34m\u001b[0m\u001b[0m\n\u001b[1;32m     17\u001b[0m \u001b[0;34m\u001b[0m\u001b[0m\n\u001b[0;32m---> 18\u001b[0;31m     \u001b[0mtmp_titles_lst\u001b[0m \u001b[0;34m=\u001b[0m \u001b[0mdriver\u001b[0m\u001b[0;34m.\u001b[0m\u001b[0mfind_elements_by_class_name\u001b[0m\u001b[0;34m(\u001b[0m\u001b[0;34m'sri-title'\u001b[0m\u001b[0;34m)\u001b[0m\u001b[0;34m\u001b[0m\u001b[0;34m\u001b[0m\u001b[0m\n\u001b[0m\u001b[1;32m     19\u001b[0m \u001b[0;34m\u001b[0m\u001b[0m\n\u001b[1;32m     20\u001b[0m     \u001b[0;32mfor\u001b[0m \u001b[0mi\u001b[0m \u001b[0;32min\u001b[0m \u001b[0mrange\u001b[0m\u001b[0;34m(\u001b[0m\u001b[0mlen\u001b[0m\u001b[0;34m(\u001b[0m\u001b[0mtmp_titles_lst\u001b[0m\u001b[0;34m)\u001b[0m\u001b[0;34m)\u001b[0m\u001b[0;34m:\u001b[0m\u001b[0;34m\u001b[0m\u001b[0;34m\u001b[0m\u001b[0m\n",
      "\u001b[0;32m~/.pyenv/versions/3.8.5/envs/WebAutomationEnv/lib/python3.8/site-packages/selenium/webdriver/remote/webdriver.py\u001b[0m in \u001b[0;36mfind_elements_by_class_name\u001b[0;34m(self, name)\u001b[0m\n\u001b[1;32m    578\u001b[0m             \u001b[0melements\u001b[0m \u001b[0;34m=\u001b[0m \u001b[0mdriver\u001b[0m\u001b[0;34m.\u001b[0m\u001b[0mfind_elements_by_class_name\u001b[0m\u001b[0;34m(\u001b[0m\u001b[0;34m'foo'\u001b[0m\u001b[0;34m)\u001b[0m\u001b[0;34m\u001b[0m\u001b[0;34m\u001b[0m\u001b[0m\n\u001b[1;32m    579\u001b[0m         \"\"\"\n\u001b[0;32m--> 580\u001b[0;31m         \u001b[0;32mreturn\u001b[0m \u001b[0mself\u001b[0m\u001b[0;34m.\u001b[0m\u001b[0mfind_elements\u001b[0m\u001b[0;34m(\u001b[0m\u001b[0mby\u001b[0m\u001b[0;34m=\u001b[0m\u001b[0mBy\u001b[0m\u001b[0;34m.\u001b[0m\u001b[0mCLASS_NAME\u001b[0m\u001b[0;34m,\u001b[0m \u001b[0mvalue\u001b[0m\u001b[0;34m=\u001b[0m\u001b[0mname\u001b[0m\u001b[0;34m)\u001b[0m\u001b[0;34m\u001b[0m\u001b[0;34m\u001b[0m\u001b[0m\n\u001b[0m\u001b[1;32m    581\u001b[0m \u001b[0;34m\u001b[0m\u001b[0m\n\u001b[1;32m    582\u001b[0m     \u001b[0;32mdef\u001b[0m \u001b[0mfind_element_by_css_selector\u001b[0m\u001b[0;34m(\u001b[0m\u001b[0mself\u001b[0m\u001b[0;34m,\u001b[0m \u001b[0mcss_selector\u001b[0m\u001b[0;34m)\u001b[0m\u001b[0;34m:\u001b[0m\u001b[0;34m\u001b[0m\u001b[0;34m\u001b[0m\u001b[0m\n",
      "\u001b[0;32m~/.pyenv/versions/3.8.5/envs/WebAutomationEnv/lib/python3.8/site-packages/selenium/webdriver/remote/webdriver.py\u001b[0m in \u001b[0;36mfind_elements\u001b[0;34m(self, by, value)\u001b[0m\n\u001b[1;32m   1003\u001b[0m         \u001b[0;31m# Return empty list if driver returns null\u001b[0m\u001b[0;34m\u001b[0m\u001b[0;34m\u001b[0m\u001b[0;34m\u001b[0m\u001b[0m\n\u001b[1;32m   1004\u001b[0m         \u001b[0;31m# See https://github.com/SeleniumHQ/selenium/issues/4555\u001b[0m\u001b[0;34m\u001b[0m\u001b[0;34m\u001b[0m\u001b[0;34m\u001b[0m\u001b[0m\n\u001b[0;32m-> 1005\u001b[0;31m         return self.execute(Command.FIND_ELEMENTS, {\n\u001b[0m\u001b[1;32m   1006\u001b[0m             \u001b[0;34m'using'\u001b[0m\u001b[0;34m:\u001b[0m \u001b[0mby\u001b[0m\u001b[0;34m,\u001b[0m\u001b[0;34m\u001b[0m\u001b[0;34m\u001b[0m\u001b[0m\n\u001b[1;32m   1007\u001b[0m             'value': value})['value'] or []\n",
      "\u001b[0;32m~/.pyenv/versions/3.8.5/envs/WebAutomationEnv/lib/python3.8/site-packages/selenium/webdriver/remote/webdriver.py\u001b[0m in \u001b[0;36mexecute\u001b[0;34m(self, driver_command, params)\u001b[0m\n\u001b[1;32m    319\u001b[0m         \u001b[0mresponse\u001b[0m \u001b[0;34m=\u001b[0m \u001b[0mself\u001b[0m\u001b[0;34m.\u001b[0m\u001b[0mcommand_executor\u001b[0m\u001b[0;34m.\u001b[0m\u001b[0mexecute\u001b[0m\u001b[0;34m(\u001b[0m\u001b[0mdriver_command\u001b[0m\u001b[0;34m,\u001b[0m \u001b[0mparams\u001b[0m\u001b[0;34m)\u001b[0m\u001b[0;34m\u001b[0m\u001b[0;34m\u001b[0m\u001b[0m\n\u001b[1;32m    320\u001b[0m         \u001b[0;32mif\u001b[0m \u001b[0mresponse\u001b[0m\u001b[0;34m:\u001b[0m\u001b[0;34m\u001b[0m\u001b[0;34m\u001b[0m\u001b[0m\n\u001b[0;32m--> 321\u001b[0;31m             \u001b[0mself\u001b[0m\u001b[0;34m.\u001b[0m\u001b[0merror_handler\u001b[0m\u001b[0;34m.\u001b[0m\u001b[0mcheck_response\u001b[0m\u001b[0;34m(\u001b[0m\u001b[0mresponse\u001b[0m\u001b[0;34m)\u001b[0m\u001b[0;34m\u001b[0m\u001b[0;34m\u001b[0m\u001b[0m\n\u001b[0m\u001b[1;32m    322\u001b[0m             response['value'] = self._unwrap_value(\n\u001b[1;32m    323\u001b[0m                 response.get('value', None))\n",
      "\u001b[0;32m~/.pyenv/versions/3.8.5/envs/WebAutomationEnv/lib/python3.8/site-packages/selenium/webdriver/remote/errorhandler.py\u001b[0m in \u001b[0;36mcheck_response\u001b[0;34m(self, response)\u001b[0m\n\u001b[1;32m    240\u001b[0m                 \u001b[0malert_text\u001b[0m \u001b[0;34m=\u001b[0m \u001b[0mvalue\u001b[0m\u001b[0;34m[\u001b[0m\u001b[0;34m'alert'\u001b[0m\u001b[0;34m]\u001b[0m\u001b[0;34m.\u001b[0m\u001b[0mget\u001b[0m\u001b[0;34m(\u001b[0m\u001b[0;34m'text'\u001b[0m\u001b[0;34m)\u001b[0m\u001b[0;34m\u001b[0m\u001b[0;34m\u001b[0m\u001b[0m\n\u001b[1;32m    241\u001b[0m             \u001b[0;32mraise\u001b[0m \u001b[0mexception_class\u001b[0m\u001b[0;34m(\u001b[0m\u001b[0mmessage\u001b[0m\u001b[0;34m,\u001b[0m \u001b[0mscreen\u001b[0m\u001b[0;34m,\u001b[0m \u001b[0mstacktrace\u001b[0m\u001b[0;34m,\u001b[0m \u001b[0malert_text\u001b[0m\u001b[0;34m)\u001b[0m\u001b[0;34m\u001b[0m\u001b[0;34m\u001b[0m\u001b[0m\n\u001b[0;32m--> 242\u001b[0;31m         \u001b[0;32mraise\u001b[0m \u001b[0mexception_class\u001b[0m\u001b[0;34m(\u001b[0m\u001b[0mmessage\u001b[0m\u001b[0;34m,\u001b[0m \u001b[0mscreen\u001b[0m\u001b[0;34m,\u001b[0m \u001b[0mstacktrace\u001b[0m\u001b[0;34m)\u001b[0m\u001b[0;34m\u001b[0m\u001b[0;34m\u001b[0m\u001b[0m\n\u001b[0m\u001b[1;32m    243\u001b[0m \u001b[0;34m\u001b[0m\u001b[0m\n\u001b[1;32m    244\u001b[0m     \u001b[0;32mdef\u001b[0m \u001b[0m_value_or_default\u001b[0m\u001b[0;34m(\u001b[0m\u001b[0mself\u001b[0m\u001b[0;34m,\u001b[0m \u001b[0mobj\u001b[0m\u001b[0;34m,\u001b[0m \u001b[0mkey\u001b[0m\u001b[0;34m,\u001b[0m \u001b[0mdefault\u001b[0m\u001b[0;34m)\u001b[0m\u001b[0;34m:\u001b[0m\u001b[0;34m\u001b[0m\u001b[0;34m\u001b[0m\u001b[0m\n",
      "\u001b[0;31mWebDriverException\u001b[0m: Message: chrome not reachable\n  (Session info: chrome=84.0.4147.89)\n"
     ]
    }
   ],
   "source": [
    "cnt = 1\n",
    "titles_lst = []\n",
    "\n",
    "\n",
    "while (cnt < 100000):\n",
    "#     try:\n",
    "#         next_button =  driver.find_element_by_css_selector('a[aria-label=\"Next page\"]')\n",
    "#         next_button.click()\n",
    "#     except Exception as e:\n",
    "#         print(e)\n",
    "    url = 'https://academic.oup.com/journals/search-results?q=digital+mental+healthcare&sort=Relevance&allJournals=1&fl_SiteID=5567&page=' + str(cnt)\n",
    "    get_page(url)\n",
    "    \n",
    "    time.sleep(sleep_time)\n",
    "    time.sleep(sleep_time)\n",
    "    time.sleep(sleep_time)\n",
    "\n",
    "    tmp_titles_lst = driver.find_elements_by_class_name('sri-title')\n",
    "\n",
    "    for i in range(len(tmp_titles_lst)):\n",
    "        tmp_titles_lst[i] = tmp_titles_lst[i].text\n",
    "\n",
    "    titles_lst = titles_lst + tmp_titles_lst\n",
    "    \n",
    "    \n",
    "    \n",
    "    cnt = cnt + 1"
   ]
  },
  {
   "cell_type": "code",
   "execution_count": 52,
   "metadata": {},
   "outputs": [],
   "source": [
    "# dictionary of lists  \n",
    "tmp = {'Title': titles_lst, \n",
    "#        'Publisher Info': publisher_info, \n",
    "#         'Citations': citations_lst,\n",
    "# #        'Publication Type':publication_type,\n",
    "#         'Authors List':authors_lst, \n",
    "# #        'Published In':published_in, \n",
    "       \n",
    "#        'Published Date' : pub_date_lst,\n",
    "#        'Abstract List':abstract_lst,\n",
    "       }  \n",
    "       \n",
    "df = pd.DataFrame(tmp) \n",
    "    \n",
    "# saving the dataframe \n",
    "# df.to_csv('OUP.csv') \n"
   ]
  },
  {
   "cell_type": "code",
   "execution_count": 53,
   "metadata": {},
   "outputs": [],
   "source": [
    "from selenium import webdriver\n",
    "import time \n",
    "import random\n",
    "\n",
    "def get_page(url):\n",
    "    return driver.get(url)\n",
    "\n",
    "def remove_values_from_list(the_list, val):\n",
    "       return [value for value in the_list if value != val]\n",
    "\n",
    "option = webdriver.ChromeOptions()\n",
    "\n",
    "\n",
    "#Removes navigator.webdriver flag\n",
    "\n",
    "# For older ChromeDriver under version 79.0.3945.16\n",
    "option.add_experimental_option(\"excludeSwitches\", [\"enable-automation\"])\n",
    "option.add_experimental_option('useAutomationExtension', False)\n",
    "\n",
    "#For ChromeDriver version 79.0.3945.16 or over\n",
    "option.add_argument('--disable-blink-features=AutomationControlled')\n",
    "\n",
    "\n",
    "option.add_argument(\"window-size=1280,800\")\n",
    "option.add_argument(\"user-agent=Mozilla/5.0 (Windows NT 10.0; Win64; x64) AppleWebKit/537.36 (KHTML, like Gecko) Chrome/74.0.3729.169 Safari/537.36\")\n",
    "\n",
    "\n",
    "\n",
    "driver = webdriver.Chrome(executable_path='/home/scarlet/Projects/WebDrivers/Chromedriver/chromedriver', options=option)\n",
    "\n",
    "\n",
    "url = 'https://dl.acm.org/action/doSearch?fillQuickSearch=false&target=advanced&ContentItemType=research-article&expand=all&AfterMonth=1&AfterYear=2017&BeforeMonth=12&BeforeYear=2022&AllField=%22digital%22+OR+%22mobile%22+AND+%22third+world%22+OR+%22less+economically%22+AND+%22countries%22+AND+%22mental+illness%22+OR+%22mental+healthcare%22&pageSize=50&startPage=0&sortBy=Ppub_desc'\n",
    "\n",
    "url = 'https://dl.acm.org/action/doSearch?AllField=digital+mental+healthcare&pageSize=50&startPage=&rel=nofollow&ContentItemType=research-article'\n",
    "\n",
    "url = 'https://ieeexplore.ieee.org/search/searchresult.jsp?newsearch=true&queryText=digital%20mental%20healthcare'\n",
    "\n",
    "url = 'https://scholar.google.com/scholar?hl=en&as_sdt=0%2C5&q=digital+mental+healthcare&btnG=&oq=digital+me'\n",
    "\n",
    "url = 'https://www.semanticscholar.org/search?fos%5B0%5D=computer-science&fos%5B1%5D=psychology&q=digital%20mental%20healthcare&sort=influence&page=1'\n",
    "\n",
    "url = 'https://www.cambridge.org/core/search?q=digital%20mental%20healthcare&sort=canonical.date%3Adesc&aggs%5BproductTypes%5D%5Bfilters%5D=JOURNAL_ARTICLE%2CJOURNAL&aggs%5BproductSubject%5D%5Bfilters%5D=15EA497D52C1FA27DD65B6F765D6533B%2C21B42A72BA3E4CB0E3315E5B1B71B07F%2CA57E10708F64FB69CE78C81A5C2A6555'\n",
    "\n",
    "url = 'https://www.emerald.com/insight/search?q=digital%20mental%20healthcare&ipp=50&facet-content-type=article&p=10'\n",
    "\n",
    "url = 'https://academic.oup.com/journals/search-results?page=1&q=digital+mental+healthcare&fl_SiteID=5567&SearchSourceType=1&allJournals=1&sort=Relevance'\n",
    "\n",
    "url = 'https://www.sciencedirect.com/search?qs=digital%20mental%20healthcare&articleTypes=REV%2CFLA&subjectAreas=1700%2C3200&show=100&offset=0'\n",
    "\n",
    "get_page(url)\n",
    "\n",
    "sleep_time = 20\n",
    "time.sleep(sleep_time)\n"
   ]
  },
  {
   "cell_type": "code",
   "execution_count": null,
   "metadata": {},
   "outputs": [],
   "source": [
    "https://www.sciencedirect.com/search?qs=digital%20mental%20healthcare&articleTypes=REV%2CFLA&subjectAreas=1700%2C3200&show=100&offset=0"
   ]
  },
  {
   "cell_type": "code",
   "execution_count": 56,
   "metadata": {},
   "outputs": [
    {
     "data": {
      "text/plain": [
       "'Digital privacy in mental healthcare: current issues and recommendations for technology use'"
      ]
     },
     "execution_count": 56,
     "metadata": {},
     "output_type": "execute_result"
    }
   ],
   "source": [
    "driver.find_element_by_class_name('result-list-title-link').text"
   ]
  },
  {
   "cell_type": "code",
   "execution_count": 58,
   "metadata": {},
   "outputs": [
    {
     "ename": "WebDriverException",
     "evalue": "Message: chrome not reachable\n  (Session info: chrome=84.0.4147.89)\n",
     "output_type": "error",
     "traceback": [
      "\u001b[0;31m---------------------------------------------------------------------------\u001b[0m",
      "\u001b[0;31mWebDriverException\u001b[0m                        Traceback (most recent call last)",
      "\u001b[0;32m<ipython-input-58-50f2cfa8f0d4>\u001b[0m in \u001b[0;36m<module>\u001b[0;34m\u001b[0m\n\u001b[1;32m     16\u001b[0m     \u001b[0mtime\u001b[0m\u001b[0;34m.\u001b[0m\u001b[0msleep\u001b[0m\u001b[0;34m(\u001b[0m\u001b[0msleep_time\u001b[0m\u001b[0;34m)\u001b[0m\u001b[0;34m\u001b[0m\u001b[0;34m\u001b[0m\u001b[0m\n\u001b[1;32m     17\u001b[0m \u001b[0;34m\u001b[0m\u001b[0m\n\u001b[0;32m---> 18\u001b[0;31m     \u001b[0mtmp_titles_lst\u001b[0m \u001b[0;34m=\u001b[0m \u001b[0mdriver\u001b[0m\u001b[0;34m.\u001b[0m\u001b[0mfind_elements_by_class_name\u001b[0m\u001b[0;34m(\u001b[0m\u001b[0;34m'result-list-title-link'\u001b[0m\u001b[0;34m)\u001b[0m\u001b[0;34m\u001b[0m\u001b[0;34m\u001b[0m\u001b[0m\n\u001b[0m\u001b[1;32m     19\u001b[0m \u001b[0;34m\u001b[0m\u001b[0m\n\u001b[1;32m     20\u001b[0m     \u001b[0;32mfor\u001b[0m \u001b[0mi\u001b[0m \u001b[0;32min\u001b[0m \u001b[0mrange\u001b[0m\u001b[0;34m(\u001b[0m\u001b[0mlen\u001b[0m\u001b[0;34m(\u001b[0m\u001b[0mtmp_titles_lst\u001b[0m\u001b[0;34m)\u001b[0m\u001b[0;34m)\u001b[0m\u001b[0;34m:\u001b[0m\u001b[0;34m\u001b[0m\u001b[0;34m\u001b[0m\u001b[0m\n",
      "\u001b[0;32m~/.pyenv/versions/3.8.5/envs/WebAutomationEnv/lib/python3.8/site-packages/selenium/webdriver/remote/webdriver.py\u001b[0m in \u001b[0;36mfind_elements_by_class_name\u001b[0;34m(self, name)\u001b[0m\n\u001b[1;32m    578\u001b[0m             \u001b[0melements\u001b[0m \u001b[0;34m=\u001b[0m \u001b[0mdriver\u001b[0m\u001b[0;34m.\u001b[0m\u001b[0mfind_elements_by_class_name\u001b[0m\u001b[0;34m(\u001b[0m\u001b[0;34m'foo'\u001b[0m\u001b[0;34m)\u001b[0m\u001b[0;34m\u001b[0m\u001b[0;34m\u001b[0m\u001b[0m\n\u001b[1;32m    579\u001b[0m         \"\"\"\n\u001b[0;32m--> 580\u001b[0;31m         \u001b[0;32mreturn\u001b[0m \u001b[0mself\u001b[0m\u001b[0;34m.\u001b[0m\u001b[0mfind_elements\u001b[0m\u001b[0;34m(\u001b[0m\u001b[0mby\u001b[0m\u001b[0;34m=\u001b[0m\u001b[0mBy\u001b[0m\u001b[0;34m.\u001b[0m\u001b[0mCLASS_NAME\u001b[0m\u001b[0;34m,\u001b[0m \u001b[0mvalue\u001b[0m\u001b[0;34m=\u001b[0m\u001b[0mname\u001b[0m\u001b[0;34m)\u001b[0m\u001b[0;34m\u001b[0m\u001b[0;34m\u001b[0m\u001b[0m\n\u001b[0m\u001b[1;32m    581\u001b[0m \u001b[0;34m\u001b[0m\u001b[0m\n\u001b[1;32m    582\u001b[0m     \u001b[0;32mdef\u001b[0m \u001b[0mfind_element_by_css_selector\u001b[0m\u001b[0;34m(\u001b[0m\u001b[0mself\u001b[0m\u001b[0;34m,\u001b[0m \u001b[0mcss_selector\u001b[0m\u001b[0;34m)\u001b[0m\u001b[0;34m:\u001b[0m\u001b[0;34m\u001b[0m\u001b[0;34m\u001b[0m\u001b[0m\n",
      "\u001b[0;32m~/.pyenv/versions/3.8.5/envs/WebAutomationEnv/lib/python3.8/site-packages/selenium/webdriver/remote/webdriver.py\u001b[0m in \u001b[0;36mfind_elements\u001b[0;34m(self, by, value)\u001b[0m\n\u001b[1;32m   1003\u001b[0m         \u001b[0;31m# Return empty list if driver returns null\u001b[0m\u001b[0;34m\u001b[0m\u001b[0;34m\u001b[0m\u001b[0;34m\u001b[0m\u001b[0m\n\u001b[1;32m   1004\u001b[0m         \u001b[0;31m# See https://github.com/SeleniumHQ/selenium/issues/4555\u001b[0m\u001b[0;34m\u001b[0m\u001b[0;34m\u001b[0m\u001b[0;34m\u001b[0m\u001b[0m\n\u001b[0;32m-> 1005\u001b[0;31m         return self.execute(Command.FIND_ELEMENTS, {\n\u001b[0m\u001b[1;32m   1006\u001b[0m             \u001b[0;34m'using'\u001b[0m\u001b[0;34m:\u001b[0m \u001b[0mby\u001b[0m\u001b[0;34m,\u001b[0m\u001b[0;34m\u001b[0m\u001b[0;34m\u001b[0m\u001b[0m\n\u001b[1;32m   1007\u001b[0m             'value': value})['value'] or []\n",
      "\u001b[0;32m~/.pyenv/versions/3.8.5/envs/WebAutomationEnv/lib/python3.8/site-packages/selenium/webdriver/remote/webdriver.py\u001b[0m in \u001b[0;36mexecute\u001b[0;34m(self, driver_command, params)\u001b[0m\n\u001b[1;32m    319\u001b[0m         \u001b[0mresponse\u001b[0m \u001b[0;34m=\u001b[0m \u001b[0mself\u001b[0m\u001b[0;34m.\u001b[0m\u001b[0mcommand_executor\u001b[0m\u001b[0;34m.\u001b[0m\u001b[0mexecute\u001b[0m\u001b[0;34m(\u001b[0m\u001b[0mdriver_command\u001b[0m\u001b[0;34m,\u001b[0m \u001b[0mparams\u001b[0m\u001b[0;34m)\u001b[0m\u001b[0;34m\u001b[0m\u001b[0;34m\u001b[0m\u001b[0m\n\u001b[1;32m    320\u001b[0m         \u001b[0;32mif\u001b[0m \u001b[0mresponse\u001b[0m\u001b[0;34m:\u001b[0m\u001b[0;34m\u001b[0m\u001b[0;34m\u001b[0m\u001b[0m\n\u001b[0;32m--> 321\u001b[0;31m             \u001b[0mself\u001b[0m\u001b[0;34m.\u001b[0m\u001b[0merror_handler\u001b[0m\u001b[0;34m.\u001b[0m\u001b[0mcheck_response\u001b[0m\u001b[0;34m(\u001b[0m\u001b[0mresponse\u001b[0m\u001b[0;34m)\u001b[0m\u001b[0;34m\u001b[0m\u001b[0;34m\u001b[0m\u001b[0m\n\u001b[0m\u001b[1;32m    322\u001b[0m             response['value'] = self._unwrap_value(\n\u001b[1;32m    323\u001b[0m                 response.get('value', None))\n",
      "\u001b[0;32m~/.pyenv/versions/3.8.5/envs/WebAutomationEnv/lib/python3.8/site-packages/selenium/webdriver/remote/errorhandler.py\u001b[0m in \u001b[0;36mcheck_response\u001b[0;34m(self, response)\u001b[0m\n\u001b[1;32m    240\u001b[0m                 \u001b[0malert_text\u001b[0m \u001b[0;34m=\u001b[0m \u001b[0mvalue\u001b[0m\u001b[0;34m[\u001b[0m\u001b[0;34m'alert'\u001b[0m\u001b[0;34m]\u001b[0m\u001b[0;34m.\u001b[0m\u001b[0mget\u001b[0m\u001b[0;34m(\u001b[0m\u001b[0;34m'text'\u001b[0m\u001b[0;34m)\u001b[0m\u001b[0;34m\u001b[0m\u001b[0;34m\u001b[0m\u001b[0m\n\u001b[1;32m    241\u001b[0m             \u001b[0;32mraise\u001b[0m \u001b[0mexception_class\u001b[0m\u001b[0;34m(\u001b[0m\u001b[0mmessage\u001b[0m\u001b[0;34m,\u001b[0m \u001b[0mscreen\u001b[0m\u001b[0;34m,\u001b[0m \u001b[0mstacktrace\u001b[0m\u001b[0;34m,\u001b[0m \u001b[0malert_text\u001b[0m\u001b[0;34m)\u001b[0m\u001b[0;34m\u001b[0m\u001b[0;34m\u001b[0m\u001b[0m\n\u001b[0;32m--> 242\u001b[0;31m         \u001b[0;32mraise\u001b[0m \u001b[0mexception_class\u001b[0m\u001b[0;34m(\u001b[0m\u001b[0mmessage\u001b[0m\u001b[0;34m,\u001b[0m \u001b[0mscreen\u001b[0m\u001b[0;34m,\u001b[0m \u001b[0mstacktrace\u001b[0m\u001b[0;34m)\u001b[0m\u001b[0;34m\u001b[0m\u001b[0;34m\u001b[0m\u001b[0m\n\u001b[0m\u001b[1;32m    243\u001b[0m \u001b[0;34m\u001b[0m\u001b[0m\n\u001b[1;32m    244\u001b[0m     \u001b[0;32mdef\u001b[0m \u001b[0m_value_or_default\u001b[0m\u001b[0;34m(\u001b[0m\u001b[0mself\u001b[0m\u001b[0;34m,\u001b[0m \u001b[0mobj\u001b[0m\u001b[0;34m,\u001b[0m \u001b[0mkey\u001b[0m\u001b[0;34m,\u001b[0m \u001b[0mdefault\u001b[0m\u001b[0;34m)\u001b[0m\u001b[0;34m:\u001b[0m\u001b[0;34m\u001b[0m\u001b[0;34m\u001b[0m\u001b[0m\n",
      "\u001b[0;31mWebDriverException\u001b[0m: Message: chrome not reachable\n  (Session info: chrome=84.0.4147.89)\n"
     ]
    }
   ],
   "source": [
    "cnt = 0\n",
    "titles_lst = []\n",
    "\n",
    "\n",
    "while (cnt < 10000000):\n",
    "#     try:\n",
    "#         next_button =  driver.find_element_by_css_selector('a[aria-label=\"Next page\"]')\n",
    "#         next_button.click()\n",
    "#     except Exception as e:\n",
    "#         print(e)\n",
    "    url = 'https://www.sciencedirect.com/search?qs=digital%20mental%20healthcare&articleTypes=REV%2CFLA&subjectAreas=1700%2C3200&show=100&offset=' + str(cnt)\n",
    "    get_page(url)\n",
    "    \n",
    "    time.sleep(sleep_time)\n",
    "    time.sleep(sleep_time)\n",
    "    time.sleep(sleep_time)\n",
    "\n",
    "    tmp_titles_lst = driver.find_elements_by_class_name('result-list-title-link')\n",
    "\n",
    "    for i in range(len(tmp_titles_lst)):\n",
    "        tmp_titles_lst[i] = tmp_titles_lst[i].text\n",
    "\n",
    "    titles_lst = titles_lst + tmp_titles_lst\n",
    "    \n",
    "    \n",
    "    \n",
    "    cnt = cnt + 100"
   ]
  },
  {
   "cell_type": "code",
   "execution_count": 59,
   "metadata": {},
   "outputs": [
    {
     "data": {
      "text/plain": [
       "1000"
      ]
     },
     "execution_count": 59,
     "metadata": {},
     "output_type": "execute_result"
    }
   ],
   "source": [
    "len(titles_lst)"
   ]
  },
  {
   "cell_type": "code",
   "execution_count": 60,
   "metadata": {},
   "outputs": [],
   "source": [
    "# dictionary of lists  \n",
    "tmp = {'Title': titles_lst, \n",
    "#        'Publisher Info': publisher_info, \n",
    "#         'Citations': citations_lst,\n",
    "# #        'Publication Type':publication_type,\n",
    "#         'Authors List':authors_lst, \n",
    "# #        'Published In':published_in, \n",
    "       \n",
    "#        'Published Date' : pub_date_lst,\n",
    "#        'Abstract List':abstract_lst,\n",
    "       }  \n",
    "       \n",
    "df = pd.DataFrame(tmp) \n",
    "    \n",
    "# saving the dataframe \n",
    "# df.to_csv('Science Direct.csv') \n"
   ]
  },
  {
   "cell_type": "code",
   "execution_count": null,
   "metadata": {},
   "outputs": [],
   "source": []
  }
 ],
 "metadata": {
  "kernelspec": {
   "display_name": "Python 3",
   "language": "python",
   "name": "python3"
  },
  "language_info": {
   "codemirror_mode": {
    "name": "ipython",
    "version": 3
   },
   "file_extension": ".py",
   "mimetype": "text/x-python",
   "name": "python",
   "nbconvert_exporter": "python",
   "pygments_lexer": "ipython3",
   "version": "3.8.5"
  }
 },
 "nbformat": 4,
 "nbformat_minor": 4
}
