{
 "cells": [
  {
   "cell_type": "code",
   "execution_count": 2,
   "metadata": {},
   "outputs": [],
   "source": [
    "#Importing libraries\n",
    "import sys\n",
    "import os\n",
    "import jsonpickle\n",
    "import tweepy"
   ]
  },
  {
   "cell_type": "code",
   "execution_count": 5,
   "metadata": {},
   "outputs": [],
   "source": [
    "consumer_key='4fsyL9GWIQkbXi9hHJcVDpm4L'\n",
    "consumer_secret='ekOHjtbvWCltUTkMX9qC3YwxAZmU9QgnIetKd1hfzMLKP41HIn'\n",
    "access_token_key='149863732-hCncnsL7EDkgaujC5WRZl3oGCYNaaCDttyjcYVxU'\n",
    "access_token_secret='AcELcldQyLIIKz78LLr6JYiscjRBMJKM7b6CLA1gg86rS'\n",
    "\n",
    "access_token = access_token_key\n",
    "access_secret = access_token_secret"
   ]
  },
  {
   "cell_type": "code",
   "execution_count": 6,
   "metadata": {},
   "outputs": [],
   "source": [
    "#Pass our consumer key and consumer secret to Tweepy's user authentication handler\n",
    "auth = tweepy.OAuthHandler(consumer_key, consumer_secret)\n",
    "\n",
    "#Pass our access token and access secret to Tweepy's user authentication handler\n",
    "auth.set_access_token(access_token, access_secret)\n",
    "\n",
    "#Creating a twitter API wrapper using tweepy\n",
    "#Details here http://docs.tweepy.org/en/v3.5.0/api.html\n",
    "api = tweepy.API(auth)\n",
    "\n",
    "#Error handling\n",
    "if (not api):\n",
    "    print (\"Problem connecting to API\")"
   ]
  },
  {
   "cell_type": "code",
   "execution_count": 7,
   "metadata": {},
   "outputs": [],
   "source": [
    "#Switching to application authentication\n",
    "auth = tweepy.AppAuthHandler(consumer_key, consumer_secret)\n",
    "\n",
    "#Setting up new api wrapper, using authentication only\n",
    "api = tweepy.API(auth, wait_on_rate_limit=True,wait_on_rate_limit_notify=True)\n",
    " \n",
    "#Error handling\n",
    "if (not api):\n",
    "    print (\"Problem Connecting to API\")"
   ]
  },
  {
   "cell_type": "code",
   "execution_count": 8,
   "metadata": {},
   "outputs": [
    {
     "data": {
      "text/plain": [
       "{'/search/tweets': {'limit': 450, 'remaining': 450, 'reset': 1521137050}}"
      ]
     },
     "execution_count": 8,
     "metadata": {},
     "output_type": "execute_result"
    }
   ],
   "source": [
    "#You can check how many queries you have left using rate_limit_status() method\n",
    "api.rate_limit_status()['resources']['search']"
   ]
  },
  {
   "cell_type": "code",
   "execution_count": 9,
   "metadata": {},
   "outputs": [],
   "source": [
    "#This is what we are searching for\n",
    "#We can restrict the location of tweets using place:id \n",
    "#We can search for multiple phrases using OR\n",
    "searchQuery = 'place:96683cc9126741d1 #teammystic OR #teaminstinct OR #teamvalor OR' \\\n",
    "              '#teamblue OR #teamyellow OR #teamred OR' \\\n",
    "              '#mystic OR #valor OR #instinct OR' \\\n",
    "              '\"team mystic\" OR \"team valor\" OR \"team instinct\"'"
   ]
  },
  {
   "cell_type": "code",
   "execution_count": 10,
   "metadata": {},
   "outputs": [],
   "source": [
    "searchQuery = 'depression'"
   ]
  },
  {
   "cell_type": "code",
   "execution_count": 11,
   "metadata": {},
   "outputs": [],
   "source": [
    "#Maximum number of tweets we want to collect \n",
    "maxTweets = 1000000"
   ]
  },
  {
   "cell_type": "code",
   "execution_count": 12,
   "metadata": {},
   "outputs": [],
   "source": [
    "#The twitter Search API allows up to 100 tweets per query\n",
    "tweetsPerQry = 100"
   ]
  },
  {
   "cell_type": "code",
   "execution_count": 13,
   "metadata": {},
   "outputs": [
    {
     "name": "stderr",
     "output_type": "stream",
     "text": [
      "Rate limit reached. Sleeping for: 10\n",
      "Rate limit reached. Sleeping for: 73\n",
      "Rate limit reached. Sleeping for: 143\n",
      "Rate limit reached. Sleeping for: 316\n",
      "Rate limit reached. Sleeping for: 305\n",
      "Rate limit reached. Sleeping for: 145\n",
      "Rate limit reached. Sleeping for: 440\n",
      "Rate limit reached. Sleeping for: 360\n",
      "Rate limit reached. Sleeping for: 300\n",
      "Rate limit reached. Sleeping for: 372\n"
     ]
    },
    {
     "name": "stdout",
     "output_type": "stream",
     "text": [
      "Downloaded 199219 tweets\n"
     ]
    }
   ],
   "source": [
    "tweetCount = 0\n",
    "\n",
    "#Open a text file to save the tweets to\n",
    "with open('depression_1.json', 'w') as f:\n",
    "\n",
    "    #Tell the Cursor method that we want to use the Search API (api.search)\n",
    "    #Also tell Cursor our query, and the maximum number of tweets to return\n",
    "    for tweet in tweepy.Cursor(api.search,q=searchQuery).items(maxTweets) :         \n",
    "\n",
    "        #Verify the tweet has place info before writing (It should, if it got past our place filter)\n",
    "#         if tweet.place is not None:\n",
    "            \n",
    "            #Write the JSON format to the text file, and add one to the number of tweets we've collected\n",
    "            f.write(jsonpickle.encode(tweet._json, unpicklable=False) + '\\n')\n",
    "            tweetCount += 1\n",
    "\n",
    "    #Display how many tweets we have collected\n",
    "    print(\"Downloaded {0} tweets\".format(tweetCount))\n"
   ]
  },
  {
   "cell_type": "code",
   "execution_count": 14,
   "metadata": {},
   "outputs": [
    {
     "data": {
      "text/plain": [
       "{'/search/tweets': {'limit': 450, 'remaining': 450, 'reset': 1521168978}}"
      ]
     },
     "execution_count": 14,
     "metadata": {},
     "output_type": "execute_result"
    }
   ],
   "source": [
    "api.rate_limit_status()['resources']['search']"
   ]
  },
  {
   "cell_type": "code",
   "execution_count": null,
   "metadata": {},
   "outputs": [],
   "source": []
  }
 ],
 "metadata": {
  "kernelspec": {
   "display_name": "Python 3",
   "language": "python",
   "name": "python3"
  },
  "language_info": {
   "codemirror_mode": {
    "name": "ipython",
    "version": 3
   },
   "file_extension": ".py",
   "mimetype": "text/x-python",
   "name": "python",
   "nbconvert_exporter": "python",
   "pygments_lexer": "ipython3",
   "version": "3.5.2"
  }
 },
 "nbformat": 4,
 "nbformat_minor": 2
}
