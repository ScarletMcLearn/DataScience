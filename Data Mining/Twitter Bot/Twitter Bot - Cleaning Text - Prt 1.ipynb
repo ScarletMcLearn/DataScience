{
 "cells": [
  {
   "cell_type": "code",
   "execution_count": 1,
   "metadata": {},
   "outputs": [
    {
     "name": "stdout",
     "output_type": "stream",
     "text": [
      "Done!\n"
     ]
    }
   ],
   "source": [
    "import pickle\n",
    "\n",
    "dbfile = open('depression_1.pkle', 'rb')     \n",
    "database = pickle.load(dbfile)\n",
    "\n",
    "dbfile.close()\n",
    "\n",
    "print(\"Done!\")"
   ]
  },
  {
   "cell_type": "code",
   "execution_count": 2,
   "metadata": {},
   "outputs": [
    {
     "data": {
      "text/plain": [
       "{'contributors': None,\n",
       " 'coordinates': None,\n",
       " 'created_at': 'Thu Mar 15 17:55:20 +0000 2018',\n",
       " 'entities': {'hashtags': [],\n",
       "  'symbols': [],\n",
       "  'urls': [],\n",
       "  'user_mentions': [{'id': 1272273181,\n",
       "    'id_str': '1272273181',\n",
       "    'indices': [3, 18],\n",
       "    'name': 'Living Loved',\n",
       "    'screen_name': 'Hannasuewilson'}]},\n",
       " 'favorite_count': 0,\n",
       " 'favorited': False,\n",
       " 'geo': None,\n",
       " 'id': 974343304837042178,\n",
       " 'id_str': '974343304837042178',\n",
       " 'in_reply_to_screen_name': None,\n",
       " 'in_reply_to_status_id': None,\n",
       " 'in_reply_to_status_id_str': None,\n",
       " 'in_reply_to_user_id': None,\n",
       " 'in_reply_to_user_id_str': None,\n",
       " 'is_quote_status': False,\n",
       " 'lang': 'en',\n",
       " 'metadata': {'iso_language_code': 'en', 'result_type': 'recent'},\n",
       " 'place': None,\n",
       " 'retweet_count': 5861,\n",
       " 'retweeted': False,\n",
       " 'retweeted_status': {'contributors': None,\n",
       "  'coordinates': None,\n",
       "  'created_at': 'Wed Mar 14 06:39:01 +0000 2018',\n",
       "  'entities': {'hashtags': [],\n",
       "   'symbols': [],\n",
       "   'urls': [{'display_url': 'twitter.com/i/web/status/9…',\n",
       "     'expanded_url': 'https://twitter.com/i/web/status/973810713079812099',\n",
       "     'indices': [116, 139],\n",
       "     'url': 'https://t.co/zliONTq43T'}],\n",
       "   'user_mentions': []},\n",
       "  'favorite_count': 35122,\n",
       "  'favorited': False,\n",
       "  'geo': None,\n",
       "  'id': 973810713079812099,\n",
       "  'id_str': '973810713079812099',\n",
       "  'in_reply_to_screen_name': None,\n",
       "  'in_reply_to_status_id': None,\n",
       "  'in_reply_to_status_id_str': None,\n",
       "  'in_reply_to_user_id': None,\n",
       "  'in_reply_to_user_id_str': None,\n",
       "  'is_quote_status': False,\n",
       "  'lang': 'en',\n",
       "  'metadata': {'iso_language_code': 'en', 'result_type': 'recent'},\n",
       "  'place': None,\n",
       "  'retweet_count': 5861,\n",
       "  'retweeted': False,\n",
       "  'source': '<a href=\"http://twitter.com/download/iphone\" rel=\"nofollow\">Twitter for iPhone</a>',\n",
       "  'text': 'It’s officially Perfect Girls in Bikinis All Over The Explore Page Season and I will NOT COMPARE MY BODY TO THEIRS… https://t.co/zliONTq43T',\n",
       "  'truncated': True,\n",
       "  'user': {'contributors_enabled': False,\n",
       "   'created_at': 'Sat Mar 16 12:58:01 +0000 2013',\n",
       "   'default_profile': True,\n",
       "   'default_profile_image': False,\n",
       "   'description': 'DBU ZX •writin •journalin •laughin •flower pickin •bell bottoms wearin •crazy worshipin •silly dancin INSTA: spinning_while_my_hans_up !!!!ISAIAH43:19!!!',\n",
       "   'entities': {'description': {'urls': []},\n",
       "    'url': {'urls': [{'display_url': 'gofundme.com/56x1s48',\n",
       "       'expanded_url': 'https://www.gofundme.com/56x1s48',\n",
       "       'indices': [0, 23],\n",
       "       'url': 'https://t.co/81If95GxrN'}]}},\n",
       "   'favourites_count': 55858,\n",
       "   'follow_request_sent': None,\n",
       "   'followers_count': 25705,\n",
       "   'following': None,\n",
       "   'friends_count': 306,\n",
       "   'geo_enabled': True,\n",
       "   'has_extended_profile': True,\n",
       "   'id': 1272273181,\n",
       "   'id_str': '1272273181',\n",
       "   'is_translation_enabled': False,\n",
       "   'is_translator': False,\n",
       "   'lang': 'en',\n",
       "   'listed_count': 75,\n",
       "   'location': 'Dallas tx',\n",
       "   'name': 'Living Loved',\n",
       "   'notifications': None,\n",
       "   'profile_background_color': 'C0DEED',\n",
       "   'profile_background_image_url': 'http://abs.twimg.com/images/themes/theme1/bg.png',\n",
       "   'profile_background_image_url_https': 'https://abs.twimg.com/images/themes/theme1/bg.png',\n",
       "   'profile_background_tile': False,\n",
       "   'profile_banner_url': 'https://pbs.twimg.com/profile_banners/1272273181/1516504099',\n",
       "   'profile_image_url': 'http://pbs.twimg.com/profile_images/973350924931526656/k2M2YbdY_normal.jpg',\n",
       "   'profile_image_url_https': 'https://pbs.twimg.com/profile_images/973350924931526656/k2M2YbdY_normal.jpg',\n",
       "   'profile_link_color': '1DA1F2',\n",
       "   'profile_sidebar_border_color': 'C0DEED',\n",
       "   'profile_sidebar_fill_color': 'DDEEF6',\n",
       "   'profile_text_color': '333333',\n",
       "   'profile_use_background_image': True,\n",
       "   'protected': False,\n",
       "   'screen_name': 'Hannasuewilson',\n",
       "   'statuses_count': 16866,\n",
       "   'time_zone': 'Eastern Time (US & Canada)',\n",
       "   'translator_type': 'none',\n",
       "   'url': 'https://t.co/81If95GxrN',\n",
       "   'utc_offset': -14400,\n",
       "   'verified': False}},\n",
       " 'source': '<a href=\"http://twitter.com/download/iphone\" rel=\"nofollow\">Twitter for iPhone</a>',\n",
       " 'text': 'RT @Hannasuewilson: It’s officially Perfect Girls in Bikinis All Over The Explore Page Season and I will NOT COMPARE MY BODY TO THEIRS AND…',\n",
       " 'truncated': False,\n",
       " 'user': {'contributors_enabled': False,\n",
       "  'created_at': 'Fri Oct 21 14:28:40 +0000 2016',\n",
       "  'default_profile': True,\n",
       "  'default_profile_image': False,\n",
       "  'description': '',\n",
       "  'entities': {'description': {'urls': []}},\n",
       "  'favourites_count': 5083,\n",
       "  'follow_request_sent': None,\n",
       "  'followers_count': 282,\n",
       "  'following': None,\n",
       "  'friends_count': 253,\n",
       "  'geo_enabled': True,\n",
       "  'has_extended_profile': True,\n",
       "  'id': 789473479557017600,\n",
       "  'id_str': '789473479557017600',\n",
       "  'is_translation_enabled': False,\n",
       "  'is_translator': False,\n",
       "  'lang': 'en',\n",
       "  'listed_count': 1,\n",
       "  'location': 'Tullahoma, TN',\n",
       "  'name': 'Laur',\n",
       "  'notifications': None,\n",
       "  'profile_background_color': 'F5F8FA',\n",
       "  'profile_background_image_url': None,\n",
       "  'profile_background_image_url_https': None,\n",
       "  'profile_background_tile': False,\n",
       "  'profile_banner_url': 'https://pbs.twimg.com/profile_banners/789473479557017600/1517255335',\n",
       "  'profile_image_url': 'http://pbs.twimg.com/profile_images/959195910881398784/iAlKitI4_normal.jpg',\n",
       "  'profile_image_url_https': 'https://pbs.twimg.com/profile_images/959195910881398784/iAlKitI4_normal.jpg',\n",
       "  'profile_link_color': '1DA1F2',\n",
       "  'profile_sidebar_border_color': 'C0DEED',\n",
       "  'profile_sidebar_fill_color': 'DDEEF6',\n",
       "  'profile_text_color': '333333',\n",
       "  'profile_use_background_image': True,\n",
       "  'protected': False,\n",
       "  'screen_name': 'lauren__court',\n",
       "  'statuses_count': 1202,\n",
       "  'time_zone': None,\n",
       "  'translator_type': 'none',\n",
       "  'url': None,\n",
       "  'utc_offset': None,\n",
       "  'verified': False}}"
      ]
     },
     "execution_count": 2,
     "metadata": {},
     "output_type": "execute_result"
    }
   ],
   "source": [
    "database[0]"
   ]
  },
  {
   "cell_type": "code",
   "execution_count": 4,
   "metadata": {},
   "outputs": [
    {
     "data": {
      "text/plain": [
       "'974343304837042178'"
      ]
     },
     "execution_count": 4,
     "metadata": {},
     "output_type": "execute_result"
    }
   ],
   "source": [
    "database[0]['id_str']"
   ]
  },
  {
   "cell_type": "code",
   "execution_count": 5,
   "metadata": {},
   "outputs": [
    {
     "data": {
      "text/plain": [
       "'RT @Hannasuewilson: It’s officially Perfect Girls in Bikinis All Over The Explore Page Season and I will NOT COMPARE MY BODY TO THEIRS AND…'"
      ]
     },
     "execution_count": 5,
     "metadata": {},
     "output_type": "execute_result"
    }
   ],
   "source": [
    "database[0]['text']"
   ]
  },
  {
   "cell_type": "code",
   "execution_count": 8,
   "metadata": {},
   "outputs": [
    {
     "name": "stdout",
     "output_type": "stream",
     "text": [
      "974343304837042178 : RT @Hannasuewilson: It’s officially Perfect Girls in Bikinis All Over The Explore Page Season and I will NOT COMPARE MY BODY TO THEIRS AND…\n",
      "\n",
      "974343303595376640 : RT @showupforthis: depression: ...\n",
      "me: ...\n",
      "depression: ...\n",
      "me: ...\n",
      "depression: ...\n",
      "me: ...\n",
      "depression: ...\n",
      "me: ...\n",
      "depression: ...\n",
      "me: ...…\n",
      "\n",
      "974343302899122176 : @jdickie That’s how I operate too. If your friend had been off work for over 2 years fighting depression and anxiet… https://t.co/IRc4hUy5oI\n",
      "\n",
      "974343291679444993 : RT @showupforthis: depression: ...\n",
      "me: ...\n",
      "depression: ...\n",
      "me: ...\n",
      "depression: ...\n",
      "me: ...\n",
      "depression: ...\n",
      "me: ...\n",
      "depression: ...\n",
      "me: ...…\n",
      "\n",
      "974343288865083392 : RT @showupforthis: depression: ...\n",
      "me: ...\n",
      "depression: ...\n",
      "me: ...\n",
      "depression: ...\n",
      "me: ...\n",
      "depression: ...\n",
      "me: ...\n",
      "depression: ...\n",
      "me: ...…\n",
      "\n"
     ]
    }
   ],
   "source": [
    "test_dict = {}\n",
    "\n",
    "for stat in range(0, 5):\n",
    "    iD = database[stat]['id_str']\n",
    "    texT = database[stat]['text']\n",
    "    \n",
    "    print( iD + \" : \" + texT)\n",
    "    print()\n",
    "    \n",
    "    test_dict[iD] = texT"
   ]
  },
  {
   "cell_type": "code",
   "execution_count": 9,
   "metadata": {},
   "outputs": [
    {
     "data": {
      "text/plain": [
       "{'974343288865083392': 'RT @showupforthis: depression: ...\\nme: ...\\ndepression: ...\\nme: ...\\ndepression: ...\\nme: ...\\ndepression: ...\\nme: ...\\ndepression: ...\\nme: ...…',\n",
       " '974343291679444993': 'RT @showupforthis: depression: ...\\nme: ...\\ndepression: ...\\nme: ...\\ndepression: ...\\nme: ...\\ndepression: ...\\nme: ...\\ndepression: ...\\nme: ...…',\n",
       " '974343302899122176': '@jdickie That’s how I operate too. If your friend had been off work for over 2 years fighting depression and anxiet… https://t.co/IRc4hUy5oI',\n",
       " '974343303595376640': 'RT @showupforthis: depression: ...\\nme: ...\\ndepression: ...\\nme: ...\\ndepression: ...\\nme: ...\\ndepression: ...\\nme: ...\\ndepression: ...\\nme: ...…',\n",
       " '974343304837042178': 'RT @Hannasuewilson: It’s officially Perfect Girls in Bikinis All Over The Explore Page Season and I will NOT COMPARE MY BODY TO THEIRS AND…'}"
      ]
     },
     "execution_count": 9,
     "metadata": {},
     "output_type": "execute_result"
    }
   ],
   "source": [
    "test_dict"
   ]
  },
  {
   "cell_type": "code",
   "execution_count": null,
   "metadata": {},
   "outputs": [],
   "source": []
  },
  {
   "cell_type": "code",
   "execution_count": 10,
   "metadata": {},
   "outputs": [
    {
     "data": {
      "text/plain": [
       "199219"
      ]
     },
     "execution_count": 10,
     "metadata": {},
     "output_type": "execute_result"
    }
   ],
   "source": [
    "len(database)"
   ]
  },
  {
   "cell_type": "code",
   "execution_count": 16,
   "metadata": {},
   "outputs": [
    {
     "name": "stdout",
     "output_type": "stream",
     "text": [
      "Done!!!\n"
     ]
    }
   ],
   "source": [
    "id_stat_list = []\n",
    "\n",
    "for stat in range(len(database)):\n",
    "    iD = database[stat]['id_str']\n",
    "    texT = database[stat]['text']\n",
    "    \n",
    "#     print( iD + \" : \" + texT)\n",
    "#     print()\n",
    "    \n",
    "    id_stat_list.append([iD, texT])\n",
    "    \n",
    "print(\"Done!!!\")"
   ]
  },
  {
   "cell_type": "code",
   "execution_count": 17,
   "metadata": {},
   "outputs": [
    {
     "data": {
      "text/plain": [
       "199219"
      ]
     },
     "execution_count": 17,
     "metadata": {},
     "output_type": "execute_result"
    }
   ],
   "source": [
    "len(id_stat_list)"
   ]
  },
  {
   "cell_type": "code",
   "execution_count": 18,
   "metadata": {},
   "outputs": [
    {
     "data": {
      "text/plain": [
       "['974343304837042178',\n",
       " 'RT @Hannasuewilson: It’s officially Perfect Girls in Bikinis All Over The Explore Page Season and I will NOT COMPARE MY BODY TO THEIRS AND…']"
      ]
     },
     "execution_count": 18,
     "metadata": {},
     "output_type": "execute_result"
    }
   ],
   "source": [
    "id_stat_list[0]"
   ]
  },
  {
   "cell_type": "code",
   "execution_count": null,
   "metadata": {},
   "outputs": [],
   "source": []
  },
  {
   "cell_type": "code",
   "execution_count": 19,
   "metadata": {},
   "outputs": [],
   "source": [
    "import pickle"
   ]
  },
  {
   "cell_type": "code",
   "execution_count": 20,
   "metadata": {},
   "outputs": [
    {
     "name": "stdout",
     "output_type": "stream",
     "text": [
      "Done!!!\n"
     ]
    }
   ],
   "source": [
    "# Its important to use binary mode\n",
    "dbfile = open('tweet_stat_id_list', 'ab')\n",
    "     \n",
    "    # source, destination\n",
    "pickle.dump(id_stat_list, dbfile)                  \n",
    "dbfile.close()\n",
    "\n",
    "print(\"Done!!!\")"
   ]
  },
  {
   "cell_type": "code",
   "execution_count": 21,
   "metadata": {},
   "outputs": [],
   "source": []
  },
  {
   "cell_type": "code",
   "execution_count": 22,
   "metadata": {},
   "outputs": [],
   "source": [
    "import nltk\n",
    "\n",
    "def tokenize_text(text):\n",
    "     sentences = nltk.sent_tokenize(text)\n",
    "     word_tokens = [nltk.word_tokenize(sentence) for sentence in sentences]\n",
    "     return word_tokens"
   ]
  },
  {
   "cell_type": "code",
   "execution_count": 26,
   "metadata": {},
   "outputs": [
    {
     "data": {
      "text/plain": [
       "[['x',\n",
       "  \"'s\",\n",
       "  'new',\n",
       "  'album',\n",
       "  'about',\n",
       "  'to',\n",
       "  'be',\n",
       "  'in',\n",
       "  'full',\n",
       "  'depression',\n",
       "  'mode']]"
      ]
     },
     "execution_count": 26,
     "metadata": {},
     "output_type": "execute_result"
    }
   ],
   "source": [
    "tokenize_text(id_stat_list[8][1])"
   ]
  },
  {
   "cell_type": "code",
   "execution_count": 31,
   "metadata": {},
   "outputs": [],
   "source": [
    "import re\n",
    "import string\n",
    "\n",
    "#NEEDS FIXING\n",
    "def remove_characters_after_tokenization(tokens):\n",
    "     pattern = re.compile('[{}]'.format(re.escape(string.punctuation)))\n",
    "     filtered_tokens = filter(None, [pattern.sub('', token) for token in tokens])\n",
    "     return filtered_tokens "
   ]
  },
  {
   "cell_type": "code",
   "execution_count": 37,
   "metadata": {},
   "outputs": [
    {
     "ename": "AttributeError",
     "evalue": "'filter' object has no attribute 'getattribute'",
     "output_type": "error",
     "traceback": [
      "\u001b[0;31m---------------------------------------------------------------------------\u001b[0m",
      "\u001b[0;31mAttributeError\u001b[0m                            Traceback (most recent call last)",
      "\u001b[0;32m<ipython-input-37-9849dff67c96>\u001b[0m in \u001b[0;36m<module>\u001b[0;34m()\u001b[0m\n\u001b[0;32m----> 1\u001b[0;31m \u001b[0;34m(\u001b[0m\u001b[0mremove_characters_after_tokenization\u001b[0m\u001b[0;34m(\u001b[0m\u001b[0;34m'testy'\u001b[0m\u001b[0;34m)\u001b[0m\u001b[0;34m.\u001b[0m\u001b[0mgetattribute\u001b[0m\u001b[0;34m)\u001b[0m\u001b[0;34m\u001b[0m\u001b[0m\n\u001b[0m",
      "\u001b[0;31mAttributeError\u001b[0m: 'filter' object has no attribute 'getattribute'"
     ]
    }
   ],
   "source": [
    "(remove_characters_after_tokenization('testy'))"
   ]
  },
  {
   "cell_type": "code",
   "execution_count": 39,
   "metadata": {},
   "outputs": [],
   "source": [
    "def remove_characters_before_tokenization(sentence,\n",
    "     keep_apostrophes=False):\n",
    "     sentence = sentence.strip()\n",
    "     if keep_apostrophes:\n",
    "         PATTERN = r'[?|$|&|*|%|@|(|)|~]' # add other characters here to remove them\n",
    "         filtered_sentence = re.sub(PATTERN, r'', sentence)\n",
    "     else:\n",
    "         PATTERN = r'[^a-zA-Z0-9 ]' # only extract alpha-numeric characters\n",
    "         filtered_sentence = re.sub(PATTERN, r'', sentence)\n",
    "     return filtered_sentence "
   ]
  },
  {
   "cell_type": "code",
   "execution_count": 41,
   "metadata": {},
   "outputs": [
    {
     "data": {
      "text/plain": [
       "'Test sentence 1 2 3 4 '"
      ]
     },
     "execution_count": 41,
     "metadata": {},
     "output_type": "execute_result"
    }
   ],
   "source": [
    "remove_characters_before_tokenization('Test sentence 1 2 3 4 @')"
   ]
  },
  {
   "cell_type": "code",
   "execution_count": 43,
   "metadata": {},
   "outputs": [],
   "source": [
    "from contractions import CONTRACTION_MAP\n",
    "\n",
    "def expand_contractions(sentence, contraction_mapping):\n",
    "     contractions_pattern = re.compile('({})'.format('|'.join(contraction_mapping.keys())),\n",
    "     flags=re.IGNORECASE|re.DOTALL)\n",
    "     def expand_match(contraction):\n",
    "         match = contraction.group(0)\n",
    "         first_char = match[0]\n",
    "         expanded_contraction = contraction_mapping.get(match)\\\n",
    "             if contraction_mapping.get(match)\\\n",
    "             else contraction_mapping.get(match.lower())\n",
    "         expanded_contraction = first_char+expanded_contraction[1:]\n",
    "         return expanded_contraction\n",
    "     expanded_sentence = contractions_pattern.sub(expand_match, sentence)\n",
    "     return expanded_sentence "
   ]
  },
  {
   "cell_type": "code",
   "execution_count": 45,
   "metadata": {},
   "outputs": [
    {
     "data": {
      "text/plain": [
       "'This is a test sentence. But this is not one. has not she hearten?'"
      ]
     },
     "execution_count": 45,
     "metadata": {},
     "output_type": "execute_result"
    }
   ],
   "source": [
    "expand_contractions(\"This is a test sentence. But this isn't one. hasn't she hearten?\", CONTRACTION_MAP)"
   ]
  },
  {
   "cell_type": "code",
   "execution_count": 47,
   "metadata": {},
   "outputs": [
    {
     "data": {
      "text/plain": [
       "\"this is a test sentence. but this isn't one. hasn't she hearten?\""
      ]
     },
     "execution_count": 47,
     "metadata": {},
     "output_type": "execute_result"
    }
   ],
   "source": [
    "\"This is a test sentence. But this isn't one. hasn't she hearten?\".lower()"
   ]
  },
  {
   "cell_type": "code",
   "execution_count": 49,
   "metadata": {},
   "outputs": [],
   "source": [
    "def remove_stopwords(tokens):\n",
    "     stopword_list = nltk.corpus.stopwords.words('english')\n",
    "     filtered_tokens = [token for token in tokens if token not in stopword_list]\n",
    "     return filtered_tokens "
   ]
  },
  {
   "cell_type": "code",
   "execution_count": 52,
   "metadata": {},
   "outputs": [
    {
     "data": {
      "text/plain": [
       "['test', 'sentence', '.', \"n't\", 'one', '.', \"n't\", 'hearten', '?']"
      ]
     },
     "execution_count": 52,
     "metadata": {},
     "output_type": "execute_result"
    }
   ],
   "source": [
    "remove_stopwords(nltk.word_tokenize(\"This is a test sentence. But this isn't one. hasn't she hearten?\".lower()))"
   ]
  },
  {
   "cell_type": "code",
   "execution_count": null,
   "metadata": {},
   "outputs": [],
   "source": []
  }
 ],
 "metadata": {
  "kernelspec": {
   "display_name": "Python 3",
   "language": "python",
   "name": "python3"
  },
  "language_info": {
   "codemirror_mode": {
    "name": "ipython",
    "version": 3
   },
   "file_extension": ".py",
   "mimetype": "text/x-python",
   "name": "python",
   "nbconvert_exporter": "python",
   "pygments_lexer": "ipython3",
   "version": "3.5.2"
  }
 },
 "nbformat": 4,
 "nbformat_minor": 2
}
