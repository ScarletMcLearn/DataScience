{
 "cells": [
  {
   "cell_type": "code",
   "execution_count": 1,
   "metadata": {},
   "outputs": [],
   "source": [
    "import twitter"
   ]
  },
  {
   "cell_type": "code",
   "execution_count": 2,
   "metadata": {},
   "outputs": [],
   "source": [
    "api = twitter.Api(consumer_key='4fsyL9GWIQkbXi9hHJcVDpm4L',\n",
    "                      consumer_secret='ekOHjtbvWCltUTkMX9qC3YwxAZmU9QgnIetKd1hfzMLKP41HIn',\n",
    "                      access_token_key='149863732-hCncnsL7EDkgaujC5WRZl3oGCYNaaCDttyjcYVxU',\n",
    "                      access_token_secret='AcELcldQyLIIKz78LLr6JYiscjRBMJKM7b6CLA1gg86rS')"
   ]
  },
  {
   "cell_type": "code",
   "execution_count": 11,
   "metadata": {},
   "outputs": [
    {
     "name": "stdout",
     "output_type": "stream",
     "text": [
      "{\"created_at\": \"Sun May 30 12:36:34 +0000 2010\", \"favourites_count\": 110, \"followers_count\": 62, \"friends_count\": 118, \"id\": 149863732, \"lang\": \"en\", \"listed_count\": 2, \"name\": \"Essence Primus\", \"profile_background_color\": \"000000\", \"profile_background_image_url\": \"http://abs.twimg.com/images/themes/theme1/bg.png\", \"profile_banner_url\": \"https://pbs.twimg.com/profile_banners/149863732/1520207671\", \"profile_image_url\": \"http://pbs.twimg.com/profile_images/970447491282841600/QWPlQw5r_normal.jpg\", \"profile_link_color\": \"FAB81E\", \"profile_sidebar_fill_color\": \"000000\", \"profile_text_color\": \"000000\", \"screen_name\": \"essenceprimus\", \"status\": {\"created_at\": \"Tue Mar 13 12:52:58 +0000 2018\", \"id\": 973542434796847106, \"id_str\": \"973542434796847106\", \"lang\": \"und\", \"source\": \"<a href=\\\"http://www.facebook.com/twitter\\\" rel=\\\"nofollow\\\">Facebook</a>\", \"text\": \"https://t.co/K0nBM0ub1B\"}, \"statuses_count\": 36168, \"time_zone\": \"Pacific Time (US & Canada)\", \"utc_offset\": -25200}\n"
     ]
    }
   ],
   "source": [
    "import pprint\n",
    "\n",
    "print(api.VerifyCredentials())"
   ]
  },
  {
   "cell_type": "code",
   "execution_count": null,
   "metadata": {},
   "outputs": [],
   "source": []
  }
 ],
 "metadata": {
  "kernelspec": {
   "display_name": "Python 3",
   "language": "python",
   "name": "python3"
  },
  "language_info": {
   "codemirror_mode": {
    "name": "ipython",
    "version": 3
   },
   "file_extension": ".py",
   "mimetype": "text/x-python",
   "name": "python",
   "nbconvert_exporter": "python",
   "pygments_lexer": "ipython3",
   "version": "3.5.2"
  }
 },
 "nbformat": 4,
 "nbformat_minor": 2
}
