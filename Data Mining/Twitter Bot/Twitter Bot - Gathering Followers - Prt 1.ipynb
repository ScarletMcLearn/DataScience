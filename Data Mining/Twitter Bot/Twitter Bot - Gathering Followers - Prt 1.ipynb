{
 "cells": [
  {
   "cell_type": "code",
   "execution_count": 1,
   "metadata": {},
   "outputs": [],
   "source": [
    "import twitter"
   ]
  },
  {
   "cell_type": "code",
   "execution_count": 2,
   "metadata": {},
   "outputs": [],
   "source": [
    "api = twitter.Api(consumer_key='4fsyL9GWIQkbXi9hHJcVDpm4L',\n",
    "                      consumer_secret='ekOHjtbvWCltUTkMX9qC3YwxAZmU9QgnIetKd1hfzMLKP41HIn',\n",
    "                      access_token_key='149863732-hCncnsL7EDkgaujC5WRZl3oGCYNaaCDttyjcYVxU',\n",
    "                      access_token_secret='AcELcldQyLIIKz78LLr6JYiscjRBMJKM7b6CLA1gg86rS')"
   ]
  },
  {
   "cell_type": "code",
   "execution_count": 11,
   "metadata": {},
   "outputs": [
    {
     "name": "stdout",
     "output_type": "stream",
     "text": [
      "{\"created_at\": \"Sun May 30 12:36:34 +0000 2010\", \"favourites_count\": 110, \"followers_count\": 62, \"friends_count\": 118, \"id\": 149863732, \"lang\": \"en\", \"listed_count\": 2, \"name\": \"Essence Primus\", \"profile_background_color\": \"000000\", \"profile_background_image_url\": \"http://abs.twimg.com/images/themes/theme1/bg.png\", \"profile_banner_url\": \"https://pbs.twimg.com/profile_banners/149863732/1520207671\", \"profile_image_url\": \"http://pbs.twimg.com/profile_images/970447491282841600/QWPlQw5r_normal.jpg\", \"profile_link_color\": \"FAB81E\", \"profile_sidebar_fill_color\": \"000000\", \"profile_text_color\": \"000000\", \"screen_name\": \"essenceprimus\", \"status\": {\"created_at\": \"Tue Mar 13 12:52:58 +0000 2018\", \"id\": 973542434796847106, \"id_str\": \"973542434796847106\", \"lang\": \"und\", \"source\": \"<a href=\\\"http://www.facebook.com/twitter\\\" rel=\\\"nofollow\\\">Facebook</a>\", \"text\": \"https://t.co/K0nBM0ub1B\"}, \"statuses_count\": 36168, \"time_zone\": \"Pacific Time (US & Canada)\", \"utc_offset\": -25200}\n"
     ]
    }
   ],
   "source": [
    "import pprint\n",
    "\n",
    "print(api.VerifyCredentials())"
   ]
  },
  {
   "cell_type": "code",
   "execution_count": 52,
   "metadata": {},
   "outputs": [],
   "source": [
    "d_tweets_1 = api.GetSearch(raw_query='l=en&q=depression&src=typd', count=100)"
   ]
  },
  {
   "cell_type": "code",
   "execution_count": 54,
   "metadata": {},
   "outputs": [
    {
     "name": "stdout",
     "output_type": "stream",
     "text": [
      "Help on method GetSearch in module twitter.api:\n",
      "\n",
      "GetSearch(term=None, raw_query=None, geocode=None, since_id=None, max_id=None, until=None, since=None, count=15, lang=None, locale=None, result_type='mixed', include_entities=None) method of twitter.api.Api instance\n",
      "    Return twitter search results for a given term. You must specify one\n",
      "    of term, geocode, or raw_query.\n",
      "    \n",
      "    Args:\n",
      "      term (str, optional):\n",
      "        Term to search by. Optional if you include geocode.\n",
      "      raw_query (str, optional):\n",
      "        A raw query as a string. This should be everything after the \"?\" in\n",
      "        the URL (i.e., the query parameters). You are responsible for all\n",
      "        type checking and ensuring that the query string is properly\n",
      "        formatted, as it will only be URL-encoded before be passed directly\n",
      "        to Twitter with no other checks performed. For advanced usage only.\n",
      "        *This will override any other parameters passed*\n",
      "      since_id (int, optional):\n",
      "        Returns results with an ID greater than (that is, more recent\n",
      "        than) the specified ID. There are limits to the number of\n",
      "        Tweets which can be accessed through the API. If the limit of\n",
      "        Tweets has occurred since the since_id, the since_id will be\n",
      "        forced to the oldest ID available.\n",
      "      max_id (int, optional):\n",
      "        Returns only statuses with an ID less than (that is, older\n",
      "        than) or equal to the specified ID.\n",
      "      until (str, optional):\n",
      "        Returns tweets generated before the given date. Date should be\n",
      "        formatted as YYYY-MM-DD.\n",
      "      since (str, optional):\n",
      "        Returns tweets generated since the given date. Date should be\n",
      "        formatted as YYYY-MM-DD.\n",
      "      geocode (str or list or tuple, optional):\n",
      "        Geolocation within which to search for tweets. Can be either a\n",
      "        string in the form of \"latitude,longitude,radius\" where latitude\n",
      "        and longitude are floats and radius is a string such as \"1mi\" or\n",
      "        \"1km\" (\"mi\" or \"km\" are the only units allowed). For example:\n",
      "          >>> api.GetSearch(geocode=\"37.781157,-122.398720,1mi\").\n",
      "        Otherwise, you can pass a list of either floats or strings for\n",
      "        lat/long and a string for radius:\n",
      "          >>> api.GetSearch(geocode=[37.781157, -122.398720, \"1mi\"])\n",
      "          >>> # or:\n",
      "          >>> api.GetSearch(geocode=(37.781157, -122.398720, \"1mi\"))\n",
      "          >>> # or:\n",
      "          >>> api.GetSearch(geocode=(\"37.781157\", \"-122.398720\", \"1mi\"))\n",
      "      count (int, optional):\n",
      "        Number of results to return.  Default is 15 and maxmimum that\n",
      "        Twitter returns is 100 irrespective of what you type in.\n",
      "      lang (str, optional):\n",
      "        Language for results as ISO 639-1 code.  Default is None\n",
      "        (all languages).\n",
      "      locale (str, optional):\n",
      "        Language of the search query. Currently only 'ja' is effective.\n",
      "        This is intended for language-specific consumers and the default\n",
      "        should work in the majority of cases.\n",
      "      result_type (str, optional):\n",
      "        Type of result which should be returned. Default is \"mixed\".\n",
      "        Valid options are \"mixed, \"recent\", and \"popular\".\n",
      "      include_entities (bool, optional):\n",
      "        If True, each tweet will include a node called \"entities\".\n",
      "        This node offers a variety of metadata about the tweet in a\n",
      "        discrete structure, including: user_mentions, urls, and\n",
      "        hashtags.\n",
      "    \n",
      "    Returns:\n",
      "      list: A sequence of twitter.Status instances, one for each message\n",
      "      containing the term, within the bounds of the geocoded area, or\n",
      "      given by the raw_query.\n",
      "\n"
     ]
    }
   ],
   "source": [
    "help(api.GetSearch)"
   ]
  },
  {
   "cell_type": "code",
   "execution_count": 53,
   "metadata": {},
   "outputs": [
    {
     "data": {
      "text/plain": [
       "15"
      ]
     },
     "execution_count": 53,
     "metadata": {},
     "output_type": "execute_result"
    }
   ],
   "source": [
    "len(d_tweets_1)"
   ]
  },
  {
   "cell_type": "code",
   "execution_count": 23,
   "metadata": {},
   "outputs": [
    {
     "data": {
      "text/plain": [
       "'RT @SethEverman: once i fix my sleep schedule, start eating healthy, get physically fit, beat depression, stop procrastinating, learn how t…'"
      ]
     },
     "execution_count": 23,
     "metadata": {},
     "output_type": "execute_result"
    }
   ],
   "source": [
    "import pprint\n",
    "\n",
    "d_tweets_1[4].text"
   ]
  },
  {
   "cell_type": "code",
   "execution_count": 24,
   "metadata": {},
   "outputs": [
    {
     "data": {
      "text/plain": [
       "'RT @yungscum: what i need is someone playing with my hair but what i have is depression'"
      ]
     },
     "execution_count": 24,
     "metadata": {},
     "output_type": "execute_result"
    }
   ],
   "source": [
    "d_tweets_1[3].text"
   ]
  },
  {
   "cell_type": "code",
   "execution_count": 25,
   "metadata": {},
   "outputs": [
    {
     "data": {
      "text/plain": [
       "'RT @cheating: in case u needed to hear this today, u aren’t less of a person b/c u have panic attacks. u aren’t less of a person b/c u have…'"
      ]
     },
     "execution_count": 25,
     "metadata": {},
     "output_type": "execute_result"
    }
   ],
   "source": [
    "d_tweets_1[5].text"
   ]
  },
  {
   "cell_type": "code",
   "execution_count": 29,
   "metadata": {},
   "outputs": [
    {
     "data": {
      "text/plain": [
       "{'created_at': 'Thu Mar 15 08:58:50 +0000 2018',\n",
       " 'hashtags': [],\n",
       " 'id': 974208288421105664,\n",
       " 'id_str': '974208288421105664',\n",
       " 'lang': 'en',\n",
       " 'retweet_count': 2095,\n",
       " 'retweeted_status': {'created_at': 'Wed Mar 14 01:28:03 +0000 2018',\n",
       "  'favorite_count': 5005,\n",
       "  'hashtags': [],\n",
       "  'id': 973732457752203264,\n",
       "  'id_str': '973732457752203264',\n",
       "  'lang': 'en',\n",
       "  'retweet_count': 2095,\n",
       "  'source': '<a href=\"http://twitter.com\" rel=\"nofollow\">Twitter Web Client</a>',\n",
       "  'text': 'in case u needed to hear this today, u aren’t less of a person b/c u have panic attacks. u aren’t less of a person… https://t.co/PEK7L0lkGH',\n",
       "  'truncated': True,\n",
       "  'urls': [{'expanded_url': 'https://twitter.com/i/web/status/973732457752203264',\n",
       "    'url': 'https://t.co/PEK7L0lkGH'}],\n",
       "  'user': {'created_at': 'Sun Aug 28 23:06:20 +0000 2016',\n",
       "   'default_profile': True,\n",
       "   'description': 'if you loved me why was it so easy for you to leave me',\n",
       "   'favourites_count': 62,\n",
       "   'followers_count': 34247,\n",
       "   'friends_count': 9527,\n",
       "   'id': 770034811276845057,\n",
       "   'lang': 'en',\n",
       "   'listed_count': 274,\n",
       "   'location': 'Turn on notifications 💞',\n",
       "   'name': '𝓫𝓸𝓸',\n",
       "   'profile_background_color': 'F5F8FA',\n",
       "   'profile_banner_url': 'https://pbs.twimg.com/profile_banners/770034811276845057/1513818988',\n",
       "   'profile_image_url': 'http://pbs.twimg.com/profile_images/962586471784943617/U0wTlRof_normal.jpg',\n",
       "   'profile_link_color': '1DA1F2',\n",
       "   'profile_sidebar_fill_color': 'DDEEF6',\n",
       "   'profile_text_color': '333333',\n",
       "   'screen_name': 'cheating',\n",
       "   'statuses_count': 76,\n",
       "   'time_zone': 'Pacific Time (US & Canada)',\n",
       "   'utc_offset': -25200},\n",
       "  'user_mentions': []},\n",
       " 'source': '<a href=\"http://twitter.com/download/iphone\" rel=\"nofollow\">Twitter for iPhone</a>',\n",
       " 'text': 'RT @cheating: in case u needed to hear this today, u aren’t less of a person b/c u have panic attacks. u aren’t less of a person b/c u have…',\n",
       " 'urls': [],\n",
       " 'user': {'created_at': 'Mon Mar 31 14:23:17 +0000 2014',\n",
       "  'description': 'Hopefully I could sleep and never wake up',\n",
       "  'favourites_count': 2559,\n",
       "  'followers_count': 244,\n",
       "  'friends_count': 343,\n",
       "  'geo_enabled': True,\n",
       "  'id': 2420613722,\n",
       "  'lang': 'en',\n",
       "  'listed_count': 2,\n",
       "  'location': 'Malaysia',\n",
       "  'name': 'Veeknesh✨',\n",
       "  'profile_background_color': '000000',\n",
       "  'profile_background_image_url': 'http://abs.twimg.com/images/themes/theme1/bg.png',\n",
       "  'profile_banner_url': 'https://pbs.twimg.com/profile_banners/2420613722/1521044522',\n",
       "  'profile_image_url': 'http://pbs.twimg.com/profile_images/973953004989632515/3CxU9LLS_normal.jpg',\n",
       "  'profile_link_color': '4A913C',\n",
       "  'profile_sidebar_fill_color': '000000',\n",
       "  'profile_text_color': '000000',\n",
       "  'screen_name': 'Veeknesh_Nesh',\n",
       "  'statuses_count': 3656,\n",
       "  'time_zone': 'Krasnoyarsk',\n",
       "  'utc_offset': 25200},\n",
       " 'user_mentions': [{'id': 770034811276845057,\n",
       "   'name': '𝓫𝓸𝓸',\n",
       "   'screen_name': 'cheating'}]}"
      ]
     },
     "execution_count": 29,
     "metadata": {},
     "output_type": "execute_result"
    }
   ],
   "source": [
    "(d_tweets_1[5]).AsDict()"
   ]
  },
  {
   "cell_type": "code",
   "execution_count": 30,
   "metadata": {},
   "outputs": [],
   "source": [
    "def jsonify_tweets(name, tweets):\n",
    "    data = {} \n",
    "    data[name] = []  \n",
    "\n",
    "\n",
    "    for stat in tweets:\n",
    "        data[name].append(stat.AsJsonString())\n",
    "    \n",
    "    return data"
   ]
  },
  {
   "cell_type": "code",
   "execution_count": 31,
   "metadata": {},
   "outputs": [],
   "source": [
    "d_twt_json_1 = jsonify_tweets('depression_1', d_tweets_1)"
   ]
  },
  {
   "cell_type": "code",
   "execution_count": 35,
   "metadata": {},
   "outputs": [
    {
     "data": {
      "text/plain": [
       "dict"
      ]
     },
     "execution_count": 35,
     "metadata": {},
     "output_type": "execute_result"
    }
   ],
   "source": [
    "type(d_twt_json_1)"
   ]
  },
  {
   "cell_type": "code",
   "execution_count": 36,
   "metadata": {},
   "outputs": [
    {
     "data": {
      "text/plain": [
       "{'depression_1': ['{\"created_at\": \"Thu Mar 15 08:58:59 +0000 2018\", \"hashtags\": [], \"id\": 974208324643192832, \"id_str\": \"974208324643192832\", \"lang\": \"en\", \"retweet_count\": 27894, \"retweeted_status\": {\"created_at\": \"Tue Mar 13 21:40:24 +0000 2018\", \"favorite_count\": 90373, \"hashtags\": [], \"id\": 973675167229489152, \"id_str\": \"973675167229489152\", \"lang\": \"en\", \"retweet_count\": 27894, \"source\": \"<a href=\\\\\"http://twitter.com/download/android\\\\\" rel=\\\\\"nofollow\\\\\">Twitter for Android</a>\", \"text\": \"depression: ...\\\\nme: ...\\\\ndepression: ...\\\\nme: ...\\\\ndepression: ...\\\\nme: ...\\\\ndepression: ...\\\\nme: ...\\\\ndepression: ...\\\\nme:\\\\u2026 https://t.co/tsVCrRS6qs\", \"truncated\": true, \"urls\": [{\"expanded_url\": \"https://twitter.com/i/web/status/973675167229489152\", \"url\": \"https://t.co/tsVCrRS6qs\"}], \"user\": {\"created_at\": \"Fri Jul 08 05:43:18 +0000 2016\", \"description\": \"Lapsed punk kid. Queer. Poet. Storyteller. she/her.\\\\n\\\\nI\\'ll hold that hope for you, if it\\'s too heavy a burden. I\\'m glad you\\'re here.\\\\n\\\\n#ShowUpForWishes\", \"favourites_count\": 129484, \"followers_count\": 4141, \"friends_count\": 516, \"id\": 751290541707390976, \"lang\": \"en\", \"listed_count\": 101, \"location\": \"United States\", \"name\": \"gin.\", \"profile_background_color\": \"000000\", \"profile_background_image_url\": \"http://abs.twimg.com/images/themes/theme1/bg.png\", \"profile_banner_url\": \"https://pbs.twimg.com/profile_banners/751290541707390976/1518322667\", \"profile_image_url\": \"http://pbs.twimg.com/profile_images/964559910531821568/W6fJr9pS_normal.jpg\", \"profile_link_color\": \"5D041B\", \"profile_sidebar_fill_color\": \"000000\", \"profile_text_color\": \"000000\", \"screen_name\": \"showupforthis\", \"statuses_count\": 99863, \"url\": \"https://t.co/7CJ8u44xsY\"}, \"user_mentions\": []}, \"source\": \"<a href=\\\\\"http://twitter.com/download/android\\\\\" rel=\\\\\"nofollow\\\\\">Twitter for Android</a>\", \"text\": \"RT @showupforthis: depression: ...\\\\nme: ...\\\\ndepression: ...\\\\nme: ...\\\\ndepression: ...\\\\nme: ...\\\\ndepression: ...\\\\nme: ...\\\\ndepression: ...\\\\nme: ...\\\\u2026\", \"urls\": [], \"user\": {\"created_at\": \"Fri Apr 08 17:25:30 +0000 2011\", \"description\": \"God bless your dirty soul \\\\t|-/\\\\t\\\\t[stan account] \\\\n                       \\\\ud83c\\\\uddf5\\\\ud83c\\\\uddf9           \\\\t \\\\nonly nineteen but my mind is older                @FCporto\", \"favourites_count\": 99434, \"followers_count\": 3642, \"friends_count\": 3456, \"geo_enabled\": true, \"id\": 279140476, \"lang\": \"en\", \"listed_count\": 39, \"location\": \"Springfield \\\\ud83c\\\\udf08\", \"name\": \"pat \\\\ud83d\\\\udc7e\", \"profile_background_color\": \"050A0D\", \"profile_background_image_url\": \"http://pbs.twimg.com/profile_background_images/631119215701950465/XhnWh8zA.jpg\", \"profile_background_tile\": true, \"profile_banner_url\": \"https://pbs.twimg.com/profile_banners/279140476/1518481722\", \"profile_image_url\": \"http://pbs.twimg.com/profile_images/963207348323053569/2qSijYIP_normal.jpg\", \"profile_link_color\": \"EEC4CF\", \"profile_sidebar_fill_color\": \"EFEFEF\", \"profile_text_color\": \"333333\", \"screen_name\": \"reurilove\", \"statuses_count\": 75027, \"time_zone\": \"Lisbon\", \"url\": \"https://t.co/MuUZbbG8cF\"}, \"user_mentions\": [{\"id\": 751290541707390976, \"name\": \"gin.\", \"screen_name\": \"showupforthis\"}]}',\n",
       "  '{\"created_at\": \"Thu Mar 15 08:58:54 +0000 2018\", \"hashtags\": [], \"id\": 974208304212795393, \"id_str\": \"974208304212795393\", \"in_reply_to_screen_name\": \"pearcy3000\", \"in_reply_to_status_id\": 974207588974972933, \"in_reply_to_user_id\": 3087679161, \"lang\": \"en\", \"source\": \"<a href=\\\\\"http://twitter.com/download/iphone\\\\\" rel=\\\\\"nofollow\\\\\">Twitter for iPhone</a>\", \"text\": \"Dont usally rite tweets with out fully understanding the situation not really up with news or politics dont watch i\\\\u2026 https://t.co/IJo4faMrU2\", \"truncated\": true, \"urls\": [{\"expanded_url\": \"https://twitter.com/i/web/status/974208304212795393\", \"url\": \"https://t.co/IJo4faMrU2\"}], \"user\": {\"created_at\": \"Thu Mar 12 01:48:32 +0000 2015\", \"default_profile\": true, \"description\": \"my tweets are my opinions not of my employers\", \"favourites_count\": 953, \"followers_count\": 98, \"friends_count\": 261, \"geo_enabled\": true, \"id\": 3087679161, \"lang\": \"en\", \"listed_count\": 4, \"location\": \"Portsmouth\", \"name\": \"Pearcy3000\", \"profile_background_color\": \"C0DEED\", \"profile_background_image_url\": \"http://abs.twimg.com/images/themes/theme1/bg.png\", \"profile_banner_url\": \"https://pbs.twimg.com/profile_banners/3087679161/1490887191\", \"profile_image_url\": \"http://pbs.twimg.com/profile_images/862338722360111104/DEtvS73g_normal.jpg\", \"profile_link_color\": \"1DA1F2\", \"profile_sidebar_fill_color\": \"DDEEF6\", \"profile_text_color\": \"333333\", \"screen_name\": \"pearcy3000\", \"statuses_count\": 4467}, \"user_mentions\": []}',\n",
       "  '{\"created_at\": \"Thu Mar 15 08:58:52 +0000 2018\", \"hashtags\": [], \"id\": 974208296512040960, \"id_str\": \"974208296512040960\", \"lang\": \"en\", \"retweet_count\": 27890, \"retweeted_status\": {\"created_at\": \"Tue Mar 13 21:40:24 +0000 2018\", \"favorite_count\": 90362, \"hashtags\": [], \"id\": 973675167229489152, \"id_str\": \"973675167229489152\", \"lang\": \"en\", \"retweet_count\": 27890, \"source\": \"<a href=\\\\\"http://twitter.com/download/android\\\\\" rel=\\\\\"nofollow\\\\\">Twitter for Android</a>\", \"text\": \"depression: ...\\\\nme: ...\\\\ndepression: ...\\\\nme: ...\\\\ndepression: ...\\\\nme: ...\\\\ndepression: ...\\\\nme: ...\\\\ndepression: ...\\\\nme:\\\\u2026 https://t.co/tsVCrRS6qs\", \"truncated\": true, \"urls\": [{\"expanded_url\": \"https://twitter.com/i/web/status/973675167229489152\", \"url\": \"https://t.co/tsVCrRS6qs\"}], \"user\": {\"created_at\": \"Fri Jul 08 05:43:18 +0000 2016\", \"description\": \"Lapsed punk kid. Queer. Poet. Storyteller. she/her.\\\\n\\\\nI\\'ll hold that hope for you, if it\\'s too heavy a burden. I\\'m glad you\\'re here.\\\\n\\\\n#ShowUpForWishes\", \"favourites_count\": 129484, \"followers_count\": 4141, \"friends_count\": 516, \"id\": 751290541707390976, \"lang\": \"en\", \"listed_count\": 101, \"location\": \"United States\", \"name\": \"gin.\", \"profile_background_color\": \"000000\", \"profile_background_image_url\": \"http://abs.twimg.com/images/themes/theme1/bg.png\", \"profile_banner_url\": \"https://pbs.twimg.com/profile_banners/751290541707390976/1518322667\", \"profile_image_url\": \"http://pbs.twimg.com/profile_images/964559910531821568/W6fJr9pS_normal.jpg\", \"profile_link_color\": \"5D041B\", \"profile_sidebar_fill_color\": \"000000\", \"profile_text_color\": \"000000\", \"screen_name\": \"showupforthis\", \"statuses_count\": 99863, \"url\": \"https://t.co/7CJ8u44xsY\"}, \"user_mentions\": []}, \"source\": \"<a href=\\\\\"http://twitter.com/download/iphone\\\\\" rel=\\\\\"nofollow\\\\\">Twitter for iPhone</a>\", \"text\": \"RT @showupforthis: depression: ...\\\\nme: ...\\\\ndepression: ...\\\\nme: ...\\\\ndepression: ...\\\\nme: ...\\\\ndepression: ...\\\\nme: ...\\\\ndepression: ...\\\\nme: ...\\\\u2026\", \"urls\": [], \"user\": {\"created_at\": \"Tue May 22 16:20:00 +0000 2012\", \"description\": \"19 | st mary\\'s university | writer | fulham fc\", \"favourites_count\": 54608, \"followers_count\": 735, \"friends_count\": 813, \"geo_enabled\": true, \"id\": 587546950, \"lang\": \"en\", \"listed_count\": 6, \"location\": \"Worcester Park, Surrey\", \"name\": \"laura\", \"profile_background_color\": \"DBE9ED\", \"profile_background_image_url\": \"http://pbs.twimg.com/profile_background_images/378800000026215120/aadb49656ea05c7860c398f1fe311917.jpeg\", \"profile_background_tile\": true, \"profile_image_url\": \"http://pbs.twimg.com/profile_images/950485032833085441/5_CfD22L_normal.jpg\", \"profile_link_color\": \"CC3366\", \"profile_sidebar_fill_color\": \"E6F6F9\", \"profile_text_color\": \"333333\", \"screen_name\": \"_laura3lizabeth\", \"statuses_count\": 5968, \"time_zone\": \"London\"}, \"user_mentions\": [{\"id\": 751290541707390976, \"name\": \"gin.\", \"screen_name\": \"showupforthis\"}]}',\n",
       "  '{\"created_at\": \"Thu Mar 15 08:58:52 +0000 2018\", \"hashtags\": [], \"id\": 974208295136264192, \"id_str\": \"974208295136264192\", \"lang\": \"en\", \"retweet_count\": 3, \"retweeted_status\": {\"created_at\": \"Thu Mar 15 08:58:08 +0000 2018\", \"favorite_count\": 3, \"hashtags\": [], \"id\": 974208112570728448, \"id_str\": \"974208112570728448\", \"lang\": \"en\", \"retweet_count\": 3, \"source\": \"<a href=\\\\\"http://twitter.com/download/iphone\\\\\" rel=\\\\\"nofollow\\\\\">Twitter for iPhone</a>\", \"text\": \"what i need is someone playing with my hair but what i have is depression\", \"urls\": [], \"user\": {\"created_at\": \"Sun Oct 17 00:18:28 +0000 2010\", \"description\": \"emotionally attached to my hydroflask and small dog \\\\u2022 @friedpickleluvr \\\\ud83c\\\\udff3\\\\ufe0f\\\\u200d\\\\ud83c\\\\udf08  private: @sleeepyhoe\", \"favourites_count\": 89083, \"followers_count\": 4146, \"friends_count\": 651, \"geo_enabled\": true, \"id\": 203729443, \"lang\": \"en\", \"listed_count\": 119, \"location\": \"AZ\\\\u202222\", \"name\": \"\\\\ud835\\\\udcff\\\\ud835\\\\udcee\\\\ud835\\\\udcf0\\\\ud835\\\\udcea\\\\ud835\\\\udcf7 \\\\ud835\\\\udcfd\\\\ud835\\\\udcf1\\\\ud835\\\\udcf8\\\\ud835\\\\udcfd\", \"profile_background_color\": \"0099B9\", \"profile_background_image_url\": \"http://pbs.twimg.com/profile_background_images/378800000053159068/f2b4bbd8b5586ffe8fcd81eec591a15e.jpeg\", \"profile_background_tile\": true, \"profile_banner_url\": \"https://pbs.twimg.com/profile_banners/203729443/1519763284\", \"profile_image_url\": \"http://pbs.twimg.com/profile_images/963524028089577472/zP-H2XvN_normal.jpg\", \"profile_link_color\": \"C20B97\", \"profile_sidebar_fill_color\": \"95E8EC\", \"profile_text_color\": \"3C3940\", \"screen_name\": \"yungscum\", \"statuses_count\": 90710, \"time_zone\": \"Pacific Time (US & Canada)\", \"url\": \"https://t.co/573bAuyVwe\", \"utc_offset\": -25200}, \"user_mentions\": []}, \"source\": \"<a href=\\\\\"http://twitter.com/download/android\\\\\" rel=\\\\\"nofollow\\\\\">Twitter for Android</a>\", \"text\": \"RT @yungscum: what i need is someone playing with my hair but what i have is depression\", \"urls\": [], \"user\": {\"created_at\": \"Thu Dec 25 02:40:35 +0000 2014\", \"description\": \"d&d saved my pussy\", \"favourites_count\": 49696, \"followers_count\": 194, \"friends_count\": 94, \"id\": 2940256829, \"lang\": \"en\", \"listed_count\": 16, \"location\": \"- UK - 18\", \"name\": \"peroxide bimbo reject\", \"profile_background_color\": \"642D8B\", \"profile_background_image_url\": \"http://pbs.twimg.com/profile_background_images/638435827064926208/KBnVkuRh.jpg\", \"profile_background_tile\": true, \"profile_banner_url\": \"https://pbs.twimg.com/profile_banners/2940256829/1518304410\", \"profile_image_url\": \"http://pbs.twimg.com/profile_images/972624988921614336/tM6ZcoDI_normal.jpg\", \"profile_link_color\": \"9932CC\", \"profile_sidebar_fill_color\": \"000000\", \"profile_text_color\": \"000000\", \"screen_name\": \"Ruadical\", \"statuses_count\": 35895, \"time_zone\": \"London\", \"url\": \"https://t.co/oIyaU7niTn\"}, \"user_mentions\": [{\"id\": 203729443, \"name\": \"\\\\ud835\\\\udcff\\\\ud835\\\\udcee\\\\ud835\\\\udcf0\\\\ud835\\\\udcea\\\\ud835\\\\udcf7 \\\\ud835\\\\udcfd\\\\ud835\\\\udcf1\\\\ud835\\\\udcf8\\\\ud835\\\\udcfd\", \"screen_name\": \"yungscum\"}]}',\n",
       "  '{\"created_at\": \"Thu Mar 15 08:58:51 +0000 2018\", \"hashtags\": [], \"id\": 974208293513121792, \"id_str\": \"974208293513121792\", \"lang\": \"en\", \"retweet_count\": 31131, \"retweeted_status\": {\"created_at\": \"Tue Mar 13 16:54:11 +0000 2018\", \"favorite_count\": 61771, \"hashtags\": [], \"id\": 973603138908426242, \"id_str\": \"973603138908426242\", \"lang\": \"en\", \"retweet_count\": 31131, \"source\": \"<a href=\\\\\"https://about.twitter.com/products/tweetdeck\\\\\" rel=\\\\\"nofollow\\\\\">TweetDeck</a>\", \"text\": \"once i fix my sleep schedule, start eating healthy, get physically fit, beat depression, stop procrastinating, lear\\\\u2026 https://t.co/o0LImOmZWi\", \"truncated\": true, \"urls\": [{\"expanded_url\": \"https://twitter.com/i/web/status/973603138908426242\", \"url\": \"https://t.co/o0LImOmZWi\"}], \"user\": {\"created_at\": \"Tue May 21 20:47:49 +0000 2013\", \"description\": \"i make like one video every 2 months and then i sleep\", \"favourites_count\": 1140, \"followers_count\": 99414, \"friends_count\": 52, \"id\": 1447245938, \"lang\": \"en\", \"listed_count\": 186, \"location\": \"Stockholm, Sweden\", \"name\": \"Seth Everman\", \"profile_background_color\": \"0D0D0D\", \"profile_background_image_url\": \"http://abs.twimg.com/images/themes/theme14/bg.gif\", \"profile_background_tile\": true, \"profile_banner_url\": \"https://pbs.twimg.com/profile_banners/1447245938/1506815592\", \"profile_image_url\": \"http://pbs.twimg.com/profile_images/919300291043954689/jjme8Hc-_normal.jpg\", \"profile_link_color\": \"000000\", \"profile_sidebar_fill_color\": \"DDEEF6\", \"profile_text_color\": \"333333\", \"screen_name\": \"SethEverman\", \"statuses_count\": 837, \"time_zone\": \"Athens\", \"url\": \"https://t.co/m0GjjxNAEZ\", \"utc_offset\": 7200}, \"user_mentions\": []}, \"source\": \"<a href=\\\\\"http://twitter.com/download/iphone\\\\\" rel=\\\\\"nofollow\\\\\">Twitter for iPhone</a>\", \"text\": \"RT @SethEverman: once i fix my sleep schedule, start eating healthy, get physically fit, beat depression, stop procrastinating, learn how t\\\\u2026\", \"urls\": [], \"user\": {\"created_at\": \"Sun Jun 23 02:18:07 +0000 2013\", \"description\": \"Marquese\\\\u2019s Girl \\\\u2764\\\\ufe0f\\\\ud83d\\\\udc8e\", \"favourites_count\": 5838, \"followers_count\": 579, \"friends_count\": 379, \"geo_enabled\": true, \"id\": 1539954565, \"lang\": \"en\", \"listed_count\": 2, \"name\": \"Ambie Bambie \\\\ud83d\\\\udda4\\\\u2728\\\\ud83d\\\\ude46\\\\ud83c\\\\udffd\", \"profile_background_color\": \"000000\", \"profile_background_image_url\": \"http://abs.twimg.com/images/themes/theme1/bg.png\", \"profile_banner_url\": \"https://pbs.twimg.com/profile_banners/1539954565/1521103846\", \"profile_image_url\": \"http://pbs.twimg.com/profile_images/974206250006216704/Ei8R8eA6_normal.jpg\", \"profile_link_color\": \"9266CC\", \"profile_sidebar_fill_color\": \"000000\", \"profile_text_color\": \"000000\", \"screen_name\": \"Its_Amb_\", \"statuses_count\": 14755, \"time_zone\": \"Pacific Time (US & Canada)\", \"utc_offset\": -25200}, \"user_mentions\": [{\"id\": 1447245938, \"name\": \"Seth Everman\", \"screen_name\": \"SethEverman\"}]}',\n",
       "  '{\"created_at\": \"Thu Mar 15 08:58:50 +0000 2018\", \"hashtags\": [], \"id\": 974208288421105664, \"id_str\": \"974208288421105664\", \"lang\": \"en\", \"retweet_count\": 2095, \"retweeted_status\": {\"created_at\": \"Wed Mar 14 01:28:03 +0000 2018\", \"favorite_count\": 5005, \"hashtags\": [], \"id\": 973732457752203264, \"id_str\": \"973732457752203264\", \"lang\": \"en\", \"retweet_count\": 2095, \"source\": \"<a href=\\\\\"http://twitter.com\\\\\" rel=\\\\\"nofollow\\\\\">Twitter Web Client</a>\", \"text\": \"in case u needed to hear this today, u aren\\\\u2019t less of a person b/c u have panic attacks. u aren\\\\u2019t less of a person\\\\u2026 https://t.co/PEK7L0lkGH\", \"truncated\": true, \"urls\": [{\"expanded_url\": \"https://twitter.com/i/web/status/973732457752203264\", \"url\": \"https://t.co/PEK7L0lkGH\"}], \"user\": {\"created_at\": \"Sun Aug 28 23:06:20 +0000 2016\", \"default_profile\": true, \"description\": \"if you loved me why was it so easy for you to leave me\", \"favourites_count\": 62, \"followers_count\": 34247, \"friends_count\": 9527, \"id\": 770034811276845057, \"lang\": \"en\", \"listed_count\": 274, \"location\": \"Turn on notifications \\\\ud83d\\\\udc9e\", \"name\": \"\\\\ud835\\\\udceb\\\\ud835\\\\udcf8\\\\ud835\\\\udcf8\", \"profile_background_color\": \"F5F8FA\", \"profile_banner_url\": \"https://pbs.twimg.com/profile_banners/770034811276845057/1513818988\", \"profile_image_url\": \"http://pbs.twimg.com/profile_images/962586471784943617/U0wTlRof_normal.jpg\", \"profile_link_color\": \"1DA1F2\", \"profile_sidebar_fill_color\": \"DDEEF6\", \"profile_text_color\": \"333333\", \"screen_name\": \"cheating\", \"statuses_count\": 76, \"time_zone\": \"Pacific Time (US & Canada)\", \"utc_offset\": -25200}, \"user_mentions\": []}, \"source\": \"<a href=\\\\\"http://twitter.com/download/iphone\\\\\" rel=\\\\\"nofollow\\\\\">Twitter for iPhone</a>\", \"text\": \"RT @cheating: in case u needed to hear this today, u aren\\\\u2019t less of a person b/c u have panic attacks. u aren\\\\u2019t less of a person b/c u have\\\\u2026\", \"urls\": [], \"user\": {\"created_at\": \"Mon Mar 31 14:23:17 +0000 2014\", \"description\": \"Hopefully I could sleep and never wake up\", \"favourites_count\": 2559, \"followers_count\": 244, \"friends_count\": 343, \"geo_enabled\": true, \"id\": 2420613722, \"lang\": \"en\", \"listed_count\": 2, \"location\": \"Malaysia\", \"name\": \"Veeknesh\\\\u2728\", \"profile_background_color\": \"000000\", \"profile_background_image_url\": \"http://abs.twimg.com/images/themes/theme1/bg.png\", \"profile_banner_url\": \"https://pbs.twimg.com/profile_banners/2420613722/1521044522\", \"profile_image_url\": \"http://pbs.twimg.com/profile_images/973953004989632515/3CxU9LLS_normal.jpg\", \"profile_link_color\": \"4A913C\", \"profile_sidebar_fill_color\": \"000000\", \"profile_text_color\": \"000000\", \"screen_name\": \"Veeknesh_Nesh\", \"statuses_count\": 3656, \"time_zone\": \"Krasnoyarsk\", \"utc_offset\": 25200}, \"user_mentions\": [{\"id\": 770034811276845057, \"name\": \"\\\\ud835\\\\udceb\\\\ud835\\\\udcf8\\\\ud835\\\\udcf8\", \"screen_name\": \"cheating\"}]}',\n",
       "  '{\"created_at\": \"Thu Mar 15 08:58:49 +0000 2018\", \"hashtags\": [], \"id\": 974208283006439426, \"id_str\": \"974208283006439426\", \"lang\": \"en\", \"retweet_count\": 306, \"retweeted_status\": {\"created_at\": \"Sun Mar 11 00:39:36 +0000 2018\", \"favorite_count\": 482, \"hashtags\": [], \"id\": 972633102433640448, \"id_str\": \"972633102433640448\", \"lang\": \"en\", \"retweet_count\": 306, \"source\": \"<a href=\\\\\"http://twitter.com/download/iphone\\\\\" rel=\\\\\"nofollow\\\\\">Twitter for iPhone</a>\", \"text\": \"Social media is triggering depression in a lot of people. Turn this shit off sometimes. It ain\\\\u2019t all good.\", \"urls\": [], \"user\": {\"created_at\": \"Sat Dec 05 18:42:12 +0000 2009\", \"description\": \"I\\'m that comedian from Wild\\'N\\'Out. I make people laugh when they want to. check out my podcast #85SouthShow. https://t.co/H5GjK968aV\", \"favourites_count\": 11456, \"followers_count\": 61330, \"friends_count\": 463, \"geo_enabled\": true, \"id\": 94844786, \"lang\": \"en\", \"listed_count\": 347, \"location\": \"WORLDWIDE Atlanta Ga\", \"name\": \"Put that on Karlous\", \"profile_background_color\": \"C0DEED\", \"profile_background_image_url\": \"http://pbs.twimg.com/profile_background_images/275762577/deLOUs.jpg\", \"profile_background_tile\": true, \"profile_banner_url\": \"https://pbs.twimg.com/profile_banners/94844786/1507665160\", \"profile_image_url\": \"http://pbs.twimg.com/profile_images/973263517196410880/hSbl_ybh_normal.jpg\", \"profile_link_color\": \"0084B4\", \"profile_sidebar_fill_color\": \"DDEEF6\", \"profile_text_color\": \"333333\", \"screen_name\": \"KarlousM\", \"statuses_count\": 156973, \"time_zone\": \"Central Time (US & Canada)\", \"url\": \"https://t.co/PKGEWTyvqQ\", \"utc_offset\": -18000, \"verified\": true}, \"user_mentions\": []}, \"source\": \"<a href=\\\\\"http://twitter.com/download/iphone\\\\\" rel=\\\\\"nofollow\\\\\">Twitter for iPhone</a>\", \"text\": \"RT @KarlousM: Social media is triggering depression in a lot of people. Turn this shit off sometimes. It ain\\\\u2019t all good.\", \"urls\": [], \"user\": {\"created_at\": \"Sun Dec 26 03:32:36 +0000 2010\", \"description\": \"Matthew 28:20 Luke 13:8 Gods\\' first, his next.\\\\ud83c\\\\uddef\\\\ud83c\\\\uddf2\\\\ud83c\\\\udde8\\\\ud83c\\\\uddfa\\\\ud83c\\\\uddfa\\\\ud83c\\\\uddf8 786\\\\ud83d\\\\udc76\\\\ud83c\\\\udffd\", \"favourites_count\": 97278, \"followers_count\": 871, \"friends_count\": 54, \"geo_enabled\": true, \"id\": 230608386, \"lang\": \"en\", \"listed_count\": 17, \"location\": \"rip greg \\\\u2764\\\\ufe0f\", \"name\": \"\\\\ud83e\\\\udd38\\\\ud83c\\\\udffd\\\\u200d\\\\u2640\\\\ufe0f\\\\ud83d\\\\udc8d ocean rider\", \"profile_background_color\": \"2E2423\", \"profile_background_image_url\": \"http://abs.twimg.com/images/themes/theme1/bg.png\", \"profile_banner_url\": \"https://pbs.twimg.com/profile_banners/230608386/1519611165\", \"profile_image_url\": \"http://pbs.twimg.com/profile_images/974205524655951873/VTE6MT15_normal.jpg\", \"profile_link_color\": \"9E2646\", \"profile_sidebar_fill_color\": \"77A31F\", \"profile_text_color\": \"36EB1A\", \"screen_name\": \"_monicabryant\", \"statuses_count\": 90275, \"url\": \"https://t.co/fWoiL3PeAH\"}, \"user_mentions\": [{\"id\": 94844786, \"name\": \"Put that on Karlous\", \"screen_name\": \"KarlousM\"}]}',\n",
       "  '{\"created_at\": \"Thu Mar 15 08:58:49 +0000 2018\", \"hashtags\": [{\"text\": \"DomesticAbuse\"}], \"id\": 974208282826067969, \"id_str\": \"974208282826067969\", \"lang\": \"en\", \"media\": [{\"display_url\": \"pic.twitter.com/U4devdlmSZ\", \"expanded_url\": \"https://twitter.com/womanstrust/status/973907005831294976/photo/1\", \"id\": 973906997757259779, \"media_url\": \"http://pbs.twimg.com/media/DYQDQSWWsAMGgQe.jpg\", \"media_url_https\": \"https://pbs.twimg.com/media/DYQDQSWWsAMGgQe.jpg\", \"sizes\": {\"large\": {\"h\": 1200, \"resize\": \"fit\", \"w\": 1600}, \"medium\": {\"h\": 900, \"resize\": \"fit\", \"w\": 1200}, \"small\": {\"h\": 510, \"resize\": \"fit\", \"w\": 680}, \"thumb\": {\"h\": 150, \"resize\": \"crop\", \"w\": 150}}, \"type\": \"photo\", \"url\": \"https://t.co/U4devdlmSZ\"}], \"retweet_count\": 4, \"retweeted_status\": {\"created_at\": \"Wed Mar 14 13:01:39 +0000 2018\", \"favorite_count\": 1, \"hashtags\": [{\"text\": \"DomesticAbuse\"}], \"id\": 973907005831294976, \"id_str\": \"973907005831294976\", \"lang\": \"en\", \"media\": [{\"display_url\": \"pic.twitter.com/U4devdlmSZ\", \"expanded_url\": \"https://twitter.com/womanstrust/status/973907005831294976/photo/1\", \"id\": 973906997757259779, \"media_url\": \"http://pbs.twimg.com/media/DYQDQSWWsAMGgQe.jpg\", \"media_url_https\": \"https://pbs.twimg.com/media/DYQDQSWWsAMGgQe.jpg\", \"sizes\": {\"large\": {\"h\": 1200, \"resize\": \"fit\", \"w\": 1600}, \"medium\": {\"h\": 900, \"resize\": \"fit\", \"w\": 1200}, \"small\": {\"h\": 510, \"resize\": \"fit\", \"w\": 680}, \"thumb\": {\"h\": 150, \"resize\": \"crop\", \"w\": 150}}, \"type\": \"photo\", \"url\": \"https://t.co/U4devdlmSZ\"}], \"retweet_count\": 4, \"source\": \"<a href=\\\\\"http://lightful.com\\\\\" rel=\\\\\"nofollow\\\\\">Lightful</a>\", \"text\": \"#DomesticAbuse is the leading cause of depression for women in the UK https://t.co/U4devdlmSZ\", \"urls\": [], \"user\": {\"created_at\": \"Thu Dec 17 11:38:55 +0000 2009\", \"description\": \"Supporting women affected by domestic abuse since 1995. Expert, specialist, free mental health support including one-to-one counselling.  Tweets by our staff\", \"favourites_count\": 1213, \"followers_count\": 5691, \"friends_count\": 1953, \"geo_enabled\": true, \"id\": 97423151, \"lang\": \"en\", \"listed_count\": 136, \"location\": \"London, UK\", \"name\": \"Woman\\'s Trust\", \"profile_background_color\": \"C6E2EE\", \"profile_background_image_url\": \"http://abs.twimg.com/images/themes/theme2/bg.gif\", \"profile_banner_url\": \"https://pbs.twimg.com/profile_banners/97423151/1508869419\", \"profile_image_url\": \"http://pbs.twimg.com/profile_images/2700628968/86b9b05b18df122b81bc034e2e6658ae_normal.jpeg\", \"profile_link_color\": \"1F98C7\", \"profile_sidebar_fill_color\": \"DAECF4\", \"profile_text_color\": \"663B12\", \"screen_name\": \"womanstrust\", \"statuses_count\": 10626, \"time_zone\": \"London\", \"url\": \"http://t.co/JEe4ulWE0I\"}, \"user_mentions\": []}, \"source\": \"<a href=\\\\\"http://twitter.com/download/iphone\\\\\" rel=\\\\\"nofollow\\\\\">Twitter for iPhone</a>\", \"text\": \"RT @womanstrust: #DomesticAbuse is the leading cause of depression for women in the UK https://t.co/U4devdlmSZ\", \"urls\": [], \"user\": {\"created_at\": \"Wed Jan 31 20:35:55 +0000 2018\", \"default_profile\": true, \"description\": \"Family Law Solicitor\", \"favourites_count\": 6, \"followers_count\": 19, \"friends_count\": 62, \"id\": 958801037607014403, \"lang\": \"en\", \"listed_count\": 2, \"location\": \"England, United Kingdom\", \"name\": \"Charlie Evans\", \"profile_background_color\": \"F5F8FA\", \"profile_image_url\": \"http://pbs.twimg.com/profile_images/968077210677542913/E8oKoYqN_normal.jpg\", \"profile_link_color\": \"1DA1F2\", \"profile_sidebar_fill_color\": \"DDEEF6\", \"profile_text_color\": \"333333\", \"screen_name\": \"a_littlelawyer\", \"statuses_count\": 41, \"url\": \"https://t.co/iqhU2kXhca\"}, \"user_mentions\": [{\"id\": 97423151, \"name\": \"Woman\\'s Trust\", \"screen_name\": \"womanstrust\"}]}',\n",
       "  '{\"created_at\": \"Thu Mar 15 08:58:46 +0000 2018\", \"hashtags\": [], \"id\": 974208270343790592, \"id_str\": \"974208270343790592\", \"lang\": \"fr\", \"retweet_count\": 10, \"retweeted_status\": {\"created_at\": \"Wed Mar 14 21:43:59 +0000 2018\", \"favorite_count\": 31, \"hashtags\": [], \"id\": 974038456522477569, \"id_str\": \"974038456522477569\", \"lang\": \"fr\", \"retweet_count\": 10, \"source\": \"<a href=\\\\\"http://twitter.com\\\\\" rel=\\\\\"nofollow\\\\\">Twitter Web Client</a>\", \"text\": \"\\\\ud83d\\\\udcfd NOUVELLE VID\\\\u00c9O !\\\\n\\\\nDemain, je gravirai le mont Celeste. La d\\\\u00e9pression personnifi\\\\u00e9e est la plus douce des confident\\\\u2026 https://t.co/scftJrab4P\", \"truncated\": true, \"urls\": [{\"expanded_url\": \"https://twitter.com/i/web/status/974038456522477569\", \"url\": \"https://t.co/scftJrab4P\"}], \"user\": {\"created_at\": \"Mon Jun 03 12:04:06 +0000 2013\", \"description\": \"Olibrius du jeu vid\\\\u00e9o sur Youtube \\\\ud83d\\\\udcfd\\\\ufe0f\\\\nJ\\'ai tra\\\\u00een\\\\u00e9 mes gu\\\\u00eatres \\\\u00e0 @ScPoLille \\\\ud83c\\\\udf27\\\\ufe0f\\\\n\\\\nP\\\\u00e9dale qui pige \\\\u00e0 @Numerama (mais surtout CM) / ex-stageman @Gamekult\", \"favourites_count\": 17053, \"followers_count\": 2323, \"friends_count\": 515, \"id\": 1479568147, \"lang\": \"fr\", \"listed_count\": 53, \"location\": \"Lille, France\", \"name\": \"Olbius\", \"profile_background_color\": \"000000\", \"profile_background_image_url\": \"http://abs.twimg.com/images/themes/theme1/bg.png\", \"profile_banner_url\": \"https://pbs.twimg.com/profile_banners/1479568147/1479724340\", \"profile_image_url\": \"http://pbs.twimg.com/profile_images/969183662104301578/rD-Fzz5l_normal.jpg\", \"profile_link_color\": \"3B94D9\", \"profile_sidebar_fill_color\": \"000000\", \"profile_text_color\": \"000000\", \"screen_name\": \"pierrolbius\", \"statuses_count\": 18565, \"time_zone\": \"Paris\", \"url\": \"https://t.co/CtwQVpDrzB\", \"utc_offset\": 3600}, \"user_mentions\": []}, \"source\": \"<a href=\\\\\"http://twitter.com/#!/download/ipad\\\\\" rel=\\\\\"nofollow\\\\\">Twitter for iPad</a>\", \"text\": \"RT @pierrolbius: \\\\ud83d\\\\udcfd NOUVELLE VID\\\\u00c9O !\\\\n\\\\nDemain, je gravirai le mont Celeste. La d\\\\u00e9pression personnifi\\\\u00e9e est la plus douce des confidentes. \\\\ud83c\\\\udfd4\\\\u2026\", \"urls\": [], \"user\": {\"created_at\": \"Tue Mar 31 17:25:03 +0000 2009\", \"description\": \"Game Designer (Scripter/QA/Playtest) searching for a job. Working on ASTRE demo @HylliosInt.\", \"favourites_count\": 2764, \"followers_count\": 606, \"friends_count\": 1386, \"geo_enabled\": true, \"id\": 27916814, \"lang\": \"fr\", \"listed_count\": 126, \"location\": \"France\", \"name\": \"ConkerJahk\", \"profile_background_color\": \"DD2E44\", \"profile_background_image_url\": \"http://pbs.twimg.com/profile_background_images/595688870961754112/0cLw3CmI.png\", \"profile_banner_url\": \"https://pbs.twimg.com/profile_banners/27916814/1520038576\", \"profile_image_url\": \"http://pbs.twimg.com/profile_images/969737835652767744/FHbNjeLa_normal.jpg\", \"profile_link_color\": \"DD2E44\", \"profile_sidebar_fill_color\": \"B812C7\", \"profile_text_color\": \"3D1957\", \"screen_name\": \"ConkerJahk\", \"statuses_count\": 38192, \"time_zone\": \"Paris\", \"url\": \"https://t.co/LbfWJkJFg0\", \"utc_offset\": 3600}, \"user_mentions\": [{\"id\": 1479568147, \"name\": \"Olbius\", \"screen_name\": \"pierrolbius\"}]}',\n",
       "  '{\"created_at\": \"Thu Mar 15 08:58:42 +0000 2018\", \"hashtags\": [], \"id\": 974208252824227840, \"id_str\": \"974208252824227840\", \"lang\": \"en\", \"retweet_count\": 27894, \"retweeted_status\": {\"created_at\": \"Tue Mar 13 21:40:24 +0000 2018\", \"favorite_count\": 90373, \"hashtags\": [], \"id\": 973675167229489152, \"id_str\": \"973675167229489152\", \"lang\": \"en\", \"retweet_count\": 27894, \"source\": \"<a href=\\\\\"http://twitter.com/download/android\\\\\" rel=\\\\\"nofollow\\\\\">Twitter for Android</a>\", \"text\": \"depression: ...\\\\nme: ...\\\\ndepression: ...\\\\nme: ...\\\\ndepression: ...\\\\nme: ...\\\\ndepression: ...\\\\nme: ...\\\\ndepression: ...\\\\nme:\\\\u2026 https://t.co/tsVCrRS6qs\", \"truncated\": true, \"urls\": [{\"expanded_url\": \"https://twitter.com/i/web/status/973675167229489152\", \"url\": \"https://t.co/tsVCrRS6qs\"}], \"user\": {\"created_at\": \"Fri Jul 08 05:43:18 +0000 2016\", \"description\": \"Lapsed punk kid. Queer. Poet. Storyteller. she/her.\\\\n\\\\nI\\'ll hold that hope for you, if it\\'s too heavy a burden. I\\'m glad you\\'re here.\\\\n\\\\n#ShowUpForWishes\", \"favourites_count\": 129484, \"followers_count\": 4141, \"friends_count\": 516, \"id\": 751290541707390976, \"lang\": \"en\", \"listed_count\": 101, \"location\": \"United States\", \"name\": \"gin.\", \"profile_background_color\": \"000000\", \"profile_background_image_url\": \"http://abs.twimg.com/images/themes/theme1/bg.png\", \"profile_banner_url\": \"https://pbs.twimg.com/profile_banners/751290541707390976/1518322667\", \"profile_image_url\": \"http://pbs.twimg.com/profile_images/964559910531821568/W6fJr9pS_normal.jpg\", \"profile_link_color\": \"5D041B\", \"profile_sidebar_fill_color\": \"000000\", \"profile_text_color\": \"000000\", \"screen_name\": \"showupforthis\", \"statuses_count\": 99863, \"url\": \"https://t.co/7CJ8u44xsY\"}, \"user_mentions\": []}, \"source\": \"<a href=\\\\\"http://twitter.com/download/iphone\\\\\" rel=\\\\\"nofollow\\\\\">Twitter for iPhone</a>\", \"text\": \"RT @showupforthis: depression: ...\\\\nme: ...\\\\ndepression: ...\\\\nme: ...\\\\ndepression: ...\\\\nme: ...\\\\ndepression: ...\\\\nme: ...\\\\ndepression: ...\\\\nme: ...\\\\u2026\", \"urls\": [], \"user\": {\"created_at\": \"Mon Feb 24 17:36:53 +0000 2014\", \"description\": \"\\\\ud83c\\\\udf31 The future is female \\\\u2640 @Greenpeace\\\\u267b\\\\ufe0f\", \"favourites_count\": 19854, \"followers_count\": 792, \"friends_count\": 678, \"geo_enabled\": true, \"id\": 2363330127, \"lang\": \"en\", \"listed_count\": 9, \"location\": \"D\\\\u00e9nia, Espa\\\\u00f1a - Argentina\", \"name\": \"mrc\", \"profile_background_color\": \"8899CC\", \"profile_background_image_url\": \"http://pbs.twimg.com/profile_background_images/540177857314426880/M5E2-cZP.jpeg\", \"profile_background_tile\": true, \"profile_banner_url\": \"https://pbs.twimg.com/profile_banners/2363330127/1518262699\", \"profile_image_url\": \"http://pbs.twimg.com/profile_images/921732205042372608/WyWfwcON_normal.jpg\", \"profile_link_color\": \"F5ABB5\", \"profile_sidebar_fill_color\": \"DDEEF6\", \"profile_text_color\": \"333333\", \"screen_name\": \"espejo_fatima\", \"statuses_count\": 49937, \"time_zone\": \"Pacific Time (US & Canada)\", \"url\": \"https://t.co/qFIcHuGjLv\", \"utc_offset\": -25200}, \"user_mentions\": [{\"id\": 751290541707390976, \"name\": \"gin.\", \"screen_name\": \"showupforthis\"}]}',\n",
       "  '{\"created_at\": \"Thu Mar 15 08:58:40 +0000 2018\", \"hashtags\": [], \"id\": 974208244636880896, \"id_str\": \"974208244636880896\", \"lang\": \"en\", \"retweet_count\": 2, \"retweeted_status\": {\"created_at\": \"Thu Mar 15 08:56:29 +0000 2018\", \"favorite_count\": 5, \"hashtags\": [], \"id\": 974207697800359936, \"id_str\": \"974207697800359936\", \"lang\": \"en\", \"retweet_count\": 2, \"source\": \"<a href=\\\\\"http://twitter.com/download/android\\\\\" rel=\\\\\"nofollow\\\\\">Twitter for Android</a>\", \"text\": \"Depression is more loyal than people\\\\ud83d\\\\udd25\", \"urls\": [], \"user\": {\"created_at\": \"Sun Sep 03 02:24:14 +0000 2017\", \"default_profile\": true, \"description\": \"|Pakistan is love||Muslim Alhmdulillah|\", \"favourites_count\": 28596, \"followers_count\": 1079, \"friends_count\": 192, \"id\": 904168124517408772, \"lang\": \"en\", \"listed_count\": 3, \"location\": \"Dreamland \\\\u2764\", \"name\": \"Sai\\\\u0642a\", \"profile_background_color\": \"F5F8FA\", \"profile_banner_url\": \"https://pbs.twimg.com/profile_banners/904168124517408772/1521029415\", \"profile_image_url\": \"http://pbs.twimg.com/profile_images/972160689199513600/qymU6ePw_normal.jpg\", \"profile_link_color\": \"1DA1F2\", \"profile_sidebar_fill_color\": \"DDEEF6\", \"profile_text_color\": \"333333\", \"screen_name\": \"Oye_Shokhi\", \"statuses_count\": 5921}, \"user_mentions\": []}, \"source\": \"<a href=\\\\\"http://twitter.com/download/android\\\\\" rel=\\\\\"nofollow\\\\\">Twitter for Android</a>\", \"text\": \"RT @Oye_Shokhi: Depression is more loyal than people\\\\ud83d\\\\udd25\", \"urls\": [], \"user\": {\"created_at\": \"Sat Aug 21 08:07:14 +0000 2010\", \"description\": \"\\\\u200f\\\\u200f\\\\u200f\\\\u0627\\\\u0644\\\\u0644\\\\u06c1 \\\\u067e\\\\u0627\\\\u06a9 \\\\u06a9\\\\u0627 \\\\u0634\\\\u06a9\\\\u0631\\\\u06af\\\\u0632\\\\u0627\\\\u0631 \\\\u0628\\\\u0646\\\\u062f\\\\u0627\", \"favourites_count\": 19252, \"followers_count\": 1806, \"friends_count\": 1840, \"geo_enabled\": true, \"id\": 181101108, \"lang\": \"en\", \"listed_count\": 7, \"location\": \"Still Searching......\", \"name\": \"Rehman ka Banda\", \"profile_background_color\": \"000000\", \"profile_background_image_url\": \"http://abs.twimg.com/images/themes/theme4/bg.gif\", \"profile_banner_url\": \"https://pbs.twimg.com/profile_banners/181101108/1452166047\", \"profile_image_url\": \"http://pbs.twimg.com/profile_images/943006562322436101/EkWizF2S_normal.jpg\", \"profile_link_color\": \"4A913C\", \"profile_sidebar_fill_color\": \"000000\", \"profile_text_color\": \"000000\", \"screen_name\": \"zafarsaeed\", \"statuses_count\": 17064, \"time_zone\": \"Karachi\", \"utc_offset\": 18000}, \"user_mentions\": [{\"id\": 904168124517408772, \"name\": \"Sai\\\\u0642a\", \"screen_name\": \"Oye_Shokhi\"}]}',\n",
       "  '{\"created_at\": \"Thu Mar 15 08:58:39 +0000 2018\", \"hashtags\": [], \"id\": 974208243697266688, \"id_str\": \"974208243697266688\", \"lang\": \"en\", \"retweet_count\": 2983, \"retweeted_status\": {\"created_at\": \"Wed Mar 14 05:04:31 +0000 2018\", \"favorite_count\": 9153, \"hashtags\": [], \"id\": 973786932575723521, \"id_str\": \"973786932575723521\", \"lang\": \"en\", \"retweet_count\": 2983, \"source\": \"<a href=\\\\\"http://twitter.com/download/android\\\\\" rel=\\\\\"nofollow\\\\\">Twitter for Android</a>\", \"text\": \"\\\\\"\\'Depressed ako\\' is different from Major Depressive Disorder or Clinical Depression.\\\\\"\\\\n\\\\nUhm. No. If you are sad, may\\\\u2026 https://t.co/AV216PDsf8\", \"truncated\": true, \"urls\": [{\"expanded_url\": \"https://twitter.com/i/web/status/973786932575723521\", \"url\": \"https://t.co/AV216PDsf8\"}], \"user\": {\"created_at\": \"Wed Feb 10 02:48:38 +0000 2016\", \"description\": \"Lumos Maxima.\\\\nCo-Founder of @SmarterOnePH.\\\\nChief Psychologist of Argao Center. MIG.\", \"favourites_count\": 6373, \"followers_count\": 4277, \"friends_count\": 659, \"geo_enabled\": true, \"id\": 4885910744, \"lang\": \"en\", \"listed_count\": 26, \"location\": \"MNL | GUM\", \"name\": \"Renz Argao #MoveForMH\", \"profile_background_color\": \"000000\", \"profile_background_image_url\": \"http://abs.twimg.com/images/themes/theme1/bg.png\", \"profile_banner_url\": \"https://pbs.twimg.com/profile_banners/4885910744/1515313558\", \"profile_image_url\": \"http://pbs.twimg.com/profile_images/949920022108946432/GvTGak9o_normal.jpg\", \"profile_link_color\": \"000080\", \"profile_sidebar_fill_color\": \"000000\", \"profile_text_color\": \"000000\", \"screen_name\": \"RenzArgao\", \"statuses_count\": 7333, \"time_zone\": \"Hong Kong\", \"utc_offset\": 28800}, \"user_mentions\": []}, \"source\": \"<a href=\\\\\"http://twitter.com/download/iphone\\\\\" rel=\\\\\"nofollow\\\\\">Twitter for iPhone</a>\", \"text\": \"RT @RenzArgao: \\\\\"\\'Depressed ako\\' is different from Major Depressive Disorder or Clinical Depression.\\\\\"\\\\n\\\\nUhm. No. If you are sad, maybe you ca\\\\u2026\", \"urls\": [], \"user\": {\"created_at\": \"Thu Dec 01 10:30:49 +0000 2016\", \"description\": \"@leirbagergela sweetest boi || #WakandaForever\", \"favourites_count\": 27678, \"followers_count\": 137, \"friends_count\": 130, \"geo_enabled\": true, \"id\": 804271527839444992, \"lang\": \"en\", \"listed_count\": 1, \"location\": \"Berlin, Germany\", \"name\": \"\\\\uff57\\\\uff49\\\\uff4e\\\\uff4f\\\\uff4e\\\\uff41\\\\u3000\\\\u7af9\\\\u30ad\\\\u30fc\", \"profile_background_color\": \"000000\", \"profile_background_image_url\": \"http://abs.twimg.com/images/themes/theme1/bg.png\", \"profile_banner_url\": \"https://pbs.twimg.com/profile_banners/804271527839444992/1517715930\", \"profile_image_url\": \"http://pbs.twimg.com/profile_images/959996140245565440/sSj8K_cE_normal.jpg\", \"profile_link_color\": \"F58EA8\", \"profile_sidebar_fill_color\": \"000000\", \"profile_text_color\": \"000000\", \"screen_name\": \"bella_senyorita\", \"statuses_count\": 8566, \"time_zone\": \"Pacific Time (US & Canada)\", \"utc_offset\": -25200}, \"user_mentions\": [{\"id\": 4885910744, \"name\": \"Renz Argao #MoveForMH\", \"screen_name\": \"RenzArgao\"}]}',\n",
       "  '{\"created_at\": \"Thu Mar 15 08:58:39 +0000 2018\", \"hashtags\": [], \"id\": 974208241499439104, \"id_str\": \"974208241499439104\", \"lang\": \"en\", \"retweet_count\": 2, \"retweeted_status\": {\"created_at\": \"Thu Mar 15 08:58:08 +0000 2018\", \"favorite_count\": 2, \"hashtags\": [], \"id\": 974208112570728448, \"id_str\": \"974208112570728448\", \"lang\": \"en\", \"retweet_count\": 2, \"source\": \"<a href=\\\\\"http://twitter.com/download/iphone\\\\\" rel=\\\\\"nofollow\\\\\">Twitter for iPhone</a>\", \"text\": \"what i need is someone playing with my hair but what i have is depression\", \"urls\": [], \"user\": {\"created_at\": \"Sun Oct 17 00:18:28 +0000 2010\", \"description\": \"emotionally attached to my hydroflask and small dog \\\\u2022 @friedpickleluvr \\\\ud83c\\\\udff3\\\\ufe0f\\\\u200d\\\\ud83c\\\\udf08  private: @sleeepyhoe\", \"favourites_count\": 89083, \"followers_count\": 4146, \"friends_count\": 651, \"geo_enabled\": true, \"id\": 203729443, \"lang\": \"en\", \"listed_count\": 119, \"location\": \"AZ\\\\u202222\", \"name\": \"\\\\ud835\\\\udcff\\\\ud835\\\\udcee\\\\ud835\\\\udcf0\\\\ud835\\\\udcea\\\\ud835\\\\udcf7 \\\\ud835\\\\udcfd\\\\ud835\\\\udcf1\\\\ud835\\\\udcf8\\\\ud835\\\\udcfd\", \"profile_background_color\": \"0099B9\", \"profile_background_image_url\": \"http://pbs.twimg.com/profile_background_images/378800000053159068/f2b4bbd8b5586ffe8fcd81eec591a15e.jpeg\", \"profile_background_tile\": true, \"profile_banner_url\": \"https://pbs.twimg.com/profile_banners/203729443/1519763284\", \"profile_image_url\": \"http://pbs.twimg.com/profile_images/963524028089577472/zP-H2XvN_normal.jpg\", \"profile_link_color\": \"C20B97\", \"profile_sidebar_fill_color\": \"95E8EC\", \"profile_text_color\": \"3C3940\", \"screen_name\": \"yungscum\", \"statuses_count\": 90710, \"time_zone\": \"Pacific Time (US & Canada)\", \"url\": \"https://t.co/573bAuyVwe\", \"utc_offset\": -25200}, \"user_mentions\": []}, \"source\": \"<a href=\\\\\"http://twitter.com/download/iphone\\\\\" rel=\\\\\"nofollow\\\\\">Twitter for iPhone</a>\", \"text\": \"RT @yungscum: what i need is someone playing with my hair but what i have is depression\", \"urls\": [], \"user\": {\"created_at\": \"Wed Jan 28 22:59:35 +0000 2015\", \"default_profile\": true, \"description\": \"You won\\'t.\", \"favourites_count\": 39754, \"followers_count\": 773, \"friends_count\": 1444, \"geo_enabled\": true, \"id\": 3000001496, \"lang\": \"en\", \"location\": \"Spokane, WA\", \"name\": \"you aint shit but same\", \"profile_background_color\": \"C0DEED\", \"profile_background_image_url\": \"http://abs.twimg.com/images/themes/theme1/bg.png\", \"profile_banner_url\": \"https://pbs.twimg.com/profile_banners/3000001496/1460754502\", \"profile_image_url\": \"http://pbs.twimg.com/profile_images/945813618989219840/a1_aSM8Q_normal.jpg\", \"profile_link_color\": \"1DA1F2\", \"profile_sidebar_fill_color\": \"DDEEF6\", \"profile_text_color\": \"333333\", \"screen_name\": \"Okay_Nicoley\", \"statuses_count\": 16078}, \"user_mentions\": [{\"id\": 203729443, \"name\": \"\\\\ud835\\\\udcff\\\\ud835\\\\udcee\\\\ud835\\\\udcf0\\\\ud835\\\\udcea\\\\ud835\\\\udcf7 \\\\ud835\\\\udcfd\\\\ud835\\\\udcf1\\\\ud835\\\\udcf8\\\\ud835\\\\udcfd\", \"screen_name\": \"yungscum\"}]}',\n",
       "  '{\"created_at\": \"Thu Mar 15 08:58:38 +0000 2018\", \"hashtags\": [], \"id\": 974208236776652806, \"id_str\": \"974208236776652806\", \"lang\": \"en\", \"retweet_count\": 2095, \"retweeted_status\": {\"created_at\": \"Wed Mar 14 01:28:03 +0000 2018\", \"favorite_count\": 5005, \"hashtags\": [], \"id\": 973732457752203264, \"id_str\": \"973732457752203264\", \"lang\": \"en\", \"retweet_count\": 2095, \"source\": \"<a href=\\\\\"http://twitter.com\\\\\" rel=\\\\\"nofollow\\\\\">Twitter Web Client</a>\", \"text\": \"in case u needed to hear this today, u aren\\\\u2019t less of a person b/c u have panic attacks. u aren\\\\u2019t less of a person\\\\u2026 https://t.co/PEK7L0lkGH\", \"truncated\": true, \"urls\": [{\"expanded_url\": \"https://twitter.com/i/web/status/973732457752203264\", \"url\": \"https://t.co/PEK7L0lkGH\"}], \"user\": {\"created_at\": \"Sun Aug 28 23:06:20 +0000 2016\", \"default_profile\": true, \"description\": \"if you loved me why was it so easy for you to leave me\", \"favourites_count\": 62, \"followers_count\": 34247, \"friends_count\": 9527, \"id\": 770034811276845057, \"lang\": \"en\", \"listed_count\": 274, \"location\": \"Turn on notifications \\\\ud83d\\\\udc9e\", \"name\": \"\\\\ud835\\\\udceb\\\\ud835\\\\udcf8\\\\ud835\\\\udcf8\", \"profile_background_color\": \"F5F8FA\", \"profile_banner_url\": \"https://pbs.twimg.com/profile_banners/770034811276845057/1513818988\", \"profile_image_url\": \"http://pbs.twimg.com/profile_images/962586471784943617/U0wTlRof_normal.jpg\", \"profile_link_color\": \"1DA1F2\", \"profile_sidebar_fill_color\": \"DDEEF6\", \"profile_text_color\": \"333333\", \"screen_name\": \"cheating\", \"statuses_count\": 76, \"time_zone\": \"Pacific Time (US & Canada)\", \"utc_offset\": -25200}, \"user_mentions\": []}, \"source\": \"<a href=\\\\\"http://twitter.com/download/iphone\\\\\" rel=\\\\\"nofollow\\\\\">Twitter for iPhone</a>\", \"text\": \"RT @cheating: in case u needed to hear this today, u aren\\\\u2019t less of a person b/c u have panic attacks. u aren\\\\u2019t less of a person b/c u have\\\\u2026\", \"urls\": [], \"user\": {\"created_at\": \"Mon Apr 09 16:37:45 +0000 2012\", \"description\": \"i want this bio to be cool but i know it\\\\u2019ll sound lame so just imagine an edgy while girl quote.\", \"favourites_count\": 5390, \"followers_count\": 553, \"friends_count\": 1344, \"geo_enabled\": true, \"id\": 549361790, \"lang\": \"en\", \"listed_count\": 1, \"name\": \"\\\\ud83e\\\\udd40Haley\\\\ud83e\\\\udd40\", \"profile_background_color\": \"2D778A\", \"profile_background_image_url\": \"http://pbs.twimg.com/profile_background_images/854651651/f690668f8e85ad6fdc21e81d7d0538a9.jpeg\", \"profile_background_tile\": true, \"profile_banner_url\": \"https://pbs.twimg.com/profile_banners/549361790/1510113373\", \"profile_image_url\": \"http://pbs.twimg.com/profile_images/972705970441789440/Sb5zHKZK_normal.jpg\", \"profile_link_color\": \"FF0000\", \"profile_sidebar_fill_color\": \"DDEEF6\", \"profile_text_color\": \"333333\", \"screen_name\": \"xxwhaleyxx\", \"statuses_count\": 6118, \"time_zone\": \"Atlantic Time (Canada)\", \"url\": \"https://t.co/r6OcRHGRvF\", \"utc_offset\": -10800}, \"user_mentions\": [{\"id\": 770034811276845057, \"name\": \"\\\\ud835\\\\udceb\\\\ud835\\\\udcf8\\\\ud835\\\\udcf8\", \"screen_name\": \"cheating\"}]}',\n",
       "  '{\"created_at\": \"Thu Mar 15 08:58:36 +0000 2018\", \"hashtags\": [], \"id\": 974208229344296961, \"id_str\": \"974208229344296961\", \"lang\": \"en\", \"retweet_count\": 27894, \"retweeted_status\": {\"created_at\": \"Tue Mar 13 21:40:24 +0000 2018\", \"favorite_count\": 90373, \"hashtags\": [], \"id\": 973675167229489152, \"id_str\": \"973675167229489152\", \"lang\": \"en\", \"retweet_count\": 27894, \"source\": \"<a href=\\\\\"http://twitter.com/download/android\\\\\" rel=\\\\\"nofollow\\\\\">Twitter for Android</a>\", \"text\": \"depression: ...\\\\nme: ...\\\\ndepression: ...\\\\nme: ...\\\\ndepression: ...\\\\nme: ...\\\\ndepression: ...\\\\nme: ...\\\\ndepression: ...\\\\nme:\\\\u2026 https://t.co/tsVCrRS6qs\", \"truncated\": true, \"urls\": [{\"expanded_url\": \"https://twitter.com/i/web/status/973675167229489152\", \"url\": \"https://t.co/tsVCrRS6qs\"}], \"user\": {\"created_at\": \"Fri Jul 08 05:43:18 +0000 2016\", \"description\": \"Lapsed punk kid. Queer. Poet. Storyteller. she/her.\\\\n\\\\nI\\'ll hold that hope for you, if it\\'s too heavy a burden. I\\'m glad you\\'re here.\\\\n\\\\n#ShowUpForWishes\", \"favourites_count\": 129484, \"followers_count\": 4141, \"friends_count\": 516, \"id\": 751290541707390976, \"lang\": \"en\", \"listed_count\": 101, \"location\": \"United States\", \"name\": \"gin.\", \"profile_background_color\": \"000000\", \"profile_background_image_url\": \"http://abs.twimg.com/images/themes/theme1/bg.png\", \"profile_banner_url\": \"https://pbs.twimg.com/profile_banners/751290541707390976/1518322667\", \"profile_image_url\": \"http://pbs.twimg.com/profile_images/964559910531821568/W6fJr9pS_normal.jpg\", \"profile_link_color\": \"5D041B\", \"profile_sidebar_fill_color\": \"000000\", \"profile_text_color\": \"000000\", \"screen_name\": \"showupforthis\", \"statuses_count\": 99863, \"url\": \"https://t.co/7CJ8u44xsY\"}, \"user_mentions\": []}, \"source\": \"<a href=\\\\\"http://twitter.com/download/iphone\\\\\" rel=\\\\\"nofollow\\\\\">Twitter for iPhone</a>\", \"text\": \"RT @showupforthis: depression: ...\\\\nme: ...\\\\ndepression: ...\\\\nme: ...\\\\ndepression: ...\\\\nme: ...\\\\ndepression: ...\\\\nme: ...\\\\ndepression: ...\\\\nme: ...\\\\u2026\", \"urls\": [], \"user\": {\"created_at\": \"Thu Jul 27 10:48:35 +0000 2017\", \"default_profile\": true, \"description\": \"Vocalist for @Zer0PercentBand . I am SCANDALIZED\", \"favourites_count\": 11770, \"followers_count\": 229, \"friends_count\": 236, \"geo_enabled\": true, \"id\": 890524309650722816, \"lang\": \"en\", \"location\": \"Cebu City, Central Visayas\", \"name\": \"Break\\\\u270f\\\\ufe0fLikeStrings\", \"profile_background_color\": \"F5F8FA\", \"profile_banner_url\": \"https://pbs.twimg.com/profile_banners/890524309650722816/1518777863\", \"profile_image_url\": \"http://pbs.twimg.com/profile_images/960455423076614145/V2kkj8UC_normal.jpg\", \"profile_link_color\": \"1DA1F2\", \"profile_sidebar_fill_color\": \"DDEEF6\", \"profile_text_color\": \"333333\", \"screen_name\": \"AnganBea\", \"statuses_count\": 3619}, \"user_mentions\": [{\"id\": 751290541707390976, \"name\": \"gin.\", \"screen_name\": \"showupforthis\"}]}']}"
      ]
     },
     "execution_count": 36,
     "metadata": {},
     "output_type": "execute_result"
    }
   ],
   "source": [
    "d_twt_json_1"
   ]
  },
  {
   "cell_type": "code",
   "execution_count": 37,
   "metadata": {},
   "outputs": [],
   "source": [
    "import pickle\n",
    "\n",
    "def picklify(lst, fn):\n",
    "    with open(fn+\".txt\", \"wb\") as fp:   #Pickling\n",
    "        pickle.dump(lst, fp)\n",
    "    print('Completed Picklifying.\\n\\n')\n",
    "        \n",
    "def pickle_loader(fn):\n",
    "    with open(fn, \"rb\") as fp:   # Unpickling\n",
    "        b = pickle.load(fp)\n",
    "    print('Completed Loading.\\n\\n')\n",
    "    return b"
   ]
  },
  {
   "cell_type": "code",
   "execution_count": 38,
   "metadata": {},
   "outputs": [
    {
     "name": "stdout",
     "output_type": "stream",
     "text": [
      "Completed Picklifying.\n",
      "\n",
      "\n"
     ]
    }
   ],
   "source": [
    "picklify(d_twt_json_1, 'dTwt')"
   ]
  },
  {
   "cell_type": "code",
   "execution_count": 40,
   "metadata": {},
   "outputs": [
    {
     "name": "stdout",
     "output_type": "stream",
     "text": [
      "Completed Loading.\n",
      "\n",
      "\n"
     ]
    },
    {
     "data": {
      "text/plain": [
       "{'depression_1': ['{\"created_at\": \"Thu Mar 15 08:58:59 +0000 2018\", \"hashtags\": [], \"id\": 974208324643192832, \"id_str\": \"974208324643192832\", \"lang\": \"en\", \"retweet_count\": 27894, \"retweeted_status\": {\"created_at\": \"Tue Mar 13 21:40:24 +0000 2018\", \"favorite_count\": 90373, \"hashtags\": [], \"id\": 973675167229489152, \"id_str\": \"973675167229489152\", \"lang\": \"en\", \"retweet_count\": 27894, \"source\": \"<a href=\\\\\"http://twitter.com/download/android\\\\\" rel=\\\\\"nofollow\\\\\">Twitter for Android</a>\", \"text\": \"depression: ...\\\\nme: ...\\\\ndepression: ...\\\\nme: ...\\\\ndepression: ...\\\\nme: ...\\\\ndepression: ...\\\\nme: ...\\\\ndepression: ...\\\\nme:\\\\u2026 https://t.co/tsVCrRS6qs\", \"truncated\": true, \"urls\": [{\"expanded_url\": \"https://twitter.com/i/web/status/973675167229489152\", \"url\": \"https://t.co/tsVCrRS6qs\"}], \"user\": {\"created_at\": \"Fri Jul 08 05:43:18 +0000 2016\", \"description\": \"Lapsed punk kid. Queer. Poet. Storyteller. she/her.\\\\n\\\\nI\\'ll hold that hope for you, if it\\'s too heavy a burden. I\\'m glad you\\'re here.\\\\n\\\\n#ShowUpForWishes\", \"favourites_count\": 129484, \"followers_count\": 4141, \"friends_count\": 516, \"id\": 751290541707390976, \"lang\": \"en\", \"listed_count\": 101, \"location\": \"United States\", \"name\": \"gin.\", \"profile_background_color\": \"000000\", \"profile_background_image_url\": \"http://abs.twimg.com/images/themes/theme1/bg.png\", \"profile_banner_url\": \"https://pbs.twimg.com/profile_banners/751290541707390976/1518322667\", \"profile_image_url\": \"http://pbs.twimg.com/profile_images/964559910531821568/W6fJr9pS_normal.jpg\", \"profile_link_color\": \"5D041B\", \"profile_sidebar_fill_color\": \"000000\", \"profile_text_color\": \"000000\", \"screen_name\": \"showupforthis\", \"statuses_count\": 99863, \"url\": \"https://t.co/7CJ8u44xsY\"}, \"user_mentions\": []}, \"source\": \"<a href=\\\\\"http://twitter.com/download/android\\\\\" rel=\\\\\"nofollow\\\\\">Twitter for Android</a>\", \"text\": \"RT @showupforthis: depression: ...\\\\nme: ...\\\\ndepression: ...\\\\nme: ...\\\\ndepression: ...\\\\nme: ...\\\\ndepression: ...\\\\nme: ...\\\\ndepression: ...\\\\nme: ...\\\\u2026\", \"urls\": [], \"user\": {\"created_at\": \"Fri Apr 08 17:25:30 +0000 2011\", \"description\": \"God bless your dirty soul \\\\t|-/\\\\t\\\\t[stan account] \\\\n                       \\\\ud83c\\\\uddf5\\\\ud83c\\\\uddf9           \\\\t \\\\nonly nineteen but my mind is older                @FCporto\", \"favourites_count\": 99434, \"followers_count\": 3642, \"friends_count\": 3456, \"geo_enabled\": true, \"id\": 279140476, \"lang\": \"en\", \"listed_count\": 39, \"location\": \"Springfield \\\\ud83c\\\\udf08\", \"name\": \"pat \\\\ud83d\\\\udc7e\", \"profile_background_color\": \"050A0D\", \"profile_background_image_url\": \"http://pbs.twimg.com/profile_background_images/631119215701950465/XhnWh8zA.jpg\", \"profile_background_tile\": true, \"profile_banner_url\": \"https://pbs.twimg.com/profile_banners/279140476/1518481722\", \"profile_image_url\": \"http://pbs.twimg.com/profile_images/963207348323053569/2qSijYIP_normal.jpg\", \"profile_link_color\": \"EEC4CF\", \"profile_sidebar_fill_color\": \"EFEFEF\", \"profile_text_color\": \"333333\", \"screen_name\": \"reurilove\", \"statuses_count\": 75027, \"time_zone\": \"Lisbon\", \"url\": \"https://t.co/MuUZbbG8cF\"}, \"user_mentions\": [{\"id\": 751290541707390976, \"name\": \"gin.\", \"screen_name\": \"showupforthis\"}]}',\n",
       "  '{\"created_at\": \"Thu Mar 15 08:58:54 +0000 2018\", \"hashtags\": [], \"id\": 974208304212795393, \"id_str\": \"974208304212795393\", \"in_reply_to_screen_name\": \"pearcy3000\", \"in_reply_to_status_id\": 974207588974972933, \"in_reply_to_user_id\": 3087679161, \"lang\": \"en\", \"source\": \"<a href=\\\\\"http://twitter.com/download/iphone\\\\\" rel=\\\\\"nofollow\\\\\">Twitter for iPhone</a>\", \"text\": \"Dont usally rite tweets with out fully understanding the situation not really up with news or politics dont watch i\\\\u2026 https://t.co/IJo4faMrU2\", \"truncated\": true, \"urls\": [{\"expanded_url\": \"https://twitter.com/i/web/status/974208304212795393\", \"url\": \"https://t.co/IJo4faMrU2\"}], \"user\": {\"created_at\": \"Thu Mar 12 01:48:32 +0000 2015\", \"default_profile\": true, \"description\": \"my tweets are my opinions not of my employers\", \"favourites_count\": 953, \"followers_count\": 98, \"friends_count\": 261, \"geo_enabled\": true, \"id\": 3087679161, \"lang\": \"en\", \"listed_count\": 4, \"location\": \"Portsmouth\", \"name\": \"Pearcy3000\", \"profile_background_color\": \"C0DEED\", \"profile_background_image_url\": \"http://abs.twimg.com/images/themes/theme1/bg.png\", \"profile_banner_url\": \"https://pbs.twimg.com/profile_banners/3087679161/1490887191\", \"profile_image_url\": \"http://pbs.twimg.com/profile_images/862338722360111104/DEtvS73g_normal.jpg\", \"profile_link_color\": \"1DA1F2\", \"profile_sidebar_fill_color\": \"DDEEF6\", \"profile_text_color\": \"333333\", \"screen_name\": \"pearcy3000\", \"statuses_count\": 4467}, \"user_mentions\": []}',\n",
       "  '{\"created_at\": \"Thu Mar 15 08:58:52 +0000 2018\", \"hashtags\": [], \"id\": 974208296512040960, \"id_str\": \"974208296512040960\", \"lang\": \"en\", \"retweet_count\": 27890, \"retweeted_status\": {\"created_at\": \"Tue Mar 13 21:40:24 +0000 2018\", \"favorite_count\": 90362, \"hashtags\": [], \"id\": 973675167229489152, \"id_str\": \"973675167229489152\", \"lang\": \"en\", \"retweet_count\": 27890, \"source\": \"<a href=\\\\\"http://twitter.com/download/android\\\\\" rel=\\\\\"nofollow\\\\\">Twitter for Android</a>\", \"text\": \"depression: ...\\\\nme: ...\\\\ndepression: ...\\\\nme: ...\\\\ndepression: ...\\\\nme: ...\\\\ndepression: ...\\\\nme: ...\\\\ndepression: ...\\\\nme:\\\\u2026 https://t.co/tsVCrRS6qs\", \"truncated\": true, \"urls\": [{\"expanded_url\": \"https://twitter.com/i/web/status/973675167229489152\", \"url\": \"https://t.co/tsVCrRS6qs\"}], \"user\": {\"created_at\": \"Fri Jul 08 05:43:18 +0000 2016\", \"description\": \"Lapsed punk kid. Queer. Poet. Storyteller. she/her.\\\\n\\\\nI\\'ll hold that hope for you, if it\\'s too heavy a burden. I\\'m glad you\\'re here.\\\\n\\\\n#ShowUpForWishes\", \"favourites_count\": 129484, \"followers_count\": 4141, \"friends_count\": 516, \"id\": 751290541707390976, \"lang\": \"en\", \"listed_count\": 101, \"location\": \"United States\", \"name\": \"gin.\", \"profile_background_color\": \"000000\", \"profile_background_image_url\": \"http://abs.twimg.com/images/themes/theme1/bg.png\", \"profile_banner_url\": \"https://pbs.twimg.com/profile_banners/751290541707390976/1518322667\", \"profile_image_url\": \"http://pbs.twimg.com/profile_images/964559910531821568/W6fJr9pS_normal.jpg\", \"profile_link_color\": \"5D041B\", \"profile_sidebar_fill_color\": \"000000\", \"profile_text_color\": \"000000\", \"screen_name\": \"showupforthis\", \"statuses_count\": 99863, \"url\": \"https://t.co/7CJ8u44xsY\"}, \"user_mentions\": []}, \"source\": \"<a href=\\\\\"http://twitter.com/download/iphone\\\\\" rel=\\\\\"nofollow\\\\\">Twitter for iPhone</a>\", \"text\": \"RT @showupforthis: depression: ...\\\\nme: ...\\\\ndepression: ...\\\\nme: ...\\\\ndepression: ...\\\\nme: ...\\\\ndepression: ...\\\\nme: ...\\\\ndepression: ...\\\\nme: ...\\\\u2026\", \"urls\": [], \"user\": {\"created_at\": \"Tue May 22 16:20:00 +0000 2012\", \"description\": \"19 | st mary\\'s university | writer | fulham fc\", \"favourites_count\": 54608, \"followers_count\": 735, \"friends_count\": 813, \"geo_enabled\": true, \"id\": 587546950, \"lang\": \"en\", \"listed_count\": 6, \"location\": \"Worcester Park, Surrey\", \"name\": \"laura\", \"profile_background_color\": \"DBE9ED\", \"profile_background_image_url\": \"http://pbs.twimg.com/profile_background_images/378800000026215120/aadb49656ea05c7860c398f1fe311917.jpeg\", \"profile_background_tile\": true, \"profile_image_url\": \"http://pbs.twimg.com/profile_images/950485032833085441/5_CfD22L_normal.jpg\", \"profile_link_color\": \"CC3366\", \"profile_sidebar_fill_color\": \"E6F6F9\", \"profile_text_color\": \"333333\", \"screen_name\": \"_laura3lizabeth\", \"statuses_count\": 5968, \"time_zone\": \"London\"}, \"user_mentions\": [{\"id\": 751290541707390976, \"name\": \"gin.\", \"screen_name\": \"showupforthis\"}]}',\n",
       "  '{\"created_at\": \"Thu Mar 15 08:58:52 +0000 2018\", \"hashtags\": [], \"id\": 974208295136264192, \"id_str\": \"974208295136264192\", \"lang\": \"en\", \"retweet_count\": 3, \"retweeted_status\": {\"created_at\": \"Thu Mar 15 08:58:08 +0000 2018\", \"favorite_count\": 3, \"hashtags\": [], \"id\": 974208112570728448, \"id_str\": \"974208112570728448\", \"lang\": \"en\", \"retweet_count\": 3, \"source\": \"<a href=\\\\\"http://twitter.com/download/iphone\\\\\" rel=\\\\\"nofollow\\\\\">Twitter for iPhone</a>\", \"text\": \"what i need is someone playing with my hair but what i have is depression\", \"urls\": [], \"user\": {\"created_at\": \"Sun Oct 17 00:18:28 +0000 2010\", \"description\": \"emotionally attached to my hydroflask and small dog \\\\u2022 @friedpickleluvr \\\\ud83c\\\\udff3\\\\ufe0f\\\\u200d\\\\ud83c\\\\udf08  private: @sleeepyhoe\", \"favourites_count\": 89083, \"followers_count\": 4146, \"friends_count\": 651, \"geo_enabled\": true, \"id\": 203729443, \"lang\": \"en\", \"listed_count\": 119, \"location\": \"AZ\\\\u202222\", \"name\": \"\\\\ud835\\\\udcff\\\\ud835\\\\udcee\\\\ud835\\\\udcf0\\\\ud835\\\\udcea\\\\ud835\\\\udcf7 \\\\ud835\\\\udcfd\\\\ud835\\\\udcf1\\\\ud835\\\\udcf8\\\\ud835\\\\udcfd\", \"profile_background_color\": \"0099B9\", \"profile_background_image_url\": \"http://pbs.twimg.com/profile_background_images/378800000053159068/f2b4bbd8b5586ffe8fcd81eec591a15e.jpeg\", \"profile_background_tile\": true, \"profile_banner_url\": \"https://pbs.twimg.com/profile_banners/203729443/1519763284\", \"profile_image_url\": \"http://pbs.twimg.com/profile_images/963524028089577472/zP-H2XvN_normal.jpg\", \"profile_link_color\": \"C20B97\", \"profile_sidebar_fill_color\": \"95E8EC\", \"profile_text_color\": \"3C3940\", \"screen_name\": \"yungscum\", \"statuses_count\": 90710, \"time_zone\": \"Pacific Time (US & Canada)\", \"url\": \"https://t.co/573bAuyVwe\", \"utc_offset\": -25200}, \"user_mentions\": []}, \"source\": \"<a href=\\\\\"http://twitter.com/download/android\\\\\" rel=\\\\\"nofollow\\\\\">Twitter for Android</a>\", \"text\": \"RT @yungscum: what i need is someone playing with my hair but what i have is depression\", \"urls\": [], \"user\": {\"created_at\": \"Thu Dec 25 02:40:35 +0000 2014\", \"description\": \"d&d saved my pussy\", \"favourites_count\": 49696, \"followers_count\": 194, \"friends_count\": 94, \"id\": 2940256829, \"lang\": \"en\", \"listed_count\": 16, \"location\": \"- UK - 18\", \"name\": \"peroxide bimbo reject\", \"profile_background_color\": \"642D8B\", \"profile_background_image_url\": \"http://pbs.twimg.com/profile_background_images/638435827064926208/KBnVkuRh.jpg\", \"profile_background_tile\": true, \"profile_banner_url\": \"https://pbs.twimg.com/profile_banners/2940256829/1518304410\", \"profile_image_url\": \"http://pbs.twimg.com/profile_images/972624988921614336/tM6ZcoDI_normal.jpg\", \"profile_link_color\": \"9932CC\", \"profile_sidebar_fill_color\": \"000000\", \"profile_text_color\": \"000000\", \"screen_name\": \"Ruadical\", \"statuses_count\": 35895, \"time_zone\": \"London\", \"url\": \"https://t.co/oIyaU7niTn\"}, \"user_mentions\": [{\"id\": 203729443, \"name\": \"\\\\ud835\\\\udcff\\\\ud835\\\\udcee\\\\ud835\\\\udcf0\\\\ud835\\\\udcea\\\\ud835\\\\udcf7 \\\\ud835\\\\udcfd\\\\ud835\\\\udcf1\\\\ud835\\\\udcf8\\\\ud835\\\\udcfd\", \"screen_name\": \"yungscum\"}]}',\n",
       "  '{\"created_at\": \"Thu Mar 15 08:58:51 +0000 2018\", \"hashtags\": [], \"id\": 974208293513121792, \"id_str\": \"974208293513121792\", \"lang\": \"en\", \"retweet_count\": 31131, \"retweeted_status\": {\"created_at\": \"Tue Mar 13 16:54:11 +0000 2018\", \"favorite_count\": 61771, \"hashtags\": [], \"id\": 973603138908426242, \"id_str\": \"973603138908426242\", \"lang\": \"en\", \"retweet_count\": 31131, \"source\": \"<a href=\\\\\"https://about.twitter.com/products/tweetdeck\\\\\" rel=\\\\\"nofollow\\\\\">TweetDeck</a>\", \"text\": \"once i fix my sleep schedule, start eating healthy, get physically fit, beat depression, stop procrastinating, lear\\\\u2026 https://t.co/o0LImOmZWi\", \"truncated\": true, \"urls\": [{\"expanded_url\": \"https://twitter.com/i/web/status/973603138908426242\", \"url\": \"https://t.co/o0LImOmZWi\"}], \"user\": {\"created_at\": \"Tue May 21 20:47:49 +0000 2013\", \"description\": \"i make like one video every 2 months and then i sleep\", \"favourites_count\": 1140, \"followers_count\": 99414, \"friends_count\": 52, \"id\": 1447245938, \"lang\": \"en\", \"listed_count\": 186, \"location\": \"Stockholm, Sweden\", \"name\": \"Seth Everman\", \"profile_background_color\": \"0D0D0D\", \"profile_background_image_url\": \"http://abs.twimg.com/images/themes/theme14/bg.gif\", \"profile_background_tile\": true, \"profile_banner_url\": \"https://pbs.twimg.com/profile_banners/1447245938/1506815592\", \"profile_image_url\": \"http://pbs.twimg.com/profile_images/919300291043954689/jjme8Hc-_normal.jpg\", \"profile_link_color\": \"000000\", \"profile_sidebar_fill_color\": \"DDEEF6\", \"profile_text_color\": \"333333\", \"screen_name\": \"SethEverman\", \"statuses_count\": 837, \"time_zone\": \"Athens\", \"url\": \"https://t.co/m0GjjxNAEZ\", \"utc_offset\": 7200}, \"user_mentions\": []}, \"source\": \"<a href=\\\\\"http://twitter.com/download/iphone\\\\\" rel=\\\\\"nofollow\\\\\">Twitter for iPhone</a>\", \"text\": \"RT @SethEverman: once i fix my sleep schedule, start eating healthy, get physically fit, beat depression, stop procrastinating, learn how t\\\\u2026\", \"urls\": [], \"user\": {\"created_at\": \"Sun Jun 23 02:18:07 +0000 2013\", \"description\": \"Marquese\\\\u2019s Girl \\\\u2764\\\\ufe0f\\\\ud83d\\\\udc8e\", \"favourites_count\": 5838, \"followers_count\": 579, \"friends_count\": 379, \"geo_enabled\": true, \"id\": 1539954565, \"lang\": \"en\", \"listed_count\": 2, \"name\": \"Ambie Bambie \\\\ud83d\\\\udda4\\\\u2728\\\\ud83d\\\\ude46\\\\ud83c\\\\udffd\", \"profile_background_color\": \"000000\", \"profile_background_image_url\": \"http://abs.twimg.com/images/themes/theme1/bg.png\", \"profile_banner_url\": \"https://pbs.twimg.com/profile_banners/1539954565/1521103846\", \"profile_image_url\": \"http://pbs.twimg.com/profile_images/974206250006216704/Ei8R8eA6_normal.jpg\", \"profile_link_color\": \"9266CC\", \"profile_sidebar_fill_color\": \"000000\", \"profile_text_color\": \"000000\", \"screen_name\": \"Its_Amb_\", \"statuses_count\": 14755, \"time_zone\": \"Pacific Time (US & Canada)\", \"utc_offset\": -25200}, \"user_mentions\": [{\"id\": 1447245938, \"name\": \"Seth Everman\", \"screen_name\": \"SethEverman\"}]}',\n",
       "  '{\"created_at\": \"Thu Mar 15 08:58:50 +0000 2018\", \"hashtags\": [], \"id\": 974208288421105664, \"id_str\": \"974208288421105664\", \"lang\": \"en\", \"retweet_count\": 2095, \"retweeted_status\": {\"created_at\": \"Wed Mar 14 01:28:03 +0000 2018\", \"favorite_count\": 5005, \"hashtags\": [], \"id\": 973732457752203264, \"id_str\": \"973732457752203264\", \"lang\": \"en\", \"retweet_count\": 2095, \"source\": \"<a href=\\\\\"http://twitter.com\\\\\" rel=\\\\\"nofollow\\\\\">Twitter Web Client</a>\", \"text\": \"in case u needed to hear this today, u aren\\\\u2019t less of a person b/c u have panic attacks. u aren\\\\u2019t less of a person\\\\u2026 https://t.co/PEK7L0lkGH\", \"truncated\": true, \"urls\": [{\"expanded_url\": \"https://twitter.com/i/web/status/973732457752203264\", \"url\": \"https://t.co/PEK7L0lkGH\"}], \"user\": {\"created_at\": \"Sun Aug 28 23:06:20 +0000 2016\", \"default_profile\": true, \"description\": \"if you loved me why was it so easy for you to leave me\", \"favourites_count\": 62, \"followers_count\": 34247, \"friends_count\": 9527, \"id\": 770034811276845057, \"lang\": \"en\", \"listed_count\": 274, \"location\": \"Turn on notifications \\\\ud83d\\\\udc9e\", \"name\": \"\\\\ud835\\\\udceb\\\\ud835\\\\udcf8\\\\ud835\\\\udcf8\", \"profile_background_color\": \"F5F8FA\", \"profile_banner_url\": \"https://pbs.twimg.com/profile_banners/770034811276845057/1513818988\", \"profile_image_url\": \"http://pbs.twimg.com/profile_images/962586471784943617/U0wTlRof_normal.jpg\", \"profile_link_color\": \"1DA1F2\", \"profile_sidebar_fill_color\": \"DDEEF6\", \"profile_text_color\": \"333333\", \"screen_name\": \"cheating\", \"statuses_count\": 76, \"time_zone\": \"Pacific Time (US & Canada)\", \"utc_offset\": -25200}, \"user_mentions\": []}, \"source\": \"<a href=\\\\\"http://twitter.com/download/iphone\\\\\" rel=\\\\\"nofollow\\\\\">Twitter for iPhone</a>\", \"text\": \"RT @cheating: in case u needed to hear this today, u aren\\\\u2019t less of a person b/c u have panic attacks. u aren\\\\u2019t less of a person b/c u have\\\\u2026\", \"urls\": [], \"user\": {\"created_at\": \"Mon Mar 31 14:23:17 +0000 2014\", \"description\": \"Hopefully I could sleep and never wake up\", \"favourites_count\": 2559, \"followers_count\": 244, \"friends_count\": 343, \"geo_enabled\": true, \"id\": 2420613722, \"lang\": \"en\", \"listed_count\": 2, \"location\": \"Malaysia\", \"name\": \"Veeknesh\\\\u2728\", \"profile_background_color\": \"000000\", \"profile_background_image_url\": \"http://abs.twimg.com/images/themes/theme1/bg.png\", \"profile_banner_url\": \"https://pbs.twimg.com/profile_banners/2420613722/1521044522\", \"profile_image_url\": \"http://pbs.twimg.com/profile_images/973953004989632515/3CxU9LLS_normal.jpg\", \"profile_link_color\": \"4A913C\", \"profile_sidebar_fill_color\": \"000000\", \"profile_text_color\": \"000000\", \"screen_name\": \"Veeknesh_Nesh\", \"statuses_count\": 3656, \"time_zone\": \"Krasnoyarsk\", \"utc_offset\": 25200}, \"user_mentions\": [{\"id\": 770034811276845057, \"name\": \"\\\\ud835\\\\udceb\\\\ud835\\\\udcf8\\\\ud835\\\\udcf8\", \"screen_name\": \"cheating\"}]}',\n",
       "  '{\"created_at\": \"Thu Mar 15 08:58:49 +0000 2018\", \"hashtags\": [], \"id\": 974208283006439426, \"id_str\": \"974208283006439426\", \"lang\": \"en\", \"retweet_count\": 306, \"retweeted_status\": {\"created_at\": \"Sun Mar 11 00:39:36 +0000 2018\", \"favorite_count\": 482, \"hashtags\": [], \"id\": 972633102433640448, \"id_str\": \"972633102433640448\", \"lang\": \"en\", \"retweet_count\": 306, \"source\": \"<a href=\\\\\"http://twitter.com/download/iphone\\\\\" rel=\\\\\"nofollow\\\\\">Twitter for iPhone</a>\", \"text\": \"Social media is triggering depression in a lot of people. Turn this shit off sometimes. It ain\\\\u2019t all good.\", \"urls\": [], \"user\": {\"created_at\": \"Sat Dec 05 18:42:12 +0000 2009\", \"description\": \"I\\'m that comedian from Wild\\'N\\'Out. I make people laugh when they want to. check out my podcast #85SouthShow. https://t.co/H5GjK968aV\", \"favourites_count\": 11456, \"followers_count\": 61330, \"friends_count\": 463, \"geo_enabled\": true, \"id\": 94844786, \"lang\": \"en\", \"listed_count\": 347, \"location\": \"WORLDWIDE Atlanta Ga\", \"name\": \"Put that on Karlous\", \"profile_background_color\": \"C0DEED\", \"profile_background_image_url\": \"http://pbs.twimg.com/profile_background_images/275762577/deLOUs.jpg\", \"profile_background_tile\": true, \"profile_banner_url\": \"https://pbs.twimg.com/profile_banners/94844786/1507665160\", \"profile_image_url\": \"http://pbs.twimg.com/profile_images/973263517196410880/hSbl_ybh_normal.jpg\", \"profile_link_color\": \"0084B4\", \"profile_sidebar_fill_color\": \"DDEEF6\", \"profile_text_color\": \"333333\", \"screen_name\": \"KarlousM\", \"statuses_count\": 156973, \"time_zone\": \"Central Time (US & Canada)\", \"url\": \"https://t.co/PKGEWTyvqQ\", \"utc_offset\": -18000, \"verified\": true}, \"user_mentions\": []}, \"source\": \"<a href=\\\\\"http://twitter.com/download/iphone\\\\\" rel=\\\\\"nofollow\\\\\">Twitter for iPhone</a>\", \"text\": \"RT @KarlousM: Social media is triggering depression in a lot of people. Turn this shit off sometimes. It ain\\\\u2019t all good.\", \"urls\": [], \"user\": {\"created_at\": \"Sun Dec 26 03:32:36 +0000 2010\", \"description\": \"Matthew 28:20 Luke 13:8 Gods\\' first, his next.\\\\ud83c\\\\uddef\\\\ud83c\\\\uddf2\\\\ud83c\\\\udde8\\\\ud83c\\\\uddfa\\\\ud83c\\\\uddfa\\\\ud83c\\\\uddf8 786\\\\ud83d\\\\udc76\\\\ud83c\\\\udffd\", \"favourites_count\": 97278, \"followers_count\": 871, \"friends_count\": 54, \"geo_enabled\": true, \"id\": 230608386, \"lang\": \"en\", \"listed_count\": 17, \"location\": \"rip greg \\\\u2764\\\\ufe0f\", \"name\": \"\\\\ud83e\\\\udd38\\\\ud83c\\\\udffd\\\\u200d\\\\u2640\\\\ufe0f\\\\ud83d\\\\udc8d ocean rider\", \"profile_background_color\": \"2E2423\", \"profile_background_image_url\": \"http://abs.twimg.com/images/themes/theme1/bg.png\", \"profile_banner_url\": \"https://pbs.twimg.com/profile_banners/230608386/1519611165\", \"profile_image_url\": \"http://pbs.twimg.com/profile_images/974205524655951873/VTE6MT15_normal.jpg\", \"profile_link_color\": \"9E2646\", \"profile_sidebar_fill_color\": \"77A31F\", \"profile_text_color\": \"36EB1A\", \"screen_name\": \"_monicabryant\", \"statuses_count\": 90275, \"url\": \"https://t.co/fWoiL3PeAH\"}, \"user_mentions\": [{\"id\": 94844786, \"name\": \"Put that on Karlous\", \"screen_name\": \"KarlousM\"}]}',\n",
       "  '{\"created_at\": \"Thu Mar 15 08:58:49 +0000 2018\", \"hashtags\": [{\"text\": \"DomesticAbuse\"}], \"id\": 974208282826067969, \"id_str\": \"974208282826067969\", \"lang\": \"en\", \"media\": [{\"display_url\": \"pic.twitter.com/U4devdlmSZ\", \"expanded_url\": \"https://twitter.com/womanstrust/status/973907005831294976/photo/1\", \"id\": 973906997757259779, \"media_url\": \"http://pbs.twimg.com/media/DYQDQSWWsAMGgQe.jpg\", \"media_url_https\": \"https://pbs.twimg.com/media/DYQDQSWWsAMGgQe.jpg\", \"sizes\": {\"large\": {\"h\": 1200, \"resize\": \"fit\", \"w\": 1600}, \"medium\": {\"h\": 900, \"resize\": \"fit\", \"w\": 1200}, \"small\": {\"h\": 510, \"resize\": \"fit\", \"w\": 680}, \"thumb\": {\"h\": 150, \"resize\": \"crop\", \"w\": 150}}, \"type\": \"photo\", \"url\": \"https://t.co/U4devdlmSZ\"}], \"retweet_count\": 4, \"retweeted_status\": {\"created_at\": \"Wed Mar 14 13:01:39 +0000 2018\", \"favorite_count\": 1, \"hashtags\": [{\"text\": \"DomesticAbuse\"}], \"id\": 973907005831294976, \"id_str\": \"973907005831294976\", \"lang\": \"en\", \"media\": [{\"display_url\": \"pic.twitter.com/U4devdlmSZ\", \"expanded_url\": \"https://twitter.com/womanstrust/status/973907005831294976/photo/1\", \"id\": 973906997757259779, \"media_url\": \"http://pbs.twimg.com/media/DYQDQSWWsAMGgQe.jpg\", \"media_url_https\": \"https://pbs.twimg.com/media/DYQDQSWWsAMGgQe.jpg\", \"sizes\": {\"large\": {\"h\": 1200, \"resize\": \"fit\", \"w\": 1600}, \"medium\": {\"h\": 900, \"resize\": \"fit\", \"w\": 1200}, \"small\": {\"h\": 510, \"resize\": \"fit\", \"w\": 680}, \"thumb\": {\"h\": 150, \"resize\": \"crop\", \"w\": 150}}, \"type\": \"photo\", \"url\": \"https://t.co/U4devdlmSZ\"}], \"retweet_count\": 4, \"source\": \"<a href=\\\\\"http://lightful.com\\\\\" rel=\\\\\"nofollow\\\\\">Lightful</a>\", \"text\": \"#DomesticAbuse is the leading cause of depression for women in the UK https://t.co/U4devdlmSZ\", \"urls\": [], \"user\": {\"created_at\": \"Thu Dec 17 11:38:55 +0000 2009\", \"description\": \"Supporting women affected by domestic abuse since 1995. Expert, specialist, free mental health support including one-to-one counselling.  Tweets by our staff\", \"favourites_count\": 1213, \"followers_count\": 5691, \"friends_count\": 1953, \"geo_enabled\": true, \"id\": 97423151, \"lang\": \"en\", \"listed_count\": 136, \"location\": \"London, UK\", \"name\": \"Woman\\'s Trust\", \"profile_background_color\": \"C6E2EE\", \"profile_background_image_url\": \"http://abs.twimg.com/images/themes/theme2/bg.gif\", \"profile_banner_url\": \"https://pbs.twimg.com/profile_banners/97423151/1508869419\", \"profile_image_url\": \"http://pbs.twimg.com/profile_images/2700628968/86b9b05b18df122b81bc034e2e6658ae_normal.jpeg\", \"profile_link_color\": \"1F98C7\", \"profile_sidebar_fill_color\": \"DAECF4\", \"profile_text_color\": \"663B12\", \"screen_name\": \"womanstrust\", \"statuses_count\": 10626, \"time_zone\": \"London\", \"url\": \"http://t.co/JEe4ulWE0I\"}, \"user_mentions\": []}, \"source\": \"<a href=\\\\\"http://twitter.com/download/iphone\\\\\" rel=\\\\\"nofollow\\\\\">Twitter for iPhone</a>\", \"text\": \"RT @womanstrust: #DomesticAbuse is the leading cause of depression for women in the UK https://t.co/U4devdlmSZ\", \"urls\": [], \"user\": {\"created_at\": \"Wed Jan 31 20:35:55 +0000 2018\", \"default_profile\": true, \"description\": \"Family Law Solicitor\", \"favourites_count\": 6, \"followers_count\": 19, \"friends_count\": 62, \"id\": 958801037607014403, \"lang\": \"en\", \"listed_count\": 2, \"location\": \"England, United Kingdom\", \"name\": \"Charlie Evans\", \"profile_background_color\": \"F5F8FA\", \"profile_image_url\": \"http://pbs.twimg.com/profile_images/968077210677542913/E8oKoYqN_normal.jpg\", \"profile_link_color\": \"1DA1F2\", \"profile_sidebar_fill_color\": \"DDEEF6\", \"profile_text_color\": \"333333\", \"screen_name\": \"a_littlelawyer\", \"statuses_count\": 41, \"url\": \"https://t.co/iqhU2kXhca\"}, \"user_mentions\": [{\"id\": 97423151, \"name\": \"Woman\\'s Trust\", \"screen_name\": \"womanstrust\"}]}',\n",
       "  '{\"created_at\": \"Thu Mar 15 08:58:46 +0000 2018\", \"hashtags\": [], \"id\": 974208270343790592, \"id_str\": \"974208270343790592\", \"lang\": \"fr\", \"retweet_count\": 10, \"retweeted_status\": {\"created_at\": \"Wed Mar 14 21:43:59 +0000 2018\", \"favorite_count\": 31, \"hashtags\": [], \"id\": 974038456522477569, \"id_str\": \"974038456522477569\", \"lang\": \"fr\", \"retweet_count\": 10, \"source\": \"<a href=\\\\\"http://twitter.com\\\\\" rel=\\\\\"nofollow\\\\\">Twitter Web Client</a>\", \"text\": \"\\\\ud83d\\\\udcfd NOUVELLE VID\\\\u00c9O !\\\\n\\\\nDemain, je gravirai le mont Celeste. La d\\\\u00e9pression personnifi\\\\u00e9e est la plus douce des confident\\\\u2026 https://t.co/scftJrab4P\", \"truncated\": true, \"urls\": [{\"expanded_url\": \"https://twitter.com/i/web/status/974038456522477569\", \"url\": \"https://t.co/scftJrab4P\"}], \"user\": {\"created_at\": \"Mon Jun 03 12:04:06 +0000 2013\", \"description\": \"Olibrius du jeu vid\\\\u00e9o sur Youtube \\\\ud83d\\\\udcfd\\\\ufe0f\\\\nJ\\'ai tra\\\\u00een\\\\u00e9 mes gu\\\\u00eatres \\\\u00e0 @ScPoLille \\\\ud83c\\\\udf27\\\\ufe0f\\\\n\\\\nP\\\\u00e9dale qui pige \\\\u00e0 @Numerama (mais surtout CM) / ex-stageman @Gamekult\", \"favourites_count\": 17053, \"followers_count\": 2323, \"friends_count\": 515, \"id\": 1479568147, \"lang\": \"fr\", \"listed_count\": 53, \"location\": \"Lille, France\", \"name\": \"Olbius\", \"profile_background_color\": \"000000\", \"profile_background_image_url\": \"http://abs.twimg.com/images/themes/theme1/bg.png\", \"profile_banner_url\": \"https://pbs.twimg.com/profile_banners/1479568147/1479724340\", \"profile_image_url\": \"http://pbs.twimg.com/profile_images/969183662104301578/rD-Fzz5l_normal.jpg\", \"profile_link_color\": \"3B94D9\", \"profile_sidebar_fill_color\": \"000000\", \"profile_text_color\": \"000000\", \"screen_name\": \"pierrolbius\", \"statuses_count\": 18565, \"time_zone\": \"Paris\", \"url\": \"https://t.co/CtwQVpDrzB\", \"utc_offset\": 3600}, \"user_mentions\": []}, \"source\": \"<a href=\\\\\"http://twitter.com/#!/download/ipad\\\\\" rel=\\\\\"nofollow\\\\\">Twitter for iPad</a>\", \"text\": \"RT @pierrolbius: \\\\ud83d\\\\udcfd NOUVELLE VID\\\\u00c9O !\\\\n\\\\nDemain, je gravirai le mont Celeste. La d\\\\u00e9pression personnifi\\\\u00e9e est la plus douce des confidentes. \\\\ud83c\\\\udfd4\\\\u2026\", \"urls\": [], \"user\": {\"created_at\": \"Tue Mar 31 17:25:03 +0000 2009\", \"description\": \"Game Designer (Scripter/QA/Playtest) searching for a job. Working on ASTRE demo @HylliosInt.\", \"favourites_count\": 2764, \"followers_count\": 606, \"friends_count\": 1386, \"geo_enabled\": true, \"id\": 27916814, \"lang\": \"fr\", \"listed_count\": 126, \"location\": \"France\", \"name\": \"ConkerJahk\", \"profile_background_color\": \"DD2E44\", \"profile_background_image_url\": \"http://pbs.twimg.com/profile_background_images/595688870961754112/0cLw3CmI.png\", \"profile_banner_url\": \"https://pbs.twimg.com/profile_banners/27916814/1520038576\", \"profile_image_url\": \"http://pbs.twimg.com/profile_images/969737835652767744/FHbNjeLa_normal.jpg\", \"profile_link_color\": \"DD2E44\", \"profile_sidebar_fill_color\": \"B812C7\", \"profile_text_color\": \"3D1957\", \"screen_name\": \"ConkerJahk\", \"statuses_count\": 38192, \"time_zone\": \"Paris\", \"url\": \"https://t.co/LbfWJkJFg0\", \"utc_offset\": 3600}, \"user_mentions\": [{\"id\": 1479568147, \"name\": \"Olbius\", \"screen_name\": \"pierrolbius\"}]}',\n",
       "  '{\"created_at\": \"Thu Mar 15 08:58:42 +0000 2018\", \"hashtags\": [], \"id\": 974208252824227840, \"id_str\": \"974208252824227840\", \"lang\": \"en\", \"retweet_count\": 27894, \"retweeted_status\": {\"created_at\": \"Tue Mar 13 21:40:24 +0000 2018\", \"favorite_count\": 90373, \"hashtags\": [], \"id\": 973675167229489152, \"id_str\": \"973675167229489152\", \"lang\": \"en\", \"retweet_count\": 27894, \"source\": \"<a href=\\\\\"http://twitter.com/download/android\\\\\" rel=\\\\\"nofollow\\\\\">Twitter for Android</a>\", \"text\": \"depression: ...\\\\nme: ...\\\\ndepression: ...\\\\nme: ...\\\\ndepression: ...\\\\nme: ...\\\\ndepression: ...\\\\nme: ...\\\\ndepression: ...\\\\nme:\\\\u2026 https://t.co/tsVCrRS6qs\", \"truncated\": true, \"urls\": [{\"expanded_url\": \"https://twitter.com/i/web/status/973675167229489152\", \"url\": \"https://t.co/tsVCrRS6qs\"}], \"user\": {\"created_at\": \"Fri Jul 08 05:43:18 +0000 2016\", \"description\": \"Lapsed punk kid. Queer. Poet. Storyteller. she/her.\\\\n\\\\nI\\'ll hold that hope for you, if it\\'s too heavy a burden. I\\'m glad you\\'re here.\\\\n\\\\n#ShowUpForWishes\", \"favourites_count\": 129484, \"followers_count\": 4141, \"friends_count\": 516, \"id\": 751290541707390976, \"lang\": \"en\", \"listed_count\": 101, \"location\": \"United States\", \"name\": \"gin.\", \"profile_background_color\": \"000000\", \"profile_background_image_url\": \"http://abs.twimg.com/images/themes/theme1/bg.png\", \"profile_banner_url\": \"https://pbs.twimg.com/profile_banners/751290541707390976/1518322667\", \"profile_image_url\": \"http://pbs.twimg.com/profile_images/964559910531821568/W6fJr9pS_normal.jpg\", \"profile_link_color\": \"5D041B\", \"profile_sidebar_fill_color\": \"000000\", \"profile_text_color\": \"000000\", \"screen_name\": \"showupforthis\", \"statuses_count\": 99863, \"url\": \"https://t.co/7CJ8u44xsY\"}, \"user_mentions\": []}, \"source\": \"<a href=\\\\\"http://twitter.com/download/iphone\\\\\" rel=\\\\\"nofollow\\\\\">Twitter for iPhone</a>\", \"text\": \"RT @showupforthis: depression: ...\\\\nme: ...\\\\ndepression: ...\\\\nme: ...\\\\ndepression: ...\\\\nme: ...\\\\ndepression: ...\\\\nme: ...\\\\ndepression: ...\\\\nme: ...\\\\u2026\", \"urls\": [], \"user\": {\"created_at\": \"Mon Feb 24 17:36:53 +0000 2014\", \"description\": \"\\\\ud83c\\\\udf31 The future is female \\\\u2640 @Greenpeace\\\\u267b\\\\ufe0f\", \"favourites_count\": 19854, \"followers_count\": 792, \"friends_count\": 678, \"geo_enabled\": true, \"id\": 2363330127, \"lang\": \"en\", \"listed_count\": 9, \"location\": \"D\\\\u00e9nia, Espa\\\\u00f1a - Argentina\", \"name\": \"mrc\", \"profile_background_color\": \"8899CC\", \"profile_background_image_url\": \"http://pbs.twimg.com/profile_background_images/540177857314426880/M5E2-cZP.jpeg\", \"profile_background_tile\": true, \"profile_banner_url\": \"https://pbs.twimg.com/profile_banners/2363330127/1518262699\", \"profile_image_url\": \"http://pbs.twimg.com/profile_images/921732205042372608/WyWfwcON_normal.jpg\", \"profile_link_color\": \"F5ABB5\", \"profile_sidebar_fill_color\": \"DDEEF6\", \"profile_text_color\": \"333333\", \"screen_name\": \"espejo_fatima\", \"statuses_count\": 49937, \"time_zone\": \"Pacific Time (US & Canada)\", \"url\": \"https://t.co/qFIcHuGjLv\", \"utc_offset\": -25200}, \"user_mentions\": [{\"id\": 751290541707390976, \"name\": \"gin.\", \"screen_name\": \"showupforthis\"}]}',\n",
       "  '{\"created_at\": \"Thu Mar 15 08:58:40 +0000 2018\", \"hashtags\": [], \"id\": 974208244636880896, \"id_str\": \"974208244636880896\", \"lang\": \"en\", \"retweet_count\": 2, \"retweeted_status\": {\"created_at\": \"Thu Mar 15 08:56:29 +0000 2018\", \"favorite_count\": 5, \"hashtags\": [], \"id\": 974207697800359936, \"id_str\": \"974207697800359936\", \"lang\": \"en\", \"retweet_count\": 2, \"source\": \"<a href=\\\\\"http://twitter.com/download/android\\\\\" rel=\\\\\"nofollow\\\\\">Twitter for Android</a>\", \"text\": \"Depression is more loyal than people\\\\ud83d\\\\udd25\", \"urls\": [], \"user\": {\"created_at\": \"Sun Sep 03 02:24:14 +0000 2017\", \"default_profile\": true, \"description\": \"|Pakistan is love||Muslim Alhmdulillah|\", \"favourites_count\": 28596, \"followers_count\": 1079, \"friends_count\": 192, \"id\": 904168124517408772, \"lang\": \"en\", \"listed_count\": 3, \"location\": \"Dreamland \\\\u2764\", \"name\": \"Sai\\\\u0642a\", \"profile_background_color\": \"F5F8FA\", \"profile_banner_url\": \"https://pbs.twimg.com/profile_banners/904168124517408772/1521029415\", \"profile_image_url\": \"http://pbs.twimg.com/profile_images/972160689199513600/qymU6ePw_normal.jpg\", \"profile_link_color\": \"1DA1F2\", \"profile_sidebar_fill_color\": \"DDEEF6\", \"profile_text_color\": \"333333\", \"screen_name\": \"Oye_Shokhi\", \"statuses_count\": 5921}, \"user_mentions\": []}, \"source\": \"<a href=\\\\\"http://twitter.com/download/android\\\\\" rel=\\\\\"nofollow\\\\\">Twitter for Android</a>\", \"text\": \"RT @Oye_Shokhi: Depression is more loyal than people\\\\ud83d\\\\udd25\", \"urls\": [], \"user\": {\"created_at\": \"Sat Aug 21 08:07:14 +0000 2010\", \"description\": \"\\\\u200f\\\\u200f\\\\u200f\\\\u0627\\\\u0644\\\\u0644\\\\u06c1 \\\\u067e\\\\u0627\\\\u06a9 \\\\u06a9\\\\u0627 \\\\u0634\\\\u06a9\\\\u0631\\\\u06af\\\\u0632\\\\u0627\\\\u0631 \\\\u0628\\\\u0646\\\\u062f\\\\u0627\", \"favourites_count\": 19252, \"followers_count\": 1806, \"friends_count\": 1840, \"geo_enabled\": true, \"id\": 181101108, \"lang\": \"en\", \"listed_count\": 7, \"location\": \"Still Searching......\", \"name\": \"Rehman ka Banda\", \"profile_background_color\": \"000000\", \"profile_background_image_url\": \"http://abs.twimg.com/images/themes/theme4/bg.gif\", \"profile_banner_url\": \"https://pbs.twimg.com/profile_banners/181101108/1452166047\", \"profile_image_url\": \"http://pbs.twimg.com/profile_images/943006562322436101/EkWizF2S_normal.jpg\", \"profile_link_color\": \"4A913C\", \"profile_sidebar_fill_color\": \"000000\", \"profile_text_color\": \"000000\", \"screen_name\": \"zafarsaeed\", \"statuses_count\": 17064, \"time_zone\": \"Karachi\", \"utc_offset\": 18000}, \"user_mentions\": [{\"id\": 904168124517408772, \"name\": \"Sai\\\\u0642a\", \"screen_name\": \"Oye_Shokhi\"}]}',\n",
       "  '{\"created_at\": \"Thu Mar 15 08:58:39 +0000 2018\", \"hashtags\": [], \"id\": 974208243697266688, \"id_str\": \"974208243697266688\", \"lang\": \"en\", \"retweet_count\": 2983, \"retweeted_status\": {\"created_at\": \"Wed Mar 14 05:04:31 +0000 2018\", \"favorite_count\": 9153, \"hashtags\": [], \"id\": 973786932575723521, \"id_str\": \"973786932575723521\", \"lang\": \"en\", \"retweet_count\": 2983, \"source\": \"<a href=\\\\\"http://twitter.com/download/android\\\\\" rel=\\\\\"nofollow\\\\\">Twitter for Android</a>\", \"text\": \"\\\\\"\\'Depressed ako\\' is different from Major Depressive Disorder or Clinical Depression.\\\\\"\\\\n\\\\nUhm. No. If you are sad, may\\\\u2026 https://t.co/AV216PDsf8\", \"truncated\": true, \"urls\": [{\"expanded_url\": \"https://twitter.com/i/web/status/973786932575723521\", \"url\": \"https://t.co/AV216PDsf8\"}], \"user\": {\"created_at\": \"Wed Feb 10 02:48:38 +0000 2016\", \"description\": \"Lumos Maxima.\\\\nCo-Founder of @SmarterOnePH.\\\\nChief Psychologist of Argao Center. MIG.\", \"favourites_count\": 6373, \"followers_count\": 4277, \"friends_count\": 659, \"geo_enabled\": true, \"id\": 4885910744, \"lang\": \"en\", \"listed_count\": 26, \"location\": \"MNL | GUM\", \"name\": \"Renz Argao #MoveForMH\", \"profile_background_color\": \"000000\", \"profile_background_image_url\": \"http://abs.twimg.com/images/themes/theme1/bg.png\", \"profile_banner_url\": \"https://pbs.twimg.com/profile_banners/4885910744/1515313558\", \"profile_image_url\": \"http://pbs.twimg.com/profile_images/949920022108946432/GvTGak9o_normal.jpg\", \"profile_link_color\": \"000080\", \"profile_sidebar_fill_color\": \"000000\", \"profile_text_color\": \"000000\", \"screen_name\": \"RenzArgao\", \"statuses_count\": 7333, \"time_zone\": \"Hong Kong\", \"utc_offset\": 28800}, \"user_mentions\": []}, \"source\": \"<a href=\\\\\"http://twitter.com/download/iphone\\\\\" rel=\\\\\"nofollow\\\\\">Twitter for iPhone</a>\", \"text\": \"RT @RenzArgao: \\\\\"\\'Depressed ako\\' is different from Major Depressive Disorder or Clinical Depression.\\\\\"\\\\n\\\\nUhm. No. If you are sad, maybe you ca\\\\u2026\", \"urls\": [], \"user\": {\"created_at\": \"Thu Dec 01 10:30:49 +0000 2016\", \"description\": \"@leirbagergela sweetest boi || #WakandaForever\", \"favourites_count\": 27678, \"followers_count\": 137, \"friends_count\": 130, \"geo_enabled\": true, \"id\": 804271527839444992, \"lang\": \"en\", \"listed_count\": 1, \"location\": \"Berlin, Germany\", \"name\": \"\\\\uff57\\\\uff49\\\\uff4e\\\\uff4f\\\\uff4e\\\\uff41\\\\u3000\\\\u7af9\\\\u30ad\\\\u30fc\", \"profile_background_color\": \"000000\", \"profile_background_image_url\": \"http://abs.twimg.com/images/themes/theme1/bg.png\", \"profile_banner_url\": \"https://pbs.twimg.com/profile_banners/804271527839444992/1517715930\", \"profile_image_url\": \"http://pbs.twimg.com/profile_images/959996140245565440/sSj8K_cE_normal.jpg\", \"profile_link_color\": \"F58EA8\", \"profile_sidebar_fill_color\": \"000000\", \"profile_text_color\": \"000000\", \"screen_name\": \"bella_senyorita\", \"statuses_count\": 8566, \"time_zone\": \"Pacific Time (US & Canada)\", \"utc_offset\": -25200}, \"user_mentions\": [{\"id\": 4885910744, \"name\": \"Renz Argao #MoveForMH\", \"screen_name\": \"RenzArgao\"}]}',\n",
       "  '{\"created_at\": \"Thu Mar 15 08:58:39 +0000 2018\", \"hashtags\": [], \"id\": 974208241499439104, \"id_str\": \"974208241499439104\", \"lang\": \"en\", \"retweet_count\": 2, \"retweeted_status\": {\"created_at\": \"Thu Mar 15 08:58:08 +0000 2018\", \"favorite_count\": 2, \"hashtags\": [], \"id\": 974208112570728448, \"id_str\": \"974208112570728448\", \"lang\": \"en\", \"retweet_count\": 2, \"source\": \"<a href=\\\\\"http://twitter.com/download/iphone\\\\\" rel=\\\\\"nofollow\\\\\">Twitter for iPhone</a>\", \"text\": \"what i need is someone playing with my hair but what i have is depression\", \"urls\": [], \"user\": {\"created_at\": \"Sun Oct 17 00:18:28 +0000 2010\", \"description\": \"emotionally attached to my hydroflask and small dog \\\\u2022 @friedpickleluvr \\\\ud83c\\\\udff3\\\\ufe0f\\\\u200d\\\\ud83c\\\\udf08  private: @sleeepyhoe\", \"favourites_count\": 89083, \"followers_count\": 4146, \"friends_count\": 651, \"geo_enabled\": true, \"id\": 203729443, \"lang\": \"en\", \"listed_count\": 119, \"location\": \"AZ\\\\u202222\", \"name\": \"\\\\ud835\\\\udcff\\\\ud835\\\\udcee\\\\ud835\\\\udcf0\\\\ud835\\\\udcea\\\\ud835\\\\udcf7 \\\\ud835\\\\udcfd\\\\ud835\\\\udcf1\\\\ud835\\\\udcf8\\\\ud835\\\\udcfd\", \"profile_background_color\": \"0099B9\", \"profile_background_image_url\": \"http://pbs.twimg.com/profile_background_images/378800000053159068/f2b4bbd8b5586ffe8fcd81eec591a15e.jpeg\", \"profile_background_tile\": true, \"profile_banner_url\": \"https://pbs.twimg.com/profile_banners/203729443/1519763284\", \"profile_image_url\": \"http://pbs.twimg.com/profile_images/963524028089577472/zP-H2XvN_normal.jpg\", \"profile_link_color\": \"C20B97\", \"profile_sidebar_fill_color\": \"95E8EC\", \"profile_text_color\": \"3C3940\", \"screen_name\": \"yungscum\", \"statuses_count\": 90710, \"time_zone\": \"Pacific Time (US & Canada)\", \"url\": \"https://t.co/573bAuyVwe\", \"utc_offset\": -25200}, \"user_mentions\": []}, \"source\": \"<a href=\\\\\"http://twitter.com/download/iphone\\\\\" rel=\\\\\"nofollow\\\\\">Twitter for iPhone</a>\", \"text\": \"RT @yungscum: what i need is someone playing with my hair but what i have is depression\", \"urls\": [], \"user\": {\"created_at\": \"Wed Jan 28 22:59:35 +0000 2015\", \"default_profile\": true, \"description\": \"You won\\'t.\", \"favourites_count\": 39754, \"followers_count\": 773, \"friends_count\": 1444, \"geo_enabled\": true, \"id\": 3000001496, \"lang\": \"en\", \"location\": \"Spokane, WA\", \"name\": \"you aint shit but same\", \"profile_background_color\": \"C0DEED\", \"profile_background_image_url\": \"http://abs.twimg.com/images/themes/theme1/bg.png\", \"profile_banner_url\": \"https://pbs.twimg.com/profile_banners/3000001496/1460754502\", \"profile_image_url\": \"http://pbs.twimg.com/profile_images/945813618989219840/a1_aSM8Q_normal.jpg\", \"profile_link_color\": \"1DA1F2\", \"profile_sidebar_fill_color\": \"DDEEF6\", \"profile_text_color\": \"333333\", \"screen_name\": \"Okay_Nicoley\", \"statuses_count\": 16078}, \"user_mentions\": [{\"id\": 203729443, \"name\": \"\\\\ud835\\\\udcff\\\\ud835\\\\udcee\\\\ud835\\\\udcf0\\\\ud835\\\\udcea\\\\ud835\\\\udcf7 \\\\ud835\\\\udcfd\\\\ud835\\\\udcf1\\\\ud835\\\\udcf8\\\\ud835\\\\udcfd\", \"screen_name\": \"yungscum\"}]}',\n",
       "  '{\"created_at\": \"Thu Mar 15 08:58:38 +0000 2018\", \"hashtags\": [], \"id\": 974208236776652806, \"id_str\": \"974208236776652806\", \"lang\": \"en\", \"retweet_count\": 2095, \"retweeted_status\": {\"created_at\": \"Wed Mar 14 01:28:03 +0000 2018\", \"favorite_count\": 5005, \"hashtags\": [], \"id\": 973732457752203264, \"id_str\": \"973732457752203264\", \"lang\": \"en\", \"retweet_count\": 2095, \"source\": \"<a href=\\\\\"http://twitter.com\\\\\" rel=\\\\\"nofollow\\\\\">Twitter Web Client</a>\", \"text\": \"in case u needed to hear this today, u aren\\\\u2019t less of a person b/c u have panic attacks. u aren\\\\u2019t less of a person\\\\u2026 https://t.co/PEK7L0lkGH\", \"truncated\": true, \"urls\": [{\"expanded_url\": \"https://twitter.com/i/web/status/973732457752203264\", \"url\": \"https://t.co/PEK7L0lkGH\"}], \"user\": {\"created_at\": \"Sun Aug 28 23:06:20 +0000 2016\", \"default_profile\": true, \"description\": \"if you loved me why was it so easy for you to leave me\", \"favourites_count\": 62, \"followers_count\": 34247, \"friends_count\": 9527, \"id\": 770034811276845057, \"lang\": \"en\", \"listed_count\": 274, \"location\": \"Turn on notifications \\\\ud83d\\\\udc9e\", \"name\": \"\\\\ud835\\\\udceb\\\\ud835\\\\udcf8\\\\ud835\\\\udcf8\", \"profile_background_color\": \"F5F8FA\", \"profile_banner_url\": \"https://pbs.twimg.com/profile_banners/770034811276845057/1513818988\", \"profile_image_url\": \"http://pbs.twimg.com/profile_images/962586471784943617/U0wTlRof_normal.jpg\", \"profile_link_color\": \"1DA1F2\", \"profile_sidebar_fill_color\": \"DDEEF6\", \"profile_text_color\": \"333333\", \"screen_name\": \"cheating\", \"statuses_count\": 76, \"time_zone\": \"Pacific Time (US & Canada)\", \"utc_offset\": -25200}, \"user_mentions\": []}, \"source\": \"<a href=\\\\\"http://twitter.com/download/iphone\\\\\" rel=\\\\\"nofollow\\\\\">Twitter for iPhone</a>\", \"text\": \"RT @cheating: in case u needed to hear this today, u aren\\\\u2019t less of a person b/c u have panic attacks. u aren\\\\u2019t less of a person b/c u have\\\\u2026\", \"urls\": [], \"user\": {\"created_at\": \"Mon Apr 09 16:37:45 +0000 2012\", \"description\": \"i want this bio to be cool but i know it\\\\u2019ll sound lame so just imagine an edgy while girl quote.\", \"favourites_count\": 5390, \"followers_count\": 553, \"friends_count\": 1344, \"geo_enabled\": true, \"id\": 549361790, \"lang\": \"en\", \"listed_count\": 1, \"name\": \"\\\\ud83e\\\\udd40Haley\\\\ud83e\\\\udd40\", \"profile_background_color\": \"2D778A\", \"profile_background_image_url\": \"http://pbs.twimg.com/profile_background_images/854651651/f690668f8e85ad6fdc21e81d7d0538a9.jpeg\", \"profile_background_tile\": true, \"profile_banner_url\": \"https://pbs.twimg.com/profile_banners/549361790/1510113373\", \"profile_image_url\": \"http://pbs.twimg.com/profile_images/972705970441789440/Sb5zHKZK_normal.jpg\", \"profile_link_color\": \"FF0000\", \"profile_sidebar_fill_color\": \"DDEEF6\", \"profile_text_color\": \"333333\", \"screen_name\": \"xxwhaleyxx\", \"statuses_count\": 6118, \"time_zone\": \"Atlantic Time (Canada)\", \"url\": \"https://t.co/r6OcRHGRvF\", \"utc_offset\": -10800}, \"user_mentions\": [{\"id\": 770034811276845057, \"name\": \"\\\\ud835\\\\udceb\\\\ud835\\\\udcf8\\\\ud835\\\\udcf8\", \"screen_name\": \"cheating\"}]}',\n",
       "  '{\"created_at\": \"Thu Mar 15 08:58:36 +0000 2018\", \"hashtags\": [], \"id\": 974208229344296961, \"id_str\": \"974208229344296961\", \"lang\": \"en\", \"retweet_count\": 27894, \"retweeted_status\": {\"created_at\": \"Tue Mar 13 21:40:24 +0000 2018\", \"favorite_count\": 90373, \"hashtags\": [], \"id\": 973675167229489152, \"id_str\": \"973675167229489152\", \"lang\": \"en\", \"retweet_count\": 27894, \"source\": \"<a href=\\\\\"http://twitter.com/download/android\\\\\" rel=\\\\\"nofollow\\\\\">Twitter for Android</a>\", \"text\": \"depression: ...\\\\nme: ...\\\\ndepression: ...\\\\nme: ...\\\\ndepression: ...\\\\nme: ...\\\\ndepression: ...\\\\nme: ...\\\\ndepression: ...\\\\nme:\\\\u2026 https://t.co/tsVCrRS6qs\", \"truncated\": true, \"urls\": [{\"expanded_url\": \"https://twitter.com/i/web/status/973675167229489152\", \"url\": \"https://t.co/tsVCrRS6qs\"}], \"user\": {\"created_at\": \"Fri Jul 08 05:43:18 +0000 2016\", \"description\": \"Lapsed punk kid. Queer. Poet. Storyteller. she/her.\\\\n\\\\nI\\'ll hold that hope for you, if it\\'s too heavy a burden. I\\'m glad you\\'re here.\\\\n\\\\n#ShowUpForWishes\", \"favourites_count\": 129484, \"followers_count\": 4141, \"friends_count\": 516, \"id\": 751290541707390976, \"lang\": \"en\", \"listed_count\": 101, \"location\": \"United States\", \"name\": \"gin.\", \"profile_background_color\": \"000000\", \"profile_background_image_url\": \"http://abs.twimg.com/images/themes/theme1/bg.png\", \"profile_banner_url\": \"https://pbs.twimg.com/profile_banners/751290541707390976/1518322667\", \"profile_image_url\": \"http://pbs.twimg.com/profile_images/964559910531821568/W6fJr9pS_normal.jpg\", \"profile_link_color\": \"5D041B\", \"profile_sidebar_fill_color\": \"000000\", \"profile_text_color\": \"000000\", \"screen_name\": \"showupforthis\", \"statuses_count\": 99863, \"url\": \"https://t.co/7CJ8u44xsY\"}, \"user_mentions\": []}, \"source\": \"<a href=\\\\\"http://twitter.com/download/iphone\\\\\" rel=\\\\\"nofollow\\\\\">Twitter for iPhone</a>\", \"text\": \"RT @showupforthis: depression: ...\\\\nme: ...\\\\ndepression: ...\\\\nme: ...\\\\ndepression: ...\\\\nme: ...\\\\ndepression: ...\\\\nme: ...\\\\ndepression: ...\\\\nme: ...\\\\u2026\", \"urls\": [], \"user\": {\"created_at\": \"Thu Jul 27 10:48:35 +0000 2017\", \"default_profile\": true, \"description\": \"Vocalist for @Zer0PercentBand . I am SCANDALIZED\", \"favourites_count\": 11770, \"followers_count\": 229, \"friends_count\": 236, \"geo_enabled\": true, \"id\": 890524309650722816, \"lang\": \"en\", \"location\": \"Cebu City, Central Visayas\", \"name\": \"Break\\\\u270f\\\\ufe0fLikeStrings\", \"profile_background_color\": \"F5F8FA\", \"profile_banner_url\": \"https://pbs.twimg.com/profile_banners/890524309650722816/1518777863\", \"profile_image_url\": \"http://pbs.twimg.com/profile_images/960455423076614145/V2kkj8UC_normal.jpg\", \"profile_link_color\": \"1DA1F2\", \"profile_sidebar_fill_color\": \"DDEEF6\", \"profile_text_color\": \"333333\", \"screen_name\": \"AnganBea\", \"statuses_count\": 3619}, \"user_mentions\": [{\"id\": 751290541707390976, \"name\": \"gin.\", \"screen_name\": \"showupforthis\"}]}']}"
      ]
     },
     "execution_count": 40,
     "metadata": {},
     "output_type": "execute_result"
    }
   ],
   "source": [
    "pickle_loader('dTwt.txt')"
   ]
  },
  {
   "cell_type": "code",
   "execution_count": 50,
   "metadata": {},
   "outputs": [
    {
     "name": "stdout",
     "output_type": "stream",
     "text": [
      "reurilove : RT @showupforthis: depression: ...\n",
      "me: ...\n",
      "depression: ...\n",
      "me: ...\n",
      "depression: ...\n",
      "me: ...\n",
      "depression: ...\n",
      "me: ...\n",
      "depression: ...\n",
      "me: ...…\n",
      "pearcy3000 : Dont usally rite tweets with out fully understanding the situation not really up with news or politics dont watch i… https://t.co/IJo4faMrU2\n",
      "_laura3lizabeth : RT @showupforthis: depression: ...\n",
      "me: ...\n",
      "depression: ...\n",
      "me: ...\n",
      "depression: ...\n",
      "me: ...\n",
      "depression: ...\n",
      "me: ...\n",
      "depression: ...\n",
      "me: ...…\n",
      "Ruadical : RT @yungscum: what i need is someone playing with my hair but what i have is depression\n",
      "Its_Amb_ : RT @SethEverman: once i fix my sleep schedule, start eating healthy, get physically fit, beat depression, stop procrastinating, learn how t…\n",
      "Veeknesh_Nesh : RT @cheating: in case u needed to hear this today, u aren’t less of a person b/c u have panic attacks. u aren’t less of a person b/c u have…\n",
      "_monicabryant : RT @KarlousM: Social media is triggering depression in a lot of people. Turn this shit off sometimes. It ain’t all good.\n",
      "a_littlelawyer : RT @womanstrust: #DomesticAbuse is the leading cause of depression for women in the UK https://t.co/U4devdlmSZ\n",
      "ConkerJahk : RT @pierrolbius: 📽 NOUVELLE VIDÉO !\n",
      "\n",
      "Demain, je gravirai le mont Celeste. La dépression personnifiée est la plus douce des confidentes. 🏔…\n",
      "espejo_fatima : RT @showupforthis: depression: ...\n",
      "me: ...\n",
      "depression: ...\n",
      "me: ...\n",
      "depression: ...\n",
      "me: ...\n",
      "depression: ...\n",
      "me: ...\n",
      "depression: ...\n",
      "me: ...…\n",
      "zafarsaeed : RT @Oye_Shokhi: Depression is more loyal than people🔥\n",
      "bella_senyorita : RT @RenzArgao: \"'Depressed ako' is different from Major Depressive Disorder or Clinical Depression.\"\n",
      "\n",
      "Uhm. No. If you are sad, maybe you ca…\n",
      "Okay_Nicoley : RT @yungscum: what i need is someone playing with my hair but what i have is depression\n",
      "xxwhaleyxx : RT @cheating: in case u needed to hear this today, u aren’t less of a person b/c u have panic attacks. u aren’t less of a person b/c u have…\n",
      "AnganBea : RT @showupforthis: depression: ...\n",
      "me: ...\n",
      "depression: ...\n",
      "me: ...\n",
      "depression: ...\n",
      "me: ...\n",
      "depression: ...\n",
      "me: ...\n",
      "depression: ...\n",
      "me: ...…\n"
     ]
    }
   ],
   "source": [
    "for i in d_tweets_1:\n",
    "    print(i.user.screen_name + \" : \" + i.text.strip('\\n\\n'))"
   ]
  },
  {
   "cell_type": "code",
   "execution_count": 51,
   "metadata": {},
   "outputs": [
    {
     "data": {
      "text/plain": [
       "15"
      ]
     },
     "execution_count": 51,
     "metadata": {},
     "output_type": "execute_result"
    }
   ],
   "source": [
    "len(d_tweets_1)"
   ]
  },
  {
   "cell_type": "code",
   "execution_count": null,
   "metadata": {},
   "outputs": [],
   "source": []
  }
 ],
 "metadata": {
  "kernelspec": {
   "display_name": "Python 3",
   "language": "python",
   "name": "python3"
  },
  "language_info": {
   "codemirror_mode": {
    "name": "ipython",
    "version": 3
   },
   "file_extension": ".py",
   "mimetype": "text/x-python",
   "name": "python",
   "nbconvert_exporter": "python",
   "pygments_lexer": "ipython3",
   "version": "3.5.2"
  }
 },
 "nbformat": 4,
 "nbformat_minor": 2
}
