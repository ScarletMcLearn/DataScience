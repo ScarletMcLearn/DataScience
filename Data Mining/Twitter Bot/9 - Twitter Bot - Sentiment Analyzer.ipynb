{
 "cells": [
  {
   "cell_type": "code",
   "execution_count": 1,
   "metadata": {},
   "outputs": [],
   "source": [
    "n_1 = 'abnormal, abolish, abominable, abominably, abominate, abomination, abort, aborted, aborts, abrade, abrasive, abrupt, abruptly, abscond, absence, absent-minded, absentee, absurd, absurdity, absurdly, absurdness, abuse, abused, abuses, abusive, abysmal, abysmally, abyss, accidental, accost, accursed, accusation, accusations, accuse, accuses, accusing, accusingly, acerbate, acerbic, acerbically, ache, ached, aches, aching, acrid, acridly, acridness, acrimonious, acrimoniously, acrimony, adamant, adamantly, addict, addicted, addicting, addicts, admonish, admonisher, admonishingly, admonishment, admonition, adulterate, adulterated, adulteration, adversarial, adversary, adverse, adversity, afflict, affliction, afflictive, affront, afraid, aggravate, aggravating, aggravation, aggression, aggressive, aggressiveness, aggressor, aggrieve, aggrieved, aghast, agonies, agonize, agonizing, agonizingly, agony, aground, ail, ailing, ailment, aimless, alarm, alarmed, alarming, alarmingly, alienate, alienated, alienation, allegation, allegations, allege, allergic, allergies, allergy, aloof, altercation, ambiguity, ambiguous, ambivalence, ambivalent, ambush, amiss, amputate, anarchism, anarchist, anarchistic, anarchy, anemic, anger, angrily, angriness, angry, anguish, animosity, annihilate, annihilation, annoy, annoyance, annoyances, annoyed, annoying, annoyingly, annoys, anomalous, anomaly, antagonism, antagonist, antagonistic, antagonize, anti-, anti-occupation, anti-proliferation, anti-social, anti-us, anti-white, antipathy, antiquated, antithetical, anxieties, anxiety, anxious, anxiously, anxiousness, apathetic, apathetically, apathy, apocalypse, apocalyptic, apologist, apologists, appall, appalled, appalling, appallingly, apprehension, apprehensions, apprehensive, apprehensively, arbitrary, arcane, archaic, arduous, arduously, argumentative, arrogance, arrogant, arrogantly, ashamed, asinine, asininely, askance, asperse, aspersion, aspersions, assail, assassin, assassinate, assault, astray, asunder, atrocious, atrocities, atrocity, atrophy, attack, attacks, audacious, audaciously, audaciousness, audacity, austere, authoritarian, autocrat, autocratic, avalanche, avarice, avaricious, avariciously, avenge, averse, aversion, awful, awfully, awfulness, awkward, awkwardness, ax'"
   ]
  },
  {
   "cell_type": "code",
   "execution_count": 2,
   "metadata": {},
   "outputs": [],
   "source": [
    "n_2 = 'babble, back-logged, back-wood, back-woods, backache, backaches, backbite, backbiting, backward, backwardness, backwoods, bad, badly, baffle, baffled, bafflement, baffling, bait, balk, banal, bane, banish, banishment, bankrupt, barbarian, barbaric, barbarically, barbarity, barbarous, barbarously, barren, baseless, bash, bashed, bashful, bashing, bastard, bastards, battered, battering, batty, bearish, beastly, bedlam, bedlamite, befoul, beg, beggar, beggarly, begging, beguile, belabor, belated, beleaguer, belie, belittle, belittled, belittling, bellicose, belligerence, belligerent, belligerently, bemoan, bemoaning, bemused, bent, berate, bereave, bereavement, bereft, berserk, beseech, beset, besiege, besmirch, bestial, betray, betrayal, betrayals, betrayer, betraying, betrays, bewail, beware, bewilder, bewildered, bewildering, bewilderingly, bewilderment, bewitch, bias, biased, biases, bicker, bickering, bid-rigging, bigotries, bigotry, bitch, bitchy, biting, bitingly, bitter, bitterly, bitterness, bizarre, blab, blabber, blackmail, blah, blame, blameworthy, bland, blandish, blaspheme, blasphemous, blasphemy, blasted, blatant, blatantly, blather, bleak, bleakly, bleakness, bleed, bleeding, bleeds, blemish, blind, blinding, blindingly, blindside, blister, blistering, bloated, blockage, blockhead, bloodshed, bloodthirsty, bloody, blotchy, blow, blunder, blundering, blunders, blunt, blur, blurred, blurring, blurry, blurs, blurt, boastful, boggle, bogus, boil, boiling, boisterous, bomb, bombard, bombardment, bombastic, bondage, bonkers, bore, bored, boredom, bores, boring, botch, bother, bothered, bothering, bothers, bothersome, bowdlerize, boycott, braggart, bragger, brainless, brainwash, brash, brashly, brashness, brat, bravado, brazen, brazenly, brazenness, breach, break, break-up, break-ups, breakdown, breaking, breaks, breakup, breakups, bribery, brimstone, bristle, brittle, broke, broken, broken-hearted, brood, browbeat, bruise, bruised, bruises, bruising, brusque, brutal, brutalities, brutality, brutalize, brutalizing, brutally, brute, brutish, buckle, bug, bugging, buggy, bugs, bulkier, bulkiness, bulky, bull****, bull—-, bullies, bullshit, bully, bullying, bullyingly, bum, bump, bumped, bumping, bumps, bumpy, bungle, bungler, bungling, bunk, burden, burdensome, burdensomely, burn, burned, burning, burns, bust, busts, busybody, butcher, butchery, buzzing, byzantine'"
   ]
  },
  {
   "cell_type": "code",
   "execution_count": 3,
   "metadata": {},
   "outputs": [],
   "source": [
    "n_3 = 'cackle, calamities, calamitous, calamitously, calamity, callous, calumniate, calumniation, calumnies, calumnious, calumniously, calumny, cancer, cancerous, cannibal, cannibalize, capitulate, capricious, capriciously, capriciousness, capsize, careless, carelessness, caricature, carnage, carp, cartoonish, cash-strapped, castigate, castrated, casualty, cataclysm, cataclysmal, cataclysmic, cataclysmically, catastrophe, catastrophes, catastrophic, catastrophically, caustic, caustically, cautionary, cave, censure, chafe, chaff, chagrin, challenging, chaos, chaotic, chasten, chastise, chastisement, chatter, chatterbox, cheap, cheapen, cheaply, cheat, cheated, cheater, cheating, cheats, checkered, cheerless, cheesy, chide, childish, chill, chilly, chintzy, choke, choleric, choppy, chore, chronic, chunky, clamor, clamorous, clash, clique, clog, clogged, clogs, cloud, clouding, cloudy, clueless, clumsy, clunky, coarse, cocky, coerce, coercion, coercive, cold, coldly, collapse, collude, collusion, combative, combust, comical, commiserate, commonplace, commotion, commotions, complacent, complain, complained, complaining, complains, complaint, complaints, complex, complicated, complication, complicit, compulsion, compulsive, concede, conceded, conceit, conceited, concern, concerned, concerns, concession, concessions, condemn, condemnable, condemnation, condemned, condemns, condescend, condescending, condescendingly, condescension, confess, confession, confessions, confined, conflict, conflicted, conflicting, conflicts, confound, confounded, confounding, confront, confrontation, confrontational, confuse, confused, confuses, confusing, confusion, confusions, congested, congestion, cons, conservative, conspicuous, conspicuously, conspiracies, conspiracy, conspirator, conspiratorial, conspire, consternation, contagious, contaminate, contaminated, contaminates, contaminating, contamination, contempt, contemptible, contemptuous, contemptuously, contend, contention, contentious, contort, contortions, contradict, contradiction, contradictory, contrariness, contravene, contrive, contrived, controversial, controversy, convoluted, corrode, corrosion, corrosions, corrosive, corrupt, corrupted, corrupting, corruption, corrupts, costlier, costly, counter-productive, counterproductive, covetous, coward, cowardly, crabby, crack, cracked, cracks, craftily, crafty, cramp, cramped, cramping, cranky, crap, crappy, craps, crash, crashed, crashes, crashing, crass, craven, cravenly, craze, crazily, craziness, crazy, creak, creaking, creaks, credulous, creep, creeping, creeps, creepy, crept, crime, criminal, cringe, cringed, cringes, cripple, crippled, cripples, crippling, crisis, critic, critical, criticism, criticisms, criticize, criticized, criticizing, critics, cronyism, crook, crooked, crooks, crowded, crowdedness, crude, cruel, crueler, cruelest, cruelly, cruelness, cruelties, cruelty, crumble, crumbling, crummy, crumple, crumpled, crumples, crush, crushed, crushing, cry, culpable, culprit, cumbersome, cunt, cunts, curse, cursed, curses, curt, cuss, cussed, cutthroat, cynical, cynicism'"
   ]
  },
  {
   "cell_type": "code",
   "execution_count": 4,
   "metadata": {},
   "outputs": [],
   "source": [
    "n_4 = 'damage, damaged, damages, damaging, damn, damnable, damnably, damnation, damned, damning, damper, danger, dangerous, dangerousness, dark, darken, darkened, darker, darkness, dastard, dastardly, daunt, daunting, dauntingly, dawdle, daze, dazed, dead, deadbeat, deadlock, deadly, deadweight, deaf, dearth, death, debacle, debase, debasement, debaser, debatable, debauch, debaucher, debauchery, debilitate, debilitating, debility, debt, debts, decadence, decadent, decay, decayed, deceit, deceitful, deceitfully, deceitfulness, deceive, deceiver, deceivers, deceiving, deception, deceptive, deceptively, declaim, decline, declines, declining, decrement, decrepit, decrepitude, decry, defamation, defamations, defamatory, defame, defect, defective, defects, defensive, defiance, defiant, defiantly, deficiencies, deficiency, deficient, defile, defiler, deform, deformed, defrauding, defunct, defy, degenerate, degenerately, degeneration, degradation, degrade, degrading, degradingly, dehumanization, dehumanize, deign, deject, dejected, dejectedly, dejection, delay, delayed, delaying, delays, delinquency, delinquent, delirious, delirium, delude, deluded, deluge, delusion, delusional, delusions, demean, demeaning, demise, demolish, demolisher, demon, demonic, demonize, demonized, demonizes, demonizing, demoralize, demoralizing, demoralizingly, denial, denied, denies, denigrate, denounce, dense, dent, dented, dents, denunciate, denunciation, denunciations, deny, denying, deplete, deplorable, deplorably, deplore, deploring, deploringly, deprave, depraved, depravedly, deprecate, depress, depressed, depressing, depressingly, depression, depressions, deprive, deprived, deride, derision, derisive, derisively, derisiveness, derogatory, desecrate, desert, desertion, desiccate, desiccated, desolate, desolately, desolation, despair, despairing, despairingly, desperate, desperately, desperation, despicable, despicably, despise, despised, despoil, despoiler, despondence, despondency, despondent, despondently, despot, despotic, despotism, destitute, destitution, destroy, destroyer, destruction, destructive, desultory, deter, deteriorate, deteriorating, deterioration, deterrent, detest, detestable, detestably, detested, detesting, detests, detract, detracted, detracting, detraction, detracts, detriment, detrimental, devastate, devastated, devastates, devastating, devastatingly, devastation, deviate, deviation, devil, devilish, devilishly, devilment, devilry, devious, deviously, deviousness, devoid, diabolic, diabolical, diabolically, diametrically, diatribe, diatribes, dick, dictator, dictatorial, die, die-hard, died, dies, difficult, difficulties, difficulty, diffidence, dilapidated, dilemma, dilly-dally, dim, dimmer, ding, dings, dinky, dire, direly, direness, dirt, dirty, disable, disabled, disaccord, disadvantage, disadvantaged, disadvantageous, disadvantages, disaffect, disaffected, disaffirm, disagree, disagreeable, disagreeably, disagreed, disagreeing, disagreement, disagrees, disallow, disappoint, disappointed, disappointing, disappointingly, disappointment, disappointments, disappoints, disapprobation, disapproval, disapprove, disapproving, disarm, disarray, disaster, disastrous, disastrously, disavow, disavowal, disbelief, disbelieve, disbeliever, disclaim, discombobulate, discomfit, discomfort, discompose, disconcert, disconcerted, disconcerting, disconcertingly, disconsolate, disconsolately, disconsolation, discontent, discontented, discontentedly, discontinued, discontinuity, discontinuous, discord, discordance, discordant, discountenance, discourage, discouragement, discouraging, discouragingly, discourteous, discourteously, discredit, discrepant, discriminate, discrimination, discriminatory, disdain, disdained, disdainful, disdainfully, disfavor, disgrace, disgraced, disgraceful, disgracefully, disgruntle, disgruntled, disgust, disgusted, disgustedly, disgustful, disgustfully, disgusting, disgustingly, dishearten, disheartening, dishearteningly, dishonest, dishonestly, dishonesty, dishonor, dishonorable, disillusion, disillusioned, disillusionment, disillusions, disinclination, disinclined, disingenuous, disingenuously, disintegrate, disintegrated, disintegrates, disintegration, disinterest, disinterested, dislike, disliked, dislikes, disliking, dislocated, disloyal, disloyalty, dismal, dismally, dismalness, dismay, dismayed, dismaying, dismayingly, dismissive, dismissively, disobedience, disobedient, disobey, disorder, disordered, disorderly, disorganized, disorient, disoriented, disown, disparage, disparaging, disparagingly, dispensable, dispirit, dispirited, dispiritedly, dispiriting, displace, displaced, displease, displeased, displeasing, displeasure, disproportionate, disprove, disputable, dispute, disputed, disquiet, disquieting, disquietingly, disquietude, disregard, disregardful, disreputable, disrepute, disrespect, disrespectable, disrespectful, disrespectfully, disrespectfulness, disrespecting, disrupt, disruption, disruptive, dissatisfaction, dissatisfactory, dissatisfied, dissatisfies, dissatisfy, dissatisfying, dissed, dissemble, dissembler, dissension, dissent, dissenter, dissention, disservice, disses, dissidence, dissident, dissidents, dissing, dissocial, dissolute, dissolution, dissonance, dissonant, dissonantly, dissuade, dissuasive, distains, distaste, distasteful, distastefully, distort, distorted, distortion, distorts, distract, distracting, distraction, distraught, distraughtly, distress, distressed, distressing, distressingly, distrust, distrustful, distrusting, disturb, disturbance, disturbed, disturbing, disturbingly, disunity, disvalue, divergent, divisive, divisively, divisiveness, dizzy, doddering, dogged, doggedly, dogmatic, doldrums, domineer, domineering, doom, doomed, doomsday, dope, doubt, doubtful, doubtfully, doubts, douchebag, douchebags, downbeat, downcast, downer, downfall, downfallen, downgrade, downhearted, downheartedly, downhill, downside, downsides, downturn, downturns, drab, draconian, draconic, drag, dragged, dragging, dragoon, drags, drain, drained, draining, drains, drastic, drastically, drawback, drawbacks, dread, dreadful, dreadfully, dreadfulness, dreary, dripped, dripping, drippy, drips, drones, droop, droops, drop-out, drop-outs, dropout, dropouts, drought, drowning, drunk, drunkard, drunken, dubious, dubiously, dubitable, dud, dull, dullard, dumb, dumbfound, dump, dumped, dumping, dumps, dunce, dungeon, dungeons, dupe, dust, dusty, dwindling, dying'"
   ]
  },
  {
   "cell_type": "code",
   "execution_count": 5,
   "metadata": {},
   "outputs": [],
   "source": [
    "n_5 = 'earsplitting, eccentric, eccentricity, effigy, effrontery, egocentric, egomania, egotism, egotistical, egotistically, egregious, egregiously, election-rigger, elimination, emaciated, emasculate, embarrass, embarrassing, embarrassingly, embarrassment, embattled, embroil, embroiled, embroilment, emergency, emphatic, emphatically, emptiness, encroach, encroachment, endanger, enemies, enemy, enervate, enfeeble, enflame, engulf, enjoin, enmity, enrage, enraged, enraging, enslave, entangle, entanglement, entrap, entrapment, envious, enviously, enviousness, epidemic, equivocal, erase, erode, erodes, erosion, err, errant, erratic, erratically, erroneous, erroneously, error, errors, eruptions, escapade, eschew, estranged, evade, evasion, evasive, evil, evildoer, evils, eviscerate, exacerbate, exaggerate, exaggeration, exasperate, exasperated, exasperating, exasperatingly, exasperation, excessive, excessively, exclusion, excoriate, excruciating, excruciatingly, excuse, excuses, execrate, exhaust, exhausted, exhaustion, exhausts, exhort, exile, exorbitant, exorbitantly, expel, expensive, expire, expired, explode, exploit, exploitation, explosive, expropriate, expropriation, expulse, expunge, exterminate, extermination, extinguish, extort, extortion, extraneous, extravagance, extravagant, extravagantly, extremism, extremist, extremists, eyesore'"
   ]
  },
  {
   "cell_type": "code",
   "execution_count": 6,
   "metadata": {},
   "outputs": [],
   "source": [
    "n_6 = 'f**k, fabricate, fabrication, facetious, facetiously, fail, failed, failing, fails, failure, failures, faint, fainthearted, faithless, fake, fall, fallacies, fallacious, fallaciously, fallaciousness, fallacy, fallen, falling, fallout, falls, FALSE, falsehood, falsely, falsify, falter, faltered, famine, famished, fanatic, fanatical, fanatically, fanaticism, fanatics, fanciful, far-fetched, farce, farcical, farcical-yet-provocative, farcically, farfetched, fascism, fascist, fastidious, fastidiously, fat, fat-cat, fat-cats, fatal, fatalistic, fatalistically, fatally, fateful, fatefully, fathomless, fatigue, fatigued, fatty, fatuity, fatuous, fatuously, fault, faults, faulty, fawningly, faze, fear, fearful, fearfully, fears, fearsome, feckless, feeble, feebleminded, feign, feint, fell, felon, felonious, ferociously, ferocity, fetid, fever, feverish, fevers, fiasco, fib, fibber, fickle, fiction, fictional, fictitious, fidget, fidgety, fiend, fiendish, fierce, figurehead, filth, filthy, finagle, finicky, fissures, fist, flabbergast, flabbergasted, flagging, flagrant, flagrantly, flair, flairs, flak, flake, flakey, flaking, flaky, flare, flares, flat-out, flaunt, flaw, flawed, flaws, flee, fleeing, fleer, flees, fleeting, flicker, flickering, flickers, flighty, flimflam, flimsy, flirt, flirty, floored, flounder, floundering, flout, fluster, foe, fool, fooled, foolhardy, foolish, foolishly, foolishness, forbid, forbidden, forbidding, forceful, foreboding, forebodingly, forfeit, forged, forgetful, forgetfully, forgetfulness, forlorn, forlornly, forsake, forsaken, forswear, foul, foully, foulness, fractious, fractiously, fracture, fragile, fragmented, frail, frantic, frantically, franticly, fraud, fraudulent, fraught, frazzle, frazzled, freak, freaking, freakish, freakishly, freaks, freeze, freezes, freezing, frenetic, frenetically, frenzied, frenzy, fret, fretful, frets, friction, frictions, fried, frigging, fright, frighten, frightening, frighteningly, frightful, frightfully, frigid, frost, frown, froze, frozen, fruitless, fruitlessly, frustrate, frustrated, frustrates, frustrating, frustratingly, frustration, frustrations, f”ck, f”cking, fudge, fugitive, full-blown, fulminate, fumble, fume, fumes, fundamentalism, funky, funnily, funny, furious, furiously, furor, fury, fuss, fussy, fustigate, fusty, futile, futilely, futility, fuzzy, fuck, fucking'"
   ]
  },
  {
   "cell_type": "code",
   "execution_count": 7,
   "metadata": {},
   "outputs": [],
   "source": [
    "n_7 = 'gabble, gaff, gaffe, gainsay, gainsayer, gall, galling, gallingly, galls, gangster, gape, garbage, garish, gasp, gauche, gaudy, gawk, gawky, geezer, genocide, get-rich, ghastly, ghetto, ghosting, gibber, gibberish, gibe, giddy, gimmick, gimmicked, gimmicking, gimmicks, gimmicky, glare, glaringly, glib, glibly, glitch, glitches, gloatingly, gloom, gloomy, glower, glum, glut, gnawing, goad, goading, god-awful, goof, goofy, goon, gossip, graceless, gracelessly, graft, grainy, grapple, grate, grating, gravely, greasy, greed, greedy, grief, grievance, grievances, grieve, grieving, grievous, grievously, grim, grimace, grind, gripe, gripes, grisly, gritty, gross, grossly, grotesque, grouch, grouchy, groundless, grouse, growl, grudge, grudges, grudging, grudgingly, gruesome, gruesomely, gruff, grumble, grumpier, grumpiest, grumpily, grumpy, guile, guilt, guiltily, guilty, gullible, gutless, gutter'"
   ]
  },
  {
   "cell_type": "code",
   "execution_count": 8,
   "metadata": {},
   "outputs": [],
   "source": [
    "n_8 = 'hack, hacks, haggard, haggle, halfhearted, halfheartedly, hallucinate, hallucination, hamper, hampered, handicapped, hang, hangs, haphazard, hapless, harangue, harass, harassed, harasses, harassment, harboring, harbors, hard, hard-hit, hard-liner, hardball, harden, hardened, hardheaded, hardhearted, hardliner, hardliners, hardship, hardships, harm, harmed, harmful, harms, harpy, harridan, harried, harrow, harsh, harshly, hassle, hassled, hassles, haste, hastily, hasty, hate, hated, hateful, hatefully, hatefulness, hater, haters, hates, hating, hatred, haughtily, haughty, haunt, haunting, havoc, hawkish, haywire, hazard, hazardous, haze, hazy, head-aches, headache, headaches, heartbreaker, heartbreaking, heartbreakingly, heartless, heathen, heavy-handed, heavyhearted, heck, heckle, heckled, heckles, hectic, hedge, hedonistic, heedless, hefty, hegemony, heinous, hell, hell-bent, hellion, hells, helpless, helplessly, helplessness, heresy, heretic, heretical, hesitant, hideous, hideously, hideousness, high-priced, hinder, hindrance, hiss, hissed, hissing, ho-hum, hoard, hoax, hobble, hogs, hollow, hoodwink, hooligan, hopeless, hopelessly, hopelessness, horde, horrendous, horrendously, horrible, horrid, horrific, horrified, horrifies, horrify, horrifying, hostage, hostile, hostilities, hostility, hotbeds, hothead, hotheaded, hothouse, hubris, huckster, hum, humid, humiliate, humiliating, humiliation, humming, hung, hurt, hurtful, hurting, hurts, hustler, hype, hypocrisy, hypocrite, hypocrites, hypocritical, hypocritically, hysteria, hysteric, hysterical, hysterically, hysterics'"
   ]
  },
  {
   "cell_type": "code",
   "execution_count": 9,
   "metadata": {},
   "outputs": [],
   "source": [
    "n_9 = 'idiocies, idiocy, idiot, idiotic, idiotically, idiots, idle, ignoble, ignominious, ignominiously, ignominy, ignorance, ignorant, ignore, ill-advised, ill-conceived, ill-defined, ill-designed, ill-fated, ill-favored, ill-formed, ill-mannered, ill-natured, ill-sorted, ill-tempered, ill-treated, ill-treatment, ill-usage, ill-used, illegal, illegally, illegitimate, illicit, illiterate, illness, illogical, illogically, illusion, illusions, illusory, imaginary, imbalance, imbecile, imbroglio, immaterial, immature, imminence, imminently, immobilized, immoderate, immoderately, immodest, immoral, immorality, immorally, immovable, impair, impaired, impasse, impatience, impatient, impatiently, impeach, impedance, impede, impediment, impending, impenitent, imperfect, imperfection, imperfections, imperfectly, imperialist, imperil, imperious, imperiously, impermissible, impersonal, impertinent, impetuous, impetuously, impiety, impinge, impious, implacable, implausible, implausibly, implicate, implication, implode, impolite, impolitely, impolitic, importunate, importune, impose, imposers, imposing, imposition, impossible, impossibly, impotent, impoverish, impoverished, impractical, imprecate, imprecise, imprecisely, imprecision, imprison, imprisonment, improbability, improbable, improbably, improper, improperly, impropriety, imprudence, imprudent, impudence, impudent, impudently, impugn, impulsive, impulsively, impunity, impure, impurity, inability, inaccuracies, inaccuracy, inaccurate, inaccurately, inaction, inactive, inadequacy, inadequate, inadequately, inadvisable, inane, inanely, inappropriate, inappropriately, inapt, inarticulate, inattentive, inaudible, incapable, incapably, incautious, incendiary, incense, incessant, incessantly, incite, incitement, incivility, inclement, incoherence, incoherent, incoherently, incommensurate, incomparable, incomparably, incompatibility, incompatible, incompetence, incompetent, incompetently, incomplete, incomprehensible, incomprehension, inconceivable, inconceivably, incongruous, incongruously, inconsequential, inconsequentially, inconsiderate, inconsiderately, inconsistencies, inconsistency, inconsistent, inconsolable, inconsolably, inconstant, inconvenience, inconveniently, incorrect, incorrectly, incorrigible, incorrigibly, incredulous, incredulously, inculcate, indecency, indecent, indecently, indecision, indecisive, indecisively, indefensible, indelicate, indeterminable, indeterminably, indeterminate, indifference, indifferent, indigent, indignant, indignantly, indignation, indignity, indiscernible, indiscreet, indiscreetly, indiscretion, indiscriminate, indiscriminately, indistinguishable, indoctrinate, indoctrination, indolent, indulge, ineffective, ineffectively, ineffectiveness, ineffectual, ineffectually, inefficacy, inefficiency, inefficient, inefficiently, inelegance, inelegant, ineligible, inept, ineptitude, ineptly, inequalities, inequality, inequitable, inequitably, inequities, inescapable, inescapably, inessential, inevitable, inevitably, inexcusable, inexcusably, inexorable, inexorably, inexperience, inexperienced, inexpert, inexpertly, inexpiable, inextricable, inextricably, infamous, infamously, infamy, infected, infection, infections, inferior, inferiority, infernal, infest, infested, infidel, infidels, infiltrator, infiltrators, infirm, inflame, inflammation, inflammatory, inflated, inflationary, inflexible, inflict, infraction, infringe, infringement, infringements, infuriate, infuriated, infuriating, infuriatingly, inglorious, ingrate, ingratitude, inhibit, inhibition, inhospitable, inhuman, inhumane, inhumanity, inimical, inimically, iniquitous, iniquity, injudicious, injure, injurious, injury, injustice, injustices, innuendo, inoperable, inopportune, inordinate, inordinately, insane, insanely, insanity, insatiable, insecure, insecurity, insensible, insensitive, insensitively, insensitivity, insidious, insidiously, insignificance, insignificant, insignificantly, insincere, insincerely, insincerity, insinuate, insinuating, insinuation, insolence, insolent, insolently, insolvent, insouciance, instability, instigate, instigator, instigators, insubordinate, insubstantial, insubstantially, insufferable, insufferably, insufficiency, insufficient, insufficiently, insular, insult, insulted, insulting, insultingly, insults, insupportable, insurmountable, insurmountably, insurrection, intense, interfere, interference, interferes, intermittent, interrupt, interruption, interruptions, intimidate, intimidating, intimidatingly, intimidation, intolerable, intolerance, intoxicate, intractable, intransigence, intransigent, intrude, intrusion, intrusive, inundate, inundated, invader, invalid, invalidate, invalidity, invasive, invective, inveigle, invidious, invidiously, invidiousness, invisible, involuntarily, involuntary, irascible, irate, irately, ire, irk, irked, irking, irks, irksome, irksomely, irksomeness, ironic, ironical, ironically, ironies, irony, irrational, irrationality, irrationally, irrationals, irreconcilable, irrecoverable, irrecoverably, irredeemable, irredeemably, irregular, irregularity, irrelevance, irrelevant, irreparable, irrepressible, irresolute, irresponsible, irresponsibly, irretrievable, irreversible, irritable, irritably, irritant, irritate, irritated, irritating, irritation, irritations, isolate, isolated, isolation, issue, issues, itch, itching, itchy'"
   ]
  },
  {
   "cell_type": "code",
   "execution_count": 10,
   "metadata": {},
   "outputs": [],
   "source": [
    "n_10 = 'jabber, jaded, jagged, jam, jarring, jaundiced, jealous, jealously, jealousness, jealousy, jeer, jeering, jeeringly, jeers, jeopardize, jeopardy, jerk, jerky, jitter, jitters, jittery, job-killing, jobless, joke, joker, jolt, judder, juddering, judders, jumpy, junk, junky, junkyard'"
   ]
  },
  {
   "cell_type": "code",
   "execution_count": 11,
   "metadata": {},
   "outputs": [],
   "source": [
    "n_11 = 'kill, killed, killer, killing, killjoy, kills, knave, knife, knock, knotted, kook, kooky'"
   ]
  },
  {
   "cell_type": "code",
   "execution_count": 12,
   "metadata": {},
   "outputs": [],
   "source": [
    "n_12 = 'lack, lackadaisical, lacked, lackey, lackeys, lacking, lackluster, lacks, laconic, lag, lagged, lagging, lags, laid-off, lambast, lambaste, lame, lame-duck, lament, lamentable, lamentably, languid, languish, languor, languorous, languorously, lanky, lapse, lapsed, lapses, lascivious, last-ditch, latency, laughable, laughably, laughingstock, lawbreaker, lawbreaking, lawless, lawlessness, layoff, layoff-happy, lazy, leak, leakage, leakages, leaking, leaks, leaky, lecher, lecherous, lechery, leech, leer, leery, left-leaning, lemon, lengthy, less-developed, lesser-known, letch, lethal, lethargic, lethargy, lewd, lewdly, lewdness, liability, liable, liar, liars, licentious, licentiously, licentiousness, lie, lied, lies, life-threatening, lifeless, limit, limitation, limitations, limited, limits, limp, listless, litigious, little-known, livid, lividly, loath, loathe, loathing, loathly, loathsome, loathsomely, lone, loneliness, lonely, loner, lonesome, long-time, long-winded, longing, longingly, loophole, loopholes, loose, loot, lose, loser, losers, loses, losing, loss, losses, lost, loud, louder, lousy, loveless, lovelorn, low-rated, lowly, ludicrous, ludicrously, lugubrious, lukewarm, lull, lumpy, lunatic, lurch, lure, lurid, lurk, lurking, lying'"
   ]
  },
  {
   "cell_type": "code",
   "execution_count": 13,
   "metadata": {},
   "outputs": [],
   "source": [
    "n_13 = 'macabre, mad, madden, maddening, maddeningly, madder, madly, madman, madness, maladjusted, maladjustment, malady, malaise, malcontent, malcontented, maledict, malevolence, malevolent, malevolently, malice, malicious, maliciously, maliciousness, malign, malignant, malodorous, maltreatment, mangle, mangled, mangles, mangling, mania, maniac, maniacal, manic, manipulate, manipulation, manipulative, manipulators, mar, marginal, marginally, martyrdom, martyrdom-seeking, mashed, massacre, massacres, matte, mawkish, mawkishly, mawkishness, meager, meaningless, meanness, measly, meddle, meddlesome, mediocre, mediocrity, melancholy, melodramatic, melodramatically, meltdown, menace, menacing, menacingly, mendacious, mendacity, menial, merciless, mercilessly, mess, messed, messes, messing, messy, midget, miff, militancy, mindless, mindlessly, mirage, mire, misalign, misaligned, misaligns, misapprehend, misbecome, misbecoming, misbegotten, misbehave, misbehavior, miscalculate, miscalculation, miscellaneous, mischief, mischievous, mischievously, misconception, misconceptions, miscreant, miscreants, misdirection, miser, miserable, miserableness, miserably, miseries, miserly, misery, misfit, misfortune, misgiving, misgivings, misguidance, misguide, misguided, mishandle, mishap, misinform, misinformed, misinterpret, misjudge, misjudgment, mislead, misleading, misleadingly, mismanage, mispronounce, mispronounced, mispronounces, misread, misreading, misrepresent, misrepresentation, miss, missed, misses, misstatement, mist, mistake, mistaken, mistakenly, mistakes, mistress, mistrust, mistrustful, mistrustfully, mists, misunderstand, misunderstanding, misunderstandings, misunderstood, misuse, moan, mobster, mock, mocked, mockeries, mockery, mocking, mockingly, mocks, molest, molestation, monotonous, monotony, monster, monstrosities, monstrosity, monstrous, monstrously, moody, moot, mope, morbid, morbidly, mordant, mordantly, moribund, moron, moronic, morons, mortification, mortified, mortify, mortifying, motionless, motley, mourn, mourner, mournful, mournfully, muddle, muddy, mudslinger, mudslinging, mulish, multi-polarization, mundane, murder, murderer, murderous, murderously, murky, muscle-flexing, mushy, musty, mysterious, mysteriously, mystery, mystify, myth'"
   ]
  },
  {
   "cell_type": "code",
   "execution_count": 14,
   "metadata": {},
   "outputs": [],
   "source": [
    "n_14 = 'nag, nagging, naive, naively, narrower, nastily, nastiness, nasty, naughty, nauseate, nauseates, nauseating, nauseatingly, naïve, nebulous, nebulously, needless, needlessly, needy, nefarious, nefariously, negate, negation, negative, negatives, negativity, neglect, neglected, negligence, negligent, nemesis, nepotism, nervous, nervously, nervousness, nettle, nettlesome, neurotic, neurotically, niggle, niggles, nightmare, nightmarish, nightmarishly, nitpick, nitpicking, noise, noises, noisier, noisy, non-confidence, nonexistent, nonresponsive, nonsense, nosey, notoriety, notorious, notoriously, noxious, nuisance, numb'"
   ]
  },
  {
   "cell_type": "code",
   "execution_count": 15,
   "metadata": {},
   "outputs": [],
   "source": [
    "n_15 = 'obese, object, objection, objectionable, objections, oblique, obliterate, obliterated, oblivious, obnoxious, obnoxiously, obscene, obscenely, obscenity, obscure, obscured, obscures, obscurity, obsess, obsessive, obsessively, obsessiveness, obsolete, obstacle, obstinate, obstinately, obstruct, obstructed, obstructing, obstruction, obstructs, obtrusive, obtuse, occlude, occluded, occludes, occluding, odd, odder, oddest, oddities, oddity, oddly, odor, offence, offend, offender, offending, offenses, offensive, offensively, offensiveness, officious, ominous, ominously, omission, omit, one-sided, onerous, onerously, onslaught, opinionated, opponent, opportunistic, oppose, opposition, oppositions, oppress, oppression, oppressive, oppressively, oppressiveness, oppressors, ordeal, orphan, ostracize, outbreak, outburst, outbursts, outcast, outcry, outlaw, outmoded, outrage, outraged, outrageous, outrageously, outrageousness, outrages, outsider, over-acted, over-awe, over-balanced, over-hyped, over-priced, over-valuation, overact, overacted, overawe, overbalance, overbalanced, overbearing, overbearingly, overblown, overdo, overdone, overdue, overemphasize, overheat, overkill, overloaded, overlook, overpaid, overplay, overpower, overpriced, overrated, overreach, overrun, overshadow, oversight, oversights, oversimplification, oversimplified, oversimplify, oversize, overstate, overstated, overstatement, overstatements, overstates, overtaxed, overthrow, overthrows, overturn, overweight, overwhelm, overwhelmed, overwhelming, overwhelmingly, overwhelms, overzealous, overzealously'"
   ]
  },
  {
   "cell_type": "code",
   "execution_count": 16,
   "metadata": {},
   "outputs": [],
   "source": [
    "n_16 = 'pain, painful, painfully, pains, pale, pales, paltry, pan, pandemonium, pander, pandering, panders, panic, panicked, panicking, panicky, paradoxical, paradoxically, paralyzed, paranoia, paranoid, parasite, pariah, parody, partiality, partisan, partisans, passive, passiveness, pathetic, pathetically, patronize, paucity, pauper, paupers, payback, peculiar, peculiarly, pedantic, peeled, peeve, peeved, peevish, peevishly, penalize, penalty, perfidious, perfunctory, peril, perilous, perilously, perish, pernicious, perplex, perplexed, perplexing, perplexity, persecute, persecution, pertinacious, pertinaciously, pertinacity, perturb, perturbed, pervasive, perverse, perversely, perversion, perversity, pervert, perverted, perverts, pessimism, pessimistic, pessimistically, pest, pestilent, petrified, petrify, pettifog, petty, phobia, phobic, phony, picket, picketed, picketing, pickets, picky, pig, pigs, pillage, pillory, pimple, pinch, pique, pitiable, pitiful, pitifully, pitiless, pitilessly, pittance, pity, plagiarize, plague, plaything, plea, pleas, plebeian, plight, plot, plotters, ploy, plunder, plunderer, pointless, pointlessly, poison, poisonous, poisonously, pokey, poky, pollute, polluter, polluters, pompous, poor, poorer, poorest, poorly, posturing, pout, poverty, powerless, prate, pratfall, prattle, precarious, precariously, precipitate, precipitous, predatory, predicament, prejudge, prejudice, prejudices, prejudicial, premeditated, preoccupy, preposterous, preposterously, presumptuous, presumptuously, pretend, pretense, pretentious, pretentiously, prevaricate, pricey, pricier, prick, prickle, prickles, prideful, primitive, prison, prisoner, problem, problematic, problems, procrastinate, procrastinates, procrastination, profane, profanity, prohibit, prohibitive, prohibitively, propaganda, propagandize, proprietary, prosecute, protest, protested, protesting, protests, protracted, provocation, provocative, provoke, pry, pugnacious, pugnaciously, pugnacity, punch, punish, punishable, punitive, punk, puny, puppet, puppets, puzzled, puzzlement, puzzling'"
   ]
  },
  {
   "cell_type": "code",
   "execution_count": 17,
   "metadata": {},
   "outputs": [],
   "source": [
    "n_17 = 'quack, qualm, qualms, quandary, quarrel, quarrels, quarrelsome, quash, queer, questionable, quibble, quibbles, quitter'"
   ]
  },
  {
   "cell_type": "code",
   "execution_count": 18,
   "metadata": {},
   "outputs": [],
   "source": [
    "n_18 = 'rabid, racism, racist, racists, racy, radical, radicalization, radically, radicals, rage, ragged, raging, rail, raked, rampage, rampant, ramshackle, rancor, randomly, rankle, rant, ranted, ranting, rants, rape, raped, raping, rascal, rascals, rash, rattle, rattled, rattles, ravage, raving, reactionary, rebellious, rebuff, rebuke, recalcitrant, recant, recession, recessionary, reckless, recklessly, recklessness, recoil, recourses, redundancy, redundant, refusal, refuse, refused, refuses, refusing, refutation, refute, refuted, refutes, refuting, regress, regression, regressive, regret, regretful, regretfully, regrets, regrettable, regrettably, regretted, reject, rejected, rejecting, rejection, rejects, relapse, relentless, relentlessly, relentlessness, reluctance, reluctant, reluctantly, remorse, remorseful, remorsefully, remorseless, remorselessly, remorselessness, renounce, renunciation, repel, repetitive, reprehensible, reprehensibly, reprehension, reprehensive, repress, repression, repressive, reprimand, reproach, reproachful, reprove, reprovingly, repudiate, repudiation, repugnance, repugnant, repugnantly, repulse, repulsed, repulsing, repulsive, repulsively, repulsiveness, resent, resentful, resentment, resignation, resigned, resistance, restless, restlessness, restrict, restricted, restriction, restrictive, resurgent, retaliate, retaliatory, retard, retarded, retards, reticent, retract, retreat, retreated, revenge, revengeful, revengefully, revert, revile, reviled, revoke, revolt, revolting, revoltingly, revulsion, revulsive, rhapsodize, rhetoric, rhetorical, ricer, ridicule, ridicules, ridiculous, ridiculously, rife, rift, rifts, rigid, rigidity, rigidness, rile, riled, rip, rip-off, ripped, risk, risks, risky, rival, rivalry, roadblocks, rocky, rogue, rollercoaster, rot, rotten, rough, rubbish, rude, rue, ruffian, ruffle, ruin, ruined, ruining, ruinous, ruins, rumbling, rumor, rumors, rumple, run-down, runaway, rupture, rust, rusts, rusty, rut, ruthless, ruthlessly, ruthlessness, ruts'"
   ]
  },
  {
   "cell_type": "code",
   "execution_count": 19,
   "metadata": {},
   "outputs": [],
   "source": [
    "n_19 = 'sabotage, sack, sacrificed, sad, sadden, sadly, sadness, sag, sagged, sagging, saggy, sags, salacious, sanctimonious, sap, sarcasm, sarcastic, sarcastically, sardonic, sardonically, sass, satirical, satirize, savage, savaged, savagery, savages, scaly, scam, scams, scandal, scandalize, scandalized, scandalous, scandalously, scandals, scant, scapegoat, scar, scarce, scarcely, scarcity, scare, scared, scarier, scariest, scarily, scarred, scars, scary, scathing, scathingly, scoff, scold, scolded, scolding, scorching, scorn, scornful, scornfully, scoundrel, scourge, scowl, scramble, scrambled, scrambles, scrambling, scrap, scratch, scratched, scratches, scratchy, scream, screech, screw-up, screwed, screwed-up, screwy, scuff, scuffs, scum, scummy, second-class, second-tier, secretive, sedentary, seedy, seethe, seething, self-coup, self-criticism, self-defeating, self-destructive, self-humiliation, self-interest, self-interested, self-serving, selfish, selfishly, selfishness, semi-retarded, senile, sensationalize, senseless, senselessly, seriousness, sermonize, servitude, set-up, setback, setbacks, sever, severe, severity, shabby, shadowy, shady, shake, shaky, shallow, sham, shambles, shame, shameful, shamefully, shamefulness, shameless, shamelessly, shamelessness, shark, sharply, shatter, shimmer, shimmy, shipwreck, shirk, shirker, shit, shiver, shock, shocked, shocking, shockingly, shoddy, short-lived, shortage, shortchange, shortcoming, shortcomings, shortness, shortsighted, shortsightedness, showdown, shrew, shriek, shrill, shrilly, shrivel, shroud, shrouded, shrug, shun, shunned, sick, sicken, sickening, sickeningly, sickly, sickness, sidetrack, sidetracked, siege, silly, simplistic, simplistically, sin, sinful, sinfully, sinister, sinisterly, sink, sinking, skeletons, skeptic, skeptical, skeptically, skepticism, sketchy, skimpy, skinny, skittish, skittishly, skulk, slack, slander, slanderer, slanderous, slanderously, slanders, slap, slashing, slaughter, slaughtered, slave, slaves, sleazy, slime, slog, slogged, slogging, slogs, sloppily, sloppy, sloth, slothful, slow, slow-moving, slowed, slower, slowest, slowly, slug, sluggish, slump, slumping, slur, slut, sluts, sly, smack, smallish, smash, smear, smell, smelled, smelling, smells, smelly, smelt, smoke, smokescreen, smolder, smoldering, smother, smudge, smudged, smudges, smudging, smug, smugly, smut, smuttier, smuttiest, smutty, snag, snagged, snagging, snags, snappish, snappishly, snare, snarky, snarl, sneak, sneakily, sneaky, sneer, sneering, sneeringly, snob, snobbish, snobby, snobs, snub, soapy, sob, sober, sobering, solemn, solicitude, somber, sore, sorely, soreness, sorrow, sorrowful, sorrowfully, sorry, sour, sourly, spade, spank, spew, spewed, spewing, spews, spilling, spinster, spiritless, spite, spiteful, spitefully, spitefulness, splatter, split, splitting, spoil, spoilage, spoilages, spoiled, spoils, spook, spookier, spookiest, spookily, spooky, spoon-fed, spoon-feed, sporadic, spotty, spurious, spurn, sputter, squabble, squabbling, squander, squash, squeak, squeaks, squeaky, squeal, squealing, squeals, squirm, stab, stagnant, stagnate, stagnation, staid, stain, stains, stale, stalemate, stall, stalls, stammer, stampede, standstill, stark, starkly, startle, startling, startlingly, starvation, starve, static, steal, stealing, steals, steep, steeply, stench, stereotype, stereotypical, stereotypically, stern, stew, sticky, stiff, stiffness, stifle, stifling, stiflingly, stigma, stigmatize, sting, stinging, stingingly, stingy, stink, stinks, stodgy, stole, stolen, stooge, stooges, stormy, straggle, straggler, strain, strained, straining, strange, strangely, stranger, strangest, strangle, streaky, strenuous, stress, stresses, stressful, stressfully, stricken, strict, strictly, strident, stridently, strife, strike, stringent, stringently, struck, struggle, struggled, struggles, struggling, strut, stubborn, stubbornly, stubbornness, stuck, stuffy, stumble, stumbled, stumbles, stump, stumped, stumps, stun, stunt, stunted, stupid, stupidest, stupidity, stupidly, stupor, stutter, stuttered, stuttering, stutters, sty, stymied, sub-par, subdued, subjected, subjection, subjugate, subjugation, submissive, subordinate, subpoena, subpoenas, subservience, subservient, substandard, subtract, subversion, subversive, subversively, subvert, succumb, suck, sucked, sucker, sucks, sucky, sue, sued, sues, suffer, suffered, sufferer, sufferers, suffering, suffers, suffocate, sugar-coat, sugar-coated, sugarcoated, suicidal, suicide, sulk, sullen, sully, sunder, sunk, sunken, superficial, superficiality, superficially, superfluous, superstition, superstitious, suppress, suppression, surrender, susceptible, suspect, suspicion, suspicions, suspicious, suspiciously, swagger, swamped, sweaty, swelled, swelling, swindle, swipe, swollen, symptom, symptoms, syndrome, taboo, tacky, taint, tainted, tamper, tangle, tangled, tangles, tank, tanked, tanks, tantrum, tardy, tarnish, tarnished, tarnishes, tarnishing, tattered, taunt, taunting, tauntingly, taunts, taut, tawdry, taxing, tease, teasingly, tedious, tediously, temerity, temper, tempest, temptation, tenderness, tense, tension, tentative, tentatively, tenuous, tenuously, tepid, terrible, terribleness, terribly, terror, terror-genic, terrorism, terrorize, testily, testy, tetchily, tetchy, thankless, thicker, thirst, thorny, thoughtless, thoughtlessly, thoughtlessness, thrash, threat, threaten, threatening, threats, threesome, throb, throbbed, throbbing, throbs, throttle, thug, thumb-down, thumbs-down, thwart, time-consuming, timid, timidity, timidly, tin-y, tingled, tingling, tired, tiresome, tiring, tiringly, toil, toll, top-heavy, topple, torment, tormented, torrent, tortuous, torture, tortured, tortures, torturing, torturous, torturously, totalitarian, touchy, toughness, tout, touted, touts, toxic, traduce, tragedy, tragic, tragically, traitor, traitorous, traitorously, tramp, trample, transgress, transgression, trap, trapped, trash, trashed, trashy, trauma, traumatic, traumatically, traumatize, traumatized, travesties, travesty, treacherous, treacherously, treachery, treason, treasonous, trick, tricked, trickery, tricky, trivial, trivialize, trouble, troubled, troublemaker, troubles, troublesome, troublesomely, troubling, troublingly, truant, tumble, tumbled, tumbles, tumultuous, turbulent, turmoil, twist, twisted, twists, two-faced, two-faces, tyrannical, tyrannically, tyranny, tyrant, ugh, uglier, ugliest, ugliness, ugly, ulterior, ultimatum, ultimatums, ultra-hardline, un-viewable, unable, unacceptable, unacceptably, unaccustomed, unachievable, unaffordable, unappealing, unattractive, unauthentic, unavailable, unavoidably, unbearable, unbelievable, unbelievably, uncaring, uncertain, uncivil, uncivilized, unclean, unclear, uncollectible, uncomfortable, uncomfortably, uncompetitive, uncompromising, uncompromisingly, unconfirmed, unconstitutional, uncontrolled, unconvincing, unconvincingly, uncooperative, uncouth, uncreative, undecided, undefined, undependability, undependable, undercut, undercuts, undercutting, underdog, underestimate, underlings, undermine, undermined, undermines, undermining, underpaid, underpowered, undersized, undesirable, undetermined, undid, undignified, undissolved, undocumented, undone, undue, unease, uneasily, uneasiness, uneasy, uneconomical, unemployed, unequal, unethical, uneven, uneventful, unexpected, unexpectedly, unexplained, unfairly, unfaithful, unfaithfully, unfamiliar, unfavorable, unfeeling, unfinished, unfit, unforeseen, unforgiving, unfortunate, unfortunately, unfounded, unfriendly, unfulfilled, unfunded, ungovernable, ungrateful, unhappily, unhappiness, unhappy, unhealthy, unhelpful, unilateralism, unimaginable, unimaginably, unimportant, uninformed, uninsured, unintelligible, unipolar, unjust, unjustifiable, unjustifiably, unjustified, unjustly, unkind, unkindly, unknown, unlawful, unlawfully, unlawfulness, unleash, unlicensed, unlikely, unlucky, unmoved, unnatural, unnaturally, unnecessary, unneeded, unnerve, unnerved, unnerving, unnervingly, unnoticed, unobserved, unorthodox, unorthodoxy, unpleasant, unpopular, unpredictable, unprepared, unproductive, unprofitable, unproved, unproven, unqualified, unravel, unraveled, unreachable, unreadable, unrealistic, unreasonable, unreasonably, unrelenting, unrelentingly, unreliability, unreliable, unresolved, unresponsive, unrest, unruly, unsafe, unsatisfactory, unsavory, unscrupulous, unscrupulously, unsecure, unseemly, unsettle, unsettled, unsettling, unsettlingly, unskilled, unsophisticated, unsound, unspeakable, unspecified, unstable, unsteadily, unsteadiness, unsteady, unsuccessful, unsuccessfully, unsupported, unsupportive, unsure, unsuspecting, unsustainable, untenable, untested, unthinkable, unthinkably, untimely, untouched, untrue, untrustworthy, untruthful, unusable, unusably, unusual, unusually, unwanted, unwarranted, unwatchable, unwelcome, unwell, unwieldy, unwilling, unwillingly, unwillingness, unwise, unwisely, unworkable, unworthy, unyielding, upbraid, upheaval, uprising, uproar, uproarious, uproariously, uproot, upset, upsets, upsetting, upsettingly, urgent, useless, usurp, usurper, utterly, vagrant, vague, vagueness, vain, vainly, vanity, vehement, vehemently, vengeance, vengeful, vengefully, vengefulness, venom, venomous, venomously, vent, vestiges, vex, vexation, vexing, vexingly, vibrate, vibrated, vibrates, vibrating, vibration, vice, vicious, viciously, viciousness, victimize, vile, vileness, vilify, villainous, villainously, villains, vindictive, vindictively, vindictiveness, violate, violation, violator, violators, violent, violently, viper, virulence, virulent, virulently, virus, vociferous, vociferously, volatile, volatility, vomit, vomited, vomiting, vomits, vulgar, vulnerable, wail, wallow, wane, waning, wanton, war-like, warily, wariness, warlike, warned, warning, warp, warped, wary, washed-out, waste, wasted, wasteful, wastefulness, wasting, water-down, watered-down, wayward, weak, weaken, weakening, weaker, weakness, weaknesses, weariness, wearisome, weary, wedge, weed, weep, weird, weirdly, wheedle, whimper, whine, whining, whiny, whips, whore, whores, wicked, wickedly, wickedness, wild, wildly, wiles, wilt, wily, wimpy, wince, wobble, wobbled, wobbles, woe, woebegone, woeful, woefully, womanizer, womanizing, worn, worried, worriedly, worrier, worries, worrisome, worry, worrying, worryingly, worse, worsen, worsening, worst, worthless, worthlessly, worthlessness, wound, wounds, wrangle, wrath, wreak, wreaked, wreaks, wreck, wrest, wrestle, wretch, wretched, wretchedly, wretchedness, wrinkle, wrinkled, wrinkles, writhe, wrong, wrongful, wrongly, wrought, yawn, zap, zapped, zaps, zealot, zealous, zealously, zombie'"
   ]
  },
  {
   "cell_type": "code",
   "execution_count": 20,
   "metadata": {},
   "outputs": [],
   "source": [
    "p_1 = '''ABLE, ACCEPT – ACCEPTANCE – ACCEPTABLE – ACCEPTED – ACCEPTING, ACTION, ACTIVATE, ACTIVE, ADD, ADDITION, ADORABLE, ADVANTAGE, AFFIRM, AGELESS, AGREE, AGREEABLE, AID, AIM, ABUNDANCE, ACCOUNTABILITY, ACCOMPLISHMENT – ACCOMPLISH, ACCURACY, ACHIEVEMENT – ACHIEVE, ACKNOWLEDGEMENT, ADAPTABILITY, ADVENTURE – ADVENTUROUS, AGILITY, ALERTNESS, AMBITION, ANTICIPATION, APPRECIATE – APPRECIATION – APPRECIATIVE – APPRECIATIVENESS, ASSERTIVENESS – ASSERTIVE, ATTENTIVENESS, AUDACITY, AWARE – AWARENESS, AUTHENTIC – AUTHENTICITY, ABRACADABRA, ATTRACTION, ALLOW – ALLOWING, AFFECTION – AFFECTIONATE, ABSORBED, ALERT, AMAZED, AWE – AWED, ANIMATE – ANIMATED – ANIMATING – ANIMATION – ANIMATENESS, ARDENT, AMAZING, AWESOME – AWESOMENESS, AROUSED, ASTONISHED – ASTONISHING, AMUSED, AIR – AIRNESS, ALOHA, ADORE, ADMIRE, ADMIRABLE, ALLURE, ANGEL – ANGELIC, ALTRUISM – ALTRUISTIC, ABOUND – ABOUNDING – ABOUNDS- ABUNDANT, ABSOLUTE – ABSOLUTELY, ACCESSIBLE, ACCLAIMED, ACCOMMODATE – ACCOMMODATED – ACCOMMODATION – ACCOMMODATING, AMPLE, APPRECIATIVE JOY, AMIN, ACCENTUACTIVITY, ACTABILITY, AFFABLE, ALACRITY, ALTRUCAUSE, AMIABLE, ASTOUNDING, ATTRACTIVE, ALIVE – ALIVENESS, ACCLAIM, ABUNDANT GRATIFICATION, ACCLAMATION, ACCOMPLISHED, ACCOMPLISHMENTS, ACCURATE, ACCURATELY, ACHIEVABLE, ACHIEVEMENTS, ACTION FOR HAPPINESS, ACTIVE AND CONSTRUCTIVE STEPS, ACTS OF KINDNESS, ADAPTABLE, ADAPTIVE, ADEQUATE, ADMIRABLY, ADMIRATION, ADMIRED, ADORED, ADORING, ADORINGLY, ADVANCED, ADVANTAGEOUS, ADVANTAGEOUSLY, ADVANTAGES, AFFABILITY, AFFABLY, AFFINITY, AFFIRMATION, AFFIRMATIVE, AFFLUENCE, AFFLUENT, AFFORD, AFFORDABLE, AFFORDABLY, AGILE, AGILELY, AGREEABLENESS, AGREEABLY, ALIGNED, ALL IS WELL, ALLURING, ALLURINGLY, ALTERNATIVE HEALING, ALTRUISTICALLY, AMAZE, AMAZEMENT, AMAZES, AMAZINGLY, AMIABILITY, AMICABILITY, AMICABLE, AMICABLY, AMUSING, APPEAL, APPEALING, APPLAUD, APPRECIABLE, APPRECIATED, APPRECIATES, APPRECIATION OF BEAUTY, APPRECIATIVELY, APPROPRIATE, APPROVAL, APPROVE, ARDOR, ART OF APPRECIATION, ART OF STILLNESS, ART OF WELL-BEING, ASSURANCE, A REASON FOR BEING, ACARONAR, ACCOMMODATIVE, ALTITUDINARIAN, AMAZING WORDS, AMIABLY, ACCOLADE, ACUMEN, ADJUSTABLE, ADMIRER, ADMIRING, ADMIRINGLY, ADORER, ADROIT, ADROITLY, ADULATED, ADULATION, ADULATORY, ADVENTURESOME, ADVOCATED, AMBITIOUS, AMBITIOUSLY, AMELIORATE, AMENITY, AMITY, AMPLY, AMUSE, AMUSINGLY, APOTHEOSIS, ASSUME YOUR OWN VALUE, ASTONISHINGLY, ASTONISHMENT, ATTRIBUTIONAL STYLE QUESTIONNAIRE (ASQ), AUTHENTIC HAPPINESS, AWAKEN, AWAKENING\n",
    "\n",
    " BEATIFY, BEATITUDE, BENEFICIAL, BENEFIT, BENEVOLENT, BELOVED, BEST, BETTER, BLESS – BLESSING – BLESSED, BLISS – BLISSFULNESS – BLISSFUL, BLOOM, BLOSSOM, BALANCE – BALANCED, BEAUTY – BEAUTIFUL – BEAUTIFULLY, BELONG – BELONGING, BOLDNESS, BRAVERY, BRILLIANCE – BRILLIANT, BLISS ON TAP, BEYOND FABULOUS, BIOPHILIA, BRIGHT, BRIGHTNESS, BALISTIC, BLASTING, BLAZING, BLINDING, BREATHTAKING, BUBBLING, BUSTING, BLISSCIPLINE, BUYANCY, BULLISHNESS, BRISKNESS, BUOYANCY, BREEZINESS, BRIO, BE EXTRAORDINARY, BE HAPPY, BEAUTIFY, BEING AT REST, BENEFACTOR, BENEFITS, BENEVOLENCE, BENEVOLENTLY, BENEVOLENTLY CHEERFUL STATE OF MIND, BEST OF ALL POSSIBLE WORLDS, BEYOND, BEAUTY IN ALL THINGS, BEINGNESS, BELIEVABLE, BLOOD-BROTHERS, BOHEMIAN SOUL, BOHO-SOUL, BADASSERY, BEST-SELLING, BETTER AND BETTER, BETTER-KNOWN, BETTER-THAN-EXPECTED, BEYOND THANK YOU, BIG VISION, BLITHESOME, BLOSSOMING, BONUS\n",
    "\n",
    "CARE – CARING, CALM, CREATE, CREATIVE – CREATIVITY – CREATIVENESS , CAPABLE – CAPABILITY – CAPABLY, CELEBRATE – CELEBRATION, CERTAIN – CERTAINTY, CHARITABLE – CHARITY, CHARM – CHARMING – CHARMER, CHOICE, CLEAN – CLEANLINESS, COMFORT – COMFORTABLE – COMFORTING, CUDDLE – CUDDLING, CANDOR, CAREFULNESS, CHALLENGE, CHANGE, CHEERFUL – CHEERFULNESS, CLARITY, COLLABORATION, COMMITMENT, COMMUNICATION, COMMUNITY, COMPASSION – COMPASSIONATE, COMPETENT – COMPETENCE – COMPETENCY, CONCENTRATION, CONFIDENT – CONFIDENCE, CONSCIOUSNESS, CONSISTENCY – CONSISTENT, CONTENT – CONTENTMENT, CONTINUITY – CONTINUOUS, CONTRIBUTION, CONVICTION – CONVINCING, COOPERATION, COURAGE, COURTESY – COURTEOUS, CURIOUS – CURIOSITY, CHAKRA, COOL, CLEAR HEADED, CENTERED, CLOSENESS, COMPANIONSHIP, CONSIDERATE – CONSIDERATION, COMMUNION, CONNECT – CONNECTED – CONNECTION – CONNECTEDNESS, CONQUER, CUTE, CHARISMA – CHARISMATIC, COLLECTED, CHEERFUL WILLINGNESS, CHEERS, CONGRUENCE, CORDIAL, CRANK (UP), CAPITAL, CORKING, CLEAR, CARESS, CHEERFUL MOOD, COMPLIMENTARY WORDS, CONTENTED, COZINESS, CUTENESS, CAREFREENESS, CAREFREE, CENTERING, CENTERING MEDITATION, CITIZEN OF MASTERY, CO-CREATING, CO-CREATOR, COHESION, CONTINUAL STREAM OF SYNCHRONICITY, CREATIVE PROCESS\n",
    "\n",
    "DIRECTION, DELICATE, DECENT, DESIRABLE, DELICIOUS – DELICIOUSNESS, DO, DREAM – DREAMY, DYNAMIC, DARING, DECISIVENESS, DELIGHT – DELIGHTED – DELIGHTFUL, DEPENDABILITY, DESIRE, DETERMINATION, DEVOTION, DIGNITY, DILIGENCE, DISCIPLINE, DISCOVERY, DISCRETION, DIVERSITY, DRIVE, DUTY, DIVINE, DAZZLED, DISNEY, DEVOTED, DANDY, DAIMON, DEBONAIR, DETACHMENT, DEDICATED, DAUWTRAPPEN, DAZZLE, DELIGHTFULLY, DEFENCELESSNESS, DEEPER PART OF YOU, DESERVE, DESERVEDNESS, DESERVINGNESS, DIS-IDENTIFY, DOPE, DOPE CHILL OUT\n",
    "\n",
    "EMPATHY – EMPATHIZE – EMPHATIC, EASY – EASILY – EASIER, EDUCATE – EDUCATION – EDUCATED, EFFICIENT, ENABLE – ENABLED, ENERGETIC – ENERGIZE – ENERGY, ENGAGE – ENGAGING – ENGAGED, ENJOY – ENJOYMENT, ENOUGH, EAGER – EAGERNESS, EFFECTIVENESS, EFFICIENCY, ELATION, ELEGANCE, ENCOURAGE – ENCOURAGEMENT – ENCOURAGED, ENDURANCE, EQUALITY, EXCELLENCE – EXCELLENT, EXCITE – EXCITEMENT – EXCITED, EXPERIENCE, EXPERTISE, EXPLORATION, EXPRESSIVENESS – EXPRESSING, ENLIGHTENMENT, ETERNAL, EXALTATION, EMULATE, EMPOWER – EMPOWERING – EMPOWERED, EXPANSIVE, EXHILARATING, ENTHUSIASTIC – ENTHUSIASM, ENGROSSED, ENCHANTED, ENTRANCED, ECSTATIC, ELATED, ENTHRALLED, EXUBERANT – EXUBERANCE, EXPECTANT, EQUANIMOUS, ENLIVENED, EFFICACY, EASE, EXEMPLARY, EXTRAORDINARY, EARNEST, ELEVATE – ELEVATED, EQUANIMITY, EASE-OF-MIND, EXCITED ANTICIPATION, EXTRA, EQUITY – EQUITABLY – EQUITABLE, EASY TO TALK TO, EASY TO APPROACH, ECSTATIFY, EUDAEMONISM, EUDAEMONIST, EUDAEMONISTIC, EUDAIMONIA, EUDAMONIA, EVOLVE, EXALTING, EXSTATISFY, EXULTANT, ASTRONOMICAL, CHAMPION, CHAMP’, ELECTRIC, ENORMOUS , EXCEPTIONAL, EXCITING, EXQUISITE, EFFORTLESSNESS, EUNOIA, ECOSOPHY, EBULLIENCE, EMBRACE, EMPOWERING WORDS, ENCOURAGING WORDS, ERLEBNIS, EFFORTLESS EASE, EFFORTLESSLY, EKAGGATA, EMBODY THE LOVE\n",
    "\n",
    "FANTASTIC, FEEL GOOD – FEELING GOOD, FLOW – FLOWING, FABULOUS, FAIR, FAITH, FAITHFUL, FAME, FAVORITE, FAIRNESS, FAMILY, FIDELITY, FLEXIBILITY, FOCUS, FLOURISH, FORGIVE – FORGIVING – FORGIVENESS, FORTITUDE, FREE – FREEDOM, FRUGALITY, FUN, FUTURE, FRIEND – FRIENDLY – FRIENDSHIP – FRIENDLINESS, FASCINATE – FASCINATED, FULFILL – FULFILLED, FOOD, FEISTY – FEISTINESS, FEASIBLE, FINE, FEARLESS, FESTIVE – FESTIVENESS, FIT, FANTABULOUS, FREECYCLE, FUNERIFIC, FUNOLOGY, FLAWLESS, FAMOUS, FANCY, FLASHY, FTW, FUNNY JOKES, FLAUNTING, FONDLE, FRIC-TIONLESSLY, FLAWLESSLY, FLOURISHING, FORTUITOUS\n",
    "\n",
    "GLOW, GENEROUS – GENEROSITY, GENERATE, GENIAL, GENIUS, GENUINE, GIFT, GIVE – GIVING, GOOD, GOODNESS, GOING THE EXTRA MILE, GRACE, GRATITUDE – GRATEFULNESS, GROW – GROWTH, GUIDE – GUIDING – GUIDANCE, GOD, GROUNDED, GLORY, GODLINESS, GOOD-FEELING, GROOVY, GIDDY, GLAD, GOOD HEALTH, GLAMOR, GIGGLING, GODDESS, GORGEOUS – GORGEOUSNESS, GRANDIOSITY, GENERAVITY, GENTLEMAN, GARGANTUAN, GRAND, GREAT, GINGER, GOOD-HUMORED, GOODWILL, GREATFUL, GEMUTLICHKEIT, GIBIGIANA, GIGIL, GOOD INDWELLING SPIRIT, GOOD WORD, GOOD WORDS, GOOD-HUMORED, GOODWILL, GOOD FORTUNE, GYPSY SOUL, GAME-CHANGER, GENERATOR OF LIFE, GRACEFULLY, GRACIOUSNESS\n",
    "HOPE – HOPEFULNESS, HAPPINESS – HAPPY – HAPPILY, HARMONIOUS – HARMONIZE – HARMONY, HEALTH – HEALTHY, HEART, HELLO, HELP – HELPFUL – HELPING, HOT – HONEST – HONESTY, HUMAN, HUMOR, HELPFULNESS, HERO – HEROISM, HOLY – HOLINESS, HONOR, HOSPITALITY, HUMBLE, HEAVEN – HEAVENLY, HALO, HEARTFELT, HEARTWARMING, ONE-POINTEDNESS, HAPPY HEARTED, HEEDFUL, HANDSOME, HUGE, HIGH-SPIRITEDNESS, HIGHLY DISTINGUISHED, HAPPY WORDS, HEART-OPENING, HOSPITABLE, HUMAN FLOURISHING, HIGHLY DISTINGUISHED, HARNESS, HEIGHTENED, HOLISTIC, HOLY SPIRIT\n",
    "\n",
    "IMAGINATION, INSPIRE – INSPIRATION – INSPIRED – INSPIRATIONAL, IN-LOVE, IDEA, INCREDIBLE, INNOVATE – INNOVATION, INTERESTING – INTEREST – INTERESTED, IMPROVEMENT, INDEPENDENCE, INFLUENCE, INGENUITY, INNER PEACE, INSIGHT – INSIGHTFULNESS – INSIGHTFUL, INTEGRITY, INTELLIGENCE – INTELLIGENT, INTENSITY, INTIMACY, INTUITIVENESS, INVENTIVENESS, INVESTING, INTENTION, INVIGORATE – INVIGORATED, INTRIGUED, INVOLVE – INVOLVED, INCLUSION, INNOCENT, INEFFABLE, INTREPID, IDEALISM, ILLUMINATION – ILLUMINATED, INCOMPARABLE, INVINCIBLE, INQUISITIVE, INFINITE, INFINITY, ILLUSTRIOUS, INNER, ICHARIBA CHODE, IKIGAI, INCREDIBLE CUTENESS, INDWELLING, INSPIRATIONAL WORDS, INSPIRING WORD, INSPIRING WORDS, IRIDESCENT, ILLUSTRIOUS, INNER, INNER SPIRIT, INTERCONNECTED, INTERCONNECTIVITY, INTUITION\n",
    "\n",
    "JOY – JOYFUL – JOYOUS, JOKE, JOLLY, JOVIAL, JUST, JUSTICE, JUBILANT, JUVENESCENT, JUMPY, JAMMIN’, JUBILINGO\n",
    "\n",
    "KINDNESS – KIND – KIND-HEART – KINDLY, KEEP-UP, KISS, KNOWLEDGE, KITTENS, KEEN, KAAJHUAB, KALON, KILIG, KIND WORDS, KOIBITO KIBUN\n",
    "\n",
    "LIKE, LAUGH – LAUGHING, LEARN – LEARNING, LIFE, LIVE – LIVING, LUXURY, LONGEVITY, LOYALTY – LOYAL, LOVE – LOVABLE – LOVING, LIBERTY, LOGIC, LEADER – LEADERSHIP, LUCK – LUCKY, LIGHT, LOVING-KINDNESS, LIVELY, LIFE OF THE PARTY, LOVELY, LOVING ACCEPTANCE, LOVING FEELINGS, LIGHTWORKER, LEADING, LIGHT FOG, LIVES THROUGH, LOVE WORDS, LOVER OF BEAUTY, LUSTROUS, LUSTROUS COLORS, LIGHT-HEARTED, LEEWAY, LET GO, LETTING GO, LIVELINESS, LOVE FULFILLED\n",
    "\n",
    "MEANING – MEANINGFUL, MORE, MAGNIFICENT, MAJESTY, MANY, MARVELOUS, MERIT, MOTIVATE, MIRACLE, MAGIC, MAKING A DIFFERENCE, MASTERY, MATURITY, MINDFUL – MINDFULNESS, MODESTY, MOTIVATION – MOTIVATIONAL, MERCY, MEDITATION, MIND-BLOWING, MELLOW, MOVED, MOVEMENT, MUTUALITY, MOURNING, MELIORISM, MENCH, MINDSIGHT, MINDSIGHT, MAJOR, MILD, MEANINGFUL WORDS, MEMORABLE, MORPHING, MOTIVATED WORDS, MOTIVATING WORDS, MOTIVATIONAL WORDS, MOVING, MAGNETIC TO LOVE, MIRTHFUL, MYRIAD\n",
    "\n",
    "NOBLE, NURTURING – NURTURE, NON-RESISTANCE – NON-RESISTANT, NEW, NICE, NIRVANA, NEAT, NATURE-MADE, NOURISH – NOURISHED – NOURISHING – NOURISHMENT, NAMASTE, NEOTENY, NICE WORDS, NOVATURIENT\n",
    "\n",
    "OPTIMIST – OPTIMISTIC, OUTSTANDING, OK, ON, ONWARDS, OPEN – OPENLY – OPENING, OPEN-MINDED, OPPORTUNITY, ORIGINAL, OPENNESS, OPTIMISM, ORDER, ORGANIZATION, ORIGINALITY, OUTCOME, ORIENTATION, OBEDIENT, OPEN HEARTED, OMG, OVERCOME, OM MANI PADME HUM, OUTGOING, ONENESS, OUTERNATIONALIST, OVERLY OPTIMISTIC, ORENDA, OWNING YOUR POWER\n",
    "\n",
    "PERFECT – PERFECTION, POSITIVE ENERGY, POSITIVE THOUGHTS, POSITIVE EVENTS, POSITIVE CIRCUMSTANCES, POSITIVE BELIEFS, PEACE – PACIFY, PARADISE – PARADISIAC, PASSION – PASSIONATE, PLEASE, PURE, PERCEPTIVENESS, PERSEVERANCE, PERSISTENCE, PERSONAL GROWTH, PLEASURE, POSITIVE ATTITUDE, POSITIVE WORDS, POWER – POWERFUL, PRACTICALITY, PRECISION, PREPAREDNESS, PRESENCE, PRESERVATION, PRIVACY, PROACTIVITY – PROACTIVE, PROGRESS, PROSPERITY PROSPEROUS, PUNCTUALITY – PUNCTUAL, PATIENCE, PROUD, PLEASED, PLAY – PLAYFUL – PLAYFULNESS, PARTICIPATION, PURPOSE, PICK-ME-UP, PRONIA, PIOUS, PUPPIES, POLITE, POSITIVE MIND, POSITIVE THINKING, PRETTY, PRECIOUS, PARDON, PERKINESS, PIQUANCY, POSICHOICE, POSIDRIVING, POSIFIT, POSILENZ, POSIMASS, POSIMINDER, POSIRATIO, POSIRIPPLE, POSIRIPPLER, POSIRIPPLES, POSISINGER, POSISITE, POSISTRENGTH, POSITIBILITARIAN, POSITRACTION, POSITUDE, POSIVALUES, POSIWORD, POSSIBILITARIAN, PROMPTNESS, PROTO, PRICELESS, PEP – PEPPINESS, PERMALICIOUS, PLUCKY, POLLYANNAISM, PRIDE, POSITIVE FEELINGS, PEACE OF MIND, PEACEFUL WORDS, PETRICHOR, PHILOCALIST, POSITIVE EMOTIONS, POSITIVE FEELINGS, POSITIVE VOCABULARY, POWER WORDS, POWERFUL POSITIVE WORDS, POWERFUL WORDS, POWER-ON, POWER-UP, PROTECT, POLITENESS, POUR YOUR LOVE, POWERFUL POSSIBILITY, PRIVILEGE, PROPITIOUS\n",
    "\n",
    "QUALITY, QUIET – QUIETNESS, QUAINT, QUIESCENT, QUEENLY, QUICKENING, QUIDDITY, QUIESCENT MIND, QUALITY WORDS\n",
    "\n",
    "RESPECT, RADIANT, READY – READINESS, REAL – REALITY, REASON, RECOMMEND, REFRESH – REFRESHED, RELAX – RELAXED, RELIEF, RELIEVE – RELIEVED, REMARKABLE, RATIONALITY, RECOGNITION, RELATIONSHIPS, RELIABLE – RELIABILITY, RELIGION, RESOURCEFULNESS, RESPONSIBILITY, RIGHTEOUSNESS, RISK-TAKING, ROMANCE, REVELATION, REVIVED, RESTORE – RESTORED, REST – RESTED, RENEW – RENEWED, REJUVENATE – REJUVENATED, RAPTURE – RAPTUROUS, RESILIENT – RESILIENCE, REVERENCE, RIPE, REBORN, RELATEDNESS, RASASVADA, REPOSE, ROSINESS, RELENT, RENOWNED, RESPECTED, RAINBOW, ROMANTIC, RELENT, RENOWNED, RADIATE, RECOGNIZE, RELEASING, RIGHTFUL\n",
    "\n",
    "SCOPE, SMILE – SMILING, SOULMATE, SOUL – SOULFUL, SACRED, SAFE – SAFETY, SECURE – SECURED – SECURITY, SUSTAIN – SUSTAINED, SAVE, SAVINGS, SIMPLE – SIMPLIFY, SELFLESSNESS, SELF-ESTEEM, SERVICE, SIMPLICITY, SINCERITY, SKILL – SKILLED, SPIRIT, SERENE – SERENITY, STABILITY, STRENGTH, STYLE, SYSTEMATIZATION, SELF-LOVE, STRIVE, SALVATION, SELF-RESPECT, SELF-FORGIVENESS, SERVE, SYMPATHETIC, SELF-COMPASSION, SELF-KINDNESS, SPELLBOUND, STIMULATED – STIMULATING – STIMULATION, SATISFIED, STILL, SURPRISED, SLEEP, SEXUAL EXPRESSION, SHELTER, SELF-EXPRESSION, SPACE – SPACIOUS, SPONTANEITY – SPONTANEOUS, SUNSHINE, SPARK – SPARKLE – SPARKLES, SWEET – SWEETNESS, SUPPORT – SUPPORTING – SUPPORTED, SEXY – SEXINESS, SUPREME, SUCCULENT, SWEETHEART, STUDY – STUDIOUS, SAVOUR – SAVOURING, SUFFICIENT, STUPENDOUS, SWAG – SWAGGY, SPLENDID, SMART, SPECTACULAR, SPECIAL, SERENDIPITY, SYNERGY, SHINE – SHINING, START, STEADFASTNESS, SUBLIME, SUNNINESS, SUPERPOWER, SPUNKY, SHAPE-SHIFTING VIRTUOSO, SOUL-STRETCHING, STRONG WORDS, SACRED SPACE, SHIFT IN FOCUS, SHOW UP MORE PRESENT, STELLAR, SUPERCHARGE, SUPERCHARGED, SYMPTOMS OF GREATNESS, SYNCHRONICITY\n",
    "\n",
    "TRUE, TRUST – TRUSTING , TACT, TEACH – TEACHABLE, TEAM, THANKFUL – THANK – THANK-YOU – THANKFULNESS, THERAPY, TIME, TEAMWORK, TIMELINESS, TOLERANCE, TRADITION, TRANQUIL – TRANQUILITY, TRUTH – TRUTHFULNESS, TENDER, THRILLED, TOUCH – TOUCHED, TICKLED, TO MATTER, TO KNOW, TO BE KNOWN, TO BE SEEN, TRANSFORMATIVE – TRANSFORMATION – TRANSFORM, TRIUMPH, THRIVE – THRIVING, TENACITY, TO BE, TRANSPARENT, TEMUL, TENDERLY, TIDSOPTIMIST, TIME OPTIMIST, TO LET GO\n",
    "\n",
    "UNIFICATION, UNIQUE, UPLIFT, ULTIMATE, UNCONDITIONAL, UPGRADE, USEFUL, USER-FRIENDLY, UNITY, UNDERSTAND – UNDERSTANDING – UNDERSTOOD, UNIFICATION OF MIND, UP, UPSKILL, UNBELIEVABLE, UNFLAPPABLE, UNREAL, UTTER AMAZEMENT, UNABASHED, UNABASHED PLEASURE, UNBEARABLY CUTE, UNHURRY, UNBELIEVABLE, UNFLAPPABLE, UNREAL, UTTER AMAZEMENT, UP-LEVELED\n",
    "\n",
    "VITALITY, VALUE – VALUES – VALUABLE, VIRTUOUS, VALID, VERIFY, VERY, VIABLE, VIRTUE, VICTORY – VICTORIOUS, VARIETY, VULNERABILITY – VULNERABLE, VIBRANT, VOW, VIM, VIGOR, VENERATION, VOCABULEVERAGE, VERSATILITY, UBUNTU\n",
    "\n",
    "WORTH – WORTHY – WORTHINESS, WEALTH, WARM – WARMTH, WELCOME, WILL- WILLING – WILLINGNESS , WISDOM, WISE, WON, WONDERFUL, WELL-BEING, WHOLEHEARTEDNESS, WOW, WONDER, WATER, WELL, WELLNESS, WELFARE, WHOLE, WONDER-WORKING, WIN – WINNABLE – WINNING, WALWALUN, WEB OF RELATEDNESS, WHOLEHEARTEDLY, WILLING TO LEARN, WONDROUS, WORLD-BUILDER, WORTHINESS TO TAKE UP SPACE\n",
    "\n",
    "XO, X-RAY VISION, XENODOCHIAL, XFACTOR, XENOPHILE, XENIAL\n",
    "\n",
    "YES, YOUTH – YOUTHFUL, YOUNG, YOUNG- AT-HEART, YIPPEE, YAY, YEARN, YEA, YEAH, YUMMY, YEN, YESABILITY, YUGEN, YARAANA, YESABLE, YOU ARE LOVED, YOUR TRUE VALUE\n",
    "\n",
    "ZEALOUS, ZEAL, ZEST – ZESTY – ZESTFUL, ZIPPY, ZING, ZAPPY, ZANY, ZEST FOR LIFE'''"
   ]
  },
  {
   "cell_type": "code",
   "execution_count": 21,
   "metadata": {},
   "outputs": [],
   "source": [
    "p_1 = p_1.replace(' – ', ', ').replace('\\n', '').lower()"
   ]
  },
  {
   "cell_type": "code",
   "execution_count": 22,
   "metadata": {},
   "outputs": [],
   "source": [
    "n_words = n_1 + n_2 + n_3 + n_4 + n_5 + n_6 + n_7 + n_8 + n_9 + n_10 + n_11 + n_12 + n_13 + n_14 + n_15 + n_16 + n_17 + n_18 + n_19"
   ]
  },
  {
   "cell_type": "code",
   "execution_count": 25,
   "metadata": {},
   "outputs": [],
   "source": [
    "p_words = p_1"
   ]
  },
  {
   "cell_type": "code",
   "execution_count": null,
   "metadata": {},
   "outputs": [],
   "source": []
  },
  {
   "cell_type": "code",
   "execution_count": 23,
   "metadata": {},
   "outputs": [
    {
     "data": {
      "text/plain": [
       "47138"
      ]
     },
     "execution_count": 23,
     "metadata": {},
     "output_type": "execute_result"
    }
   ],
   "source": [
    "len(n_words)"
   ]
  },
  {
   "cell_type": "code",
   "execution_count": 26,
   "metadata": {},
   "outputs": [
    {
     "data": {
      "text/plain": [
       "15084"
      ]
     },
     "execution_count": 26,
     "metadata": {},
     "output_type": "execute_result"
    }
   ],
   "source": [
    "len(p_words)"
   ]
  },
  {
   "cell_type": "code",
   "execution_count": 27,
   "metadata": {},
   "outputs": [
    {
     "name": "stdout",
     "output_type": "stream",
     "text": [
      "<class 'str'>\n",
      "<class 'str'>\n"
     ]
    }
   ],
   "source": [
    "print(type(p_words))\n",
    "\n",
    "print(type(n_words))"
   ]
  },
  {
   "cell_type": "code",
   "execution_count": null,
   "metadata": {},
   "outputs": [],
   "source": []
  },
  {
   "cell_type": "code",
   "execution_count": 38,
   "metadata": {},
   "outputs": [],
   "source": [
    "import re\n",
    "\n",
    "def remove_characters_before_tokenization(sentence,\n",
    "         keep_apostrophes=False):\n",
    "        \n",
    "         '''\n",
    "         remove_characters_before_tokenization('Test sentence 1 2 3 4 @')\n",
    "         >>> Test sentence 1 2 3 4\n",
    "         '''\n",
    "        \n",
    "         sentence = sentence.strip()\n",
    "         if keep_apostrophes:\n",
    "             PATTERN = r'[?|$|&|*|%|@|(|)|~]' # add other characters here to remove them\n",
    "             filtered_sentence = re.sub(PATTERN, r'', sentence)\n",
    "         else:\n",
    "             PATTERN = r'[^a-zA-Z0-9 ]' # only extract alpha-numeric characters\n",
    "             filtered_sentence = re.sub(PATTERN, r'', sentence)\n",
    "         return filtered_sentence "
   ]
  },
  {
   "cell_type": "code",
   "execution_count": 43,
   "metadata": {},
   "outputs": [],
   "source": [
    "neg_word_str = remove_characters_before_tokenization(n_words)"
   ]
  },
  {
   "cell_type": "code",
   "execution_count": 44,
   "metadata": {},
   "outputs": [],
   "source": [
    "pos_word_str = remove_characters_before_tokenization(p_words)"
   ]
  },
  {
   "cell_type": "code",
   "execution_count": 45,
   "metadata": {},
   "outputs": [
    {
     "data": {
      "text/plain": [
       "'able accept acceptance acceptable accepted accepting action activate active add addition adorable advantage affirm ageless agree agreeable aid aim abundance accountability accomplishment accomplish accuracy achievement achieve acknowledgement adaptability adventure adventurous agility alertness ambition anticipation appreciate appreciation appreciative appreciativeness assertiveness assertive attentiveness audacity aware awareness authentic authenticity abracadabra attraction allow allowing affection affectionate absorbed alert amazed awe awed animate animated animating animation animateness ardent amazing awesome awesomeness aroused astonished astonishing amused air airness aloha adore admire admirable allure angel angelic altruism altruistic abound abounding abounds abundant absolute absolutely accessible acclaimed accommodate accommodated accommodation accommodating ample appreciative joy amin accentuactivity actability affable alacrity altrucause amiable astounding attractive alive aliveness acclaim abundant gratification acclamation accomplished accomplishments accurate accurately achievable achievements action for happiness active and constructive steps acts of kindness adaptable adaptive adequate admirably admiration admired adored adoring adoringly advanced advantageous advantageously advantages affability affably affinity affirmation affirmative affluence affluent afford affordable affordably agile agilely agreeableness agreeably aligned all is well alluring alluringly alternative healing altruistically amaze amazement amazes amazingly amiability amicability amicable amicably amusing appeal appealing applaud appreciable appreciated appreciates appreciation of beauty appreciatively appropriate approval approve ardor art of appreciation art of stillness art of wellbeing assurance a reason for being acaronar accommodative altitudinarian amazing words amiably accolade acumen adjustable admirer admiring admiringly adorer adroit adroitly adulated adulation adulatory adventuresome advocated ambitious ambitiously ameliorate amenity amity amply amuse amusingly apotheosis assume your own value astonishingly astonishment attributional style questionnaire asq authentic happiness awaken awakening beatify beatitude beneficial benefit benevolent beloved best better bless blessing blessed bliss blissfulness blissful bloom blossom balance balanced beauty beautiful beautifully belong belonging boldness bravery brilliance brilliant bliss on tap beyond fabulous biophilia bright brightness balistic blasting blazing blinding breathtaking bubbling busting blisscipline buyancy bullishness briskness buoyancy breeziness brio be extraordinary be happy beautify being at rest benefactor benefits benevolence benevolently benevolently cheerful state of mind best of all possible worlds beyond beauty in all things beingness believable bloodbrothers bohemian soul bohosoul badassery bestselling better and better betterknown betterthanexpected beyond thank you big vision blithesome blossoming bonuscare caring calm create creative creativity creativeness  capable capability capably celebrate celebration certain certainty charitable charity charm charming charmer choice clean cleanliness comfort comfortable comforting cuddle cuddling candor carefulness challenge change cheerful cheerfulness clarity collaboration commitment communication community compassion compassionate competent competence competency concentration confident confidence consciousness consistency consistent content contentment continuity continuous contribution conviction convincing cooperation courage courtesy courteous curious curiosity chakra cool clear headed centered closeness companionship considerate consideration communion connect connected connection connectedness conquer cute charisma charismatic collected cheerful willingness cheers congruence cordial crank up capital corking clear caress cheerful mood complimentary words contented coziness cuteness carefreeness carefree centering centering meditation citizen of mastery cocreating cocreator cohesion continual stream of synchronicity creative processdirection delicate decent desirable delicious deliciousness do dream dreamy dynamic daring decisiveness delight delighted delightful dependability desire determination devotion dignity diligence discipline discovery discretion diversity drive duty divine dazzled disney devoted dandy daimon debonair detachment dedicated dauwtrappen dazzle delightfully defencelessness deeper part of you deserve deservedness deservingness disidentify dope dope chill outempathy empathize emphatic easy easily easier educate education educated efficient enable enabled energetic energize energy engage engaging engaged enjoy enjoyment enough eager eagerness effectiveness efficiency elation elegance encourage encouragement encouraged endurance equality excellence excellent excite excitement excited experience expertise exploration expressiveness expressing enlightenment eternal exaltation emulate empower empowering empowered expansive exhilarating enthusiastic enthusiasm engrossed enchanted entranced ecstatic elated enthralled exuberant exuberance expectant equanimous enlivened efficacy ease exemplary extraordinary earnest elevate elevated equanimity easeofmind excited anticipation extra equity equitably equitable easy to talk to easy to approach ecstatify eudaemonism eudaemonist eudaemonistic eudaimonia eudamonia evolve exalting exstatisfy exultant astronomical champion champ electric enormous  exceptional exciting exquisite effortlessness eunoia ecosophy ebullience embrace empowering words encouraging words erlebnis effortless ease effortlessly ekaggata embody the lovefantastic feel good feeling good flow flowing fabulous fair faith faithful fame favorite fairness family fidelity flexibility focus flourish forgive forgiving forgiveness fortitude free freedom frugality fun future friend friendly friendship friendliness fascinate fascinated fulfill fulfilled food feisty feistiness feasible fine fearless festive festiveness fit fantabulous freecycle funerific funology flawless famous fancy flashy ftw funny jokes flaunting fondle frictionlessly flawlessly flourishing fortuitousglow generous generosity generate genial genius genuine gift give giving good goodness going the extra mile grace gratitude gratefulness grow growth guide guiding guidance god grounded glory godliness goodfeeling groovy giddy glad good health glamor giggling goddess gorgeous gorgeousness grandiosity generavity gentleman gargantuan grand great ginger goodhumored goodwill greatful gemutlichkeit gibigiana gigil good indwelling spirit good word good words goodhumored goodwill good fortune gypsy soul gamechanger generator of life gracefully graciousnesshope hopefulness happiness happy happily harmonious harmonize harmony health healthy heart hello help helpful helping hot honest honesty human humor helpfulness hero heroism holy holiness honor hospitality humble heaven heavenly halo heartfelt heartwarming onepointedness happy hearted heedful handsome huge highspiritedness highly distinguished happy words heartopening hospitable human flourishing highly distinguished harness heightened holistic holy spiritimagination inspire inspiration inspired inspirational inlove idea incredible innovate innovation interesting interest interested improvement independence influence ingenuity inner peace insight insightfulness insightful integrity intelligence intelligent intensity intimacy intuitiveness inventiveness investing intention invigorate invigorated intrigued involve involved inclusion innocent ineffable intrepid idealism illumination illuminated incomparable invincible inquisitive infinite infinity illustrious inner ichariba chode ikigai incredible cuteness indwelling inspirational words inspiring word inspiring words iridescent illustrious inner inner spirit interconnected interconnectivity intuitionjoy joyful joyous joke jolly jovial just justice jubilant juvenescent jumpy jammin jubilingokindness kind kindheart kindly keepup kiss knowledge kittens keen kaajhuab kalon kilig kind words koibito kibunlike laugh laughing learn learning life live living luxury longevity loyalty loyal love lovable loving liberty logic leader leadership luck lucky light lovingkindness lively life of the party lovely loving acceptance loving feelings lightworker leading light fog lives through love words lover of beauty lustrous lustrous colors lighthearted leeway let go letting go liveliness love fulfilledmeaning meaningful more magnificent majesty many marvelous merit motivate miracle magic making a difference mastery maturity mindful mindfulness modesty motivation motivational mercy meditation mindblowing mellow moved movement mutuality mourning meliorism mench mindsight mindsight major mild meaningful words memorable morphing motivated words motivating words motivational words moving magnetic to love mirthful myriadnoble nurturing nurture nonresistance nonresistant new nice nirvana neat naturemade nourish nourished nourishing nourishment namaste neoteny nice words novaturientoptimist optimistic outstanding ok on onwards open openly opening openminded opportunity original openness optimism order organization originality outcome orientation obedient open hearted omg overcome om mani padme hum outgoing oneness outernationalist overly optimistic orenda owning your powerperfect perfection positive energy positive thoughts positive events positive circumstances positive beliefs peace pacify paradise paradisiac passion passionate please pure perceptiveness perseverance persistence personal growth pleasure positive attitude positive words power powerful practicality precision preparedness presence preservation privacy proactivity proactive progress prosperity prosperous punctuality punctual patience proud pleased play playful playfulness participation purpose pickmeup pronia pious puppies polite positive mind positive thinking pretty precious pardon perkiness piquancy posichoice posidriving posifit posilenz posimass posiminder posiratio posiripple posirippler posiripples posisinger posisite posistrength positibilitarian positraction positude posivalues posiword possibilitarian promptness proto priceless pep peppiness permalicious plucky pollyannaism pride positive feelings peace of mind peaceful words petrichor philocalist positive emotions positive feelings positive vocabulary power words powerful positive words powerful words poweron powerup protect politeness pour your love powerful possibility privilege propitiousquality quiet quietness quaint quiescent queenly quickening quiddity quiescent mind quality wordsrespect radiant ready readiness real reality reason recommend refresh refreshed relax relaxed relief relieve relieved remarkable rationality recognition relationships reliable reliability religion resourcefulness responsibility righteousness risktaking romance revelation revived restore restored rest rested renew renewed rejuvenate rejuvenated rapture rapturous resilient resilience reverence ripe reborn relatedness rasasvada repose rosiness relent renowned respected rainbow romantic relent renowned radiate recognize releasing rightfulscope smile smiling soulmate soul soulful sacred safe safety secure secured security sustain sustained save savings simple simplify selflessness selfesteem service simplicity sincerity skill skilled spirit serene serenity stability strength style systematization selflove strive salvation selfrespect selfforgiveness serve sympathetic selfcompassion selfkindness spellbound stimulated stimulating stimulation satisfied still surprised sleep sexual expression shelter selfexpression space spacious spontaneity spontaneous sunshine spark sparkle sparkles sweet sweetness support supporting supported sexy sexiness supreme succulent sweetheart study studious savour savouring sufficient stupendous swag swaggy splendid smart spectacular special serendipity synergy shine shining start steadfastness sublime sunniness superpower spunky shapeshifting virtuoso soulstretching strong words sacred space shift in focus show up more present stellar supercharge supercharged symptoms of greatness synchronicitytrue trust trusting  tact teach teachable team thankful thank thankyou thankfulness therapy time teamwork timeliness tolerance tradition tranquil tranquility truth truthfulness tender thrilled touch touched tickled to matter to know to be known to be seen transformative transformation transform triumph thrive thriving tenacity to be transparent temul tenderly tidsoptimist time optimist to let gounification unique uplift ultimate unconditional upgrade useful userfriendly unity understand understanding understood unification of mind up upskill unbelievable unflappable unreal utter amazement unabashed unabashed pleasure unbearably cute unhurry unbelievable unflappable unreal utter amazement upleveledvitality value values valuable virtuous valid verify very viable virtue victory victorious variety vulnerability vulnerable vibrant vow vim vigor veneration vocabuleverage versatility ubuntuworth worthy worthiness wealth warm warmth welcome will willing willingness  wisdom wise won wonderful wellbeing wholeheartedness wow wonder water well wellness welfare whole wonderworking win winnable winning walwalun web of relatedness wholeheartedly willing to learn wondrous worldbuilder worthiness to take up spacexo xray vision xenodochial xfactor xenophile xenialyes youth youthful young young atheart yippee yay yearn yea yeah yummy yen yesability yugen yaraana yesable you are loved your true valuezealous zeal zest zesty zestful zippy zing zappy zany zest for life'"
      ]
     },
     "execution_count": 45,
     "metadata": {},
     "output_type": "execute_result"
    }
   ],
   "source": [
    "pos_word_str"
   ]
  },
  {
   "cell_type": "code",
   "execution_count": 53,
   "metadata": {},
   "outputs": [],
   "source": [
    "import nltk\n",
    "\n",
    "pos_word_lst = nltk.word_tokenize(pos_word_str)\n",
    "\n",
    "neg_word_lst = nltk.word_tokenize(neg_word_str)"
   ]
  },
  {
   "cell_type": "code",
   "execution_count": 49,
   "metadata": {},
   "outputs": [
    {
     "name": "stdout",
     "output_type": "stream",
     "text": [
      "13677 42460\n"
     ]
    }
   ],
   "source": [
    "print(str(len(pos_word_list)) + \" \" + str(len(neg_word_list)))"
   ]
  },
  {
   "cell_type": "code",
   "execution_count": null,
   "metadata": {},
   "outputs": [],
   "source": []
  },
  {
   "cell_type": "code",
   "execution_count": 57,
   "metadata": {},
   "outputs": [],
   "source": [
    "pos_word_list = pos_word_list.split()\n",
    "\n",
    "neg_word_list = neg_word_list.split()"
   ]
  },
  {
   "cell_type": "code",
   "execution_count": 58,
   "metadata": {},
   "outputs": [
    {
     "name": "stdout",
     "output_type": "stream",
     "text": [
      "1563\n",
      "4555\n"
     ]
    }
   ],
   "source": [
    "print(len(pos_word_list))\n",
    "print(len(neg_word_list))"
   ]
  },
  {
   "cell_type": "code",
   "execution_count": 60,
   "metadata": {},
   "outputs": [
    {
     "data": {
      "text/plain": [
       "'zombie'"
      ]
     },
     "execution_count": 60,
     "metadata": {},
     "output_type": "execute_result"
    }
   ],
   "source": [
    "neg_word_list[4554]"
   ]
  },
  {
   "cell_type": "code",
   "execution_count": null,
   "metadata": {},
   "outputs": [],
   "source": []
  },
  {
   "cell_type": "code",
   "execution_count": 61,
   "metadata": {},
   "outputs": [],
   "source": [
    "import pickle"
   ]
  },
  {
   "cell_type": "code",
   "execution_count": 62,
   "metadata": {},
   "outputs": [
    {
     "name": "stdout",
     "output_type": "stream",
     "text": [
      "Done Both!\n"
     ]
    }
   ],
   "source": [
    "with open('neg_word_list.pkl', 'wb') as f:\n",
    "    pickle.dump(neg_word_list, f)\n",
    "    \n",
    "with open('pos_word_list.pkl', 'wb') as f:\n",
    "    pickle.dump(pos_word_list, f)\n",
    "    \n",
    "print(\"Done Both!\")"
   ]
  },
  {
   "cell_type": "code",
   "execution_count": null,
   "metadata": {},
   "outputs": [],
   "source": []
  },
  {
   "cell_type": "code",
   "execution_count": null,
   "metadata": {},
   "outputs": [],
   "source": []
  },
  {
   "cell_type": "code",
   "execution_count": null,
   "metadata": {},
   "outputs": [],
   "source": []
  },
  {
   "cell_type": "code",
   "execution_count": null,
   "metadata": {},
   "outputs": [],
   "source": []
  },
  {
   "cell_type": "code",
   "execution_count": null,
   "metadata": {},
   "outputs": [],
   "source": []
  },
  {
   "cell_type": "code",
   "execution_count": 1,
   "metadata": {},
   "outputs": [],
   "source": [
    "from textblob import TextBlob\n",
    "import re\n",
    "\n",
    "def clean_tweet(tweet):\n",
    "    '''\n",
    "    Utility function to clean the text in a tweet by removing \n",
    "    links and special characters using regex.\n",
    "    '''\n",
    "    return ' '.join(re.sub(\"(@[A-Za-z0-9]+)|([^0-9A-Za-z \\t])|(\\w+:\\/\\/\\S+)\", \" \", tweet).split())\n",
    "\n",
    "def analize_sentiment(tweet):\n",
    "    '''\n",
    "    Utility function to classify the polarity of a tweet\n",
    "    using textblob.\n",
    "    '''\n",
    "    analysis = TextBlob(clean_tweet(tweet))\n",
    "    if analysis.sentiment.polarity > 0:\n",
    "        return 1\n",
    "    elif analysis.sentiment.polarity == 0:\n",
    "        return 0\n",
    "    else:\n",
    "        return -1"
   ]
  },
  {
   "cell_type": "code",
   "execution_count": 6,
   "metadata": {},
   "outputs": [
    {
     "data": {
      "text/plain": [
       "-1"
      ]
     },
     "execution_count": 6,
     "metadata": {},
     "output_type": "execute_result"
    }
   ],
   "source": [
    "analize_sentiment(\"This is a test tweet. I am angry as fuck! But I love you! Want to be friends? You are so sweet!\")"
   ]
  },
  {
   "cell_type": "code",
   "execution_count": 8,
   "metadata": {},
   "outputs": [
    {
     "data": {
      "text/plain": [
       "-1"
      ]
     },
     "execution_count": 8,
     "metadata": {},
     "output_type": "execute_result"
    }
   ],
   "source": [
    "analize_sentiment(\"You are sweet as fuck.\")"
   ]
  },
  {
   "cell_type": "code",
   "execution_count": 9,
   "metadata": {},
   "outputs": [
    {
     "data": {
      "text/plain": [
       "1"
      ]
     },
     "execution_count": 9,
     "metadata": {},
     "output_type": "execute_result"
    }
   ],
   "source": [
    "analize_sentiment(\"You are sweet.\")"
   ]
  },
  {
   "cell_type": "code",
   "execution_count": null,
   "metadata": {},
   "outputs": [],
   "source": []
  },
  {
   "cell_type": "code",
   "execution_count": 29,
   "metadata": {},
   "outputs": [],
   "source": [
    "# train = eval('''\n",
    "train = [\n",
    "     ('I love this sandwich.', 'pos'),\n",
    "     ('this is an amazing place!', 'pos'),\n",
    "     ('I feel very good about these beers.', 'pos'),\n",
    "     ('this is my best work.', 'pos'),\n",
    "     (\"what an awesome view\", 'pos'),\n",
    "     ('I do not like this restaurant', 'neg'),\n",
    "     ('I am tired of this stuff.', 'neg'),\n",
    "     ('I can\\'t deal with this', 'neg'),\n",
    "     ('he is my sworn enemy!', 'neg'),\n",
    "     ('my boss is horrible.', 'neg')\n",
    "]\n",
    "\n",
    "\n",
    "test = eval('''\n",
    ">>>  [\n",
    "...     ('the beer was good.', 'pos'),\n",
    "...     ('I do not enjoy my job', 'neg'),\n",
    "...     (\"I ain't feeling dandy today.\", 'neg'),\n",
    "...     (\"I feel amazing!\", 'pos'),\n",
    "...     ('Gary is a friend of mine.', 'pos'),\n",
    "...     (\"I can't believe I'm doing this.\", 'neg')\n",
    "... ]'''.replace('>>>', '').replace('...', '').replace('\\n', ''))"
   ]
  },
  {
   "cell_type": "code",
   "execution_count": 28,
   "metadata": {},
   "outputs": [
    {
     "data": {
      "text/plain": [
       "[('the beer was good.', 'pos'),\n",
       " ('I do not enjoy my job', 'neg'),\n",
       " (\"I ain't feeling dandy today.\", 'neg'),\n",
       " ('I feel amazing!', 'pos'),\n",
       " ('Gary is a friend of mine.', 'pos'),\n",
       " (\"I can't believe I'm doing this.\", 'neg')]"
      ]
     },
     "execution_count": 28,
     "metadata": {},
     "output_type": "execute_result"
    }
   ],
   "source": [
    "test"
   ]
  },
  {
   "cell_type": "code",
   "execution_count": 32,
   "metadata": {},
   "outputs": [
    {
     "data": {
      "text/plain": [
       "[('I love this sandwich.', 'pos'),\n",
       " ('this is an amazing place!', 'pos'),\n",
       " ('I feel very good about these beers.', 'pos'),\n",
       " ('this is my best work.', 'pos'),\n",
       " ('what an awesome view', 'pos'),\n",
       " ('I do not like this restaurant', 'neg'),\n",
       " ('I am tired of this stuff.', 'neg'),\n",
       " (\"I can't deal with this\", 'neg'),\n",
       " ('he is my sworn enemy!', 'neg'),\n",
       " ('my boss is horrible.', 'neg')]"
      ]
     },
     "execution_count": 32,
     "metadata": {},
     "output_type": "execute_result"
    }
   ],
   "source": [
    "(train)"
   ]
  },
  {
   "cell_type": "code",
   "execution_count": 34,
   "metadata": {},
   "outputs": [
    {
     "ename": "SyntaxError",
     "evalue": "invalid syntax (<string>, line 1)",
     "output_type": "error",
     "traceback": [
      "Traceback \u001b[0;36m(most recent call last)\u001b[0m:\n",
      "  File \u001b[1;32m\"/home/scarlet/.local/share/virtualenvs/installers-OifosnB-/lib/python3.5/site-packages/IPython/core/interactiveshell.py\"\u001b[0m, line \u001b[1;32m2910\u001b[0m, in \u001b[1;35mrun_code\u001b[0m\n    exec(code_obj, self.user_global_ns, self.user_ns)\n",
      "\u001b[0;36m  File \u001b[0;32m\"<ipython-input-34-af9212ebd5d5>\"\u001b[0;36m, line \u001b[0;32m4\u001b[0;36m, in \u001b[0;35m<module>\u001b[0;36m\u001b[0m\n\u001b[0;31m    '''.replace('>>> ', '').replace('...', '').replace('\\n', ''))\u001b[0m\n",
      "\u001b[0;36m  File \u001b[0;32m\"<string>\"\u001b[0;36m, line \u001b[0;32m1\u001b[0m\n\u001b[0;31m    from textblob.classifiers import NaiveBayesClassifiercl = NaiveBayesClassifier(train)\u001b[0m\n\u001b[0m       ^\u001b[0m\n\u001b[0;31mSyntaxError\u001b[0m\u001b[0;31m:\u001b[0m invalid syntax\n"
     ]
    }
   ],
   "source": [
    "eval('''\n",
    ">>> from textblob.classifiers import NaiveBayesClassifier\n",
    ">>> cl = NaiveBayesClassifier(train)\n",
    "'''.replace('>>> ', '').replace('...', '').replace('\\n', ''))"
   ]
  },
  {
   "cell_type": "code",
   "execution_count": 35,
   "metadata": {},
   "outputs": [],
   "source": [
    "from textblob.classifiers import NaiveBayesClassifier\n",
    "\n",
    "cl = NaiveBayesClassifier(train)"
   ]
  },
  {
   "cell_type": "code",
   "execution_count": 36,
   "metadata": {},
   "outputs": [
    {
     "data": {
      "text/plain": [
       "'pos'"
      ]
     },
     "execution_count": 36,
     "metadata": {},
     "output_type": "execute_result"
    }
   ],
   "source": [
    "cl.classify(\"This is an amazing library!\")"
   ]
  },
  {
   "cell_type": "code",
   "execution_count": null,
   "metadata": {},
   "outputs": [],
   "source": []
  },
  {
   "cell_type": "code",
   "execution_count": 37,
   "metadata": {},
   "outputs": [
    {
     "data": {
      "text/plain": [
       "'pos'"
      ]
     },
     "execution_count": 37,
     "metadata": {},
     "output_type": "execute_result"
    }
   ],
   "source": [
    " prob_dist = cl.prob_classify(\"This one's a doozy.\")\n",
    " prob_dist.max()"
   ]
  },
  {
   "cell_type": "code",
   "execution_count": 38,
   "metadata": {},
   "outputs": [
    {
     "data": {
      "text/plain": [
       "0.63"
      ]
     },
     "execution_count": 38,
     "metadata": {},
     "output_type": "execute_result"
    }
   ],
   "source": [
    " round(prob_dist.prob(\"pos\"), 2)"
   ]
  },
  {
   "cell_type": "code",
   "execution_count": 39,
   "metadata": {},
   "outputs": [
    {
     "data": {
      "text/plain": [
       "0.37"
      ]
     },
     "execution_count": 39,
     "metadata": {},
     "output_type": "execute_result"
    }
   ],
   "source": [
    " round(prob_dist.prob(\"neg\"), 2)"
   ]
  },
  {
   "cell_type": "code",
   "execution_count": null,
   "metadata": {},
   "outputs": [],
   "source": []
  },
  {
   "cell_type": "code",
   "execution_count": 40,
   "metadata": {},
   "outputs": [
    {
     "data": {
      "text/plain": [
       "'pos'"
      ]
     },
     "execution_count": 40,
     "metadata": {},
     "output_type": "execute_result"
    }
   ],
   "source": [
    " from textblob import TextBlob\n",
    " blob = TextBlob(\"The beer is good. But the hangover is horrible.\", classifier=cl)\n",
    " blob.classify()"
   ]
  },
  {
   "cell_type": "code",
   "execution_count": 41,
   "metadata": {},
   "outputs": [
    {
     "data": {
      "text/plain": [
       "0.8333333333333334"
      ]
     },
     "execution_count": 41,
     "metadata": {},
     "output_type": "execute_result"
    }
   ],
   "source": [
    "cl.accuracy(test)"
   ]
  },
  {
   "cell_type": "code",
   "execution_count": null,
   "metadata": {},
   "outputs": [],
   "source": []
  },
  {
   "cell_type": "code",
   "execution_count": 42,
   "metadata": {},
   "outputs": [
    {
     "name": "stdout",
     "output_type": "stream",
     "text": [
      "Most Informative Features\n",
      "            contains(my) = True              neg : pos    =      1.7 : 1.0\n",
      "            contains(an) = False             neg : pos    =      1.6 : 1.0\n",
      "             contains(I) = False             pos : neg    =      1.4 : 1.0\n",
      "             contains(I) = True              neg : pos    =      1.4 : 1.0\n",
      "            contains(my) = False             pos : neg    =      1.3 : 1.0\n"
     ]
    }
   ],
   "source": [
    "cl.show_informative_features(5) "
   ]
  },
  {
   "cell_type": "code",
   "execution_count": null,
   "metadata": {},
   "outputs": [],
   "source": []
  },
  {
   "cell_type": "code",
   "execution_count": 43,
   "metadata": {},
   "outputs": [
    {
     "data": {
      "text/plain": [
       "True"
      ]
     },
     "execution_count": 43,
     "metadata": {},
     "output_type": "execute_result"
    }
   ],
   "source": [
    " new_data = [('She is my best friend.', 'pos'),\n",
    "             (\"I'm happy to have a new friend.\", 'pos'),\n",
    "             (\"Stay thirsty, my friend.\", 'pos'),\n",
    "             (\"He ain't from around here.\", 'neg')]\n",
    " cl.update(new_data)"
   ]
  },
  {
   "cell_type": "code",
   "execution_count": 44,
   "metadata": {},
   "outputs": [
    {
     "data": {
      "text/plain": [
       "1.0"
      ]
     },
     "execution_count": 44,
     "metadata": {},
     "output_type": "execute_result"
    }
   ],
   "source": [
    "cl.accuracy(test)"
   ]
  },
  {
   "cell_type": "code",
   "execution_count": null,
   "metadata": {},
   "outputs": [],
   "source": []
  },
  {
   "cell_type": "code",
   "execution_count": 33,
   "metadata": {},
   "outputs": [
    {
     "data": {
      "text/plain": [
       "'Preprocessor is .,'"
      ]
     },
     "execution_count": 33,
     "metadata": {},
     "output_type": "execute_result"
    }
   ],
   "source": [
    " import preprocessor as p\n",
    " p.clean('Preprocessor is ., #awesome 👍 https://github.com/s/preprocessor')"
   ]
  },
  {
   "cell_type": "code",
   "execution_count": null,
   "metadata": {},
   "outputs": [],
   "source": []
  },
  {
   "cell_type": "code",
   "execution_count": 46,
   "metadata": {},
   "outputs": [
    {
     "data": {
      "text/plain": [
       "'Preprocessor is $HASHTAG$ $EMOJI$ $URL$'"
      ]
     },
     "execution_count": 46,
     "metadata": {},
     "output_type": "execute_result"
    }
   ],
   "source": [
    "p.tokenize('Preprocessor is #awesome 👍 https://github.com/s/preprocessor')"
   ]
  },
  {
   "cell_type": "code",
   "execution_count": null,
   "metadata": {},
   "outputs": [],
   "source": []
  },
  {
   "cell_type": "code",
   "execution_count": 47,
   "metadata": {},
   "outputs": [],
   "source": [
    "parsed_tweet = p.parse('Preprocessor is #awesome https://github.com/s/preprocessor')\n",
    "# <preprocessor.parse.ParseResult instance at 0x10f430758>\n",
    "# >>>"
   ]
  },
  {
   "cell_type": "code",
   "execution_count": 48,
   "metadata": {},
   "outputs": [
    {
     "data": {
      "text/plain": [
       "[(25:58) => https://github.com/s/preprocessor]"
      ]
     },
     "execution_count": 48,
     "metadata": {},
     "output_type": "execute_result"
    }
   ],
   "source": [
    " parsed_tweet.urls"
   ]
  },
  {
   "cell_type": "code",
   "execution_count": 49,
   "metadata": {},
   "outputs": [
    {
     "data": {
      "text/plain": [
       "25"
      ]
     },
     "execution_count": 49,
     "metadata": {},
     "output_type": "execute_result"
    }
   ],
   "source": [
    "parsed_tweet.urls[0].start_index"
   ]
  },
  {
   "cell_type": "code",
   "execution_count": 50,
   "metadata": {},
   "outputs": [
    {
     "data": {
      "text/plain": [
       "'https://github.com/s/preprocessor'"
      ]
     },
     "execution_count": 50,
     "metadata": {},
     "output_type": "execute_result"
    }
   ],
   "source": [
    "parsed_tweet.urls[0].match"
   ]
  },
  {
   "cell_type": "code",
   "execution_count": 51,
   "metadata": {},
   "outputs": [
    {
     "data": {
      "text/plain": [
       "58"
      ]
     },
     "execution_count": 51,
     "metadata": {},
     "output_type": "execute_result"
    }
   ],
   "source": [
    "parsed_tweet.urls[0].end_index"
   ]
  },
  {
   "cell_type": "code",
   "execution_count": null,
   "metadata": {},
   "outputs": [],
   "source": []
  },
  {
   "cell_type": "code",
   "execution_count": 28,
   "metadata": {},
   "outputs": [],
   "source": [
    "import nltk"
   ]
  },
  {
   "cell_type": "code",
   "execution_count": 32,
   "metadata": {},
   "outputs": [
    {
     "data": {
      "text/plain": [
       "['able',\n",
       " ',',\n",
       " 'accept',\n",
       " ',',\n",
       " 'acceptance',\n",
       " ',',\n",
       " 'acceptable',\n",
       " ',',\n",
       " 'accepted',\n",
       " ',',\n",
       " 'accepting',\n",
       " ',',\n",
       " 'action',\n",
       " ',',\n",
       " 'activate',\n",
       " ',',\n",
       " 'active',\n",
       " ',',\n",
       " 'add',\n",
       " ',',\n",
       " 'addition',\n",
       " ',',\n",
       " 'adorable',\n",
       " ',',\n",
       " 'advantage',\n",
       " ',',\n",
       " 'affirm',\n",
       " ',',\n",
       " 'ageless',\n",
       " ',',\n",
       " 'agree',\n",
       " ',',\n",
       " 'agreeable',\n",
       " ',',\n",
       " 'aid',\n",
       " ',',\n",
       " 'aim',\n",
       " ',',\n",
       " 'abundance',\n",
       " ',',\n",
       " 'accountability',\n",
       " ',',\n",
       " 'accomplishment',\n",
       " ',',\n",
       " 'accomplish',\n",
       " ',',\n",
       " 'accuracy',\n",
       " ',',\n",
       " 'achievement',\n",
       " ',',\n",
       " 'achieve',\n",
       " ',',\n",
       " 'acknowledgement',\n",
       " ',',\n",
       " 'adaptability',\n",
       " ',',\n",
       " 'adventure',\n",
       " ',',\n",
       " 'adventurous',\n",
       " ',',\n",
       " 'agility',\n",
       " ',',\n",
       " 'alertness',\n",
       " ',',\n",
       " 'ambition',\n",
       " ',',\n",
       " 'anticipation',\n",
       " ',',\n",
       " 'appreciate',\n",
       " ',',\n",
       " 'appreciation',\n",
       " ',',\n",
       " 'appreciative',\n",
       " ',',\n",
       " 'appreciativeness',\n",
       " ',',\n",
       " 'assertiveness',\n",
       " ',',\n",
       " 'assertive',\n",
       " ',',\n",
       " 'attentiveness',\n",
       " ',',\n",
       " 'audacity',\n",
       " ',',\n",
       " 'aware',\n",
       " ',',\n",
       " 'awareness',\n",
       " ',',\n",
       " 'authentic',\n",
       " ',',\n",
       " 'authenticity',\n",
       " ',',\n",
       " 'abracadabra',\n",
       " ',',\n",
       " 'attraction',\n",
       " ',',\n",
       " 'allow',\n",
       " ',',\n",
       " 'allowing',\n",
       " ',',\n",
       " 'affection',\n",
       " ',',\n",
       " 'affectionate',\n",
       " ',',\n",
       " 'absorbed',\n",
       " ',',\n",
       " 'alert',\n",
       " ',',\n",
       " 'amazed',\n",
       " ',',\n",
       " 'awe',\n",
       " ',',\n",
       " 'awed',\n",
       " ',',\n",
       " 'animate',\n",
       " ',',\n",
       " 'animated',\n",
       " ',',\n",
       " 'animating',\n",
       " ',',\n",
       " 'animation',\n",
       " ',',\n",
       " 'animateness',\n",
       " ',',\n",
       " 'ardent',\n",
       " ',',\n",
       " 'amazing',\n",
       " ',',\n",
       " 'awesome',\n",
       " ',',\n",
       " 'awesomeness',\n",
       " ',',\n",
       " 'aroused',\n",
       " ',',\n",
       " 'astonished',\n",
       " ',',\n",
       " 'astonishing',\n",
       " ',',\n",
       " 'amused',\n",
       " ',',\n",
       " 'air',\n",
       " ',',\n",
       " 'airness',\n",
       " ',',\n",
       " 'aloha',\n",
       " ',',\n",
       " 'adore',\n",
       " ',',\n",
       " 'admire',\n",
       " ',',\n",
       " 'admirable',\n",
       " ',',\n",
       " 'allure',\n",
       " ',',\n",
       " 'angel',\n",
       " ',',\n",
       " 'angelic',\n",
       " ',',\n",
       " 'altruism',\n",
       " ',',\n",
       " 'altruistic',\n",
       " ',',\n",
       " 'abound',\n",
       " ',',\n",
       " 'abounding',\n",
       " ',',\n",
       " 'abounds-',\n",
       " 'abundant',\n",
       " ',',\n",
       " 'absolute',\n",
       " ',',\n",
       " 'absolutely',\n",
       " ',',\n",
       " 'accessible',\n",
       " ',',\n",
       " 'acclaimed',\n",
       " ',',\n",
       " 'accommodate',\n",
       " ',',\n",
       " 'accommodated',\n",
       " ',',\n",
       " 'accommodation',\n",
       " ',',\n",
       " 'accommodating',\n",
       " ',',\n",
       " 'ample',\n",
       " ',',\n",
       " 'appreciative',\n",
       " 'joy',\n",
       " ',',\n",
       " 'amin',\n",
       " ',',\n",
       " 'accentuactivity',\n",
       " ',',\n",
       " 'actability',\n",
       " ',',\n",
       " 'affable',\n",
       " ',',\n",
       " 'alacrity',\n",
       " ',',\n",
       " 'altrucause',\n",
       " ',',\n",
       " 'amiable',\n",
       " ',',\n",
       " 'astounding',\n",
       " ',',\n",
       " 'attractive',\n",
       " ',',\n",
       " 'alive',\n",
       " ',',\n",
       " 'aliveness',\n",
       " ',',\n",
       " 'acclaim',\n",
       " ',',\n",
       " 'abundant',\n",
       " 'gratification',\n",
       " ',',\n",
       " 'acclamation',\n",
       " ',',\n",
       " 'accomplished',\n",
       " ',',\n",
       " 'accomplishments',\n",
       " ',',\n",
       " 'accurate',\n",
       " ',',\n",
       " 'accurately',\n",
       " ',',\n",
       " 'achievable',\n",
       " ',',\n",
       " 'achievements',\n",
       " ',',\n",
       " 'action',\n",
       " 'for',\n",
       " 'happiness',\n",
       " ',',\n",
       " 'active',\n",
       " 'and',\n",
       " 'constructive',\n",
       " 'steps',\n",
       " ',',\n",
       " 'acts',\n",
       " 'of',\n",
       " 'kindness',\n",
       " ',',\n",
       " 'adaptable',\n",
       " ',',\n",
       " 'adaptive',\n",
       " ',',\n",
       " 'adequate',\n",
       " ',',\n",
       " 'admirably',\n",
       " ',',\n",
       " 'admiration',\n",
       " ',',\n",
       " 'admired',\n",
       " ',',\n",
       " 'adored',\n",
       " ',',\n",
       " 'adoring',\n",
       " ',',\n",
       " 'adoringly',\n",
       " ',',\n",
       " 'advanced',\n",
       " ',',\n",
       " 'advantageous',\n",
       " ',',\n",
       " 'advantageously',\n",
       " ',',\n",
       " 'advantages',\n",
       " ',',\n",
       " 'affability',\n",
       " ',',\n",
       " 'affably',\n",
       " ',',\n",
       " 'affinity',\n",
       " ',',\n",
       " 'affirmation',\n",
       " ',',\n",
       " 'affirmative',\n",
       " ',',\n",
       " 'affluence',\n",
       " ',',\n",
       " 'affluent',\n",
       " ',',\n",
       " 'afford',\n",
       " ',',\n",
       " 'affordable',\n",
       " ',',\n",
       " 'affordably',\n",
       " ',',\n",
       " 'agile',\n",
       " ',',\n",
       " 'agilely',\n",
       " ',',\n",
       " 'agreeableness',\n",
       " ',',\n",
       " 'agreeably',\n",
       " ',',\n",
       " 'aligned',\n",
       " ',',\n",
       " 'all',\n",
       " 'is',\n",
       " 'well',\n",
       " ',',\n",
       " 'alluring',\n",
       " ',',\n",
       " 'alluringly',\n",
       " ',',\n",
       " 'alternative',\n",
       " 'healing',\n",
       " ',',\n",
       " 'altruistically',\n",
       " ',',\n",
       " 'amaze',\n",
       " ',',\n",
       " 'amazement',\n",
       " ',',\n",
       " 'amazes',\n",
       " ',',\n",
       " 'amazingly',\n",
       " ',',\n",
       " 'amiability',\n",
       " ',',\n",
       " 'amicability',\n",
       " ',',\n",
       " 'amicable',\n",
       " ',',\n",
       " 'amicably',\n",
       " ',',\n",
       " 'amusing',\n",
       " ',',\n",
       " 'appeal',\n",
       " ',',\n",
       " 'appealing',\n",
       " ',',\n",
       " 'applaud',\n",
       " ',',\n",
       " 'appreciable',\n",
       " ',',\n",
       " 'appreciated',\n",
       " ',',\n",
       " 'appreciates',\n",
       " ',',\n",
       " 'appreciation',\n",
       " 'of',\n",
       " 'beauty',\n",
       " ',',\n",
       " 'appreciatively',\n",
       " ',',\n",
       " 'appropriate',\n",
       " ',',\n",
       " 'approval',\n",
       " ',',\n",
       " 'approve',\n",
       " ',',\n",
       " 'ardor',\n",
       " ',',\n",
       " 'art',\n",
       " 'of',\n",
       " 'appreciation',\n",
       " ',',\n",
       " 'art',\n",
       " 'of',\n",
       " 'stillness',\n",
       " ',',\n",
       " 'art',\n",
       " 'of',\n",
       " 'well-being',\n",
       " ',',\n",
       " 'assurance',\n",
       " ',',\n",
       " 'a',\n",
       " 'reason',\n",
       " 'for',\n",
       " 'being',\n",
       " ',',\n",
       " 'acaronar',\n",
       " ',',\n",
       " 'accommodative',\n",
       " ',',\n",
       " 'altitudinarian',\n",
       " ',',\n",
       " 'amazing',\n",
       " 'words',\n",
       " ',',\n",
       " 'amiably',\n",
       " ',',\n",
       " 'accolade',\n",
       " ',',\n",
       " 'acumen',\n",
       " ',',\n",
       " 'adjustable',\n",
       " ',',\n",
       " 'admirer',\n",
       " ',',\n",
       " 'admiring',\n",
       " ',',\n",
       " 'admiringly',\n",
       " ',',\n",
       " 'adorer',\n",
       " ',',\n",
       " 'adroit',\n",
       " ',',\n",
       " 'adroitly',\n",
       " ',',\n",
       " 'adulated',\n",
       " ',',\n",
       " 'adulation',\n",
       " ',',\n",
       " 'adulatory',\n",
       " ',',\n",
       " 'adventuresome',\n",
       " ',',\n",
       " 'advocated',\n",
       " ',',\n",
       " 'ambitious',\n",
       " ',',\n",
       " 'ambitiously',\n",
       " ',',\n",
       " 'ameliorate',\n",
       " ',',\n",
       " 'amenity',\n",
       " ',',\n",
       " 'amity',\n",
       " ',',\n",
       " 'amply',\n",
       " ',',\n",
       " 'amuse',\n",
       " ',',\n",
       " 'amusingly',\n",
       " ',',\n",
       " 'apotheosis',\n",
       " ',',\n",
       " 'assume',\n",
       " 'your',\n",
       " 'own',\n",
       " 'value',\n",
       " ',',\n",
       " 'astonishingly',\n",
       " ',',\n",
       " 'astonishment',\n",
       " ',',\n",
       " 'attributional',\n",
       " 'style',\n",
       " 'questionnaire',\n",
       " '(',\n",
       " 'asq',\n",
       " ')',\n",
       " ',',\n",
       " 'authentic',\n",
       " 'happiness',\n",
       " ',',\n",
       " 'awaken',\n",
       " ',',\n",
       " 'awakening',\n",
       " 'beatify',\n",
       " ',',\n",
       " 'beatitude',\n",
       " ',',\n",
       " 'beneficial',\n",
       " ',',\n",
       " 'benefit',\n",
       " ',',\n",
       " 'benevolent',\n",
       " ',',\n",
       " 'beloved',\n",
       " ',',\n",
       " 'best',\n",
       " ',',\n",
       " 'better',\n",
       " ',',\n",
       " 'bless',\n",
       " ',',\n",
       " 'blessing',\n",
       " ',',\n",
       " 'blessed',\n",
       " ',',\n",
       " 'bliss',\n",
       " ',',\n",
       " 'blissfulness',\n",
       " ',',\n",
       " 'blissful',\n",
       " ',',\n",
       " 'bloom',\n",
       " ',',\n",
       " 'blossom',\n",
       " ',',\n",
       " 'balance',\n",
       " ',',\n",
       " 'balanced',\n",
       " ',',\n",
       " 'beauty',\n",
       " ',',\n",
       " 'beautiful',\n",
       " ',',\n",
       " 'beautifully',\n",
       " ',',\n",
       " 'belong',\n",
       " ',',\n",
       " 'belonging',\n",
       " ',',\n",
       " 'boldness',\n",
       " ',',\n",
       " 'bravery',\n",
       " ',',\n",
       " 'brilliance',\n",
       " ',',\n",
       " 'brilliant',\n",
       " ',',\n",
       " 'bliss',\n",
       " 'on',\n",
       " 'tap',\n",
       " ',',\n",
       " 'beyond',\n",
       " 'fabulous',\n",
       " ',',\n",
       " 'biophilia',\n",
       " ',',\n",
       " 'bright',\n",
       " ',',\n",
       " 'brightness',\n",
       " ',',\n",
       " 'balistic',\n",
       " ',',\n",
       " 'blasting',\n",
       " ',',\n",
       " 'blazing',\n",
       " ',',\n",
       " 'blinding',\n",
       " ',',\n",
       " 'breathtaking',\n",
       " ',',\n",
       " 'bubbling',\n",
       " ',',\n",
       " 'busting',\n",
       " ',',\n",
       " 'blisscipline',\n",
       " ',',\n",
       " 'buyancy',\n",
       " ',',\n",
       " 'bullishness',\n",
       " ',',\n",
       " 'briskness',\n",
       " ',',\n",
       " 'buoyancy',\n",
       " ',',\n",
       " 'breeziness',\n",
       " ',',\n",
       " 'brio',\n",
       " ',',\n",
       " 'be',\n",
       " 'extraordinary',\n",
       " ',',\n",
       " 'be',\n",
       " 'happy',\n",
       " ',',\n",
       " 'beautify',\n",
       " ',',\n",
       " 'being',\n",
       " 'at',\n",
       " 'rest',\n",
       " ',',\n",
       " 'benefactor',\n",
       " ',',\n",
       " 'benefits',\n",
       " ',',\n",
       " 'benevolence',\n",
       " ',',\n",
       " 'benevolently',\n",
       " ',',\n",
       " 'benevolently',\n",
       " 'cheerful',\n",
       " 'state',\n",
       " 'of',\n",
       " 'mind',\n",
       " ',',\n",
       " 'best',\n",
       " 'of',\n",
       " 'all',\n",
       " 'possible',\n",
       " 'worlds',\n",
       " ',',\n",
       " 'beyond',\n",
       " ',',\n",
       " 'beauty',\n",
       " 'in',\n",
       " 'all',\n",
       " 'things',\n",
       " ',',\n",
       " 'beingness',\n",
       " ',',\n",
       " 'believable',\n",
       " ',',\n",
       " 'blood-brothers',\n",
       " ',',\n",
       " 'bohemian',\n",
       " 'soul',\n",
       " ',',\n",
       " 'boho-soul',\n",
       " ',',\n",
       " 'badassery',\n",
       " ',',\n",
       " 'best-selling',\n",
       " ',',\n",
       " 'better',\n",
       " 'and',\n",
       " 'better',\n",
       " ',',\n",
       " 'better-known',\n",
       " ',',\n",
       " 'better-than-eected',\n",
       " ',',\n",
       " 'beyond',\n",
       " 'thank',\n",
       " 'you',\n",
       " ',',\n",
       " 'big',\n",
       " 'vision',\n",
       " ',',\n",
       " 'blithesome',\n",
       " ',',\n",
       " 'blossoming',\n",
       " ',',\n",
       " 'bonuscare',\n",
       " ',',\n",
       " 'caring',\n",
       " ',',\n",
       " 'calm',\n",
       " ',',\n",
       " 'create',\n",
       " ',',\n",
       " 'creative',\n",
       " ',',\n",
       " 'creativity',\n",
       " ',',\n",
       " 'creativeness',\n",
       " ',',\n",
       " 'capable',\n",
       " ',',\n",
       " 'capability',\n",
       " ',',\n",
       " 'capably',\n",
       " ',',\n",
       " 'celebrate',\n",
       " ',',\n",
       " 'celebration',\n",
       " ',',\n",
       " 'certain',\n",
       " ',',\n",
       " 'certainty',\n",
       " ',',\n",
       " 'charitable',\n",
       " ',',\n",
       " 'charity',\n",
       " ',',\n",
       " 'charm',\n",
       " ',',\n",
       " 'charming',\n",
       " ',',\n",
       " 'charmer',\n",
       " ',',\n",
       " 'choice',\n",
       " ',',\n",
       " 'clean',\n",
       " ',',\n",
       " 'cleanliness',\n",
       " ',',\n",
       " 'comfort',\n",
       " ',',\n",
       " 'comfortable',\n",
       " ',',\n",
       " 'comforting',\n",
       " ',',\n",
       " 'cuddle',\n",
       " ',',\n",
       " 'cuddling',\n",
       " ',',\n",
       " 'candor',\n",
       " ',',\n",
       " 'carefulness',\n",
       " ',',\n",
       " 'challenge',\n",
       " ',',\n",
       " 'change',\n",
       " ',',\n",
       " 'cheerful',\n",
       " ',',\n",
       " 'cheerfulness',\n",
       " ',',\n",
       " 'clarity',\n",
       " ',',\n",
       " 'collaboration',\n",
       " ',',\n",
       " 'commitment',\n",
       " ',',\n",
       " 'communication',\n",
       " ',',\n",
       " 'community',\n",
       " ',',\n",
       " 'compassion',\n",
       " ',',\n",
       " 'compassionate',\n",
       " ',',\n",
       " 'competent',\n",
       " ',',\n",
       " 'competence',\n",
       " ',',\n",
       " 'competency',\n",
       " ',',\n",
       " 'concentration',\n",
       " ',',\n",
       " 'confident',\n",
       " ',',\n",
       " 'confidence',\n",
       " ',',\n",
       " 'consciousness',\n",
       " ',',\n",
       " 'consistency',\n",
       " ',',\n",
       " 'consistent',\n",
       " ',',\n",
       " 'content',\n",
       " ',',\n",
       " 'contentment',\n",
       " ',',\n",
       " 'continuity',\n",
       " ',',\n",
       " 'continuous',\n",
       " ',',\n",
       " 'contribution',\n",
       " ',',\n",
       " 'conviction',\n",
       " ',',\n",
       " 'convincing',\n",
       " ',',\n",
       " 'cooperation',\n",
       " ',',\n",
       " 'courage',\n",
       " ',',\n",
       " 'courtesy',\n",
       " ',',\n",
       " 'courteous',\n",
       " ',',\n",
       " 'curious',\n",
       " ',',\n",
       " 'curiosity',\n",
       " ',',\n",
       " 'chakra',\n",
       " ',',\n",
       " 'cool',\n",
       " ',',\n",
       " 'clear',\n",
       " 'headed',\n",
       " ',',\n",
       " 'centered',\n",
       " ',',\n",
       " 'closeness',\n",
       " ',',\n",
       " 'companionship',\n",
       " ',',\n",
       " 'considerate',\n",
       " ',',\n",
       " 'consideration',\n",
       " ',',\n",
       " 'communion',\n",
       " ',',\n",
       " 'connect',\n",
       " ',',\n",
       " 'connected',\n",
       " ',',\n",
       " 'connection',\n",
       " ',',\n",
       " 'connectedness',\n",
       " ',',\n",
       " 'conquer',\n",
       " ',',\n",
       " 'cute',\n",
       " ',',\n",
       " 'charisma',\n",
       " ',',\n",
       " 'charismatic',\n",
       " ',',\n",
       " 'collected',\n",
       " ',',\n",
       " 'cheerful',\n",
       " 'willingness',\n",
       " ',',\n",
       " 'cheers',\n",
       " ',',\n",
       " 'congruence',\n",
       " ',',\n",
       " 'cordial',\n",
       " ',',\n",
       " 'crank',\n",
       " '(',\n",
       " 'up',\n",
       " ')',\n",
       " ',',\n",
       " 'capital',\n",
       " ',',\n",
       " 'corking',\n",
       " ',',\n",
       " 'clear',\n",
       " ',',\n",
       " 'caress',\n",
       " ',',\n",
       " 'cheerful',\n",
       " 'mood',\n",
       " ',',\n",
       " 'complimentary',\n",
       " 'words',\n",
       " ',',\n",
       " 'contented',\n",
       " ',',\n",
       " 'coziness',\n",
       " ',',\n",
       " 'cuteness',\n",
       " ',',\n",
       " 'carefreeness',\n",
       " ',',\n",
       " 'carefree',\n",
       " ',',\n",
       " 'centering',\n",
       " ',',\n",
       " 'centering',\n",
       " 'meditation',\n",
       " ',',\n",
       " 'citizen',\n",
       " 'of',\n",
       " 'mastery',\n",
       " ',',\n",
       " 'co-creating',\n",
       " ',',\n",
       " 'co-creator',\n",
       " ',',\n",
       " 'cohesion',\n",
       " ',',\n",
       " 'continual',\n",
       " 'stream',\n",
       " 'of',\n",
       " 'synchronicity',\n",
       " ',',\n",
       " 'creative',\n",
       " 'processdirection',\n",
       " ',',\n",
       " 'delicate',\n",
       " ',',\n",
       " 'decent',\n",
       " ',',\n",
       " 'desirable',\n",
       " ',',\n",
       " 'delicious',\n",
       " ',',\n",
       " 'deliciousness',\n",
       " ',',\n",
       " 'do',\n",
       " ',',\n",
       " 'dream',\n",
       " ',',\n",
       " 'dreamy',\n",
       " ',',\n",
       " 'dynamic',\n",
       " ',',\n",
       " 'daring',\n",
       " ',',\n",
       " 'decisiveness',\n",
       " ',',\n",
       " 'delight',\n",
       " ',',\n",
       " 'delighted',\n",
       " ',',\n",
       " 'delightful',\n",
       " ',',\n",
       " 'dependability',\n",
       " ',',\n",
       " 'desire',\n",
       " ',',\n",
       " 'determination',\n",
       " ',',\n",
       " 'devotion',\n",
       " ',',\n",
       " 'dignity',\n",
       " ',',\n",
       " 'diligence',\n",
       " ',',\n",
       " 'discipline',\n",
       " ',',\n",
       " 'discovery',\n",
       " ',',\n",
       " 'discretion',\n",
       " ',',\n",
       " 'diversity',\n",
       " ',',\n",
       " 'drive',\n",
       " ',',\n",
       " 'duty',\n",
       " ',',\n",
       " 'divine',\n",
       " ',',\n",
       " 'dazzled',\n",
       " ',',\n",
       " 'disney',\n",
       " ',',\n",
       " 'devoted',\n",
       " ',',\n",
       " 'dandy',\n",
       " ',',\n",
       " 'daimon',\n",
       " ',',\n",
       " 'debonair',\n",
       " ',',\n",
       " 'detachment',\n",
       " ',',\n",
       " 'dedicated',\n",
       " ',',\n",
       " 'dauwtrappen',\n",
       " ',',\n",
       " 'dazzle',\n",
       " ',',\n",
       " 'delightfully',\n",
       " ',',\n",
       " 'defencelessness',\n",
       " ',',\n",
       " 'deeper',\n",
       " 'part',\n",
       " 'of',\n",
       " 'you',\n",
       " ',',\n",
       " 'deserve',\n",
       " ',',\n",
       " 'deservedness',\n",
       " ',',\n",
       " 'deservingness',\n",
       " ',',\n",
       " 'dis-identify',\n",
       " ',',\n",
       " 'dope',\n",
       " ',',\n",
       " 'dope',\n",
       " 'chill',\n",
       " 'outempathy',\n",
       " ',',\n",
       " 'empathize',\n",
       " ',',\n",
       " 'emphatic',\n",
       " ',',\n",
       " 'easy',\n",
       " ',',\n",
       " 'easily',\n",
       " ',',\n",
       " 'easier',\n",
       " ',',\n",
       " 'educate',\n",
       " ',',\n",
       " 'education',\n",
       " ',',\n",
       " 'educated',\n",
       " ',',\n",
       " 'efficient',\n",
       " ',',\n",
       " 'enable',\n",
       " ',',\n",
       " 'enabled',\n",
       " ',',\n",
       " 'energetic',\n",
       " ',',\n",
       " 'energize',\n",
       " ',',\n",
       " 'energy',\n",
       " ',',\n",
       " 'engage',\n",
       " ',',\n",
       " 'engaging',\n",
       " ',',\n",
       " 'engaged',\n",
       " ',',\n",
       " 'enjoy',\n",
       " ',',\n",
       " 'enjoyment',\n",
       " ',',\n",
       " 'enough',\n",
       " ',',\n",
       " 'eager',\n",
       " ',',\n",
       " 'eagerness',\n",
       " ',',\n",
       " 'effectiveness',\n",
       " ',',\n",
       " 'efficiency',\n",
       " ',',\n",
       " 'elation',\n",
       " ',',\n",
       " 'elegance',\n",
       " ',',\n",
       " 'encourage',\n",
       " ',',\n",
       " 'encouragement',\n",
       " ',',\n",
       " 'encouraged',\n",
       " ',',\n",
       " ...]"
      ]
     },
     "execution_count": 32,
     "metadata": {},
     "output_type": "execute_result"
    }
   ],
   "source": [
    "nltk.word_tokenize(p.clean(p_words))"
   ]
  },
  {
   "cell_type": "code",
   "execution_count": null,
   "metadata": {},
   "outputs": [],
   "source": []
  }
 ],
 "metadata": {
  "kernelspec": {
   "display_name": "Python 3",
   "language": "python",
   "name": "python3"
  },
  "language_info": {
   "codemirror_mode": {
    "name": "ipython",
    "version": 3
   },
   "file_extension": ".py",
   "mimetype": "text/x-python",
   "name": "python",
   "nbconvert_exporter": "python",
   "pygments_lexer": "ipython3",
   "version": "3.5.2"
  }
 },
 "nbformat": 4,
 "nbformat_minor": 2
}
