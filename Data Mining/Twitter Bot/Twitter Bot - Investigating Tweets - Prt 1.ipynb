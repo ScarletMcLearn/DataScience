{
 "cells": [
  {
   "cell_type": "code",
   "execution_count": 1,
   "metadata": {},
   "outputs": [],
   "source": [
    "import json"
   ]
  },
  {
   "cell_type": "code",
   "execution_count": 7,
   "metadata": {},
   "outputs": [
    {
     "ename": "AttributeError",
     "evalue": "'_io.TextIOWrapper' object has no attribute 'decode'",
     "output_type": "error",
     "traceback": [
      "\u001b[0;31m---------------------------------------------------------------------------\u001b[0m",
      "\u001b[0;31mAttributeError\u001b[0m                            Traceback (most recent call last)",
      "\u001b[0;32m<ipython-input-7-9fe41820a3a4>\u001b[0m in \u001b[0;36m<module>\u001b[0;34m()\u001b[0m\n\u001b[0;32m----> 1\u001b[0;31m \u001b[0mjsonToPython\u001b[0m \u001b[0;34m=\u001b[0m \u001b[0mjson\u001b[0m\u001b[0;34m.\u001b[0m\u001b[0mloads\u001b[0m\u001b[0;34m(\u001b[0m\u001b[0mopen\u001b[0m\u001b[0;34m(\u001b[0m\u001b[0;34m'depression_1.json'\u001b[0m\u001b[0;34m,\u001b[0m \u001b[0;34m'r'\u001b[0m\u001b[0;34m)\u001b[0m\u001b[0;34m.\u001b[0m\u001b[0mdecode\u001b[0m\u001b[0;34m(\u001b[0m\u001b[0;34m\"utf-8\"\u001b[0m\u001b[0;34m)\u001b[0m\u001b[0;34m)\u001b[0m\u001b[0;34m\u001b[0m\u001b[0m\n\u001b[0m",
      "\u001b[0;31mAttributeError\u001b[0m: '_io.TextIOWrapper' object has no attribute 'decode'"
     ]
    }
   ],
   "source": [
    "jsonToPython = json.loads(open('depression_1.json', 'r').decode(\"utf-8\"))"
   ]
  },
  {
   "cell_type": "code",
   "execution_count": 8,
   "metadata": {},
   "outputs": [
    {
     "ename": "JSONDecodeError",
     "evalue": "Extra data: line 2 column 1 (char 5388)",
     "output_type": "error",
     "traceback": [
      "\u001b[0;31m---------------------------------------------------------------------------\u001b[0m",
      "\u001b[0;31mJSONDecodeError\u001b[0m                           Traceback (most recent call last)",
      "\u001b[0;32m<ipython-input-8-a77460703ac6>\u001b[0m in \u001b[0;36m<module>\u001b[0;34m()\u001b[0m\n\u001b[1;32m      1\u001b[0m \u001b[0;32mimport\u001b[0m \u001b[0mjson\u001b[0m\u001b[0;34m\u001b[0m\u001b[0m\n\u001b[0;32m----> 2\u001b[0;31m \u001b[0mjsonToPython\u001b[0m \u001b[0;34m=\u001b[0m \u001b[0mjson\u001b[0m\u001b[0;34m.\u001b[0m\u001b[0mload\u001b[0m\u001b[0;34m(\u001b[0m\u001b[0mopen\u001b[0m\u001b[0;34m(\u001b[0m\u001b[0;34m'depression_1.json'\u001b[0m\u001b[0;34m)\u001b[0m\u001b[0;34m)\u001b[0m\u001b[0;34m\u001b[0m\u001b[0m\n\u001b[0m",
      "\u001b[0;32m/usr/lib/python3.5/json/__init__.py\u001b[0m in \u001b[0;36mload\u001b[0;34m(fp, cls, object_hook, parse_float, parse_int, parse_constant, object_pairs_hook, **kw)\u001b[0m\n\u001b[1;32m    266\u001b[0m         \u001b[0mcls\u001b[0m\u001b[0;34m=\u001b[0m\u001b[0mcls\u001b[0m\u001b[0;34m,\u001b[0m \u001b[0mobject_hook\u001b[0m\u001b[0;34m=\u001b[0m\u001b[0mobject_hook\u001b[0m\u001b[0;34m,\u001b[0m\u001b[0;34m\u001b[0m\u001b[0m\n\u001b[1;32m    267\u001b[0m         \u001b[0mparse_float\u001b[0m\u001b[0;34m=\u001b[0m\u001b[0mparse_float\u001b[0m\u001b[0;34m,\u001b[0m \u001b[0mparse_int\u001b[0m\u001b[0;34m=\u001b[0m\u001b[0mparse_int\u001b[0m\u001b[0;34m,\u001b[0m\u001b[0;34m\u001b[0m\u001b[0m\n\u001b[0;32m--> 268\u001b[0;31m         parse_constant=parse_constant, object_pairs_hook=object_pairs_hook, **kw)\n\u001b[0m\u001b[1;32m    269\u001b[0m \u001b[0;34m\u001b[0m\u001b[0m\n\u001b[1;32m    270\u001b[0m \u001b[0;34m\u001b[0m\u001b[0m\n",
      "\u001b[0;32m/usr/lib/python3.5/json/__init__.py\u001b[0m in \u001b[0;36mloads\u001b[0;34m(s, encoding, cls, object_hook, parse_float, parse_int, parse_constant, object_pairs_hook, **kw)\u001b[0m\n\u001b[1;32m    317\u001b[0m             \u001b[0mparse_int\u001b[0m \u001b[0;32mis\u001b[0m \u001b[0;32mNone\u001b[0m \u001b[0;32mand\u001b[0m \u001b[0mparse_float\u001b[0m \u001b[0;32mis\u001b[0m \u001b[0;32mNone\u001b[0m \u001b[0;32mand\u001b[0m\u001b[0;34m\u001b[0m\u001b[0m\n\u001b[1;32m    318\u001b[0m             parse_constant is None and object_pairs_hook is None and not kw):\n\u001b[0;32m--> 319\u001b[0;31m         \u001b[0;32mreturn\u001b[0m \u001b[0m_default_decoder\u001b[0m\u001b[0;34m.\u001b[0m\u001b[0mdecode\u001b[0m\u001b[0;34m(\u001b[0m\u001b[0ms\u001b[0m\u001b[0;34m)\u001b[0m\u001b[0;34m\u001b[0m\u001b[0m\n\u001b[0m\u001b[1;32m    320\u001b[0m     \u001b[0;32mif\u001b[0m \u001b[0mcls\u001b[0m \u001b[0;32mis\u001b[0m \u001b[0;32mNone\u001b[0m\u001b[0;34m:\u001b[0m\u001b[0;34m\u001b[0m\u001b[0m\n\u001b[1;32m    321\u001b[0m         \u001b[0mcls\u001b[0m \u001b[0;34m=\u001b[0m \u001b[0mJSONDecoder\u001b[0m\u001b[0;34m\u001b[0m\u001b[0m\n",
      "\u001b[0;32m/usr/lib/python3.5/json/decoder.py\u001b[0m in \u001b[0;36mdecode\u001b[0;34m(self, s, _w)\u001b[0m\n\u001b[1;32m    340\u001b[0m         \u001b[0mend\u001b[0m \u001b[0;34m=\u001b[0m \u001b[0m_w\u001b[0m\u001b[0;34m(\u001b[0m\u001b[0ms\u001b[0m\u001b[0;34m,\u001b[0m \u001b[0mend\u001b[0m\u001b[0;34m)\u001b[0m\u001b[0;34m.\u001b[0m\u001b[0mend\u001b[0m\u001b[0;34m(\u001b[0m\u001b[0;34m)\u001b[0m\u001b[0;34m\u001b[0m\u001b[0m\n\u001b[1;32m    341\u001b[0m         \u001b[0;32mif\u001b[0m \u001b[0mend\u001b[0m \u001b[0;34m!=\u001b[0m \u001b[0mlen\u001b[0m\u001b[0;34m(\u001b[0m\u001b[0ms\u001b[0m\u001b[0;34m)\u001b[0m\u001b[0;34m:\u001b[0m\u001b[0;34m\u001b[0m\u001b[0m\n\u001b[0;32m--> 342\u001b[0;31m             \u001b[0;32mraise\u001b[0m \u001b[0mJSONDecodeError\u001b[0m\u001b[0;34m(\u001b[0m\u001b[0;34m\"Extra data\"\u001b[0m\u001b[0;34m,\u001b[0m \u001b[0ms\u001b[0m\u001b[0;34m,\u001b[0m \u001b[0mend\u001b[0m\u001b[0;34m)\u001b[0m\u001b[0;34m\u001b[0m\u001b[0m\n\u001b[0m\u001b[1;32m    343\u001b[0m         \u001b[0;32mreturn\u001b[0m \u001b[0mobj\u001b[0m\u001b[0;34m\u001b[0m\u001b[0m\n\u001b[1;32m    344\u001b[0m \u001b[0;34m\u001b[0m\u001b[0m\n",
      "\u001b[0;31mJSONDecodeError\u001b[0m: Extra data: line 2 column 1 (char 5388)"
     ]
    }
   ],
   "source": [
    "import json\n",
    "jsonToPython = json.load(open('depression_1.json'))"
   ]
  },
  {
   "cell_type": "code",
   "execution_count": 10,
   "metadata": {},
   "outputs": [],
   "source": [
    "data = []\n",
    "\n",
    "for line in open('depression_1.json', 'r'):\n",
    "    data.append(json.dumps(line)) "
   ]
  },
  {
   "cell_type": "code",
   "execution_count": 11,
   "metadata": {},
   "outputs": [
    {
     "data": {
      "text/plain": [
       "199219"
      ]
     },
     "execution_count": 11,
     "metadata": {},
     "output_type": "execute_result"
    }
   ],
   "source": [
    "len(data)"
   ]
  },
  {
   "cell_type": "code",
   "execution_count": 13,
   "metadata": {},
   "outputs": [
    {
     "data": {
      "text/plain": [
       "'\"{\\\\\"favorite_count\\\\\": 0, \\\\\"in_reply_to_screen_name\\\\\": null, \\\\\"is_quote_status\\\\\": false, \\\\\"retweet_count\\\\\": 41341, \\\\\"text\\\\\": \\\\\"RT @showupforthis: depression: ...\\\\\\\\nme: ...\\\\\\\\ndepression: ...\\\\\\\\nme: ...\\\\\\\\ndepression: ...\\\\\\\\nme: ...\\\\\\\\ndepression: ...\\\\\\\\nme: ...\\\\\\\\ndepression: ...\\\\\\\\nme: ...\\\\\\\\u2026\\\\\", \\\\\"lang\\\\\": \\\\\"en\\\\\", \\\\\"created_at\\\\\": \\\\\"Thu Mar 15 17:55:16 +0000 2018\\\\\", \\\\\"truncated\\\\\": false, \\\\\"retweeted\\\\\": false, \\\\\"in_reply_to_status_id_str\\\\\": null, \\\\\"user\\\\\": {\\\\\"location\\\\\": \\\\\"\\\\\", \\\\\"has_extended_profile\\\\\": true, \\\\\"translator_type\\\\\": \\\\\"regular\\\\\", \\\\\"name\\\\\": \\\\\"A. Palarino\\\\\", \\\\\"statuses_count\\\\\": 20527, \\\\\"lang\\\\\": \\\\\"en\\\\\", \\\\\"protected\\\\\": false, \\\\\"profile_text_color\\\\\": \\\\\"5E412F\\\\\", \\\\\"created_at\\\\\": \\\\\"Wed Oct 24 13:18:58 +0000 2012\\\\\", \\\\\"profile_background_tile\\\\\": true, \\\\\"profile_background_color\\\\\": \\\\\"CBFC08\\\\\", \\\\\"notifications\\\\\": null, \\\\\"verified\\\\\": false, \\\\\"profile_background_image_url_https\\\\\": \\\\\"https://pbs.twimg.com/profile_background_images/540304566105817088/ynKvX6jB.jpeg\\\\\", \\\\\"geo_enabled\\\\\": true, \\\\\"followers_count\\\\\": 990, \\\\\"is_translator\\\\\": false, \\\\\"description\\\\\": \\\\\"Anni, amori e bicchieri di vino sono cose che non si dovrebbero mai contare.\\\\\", \\\\\"profile_sidebar_fill_color\\\\\": \\\\\"78C0A8\\\\\", \\\\\"profile_sidebar_border_color\\\\\": \\\\\"FFFFFF\\\\\", \\\\\"profile_image_url\\\\\": \\\\\"http://pbs.twimg.com/profile_images/970123315405905920/aPayHnWV_normal.jpg\\\\\", \\\\\"friends_count\\\\\": 351, \\\\\"profile_image_url_https\\\\\": \\\\\"https://pbs.twimg.com/profile_images/970123315405905920/aPayHnWV_normal.jpg\\\\\", \\\\\"listed_count\\\\\": 2, \\\\\"time_zone\\\\\": \\\\\"Mid-Atlantic\\\\\", \\\\\"favourites_count\\\\\": 26357, \\\\\"profile_banner_url\\\\\": \\\\\"https://pbs.twimg.com/profile_banners/901804758/1517535424\\\\\", \\\\\"contributors_enabled\\\\\": false, \\\\\"default_profile\\\\\": false, \\\\\"following\\\\\": null, \\\\\"default_profile_image\\\\\": false, \\\\\"is_translation_enabled\\\\\": false, \\\\\"follow_request_sent\\\\\": null, \\\\\"utc_offset\\\\\": -7200, \\\\\"url\\\\\": null, \\\\\"id_str\\\\\": \\\\\"901804758\\\\\", \\\\\"profile_use_background_image\\\\\": true, \\\\\"screen_name\\\\\": \\\\\"AgusPalarino\\\\\", \\\\\"entities\\\\\": {\\\\\"description\\\\\": {\\\\\"urls\\\\\": []}}, \\\\\"profile_background_image_url\\\\\": \\\\\"http://pbs.twimg.com/profile_background_images/540304566105817088/ynKvX6jB.jpeg\\\\\", \\\\\"id\\\\\": 901804758, \\\\\"profile_link_color\\\\\": \\\\\"001111\\\\\"}, \\\\\"retweeted_status\\\\\": {\\\\\"favorite_count\\\\\": 130842, \\\\\"in_reply_to_screen_name\\\\\": null, \\\\\"is_quote_status\\\\\": false, \\\\\"retweet_count\\\\\": 41341, \\\\\"text\\\\\": \\\\\"depression: ...\\\\\\\\nme: ...\\\\\\\\ndepression: ...\\\\\\\\nme: ...\\\\\\\\ndepression: ...\\\\\\\\nme: ...\\\\\\\\ndepression: ...\\\\\\\\nme: ...\\\\\\\\ndepression: ...\\\\\\\\nme:\\\\\\\\u2026 https://t.co/tsVCrRS6qs\\\\\", \\\\\"lang\\\\\": \\\\\"en\\\\\", \\\\\"created_at\\\\\": \\\\\"Tue Mar 13 21:40:24 +0000 2018\\\\\", \\\\\"truncated\\\\\": true, \\\\\"retweeted\\\\\": false, \\\\\"in_reply_to_status_id_str\\\\\": null, \\\\\"user\\\\\": {\\\\\"location\\\\\": \\\\\"United States\\\\\", \\\\\"has_extended_profile\\\\\": true, \\\\\"translator_type\\\\\": \\\\\"none\\\\\", \\\\\"name\\\\\": \\\\\"gin.\\\\\", \\\\\"statuses_count\\\\\": 99929, \\\\\"lang\\\\\": \\\\\"en\\\\\", \\\\\"protected\\\\\": false, \\\\\"profile_text_color\\\\\": \\\\\"000000\\\\\", \\\\\"created_at\\\\\": \\\\\"Fri Jul 08 05:43:18 +0000 2016\\\\\", \\\\\"profile_background_tile\\\\\": false, \\\\\"profile_background_color\\\\\": \\\\\"000000\\\\\", \\\\\"notifications\\\\\": null, \\\\\"verified\\\\\": false, \\\\\"profile_background_image_url_https\\\\\": \\\\\"https://abs.twimg.com/images/themes/theme1/bg.png\\\\\", \\\\\"geo_enabled\\\\\": false, \\\\\"followers_count\\\\\": 4188, \\\\\"is_translator\\\\\": false, \\\\\"description\\\\\": \\\\\"Lapsed punk kid. Queer. Poet. Storyteller. she/her.\\\\\\\\n\\\\\\\\nI\\'ll hold that hope for you, if it\\'s too heavy a burden. I\\'m glad you\\'re here.\\\\\\\\n\\\\\\\\n#ShowUpForWishes\\\\\", \\\\\"profile_sidebar_fill_color\\\\\": \\\\\"000000\\\\\", \\\\\"profile_sidebar_border_color\\\\\": \\\\\"000000\\\\\", \\\\\"profile_image_url\\\\\": \\\\\"http://pbs.twimg.com/profile_images/964559910531821568/W6fJr9pS_normal.jpg\\\\\", \\\\\"friends_count\\\\\": 516, \\\\\"profile_image_url_https\\\\\": \\\\\"https://pbs.twimg.com/profile_images/964559910531821568/W6fJr9pS_normal.jpg\\\\\", \\\\\"listed_count\\\\\": 139, \\\\\"time_zone\\\\\": null, \\\\\"favourites_count\\\\\": 129559, \\\\\"profile_banner_url\\\\\": \\\\\"https://pbs.twimg.com/profile_banners/751290541707390976/1518322667\\\\\", \\\\\"contributors_enabled\\\\\": false, \\\\\"default_profile\\\\\": false, \\\\\"following\\\\\": null, \\\\\"default_profile_image\\\\\": false, \\\\\"is_translation_enabled\\\\\": false, \\\\\"follow_request_sent\\\\\": null, \\\\\"utc_offset\\\\\": null, \\\\\"url\\\\\": \\\\\"https://t.co/7CJ8u44xsY\\\\\", \\\\\"id_str\\\\\": \\\\\"751290541707390976\\\\\", \\\\\"profile_use_background_image\\\\\": false, \\\\\"screen_name\\\\\": \\\\\"showupforthis\\\\\", \\\\\"entities\\\\\": {\\\\\"url\\\\\": {\\\\\"urls\\\\\": [{\\\\\"display_url\\\\\": \\\\\"patreon.com/showupforthis\\\\\", \\\\\"indices\\\\\": [0, 23], \\\\\"url\\\\\": \\\\\"https://t.co/7CJ8u44xsY\\\\\", \\\\\"expanded_url\\\\\": \\\\\"https://www.patreon.com/showupforthis\\\\\"}]}, \\\\\"description\\\\\": {\\\\\"urls\\\\\": []}}, \\\\\"profile_background_image_url\\\\\": \\\\\"http://abs.twimg.com/images/themes/theme1/bg.png\\\\\", \\\\\"id\\\\\": 751290541707390976, \\\\\"profile_link_color\\\\\": \\\\\"5D041B\\\\\"}, \\\\\"in_reply_to_status_id\\\\\": null, \\\\\"coordinates\\\\\": null, \\\\\"in_reply_to_user_id_str\\\\\": null, \\\\\"contributors\\\\\": null, \\\\\"geo\\\\\": null, \\\\\"favorited\\\\\": false, \\\\\"source\\\\\": \\\\\"<a href=\\\\\\\\\\\\\"http://twitter.com/download/android\\\\\\\\\\\\\" rel=\\\\\\\\\\\\\"nofollow\\\\\\\\\\\\\">Twitter for Android</a>\\\\\", \\\\\"id_str\\\\\": \\\\\"973675167229489152\\\\\", \\\\\"in_reply_to_user_id\\\\\": null, \\\\\"entities\\\\\": {\\\\\"urls\\\\\": [{\\\\\"display_url\\\\\": \\\\\"twitter.com/i/web/status/9\\\\\\\\u2026\\\\\", \\\\\"indices\\\\\": [117, 140], \\\\\"url\\\\\": \\\\\"https://t.co/tsVCrRS6qs\\\\\", \\\\\"expanded_url\\\\\": \\\\\"https://twitter.com/i/web/status/973675167229489152\\\\\"}], \\\\\"user_mentions\\\\\": [], \\\\\"symbols\\\\\": [], \\\\\"hashtags\\\\\": []}, \\\\\"metadata\\\\\": {\\\\\"result_type\\\\\": \\\\\"recent\\\\\", \\\\\"iso_language_code\\\\\": \\\\\"en\\\\\"}, \\\\\"id\\\\\": 973675167229489152, \\\\\"place\\\\\": null}, \\\\\"in_reply_to_status_id\\\\\": null, \\\\\"coordinates\\\\\": null, \\\\\"in_reply_to_user_id_str\\\\\": null, \\\\\"contributors\\\\\": null, \\\\\"geo\\\\\": null, \\\\\"favorited\\\\\": false, \\\\\"source\\\\\": \\\\\"<a href=\\\\\\\\\\\\\"http://twitter.com/download/android\\\\\\\\\\\\\" rel=\\\\\\\\\\\\\"nofollow\\\\\\\\\\\\\">Twitter for Android</a>\\\\\", \\\\\"id_str\\\\\": \\\\\"974343285618696193\\\\\", \\\\\"in_reply_to_user_id\\\\\": null, \\\\\"entities\\\\\": {\\\\\"urls\\\\\": [], \\\\\"user_mentions\\\\\": [{\\\\\"id_str\\\\\": \\\\\"751290541707390976\\\\\", \\\\\"indices\\\\\": [3, 17], \\\\\"screen_name\\\\\": \\\\\"showupforthis\\\\\", \\\\\"id\\\\\": 751290541707390976, \\\\\"name\\\\\": \\\\\"gin.\\\\\"}], \\\\\"symbols\\\\\": [], \\\\\"hashtags\\\\\": []}, \\\\\"metadata\\\\\": {\\\\\"result_type\\\\\": \\\\\"recent\\\\\", \\\\\"iso_language_code\\\\\": \\\\\"en\\\\\"}, \\\\\"id\\\\\": 974343285618696193, \\\\\"place\\\\\": null}\\\\n\"'"
      ]
     },
     "execution_count": 13,
     "metadata": {},
     "output_type": "execute_result"
    }
   ],
   "source": [
    "data[5]"
   ]
  },
  {
   "cell_type": "code",
   "execution_count": 21,
   "metadata": {},
   "outputs": [
    {
     "name": "stdout",
     "output_type": "stream",
     "text": [
      "('{\"favorite_count\": 0, \"in_reply_to_screen_name\": null, \"is_quote_status\": '\n",
      " 'false, \"retweet_count\": 5861, \"text\": \"RT @Hannasuewilson: It\\\\u2019s '\n",
      " 'officially Perfect Girls in Bikinis All Over The Explore Page Season and I '\n",
      " 'will NOT COMPARE MY BODY TO THEIRS AND\\\\u2026\", \"lang\": \"en\", \"created_at\": '\n",
      " '\"Thu Mar 15 17:55:20 +0000 2018\", \"truncated\": false, \"retweeted\": false, '\n",
      " '\"in_reply_to_status_id_str\": null, \"user\": {\"location\": \"Tullahoma, TN\", '\n",
      " '\"has_extended_profile\": true, \"translator_type\": \"none\", \"name\": \"Laur\", '\n",
      " '\"statuses_count\": 1202, \"lang\": \"en\", \"protected\": false, '\n",
      " '\"profile_text_color\": \"333333\", \"created_at\": \"Fri Oct 21 14:28:40 +0000 '\n",
      " '2016\", \"profile_background_tile\": false, \"profile_background_color\": '\n",
      " '\"F5F8FA\", \"notifications\": null, \"verified\": false, '\n",
      " '\"profile_background_image_url_https\": null, \"geo_enabled\": true, '\n",
      " '\"followers_count\": 282, \"is_translator\": false, \"description\": \"\", '\n",
      " '\"profile_sidebar_fill_color\": \"DDEEF6\", \"profile_sidebar_border_color\": '\n",
      " '\"C0DEED\", \"profile_image_url\": '\n",
      " '\"http://pbs.twimg.com/profile_images/959195910881398784/iAlKitI4_normal.jpg\", '\n",
      " '\"friends_count\": 253, \"profile_image_url_https\": '\n",
      " '\"https://pbs.twimg.com/profile_images/959195910881398784/iAlKitI4_normal.jpg\", '\n",
      " '\"listed_count\": 1, \"time_zone\": null, \"favourites_count\": 5083, '\n",
      " '\"profile_banner_url\": '\n",
      " '\"https://pbs.twimg.com/profile_banners/789473479557017600/1517255335\", '\n",
      " '\"contributors_enabled\": false, \"default_profile\": true, \"following\": null, '\n",
      " '\"default_profile_image\": false, \"is_translation_enabled\": false, '\n",
      " '\"follow_request_sent\": null, \"utc_offset\": null, \"url\": null, \"id_str\": '\n",
      " '\"789473479557017600\", \"profile_use_background_image\": true, \"screen_name\": '\n",
      " '\"lauren__court\", \"entities\": {\"description\": {\"urls\": []}}, '\n",
      " '\"profile_background_image_url\": null, \"id\": 789473479557017600, '\n",
      " '\"profile_link_color\": \"1DA1F2\"}, \"retweeted_status\": {\"favorite_count\": '\n",
      " '35122, \"in_reply_to_screen_name\": null, \"is_quote_status\": false, '\n",
      " '\"retweet_count\": 5861, \"text\": \"It\\\\u2019s officially Perfect Girls in '\n",
      " 'Bikinis All Over The Explore Page Season and I will NOT COMPARE MY BODY TO '\n",
      " 'THEIRS\\\\u2026 https://t.co/zliONTq43T\", \"lang\": \"en\", \"created_at\": \"Wed Mar '\n",
      " '14 06:39:01 +0000 2018\", \"truncated\": true, \"retweeted\": false, '\n",
      " '\"in_reply_to_status_id_str\": null, \"user\": {\"location\": \"Dallas tx\", '\n",
      " '\"has_extended_profile\": true, \"translator_type\": \"none\", \"name\": \"Living '\n",
      " 'Loved\", \"statuses_count\": 16866, \"lang\": \"en\", \"protected\": false, '\n",
      " '\"profile_text_color\": \"333333\", \"created_at\": \"Sat Mar 16 12:58:01 +0000 '\n",
      " '2013\", \"profile_background_tile\": false, \"profile_background_color\": '\n",
      " '\"C0DEED\", \"notifications\": null, \"verified\": false, '\n",
      " '\"profile_background_image_url_https\": '\n",
      " '\"https://abs.twimg.com/images/themes/theme1/bg.png\", \"geo_enabled\": true, '\n",
      " '\"followers_count\": 25705, \"is_translator\": false, \"description\": \"DBU ZX '\n",
      " '\\\\u2022writin \\\\u2022journalin \\\\u2022laughin \\\\u2022flower pickin '\n",
      " '\\\\u2022bell bottoms wearin \\\\u2022crazy worshipin \\\\u2022silly dancin INSTA: '\n",
      " 'spinning_while_my_hans_up !!!!ISAIAH43:19!!!\", \"profile_sidebar_fill_color\": '\n",
      " '\"DDEEF6\", \"profile_sidebar_border_color\": \"C0DEED\", \"profile_image_url\": '\n",
      " '\"http://pbs.twimg.com/profile_images/973350924931526656/k2M2YbdY_normal.jpg\", '\n",
      " '\"friends_count\": 306, \"profile_image_url_https\": '\n",
      " '\"https://pbs.twimg.com/profile_images/973350924931526656/k2M2YbdY_normal.jpg\", '\n",
      " '\"listed_count\": 75, \"time_zone\": \"Eastern Time (US & Canada)\", '\n",
      " '\"favourites_count\": 55858, \"profile_banner_url\": '\n",
      " '\"https://pbs.twimg.com/profile_banners/1272273181/1516504099\", '\n",
      " '\"contributors_enabled\": false, \"default_profile\": true, \"following\": null, '\n",
      " '\"default_profile_image\": false, \"is_translation_enabled\": false, '\n",
      " '\"follow_request_sent\": null, \"utc_offset\": -14400, \"url\": '\n",
      " '\"https://t.co/81If95GxrN\", \"id_str\": \"1272273181\", '\n",
      " '\"profile_use_background_image\": true, \"screen_name\": \"Hannasuewilson\", '\n",
      " '\"entities\": {\"url\": {\"urls\": [{\"display_url\": \"gofundme.com/56x1s48\", '\n",
      " '\"indices\": [0, 23], \"url\": \"https://t.co/81If95GxrN\", \"expanded_url\": '\n",
      " '\"https://www.gofundme.com/56x1s48\"}]}, \"description\": {\"urls\": []}}, '\n",
      " '\"profile_background_image_url\": '\n",
      " '\"http://abs.twimg.com/images/themes/theme1/bg.png\", \"id\": 1272273181, '\n",
      " '\"profile_link_color\": \"1DA1F2\"}, \"in_reply_to_status_id\": null, '\n",
      " '\"coordinates\": null, \"in_reply_to_user_id_str\": null, \"contributors\": null, '\n",
      " '\"geo\": null, \"favorited\": false, \"source\": \"<a '\n",
      " 'href=\\\\\"http://twitter.com/download/iphone\\\\\" rel=\\\\\"nofollow\\\\\">Twitter for '\n",
      " 'iPhone</a>\", \"id_str\": \"973810713079812099\", \"in_reply_to_user_id\": null, '\n",
      " '\"entities\": {\"urls\": [{\"display_url\": \"twitter.com/i/web/status/9\\\\u2026\", '\n",
      " '\"indices\": [116, 139], \"url\": \"https://t.co/zliONTq43T\", \"expanded_url\": '\n",
      " '\"https://twitter.com/i/web/status/973810713079812099\"}], \"user_mentions\": '\n",
      " '[], \"symbols\": [], \"hashtags\": []}, \"metadata\": {\"result_type\": \"recent\", '\n",
      " '\"iso_language_code\": \"en\"}, \"id\": 973810713079812099, \"place\": null}, '\n",
      " '\"in_reply_to_status_id\": null, \"coordinates\": null, '\n",
      " '\"in_reply_to_user_id_str\": null, \"contributors\": null, \"geo\": null, '\n",
      " '\"favorited\": false, \"source\": \"<a '\n",
      " 'href=\\\\\"http://twitter.com/download/iphone\\\\\" rel=\\\\\"nofollow\\\\\">Twitter for '\n",
      " 'iPhone</a>\", \"id_str\": \"974343304837042178\", \"in_reply_to_user_id\": null, '\n",
      " '\"entities\": {\"urls\": [], \"user_mentions\": [{\"id_str\": \"1272273181\", '\n",
      " '\"indices\": [3, 18], \"screen_name\": \"Hannasuewilson\", \"id\": 1272273181, '\n",
      " '\"name\": \"Living Loved\"}], \"symbols\": [], \"hashtags\": []}, \"metadata\": '\n",
      " '{\"result_type\": \"recent\", \"iso_language_code\": \"en\"}, \"id\": '\n",
      " '974343304837042178, \"place\": null}\\n')\n"
     ]
    }
   ],
   "source": [
    "import pprint\n",
    "\n",
    "pprint.pprint(json.loads((data[0])))"
   ]
  },
  {
   "cell_type": "code",
   "execution_count": 27,
   "metadata": {},
   "outputs": [
    {
     "name": "stdout",
     "output_type": "stream",
     "text": [
      "('{\"favorite_count\": 0, \"in_reply_to_screen_name\": null, \"is_quote_status\": '\n",
      " 'false, \"retweet_count\": 5861, \"text\": \"RT @Hannasuewilson: It\\\\u2019s '\n",
      " 'officially Perfect Girls in Bikinis All Over The Explore Page Season and I '\n",
      " 'will NOT COMPARE MY BODY TO THEIRS AND\\\\u2026\", \"lang\": \"en\", \"created_at\": '\n",
      " '\"Thu Mar 15 17:55:20 +0000 2018\", \"truncated\": false, \"retweeted\": false, '\n",
      " '\"in_reply_to_status_id_str\": null, \"user\": {\"location\": \"Tullahoma, TN\", '\n",
      " '\"has_extended_profile\": true, \"translator_type\": \"none\", \"name\": \"Laur\", '\n",
      " '\"statuses_count\": 1202, \"lang\": \"en\", \"protected\": false, '\n",
      " '\"profile_text_color\": \"333333\", \"created_at\": \"Fri Oct 21 14:28:40 +0000 '\n",
      " '2016\", \"profile_background_tile\": false, \"profile_background_color\": '\n",
      " '\"F5F8FA\", \"notifications\": null, \"verified\": false, '\n",
      " '\"profile_background_image_url_https\": null, \"geo_enabled\": true, '\n",
      " '\"followers_count\": 282, \"is_translator\": false, \"description\": \"\", '\n",
      " '\"profile_sidebar_fill_color\": \"DDEEF6\", \"profile_sidebar_border_color\": '\n",
      " '\"C0DEED\", \"profile_image_url\": '\n",
      " '\"http://pbs.twimg.com/profile_images/959195910881398784/iAlKitI4_normal.jpg\", '\n",
      " '\"friends_count\": 253, \"profile_image_url_https\": '\n",
      " '\"https://pbs.twimg.com/profile_images/959195910881398784/iAlKitI4_normal.jpg\", '\n",
      " '\"listed_count\": 1, \"time_zone\": null, \"favourites_count\": 5083, '\n",
      " '\"profile_banner_url\": '\n",
      " '\"https://pbs.twimg.com/profile_banners/789473479557017600/1517255335\", '\n",
      " '\"contributors_enabled\": false, \"default_profile\": true, \"following\": null, '\n",
      " '\"default_profile_image\": false, \"is_translation_enabled\": false, '\n",
      " '\"follow_request_sent\": null, \"utc_offset\": null, \"url\": null, \"id_str\": '\n",
      " '\"789473479557017600\", \"profile_use_background_image\": true, \"screen_name\": '\n",
      " '\"lauren__court\", \"entities\": {\"description\": {\"urls\": []}}, '\n",
      " '\"profile_background_image_url\": null, \"id\": 789473479557017600, '\n",
      " '\"profile_link_color\": \"1DA1F2\"}, \"retweeted_status\": {\"favorite_count\": '\n",
      " '35122, \"in_reply_to_screen_name\": null, \"is_quote_status\": false, '\n",
      " '\"retweet_count\": 5861, \"text\": \"It\\\\u2019s officially Perfect Girls in '\n",
      " 'Bikinis All Over The Explore Page Season and I will NOT COMPARE MY BODY TO '\n",
      " 'THEIRS\\\\u2026 https://t.co/zliONTq43T\", \"lang\": \"en\", \"created_at\": \"Wed Mar '\n",
      " '14 06:39:01 +0000 2018\", \"truncated\": true, \"retweeted\": false, '\n",
      " '\"in_reply_to_status_id_str\": null, \"user\": {\"location\": \"Dallas tx\", '\n",
      " '\"has_extended_profile\": true, \"translator_type\": \"none\", \"name\": \"Living '\n",
      " 'Loved\", \"statuses_count\": 16866, \"lang\": \"en\", \"protected\": false, '\n",
      " '\"profile_text_color\": \"333333\", \"created_at\": \"Sat Mar 16 12:58:01 +0000 '\n",
      " '2013\", \"profile_background_tile\": false, \"profile_background_color\": '\n",
      " '\"C0DEED\", \"notifications\": null, \"verified\": false, '\n",
      " '\"profile_background_image_url_https\": '\n",
      " '\"https://abs.twimg.com/images/themes/theme1/bg.png\", \"geo_enabled\": true, '\n",
      " '\"followers_count\": 25705, \"is_translator\": false, \"description\": \"DBU ZX '\n",
      " '\\\\u2022writin \\\\u2022journalin \\\\u2022laughin \\\\u2022flower pickin '\n",
      " '\\\\u2022bell bottoms wearin \\\\u2022crazy worshipin \\\\u2022silly dancin INSTA: '\n",
      " 'spinning_while_my_hans_up !!!!ISAIAH43:19!!!\", \"profile_sidebar_fill_color\": '\n",
      " '\"DDEEF6\", \"profile_sidebar_border_color\": \"C0DEED\", \"profile_image_url\": '\n",
      " '\"http://pbs.twimg.com/profile_images/973350924931526656/k2M2YbdY_normal.jpg\", '\n",
      " '\"friends_count\": 306, \"profile_image_url_https\": '\n",
      " '\"https://pbs.twimg.com/profile_images/973350924931526656/k2M2YbdY_normal.jpg\", '\n",
      " '\"listed_count\": 75, \"time_zone\": \"Eastern Time (US & Canada)\", '\n",
      " '\"favourites_count\": 55858, \"profile_banner_url\": '\n",
      " '\"https://pbs.twimg.com/profile_banners/1272273181/1516504099\", '\n",
      " '\"contributors_enabled\": false, \"default_profile\": true, \"following\": null, '\n",
      " '\"default_profile_image\": false, \"is_translation_enabled\": false, '\n",
      " '\"follow_request_sent\": null, \"utc_offset\": -14400, \"url\": '\n",
      " '\"https://t.co/81If95GxrN\", \"id_str\": \"1272273181\", '\n",
      " '\"profile_use_background_image\": true, \"screen_name\": \"Hannasuewilson\", '\n",
      " '\"entities\": {\"url\": {\"urls\": [{\"display_url\": \"gofundme.com/56x1s48\", '\n",
      " '\"indices\": [0, 23], \"url\": \"https://t.co/81If95GxrN\", \"expanded_url\": '\n",
      " '\"https://www.gofundme.com/56x1s48\"}]}, \"description\": {\"urls\": []}}, '\n",
      " '\"profile_background_image_url\": '\n",
      " '\"http://abs.twimg.com/images/themes/theme1/bg.png\", \"id\": 1272273181, '\n",
      " '\"profile_link_color\": \"1DA1F2\"}, \"in_reply_to_status_id\": null, '\n",
      " '\"coordinates\": null, \"in_reply_to_user_id_str\": null, \"contributors\": null, '\n",
      " '\"geo\": null, \"favorited\": false, \"source\": \"<a '\n",
      " 'href=\\\\\"http://twitter.com/download/iphone\\\\\" rel=\\\\\"nofollow\\\\\">Twitter for '\n",
      " 'iPhone</a>\", \"id_str\": \"973810713079812099\", \"in_reply_to_user_id\": null, '\n",
      " '\"entities\": {\"urls\": [{\"display_url\": \"twitter.com/i/web/status/9\\\\u2026\", '\n",
      " '\"indices\": [116, 139], \"url\": \"https://t.co/zliONTq43T\", \"expanded_url\": '\n",
      " '\"https://twitter.com/i/web/status/973810713079812099\"}], \"user_mentions\": '\n",
      " '[], \"symbols\": [], \"hashtags\": []}, \"metadata\": {\"result_type\": \"recent\", '\n",
      " '\"iso_language_code\": \"en\"}, \"id\": 973810713079812099, \"place\": null}, '\n",
      " '\"in_reply_to_status_id\": null, \"coordinates\": null, '\n",
      " '\"in_reply_to_user_id_str\": null, \"contributors\": null, \"geo\": null, '\n",
      " '\"favorited\": false, \"source\": \"<a '\n",
      " 'href=\\\\\"http://twitter.com/download/iphone\\\\\" rel=\\\\\"nofollow\\\\\">Twitter for '\n",
      " 'iPhone</a>\", \"id_str\": \"974343304837042178\", \"in_reply_to_user_id\": null, '\n",
      " '\"entities\": {\"urls\": [], \"user_mentions\": [{\"id_str\": \"1272273181\", '\n",
      " '\"indices\": [3, 18], \"screen_name\": \"Hannasuewilson\", \"id\": 1272273181, '\n",
      " '\"name\": \"Living Loved\"}], \"symbols\": [], \"hashtags\": []}, \"metadata\": '\n",
      " '{\"result_type\": \"recent\", \"iso_language_code\": \"en\"}, \"id\": '\n",
      " '974343304837042178, \"place\": null}\\n')\n"
     ]
    }
   ],
   "source": [
    "pprint.pprint((json.loads((data[0]))))"
   ]
  },
  {
   "cell_type": "code",
   "execution_count": 34,
   "metadata": {},
   "outputs": [
    {
     "data": {
      "text/plain": [
       "str"
      ]
     },
     "execution_count": 34,
     "metadata": {},
     "output_type": "execute_result"
    }
   ],
   "source": [
    "type(data[0])"
   ]
  },
  {
   "cell_type": "code",
   "execution_count": 35,
   "metadata": {},
   "outputs": [
    {
     "ename": "ValueError",
     "evalue": "dictionary update sequence element #0 has length 1; 2 is required",
     "output_type": "error",
     "traceback": [
      "\u001b[0;31m---------------------------------------------------------------------------\u001b[0m",
      "\u001b[0;31mValueError\u001b[0m                                Traceback (most recent call last)",
      "\u001b[0;32m<ipython-input-35-9e17e65a0f61>\u001b[0m in \u001b[0;36m<module>\u001b[0;34m()\u001b[0m\n\u001b[0;32m----> 1\u001b[0;31m \u001b[0mdict\u001b[0m\u001b[0;34m(\u001b[0m\u001b[0mdata\u001b[0m\u001b[0;34m[\u001b[0m\u001b[0;36m0\u001b[0m\u001b[0;34m]\u001b[0m\u001b[0;34m)\u001b[0m\u001b[0;34m\u001b[0m\u001b[0m\n\u001b[0m",
      "\u001b[0;31mValueError\u001b[0m: dictionary update sequence element #0 has length 1; 2 is required"
     ]
    }
   ],
   "source": [
    "dict(data[0])"
   ]
  },
  {
   "cell_type": "code",
   "execution_count": 39,
   "metadata": {},
   "outputs": [],
   "source": [
    "json1_data = json.loads(data[0])[0]"
   ]
  },
  {
   "cell_type": "code",
   "execution_count": 40,
   "metadata": {},
   "outputs": [
    {
     "ename": "TypeError",
     "evalue": "string indices must be integers",
     "output_type": "error",
     "traceback": [
      "\u001b[0;31m---------------------------------------------------------------------------\u001b[0m",
      "\u001b[0;31mTypeError\u001b[0m                                 Traceback (most recent call last)",
      "\u001b[0;32m<ipython-input-40-e9f3a95c9ab9>\u001b[0m in \u001b[0;36m<module>\u001b[0;34m()\u001b[0m\n\u001b[0;32m----> 1\u001b[0;31m \u001b[0mdatapoints\u001b[0m \u001b[0;34m=\u001b[0m \u001b[0mjson1_data\u001b[0m\u001b[0;34m[\u001b[0m\u001b[0;34m'datapoints'\u001b[0m\u001b[0;34m]\u001b[0m\u001b[0;34m\u001b[0m\u001b[0m\n\u001b[0m",
      "\u001b[0;31mTypeError\u001b[0m: string indices must be integers"
     ]
    }
   ],
   "source": [
    "datapoints = json1_data['datapoints']"
   ]
  },
  {
   "cell_type": "code",
   "execution_count": 46,
   "metadata": {},
   "outputs": [
    {
     "ename": "AttributeError",
     "evalue": "'list' object has no attribute 'read'",
     "output_type": "error",
     "traceback": [
      "\u001b[0;31m---------------------------------------------------------------------------\u001b[0m",
      "\u001b[0;31mAttributeError\u001b[0m                            Traceback (most recent call last)",
      "\u001b[0;32m<ipython-input-46-767c86c8963e>\u001b[0m in \u001b[0;36m<module>\u001b[0;34m()\u001b[0m\n\u001b[0;32m----> 1\u001b[0;31m \u001b[0mjson\u001b[0m\u001b[0;34m.\u001b[0m\u001b[0mload\u001b[0m\u001b[0;34m(\u001b[0m\u001b[0;34m[\u001b[0m\u001b[0mdata\u001b[0m\u001b[0;34m[\u001b[0m\u001b[0;36m0\u001b[0m\u001b[0;34m]\u001b[0m\u001b[0;34m]\u001b[0m\u001b[0;34m)\u001b[0m\u001b[0;34m\u001b[0m\u001b[0m\n\u001b[0m",
      "\u001b[0;32m/usr/lib/python3.5/json/__init__.py\u001b[0m in \u001b[0;36mload\u001b[0;34m(fp, cls, object_hook, parse_float, parse_int, parse_constant, object_pairs_hook, **kw)\u001b[0m\n\u001b[1;32m    263\u001b[0m \u001b[0;34m\u001b[0m\u001b[0m\n\u001b[1;32m    264\u001b[0m     \"\"\"\n\u001b[0;32m--> 265\u001b[0;31m     return loads(fp.read(),\n\u001b[0m\u001b[1;32m    266\u001b[0m         \u001b[0mcls\u001b[0m\u001b[0;34m=\u001b[0m\u001b[0mcls\u001b[0m\u001b[0;34m,\u001b[0m \u001b[0mobject_hook\u001b[0m\u001b[0;34m=\u001b[0m\u001b[0mobject_hook\u001b[0m\u001b[0;34m,\u001b[0m\u001b[0;34m\u001b[0m\u001b[0m\n\u001b[1;32m    267\u001b[0m         \u001b[0mparse_float\u001b[0m\u001b[0;34m=\u001b[0m\u001b[0mparse_float\u001b[0m\u001b[0;34m,\u001b[0m \u001b[0mparse_int\u001b[0m\u001b[0;34m=\u001b[0m\u001b[0mparse_int\u001b[0m\u001b[0;34m,\u001b[0m\u001b[0;34m\u001b[0m\u001b[0m\n",
      "\u001b[0;31mAttributeError\u001b[0m: 'list' object has no attribute 'read'"
     ]
    }
   ],
   "source": [
    "json.load([data[0]])"
   ]
  },
  {
   "cell_type": "code",
   "execution_count": 49,
   "metadata": {},
   "outputs": [
    {
     "name": "stdout",
     "output_type": "stream",
     "text": [
      "('\"{\\\\\"favorite_count\\\\\": 0, \\\\\"in_reply_to_screen_name\\\\\": null, '\n",
      " '\\\\\"is_quote_status\\\\\": false, \\\\\"retweet_count\\\\\": 5861, \\\\\"text\\\\\": \\\\\"RT '\n",
      " '@Hannasuewilson: It\\\\\\\\u2019s officially Perfect Girls in Bikinis All Over '\n",
      " 'The Explore Page Season and I will NOT COMPARE MY BODY TO THEIRS '\n",
      " 'AND\\\\\\\\u2026\\\\\", \\\\\"lang\\\\\": \\\\\"en\\\\\", \\\\\"created_at\\\\\": \\\\\"Thu Mar 15 '\n",
      " '17:55:20 +0000 2018\\\\\", \\\\\"truncated\\\\\": false, \\\\\"retweeted\\\\\": false, '\n",
      " '\\\\\"in_reply_to_status_id_str\\\\\": null, \\\\\"user\\\\\": {\\\\\"location\\\\\": '\n",
      " '\\\\\"Tullahoma, TN\\\\\", \\\\\"has_extended_profile\\\\\": true, '\n",
      " '\\\\\"translator_type\\\\\": \\\\\"none\\\\\", \\\\\"name\\\\\": \\\\\"Laur\\\\\", '\n",
      " '\\\\\"statuses_count\\\\\": 1202, \\\\\"lang\\\\\": \\\\\"en\\\\\", \\\\\"protected\\\\\": false, '\n",
      " '\\\\\"profile_text_color\\\\\": \\\\\"333333\\\\\", \\\\\"created_at\\\\\": \\\\\"Fri Oct 21 '\n",
      " '14:28:40 +0000 2016\\\\\", \\\\\"profile_background_tile\\\\\": false, '\n",
      " '\\\\\"profile_background_color\\\\\": \\\\\"F5F8FA\\\\\", \\\\\"notifications\\\\\": null, '\n",
      " '\\\\\"verified\\\\\": false, \\\\\"profile_background_image_url_https\\\\\": null, '\n",
      " '\\\\\"geo_enabled\\\\\": true, \\\\\"followers_count\\\\\": 282, \\\\\"is_translator\\\\\": '\n",
      " 'false, \\\\\"description\\\\\": \\\\\"\\\\\", \\\\\"profile_sidebar_fill_color\\\\\": '\n",
      " '\\\\\"DDEEF6\\\\\", \\\\\"profile_sidebar_border_color\\\\\": \\\\\"C0DEED\\\\\", '\n",
      " '\\\\\"profile_image_url\\\\\": '\n",
      " '\\\\\"http://pbs.twimg.com/profile_images/959195910881398784/iAlKitI4_normal.jpg\\\\\", '\n",
      " '\\\\\"friends_count\\\\\": 253, \\\\\"profile_image_url_https\\\\\": '\n",
      " '\\\\\"https://pbs.twimg.com/profile_images/959195910881398784/iAlKitI4_normal.jpg\\\\\", '\n",
      " '\\\\\"listed_count\\\\\": 1, \\\\\"time_zone\\\\\": null, \\\\\"favourites_count\\\\\": 5083, '\n",
      " '\\\\\"profile_banner_url\\\\\": '\n",
      " '\\\\\"https://pbs.twimg.com/profile_banners/789473479557017600/1517255335\\\\\", '\n",
      " '\\\\\"contributors_enabled\\\\\": false, \\\\\"default_profile\\\\\": true, '\n",
      " '\\\\\"following\\\\\": null, \\\\\"default_profile_image\\\\\": false, '\n",
      " '\\\\\"is_translation_enabled\\\\\": false, \\\\\"follow_request_sent\\\\\": null, '\n",
      " '\\\\\"utc_offset\\\\\": null, \\\\\"url\\\\\": null, \\\\\"id_str\\\\\": '\n",
      " '\\\\\"789473479557017600\\\\\", \\\\\"profile_use_background_image\\\\\": true, '\n",
      " '\\\\\"screen_name\\\\\": \\\\\"lauren__court\\\\\", \\\\\"entities\\\\\": {\\\\\"description\\\\\": '\n",
      " '{\\\\\"urls\\\\\": []}}, \\\\\"profile_background_image_url\\\\\": null, \\\\\"id\\\\\": '\n",
      " '789473479557017600, \\\\\"profile_link_color\\\\\": \\\\\"1DA1F2\\\\\"}, '\n",
      " '\\\\\"retweeted_status\\\\\": {\\\\\"favorite_count\\\\\": 35122, '\n",
      " '\\\\\"in_reply_to_screen_name\\\\\": null, \\\\\"is_quote_status\\\\\": false, '\n",
      " '\\\\\"retweet_count\\\\\": 5861, \\\\\"text\\\\\": \\\\\"It\\\\\\\\u2019s officially Perfect '\n",
      " 'Girls in Bikinis All Over The Explore Page Season and I will NOT COMPARE MY '\n",
      " 'BODY TO THEIRS\\\\\\\\u2026 https://t.co/zliONTq43T\\\\\", \\\\\"lang\\\\\": \\\\\"en\\\\\", '\n",
      " '\\\\\"created_at\\\\\": \\\\\"Wed Mar 14 06:39:01 +0000 2018\\\\\", \\\\\"truncated\\\\\": '\n",
      " 'true, \\\\\"retweeted\\\\\": false, \\\\\"in_reply_to_status_id_str\\\\\": null, '\n",
      " '\\\\\"user\\\\\": {\\\\\"location\\\\\": \\\\\"Dallas tx\\\\\", \\\\\"has_extended_profile\\\\\": '\n",
      " 'true, \\\\\"translator_type\\\\\": \\\\\"none\\\\\", \\\\\"name\\\\\": \\\\\"Living Loved\\\\\", '\n",
      " '\\\\\"statuses_count\\\\\": 16866, \\\\\"lang\\\\\": \\\\\"en\\\\\", \\\\\"protected\\\\\": false, '\n",
      " '\\\\\"profile_text_color\\\\\": \\\\\"333333\\\\\", \\\\\"created_at\\\\\": \\\\\"Sat Mar 16 '\n",
      " '12:58:01 +0000 2013\\\\\", \\\\\"profile_background_tile\\\\\": false, '\n",
      " '\\\\\"profile_background_color\\\\\": \\\\\"C0DEED\\\\\", \\\\\"notifications\\\\\": null, '\n",
      " '\\\\\"verified\\\\\": false, \\\\\"profile_background_image_url_https\\\\\": '\n",
      " '\\\\\"https://abs.twimg.com/images/themes/theme1/bg.png\\\\\", \\\\\"geo_enabled\\\\\": '\n",
      " 'true, \\\\\"followers_count\\\\\": 25705, \\\\\"is_translator\\\\\": false, '\n",
      " '\\\\\"description\\\\\": \\\\\"DBU ZX \\\\\\\\u2022writin \\\\\\\\u2022journalin '\n",
      " '\\\\\\\\u2022laughin \\\\\\\\u2022flower pickin \\\\\\\\u2022bell bottoms wearin '\n",
      " '\\\\\\\\u2022crazy worshipin \\\\\\\\u2022silly dancin INSTA: '\n",
      " 'spinning_while_my_hans_up !!!!ISAIAH43:19!!!\\\\\", '\n",
      " '\\\\\"profile_sidebar_fill_color\\\\\": \\\\\"DDEEF6\\\\\", '\n",
      " '\\\\\"profile_sidebar_border_color\\\\\": \\\\\"C0DEED\\\\\", \\\\\"profile_image_url\\\\\": '\n",
      " '\\\\\"http://pbs.twimg.com/profile_images/973350924931526656/k2M2YbdY_normal.jpg\\\\\", '\n",
      " '\\\\\"friends_count\\\\\": 306, \\\\\"profile_image_url_https\\\\\": '\n",
      " '\\\\\"https://pbs.twimg.com/profile_images/973350924931526656/k2M2YbdY_normal.jpg\\\\\", '\n",
      " '\\\\\"listed_count\\\\\": 75, \\\\\"time_zone\\\\\": \\\\\"Eastern Time (US & Canada)\\\\\", '\n",
      " '\\\\\"favourites_count\\\\\": 55858, \\\\\"profile_banner_url\\\\\": '\n",
      " '\\\\\"https://pbs.twimg.com/profile_banners/1272273181/1516504099\\\\\", '\n",
      " '\\\\\"contributors_enabled\\\\\": false, \\\\\"default_profile\\\\\": true, '\n",
      " '\\\\\"following\\\\\": null, \\\\\"default_profile_image\\\\\": false, '\n",
      " '\\\\\"is_translation_enabled\\\\\": false, \\\\\"follow_request_sent\\\\\": null, '\n",
      " '\\\\\"utc_offset\\\\\": -14400, \\\\\"url\\\\\": \\\\\"https://t.co/81If95GxrN\\\\\", '\n",
      " '\\\\\"id_str\\\\\": \\\\\"1272273181\\\\\", \\\\\"profile_use_background_image\\\\\": true, '\n",
      " '\\\\\"screen_name\\\\\": \\\\\"Hannasuewilson\\\\\", \\\\\"entities\\\\\": {\\\\\"url\\\\\": '\n",
      " '{\\\\\"urls\\\\\": [{\\\\\"display_url\\\\\": \\\\\"gofundme.com/56x1s48\\\\\", \\\\\"indices\\\\\": '\n",
      " '[0, 23], \\\\\"url\\\\\": \\\\\"https://t.co/81If95GxrN\\\\\", \\\\\"expanded_url\\\\\": '\n",
      " '\\\\\"https://www.gofundme.com/56x1s48\\\\\"}]}, \\\\\"description\\\\\": {\\\\\"urls\\\\\": '\n",
      " '[]}}, \\\\\"profile_background_image_url\\\\\": '\n",
      " '\\\\\"http://abs.twimg.com/images/themes/theme1/bg.png\\\\\", \\\\\"id\\\\\": '\n",
      " '1272273181, \\\\\"profile_link_color\\\\\": \\\\\"1DA1F2\\\\\"}, '\n",
      " '\\\\\"in_reply_to_status_id\\\\\": null, \\\\\"coordinates\\\\\": null, '\n",
      " '\\\\\"in_reply_to_user_id_str\\\\\": null, \\\\\"contributors\\\\\": null, \\\\\"geo\\\\\": '\n",
      " 'null, \\\\\"favorited\\\\\": false, \\\\\"source\\\\\": \\\\\"<a '\n",
      " 'href=\\\\\\\\\\\\\"http://twitter.com/download/iphone\\\\\\\\\\\\\" '\n",
      " 'rel=\\\\\\\\\\\\\"nofollow\\\\\\\\\\\\\">Twitter for iPhone</a>\\\\\", \\\\\"id_str\\\\\": '\n",
      " '\\\\\"973810713079812099\\\\\", \\\\\"in_reply_to_user_id\\\\\": null, \\\\\"entities\\\\\": '\n",
      " '{\\\\\"urls\\\\\": [{\\\\\"display_url\\\\\": \\\\\"twitter.com/i/web/status/9\\\\\\\\u2026\\\\\", '\n",
      " '\\\\\"indices\\\\\": [116, 139], \\\\\"url\\\\\": \\\\\"https://t.co/zliONTq43T\\\\\", '\n",
      " '\\\\\"expanded_url\\\\\": '\n",
      " '\\\\\"https://twitter.com/i/web/status/973810713079812099\\\\\"}], '\n",
      " '\\\\\"user_mentions\\\\\": [], \\\\\"symbols\\\\\": [], \\\\\"hashtags\\\\\": []}, '\n",
      " '\\\\\"metadata\\\\\": {\\\\\"result_type\\\\\": \\\\\"recent\\\\\", \\\\\"iso_language_code\\\\\": '\n",
      " '\\\\\"en\\\\\"}, \\\\\"id\\\\\": 973810713079812099, \\\\\"place\\\\\": null}, '\n",
      " '\\\\\"in_reply_to_status_id\\\\\": null, \\\\\"coordinates\\\\\": null, '\n",
      " '\\\\\"in_reply_to_user_id_str\\\\\": null, \\\\\"contributors\\\\\": null, \\\\\"geo\\\\\": '\n",
      " 'null, \\\\\"favorited\\\\\": false, \\\\\"source\\\\\": \\\\\"<a '\n",
      " 'href=\\\\\\\\\\\\\"http://twitter.com/download/iphone\\\\\\\\\\\\\" '\n",
      " 'rel=\\\\\\\\\\\\\"nofollow\\\\\\\\\\\\\">Twitter for iPhone</a>\\\\\", \\\\\"id_str\\\\\": '\n",
      " '\\\\\"974343304837042178\\\\\", \\\\\"in_reply_to_user_id\\\\\": null, \\\\\"entities\\\\\": '\n",
      " '{\\\\\"urls\\\\\": [], \\\\\"user_mentions\\\\\": [{\\\\\"id_str\\\\\": \\\\\"1272273181\\\\\", '\n",
      " '\\\\\"indices\\\\\": [3, 18], \\\\\"screen_name\\\\\": \\\\\"Hannasuewilson\\\\\", \\\\\"id\\\\\": '\n",
      " '1272273181, \\\\\"name\\\\\": \\\\\"Living Loved\\\\\"}], \\\\\"symbols\\\\\": [], '\n",
      " '\\\\\"hashtags\\\\\": []}, \\\\\"metadata\\\\\": {\\\\\"result_type\\\\\": \\\\\"recent\\\\\", '\n",
      " '\\\\\"iso_language_code\\\\\": \\\\\"en\\\\\"}, \\\\\"id\\\\\": 974343304837042178, '\n",
      " '\\\\\"place\\\\\": null}\\\\n\"')\n"
     ]
    }
   ],
   "source": [
    "pprint.pprint(data[0])"
   ]
  },
  {
   "cell_type": "code",
   "execution_count": 50,
   "metadata": {},
   "outputs": [
    {
     "data": {
      "text/plain": [
       "5865"
      ]
     },
     "execution_count": 50,
     "metadata": {},
     "output_type": "execute_result"
    }
   ],
   "source": [
    "len(data[0])"
   ]
  },
  {
   "cell_type": "code",
   "execution_count": 51,
   "metadata": {},
   "outputs": [],
   "source": [
    "test_1 = []\n",
    "\n",
    "for line in open('depression_1.json', 'r'):\n",
    "    test_1.append((line)) "
   ]
  },
  {
   "cell_type": "code",
   "execution_count": 53,
   "metadata": {},
   "outputs": [
    {
     "name": "stdout",
     "output_type": "stream",
     "text": [
      "('{\"favorite_count\": 0, \"in_reply_to_screen_name\": null, \"is_quote_status\": '\n",
      " 'false, \"retweet_count\": 5861, \"text\": \"RT @Hannasuewilson: It\\\\u2019s '\n",
      " 'officially Perfect Girls in Bikinis All Over The Explore Page Season and I '\n",
      " 'will NOT COMPARE MY BODY TO THEIRS AND\\\\u2026\", \"lang\": \"en\", \"created_at\": '\n",
      " '\"Thu Mar 15 17:55:20 +0000 2018\", \"truncated\": false, \"retweeted\": false, '\n",
      " '\"in_reply_to_status_id_str\": null, \"user\": {\"location\": \"Tullahoma, TN\", '\n",
      " '\"has_extended_profile\": true, \"translator_type\": \"none\", \"name\": \"Laur\", '\n",
      " '\"statuses_count\": 1202, \"lang\": \"en\", \"protected\": false, '\n",
      " '\"profile_text_color\": \"333333\", \"created_at\": \"Fri Oct 21 14:28:40 +0000 '\n",
      " '2016\", \"profile_background_tile\": false, \"profile_background_color\": '\n",
      " '\"F5F8FA\", \"notifications\": null, \"verified\": false, '\n",
      " '\"profile_background_image_url_https\": null, \"geo_enabled\": true, '\n",
      " '\"followers_count\": 282, \"is_translator\": false, \"description\": \"\", '\n",
      " '\"profile_sidebar_fill_color\": \"DDEEF6\", \"profile_sidebar_border_color\": '\n",
      " '\"C0DEED\", \"profile_image_url\": '\n",
      " '\"http://pbs.twimg.com/profile_images/959195910881398784/iAlKitI4_normal.jpg\", '\n",
      " '\"friends_count\": 253, \"profile_image_url_https\": '\n",
      " '\"https://pbs.twimg.com/profile_images/959195910881398784/iAlKitI4_normal.jpg\", '\n",
      " '\"listed_count\": 1, \"time_zone\": null, \"favourites_count\": 5083, '\n",
      " '\"profile_banner_url\": '\n",
      " '\"https://pbs.twimg.com/profile_banners/789473479557017600/1517255335\", '\n",
      " '\"contributors_enabled\": false, \"default_profile\": true, \"following\": null, '\n",
      " '\"default_profile_image\": false, \"is_translation_enabled\": false, '\n",
      " '\"follow_request_sent\": null, \"utc_offset\": null, \"url\": null, \"id_str\": '\n",
      " '\"789473479557017600\", \"profile_use_background_image\": true, \"screen_name\": '\n",
      " '\"lauren__court\", \"entities\": {\"description\": {\"urls\": []}}, '\n",
      " '\"profile_background_image_url\": null, \"id\": 789473479557017600, '\n",
      " '\"profile_link_color\": \"1DA1F2\"}, \"retweeted_status\": {\"favorite_count\": '\n",
      " '35122, \"in_reply_to_screen_name\": null, \"is_quote_status\": false, '\n",
      " '\"retweet_count\": 5861, \"text\": \"It\\\\u2019s officially Perfect Girls in '\n",
      " 'Bikinis All Over The Explore Page Season and I will NOT COMPARE MY BODY TO '\n",
      " 'THEIRS\\\\u2026 https://t.co/zliONTq43T\", \"lang\": \"en\", \"created_at\": \"Wed Mar '\n",
      " '14 06:39:01 +0000 2018\", \"truncated\": true, \"retweeted\": false, '\n",
      " '\"in_reply_to_status_id_str\": null, \"user\": {\"location\": \"Dallas tx\", '\n",
      " '\"has_extended_profile\": true, \"translator_type\": \"none\", \"name\": \"Living '\n",
      " 'Loved\", \"statuses_count\": 16866, \"lang\": \"en\", \"protected\": false, '\n",
      " '\"profile_text_color\": \"333333\", \"created_at\": \"Sat Mar 16 12:58:01 +0000 '\n",
      " '2013\", \"profile_background_tile\": false, \"profile_background_color\": '\n",
      " '\"C0DEED\", \"notifications\": null, \"verified\": false, '\n",
      " '\"profile_background_image_url_https\": '\n",
      " '\"https://abs.twimg.com/images/themes/theme1/bg.png\", \"geo_enabled\": true, '\n",
      " '\"followers_count\": 25705, \"is_translator\": false, \"description\": \"DBU ZX '\n",
      " '\\\\u2022writin \\\\u2022journalin \\\\u2022laughin \\\\u2022flower pickin '\n",
      " '\\\\u2022bell bottoms wearin \\\\u2022crazy worshipin \\\\u2022silly dancin INSTA: '\n",
      " 'spinning_while_my_hans_up !!!!ISAIAH43:19!!!\", \"profile_sidebar_fill_color\": '\n",
      " '\"DDEEF6\", \"profile_sidebar_border_color\": \"C0DEED\", \"profile_image_url\": '\n",
      " '\"http://pbs.twimg.com/profile_images/973350924931526656/k2M2YbdY_normal.jpg\", '\n",
      " '\"friends_count\": 306, \"profile_image_url_https\": '\n",
      " '\"https://pbs.twimg.com/profile_images/973350924931526656/k2M2YbdY_normal.jpg\", '\n",
      " '\"listed_count\": 75, \"time_zone\": \"Eastern Time (US & Canada)\", '\n",
      " '\"favourites_count\": 55858, \"profile_banner_url\": '\n",
      " '\"https://pbs.twimg.com/profile_banners/1272273181/1516504099\", '\n",
      " '\"contributors_enabled\": false, \"default_profile\": true, \"following\": null, '\n",
      " '\"default_profile_image\": false, \"is_translation_enabled\": false, '\n",
      " '\"follow_request_sent\": null, \"utc_offset\": -14400, \"url\": '\n",
      " '\"https://t.co/81If95GxrN\", \"id_str\": \"1272273181\", '\n",
      " '\"profile_use_background_image\": true, \"screen_name\": \"Hannasuewilson\", '\n",
      " '\"entities\": {\"url\": {\"urls\": [{\"display_url\": \"gofundme.com/56x1s48\", '\n",
      " '\"indices\": [0, 23], \"url\": \"https://t.co/81If95GxrN\", \"expanded_url\": '\n",
      " '\"https://www.gofundme.com/56x1s48\"}]}, \"description\": {\"urls\": []}}, '\n",
      " '\"profile_background_image_url\": '\n",
      " '\"http://abs.twimg.com/images/themes/theme1/bg.png\", \"id\": 1272273181, '\n",
      " '\"profile_link_color\": \"1DA1F2\"}, \"in_reply_to_status_id\": null, '\n",
      " '\"coordinates\": null, \"in_reply_to_user_id_str\": null, \"contributors\": null, '\n",
      " '\"geo\": null, \"favorited\": false, \"source\": \"<a '\n",
      " 'href=\\\\\"http://twitter.com/download/iphone\\\\\" rel=\\\\\"nofollow\\\\\">Twitter for '\n",
      " 'iPhone</a>\", \"id_str\": \"973810713079812099\", \"in_reply_to_user_id\": null, '\n",
      " '\"entities\": {\"urls\": [{\"display_url\": \"twitter.com/i/web/status/9\\\\u2026\", '\n",
      " '\"indices\": [116, 139], \"url\": \"https://t.co/zliONTq43T\", \"expanded_url\": '\n",
      " '\"https://twitter.com/i/web/status/973810713079812099\"}], \"user_mentions\": '\n",
      " '[], \"symbols\": [], \"hashtags\": []}, \"metadata\": {\"result_type\": \"recent\", '\n",
      " '\"iso_language_code\": \"en\"}, \"id\": 973810713079812099, \"place\": null}, '\n",
      " '\"in_reply_to_status_id\": null, \"coordinates\": null, '\n",
      " '\"in_reply_to_user_id_str\": null, \"contributors\": null, \"geo\": null, '\n",
      " '\"favorited\": false, \"source\": \"<a '\n",
      " 'href=\\\\\"http://twitter.com/download/iphone\\\\\" rel=\\\\\"nofollow\\\\\">Twitter for '\n",
      " 'iPhone</a>\", \"id_str\": \"974343304837042178\", \"in_reply_to_user_id\": null, '\n",
      " '\"entities\": {\"urls\": [], \"user_mentions\": [{\"id_str\": \"1272273181\", '\n",
      " '\"indices\": [3, 18], \"screen_name\": \"Hannasuewilson\", \"id\": 1272273181, '\n",
      " '\"name\": \"Living Loved\"}], \"symbols\": [], \"hashtags\": []}, \"metadata\": '\n",
      " '{\"result_type\": \"recent\", \"iso_language_code\": \"en\"}, \"id\": '\n",
      " '974343304837042178, \"place\": null}\\n')\n"
     ]
    }
   ],
   "source": [
    "pprint.pprint(test_1[0])"
   ]
  },
  {
   "cell_type": "code",
   "execution_count": 56,
   "metadata": {},
   "outputs": [
    {
     "data": {
      "text/plain": [
       "'{\"favorite_count\": 0, \"in_reply_to_screen_name\": None, \"is_quote_status\": false, \"retweet_count\": 5861, \"text\": \"RT @Hannasuewilson: It\\\\u2019s officially Perfect Girls in Bikinis All Over The Explore Page Season and I will NOT COMPARE MY BODY TO THEIRS AND\\\\u2026\", \"lang\": \"en\", \"created_at\": \"Thu Mar 15 17:55:20 +0000 2018\", \"truncated\": false, \"retweeted\": false, \"in_reply_to_status_id_str\": None, \"user\": {\"location\": \"Tullahoma, TN\", \"has_extended_profile\": true, \"translator_type\": \"none\", \"name\": \"Laur\", \"statuses_count\": 1202, \"lang\": \"en\", \"protected\": false, \"profile_text_color\": \"333333\", \"created_at\": \"Fri Oct 21 14:28:40 +0000 2016\", \"profile_background_tile\": false, \"profile_background_color\": \"F5F8FA\", \"notifications\": None, \"verified\": false, \"profile_background_image_url_https\": None, \"geo_enabled\": true, \"followers_count\": 282, \"is_translator\": false, \"description\": \"\", \"profile_sidebar_fill_color\": \"DDEEF6\", \"profile_sidebar_border_color\": \"C0DEED\", \"profile_image_url\": \"http://pbs.twimg.com/profile_images/959195910881398784/iAlKitI4_normal.jpg\", \"friends_count\": 253, \"profile_image_url_https\": \"https://pbs.twimg.com/profile_images/959195910881398784/iAlKitI4_normal.jpg\", \"listed_count\": 1, \"time_zone\": None, \"favourites_count\": 5083, \"profile_banner_url\": \"https://pbs.twimg.com/profile_banners/789473479557017600/1517255335\", \"contributors_enabled\": false, \"default_profile\": true, \"following\": None, \"default_profile_image\": false, \"is_translation_enabled\": false, \"follow_request_sent\": None, \"utc_offset\": None, \"url\": None, \"id_str\": \"789473479557017600\", \"profile_use_background_image\": true, \"screen_name\": \"lauren__court\", \"entities\": {\"description\": {\"urls\": []}}, \"profile_background_image_url\": None, \"id\": 789473479557017600, \"profile_link_color\": \"1DA1F2\"}, \"retweeted_status\": {\"favorite_count\": 35122, \"in_reply_to_screen_name\": None, \"is_quote_status\": false, \"retweet_count\": 5861, \"text\": \"It\\\\u2019s officially Perfect Girls in Bikinis All Over The Explore Page Season and I will NOT COMPARE MY BODY TO THEIRS\\\\u2026 https://t.co/zliONTq43T\", \"lang\": \"en\", \"created_at\": \"Wed Mar 14 06:39:01 +0000 2018\", \"truncated\": true, \"retweeted\": false, \"in_reply_to_status_id_str\": None, \"user\": {\"location\": \"Dallas tx\", \"has_extended_profile\": true, \"translator_type\": \"none\", \"name\": \"Living Loved\", \"statuses_count\": 16866, \"lang\": \"en\", \"protected\": false, \"profile_text_color\": \"333333\", \"created_at\": \"Sat Mar 16 12:58:01 +0000 2013\", \"profile_background_tile\": false, \"profile_background_color\": \"C0DEED\", \"notifications\": None, \"verified\": false, \"profile_background_image_url_https\": \"https://abs.twimg.com/images/themes/theme1/bg.png\", \"geo_enabled\": true, \"followers_count\": 25705, \"is_translator\": false, \"description\": \"DBU ZX \\\\u2022writin \\\\u2022journalin \\\\u2022laughin \\\\u2022flower pickin \\\\u2022bell bottoms wearin \\\\u2022crazy worshipin \\\\u2022silly dancin INSTA: spinning_while_my_hans_up !!!!ISAIAH43:19!!!\", \"profile_sidebar_fill_color\": \"DDEEF6\", \"profile_sidebar_border_color\": \"C0DEED\", \"profile_image_url\": \"http://pbs.twimg.com/profile_images/973350924931526656/k2M2YbdY_normal.jpg\", \"friends_count\": 306, \"profile_image_url_https\": \"https://pbs.twimg.com/profile_images/973350924931526656/k2M2YbdY_normal.jpg\", \"listed_count\": 75, \"time_zone\": \"Eastern Time (US & Canada)\", \"favourites_count\": 55858, \"profile_banner_url\": \"https://pbs.twimg.com/profile_banners/1272273181/1516504099\", \"contributors_enabled\": false, \"default_profile\": true, \"following\": None, \"default_profile_image\": false, \"is_translation_enabled\": false, \"follow_request_sent\": None, \"utc_offset\": -14400, \"url\": \"https://t.co/81If95GxrN\", \"id_str\": \"1272273181\", \"profile_use_background_image\": true, \"screen_name\": \"Hannasuewilson\", \"entities\": {\"url\": {\"urls\": [{\"display_url\": \"gofundme.com/56x1s48\", \"indices\": [0, 23], \"url\": \"https://t.co/81If95GxrN\", \"expanded_url\": \"https://www.gofundme.com/56x1s48\"}]}, \"description\": {\"urls\": []}}, \"profile_background_image_url\": \"http://abs.twimg.com/images/themes/theme1/bg.png\", \"id\": 1272273181, \"profile_link_color\": \"1DA1F2\"}, \"in_reply_to_status_id\": None, \"coordinates\": None, \"in_reply_to_user_id_str\": None, \"contributors\": None, \"geo\": None, \"favorited\": false, \"source\": \"<a href=\\\\\"http://twitter.com/download/iphone\\\\\" rel=\\\\\"nofollow\\\\\">Twitter for iPhone</a>\", \"id_str\": \"973810713079812099\", \"in_reply_to_user_id\": None, \"entities\": {\"urls\": [{\"display_url\": \"twitter.com/i/web/status/9\\\\u2026\", \"indices\": [116, 139], \"url\": \"https://t.co/zliONTq43T\", \"expanded_url\": \"https://twitter.com/i/web/status/973810713079812099\"}], \"user_mentions\": [], \"symbols\": [], \"hashtags\": []}, \"metadata\": {\"result_type\": \"recent\", \"iso_language_code\": \"en\"}, \"id\": 973810713079812099, \"place\": None}, \"in_reply_to_status_id\": None, \"coordinates\": None, \"in_reply_to_user_id_str\": None, \"contributors\": None, \"geo\": None, \"favorited\": false, \"source\": \"<a href=\\\\\"http://twitter.com/download/iphone\\\\\" rel=\\\\\"nofollow\\\\\">Twitter for iPhone</a>\", \"id_str\": \"974343304837042178\", \"in_reply_to_user_id\": None, \"entities\": {\"urls\": [], \"user_mentions\": [{\"id_str\": \"1272273181\", \"indices\": [3, 18], \"screen_name\": \"Hannasuewilson\", \"id\": 1272273181, \"name\": \"Living Loved\"}], \"symbols\": [], \"hashtags\": []}, \"metadata\": {\"result_type\": \"recent\", \"iso_language_code\": \"en\"}, \"id\": 974343304837042178, \"place\": None}\\n'"
      ]
     },
     "execution_count": 56,
     "metadata": {},
     "output_type": "execute_result"
    }
   ],
   "source": [
    "test_1[0].replace('null', 'None')"
   ]
  },
  {
   "cell_type": "code",
   "execution_count": 59,
   "metadata": {},
   "outputs": [
    {
     "data": {
      "text/plain": [
       "{'contributors': None,\n",
       " 'coordinates': None,\n",
       " 'created_at': 'Thu Mar 15 17:55:20 +0000 2018',\n",
       " 'entities': {'hashtags': [],\n",
       "  'symbols': [],\n",
       "  'urls': [],\n",
       "  'user_mentions': [{'id': 1272273181,\n",
       "    'id_str': '1272273181',\n",
       "    'indices': [3, 18],\n",
       "    'name': 'Living Loved',\n",
       "    'screen_name': 'Hannasuewilson'}]},\n",
       " 'favorite_count': 0,\n",
       " 'favorited': False,\n",
       " 'geo': None,\n",
       " 'id': 974343304837042178,\n",
       " 'id_str': '974343304837042178',\n",
       " 'in_reply_to_screen_name': None,\n",
       " 'in_reply_to_status_id': None,\n",
       " 'in_reply_to_status_id_str': None,\n",
       " 'in_reply_to_user_id': None,\n",
       " 'in_reply_to_user_id_str': None,\n",
       " 'is_quote_status': False,\n",
       " 'lang': 'en',\n",
       " 'metadata': {'iso_language_code': 'en', 'result_type': 'recent'},\n",
       " 'place': None,\n",
       " 'retweet_count': 5861,\n",
       " 'retweeted': False,\n",
       " 'retweeted_status': {'contributors': None,\n",
       "  'coordinates': None,\n",
       "  'created_at': 'Wed Mar 14 06:39:01 +0000 2018',\n",
       "  'entities': {'hashtags': [],\n",
       "   'symbols': [],\n",
       "   'urls': [{'display_url': 'twitter.com/i/web/status/9…',\n",
       "     'expanded_url': 'https://twitter.com/i/web/status/973810713079812099',\n",
       "     'indices': [116, 139],\n",
       "     'url': 'https://t.co/zliONTq43T'}],\n",
       "   'user_mentions': []},\n",
       "  'favorite_count': 35122,\n",
       "  'favorited': False,\n",
       "  'geo': None,\n",
       "  'id': 973810713079812099,\n",
       "  'id_str': '973810713079812099',\n",
       "  'in_reply_to_screen_name': None,\n",
       "  'in_reply_to_status_id': None,\n",
       "  'in_reply_to_status_id_str': None,\n",
       "  'in_reply_to_user_id': None,\n",
       "  'in_reply_to_user_id_str': None,\n",
       "  'is_quote_status': False,\n",
       "  'lang': 'en',\n",
       "  'metadata': {'iso_language_code': 'en', 'result_type': 'recent'},\n",
       "  'place': None,\n",
       "  'retweet_count': 5861,\n",
       "  'retweeted': False,\n",
       "  'source': '<a href=\"http://twitter.com/download/iphone\" rel=\"nofollow\">Twitter for iPhone</a>',\n",
       "  'text': 'It’s officially Perfect Girls in Bikinis All Over The Explore Page Season and I will NOT COMPARE MY BODY TO THEIRS… https://t.co/zliONTq43T',\n",
       "  'truncated': True,\n",
       "  'user': {'contributors_enabled': False,\n",
       "   'created_at': 'Sat Mar 16 12:58:01 +0000 2013',\n",
       "   'default_profile': True,\n",
       "   'default_profile_image': False,\n",
       "   'description': 'DBU ZX •writin •journalin •laughin •flower pickin •bell bottoms wearin •crazy worshipin •silly dancin INSTA: spinning_while_my_hans_up !!!!ISAIAH43:19!!!',\n",
       "   'entities': {'description': {'urls': []},\n",
       "    'url': {'urls': [{'display_url': 'gofundme.com/56x1s48',\n",
       "       'expanded_url': 'https://www.gofundme.com/56x1s48',\n",
       "       'indices': [0, 23],\n",
       "       'url': 'https://t.co/81If95GxrN'}]}},\n",
       "   'favourites_count': 55858,\n",
       "   'follow_request_sent': None,\n",
       "   'followers_count': 25705,\n",
       "   'following': None,\n",
       "   'friends_count': 306,\n",
       "   'geo_enabled': True,\n",
       "   'has_extended_profile': True,\n",
       "   'id': 1272273181,\n",
       "   'id_str': '1272273181',\n",
       "   'is_translation_enabled': False,\n",
       "   'is_translator': False,\n",
       "   'lang': 'en',\n",
       "   'listed_count': 75,\n",
       "   'location': 'Dallas tx',\n",
       "   'name': 'Living Loved',\n",
       "   'notifications': None,\n",
       "   'profile_background_color': 'C0DEED',\n",
       "   'profile_background_image_url': 'http://abs.twimg.com/images/themes/theme1/bg.png',\n",
       "   'profile_background_image_url_https': 'https://abs.twimg.com/images/themes/theme1/bg.png',\n",
       "   'profile_background_tile': False,\n",
       "   'profile_banner_url': 'https://pbs.twimg.com/profile_banners/1272273181/1516504099',\n",
       "   'profile_image_url': 'http://pbs.twimg.com/profile_images/973350924931526656/k2M2YbdY_normal.jpg',\n",
       "   'profile_image_url_https': 'https://pbs.twimg.com/profile_images/973350924931526656/k2M2YbdY_normal.jpg',\n",
       "   'profile_link_color': '1DA1F2',\n",
       "   'profile_sidebar_border_color': 'C0DEED',\n",
       "   'profile_sidebar_fill_color': 'DDEEF6',\n",
       "   'profile_text_color': '333333',\n",
       "   'profile_use_background_image': True,\n",
       "   'protected': False,\n",
       "   'screen_name': 'Hannasuewilson',\n",
       "   'statuses_count': 16866,\n",
       "   'time_zone': 'Eastern Time (US & Canada)',\n",
       "   'translator_type': 'none',\n",
       "   'url': 'https://t.co/81If95GxrN',\n",
       "   'utc_offset': -14400,\n",
       "   'verified': False}},\n",
       " 'source': '<a href=\"http://twitter.com/download/iphone\" rel=\"nofollow\">Twitter for iPhone</a>',\n",
       " 'text': 'RT @Hannasuewilson: It’s officially Perfect Girls in Bikinis All Over The Explore Page Season and I will NOT COMPARE MY BODY TO THEIRS AND…',\n",
       " 'truncated': False,\n",
       " 'user': {'contributors_enabled': False,\n",
       "  'created_at': 'Fri Oct 21 14:28:40 +0000 2016',\n",
       "  'default_profile': True,\n",
       "  'default_profile_image': False,\n",
       "  'description': '',\n",
       "  'entities': {'description': {'urls': []}},\n",
       "  'favourites_count': 5083,\n",
       "  'follow_request_sent': None,\n",
       "  'followers_count': 282,\n",
       "  'following': None,\n",
       "  'friends_count': 253,\n",
       "  'geo_enabled': True,\n",
       "  'has_extended_profile': True,\n",
       "  'id': 789473479557017600,\n",
       "  'id_str': '789473479557017600',\n",
       "  'is_translation_enabled': False,\n",
       "  'is_translator': False,\n",
       "  'lang': 'en',\n",
       "  'listed_count': 1,\n",
       "  'location': 'Tullahoma, TN',\n",
       "  'name': 'Laur',\n",
       "  'notifications': None,\n",
       "  'profile_background_color': 'F5F8FA',\n",
       "  'profile_background_image_url': None,\n",
       "  'profile_background_image_url_https': None,\n",
       "  'profile_background_tile': False,\n",
       "  'profile_banner_url': 'https://pbs.twimg.com/profile_banners/789473479557017600/1517255335',\n",
       "  'profile_image_url': 'http://pbs.twimg.com/profile_images/959195910881398784/iAlKitI4_normal.jpg',\n",
       "  'profile_image_url_https': 'https://pbs.twimg.com/profile_images/959195910881398784/iAlKitI4_normal.jpg',\n",
       "  'profile_link_color': '1DA1F2',\n",
       "  'profile_sidebar_border_color': 'C0DEED',\n",
       "  'profile_sidebar_fill_color': 'DDEEF6',\n",
       "  'profile_text_color': '333333',\n",
       "  'profile_use_background_image': True,\n",
       "  'protected': False,\n",
       "  'screen_name': 'lauren__court',\n",
       "  'statuses_count': 1202,\n",
       "  'time_zone': None,\n",
       "  'translator_type': 'none',\n",
       "  'url': None,\n",
       "  'utc_offset': None,\n",
       "  'verified': False}}"
      ]
     },
     "execution_count": 59,
     "metadata": {},
     "output_type": "execute_result"
    }
   ],
   "source": [
    "eval(test_1[0].replace('null', 'None').replace('false', 'False').replace('true', 'True'))"
   ]
  },
  {
   "cell_type": "code",
   "execution_count": 60,
   "metadata": {},
   "outputs": [],
   "source": [
    "var_1 = eval(test_1[0].replace('null', 'None').replace('false', 'False').replace('true', 'True'))"
   ]
  },
  {
   "cell_type": "code",
   "execution_count": 61,
   "metadata": {},
   "outputs": [
    {
     "data": {
      "text/plain": [
       "974343304837042178"
      ]
     },
     "execution_count": 61,
     "metadata": {},
     "output_type": "execute_result"
    }
   ],
   "source": [
    "var_1['id']"
   ]
  },
  {
   "cell_type": "code",
   "execution_count": 62,
   "metadata": {},
   "outputs": [
    {
     "data": {
      "text/plain": [
       "{'contributors': None,\n",
       " 'coordinates': None,\n",
       " 'created_at': 'Thu Mar 15 17:55:20 +0000 2018',\n",
       " 'entities': {'hashtags': [],\n",
       "  'symbols': [],\n",
       "  'urls': [],\n",
       "  'user_mentions': [{'id': 1272273181,\n",
       "    'id_str': '1272273181',\n",
       "    'indices': [3, 18],\n",
       "    'name': 'Living Loved',\n",
       "    'screen_name': 'Hannasuewilson'}]},\n",
       " 'favorite_count': 0,\n",
       " 'favorited': False,\n",
       " 'geo': None,\n",
       " 'id': 974343304837042178,\n",
       " 'id_str': '974343304837042178',\n",
       " 'in_reply_to_screen_name': None,\n",
       " 'in_reply_to_status_id': None,\n",
       " 'in_reply_to_status_id_str': None,\n",
       " 'in_reply_to_user_id': None,\n",
       " 'in_reply_to_user_id_str': None,\n",
       " 'is_quote_status': False,\n",
       " 'lang': 'en',\n",
       " 'metadata': {'iso_language_code': 'en', 'result_type': 'recent'},\n",
       " 'place': None,\n",
       " 'retweet_count': 5861,\n",
       " 'retweeted': False,\n",
       " 'retweeted_status': {'contributors': None,\n",
       "  'coordinates': None,\n",
       "  'created_at': 'Wed Mar 14 06:39:01 +0000 2018',\n",
       "  'entities': {'hashtags': [],\n",
       "   'symbols': [],\n",
       "   'urls': [{'display_url': 'twitter.com/i/web/status/9…',\n",
       "     'expanded_url': 'https://twitter.com/i/web/status/973810713079812099',\n",
       "     'indices': [116, 139],\n",
       "     'url': 'https://t.co/zliONTq43T'}],\n",
       "   'user_mentions': []},\n",
       "  'favorite_count': 35122,\n",
       "  'favorited': False,\n",
       "  'geo': None,\n",
       "  'id': 973810713079812099,\n",
       "  'id_str': '973810713079812099',\n",
       "  'in_reply_to_screen_name': None,\n",
       "  'in_reply_to_status_id': None,\n",
       "  'in_reply_to_status_id_str': None,\n",
       "  'in_reply_to_user_id': None,\n",
       "  'in_reply_to_user_id_str': None,\n",
       "  'is_quote_status': False,\n",
       "  'lang': 'en',\n",
       "  'metadata': {'iso_language_code': 'en', 'result_type': 'recent'},\n",
       "  'place': None,\n",
       "  'retweet_count': 5861,\n",
       "  'retweeted': False,\n",
       "  'source': '<a href=\"http://twitter.com/download/iphone\" rel=\"nofollow\">Twitter for iPhone</a>',\n",
       "  'text': 'It’s officially Perfect Girls in Bikinis All Over The Explore Page Season and I will NOT COMPARE MY BODY TO THEIRS… https://t.co/zliONTq43T',\n",
       "  'truncated': True,\n",
       "  'user': {'contributors_enabled': False,\n",
       "   'created_at': 'Sat Mar 16 12:58:01 +0000 2013',\n",
       "   'default_profile': True,\n",
       "   'default_profile_image': False,\n",
       "   'description': 'DBU ZX •writin •journalin •laughin •flower pickin •bell bottoms wearin •crazy worshipin •silly dancin INSTA: spinning_while_my_hans_up !!!!ISAIAH43:19!!!',\n",
       "   'entities': {'description': {'urls': []},\n",
       "    'url': {'urls': [{'display_url': 'gofundme.com/56x1s48',\n",
       "       'expanded_url': 'https://www.gofundme.com/56x1s48',\n",
       "       'indices': [0, 23],\n",
       "       'url': 'https://t.co/81If95GxrN'}]}},\n",
       "   'favourites_count': 55858,\n",
       "   'follow_request_sent': None,\n",
       "   'followers_count': 25705,\n",
       "   'following': None,\n",
       "   'friends_count': 306,\n",
       "   'geo_enabled': True,\n",
       "   'has_extended_profile': True,\n",
       "   'id': 1272273181,\n",
       "   'id_str': '1272273181',\n",
       "   'is_translation_enabled': False,\n",
       "   'is_translator': False,\n",
       "   'lang': 'en',\n",
       "   'listed_count': 75,\n",
       "   'location': 'Dallas tx',\n",
       "   'name': 'Living Loved',\n",
       "   'notifications': None,\n",
       "   'profile_background_color': 'C0DEED',\n",
       "   'profile_background_image_url': 'http://abs.twimg.com/images/themes/theme1/bg.png',\n",
       "   'profile_background_image_url_https': 'https://abs.twimg.com/images/themes/theme1/bg.png',\n",
       "   'profile_background_tile': False,\n",
       "   'profile_banner_url': 'https://pbs.twimg.com/profile_banners/1272273181/1516504099',\n",
       "   'profile_image_url': 'http://pbs.twimg.com/profile_images/973350924931526656/k2M2YbdY_normal.jpg',\n",
       "   'profile_image_url_https': 'https://pbs.twimg.com/profile_images/973350924931526656/k2M2YbdY_normal.jpg',\n",
       "   'profile_link_color': '1DA1F2',\n",
       "   'profile_sidebar_border_color': 'C0DEED',\n",
       "   'profile_sidebar_fill_color': 'DDEEF6',\n",
       "   'profile_text_color': '333333',\n",
       "   'profile_use_background_image': True,\n",
       "   'protected': False,\n",
       "   'screen_name': 'Hannasuewilson',\n",
       "   'statuses_count': 16866,\n",
       "   'time_zone': 'Eastern Time (US & Canada)',\n",
       "   'translator_type': 'none',\n",
       "   'url': 'https://t.co/81If95GxrN',\n",
       "   'utc_offset': -14400,\n",
       "   'verified': False}},\n",
       " 'source': '<a href=\"http://twitter.com/download/iphone\" rel=\"nofollow\">Twitter for iPhone</a>',\n",
       " 'text': 'RT @Hannasuewilson: It’s officially Perfect Girls in Bikinis All Over The Explore Page Season and I will NOT COMPARE MY BODY TO THEIRS AND…',\n",
       " 'truncated': False,\n",
       " 'user': {'contributors_enabled': False,\n",
       "  'created_at': 'Fri Oct 21 14:28:40 +0000 2016',\n",
       "  'default_profile': True,\n",
       "  'default_profile_image': False,\n",
       "  'description': '',\n",
       "  'entities': {'description': {'urls': []}},\n",
       "  'favourites_count': 5083,\n",
       "  'follow_request_sent': None,\n",
       "  'followers_count': 282,\n",
       "  'following': None,\n",
       "  'friends_count': 253,\n",
       "  'geo_enabled': True,\n",
       "  'has_extended_profile': True,\n",
       "  'id': 789473479557017600,\n",
       "  'id_str': '789473479557017600',\n",
       "  'is_translation_enabled': False,\n",
       "  'is_translator': False,\n",
       "  'lang': 'en',\n",
       "  'listed_count': 1,\n",
       "  'location': 'Tullahoma, TN',\n",
       "  'name': 'Laur',\n",
       "  'notifications': None,\n",
       "  'profile_background_color': 'F5F8FA',\n",
       "  'profile_background_image_url': None,\n",
       "  'profile_background_image_url_https': None,\n",
       "  'profile_background_tile': False,\n",
       "  'profile_banner_url': 'https://pbs.twimg.com/profile_banners/789473479557017600/1517255335',\n",
       "  'profile_image_url': 'http://pbs.twimg.com/profile_images/959195910881398784/iAlKitI4_normal.jpg',\n",
       "  'profile_image_url_https': 'https://pbs.twimg.com/profile_images/959195910881398784/iAlKitI4_normal.jpg',\n",
       "  'profile_link_color': '1DA1F2',\n",
       "  'profile_sidebar_border_color': 'C0DEED',\n",
       "  'profile_sidebar_fill_color': 'DDEEF6',\n",
       "  'profile_text_color': '333333',\n",
       "  'profile_use_background_image': True,\n",
       "  'protected': False,\n",
       "  'screen_name': 'lauren__court',\n",
       "  'statuses_count': 1202,\n",
       "  'time_zone': None,\n",
       "  'translator_type': 'none',\n",
       "  'url': None,\n",
       "  'utc_offset': None,\n",
       "  'verified': False}}"
      ]
     },
     "execution_count": 62,
     "metadata": {},
     "output_type": "execute_result"
    }
   ],
   "source": [
    "var_1"
   ]
  },
  {
   "cell_type": "code",
   "execution_count": null,
   "metadata": {},
   "outputs": [],
   "source": []
  }
 ],
 "metadata": {
  "kernelspec": {
   "display_name": "Python 3",
   "language": "python",
   "name": "python3"
  },
  "language_info": {
   "codemirror_mode": {
    "name": "ipython",
    "version": 3
   },
   "file_extension": ".py",
   "mimetype": "text/x-python",
   "name": "python",
   "nbconvert_exporter": "python",
   "pygments_lexer": "ipython3",
   "version": "3.5.2"
  }
 },
 "nbformat": 4,
 "nbformat_minor": 2
}
