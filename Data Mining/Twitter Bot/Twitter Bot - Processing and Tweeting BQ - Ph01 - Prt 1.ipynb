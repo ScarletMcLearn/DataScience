{
 "cells": [
  {
   "cell_type": "code",
   "execution_count": 11,
   "metadata": {},
   "outputs": [],
   "source": [
    "import twitter\n",
    "import requests"
   ]
  },
  {
   "cell_type": "code",
   "execution_count": 2,
   "metadata": {},
   "outputs": [],
   "source": [
    "api = twitter.Api(consumer_key='4fsyL9GWIQkbXi9hHJcVDpm4L',\n",
    "                      consumer_secret='ekOHjtbvWCltUTkMX9qC3YwxAZmU9QgnIetKd1hfzMLKP41HIn',\n",
    "                      access_token_key='149863732-hCncnsL7EDkgaujC5WRZl3oGCYNaaCDttyjcYVxU',\n",
    "                      access_token_secret='AcELcldQyLIIKz78LLr6JYiscjRBMJKM7b6CLA1gg86rS')"
   ]
  },
  {
   "cell_type": "code",
   "execution_count": 3,
   "metadata": {},
   "outputs": [
    {
     "name": "stdout",
     "output_type": "stream",
     "text": [
      "{\"created_at\": \"Sun May 30 12:36:34 +0000 2010\", \"favourites_count\": 110, \"followers_count\": 62, \"friends_count\": 118, \"id\": 149863732, \"lang\": \"en\", \"listed_count\": 2, \"name\": \"Essence Primus\", \"profile_background_color\": \"000000\", \"profile_background_image_url\": \"http://abs.twimg.com/images/themes/theme1/bg.png\", \"profile_banner_url\": \"https://pbs.twimg.com/profile_banners/149863732/1520207671\", \"profile_image_url\": \"http://pbs.twimg.com/profile_images/970447491282841600/QWPlQw5r_normal.jpg\", \"profile_link_color\": \"FAB81E\", \"profile_sidebar_fill_color\": \"000000\", \"profile_text_color\": \"000000\", \"screen_name\": \"essenceprimus\", \"status\": {\"created_at\": \"Tue Mar 13 04:29:18 +0000 2018\", \"id\": 973415680778186752, \"id_str\": \"973415680778186752\", \"lang\": \"und\", \"source\": \"<a href=\\\"http://www.facebook.com/twitter\\\" rel=\\\"nofollow\\\">Facebook</a>\", \"text\": \"https://t.co/WrbC3UCzLa\"}, \"statuses_count\": 36147, \"time_zone\": \"Pacific Time (US & Canada)\", \"utc_offset\": -25200}\n"
     ]
    }
   ],
   "source": [
    "print(api.VerifyCredentials())"
   ]
  },
  {
   "cell_type": "code",
   "execution_count": null,
   "metadata": {},
   "outputs": [],
   "source": []
  },
  {
   "cell_type": "code",
   "execution_count": 4,
   "metadata": {},
   "outputs": [
    {
     "data": {
      "text/plain": [
       "EndpointRateLimit(limit=15, remaining=15, reset=0)"
      ]
     },
     "execution_count": 4,
     "metadata": {},
     "output_type": "execute_result"
    }
   ],
   "source": [
    "api.rate_limit.get_limit('statuses/user_timeline')"
   ]
  },
  {
   "cell_type": "code",
   "execution_count": 5,
   "metadata": {},
   "outputs": [],
   "source": [
    "api.InitializeRateLimit()"
   ]
  },
  {
   "cell_type": "code",
   "execution_count": 28,
   "metadata": {},
   "outputs": [],
   "source": [
    "import requests\n",
    "import os\n",
    "\n",
    "def tweet_post(message, url=None):\n",
    "    if (url):\n",
    "        filename = 'temp.jpg'\n",
    "        request = requests.get(url, stream=True)\n",
    "        if request.status_code == 200:\n",
    "            with open(filename, 'wb') as image:\n",
    "                for chunk in request:\n",
    "                    image.write(chunk)\n",
    "\n",
    "            api.PostUpdate(media=filename, status=message)\n",
    "            os.remove(filename)\n",
    "            print(\"Done.\")\n",
    "        else:\n",
    "            print(\"Unable to download image.\")\n",
    "    \n",
    "    else:\n",
    "        api.PostUpdate(status=message)\n",
    "        print(\"Done.\")\n",
    "    "
   ]
  },
  {
   "cell_type": "code",
   "execution_count": null,
   "metadata": {},
   "outputs": [],
   "source": [
    "# ^ WORKS! "
   ]
  },
  {
   "cell_type": "code",
   "execution_count": 32,
   "metadata": {},
   "outputs": [
    {
     "name": "stdout",
     "output_type": "stream",
     "text": [
      "Done.\n"
     ]
    }
   ],
   "source": [
    "# tweet_post('BQFTW.', 'https://www.brainyquote.com/photos_tr/en/g/georgeburns/103932/georgeburns1-2x.jpg')"
   ]
  },
  {
   "cell_type": "code",
   "execution_count": 30,
   "metadata": {},
   "outputs": [
    {
     "name": "stdout",
     "output_type": "stream",
     "text": [
      "Done.\n"
     ]
    }
   ],
   "source": [
    "# tweet_post(\"Testing...\")"
   ]
  },
  {
   "cell_type": "code",
   "execution_count": null,
   "metadata": {},
   "outputs": [],
   "source": []
  }
 ],
 "metadata": {
  "kernelspec": {
   "display_name": "Python 3",
   "language": "python",
   "name": "python3"
  },
  "language_info": {
   "codemirror_mode": {
    "name": "ipython",
    "version": 3
   },
   "file_extension": ".py",
   "mimetype": "text/x-python",
   "name": "python",
   "nbconvert_exporter": "python",
   "pygments_lexer": "ipython3",
   "version": "3.5.2"
  }
 },
 "nbformat": 4,
 "nbformat_minor": 2
}
