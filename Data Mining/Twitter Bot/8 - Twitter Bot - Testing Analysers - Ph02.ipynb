{
 "cells": [
  {
   "cell_type": "code",
   "execution_count": 1,
   "metadata": {},
   "outputs": [],
   "source": [
    "# General:\n",
    "import tweepy           # To consume Twitter's API\n",
    "import pandas as pd     # To handle data\n",
    "import numpy as np      # For number computing\n",
    "\n",
    "# For plotting and visualization:\n",
    "from IPython.display import display\n",
    "import matplotlib.pyplot as plt\n",
    "import seaborn as sns\n",
    "%matplotlib inline\n",
    "\n",
    "import pickle"
   ]
  },
  {
   "cell_type": "code",
   "execution_count": 2,
   "metadata": {},
   "outputs": [],
   "source": [
    "dbfile = open('depression_1.pkle', 'rb')     \n",
    "db = pickle.load(dbfile)\n",
    "# for keys in db:\n",
    "#     print(keys, '=>', db[keys])\n",
    "dbfile.close()"
   ]
  },
  {
   "cell_type": "code",
   "execution_count": 3,
   "metadata": {},
   "outputs": [
    {
     "data": {
      "text/plain": [
       "dict"
      ]
     },
     "execution_count": 3,
     "metadata": {},
     "output_type": "execute_result"
    }
   ],
   "source": [
    "type(db[0])"
   ]
  },
  {
   "cell_type": "code",
   "execution_count": 4,
   "metadata": {},
   "outputs": [
    {
     "data": {
      "text/plain": [
       "{'contributors': None,\n",
       " 'coordinates': None,\n",
       " 'created_at': 'Thu Mar 15 17:55:14 +0000 2018',\n",
       " 'entities': {'hashtags': [], 'symbols': [], 'urls': [], 'user_mentions': []},\n",
       " 'favorite_count': 0,\n",
       " 'favorited': False,\n",
       " 'geo': None,\n",
       " 'id': 974343276441559040,\n",
       " 'id_str': '974343276441559040',\n",
       " 'in_reply_to_screen_name': None,\n",
       " 'in_reply_to_status_id': None,\n",
       " 'in_reply_to_status_id_str': None,\n",
       " 'in_reply_to_user_id': None,\n",
       " 'in_reply_to_user_id_str': None,\n",
       " 'is_quote_status': False,\n",
       " 'lang': 'en',\n",
       " 'metadata': {'iso_language_code': 'en', 'result_type': 'recent'},\n",
       " 'place': None,\n",
       " 'retweet_count': 0,\n",
       " 'retweeted': False,\n",
       " 'source': '<a href=\"http://twitter.com/download/iphone\" rel=\"nofollow\">Twitter for iPhone</a>',\n",
       " 'text': 'Constant need for validation causing these mental illness’s and depression I think',\n",
       " 'truncated': False,\n",
       " 'user': {'contributors_enabled': False,\n",
       "  'created_at': 'Tue Dec 29 00:56:36 +0000 2009',\n",
       "  'default_profile': False,\n",
       "  'default_profile_image': False,\n",
       "  'description': 'You got to hate me or love me, that’s how that shit goes',\n",
       "  'entities': {'description': {'urls': []},\n",
       "   'url': {'urls': [{'display_url': 'Instagram.com/millijacob',\n",
       "      'expanded_url': 'http://Instagram.com/millijacob',\n",
       "      'indices': [0, 23],\n",
       "      'url': 'https://t.co/nkWLLzFI5P'}]}},\n",
       "  'favourites_count': 8300,\n",
       "  'follow_request_sent': None,\n",
       "  'followers_count': 3685,\n",
       "  'following': None,\n",
       "  'friends_count': 969,\n",
       "  'geo_enabled': True,\n",
       "  'has_extended_profile': True,\n",
       "  'id': 100092407,\n",
       "  'id_str': '100092407',\n",
       "  'is_translation_enabled': False,\n",
       "  'is_translator': False,\n",
       "  'lang': 'en',\n",
       "  'listed_count': 35,\n",
       "  'location': 'New York City ',\n",
       "  'name': 'MILLI',\n",
       "  'notifications': None,\n",
       "  'profile_background_color': '020405',\n",
       "  'profile_background_image_url': 'http://pbs.twimg.com/profile_background_images/778621602/88553bf51b18fe09a32b11f552e68335.jpeg',\n",
       "  'profile_background_image_url_https': 'https://pbs.twimg.com/profile_background_images/778621602/88553bf51b18fe09a32b11f552e68335.jpeg',\n",
       "  'profile_background_tile': False,\n",
       "  'profile_banner_url': 'https://pbs.twimg.com/profile_banners/100092407/1519875205',\n",
       "  'profile_image_url': 'http://pbs.twimg.com/profile_images/969052397946507265/YbNphcUX_normal.jpg',\n",
       "  'profile_image_url_https': 'https://pbs.twimg.com/profile_images/969052397946507265/YbNphcUX_normal.jpg',\n",
       "  'profile_link_color': '0084B4',\n",
       "  'profile_sidebar_border_color': 'FFFFFF',\n",
       "  'profile_sidebar_fill_color': '010608',\n",
       "  'profile_text_color': '11D99D',\n",
       "  'profile_use_background_image': True,\n",
       "  'protected': False,\n",
       "  'screen_name': 'SoMilli_',\n",
       "  'statuses_count': 183762,\n",
       "  'time_zone': 'Central Time (US & Canada)',\n",
       "  'translator_type': 'none',\n",
       "  'url': 'https://t.co/nkWLLzFI5P',\n",
       "  'utc_offset': -18000,\n",
       "  'verified': False}}"
      ]
     },
     "execution_count": 4,
     "metadata": {},
     "output_type": "execute_result"
    }
   ],
   "source": [
    "db[6]"
   ]
  },
  {
   "cell_type": "code",
   "execution_count": 5,
   "metadata": {},
   "outputs": [],
   "source": [
    "df = pd.DataFrame([db[6]], columns=db[6].keys())"
   ]
  },
  {
   "cell_type": "code",
   "execution_count": 6,
   "metadata": {},
   "outputs": [
    {
     "data": {
      "text/html": [
       "<div>\n",
       "<style scoped>\n",
       "    .dataframe tbody tr th:only-of-type {\n",
       "        vertical-align: middle;\n",
       "    }\n",
       "\n",
       "    .dataframe tbody tr th {\n",
       "        vertical-align: top;\n",
       "    }\n",
       "\n",
       "    .dataframe thead th {\n",
       "        text-align: right;\n",
       "    }\n",
       "</style>\n",
       "<table border=\"1\" class=\"dataframe\">\n",
       "  <thead>\n",
       "    <tr style=\"text-align: right;\">\n",
       "      <th></th>\n",
       "      <th>in_reply_to_screen_name</th>\n",
       "      <th>metadata</th>\n",
       "      <th>favorite_count</th>\n",
       "      <th>retweeted</th>\n",
       "      <th>in_reply_to_user_id_str</th>\n",
       "      <th>source</th>\n",
       "      <th>user</th>\n",
       "      <th>retweet_count</th>\n",
       "      <th>contributors</th>\n",
       "      <th>place</th>\n",
       "      <th>...</th>\n",
       "      <th>entities</th>\n",
       "      <th>in_reply_to_status_id</th>\n",
       "      <th>in_reply_to_status_id_str</th>\n",
       "      <th>id</th>\n",
       "      <th>text</th>\n",
       "      <th>favorited</th>\n",
       "      <th>in_reply_to_user_id</th>\n",
       "      <th>coordinates</th>\n",
       "      <th>lang</th>\n",
       "      <th>is_quote_status</th>\n",
       "    </tr>\n",
       "  </thead>\n",
       "  <tbody>\n",
       "    <tr>\n",
       "      <th>0</th>\n",
       "      <td>None</td>\n",
       "      <td>{'iso_language_code': 'en', 'result_type': 're...</td>\n",
       "      <td>0</td>\n",
       "      <td>False</td>\n",
       "      <td>None</td>\n",
       "      <td>&lt;a href=\"http://twitter.com/download/iphone\" r...</td>\n",
       "      <td>{'favourites_count': 8300, 'profile_sidebar_bo...</td>\n",
       "      <td>0</td>\n",
       "      <td>None</td>\n",
       "      <td>None</td>\n",
       "      <td>...</td>\n",
       "      <td>{'hashtags': [], 'symbols': [], 'user_mentions...</td>\n",
       "      <td>None</td>\n",
       "      <td>None</td>\n",
       "      <td>974343276441559040</td>\n",
       "      <td>Constant need for validation causing these men...</td>\n",
       "      <td>False</td>\n",
       "      <td>None</td>\n",
       "      <td>None</td>\n",
       "      <td>en</td>\n",
       "      <td>False</td>\n",
       "    </tr>\n",
       "  </tbody>\n",
       "</table>\n",
       "<p>1 rows × 24 columns</p>\n",
       "</div>"
      ],
      "text/plain": [
       "  in_reply_to_screen_name                                           metadata  \\\n",
       "0                    None  {'iso_language_code': 'en', 'result_type': 're...   \n",
       "\n",
       "   favorite_count  retweeted in_reply_to_user_id_str  \\\n",
       "0               0      False                    None   \n",
       "\n",
       "                                              source  \\\n",
       "0  <a href=\"http://twitter.com/download/iphone\" r...   \n",
       "\n",
       "                                                user  retweet_count  \\\n",
       "0  {'favourites_count': 8300, 'profile_sidebar_bo...              0   \n",
       "\n",
       "  contributors place       ...         \\\n",
       "0         None  None       ...          \n",
       "\n",
       "                                            entities in_reply_to_status_id  \\\n",
       "0  {'hashtags': [], 'symbols': [], 'user_mentions...                  None   \n",
       "\n",
       "  in_reply_to_status_id_str                  id  \\\n",
       "0                      None  974343276441559040   \n",
       "\n",
       "                                                text favorited  \\\n",
       "0  Constant need for validation causing these men...     False   \n",
       "\n",
       "  in_reply_to_user_id  coordinates lang  is_quote_status  \n",
       "0                None         None   en            False  \n",
       "\n",
       "[1 rows x 24 columns]"
      ]
     },
     "execution_count": 6,
     "metadata": {},
     "output_type": "execute_result"
    }
   ],
   "source": [
    "df"
   ]
  },
  {
   "cell_type": "code",
   "execution_count": 7,
   "metadata": {},
   "outputs": [
    {
     "data": {
      "text/html": [
       "<div>\n",
       "<style scoped>\n",
       "    .dataframe tbody tr th:only-of-type {\n",
       "        vertical-align: middle;\n",
       "    }\n",
       "\n",
       "    .dataframe tbody tr th {\n",
       "        vertical-align: top;\n",
       "    }\n",
       "\n",
       "    .dataframe thead th {\n",
       "        text-align: right;\n",
       "    }\n",
       "</style>\n",
       "<table border=\"1\" class=\"dataframe\">\n",
       "  <thead>\n",
       "    <tr style=\"text-align: right;\">\n",
       "      <th></th>\n",
       "      <th>in_reply_to_screen_name</th>\n",
       "      <th>metadata</th>\n",
       "      <th>favorite_count</th>\n",
       "      <th>retweeted</th>\n",
       "      <th>in_reply_to_user_id_str</th>\n",
       "      <th>source</th>\n",
       "      <th>user</th>\n",
       "      <th>retweet_count</th>\n",
       "      <th>contributors</th>\n",
       "      <th>place</th>\n",
       "      <th>...</th>\n",
       "      <th>in_reply_to_status_id_str</th>\n",
       "      <th>id</th>\n",
       "      <th>text</th>\n",
       "      <th>favorited</th>\n",
       "      <th>in_reply_to_user_id</th>\n",
       "      <th>coordinates</th>\n",
       "      <th>lang</th>\n",
       "      <th>is_quote_status</th>\n",
       "      <th>extended_entities</th>\n",
       "      <th>possibly_sensitive</th>\n",
       "    </tr>\n",
       "  </thead>\n",
       "  <tbody>\n",
       "    <tr>\n",
       "      <th>0</th>\n",
       "      <td>None</td>\n",
       "      <td>{'iso_language_code': 'en', 'result_type': 're...</td>\n",
       "      <td>0</td>\n",
       "      <td>False</td>\n",
       "      <td>None</td>\n",
       "      <td>&lt;a href=\"http://twitter.com/download/iphone\" r...</td>\n",
       "      <td>{'favourites_count': 8300, 'profile_sidebar_bo...</td>\n",
       "      <td>0</td>\n",
       "      <td>None</td>\n",
       "      <td>None</td>\n",
       "      <td>...</td>\n",
       "      <td>None</td>\n",
       "      <td>974343276441559040</td>\n",
       "      <td>Constant need for validation causing these men...</td>\n",
       "      <td>False</td>\n",
       "      <td>None</td>\n",
       "      <td>None</td>\n",
       "      <td>en</td>\n",
       "      <td>False</td>\n",
       "      <td>NaN</td>\n",
       "      <td>NaN</td>\n",
       "    </tr>\n",
       "    <tr>\n",
       "      <th>1</th>\n",
       "      <td>None</td>\n",
       "      <td>{'iso_language_code': 'en', 'result_type': 're...</td>\n",
       "      <td>0</td>\n",
       "      <td>False</td>\n",
       "      <td>None</td>\n",
       "      <td>&lt;a href=\"http://twitter.com/download/iphone\" r...</td>\n",
       "      <td>{'favourites_count': 391, 'profile_sidebar_bor...</td>\n",
       "      <td>0</td>\n",
       "      <td>None</td>\n",
       "      <td>{'bounding_box': {'type': 'Polygon', 'coordina...</td>\n",
       "      <td>...</td>\n",
       "      <td>None</td>\n",
       "      <td>974343270724657152</td>\n",
       "      <td>too bad, depression is coming https://t.co/EXL...</td>\n",
       "      <td>False</td>\n",
       "      <td>None</td>\n",
       "      <td>None</td>\n",
       "      <td>en</td>\n",
       "      <td>False</td>\n",
       "      <td>{'media': [{'video_info': {'aspect_ratio': [24...</td>\n",
       "      <td>0.0</td>\n",
       "    </tr>\n",
       "  </tbody>\n",
       "</table>\n",
       "<p>2 rows × 26 columns</p>\n",
       "</div>"
      ],
      "text/plain": [
       "  in_reply_to_screen_name                                           metadata  \\\n",
       "0                    None  {'iso_language_code': 'en', 'result_type': 're...   \n",
       "1                    None  {'iso_language_code': 'en', 'result_type': 're...   \n",
       "\n",
       "   favorite_count  retweeted in_reply_to_user_id_str  \\\n",
       "0               0      False                    None   \n",
       "1               0      False                    None   \n",
       "\n",
       "                                              source  \\\n",
       "0  <a href=\"http://twitter.com/download/iphone\" r...   \n",
       "1  <a href=\"http://twitter.com/download/iphone\" r...   \n",
       "\n",
       "                                                user  retweet_count  \\\n",
       "0  {'favourites_count': 8300, 'profile_sidebar_bo...              0   \n",
       "1  {'favourites_count': 391, 'profile_sidebar_bor...              0   \n",
       "\n",
       "  contributors                                              place  \\\n",
       "0         None                                               None   \n",
       "1         None  {'bounding_box': {'type': 'Polygon', 'coordina...   \n",
       "\n",
       "          ...         in_reply_to_status_id_str                  id  \\\n",
       "0         ...                              None  974343276441559040   \n",
       "1         ...                              None  974343270724657152   \n",
       "\n",
       "                                                text  favorited  \\\n",
       "0  Constant need for validation causing these men...      False   \n",
       "1  too bad, depression is coming https://t.co/EXL...      False   \n",
       "\n",
       "  in_reply_to_user_id coordinates lang  is_quote_status  \\\n",
       "0                None        None   en            False   \n",
       "1                None        None   en            False   \n",
       "\n",
       "                                   extended_entities  possibly_sensitive  \n",
       "0                                                NaN                 NaN  \n",
       "1  {'media': [{'video_info': {'aspect_ratio': [24...                 0.0  \n",
       "\n",
       "[2 rows x 26 columns]"
      ]
     },
     "execution_count": 7,
     "metadata": {},
     "output_type": "execute_result"
    }
   ],
   "source": [
    "df.append(db[7], ignore_index=True)"
   ]
  },
  {
   "cell_type": "code",
   "execution_count": 9,
   "metadata": {},
   "outputs": [
    {
     "ename": "SyntaxError",
     "evalue": "invalid syntax (<ipython-input-9-c08f3a45e889>, line 1)",
     "output_type": "error",
     "traceback": [
      "\u001b[0;36m  File \u001b[0;32m\"<ipython-input-9-c08f3a45e889>\"\u001b[0;36m, line \u001b[0;32m1\u001b[0m\n\u001b[0;31m    df.(1)\u001b[0m\n\u001b[0m       ^\u001b[0m\n\u001b[0;31mSyntaxError\u001b[0m\u001b[0;31m:\u001b[0m invalid syntax\n"
     ]
    }
   ],
   "source": []
  },
  {
   "cell_type": "code",
   "execution_count": 10,
   "metadata": {},
   "outputs": [
    {
     "name": "stdout",
     "output_type": "stream",
     "text": [
      "7676\n"
     ]
    }
   ],
   "source": [
    "print(7676)"
   ]
  },
  {
   "cell_type": "code",
   "execution_count": null,
   "metadata": {},
   "outputs": [],
   "source": []
  }
 ],
 "metadata": {
  "kernelspec": {
   "display_name": "Python 3",
   "language": "python",
   "name": "python3"
  },
  "language_info": {
   "codemirror_mode": {
    "name": "ipython",
    "version": 3
   },
   "file_extension": ".py",
   "mimetype": "text/x-python",
   "name": "python",
   "nbconvert_exporter": "python",
   "pygments_lexer": "ipython3",
   "version": "3.5.2"
  }
 },
 "nbformat": 4,
 "nbformat_minor": 2
}
