{
 "cells": [
  {
   "cell_type": "code",
   "execution_count": 1,
   "metadata": {},
   "outputs": [],
   "source": [
    "import re\n",
    "import string\n",
    "\n",
    "def remove_characters_before_tokenization(sentence,\n",
    "     keep_apostrophes=False):\n",
    "     sentence = sentence.strip()\n",
    "     if keep_apostrophes:\n",
    "         PATTERN = r'[?|$|&|*|%|@|(|)|~]' # add other characters here to remove them\n",
    "         filtered_sentence = re.sub(PATTERN, r'', sentence)\n",
    "     else:\n",
    "         PATTERN = r'[^a-zA-Z0-9 ]' # only extract alpha-numeric characters\n",
    "         filtered_sentence = re.sub(PATTERN, r'', sentence)\n",
    "     return filtered_sentence "
   ]
  },
  {
   "cell_type": "code",
   "execution_count": 2,
   "metadata": {},
   "outputs": [
    {
     "data": {
      "text/plain": [
       "'Test sentence 1 2 3 4 '"
      ]
     },
     "execution_count": 2,
     "metadata": {},
     "output_type": "execute_result"
    }
   ],
   "source": [
    "remove_characters_before_tokenization('Test sentence 1 2 3 4 @')"
   ]
  },
  {
   "cell_type": "code",
   "execution_count": null,
   "metadata": {},
   "outputs": [],
   "source": []
  },
  {
   "cell_type": "code",
   "execution_count": 3,
   "metadata": {},
   "outputs": [],
   "source": [
    "from contractions import CONTRACTION_MAP\n",
    "\n",
    "def expand_contractions(sentence, contraction_mapping):\n",
    "     contractions_pattern = re.compile('({})'.format('|'.join(contraction_mapping.keys())),\n",
    "     flags=re.IGNORECASE|re.DOTALL)\n",
    "     def expand_match(contraction):\n",
    "         match = contraction.group(0)\n",
    "         first_char = match[0]\n",
    "         expanded_contraction = contraction_mapping.get(match)\\\n",
    "             if contraction_mapping.get(match)\\\n",
    "             else contraction_mapping.get(match.lower())\n",
    "         expanded_contraction = first_char+expanded_contraction[1:]\n",
    "         return expanded_contraction\n",
    "     expanded_sentence = contractions_pattern.sub(expand_match, sentence)\n",
    "     return expanded_sentence "
   ]
  },
  {
   "cell_type": "code",
   "execution_count": 4,
   "metadata": {},
   "outputs": [
    {
     "data": {
      "text/plain": [
       "'This is a test sentence. But this is not one. has not she hearten?'"
      ]
     },
     "execution_count": 4,
     "metadata": {},
     "output_type": "execute_result"
    }
   ],
   "source": [
    "expand_contractions(\"This is a test sentence. But this isn't one. hasn't she hearten?\", CONTRACTION_MAP)"
   ]
  },
  {
   "cell_type": "code",
   "execution_count": null,
   "metadata": {},
   "outputs": [],
   "source": []
  },
  {
   "cell_type": "code",
   "execution_count": 5,
   "metadata": {},
   "outputs": [],
   "source": [
    "import nltk\n",
    "\n",
    "def remove_stopwords(tokens):\n",
    "     stopword_list = nltk.corpus.stopwords.words('english')\n",
    "     filtered_tokens = [token for token in tokens if token not in stopword_list]\n",
    "     return filtered_tokens "
   ]
  },
  {
   "cell_type": "code",
   "execution_count": 6,
   "metadata": {},
   "outputs": [
    {
     "data": {
      "text/plain": [
       "['test', 'sentence', '.', \"n't\", 'one', '.', \"n't\", 'hearten', '?']"
      ]
     },
     "execution_count": 6,
     "metadata": {},
     "output_type": "execute_result"
    }
   ],
   "source": [
    "remove_stopwords(nltk.word_tokenize(\"This is a test sentence. But this isn't one. hasn't she hearten?\".lower()))"
   ]
  },
  {
   "cell_type": "code",
   "execution_count": null,
   "metadata": {},
   "outputs": [],
   "source": []
  },
  {
   "cell_type": "code",
   "execution_count": 7,
   "metadata": {},
   "outputs": [
    {
     "name": "stdout",
     "output_type": "stream",
     "text": [
      "52.23\n",
      "12.5\n",
      "12.8\n",
      "11.61\n",
      "15.5\n",
      "7.49\n",
      "13\n",
      "13.833333333333334\n",
      "19.26146341463415\n",
      "12th and 13th grade\n"
     ]
    }
   ],
   "source": [
    "from textstat.textstat import textstat\n",
    "if __name__ == '__main__':\n",
    "        test_data = \"\"\"Playing games has always been thought to be important to the development of well-balanced and creative children; however, what part, if any, they should play in the lives of adults has never been researched that deeply. I believe that playing games is every bit as important for adults as for children. Not only is taking time out to play games with our children and other adults valuable to building interpersonal relationships but is also a wonderful way to release built up tension.\"\"\"\n",
    "\n",
    "        print(textstat.flesch_reading_ease(test_data))\n",
    "        print(textstat.smog_index(test_data))\n",
    "        print(textstat.flesch_kincaid_grade(test_data))\n",
    "        print(textstat.coleman_liau_index(test_data))\n",
    "        print(textstat.automated_readability_index(test_data))\n",
    "        print(textstat.dale_chall_readability_score(test_data))\n",
    "        print(textstat.difficult_words(test_data))\n",
    "        print(textstat.linsear_write_formula(test_data))\n",
    "        print(textstat.gunning_fog(test_data))\n",
    "        print(textstat.text_standard(test_data))"
   ]
  },
  {
   "cell_type": "code",
   "execution_count": null,
   "metadata": {},
   "outputs": [],
   "source": []
  },
  {
   "cell_type": "code",
   "execution_count": 14,
   "metadata": {},
   "outputs": [
    {
     "name": "stdout",
     "output_type": "stream",
     "text": [
      "String\n",
      "it was the best of times it was the worst of times it was the age of wisdom it was the age of foolishness\n",
      "\n",
      "List\n",
      "['it', 'was', 'the', 'best', 'of', 'times', 'it', 'was', 'the', 'worst', 'of', 'times', 'it', 'was', 'the', 'age', 'of', 'wisdom', 'it', 'was', 'the', 'age', 'of', 'foolishness']\n",
      "\n",
      "Frequencies\n",
      "[4, 4, 4, 1, 4, 2, 4, 4, 4, 1, 4, 2, 4, 4, 4, 2, 4, 1, 4, 4, 4, 2, 4, 1]\n",
      "\n",
      "Pairs\n",
      "<zip object at 0x7fceba18b2c8>\n"
     ]
    }
   ],
   "source": [
    "# count-list-items-1.py\n",
    "\n",
    "wordstring = 'it was the best of times it was the worst of times '\n",
    "wordstring += 'it was the age of wisdom it was the age of foolishness'\n",
    "\n",
    "wordlist = wordstring.split()\n",
    "\n",
    "wordfreq = []\n",
    "for w in wordlist:\n",
    "    wordfreq.append(wordlist.count(w))\n",
    "\n",
    "print(\"String\\n\" + wordstring +\"\\n\")\n",
    "print(\"List\\n\" + str(wordlist) + \"\\n\")\n",
    "print(\"Frequencies\\n\" + str(wordfreq) + \"\\n\")\n",
    "print(\"Pairs\\n\" + str(zip(wordlist, wordfreq)))\n",
    "\n",
    "def word_freq_pair(wordstring):\n",
    "    wordlist = wordstring.split()\n",
    "    \n",
    "    wordfreq = []\n",
    "    \n",
    "    for w in wordlist:\n",
    "        wordfreq.append(wordlist.count(w))\n",
    "        \n",
    "    return list(zip(wordlist, wordfreq))"
   ]
  },
  {
   "cell_type": "code",
   "execution_count": 16,
   "metadata": {},
   "outputs": [
    {
     "name": "stdout",
     "output_type": "stream",
     "text": [
      "[('this', 1), ('is', 3), ('a', 1), ('test', 1), ('sentence', 1), ('is', 3), ('is', 3), ('is.', 1)]\n"
     ]
    }
   ],
   "source": [
    "print((word_freq_pair('this is a test sentence is is is.')))"
   ]
  },
  {
   "cell_type": "code",
   "execution_count": 13,
   "metadata": {},
   "outputs": [
    {
     "name": "stdout",
     "output_type": "stream",
     "text": [
      "Pairs\n",
      "[('it', 4), ('was', 4), ('the', 4), ('best', 1), ('of', 4), ('times', 2), ('it', 4), ('was', 4), ('the', 4), ('worst', 1), ('of', 4), ('times', 2), ('it', 4), ('was', 4), ('the', 4), ('age', 2), ('of', 4), ('wisdom', 1), ('it', 4), ('was', 4), ('the', 4), ('age', 2), ('of', 4), ('foolishness', 1)]\n"
     ]
    }
   ],
   "source": [
    "print(\"Pairs\\n\" + str(list(zip(wordlist, wordfreq))))"
   ]
  },
  {
   "cell_type": "code",
   "execution_count": null,
   "metadata": {},
   "outputs": [],
   "source": []
  },
  {
   "cell_type": "code",
   "execution_count": 17,
   "metadata": {},
   "outputs": [],
   "source": [
    "# Given a list of words, return a dictionary of\n",
    "# word-frequency pairs.\n",
    "\n",
    "def wordListToFreqDict(wordlist):\n",
    "    wordfreq = [wordlist.count(p) for p in wordlist]\n",
    "    return dict(zip(wordlist,wordfreq))"
   ]
  },
  {
   "cell_type": "code",
   "execution_count": null,
   "metadata": {},
   "outputs": [],
   "source": []
  },
  {
   "cell_type": "code",
   "execution_count": 18,
   "metadata": {},
   "outputs": [],
   "source": [
    "# Sort a dictionary of word-frequency pairs in\n",
    "# order of descending frequency.\n",
    "\n",
    "def sortFreqDict(freqdict):\n",
    "    aux = [(freqdict[key], key) for key in freqdict]\n",
    "    aux.sort()\n",
    "    aux.reverse()\n",
    "    return aux"
   ]
  },
  {
   "cell_type": "code",
   "execution_count": 21,
   "metadata": {},
   "outputs": [
    {
     "ename": "TypeError",
     "evalue": "list indices must be integers or slices, not tuple",
     "output_type": "error",
     "traceback": [
      "\u001b[0;31m---------------------------------------------------------------------------\u001b[0m",
      "\u001b[0;31mTypeError\u001b[0m                                 Traceback (most recent call last)",
      "\u001b[0;32m<ipython-input-21-aabb57e4c006>\u001b[0m in \u001b[0;36m<module>\u001b[0;34m()\u001b[0m\n\u001b[0;32m----> 1\u001b[0;31m \u001b[0msortFreqDict\u001b[0m\u001b[0;34m(\u001b[0m\u001b[0;34m(\u001b[0m\u001b[0mword_freq_pair\u001b[0m\u001b[0;34m(\u001b[0m\u001b[0;34m'this is a test sentence is is is.'\u001b[0m\u001b[0;34m)\u001b[0m\u001b[0;34m)\u001b[0m\u001b[0;34m)\u001b[0m\u001b[0;34m\u001b[0m\u001b[0m\n\u001b[0m",
      "\u001b[0;32m<ipython-input-18-9b75deb0e094>\u001b[0m in \u001b[0;36msortFreqDict\u001b[0;34m(freqdict)\u001b[0m\n\u001b[1;32m      3\u001b[0m \u001b[0;34m\u001b[0m\u001b[0m\n\u001b[1;32m      4\u001b[0m \u001b[0;32mdef\u001b[0m \u001b[0msortFreqDict\u001b[0m\u001b[0;34m(\u001b[0m\u001b[0mfreqdict\u001b[0m\u001b[0;34m)\u001b[0m\u001b[0;34m:\u001b[0m\u001b[0;34m\u001b[0m\u001b[0m\n\u001b[0;32m----> 5\u001b[0;31m     \u001b[0maux\u001b[0m \u001b[0;34m=\u001b[0m \u001b[0;34m[\u001b[0m\u001b[0;34m(\u001b[0m\u001b[0mfreqdict\u001b[0m\u001b[0;34m[\u001b[0m\u001b[0mkey\u001b[0m\u001b[0;34m]\u001b[0m\u001b[0;34m,\u001b[0m \u001b[0mkey\u001b[0m\u001b[0;34m)\u001b[0m \u001b[0;32mfor\u001b[0m \u001b[0mkey\u001b[0m \u001b[0;32min\u001b[0m \u001b[0mfreqdict\u001b[0m\u001b[0;34m]\u001b[0m\u001b[0;34m\u001b[0m\u001b[0m\n\u001b[0m\u001b[1;32m      6\u001b[0m     \u001b[0maux\u001b[0m\u001b[0;34m.\u001b[0m\u001b[0msort\u001b[0m\u001b[0;34m(\u001b[0m\u001b[0;34m)\u001b[0m\u001b[0;34m\u001b[0m\u001b[0m\n\u001b[1;32m      7\u001b[0m     \u001b[0maux\u001b[0m\u001b[0;34m.\u001b[0m\u001b[0mreverse\u001b[0m\u001b[0;34m(\u001b[0m\u001b[0;34m)\u001b[0m\u001b[0;34m\u001b[0m\u001b[0m\n",
      "\u001b[0;32m<ipython-input-18-9b75deb0e094>\u001b[0m in \u001b[0;36m<listcomp>\u001b[0;34m(.0)\u001b[0m\n\u001b[1;32m      3\u001b[0m \u001b[0;34m\u001b[0m\u001b[0m\n\u001b[1;32m      4\u001b[0m \u001b[0;32mdef\u001b[0m \u001b[0msortFreqDict\u001b[0m\u001b[0;34m(\u001b[0m\u001b[0mfreqdict\u001b[0m\u001b[0;34m)\u001b[0m\u001b[0;34m:\u001b[0m\u001b[0;34m\u001b[0m\u001b[0m\n\u001b[0;32m----> 5\u001b[0;31m     \u001b[0maux\u001b[0m \u001b[0;34m=\u001b[0m \u001b[0;34m[\u001b[0m\u001b[0;34m(\u001b[0m\u001b[0mfreqdict\u001b[0m\u001b[0;34m[\u001b[0m\u001b[0mkey\u001b[0m\u001b[0;34m]\u001b[0m\u001b[0;34m,\u001b[0m \u001b[0mkey\u001b[0m\u001b[0;34m)\u001b[0m \u001b[0;32mfor\u001b[0m \u001b[0mkey\u001b[0m \u001b[0;32min\u001b[0m \u001b[0mfreqdict\u001b[0m\u001b[0;34m]\u001b[0m\u001b[0;34m\u001b[0m\u001b[0m\n\u001b[0m\u001b[1;32m      6\u001b[0m     \u001b[0maux\u001b[0m\u001b[0;34m.\u001b[0m\u001b[0msort\u001b[0m\u001b[0;34m(\u001b[0m\u001b[0;34m)\u001b[0m\u001b[0;34m\u001b[0m\u001b[0m\n\u001b[1;32m      7\u001b[0m     \u001b[0maux\u001b[0m\u001b[0;34m.\u001b[0m\u001b[0mreverse\u001b[0m\u001b[0;34m(\u001b[0m\u001b[0;34m)\u001b[0m\u001b[0;34m\u001b[0m\u001b[0m\n",
      "\u001b[0;31mTypeError\u001b[0m: list indices must be integers or slices, not tuple"
     ]
    }
   ],
   "source": [
    "sortFreqDict((word_freq_pair('this is a test sentence is is is.')))"
   ]
  },
  {
   "cell_type": "code",
   "execution_count": null,
   "metadata": {},
   "outputs": [],
   "source": []
  },
  {
   "cell_type": "code",
   "execution_count": 22,
   "metadata": {},
   "outputs": [],
   "source": [
    "import nltk\n",
    "\n",
    "def removeStopwords(wordlist):\n",
    "    return [w for w in wordlist if w not in nltk.corpus.stopwords.words('english')]"
   ]
  },
  {
   "cell_type": "code",
   "execution_count": 24,
   "metadata": {},
   "outputs": [
    {
     "data": {
      "text/plain": [
       "['test', 'sentence.']"
      ]
     },
     "execution_count": 24,
     "metadata": {},
     "output_type": "execute_result"
    }
   ],
   "source": [
    "removeStopwords(\"this is a test sentence.\".split(\" \"))"
   ]
  },
  {
   "cell_type": "code",
   "execution_count": null,
   "metadata": {},
   "outputs": [],
   "source": []
  },
  {
   "cell_type": "code",
   "execution_count": 27,
   "metadata": {},
   "outputs": [],
   "source": [
    "# Given a list of n-grams identify the index of the keyword.\n",
    "import obo\n",
    "\n",
    "def nGramsToKWICDict(ngrams):\n",
    "    keyindex = len(ngrams[0]) // 2\n",
    "\n",
    "    return keyindex\n",
    "\n",
    "test = 'this test sentence has eight words in it'\n",
    "ngrams = obo.getNGrams(test.split(), 5)"
   ]
  },
  {
   "cell_type": "code",
   "execution_count": 28,
   "metadata": {},
   "outputs": [
    {
     "data": {
      "text/plain": [
       "[['this', 'test', 'sentence', 'has', 'eight'],\n",
       " ['test', 'sentence', 'has', 'eight', 'words'],\n",
       " ['sentence', 'has', 'eight', 'words', 'in'],\n",
       " ['has', 'eight', 'words', 'in', 'it']]"
      ]
     },
     "execution_count": 28,
     "metadata": {},
     "output_type": "execute_result"
    }
   ],
   "source": [
    "ngrams"
   ]
  },
  {
   "cell_type": "code",
   "execution_count": 30,
   "metadata": {},
   "outputs": [
    {
     "name": "stdout",
     "output_type": "stream",
     "text": [
      "{'words': [['has', 'eight', 'words', 'in', 'it']], 'sentence': [['this', 'test', 'sentence', 'has', 'eight']], 'has': [['test', 'sentence', 'has', 'eight', 'words']], 'eight': [['sentence', 'has', 'eight', 'words', 'in']]}\n"
     ]
    }
   ],
   "source": [
    "# Given a list of n-grams, return a dictionary of KWICs,\n",
    "# indexed by keyword.\n",
    "\n",
    "def nGramsToKWICDict(ngrams):\n",
    "    keyindex = len(ngrams[0]) // 2\n",
    "\n",
    "    kwicdict = {}\n",
    "\n",
    "    for k in ngrams:\n",
    "        if k[keyindex] not in kwicdict:\n",
    "            kwicdict[k[keyindex]] = [k]\n",
    "        else:\n",
    "            kwicdict[k[keyindex]].append(k)\n",
    "    return kwicdict\n",
    "\n",
    "print(nGramsToKWICDict(ngrams))"
   ]
  },
  {
   "cell_type": "code",
   "execution_count": null,
   "metadata": {},
   "outputs": [],
   "source": []
  },
  {
   "cell_type": "code",
   "execution_count": 31,
   "metadata": {},
   "outputs": [],
   "source": [
    "# Given a list of words and a number n, return a list\n",
    "# of n-grams.\n",
    "\n",
    "def getNGrams(wordlist, n):\n",
    "    return [wordlist[i:i+n] for i in range(len(wordlist)-(n-1))]"
   ]
  },
  {
   "cell_type": "code",
   "execution_count": 32,
   "metadata": {},
   "outputs": [],
   "source": [
    "def getNGrams(wordlist, n):\n",
    "    ngrams = []\n",
    "    for i in range(len(wordlist)-(n-1)):\n",
    "        ngrams.append(wordlist[i:i+n])\n",
    "    return ngrams"
   ]
  },
  {
   "cell_type": "code",
   "execution_count": 33,
   "metadata": {},
   "outputs": [
    {
     "name": "stdout",
     "output_type": "stream",
     "text": [
      "[['it', 'was', 'the', 'best', 'of'], ['was', 'the', 'best', 'of', 'times'], ['the', 'best', 'of', 'times', 'it'], ['best', 'of', 'times', 'it', 'was'], ['of', 'times', 'it', 'was', 'the'], ['times', 'it', 'was', 'the', 'worst'], ['it', 'was', 'the', 'worst', 'of'], ['was', 'the', 'worst', 'of', 'times'], ['the', 'worst', 'of', 'times', 'it'], ['worst', 'of', 'times', 'it', 'was'], ['of', 'times', 'it', 'was', 'the'], ['times', 'it', 'was', 'the', 'age'], ['it', 'was', 'the', 'age', 'of'], ['was', 'the', 'age', 'of', 'wisdom'], ['the', 'age', 'of', 'wisdom', 'it'], ['age', 'of', 'wisdom', 'it', 'was'], ['of', 'wisdom', 'it', 'was', 'the'], ['wisdom', 'it', 'was', 'the', 'age'], ['it', 'was', 'the', 'age', 'of'], ['was', 'the', 'age', 'of', 'foolishness']]\n"
     ]
    }
   ],
   "source": [
    "#useGetNGrams.py\n",
    "\n",
    "import obo\n",
    "\n",
    "wordstring = 'it was the best of times it was the worst of times '\n",
    "wordstring += 'it was the age of wisdom it was the age of foolishness'\n",
    "allMyWords = wordstring.split()\n",
    "\n",
    "print(obo.getNGrams(allMyWords, 5))"
   ]
  },
  {
   "cell_type": "code",
   "execution_count": 34,
   "metadata": {},
   "outputs": [
    {
     "data": {
      "text/plain": [
       "[]"
      ]
     },
     "execution_count": 34,
     "metadata": {},
     "output_type": "execute_result"
    }
   ],
   "source": [
    "test1 = 'here are four words'\n",
    "test2 = 'this test sentence has eight words in it'\n",
    "\n",
    "getNGrams(test1.split(), 5)\n",
    "# -> []"
   ]
  },
  {
   "cell_type": "code",
   "execution_count": 35,
   "metadata": {},
   "outputs": [
    {
     "data": {
      "text/plain": [
       "[['this', 'test', 'sentence', 'has', 'eight'],\n",
       " ['test', 'sentence', 'has', 'eight', 'words'],\n",
       " ['sentence', 'has', 'eight', 'words', 'in'],\n",
       " ['has', 'eight', 'words', 'in', 'it']]"
      ]
     },
     "execution_count": 35,
     "metadata": {},
     "output_type": "execute_result"
    }
   ],
   "source": [
    "getNGrams(test2.split(), 5)\n",
    "# -> [['this', 'test', 'sentence', 'has', 'eight'],\n",
    "# ['test', 'sentence', 'has', 'eight', 'words'],\n",
    "# ['sentence', 'has', 'eight', 'words', 'in'],\n",
    "# ['has', 'eight', 'words', 'in', 'it']]"
   ]
  },
  {
   "cell_type": "code",
   "execution_count": null,
   "metadata": {},
   "outputs": [],
   "source": []
  },
  {
   "cell_type": "code",
   "execution_count": 2,
   "metadata": {},
   "outputs": [],
   "source": [
    " tweet='We have some delightful new food in the cafeteria. Awesome!!!'\n",
    " positive_words=['awesome','good', 'nice', 'super', 'fun', 'delightful']\n",
    " negative_words=['awful','lame','horrible','bad']\n",
    " words= tweet.split(' ')"
   ]
  },
  {
   "cell_type": "code",
   "execution_count": 3,
   "metadata": {},
   "outputs": [
    {
     "name": "stdout",
     "output_type": "stream",
     "text": [
      "we have some delightful new food in the cafeteria awesome\n",
      "We have some delightful new food in the cafeteria. Awesome!!!\n"
     ]
    }
   ],
   "source": [
    " from string import punctuation\n",
    " \n",
    " positive_counter=0\n",
    " tweet_processed=tweet.lower()\n",
    " for p in list(punctuation):\n",
    "     tweet_processed=tweet_processed.replace(p,'')\n",
    " \n",
    " print (tweet_processed)\n",
    " print(tweet)"
   ]
  },
  {
   "cell_type": "code",
   "execution_count": 53,
   "metadata": {},
   "outputs": [],
   "source": [
    "# need to fix 4rm 7 - Twitter Bot - Testing Analysers - Ph01\n",
    "\n",
    "from string import punctuation\n",
    "\n",
    "postivie_words = ['delightful', 'awesome']\n",
    "\n",
    "def positivity(positive_words, text):\n",
    "    tweet_processed = text\n",
    "    positive_counter=0\n",
    "    \n",
    "    tweet_processed=tweet.lower()\n",
    "    \n",
    "    for p in list(punctuation):\n",
    "         tweet_processed=tweet_processed.replace(p,'')\n",
    "    \n",
    "    for word in tweet_processed.split(' '):\n",
    "         if word in positive_words:\n",
    "#              print (word+ ' is a positive word')\n",
    "             positive_counter=positive_counter+1\n",
    "    print(tweet_processed)\n",
    "\n",
    "    return positive_counter/len(tweet_processed)    \n"
   ]
  },
  {
   "cell_type": "code",
   "execution_count": 50,
   "metadata": {},
   "outputs": [
    {
     "data": {
      "text/plain": [
       "0.03508771929824561"
      ]
     },
     "execution_count": 50,
     "metadata": {},
     "output_type": "execute_result"
    }
   ],
   "source": [
    "positive_counter/len(tweet_processed)"
   ]
  },
  {
   "cell_type": "code",
   "execution_count": 51,
   "metadata": {},
   "outputs": [
    {
     "data": {
      "text/plain": [
       "2"
      ]
     },
     "execution_count": 51,
     "metadata": {},
     "output_type": "execute_result"
    }
   ],
   "source": [
    "positive_counter"
   ]
  },
  {
   "cell_type": "code",
   "execution_count": 54,
   "metadata": {},
   "outputs": [
    {
     "name": "stdout",
     "output_type": "stream",
     "text": [
      "we have some delightful new food in the cafeteria awesome\n"
     ]
    },
    {
     "data": {
      "text/plain": [
       "0.03508771929824561"
      ]
     },
     "execution_count": 54,
     "metadata": {},
     "output_type": "execute_result"
    }
   ],
   "source": [
    "positivity(positive_words, 'this is! awesome')"
   ]
  },
  {
   "cell_type": "code",
   "execution_count": null,
   "metadata": {},
   "outputs": [],
   "source": []
  },
  {
   "cell_type": "code",
   "execution_count": null,
   "metadata": {},
   "outputs": [],
   "source": []
  },
  {
   "cell_type": "code",
   "execution_count": null,
   "metadata": {},
   "outputs": [],
   "source": []
  },
  {
   "cell_type": "code",
   "execution_count": 2,
   "metadata": {},
   "outputs": [
    {
     "name": "stdout",
     "output_type": "stream",
     "text": [
      "\n",
      " train = [\n",
      "     ('I love this sandwich.', 'pos'),\n",
      "     ('this is an amazing place!', 'pos'),\n",
      "     ('I feel very good about these beers.', 'pos'),\n",
      "     ('this is my best work.', 'pos'),\n",
      "     (\"what an awesome view\", 'pos'),\n",
      "     ('I do not like this restaurant', 'neg'),\n",
      "     ('I am tired of this stuff.', 'neg'),\n",
      "     (\"I can't deal with this\", 'neg'),\n",
      "     ('he is my sworn enemy!', 'neg'),\n",
      "     ('my boss is horrible.', 'neg')\n",
      " ]\n",
      " test = [\n",
      "     ('the beer was good.', 'pos'),\n",
      "     ('I do not enjoy my job', 'neg'),\n",
      "     (\"I ain't feeling dandy today.\", 'neg'),\n",
      "     (\"I feel amazing!\", 'pos'),\n",
      "     ('Gary is a friend of mine.', 'pos'),\n",
      "     (\"I can't believe I'm doing this.\", 'neg')\n",
      " ]\n",
      "\n"
     ]
    }
   ],
   "source": [
    "print(\n",
    "'''\n",
    ">>> train = [\n",
    "...     ('I love this sandwich.', 'pos'),\n",
    "...     ('this is an amazing place!', 'pos'),\n",
    "...     ('I feel very good about these beers.', 'pos'),\n",
    "...     ('this is my best work.', 'pos'),\n",
    "...     (\"what an awesome view\", 'pos'),\n",
    "...     ('I do not like this restaurant', 'neg'),\n",
    "...     ('I am tired of this stuff.', 'neg'),\n",
    "...     (\"I can't deal with this\", 'neg'),\n",
    "...     ('he is my sworn enemy!', 'neg'),\n",
    "...     ('my boss is horrible.', 'neg')\n",
    "... ]\n",
    ">>> test = [\n",
    "...     ('the beer was good.', 'pos'),\n",
    "...     ('I do not enjoy my job', 'neg'),\n",
    "...     (\"I ain't feeling dandy today.\", 'neg'),\n",
    "...     (\"I feel amazing!\", 'pos'),\n",
    "...     ('Gary is a friend of mine.', 'pos'),\n",
    "...     (\"I can't believe I'm doing this.\", 'neg')\n",
    "... ]\n",
    "'''.replace('>>>', '').replace('...', '')\n",
    ")"
   ]
  },
  {
   "cell_type": "code",
   "execution_count": 4,
   "metadata": {},
   "outputs": [],
   "source": [
    "train = [\n",
    "     ('I love this sandwich.', 'pos'),\n",
    "     ('this is an amazing place!', 'pos'),\n",
    "     ('I feel very good about these beers.', 'pos'),\n",
    "     ('this is my best work.', 'pos'),\n",
    "     (\"what an awesome view\", 'pos'),\n",
    "     ('I do not like this restaurant', 'neg'),\n",
    "     ('I am tired of this stuff.', 'neg'),\n",
    "     (\"I can't deal with this\", 'neg'),\n",
    "     ('he is my sworn enemy!', 'neg'),\n",
    "     ('my boss is horrible.', 'neg')\n",
    " ]\n",
    " \n",
    "test = [\n",
    "     ('the beer was good.', 'pos'),\n",
    "     ('I do not enjoy my job', 'neg'),\n",
    "     (\"I ain't feeling dandy today.\", 'neg'),\n",
    "     (\"I feel amazing!\", 'pos'),\n",
    "     ('Gary is a friend of mine.', 'pos'),\n",
    "     (\"I can't believe I'm doing this.\", 'neg')\n",
    " ]\n"
   ]
  },
  {
   "cell_type": "code",
   "execution_count": 69,
   "metadata": {},
   "outputs": [],
   "source": [
    "from textblob.classifiers import NaiveBayesClassifier\n",
    " \n",
    "cl = NaiveBayesClassifier(train)"
   ]
  },
  {
   "cell_type": "code",
   "execution_count": 70,
   "metadata": {},
   "outputs": [
    {
     "data": {
      "text/plain": [
       "'pos'"
      ]
     },
     "execution_count": 70,
     "metadata": {},
     "output_type": "execute_result"
    }
   ],
   "source": [
    "cl.classify(\"This is an amazing library!\")"
   ]
  },
  {
   "cell_type": "code",
   "execution_count": 71,
   "metadata": {},
   "outputs": [],
   "source": [
    "prob_dist = cl.prob_classify(\"This one's a doozy.\")"
   ]
  },
  {
   "cell_type": "code",
   "execution_count": 72,
   "metadata": {},
   "outputs": [
    {
     "data": {
      "text/plain": [
       "'pos'"
      ]
     },
     "execution_count": 72,
     "metadata": {},
     "output_type": "execute_result"
    }
   ],
   "source": [
    "prob_dist.max()"
   ]
  },
  {
   "cell_type": "code",
   "execution_count": 73,
   "metadata": {},
   "outputs": [
    {
     "data": {
      "text/plain": [
       "0.37"
      ]
     },
     "execution_count": 73,
     "metadata": {},
     "output_type": "execute_result"
    }
   ],
   "source": [
    "round(prob_dist.prob(\"neg\"), 2)"
   ]
  },
  {
   "cell_type": "code",
   "execution_count": 79,
   "metadata": {},
   "outputs": [
    {
     "data": {
      "text/plain": [
       "0.8333333333333334"
      ]
     },
     "execution_count": 79,
     "metadata": {},
     "output_type": "execute_result"
    }
   ],
   "source": [
    " cl.accuracy(test)"
   ]
  },
  {
   "cell_type": "code",
   "execution_count": 80,
   "metadata": {},
   "outputs": [
    {
     "name": "stdout",
     "output_type": "stream",
     "text": [
      "Most Informative Features\n",
      "            contains(my) = True              neg : pos    =      1.7 : 1.0\n",
      "            contains(an) = False             neg : pos    =      1.6 : 1.0\n",
      "             contains(I) = True              neg : pos    =      1.4 : 1.0\n",
      "             contains(I) = False             pos : neg    =      1.4 : 1.0\n",
      "            contains(my) = False             pos : neg    =      1.3 : 1.0\n"
     ]
    }
   ],
   "source": [
    "cl.show_informative_features(5)"
   ]
  },
  {
   "cell_type": "code",
   "execution_count": 82,
   "metadata": {},
   "outputs": [
    {
     "name": "stdout",
     "output_type": "stream",
     "text": [
      " new_data = [('She is my best friend.', 'pos'),\n",
      "            (\"I'm happy to have a new friend.\", 'pos'),\n",
      "            (\"Stay thirsty, my friend.\", 'pos'),\n",
      "            (\"He ain't from around here.\", 'neg')]\n",
      "cl.update(new_data)\n"
     ]
    }
   ],
   "source": [
    "print('''>>> new_data = [('She is my best friend.', 'pos'),\n",
    "...             (\"I'm happy to have a new friend.\", 'pos'),\n",
    "...             (\"Stay thirsty, my friend.\", 'pos'),\n",
    "...             (\"He ain't from around here.\", 'neg')]\n",
    ">>> cl.update(new_data)'''.replace('>>>', '').replace('...', ''))"
   ]
  },
  {
   "cell_type": "code",
   "execution_count": 83,
   "metadata": {},
   "outputs": [
    {
     "data": {
      "text/plain": [
       "True"
      ]
     },
     "execution_count": 83,
     "metadata": {},
     "output_type": "execute_result"
    }
   ],
   "source": [
    "new_data = [('She is my best friend.', 'pos'),\n",
    "            (\"I'm happy to have a new friend.\", 'pos'),\n",
    "            (\"Stay thirsty, my friend.\", 'pos'),\n",
    "            (\"He ain't from around here.\", 'neg')]\n",
    "cl.update(new_data)"
   ]
  },
  {
   "cell_type": "code",
   "execution_count": 84,
   "metadata": {},
   "outputs": [
    {
     "data": {
      "text/plain": [
       "1.0"
      ]
     },
     "execution_count": 84,
     "metadata": {},
     "output_type": "execute_result"
    }
   ],
   "source": [
    "cl.accuracy(test)"
   ]
  },
  {
   "cell_type": "code",
   "execution_count": null,
   "metadata": {},
   "outputs": [],
   "source": []
  },
  {
   "cell_type": "code",
   "execution_count": null,
   "metadata": {},
   "outputs": [],
   "source": []
  },
  {
   "cell_type": "code",
   "execution_count": null,
   "metadata": {},
   "outputs": [],
   "source": []
  },
  {
   "cell_type": "code",
   "execution_count": 5,
   "metadata": {},
   "outputs": [],
   "source": [
    "from nltk.corpus import wordnet"
   ]
  },
  {
   "cell_type": "code",
   "execution_count": 6,
   "metadata": {},
   "outputs": [],
   "source": [
    "syns = wordnet.synsets(\"program\")"
   ]
  },
  {
   "cell_type": "code",
   "execution_count": 7,
   "metadata": {},
   "outputs": [
    {
     "name": "stdout",
     "output_type": "stream",
     "text": [
      "plan.n.01\n"
     ]
    }
   ],
   "source": [
    "print(syns[0].name())"
   ]
  },
  {
   "cell_type": "code",
   "execution_count": 8,
   "metadata": {},
   "outputs": [
    {
     "name": "stdout",
     "output_type": "stream",
     "text": [
      "plan\n"
     ]
    }
   ],
   "source": [
    "print(syns[0].lemmas()[0].name())"
   ]
  },
  {
   "cell_type": "code",
   "execution_count": 9,
   "metadata": {},
   "outputs": [
    {
     "name": "stdout",
     "output_type": "stream",
     "text": [
      "a series of steps to be carried out or goals to be accomplished\n"
     ]
    }
   ],
   "source": [
    "print(syns[0].definition())"
   ]
  },
  {
   "cell_type": "code",
   "execution_count": 10,
   "metadata": {},
   "outputs": [
    {
     "name": "stdout",
     "output_type": "stream",
     "text": [
      "['they drew up a six-step plan', 'they discussed plans for a new bond issue']\n"
     ]
    }
   ],
   "source": [
    "print(syns[0].examples())"
   ]
  },
  {
   "cell_type": "code",
   "execution_count": 18,
   "metadata": {},
   "outputs": [
    {
     "name": "stdout",
     "output_type": "stream",
     "text": [
      "they drew up a six-step plan\n"
     ]
    }
   ],
   "source": [
    "print(syns[0].examples()[0])"
   ]
  },
  {
   "cell_type": "code",
   "execution_count": 20,
   "metadata": {},
   "outputs": [
    {
     "name": "stdout",
     "output_type": "stream",
     "text": [
      "[Synset('plan.n.01'), Synset('program.n.02'), Synset('broadcast.n.02'), Synset('platform.n.02'), Synset('program.n.05'), Synset('course_of_study.n.01'), Synset('program.n.07'), Synset('program.n.08'), Synset('program.v.01'), Synset('program.v.02')]\n"
     ]
    }
   ],
   "source": [
    "print(syns)"
   ]
  },
  {
   "cell_type": "code",
   "execution_count": null,
   "metadata": {},
   "outputs": [],
   "source": []
  },
  {
   "cell_type": "code",
   "execution_count": 11,
   "metadata": {},
   "outputs": [
    {
     "name": "stdout",
     "output_type": "stream",
     "text": [
      "{'skillful', 'ripe', 'unspoilt', 'respectable', 'unspoiled', 'just', 'dependable', 'goodness', 'trade_good', 'dear', 'well', 'right', 'safe', 'estimable', 'sound', 'secure', 'adept', 'full', 'in_effect', 'soundly', 'near', 'serious', 'upright', 'honorable', 'in_force', 'commodity', 'thoroughly', 'expert', 'honest', 'effective', 'proficient', 'practiced', 'skilful', 'good', 'salutary', 'beneficial', 'undecomposed'}\n",
      "{'evilness', 'evil', 'badness', 'bad', 'ill'}\n"
     ]
    }
   ],
   "source": [
    "synonyms = []\n",
    "antonyms = []\n",
    "\n",
    "for syn in wordnet.synsets(\"good\"):\n",
    "    for l in syn.lemmas():\n",
    "        synonyms.append(l.name())\n",
    "        if l.antonyms():\n",
    "            antonyms.append(l.antonyms()[0].name())\n",
    "\n",
    "print(set(synonyms))\n",
    "print(set(antonyms))"
   ]
  },
  {
   "cell_type": "code",
   "execution_count": null,
   "metadata": {},
   "outputs": [],
   "source": []
  },
  {
   "cell_type": "code",
   "execution_count": 12,
   "metadata": {},
   "outputs": [
    {
     "name": "stdout",
     "output_type": "stream",
     "text": [
      "0.9090909090909091\n"
     ]
    }
   ],
   "source": [
    "w1 = wordnet.synset('ship.n.01')\n",
    "w2 = wordnet.synset('boat.n.01')\n",
    "print(w1.wup_similarity(w2))"
   ]
  },
  {
   "cell_type": "code",
   "execution_count": 13,
   "metadata": {},
   "outputs": [
    {
     "name": "stdout",
     "output_type": "stream",
     "text": [
      "0.6956521739130435\n"
     ]
    }
   ],
   "source": [
    "w1 = wordnet.synset('ship.n.01')\n",
    "w2 = wordnet.synset('car.n.01')\n",
    "print(w1.wup_similarity(w2))"
   ]
  },
  {
   "cell_type": "code",
   "execution_count": 16,
   "metadata": {},
   "outputs": [
    {
     "name": "stdout",
     "output_type": "stream",
     "text": [
      "0.32\n"
     ]
    }
   ],
   "source": [
    "w1 = wordnet.synset('ship.n.01')\n",
    "w2 = wordnet.synset('cat.n.01')\n",
    "print(w1.wup_similarity(w2))"
   ]
  },
  {
   "cell_type": "code",
   "execution_count": null,
   "metadata": {},
   "outputs": [],
   "source": []
  },
  {
   "cell_type": "code",
   "execution_count": 3,
   "metadata": {},
   "outputs": [],
   "source": [
    "import pickle"
   ]
  },
  {
   "cell_type": "code",
   "execution_count": 3,
   "metadata": {},
   "outputs": [],
   "source": [
    "with open('neg_word_list.pkl', 'rb') as f:\n",
    "    neg_word_list = pickle.load(f)"
   ]
  },
  {
   "cell_type": "code",
   "execution_count": 4,
   "metadata": {},
   "outputs": [
    {
     "data": {
      "text/plain": [
       "4555"
      ]
     },
     "execution_count": 4,
     "metadata": {},
     "output_type": "execute_result"
    }
   ],
   "source": [
    "len(neg_word_list)"
   ]
  },
  {
   "cell_type": "code",
   "execution_count": 5,
   "metadata": {},
   "outputs": [
    {
     "data": {
      "text/plain": [
       "'abnormal'"
      ]
     },
     "execution_count": 5,
     "metadata": {},
     "output_type": "execute_result"
    }
   ],
   "source": [
    "neg_word_list[0]"
   ]
  },
  {
   "cell_type": "code",
   "execution_count": 6,
   "metadata": {},
   "outputs": [],
   "source": [
    "with open('pos_word_list.pkl', 'rb') as f:\n",
    "    pos_word_list = pickle.load(f)"
   ]
  },
  {
   "cell_type": "code",
   "execution_count": 29,
   "metadata": {},
   "outputs": [
    {
     "data": {
      "text/plain": [
       "'able'"
      ]
     },
     "execution_count": 29,
     "metadata": {},
     "output_type": "execute_result"
    }
   ],
   "source": [
    "pos_word_list[0]"
   ]
  },
  {
   "cell_type": "code",
   "execution_count": 48,
   "metadata": {},
   "outputs": [],
   "source": [
    "from nltk.corpus import wordnet\n",
    "\n",
    "from nltk.tokenize import word_tokenize"
   ]
  },
  {
   "cell_type": "code",
   "execution_count": 31,
   "metadata": {},
   "outputs": [],
   "source": [
    "syns = wordnet.synsets(neg_word_list[0])"
   ]
  },
  {
   "cell_type": "code",
   "execution_count": 38,
   "metadata": {},
   "outputs": [
    {
     "name": "stdout",
     "output_type": "stream",
     "text": [
      "['abnormal powers of concentration', 'abnormal amounts of rain', 'abnormal circumstances', 'an abnormal interest in food']\n"
     ]
    }
   ],
   "source": [
    "print(syns[0].examples())"
   ]
  },
  {
   "cell_type": "code",
   "execution_count": 50,
   "metadata": {},
   "outputs": [
    {
     "name": "stdout",
     "output_type": "stream",
     "text": [
      "['abnormal', 'powers', 'of', 'concentration']\n",
      "4\n",
      "['abnormal', 'amounts', 'of', 'rain']\n",
      "4\n",
      "['abnormal', 'circumstances']\n",
      "2\n",
      "['an', 'abnormal', 'interest', 'in', 'food']\n",
      "5\n",
      "an abnormal interest in food\n"
     ]
    }
   ],
   "source": [
    "maxi = 0\n",
    "maxi_item = \"\"\n",
    "\n",
    "for item in syns[0].examples():\n",
    "    if (len(word_tokenize(item))>maxi):\n",
    "        maxi = len(word_tokenize(item))\n",
    "        maxi_item = item\n",
    "    print(word_tokenize(item))\n",
    "    print(len(word_tokenize(item)))\n",
    "        \n",
    "print(maxi_item)"
   ]
  },
  {
   "cell_type": "code",
   "execution_count": null,
   "metadata": {},
   "outputs": [],
   "source": []
  },
  {
   "cell_type": "code",
   "execution_count": 68,
   "metadata": {},
   "outputs": [],
   "source": [
    "from nltk.corpus import wordnet\n",
    "\n",
    "from nltk.tokenize import word_tokenize\n",
    "\n",
    "def get_example_sent(word):\n",
    "    maxi = 0\n",
    "    maxi_item = \"\"\n",
    "\n",
    "    syns = wordnet.synsets(word)\n",
    "    \n",
    "    for item in syns[0].examples():\n",
    "        if (len(word_tokenize(item))>maxi):\n",
    "            maxi = len(word_tokenize(item))\n",
    "            maxi_item = item\n",
    "#         print(word_tokenize(item))\n",
    "#         print(len(word_tokenize(item)))\n",
    "    if maxi_item == '':\n",
    "        maxi_item = word\n",
    "\n",
    "    return(maxi_item)"
   ]
  },
  {
   "cell_type": "code",
   "execution_count": 65,
   "metadata": {},
   "outputs": [
    {
     "data": {
      "text/plain": [
       "'are you going to sit on your fanny and do nothing?'"
      ]
     },
     "execution_count": 65,
     "metadata": {},
     "output_type": "execute_result"
    }
   ],
   "source": [
    "get_example_sent('ass')"
   ]
  },
  {
   "cell_type": "code",
   "execution_count": 66,
   "metadata": {},
   "outputs": [
    {
     "data": {
      "text/plain": [
       "'I do it for the fun of it'"
      ]
     },
     "execution_count": 66,
     "metadata": {},
     "output_type": "execute_result"
    }
   ],
   "source": [
    "get_example_sent('fun')"
   ]
  },
  {
   "cell_type": "code",
   "execution_count": 67,
   "metadata": {},
   "outputs": [
    {
     "data": {
      "text/plain": [
       "'fuck'"
      ]
     },
     "execution_count": 67,
     "metadata": {},
     "output_type": "execute_result"
    }
   ],
   "source": [
    "get_example_sent('fuck')"
   ]
  },
  {
   "cell_type": "code",
   "execution_count": null,
   "metadata": {},
   "outputs": [],
   "source": []
  },
  {
   "cell_type": "code",
   "execution_count": 87,
   "metadata": {},
   "outputs": [],
   "source": [
    "test = [\n",
    "     ('I love this sandwich.', 'pos'),\n",
    "     ('this is an amazing place!', 'pos'),\n",
    "     ('I feel very good about these beers.', 'pos'),\n",
    "     ('this is my best work.', 'pos'),\n",
    "     (\"what an awesome view\", 'pos'),\n",
    "     ('I do not like this restaurant', 'neg'),\n",
    "     ('I am tired of this stuff.', 'neg'),\n",
    "     (\"I can't deal with this\", 'neg'),\n",
    "     ('he is my sworn enemy!', 'neg'),\n",
    "     ('my boss is horrible.', 'neg')\n",
    " ]\n",
    " \n",
    "pos_train = [\n",
    "     (get_example_sent('happy'), 'pos'),\n",
    "     (get_example_sent('fun'), 'pos'),\n",
    "     (get_example_sent('flower'), 'pos'),\n",
    "     (get_example_sent('cheerful'), 'pos'),\n",
    "     (get_example_sent('sweet'), 'pos'),\n",
    "     (get_example_sent('warm'), 'pos')\n",
    " ]\n",
    "\n",
    "neg_train = [\n",
    "     (get_example_sent('hurt'), 'neg'),\n",
    "     (get_example_sent('sad'), 'neg'),\n",
    "     (get_example_sent('depressed'), 'neg'),\n",
    "     (get_example_sent('kill'), 'neg'),\n",
    "     (get_example_sent('angry'), 'neg'),\n",
    "     (get_example_sent('dead'), 'neg')\n",
    " ]"
   ]
  },
  {
   "cell_type": "code",
   "execution_count": 88,
   "metadata": {},
   "outputs": [
    {
     "data": {
      "text/plain": [
       "[('spent many happy days on the beach', 'pos'),\n",
       " ('I do it for the fun of it', 'pos'),\n",
       " ('flower', 'pos'),\n",
       " ('as cheerful as anyone confined to a hospital bed could be', 'pos'),\n",
       " ('sweet', 'pos'),\n",
       " ('The soup warmed slowly on the stove', 'pos')]"
      ]
     },
     "execution_count": 88,
     "metadata": {},
     "output_type": "execute_result"
    }
   ],
   "source": [
    "pos_train"
   ]
  },
  {
   "cell_type": "code",
   "execution_count": 89,
   "metadata": {},
   "outputs": [
    {
     "data": {
      "text/plain": [
       "[('hurt', 'neg'),\n",
       " ('Better by far that you should forget and smile / Than that you should remember and be sad\"- Christina Rossetti',\n",
       "  'neg'),\n",
       " (\"The bad state of her child's health demoralizes her\", 'neg'),\n",
       " ('kill', 'neg'),\n",
       " ('sending angry letters to the papers', 'neg'),\n",
       " ('they buried the dead', 'neg')]"
      ]
     },
     "execution_count": 89,
     "metadata": {},
     "output_type": "execute_result"
    }
   ],
   "source": [
    "neg_train"
   ]
  },
  {
   "cell_type": "code",
   "execution_count": 90,
   "metadata": {},
   "outputs": [],
   "source": [
    "train = neg_train + pos_train"
   ]
  },
  {
   "cell_type": "code",
   "execution_count": 91,
   "metadata": {},
   "outputs": [],
   "source": [
    "from textblob.classifiers import NaiveBayesClassifier\n",
    " \n",
    "cl = NaiveBayesClassifier(train)"
   ]
  },
  {
   "cell_type": "code",
   "execution_count": 96,
   "metadata": {},
   "outputs": [
    {
     "data": {
      "text/plain": [
       "'neg'"
      ]
     },
     "execution_count": 96,
     "metadata": {},
     "output_type": "execute_result"
    }
   ],
   "source": [
    "cl.classify(\"This is an sad!\")"
   ]
  },
  {
   "cell_type": "code",
   "execution_count": 102,
   "metadata": {},
   "outputs": [],
   "source": [
    "prob_dist = cl.prob_classify(\"This is an sad!\")"
   ]
  },
  {
   "cell_type": "code",
   "execution_count": 103,
   "metadata": {},
   "outputs": [
    {
     "data": {
      "text/plain": [
       "0.74"
      ]
     },
     "execution_count": 103,
     "metadata": {},
     "output_type": "execute_result"
    }
   ],
   "source": [
    "round(prob_dist.prob(\"neg\"), 2)"
   ]
  },
  {
   "cell_type": "code",
   "execution_count": 104,
   "metadata": {},
   "outputs": [],
   "source": [
    "prob_dist = cl.prob_classify(\"This is an sad hurt!\")"
   ]
  },
  {
   "cell_type": "code",
   "execution_count": 105,
   "metadata": {},
   "outputs": [
    {
     "data": {
      "text/plain": [
       "0.91"
      ]
     },
     "execution_count": 105,
     "metadata": {},
     "output_type": "execute_result"
    }
   ],
   "source": [
    "round(prob_dist.prob(\"neg\"), 2)"
   ]
  },
  {
   "cell_type": "code",
   "execution_count": null,
   "metadata": {},
   "outputs": [],
   "source": []
  },
  {
   "cell_type": "code",
   "execution_count": 4,
   "metadata": {},
   "outputs": [],
   "source": [
    "with open('pos_word_list.pkl', 'rb') as f:\n",
    "    pos_word_list = pickle.load(f)"
   ]
  },
  {
   "cell_type": "code",
   "execution_count": 5,
   "metadata": {},
   "outputs": [],
   "source": [
    "with open('neg_word_list.pkl', 'rb') as f:\n",
    "    neg_word_list = pickle.load(f)"
   ]
  },
  {
   "cell_type": "code",
   "execution_count": 6,
   "metadata": {},
   "outputs": [],
   "source": [
    "from nltk.corpus import wordnet\n",
    "\n",
    "from nltk.tokenize import word_tokenize\n",
    "\n",
    "def get_example_sent(word):\n",
    "    maxi = 0\n",
    "    maxi_item = \"\"\n",
    "\n",
    "    syns = wordnet.synsets(word)\n",
    "    \n",
    "    if syns == '':\n",
    "        return word\n",
    "    \n",
    "    for item in syns[0].examples():\n",
    "        if (len(word_tokenize(item))>maxi):\n",
    "            maxi = len(word_tokenize(item))\n",
    "            maxi_item = item\n",
    "#         print(word_tokenize(item))\n",
    "#         print(len(word_tokenize(item)))\n",
    "    if maxi_item == '':\n",
    "        maxi_item = word\n",
    "\n",
    "    return(maxi_item)"
   ]
  },
  {
   "cell_type": "code",
   "execution_count": 7,
   "metadata": {},
   "outputs": [
    {
     "name": "stdout",
     "output_type": "stream",
     "text": [
      "we were at last able to buy a car\n",
      "I cannot accept the dogma of this church\n",
      "acceptance of Newtonian mechanics was unquestioned for 200 years\n",
      "performances varied from acceptable to excellent\n",
      "I cannot accept the dogma of this church\n",
      "I cannot accept the dogma of this church\n",
      "there were stories of murders and other unnatural actions\n",
      "trigger a reaction\n",
      "active\n",
      "add\n"
     ]
    }
   ],
   "source": [
    "pos_train = []\n",
    "\n",
    "for i in range(10):\n",
    "    pos_sent = get_example_sent(pos_word_list[i])\n",
    "    print(pos_sent)\n",
    "    pos_train.append((pos_sent, 'pos'))"
   ]
  },
  {
   "cell_type": "code",
   "execution_count": 8,
   "metadata": {},
   "outputs": [
    {
     "name": "stdout",
     "output_type": "stream",
     "text": [
      "able\n",
      "accept\n",
      "acceptance\n",
      "acceptable\n",
      "accepted\n",
      "accepting\n",
      "action\n",
      "activate\n",
      "active\n",
      "add\n"
     ]
    }
   ],
   "source": [
    "for i in range(10):\n",
    "    print((pos_word_list[i]))"
   ]
  },
  {
   "cell_type": "code",
   "execution_count": 9,
   "metadata": {},
   "outputs": [
    {
     "name": "stdout",
     "output_type": "stream",
     "text": [
      "an abnormal interest in food\n",
      "slavery was abolished in the mid-19th century in america and in russia\n",
      "consequences odious to those you govern\"- edmund burke\n",
      "i don't know anyone who could have behaved so abominably\n",
      "i loathe that man\n",
      "abomination\n",
      "he sent a short message requesting an abort due to extreme winds in the area\n",
      "abort the process running on my computer\n",
      "he sent a short message requesting an abort due to extreme winds in the area\n",
      "abrade\n"
     ]
    }
   ],
   "source": [
    "neg_train = []\n",
    "\n",
    "for i in range(10):\n",
    "    neg_sent = get_example_sent(neg_word_list[i]).lower()\n",
    "    print(neg_sent)\n",
    "    neg_train.append((neg_sent, 'neg'))"
   ]
  },
  {
   "cell_type": "code",
   "execution_count": 10,
   "metadata": {},
   "outputs": [
    {
     "name": "stdout",
     "output_type": "stream",
     "text": [
      "abnormal\n",
      "abolish\n",
      "abominable\n",
      "abominably\n",
      "abominate\n",
      "abomination\n",
      "abort\n",
      "aborted\n",
      "aborts\n",
      "abrade\n"
     ]
    }
   ],
   "source": [
    "for i in range(10):\n",
    "    print((neg_word_list[i]))"
   ]
  },
  {
   "cell_type": "code",
   "execution_count": 11,
   "metadata": {},
   "outputs": [
    {
     "data": {
      "text/plain": [
       "[('an abnormal interest in food', 'neg'),\n",
       " ('slavery was abolished in the mid-19th century in america and in russia',\n",
       "  'neg'),\n",
       " ('consequences odious to those you govern\"- edmund burke', 'neg'),\n",
       " (\"i don't know anyone who could have behaved so abominably\", 'neg'),\n",
       " ('i loathe that man', 'neg'),\n",
       " ('abomination', 'neg'),\n",
       " ('he sent a short message requesting an abort due to extreme winds in the area',\n",
       "  'neg'),\n",
       " ('abort the process running on my computer', 'neg'),\n",
       " ('he sent a short message requesting an abort due to extreme winds in the area',\n",
       "  'neg'),\n",
       " ('abrade', 'neg')]"
      ]
     },
     "execution_count": 11,
     "metadata": {},
     "output_type": "execute_result"
    }
   ],
   "source": [
    "neg_train"
   ]
  },
  {
   "cell_type": "code",
   "execution_count": 12,
   "metadata": {},
   "outputs": [
    {
     "data": {
      "text/plain": [
       "[('we were at last able to buy a car', 'pos'),\n",
       " ('I cannot accept the dogma of this church', 'pos'),\n",
       " ('acceptance of Newtonian mechanics was unquestioned for 200 years', 'pos'),\n",
       " ('performances varied from acceptable to excellent', 'pos'),\n",
       " ('I cannot accept the dogma of this church', 'pos'),\n",
       " ('I cannot accept the dogma of this church', 'pos'),\n",
       " ('there were stories of murders and other unnatural actions', 'pos'),\n",
       " ('trigger a reaction', 'pos'),\n",
       " ('active', 'pos'),\n",
       " ('add', 'pos')]"
      ]
     },
     "execution_count": 12,
     "metadata": {},
     "output_type": "execute_result"
    }
   ],
   "source": [
    "pos_train"
   ]
  },
  {
   "cell_type": "code",
   "execution_count": 13,
   "metadata": {},
   "outputs": [],
   "source": [
    "neg_train = []\n",
    "\n",
    "for i in range(len(neg_word_list)):\n",
    "    try:\n",
    "        neg_sent = get_example_sent(neg_word_list[i]).lower()\n",
    "    #     print(str(i) + ' ' + neg_sent)\n",
    "        neg_train.append((neg_sent, 'neg'))\n",
    "    except:\n",
    "        neg_train.append((neg_word_list[i], 'neg'))\n",
    "        pass"
   ]
  },
  {
   "cell_type": "code",
   "execution_count": 14,
   "metadata": {},
   "outputs": [
    {
     "data": {
      "text/plain": [
       "4555"
      ]
     },
     "execution_count": 14,
     "metadata": {},
     "output_type": "execute_result"
    }
   ],
   "source": [
    "len(neg_train)"
   ]
  },
  {
   "cell_type": "code",
   "execution_count": 15,
   "metadata": {},
   "outputs": [
    {
     "data": {
      "text/plain": [
       "4555"
      ]
     },
     "execution_count": 15,
     "metadata": {},
     "output_type": "execute_result"
    }
   ],
   "source": [
    "len(neg_word_list)"
   ]
  },
  {
   "cell_type": "code",
   "execution_count": 18,
   "metadata": {},
   "outputs": [],
   "source": [
    "pos_train = []\n",
    "\n",
    "for i in range(len(pos_word_list)):\n",
    "    try:\n",
    "        pos_sent = get_example_sent(pos_word_list[i]).lower()\n",
    "    #     print(str(i) + ' ' + neg_sent)\n",
    "        pos_train.append((pos_sent, 'pos'))\n",
    "    except:\n",
    "        pos_train.append((pos_word_list[i], 'pos'))\n",
    "        pass"
   ]
  },
  {
   "cell_type": "code",
   "execution_count": 19,
   "metadata": {},
   "outputs": [
    {
     "data": {
      "text/plain": [
       "1563"
      ]
     },
     "execution_count": 19,
     "metadata": {},
     "output_type": "execute_result"
    }
   ],
   "source": [
    "len(pos_train)"
   ]
  },
  {
   "cell_type": "code",
   "execution_count": 20,
   "metadata": {},
   "outputs": [
    {
     "data": {
      "text/plain": [
       "1563"
      ]
     },
     "execution_count": 20,
     "metadata": {},
     "output_type": "execute_result"
    }
   ],
   "source": [
    "len(pos_word_list)"
   ]
  },
  {
   "cell_type": "code",
   "execution_count": 23,
   "metadata": {},
   "outputs": [],
   "source": [
    "train = pos_train + neg_train"
   ]
  },
  {
   "cell_type": "code",
   "execution_count": null,
   "metadata": {},
   "outputs": [],
   "source": []
  },
  {
   "cell_type": "code",
   "execution_count": 9,
   "metadata": {},
   "outputs": [],
   "source": [
    "from sys import getsizeof"
   ]
  },
  {
   "cell_type": "code",
   "execution_count": 25,
   "metadata": {},
   "outputs": [
    {
     "data": {
      "text/plain": [
       "49.008"
      ]
     },
     "execution_count": 25,
     "metadata": {},
     "output_type": "execute_result"
    }
   ],
   "source": [
    "getsizeof(train)/1000"
   ]
  },
  {
   "cell_type": "code",
   "execution_count": null,
   "metadata": {},
   "outputs": [],
   "source": []
  },
  {
   "cell_type": "code",
   "execution_count": 26,
   "metadata": {},
   "outputs": [],
   "source": [
    "# with open('pos_neg_word_list.pkl', 'wb') as f:\n",
    "#      pickle.dump(train, f)"
   ]
  },
  {
   "cell_type": "code",
   "execution_count": 6,
   "metadata": {},
   "outputs": [],
   "source": [
    "import pickle\n",
    "\n",
    "with open('pos_neg_word_list.pkl', 'rb') as f:\n",
    "     trn = pickle.load(f)"
   ]
  },
  {
   "cell_type": "code",
   "execution_count": null,
   "metadata": {},
   "outputs": [
    {
     "name": "stdout",
     "output_type": "stream",
     "text": [
      "Started Training!\n",
      "Training Model!\n"
     ]
    }
   ],
   "source": [
    "from textblob.classifiers import NaiveBayesClassifier\n",
    " \n",
    "print(\"Started Training!\")\n",
    "print(\"Training Model!\")\n",
    "cl = NaiveBayesClassifier(trn)\n",
    "print(\"Training Complete!\")"
   ]
  },
  {
   "cell_type": "code",
   "execution_count": 6,
   "metadata": {},
   "outputs": [
    {
     "data": {
      "text/plain": [
       "[('we were at last able to buy a car', 'pos'),\n",
       " ('i cannot accept the dogma of this church', 'pos'),\n",
       " ('acceptance of newtonian mechanics was unquestioned for 200 years', 'pos'),\n",
       " ('performances varied from acceptable to excellent', 'pos'),\n",
       " ('i cannot accept the dogma of this church', 'pos'),\n",
       " ('i cannot accept the dogma of this church', 'pos'),\n",
       " ('there were stories of murders and other unnatural actions', 'pos'),\n",
       " ('trigger a reaction', 'pos'),\n",
       " ('active', 'pos'),\n",
       " ('add', 'pos'),\n",
       " ('the addition of a bathroom was a major improvement', 'pos'),\n",
       " ('adorable', 'pos'),\n",
       " ('the experience gave him the advantage over me', 'pos'),\n",
       " ('his story confirmed my doubts', 'pos'),\n",
       " ('the ageless themes of love and revenge', 'pos'),\n",
       " ('i hold with those who say life is sacred', 'pos'),\n",
       " ('my idea of an agreeable person...is a person who agrees with me\"- disraeli',\n",
       "  'pos'),\n",
       " ('visual aids in teaching', 'pos'),\n",
       " ('it was created with the conscious aim of answering immediate needs', 'pos'),\n",
       " ('an age of abundance', 'pos'),\n",
       " ('accountability', 'pos'),\n",
       " ('accomplishment', 'pos'),\n",
       " ('execute the decision of the people', 'pos'),\n",
       " ('he was beginning to doubt the accuracy of his compass', 'pos'),\n",
       " ('achievement', 'pos'),\n",
       " ('she achieved her goal despite setbacks', 'pos'),\n",
       " ('she seems to avoid much in the way of recognition or acknowledgement of feminist work prior to her own',\n",
       "  'pos'),\n",
       " ('adaptability', 'pos'),\n",
       " ('adventure', 'pos'),\n",
       " ('the risks and gains of an adventuresome economy', 'pos'),\n",
       " ('agility', 'pos'),\n",
       " ('wakefulness, watchfulness, and bellicosity make a good hunter', 'pos'),\n",
       " ('his ambition is to own his own business', 'pos'),\n",
       " ('anticipation', 'pos'),\n",
       " ('appreciate', 'pos'),\n",
       " ('he has a good grasp of accounting practices', 'pos'),\n",
       " ('was appreciative of his efforts', 'pos'),\n",
       " ('appreciativeness', 'pos'),\n",
       " ('assertiveness', 'pos'),\n",
       " ('an energetic assertive boy who was always ready to argue', 'pos'),\n",
       " ('he spends without heed to the consequences', 'pos'),\n",
       " ('audacity', 'pos'),\n",
       " ('aware that he had exceeded the speed limit', 'pos'),\n",
       " ('his sudden consciousness of the problem he faced', 'pos'),\n",
       " ('an authentic account by an eyewitness', 'pos'),\n",
       " ('authenticity', 'pos'),\n",
       " ('abracadabra', 'pos'),\n",
       " ('attraction', 'pos'),\n",
       " (\"this sealed door won't allow the water come into the basement\", 'pos'),\n",
       " (\"this sealed door won't allow the water come into the basement\", 'pos'),\n",
       " ('the warmness of his welcome made us feel right at home', 'pos'),\n",
       " ('fond of his nephew', 'pos'),\n",
       " ('the liquids, light, and gases absorb', 'pos'),\n",
       " ('bombers were put on alert during the crisis', 'pos'),\n",
       " ('your ability to speak six languages amazes me!', 'pos'),\n",
       " ('he stared over the edge with a feeling of awe', 'pos'),\n",
       " ('the famous professor awed the undergraduates', 'pos'),\n",
       " ('these paintings exalt the imagination', 'pos'),\n",
       " ('these paintings exalt the imagination', 'pos'),\n",
       " ('these paintings exalt the imagination', 'pos'),\n",
       " ('life depends on many chemical and physical processes', 'pos'),\n",
       " ('animateness', 'pos'),\n",
       " ('a fervent desire to change society', 'pos'),\n",
       " ('your ability to speak six languages amazes me!', 'pos'),\n",
       " ('this sea, whose gently awful stirrings seem to speak of some hidden soul beneath\"- melville',\n",
       "  'pos'),\n",
       " ('awesomeness', 'pos'),\n",
       " ('raise a smile', 'pos'),\n",
       " ('your ability to speak six languages amazes me!', 'pos'),\n",
       " ('your ability to speak six languages amazes me!', 'pos'),\n",
       " ('the play amused the ladies', 'pos'),\n",
       " ('open a window and let in some air', 'pos'),\n",
       " ('airness', 'pos'),\n",
       " ('aloha', 'pos'),\n",
       " ('he just adored his wife', 'pos'),\n",
       " ('admire', 'pos'),\n",
       " ('his taste was impeccable, his health admirable', 'pos'),\n",
       " ('allure', 'pos'),\n",
       " ('angel', 'pos'),\n",
       " ('a saintly concern for his fellow men', 'pos'),\n",
       " ('altruism', 'pos'),\n",
       " ('altruistic', 'pos'),\n",
       " ('abound', 'pos'),\n",
       " ('abounding', 'pos'),\n",
       " ('abounds', 'pos'),\n",
       " ('an abundant supply of water', 'pos'),\n",
       " ('no mortal being can influence the absolute', 'pos'),\n",
       " ('you can be dead sure of my innocence', 'pos'),\n",
       " ('a town accessible by rail', 'pos'),\n",
       " ('the critics hailed the young pianist as a new rubinstein', 'pos'),\n",
       " ('this suits my needs', 'pos'),\n",
       " ('this suits my needs', 'pos'),\n",
       " ('accommodation', 'pos'),\n",
       " ('this suits my needs', 'pos'),\n",
       " ('had ample food for the party', 'pos'),\n",
       " ('was appreciative of his efforts', 'pos'),\n",
       " ('joy', 'pos'),\n",
       " ('amin', 'pos'),\n",
       " ('accentuactivity', 'pos'),\n",
       " ('actability', 'pos'),\n",
       " ('an affable smile', 'pos'),\n",
       " ('the smartness of the pace soon exhausted him', 'pos'),\n",
       " ('altrucause', 'pos'),\n",
       " ('an amiable villain with a cocky sidelong grin\"- hal hinson', 'pos'),\n",
       " ('your ability to speak six languages amazes me!', 'pos'),\n",
       " ('a remarkably attractive young man', 'pos'),\n",
       " ('doctors are working hard to keep him alive', 'pos'),\n",
       " ('life depends on many chemical and physical processes', 'pos'),\n",
       " ('they gave him more eclat than he really deserved', 'pos'),\n",
       " ('an abundant supply of water', 'pos'),\n",
       " ('to my immense gratification he arrived on time', 'pos'),\n",
       " ('they gave him more eclat than he really deserved', 'pos'),\n",
       " ('execute the decision of the people', 'pos'),\n",
       " ('accomplishments', 'pos'),\n",
       " ('the accounting was accurate', 'pos'),\n",
       " ('he works very accurately', 'pos'),\n",
       " ('achievable', 'pos'),\n",
       " ('achievements', 'pos'),\n",
       " ('there were stories of murders and other unnatural actions', 'pos'),\n",
       " ('for', 'pos'),\n",
       " ('happiness', 'pos'),\n",
       " ('active', 'pos'),\n",
       " ('and', 'pos'),\n",
       " ('a constructive attitude', 'pos'),\n",
       " ('steps', 'pos'),\n",
       " ('acts', 'pos'),\n",
       " ('of', 'pos'),\n",
       " ('kindness', 'pos'),\n",
       " ('the frame was adaptable to cloth bolts of different widths', 'pos'),\n",
       " ('the adaptive coloring of a chameleon', 'pos'),\n",
       " ('she was adequate to the job', 'pos'),\n",
       " (\"the children's responses were admirably normal\", 'pos'),\n",
       " ('admiration', 'pos'),\n",
       " ('admired', 'pos'),\n",
       " ('he just adored his wife', 'pos'),\n",
       " ('he just adored his wife', 'pos'),\n",
       " ('he looked at his wife adoringly', 'pos'),\n",
       " ('time marches on', 'pos'),\n",
       " ('a contract advantageous to our country', 'pos'),\n",
       " ('the children were settled advantageously in seattle', 'pos'),\n",
       " ('the experience gave him the advantage over me', 'pos'),\n",
       " ('affability', 'pos'),\n",
       " (\"`come and visit me,' he said amiably\", 'pos'),\n",
       " ('affinity', 'pos'),\n",
       " ('affirmation', 'pos'),\n",
       " ('he answered in the affirmative', 'pos'),\n",
       " ('the richness all around unsettled him for he had expected to find poverty',\n",
       "  'pos'),\n",
       " ('the so-called emerging affluents', 'pos'),\n",
       " (\"i can't afford to spend two hours with this person\", 'pos'),\n",
       " ('low-cost housing', 'pos'),\n",
       " ('affordably', 'pos'),\n",
       " ('the old dog was so spry it was halfway up the stairs before we could stop it',\n",
       "  'pos'),\n",
       " ('nimbly scaling an iron gate\"- charles dickens', 'pos'),\n",
       " ('a well trained staff saw to the agreeableness of our accommodations',\n",
       "  'pos'),\n",
       " ('we spent a pleasantly lazy afternoon', 'pos'),\n",
       " ('align the sheets of paper on the table', 'pos'),\n",
       " ('we sat up all night', 'pos'),\n",
       " ('this is not a good answer', 'pos'),\n",
       " ('well', 'pos'),\n",
       " ('we were tempted by the delicious-looking food', 'pos'),\n",
       " ('alluringly', 'pos'),\n",
       " ('what option did i have?', 'pos'),\n",
       " ('healing', 'pos'),\n",
       " ('he acted selflessly when he helped the old lady in distress', 'pos'),\n",
       " ('your ability to speak six languages amazes me!', 'pos'),\n",
       " ('he looked at me in astonishment', 'pos'),\n",
       " ('your ability to speak six languages amazes me!', 'pos'),\n",
       " ('amazingly, he finished medical school in three years', 'pos'),\n",
       " ('amiability', 'pos'),\n",
       " ('amicability', 'pos'),\n",
       " ('amicable', 'pos'),\n",
       " ('they separated amicably', 'pos'),\n",
       " ('the play amused the ladies', 'pos'),\n",
       " ('an appeal to the public to keep calm', 'pos'),\n",
       " ('he was found guilty but appealed immediately', 'pos'),\n",
       " ('applaud', 'pos'),\n",
       " ('appreciable amounts of noxious wastes are dumped into the harbor', 'pos'),\n",
       " ('appreciated', 'pos'),\n",
       " ('appreciates', 'pos'),\n",
       " ('he has a good grasp of accounting practices', 'pos'),\n",
       " ('of', 'pos'),\n",
       " ('beauty', 'pos'),\n",
       " ('he accepted my offer appreciatively', 'pos'),\n",
       " ('i will earmark this money for your research', 'pos'),\n",
       " ('his decision merited the approval of any sensible person', 'pos'),\n",
       " ('i approve of his educational policies', 'pos'),\n",
       " ('they were imbued with a revolutionary ardor', 'pos'),\n",
       " ('a fine collection of art', 'pos'),\n",
       " ('of', 'pos'),\n",
       " ('he has a good grasp of accounting practices', 'pos'),\n",
       " ('a fine collection of art', 'pos'),\n",
       " ('of', 'pos'),\n",
       " ('the still of the night', 'pos'),\n",
       " ('a fine collection of art', 'pos'),\n",
       " ('of', 'pos'),\n",
       " ('the town was finally on the upbeat after our recent troubles', 'pos'),\n",
       " ('his assurance in his superiority did not make him popular', 'pos'),\n",
       " ('a', 'pos'),\n",
       " ('the reason that war was declared', 'pos'),\n",
       " ('for', 'pos'),\n",
       " ('a point of view gradually coming into being', 'pos'),\n",
       " ('acaronar', 'pos'),\n",
       " ('the warden was always accommodating in allowing visitors in', 'pos'),\n",
       " ('altitudinarian', 'pos'),\n",
       " ('your ability to speak six languages amazes me!', 'pos'),\n",
       " ('i listened to his words very closely', 'pos'),\n",
       " (\"`come and visit me,' he said amiably\", 'pos'),\n",
       " ('an award for bravery', 'pos'),\n",
       " ('acumen', 'pos'),\n",
       " ('adjustable seat belts', 'pos'),\n",
       " ('all their supporters came out for the game', 'pos'),\n",
       " ('admiring', 'pos'),\n",
       " ('he looked at his wife admiringly', 'pos'),\n",
       " ('she had many admirers', 'pos'),\n",
       " ('his adroit replies to hecklers won him many followers', 'pos'),\n",
       " ('he handled the situation adroitly', 'pos'),\n",
       " ('adulated', 'pos'),\n",
       " ('adulation', 'pos'),\n",
       " ('they listened with flattering interest', 'pos'),\n",
       " ('the risks and gains of an adventuresome economy', 'pos'),\n",
       " ('the travel agent recommended strongly that we not travel on thanksgiving day',\n",
       "  'pos'),\n",
       " ('ambitious', 'pos'),\n",
       " ('she pursued her goals ambitiously', 'pos'),\n",
       " ('the editor improved the manuscript with his changes', 'pos'),\n",
       " ('a well trained staff saw to the agreeableness of our accommodations',\n",
       "  'pos'),\n",
       " ('amity', 'pos'),\n",
       " ('these voices were amply represented', 'pos'),\n",
       " ('the play amused the ladies', 'pos'),\n",
       " ('hollywood has grown too sophisticated to turn out anything really amusingly bad these days',\n",
       "  'pos'),\n",
       " ('apotheosis', 'pos'),\n",
       " ('i assume his train was late', 'pos'),\n",
       " ('your', 'pos'),\n",
       " ('how many cars does she have?', 'pos'),\n",
       " ('the value assigned was 16 milliseconds', 'pos'),\n",
       " ('amazingly, he finished medical school in three years', 'pos'),\n",
       " ('he looked at me in astonishment', 'pos'),\n",
       " ('attributional', 'pos'),\n",
       " ('in the characteristic new york style', 'pos'),\n",
       " ('questionnaire', 'pos'),\n",
       " ('asq', 'pos'),\n",
       " ('an authentic account by an eyewitness', 'pos'),\n",
       " ('happiness', 'pos'),\n",
       " ('he was roused by the drunken men in the street', 'pos'),\n",
       " ('it was the waking up he hated most', 'pos'),\n",
       " ('the children were thrilled at the prospect of going to the movies', 'pos'),\n",
       " ('beatitude', 'pos'),\n",
       " ('an arms limitation agreement beneficial to all countries', 'pos'),\n",
       " ('benefit', 'pos'),\n",
       " ('a benevolent society', 'pos'),\n",
       " ('beloved', 'pos'),\n",
       " ('they did their best', 'pos'),\n",
       " ('a change for the better', 'pos'),\n",
       " ('the dying man blessed his son', 'pos'),\n",
       " ('his decision merited the approval of any sensible person', 'pos'),\n",
       " ('the dying man blessed his son', 'pos'),\n",
       " ('bliss', 'pos'),\n",
       " ('blissfulness', 'pos'),\n",
       " ('blissful young lovers', 'pos'),\n",
       " ('you will stop all bloom if you let the flowers go to seed', 'pos'),\n",
       " ('blossom', 'pos'),\n",
       " ('balance', 'pos'),\n",
       " ('she has to balance work and her domestic duties', 'pos'),\n",
       " ('beauty', 'pos'),\n",
       " ('a beautiful child', 'pos'),\n",
       " ('her face was beautifully made up', 'pos'),\n",
       " ('this book belongs to me', 'pos'),\n",
       " ('with his classmates he felt a sense of belonging', 'pos'),\n",
       " ('the plan required great hardiness of heart', 'pos'),\n",
       " ('bravery', 'pos'),\n",
       " ('a glare of sunlight', 'pos'),\n",
       " ('a brilliant performance', 'pos'),\n",
       " ('bliss', 'pos'),\n",
       " ('the switch is in the on position', 'pos'),\n",
       " ('tap', 'pos'),\n",
       " ('will be influential in the 1990s and beyond', 'pos'),\n",
       " ('a fabulous vacation', 'pos'),\n",
       " ('biophilia', 'pos'),\n",
       " ('the sun was bright and hot', 'pos'),\n",
       " ('brightness', 'pos'),\n",
       " ('balistic', 'pos'),\n",
       " ('she tended to blast when speaking into a microphone', 'pos'),\n",
       " ('the blaze spread rapidly', 'pos'),\n",
       " ('blinding', 'pos'),\n",
       " ('a breathless flight', 'pos'),\n",
       " ('the soup was bubbling', 'pos'),\n",
       " ('he busted my radio!', 'pos'),\n",
       " ('blisscipline', 'pos'),\n",
       " ('buyancy', 'pos'),\n",
       " ('bullishness', 'pos'),\n",
       " ('the smartness of the pace soon exhausted him', 'pos'),\n",
       " ('buoyancy', 'pos'),\n",
       " ('breeziness', 'pos'),\n",
       " ('brio', 'pos'),\n",
       " ('be', 'pos'),\n",
       " ('an extraordinary session of the legislature', 'pos'),\n",
       " ('be', 'pos'),\n",
       " ('spent many happy days on the beach', 'pos'),\n",
       " ('beautify', 'pos'),\n",
       " ('a point of view gradually coming into being', 'pos'),\n",
       " ('at', 'pos'),\n",
       " ('he took what he wanted and i got the balance', 'pos'),\n",
       " ('benefactor', 'pos'),\n",
       " ('benefits', 'pos'),\n",
       " ('benevolence', 'pos'),\n",
       " ('she looked on benevolently', 'pos'),\n",
       " ('she looked on benevolently', 'pos'),\n",
       " ('as cheerful as anyone confined to a hospital bed could be', 'pos'),\n",
       " ('his state is in the deep south', 'pos'),\n",
       " ('of', 'pos'),\n",
       " (\"i couldn't get his words out of my head\", 'pos'),\n",
       " ('they did their best', 'pos'),\n",
       " ('of', 'pos'),\n",
       " ('we sat up all night', 'pos'),\n",
       " ('politics is the art of the possible', 'pos'),\n",
       " ('they study the evolution of the universe', 'pos'),\n",
       " ('will be influential in the 1990s and beyond', 'pos'),\n",
       " ('beauty', 'pos'),\n",
       " ('in', 'pos'),\n",
       " ('we sat up all night', 'pos'),\n",
       " ('she packed her things and left', 'pos'),\n",
       " ('a point of view gradually coming into being', 'pos'),\n",
       " ('completely credible testimony', 'pos'),\n",
       " ('bloodbrothers', 'pos'),\n",
       " ('bohemian', 'pos'),\n",
       " ('soul', 'pos'),\n",
       " ('bohosoul', 'pos'),\n",
       " ('badassery', 'pos'),\n",
       " ('bestselling', 'pos'),\n",
       " ('a change for the better', 'pos'),\n",
       " ('and', 'pos'),\n",
       " ('a change for the better', 'pos'),\n",
       " ('betterknown', 'pos'),\n",
       " ('betterthanexpected', 'pos'),\n",
       " ('will be influential in the 1990s and beyond', 'pos'),\n",
       " ('thank', 'pos'),\n",
       " ('you', 'pos'),\n",
       " ('a big (or large) barn', 'pos'),\n",
       " ('he had a vision of his own death', 'pos'),\n",
       " ('was loved for her blithe spirit', 'pos'),\n",
       " ('blossoming', 'pos'),\n",
       " ('bonuscare', 'pos'),\n",
       " ('caring', 'pos'),\n",
       " ('he accepted their problems with composure and she with equanimity', 'pos'),\n",
       " (\"make a mess in one's office\", 'pos'),\n",
       " ('a creative imagination', 'pos'),\n",
       " ('creativity', 'pos'),\n",
       " ('creativeness', 'pos'),\n",
       " ('capable of walking on two feet', 'pos'),\n",
       " ('he worked to the limits of his capability', 'pos'),\n",
       " ('they worked competently', 'pos'),\n",
       " ('keep the commandments', 'pos'),\n",
       " ('celebration', 'pos'),\n",
       " ('set aside a certain sum each week', 'pos'),\n",
       " ('his certainty reassured the others', 'pos'),\n",
       " ('a charitable foundation', 'pos'),\n",
       " ('charity', 'pos'),\n",
       " ('his smile was part of his appeal to her', 'pos'),\n",
       " (\"she captured all the men's hearts\", 'pos'),\n",
       " ('charmer', 'pos'),\n",
       " ('he was my pick for mayor', 'pos'),\n",
       " ('clean', 'pos'),\n",
       " ('cleanliness', 'pos'),\n",
       " ('he is a man who enjoys his comfort', 'pos'),\n",
       " ('the antihistamine made her feel more comfortable', 'pos'),\n",
       " ('comforting', 'pos'),\n",
       " ('cuddle', 'pos'),\n",
       " ('cuddling', 'pos'),\n",
       " ('candor', 'pos'),\n",
       " ('a man of caution', 'pos'),\n",
       " ('they reacted irrationally to the challenge of russian power', 'pos'),\n",
       " ('the neighborhood had undergone few modifications since his last visit years ago',\n",
       "  'pos'),\n",
       " ('as cheerful as anyone confined to a hospital bed could be', 'pos'),\n",
       " ('flowers added a note of cheerfulness to the drab room', 'pos'),\n",
       " ('clarity', 'pos'),\n",
       " ('they worked either in collaboration or independently', 'pos'),\n",
       " ('a man of energy and commitment', 'pos'),\n",
       " ('they could not act without official communication from moscow', 'pos'),\n",
       " ('the team is drawn from all parts of the community', 'pos'),\n",
       " ('compassion', 'pos'),\n",
       " ('compassionate', 'pos'),\n",
       " ('a competent typist', 'pos'),\n",
       " ('competence', 'pos'),\n",
       " ('competency', 'pos'),\n",
       " ('concentration', 'pos'),\n",
       " ('his manner is more confident these days', 'pos'),\n",
       " ('his assurance in his superiority did not make him popular', 'pos'),\n",
       " ('he lost consciousness', 'pos'),\n",
       " ('when the dough has enough consistency it is ready to bake', 'pos'),\n",
       " ('i have decided that the course of conduct which i am following is consistent with my sense of responsibility as president in time of war\"- fdr',\n",
       "  'pos'),\n",
       " ('he emptied the contents of his pockets', 'pos'),\n",
       " ('contentment', 'pos'),\n",
       " ('continuity', 'pos'),\n",
       " ('a continuous rearrangement of electrons in the solar atoms results in the emission of light\"- james jeans',\n",
       "  'pos'),\n",
       " ('i am proud of my contribution in advancing the project', 'pos'),\n",
       " ('conviction', 'pos'),\n",
       " ('he had finally convinced several customers of the advantages of his product',\n",
       "  'pos'),\n",
       " ('their cooperation with us was essential for the success of our mission',\n",
       "  'pos'),\n",
       " ('courage', 'pos'),\n",
       " ('courtesy', 'pos'),\n",
       " ('a nice gesture', 'pos'),\n",
       " ('they have some funny ideas about war', 'pos'),\n",
       " ('curiosity', 'pos'),\n",
       " ('chakra', 'pos'),\n",
       " ('the cool of early morning', 'pos'),\n",
       " ('investigation showed that he was in the clear', 'pos'),\n",
       " ('we were headed for the mountains', 'pos'),\n",
       " ('her entire attention centered on her children', 'pos'),\n",
       " ('their closeness grew as the night wore on', 'pos'),\n",
       " ('he enjoyed the society of his friends', 'pos'),\n",
       " ('friends considerate enough to leave us alone', 'pos'),\n",
       " ('consideration', 'pos'),\n",
       " ('the governor took communion with the rest of the congregation', 'pos'),\n",
       " ('can you connect the two loudspeakers?', 'pos'),\n",
       " ('can you connect the two loudspeakers?', 'pos'),\n",
       " ('there was a connection between eating that pickle and having that nightmare',\n",
       "  'pos'),\n",
       " ('the connection between church and state is inescapable', 'pos'),\n",
       " ('suppress a nascent uprising', 'pos'),\n",
       " ('a cute kid with pigtails', 'pos'),\n",
       " ('charisma', 'pos'),\n",
       " ('a charismatic leader', 'pos'),\n",
       " (\"i am accumulating evidence for the man's unfaithfulness to his wife\",\n",
       "  'pos'),\n",
       " ('as cheerful as anyone confined to a hospital bed could be', 'pos'),\n",
       " ('he expressed his willingness to help', 'pos'),\n",
       " ('cheers', 'pos'),\n",
       " ('congruence', 'pos'),\n",
       " ('cordial', 'pos'),\n",
       " ('crank', 'pos'),\n",
       " ('up the ante', 'pos'),\n",
       " ('capital', 'pos'),\n",
       " ('corking', 'pos'),\n",
       " ('investigation showed that he was in the clear', 'pos'),\n",
       " ('the caresses of the breeze played over his face', 'pos'),\n",
       " ('as cheerful as anyone confined to a hospital bed could be', 'pos'),\n",
       " ('whether he praised or cursed me depended on his temper at the time', 'pos'),\n",
       " ('a complimentary remark', 'pos'),\n",
       " ('i listened to his words very closely', 'pos'),\n",
       " ('he contented himself with one glass of beer per day', 'pos'),\n",
       " ('coziness', 'pos'),\n",
       " ('cuteness', 'pos'),\n",
       " ('carefreeness', 'pos'),\n",
       " ('the carefree joys of childhood', 'pos'),\n",
       " ('the focus of activity shifted to molecular biology', 'pos'),\n",
       " ('the focus of activity shifted to molecular biology', 'pos'),\n",
       " ('the habit of meditation is the basis for all real knowledge', 'pos'),\n",
       " ('citizen', 'pos'),\n",
       " ('of', 'pos'),\n",
       " ('a good command of french', 'pos'),\n",
       " ('cocreating', 'pos'),\n",
       " ('cocreator', 'pos'),\n",
       " ('cohesion', 'pos'),\n",
       " ('the continual banging of the shutters', 'pos'),\n",
       " ('stream', 'pos'),\n",
       " ('of', 'pos'),\n",
       " ('the drug produces an increased synchrony of the brain waves', 'pos'),\n",
       " ('a creative imagination', 'pos'),\n",
       " ('processdirection', 'pos'),\n",
       " ('the delicate wing of a butterfly', 'pos'),\n",
       " ('from a decent family', 'pos'),\n",
       " ('computer with many desirable features', 'pos'),\n",
       " ('delicious', 'pos'),\n",
       " ('deliciousness', 'pos'),\n",
       " ('do', 'pos'),\n",
       " ('i had a dream about you last night', 'pos'),\n",
       " ('a woolgathering moment', 'pos'),\n",
       " ('they hoped it would act as a spiritual dynamic on all churches', 'pos'),\n",
       " ('he could never refuse a dare', 'pos'),\n",
       " ('a man of unusual decisiveness', 'pos'),\n",
       " ('his delight to see her was obvious to all', 'pos'),\n",
       " ('these colors please the senses', 'pos'),\n",
       " ('the comedy was delightful', 'pos'),\n",
       " ('dependability', 'pos'),\n",
       " ('desire', 'pos'),\n",
       " ('the determination of molecular structures', 'pos'),\n",
       " ('their devotion to each other was beautiful', 'pos'),\n",
       " ('it was beneath his dignity to cheat', 'pos'),\n",
       " ('diligence', 'pos'),\n",
       " ('teachers should be well trained in their subject', 'pos'),\n",
       " ('discovery', 'pos'),\n",
       " ('discretion', 'pos'),\n",
       " ('the range and variety of his work is amazing', 'pos'),\n",
       " ('after reaching the desired velocity the drive is cut off', 'pos'),\n",
       " ('we must instill a sense of duty in our children', 'pos'),\n",
       " ('divine', 'pos'),\n",
       " ('she was dazzled by the bright headlights', 'pos'),\n",
       " ('disney', 'pos'),\n",
       " ('she committed herself to the work of god', 'pos'),\n",
       " ('dandy', 'pos'),\n",
       " ('daimon', 'pos'),\n",
       " ('a debonair gentleman', 'pos'),\n",
       " ('detachment', 'pos'),\n",
       " ('she committed herself to the work of god', 'pos'),\n",
       " ('dauwtrappen', 'pos'),\n",
       " ('dazzle', 'pos'),\n",
       " ('the farm house, though in itself a small one, is delightfully situated',\n",
       "  'pos'),\n",
       " ('defencelessness', 'pos'),\n",
       " ('in a deep sleep', 'pos'),\n",
       " ('he wanted to feel a part of something bigger than himself', 'pos'),\n",
       " ('of', 'pos'),\n",
       " ('you', 'pos'),\n",
       " ('you deserve a promotion after all the hard work you have done', 'pos'),\n",
       " ('deservedness', 'pos'),\n",
       " ('there were many children whose deservingness he recognized and rewarded',\n",
       "  'pos'),\n",
       " ('disidentify', 'pos'),\n",
       " ('dope', 'pos'),\n",
       " ('dope', 'pos'),\n",
       " ('chill', 'pos'),\n",
       " ('outempathy', 'pos'),\n",
       " (\"you don't need to explain--i understand!\", 'pos'),\n",
       " ('an emphatic word', 'pos'),\n",
       " ('took the easy way out of his dilemma', 'pos'),\n",
       " ('this china breaks very easily', 'pos'),\n",
       " ('took the easy way out of his dilemma', 'pos'),\n",
       " ('we must educate our youngsters better', 'pos'),\n",
       " ('good classroom teaching is seldom rewarded', 'pos'),\n",
       " ('we must educate our youngsters better', 'pos'),\n",
       " ('an efficient production manager', 'pos'),\n",
       " ('this skill will enable you to find a job on wall street', 'pos'),\n",
       " ('this skill will enable you to find a job on wall street', 'pos'),\n",
       " ('an energetic fund raiser for the college', 'pos'),\n",
       " (\"this herbal infusion doesn't stimulate\", 'pos'),\n",
       " ('energy can take a wide variety of forms', 'pos'),\n",
       " ('they engaged in a discussion', 'pos'),\n",
       " ('they engaged in a discussion', 'pos'),\n",
       " ('they engaged in a discussion', 'pos'),\n",
       " ('she relished her fame and basked in her glory', 'pos'),\n",
       " ('enjoyment', 'pos'),\n",
       " ('there is more than a sufficiency of lawyers in this country', 'pos'),\n",
       " ('eager', 'pos'),\n",
       " ('eagerness', 'pos'),\n",
       " ('effectiveness', 'pos'),\n",
       " ('efficiency', 'pos'),\n",
       " ('elation', 'pos'),\n",
       " ('she conveys an aura of elegance and gentility', 'pos'),\n",
       " ('i am promoting the use of computers in the classroom', 'pos'),\n",
       " ('encouragement', 'pos'),\n",
       " ('i am promoting the use of computers in the classroom', 'pos'),\n",
       " (\"the marathon tests a runner's endurance\", 'pos'),\n",
       " ('equality', 'pos'),\n",
       " ('excellence', 'pos'),\n",
       " ('the school has excellent teachers', 'pos'),\n",
       " ('excite', 'pos'),\n",
       " ('he could hardly conceal his excitement when she agreed', 'pos'),\n",
       " ('excited', 'pos'),\n",
       " ('experience is the best teacher', 'pos'),\n",
       " ('expertise', 'pos'),\n",
       " ('exploration', 'pos'),\n",
       " ('expressiveness', 'pos'),\n",
       " ('she showed her disappointment', 'pos'),\n",
       " ('enlightenment', 'pos'),\n",
       " ('the ageless themes of love and revenge', 'pos'),\n",
       " ('listening to sweet music in a perfect rapture\"- charles dickens', 'pos'),\n",
       " ('he is emulating the skating skills of his older sister', 'pos'),\n",
       " ('she authorized her assistant to sign the papers', 'pos'),\n",
       " ('she authorized her assistant to sign the papers', 'pos'),\n",
       " ('she authorized her assistant to sign the papers', 'pos'),\n",
       " ('the expansive force of fire', 'pos'),\n",
       " ('the children were thrilled at the prospect of going to the movies', 'pos'),\n",
       " ('was enthusiastic about taking ballet lessons', 'pos'),\n",
       " ('enthusiasm', 'pos'),\n",
       " ('he immersed himself into his studies', 'pos'),\n",
       " ('enchanted', 'pos'),\n",
       " (\"she captured all the men's hearts\", 'pos'),\n",
       " ('ecstatic', 'pos'),\n",
       " ('music can uplift your spirits', 'pos'),\n",
       " ('enthralled', 'pos'),\n",
       " ('exuberant', 'pos'),\n",
       " ('exuberance', 'pos'),\n",
       " ('an expectant hush', 'pos'),\n",
       " ('more self-contained and more dependable than many of the early frontiersmen',\n",
       "  'pos'),\n",
       " ('these paintings exalt the imagination', 'pos'),\n",
       " ('concern about the safety and efficacy of the vaccine', 'pos'),\n",
       " ('they put it into containers for ease of transportation', 'pos'),\n",
       " ('exemplary behavior', 'pos'),\n",
       " ('an extraordinary session of the legislature', 'pos'),\n",
       " ('earnest', 'pos'),\n",
       " ('women tend not to advance in the major law firms', 'pos'),\n",
       " ('elevated', 'pos'),\n",
       " ('he accepted their problems with composure and she with equanimity', 'pos'),\n",
       " ('easeofmind', 'pos'),\n",
       " ('excited', 'pos'),\n",
       " ('anticipation', 'pos'),\n",
       " ('extra', 'pos'),\n",
       " ('equity', 'pos'),\n",
       " ('the inheritance was equitably divided among the sisters', 'pos'),\n",
       " ('an equitable distribution of gifts among the children', 'pos'),\n",
       " ('took the easy way out of his dilemma', 'pos'),\n",
       " ('to', 'pos'),\n",
       " (\"let's have more work and less talk around here\", 'pos'),\n",
       " ('to', 'pos'),\n",
       " ('took the easy way out of his dilemma', 'pos'),\n",
       " ('to', 'pos'),\n",
       " ('his approach to every problem is to draw up a list of pros and cons',\n",
       "  'pos'),\n",
       " ('ecstatify', 'pos'),\n",
       " ('eudaemonism', 'pos'),\n",
       " ('eudaemonist', 'pos'),\n",
       " ('eudaemonistic', 'pos'),\n",
       " ('the town was finally on the upbeat after our recent troubles', 'pos'),\n",
       " ('eudamonia', 'pos'),\n",
       " ('we have developed a new theory of evolution', 'pos'),\n",
       " (\"extol the virtues of one's children\", 'pos'),\n",
       " ('exstatisfy', 'pos'),\n",
       " ('rejoicing crowds filled the streets on vj day', 'pos'),\n",
       " ('astronomic telescope', 'pos'),\n",
       " ('champion', 'pos'),\n",
       " ('champ', 'pos'),\n",
       " ('electric', 'pos'),\n",
       " ('a plane took off with a tremendous noise', 'pos'),\n",
       " ('olympian efforts to save the city from bankruptcy', 'pos'),\n",
       " ('exciting', 'pos'),\n",
       " ('suffered exquisite pain', 'pos'),\n",
       " ('such effortlessness is achieved only after hours of practice', 'pos'),\n",
       " ('eunoia', 'pos'),\n",
       " ('ecosophy', 'pos'),\n",
       " ('ebullience', 'pos'),\n",
       " ('embrace', 'pos'),\n",
       " ('she authorized her assistant to sign the papers', 'pos'),\n",
       " ('i listened to his words very closely', 'pos'),\n",
       " ('i am promoting the use of computers in the classroom', 'pos'),\n",
       " ('i listened to his words very closely', 'pos'),\n",
       " ('erlebnis', 'pos'),\n",
       " ('the swallows glided in an effortless way through the busy air', 'pos'),\n",
       " ('they put it into containers for ease of transportation', 'pos'),\n",
       " ('swallows gliding effortlessly through the air', 'pos'),\n",
       " ('ekaggata', 'pos'),\n",
       " ('he embodies all that is evil wrong with the system', 'pos'),\n",
       " ('the', 'pos'),\n",
       " ('lovefantastic', 'pos'),\n",
       " ('he has a feel for animals\" or \"it\\'s easy when you get the feel of it',\n",
       "  'pos'),\n",
       " (\"what's the good of worrying?\", 'pos'),\n",
       " ('i disliked him and the feeling was mutual', 'pos'),\n",
       " (\"what's the good of worrying?\", 'pos'),\n",
       " ('flow', 'pos'),\n",
       " ('flowing', 'pos'),\n",
       " ('a fabulous vacation', 'pos'),\n",
       " ('fair', 'pos'),\n",
       " ('he lost his faith but not his morality', 'pos'),\n",
       " ('faithful', 'pos'),\n",
       " ('fame', 'pos'),\n",
       " ('that book is one of my favorites', 'pos'),\n",
       " ('the judge recognized the fairness of my claim', 'pos'),\n",
       " ('the teacher asked how many people made up his home', 'pos'),\n",
       " ('fidelity', 'pos'),\n",
       " ('flexibility', 'pos'),\n",
       " ('the focus of activity shifted to molecular biology', 'pos'),\n",
       " ('she entered with a great flourish', 'pos'),\n",
       " ('she cannot forgive him for forgetting her birthday', 'pos'),\n",
       " ('she cannot forgive him for forgetting her birthday', 'pos'),\n",
       " ('forgiveness', 'pos'),\n",
       " ('fortitude', 'pos'),\n",
       " ('the home of the free and the brave', 'pos'),\n",
       " ('freedom', 'pos'),\n",
       " ('frugality', 'pos'),\n",
       " ('i do it for the fun of it', 'pos'),\n",
       " ('future', 'pos'),\n",
       " ('he was my best friend at the university', 'pos'),\n",
       " ('friendlies came to their rescue', 'pos'),\n",
       " ('friendship', 'pos'),\n",
       " ('friendliness', 'pos'),\n",
       " ('fascinate', 'pos'),\n",
       " ('fascinated', 'pos'),\n",
       " ('execute the decision of the people', 'pos'),\n",
       " ('execute the decision of the people', 'pos'),\n",
       " ('food', 'pos'),\n",
       " ('the champion is faced with a feisty challenger', 'pos'),\n",
       " ('feistiness', 'pos'),\n",
       " ('feasible', 'pos'),\n",
       " ('fine', 'pos'),\n",
       " ('fearless', 'pos'),\n",
       " ('a festive (or festal) occasion', 'pos'),\n",
       " ('festiveness', 'pos'),\n",
       " ('he had a fit', 'pos'),\n",
       " ('the school has excellent teachers', 'pos'),\n",
       " ('freecycle', 'pos'),\n",
       " ('funerific', 'pos'),\n",
       " ('funology', 'pos'),\n",
       " ('a flawless gemstone', 'pos'),\n",
       " ('a famous actor', 'pos'),\n",
       " ('they have the illusion that i am very wealthy', 'pos'),\n",
       " ('a meretricious yet stylish book', 'pos'),\n",
       " ('ftw', 'pos'),\n",
       " ('she told a funny story', 'pos'),\n",
       " (\"even a schoolboy's jape is supposed to have some ascertainable point\",\n",
       "  'pos'),\n",
       " ('he showed off his new sports car', 'pos'),\n",
       " ('they fondled in the back seat of the taxi', 'pos'),\n",
       " ('frictionlessly', 'pos'),\n",
       " ('he bounced it cleanly off the wall', 'pos'),\n",
       " ('the deer population in this town is thriving', 'pos'),\n",
       " ('fortuitousglow', 'pos'),\n",
       " ('a generous donation', 'pos'),\n",
       " ('generosity', 'pos'),\n",
       " ('the new manager generated a lot of problems', 'pos'),\n",
       " ('an affable smile', 'pos'),\n",
       " (\"he's smart but he's no einstein\", 'pos'),\n",
       " ('a genuine picasso', 'pos'),\n",
       " ('gift', 'pos'),\n",
       " ('give', 'pos'),\n",
       " ('giving', 'pos'),\n",
       " (\"what's the good of worrying?\", 'pos'),\n",
       " ('among the highest goods of all are happiness and self-realization', 'pos'),\n",
       " ('going', 'pos'),\n",
       " ('the', 'pos'),\n",
       " ('extra', 'pos'),\n",
       " ('mile', 'pos'),\n",
       " ('it was debated whether saving grace could be obtained outside the membership of the church',\n",
       "  'pos'),\n",
       " ('he was overwhelmed with gratitude for their help', 'pos'),\n",
       " ('gratefulness', 'pos'),\n",
       " ('the weather turned nasty', 'pos'),\n",
       " ('he proposed an indicator of osseous development in children', 'pos'),\n",
       " ('guide', 'pos'),\n",
       " ('guiding', 'pos'),\n",
       " ('guidance', 'pos'),\n",
       " ('god', 'pos'),\n",
       " ('anchor the lamppost in concrete', 'pos'),\n",
       " ('he valued glory above life itself', 'pos'),\n",
       " ('godliness', 'pos'),\n",
       " ('goodfeeling', 'pos'),\n",
       " ('had a great time at the party', 'pos'),\n",
       " ('a vertiginous climb up the face of the cliff', 'pos'),\n",
       " ('glad', 'pos'),\n",
       " (\"what's the good of worrying?\", 'pos'),\n",
       " ('physicians should be held responsible for the health of their patients',\n",
       "  'pos'),\n",
       " ('glamor', 'pos'),\n",
       " ('the girls giggled when the rock star came into the classroom', 'pos'),\n",
       " ('goddess', 'pos'),\n",
       " ('a gorgeous victorian gown', 'pos'),\n",
       " ('gorgeousness', 'pos'),\n",
       " ('the grandiosity of his prose', 'pos'),\n",
       " ('generavity', 'pos'),\n",
       " ('gentleman', 'pos'),\n",
       " ('a jumbo jet', 'pos'),\n",
       " ('grand', 'pos'),\n",
       " ('he is one of the greats of american music', 'pos'),\n",
       " ('ginger', 'pos'),\n",
       " ('goodhumored', 'pos'),\n",
       " ('goodwill', 'pos'),\n",
       " ('greatful', 'pos'),\n",
       " ('gemutlichkeit', 'pos'),\n",
       " ('gibigiana', 'pos'),\n",
       " ('gigil', 'pos'),\n",
       " (\"what's the good of worrying?\", 'pos'),\n",
       " ('indwelling', 'pos'),\n",
       " ('spirit', 'pos'),\n",
       " (\"what's the good of worrying?\", 'pos'),\n",
       " ('words are the blocks from which sentences are made', 'pos'),\n",
       " (\"what's the good of worrying?\", 'pos'),\n",
       " ('i listened to his words very closely', 'pos'),\n",
       " ('goodhumored', 'pos'),\n",
       " ('goodwill', 'pos'),\n",
       " (\"what's the good of worrying?\", 'pos'),\n",
       " ('we ran into each other by pure chance', 'pos'),\n",
       " ('itinerant traders', 'pos'),\n",
       " ('soul', 'pos'),\n",
       " ('gamechanger', 'pos'),\n",
       " ('generator', 'pos'),\n",
       " ('of', 'pos'),\n",
       " ('social life', 'pos'),\n",
       " ('she swooped gracefully', 'pos'),\n",
       " ('graciousnesshope', 'pos'),\n",
       " ('hopefulness', 'pos'),\n",
       " ('happiness', 'pos'),\n",
       " ('spent many happy days on the beach', 'pos'),\n",
       " ('they shouted happily', 'pos'),\n",
       " ('harmonious', 'pos'),\n",
       " (\"the colors don't harmonize\", 'pos'),\n",
       " ('harmony', 'pos'),\n",
       " ('physicians should be held responsible for the health of their patients',\n",
       "  'pos'),\n",
       " ('a rosy healthy baby', 'pos'),\n",
       " ('in your heart you know it is true', 'pos'),\n",
       " ('every morning they exchanged polite hellos', 'pos'),\n",
       " ('he gave me an assist with the housework', 'pos'),\n",
       " ('helpful', 'pos'),\n",
       " (\"there's enough for two servings each\", 'pos'),\n",
       " (\"she's hot and tired\", 'pos'),\n",
       " ('honest lawyers', 'pos'),\n",
       " ('honesty', 'pos'),\n",
       " ('human', 'pos'),\n",
       " ('humor', 'pos'),\n",
       " ('helpfulness', 'pos'),\n",
       " ('raf pilots were the heroes of the battle of britain', 'pos'),\n",
       " ('he showed great heroism in battle', 'pos'),\n",
       " ('holy', 'pos'),\n",
       " ('holiness', 'pos'),\n",
       " ('an award for bravery', 'pos'),\n",
       " ('hospitality', 'pos'),\n",
       " ('this experience will humble him', 'pos'),\n",
       " ('heaven', 'pos'),\n",
       " ('celestial beings', 'pos'),\n",
       " ('halo', 'pos'),\n",
       " ('devout wishes for their success', 'pos'),\n",
       " ('is there a sight more heartwarming than a family reunion?', 'pos'),\n",
       " ('onepointedness', 'pos'),\n",
       " ('spent many happy days on the beach', 'pos'),\n",
       " ('hearted', 'pos'),\n",
       " ('heedful of what they were doing', 'pos'),\n",
       " ('very pretty but not so extraordinarily handsome\"- thackeray', 'pos'),\n",
       " ('the los angeles aqueduct winds like an immense snake along the base of the mountains',\n",
       "  'pos'),\n",
       " ('highspiritedness', 'pos'),\n",
       " ('does not think highly of his writing', 'pos'),\n",
       " ('we distinguish several kinds of maple', 'pos'),\n",
       " ('spent many happy days on the beach', 'pos'),\n",
       " ('i listened to his words very closely', 'pos'),\n",
       " ('heartopening', 'pos'),\n",
       " ('soil sufficiently hospitable for forest growth', 'pos'),\n",
       " ('human', 'pos'),\n",
       " ('the deer population in this town is thriving', 'pos'),\n",
       " ('does not think highly of his writing', 'pos'),\n",
       " ('we distinguish several kinds of maple', 'pos'),\n",
       " ('harness', 'pos'),\n",
       " ('the tension heightened', 'pos'),\n",
       " ('holistic', 'pos'),\n",
       " ('holy', 'pos'),\n",
       " ('spiritimagination', 'pos'),\n",
       " ('these paintings exalt the imagination', 'pos'),\n",
       " ('inspiration', 'pos'),\n",
       " ('these paintings exalt the imagination', 'pos'),\n",
       " ('inspirational', 'pos'),\n",
       " ('inlove', 'pos'),\n",
       " ('it was not a good idea', 'pos'),\n",
       " (\"the book's plot is simply incredible\", 'pos'),\n",
       " ('a new word processor was introduced', 'pos'),\n",
       " ('innovation', 'pos'),\n",
       " ('interesting', 'pos'),\n",
       " ('an interest in music', 'pos'),\n",
       " ('interested', 'pos'),\n",
       " ('improvement', 'pos'),\n",
       " ('independence', 'pos'),\n",
       " (\"used her parents' influence to get the job\", 'pos'),\n",
       " ('ingenuity', 'pos'),\n",
       " ('she thinks she has no soul, no interior life, but the truth is that she has no access to it\"- david denby',\n",
       "  'pos'),\n",
       " ('peace', 'pos'),\n",
       " ('insight', 'pos'),\n",
       " ('insightfulness', 'pos'),\n",
       " ('the chapter is insightful and suggestive of new perspectives\"-r.c.angell',\n",
       "  'pos'),\n",
       " ('the integrity of the nervous system is required for normal development',\n",
       "  'pos'),\n",
       " ('intelligence', 'pos'),\n",
       " ('is there intelligent life in the universe?', 'pos'),\n",
       " ('he adjusted the intensity of the sound', 'pos'),\n",
       " ('the absence of fences created a mysterious intimacy in which no one knew privacy',\n",
       "  'pos'),\n",
       " ('intuitiveness', 'pos'),\n",
       " ('inventiveness', 'pos'),\n",
       " ('investing', 'pos'),\n",
       " ('it was created with the conscious aim of answering immediate needs', 'pos'),\n",
       " ('these paintings exalt the imagination', 'pos'),\n",
       " ('these paintings exalt the imagination', 'pos'),\n",
       " ('intrigued', 'pos'),\n",
       " ('this new ruling affects your business', 'pos'),\n",
       " ('this new ruling affects your business', 'pos'),\n",
       " ('inclusion', 'pos'),\n",
       " ('innocent', 'pos'),\n",
       " ('a thing of untellable splendor', 'pos'),\n",
       " ('fearless reporters and photographers', 'pos'),\n",
       " ('idealism', 'pos'),\n",
       " (\"follow god's light\", 'pos'),\n",
       " ('this lamp lightens the room a bit', 'pos'),\n",
       " ('this report is incomparable with the earlier ones because of different breakdowns of the data',\n",
       "  'pos'),\n",
       " ('an invincible army', 'pos'),\n",
       " ('if someone saw a man climbing a light post they might get inquisitive',\n",
       "  'pos'),\n",
       " ('they tested his ability to locate objects in space', 'pos'),\n",
       " ('infinity', 'pos'),\n",
       " ('a famous actor', 'pos'),\n",
       " ('she thinks she has no soul, no interior life, but the truth is that she has no access to it\"- david denby',\n",
       "  'pos'),\n",
       " ('ichariba', 'pos'),\n",
       " ('chode', 'pos'),\n",
       " ('ikigai', 'pos'),\n",
       " (\"the book's plot is simply incredible\", 'pos'),\n",
       " ('cuteness', 'pos'),\n",
       " ('indwelling', 'pos'),\n",
       " ('inspirational', 'pos'),\n",
       " ('i listened to his words very closely', 'pos'),\n",
       " ('these paintings exalt the imagination', 'pos'),\n",
       " ('words are the blocks from which sentences are made', 'pos'),\n",
       " ('these paintings exalt the imagination', 'pos'),\n",
       " ('i listened to his words very closely', 'pos'),\n",
       " ('a dragonfly hovered, vibrating and iridescent', 'pos'),\n",
       " ('a famous actor', 'pos'),\n",
       " ('she thinks she has no soul, no interior life, but the truth is that she has no access to it\"- david denby',\n",
       "  'pos'),\n",
       " ('she thinks she has no soul, no interior life, but the truth is that she has no access to it\"- david denby',\n",
       "  'pos'),\n",
       " ('spirit', 'pos'),\n",
       " ('the bones are interconnected via the muscle', 'pos'),\n",
       " ('interconnectivity', 'pos'),\n",
       " ('intuitionjoy', 'pos'),\n",
       " ('make a joyful noise', 'pos'),\n",
       " ('felt a joyous abandon', 'pos'),\n",
       " (\"even a schoolboy's jape is supposed to have some ascertainable point\",\n",
       "  'pos'),\n",
       " ('jolly', 'pos'),\n",
       " ('a poet could not but be gay, in such a jocund company\"- wordsworth', 'pos'),\n",
       " ('a just and lasting peace\"- a.lincoln', 'pos'),\n",
       " ('justice', 'pos'),\n",
       " ('rejoicing crowds filled the streets on vj day', 'pos'),\n",
       " ('juvenescent', 'pos'),\n",
       " ('jumpy', 'pos'),\n",
       " ('jammin', 'pos'),\n",
       " ('jubilingokindness', 'pos'),\n",
       " ('what kinds of desserts are there?', 'pos'),\n",
       " ('kindheart', 'pos'),\n",
       " ('was charitable in his opinions of others', 'pos'),\n",
       " ('keepup', 'pos'),\n",
       " ('kiss', 'pos'),\n",
       " ('knowledge', 'pos'),\n",
       " ('kittens', 'pos'),\n",
       " ('keen', 'pos'),\n",
       " ('kaajhuab', 'pos'),\n",
       " ('kalon', 'pos'),\n",
       " ('kilig', 'pos'),\n",
       " ('what kinds of desserts are there?', 'pos'),\n",
       " ('i listened to his words very closely', 'pos'),\n",
       " ('koibito', 'pos'),\n",
       " ('kibunlike', 'pos'),\n",
       " ('laugh', 'pos'),\n",
       " ('laughing', 'pos'),\n",
       " ('children acquire language at an amazing rate', 'pos'),\n",
       " (\"the child's acquisition of language\", 'pos'),\n",
       " ('social life', 'pos'),\n",
       " ('this kind of fish dwells near the bottom of the ocean', 'pos'),\n",
       " ('he could no longer cope with the complexities of life', 'pos'),\n",
       " ('luxury', 'pos'),\n",
       " ('had unusual longevity in the company', 'pos'),\n",
       " ('loyalty', 'pos'),\n",
       " ('loyal friends stood by him', 'pos'),\n",
       " ('children need a lot of love', 'pos'),\n",
       " ('a mischievous but lovable child', 'pos'),\n",
       " ('she loves her boss and works hard for him', 'pos'),\n",
       " ('liberty', 'pos'),\n",
       " ('logic', 'pos'),\n",
       " ('leader', 'pos'),\n",
       " ('his leadership inspired the team', 'pos'),\n",
       " ('whatever my fortune may be', 'pos'),\n",
       " ('a lucky escape', 'pos'),\n",
       " ('the light was filtered through a soft glass window', 'pos'),\n",
       " ('lovingkindness', 'pos'),\n",
       " ('lively and attractive parents', 'pos'),\n",
       " ('social life', 'pos'),\n",
       " ('of', 'pos'),\n",
       " ('the', 'pos'),\n",
       " ('in 1992 perot tried to organize a third party at the national level',\n",
       "  'pos'),\n",
       " ('lovely', 'pos'),\n",
       " ('she loves her boss and works hard for him', 'pos'),\n",
       " ('acceptance of newtonian mechanics was unquestioned for 200 years', 'pos'),\n",
       " ('she loves her boss and works hard for him', 'pos'),\n",
       " ('the remark hurt his feelings', 'pos'),\n",
       " ('lightworker', 'pos'),\n",
       " ('leading', 'pos'),\n",
       " ('the light was filtered through a soft glass window', 'pos'),\n",
       " ('fog', 'pos'),\n",
       " ('social life', 'pos'),\n",
       " ('after the treatment, the patient is through except for follow-up', 'pos'),\n",
       " ('children need a lot of love', 'pos'),\n",
       " ('i listened to his words very closely', 'pos'),\n",
       " ('lover', 'pos'),\n",
       " ('of', 'pos'),\n",
       " ('beauty', 'pos'),\n",
       " ('she brushed her hair until it fell in lustrous auburn waves', 'pos'),\n",
       " ('she brushed her hair until it fell in lustrous auburn waves', 'pos'),\n",
       " ('colors', 'pos'),\n",
       " ('was loved for her blithe spirit', 'pos'),\n",
       " ('leeway', 'pos'),\n",
       " ('lashkar-e-toiba has committed mass murders of civilian hindus', 'pos'),\n",
       " (\"it's my go\", 'pos'),\n",
       " ('letting', 'pos'),\n",
       " (\"it's my go\", 'pos'),\n",
       " ('liveliness', 'pos'),\n",
       " ('children need a lot of love', 'pos'),\n",
       " ('fulfilledmeaning', 'pos'),\n",
       " ('a meaningful explanation', 'pos'),\n",
       " ('more', 'pos'),\n",
       " ('the brilliant court life at versailles', 'pos'),\n",
       " ('majesty', 'pos'),\n",
       " ('take as many apples as you like', 'pos'),\n",
       " ('a fantastic trip to the orient', 'pos'),\n",
       " ('work of great merit', 'pos'),\n",
       " ('this moved me to sacrifice my career', 'pos'),\n",
       " ('miracle', 'pos'),\n",
       " ('magic', 'pos'),\n",
       " ('the fashioning of pots and pans', 'pos'),\n",
       " ('a', 'pos'),\n",
       " ('there are many differences between jazz and rock', 'pos'),\n",
       " ('a good command of french', 'pos'),\n",
       " ('maturity', 'pos'),\n",
       " ('mindful of these criticisms, i shall attempt to justify my action', 'pos'),\n",
       " ('mindfulness', 'pos'),\n",
       " ('modesty', 'pos'),\n",
       " ('he acted with the best of motives', 'pos'),\n",
       " ('motivational', 'pos'),\n",
       " ('he threw himself on the mercy of the court', 'pos'),\n",
       " ('the habit of meditation is the basis for all real knowledge', 'pos'),\n",
       " ('mindblowing', 'pos'),\n",
       " ('age and experience mellowed him over the years', 'pos'),\n",
       " ('the soldiers moved towards the city in an attempt to take it before night fell',\n",
       "  'pos'),\n",
       " ('the reflex motion of his eyebrows revealed his surprise', 'pos'),\n",
       " ('the mutuality of their affection was obvious', 'pos'),\n",
       " ('mourning', 'pos'),\n",
       " ('meliorism', 'pos'),\n",
       " ('mench', 'pos'),\n",
       " ('mindsight', 'pos'),\n",
       " ('mindsight', 'pos'),\n",
       " ('major', 'pos'),\n",
       " ('fortunately the pain was mild', 'pos'),\n",
       " ('a meaningful explanation', 'pos'),\n",
       " ('i listened to his words very closely', 'pos'),\n",
       " ('memorable', 'pos'),\n",
       " ('the computer programmer morphed the image', 'pos'),\n",
       " ...]"
      ]
     },
     "execution_count": 6,
     "metadata": {},
     "output_type": "execute_result"
    }
   ],
   "source": [
    "trn"
   ]
  },
  {
   "cell_type": "code",
   "execution_count": 7,
   "metadata": {},
   "outputs": [],
   "source": [
    "# with open('pos_neg_word_classifier.pkl', 'wb') as f:\n",
    "#      pickle.dump(trn, f)"
   ]
  },
  {
   "cell_type": "code",
   "execution_count": 1,
   "metadata": {},
   "outputs": [
    {
     "ename": "NameError",
     "evalue": "name 'getsizeof' is not defined",
     "output_type": "error",
     "traceback": [
      "\u001b[0;31m---------------------------------------------------------------------------\u001b[0m",
      "\u001b[0;31mNameError\u001b[0m                                 Traceback (most recent call last)",
      "\u001b[0;32m<ipython-input-1-5624beb68465>\u001b[0m in \u001b[0;36m<module>\u001b[0;34m()\u001b[0m\n\u001b[0;32m----> 1\u001b[0;31m \u001b[0mgetsizeof\u001b[0m\u001b[0;34m(\u001b[0m\u001b[0mcl\u001b[0m\u001b[0;34m)\u001b[0m\u001b[0;34m\u001b[0m\u001b[0m\n\u001b[0m",
      "\u001b[0;31mNameError\u001b[0m: name 'getsizeof' is not defined"
     ]
    }
   ],
   "source": [
    "getsizeof(cl)"
   ]
  },
  {
   "cell_type": "code",
   "execution_count": null,
   "metadata": {},
   "outputs": [],
   "source": []
  },
  {
   "cell_type": "code",
   "execution_count": 3,
   "metadata": {},
   "outputs": [],
   "source": [
    "from textblob.classifiers import NaiveBayesClassifier\n",
    "\n",
    "import pickle\n",
    "\n",
    "with open('pos_neg_word_classifier.pkl', 'rb') as f:\n",
    "     trn = pickle.load(f)"
   ]
  },
  {
   "cell_type": "code",
   "execution_count": 5,
   "metadata": {},
   "outputs": [
    {
     "data": {
      "text/plain": [
       "list"
      ]
     },
     "execution_count": 5,
     "metadata": {},
     "output_type": "execute_result"
    }
   ],
   "source": [
    "type(trn)"
   ]
  },
  {
   "cell_type": "code",
   "execution_count": null,
   "metadata": {},
   "outputs": [],
   "source": []
  }
 ],
 "metadata": {
  "kernelspec": {
   "display_name": "Python 3",
   "language": "python",
   "name": "python3"
  },
  "language_info": {
   "codemirror_mode": {
    "name": "ipython",
    "version": 3
   },
   "file_extension": ".py",
   "mimetype": "text/x-python",
   "name": "python",
   "nbconvert_exporter": "python",
   "pygments_lexer": "ipython3",
   "version": "3.5.2"
  }
 },
 "nbformat": 4,
 "nbformat_minor": 2
}
