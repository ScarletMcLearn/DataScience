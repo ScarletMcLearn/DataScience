{
 "cells": [
  {
   "cell_type": "code",
   "execution_count": 1,
   "metadata": {},
   "outputs": [
    {
     "name": "stdout",
     "output_type": "stream",
     "text": [
      "Done!\n"
     ]
    }
   ],
   "source": [
    "import pickle\n",
    " \n",
    "with open('tweet_id_txt_lst.pkl', 'rb') as f:\n",
    "    tweet_id_txt_lst = pickle.load(f)\n",
    "    \n",
    "print(\"Done!\")"
   ]
  },
  {
   "cell_type": "code",
   "execution_count": 2,
   "metadata": {},
   "outputs": [
    {
     "name": "stdout",
     "output_type": "stream",
     "text": [
      "Done!\n"
     ]
    }
   ],
   "source": [
    "import pickle\n",
    " \n",
    "with open('pd_df_twts.pkl', 'rb') as f:\n",
    "    pd_df_twts = pickle.load(f)\n",
    "    \n",
    "print(\"Done!\")"
   ]
  },
  {
   "cell_type": "code",
   "execution_count": 3,
   "metadata": {},
   "outputs": [
    {
     "name": "stdout",
     "output_type": "stream",
     "text": [
      "Done!\n"
     ]
    }
   ],
   "source": [
    "import pickle\n",
    " \n",
    "with open('stat_text_analysis_res_1.pkl', 'rb') as f:\n",
    "    stat_text_analysis_res_1 = pickle.load(f)\n",
    "    \n",
    "print(\"Done!\")"
   ]
  },
  {
   "cell_type": "code",
   "execution_count": 4,
   "metadata": {},
   "outputs": [
    {
     "name": "stdout",
     "output_type": "stream",
     "text": [
      "[973810713079812099, 'Hannasuewilson', 'RT @Hannasuewilson: It’s officially Perfect Girls in Bikinis All Over The Explore Page Season and I will NOT COMPARE MY BODY TO THEIRS AND…', 'RT It s officially Perfect Girls in Bikinis All Over The Explore Page Season and I will NOT COMPARE MY BODY TO THEIRS AND', ' Its officially Perfect Girls in Bikinis All Over The Elore Page Season and I will NOT COMPARE MY BODY TO THEIRS AND']\n",
      "\n",
      "[973675167229489152, 'showupforthis', 'RT @showupforthis: depression: ...\\nme: ...\\ndepression: ...\\nme: ...\\ndepression: ...\\nme: ...\\ndepression: ...\\nme: ...\\ndepression: ...\\nme: ...…', 'RT depression me depression me depression me depression me depression me', ' depression  me  depression  me  depression  me  depression  me  depression  me ']\n",
      "\n",
      "['XXXXXX', 'jdickie', '@jdickie That’s how I operate too. If your friend had been off work for over 2 years fighting depression and anxiet… https://t.co/IRc4hUy5oI', 'That s how I operate too If your friend had been off work for over 2 years fighting depression and anxiet', 'Thats how I operate too If your friend had been off work for over years fighting depression and anxiet']\n",
      "\n",
      "[973675167229489152, 'showupforthis', 'RT @showupforthis: depression: ...\\nme: ...\\ndepression: ...\\nme: ...\\ndepression: ...\\nme: ...\\ndepression: ...\\nme: ...\\ndepression: ...\\nme: ...…', 'RT depression me depression me depression me depression me depression me', ' depression  me  depression  me  depression  me  depression  me  depression  me ']\n",
      "\n",
      "[973675167229489152, 'showupforthis', 'RT @showupforthis: depression: ...\\nme: ...\\ndepression: ...\\nme: ...\\ndepression: ...\\nme: ...\\ndepression: ...\\nme: ...\\ndepression: ...\\nme: ...…', 'RT depression me depression me depression me depression me depression me', ' depression  me  depression  me  depression  me  depression  me  depression  me ']\n",
      "\n"
     ]
    }
   ],
   "source": [
    "for i in range(5):\n",
    "    print(tweet_id_txt_lst[i])\n",
    "    print()"
   ]
  },
  {
   "cell_type": "code",
   "execution_count": 5,
   "metadata": {},
   "outputs": [
    {
     "data": {
      "text/html": [
       "<div>\n",
       "<style scoped>\n",
       "    .dataframe tbody tr th:only-of-type {\n",
       "        vertical-align: middle;\n",
       "    }\n",
       "\n",
       "    .dataframe tbody tr th {\n",
       "        vertical-align: top;\n",
       "    }\n",
       "\n",
       "    .dataframe thead th {\n",
       "        text-align: right;\n",
       "    }\n",
       "</style>\n",
       "<table border=\"1\" class=\"dataframe\">\n",
       "  <thead>\n",
       "    <tr style=\"text-align: right;\">\n",
       "      <th></th>\n",
       "      <th>URL ID</th>\n",
       "      <th>USER NAME</th>\n",
       "      <th>ORIGINAL TEXT</th>\n",
       "      <th>CLEANED TEXT I</th>\n",
       "      <th>CLEANED TEXT II</th>\n",
       "    </tr>\n",
       "  </thead>\n",
       "  <tbody>\n",
       "    <tr>\n",
       "      <th>0</th>\n",
       "      <td>973810713079812099</td>\n",
       "      <td>Hannasuewilson</td>\n",
       "      <td>RT @Hannasuewilson: It’s officially Perfect Gi...</td>\n",
       "      <td>RT It s officially Perfect Girls in Bikinis Al...</td>\n",
       "      <td>Its officially Perfect Girls in Bikinis All O...</td>\n",
       "    </tr>\n",
       "    <tr>\n",
       "      <th>1</th>\n",
       "      <td>973675167229489152</td>\n",
       "      <td>showupforthis</td>\n",
       "      <td>RT @showupforthis: depression: ...\\nme: ...\\nd...</td>\n",
       "      <td>RT depression me depression me depression me d...</td>\n",
       "      <td>depression  me  depression  me  depression  m...</td>\n",
       "    </tr>\n",
       "    <tr>\n",
       "      <th>2</th>\n",
       "      <td>XXXXXX</td>\n",
       "      <td>jdickie</td>\n",
       "      <td>@jdickie That’s how I operate too. If your fri...</td>\n",
       "      <td>That s how I operate too If your friend had be...</td>\n",
       "      <td>Thats how I operate too If your friend had bee...</td>\n",
       "    </tr>\n",
       "    <tr>\n",
       "      <th>3</th>\n",
       "      <td>973675167229489152</td>\n",
       "      <td>showupforthis</td>\n",
       "      <td>RT @showupforthis: depression: ...\\nme: ...\\nd...</td>\n",
       "      <td>RT depression me depression me depression me d...</td>\n",
       "      <td>depression  me  depression  me  depression  m...</td>\n",
       "    </tr>\n",
       "    <tr>\n",
       "      <th>4</th>\n",
       "      <td>973675167229489152</td>\n",
       "      <td>showupforthis</td>\n",
       "      <td>RT @showupforthis: depression: ...\\nme: ...\\nd...</td>\n",
       "      <td>RT depression me depression me depression me d...</td>\n",
       "      <td>depression  me  depression  me  depression  m...</td>\n",
       "    </tr>\n",
       "  </tbody>\n",
       "</table>\n",
       "</div>"
      ],
      "text/plain": [
       "               URL ID       USER NAME  \\\n",
       "0  973810713079812099  Hannasuewilson   \n",
       "1  973675167229489152   showupforthis   \n",
       "2              XXXXXX         jdickie   \n",
       "3  973675167229489152   showupforthis   \n",
       "4  973675167229489152   showupforthis   \n",
       "\n",
       "                                       ORIGINAL TEXT  \\\n",
       "0  RT @Hannasuewilson: It’s officially Perfect Gi...   \n",
       "1  RT @showupforthis: depression: ...\\nme: ...\\nd...   \n",
       "2  @jdickie That’s how I operate too. If your fri...   \n",
       "3  RT @showupforthis: depression: ...\\nme: ...\\nd...   \n",
       "4  RT @showupforthis: depression: ...\\nme: ...\\nd...   \n",
       "\n",
       "                                      CLEANED TEXT I  \\\n",
       "0  RT It s officially Perfect Girls in Bikinis Al...   \n",
       "1  RT depression me depression me depression me d...   \n",
       "2  That s how I operate too If your friend had be...   \n",
       "3  RT depression me depression me depression me d...   \n",
       "4  RT depression me depression me depression me d...   \n",
       "\n",
       "                                     CLEANED TEXT II  \n",
       "0   Its officially Perfect Girls in Bikinis All O...  \n",
       "1   depression  me  depression  me  depression  m...  \n",
       "2  Thats how I operate too If your friend had bee...  \n",
       "3   depression  me  depression  me  depression  m...  \n",
       "4   depression  me  depression  me  depression  m...  "
      ]
     },
     "execution_count": 5,
     "metadata": {},
     "output_type": "execute_result"
    }
   ],
   "source": [
    "pd_df_twts.head(n=5)"
   ]
  },
  {
   "cell_type": "code",
   "execution_count": 6,
   "metadata": {},
   "outputs": [
    {
     "name": "stdout",
     "output_type": "stream",
     "text": [
      "[['fre', 66.07], ['si', 0], ['fkg', 9.5], ['cli', 7.49], ['ari', 9.7], ['dcri', 8.32], ['dw', 5], ['lwf', 12.0], ['gf', 19.89090909090909], ['ts', '9th and 10th grade']]\n",
      "[['fre', -65.58], ['si', 0], ['fkg', 24.9], ['cli', 16.04], ['ari', 11.8], ['dcri', 5.71], ['dw', 1], ['lwf', 1.5], ['gf', 10.0], ['ts', '11th and 12th grade']]\n",
      "[['fre', 69.11], ['si', 0], ['fkg', 8.3], ['cli', 8.36], ['ari', 8.9], ['dcri', 7.9], ['dw', 4], ['lwf', 7.0], ['gf', 18.02105263157895], ['ts', '8th and 9th grade']]\n",
      "[['fre', -65.58], ['si', 0], ['fkg', 24.9], ['cli', 16.04], ['ari', 11.8], ['dcri', 5.71], ['dw', 1], ['lwf', 1.5], ['gf', 10.0], ['ts', '11th and 12th grade']]\n",
      "[['fre', -65.58], ['si', 0], ['fkg', 24.9], ['cli', 16.04], ['ari', 11.8], ['dcri', 5.71], ['dw', 1], ['lwf', 1.5], ['gf', 10.0], ['ts', '11th and 12th grade']]\n"
     ]
    }
   ],
   "source": [
    "for i in range(5):\n",
    "    print(stat_text_analysis_res_1[i])"
   ]
  },
  {
   "cell_type": "code",
   "execution_count": 55,
   "metadata": {},
   "outputs": [
    {
     "name": "stdout",
     "output_type": "stream",
     "text": [
      "['ts', '9th and 10th grade']\n",
      "['ts', '11th and 12th grade']\n",
      "['ts', '8th and 9th grade']\n",
      "['ts', '11th and 12th grade']\n",
      "['ts', '11th and 12th grade']\n",
      "['ts', '11th and 12th grade']\n",
      "['ts', '11th and 12th grade']\n",
      "['ts', '11th and 12th grade']\n",
      "['ts', '3th and 4th grade']\n",
      "['ts', '9th and 10th grade']\n"
     ]
    }
   ],
   "source": [
    "fReS = []\n",
    "for i in range(10):\n",
    "    print(stat_text_analysis_res_1[i][9])"
   ]
  },
  {
   "cell_type": "code",
   "execution_count": 52,
   "metadata": {},
   "outputs": [
    {
     "name": "stdout",
     "output_type": "stream",
     "text": [
      "['gf', 19.89090909090909]\n",
      "['gf', 10.0]\n",
      "['gf', 18.02105263157895]\n",
      "['gf', 10.0]\n",
      "['gf', 10.0]\n",
      "['gf', 10.0]\n",
      "['gf', 26.8]\n",
      "['gf', 12.0]\n",
      "['gf', 14.0]\n",
      "['gf', 19.89090909090909]\n"
     ]
    }
   ],
   "source": [
    "sI = []\n",
    "for i in range(10):\n",
    "    print(stat_text_analysis_res_1[i][8])"
   ]
  },
  {
   "cell_type": "code",
   "execution_count": 45,
   "metadata": {},
   "outputs": [],
   "source": [
    "dW = []\n",
    "\n",
    "# fReS = []\n",
    "for i in range(len(stat_text_analysis_res_1)):\n",
    "    try:\n",
    "        dW.append(stat_text_analysis_res_1[i][6][1])\n",
    "    except:\n",
    "        dW.append([])"
   ]
  },
  {
   "cell_type": "code",
   "execution_count": 48,
   "metadata": {},
   "outputs": [],
   "source": [
    "lWf = []\n",
    "\n",
    "# fReS = []\n",
    "for i in range(len(stat_text_analysis_res_1)):\n",
    "    try:\n",
    "        lWf.append(stat_text_analysis_res_1[i][6][1])\n",
    "    except:\n",
    "        lWf.append([])"
   ]
  },
  {
   "cell_type": "code",
   "execution_count": 35,
   "metadata": {},
   "outputs": [],
   "source": [
    "cLi = []\n",
    "\n",
    "# fReS = []\n",
    "for i in range(len(stat_text_analysis_res_1)):\n",
    "    try:\n",
    "        cLi.append(stat_text_analysis_res_1[i][3][1])\n",
    "    except:\n",
    "        cLi.append([])"
   ]
  },
  {
   "cell_type": "code",
   "execution_count": 17,
   "metadata": {},
   "outputs": [],
   "source": [
    "fReS = []\n",
    "for i in range(len(stat_text_analysis_res_1)):\n",
    "    try:\n",
    "        fReS.append(stat_text_analysis_res_1[i][0][1])\n",
    "    except:\n",
    "        fReS.append([])"
   ]
  },
  {
   "cell_type": "code",
   "execution_count": 24,
   "metadata": {},
   "outputs": [],
   "source": [
    "sI = []\n",
    "for i in range(len(stat_text_analysis_res_1)):\n",
    "    try:\n",
    "        sI.append(stat_text_analysis_res_1[i][1][1])\n",
    "    except:\n",
    "        sI.append([])"
   ]
  },
  {
   "cell_type": "code",
   "execution_count": 29,
   "metadata": {},
   "outputs": [],
   "source": [
    "\n",
    "\n",
    "fKg = []\n",
    "for i in range(len(stat_text_analysis_res_1)):\n",
    "    try:\n",
    "        fKg.append(stat_text_analysis_res_1[i][2][1])\n",
    "    except:\n",
    "        fKg.append([])"
   ]
  },
  {
   "cell_type": "code",
   "execution_count": 38,
   "metadata": {},
   "outputs": [],
   "source": [
    "aRi = []\n",
    "\n",
    "\n",
    "for i in range(len(stat_text_analysis_res_1)):\n",
    "    try:\n",
    "        aRi.append(stat_text_analysis_res_1[i][2][1])\n",
    "    except:\n",
    "        aRi.append([])"
   ]
  },
  {
   "cell_type": "code",
   "execution_count": 41,
   "metadata": {},
   "outputs": [],
   "source": [
    "dCr = []\n",
    "\n",
    "\n",
    "for i in range(len(stat_text_analysis_res_1)):\n",
    "    try:\n",
    "        dCr.append(stat_text_analysis_res_1[i][5][1])\n",
    "    except:\n",
    "        dCr.append([])"
   ]
  },
  {
   "cell_type": "code",
   "execution_count": 53,
   "metadata": {},
   "outputs": [],
   "source": [
    "gFs = []\n",
    "\n",
    "\n",
    "for i in range(len(stat_text_analysis_res_1)):\n",
    "    try:\n",
    "        gFs.append(stat_text_analysis_res_1[i][8][1])\n",
    "    except:\n",
    "        gFs.append([])"
   ]
  },
  {
   "cell_type": "code",
   "execution_count": 56,
   "metadata": {},
   "outputs": [],
   "source": [
    "tS = []\n",
    "\n",
    "\n",
    "for i in range(len(stat_text_analysis_res_1)):\n",
    "    try:\n",
    "        tS.append(stat_text_analysis_res_1[i][9][1])\n",
    "    except:\n",
    "        tS.append([])"
   ]
  },
  {
   "cell_type": "code",
   "execution_count": 42,
   "metadata": {},
   "outputs": [
    {
     "data": {
      "text/plain": [
       "5.71"
      ]
     },
     "execution_count": 42,
     "metadata": {},
     "output_type": "execute_result"
    }
   ],
   "source": [
    "dCr[4]"
   ]
  },
  {
   "cell_type": "code",
   "execution_count": 16,
   "metadata": {},
   "outputs": [
    {
     "data": {
      "text/plain": [
       "199219"
      ]
     },
     "execution_count": 16,
     "metadata": {},
     "output_type": "execute_result"
    }
   ],
   "source": [
    "len(stat_text_analysis_res_1)"
   ]
  },
  {
   "cell_type": "code",
   "execution_count": 18,
   "metadata": {},
   "outputs": [
    {
     "data": {
      "text/plain": [
       "199219"
      ]
     },
     "execution_count": 18,
     "metadata": {},
     "output_type": "execute_result"
    }
   ],
   "source": [
    "len(fReS)"
   ]
  },
  {
   "cell_type": "code",
   "execution_count": 25,
   "metadata": {},
   "outputs": [
    {
     "data": {
      "text/plain": [
       "199219"
      ]
     },
     "execution_count": 25,
     "metadata": {},
     "output_type": "execute_result"
    }
   ],
   "source": [
    "len(sI)"
   ]
  },
  {
   "cell_type": "code",
   "execution_count": 30,
   "metadata": {},
   "outputs": [
    {
     "data": {
      "text/plain": [
       "199219"
      ]
     },
     "execution_count": 30,
     "metadata": {},
     "output_type": "execute_result"
    }
   ],
   "source": [
    "len(fKg)"
   ]
  },
  {
   "cell_type": "code",
   "execution_count": 31,
   "metadata": {},
   "outputs": [
    {
     "data": {
      "text/plain": [
       "9.5"
      ]
     },
     "execution_count": 31,
     "metadata": {},
     "output_type": "execute_result"
    }
   ],
   "source": [
    "fKg[0]"
   ]
  },
  {
   "cell_type": "code",
   "execution_count": 19,
   "metadata": {},
   "outputs": [],
   "source": [
    "pd_df_twts['Flesch Reading Ease Score'] = fReS"
   ]
  },
  {
   "cell_type": "code",
   "execution_count": 26,
   "metadata": {},
   "outputs": [],
   "source": [
    "pd_df_twts['SMOG Index'] = sI"
   ]
  },
  {
   "cell_type": "code",
   "execution_count": 32,
   "metadata": {},
   "outputs": [],
   "source": [
    "pd_df_twts['Flesch-Kincaid Grade Level'] = fKg"
   ]
  },
  {
   "cell_type": "code",
   "execution_count": 36,
   "metadata": {},
   "outputs": [],
   "source": [
    "\n",
    "pd_df_twts['Coleman-Liau Index'] = cLi"
   ]
  },
  {
   "cell_type": "code",
   "execution_count": 57,
   "metadata": {},
   "outputs": [],
   "source": [
    "\n",
    "pd_df_twts['Text Standard'] = tS"
   ]
  },
  {
   "cell_type": "code",
   "execution_count": 49,
   "metadata": {},
   "outputs": [],
   "source": [
    "\n",
    "pd_df_twts['Linsear Write Formula'] = lWf"
   ]
  },
  {
   "cell_type": "code",
   "execution_count": 39,
   "metadata": {},
   "outputs": [],
   "source": [
    "pd_df_twts['Automated Readability Index'] = aRi"
   ]
  },
  {
   "cell_type": "code",
   "execution_count": 54,
   "metadata": {},
   "outputs": [],
   "source": [
    "\n",
    "pd_df_twts['Gunning Fog Scale'] = gFs"
   ]
  },
  {
   "cell_type": "code",
   "execution_count": 43,
   "metadata": {},
   "outputs": [],
   "source": [
    "pd_df_twts['Dale Chall Readability Score'] = dCr"
   ]
  },
  {
   "cell_type": "code",
   "execution_count": 46,
   "metadata": {},
   "outputs": [],
   "source": [
    "pd_df_twts['Difficult Words'] = dW"
   ]
  },
  {
   "cell_type": "code",
   "execution_count": 58,
   "metadata": {},
   "outputs": [
    {
     "data": {
      "text/html": [
       "<div>\n",
       "<style scoped>\n",
       "    .dataframe tbody tr th:only-of-type {\n",
       "        vertical-align: middle;\n",
       "    }\n",
       "\n",
       "    .dataframe tbody tr th {\n",
       "        vertical-align: top;\n",
       "    }\n",
       "\n",
       "    .dataframe thead th {\n",
       "        text-align: right;\n",
       "    }\n",
       "</style>\n",
       "<table border=\"1\" class=\"dataframe\">\n",
       "  <thead>\n",
       "    <tr style=\"text-align: right;\">\n",
       "      <th></th>\n",
       "      <th>URL ID</th>\n",
       "      <th>USER NAME</th>\n",
       "      <th>ORIGINAL TEXT</th>\n",
       "      <th>CLEANED TEXT I</th>\n",
       "      <th>CLEANED TEXT II</th>\n",
       "      <th>Flesch Reading Ease Score</th>\n",
       "      <th>SMOG Index</th>\n",
       "      <th>Flesch-Kincaid Grade Level</th>\n",
       "      <th>Coleman-Liau Index</th>\n",
       "      <th>Automated Readability Index</th>\n",
       "      <th>Dale Chall Readability Score</th>\n",
       "      <th>Difficult Words</th>\n",
       "      <th>Linsear Write Formula</th>\n",
       "      <th>Gunning Fog Scale</th>\n",
       "      <th>Text Standard</th>\n",
       "    </tr>\n",
       "  </thead>\n",
       "  <tbody>\n",
       "    <tr>\n",
       "      <th>0</th>\n",
       "      <td>973810713079812099</td>\n",
       "      <td>Hannasuewilson</td>\n",
       "      <td>RT @Hannasuewilson: It’s officially Perfect Gi...</td>\n",
       "      <td>RT It s officially Perfect Girls in Bikinis Al...</td>\n",
       "      <td>Its officially Perfect Girls in Bikinis All O...</td>\n",
       "      <td>66.07</td>\n",
       "      <td>0</td>\n",
       "      <td>9.5</td>\n",
       "      <td>7.49</td>\n",
       "      <td>9.5</td>\n",
       "      <td>8.32</td>\n",
       "      <td>5</td>\n",
       "      <td>5</td>\n",
       "      <td>19.8909</td>\n",
       "      <td>9th and 10th grade</td>\n",
       "    </tr>\n",
       "    <tr>\n",
       "      <th>1</th>\n",
       "      <td>973675167229489152</td>\n",
       "      <td>showupforthis</td>\n",
       "      <td>RT @showupforthis: depression: ...\\nme: ...\\nd...</td>\n",
       "      <td>RT depression me depression me depression me d...</td>\n",
       "      <td>depression  me  depression  me  depression  m...</td>\n",
       "      <td>-65.58</td>\n",
       "      <td>0</td>\n",
       "      <td>24.9</td>\n",
       "      <td>16.04</td>\n",
       "      <td>24.9</td>\n",
       "      <td>5.71</td>\n",
       "      <td>1</td>\n",
       "      <td>1</td>\n",
       "      <td>10</td>\n",
       "      <td>11th and 12th grade</td>\n",
       "    </tr>\n",
       "    <tr>\n",
       "      <th>2</th>\n",
       "      <td>XXXXXX</td>\n",
       "      <td>jdickie</td>\n",
       "      <td>@jdickie That’s how I operate too. If your fri...</td>\n",
       "      <td>That s how I operate too If your friend had be...</td>\n",
       "      <td>Thats how I operate too If your friend had bee...</td>\n",
       "      <td>69.11</td>\n",
       "      <td>0</td>\n",
       "      <td>8.3</td>\n",
       "      <td>8.36</td>\n",
       "      <td>8.3</td>\n",
       "      <td>7.9</td>\n",
       "      <td>4</td>\n",
       "      <td>4</td>\n",
       "      <td>18.0211</td>\n",
       "      <td>8th and 9th grade</td>\n",
       "    </tr>\n",
       "    <tr>\n",
       "      <th>3</th>\n",
       "      <td>973675167229489152</td>\n",
       "      <td>showupforthis</td>\n",
       "      <td>RT @showupforthis: depression: ...\\nme: ...\\nd...</td>\n",
       "      <td>RT depression me depression me depression me d...</td>\n",
       "      <td>depression  me  depression  me  depression  m...</td>\n",
       "      <td>-65.58</td>\n",
       "      <td>0</td>\n",
       "      <td>24.9</td>\n",
       "      <td>16.04</td>\n",
       "      <td>24.9</td>\n",
       "      <td>5.71</td>\n",
       "      <td>1</td>\n",
       "      <td>1</td>\n",
       "      <td>10</td>\n",
       "      <td>11th and 12th grade</td>\n",
       "    </tr>\n",
       "    <tr>\n",
       "      <th>4</th>\n",
       "      <td>973675167229489152</td>\n",
       "      <td>showupforthis</td>\n",
       "      <td>RT @showupforthis: depression: ...\\nme: ...\\nd...</td>\n",
       "      <td>RT depression me depression me depression me d...</td>\n",
       "      <td>depression  me  depression  me  depression  m...</td>\n",
       "      <td>-65.58</td>\n",
       "      <td>0</td>\n",
       "      <td>24.9</td>\n",
       "      <td>16.04</td>\n",
       "      <td>24.9</td>\n",
       "      <td>5.71</td>\n",
       "      <td>1</td>\n",
       "      <td>1</td>\n",
       "      <td>10</td>\n",
       "      <td>11th and 12th grade</td>\n",
       "    </tr>\n",
       "  </tbody>\n",
       "</table>\n",
       "</div>"
      ],
      "text/plain": [
       "               URL ID       USER NAME  \\\n",
       "0  973810713079812099  Hannasuewilson   \n",
       "1  973675167229489152   showupforthis   \n",
       "2              XXXXXX         jdickie   \n",
       "3  973675167229489152   showupforthis   \n",
       "4  973675167229489152   showupforthis   \n",
       "\n",
       "                                       ORIGINAL TEXT  \\\n",
       "0  RT @Hannasuewilson: It’s officially Perfect Gi...   \n",
       "1  RT @showupforthis: depression: ...\\nme: ...\\nd...   \n",
       "2  @jdickie That’s how I operate too. If your fri...   \n",
       "3  RT @showupforthis: depression: ...\\nme: ...\\nd...   \n",
       "4  RT @showupforthis: depression: ...\\nme: ...\\nd...   \n",
       "\n",
       "                                      CLEANED TEXT I  \\\n",
       "0  RT It s officially Perfect Girls in Bikinis Al...   \n",
       "1  RT depression me depression me depression me d...   \n",
       "2  That s how I operate too If your friend had be...   \n",
       "3  RT depression me depression me depression me d...   \n",
       "4  RT depression me depression me depression me d...   \n",
       "\n",
       "                                     CLEANED TEXT II  \\\n",
       "0   Its officially Perfect Girls in Bikinis All O...   \n",
       "1   depression  me  depression  me  depression  m...   \n",
       "2  Thats how I operate too If your friend had bee...   \n",
       "3   depression  me  depression  me  depression  m...   \n",
       "4   depression  me  depression  me  depression  m...   \n",
       "\n",
       "  Flesch Reading Ease Score SMOG Index Flesch-Kincaid Grade Level  \\\n",
       "0                     66.07          0                        9.5   \n",
       "1                    -65.58          0                       24.9   \n",
       "2                     69.11          0                        8.3   \n",
       "3                    -65.58          0                       24.9   \n",
       "4                    -65.58          0                       24.9   \n",
       "\n",
       "  Coleman-Liau Index Automated Readability Index Dale Chall Readability Score  \\\n",
       "0               7.49                         9.5                         8.32   \n",
       "1              16.04                        24.9                         5.71   \n",
       "2               8.36                         8.3                          7.9   \n",
       "3              16.04                        24.9                         5.71   \n",
       "4              16.04                        24.9                         5.71   \n",
       "\n",
       "  Difficult Words Linsear Write Formula Gunning Fog Scale        Text Standard  \n",
       "0               5                     5           19.8909   9th and 10th grade  \n",
       "1               1                     1                10  11th and 12th grade  \n",
       "2               4                     4           18.0211    8th and 9th grade  \n",
       "3               1                     1                10  11th and 12th grade  \n",
       "4               1                     1                10  11th and 12th grade  "
      ]
     },
     "execution_count": 58,
     "metadata": {},
     "output_type": "execute_result"
    }
   ],
   "source": [
    "pd_df_twts.head(n=5)"
   ]
  },
  {
   "cell_type": "code",
   "execution_count": 59,
   "metadata": {},
   "outputs": [],
   "source": [
    "# with open('pd_df_twt_res.pkl', 'wb') as f:\n",
    "#     pickle.dump(pd_df_twts, f)"
   ]
  },
  {
   "cell_type": "code",
   "execution_count": null,
   "metadata": {},
   "outputs": [],
   "source": []
  }
 ],
 "metadata": {
  "kernelspec": {
   "display_name": "Python 3",
   "language": "python",
   "name": "python3"
  },
  "language_info": {
   "codemirror_mode": {
    "name": "ipython",
    "version": 3
   },
   "file_extension": ".py",
   "mimetype": "text/x-python",
   "name": "python",
   "nbconvert_exporter": "python",
   "pygments_lexer": "ipython3",
   "version": "3.5.2"
  }
 },
 "nbformat": 4,
 "nbformat_minor": 2
}
