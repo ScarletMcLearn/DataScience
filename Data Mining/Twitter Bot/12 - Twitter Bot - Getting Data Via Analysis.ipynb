{
 "cells": [
  {
   "cell_type": "code",
   "execution_count": 1,
   "metadata": {},
   "outputs": [],
   "source": [
    "import pickle"
   ]
  },
  {
   "cell_type": "code",
   "execution_count": 2,
   "metadata": {},
   "outputs": [],
   "source": [
    "with open('depression_1.pkle', 'rb') as f:\n",
    "       stat_file = pickle.load(f)"
   ]
  },
  {
   "cell_type": "code",
   "execution_count": 12,
   "metadata": {},
   "outputs": [
    {
     "data": {
      "text/plain": [
       "{'contributors': None,\n",
       " 'coordinates': None,\n",
       " 'created_at': 'Thu Mar 15 17:55:20 +0000 2018',\n",
       " 'entities': {'hashtags': [],\n",
       "  'symbols': [],\n",
       "  'urls': [],\n",
       "  'user_mentions': [{'id': 1272273181,\n",
       "    'id_str': '1272273181',\n",
       "    'indices': [3, 18],\n",
       "    'name': 'Living Loved',\n",
       "    'screen_name': 'Hannasuewilson'}]},\n",
       " 'favorite_count': 0,\n",
       " 'favorited': False,\n",
       " 'geo': None,\n",
       " 'id': 974343304837042178,\n",
       " 'id_str': '974343304837042178',\n",
       " 'in_reply_to_screen_name': None,\n",
       " 'in_reply_to_status_id': None,\n",
       " 'in_reply_to_status_id_str': None,\n",
       " 'in_reply_to_user_id': None,\n",
       " 'in_reply_to_user_id_str': None,\n",
       " 'is_quote_status': False,\n",
       " 'lang': 'en',\n",
       " 'metadata': {'iso_language_code': 'en', 'result_type': 'recent'},\n",
       " 'place': None,\n",
       " 'retweet_count': 5861,\n",
       " 'retweeted': False,\n",
       " 'retweeted_status': {'contributors': None,\n",
       "  'coordinates': None,\n",
       "  'created_at': 'Wed Mar 14 06:39:01 +0000 2018',\n",
       "  'entities': {'hashtags': [],\n",
       "   'symbols': [],\n",
       "   'urls': [{'display_url': 'twitter.com/i/web/status/9…',\n",
       "     'expanded_url': 'https://twitter.com/i/web/status/973810713079812099',\n",
       "     'indices': [116, 139],\n",
       "     'url': 'https://t.co/zliONTq43T'}],\n",
       "   'user_mentions': []},\n",
       "  'favorite_count': 35122,\n",
       "  'favorited': False,\n",
       "  'geo': None,\n",
       "  'id': 973810713079812099,\n",
       "  'id_str': '973810713079812099',\n",
       "  'in_reply_to_screen_name': None,\n",
       "  'in_reply_to_status_id': None,\n",
       "  'in_reply_to_status_id_str': None,\n",
       "  'in_reply_to_user_id': None,\n",
       "  'in_reply_to_user_id_str': None,\n",
       "  'is_quote_status': False,\n",
       "  'lang': 'en',\n",
       "  'metadata': {'iso_language_code': 'en', 'result_type': 'recent'},\n",
       "  'place': None,\n",
       "  'retweet_count': 5861,\n",
       "  'retweeted': False,\n",
       "  'source': '<a href=\"http://twitter.com/download/iphone\" rel=\"nofollow\">Twitter for iPhone</a>',\n",
       "  'text': 'It’s officially Perfect Girls in Bikinis All Over The Explore Page Season and I will NOT COMPARE MY BODY TO THEIRS… https://t.co/zliONTq43T',\n",
       "  'truncated': True,\n",
       "  'user': {'contributors_enabled': False,\n",
       "   'created_at': 'Sat Mar 16 12:58:01 +0000 2013',\n",
       "   'default_profile': True,\n",
       "   'default_profile_image': False,\n",
       "   'description': 'DBU ZX •writin •journalin •laughin •flower pickin •bell bottoms wearin •crazy worshipin •silly dancin INSTA: spinning_while_my_hans_up !!!!ISAIAH43:19!!!',\n",
       "   'entities': {'description': {'urls': []},\n",
       "    'url': {'urls': [{'display_url': 'gofundme.com/56x1s48',\n",
       "       'expanded_url': 'https://www.gofundme.com/56x1s48',\n",
       "       'indices': [0, 23],\n",
       "       'url': 'https://t.co/81If95GxrN'}]}},\n",
       "   'favourites_count': 55858,\n",
       "   'follow_request_sent': None,\n",
       "   'followers_count': 25705,\n",
       "   'following': None,\n",
       "   'friends_count': 306,\n",
       "   'geo_enabled': True,\n",
       "   'has_extended_profile': True,\n",
       "   'id': 1272273181,\n",
       "   'id_str': '1272273181',\n",
       "   'is_translation_enabled': False,\n",
       "   'is_translator': False,\n",
       "   'lang': 'en',\n",
       "   'listed_count': 75,\n",
       "   'location': 'Dallas tx',\n",
       "   'name': 'Living Loved',\n",
       "   'notifications': None,\n",
       "   'profile_background_color': 'C0DEED',\n",
       "   'profile_background_image_url': 'http://abs.twimg.com/images/themes/theme1/bg.png',\n",
       "   'profile_background_image_url_https': 'https://abs.twimg.com/images/themes/theme1/bg.png',\n",
       "   'profile_background_tile': False,\n",
       "   'profile_banner_url': 'https://pbs.twimg.com/profile_banners/1272273181/1516504099',\n",
       "   'profile_image_url': 'http://pbs.twimg.com/profile_images/973350924931526656/k2M2YbdY_normal.jpg',\n",
       "   'profile_image_url_https': 'https://pbs.twimg.com/profile_images/973350924931526656/k2M2YbdY_normal.jpg',\n",
       "   'profile_link_color': '1DA1F2',\n",
       "   'profile_sidebar_border_color': 'C0DEED',\n",
       "   'profile_sidebar_fill_color': 'DDEEF6',\n",
       "   'profile_text_color': '333333',\n",
       "   'profile_use_background_image': True,\n",
       "   'protected': False,\n",
       "   'screen_name': 'Hannasuewilson',\n",
       "   'statuses_count': 16866,\n",
       "   'time_zone': 'Eastern Time (US & Canada)',\n",
       "   'translator_type': 'none',\n",
       "   'url': 'https://t.co/81If95GxrN',\n",
       "   'utc_offset': -14400,\n",
       "   'verified': False}},\n",
       " 'source': '<a href=\"http://twitter.com/download/iphone\" rel=\"nofollow\">Twitter for iPhone</a>',\n",
       " 'text': 'RT @Hannasuewilson: It’s officially Perfect Girls in Bikinis All Over The Explore Page Season and I will NOT COMPARE MY BODY TO THEIRS AND…',\n",
       " 'truncated': False,\n",
       " 'user': {'contributors_enabled': False,\n",
       "  'created_at': 'Fri Oct 21 14:28:40 +0000 2016',\n",
       "  'default_profile': True,\n",
       "  'default_profile_image': False,\n",
       "  'description': '',\n",
       "  'entities': {'description': {'urls': []}},\n",
       "  'favourites_count': 5083,\n",
       "  'follow_request_sent': None,\n",
       "  'followers_count': 282,\n",
       "  'following': None,\n",
       "  'friends_count': 253,\n",
       "  'geo_enabled': True,\n",
       "  'has_extended_profile': True,\n",
       "  'id': 789473479557017600,\n",
       "  'id_str': '789473479557017600',\n",
       "  'is_translation_enabled': False,\n",
       "  'is_translator': False,\n",
       "  'lang': 'en',\n",
       "  'listed_count': 1,\n",
       "  'location': 'Tullahoma, TN',\n",
       "  'name': 'Laur',\n",
       "  'notifications': None,\n",
       "  'profile_background_color': 'F5F8FA',\n",
       "  'profile_background_image_url': None,\n",
       "  'profile_background_image_url_https': None,\n",
       "  'profile_background_tile': False,\n",
       "  'profile_banner_url': 'https://pbs.twimg.com/profile_banners/789473479557017600/1517255335',\n",
       "  'profile_image_url': 'http://pbs.twimg.com/profile_images/959195910881398784/iAlKitI4_normal.jpg',\n",
       "  'profile_image_url_https': 'https://pbs.twimg.com/profile_images/959195910881398784/iAlKitI4_normal.jpg',\n",
       "  'profile_link_color': '1DA1F2',\n",
       "  'profile_sidebar_border_color': 'C0DEED',\n",
       "  'profile_sidebar_fill_color': 'DDEEF6',\n",
       "  'profile_text_color': '333333',\n",
       "  'profile_use_background_image': True,\n",
       "  'protected': False,\n",
       "  'screen_name': 'lauren__court',\n",
       "  'statuses_count': 1202,\n",
       "  'time_zone': None,\n",
       "  'translator_type': 'none',\n",
       "  'url': None,\n",
       "  'utc_offset': None,\n",
       "  'verified': False}}"
      ]
     },
     "execution_count": 12,
     "metadata": {},
     "output_type": "execute_result"
    }
   ],
   "source": [
    "stat_file[0]"
   ]
  },
  {
   "cell_type": "code",
   "execution_count": 76,
   "metadata": {},
   "outputs": [],
   "source": [
    "stat_file = {'contributors': None,\n",
    " 'coordinates': None,\n",
    " 'created_at': 'Thu Mar 15 17:55:20 +0000 2018',\n",
    " 'entities': {'hashtags': [],\n",
    "  'symbols': [],\n",
    "  'urls': [],\n",
    "  'user_mentions': [{'id': 1272273181,\n",
    "    'id_str': '1272273181',\n",
    "    'indices': [3, 18],\n",
    "    'name': 'Living Loved',\n",
    "    'screen_name': 'Hannasuewilson'}]},\n",
    " 'favorite_count': 0,\n",
    " 'favorited': False,\n",
    " 'geo': None,\n",
    " 'id': 974343304837042178,\n",
    " 'id_str': '974343304837042178',\n",
    " 'in_reply_to_screen_name': None,\n",
    " 'in_reply_to_status_id': None,\n",
    " 'in_reply_to_status_id_str': None,\n",
    " 'in_reply_to_user_id': None,\n",
    " 'in_reply_to_user_id_str': None,\n",
    " 'is_quote_status': False,\n",
    " 'lang': 'en',\n",
    " 'metadata': {'iso_language_code': 'en', 'result_type': 'recent'},\n",
    " 'place': None,\n",
    " 'retweet_count': 5861,\n",
    " 'retweeted': False,\n",
    " 'retweeted_status': {'contributors': None,\n",
    "  'coordinates': None,\n",
    "  'created_at': 'Wed Mar 14 06:39:01 +0000 2018',\n",
    "  'entities': {'hashtags': [],\n",
    "   'symbols': [],\n",
    "   'urls': [{'display_url': 'twitter.com/i/web/status/9…',\n",
    "     'expanded_url': 'https://twitter.com/i/web/status/973810713079812099',\n",
    "     'indices': [116, 139],\n",
    "     'url': 'https://t.co/zliONTq43T'}],\n",
    "   'user_mentions': []},\n",
    "  'favorite_count': 35122,\n",
    "  'favorited': False,\n",
    "  'geo': None,\n",
    "  'id': 973810713079812099,\n",
    "  'id_str': '973810713079812099',\n",
    "  'in_reply_to_screen_name': None,\n",
    "  'in_reply_to_status_id': None,\n",
    "  'in_reply_to_status_id_str': None,\n",
    "  'in_reply_to_user_id': None,\n",
    "  'in_reply_to_user_id_str': None,\n",
    "  'is_quote_status': False,\n",
    "  'lang': 'en',\n",
    "  'metadata': {'iso_language_code': 'en', 'result_type': 'recent'},\n",
    "  'place': None,\n",
    "  'retweet_count': 5861,\n",
    "  'retweeted': False,\n",
    "  'source': '<a href=\"http://twitter.com/download/iphone\" rel=\"nofollow\">Twitter for iPhone</a>',\n",
    "  'text': 'It’s officially Perfect Girls in Bikinis All Over The Explore Page Season and I will NOT COMPARE MY BODY TO THEIRS… https://t.co/zliONTq43T',\n",
    "  'truncated': True,\n",
    "  'user': {'contributors_enabled': False,\n",
    "   'created_at': 'Sat Mar 16 12:58:01 +0000 2013',\n",
    "   'default_profile': True,\n",
    "   'default_profile_image': False,\n",
    "   'description': 'DBU ZX •writin •journalin •laughin •flower pickin •bell bottoms wearin •crazy worshipin •silly dancin INSTA: spinning_while_my_hans_up !!!!ISAIAH43:19!!!',\n",
    "   'entities': {'description': {'urls': []},\n",
    "    'url': {'urls': [{'display_url': 'gofundme.com/56x1s48',\n",
    "       'expanded_url': 'https://www.gofundme.com/56x1s48',\n",
    "       'indices': [0, 23],\n",
    "       'url': 'https://t.co/81If95GxrN'}]}},\n",
    "   'favourites_count': 55858,\n",
    "   'follow_request_sent': None,\n",
    "   'followers_count': 25705,\n",
    "   'following': None,\n",
    "   'friends_count': 306,\n",
    "   'geo_enabled': True,\n",
    "   'has_extended_profile': True,\n",
    "   'id': 1272273181,\n",
    "   'id_str': '1272273181',\n",
    "   'is_translation_enabled': False,\n",
    "   'is_translator': False,\n",
    "   'lang': 'en',\n",
    "   'listed_count': 75,\n",
    "   'location': 'Dallas tx',\n",
    "   'name': 'Living Loved',\n",
    "   'notifications': None,\n",
    "   'profile_background_color': 'C0DEED',\n",
    "   'profile_background_image_url': 'http://abs.twimg.com/images/themes/theme1/bg.png',\n",
    "   'profile_background_image_url_https': 'https://abs.twimg.com/images/themes/theme1/bg.png',\n",
    "   'profile_background_tile': False,\n",
    "   'profile_banner_url': 'https://pbs.twimg.com/profile_banners/1272273181/1516504099',\n",
    "   'profile_image_url': 'http://pbs.twimg.com/profile_images/973350924931526656/k2M2YbdY_normal.jpg',\n",
    "   'profile_image_url_https': 'https://pbs.twimg.com/profile_images/973350924931526656/k2M2YbdY_normal.jpg',\n",
    "   'profile_link_color': '1DA1F2',\n",
    "   'profile_sidebar_border_color': 'C0DEED',\n",
    "   'profile_sidebar_fill_color': 'DDEEF6',\n",
    "   'profile_text_color': '333333',\n",
    "   'profile_use_background_image': True,\n",
    "   'protected': False,\n",
    "   'screen_name': 'Hannasuewilson',\n",
    "   'statuses_count': 16866,\n",
    "   'time_zone': 'Eastern Time (US & Canada)',\n",
    "   'translator_type': 'none',\n",
    "   'url': 'https://t.co/81If95GxrN',\n",
    "   'utc_offset': -14400,\n",
    "   'verified': False}},\n",
    " 'source': '<a href=\"http://twitter.com/download/iphone\" rel=\"nofollow\">Twitter for iPhone</a>',\n",
    " 'text': 'RT @Hannasuewilson: It’s officially Perfect Girls in Bikinis All Over The Explore Page Season and I will NOT COMPARE MY BODY TO THEIRS AND…',\n",
    " 'truncated': False,\n",
    " 'user': {'contributors_enabled': False,\n",
    "  'created_at': 'Fri Oct 21 14:28:40 +0000 2016',\n",
    "  'default_profile': True,\n",
    "  'default_profile_image': False,\n",
    "  'description': '',\n",
    "  'entities': {'description': {'urls': []}},\n",
    "  'favourites_count': 5083,\n",
    "  'follow_request_sent': None,\n",
    "  'followers_count': 282,\n",
    "  'following': None,\n",
    "  'friends_count': 253,\n",
    "  'geo_enabled': True,\n",
    "  'has_extended_profile': True,\n",
    "  'id': 789473479557017600,\n",
    "  'id_str': '789473479557017600',\n",
    "  'is_translation_enabled': False,\n",
    "  'is_translator': False,\n",
    "  'lang': 'en',\n",
    "  'listed_count': 1,\n",
    "  'location': 'Tullahoma, TN',\n",
    "  'name': 'Laur',\n",
    "  'notifications': None,\n",
    "  'profile_background_color': 'F5F8FA',\n",
    "  'profile_background_image_url': None,\n",
    "  'profile_background_image_url_https': None,\n",
    "  'profile_background_tile': False,\n",
    "  'profile_banner_url': 'https://pbs.twimg.com/profile_banners/789473479557017600/1517255335',\n",
    "  'profile_image_url': 'http://pbs.twimg.com/profile_images/959195910881398784/iAlKitI4_normal.jpg',\n",
    "  'profile_image_url_https': 'https://pbs.twimg.com/profile_images/959195910881398784/iAlKitI4_normal.jpg',\n",
    "  'profile_link_color': '1DA1F2',\n",
    "  'profile_sidebar_border_color': 'C0DEED',\n",
    "  'profile_sidebar_fill_color': 'DDEEF6',\n",
    "  'profile_text_color': '333333',\n",
    "  'profile_use_background_image': True,\n",
    "  'protected': False,\n",
    "  'screen_name': 'lauren__court',\n",
    "  'statuses_count': 1202,\n",
    "  'time_zone': None,\n",
    "  'translator_type': 'none',\n",
    "  'url': None,\n",
    "  'utc_offset': None,\n",
    "  'verified': False}}"
   ]
  },
  {
   "cell_type": "code",
   "execution_count": 13,
   "metadata": {},
   "outputs": [
    {
     "data": {
      "text/plain": [
       "'RT @Hannasuewilson: It’s officially Perfect Girls in Bikinis All Over The Explore Page Season and I will NOT COMPARE MY BODY TO THEIRS AND…'"
      ]
     },
     "execution_count": 13,
     "metadata": {},
     "output_type": "execute_result"
    }
   ],
   "source": [
    "stat_file[0]['text']"
   ]
  },
  {
   "cell_type": "code",
   "execution_count": 14,
   "metadata": {},
   "outputs": [
    {
     "data": {
      "text/plain": [
       "139"
      ]
     },
     "execution_count": 14,
     "metadata": {},
     "output_type": "execute_result"
    }
   ],
   "source": [
    "len(stat_file[0]['text'])"
   ]
  },
  {
   "cell_type": "code",
   "execution_count": 22,
   "metadata": {},
   "outputs": [
    {
     "name": "stdout",
     "output_type": "stream",
     "text": [
      "lang : en\n",
      "\n",
      "id_str : 974343304837042178\n",
      "\n",
      "source : <a href=\"http://twitter.com/download/iphone\" rel=\"nofollow\">Twitter for iPhone</a>\n",
      "\n",
      "geo : None\n",
      "\n",
      "text : RT @Hannasuewilson: It’s officially Perfect Girls in Bikinis All Over The Explore Page Season and I will NOT COMPARE MY BODY TO THEIRS AND…\n",
      "\n",
      "is_quote_status : False\n",
      "\n",
      "created_at : Thu Mar 15 17:55:20 +0000 2018\n",
      "\n",
      "id : 974343304837042178\n",
      "\n",
      "favorite_count : 0\n",
      "\n",
      "in_reply_to_user_id : None\n",
      "\n",
      "in_reply_to_status_id_str : None\n",
      "\n",
      "in_reply_to_status_id : None\n",
      "\n",
      "contributors : None\n",
      "\n",
      "retweeted : False\n",
      "\n",
      "metadata : {'result_type': 'recent', 'iso_language_code': 'en'}\n",
      "\n",
      "truncated : False\n",
      "\n",
      "entities : {'urls': [], 'symbols': [], 'user_mentions': [{'id': 1272273181, 'name': 'Living Loved', 'screen_name': 'Hannasuewilson', 'id_str': '1272273181', 'indices': [3, 18]}], 'hashtags': []}\n",
      "\n",
      "place : None\n",
      "\n",
      "in_reply_to_screen_name : None\n",
      "\n",
      "user : {'description': '', 'statuses_count': 1202, 'time_zone': None, 'contributors_enabled': False, 'lang': 'en', 'following': None, 'profile_background_color': 'F5F8FA', 'is_translation_enabled': False, 'notifications': None, 'profile_image_url_https': 'https://pbs.twimg.com/profile_images/959195910881398784/iAlKitI4_normal.jpg', 'created_at': 'Fri Oct 21 14:28:40 +0000 2016', 'default_profile': True, 'id': 789473479557017600, 'name': 'Laur', 'verified': False, 'geo_enabled': True, 'default_profile_image': False, 'profile_link_color': '1DA1F2', 'profile_use_background_image': True, 'profile_background_image_url_https': None, 'protected': False, 'location': 'Tullahoma, TN', 'url': None, 'id_str': '789473479557017600', 'followers_count': 282, 'profile_banner_url': 'https://pbs.twimg.com/profile_banners/789473479557017600/1517255335', 'profile_text_color': '333333', 'profile_background_tile': False, 'entities': {'description': {'urls': []}}, 'has_extended_profile': True, 'listed_count': 1, 'profile_image_url': 'http://pbs.twimg.com/profile_images/959195910881398784/iAlKitI4_normal.jpg', 'profile_sidebar_border_color': 'C0DEED', 'screen_name': 'lauren__court', 'utc_offset': None, 'is_translator': False, 'friends_count': 253, 'translator_type': 'none', 'profile_sidebar_fill_color': 'DDEEF6', 'favourites_count': 5083, 'follow_request_sent': None, 'profile_background_image_url': None}\n",
      "\n",
      "retweet_count : 5861\n",
      "\n",
      "retweeted_status : {'lang': 'en', 'id_str': '973810713079812099', 'source': '<a href=\"http://twitter.com/download/iphone\" rel=\"nofollow\">Twitter for iPhone</a>', 'geo': None, 'text': 'It’s officially Perfect Girls in Bikinis All Over The Explore Page Season and I will NOT COMPARE MY BODY TO THEIRS… https://t.co/zliONTq43T', 'is_quote_status': False, 'created_at': 'Wed Mar 14 06:39:01 +0000 2018', 'id': 973810713079812099, 'favorite_count': 35122, 'in_reply_to_user_id': None, 'in_reply_to_status_id_str': None, 'in_reply_to_status_id': None, 'contributors': None, 'retweeted': False, 'metadata': {'result_type': 'recent', 'iso_language_code': 'en'}, 'truncated': True, 'entities': {'urls': [{'expanded_url': 'https://twitter.com/i/web/status/973810713079812099', 'display_url': 'twitter.com/i/web/status/9…', 'url': 'https://t.co/zliONTq43T', 'indices': [116, 139]}], 'symbols': [], 'user_mentions': [], 'hashtags': []}, 'place': None, 'in_reply_to_screen_name': None, 'user': {'description': 'DBU ZX •writin •journalin •laughin •flower pickin •bell bottoms wearin •crazy worshipin •silly dancin INSTA: spinning_while_my_hans_up !!!!ISAIAH43:19!!!', 'statuses_count': 16866, 'time_zone': 'Eastern Time (US & Canada)', 'contributors_enabled': False, 'lang': 'en', 'following': None, 'profile_background_color': 'C0DEED', 'is_translation_enabled': False, 'notifications': None, 'profile_image_url_https': 'https://pbs.twimg.com/profile_images/973350924931526656/k2M2YbdY_normal.jpg', 'created_at': 'Sat Mar 16 12:58:01 +0000 2013', 'default_profile': True, 'id': 1272273181, 'name': 'Living Loved', 'verified': False, 'geo_enabled': True, 'default_profile_image': False, 'profile_link_color': '1DA1F2', 'profile_use_background_image': True, 'profile_background_image_url_https': 'https://abs.twimg.com/images/themes/theme1/bg.png', 'protected': False, 'location': 'Dallas tx', 'url': 'https://t.co/81If95GxrN', 'id_str': '1272273181', 'followers_count': 25705, 'profile_banner_url': 'https://pbs.twimg.com/profile_banners/1272273181/1516504099', 'profile_text_color': '333333', 'profile_background_tile': False, 'entities': {'description': {'urls': []}, 'url': {'urls': [{'expanded_url': 'https://www.gofundme.com/56x1s48', 'display_url': 'gofundme.com/56x1s48', 'url': 'https://t.co/81If95GxrN', 'indices': [0, 23]}]}}, 'has_extended_profile': True, 'listed_count': 75, 'profile_image_url': 'http://pbs.twimg.com/profile_images/973350924931526656/k2M2YbdY_normal.jpg', 'profile_sidebar_border_color': 'C0DEED', 'screen_name': 'Hannasuewilson', 'utc_offset': -14400, 'is_translator': False, 'friends_count': 306, 'translator_type': 'none', 'profile_sidebar_fill_color': 'DDEEF6', 'favourites_count': 55858, 'follow_request_sent': None, 'profile_background_image_url': 'http://abs.twimg.com/images/themes/theme1/bg.png'}, 'retweet_count': 5861, 'favorited': False, 'coordinates': None, 'in_reply_to_user_id_str': None}\n",
      "\n",
      "favorited : False\n",
      "\n",
      "coordinates : None\n",
      "\n",
      "in_reply_to_user_id_str : None\n",
      "\n"
     ]
    }
   ],
   "source": [
    "for item in stat_file[0]:\n",
    "    print(item + \" : \" + str(stat_file[0][item]))\n",
    "    print()"
   ]
  },
  {
   "cell_type": "code",
   "execution_count": 28,
   "metadata": {},
   "outputs": [
    {
     "data": {
      "text/plain": [
       "973810713079812099"
      ]
     },
     "execution_count": 28,
     "metadata": {},
     "output_type": "execute_result"
    }
   ],
   "source": [
    "stat_file[0]['retweeted_status']['id']    # This turns to the URL, i.e. https://twitter.com/i/web/status/973810713079812099"
   ]
  },
  {
   "cell_type": "code",
   "execution_count": 34,
   "metadata": {},
   "outputs": [
    {
     "data": {
      "text/plain": [
       "'Hannasuewilson'"
      ]
     },
     "execution_count": 34,
     "metadata": {},
     "output_type": "execute_result"
    }
   ],
   "source": [
    "stat_file[0]['entities']['user_mentions'][0]['screen_name']"
   ]
  },
  {
   "cell_type": "code",
   "execution_count": null,
   "metadata": {},
   "outputs": [],
   "source": []
  },
  {
   "cell_type": "code",
   "execution_count": 92,
   "metadata": {},
   "outputs": [],
   "source": [
    "import re\n",
    "import string\n",
    "\n",
    "from contractions import CONTRACTION_MAP\n",
    "\n",
    "import nltk\n",
    "\n",
    "from textstat.textstat import textstat\n",
    "\n",
    "import obo\n",
    "\n",
    "from textblob import TextBlob\n",
    "\n",
    "import preprocessor as p\n",
    "\n",
    "\n",
    "class TextCleaner:\n",
    "    '''Cleans text for Analysis.'''\n",
    "    \n",
    "    def __init__(self):\n",
    "        pass\n",
    "    \n",
    "    \n",
    "    \n",
    "    def cln_twt(twt):\n",
    "        '''Get text from tweet'''\n",
    "        return p.clean(twt)\n",
    "    \n",
    "    def tkn_twt(twt):\n",
    "        '''Tokenize tweet'''\n",
    "        return p.tokenize(twt)\n",
    "    \n",
    "    def prs_twt(twt):\n",
    "        '''Get text from tweet'''\n",
    "        return p.parse(twt)\n",
    "    \n",
    "    \n",
    "    \n",
    "    def clean_tweet(tweet):\n",
    "        '''\n",
    "        Utility function to clean the text in a tweet by removing \n",
    "        links and special characters using regex.\n",
    "        '''\n",
    "        return ' '.join(re.sub(\"(@[A-Za-z0-9]+)|([^0-9A-Za-z \\t])|(\\w+:\\/\\/\\S+)\", \" \", tweet).split())\n",
    "    \n",
    "    \n",
    "    \n",
    "    def removeStopwords(wordlist):\n",
    "        '''\n",
    "        removeStopwords(\"this is a test sentence.\".split(\" \"))\n",
    "        >>> ['test', 'sentence.']\n",
    "        '''\n",
    "        \n",
    "        wordlist = nltk.tokenize.word_tokenize(wordlist)\n",
    "        \n",
    "        return [w for w in wordlist if w.lower() not in nltk.corpus.stopwords.words('english')]\n",
    "    \n",
    "    \n",
    "    \n",
    "\n",
    "    def remove_characters_before_tokenization(sentence,\n",
    "         keep_apostrophes=False):\n",
    "        \n",
    "         '''\n",
    "         remove_characters_before_tokenization('Test sentence 1 2 3 4 @')\n",
    "         >>> Test sentence 1 2 3 4\n",
    "         '''\n",
    "        \n",
    "         sentence = sentence.strip()\n",
    "         if keep_apostrophes:\n",
    "             PATTERN = r'[?|$|&|*|%|@|(|)|~]' # add other characters here to remove them\n",
    "             filtered_sentence = re.sub(PATTERN, r'', sentence)\n",
    "         else:\n",
    "             PATTERN = r'[^a-zA-Z0-9 ]' # only extract alpha-numeric characters\n",
    "             filtered_sentence = re.sub(PATTERN, r'', sentence)\n",
    "         return filtered_sentence \n",
    "    \n",
    "    \n",
    "    \n",
    "    def expand_contractions(sentence, contraction_mapping):\n",
    "         '''\n",
    "          expand_contractions(\"This is a test sentence. But this isn't one. hasn't she hearten?\", CONTRACTION_MAP)\n",
    "          >>> This is a test sentence. But this is not one. has not she hearten?\n",
    "         '''\n",
    "         contractions_pattern = re.compile('({})'.format('|'.join(contraction_mapping.keys())),\n",
    "         flags=re.IGNORECASE|re.DOTALL)\n",
    "            \n",
    "         def expand_match(contraction):\n",
    "             match = contraction.group(0)\n",
    "             first_char = match[0]\n",
    "             expanded_contraction = contraction_mapping.get(match)\\\n",
    "                 if contraction_mapping.get(match)\\\n",
    "                 else contraction_mapping.get(match.lower())\n",
    "             expanded_contraction = first_char+expanded_contraction[1:]\n",
    "             return expanded_contraction\n",
    "         expanded_sentence = contractions_pattern.sub(expand_match, sentence)\n",
    "         return expanded_sentence \n",
    "        \n",
    "        \n",
    "        \n",
    "    def clean_tweet(tweet):\n",
    "        '''\n",
    "        Utility function to clean the text in a tweet by removing \n",
    "        links and special characters using regex.\n",
    "        '''\n",
    "        return ' '.join(re.sub(\"(@[A-Za-z0-9]+)|([^0-9A-Za-z \\t])|(\\w+:\\/\\/\\S+)\", \" \", tweet).split())\n"
   ]
  },
  {
   "cell_type": "code",
   "execution_count": 93,
   "metadata": {},
   "outputs": [],
   "source": [
    "clnr = TextCleaner"
   ]
  },
  {
   "cell_type": "code",
   "execution_count": 94,
   "metadata": {},
   "outputs": [
    {
     "data": {
      "text/plain": [
       "__main__.TextCleaner"
      ]
     },
     "execution_count": 94,
     "metadata": {},
     "output_type": "execute_result"
    }
   ],
   "source": [
    "clnr"
   ]
  },
  {
   "cell_type": "code",
   "execution_count": 82,
   "metadata": {},
   "outputs": [
    {
     "data": {
      "text/plain": [
       "': It’s officially Perfect Girls in Bikinis All Over The Elore Page Season and I will NOT COMPARE MY BODY TO THEIRS AND…'"
      ]
     },
     "execution_count": 82,
     "metadata": {},
     "output_type": "execute_result"
    }
   ],
   "source": [
    "clnr.cln_twt(stat_file['text'])"
   ]
  },
  {
   "cell_type": "code",
   "execution_count": 87,
   "metadata": {},
   "outputs": [
    {
     "data": {
      "text/plain": [
       "'$RESERVED$ $MENTION$: It’s officially Perfect Girls in Bikinis All Over The E$SMILEY$lore Page Season and I will NOT COMPARE MY BODY TO THEIRS AND…'"
      ]
     },
     "execution_count": 87,
     "metadata": {},
     "output_type": "execute_result"
    }
   ],
   "source": [
    "clnr.tkn_twt(stat_file['text'])"
   ]
  },
  {
   "cell_type": "code",
   "execution_count": 86,
   "metadata": {},
   "outputs": [
    {
     "data": {
      "text/plain": [
       "<preprocessor.parse.ParseResult at 0x7f984d5a83c8>"
      ]
     },
     "execution_count": 86,
     "metadata": {},
     "output_type": "execute_result"
    }
   ],
   "source": [
    "clnr.prs_twt(stat_file['text'])"
   ]
  },
  {
   "cell_type": "code",
   "execution_count": 88,
   "metadata": {},
   "outputs": [
    {
     "data": {
      "text/plain": [
       "'RT It s officially Perfect Girls in Bikinis All Over The Explore Page Season and I will NOT COMPARE MY BODY TO THEIRS AND'"
      ]
     },
     "execution_count": 88,
     "metadata": {},
     "output_type": "execute_result"
    }
   ],
   "source": [
    "clnr.clean_tweet(stat_file['text'])"
   ]
  },
  {
   "cell_type": "code",
   "execution_count": 89,
   "metadata": {},
   "outputs": [
    {
     "data": {
      "text/plain": [
       "'RT @Hannasuewilson: It’s officially Perfect Girls in Bikinis All Over The Explore Page Season and I will NOT COMPARE MY BODY TO THEIRS AND…'"
      ]
     },
     "execution_count": 89,
     "metadata": {},
     "output_type": "execute_result"
    }
   ],
   "source": [
    "clnr.expand_contractions(stat_file['text'], contraction_mapping=CONTRACTION_MAP)"
   ]
  },
  {
   "cell_type": "code",
   "execution_count": 90,
   "metadata": {},
   "outputs": [
    {
     "data": {
      "text/plain": [
       "'RT Hannasuewilson Its officially Perfect Girls in Bikinis All Over The Explore Page Season and I will NOT COMPARE MY BODY TO THEIRS AND'"
      ]
     },
     "execution_count": 90,
     "metadata": {},
     "output_type": "execute_result"
    }
   ],
   "source": [
    "clnr.remove_characters_before_tokenization(stat_file['text'])"
   ]
  },
  {
   "cell_type": "code",
   "execution_count": null,
   "metadata": {},
   "outputs": [],
   "source": []
  },
  {
   "cell_type": "code",
   "execution_count": 95,
   "metadata": {},
   "outputs": [
    {
     "data": {
      "text/plain": [
       "['RT',\n",
       " '@',\n",
       " 'Hannasuewilson',\n",
       " ':',\n",
       " '’',\n",
       " 'officially',\n",
       " 'Perfect',\n",
       " 'Girls',\n",
       " 'Bikinis',\n",
       " 'Explore',\n",
       " 'Page',\n",
       " 'Season',\n",
       " 'COMPARE',\n",
       " 'BODY',\n",
       " 'AND…']"
      ]
     },
     "execution_count": 95,
     "metadata": {},
     "output_type": "execute_result"
    }
   ],
   "source": [
    "clnr.removeStopwords(stat_file['text'])"
   ]
  },
  {
   "cell_type": "code",
   "execution_count": null,
   "metadata": {},
   "outputs": [],
   "source": []
  },
  {
   "cell_type": "code",
   "execution_count": 99,
   "metadata": {},
   "outputs": [],
   "source": [
    "class TextAnalyser:\n",
    "    '''Analyses text.'''\n",
    "    \n",
    "    def __init__(self):\n",
    "        pass\n",
    "    \n",
    "    \n",
    "    def stat_text_analysis(test_data):\n",
    "        '''\n",
    "        Returns list of statistical text test results.\n",
    "        '''\n",
    "        fre = textstat.flesch_reading_ease(test_data)\n",
    "        si = textstat.smog_index(test_data)\n",
    "        fkg = textstat.flesch_kincaid_grade(test_data)\n",
    "        cli = textstat.coleman_liau_index(test_data)\n",
    "        ari = textstat.automated_readability_index(test_data)\n",
    "        dcri = textstat.dale_chall_readability_score(test_data)\n",
    "        dw = textstat.difficult_words(test_data)\n",
    "        lwf = textstat.linsear_write_formula(test_data)\n",
    "        gf = textstat.gunning_fog(test_data)\n",
    "        ts = textstat.text_standard(test_data)\n",
    "        \n",
    "        return ([\n",
    "            ['fre', fre],\n",
    "            ['si', si],\n",
    "            ['fkg', fkg],\n",
    "            ['cli', cli],\n",
    "            ['ari', ari],\n",
    "            ['dcri', dcri],\n",
    "            ['dw', dw],\n",
    "            ['lwf', lwf],\n",
    "            ['gf', gf],\n",
    "            ['ts', ts],            \n",
    "                ])\n",
    "    \n",
    "    \n",
    "    \n",
    "    def word_freq_pair(wordstring):\n",
    "        '''\n",
    "        print((word_freq_pair('this is a test sentence is is is.')))\n",
    "        [('this', 1), ('is', 3), ('a', 1), ('test', 1), ('sentence', 1), ('is', 3), ('is', 3), ('is.', 1)]\n",
    "        '''\n",
    "        wordlist = wordstring.split()\n",
    "\n",
    "        wordfreq = []\n",
    "\n",
    "        for w in wordlist:\n",
    "            wordfreq.append(wordlist.count(w))\n",
    "\n",
    "        return list(zip(wordlist, wordfreq))\n",
    "    \n",
    "    \n",
    "    \n",
    "    \n",
    "    \n",
    "    \n",
    "    \n",
    "    \n",
    " # WILL NEED TO TEST   \n",
    "\n",
    "    def nGramsToKWICDict(ngrams):\n",
    "        '''\n",
    "        ngrams = obo.getNGrams('this test sentence has eight words in it'.split(), 5)\n",
    "        print(ngrams)\n",
    "        >>> [['this', 'test', 'sentence', 'has', 'eight'],\n",
    "             ['test', 'sentence', 'has', 'eight', 'words'],\n",
    "             ['sentence', 'has', 'eight', 'words', 'in'],\n",
    "             ['has', 'eight', 'words', 'in', 'it']]\n",
    "        '''\n",
    "        keyindex = len(ngrams[0]) // 2\n",
    "\n",
    "        return keyindex\n",
    "    \n",
    "    \n",
    "    def nGramsToKWICDict(ngrams):\n",
    "        '''\n",
    "        print(nGramsToKWICDict(\n",
    "                             [['this', 'test', 'sentence', 'has', 'eight'],\n",
    "                             ['test', 'sentence', 'has', 'eight', 'words'],\n",
    "                             ['sentence', 'has', 'eight', 'words', 'in'],\n",
    "                             ['has', 'eight', 'words', 'in', 'it']]\n",
    "                             ))\n",
    "                             \n",
    "        >>> {'words': [['has', 'eight', 'words', 'in', 'it']], \n",
    "            'sentence': [['this', 'test', 'sentence', 'has', 'eight']], \n",
    "            'has': [['test', 'sentence', 'has', 'eight', 'words']], \n",
    "            'eight': [['sentence', 'has', 'eight', 'words', 'in']]}\n",
    "        \n",
    "        '''\n",
    "        keyindex = len(ngrams[0]) // 2\n",
    "\n",
    "        kwicdict = {}\n",
    "\n",
    "        for k in ngrams:\n",
    "            if k[keyindex] not in kwicdict:\n",
    "                kwicdict[k[keyindex]] = [k]\n",
    "            else:\n",
    "                kwicdict[k[keyindex]].append(k)\n",
    "        return kwicdict\n",
    "    \n",
    "    def get_n_grams(allMyWords, n):\n",
    "        return obo.getNGrams(allMyWords, n)\n",
    "    \n",
    "    def getNGrams(wordlist, n):\n",
    "        '''\n",
    "        tNGrams(test2.split(), 5)\n",
    "        # -> [['this', 'test', 'sentence', 'has', 'eight'],\n",
    "        # ['test', 'sentence', 'has', 'eight', 'words'],\n",
    "        # ['sentence', 'has', 'eight', 'words', 'in'],\n",
    "        # ['has', 'eight', 'words', 'in', 'it']]\n",
    "        '''\n",
    "        ngrams = []\n",
    "        for i in range(len(wordlist)-(n-1)):\n",
    "            ngrams.append(wordlist[i:i+n])\n",
    "        return ngrams\n",
    "    \n",
    "    \n",
    "    \n",
    "    \n",
    "    \n",
    "    def analize_sentiment(tweet):\n",
    "        '''\n",
    "        Utility function to classify the polarity of a tweet\n",
    "        using textblob.\n",
    "        '''\n",
    "        analysis = TextBlob(clean_tweet(tweet))\n",
    "        if analysis.sentiment.polarity > 0:\n",
    "            return 1\n",
    "        elif analysis.sentiment.polarity == 0:\n",
    "            return 0\n",
    "        else:\n",
    "            return -1\n",
    "        \n",
    "        "
   ]
  },
  {
   "cell_type": "code",
   "execution_count": 100,
   "metadata": {},
   "outputs": [],
   "source": [
    "anlyzr = TextAnalyser"
   ]
  },
  {
   "cell_type": "code",
   "execution_count": 102,
   "metadata": {},
   "outputs": [
    {
     "data": {
      "text/plain": [
       "[['fre', 55.58],\n",
       " ['si', 0],\n",
       " ['fkg', 11.5],\n",
       " ['cli', 11.03],\n",
       " ['ari', 13.3],\n",
       " ['dcri', 9.43],\n",
       " ['dw', 7],\n",
       " ['lwf', 14.0],\n",
       " ['gf', 23.26666666666667],\n",
       " ['ts', '13th and 14th grade']]"
      ]
     },
     "execution_count": 102,
     "metadata": {},
     "output_type": "execute_result"
    }
   ],
   "source": [
    "anlyzr.stat_text_analysis(stat_file['text'])"
   ]
  },
  {
   "cell_type": "code",
   "execution_count": 103,
   "metadata": {},
   "outputs": [
    {
     "data": {
      "text/plain": [
       "[('RT', 1),\n",
       " ('@Hannasuewilson:', 1),\n",
       " ('It’s', 1),\n",
       " ('officially', 1),\n",
       " ('Perfect', 1),\n",
       " ('Girls', 1),\n",
       " ('in', 1),\n",
       " ('Bikinis', 1),\n",
       " ('All', 1),\n",
       " ('Over', 1),\n",
       " ('The', 1),\n",
       " ('Explore', 1),\n",
       " ('Page', 1),\n",
       " ('Season', 1),\n",
       " ('and', 1),\n",
       " ('I', 1),\n",
       " ('will', 1),\n",
       " ('NOT', 1),\n",
       " ('COMPARE', 1),\n",
       " ('MY', 1),\n",
       " ('BODY', 1),\n",
       " ('TO', 1),\n",
       " ('THEIRS', 1),\n",
       " ('AND…', 1)]"
      ]
     },
     "execution_count": 103,
     "metadata": {},
     "output_type": "execute_result"
    }
   ],
   "source": [
    "anlyzr.word_freq_pair(stat_file['text'])"
   ]
  },
  {
   "cell_type": "code",
   "execution_count": null,
   "metadata": {},
   "outputs": [],
   "source": []
  }
 ],
 "metadata": {
  "kernelspec": {
   "display_name": "Python 3",
   "language": "python",
   "name": "python3"
  },
  "language_info": {
   "codemirror_mode": {
    "name": "ipython",
    "version": 3
   },
   "file_extension": ".py",
   "mimetype": "text/x-python",
   "name": "python",
   "nbconvert_exporter": "python",
   "pygments_lexer": "ipython3",
   "version": "3.5.2"
  }
 },
 "nbformat": 4,
 "nbformat_minor": 2
}
