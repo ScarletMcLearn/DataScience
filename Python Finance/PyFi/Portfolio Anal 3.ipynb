{
 "cells": [
  {
   "cell_type": "code",
   "execution_count": 1,
   "id": "a324207a-e2c9-4a96-9ddb-8d3b34e807b9",
   "metadata": {
    "tags": []
   },
   "outputs": [],
   "source": [
    "from BDShare.BDShare import * "
   ]
  },
  {
   "cell_type": "code",
   "execution_count": 133,
   "id": "2d19ac37-d68b-4308-a044-d0158906887f",
   "metadata": {
    "tags": []
   },
   "outputs": [],
   "source": [
    "###################################################################\n",
    "#\n",
    "#\n",
    "# ############### Import necessary libraries\n",
    "#\n",
    "#\n",
    "###################################################################\n",
    "import requests\n",
    "from bs4 import BeautifulSoup\n",
    "from functools import partial\n",
    "from random import randint\n",
    "import time, random\n",
    "from datetime import datetime\n",
    "import random\n",
    "from tqdm import tqdm\n",
    "import pandas as pd\n",
    "# from selenium.webdriver.support.wait import WebDriverWait\n",
    "# from selenium.webdriver.support import expected_conditions as EC\n",
    "# from datetime import datetime, timedelta\n",
    "import re\n",
    "\n",
    "\n",
    "\n",
    "\n",
    "###################################################################\n",
    "#\n",
    "#\n",
    "# ########## Get Company Data\n",
    "#\n",
    "#\n",
    "####################################################################\n",
    "debug = False\n",
    "def get_co_data(co_name):\n",
    "    user_agents = [\n",
    "        \"Mozilla/5.0 (Windows NT 10.0; Win64; x64) AppleWebKit/537.36 (KHTML, like Gecko) Chrome/91.0.4472.124 Safari/537.36\",\n",
    "        \"Mozilla/5.0 (Windows NT 10.0; Win64; x64; rv:89.0) Gecko/20100101 Firefox/89.0\",\n",
    "        \"Mozilla/5.0 (Macintosh; Intel Mac OS X 10_15_7) AppleWebKit/537.36 (KHTML, like Gecko) Chrome/91.0.4472.124 Safari/537.36\",\n",
    "        \"Mozilla/5.0 (Macintosh; Intel Mac OS X 10_15_7) AppleWebKit/537.36 (KHTML, like Gecko) Chrome/91.0.4472.124 Safari/537.36\",\n",
    "        \"Mozilla/5.0 (X11; Ubuntu; Linux x86_64; rv:89.0) Gecko/20100101 Firefox/89.0\",\n",
    "        \"Mozilla/5.0 (X11; Linux x86_64) AppleWebKit/537.36 (KHTML, like Gecko) Chrome/91.0.4472.124 Safari/537.36\",\n",
    "        \"Mozilla/5.0 (X11; Linux x86_64) AppleWebKit/537.36 (KHTML, like Gecko) Chrome/91.0.4472.124 Safari/537.36\",\n",
    "        \"Mozilla/5.0 (Windows NT 10.0; Win64; x64) AppleWebKit/537.36 (KHTML, like Gecko) Chrome/91.0.4472.124 Safari/537.36\",\n",
    "        \"Mozilla/5.0 (Windows NT 10.0; Win64; x64; rv:89.0) Gecko/20100101 Firefox/89.0\",\n",
    "        \"Mozilla/5.0 (Windows NT 10.0; Win64; x64) AppleWebKit/537.36 (KHTML, like Gecko) Chrome/91.0.4472.124 Safari/537.36\",\n",
    "        \"Mozilla/5.0 (Windows NT 10.0; Win64; x64; rv:89.0) Gecko/20100101 Firefox/89.0\",\n",
    "        \"Mozilla/5.0 (Windows NT 10.0; Win64; x64) AppleWebKit/537.36 (KHTML, like Gecko) Chrome/91.0.4472.124 Safari/537.36\",\n",
    "        \"Mozilla/5.0 (Windows NT 10.0; Win64; x64; rv:89.0) Gecko/20100101 Firefox/89.0\",\n",
    "        \"Mozilla/5.0 (Windows NT 10.0; Win64; x64) AppleWebKit/537.36 (KHTML, like Gecko) Chrome/91.0.4472.124 Safari/537.36\",\n",
    "        \"Mozilla/5.0 (Windows NT 10.0; Win64; x64; rv:89.0) Gecko/20100101 Firefox/89.0\",\n",
    "        \"Mozilla/5.0 (Windows NT 10.0; Win64; x64) AppleWebKit/537.36 (KHTML, like Gecko) Chrome/91.0.4472.124 Safari/537.36\",\n",
    "        \"Mozilla/5.0 (Windows NT 10.0; Win64; x64; rv:89.0) Gecko/20100101 Firefox/89.0\",\n",
    "        \"Mozilla/5.0 (Windows NT 10.0; Win64; x64) AppleWebKit/537.36 (KHTML, like Gecko) Chrome/91.0.4472.124 Safari/537.36\",\n",
    "        \"Mozilla/5.0 (Windows NT 10.0; Win64; x64; rv:89.0) Gecko/20100101 Firefox/89.0\",\n",
    "        \"Mozilla/5.0 (Windows NT 10.0; Win64; x64) AppleWebKit/537.36 (KHTML, like Gecko) Chrome/91.0.4472.124 Safari/537.36\",\n",
    "        \"Mozilla/5.0 (Windows NT 10.0; Win64; x64; rv:89.0) Gecko/20100101 Firefox/89.0\",\n",
    "        \"Mozilla/5.0 (Windows NT 10.0; Win64; x64) AppleWebKit/537.36 (KHTML, like Gecko) Chrome/91.0.4472.124 Safari/537.36\",\n",
    "        \"Mozilla/5.0 (Windows NT 10.0; Win64; x64; rv:89.0) Gecko/20100101 Firefox/89.0\",\n",
    "        \"Mozilla/5.0 (Windows NT 10.0; Win64; x64) AppleWebKit/537.36 (KHTML, like Gecko) Chrome/91.0.4472.124 Safari/537.36\",\n",
    "        \"Mozilla/5.0 (Windows NT 10.0; Win64; x64; rv:89.0) Gecko/20100101 Firefox/89.0\",\n",
    "        # Add more user agents here...\n",
    "        # ...\n",
    "    ]\n",
    "    \n",
    "    \n",
    "    \n",
    "    # Randomly select a user agent\n",
    "    random_user_agent = random.choice(user_agents)\n",
    "    \n",
    "    # Create a session object\n",
    "    session = requests.Session()\n",
    "    \n",
    "    # Set the user agent as a header for the session\n",
    "    session.headers.update({'User-Agent': random_user_agent,\n",
    "                            'Accept': 'text/plain'})\n",
    "    \n",
    "    url = 'https://www.dsebd.org/latest_share_price_scroll_l.php'\n",
    "    \n",
    "    # Make a request using the session\n",
    "    response = session.get(url)\n",
    "    \n",
    "    \n",
    "    \n",
    "    # soup = BeautifulSoup(response.text)\n",
    "    html_content = response.content\n",
    "    \n",
    "    # Parse the HTML content with BeautifulSoup\n",
    "    soup = BeautifulSoup(html_content, 'html.parser')\n",
    "\n",
    "    all_tr = soup.findAll('div', class_='table-responsive inner-scroll')[0].findAll('tr')\n",
    "    \n",
    "    tmp_c = 0\n",
    "    \n",
    "    for j in all_tr[1:]:   \n",
    "        curr_tr_data = j.findAll('td')\n",
    "        for i in range(len(curr_tr_data)):\n",
    "            if i == 0:\n",
    "                if debug==True:\n",
    "                    print(str(i) , \" : \", curr_tr_data[i])\n",
    "                serial=curr_tr_data[i].text\n",
    "                pass\n",
    "            if i % 10 == 0:\n",
    "                if debug==True:\n",
    "                    print(str(i) , \" : \", curr_tr_data[i])\n",
    "                if curr_tr_data[i].text == '--':\n",
    "                    volume = 0\n",
    "                else: \n",
    "                    volume = float(curr_tr_data[i].text.replace(',', ''))\n",
    "                pass\n",
    "            elif i % 9 == 0:\n",
    "                if debug==True:\n",
    "                    print(str(i) , \" : \", curr_tr_data[i])\n",
    "                if curr_tr_data[i].text == '--':\n",
    "                    value_of_trades = 0\n",
    "                else: \n",
    "                    value_of_trades = float(curr_tr_data[i].text.replace(',', ''))\n",
    "                pass\n",
    "            elif i % 8 == 0:\n",
    "                if debug==True:\n",
    "                    print(str(i) , \" : \", curr_tr_data[i])\n",
    "                if curr_tr_data[i].text == '--':\n",
    "                    number_of_trades = 0\n",
    "                else: \n",
    "                    number_of_trades = float(curr_tr_data[i].text.replace(',', ''))\n",
    "                pass\n",
    "            elif i % 7 == 0:\n",
    "                if debug==True:\n",
    "                    print(str(i) , \" : \", curr_tr_data[i])\n",
    "                if curr_tr_data[i].text == '--':\n",
    "                    percentage_change = 0\n",
    "                else: \n",
    "                    percentage_change = float(curr_tr_data[i].text.replace(',', ''))\n",
    "                pass\n",
    "            elif i % 6 == 0:\n",
    "                if debug==True:\n",
    "                    print(str(i) , \" : \", curr_tr_data[i])\n",
    "                if curr_tr_data[i].text == '--':\n",
    "                    yesterday_close_price = 0\n",
    "                else: \n",
    "                    yesterday_close_price = float(curr_tr_data[i].text.replace(',', ''))\n",
    "                pass\n",
    "            elif i % 5 == 0:\n",
    "                if debug==True:\n",
    "                    print(str(i) , \" : \", curr_tr_data[i])\n",
    "                if curr_tr_data[i].text == '--':\n",
    "                    close_price = 0\n",
    "                else:\n",
    "                    close_price = float(curr_tr_data[i].text.replace(',', '')) \n",
    "                pass\n",
    "            elif i % 4 == 0:\n",
    "                if debug==True:\n",
    "                    print(str(i) , \" : \", curr_tr_data[i])\n",
    "                if curr_tr_data[i].text == '--':\n",
    "                    last_low = 0\n",
    "                else:\n",
    "                    last_low = float(curr_tr_data[i].text.replace(',', ''))\n",
    "                pass\n",
    "            elif i % 3 == 0:\n",
    "                if debug==True:\n",
    "                    print(str(i) , \" : \", curr_tr_data[i])\n",
    "                if curr_tr_data[i].text == '--':\n",
    "                    last_high = 0\n",
    "                else:\n",
    "                    last_high = float(curr_tr_data[i].text.replace(',', ''))\n",
    "                pass\n",
    "            elif i % 2 == 0:\n",
    "                if debug==True:\n",
    "                    print(str(i) , \" : \", curr_tr_data[i])\n",
    "                if curr_tr_data[i].text == '--':\n",
    "                    last_trading_price = 0\n",
    "                else:\n",
    "                    last_trading_price = float(curr_tr_data[i].text.replace(',', ''))\n",
    "                pass\n",
    "            elif i % 1 == 0:\n",
    "                if debug==True:\n",
    "                    print(str(i) , \" : \", curr_tr_data[i])\n",
    "                if curr_tr_data[i].text == '--':\n",
    "                    trading_code = 'None'\n",
    "                else:\n",
    "                    trading_code = re.sub(r'[^a-zA-Z0-9]', '', curr_tr_data[i].text)\n",
    "                pass\n",
    "                \n",
    "        curr_co_data = {\n",
    "                        'serial':serial,\n",
    "                        'trading_code':trading_code,\n",
    "                        'last_trading_price':last_trading_price,\n",
    "                        'last_high':last_high,\n",
    "                        'last_low':last_low,\n",
    "                        'close_price':close_price,\n",
    "                        'yesterday_close_price':yesterday_close_price,\n",
    "                        'percentage_change':percentage_change,\n",
    "                        'number_of_trades':number_of_trades,\n",
    "                        'value_of_trades':value_of_trades,\n",
    "                        'volume':volume,                    \n",
    "                        }\n",
    "            # continue\n",
    "        tmp_c=tmp_c+1\n",
    "        if trading_code == co_name:\n",
    "            if debug==True:\n",
    "                print('Breaking')\n",
    "            return curr_co_data\n",
    "            break\n",
    "\n"
   ]
  },
  {
   "cell_type": "code",
   "execution_count": 28,
   "id": "fa2755bf-d6e6-4692-adc1-9b371312f871",
   "metadata": {
    "tags": []
   },
   "outputs": [],
   "source": [
    "user_agents = [\n",
    "        \"Mozilla/5.0 (Windows NT 10.0; Win64; x64) AppleWebKit/537.36 (KHTML, like Gecko) Chrome/91.0.4472.124 Safari/537.36\",\n",
    "        \"Mozilla/5.0 (Windows NT 10.0; Win64; x64; rv:89.0) Gecko/20100101 Firefox/89.0\",\n",
    "        \"Mozilla/5.0 (Macintosh; Intel Mac OS X 10_15_7) AppleWebKit/537.36 (KHTML, like Gecko) Chrome/91.0.4472.124 Safari/537.36\",\n",
    "        \"Mozilla/5.0 (Macintosh; Intel Mac OS X 10_15_7) AppleWebKit/537.36 (KHTML, like Gecko) Chrome/91.0.4472.124 Safari/537.36\",\n",
    "        \"Mozilla/5.0 (X11; Ubuntu; Linux x86_64; rv:89.0) Gecko/20100101 Firefox/89.0\",\n",
    "        \"Mozilla/5.0 (X11; Linux x86_64) AppleWebKit/537.36 (KHTML, like Gecko) Chrome/91.0.4472.124 Safari/537.36\",\n",
    "        \"Mozilla/5.0 (X11; Linux x86_64) AppleWebKit/537.36 (KHTML, like Gecko) Chrome/91.0.4472.124 Safari/537.36\",\n",
    "        \"Mozilla/5.0 (Windows NT 10.0; Win64; x64) AppleWebKit/537.36 (KHTML, like Gecko) Chrome/91.0.4472.124 Safari/537.36\",\n",
    "        \"Mozilla/5.0 (Windows NT 10.0; Win64; x64; rv:89.0) Gecko/20100101 Firefox/89.0\",\n",
    "        \"Mozilla/5.0 (Windows NT 10.0; Win64; x64) AppleWebKit/537.36 (KHTML, like Gecko) Chrome/91.0.4472.124 Safari/537.36\",\n",
    "        \"Mozilla/5.0 (Windows NT 10.0; Win64; x64; rv:89.0) Gecko/20100101 Firefox/89.0\",\n",
    "        \"Mozilla/5.0 (Windows NT 10.0; Win64; x64) AppleWebKit/537.36 (KHTML, like Gecko) Chrome/91.0.4472.124 Safari/537.36\",\n",
    "        \"Mozilla/5.0 (Windows NT 10.0; Win64; x64; rv:89.0) Gecko/20100101 Firefox/89.0\",\n",
    "        \"Mozilla/5.0 (Windows NT 10.0; Win64; x64) AppleWebKit/537.36 (KHTML, like Gecko) Chrome/91.0.4472.124 Safari/537.36\",\n",
    "        \"Mozilla/5.0 (Windows NT 10.0; Win64; x64; rv:89.0) Gecko/20100101 Firefox/89.0\",\n",
    "        \"Mozilla/5.0 (Windows NT 10.0; Win64; x64) AppleWebKit/537.36 (KHTML, like Gecko) Chrome/91.0.4472.124 Safari/537.36\",\n",
    "        \"Mozilla/5.0 (Windows NT 10.0; Win64; x64; rv:89.0) Gecko/20100101 Firefox/89.0\",\n",
    "        \"Mozilla/5.0 (Windows NT 10.0; Win64; x64) AppleWebKit/537.36 (KHTML, like Gecko) Chrome/91.0.4472.124 Safari/537.36\",\n",
    "        \"Mozilla/5.0 (Windows NT 10.0; Win64; x64; rv:89.0) Gecko/20100101 Firefox/89.0\",\n",
    "        \"Mozilla/5.0 (Windows NT 10.0; Win64; x64) AppleWebKit/537.36 (KHTML, like Gecko) Chrome/91.0.4472.124 Safari/537.36\",\n",
    "        \"Mozilla/5.0 (Windows NT 10.0; Win64; x64; rv:89.0) Gecko/20100101 Firefox/89.0\",\n",
    "        \"Mozilla/5.0 (Windows NT 10.0; Win64; x64) AppleWebKit/537.36 (KHTML, like Gecko) Chrome/91.0.4472.124 Safari/537.36\",\n",
    "        \"Mozilla/5.0 (Windows NT 10.0; Win64; x64; rv:89.0) Gecko/20100101 Firefox/89.0\",\n",
    "        \"Mozilla/5.0 (Windows NT 10.0; Win64; x64) AppleWebKit/537.36 (KHTML, like Gecko) Chrome/91.0.4472.124 Safari/537.36\",\n",
    "        \"Mozilla/5.0 (Windows NT 10.0; Win64; x64; rv:89.0) Gecko/20100101 Firefox/89.0\",\n",
    "        # Add more user agents here...\n",
    "        # ...\n",
    "    ]\n",
    "    \n",
    "    \n",
    "    \n",
    "# Randomly select a user agent\n",
    "random_user_agent = random.choice(user_agents)\n",
    "    \n",
    "# Create a session object\n",
    "session = requests.Session()\n",
    "    \n",
    "# Set the user agent as a header for the session\n",
    "session.headers.update({'User-Agent': random_user_agent,\n",
    "                            'Accept': 'text/plain'})\n",
    "    \n",
    "url = 'https://www.dsebd.org/latest_share_price_scroll_l.php'\n",
    "\n",
    "url = 'https://dsebd.org/top_ten_loser.php'\n",
    "    \n",
    "# Make a request using the session\n",
    "response = session.get(url)\n",
    "    \n",
    "    \n",
    "    \n",
    "# soup = BeautifulSoup(response.text)\n",
    "html_content = response.content\n",
    "    \n",
    "# Parse the HTML content with BeautifulSoup\n",
    "soup = BeautifulSoup(html_content, 'html.parser')\n",
    "\n",
    "# all_tr = soup.findAll('div', class_='table-responsive inner-scroll')[0].findAll('tr')\n",
    "    \n",
    "tmp_c = 0"
   ]
  },
  {
   "cell_type": "code",
   "execution_count": 29,
   "id": "ecbee434-2eb2-42f6-a10e-002965ed9be6",
   "metadata": {
    "tags": []
   },
   "outputs": [
    {
     "data": {
      "text/plain": [
       "3"
      ]
     },
     "execution_count": 29,
     "metadata": {},
     "output_type": "execute_result"
    }
   ],
   "source": [
    "len(\n",
    "    soup.findAll('div', class_='table-responsive')\n",
    ")"
   ]
  },
  {
   "cell_type": "code",
   "execution_count": 30,
   "id": "5944a517-38fd-46a3-bd49-b646d2b82cfe",
   "metadata": {
    "tags": []
   },
   "outputs": [],
   "source": [
    "tables = soup.findAll('div', class_='table-responsive')"
   ]
  },
  {
   "cell_type": "code",
   "execution_count": 31,
   "id": "15e4946e-6987-47b2-bb8a-64494f25197d",
   "metadata": {
    "tags": []
   },
   "outputs": [
    {
     "data": {
      "text/plain": [
       "<tr>\n",
       "<td width=\"4%\">1</td>\n",
       "<td width=\"15%\">\n",
       "<a class=\"ab1\" href=\"displayCompany.php?name=KBPPWBIL\">\n",
       "\t\t\t\t\t\t\t\t\t\t\t\tKBPPWBIL\t\t\t\t\t\t\t\t\t\t\t</a>\n",
       "</td>\n",
       "<td width=\"10%\">24.9</td>\n",
       "<td width=\"10%\">27.6</td>\n",
       "<td width=\"12%\">24.6</td>\n",
       "<td width=\"11%\">27.2</td>\n",
       "<td class=\"background-yellow\" width=\"12%\">-8.4559</td>\n",
       "</tr>"
      ]
     },
     "execution_count": 31,
     "metadata": {},
     "output_type": "execute_result"
    }
   ],
   "source": [
    "tables[0].findAll('tr')[1]"
   ]
  },
  {
   "cell_type": "code",
   "execution_count": 32,
   "id": "ff53d6af-8b85-42e4-b8a0-e55ec0469648",
   "metadata": {
    "tags": []
   },
   "outputs": [
    {
     "data": {
      "text/plain": [
       "'MEGHNAPET'"
      ]
     },
     "execution_count": 32,
     "metadata": {},
     "output_type": "execute_result"
    }
   ],
   "source": [
    "tables[0].findAll('tr')[2].findAll('td')[1].text.strip()"
   ]
  },
  {
   "cell_type": "code",
   "execution_count": null,
   "id": "244002d8-0559-488b-a61b-f8cdae9fda22",
   "metadata": {},
   "outputs": [],
   "source": []
  },
  {
   "cell_type": "code",
   "execution_count": null,
   "id": "c2f4e33a-c1bb-43b6-ac5f-876b3e11d738",
   "metadata": {},
   "outputs": [],
   "source": []
  },
  {
   "cell_type": "code",
   "execution_count": null,
   "id": "d8dd167a-d99e-434c-a3c1-b918aea2ccfe",
   "metadata": {},
   "outputs": [],
   "source": []
  },
  {
   "cell_type": "code",
   "execution_count": 50,
   "id": "259d15dc-32d9-4f57-821e-82ac925c9fdd",
   "metadata": {
    "tags": []
   },
   "outputs": [],
   "source": [
    "co_list = []\n",
    "\n",
    "for table in soup.findAll('div', class_='table-responsive'):\n",
    "    table_rows = table.findAll('tr')\n",
    "    for curr_row in table_rows:\n",
    "        try:\n",
    "            co_text = curr_row.findAll('td')[1].text.strip()\n",
    "            if len(co_text) < 23 and len(co_text) > 2:\n",
    "                co_list.append(co_text)\n",
    "        except:\n",
    "            pass\n",
    "        \n",
    "co_list = set(co_list)"
   ]
  },
  {
   "cell_type": "code",
   "execution_count": 51,
   "id": "d1a00c6f-1c29-4d99-8ef6-3d7e0ff242cc",
   "metadata": {
    "tags": []
   },
   "outputs": [
    {
     "data": {
      "text/plain": [
       "{'CRYSTALINS',\n",
       " 'DAFODILCOM',\n",
       " 'DESHBANDHU',\n",
       " 'EHL',\n",
       " 'INTRACO',\n",
       " 'ISNLTD',\n",
       " 'KBPPWBIL',\n",
       " 'LEGACYFOOT',\n",
       " 'MEGHNAPET',\n",
       " 'NORTHERN',\n",
       " 'PRIMELIFE',\n",
       " 'RSRMSTEEL',\n",
       " 'SEAPEARL',\n",
       " 'STANCERAM'}"
      ]
     },
     "execution_count": 51,
     "metadata": {},
     "output_type": "execute_result"
    }
   ],
   "source": [
    "co_list"
   ]
  },
  {
   "cell_type": "code",
   "execution_count": 40,
   "id": "08b4b9f2-bdcc-445f-884a-8b83eaade5db",
   "metadata": {
    "tags": []
   },
   "outputs": [
    {
     "data": {
      "text/plain": [
       "3"
      ]
     },
     "execution_count": 40,
     "metadata": {},
     "output_type": "execute_result"
    }
   ],
   "source": [
    "len(soup.findAll('div', class_='table-responsive'))"
   ]
  },
  {
   "cell_type": "code",
   "execution_count": 46,
   "id": "1bca6e2e-baa2-48a6-aa12-8b25a24b2f07",
   "metadata": {
    "tags": []
   },
   "outputs": [
    {
     "data": {
      "text/plain": [
       "'DAFODILCOM'"
      ]
     },
     "execution_count": 46,
     "metadata": {},
     "output_type": "execute_result"
    }
   ],
   "source": [
    "soup.findAll('div', class_='table-responsive')[1].findAll('tr')[9].findAll('td')[1].text.strip()"
   ]
  },
  {
   "cell_type": "code",
   "execution_count": 27,
   "id": "2750c337-9e63-4bae-af8c-427d28417a9c",
   "metadata": {
    "tags": []
   },
   "outputs": [
    {
     "data": {
      "text/plain": [
       "394"
      ]
     },
     "execution_count": 27,
     "metadata": {},
     "output_type": "execute_result"
    }
   ],
   "source": [
    "len(co_list)"
   ]
  },
  {
   "cell_type": "code",
   "execution_count": 49,
   "id": "e40bffdc-d639-40a7-af65-9e9ccf24b689",
   "metadata": {
    "tags": []
   },
   "outputs": [
    {
     "data": {
      "text/plain": [
       "23"
      ]
     },
     "execution_count": 49,
     "metadata": {},
     "output_type": "execute_result"
    }
   ],
   "source": [
    "len('CLOSEP* = Closing Price')"
   ]
  },
  {
   "cell_type": "code",
   "execution_count": null,
   "id": "109a7e8a-03e8-4b0e-b30c-e5ce1b8240d0",
   "metadata": {},
   "outputs": [],
   "source": []
  },
  {
   "cell_type": "code",
   "execution_count": null,
   "id": "dc94a320-2592-4859-8e48-bb7a0b63450e",
   "metadata": {},
   "outputs": [],
   "source": []
  },
  {
   "cell_type": "code",
   "execution_count": 52,
   "id": "73be5611-0ed6-4005-b660-b304d51765d7",
   "metadata": {
    "tags": []
   },
   "outputs": [
    {
     "data": {
      "text/plain": [
       "{'CRYSTALINS',\n",
       " 'DAFODILCOM',\n",
       " 'DESHBANDHU',\n",
       " 'EHL',\n",
       " 'INTRACO',\n",
       " 'ISNLTD',\n",
       " 'KBPPWBIL',\n",
       " 'LEGACYFOOT',\n",
       " 'MEGHNAPET',\n",
       " 'NORTHERN',\n",
       " 'PRIMELIFE',\n",
       " 'RSRMSTEEL',\n",
       " 'SEAPEARL',\n",
       " 'STANCERAM'}"
      ]
     },
     "execution_count": 52,
     "metadata": {},
     "output_type": "execute_result"
    }
   ],
   "source": [
    "def get_losers():\n",
    "    user_agents = [\n",
    "        \"Mozilla/5.0 (Windows NT 10.0; Win64; x64) AppleWebKit/537.36 (KHTML, like Gecko) Chrome/91.0.4472.124 Safari/537.36\",\n",
    "        \"Mozilla/5.0 (Windows NT 10.0; Win64; x64; rv:89.0) Gecko/20100101 Firefox/89.0\",\n",
    "        \"Mozilla/5.0 (Macintosh; Intel Mac OS X 10_15_7) AppleWebKit/537.36 (KHTML, like Gecko) Chrome/91.0.4472.124 Safari/537.36\",\n",
    "        \"Mozilla/5.0 (Macintosh; Intel Mac OS X 10_15_7) AppleWebKit/537.36 (KHTML, like Gecko) Chrome/91.0.4472.124 Safari/537.36\",\n",
    "        \"Mozilla/5.0 (X11; Ubuntu; Linux x86_64; rv:89.0) Gecko/20100101 Firefox/89.0\",\n",
    "        \"Mozilla/5.0 (X11; Linux x86_64) AppleWebKit/537.36 (KHTML, like Gecko) Chrome/91.0.4472.124 Safari/537.36\",\n",
    "        \"Mozilla/5.0 (X11; Linux x86_64) AppleWebKit/537.36 (KHTML, like Gecko) Chrome/91.0.4472.124 Safari/537.36\",\n",
    "        \"Mozilla/5.0 (Windows NT 10.0; Win64; x64) AppleWebKit/537.36 (KHTML, like Gecko) Chrome/91.0.4472.124 Safari/537.36\",\n",
    "        \"Mozilla/5.0 (Windows NT 10.0; Win64; x64; rv:89.0) Gecko/20100101 Firefox/89.0\",\n",
    "        \"Mozilla/5.0 (Windows NT 10.0; Win64; x64) AppleWebKit/537.36 (KHTML, like Gecko) Chrome/91.0.4472.124 Safari/537.36\",\n",
    "        \"Mozilla/5.0 (Windows NT 10.0; Win64; x64; rv:89.0) Gecko/20100101 Firefox/89.0\",\n",
    "        \"Mozilla/5.0 (Windows NT 10.0; Win64; x64) AppleWebKit/537.36 (KHTML, like Gecko) Chrome/91.0.4472.124 Safari/537.36\",\n",
    "        \"Mozilla/5.0 (Windows NT 10.0; Win64; x64; rv:89.0) Gecko/20100101 Firefox/89.0\",\n",
    "        \"Mozilla/5.0 (Windows NT 10.0; Win64; x64) AppleWebKit/537.36 (KHTML, like Gecko) Chrome/91.0.4472.124 Safari/537.36\",\n",
    "        \"Mozilla/5.0 (Windows NT 10.0; Win64; x64; rv:89.0) Gecko/20100101 Firefox/89.0\",\n",
    "        \"Mozilla/5.0 (Windows NT 10.0; Win64; x64) AppleWebKit/537.36 (KHTML, like Gecko) Chrome/91.0.4472.124 Safari/537.36\",\n",
    "        \"Mozilla/5.0 (Windows NT 10.0; Win64; x64; rv:89.0) Gecko/20100101 Firefox/89.0\",\n",
    "        \"Mozilla/5.0 (Windows NT 10.0; Win64; x64) AppleWebKit/537.36 (KHTML, like Gecko) Chrome/91.0.4472.124 Safari/537.36\",\n",
    "        \"Mozilla/5.0 (Windows NT 10.0; Win64; x64; rv:89.0) Gecko/20100101 Firefox/89.0\",\n",
    "        \"Mozilla/5.0 (Windows NT 10.0; Win64; x64) AppleWebKit/537.36 (KHTML, like Gecko) Chrome/91.0.4472.124 Safari/537.36\",\n",
    "        \"Mozilla/5.0 (Windows NT 10.0; Win64; x64; rv:89.0) Gecko/20100101 Firefox/89.0\",\n",
    "        \"Mozilla/5.0 (Windows NT 10.0; Win64; x64) AppleWebKit/537.36 (KHTML, like Gecko) Chrome/91.0.4472.124 Safari/537.36\",\n",
    "        \"Mozilla/5.0 (Windows NT 10.0; Win64; x64; rv:89.0) Gecko/20100101 Firefox/89.0\",\n",
    "        \"Mozilla/5.0 (Windows NT 10.0; Win64; x64) AppleWebKit/537.36 (KHTML, like Gecko) Chrome/91.0.4472.124 Safari/537.36\",\n",
    "        \"Mozilla/5.0 (Windows NT 10.0; Win64; x64; rv:89.0) Gecko/20100101 Firefox/89.0\",\n",
    "        # Add more user agents here...\n",
    "        # ...\n",
    "    ]\n",
    "    \n",
    "    \n",
    "\n",
    "    # Randomly select a user agent\n",
    "    random_user_agent = random.choice(user_agents)\n",
    "\n",
    "    # Create a session object\n",
    "    session = requests.Session()\n",
    "\n",
    "    # Set the user agent as a header for the session\n",
    "    session.headers.update({'User-Agent': random_user_agent,\n",
    "                                'Accept': 'text/plain'})\n",
    "\n",
    "    # url = 'https://www.dsebd.org/latest_share_price_scroll_l.php'\n",
    "\n",
    "    url = 'https://dsebd.org/top_ten_loser.php'\n",
    "\n",
    "    # Make a request using the session\n",
    "    response = session.get(url)\n",
    "\n",
    "\n",
    "\n",
    "    # soup = BeautifulSoup(response.text)\n",
    "    html_content = response.content\n",
    "\n",
    "    # Parse the HTML content with BeautifulSoup\n",
    "    soup = BeautifulSoup(html_content, 'html.parser')\n",
    "\n",
    "    co_list = []\n",
    "\n",
    "    for table in soup.findAll('div', class_='table-responsive'):\n",
    "        table_rows = table.findAll('tr')\n",
    "        for curr_row in table_rows:\n",
    "            try:\n",
    "                co_text = curr_row.findAll('td')[1].text.strip()\n",
    "                if len(co_text) < 23 and len(co_text) > 2:\n",
    "                    co_list.append(co_text)\n",
    "            except:\n",
    "                pass\n",
    "\n",
    "    co_list = set(co_list)\n",
    "    \n",
    "    return co_list\n",
    "\n",
    "get_losers()"
   ]
  },
  {
   "cell_type": "code",
   "execution_count": 53,
   "id": "dbadc2a1-799a-4996-9af0-5bacb107c088",
   "metadata": {
    "tags": []
   },
   "outputs": [
    {
     "data": {
      "text/plain": [
       "{'AGRANINS',\n",
       " 'DHAKAINS',\n",
       " 'FINEFOODS',\n",
       " 'GREENDELT',\n",
       " 'MEGHNALIFE',\n",
       " 'PARAMOUNT',\n",
       " 'PIONEERINS',\n",
       " 'RELIANCINS',\n",
       " 'SAMATALETH',\n",
       " 'SONARBAINS',\n",
       " 'STANDARINS',\n",
       " 'TAKAFULINS',\n",
       " 'TILIL',\n",
       " 'YPL'}"
      ]
     },
     "execution_count": 53,
     "metadata": {},
     "output_type": "execute_result"
    }
   ],
   "source": [
    "def get_gainers():\n",
    "    user_agents = [\n",
    "        \"Mozilla/5.0 (Windows NT 10.0; Win64; x64) AppleWebKit/537.36 (KHTML, like Gecko) Chrome/91.0.4472.124 Safari/537.36\",\n",
    "        \"Mozilla/5.0 (Windows NT 10.0; Win64; x64; rv:89.0) Gecko/20100101 Firefox/89.0\",\n",
    "        \"Mozilla/5.0 (Macintosh; Intel Mac OS X 10_15_7) AppleWebKit/537.36 (KHTML, like Gecko) Chrome/91.0.4472.124 Safari/537.36\",\n",
    "        \"Mozilla/5.0 (Macintosh; Intel Mac OS X 10_15_7) AppleWebKit/537.36 (KHTML, like Gecko) Chrome/91.0.4472.124 Safari/537.36\",\n",
    "        \"Mozilla/5.0 (X11; Ubuntu; Linux x86_64; rv:89.0) Gecko/20100101 Firefox/89.0\",\n",
    "        \"Mozilla/5.0 (X11; Linux x86_64) AppleWebKit/537.36 (KHTML, like Gecko) Chrome/91.0.4472.124 Safari/537.36\",\n",
    "        \"Mozilla/5.0 (X11; Linux x86_64) AppleWebKit/537.36 (KHTML, like Gecko) Chrome/91.0.4472.124 Safari/537.36\",\n",
    "        \"Mozilla/5.0 (Windows NT 10.0; Win64; x64) AppleWebKit/537.36 (KHTML, like Gecko) Chrome/91.0.4472.124 Safari/537.36\",\n",
    "        \"Mozilla/5.0 (Windows NT 10.0; Win64; x64; rv:89.0) Gecko/20100101 Firefox/89.0\",\n",
    "        \"Mozilla/5.0 (Windows NT 10.0; Win64; x64) AppleWebKit/537.36 (KHTML, like Gecko) Chrome/91.0.4472.124 Safari/537.36\",\n",
    "        \"Mozilla/5.0 (Windows NT 10.0; Win64; x64; rv:89.0) Gecko/20100101 Firefox/89.0\",\n",
    "        \"Mozilla/5.0 (Windows NT 10.0; Win64; x64) AppleWebKit/537.36 (KHTML, like Gecko) Chrome/91.0.4472.124 Safari/537.36\",\n",
    "        \"Mozilla/5.0 (Windows NT 10.0; Win64; x64; rv:89.0) Gecko/20100101 Firefox/89.0\",\n",
    "        \"Mozilla/5.0 (Windows NT 10.0; Win64; x64) AppleWebKit/537.36 (KHTML, like Gecko) Chrome/91.0.4472.124 Safari/537.36\",\n",
    "        \"Mozilla/5.0 (Windows NT 10.0; Win64; x64; rv:89.0) Gecko/20100101 Firefox/89.0\",\n",
    "        \"Mozilla/5.0 (Windows NT 10.0; Win64; x64) AppleWebKit/537.36 (KHTML, like Gecko) Chrome/91.0.4472.124 Safari/537.36\",\n",
    "        \"Mozilla/5.0 (Windows NT 10.0; Win64; x64; rv:89.0) Gecko/20100101 Firefox/89.0\",\n",
    "        \"Mozilla/5.0 (Windows NT 10.0; Win64; x64) AppleWebKit/537.36 (KHTML, like Gecko) Chrome/91.0.4472.124 Safari/537.36\",\n",
    "        \"Mozilla/5.0 (Windows NT 10.0; Win64; x64; rv:89.0) Gecko/20100101 Firefox/89.0\",\n",
    "        \"Mozilla/5.0 (Windows NT 10.0; Win64; x64) AppleWebKit/537.36 (KHTML, like Gecko) Chrome/91.0.4472.124 Safari/537.36\",\n",
    "        \"Mozilla/5.0 (Windows NT 10.0; Win64; x64; rv:89.0) Gecko/20100101 Firefox/89.0\",\n",
    "        \"Mozilla/5.0 (Windows NT 10.0; Win64; x64) AppleWebKit/537.36 (KHTML, like Gecko) Chrome/91.0.4472.124 Safari/537.36\",\n",
    "        \"Mozilla/5.0 (Windows NT 10.0; Win64; x64; rv:89.0) Gecko/20100101 Firefox/89.0\",\n",
    "        \"Mozilla/5.0 (Windows NT 10.0; Win64; x64) AppleWebKit/537.36 (KHTML, like Gecko) Chrome/91.0.4472.124 Safari/537.36\",\n",
    "        \"Mozilla/5.0 (Windows NT 10.0; Win64; x64; rv:89.0) Gecko/20100101 Firefox/89.0\",\n",
    "        # Add more user agents here...\n",
    "        # ...\n",
    "    ]\n",
    "    \n",
    "    \n",
    "\n",
    "    # Randomly select a user agent\n",
    "    random_user_agent = random.choice(user_agents)\n",
    "\n",
    "    # Create a session object\n",
    "    session = requests.Session()\n",
    "\n",
    "    # Set the user agent as a header for the session\n",
    "    session.headers.update({'User-Agent': random_user_agent,\n",
    "                                'Accept': 'text/plain'})\n",
    "\n",
    "    # url = 'https://www.dsebd.org/latest_share_price_scroll_l.php'\n",
    "\n",
    "    url = 'https://dsebd.org/top_ten_gainer.php'\n",
    "\n",
    "    # Make a request using the session\n",
    "    response = session.get(url)\n",
    "\n",
    "\n",
    "\n",
    "    # soup = BeautifulSoup(response.text)\n",
    "    html_content = response.content\n",
    "\n",
    "    # Parse the HTML content with BeautifulSoup\n",
    "    soup = BeautifulSoup(html_content, 'html.parser')\n",
    "\n",
    "    co_list = []\n",
    "\n",
    "    for table in soup.findAll('div', class_='table-responsive'):\n",
    "        table_rows = table.findAll('tr')\n",
    "        for curr_row in table_rows:\n",
    "            try:\n",
    "                co_text = curr_row.findAll('td')[1].text.strip()\n",
    "                if len(co_text) < 23 and len(co_text) > 2:\n",
    "                    co_list.append(co_text)\n",
    "            except:\n",
    "                pass\n",
    "\n",
    "    co_list = set(co_list)\n",
    "    \n",
    "    return co_list\n",
    "\n",
    "get_gainers()"
   ]
  },
  {
   "cell_type": "code",
   "execution_count": 54,
   "id": "530e6ca8-0831-4772-ae28-918f4c5f01c6",
   "metadata": {
    "tags": []
   },
   "outputs": [
    {
     "data": {
      "text/plain": [
       "{'ASIAINS',\n",
       " 'ASIAPACINS',\n",
       " 'CENTRALPHL',\n",
       " 'CNATEX',\n",
       " 'CONTININS',\n",
       " 'CRYSTALINS',\n",
       " 'DESHBANDHU',\n",
       " 'EASTERNINS',\n",
       " 'EHL',\n",
       " 'EMERALDOIL',\n",
       " 'FUWANGFOOD',\n",
       " 'GEMINISEA',\n",
       " 'GENNEXT',\n",
       " 'GREENDELT',\n",
       " 'INTRACO',\n",
       " 'JANATAINS',\n",
       " 'KBPPWBIL',\n",
       " 'KEYACOSMET',\n",
       " 'LEGACYFOOT',\n",
       " 'MEGHNAINS',\n",
       " 'MEGHNALIFE',\n",
       " 'MIRACLEIND',\n",
       " 'OAL',\n",
       " 'PARAMOUNT',\n",
       " 'PIONEERINS',\n",
       " 'RUPALILIFE',\n",
       " 'SEAPEARL',\n",
       " 'SIMTEX',\n",
       " 'SONALIPAPR',\n",
       " 'UNIQUEHRL',\n",
       " 'WMSHIPYARD',\n",
       " 'YPL'}"
      ]
     },
     "execution_count": 54,
     "metadata": {},
     "output_type": "execute_result"
    }
   ],
   "source": [
    "def get_top_shares():\n",
    "    user_agents = [\n",
    "        \"Mozilla/5.0 (Windows NT 10.0; Win64; x64) AppleWebKit/537.36 (KHTML, like Gecko) Chrome/91.0.4472.124 Safari/537.36\",\n",
    "        \"Mozilla/5.0 (Windows NT 10.0; Win64; x64; rv:89.0) Gecko/20100101 Firefox/89.0\",\n",
    "        \"Mozilla/5.0 (Macintosh; Intel Mac OS X 10_15_7) AppleWebKit/537.36 (KHTML, like Gecko) Chrome/91.0.4472.124 Safari/537.36\",\n",
    "        \"Mozilla/5.0 (Macintosh; Intel Mac OS X 10_15_7) AppleWebKit/537.36 (KHTML, like Gecko) Chrome/91.0.4472.124 Safari/537.36\",\n",
    "        \"Mozilla/5.0 (X11; Ubuntu; Linux x86_64; rv:89.0) Gecko/20100101 Firefox/89.0\",\n",
    "        \"Mozilla/5.0 (X11; Linux x86_64) AppleWebKit/537.36 (KHTML, like Gecko) Chrome/91.0.4472.124 Safari/537.36\",\n",
    "        \"Mozilla/5.0 (X11; Linux x86_64) AppleWebKit/537.36 (KHTML, like Gecko) Chrome/91.0.4472.124 Safari/537.36\",\n",
    "        \"Mozilla/5.0 (Windows NT 10.0; Win64; x64) AppleWebKit/537.36 (KHTML, like Gecko) Chrome/91.0.4472.124 Safari/537.36\",\n",
    "        \"Mozilla/5.0 (Windows NT 10.0; Win64; x64; rv:89.0) Gecko/20100101 Firefox/89.0\",\n",
    "        \"Mozilla/5.0 (Windows NT 10.0; Win64; x64) AppleWebKit/537.36 (KHTML, like Gecko) Chrome/91.0.4472.124 Safari/537.36\",\n",
    "        \"Mozilla/5.0 (Windows NT 10.0; Win64; x64; rv:89.0) Gecko/20100101 Firefox/89.0\",\n",
    "        \"Mozilla/5.0 (Windows NT 10.0; Win64; x64) AppleWebKit/537.36 (KHTML, like Gecko) Chrome/91.0.4472.124 Safari/537.36\",\n",
    "        \"Mozilla/5.0 (Windows NT 10.0; Win64; x64; rv:89.0) Gecko/20100101 Firefox/89.0\",\n",
    "        \"Mozilla/5.0 (Windows NT 10.0; Win64; x64) AppleWebKit/537.36 (KHTML, like Gecko) Chrome/91.0.4472.124 Safari/537.36\",\n",
    "        \"Mozilla/5.0 (Windows NT 10.0; Win64; x64; rv:89.0) Gecko/20100101 Firefox/89.0\",\n",
    "        \"Mozilla/5.0 (Windows NT 10.0; Win64; x64) AppleWebKit/537.36 (KHTML, like Gecko) Chrome/91.0.4472.124 Safari/537.36\",\n",
    "        \"Mozilla/5.0 (Windows NT 10.0; Win64; x64; rv:89.0) Gecko/20100101 Firefox/89.0\",\n",
    "        \"Mozilla/5.0 (Windows NT 10.0; Win64; x64) AppleWebKit/537.36 (KHTML, like Gecko) Chrome/91.0.4472.124 Safari/537.36\",\n",
    "        \"Mozilla/5.0 (Windows NT 10.0; Win64; x64; rv:89.0) Gecko/20100101 Firefox/89.0\",\n",
    "        \"Mozilla/5.0 (Windows NT 10.0; Win64; x64) AppleWebKit/537.36 (KHTML, like Gecko) Chrome/91.0.4472.124 Safari/537.36\",\n",
    "        \"Mozilla/5.0 (Windows NT 10.0; Win64; x64; rv:89.0) Gecko/20100101 Firefox/89.0\",\n",
    "        \"Mozilla/5.0 (Windows NT 10.0; Win64; x64) AppleWebKit/537.36 (KHTML, like Gecko) Chrome/91.0.4472.124 Safari/537.36\",\n",
    "        \"Mozilla/5.0 (Windows NT 10.0; Win64; x64; rv:89.0) Gecko/20100101 Firefox/89.0\",\n",
    "        \"Mozilla/5.0 (Windows NT 10.0; Win64; x64) AppleWebKit/537.36 (KHTML, like Gecko) Chrome/91.0.4472.124 Safari/537.36\",\n",
    "        \"Mozilla/5.0 (Windows NT 10.0; Win64; x64; rv:89.0) Gecko/20100101 Firefox/89.0\",\n",
    "        # Add more user agents here...\n",
    "        # ...\n",
    "    ]\n",
    "    \n",
    "    \n",
    "\n",
    "    # Randomly select a user agent\n",
    "    random_user_agent = random.choice(user_agents)\n",
    "\n",
    "    # Create a session object\n",
    "    session = requests.Session()\n",
    "\n",
    "    # Set the user agent as a header for the session\n",
    "    session.headers.update({'User-Agent': random_user_agent,\n",
    "                                'Accept': 'text/plain'})\n",
    "\n",
    "    # url = 'https://www.dsebd.org/latest_share_price_scroll_l.php'\n",
    "\n",
    "    url = 'https://dsebd.org/top_20_share.php'\n",
    "\n",
    "    # Make a request using the session\n",
    "    response = session.get(url)\n",
    "\n",
    "\n",
    "\n",
    "    # soup = BeautifulSoup(response.text)\n",
    "    html_content = response.content\n",
    "\n",
    "    # Parse the HTML content with BeautifulSoup\n",
    "    soup = BeautifulSoup(html_content, 'html.parser')\n",
    "\n",
    "    co_list = []\n",
    "\n",
    "    for table in soup.findAll('div', class_='table-responsive'):\n",
    "        table_rows = table.findAll('tr')\n",
    "        for curr_row in table_rows:\n",
    "            try:\n",
    "                co_text = curr_row.findAll('td')[1].text.strip()\n",
    "                if len(co_text) < 23 and len(co_text) > 2:\n",
    "                    co_list.append(co_text)\n",
    "            except:\n",
    "                pass\n",
    "\n",
    "    co_list = set(co_list)\n",
    "    \n",
    "    return co_list\n",
    "\n",
    "get_top_shares()"
   ]
  },
  {
   "cell_type": "code",
   "execution_count": null,
   "id": "1d1cb6d7-290f-4e00-a431-092b3f764a05",
   "metadata": {},
   "outputs": [],
   "source": []
  },
  {
   "cell_type": "code",
   "execution_count": null,
   "id": "18d3d426-3203-4c14-bcdb-bc0c2e37959e",
   "metadata": {},
   "outputs": [],
   "source": []
  },
  {
   "cell_type": "code",
   "execution_count": 76,
   "id": "304ecbd9-d2cb-4f90-a3c6-a86a80e97284",
   "metadata": {
    "tags": []
   },
   "outputs": [],
   "source": [
    "gainers = {'ASIAINS',\n",
    " 'ASIAPACINS',\n",
    " 'CENTRALPHL',\n",
    " 'CNATEX',\n",
    " 'CONTININS',\n",
    " 'CRYSTALINS',\n",
    " 'DESHBANDHU',\n",
    " 'EASTERNINS',\n",
    " 'EHL',\n",
    " 'EMERALDOIL',\n",
    " 'FUWANGFOOD',\n",
    " 'GEMINISEA',\n",
    " 'GENNEXT',\n",
    " 'GREENDELT',\n",
    " 'INTRACO',\n",
    " 'JANATAINS',\n",
    " 'KBPPWBIL',\n",
    " 'KEYACOSMET',\n",
    " 'LEGACYFOOT',\n",
    " 'MEGHNAINS',\n",
    " 'MEGHNALIFE',\n",
    " 'MIRACLEIND',\n",
    " 'OAL',\n",
    " 'PARAMOUNT',\n",
    " 'PIONEERINS',\n",
    " 'RUPALILIFE',\n",
    " 'SEAPEARL',\n",
    " 'SIMTEX',\n",
    " 'SONALIPAPR',\n",
    " 'UNIQUEHRL',\n",
    " 'WMSHIPYARD',\n",
    " 'YPL'}"
   ]
  },
  {
   "cell_type": "code",
   "execution_count": 82,
   "id": "ea7c1238-f24c-4beb-90e2-0dd94f238132",
   "metadata": {
    "tags": []
   },
   "outputs": [
    {
     "name": "stdout",
     "output_type": "stream",
     "text": [
      "Counter:  0\n",
      "/search?q=investing.com+GP&client=firefox-b-lm&sca_esv=563997146&gbv=1&sei=sHf8ZKHoKqvI1sQPk7iqyAI\n",
      "\n",
      "Counter:  1\n",
      "#\n",
      "\n",
      "Counter:  2\n",
      "#\n",
      "\n",
      "Counter:  3\n",
      "https://support.google.com/websearch/answer/181196?hl=bn\n",
      "\n",
      "Counter:  4\n",
      "https://www.google.com/webhp?hl=bn&sa=X&ved=0ahUKEwihgNDK1Z2BAxUrpJUCHROcCikQPAgJ\n",
      "\n",
      "Counter:  5\n",
      "#\n",
      "\n",
      "Counter:  6\n",
      "/search?client=firefox-b-lm&sca_esv=563997146&q=investing.com+GP&tbm=vid&source=lnms&sa=X&ved=2ahUKEwihgNDK1Z2BAxUrpJUCHROcCikQ0pQJegQICRAB\n",
      "\n",
      "Counter:  7\n",
      "/search?client=firefox-b-lm&sca_esv=563997146&q=investing.com+GP&tbm=nws&source=lnms&sa=X&ved=2ahUKEwihgNDK1Z2BAxUrpJUCHROcCikQ0pQJegQICxAB\n",
      "\n",
      "Counter:  8\n",
      "/search?client=firefox-b-lm&sca_esv=563997146&q=investing.com+GP&tbm=isch&source=lnms&sa=X&ved=2ahUKEwihgNDK1Z2BAxUrpJUCHROcCikQ0pQJegQIChAB\n",
      "\n",
      "Counter:  9\n",
      "/search?client=firefox-b-lm&sca_esv=563997146&q=investing.com+GP&tbm=shop&source=lnms&sa=X&ved=2ahUKEwihgNDK1Z2BAxUrpJUCHROcCikQ0pQJegQICBAB\n",
      "\n"
     ]
    },
    {
     "data": {
      "text/plain": [
       "'https://www.investing.com/equities/grameenphone-ltd'"
      ]
     },
     "execution_count": 82,
     "metadata": {},
     "output_type": "execute_result"
    }
   ],
   "source": [
    "def get_investing_url(co_name):\n",
    "    user_agents = [\n",
    "        \"Mozilla/5.0 (Windows NT 10.0; Win64; x64) AppleWebKit/537.36 (KHTML, like Gecko) Chrome/91.0.4472.124 Safari/537.36\",\n",
    "        \"Mozilla/5.0 (Windows NT 10.0; Win64; x64; rv:89.0) Gecko/20100101 Firefox/89.0\",\n",
    "        \"Mozilla/5.0 (Macintosh; Intel Mac OS X 10_15_7) AppleWebKit/537.36 (KHTML, like Gecko) Chrome/91.0.4472.124 Safari/537.36\",\n",
    "        \"Mozilla/5.0 (Macintosh; Intel Mac OS X 10_15_7) AppleWebKit/537.36 (KHTML, like Gecko) Chrome/91.0.4472.124 Safari/537.36\",\n",
    "        \"Mozilla/5.0 (X11; Ubuntu; Linux x86_64; rv:89.0) Gecko/20100101 Firefox/89.0\",\n",
    "        \"Mozilla/5.0 (X11; Linux x86_64) AppleWebKit/537.36 (KHTML, like Gecko) Chrome/91.0.4472.124 Safari/537.36\",\n",
    "        \"Mozilla/5.0 (X11; Linux x86_64) AppleWebKit/537.36 (KHTML, like Gecko) Chrome/91.0.4472.124 Safari/537.36\",\n",
    "        \"Mozilla/5.0 (Windows NT 10.0; Win64; x64) AppleWebKit/537.36 (KHTML, like Gecko) Chrome/91.0.4472.124 Safari/537.36\",\n",
    "        \"Mozilla/5.0 (Windows NT 10.0; Win64; x64; rv:89.0) Gecko/20100101 Firefox/89.0\",\n",
    "        \"Mozilla/5.0 (Windows NT 10.0; Win64; x64) AppleWebKit/537.36 (KHTML, like Gecko) Chrome/91.0.4472.124 Safari/537.36\",\n",
    "        \"Mozilla/5.0 (Windows NT 10.0; Win64; x64; rv:89.0) Gecko/20100101 Firefox/89.0\",\n",
    "        \"Mozilla/5.0 (Windows NT 10.0; Win64; x64) AppleWebKit/537.36 (KHTML, like Gecko) Chrome/91.0.4472.124 Safari/537.36\",\n",
    "        \"Mozilla/5.0 (Windows NT 10.0; Win64; x64; rv:89.0) Gecko/20100101 Firefox/89.0\",\n",
    "        \"Mozilla/5.0 (Windows NT 10.0; Win64; x64) AppleWebKit/537.36 (KHTML, like Gecko) Chrome/91.0.4472.124 Safari/537.36\",\n",
    "        \"Mozilla/5.0 (Windows NT 10.0; Win64; x64; rv:89.0) Gecko/20100101 Firefox/89.0\",\n",
    "        \"Mozilla/5.0 (Windows NT 10.0; Win64; x64) AppleWebKit/537.36 (KHTML, like Gecko) Chrome/91.0.4472.124 Safari/537.36\",\n",
    "        \"Mozilla/5.0 (Windows NT 10.0; Win64; x64; rv:89.0) Gecko/20100101 Firefox/89.0\",\n",
    "        \"Mozilla/5.0 (Windows NT 10.0; Win64; x64) AppleWebKit/537.36 (KHTML, like Gecko) Chrome/91.0.4472.124 Safari/537.36\",\n",
    "        \"Mozilla/5.0 (Windows NT 10.0; Win64; x64; rv:89.0) Gecko/20100101 Firefox/89.0\",\n",
    "        \"Mozilla/5.0 (Windows NT 10.0; Win64; x64) AppleWebKit/537.36 (KHTML, like Gecko) Chrome/91.0.4472.124 Safari/537.36\",\n",
    "        \"Mozilla/5.0 (Windows NT 10.0; Win64; x64; rv:89.0) Gecko/20100101 Firefox/89.0\",\n",
    "        \"Mozilla/5.0 (Windows NT 10.0; Win64; x64) AppleWebKit/537.36 (KHTML, like Gecko) Chrome/91.0.4472.124 Safari/537.36\",\n",
    "        \"Mozilla/5.0 (Windows NT 10.0; Win64; x64; rv:89.0) Gecko/20100101 Firefox/89.0\",\n",
    "        \"Mozilla/5.0 (Windows NT 10.0; Win64; x64) AppleWebKit/537.36 (KHTML, like Gecko) Chrome/91.0.4472.124 Safari/537.36\",\n",
    "        \"Mozilla/5.0 (Windows NT 10.0; Win64; x64; rv:89.0) Gecko/20100101 Firefox/89.0\",\n",
    "        # Add more user agents here...\n",
    "        # ...\n",
    "    ]\n",
    "    \n",
    "    \n",
    "\n",
    "    # Randomly select a user agent\n",
    "    random_user_agent = random.choice(user_agents)\n",
    "\n",
    "    # Create a session object\n",
    "    session = requests.Session()\n",
    "\n",
    "    # Set the user agent as a header for the session\n",
    "    session.headers.update({'User-Agent': random_user_agent,\n",
    "                                    'Accept': 'text/plain'})\n",
    "\n",
    "    # url = 'https://www.dsebd.org/latest_share_price_scroll_l.php'\n",
    "\n",
    "    url = 'https://www.google.com/search?client=firefox-b-lm&q=investing.com+' + co_name\n",
    "\n",
    "    # Make a request using the session\n",
    "    response = session.get(url)\n",
    "    \n",
    "    # soup = BeautifulSoup(response.text)\n",
    "    html_content = response.content\n",
    "\n",
    "    # Parse the HTML content with BeautifulSoup\n",
    "    soup = BeautifulSoup(html_content, 'html.parser')\n",
    "    \n",
    "    links = soup.findAll(\"a\", href=True)\n",
    "\n",
    "    c = 0\n",
    "    for link in links:\n",
    "        if c==10:\n",
    "            return link['href']\n",
    "        # print('Counter: ', str(c))\n",
    "        # c=c+1\n",
    "        # print(link['href'])\n",
    "        # print()\n",
    "        \n",
    "        \n",
    "\n",
    "get_investing_url('GP')"
   ]
  },
  {
   "cell_type": "code",
   "execution_count": null,
   "id": "f45c71d3-54a8-4de5-b092-ca2e458728e9",
   "metadata": {},
   "outputs": [],
   "source": []
  },
  {
   "cell_type": "code",
   "execution_count": null,
   "id": "4266610f-5bcb-483a-b854-f656d3e165a9",
   "metadata": {},
   "outputs": [],
   "source": []
  },
  {
   "cell_type": "code",
   "execution_count": null,
   "id": "b3de5250-9efb-4339-8912-62402b2ad00b",
   "metadata": {},
   "outputs": [],
   "source": []
  },
  {
   "cell_type": "code",
   "execution_count": 93,
   "id": "8c601581-66c1-4dc1-b750-4b5a67d94596",
   "metadata": {
    "tags": []
   },
   "outputs": [],
   "source": [
    "user_agents = [\n",
    "        \"Mozilla/5.0 (Windows NT 10.0; Win64; x64) AppleWebKit/537.36 (KHTML, like Gecko) Chrome/91.0.4472.124 Safari/537.36\",\n",
    "        \"Mozilla/5.0 (Windows NT 10.0; Win64; x64; rv:89.0) Gecko/20100101 Firefox/89.0\",\n",
    "        \"Mozilla/5.0 (Macintosh; Intel Mac OS X 10_15_7) AppleWebKit/537.36 (KHTML, like Gecko) Chrome/91.0.4472.124 Safari/537.36\",\n",
    "        \"Mozilla/5.0 (Macintosh; Intel Mac OS X 10_15_7) AppleWebKit/537.36 (KHTML, like Gecko) Chrome/91.0.4472.124 Safari/537.36\",\n",
    "        \"Mozilla/5.0 (X11; Ubuntu; Linux x86_64; rv:89.0) Gecko/20100101 Firefox/89.0\",\n",
    "        \"Mozilla/5.0 (X11; Linux x86_64) AppleWebKit/537.36 (KHTML, like Gecko) Chrome/91.0.4472.124 Safari/537.36\",\n",
    "        \"Mozilla/5.0 (X11; Linux x86_64) AppleWebKit/537.36 (KHTML, like Gecko) Chrome/91.0.4472.124 Safari/537.36\",\n",
    "        \"Mozilla/5.0 (Windows NT 10.0; Win64; x64) AppleWebKit/537.36 (KHTML, like Gecko) Chrome/91.0.4472.124 Safari/537.36\",\n",
    "        \"Mozilla/5.0 (Windows NT 10.0; Win64; x64; rv:89.0) Gecko/20100101 Firefox/89.0\",\n",
    "        \"Mozilla/5.0 (Windows NT 10.0; Win64; x64) AppleWebKit/537.36 (KHTML, like Gecko) Chrome/91.0.4472.124 Safari/537.36\",\n",
    "        \"Mozilla/5.0 (Windows NT 10.0; Win64; x64; rv:89.0) Gecko/20100101 Firefox/89.0\",\n",
    "        \"Mozilla/5.0 (Windows NT 10.0; Win64; x64) AppleWebKit/537.36 (KHTML, like Gecko) Chrome/91.0.4472.124 Safari/537.36\",\n",
    "        \"Mozilla/5.0 (Windows NT 10.0; Win64; x64; rv:89.0) Gecko/20100101 Firefox/89.0\",\n",
    "        \"Mozilla/5.0 (Windows NT 10.0; Win64; x64) AppleWebKit/537.36 (KHTML, like Gecko) Chrome/91.0.4472.124 Safari/537.36\",\n",
    "        \"Mozilla/5.0 (Windows NT 10.0; Win64; x64; rv:89.0) Gecko/20100101 Firefox/89.0\",\n",
    "        \"Mozilla/5.0 (Windows NT 10.0; Win64; x64) AppleWebKit/537.36 (KHTML, like Gecko) Chrome/91.0.4472.124 Safari/537.36\",\n",
    "        \"Mozilla/5.0 (Windows NT 10.0; Win64; x64; rv:89.0) Gecko/20100101 Firefox/89.0\",\n",
    "        \"Mozilla/5.0 (Windows NT 10.0; Win64; x64) AppleWebKit/537.36 (KHTML, like Gecko) Chrome/91.0.4472.124 Safari/537.36\",\n",
    "        \"Mozilla/5.0 (Windows NT 10.0; Win64; x64; rv:89.0) Gecko/20100101 Firefox/89.0\",\n",
    "        \"Mozilla/5.0 (Windows NT 10.0; Win64; x64) AppleWebKit/537.36 (KHTML, like Gecko) Chrome/91.0.4472.124 Safari/537.36\",\n",
    "        \"Mozilla/5.0 (Windows NT 10.0; Win64; x64; rv:89.0) Gecko/20100101 Firefox/89.0\",\n",
    "        \"Mozilla/5.0 (Windows NT 10.0; Win64; x64) AppleWebKit/537.36 (KHTML, like Gecko) Chrome/91.0.4472.124 Safari/537.36\",\n",
    "        \"Mozilla/5.0 (Windows NT 10.0; Win64; x64; rv:89.0) Gecko/20100101 Firefox/89.0\",\n",
    "        \"Mozilla/5.0 (Windows NT 10.0; Win64; x64) AppleWebKit/537.36 (KHTML, like Gecko) Chrome/91.0.4472.124 Safari/537.36\",\n",
    "        \"Mozilla/5.0 (Windows NT 10.0; Win64; x64; rv:89.0) Gecko/20100101 Firefox/89.0\",\n",
    "        # Add more user agents here...\n",
    "        # ...\n",
    "    ]\n",
    "    \n",
    "    \n",
    "\n",
    "# Randomly select a user agent\n",
    "random_user_agent = random.choice(user_agents)\n",
    "\n",
    "# Create a session object\n",
    "session = requests.Session()\n",
    "\n",
    "# Set the user agent as a header for the session\n",
    "session.headers.update({'User-Agent': random_user_agent,\n",
    "                                'Accept': 'text/plain'})\n",
    "\n",
    "# url = 'https://www.dsebd.org/latest_share_price_scroll_l.php'\n",
    "\n",
    "url = 'https://www.investing.com/equities/grameenphone-ltd'\n",
    "\n",
    "# Make a request using the session\n",
    "response = session.get(url)\n",
    "\n"
   ]
  },
  {
   "cell_type": "code",
   "execution_count": 94,
   "id": "ca09c425-e5a0-44c9-b1ea-0f462790bc6a",
   "metadata": {
    "tags": []
   },
   "outputs": [
    {
     "data": {
      "text/plain": [
       "<Response [403]>"
      ]
     },
     "execution_count": 94,
     "metadata": {},
     "output_type": "execute_result"
    }
   ],
   "source": [
    "response"
   ]
  },
  {
   "cell_type": "code",
   "execution_count": 95,
   "id": "86cda5ad-e737-4c62-93fa-6fbd86b7f5ec",
   "metadata": {
    "tags": []
   },
   "outputs": [],
   "source": [
    "# soup = BeautifulSoup(response.text)\n",
    "html_content = response.content\n",
    "\n",
    "# Parse the HTML content with BeautifulSoup\n",
    "soup = BeautifulSoup(html_content, 'html.parser')\n"
   ]
  },
  {
   "cell_type": "code",
   "execution_count": 97,
   "id": "3794369a-2f8c-46b6-8898-269d5deeb922",
   "metadata": {
    "tags": []
   },
   "outputs": [],
   "source": [
    "# soup"
   ]
  },
  {
   "cell_type": "code",
   "execution_count": 91,
   "id": "da327aae-ed34-4db7-8cf5-4c9547191b38",
   "metadata": {
    "tags": []
   },
   "outputs": [
    {
     "data": {
      "text/plain": [
       "[]"
      ]
     },
     "execution_count": 91,
     "metadata": {},
     "output_type": "execute_result"
    }
   ],
   "source": [
    "soup.findAll(\"div\", class_='text-xs')"
   ]
  },
  {
   "cell_type": "code",
   "execution_count": 71,
   "id": "a64d7afa-6d84-45e6-9407-5ba590cf914d",
   "metadata": {
    "tags": []
   },
   "outputs": [],
   "source": [
    "# links"
   ]
  },
  {
   "cell_type": "code",
   "execution_count": null,
   "id": "ff2ebb6b-6165-477f-a8e7-f4d2497ce92d",
   "metadata": {},
   "outputs": [],
   "source": []
  },
  {
   "cell_type": "code",
   "execution_count": 12,
   "id": "360084e4-f869-467c-b3d1-05bec27cb57c",
   "metadata": {
    "tags": []
   },
   "outputs": [],
   "source": [
    "# !pip install selenium"
   ]
  },
  {
   "cell_type": "code",
   "execution_count": null,
   "id": "df556143-3a82-4a3c-b354-6c798b43289a",
   "metadata": {},
   "outputs": [],
   "source": [
    "from selenium import webdriver\n",
    "from selenium.webdriver.common.keys import Keys\n",
    "from selenium.webdriver.common.by import By\n",
    "\n",
    "options = webdriver.FirefoxOptions()\n",
    "options.add_argument('--headless')\n",
    "\n",
    "# options.set_headless()\n",
    "d = webdriver.Firefox(options=options)\n",
    "\n",
    "url = 'https://www.investing.com/equities/grameenphone-ltd'\n",
    "\n",
    "\n",
    "soup = BeautifulSoup(d.page_source, 'html.parser')\n",
    "# soup.prettify()\n",
    "\n",
    "prev_close = data[0].text\n",
    "open_ = data[1].text\n",
    "day_range_start = data[2].text\n",
    "day_range_end = data[3].text\n",
    "week_range_52_start = data[4].text\n",
    "week_range_52_end = data[5].text\n",
    "vol = data[6].text\n",
    "avg_vol = data[7].text\n",
    "year_chng = data[8].text\n",
    "outstanding_shares = data[9].text\n",
    "market_cap = data[10].text\n",
    "revenue = data[11].text\n",
    "pe_ratio = data[12].text\n",
    "eps = data[13].text\n",
    "dividend_yield = data[14].text\n",
    "dividend_yield_percentage = data[15].text\n",
    "beta = data[16].text\n",
    "# next_earning_date = data[17].text"
   ]
  },
  {
   "cell_type": "code",
   "execution_count": null,
   "id": "601b6ff1-83f4-4257-9afb-63471eff2e58",
   "metadata": {},
   "outputs": [],
   "source": []
  },
  {
   "cell_type": "code",
   "execution_count": null,
   "id": "c4e7a07c-f69c-49b6-8ad8-ec96923c0d95",
   "metadata": {},
   "outputs": [],
   "source": []
  },
  {
   "cell_type": "code",
   "execution_count": null,
   "id": "c6362e6b-1b0e-49d2-b848-b3baad61ef60",
   "metadata": {},
   "outputs": [],
   "source": []
  },
  {
   "cell_type": "code",
   "execution_count": 139,
   "id": "d4e9393e-76a7-4584-a6b6-056a1bd13b09",
   "metadata": {
    "tags": []
   },
   "outputs": [],
   "source": [
    "from selenium import webdriver\n",
    "# from selenium.webdriver.common.keys import Keys\n",
    "# from selenium.webdriver.common.by import By\n",
    "\n",
    "options = webdriver.FirefoxOptions()\n",
    "options.add_argument('--headless')\n",
    "\n",
    "# options.set_headless()\n",
    "\n",
    "# d = webdriver.Firefox(options=options)"
   ]
  },
  {
   "cell_type": "code",
   "execution_count": 140,
   "id": "4931d370-a651-4875-8e4c-bb8e3c7e836b",
   "metadata": {
    "tags": []
   },
   "outputs": [],
   "source": [
    "user_agents = [\n",
    "        \"Mozilla/5.0 (Windows NT 10.0; Win64; x64) AppleWebKit/537.36 (KHTML, like Gecko) Chrome/91.0.4472.124 Safari/537.36\",\n",
    "        \"Mozilla/5.0 (Windows NT 10.0; Win64; x64; rv:89.0) Gecko/20100101 Firefox/89.0\",\n",
    "        \"Mozilla/5.0 (Macintosh; Intel Mac OS X 10_15_7) AppleWebKit/537.36 (KHTML, like Gecko) Chrome/91.0.4472.124 Safari/537.36\",\n",
    "        \"Mozilla/5.0 (Macintosh; Intel Mac OS X 10_15_7) AppleWebKit/537.36 (KHTML, like Gecko) Chrome/91.0.4472.124 Safari/537.36\",\n",
    "        \"Mozilla/5.0 (X11; Ubuntu; Linux x86_64; rv:89.0) Gecko/20100101 Firefox/89.0\",\n",
    "        \"Mozilla/5.0 (X11; Linux x86_64) AppleWebKit/537.36 (KHTML, like Gecko) Chrome/91.0.4472.124 Safari/537.36\",\n",
    "        \"Mozilla/5.0 (X11; Linux x86_64) AppleWebKit/537.36 (KHTML, like Gecko) Chrome/91.0.4472.124 Safari/537.36\",\n",
    "        \"Mozilla/5.0 (Windows NT 10.0; Win64; x64) AppleWebKit/537.36 (KHTML, like Gecko) Chrome/91.0.4472.124 Safari/537.36\",\n",
    "        \"Mozilla/5.0 (Windows NT 10.0; Win64; x64; rv:89.0) Gecko/20100101 Firefox/89.0\",\n",
    "        \"Mozilla/5.0 (Windows NT 10.0; Win64; x64) AppleWebKit/537.36 (KHTML, like Gecko) Chrome/91.0.4472.124 Safari/537.36\",\n",
    "        \"Mozilla/5.0 (Windows NT 10.0; Win64; x64; rv:89.0) Gecko/20100101 Firefox/89.0\",\n",
    "        \"Mozilla/5.0 (Windows NT 10.0; Win64; x64) AppleWebKit/537.36 (KHTML, like Gecko) Chrome/91.0.4472.124 Safari/537.36\",\n",
    "        \"Mozilla/5.0 (Windows NT 10.0; Win64; x64; rv:89.0) Gecko/20100101 Firefox/89.0\",\n",
    "        \"Mozilla/5.0 (Windows NT 10.0; Win64; x64) AppleWebKit/537.36 (KHTML, like Gecko) Chrome/91.0.4472.124 Safari/537.36\",\n",
    "        \"Mozilla/5.0 (Windows NT 10.0; Win64; x64; rv:89.0) Gecko/20100101 Firefox/89.0\",\n",
    "        \"Mozilla/5.0 (Windows NT 10.0; Win64; x64) AppleWebKit/537.36 (KHTML, like Gecko) Chrome/91.0.4472.124 Safari/537.36\",\n",
    "        \"Mozilla/5.0 (Windows NT 10.0; Win64; x64; rv:89.0) Gecko/20100101 Firefox/89.0\",\n",
    "        \"Mozilla/5.0 (Windows NT 10.0; Win64; x64) AppleWebKit/537.36 (KHTML, like Gecko) Chrome/91.0.4472.124 Safari/537.36\",\n",
    "        \"Mozilla/5.0 (Windows NT 10.0; Win64; x64; rv:89.0) Gecko/20100101 Firefox/89.0\",\n",
    "        \"Mozilla/5.0 (Windows NT 10.0; Win64; x64) AppleWebKit/537.36 (KHTML, like Gecko) Chrome/91.0.4472.124 Safari/537.36\",\n",
    "        \"Mozilla/5.0 (Windows NT 10.0; Win64; x64; rv:89.0) Gecko/20100101 Firefox/89.0\",\n",
    "        \"Mozilla/5.0 (Windows NT 10.0; Win64; x64) AppleWebKit/537.36 (KHTML, like Gecko) Chrome/91.0.4472.124 Safari/537.36\",\n",
    "        \"Mozilla/5.0 (Windows NT 10.0; Win64; x64; rv:89.0) Gecko/20100101 Firefox/89.0\",\n",
    "        \"Mozilla/5.0 (Windows NT 10.0; Win64; x64) AppleWebKit/537.36 (KHTML, like Gecko) Chrome/91.0.4472.124 Safari/537.36\",\n",
    "        \"Mozilla/5.0 (Windows NT 10.0; Win64; x64; rv:89.0) Gecko/20100101 Firefox/89.0\",\n",
    "        # Add more user agents here...\n",
    "        # ...\n",
    "    ]\n",
    "    \n",
    "    \n",
    "\n",
    "# Randomly select a user agent\n",
    "random_user_agent = random.choice(user_agents)\n",
    "\n",
    "options.add_argument(f'user-agent={random_user_agent}')\n",
    "\n",
    "\n",
    "# Set a user agent string to mimic a real browser\n",
    "options.set_preference(\"general.useragent.override\", random_user_agent)\n",
    "# Disable browser automation detection features (this may change over time)\n",
    "options.set_preference(\"dom.webdriver.enabled\", False)\n",
    "options.set_preference(\"dom.webnotifications.enabled\", False)\n",
    "\n",
    "# Disable permissions prompt for notifications\n",
    "options.set_preference(\"permissions.default.desktop-notification\", 1)\n",
    "\n",
    "# Disable the \"navigator.webdriver\" property\n",
    "options.set_preference(\"webdriver.firefox.profile\", \"default\")\n",
    "\n",
    "# Set a custom window size to mimic a real browser\n",
    "options.add_argument(\"--window-size=1920,1080\")\n"
   ]
  },
  {
   "cell_type": "code",
   "execution_count": 141,
   "id": "5d17b392-79a1-483e-9f73-720e47325c8b",
   "metadata": {
    "tags": []
   },
   "outputs": [],
   "source": [
    "# d.get('https://www.fb.com')\n",
    "# # d = webdriver.Firefox()\n",
    "\n",
    "# d.implicitly_wait(7) # 30\n",
    "\n",
    "d = webdriver.Firefox(options=options)"
   ]
  },
  {
   "cell_type": "code",
   "execution_count": 143,
   "id": "8eb6e0ef-414b-417d-a42e-287333ca961e",
   "metadata": {
    "tags": []
   },
   "outputs": [
    {
     "data": {
      "text/plain": [
       "'Grameenphone Ltd Stock Price Today | DH GRAE Live Ticker - Investing.com'"
      ]
     },
     "execution_count": 143,
     "metadata": {},
     "output_type": "execute_result"
    }
   ],
   "source": [
    "d.title"
   ]
  },
  {
   "cell_type": "code",
   "execution_count": 126,
   "id": "e2ff1ee8-9b9a-47ea-97b7-34550b2d5ef4",
   "metadata": {},
   "outputs": [],
   "source": [
    "url = 'https://www.investing.com/equities/grameenphone-ltd'"
   ]
  },
  {
   "cell_type": "code",
   "execution_count": 142,
   "id": "017ad420-1d56-43f8-ba2a-a35a7e2c30b1",
   "metadata": {},
   "outputs": [
    {
     "data": {
      "text/plain": [
       "'Grameenphone Ltd Stock Price Today | DH GRAE Live Ticker - Investing.com'"
      ]
     },
     "execution_count": 142,
     "metadata": {},
     "output_type": "execute_result"
    }
   ],
   "source": [
    "d.get(url)\n",
    "d.title"
   ]
  },
  {
   "cell_type": "code",
   "execution_count": 128,
   "id": "bb245e84-7367-4796-981b-82ed9ef0eeb5",
   "metadata": {},
   "outputs": [],
   "source": [
    "from bs4 import BeautifulSoup\n",
    "\n",
    "soup = BeautifulSoup(d.page_source, 'html.parser')\n",
    "# soup.prettify()"
   ]
  },
  {
   "cell_type": "code",
   "execution_count": 19,
   "id": "8edfe3b7-78f0-40fd-bae3-64d6442249e4",
   "metadata": {
    "tags": []
   },
   "outputs": [],
   "source": [
    "# print(soup.prettify())"
   ]
  },
  {
   "cell_type": "code",
   "execution_count": 22,
   "id": "d49f477e-a058-42f3-9d55-63a30cfc934a",
   "metadata": {
    "tags": []
   },
   "outputs": [],
   "source": [
    "len(soup.findAll('div'))\n",
    "tmp = soup.findAll('div')"
   ]
  },
  {
   "cell_type": "code",
   "execution_count": 30,
   "id": "e9559511-934f-45f3-ab92-64c2656e7b7c",
   "metadata": {
    "tags": []
   },
   "outputs": [],
   "source": [
    "data = soup.findAll('span', class_='key-info_dd-numeric__ZQFIs')"
   ]
  },
  {
   "cell_type": "code",
   "execution_count": 58,
   "id": "d317c323-b27c-4ec9-ae6c-90c90b4beb60",
   "metadata": {
    "tags": []
   },
   "outputs": [],
   "source": [
    "# data"
   ]
  },
  {
   "cell_type": "code",
   "execution_count": 48,
   "id": "39405847-ef56-4136-86ef-d24bec273e48",
   "metadata": {
    "tags": []
   },
   "outputs": [],
   "source": [
    "prev_close = data[0].text\n",
    "open_ = data[1].text\n",
    "day_range_start = data[2].text\n",
    "day_range_end = data[3].text\n",
    "week_range_52_start = data[4].text\n",
    "week_range_52_end = data[5].text\n",
    "vol = data[6].text\n",
    "avg_vol = data[7].text\n",
    "year_chng = data[8].text\n",
    "outstanding_shares = data[9].text\n",
    "market_cap = data[10].text\n",
    "revenue = data[11].text\n",
    "pe_ratio = data[12].text\n",
    "eps = data[13].text\n",
    "dividend_yield = data[14].text\n",
    "dividend_yield_percentage = data[15].text\n",
    "beta = data[16].text\n",
    "# next_earning_date = data[17].text"
   ]
  },
  {
   "cell_type": "code",
   "execution_count": 57,
   "id": "e3428eef-6e7e-49b4-b48f-acd6f1384580",
   "metadata": {
    "tags": []
   },
   "outputs": [],
   "source": [
    "# data"
   ]
  },
  {
   "cell_type": "code",
   "execution_count": 49,
   "id": "70de4ac5-8153-4b41-8a1c-171d3b98200a",
   "metadata": {
    "tags": []
   },
   "outputs": [
    {
     "data": {
      "text/plain": [
       "'0.207'"
      ]
     },
     "execution_count": 49,
     "metadata": {},
     "output_type": "execute_result"
    }
   ],
   "source": [
    "beta"
   ]
  },
  {
   "cell_type": "code",
   "execution_count": 131,
   "id": "36a0c59d-d9a8-4a29-a9f3-27bbf7c9b28d",
   "metadata": {
    "tags": []
   },
   "outputs": [
    {
     "name": "stdout",
     "output_type": "stream",
     "text": [
      "<div class=\"rounded-full px-4 py-1.5 text-center mb-6 mt-1 font-semibold leading-5 -mt-2.5 text-primary bg-primary-light\">Neutral</div>\n"
     ]
    }
   ],
   "source": [
    "for i in soup.find_all('div', class_='rounded-full'):\n",
    "    # print(i.find_all('div', class_='py-1.5'))\n",
    "    print(i)\n",
    "    # signal = i.find_all('div', class_='py-1.5')[0].text\n",
    "    # print(signal)\n",
    "# signal"
   ]
  },
  {
   "cell_type": "code",
   "execution_count": 135,
   "id": "698734c1-6a53-4d9a-a056-dbd0a9a72653",
   "metadata": {
    "tags": []
   },
   "outputs": [
    {
     "data": {
      "text/plain": [
       "'Grameenphone Ltd Stock Price Today | DH GRAE Live Ticker - Investing.com'"
      ]
     },
     "execution_count": 135,
     "metadata": {},
     "output_type": "execute_result"
    }
   ],
   "source": [
    "d.title"
   ]
  },
  {
   "cell_type": "code",
   "execution_count": 137,
   "id": "70a98a6e-ebef-46d9-b7f7-15dae8d5e441",
   "metadata": {
    "tags": []
   },
   "outputs": [],
   "source": [
    "d.close()"
   ]
  },
  {
   "cell_type": "code",
   "execution_count": 138,
   "id": "84085352-66ad-43a4-b994-d9d811d900cf",
   "metadata": {
    "tags": []
   },
   "outputs": [
    {
     "ename": "InvalidSessionIdException",
     "evalue": "Message: Tried to run command without establishing a connection\n",
     "output_type": "error",
     "traceback": [
      "\u001b[0;31m---------------------------------------------------------------------------\u001b[0m",
      "\u001b[0;31mInvalidSessionIdException\u001b[0m                 Traceback (most recent call last)",
      "Cell \u001b[0;32mIn[138], line 1\u001b[0m\n\u001b[0;32m----> 1\u001b[0m \u001b[43md\u001b[49m\u001b[38;5;241;43m.\u001b[39;49m\u001b[43mtitle\u001b[49m\n",
      "File \u001b[0;32m/mount/Project/Project Files/PythonEnvs/DataSciEnv2/lib/python3.10/site-packages/selenium/webdriver/remote/webdriver.py:364\u001b[0m, in \u001b[0;36mWebDriver.title\u001b[0;34m(self)\u001b[0m\n\u001b[1;32m    355\u001b[0m \u001b[38;5;129m@property\u001b[39m\n\u001b[1;32m    356\u001b[0m \u001b[38;5;28;01mdef\u001b[39;00m \u001b[38;5;21mtitle\u001b[39m(\u001b[38;5;28mself\u001b[39m) \u001b[38;5;241m-\u001b[39m\u001b[38;5;241m>\u001b[39m \u001b[38;5;28mstr\u001b[39m:\n\u001b[1;32m    357\u001b[0m \u001b[38;5;250m    \u001b[39m\u001b[38;5;124;03m\"\"\"Returns the title of the current page.\u001b[39;00m\n\u001b[1;32m    358\u001b[0m \n\u001b[1;32m    359\u001b[0m \u001b[38;5;124;03m    :Usage:\u001b[39;00m\n\u001b[0;32m   (...)\u001b[0m\n\u001b[1;32m    362\u001b[0m \u001b[38;5;124;03m            title = driver.title\u001b[39;00m\n\u001b[1;32m    363\u001b[0m \u001b[38;5;124;03m    \"\"\"\u001b[39;00m\n\u001b[0;32m--> 364\u001b[0m     \u001b[38;5;28;01mreturn\u001b[39;00m \u001b[38;5;28;43mself\u001b[39;49m\u001b[38;5;241;43m.\u001b[39;49m\u001b[43mexecute\u001b[49m\u001b[43m(\u001b[49m\u001b[43mCommand\u001b[49m\u001b[38;5;241;43m.\u001b[39;49m\u001b[43mGET_TITLE\u001b[49m\u001b[43m)\u001b[49m\u001b[38;5;241m.\u001b[39mget(\u001b[38;5;124m\"\u001b[39m\u001b[38;5;124mvalue\u001b[39m\u001b[38;5;124m\"\u001b[39m, \u001b[38;5;124m\"\u001b[39m\u001b[38;5;124m\"\u001b[39m)\n",
      "File \u001b[0;32m/mount/Project/Project Files/PythonEnvs/DataSciEnv2/lib/python3.10/site-packages/selenium/webdriver/remote/webdriver.py:344\u001b[0m, in \u001b[0;36mWebDriver.execute\u001b[0;34m(self, driver_command, params)\u001b[0m\n\u001b[1;32m    342\u001b[0m response \u001b[38;5;241m=\u001b[39m \u001b[38;5;28mself\u001b[39m\u001b[38;5;241m.\u001b[39mcommand_executor\u001b[38;5;241m.\u001b[39mexecute(driver_command, params)\n\u001b[1;32m    343\u001b[0m \u001b[38;5;28;01mif\u001b[39;00m response:\n\u001b[0;32m--> 344\u001b[0m     \u001b[38;5;28;43mself\u001b[39;49m\u001b[38;5;241;43m.\u001b[39;49m\u001b[43merror_handler\u001b[49m\u001b[38;5;241;43m.\u001b[39;49m\u001b[43mcheck_response\u001b[49m\u001b[43m(\u001b[49m\u001b[43mresponse\u001b[49m\u001b[43m)\u001b[49m\n\u001b[1;32m    345\u001b[0m     response[\u001b[38;5;124m\"\u001b[39m\u001b[38;5;124mvalue\u001b[39m\u001b[38;5;124m\"\u001b[39m] \u001b[38;5;241m=\u001b[39m \u001b[38;5;28mself\u001b[39m\u001b[38;5;241m.\u001b[39m_unwrap_value(response\u001b[38;5;241m.\u001b[39mget(\u001b[38;5;124m\"\u001b[39m\u001b[38;5;124mvalue\u001b[39m\u001b[38;5;124m\"\u001b[39m, \u001b[38;5;28;01mNone\u001b[39;00m))\n\u001b[1;32m    346\u001b[0m     \u001b[38;5;28;01mreturn\u001b[39;00m response\n",
      "File \u001b[0;32m/mount/Project/Project Files/PythonEnvs/DataSciEnv2/lib/python3.10/site-packages/selenium/webdriver/remote/errorhandler.py:229\u001b[0m, in \u001b[0;36mErrorHandler.check_response\u001b[0;34m(self, response)\u001b[0m\n\u001b[1;32m    227\u001b[0m         alert_text \u001b[38;5;241m=\u001b[39m value[\u001b[38;5;124m\"\u001b[39m\u001b[38;5;124malert\u001b[39m\u001b[38;5;124m\"\u001b[39m]\u001b[38;5;241m.\u001b[39mget(\u001b[38;5;124m\"\u001b[39m\u001b[38;5;124mtext\u001b[39m\u001b[38;5;124m\"\u001b[39m)\n\u001b[1;32m    228\u001b[0m     \u001b[38;5;28;01mraise\u001b[39;00m exception_class(message, screen, stacktrace, alert_text)  \u001b[38;5;66;03m# type: ignore[call-arg]  # mypy is not smart enough here\u001b[39;00m\n\u001b[0;32m--> 229\u001b[0m \u001b[38;5;28;01mraise\u001b[39;00m exception_class(message, screen, stacktrace)\n",
      "\u001b[0;31mInvalidSessionIdException\u001b[0m: Message: Tried to run command without establishing a connection\n"
     ]
    }
   ],
   "source": [
    "# d.title"
   ]
  },
  {
   "cell_type": "code",
   "execution_count": null,
   "id": "e334241e-28fe-4a45-ba16-905eb917f9a4",
   "metadata": {},
   "outputs": [],
   "source": []
  },
  {
   "cell_type": "code",
   "execution_count": null,
   "id": "a524246c-70c9-41f4-9d13-808624e253c1",
   "metadata": {},
   "outputs": [],
   "source": []
  },
  {
   "cell_type": "code",
   "execution_count": 73,
   "id": "10fc1fc3-487f-48d9-93d5-d55450a63c6e",
   "metadata": {
    "tags": []
   },
   "outputs": [
    {
     "data": {
      "text/plain": [
       "[<div class=\"bg-[#FFFFFF] text-[#232526] shadow-buttonSecondary w-full text-center h-8 rounded-sm hover:text-[#1256A0]\"><div class=\"text-xs leading-4 font-semibold py-2\">Analysts</div></div>,\n",
       " <div class=\"text-[#5B616E] w-full text-center h-8 rounded-sm hover:text-[#1256A0]\"><div class=\"text-xs leading-4 font-semibold py-2\">Technical</div></div>,\n",
       " <div class=\"flex flex-col items-center shrink text-center self-center ml-0 analyst-price-target_gaugeView__yP3BV\"><div class=\"analyst-price-target_gaugeContainer__F_79r !w-[300px] !h-[106px]\" data-c=\"2\"><div class=\"analyst-price-target_gauge__mc_8B !w-[136px] !h-[68px]\"><div class=\"analyst-price-target_bar__nhotN\" data-i=\"0\"></div><div class=\"analyst-price-target_bar__nhotN\" data-i=\"1\"></div><div class=\"analyst-price-target_bar__nhotN\" data-i=\"2\"></div><div class=\"analyst-price-target_bar__nhotN\" data-i=\"3\"></div><div class=\"analyst-price-target_bar__nhotN\" data-i=\"4\"></div><div class=\"analyst-price-target_separator__682r6 !h-[68px] !left-[67px]\" data-i=\"0\"></div><div class=\"analyst-price-target_separator__682r6 !h-[68px] !left-[67px]\" data-i=\"1\"></div><div class=\"analyst-price-target_separator__682r6 !h-[68px] !left-[67px]\" data-i=\"2\"></div><div class=\"analyst-price-target_separator__682r6 !h-[68px] !left-[67px]\" data-i=\"3\"></div><div class=\"analyst-price-target_indicator__dhPLO !w-[130px] !h-[130px] !top-[3px] !left-[3px]\"><div class=\"analyst-price-target_arrow__ZRmAZ !bottom-[65px] !left-[64.5px] !h-[42px]\"></div></div></div><div class=\"analyst-price-target_circle__ykYoV !top-[84px] !bottom-[19px]\"></div><div class=\"analyst-price-target_strongSell__OtkYw !left-[14px] !bottom-[19px]\">Strong Sell</div><div class=\"analyst-price-target_sell__umjJy !left-[37px] !top-[15px]\">Sell</div><div class=\"analyst-price-target_neutral__L8xm4 !-top-[11px]\">Neutral</div><div class=\"analyst-price-target_buy__5XS2x !right-[38px] !top-[15px]\">Buy</div><div class=\"analyst-price-target_strongBuy__QaJ8j !right-[14px] !bottom-[19px]\">Strong Buy</div></div><div class=\"rounded-full px-4 py-1.5 text-center mb-6 mt-1 font-semibold leading-5 -mt-2.5 text-primary bg-primary-light\">Neutral</div></div>,\n",
       " <div class=\"rounded-full px-4 py-1.5 text-center mb-6 mt-1 font-semibold leading-5 -mt-2.5 text-primary bg-primary-light\">Neutral</div>,\n",
       " <div class=\"text-xs leading-4 font-semibold text-center\">Analysts 12-Month Price Target</div>,\n",
       " <div class=\"text-center py-3 leading-5 border-b border-[#ECEDEF] mx-2 hover:text-[#1256A0] hover:bg-[#F7F7F8] hover:underline cursor-pointer\">Show more</div>]"
      ]
     },
     "execution_count": 73,
     "metadata": {},
     "output_type": "execute_result"
    }
   ],
   "source": [
    "# data = \n",
    "soup.findAll('div', class_='text-center')"
   ]
  },
  {
   "cell_type": "code",
   "execution_count": 78,
   "id": "db6e471c-c881-4303-a24d-4dadca9b919d",
   "metadata": {
    "tags": []
   },
   "outputs": [
    {
     "data": {
      "text/plain": [
       "[<div class=\"flex gap-2 py-1.5 px-3 md:gap-3 md:px-4 items-center rounded text-primary\"><div class=\"text-base font-bold leading-6 md:text-xl md:leading-7 rtl:force-ltr\">0.00</div><div class=\"text-base font-bold leading-6 md:text-xl md:leading-7 rtl:force-ltr\">(<!-- -->0.00<!-- -->%)</div><div><div></div></div></div>,\n",
       " <div class=\"rounded-full px-4 py-1.5 text-center mb-6 mt-1 font-semibold leading-5 -mt-2.5 text-primary bg-primary-light\">Neutral</div>]"
      ]
     },
     "execution_count": 78,
     "metadata": {},
     "output_type": "execute_result"
    }
   ],
   "source": [
    "soup.findAll('div', class_='py-1.5')"
   ]
  },
  {
   "cell_type": "code",
   "execution_count": 82,
   "id": "3b7174bc-0063-427e-afcc-d3debb0a84d7",
   "metadata": {
    "tags": []
   },
   "outputs": [
    {
     "data": {
      "text/plain": [
       "[<div class=\"text-sm leading-5 mb-2.5\">Fair Value</div>,\n",
       " <div class=\"text-sm leading-5 mb-2.5\">Company Score</div>,\n",
       " <div class=\"text-sm leading-5 mb-2.5\">Financial Health</div>,\n",
       " <div class=\"rounded-full px-4 py-1.5 text-center mb-6 mt-1 font-semibold leading-5 -mt-2.5 text-primary bg-primary-light\">Neutral</div>,\n",
       " <div class=\"flex justify-center items-center gap-2 text-sm leading-5 font-semibold\"><div class=\"text-[#232526]\"> <!-- -->325.33</div><svg fill=\"none\" height=\"12\" viewbox=\"0 0 1 12\" width=\"1\" xmlns=\"http://www.w3.org/2000/svg\"><path d=\"M.5 0v12\" stroke=\"#D9DCDF\"></path></svg><div class=\"text-positive-main whitespace-nowrap\">Upside<!-- --> <span dir=\"ltr\">+13.51<!-- -->%</span> </div></div>,\n",
       " <div class=\"text-center py-3 leading-5 border-b border-[#ECEDEF] mx-2 hover:text-[#1256A0] hover:bg-[#F7F7F8] hover:underline cursor-pointer\">Show more</div>]"
      ]
     },
     "execution_count": 82,
     "metadata": {},
     "output_type": "execute_result"
    }
   ],
   "source": [
    "soup.findAll('div', class_='leading-5')"
   ]
  },
  {
   "cell_type": "code",
   "execution_count": 113,
   "id": "4622e6b3-b970-4209-8829-a6742e6eafbf",
   "metadata": {
    "tags": []
   },
   "outputs": [
    {
     "name": "stdout",
     "output_type": "stream",
     "text": [
      "<div class=\"flex gap-2 py-1.5 px-3 md:gap-3 md:px-4 items-center rounded text-primary\"><div class=\"text-base font-bold leading-6 md:text-xl md:leading-7 rtl:force-ltr\">0.00</div><div class=\"text-base font-bold leading-6 md:text-xl md:leading-7 rtl:force-ltr\">(<!-- -->0.00<!-- -->%)</div><div><div></div></div></div>\n",
      "<class 'bs4.element.Tag'>\n",
      "[]\n",
      "<div class=\"rounded-full px-4 py-1.5 text-center mb-6 mt-1 font-semibold leading-5 -mt-2.5 text-primary bg-primary-light\">Neutral</div>\n",
      "<class 'bs4.element.Tag'>\n",
      "[]\n"
     ]
    }
   ],
   "source": [
    "# for i in soup.findAll('div', class_='py-1.5'):\n",
    "#     print(i)\n",
    "\n",
    "for i in soup.find_all('div', class_='py-1.5'):\n",
    "    print(i)\n",
    "    print(type(i))\n",
    "    # print(dir(i))\n",
    "    print(i.find_all(class_='text-center'))"
   ]
  },
  {
   "cell_type": "code",
   "execution_count": 118,
   "id": "fe067650-a93a-421d-bf6f-73b693b1992f",
   "metadata": {
    "tags": []
   },
   "outputs": [
    {
     "data": {
      "text/plain": [
       "1"
      ]
     },
     "execution_count": 118,
     "metadata": {},
     "output_type": "execute_result"
    }
   ],
   "source": [
    "len(soup.find_all('div', class_='mt-12'))"
   ]
  },
  {
   "cell_type": "code",
   "execution_count": 124,
   "id": "b10fa703-1bd7-4430-acb6-d7d1f427ce0f",
   "metadata": {
    "tags": []
   },
   "outputs": [
    {
     "name": "stdout",
     "output_type": "stream",
     "text": [
      "[<div class=\"rounded-full px-4 py-1.5 text-center mb-6 mt-1 font-semibold leading-5 -mt-2.5 text-primary bg-primary-light\">Neutral</div>]\n",
      "Neutral\n"
     ]
    }
   ],
   "source": [
    "for i in soup.find_all('div', class_='mt-12'):\n",
    "    print(i.find_all('div', class_='py-1.5'))\n",
    "    signal = i.find_all('div', class_='py-1.5')[0].text\n",
    "    print(signal)"
   ]
  },
  {
   "cell_type": "code",
   "execution_count": 72,
   "id": "04db9d57-9de2-4b3b-b03e-6a807f32e3ce",
   "metadata": {
    "tags": []
   },
   "outputs": [],
   "source": [
    "# soup"
   ]
  },
  {
   "cell_type": "code",
   "execution_count": 74,
   "id": "eda786b5-10f3-4144-a267-9eacad05629f",
   "metadata": {
    "tags": []
   },
   "outputs": [],
   "source": [
    "# Randomly select a user agent\n",
    "random_user_agent = random.choice(user_agents)\n",
    "\n",
    "# Create a session object\n",
    "session = requests.Session()\n",
    "\n",
    "# Set the user agent as a header for the session\n",
    "session.headers.update({'User-Agent': random_user_agent,\n",
    "                                'Accept': 'text/plain'})\n",
    "\n",
    "# url = 'https://www.dsebd.org/latest_share_price_scroll_l.php'\n",
    "\n",
    "url = 'https://www.google.com/search?client=firefox-b-lm&q=investing.com+GP'\n",
    "\n",
    "# Make a request using the session\n",
    "response = session.get(url)"
   ]
  },
  {
   "cell_type": "code",
   "execution_count": 146,
   "id": "9f41dfbb-6c2c-4123-8955-43c46c157941",
   "metadata": {
    "tags": []
   },
   "outputs": [],
   "source": [
    "# soup = BeautifulSoup(response.text)\n",
    "\n",
    "# commented\n",
    "# html_content = response.content\n",
    "\n",
    "# # Parse the HTML content with BeautifulSoup\n",
    "# soup = BeautifulSoup(html_content, 'html.parser')\n",
    "\n",
    "# links = soup.findAll(\"a\", href=True)\n",
    "\n",
    "# c = 0\n",
    "# for link in links:\n",
    "#     print('Counter: ', str(c))\n",
    "#     c=c+1\n",
    "#     print(link['href'])\n",
    "#     print()"
   ]
  },
  {
   "cell_type": "code",
   "execution_count": 145,
   "id": "45cd1ab0-e18f-4ba0-b46a-ed4b80ed7e4a",
   "metadata": {},
   "outputs": [
    {
     "data": {
      "text/plain": [
       "'Facebook – log in or sign up'"
      ]
     },
     "execution_count": 145,
     "metadata": {},
     "output_type": "execute_result"
    }
   ],
   "source": [
    "d.get('https://www.fb.com')\n",
    "d.title"
   ]
  },
  {
   "cell_type": "code",
   "execution_count": null,
   "id": "abafa22a-c335-4c3b-9ed9-6404f7054e14",
   "metadata": {},
   "outputs": [],
   "source": []
  },
  {
   "cell_type": "code",
   "execution_count": null,
   "id": "33573e75-ecd1-40f2-921a-a48156e0a480",
   "metadata": {},
   "outputs": [],
   "source": []
  },
  {
   "cell_type": "code",
   "execution_count": null,
   "id": "12ae14fb-0222-4526-ba3d-92a7b4e14f3f",
   "metadata": {},
   "outputs": [],
   "source": []
  },
  {
   "cell_type": "code",
   "execution_count": 149,
   "id": "6194c695-8760-488e-9b46-fc3338a70648",
   "metadata": {
    "tags": []
   },
   "outputs": [
    {
     "name": "stdout",
     "output_type": "stream",
     "text": [
      "Execution time: 23.173805952072144 seconds\n"
     ]
    }
   ],
   "source": [
    "import time\n",
    "\n",
    "def get_co_tech_investing(url):\n",
    "    options = webdriver.FirefoxOptions()\n",
    "    options.add_argument('--headless')\n",
    "\n",
    "    user_agents = [\n",
    "            \"Mozilla/5.0 (Windows NT 10.0; Win64; x64) AppleWebKit/537.36 (KHTML, like Gecko) Chrome/91.0.4472.124 Safari/537.36\",\n",
    "            \"Mozilla/5.0 (Windows NT 10.0; Win64; x64; rv:89.0) Gecko/20100101 Firefox/89.0\",\n",
    "            \"Mozilla/5.0 (Macintosh; Intel Mac OS X 10_15_7) AppleWebKit/537.36 (KHTML, like Gecko) Chrome/91.0.4472.124 Safari/537.36\",\n",
    "            \"Mozilla/5.0 (Macintosh; Intel Mac OS X 10_15_7) AppleWebKit/537.36 (KHTML, like Gecko) Chrome/91.0.4472.124 Safari/537.36\",\n",
    "            \"Mozilla/5.0 (X11; Ubuntu; Linux x86_64; rv:89.0) Gecko/20100101 Firefox/89.0\",\n",
    "            \"Mozilla/5.0 (X11; Linux x86_64) AppleWebKit/537.36 (KHTML, like Gecko) Chrome/91.0.4472.124 Safari/537.36\",\n",
    "            \"Mozilla/5.0 (X11; Linux x86_64) AppleWebKit/537.36 (KHTML, like Gecko) Chrome/91.0.4472.124 Safari/537.36\",\n",
    "            \"Mozilla/5.0 (Windows NT 10.0; Win64; x64) AppleWebKit/537.36 (KHTML, like Gecko) Chrome/91.0.4472.124 Safari/537.36\",\n",
    "            \"Mozilla/5.0 (Windows NT 10.0; Win64; x64; rv:89.0) Gecko/20100101 Firefox/89.0\",\n",
    "            \"Mozilla/5.0 (Windows NT 10.0; Win64; x64) AppleWebKit/537.36 (KHTML, like Gecko) Chrome/91.0.4472.124 Safari/537.36\",\n",
    "            \"Mozilla/5.0 (Windows NT 10.0; Win64; x64; rv:89.0) Gecko/20100101 Firefox/89.0\",\n",
    "            \"Mozilla/5.0 (Windows NT 10.0; Win64; x64) AppleWebKit/537.36 (KHTML, like Gecko) Chrome/91.0.4472.124 Safari/537.36\",\n",
    "            \"Mozilla/5.0 (Windows NT 10.0; Win64; x64; rv:89.0) Gecko/20100101 Firefox/89.0\",\n",
    "            \"Mozilla/5.0 (Windows NT 10.0; Win64; x64) AppleWebKit/537.36 (KHTML, like Gecko) Chrome/91.0.4472.124 Safari/537.36\",\n",
    "            \"Mozilla/5.0 (Windows NT 10.0; Win64; x64; rv:89.0) Gecko/20100101 Firefox/89.0\",\n",
    "            \"Mozilla/5.0 (Windows NT 10.0; Win64; x64) AppleWebKit/537.36 (KHTML, like Gecko) Chrome/91.0.4472.124 Safari/537.36\",\n",
    "            \"Mozilla/5.0 (Windows NT 10.0; Win64; x64; rv:89.0) Gecko/20100101 Firefox/89.0\",\n",
    "            \"Mozilla/5.0 (Windows NT 10.0; Win64; x64) AppleWebKit/537.36 (KHTML, like Gecko) Chrome/91.0.4472.124 Safari/537.36\",\n",
    "            \"Mozilla/5.0 (Windows NT 10.0; Win64; x64; rv:89.0) Gecko/20100101 Firefox/89.0\",\n",
    "            \"Mozilla/5.0 (Windows NT 10.0; Win64; x64) AppleWebKit/537.36 (KHTML, like Gecko) Chrome/91.0.4472.124 Safari/537.36\",\n",
    "            \"Mozilla/5.0 (Windows NT 10.0; Win64; x64; rv:89.0) Gecko/20100101 Firefox/89.0\",\n",
    "            \"Mozilla/5.0 (Windows NT 10.0; Win64; x64) AppleWebKit/537.36 (KHTML, like Gecko) Chrome/91.0.4472.124 Safari/537.36\",\n",
    "            \"Mozilla/5.0 (Windows NT 10.0; Win64; x64; rv:89.0) Gecko/20100101 Firefox/89.0\",\n",
    "            \"Mozilla/5.0 (Windows NT 10.0; Win64; x64) AppleWebKit/537.36 (KHTML, like Gecko) Chrome/91.0.4472.124 Safari/537.36\",\n",
    "            \"Mozilla/5.0 (Windows NT 10.0; Win64; x64; rv:89.0) Gecko/20100101 Firefox/89.0\",\n",
    "            # Add more user agents here...\n",
    "            # ...\n",
    "        ]\n",
    "\n",
    "    # Randomly select a user agent\n",
    "    random_user_agent = random.choice(user_agents)\n",
    "\n",
    "    options.add_argument(f'user-agent={random_user_agent}')\n",
    "\n",
    "\n",
    "    # Set a user agent string to mimic a real browser\n",
    "    options.set_preference(\"general.useragent.override\", random_user_agent)\n",
    "    # Disable browser automation detection features (this may change over time)\n",
    "    options.set_preference(\"dom.webdriver.enabled\", False)\n",
    "    options.set_preference(\"dom.webnotifications.enabled\", False)\n",
    "\n",
    "    # Disable permissions prompt for notifications\n",
    "    options.set_preference(\"permissions.default.desktop-notification\", 1)\n",
    "\n",
    "    # Disable the \"navigator.webdriver\" property\n",
    "    options.set_preference(\"webdriver.firefox.profile\", \"default\")\n",
    "\n",
    "    # Set a custom window size to mimic a real browser\n",
    "    options.add_argument(\"--window-size=1920,1080\")\n",
    "\n",
    "    d = webdriver.Firefox(options=options)\n",
    "\n",
    "    d.get(url)\n",
    "\n",
    "    soup = BeautifulSoup(d.page_source, 'html.parser')\n",
    "\n",
    "    d.close()\n",
    "    \n",
    "    prev_close = data[0].text\n",
    "    open_ = data[1].text\n",
    "    day_range_start = data[2].text\n",
    "    day_range_end = data[3].text\n",
    "    week_range_52_start = data[4].text\n",
    "    week_range_52_end = data[5].text\n",
    "    vol = data[6].text\n",
    "    avg_vol = data[7].text\n",
    "    year_chng = data[8].text\n",
    "    outstanding_shares = data[9].text\n",
    "    market_cap = data[10].text\n",
    "    revenue = data[11].text\n",
    "    pe_ratio = data[12].text\n",
    "    eps = data[13].text\n",
    "    dividend_yield = data[14].text\n",
    "    dividend_yield_percentage = data[15].text\n",
    "    beta = data[16].text\n",
    "    # next_earning_date = data[17].text\n",
    "    \n",
    "    return {\n",
    "            'prev_close' : data[0].text,\n",
    "            'open_' : data[1].text,\n",
    "            'day_range_start' : data[2].text,\n",
    "            'day_range_end' : data[3].text,\n",
    "            'week_range_52_start' : data[4].text,\n",
    "            'week_range_52_end' : data[5].text,\n",
    "            'vol' : data[6].text,\n",
    "            'avg_vol' : data[7].text,\n",
    "            'year_chng' : data[8].text,\n",
    "            'outstanding_shares' : data[9].text,\n",
    "            'market_cap' : data[10].text,\n",
    "            'revenue' : data[11].text,\n",
    "            'pe_ratio' : data[12].text,\n",
    "            'eps' : data[13].text,\n",
    "            'dividend_yield' : data[14].text,\n",
    "            'dividend_yield_percentage' : data[15].text,\n",
    "            'beta' : data[16].text,\n",
    "           }\n",
    "\n",
    "\n",
    "start_time = time.time()\n",
    "get_co_tech_investing('https://www.investing.com/equities/grameenphone-ltd')\n",
    "end_time = time.time()\n",
    "execution_time = end_time - start_time\n",
    "print(f\"Execution time for getting investing.com data: {execution_time} seconds\")"
   ]
  },
  {
   "cell_type": "code",
   "execution_count": null,
   "id": "88b12c77-a744-4760-86e8-cde7b091f2f6",
   "metadata": {},
   "outputs": [],
   "source": []
  }
 ],
 "metadata": {
  "kernelspec": {
   "display_name": "Python 3 (ipykernel)",
   "language": "python",
   "name": "python3"
  },
  "language_info": {
   "codemirror_mode": {
    "name": "ipython",
    "version": 3
   },
   "file_extension": ".py",
   "mimetype": "text/x-python",
   "name": "python",
   "nbconvert_exporter": "python",
   "pygments_lexer": "ipython3",
   "version": "3.10.12"
  }
 },
 "nbformat": 4,
 "nbformat_minor": 5
}
