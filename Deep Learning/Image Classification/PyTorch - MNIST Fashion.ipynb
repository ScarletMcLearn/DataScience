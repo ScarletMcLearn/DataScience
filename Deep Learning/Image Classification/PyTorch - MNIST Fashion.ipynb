{
 "cells": [
  {
   "cell_type": "code",
   "execution_count": 1,
   "metadata": {},
   "outputs": [],
   "source": [
    "import torch\n",
    "import torchvision\n",
    "from torchvision import transforms, datasets\n",
    "\n",
    "import torch.nn as nn\n",
    "import torch.nn.functional as F\n",
    "import torch.optim as optim"
   ]
  },
  {
   "cell_type": "code",
   "execution_count": null,
   "metadata": {},
   "outputs": [],
   "source": []
  },
  {
   "cell_type": "code",
   "execution_count": 2,
   "metadata": {},
   "outputs": [],
   "source": [
    "train = torchvision.datasets.FashionMNIST('', train=True, download=True,\n",
    "                       transform=transforms.Compose([\n",
    "                           transforms.ToTensor()\n",
    "                       ]))\n",
    "\n",
    "test = torchvision.datasets.FashionMNIST('', train=False, download=True,\n",
    "                       transform=transforms.Compose([\n",
    "                           transforms.ToTensor()\n",
    "                       ]))\n",
    "\n",
    "trainset = torch.utils.data.DataLoader(train, batch_size=10, shuffle=True, num_workers=2)\n",
    "\n",
    "testset = torch.utils.data.DataLoader(test, batch_size=10, shuffle=False, num_workers=2)"
   ]
  },
  {
   "cell_type": "code",
   "execution_count": null,
   "metadata": {},
   "outputs": [],
   "source": []
  },
  {
   "cell_type": "code",
   "execution_count": 3,
   "metadata": {},
   "outputs": [
    {
     "name": "stdout",
     "output_type": "stream",
     "text": [
      "torch.Size([60000, 28, 28]) torch.Size([10000, 28, 28])\n"
     ]
    },
    {
     "name": "stderr",
     "output_type": "stream",
     "text": [
      "/home/scarlet/Projects/PyEnvs/DSPyTorchEnv/DSPyTEnv/lib/python3.7/site-packages/torchvision/datasets/mnist.py:55: UserWarning: train_data has been renamed data\n",
      "  warnings.warn(\"train_data has been renamed data\")\n",
      "/home/scarlet/Projects/PyEnvs/DSPyTorchEnv/DSPyTEnv/lib/python3.7/site-packages/torchvision/datasets/mnist.py:60: UserWarning: test_data has been renamed data\n",
      "  warnings.warn(\"test_data has been renamed data\")\n"
     ]
    }
   ],
   "source": [
    "trainset_shape = trainset.dataset.train_data.shape\n",
    "testset_shape = testset.dataset.test_data.shape\n",
    "\n",
    "print(trainset_shape, testset_shape)"
   ]
  },
  {
   "cell_type": "code",
   "execution_count": null,
   "metadata": {},
   "outputs": [],
   "source": []
  },
  {
   "cell_type": "code",
   "execution_count": 4,
   "metadata": {},
   "outputs": [],
   "source": [
    "class Net(nn.Module):\n",
    "    def __init__(self):\n",
    "        super(Net, self).__init__()\n",
    "        self.fc1 = nn.Linear(28*28, 64)\n",
    "        self.fc2 = nn.Linear(64, 64)\n",
    "        self.fc3 = nn.Linear(64, 64)\n",
    "        self.fc4 = nn.Linear(64, 10)\n",
    "\n",
    "    def forward(self, x):\n",
    "        x = F.relu(self.fc1(x))\n",
    "        x = F.relu(self.fc2(x))\n",
    "        x = F.relu(self.fc3(x))\n",
    "        x = self.fc4(x)\n",
    "        return F.log_softmax(x, dim=1) "
   ]
  },
  {
   "cell_type": "code",
   "execution_count": null,
   "metadata": {},
   "outputs": [],
   "source": []
  },
  {
   "cell_type": "code",
   "execution_count": 5,
   "metadata": {},
   "outputs": [
    {
     "name": "stdout",
     "output_type": "stream",
     "text": [
      "Net(\n",
      "  (fc1): Linear(in_features=784, out_features=64, bias=True)\n",
      "  (fc2): Linear(in_features=64, out_features=64, bias=True)\n",
      "  (fc3): Linear(in_features=64, out_features=64, bias=True)\n",
      "  (fc4): Linear(in_features=64, out_features=10, bias=True)\n",
      ")\n"
     ]
    }
   ],
   "source": [
    "net = Net()\n",
    "print(net)"
   ]
  },
  {
   "cell_type": "code",
   "execution_count": null,
   "metadata": {},
   "outputs": [],
   "source": []
  },
  {
   "cell_type": "code",
   "execution_count": 6,
   "metadata": {},
   "outputs": [],
   "source": [
    "loss_criterion = nn.CrossEntropyLoss()\n",
    "optimizer = optim.Adam(net.parameters(), lr=0.005)"
   ]
  },
  {
   "cell_type": "code",
   "execution_count": null,
   "metadata": {},
   "outputs": [],
   "source": []
  },
  {
   "cell_type": "code",
   "execution_count": 7,
   "metadata": {},
   "outputs": [
    {
     "name": "stdout",
     "output_type": "stream",
     "text": [
      "tensor(0.6031, grad_fn=<NllLossBackward>)\n",
      "tensor(0.3824, grad_fn=<NllLossBackward>)\n",
      "tensor(0.0234, grad_fn=<NllLossBackward>)\n",
      "tensor(0.2419, grad_fn=<NllLossBackward>)\n",
      "tensor(0.2769, grad_fn=<NllLossBackward>)\n"
     ]
    }
   ],
   "source": [
    "for epoch in range(5): \n",
    "    for data in trainset:  \n",
    "        X, y = data  \n",
    "        net.zero_grad()  \n",
    "        output = net(X.view(-1,784))  \n",
    "        loss = loss_criterion(output, y)  \n",
    "        loss.backward()  \n",
    "        optimizer.step()  \n",
    "    print(loss)  "
   ]
  },
  {
   "cell_type": "code",
   "execution_count": null,
   "metadata": {},
   "outputs": [],
   "source": []
  },
  {
   "cell_type": "code",
   "execution_count": 8,
   "metadata": {},
   "outputs": [
    {
     "name": "stdout",
     "output_type": "stream",
     "text": [
      "Accuracy:  0.84\n"
     ]
    }
   ],
   "source": [
    "correct = 0\n",
    "total = 0\n",
    "\n",
    "# incorr = []\n",
    "incorr_X = []\n",
    "incorr_y = []\n",
    "otpt = []\n",
    "torch_argmax_i = []\n",
    "y_indx = []\n",
    "i_trch_argmx = []\n",
    "idx_y = []\n",
    "\n",
    "# y_indx[4] torch_argmax_i[4] \n",
    "\n",
    "corr_y_indx = []\n",
    "corr_torch_argmax_i = []\n",
    "\n",
    "with torch.no_grad():\n",
    "    for data in testset:\n",
    "        X, y = data\n",
    "        output = net(X.view(-1,784))\n",
    "        \n",
    "        for idx, i in enumerate(output):\n",
    "               if torch.argmax(i) == y[idx]:\n",
    "                correct += 1\n",
    "                corr_y_indx.append(y[idx])\n",
    "                corr_torch_argmax_i.append(torch.argmax(i))\n",
    "\n",
    "               else:\n",
    "#                 incorr.append([X, y, output, torch.argmax(i), y[idx]])\n",
    "                     incorr_X.append(X) \n",
    "                     incorr_y.append(y)\n",
    "                     otpt.append(output)\n",
    "                     torch_argmax_i.append(torch.argmax(i))\n",
    "                     y_indx.append(y[idx])\n",
    "                     i_trch_argmx.append(i)\n",
    "                     idx_y.append(idx)\n",
    "               total += 1\n",
    "\n",
    "print(\"Accuracy: \", round(correct/total, 2))"
   ]
  },
  {
   "cell_type": "code",
   "execution_count": null,
   "metadata": {},
   "outputs": [],
   "source": []
  },
  {
   "cell_type": "code",
   "execution_count": 9,
   "metadata": {},
   "outputs": [],
   "source": [
    "# Predicted Label vs Ground Truth"
   ]
  },
  {
   "cell_type": "code",
   "execution_count": 10,
   "metadata": {},
   "outputs": [
    {
     "name": "stdout",
     "output_type": "stream",
     "text": [
      "tensor(9)\n",
      "tensor(9)\n",
      "\n",
      "tensor(2)\n",
      "tensor(2)\n",
      "\n",
      "tensor(1)\n",
      "tensor(1)\n",
      "\n",
      "tensor(1)\n",
      "tensor(1)\n",
      "\n",
      "tensor(6)\n",
      "tensor(6)\n",
      "\n",
      "tensor(1)\n",
      "tensor(1)\n",
      "\n",
      "tensor(4)\n",
      "tensor(4)\n",
      "\n",
      "tensor(6)\n",
      "tensor(6)\n",
      "\n",
      "tensor(5)\n",
      "tensor(5)\n",
      "\n",
      "tensor(7)\n",
      "tensor(7)\n",
      "\n"
     ]
    }
   ],
   "source": [
    "for i in range(10):\n",
    "    print(corr_torch_argmax_i[i])\n",
    "    print(corr_y_indx[i])\n",
    "    print()"
   ]
  },
  {
   "cell_type": "code",
   "execution_count": null,
   "metadata": {},
   "outputs": [],
   "source": []
  },
  {
   "cell_type": "code",
   "execution_count": 11,
   "metadata": {},
   "outputs": [],
   "source": [
    "# Predicted Label vs Ground Truth"
   ]
  },
  {
   "cell_type": "code",
   "execution_count": 12,
   "metadata": {},
   "outputs": [
    {
     "name": "stdout",
     "output_type": "stream",
     "text": [
      "tensor(2)\n",
      "tensor(4)\n",
      "\n",
      "tensor(2)\n",
      "tensor(4)\n",
      "\n",
      "tensor(5)\n",
      "tensor(9)\n",
      "\n",
      "tensor(2)\n",
      "tensor(4)\n",
      "\n",
      "tensor(0)\n",
      "tensor(3)\n",
      "\n",
      "tensor(6)\n",
      "tensor(2)\n",
      "\n",
      "tensor(2)\n",
      "tensor(4)\n",
      "\n",
      "tensor(0)\n",
      "tensor(2)\n",
      "\n",
      "tensor(4)\n",
      "tensor(3)\n",
      "\n",
      "tensor(7)\n",
      "tensor(9)\n",
      "\n"
     ]
    }
   ],
   "source": [
    "for i in range(10):\n",
    "    print(torch_argmax_i[i])\n",
    "    print(y_indx[i])\n",
    "    print()"
   ]
  },
  {
   "cell_type": "code",
   "execution_count": null,
   "metadata": {},
   "outputs": [],
   "source": []
  },
  {
   "cell_type": "code",
   "execution_count": 17,
   "metadata": {},
   "outputs": [
    {
     "name": "stdout",
     "output_type": "stream",
     "text": [
      "The state dict keys: \n",
      "\n",
      " odict_keys(['fc1.weight', 'fc1.bias', 'fc2.weight', 'fc2.bias', 'fc3.weight', 'fc3.bias', 'fc4.weight', 'fc4.bias'])\n"
     ]
    }
   ],
   "source": [
    "print(\"The state dict keys: \\n\\n\", net.state_dict().keys())"
   ]
  },
  {
   "cell_type": "code",
   "execution_count": 18,
   "metadata": {},
   "outputs": [
    {
     "name": "stderr",
     "output_type": "stream",
     "text": [
      "/home/scarlet/Projects/PyEnvs/DSPyTorchEnv/DSPyTEnv/lib/python3.7/site-packages/torch/serialization.py:402: UserWarning: Couldn't retrieve source code for container of type Net. It won't be checked for correctness upon loading.\n",
      "  \"type \" + obj.__name__ + \". It won't be checked \"\n"
     ]
    }
   ],
   "source": [
    "checkpoint = {'model':  Net(),\n",
    "              'state_dict': net.state_dict(),\n",
    "              'optimizer' : optimizer.state_dict()}\n",
    "\n",
    "torch.save(checkpoint, 'fcheckpoint.pth')"
   ]
  },
  {
   "cell_type": "code",
   "execution_count": 19,
   "metadata": {},
   "outputs": [],
   "source": [
    "def load_checkpoint(filepath):\n",
    "    checkpoint = torch.load(filepath)\n",
    "    model = checkpoint['model']\n",
    "    model.load_state_dict(checkpoint['state_dict'])\n",
    "    for parameter in model.parameters():\n",
    "        parameter.requires_grad = False\n",
    "    \n",
    "    model.eval()\n",
    "    \n",
    "    return model"
   ]
  },
  {
   "cell_type": "code",
   "execution_count": 21,
   "metadata": {},
   "outputs": [
    {
     "name": "stdout",
     "output_type": "stream",
     "text": [
      "Net(\n",
      "  (fc1): Linear(in_features=784, out_features=64, bias=True)\n",
      "  (fc2): Linear(in_features=64, out_features=64, bias=True)\n",
      "  (fc3): Linear(in_features=64, out_features=64, bias=True)\n",
      "  (fc4): Linear(in_features=64, out_features=10, bias=True)\n",
      ")\n"
     ]
    }
   ],
   "source": [
    "model = load_checkpoint('fcheckpoint.pth')\n",
    "print(model)"
   ]
  },
  {
   "cell_type": "code",
   "execution_count": 22,
   "metadata": {},
   "outputs": [],
   "source": [
    "model = None"
   ]
  },
  {
   "cell_type": "code",
   "execution_count": null,
   "metadata": {},
   "outputs": [],
   "source": []
  },
  {
   "cell_type": "code",
   "execution_count": 37,
   "metadata": {},
   "outputs": [
    {
     "data": {
      "text/plain": [
       "{tensor(5),\n",
       " tensor(7),\n",
       " tensor(9),\n",
       " tensor(9),\n",
       " tensor(7),\n",
       " tensor(1),\n",
       " tensor(0),\n",
       " tensor(7),\n",
       " tensor(0),\n",
       " tensor(6),\n",
       " tensor(2),\n",
       " tensor(2),\n",
       " tensor(3),\n",
       " tensor(9),\n",
       " tensor(2),\n",
       " tensor(1),\n",
       " tensor(4),\n",
       " tensor(2),\n",
       " tensor(0),\n",
       " tensor(7),\n",
       " tensor(6),\n",
       " tensor(4),\n",
       " tensor(5),\n",
       " tensor(7),\n",
       " tensor(7),\n",
       " tensor(2),\n",
       " tensor(0),\n",
       " tensor(7),\n",
       " tensor(7),\n",
       " tensor(1),\n",
       " tensor(0),\n",
       " tensor(9),\n",
       " tensor(8),\n",
       " tensor(2),\n",
       " tensor(9),\n",
       " tensor(8),\n",
       " tensor(4),\n",
       " tensor(2),\n",
       " tensor(8),\n",
       " tensor(5),\n",
       " tensor(6),\n",
       " tensor(6),\n",
       " tensor(3),\n",
       " tensor(2),\n",
       " tensor(7),\n",
       " tensor(5),\n",
       " tensor(3),\n",
       " tensor(2),\n",
       " tensor(2),\n",
       " tensor(9),\n",
       " tensor(1),\n",
       " tensor(7),\n",
       " tensor(9),\n",
       " tensor(1),\n",
       " tensor(0),\n",
       " tensor(0),\n",
       " tensor(5),\n",
       " tensor(0),\n",
       " tensor(5),\n",
       " tensor(1),\n",
       " tensor(0),\n",
       " tensor(9),\n",
       " tensor(9),\n",
       " tensor(9),\n",
       " tensor(4),\n",
       " tensor(8),\n",
       " tensor(3),\n",
       " tensor(4),\n",
       " tensor(8),\n",
       " tensor(6),\n",
       " tensor(8),\n",
       " tensor(7),\n",
       " tensor(7),\n",
       " tensor(7),\n",
       " tensor(7),\n",
       " tensor(7),\n",
       " tensor(2),\n",
       " tensor(3),\n",
       " tensor(7),\n",
       " tensor(8),\n",
       " tensor(4),\n",
       " tensor(3),\n",
       " tensor(2),\n",
       " tensor(0),\n",
       " tensor(5),\n",
       " tensor(3),\n",
       " tensor(3),\n",
       " tensor(4),\n",
       " tensor(6),\n",
       " tensor(7),\n",
       " tensor(7),\n",
       " tensor(6),\n",
       " tensor(4),\n",
       " tensor(6),\n",
       " tensor(8),\n",
       " tensor(4),\n",
       " tensor(8),\n",
       " tensor(4),\n",
       " tensor(7),\n",
       " tensor(8),\n",
       " tensor(9),\n",
       " tensor(2),\n",
       " tensor(5),\n",
       " tensor(2),\n",
       " tensor(4),\n",
       " tensor(1),\n",
       " tensor(6),\n",
       " tensor(2),\n",
       " tensor(4),\n",
       " tensor(8),\n",
       " tensor(8),\n",
       " tensor(1),\n",
       " tensor(0),\n",
       " tensor(2),\n",
       " tensor(9),\n",
       " tensor(3),\n",
       " tensor(9),\n",
       " tensor(6),\n",
       " tensor(7),\n",
       " tensor(5),\n",
       " tensor(9),\n",
       " tensor(5),\n",
       " tensor(2),\n",
       " tensor(5),\n",
       " tensor(5),\n",
       " tensor(3),\n",
       " tensor(0),\n",
       " tensor(2),\n",
       " tensor(5),\n",
       " tensor(9),\n",
       " tensor(2),\n",
       " tensor(4),\n",
       " tensor(3),\n",
       " tensor(4),\n",
       " tensor(0),\n",
       " tensor(1),\n",
       " tensor(4),\n",
       " tensor(9),\n",
       " tensor(1),\n",
       " tensor(9),\n",
       " tensor(9),\n",
       " tensor(7),\n",
       " tensor(9),\n",
       " tensor(2),\n",
       " tensor(2),\n",
       " tensor(3),\n",
       " tensor(7),\n",
       " tensor(2),\n",
       " tensor(8),\n",
       " tensor(3),\n",
       " tensor(6),\n",
       " tensor(6),\n",
       " tensor(4),\n",
       " tensor(0),\n",
       " tensor(0),\n",
       " tensor(7),\n",
       " tensor(3),\n",
       " tensor(1),\n",
       " tensor(5),\n",
       " tensor(0),\n",
       " tensor(2),\n",
       " tensor(1),\n",
       " tensor(0),\n",
       " tensor(8),\n",
       " tensor(7),\n",
       " tensor(4),\n",
       " tensor(4),\n",
       " tensor(8),\n",
       " tensor(2),\n",
       " tensor(7),\n",
       " tensor(1),\n",
       " tensor(7),\n",
       " tensor(7),\n",
       " tensor(5),\n",
       " tensor(6),\n",
       " tensor(3),\n",
       " tensor(9),\n",
       " tensor(8),\n",
       " tensor(9),\n",
       " tensor(5),\n",
       " tensor(2),\n",
       " tensor(2),\n",
       " tensor(4),\n",
       " tensor(8),\n",
       " tensor(3),\n",
       " tensor(3),\n",
       " tensor(8),\n",
       " tensor(8),\n",
       " tensor(6),\n",
       " tensor(5),\n",
       " tensor(3),\n",
       " tensor(8),\n",
       " tensor(2),\n",
       " tensor(6),\n",
       " tensor(5),\n",
       " tensor(6),\n",
       " tensor(8),\n",
       " tensor(3),\n",
       " tensor(6),\n",
       " tensor(7),\n",
       " tensor(4),\n",
       " tensor(8),\n",
       " tensor(2),\n",
       " tensor(0),\n",
       " tensor(2),\n",
       " tensor(1),\n",
       " tensor(5),\n",
       " tensor(9),\n",
       " tensor(3),\n",
       " tensor(4),\n",
       " tensor(3),\n",
       " tensor(2),\n",
       " tensor(6),\n",
       " tensor(8),\n",
       " tensor(8),\n",
       " tensor(2),\n",
       " tensor(4),\n",
       " tensor(6),\n",
       " tensor(5),\n",
       " tensor(0),\n",
       " tensor(3),\n",
       " tensor(3),\n",
       " tensor(6),\n",
       " tensor(3),\n",
       " tensor(3),\n",
       " tensor(6),\n",
       " tensor(0),\n",
       " tensor(0),\n",
       " tensor(2),\n",
       " tensor(6),\n",
       " tensor(0),\n",
       " tensor(8),\n",
       " tensor(0),\n",
       " tensor(9),\n",
       " tensor(1),\n",
       " tensor(1),\n",
       " tensor(6),\n",
       " tensor(6),\n",
       " tensor(7),\n",
       " tensor(3),\n",
       " tensor(5),\n",
       " tensor(6),\n",
       " tensor(0),\n",
       " tensor(1),\n",
       " tensor(0),\n",
       " tensor(7),\n",
       " tensor(2),\n",
       " tensor(4),\n",
       " tensor(7),\n",
       " tensor(9),\n",
       " tensor(1),\n",
       " tensor(9),\n",
       " tensor(3),\n",
       " tensor(9),\n",
       " tensor(3),\n",
       " tensor(2),\n",
       " tensor(5),\n",
       " tensor(9),\n",
       " tensor(9),\n",
       " tensor(8),\n",
       " tensor(6),\n",
       " tensor(5),\n",
       " tensor(4),\n",
       " tensor(9),\n",
       " tensor(3),\n",
       " tensor(1),\n",
       " tensor(0),\n",
       " tensor(3),\n",
       " tensor(5),\n",
       " tensor(0),\n",
       " tensor(3),\n",
       " tensor(9),\n",
       " tensor(1),\n",
       " tensor(9),\n",
       " tensor(3),\n",
       " tensor(3),\n",
       " tensor(3),\n",
       " tensor(6),\n",
       " tensor(5),\n",
       " tensor(3),\n",
       " tensor(4),\n",
       " tensor(6),\n",
       " tensor(1),\n",
       " tensor(4),\n",
       " tensor(2),\n",
       " tensor(6),\n",
       " tensor(1),\n",
       " tensor(0),\n",
       " tensor(0),\n",
       " tensor(1),\n",
       " tensor(2),\n",
       " tensor(3),\n",
       " tensor(7),\n",
       " tensor(8),\n",
       " tensor(8),\n",
       " tensor(5),\n",
       " tensor(7),\n",
       " tensor(7),\n",
       " tensor(8),\n",
       " tensor(2),\n",
       " tensor(4),\n",
       " tensor(0),\n",
       " tensor(0),\n",
       " tensor(2),\n",
       " tensor(6),\n",
       " tensor(3),\n",
       " tensor(6),\n",
       " tensor(5),\n",
       " tensor(3),\n",
       " tensor(1),\n",
       " tensor(8),\n",
       " tensor(9),\n",
       " tensor(9),\n",
       " tensor(6),\n",
       " tensor(9),\n",
       " tensor(3),\n",
       " tensor(5),\n",
       " tensor(7),\n",
       " tensor(9),\n",
       " tensor(0),\n",
       " tensor(1),\n",
       " tensor(4),\n",
       " tensor(7),\n",
       " tensor(8),\n",
       " tensor(1),\n",
       " tensor(8),\n",
       " tensor(5),\n",
       " tensor(4),\n",
       " tensor(8),\n",
       " tensor(6),\n",
       " tensor(1),\n",
       " tensor(1),\n",
       " tensor(6),\n",
       " tensor(4),\n",
       " tensor(6),\n",
       " tensor(2),\n",
       " tensor(4),\n",
       " tensor(3),\n",
       " tensor(2),\n",
       " tensor(0),\n",
       " tensor(4),\n",
       " tensor(1),\n",
       " tensor(3),\n",
       " tensor(1),\n",
       " tensor(9),\n",
       " tensor(3),\n",
       " tensor(5),\n",
       " tensor(4),\n",
       " tensor(6),\n",
       " tensor(1),\n",
       " tensor(1),\n",
       " tensor(1),\n",
       " tensor(4),\n",
       " tensor(3),\n",
       " tensor(1),\n",
       " tensor(2),\n",
       " tensor(5),\n",
       " tensor(7),\n",
       " tensor(1),\n",
       " tensor(2),\n",
       " tensor(1),\n",
       " tensor(1),\n",
       " tensor(0),\n",
       " tensor(1),\n",
       " tensor(1),\n",
       " tensor(6),\n",
       " tensor(2),\n",
       " tensor(9),\n",
       " tensor(7),\n",
       " tensor(2),\n",
       " tensor(5),\n",
       " tensor(5),\n",
       " tensor(6),\n",
       " tensor(1),\n",
       " tensor(3),\n",
       " tensor(8),\n",
       " tensor(1),\n",
       " tensor(8),\n",
       " tensor(5),\n",
       " tensor(4),\n",
       " tensor(9),\n",
       " tensor(4),\n",
       " tensor(9),\n",
       " tensor(0),\n",
       " tensor(0),\n",
       " tensor(4),\n",
       " tensor(5),\n",
       " tensor(3),\n",
       " tensor(6),\n",
       " tensor(7),\n",
       " tensor(1),\n",
       " tensor(3),\n",
       " tensor(6),\n",
       " tensor(6),\n",
       " tensor(2),\n",
       " tensor(6),\n",
       " tensor(6),\n",
       " tensor(4),\n",
       " tensor(0),\n",
       " tensor(6),\n",
       " tensor(4),\n",
       " tensor(4),\n",
       " tensor(0),\n",
       " tensor(3),\n",
       " tensor(3),\n",
       " tensor(5),\n",
       " tensor(3),\n",
       " tensor(3),\n",
       " tensor(8),\n",
       " tensor(6),\n",
       " tensor(3),\n",
       " tensor(8),\n",
       " tensor(4),\n",
       " tensor(9),\n",
       " tensor(3),\n",
       " tensor(6),\n",
       " tensor(4),\n",
       " tensor(9),\n",
       " tensor(7),\n",
       " tensor(2),\n",
       " tensor(3),\n",
       " tensor(7),\n",
       " tensor(5),\n",
       " tensor(4),\n",
       " tensor(4),\n",
       " tensor(5),\n",
       " tensor(8),\n",
       " tensor(8),\n",
       " tensor(7),\n",
       " tensor(2),\n",
       " tensor(5),\n",
       " tensor(5),\n",
       " tensor(3),\n",
       " tensor(9),\n",
       " tensor(3),\n",
       " tensor(8),\n",
       " tensor(5),\n",
       " tensor(9),\n",
       " tensor(4),\n",
       " tensor(3),\n",
       " tensor(2),\n",
       " tensor(4),\n",
       " tensor(2),\n",
       " tensor(8),\n",
       " tensor(0),\n",
       " tensor(9),\n",
       " tensor(1),\n",
       " tensor(4),\n",
       " tensor(9),\n",
       " tensor(1),\n",
       " tensor(7),\n",
       " tensor(4),\n",
       " tensor(0),\n",
       " tensor(0),\n",
       " tensor(1),\n",
       " tensor(5),\n",
       " tensor(2),\n",
       " tensor(5),\n",
       " tensor(5),\n",
       " tensor(8),\n",
       " tensor(4),\n",
       " tensor(0),\n",
       " tensor(8),\n",
       " tensor(6),\n",
       " tensor(5),\n",
       " tensor(8),\n",
       " tensor(3),\n",
       " tensor(5),\n",
       " tensor(0),\n",
       " tensor(7),\n",
       " tensor(9),\n",
       " tensor(4),\n",
       " tensor(7),\n",
       " tensor(1),\n",
       " tensor(6),\n",
       " tensor(5),\n",
       " tensor(1),\n",
       " tensor(8),\n",
       " tensor(4),\n",
       " tensor(4),\n",
       " tensor(5),\n",
       " tensor(8),\n",
       " tensor(6),\n",
       " tensor(1),\n",
       " tensor(0),\n",
       " tensor(3),\n",
       " tensor(7),\n",
       " tensor(7),\n",
       " tensor(0),\n",
       " tensor(2),\n",
       " tensor(3),\n",
       " tensor(5),\n",
       " tensor(9),\n",
       " tensor(6),\n",
       " tensor(2),\n",
       " tensor(1),\n",
       " tensor(2),\n",
       " tensor(8),\n",
       " tensor(7),\n",
       " tensor(4),\n",
       " tensor(7),\n",
       " tensor(1),\n",
       " tensor(1),\n",
       " tensor(8),\n",
       " tensor(4),\n",
       " tensor(6),\n",
       " tensor(9),\n",
       " tensor(6),\n",
       " tensor(4),\n",
       " tensor(9),\n",
       " tensor(3),\n",
       " tensor(6),\n",
       " tensor(5),\n",
       " tensor(0),\n",
       " tensor(7),\n",
       " tensor(1),\n",
       " tensor(0),\n",
       " tensor(0),\n",
       " tensor(7),\n",
       " tensor(7),\n",
       " tensor(3),\n",
       " tensor(9),\n",
       " tensor(3),\n",
       " tensor(8),\n",
       " tensor(3),\n",
       " tensor(4),\n",
       " tensor(6),\n",
       " tensor(8),\n",
       " tensor(4),\n",
       " tensor(1),\n",
       " tensor(1),\n",
       " tensor(2),\n",
       " tensor(0),\n",
       " tensor(2),\n",
       " tensor(4),\n",
       " tensor(2),\n",
       " tensor(6),\n",
       " tensor(0),\n",
       " tensor(8),\n",
       " tensor(0),\n",
       " tensor(4),\n",
       " tensor(5),\n",
       " tensor(5),\n",
       " tensor(0),\n",
       " tensor(3),\n",
       " tensor(8),\n",
       " tensor(5),\n",
       " tensor(0),\n",
       " tensor(9),\n",
       " tensor(9),\n",
       " tensor(1),\n",
       " tensor(1),\n",
       " tensor(6),\n",
       " tensor(2),\n",
       " tensor(6),\n",
       " tensor(6),\n",
       " tensor(2),\n",
       " tensor(7),\n",
       " tensor(0),\n",
       " tensor(4),\n",
       " tensor(2),\n",
       " tensor(7),\n",
       " tensor(4),\n",
       " tensor(1),\n",
       " tensor(8),\n",
       " tensor(3),\n",
       " tensor(3),\n",
       " tensor(4),\n",
       " tensor(3),\n",
       " tensor(3),\n",
       " tensor(9),\n",
       " tensor(4),\n",
       " tensor(0),\n",
       " tensor(9),\n",
       " tensor(5),\n",
       " tensor(7),\n",
       " tensor(8),\n",
       " tensor(0),\n",
       " tensor(0),\n",
       " tensor(3),\n",
       " tensor(5),\n",
       " tensor(8),\n",
       " tensor(3),\n",
       " tensor(8),\n",
       " tensor(5),\n",
       " tensor(1),\n",
       " tensor(2),\n",
       " tensor(4),\n",
       " tensor(5),\n",
       " tensor(3),\n",
       " tensor(6),\n",
       " tensor(7),\n",
       " tensor(7),\n",
       " tensor(5),\n",
       " tensor(2),\n",
       " tensor(3),\n",
       " tensor(1),\n",
       " tensor(1),\n",
       " tensor(4),\n",
       " tensor(6),\n",
       " tensor(3),\n",
       " tensor(2),\n",
       " tensor(8),\n",
       " tensor(4),\n",
       " tensor(1),\n",
       " tensor(5),\n",
       " tensor(2),\n",
       " tensor(3),\n",
       " tensor(2),\n",
       " tensor(2),\n",
       " tensor(3),\n",
       " tensor(5),\n",
       " tensor(8),\n",
       " tensor(4),\n",
       " tensor(3),\n",
       " tensor(5),\n",
       " tensor(4),\n",
       " tensor(0),\n",
       " tensor(7),\n",
       " tensor(3),\n",
       " tensor(7),\n",
       " tensor(2),\n",
       " tensor(3),\n",
       " tensor(2),\n",
       " tensor(2),\n",
       " tensor(6),\n",
       " tensor(2),\n",
       " tensor(3),\n",
       " tensor(2),\n",
       " tensor(0),\n",
       " tensor(1),\n",
       " tensor(1),\n",
       " tensor(3),\n",
       " tensor(5),\n",
       " tensor(9),\n",
       " tensor(5),\n",
       " tensor(4),\n",
       " tensor(1),\n",
       " tensor(3),\n",
       " tensor(1),\n",
       " tensor(2),\n",
       " tensor(4),\n",
       " tensor(3),\n",
       " tensor(2),\n",
       " tensor(5),\n",
       " tensor(3),\n",
       " tensor(1),\n",
       " tensor(4),\n",
       " tensor(3),\n",
       " tensor(3),\n",
       " tensor(4),\n",
       " tensor(7),\n",
       " tensor(0),\n",
       " tensor(0),\n",
       " tensor(0),\n",
       " tensor(9),\n",
       " tensor(6),\n",
       " tensor(5),\n",
       " tensor(8),\n",
       " tensor(2),\n",
       " tensor(6),\n",
       " tensor(1),\n",
       " tensor(4),\n",
       " tensor(7),\n",
       " tensor(6),\n",
       " tensor(2),\n",
       " tensor(1),\n",
       " tensor(6),\n",
       " tensor(5),\n",
       " tensor(7),\n",
       " tensor(4),\n",
       " tensor(6),\n",
       " tensor(9),\n",
       " tensor(0),\n",
       " tensor(6),\n",
       " tensor(1),\n",
       " tensor(5),\n",
       " tensor(9),\n",
       " tensor(2),\n",
       " tensor(8),\n",
       " tensor(7),\n",
       " tensor(9),\n",
       " tensor(0),\n",
       " tensor(6),\n",
       " tensor(1),\n",
       " tensor(3),\n",
       " tensor(3),\n",
       " tensor(6),\n",
       " tensor(4),\n",
       " tensor(7),\n",
       " tensor(2),\n",
       " tensor(5),\n",
       " tensor(7),\n",
       " tensor(0),\n",
       " tensor(1),\n",
       " tensor(3),\n",
       " tensor(4),\n",
       " tensor(0),\n",
       " tensor(0),\n",
       " tensor(5),\n",
       " tensor(1),\n",
       " tensor(2),\n",
       " tensor(3),\n",
       " tensor(1),\n",
       " tensor(7),\n",
       " tensor(3),\n",
       " tensor(4),\n",
       " tensor(4),\n",
       " tensor(5),\n",
       " tensor(4),\n",
       " tensor(4),\n",
       " tensor(2),\n",
       " tensor(3),\n",
       " tensor(5),\n",
       " tensor(3),\n",
       " tensor(6),\n",
       " tensor(7),\n",
       " tensor(2),\n",
       " tensor(1),\n",
       " tensor(8),\n",
       " tensor(3),\n",
       " tensor(5),\n",
       " tensor(7),\n",
       " tensor(1),\n",
       " tensor(4),\n",
       " tensor(5),\n",
       " tensor(5),\n",
       " tensor(9),\n",
       " tensor(0),\n",
       " tensor(9),\n",
       " tensor(2),\n",
       " tensor(4),\n",
       " tensor(9),\n",
       " tensor(6),\n",
       " tensor(2),\n",
       " tensor(0),\n",
       " tensor(7),\n",
       " tensor(1),\n",
       " tensor(1),\n",
       " tensor(8),\n",
       " tensor(6),\n",
       " tensor(6),\n",
       " tensor(1),\n",
       " tensor(5),\n",
       " tensor(3),\n",
       " tensor(9),\n",
       " tensor(0),\n",
       " tensor(2),\n",
       " tensor(3),\n",
       " tensor(0),\n",
       " tensor(3),\n",
       " tensor(0),\n",
       " tensor(1),\n",
       " tensor(0),\n",
       " tensor(7),\n",
       " tensor(3),\n",
       " tensor(9),\n",
       " tensor(0),\n",
       " tensor(5),\n",
       " tensor(6),\n",
       " tensor(4),\n",
       " tensor(3),\n",
       " tensor(0),\n",
       " tensor(7),\n",
       " tensor(9),\n",
       " tensor(4),\n",
       " tensor(2),\n",
       " tensor(9),\n",
       " tensor(8),\n",
       " tensor(5),\n",
       " tensor(9),\n",
       " tensor(8),\n",
       " tensor(5),\n",
       " tensor(9),\n",
       " tensor(2),\n",
       " tensor(1),\n",
       " tensor(0),\n",
       " tensor(6),\n",
       " tensor(2),\n",
       " tensor(9),\n",
       " tensor(0),\n",
       " tensor(2),\n",
       " tensor(7),\n",
       " tensor(3),\n",
       " tensor(9),\n",
       " tensor(2),\n",
       " tensor(0),\n",
       " tensor(7),\n",
       " tensor(6),\n",
       " tensor(9),\n",
       " tensor(8),\n",
       " tensor(5),\n",
       " tensor(2),\n",
       " tensor(2),\n",
       " tensor(3),\n",
       " tensor(1),\n",
       " tensor(5),\n",
       " tensor(5),\n",
       " tensor(0),\n",
       " tensor(2),\n",
       " tensor(0),\n",
       " tensor(7),\n",
       " tensor(9),\n",
       " tensor(7),\n",
       " tensor(3),\n",
       " tensor(0),\n",
       " tensor(8),\n",
       " tensor(4),\n",
       " tensor(7),\n",
       " tensor(7),\n",
       " tensor(2),\n",
       " tensor(1),\n",
       " tensor(0),\n",
       " tensor(4),\n",
       " tensor(5),\n",
       " tensor(2),\n",
       " tensor(5),\n",
       " tensor(0),\n",
       " tensor(3),\n",
       " tensor(1),\n",
       " tensor(1),\n",
       " tensor(4),\n",
       " tensor(6),\n",
       " tensor(9),\n",
       " tensor(1),\n",
       " tensor(1),\n",
       " tensor(4),\n",
       " tensor(1),\n",
       " tensor(2),\n",
       " tensor(3),\n",
       " tensor(7),\n",
       " tensor(4),\n",
       " tensor(8),\n",
       " tensor(8),\n",
       " tensor(5),\n",
       " tensor(9),\n",
       " tensor(9),\n",
       " tensor(7),\n",
       " tensor(0),\n",
       " tensor(1),\n",
       " tensor(6),\n",
       " tensor(7),\n",
       " tensor(1),\n",
       " tensor(4),\n",
       " tensor(2),\n",
       " tensor(4),\n",
       " tensor(3),\n",
       " tensor(9),\n",
       " tensor(3),\n",
       " tensor(9),\n",
       " tensor(6),\n",
       " tensor(2),\n",
       " tensor(2),\n",
       " tensor(1),\n",
       " tensor(5),\n",
       " tensor(2),\n",
       " tensor(8),\n",
       " tensor(4),\n",
       " tensor(7),\n",
       " tensor(3),\n",
       " tensor(3),\n",
       " tensor(2),\n",
       " tensor(3),\n",
       " tensor(4),\n",
       " tensor(6),\n",
       " tensor(9),\n",
       " tensor(5),\n",
       " tensor(3),\n",
       " tensor(3),\n",
       " tensor(8),\n",
       " tensor(0),\n",
       " tensor(9),\n",
       " tensor(2),\n",
       " tensor(2),\n",
       " tensor(4),\n",
       " tensor(3),\n",
       " tensor(0),\n",
       " tensor(6),\n",
       " tensor(1),\n",
       " tensor(1),\n",
       " tensor(2),\n",
       " tensor(2),\n",
       " tensor(6),\n",
       " tensor(4),\n",
       " tensor(9),\n",
       " tensor(5),\n",
       " tensor(7),\n",
       " tensor(6),\n",
       " tensor(5),\n",
       " tensor(6),\n",
       " tensor(8),\n",
       " tensor(5),\n",
       " tensor(4),\n",
       " tensor(7),\n",
       " tensor(0),\n",
       " tensor(7),\n",
       " tensor(4),\n",
       " tensor(1),\n",
       " tensor(1),\n",
       " tensor(5),\n",
       " tensor(5),\n",
       " tensor(1),\n",
       " tensor(7),\n",
       " tensor(1),\n",
       " tensor(2),\n",
       " tensor(3),\n",
       " tensor(8),\n",
       " tensor(7),\n",
       " tensor(1),\n",
       " tensor(9),\n",
       " tensor(3),\n",
       " tensor(9),\n",
       " tensor(1),\n",
       " tensor(8),\n",
       " tensor(6),\n",
       " tensor(4),\n",
       " tensor(1),\n",
       " tensor(8),\n",
       " tensor(5),\n",
       " tensor(9),\n",
       " tensor(1),\n",
       " tensor(3),\n",
       " tensor(3),\n",
       " tensor(1),\n",
       " tensor(1),\n",
       " tensor(5),\n",
       " tensor(8),\n",
       " tensor(5),\n",
       " tensor(2),\n",
       " tensor(3),\n",
       " tensor(8),\n",
       " tensor(2),\n",
       " tensor(7),\n",
       " tensor(0),\n",
       " tensor(8),\n",
       " tensor(1),\n",
       " tensor(8),\n",
       " tensor(3),\n",
       " tensor(6),\n",
       " tensor(5),\n",
       " tensor(2),\n",
       " tensor(4),\n",
       " tensor(6),\n",
       " tensor(3),\n",
       " tensor(1),\n",
       " tensor(2),\n",
       " tensor(4),\n",
       " tensor(5),\n",
       " tensor(4),\n",
       " tensor(3),\n",
       " tensor(6),\n",
       " tensor(8),\n",
       " tensor(0),\n",
       " tensor(2),\n",
       " tensor(3),\n",
       " tensor(5),\n",
       " tensor(2),\n",
       " tensor(1),\n",
       " tensor(0),\n",
       " tensor(4),\n",
       " tensor(8),\n",
       " tensor(3),\n",
       " tensor(3),\n",
       " tensor(2),\n",
       " tensor(0),\n",
       " tensor(1),\n",
       " tensor(7),\n",
       " tensor(7),\n",
       " tensor(6),\n",
       " tensor(8),\n",
       " tensor(1),\n",
       " tensor(8),\n",
       " tensor(3),\n",
       " tensor(3),\n",
       " tensor(5),\n",
       " tensor(2),\n",
       " tensor(6),\n",
       " tensor(6),\n",
       " tensor(3),\n",
       " tensor(0),\n",
       " tensor(7),\n",
       " tensor(4),\n",
       " tensor(3),\n",
       " tensor(7),\n",
       " tensor(5),\n",
       " tensor(4),\n",
       " tensor(1),\n",
       " tensor(9),\n",
       " tensor(6),\n",
       " tensor(6),\n",
       " tensor(3),\n",
       " tensor(7),\n",
       " tensor(4),\n",
       " tensor(9),\n",
       " tensor(0),\n",
       " tensor(6),\n",
       " tensor(9),\n",
       " tensor(0),\n",
       " tensor(5),\n",
       " tensor(7),\n",
       " ...}"
      ]
     },
     "execution_count": 37,
     "metadata": {},
     "output_type": "execute_result"
    }
   ],
   "source": [
    "set(train.targets)"
   ]
  },
  {
   "cell_type": "code",
   "execution_count": 28,
   "metadata": {},
   "outputs": [
    {
     "data": {
      "text/plain": [
       "1589"
      ]
     },
     "execution_count": 28,
     "metadata": {},
     "output_type": "execute_result"
    }
   ],
   "source": [
    "len(y_indx_set)"
   ]
  },
  {
   "cell_type": "code",
   "execution_count": null,
   "metadata": {},
   "outputs": [],
   "source": []
  },
  {
   "cell_type": "code",
   "execution_count": null,
   "metadata": {},
   "outputs": [],
   "source": []
  },
  {
   "cell_type": "code",
   "execution_count": 39,
   "metadata": {},
   "outputs": [
    {
     "name": "stdout",
     "output_type": "stream",
     "text": [
      "torch.Size([10, 1, 28, 28])\n",
      "torch.Size([10])\n"
     ]
    }
   ],
   "source": [
    "dataiter = iter(trainset)\n",
    "\n",
    "tr_img, tr_lbl = dataiter.next()\n",
    "\n",
    "print(tr_img.shape)\n",
    "print(tr_lbl.shape)"
   ]
  },
  {
   "cell_type": "code",
   "execution_count": 41,
   "metadata": {},
   "outputs": [
    {
     "data": {
      "image/png": "[encoded data removed]",
      "text/plain": [
       "<Figure size 432x288 with 1 Axes>"
      ]
     },
     "metadata": {
      "needs_background": "light"
     },
     "output_type": "display_data"
    }
   ],
   "source": [
    "import matplotlib.pyplot as plt\n",
    "\n",
    "plt.imshow(tr_img[0].numpy().squeeze(), cmap='gray_r');"
   ]
  },
  {
   "cell_type": "code",
   "execution_count": 48,
   "metadata": {},
   "outputs": [
    {
     "ename": "IndexError",
     "evalue": "index 10 is out of bounds for dimension 0 with size 10",
     "output_type": "error",
     "traceback": [
      "\u001b[0;31m---------------------------------------------------------------------------\u001b[0m",
      "\u001b[0;31mIndexError\u001b[0m                                Traceback (most recent call last)",
      "\u001b[0;32m<ipython-input-48-93ce017df2eb>\u001b[0m in \u001b[0;36m<module>\u001b[0;34m\u001b[0m\n\u001b[1;32m      5\u001b[0m     \u001b[0mplt\u001b[0m\u001b[0;34m.\u001b[0m\u001b[0msubplot\u001b[0m\u001b[0;34m(\u001b[0m\u001b[0;36m6\u001b[0m\u001b[0;34m,\u001b[0m \u001b[0;36m10\u001b[0m\u001b[0;34m,\u001b[0m \u001b[0mindex\u001b[0m\u001b[0;34m)\u001b[0m\u001b[0;34m\u001b[0m\u001b[0m\n\u001b[1;32m      6\u001b[0m     \u001b[0mplt\u001b[0m\u001b[0;34m.\u001b[0m\u001b[0maxis\u001b[0m\u001b[0;34m(\u001b[0m\u001b[0;34m'off'\u001b[0m\u001b[0;34m)\u001b[0m\u001b[0;34m\u001b[0m\u001b[0m\n\u001b[0;32m----> 7\u001b[0;31m     \u001b[0mplt\u001b[0m\u001b[0;34m.\u001b[0m\u001b[0mimshow\u001b[0m\u001b[0;34m(\u001b[0m\u001b[0mtr_img\u001b[0m\u001b[0;34m[\u001b[0m\u001b[0mindex\u001b[0m\u001b[0;34m]\u001b[0m\u001b[0;34m.\u001b[0m\u001b[0mnumpy\u001b[0m\u001b[0;34m(\u001b[0m\u001b[0;34m)\u001b[0m\u001b[0;34m.\u001b[0m\u001b[0msqueeze\u001b[0m\u001b[0;34m(\u001b[0m\u001b[0;34m)\u001b[0m\u001b[0;34m,\u001b[0m \u001b[0mcmap\u001b[0m\u001b[0;34m=\u001b[0m\u001b[0;34m'gray_r'\u001b[0m\u001b[0;34m)\u001b[0m\u001b[0;34m\u001b[0m\u001b[0m\n\u001b[0m",
      "\u001b[0;31mIndexError\u001b[0m: index 10 is out of bounds for dimension 0 with size 10"
     ]
    },
    {
     "data": {
      "image/png": "[encoded data removed]",
      "text/plain": [
       "<Figure size 432x288 with 10 Axes>"
      ]
     },
     "metadata": {
      "needs_background": "light"
     },
     "output_type": "display_data"
    }
   ],
   "source": [
    "figure = plt.figure()\n",
    "\n",
    "num_of_images = 60\n",
    "for index in range(1, num_of_images + 1):\n",
    "    plt.subplot(6, 10, index)\n",
    "    plt.axis('off')\n",
    "    plt.imshow(tr_img[index].numpy().squeeze(), cmap='gray_r')"
   ]
  },
  {
   "cell_type": "code",
   "execution_count": null,
   "metadata": {},
   "outputs": [],
   "source": []
  },
  {
   "cell_type": "code",
   "execution_count": 49,
   "metadata": {},
   "outputs": [],
   "source": [
    "def classify(img, ps):\n",
    "    ''' \n",
    "    Function for viewing an image and it's predicted classes.\n",
    "    '''\n",
    "    ps = ps.data.numpy().squeeze()\n",
    "\n",
    "    fig, (ax1, ax2) = plt.subplots(figsize=(6,9), ncols=2)\n",
    "    ax1.imshow(img.resize_(1, 28, 28).numpy().squeeze())\n",
    "    ax1.axis('off')\n",
    "    ax2.barh(np.arange(10), ps)\n",
    "    ax2.set_aspect(0.1)\n",
    "    ax2.set_yticks(np.arange(10))\n",
    "    ax2.set_yticklabels(np.arange(10))\n",
    "    ax2.set_title('Class Probability')\n",
    "    ax2.set_xlim(0, 1.1)\n",
    "    plt.tight_layout()"
   ]
  },
  {
   "cell_type": "code",
   "execution_count": null,
   "metadata": {},
   "outputs": [],
   "source": []
  },
  {
   "cell_type": "code",
   "execution_count": 51,
   "metadata": {},
   "outputs": [],
   "source": [
    "import numpy as np"
   ]
  },
  {
   "cell_type": "code",
   "execution_count": null,
   "metadata": {},
   "outputs": [],
   "source": []
  },
  {
   "cell_type": "code",
   "execution_count": 67,
   "metadata": {},
   "outputs": [
    {
     "name": "stdout",
     "output_type": "stream",
     "text": [
      "Predicted Class = 7\n"
     ]
    },
    {
     "data": {
      "image/png": "[encoded data removed]",
      "text/plain": [
       "<Figure size 432x648 with 2 Axes>"
      ]
     },
     "metadata": {
      "needs_background": "light"
     },
     "output_type": "display_data"
    }
   ],
   "source": [
    "images, labels = next(iter(testset))\n",
    "# replace trainloader to check training accuracy.\n",
    "\n",
    "img = images[9].view(1, 784)\n",
    "# Turn off gradients to speed up this part\n",
    "with torch.no_grad():\n",
    "    logpb = net(img)\n",
    "\n",
    "# Output of the network are log-probabilities, need to take exponential for probabilities\n",
    "pb = torch.exp(logpb)\n",
    "probab = list(pb.numpy()[0])\n",
    "print(\"Predicted Class =\", probab.index(max(probab)))\n",
    "classify(img.view(1, 28, 28), pb)"
   ]
  },
  {
   "cell_type": "code",
   "execution_count": 59,
   "metadata": {},
   "outputs": [
    {
     "data": {
      "text/plain": [
       "10"
      ]
     },
     "execution_count": 59,
     "metadata": {},
     "output_type": "execute_result"
    }
   ],
   "source": [
    "len(images)"
   ]
  },
  {
   "cell_type": "code",
   "execution_count": null,
   "metadata": {},
   "outputs": [],
   "source": []
  },
  {
   "cell_type": "code",
   "execution_count": 64,
   "metadata": {},
   "outputs": [
    {
     "name": "stdout",
     "output_type": "stream",
     "text": [
      "Predicted Class = 9\n",
      "Predicted Class = 2\n",
      "Predicted Class = 1\n",
      "Predicted Class = 1\n",
      "Predicted Class = 6\n",
      "Predicted Class = 1\n",
      "Predicted Class = 4\n",
      "Predicted Class = 6\n",
      "Predicted Class = 5\n",
      "Predicted Class = 7\n"
     ]
    },
    {
     "data": {
      "image/png": "[encoded data removed]",
      "text/plain": [
       "<Figure size 432x648 with 2 Axes>"
      ]
     },
     "metadata": {
      "needs_background": "light"
     },
     "output_type": "display_data"
    },
    {
     "data": {
      "image/png": "[encoded data removed]",
      "text/plain": [
       "<Figure size 432x648 with 2 Axes>"
      ]
     },
     "metadata": {
      "needs_background": "light"
     },
     "output_type": "display_data"
    },
    {
     "data": {
      "image/png": "[encoded data removed]",
      "text/plain": [
       "<Figure size 432x648 with 2 Axes>"
      ]
     },
     "metadata": {
      "needs_background": "light"
     },
     "output_type": "display_data"
    },
    {
     "data": {
      "image/png": "[encoded data removed]",
      "text/plain": [
       "<Figure size 432x648 with 2 Axes>"
      ]
     },
     "metadata": {
      "needs_background": "light"
     },
     "output_type": "display_data"
    },
    {
     "data": {
      "image/png": "[encoded data removed]",
      "text/plain": [
       "<Figure size 432x648 with 2 Axes>"
      ]
     },
     "metadata": {
      "needs_background": "light"
     },
     "output_type": "display_data"
    },
    {
     "data": {
      "image/png": "[encoded data removed]",
      "text/plain": [
       "<Figure size 432x648 with 2 Axes>"
      ]
     },
     "metadata": {
      "needs_background": "light"
     },
     "output_type": "display_data"
    },
    {
     "data": {
      "image/png": "[encoded data removed]",
      "text/plain": [
       "<Figure size 432x648 with 2 Axes>"
      ]
     },
     "metadata": {
      "needs_background": "light"
     },
     "output_type": "display_data"
    },
    {
     "data": {
      "image/png": "[encoded data removed]",
      "text/plain": [
       "<Figure size 432x648 with 2 Axes>"
      ]
     },
     "metadata": {
      "needs_background": "light"
     },
     "output_type": "display_data"
    },
    {
     "data": {
      "image/png": "[encoded data removed]",
      "text/plain": [
       "<Figure size 432x648 with 2 Axes>"
      ]
     },
     "metadata": {
      "needs_background": "light"
     },
     "output_type": "display_data"
    },
    {
     "data": {
      "image/png": "[encoded data removed]",
      "text/plain": [
       "<Figure size 432x648 with 2 Axes>"
      ]
     },
     "metadata": {
      "needs_background": "light"
     },
     "output_type": "display_data"
    }
   ],
   "source": [
    "images, labels = next(iter(testset))\n",
    "# replace trainloader to check training accuracy.\n",
    "\n",
    "for i in images:\n",
    "    img = i.view(1, 784)\n",
    "# Turn off gradients to speed up this part\n",
    "    with torch.no_grad():\n",
    "        logpb = net(img)\n",
    "\n",
    "    # Output of the network are log-probabilities, need to take exponential for probabilities\n",
    "    pb = torch.exp(logpb)\n",
    "    probab = list(pb.numpy()[0])\n",
    "    print(\"Predicted Class =\", probab.index(max(probab)))\n",
    "    classify(img.view(1, 28, 28), pb)"
   ]
  },
  {
   "cell_type": "code",
   "execution_count": 79,
   "metadata": {},
   "outputs": [
    {
     "name": "stdout",
     "output_type": "stream",
     "text": [
      "Predicted Class = 8\n",
      "Predicted Class = 2\n",
      "Predicted Class = 0\n",
      "Predicted Class = 0\n",
      "Predicted Class = 4\n",
      "Predicted Class = 0\n",
      "Predicted Class = 2\n",
      "Predicted Class = 7\n",
      "Predicted Class = 2\n",
      "Predicted Class = 9\n"
     ]
    },
    {
     "data": {
      "image/png": "[encoded data removed]",
      "text/plain": [
       "<Figure size 432x648 with 2 Axes>"
      ]
     },
     "metadata": {
      "needs_background": "light"
     },
     "output_type": "display_data"
    },
    {
     "data": {
      "image/png": "[encoded data removed]",
      "text/plain": [
       "<Figure size 432x648 with 2 Axes>"
      ]
     },
     "metadata": {
      "needs_background": "light"
     },
     "output_type": "display_data"
    },
    {
     "data": {
      "image/png": "[encoded data removed]",
      "text/plain": [
       "<Figure size 432x648 with 2 Axes>"
      ]
     },
     "metadata": {
      "needs_background": "light"
     },
     "output_type": "display_data"
    },
    {
     "data": {
      "image/png": "[encoded data removed]",
      "text/plain": [
       "<Figure size 432x648 with 2 Axes>"
      ]
     },
     "metadata": {
      "needs_background": "light"
     },
     "output_type": "display_data"
    },
    {
     "data": {
      "image/png": "[encoded data removed]",
      "text/plain": [
       "<Figure size 432x648 with 2 Axes>"
      ]
     },
     "metadata": {
      "needs_background": "light"
     },
     "output_type": "display_data"
    },
    {
     "data": {
      "image/png": "[encoded data removed]",
      "text/plain": [
       "<Figure size 432x648 with 2 Axes>"
      ]
     },
     "metadata": {
      "needs_background": "light"
     },
     "output_type": "display_data"
    },
    {
     "data": {
      "image/png": "[encoded data removed]",
      "text/plain": [
       "<Figure size 432x648 with 2 Axes>"
      ]
     },
     "metadata": {
      "needs_background": "light"
     },
     "output_type": "display_data"
    },
    {
     "data": {
      "image/png": "[encoded data removed]",
      "text/plain": [
       "<Figure size 432x648 with 2 Axes>"
      ]
     },
     "metadata": {
      "needs_background": "light"
     },
     "output_type": "display_data"
    },
    {
     "data": {
      "image/png": "[encoded data removed]",
      "text/plain": [
       "<Figure size 432x648 with 2 Axes>"
      ]
     },
     "metadata": {
      "needs_background": "light"
     },
     "output_type": "display_data"
    },
    {
     "data": {
      "image/png": "[encoded data removed]",
      "text/plain": [
       "<Figure size 432x648 with 2 Axes>"
      ]
     },
     "metadata": {
      "needs_background": "light"
     },
     "output_type": "display_data"
    }
   ],
   "source": [
    "images, labels = next(iter(trainset))\n",
    "# replace trainloader to check training accuracy.\n",
    "\n",
    "for i in images:\n",
    "    img = i.view(1, 784)\n",
    "# Turn off gradients to speed up this part\n",
    "    with torch.no_grad():\n",
    "        logpb = net(img)\n",
    "\n",
    "    # Output of the network are log-probabilities, need to take exponential for probabilities\n",
    "    pb = torch.exp(logpb)\n",
    "    probab = list(pb.numpy()[0])\n",
    "    print(\"Predicted Class =\", probab.index(max(probab)))\n",
    "    classify(img.view(1, 28, 28), pb)"
   ]
  },
  {
   "cell_type": "code",
   "execution_count": null,
   "metadata": {},
   "outputs": [],
   "source": []
  },
  {
   "cell_type": "code",
   "execution_count": 75,
   "metadata": {},
   "outputs": [
    {
     "data": {
      "text/plain": [
       "6000"
      ]
     },
     "execution_count": 75,
     "metadata": {},
     "output_type": "execute_result"
    }
   ],
   "source": [
    "len(trainset)"
   ]
  },
  {
   "cell_type": "code",
   "execution_count": 80,
   "metadata": {},
   "outputs": [
    {
     "data": {
      "text/plain": [
       "1000"
      ]
     },
     "execution_count": 80,
     "metadata": {},
     "output_type": "execute_result"
    }
   ],
   "source": [
    "len(testset)"
   ]
  },
  {
   "cell_type": "code",
   "execution_count": null,
   "metadata": {},
   "outputs": [],
   "source": []
  }
 ],
 "metadata": {
  "kernelspec": {
   "display_name": "Python 3",
   "language": "python",
   "name": "python3"
  },
  "language_info": {
   "codemirror_mode": {
    "name": "ipython",
    "version": 3
   },
   "file_extension": ".py",
   "mimetype": "text/x-python",
   "name": "python",
   "nbconvert_exporter": "python",
   "pygments_lexer": "ipython3",
   "version": "3.7.0"
  }
 },
 "nbformat": 4,
 "nbformat_minor": 4
}
