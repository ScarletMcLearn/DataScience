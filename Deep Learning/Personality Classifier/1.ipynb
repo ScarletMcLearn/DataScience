{
 "cells": [
  {
   "cell_type": "code",
   "execution_count": 1,
   "id": "1d17ddf3-c0b6-4790-8337-ccfc9af44fab",
   "metadata": {
    "tags": []
   },
   "outputs": [],
   "source": [
    "import pandas as pd"
   ]
  },
  {
   "cell_type": "code",
   "execution_count": 2,
   "id": "48221043-51e2-4dc3-93b2-af827123b3dd",
   "metadata": {
    "tags": []
   },
   "outputs": [],
   "source": [
    "df = pd.read_csv('/media/scarlet/Project/Project Files/Data/Personality/train.csv')"
   ]
  },
  {
   "cell_type": "code",
   "execution_count": 3,
   "id": "7084768c-57fc-45b9-b336-97578aa22a03",
   "metadata": {
    "tags": []
   },
   "outputs": [
    {
     "data": {
      "text/html": [
       "<div>\n",
       "<style scoped>\n",
       "    .dataframe tbody tr th:only-of-type {\n",
       "        vertical-align: middle;\n",
       "    }\n",
       "\n",
       "    .dataframe tbody tr th {\n",
       "        vertical-align: top;\n",
       "    }\n",
       "\n",
       "    .dataframe thead th {\n",
       "        text-align: right;\n",
       "    }\n",
       "</style>\n",
       "<table border=\"1\" class=\"dataframe\">\n",
       "  <thead>\n",
       "    <tr style=\"text-align: right;\">\n",
       "      <th></th>\n",
       "      <th>Gender</th>\n",
       "      <th>Age</th>\n",
       "      <th>openness</th>\n",
       "      <th>neuroticism</th>\n",
       "      <th>conscientiousness</th>\n",
       "      <th>agreeableness</th>\n",
       "      <th>extraversion</th>\n",
       "      <th>Personality (Class label)</th>\n",
       "    </tr>\n",
       "  </thead>\n",
       "  <tbody>\n",
       "    <tr>\n",
       "      <th>0</th>\n",
       "      <td>Male</td>\n",
       "      <td>17</td>\n",
       "      <td>7</td>\n",
       "      <td>4</td>\n",
       "      <td>7</td>\n",
       "      <td>3</td>\n",
       "      <td>2</td>\n",
       "      <td>extraverted</td>\n",
       "    </tr>\n",
       "    <tr>\n",
       "      <th>1</th>\n",
       "      <td>Male</td>\n",
       "      <td>19</td>\n",
       "      <td>4</td>\n",
       "      <td>5</td>\n",
       "      <td>4</td>\n",
       "      <td>6</td>\n",
       "      <td>6</td>\n",
       "      <td>serious</td>\n",
       "    </tr>\n",
       "    <tr>\n",
       "      <th>2</th>\n",
       "      <td>Female</td>\n",
       "      <td>18</td>\n",
       "      <td>7</td>\n",
       "      <td>6</td>\n",
       "      <td>4</td>\n",
       "      <td>5</td>\n",
       "      <td>5</td>\n",
       "      <td>dependable</td>\n",
       "    </tr>\n",
       "    <tr>\n",
       "      <th>3</th>\n",
       "      <td>Female</td>\n",
       "      <td>22</td>\n",
       "      <td>5</td>\n",
       "      <td>6</td>\n",
       "      <td>7</td>\n",
       "      <td>4</td>\n",
       "      <td>3</td>\n",
       "      <td>extraverted</td>\n",
       "    </tr>\n",
       "    <tr>\n",
       "      <th>4</th>\n",
       "      <td>Female</td>\n",
       "      <td>19</td>\n",
       "      <td>7</td>\n",
       "      <td>4</td>\n",
       "      <td>6</td>\n",
       "      <td>5</td>\n",
       "      <td>4</td>\n",
       "      <td>lively</td>\n",
       "    </tr>\n",
       "    <tr>\n",
       "      <th>...</th>\n",
       "      <td>...</td>\n",
       "      <td>...</td>\n",
       "      <td>...</td>\n",
       "      <td>...</td>\n",
       "      <td>...</td>\n",
       "      <td>...</td>\n",
       "      <td>...</td>\n",
       "      <td>...</td>\n",
       "    </tr>\n",
       "    <tr>\n",
       "      <th>704</th>\n",
       "      <td>Female</td>\n",
       "      <td>20</td>\n",
       "      <td>4</td>\n",
       "      <td>5</td>\n",
       "      <td>6</td>\n",
       "      <td>6</td>\n",
       "      <td>1</td>\n",
       "      <td>responsible</td>\n",
       "    </tr>\n",
       "    <tr>\n",
       "      <th>705</th>\n",
       "      <td>Male</td>\n",
       "      <td>18</td>\n",
       "      <td>6</td>\n",
       "      <td>3</td>\n",
       "      <td>1</td>\n",
       "      <td>5</td>\n",
       "      <td>5</td>\n",
       "      <td>dependable</td>\n",
       "    </tr>\n",
       "    <tr>\n",
       "      <th>706</th>\n",
       "      <td>Male</td>\n",
       "      <td>22</td>\n",
       "      <td>5</td>\n",
       "      <td>2</td>\n",
       "      <td>3</td>\n",
       "      <td>6</td>\n",
       "      <td>1</td>\n",
       "      <td>serious</td>\n",
       "    </tr>\n",
       "    <tr>\n",
       "      <th>707</th>\n",
       "      <td>Male</td>\n",
       "      <td>19</td>\n",
       "      <td>5</td>\n",
       "      <td>6</td>\n",
       "      <td>5</td>\n",
       "      <td>7</td>\n",
       "      <td>5</td>\n",
       "      <td>extraverted</td>\n",
       "    </tr>\n",
       "    <tr>\n",
       "      <th>708</th>\n",
       "      <td>Female</td>\n",
       "      <td>18</td>\n",
       "      <td>5</td>\n",
       "      <td>5</td>\n",
       "      <td>7</td>\n",
       "      <td>6</td>\n",
       "      <td>5</td>\n",
       "      <td>extraverted</td>\n",
       "    </tr>\n",
       "  </tbody>\n",
       "</table>\n",
       "<p>709 rows × 8 columns</p>\n",
       "</div>"
      ],
      "text/plain": [
       "     Gender  Age  openness  neuroticism  conscientiousness  agreeableness  \\\n",
       "0      Male   17         7            4                  7              3   \n",
       "1      Male   19         4            5                  4              6   \n",
       "2    Female   18         7            6                  4              5   \n",
       "3    Female   22         5            6                  7              4   \n",
       "4    Female   19         7            4                  6              5   \n",
       "..      ...  ...       ...          ...                ...            ...   \n",
       "704  Female   20         4            5                  6              6   \n",
       "705    Male   18         6            3                  1              5   \n",
       "706    Male   22         5            2                  3              6   \n",
       "707    Male   19         5            6                  5              7   \n",
       "708  Female   18         5            5                  7              6   \n",
       "\n",
       "     extraversion Personality (Class label)  \n",
       "0               2               extraverted  \n",
       "1               6                   serious  \n",
       "2               5                dependable  \n",
       "3               3               extraverted  \n",
       "4               4                    lively  \n",
       "..            ...                       ...  \n",
       "704             1               responsible  \n",
       "705             5                dependable  \n",
       "706             1                   serious  \n",
       "707             5               extraverted  \n",
       "708             5               extraverted  \n",
       "\n",
       "[709 rows x 8 columns]"
      ]
     },
     "execution_count": 3,
     "metadata": {},
     "output_type": "execute_result"
    }
   ],
   "source": [
    "df"
   ]
  },
  {
   "cell_type": "code",
   "execution_count": 4,
   "id": "41d4e81c-0ca0-45d4-8a8a-59f36460f1dc",
   "metadata": {
    "tags": []
   },
   "outputs": [
    {
     "data": {
      "text/plain": [
       "Index(['Gender', 'Age', 'openness', 'neuroticism', 'conscientiousness',\n",
       "       'agreeableness', 'extraversion', 'Personality (Class label)'],\n",
       "      dtype='object')"
      ]
     },
     "execution_count": 4,
     "metadata": {},
     "output_type": "execute_result"
    }
   ],
   "source": [
    "df.columns"
   ]
  },
  {
   "cell_type": "code",
   "execution_count": 6,
   "id": "fc507517-b420-4348-9a11-38d6e1806233",
   "metadata": {
    "tags": []
   },
   "outputs": [
    {
     "data": {
      "text/html": [
       "<div>\n",
       "<style scoped>\n",
       "    .dataframe tbody tr th:only-of-type {\n",
       "        vertical-align: middle;\n",
       "    }\n",
       "\n",
       "    .dataframe tbody tr th {\n",
       "        vertical-align: top;\n",
       "    }\n",
       "\n",
       "    .dataframe thead th {\n",
       "        text-align: right;\n",
       "    }\n",
       "</style>\n",
       "<table border=\"1\" class=\"dataframe\">\n",
       "  <thead>\n",
       "    <tr style=\"text-align: right;\">\n",
       "      <th></th>\n",
       "      <th>Age</th>\n",
       "      <th>openness</th>\n",
       "      <th>neuroticism</th>\n",
       "      <th>conscientiousness</th>\n",
       "      <th>agreeableness</th>\n",
       "      <th>extraversion</th>\n",
       "    </tr>\n",
       "  </thead>\n",
       "  <tbody>\n",
       "    <tr>\n",
       "      <th>count</th>\n",
       "      <td>709.000000</td>\n",
       "      <td>709.000000</td>\n",
       "      <td>709.000000</td>\n",
       "      <td>709.000000</td>\n",
       "      <td>709.000000</td>\n",
       "      <td>709.000000</td>\n",
       "    </tr>\n",
       "    <tr>\n",
       "      <th>mean</th>\n",
       "      <td>19.685472</td>\n",
       "      <td>5.019746</td>\n",
       "      <td>4.647391</td>\n",
       "      <td>4.643159</td>\n",
       "      <td>4.827927</td>\n",
       "      <td>4.409027</td>\n",
       "    </tr>\n",
       "    <tr>\n",
       "      <th>std</th>\n",
       "      <td>2.510672</td>\n",
       "      <td>1.519052</td>\n",
       "      <td>1.658673</td>\n",
       "      <td>1.703569</td>\n",
       "      <td>1.632564</td>\n",
       "      <td>1.567404</td>\n",
       "    </tr>\n",
       "    <tr>\n",
       "      <th>min</th>\n",
       "      <td>5.000000</td>\n",
       "      <td>1.000000</td>\n",
       "      <td>1.000000</td>\n",
       "      <td>1.000000</td>\n",
       "      <td>1.000000</td>\n",
       "      <td>1.000000</td>\n",
       "    </tr>\n",
       "    <tr>\n",
       "      <th>25%</th>\n",
       "      <td>18.000000</td>\n",
       "      <td>4.000000</td>\n",
       "      <td>4.000000</td>\n",
       "      <td>3.000000</td>\n",
       "      <td>4.000000</td>\n",
       "      <td>3.000000</td>\n",
       "    </tr>\n",
       "    <tr>\n",
       "      <th>50%</th>\n",
       "      <td>19.000000</td>\n",
       "      <td>5.000000</td>\n",
       "      <td>5.000000</td>\n",
       "      <td>5.000000</td>\n",
       "      <td>5.000000</td>\n",
       "      <td>5.000000</td>\n",
       "    </tr>\n",
       "    <tr>\n",
       "      <th>75%</th>\n",
       "      <td>21.000000</td>\n",
       "      <td>6.000000</td>\n",
       "      <td>6.000000</td>\n",
       "      <td>6.000000</td>\n",
       "      <td>6.000000</td>\n",
       "      <td>6.000000</td>\n",
       "    </tr>\n",
       "    <tr>\n",
       "      <th>max</th>\n",
       "      <td>28.000000</td>\n",
       "      <td>8.000000</td>\n",
       "      <td>8.000000</td>\n",
       "      <td>8.000000</td>\n",
       "      <td>8.000000</td>\n",
       "      <td>7.000000</td>\n",
       "    </tr>\n",
       "  </tbody>\n",
       "</table>\n",
       "</div>"
      ],
      "text/plain": [
       "              Age    openness  neuroticism  conscientiousness  agreeableness  \\\n",
       "count  709.000000  709.000000   709.000000         709.000000     709.000000   \n",
       "mean    19.685472    5.019746     4.647391           4.643159       4.827927   \n",
       "std      2.510672    1.519052     1.658673           1.703569       1.632564   \n",
       "min      5.000000    1.000000     1.000000           1.000000       1.000000   \n",
       "25%     18.000000    4.000000     4.000000           3.000000       4.000000   \n",
       "50%     19.000000    5.000000     5.000000           5.000000       5.000000   \n",
       "75%     21.000000    6.000000     6.000000           6.000000       6.000000   \n",
       "max     28.000000    8.000000     8.000000           8.000000       8.000000   \n",
       "\n",
       "       extraversion  \n",
       "count    709.000000  \n",
       "mean       4.409027  \n",
       "std        1.567404  \n",
       "min        1.000000  \n",
       "25%        3.000000  \n",
       "50%        5.000000  \n",
       "75%        6.000000  \n",
       "max        7.000000  "
      ]
     },
     "execution_count": 6,
     "metadata": {},
     "output_type": "execute_result"
    }
   ],
   "source": [
    "df.describe()"
   ]
  },
  {
   "cell_type": "code",
   "execution_count": 9,
   "id": "2ce358e7-bce3-40ec-ad0d-772c3cc4e2f7",
   "metadata": {
    "tags": []
   },
   "outputs": [
    {
     "data": {
      "text/plain": [
       "Gender                       709\n",
       "Age                          709\n",
       "openness                     709\n",
       "neuroticism                  709\n",
       "conscientiousness            709\n",
       "agreeableness                709\n",
       "extraversion                 709\n",
       "Personality (Class label)    709\n",
       "dtype: int64"
      ]
     },
     "execution_count": 9,
     "metadata": {},
     "output_type": "execute_result"
    }
   ],
   "source": [
    "df.count()"
   ]
  },
  {
   "cell_type": "code",
   "execution_count": 14,
   "id": "3a37971f-cf5b-4a29-9e41-90b3dca77fd1",
   "metadata": {
    "tags": []
   },
   "outputs": [
    {
     "data": {
      "text/plain": [
       "serious        161\n",
       "extraverted    150\n",
       "dependable     138\n",
       "lively         134\n",
       "responsible    126\n",
       "Name: Personality (Class label), dtype: int64"
      ]
     },
     "execution_count": 14,
     "metadata": {},
     "output_type": "execute_result"
    }
   ],
   "source": [
    "tmp = df['Personality (Class label)'].value_counts() # .count()\n",
    "tmp"
   ]
  },
  {
   "cell_type": "code",
   "execution_count": 15,
   "id": "f0a6bb22-b357-411b-bf02-cec5e67b494b",
   "metadata": {
    "tags": []
   },
   "outputs": [
    {
     "data": {
      "text/plain": [
       "pandas.core.series.Series"
      ]
     },
     "execution_count": 15,
     "metadata": {},
     "output_type": "execute_result"
    }
   ],
   "source": [
    "type(tmp)"
   ]
  },
  {
   "cell_type": "code",
   "execution_count": 41,
   "id": "3ca34331-490b-4dd1-8697-85999f9af30e",
   "metadata": {
    "tags": []
   },
   "outputs": [
    {
     "data": {
      "text/plain": [
       "['serious', 'extraverted', 'dependable', 'lively', 'responsible']"
      ]
     },
     "execution_count": 41,
     "metadata": {},
     "output_type": "execute_result"
    }
   ],
   "source": [
    "list(tmp._get_axis(axis=0))[:5]"
   ]
  },
  {
   "cell_type": "code",
   "execution_count": 35,
   "id": "84fd5363-ed30-40c9-b599-949e2ea7861d",
   "metadata": {
    "tags": []
   },
   "outputs": [
    {
     "data": {
      "text/plain": [
       "[161, 150, 138, 134, 126]"
      ]
     },
     "execution_count": 35,
     "metadata": {},
     "output_type": "execute_result"
    }
   ],
   "source": [
    "list(tmp.__array__())[:5]"
   ]
  },
  {
   "cell_type": "code",
   "execution_count": 53,
   "id": "d1112ecb-37c4-4279-b74b-4edea1ce18b7",
   "metadata": {
    "tags": []
   },
   "outputs": [
    {
     "data": {
      "image/png": "[encoded data removed]",
      "text/plain": [
       "<Figure size 1000x500 with 1 Axes>"
      ]
     },
     "metadata": {},
     "output_type": "display_data"
    },
    {
     "data": {
      "image/png": "[encoded data removed]",
      "text/plain": [
       "<Figure size 1000x500 with 1 Axes>"
      ]
     },
     "metadata": {},
     "output_type": "display_data"
    }
   ],
   "source": [
    "import matplotlib.pyplot as plt\n",
    "\n",
    "for i in ['train', 'test']:\n",
    "    dir_str = '/media/scarlet/Project/Project Files/Data/Personality/' + i + '.csv'\n",
    "    df = pd.read_csv(dir_str)\n",
    "    # Personality (class label)\n",
    "    if i == 'test':\n",
    "        tmp_2 = 'Personality (class label)'\n",
    "    else:\n",
    "        tmp_2 = 'Personality (Class label)'\n",
    "    tmp = df[tmp_2].value_counts() # .count()\n",
    "    fig = plt.figure(figsize = (10, 5))\n",
    "    # creating the bar plot\n",
    "    plt.bar(list(tmp._get_axis(axis=0))[:5], list(tmp.__array__())[:5], color ='maroon',\n",
    "            width = 0.4)\n",
    "\n",
    "    plt.xlabel(\"Personality Types\")\n",
    "    plt.ylabel(\"No. of people\")\n",
    "    \n",
    "    if i == 'test':\n",
    "        plt.title(\"People of a particular personality (Test)\")\n",
    "    else:\n",
    "        # tmp_2 = 'Personality (Class label)'\n",
    "        plt.title(\"People of a particular personality (Train)\")\n",
    "    \n",
    "    plt.show()"
   ]
  },
  {
   "cell_type": "code",
   "execution_count": 62,
   "id": "d107539e-f663-48a8-94d5-1bf8e8ff96d3",
   "metadata": {
    "tags": []
   },
   "outputs": [
    {
     "data": {
      "text/plain": [
       "709"
      ]
     },
     "execution_count": 62,
     "metadata": {},
     "output_type": "execute_result"
    }
   ],
   "source": [
    "df = pd.read_csv('/media/scarlet/Project/Project Files/Data/Personality/train.csv')\n",
    "tmp = df['Personality (Class label)'].value_counts() # .count()\n",
    "\n",
    "sum_ = 0\n",
    "\n",
    "for i in list(tmp.__array__())[:5]:\n",
    "    sum_ = sum_+i\n",
    "\n",
    "sum_"
   ]
  },
  {
   "cell_type": "code",
   "execution_count": 63,
   "id": "80c53f80-8f81-4769-b0d9-830ea02c4924",
   "metadata": {
    "tags": []
   },
   "outputs": [
    {
     "name": "stdout",
     "output_type": "stream",
     "text": [
      "serious  :  22.708039492242595\n",
      "extraverted  :  21.156558533145276\n",
      "dependable  :  19.464033850493653\n",
      "lively  :  18.899858956276447\n",
      "responsible  :  17.77150916784203\n"
     ]
    }
   ],
   "source": [
    "for i in range(len(list(tmp.__array__())[:5])):\n",
    "    curr_ = list(tmp.__array__())[i]*100/sum_\n",
    "    print(list(tmp._get_axis(axis=0))[i], ' : ', curr_)"
   ]
  },
  {
   "cell_type": "code",
   "execution_count": 64,
   "id": "21a25785-24d4-4895-8581-24e9e9c5e9ba",
   "metadata": {
    "tags": []
   },
   "outputs": [
    {
     "data": {
      "text/plain": [
       "315"
      ]
     },
     "execution_count": 64,
     "metadata": {},
     "output_type": "execute_result"
    }
   ],
   "source": [
    "df = pd.read_csv('/media/scarlet/Project/Project Files/Data/Personality/test.csv')\n",
    "tmp = df['Personality (class label)'].value_counts() # .count()\n",
    "\n",
    "sum_ = 0\n",
    "\n",
    "for i in list(tmp.__array__())[:5]:\n",
    "    sum_ = sum_+i\n",
    "\n",
    "sum_"
   ]
  },
  {
   "cell_type": "code",
   "execution_count": 65,
   "id": "04f69316-aaa7-49d5-a802-6ee0dd0abb95",
   "metadata": {
    "tags": []
   },
   "outputs": [
    {
     "name": "stdout",
     "output_type": "stream",
     "text": [
      "serious  :  48.57142857142857\n",
      "extraverted  :  24.444444444444443\n",
      "responsible  :  12.698412698412698\n",
      "lively  :  7.619047619047619\n",
      "dependable  :  6.666666666666667\n"
     ]
    }
   ],
   "source": [
    "for i in range(len(list(tmp.__array__())[:5])):\n",
    "    curr_ = list(tmp.__array__())[i]*100/sum_\n",
    "    print(list(tmp._get_axis(axis=0))[i], ' : ', curr_)"
   ]
  },
  {
   "cell_type": "code",
   "execution_count": 164,
   "id": "eb01f898-3547-47d3-a968-5dc51c4900a8",
   "metadata": {
    "tags": []
   },
   "outputs": [
    {
     "data": {
      "text/html": [
       "<div>\n",
       "<style scoped>\n",
       "    .dataframe tbody tr th:only-of-type {\n",
       "        vertical-align: middle;\n",
       "    }\n",
       "\n",
       "    .dataframe tbody tr th {\n",
       "        vertical-align: top;\n",
       "    }\n",
       "\n",
       "    .dataframe thead th {\n",
       "        text-align: right;\n",
       "    }\n",
       "</style>\n",
       "<table border=\"1\" class=\"dataframe\">\n",
       "  <thead>\n",
       "    <tr style=\"text-align: right;\">\n",
       "      <th></th>\n",
       "      <th>Gender</th>\n",
       "      <th>Age</th>\n",
       "      <th>openness</th>\n",
       "      <th>neuroticism</th>\n",
       "      <th>conscientiousness</th>\n",
       "      <th>agreeableness</th>\n",
       "      <th>extraversion</th>\n",
       "      <th>Personality (class label)</th>\n",
       "    </tr>\n",
       "  </thead>\n",
       "  <tbody>\n",
       "    <tr>\n",
       "      <th>0</th>\n",
       "      <td>Female</td>\n",
       "      <td>20</td>\n",
       "      <td>7</td>\n",
       "      <td>9</td>\n",
       "      <td>9</td>\n",
       "      <td>5</td>\n",
       "      <td>5</td>\n",
       "      <td>dependable</td>\n",
       "    </tr>\n",
       "    <tr>\n",
       "      <th>1</th>\n",
       "      <td>Male</td>\n",
       "      <td>17</td>\n",
       "      <td>5</td>\n",
       "      <td>4</td>\n",
       "      <td>5</td>\n",
       "      <td>2</td>\n",
       "      <td>4</td>\n",
       "      <td>serious</td>\n",
       "    </tr>\n",
       "    <tr>\n",
       "      <th>2</th>\n",
       "      <td>Female</td>\n",
       "      <td>25</td>\n",
       "      <td>5</td>\n",
       "      <td>5</td>\n",
       "      <td>7</td>\n",
       "      <td>2</td>\n",
       "      <td>4</td>\n",
       "      <td>serious</td>\n",
       "    </tr>\n",
       "    <tr>\n",
       "      <th>3</th>\n",
       "      <td>Female</td>\n",
       "      <td>18</td>\n",
       "      <td>6</td>\n",
       "      <td>2</td>\n",
       "      <td>7</td>\n",
       "      <td>4</td>\n",
       "      <td>7</td>\n",
       "      <td>serious</td>\n",
       "    </tr>\n",
       "    <tr>\n",
       "      <th>4</th>\n",
       "      <td>Female</td>\n",
       "      <td>19</td>\n",
       "      <td>2</td>\n",
       "      <td>4</td>\n",
       "      <td>7</td>\n",
       "      <td>1</td>\n",
       "      <td>3</td>\n",
       "      <td>responsible</td>\n",
       "    </tr>\n",
       "    <tr>\n",
       "      <th>...</th>\n",
       "      <td>...</td>\n",
       "      <td>...</td>\n",
       "      <td>...</td>\n",
       "      <td>...</td>\n",
       "      <td>...</td>\n",
       "      <td>...</td>\n",
       "      <td>...</td>\n",
       "      <td>...</td>\n",
       "    </tr>\n",
       "    <tr>\n",
       "      <th>310</th>\n",
       "      <td>Female</td>\n",
       "      <td>19</td>\n",
       "      <td>6</td>\n",
       "      <td>5</td>\n",
       "      <td>6</td>\n",
       "      <td>4</td>\n",
       "      <td>3</td>\n",
       "      <td>extraverted</td>\n",
       "    </tr>\n",
       "    <tr>\n",
       "      <th>311</th>\n",
       "      <td>Male</td>\n",
       "      <td>18</td>\n",
       "      <td>2</td>\n",
       "      <td>5</td>\n",
       "      <td>8</td>\n",
       "      <td>3</td>\n",
       "      <td>7</td>\n",
       "      <td>dependable</td>\n",
       "    </tr>\n",
       "    <tr>\n",
       "      <th>312</th>\n",
       "      <td>Male</td>\n",
       "      <td>18</td>\n",
       "      <td>7</td>\n",
       "      <td>5</td>\n",
       "      <td>6</td>\n",
       "      <td>2</td>\n",
       "      <td>7</td>\n",
       "      <td>serious</td>\n",
       "    </tr>\n",
       "    <tr>\n",
       "      <th>313</th>\n",
       "      <td>Male</td>\n",
       "      <td>23</td>\n",
       "      <td>6</td>\n",
       "      <td>7</td>\n",
       "      <td>5</td>\n",
       "      <td>4</td>\n",
       "      <td>3</td>\n",
       "      <td>extraverted</td>\n",
       "    </tr>\n",
       "    <tr>\n",
       "      <th>314</th>\n",
       "      <td>Female</td>\n",
       "      <td>18</td>\n",
       "      <td>5</td>\n",
       "      <td>7</td>\n",
       "      <td>3</td>\n",
       "      <td>5</td>\n",
       "      <td>6</td>\n",
       "      <td>extraverted</td>\n",
       "    </tr>\n",
       "  </tbody>\n",
       "</table>\n",
       "<p>630 rows × 8 columns</p>\n",
       "</div>"
      ],
      "text/plain": [
       "     Gender  Age  openness  neuroticism  conscientiousness  agreeableness  \\\n",
       "0    Female   20         7            9                  9              5   \n",
       "1      Male   17         5            4                  5              2   \n",
       "2    Female   25         5            5                  7              2   \n",
       "3    Female   18         6            2                  7              4   \n",
       "4    Female   19         2            4                  7              1   \n",
       "..      ...  ...       ...          ...                ...            ...   \n",
       "310  Female   19         6            5                  6              4   \n",
       "311    Male   18         2            5                  8              3   \n",
       "312    Male   18         7            5                  6              2   \n",
       "313    Male   23         6            7                  5              4   \n",
       "314  Female   18         5            7                  3              5   \n",
       "\n",
       "     extraversion Personality (class label)  \n",
       "0               5                dependable  \n",
       "1               4                   serious  \n",
       "2               4                   serious  \n",
       "3               7                   serious  \n",
       "4               3               responsible  \n",
       "..            ...                       ...  \n",
       "310             3               extraverted  \n",
       "311             7                dependable  \n",
       "312             7                   serious  \n",
       "313             3               extraverted  \n",
       "314             6               extraverted  \n",
       "\n",
       "[630 rows x 8 columns]"
      ]
     },
     "execution_count": 164,
     "metadata": {},
     "output_type": "execute_result"
    }
   ],
   "source": [
    "tmp = pd.read_csv('/media/scarlet/Project/Project Files/Data/Personality/test.csv')\n",
    "tmp_2 = pd.read_csv('/media/scarlet/Project/Project Files/Data/Personality/test.csv')\n",
    "df = pd.concat([tmp, tmp_2])\n",
    "df"
   ]
  },
  {
   "cell_type": "code",
   "execution_count": null,
   "id": "7f708626-7171-45d1-96a7-7c38b1cbc59b",
   "metadata": {},
   "outputs": [],
   "source": [
    "from sklearn.model_selection import train_test_split\n",
    "# list(tmp._get_axis(axis=0))[:5], list(tmp.__array__())[:5],\n",
    "X_train, X_test, y_train, y_test = train_test_split(X, \n",
    "                                                    y, \n",
    "                                                    test_size=0.4, \n",
    "                                                    random_state=101,\n",
    "                                                    stratify=y)"
   ]
  },
  {
   "cell_type": "code",
   "execution_count": 72,
   "id": "2132aedd-b555-4b59-9d2e-e43a3072bf84",
   "metadata": {
    "tags": []
   },
   "outputs": [
    {
     "data": {
      "text/plain": [
       "Index(['Gender', 'Age', 'openness', 'neuroticism', 'conscientiousness',\n",
       "       'agreeableness', 'extraversion', 'Personality (class label)'],\n",
       "      dtype='object')"
      ]
     },
     "execution_count": 72,
     "metadata": {},
     "output_type": "execute_result"
    }
   ],
   "source": [
    "tmp_2.columns"
   ]
  },
  {
   "cell_type": "code",
   "execution_count": 165,
   "id": "d8a242c9-fb93-426f-855d-b6b15bf75f60",
   "metadata": {
    "tags": []
   },
   "outputs": [
    {
     "data": {
      "text/plain": [
       "Index(['Gender', 'Age', 'openness', 'neuroticism', 'conscientiousness',\n",
       "       'agreeableness', 'extraversion', 'Personality (Class label)'],\n",
       "      dtype='object')"
      ]
     },
     "execution_count": 165,
     "metadata": {},
     "output_type": "execute_result"
    }
   ],
   "source": [
    "tmp_2.rename(columns={'Personality (class label)':'Personality (Class label)'}, inplace=True)\n",
    "tmp_2.columns"
   ]
  },
  {
   "cell_type": "code",
   "execution_count": 166,
   "id": "8915dc36-d252-4d11-894f-46b6a4be3e74",
   "metadata": {
    "tags": []
   },
   "outputs": [
    {
     "data": {
      "text/plain": [
       "Index(['Gender', 'Age', 'openness', 'neuroticism', 'conscientiousness',\n",
       "       'agreeableness', 'extraversion', 'Personality (Class label)'],\n",
       "      dtype='object')"
      ]
     },
     "execution_count": 166,
     "metadata": {},
     "output_type": "execute_result"
    }
   ],
   "source": [
    "tmp.rename(columns={'Personality (class label)':'Personality (Class label)'}, inplace=True)\n",
    "tmp.columns"
   ]
  },
  {
   "cell_type": "code",
   "execution_count": 167,
   "id": "077cb995-b6a0-4f18-8ad4-6d23d96ecaa4",
   "metadata": {
    "tags": []
   },
   "outputs": [
    {
     "data": {
      "text/html": [
       "<div>\n",
       "<style scoped>\n",
       "    .dataframe tbody tr th:only-of-type {\n",
       "        vertical-align: middle;\n",
       "    }\n",
       "\n",
       "    .dataframe tbody tr th {\n",
       "        vertical-align: top;\n",
       "    }\n",
       "\n",
       "    .dataframe thead th {\n",
       "        text-align: right;\n",
       "    }\n",
       "</style>\n",
       "<table border=\"1\" class=\"dataframe\">\n",
       "  <thead>\n",
       "    <tr style=\"text-align: right;\">\n",
       "      <th></th>\n",
       "      <th>Gender</th>\n",
       "      <th>Age</th>\n",
       "      <th>openness</th>\n",
       "      <th>neuroticism</th>\n",
       "      <th>conscientiousness</th>\n",
       "      <th>agreeableness</th>\n",
       "      <th>extraversion</th>\n",
       "      <th>Personality (Class label)</th>\n",
       "    </tr>\n",
       "  </thead>\n",
       "  <tbody>\n",
       "    <tr>\n",
       "      <th>0</th>\n",
       "      <td>Female</td>\n",
       "      <td>20</td>\n",
       "      <td>7</td>\n",
       "      <td>9</td>\n",
       "      <td>9</td>\n",
       "      <td>5</td>\n",
       "      <td>5</td>\n",
       "      <td>dependable</td>\n",
       "    </tr>\n",
       "    <tr>\n",
       "      <th>1</th>\n",
       "      <td>Male</td>\n",
       "      <td>17</td>\n",
       "      <td>5</td>\n",
       "      <td>4</td>\n",
       "      <td>5</td>\n",
       "      <td>2</td>\n",
       "      <td>4</td>\n",
       "      <td>serious</td>\n",
       "    </tr>\n",
       "    <tr>\n",
       "      <th>2</th>\n",
       "      <td>Female</td>\n",
       "      <td>25</td>\n",
       "      <td>5</td>\n",
       "      <td>5</td>\n",
       "      <td>7</td>\n",
       "      <td>2</td>\n",
       "      <td>4</td>\n",
       "      <td>serious</td>\n",
       "    </tr>\n",
       "    <tr>\n",
       "      <th>3</th>\n",
       "      <td>Female</td>\n",
       "      <td>18</td>\n",
       "      <td>6</td>\n",
       "      <td>2</td>\n",
       "      <td>7</td>\n",
       "      <td>4</td>\n",
       "      <td>7</td>\n",
       "      <td>serious</td>\n",
       "    </tr>\n",
       "    <tr>\n",
       "      <th>4</th>\n",
       "      <td>Female</td>\n",
       "      <td>19</td>\n",
       "      <td>2</td>\n",
       "      <td>4</td>\n",
       "      <td>7</td>\n",
       "      <td>1</td>\n",
       "      <td>3</td>\n",
       "      <td>responsible</td>\n",
       "    </tr>\n",
       "    <tr>\n",
       "      <th>...</th>\n",
       "      <td>...</td>\n",
       "      <td>...</td>\n",
       "      <td>...</td>\n",
       "      <td>...</td>\n",
       "      <td>...</td>\n",
       "      <td>...</td>\n",
       "      <td>...</td>\n",
       "      <td>...</td>\n",
       "    </tr>\n",
       "    <tr>\n",
       "      <th>310</th>\n",
       "      <td>Female</td>\n",
       "      <td>19</td>\n",
       "      <td>6</td>\n",
       "      <td>5</td>\n",
       "      <td>6</td>\n",
       "      <td>4</td>\n",
       "      <td>3</td>\n",
       "      <td>extraverted</td>\n",
       "    </tr>\n",
       "    <tr>\n",
       "      <th>311</th>\n",
       "      <td>Male</td>\n",
       "      <td>18</td>\n",
       "      <td>2</td>\n",
       "      <td>5</td>\n",
       "      <td>8</td>\n",
       "      <td>3</td>\n",
       "      <td>7</td>\n",
       "      <td>dependable</td>\n",
       "    </tr>\n",
       "    <tr>\n",
       "      <th>312</th>\n",
       "      <td>Male</td>\n",
       "      <td>18</td>\n",
       "      <td>7</td>\n",
       "      <td>5</td>\n",
       "      <td>6</td>\n",
       "      <td>2</td>\n",
       "      <td>7</td>\n",
       "      <td>serious</td>\n",
       "    </tr>\n",
       "    <tr>\n",
       "      <th>313</th>\n",
       "      <td>Male</td>\n",
       "      <td>23</td>\n",
       "      <td>6</td>\n",
       "      <td>7</td>\n",
       "      <td>5</td>\n",
       "      <td>4</td>\n",
       "      <td>3</td>\n",
       "      <td>extraverted</td>\n",
       "    </tr>\n",
       "    <tr>\n",
       "      <th>314</th>\n",
       "      <td>Female</td>\n",
       "      <td>18</td>\n",
       "      <td>5</td>\n",
       "      <td>7</td>\n",
       "      <td>3</td>\n",
       "      <td>5</td>\n",
       "      <td>6</td>\n",
       "      <td>extraverted</td>\n",
       "    </tr>\n",
       "  </tbody>\n",
       "</table>\n",
       "<p>630 rows × 8 columns</p>\n",
       "</div>"
      ],
      "text/plain": [
       "     Gender  Age  openness  neuroticism  conscientiousness  agreeableness  \\\n",
       "0    Female   20         7            9                  9              5   \n",
       "1      Male   17         5            4                  5              2   \n",
       "2    Female   25         5            5                  7              2   \n",
       "3    Female   18         6            2                  7              4   \n",
       "4    Female   19         2            4                  7              1   \n",
       "..      ...  ...       ...          ...                ...            ...   \n",
       "310  Female   19         6            5                  6              4   \n",
       "311    Male   18         2            5                  8              3   \n",
       "312    Male   18         7            5                  6              2   \n",
       "313    Male   23         6            7                  5              4   \n",
       "314  Female   18         5            7                  3              5   \n",
       "\n",
       "     extraversion Personality (Class label)  \n",
       "0               5                dependable  \n",
       "1               4                   serious  \n",
       "2               4                   serious  \n",
       "3               7                   serious  \n",
       "4               3               responsible  \n",
       "..            ...                       ...  \n",
       "310             3               extraverted  \n",
       "311             7                dependable  \n",
       "312             7                   serious  \n",
       "313             3               extraverted  \n",
       "314             6               extraverted  \n",
       "\n",
       "[630 rows x 8 columns]"
      ]
     },
     "execution_count": 167,
     "metadata": {},
     "output_type": "execute_result"
    }
   ],
   "source": [
    "df = pd.concat([tmp, tmp_2])\n",
    "df"
   ]
  },
  {
   "cell_type": "code",
   "execution_count": 81,
   "id": "ee5078e8-528b-47ef-9c3a-8a0b1343811d",
   "metadata": {
    "tags": []
   },
   "outputs": [
    {
     "data": {
      "text/plain": [
       "(315, 315)"
      ]
     },
     "execution_count": 81,
     "metadata": {},
     "output_type": "execute_result"
    }
   ],
   "source": [
    "len(tmp), len(tmp_2)"
   ]
  },
  {
   "cell_type": "code",
   "execution_count": 82,
   "id": "24082064-3a90-4888-9135-72a1ef3d3d6a",
   "metadata": {
    "tags": []
   },
   "outputs": [
    {
     "data": {
      "text/plain": [
       "630"
      ]
     },
     "execution_count": 82,
     "metadata": {},
     "output_type": "execute_result"
    }
   ],
   "source": [
    "315+315"
   ]
  },
  {
   "cell_type": "code",
   "execution_count": 168,
   "id": "0a394ece-cd06-46f0-8d71-3b5db662399d",
   "metadata": {
    "tags": []
   },
   "outputs": [],
   "source": [
    "X = df.loc[:, df.columns!='Personality (Class label)']"
   ]
  },
  {
   "cell_type": "code",
   "execution_count": 169,
   "id": "37f3c9bc-ca2d-4a3a-9029-2016daaa926e",
   "metadata": {
    "tags": []
   },
   "outputs": [],
   "source": [
    "y = df.loc[:, df.columns=='Personality (Class label)']"
   ]
  },
  {
   "cell_type": "code",
   "execution_count": 170,
   "id": "79574303-edae-46f4-b80c-9e537b7af00a",
   "metadata": {
    "tags": []
   },
   "outputs": [],
   "source": [
    "from sklearn.model_selection import train_test_split\n",
    "\n",
    "X_train, X_test, y_train, y_test = train_test_split(X, y,\n",
    "                                                    stratify=y, \n",
    "                                                    test_size=0.30)"
   ]
  },
  {
   "cell_type": "code",
   "execution_count": 100,
   "id": "f7fc4343-0eef-4ea0-af0f-5209944d2d81",
   "metadata": {
    "tags": []
   },
   "outputs": [
    {
     "data": {
      "text/html": [
       "<div>\n",
       "<style scoped>\n",
       "    .dataframe tbody tr th:only-of-type {\n",
       "        vertical-align: middle;\n",
       "    }\n",
       "\n",
       "    .dataframe tbody tr th {\n",
       "        vertical-align: top;\n",
       "    }\n",
       "\n",
       "    .dataframe thead th {\n",
       "        text-align: right;\n",
       "    }\n",
       "</style>\n",
       "<table border=\"1\" class=\"dataframe\">\n",
       "  <thead>\n",
       "    <tr style=\"text-align: right;\">\n",
       "      <th></th>\n",
       "      <th>Gender</th>\n",
       "      <th>Age</th>\n",
       "      <th>openness</th>\n",
       "      <th>neuroticism</th>\n",
       "      <th>conscientiousness</th>\n",
       "      <th>agreeableness</th>\n",
       "      <th>extraversion</th>\n",
       "    </tr>\n",
       "  </thead>\n",
       "  <tbody>\n",
       "    <tr>\n",
       "      <th>168</th>\n",
       "      <td>Female</td>\n",
       "      <td>19</td>\n",
       "      <td>4</td>\n",
       "      <td>7</td>\n",
       "      <td>7</td>\n",
       "      <td>3</td>\n",
       "      <td>5</td>\n",
       "    </tr>\n",
       "    <tr>\n",
       "      <th>61</th>\n",
       "      <td>Male</td>\n",
       "      <td>26</td>\n",
       "      <td>6</td>\n",
       "      <td>4</td>\n",
       "      <td>6</td>\n",
       "      <td>6</td>\n",
       "      <td>4</td>\n",
       "    </tr>\n",
       "    <tr>\n",
       "      <th>38</th>\n",
       "      <td>Female</td>\n",
       "      <td>17</td>\n",
       "      <td>3</td>\n",
       "      <td>7</td>\n",
       "      <td>3</td>\n",
       "      <td>3</td>\n",
       "      <td>7</td>\n",
       "    </tr>\n",
       "    <tr>\n",
       "      <th>143</th>\n",
       "      <td>Female</td>\n",
       "      <td>19</td>\n",
       "      <td>5</td>\n",
       "      <td>1</td>\n",
       "      <td>3</td>\n",
       "      <td>7</td>\n",
       "      <td>6</td>\n",
       "    </tr>\n",
       "    <tr>\n",
       "      <th>124</th>\n",
       "      <td>Male</td>\n",
       "      <td>22</td>\n",
       "      <td>5</td>\n",
       "      <td>4</td>\n",
       "      <td>7</td>\n",
       "      <td>5</td>\n",
       "      <td>3</td>\n",
       "    </tr>\n",
       "    <tr>\n",
       "      <th>...</th>\n",
       "      <td>...</td>\n",
       "      <td>...</td>\n",
       "      <td>...</td>\n",
       "      <td>...</td>\n",
       "      <td>...</td>\n",
       "      <td>...</td>\n",
       "      <td>...</td>\n",
       "    </tr>\n",
       "    <tr>\n",
       "      <th>230</th>\n",
       "      <td>Female</td>\n",
       "      <td>20</td>\n",
       "      <td>2</td>\n",
       "      <td>6</td>\n",
       "      <td>5</td>\n",
       "      <td>5</td>\n",
       "      <td>3</td>\n",
       "    </tr>\n",
       "    <tr>\n",
       "      <th>260</th>\n",
       "      <td>Female</td>\n",
       "      <td>19</td>\n",
       "      <td>6</td>\n",
       "      <td>2</td>\n",
       "      <td>3</td>\n",
       "      <td>5</td>\n",
       "      <td>4</td>\n",
       "    </tr>\n",
       "    <tr>\n",
       "      <th>224</th>\n",
       "      <td>Male</td>\n",
       "      <td>23</td>\n",
       "      <td>5</td>\n",
       "      <td>4</td>\n",
       "      <td>6</td>\n",
       "      <td>4</td>\n",
       "      <td>5</td>\n",
       "    </tr>\n",
       "    <tr>\n",
       "      <th>237</th>\n",
       "      <td>Female</td>\n",
       "      <td>19</td>\n",
       "      <td>6</td>\n",
       "      <td>8</td>\n",
       "      <td>1</td>\n",
       "      <td>3</td>\n",
       "      <td>6</td>\n",
       "    </tr>\n",
       "    <tr>\n",
       "      <th>42</th>\n",
       "      <td>Female</td>\n",
       "      <td>22</td>\n",
       "      <td>3</td>\n",
       "      <td>6</td>\n",
       "      <td>6</td>\n",
       "      <td>1</td>\n",
       "      <td>6</td>\n",
       "    </tr>\n",
       "  </tbody>\n",
       "</table>\n",
       "<p>441 rows × 7 columns</p>\n",
       "</div>"
      ],
      "text/plain": [
       "     Gender  Age  openness  neuroticism  conscientiousness  agreeableness  \\\n",
       "168  Female   19         4            7                  7              3   \n",
       "61     Male   26         6            4                  6              6   \n",
       "38   Female   17         3            7                  3              3   \n",
       "143  Female   19         5            1                  3              7   \n",
       "124    Male   22         5            4                  7              5   \n",
       "..      ...  ...       ...          ...                ...            ...   \n",
       "230  Female   20         2            6                  5              5   \n",
       "260  Female   19         6            2                  3              5   \n",
       "224    Male   23         5            4                  6              4   \n",
       "237  Female   19         6            8                  1              3   \n",
       "42   Female   22         3            6                  6              1   \n",
       "\n",
       "     extraversion  \n",
       "168             5  \n",
       "61              4  \n",
       "38              7  \n",
       "143             6  \n",
       "124             3  \n",
       "..            ...  \n",
       "230             3  \n",
       "260             4  \n",
       "224             5  \n",
       "237             6  \n",
       "42              6  \n",
       "\n",
       "[441 rows x 7 columns]"
      ]
     },
     "execution_count": 100,
     "metadata": {},
     "output_type": "execute_result"
    }
   ],
   "source": [
    "X_train"
   ]
  },
  {
   "cell_type": "code",
   "execution_count": 102,
   "id": "a2517491-f0e6-4e45-a0d5-c346404998c1",
   "metadata": {
    "tags": []
   },
   "outputs": [
    {
     "data": {
      "text/html": [
       "<div>\n",
       "<style scoped>\n",
       "    .dataframe tbody tr th:only-of-type {\n",
       "        vertical-align: middle;\n",
       "    }\n",
       "\n",
       "    .dataframe tbody tr th {\n",
       "        vertical-align: top;\n",
       "    }\n",
       "\n",
       "    .dataframe thead th {\n",
       "        text-align: right;\n",
       "    }\n",
       "</style>\n",
       "<table border=\"1\" class=\"dataframe\">\n",
       "  <thead>\n",
       "    <tr style=\"text-align: right;\">\n",
       "      <th></th>\n",
       "      <th>Personality (Class label)</th>\n",
       "    </tr>\n",
       "  </thead>\n",
       "  <tbody>\n",
       "    <tr>\n",
       "      <th>168</th>\n",
       "      <td>extraverted</td>\n",
       "    </tr>\n",
       "    <tr>\n",
       "      <th>61</th>\n",
       "      <td>serious</td>\n",
       "    </tr>\n",
       "    <tr>\n",
       "      <th>38</th>\n",
       "      <td>extraverted</td>\n",
       "    </tr>\n",
       "    <tr>\n",
       "      <th>143</th>\n",
       "      <td>serious</td>\n",
       "    </tr>\n",
       "    <tr>\n",
       "      <th>124</th>\n",
       "      <td>lively</td>\n",
       "    </tr>\n",
       "    <tr>\n",
       "      <th>...</th>\n",
       "      <td>...</td>\n",
       "    </tr>\n",
       "    <tr>\n",
       "      <th>230</th>\n",
       "      <td>extraverted</td>\n",
       "    </tr>\n",
       "    <tr>\n",
       "      <th>260</th>\n",
       "      <td>responsible</td>\n",
       "    </tr>\n",
       "    <tr>\n",
       "      <th>224</th>\n",
       "      <td>serious</td>\n",
       "    </tr>\n",
       "    <tr>\n",
       "      <th>237</th>\n",
       "      <td>extraverted</td>\n",
       "    </tr>\n",
       "    <tr>\n",
       "      <th>42</th>\n",
       "      <td>serious</td>\n",
       "    </tr>\n",
       "  </tbody>\n",
       "</table>\n",
       "<p>441 rows × 1 columns</p>\n",
       "</div>"
      ],
      "text/plain": [
       "    Personality (Class label)\n",
       "168               extraverted\n",
       "61                    serious\n",
       "38                extraverted\n",
       "143                   serious\n",
       "124                    lively\n",
       "..                        ...\n",
       "230               extraverted\n",
       "260               responsible\n",
       "224                   serious\n",
       "237               extraverted\n",
       "42                    serious\n",
       "\n",
       "[441 rows x 1 columns]"
      ]
     },
     "execution_count": 102,
     "metadata": {},
     "output_type": "execute_result"
    }
   ],
   "source": [
    "y_train"
   ]
  },
  {
   "cell_type": "code",
   "execution_count": 103,
   "id": "61203fe2-a56d-4b4b-8f53-a8cc42582a83",
   "metadata": {
    "tags": []
   },
   "outputs": [
    {
     "data": {
      "text/plain": [
       "serious        214\n",
       "extraverted    108\n",
       "responsible     56\n",
       "lively          34\n",
       "dependable      29\n",
       "Name: Personality (Class label), dtype: int64"
      ]
     },
     "execution_count": 103,
     "metadata": {},
     "output_type": "execute_result"
    }
   ],
   "source": [
    "y_train['Personality (Class label)'].value_counts() # .count()"
   ]
  },
  {
   "cell_type": "code",
   "execution_count": 111,
   "id": "0a1b89ab-0a2b-4e18-bdff-308368464a92",
   "metadata": {
    "tags": []
   },
   "outputs": [
    {
     "data": {
      "text/plain": [
       "[214, 108, 56, 34, 29]"
      ]
     },
     "execution_count": 111,
     "metadata": {},
     "output_type": "execute_result"
    }
   ],
   "source": [
    "list(y_train['Personality (Class label)'].value_counts())"
   ]
  },
  {
   "cell_type": "code",
   "execution_count": 117,
   "id": "0b66f866-4428-4a9a-bc06-080b0bb1d7d9",
   "metadata": {
    "tags": []
   },
   "outputs": [
    {
     "data": {
      "text/plain": [
       "['serious', 'extraverted', 'responsible', 'lively', 'dependable']"
      ]
     },
     "execution_count": 117,
     "metadata": {},
     "output_type": "execute_result"
    }
   ],
   "source": [
    "list(y_train['Personality (Class label)'].value_counts()._get_axis(axis=0))"
   ]
  },
  {
   "cell_type": "code",
   "execution_count": 122,
   "id": "8384617b-dd13-4e59-ad56-8cb0e12f9664",
   "metadata": {
    "tags": []
   },
   "outputs": [
    {
     "data": {
      "image/png": "[encoded data removed]",
      "text/plain": [
       "<Figure size 1000x500 with 1 Axes>"
      ]
     },
     "metadata": {},
     "output_type": "display_data"
    },
    {
     "data": {
      "image/png": "[encoded data removed]",
      "text/plain": [
       "<Figure size 1000x500 with 1 Axes>"
      ]
     },
     "metadata": {},
     "output_type": "display_data"
    }
   ],
   "source": [
    "import matplotlib.pyplot as plt\n",
    "\n",
    "for i in y_train, y_test:\n",
    "    tmp = i.value_counts() # .count()\n",
    "    fig = plt.figure(figsize = (10, 5))\n",
    "    # creating the bar plot\n",
    "    plt.bar(list(i['Personality (Class label)'].value_counts()._get_axis(axis=0)),\n",
    "            list(i['Personality (Class label)'].value_counts()), color ='maroon',\n",
    "            width = 0.4)\n",
    "\n",
    "    plt.xlabel(\"Personality Types\")\n",
    "    plt.ylabel(\"No. of people\")\n",
    "    \n",
    "    if len(i) == len(y_train):\n",
    "        plt.title(\"People of a particular personality (Train)\")\n",
    "    else:\n",
    "        plt.title(\"People of a particular personality (Test)\")\n",
    "    \n",
    "    plt.show()"
   ]
  },
  {
   "cell_type": "code",
   "execution_count": 123,
   "id": "30ff56da-803e-40e1-9727-947c2502003d",
   "metadata": {
    "tags": []
   },
   "outputs": [
    {
     "data": {
      "text/html": [
       "<div>\n",
       "<style scoped>\n",
       "    .dataframe tbody tr th:only-of-type {\n",
       "        vertical-align: middle;\n",
       "    }\n",
       "\n",
       "    .dataframe tbody tr th {\n",
       "        vertical-align: top;\n",
       "    }\n",
       "\n",
       "    .dataframe thead th {\n",
       "        text-align: right;\n",
       "    }\n",
       "</style>\n",
       "<table border=\"1\" class=\"dataframe\">\n",
       "  <thead>\n",
       "    <tr style=\"text-align: right;\">\n",
       "      <th></th>\n",
       "      <th>Gender</th>\n",
       "      <th>Age</th>\n",
       "      <th>openness</th>\n",
       "      <th>neuroticism</th>\n",
       "      <th>conscientiousness</th>\n",
       "      <th>agreeableness</th>\n",
       "      <th>extraversion</th>\n",
       "    </tr>\n",
       "  </thead>\n",
       "  <tbody>\n",
       "    <tr>\n",
       "      <th>168</th>\n",
       "      <td>Female</td>\n",
       "      <td>19</td>\n",
       "      <td>4</td>\n",
       "      <td>7</td>\n",
       "      <td>7</td>\n",
       "      <td>3</td>\n",
       "      <td>5</td>\n",
       "    </tr>\n",
       "    <tr>\n",
       "      <th>61</th>\n",
       "      <td>Male</td>\n",
       "      <td>26</td>\n",
       "      <td>6</td>\n",
       "      <td>4</td>\n",
       "      <td>6</td>\n",
       "      <td>6</td>\n",
       "      <td>4</td>\n",
       "    </tr>\n",
       "    <tr>\n",
       "      <th>38</th>\n",
       "      <td>Female</td>\n",
       "      <td>17</td>\n",
       "      <td>3</td>\n",
       "      <td>7</td>\n",
       "      <td>3</td>\n",
       "      <td>3</td>\n",
       "      <td>7</td>\n",
       "    </tr>\n",
       "    <tr>\n",
       "      <th>143</th>\n",
       "      <td>Female</td>\n",
       "      <td>19</td>\n",
       "      <td>5</td>\n",
       "      <td>1</td>\n",
       "      <td>3</td>\n",
       "      <td>7</td>\n",
       "      <td>6</td>\n",
       "    </tr>\n",
       "    <tr>\n",
       "      <th>124</th>\n",
       "      <td>Male</td>\n",
       "      <td>22</td>\n",
       "      <td>5</td>\n",
       "      <td>4</td>\n",
       "      <td>7</td>\n",
       "      <td>5</td>\n",
       "      <td>3</td>\n",
       "    </tr>\n",
       "    <tr>\n",
       "      <th>...</th>\n",
       "      <td>...</td>\n",
       "      <td>...</td>\n",
       "      <td>...</td>\n",
       "      <td>...</td>\n",
       "      <td>...</td>\n",
       "      <td>...</td>\n",
       "      <td>...</td>\n",
       "    </tr>\n",
       "    <tr>\n",
       "      <th>230</th>\n",
       "      <td>Female</td>\n",
       "      <td>20</td>\n",
       "      <td>2</td>\n",
       "      <td>6</td>\n",
       "      <td>5</td>\n",
       "      <td>5</td>\n",
       "      <td>3</td>\n",
       "    </tr>\n",
       "    <tr>\n",
       "      <th>260</th>\n",
       "      <td>Female</td>\n",
       "      <td>19</td>\n",
       "      <td>6</td>\n",
       "      <td>2</td>\n",
       "      <td>3</td>\n",
       "      <td>5</td>\n",
       "      <td>4</td>\n",
       "    </tr>\n",
       "    <tr>\n",
       "      <th>224</th>\n",
       "      <td>Male</td>\n",
       "      <td>23</td>\n",
       "      <td>5</td>\n",
       "      <td>4</td>\n",
       "      <td>6</td>\n",
       "      <td>4</td>\n",
       "      <td>5</td>\n",
       "    </tr>\n",
       "    <tr>\n",
       "      <th>237</th>\n",
       "      <td>Female</td>\n",
       "      <td>19</td>\n",
       "      <td>6</td>\n",
       "      <td>8</td>\n",
       "      <td>1</td>\n",
       "      <td>3</td>\n",
       "      <td>6</td>\n",
       "    </tr>\n",
       "    <tr>\n",
       "      <th>42</th>\n",
       "      <td>Female</td>\n",
       "      <td>22</td>\n",
       "      <td>3</td>\n",
       "      <td>6</td>\n",
       "      <td>6</td>\n",
       "      <td>1</td>\n",
       "      <td>6</td>\n",
       "    </tr>\n",
       "  </tbody>\n",
       "</table>\n",
       "<p>441 rows × 7 columns</p>\n",
       "</div>"
      ],
      "text/plain": [
       "     Gender  Age  openness  neuroticism  conscientiousness  agreeableness  \\\n",
       "168  Female   19         4            7                  7              3   \n",
       "61     Male   26         6            4                  6              6   \n",
       "38   Female   17         3            7                  3              3   \n",
       "143  Female   19         5            1                  3              7   \n",
       "124    Male   22         5            4                  7              5   \n",
       "..      ...  ...       ...          ...                ...            ...   \n",
       "230  Female   20         2            6                  5              5   \n",
       "260  Female   19         6            2                  3              5   \n",
       "224    Male   23         5            4                  6              4   \n",
       "237  Female   19         6            8                  1              3   \n",
       "42   Female   22         3            6                  6              1   \n",
       "\n",
       "     extraversion  \n",
       "168             5  \n",
       "61              4  \n",
       "38              7  \n",
       "143             6  \n",
       "124             3  \n",
       "..            ...  \n",
       "230             3  \n",
       "260             4  \n",
       "224             5  \n",
       "237             6  \n",
       "42              6  \n",
       "\n",
       "[441 rows x 7 columns]"
      ]
     },
     "execution_count": 123,
     "metadata": {},
     "output_type": "execute_result"
    }
   ],
   "source": [
    "X_train"
   ]
  },
  {
   "cell_type": "code",
   "execution_count": 129,
   "id": "13817edc-aa54-4549-988b-36bd4b96aff0",
   "metadata": {
    "tags": []
   },
   "outputs": [
    {
     "data": {
      "text/plain": [
       "Male      318\n",
       "Female    312\n",
       "Name: Gender, dtype: int64"
      ]
     },
     "execution_count": 129,
     "metadata": {},
     "output_type": "execute_result"
    }
   ],
   "source": [
    "df['Gender'].value_counts()"
   ]
  },
  {
   "cell_type": "code",
   "execution_count": 130,
   "id": "e957e8b9-c7f5-4a89-90a5-e15f0ea3f078",
   "metadata": {
    "tags": []
   },
   "outputs": [
    {
     "data": {
      "text/plain": [
       "Index(['Gender', 'Age', 'openness', 'neuroticism', 'conscientiousness',\n",
       "       'agreeableness', 'extraversion', 'Personality (Class label)'],\n",
       "      dtype='object')"
      ]
     },
     "execution_count": 130,
     "metadata": {},
     "output_type": "execute_result"
    }
   ],
   "source": [
    "df.columns"
   ]
  },
  {
   "cell_type": "code",
   "execution_count": 135,
   "id": "580630ab-3ada-4555-a0d8-4ecaf37dea6c",
   "metadata": {
    "tags": []
   },
   "outputs": [],
   "source": [
    "male_df = df[df['Gender'] == 'Male']"
   ]
  },
  {
   "cell_type": "code",
   "execution_count": 136,
   "id": "021c0a09-11d5-41f5-adfa-240324239e6b",
   "metadata": {
    "tags": []
   },
   "outputs": [
    {
     "data": {
      "text/html": [
       "<div>\n",
       "<style scoped>\n",
       "    .dataframe tbody tr th:only-of-type {\n",
       "        vertical-align: middle;\n",
       "    }\n",
       "\n",
       "    .dataframe tbody tr th {\n",
       "        vertical-align: top;\n",
       "    }\n",
       "\n",
       "    .dataframe thead th {\n",
       "        text-align: right;\n",
       "    }\n",
       "</style>\n",
       "<table border=\"1\" class=\"dataframe\">\n",
       "  <thead>\n",
       "    <tr style=\"text-align: right;\">\n",
       "      <th></th>\n",
       "      <th>Gender</th>\n",
       "      <th>Age</th>\n",
       "      <th>openness</th>\n",
       "      <th>neuroticism</th>\n",
       "      <th>conscientiousness</th>\n",
       "      <th>agreeableness</th>\n",
       "      <th>extraversion</th>\n",
       "      <th>Personality (Class label)</th>\n",
       "    </tr>\n",
       "  </thead>\n",
       "  <tbody>\n",
       "    <tr>\n",
       "      <th>1</th>\n",
       "      <td>Male</td>\n",
       "      <td>17</td>\n",
       "      <td>5</td>\n",
       "      <td>4</td>\n",
       "      <td>5</td>\n",
       "      <td>2</td>\n",
       "      <td>4</td>\n",
       "      <td>serious</td>\n",
       "    </tr>\n",
       "    <tr>\n",
       "      <th>7</th>\n",
       "      <td>Male</td>\n",
       "      <td>27</td>\n",
       "      <td>4</td>\n",
       "      <td>5</td>\n",
       "      <td>7</td>\n",
       "      <td>4</td>\n",
       "      <td>4</td>\n",
       "      <td>serious</td>\n",
       "    </tr>\n",
       "    <tr>\n",
       "      <th>8</th>\n",
       "      <td>Male</td>\n",
       "      <td>20</td>\n",
       "      <td>6</td>\n",
       "      <td>4</td>\n",
       "      <td>5</td>\n",
       "      <td>6</td>\n",
       "      <td>6</td>\n",
       "      <td>serious</td>\n",
       "    </tr>\n",
       "    <tr>\n",
       "      <th>9</th>\n",
       "      <td>Male</td>\n",
       "      <td>21</td>\n",
       "      <td>5</td>\n",
       "      <td>4</td>\n",
       "      <td>4</td>\n",
       "      <td>6</td>\n",
       "      <td>4</td>\n",
       "      <td>serious</td>\n",
       "    </tr>\n",
       "    <tr>\n",
       "      <th>10</th>\n",
       "      <td>Male</td>\n",
       "      <td>20</td>\n",
       "      <td>6</td>\n",
       "      <td>1</td>\n",
       "      <td>7</td>\n",
       "      <td>6</td>\n",
       "      <td>5</td>\n",
       "      <td>serious</td>\n",
       "    </tr>\n",
       "    <tr>\n",
       "      <th>...</th>\n",
       "      <td>...</td>\n",
       "      <td>...</td>\n",
       "      <td>...</td>\n",
       "      <td>...</td>\n",
       "      <td>...</td>\n",
       "      <td>...</td>\n",
       "      <td>...</td>\n",
       "      <td>...</td>\n",
       "    </tr>\n",
       "    <tr>\n",
       "      <th>308</th>\n",
       "      <td>Male</td>\n",
       "      <td>18</td>\n",
       "      <td>3</td>\n",
       "      <td>3</td>\n",
       "      <td>6</td>\n",
       "      <td>5</td>\n",
       "      <td>5</td>\n",
       "      <td>serious</td>\n",
       "    </tr>\n",
       "    <tr>\n",
       "      <th>309</th>\n",
       "      <td>Male</td>\n",
       "      <td>22</td>\n",
       "      <td>4</td>\n",
       "      <td>4</td>\n",
       "      <td>7</td>\n",
       "      <td>5</td>\n",
       "      <td>6</td>\n",
       "      <td>serious</td>\n",
       "    </tr>\n",
       "    <tr>\n",
       "      <th>311</th>\n",
       "      <td>Male</td>\n",
       "      <td>18</td>\n",
       "      <td>2</td>\n",
       "      <td>5</td>\n",
       "      <td>8</td>\n",
       "      <td>3</td>\n",
       "      <td>7</td>\n",
       "      <td>dependable</td>\n",
       "    </tr>\n",
       "    <tr>\n",
       "      <th>312</th>\n",
       "      <td>Male</td>\n",
       "      <td>18</td>\n",
       "      <td>7</td>\n",
       "      <td>5</td>\n",
       "      <td>6</td>\n",
       "      <td>2</td>\n",
       "      <td>7</td>\n",
       "      <td>serious</td>\n",
       "    </tr>\n",
       "    <tr>\n",
       "      <th>313</th>\n",
       "      <td>Male</td>\n",
       "      <td>23</td>\n",
       "      <td>6</td>\n",
       "      <td>7</td>\n",
       "      <td>5</td>\n",
       "      <td>4</td>\n",
       "      <td>3</td>\n",
       "      <td>extraverted</td>\n",
       "    </tr>\n",
       "  </tbody>\n",
       "</table>\n",
       "<p>318 rows × 8 columns</p>\n",
       "</div>"
      ],
      "text/plain": [
       "    Gender  Age  openness  neuroticism  conscientiousness  agreeableness  \\\n",
       "1     Male   17         5            4                  5              2   \n",
       "7     Male   27         4            5                  7              4   \n",
       "8     Male   20         6            4                  5              6   \n",
       "9     Male   21         5            4                  4              6   \n",
       "10    Male   20         6            1                  7              6   \n",
       "..     ...  ...       ...          ...                ...            ...   \n",
       "308   Male   18         3            3                  6              5   \n",
       "309   Male   22         4            4                  7              5   \n",
       "311   Male   18         2            5                  8              3   \n",
       "312   Male   18         7            5                  6              2   \n",
       "313   Male   23         6            7                  5              4   \n",
       "\n",
       "     extraversion Personality (Class label)  \n",
       "1               4                   serious  \n",
       "7               4                   serious  \n",
       "8               6                   serious  \n",
       "9               4                   serious  \n",
       "10              5                   serious  \n",
       "..            ...                       ...  \n",
       "308             5                   serious  \n",
       "309             6                   serious  \n",
       "311             7                dependable  \n",
       "312             7                   serious  \n",
       "313             3               extraverted  \n",
       "\n",
       "[318 rows x 8 columns]"
      ]
     },
     "execution_count": 136,
     "metadata": {},
     "output_type": "execute_result"
    }
   ],
   "source": [
    "male_df"
   ]
  },
  {
   "cell_type": "code",
   "execution_count": 137,
   "id": "5ad8b9d7-2b6a-4851-bef8-eb4b43f1ecd3",
   "metadata": {
    "tags": []
   },
   "outputs": [
    {
     "data": {
      "text/html": [
       "<div>\n",
       "<style scoped>\n",
       "    .dataframe tbody tr th:only-of-type {\n",
       "        vertical-align: middle;\n",
       "    }\n",
       "\n",
       "    .dataframe tbody tr th {\n",
       "        vertical-align: top;\n",
       "    }\n",
       "\n",
       "    .dataframe thead th {\n",
       "        text-align: right;\n",
       "    }\n",
       "</style>\n",
       "<table border=\"1\" class=\"dataframe\">\n",
       "  <thead>\n",
       "    <tr style=\"text-align: right;\">\n",
       "      <th></th>\n",
       "      <th>Gender</th>\n",
       "      <th>Age</th>\n",
       "      <th>openness</th>\n",
       "      <th>neuroticism</th>\n",
       "      <th>conscientiousness</th>\n",
       "      <th>agreeableness</th>\n",
       "      <th>extraversion</th>\n",
       "      <th>Personality (Class label)</th>\n",
       "    </tr>\n",
       "  </thead>\n",
       "  <tbody>\n",
       "    <tr>\n",
       "      <th>0</th>\n",
       "      <td>Female</td>\n",
       "      <td>20</td>\n",
       "      <td>7</td>\n",
       "      <td>9</td>\n",
       "      <td>9</td>\n",
       "      <td>5</td>\n",
       "      <td>5</td>\n",
       "      <td>dependable</td>\n",
       "    </tr>\n",
       "    <tr>\n",
       "      <th>2</th>\n",
       "      <td>Female</td>\n",
       "      <td>25</td>\n",
       "      <td>5</td>\n",
       "      <td>5</td>\n",
       "      <td>7</td>\n",
       "      <td>2</td>\n",
       "      <td>4</td>\n",
       "      <td>serious</td>\n",
       "    </tr>\n",
       "    <tr>\n",
       "      <th>3</th>\n",
       "      <td>Female</td>\n",
       "      <td>18</td>\n",
       "      <td>6</td>\n",
       "      <td>2</td>\n",
       "      <td>7</td>\n",
       "      <td>4</td>\n",
       "      <td>7</td>\n",
       "      <td>serious</td>\n",
       "    </tr>\n",
       "    <tr>\n",
       "      <th>4</th>\n",
       "      <td>Female</td>\n",
       "      <td>19</td>\n",
       "      <td>2</td>\n",
       "      <td>4</td>\n",
       "      <td>7</td>\n",
       "      <td>1</td>\n",
       "      <td>3</td>\n",
       "      <td>responsible</td>\n",
       "    </tr>\n",
       "    <tr>\n",
       "      <th>5</th>\n",
       "      <td>Female</td>\n",
       "      <td>19</td>\n",
       "      <td>6</td>\n",
       "      <td>4</td>\n",
       "      <td>7</td>\n",
       "      <td>5</td>\n",
       "      <td>5</td>\n",
       "      <td>serious</td>\n",
       "    </tr>\n",
       "    <tr>\n",
       "      <th>...</th>\n",
       "      <td>...</td>\n",
       "      <td>...</td>\n",
       "      <td>...</td>\n",
       "      <td>...</td>\n",
       "      <td>...</td>\n",
       "      <td>...</td>\n",
       "      <td>...</td>\n",
       "      <td>...</td>\n",
       "    </tr>\n",
       "    <tr>\n",
       "      <th>304</th>\n",
       "      <td>Female</td>\n",
       "      <td>19</td>\n",
       "      <td>6</td>\n",
       "      <td>3</td>\n",
       "      <td>2</td>\n",
       "      <td>4</td>\n",
       "      <td>8</td>\n",
       "      <td>serious</td>\n",
       "    </tr>\n",
       "    <tr>\n",
       "      <th>305</th>\n",
       "      <td>Female</td>\n",
       "      <td>19</td>\n",
       "      <td>4</td>\n",
       "      <td>5</td>\n",
       "      <td>6</td>\n",
       "      <td>5</td>\n",
       "      <td>5</td>\n",
       "      <td>serious</td>\n",
       "    </tr>\n",
       "    <tr>\n",
       "      <th>306</th>\n",
       "      <td>Female</td>\n",
       "      <td>17</td>\n",
       "      <td>6</td>\n",
       "      <td>3</td>\n",
       "      <td>6</td>\n",
       "      <td>4</td>\n",
       "      <td>6</td>\n",
       "      <td>serious</td>\n",
       "    </tr>\n",
       "    <tr>\n",
       "      <th>310</th>\n",
       "      <td>Female</td>\n",
       "      <td>19</td>\n",
       "      <td>6</td>\n",
       "      <td>5</td>\n",
       "      <td>6</td>\n",
       "      <td>4</td>\n",
       "      <td>3</td>\n",
       "      <td>extraverted</td>\n",
       "    </tr>\n",
       "    <tr>\n",
       "      <th>314</th>\n",
       "      <td>Female</td>\n",
       "      <td>18</td>\n",
       "      <td>5</td>\n",
       "      <td>7</td>\n",
       "      <td>3</td>\n",
       "      <td>5</td>\n",
       "      <td>6</td>\n",
       "      <td>extraverted</td>\n",
       "    </tr>\n",
       "  </tbody>\n",
       "</table>\n",
       "<p>312 rows × 8 columns</p>\n",
       "</div>"
      ],
      "text/plain": [
       "     Gender  Age  openness  neuroticism  conscientiousness  agreeableness  \\\n",
       "0    Female   20         7            9                  9              5   \n",
       "2    Female   25         5            5                  7              2   \n",
       "3    Female   18         6            2                  7              4   \n",
       "4    Female   19         2            4                  7              1   \n",
       "5    Female   19         6            4                  7              5   \n",
       "..      ...  ...       ...          ...                ...            ...   \n",
       "304  Female   19         6            3                  2              4   \n",
       "305  Female   19         4            5                  6              5   \n",
       "306  Female   17         6            3                  6              4   \n",
       "310  Female   19         6            5                  6              4   \n",
       "314  Female   18         5            7                  3              5   \n",
       "\n",
       "     extraversion Personality (Class label)  \n",
       "0               5                dependable  \n",
       "2               4                   serious  \n",
       "3               7                   serious  \n",
       "4               3               responsible  \n",
       "5               5                   serious  \n",
       "..            ...                       ...  \n",
       "304             8                   serious  \n",
       "305             5                   serious  \n",
       "306             6                   serious  \n",
       "310             3               extraverted  \n",
       "314             6               extraverted  \n",
       "\n",
       "[312 rows x 8 columns]"
      ]
     },
     "execution_count": 137,
     "metadata": {},
     "output_type": "execute_result"
    }
   ],
   "source": [
    "female_df = df[df['Gender'] == 'Female']\n",
    "female_df"
   ]
  },
  {
   "cell_type": "code",
   "execution_count": 147,
   "id": "61b33227-abe3-4c17-bda7-47b675555dc5",
   "metadata": {
    "tags": []
   },
   "outputs": [],
   "source": [
    "# getting all the columns\n",
    "cols = set(male_df.columns)\n",
    " \n",
    "# removing the desired column\n",
    "cols.remove('Personality (Class label)')\n",
    "cols.remove('Gender')\n",
    "cols = list(cols)\n",
    "X_male = male_df[cols]\n",
    "y_male = male_df.loc[:, male_df.columns=='Personality (Class label)']"
   ]
  },
  {
   "cell_type": "code",
   "execution_count": 148,
   "id": "2f9c0bfb-10bb-4226-a6fc-8ec4ad5381b6",
   "metadata": {
    "tags": []
   },
   "outputs": [
    {
     "data": {
      "text/html": [
       "<div>\n",
       "<style scoped>\n",
       "    .dataframe tbody tr th:only-of-type {\n",
       "        vertical-align: middle;\n",
       "    }\n",
       "\n",
       "    .dataframe tbody tr th {\n",
       "        vertical-align: top;\n",
       "    }\n",
       "\n",
       "    .dataframe thead th {\n",
       "        text-align: right;\n",
       "    }\n",
       "</style>\n",
       "<table border=\"1\" class=\"dataframe\">\n",
       "  <thead>\n",
       "    <tr style=\"text-align: right;\">\n",
       "      <th></th>\n",
       "      <th>agreeableness</th>\n",
       "      <th>neuroticism</th>\n",
       "      <th>conscientiousness</th>\n",
       "      <th>extraversion</th>\n",
       "      <th>Age</th>\n",
       "      <th>openness</th>\n",
       "    </tr>\n",
       "  </thead>\n",
       "  <tbody>\n",
       "    <tr>\n",
       "      <th>1</th>\n",
       "      <td>2</td>\n",
       "      <td>4</td>\n",
       "      <td>5</td>\n",
       "      <td>4</td>\n",
       "      <td>17</td>\n",
       "      <td>5</td>\n",
       "    </tr>\n",
       "    <tr>\n",
       "      <th>7</th>\n",
       "      <td>4</td>\n",
       "      <td>5</td>\n",
       "      <td>7</td>\n",
       "      <td>4</td>\n",
       "      <td>27</td>\n",
       "      <td>4</td>\n",
       "    </tr>\n",
       "    <tr>\n",
       "      <th>8</th>\n",
       "      <td>6</td>\n",
       "      <td>4</td>\n",
       "      <td>5</td>\n",
       "      <td>6</td>\n",
       "      <td>20</td>\n",
       "      <td>6</td>\n",
       "    </tr>\n",
       "    <tr>\n",
       "      <th>9</th>\n",
       "      <td>6</td>\n",
       "      <td>4</td>\n",
       "      <td>4</td>\n",
       "      <td>4</td>\n",
       "      <td>21</td>\n",
       "      <td>5</td>\n",
       "    </tr>\n",
       "    <tr>\n",
       "      <th>10</th>\n",
       "      <td>6</td>\n",
       "      <td>1</td>\n",
       "      <td>7</td>\n",
       "      <td>5</td>\n",
       "      <td>20</td>\n",
       "      <td>6</td>\n",
       "    </tr>\n",
       "    <tr>\n",
       "      <th>...</th>\n",
       "      <td>...</td>\n",
       "      <td>...</td>\n",
       "      <td>...</td>\n",
       "      <td>...</td>\n",
       "      <td>...</td>\n",
       "      <td>...</td>\n",
       "    </tr>\n",
       "    <tr>\n",
       "      <th>308</th>\n",
       "      <td>5</td>\n",
       "      <td>3</td>\n",
       "      <td>6</td>\n",
       "      <td>5</td>\n",
       "      <td>18</td>\n",
       "      <td>3</td>\n",
       "    </tr>\n",
       "    <tr>\n",
       "      <th>309</th>\n",
       "      <td>5</td>\n",
       "      <td>4</td>\n",
       "      <td>7</td>\n",
       "      <td>6</td>\n",
       "      <td>22</td>\n",
       "      <td>4</td>\n",
       "    </tr>\n",
       "    <tr>\n",
       "      <th>311</th>\n",
       "      <td>3</td>\n",
       "      <td>5</td>\n",
       "      <td>8</td>\n",
       "      <td>7</td>\n",
       "      <td>18</td>\n",
       "      <td>2</td>\n",
       "    </tr>\n",
       "    <tr>\n",
       "      <th>312</th>\n",
       "      <td>2</td>\n",
       "      <td>5</td>\n",
       "      <td>6</td>\n",
       "      <td>7</td>\n",
       "      <td>18</td>\n",
       "      <td>7</td>\n",
       "    </tr>\n",
       "    <tr>\n",
       "      <th>313</th>\n",
       "      <td>4</td>\n",
       "      <td>7</td>\n",
       "      <td>5</td>\n",
       "      <td>3</td>\n",
       "      <td>23</td>\n",
       "      <td>6</td>\n",
       "    </tr>\n",
       "  </tbody>\n",
       "</table>\n",
       "<p>318 rows × 6 columns</p>\n",
       "</div>"
      ],
      "text/plain": [
       "     agreeableness  neuroticism  conscientiousness  extraversion  Age  \\\n",
       "1                2            4                  5             4   17   \n",
       "7                4            5                  7             4   27   \n",
       "8                6            4                  5             6   20   \n",
       "9                6            4                  4             4   21   \n",
       "10               6            1                  7             5   20   \n",
       "..             ...          ...                ...           ...  ...   \n",
       "308              5            3                  6             5   18   \n",
       "309              5            4                  7             6   22   \n",
       "311              3            5                  8             7   18   \n",
       "312              2            5                  6             7   18   \n",
       "313              4            7                  5             3   23   \n",
       "\n",
       "     openness  \n",
       "1           5  \n",
       "7           4  \n",
       "8           6  \n",
       "9           5  \n",
       "10          6  \n",
       "..        ...  \n",
       "308         3  \n",
       "309         4  \n",
       "311         2  \n",
       "312         7  \n",
       "313         6  \n",
       "\n",
       "[318 rows x 6 columns]"
      ]
     },
     "execution_count": 148,
     "metadata": {},
     "output_type": "execute_result"
    }
   ],
   "source": [
    "X_male"
   ]
  },
  {
   "cell_type": "code",
   "execution_count": 149,
   "id": "d55f1a18-6840-4bc1-bfa1-95cc01f19825",
   "metadata": {
    "tags": []
   },
   "outputs": [
    {
     "data": {
      "text/html": [
       "<div>\n",
       "<style scoped>\n",
       "    .dataframe tbody tr th:only-of-type {\n",
       "        vertical-align: middle;\n",
       "    }\n",
       "\n",
       "    .dataframe tbody tr th {\n",
       "        vertical-align: top;\n",
       "    }\n",
       "\n",
       "    .dataframe thead th {\n",
       "        text-align: right;\n",
       "    }\n",
       "</style>\n",
       "<table border=\"1\" class=\"dataframe\">\n",
       "  <thead>\n",
       "    <tr style=\"text-align: right;\">\n",
       "      <th></th>\n",
       "      <th>Personality (Class label)</th>\n",
       "    </tr>\n",
       "  </thead>\n",
       "  <tbody>\n",
       "    <tr>\n",
       "      <th>1</th>\n",
       "      <td>serious</td>\n",
       "    </tr>\n",
       "    <tr>\n",
       "      <th>7</th>\n",
       "      <td>serious</td>\n",
       "    </tr>\n",
       "    <tr>\n",
       "      <th>8</th>\n",
       "      <td>serious</td>\n",
       "    </tr>\n",
       "    <tr>\n",
       "      <th>9</th>\n",
       "      <td>serious</td>\n",
       "    </tr>\n",
       "    <tr>\n",
       "      <th>10</th>\n",
       "      <td>serious</td>\n",
       "    </tr>\n",
       "    <tr>\n",
       "      <th>...</th>\n",
       "      <td>...</td>\n",
       "    </tr>\n",
       "    <tr>\n",
       "      <th>308</th>\n",
       "      <td>serious</td>\n",
       "    </tr>\n",
       "    <tr>\n",
       "      <th>309</th>\n",
       "      <td>serious</td>\n",
       "    </tr>\n",
       "    <tr>\n",
       "      <th>311</th>\n",
       "      <td>dependable</td>\n",
       "    </tr>\n",
       "    <tr>\n",
       "      <th>312</th>\n",
       "      <td>serious</td>\n",
       "    </tr>\n",
       "    <tr>\n",
       "      <th>313</th>\n",
       "      <td>extraverted</td>\n",
       "    </tr>\n",
       "  </tbody>\n",
       "</table>\n",
       "<p>318 rows × 1 columns</p>\n",
       "</div>"
      ],
      "text/plain": [
       "    Personality (Class label)\n",
       "1                     serious\n",
       "7                     serious\n",
       "8                     serious\n",
       "9                     serious\n",
       "10                    serious\n",
       "..                        ...\n",
       "308                   serious\n",
       "309                   serious\n",
       "311                dependable\n",
       "312                   serious\n",
       "313               extraverted\n",
       "\n",
       "[318 rows x 1 columns]"
      ]
     },
     "execution_count": 149,
     "metadata": {},
     "output_type": "execute_result"
    }
   ],
   "source": [
    "y_male"
   ]
  },
  {
   "cell_type": "code",
   "execution_count": 150,
   "id": "f929a1b6-21e1-4831-8829-92cb3abcef58",
   "metadata": {
    "tags": []
   },
   "outputs": [],
   "source": [
    "X_train, X_test, y_train, y_test = train_test_split(X_male, y_male,\n",
    "                                                    stratify=y_male, \n",
    "                                                    test_size=0.30)"
   ]
  },
  {
   "cell_type": "code",
   "execution_count": 151,
   "id": "0d265d6f-ce45-4606-be69-8278c18691cb",
   "metadata": {
    "tags": []
   },
   "outputs": [
    {
     "data": {
      "text/html": [
       "<div>\n",
       "<style scoped>\n",
       "    .dataframe tbody tr th:only-of-type {\n",
       "        vertical-align: middle;\n",
       "    }\n",
       "\n",
       "    .dataframe tbody tr th {\n",
       "        vertical-align: top;\n",
       "    }\n",
       "\n",
       "    .dataframe thead th {\n",
       "        text-align: right;\n",
       "    }\n",
       "</style>\n",
       "<table border=\"1\" class=\"dataframe\">\n",
       "  <thead>\n",
       "    <tr style=\"text-align: right;\">\n",
       "      <th></th>\n",
       "      <th>agreeableness</th>\n",
       "      <th>neuroticism</th>\n",
       "      <th>conscientiousness</th>\n",
       "      <th>extraversion</th>\n",
       "      <th>Age</th>\n",
       "      <th>openness</th>\n",
       "    </tr>\n",
       "  </thead>\n",
       "  <tbody>\n",
       "    <tr>\n",
       "      <th>109</th>\n",
       "      <td>6</td>\n",
       "      <td>4</td>\n",
       "      <td>3</td>\n",
       "      <td>5</td>\n",
       "      <td>19</td>\n",
       "      <td>3</td>\n",
       "    </tr>\n",
       "    <tr>\n",
       "      <th>36</th>\n",
       "      <td>5</td>\n",
       "      <td>4</td>\n",
       "      <td>5</td>\n",
       "      <td>6</td>\n",
       "      <td>19</td>\n",
       "      <td>2</td>\n",
       "    </tr>\n",
       "    <tr>\n",
       "      <th>212</th>\n",
       "      <td>1</td>\n",
       "      <td>7</td>\n",
       "      <td>3</td>\n",
       "      <td>5</td>\n",
       "      <td>24</td>\n",
       "      <td>6</td>\n",
       "    </tr>\n",
       "    <tr>\n",
       "      <th>212</th>\n",
       "      <td>1</td>\n",
       "      <td>7</td>\n",
       "      <td>3</td>\n",
       "      <td>5</td>\n",
       "      <td>24</td>\n",
       "      <td>6</td>\n",
       "    </tr>\n",
       "    <tr>\n",
       "      <th>232</th>\n",
       "      <td>6</td>\n",
       "      <td>7</td>\n",
       "      <td>6</td>\n",
       "      <td>7</td>\n",
       "      <td>22</td>\n",
       "      <td>3</td>\n",
       "    </tr>\n",
       "    <tr>\n",
       "      <th>...</th>\n",
       "      <td>...</td>\n",
       "      <td>...</td>\n",
       "      <td>...</td>\n",
       "      <td>...</td>\n",
       "      <td>...</td>\n",
       "      <td>...</td>\n",
       "    </tr>\n",
       "    <tr>\n",
       "      <th>223</th>\n",
       "      <td>3</td>\n",
       "      <td>5</td>\n",
       "      <td>5</td>\n",
       "      <td>7</td>\n",
       "      <td>19</td>\n",
       "      <td>2</td>\n",
       "    </tr>\n",
       "    <tr>\n",
       "      <th>26</th>\n",
       "      <td>5</td>\n",
       "      <td>6</td>\n",
       "      <td>3</td>\n",
       "      <td>4</td>\n",
       "      <td>17</td>\n",
       "      <td>4</td>\n",
       "    </tr>\n",
       "    <tr>\n",
       "      <th>126</th>\n",
       "      <td>7</td>\n",
       "      <td>1</td>\n",
       "      <td>3</td>\n",
       "      <td>5</td>\n",
       "      <td>20</td>\n",
       "      <td>6</td>\n",
       "    </tr>\n",
       "    <tr>\n",
       "      <th>240</th>\n",
       "      <td>5</td>\n",
       "      <td>5</td>\n",
       "      <td>7</td>\n",
       "      <td>5</td>\n",
       "      <td>18</td>\n",
       "      <td>7</td>\n",
       "    </tr>\n",
       "    <tr>\n",
       "      <th>66</th>\n",
       "      <td>7</td>\n",
       "      <td>4</td>\n",
       "      <td>6</td>\n",
       "      <td>5</td>\n",
       "      <td>19</td>\n",
       "      <td>1</td>\n",
       "    </tr>\n",
       "  </tbody>\n",
       "</table>\n",
       "<p>222 rows × 6 columns</p>\n",
       "</div>"
      ],
      "text/plain": [
       "     agreeableness  neuroticism  conscientiousness  extraversion  Age  \\\n",
       "109              6            4                  3             5   19   \n",
       "36               5            4                  5             6   19   \n",
       "212              1            7                  3             5   24   \n",
       "212              1            7                  3             5   24   \n",
       "232              6            7                  6             7   22   \n",
       "..             ...          ...                ...           ...  ...   \n",
       "223              3            5                  5             7   19   \n",
       "26               5            6                  3             4   17   \n",
       "126              7            1                  3             5   20   \n",
       "240              5            5                  7             5   18   \n",
       "66               7            4                  6             5   19   \n",
       "\n",
       "     openness  \n",
       "109         3  \n",
       "36          2  \n",
       "212         6  \n",
       "212         6  \n",
       "232         3  \n",
       "..        ...  \n",
       "223         2  \n",
       "26          4  \n",
       "126         6  \n",
       "240         7  \n",
       "66          1  \n",
       "\n",
       "[222 rows x 6 columns]"
      ]
     },
     "execution_count": 151,
     "metadata": {},
     "output_type": "execute_result"
    }
   ],
   "source": [
    "X_train"
   ]
  },
  {
   "cell_type": "code",
   "execution_count": 152,
   "id": "71e3f84f-f629-44cd-a4d4-38ea9e127f56",
   "metadata": {
    "tags": []
   },
   "outputs": [
    {
     "data": {
      "text/html": [
       "<div>\n",
       "<style scoped>\n",
       "    .dataframe tbody tr th:only-of-type {\n",
       "        vertical-align: middle;\n",
       "    }\n",
       "\n",
       "    .dataframe tbody tr th {\n",
       "        vertical-align: top;\n",
       "    }\n",
       "\n",
       "    .dataframe thead th {\n",
       "        text-align: right;\n",
       "    }\n",
       "</style>\n",
       "<table border=\"1\" class=\"dataframe\">\n",
       "  <thead>\n",
       "    <tr style=\"text-align: right;\">\n",
       "      <th></th>\n",
       "      <th>Personality (Class label)</th>\n",
       "    </tr>\n",
       "  </thead>\n",
       "  <tbody>\n",
       "    <tr>\n",
       "      <th>109</th>\n",
       "      <td>serious</td>\n",
       "    </tr>\n",
       "    <tr>\n",
       "      <th>36</th>\n",
       "      <td>serious</td>\n",
       "    </tr>\n",
       "    <tr>\n",
       "      <th>212</th>\n",
       "      <td>extraverted</td>\n",
       "    </tr>\n",
       "    <tr>\n",
       "      <th>212</th>\n",
       "      <td>extraverted</td>\n",
       "    </tr>\n",
       "    <tr>\n",
       "      <th>232</th>\n",
       "      <td>serious</td>\n",
       "    </tr>\n",
       "    <tr>\n",
       "      <th>...</th>\n",
       "      <td>...</td>\n",
       "    </tr>\n",
       "    <tr>\n",
       "      <th>223</th>\n",
       "      <td>serious</td>\n",
       "    </tr>\n",
       "    <tr>\n",
       "      <th>26</th>\n",
       "      <td>extraverted</td>\n",
       "    </tr>\n",
       "    <tr>\n",
       "      <th>126</th>\n",
       "      <td>serious</td>\n",
       "    </tr>\n",
       "    <tr>\n",
       "      <th>240</th>\n",
       "      <td>serious</td>\n",
       "    </tr>\n",
       "    <tr>\n",
       "      <th>66</th>\n",
       "      <td>serious</td>\n",
       "    </tr>\n",
       "  </tbody>\n",
       "</table>\n",
       "<p>222 rows × 1 columns</p>\n",
       "</div>"
      ],
      "text/plain": [
       "    Personality (Class label)\n",
       "109                   serious\n",
       "36                    serious\n",
       "212               extraverted\n",
       "212               extraverted\n",
       "232                   serious\n",
       "..                        ...\n",
       "223                   serious\n",
       "26                extraverted\n",
       "126                   serious\n",
       "240                   serious\n",
       "66                    serious\n",
       "\n",
       "[222 rows x 1 columns]"
      ]
     },
     "execution_count": 152,
     "metadata": {},
     "output_type": "execute_result"
    }
   ],
   "source": [
    "y_train"
   ]
  },
  {
   "cell_type": "code",
   "execution_count": 154,
   "id": "f876b6ea-5e0e-4b5e-bc14-4d63e3222696",
   "metadata": {
    "tags": []
   },
   "outputs": [
    {
     "data": {
      "image/png": "[encoded data removed]",
      "text/plain": [
       "<Figure size 1000x500 with 1 Axes>"
      ]
     },
     "metadata": {},
     "output_type": "display_data"
    },
    {
     "data": {
      "image/png": "[encoded data removed]",
      "text/plain": [
       "<Figure size 1000x500 with 1 Axes>"
      ]
     },
     "metadata": {},
     "output_type": "display_data"
    }
   ],
   "source": [
    "import matplotlib.pyplot as plt\n",
    "\n",
    "for i in y_train, y_test:\n",
    "    tmp = i.value_counts() # .count()\n",
    "    fig = plt.figure(figsize = (10, 5))\n",
    "    # creating the bar plot\n",
    "    plt.bar(list(i['Personality (Class label)'].value_counts()._get_axis(axis=0)),\n",
    "            list(i['Personality (Class label)'].value_counts()), color ='maroon',\n",
    "            width = 0.4)\n",
    "\n",
    "    plt.xlabel(\"Personality Types\")\n",
    "    plt.ylabel(\"No. of people\")\n",
    "    \n",
    "    if len(i) == len(y_train):\n",
    "        plt.title(\"Male of a particular personality (Train)\")\n",
    "    else:\n",
    "        plt.title(\"Male of a particular personality (Test)\")\n",
    "    \n",
    "    plt.show()"
   ]
  },
  {
   "cell_type": "code",
   "execution_count": 279,
   "id": "06426853-75c1-492c-beb1-fd88854c5992",
   "metadata": {
    "tags": []
   },
   "outputs": [],
   "source": [
    "def df_load_and_split(gender='male'):\n",
    "    tmp = pd.read_csv('/media/scarlet/Project/Project Files/Data/Personality/test.csv')\n",
    "    tmp.rename(columns={'Personality (class label)':'Personality (Class label)'}, inplace=True)\n",
    "    tmp_2 = pd.read_csv('/media/scarlet/Project/Project Files/Data/Personality/test.csv')\n",
    "    tmp_2.rename(columns={'Personality (class label)':'Personality (Class label)'}, inplace=True)\n",
    "    df = pd.concat([tmp, tmp_2])\n",
    "    if gender == 'male':\n",
    "        df = df[df['Gender'] == 'Male']\n",
    "    else:\n",
    "        df = df[df['Gender'] == 'Female']\n",
    "    cols = set(df.columns)\n",
    "    cols.remove('Personality (Class label)')\n",
    "    cols.remove('Gender')\n",
    "    cols = list(cols)\n",
    "    X = df[cols]\n",
    "    y = df.loc[:, df.columns=='Personality (Class label)']\n",
    "    X_train, X_test, y_train, y_test = train_test_split(X, y,\n",
    "                                                        stratify=y, \n",
    "                                                        test_size=0.30)\n",
    "    return (X_train, X_test, y_train, y_test)\n",
    "\n",
    "X_train, X_test, y_train, y_test = df_load_and_split('female')"
   ]
  },
  {
   "cell_type": "code",
   "execution_count": 280,
   "id": "4f4fbbc3-6e8d-47d3-af98-d8bcd8f2c751",
   "metadata": {
    "tags": []
   },
   "outputs": [
    {
     "data": {
      "image/png": "[encoded data removed]",
      "text/plain": [
       "<Figure size 1000x500 with 1 Axes>"
      ]
     },
     "metadata": {},
     "output_type": "display_data"
    },
    {
     "data": {
      "image/png": "[encoded data removed]",
      "text/plain": [
       "<Figure size 1000x500 with 1 Axes>"
      ]
     },
     "metadata": {},
     "output_type": "display_data"
    }
   ],
   "source": [
    "def draw_bars(X_train, X_test, y_train, y_test, gender='male'):\n",
    "    import matplotlib.pyplot as plt\n",
    "    for i in y_train, y_test:\n",
    "        tmp = i.value_counts() # .count()\n",
    "        fig = plt.figure(figsize = (10, 5))\n",
    "        # creating the bar plot\n",
    "        plt.bar(list(i['Personality (Class label)'].value_counts()._get_axis(axis=0)),\n",
    "                list(i['Personality (Class label)'].value_counts()), color ='maroon',\n",
    "                width = 0.4)\n",
    "\n",
    "        plt.xlabel(\"Personality Types\")\n",
    "        plt.ylabel(\"No. of people\")\n",
    "\n",
    "        if len(i) == len(y_train):\n",
    "            tmp = gender.title() + \" of a particular personality (Train)\"\n",
    "            plt.title(tmp)\n",
    "        else:\n",
    "            tmp = gender.title() + \" of a particular personality (Test)\"\n",
    "            plt.title(tmp)\n",
    "\n",
    "        plt.show()\n",
    "        \n",
    "draw_bars(X_train, X_test, y_train, y_test, 'female')"
   ]
  },
  {
   "cell_type": "code",
   "execution_count": 281,
   "id": "c4c57ca6-31be-4e02-a547-35d63c043c8f",
   "metadata": {
    "tags": []
   },
   "outputs": [
    {
     "data": {
      "text/html": [
       "<div>\n",
       "<style scoped>\n",
       "    .dataframe tbody tr th:only-of-type {\n",
       "        vertical-align: middle;\n",
       "    }\n",
       "\n",
       "    .dataframe tbody tr th {\n",
       "        vertical-align: top;\n",
       "    }\n",
       "\n",
       "    .dataframe thead th {\n",
       "        text-align: right;\n",
       "    }\n",
       "</style>\n",
       "<table border=\"1\" class=\"dataframe\">\n",
       "  <thead>\n",
       "    <tr style=\"text-align: right;\">\n",
       "      <th></th>\n",
       "      <th>agreeableness</th>\n",
       "      <th>neuroticism</th>\n",
       "      <th>conscientiousness</th>\n",
       "      <th>extraversion</th>\n",
       "      <th>Age</th>\n",
       "      <th>openness</th>\n",
       "    </tr>\n",
       "  </thead>\n",
       "  <tbody>\n",
       "    <tr>\n",
       "      <th>123</th>\n",
       "      <td>7</td>\n",
       "      <td>4</td>\n",
       "      <td>5</td>\n",
       "      <td>7</td>\n",
       "      <td>21</td>\n",
       "      <td>7</td>\n",
       "    </tr>\n",
       "    <tr>\n",
       "      <th>237</th>\n",
       "      <td>3</td>\n",
       "      <td>8</td>\n",
       "      <td>1</td>\n",
       "      <td>6</td>\n",
       "      <td>19</td>\n",
       "      <td>6</td>\n",
       "    </tr>\n",
       "    <tr>\n",
       "      <th>107</th>\n",
       "      <td>5</td>\n",
       "      <td>6</td>\n",
       "      <td>2</td>\n",
       "      <td>5</td>\n",
       "      <td>19</td>\n",
       "      <td>5</td>\n",
       "    </tr>\n",
       "    <tr>\n",
       "      <th>275</th>\n",
       "      <td>1</td>\n",
       "      <td>2</td>\n",
       "      <td>7</td>\n",
       "      <td>4</td>\n",
       "      <td>19</td>\n",
       "      <td>6</td>\n",
       "    </tr>\n",
       "    <tr>\n",
       "      <th>158</th>\n",
       "      <td>2</td>\n",
       "      <td>6</td>\n",
       "      <td>4</td>\n",
       "      <td>7</td>\n",
       "      <td>19</td>\n",
       "      <td>5</td>\n",
       "    </tr>\n",
       "    <tr>\n",
       "      <th>...</th>\n",
       "      <td>...</td>\n",
       "      <td>...</td>\n",
       "      <td>...</td>\n",
       "      <td>...</td>\n",
       "      <td>...</td>\n",
       "      <td>...</td>\n",
       "    </tr>\n",
       "    <tr>\n",
       "      <th>121</th>\n",
       "      <td>6</td>\n",
       "      <td>1</td>\n",
       "      <td>4</td>\n",
       "      <td>3</td>\n",
       "      <td>25</td>\n",
       "      <td>6</td>\n",
       "    </tr>\n",
       "    <tr>\n",
       "      <th>44</th>\n",
       "      <td>3</td>\n",
       "      <td>6</td>\n",
       "      <td>6</td>\n",
       "      <td>6</td>\n",
       "      <td>25</td>\n",
       "      <td>4</td>\n",
       "    </tr>\n",
       "    <tr>\n",
       "      <th>291</th>\n",
       "      <td>6</td>\n",
       "      <td>6</td>\n",
       "      <td>4</td>\n",
       "      <td>7</td>\n",
       "      <td>20</td>\n",
       "      <td>5</td>\n",
       "    </tr>\n",
       "    <tr>\n",
       "      <th>278</th>\n",
       "      <td>4</td>\n",
       "      <td>6</td>\n",
       "      <td>7</td>\n",
       "      <td>6</td>\n",
       "      <td>21</td>\n",
       "      <td>1</td>\n",
       "    </tr>\n",
       "    <tr>\n",
       "      <th>116</th>\n",
       "      <td>7</td>\n",
       "      <td>1</td>\n",
       "      <td>5</td>\n",
       "      <td>5</td>\n",
       "      <td>19</td>\n",
       "      <td>4</td>\n",
       "    </tr>\n",
       "  </tbody>\n",
       "</table>\n",
       "<p>218 rows × 6 columns</p>\n",
       "</div>"
      ],
      "text/plain": [
       "     agreeableness  neuroticism  conscientiousness  extraversion  Age  \\\n",
       "123              7            4                  5             7   21   \n",
       "237              3            8                  1             6   19   \n",
       "107              5            6                  2             5   19   \n",
       "275              1            2                  7             4   19   \n",
       "158              2            6                  4             7   19   \n",
       "..             ...          ...                ...           ...  ...   \n",
       "121              6            1                  4             3   25   \n",
       "44               3            6                  6             6   25   \n",
       "291              6            6                  4             7   20   \n",
       "278              4            6                  7             6   21   \n",
       "116              7            1                  5             5   19   \n",
       "\n",
       "     openness  \n",
       "123         7  \n",
       "237         6  \n",
       "107         5  \n",
       "275         6  \n",
       "158         5  \n",
       "..        ...  \n",
       "121         6  \n",
       "44          4  \n",
       "291         5  \n",
       "278         1  \n",
       "116         4  \n",
       "\n",
       "[218 rows x 6 columns]"
      ]
     },
     "execution_count": 281,
     "metadata": {},
     "output_type": "execute_result"
    }
   ],
   "source": [
    "X_train"
   ]
  },
  {
   "cell_type": "code",
   "execution_count": 282,
   "id": "943d03b0-2c0a-4742-b495-25ed09f8b6ef",
   "metadata": {
    "tags": []
   },
   "outputs": [
    {
     "data": {
      "text/html": [
       "<div>\n",
       "<style scoped>\n",
       "    .dataframe tbody tr th:only-of-type {\n",
       "        vertical-align: middle;\n",
       "    }\n",
       "\n",
       "    .dataframe tbody tr th {\n",
       "        vertical-align: top;\n",
       "    }\n",
       "\n",
       "    .dataframe thead th {\n",
       "        text-align: right;\n",
       "    }\n",
       "</style>\n",
       "<table border=\"1\" class=\"dataframe\">\n",
       "  <thead>\n",
       "    <tr style=\"text-align: right;\">\n",
       "      <th></th>\n",
       "      <th>Personality (Class label)</th>\n",
       "    </tr>\n",
       "  </thead>\n",
       "  <tbody>\n",
       "    <tr>\n",
       "      <th>123</th>\n",
       "      <td>serious</td>\n",
       "    </tr>\n",
       "    <tr>\n",
       "      <th>237</th>\n",
       "      <td>extraverted</td>\n",
       "    </tr>\n",
       "    <tr>\n",
       "      <th>107</th>\n",
       "      <td>extraverted</td>\n",
       "    </tr>\n",
       "    <tr>\n",
       "      <th>275</th>\n",
       "      <td>responsible</td>\n",
       "    </tr>\n",
       "    <tr>\n",
       "      <th>158</th>\n",
       "      <td>serious</td>\n",
       "    </tr>\n",
       "    <tr>\n",
       "      <th>...</th>\n",
       "      <td>...</td>\n",
       "    </tr>\n",
       "    <tr>\n",
       "      <th>121</th>\n",
       "      <td>lively</td>\n",
       "    </tr>\n",
       "    <tr>\n",
       "      <th>44</th>\n",
       "      <td>dependable</td>\n",
       "    </tr>\n",
       "    <tr>\n",
       "      <th>291</th>\n",
       "      <td>extraverted</td>\n",
       "    </tr>\n",
       "    <tr>\n",
       "      <th>278</th>\n",
       "      <td>serious</td>\n",
       "    </tr>\n",
       "    <tr>\n",
       "      <th>116</th>\n",
       "      <td>serious</td>\n",
       "    </tr>\n",
       "  </tbody>\n",
       "</table>\n",
       "<p>218 rows × 1 columns</p>\n",
       "</div>"
      ],
      "text/plain": [
       "    Personality (Class label)\n",
       "123                   serious\n",
       "237               extraverted\n",
       "107               extraverted\n",
       "275               responsible\n",
       "158                   serious\n",
       "..                        ...\n",
       "121                    lively\n",
       "44                 dependable\n",
       "291               extraverted\n",
       "278                   serious\n",
       "116                   serious\n",
       "\n",
       "[218 rows x 1 columns]"
      ]
     },
     "execution_count": 282,
     "metadata": {},
     "output_type": "execute_result"
    }
   ],
   "source": [
    "y_train"
   ]
  },
  {
   "cell_type": "code",
   "execution_count": 190,
   "id": "435b2a02-8c0f-4952-946f-9e9c695c7967",
   "metadata": {
    "tags": []
   },
   "outputs": [
    {
     "data": {
      "text/plain": [
       "Personality (Class label)\n",
       "extraverted                  81\n",
       "serious                      71\n",
       "responsible                  39\n",
       "dependable                   16\n",
       "lively                       11\n",
       "dtype: int64"
      ]
     },
     "execution_count": 190,
     "metadata": {},
     "output_type": "execute_result"
    }
   ],
   "source": [
    "y_train.value_counts()"
   ]
  },
  {
   "cell_type": "code",
   "execution_count": 191,
   "id": "1b56840f-5a43-4f52-8263-7a0ddaa0ea2c",
   "metadata": {
    "tags": []
   },
   "outputs": [],
   "source": [
    "from sklearn.preprocessing import OneHotEncoder\n",
    "ohe = OneHotEncoder()\n",
    "transformed = ohe.fit_transform(\n",
    "    # df[['island']]\n",
    "    y_train\n",
    ")"
   ]
  },
  {
   "cell_type": "code",
   "execution_count": 195,
   "id": "9ad7ab0f-9b7e-4c0c-acde-d2190f1fd540",
   "metadata": {
    "tags": []
   },
   "outputs": [
    {
     "data": {
      "text/plain": [
       "array([[0., 0., 0., 1., 0.],\n",
       "       [0., 0., 0., 0., 1.],\n",
       "       [0., 1., 0., 0., 0.],\n",
       "       [0., 0., 0., 1., 0.],\n",
       "       [0., 1., 0., 0., 0.]])"
      ]
     },
     "execution_count": 195,
     "metadata": {},
     "output_type": "execute_result"
    }
   ],
   "source": [
    "transformed.toarray()[:5]"
   ]
  },
  {
   "cell_type": "code",
   "execution_count": 196,
   "id": "7c6f6609-37d2-4c24-9a5f-f98ed9c3fa66",
   "metadata": {
    "tags": []
   },
   "outputs": [
    {
     "name": "stdout",
     "output_type": "stream",
     "text": [
      "[array(['dependable', 'extraverted', 'lively', 'responsible', 'serious'],\n",
      "      dtype=object)]\n"
     ]
    }
   ],
   "source": [
    "print(ohe.categories_)"
   ]
  },
  {
   "cell_type": "code",
   "execution_count": 199,
   "id": "78ad3ca2-921f-4640-abcd-60294da1aa34",
   "metadata": {
    "tags": []
   },
   "outputs": [
    {
     "name": "stdout",
     "output_type": "stream",
     "text": [
      "[['responsible']\n",
      " ['serious']\n",
      " ['extraverted']\n",
      " ['responsible']\n",
      " ['extraverted']]\n",
      "[3 4 1 3 1]\n",
      "[[0. 0. 0. 1. 0.]\n",
      " [0. 0. 0. 0. 1.]\n",
      " [0. 1. 0. 0. 0.]\n",
      " [0. 0. 0. 1. 0.]\n",
      " [0. 1. 0. 0. 0.]]\n",
      "['responsible']\n"
     ]
    },
    {
     "name": "stderr",
     "output_type": "stream",
     "text": [
      "/media/scarlet/Project/Project Files/PythonEnvs/DataSciEnv/lib/python3.10/site-packages/sklearn/preprocessing/_label.py:116: DataConversionWarning: A column-vector y was passed when a 1d array was expected. Please change the shape of y to (n_samples, ), for example using ravel().\n",
      "  y = column_or_1d(y, warn=True)\n",
      "/media/scarlet/Project/Project Files/PythonEnvs/DataSciEnv/lib/python3.10/site-packages/sklearn/preprocessing/_encoders.py:828: FutureWarning: `sparse` was renamed to `sparse_output` in version 1.2 and will be removed in 1.4. `sparse_output` is ignored unless you leave `sparse` to its default value.\n",
      "  warnings.warn(\n"
     ]
    }
   ],
   "source": [
    "from numpy import argmax\n",
    "from numpy import array\n",
    "from sklearn.preprocessing import LabelEncoder\n",
    "from sklearn.preprocessing import OneHotEncoder\n",
    "# define example\n",
    "data = y_train\n",
    "values = array(data)\n",
    "print(values[:5])\n",
    "# integer encode\n",
    "label_encoder = LabelEncoder()\n",
    "integer_encoded = label_encoder.fit_transform(values)\n",
    "print(integer_encoded[:5])\n",
    "# binary encode\n",
    "onehot_encoder = OneHotEncoder(sparse=False)\n",
    "integer_encoded = integer_encoded.reshape(len(integer_encoded), 1)\n",
    "onehot_encoded = onehot_encoder.fit_transform(integer_encoded)\n",
    "print(onehot_encoded[:5])\n",
    "# invert first example\n",
    "inverted = label_encoder.inverse_transform([argmax(onehot_encoded[0, :])])\n",
    "print(inverted)"
   ]
  },
  {
   "cell_type": "code",
   "execution_count": 258,
   "id": "f436477a-eda0-4c63-9526-57fb06152099",
   "metadata": {
    "tags": []
   },
   "outputs": [],
   "source": [
    "from numpy import argmax\n",
    "from numpy import array\n",
    "from sklearn.preprocessing import LabelEncoder\n",
    "from sklearn.preprocessing import OneHotEncoder\n",
    "# define example\n",
    "\n",
    "# def one_hot_encode(y_train):\n",
    "#     data = y_train\n",
    "#     values = array(data)\n",
    "#     # print(values[:5])\n",
    "#     # integer encode\n",
    "#     label_encoder = LabelEncoder()\n",
    "#     integer_encoded = label_encoder.fit_transform(values)\n",
    "#     # print(integer_encoded[:5])\n",
    "#     # binary encode\n",
    "#     onehot_encoder = OneHotEncoder(sparse_output=False)\n",
    "#     integer_encoded = integer_encoded.reshape(len(integer_encoded), 1)\n",
    "#     onehot_encoded = onehot_encoder.fit_transform(integer_encoded)\n",
    "#     # print(onehot_encoded[:5])\n",
    "#     return onehot_encoded\n",
    "#     # invert first example\n",
    "#     # inverted = label_encoder.inverse_transform([argmax(onehot_encoded[0, :])])\n",
    "#     # print(inverted)\n",
    "    \n",
    "# def one_hot_decode(onehot_encoded):\n",
    "#     inverted = label_encoder.inverse_transform([argmax(onehot_encoded[0, :])])\n",
    "#     # print(inverted)\n",
    "#     return inverted"
   ]
  },
  {
   "cell_type": "code",
   "execution_count": 211,
   "id": "b4168e48-dbb9-41f7-a93e-3c47e169c6de",
   "metadata": {
    "tags": []
   },
   "outputs": [
    {
     "name": "stderr",
     "output_type": "stream",
     "text": [
      "/media/scarlet/Project/Project Files/PythonEnvs/DataSciEnv/lib/python3.10/site-packages/sklearn/preprocessing/_label.py:116: DataConversionWarning: A column-vector y was passed when a 1d array was expected. Please change the shape of y to (n_samples, ), for example using ravel().\n",
      "  y = column_or_1d(y, warn=True)\n"
     ]
    },
    {
     "data": {
      "text/plain": [
       "array([[0., 0., 0., 1., 0.],\n",
       "       [0., 0., 0., 0., 1.],\n",
       "       [0., 1., 0., 0., 0.],\n",
       "       ...,\n",
       "       [0., 1., 0., 0., 0.],\n",
       "       [0., 0., 0., 1., 0.],\n",
       "       [0., 1., 0., 0., 0.]])"
      ]
     },
     "execution_count": 211,
     "metadata": {},
     "output_type": "execute_result"
    }
   ],
   "source": [
    "# one_hot_encode(y_train)"
   ]
  },
  {
   "cell_type": "code",
   "execution_count": 233,
   "id": "e659b209-f6b8-4508-a1f7-83ebaa0644cf",
   "metadata": {
    "tags": []
   },
   "outputs": [
    {
     "data": {
      "text/html": [
       "<div>\n",
       "<style scoped>\n",
       "    .dataframe tbody tr th:only-of-type {\n",
       "        vertical-align: middle;\n",
       "    }\n",
       "\n",
       "    .dataframe tbody tr th {\n",
       "        vertical-align: top;\n",
       "    }\n",
       "\n",
       "    .dataframe thead th {\n",
       "        text-align: right;\n",
       "    }\n",
       "</style>\n",
       "<table border=\"1\" class=\"dataframe\">\n",
       "  <thead>\n",
       "    <tr style=\"text-align: right;\">\n",
       "      <th></th>\n",
       "      <th>Personality (Class label)</th>\n",
       "    </tr>\n",
       "  </thead>\n",
       "  <tbody>\n",
       "    <tr>\n",
       "      <th>159</th>\n",
       "      <td>responsible</td>\n",
       "    </tr>\n",
       "    <tr>\n",
       "      <th>93</th>\n",
       "      <td>serious</td>\n",
       "    </tr>\n",
       "    <tr>\n",
       "      <th>24</th>\n",
       "      <td>extraverted</td>\n",
       "    </tr>\n",
       "    <tr>\n",
       "      <th>261</th>\n",
       "      <td>responsible</td>\n",
       "    </tr>\n",
       "    <tr>\n",
       "      <th>119</th>\n",
       "      <td>extraverted</td>\n",
       "    </tr>\n",
       "    <tr>\n",
       "      <th>...</th>\n",
       "      <td>...</td>\n",
       "    </tr>\n",
       "    <tr>\n",
       "      <th>222</th>\n",
       "      <td>dependable</td>\n",
       "    </tr>\n",
       "    <tr>\n",
       "      <th>287</th>\n",
       "      <td>extraverted</td>\n",
       "    </tr>\n",
       "    <tr>\n",
       "      <th>227</th>\n",
       "      <td>extraverted</td>\n",
       "    </tr>\n",
       "    <tr>\n",
       "      <th>41</th>\n",
       "      <td>responsible</td>\n",
       "    </tr>\n",
       "    <tr>\n",
       "      <th>38</th>\n",
       "      <td>extraverted</td>\n",
       "    </tr>\n",
       "  </tbody>\n",
       "</table>\n",
       "<p>218 rows × 1 columns</p>\n",
       "</div>"
      ],
      "text/plain": [
       "    Personality (Class label)\n",
       "159               responsible\n",
       "93                    serious\n",
       "24                extraverted\n",
       "261               responsible\n",
       "119               extraverted\n",
       "..                        ...\n",
       "222                dependable\n",
       "287               extraverted\n",
       "227               extraverted\n",
       "41                responsible\n",
       "38                extraverted\n",
       "\n",
       "[218 rows x 1 columns]"
      ]
     },
     "execution_count": 233,
     "metadata": {},
     "output_type": "execute_result"
    }
   ],
   "source": [
    "y_train"
   ]
  },
  {
   "cell_type": "code",
   "execution_count": 217,
   "id": "b440bc1c-2442-40bb-818c-65cd0fd4e686",
   "metadata": {
    "tags": []
   },
   "outputs": [
    {
     "data": {
      "text/html": [
       "<div>\n",
       "<style scoped>\n",
       "    .dataframe tbody tr th:only-of-type {\n",
       "        vertical-align: middle;\n",
       "    }\n",
       "\n",
       "    .dataframe tbody tr th {\n",
       "        vertical-align: top;\n",
       "    }\n",
       "\n",
       "    .dataframe thead tr th {\n",
       "        text-align: left;\n",
       "    }\n",
       "</style>\n",
       "<table border=\"1\" class=\"dataframe\">\n",
       "  <thead>\n",
       "    <tr>\n",
       "      <th></th>\n",
       "      <th>dependable</th>\n",
       "      <th>extraverted</th>\n",
       "      <th>lively</th>\n",
       "      <th>responsible</th>\n",
       "      <th>serious</th>\n",
       "    </tr>\n",
       "  </thead>\n",
       "  <tbody>\n",
       "    <tr>\n",
       "      <th>0</th>\n",
       "      <td>0.0</td>\n",
       "      <td>0.0</td>\n",
       "      <td>0.0</td>\n",
       "      <td>1.0</td>\n",
       "      <td>0.0</td>\n",
       "    </tr>\n",
       "    <tr>\n",
       "      <th>1</th>\n",
       "      <td>0.0</td>\n",
       "      <td>0.0</td>\n",
       "      <td>0.0</td>\n",
       "      <td>0.0</td>\n",
       "      <td>1.0</td>\n",
       "    </tr>\n",
       "    <tr>\n",
       "      <th>2</th>\n",
       "      <td>0.0</td>\n",
       "      <td>1.0</td>\n",
       "      <td>0.0</td>\n",
       "      <td>0.0</td>\n",
       "      <td>0.0</td>\n",
       "    </tr>\n",
       "    <tr>\n",
       "      <th>3</th>\n",
       "      <td>0.0</td>\n",
       "      <td>0.0</td>\n",
       "      <td>0.0</td>\n",
       "      <td>1.0</td>\n",
       "      <td>0.0</td>\n",
       "    </tr>\n",
       "    <tr>\n",
       "      <th>4</th>\n",
       "      <td>0.0</td>\n",
       "      <td>1.0</td>\n",
       "      <td>0.0</td>\n",
       "      <td>0.0</td>\n",
       "      <td>0.0</td>\n",
       "    </tr>\n",
       "    <tr>\n",
       "      <th>...</th>\n",
       "      <td>...</td>\n",
       "      <td>...</td>\n",
       "      <td>...</td>\n",
       "      <td>...</td>\n",
       "      <td>...</td>\n",
       "    </tr>\n",
       "    <tr>\n",
       "      <th>213</th>\n",
       "      <td>1.0</td>\n",
       "      <td>0.0</td>\n",
       "      <td>0.0</td>\n",
       "      <td>0.0</td>\n",
       "      <td>0.0</td>\n",
       "    </tr>\n",
       "    <tr>\n",
       "      <th>214</th>\n",
       "      <td>0.0</td>\n",
       "      <td>1.0</td>\n",
       "      <td>0.0</td>\n",
       "      <td>0.0</td>\n",
       "      <td>0.0</td>\n",
       "    </tr>\n",
       "    <tr>\n",
       "      <th>215</th>\n",
       "      <td>0.0</td>\n",
       "      <td>1.0</td>\n",
       "      <td>0.0</td>\n",
       "      <td>0.0</td>\n",
       "      <td>0.0</td>\n",
       "    </tr>\n",
       "    <tr>\n",
       "      <th>216</th>\n",
       "      <td>0.0</td>\n",
       "      <td>0.0</td>\n",
       "      <td>0.0</td>\n",
       "      <td>1.0</td>\n",
       "      <td>0.0</td>\n",
       "    </tr>\n",
       "    <tr>\n",
       "      <th>217</th>\n",
       "      <td>0.0</td>\n",
       "      <td>1.0</td>\n",
       "      <td>0.0</td>\n",
       "      <td>0.0</td>\n",
       "      <td>0.0</td>\n",
       "    </tr>\n",
       "  </tbody>\n",
       "</table>\n",
       "<p>218 rows × 5 columns</p>\n",
       "</div>"
      ],
      "text/plain": [
       "    dependable extraverted lively responsible serious\n",
       "0          0.0         0.0    0.0         1.0     0.0\n",
       "1          0.0         0.0    0.0         0.0     1.0\n",
       "2          0.0         1.0    0.0         0.0     0.0\n",
       "3          0.0         0.0    0.0         1.0     0.0\n",
       "4          0.0         1.0    0.0         0.0     0.0\n",
       "..         ...         ...    ...         ...     ...\n",
       "213        1.0         0.0    0.0         0.0     0.0\n",
       "214        0.0         1.0    0.0         0.0     0.0\n",
       "215        0.0         1.0    0.0         0.0     0.0\n",
       "216        0.0         0.0    0.0         1.0     0.0\n",
       "217        0.0         1.0    0.0         0.0     0.0\n",
       "\n",
       "[218 rows x 5 columns]"
      ]
     },
     "execution_count": 217,
     "metadata": {},
     "output_type": "execute_result"
    }
   ],
   "source": [
    "from sklearn.preprocessing import OneHotEncoder\n",
    "\n",
    "#creating instance of one-hot-encoder\n",
    "encoder = OneHotEncoder(handle_unknown='ignore')\n",
    "\n",
    "#perform one-hot encoding on 'team' column \n",
    "encoder_df = pd.DataFrame(encoder.fit_transform(y_train).toarray())\n",
    "\n",
    "#merge one-hot encoded columns back with original DataFrame\n",
    "# final_df = df.join(encoder_df)\n",
    "\n",
    "#view final df\n",
    "encoder_df.columns = encoder.categories_\n",
    "\n",
    "encoder_df"
   ]
  },
  {
   "cell_type": "code",
   "execution_count": 215,
   "id": "8912864c-869b-437b-a51c-d8a8555e118d",
   "metadata": {
    "tags": []
   },
   "outputs": [
    {
     "data": {
      "text/plain": [
       "[array(['dependable', 'extraverted', 'lively', 'responsible', 'serious'],\n",
       "       dtype=object)]"
      ]
     },
     "execution_count": 215,
     "metadata": {},
     "output_type": "execute_result"
    }
   ],
   "source": [
    "encoder.categories_"
   ]
  },
  {
   "cell_type": "code",
   "execution_count": 231,
   "id": "54561fb3-59ee-4a11-9aea-487b752af0d3",
   "metadata": {
    "tags": []
   },
   "outputs": [
    {
     "data": {
      "text/html": [
       "<div>\n",
       "<style scoped>\n",
       "    .dataframe tbody tr th:only-of-type {\n",
       "        vertical-align: middle;\n",
       "    }\n",
       "\n",
       "    .dataframe tbody tr th {\n",
       "        vertical-align: top;\n",
       "    }\n",
       "\n",
       "    .dataframe thead th {\n",
       "        text-align: right;\n",
       "    }\n",
       "</style>\n",
       "<table border=\"1\" class=\"dataframe\">\n",
       "  <thead>\n",
       "    <tr style=\"text-align: right;\">\n",
       "      <th></th>\n",
       "      <th>Personality (Class label)</th>\n",
       "    </tr>\n",
       "  </thead>\n",
       "  <tbody>\n",
       "    <tr>\n",
       "      <th>159</th>\n",
       "      <td>responsible</td>\n",
       "    </tr>\n",
       "    <tr>\n",
       "      <th>93</th>\n",
       "      <td>serious</td>\n",
       "    </tr>\n",
       "    <tr>\n",
       "      <th>24</th>\n",
       "      <td>extraverted</td>\n",
       "    </tr>\n",
       "    <tr>\n",
       "      <th>261</th>\n",
       "      <td>responsible</td>\n",
       "    </tr>\n",
       "    <tr>\n",
       "      <th>119</th>\n",
       "      <td>extraverted</td>\n",
       "    </tr>\n",
       "    <tr>\n",
       "      <th>...</th>\n",
       "      <td>...</td>\n",
       "    </tr>\n",
       "    <tr>\n",
       "      <th>222</th>\n",
       "      <td>dependable</td>\n",
       "    </tr>\n",
       "    <tr>\n",
       "      <th>287</th>\n",
       "      <td>extraverted</td>\n",
       "    </tr>\n",
       "    <tr>\n",
       "      <th>227</th>\n",
       "      <td>extraverted</td>\n",
       "    </tr>\n",
       "    <tr>\n",
       "      <th>41</th>\n",
       "      <td>responsible</td>\n",
       "    </tr>\n",
       "    <tr>\n",
       "      <th>38</th>\n",
       "      <td>extraverted</td>\n",
       "    </tr>\n",
       "  </tbody>\n",
       "</table>\n",
       "<p>218 rows × 1 columns</p>\n",
       "</div>"
      ],
      "text/plain": [
       "    Personality (Class label)\n",
       "159               responsible\n",
       "93                    serious\n",
       "24                extraverted\n",
       "261               responsible\n",
       "119               extraverted\n",
       "..                        ...\n",
       "222                dependable\n",
       "287               extraverted\n",
       "227               extraverted\n",
       "41                responsible\n",
       "38                extraverted\n",
       "\n",
       "[218 rows x 1 columns]"
      ]
     },
     "execution_count": 231,
     "metadata": {},
     "output_type": "execute_result"
    }
   ],
   "source": [
    "y_train"
   ]
  },
  {
   "cell_type": "code",
   "execution_count": 232,
   "id": "1e90a7e9-5f9b-4dad-a2b9-2cd560b6a294",
   "metadata": {
    "tags": []
   },
   "outputs": [
    {
     "data": {
      "text/html": [
       "<div>\n",
       "<style scoped>\n",
       "    .dataframe tbody tr th:only-of-type {\n",
       "        vertical-align: middle;\n",
       "    }\n",
       "\n",
       "    .dataframe tbody tr th {\n",
       "        vertical-align: top;\n",
       "    }\n",
       "\n",
       "    .dataframe thead tr th {\n",
       "        text-align: left;\n",
       "    }\n",
       "</style>\n",
       "<table border=\"1\" class=\"dataframe\">\n",
       "  <thead>\n",
       "    <tr>\n",
       "      <th></th>\n",
       "      <th>dependable</th>\n",
       "      <th>extraverted</th>\n",
       "      <th>lively</th>\n",
       "      <th>responsible</th>\n",
       "      <th>serious</th>\n",
       "    </tr>\n",
       "  </thead>\n",
       "  <tbody>\n",
       "    <tr>\n",
       "      <th>0</th>\n",
       "      <td>0.0</td>\n",
       "      <td>0.0</td>\n",
       "      <td>0.0</td>\n",
       "      <td>1.0</td>\n",
       "      <td>0.0</td>\n",
       "    </tr>\n",
       "    <tr>\n",
       "      <th>1</th>\n",
       "      <td>0.0</td>\n",
       "      <td>1.0</td>\n",
       "      <td>0.0</td>\n",
       "      <td>0.0</td>\n",
       "      <td>0.0</td>\n",
       "    </tr>\n",
       "    <tr>\n",
       "      <th>2</th>\n",
       "      <td>0.0</td>\n",
       "      <td>1.0</td>\n",
       "      <td>0.0</td>\n",
       "      <td>0.0</td>\n",
       "      <td>0.0</td>\n",
       "    </tr>\n",
       "    <tr>\n",
       "      <th>3</th>\n",
       "      <td>0.0</td>\n",
       "      <td>0.0</td>\n",
       "      <td>0.0</td>\n",
       "      <td>0.0</td>\n",
       "      <td>1.0</td>\n",
       "    </tr>\n",
       "    <tr>\n",
       "      <th>4</th>\n",
       "      <td>0.0</td>\n",
       "      <td>0.0</td>\n",
       "      <td>1.0</td>\n",
       "      <td>0.0</td>\n",
       "      <td>0.0</td>\n",
       "    </tr>\n",
       "    <tr>\n",
       "      <th>...</th>\n",
       "      <td>...</td>\n",
       "      <td>...</td>\n",
       "      <td>...</td>\n",
       "      <td>...</td>\n",
       "      <td>...</td>\n",
       "    </tr>\n",
       "    <tr>\n",
       "      <th>89</th>\n",
       "      <td>0.0</td>\n",
       "      <td>0.0</td>\n",
       "      <td>0.0</td>\n",
       "      <td>0.0</td>\n",
       "      <td>1.0</td>\n",
       "    </tr>\n",
       "    <tr>\n",
       "      <th>90</th>\n",
       "      <td>0.0</td>\n",
       "      <td>1.0</td>\n",
       "      <td>0.0</td>\n",
       "      <td>0.0</td>\n",
       "      <td>0.0</td>\n",
       "    </tr>\n",
       "    <tr>\n",
       "      <th>91</th>\n",
       "      <td>0.0</td>\n",
       "      <td>1.0</td>\n",
       "      <td>0.0</td>\n",
       "      <td>0.0</td>\n",
       "      <td>0.0</td>\n",
       "    </tr>\n",
       "    <tr>\n",
       "      <th>92</th>\n",
       "      <td>0.0</td>\n",
       "      <td>0.0</td>\n",
       "      <td>0.0</td>\n",
       "      <td>0.0</td>\n",
       "      <td>1.0</td>\n",
       "    </tr>\n",
       "    <tr>\n",
       "      <th>93</th>\n",
       "      <td>0.0</td>\n",
       "      <td>0.0</td>\n",
       "      <td>0.0</td>\n",
       "      <td>1.0</td>\n",
       "      <td>0.0</td>\n",
       "    </tr>\n",
       "  </tbody>\n",
       "</table>\n",
       "<p>94 rows × 5 columns</p>\n",
       "</div>"
      ],
      "text/plain": [
       "   dependable extraverted lively responsible serious\n",
       "0         0.0         0.0    0.0         1.0     0.0\n",
       "1         0.0         1.0    0.0         0.0     0.0\n",
       "2         0.0         1.0    0.0         0.0     0.0\n",
       "3         0.0         0.0    0.0         0.0     1.0\n",
       "4         0.0         0.0    1.0         0.0     0.0\n",
       "..        ...         ...    ...         ...     ...\n",
       "89        0.0         0.0    0.0         0.0     1.0\n",
       "90        0.0         1.0    0.0         0.0     0.0\n",
       "91        0.0         1.0    0.0         0.0     0.0\n",
       "92        0.0         0.0    0.0         0.0     1.0\n",
       "93        0.0         0.0    0.0         1.0     0.0\n",
       "\n",
       "[94 rows x 5 columns]"
      ]
     },
     "execution_count": 232,
     "metadata": {},
     "output_type": "execute_result"
    }
   ],
   "source": [
    "from sklearn.preprocessing import OneHotEncoder\n",
    "\n",
    "def one_hot_encode(y_train):\n",
    "    #creating instance of one-hot-encoder\n",
    "    encoder = OneHotEncoder(handle_unknown='ignore')\n",
    "\n",
    "    #perform one-hot encoding on 'team' column \n",
    "    encoder_df = pd.DataFrame(encoder.fit_transform(y_train).toarray())\n",
    "\n",
    "    #merge one-hot encoded columns back with original DataFrame\n",
    "    # final_df = df.join(encoder_df)\n",
    "\n",
    "    #view final df\n",
    "    encoder_df.columns = encoder.categories_\n",
    "\n",
    "    return encoder_df\n",
    "\n",
    "one_hot_encode(y_test)"
   ]
  },
  {
   "cell_type": "code",
   "execution_count": 254,
   "id": "3dd630c6-0d0a-4b75-9e7d-94b90b9f137e",
   "metadata": {
    "tags": []
   },
   "outputs": [
    {
     "data": {
      "text/plain": [
       "'responsible'"
      ]
     },
     "execution_count": 254,
     "metadata": {},
     "output_type": "execute_result"
    }
   ],
   "source": [
    " def get_val(row, data):\n",
    "    tmp = []\n",
    "    for i in one_hot_encode(data).columns:\n",
    "        tmp.append(str(i[0]))\n",
    "    for i in range(len(row)):\n",
    "        if row[i]==1:\n",
    "            return tmp[i]\n",
    "            \n",
    "get_val([0, 0, 0, 1.0, 0], y_test)"
   ]
  },
  {
   "cell_type": "code",
   "execution_count": 227,
   "id": "8d8b208f-9e14-4205-8768-303e9f900e64",
   "metadata": {
    "tags": []
   },
   "outputs": [],
   "source": [
    "tmp = []\n",
    "for i in one_hot_encode(y_test).columns:\n",
    "    tmp.append(str(i[0]))"
   ]
  },
  {
   "cell_type": "code",
   "execution_count": 228,
   "id": "4b715c10-088e-4a6e-96e6-f6a26bcf1453",
   "metadata": {
    "tags": []
   },
   "outputs": [
    {
     "data": {
      "text/plain": [
       "['dependable', 'extraverted', 'lively', 'responsible', 'serious']"
      ]
     },
     "execution_count": 228,
     "metadata": {},
     "output_type": "execute_result"
    }
   ],
   "source": [
    "tmp"
   ]
  },
  {
   "cell_type": "code",
   "execution_count": 255,
   "id": "2599f786-9249-42e5-89f0-524eb5c47883",
   "metadata": {
    "tags": []
   },
   "outputs": [
    {
     "data": {
      "text/html": [
       "<div>\n",
       "<style scoped>\n",
       "    .dataframe tbody tr th:only-of-type {\n",
       "        vertical-align: middle;\n",
       "    }\n",
       "\n",
       "    .dataframe tbody tr th {\n",
       "        vertical-align: top;\n",
       "    }\n",
       "\n",
       "    .dataframe thead tr th {\n",
       "        text-align: left;\n",
       "    }\n",
       "</style>\n",
       "<table border=\"1\" class=\"dataframe\">\n",
       "  <thead>\n",
       "    <tr>\n",
       "      <th></th>\n",
       "      <th>serious</th>\n",
       "    </tr>\n",
       "  </thead>\n",
       "  <tbody>\n",
       "    <tr>\n",
       "      <th>0</th>\n",
       "      <td>1.0</td>\n",
       "    </tr>\n",
       "  </tbody>\n",
       "</table>\n",
       "</div>"
      ],
      "text/plain": [
       "  serious\n",
       "0     1.0"
      ]
     },
     "execution_count": 255,
     "metadata": {},
     "output_type": "execute_result"
    }
   ],
   "source": [
    "one_hot_encode([['serious']])"
   ]
  },
  {
   "cell_type": "code",
   "execution_count": 238,
   "id": "77efaae1-63cb-470d-8fda-0dda267b7fbe",
   "metadata": {
    "tags": []
   },
   "outputs": [
    {
     "data": {
      "text/html": [
       "<div>\n",
       "<style scoped>\n",
       "    .dataframe tbody tr th:only-of-type {\n",
       "        vertical-align: middle;\n",
       "    }\n",
       "\n",
       "    .dataframe tbody tr th {\n",
       "        vertical-align: top;\n",
       "    }\n",
       "\n",
       "    .dataframe thead tr th {\n",
       "        text-align: left;\n",
       "    }\n",
       "</style>\n",
       "<table border=\"1\" class=\"dataframe\">\n",
       "  <thead>\n",
       "    <tr>\n",
       "      <th></th>\n",
       "      <th>dependable</th>\n",
       "      <th>extraverted</th>\n",
       "      <th>lively</th>\n",
       "      <th>responsible</th>\n",
       "      <th>serious</th>\n",
       "    </tr>\n",
       "  </thead>\n",
       "  <tbody>\n",
       "    <tr>\n",
       "      <th>0</th>\n",
       "      <td>0.0</td>\n",
       "      <td>0.0</td>\n",
       "      <td>0.0</td>\n",
       "      <td>1.0</td>\n",
       "      <td>0.0</td>\n",
       "    </tr>\n",
       "    <tr>\n",
       "      <th>1</th>\n",
       "      <td>0.0</td>\n",
       "      <td>0.0</td>\n",
       "      <td>0.0</td>\n",
       "      <td>0.0</td>\n",
       "      <td>1.0</td>\n",
       "    </tr>\n",
       "    <tr>\n",
       "      <th>2</th>\n",
       "      <td>0.0</td>\n",
       "      <td>1.0</td>\n",
       "      <td>0.0</td>\n",
       "      <td>0.0</td>\n",
       "      <td>0.0</td>\n",
       "    </tr>\n",
       "    <tr>\n",
       "      <th>3</th>\n",
       "      <td>0.0</td>\n",
       "      <td>0.0</td>\n",
       "      <td>0.0</td>\n",
       "      <td>1.0</td>\n",
       "      <td>0.0</td>\n",
       "    </tr>\n",
       "    <tr>\n",
       "      <th>4</th>\n",
       "      <td>0.0</td>\n",
       "      <td>1.0</td>\n",
       "      <td>0.0</td>\n",
       "      <td>0.0</td>\n",
       "      <td>0.0</td>\n",
       "    </tr>\n",
       "  </tbody>\n",
       "</table>\n",
       "</div>"
      ],
      "text/plain": [
       "  dependable extraverted lively responsible serious\n",
       "0        0.0         0.0    0.0         1.0     0.0\n",
       "1        0.0         0.0    0.0         0.0     1.0\n",
       "2        0.0         1.0    0.0         0.0     0.0\n",
       "3        0.0         0.0    0.0         1.0     0.0\n",
       "4        0.0         1.0    0.0         0.0     0.0"
      ]
     },
     "execution_count": 238,
     "metadata": {},
     "output_type": "execute_result"
    }
   ],
   "source": [
    "encoder = OneHotEncoder(handle_unknown='ignore')\n",
    "\n",
    "#perform one-hot encoding on 'team' column \n",
    "encoder_df = pd.DataFrame(encoder.fit_transform(y_train).toarray())\n",
    "\n",
    "    #merge one-hot encoded columns back with original DataFrame\n",
    "    # final_df = df.join(encoder_df)\n",
    "\n",
    "    #view final df\n",
    "encoder_df.columns = encoder.categories_\n",
    "encoder_df[:5]"
   ]
  },
  {
   "cell_type": "code",
   "execution_count": 250,
   "id": "9321b06b-7a3b-4df0-9030-de67cb7f9369",
   "metadata": {
    "tags": []
   },
   "outputs": [
    {
     "name": "stdout",
     "output_type": "stream",
     "text": [
      "Personality (Class label)    responsible\n",
      "Name: 29, dtype: object\n"
     ]
    }
   ],
   "source": [
    "print(y_train.iloc[159])"
   ]
  },
  {
   "cell_type": "code",
   "execution_count": 251,
   "id": "5b9f373d-3110-4774-96bb-d59f2e298ac3",
   "metadata": {
    "tags": []
   },
   "outputs": [
    {
     "data": {
      "text/plain": [
       "dependable     0.0\n",
       "extraverted    0.0\n",
       "lively         0.0\n",
       "responsible    1.0\n",
       "serious        0.0\n",
       "Name: 0, dtype: float64"
      ]
     },
     "execution_count": 251,
     "metadata": {},
     "output_type": "execute_result"
    }
   ],
   "source": [
    "one_hot_encode(y_test).iloc[0]"
   ]
  },
  {
   "cell_type": "code",
   "execution_count": 257,
   "id": "a2102ef6-625c-443b-ac70-ca40915a876f",
   "metadata": {
    "tags": []
   },
   "outputs": [
    {
     "data": {
      "text/plain": [
       "'responsible'"
      ]
     },
     "execution_count": 257,
     "metadata": {},
     "output_type": "execute_result"
    }
   ],
   "source": [
    "get_val(one_hot_encode(y_test).iloc[0], y_test)"
   ]
  },
  {
   "cell_type": "code",
   "execution_count": 259,
   "id": "30a3a2b4-3e60-4e6b-8887-e7adc57b9536",
   "metadata": {
    "tags": []
   },
   "outputs": [
    {
     "data": {
      "text/html": [
       "<div>\n",
       "<style scoped>\n",
       "    .dataframe tbody tr th:only-of-type {\n",
       "        vertical-align: middle;\n",
       "    }\n",
       "\n",
       "    .dataframe tbody tr th {\n",
       "        vertical-align: top;\n",
       "    }\n",
       "\n",
       "    .dataframe thead th {\n",
       "        text-align: right;\n",
       "    }\n",
       "</style>\n",
       "<table border=\"1\" class=\"dataframe\">\n",
       "  <thead>\n",
       "    <tr style=\"text-align: right;\">\n",
       "      <th></th>\n",
       "      <th>agreeableness</th>\n",
       "      <th>neuroticism</th>\n",
       "      <th>conscientiousness</th>\n",
       "      <th>extraversion</th>\n",
       "      <th>Age</th>\n",
       "      <th>openness</th>\n",
       "    </tr>\n",
       "  </thead>\n",
       "  <tbody>\n",
       "    <tr>\n",
       "      <th>159</th>\n",
       "      <td>3</td>\n",
       "      <td>5</td>\n",
       "      <td>3</td>\n",
       "      <td>2</td>\n",
       "      <td>19</td>\n",
       "      <td>3</td>\n",
       "    </tr>\n",
       "    <tr>\n",
       "      <th>93</th>\n",
       "      <td>8</td>\n",
       "      <td>3</td>\n",
       "      <td>6</td>\n",
       "      <td>6</td>\n",
       "      <td>21</td>\n",
       "      <td>5</td>\n",
       "    </tr>\n",
       "    <tr>\n",
       "      <th>24</th>\n",
       "      <td>5</td>\n",
       "      <td>1</td>\n",
       "      <td>5</td>\n",
       "      <td>6</td>\n",
       "      <td>19</td>\n",
       "      <td>6</td>\n",
       "    </tr>\n",
       "    <tr>\n",
       "      <th>261</th>\n",
       "      <td>5</td>\n",
       "      <td>5</td>\n",
       "      <td>5</td>\n",
       "      <td>5</td>\n",
       "      <td>5</td>\n",
       "      <td>5</td>\n",
       "    </tr>\n",
       "    <tr>\n",
       "      <th>119</th>\n",
       "      <td>7</td>\n",
       "      <td>7</td>\n",
       "      <td>5</td>\n",
       "      <td>6</td>\n",
       "      <td>23</td>\n",
       "      <td>6</td>\n",
       "    </tr>\n",
       "    <tr>\n",
       "      <th>...</th>\n",
       "      <td>...</td>\n",
       "      <td>...</td>\n",
       "      <td>...</td>\n",
       "      <td>...</td>\n",
       "      <td>...</td>\n",
       "      <td>...</td>\n",
       "    </tr>\n",
       "    <tr>\n",
       "      <th>222</th>\n",
       "      <td>4</td>\n",
       "      <td>6</td>\n",
       "      <td>5</td>\n",
       "      <td>4</td>\n",
       "      <td>19</td>\n",
       "      <td>6</td>\n",
       "    </tr>\n",
       "    <tr>\n",
       "      <th>287</th>\n",
       "      <td>6</td>\n",
       "      <td>5</td>\n",
       "      <td>5</td>\n",
       "      <td>4</td>\n",
       "      <td>19</td>\n",
       "      <td>6</td>\n",
       "    </tr>\n",
       "    <tr>\n",
       "      <th>227</th>\n",
       "      <td>2</td>\n",
       "      <td>7</td>\n",
       "      <td>3</td>\n",
       "      <td>5</td>\n",
       "      <td>20</td>\n",
       "      <td>3</td>\n",
       "    </tr>\n",
       "    <tr>\n",
       "      <th>41</th>\n",
       "      <td>6</td>\n",
       "      <td>5</td>\n",
       "      <td>4</td>\n",
       "      <td>3</td>\n",
       "      <td>19</td>\n",
       "      <td>2</td>\n",
       "    </tr>\n",
       "    <tr>\n",
       "      <th>38</th>\n",
       "      <td>3</td>\n",
       "      <td>7</td>\n",
       "      <td>3</td>\n",
       "      <td>7</td>\n",
       "      <td>17</td>\n",
       "      <td>3</td>\n",
       "    </tr>\n",
       "  </tbody>\n",
       "</table>\n",
       "<p>218 rows × 6 columns</p>\n",
       "</div>"
      ],
      "text/plain": [
       "     agreeableness  neuroticism  conscientiousness  extraversion  Age  \\\n",
       "159              3            5                  3             2   19   \n",
       "93               8            3                  6             6   21   \n",
       "24               5            1                  5             6   19   \n",
       "261              5            5                  5             5    5   \n",
       "119              7            7                  5             6   23   \n",
       "..             ...          ...                ...           ...  ...   \n",
       "222              4            6                  5             4   19   \n",
       "287              6            5                  5             4   19   \n",
       "227              2            7                  3             5   20   \n",
       "41               6            5                  4             3   19   \n",
       "38               3            7                  3             7   17   \n",
       "\n",
       "     openness  \n",
       "159         3  \n",
       "93          5  \n",
       "24          6  \n",
       "261         5  \n",
       "119         6  \n",
       "..        ...  \n",
       "222         6  \n",
       "287         6  \n",
       "227         3  \n",
       "41          2  \n",
       "38          3  \n",
       "\n",
       "[218 rows x 6 columns]"
      ]
     },
     "execution_count": 259,
     "metadata": {},
     "output_type": "execute_result"
    }
   ],
   "source": [
    "X_train"
   ]
  },
  {
   "cell_type": "code",
   "execution_count": 260,
   "id": "fcc58f47-2a22-4af6-b857-45c54014ae07",
   "metadata": {
    "tags": []
   },
   "outputs": [
    {
     "data": {
      "text/html": [
       "<div>\n",
       "<style scoped>\n",
       "    .dataframe tbody tr th:only-of-type {\n",
       "        vertical-align: middle;\n",
       "    }\n",
       "\n",
       "    .dataframe tbody tr th {\n",
       "        vertical-align: top;\n",
       "    }\n",
       "\n",
       "    .dataframe thead th {\n",
       "        text-align: right;\n",
       "    }\n",
       "</style>\n",
       "<table border=\"1\" class=\"dataframe\">\n",
       "  <thead>\n",
       "    <tr style=\"text-align: right;\">\n",
       "      <th></th>\n",
       "      <th>agreeableness</th>\n",
       "      <th>neuroticism</th>\n",
       "      <th>conscientiousness</th>\n",
       "      <th>extraversion</th>\n",
       "      <th>Age</th>\n",
       "      <th>openness</th>\n",
       "    </tr>\n",
       "  </thead>\n",
       "  <tbody>\n",
       "    <tr>\n",
       "      <th>41</th>\n",
       "      <td>6</td>\n",
       "      <td>5</td>\n",
       "      <td>4</td>\n",
       "      <td>3</td>\n",
       "      <td>19</td>\n",
       "      <td>2</td>\n",
       "    </tr>\n",
       "    <tr>\n",
       "      <th>156</th>\n",
       "      <td>6</td>\n",
       "      <td>7</td>\n",
       "      <td>2</td>\n",
       "      <td>5</td>\n",
       "      <td>21</td>\n",
       "      <td>5</td>\n",
       "    </tr>\n",
       "    <tr>\n",
       "      <th>54</th>\n",
       "      <td>3</td>\n",
       "      <td>6</td>\n",
       "      <td>5</td>\n",
       "      <td>6</td>\n",
       "      <td>19</td>\n",
       "      <td>6</td>\n",
       "    </tr>\n",
       "    <tr>\n",
       "      <th>22</th>\n",
       "      <td>5</td>\n",
       "      <td>5</td>\n",
       "      <td>6</td>\n",
       "      <td>5</td>\n",
       "      <td>20</td>\n",
       "      <td>4</td>\n",
       "    </tr>\n",
       "    <tr>\n",
       "      <th>272</th>\n",
       "      <td>5</td>\n",
       "      <td>5</td>\n",
       "      <td>4</td>\n",
       "      <td>3</td>\n",
       "      <td>22</td>\n",
       "      <td>5</td>\n",
       "    </tr>\n",
       "    <tr>\n",
       "      <th>...</th>\n",
       "      <td>...</td>\n",
       "      <td>...</td>\n",
       "      <td>...</td>\n",
       "      <td>...</td>\n",
       "      <td>...</td>\n",
       "      <td>...</td>\n",
       "    </tr>\n",
       "    <tr>\n",
       "      <th>64</th>\n",
       "      <td>8</td>\n",
       "      <td>5</td>\n",
       "      <td>4</td>\n",
       "      <td>7</td>\n",
       "      <td>18</td>\n",
       "      <td>3</td>\n",
       "    </tr>\n",
       "    <tr>\n",
       "      <th>43</th>\n",
       "      <td>1</td>\n",
       "      <td>2</td>\n",
       "      <td>5</td>\n",
       "      <td>4</td>\n",
       "      <td>20</td>\n",
       "      <td>8</td>\n",
       "    </tr>\n",
       "    <tr>\n",
       "      <th>160</th>\n",
       "      <td>6</td>\n",
       "      <td>6</td>\n",
       "      <td>5</td>\n",
       "      <td>1</td>\n",
       "      <td>20</td>\n",
       "      <td>5</td>\n",
       "    </tr>\n",
       "    <tr>\n",
       "      <th>57</th>\n",
       "      <td>6</td>\n",
       "      <td>4</td>\n",
       "      <td>5</td>\n",
       "      <td>4</td>\n",
       "      <td>21</td>\n",
       "      <td>4</td>\n",
       "    </tr>\n",
       "    <tr>\n",
       "      <th>128</th>\n",
       "      <td>6</td>\n",
       "      <td>1</td>\n",
       "      <td>6</td>\n",
       "      <td>4</td>\n",
       "      <td>19</td>\n",
       "      <td>4</td>\n",
       "    </tr>\n",
       "  </tbody>\n",
       "</table>\n",
       "<p>94 rows × 6 columns</p>\n",
       "</div>"
      ],
      "text/plain": [
       "     agreeableness  neuroticism  conscientiousness  extraversion  Age  \\\n",
       "41               6            5                  4             3   19   \n",
       "156              6            7                  2             5   21   \n",
       "54               3            6                  5             6   19   \n",
       "22               5            5                  6             5   20   \n",
       "272              5            5                  4             3   22   \n",
       "..             ...          ...                ...           ...  ...   \n",
       "64               8            5                  4             7   18   \n",
       "43               1            2                  5             4   20   \n",
       "160              6            6                  5             1   20   \n",
       "57               6            4                  5             4   21   \n",
       "128              6            1                  6             4   19   \n",
       "\n",
       "     openness  \n",
       "41          2  \n",
       "156         5  \n",
       "54          6  \n",
       "22          4  \n",
       "272         5  \n",
       "..        ...  \n",
       "64          3  \n",
       "43          8  \n",
       "160         5  \n",
       "57          4  \n",
       "128         4  \n",
       "\n",
       "[94 rows x 6 columns]"
      ]
     },
     "execution_count": 260,
     "metadata": {},
     "output_type": "execute_result"
    }
   ],
   "source": [
    "X_test"
   ]
  },
  {
   "cell_type": "code",
   "execution_count": 278,
   "id": "3913900c-ad83-426d-b44d-827c4fb2387c",
   "metadata": {
    "tags": []
   },
   "outputs": [
    {
     "ename": "NameError",
     "evalue": "name 'np' is not defined",
     "output_type": "error",
     "traceback": [
      "\u001b[0;31m---------------------------------------------------------------------------\u001b[0m",
      "\u001b[0;31mNameError\u001b[0m                                 Traceback (most recent call last)",
      "Cell \u001b[0;32mIn[278], line 1\u001b[0m\n\u001b[0;32m----> 1\u001b[0m \u001b[38;5;28mtype\u001b[39m(\u001b[43mnp\u001b[49m\u001b[38;5;241m.\u001b[39mSeries(y_train))\n",
      "\u001b[0;31mNameError\u001b[0m: name 'np' is not defined"
     ]
    }
   ],
   "source": []
  },
  {
   "cell_type": "code",
   "execution_count": 273,
   "id": "d9621646-4749-4f1c-a5a5-ab541a082812",
   "metadata": {
    "tags": []
   },
   "outputs": [
    {
     "data": {
      "text/html": [
       "<div>\n",
       "<style scoped>\n",
       "    .dataframe tbody tr th:only-of-type {\n",
       "        vertical-align: middle;\n",
       "    }\n",
       "\n",
       "    .dataframe tbody tr th {\n",
       "        vertical-align: top;\n",
       "    }\n",
       "\n",
       "    .dataframe thead tr th {\n",
       "        text-align: left;\n",
       "    }\n",
       "</style>\n",
       "<table border=\"1\" class=\"dataframe\">\n",
       "  <thead>\n",
       "    <tr>\n",
       "      <th></th>\n",
       "      <th>dependable</th>\n",
       "      <th>extraverted</th>\n",
       "      <th>lively</th>\n",
       "      <th>responsible</th>\n",
       "      <th>serious</th>\n",
       "    </tr>\n",
       "  </thead>\n",
       "  <tbody>\n",
       "    <tr>\n",
       "      <th>0</th>\n",
       "      <td>0.0</td>\n",
       "      <td>0.0</td>\n",
       "      <td>0.0</td>\n",
       "      <td>1.0</td>\n",
       "      <td>0.0</td>\n",
       "    </tr>\n",
       "    <tr>\n",
       "      <th>1</th>\n",
       "      <td>0.0</td>\n",
       "      <td>0.0</td>\n",
       "      <td>0.0</td>\n",
       "      <td>0.0</td>\n",
       "      <td>1.0</td>\n",
       "    </tr>\n",
       "    <tr>\n",
       "      <th>2</th>\n",
       "      <td>0.0</td>\n",
       "      <td>1.0</td>\n",
       "      <td>0.0</td>\n",
       "      <td>0.0</td>\n",
       "      <td>0.0</td>\n",
       "    </tr>\n",
       "    <tr>\n",
       "      <th>3</th>\n",
       "      <td>0.0</td>\n",
       "      <td>0.0</td>\n",
       "      <td>0.0</td>\n",
       "      <td>1.0</td>\n",
       "      <td>0.0</td>\n",
       "    </tr>\n",
       "    <tr>\n",
       "      <th>4</th>\n",
       "      <td>0.0</td>\n",
       "      <td>1.0</td>\n",
       "      <td>0.0</td>\n",
       "      <td>0.0</td>\n",
       "      <td>0.0</td>\n",
       "    </tr>\n",
       "    <tr>\n",
       "      <th>...</th>\n",
       "      <td>...</td>\n",
       "      <td>...</td>\n",
       "      <td>...</td>\n",
       "      <td>...</td>\n",
       "      <td>...</td>\n",
       "    </tr>\n",
       "    <tr>\n",
       "      <th>213</th>\n",
       "      <td>1.0</td>\n",
       "      <td>0.0</td>\n",
       "      <td>0.0</td>\n",
       "      <td>0.0</td>\n",
       "      <td>0.0</td>\n",
       "    </tr>\n",
       "    <tr>\n",
       "      <th>214</th>\n",
       "      <td>0.0</td>\n",
       "      <td>1.0</td>\n",
       "      <td>0.0</td>\n",
       "      <td>0.0</td>\n",
       "      <td>0.0</td>\n",
       "    </tr>\n",
       "    <tr>\n",
       "      <th>215</th>\n",
       "      <td>0.0</td>\n",
       "      <td>1.0</td>\n",
       "      <td>0.0</td>\n",
       "      <td>0.0</td>\n",
       "      <td>0.0</td>\n",
       "    </tr>\n",
       "    <tr>\n",
       "      <th>216</th>\n",
       "      <td>0.0</td>\n",
       "      <td>0.0</td>\n",
       "      <td>0.0</td>\n",
       "      <td>1.0</td>\n",
       "      <td>0.0</td>\n",
       "    </tr>\n",
       "    <tr>\n",
       "      <th>217</th>\n",
       "      <td>0.0</td>\n",
       "      <td>1.0</td>\n",
       "      <td>0.0</td>\n",
       "      <td>0.0</td>\n",
       "      <td>0.0</td>\n",
       "    </tr>\n",
       "  </tbody>\n",
       "</table>\n",
       "<p>218 rows × 5 columns</p>\n",
       "</div>"
      ],
      "text/plain": [
       "    dependable extraverted lively responsible serious\n",
       "0          0.0         0.0    0.0         1.0     0.0\n",
       "1          0.0         0.0    0.0         0.0     1.0\n",
       "2          0.0         1.0    0.0         0.0     0.0\n",
       "3          0.0         0.0    0.0         1.0     0.0\n",
       "4          0.0         1.0    0.0         0.0     0.0\n",
       "..         ...         ...    ...         ...     ...\n",
       "213        1.0         0.0    0.0         0.0     0.0\n",
       "214        0.0         1.0    0.0         0.0     0.0\n",
       "215        0.0         1.0    0.0         0.0     0.0\n",
       "216        0.0         0.0    0.0         1.0     0.0\n",
       "217        0.0         1.0    0.0         0.0     0.0\n",
       "\n",
       "[218 rows x 5 columns]"
      ]
     },
     "execution_count": 273,
     "metadata": {},
     "output_type": "execute_result"
    }
   ],
   "source": [
    "# y_train = one_hot_encode(y_train)\n",
    "y_train"
   ]
  },
  {
   "cell_type": "code",
   "execution_count": 269,
   "id": "dc93fff2-e226-4fdf-bc0d-b6ede054c1b3",
   "metadata": {
    "tags": []
   },
   "outputs": [],
   "source": [
    "y_test = one_hot_encode(y_test)"
   ]
  },
  {
   "cell_type": "code",
   "execution_count": 283,
   "id": "f5a693f7-43c3-48f8-a56c-82ac301b02b0",
   "metadata": {
    "tags": []
   },
   "outputs": [],
   "source": [
    "# #Import svm model\n",
    "# from sklearn import svm\n",
    "\n",
    "# #Create a svm Classifier\n",
    "# clf = svm.SVC(kernel='linear') # Linear Kernel\n",
    "\n",
    "# #Train the model using the training sets\n",
    "# clf.fit(X_train, y_train)\n",
    "\n",
    "# #Predict the response for test dataset\n",
    "# y_pred = clf.predict(X_test)"
   ]
  },
  {
   "cell_type": "code",
   "execution_count": 355,
   "id": "ea9ba2b6-8c13-4b78-a1c1-5d04095f0b36",
   "metadata": {
    "tags": []
   },
   "outputs": [],
   "source": [
    "from sklearn.tree import DecisionTreeClassifier # Import Decision Tree Classifier\n",
    "from sklearn import metrics #Import scikit-learn metrics module for accuracy calculation\n",
    "\n",
    "# Create Decision Tree classifer object\n",
    "clf = DecisionTreeClassifier(\n",
    "    # max_features=5,\n",
    ")\n",
    "\n",
    "# Train Decision Tree Classifer\n",
    "clf = clf.fit(X_train,y_train)\n",
    "\n",
    "#Predict the response for test dataset\n",
    "y_pred = clf.predict(X_test)"
   ]
  },
  {
   "cell_type": "code",
   "execution_count": 346,
   "id": "016241b9-e0f9-4776-85a9-c1de2ee1cdc5",
   "metadata": {
    "tags": []
   },
   "outputs": [
    {
     "data": {
      "text/plain": [
       "array(['responsible', 'serious', 'serious', 'responsible', 'dependable',\n",
       "       'extraverted', 'responsible', 'serious', 'serious', 'responsible',\n",
       "       'dependable', 'extraverted', 'extraverted', 'serious', 'serious',\n",
       "       'extraverted', 'serious', 'extraverted', 'extraverted', 'serious',\n",
       "       'dependable', 'dependable', 'serious', 'extraverted',\n",
       "       'extraverted', 'extraverted', 'responsible', 'serious', 'serious',\n",
       "       'extraverted', 'responsible', 'dependable', 'serious', 'serious',\n",
       "       'serious', 'extraverted', 'dependable', 'lively', 'dependable',\n",
       "       'lively', 'dependable', 'extraverted', 'extraverted', 'serious',\n",
       "       'serious', 'lively', 'serious', 'serious', 'extraverted',\n",
       "       'serious', 'responsible', 'dependable', 'extraverted',\n",
       "       'dependable', 'serious', 'responsible', 'extraverted',\n",
       "       'extraverted', 'serious', 'serious', 'serious', 'extraverted',\n",
       "       'extraverted', 'serious', 'responsible', 'extraverted', 'serious',\n",
       "       'extraverted', 'extraverted', 'extraverted', 'lively', 'lively',\n",
       "       'responsible', 'serious', 'responsible', 'responsible', 'serious',\n",
       "       'extraverted', 'extraverted', 'extraverted', 'extraverted',\n",
       "       'extraverted', 'extraverted', 'responsible', 'serious',\n",
       "       'extraverted', 'extraverted', 'lively', 'extraverted',\n",
       "       'dependable', 'responsible', 'serious', 'lively', 'responsible'],\n",
       "      dtype=object)"
      ]
     },
     "execution_count": 346,
     "metadata": {},
     "output_type": "execute_result"
    }
   ],
   "source": [
    "y_pred"
   ]
  },
  {
   "cell_type": "code",
   "execution_count": 290,
   "id": "771e4ccb-46c3-400e-b0f5-d15d32f0d893",
   "metadata": {
    "tags": []
   },
   "outputs": [
    {
     "data": {
      "text/plain": [
       "array(['responsible', 'serious', 'serious', 'responsible', 'extraverted',\n",
       "       'extraverted', 'responsible', 'serious', 'extraverted',\n",
       "       'responsible', 'dependable', 'extraverted', 'extraverted',\n",
       "       'extraverted', 'serious', 'extraverted', 'serious', 'serious',\n",
       "       'extraverted', 'serious', 'dependable', 'responsible', 'serious',\n",
       "       'extraverted', 'extraverted', 'extraverted', 'responsible',\n",
       "       'serious', 'serious', 'serious', 'extraverted', 'responsible',\n",
       "       'serious', 'serious', 'extraverted', 'extraverted', 'dependable',\n",
       "       'responsible', 'dependable', 'lively', 'dependable', 'extraverted',\n",
       "       'extraverted', 'serious', 'serious', 'extraverted', 'serious',\n",
       "       'serious', 'responsible', 'serious', 'serious', 'responsible',\n",
       "       'extraverted', 'dependable', 'serious', 'responsible',\n",
       "       'extraverted', 'extraverted', 'serious', 'extraverted',\n",
       "       'extraverted', 'extraverted', 'extraverted', 'serious',\n",
       "       'responsible', 'extraverted', 'extraverted', 'extraverted',\n",
       "       'extraverted', 'extraverted', 'serious', 'lively', 'responsible',\n",
       "       'serious', 'responsible', 'serious', 'serious', 'extraverted',\n",
       "       'lively', 'extraverted', 'extraverted', 'serious', 'serious',\n",
       "       'responsible', 'serious', 'extraverted', 'extraverted', 'lively',\n",
       "       'extraverted', 'responsible', 'responsible', 'serious', 'lively',\n",
       "       'serious'], dtype=object)"
      ]
     },
     "execution_count": 290,
     "metadata": {},
     "output_type": "execute_result"
    }
   ],
   "source": [
    "y_test['Personality (Class label)'].__array__()"
   ]
  },
  {
   "cell_type": "code",
   "execution_count": 356,
   "id": "dc3708f8-2a14-4ead-a42a-c61d00654f54",
   "metadata": {
    "tags": []
   },
   "outputs": [
    {
     "name": "stdout",
     "output_type": "stream",
     "text": [
      "Accuracy: 85.1063829787234%\n"
     ]
    }
   ],
   "source": [
    "print(\"Accuracy: \",metrics.accuracy_score(y_test, y_pred)*100, '%', sep='')"
   ]
  },
  {
   "cell_type": "code",
   "execution_count": 317,
   "id": "14170162-7de4-4132-9352-822e0976e023",
   "metadata": {
    "tags": []
   },
   "outputs": [
    {
     "name": "stdout",
     "output_type": "stream",
     "text": [
      "|--- neuroticism <= 5.50\n",
      "|   |--- extraversion <= 4.50\n",
      "|   |   |--- openness <= 4.50\n",
      "|   |   |   |--- Age <= 23.50\n",
      "|   |   |   |   |--- Age <= 20.50\n",
      "|   |   |   |   |   |--- class: responsible\n",
      "|   |   |   |   |--- Age >  20.50\n",
      "|   |   |   |   |   |--- neuroticism <= 3.50\n",
      "|   |   |   |   |   |   |--- class: responsible\n",
      "|   |   |   |   |   |--- neuroticism >  3.50\n",
      "|   |   |   |   |   |   |--- class: serious\n",
      "|   |   |   |--- Age >  23.50\n",
      "|   |   |   |   |--- conscientiousness <= 5.50\n",
      "|   |   |   |   |   |--- class: extraverted\n",
      "|   |   |   |   |--- conscientiousness >  5.50\n",
      "|   |   |   |   |   |--- class: responsible\n",
      "|   |   |--- openness >  4.50\n",
      "|   |   |   |--- neuroticism <= 3.50\n",
      "|   |   |   |   |--- Age <= 18.00\n",
      "|   |   |   |   |   |--- class: serious\n",
      "|   |   |   |   |--- Age >  18.00\n",
      "|   |   |   |   |   |--- openness <= 7.50\n",
      "|   |   |   |   |   |   |--- Age <= 23.50\n",
      "|   |   |   |   |   |   |   |--- openness <= 6.50\n",
      "|   |   |   |   |   |   |   |   |--- class: responsible\n",
      "|   |   |   |   |   |   |   |--- openness >  6.50\n",
      "|   |   |   |   |   |   |   |   |--- class: lively\n",
      "|   |   |   |   |   |   |--- Age >  23.50\n",
      "|   |   |   |   |   |   |   |--- class: lively\n",
      "|   |   |   |   |   |--- openness >  7.50\n",
      "|   |   |   |   |   |   |--- class: extraverted\n",
      "|   |   |   |--- neuroticism >  3.50\n",
      "|   |   |   |   |--- conscientiousness <= 6.50\n",
      "|   |   |   |   |   |--- agreeableness <= 6.50\n",
      "|   |   |   |   |   |   |--- openness <= 5.50\n",
      "|   |   |   |   |   |   |   |--- extraversion <= 3.50\n",
      "|   |   |   |   |   |   |   |   |--- class: lively\n",
      "|   |   |   |   |   |   |   |--- extraversion >  3.50\n",
      "|   |   |   |   |   |   |   |   |--- class: extraverted\n",
      "|   |   |   |   |   |   |--- openness >  5.50\n",
      "|   |   |   |   |   |   |   |--- class: extraverted\n",
      "|   |   |   |   |   |--- agreeableness >  6.50\n",
      "|   |   |   |   |   |   |--- conscientiousness <= 5.50\n",
      "|   |   |   |   |   |   |   |--- class: extraverted\n",
      "|   |   |   |   |   |   |--- conscientiousness >  5.50\n",
      "|   |   |   |   |   |   |   |--- class: dependable\n",
      "|   |   |   |   |--- conscientiousness >  6.50\n",
      "|   |   |   |   |   |--- class: serious\n",
      "|   |--- extraversion >  4.50\n",
      "|   |   |--- conscientiousness <= 5.50\n",
      "|   |   |   |--- Age <= 18.50\n",
      "|   |   |   |   |--- agreeableness <= 5.50\n",
      "|   |   |   |   |   |--- conscientiousness <= 2.50\n",
      "|   |   |   |   |   |   |--- openness <= 2.50\n",
      "|   |   |   |   |   |   |   |--- class: lively\n",
      "|   |   |   |   |   |   |--- openness >  2.50\n",
      "|   |   |   |   |   |   |   |--- class: extraverted\n",
      "|   |   |   |   |   |--- conscientiousness >  2.50\n",
      "|   |   |   |   |   |   |--- class: responsible\n",
      "|   |   |   |   |--- agreeableness >  5.50\n",
      "|   |   |   |   |   |--- class: serious\n",
      "|   |   |   |--- Age >  18.50\n",
      "|   |   |   |   |--- neuroticism <= 4.50\n",
      "|   |   |   |   |   |--- Age <= 21.50\n",
      "|   |   |   |   |   |   |--- class: serious\n",
      "|   |   |   |   |   |--- Age >  21.50\n",
      "|   |   |   |   |   |   |--- neuroticism <= 1.50\n",
      "|   |   |   |   |   |   |   |--- class: dependable\n",
      "|   |   |   |   |   |   |--- neuroticism >  1.50\n",
      "|   |   |   |   |   |   |   |--- openness <= 6.50\n",
      "|   |   |   |   |   |   |   |   |--- conscientiousness <= 3.50\n",
      "|   |   |   |   |   |   |   |   |   |--- conscientiousness <= 1.50\n",
      "|   |   |   |   |   |   |   |   |   |   |--- class: serious\n",
      "|   |   |   |   |   |   |   |   |   |--- conscientiousness >  1.50\n",
      "|   |   |   |   |   |   |   |   |   |   |--- Age <= 23.50\n",
      "|   |   |   |   |   |   |   |   |   |   |   |--- class: responsible\n",
      "|   |   |   |   |   |   |   |   |   |   |--- Age >  23.50\n",
      "|   |   |   |   |   |   |   |   |   |   |   |--- class: dependable\n",
      "|   |   |   |   |   |   |   |   |--- conscientiousness >  3.50\n",
      "|   |   |   |   |   |   |   |   |   |--- class: serious\n",
      "|   |   |   |   |   |   |   |--- openness >  6.50\n",
      "|   |   |   |   |   |   |   |   |--- conscientiousness <= 3.50\n",
      "|   |   |   |   |   |   |   |   |   |--- class: extraverted\n",
      "|   |   |   |   |   |   |   |   |--- conscientiousness >  3.50\n",
      "|   |   |   |   |   |   |   |   |   |--- class: responsible\n",
      "|   |   |   |   |--- neuroticism >  4.50\n",
      "|   |   |   |   |   |--- agreeableness <= 6.00\n",
      "|   |   |   |   |   |   |--- openness <= 6.50\n",
      "|   |   |   |   |   |   |   |--- openness <= 5.50\n",
      "|   |   |   |   |   |   |   |   |--- openness <= 3.50\n",
      "|   |   |   |   |   |   |   |   |   |--- class: serious\n",
      "|   |   |   |   |   |   |   |   |--- openness >  3.50\n",
      "|   |   |   |   |   |   |   |   |   |--- Age <= 19.50\n",
      "|   |   |   |   |   |   |   |   |   |   |--- class: serious\n",
      "|   |   |   |   |   |   |   |   |   |--- Age >  19.50\n",
      "|   |   |   |   |   |   |   |   |   |   |--- extraversion <= 5.50\n",
      "|   |   |   |   |   |   |   |   |   |   |   |--- class: lively\n",
      "|   |   |   |   |   |   |   |   |   |   |--- extraversion >  5.50\n",
      "|   |   |   |   |   |   |   |   |   |   |   |--- class: responsible\n",
      "|   |   |   |   |   |   |   |--- openness >  5.50\n",
      "|   |   |   |   |   |   |   |   |--- class: extraverted\n",
      "|   |   |   |   |   |   |--- openness >  6.50\n",
      "|   |   |   |   |   |   |   |--- class: dependable\n",
      "|   |   |   |   |   |--- agreeableness >  6.00\n",
      "|   |   |   |   |   |   |--- class: extraverted\n",
      "|   |   |--- conscientiousness >  5.50\n",
      "|   |   |   |--- openness <= 6.50\n",
      "|   |   |   |   |--- openness <= 1.50\n",
      "|   |   |   |   |   |--- class: extraverted\n",
      "|   |   |   |   |--- openness >  1.50\n",
      "|   |   |   |   |   |--- Age <= 17.50\n",
      "|   |   |   |   |   |   |--- extraversion <= 5.50\n",
      "|   |   |   |   |   |   |   |--- class: extraverted\n",
      "|   |   |   |   |   |   |--- extraversion >  5.50\n",
      "|   |   |   |   |   |   |   |--- class: serious\n",
      "|   |   |   |   |   |--- Age >  17.50\n",
      "|   |   |   |   |   |   |--- class: serious\n",
      "|   |   |   |--- openness >  6.50\n",
      "|   |   |   |   |--- class: lively\n",
      "|--- neuroticism >  5.50\n",
      "|   |--- conscientiousness <= 6.50\n",
      "|   |   |--- agreeableness <= 1.50\n",
      "|   |   |   |--- class: serious\n",
      "|   |   |--- agreeableness >  1.50\n",
      "|   |   |   |--- neuroticism <= 6.50\n",
      "|   |   |   |   |--- extraversion <= 6.50\n",
      "|   |   |   |   |   |--- agreeableness <= 5.50\n",
      "|   |   |   |   |   |   |--- conscientiousness <= 5.50\n",
      "|   |   |   |   |   |   |   |--- Age <= 20.50\n",
      "|   |   |   |   |   |   |   |   |--- conscientiousness <= 1.50\n",
      "|   |   |   |   |   |   |   |   |   |--- class: responsible\n",
      "|   |   |   |   |   |   |   |   |--- conscientiousness >  1.50\n",
      "|   |   |   |   |   |   |   |   |   |--- extraversion <= 4.50\n",
      "|   |   |   |   |   |   |   |   |   |   |--- openness <= 5.50\n",
      "|   |   |   |   |   |   |   |   |   |   |   |--- class: extraverted\n",
      "|   |   |   |   |   |   |   |   |   |   |--- openness >  5.50\n",
      "|   |   |   |   |   |   |   |   |   |   |   |--- class: dependable\n",
      "|   |   |   |   |   |   |   |   |   |--- extraversion >  4.50\n",
      "|   |   |   |   |   |   |   |   |   |   |--- class: extraverted\n",
      "|   |   |   |   |   |   |   |--- Age >  20.50\n",
      "|   |   |   |   |   |   |   |   |--- agreeableness <= 3.50\n",
      "|   |   |   |   |   |   |   |   |   |--- class: extraverted\n",
      "|   |   |   |   |   |   |   |   |--- agreeableness >  3.50\n",
      "|   |   |   |   |   |   |   |   |   |--- class: serious\n",
      "|   |   |   |   |   |   |--- conscientiousness >  5.50\n",
      "|   |   |   |   |   |   |   |--- agreeableness <= 4.50\n",
      "|   |   |   |   |   |   |   |   |--- Age <= 24.00\n",
      "|   |   |   |   |   |   |   |   |   |--- agreeableness <= 2.50\n",
      "|   |   |   |   |   |   |   |   |   |   |--- class: responsible\n",
      "|   |   |   |   |   |   |   |   |   |--- agreeableness >  2.50\n",
      "|   |   |   |   |   |   |   |   |   |   |--- agreeableness <= 3.50\n",
      "|   |   |   |   |   |   |   |   |   |   |   |--- class: extraverted\n",
      "|   |   |   |   |   |   |   |   |   |   |--- agreeableness >  3.50\n",
      "|   |   |   |   |   |   |   |   |   |   |   |--- class: responsible\n",
      "|   |   |   |   |   |   |   |   |--- Age >  24.00\n",
      "|   |   |   |   |   |   |   |   |   |--- class: dependable\n",
      "|   |   |   |   |   |   |   |--- agreeableness >  4.50\n",
      "|   |   |   |   |   |   |   |   |--- class: extraverted\n",
      "|   |   |   |   |   |--- agreeableness >  5.50\n",
      "|   |   |   |   |   |   |--- class: extraverted\n",
      "|   |   |   |   |--- extraversion >  6.50\n",
      "|   |   |   |   |   |--- Age <= 19.50\n",
      "|   |   |   |   |   |   |--- class: serious\n",
      "|   |   |   |   |   |--- Age >  19.50\n",
      "|   |   |   |   |   |   |--- class: extraverted\n",
      "|   |   |   |--- neuroticism >  6.50\n",
      "|   |   |   |   |--- Age <= 24.00\n",
      "|   |   |   |   |   |--- class: extraverted\n",
      "|   |   |   |   |--- Age >  24.00\n",
      "|   |   |   |   |   |--- class: dependable\n",
      "|   |--- conscientiousness >  6.50\n",
      "|   |   |--- openness <= 5.50\n",
      "|   |   |   |--- neuroticism <= 6.50\n",
      "|   |   |   |   |--- openness <= 4.50\n",
      "|   |   |   |   |   |--- class: serious\n",
      "|   |   |   |   |--- openness >  4.50\n",
      "|   |   |   |   |   |--- extraversion <= 5.00\n",
      "|   |   |   |   |   |   |--- class: responsible\n",
      "|   |   |   |   |   |--- extraversion >  5.00\n",
      "|   |   |   |   |   |   |--- class: dependable\n",
      "|   |   |   |--- neuroticism >  6.50\n",
      "|   |   |   |   |--- class: extraverted\n",
      "|   |   |--- openness >  5.50\n",
      "|   |   |   |--- extraversion <= 3.00\n",
      "|   |   |   |   |--- class: responsible\n",
      "|   |   |   |--- extraversion >  3.00\n",
      "|   |   |   |   |--- class: dependable\n",
      "\n"
     ]
    }
   ],
   "source": [
    "from sklearn import tree\n",
    "\n",
    "# get the text representation\n",
    "text_representation = tree.export_text(clf, feature_names=list(X_train.columns))\n",
    "print(text_representation)\n",
    "\n"
   ]
  },
  {
   "cell_type": "code",
   "execution_count": 321,
   "id": "fcda99c6-55b7-4f2e-92ac-e7465ec6b1e0",
   "metadata": {
    "tags": []
   },
   "outputs": [
    {
     "data": {
      "text/plain": [
       "array(['serious', 'extraverted', 'responsible', 'dependable', 'lively'],\n",
       "      dtype=object)"
      ]
     },
     "execution_count": 321,
     "metadata": {},
     "output_type": "execute_result"
    }
   ],
   "source": [
    "y_train['Personality (Class label)'].unique()"
   ]
  },
  {
   "cell_type": "code",
   "execution_count": 316,
   "id": "0cca5cfd-b056-4270-b106-f34eda3e36d5",
   "metadata": {
    "tags": []
   },
   "outputs": [
    {
     "data": {
      "text/plain": [
       "Index(['agreeableness', 'neuroticism', 'conscientiousness', 'extraversion',\n",
       "       'Age', 'openness'],\n",
       "      dtype='object')"
      ]
     },
     "execution_count": 316,
     "metadata": {},
     "output_type": "execute_result"
    }
   ],
   "source": [
    "X_train.columns"
   ]
  },
  {
   "cell_type": "code",
   "execution_count": 318,
   "id": "1e3c63a9-ed1a-4ef3-aac4-89e5547a439f",
   "metadata": {
    "tags": []
   },
   "outputs": [
    {
     "data": {
      "text/plain": [
       "Index(['Personality (Class label)'], dtype='object')"
      ]
     },
     "execution_count": 318,
     "metadata": {},
     "output_type": "execute_result"
    }
   ],
   "source": [
    "y_train.columns"
   ]
  },
  {
   "cell_type": "code",
   "execution_count": 333,
   "id": "fd55a2c0-3f7b-4b8d-bca2-4305eae8b374",
   "metadata": {
    "tags": []
   },
   "outputs": [
    {
     "name": "stdout",
     "output_type": "stream",
     "text": [
      "def tree(agreeableness, neuroticism, conscientiousness, extraversion, Age, openness):\n",
      "  if neuroticism <= 5.5:\n",
      "    if extraversion <= 4.5:\n",
      "      if openness <= 4.5:\n",
      "        if Age <= 23.5:\n",
      "          if Age <= 20.5:\n",
      "            return [[ 0.  0.  0. 11.  0.]]\n",
      "          else:  # if Age > 20.5\n",
      "            if neuroticism <= 3.5:\n",
      "              return [[0. 0. 0. 3. 0.]]\n",
      "            else:  # if neuroticism > 3.5\n",
      "              return [[0. 0. 0. 0. 1.]]\n",
      "        else:  # if Age > 23.5\n",
      "          if conscientiousness <= 5.5:\n",
      "            return [[0. 2. 0. 0. 0.]]\n",
      "          else:  # if conscientiousness > 5.5\n",
      "            return [[0. 0. 0. 2. 0.]]\n",
      "      else:  # if openness > 4.5\n",
      "        if neuroticism <= 3.5:\n",
      "          if Age <= 18.0:\n",
      "            return [[0. 0. 0. 0. 2.]]\n",
      "          else:  # if Age > 18.0\n",
      "            if openness <= 7.5:\n",
      "              if Age <= 23.5:\n",
      "                if openness <= 6.5:\n",
      "                  return [[0. 0. 0. 5. 0.]]\n",
      "                else:  # if openness > 6.5\n",
      "                  return [[0. 0. 2. 0. 0.]]\n",
      "              else:  # if Age > 23.5\n",
      "                return [[0. 0. 3. 0. 0.]]\n",
      "            else:  # if openness > 7.5\n",
      "              return [[0. 2. 0. 0. 0.]]\n",
      "        else:  # if neuroticism > 3.5\n",
      "          if conscientiousness <= 6.5:\n",
      "            if agreeableness <= 6.5:\n",
      "              if openness <= 5.5:\n",
      "                if extraversion <= 3.5:\n",
      "                  return [[0. 0. 1. 0. 0.]]\n",
      "                else:  # if extraversion > 3.5\n",
      "                  return [[0. 3. 0. 0. 0.]]\n",
      "              else:  # if openness > 5.5\n",
      "                return [[0. 7. 0. 0. 0.]]\n",
      "            else:  # if agreeableness > 6.5\n",
      "              if conscientiousness <= 5.5:\n",
      "                return [[0. 1. 0. 0. 0.]]\n",
      "              else:  # if conscientiousness > 5.5\n",
      "                return [[2. 0. 0. 0. 0.]]\n",
      "          else:  # if conscientiousness > 6.5\n",
      "            return [[0. 0. 0. 0. 3.]]\n",
      "    else:  # if extraversion > 4.5\n",
      "      if conscientiousness <= 5.5:\n",
      "        if Age <= 18.5:\n",
      "          if agreeableness <= 5.5:\n",
      "            if conscientiousness <= 2.5:\n",
      "              if openness <= 2.5:\n",
      "                return [[0. 0. 2. 0. 0.]]\n",
      "              else:  # if openness > 2.5\n",
      "                return [[0. 1. 0. 0. 0.]]\n",
      "            else:  # if conscientiousness > 2.5\n",
      "              return [[0. 0. 0. 7. 0.]]\n",
      "          else:  # if agreeableness > 5.5\n",
      "            return [[0. 0. 0. 0. 3.]]\n",
      "        else:  # if Age > 18.5\n",
      "          if neuroticism <= 4.5:\n",
      "            if Age <= 21.5:\n",
      "              return [[ 0.  0.  0.  0. 11.]]\n",
      "            else:  # if Age > 21.5\n",
      "              if neuroticism <= 1.5:\n",
      "                return [[2. 0. 0. 0. 0.]]\n",
      "              else:  # if neuroticism > 1.5\n",
      "                if openness <= 6.5:\n",
      "                  if conscientiousness <= 3.5:\n",
      "                    if conscientiousness <= 1.5:\n",
      "                      return [[0. 0. 0. 0. 3.]]\n",
      "                    else:  # if conscientiousness > 1.5\n",
      "                      if Age <= 23.5:\n",
      "                        return [[0. 0. 0. 1. 0.]]\n",
      "                      else:  # if Age > 23.5\n",
      "                        return [[1. 0. 0. 0. 0.]]\n",
      "                  else:  # if conscientiousness > 3.5\n",
      "                    return [[0. 0. 0. 0. 4.]]\n",
      "                else:  # if openness > 6.5\n",
      "                  if conscientiousness <= 3.5:\n",
      "                    return [[0. 1. 0. 0. 0.]]\n",
      "                  else:  # if conscientiousness > 3.5\n",
      "                    return [[0. 0. 0. 1. 0.]]\n",
      "          else:  # if neuroticism > 4.5\n",
      "            if agreeableness <= 6.0:\n",
      "              if openness <= 6.5:\n",
      "                if openness <= 5.5:\n",
      "                  if openness <= 3.5:\n",
      "                    return [[0. 0. 0. 0. 2.]]\n",
      "                  else:  # if openness > 3.5\n",
      "                    if Age <= 19.5:\n",
      "                      return [[0. 0. 0. 0. 1.]]\n",
      "                    else:  # if Age > 19.5\n",
      "                      if extraversion <= 5.5:\n",
      "                        return [[0. 0. 1. 0. 0.]]\n",
      "                      else:  # if extraversion > 5.5\n",
      "                        return [[0. 0. 0. 1. 0.]]\n",
      "                else:  # if openness > 5.5\n",
      "                  return [[0. 1. 0. 0. 0.]]\n",
      "              else:  # if openness > 6.5\n",
      "                return [[2. 0. 0. 0. 0.]]\n",
      "            else:  # if agreeableness > 6.0\n",
      "              return [[0. 3. 0. 0. 0.]]\n",
      "      else:  # if conscientiousness > 5.5\n",
      "        if openness <= 6.5:\n",
      "          if openness <= 1.5:\n",
      "            return [[0. 2. 0. 0. 0.]]\n",
      "          else:  # if openness > 1.5\n",
      "            if Age <= 17.5:\n",
      "              if extraversion <= 5.5:\n",
      "                return [[0. 2. 0. 0. 0.]]\n",
      "              else:  # if extraversion > 5.5\n",
      "                return [[0. 0. 0. 0. 2.]]\n",
      "            else:  # if Age > 17.5\n",
      "              return [[ 0.  0.  0.  0. 26.]]\n",
      "        else:  # if openness > 6.5\n",
      "          return [[0. 0. 2. 0. 0.]]\n",
      "  else:  # if neuroticism > 5.5\n",
      "    if conscientiousness <= 6.5:\n",
      "      if agreeableness <= 1.5:\n",
      "        return [[0. 0. 0. 0. 2.]]\n",
      "      else:  # if agreeableness > 1.5\n",
      "        if neuroticism <= 6.5:\n",
      "          if extraversion <= 6.5:\n",
      "            if agreeableness <= 5.5:\n",
      "              if conscientiousness <= 5.5:\n",
      "                if Age <= 20.5:\n",
      "                  if conscientiousness <= 1.5:\n",
      "                    return [[0. 0. 0. 1. 0.]]\n",
      "                  else:  # if conscientiousness > 1.5\n",
      "                    if extraversion <= 4.5:\n",
      "                      if openness <= 5.5:\n",
      "                        return [[0. 4. 0. 0. 0.]]\n",
      "                      else:  # if openness > 5.5\n",
      "                        return [[1. 0. 0. 0. 0.]]\n",
      "                    else:  # if extraversion > 4.5\n",
      "                      return [[0. 7. 0. 0. 0.]]\n",
      "                else:  # if Age > 20.5\n",
      "                  if agreeableness <= 3.5:\n",
      "                    return [[0. 2. 0. 0. 0.]]\n",
      "                  else:  # if agreeableness > 3.5\n",
      "                    return [[0. 0. 0. 0. 2.]]\n",
      "              else:  # if conscientiousness > 5.5\n",
      "                if agreeableness <= 4.5:\n",
      "                  if Age <= 24.0:\n",
      "                    if agreeableness <= 2.5:\n",
      "                      return [[0. 0. 0. 3. 0.]]\n",
      "                    else:  # if agreeableness > 2.5\n",
      "                      if agreeableness <= 3.5:\n",
      "                        return [[0. 1. 0. 0. 0.]]\n",
      "                      else:  # if agreeableness > 3.5\n",
      "                        return [[0. 0. 0. 2. 0.]]\n",
      "                  else:  # if Age > 24.0\n",
      "                    return [[1. 0. 0. 0. 0.]]\n",
      "                else:  # if agreeableness > 4.5\n",
      "                  return [[0. 2. 0. 0. 0.]]\n",
      "            else:  # if agreeableness > 5.5\n",
      "              return [[ 0. 12.  0.  0.  0.]]\n",
      "          else:  # if extraversion > 6.5\n",
      "            if Age <= 19.5:\n",
      "              return [[0. 0. 0. 0. 4.]]\n",
      "            else:  # if Age > 19.5\n",
      "              return [[0. 2. 0. 0. 0.]]\n",
      "        else:  # if neuroticism > 6.5\n",
      "          if Age <= 24.0:\n",
      "            return [[ 0. 21.  0.  0.  0.]]\n",
      "          else:  # if Age > 24.0\n",
      "            return [[1. 0. 0. 0. 0.]]\n",
      "    else:  # if conscientiousness > 6.5\n",
      "      if openness <= 5.5:\n",
      "        if neuroticism <= 6.5:\n",
      "          if openness <= 4.5:\n",
      "            return [[0. 0. 0. 0. 5.]]\n",
      "          else:  # if openness > 4.5\n",
      "            if extraversion <= 5.0:\n",
      "              return [[0. 0. 0. 1. 0.]]\n",
      "            else:  # if extraversion > 5.0\n",
      "              return [[1. 0. 0. 0. 0.]]\n",
      "        else:  # if neuroticism > 6.5\n",
      "          return [[0. 5. 0. 0. 0.]]\n",
      "      else:  # if openness > 5.5\n",
      "        if extraversion <= 3.0:\n",
      "          return [[0. 0. 0. 1. 0.]]\n",
      "        else:  # if extraversion > 3.0\n",
      "          return [[5. 0. 0. 0. 0.]]\n"
     ]
    }
   ],
   "source": [
    "from sklearn.tree import _tree\n",
    "\n",
    "def tree_to_code(tree, feature_names):\n",
    "    tree_ = tree.tree_\n",
    "    feature_name = [\n",
    "        feature_names[i] if i != _tree.TREE_UNDEFINED else \"undefined!\"\n",
    "        for i in tree_.feature\n",
    "    ]\n",
    "    print (\"def tree({}):\".format(\", \".join(feature_names)))\n",
    "\n",
    "    def recurse(node, depth):\n",
    "        indent = \"  \" * depth\n",
    "        if tree_.feature[node] != _tree.TREE_UNDEFINED:\n",
    "            name = feature_name[node]\n",
    "            threshold = tree_.threshold[node]\n",
    "            print (\"{}if {} <= {}:\".format(indent, name, threshold))\n",
    "            recurse(tree_.children_left[node], depth + 1)\n",
    "            print (\"{}else:  # if {} > {}\".format(indent, name, threshold))\n",
    "            recurse(tree_.children_right[node], depth + 1)\n",
    "        else:\n",
    "            print (\"{}return {}\".format(indent, tree_.value[node]))\n",
    "\n",
    "    recurse(0, 1)\n",
    "    \n",
    "tree_to_code(clf, X_train.columns)"
   ]
  },
  {
   "cell_type": "code",
   "execution_count": 335,
   "id": "e06d880b-f984-4b5d-9404-6c7e0062b2a3",
   "metadata": {
    "tags": []
   },
   "outputs": [],
   "source": [
    "# from sklearn import tree\n",
    "# dotfile = open(\"/media/scarlet/Project/Project Files/Data Science/Personality Classifier/dt.dot\", 'w')\n",
    "# tree.export_graphviz(clf, out_file=dotfile, feature_names=X_train.columns)\n",
    "# dotfile.close()"
   ]
  },
  {
   "cell_type": "code",
   "execution_count": 340,
   "id": "cd76f1ba-881c-46a4-8bcc-3e6ff104611f",
   "metadata": {
    "tags": []
   },
   "outputs": [],
   "source": [
    "from sklearn.tree import export_graphviz\n",
    "\n",
    "# Uncomment to run - this is working - saves DOT File\n",
    "# export_graphviz(\n",
    "#     clf,\n",
    "#     out_file=\"/media/scarlet/Project/Project Files/Data Science/Personality Classifier/dt 2.dot\",\n",
    "#     feature_names=list(X_train.columns),\n",
    "#     class_names=y_train['Personality (Class label)'].unique(),rounded=True,\n",
    "#     filled=True\n",
    "#     )"
   ]
  },
  {
   "cell_type": "code",
   "execution_count": 357,
   "id": "8a071d4e-574c-46e2-b887-243686d91682",
   "metadata": {
    "tags": []
   },
   "outputs": [],
   "source": [
    "# from graphviz import Source\n",
    "# Source.from_file(\"/media/scarlet/Project/Project Files/Data Science/Personality Classifier/dt 2.dot\")"
   ]
  },
  {
   "cell_type": "code",
   "execution_count": null,
   "id": "c7c301cb-bcb1-491b-8cf4-85319eb62b78",
   "metadata": {},
   "outputs": [],
   "source": []
  },
  {
   "cell_type": "code",
   "execution_count": null,
   "id": "037980cb-0880-4351-850d-9d446ff2577f",
   "metadata": {},
   "outputs": [],
   "source": []
  },
  {
   "cell_type": "code",
   "execution_count": null,
   "id": "d4de3360-61dd-4f34-811d-d27a9af40f4f",
   "metadata": {},
   "outputs": [],
   "source": []
  },
  {
   "cell_type": "code",
   "execution_count": 521,
   "id": "245a150e-279a-41cf-8910-851171ccd72d",
   "metadata": {
    "tags": []
   },
   "outputs": [],
   "source": [
    "from sklearn import svm\n",
    "clf = svm.SVC(\n",
    " C=1.0, kernel='rbf', degree=3, gamma='scale', coef0=0.0, shrinking=True, probability=False, tol=0.001, cache_size=200, \n",
    ")"
   ]
  },
  {
   "cell_type": "code",
   "execution_count": 522,
   "id": "a969488a-1b2b-404d-9306-4439d82ee471",
   "metadata": {
    "tags": []
   },
   "outputs": [
    {
     "name": "stderr",
     "output_type": "stream",
     "text": [
      "/media/scarlet/Project/Project Files/PythonEnvs/DataSciEnv/lib/python3.10/site-packages/sklearn/utils/validation.py:1143: DataConversionWarning: A column-vector y was passed when a 1d array was expected. Please change the shape of y to (n_samples, ), for example using ravel().\n",
      "  y = column_or_1d(y, warn=True)\n"
     ]
    }
   ],
   "source": [
    "# Train Decision Tree Classifer\n",
    "clf = clf.fit(X_train,y_train)\n",
    "\n",
    "#Predict the response for test dataset\n",
    "y_pred = clf.predict(X_test)"
   ]
  },
  {
   "cell_type": "code",
   "execution_count": 523,
   "id": "fb65c9a5-de42-499d-942e-1828bf9a5c4b",
   "metadata": {
    "tags": []
   },
   "outputs": [
    {
     "data": {
      "text/plain": [
       "array(['responsible', 'serious', 'serious', 'serious', 'extraverted',\n",
       "       'extraverted', 'serious', 'serious', 'extraverted', 'serious',\n",
       "       'serious', 'extraverted', 'extraverted', 'extraverted', 'serious',\n",
       "       'extraverted', 'serious', 'serious', 'extraverted', 'serious',\n",
       "       'serious', 'responsible', 'serious', 'extraverted', 'extraverted',\n",
       "       'extraverted', 'responsible', 'serious', 'serious', 'serious',\n",
       "       'extraverted', 'extraverted', 'serious', 'serious', 'extraverted',\n",
       "       'extraverted', 'extraverted', 'serious', 'extraverted', 'serious',\n",
       "       'serious', 'extraverted', 'extraverted', 'serious', 'serious',\n",
       "       'extraverted', 'serious', 'serious', 'serious', 'serious',\n",
       "       'serious', 'extraverted', 'extraverted', 'extraverted', 'serious',\n",
       "       'extraverted', 'extraverted', 'extraverted', 'serious', 'serious',\n",
       "       'extraverted', 'extraverted', 'extraverted', 'serious', 'serious',\n",
       "       'extraverted', 'serious', 'extraverted', 'extraverted',\n",
       "       'extraverted', 'serious', 'serious', 'responsible', 'serious',\n",
       "       'extraverted', 'serious', 'serious', 'extraverted', 'extraverted',\n",
       "       'extraverted', 'extraverted', 'serious', 'serious', 'extraverted',\n",
       "       'extraverted', 'extraverted', 'extraverted', 'extraverted',\n",
       "       'extraverted', 'extraverted', 'serious', 'serious', 'serious',\n",
       "       'serious'], dtype=object)"
      ]
     },
     "execution_count": 523,
     "metadata": {},
     "output_type": "execute_result"
    }
   ],
   "source": [
    "y_pred"
   ]
  },
  {
   "cell_type": "code",
   "execution_count": 524,
   "id": "c2317ff7-ec5f-4547-9368-46ec07283c6f",
   "metadata": {
    "tags": []
   },
   "outputs": [
    {
     "data": {
      "text/plain": [
       "array(['responsible', 'serious', 'serious', 'responsible', 'extraverted',\n",
       "       'extraverted', 'responsible', 'serious', 'extraverted',\n",
       "       'responsible', 'dependable', 'extraverted', 'extraverted',\n",
       "       'extraverted', 'serious', 'extraverted', 'serious', 'serious',\n",
       "       'extraverted', 'serious', 'dependable', 'responsible', 'serious',\n",
       "       'extraverted', 'extraverted', 'extraverted', 'responsible',\n",
       "       'serious', 'serious', 'serious', 'extraverted', 'responsible',\n",
       "       'serious', 'serious', 'extraverted', 'extraverted', 'dependable',\n",
       "       'responsible', 'dependable', 'lively', 'dependable', 'extraverted',\n",
       "       'extraverted', 'serious', 'serious', 'extraverted', 'serious',\n",
       "       'serious', 'responsible', 'serious', 'serious', 'responsible',\n",
       "       'extraverted', 'dependable', 'serious', 'responsible',\n",
       "       'extraverted', 'extraverted', 'serious', 'extraverted',\n",
       "       'extraverted', 'extraverted', 'extraverted', 'serious',\n",
       "       'responsible', 'extraverted', 'extraverted', 'extraverted',\n",
       "       'extraverted', 'extraverted', 'serious', 'lively', 'responsible',\n",
       "       'serious', 'responsible', 'serious', 'serious', 'extraverted',\n",
       "       'lively', 'extraverted', 'extraverted', 'serious', 'serious',\n",
       "       'responsible', 'serious', 'extraverted', 'extraverted', 'lively',\n",
       "       'extraverted', 'responsible', 'responsible', 'serious', 'lively',\n",
       "       'serious'], dtype=object)"
      ]
     },
     "execution_count": 524,
     "metadata": {},
     "output_type": "execute_result"
    }
   ],
   "source": [
    "y_test['Personality (Class label)'].__array__()"
   ]
  },
  {
   "cell_type": "code",
   "execution_count": 525,
   "id": "5329279a-0dd4-42b2-a5c7-9d1eefc378b5",
   "metadata": {
    "tags": []
   },
   "outputs": [
    {
     "name": "stdout",
     "output_type": "stream",
     "text": [
      "Accuracy: 71.27659574468085%\n"
     ]
    }
   ],
   "source": [
    "print(\"Accuracy: \",metrics.accuracy_score(y_test, y_pred)*100, '%', sep='')"
   ]
  },
  {
   "cell_type": "code",
   "execution_count": 510,
   "id": "1824eb0b-c4cf-49e6-9c86-616c28c9ee57",
   "metadata": {
    "tags": []
   },
   "outputs": [
    {
     "name": "stdout",
     "output_type": "stream",
     "text": [
      "Accuracy: 67.02127659574468%\n"
     ]
    }
   ],
   "source": [
    "from sklearn.neighbors import KNeighborsClassifier\n",
    "import numpy as np\n",
    "\n",
    "clf = KNeighborsClassifier(leaf_size=5, p=5)\n",
    "\n",
    "# Train Decision Tree Classifer\n",
    "clf = clf.fit(X_train,np.ravel(y_train))\n",
    "\n",
    "#Predict the response for test dataset\n",
    "y_pred = clf.predict(X_test)\n",
    "\n",
    "print(\"Accuracy: \",metrics.accuracy_score(np.ravel(y_test), np.ravel(y_pred))*100, '%', sep='')"
   ]
  },
  {
   "cell_type": "code",
   "execution_count": 586,
   "id": "cede4b30-392f-44b6-9e39-0d8a2a488aba",
   "metadata": {
    "tags": []
   },
   "outputs": [
    {
     "name": "stdout",
     "output_type": "stream",
     "text": [
      "Accuracy: 82.97872340425532%\n"
     ]
    }
   ],
   "source": [
    "from sklearn.neural_network import MLPClassifier\n",
    "\n",
    "clf = MLPClassifier(hidden_layer_sizes=(100,), activation='relu', \n",
    "                    solver='adam', alpha=0.00001, batch_size='auto', \n",
    "                    learning_rate='constant', learning_rate_init=0.001, \n",
    "                    power_t=0.5, max_iter=20000, shuffle=True, random_state=42, \n",
    "                    tol=0.0001, verbose=False, warm_start=False, momentum=0.9, \n",
    "                    nesterovs_momentum=True, early_stopping=False, \n",
    "                    validation_fraction=0.1, beta_1=0.9, beta_2=0.999, \n",
    "                    epsilon=1e-08, n_iter_no_change=100, max_fun=15000)\n",
    "\n",
    "clf = clf.fit(X_train,np.ravel(y_train))\n",
    "\n",
    "#Predict the response for test dataset\n",
    "y_pred = clf.predict(X_test)\n",
    "\n",
    "print(\"Accuracy: \",metrics.accuracy_score(np.ravel(y_test), np.ravel(y_pred))*100, '%', sep='')"
   ]
  },
  {
   "cell_type": "code",
   "execution_count": 595,
   "id": "ed2bdbb0-ecda-49c1-8bd4-72ab0fbf34f1",
   "metadata": {
    "tags": []
   },
   "outputs": [
    {
     "name": "stdout",
     "output_type": "stream",
     "text": [
      "Accuracy: 88.29787234042553%\n"
     ]
    }
   ],
   "source": [
    "from sklearn.gaussian_process import GaussianProcessClassifier\n",
    "\n",
    "clf = GaussianProcessClassifier(kernel=None, optimizer='fmin_l_bfgs_b', \n",
    "                                n_restarts_optimizer=0, max_iter_predict=100, \n",
    "                                warm_start=False, copy_X_train=True, \n",
    "                                random_state=42, multi_class='one_vs_rest', \n",
    "                                n_jobs=None)\n",
    "\n",
    "clf = clf.fit(X_train,np.ravel(y_train))\n",
    "\n",
    "#Predict the response for test dataset\n",
    "y_pred = clf.predict(X_test)\n",
    "\n",
    "print(\"Accuracy: \",metrics.accuracy_score(np.ravel(y_test), np.ravel(y_pred))*100, '%', sep='')"
   ]
  },
  {
   "cell_type": "code",
   "execution_count": 489,
   "id": "a37ca746-e2a5-4815-8f57-3b95f76ed04e",
   "metadata": {
    "tags": []
   },
   "outputs": [
    {
     "name": "stdout",
     "output_type": "stream",
     "text": [
      "Accuracy: 67.02127659574468%\n"
     ]
    }
   ],
   "source": [
    "from sklearn.ensemble import RandomForestClassifier\n",
    "\n",
    "clf = RandomForestClassifier(n_estimators=50, min_samples_split=30, random_state=42)\n",
    "\n",
    "clf = clf.fit(X_train,np.ravel(y_train))\n",
    "\n",
    "#Predict the response for test dataset\n",
    "y_pred = clf.predict(X_test)\n",
    "\n",
    "print(\"Accuracy: \",metrics.accuracy_score(np.ravel(y_test), np.ravel(y_pred))*100, '%', sep='')"
   ]
  },
  {
   "cell_type": "code",
   "execution_count": 490,
   "id": "c9638cc0-60be-48f6-bb90-116ba62626e5",
   "metadata": {
    "tags": []
   },
   "outputs": [
    {
     "name": "stdout",
     "output_type": "stream",
     "text": [
      "Accuracy: 56.38297872340425%\n"
     ]
    }
   ],
   "source": [
    "from sklearn.ensemble import AdaBoostClassifier\n",
    "\n",
    "clf = AdaBoostClassifier(learning_rate=0.01, random_state=42)\n",
    "\n",
    "clf = clf.fit(X_train,np.ravel(y_train))\n",
    "\n",
    "#Predict the response for test dataset\n",
    "y_pred = clf.predict(X_test)\n",
    "\n",
    "print(\"Accuracy: \",metrics.accuracy_score(np.ravel(y_test), np.ravel(y_pred))*100, '%', sep='')"
   ]
  },
  {
   "cell_type": "code",
   "execution_count": 493,
   "id": "451b1207-0c37-41d7-b7e5-a94dce4d2f86",
   "metadata": {
    "tags": []
   },
   "outputs": [
    {
     "name": "stdout",
     "output_type": "stream",
     "text": [
      "Accuracy: 72.3404255319149%\n"
     ]
    }
   ],
   "source": [
    "from sklearn.naive_bayes import GaussianNB\n",
    "\n",
    "clf = GaussianNB()\n",
    "\n",
    "clf = clf.fit(X_train,np.ravel(y_train))\n",
    "\n",
    "#Predict the response for test dataset\n",
    "y_pred = clf.predict(X_test)\n",
    "\n",
    "print(\"Accuracy: \",metrics.accuracy_score(np.ravel(y_test), np.ravel(y_pred))*100, '%', sep='')"
   ]
  },
  {
   "cell_type": "code",
   "execution_count": 494,
   "id": "00d9eeac-aa7e-42d3-a8ec-813748317ac6",
   "metadata": {
    "tags": []
   },
   "outputs": [
    {
     "name": "stdout",
     "output_type": "stream",
     "text": [
      "Accuracy: 76.59574468085107%\n"
     ]
    }
   ],
   "source": [
    "from sklearn.svm import LinearSVC\n",
    "\n",
    "clf = LinearSVC(C=60, tol=0.1, max_iter=1000000, random_state=42)\n",
    "\n",
    "clf = clf.fit(X_train,np.ravel(y_train))\n",
    "\n",
    "#Predict the response for test dataset\n",
    "y_pred = clf.predict(X_test)\n",
    "\n",
    "print(\"Accuracy: \",metrics.accuracy_score(np.ravel(y_test), np.ravel(y_pred))*100, '%', sep='')"
   ]
  },
  {
   "cell_type": "code",
   "execution_count": 495,
   "id": "4f8619ba-d5d3-4486-b96a-81226b336ffb",
   "metadata": {
    "tags": []
   },
   "outputs": [
    {
     "name": "stdout",
     "output_type": "stream",
     "text": [
      "Accuracy: 85.1063829787234%\n"
     ]
    }
   ],
   "source": [
    "from sklearn.svm import NuSVC\n",
    "\n",
    "clf = NuSVC(nu=0.19, random_state=42)\n",
    "\n",
    "clf = clf.fit(X_train,np.ravel(y_train))\n",
    "\n",
    "#Predict the response for test dataset\n",
    "y_pred = clf.predict(X_test)\n",
    "\n",
    "print(\"Accuracy: \",metrics.accuracy_score(np.ravel(y_test), np.ravel(y_pred))*100, '%', sep='')"
   ]
  },
  {
   "cell_type": "code",
   "execution_count": 547,
   "id": "c1ee6646-925f-4b28-a97f-b8f6bc3ed218",
   "metadata": {
    "tags": []
   },
   "outputs": [
    {
     "name": "stdout",
     "output_type": "stream",
     "text": [
      "Accuracy: 89.36170212765957%\n"
     ]
    }
   ],
   "source": [
    "from sklearn import svm\n",
    "clf = svm.SVC(\n",
    " C=100000.0, kernel='rbf', degree=3, gamma='scale', coef0=0.0, \n",
    "    shrinking=True, probability=False, tol=0.001, cache_size=200, \n",
    "    random_state=42)\n",
    "\n",
    "clf = clf.fit(X_train,np.ravel(y_train))\n",
    "\n",
    "#Predict the response for test dataset\n",
    "y_pred = clf.predict(X_test)\n",
    "\n",
    "print(\"Accuracy: \",metrics.accuracy_score(np.ravel(y_test), np.ravel(y_pred))*100, '%', sep='')"
   ]
  },
  {
   "cell_type": "code",
   "execution_count": 632,
   "id": "f771eda5-bccb-4253-88b9-73e86dfe33a4",
   "metadata": {
    "tags": []
   },
   "outputs": [
    {
     "name": "stdout",
     "output_type": "stream",
     "text": [
      "Accuracy: 65.95744680851064%\n"
     ]
    }
   ],
   "source": [
    "from sklearn.discriminant_analysis import QuadraticDiscriminantAnalysis\n",
    "\n",
    "clf = QuadraticDiscriminantAnalysis()\n",
    "\n",
    "clf = clf.fit(X_train,np.ravel(y_train))\n",
    "\n",
    "#Predict the response for test dataset\n",
    "y_pred = clf.predict(X_test)\n",
    "\n",
    "print(\"Accuracy: \",metrics.accuracy_score(np.ravel(y_test), np.ravel(y_pred))*100, '%', sep='')"
   ]
  },
  {
   "cell_type": "code",
   "execution_count": 633,
   "id": "c731d8a2-779e-4746-b9a5-1fb41589adec",
   "metadata": {
    "tags": []
   },
   "outputs": [
    {
     "name": "stdout",
     "output_type": "stream",
     "text": [
      "Accuracy: 77.6595744680851%\n"
     ]
    }
   ],
   "source": [
    "from sklearn.discriminant_analysis import LinearDiscriminantAnalysis\n",
    "\n",
    "clf = LinearDiscriminantAnalysis()\n",
    "\n",
    "clf = clf.fit(X_train,np.ravel(y_train))\n",
    "\n",
    "#Predict the response for test dataset\n",
    "y_pred = clf.predict(X_test)\n",
    "\n",
    "print(\"Accuracy: \",metrics.accuracy_score(np.ravel(y_test), np.ravel(y_pred))*100, '%', sep='')"
   ]
  },
  {
   "cell_type": "code",
   "execution_count": 648,
   "id": "4ea8653e-d7d6-490b-8d58-984d1df534ec",
   "metadata": {
    "tags": []
   },
   "outputs": [
    {
     "name": "stdout",
     "output_type": "stream",
     "text": [
      "Accuracy: 91.48936170212765%\n"
     ]
    }
   ],
   "source": [
    "from sklearn.ensemble import GradientBoostingClassifier\n",
    "\n",
    "clf = GradientBoostingClassifier(loss='log_loss', learning_rate=0.1, \n",
    "                                 n_estimators=100, subsample=1.0, \n",
    "                                 criterion='friedman_mse', \n",
    "                                 min_samples_split=2, min_samples_leaf=1, \n",
    "                                 min_weight_fraction_leaf=0.0, max_depth=3, \n",
    "                                 min_impurity_decrease=0.0, init=None, \n",
    "                                 random_state=42, max_features=None, \n",
    "                                 verbose=0, max_leaf_nodes=None, \n",
    "                                 warm_start=False, validation_fraction=0.1, \n",
    "                                 n_iter_no_change=None, tol=0.0001, \n",
    "                                 ccp_alpha=0.0)\n",
    "\n",
    "clf = clf.fit(X_train,np.ravel(y_train))\n",
    "\n",
    "#Predict the response for test dataset\n",
    "y_pred = clf.predict(X_test)\n",
    "\n",
    "print(\"Accuracy: \",metrics.accuracy_score(np.ravel(y_test), np.ravel(y_pred))*100, '%', sep='')"
   ]
  },
  {
   "cell_type": "code",
   "execution_count": 615,
   "id": "962c73f3-9099-4160-873f-1ec01913194d",
   "metadata": {
    "tags": []
   },
   "outputs": [
    {
     "name": "stdout",
     "output_type": "stream",
     "text": [
      "Accuracy: 85.1063829787234%\n"
     ]
    }
   ],
   "source": [
    "from sklearn.tree import DecisionTreeClassifier # Import Decision Tree Classifier\n",
    "from sklearn import metrics #Import scikit-learn metrics module for accuracy calculation\n",
    "\n",
    "# Create Decision Tree classifer object\n",
    "clf = DecisionTreeClassifier(\n",
    "    # max_features=5,\n",
    "    criterion='gini', splitter='best', max_depth=None, min_samples_split=2, \n",
    "    min_samples_leaf=1, min_weight_fraction_leaf=0.0, max_features=None, \n",
    "    random_state=42, max_leaf_nodes=None, min_impurity_decrease=0.0, \n",
    "    class_weight=None, ccp_alpha=0.0\n",
    ")\n",
    "\n",
    "# Train Decision Tree Classifer\n",
    "clf = clf.fit(X_train,y_train)\n",
    "\n",
    "#Predict the response for test dataset\n",
    "y_pred = clf.predict(X_test)\n",
    "\n",
    "print(\"Accuracy: \",metrics.accuracy_score(np.ravel(y_test), np.ravel(y_pred))*100, '%', sep='')"
   ]
  },
  {
   "cell_type": "code",
   "execution_count": 618,
   "id": "4976a246-c787-4a8d-861b-0718050de75e",
   "metadata": {
    "tags": []
   },
   "outputs": [],
   "source": [
    "from sklearn import tree\n",
    "\n",
    "# get the text representation\n",
    "text_representation = tree.export_text(clf, feature_names=list(X_train.columns))\n",
    "# print(text_representation)"
   ]
  },
  {
   "cell_type": "code",
   "execution_count": 652,
   "id": "13604249-523c-48cd-a22f-6660bcf81512",
   "metadata": {
    "tags": []
   },
   "outputs": [
    {
     "name": "stdout",
     "output_type": "stream",
     "text": [
      "[0.85714286 0.375      0.5        0.85714286 0.76190476 0.85714286]\n"
     ]
    }
   ],
   "source": [
    "from sklearn.preprocessing import MinMaxScaler\n",
    "\n",
    "# define min max scaler\n",
    "scaler =   # MinMaxScaler()\n",
    "# transform data\n",
    "scaled = scaler.fit_transform(X_train)\n",
    "print(scaled[0])"
   ]
  },
  {
   "cell_type": "code",
   "execution_count": 662,
   "id": "eae6dbd2-aaf2-40d3-ae6c-1c1aac83fe89",
   "metadata": {
    "tags": []
   },
   "outputs": [
    {
     "name": "stdout",
     "output_type": "stream",
     "text": [
      "Accuracy: 58.51063829787234%\n"
     ]
    }
   ],
   "source": [
    "from sklearn.ensemble import GradientBoostingClassifier\n",
    "\n",
    "clf = GradientBoostingClassifier(loss='log_loss', learning_rate=0.1, \n",
    "                                 n_estimators=100, subsample=1.0, \n",
    "                                 criterion='friedman_mse', \n",
    "                                 min_samples_split=2, min_samples_leaf=1, \n",
    "                                 min_weight_fraction_leaf=0.0, max_depth=3, \n",
    "                                 min_impurity_decrease=0.0, init=None, \n",
    "                                 random_state=42, max_features=None, \n",
    "                                 verbose=0, max_leaf_nodes=None, \n",
    "                                 warm_start=False, validation_fraction=0.1, \n",
    "                                 n_iter_no_change=None, tol=0.0001, \n",
    "                                 ccp_alpha=0.0)\n",
    "\n",
    "clf = clf.fit(scaler.fit_transform(X_train), np.ravel(y_train))\n",
    "\n",
    "#Predict the response for test dataset\n",
    "y_pred = clf.predict(scaler.fit_transform(X_test))\n",
    "\n",
    "print(\"Accuracy: \",metrics.accuracy_score(np.ravel(y_test), np.ravel(y_pred))*100, '%', sep='')"
   ]
  },
  {
   "cell_type": "code",
   "execution_count": 668,
   "id": "12c1ae28-68e2-4dd5-af39-94a9d31f4477",
   "metadata": {
    "tags": []
   },
   "outputs": [
    {
     "name": "stdout",
     "output_type": "stream",
     "text": [
      "Accuracy: 22.340425531914892%\n"
     ]
    }
   ],
   "source": [
    "from sklearn import preprocessing\n",
    "from sklearn.ensemble import GradientBoostingClassifier\n",
    "\n",
    "clf = GradientBoostingClassifier(loss='log_loss', learning_rate=0.1, \n",
    "                                 n_estimators=100, subsample=1.0, \n",
    "                                 criterion='friedman_mse', \n",
    "                                 min_samples_split=2, min_samples_leaf=1, \n",
    "                                 min_weight_fraction_leaf=0.0, max_depth=3, \n",
    "                                 min_impurity_decrease=0.0, init=None, \n",
    "                                 random_state=42, max_features=None, \n",
    "                                 verbose=0, max_leaf_nodes=None, \n",
    "                                 warm_start=False, validation_fraction=0.1, \n",
    "                                 n_iter_no_change=None, tol=0.0001, \n",
    "                                 ccp_alpha=0.0)\n",
    "\n",
    "\n",
    "clf = clf.fit(preprocessing.normalize(X_train, norm='l2'),\n",
    "                                   np.ravel(y_train))\n",
    "\n",
    "#Predict the response for test dataset\n",
    "y_pred = clf.predict(scaler.fit_transform(preprocessing.normalize(X_test, norm='l2')))\n",
    "\n",
    "print(\"Accuracy: \",metrics.accuracy_score(np.ravel(y_test), np.ravel(y_pred))*100, '%', sep='')"
   ]
  },
  {
   "cell_type": "code",
   "execution_count": 670,
   "id": "9b0d8007-9f32-4d85-873c-335bb9e665c9",
   "metadata": {
    "tags": []
   },
   "outputs": [
    {
     "data": {
      "text/plain": [
       "(218, 6)"
      ]
     },
     "execution_count": 670,
     "metadata": {},
     "output_type": "execute_result"
    }
   ],
   "source": [
    "X_train.shape"
   ]
  },
  {
   "cell_type": "code",
   "execution_count": null,
   "id": "801320c3-b045-4a3e-a568-a7a508ec10c0",
   "metadata": {},
   "outputs": [],
   "source": [
    "tmp = one_hot_encode(y_train)\n",
    "tmp_2 = one_hot_encode(y_test)"
   ]
  },
  {
   "cell_type": "code",
   "execution_count": null,
   "id": "94c9e75e-014a-4c2f-94f1-10d205acd0d8",
   "metadata": {},
   "outputs": [],
   "source": []
  },
  {
   "cell_type": "code",
   "execution_count": 699,
   "id": "9aff1390-9235-4954-a9fb-f16471ff538c",
   "metadata": {
    "tags": []
   },
   "outputs": [
    {
     "name": "stdout",
     "output_type": "stream",
     "text": [
      "Epoch 1/100\n",
      "28/28 [==============================] - 2s 29ms/step - loss: 1.5709 - accuracy: 0.3670 - val_loss: 1.4090 - val_accuracy: 0.3830\n",
      "Epoch 2/100\n",
      "28/28 [==============================] - 1s 19ms/step - loss: 1.3273 - accuracy: 0.4862 - val_loss: 1.4220 - val_accuracy: 0.3936\n",
      "Epoch 3/100\n",
      "28/28 [==============================] - 1s 19ms/step - loss: 1.2036 - accuracy: 0.5734 - val_loss: 1.1423 - val_accuracy: 0.6596\n",
      "Epoch 4/100\n",
      "28/28 [==============================] - 1s 22ms/step - loss: 1.1951 - accuracy: 0.5826 - val_loss: 1.0930 - val_accuracy: 0.6489\n",
      "Epoch 5/100\n",
      "28/28 [==============================] - 1s 20ms/step - loss: 1.1731 - accuracy: 0.5642 - val_loss: 1.2617 - val_accuracy: 0.5106\n",
      "Epoch 6/100\n",
      "28/28 [==============================] - 1s 20ms/step - loss: 1.1649 - accuracy: 0.5367 - val_loss: 1.1261 - val_accuracy: 0.6064\n",
      "Epoch 7/100\n",
      "28/28 [==============================] - 1s 19ms/step - loss: 1.0984 - accuracy: 0.5826 - val_loss: 1.0503 - val_accuracy: 0.6383\n",
      "Epoch 8/100\n",
      "28/28 [==============================] - 1s 19ms/step - loss: 1.1817 - accuracy: 0.5321 - val_loss: 1.0404 - val_accuracy: 0.6383\n",
      "Epoch 9/100\n",
      "28/28 [==============================] - 1s 18ms/step - loss: 1.0568 - accuracy: 0.5917 - val_loss: 1.0153 - val_accuracy: 0.6596\n",
      "Epoch 10/100\n",
      "28/28 [==============================] - 1s 20ms/step - loss: 1.0404 - accuracy: 0.6239 - val_loss: 1.0456 - val_accuracy: 0.6596\n",
      "Epoch 11/100\n",
      "28/28 [==============================] - 1s 19ms/step - loss: 1.0406 - accuracy: 0.6147 - val_loss: 0.9801 - val_accuracy: 0.6915\n",
      "Epoch 12/100\n",
      "28/28 [==============================] - 1s 19ms/step - loss: 0.9695 - accuracy: 0.6330 - val_loss: 1.0753 - val_accuracy: 0.5745\n",
      "Epoch 13/100\n",
      "28/28 [==============================] - 1s 19ms/step - loss: 1.0127 - accuracy: 0.6193 - val_loss: 0.9922 - val_accuracy: 0.6809\n",
      "Epoch 14/100\n",
      "28/28 [==============================] - 1s 19ms/step - loss: 0.9598 - accuracy: 0.6606 - val_loss: 1.0743 - val_accuracy: 0.6277\n",
      "Epoch 15/100\n",
      "28/28 [==============================] - 1s 19ms/step - loss: 0.9719 - accuracy: 0.6560 - val_loss: 1.0286 - val_accuracy: 0.6596\n",
      "Epoch 16/100\n",
      "28/28 [==============================] - 1s 20ms/step - loss: 0.9524 - accuracy: 0.6193 - val_loss: 1.0191 - val_accuracy: 0.7128\n",
      "Epoch 17/100\n",
      "28/28 [==============================] - 1s 19ms/step - loss: 0.8723 - accuracy: 0.6743 - val_loss: 0.9273 - val_accuracy: 0.7447\n",
      "Epoch 18/100\n",
      "28/28 [==============================] - 1s 19ms/step - loss: 0.9606 - accuracy: 0.6560 - val_loss: 1.0532 - val_accuracy: 0.6277\n",
      "Epoch 19/100\n",
      "28/28 [==============================] - 1s 19ms/step - loss: 0.9886 - accuracy: 0.6743 - val_loss: 1.0223 - val_accuracy: 0.6596\n",
      "Epoch 20/100\n",
      "28/28 [==============================] - 1s 19ms/step - loss: 0.9378 - accuracy: 0.6881 - val_loss: 0.9564 - val_accuracy: 0.6596\n",
      "Epoch 21/100\n",
      "28/28 [==============================] - 1s 19ms/step - loss: 0.8308 - accuracy: 0.7110 - val_loss: 1.0500 - val_accuracy: 0.6596\n",
      "Epoch 22/100\n",
      "28/28 [==============================] - 1s 18ms/step - loss: 0.7546 - accuracy: 0.7431 - val_loss: 0.8831 - val_accuracy: 0.6809\n",
      "Epoch 23/100\n",
      "28/28 [==============================] - 1s 20ms/step - loss: 0.8144 - accuracy: 0.6743 - val_loss: 0.9698 - val_accuracy: 0.6702\n",
      "Epoch 24/100\n",
      "28/28 [==============================] - 1s 19ms/step - loss: 0.8089 - accuracy: 0.7064 - val_loss: 0.8520 - val_accuracy: 0.7234\n",
      "Epoch 25/100\n",
      "28/28 [==============================] - 1s 20ms/step - loss: 0.7240 - accuracy: 0.7202 - val_loss: 0.8637 - val_accuracy: 0.7128\n",
      "Epoch 26/100\n",
      "28/28 [==============================] - 1s 19ms/step - loss: 0.6997 - accuracy: 0.7294 - val_loss: 1.0139 - val_accuracy: 0.6915\n",
      "Epoch 27/100\n",
      "28/28 [==============================] - 1s 19ms/step - loss: 0.7076 - accuracy: 0.7156 - val_loss: 0.8769 - val_accuracy: 0.6596\n",
      "Epoch 28/100\n",
      "28/28 [==============================] - 1s 18ms/step - loss: 0.6360 - accuracy: 0.7477 - val_loss: 0.8629 - val_accuracy: 0.7447\n",
      "Epoch 29/100\n",
      "28/28 [==============================] - 1s 19ms/step - loss: 0.5760 - accuracy: 0.8165 - val_loss: 1.1456 - val_accuracy: 0.6489\n",
      "Epoch 30/100\n",
      "28/28 [==============================] - 0s 18ms/step - loss: 0.8693 - accuracy: 0.6606 - val_loss: 0.9578 - val_accuracy: 0.7128\n",
      "Epoch 31/100\n",
      "28/28 [==============================] - 1s 19ms/step - loss: 0.8052 - accuracy: 0.6927 - val_loss: 1.0090 - val_accuracy: 0.6809\n",
      "Epoch 32/100\n",
      "28/28 [==============================] - 1s 19ms/step - loss: 0.6463 - accuracy: 0.7477 - val_loss: 0.9227 - val_accuracy: 0.6809\n",
      "Epoch 33/100\n",
      "28/28 [==============================] - 1s 18ms/step - loss: 0.6075 - accuracy: 0.7523 - val_loss: 0.9538 - val_accuracy: 0.6915\n",
      "Epoch 34/100\n",
      "28/28 [==============================] - 1s 19ms/step - loss: 0.5618 - accuracy: 0.7706 - val_loss: 0.8362 - val_accuracy: 0.7128\n",
      "Epoch 35/100\n",
      "28/28 [==============================] - 1s 20ms/step - loss: 0.5956 - accuracy: 0.7844 - val_loss: 1.0596 - val_accuracy: 0.6596\n",
      "Epoch 36/100\n",
      "28/28 [==============================] - 1s 20ms/step - loss: 0.7789 - accuracy: 0.7156 - val_loss: 0.9042 - val_accuracy: 0.7234\n",
      "Epoch 37/100\n",
      "28/28 [==============================] - 1s 20ms/step - loss: 0.5789 - accuracy: 0.7752 - val_loss: 0.9350 - val_accuracy: 0.7340\n",
      "Epoch 38/100\n",
      "28/28 [==============================] - 1s 19ms/step - loss: 0.5908 - accuracy: 0.7706 - val_loss: 0.9128 - val_accuracy: 0.7234\n",
      "Epoch 39/100\n",
      "28/28 [==============================] - 1s 20ms/step - loss: 0.5968 - accuracy: 0.7431 - val_loss: 0.8771 - val_accuracy: 0.7553\n",
      "Epoch 40/100\n",
      "28/28 [==============================] - 1s 19ms/step - loss: 0.4673 - accuracy: 0.8119 - val_loss: 0.7875 - val_accuracy: 0.7128\n",
      "Epoch 41/100\n",
      "28/28 [==============================] - 1s 19ms/step - loss: 0.5990 - accuracy: 0.7569 - val_loss: 0.9241 - val_accuracy: 0.7021\n",
      "Epoch 42/100\n",
      "28/28 [==============================] - 1s 19ms/step - loss: 0.5295 - accuracy: 0.7890 - val_loss: 0.7777 - val_accuracy: 0.7660\n",
      "Epoch 43/100\n",
      "28/28 [==============================] - 1s 19ms/step - loss: 0.4047 - accuracy: 0.8716 - val_loss: 0.7031 - val_accuracy: 0.7766\n",
      "Epoch 44/100\n",
      "28/28 [==============================] - 1s 19ms/step - loss: 0.4262 - accuracy: 0.8486 - val_loss: 0.7692 - val_accuracy: 0.7128\n",
      "Epoch 45/100\n",
      "28/28 [==============================] - 1s 19ms/step - loss: 0.7184 - accuracy: 0.7018 - val_loss: 0.9209 - val_accuracy: 0.6277\n",
      "Epoch 46/100\n",
      "28/28 [==============================] - 1s 19ms/step - loss: 0.5988 - accuracy: 0.7661 - val_loss: 0.8818 - val_accuracy: 0.6915\n",
      "Epoch 47/100\n",
      "28/28 [==============================] - 1s 19ms/step - loss: 0.5417 - accuracy: 0.7890 - val_loss: 1.0145 - val_accuracy: 0.6809\n",
      "Epoch 48/100\n",
      "28/28 [==============================] - 1s 19ms/step - loss: 0.4761 - accuracy: 0.8349 - val_loss: 0.7667 - val_accuracy: 0.7128\n",
      "Epoch 49/100\n",
      "28/28 [==============================] - 1s 19ms/step - loss: 0.4837 - accuracy: 0.7752 - val_loss: 0.7846 - val_accuracy: 0.7660\n",
      "Epoch 50/100\n",
      "28/28 [==============================] - 1s 20ms/step - loss: 0.4221 - accuracy: 0.8486 - val_loss: 0.6986 - val_accuracy: 0.7766\n",
      "Epoch 51/100\n",
      "28/28 [==============================] - 1s 20ms/step - loss: 0.3745 - accuracy: 0.8486 - val_loss: 0.7778 - val_accuracy: 0.7766\n",
      "Epoch 52/100\n",
      "28/28 [==============================] - 1s 19ms/step - loss: 0.3849 - accuracy: 0.8670 - val_loss: 1.0717 - val_accuracy: 0.6489\n",
      "Epoch 53/100\n",
      "28/28 [==============================] - 1s 20ms/step - loss: 0.7713 - accuracy: 0.7110 - val_loss: 0.8724 - val_accuracy: 0.7234\n",
      "Epoch 54/100\n",
      "28/28 [==============================] - 1s 19ms/step - loss: 0.5149 - accuracy: 0.7936 - val_loss: 0.8984 - val_accuracy: 0.7234\n",
      "Epoch 55/100\n",
      "28/28 [==============================] - 0s 18ms/step - loss: 0.4301 - accuracy: 0.8349 - val_loss: 0.7834 - val_accuracy: 0.7447\n",
      "Epoch 56/100\n",
      "28/28 [==============================] - 0s 16ms/step - loss: 0.4376 - accuracy: 0.8073 - val_loss: 0.8238 - val_accuracy: 0.7340\n",
      "Epoch 57/100\n",
      "28/28 [==============================] - 1s 21ms/step - loss: 0.3140 - accuracy: 0.8853 - val_loss: 0.7972 - val_accuracy: 0.7128\n",
      "Epoch 58/100\n",
      "28/28 [==============================] - 1s 21ms/step - loss: 0.2679 - accuracy: 0.8807 - val_loss: 0.8185 - val_accuracy: 0.7660\n",
      "Epoch 59/100\n",
      "28/28 [==============================] - 1s 22ms/step - loss: 0.3564 - accuracy: 0.8624 - val_loss: 0.8962 - val_accuracy: 0.7340\n",
      "Epoch 60/100\n",
      "28/28 [==============================] - 0s 17ms/step - loss: 0.3858 - accuracy: 0.8807 - val_loss: 0.9786 - val_accuracy: 0.7021\n",
      "Epoch 61/100\n",
      "28/28 [==============================] - 0s 17ms/step - loss: 0.4974 - accuracy: 0.8165 - val_loss: 0.7055 - val_accuracy: 0.8085\n",
      "Epoch 62/100\n",
      "28/28 [==============================] - 0s 17ms/step - loss: 0.4433 - accuracy: 0.8303 - val_loss: 0.8704 - val_accuracy: 0.7021\n",
      "Epoch 63/100\n",
      "28/28 [==============================] - 1s 19ms/step - loss: 0.5116 - accuracy: 0.7844 - val_loss: 0.8504 - val_accuracy: 0.7021\n",
      "Epoch 64/100\n",
      "28/28 [==============================] - 0s 18ms/step - loss: 0.4087 - accuracy: 0.8349 - val_loss: 0.6976 - val_accuracy: 0.7979\n",
      "Epoch 65/100\n",
      "28/28 [==============================] - 1s 21ms/step - loss: 0.2277 - accuracy: 0.9083 - val_loss: 0.7704 - val_accuracy: 0.8191\n",
      "Epoch 66/100\n",
      "28/28 [==============================] - 1s 19ms/step - loss: 0.1772 - accuracy: 0.9358 - val_loss: 0.8434 - val_accuracy: 0.8191\n",
      "Epoch 67/100\n",
      "28/28 [==============================] - 1s 21ms/step - loss: 0.1570 - accuracy: 0.9450 - val_loss: 0.8578 - val_accuracy: 0.7766\n",
      "Epoch 68/100\n",
      "28/28 [==============================] - 1s 20ms/step - loss: 0.1519 - accuracy: 0.9404 - val_loss: 0.9657 - val_accuracy: 0.8085\n",
      "Epoch 69/100\n",
      "28/28 [==============================] - 1s 19ms/step - loss: 0.2564 - accuracy: 0.8899 - val_loss: 1.0664 - val_accuracy: 0.7447\n",
      "Epoch 70/100\n",
      "28/28 [==============================] - 1s 22ms/step - loss: 0.8583 - accuracy: 0.7706 - val_loss: 0.7864 - val_accuracy: 0.7447\n",
      "Epoch 71/100\n",
      "28/28 [==============================] - 1s 21ms/step - loss: 0.4608 - accuracy: 0.8394 - val_loss: 0.8022 - val_accuracy: 0.7979\n",
      "Epoch 72/100\n",
      "28/28 [==============================] - 1s 20ms/step - loss: 0.2562 - accuracy: 0.9037 - val_loss: 0.5575 - val_accuracy: 0.8191\n",
      "Epoch 73/100\n",
      "28/28 [==============================] - 1s 19ms/step - loss: 0.1550 - accuracy: 0.9587 - val_loss: 0.6974 - val_accuracy: 0.8085\n",
      "Epoch 74/100\n",
      "28/28 [==============================] - 1s 21ms/step - loss: 0.1837 - accuracy: 0.9450 - val_loss: 0.8188 - val_accuracy: 0.8298\n",
      "Epoch 75/100\n",
      "28/28 [==============================] - 1s 19ms/step - loss: 0.1244 - accuracy: 0.9450 - val_loss: 0.9138 - val_accuracy: 0.8085\n",
      "Epoch 76/100\n",
      "28/28 [==============================] - 1s 18ms/step - loss: 0.0971 - accuracy: 0.9587 - val_loss: 0.7281 - val_accuracy: 0.8191\n",
      "Epoch 77/100\n",
      "28/28 [==============================] - 1s 21ms/step - loss: 0.1050 - accuracy: 0.9495 - val_loss: 0.9161 - val_accuracy: 0.8511\n",
      "Epoch 78/100\n",
      "28/28 [==============================] - 1s 20ms/step - loss: 0.1149 - accuracy: 0.9541 - val_loss: 1.0902 - val_accuracy: 0.8191\n",
      "Epoch 79/100\n",
      "28/28 [==============================] - 1s 19ms/step - loss: 0.1460 - accuracy: 0.9495 - val_loss: 1.1511 - val_accuracy: 0.7553\n",
      "Epoch 80/100\n",
      "28/28 [==============================] - 0s 18ms/step - loss: 0.2816 - accuracy: 0.8899 - val_loss: 0.9383 - val_accuracy: 0.7872\n",
      "Epoch 81/100\n",
      "28/28 [==============================] - 1s 18ms/step - loss: 0.3934 - accuracy: 0.8532 - val_loss: 0.6654 - val_accuracy: 0.7872\n",
      "Epoch 82/100\n",
      "28/28 [==============================] - 1s 18ms/step - loss: 0.3393 - accuracy: 0.8899 - val_loss: 0.7230 - val_accuracy: 0.7979\n",
      "Epoch 83/100\n",
      "28/28 [==============================] - 1s 19ms/step - loss: 0.4404 - accuracy: 0.8303 - val_loss: 0.6710 - val_accuracy: 0.7766\n",
      "Epoch 84/100\n",
      "28/28 [==============================] - 1s 21ms/step - loss: 0.3284 - accuracy: 0.8807 - val_loss: 0.6256 - val_accuracy: 0.7979\n",
      "Epoch 85/100\n",
      "28/28 [==============================] - 1s 19ms/step - loss: 0.2264 - accuracy: 0.9220 - val_loss: 0.5692 - val_accuracy: 0.7872\n",
      "Epoch 86/100\n",
      "28/28 [==============================] - 1s 18ms/step - loss: 0.2289 - accuracy: 0.9174 - val_loss: 0.8835 - val_accuracy: 0.7872\n",
      "Epoch 87/100\n",
      "28/28 [==============================] - 1s 18ms/step - loss: 0.1774 - accuracy: 0.9404 - val_loss: 0.6936 - val_accuracy: 0.8085\n",
      "Epoch 88/100\n",
      "28/28 [==============================] - 0s 17ms/step - loss: 0.1087 - accuracy: 0.9541 - val_loss: 0.6553 - val_accuracy: 0.8723\n",
      "Epoch 89/100\n",
      "28/28 [==============================] - 1s 19ms/step - loss: 0.1242 - accuracy: 0.9725 - val_loss: 0.9850 - val_accuracy: 0.7553\n",
      "Epoch 90/100\n",
      "28/28 [==============================] - 1s 18ms/step - loss: 0.2232 - accuracy: 0.9266 - val_loss: 0.6653 - val_accuracy: 0.8191\n",
      "Epoch 91/100\n",
      "28/28 [==============================] - 1s 19ms/step - loss: 0.1142 - accuracy: 0.9725 - val_loss: 0.6804 - val_accuracy: 0.8511\n",
      "Epoch 92/100\n",
      "28/28 [==============================] - 0s 17ms/step - loss: 0.1124 - accuracy: 0.9679 - val_loss: 0.5778 - val_accuracy: 0.8723\n",
      "Epoch 93/100\n",
      "28/28 [==============================] - 1s 20ms/step - loss: 0.1161 - accuracy: 0.9633 - val_loss: 0.7023 - val_accuracy: 0.8511\n",
      "Epoch 94/100\n",
      "28/28 [==============================] - 1s 21ms/step - loss: 0.0815 - accuracy: 0.9725 - val_loss: 0.6796 - val_accuracy: 0.8511\n",
      "Epoch 95/100\n",
      "28/28 [==============================] - 1s 19ms/step - loss: 0.0798 - accuracy: 0.9679 - val_loss: 0.8476 - val_accuracy: 0.8298\n",
      "Epoch 96/100\n",
      "28/28 [==============================] - 1s 18ms/step - loss: 0.0795 - accuracy: 0.9633 - val_loss: 1.0892 - val_accuracy: 0.8191\n",
      "Epoch 97/100\n",
      "28/28 [==============================] - 0s 17ms/step - loss: 0.2496 - accuracy: 0.9266 - val_loss: 0.7989 - val_accuracy: 0.7979\n",
      "Epoch 98/100\n",
      "28/28 [==============================] - 1s 18ms/step - loss: 0.2484 - accuracy: 0.8991 - val_loss: 1.1401 - val_accuracy: 0.8404\n",
      "Epoch 99/100\n",
      "28/28 [==============================] - 1s 18ms/step - loss: 0.3783 - accuracy: 0.8853 - val_loss: 0.8828 - val_accuracy: 0.7766\n",
      "Epoch 100/100\n",
      "28/28 [==============================] - 1s 22ms/step - loss: 0.1722 - accuracy: 0.9312 - val_loss: 0.8201 - val_accuracy: 0.8404\n"
     ]
    },
    {
     "data": {
      "text/plain": [
       "<keras.callbacks.History at 0x7f03899bc4c0>"
      ]
     },
     "execution_count": 699,
     "metadata": {},
     "output_type": "execute_result"
    }
   ],
   "source": [
    "import tensorflow as tf\n",
    "from tensorflow.keras.models import Sequential\n",
    "from tensorflow.keras.layers import Dense\n",
    "\n",
    "# Build the model\n",
    "model = Sequential()\n",
    "model.add(Dense(1000, input_dim=6, activation='relu'))\n",
    "model.add(Dense(700, activation='relu'))\n",
    "model.add(Dense(700, activation='relu'))\n",
    "model.add(Dense(300, activation='relu'))\n",
    "model.add(Dense(150, activation='relu'))\n",
    "model.add(Dense(5, activation='softmax'))\n",
    "\n",
    "# Compile the model\n",
    "model.compile(loss='categorical_crossentropy', optimizer='adam', metrics=['accuracy'])\n",
    "\n",
    "# Train the model\n",
    "model.fit(X_train, tmp, epochs=100, batch_size=8, validation_data=(X_test, tmp_2))\n"
   ]
  },
  {
   "cell_type": "code",
   "execution_count": 700,
   "id": "81ffea92-613d-4ee2-864e-627239504c28",
   "metadata": {
    "tags": []
   },
   "outputs": [
    {
     "name": "stdout",
     "output_type": "stream",
     "text": [
      "3/3 [==============================] - 0s 5ms/step - loss: 0.8201 - accuracy: 0.8404\n",
      "Loss: 0.8200975060462952, Accuracy: 0.8404255509376526\n"
     ]
    }
   ],
   "source": [
    "# Evaluate the model\n",
    "loss, accuracy = model.evaluate(X_test, tmp_2)\n",
    "print(f'Loss: {loss}, Accuracy: {accuracy}')"
   ]
  },
  {
   "cell_type": "code",
   "execution_count": 696,
   "id": "1f7bc944-9811-4c2a-9a79-edfa2e3f167b",
   "metadata": {
    "tags": []
   },
   "outputs": [
    {
     "data": {
      "text/plain": [
       "(218, 5)"
      ]
     },
     "execution_count": 696,
     "metadata": {},
     "output_type": "execute_result"
    }
   ],
   "source": [
    "tmp.shape"
   ]
  },
  {
   "cell_type": "code",
   "execution_count": 683,
   "id": "a050486f-00f8-49d6-b86c-986e9559b4cd",
   "metadata": {
    "tags": []
   },
   "outputs": [
    {
     "data": {
      "text/plain": [
       "pandas.core.frame.DataFrame"
      ]
     },
     "execution_count": 683,
     "metadata": {},
     "output_type": "execute_result"
    }
   ],
   "source": [
    "type(X_train)"
   ]
  },
  {
   "cell_type": "code",
   "execution_count": 684,
   "id": "03036f76-201b-43a5-a6d6-5a09aa8204b9",
   "metadata": {
    "tags": []
   },
   "outputs": [
    {
     "data": {
      "text/plain": [
       "pandas.core.frame.DataFrame"
      ]
     },
     "execution_count": 684,
     "metadata": {},
     "output_type": "execute_result"
    }
   ],
   "source": [
    "type(tmp)"
   ]
  },
  {
   "cell_type": "code",
   "execution_count": null,
   "id": "aad47d34-efdf-456e-bfe2-52d1f3924aff",
   "metadata": {},
   "outputs": [],
   "source": []
  }
 ],
 "metadata": {
  "kernelspec": {
   "display_name": "Python 3 (ipykernel)",
   "language": "python",
   "name": "python3"
  },
  "language_info": {
   "codemirror_mode": {
    "name": "ipython",
    "version": 3
   },
   "file_extension": ".py",
   "mimetype": "text/x-python",
   "name": "python",
   "nbconvert_exporter": "python",
   "pygments_lexer": "ipython3",
   "version": "3.10.6"
  },
  "toc-autonumbering": true,
  "toc-showcode": true
 },
 "nbformat": 4,
 "nbformat_minor": 5
}
