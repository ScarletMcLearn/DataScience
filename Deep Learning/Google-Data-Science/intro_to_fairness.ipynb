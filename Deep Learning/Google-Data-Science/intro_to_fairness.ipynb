{
 "cells": [
  {
   "cell_type": "code",
   "execution_count": 1,
   "id": "daa1b39e-29e2-4aec-9edc-9886b6503987",
   "metadata": {
    "tags": []
   },
   "outputs": [],
   "source": [
    "# pip install protobuf==3.20.*"
   ]
  },
  {
   "cell_type": "code",
   "execution_count": 4,
   "id": "102386f7-a3cc-4c6d-ade9-56d57f2cc81d",
   "metadata": {
    "tags": []
   },
   "outputs": [],
   "source": [
    "#@title Import revelant modules and install Facets\n",
    "import numpy as np\n",
    "import pandas as pd\n",
    "import tensorflow as tf\n",
    "from tensorflow.keras import layers\n",
    "from matplotlib import pyplot as plt\n",
    "from matplotlib import rcParams\n",
    "import seaborn as sns\n",
    "\n",
    "# The following lines adjust the granularity of reporting. \n",
    "pd.options.display.max_rows = 10\n",
    "pd.options.display.float_format = \"{:.1f}\".format\n",
    "\n",
    "# from google.colab import widgets\n",
    "# For facets\n",
    "import base64\n",
    "# !pip install facets-overview==1.0.0\n",
    "from facets_overview.feature_statistics_generator import FeatureStatisticsGenerator\n",
    "\n",
    "from IPython.display import display, HTML"
   ]
  },
  {
   "cell_type": "code",
   "execution_count": 3,
   "id": "11ad26a9-1a9e-4544-b39c-1d4c1b97f807",
   "metadata": {
    "tags": []
   },
   "outputs": [
    {
     "name": "stdout",
     "output_type": "stream",
     "text": [
      "Downloading data from https://download.mlcc.google.com/mledu-datasets/adult_census_train.csv\n",
      "3974305/3974305 [==============================] - 2s 1us/step\n",
      "Downloading data from https://download.mlcc.google.com/mledu-datasets/adult_census_test.csv\n",
      "2003153/2003153 [==============================] - 1s 1us/step\n"
     ]
    }
   ],
   "source": [
    "COLUMNS = [\"age\", \"workclass\", \"fnlwgt\", \"education\", \"education_num\",\n",
    "           \"marital_status\", \"occupation\", \"relationship\", \"race\", \"gender\",\n",
    "           \"capital_gain\", \"capital_loss\", \"hours_per_week\", \"native_country\",\n",
    "           \"income_bracket\"]\n",
    "\n",
    "train_csv = tf.keras.utils.get_file('adult.data', \n",
    "  'https://download.mlcc.google.com/mledu-datasets/adult_census_train.csv')\n",
    "test_csv = tf.keras.utils.get_file('adult.test' , \n",
    "  'https://download.mlcc.google.com/mledu-datasets/adult_census_test.csv')\n",
    "\n",
    "train_df = pd.read_csv(train_csv, names=COLUMNS, sep=r'\\s*,\\s*', \n",
    "                       engine='python', na_values=\"?\")\n",
    "test_df = pd.read_csv(test_csv, names=COLUMNS, sep=r'\\s*,\\s*', skiprows=[0],\n",
    "                      engine='python', na_values=\"?\")\n",
    "# Strip trailing periods mistakenly included only in UCI test dataset.\n",
    "test_df['income_bracket'] = test_df.income_bracket.str.rstrip('.')"
   ]
  },
  {
   "cell_type": "code",
   "execution_count": 8,
   "id": "bb89d384-abe4-4812-8344-7f068112894d",
   "metadata": {
    "tags": []
   },
   "outputs": [
    {
     "ename": "AttributeError",
     "evalue": "module 'numpy' has no attribute 'asscalar'",
     "output_type": "error",
     "traceback": [
      "\u001b[0;31m---------------------------------------------------------------------------\u001b[0m",
      "\u001b[0;31mAttributeError\u001b[0m                            Traceback (most recent call last)",
      "Cell \u001b[0;32mIn[8], line 3\u001b[0m\n\u001b[1;32m      1\u001b[0m fsg \u001b[38;5;241m=\u001b[39m FeatureStatisticsGenerator()\n\u001b[1;32m      2\u001b[0m dataframes \u001b[38;5;241m=\u001b[39m [{\u001b[38;5;124m'\u001b[39m\u001b[38;5;124mtable\u001b[39m\u001b[38;5;124m'\u001b[39m: train_df, \u001b[38;5;124m'\u001b[39m\u001b[38;5;124mname\u001b[39m\u001b[38;5;124m'\u001b[39m: \u001b[38;5;124m'\u001b[39m\u001b[38;5;124mtrainData\u001b[39m\u001b[38;5;124m'\u001b[39m}]\n\u001b[0;32m----> 3\u001b[0m censusProto \u001b[38;5;241m=\u001b[39m \u001b[43mfsg\u001b[49m\u001b[38;5;241;43m.\u001b[39;49m\u001b[43mProtoFromDataFrames\u001b[49m\u001b[43m(\u001b[49m\u001b[43mdataframes\u001b[49m\u001b[43m)\u001b[49m\n\u001b[1;32m      5\u001b[0m \u001b[38;5;66;03m# Convert to float or int\u001b[39;00m\n\u001b[1;32m      6\u001b[0m \u001b[38;5;28;01mfor\u001b[39;00m dataset \u001b[38;5;129;01min\u001b[39;00m censusProto\u001b[38;5;241m.\u001b[39mdatasets:\n",
      "File \u001b[0;32m/mount/Project/Project Files/PythonEnvs/DataSciEnv2/lib/python3.10/site-packages/facets_overview/base_generic_feature_statistics_generator.py:60\u001b[0m, in \u001b[0;36mBaseGenericFeatureStatisticsGenerator.ProtoFromDataFrames\u001b[0;34m(self, dataframes, histogram_categorical_levels_count)\u001b[0m\n\u001b[1;32m     54\u001b[0m     table_entries[col] \u001b[38;5;241m=\u001b[39m \u001b[38;5;28mself\u001b[39m\u001b[38;5;241m.\u001b[39mNdarrayToEntry(table[col])\n\u001b[1;32m     55\u001b[0m   datasets\u001b[38;5;241m.\u001b[39mappend({\n\u001b[1;32m     56\u001b[0m       \u001b[38;5;124m'\u001b[39m\u001b[38;5;124mentries\u001b[39m\u001b[38;5;124m'\u001b[39m: table_entries,\n\u001b[1;32m     57\u001b[0m       \u001b[38;5;124m'\u001b[39m\u001b[38;5;124msize\u001b[39m\u001b[38;5;124m'\u001b[39m: \u001b[38;5;28mlen\u001b[39m(table),\n\u001b[1;32m     58\u001b[0m       \u001b[38;5;124m'\u001b[39m\u001b[38;5;124mname\u001b[39m\u001b[38;5;124m'\u001b[39m: dataframe[\u001b[38;5;124m'\u001b[39m\u001b[38;5;124mname\u001b[39m\u001b[38;5;124m'\u001b[39m]\n\u001b[1;32m     59\u001b[0m   })\n\u001b[0;32m---> 60\u001b[0m \u001b[38;5;28;01mreturn\u001b[39;00m \u001b[38;5;28;43mself\u001b[39;49m\u001b[38;5;241;43m.\u001b[39;49m\u001b[43mGetDatasetsProto\u001b[49m\u001b[43m(\u001b[49m\n\u001b[1;32m     61\u001b[0m \u001b[43m  \u001b[49m\u001b[43mdatasets\u001b[49m\u001b[43m,\u001b[49m\n\u001b[1;32m     62\u001b[0m \u001b[43m  \u001b[49m\u001b[43mhistogram_categorical_levels_count\u001b[49m\u001b[38;5;241;43m=\u001b[39;49m\u001b[43mhistogram_categorical_levels_count\u001b[49m\u001b[43m)\u001b[49m\n",
      "File \u001b[0;32m/mount/Project/Project Files/PythonEnvs/DataSciEnv2/lib/python3.10/site-packages/facets_overview/base_generic_feature_statistics_generator.py:211\u001b[0m, in \u001b[0;36mBaseGenericFeatureStatisticsGenerator.GetDatasetsProto\u001b[0;34m(self, datasets, features, histogram_categorical_levels_count)\u001b[0m\n\u001b[1;32m    209\u001b[0m \u001b[38;5;28;01mif\u001b[39;00m has_data:\n\u001b[1;32m    210\u001b[0m   nums \u001b[38;5;241m=\u001b[39m value[\u001b[38;5;124m'\u001b[39m\u001b[38;5;124mvals\u001b[39m\u001b[38;5;124m'\u001b[39m]\n\u001b[0;32m--> 211\u001b[0m   featstats\u001b[38;5;241m.\u001b[39mstd_dev \u001b[38;5;241m=\u001b[39m \u001b[43mnp\u001b[49m\u001b[38;5;241;43m.\u001b[39;49m\u001b[43masscalar\u001b[49m(np\u001b[38;5;241m.\u001b[39mstd(nums))\n\u001b[1;32m    212\u001b[0m   featstats\u001b[38;5;241m.\u001b[39mmean \u001b[38;5;241m=\u001b[39m np\u001b[38;5;241m.\u001b[39masscalar(np\u001b[38;5;241m.\u001b[39mmean(nums))\n\u001b[1;32m    213\u001b[0m   featstats\u001b[38;5;241m.\u001b[39mmin \u001b[38;5;241m=\u001b[39m np\u001b[38;5;241m.\u001b[39masscalar(np\u001b[38;5;241m.\u001b[39mmin(nums))\n",
      "File \u001b[0;32m/mount/Project/Project Files/PythonEnvs/DataSciEnv2/lib/python3.10/site-packages/numpy/__init__.py:311\u001b[0m, in \u001b[0;36m__getattr__\u001b[0;34m(attr)\u001b[0m\n\u001b[1;32m    308\u001b[0m     \u001b[38;5;28;01mfrom\u001b[39;00m \u001b[38;5;21;01m.\u001b[39;00m\u001b[38;5;21;01mtesting\u001b[39;00m \u001b[38;5;28;01mimport\u001b[39;00m Tester\n\u001b[1;32m    309\u001b[0m     \u001b[38;5;28;01mreturn\u001b[39;00m Tester\n\u001b[0;32m--> 311\u001b[0m \u001b[38;5;28;01mraise\u001b[39;00m \u001b[38;5;167;01mAttributeError\u001b[39;00m(\u001b[38;5;124m\"\u001b[39m\u001b[38;5;124mmodule \u001b[39m\u001b[38;5;132;01m{!r}\u001b[39;00m\u001b[38;5;124m has no attribute \u001b[39m\u001b[38;5;124m\"\u001b[39m\n\u001b[1;32m    312\u001b[0m                      \u001b[38;5;124m\"\u001b[39m\u001b[38;5;132;01m{!r}\u001b[39;00m\u001b[38;5;124m\"\u001b[39m\u001b[38;5;241m.\u001b[39mformat(\u001b[38;5;18m__name__\u001b[39m, attr))\n",
      "\u001b[0;31mAttributeError\u001b[0m: module 'numpy' has no attribute 'asscalar'"
     ]
    }
   ],
   "source": [
    "fsg = FeatureStatisticsGenerator()\n",
    "dataframes = [{'table': train_df, 'name': 'trainData'}]\n",
    "censusProto = fsg.ProtoFromDataFrames(dataframes)\n",
    "\n",
    "# Convert to float or int\n",
    "for dataset in censusProto.datasets:\n",
    "    for feature in dataset.features:\n",
    "        feature.stats.std_dev = float(feature.stats.std_dev.items())\n",
    "        feature.stats.mean = float(feature.stats.mean.items())\n",
    "        feature.stats.min = float(feature.stats.min.items())\n",
    "\n",
    "protostr = base64.b64encode(censusProto.SerializeToString()).decode(\"utf-8\")\n",
    "\n",
    "HTML_TEMPLATE = \"\"\"\n",
    "<script src=\"https://cdnjs.cloudflare.com/ajax/libs/webcomponentsjs/1.3.3/webcomponents-lite.js\"></script>\n",
    "<link rel=\"import\" href=\"https://raw.githubusercontent.com/PAIR-code/facets/1.0.0/facets-dist/facets-jupyter.html\">\n",
    "<facets-overview id=\"elem\"></facets-overview>\n",
    "<script>\n",
    "  document.querySelector(\"#elem\").protoInput = \"{protostr}\";\n",
    "</script>\n",
    "\"\"\"\n",
    "html = HTML_TEMPLATE.format(protostr=protostr)\n",
    "display(HTML(html))"
   ]
  },
  {
   "cell_type": "code",
   "execution_count": 12,
   "id": "19787cbb-8cb9-4713-826b-f873b695fc2b",
   "metadata": {
    "tags": []
   },
   "outputs": [
    {
     "ename": "ValueError",
     "evalue": "can only convert an array of size 1 to a Python scalar",
     "output_type": "error",
     "traceback": [
      "\u001b[0;31m---------------------------------------------------------------------------\u001b[0m",
      "\u001b[0;31mValueError\u001b[0m                                Traceback (most recent call last)",
      "Cell \u001b[0;32mIn[12], line 4\u001b[0m\n\u001b[1;32m      2\u001b[0m \u001b[38;5;28;01mimport\u001b[39;00m \u001b[38;5;21;01mpandas\u001b[39;00m \u001b[38;5;28;01mas\u001b[39;00m \u001b[38;5;21;01mpd\u001b[39;00m\n\u001b[1;32m      3\u001b[0m df \u001b[38;5;241m=\u001b[39m  pd\u001b[38;5;241m.\u001b[39mDataFrame({\u001b[38;5;124m'\u001b[39m\u001b[38;5;124mnum\u001b[39m\u001b[38;5;124m'\u001b[39m : [\u001b[38;5;241m1\u001b[39m, \u001b[38;5;241m2\u001b[39m, \u001b[38;5;241m3\u001b[39m, \u001b[38;5;241m4\u001b[39m], \u001b[38;5;124m'\u001b[39m\u001b[38;5;124mstr\u001b[39m\u001b[38;5;124m'\u001b[39m : [\u001b[38;5;124m'\u001b[39m\u001b[38;5;124ma\u001b[39m\u001b[38;5;124m'\u001b[39m, \u001b[38;5;124m'\u001b[39m\u001b[38;5;124ma\u001b[39m\u001b[38;5;124m'\u001b[39m, \u001b[38;5;124m'\u001b[39m\u001b[38;5;124mb\u001b[39m\u001b[38;5;124m'\u001b[39m, \u001b[38;5;28;01mNone\u001b[39;00m]})\n\u001b[0;32m----> 4\u001b[0m proto \u001b[38;5;241m=\u001b[39m GenericFeatureStatisticsGenerator()\u001b[38;5;241m.\u001b[39mProtoFromDataFrames([{\u001b[38;5;124m'\u001b[39m\u001b[38;5;124mname\u001b[39m\u001b[38;5;124m'\u001b[39m: \u001b[38;5;124m'\u001b[39m\u001b[38;5;124mtest\u001b[39m\u001b[38;5;124m'\u001b[39m, \u001b[38;5;124m'\u001b[39m\u001b[38;5;124mtable\u001b[39m\u001b[38;5;124m'\u001b[39m: \u001b[43mdf\u001b[49m\u001b[38;5;241;43m.\u001b[39;49m\u001b[43mvalues\u001b[49m\u001b[38;5;241;43m.\u001b[39;49m\u001b[43mitem\u001b[49m\u001b[43m(\u001b[49m\u001b[43m)\u001b[49m}])\n",
      "\u001b[0;31mValueError\u001b[0m: can only convert an array of size 1 to a Python scalar"
     ]
    }
   ],
   "source": [
    "from facets_overview.generic_feature_statistics_generator import GenericFeatureStatisticsGenerator\n",
    "import pandas as pd\n",
    "df =  pd.DataFrame({'num' : [1, 2, 3, 4], 'str' : ['a', 'a', 'b', None]})\n",
    "proto = GenericFeatureStatisticsGenerator().ProtoFromDataFrames([{'name': 'test', 'table': df['.values.item()}])"
   ]
  },
  {
   "cell_type": "code",
   "execution_count": null,
   "id": "f1dea5e8-1cc4-4bc2-b952-704dc25e4798",
   "metadata": {},
   "outputs": [],
   "source": []
  }
 ],
 "metadata": {
  "kernelspec": {
   "display_name": "Python 3 (ipykernel)",
   "language": "python",
   "name": "python3"
  },
  "language_info": {
   "codemirror_mode": {
    "name": "ipython",
    "version": 3
   },
   "file_extension": ".py",
   "mimetype": "text/x-python",
   "name": "python",
   "nbconvert_exporter": "python",
   "pygments_lexer": "ipython3",
   "version": "3.10.6"
  }
 },
 "nbformat": 4,
 "nbformat_minor": 5
}
