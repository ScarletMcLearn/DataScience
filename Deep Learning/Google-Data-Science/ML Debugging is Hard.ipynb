{
 "cells": [
  {
   "cell_type": "code",
   "execution_count": 2,
   "id": "1aaab594-4b51-4221-8e40-cbfab58c8351",
   "metadata": {
    "tags": []
   },
   "outputs": [
    {
     "name": "stderr",
     "output_type": "stream",
     "text": [
      "2023-06-30 17:13:23.179056: I tensorflow/core/platform/cpu_feature_guard.cc:182] This TensorFlow binary is optimized to use available CPU instructions in performance-critical operations.\n",
      "To enable the following instructions: AVX2 FMA, in other operations, rebuild TensorFlow with the appropriate compiler flags.\n",
      "2023-06-30 17:13:40.703747: W tensorflow/compiler/tf2tensorrt/utils/py_utils.cc:38] TF-TRT Warning: Could not find TensorRT\n"
     ]
    }
   ],
   "source": [
    "# Reset environment for a new run\n",
    "# % reset -f\n",
    "\n",
    "# Load Libraries\n",
    "from os.path import join # for joining file pathnames\n",
    "import pandas as pd\n",
    "import tensorflow as tf\n",
    "from tensorflow import keras\n",
    "import numpy as np\n",
    "import matplotlib.pyplot as plt\n",
    "\n",
    "# Set Pandas display options\n",
    "pd.options.display.max_rows = 10\n",
    "pd.options.display.float_format = '{:.1f}'.format"
   ]
  },
  {
   "cell_type": "code",
   "execution_count": 3,
   "id": "af388dab-1926-49df-ab6a-004f9aed9abf",
   "metadata": {
    "tags": []
   },
   "outputs": [],
   "source": [
    "features = np.array(range(10))\n",
    "features = features[:, np.newaxis]\n",
    "# Create labels by adding noise distributed around 0\n",
    "labels = features + np.random.random(size=[10,1]) - 0.5"
   ]
  },
  {
   "cell_type": "code",
   "execution_count": 4,
   "id": "aa948ab7-6181-4984-beb7-8242f4f21872",
   "metadata": {
    "tags": []
   },
   "outputs": [
    {
     "data": {
      "text/plain": [
       "<matplotlib.collections.PathCollection at 0x7f04039dd840>"
      ]
     },
     "execution_count": 4,
     "metadata": {},
     "output_type": "execute_result"
    },
    {
     "data": {
      "image/png": "[encoded data removed]",
      "text/plain": [
       "<Figure size 640x480 with 1 Axes>"
      ]
     },
     "metadata": {},
     "output_type": "display_data"
    }
   ],
   "source": [
    "# Visualize the data\n",
    "plt.scatter(features,labels)"
   ]
  },
  {
   "cell_type": "code",
   "execution_count": 5,
   "id": "5ba7a1af-a4fa-4f71-99c4-bb238c07ef67",
   "metadata": {
    "tags": []
   },
   "outputs": [
    {
     "name": "stdout",
     "output_type": "stream",
     "text": [
      "Model: \"sequential\"\n",
      "_________________________________________________________________\n",
      " Layer (type)                Output Shape              Param #   \n",
      "=================================================================\n",
      " dense (Dense)               (None, 1)                 2         \n",
      "                                                                 \n",
      "=================================================================\n",
      "Total params: 2\n",
      "Trainable params: 2\n",
      "Non-trainable params: 0\n",
      "_________________________________________________________________\n",
      "None\n"
     ]
    },
    {
     "name": "stderr",
     "output_type": "stream",
     "text": [
      "2023-06-30 17:14:19.549237: I tensorflow/compiler/xla/stream_executor/cuda/cuda_gpu_executor.cc:996] successful NUMA node read from SysFS had negative value (-1), but there must be at least one NUMA node, so returning NUMA node zero. See more at https://github.com/torvalds/linux/blob/v6.0/Documentation/ABI/testing/sysfs-bus-pci#L344-L355\n",
      "2023-06-30 17:14:19.656199: W tensorflow/core/common_runtime/gpu/gpu_device.cc:1956] Cannot dlopen some GPU libraries. Please make sure the missing libraries mentioned above are installed properly if you would like to use GPU. Follow the guide at https://www.tensorflow.org/install/gpu for how to download and setup the required libraries for your platform.\n",
      "Skipping registering GPU devices...\n"
     ]
    }
   ],
   "source": [
    "# Delete any existing assignment to \"model\"\n",
    "model = None\n",
    "\n",
    "# Use a sequential model\n",
    "model = keras.Sequential()\n",
    "\n",
    "# Add a layer with 1 neuron. Use the popular \"tanh\" activation function\n",
    "model.add(keras.layers.Dense(units=1,             # 1 neuron\n",
    "                             activation='tanh',   # 'tanh'\n",
    "                             input_dim=1))         # number of feature cols=1\n",
    "\n",
    "# Model calculates loss using mean-square error (MSE)\n",
    "# Model trains using Adam optimizer with learning rate = 0.001\n",
    "model.compile(optimizer=tf.optimizers.Adam(0.001),\n",
    "              loss='mse',\n",
    "             )\n",
    "\n",
    "print(model.summary())"
   ]
  },
  {
   "cell_type": "code",
   "execution_count": 6,
   "id": "9987d501-9355-4b0b-a47c-a273cf40c191",
   "metadata": {
    "tags": []
   },
   "outputs": [
    {
     "name": "stdout",
     "output_type": "stream",
     "text": [
      "Epoch 1/10\n",
      "1/1 [==============================] - 1s 1s/step - loss: 37.2407\n",
      "Epoch 2/10\n",
      "1/1 [==============================] - 0s 5ms/step - loss: 37.2398\n",
      "Epoch 3/10\n",
      "1/1 [==============================] - 0s 5ms/step - loss: 37.2390\n",
      "Epoch 4/10\n",
      "1/1 [==============================] - 0s 5ms/step - loss: 37.2382\n",
      "Epoch 5/10\n",
      "1/1 [==============================] - 0s 6ms/step - loss: 37.2374\n",
      "Epoch 6/10\n",
      "1/1 [==============================] - 0s 6ms/step - loss: 37.2365\n",
      "Epoch 7/10\n",
      "1/1 [==============================] - 0s 8ms/step - loss: 37.2357\n",
      "Epoch 8/10\n",
      "1/1 [==============================] - 0s 6ms/step - loss: 37.2348\n",
      "Epoch 9/10\n",
      "1/1 [==============================] - 0s 6ms/step - loss: 37.2340\n",
      "Epoch 10/10\n",
      "1/1 [==============================] - 0s 6ms/step - loss: 37.2331\n"
     ]
    },
    {
     "data": {
      "text/plain": [
       "<keras.callbacks.History at 0x7f04003cafb0>"
      ]
     },
     "execution_count": 6,
     "metadata": {},
     "output_type": "execute_result"
    }
   ],
   "source": [
    "model.fit(x=features,\n",
    "          y=labels,\n",
    "          epochs=10,    # train for 10 epochs\n",
    "          batch_size=10,# use 10 examples per batch\n",
    "          verbose=1)    # verbose=1 prints progress per epoch"
   ]
  },
  {
   "cell_type": "code",
   "execution_count": 7,
   "id": "b0c7e1f7-42a8-4229-bd86-43d9317b04b1",
   "metadata": {
    "tags": []
   },
   "outputs": [
    {
     "name": "stdout",
     "output_type": "stream",
     "text": [
      "Epoch 1/10\n",
      "10/10 [==============================] - 0s 1ms/step - loss: 0.1147\n",
      "Epoch 2/10\n",
      "10/10 [==============================] - 0s 2ms/step - loss: 0.1088\n",
      "Epoch 3/10\n",
      "10/10 [==============================] - 0s 2ms/step - loss: 0.1073\n",
      "Epoch 4/10\n",
      "10/10 [==============================] - 0s 2ms/step - loss: 0.1067\n",
      "Epoch 5/10\n",
      "10/10 [==============================] - 0s 2ms/step - loss: 0.1048\n",
      "Epoch 6/10\n",
      "10/10 [==============================] - 0s 2ms/step - loss: 0.1056\n",
      "Epoch 7/10\n",
      "10/10 [==============================] - 0s 2ms/step - loss: 0.1045\n",
      "Epoch 8/10\n",
      "10/10 [==============================] - 0s 2ms/step - loss: 0.1035\n",
      "Epoch 9/10\n",
      "10/10 [==============================] - 0s 2ms/step - loss: 0.1033\n",
      "Epoch 10/10\n",
      "10/10 [==============================] - 0s 2ms/step - loss: 0.1042\n"
     ]
    },
    {
     "data": {
      "text/plain": [
       "Text(0.5, 1.0, 'Loss Curves')"
      ]
     },
     "execution_count": 7,
     "metadata": {},
     "output_type": "execute_result"
    },
    {
     "data": {
      "image/png": "[encoded data removed]",
      "text/plain": [
       "<Figure size 640x480 with 1 Axes>"
      ]
     },
     "metadata": {},
     "output_type": "display_data"
    }
   ],
   "source": [
    "model = None\n",
    "model = keras.Sequential()\n",
    "model.add(keras.layers.Dense(1, activation='linear', input_dim=1))\n",
    "model.compile(optimizer=tf.optimizers.Adam(0.001), loss='mse')\n",
    "trainHistory = model.fit(features, labels, epochs=10, batch_size=1, verbose=1)\n",
    "# Plot loss curve\n",
    "plt.plot(trainHistory.history['loss'])\n",
    "plt.title('Loss Curves')"
   ]
  },
  {
   "cell_type": "code",
   "execution_count": 8,
   "id": "f120a12e-ec56-41ec-b1a2-9eebeabadbc4",
   "metadata": {
    "tags": []
   },
   "outputs": [
    {
     "name": "stdout",
     "output_type": "stream",
     "text": [
      "Epoch 1/5\n",
      "10/10 [==============================] - 0s 1ms/step - loss: 0.3691\n",
      "Epoch 2/5\n",
      "10/10 [==============================] - 0s 2ms/step - loss: 0.3656\n",
      "Epoch 3/5\n",
      "10/10 [==============================] - 0s 2ms/step - loss: 0.2255\n",
      "Epoch 4/5\n",
      "10/10 [==============================] - 0s 2ms/step - loss: 0.1677\n",
      "Epoch 5/5\n",
      "10/10 [==============================] - 0s 2ms/step - loss: 0.1927\n"
     ]
    },
    {
     "data": {
      "text/plain": [
       "<keras.callbacks.History at 0x7f040005c280>"
      ]
     },
     "execution_count": 8,
     "metadata": {},
     "output_type": "execute_result"
    }
   ],
   "source": [
    "model = None\n",
    "model = keras.Sequential()\n",
    "model.add(keras.layers.Dense(1, activation='linear', input_dim=1))\n",
    "model.compile(optimizer=tf.optimizers.Adam(0.1), loss='mse')\n",
    "model.fit(features, labels, epochs=5, batch_size=1, verbose=1)"
   ]
  },
  {
   "cell_type": "code",
   "execution_count": 9,
   "id": "b1bca34e-f1f6-489a-aed3-311f199148ae",
   "metadata": {
    "tags": []
   },
   "outputs": [
    {
     "name": "stdout",
     "output_type": "stream",
     "text": [
      "1/1 [==============================] - 0s 112ms/step\n"
     ]
    },
    {
     "data": {
      "text/plain": [
       "<matplotlib.legend.Legend at 0x7f04002445e0>"
      ]
     },
     "execution_count": 9,
     "metadata": {},
     "output_type": "execute_result"
    },
    {
     "data": {
      "image/png": "[encoded data removed]",
      "text/plain": [
       "<Figure size 640x480 with 1 Axes>"
      ]
     },
     "metadata": {},
     "output_type": "display_data"
    }
   ],
   "source": [
    "# get predictions\n",
    "featuresPred = model.predict(features, verbose=1)\n",
    "# Plot original features and predicted values\n",
    "featuresPred = np.transpose(featuresPred)\n",
    "plt.scatter(range(10), labels, c=\"blue\")\n",
    "plt.scatter(range(10), featuresPred, c=\"red\")\n",
    "plt.legend([\"Original\", \"Predicted\"])"
   ]
  },
  {
   "cell_type": "code",
   "execution_count": 10,
   "id": "dcb32dbf-0018-4506-b77d-b9409aa938a0",
   "metadata": {
    "tags": []
   },
   "outputs": [
    {
     "data": {
      "text/plain": [
       "<matplotlib.collections.PathCollection at 0x7f03f026b100>"
      ]
     },
     "execution_count": 10,
     "metadata": {},
     "output_type": "execute_result"
    },
    {
     "data": {
      "image/png": "[encoded data removed]",
      "text/plain": [
       "<Figure size 640x480 with 1 Axes>"
      ]
     },
     "metadata": {},
     "output_type": "display_data"
    }
   ],
   "source": [
    "# create data with large values\n",
    "features = np.array(range(50))\n",
    "# generate labels\n",
    "labels = features + np.random.random(features.shape) - 0.5\n",
    "\n",
    "# Transpose data for input\n",
    "[features, labels] = [features.transpose(), labels.transpose()]\n",
    "\n",
    "plt.scatter(range(len(features)), features)"
   ]
  },
  {
   "cell_type": "code",
   "execution_count": 11,
   "id": "3e1fc254-b7af-470c-8b3f-0034e0b3bc62",
   "metadata": {
    "tags": []
   },
   "outputs": [
    {
     "name": "stdout",
     "output_type": "stream",
     "text": [
      "Epoch 1/5\n",
      "5/5 [==============================] - 1s 3ms/step - loss: 859439955968.0000\n",
      "Epoch 2/5\n",
      "5/5 [==============================] - 0s 2ms/step - loss: 811764177115930821656576.0000\n",
      "Epoch 3/5\n",
      "5/5 [==============================] - 0s 3ms/step - loss: 361785975970048900164744817479254016.0000\n",
      "Epoch 4/5\n",
      "5/5 [==============================] - 0s 2ms/step - loss: inf\n",
      "Epoch 5/5\n",
      "5/5 [==============================] - 0s 2ms/step - loss: inf\n"
     ]
    },
    {
     "data": {
      "text/plain": [
       "<keras.callbacks.History at 0x7f03f02e6a10>"
      ]
     },
     "execution_count": 11,
     "metadata": {},
     "output_type": "execute_result"
    }
   ],
   "source": [
    "# Train on raw data\n",
    "model = None\n",
    "model = keras.Sequential()\n",
    "model.add(keras.layers.Dense(1, input_dim=1, activation='linear'))\n",
    "model.compile(optimizer=keras.optimizers.SGD(0.01), loss='mse')\n",
    "model.fit(features, labels, epochs=5, batch_size=10, verbose=1)"
   ]
  },
  {
   "cell_type": "code",
   "execution_count": null,
   "id": "283d2afc-801b-4f34-8b84-b83cec256331",
   "metadata": {},
   "outputs": [],
   "source": []
  }
 ],
 "metadata": {
  "kernelspec": {
   "display_name": "Python 3 (ipykernel)",
   "language": "python",
   "name": "python3"
  },
  "language_info": {
   "codemirror_mode": {
    "name": "ipython",
    "version": 3
   },
   "file_extension": ".py",
   "mimetype": "text/x-python",
   "name": "python",
   "nbconvert_exporter": "python",
   "pygments_lexer": "ipython3",
   "version": "3.10.6"
  }
 },
 "nbformat": 4,
 "nbformat_minor": 5
}
