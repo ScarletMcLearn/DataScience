{
 "cells": [
  {
   "cell_type": "code",
   "execution_count": 1,
   "id": "2b27226f-24db-4859-b0f3-6eb0fdd0b595",
   "metadata": {
    "tags": []
   },
   "outputs": [
    {
     "name": "stderr",
     "output_type": "stream",
     "text": [
      "2023-06-29 19:38:33.355103: I tensorflow/core/platform/cpu_feature_guard.cc:182] This TensorFlow binary is optimized to use available CPU instructions in performance-critical operations.\n",
      "To enable the following instructions: AVX2 FMA, in other operations, rebuild TensorFlow with the appropriate compiler flags.\n",
      "2023-06-29 19:38:34.504732: W tensorflow/compiler/tf2tensorrt/utils/py_utils.cc:38] TF-TRT Warning: Could not find TensorRT\n"
     ]
    },
    {
     "name": "stdout",
     "output_type": "stream",
     "text": [
      "Imported the modules.\n"
     ]
    }
   ],
   "source": [
    "#@title Load the imports\n",
    "\n",
    "import numpy as np\n",
    "import pandas as pd\n",
    "import tensorflow as tf\n",
    "from tensorflow.keras import layers\n",
    "\n",
    "from matplotlib import pyplot as plt\n",
    "\n",
    "# The following lines adjust the granularity of reporting.\n",
    "pd.options.display.max_rows = 10\n",
    "pd.options.display.float_format = \"{:.1f}\".format\n",
    "\n",
    "tf.keras.backend.set_floatx('float32')\n",
    "\n",
    "print(\"Imported the modules.\")"
   ]
  },
  {
   "cell_type": "code",
   "execution_count": 2,
   "id": "ddb86197-8a97-4e93-83ac-e11323504317",
   "metadata": {
    "tags": []
   },
   "outputs": [],
   "source": [
    "# Load the dataset\n",
    "train_df = pd.read_csv(\"https://download.mlcc.google.com/mledu-datasets/california_housing_train.csv\")\n",
    "test_df = pd.read_csv(\"https://download.mlcc.google.com/mledu-datasets/california_housing_test.csv\")\n",
    "\n",
    "# Scale the labels\n",
    "scale_factor = 1000.0\n",
    "# Scale the training set's label.\n",
    "train_df[\"median_house_value\"] /= scale_factor \n",
    "\n",
    "# Scale the test set's label\n",
    "test_df[\"median_house_value\"] /= scale_factor\n",
    "\n",
    "# Shuffle the examples\n",
    "train_df = train_df.reindex(np.random.permutation(train_df.index))"
   ]
  },
  {
   "cell_type": "code",
   "execution_count": 3,
   "id": "e7e95374-859d-4cbf-8ae3-f75181ed776f",
   "metadata": {
    "tags": []
   },
   "outputs": [],
   "source": [
    "# Keras Input tensors of float values.\n",
    "inputs = {\n",
    "    'latitude':\n",
    "        tf.keras.layers.Input(shape=(1,), dtype=tf.float32,\n",
    "                              name='latitude'),\n",
    "    'longitude':\n",
    "        tf.keras.layers.Input(shape=(1,), dtype=tf.float32,\n",
    "                              name='longitude')\n",
    "}"
   ]
  },
  {
   "cell_type": "code",
   "execution_count": 4,
   "id": "9c10dc70-4858-478e-8561-07709c223cc1",
   "metadata": {
    "tags": []
   },
   "outputs": [
    {
     "name": "stdout",
     "output_type": "stream",
     "text": [
      "Defined the create_model, train_model, and plot_the_loss_curve functions.\n"
     ]
    }
   ],
   "source": [
    "#@title Define functions to create and train a model, and a plotting function\n",
    "def create_model(my_inputs, my_outputs, my_learning_rate):\n",
    "\n",
    "  model = tf.keras.Model(inputs=my_inputs, outputs=my_outputs)\n",
    "\n",
    "  # Construct the layers into a model that TensorFlow can execute.\n",
    "  model.compile(optimizer=tf.keras.optimizers.experimental.RMSprop(\n",
    "      learning_rate=my_learning_rate),\n",
    "      loss=\"mean_squared_error\",\n",
    "      metrics=[tf.keras.metrics.RootMeanSquaredError()])\n",
    "\n",
    "  return model\n",
    "\n",
    "\n",
    "def train_model(model, dataset, epochs, batch_size, label_name):\n",
    "  \"\"\"Feed a dataset into the model in order to train it.\"\"\"\n",
    "\n",
    "  features = {name:np.array(value) for name, value in dataset.items()}\n",
    "  label = np.array(features.pop(label_name))\n",
    "  history = model.fit(x=features, y=label, batch_size=batch_size,\n",
    "                      epochs=epochs, shuffle=True,\n",
    "                     verbose=0\n",
    "                     )\n",
    "\n",
    "  # The list of epochs is stored separately from the rest of history.\n",
    "  epochs = history.epoch\n",
    "  \n",
    "  # Isolate the mean absolute error for each epoch.\n",
    "  hist = pd.DataFrame(history.history)\n",
    "  rmse = hist[\"root_mean_squared_error\"]\n",
    "\n",
    "  return epochs, rmse   \n",
    "\n",
    "\n",
    "def plot_the_loss_curve(epochs, rmse):\n",
    "  \"\"\"Plot a curve of loss vs. epoch.\"\"\"\n",
    "\n",
    "  plt.figure()\n",
    "  plt.xlabel(\"Epoch\")\n",
    "  plt.ylabel(\"Root Mean Squared Error\")\n",
    "\n",
    "  plt.plot(epochs, rmse, label=\"Loss\")\n",
    "  plt.legend()\n",
    "  plt.ylim([rmse.min()*0.94, rmse.max()* 1.05])\n",
    "  plt.show()  \n",
    "\n",
    "print(\"Defined the create_model, train_model, and plot_the_loss_curve functions.\")"
   ]
  },
  {
   "cell_type": "code",
   "execution_count": 5,
   "id": "9115139d-de9f-4d60-8692-1d28a2534aaf",
   "metadata": {
    "tags": []
   },
   "outputs": [
    {
     "name": "stderr",
     "output_type": "stream",
     "text": [
      "2023-06-29 19:38:43.728568: I tensorflow/compiler/xla/stream_executor/cuda/cuda_gpu_executor.cc:996] successful NUMA node read from SysFS had negative value (-1), but there must be at least one NUMA node, so returning NUMA node zero. See more at https://github.com/torvalds/linux/blob/v6.0/Documentation/ABI/testing/sysfs-bus-pci#L344-L355\n",
      "2023-06-29 19:38:43.892806: W tensorflow/core/common_runtime/gpu/gpu_device.cc:1956] Cannot dlopen some GPU libraries. Please make sure the missing libraries mentioned above are installed properly if you would like to use GPU. Follow the guide at https://www.tensorflow.org/install/gpu for how to download and setup the required libraries for your platform.\n",
      "Skipping registering GPU devices...\n",
      "/mount/Project/Project Files/PythonEnvs/DataSciEnv2/lib/python3.10/site-packages/keras/engine/functional.py:639: UserWarning: Input dict contained keys ['housing_median_age', 'total_rooms', 'total_bedrooms', 'population', 'households', 'median_income'] which did not match any model input. They will be ignored by the model.\n",
      "  inputs = self._flatten_to_reference_inputs(inputs)\n"
     ]
    },
    {
     "name": "stdout",
     "output_type": "stream",
     "text": [
      "Model: \"model\"\n",
      "__________________________________________________________________________________________________\n",
      " Layer (type)                   Output Shape         Param #     Connected to                     \n",
      "==================================================================================================\n",
      " latitude (InputLayer)          [(None, 1)]          0           []                               \n",
      "                                                                                                  \n",
      " longitude (InputLayer)         [(None, 1)]          0           []                               \n",
      "                                                                                                  \n",
      " concatenate (Concatenate)      (None, 2)            0           ['latitude[0][0]',               \n",
      "                                                                  'longitude[0][0]']              \n",
      "                                                                                                  \n",
      " dense_layer (Dense)            (None, 1)            3           ['concatenate[0][0]']            \n",
      "                                                                                                  \n",
      "==================================================================================================\n",
      "Total params: 3\n",
      "Trainable params: 3\n",
      "Non-trainable params: 0\n",
      "__________________________________________________________________________________________________\n"
     ]
    },
    {
     "data": {
      "image/png": "[encoded data removed]",
      "text/plain": [
       "<Figure size 640x480 with 1 Axes>"
      ]
     },
     "metadata": {},
     "output_type": "display_data"
    },
    {
     "name": "stdout",
     "output_type": "stream",
     "text": [
      "\n",
      ": Evaluate the new model against the test set:\n",
      "30/30 [==============================] - 0s 2ms/step - loss: 12220.2441 - root_mean_squared_error: 110.5452\n"
     ]
    },
    {
     "name": "stderr",
     "output_type": "stream",
     "text": [
      "/mount/Project/Project Files/PythonEnvs/DataSciEnv2/lib/python3.10/site-packages/keras/engine/functional.py:639: UserWarning: Input dict contained keys ['housing_median_age', 'total_rooms', 'total_bedrooms', 'population', 'households', 'median_income'] which did not match any model input. They will be ignored by the model.\n",
      "  inputs = self._flatten_to_reference_inputs(inputs)\n"
     ]
    },
    {
     "data": {
      "text/plain": [
       "[12220.244140625, 110.54521179199219]"
      ]
     },
     "execution_count": 5,
     "metadata": {},
     "output_type": "execute_result"
    }
   ],
   "source": [
    "# The following variables are the hyperparameters.\n",
    "learning_rate = 0.05\n",
    "epochs = 30\n",
    "batch_size = 100\n",
    "label_name = 'median_house_value'\n",
    "\n",
    "# The two Input layers are concatenated so they can be passed as a single\n",
    "# tensor to a Dense layer.\n",
    "preprocessing_layer = tf.keras.layers.Concatenate()(inputs.values())\n",
    "\n",
    "dense_output = layers.Dense(\n",
    "    units=1,\n",
    "    input_shape=(1,),\n",
    "    name='dense_layer')(preprocessing_layer)\n",
    "\n",
    "outputs = {\n",
    "  'dense_output': dense_output\n",
    "}\n",
    "\n",
    "# Create and compile the model's topography.\n",
    "my_model = create_model(inputs, outputs, learning_rate)\n",
    "\n",
    "# To view a PNG of this model's layers, uncomment the call to\n",
    "# `tf.keras.utils.plot_model` below. After running this code cell, click\n",
    "# the file folder on the left, then the `my_model.png` file.\n",
    "# tf.keras.utils.plot_model(my_model, \"my_model.png\", show_shapes=True)\n",
    "\n",
    "# Train the model on the training set.\n",
    "epochs, rmse = train_model(my_model, train_df, epochs, batch_size, label_name)\n",
    "\n",
    "# Print out the model summary.\n",
    "my_model.summary(expand_nested=True)\n",
    "\n",
    "plot_the_loss_curve(epochs, rmse)\n",
    "\n",
    "print(\"\\n: Evaluate the new model against the test set:\")\n",
    "test_features = {name:np.array(value) for name, value in test_df.items()}\n",
    "test_label = np.array(test_features.pop(label_name))\n",
    "my_model.evaluate(x=test_features, y=test_label, batch_size=batch_size)"
   ]
  },
  {
   "cell_type": "code",
   "execution_count": 6,
   "id": "929fc44d-bb53-4739-86e5-82eeb7b82d0a",
   "metadata": {
    "tags": []
   },
   "outputs": [
    {
     "name": "stdout",
     "output_type": "stream",
     "text": [
      "latitude boundaries: [32.0, 33.0, 34.0, 35.0, 36.0, 37.0, 38.0, 39.0, 40.0]\n",
      "longitude boundaries: [-124.0, -123.0, -122.0, -121.0, -120.0, -119.0, -118.0, -117.0, -116.0, -115.0]\n"
     ]
    }
   ],
   "source": [
    "resolution_in_degrees = 1.0\n",
    "\n",
    "# Create a list of numbers representing the bucket boundaries for latitude.\n",
    "latitude_boundaries = list(np.arange(int(min(train_df['latitude'])), \n",
    "                                     int(max(train_df['latitude'])), \n",
    "                                     resolution_in_degrees))\n",
    "print(\"latitude boundaries: \" + str(latitude_boundaries))\n",
    "\n",
    "# Create a Discretization layer to separate the latitude data into buckets.\n",
    "latitude = tf.keras.layers.Discretization(\n",
    "    bin_boundaries=latitude_boundaries,\n",
    "    name='discretization_latitude')(inputs.get('latitude'))\n",
    "\n",
    "# Number of categories is the length of latitude_boundaries plus one.\n",
    "latitude = tf.keras.layers.CategoryEncoding(\n",
    "    num_tokens=len(latitude_boundaries) + 1,\n",
    "    output_mode='one_hot',\n",
    "    name='category_encoding_latitude')(latitude)\n",
    "\n",
    "# Create a list of numbers representing the bucket boundaries for longitude.\n",
    "longitude_boundaries = list(np.arange(int(min(train_df['longitude'])), \n",
    "                                      int(max(train_df['longitude'])), \n",
    "                                      resolution_in_degrees))\n",
    "\n",
    "print(\"longitude boundaries: \" + str(longitude_boundaries))\n",
    "\n",
    "# Create a Discretization layer to separate the longitude data into buckets.\n",
    "longitude = tf.keras.layers.Discretization(\n",
    "    bin_boundaries=longitude_boundaries,\n",
    "    name='discretization_longitude')(inputs.get('longitude'))\n",
    "\n",
    "# Number of categories is the length of longitude_boundaries plus one.\n",
    "longitude = tf.keras.layers.CategoryEncoding(\n",
    "    num_tokens=len(longitude_boundaries) + 1,\n",
    "    output_mode='one_hot',\n",
    "    name='category_encoding_longitude')(longitude)\n",
    "\n",
    "# Concatenate latitude and longitude into a single tensor as input for the Dense layer.\n",
    "concatenate_layer = tf.keras.layers.Concatenate()([latitude, longitude])\n",
    "\n",
    "# concatenated_features = tf.keras.layers.Concatenate(name='concatenated_features')([latitude, longitude])\n",
    "\n",
    "\n",
    "dense_output = layers.Dense(\n",
    "    units=1, input_shape=(2,), name='dense_layer')(concatenate_layer)\n",
    "\n",
    "# Define an output dictionary we'll send to the model constructor.\n",
    "outputs = {\n",
    "  'dense_output': dense_output\n",
    "}"
   ]
  },
  {
   "cell_type": "code",
   "execution_count": 7,
   "id": "cb864a73-d45f-4378-ad43-b84fbb3118a2",
   "metadata": {
    "tags": []
   },
   "outputs": [
    {
     "name": "stdout",
     "output_type": "stream",
     "text": [
      "Model: \"model_1\"\n",
      "__________________________________________________________________________________________________\n",
      " Layer (type)                   Output Shape         Param #     Connected to                     \n",
      "==================================================================================================\n",
      " latitude (InputLayer)          [(None, 1)]          0           []                               \n",
      "                                                                                                  \n",
      " longitude (InputLayer)         [(None, 1)]          0           []                               \n",
      "                                                                                                  \n",
      " discretization_latitude (Discr  (None, 1)           0           ['latitude[0][0]']               \n",
      " etization)                                                                                       \n",
      "                                                                                                  \n",
      " discretization_longitude (Disc  (None, 1)           0           ['longitude[0][0]']              \n",
      " retization)                                                                                      \n",
      "                                                                                                  \n",
      " category_encoding_latitude (Ca  (None, 10)          0           ['discretization_latitude[0][0]']\n",
      " tegoryEncoding)                                                                                  \n",
      "                                                                                                  \n",
      " category_encoding_longitude (C  (None, 11)          0           ['discretization_longitude[0][0]'\n",
      " ategoryEncoding)                                                ]                                \n",
      "                                                                                                  \n",
      " concatenate_1 (Concatenate)    (None, 21)           0           ['category_encoding_latitude[0][0\n",
      "                                                                 ]',                              \n",
      "                                                                  'category_encoding_longitude[0][\n",
      "                                                                 0]']                             \n",
      "                                                                                                  \n",
      " dense_layer (Dense)            (None, 1)            22          ['concatenate_1[0][0]']          \n",
      "                                                                                                  \n",
      "==================================================================================================\n",
      "Total params: 22\n",
      "Trainable params: 22\n",
      "Non-trainable params: 0\n",
      "__________________________________________________________________________________________________\n"
     ]
    },
    {
     "data": {
      "image/png": "[encoded data removed]",
      "text/plain": [
       "<Figure size 640x480 with 1 Axes>"
      ]
     },
     "metadata": {},
     "output_type": "display_data"
    },
    {
     "name": "stdout",
     "output_type": "stream",
     "text": [
      "\n",
      ": Evaluate the new model against the test set:\n",
      "30/30 [==============================] - 0s 1ms/step - loss: 10201.4795 - root_mean_squared_error: 101.0024\n"
     ]
    },
    {
     "name": "stderr",
     "output_type": "stream",
     "text": [
      "/mount/Project/Project Files/PythonEnvs/DataSciEnv2/lib/python3.10/site-packages/keras/engine/functional.py:639: UserWarning: Input dict contained keys ['housing_median_age', 'total_rooms', 'total_bedrooms', 'population', 'households', 'median_income'] which did not match any model input. They will be ignored by the model.\n",
      "  inputs = self._flatten_to_reference_inputs(inputs)\n"
     ]
    },
    {
     "data": {
      "text/plain": [
       "[10201.4794921875, 101.00238037109375]"
      ]
     },
     "execution_count": 7,
     "metadata": {},
     "output_type": "execute_result"
    }
   ],
   "source": [
    "# The following variables are the hyperparameters.\n",
    "learning_rate = 0.04\n",
    "epochs = 35\n",
    "\n",
    "# Build the model.\n",
    "my_model = create_model(inputs, outputs, learning_rate)\n",
    "\n",
    "# Train the model on the training set.\n",
    "epochs, rmse = train_model(my_model, train_df, epochs, batch_size, label_name)\n",
    "\n",
    "# Print out the model summary.\n",
    "my_model.summary(expand_nested=True)\n",
    "\n",
    "plot_the_loss_curve(epochs, rmse)\n",
    "\n",
    "print(\"\\n: Evaluate the new model against the test set:\")\n",
    "my_model.evaluate(x=test_features, y=test_label, batch_size=batch_size)"
   ]
  },
  {
   "cell_type": "code",
   "execution_count": 8,
   "id": "83fd3cf2-9641-4ed4-8326-7291006cda43",
   "metadata": {
    "tags": []
   },
   "outputs": [],
   "source": [
    "# !pip install --upgrade tensorflow"
   ]
  },
  {
   "cell_type": "code",
   "execution_count": 9,
   "id": "b781bc63-2176-4494-a9cf-2e9fadde9baa",
   "metadata": {
    "tags": []
   },
   "outputs": [],
   "source": [
    "resolution_in_degrees = 1.0\n",
    "\n",
    "# Create a list of numbers representing the bucket boundaries for latitude.\n",
    "latitude_boundaries = list(np.arange(int(min(train_df['latitude'])), \n",
    "                                     int(max(train_df['latitude'])), \n",
    "                                     resolution_in_degrees))\n",
    "\n",
    "# Create a Discretization layer to separate the latitude data into buckets.\n",
    "latitude = tf.keras.layers.Discretization(\n",
    "    bin_boundaries=latitude_boundaries,\n",
    "    name='discretization_latitude')(inputs.get('latitude'))\n",
    "\n",
    "# Create a list of numbers representing the bucket boundaries for longitude.\n",
    "longitude_boundaries = list(np.arange(int(min(train_df['longitude'])), \n",
    "                                      int(max(train_df['longitude'])), \n",
    "                                      resolution_in_degrees))\n",
    "\n",
    "# Create a Discretization layer to separate the longitude data into buckets.\n",
    "longitude = tf.keras.layers.Discretization(\n",
    "    bin_boundaries=longitude_boundaries,\n",
    "    name='discretization_longitude')(inputs.get('longitude'))\n",
    "\n",
    "# Cross the latitude and longitude features into a single one-hot vector.\n",
    "feature_cross = tf.keras.layers.HashedCrossing(\n",
    "    num_bins=len(latitude_boundaries) * len(longitude_boundaries), \n",
    "    output_mode='one_hot',\n",
    "    name='cross_latitude_longitude')([latitude, longitude])\n",
    "\n",
    "dense_output = layers.Dense(units=1, input_shape=(2,), \n",
    "                            name='dense_layer')(feature_cross)\n",
    "\n",
    "# Define an output dictionary we'll send to the model constructor.\n",
    "outputs = {\n",
    "  'dense_output': dense_output\n",
    "}"
   ]
  },
  {
   "cell_type": "code",
   "execution_count": 11,
   "id": "893d28ae-da2e-48b0-a184-9f2e0bdb7e70",
   "metadata": {
    "tags": []
   },
   "outputs": [
    {
     "name": "stdout",
     "output_type": "stream",
     "text": [
      "Model: \"model_2\"\n",
      "__________________________________________________________________________________________________\n",
      " Layer (type)                   Output Shape         Param #     Connected to                     \n",
      "==================================================================================================\n",
      " latitude (InputLayer)          [(None, 1)]          0           []                               \n",
      "                                                                                                  \n",
      " longitude (InputLayer)         [(None, 1)]          0           []                               \n",
      "                                                                                                  \n",
      " discretization_latitude (Discr  (None, 1)           0           ['latitude[0][0]']               \n",
      " etization)                                                                                       \n",
      "                                                                                                  \n",
      " discretization_longitude (Disc  (None, 1)           0           ['longitude[0][0]']              \n",
      " retization)                                                                                      \n",
      "                                                                                                  \n",
      " cross_latitude_longitude (Hash  (None, 90)          0           ['discretization_latitude[0][0]',\n",
      " edCrossing)                                                      'discretization_longitude[0][0]'\n",
      "                                                                 ]                                \n",
      "                                                                                                  \n",
      " dense_layer (Dense)            (None, 1)            91          ['cross_latitude_longitude[0][0]'\n",
      "                                                                 ]                                \n",
      "                                                                                                  \n",
      "==================================================================================================\n",
      "Total params: 91\n",
      "Trainable params: 91\n",
      "Non-trainable params: 0\n",
      "__________________________________________________________________________________________________\n"
     ]
    },
    {
     "data": {
      "image/png": "[encoded data removed]",
      "text/plain": [
       "<Figure size 640x480 with 1 Axes>"
      ]
     },
     "metadata": {},
     "output_type": "display_data"
    },
    {
     "name": "stdout",
     "output_type": "stream",
     "text": [
      "\n",
      ": Evaluate the new model against the test set:\n",
      "30/30 [==============================] - 0s 2ms/step - loss: 9319.4150 - root_mean_squared_error: 96.5371\n"
     ]
    },
    {
     "name": "stderr",
     "output_type": "stream",
     "text": [
      "/mount/Project/Project Files/PythonEnvs/DataSciEnv2/lib/python3.10/site-packages/keras/engine/functional.py:639: UserWarning: Input dict contained keys ['housing_median_age', 'total_rooms', 'total_bedrooms', 'population', 'households', 'median_income'] which did not match any model input. They will be ignored by the model.\n",
      "  inputs = self._flatten_to_reference_inputs(inputs)\n"
     ]
    },
    {
     "data": {
      "text/plain": [
       "[9319.4150390625, 96.53711700439453]"
      ]
     },
     "execution_count": 11,
     "metadata": {},
     "output_type": "execute_result"
    }
   ],
   "source": [
    "# The following variables are the hyperparameters.\n",
    "learning_rate = 0.04\n",
    "epochs = 35\n",
    "\n",
    "# Build the model.\n",
    "my_model = create_model(inputs, outputs, learning_rate)\n",
    "\n",
    "# Train the model on the training set.\n",
    "epochs, rmse = train_model(my_model, train_df, epochs, batch_size, label_name)\n",
    "\n",
    "# Print out the model summary.\n",
    "my_model.summary(expand_nested=True)\n",
    "\n",
    "plot_the_loss_curve(epochs, rmse)\n",
    "\n",
    "print(\"\\n: Evaluate the new model against the test set:\")\n",
    "my_model.evaluate(x=test_features, y=test_label, batch_size=batch_size)"
   ]
  },
  {
   "cell_type": "code",
   "execution_count": null,
   "id": "62ea4917-e6cf-4a80-b2f9-a66744518d4b",
   "metadata": {
    "tags": []
   },
   "outputs": [],
   "source": []
  },
  {
   "cell_type": "code",
   "execution_count": null,
   "id": "0757ac94-5449-461d-b334-eb24ab117e0e",
   "metadata": {},
   "outputs": [],
   "source": []
  }
 ],
 "metadata": {
  "kernelspec": {
   "display_name": "Python 3 (ipykernel)",
   "language": "python",
   "name": "python3"
  },
  "language_info": {
   "codemirror_mode": {
    "name": "ipython",
    "version": 3
   },
   "file_extension": ".py",
   "mimetype": "text/x-python",
   "name": "python",
   "nbconvert_exporter": "python",
   "pygments_lexer": "ipython3",
   "version": "3.10.6"
  }
 },
 "nbformat": 4,
 "nbformat_minor": 5
}
