{
 "cells": [
  {
   "cell_type": "code",
   "execution_count": 22,
   "metadata": {},
   "outputs": [],
   "source": [
    "from PIL import Image\n",
    "\n",
    "from astropy.io import fits\n",
    "\n",
    "import matplotlib \n",
    "\n",
    "import matplotlib.pyplot as plt\n",
    "\n",
    "\n",
    "\n",
    "def get_center(img_with_pth):\n",
    "    im = Image.open(img_with_pth).convert('RGB')\n",
    "\n",
    "    x, y = im.size\n",
    "    \n",
    "    coords = []\n",
    "\n",
    "    for y_indx in range(y):\n",
    "        for x_indx in range(x):\n",
    "   \n",
    "            red, green, blue = im.getpixel((x_indx, y_indx))\n",
    "\n",
    "\n",
    "            if red != 0 and green != 0 and blue != 0 and red > 30 and green > 30 and blue > 30:\n",
    "                coords.append((x_indx, y_indx))\n",
    "\n",
    "    max_x, max_y = coords[0]\n",
    "    min_x, min_y = coords[0]\n",
    "\n",
    "    for cord in coords:\n",
    "        temp_x, temp_y = cord\n",
    "\n",
    "        if temp_x > max_x:\n",
    "            max_x = temp_x\n",
    "\n",
    "        if temp_y > max_y:\n",
    "            max_y = temp_y\n",
    "\n",
    "        if temp_x < min_x:\n",
    "            min_x = temp_x\n",
    "\n",
    "        if temp_y < min_y:\n",
    "            min_y = temp_x\n",
    "            \n",
    "    center_x = (float(max_x)+min_x)/2\n",
    "\n",
    "    center_y = (float(max_y)+min_y)/2\n",
    "    \n",
    "    return (center_x, center_y)"
   ]
  },
  {
   "cell_type": "code",
   "execution_count": 2,
   "metadata": {},
   "outputs": [],
   "source": [
    "def max_min_xy(img_with_pth):\n",
    "    im = Image.open(img_with_pth).convert('RGB')\n",
    "\n",
    "    x, y = im.size\n",
    "    \n",
    "    coords = []\n",
    "\n",
    "    for y_indx in range(y):\n",
    "        for x_indx in range(x):\n",
    "   \n",
    "            red, green, blue = im.getpixel((x_indx, y_indx))\n",
    "\n",
    "\n",
    "            if red != 0 and green != 0 and blue != 0 and red > 30 and green > 30 and blue > 30:\n",
    "                coords.append((x_indx, y_indx))\n",
    "\n",
    "    max_x, max_y = coords[0]\n",
    "    min_x, min_y = coords[0]\n",
    "\n",
    "    for cord in coords:\n",
    "        temp_x, temp_y = cord\n",
    "\n",
    "        if temp_x > max_x:\n",
    "            max_x = temp_x\n",
    "\n",
    "        if temp_y > max_y:\n",
    "            max_y = temp_y\n",
    "\n",
    "        if temp_x < min_x:\n",
    "            min_x = temp_x\n",
    "\n",
    "        if temp_y < min_y:\n",
    "            min_y = temp_x\n",
    "            \n",
    "#     center_x = (float(max_x)+min_x)/2\n",
    "\n",
    "#     center_y = (float(max_y)+min_y)/2\n",
    "    \n",
    "    return (min_x, min_y, max_x, max_y)"
   ]
  },
  {
   "cell_type": "code",
   "execution_count": 13,
   "metadata": {},
   "outputs": [],
   "source": [
    "base_path_to_config_file = '/home/scarlet/Projects/DataScience/ImageProcessing/Crop4Research/img/'\n",
    "config_file_name = 'config-i-0.fits'\n",
    "cfile_w_path = base_path_to_config_file+config_file_name\n",
    "temp_img_file_dir = './temp_img/'\n",
    "cropped_img_file_dir = './test/' "
   ]
  },
  {
   "cell_type": "code",
   "execution_count": 6,
   "metadata": {},
   "outputs": [],
   "source": [
    "image_data = fits.getdata(cfile_w_path)"
   ]
  },
  {
   "cell_type": "code",
   "execution_count": 7,
   "metadata": {},
   "outputs": [
    {
     "data": {
      "text/plain": [
       "<matplotlib.colorbar.Colorbar at 0x7f0716d59090>"
      ]
     },
     "execution_count": 7,
     "metadata": {},
     "output_type": "execute_result"
    },
    {
     "data": {
      "image/png": "[encoded data removed]",
      "text/plain": [
       "<Figure size 432x288 with 2 Axes>"
      ]
     },
     "metadata": {
      "needs_background": "light"
     },
     "output_type": "display_data"
    }
   ],
   "source": [
    "\n",
    "plt.imshow(image_data, cmap='gray')\n",
    "plt.colorbar()"
   ]
  },
  {
   "cell_type": "code",
   "execution_count": 15,
   "metadata": {},
   "outputs": [],
   "source": [
    "\n",
    "tmp_img_name = 'temp.png'\n",
    "\n",
    "matplotlib.image.imsave(temp_img_file_dir+tmp_img_name, image_data, cmap='gray')"
   ]
  },
  {
   "cell_type": "code",
   "execution_count": 16,
   "metadata": {},
   "outputs": [],
   "source": [
    "t_im = Image.open(temp_img_file_dir+tmp_img_name)"
   ]
  },
  {
   "cell_type": "code",
   "execution_count": 18,
   "metadata": {},
   "outputs": [],
   "source": [
    "x_cnt, y_cnt = get_center(temp_img_file_dir+tmp_img_name)"
   ]
  },
  {
   "cell_type": "code",
   "execution_count": 19,
   "metadata": {},
   "outputs": [],
   "source": [
    "cropped = t_im.crop((x_cnt-75, y_cnt-75, x_cnt+75, y_cnt+75))"
   ]
  },
  {
   "cell_type": "code",
   "execution_count": 20,
   "metadata": {},
   "outputs": [
    {
     "data": {
      "image/png": "[encoded data removed]",
      "text/plain": [
       "<PIL.Image.Image image mode=RGBA size=150x150 at 0x7F0715BAEF50>"
      ]
     },
     "metadata": {},
     "output_type": "display_data"
    }
   ],
   "source": [
    "display(cropped)"
   ]
  },
  {
   "cell_type": "code",
   "execution_count": 21,
   "metadata": {},
   "outputs": [],
   "source": [
    "cropped.save(cropped_img_file_dir+config_file_name[:-5]+'.png')"
   ]
  },
  {
   "cell_type": "code",
   "execution_count": null,
   "metadata": {},
   "outputs": [],
   "source": []
  },
  {
   "cell_type": "code",
   "execution_count": 23,
   "metadata": {},
   "outputs": [],
   "source": [
    "def fits_cropper(base_path_to_config_file, config_file_name, temp_img_file_dir, cropped_img_file_dir, disp=True):\n",
    "        cfile_w_path = base_path_to_config_file+config_file_name\n",
    "        image_data = fits.getdata(cfile_w_path)\n",
    "        \n",
    "        if (disp == True):\n",
    "            print('Temp Image: ' + str(image_data.size))\n",
    "            plt.imshow(image_data, cmap='gray')\n",
    "            plt.colorbar()\n",
    "            \n",
    "        tmp_img_name = 'temp.png'\n",
    "\n",
    "        matplotlib.image.imsave(temp_img_file_dir+tmp_img_name, image_data, cmap='gray')\n",
    "    \n",
    "        t_im = Image.open(temp_img_file_dir+tmp_img_name)\n",
    "        \n",
    "        x_cnt, y_cnt = get_center(temp_img_file_dir+tmp_img_name)\n",
    "        \n",
    "        cropped = t_im.crop((x_cnt-75, y_cnt-75, x_cnt+75, y_cnt+75))\n",
    "        \n",
    "        if (disp == True):\n",
    "            print('Cropped Image: ' + str(cropped.size))\n",
    "            display(cropped)\n",
    "        \n",
    "        cropped.save(cropped_img_file_dir+config_file_name[:-5]+'.png')"
   ]
  },
  {
   "cell_type": "code",
   "execution_count": 24,
   "metadata": {
    "scrolled": true
   },
   "outputs": [
    {
     "name": "stdout",
     "output_type": "stream",
     "text": [
      "Temp Image: 90000\n",
      "Cropped Image: (150, 150)\n"
     ]
    },
    {
     "data": {
      "image/png": "[encoded data removed]",
      "text/plain": [
       "<PIL.Image.Image image mode=RGBA size=150x150 at 0x7F0713CE36D0>"
      ]
     },
     "metadata": {},
     "output_type": "display_data"
    },
    {
     "data": {
      "image/png": "[encoded data removed]",
      "text/plain": [
       "<Figure size 432x288 with 2 Axes>"
      ]
     },
     "metadata": {
      "needs_background": "light"
     },
     "output_type": "display_data"
    }
   ],
   "source": [
    "fits_cropper('/home/scarlet/Projects/DataScience/ImageProcessing/Crop4Research/img/', 'config-i-0.fits', './temp_img/', './test/', disp=True)"
   ]
  },
  {
   "cell_type": "code",
   "execution_count": 25,
   "metadata": {},
   "outputs": [
    {
     "data": {
      "text/plain": [
       "PIL.PngImagePlugin.PngImageFile"
      ]
     },
     "execution_count": 25,
     "metadata": {},
     "output_type": "execute_result"
    }
   ],
   "source": [
    "type(t_im)"
   ]
  },
  {
   "cell_type": "code",
   "execution_count": null,
   "metadata": {},
   "outputs": [],
   "source": []
  },
  {
   "cell_type": "code",
   "execution_count": null,
   "metadata": {},
   "outputs": [],
   "source": []
  }
 ],
 "metadata": {
  "kernelspec": {
   "display_name": "Python 3",
   "language": "python",
   "name": "python3"
  },
  "language_info": {
   "codemirror_mode": {
    "name": "ipython",
    "version": 3
   },
   "file_extension": ".py",
   "mimetype": "text/x-python",
   "name": "python",
   "nbconvert_exporter": "python",
   "pygments_lexer": "ipython3",
   "version": "3.7.8"
  }
 },
 "nbformat": 4,
 "nbformat_minor": 4
}
