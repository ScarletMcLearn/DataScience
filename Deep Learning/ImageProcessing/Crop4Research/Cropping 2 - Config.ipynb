{
 "cells": [
  {
   "cell_type": "code",
   "execution_count": 1,
   "metadata": {},
   "outputs": [],
   "source": [
    "from PIL import Image\n",
    "\n",
    "def get_center(img_with_pth):\n",
    "    im = Image.open(img_with_pth).convert('RGB')\n",
    "\n",
    "    x, y = im.size\n",
    "    \n",
    "    coords = []\n",
    "\n",
    "    for y_indx in range(y):\n",
    "        for x_indx in range(x):\n",
    "   \n",
    "            red, green, blue = im.getpixel((x_indx, y_indx))\n",
    "\n",
    "\n",
    "            if red != 0 and green != 0 and blue != 0 and red > 30 and green > 30 and blue > 30:\n",
    "                coords.append((x_indx, y_indx))\n",
    "\n",
    "    max_x, max_y = coords[0]\n",
    "    min_x, min_y = coords[0]\n",
    "\n",
    "    for cord in coords:\n",
    "        temp_x, temp_y = cord\n",
    "\n",
    "        if temp_x > max_x:\n",
    "            max_x = temp_x\n",
    "\n",
    "        if temp_y > max_y:\n",
    "            max_y = temp_y\n",
    "\n",
    "        if temp_x < min_x:\n",
    "            min_x = temp_x\n",
    "\n",
    "        if temp_y < min_y:\n",
    "            min_y = temp_x\n",
    "            \n",
    "    center_x = (float(max_x)+min_x)/2\n",
    "\n",
    "    center_y = (float(max_y)+min_y)/2\n",
    "    \n",
    "    return (center_x, center_y)"
   ]
  },
  {
   "cell_type": "code",
   "execution_count": 2,
   "metadata": {},
   "outputs": [],
   "source": [
    "def max_min_xy(img_with_pth):\n",
    "    im = Image.open(img_with_pth).convert('RGB')\n",
    "\n",
    "    x, y = im.size\n",
    "    \n",
    "    coords = []\n",
    "\n",
    "    for y_indx in range(y):\n",
    "        for x_indx in range(x):\n",
    "   \n",
    "            red, green, blue = im.getpixel((x_indx, y_indx))\n",
    "\n",
    "\n",
    "            if red != 0 and green != 0 and blue != 0 and red > 30 and green > 30 and blue > 30:\n",
    "                coords.append((x_indx, y_indx))\n",
    "\n",
    "    max_x, max_y = coords[0]\n",
    "    min_x, min_y = coords[0]\n",
    "\n",
    "    for cord in coords:\n",
    "        temp_x, temp_y = cord\n",
    "\n",
    "        if temp_x > max_x:\n",
    "            max_x = temp_x\n",
    "\n",
    "        if temp_y > max_y:\n",
    "            max_y = temp_y\n",
    "\n",
    "        if temp_x < min_x:\n",
    "            min_x = temp_x\n",
    "\n",
    "        if temp_y < min_y:\n",
    "            min_y = temp_x\n",
    "            \n",
    "#     center_x = (float(max_x)+min_x)/2\n",
    "\n",
    "#     center_y = (float(max_y)+min_y)/2\n",
    "    \n",
    "    return (min_x, min_y, max_x, max_y)"
   ]
  },
  {
   "cell_type": "code",
   "execution_count": 3,
   "metadata": {},
   "outputs": [],
   "source": [
    "# x_cnt, y_cnt = get_center(\"/home/scarlet/Projects/DataScience/ImageProcessing/Crop4Research/img/inf.png\")"
   ]
  },
  {
   "cell_type": "code",
   "execution_count": 8,
   "metadata": {},
   "outputs": [
    {
     "data": {
      "image/png": "[encoded data removed]",
      "text/plain": [
       "<PIL.Image.Image image mode=RGB size=100x100 at 0x7F0298122790>"
      ]
     },
     "metadata": {},
     "output_type": "display_data"
    }
   ],
   "source": [
    "x_cnt, y_cnt = get_center(\"/home/scarlet/Projects/DataScience/ImageProcessing/Crop4Research/img/fri_0.jpg\")\n",
    "\n",
    "tst = Image.open(\"/home/scarlet/Projects/DataScience/ImageProcessing/Crop4Research/img/fri_0.jpg\").convert('RGB')\n",
    "\n",
    "cropped = tst.crop((x_cnt-50, y_cnt-50, x_cnt+50, y_cnt+50))\n",
    "\n",
    "# cropped.show()\n",
    "\n",
    "display(cropped)"
   ]
  },
  {
   "cell_type": "code",
   "execution_count": 9,
   "metadata": {},
   "outputs": [
    {
     "data": {
      "image/png": "[encoded data removed]",
      "text/plain": [
       "<PIL.Image.Image image mode=RGB size=150x150 at 0x7F0298127710>"
      ]
     },
     "metadata": {},
     "output_type": "display_data"
    }
   ],
   "source": [
    "display(tst)"
   ]
  },
  {
   "cell_type": "code",
   "execution_count": 10,
   "metadata": {},
   "outputs": [
    {
     "data": {
      "text/plain": [
       "(150, 150)"
      ]
     },
     "execution_count": 10,
     "metadata": {},
     "output_type": "execute_result"
    }
   ],
   "source": [
    "tst.size"
   ]
  },
  {
   "cell_type": "code",
   "execution_count": 11,
   "metadata": {},
   "outputs": [
    {
     "data": {
      "text/plain": [
       "(100, 100)"
      ]
     },
     "execution_count": 11,
     "metadata": {},
     "output_type": "execute_result"
    }
   ],
   "source": [
    "cropped.size"
   ]
  },
  {
   "cell_type": "code",
   "execution_count": null,
   "metadata": {},
   "outputs": [],
   "source": []
  },
  {
   "cell_type": "code",
   "execution_count": 60,
   "metadata": {},
   "outputs": [],
   "source": [
    "from astropy.io import fits"
   ]
  },
  {
   "cell_type": "code",
   "execution_count": null,
   "metadata": {},
   "outputs": [],
   "source": []
  },
  {
   "cell_type": "code",
   "execution_count": 61,
   "metadata": {},
   "outputs": [],
   "source": [
    "image_file = '/home/scarlet/Projects/DataScience/ImageProcessing/Crop4Research/img/config-i-0.fits'\n",
    "\n",
    "config_file = fits.open('/home/scarlet/Projects/DataScience/ImageProcessing/Crop4Research/img/config-i-0.fits')"
   ]
  },
  {
   "cell_type": "code",
   "execution_count": 62,
   "metadata": {},
   "outputs": [
    {
     "name": "stdout",
     "output_type": "stream",
     "text": [
      "Filename: /home/scarlet/Projects/DataScience/ImageProcessing/Crop4Research/img/config-i-0.fits\n",
      "No.    Name      Ver    Type      Cards   Dimensions   Format\n",
      "  0  PRIMARY       1 PrimaryHDU     195   (300, 300)   float32   \n"
     ]
    }
   ],
   "source": [
    "config_file.info()\n"
   ]
  },
  {
   "cell_type": "code",
   "execution_count": 63,
   "metadata": {},
   "outputs": [
    {
     "data": {
      "text/plain": [
       "1"
      ]
     },
     "execution_count": 63,
     "metadata": {},
     "output_type": "execute_result"
    }
   ],
   "source": [
    "len(config_file)"
   ]
  },
  {
   "cell_type": "code",
   "execution_count": 64,
   "metadata": {},
   "outputs": [],
   "source": [
    "image_data = config_file[0].data"
   ]
  },
  {
   "cell_type": "code",
   "execution_count": 65,
   "metadata": {},
   "outputs": [
    {
     "name": "stdout",
     "output_type": "stream",
     "text": [
      "<class 'numpy.ndarray'>\n",
      "(300, 300)\n"
     ]
    }
   ],
   "source": [
    "print(type(image_data))\n",
    "print(image_data.shape)"
   ]
  },
  {
   "cell_type": "code",
   "execution_count": 66,
   "metadata": {},
   "outputs": [],
   "source": [
    "config_file.close()"
   ]
  },
  {
   "cell_type": "code",
   "execution_count": null,
   "metadata": {},
   "outputs": [],
   "source": []
  },
  {
   "cell_type": "code",
   "execution_count": 67,
   "metadata": {},
   "outputs": [
    {
     "name": "stdout",
     "output_type": "stream",
     "text": [
      "<class 'numpy.ndarray'>\n",
      "(300, 300)\n"
     ]
    }
   ],
   "source": [
    "image_data = fits.getdata(image_file)\n",
    "\n",
    "print(type(image_data))\n",
    "print(image_data.shape)"
   ]
  },
  {
   "cell_type": "code",
   "execution_count": 68,
   "metadata": {},
   "outputs": [
    {
     "data": {
      "text/plain": [
       "<matplotlib.colorbar.Colorbar at 0x7f02712dc5d0>"
      ]
     },
     "execution_count": 68,
     "metadata": {},
     "output_type": "execute_result"
    },
    {
     "data": {
      "image/png": "[encoded data removed]",
      "text/plain": [
       "<Figure size 432x288 with 2 Axes>"
      ]
     },
     "metadata": {
      "needs_background": "light"
     },
     "output_type": "display_data"
    }
   ],
   "source": [
    "import matplotlib.pyplot as plt\n",
    "\n",
    "plt.imshow(image_data, cmap='gray')\n",
    "plt.colorbar()\n",
    "\n",
    "# To see more color maps\n",
    "# http://wiki.scipy.org/Cookbook/Matplotlib/Show_colormaps"
   ]
  },
  {
   "cell_type": "code",
   "execution_count": 69,
   "metadata": {},
   "outputs": [],
   "source": [
    "image = Image.fromarray(image_data)"
   ]
  },
  {
   "cell_type": "code",
   "execution_count": 70,
   "metadata": {},
   "outputs": [
    {
     "data": {
      "text/plain": [
       "<matplotlib.image.AxesImage at 0x7f02712a8c90>"
      ]
     },
     "execution_count": 70,
     "metadata": {},
     "output_type": "execute_result"
    },
    {
     "data": {
      "image/png": "[encoded data removed]",
      "text/plain": [
       "<Figure size 432x288 with 1 Axes>"
      ]
     },
     "metadata": {
      "needs_background": "light"
     },
     "output_type": "display_data"
    }
   ],
   "source": [
    "import numpy as np\n",
    "\n",
    "plt.imshow(np.array(image_data).reshape(300, 300), cmap='gray')\n"
   ]
  },
  {
   "cell_type": "code",
   "execution_count": 71,
   "metadata": {},
   "outputs": [],
   "source": [
    "import matplotlib \n",
    "\n",
    "matplotlib.image.imsave('name.png', image_data, cmap='gray')"
   ]
  },
  {
   "cell_type": "code",
   "execution_count": 88,
   "metadata": {},
   "outputs": [],
   "source": [
    "x_cnt, y_cnt = get_center('/home/scarlet/Projects/DataScience/ImageProcessing/Crop4Research/test/' + 'config-i-0.png')"
   ]
  },
  {
   "cell_type": "code",
   "execution_count": 97,
   "metadata": {},
   "outputs": [
    {
     "data": {
      "text/plain": [
       "'/home/scarlet/Projects/DataScience/ImageProcessing/Crop4Research/test/config-i-0.png'"
      ]
     },
     "metadata": {},
     "output_type": "display_data"
    }
   ],
   "source": [
    "display('/home/scarlet/Projects/DataScience/ImageProcessing/Crop4Research/test/' + 'config-i-0.png')"
   ]
  },
  {
   "cell_type": "code",
   "execution_count": 89,
   "metadata": {},
   "outputs": [
    {
     "data": {
      "text/plain": [
       "153.5"
      ]
     },
     "execution_count": 89,
     "metadata": {},
     "output_type": "execute_result"
    }
   ],
   "source": [
    "x_cnt"
   ]
  },
  {
   "cell_type": "code",
   "execution_count": 90,
   "metadata": {},
   "outputs": [
    {
     "data": {
      "text/plain": [
       "147.5"
      ]
     },
     "execution_count": 90,
     "metadata": {},
     "output_type": "execute_result"
    }
   ],
   "source": [
    "y_cnt"
   ]
  },
  {
   "cell_type": "code",
   "execution_count": 116,
   "metadata": {},
   "outputs": [],
   "source": [
    "t_im = Image.open(\"/home/scarlet/Projects/DataScience/ImageProcessing/Crop4Research/test/\"+'config-i-0.png')"
   ]
  },
  {
   "cell_type": "code",
   "execution_count": 119,
   "metadata": {},
   "outputs": [],
   "source": [
    "cropped = t_im.crop((x_cnt-50, y_cnt-50, x_cnt+50, y_cnt+50))"
   ]
  },
  {
   "cell_type": "code",
   "execution_count": 98,
   "metadata": {},
   "outputs": [
    {
     "data": {
      "text/plain": [
       "103.5"
      ]
     },
     "execution_count": 98,
     "metadata": {},
     "output_type": "execute_result"
    }
   ],
   "source": [
    "153.5-50\n"
   ]
  },
  {
   "cell_type": "code",
   "execution_count": 99,
   "metadata": {},
   "outputs": [
    {
     "data": {
      "text/plain": [
       "97.5"
      ]
     },
     "execution_count": 99,
     "metadata": {},
     "output_type": "execute_result"
    }
   ],
   "source": [
    "147.5-50"
   ]
  },
  {
   "cell_type": "code",
   "execution_count": 102,
   "metadata": {},
   "outputs": [
    {
     "data": {
      "text/plain": [
       "203.5"
      ]
     },
     "execution_count": 102,
     "metadata": {},
     "output_type": "execute_result"
    }
   ],
   "source": [
    "153.5+50\n"
   ]
  },
  {
   "cell_type": "code",
   "execution_count": 103,
   "metadata": {},
   "outputs": [
    {
     "data": {
      "text/plain": [
       "197.5"
      ]
     },
     "execution_count": 103,
     "metadata": {},
     "output_type": "execute_result"
    }
   ],
   "source": [
    "147.5+50"
   ]
  },
  {
   "cell_type": "code",
   "execution_count": 120,
   "metadata": {},
   "outputs": [
    {
     "data": {
      "image/png": "[encoded data removed]",
      "text/plain": [
       "<PIL.Image.Image image mode=RGBA size=100x100 at 0x7F02713AD6D0>"
      ]
     },
     "metadata": {},
     "output_type": "display_data"
    }
   ],
   "source": [
    "display(cropped)"
   ]
  },
  {
   "cell_type": "code",
   "execution_count": 104,
   "metadata": {},
   "outputs": [
    {
     "data": {
      "image/png": "[encoded data removed]",
      "text/plain": [
       "<PIL.JpegImagePlugin.JpegImageFile image mode=L size=150x150 at 0x7F02713D5F50>"
      ]
     },
     "metadata": {},
     "output_type": "display_data"
    }
   ],
   "source": [
    "display(t_im)"
   ]
  },
  {
   "cell_type": "code",
   "execution_count": null,
   "metadata": {},
   "outputs": [],
   "source": []
  },
  {
   "cell_type": "code",
   "execution_count": null,
   "metadata": {},
   "outputs": [],
   "source": []
  },
  {
   "cell_type": "code",
   "execution_count": 128,
   "metadata": {},
   "outputs": [],
   "source": [
    "def crop_config(cfile_w_path, path_to_destination, disp=False, disp_crop=False):\n",
    "    path_to_destination = path_to_destination + cfile_name[:-5]+'.png'\n",
    "    config_file = fits.open(cfile_w_path)\n",
    "    image_data = config_file[0].data\n",
    "    config_file.close()\n",
    "    image_data = fits.getdata(image_file)\n",
    "    matplotlib.image.imsave(path_to_destination, image_data, cmap='gray')\n",
    "    \n",
    "    if (disp==True):\n",
    "        plt.imshow(np.array(image_data).reshape(300, 300), cmap='gray')\n",
    "        \n",
    "    x_cnt, y_cnt = get_center(path_to_destination)\n",
    "    \n",
    "    t_im = Image.open(path_to_destination).convert('RGB')\n",
    "\n",
    "    cropped = t_im.crop((x_cnt-75, y_cnt-75, x_cnt+75, y_cnt+75))\n",
    "    \n",
    "    if (disp_crop==True):\n",
    "        display(cropped)\n",
    "        \n",
    "    return cropped\n",
    "\n"
   ]
  },
  {
   "cell_type": "code",
   "execution_count": 140,
   "metadata": {},
   "outputs": [
    {
     "data": {
      "image/png": "[encoded data removed]",
      "text/plain": [
       "<PIL.Image.Image image mode=RGB size=150x150 at 0x7F027028E490>"
      ]
     },
     "metadata": {},
     "output_type": "display_data"
    }
   ],
   "source": [
    "base_path = '/home/scarlet/Projects/DataScience/ImageProcessing/Crop4Research/img/'\n",
    "cfile_name = 'config-i-0.fits'\n",
    "cfile_w_path = base_path+cfile_name\n",
    "path_to_destination = './test/' \n",
    "    \n",
    "t = crop_config(cfile_w_path, path_to_destination, disp_crop=True)"
   ]
  },
  {
   "cell_type": "code",
   "execution_count": 141,
   "metadata": {},
   "outputs": [
    {
     "data": {
      "text/plain": [
       "(150, 150)"
      ]
     },
     "execution_count": 141,
     "metadata": {},
     "output_type": "execute_result"
    }
   ],
   "source": [
    "t.size"
   ]
  },
  {
   "cell_type": "code",
   "execution_count": 139,
   "metadata": {},
   "outputs": [],
   "source": [
    "matplotlib.image.imsave('tea.png', t, cmap='gray')"
   ]
  },
  {
   "cell_type": "code",
   "execution_count": 142,
   "metadata": {},
   "outputs": [
    {
     "data": {
      "image/png": "[encoded data removed]",
      "text/plain": [
       "<PIL.Image.Image image mode=RGB size=150x150 at 0x7F027028E490>"
      ]
     },
     "metadata": {},
     "output_type": "display_data"
    }
   ],
   "source": [
    "display(t)"
   ]
  },
  {
   "cell_type": "code",
   "execution_count": 143,
   "metadata": {},
   "outputs": [
    {
     "data": {
      "text/plain": [
       "PIL.Image.Image"
      ]
     },
     "execution_count": 143,
     "metadata": {},
     "output_type": "execute_result"
    }
   ],
   "source": [
    "type(t)"
   ]
  },
  {
   "cell_type": "code",
   "execution_count": null,
   "metadata": {},
   "outputs": [],
   "source": []
  },
  {
   "cell_type": "code",
   "execution_count": null,
   "metadata": {},
   "outputs": [],
   "source": []
  },
  {
   "cell_type": "code",
   "execution_count": null,
   "metadata": {},
   "outputs": [],
   "source": []
  },
  {
   "cell_type": "code",
   "execution_count": 76,
   "metadata": {},
   "outputs": [
    {
     "data": {
      "text/plain": [
       "'config-i-0'"
      ]
     },
     "execution_count": 76,
     "metadata": {},
     "output_type": "execute_result"
    }
   ],
   "source": [
    "cfile_name[:-5]"
   ]
  },
  {
   "cell_type": "code",
   "execution_count": 52,
   "metadata": {},
   "outputs": [],
   "source": [
    "config_file = fits.open(cfile_w_path)"
   ]
  },
  {
   "cell_type": "code",
   "execution_count": 53,
   "metadata": {},
   "outputs": [],
   "source": [
    "image_data = config_file[0].data"
   ]
  },
  {
   "cell_type": "code",
   "execution_count": 54,
   "metadata": {},
   "outputs": [],
   "source": [
    "image_data = fits.getdata(image_file)"
   ]
  },
  {
   "cell_type": "code",
   "execution_count": 58,
   "metadata": {},
   "outputs": [
    {
     "data": {
      "text/plain": [
       "<matplotlib.image.AxesImage at 0x7f02712e3b10>"
      ]
     },
     "execution_count": 58,
     "metadata": {},
     "output_type": "execute_result"
    },
    {
     "data": {
      "image/png": "[encoded data removed]",
      "text/plain": [
       "<Figure size 432x288 with 1 Axes>"
      ]
     },
     "metadata": {
      "needs_background": "light"
     },
     "output_type": "display_data"
    }
   ],
   "source": [
    "plt.imshow(np.array(image_data).reshape(300, 300), cmap='gray')\n"
   ]
  },
  {
   "cell_type": "code",
   "execution_count": null,
   "metadata": {},
   "outputs": [],
   "source": []
  },
  {
   "cell_type": "code",
   "execution_count": 132,
   "metadata": {},
   "outputs": [],
   "source": [
    "def crop_config(cfile_w_path, path_to_destination, disp=False, disp_crop=False):\n",
    "    path_to_destination = path_to_destination + cfile_name[:-5]+'.png'\n",
    "    config_file = fits.open(cfile_w_path)\n",
    "    image_data = config_file[0].data\n",
    "    config_file.close()\n",
    "    image_data = fits.getdata(image_file)\n",
    "    matplotlib.image.imsave(path_to_destination, image_data, cmap='gray')\n",
    "    \n",
    "    if (disp==True):\n",
    "        plt.imshow(np.array(image_data).reshape(300, 300), cmap='gray')\n",
    "        \n",
    "    x_cnt, y_cnt = get_center(path_to_destination)\n",
    "    \n",
    "    t_im = Image.open(path_to_destination).convert('RGB')\n",
    "\n",
    "    cropped = t_im.crop((x_cnt-75, y_cnt-75, x_cnt+75, y_cnt+75))\n",
    "    \n",
    "    if (disp_crop==True):\n",
    "        display(cropped)\n",
    "        \n",
    "    return cropped\n",
    "\n"
   ]
  },
  {
   "cell_type": "code",
   "execution_count": 133,
   "metadata": {},
   "outputs": [
    {
     "data": {
      "image/png": "[encoded data removed]",
      "text/plain": [
       "<PIL.Image.Image image mode=RGB size=150x150 at 0x7F026FE29C50>"
      ]
     },
     "metadata": {},
     "output_type": "display_data"
    }
   ],
   "source": [
    "base_path = '/home/scarlet/Projects/DataScience/ImageProcessing/Crop4Research/img/'\n",
    "cfile_name = 'config-i-0.fits'\n",
    "cfile_w_path = base_path+cfile_name\n",
    "path_to_destination = './test/' \n",
    "    \n",
    "t = crop_config(cfile_w_path, path_to_destination, disp_crop=True)"
   ]
  },
  {
   "cell_type": "code",
   "execution_count": null,
   "metadata": {},
   "outputs": [],
   "source": []
  },
  {
   "cell_type": "code",
   "execution_count": 137,
   "metadata": {},
   "outputs": [],
   "source": [
    "from os import listdir\n",
    "from os.path import isfile, join\n",
    "\n",
    "fits_files_dir = '/home/scarlet/Projects/DataScience/ImageProcessing/Crop4Research/img/'\n",
    "\n",
    "fits_files = [f for f in listdir(mypath) if isfile(join(mypath, f))]"
   ]
  },
  {
   "cell_type": "code",
   "execution_count": 138,
   "metadata": {},
   "outputs": [
    {
     "data": {
      "text/plain": [
       "['fri_0.jpg',\n",
       " 'config-i-0.fits',\n",
       " 'c dot.png',\n",
       " 'test.png',\n",
       " 'black-dot.jpg',\n",
       " 'circle.png',\n",
       " 'inf.png']"
      ]
     },
     "execution_count": 138,
     "metadata": {},
     "output_type": "execute_result"
    }
   ],
   "source": [
    "onlyfiles"
   ]
  },
  {
   "cell_type": "code",
   "execution_count": null,
   "metadata": {},
   "outputs": [],
   "source": [
    "for fl in onlyfiles:\n",
    "    base_path = fits_files_dir\n",
    "    cfile_name = fl\n",
    "    cfile_w_path = base_path+cfile_name\n",
    "    path_to_destination = './test/' \n",
    "    \n",
    "t = crop_config(cfile_w_path, path_to_destination, disp_crop=True)"
   ]
  }
 ],
 "metadata": {
  "kernelspec": {
   "display_name": "Python 3",
   "language": "python",
   "name": "python3"
  },
  "language_info": {
   "codemirror_mode": {
    "name": "ipython",
    "version": 3
   },
   "file_extension": ".py",
   "mimetype": "text/x-python",
   "name": "python",
   "nbconvert_exporter": "python",
   "pygments_lexer": "ipython3",
   "version": "3.7.8"
  }
 },
 "nbformat": 4,
 "nbformat_minor": 4
}
