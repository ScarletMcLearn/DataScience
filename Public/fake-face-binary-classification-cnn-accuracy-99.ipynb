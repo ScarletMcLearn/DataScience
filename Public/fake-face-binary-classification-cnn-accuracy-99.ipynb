{
 "cells": [
  {
   "cell_type": "code",
   "execution_count": 1,
   "id": "4bcabbc4",
   "metadata": {
    "execution": {
     "iopub.execute_input": "2024-10-28T17:39:39.571459Z",
     "iopub.status.busy": "2024-10-28T17:39:39.566450Z",
     "iopub.status.idle": "2024-10-28T17:39:48.235059Z",
     "shell.execute_reply": "2024-10-28T17:39:48.234038Z",
     "shell.execute_reply.started": "2022-03-15T02:02:41.003253Z"
    },
    "papermill": {
     "duration": 8.702902,
     "end_time": "2024-10-28T17:39:48.235290",
     "exception": false,
     "start_time": "2024-10-28T17:39:39.532388",
     "status": "completed"
    },
    "tags": []
   },
   "outputs": [],
   "source": [
    "import pandas as pd\n",
    "import numpy as np\n",
    "import matplotlib.pyplot as plot\n",
    "import seaborn as sb\n",
    "from tensorflow.keras.preprocessing.image import load_img, img_to_array"
   ]
  },
  {
   "cell_type": "code",
   "execution_count": 2,
   "id": "7b95ad39",
   "metadata": {
    "execution": {
     "iopub.execute_input": "2024-10-28T17:39:48.281451Z",
     "iopub.status.busy": "2024-10-28T17:39:48.280382Z",
     "iopub.status.idle": "2024-10-28T17:39:48.315584Z",
     "shell.execute_reply": "2024-10-28T17:39:48.316287Z",
     "shell.execute_reply.started": "2022-03-15T02:03:17.464641Z"
    },
    "papermill": {
     "duration": 0.061048,
     "end_time": "2024-10-28T17:39:48.316504",
     "exception": false,
     "start_time": "2024-10-28T17:39:48.255456",
     "status": "completed"
    },
    "tags": []
   },
   "outputs": [
    {
     "data": {
      "text/html": [
       "<div>\n",
       "<style scoped>\n",
       "    .dataframe tbody tr th:only-of-type {\n",
       "        vertical-align: middle;\n",
       "    }\n",
       "\n",
       "    .dataframe tbody tr th {\n",
       "        vertical-align: top;\n",
       "    }\n",
       "\n",
       "    .dataframe thead th {\n",
       "        text-align: right;\n",
       "    }\n",
       "</style>\n",
       "<table border=\"1\" class=\"dataframe\">\n",
       "  <thead>\n",
       "    <tr style=\"text-align: right;\">\n",
       "      <th></th>\n",
       "      <th>images_id</th>\n",
       "      <th>label</th>\n",
       "    </tr>\n",
       "  </thead>\n",
       "  <tbody>\n",
       "    <tr>\n",
       "      <th>0</th>\n",
       "      <td>real_1</td>\n",
       "      <td>real</td>\n",
       "    </tr>\n",
       "    <tr>\n",
       "      <th>1</th>\n",
       "      <td>real_10</td>\n",
       "      <td>real</td>\n",
       "    </tr>\n",
       "    <tr>\n",
       "      <th>2</th>\n",
       "      <td>real_100</td>\n",
       "      <td>real</td>\n",
       "    </tr>\n",
       "    <tr>\n",
       "      <th>3</th>\n",
       "      <td>real_101</td>\n",
       "      <td>real</td>\n",
       "    </tr>\n",
       "    <tr>\n",
       "      <th>4</th>\n",
       "      <td>real_102</td>\n",
       "      <td>real</td>\n",
       "    </tr>\n",
       "  </tbody>\n",
       "</table>\n",
       "</div>"
      ],
      "text/plain": [
       "  images_id label\n",
       "0    real_1  real\n",
       "1   real_10  real\n",
       "2  real_100  real\n",
       "3  real_101  real\n",
       "4  real_102  real"
      ]
     },
     "execution_count": 2,
     "metadata": {},
     "output_type": "execute_result"
    }
   ],
   "source": [
    "data=pd.read_csv(r\"../input/hardfakevsrealfaces/data.csv\")\n",
    "data.head()"
   ]
  },
  {
   "cell_type": "code",
   "execution_count": 3,
   "id": "2288ad68",
   "metadata": {
    "execution": {
     "iopub.execute_input": "2024-10-28T17:39:48.375727Z",
     "iopub.status.busy": "2024-10-28T17:39:48.372472Z",
     "iopub.status.idle": "2024-10-28T17:39:56.369482Z",
     "shell.execute_reply": "2024-10-28T17:39:56.368588Z",
     "shell.execute_reply.started": "2022-03-15T02:08:07.883318Z"
    },
    "papermill": {
     "duration": 8.032515,
     "end_time": "2024-10-28T17:39:56.369667",
     "exception": false,
     "start_time": "2024-10-28T17:39:48.337152",
     "status": "completed"
    },
    "tags": []
   },
   "outputs": [
    {
     "data": {
      "text/plain": [
       "(1289, 128, 128, 3)"
      ]
     },
     "execution_count": 3,
     "metadata": {},
     "output_type": "execute_result"
    }
   ],
   "source": [
    "height, width=128, 128\n",
    "X=np.empty((data.shape[0], height, width, 3))\n",
    "for i in range(data.shape[0]):\n",
    "    img=load_img(r\"../input/hardfakevsrealfaces/{}/{}.jpg\".format(data.loc[i, 'label'], \\\n",
    "                  data.loc[i, 'images_id']), target_size=(height, width))\n",
    "    X[i]=img_to_array(img)\n",
    "X.shape"
   ]
  },
  {
   "cell_type": "code",
   "execution_count": 4,
   "id": "7fddb6ff",
   "metadata": {
    "execution": {
     "iopub.execute_input": "2024-10-28T17:39:56.426126Z",
     "iopub.status.busy": "2024-10-28T17:39:56.424982Z",
     "iopub.status.idle": "2024-10-28T17:39:56.429092Z",
     "shell.execute_reply": "2024-10-28T17:39:56.429762Z",
     "shell.execute_reply.started": "2022-03-15T02:11:19.644557Z"
    },
    "papermill": {
     "duration": 0.038877,
     "end_time": "2024-10-28T17:39:56.429982",
     "exception": false,
     "start_time": "2024-10-28T17:39:56.391105",
     "status": "completed"
    },
    "tags": []
   },
   "outputs": [
    {
     "data": {
      "text/plain": [
       "0    0\n",
       "1    0\n",
       "2    0\n",
       "3    0\n",
       "4    0\n",
       "Name: label, dtype: int64"
      ]
     },
     "execution_count": 4,
     "metadata": {},
     "output_type": "execute_result"
    }
   ],
   "source": [
    "def changeLabels(x):\n",
    "    return labels[x]\n",
    "\n",
    "labels=data.label.unique()\n",
    "labels={labels[i]:i for i in range(labels.size)}\n",
    "y=data.label.apply(changeLabels)\n",
    "y[:5]"
   ]
  },
  {
   "cell_type": "code",
   "execution_count": 5,
   "id": "d13403ec",
   "metadata": {
    "execution": {
     "iopub.execute_input": "2024-10-28T17:39:56.479367Z",
     "iopub.status.busy": "2024-10-28T17:39:56.478198Z",
     "iopub.status.idle": "2024-10-28T17:39:56.482464Z",
     "shell.execute_reply": "2024-10-28T17:39:56.481442Z",
     "shell.execute_reply.started": "2022-03-15T02:18:21.626932Z"
    },
    "papermill": {
     "duration": 0.03158,
     "end_time": "2024-10-28T17:39:56.482669",
     "exception": false,
     "start_time": "2024-10-28T17:39:56.451089",
     "status": "completed"
    },
    "tags": []
   },
   "outputs": [],
   "source": [
    "from tensorflow.keras.utils import to_categorical"
   ]
  },
  {
   "cell_type": "code",
   "execution_count": 6,
   "id": "db1057e0",
   "metadata": {
    "execution": {
     "iopub.execute_input": "2024-10-28T17:39:56.534796Z",
     "iopub.status.busy": "2024-10-28T17:39:56.533609Z",
     "iopub.status.idle": "2024-10-28T17:39:56.537713Z",
     "shell.execute_reply": "2024-10-28T17:39:56.538335Z",
     "shell.execute_reply.started": "2022-03-15T02:18:21.943329Z"
    },
    "papermill": {
     "duration": 0.034522,
     "end_time": "2024-10-28T17:39:56.538549",
     "exception": false,
     "start_time": "2024-10-28T17:39:56.504027",
     "status": "completed"
    },
    "tags": []
   },
   "outputs": [
    {
     "data": {
      "text/plain": [
       "array([[1, 0],\n",
       "       [1, 0],\n",
       "       [1, 0],\n",
       "       [1, 0],\n",
       "       [1, 0]])"
      ]
     },
     "execution_count": 6,
     "metadata": {},
     "output_type": "execute_result"
    }
   ],
   "source": [
    "y=to_categorical(y, len(labels))\n",
    "y=y.astype(int)\n",
    "y[:5]"
   ]
  },
  {
   "cell_type": "code",
   "execution_count": 7,
   "id": "2cf18e0c",
   "metadata": {
    "execution": {
     "iopub.execute_input": "2024-10-28T17:39:56.588343Z",
     "iopub.status.busy": "2024-10-28T17:39:56.587293Z",
     "iopub.status.idle": "2024-10-28T17:39:56.819513Z",
     "shell.execute_reply": "2024-10-28T17:39:56.818643Z",
     "shell.execute_reply.started": "2022-03-15T02:18:23.008878Z"
    },
    "papermill": {
     "duration": 0.259578,
     "end_time": "2024-10-28T17:39:56.819737",
     "exception": false,
     "start_time": "2024-10-28T17:39:56.560159",
     "status": "completed"
    },
    "tags": []
   },
   "outputs": [],
   "source": [
    "from sklearn.model_selection import train_test_split"
   ]
  },
  {
   "cell_type": "code",
   "execution_count": 8,
   "id": "c0095d2f",
   "metadata": {
    "execution": {
     "iopub.execute_input": "2024-10-28T17:39:56.873081Z",
     "iopub.status.busy": "2024-10-28T17:39:56.872230Z",
     "iopub.status.idle": "2024-10-28T17:39:57.089937Z",
     "shell.execute_reply": "2024-10-28T17:39:57.089194Z",
     "shell.execute_reply.started": "2022-03-15T02:18:23.349216Z"
    },
    "papermill": {
     "duration": 0.24736,
     "end_time": "2024-10-28T17:39:57.090111",
     "exception": false,
     "start_time": "2024-10-28T17:39:56.842751",
     "status": "completed"
    },
    "tags": []
   },
   "outputs": [
    {
     "data": {
      "text/plain": [
       "((1031, 128, 128, 3), (1031, 2))"
      ]
     },
     "execution_count": 8,
     "metadata": {},
     "output_type": "execute_result"
    }
   ],
   "source": [
    "X_train, X_test, y_train, y_test=train_test_split(X, y, test_size=0.2, random_state=8)\n",
    "X_train.shape, y_train.shape"
   ]
  },
  {
   "cell_type": "code",
   "execution_count": 9,
   "id": "e06b547a",
   "metadata": {
    "execution": {
     "iopub.execute_input": "2024-10-28T17:39:57.142990Z",
     "iopub.status.busy": "2024-10-28T17:39:57.141854Z",
     "iopub.status.idle": "2024-10-28T17:39:57.146607Z",
     "shell.execute_reply": "2024-10-28T17:39:57.145900Z",
     "shell.execute_reply.started": "2022-03-15T02:15:45.745265Z"
    },
    "papermill": {
     "duration": 0.034659,
     "end_time": "2024-10-28T17:39:57.146796",
     "exception": false,
     "start_time": "2024-10-28T17:39:57.112137",
     "status": "completed"
    },
    "tags": []
   },
   "outputs": [],
   "source": [
    "from tensorflow.keras.models import Sequential\n",
    "from tensorflow.keras.optimizers import SGD\n",
    "from tensorflow.keras.layers import Dense, Conv2D, Flatten, MaxPooling2D, Dropout"
   ]
  },
  {
   "cell_type": "code",
   "execution_count": 10,
   "id": "a1184d04",
   "metadata": {
    "execution": {
     "iopub.execute_input": "2024-10-28T17:39:57.201243Z",
     "iopub.status.busy": "2024-10-28T17:39:57.200305Z",
     "iopub.status.idle": "2024-10-28T17:39:57.387261Z",
     "shell.execute_reply": "2024-10-28T17:39:57.386585Z",
     "shell.execute_reply.started": "2022-03-15T02:28:01.027129Z"
    },
    "papermill": {
     "duration": 0.218795,
     "end_time": "2024-10-28T17:39:57.387439",
     "exception": false,
     "start_time": "2024-10-28T17:39:57.168644",
     "status": "completed"
    },
    "tags": []
   },
   "outputs": [],
   "source": [
    "model=Sequential()\n",
    "model.add(Conv2D(64, kernel_size=3, activation='relu', input_shape=(height, width, 3)))\n",
    "model.add(MaxPooling2D(pool_size=(3, 3)))\n",
    "model.add(Conv2D(32, kernel_size=3, activation='relu'))\n",
    "model.add(MaxPooling2D(pool_size=(3, 3)))\n",
    "model.add(Conv2D(32, kernel_size=3, activation='relu'))\n",
    "model.add(MaxPooling2D(pool_size=(3, 3)))\n",
    "model.add(Flatten())\n",
    "model.add(Dense(64, activation='relu'))\n",
    "model.add(Dropout(0.45))\n",
    "model.add(Dense(2, activation='softmax'))"
   ]
  },
  {
   "cell_type": "code",
   "execution_count": 11,
   "id": "c247e136",
   "metadata": {
    "execution": {
     "iopub.execute_input": "2024-10-28T17:39:57.444392Z",
     "iopub.status.busy": "2024-10-28T17:39:57.443570Z",
     "iopub.status.idle": "2024-10-28T17:40:40.879016Z",
     "shell.execute_reply": "2024-10-28T17:40:40.878339Z",
     "shell.execute_reply.started": "2022-03-15T02:28:01.443364Z"
    },
    "papermill": {
     "duration": 43.465843,
     "end_time": "2024-10-28T17:40:40.879205",
     "exception": false,
     "start_time": "2024-10-28T17:39:57.413362",
     "status": "completed"
    },
    "tags": []
   },
   "outputs": [
    {
     "name": "stdout",
     "output_type": "stream",
     "text": [
      "Epoch 1/8\n",
      "26/26 [==============================] - 7s 215ms/step - loss: 4.1298 - accuracy: 0.5959 - val_loss: 0.4716 - val_accuracy: 0.7585\n",
      "Epoch 2/8\n",
      "26/26 [==============================] - 5s 192ms/step - loss: 0.5333 - accuracy: 0.7464 - val_loss: 0.3346 - val_accuracy: 0.8889\n",
      "Epoch 3/8\n",
      "26/26 [==============================] - 5s 194ms/step - loss: 0.3369 - accuracy: 0.8629 - val_loss: 0.1801 - val_accuracy: 0.9420\n",
      "Epoch 4/8\n",
      "26/26 [==============================] - 5s 192ms/step - loss: 0.1850 - accuracy: 0.9333 - val_loss: 0.1177 - val_accuracy: 0.9614\n",
      "Epoch 5/8\n",
      "26/26 [==============================] - 6s 242ms/step - loss: 0.1233 - accuracy: 0.9733 - val_loss: 0.0664 - val_accuracy: 0.9807\n",
      "Epoch 6/8\n",
      "26/26 [==============================] - 5s 196ms/step - loss: 0.0905 - accuracy: 0.9684 - val_loss: 0.0580 - val_accuracy: 0.9710\n",
      "Epoch 7/8\n",
      "26/26 [==============================] - 5s 197ms/step - loss: 0.0531 - accuracy: 0.9806 - val_loss: 0.0531 - val_accuracy: 0.9855\n",
      "Epoch 8/8\n",
      "26/26 [==============================] - 5s 192ms/step - loss: 0.0535 - accuracy: 0.9830 - val_loss: 0.0412 - val_accuracy: 0.9807\n",
      "Model: \"sequential\"\n",
      "_________________________________________________________________\n",
      "Layer (type)                 Output Shape              Param #   \n",
      "=================================================================\n",
      "conv2d (Conv2D)              (None, 126, 126, 64)      1792      \n",
      "_________________________________________________________________\n",
      "max_pooling2d (MaxPooling2D) (None, 42, 42, 64)        0         \n",
      "_________________________________________________________________\n",
      "conv2d_1 (Conv2D)            (None, 40, 40, 32)        18464     \n",
      "_________________________________________________________________\n",
      "max_pooling2d_1 (MaxPooling2 (None, 13, 13, 32)        0         \n",
      "_________________________________________________________________\n",
      "conv2d_2 (Conv2D)            (None, 11, 11, 32)        9248      \n",
      "_________________________________________________________________\n",
      "max_pooling2d_2 (MaxPooling2 (None, 3, 3, 32)          0         \n",
      "_________________________________________________________________\n",
      "flatten (Flatten)            (None, 288)               0         \n",
      "_________________________________________________________________\n",
      "dense (Dense)                (None, 64)                18496     \n",
      "_________________________________________________________________\n",
      "dropout (Dropout)            (None, 64)                0         \n",
      "_________________________________________________________________\n",
      "dense_1 (Dense)              (None, 2)                 130       \n",
      "=================================================================\n",
      "Total params: 48,130\n",
      "Trainable params: 48,130\n",
      "Non-trainable params: 0\n",
      "_________________________________________________________________\n"
     ]
    }
   ],
   "source": [
    "epochs=8\n",
    "model.compile(loss='categorical_crossentropy', optimizer=\"adam\", metrics=['accuracy'])\n",
    "stats=model.fit(X_train, y_train, epochs=epochs, validation_split=0.2)\n",
    "model.summary()"
   ]
  },
  {
   "cell_type": "code",
   "execution_count": 12,
   "id": "9123ebbd",
   "metadata": {
    "execution": {
     "iopub.execute_input": "2024-10-28T17:40:41.153553Z",
     "iopub.status.busy": "2024-10-28T17:40:41.152626Z",
     "iopub.status.idle": "2024-10-28T17:40:41.565602Z",
     "shell.execute_reply": "2024-10-28T17:40:41.564779Z",
     "shell.execute_reply.started": "2022-03-15T02:28:41.294257Z"
    },
    "papermill": {
     "duration": 0.564159,
     "end_time": "2024-10-28T17:40:41.565793",
     "exception": false,
     "start_time": "2024-10-28T17:40:41.001634",
     "status": "completed"
    },
    "tags": []
   },
   "outputs": [
    {
     "data": {
      "text/plain": [
       "Text(0.5, 1.0, 'Training and validation loss')"
      ]
     },
     "execution_count": 12,
     "metadata": {},
     "output_type": "execute_result"
    },
    {
     "data": {
      "image/png": "[encoded data removed]",
      "text/plain": [
       "<Figure size 720x576 with 1 Axes>"
      ]
     },
     "metadata": {
      "needs_background": "light"
     },
     "output_type": "display_data"
    }
   ],
   "source": [
    "stats_df=pd.DataFrame(stats.history)\n",
    "stats_df['epoch']=list(range(1, epochs+1))\n",
    "plot.figure(figsize=(10, 8))\n",
    "sb.lineplot(y='loss', x='epoch', data=stats_df, color='deeppink', linewidth=2.5, label=\"Training loss\")\n",
    "sb.lineplot(y='val_loss', x='epoch', data=stats_df, color='darkturquoise', linewidth=2.5, label=\"Validation loss\")\n",
    "plot.grid()\n",
    "plot.legend()\n",
    "plot.title(\"Training and validation loss\")"
   ]
  },
  {
   "cell_type": "code",
   "execution_count": 13,
   "id": "5ff28832",
   "metadata": {
    "execution": {
     "iopub.execute_input": "2024-10-28T17:40:41.854571Z",
     "iopub.status.busy": "2024-10-28T17:40:41.853224Z",
     "iopub.status.idle": "2024-10-28T17:40:42.173457Z",
     "shell.execute_reply": "2024-10-28T17:40:42.174086Z",
     "shell.execute_reply.started": "2022-03-15T02:28:41.562921Z"
    },
    "papermill": {
     "duration": 0.483438,
     "end_time": "2024-10-28T17:40:42.174290",
     "exception": false,
     "start_time": "2024-10-28T17:40:41.690852",
     "status": "completed"
    },
    "tags": []
   },
   "outputs": [
    {
     "data": {
      "text/plain": [
       "Text(0.5, 1.0, 'Training and validation accuracy')"
      ]
     },
     "execution_count": 13,
     "metadata": {},
     "output_type": "execute_result"
    },
    {
     "data": {
      "image/png": "[encoded data removed]",
      "text/plain": [
       "<Figure size 720x576 with 1 Axes>"
      ]
     },
     "metadata": {
      "needs_background": "light"
     },
     "output_type": "display_data"
    }
   ],
   "source": [
    "stats_df=pd.DataFrame(stats.history)\n",
    "stats_df['epoch']=list(range(1, epochs+1))\n",
    "plot.figure(figsize=(10, 8))\n",
    "sb.lineplot(y='accuracy', x='epoch', data=stats_df, color='deeppink', linewidth=2.5, label=\"Training accuracy\")\n",
    "sb.lineplot(y='val_accuracy', x='epoch', data=stats_df, color='darkturquoise', linewidth=2.5, \\\n",
    "            label=\"Validation accuracy\")\n",
    "plot.grid()\n",
    "plot.legend()\n",
    "plot.title(\"Training and validation accuracy\")"
   ]
  },
  {
   "cell_type": "code",
   "execution_count": 14,
   "id": "17f39f97",
   "metadata": {
    "execution": {
     "iopub.execute_input": "2024-10-28T17:40:42.438655Z",
     "iopub.status.busy": "2024-10-28T17:40:42.437054Z",
     "iopub.status.idle": "2024-10-28T17:40:42.920670Z",
     "shell.execute_reply": "2024-10-28T17:40:42.920035Z",
     "shell.execute_reply.started": "2022-03-15T02:28:41.845034Z"
    },
    "papermill": {
     "duration": 0.618157,
     "end_time": "2024-10-28T17:40:42.920877",
     "exception": false,
     "start_time": "2024-10-28T17:40:42.302720",
     "status": "completed"
    },
    "tags": []
   },
   "outputs": [
    {
     "name": "stdout",
     "output_type": "stream",
     "text": [
      "Accuracy:\n",
      "9/9 [==============================] - 0s 41ms/step - loss: 0.0647 - accuracy: 0.9690\n"
     ]
    }
   ],
   "source": [
    "print('Accuracy:')\n",
    "_, accuracy=model.evaluate(X_test, y_test)"
   ]
  }
 ],
 "metadata": {
  "kaggle": {
   "accelerator": "none",
   "dataSources": [
    {
     "datasetId": 1913588,
     "sourceId": 3142794,
     "sourceType": "datasetVersion"
    }
   ],
   "dockerImageVersionId": 30170,
   "isGpuEnabled": false,
   "isInternetEnabled": true,
   "language": "python",
   "sourceType": "notebook"
  },
  "kernelspec": {
   "display_name": "Python 3",
   "language": "python",
   "name": "python3"
  },
  "language_info": {
   "codemirror_mode": {
    "name": "ipython",
    "version": 3
   },
   "file_extension": ".py",
   "mimetype": "text/x-python",
   "name": "python",
   "nbconvert_exporter": "python",
   "pygments_lexer": "ipython3",
   "version": "3.7.12"
  },
  "papermill": {
   "default_parameters": {},
   "duration": 80.070879,
   "end_time": "2024-10-28T17:40:46.445210",
   "environment_variables": {},
   "exception": null,
   "input_path": "__notebook__.ipynb",
   "output_path": "__notebook__.ipynb",
   "parameters": {},
   "start_time": "2024-10-28T17:39:26.374331",
   "version": "2.3.3"
  }
 },
 "nbformat": 4,
 "nbformat_minor": 5
}
