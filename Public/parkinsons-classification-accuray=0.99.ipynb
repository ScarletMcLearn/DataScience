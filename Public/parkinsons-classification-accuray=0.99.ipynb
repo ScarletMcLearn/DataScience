{
 "cells": [
  {
   "cell_type": "markdown",
   "id": "f9b7c9af",
   "metadata": {
    "id": "MgA-gEuDkQg2",
    "papermill": {
     "duration": 0.020456,
     "end_time": "2022-12-04T05:45:08.293038",
     "exception": false,
     "start_time": "2022-12-04T05:45:08.272582",
     "status": "completed"
    },
    "tags": []
   },
   "source": [
    "#Parkinsons Disease Classification\n",
    "\n",
    "---\n",
    "\n"
   ]
  },
  {
   "cell_type": "markdown",
   "id": "06376553",
   "metadata": {
    "id": "c9wx1fLHmeDM",
    "papermill": {
     "duration": 0.014204,
     "end_time": "2022-12-04T05:45:08.321784",
     "exception": false,
     "start_time": "2022-12-04T05:45:08.307580",
     "status": "completed"
    },
    "tags": []
   },
   "source": [
    "# Business Problem:"
   ]
  },
  {
   "cell_type": "markdown",
   "id": "032daabb",
   "metadata": {
    "id": "IKQhwsWHmf6A",
    "papermill": {
     "duration": 0.014308,
     "end_time": "2022-12-04T05:45:08.352158",
     "exception": false,
     "start_time": "2022-12-04T05:45:08.337850",
     "status": "completed"
    },
    "tags": []
   },
   "source": [
    "Classifying Patients for Parkinsons Disease based on 23 different features"
   ]
  },
  {
   "cell_type": "code",
   "execution_count": 1,
   "id": "ce5e1edb",
   "metadata": {
    "execution": {
     "iopub.execute_input": "2022-12-04T05:45:08.383798Z",
     "iopub.status.busy": "2022-12-04T05:45:08.383201Z",
     "iopub.status.idle": "2022-12-04T05:45:08.390676Z",
     "shell.execute_reply": "2022-12-04T05:45:08.389498Z"
    },
    "id": "xuw_hkZsjCVl",
    "papermill": {
     "duration": 0.02691,
     "end_time": "2022-12-04T05:45:08.393630",
     "exception": false,
     "start_time": "2022-12-04T05:45:08.366720",
     "status": "completed"
    },
    "tags": []
   },
   "outputs": [],
   "source": [
    "#pip install streamlit"
   ]
  },
  {
   "cell_type": "markdown",
   "id": "f863c40e",
   "metadata": {
    "id": "TKe-jbJykV-G",
    "papermill": {
     "duration": 0.014773,
     "end_time": "2022-12-04T05:45:08.423339",
     "exception": false,
     "start_time": "2022-12-04T05:45:08.408566",
     "status": "completed"
    },
    "tags": []
   },
   "source": [
    "##Import Libraries"
   ]
  },
  {
   "cell_type": "code",
   "execution_count": 2,
   "id": "3eed46e0",
   "metadata": {
    "execution": {
     "iopub.execute_input": "2022-12-04T05:45:08.455066Z",
     "iopub.status.busy": "2022-12-04T05:45:08.454667Z",
     "iopub.status.idle": "2022-12-04T05:45:10.146800Z",
     "shell.execute_reply": "2022-12-04T05:45:10.145485Z"
    },
    "id": "laNrELRPAqoZ",
    "papermill": {
     "duration": 1.711159,
     "end_time": "2022-12-04T05:45:10.149600",
     "exception": false,
     "start_time": "2022-12-04T05:45:08.438441",
     "status": "completed"
    },
    "tags": []
   },
   "outputs": [],
   "source": [
    "import pandas as pd\n",
    "import numpy as np\n",
    "from time import time\n",
    "import matplotlib.pyplot as plt\n",
    "import seaborn as sns\n",
    "from imblearn.over_sampling import RandomOverSampler\n",
    "from imblearn.under_sampling import TomekLinks \n",
    "from imblearn.under_sampling import RandomUnderSampler\n",
    "from collections import Counter\n",
    "from imblearn.over_sampling import SMOTE\n",
    "from sklearn import preprocessing\n",
    "from sklearn.model_selection import train_test_split\n",
    "from sklearn.ensemble import RandomForestClassifier\n",
    "from sklearn.tree import DecisionTreeClassifier\n",
    "from sklearn.ensemble import AdaBoostClassifier\n",
    "from sklearn.linear_model import LogisticRegression\n",
    "from sklearn.naive_bayes import GaussianNB\n",
    "from sklearn.model_selection import GridSearchCV\n",
    "from sklearn.metrics import fbeta_score, make_scorer\n",
    "from pathlib import Path\n",
    "from sklearn.metrics import confusion_matrix\n",
    "import seaborn as sns"
   ]
  },
  {
   "cell_type": "code",
   "execution_count": 3,
   "id": "9d70e477",
   "metadata": {
    "execution": {
     "iopub.execute_input": "2022-12-04T05:45:10.180722Z",
     "iopub.status.busy": "2022-12-04T05:45:10.180058Z",
     "iopub.status.idle": "2022-12-04T05:45:10.184504Z",
     "shell.execute_reply": "2022-12-04T05:45:10.183510Z"
    },
    "id": "8fAeWfVSjdig",
    "papermill": {
     "duration": 0.022704,
     "end_time": "2022-12-04T05:45:10.186802",
     "exception": false,
     "start_time": "2022-12-04T05:45:10.164098",
     "status": "completed"
    },
    "tags": []
   },
   "outputs": [],
   "source": [
    "#st.title('Parkinsons Disease Classification')"
   ]
  },
  {
   "cell_type": "markdown",
   "id": "c326739b",
   "metadata": {
    "id": "ksB0YZkGkZQq",
    "papermill": {
     "duration": 0.014621,
     "end_time": "2022-12-04T05:45:10.215712",
     "exception": false,
     "start_time": "2022-12-04T05:45:10.201091",
     "status": "completed"
    },
    "tags": []
   },
   "source": [
    "###Import CSV file from Repository"
   ]
  },
  {
   "cell_type": "code",
   "execution_count": 4,
   "id": "13395856",
   "metadata": {
    "execution": {
     "iopub.execute_input": "2022-12-04T05:45:10.252537Z",
     "iopub.status.busy": "2022-12-04T05:45:10.252098Z",
     "iopub.status.idle": "2022-12-04T05:45:12.272251Z",
     "shell.execute_reply": "2022-12-04T05:45:12.270784Z"
    },
    "id": "KPoiTO4Fq0f1",
    "papermill": {
     "duration": 2.043167,
     "end_time": "2022-12-04T05:45:12.274938",
     "exception": false,
     "start_time": "2022-12-04T05:45:10.231771",
     "status": "completed"
    },
    "tags": []
   },
   "outputs": [
    {
     "name": "stdout",
     "output_type": "stream",
     "text": [
      "--2022-12-04 05:45:11--  https://github.com/Bahaakhalled/Parkinsons-Disease-Classification/raw/main/Parkinsson%20disease.csv\r\n",
      "Resolving github.com (github.com)... 140.82.113.3\r\n",
      "Connecting to github.com (github.com)|140.82.113.3|:443... connected.\r\n",
      "HTTP request sent, awaiting response... 302 Found\r\n",
      "Location: https://raw.githubusercontent.com/Bahaakhalled/Parkinsons-Disease-Classification/main/Parkinsson%20disease.csv [following]\r\n",
      "--2022-12-04 05:45:11--  https://raw.githubusercontent.com/Bahaakhalled/Parkinsons-Disease-Classification/main/Parkinsson%20disease.csv\r\n",
      "Resolving raw.githubusercontent.com (raw.githubusercontent.com)... 185.199.111.133, 185.199.108.133, 185.199.109.133, ...\r\n",
      "Connecting to raw.githubusercontent.com (raw.githubusercontent.com)|185.199.111.133|:443... connected.\r\n",
      "HTTP request sent, awaiting response... 200 OK\r\n",
      "Length: 38273 (37K) [text/plain]\r\n",
      "Saving to: ‘Parkinsson disease.csv’\r\n",
      "\r\n",
      "Parkinsson disease. 100%[===================>]  37.38K  --.-KB/s    in 0.001s  \r\n",
      "\r\n",
      "2022-12-04 05:45:12 (28.6 MB/s) - ‘Parkinsson disease.csv’ saved [38273/38273]\r\n",
      "\r\n"
     ]
    }
   ],
   "source": [
    "my_file = Path(\"Parkinsson disease.csv\")\n",
    "if my_file.is_file()==False:\n",
    "  !wget 'https://github.com/Bahaakhalled/Parkinsons-Disease-Classification/raw/main/Parkinsson%20disease.csv'"
   ]
  },
  {
   "cell_type": "code",
   "execution_count": 5,
   "id": "8ba61581",
   "metadata": {
    "execution": {
     "iopub.execute_input": "2022-12-04T05:45:12.307208Z",
     "iopub.status.busy": "2022-12-04T05:45:12.306743Z",
     "iopub.status.idle": "2022-12-04T05:45:12.362959Z",
     "shell.execute_reply": "2022-12-04T05:45:12.361800Z"
    },
    "id": "YfZrZmg4Ayqi",
    "outputId": "57a9275f-27d4-4ed7-ed1f-d6096390d528",
    "papermill": {
     "duration": 0.075495,
     "end_time": "2022-12-04T05:45:12.365490",
     "exception": false,
     "start_time": "2022-12-04T05:45:12.289995",
     "status": "completed"
    },
    "tags": []
   },
   "outputs": [
    {
     "data": {
      "text/html": [
       "<div>\n",
       "<style scoped>\n",
       "    .dataframe tbody tr th:only-of-type {\n",
       "        vertical-align: middle;\n",
       "    }\n",
       "\n",
       "    .dataframe tbody tr th {\n",
       "        vertical-align: top;\n",
       "    }\n",
       "\n",
       "    .dataframe thead th {\n",
       "        text-align: right;\n",
       "    }\n",
       "</style>\n",
       "<table border=\"1\" class=\"dataframe\">\n",
       "  <thead>\n",
       "    <tr style=\"text-align: right;\">\n",
       "      <th></th>\n",
       "      <th>name</th>\n",
       "      <th>MDVP:Fo(Hz)</th>\n",
       "      <th>MDVP:Fhi(Hz)</th>\n",
       "      <th>MDVP:Flo(Hz)</th>\n",
       "      <th>MDVP:Jitter(%)</th>\n",
       "      <th>MDVP:Jitter(Abs)</th>\n",
       "      <th>MDVP:RAP</th>\n",
       "      <th>MDVP:PPQ</th>\n",
       "      <th>Jitter:DDP</th>\n",
       "      <th>MDVP:Shimmer</th>\n",
       "      <th>...</th>\n",
       "      <th>Shimmer:DDA</th>\n",
       "      <th>NHR</th>\n",
       "      <th>HNR</th>\n",
       "      <th>status</th>\n",
       "      <th>RPDE</th>\n",
       "      <th>DFA</th>\n",
       "      <th>spread1</th>\n",
       "      <th>spread2</th>\n",
       "      <th>D2</th>\n",
       "      <th>PPE</th>\n",
       "    </tr>\n",
       "  </thead>\n",
       "  <tbody>\n",
       "    <tr>\n",
       "      <th>0</th>\n",
       "      <td>phon_R01_S01_1</td>\n",
       "      <td>119.992</td>\n",
       "      <td>157.302</td>\n",
       "      <td>74.997</td>\n",
       "      <td>0.00784</td>\n",
       "      <td>0.00007</td>\n",
       "      <td>0.00370</td>\n",
       "      <td>0.00554</td>\n",
       "      <td>0.01109</td>\n",
       "      <td>0.04374</td>\n",
       "      <td>...</td>\n",
       "      <td>0.06545</td>\n",
       "      <td>0.02211</td>\n",
       "      <td>21.033</td>\n",
       "      <td>1</td>\n",
       "      <td>0.414783</td>\n",
       "      <td>0.815285</td>\n",
       "      <td>-4.813031</td>\n",
       "      <td>0.266482</td>\n",
       "      <td>2.301442</td>\n",
       "      <td>0.284654</td>\n",
       "    </tr>\n",
       "    <tr>\n",
       "      <th>1</th>\n",
       "      <td>phon_R01_S01_2</td>\n",
       "      <td>122.400</td>\n",
       "      <td>148.650</td>\n",
       "      <td>113.819</td>\n",
       "      <td>0.00968</td>\n",
       "      <td>0.00008</td>\n",
       "      <td>0.00465</td>\n",
       "      <td>0.00696</td>\n",
       "      <td>0.01394</td>\n",
       "      <td>0.06134</td>\n",
       "      <td>...</td>\n",
       "      <td>0.09403</td>\n",
       "      <td>0.01929</td>\n",
       "      <td>19.085</td>\n",
       "      <td>1</td>\n",
       "      <td>0.458359</td>\n",
       "      <td>0.819521</td>\n",
       "      <td>-4.075192</td>\n",
       "      <td>0.335590</td>\n",
       "      <td>2.486855</td>\n",
       "      <td>0.368674</td>\n",
       "    </tr>\n",
       "    <tr>\n",
       "      <th>2</th>\n",
       "      <td>phon_R01_S01_3</td>\n",
       "      <td>116.682</td>\n",
       "      <td>131.111</td>\n",
       "      <td>111.555</td>\n",
       "      <td>0.01050</td>\n",
       "      <td>0.00009</td>\n",
       "      <td>0.00544</td>\n",
       "      <td>0.00781</td>\n",
       "      <td>0.01633</td>\n",
       "      <td>0.05233</td>\n",
       "      <td>...</td>\n",
       "      <td>0.08270</td>\n",
       "      <td>0.01309</td>\n",
       "      <td>20.651</td>\n",
       "      <td>1</td>\n",
       "      <td>0.429895</td>\n",
       "      <td>0.825288</td>\n",
       "      <td>-4.443179</td>\n",
       "      <td>0.311173</td>\n",
       "      <td>2.342259</td>\n",
       "      <td>0.332634</td>\n",
       "    </tr>\n",
       "    <tr>\n",
       "      <th>3</th>\n",
       "      <td>phon_R01_S01_4</td>\n",
       "      <td>116.676</td>\n",
       "      <td>137.871</td>\n",
       "      <td>111.366</td>\n",
       "      <td>0.00997</td>\n",
       "      <td>0.00009</td>\n",
       "      <td>0.00502</td>\n",
       "      <td>0.00698</td>\n",
       "      <td>0.01505</td>\n",
       "      <td>0.05492</td>\n",
       "      <td>...</td>\n",
       "      <td>0.08771</td>\n",
       "      <td>0.01353</td>\n",
       "      <td>20.644</td>\n",
       "      <td>1</td>\n",
       "      <td>0.434969</td>\n",
       "      <td>0.819235</td>\n",
       "      <td>-4.117501</td>\n",
       "      <td>0.334147</td>\n",
       "      <td>2.405554</td>\n",
       "      <td>0.368975</td>\n",
       "    </tr>\n",
       "    <tr>\n",
       "      <th>4</th>\n",
       "      <td>phon_R01_S01_5</td>\n",
       "      <td>116.014</td>\n",
       "      <td>141.781</td>\n",
       "      <td>110.655</td>\n",
       "      <td>0.01284</td>\n",
       "      <td>0.00011</td>\n",
       "      <td>0.00655</td>\n",
       "      <td>0.00908</td>\n",
       "      <td>0.01966</td>\n",
       "      <td>0.06425</td>\n",
       "      <td>...</td>\n",
       "      <td>0.10470</td>\n",
       "      <td>0.01767</td>\n",
       "      <td>19.649</td>\n",
       "      <td>1</td>\n",
       "      <td>0.417356</td>\n",
       "      <td>0.823484</td>\n",
       "      <td>-3.747787</td>\n",
       "      <td>0.234513</td>\n",
       "      <td>2.332180</td>\n",
       "      <td>0.410335</td>\n",
       "    </tr>\n",
       "  </tbody>\n",
       "</table>\n",
       "<p>5 rows × 24 columns</p>\n",
       "</div>"
      ],
      "text/plain": [
       "             name  MDVP:Fo(Hz)  MDVP:Fhi(Hz)  MDVP:Flo(Hz)  MDVP:Jitter(%)  \\\n",
       "0  phon_R01_S01_1      119.992       157.302        74.997         0.00784   \n",
       "1  phon_R01_S01_2      122.400       148.650       113.819         0.00968   \n",
       "2  phon_R01_S01_3      116.682       131.111       111.555         0.01050   \n",
       "3  phon_R01_S01_4      116.676       137.871       111.366         0.00997   \n",
       "4  phon_R01_S01_5      116.014       141.781       110.655         0.01284   \n",
       "\n",
       "   MDVP:Jitter(Abs)  MDVP:RAP  MDVP:PPQ  Jitter:DDP  MDVP:Shimmer  ...  \\\n",
       "0           0.00007   0.00370   0.00554     0.01109       0.04374  ...   \n",
       "1           0.00008   0.00465   0.00696     0.01394       0.06134  ...   \n",
       "2           0.00009   0.00544   0.00781     0.01633       0.05233  ...   \n",
       "3           0.00009   0.00502   0.00698     0.01505       0.05492  ...   \n",
       "4           0.00011   0.00655   0.00908     0.01966       0.06425  ...   \n",
       "\n",
       "   Shimmer:DDA      NHR     HNR  status      RPDE       DFA   spread1  \\\n",
       "0      0.06545  0.02211  21.033       1  0.414783  0.815285 -4.813031   \n",
       "1      0.09403  0.01929  19.085       1  0.458359  0.819521 -4.075192   \n",
       "2      0.08270  0.01309  20.651       1  0.429895  0.825288 -4.443179   \n",
       "3      0.08771  0.01353  20.644       1  0.434969  0.819235 -4.117501   \n",
       "4      0.10470  0.01767  19.649       1  0.417356  0.823484 -3.747787   \n",
       "\n",
       "    spread2        D2       PPE  \n",
       "0  0.266482  2.301442  0.284654  \n",
       "1  0.335590  2.486855  0.368674  \n",
       "2  0.311173  2.342259  0.332634  \n",
       "3  0.334147  2.405554  0.368975  \n",
       "4  0.234513  2.332180  0.410335  \n",
       "\n",
       "[5 rows x 24 columns]"
      ]
     },
     "execution_count": 5,
     "metadata": {},
     "output_type": "execute_result"
    }
   ],
   "source": [
    "park=pd.read_csv('Parkinsson disease.csv')\n",
    "park.head()"
   ]
  },
  {
   "cell_type": "markdown",
   "id": "d9987c8d",
   "metadata": {
    "id": "fGG7rocIm0Q5",
    "papermill": {
     "duration": 0.015625,
     "end_time": "2022-12-04T05:45:12.396773",
     "exception": false,
     "start_time": "2022-12-04T05:45:12.381148",
     "status": "completed"
    },
    "tags": []
   },
   "source": [
    "###Getting to know the Data"
   ]
  },
  {
   "cell_type": "code",
   "execution_count": 6,
   "id": "0a011fd9",
   "metadata": {
    "execution": {
     "iopub.execute_input": "2022-12-04T05:45:12.428829Z",
     "iopub.status.busy": "2022-12-04T05:45:12.428469Z",
     "iopub.status.idle": "2022-12-04T05:45:12.435094Z",
     "shell.execute_reply": "2022-12-04T05:45:12.434101Z"
    },
    "id": "V5eD1wN7BNEK",
    "outputId": "47b8ea46-044b-45bb-8cf3-2266cab1ece1",
    "papermill": {
     "duration": 0.02542,
     "end_time": "2022-12-04T05:45:12.437360",
     "exception": false,
     "start_time": "2022-12-04T05:45:12.411940",
     "status": "completed"
    },
    "tags": []
   },
   "outputs": [
    {
     "data": {
      "text/plain": [
       "(195, 24)"
      ]
     },
     "execution_count": 6,
     "metadata": {},
     "output_type": "execute_result"
    }
   ],
   "source": [
    "park.shape"
   ]
  },
  {
   "cell_type": "code",
   "execution_count": 7,
   "id": "c636d20d",
   "metadata": {
    "execution": {
     "iopub.execute_input": "2022-12-04T05:45:12.470808Z",
     "iopub.status.busy": "2022-12-04T05:45:12.470438Z",
     "iopub.status.idle": "2022-12-04T05:45:12.480898Z",
     "shell.execute_reply": "2022-12-04T05:45:12.479724Z"
    },
    "id": "0hDoDHgQNl5Z",
    "outputId": "55fbac68-0c36-4152-ad0e-e2c93bd354ae",
    "papermill": {
     "duration": 0.029642,
     "end_time": "2022-12-04T05:45:12.483305",
     "exception": false,
     "start_time": "2022-12-04T05:45:12.453663",
     "status": "completed"
    },
    "tags": []
   },
   "outputs": [
    {
     "data": {
      "text/plain": [
       "0"
      ]
     },
     "execution_count": 7,
     "metadata": {},
     "output_type": "execute_result"
    }
   ],
   "source": [
    "park.isnull().sum().sum()"
   ]
  },
  {
   "cell_type": "code",
   "execution_count": 8,
   "id": "a5a82312",
   "metadata": {
    "execution": {
     "iopub.execute_input": "2022-12-04T05:45:12.516037Z",
     "iopub.status.busy": "2022-12-04T05:45:12.515586Z",
     "iopub.status.idle": "2022-12-04T05:45:12.540449Z",
     "shell.execute_reply": "2022-12-04T05:45:12.539219Z"
    },
    "id": "v5ZCkbCJBQJl",
    "outputId": "48c02130-a575-4a4a-e1ab-91cf04eac072",
    "papermill": {
     "duration": 0.04376,
     "end_time": "2022-12-04T05:45:12.542752",
     "exception": false,
     "start_time": "2022-12-04T05:45:12.498992",
     "status": "completed"
    },
    "tags": []
   },
   "outputs": [
    {
     "name": "stdout",
     "output_type": "stream",
     "text": [
      "<class 'pandas.core.frame.DataFrame'>\n",
      "RangeIndex: 195 entries, 0 to 194\n",
      "Data columns (total 24 columns):\n",
      " #   Column            Non-Null Count  Dtype  \n",
      "---  ------            --------------  -----  \n",
      " 0   name              195 non-null    object \n",
      " 1   MDVP:Fo(Hz)       195 non-null    float64\n",
      " 2   MDVP:Fhi(Hz)      195 non-null    float64\n",
      " 3   MDVP:Flo(Hz)      195 non-null    float64\n",
      " 4   MDVP:Jitter(%)    195 non-null    float64\n",
      " 5   MDVP:Jitter(Abs)  195 non-null    float64\n",
      " 6   MDVP:RAP          195 non-null    float64\n",
      " 7   MDVP:PPQ          195 non-null    float64\n",
      " 8   Jitter:DDP        195 non-null    float64\n",
      " 9   MDVP:Shimmer      195 non-null    float64\n",
      " 10  MDVP:Shimmer(dB)  195 non-null    float64\n",
      " 11  Shimmer:APQ3      195 non-null    float64\n",
      " 12  Shimmer:APQ5      195 non-null    float64\n",
      " 13  MDVP:APQ          195 non-null    float64\n",
      " 14  Shimmer:DDA       195 non-null    float64\n",
      " 15  NHR               195 non-null    float64\n",
      " 16  HNR               195 non-null    float64\n",
      " 17  status            195 non-null    int64  \n",
      " 18  RPDE              195 non-null    float64\n",
      " 19  DFA               195 non-null    float64\n",
      " 20  spread1           195 non-null    float64\n",
      " 21  spread2           195 non-null    float64\n",
      " 22  D2                195 non-null    float64\n",
      " 23  PPE               195 non-null    float64\n",
      "dtypes: float64(22), int64(1), object(1)\n",
      "memory usage: 36.7+ KB\n"
     ]
    }
   ],
   "source": [
    "park.info()"
   ]
  },
  {
   "cell_type": "code",
   "execution_count": 9,
   "id": "eb88f88f",
   "metadata": {
    "execution": {
     "iopub.execute_input": "2022-12-04T05:45:12.576515Z",
     "iopub.status.busy": "2022-12-04T05:45:12.575775Z",
     "iopub.status.idle": "2022-12-04T05:45:12.582624Z",
     "shell.execute_reply": "2022-12-04T05:45:12.581512Z"
    },
    "id": "8fUKMwfL9SSv",
    "outputId": "c3c99e89-a190-4f96-a5ae-86cab259a839",
    "papermill": {
     "duration": 0.025897,
     "end_time": "2022-12-04T05:45:12.584750",
     "exception": false,
     "start_time": "2022-12-04T05:45:12.558853",
     "status": "completed"
    },
    "tags": []
   },
   "outputs": [
    {
     "data": {
      "text/plain": [
       "195"
      ]
     },
     "execution_count": 9,
     "metadata": {},
     "output_type": "execute_result"
    }
   ],
   "source": [
    "park.name.nunique()"
   ]
  },
  {
   "cell_type": "code",
   "execution_count": 10,
   "id": "7f506f9a",
   "metadata": {
    "execution": {
     "iopub.execute_input": "2022-12-04T05:45:12.619064Z",
     "iopub.status.busy": "2022-12-04T05:45:12.618320Z",
     "iopub.status.idle": "2022-12-04T05:45:12.692286Z",
     "shell.execute_reply": "2022-12-04T05:45:12.691001Z"
    },
    "id": "vZc-d2iuBRgT",
    "outputId": "8e7b895c-9aca-4b77-ccac-350b82457547",
    "papermill": {
     "duration": 0.094341,
     "end_time": "2022-12-04T05:45:12.694938",
     "exception": false,
     "start_time": "2022-12-04T05:45:12.600597",
     "status": "completed"
    },
    "tags": []
   },
   "outputs": [
    {
     "data": {
      "text/html": [
       "<div>\n",
       "<style scoped>\n",
       "    .dataframe tbody tr th:only-of-type {\n",
       "        vertical-align: middle;\n",
       "    }\n",
       "\n",
       "    .dataframe tbody tr th {\n",
       "        vertical-align: top;\n",
       "    }\n",
       "\n",
       "    .dataframe thead th {\n",
       "        text-align: right;\n",
       "    }\n",
       "</style>\n",
       "<table border=\"1\" class=\"dataframe\">\n",
       "  <thead>\n",
       "    <tr style=\"text-align: right;\">\n",
       "      <th></th>\n",
       "      <th>MDVP:Fo(Hz)</th>\n",
       "      <th>MDVP:Fhi(Hz)</th>\n",
       "      <th>MDVP:Flo(Hz)</th>\n",
       "      <th>MDVP:Jitter(%)</th>\n",
       "      <th>MDVP:Jitter(Abs)</th>\n",
       "      <th>MDVP:RAP</th>\n",
       "      <th>MDVP:PPQ</th>\n",
       "      <th>Jitter:DDP</th>\n",
       "      <th>MDVP:Shimmer</th>\n",
       "      <th>MDVP:Shimmer(dB)</th>\n",
       "      <th>...</th>\n",
       "      <th>Shimmer:DDA</th>\n",
       "      <th>NHR</th>\n",
       "      <th>HNR</th>\n",
       "      <th>status</th>\n",
       "      <th>RPDE</th>\n",
       "      <th>DFA</th>\n",
       "      <th>spread1</th>\n",
       "      <th>spread2</th>\n",
       "      <th>D2</th>\n",
       "      <th>PPE</th>\n",
       "    </tr>\n",
       "  </thead>\n",
       "  <tbody>\n",
       "    <tr>\n",
       "      <th>count</th>\n",
       "      <td>195.000000</td>\n",
       "      <td>195.000000</td>\n",
       "      <td>195.000000</td>\n",
       "      <td>195.000000</td>\n",
       "      <td>195.000000</td>\n",
       "      <td>195.000000</td>\n",
       "      <td>195.000000</td>\n",
       "      <td>195.000000</td>\n",
       "      <td>195.000000</td>\n",
       "      <td>195.000000</td>\n",
       "      <td>...</td>\n",
       "      <td>195.000000</td>\n",
       "      <td>195.000000</td>\n",
       "      <td>195.000000</td>\n",
       "      <td>195.000000</td>\n",
       "      <td>195.000000</td>\n",
       "      <td>195.000000</td>\n",
       "      <td>195.000000</td>\n",
       "      <td>195.000000</td>\n",
       "      <td>195.000000</td>\n",
       "      <td>195.000000</td>\n",
       "    </tr>\n",
       "    <tr>\n",
       "      <th>mean</th>\n",
       "      <td>154.228641</td>\n",
       "      <td>197.104918</td>\n",
       "      <td>116.324631</td>\n",
       "      <td>0.006220</td>\n",
       "      <td>0.000044</td>\n",
       "      <td>0.003306</td>\n",
       "      <td>0.003446</td>\n",
       "      <td>0.009920</td>\n",
       "      <td>0.029709</td>\n",
       "      <td>0.282251</td>\n",
       "      <td>...</td>\n",
       "      <td>0.046993</td>\n",
       "      <td>0.024847</td>\n",
       "      <td>21.885974</td>\n",
       "      <td>0.753846</td>\n",
       "      <td>0.498536</td>\n",
       "      <td>0.718099</td>\n",
       "      <td>-5.684397</td>\n",
       "      <td>0.226510</td>\n",
       "      <td>2.381826</td>\n",
       "      <td>0.206552</td>\n",
       "    </tr>\n",
       "    <tr>\n",
       "      <th>std</th>\n",
       "      <td>41.390065</td>\n",
       "      <td>91.491548</td>\n",
       "      <td>43.521413</td>\n",
       "      <td>0.004848</td>\n",
       "      <td>0.000035</td>\n",
       "      <td>0.002968</td>\n",
       "      <td>0.002759</td>\n",
       "      <td>0.008903</td>\n",
       "      <td>0.018857</td>\n",
       "      <td>0.194877</td>\n",
       "      <td>...</td>\n",
       "      <td>0.030459</td>\n",
       "      <td>0.040418</td>\n",
       "      <td>4.425764</td>\n",
       "      <td>0.431878</td>\n",
       "      <td>0.103942</td>\n",
       "      <td>0.055336</td>\n",
       "      <td>1.090208</td>\n",
       "      <td>0.083406</td>\n",
       "      <td>0.382799</td>\n",
       "      <td>0.090119</td>\n",
       "    </tr>\n",
       "    <tr>\n",
       "      <th>min</th>\n",
       "      <td>88.333000</td>\n",
       "      <td>102.145000</td>\n",
       "      <td>65.476000</td>\n",
       "      <td>0.001680</td>\n",
       "      <td>0.000007</td>\n",
       "      <td>0.000680</td>\n",
       "      <td>0.000920</td>\n",
       "      <td>0.002040</td>\n",
       "      <td>0.009540</td>\n",
       "      <td>0.085000</td>\n",
       "      <td>...</td>\n",
       "      <td>0.013640</td>\n",
       "      <td>0.000650</td>\n",
       "      <td>8.441000</td>\n",
       "      <td>0.000000</td>\n",
       "      <td>0.256570</td>\n",
       "      <td>0.574282</td>\n",
       "      <td>-7.964984</td>\n",
       "      <td>0.006274</td>\n",
       "      <td>1.423287</td>\n",
       "      <td>0.044539</td>\n",
       "    </tr>\n",
       "    <tr>\n",
       "      <th>25%</th>\n",
       "      <td>117.572000</td>\n",
       "      <td>134.862500</td>\n",
       "      <td>84.291000</td>\n",
       "      <td>0.003460</td>\n",
       "      <td>0.000020</td>\n",
       "      <td>0.001660</td>\n",
       "      <td>0.001860</td>\n",
       "      <td>0.004985</td>\n",
       "      <td>0.016505</td>\n",
       "      <td>0.148500</td>\n",
       "      <td>...</td>\n",
       "      <td>0.024735</td>\n",
       "      <td>0.005925</td>\n",
       "      <td>19.198000</td>\n",
       "      <td>1.000000</td>\n",
       "      <td>0.421306</td>\n",
       "      <td>0.674758</td>\n",
       "      <td>-6.450096</td>\n",
       "      <td>0.174351</td>\n",
       "      <td>2.099125</td>\n",
       "      <td>0.137451</td>\n",
       "    </tr>\n",
       "    <tr>\n",
       "      <th>50%</th>\n",
       "      <td>148.790000</td>\n",
       "      <td>175.829000</td>\n",
       "      <td>104.315000</td>\n",
       "      <td>0.004940</td>\n",
       "      <td>0.000030</td>\n",
       "      <td>0.002500</td>\n",
       "      <td>0.002690</td>\n",
       "      <td>0.007490</td>\n",
       "      <td>0.022970</td>\n",
       "      <td>0.221000</td>\n",
       "      <td>...</td>\n",
       "      <td>0.038360</td>\n",
       "      <td>0.011660</td>\n",
       "      <td>22.085000</td>\n",
       "      <td>1.000000</td>\n",
       "      <td>0.495954</td>\n",
       "      <td>0.722254</td>\n",
       "      <td>-5.720868</td>\n",
       "      <td>0.218885</td>\n",
       "      <td>2.361532</td>\n",
       "      <td>0.194052</td>\n",
       "    </tr>\n",
       "    <tr>\n",
       "      <th>75%</th>\n",
       "      <td>182.769000</td>\n",
       "      <td>224.205500</td>\n",
       "      <td>140.018500</td>\n",
       "      <td>0.007365</td>\n",
       "      <td>0.000060</td>\n",
       "      <td>0.003835</td>\n",
       "      <td>0.003955</td>\n",
       "      <td>0.011505</td>\n",
       "      <td>0.037885</td>\n",
       "      <td>0.350000</td>\n",
       "      <td>...</td>\n",
       "      <td>0.060795</td>\n",
       "      <td>0.025640</td>\n",
       "      <td>25.075500</td>\n",
       "      <td>1.000000</td>\n",
       "      <td>0.587562</td>\n",
       "      <td>0.761881</td>\n",
       "      <td>-5.046192</td>\n",
       "      <td>0.279234</td>\n",
       "      <td>2.636456</td>\n",
       "      <td>0.252980</td>\n",
       "    </tr>\n",
       "    <tr>\n",
       "      <th>max</th>\n",
       "      <td>260.105000</td>\n",
       "      <td>592.030000</td>\n",
       "      <td>239.170000</td>\n",
       "      <td>0.033160</td>\n",
       "      <td>0.000260</td>\n",
       "      <td>0.021440</td>\n",
       "      <td>0.019580</td>\n",
       "      <td>0.064330</td>\n",
       "      <td>0.119080</td>\n",
       "      <td>1.302000</td>\n",
       "      <td>...</td>\n",
       "      <td>0.169420</td>\n",
       "      <td>0.314820</td>\n",
       "      <td>33.047000</td>\n",
       "      <td>1.000000</td>\n",
       "      <td>0.685151</td>\n",
       "      <td>0.825288</td>\n",
       "      <td>-2.434031</td>\n",
       "      <td>0.450493</td>\n",
       "      <td>3.671155</td>\n",
       "      <td>0.527367</td>\n",
       "    </tr>\n",
       "  </tbody>\n",
       "</table>\n",
       "<p>8 rows × 23 columns</p>\n",
       "</div>"
      ],
      "text/plain": [
       "       MDVP:Fo(Hz)  MDVP:Fhi(Hz)  MDVP:Flo(Hz)  MDVP:Jitter(%)  \\\n",
       "count   195.000000    195.000000    195.000000      195.000000   \n",
       "mean    154.228641    197.104918    116.324631        0.006220   \n",
       "std      41.390065     91.491548     43.521413        0.004848   \n",
       "min      88.333000    102.145000     65.476000        0.001680   \n",
       "25%     117.572000    134.862500     84.291000        0.003460   \n",
       "50%     148.790000    175.829000    104.315000        0.004940   \n",
       "75%     182.769000    224.205500    140.018500        0.007365   \n",
       "max     260.105000    592.030000    239.170000        0.033160   \n",
       "\n",
       "       MDVP:Jitter(Abs)    MDVP:RAP    MDVP:PPQ  Jitter:DDP  MDVP:Shimmer  \\\n",
       "count        195.000000  195.000000  195.000000  195.000000    195.000000   \n",
       "mean           0.000044    0.003306    0.003446    0.009920      0.029709   \n",
       "std            0.000035    0.002968    0.002759    0.008903      0.018857   \n",
       "min            0.000007    0.000680    0.000920    0.002040      0.009540   \n",
       "25%            0.000020    0.001660    0.001860    0.004985      0.016505   \n",
       "50%            0.000030    0.002500    0.002690    0.007490      0.022970   \n",
       "75%            0.000060    0.003835    0.003955    0.011505      0.037885   \n",
       "max            0.000260    0.021440    0.019580    0.064330      0.119080   \n",
       "\n",
       "       MDVP:Shimmer(dB)  ...  Shimmer:DDA         NHR         HNR      status  \\\n",
       "count        195.000000  ...   195.000000  195.000000  195.000000  195.000000   \n",
       "mean           0.282251  ...     0.046993    0.024847   21.885974    0.753846   \n",
       "std            0.194877  ...     0.030459    0.040418    4.425764    0.431878   \n",
       "min            0.085000  ...     0.013640    0.000650    8.441000    0.000000   \n",
       "25%            0.148500  ...     0.024735    0.005925   19.198000    1.000000   \n",
       "50%            0.221000  ...     0.038360    0.011660   22.085000    1.000000   \n",
       "75%            0.350000  ...     0.060795    0.025640   25.075500    1.000000   \n",
       "max            1.302000  ...     0.169420    0.314820   33.047000    1.000000   \n",
       "\n",
       "             RPDE         DFA     spread1     spread2          D2         PPE  \n",
       "count  195.000000  195.000000  195.000000  195.000000  195.000000  195.000000  \n",
       "mean     0.498536    0.718099   -5.684397    0.226510    2.381826    0.206552  \n",
       "std      0.103942    0.055336    1.090208    0.083406    0.382799    0.090119  \n",
       "min      0.256570    0.574282   -7.964984    0.006274    1.423287    0.044539  \n",
       "25%      0.421306    0.674758   -6.450096    0.174351    2.099125    0.137451  \n",
       "50%      0.495954    0.722254   -5.720868    0.218885    2.361532    0.194052  \n",
       "75%      0.587562    0.761881   -5.046192    0.279234    2.636456    0.252980  \n",
       "max      0.685151    0.825288   -2.434031    0.450493    3.671155    0.527367  \n",
       "\n",
       "[8 rows x 23 columns]"
      ]
     },
     "execution_count": 10,
     "metadata": {},
     "output_type": "execute_result"
    }
   ],
   "source": [
    "park.describe()"
   ]
  },
  {
   "cell_type": "code",
   "execution_count": 11,
   "id": "c33c9bfa",
   "metadata": {
    "execution": {
     "iopub.execute_input": "2022-12-04T05:45:12.728981Z",
     "iopub.status.busy": "2022-12-04T05:45:12.728598Z",
     "iopub.status.idle": "2022-12-04T05:45:12.741121Z",
     "shell.execute_reply": "2022-12-04T05:45:12.740057Z"
    },
    "id": "PBdvprgeBlub",
    "outputId": "ca313c31-7224-405c-f794-782b6783109d",
    "papermill": {
     "duration": 0.032025,
     "end_time": "2022-12-04T05:45:12.743274",
     "exception": false,
     "start_time": "2022-12-04T05:45:12.711249",
     "status": "completed"
    },
    "tags": []
   },
   "outputs": [
    {
     "data": {
      "text/plain": [
       "0"
      ]
     },
     "execution_count": 11,
     "metadata": {},
     "output_type": "execute_result"
    }
   ],
   "source": [
    "park.duplicated().sum()"
   ]
  },
  {
   "cell_type": "code",
   "execution_count": 12,
   "id": "bb0868c3",
   "metadata": {
    "execution": {
     "iopub.execute_input": "2022-12-04T05:45:12.777851Z",
     "iopub.status.busy": "2022-12-04T05:45:12.777204Z",
     "iopub.status.idle": "2022-12-04T05:45:12.784332Z",
     "shell.execute_reply": "2022-12-04T05:45:12.783124Z"
    },
    "id": "HoVlcbki1Nk1",
    "outputId": "7a967570-cf01-4d53-83de-04f77bc5c9e5",
    "papermill": {
     "duration": 0.027069,
     "end_time": "2022-12-04T05:45:12.786652",
     "exception": false,
     "start_time": "2022-12-04T05:45:12.759583",
     "status": "completed"
    },
    "tags": []
   },
   "outputs": [
    {
     "name": "stdout",
     "output_type": "stream",
     "text": [
      "(195, 22) (195,)\n"
     ]
    }
   ],
   "source": [
    "X=park\n",
    "y=park['status']\n",
    "X=X.drop(columns=[\"status\",'name'])\n",
    "print(X.shape,y.shape)"
   ]
  },
  {
   "cell_type": "markdown",
   "id": "d492149a",
   "metadata": {
    "id": "VjAeaaomm6hL",
    "papermill": {
     "duration": 0.016151,
     "end_time": "2022-12-04T05:45:12.819481",
     "exception": false,
     "start_time": "2022-12-04T05:45:12.803330",
     "status": "completed"
    },
    "tags": []
   },
   "source": [
    "###Check for imbalanced data"
   ]
  },
  {
   "cell_type": "code",
   "execution_count": 13,
   "id": "b3b93e62",
   "metadata": {
    "execution": {
     "iopub.execute_input": "2022-12-04T05:45:12.853580Z",
     "iopub.status.busy": "2022-12-04T05:45:12.853195Z",
     "iopub.status.idle": "2022-12-04T05:45:13.068530Z",
     "shell.execute_reply": "2022-12-04T05:45:13.067289Z"
    },
    "id": "ExaeRbeE2UzW",
    "outputId": "ecc98b00-0bf8-4ef3-e5d4-2961bb139510",
    "papermill": {
     "duration": 0.235739,
     "end_time": "2022-12-04T05:45:13.071566",
     "exception": false,
     "start_time": "2022-12-04T05:45:12.835827",
     "status": "completed"
    },
    "tags": []
   },
   "outputs": [
    {
     "data": {
      "text/plain": [
       "<AxesSubplot:xlabel='status', ylabel='count'>"
      ]
     },
     "execution_count": 13,
     "metadata": {},
     "output_type": "execute_result"
    },
    {
     "data": {
      "image/png": "[encoded data removed]",
      "text/plain": [
       "<Figure size 432x288 with 1 Axes>"
      ]
     },
     "metadata": {
      "needs_background": "light"
     },
     "output_type": "display_data"
    }
   ],
   "source": [
    "sns.countplot(x=\"status\", data=park)"
   ]
  },
  {
   "cell_type": "code",
   "execution_count": 14,
   "id": "4888c045",
   "metadata": {
    "execution": {
     "iopub.execute_input": "2022-12-04T05:45:13.107328Z",
     "iopub.status.busy": "2022-12-04T05:45:13.106391Z",
     "iopub.status.idle": "2022-12-04T05:45:13.114992Z",
     "shell.execute_reply": "2022-12-04T05:45:13.114042Z"
    },
    "id": "Oxw97uttB255",
    "outputId": "84630b23-d37c-41b0-e2ec-0acd77456c7c",
    "papermill": {
     "duration": 0.029016,
     "end_time": "2022-12-04T05:45:13.117393",
     "exception": false,
     "start_time": "2022-12-04T05:45:13.088377",
     "status": "completed"
    },
    "tags": []
   },
   "outputs": [
    {
     "data": {
      "text/plain": [
       "1    147\n",
       "0     48\n",
       "Name: status, dtype: int64"
      ]
     },
     "execution_count": 14,
     "metadata": {},
     "output_type": "execute_result"
    }
   ],
   "source": [
    "park.status.value_counts()"
   ]
  },
  {
   "cell_type": "code",
   "execution_count": 15,
   "id": "9b5c2c7c",
   "metadata": {
    "execution": {
     "iopub.execute_input": "2022-12-04T05:45:13.152719Z",
     "iopub.status.busy": "2022-12-04T05:45:13.152308Z",
     "iopub.status.idle": "2022-12-04T05:45:13.158497Z",
     "shell.execute_reply": "2022-12-04T05:45:13.157402Z"
    },
    "id": "-pziQYssCHei",
    "outputId": "0d31fed1-959d-4f9c-c018-2331c81c915f",
    "papermill": {
     "duration": 0.027166,
     "end_time": "2022-12-04T05:45:13.161453",
     "exception": false,
     "start_time": "2022-12-04T05:45:13.134287",
     "status": "completed"
    },
    "tags": []
   },
   "outputs": [
    {
     "name": "stdout",
     "output_type": "stream",
     "text": [
      "75.38461538461539% of the data have Parkinsons Disease with a ratio of 49:16\n"
     ]
    }
   ],
   "source": [
    "print(str((147/(147+48))*100) + '% of the data have Parkinsons Disease with a ratio of 49:16')"
   ]
  },
  {
   "cell_type": "markdown",
   "id": "9e1ce50d",
   "metadata": {
    "id": "C2I5fhCYm_b2",
    "papermill": {
     "duration": 0.017041,
     "end_time": "2022-12-04T05:45:13.197737",
     "exception": false,
     "start_time": "2022-12-04T05:45:13.180696",
     "status": "completed"
    },
    "tags": []
   },
   "source": [
    "##Feature Sampling"
   ]
  },
  {
   "cell_type": "markdown",
   "id": "6cc28dd1",
   "metadata": {
    "id": "d2Obf1qHnEKQ",
    "papermill": {
     "duration": 0.016382,
     "end_time": "2022-12-04T05:45:13.230978",
     "exception": false,
     "start_time": "2022-12-04T05:45:13.214596",
     "status": "completed"
    },
    "tags": []
   },
   "source": [
    "####Tomek Links"
   ]
  },
  {
   "cell_type": "code",
   "execution_count": 16,
   "id": "e085988b",
   "metadata": {
    "execution": {
     "iopub.execute_input": "2022-12-04T05:45:13.266064Z",
     "iopub.status.busy": "2022-12-04T05:45:13.265673Z",
     "iopub.status.idle": "2022-12-04T05:45:13.288105Z",
     "shell.execute_reply": "2022-12-04T05:45:13.286927Z"
    },
    "id": "524EGqArM-Sh",
    "outputId": "69ad2f20-dada-45dc-8e7b-0dd92a76aae0",
    "papermill": {
     "duration": 0.043572,
     "end_time": "2022-12-04T05:45:13.291254",
     "exception": false,
     "start_time": "2022-12-04T05:45:13.247682",
     "status": "completed"
    },
    "tags": []
   },
   "outputs": [
    {
     "name": "stdout",
     "output_type": "stream",
     "text": [
      "Counter({1: 141, 0: 48})\n"
     ]
    }
   ],
   "source": [
    "ran_under=TomekLinks(sampling_strategy='not minority')\n",
    "X_under, y_under= ran_under.fit_resample(X, y)\n",
    "print(Counter(y_under))"
   ]
  },
  {
   "cell_type": "markdown",
   "id": "a5e2e14b",
   "metadata": {
    "id": "eaGOb1Y_nHO-",
    "papermill": {
     "duration": 0.027483,
     "end_time": "2022-12-04T05:45:13.346457",
     "exception": false,
     "start_time": "2022-12-04T05:45:13.318974",
     "status": "completed"
    },
    "tags": []
   },
   "source": [
    "####Random Over and Undersampling"
   ]
  },
  {
   "cell_type": "code",
   "execution_count": 17,
   "id": "a89a435b",
   "metadata": {
    "execution": {
     "iopub.execute_input": "2022-12-04T05:45:13.401733Z",
     "iopub.status.busy": "2022-12-04T05:45:13.401303Z",
     "iopub.status.idle": "2022-12-04T05:45:13.416776Z",
     "shell.execute_reply": "2022-12-04T05:45:13.415163Z"
    },
    "id": "GY5I8PrBQW1g",
    "outputId": "a6039e65-6c39-4991-c731-d3d35f5f189a",
    "papermill": {
     "duration": 0.045167,
     "end_time": "2022-12-04T05:45:13.419139",
     "exception": false,
     "start_time": "2022-12-04T05:45:13.373972",
     "status": "completed"
    },
    "tags": []
   },
   "outputs": [
    {
     "name": "stdout",
     "output_type": "stream",
     "text": [
      "Counter({1: 147, 0: 147})\n"
     ]
    }
   ],
   "source": [
    "ran_over = RandomOverSampler(sampling_strategy='minority',random_state=1)\n",
    "X_over, y_over = ran_over.fit_resample(X, y)\n",
    "print(Counter(y_over))"
   ]
  },
  {
   "cell_type": "code",
   "execution_count": 18,
   "id": "ced542c5",
   "metadata": {
    "execution": {
     "iopub.execute_input": "2022-12-04T05:45:13.455735Z",
     "iopub.status.busy": "2022-12-04T05:45:13.455053Z",
     "iopub.status.idle": "2022-12-04T05:45:13.468103Z",
     "shell.execute_reply": "2022-12-04T05:45:13.466792Z"
    },
    "id": "2YoaOljtM_o1",
    "outputId": "16d096e7-97d3-44e1-f33d-bbf79a36bb28",
    "papermill": {
     "duration": 0.034395,
     "end_time": "2022-12-04T05:45:13.470785",
     "exception": false,
     "start_time": "2022-12-04T05:45:13.436390",
     "status": "completed"
    },
    "tags": []
   },
   "outputs": [
    {
     "name": "stdout",
     "output_type": "stream",
     "text": [
      "Counter({0: 48, 1: 48})\n"
     ]
    }
   ],
   "source": [
    "ran_under = RandomUnderSampler(sampling_strategy='majority',random_state=1)\n",
    "X_under, y_under= ran_under.fit_resample(X, y)\n",
    "print(Counter(y_under))"
   ]
  },
  {
   "cell_type": "code",
   "execution_count": 19,
   "id": "2747b42f",
   "metadata": {
    "execution": {
     "iopub.execute_input": "2022-12-04T05:45:13.506541Z",
     "iopub.status.busy": "2022-12-04T05:45:13.506055Z",
     "iopub.status.idle": "2022-12-04T05:45:13.514569Z",
     "shell.execute_reply": "2022-12-04T05:45:13.513236Z"
    },
    "id": "hUWKjOsC3Yrf",
    "papermill": {
     "duration": 0.029174,
     "end_time": "2022-12-04T05:45:13.516991",
     "exception": false,
     "start_time": "2022-12-04T05:45:13.487817",
     "status": "completed"
    },
    "tags": []
   },
   "outputs": [],
   "source": [
    "park_over=X_over.copy()\n",
    "park_over['status']=y_over\n",
    "park_under=X_under.copy()\n",
    "park_under['status']=y_under"
   ]
  },
  {
   "cell_type": "code",
   "execution_count": 20,
   "id": "0bdcbbd3",
   "metadata": {
    "execution": {
     "iopub.execute_input": "2022-12-04T05:45:13.552708Z",
     "iopub.status.busy": "2022-12-04T05:45:13.552312Z",
     "iopub.status.idle": "2022-12-04T05:45:14.172917Z",
     "shell.execute_reply": "2022-12-04T05:45:14.172039Z"
    },
    "id": "wFBxtnusN2Qw",
    "outputId": "902582ae-6d69-460f-efb8-47bd164bfcb4",
    "papermill": {
     "duration": 0.64125,
     "end_time": "2022-12-04T05:45:14.175247",
     "exception": false,
     "start_time": "2022-12-04T05:45:13.533997",
     "status": "completed"
    },
    "tags": []
   },
   "outputs": [
    {
     "data": {
      "image/png": "[encoded data removed]",
      "text/plain": [
       "<Figure size 1080x720 with 4 Axes>"
      ]
     },
     "metadata": {
      "needs_background": "light"
     },
     "output_type": "display_data"
    }
   ],
   "source": [
    "figure, axis = plt.subplots(2, 2,figsize=(15,10))\n",
    "\n",
    "sns.scatterplot(ax=axis[0,0],data=park_over,x='MDVP:Fo(Hz)',y='MDVP:Fhi(Hz)',hue='status')\n",
    "axis[0, 0].set_title(\"Oversampling Minority Scatter\")\n",
    "  \n",
    "sns.countplot(ax=axis[0, 1],x=\"status\", data=park_over)\n",
    "axis[0, 1].set_title(\"Oversampling Minority Count\")\n",
    "  \n",
    "sns.scatterplot(ax=axis[1, 0],data=park_under,x='MDVP:Fo(Hz)',y='MDVP:Fhi(Hz)',hue='status')\n",
    "axis[1, 0].set_title(\"Undersampling Majority Scatter\")\n",
    "  \n",
    "sns.countplot(ax=axis[1, 1],x=\"status\", data=park_under)\n",
    "axis[1, 1].set_title(\"Undersampling Majority Count\")\n",
    "plt.show()"
   ]
  },
  {
   "cell_type": "code",
   "execution_count": 21,
   "id": "4ebf5939",
   "metadata": {
    "execution": {
     "iopub.execute_input": "2022-12-04T05:45:14.213543Z",
     "iopub.status.busy": "2022-12-04T05:45:14.213088Z",
     "iopub.status.idle": "2022-12-04T05:45:14.225913Z",
     "shell.execute_reply": "2022-12-04T05:45:14.224589Z"
    },
    "id": "kQlg_bUd5vi6",
    "outputId": "a3da16d1-bce7-4e2b-8801-0835349b8f82",
    "papermill": {
     "duration": 0.034573,
     "end_time": "2022-12-04T05:45:14.228152",
     "exception": false,
     "start_time": "2022-12-04T05:45:14.193579",
     "status": "completed"
    },
    "tags": []
   },
   "outputs": [
    {
     "data": {
      "text/plain": [
       "99"
      ]
     },
     "execution_count": 21,
     "metadata": {},
     "output_type": "execute_result"
    }
   ],
   "source": [
    "park_over.duplicated().sum()"
   ]
  },
  {
   "cell_type": "markdown",
   "id": "55470346",
   "metadata": {
    "id": "0gEyHwv2XMoA",
    "papermill": {
     "duration": 0.017875,
     "end_time": "2022-12-04T05:45:14.264325",
     "exception": false,
     "start_time": "2022-12-04T05:45:14.246450",
     "status": "completed"
    },
    "tags": []
   },
   "source": [
    "####Synthetic Minority Oversampling Technique(SMOTE): Another Oversampling Technique"
   ]
  },
  {
   "cell_type": "code",
   "execution_count": 22,
   "id": "dcde5bbf",
   "metadata": {
    "execution": {
     "iopub.execute_input": "2022-12-04T05:45:14.305235Z",
     "iopub.status.busy": "2022-12-04T05:45:14.304601Z",
     "iopub.status.idle": "2022-12-04T05:45:14.320268Z",
     "shell.execute_reply": "2022-12-04T05:45:14.318236Z"
    },
    "id": "sJQe6tbl9EIj",
    "outputId": "a1ba2348-0220-48b8-bd32-8ba067cc124d",
    "papermill": {
     "duration": 0.039381,
     "end_time": "2022-12-04T05:45:14.322984",
     "exception": false,
     "start_time": "2022-12-04T05:45:14.283603",
     "status": "completed"
    },
    "tags": []
   },
   "outputs": [
    {
     "name": "stdout",
     "output_type": "stream",
     "text": [
      "Counter({1: 147, 0: 147})\n"
     ]
    }
   ],
   "source": [
    "sm = SMOTE(sampling_strategy='minority', random_state=1)\n",
    "X_smote, y_smote= sm.fit_resample(X, y)\n",
    "print(Counter(y_smote))"
   ]
  },
  {
   "cell_type": "code",
   "execution_count": 23,
   "id": "e1cbd5e3",
   "metadata": {
    "execution": {
     "iopub.execute_input": "2022-12-04T05:45:14.362212Z",
     "iopub.status.busy": "2022-12-04T05:45:14.361787Z",
     "iopub.status.idle": "2022-12-04T05:45:14.369824Z",
     "shell.execute_reply": "2022-12-04T05:45:14.368626Z"
    },
    "id": "tKulozAAqS2U",
    "outputId": "9d0dc253-407d-49aa-9a61-d92f19f383ca",
    "papermill": {
     "duration": 0.030036,
     "end_time": "2022-12-04T05:45:14.372112",
     "exception": false,
     "start_time": "2022-12-04T05:45:14.342076",
     "status": "completed"
    },
    "tags": []
   },
   "outputs": [
    {
     "data": {
      "text/plain": [
       "Index(['MDVP:Fo(Hz)', 'MDVP:Fhi(Hz)', 'MDVP:Flo(Hz)', 'MDVP:Jitter(%)',\n",
       "       'MDVP:Jitter(Abs)', 'MDVP:RAP', 'MDVP:PPQ', 'Jitter:DDP',\n",
       "       'MDVP:Shimmer', 'MDVP:Shimmer(dB)', 'Shimmer:APQ3', 'Shimmer:APQ5',\n",
       "       'MDVP:APQ', 'Shimmer:DDA', 'NHR', 'HNR', 'RPDE', 'DFA', 'spread1',\n",
       "       'spread2', 'D2', 'PPE'],\n",
       "      dtype='object')"
      ]
     },
     "execution_count": 23,
     "metadata": {},
     "output_type": "execute_result"
    }
   ],
   "source": [
    "X_smote.columns"
   ]
  },
  {
   "cell_type": "code",
   "execution_count": 24,
   "id": "70d0757e",
   "metadata": {
    "execution": {
     "iopub.execute_input": "2022-12-04T05:45:14.411876Z",
     "iopub.status.busy": "2022-12-04T05:45:14.411483Z",
     "iopub.status.idle": "2022-12-04T05:45:14.417850Z",
     "shell.execute_reply": "2022-12-04T05:45:14.416730Z"
    },
    "id": "UnnwxeAfXekZ",
    "papermill": {
     "duration": 0.028889,
     "end_time": "2022-12-04T05:45:14.420156",
     "exception": false,
     "start_time": "2022-12-04T05:45:14.391267",
     "status": "completed"
    },
    "tags": []
   },
   "outputs": [],
   "source": [
    "park_smote=X_smote.copy()\n",
    "park_smote['status']=y_smote"
   ]
  },
  {
   "cell_type": "code",
   "execution_count": 25,
   "id": "e8d46f01",
   "metadata": {
    "execution": {
     "iopub.execute_input": "2022-12-04T05:45:14.459077Z",
     "iopub.status.busy": "2022-12-04T05:45:14.458673Z",
     "iopub.status.idle": "2022-12-04T05:45:14.825029Z",
     "shell.execute_reply": "2022-12-04T05:45:14.823677Z"
    },
    "id": "etcVEedoXTkT",
    "outputId": "7696fb19-2ae3-495b-c5f6-bea9bb337c25",
    "papermill": {
     "duration": 0.388988,
     "end_time": "2022-12-04T05:45:14.827591",
     "exception": false,
     "start_time": "2022-12-04T05:45:14.438603",
     "status": "completed"
    },
    "tags": []
   },
   "outputs": [
    {
     "data": {
      "text/plain": [
       "[Text(0.5, 1.0, 'SMOTE Count')]"
      ]
     },
     "execution_count": 25,
     "metadata": {},
     "output_type": "execute_result"
    },
    {
     "data": {
      "image/png": "[encoded data removed]",
      "text/plain": [
       "<Figure size 432x288 with 2 Axes>"
      ]
     },
     "metadata": {
      "needs_background": "light"
     },
     "output_type": "display_data"
    }
   ],
   "source": [
    "fig, (ax1, ax2) = plt.subplots(1,2)\n",
    "fig.suptitle('SMOTE on First Feature with Countplot')\n",
    "sns.scatterplot(ax=ax1,data=park_smote,x='MDVP:Fo(Hz)',y='MDVP:Fhi(Hz)',hue='status').set(title='SMOTE')\n",
    "sns.countplot(ax=ax2,x=\"status\", data=park_smote).set(title='SMOTE Count')"
   ]
  },
  {
   "cell_type": "markdown",
   "id": "a9a57dcd",
   "metadata": {
    "id": "n8PF2aUfY1tP",
    "papermill": {
     "duration": 0.018849,
     "end_time": "2022-12-04T05:45:14.865612",
     "exception": false,
     "start_time": "2022-12-04T05:45:14.846763",
     "status": "completed"
    },
    "tags": []
   },
   "source": [
    "After results try mixing between smote and tomek links or ENN to provide better accuracy"
   ]
  },
  {
   "cell_type": "markdown",
   "id": "007d3e01",
   "metadata": {
    "id": "HPV0-dtAcbFv",
    "papermill": {
     "duration": 0.01876,
     "end_time": "2022-12-04T05:45:14.903558",
     "exception": false,
     "start_time": "2022-12-04T05:45:14.884798",
     "status": "completed"
    },
    "tags": []
   },
   "source": [
    "##Feature Scaling"
   ]
  },
  {
   "cell_type": "code",
   "execution_count": 26,
   "id": "fc61d4e1",
   "metadata": {
    "execution": {
     "iopub.execute_input": "2022-12-04T05:45:14.944066Z",
     "iopub.status.busy": "2022-12-04T05:45:14.943676Z",
     "iopub.status.idle": "2022-12-04T05:45:14.948678Z",
     "shell.execute_reply": "2022-12-04T05:45:14.947602Z"
    },
    "id": "6WqRcY4mrBYz",
    "papermill": {
     "duration": 0.028043,
     "end_time": "2022-12-04T05:45:14.950883",
     "exception": false,
     "start_time": "2022-12-04T05:45:14.922840",
     "status": "completed"
    },
    "tags": []
   },
   "outputs": [],
   "source": [
    "cols=X_smote.columns"
   ]
  },
  {
   "cell_type": "markdown",
   "id": "eba3b4c0",
   "metadata": {
    "id": "bpapg2krnZKR",
    "papermill": {
     "duration": 0.018683,
     "end_time": "2022-12-04T05:45:14.988663",
     "exception": false,
     "start_time": "2022-12-04T05:45:14.969980",
     "status": "completed"
    },
    "tags": []
   },
   "source": [
    "Normalization"
   ]
  },
  {
   "cell_type": "code",
   "execution_count": 27,
   "id": "05667e5a",
   "metadata": {
    "execution": {
     "iopub.execute_input": "2022-12-04T05:45:15.028525Z",
     "iopub.status.busy": "2022-12-04T05:45:15.028109Z",
     "iopub.status.idle": "2022-12-04T05:45:15.043083Z",
     "shell.execute_reply": "2022-12-04T05:45:15.041847Z"
    },
    "id": "Mjc8Zyrfu9wF",
    "papermill": {
     "duration": 0.038039,
     "end_time": "2022-12-04T05:45:15.045651",
     "exception": false,
     "start_time": "2022-12-04T05:45:15.007612",
     "status": "completed"
    },
    "tags": []
   },
   "outputs": [],
   "source": [
    "norm_smote=pd.DataFrame(preprocessing.normalize(X_smote),columns=cols)\n",
    "norm_over=pd.DataFrame(preprocessing.normalize(X_over),columns=cols)\n",
    "norm_under=pd.DataFrame(preprocessing.normalize(X_under),columns=cols)"
   ]
  },
  {
   "cell_type": "markdown",
   "id": "a0bd8754",
   "metadata": {
    "id": "W-R2LSh1nfoq",
    "papermill": {
     "duration": 0.019464,
     "end_time": "2022-12-04T05:45:15.084806",
     "exception": false,
     "start_time": "2022-12-04T05:45:15.065342",
     "status": "completed"
    },
    "tags": []
   },
   "source": [
    "Scaling"
   ]
  },
  {
   "cell_type": "code",
   "execution_count": 28,
   "id": "a9ea9867",
   "metadata": {
    "execution": {
     "iopub.execute_input": "2022-12-04T05:45:15.124742Z",
     "iopub.status.busy": "2022-12-04T05:45:15.124345Z",
     "iopub.status.idle": "2022-12-04T05:45:15.137438Z",
     "shell.execute_reply": "2022-12-04T05:45:15.136483Z"
    },
    "id": "BQunXicXzTUD",
    "papermill": {
     "duration": 0.035916,
     "end_time": "2022-12-04T05:45:15.139746",
     "exception": false,
     "start_time": "2022-12-04T05:45:15.103830",
     "status": "completed"
    },
    "tags": []
   },
   "outputs": [],
   "source": [
    "scale_under=pd.DataFrame(preprocessing.scale(X_under),columns=cols)\n",
    "scale_over=pd.DataFrame(preprocessing.scale(X_over),columns=cols)\n",
    "scale_smote=pd.DataFrame(preprocessing.scale(X_smote),columns=cols)"
   ]
  },
  {
   "cell_type": "code",
   "execution_count": 29,
   "id": "330d3772",
   "metadata": {
    "execution": {
     "iopub.execute_input": "2022-12-04T05:45:15.179990Z",
     "iopub.status.busy": "2022-12-04T05:45:15.179142Z",
     "iopub.status.idle": "2022-12-04T05:45:15.568358Z",
     "shell.execute_reply": "2022-12-04T05:45:15.567232Z"
    },
    "id": "LA29z5MrsSSg",
    "outputId": "7293598b-622e-4bf8-ab0e-9a0051db2fa3",
    "papermill": {
     "duration": 0.412034,
     "end_time": "2022-12-04T05:45:15.570776",
     "exception": false,
     "start_time": "2022-12-04T05:45:15.158742",
     "status": "completed"
    },
    "tags": []
   },
   "outputs": [
    {
     "data": {
      "image/png": "[encoded data removed]",
      "text/plain": [
       "<Figure size 864x576 with 2 Axes>"
      ]
     },
     "metadata": {
      "needs_background": "light"
     },
     "output_type": "display_data"
    }
   ],
   "source": [
    "fig, axs = plt.subplots(1,2,figsize=(12,8))\n",
    "axs[0].hist(norm_smote['MDVP:Fo(Hz)'], bins = 25, color = '#00A0A0')\n",
    "axs[0].title.set_text('Normalization on Feature')\n",
    "axs[1].hist(scale_smote['MDVP:Fo(Hz)'], bins = 25, color = '#00A0A0')\n",
    "axs[1].title.set_text('Scaling on Feature')"
   ]
  },
  {
   "cell_type": "markdown",
   "id": "beccbb6e",
   "metadata": {
    "id": "0ISkiJVJyYEI",
    "papermill": {
     "duration": 0.019236,
     "end_time": "2022-12-04T05:45:15.609318",
     "exception": false,
     "start_time": "2022-12-04T05:45:15.590082",
     "status": "completed"
    },
    "tags": []
   },
   "source": [
    "Feature Skewness after first model"
   ]
  },
  {
   "cell_type": "markdown",
   "id": "b8fbf957",
   "metadata": {
    "id": "cXy27GgRnpIV",
    "papermill": {
     "duration": 0.019189,
     "end_time": "2022-12-04T05:45:15.648506",
     "exception": false,
     "start_time": "2022-12-04T05:45:15.629317",
     "status": "completed"
    },
    "tags": []
   },
   "source": [
    "##Model Prediction"
   ]
  },
  {
   "cell_type": "markdown",
   "id": "60b07457",
   "metadata": {
    "id": "Q9BeSr9tntkA",
    "papermill": {
     "duration": 0.018898,
     "end_time": "2022-12-04T05:45:15.686851",
     "exception": false,
     "start_time": "2022-12-04T05:45:15.667953",
     "status": "completed"
    },
    "tags": []
   },
   "source": [
    "Predict using all different data created using three different classifiers"
   ]
  },
  {
   "cell_type": "code",
   "execution_count": 30,
   "id": "e33ab14f",
   "metadata": {
    "execution": {
     "iopub.execute_input": "2022-12-04T05:45:15.727158Z",
     "iopub.status.busy": "2022-12-04T05:45:15.726767Z",
     "iopub.status.idle": "2022-12-04T05:45:15.736840Z",
     "shell.execute_reply": "2022-12-04T05:45:15.735939Z"
    },
    "id": "hcM3GoFfzzBn",
    "papermill": {
     "duration": 0.032779,
     "end_time": "2022-12-04T05:45:15.739050",
     "exception": false,
     "start_time": "2022-12-04T05:45:15.706271",
     "status": "completed"
    },
    "tags": []
   },
   "outputs": [],
   "source": [
    "def predictmodels(X,y):\n",
    "  X_train, X_test, y_train, y_test = train_test_split(X, y, test_size = 0.2, random_state = 0)\n",
    "  print(\"Training set has {} samples.\".format(X_train.shape[0]))\n",
    "  print(\"Testing set has {} samples.\".format(X_test.shape[0]))\n",
    "  print()\n",
    "  clf_A = RandomForestClassifier(random_state=3)\n",
    "  clf_B = DecisionTreeClassifier(random_state=3)\n",
    "  clf_C = AdaBoostClassifier(random_state=3)\n",
    "\n",
    "  results = {}\n",
    "  for clf in [clf_A, clf_B, clf_C]:\n",
    "      clf_name = clf.__class__.__name__\n",
    "      results[clf_name] = {}\n",
    "      results[clf_name] = \\\n",
    "      results = {}\n",
    "      start = time()\n",
    "      clf = clf.fit(X_train, y_train)\n",
    "      end = time()\n",
    "      results['train_time'] = end-start\n",
    "        \n",
    "      start = time()\n",
    "      predictions_test = clf.predict(X_test)\n",
    "      end = time()\n",
    "      print(clf)\n",
    "      print('prediction_time: ' + str(end-start))\n",
    "      #print('Accuracy Score: ' + str(accuracy_score(y_test,predictions_test)))\n",
    "      print('fb Score: '+ str(fbeta_score(y_test,predictions_test,beta=0.5)))\n",
    "      print()\n",
    "  return X_train, X_test, y_train, y_test"
   ]
  },
  {
   "cell_type": "markdown",
   "id": "c9b29dbf",
   "metadata": {
    "id": "3zCLj5cWn19k",
    "papermill": {
     "duration": 0.019057,
     "end_time": "2022-12-04T05:45:15.777423",
     "exception": false,
     "start_time": "2022-12-04T05:45:15.758366",
     "status": "completed"
    },
    "tags": []
   },
   "source": [
    "Using Best classifer used in the function above to further tune it to increase Accuracy"
   ]
  },
  {
   "cell_type": "code",
   "execution_count": 31,
   "id": "90b816eb",
   "metadata": {
    "execution": {
     "iopub.execute_input": "2022-12-04T05:45:15.819143Z",
     "iopub.status.busy": "2022-12-04T05:45:15.818500Z",
     "iopub.status.idle": "2022-12-04T05:45:15.826477Z",
     "shell.execute_reply": "2022-12-04T05:45:15.825586Z"
    },
    "id": "enN46gnv0FQy",
    "papermill": {
     "duration": 0.031652,
     "end_time": "2022-12-04T05:45:15.828735",
     "exception": false,
     "start_time": "2022-12-04T05:45:15.797083",
     "status": "completed"
    },
    "tags": []
   },
   "outputs": [],
   "source": [
    "def Gridsrch(clf,n):\n",
    "  if n==1:\n",
    "    parameters={'n_estimators':[80,120,150],'min_samples_leaf':[1,2,3]}\n",
    "  else:\n",
    "    parameters={'n_estimators':[200,300,400],'learning_rate':[1.0,1.2,1.8]}\n",
    "\n",
    "  scorer=make_scorer(fbeta_score,beta=0.1)\n",
    "\n",
    "  grid_layout=GridSearchCV(clf,parameters,scoring=scorer)\n",
    "\n",
    "  grid_fit=grid_layout.fit(X_train,y_train)\n",
    "\n",
    "  best_clf=grid_fit.best_estimator_\n",
    "\n",
    "  #predict using plane and optimized model\n",
    "  predictions=(clf.fit(X_train,y_train).predict(X_test))\n",
    "  best_predictions=best_clf.predict(X_test)\n",
    "  print(str(clf) +\" before Optimization: \" + str(fbeta_score(y_test,predictions,beta=0.5)))\n",
    "  print(str(clf) +\" after Optimization: \" + str(fbeta_score(y_test,best_predictions,beta=0.5)))\n",
    "  print(grid_fit.best_params_)\n",
    "  return grid_fit"
   ]
  },
  {
   "cell_type": "code",
   "execution_count": 32,
   "id": "b2dd8c89",
   "metadata": {
    "execution": {
     "iopub.execute_input": "2022-12-04T05:45:15.869239Z",
     "iopub.status.busy": "2022-12-04T05:45:15.868618Z",
     "iopub.status.idle": "2022-12-04T05:45:16.173028Z",
     "shell.execute_reply": "2022-12-04T05:45:16.171577Z"
    },
    "id": "SpEZYyiwEGI1",
    "outputId": "45a9aa0b-23c5-4ecd-fe2a-efe5ffae60b0",
    "papermill": {
     "duration": 0.327564,
     "end_time": "2022-12-04T05:45:16.175501",
     "exception": false,
     "start_time": "2022-12-04T05:45:15.847937",
     "status": "completed"
    },
    "tags": []
   },
   "outputs": [
    {
     "name": "stdout",
     "output_type": "stream",
     "text": [
      "Training set has 235 samples.\n",
      "Testing set has 59 samples.\n",
      "\n",
      "RandomForestClassifier(random_state=3)\n",
      "prediction_time: 0.012699127197265625\n",
      "fb Score: 0.9541984732824427\n",
      "\n",
      "DecisionTreeClassifier(random_state=3)\n",
      "prediction_time: 0.0015721321105957031\n",
      "fb Score: 0.8888888888888888\n",
      "\n",
      "AdaBoostClassifier(random_state=3)\n",
      "prediction_time: 0.008454084396362305\n",
      "fb Score: 0.934959349593496\n",
      "\n"
     ]
    }
   ],
   "source": [
    "X_train, X_test, y_train, y_test=predictmodels(scale_smote,y_smote)"
   ]
  },
  {
   "cell_type": "code",
   "execution_count": 33,
   "id": "59d7533c",
   "metadata": {
    "execution": {
     "iopub.execute_input": "2022-12-04T05:45:16.216783Z",
     "iopub.status.busy": "2022-12-04T05:45:16.215984Z",
     "iopub.status.idle": "2022-12-04T05:45:25.313674Z",
     "shell.execute_reply": "2022-12-04T05:45:25.312465Z"
    },
    "id": "tj_7irB6EHvn",
    "outputId": "af5065a6-377b-40d6-c87e-9f3b1e203600",
    "papermill": {
     "duration": 9.121442,
     "end_time": "2022-12-04T05:45:25.316373",
     "exception": false,
     "start_time": "2022-12-04T05:45:16.194931",
     "status": "completed"
    },
    "tags": []
   },
   "outputs": [
    {
     "name": "stdout",
     "output_type": "stream",
     "text": [
      "RandomForestClassifier(random_state=3) before Optimization: 0.9541984732824427\n",
      "RandomForestClassifier(random_state=3) after Optimization: 0.9541984732824427\n",
      "{'min_samples_leaf': 1, 'n_estimators': 80}\n"
     ]
    },
    {
     "data": {
      "text/plain": [
       "GridSearchCV(estimator=RandomForestClassifier(random_state=3),\n",
       "             param_grid={'min_samples_leaf': [1, 2, 3],\n",
       "                         'n_estimators': [80, 120, 150]},\n",
       "             scoring=make_scorer(fbeta_score, beta=0.1))"
      ]
     },
     "execution_count": 33,
     "metadata": {},
     "output_type": "execute_result"
    }
   ],
   "source": [
    "Gridsrch(RandomForestClassifier(random_state=3),1)"
   ]
  },
  {
   "cell_type": "markdown",
   "id": "e2c3c78b",
   "metadata": {
    "id": "NWqJJsynBi9I",
    "papermill": {
     "duration": 0.019371,
     "end_time": "2022-12-04T05:45:25.355869",
     "exception": false,
     "start_time": "2022-12-04T05:45:25.336498",
     "status": "completed"
    },
    "tags": []
   },
   "source": [
    "fbeta score using Scale Smote: 0.9541984732824427"
   ]
  },
  {
   "cell_type": "code",
   "execution_count": 34,
   "id": "74240aed",
   "metadata": {
    "execution": {
     "iopub.execute_input": "2022-12-04T05:45:25.397990Z",
     "iopub.status.busy": "2022-12-04T05:45:25.397236Z",
     "iopub.status.idle": "2022-12-04T05:45:25.710264Z",
     "shell.execute_reply": "2022-12-04T05:45:25.708746Z"
    },
    "id": "SYKYEgXH549U",
    "outputId": "1d9cecdb-a109-49ca-f014-17680c6743ac",
    "papermill": {
     "duration": 0.337475,
     "end_time": "2022-12-04T05:45:25.713385",
     "exception": false,
     "start_time": "2022-12-04T05:45:25.375910",
     "status": "completed"
    },
    "tags": []
   },
   "outputs": [
    {
     "name": "stdout",
     "output_type": "stream",
     "text": [
      "Training set has 235 samples.\n",
      "Testing set has 59 samples.\n",
      "\n",
      "RandomForestClassifier(random_state=3)\n",
      "prediction_time: 0.013272285461425781\n",
      "fb Score: 0.9842519685039369\n",
      "\n",
      "DecisionTreeClassifier(random_state=3)\n",
      "prediction_time: 0.0018191337585449219\n",
      "fb Score: 0.9663865546218487\n",
      "\n",
      "AdaBoostClassifier(random_state=3)\n",
      "prediction_time: 0.008795499801635742\n",
      "fb Score: 0.9842519685039369\n",
      "\n"
     ]
    }
   ],
   "source": [
    "X_train, X_test, y_train, y_test=predictmodels(scale_over,y_over)"
   ]
  },
  {
   "cell_type": "code",
   "execution_count": 35,
   "id": "359b41d5",
   "metadata": {
    "execution": {
     "iopub.execute_input": "2022-12-04T05:45:25.755845Z",
     "iopub.status.busy": "2022-12-04T05:45:25.755044Z",
     "iopub.status.idle": "2022-12-04T05:45:34.685096Z",
     "shell.execute_reply": "2022-12-04T05:45:34.683878Z"
    },
    "id": "2ZVKkG-UAEoK",
    "outputId": "229e175d-2e54-486c-c473-d418ff92dd5c",
    "papermill": {
     "duration": 8.953739,
     "end_time": "2022-12-04T05:45:34.687551",
     "exception": false,
     "start_time": "2022-12-04T05:45:25.733812",
     "status": "completed"
    },
    "tags": []
   },
   "outputs": [
    {
     "name": "stdout",
     "output_type": "stream",
     "text": [
      "RandomForestClassifier(random_state=3) before Optimization: 0.9842519685039369\n",
      "RandomForestClassifier(random_state=3) after Optimization: 0.9842519685039369\n",
      "{'min_samples_leaf': 2, 'n_estimators': 120}\n"
     ]
    },
    {
     "data": {
      "text/plain": [
       "GridSearchCV(estimator=RandomForestClassifier(random_state=3),\n",
       "             param_grid={'min_samples_leaf': [1, 2, 3],\n",
       "                         'n_estimators': [80, 120, 150]},\n",
       "             scoring=make_scorer(fbeta_score, beta=0.1))"
      ]
     },
     "execution_count": 35,
     "metadata": {},
     "output_type": "execute_result"
    }
   ],
   "source": [
    "Gridsrch(RandomForestClassifier(random_state=3),1)"
   ]
  },
  {
   "cell_type": "markdown",
   "id": "f1814875",
   "metadata": {
    "id": "SRrQ2CA5D8Hb",
    "papermill": {
     "duration": 0.020266,
     "end_time": "2022-12-04T05:45:34.728527",
     "exception": false,
     "start_time": "2022-12-04T05:45:34.708261",
     "status": "completed"
    },
    "tags": []
   },
   "source": [
    "fbeta score using Scale Oversampling : 0.9842519685039369"
   ]
  },
  {
   "cell_type": "code",
   "execution_count": 36,
   "id": "5aea6014",
   "metadata": {
    "execution": {
     "iopub.execute_input": "2022-12-04T05:45:34.771114Z",
     "iopub.status.busy": "2022-12-04T05:45:34.770727Z",
     "iopub.status.idle": "2022-12-04T05:45:35.026555Z",
     "shell.execute_reply": "2022-12-04T05:45:35.025092Z"
    },
    "id": "iIIQ5l0SDieX",
    "outputId": "55cf2147-6d08-45d6-d133-4cdaf583bc8c",
    "papermill": {
     "duration": 0.279679,
     "end_time": "2022-12-04T05:45:35.029117",
     "exception": false,
     "start_time": "2022-12-04T05:45:34.749438",
     "status": "completed"
    },
    "tags": []
   },
   "outputs": [
    {
     "name": "stdout",
     "output_type": "stream",
     "text": [
      "Training set has 76 samples.\n",
      "Testing set has 20 samples.\n",
      "\n",
      "RandomForestClassifier(random_state=3)\n",
      "prediction_time: 0.012136459350585938\n",
      "fb Score: 0.9523809523809523\n",
      "\n",
      "DecisionTreeClassifier(random_state=3)\n",
      "prediction_time: 0.001392364501953125\n",
      "fb Score: 0.9259259259259258\n",
      "\n",
      "AdaBoostClassifier(random_state=3)\n",
      "prediction_time: 0.009038448333740234\n",
      "fb Score: 0.9259259259259258\n",
      "\n"
     ]
    }
   ],
   "source": [
    "X_train, X_test, y_train, y_test=predictmodels(scale_under,y_under)"
   ]
  },
  {
   "cell_type": "code",
   "execution_count": 37,
   "id": "a864567f",
   "metadata": {
    "execution": {
     "iopub.execute_input": "2022-12-04T05:45:35.073157Z",
     "iopub.status.busy": "2022-12-04T05:45:35.072735Z",
     "iopub.status.idle": "2022-12-04T05:45:43.253271Z",
     "shell.execute_reply": "2022-12-04T05:45:43.252379Z"
    },
    "id": "MBKuRT63ETD5",
    "outputId": "c6b21e5a-e9b3-4f8f-8336-e2bff85f64e7",
    "papermill": {
     "duration": 8.205792,
     "end_time": "2022-12-04T05:45:43.256372",
     "exception": false,
     "start_time": "2022-12-04T05:45:35.050580",
     "status": "completed"
    },
    "tags": []
   },
   "outputs": [
    {
     "name": "stdout",
     "output_type": "stream",
     "text": [
      "RandomForestClassifier(random_state=3) before Optimization: 0.9523809523809523\n",
      "RandomForestClassifier(random_state=3) after Optimization: 0.9523809523809523\n",
      "{'min_samples_leaf': 3, 'n_estimators': 150}\n"
     ]
    },
    {
     "data": {
      "text/plain": [
       "GridSearchCV(estimator=RandomForestClassifier(random_state=3),\n",
       "             param_grid={'min_samples_leaf': [1, 2, 3],\n",
       "                         'n_estimators': [80, 120, 150]},\n",
       "             scoring=make_scorer(fbeta_score, beta=0.1))"
      ]
     },
     "execution_count": 37,
     "metadata": {},
     "output_type": "execute_result"
    }
   ],
   "source": [
    "Gridsrch(RandomForestClassifier(random_state=3),1)"
   ]
  },
  {
   "cell_type": "markdown",
   "id": "c2082af4",
   "metadata": {
    "id": "VxYKi0eAFEb8",
    "papermill": {
     "duration": 0.024272,
     "end_time": "2022-12-04T05:45:43.307700",
     "exception": false,
     "start_time": "2022-12-04T05:45:43.283428",
     "status": "completed"
    },
    "tags": []
   },
   "source": [
    "highest fbeta Score using Scale Undersampling: 0.9782608695652175"
   ]
  },
  {
   "cell_type": "code",
   "execution_count": 38,
   "id": "eaab899e",
   "metadata": {
    "execution": {
     "iopub.execute_input": "2022-12-04T05:45:43.358167Z",
     "iopub.status.busy": "2022-12-04T05:45:43.357495Z",
     "iopub.status.idle": "2022-12-04T05:45:43.372646Z",
     "shell.execute_reply": "2022-12-04T05:45:43.371532Z"
    },
    "id": "8XUrOdHCEc-d",
    "outputId": "23f0250d-4e2d-40f5-98be-afac168e31aa",
    "papermill": {
     "duration": 0.041661,
     "end_time": "2022-12-04T05:45:43.374989",
     "exception": false,
     "start_time": "2022-12-04T05:45:43.333328",
     "status": "completed"
    },
    "tags": []
   },
   "outputs": [
    {
     "data": {
      "text/html": [
       "<div>\n",
       "<style scoped>\n",
       "    .dataframe tbody tr th:only-of-type {\n",
       "        vertical-align: middle;\n",
       "    }\n",
       "\n",
       "    .dataframe tbody tr th {\n",
       "        vertical-align: top;\n",
       "    }\n",
       "\n",
       "    .dataframe thead th {\n",
       "        text-align: right;\n",
       "    }\n",
       "</style>\n",
       "<table border=\"1\" class=\"dataframe\">\n",
       "  <thead>\n",
       "    <tr style=\"text-align: right;\">\n",
       "      <th></th>\n",
       "      <th>Model</th>\n",
       "      <th>fb-Score</th>\n",
       "    </tr>\n",
       "  </thead>\n",
       "  <tbody>\n",
       "    <tr>\n",
       "      <th>1</th>\n",
       "      <td>Oversampling</td>\n",
       "      <td>0.984252</td>\n",
       "    </tr>\n",
       "    <tr>\n",
       "      <th>2</th>\n",
       "      <td>Undersampling</td>\n",
       "      <td>0.978261</td>\n",
       "    </tr>\n",
       "    <tr>\n",
       "      <th>0</th>\n",
       "      <td>SMOTE</td>\n",
       "      <td>0.954198</td>\n",
       "    </tr>\n",
       "  </tbody>\n",
       "</table>\n",
       "</div>"
      ],
      "text/plain": [
       "           Model  fb-Score\n",
       "1   Oversampling  0.984252\n",
       "2  Undersampling  0.978261\n",
       "0          SMOTE  0.954198"
      ]
     },
     "execution_count": 38,
     "metadata": {},
     "output_type": "execute_result"
    }
   ],
   "source": [
    "results = pd.DataFrame()\n",
    "results['Model']=['SMOTE','Oversampling','Undersampling']\n",
    "results['fb-Score']=[0.9541984732824427,0.9842519685039369,0.9782608695652175]\n",
    "results.sort_values(by='fb-Score',ascending=False)"
   ]
  },
  {
   "cell_type": "code",
   "execution_count": 39,
   "id": "053e4542",
   "metadata": {
    "execution": {
     "iopub.execute_input": "2022-12-04T05:45:43.418788Z",
     "iopub.status.busy": "2022-12-04T05:45:43.418090Z",
     "iopub.status.idle": "2022-12-04T05:45:43.713570Z",
     "shell.execute_reply": "2022-12-04T05:45:43.712171Z"
    },
    "id": "WRsGRyxOFYbn",
    "outputId": "3c0d1913-38f7-4d56-abc5-39793a9e055f",
    "papermill": {
     "duration": 0.320665,
     "end_time": "2022-12-04T05:45:43.716416",
     "exception": false,
     "start_time": "2022-12-04T05:45:43.395751",
     "status": "completed"
    },
    "tags": []
   },
   "outputs": [
    {
     "name": "stdout",
     "output_type": "stream",
     "text": [
      "Training set has 235 samples.\n",
      "Testing set has 59 samples.\n",
      "\n",
      "RandomForestClassifier(random_state=3)\n",
      "prediction_time: 0.012654781341552734\n",
      "fb Score: 0.9842519685039369\n",
      "\n",
      "DecisionTreeClassifier(random_state=3)\n",
      "prediction_time: 0.0015108585357666016\n",
      "fb Score: 0.9663865546218487\n",
      "\n",
      "AdaBoostClassifier(random_state=3)\n",
      "prediction_time: 0.008324623107910156\n",
      "fb Score: 0.9842519685039369\n",
      "\n"
     ]
    }
   ],
   "source": [
    "X_train, X_test, y_train, y_test=predictmodels(X_over,y_over)"
   ]
  },
  {
   "cell_type": "markdown",
   "id": "780aea55",
   "metadata": {
    "id": "98kt8cLdHxc7",
    "papermill": {
     "duration": 0.021115,
     "end_time": "2022-12-04T05:45:43.758961",
     "exception": false,
     "start_time": "2022-12-04T05:45:43.737846",
     "status": "completed"
    },
    "tags": []
   },
   "source": [
    "Using ADA boost Classifier on non-scaled or normalized over sampled data"
   ]
  },
  {
   "cell_type": "code",
   "execution_count": 40,
   "id": "36ecf4b5",
   "metadata": {
    "execution": {
     "iopub.execute_input": "2022-12-04T05:45:43.803520Z",
     "iopub.status.busy": "2022-12-04T05:45:43.802296Z",
     "iopub.status.idle": "2022-12-04T05:46:09.977971Z",
     "shell.execute_reply": "2022-12-04T05:46:09.976591Z"
    },
    "id": "YQ1es0hOGxTl",
    "outputId": "bb59ca58-6f47-4011-8ecd-6841e8d0683e",
    "papermill": {
     "duration": 26.200799,
     "end_time": "2022-12-04T05:46:09.981021",
     "exception": false,
     "start_time": "2022-12-04T05:45:43.780222",
     "status": "completed"
    },
    "tags": []
   },
   "outputs": [
    {
     "name": "stdout",
     "output_type": "stream",
     "text": [
      "AdaBoostClassifier(random_state=3) before Optimization: 0.9842519685039369\n",
      "AdaBoostClassifier(random_state=3) after Optimization: 0.9923664122137406\n",
      "{'learning_rate': 1.2, 'n_estimators': 200}\n"
     ]
    }
   ],
   "source": [
    "best=Gridsrch(AdaBoostClassifier(random_state=3),2)"
   ]
  },
  {
   "cell_type": "markdown",
   "id": "fbcb3bad",
   "metadata": {
    "id": "P8zvNLTPb8QL",
    "papermill": {
     "duration": 0.021,
     "end_time": "2022-12-04T05:46:10.024052",
     "exception": false,
     "start_time": "2022-12-04T05:46:10.003052",
     "status": "completed"
    },
    "tags": []
   },
   "source": [
    "Highest FB score using ADA boost classifier on Over Sampled Data:0.9923664122137406"
   ]
  },
  {
   "cell_type": "code",
   "execution_count": 41,
   "id": "3075e62e",
   "metadata": {
    "execution": {
     "iopub.execute_input": "2022-12-04T05:46:10.068741Z",
     "iopub.status.busy": "2022-12-04T05:46:10.068356Z",
     "iopub.status.idle": "2022-12-04T05:46:10.073968Z",
     "shell.execute_reply": "2022-12-04T05:46:10.072360Z"
    },
    "id": "SOhV9vyQToAH",
    "papermill": {
     "duration": 0.030415,
     "end_time": "2022-12-04T05:46:10.076422",
     "exception": false,
     "start_time": "2022-12-04T05:46:10.046007",
     "status": "completed"
    },
    "tags": []
   },
   "outputs": [],
   "source": [
    "estimator=best.best_estimator_"
   ]
  },
  {
   "cell_type": "code",
   "execution_count": 42,
   "id": "6d1eb863",
   "metadata": {
    "execution": {
     "iopub.execute_input": "2022-12-04T05:46:10.120460Z",
     "iopub.status.busy": "2022-12-04T05:46:10.119810Z",
     "iopub.status.idle": "2022-12-04T05:46:10.156550Z",
     "shell.execute_reply": "2022-12-04T05:46:10.155402Z"
    },
    "id": "d6LJrWrrTB-x",
    "papermill": {
     "duration": 0.061641,
     "end_time": "2022-12-04T05:46:10.159170",
     "exception": false,
     "start_time": "2022-12-04T05:46:10.097529",
     "status": "completed"
    },
    "tags": []
   },
   "outputs": [],
   "source": [
    "preds=estimator.predict(X_test)"
   ]
  },
  {
   "cell_type": "code",
   "execution_count": 43,
   "id": "9796481f",
   "metadata": {
    "execution": {
     "iopub.execute_input": "2022-12-04T05:46:10.202900Z",
     "iopub.status.busy": "2022-12-04T05:46:10.202529Z",
     "iopub.status.idle": "2022-12-04T05:46:10.355736Z",
     "shell.execute_reply": "2022-12-04T05:46:10.354830Z"
    },
    "id": "IgV7hH0gT-zw",
    "outputId": "d990ad01-9d01-4d6c-cf6b-7832780d4f0e",
    "papermill": {
     "duration": 0.177619,
     "end_time": "2022-12-04T05:46:10.357891",
     "exception": false,
     "start_time": "2022-12-04T05:46:10.180272",
     "status": "completed"
    },
    "tags": []
   },
   "outputs": [
    {
     "data": {
      "text/plain": [
       "<matplotlib.collections.PathCollection at 0x7f829cac3750>"
      ]
     },
     "execution_count": 43,
     "metadata": {},
     "output_type": "execute_result"
    },
    {
     "data": {
      "image/png": "[encoded data removed]",
      "text/plain": [
       "<Figure size 432x288 with 1 Axes>"
      ]
     },
     "metadata": {
      "needs_background": "light"
     },
     "output_type": "display_data"
    }
   ],
   "source": [
    "plt.scatter(x=preds,y=y_test)"
   ]
  },
  {
   "cell_type": "code",
   "execution_count": 44,
   "id": "ae7adb4f",
   "metadata": {
    "execution": {
     "iopub.execute_input": "2022-12-04T05:46:10.402515Z",
     "iopub.status.busy": "2022-12-04T05:46:10.402082Z",
     "iopub.status.idle": "2022-12-04T05:46:10.416126Z",
     "shell.execute_reply": "2022-12-04T05:46:10.415155Z"
    },
    "id": "TkYLYFdqUE82",
    "outputId": "d9d84a81-d6f7-4dd3-c639-3520c88e2a17",
    "papermill": {
     "duration": 0.039292,
     "end_time": "2022-12-04T05:46:10.418296",
     "exception": false,
     "start_time": "2022-12-04T05:46:10.379004",
     "status": "completed"
    },
    "tags": []
   },
   "outputs": [
    {
     "data": {
      "text/html": [
       "<div>\n",
       "<style scoped>\n",
       "    .dataframe tbody tr th:only-of-type {\n",
       "        vertical-align: middle;\n",
       "    }\n",
       "\n",
       "    .dataframe tbody tr th {\n",
       "        vertical-align: top;\n",
       "    }\n",
       "\n",
       "    .dataframe thead th {\n",
       "        text-align: right;\n",
       "    }\n",
       "</style>\n",
       "<table border=\"1\" class=\"dataframe\">\n",
       "  <thead>\n",
       "    <tr style=\"text-align: right;\">\n",
       "      <th></th>\n",
       "      <th>Predictions</th>\n",
       "      <th>Targets</th>\n",
       "    </tr>\n",
       "  </thead>\n",
       "  <tbody>\n",
       "    <tr>\n",
       "      <th>30</th>\n",
       "      <td>0</td>\n",
       "      <td>1</td>\n",
       "    </tr>\n",
       "  </tbody>\n",
       "</table>\n",
       "</div>"
      ],
      "text/plain": [
       "    Predictions  Targets\n",
       "30            0        1"
      ]
     },
     "execution_count": 44,
     "metadata": {},
     "output_type": "execute_result"
    }
   ],
   "source": [
    "df_pf = pd.DataFrame(preds, columns=['Predictions'])\n",
    "df_pf['Targets'] = y_test.reset_index(drop=True)\n",
    "df_pf.loc[df_pf['Predictions']!=df_pf['Targets']]"
   ]
  },
  {
   "cell_type": "code",
   "execution_count": 45,
   "id": "d0afd0a0",
   "metadata": {
    "execution": {
     "iopub.execute_input": "2022-12-04T05:46:10.462378Z",
     "iopub.status.busy": "2022-12-04T05:46:10.461739Z",
     "iopub.status.idle": "2022-12-04T05:46:10.838158Z",
     "shell.execute_reply": "2022-12-04T05:46:10.836929Z"
    },
    "id": "uZWylNmnXHQ_",
    "outputId": "ca06309b-3da2-4382-dd07-a2d1c9a2777f",
    "papermill": {
     "duration": 0.401361,
     "end_time": "2022-12-04T05:46:10.840733",
     "exception": false,
     "start_time": "2022-12-04T05:46:10.439372",
     "status": "completed"
    },
    "tags": []
   },
   "outputs": [
    {
     "data": {
      "image/png": "[encoded data removed]",
      "text/plain": [
       "<Figure size 1080x576 with 2 Axes>"
      ]
     },
     "metadata": {},
     "output_type": "display_data"
    }
   ],
   "source": [
    "cm=confusion_matrix(y_test,preds)\n",
    "sns.set(rc = {'figure.figsize':(15,8)})\n",
    "ax = sns.heatmap(cm, annot=True, cmap='Blues')\n",
    "ax.set_title('Seaborn Confusion Matrix with labels\\n\\n');\n",
    "ax.set_xlabel('\\nPredicted Values')\n",
    "ax.set_ylabel('Actual Values ');\n",
    "ax.xaxis.set_ticklabels(['False','True'])\n",
    "ax.yaxis.set_ticklabels(['False','True'])\n",
    "plt.show()"
   ]
  }
 ],
 "metadata": {
  "kernelspec": {
   "display_name": "Python 3",
   "language": "python",
   "name": "python3"
  },
  "language_info": {
   "codemirror_mode": {
    "name": "ipython",
    "version": 3
   },
   "file_extension": ".py",
   "mimetype": "text/x-python",
   "name": "python",
   "nbconvert_exporter": "python",
   "pygments_lexer": "ipython3",
   "version": "3.7.12"
  },
  "papermill": {
   "default_parameters": {},
   "duration": 72.38125,
   "end_time": "2022-12-04T05:46:11.686837",
   "environment_variables": {},
   "exception": null,
   "input_path": "__notebook__.ipynb",
   "output_path": "__notebook__.ipynb",
   "parameters": {},
   "start_time": "2022-12-04T05:44:59.305587",
   "version": "2.3.4"
  }
 },
 "nbformat": 4,
 "nbformat_minor": 5
}
