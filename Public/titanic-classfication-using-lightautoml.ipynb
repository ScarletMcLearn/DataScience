{
 "cells": [
  {
   "cell_type": "code",
   "execution_count": 1,
   "id": "invalid-maldives",
   "metadata": {
    "_cell_guid": "b1076dfc-b9ad-4769-8c92-a6c4dae69d19",
    "_kg_hide-output": true,
    "_uuid": "8f2839f25d086af736a60e9eeb907d3b93b6e0e5",
    "execution": {
     "iopub.execute_input": "2024-11-16T20:00:39.492548Z",
     "iopub.status.busy": "2024-11-16T20:00:39.491706Z",
     "iopub.status.idle": "2024-11-16T20:01:08.696599Z",
     "shell.execute_reply": "2024-11-16T20:01:08.695336Z"
    },
    "papermill": {
     "duration": 29.220524,
     "end_time": "2024-11-16T20:01:08.696859",
     "exception": false,
     "start_time": "2024-11-16T20:00:39.476335",
     "status": "completed"
    },
    "tags": []
   },
   "outputs": [
    {
     "name": "stdout",
     "output_type": "stream",
     "text": [
      "Collecting lightautoml\r\n",
      "  Downloading LightAutoML-0.3.7.3-py3-none-any.whl (319 kB)\r\n",
      "\u001b[K     |████████████████████████████████| 319 kB 6.8 MB/s \r\n",
      "\u001b[?25hCollecting catboost>=0.26.1\r\n",
      "  Downloading catboost-1.2.7-cp37-cp37m-manylinux2014_x86_64.whl (98.8 MB)\r\n",
      "\u001b[K     |████████████████████████████████| 98.8 MB 74 kB/s \r\n",
      "\u001b[?25hCollecting json2html\r\n",
      "  Downloading json2html-1.3.0.tar.gz (7.0 kB)\r\n",
      "Requirement already satisfied: networkx in /opt/conda/lib/python3.7/site-packages (from lightautoml) (2.5)\r\n",
      "Requirement already satisfied: lightgbm<=3.2.1,>=2.3 in /opt/conda/lib/python3.7/site-packages (from lightautoml) (3.1.1)\r\n",
      "Requirement already satisfied: tqdm in /opt/conda/lib/python3.7/site-packages (from lightautoml) (4.56.2)\r\n",
      "Requirement already satisfied: torchvision in /opt/conda/lib/python3.7/site-packages (from lightautoml) (0.8.1)\r\n",
      "Requirement already satisfied: optuna in /opt/conda/lib/python3.7/site-packages (from lightautoml) (2.6.0)\r\n",
      "Collecting autowoe>=1.2\r\n",
      "  Downloading AutoWoE-1.3.2-py3-none-any.whl (215 kB)\r\n",
      "\u001b[K     |████████████████████████████████| 215 kB 42.4 MB/s \r\n",
      "\u001b[?25hRequirement already satisfied: jinja2 in /opt/conda/lib/python3.7/site-packages (from lightautoml) (2.11.3)\r\n",
      "Collecting poetry-core<2.0.0,>=1.0.0\r\n",
      "  Downloading poetry_core-1.6.1-py3-none-any.whl (450 kB)\r\n",
      "\u001b[K     |████████████████████████████████| 450 kB 47.7 MB/s \r\n",
      "\u001b[?25hRequirement already satisfied: torch<1.9 in /opt/conda/lib/python3.7/site-packages (from lightautoml) (1.7.0)\r\n",
      "Requirement already satisfied: holidays in /opt/conda/lib/python3.7/site-packages (from lightautoml) (0.10.5.2)\r\n",
      "Requirement already satisfied: seaborn in /opt/conda/lib/python3.7/site-packages (from lightautoml) (0.11.1)\r\n",
      "Requirement already satisfied: cmaes in /opt/conda/lib/python3.7/site-packages (from lightautoml) (0.8.2)\r\n",
      "Collecting importlib-metadata<2.0,>=1.0\r\n",
      "  Downloading importlib_metadata-1.7.0-py2.py3-none-any.whl (31 kB)\r\n",
      "Requirement already satisfied: pyyaml in /opt/conda/lib/python3.7/site-packages (from lightautoml) (5.3.1)\r\n",
      "Requirement already satisfied: scikit-learn>=0.22 in /opt/conda/lib/python3.7/site-packages (from lightautoml) (0.24.1)\r\n",
      "Requirement already satisfied: joblib in /opt/conda/lib/python3.7/site-packages (from lightautoml) (1.0.1)\r\n",
      "Requirement already satisfied: pandas<=1.3.5 in /opt/conda/lib/python3.7/site-packages (from lightautoml) (1.2.2)\r\n",
      "Requirement already satisfied: scipy in /opt/conda/lib/python3.7/site-packages (from autowoe>=1.2->lightautoml) (1.5.4)\r\n",
      "Requirement already satisfied: pytest in /opt/conda/lib/python3.7/site-packages (from autowoe>=1.2->lightautoml) (6.2.2)\r\n",
      "Collecting sphinx\r\n",
      "  Downloading sphinx-5.3.0-py3-none-any.whl (3.2 MB)\r\n",
      "\u001b[K     |████████████████████████████████| 3.2 MB 30.9 MB/s \r\n",
      "\u001b[?25hRequirement already satisfied: sphinx-rtd-theme in /opt/conda/lib/python3.7/site-packages (from autowoe>=1.2->lightautoml) (0.2.4)\r\n",
      "Requirement already satisfied: pytz in /opt/conda/lib/python3.7/site-packages (from autowoe>=1.2->lightautoml) (2021.1)\r\n",
      "Collecting tqdm\r\n",
      "  Downloading tqdm-4.67.0-py3-none-any.whl (78 kB)\r\n",
      "\u001b[K     |████████████████████████████████| 78 kB 4.9 MB/s \r\n",
      "\u001b[?25hCollecting StrEnum<0.5.0,>=0.4.7\r\n",
      "  Downloading StrEnum-0.4.15-py3-none-any.whl (8.9 kB)\r\n",
      "Requirement already satisfied: matplotlib in /opt/conda/lib/python3.7/site-packages (from autowoe>=1.2->lightautoml) (3.4.0)\r\n",
      "Requirement already satisfied: numpy in /opt/conda/lib/python3.7/site-packages (from autowoe>=1.2->lightautoml) (1.19.5)\r\n",
      "Requirement already satisfied: six in /opt/conda/lib/python3.7/site-packages (from catboost>=0.26.1->lightautoml) (1.15.0)\r\n",
      "Requirement already satisfied: plotly in /opt/conda/lib/python3.7/site-packages (from catboost>=0.26.1->lightautoml) (4.14.3)\r\n",
      "Requirement already satisfied: graphviz in /opt/conda/lib/python3.7/site-packages (from catboost>=0.26.1->lightautoml) (0.8.4)\r\n",
      "Requirement already satisfied: zipp>=0.5 in /opt/conda/lib/python3.7/site-packages (from importlib-metadata<2.0,>=1.0->lightautoml) (3.4.0)\r\n",
      "Requirement already satisfied: wheel in /opt/conda/lib/python3.7/site-packages (from lightgbm<=3.2.1,>=2.3->lightautoml) (0.36.2)\r\n",
      "Requirement already satisfied: python-dateutil>=2.7.3 in /opt/conda/lib/python3.7/site-packages (from pandas<=1.3.5->lightautoml) (2.8.1)\r\n",
      "Requirement already satisfied: threadpoolctl>=2.0.0 in /opt/conda/lib/python3.7/site-packages (from scikit-learn>=0.22->lightautoml) (2.1.0)\r\n",
      "Requirement already satisfied: future in /opt/conda/lib/python3.7/site-packages (from torch<1.9->lightautoml) (0.18.2)\r\n",
      "Requirement already satisfied: typing_extensions in /opt/conda/lib/python3.7/site-packages (from torch<1.9->lightautoml) (3.7.4.3)\r\n",
      "Requirement already satisfied: dataclasses in /opt/conda/lib/python3.7/site-packages (from torch<1.9->lightautoml) (0.6)\r\n",
      "Requirement already satisfied: convertdate>=2.3.0 in /opt/conda/lib/python3.7/site-packages (from holidays->lightautoml) (2.3.2)\r\n",
      "Requirement already satisfied: korean-lunar-calendar in /opt/conda/lib/python3.7/site-packages (from holidays->lightautoml) (0.2.1)\r\n",
      "Requirement already satisfied: hijri-converter in /opt/conda/lib/python3.7/site-packages (from holidays->lightautoml) (2.1.1)\r\n",
      "Requirement already satisfied: pymeeus<=1,>=0.3.13 in /opt/conda/lib/python3.7/site-packages (from convertdate>=2.3.0->holidays->lightautoml) (0.5.11)\r\n",
      "Requirement already satisfied: MarkupSafe>=0.23 in /opt/conda/lib/python3.7/site-packages (from jinja2->lightautoml) (1.1.1)\r\n",
      "Requirement already satisfied: kiwisolver>=1.0.1 in /opt/conda/lib/python3.7/site-packages (from matplotlib->autowoe>=1.2->lightautoml) (1.3.1)\r\n",
      "Requirement already satisfied: cycler>=0.10 in /opt/conda/lib/python3.7/site-packages (from matplotlib->autowoe>=1.2->lightautoml) (0.10.0)\r\n",
      "Requirement already satisfied: pyparsing>=2.2.1 in /opt/conda/lib/python3.7/site-packages (from matplotlib->autowoe>=1.2->lightautoml) (2.4.7)\r\n",
      "Requirement already satisfied: pillow>=6.2.0 in /opt/conda/lib/python3.7/site-packages (from matplotlib->autowoe>=1.2->lightautoml) (7.2.0)\r\n",
      "Requirement already satisfied: decorator>=4.3.0 in /opt/conda/lib/python3.7/site-packages (from networkx->lightautoml) (4.4.2)\r\n",
      "Requirement already satisfied: cliff in /opt/conda/lib/python3.7/site-packages (from optuna->lightautoml) (3.7.0)\r\n",
      "Requirement already satisfied: alembic in /opt/conda/lib/python3.7/site-packages (from optuna->lightautoml) (1.5.8)\r\n",
      "Requirement already satisfied: colorlog in /opt/conda/lib/python3.7/site-packages (from optuna->lightautoml) (4.8.0)\r\n",
      "Requirement already satisfied: sqlalchemy>=1.1.0 in /opt/conda/lib/python3.7/site-packages (from optuna->lightautoml) (1.3.23)\r\n",
      "Requirement already satisfied: packaging>=20.0 in /opt/conda/lib/python3.7/site-packages (from optuna->lightautoml) (20.9)\r\n",
      "Requirement already satisfied: python-editor>=0.3 in /opt/conda/lib/python3.7/site-packages (from alembic->optuna->lightautoml) (1.0.4)\r\n",
      "Requirement already satisfied: Mako in /opt/conda/lib/python3.7/site-packages (from alembic->optuna->lightautoml) (1.1.4)\r\n",
      "Requirement already satisfied: pbr!=2.1.0,>=2.0.0 in /opt/conda/lib/python3.7/site-packages (from cliff->optuna->lightautoml) (5.5.1)\r\n",
      "Requirement already satisfied: PrettyTable>=0.7.2 in /opt/conda/lib/python3.7/site-packages (from cliff->optuna->lightautoml) (2.0.0)\r\n",
      "Requirement already satisfied: stevedore>=2.0.1 in /opt/conda/lib/python3.7/site-packages (from cliff->optuna->lightautoml) (3.3.0)\r\n",
      "Requirement already satisfied: cmd2>=1.0.0 in /opt/conda/lib/python3.7/site-packages (from cliff->optuna->lightautoml) (1.5.0)\r\n",
      "Requirement already satisfied: wcwidth>=0.1.7 in /opt/conda/lib/python3.7/site-packages (from cmd2>=1.0.0->cliff->optuna->lightautoml) (0.2.5)\r\n",
      "Requirement already satisfied: colorama>=0.3.7 in /opt/conda/lib/python3.7/site-packages (from cmd2>=1.0.0->cliff->optuna->lightautoml) (0.4.4)\r\n",
      "Requirement already satisfied: attrs>=16.3.0 in /opt/conda/lib/python3.7/site-packages (from cmd2>=1.0.0->cliff->optuna->lightautoml) (20.3.0)\r\n",
      "Requirement already satisfied: pyperclip>=1.6 in /opt/conda/lib/python3.7/site-packages (from cmd2>=1.0.0->cliff->optuna->lightautoml) (1.8.2)\r\n",
      "Requirement already satisfied: setuptools in /opt/conda/lib/python3.7/site-packages (from PrettyTable>=0.7.2->cliff->optuna->lightautoml) (49.6.0.post20210108)\r\n",
      "Requirement already satisfied: retrying>=1.3.3 in /opt/conda/lib/python3.7/site-packages (from plotly->catboost>=0.26.1->lightautoml) (1.3.3)\r\n",
      "Requirement already satisfied: pluggy<1.0.0a1,>=0.12 in /opt/conda/lib/python3.7/site-packages (from pytest->autowoe>=1.2->lightautoml) (0.13.1)\r\n",
      "Requirement already satisfied: toml in /opt/conda/lib/python3.7/site-packages (from pytest->autowoe>=1.2->lightautoml) (0.10.2)\r\n",
      "Requirement already satisfied: iniconfig in /opt/conda/lib/python3.7/site-packages (from pytest->autowoe>=1.2->lightautoml) (1.1.1)\r\n",
      "Requirement already satisfied: py>=1.8.2 in /opt/conda/lib/python3.7/site-packages (from pytest->autowoe>=1.2->lightautoml) (1.10.0)\r\n",
      "Collecting sphinxcontrib-jsmath\r\n",
      "  Downloading sphinxcontrib_jsmath-1.0.1-py2.py3-none-any.whl (5.1 kB)\r\n",
      "Collecting sphinxcontrib-serializinghtml>=1.1.5\r\n",
      "  Downloading sphinxcontrib_serializinghtml-1.1.5-py2.py3-none-any.whl (94 kB)\r\n",
      "\u001b[K     |████████████████████████████████| 94 kB 1.9 MB/s \r\n",
      "\u001b[?25hCollecting snowballstemmer>=2.0\r\n",
      "  Downloading snowballstemmer-2.2.0-py2.py3-none-any.whl (93 kB)\r\n",
      "\u001b[K     |████████████████████████████████| 93 kB 952 kB/s \r\n",
      "\u001b[?25hCollecting imagesize>=1.3\r\n",
      "  Downloading imagesize-1.4.1-py2.py3-none-any.whl (8.8 kB)\r\n",
      "Requirement already satisfied: requests>=2.5.0 in /opt/conda/lib/python3.7/site-packages (from sphinx->autowoe>=1.2->lightautoml) (2.25.1)\r\n",
      "Collecting sphinxcontrib-htmlhelp>=2.0.0\r\n",
      "  Downloading sphinxcontrib_htmlhelp-2.0.0-py2.py3-none-any.whl (100 kB)\r\n",
      "\u001b[K     |████████████████████████████████| 100 kB 7.6 MB/s \r\n",
      "\u001b[?25hCollecting sphinx\r\n",
      "  Downloading sphinx-5.2.3-py3-none-any.whl (3.2 MB)\r\n",
      "\u001b[K     |████████████████████████████████| 3.2 MB 44.1 MB/s \r\n",
      "\u001b[?25h  Downloading sphinx-5.2.2-py3-none-any.whl (3.2 MB)\r\n",
      "\u001b[K     |████████████████████████████████| 3.2 MB 35.9 MB/s \r\n",
      "\u001b[?25h  Downloading sphinx-5.2.1-py3-none-any.whl (3.2 MB)\r\n",
      "\u001b[K     |████████████████████████████████| 3.2 MB 39.5 MB/s \r\n",
      "\u001b[?25h  Downloading sphinx-5.2.0.post0-py3-none-any.whl (3.2 MB)\r\n",
      "\u001b[K     |████████████████████████████████| 3.2 MB 53.6 MB/s \r\n",
      "\u001b[?25h  Downloading sphinx-5.2.0-py3-none-any.whl (3.2 MB)\r\n",
      "\u001b[K     |████████████████████████████████| 3.2 MB 46.9 MB/s \r\n",
      "\u001b[?25h  Downloading Sphinx-5.1.1-py3-none-any.whl (3.2 MB)\r\n",
      "\u001b[K     |████████████████████████████████| 3.2 MB 37.3 MB/s \r\n",
      "\u001b[?25h  Downloading Sphinx-5.1.0-py3-none-any.whl (3.2 MB)\r\n",
      "\u001b[K     |████████████████████████████████| 3.2 MB 48.1 MB/s \r\n",
      "\u001b[?25h  Downloading Sphinx-5.0.2-py3-none-any.whl (3.1 MB)\r\n",
      "\u001b[K     |████████████████████████████████| 3.1 MB 40.0 MB/s \r\n",
      "\u001b[?25h  Downloading Sphinx-5.0.1-py3-none-any.whl (3.1 MB)\r\n",
      "\u001b[K     |████████████████████████████████| 3.1 MB 39.6 MB/s \r\n",
      "\u001b[?25h  Downloading Sphinx-5.0.0-py3-none-any.whl (3.1 MB)\r\n",
      "\u001b[K     |████████████████████████████████| 3.1 MB 50.9 MB/s \r\n",
      "\u001b[?25h  Downloading Sphinx-4.5.0-py3-none-any.whl (3.1 MB)\r\n",
      "\u001b[K     |████████████████████████████████| 3.1 MB 30.3 MB/s \r\n",
      "\u001b[?25hRequirement already satisfied: docutils<0.18,>=0.14 in /opt/conda/lib/python3.7/site-packages (from sphinx->autowoe>=1.2->lightautoml) (0.16)\r\n",
      "Requirement already satisfied: Pygments>=2.0 in /opt/conda/lib/python3.7/site-packages (from sphinx->autowoe>=1.2->lightautoml) (2.8.0)\r\n",
      "  Downloading Sphinx-4.4.0-py3-none-any.whl (3.1 MB)\r\n",
      "\u001b[K     |████████████████████████████████| 3.1 MB 38.3 MB/s \r\n",
      "\u001b[?25h  Downloading Sphinx-4.3.2-py3-none-any.whl (3.1 MB)\r\n",
      "\u001b[K     |████████████████████████████████| 3.1 MB 41.9 MB/s \r\n",
      "\u001b[?25hRequirement already satisfied: babel>=1.3 in /opt/conda/lib/python3.7/site-packages (from sphinx->autowoe>=1.2->lightautoml) (2.9.0)\r\n",
      "Collecting sphinxcontrib-devhelp\r\n",
      "  Downloading sphinxcontrib_devhelp-1.0.2-py2.py3-none-any.whl (84 kB)\r\n",
      "\u001b[K     |████████████████████████████████| 84 kB 2.8 MB/s \r\n",
      "\u001b[?25hCollecting alabaster<0.8,>=0.7\r\n",
      "  Downloading alabaster-0.7.13-py3-none-any.whl (13 kB)\r\n",
      "Collecting sphinxcontrib-applehelp\r\n",
      "  Downloading sphinxcontrib_applehelp-1.0.2-py2.py3-none-any.whl (121 kB)\r\n",
      "\u001b[K     |████████████████████████████████| 121 kB 46.5 MB/s \r\n",
      "\u001b[?25hCollecting sphinxcontrib-qthelp\r\n",
      "  Downloading sphinxcontrib_qthelp-1.0.3-py2.py3-none-any.whl (90 kB)\r\n",
      "\u001b[K     |████████████████████████████████| 90 kB 7.8 MB/s \r\n",
      "\u001b[?25hRequirement already satisfied: idna<3,>=2.5 in /opt/conda/lib/python3.7/site-packages (from requests>=2.5.0->sphinx->autowoe>=1.2->lightautoml) (2.10)\r\n",
      "Requirement already satisfied: certifi>=2017.4.17 in /opt/conda/lib/python3.7/site-packages (from requests>=2.5.0->sphinx->autowoe>=1.2->lightautoml) (2020.12.5)\r\n",
      "Requirement already satisfied: chardet<5,>=3.0.2 in /opt/conda/lib/python3.7/site-packages (from requests>=2.5.0->sphinx->autowoe>=1.2->lightautoml) (3.0.4)\r\n",
      "Requirement already satisfied: urllib3<1.27,>=1.21.1 in /opt/conda/lib/python3.7/site-packages (from requests>=2.5.0->sphinx->autowoe>=1.2->lightautoml) (1.26.3)\r\n",
      "Building wheels for collected packages: json2html\r\n",
      "  Building wheel for json2html (setup.py) ... \u001b[?25l-\b \b\\\b \bdone\r\n",
      "\u001b[?25h  Created wheel for json2html: filename=json2html-1.3.0-py3-none-any.whl size=7595 sha256=b5d7d5d6290a8b29b66321ae0c6d35a15898ba30775482ee59e0f35c87a5dade\r\n",
      "  Stored in directory: /root/.cache/pip/wheels/e5/99/37/e1839a5ad733e0d6abb7e0419fd913e8926ddf96408239ce01\r\n",
      "Successfully built json2html\r\n",
      "Installing collected packages: importlib-metadata, sphinxcontrib-serializinghtml, sphinxcontrib-qthelp, sphinxcontrib-jsmath, sphinxcontrib-htmlhelp, sphinxcontrib-devhelp, sphinxcontrib-applehelp, snowballstemmer, imagesize, alabaster, tqdm, StrEnum, sphinx, poetry-core, json2html, catboost, autowoe, lightautoml\r\n",
      "  Attempting uninstall: importlib-metadata\r\n",
      "    Found existing installation: importlib-metadata 3.4.0\r\n",
      "    Uninstalling importlib-metadata-3.4.0:\r\n",
      "      Successfully uninstalled importlib-metadata-3.4.0\r\n",
      "  Attempting uninstall: tqdm\r\n",
      "    Found existing installation: tqdm 4.56.2\r\n",
      "    Uninstalling tqdm-4.56.2:\r\n",
      "      Successfully uninstalled tqdm-4.56.2\r\n",
      "  Attempting uninstall: catboost\r\n",
      "    Found existing installation: catboost 0.25\r\n",
      "    Uninstalling catboost-0.25:\r\n",
      "      Successfully uninstalled catboost-0.25\r\n",
      "Successfully installed StrEnum-0.4.15 alabaster-0.7.13 autowoe-1.3.2 catboost-1.2.7 imagesize-1.4.1 importlib-metadata-1.7.0 json2html-1.3.0 lightautoml-0.3.7.3 poetry-core-1.6.1 snowballstemmer-2.2.0 sphinx-4.3.2 sphinxcontrib-applehelp-1.0.2 sphinxcontrib-devhelp-1.0.2 sphinxcontrib-htmlhelp-2.0.0 sphinxcontrib-jsmath-1.0.1 sphinxcontrib-qthelp-1.0.3 sphinxcontrib-serializinghtml-1.1.5 tqdm-4.67.0\r\n"
     ]
    }
   ],
   "source": [
    "!pip install -U lightautoml"
   ]
  },
  {
   "cell_type": "markdown",
   "id": "planned-transformation",
   "metadata": {
    "papermill": {
     "duration": 0.098979,
     "end_time": "2024-11-16T20:01:08.896134",
     "exception": false,
     "start_time": "2024-11-16T20:01:08.797155",
     "status": "completed"
    },
    "tags": []
   },
   "source": [
    "## Modeling"
   ]
  },
  {
   "cell_type": "code",
   "execution_count": 2,
   "id": "national-latter",
   "metadata": {
    "_kg_hide-output": true,
    "execution": {
     "iopub.execute_input": "2024-11-16T20:01:09.104680Z",
     "iopub.status.busy": "2024-11-16T20:01:09.103862Z",
     "iopub.status.idle": "2024-11-16T20:01:13.536261Z",
     "shell.execute_reply": "2024-11-16T20:01:13.534383Z"
    },
    "papermill": {
     "duration": 4.542362,
     "end_time": "2024-11-16T20:01:13.536659",
     "exception": true,
     "start_time": "2024-11-16T20:01:08.994297",
     "status": "failed"
    },
    "tags": []
   },
   "outputs": [
    {
     "data": {
      "text/html": [
       "<style type='text/css'>\n",
       ".datatable table.frame { margin-bottom: 0; }\n",
       ".datatable table.frame thead { border-bottom: none; }\n",
       ".datatable table.frame tr.coltypes td {  color: #FFFFFF;  line-height: 6px;  padding: 0 0.5em;}\n",
       ".datatable .bool    { background: #DDDD99; }\n",
       ".datatable .object  { background: #565656; }\n",
       ".datatable .int     { background: #5D9E5D; }\n",
       ".datatable .float   { background: #4040CC; }\n",
       ".datatable .str     { background: #CC4040; }\n",
       ".datatable .row_index {  background: var(--jp-border-color3);  border-right: 1px solid var(--jp-border-color0);  color: var(--jp-ui-font-color3);  font-size: 9px;}\n",
       ".datatable .frame tr.coltypes .row_index {  background: var(--jp-border-color0);}\n",
       ".datatable th:nth-child(2) { padding-left: 12px; }\n",
       ".datatable .hellipsis {  color: var(--jp-cell-editor-border-color);}\n",
       ".datatable .vellipsis {  background: var(--jp-layout-color0);  color: var(--jp-cell-editor-border-color);}\n",
       ".datatable .na {  color: var(--jp-cell-editor-border-color);  font-size: 80%;}\n",
       ".datatable .footer { font-size: 9px; }\n",
       ".datatable .frame_dimensions {  background: var(--jp-border-color3);  border-top: 1px solid var(--jp-border-color0);  color: var(--jp-ui-font-color3);  display: inline-block;  opacity: 0.6;  padding: 1px 10px 1px 5px;}\n",
       "</style>\n"
      ],
      "text/plain": [
       "<IPython.core.display.HTML object>"
      ]
     },
     "metadata": {},
     "output_type": "display_data"
    },
    {
     "ename": "ModuleNotFoundError",
     "evalue": "No module named 'lightautoml.utils.profiler'",
     "output_type": "error",
     "traceback": [
      "\u001b[0;31m---------------------------------------------------------------------------\u001b[0m",
      "\u001b[0;31mModuleNotFoundError\u001b[0m                       Traceback (most recent call last)",
      "\u001b[0;32m<ipython-input-2-429e4be7b77b>\u001b[0m in \u001b[0;36m<module>\u001b[0;34m\u001b[0m\n\u001b[1;32m      4\u001b[0m \u001b[0;32mfrom\u001b[0m \u001b[0mlightautoml\u001b[0m\u001b[0;34m.\u001b[0m\u001b[0mdataset\u001b[0m\u001b[0;34m.\u001b[0m\u001b[0mroles\u001b[0m \u001b[0;32mimport\u001b[0m \u001b[0mDatetimeRole\u001b[0m\u001b[0;34m\u001b[0m\u001b[0;34m\u001b[0m\u001b[0m\n\u001b[1;32m      5\u001b[0m \u001b[0;32mfrom\u001b[0m \u001b[0mlightautoml\u001b[0m\u001b[0;34m.\u001b[0m\u001b[0mtasks\u001b[0m \u001b[0;32mimport\u001b[0m \u001b[0mTask\u001b[0m\u001b[0;34m\u001b[0m\u001b[0;34m\u001b[0m\u001b[0m\n\u001b[0;32m----> 6\u001b[0;31m \u001b[0;32mfrom\u001b[0m \u001b[0mlightautoml\u001b[0m\u001b[0;34m.\u001b[0m\u001b[0mutils\u001b[0m\u001b[0;34m.\u001b[0m\u001b[0mprofiler\u001b[0m \u001b[0;32mimport\u001b[0m \u001b[0mProfiler\u001b[0m\u001b[0;34m\u001b[0m\u001b[0;34m\u001b[0m\u001b[0m\n\u001b[0m\u001b[1;32m      7\u001b[0m \u001b[0;34m\u001b[0m\u001b[0m\n\u001b[1;32m      8\u001b[0m \u001b[0mCPU_LIMIT\u001b[0m \u001b[0;34m=\u001b[0m \u001b[0;36m4\u001b[0m\u001b[0;34m\u001b[0m\u001b[0;34m\u001b[0m\u001b[0m\n",
      "\u001b[0;31mModuleNotFoundError\u001b[0m: No module named 'lightautoml.utils.profiler'"
     ]
    }
   ],
   "source": [
    "import pandas as pd\n",
    "\n",
    "from lightautoml.automl.presets.tabular_presets import TabularAutoML, TabularUtilizedAutoML\n",
    "from lightautoml.dataset.roles import DatetimeRole\n",
    "from lightautoml.tasks import Task\n",
    "from lightautoml.utils.profiler import Profiler\n",
    "\n",
    "CPU_LIMIT = 4\n",
    "TIMEOUT = 600\n",
    "\n",
    "train = pd.read_csv('../input/titanic/train.csv')\n",
    "test = pd.read_csv('../input/titanic/test.csv')\n",
    "submission = pd.read_csv('../input/titanic/gender_submission.csv')\n",
    "\n",
    "task = Task('binary',metric='accuracy')\n",
    "label = 'Survived'\n",
    "roles = {\n",
    "    'target': label,\n",
    "    'drop': ['PassengerId', 'Name','Ticket'],\n",
    "}\n",
    "\n",
    "automl = TabularAutoML(task=task, \n",
    "                       timeout=TIMEOUT,\n",
    "                       cpu_limit=CPU_LIMIT,\n",
    "                       reader_params={'n_jobs': CPU_LIMIT})\n",
    "automl.fit_predict(train,roles=roles)"
   ]
  },
  {
   "cell_type": "markdown",
   "id": "ethical-morris",
   "metadata": {
    "papermill": {
     "duration": null,
     "end_time": null,
     "exception": null,
     "start_time": null,
     "status": "pending"
    },
    "tags": []
   },
   "source": [
    "## Prediction"
   ]
  },
  {
   "cell_type": "code",
   "execution_count": null,
   "id": "considerable-somewhere",
   "metadata": {
    "_kg_hide-output": true,
    "papermill": {
     "duration": null,
     "end_time": null,
     "exception": null,
     "start_time": null,
     "status": "pending"
    },
    "tags": []
   },
   "outputs": [],
   "source": [
    "prediction = automl.predict(test)\n",
    "submission[label] = (prediction.data[:, 0]>0.5).astype(int)\n",
    "submission.to_csv('submission.csv.csv',index=False)\n",
    "submission"
   ]
  }
 ],
 "metadata": {
  "kaggle": {
   "accelerator": "none",
   "dataSources": [
    {
     "databundleVersionId": 26502,
     "sourceId": 3136,
     "sourceType": "competition"
    }
   ],
   "dockerImageVersionId": 30085,
   "isGpuEnabled": false,
   "isInternetEnabled": true,
   "language": "python",
   "sourceType": "notebook"
  },
  "kernelspec": {
   "display_name": "Python 3",
   "language": "python",
   "name": "python3"
  },
  "language_info": {
   "codemirror_mode": {
    "name": "ipython",
    "version": 3
   },
   "file_extension": ".py",
   "mimetype": "text/x-python",
   "name": "python",
   "nbconvert_exporter": "python",
   "pygments_lexer": "ipython3",
   "version": "3.7.9"
  },
  "papermill": {
   "default_parameters": {},
   "duration": 44.005726,
   "end_time": "2024-11-16T20:01:15.641202",
   "environment_variables": {},
   "exception": true,
   "input_path": "__notebook__.ipynb",
   "output_path": "__notebook__.ipynb",
   "parameters": {},
   "start_time": "2024-11-16T20:00:31.635476",
   "version": "2.3.2"
  }
 },
 "nbformat": 4,
 "nbformat_minor": 5
}
