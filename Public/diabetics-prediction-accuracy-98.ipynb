{
 "cells": [
  {
   "cell_type": "markdown",
   "id": "f8e41445",
   "metadata": {
    "papermill": {
     "duration": 0.016253,
     "end_time": "2024-10-17T18:03:25.439323",
     "exception": false,
     "start_time": "2024-10-17T18:03:25.423070",
     "status": "completed"
    },
    "tags": []
   },
   "source": [
    "# Early Diabetes Prediction using BlobCity AutoAI\n",
    "\n",
    "*This code is automatically generated using [BlobCity AutoAI](https://github.com/blobcity/autoai)*\n"
   ]
  },
  {
   "cell_type": "code",
   "execution_count": 1,
   "id": "0bb37c68",
   "metadata": {
    "execution": {
     "iopub.execute_input": "2024-10-17T18:03:25.484760Z",
     "iopub.status.busy": "2024-10-17T18:03:25.483869Z",
     "iopub.status.idle": "2024-10-17T18:03:27.014716Z",
     "shell.execute_reply": "2024-10-17T18:03:27.013754Z",
     "shell.execute_reply.started": "2021-12-07T11:15:13.480303Z"
    },
    "papermill": {
     "duration": 1.559666,
     "end_time": "2024-10-17T18:03:27.014917",
     "exception": false,
     "start_time": "2024-10-17T18:03:25.455251",
     "status": "completed"
    },
    "tags": []
   },
   "outputs": [],
   "source": [
    "# imports\n",
    "import numpy as np\n",
    "import pandas as pd\n",
    "import matplotlib.pyplot as plt\n",
    "import seaborn as ses\n",
    "import warnings\n",
    "from sklearn.model_selection import train_test_split\n",
    "from sklearn.preprocessing import LabelEncoder\n",
    "from sklearn.metrics import classification_report,plot_confusion_matrix\n",
    "warnings.filterwarnings('ignore')\n",
    "from sklearn.ensemble import RandomForestClassifier\n"
   ]
  },
  {
   "cell_type": "markdown",
   "id": "e05bd338",
   "metadata": {
    "papermill": {
     "duration": 0.014336,
     "end_time": "2024-10-17T18:03:27.044569",
     "exception": false,
     "start_time": "2024-10-17T18:03:27.030233",
     "status": "completed"
    },
    "tags": []
   },
   "source": [
    "### Data Fetch\n",
    " Pandas is an open-source, BSD-licensed library providing high-performance,easy-to-use data manipulation and data analysis tools."
   ]
  },
  {
   "cell_type": "code",
   "execution_count": 2,
   "id": "13556465",
   "metadata": {
    "execution": {
     "iopub.execute_input": "2024-10-17T18:03:27.080419Z",
     "iopub.status.busy": "2024-10-17T18:03:27.079231Z",
     "iopub.status.idle": "2024-10-17T18:03:27.116678Z",
     "shell.execute_reply": "2024-10-17T18:03:27.115924Z",
     "shell.execute_reply.started": "2021-12-07T11:15:13.507601Z"
    },
    "papermill": {
     "duration": 0.057689,
     "end_time": "2024-10-17T18:03:27.116850",
     "exception": false,
     "start_time": "2024-10-17T18:03:27.059161",
     "status": "completed"
    },
    "tags": []
   },
   "outputs": [
    {
     "data": {
      "text/html": [
       "<div>\n",
       "<style scoped>\n",
       "    .dataframe tbody tr th:only-of-type {\n",
       "        vertical-align: middle;\n",
       "    }\n",
       "\n",
       "    .dataframe tbody tr th {\n",
       "        vertical-align: top;\n",
       "    }\n",
       "\n",
       "    .dataframe thead th {\n",
       "        text-align: right;\n",
       "    }\n",
       "</style>\n",
       "<table border=\"1\" class=\"dataframe\">\n",
       "  <thead>\n",
       "    <tr style=\"text-align: right;\">\n",
       "      <th></th>\n",
       "      <th>age</th>\n",
       "      <th>gender</th>\n",
       "      <th>polyuria</th>\n",
       "      <th>polydipsia</th>\n",
       "      <th>sudden_weight_loss</th>\n",
       "      <th>weakness</th>\n",
       "      <th>polyphagia</th>\n",
       "      <th>genital_thrush</th>\n",
       "      <th>visual_blurring</th>\n",
       "      <th>itching</th>\n",
       "      <th>irritability</th>\n",
       "      <th>delayed_healing</th>\n",
       "      <th>partial_paresis</th>\n",
       "      <th>muscle_stiffness</th>\n",
       "      <th>alopecia</th>\n",
       "      <th>obesity</th>\n",
       "      <th>class</th>\n",
       "    </tr>\n",
       "  </thead>\n",
       "  <tbody>\n",
       "    <tr>\n",
       "      <th>0</th>\n",
       "      <td>40</td>\n",
       "      <td>Male</td>\n",
       "      <td>0</td>\n",
       "      <td>1</td>\n",
       "      <td>0</td>\n",
       "      <td>1</td>\n",
       "      <td>0</td>\n",
       "      <td>0</td>\n",
       "      <td>0</td>\n",
       "      <td>1</td>\n",
       "      <td>0</td>\n",
       "      <td>1</td>\n",
       "      <td>0</td>\n",
       "      <td>1</td>\n",
       "      <td>1</td>\n",
       "      <td>1</td>\n",
       "      <td>1</td>\n",
       "    </tr>\n",
       "    <tr>\n",
       "      <th>1</th>\n",
       "      <td>58</td>\n",
       "      <td>Male</td>\n",
       "      <td>0</td>\n",
       "      <td>0</td>\n",
       "      <td>0</td>\n",
       "      <td>1</td>\n",
       "      <td>0</td>\n",
       "      <td>0</td>\n",
       "      <td>1</td>\n",
       "      <td>0</td>\n",
       "      <td>0</td>\n",
       "      <td>0</td>\n",
       "      <td>1</td>\n",
       "      <td>0</td>\n",
       "      <td>1</td>\n",
       "      <td>0</td>\n",
       "      <td>1</td>\n",
       "    </tr>\n",
       "    <tr>\n",
       "      <th>2</th>\n",
       "      <td>41</td>\n",
       "      <td>Male</td>\n",
       "      <td>1</td>\n",
       "      <td>0</td>\n",
       "      <td>0</td>\n",
       "      <td>1</td>\n",
       "      <td>1</td>\n",
       "      <td>0</td>\n",
       "      <td>0</td>\n",
       "      <td>1</td>\n",
       "      <td>0</td>\n",
       "      <td>1</td>\n",
       "      <td>0</td>\n",
       "      <td>1</td>\n",
       "      <td>1</td>\n",
       "      <td>0</td>\n",
       "      <td>1</td>\n",
       "    </tr>\n",
       "    <tr>\n",
       "      <th>3</th>\n",
       "      <td>45</td>\n",
       "      <td>Male</td>\n",
       "      <td>0</td>\n",
       "      <td>0</td>\n",
       "      <td>1</td>\n",
       "      <td>1</td>\n",
       "      <td>1</td>\n",
       "      <td>1</td>\n",
       "      <td>0</td>\n",
       "      <td>1</td>\n",
       "      <td>0</td>\n",
       "      <td>1</td>\n",
       "      <td>0</td>\n",
       "      <td>0</td>\n",
       "      <td>0</td>\n",
       "      <td>0</td>\n",
       "      <td>1</td>\n",
       "    </tr>\n",
       "    <tr>\n",
       "      <th>4</th>\n",
       "      <td>60</td>\n",
       "      <td>Male</td>\n",
       "      <td>1</td>\n",
       "      <td>1</td>\n",
       "      <td>1</td>\n",
       "      <td>1</td>\n",
       "      <td>1</td>\n",
       "      <td>0</td>\n",
       "      <td>1</td>\n",
       "      <td>1</td>\n",
       "      <td>1</td>\n",
       "      <td>1</td>\n",
       "      <td>1</td>\n",
       "      <td>1</td>\n",
       "      <td>1</td>\n",
       "      <td>1</td>\n",
       "      <td>1</td>\n",
       "    </tr>\n",
       "  </tbody>\n",
       "</table>\n",
       "</div>"
      ],
      "text/plain": [
       "   age gender  polyuria  polydipsia  sudden_weight_loss  weakness  polyphagia  \\\n",
       "0   40   Male         0           1                   0         1           0   \n",
       "1   58   Male         0           0                   0         1           0   \n",
       "2   41   Male         1           0                   0         1           1   \n",
       "3   45   Male         0           0                   1         1           1   \n",
       "4   60   Male         1           1                   1         1           1   \n",
       "\n",
       "   genital_thrush  visual_blurring  itching  irritability  delayed_healing  \\\n",
       "0               0                0        1             0                1   \n",
       "1               0                1        0             0                0   \n",
       "2               0                0        1             0                1   \n",
       "3               1                0        1             0                1   \n",
       "4               0                1        1             1                1   \n",
       "\n",
       "   partial_paresis  muscle_stiffness  alopecia  obesity  class  \n",
       "0                0                 1         1        1      1  \n",
       "1                1                 0         1        0      1  \n",
       "2                0                 1         1        0      1  \n",
       "3                0                 0         0        0      1  \n",
       "4                1                 1         1        1      1  "
      ]
     },
     "execution_count": 2,
     "metadata": {},
     "output_type": "execute_result"
    }
   ],
   "source": [
    "# Data Fetch\n",
    "file='/kaggle/input/early-diabetes-classification/diabetes_data.csv'\n",
    "df=pd.read_csv(file, delimiter=';')\n",
    "df.head()\n"
   ]
  },
  {
   "cell_type": "markdown",
   "id": "0a2f82fd",
   "metadata": {
    "papermill": {
     "duration": 0.01496,
     "end_time": "2024-10-17T18:03:27.148315",
     "exception": false,
     "start_time": "2024-10-17T18:03:27.133355",
     "status": "completed"
    },
    "tags": []
   },
   "source": [
    "### Feature Selection\n",
    " It is the process of reducing the number of input variables when developing a predictive model.Used to reduce the number of input variables to reduce the computational cost of modelling and,in some cases,to improve the performance of the model."
   ]
  },
  {
   "cell_type": "code",
   "execution_count": 3,
   "id": "878716c6",
   "metadata": {
    "execution": {
     "iopub.execute_input": "2024-10-17T18:03:27.194131Z",
     "iopub.status.busy": "2024-10-17T18:03:27.193304Z",
     "iopub.status.idle": "2024-10-17T18:03:27.196805Z",
     "shell.execute_reply": "2024-10-17T18:03:27.196158Z",
     "shell.execute_reply.started": "2021-12-07T11:15:13.532339Z"
    },
    "papermill": {
     "duration": 0.033351,
     "end_time": "2024-10-17T18:03:27.196972",
     "exception": false,
     "start_time": "2024-10-17T18:03:27.163621",
     "status": "completed"
    },
    "tags": []
   },
   "outputs": [],
   "source": [
    "# Selected Columns\n",
    "features=['age', 'polyuria', 'polydipsia', 'sudden_weight_loss', 'weakness', 'polyphagia', 'genital_thrush', 'visual_blurring', 'irritability', 'partial_paresis', 'muscle_stiffness', 'alopecia', 'gender']\n",
    "target='class'\n",
    "# X & Y\n",
    "X=df[features]\n",
    "Y=df[target]\n"
   ]
  },
  {
   "cell_type": "markdown",
   "id": "cd8b4b14",
   "metadata": {
    "papermill": {
     "duration": 0.015599,
     "end_time": "2024-10-17T18:03:27.228208",
     "exception": false,
     "start_time": "2024-10-17T18:03:27.212609",
     "status": "completed"
    },
    "tags": []
   },
   "source": [
    "### Data Encoding\n",
    " Converting the string classes data in the datasets by encoding them to integer either using OneHotEncoding or LabelEncoding"
   ]
  },
  {
   "cell_type": "code",
   "execution_count": 4,
   "id": "7d5c8ac5",
   "metadata": {
    "execution": {
     "iopub.execute_input": "2024-10-17T18:03:27.272294Z",
     "iopub.status.busy": "2024-10-17T18:03:27.271444Z",
     "iopub.status.idle": "2024-10-17T18:03:27.276167Z",
     "shell.execute_reply": "2024-10-17T18:03:27.275382Z",
     "shell.execute_reply.started": "2021-12-07T11:15:13.542539Z"
    },
    "papermill": {
     "duration": 0.032735,
     "end_time": "2024-10-17T18:03:27.276337",
     "exception": false,
     "start_time": "2024-10-17T18:03:27.243602",
     "status": "completed"
    },
    "tags": []
   },
   "outputs": [],
   "source": [
    "# Handling AlphaNumeric Features\n",
    "X=pd.get_dummies(X)\n"
   ]
  },
  {
   "cell_type": "markdown",
   "id": "56eda7ad",
   "metadata": {
    "papermill": {
     "duration": 0.014933,
     "end_time": "2024-10-17T18:03:27.306665",
     "exception": false,
     "start_time": "2024-10-17T18:03:27.291732",
     "status": "completed"
    },
    "tags": []
   },
   "source": [
    "### Correlation Matrix\n",
    " In order to check the correlation between the features, we will plot a correlation matrix. It is effective in summarizing a large amount of data where the goal is to see patterns."
   ]
  },
  {
   "cell_type": "code",
   "execution_count": 5,
   "id": "9c4d2fe6",
   "metadata": {
    "execution": {
     "iopub.execute_input": "2024-10-17T18:03:27.348887Z",
     "iopub.status.busy": "2024-10-17T18:03:27.347733Z",
     "iopub.status.idle": "2024-10-17T18:03:28.347360Z",
     "shell.execute_reply": "2024-10-17T18:03:28.348057Z",
     "shell.execute_reply.started": "2021-12-07T11:15:13.560558Z"
    },
    "papermill": {
     "duration": 1.02654,
     "end_time": "2024-10-17T18:03:28.348288",
     "exception": false,
     "start_time": "2024-10-17T18:03:27.321748",
     "status": "completed"
    },
    "tags": []
   },
   "outputs": [
    {
     "data": {
      "image/png": "[encoded data removed]",
      "text/plain": [
       "<Figure size 1296x1296 with 2 Axes>"
      ]
     },
     "metadata": {
      "needs_background": "light"
     },
     "output_type": "display_data"
    }
   ],
   "source": [
    "f,ax = plt.subplots(figsize=(18, 18))\n",
    "matrix = np.triu(X.corr())\n",
    "ses.heatmap(X.corr(), annot=True, linewidths=.5, fmt= '.1f',ax=ax, mask=matrix)\n",
    "plt.show()\n"
   ]
  },
  {
   "cell_type": "markdown",
   "id": "1ab1c37b",
   "metadata": {
    "papermill": {
     "duration": 0.017831,
     "end_time": "2024-10-17T18:03:28.385439",
     "exception": false,
     "start_time": "2024-10-17T18:03:28.367608",
     "status": "completed"
    },
    "tags": []
   },
   "source": [
    "### Train & Test\n",
    " The train-test split is a procedure for evaluating the performance of an algorithm.The procedure involves taking a dataset and dividing it into two subsets.The first subset is utilized to fit/train the model.The second subset is used for prediction.The main motive is to estimate the performance of the model on new data."
   ]
  },
  {
   "cell_type": "code",
   "execution_count": 6,
   "id": "62ee7609",
   "metadata": {
    "execution": {
     "iopub.execute_input": "2024-10-17T18:03:28.431106Z",
     "iopub.status.busy": "2024-10-17T18:03:28.427340Z",
     "iopub.status.idle": "2024-10-17T18:03:28.434387Z",
     "shell.execute_reply": "2024-10-17T18:03:28.433556Z",
     "shell.execute_reply.started": "2021-12-07T11:15:14.399225Z"
    },
    "papermill": {
     "duration": 0.031058,
     "end_time": "2024-10-17T18:03:28.434583",
     "exception": false,
     "start_time": "2024-10-17T18:03:28.403525",
     "status": "completed"
    },
    "tags": []
   },
   "outputs": [],
   "source": [
    "# Data split for training and testing\n",
    "X_train,X_test,Y_train,Y_test=train_test_split(X,Y,test_size=0.2,random_state=123)\n"
   ]
  },
  {
   "cell_type": "markdown",
   "id": "92ab6e3b",
   "metadata": {
    "papermill": {
     "duration": 0.019182,
     "end_time": "2024-10-17T18:03:28.471975",
     "exception": false,
     "start_time": "2024-10-17T18:03:28.452793",
     "status": "completed"
    },
    "tags": []
   },
   "source": [
    "### Model\n",
    "\n",
    "A random forest is a meta estimator that fits a number of decision tree classifiers on various sub-samples of the dataset and uses averaging to improve the predictive accuracy and control over-fitting. The sub-sample size is controlled with the <code>max_samples</code> parameter if <code>bootstrap=True</code> (default), otherwise the whole dataset is used to build each tree.\n",
    "\n",
    "#### Model Tuning Parameters\n",
    "\n",
    "1. n_estimators : The number of trees in the forest.\n",
    "\n",
    "2. criterion : The function to measure the quality of a split. Supported criteria are 'gini' for the Gini impurity and 'entropy' for the information gain.\n",
    "\n",
    "3. max_depth : The maximum depth of the tree.\n",
    "\n",
    "4. max_features : The number of features to consider when looking for the best split:\n",
    "\n",
    "5. bootstrap : Whether bootstrap samples are used when building trees. If False, the whole dataset is used to build each tree.\n",
    "\n",
    "6. oob_score : Whether to use out-of-bag samples to estimate the generalization accuracy.\n"
   ]
  },
  {
   "cell_type": "code",
   "execution_count": 7,
   "id": "e1b1adc3",
   "metadata": {
    "execution": {
     "iopub.execute_input": "2024-10-17T18:03:28.533296Z",
     "iopub.status.busy": "2024-10-17T18:03:28.516976Z",
     "iopub.status.idle": "2024-10-17T18:03:29.022941Z",
     "shell.execute_reply": "2024-10-17T18:03:29.022135Z",
     "shell.execute_reply.started": "2021-12-07T11:15:14.409584Z"
    },
    "papermill": {
     "duration": 0.532938,
     "end_time": "2024-10-17T18:03:29.023115",
     "exception": false,
     "start_time": "2024-10-17T18:03:28.490177",
     "status": "completed"
    },
    "tags": []
   },
   "outputs": [
    {
     "data": {
      "text/plain": [
       "RandomForestClassifier(max_depth=39, n_estimators=120, n_jobs=-1)"
      ]
     },
     "execution_count": 7,
     "metadata": {},
     "output_type": "execute_result"
    }
   ],
   "source": [
    "#Model Parameters\n",
    "param={'criterion': 'gini', 'n_estimators': 120, 'max_features': 'auto', 'max_depth': 39, 'n_jobs': -1}\n",
    "# Model Initialization\n",
    "model=RandomForestClassifier(**param)\n",
    "model.fit(X_train,Y_train)\n"
   ]
  },
  {
   "cell_type": "markdown",
   "id": "c0126c21",
   "metadata": {
    "papermill": {
     "duration": 0.018063,
     "end_time": "2024-10-17T18:03:29.059843",
     "exception": false,
     "start_time": "2024-10-17T18:03:29.041780",
     "status": "completed"
    },
    "tags": []
   },
   "source": [
    "### Accuracy Metrics\n",
    " Performance metrics are a part of every machine learning pipeline. They tell you if you're making progress, and put a number on it. All machine learning models,whether it's linear regression, or a SOTA technique like BERT, need a metric to judge performance."
   ]
  },
  {
   "cell_type": "code",
   "execution_count": 8,
   "id": "06856b20",
   "metadata": {
    "execution": {
     "iopub.execute_input": "2024-10-17T18:03:29.107274Z",
     "iopub.status.busy": "2024-10-17T18:03:29.106412Z",
     "iopub.status.idle": "2024-10-17T18:03:29.595694Z",
     "shell.execute_reply": "2024-10-17T18:03:29.594902Z",
     "shell.execute_reply.started": "2021-12-07T11:15:14.805218Z"
    },
    "papermill": {
     "duration": 0.517107,
     "end_time": "2024-10-17T18:03:29.595861",
     "exception": false,
     "start_time": "2024-10-17T18:03:29.078754",
     "status": "completed"
    },
    "tags": []
   },
   "outputs": [
    {
     "name": "stdout",
     "output_type": "stream",
     "text": [
      "              precision    recall  f1-score   support\n",
      "\n",
      "           0       1.00      0.97      0.99        38\n",
      "           1       0.99      1.00      0.99        66\n",
      "\n",
      "    accuracy                           0.99       104\n",
      "   macro avg       0.99      0.99      0.99       104\n",
      "weighted avg       0.99      0.99      0.99       104\n",
      "\n"
     ]
    },
    {
     "data": {
      "image/png": "[encoded data removed]",
      "text/plain": [
       "<Figure size 432x288 with 2 Axes>"
      ]
     },
     "metadata": {
      "needs_background": "light"
     },
     "output_type": "display_data"
    }
   ],
   "source": [
    "# Confusion Matrix\n",
    "plot_confusion_matrix(model,X_test,Y_test,cmap=plt.cm.Blues)\n",
    "# Classification Report\n",
    "print(classification_report(Y_test,model.predict(X_test)))\n"
   ]
  }
 ],
 "metadata": {
  "kaggle": {
   "accelerator": "none",
   "dataSources": [
    {
     "datasetId": 1772261,
     "sourceId": 2892974,
     "sourceType": "datasetVersion"
    }
   ],
   "dockerImageVersionId": 30152,
   "isGpuEnabled": false,
   "isInternetEnabled": true,
   "language": "python",
   "sourceType": "notebook"
  },
  "kernelspec": {
   "display_name": "Python 3",
   "language": "python",
   "name": "python3"
  },
  "language_info": {
   "codemirror_mode": {
    "name": "ipython",
    "version": 3
   },
   "file_extension": ".py",
   "mimetype": "text/x-python",
   "name": "python",
   "nbconvert_exporter": "python",
   "pygments_lexer": "ipython3",
   "version": "3.7.12"
  },
  "papermill": {
   "default_parameters": {},
   "duration": 17.288948,
   "end_time": "2024-10-17T18:03:30.428781",
   "environment_variables": {},
   "exception": null,
   "input_path": "__notebook__.ipynb",
   "output_path": "__notebook__.ipynb",
   "parameters": {},
   "start_time": "2024-10-17T18:03:13.139833",
   "version": "2.3.3"
  }
 },
 "nbformat": 4,
 "nbformat_minor": 5
}
