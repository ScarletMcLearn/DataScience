{
 "cells": [
  {
   "cell_type": "markdown",
   "id": "b99697a3",
   "metadata": {
    "papermill": {
     "duration": 0.015897,
     "end_time": "2024-11-03T17:41:51.850829",
     "exception": false,
     "start_time": "2024-11-03T17:41:51.834932",
     "status": "completed"
    },
    "tags": []
   },
   "source": [
    "# Introduction"
   ]
  },
  {
   "cell_type": "markdown",
   "id": "cac7ccf8",
   "metadata": {
    "papermill": {
     "duration": 0.01468,
     "end_time": "2024-11-03T17:41:51.880572",
     "exception": false,
     "start_time": "2024-11-03T17:41:51.865892",
     "status": "completed"
    },
    "tags": []
   },
   "source": [
    "If you're studying **NLP** and have come across embedding techniques like **Word2Vec**, then you're probably aware that the core property of natural language that **Word2Vec** leverages to create vector representations is its sequential nature.\n",
    "\n",
    "Every sentence in any text has a sequence of words; the order of words in a text is crucial because it affects the sequential nature of the text. This is exactly what **Word2Vec** relies on to link words to each other.\n",
    "\n",
    "This brings us to an interesting idea: \n",
    "\n",
    "Applying **Word2Vec** to **non-textual data,** as long as it has a sequential nature. To give an example, purchasing behavior on e-commerce websites exhibits this sequential property. If someone buys whey protein and a shaker, they’re likely interested in fitness products and might also be interested in buying items like sportswear and related accessories.\n",
    "\n",
    "We can think of each product as a word, and each sequence of purchases as a sentence. Using **Word2Vec**, we can then create embeddings for each product, which will effectively link similar products together. In this way, we can easily suggest products that a buyer might be interested in.\n",
    "\n",
    "I built a product recommendation system using **Word2Vec** based on this idea in this notebook."
   ]
  },
  {
   "cell_type": "markdown",
   "id": "fb23c768",
   "metadata": {
    "papermill": {
     "duration": 0.012807,
     "end_time": "2024-11-03T17:41:51.908635",
     "exception": false,
     "start_time": "2024-11-03T17:41:51.895828",
     "status": "completed"
    },
    "tags": []
   },
   "source": [
    "### Import libraries and data"
   ]
  },
  {
   "cell_type": "code",
   "execution_count": 1,
   "id": "9b1df669",
   "metadata": {
    "execution": {
     "iopub.execute_input": "2024-11-03T17:41:51.937553Z",
     "iopub.status.busy": "2024-11-03T17:41:51.937129Z",
     "iopub.status.idle": "2024-11-03T17:41:53.527948Z",
     "shell.execute_reply": "2024-11-03T17:41:53.526734Z"
    },
    "papermill": {
     "duration": 1.609341,
     "end_time": "2024-11-03T17:41:53.531257",
     "exception": false,
     "start_time": "2024-11-03T17:41:51.921916",
     "status": "completed"
    },
    "tags": []
   },
   "outputs": [],
   "source": [
    "import pandas as pd\n",
    "import numpy as np\n",
    "import random\n",
    "from tqdm import tqdm\n",
    "import plotly.express as px\n",
    "import matplotlib.pyplot as plt"
   ]
  },
  {
   "cell_type": "markdown",
   "id": "66244e6e",
   "metadata": {
    "papermill": {
     "duration": 0.013065,
     "end_time": "2024-11-03T17:41:53.558469",
     "exception": false,
     "start_time": "2024-11-03T17:41:53.545404",
     "status": "completed"
    },
    "tags": []
   },
   "source": [
    "Description of data:\n",
    "\n",
    "* `InvoiceNo`: Invoice number. a unique number assigned to each transaction\n",
    "* `StockCode`: Product/item code. a unique number assigned to each distinct product\n",
    "* `Description`: Product description\n",
    "* `Quantity`: The quantities of each product per transaction\n",
    "* `InvoiceDate`: Invoice Date and time. The day and time when each transaction was generated\n",
    "* `UnitPrice` : price of each item\n",
    "* `CustomerID`: Customer number. a unique number assigned to each customer\n",
    "* `Country` : country"
   ]
  },
  {
   "cell_type": "code",
   "execution_count": 2,
   "id": "3321f83b",
   "metadata": {
    "execution": {
     "iopub.execute_input": "2024-11-03T17:41:53.586815Z",
     "iopub.status.busy": "2024-11-03T17:41:53.586244Z",
     "iopub.status.idle": "2024-11-03T17:41:54.941553Z",
     "shell.execute_reply": "2024-11-03T17:41:54.940319Z"
    },
    "papermill": {
     "duration": 1.37223,
     "end_time": "2024-11-03T17:41:54.943966",
     "exception": false,
     "start_time": "2024-11-03T17:41:53.571736",
     "status": "completed"
    },
    "tags": []
   },
   "outputs": [
    {
     "data": {
      "text/html": [
       "<div>\n",
       "<style scoped>\n",
       "    .dataframe tbody tr th:only-of-type {\n",
       "        vertical-align: middle;\n",
       "    }\n",
       "\n",
       "    .dataframe tbody tr th {\n",
       "        vertical-align: top;\n",
       "    }\n",
       "\n",
       "    .dataframe thead th {\n",
       "        text-align: right;\n",
       "    }\n",
       "</style>\n",
       "<table border=\"1\" class=\"dataframe\">\n",
       "  <thead>\n",
       "    <tr style=\"text-align: right;\">\n",
       "      <th></th>\n",
       "      <th>InvoiceNo</th>\n",
       "      <th>StockCode</th>\n",
       "      <th>Description</th>\n",
       "      <th>Quantity</th>\n",
       "      <th>InvoiceDate</th>\n",
       "      <th>UnitPrice</th>\n",
       "      <th>CustomerID</th>\n",
       "      <th>Country</th>\n",
       "    </tr>\n",
       "  </thead>\n",
       "  <tbody>\n",
       "    <tr>\n",
       "      <th>0</th>\n",
       "      <td>536365</td>\n",
       "      <td>85123A</td>\n",
       "      <td>WHITE HANGING HEART T-LIGHT HOLDER</td>\n",
       "      <td>6</td>\n",
       "      <td>12/1/10 8:26</td>\n",
       "      <td>2.55</td>\n",
       "      <td>17850.0</td>\n",
       "      <td>United Kingdom</td>\n",
       "    </tr>\n",
       "    <tr>\n",
       "      <th>1</th>\n",
       "      <td>536365</td>\n",
       "      <td>71053</td>\n",
       "      <td>WHITE METAL LANTERN</td>\n",
       "      <td>6</td>\n",
       "      <td>12/1/10 8:26</td>\n",
       "      <td>3.39</td>\n",
       "      <td>17850.0</td>\n",
       "      <td>United Kingdom</td>\n",
       "    </tr>\n",
       "    <tr>\n",
       "      <th>2</th>\n",
       "      <td>536365</td>\n",
       "      <td>84406B</td>\n",
       "      <td>CREAM CUPID HEARTS COAT HANGER</td>\n",
       "      <td>8</td>\n",
       "      <td>12/1/10 8:26</td>\n",
       "      <td>2.75</td>\n",
       "      <td>17850.0</td>\n",
       "      <td>United Kingdom</td>\n",
       "    </tr>\n",
       "    <tr>\n",
       "      <th>3</th>\n",
       "      <td>536365</td>\n",
       "      <td>84029G</td>\n",
       "      <td>KNITTED UNION FLAG HOT WATER BOTTLE</td>\n",
       "      <td>6</td>\n",
       "      <td>12/1/10 8:26</td>\n",
       "      <td>3.39</td>\n",
       "      <td>17850.0</td>\n",
       "      <td>United Kingdom</td>\n",
       "    </tr>\n",
       "    <tr>\n",
       "      <th>4</th>\n",
       "      <td>536365</td>\n",
       "      <td>84029E</td>\n",
       "      <td>RED WOOLLY HOTTIE WHITE HEART.</td>\n",
       "      <td>6</td>\n",
       "      <td>12/1/10 8:26</td>\n",
       "      <td>3.39</td>\n",
       "      <td>17850.0</td>\n",
       "      <td>United Kingdom</td>\n",
       "    </tr>\n",
       "  </tbody>\n",
       "</table>\n",
       "</div>"
      ],
      "text/plain": [
       "  InvoiceNo StockCode                          Description  Quantity  \\\n",
       "0    536365    85123A   WHITE HANGING HEART T-LIGHT HOLDER         6   \n",
       "1    536365     71053                  WHITE METAL LANTERN         6   \n",
       "2    536365    84406B       CREAM CUPID HEARTS COAT HANGER         8   \n",
       "3    536365    84029G  KNITTED UNION FLAG HOT WATER BOTTLE         6   \n",
       "4    536365    84029E       RED WOOLLY HOTTIE WHITE HEART.         6   \n",
       "\n",
       "    InvoiceDate  UnitPrice  CustomerID         Country  \n",
       "0  12/1/10 8:26       2.55     17850.0  United Kingdom  \n",
       "1  12/1/10 8:26       3.39     17850.0  United Kingdom  \n",
       "2  12/1/10 8:26       2.75     17850.0  United Kingdom  \n",
       "3  12/1/10 8:26       3.39     17850.0  United Kingdom  \n",
       "4  12/1/10 8:26       3.39     17850.0  United Kingdom  "
      ]
     },
     "execution_count": 2,
     "metadata": {},
     "output_type": "execute_result"
    }
   ],
   "source": [
    "df = pd.read_csv('/kaggle/input/online-retail/Online_Retail.csv', encoding='latin1')\n",
    "df.head()"
   ]
  },
  {
   "cell_type": "code",
   "execution_count": 3,
   "id": "0bc51350",
   "metadata": {
    "execution": {
     "iopub.execute_input": "2024-11-03T17:41:54.973975Z",
     "iopub.status.busy": "2024-11-03T17:41:54.972932Z",
     "iopub.status.idle": "2024-11-03T17:41:55.013959Z",
     "shell.execute_reply": "2024-11-03T17:41:55.012444Z"
    },
    "papermill": {
     "duration": 0.059188,
     "end_time": "2024-11-03T17:41:55.016933",
     "exception": false,
     "start_time": "2024-11-03T17:41:54.957745",
     "status": "completed"
    },
    "tags": []
   },
   "outputs": [
    {
     "data": {
      "text/html": [
       "<div>\n",
       "<style scoped>\n",
       "    .dataframe tbody tr th:only-of-type {\n",
       "        vertical-align: middle;\n",
       "    }\n",
       "\n",
       "    .dataframe tbody tr th {\n",
       "        vertical-align: top;\n",
       "    }\n",
       "\n",
       "    .dataframe thead th {\n",
       "        text-align: right;\n",
       "    }\n",
       "</style>\n",
       "<table border=\"1\" class=\"dataframe\">\n",
       "  <thead>\n",
       "    <tr style=\"text-align: right;\">\n",
       "      <th></th>\n",
       "      <th>InvoiceNo</th>\n",
       "      <th>StockCode</th>\n",
       "      <th>Description</th>\n",
       "      <th>Quantity</th>\n",
       "      <th>InvoiceDate</th>\n",
       "      <th>UnitPrice</th>\n",
       "      <th>CustomerID</th>\n",
       "      <th>Country</th>\n",
       "    </tr>\n",
       "  </thead>\n",
       "  <tbody>\n",
       "    <tr>\n",
       "      <th>528159</th>\n",
       "      <td>580729</td>\n",
       "      <td>21523</td>\n",
       "      <td>DOORMAT FANCY FONT HOME SWEET HOME</td>\n",
       "      <td>1</td>\n",
       "      <td>12/5/11 17:24</td>\n",
       "      <td>15.79</td>\n",
       "      <td>NaN</td>\n",
       "      <td>United Kingdom</td>\n",
       "    </tr>\n",
       "    <tr>\n",
       "      <th>402946</th>\n",
       "      <td>571508</td>\n",
       "      <td>22175</td>\n",
       "      <td>PINK OWL SOFT TOY</td>\n",
       "      <td>2</td>\n",
       "      <td>10/17/11 15:27</td>\n",
       "      <td>2.95</td>\n",
       "      <td>NaN</td>\n",
       "      <td>United Kingdom</td>\n",
       "    </tr>\n",
       "    <tr>\n",
       "      <th>153495</th>\n",
       "      <td>549748</td>\n",
       "      <td>20914</td>\n",
       "      <td>SET/5 RED RETROSPOT LID GLASS BOWLS</td>\n",
       "      <td>32</td>\n",
       "      <td>4/12/11 10:42</td>\n",
       "      <td>2.55</td>\n",
       "      <td>17428.0</td>\n",
       "      <td>United Kingdom</td>\n",
       "    </tr>\n",
       "    <tr>\n",
       "      <th>56120</th>\n",
       "      <td>541038</td>\n",
       "      <td>22563</td>\n",
       "      <td>HAPPY STENCIL CRAFT</td>\n",
       "      <td>6</td>\n",
       "      <td>1/13/11 12:10</td>\n",
       "      <td>1.25</td>\n",
       "      <td>16395.0</td>\n",
       "      <td>United Kingdom</td>\n",
       "    </tr>\n",
       "    <tr>\n",
       "      <th>345207</th>\n",
       "      <td>567153</td>\n",
       "      <td>22441</td>\n",
       "      <td>GROW YOUR OWN BASIL IN ENAMEL MUG</td>\n",
       "      <td>2</td>\n",
       "      <td>9/16/11 16:25</td>\n",
       "      <td>2.10</td>\n",
       "      <td>14056.0</td>\n",
       "      <td>United Kingdom</td>\n",
       "    </tr>\n",
       "  </tbody>\n",
       "</table>\n",
       "</div>"
      ],
      "text/plain": [
       "       InvoiceNo StockCode                          Description  Quantity  \\\n",
       "528159    580729     21523   DOORMAT FANCY FONT HOME SWEET HOME         1   \n",
       "402946    571508     22175                    PINK OWL SOFT TOY         2   \n",
       "153495    549748     20914  SET/5 RED RETROSPOT LID GLASS BOWLS        32   \n",
       "56120     541038     22563                  HAPPY STENCIL CRAFT         6   \n",
       "345207    567153     22441    GROW YOUR OWN BASIL IN ENAMEL MUG         2   \n",
       "\n",
       "           InvoiceDate  UnitPrice  CustomerID         Country  \n",
       "528159   12/5/11 17:24      15.79         NaN  United Kingdom  \n",
       "402946  10/17/11 15:27       2.95         NaN  United Kingdom  \n",
       "153495   4/12/11 10:42       2.55     17428.0  United Kingdom  \n",
       "56120    1/13/11 12:10       1.25     16395.0  United Kingdom  \n",
       "345207   9/16/11 16:25       2.10     14056.0  United Kingdom  "
      ]
     },
     "execution_count": 3,
     "metadata": {},
     "output_type": "execute_result"
    }
   ],
   "source": [
    "df.sample(5)"
   ]
  },
  {
   "cell_type": "code",
   "execution_count": 4,
   "id": "9f52ac32",
   "metadata": {
    "execution": {
     "iopub.execute_input": "2024-11-03T17:41:55.046629Z",
     "iopub.status.busy": "2024-11-03T17:41:55.046210Z",
     "iopub.status.idle": "2024-11-03T17:41:55.053340Z",
     "shell.execute_reply": "2024-11-03T17:41:55.052247Z"
    },
    "papermill": {
     "duration": 0.024613,
     "end_time": "2024-11-03T17:41:55.055517",
     "exception": false,
     "start_time": "2024-11-03T17:41:55.030904",
     "status": "completed"
    },
    "tags": []
   },
   "outputs": [
    {
     "data": {
      "text/plain": [
       "(541909, 8)"
      ]
     },
     "execution_count": 4,
     "metadata": {},
     "output_type": "execute_result"
    }
   ],
   "source": [
    "df.shape"
   ]
  },
  {
   "cell_type": "markdown",
   "id": "cebb6b2f",
   "metadata": {
    "papermill": {
     "duration": 0.015746,
     "end_time": "2024-11-03T17:41:55.085058",
     "exception": false,
     "start_time": "2024-11-03T17:41:55.069312",
     "status": "completed"
    },
    "tags": []
   },
   "source": [
    "# Data cleaning"
   ]
  },
  {
   "cell_type": "code",
   "execution_count": 5,
   "id": "ff462a58",
   "metadata": {
    "execution": {
     "iopub.execute_input": "2024-11-03T17:41:55.114688Z",
     "iopub.status.busy": "2024-11-03T17:41:55.113996Z",
     "iopub.status.idle": "2024-11-03T17:41:55.773645Z",
     "shell.execute_reply": "2024-11-03T17:41:55.772389Z"
    },
    "papermill": {
     "duration": 0.677344,
     "end_time": "2024-11-03T17:41:55.776186",
     "exception": false,
     "start_time": "2024-11-03T17:41:55.098842",
     "status": "completed"
    },
    "tags": []
   },
   "outputs": [
    {
     "data": {
      "text/html": [
       "<div>\n",
       "<style scoped>\n",
       "    .dataframe tbody tr th:only-of-type {\n",
       "        vertical-align: middle;\n",
       "    }\n",
       "\n",
       "    .dataframe tbody tr th {\n",
       "        vertical-align: top;\n",
       "    }\n",
       "\n",
       "    .dataframe thead th {\n",
       "        text-align: right;\n",
       "    }\n",
       "</style>\n",
       "<table border=\"1\" class=\"dataframe\">\n",
       "  <thead>\n",
       "    <tr style=\"text-align: right;\">\n",
       "      <th></th>\n",
       "      <th>Column</th>\n",
       "      <th>dtype</th>\n",
       "      <th>unique sample</th>\n",
       "      <th>n uniques</th>\n",
       "      <th>num of missing</th>\n",
       "      <th>mean of missing</th>\n",
       "    </tr>\n",
       "  </thead>\n",
       "  <tbody>\n",
       "    <tr>\n",
       "      <th>0</th>\n",
       "      <td>InvoiceNo</td>\n",
       "      <td>object</td>\n",
       "      <td>[536365, 536366, 536367, 536368, 536369]</td>\n",
       "      <td>25900</td>\n",
       "      <td>0</td>\n",
       "      <td>0.000000</td>\n",
       "    </tr>\n",
       "    <tr>\n",
       "      <th>1</th>\n",
       "      <td>StockCode</td>\n",
       "      <td>object</td>\n",
       "      <td>[85123A, 71053, 84406B, 84029G, 84029E]</td>\n",
       "      <td>4070</td>\n",
       "      <td>0</td>\n",
       "      <td>0.000000</td>\n",
       "    </tr>\n",
       "    <tr>\n",
       "      <th>2</th>\n",
       "      <td>Description</td>\n",
       "      <td>object</td>\n",
       "      <td>[WHITE HANGING HEART T-LIGHT HOLDER, WHITE MET...</td>\n",
       "      <td>4223</td>\n",
       "      <td>1454</td>\n",
       "      <td>0.002683</td>\n",
       "    </tr>\n",
       "    <tr>\n",
       "      <th>3</th>\n",
       "      <td>Quantity</td>\n",
       "      <td>int64</td>\n",
       "      <td>[6, 8, 2, 32, 3]</td>\n",
       "      <td>722</td>\n",
       "      <td>0</td>\n",
       "      <td>0.000000</td>\n",
       "    </tr>\n",
       "    <tr>\n",
       "      <th>4</th>\n",
       "      <td>InvoiceDate</td>\n",
       "      <td>object</td>\n",
       "      <td>[12/1/10 8:26, 12/1/10 8:28, 12/1/10 8:34, 12/...</td>\n",
       "      <td>23260</td>\n",
       "      <td>0</td>\n",
       "      <td>0.000000</td>\n",
       "    </tr>\n",
       "    <tr>\n",
       "      <th>5</th>\n",
       "      <td>UnitPrice</td>\n",
       "      <td>float64</td>\n",
       "      <td>[2.55, 3.39, 2.75, 7.65, 4.25]</td>\n",
       "      <td>1630</td>\n",
       "      <td>0</td>\n",
       "      <td>0.000000</td>\n",
       "    </tr>\n",
       "    <tr>\n",
       "      <th>6</th>\n",
       "      <td>CustomerID</td>\n",
       "      <td>float64</td>\n",
       "      <td>[17850.0, 13047.0, 12583.0, 13748.0, 15100.0]</td>\n",
       "      <td>4372</td>\n",
       "      <td>135080</td>\n",
       "      <td>0.249267</td>\n",
       "    </tr>\n",
       "    <tr>\n",
       "      <th>7</th>\n",
       "      <td>Country</td>\n",
       "      <td>object</td>\n",
       "      <td>[United Kingdom, France, Australia, Netherland...</td>\n",
       "      <td>38</td>\n",
       "      <td>0</td>\n",
       "      <td>0.000000</td>\n",
       "    </tr>\n",
       "  </tbody>\n",
       "</table>\n",
       "</div>"
      ],
      "text/plain": [
       "        Column    dtype                                      unique sample  \\\n",
       "0    InvoiceNo   object           [536365, 536366, 536367, 536368, 536369]   \n",
       "1    StockCode   object            [85123A, 71053, 84406B, 84029G, 84029E]   \n",
       "2  Description   object  [WHITE HANGING HEART T-LIGHT HOLDER, WHITE MET...   \n",
       "3     Quantity    int64                                   [6, 8, 2, 32, 3]   \n",
       "4  InvoiceDate   object  [12/1/10 8:26, 12/1/10 8:28, 12/1/10 8:34, 12/...   \n",
       "5    UnitPrice  float64                     [2.55, 3.39, 2.75, 7.65, 4.25]   \n",
       "6   CustomerID  float64      [17850.0, 13047.0, 12583.0, 13748.0, 15100.0]   \n",
       "7      Country   object  [United Kingdom, France, Australia, Netherland...   \n",
       "\n",
       "   n uniques  num of missing  mean of missing  \n",
       "0      25900               0         0.000000  \n",
       "1       4070               0         0.000000  \n",
       "2       4223            1454         0.002683  \n",
       "3        722               0         0.000000  \n",
       "4      23260               0         0.000000  \n",
       "5       1630               0         0.000000  \n",
       "6       4372          135080         0.249267  \n",
       "7         38               0         0.000000  "
      ]
     },
     "execution_count": 5,
     "metadata": {},
     "output_type": "execute_result"
    }
   ],
   "source": [
    "def report(df):\n",
    "    col = []\n",
    "    d_type = []\n",
    "    uniques = []\n",
    "    n_uniques = []\n",
    "    missing_values = []\n",
    "    mean_of_missing = []\n",
    "    \n",
    "    for i in df.columns:\n",
    "        col.append(i)\n",
    "        d_type.append(df[i].dtypes)\n",
    "        uniques.append(df[i].unique()[:5])\n",
    "        n_uniques.append(df[i].nunique())\n",
    "        missing_values.append(df[i].isna().sum())\n",
    "        mean_of_missing.append(df[i].isna().sum()/len(df))\n",
    "    \n",
    "    return pd.DataFrame({'Column': col, 'dtype': d_type, 'unique sample': uniques, 'n uniques': n_uniques, 'num of missing': missing_values, 'mean of missing': mean_of_missing })\n",
    "\n",
    "\n",
    "report(df)"
   ]
  },
  {
   "cell_type": "markdown",
   "id": "c8dd0dd4",
   "metadata": {
    "papermill": {
     "duration": 0.013861,
     "end_time": "2024-11-03T17:41:55.804347",
     "exception": false,
     "start_time": "2024-11-03T17:41:55.790486",
     "status": "completed"
    },
    "tags": []
   },
   "source": [
    "## Drop nulls"
   ]
  },
  {
   "cell_type": "code",
   "execution_count": 6,
   "id": "76ec19b5",
   "metadata": {
    "execution": {
     "iopub.execute_input": "2024-11-03T17:41:55.834616Z",
     "iopub.status.busy": "2024-11-03T17:41:55.833657Z",
     "iopub.status.idle": "2024-11-03T17:41:56.007053Z",
     "shell.execute_reply": "2024-11-03T17:41:56.005984Z"
    },
    "papermill": {
     "duration": 0.191635,
     "end_time": "2024-11-03T17:41:56.010066",
     "exception": false,
     "start_time": "2024-11-03T17:41:55.818431",
     "status": "completed"
    },
    "tags": []
   },
   "outputs": [],
   "source": [
    "df.dropna(inplace=True)"
   ]
  },
  {
   "cell_type": "code",
   "execution_count": 7,
   "id": "2c3547eb",
   "metadata": {
    "execution": {
     "iopub.execute_input": "2024-11-03T17:41:56.040688Z",
     "iopub.status.busy": "2024-11-03T17:41:56.040294Z",
     "iopub.status.idle": "2024-11-03T17:41:56.108466Z",
     "shell.execute_reply": "2024-11-03T17:41:56.107276Z"
    },
    "papermill": {
     "duration": 0.086428,
     "end_time": "2024-11-03T17:41:56.111004",
     "exception": false,
     "start_time": "2024-11-03T17:41:56.024576",
     "status": "completed"
    },
    "tags": []
   },
   "outputs": [
    {
     "data": {
      "text/html": [
       "<div>\n",
       "<style scoped>\n",
       "    .dataframe tbody tr th:only-of-type {\n",
       "        vertical-align: middle;\n",
       "    }\n",
       "\n",
       "    .dataframe tbody tr th {\n",
       "        vertical-align: top;\n",
       "    }\n",
       "\n",
       "    .dataframe thead th {\n",
       "        text-align: right;\n",
       "    }\n",
       "</style>\n",
       "<table border=\"1\" class=\"dataframe\">\n",
       "  <thead>\n",
       "    <tr style=\"text-align: right;\">\n",
       "      <th></th>\n",
       "      <th>Quantity</th>\n",
       "      <th>UnitPrice</th>\n",
       "      <th>CustomerID</th>\n",
       "    </tr>\n",
       "  </thead>\n",
       "  <tbody>\n",
       "    <tr>\n",
       "      <th>count</th>\n",
       "      <td>406829.000000</td>\n",
       "      <td>406829.000000</td>\n",
       "      <td>406829.000000</td>\n",
       "    </tr>\n",
       "    <tr>\n",
       "      <th>mean</th>\n",
       "      <td>12.061303</td>\n",
       "      <td>3.460471</td>\n",
       "      <td>15287.690570</td>\n",
       "    </tr>\n",
       "    <tr>\n",
       "      <th>std</th>\n",
       "      <td>248.693370</td>\n",
       "      <td>69.315162</td>\n",
       "      <td>1713.600303</td>\n",
       "    </tr>\n",
       "    <tr>\n",
       "      <th>min</th>\n",
       "      <td>-80995.000000</td>\n",
       "      <td>0.000000</td>\n",
       "      <td>12346.000000</td>\n",
       "    </tr>\n",
       "    <tr>\n",
       "      <th>25%</th>\n",
       "      <td>2.000000</td>\n",
       "      <td>1.250000</td>\n",
       "      <td>13953.000000</td>\n",
       "    </tr>\n",
       "    <tr>\n",
       "      <th>50%</th>\n",
       "      <td>5.000000</td>\n",
       "      <td>1.950000</td>\n",
       "      <td>15152.000000</td>\n",
       "    </tr>\n",
       "    <tr>\n",
       "      <th>75%</th>\n",
       "      <td>12.000000</td>\n",
       "      <td>3.750000</td>\n",
       "      <td>16791.000000</td>\n",
       "    </tr>\n",
       "    <tr>\n",
       "      <th>max</th>\n",
       "      <td>80995.000000</td>\n",
       "      <td>38970.000000</td>\n",
       "      <td>18287.000000</td>\n",
       "    </tr>\n",
       "  </tbody>\n",
       "</table>\n",
       "</div>"
      ],
      "text/plain": [
       "            Quantity      UnitPrice     CustomerID\n",
       "count  406829.000000  406829.000000  406829.000000\n",
       "mean       12.061303       3.460471   15287.690570\n",
       "std       248.693370      69.315162    1713.600303\n",
       "min    -80995.000000       0.000000   12346.000000\n",
       "25%         2.000000       1.250000   13953.000000\n",
       "50%         5.000000       1.950000   15152.000000\n",
       "75%        12.000000       3.750000   16791.000000\n",
       "max     80995.000000   38970.000000   18287.000000"
      ]
     },
     "execution_count": 7,
     "metadata": {},
     "output_type": "execute_result"
    }
   ],
   "source": [
    "df.describe()"
   ]
  },
  {
   "cell_type": "markdown",
   "id": "ea768764",
   "metadata": {
    "papermill": {
     "duration": 0.014003,
     "end_time": "2024-11-03T17:41:56.139378",
     "exception": false,
     "start_time": "2024-11-03T17:41:56.125375",
     "status": "completed"
    },
    "tags": []
   },
   "source": [
    "## Remove negative values\n",
    "\n",
    "As you see there are negative values in `Quantity` column."
   ]
  },
  {
   "cell_type": "code",
   "execution_count": 8,
   "id": "5662cbba",
   "metadata": {
    "execution": {
     "iopub.execute_input": "2024-11-03T17:41:56.170119Z",
     "iopub.status.busy": "2024-11-03T17:41:56.169262Z",
     "iopub.status.idle": "2024-11-03T17:41:56.217796Z",
     "shell.execute_reply": "2024-11-03T17:41:56.216599Z"
    },
    "papermill": {
     "duration": 0.06678,
     "end_time": "2024-11-03T17:41:56.220582",
     "exception": false,
     "start_time": "2024-11-03T17:41:56.153802",
     "status": "completed"
    },
    "tags": []
   },
   "outputs": [],
   "source": [
    "df = df[df['Quantity'] > 0]"
   ]
  },
  {
   "cell_type": "code",
   "execution_count": 9,
   "id": "9284f91a",
   "metadata": {
    "execution": {
     "iopub.execute_input": "2024-11-03T17:41:56.251788Z",
     "iopub.status.busy": "2024-11-03T17:41:56.250917Z",
     "iopub.status.idle": "2024-11-03T17:41:56.258419Z",
     "shell.execute_reply": "2024-11-03T17:41:56.257164Z"
    },
    "papermill": {
     "duration": 0.025918,
     "end_time": "2024-11-03T17:41:56.261052",
     "exception": false,
     "start_time": "2024-11-03T17:41:56.235134",
     "status": "completed"
    },
    "tags": []
   },
   "outputs": [
    {
     "data": {
      "text/plain": [
       "(397924, 8)"
      ]
     },
     "execution_count": 9,
     "metadata": {},
     "output_type": "execute_result"
    }
   ],
   "source": [
    "df.shape"
   ]
  },
  {
   "cell_type": "markdown",
   "id": "1f310129",
   "metadata": {
    "papermill": {
     "duration": 0.014326,
     "end_time": "2024-11-03T17:41:56.290076",
     "exception": false,
     "start_time": "2024-11-03T17:41:56.275750",
     "status": "completed"
    },
    "tags": []
   },
   "source": [
    "We remove about 144K rows after cleaning"
   ]
  },
  {
   "cell_type": "markdown",
   "id": "2a9d953b",
   "metadata": {
    "papermill": {
     "duration": 0.014406,
     "end_time": "2024-11-03T17:41:56.319619",
     "exception": false,
     "start_time": "2024-11-03T17:41:56.305213",
     "status": "completed"
    },
    "tags": []
   },
   "source": [
    "# EDA"
   ]
  },
  {
   "cell_type": "markdown",
   "id": "8d0155c3",
   "metadata": {
    "papermill": {
     "duration": 0.014072,
     "end_time": "2024-11-03T17:41:56.348430",
     "exception": false,
     "start_time": "2024-11-03T17:41:56.334358",
     "status": "completed"
    },
    "tags": []
   },
   "source": [
    "## Top Products by Quantity Sold"
   ]
  },
  {
   "cell_type": "code",
   "execution_count": 10,
   "id": "dcd0447f",
   "metadata": {
    "execution": {
     "iopub.execute_input": "2024-11-03T17:41:56.379003Z",
     "iopub.status.busy": "2024-11-03T17:41:56.378631Z",
     "iopub.status.idle": "2024-11-03T17:41:56.511604Z",
     "shell.execute_reply": "2024-11-03T17:41:56.510317Z"
    },
    "papermill": {
     "duration": 0.151226,
     "end_time": "2024-11-03T17:41:56.514195",
     "exception": false,
     "start_time": "2024-11-03T17:41:56.362969",
     "status": "completed"
    },
    "tags": []
   },
   "outputs": [
    {
     "data": {
      "text/html": [
       "<div>\n",
       "<style scoped>\n",
       "    .dataframe tbody tr th:only-of-type {\n",
       "        vertical-align: middle;\n",
       "    }\n",
       "\n",
       "    .dataframe tbody tr th {\n",
       "        vertical-align: top;\n",
       "    }\n",
       "\n",
       "    .dataframe thead th {\n",
       "        text-align: right;\n",
       "    }\n",
       "</style>\n",
       "<table border=\"1\" class=\"dataframe\">\n",
       "  <thead>\n",
       "    <tr style=\"text-align: right;\">\n",
       "      <th></th>\n",
       "      <th></th>\n",
       "      <th>Quantity</th>\n",
       "    </tr>\n",
       "    <tr>\n",
       "      <th>StockCode</th>\n",
       "      <th>Description</th>\n",
       "      <th></th>\n",
       "    </tr>\n",
       "  </thead>\n",
       "  <tbody>\n",
       "    <tr>\n",
       "      <th>23843</th>\n",
       "      <th>PAPER CRAFT , LITTLE BIRDIE</th>\n",
       "      <td>80995</td>\n",
       "    </tr>\n",
       "    <tr>\n",
       "      <th>23166</th>\n",
       "      <th>MEDIUM CERAMIC TOP STORAGE JAR</th>\n",
       "      <td>77916</td>\n",
       "    </tr>\n",
       "    <tr>\n",
       "      <th>84077</th>\n",
       "      <th>WORLD WAR 2 GLIDERS ASSTD DESIGNS</th>\n",
       "      <td>54415</td>\n",
       "    </tr>\n",
       "    <tr>\n",
       "      <th>85099B</th>\n",
       "      <th>JUMBO BAG RED RETROSPOT</th>\n",
       "      <td>46181</td>\n",
       "    </tr>\n",
       "    <tr>\n",
       "      <th>85123A</th>\n",
       "      <th>WHITE HANGING HEART T-LIGHT HOLDER</th>\n",
       "      <td>36725</td>\n",
       "    </tr>\n",
       "    <tr>\n",
       "      <th>84879</th>\n",
       "      <th>ASSORTED COLOUR BIRD ORNAMENT</th>\n",
       "      <td>35362</td>\n",
       "    </tr>\n",
       "    <tr>\n",
       "      <th>21212</th>\n",
       "      <th>PACK OF 72 RETROSPOT CAKE CASES</th>\n",
       "      <td>33693</td>\n",
       "    </tr>\n",
       "    <tr>\n",
       "      <th>22197</th>\n",
       "      <th>POPCORN HOLDER</th>\n",
       "      <td>30931</td>\n",
       "    </tr>\n",
       "    <tr>\n",
       "      <th>23084</th>\n",
       "      <th>RABBIT NIGHT LIGHT</th>\n",
       "      <td>27202</td>\n",
       "    </tr>\n",
       "    <tr>\n",
       "      <th>22492</th>\n",
       "      <th>MINI PAINT SET VINTAGE</th>\n",
       "      <td>26076</td>\n",
       "    </tr>\n",
       "  </tbody>\n",
       "</table>\n",
       "</div>"
      ],
      "text/plain": [
       "                                              Quantity\n",
       "StockCode Description                                 \n",
       "23843     PAPER CRAFT , LITTLE BIRDIE            80995\n",
       "23166     MEDIUM CERAMIC TOP STORAGE JAR         77916\n",
       "84077     WORLD WAR 2 GLIDERS ASSTD DESIGNS      54415\n",
       "85099B    JUMBO BAG RED RETROSPOT                46181\n",
       "85123A    WHITE HANGING HEART T-LIGHT HOLDER     36725\n",
       "84879     ASSORTED COLOUR BIRD ORNAMENT          35362\n",
       "21212     PACK OF 72 RETROSPOT CAKE CASES        33693\n",
       "22197     POPCORN HOLDER                         30931\n",
       "23084     RABBIT NIGHT LIGHT                     27202\n",
       "22492     MINI PAINT SET VINTAGE                 26076"
      ]
     },
     "execution_count": 10,
     "metadata": {},
     "output_type": "execute_result"
    }
   ],
   "source": [
    "TopProducts= df.pivot_table(\n",
    "    index=['StockCode','Description'],\n",
    "    values='Quantity',\n",
    "    aggfunc='sum').sort_values(\n",
    "    by='Quantity', ascending=False)\n",
    "\n",
    "TopProducts.head(10)"
   ]
  },
  {
   "cell_type": "code",
   "execution_count": 11,
   "id": "22ce9518",
   "metadata": {
    "execution": {
     "iopub.execute_input": "2024-11-03T17:41:56.546456Z",
     "iopub.status.busy": "2024-11-03T17:41:56.545423Z",
     "iopub.status.idle": "2024-11-03T17:41:58.542437Z",
     "shell.execute_reply": "2024-11-03T17:41:58.541202Z"
    },
    "papermill": {
     "duration": 2.015656,
     "end_time": "2024-11-03T17:41:58.545069",
     "exception": false,
     "start_time": "2024-11-03T17:41:56.529413",
     "status": "completed"
    },
    "tags": []
   },
   "outputs": [
    {
     "data": {
      "text/html": [
       "        <script type=\"text/javascript\">\n",
       "        window.PlotlyConfig = {MathJaxConfig: 'local'};\n",
       "        if (window.MathJax && window.MathJax.Hub && window.MathJax.Hub.Config) {window.MathJax.Hub.Config({SVG: {font: \"STIX-Web\"}});}\n",
       "        if (typeof require !== 'undefined') {\n",
       "        require.undef(\"plotly\");\n",
       "        requirejs.config({\n",
       "            paths: {\n",
       "                'plotly': ['https://cdn.plot.ly/plotly-2.32.0.min']\n",
       "            }\n",
       "        });\n",
       "        require(['plotly'], function(Plotly) {\n",
       "            window._Plotly = Plotly;\n",
       "        });\n",
       "        }\n",
       "        </script>\n",
       "        "
      ]
     },
     "metadata": {},
     "output_type": "display_data"
    },
    {
     "data": {
      "text/html": [
       "<div>                            <div id=\"d14b827c-5ec2-4c40-9b9c-234736bc7fea\" class=\"plotly-graph-div\" style=\"height:525px; width:100%;\"></div>            <script type=\"text/javascript\">                require([\"plotly\"], function(Plotly) {                    window.PLOTLYENV=window.PLOTLYENV || {};                                    if (document.getElementById(\"d14b827c-5ec2-4c40-9b9c-234736bc7fea\")) {                    Plotly.newPlot(                        \"d14b827c-5ec2-4c40-9b9c-234736bc7fea\",                        [{\"alignmentgroup\":\"True\",\"hovertemplate\":\"Quantity=%{x}\\u003cbr\\u003eDescription=%{y}\\u003cextra\\u003e\\u003c\\u002fextra\\u003e\",\"legendgroup\":\"\",\"marker\":{\"color\":\"#636efa\",\"pattern\":{\"shape\":\"\"}},\"name\":\"\",\"offsetgroup\":\"\",\"orientation\":\"h\",\"showlegend\":false,\"textposition\":\"auto\",\"x\":[80995,77916,54415,46181,36725,35362,33693,30931,27202,26076],\"xaxis\":\"x\",\"y\":[\"PAPER CRAFT , LITTLE BIRDIE\",\"MEDIUM CERAMIC TOP STORAGE JAR\",\"WORLD WAR 2 GLIDERS ASSTD DESIGNS\",\"JUMBO BAG RED RETROSPOT\",\"WHITE HANGING HEART T-LIGHT HOLDER\",\"ASSORTED COLOUR BIRD ORNAMENT\",\"PACK OF 72 RETROSPOT CAKE CASES\",\"POPCORN HOLDER\",\"RABBIT NIGHT LIGHT\",\"MINI PAINT SET VINTAGE \"],\"yaxis\":\"y\",\"type\":\"bar\"}],                        {\"template\":{\"data\":{\"histogram2dcontour\":[{\"type\":\"histogram2dcontour\",\"colorbar\":{\"outlinewidth\":0,\"ticks\":\"\"},\"colorscale\":[[0.0,\"#0d0887\"],[0.1111111111111111,\"#46039f\"],[0.2222222222222222,\"#7201a8\"],[0.3333333333333333,\"#9c179e\"],[0.4444444444444444,\"#bd3786\"],[0.5555555555555556,\"#d8576b\"],[0.6666666666666666,\"#ed7953\"],[0.7777777777777778,\"#fb9f3a\"],[0.8888888888888888,\"#fdca26\"],[1.0,\"#f0f921\"]]}],\"choropleth\":[{\"type\":\"choropleth\",\"colorbar\":{\"outlinewidth\":0,\"ticks\":\"\"}}],\"histogram2d\":[{\"type\":\"histogram2d\",\"colorbar\":{\"outlinewidth\":0,\"ticks\":\"\"},\"colorscale\":[[0.0,\"#0d0887\"],[0.1111111111111111,\"#46039f\"],[0.2222222222222222,\"#7201a8\"],[0.3333333333333333,\"#9c179e\"],[0.4444444444444444,\"#bd3786\"],[0.5555555555555556,\"#d8576b\"],[0.6666666666666666,\"#ed7953\"],[0.7777777777777778,\"#fb9f3a\"],[0.8888888888888888,\"#fdca26\"],[1.0,\"#f0f921\"]]}],\"heatmap\":[{\"type\":\"heatmap\",\"colorbar\":{\"outlinewidth\":0,\"ticks\":\"\"},\"colorscale\":[[0.0,\"#0d0887\"],[0.1111111111111111,\"#46039f\"],[0.2222222222222222,\"#7201a8\"],[0.3333333333333333,\"#9c179e\"],[0.4444444444444444,\"#bd3786\"],[0.5555555555555556,\"#d8576b\"],[0.6666666666666666,\"#ed7953\"],[0.7777777777777778,\"#fb9f3a\"],[0.8888888888888888,\"#fdca26\"],[1.0,\"#f0f921\"]]}],\"heatmapgl\":[{\"type\":\"heatmapgl\",\"colorbar\":{\"outlinewidth\":0,\"ticks\":\"\"},\"colorscale\":[[0.0,\"#0d0887\"],[0.1111111111111111,\"#46039f\"],[0.2222222222222222,\"#7201a8\"],[0.3333333333333333,\"#9c179e\"],[0.4444444444444444,\"#bd3786\"],[0.5555555555555556,\"#d8576b\"],[0.6666666666666666,\"#ed7953\"],[0.7777777777777778,\"#fb9f3a\"],[0.8888888888888888,\"#fdca26\"],[1.0,\"#f0f921\"]]}],\"contourcarpet\":[{\"type\":\"contourcarpet\",\"colorbar\":{\"outlinewidth\":0,\"ticks\":\"\"}}],\"contour\":[{\"type\":\"contour\",\"colorbar\":{\"outlinewidth\":0,\"ticks\":\"\"},\"colorscale\":[[0.0,\"#0d0887\"],[0.1111111111111111,\"#46039f\"],[0.2222222222222222,\"#7201a8\"],[0.3333333333333333,\"#9c179e\"],[0.4444444444444444,\"#bd3786\"],[0.5555555555555556,\"#d8576b\"],[0.6666666666666666,\"#ed7953\"],[0.7777777777777778,\"#fb9f3a\"],[0.8888888888888888,\"#fdca26\"],[1.0,\"#f0f921\"]]}],\"surface\":[{\"type\":\"surface\",\"colorbar\":{\"outlinewidth\":0,\"ticks\":\"\"},\"colorscale\":[[0.0,\"#0d0887\"],[0.1111111111111111,\"#46039f\"],[0.2222222222222222,\"#7201a8\"],[0.3333333333333333,\"#9c179e\"],[0.4444444444444444,\"#bd3786\"],[0.5555555555555556,\"#d8576b\"],[0.6666666666666666,\"#ed7953\"],[0.7777777777777778,\"#fb9f3a\"],[0.8888888888888888,\"#fdca26\"],[1.0,\"#f0f921\"]]}],\"mesh3d\":[{\"type\":\"mesh3d\",\"colorbar\":{\"outlinewidth\":0,\"ticks\":\"\"}}],\"scatter\":[{\"fillpattern\":{\"fillmode\":\"overlay\",\"size\":10,\"solidity\":0.2},\"type\":\"scatter\"}],\"parcoords\":[{\"type\":\"parcoords\",\"line\":{\"colorbar\":{\"outlinewidth\":0,\"ticks\":\"\"}}}],\"scatterpolargl\":[{\"type\":\"scatterpolargl\",\"marker\":{\"colorbar\":{\"outlinewidth\":0,\"ticks\":\"\"}}}],\"bar\":[{\"error_x\":{\"color\":\"#2a3f5f\"},\"error_y\":{\"color\":\"#2a3f5f\"},\"marker\":{\"line\":{\"color\":\"#E5ECF6\",\"width\":0.5},\"pattern\":{\"fillmode\":\"overlay\",\"size\":10,\"solidity\":0.2}},\"type\":\"bar\"}],\"scattergeo\":[{\"type\":\"scattergeo\",\"marker\":{\"colorbar\":{\"outlinewidth\":0,\"ticks\":\"\"}}}],\"scatterpolar\":[{\"type\":\"scatterpolar\",\"marker\":{\"colorbar\":{\"outlinewidth\":0,\"ticks\":\"\"}}}],\"histogram\":[{\"marker\":{\"pattern\":{\"fillmode\":\"overlay\",\"size\":10,\"solidity\":0.2}},\"type\":\"histogram\"}],\"scattergl\":[{\"type\":\"scattergl\",\"marker\":{\"colorbar\":{\"outlinewidth\":0,\"ticks\":\"\"}}}],\"scatter3d\":[{\"type\":\"scatter3d\",\"line\":{\"colorbar\":{\"outlinewidth\":0,\"ticks\":\"\"}},\"marker\":{\"colorbar\":{\"outlinewidth\":0,\"ticks\":\"\"}}}],\"scattermapbox\":[{\"type\":\"scattermapbox\",\"marker\":{\"colorbar\":{\"outlinewidth\":0,\"ticks\":\"\"}}}],\"scatterternary\":[{\"type\":\"scatterternary\",\"marker\":{\"colorbar\":{\"outlinewidth\":0,\"ticks\":\"\"}}}],\"scattercarpet\":[{\"type\":\"scattercarpet\",\"marker\":{\"colorbar\":{\"outlinewidth\":0,\"ticks\":\"\"}}}],\"carpet\":[{\"aaxis\":{\"endlinecolor\":\"#2a3f5f\",\"gridcolor\":\"white\",\"linecolor\":\"white\",\"minorgridcolor\":\"white\",\"startlinecolor\":\"#2a3f5f\"},\"baxis\":{\"endlinecolor\":\"#2a3f5f\",\"gridcolor\":\"white\",\"linecolor\":\"white\",\"minorgridcolor\":\"white\",\"startlinecolor\":\"#2a3f5f\"},\"type\":\"carpet\"}],\"table\":[{\"cells\":{\"fill\":{\"color\":\"#EBF0F8\"},\"line\":{\"color\":\"white\"}},\"header\":{\"fill\":{\"color\":\"#C8D4E3\"},\"line\":{\"color\":\"white\"}},\"type\":\"table\"}],\"barpolar\":[{\"marker\":{\"line\":{\"color\":\"#E5ECF6\",\"width\":0.5},\"pattern\":{\"fillmode\":\"overlay\",\"size\":10,\"solidity\":0.2}},\"type\":\"barpolar\"}],\"pie\":[{\"automargin\":true,\"type\":\"pie\"}]},\"layout\":{\"autotypenumbers\":\"strict\",\"colorway\":[\"#636efa\",\"#EF553B\",\"#00cc96\",\"#ab63fa\",\"#FFA15A\",\"#19d3f3\",\"#FF6692\",\"#B6E880\",\"#FF97FF\",\"#FECB52\"],\"font\":{\"color\":\"#2a3f5f\"},\"hovermode\":\"closest\",\"hoverlabel\":{\"align\":\"left\"},\"paper_bgcolor\":\"white\",\"plot_bgcolor\":\"#E5ECF6\",\"polar\":{\"bgcolor\":\"#E5ECF6\",\"angularaxis\":{\"gridcolor\":\"white\",\"linecolor\":\"white\",\"ticks\":\"\"},\"radialaxis\":{\"gridcolor\":\"white\",\"linecolor\":\"white\",\"ticks\":\"\"}},\"ternary\":{\"bgcolor\":\"#E5ECF6\",\"aaxis\":{\"gridcolor\":\"white\",\"linecolor\":\"white\",\"ticks\":\"\"},\"baxis\":{\"gridcolor\":\"white\",\"linecolor\":\"white\",\"ticks\":\"\"},\"caxis\":{\"gridcolor\":\"white\",\"linecolor\":\"white\",\"ticks\":\"\"}},\"coloraxis\":{\"colorbar\":{\"outlinewidth\":0,\"ticks\":\"\"}},\"colorscale\":{\"sequential\":[[0.0,\"#0d0887\"],[0.1111111111111111,\"#46039f\"],[0.2222222222222222,\"#7201a8\"],[0.3333333333333333,\"#9c179e\"],[0.4444444444444444,\"#bd3786\"],[0.5555555555555556,\"#d8576b\"],[0.6666666666666666,\"#ed7953\"],[0.7777777777777778,\"#fb9f3a\"],[0.8888888888888888,\"#fdca26\"],[1.0,\"#f0f921\"]],\"sequentialminus\":[[0.0,\"#0d0887\"],[0.1111111111111111,\"#46039f\"],[0.2222222222222222,\"#7201a8\"],[0.3333333333333333,\"#9c179e\"],[0.4444444444444444,\"#bd3786\"],[0.5555555555555556,\"#d8576b\"],[0.6666666666666666,\"#ed7953\"],[0.7777777777777778,\"#fb9f3a\"],[0.8888888888888888,\"#fdca26\"],[1.0,\"#f0f921\"]],\"diverging\":[[0,\"#8e0152\"],[0.1,\"#c51b7d\"],[0.2,\"#de77ae\"],[0.3,\"#f1b6da\"],[0.4,\"#fde0ef\"],[0.5,\"#f7f7f7\"],[0.6,\"#e6f5d0\"],[0.7,\"#b8e186\"],[0.8,\"#7fbc41\"],[0.9,\"#4d9221\"],[1,\"#276419\"]]},\"xaxis\":{\"gridcolor\":\"white\",\"linecolor\":\"white\",\"ticks\":\"\",\"title\":{\"standoff\":15},\"zerolinecolor\":\"white\",\"automargin\":true,\"zerolinewidth\":2},\"yaxis\":{\"gridcolor\":\"white\",\"linecolor\":\"white\",\"ticks\":\"\",\"title\":{\"standoff\":15},\"zerolinecolor\":\"white\",\"automargin\":true,\"zerolinewidth\":2},\"scene\":{\"xaxis\":{\"backgroundcolor\":\"#E5ECF6\",\"gridcolor\":\"white\",\"linecolor\":\"white\",\"showbackground\":true,\"ticks\":\"\",\"zerolinecolor\":\"white\",\"gridwidth\":2},\"yaxis\":{\"backgroundcolor\":\"#E5ECF6\",\"gridcolor\":\"white\",\"linecolor\":\"white\",\"showbackground\":true,\"ticks\":\"\",\"zerolinecolor\":\"white\",\"gridwidth\":2},\"zaxis\":{\"backgroundcolor\":\"#E5ECF6\",\"gridcolor\":\"white\",\"linecolor\":\"white\",\"showbackground\":true,\"ticks\":\"\",\"zerolinecolor\":\"white\",\"gridwidth\":2}},\"shapedefaults\":{\"line\":{\"color\":\"#2a3f5f\"}},\"annotationdefaults\":{\"arrowcolor\":\"#2a3f5f\",\"arrowhead\":0,\"arrowwidth\":1},\"geo\":{\"bgcolor\":\"white\",\"landcolor\":\"#E5ECF6\",\"subunitcolor\":\"white\",\"showland\":true,\"showlakes\":true,\"lakecolor\":\"white\"},\"title\":{\"x\":0.05},\"mapbox\":{\"style\":\"light\"}}},\"xaxis\":{\"anchor\":\"y\",\"domain\":[0.0,1.0],\"title\":{\"text\":\"Quantity\"}},\"yaxis\":{\"anchor\":\"x\",\"domain\":[0.0,1.0],\"title\":{\"text\":\"Description\"}},\"legend\":{\"tracegroupgap\":0},\"title\":{\"text\":\"Top 10 Products by Quantity Sold\"},\"barmode\":\"relative\"},                        {\"responsive\": true}                    ).then(function(){\n",
       "                            \n",
       "var gd = document.getElementById('d14b827c-5ec2-4c40-9b9c-234736bc7fea');\n",
       "var x = new MutationObserver(function (mutations, observer) {{\n",
       "        var display = window.getComputedStyle(gd).display;\n",
       "        if (!display || display === 'none') {{\n",
       "            console.log([gd, 'removed!']);\n",
       "            Plotly.purge(gd);\n",
       "            observer.disconnect();\n",
       "        }}\n",
       "}});\n",
       "\n",
       "// Listen for the removal of the full notebook cells\n",
       "var notebookContainer = gd.closest('#notebook-container');\n",
       "if (notebookContainer) {{\n",
       "    x.observe(notebookContainer, {childList: true});\n",
       "}}\n",
       "\n",
       "// Listen for the clearing of the current output cell\n",
       "var outputEl = gd.closest('.output');\n",
       "if (outputEl) {{\n",
       "    x.observe(outputEl, {childList: true});\n",
       "}}\n",
       "\n",
       "                        })                };                });            </script>        </div>"
      ]
     },
     "metadata": {},
     "output_type": "display_data"
    }
   ],
   "source": [
    "TopProducts.reset_index(inplace=True)\n",
    "\n",
    "px.bar(TopProducts.head(10), y='Description', x='Quantity',\n",
    "    orientation='h',\n",
    "    title='Top 10 Products by Quantity Sold')\n"
   ]
  },
  {
   "cell_type": "markdown",
   "id": "25aed3a7",
   "metadata": {
    "papermill": {
     "duration": 0.0152,
     "end_time": "2024-11-03T17:41:58.575460",
     "exception": false,
     "start_time": "2024-11-03T17:41:58.560260",
     "status": "completed"
    },
    "tags": []
   },
   "source": [
    "The product with the highest quantity sold is \"PAPER CRAFT, LITTLE BIRDIE,\" with approximately `80,000` units."
   ]
  },
  {
   "cell_type": "markdown",
   "id": "a2c0b6b6",
   "metadata": {
    "papermill": {
     "duration": 0.014866,
     "end_time": "2024-11-03T17:41:58.605324",
     "exception": false,
     "start_time": "2024-11-03T17:41:58.590458",
     "status": "completed"
    },
    "tags": []
   },
   "source": [
    "Let’s check out the number of unique customers:\n"
   ]
  },
  {
   "cell_type": "code",
   "execution_count": 12,
   "id": "809a0f04",
   "metadata": {
    "execution": {
     "iopub.execute_input": "2024-11-03T17:41:58.637255Z",
     "iopub.status.busy": "2024-11-03T17:41:58.636816Z",
     "iopub.status.idle": "2024-11-03T17:41:58.649964Z",
     "shell.execute_reply": "2024-11-03T17:41:58.648660Z"
    },
    "papermill": {
     "duration": 0.03227,
     "end_time": "2024-11-03T17:41:58.652502",
     "exception": false,
     "start_time": "2024-11-03T17:41:58.620232",
     "status": "completed"
    },
    "tags": []
   },
   "outputs": [
    {
     "data": {
      "text/plain": [
       "4339"
      ]
     },
     "execution_count": 12,
     "metadata": {},
     "output_type": "execute_result"
    }
   ],
   "source": [
    "customers = df[\"CustomerID\"].unique().tolist()\n",
    "len(customers)"
   ]
  },
  {
   "cell_type": "markdown",
   "id": "ddd10f0a",
   "metadata": {
    "papermill": {
     "duration": 0.015105,
     "end_time": "2024-11-03T17:41:58.683317",
     "exception": false,
     "start_time": "2024-11-03T17:41:58.668212",
     "status": "completed"
    },
    "tags": []
   },
   "source": [
    "There are `4,339` customers. For each customer, we will extract his buying history"
   ]
  },
  {
   "cell_type": "markdown",
   "id": "6264fbaf",
   "metadata": {
    "papermill": {
     "duration": 0.018535,
     "end_time": "2024-11-03T17:41:58.718380",
     "exception": false,
     "start_time": "2024-11-03T17:41:58.699845",
     "status": "completed"
    },
    "tags": []
   },
   "source": [
    "## Top Products by Number of Customers"
   ]
  },
  {
   "cell_type": "code",
   "execution_count": 13,
   "id": "38a7891a",
   "metadata": {
    "execution": {
     "iopub.execute_input": "2024-11-03T17:41:58.761530Z",
     "iopub.status.busy": "2024-11-03T17:41:58.760240Z",
     "iopub.status.idle": "2024-11-03T17:41:59.120735Z",
     "shell.execute_reply": "2024-11-03T17:41:59.119470Z"
    },
    "papermill": {
     "duration": 0.387575,
     "end_time": "2024-11-03T17:41:59.123510",
     "exception": false,
     "start_time": "2024-11-03T17:41:58.735935",
     "status": "completed"
    },
    "tags": []
   },
   "outputs": [],
   "source": [
    "CustomersBoughts = df.pivot_table(index=['StockCode','Description'],\n",
    "                                values='CustomerID',\n",
    "                                aggfunc=lambda x: len(x.unique())).sort_values(by='CustomerID', ascending=False)"
   ]
  },
  {
   "cell_type": "code",
   "execution_count": 14,
   "id": "5c5a703a",
   "metadata": {
    "execution": {
     "iopub.execute_input": "2024-11-03T17:41:59.155673Z",
     "iopub.status.busy": "2024-11-03T17:41:59.155273Z",
     "iopub.status.idle": "2024-11-03T17:41:59.166696Z",
     "shell.execute_reply": "2024-11-03T17:41:59.165589Z"
    },
    "papermill": {
     "duration": 0.030473,
     "end_time": "2024-11-03T17:41:59.169107",
     "exception": false,
     "start_time": "2024-11-03T17:41:59.138634",
     "status": "completed"
    },
    "tags": []
   },
   "outputs": [
    {
     "data": {
      "text/html": [
       "<div>\n",
       "<style scoped>\n",
       "    .dataframe tbody tr th:only-of-type {\n",
       "        vertical-align: middle;\n",
       "    }\n",
       "\n",
       "    .dataframe tbody tr th {\n",
       "        vertical-align: top;\n",
       "    }\n",
       "\n",
       "    .dataframe thead th {\n",
       "        text-align: right;\n",
       "    }\n",
       "</style>\n",
       "<table border=\"1\" class=\"dataframe\">\n",
       "  <thead>\n",
       "    <tr style=\"text-align: right;\">\n",
       "      <th></th>\n",
       "      <th></th>\n",
       "      <th>CustomerID</th>\n",
       "    </tr>\n",
       "    <tr>\n",
       "      <th>StockCode</th>\n",
       "      <th>Description</th>\n",
       "      <th></th>\n",
       "    </tr>\n",
       "  </thead>\n",
       "  <tbody>\n",
       "    <tr>\n",
       "      <th>22423</th>\n",
       "      <th>REGENCY CAKESTAND 3 TIER</th>\n",
       "      <td>881</td>\n",
       "    </tr>\n",
       "    <tr>\n",
       "      <th>85123A</th>\n",
       "      <th>WHITE HANGING HEART T-LIGHT HOLDER</th>\n",
       "      <td>856</td>\n",
       "    </tr>\n",
       "    <tr>\n",
       "      <th>47566</th>\n",
       "      <th>PARTY BUNTING</th>\n",
       "      <td>708</td>\n",
       "    </tr>\n",
       "    <tr>\n",
       "      <th>84879</th>\n",
       "      <th>ASSORTED COLOUR BIRD ORNAMENT</th>\n",
       "      <td>678</td>\n",
       "    </tr>\n",
       "    <tr>\n",
       "      <th>22720</th>\n",
       "      <th>SET OF 3 CAKE TINS PANTRY DESIGN</th>\n",
       "      <td>640</td>\n",
       "    </tr>\n",
       "    <tr>\n",
       "      <th>21212</th>\n",
       "      <th>PACK OF 72 RETROSPOT CAKE CASES</th>\n",
       "      <td>635</td>\n",
       "    </tr>\n",
       "    <tr>\n",
       "      <th>85099B</th>\n",
       "      <th>JUMBO BAG RED RETROSPOT</th>\n",
       "      <td>635</td>\n",
       "    </tr>\n",
       "    <tr>\n",
       "      <th>22086</th>\n",
       "      <th>PAPER CHAIN KIT 50'S CHRISTMAS</th>\n",
       "      <td>613</td>\n",
       "    </tr>\n",
       "    <tr>\n",
       "      <th>22457</th>\n",
       "      <th>NATURAL SLATE HEART CHALKBOARD</th>\n",
       "      <td>587</td>\n",
       "    </tr>\n",
       "    <tr>\n",
       "      <th>22138</th>\n",
       "      <th>BAKING SET 9 PIECE RETROSPOT</th>\n",
       "      <td>581</td>\n",
       "    </tr>\n",
       "  </tbody>\n",
       "</table>\n",
       "</div>"
      ],
      "text/plain": [
       "                                              CustomerID\n",
       "StockCode Description                                   \n",
       "22423     REGENCY CAKESTAND 3 TIER                   881\n",
       "85123A    WHITE HANGING HEART T-LIGHT HOLDER         856\n",
       "47566     PARTY BUNTING                              708\n",
       "84879     ASSORTED COLOUR BIRD ORNAMENT              678\n",
       "22720     SET OF 3 CAKE TINS PANTRY DESIGN           640\n",
       "21212     PACK OF 72 RETROSPOT CAKE CASES            635\n",
       "85099B    JUMBO BAG RED RETROSPOT                    635\n",
       "22086     PAPER CHAIN KIT 50'S CHRISTMAS             613\n",
       "22457     NATURAL SLATE HEART CHALKBOARD             587\n",
       "22138     BAKING SET 9 PIECE RETROSPOT               581"
      ]
     },
     "execution_count": 14,
     "metadata": {},
     "output_type": "execute_result"
    }
   ],
   "source": [
    "CustomersBoughts.head(10)"
   ]
  },
  {
   "cell_type": "code",
   "execution_count": 15,
   "id": "341970d7",
   "metadata": {
    "execution": {
     "iopub.execute_input": "2024-11-03T17:41:59.202681Z",
     "iopub.status.busy": "2024-11-03T17:41:59.202277Z",
     "iopub.status.idle": "2024-11-03T17:41:59.266221Z",
     "shell.execute_reply": "2024-11-03T17:41:59.264993Z"
    },
    "papermill": {
     "duration": 0.084301,
     "end_time": "2024-11-03T17:41:59.268705",
     "exception": false,
     "start_time": "2024-11-03T17:41:59.184404",
     "status": "completed"
    },
    "tags": []
   },
   "outputs": [
    {
     "data": {
      "text/html": [
       "<div>                            <div id=\"d42c3ae1-7f33-4dae-bb2c-f36bcd314200\" class=\"plotly-graph-div\" style=\"height:525px; width:100%;\"></div>            <script type=\"text/javascript\">                require([\"plotly\"], function(Plotly) {                    window.PLOTLYENV=window.PLOTLYENV || {};                                    if (document.getElementById(\"d42c3ae1-7f33-4dae-bb2c-f36bcd314200\")) {                    Plotly.newPlot(                        \"d42c3ae1-7f33-4dae-bb2c-f36bcd314200\",                        [{\"alignmentgroup\":\"True\",\"hovertemplate\":\"CustomerID=%{x}\\u003cbr\\u003eDescription=%{y}\\u003cextra\\u003e\\u003c\\u002fextra\\u003e\",\"legendgroup\":\"\",\"marker\":{\"color\":\"#636efa\",\"pattern\":{\"shape\":\"\"}},\"name\":\"\",\"offsetgroup\":\"\",\"orientation\":\"h\",\"showlegend\":false,\"textposition\":\"auto\",\"x\":[881,856,708,678,640,635,635,613,587,581],\"xaxis\":\"x\",\"y\":[\"REGENCY CAKESTAND 3 TIER\",\"WHITE HANGING HEART T-LIGHT HOLDER\",\"PARTY BUNTING\",\"ASSORTED COLOUR BIRD ORNAMENT\",\"SET OF 3 CAKE TINS PANTRY DESIGN \",\"PACK OF 72 RETROSPOT CAKE CASES\",\"JUMBO BAG RED RETROSPOT\",\"PAPER CHAIN KIT 50'S CHRISTMAS \",\"NATURAL SLATE HEART CHALKBOARD \",\"BAKING SET 9 PIECE RETROSPOT \"],\"yaxis\":\"y\",\"type\":\"bar\"}],                        {\"template\":{\"data\":{\"histogram2dcontour\":[{\"type\":\"histogram2dcontour\",\"colorbar\":{\"outlinewidth\":0,\"ticks\":\"\"},\"colorscale\":[[0.0,\"#0d0887\"],[0.1111111111111111,\"#46039f\"],[0.2222222222222222,\"#7201a8\"],[0.3333333333333333,\"#9c179e\"],[0.4444444444444444,\"#bd3786\"],[0.5555555555555556,\"#d8576b\"],[0.6666666666666666,\"#ed7953\"],[0.7777777777777778,\"#fb9f3a\"],[0.8888888888888888,\"#fdca26\"],[1.0,\"#f0f921\"]]}],\"choropleth\":[{\"type\":\"choropleth\",\"colorbar\":{\"outlinewidth\":0,\"ticks\":\"\"}}],\"histogram2d\":[{\"type\":\"histogram2d\",\"colorbar\":{\"outlinewidth\":0,\"ticks\":\"\"},\"colorscale\":[[0.0,\"#0d0887\"],[0.1111111111111111,\"#46039f\"],[0.2222222222222222,\"#7201a8\"],[0.3333333333333333,\"#9c179e\"],[0.4444444444444444,\"#bd3786\"],[0.5555555555555556,\"#d8576b\"],[0.6666666666666666,\"#ed7953\"],[0.7777777777777778,\"#fb9f3a\"],[0.8888888888888888,\"#fdca26\"],[1.0,\"#f0f921\"]]}],\"heatmap\":[{\"type\":\"heatmap\",\"colorbar\":{\"outlinewidth\":0,\"ticks\":\"\"},\"colorscale\":[[0.0,\"#0d0887\"],[0.1111111111111111,\"#46039f\"],[0.2222222222222222,\"#7201a8\"],[0.3333333333333333,\"#9c179e\"],[0.4444444444444444,\"#bd3786\"],[0.5555555555555556,\"#d8576b\"],[0.6666666666666666,\"#ed7953\"],[0.7777777777777778,\"#fb9f3a\"],[0.8888888888888888,\"#fdca26\"],[1.0,\"#f0f921\"]]}],\"heatmapgl\":[{\"type\":\"heatmapgl\",\"colorbar\":{\"outlinewidth\":0,\"ticks\":\"\"},\"colorscale\":[[0.0,\"#0d0887\"],[0.1111111111111111,\"#46039f\"],[0.2222222222222222,\"#7201a8\"],[0.3333333333333333,\"#9c179e\"],[0.4444444444444444,\"#bd3786\"],[0.5555555555555556,\"#d8576b\"],[0.6666666666666666,\"#ed7953\"],[0.7777777777777778,\"#fb9f3a\"],[0.8888888888888888,\"#fdca26\"],[1.0,\"#f0f921\"]]}],\"contourcarpet\":[{\"type\":\"contourcarpet\",\"colorbar\":{\"outlinewidth\":0,\"ticks\":\"\"}}],\"contour\":[{\"type\":\"contour\",\"colorbar\":{\"outlinewidth\":0,\"ticks\":\"\"},\"colorscale\":[[0.0,\"#0d0887\"],[0.1111111111111111,\"#46039f\"],[0.2222222222222222,\"#7201a8\"],[0.3333333333333333,\"#9c179e\"],[0.4444444444444444,\"#bd3786\"],[0.5555555555555556,\"#d8576b\"],[0.6666666666666666,\"#ed7953\"],[0.7777777777777778,\"#fb9f3a\"],[0.8888888888888888,\"#fdca26\"],[1.0,\"#f0f921\"]]}],\"surface\":[{\"type\":\"surface\",\"colorbar\":{\"outlinewidth\":0,\"ticks\":\"\"},\"colorscale\":[[0.0,\"#0d0887\"],[0.1111111111111111,\"#46039f\"],[0.2222222222222222,\"#7201a8\"],[0.3333333333333333,\"#9c179e\"],[0.4444444444444444,\"#bd3786\"],[0.5555555555555556,\"#d8576b\"],[0.6666666666666666,\"#ed7953\"],[0.7777777777777778,\"#fb9f3a\"],[0.8888888888888888,\"#fdca26\"],[1.0,\"#f0f921\"]]}],\"mesh3d\":[{\"type\":\"mesh3d\",\"colorbar\":{\"outlinewidth\":0,\"ticks\":\"\"}}],\"scatter\":[{\"fillpattern\":{\"fillmode\":\"overlay\",\"size\":10,\"solidity\":0.2},\"type\":\"scatter\"}],\"parcoords\":[{\"type\":\"parcoords\",\"line\":{\"colorbar\":{\"outlinewidth\":0,\"ticks\":\"\"}}}],\"scatterpolargl\":[{\"type\":\"scatterpolargl\",\"marker\":{\"colorbar\":{\"outlinewidth\":0,\"ticks\":\"\"}}}],\"bar\":[{\"error_x\":{\"color\":\"#2a3f5f\"},\"error_y\":{\"color\":\"#2a3f5f\"},\"marker\":{\"line\":{\"color\":\"#E5ECF6\",\"width\":0.5},\"pattern\":{\"fillmode\":\"overlay\",\"size\":10,\"solidity\":0.2}},\"type\":\"bar\"}],\"scattergeo\":[{\"type\":\"scattergeo\",\"marker\":{\"colorbar\":{\"outlinewidth\":0,\"ticks\":\"\"}}}],\"scatterpolar\":[{\"type\":\"scatterpolar\",\"marker\":{\"colorbar\":{\"outlinewidth\":0,\"ticks\":\"\"}}}],\"histogram\":[{\"marker\":{\"pattern\":{\"fillmode\":\"overlay\",\"size\":10,\"solidity\":0.2}},\"type\":\"histogram\"}],\"scattergl\":[{\"type\":\"scattergl\",\"marker\":{\"colorbar\":{\"outlinewidth\":0,\"ticks\":\"\"}}}],\"scatter3d\":[{\"type\":\"scatter3d\",\"line\":{\"colorbar\":{\"outlinewidth\":0,\"ticks\":\"\"}},\"marker\":{\"colorbar\":{\"outlinewidth\":0,\"ticks\":\"\"}}}],\"scattermapbox\":[{\"type\":\"scattermapbox\",\"marker\":{\"colorbar\":{\"outlinewidth\":0,\"ticks\":\"\"}}}],\"scatterternary\":[{\"type\":\"scatterternary\",\"marker\":{\"colorbar\":{\"outlinewidth\":0,\"ticks\":\"\"}}}],\"scattercarpet\":[{\"type\":\"scattercarpet\",\"marker\":{\"colorbar\":{\"outlinewidth\":0,\"ticks\":\"\"}}}],\"carpet\":[{\"aaxis\":{\"endlinecolor\":\"#2a3f5f\",\"gridcolor\":\"white\",\"linecolor\":\"white\",\"minorgridcolor\":\"white\",\"startlinecolor\":\"#2a3f5f\"},\"baxis\":{\"endlinecolor\":\"#2a3f5f\",\"gridcolor\":\"white\",\"linecolor\":\"white\",\"minorgridcolor\":\"white\",\"startlinecolor\":\"#2a3f5f\"},\"type\":\"carpet\"}],\"table\":[{\"cells\":{\"fill\":{\"color\":\"#EBF0F8\"},\"line\":{\"color\":\"white\"}},\"header\":{\"fill\":{\"color\":\"#C8D4E3\"},\"line\":{\"color\":\"white\"}},\"type\":\"table\"}],\"barpolar\":[{\"marker\":{\"line\":{\"color\":\"#E5ECF6\",\"width\":0.5},\"pattern\":{\"fillmode\":\"overlay\",\"size\":10,\"solidity\":0.2}},\"type\":\"barpolar\"}],\"pie\":[{\"automargin\":true,\"type\":\"pie\"}]},\"layout\":{\"autotypenumbers\":\"strict\",\"colorway\":[\"#636efa\",\"#EF553B\",\"#00cc96\",\"#ab63fa\",\"#FFA15A\",\"#19d3f3\",\"#FF6692\",\"#B6E880\",\"#FF97FF\",\"#FECB52\"],\"font\":{\"color\":\"#2a3f5f\"},\"hovermode\":\"closest\",\"hoverlabel\":{\"align\":\"left\"},\"paper_bgcolor\":\"white\",\"plot_bgcolor\":\"#E5ECF6\",\"polar\":{\"bgcolor\":\"#E5ECF6\",\"angularaxis\":{\"gridcolor\":\"white\",\"linecolor\":\"white\",\"ticks\":\"\"},\"radialaxis\":{\"gridcolor\":\"white\",\"linecolor\":\"white\",\"ticks\":\"\"}},\"ternary\":{\"bgcolor\":\"#E5ECF6\",\"aaxis\":{\"gridcolor\":\"white\",\"linecolor\":\"white\",\"ticks\":\"\"},\"baxis\":{\"gridcolor\":\"white\",\"linecolor\":\"white\",\"ticks\":\"\"},\"caxis\":{\"gridcolor\":\"white\",\"linecolor\":\"white\",\"ticks\":\"\"}},\"coloraxis\":{\"colorbar\":{\"outlinewidth\":0,\"ticks\":\"\"}},\"colorscale\":{\"sequential\":[[0.0,\"#0d0887\"],[0.1111111111111111,\"#46039f\"],[0.2222222222222222,\"#7201a8\"],[0.3333333333333333,\"#9c179e\"],[0.4444444444444444,\"#bd3786\"],[0.5555555555555556,\"#d8576b\"],[0.6666666666666666,\"#ed7953\"],[0.7777777777777778,\"#fb9f3a\"],[0.8888888888888888,\"#fdca26\"],[1.0,\"#f0f921\"]],\"sequentialminus\":[[0.0,\"#0d0887\"],[0.1111111111111111,\"#46039f\"],[0.2222222222222222,\"#7201a8\"],[0.3333333333333333,\"#9c179e\"],[0.4444444444444444,\"#bd3786\"],[0.5555555555555556,\"#d8576b\"],[0.6666666666666666,\"#ed7953\"],[0.7777777777777778,\"#fb9f3a\"],[0.8888888888888888,\"#fdca26\"],[1.0,\"#f0f921\"]],\"diverging\":[[0,\"#8e0152\"],[0.1,\"#c51b7d\"],[0.2,\"#de77ae\"],[0.3,\"#f1b6da\"],[0.4,\"#fde0ef\"],[0.5,\"#f7f7f7\"],[0.6,\"#e6f5d0\"],[0.7,\"#b8e186\"],[0.8,\"#7fbc41\"],[0.9,\"#4d9221\"],[1,\"#276419\"]]},\"xaxis\":{\"gridcolor\":\"white\",\"linecolor\":\"white\",\"ticks\":\"\",\"title\":{\"standoff\":15},\"zerolinecolor\":\"white\",\"automargin\":true,\"zerolinewidth\":2},\"yaxis\":{\"gridcolor\":\"white\",\"linecolor\":\"white\",\"ticks\":\"\",\"title\":{\"standoff\":15},\"zerolinecolor\":\"white\",\"automargin\":true,\"zerolinewidth\":2},\"scene\":{\"xaxis\":{\"backgroundcolor\":\"#E5ECF6\",\"gridcolor\":\"white\",\"linecolor\":\"white\",\"showbackground\":true,\"ticks\":\"\",\"zerolinecolor\":\"white\",\"gridwidth\":2},\"yaxis\":{\"backgroundcolor\":\"#E5ECF6\",\"gridcolor\":\"white\",\"linecolor\":\"white\",\"showbackground\":true,\"ticks\":\"\",\"zerolinecolor\":\"white\",\"gridwidth\":2},\"zaxis\":{\"backgroundcolor\":\"#E5ECF6\",\"gridcolor\":\"white\",\"linecolor\":\"white\",\"showbackground\":true,\"ticks\":\"\",\"zerolinecolor\":\"white\",\"gridwidth\":2}},\"shapedefaults\":{\"line\":{\"color\":\"#2a3f5f\"}},\"annotationdefaults\":{\"arrowcolor\":\"#2a3f5f\",\"arrowhead\":0,\"arrowwidth\":1},\"geo\":{\"bgcolor\":\"white\",\"landcolor\":\"#E5ECF6\",\"subunitcolor\":\"white\",\"showland\":true,\"showlakes\":true,\"lakecolor\":\"white\"},\"title\":{\"x\":0.05},\"mapbox\":{\"style\":\"light\"}}},\"xaxis\":{\"anchor\":\"y\",\"domain\":[0.0,1.0],\"title\":{\"text\":\"CustomerID\"}},\"yaxis\":{\"anchor\":\"x\",\"domain\":[0.0,1.0],\"title\":{\"text\":\"Description\"}},\"legend\":{\"tracegroupgap\":0},\"title\":{\"text\":\"Top 10 Products by Number of Customers\"},\"barmode\":\"relative\"},                        {\"responsive\": true}                    ).then(function(){\n",
       "                            \n",
       "var gd = document.getElementById('d42c3ae1-7f33-4dae-bb2c-f36bcd314200');\n",
       "var x = new MutationObserver(function (mutations, observer) {{\n",
       "        var display = window.getComputedStyle(gd).display;\n",
       "        if (!display || display === 'none') {{\n",
       "            console.log([gd, 'removed!']);\n",
       "            Plotly.purge(gd);\n",
       "            observer.disconnect();\n",
       "        }}\n",
       "}});\n",
       "\n",
       "// Listen for the removal of the full notebook cells\n",
       "var notebookContainer = gd.closest('#notebook-container');\n",
       "if (notebookContainer) {{\n",
       "    x.observe(notebookContainer, {childList: true});\n",
       "}}\n",
       "\n",
       "// Listen for the clearing of the current output cell\n",
       "var outputEl = gd.closest('.output');\n",
       "if (outputEl) {{\n",
       "    x.observe(outputEl, {childList: true});\n",
       "}}\n",
       "\n",
       "                        })                };                });            </script>        </div>"
      ]
     },
     "metadata": {},
     "output_type": "display_data"
    }
   ],
   "source": [
    "CustomersBoughts.reset_index(inplace=True)\n",
    "\n",
    "px.bar(CustomersBoughts.head(10), y='Description', x='CustomerID',\n",
    "    orientation='h',\n",
    "    title='Top 10 Products by Number of Customers')"
   ]
  },
  {
   "cell_type": "markdown",
   "id": "43912747",
   "metadata": {
    "papermill": {
     "duration": 0.015502,
     "end_time": "2024-11-03T17:41:59.300094",
     "exception": false,
     "start_time": "2024-11-03T17:41:59.284592",
     "status": "completed"
    },
    "tags": []
   },
   "source": [
    "The product with the highest number of customers is \"REGEENCY CAKESTAND 3 TIER,\" with approximately `900` customers."
   ]
  },
  {
   "cell_type": "markdown",
   "id": "71954811",
   "metadata": {
    "papermill": {
     "duration": 0.015932,
     "end_time": "2024-11-03T17:41:59.331566",
     "exception": false,
     "start_time": "2024-11-03T17:41:59.315634",
     "status": "completed"
    },
    "tags": []
   },
   "source": [
    "# Prepare data for modeling"
   ]
  },
  {
   "cell_type": "markdown",
   "id": "6546e55f",
   "metadata": {
    "papermill": {
     "duration": 0.016513,
     "end_time": "2024-11-03T17:41:59.363805",
     "exception": false,
     "start_time": "2024-11-03T17:41:59.347292",
     "status": "completed"
    },
    "tags": []
   },
   "source": [
    "We will extract the buying history of 4,372 customers in the data. In other words, we can have 4,372 sequences of similar purchases."
   ]
  },
  {
   "cell_type": "markdown",
   "id": "e48b7b25",
   "metadata": {
    "papermill": {
     "duration": 0.015303,
     "end_time": "2024-11-03T17:41:59.395725",
     "exception": false,
     "start_time": "2024-11-03T17:41:59.380422",
     "status": "completed"
    },
    "tags": []
   },
   "source": [
    "## Spliting data"
   ]
  },
  {
   "cell_type": "markdown",
   "id": "97c6d4ac",
   "metadata": {
    "papermill": {
     "duration": 0.015169,
     "end_time": "2024-11-03T17:41:59.426683",
     "exception": false,
     "start_time": "2024-11-03T17:41:59.411514",
     "status": "completed"
    },
    "tags": []
   },
   "source": [
    "I will use the data of 90% of the customers as a training dataset to create word2vec embeddings."
   ]
  },
  {
   "cell_type": "code",
   "execution_count": 16,
   "id": "2be0e821",
   "metadata": {
    "execution": {
     "iopub.execute_input": "2024-11-03T17:41:59.460182Z",
     "iopub.status.busy": "2024-11-03T17:41:59.459610Z",
     "iopub.status.idle": "2024-11-03T17:41:59.579491Z",
     "shell.execute_reply": "2024-11-03T17:41:59.578233Z"
    },
    "papermill": {
     "duration": 0.139631,
     "end_time": "2024-11-03T17:41:59.582187",
     "exception": false,
     "start_time": "2024-11-03T17:41:59.442556",
     "status": "completed"
    },
    "tags": []
   },
   "outputs": [],
   "source": [
    "random.shuffle(customers)\n",
    "\n",
    "# extract 90% of customer ID's\n",
    "customers_train = [customers[i] for i in range(round(0.9*len(customers)))]\n",
    "\n",
    "# split data into train and validation set\n",
    "train_df = df[df['CustomerID'].isin(customers_train)]\n",
    "validation_df = df[~df['CustomerID'].isin(customers_train)]"
   ]
  },
  {
   "cell_type": "markdown",
   "id": "1fcba08b",
   "metadata": {
    "papermill": {
     "duration": 0.0155,
     "end_time": "2024-11-03T17:41:59.613287",
     "exception": false,
     "start_time": "2024-11-03T17:41:59.597787",
     "status": "completed"
    },
    "tags": []
   },
   "source": [
    "## creating sequences of purchases"
   ]
  },
  {
   "cell_type": "markdown",
   "id": "6f38d9bb",
   "metadata": {
    "papermill": {
     "duration": 0.015532,
     "end_time": "2024-11-03T17:41:59.644461",
     "exception": false,
     "start_time": "2024-11-03T17:41:59.628929",
     "status": "completed"
    },
    "tags": []
   },
   "source": [
    "for training dataset"
   ]
  },
  {
   "cell_type": "code",
   "execution_count": 17,
   "id": "8e9ec032",
   "metadata": {
    "execution": {
     "iopub.execute_input": "2024-11-03T17:41:59.677611Z",
     "iopub.status.busy": "2024-11-03T17:41:59.677214Z",
     "iopub.status.idle": "2024-11-03T17:42:02.309472Z",
     "shell.execute_reply": "2024-11-03T17:42:02.308102Z"
    },
    "papermill": {
     "duration": 2.651911,
     "end_time": "2024-11-03T17:42:02.311939",
     "exception": false,
     "start_time": "2024-11-03T17:41:59.660028",
     "status": "completed"
    },
    "tags": []
   },
   "outputs": [
    {
     "name": "stderr",
     "output_type": "stream",
     "text": [
      "100%|██████████| 3905/3905 [00:02<00:00, 1490.37it/s]\n"
     ]
    }
   ],
   "source": [
    "purchases_train = []\n",
    "\n",
    "for i in tqdm(customers_train):\n",
    "    temp = train_df[train_df[\"CustomerID\"] == i][\"StockCode\"].tolist()\n",
    "    purchases_train.append(temp)"
   ]
  },
  {
   "cell_type": "markdown",
   "id": "730353d0",
   "metadata": {
    "papermill": {
     "duration": 0.017622,
     "end_time": "2024-11-03T17:42:02.347092",
     "exception": false,
     "start_time": "2024-11-03T17:42:02.329470",
     "status": "completed"
    },
    "tags": []
   },
   "source": [
    "for validation dataset"
   ]
  },
  {
   "cell_type": "code",
   "execution_count": 18,
   "id": "57dabce4",
   "metadata": {
    "execution": {
     "iopub.execute_input": "2024-11-03T17:42:02.384476Z",
     "iopub.status.busy": "2024-11-03T17:42:02.383992Z",
     "iopub.status.idle": "2024-11-03T17:42:02.586390Z",
     "shell.execute_reply": "2024-11-03T17:42:02.585166Z"
    },
    "papermill": {
     "duration": 0.225135,
     "end_time": "2024-11-03T17:42:02.589589",
     "exception": false,
     "start_time": "2024-11-03T17:42:02.364454",
     "status": "completed"
    },
    "tags": []
   },
   "outputs": [
    {
     "name": "stderr",
     "output_type": "stream",
     "text": [
      "100%|██████████| 434/434 [00:00<00:00, 2258.21it/s]\n"
     ]
    }
   ],
   "source": [
    "purchases_val = []\n",
    "\n",
    "for i in tqdm(validation_df['CustomerID'].unique()):\n",
    "    temp = validation_df[validation_df[\"CustomerID\"] == i][\"StockCode\"].tolist()\n",
    "    purchases_val.append(temp)"
   ]
  },
  {
   "cell_type": "markdown",
   "id": "c44fbace",
   "metadata": {
    "papermill": {
     "duration": 0.017933,
     "end_time": "2024-11-03T17:42:02.625362",
     "exception": false,
     "start_time": "2024-11-03T17:42:02.607429",
     "status": "completed"
    },
    "tags": []
   },
   "source": [
    "# Build a recommendation system"
   ]
  },
  {
   "cell_type": "markdown",
   "id": "036b5554",
   "metadata": {
    "papermill": {
     "duration": 0.017657,
     "end_time": "2024-11-03T17:42:02.660633",
     "exception": false,
     "start_time": "2024-11-03T17:42:02.642976",
     "status": "completed"
    },
    "tags": []
   },
   "source": [
    "## Building `word2vec` Embeddings for Products"
   ]
  },
  {
   "cell_type": "code",
   "execution_count": 19,
   "id": "cbc79b9a",
   "metadata": {
    "execution": {
     "iopub.execute_input": "2024-11-03T17:42:02.699469Z",
     "iopub.status.busy": "2024-11-03T17:42:02.699018Z",
     "iopub.status.idle": "2024-11-03T17:42:16.259721Z",
     "shell.execute_reply": "2024-11-03T17:42:16.258294Z"
    },
    "papermill": {
     "duration": 13.58426,
     "end_time": "2024-11-03T17:42:16.262661",
     "exception": false,
     "start_time": "2024-11-03T17:42:02.678401",
     "status": "completed"
    },
    "tags": []
   },
   "outputs": [],
   "source": [
    "from gensim.models import Word2Vec"
   ]
  },
  {
   "cell_type": "markdown",
   "id": "fc619a71",
   "metadata": {
    "papermill": {
     "duration": 0.017793,
     "end_time": "2024-11-03T17:42:16.299324",
     "exception": false,
     "start_time": "2024-11-03T17:42:16.281531",
     "status": "completed"
    },
    "tags": []
   },
   "source": [
    "The parameters i will use:\n",
    "\n",
    "* `window = 15`: Defines the maximum distance between the current and predicted word within a sentence. \n",
    "* `sg = 1`: Means the model will use the Skip-gram approach\n",
    "* `hs = 0`: Indicates that hierarchical softmax is not used because there arn't large vocabularies.\n",
    "* `negative=10`: Sets the number of negative samples to 10.\n",
    "* `alpha=0.03`: Set learning rate for the process to 0.03.\n",
    "* `min_alpha=0.0007`: Sets the minimum learning rate to 0.0007. "
   ]
  },
  {
   "cell_type": "code",
   "execution_count": 20,
   "id": "46042e1d",
   "metadata": {
    "execution": {
     "iopub.execute_input": "2024-11-03T17:42:16.338244Z",
     "iopub.status.busy": "2024-11-03T17:42:16.337503Z",
     "iopub.status.idle": "2024-11-03T17:43:13.468941Z",
     "shell.execute_reply": "2024-11-03T17:43:13.467923Z"
    },
    "papermill": {
     "duration": 57.170668,
     "end_time": "2024-11-03T17:43:13.487741",
     "exception": false,
     "start_time": "2024-11-03T17:42:16.317073",
     "status": "completed"
    },
    "tags": []
   },
   "outputs": [
    {
     "data": {
      "text/plain": [
       "(3483615, 3519480)"
      ]
     },
     "execution_count": 20,
     "metadata": {},
     "output_type": "execute_result"
    }
   ],
   "source": [
    "model = Word2Vec(window = 15, sg = 1, hs = 0,\n",
    "                 negative = 10, \n",
    "                 alpha=0.03, min_alpha=0.0007,\n",
    "                 seed = 121)\n",
    "\n",
    "model.build_vocab(purchases_train, progress_per=200)\n",
    "\n",
    "model.train(purchases_train, total_examples = model.corpus_count, \n",
    "            epochs=10, report_delay=1)"
   ]
  },
  {
   "cell_type": "code",
   "execution_count": 21,
   "id": "24d53672",
   "metadata": {
    "execution": {
     "iopub.execute_input": "2024-11-03T17:43:13.525612Z",
     "iopub.status.busy": "2024-11-03T17:43:13.525209Z",
     "iopub.status.idle": "2024-11-03T17:43:13.531489Z",
     "shell.execute_reply": "2024-11-03T17:43:13.530132Z"
    },
    "papermill": {
     "duration": 0.028018,
     "end_time": "2024-11-03T17:43:13.533919",
     "exception": false,
     "start_time": "2024-11-03T17:43:13.505901",
     "status": "completed"
    },
    "tags": []
   },
   "outputs": [
    {
     "name": "stdout",
     "output_type": "stream",
     "text": [
      "Word2Vec<vocab=3126, vector_size=100, alpha=0.03>\n"
     ]
    }
   ],
   "source": [
    "print(model)"
   ]
  },
  {
   "cell_type": "markdown",
   "id": "df88f0aa",
   "metadata": {
    "papermill": {
     "duration": 0.017509,
     "end_time": "2024-11-03T17:43:13.569432",
     "exception": false,
     "start_time": "2024-11-03T17:43:13.551923",
     "status": "completed"
    },
    "tags": []
   },
   "source": [
    "The model has a vocabulary of `3,159` unique words and their vectors of size 100 each. "
   ]
  },
  {
   "cell_type": "markdown",
   "id": "10c69d2a",
   "metadata": {
    "papermill": {
     "duration": 0.017529,
     "end_time": "2024-11-03T17:43:13.604472",
     "exception": false,
     "start_time": "2024-11-03T17:43:13.586943",
     "status": "completed"
    },
    "tags": []
   },
   "source": [
    "## Extracting the vectors of all the words "
   ]
  },
  {
   "cell_type": "code",
   "execution_count": 22,
   "id": "ea0e5deb",
   "metadata": {
    "execution": {
     "iopub.execute_input": "2024-11-03T17:43:13.641875Z",
     "iopub.status.busy": "2024-11-03T17:43:13.641460Z",
     "iopub.status.idle": "2024-11-03T17:43:13.659266Z",
     "shell.execute_reply": "2024-11-03T17:43:13.657889Z"
    },
    "papermill": {
     "duration": 0.039626,
     "end_time": "2024-11-03T17:43:13.661861",
     "exception": false,
     "start_time": "2024-11-03T17:43:13.622235",
     "status": "completed"
    },
    "tags": []
   },
   "outputs": [
    {
     "data": {
      "text/plain": [
       "(3126, 100)"
      ]
     },
     "execution_count": 22,
     "metadata": {},
     "output_type": "execute_result"
    }
   ],
   "source": [
    "X = model.wv[model.wv.index_to_key]\n",
    "\n",
    "X.shape"
   ]
  },
  {
   "cell_type": "markdown",
   "id": "7db744c2",
   "metadata": {
    "papermill": {
     "duration": 0.017609,
     "end_time": "2024-11-03T17:43:13.697999",
     "exception": false,
     "start_time": "2024-11-03T17:43:13.680390",
     "status": "completed"
    },
    "tags": []
   },
   "source": [
    " ## Visualizing the model"
   ]
  },
  {
   "cell_type": "markdown",
   "id": "5efe5a07",
   "metadata": {
    "papermill": {
     "duration": 0.017897,
     "end_time": "2024-11-03T17:43:13.733746",
     "exception": false,
     "start_time": "2024-11-03T17:43:13.715849",
     "status": "completed"
    },
    "tags": []
   },
   "source": [
    "we have 100-dimensional embeddings. We can't even imagine 4 dimensions imagine 100. We are going to reduce the dimensions from 100 to 2 by using the `UMAP` algorithm. "
   ]
  },
  {
   "cell_type": "code",
   "execution_count": 23,
   "id": "e9519c6f",
   "metadata": {
    "execution": {
     "iopub.execute_input": "2024-11-03T17:43:13.771379Z",
     "iopub.status.busy": "2024-11-03T17:43:13.770952Z",
     "iopub.status.idle": "2024-11-03T17:43:27.418318Z",
     "shell.execute_reply": "2024-11-03T17:43:27.416678Z"
    },
    "papermill": {
     "duration": 13.669656,
     "end_time": "2024-11-03T17:43:27.421289",
     "exception": false,
     "start_time": "2024-11-03T17:43:13.751633",
     "status": "completed"
    },
    "tags": []
   },
   "outputs": [
    {
     "name": "stdout",
     "output_type": "stream",
     "text": [
      "Collecting umap-learn\r\n",
      "  Downloading umap_learn-0.5.7-py3-none-any.whl.metadata (21 kB)\r\n",
      "Requirement already satisfied: numpy>=1.17 in /opt/conda/lib/python3.10/site-packages (from umap-learn) (1.26.4)\r\n",
      "Requirement already satisfied: scipy>=1.3.1 in /opt/conda/lib/python3.10/site-packages (from umap-learn) (1.14.1)\r\n",
      "Requirement already satisfied: scikit-learn>=0.22 in /opt/conda/lib/python3.10/site-packages (from umap-learn) (1.2.2)\r\n",
      "Requirement already satisfied: numba>=0.51.2 in /opt/conda/lib/python3.10/site-packages (from umap-learn) (0.60.0)\r\n",
      "Collecting pynndescent>=0.5 (from umap-learn)\r\n",
      "  Downloading pynndescent-0.5.13-py3-none-any.whl.metadata (6.8 kB)\r\n",
      "Requirement already satisfied: tqdm in /opt/conda/lib/python3.10/site-packages (from umap-learn) (4.66.4)\r\n",
      "Requirement already satisfied: llvmlite<0.44,>=0.43.0dev0 in /opt/conda/lib/python3.10/site-packages (from numba>=0.51.2->umap-learn) (0.43.0)\r\n",
      "Requirement already satisfied: joblib>=0.11 in /opt/conda/lib/python3.10/site-packages (from pynndescent>=0.5->umap-learn) (1.4.2)\r\n",
      "Requirement already satisfied: threadpoolctl>=2.0.0 in /opt/conda/lib/python3.10/site-packages (from scikit-learn>=0.22->umap-learn) (3.5.0)\r\n",
      "Downloading umap_learn-0.5.7-py3-none-any.whl (88 kB)\r\n",
      "\u001b[2K   \u001b[90m━━━━━━━━━━━━━━━━━━━━━━━━━━━━━━━━━━━━━━━━\u001b[0m \u001b[32m88.8/88.8 kB\u001b[0m \u001b[31m3.9 MB/s\u001b[0m eta \u001b[36m0:00:00\u001b[0m\r\n",
      "\u001b[?25hDownloading pynndescent-0.5.13-py3-none-any.whl (56 kB)\r\n",
      "\u001b[2K   \u001b[90m━━━━━━━━━━━━━━━━━━━━━━━━━━━━━━━━━━━━━━━━\u001b[0m \u001b[32m56.9/56.9 kB\u001b[0m \u001b[31m2.4 MB/s\u001b[0m eta \u001b[36m0:00:00\u001b[0m\r\n",
      "\u001b[?25hInstalling collected packages: pynndescent, umap-learn\r\n",
      "Successfully installed pynndescent-0.5.13 umap-learn-0.5.7\r\n"
     ]
    }
   ],
   "source": [
    "!pip install umap-learn"
   ]
  },
  {
   "cell_type": "code",
   "execution_count": 24,
   "id": "4709d1a3",
   "metadata": {
    "execution": {
     "iopub.execute_input": "2024-11-03T17:43:27.460848Z",
     "iopub.status.busy": "2024-11-03T17:43:27.460407Z",
     "iopub.status.idle": "2024-11-03T17:44:27.950462Z",
     "shell.execute_reply": "2024-11-03T17:44:27.949260Z"
    },
    "papermill": {
     "duration": 60.533032,
     "end_time": "2024-11-03T17:44:27.973102",
     "exception": false,
     "start_time": "2024-11-03T17:43:27.440070",
     "status": "completed"
    },
    "tags": []
   },
   "outputs": [
    {
     "data": {
      "image/png": "[encoded data removed]",
      "text/plain": [
       "<Figure size 1000x900 with 1 Axes>"
      ]
     },
     "metadata": {},
     "output_type": "display_data"
    }
   ],
   "source": [
    "import umap.umap_ as umap\n",
    "import warnings\n",
    "warnings.filterwarnings('ignore')\n",
    "\n",
    "cluster_embedding = umap.UMAP(n_neighbors=30, min_dist=0.0,\n",
    "                              n_components=2, random_state=42).fit_transform(X)\n",
    "\n",
    "plt.figure(figsize=(10,9))\n",
    "plt.scatter(cluster_embedding[:, 0], cluster_embedding[:, 1], s=3, cmap='Spectral');"
   ]
  },
  {
   "cell_type": "markdown",
   "id": "1b2c20af",
   "metadata": {
    "papermill": {
     "duration": 0.019407,
     "end_time": "2024-11-03T17:44:28.012260",
     "exception": false,
     "start_time": "2024-11-03T17:44:27.992853",
     "status": "completed"
    },
    "tags": []
   },
   "source": [
    "Every dot in this plot is a product. There are several tiny clusters representing similar products."
   ]
  },
  {
   "cell_type": "markdown",
   "id": "20d5b23b",
   "metadata": {
    "papermill": {
     "duration": 0.022258,
     "end_time": "2024-11-03T17:44:28.054148",
     "exception": false,
     "start_time": "2024-11-03T17:44:28.031890",
     "status": "completed"
    },
    "tags": []
   },
   "source": [
    "# Recommending Products system Usage"
   ]
  },
  {
   "cell_type": "markdown",
   "id": "3c4b03b5",
   "metadata": {
    "papermill": {
     "duration": 0.0197,
     "end_time": "2024-11-03T17:44:28.095124",
     "exception": false,
     "start_time": "2024-11-03T17:44:28.075424",
     "status": "completed"
    },
    "tags": []
   },
   "source": [
    "Now, our next step is to suggest similar products for a certain product or a product’s vector.\n",
    "\n",
    "Let's create a product-ID and product-description dictionary to easily map a product’s description to its ID and vice versa."
   ]
  },
  {
   "cell_type": "code",
   "execution_count": 25,
   "id": "df3160a4",
   "metadata": {
    "execution": {
     "iopub.execute_input": "2024-11-03T17:44:28.137047Z",
     "iopub.status.busy": "2024-11-03T17:44:28.135683Z",
     "iopub.status.idle": "2024-11-03T17:44:28.296252Z",
     "shell.execute_reply": "2024-11-03T17:44:28.294867Z"
    },
    "papermill": {
     "duration": 0.184582,
     "end_time": "2024-11-03T17:44:28.299244",
     "exception": false,
     "start_time": "2024-11-03T17:44:28.114662",
     "status": "completed"
    },
    "tags": []
   },
   "outputs": [],
   "source": [
    "products = train_df[[\"StockCode\", \"Description\"]]\n",
    "\n",
    "# remove duplicates\n",
    "products.drop_duplicates(inplace=True, subset='StockCode', keep=\"last\")\n",
    "\n",
    "products_dict = products.groupby('StockCode')['Description'].apply(list).to_dict()"
   ]
  },
  {
   "cell_type": "code",
   "execution_count": 26,
   "id": "4682e38d",
   "metadata": {
    "execution": {
     "iopub.execute_input": "2024-11-03T17:44:28.340931Z",
     "iopub.status.busy": "2024-11-03T17:44:28.340494Z",
     "iopub.status.idle": "2024-11-03T17:44:28.347562Z",
     "shell.execute_reply": "2024-11-03T17:44:28.346414Z"
    },
    "papermill": {
     "duration": 0.030683,
     "end_time": "2024-11-03T17:44:28.349878",
     "exception": false,
     "start_time": "2024-11-03T17:44:28.319195",
     "status": "completed"
    },
    "tags": []
   },
   "outputs": [
    {
     "data": {
      "text/plain": [
       "['RED WOOLLY HOTTIE WHITE HEART.']"
      ]
     },
     "execution_count": 26,
     "metadata": {},
     "output_type": "execute_result"
    }
   ],
   "source": [
    "products_dict['84029E']"
   ]
  },
  {
   "cell_type": "markdown",
   "id": "e8af223d",
   "metadata": {
    "papermill": {
     "duration": 0.020304,
     "end_time": "2024-11-03T17:44:28.390587",
     "exception": false,
     "start_time": "2024-11-03T17:44:28.370283",
     "status": "completed"
    },
    "tags": []
   },
   "source": [
    "Create a function to return top 5 similar products by defult."
   ]
  },
  {
   "cell_type": "code",
   "execution_count": 27,
   "id": "e8fdb796",
   "metadata": {
    "execution": {
     "iopub.execute_input": "2024-11-03T17:44:28.433500Z",
     "iopub.status.busy": "2024-11-03T17:44:28.433049Z",
     "iopub.status.idle": "2024-11-03T17:44:28.440342Z",
     "shell.execute_reply": "2024-11-03T17:44:28.439003Z"
    },
    "papermill": {
     "duration": 0.03174,
     "end_time": "2024-11-03T17:44:28.442890",
     "exception": false,
     "start_time": "2024-11-03T17:44:28.411150",
     "status": "completed"
    },
    "tags": []
   },
   "outputs": [],
   "source": [
    "def similar_products(v, n = 5):\n",
    "    \n",
    "    # extract most similar products\n",
    "    ms = model.wv.most_similar([v], topn= n+1)[1:]\n",
    "    \n",
    "    # extract name and similarity score\n",
    "    new_ms = []\n",
    "    for j in ms:\n",
    "        pair = (products_dict[j[0]][0], j[1])\n",
    "        new_ms.append(pair)\n",
    "        \n",
    "    return new_ms  "
   ]
  },
  {
   "cell_type": "markdown",
   "id": "91727cb5",
   "metadata": {
    "papermill": {
     "duration": 0.020229,
     "end_time": "2024-11-03T17:44:28.484058",
     "exception": false,
     "start_time": "2024-11-03T17:44:28.463829",
     "status": "completed"
    },
    "tags": []
   },
   "source": [
    "Try the function "
   ]
  },
  {
   "cell_type": "code",
   "execution_count": 28,
   "id": "6a8a7956",
   "metadata": {
    "execution": {
     "iopub.execute_input": "2024-11-03T17:44:28.525675Z",
     "iopub.status.busy": "2024-11-03T17:44:28.525284Z",
     "iopub.status.idle": "2024-11-03T17:44:28.532361Z",
     "shell.execute_reply": "2024-11-03T17:44:28.531132Z"
    },
    "papermill": {
     "duration": 0.030744,
     "end_time": "2024-11-03T17:44:28.534847",
     "exception": false,
     "start_time": "2024-11-03T17:44:28.504103",
     "status": "completed"
    },
    "tags": []
   },
   "outputs": [
    {
     "data": {
      "text/plain": [
       "['CHOCOLATE HOT WATER BOTTLE']"
      ]
     },
     "execution_count": 28,
     "metadata": {},
     "output_type": "execute_result"
    }
   ],
   "source": [
    "products_dict['22112']"
   ]
  },
  {
   "cell_type": "code",
   "execution_count": 29,
   "id": "d46ce71c",
   "metadata": {
    "execution": {
     "iopub.execute_input": "2024-11-03T17:44:28.577192Z",
     "iopub.status.busy": "2024-11-03T17:44:28.576717Z",
     "iopub.status.idle": "2024-11-03T17:44:28.588174Z",
     "shell.execute_reply": "2024-11-03T17:44:28.587009Z"
    },
    "papermill": {
     "duration": 0.036574,
     "end_time": "2024-11-03T17:44:28.592089",
     "exception": false,
     "start_time": "2024-11-03T17:44:28.555515",
     "status": "completed"
    },
    "tags": []
   },
   "outputs": [
    {
     "data": {
      "text/plain": [
       "[('HOT WATER BOTTLE I AM SO POORLY', 0.8618147969245911),\n",
       " ('HOT WATER BOTTLE TEA AND SYMPATHY', 0.8166502714157104),\n",
       " ('RETROSPOT HEART HOT WATER BOTTLE', 0.8047968149185181),\n",
       " ('SCOTTIE DOG HOT WATER BOTTLE', 0.775870144367218),\n",
       " ('GREY HEART HOT WATER BOTTLE', 0.7414628863334656)]"
      ]
     },
     "execution_count": 29,
     "metadata": {},
     "output_type": "execute_result"
    }
   ],
   "source": [
    "similar_products(model.wv['22112'])\n"
   ]
  },
  {
   "cell_type": "markdown",
   "id": "f4e3506e",
   "metadata": {
    "papermill": {
     "duration": 0.03354,
     "end_time": "2024-11-03T17:44:28.662371",
     "exception": false,
     "start_time": "2024-11-03T17:44:28.628831",
     "status": "completed"
    },
    "tags": []
   },
   "source": [
    "The results are pretty relevant and match well with the input product.\n",
    "\n",
    "BUUTT \n",
    "\n",
    "what we need is to recommend products based on the multiple purchases that made in the past. Let's see.\n"
   ]
  },
  {
   "cell_type": "markdown",
   "id": "0ee5e8e5",
   "metadata": {
    "papermill": {
     "duration": 0.022371,
     "end_time": "2024-11-03T17:44:28.718452",
     "exception": false,
     "start_time": "2024-11-03T17:44:28.696081",
     "status": "completed"
    },
    "tags": []
   },
   "source": [
    "One simple solution is to take the average of all the vectors of the products the user has bought so far and use this vector to find similar products. "
   ]
  },
  {
   "cell_type": "code",
   "execution_count": 30,
   "id": "fc1fc822",
   "metadata": {
    "execution": {
     "iopub.execute_input": "2024-11-03T17:44:28.762217Z",
     "iopub.status.busy": "2024-11-03T17:44:28.761777Z",
     "iopub.status.idle": "2024-11-03T17:44:28.768410Z",
     "shell.execute_reply": "2024-11-03T17:44:28.767213Z"
    },
    "papermill": {
     "duration": 0.030804,
     "end_time": "2024-11-03T17:44:28.771143",
     "exception": false,
     "start_time": "2024-11-03T17:44:28.740339",
     "status": "completed"
    },
    "tags": []
   },
   "outputs": [],
   "source": [
    "def aggregate_vectors(products):\n",
    "    product_vec = []\n",
    "    for i in products:\n",
    "        try:\n",
    "            product_vec.append(model.wv[i])\n",
    "        except KeyError:\n",
    "            continue\n",
    "        \n",
    "    return np.mean(product_vec, axis=0)"
   ]
  },
  {
   "cell_type": "markdown",
   "id": "e025d633",
   "metadata": {
    "papermill": {
     "duration": 0.020139,
     "end_time": "2024-11-03T17:44:28.811965",
     "exception": false,
     "start_time": "2024-11-03T17:44:28.791826",
     "status": "completed"
    },
    "tags": []
   },
   "source": [
    "Using validation list of purchase sequences. "
   ]
  },
  {
   "cell_type": "code",
   "execution_count": 31,
   "id": "4eb06277",
   "metadata": {
    "execution": {
     "iopub.execute_input": "2024-11-03T17:44:28.855165Z",
     "iopub.status.busy": "2024-11-03T17:44:28.853937Z",
     "iopub.status.idle": "2024-11-03T17:44:28.861884Z",
     "shell.execute_reply": "2024-11-03T17:44:28.860770Z"
    },
    "papermill": {
     "duration": 0.031698,
     "end_time": "2024-11-03T17:44:28.864086",
     "exception": false,
     "start_time": "2024-11-03T17:44:28.832388",
     "status": "completed"
    },
    "tags": []
   },
   "outputs": [
    {
     "data": {
      "text/plain": [
       "(67, 242)"
      ]
     },
     "execution_count": 31,
     "metadata": {},
     "output_type": "execute_result"
    }
   ],
   "source": [
    "len(purchases_val[0]), len(purchases_val[1])"
   ]
  },
  {
   "cell_type": "markdown",
   "id": "4b9ba152",
   "metadata": {
    "papermill": {
     "duration": 0.020199,
     "end_time": "2024-11-03T17:44:28.904702",
     "exception": false,
     "start_time": "2024-11-03T17:44:28.884503",
     "status": "completed"
    },
    "tags": []
   },
   "source": [
    "The length of the first list of products purchased by a user is 247 and the secound is 696. We will pass this products’ sequence of the validation set to the function aggregate_vectors to return array of 100 dimensions"
   ]
  },
  {
   "cell_type": "code",
   "execution_count": 32,
   "id": "926a2b23",
   "metadata": {
    "execution": {
     "iopub.execute_input": "2024-11-03T17:44:28.949020Z",
     "iopub.status.busy": "2024-11-03T17:44:28.948600Z",
     "iopub.status.idle": "2024-11-03T17:44:28.957652Z",
     "shell.execute_reply": "2024-11-03T17:44:28.956631Z"
    },
    "papermill": {
     "duration": 0.034408,
     "end_time": "2024-11-03T17:44:28.959910",
     "exception": false,
     "start_time": "2024-11-03T17:44:28.925502",
     "status": "completed"
    },
    "tags": []
   },
   "outputs": [
    {
     "data": {
      "text/plain": [
       "((100,), (100,))"
      ]
     },
     "execution_count": 32,
     "metadata": {},
     "output_type": "execute_result"
    }
   ],
   "source": [
    "aggregate_vectors(purchases_val[0]).shape, aggregate_vectors(purchases_val[1]).shape"
   ]
  },
  {
   "cell_type": "markdown",
   "id": "87dcf497",
   "metadata": {
    "papermill": {
     "duration": 0.019869,
     "end_time": "2024-11-03T17:44:29.000280",
     "exception": false,
     "start_time": "2024-11-03T17:44:28.980411",
     "status": "completed"
    },
    "tags": []
   },
   "source": [
    "Now we can use this result to get the most similar products:"
   ]
  },
  {
   "cell_type": "code",
   "execution_count": 33,
   "id": "f06b053a",
   "metadata": {
    "execution": {
     "iopub.execute_input": "2024-11-03T17:44:29.043807Z",
     "iopub.status.busy": "2024-11-03T17:44:29.043249Z",
     "iopub.status.idle": "2024-11-03T17:44:29.057642Z",
     "shell.execute_reply": "2024-11-03T17:44:29.056479Z"
    },
    "papermill": {
     "duration": 0.039541,
     "end_time": "2024-11-03T17:44:29.060650",
     "exception": false,
     "start_time": "2024-11-03T17:44:29.021109",
     "status": "completed"
    },
    "tags": []
   },
   "outputs": [
    {
     "data": {
      "text/plain": [
       "[('CHILDRENS APRON APPLES DESIGN', 0.6663833260536194),\n",
       " ('SPACEBOY LUNCH BOX ', 0.6660316586494446),\n",
       " ('LUNCH BAG SPACEBOY DESIGN ', 0.659289538860321),\n",
       " ('LUNCH BAG SUKI DESIGN ', 0.6587213277816772),\n",
       " ('RETROSPOT TEA SET CERAMIC 11 PC ', 0.6576854586601257)]"
      ]
     },
     "execution_count": 33,
     "metadata": {},
     "output_type": "execute_result"
    }
   ],
   "source": [
    "similar_products(aggregate_vectors(purchases_val[11]))"
   ]
  },
  {
   "cell_type": "code",
   "execution_count": 34,
   "id": "4960363e",
   "metadata": {
    "execution": {
     "iopub.execute_input": "2024-11-03T17:44:29.133414Z",
     "iopub.status.busy": "2024-11-03T17:44:29.132790Z",
     "iopub.status.idle": "2024-11-03T17:44:29.142617Z",
     "shell.execute_reply": "2024-11-03T17:44:29.141492Z"
    },
    "papermill": {
     "duration": 0.050225,
     "end_time": "2024-11-03T17:44:29.145509",
     "exception": false,
     "start_time": "2024-11-03T17:44:29.095284",
     "status": "completed"
    },
    "tags": []
   },
   "outputs": [
    {
     "data": {
      "text/plain": [
       "[('LUNCH BAG APPLE DESIGN', 0.707604706287384),\n",
       " ('ROUND CAKE TIN VINTAGE RED', 0.698058009147644),\n",
       " ('LUNCH BAG VINTAGE LEAF DESIGN', 0.6937379240989685),\n",
       " ('LUNCH BAG CARS BLUE', 0.6868544816970825),\n",
       " ('ROUND CAKE TIN VINTAGE GREEN', 0.6857284307479858)]"
      ]
     },
     "execution_count": 34,
     "metadata": {},
     "output_type": "execute_result"
    }
   ],
   "source": [
    "similar_products(aggregate_vectors(purchases_val[11][-10:]))\n"
   ]
  },
  {
   "cell_type": "code",
   "execution_count": null,
   "id": "0abf115c",
   "metadata": {
    "papermill": {
     "duration": 0.035363,
     "end_time": "2024-11-03T17:44:29.215441",
     "exception": false,
     "start_time": "2024-11-03T17:44:29.180078",
     "status": "completed"
    },
    "tags": []
   },
   "outputs": [],
   "source": []
  }
 ],
 "metadata": {
  "kaggle": {
   "accelerator": "none",
   "dataSources": [
    {
     "datasetId": 430934,
     "sourceId": 821251,
     "sourceType": "datasetVersion"
    },
    {
     "datasetId": 1267762,
     "sourceId": 2113058,
     "sourceType": "datasetVersion"
    },
    {
     "datasetId": 2827948,
     "sourceId": 4877104,
     "sourceType": "datasetVersion"
    }
   ],
   "dockerImageVersionId": 30786,
   "isGpuEnabled": false,
   "isInternetEnabled": true,
   "language": "python",
   "sourceType": "notebook"
  },
  "kernelspec": {
   "display_name": "Python 3",
   "language": "python",
   "name": "python3"
  },
  "language_info": {
   "codemirror_mode": {
    "name": "ipython",
    "version": 3
   },
   "file_extension": ".py",
   "mimetype": "text/x-python",
   "name": "python",
   "nbconvert_exporter": "python",
   "pygments_lexer": "ipython3",
   "version": "3.10.14"
  },
  "papermill": {
   "default_parameters": {},
   "duration": 163.601094,
   "end_time": "2024-11-03T17:44:32.554571",
   "environment_variables": {},
   "exception": null,
   "input_path": "__notebook__.ipynb",
   "output_path": "__notebook__.ipynb",
   "parameters": {},
   "start_time": "2024-11-03T17:41:48.953477",
   "version": "2.6.0"
  }
 },
 "nbformat": 4,
 "nbformat_minor": 5
}
