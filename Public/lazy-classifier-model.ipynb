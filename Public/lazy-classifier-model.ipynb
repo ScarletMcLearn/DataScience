{
 "cells": [
  {
   "cell_type": "code",
   "execution_count": 1,
   "id": "bd9afb09",
   "metadata": {
    "_cell_guid": "b1076dfc-b9ad-4769-8c92-a6c4dae69d19",
    "_uuid": "8f2839f25d086af736a60e9eeb907d3b93b6e0e5",
    "execution": {
     "iopub.execute_input": "2024-11-16T20:37:28.283592Z",
     "iopub.status.busy": "2024-11-16T20:37:28.283069Z",
     "iopub.status.idle": "2024-11-16T20:37:29.599289Z",
     "shell.execute_reply": "2024-11-16T20:37:29.597788Z"
    },
    "papermill": {
     "duration": 1.331729,
     "end_time": "2024-11-16T20:37:29.602207",
     "exception": false,
     "start_time": "2024-11-16T20:37:28.270478",
     "status": "completed"
    },
    "tags": []
   },
   "outputs": [
    {
     "name": "stdout",
     "output_type": "stream",
     "text": [
      "/kaggle/input/heart-failure-prediction/heart.csv\n"
     ]
    }
   ],
   "source": [
    "# This Python 3 environment comes with many helpful analytics libraries installed\n",
    "# It is defined by the kaggle/python Docker image: https://github.com/kaggle/docker-python\n",
    "# For example, here's several helpful packages to load\n",
    "\n",
    "import numpy as np # linear algebra\n",
    "import pandas as pd # data processing, CSV file I/O (e.g. pd.read_csv)\n",
    "\n",
    "# Input data files are available in the read-only \"../input/\" directory\n",
    "# For example, running this (by clicking run or pressing Shift+Enter) will list all files under the input directory\n",
    "\n",
    "import os\n",
    "for dirname, _, filenames in os.walk('/kaggle/input'):\n",
    "    for filename in filenames:\n",
    "        print(os.path.join(dirname, filename))\n",
    "\n",
    "# You can write up to 20GB to the current directory (/kaggle/working/) that gets preserved as output when you create a version using \"Save & Run All\" \n",
    "# You can also write temporary files to /kaggle/temp/, but they won't be saved outside of the current session"
   ]
  },
  {
   "cell_type": "markdown",
   "id": "e34092a7",
   "metadata": {
    "papermill": {
     "duration": 0.009792,
     "end_time": "2024-11-16T20:37:29.622471",
     "exception": false,
     "start_time": "2024-11-16T20:37:29.612679",
     "status": "completed"
    },
    "tags": []
   },
   "source": [
    "## About Lazy Classifier Model"
   ]
  },
  {
   "cell_type": "markdown",
   "id": "b9402bbb",
   "metadata": {
    "papermill": {
     "duration": 0.009968,
     "end_time": "2024-11-16T20:37:29.644041",
     "exception": false,
     "start_time": "2024-11-16T20:37:29.634073",
     "status": "completed"
    },
    "tags": []
   },
   "source": [
    "In machine learning, a lazy algorithm refers to a type of learning method that defers the processing of training data until the moment it receives a prediction request. Unlike eager algorithms that proactively build a model during the training phase, lazy algorithms retain the entire training dataset and make predictions only when required. The key characteristic of lazy algorithms lies in their on-demand nature, as they don't commit to a specific model until a prediction is needed.\n",
    "\n",
    "One of the most common examples of lazy learning is the k-Nearest Neighbors (k-NN) algorithm. In k-NN, predictions for new instances are made based on the majority class or average of the k-nearest data points in the feature space.\n",
    "\n",
    "The advantages of lazy algorithms include simplicity and adaptability to changing data, as the model is not fixed during training. However, lazy algorithms may be computationally expensive during prediction time, as they require searching the entire training dataset for relevant instances.\n",
    "\n",
    "In summary, lazy algorithms in machine learning prioritize flexibility by postponing model construction until prediction is required, making them suitable for scenarios where adaptability to dynamic data is crucial."
   ]
  },
  {
   "cell_type": "code",
   "execution_count": 2,
   "id": "a1b90a53",
   "metadata": {
    "execution": {
     "iopub.execute_input": "2024-11-16T20:37:29.667600Z",
     "iopub.status.busy": "2024-11-16T20:37:29.667067Z",
     "iopub.status.idle": "2024-11-16T20:37:29.696904Z",
     "shell.execute_reply": "2024-11-16T20:37:29.695424Z"
    },
    "papermill": {
     "duration": 0.044662,
     "end_time": "2024-11-16T20:37:29.699939",
     "exception": false,
     "start_time": "2024-11-16T20:37:29.655277",
     "status": "completed"
    },
    "tags": []
   },
   "outputs": [],
   "source": [
    "df=pd.read_csv('/kaggle/input/heart-failure-prediction/heart.csv')"
   ]
  },
  {
   "cell_type": "code",
   "execution_count": 3,
   "id": "0d29baf8",
   "metadata": {
    "execution": {
     "iopub.execute_input": "2024-11-16T20:37:29.722875Z",
     "iopub.status.busy": "2024-11-16T20:37:29.722407Z",
     "iopub.status.idle": "2024-11-16T20:37:29.763256Z",
     "shell.execute_reply": "2024-11-16T20:37:29.761874Z"
    },
    "papermill": {
     "duration": 0.055486,
     "end_time": "2024-11-16T20:37:29.766173",
     "exception": false,
     "start_time": "2024-11-16T20:37:29.710687",
     "status": "completed"
    },
    "tags": []
   },
   "outputs": [
    {
     "data": {
      "text/html": [
       "<div>\n",
       "<style scoped>\n",
       "    .dataframe tbody tr th:only-of-type {\n",
       "        vertical-align: middle;\n",
       "    }\n",
       "\n",
       "    .dataframe tbody tr th {\n",
       "        vertical-align: top;\n",
       "    }\n",
       "\n",
       "    .dataframe thead th {\n",
       "        text-align: right;\n",
       "    }\n",
       "</style>\n",
       "<table border=\"1\" class=\"dataframe\">\n",
       "  <thead>\n",
       "    <tr style=\"text-align: right;\">\n",
       "      <th></th>\n",
       "      <th>Age</th>\n",
       "      <th>Sex</th>\n",
       "      <th>ChestPainType</th>\n",
       "      <th>RestingBP</th>\n",
       "      <th>Cholesterol</th>\n",
       "      <th>FastingBS</th>\n",
       "      <th>RestingECG</th>\n",
       "      <th>MaxHR</th>\n",
       "      <th>ExerciseAngina</th>\n",
       "      <th>Oldpeak</th>\n",
       "      <th>ST_Slope</th>\n",
       "      <th>HeartDisease</th>\n",
       "    </tr>\n",
       "  </thead>\n",
       "  <tbody>\n",
       "    <tr>\n",
       "      <th>0</th>\n",
       "      <td>40</td>\n",
       "      <td>M</td>\n",
       "      <td>ATA</td>\n",
       "      <td>140</td>\n",
       "      <td>289</td>\n",
       "      <td>0</td>\n",
       "      <td>Normal</td>\n",
       "      <td>172</td>\n",
       "      <td>N</td>\n",
       "      <td>0.0</td>\n",
       "      <td>Up</td>\n",
       "      <td>0</td>\n",
       "    </tr>\n",
       "    <tr>\n",
       "      <th>1</th>\n",
       "      <td>49</td>\n",
       "      <td>F</td>\n",
       "      <td>NAP</td>\n",
       "      <td>160</td>\n",
       "      <td>180</td>\n",
       "      <td>0</td>\n",
       "      <td>Normal</td>\n",
       "      <td>156</td>\n",
       "      <td>N</td>\n",
       "      <td>1.0</td>\n",
       "      <td>Flat</td>\n",
       "      <td>1</td>\n",
       "    </tr>\n",
       "    <tr>\n",
       "      <th>2</th>\n",
       "      <td>37</td>\n",
       "      <td>M</td>\n",
       "      <td>ATA</td>\n",
       "      <td>130</td>\n",
       "      <td>283</td>\n",
       "      <td>0</td>\n",
       "      <td>ST</td>\n",
       "      <td>98</td>\n",
       "      <td>N</td>\n",
       "      <td>0.0</td>\n",
       "      <td>Up</td>\n",
       "      <td>0</td>\n",
       "    </tr>\n",
       "    <tr>\n",
       "      <th>3</th>\n",
       "      <td>48</td>\n",
       "      <td>F</td>\n",
       "      <td>ASY</td>\n",
       "      <td>138</td>\n",
       "      <td>214</td>\n",
       "      <td>0</td>\n",
       "      <td>Normal</td>\n",
       "      <td>108</td>\n",
       "      <td>Y</td>\n",
       "      <td>1.5</td>\n",
       "      <td>Flat</td>\n",
       "      <td>1</td>\n",
       "    </tr>\n",
       "    <tr>\n",
       "      <th>4</th>\n",
       "      <td>54</td>\n",
       "      <td>M</td>\n",
       "      <td>NAP</td>\n",
       "      <td>150</td>\n",
       "      <td>195</td>\n",
       "      <td>0</td>\n",
       "      <td>Normal</td>\n",
       "      <td>122</td>\n",
       "      <td>N</td>\n",
       "      <td>0.0</td>\n",
       "      <td>Up</td>\n",
       "      <td>0</td>\n",
       "    </tr>\n",
       "  </tbody>\n",
       "</table>\n",
       "</div>"
      ],
      "text/plain": [
       "   Age Sex ChestPainType  RestingBP  Cholesterol  FastingBS RestingECG  MaxHR  \\\n",
       "0   40   M           ATA        140          289          0     Normal    172   \n",
       "1   49   F           NAP        160          180          0     Normal    156   \n",
       "2   37   M           ATA        130          283          0         ST     98   \n",
       "3   48   F           ASY        138          214          0     Normal    108   \n",
       "4   54   M           NAP        150          195          0     Normal    122   \n",
       "\n",
       "  ExerciseAngina  Oldpeak ST_Slope  HeartDisease  \n",
       "0              N      0.0       Up             0  \n",
       "1              N      1.0     Flat             1  \n",
       "2              N      0.0       Up             0  \n",
       "3              Y      1.5     Flat             1  \n",
       "4              N      0.0       Up             0  "
      ]
     },
     "execution_count": 3,
     "metadata": {},
     "output_type": "execute_result"
    }
   ],
   "source": [
    "df.head()"
   ]
  },
  {
   "cell_type": "code",
   "execution_count": 4,
   "id": "db4696fe",
   "metadata": {
    "execution": {
     "iopub.execute_input": "2024-11-16T20:37:29.790201Z",
     "iopub.status.busy": "2024-11-16T20:37:29.789744Z",
     "iopub.status.idle": "2024-11-16T20:37:29.797608Z",
     "shell.execute_reply": "2024-11-16T20:37:29.796404Z"
    },
    "papermill": {
     "duration": 0.023052,
     "end_time": "2024-11-16T20:37:29.800417",
     "exception": false,
     "start_time": "2024-11-16T20:37:29.777365",
     "status": "completed"
    },
    "tags": []
   },
   "outputs": [
    {
     "data": {
      "text/plain": [
       "(918, 12)"
      ]
     },
     "execution_count": 4,
     "metadata": {},
     "output_type": "execute_result"
    }
   ],
   "source": [
    "df.shape"
   ]
  },
  {
   "cell_type": "code",
   "execution_count": 5,
   "id": "a7235207",
   "metadata": {
    "execution": {
     "iopub.execute_input": "2024-11-16T20:37:29.826001Z",
     "iopub.status.busy": "2024-11-16T20:37:29.824639Z",
     "iopub.status.idle": "2024-11-16T20:37:29.865347Z",
     "shell.execute_reply": "2024-11-16T20:37:29.863986Z"
    },
    "papermill": {
     "duration": 0.056443,
     "end_time": "2024-11-16T20:37:29.868482",
     "exception": false,
     "start_time": "2024-11-16T20:37:29.812039",
     "status": "completed"
    },
    "tags": []
   },
   "outputs": [
    {
     "name": "stdout",
     "output_type": "stream",
     "text": [
      "<class 'pandas.core.frame.DataFrame'>\n",
      "RangeIndex: 918 entries, 0 to 917\n",
      "Data columns (total 12 columns):\n",
      " #   Column          Non-Null Count  Dtype  \n",
      "---  ------          --------------  -----  \n",
      " 0   Age             918 non-null    int64  \n",
      " 1   Sex             918 non-null    object \n",
      " 2   ChestPainType   918 non-null    object \n",
      " 3   RestingBP       918 non-null    int64  \n",
      " 4   Cholesterol     918 non-null    int64  \n",
      " 5   FastingBS       918 non-null    int64  \n",
      " 6   RestingECG      918 non-null    object \n",
      " 7   MaxHR           918 non-null    int64  \n",
      " 8   ExerciseAngina  918 non-null    object \n",
      " 9   Oldpeak         918 non-null    float64\n",
      " 10  ST_Slope        918 non-null    object \n",
      " 11  HeartDisease    918 non-null    int64  \n",
      "dtypes: float64(1), int64(6), object(5)\n",
      "memory usage: 86.2+ KB\n"
     ]
    }
   ],
   "source": [
    "df.info()"
   ]
  },
  {
   "cell_type": "code",
   "execution_count": 6,
   "id": "d45e07f0",
   "metadata": {
    "execution": {
     "iopub.execute_input": "2024-11-16T20:37:29.894009Z",
     "iopub.status.busy": "2024-11-16T20:37:29.893558Z",
     "iopub.status.idle": "2024-11-16T20:37:29.904313Z",
     "shell.execute_reply": "2024-11-16T20:37:29.902842Z"
    },
    "papermill": {
     "duration": 0.026829,
     "end_time": "2024-11-16T20:37:29.907118",
     "exception": false,
     "start_time": "2024-11-16T20:37:29.880289",
     "status": "completed"
    },
    "tags": []
   },
   "outputs": [
    {
     "data": {
      "text/plain": [
       "Age               0\n",
       "Sex               0\n",
       "ChestPainType     0\n",
       "RestingBP         0\n",
       "Cholesterol       0\n",
       "FastingBS         0\n",
       "RestingECG        0\n",
       "MaxHR             0\n",
       "ExerciseAngina    0\n",
       "Oldpeak           0\n",
       "ST_Slope          0\n",
       "HeartDisease      0\n",
       "dtype: int64"
      ]
     },
     "execution_count": 6,
     "metadata": {},
     "output_type": "execute_result"
    }
   ],
   "source": [
    "# Checking any null values\n",
    "df.isnull().sum()"
   ]
  },
  {
   "cell_type": "code",
   "execution_count": 7,
   "id": "99a08b82",
   "metadata": {
    "execution": {
     "iopub.execute_input": "2024-11-16T20:37:29.931939Z",
     "iopub.status.busy": "2024-11-16T20:37:29.931029Z",
     "iopub.status.idle": "2024-11-16T20:37:29.946056Z",
     "shell.execute_reply": "2024-11-16T20:37:29.944923Z"
    },
    "papermill": {
     "duration": 0.030316,
     "end_time": "2024-11-16T20:37:29.948693",
     "exception": false,
     "start_time": "2024-11-16T20:37:29.918377",
     "status": "completed"
    },
    "tags": []
   },
   "outputs": [
    {
     "data": {
      "text/plain": [
       "0"
      ]
     },
     "execution_count": 7,
     "metadata": {},
     "output_type": "execute_result"
    }
   ],
   "source": [
    "# Checking duplicates\n",
    "df.duplicated().sum()"
   ]
  },
  {
   "cell_type": "code",
   "execution_count": 8,
   "id": "842d9070",
   "metadata": {
    "execution": {
     "iopub.execute_input": "2024-11-16T20:37:29.974565Z",
     "iopub.status.busy": "2024-11-16T20:37:29.974056Z",
     "iopub.status.idle": "2024-11-16T20:37:30.012087Z",
     "shell.execute_reply": "2024-11-16T20:37:30.010889Z"
    },
    "papermill": {
     "duration": 0.054476,
     "end_time": "2024-11-16T20:37:30.014781",
     "exception": false,
     "start_time": "2024-11-16T20:37:29.960305",
     "status": "completed"
    },
    "tags": []
   },
   "outputs": [
    {
     "data": {
      "text/html": [
       "<div>\n",
       "<style scoped>\n",
       "    .dataframe tbody tr th:only-of-type {\n",
       "        vertical-align: middle;\n",
       "    }\n",
       "\n",
       "    .dataframe tbody tr th {\n",
       "        vertical-align: top;\n",
       "    }\n",
       "\n",
       "    .dataframe thead th {\n",
       "        text-align: right;\n",
       "    }\n",
       "</style>\n",
       "<table border=\"1\" class=\"dataframe\">\n",
       "  <thead>\n",
       "    <tr style=\"text-align: right;\">\n",
       "      <th></th>\n",
       "      <th>Age</th>\n",
       "      <th>RestingBP</th>\n",
       "      <th>Cholesterol</th>\n",
       "      <th>FastingBS</th>\n",
       "      <th>MaxHR</th>\n",
       "      <th>Oldpeak</th>\n",
       "      <th>HeartDisease</th>\n",
       "    </tr>\n",
       "  </thead>\n",
       "  <tbody>\n",
       "    <tr>\n",
       "      <th>count</th>\n",
       "      <td>918.000000</td>\n",
       "      <td>918.000000</td>\n",
       "      <td>918.000000</td>\n",
       "      <td>918.000000</td>\n",
       "      <td>918.000000</td>\n",
       "      <td>918.000000</td>\n",
       "      <td>918.000000</td>\n",
       "    </tr>\n",
       "    <tr>\n",
       "      <th>mean</th>\n",
       "      <td>53.510893</td>\n",
       "      <td>132.396514</td>\n",
       "      <td>198.799564</td>\n",
       "      <td>0.233115</td>\n",
       "      <td>136.809368</td>\n",
       "      <td>0.887364</td>\n",
       "      <td>0.553377</td>\n",
       "    </tr>\n",
       "    <tr>\n",
       "      <th>std</th>\n",
       "      <td>9.432617</td>\n",
       "      <td>18.514154</td>\n",
       "      <td>109.384145</td>\n",
       "      <td>0.423046</td>\n",
       "      <td>25.460334</td>\n",
       "      <td>1.066570</td>\n",
       "      <td>0.497414</td>\n",
       "    </tr>\n",
       "    <tr>\n",
       "      <th>min</th>\n",
       "      <td>28.000000</td>\n",
       "      <td>0.000000</td>\n",
       "      <td>0.000000</td>\n",
       "      <td>0.000000</td>\n",
       "      <td>60.000000</td>\n",
       "      <td>-2.600000</td>\n",
       "      <td>0.000000</td>\n",
       "    </tr>\n",
       "    <tr>\n",
       "      <th>25%</th>\n",
       "      <td>47.000000</td>\n",
       "      <td>120.000000</td>\n",
       "      <td>173.250000</td>\n",
       "      <td>0.000000</td>\n",
       "      <td>120.000000</td>\n",
       "      <td>0.000000</td>\n",
       "      <td>0.000000</td>\n",
       "    </tr>\n",
       "    <tr>\n",
       "      <th>50%</th>\n",
       "      <td>54.000000</td>\n",
       "      <td>130.000000</td>\n",
       "      <td>223.000000</td>\n",
       "      <td>0.000000</td>\n",
       "      <td>138.000000</td>\n",
       "      <td>0.600000</td>\n",
       "      <td>1.000000</td>\n",
       "    </tr>\n",
       "    <tr>\n",
       "      <th>75%</th>\n",
       "      <td>60.000000</td>\n",
       "      <td>140.000000</td>\n",
       "      <td>267.000000</td>\n",
       "      <td>0.000000</td>\n",
       "      <td>156.000000</td>\n",
       "      <td>1.500000</td>\n",
       "      <td>1.000000</td>\n",
       "    </tr>\n",
       "    <tr>\n",
       "      <th>max</th>\n",
       "      <td>77.000000</td>\n",
       "      <td>200.000000</td>\n",
       "      <td>603.000000</td>\n",
       "      <td>1.000000</td>\n",
       "      <td>202.000000</td>\n",
       "      <td>6.200000</td>\n",
       "      <td>1.000000</td>\n",
       "    </tr>\n",
       "  </tbody>\n",
       "</table>\n",
       "</div>"
      ],
      "text/plain": [
       "              Age   RestingBP  Cholesterol   FastingBS       MaxHR  \\\n",
       "count  918.000000  918.000000   918.000000  918.000000  918.000000   \n",
       "mean    53.510893  132.396514   198.799564    0.233115  136.809368   \n",
       "std      9.432617   18.514154   109.384145    0.423046   25.460334   \n",
       "min     28.000000    0.000000     0.000000    0.000000   60.000000   \n",
       "25%     47.000000  120.000000   173.250000    0.000000  120.000000   \n",
       "50%     54.000000  130.000000   223.000000    0.000000  138.000000   \n",
       "75%     60.000000  140.000000   267.000000    0.000000  156.000000   \n",
       "max     77.000000  200.000000   603.000000    1.000000  202.000000   \n",
       "\n",
       "          Oldpeak  HeartDisease  \n",
       "count  918.000000    918.000000  \n",
       "mean     0.887364      0.553377  \n",
       "std      1.066570      0.497414  \n",
       "min     -2.600000      0.000000  \n",
       "25%      0.000000      0.000000  \n",
       "50%      0.600000      1.000000  \n",
       "75%      1.500000      1.000000  \n",
       "max      6.200000      1.000000  "
      ]
     },
     "execution_count": 8,
     "metadata": {},
     "output_type": "execute_result"
    }
   ],
   "source": [
    "# Show extra statistical measures\n",
    "df.describe()"
   ]
  },
  {
   "cell_type": "markdown",
   "id": "6f771ab0",
   "metadata": {
    "papermill": {
     "duration": 0.011286,
     "end_time": "2024-11-16T20:37:30.038638",
     "exception": false,
     "start_time": "2024-11-16T20:37:30.027352",
     "status": "completed"
    },
    "tags": []
   },
   "source": [
    "### Data pre-processing"
   ]
  },
  {
   "cell_type": "code",
   "execution_count": 9,
   "id": "3ded7afd",
   "metadata": {
    "execution": {
     "iopub.execute_input": "2024-11-16T20:37:30.064759Z",
     "iopub.status.busy": "2024-11-16T20:37:30.064305Z",
     "iopub.status.idle": "2024-11-16T20:37:31.789391Z",
     "shell.execute_reply": "2024-11-16T20:37:31.787979Z"
    },
    "papermill": {
     "duration": 1.741908,
     "end_time": "2024-11-16T20:37:31.792362",
     "exception": false,
     "start_time": "2024-11-16T20:37:30.050454",
     "status": "completed"
    },
    "tags": []
   },
   "outputs": [],
   "source": [
    "from sklearn.preprocessing import LabelEncoder\n",
    "lb=LabelEncoder()"
   ]
  },
  {
   "cell_type": "code",
   "execution_count": 10,
   "id": "768b87a4",
   "metadata": {
    "execution": {
     "iopub.execute_input": "2024-11-16T20:37:31.817093Z",
     "iopub.status.busy": "2024-11-16T20:37:31.816673Z",
     "iopub.status.idle": "2024-11-16T20:37:31.826848Z",
     "shell.execute_reply": "2024-11-16T20:37:31.825711Z"
    },
    "papermill": {
     "duration": 0.025847,
     "end_time": "2024-11-16T20:37:31.829821",
     "exception": false,
     "start_time": "2024-11-16T20:37:31.803974",
     "status": "completed"
    },
    "tags": []
   },
   "outputs": [
    {
     "data": {
      "text/plain": [
       "Age               False\n",
       "Sex                True\n",
       "ChestPainType      True\n",
       "RestingBP         False\n",
       "Cholesterol       False\n",
       "FastingBS         False\n",
       "RestingECG         True\n",
       "MaxHR             False\n",
       "ExerciseAngina     True\n",
       "Oldpeak           False\n",
       "ST_Slope           True\n",
       "HeartDisease      False\n",
       "dtype: bool"
      ]
     },
     "execution_count": 10,
     "metadata": {},
     "output_type": "execute_result"
    }
   ],
   "source": [
    "df.dtypes=='object'"
   ]
  },
  {
   "cell_type": "code",
   "execution_count": 11,
   "id": "c64a12ae",
   "metadata": {
    "execution": {
     "iopub.execute_input": "2024-11-16T20:37:31.856813Z",
     "iopub.status.busy": "2024-11-16T20:37:31.856413Z",
     "iopub.status.idle": "2024-11-16T20:37:31.870278Z",
     "shell.execute_reply": "2024-11-16T20:37:31.868928Z"
    },
    "papermill": {
     "duration": 0.031119,
     "end_time": "2024-11-16T20:37:31.873104",
     "exception": false,
     "start_time": "2024-11-16T20:37:31.841985",
     "status": "completed"
    },
    "tags": []
   },
   "outputs": [],
   "source": [
    "df['Sex']=lb.fit_transform(df['Sex'])\n",
    "df['ChestPainType']=lb.fit_transform(df['ChestPainType'])\n",
    "df['RestingECG']=lb.fit_transform(df['RestingECG'])\n",
    "df['ExerciseAngina']=lb.fit_transform(df['ExerciseAngina'])\n",
    "df['ST_Slope']=lb.fit_transform(df['ST_Slope'])"
   ]
  },
  {
   "cell_type": "code",
   "execution_count": 12,
   "id": "e7ed14ab",
   "metadata": {
    "execution": {
     "iopub.execute_input": "2024-11-16T20:37:31.898677Z",
     "iopub.status.busy": "2024-11-16T20:37:31.898275Z",
     "iopub.status.idle": "2024-11-16T20:37:31.916453Z",
     "shell.execute_reply": "2024-11-16T20:37:31.914956Z"
    },
    "papermill": {
     "duration": 0.034142,
     "end_time": "2024-11-16T20:37:31.919230",
     "exception": false,
     "start_time": "2024-11-16T20:37:31.885088",
     "status": "completed"
    },
    "tags": []
   },
   "outputs": [
    {
     "data": {
      "text/html": [
       "<div>\n",
       "<style scoped>\n",
       "    .dataframe tbody tr th:only-of-type {\n",
       "        vertical-align: middle;\n",
       "    }\n",
       "\n",
       "    .dataframe tbody tr th {\n",
       "        vertical-align: top;\n",
       "    }\n",
       "\n",
       "    .dataframe thead th {\n",
       "        text-align: right;\n",
       "    }\n",
       "</style>\n",
       "<table border=\"1\" class=\"dataframe\">\n",
       "  <thead>\n",
       "    <tr style=\"text-align: right;\">\n",
       "      <th></th>\n",
       "      <th>Age</th>\n",
       "      <th>Sex</th>\n",
       "      <th>ChestPainType</th>\n",
       "      <th>RestingBP</th>\n",
       "      <th>Cholesterol</th>\n",
       "      <th>FastingBS</th>\n",
       "      <th>RestingECG</th>\n",
       "      <th>MaxHR</th>\n",
       "      <th>ExerciseAngina</th>\n",
       "      <th>Oldpeak</th>\n",
       "      <th>ST_Slope</th>\n",
       "      <th>HeartDisease</th>\n",
       "    </tr>\n",
       "  </thead>\n",
       "  <tbody>\n",
       "    <tr>\n",
       "      <th>0</th>\n",
       "      <td>40</td>\n",
       "      <td>1</td>\n",
       "      <td>1</td>\n",
       "      <td>140</td>\n",
       "      <td>289</td>\n",
       "      <td>0</td>\n",
       "      <td>1</td>\n",
       "      <td>172</td>\n",
       "      <td>0</td>\n",
       "      <td>0.0</td>\n",
       "      <td>2</td>\n",
       "      <td>0</td>\n",
       "    </tr>\n",
       "    <tr>\n",
       "      <th>1</th>\n",
       "      <td>49</td>\n",
       "      <td>0</td>\n",
       "      <td>2</td>\n",
       "      <td>160</td>\n",
       "      <td>180</td>\n",
       "      <td>0</td>\n",
       "      <td>1</td>\n",
       "      <td>156</td>\n",
       "      <td>0</td>\n",
       "      <td>1.0</td>\n",
       "      <td>1</td>\n",
       "      <td>1</td>\n",
       "    </tr>\n",
       "    <tr>\n",
       "      <th>2</th>\n",
       "      <td>37</td>\n",
       "      <td>1</td>\n",
       "      <td>1</td>\n",
       "      <td>130</td>\n",
       "      <td>283</td>\n",
       "      <td>0</td>\n",
       "      <td>2</td>\n",
       "      <td>98</td>\n",
       "      <td>0</td>\n",
       "      <td>0.0</td>\n",
       "      <td>2</td>\n",
       "      <td>0</td>\n",
       "    </tr>\n",
       "    <tr>\n",
       "      <th>3</th>\n",
       "      <td>48</td>\n",
       "      <td>0</td>\n",
       "      <td>0</td>\n",
       "      <td>138</td>\n",
       "      <td>214</td>\n",
       "      <td>0</td>\n",
       "      <td>1</td>\n",
       "      <td>108</td>\n",
       "      <td>1</td>\n",
       "      <td>1.5</td>\n",
       "      <td>1</td>\n",
       "      <td>1</td>\n",
       "    </tr>\n",
       "    <tr>\n",
       "      <th>4</th>\n",
       "      <td>54</td>\n",
       "      <td>1</td>\n",
       "      <td>2</td>\n",
       "      <td>150</td>\n",
       "      <td>195</td>\n",
       "      <td>0</td>\n",
       "      <td>1</td>\n",
       "      <td>122</td>\n",
       "      <td>0</td>\n",
       "      <td>0.0</td>\n",
       "      <td>2</td>\n",
       "      <td>0</td>\n",
       "    </tr>\n",
       "  </tbody>\n",
       "</table>\n",
       "</div>"
      ],
      "text/plain": [
       "   Age  Sex  ChestPainType  RestingBP  Cholesterol  FastingBS  RestingECG  \\\n",
       "0   40    1              1        140          289          0           1   \n",
       "1   49    0              2        160          180          0           1   \n",
       "2   37    1              1        130          283          0           2   \n",
       "3   48    0              0        138          214          0           1   \n",
       "4   54    1              2        150          195          0           1   \n",
       "\n",
       "   MaxHR  ExerciseAngina  Oldpeak  ST_Slope  HeartDisease  \n",
       "0    172               0      0.0         2             0  \n",
       "1    156               0      1.0         1             1  \n",
       "2     98               0      0.0         2             0  \n",
       "3    108               1      1.5         1             1  \n",
       "4    122               0      0.0         2             0  "
      ]
     },
     "execution_count": 12,
     "metadata": {},
     "output_type": "execute_result"
    }
   ],
   "source": [
    "df.head()"
   ]
  },
  {
   "cell_type": "markdown",
   "id": "eab573e8",
   "metadata": {
    "papermill": {
     "duration": 0.011834,
     "end_time": "2024-11-16T20:37:31.943814",
     "exception": false,
     "start_time": "2024-11-16T20:37:31.931980",
     "status": "completed"
    },
    "tags": []
   },
   "source": [
    "## Train Test Split"
   ]
  },
  {
   "cell_type": "code",
   "execution_count": 13,
   "id": "a866730f",
   "metadata": {
    "execution": {
     "iopub.execute_input": "2024-11-16T20:37:31.970276Z",
     "iopub.status.busy": "2024-11-16T20:37:31.969832Z",
     "iopub.status.idle": "2024-11-16T20:37:31.980947Z",
     "shell.execute_reply": "2024-11-16T20:37:31.979676Z"
    },
    "papermill": {
     "duration": 0.027753,
     "end_time": "2024-11-16T20:37:31.983713",
     "exception": false,
     "start_time": "2024-11-16T20:37:31.955960",
     "status": "completed"
    },
    "tags": []
   },
   "outputs": [],
   "source": [
    "X=df.drop('HeartDisease', axis=1)\n",
    "Y=df['HeartDisease']"
   ]
  },
  {
   "cell_type": "code",
   "execution_count": 14,
   "id": "1c870404",
   "metadata": {
    "execution": {
     "iopub.execute_input": "2024-11-16T20:37:32.010809Z",
     "iopub.status.busy": "2024-11-16T20:37:32.010393Z",
     "iopub.status.idle": "2024-11-16T20:37:32.024026Z",
     "shell.execute_reply": "2024-11-16T20:37:32.022796Z"
    },
    "papermill": {
     "duration": 0.031834,
     "end_time": "2024-11-16T20:37:32.027533",
     "exception": false,
     "start_time": "2024-11-16T20:37:31.995699",
     "status": "completed"
    },
    "tags": []
   },
   "outputs": [
    {
     "name": "stdout",
     "output_type": "stream",
     "text": [
      "     Age  Sex  ChestPainType  RestingBP  Cholesterol  FastingBS  RestingECG  \\\n",
      "0     40    1              1        140          289          0           1   \n",
      "1     49    0              2        160          180          0           1   \n",
      "2     37    1              1        130          283          0           2   \n",
      "3     48    0              0        138          214          0           1   \n",
      "4     54    1              2        150          195          0           1   \n",
      "..   ...  ...            ...        ...          ...        ...         ...   \n",
      "913   45    1              3        110          264          0           1   \n",
      "914   68    1              0        144          193          1           1   \n",
      "915   57    1              0        130          131          0           1   \n",
      "916   57    0              1        130          236          0           0   \n",
      "917   38    1              2        138          175          0           1   \n",
      "\n",
      "     MaxHR  ExerciseAngina  Oldpeak  ST_Slope  \n",
      "0      172               0      0.0         2  \n",
      "1      156               0      1.0         1  \n",
      "2       98               0      0.0         2  \n",
      "3      108               1      1.5         1  \n",
      "4      122               0      0.0         2  \n",
      "..     ...             ...      ...       ...  \n",
      "913    132               0      1.2         1  \n",
      "914    141               0      3.4         1  \n",
      "915    115               1      1.2         1  \n",
      "916    174               0      0.0         1  \n",
      "917    173               0      0.0         2  \n",
      "\n",
      "[918 rows x 11 columns]\n"
     ]
    }
   ],
   "source": [
    "print(X)"
   ]
  },
  {
   "cell_type": "code",
   "execution_count": 15,
   "id": "7a32b62b",
   "metadata": {
    "execution": {
     "iopub.execute_input": "2024-11-16T20:37:32.053392Z",
     "iopub.status.busy": "2024-11-16T20:37:32.053004Z",
     "iopub.status.idle": "2024-11-16T20:37:32.060385Z",
     "shell.execute_reply": "2024-11-16T20:37:32.059213Z"
    },
    "papermill": {
     "duration": 0.023448,
     "end_time": "2024-11-16T20:37:32.062947",
     "exception": false,
     "start_time": "2024-11-16T20:37:32.039499",
     "status": "completed"
    },
    "tags": []
   },
   "outputs": [
    {
     "name": "stdout",
     "output_type": "stream",
     "text": [
      "0      0\n",
      "1      1\n",
      "2      0\n",
      "3      1\n",
      "4      0\n",
      "      ..\n",
      "913    1\n",
      "914    1\n",
      "915    1\n",
      "916    1\n",
      "917    0\n",
      "Name: HeartDisease, Length: 918, dtype: int64\n"
     ]
    }
   ],
   "source": [
    "print(Y)"
   ]
  },
  {
   "cell_type": "code",
   "execution_count": 16,
   "id": "dc7a1686",
   "metadata": {
    "execution": {
     "iopub.execute_input": "2024-11-16T20:37:32.089205Z",
     "iopub.status.busy": "2024-11-16T20:37:32.088748Z",
     "iopub.status.idle": "2024-11-16T20:37:32.245979Z",
     "shell.execute_reply": "2024-11-16T20:37:32.244715Z"
    },
    "papermill": {
     "duration": 0.173764,
     "end_time": "2024-11-16T20:37:32.248954",
     "exception": false,
     "start_time": "2024-11-16T20:37:32.075190",
     "status": "completed"
    },
    "tags": []
   },
   "outputs": [],
   "source": [
    "from sklearn.model_selection import train_test_split\n",
    "\n",
    "X_train,X_test,Y_train,Y_test=train_test_split(X,Y, test_size=0.2, random_state=2)"
   ]
  },
  {
   "cell_type": "code",
   "execution_count": 17,
   "id": "f23d3f67",
   "metadata": {
    "execution": {
     "iopub.execute_input": "2024-11-16T20:37:32.275523Z",
     "iopub.status.busy": "2024-11-16T20:37:32.275061Z",
     "iopub.status.idle": "2024-11-16T20:37:32.281808Z",
     "shell.execute_reply": "2024-11-16T20:37:32.280541Z"
    },
    "papermill": {
     "duration": 0.023186,
     "end_time": "2024-11-16T20:37:32.284522",
     "exception": false,
     "start_time": "2024-11-16T20:37:32.261336",
     "status": "completed"
    },
    "tags": []
   },
   "outputs": [
    {
     "name": "stdout",
     "output_type": "stream",
     "text": [
      "(918, 11) (734, 11) (184, 11)\n"
     ]
    }
   ],
   "source": [
    "print(X.shape, X_train.shape, X_test.shape)"
   ]
  },
  {
   "cell_type": "markdown",
   "id": "f831b506",
   "metadata": {
    "papermill": {
     "duration": 0.012414,
     "end_time": "2024-11-16T20:37:32.309542",
     "exception": false,
     "start_time": "2024-11-16T20:37:32.297128",
     "status": "completed"
    },
    "tags": []
   },
   "source": [
    "### Scaling the data"
   ]
  },
  {
   "cell_type": "code",
   "execution_count": 18,
   "id": "69c6c42f",
   "metadata": {
    "execution": {
     "iopub.execute_input": "2024-11-16T20:37:32.336760Z",
     "iopub.status.busy": "2024-11-16T20:37:32.336326Z",
     "iopub.status.idle": "2024-11-16T20:37:32.341909Z",
     "shell.execute_reply": "2024-11-16T20:37:32.340745Z"
    },
    "papermill": {
     "duration": 0.022201,
     "end_time": "2024-11-16T20:37:32.344818",
     "exception": false,
     "start_time": "2024-11-16T20:37:32.322617",
     "status": "completed"
    },
    "tags": []
   },
   "outputs": [],
   "source": [
    "from sklearn.preprocessing import StandardScaler\n",
    "\n",
    "scaler=StandardScaler()"
   ]
  },
  {
   "cell_type": "code",
   "execution_count": 19,
   "id": "f33f2344",
   "metadata": {
    "execution": {
     "iopub.execute_input": "2024-11-16T20:37:32.373520Z",
     "iopub.status.busy": "2024-11-16T20:37:32.373124Z",
     "iopub.status.idle": "2024-11-16T20:37:32.387351Z",
     "shell.execute_reply": "2024-11-16T20:37:32.386076Z"
    },
    "papermill": {
     "duration": 0.03116,
     "end_time": "2024-11-16T20:37:32.390181",
     "exception": false,
     "start_time": "2024-11-16T20:37:32.359021",
     "status": "completed"
    },
    "tags": []
   },
   "outputs": [],
   "source": [
    "X_train=scaler.fit_transform(X_train)\n",
    "X_test=scaler.transform(X_test)"
   ]
  },
  {
   "cell_type": "code",
   "execution_count": 20,
   "id": "d91d9194",
   "metadata": {
    "execution": {
     "iopub.execute_input": "2024-11-16T20:37:32.416583Z",
     "iopub.status.busy": "2024-11-16T20:37:32.416199Z",
     "iopub.status.idle": "2024-11-16T20:37:32.424743Z",
     "shell.execute_reply": "2024-11-16T20:37:32.423648Z"
    },
    "papermill": {
     "duration": 0.02472,
     "end_time": "2024-11-16T20:37:32.427365",
     "exception": false,
     "start_time": "2024-11-16T20:37:32.402645",
     "status": "completed"
    },
    "tags": []
   },
   "outputs": [
    {
     "data": {
      "text/plain": [
       "array([[-0.35508576, -1.94868818, -0.82059666, ..., -0.84081909,\n",
       "        -0.82297207, -0.57689739],\n",
       "       [-2.04339633,  0.51316573,  0.21967613, ..., -0.84081909,\n",
       "        -0.82297207,  1.09019979],\n",
       "       [ 0.80562776,  0.51316573, -0.82059666, ...,  1.18931648,\n",
       "         0.7585843 , -0.57689739],\n",
       "       ...,\n",
       "       [-0.24956635,  0.51316573,  1.25994893, ...,  1.18931648,\n",
       "         0.7585843 , -0.57689739],\n",
       "       [ 0.80562776,  0.51316573,  0.21967613, ..., -0.84081909,\n",
       "        -0.54387389,  1.09019979],\n",
       "       [ 0.48906953,  0.51316573, -0.82059666, ..., -0.84081909,\n",
       "        -0.82297207,  1.09019979]])"
      ]
     },
     "execution_count": 20,
     "metadata": {},
     "output_type": "execute_result"
    }
   ],
   "source": [
    "X_train"
   ]
  },
  {
   "cell_type": "markdown",
   "id": "b605932a",
   "metadata": {
    "papermill": {
     "duration": 0.012252,
     "end_time": "2024-11-16T20:37:32.452309",
     "exception": false,
     "start_time": "2024-11-16T20:37:32.440057",
     "status": "completed"
    },
    "tags": []
   },
   "source": [
    "## Initialize and fit the LazyClassifier"
   ]
  },
  {
   "cell_type": "code",
   "execution_count": 21,
   "id": "ecf39558",
   "metadata": {
    "execution": {
     "iopub.execute_input": "2024-11-16T20:37:32.480833Z",
     "iopub.status.busy": "2024-11-16T20:37:32.479712Z",
     "iopub.status.idle": "2024-11-16T20:37:50.525650Z",
     "shell.execute_reply": "2024-11-16T20:37:50.524193Z"
    },
    "papermill": {
     "duration": 18.063487,
     "end_time": "2024-11-16T20:37:50.528846",
     "exception": false,
     "start_time": "2024-11-16T20:37:32.465359",
     "status": "completed"
    },
    "tags": []
   },
   "outputs": [
    {
     "name": "stdout",
     "output_type": "stream",
     "text": [
      "Collecting lazypredict\r\n",
      "  Obtaining dependency information for lazypredict from https://files.pythonhosted.org/packages/49/9b/323d7922bcf4a09b2b63962b021193011b94c74767b382ae681b1437c9b4/lazypredict-0.2.13-py2.py3-none-any.whl.metadata\r\n",
      "  Downloading lazypredict-0.2.13-py2.py3-none-any.whl.metadata (12 kB)\r\n",
      "Requirement already satisfied: click in /opt/conda/lib/python3.10/site-packages (from lazypredict) (8.1.7)\r\n",
      "Requirement already satisfied: scikit-learn in /opt/conda/lib/python3.10/site-packages (from lazypredict) (1.2.2)\r\n",
      "Requirement already satisfied: pandas in /opt/conda/lib/python3.10/site-packages (from lazypredict) (2.0.3)\r\n",
      "Requirement already satisfied: tqdm in /opt/conda/lib/python3.10/site-packages (from lazypredict) (4.66.1)\r\n",
      "Requirement already satisfied: joblib in /opt/conda/lib/python3.10/site-packages (from lazypredict) (1.3.2)\r\n",
      "Requirement already satisfied: lightgbm in /opt/conda/lib/python3.10/site-packages (from lazypredict) (3.3.2)\r\n",
      "Requirement already satisfied: xgboost in /opt/conda/lib/python3.10/site-packages (from lazypredict) (2.0.2)\r\n",
      "Requirement already satisfied: wheel in /opt/conda/lib/python3.10/site-packages (from lightgbm->lazypredict) (0.41.2)\r\n",
      "Requirement already satisfied: numpy in /opt/conda/lib/python3.10/site-packages (from lightgbm->lazypredict) (1.24.3)\r\n",
      "Requirement already satisfied: scipy in /opt/conda/lib/python3.10/site-packages (from lightgbm->lazypredict) (1.11.4)\r\n",
      "Requirement already satisfied: threadpoolctl>=2.0.0 in /opt/conda/lib/python3.10/site-packages (from scikit-learn->lazypredict) (3.2.0)\r\n",
      "Requirement already satisfied: python-dateutil>=2.8.2 in /opt/conda/lib/python3.10/site-packages (from pandas->lazypredict) (2.8.2)\r\n",
      "Requirement already satisfied: pytz>=2020.1 in /opt/conda/lib/python3.10/site-packages (from pandas->lazypredict) (2023.3)\r\n",
      "Requirement already satisfied: tzdata>=2022.1 in /opt/conda/lib/python3.10/site-packages (from pandas->lazypredict) (2023.3)\r\n",
      "Requirement already satisfied: six>=1.5 in /opt/conda/lib/python3.10/site-packages (from python-dateutil>=2.8.2->pandas->lazypredict) (1.16.0)\r\n",
      "Downloading lazypredict-0.2.13-py2.py3-none-any.whl (12 kB)\r\n",
      "Installing collected packages: lazypredict\r\n",
      "Successfully installed lazypredict-0.2.13\r\n"
     ]
    }
   ],
   "source": [
    "!pip install lazypredict"
   ]
  },
  {
   "cell_type": "code",
   "execution_count": 22,
   "id": "8392b03d",
   "metadata": {
    "execution": {
     "iopub.execute_input": "2024-11-16T20:37:50.558272Z",
     "iopub.status.busy": "2024-11-16T20:37:50.557811Z",
     "iopub.status.idle": "2024-11-16T20:37:54.602147Z",
     "shell.execute_reply": "2024-11-16T20:37:54.600400Z"
    },
    "papermill": {
     "duration": 4.06292,
     "end_time": "2024-11-16T20:37:54.605294",
     "exception": false,
     "start_time": "2024-11-16T20:37:50.542374",
     "status": "completed"
    },
    "tags": []
   },
   "outputs": [],
   "source": [
    "from lazypredict.Supervised import LazyClassifier"
   ]
  },
  {
   "cell_type": "markdown",
   "id": "ca41c8cf",
   "metadata": {
    "papermill": {
     "duration": 0.012948,
     "end_time": "2024-11-16T20:37:54.632305",
     "exception": false,
     "start_time": "2024-11-16T20:37:54.619357",
     "status": "completed"
    },
    "tags": []
   },
   "source": [
    "### Fit the LazyClassifier model"
   ]
  },
  {
   "cell_type": "code",
   "execution_count": 23,
   "id": "f0bbbb91",
   "metadata": {
    "execution": {
     "iopub.execute_input": "2024-11-16T20:37:54.731377Z",
     "iopub.status.busy": "2024-11-16T20:37:54.730940Z",
     "iopub.status.idle": "2024-11-16T20:37:57.686102Z",
     "shell.execute_reply": "2024-11-16T20:37:57.684951Z"
    },
    "papermill": {
     "duration": 2.975187,
     "end_time": "2024-11-16T20:37:57.690236",
     "exception": false,
     "start_time": "2024-11-16T20:37:54.715049",
     "status": "completed"
    },
    "tags": []
   },
   "outputs": [
    {
     "name": "stderr",
     "output_type": "stream",
     "text": [
      "  3%|▎         | 1/29 [00:00<00:05,  5.20it/s]"
     ]
    },
    {
     "name": "stdout",
     "output_type": "stream",
     "text": [
      "{'Model': 'AdaBoostClassifier', 'Accuracy': 0.8641304347826086, 'Balanced Accuracy': 0.8641632170313425, 'ROC AUC': 0.8641632170313425, 'F1 Score': 0.8641505154135709, 'Time taken': 0.19232726097106934}\n",
      "{'Model': 'BaggingClassifier', 'Accuracy': 0.842391304347826, 'Balanced Accuracy': 0.8420461265523359, 'ROC AUC': 0.8420461265523359, 'F1 Score': 0.8423586702522373, 'Time taken': 0.06743478775024414}\n",
      "{'Model': 'BernoulliNB', 'Accuracy': 0.8478260869565217, 'Balanced Accuracy': 0.8476641040804258, 'ROC AUC': 0.8476641040804258, 'F1 Score': 0.8478260869565217, 'Time taken': 0.025094270706176758}\n"
     ]
    },
    {
     "name": "stderr",
     "output_type": "stream",
     "text": [
      " 14%|█▍        | 4/29 [00:00<00:02,  8.93it/s]"
     ]
    },
    {
     "name": "stdout",
     "output_type": "stream",
     "text": [
      "{'Model': 'CalibratedClassifierCV', 'Accuracy': 0.842391304347826, 'Balanced Accuracy': 0.8413364872856298, 'ROC AUC': 0.8413364872856298, 'F1 Score': 0.8421343463439467, 'Time taken': 0.18538188934326172}\n",
      "{'Model': 'DecisionTreeClassifier', 'Accuracy': 0.7608695652173914, 'Balanced Accuracy': 0.7599053814311059, 'ROC AUC': 0.7599053814311059, 'F1 Score': 0.7605862017444885, 'Time taken': 0.018985748291015625}\n",
      "{'Model': 'DummyClassifier', 'Accuracy': 0.5163043478260869, 'Balanced Accuracy': 0.5, 'ROC AUC': 0.5, 'F1 Score': 0.3516051114227832, 'Time taken': 0.01587080955505371}\n",
      "{'Model': 'ExtraTreeClassifier', 'Accuracy': 0.7880434782608695, 'Balanced Accuracy': 0.7876404494382023, 'ROC AUC': 0.7876404494382022, 'F1 Score': 0.787999591028871, 'Time taken': 0.016906023025512695}\n"
     ]
    },
    {
     "name": "stderr",
     "output_type": "stream",
     "text": [
      " 31%|███       | 9/29 [00:00<00:01, 12.71it/s]"
     ]
    },
    {
     "name": "stdout",
     "output_type": "stream",
     "text": [
      "{'Model': 'ExtraTreesClassifier', 'Accuracy': 0.842391304347826, 'Balanced Accuracy': 0.8409816676522768, 'ROC AUC': 0.8409816676522768, 'F1 Score': 0.8419655498637715, 'Time taken': 0.24490690231323242}\n",
      "{'Model': 'GaussianNB', 'Accuracy': 0.8532608695652174, 'Balanced Accuracy': 0.8522176227084566, 'ROC AUC': 0.8522176227084566, 'F1 Score': 0.8530216328029848, 'Time taken': 0.020113468170166016}\n",
      "{'Model': 'KNeighborsClassifier', 'Accuracy': 0.875, 'Balanced Accuracy': 0.874334713187463, 'ROC AUC': 0.874334713187463, 'F1 Score': 0.874900074019245, 'Time taken': 0.03521871566772461}\n"
     ]
    },
    {
     "name": "stderr",
     "output_type": "stream",
     "text": [
      " 41%|████▏     | 12/29 [00:00<00:01, 13.03it/s]"
     ]
    },
    {
     "name": "stdout",
     "output_type": "stream",
     "text": [
      "{'Model': 'LabelPropagation', 'Accuracy': 0.8478260869565217, 'Balanced Accuracy': 0.8465996451803666, 'ROC AUC': 0.8465996451803667, 'F1 Score': 0.8475010833453706, 'Time taken': 0.16287493705749512}\n"
     ]
    },
    {
     "name": "stderr",
     "output_type": "stream",
     "text": [
      " 59%|█████▊    | 17/29 [00:01<00:00, 13.67it/s]"
     ]
    },
    {
     "name": "stdout",
     "output_type": "stream",
     "text": [
      "{'Model': 'LabelSpreading', 'Accuracy': 0.8478260869565217, 'Balanced Accuracy': 0.8465996451803666, 'ROC AUC': 0.8465996451803667, 'F1 Score': 0.8475010833453706, 'Time taken': 0.20719122886657715}\n",
      "{'Model': 'LinearDiscriminantAnalysis', 'Accuracy': 0.8695652173913043, 'Balanced Accuracy': 0.8690715552927262, 'ROC AUC': 0.8690715552927262, 'F1 Score': 0.8695034584980236, 'Time taken': 0.07202768325805664}\n",
      "{'Model': 'LinearSVC', 'Accuracy': 0.8478260869565217, 'Balanced Accuracy': 0.8469544648137197, 'ROC AUC': 0.8469544648137197, 'F1 Score': 0.8476457647464928, 'Time taken': 0.05448317527770996}\n",
      "{'Model': 'LogisticRegression', 'Accuracy': 0.842391304347826, 'Balanced Accuracy': 0.8413364872856298, 'ROC AUC': 0.8413364872856298, 'F1 Score': 0.8421343463439467, 'Time taken': 0.02467060089111328}\n",
      "{'Model': 'NearestCentroid', 'Accuracy': 0.8478260869565217, 'Balanced Accuracy': 0.8483737433471319, 'ROC AUC': 0.8483737433471319, 'F1 Score': 0.8478620491243213, 'Time taken': 0.01647353172302246}\n"
     ]
    },
    {
     "name": "stderr",
     "output_type": "stream",
     "text": [
      " 72%|███████▏  | 21/29 [00:01<00:00, 17.87it/s]"
     ]
    },
    {
     "name": "stdout",
     "output_type": "stream",
     "text": [
      "{'Model': 'NuSVC', 'Accuracy': 0.8532608695652174, 'Balanced Accuracy': 0.8511531638083973, 'ROC AUC': 0.8511531638083975, 'F1 Score': 0.8524433935503425, 'Time taken': 0.04469180107116699}\n",
      "{'Model': 'PassiveAggressiveClassifier', 'Accuracy': 0.8315217391304348, 'Balanced Accuracy': 0.8301005322294501, 'ROC AUC': 0.8301005322294501, 'F1 Score': 0.8310666222681696, 'Time taken': 0.021055221557617188}\n",
      "{'Model': 'Perceptron', 'Accuracy': 0.8206521739130435, 'Balanced Accuracy': 0.8202838557066825, 'ROC AUC': 0.8202838557066824, 'F1 Score': 0.820615038562891, 'Time taken': 0.01764059066772461}\n",
      "{'Model': 'QuadraticDiscriminantAnalysis', 'Accuracy': 0.8586956521739131, 'Balanced Accuracy': 0.8574807806031934, 'ROC AUC': 0.8574807806031934, 'F1 Score': 0.8583938631064155, 'Time taken': 0.037122249603271484}\n"
     ]
    },
    {
     "name": "stderr",
     "output_type": "stream",
     "text": [
      " 83%|████████▎ | 24/29 [00:01<00:00, 12.33it/s]"
     ]
    },
    {
     "name": "stdout",
     "output_type": "stream",
     "text": [
      "{'Model': 'RandomForestClassifier', 'Accuracy': 0.842391304347826, 'Balanced Accuracy': 0.8413364872856298, 'ROC AUC': 0.8413364872856298, 'F1 Score': 0.8421343463439467, 'Time taken': 0.3591439723968506}\n",
      "{'Model': 'RidgeClassifier', 'Accuracy': 0.8695652173913043, 'Balanced Accuracy': 0.8690715552927262, 'ROC AUC': 0.8690715552927262, 'F1 Score': 0.8695034584980236, 'Time taken': 0.03811764717102051}\n",
      "{'Model': 'RidgeClassifierCV', 'Accuracy': 0.8695652173913043, 'Balanced Accuracy': 0.8690715552927262, 'ROC AUC': 0.8690715552927262, 'F1 Score': 0.8695034584980236, 'Time taken': 0.019269466400146484}\n",
      "{'Model': 'SGDClassifier', 'Accuracy': 0.8369565217391305, 'Balanced Accuracy': 0.836782968657599, 'ROC AUC': 0.836782968657599, 'F1 Score': 0.8369565217391305, 'Time taken': 0.02158498764038086}\n",
      "{'Model': 'SVC', 'Accuracy': 0.842391304347826, 'Balanced Accuracy': 0.8413364872856298, 'ROC AUC': 0.8413364872856298, 'F1 Score': 0.8421343463439467, 'Time taken': 0.03410458564758301}\n"
     ]
    },
    {
     "name": "stderr",
     "output_type": "stream",
     "text": [
      " 97%|█████████▋| 28/29 [00:02<00:00, 14.23it/s]"
     ]
    },
    {
     "name": "stdout",
     "output_type": "stream",
     "text": [
      "{'Model': 'XGBClassifier', 'Accuracy': 0.842391304347826, 'Balanced Accuracy': 0.8416913069189829, 'ROC AUC': 0.8416913069189829, 'F1 Score': 0.8422653107199176, 'Time taken': 0.14821648597717285}\n"
     ]
    },
    {
     "name": "stderr",
     "output_type": "stream",
     "text": [
      "100%|██████████| 29/29 [00:02<00:00,  9.87it/s]"
     ]
    },
    {
     "name": "stdout",
     "output_type": "stream",
     "text": [
      "{'Model': 'LGBMClassifier', 'Accuracy': 0.875, 'Balanced Accuracy': 0.8732702542874039, 'ROC AUC': 0.8732702542874038, 'F1 Score': 0.8744982307989652, 'Time taken': 0.7994582653045654}\n"
     ]
    },
    {
     "name": "stderr",
     "output_type": "stream",
     "text": [
      "\n"
     ]
    }
   ],
   "source": [
    "clf = LazyClassifier(verbose=1)\n",
    "models, predictions = clf.fit(X_train, X_test, Y_train, Y_test)"
   ]
  },
  {
   "cell_type": "markdown",
   "id": "271bfdf7",
   "metadata": {
    "papermill": {
     "duration": 0.016044,
     "end_time": "2024-11-16T20:37:57.722517",
     "exception": false,
     "start_time": "2024-11-16T20:37:57.706473",
     "status": "completed"
    },
    "tags": []
   },
   "source": [
    "### Printing the models"
   ]
  },
  {
   "cell_type": "code",
   "execution_count": 24,
   "id": "11fbc2a6",
   "metadata": {
    "execution": {
     "iopub.execute_input": "2024-11-16T20:37:57.757710Z",
     "iopub.status.busy": "2024-11-16T20:37:57.757252Z",
     "iopub.status.idle": "2024-11-16T20:37:57.768752Z",
     "shell.execute_reply": "2024-11-16T20:37:57.767640Z"
    },
    "papermill": {
     "duration": 0.03258,
     "end_time": "2024-11-16T20:37:57.771654",
     "exception": false,
     "start_time": "2024-11-16T20:37:57.739074",
     "status": "completed"
    },
    "tags": []
   },
   "outputs": [
    {
     "name": "stdout",
     "output_type": "stream",
     "text": [
      "                               Accuracy  Balanced Accuracy  ROC AUC  F1 Score  \\\n",
      "Model                                                                           \n",
      "KNeighborsClassifier               0.88               0.87     0.87      0.87   \n",
      "LGBMClassifier                     0.88               0.87     0.87      0.87   \n",
      "RidgeClassifierCV                  0.87               0.87     0.87      0.87   \n",
      "RidgeClassifier                    0.87               0.87     0.87      0.87   \n",
      "LinearDiscriminantAnalysis         0.87               0.87     0.87      0.87   \n",
      "AdaBoostClassifier                 0.86               0.86     0.86      0.86   \n",
      "QuadraticDiscriminantAnalysis      0.86               0.86     0.86      0.86   \n",
      "GaussianNB                         0.85               0.85     0.85      0.85   \n",
      "NuSVC                              0.85               0.85     0.85      0.85   \n",
      "NearestCentroid                    0.85               0.85     0.85      0.85   \n",
      "BernoulliNB                        0.85               0.85     0.85      0.85   \n",
      "LinearSVC                          0.85               0.85     0.85      0.85   \n",
      "LabelSpreading                     0.85               0.85     0.85      0.85   \n",
      "LabelPropagation                   0.85               0.85     0.85      0.85   \n",
      "BaggingClassifier                  0.84               0.84     0.84      0.84   \n",
      "XGBClassifier                      0.84               0.84     0.84      0.84   \n",
      "LogisticRegression                 0.84               0.84     0.84      0.84   \n",
      "RandomForestClassifier             0.84               0.84     0.84      0.84   \n",
      "CalibratedClassifierCV             0.84               0.84     0.84      0.84   \n",
      "SVC                                0.84               0.84     0.84      0.84   \n",
      "ExtraTreesClassifier               0.84               0.84     0.84      0.84   \n",
      "SGDClassifier                      0.84               0.84     0.84      0.84   \n",
      "PassiveAggressiveClassifier        0.83               0.83     0.83      0.83   \n",
      "Perceptron                         0.82               0.82     0.82      0.82   \n",
      "ExtraTreeClassifier                0.79               0.79     0.79      0.79   \n",
      "DecisionTreeClassifier             0.76               0.76     0.76      0.76   \n",
      "DummyClassifier                    0.52               0.50     0.50      0.35   \n",
      "\n",
      "                               Time Taken  \n",
      "Model                                      \n",
      "KNeighborsClassifier                 0.04  \n",
      "LGBMClassifier                       0.80  \n",
      "RidgeClassifierCV                    0.02  \n",
      "RidgeClassifier                      0.04  \n",
      "LinearDiscriminantAnalysis           0.07  \n",
      "AdaBoostClassifier                   0.19  \n",
      "QuadraticDiscriminantAnalysis        0.04  \n",
      "GaussianNB                           0.02  \n",
      "NuSVC                                0.04  \n",
      "NearestCentroid                      0.02  \n",
      "BernoulliNB                          0.03  \n",
      "LinearSVC                            0.05  \n",
      "LabelSpreading                       0.21  \n",
      "LabelPropagation                     0.16  \n",
      "BaggingClassifier                    0.07  \n",
      "XGBClassifier                        0.15  \n",
      "LogisticRegression                   0.02  \n",
      "RandomForestClassifier               0.36  \n",
      "CalibratedClassifierCV               0.19  \n",
      "SVC                                  0.03  \n",
      "ExtraTreesClassifier                 0.24  \n",
      "SGDClassifier                        0.02  \n",
      "PassiveAggressiveClassifier          0.02  \n",
      "Perceptron                           0.02  \n",
      "ExtraTreeClassifier                  0.02  \n",
      "DecisionTreeClassifier               0.02  \n",
      "DummyClassifier                      0.02  \n"
     ]
    }
   ],
   "source": [
    "print(models)"
   ]
  },
  {
   "cell_type": "code",
   "execution_count": null,
   "id": "d123d7dc",
   "metadata": {
    "papermill": {
     "duration": 0.015541,
     "end_time": "2024-11-16T20:37:57.804362",
     "exception": false,
     "start_time": "2024-11-16T20:37:57.788821",
     "status": "completed"
    },
    "tags": []
   },
   "outputs": [],
   "source": []
  }
 ],
 "metadata": {
  "kaggle": {
   "accelerator": "none",
   "dataSources": [
    {
     "datasetId": 1582403,
     "sourceId": 2603715,
     "sourceType": "datasetVersion"
    }
   ],
   "dockerImageVersionId": 30626,
   "isGpuEnabled": false,
   "isInternetEnabled": true,
   "language": "python",
   "sourceType": "notebook"
  },
  "kernelspec": {
   "display_name": "Python 3",
   "language": "python",
   "name": "python3"
  },
  "language_info": {
   "codemirror_mode": {
    "name": "ipython",
    "version": 3
   },
   "file_extension": ".py",
   "mimetype": "text/x-python",
   "name": "python",
   "nbconvert_exporter": "python",
   "pygments_lexer": "ipython3",
   "version": "3.10.12"
  },
  "papermill": {
   "default_parameters": {},
   "duration": 35.904701,
   "end_time": "2024-11-16T20:37:58.746178",
   "environment_variables": {},
   "exception": null,
   "input_path": "__notebook__.ipynb",
   "output_path": "__notebook__.ipynb",
   "parameters": {},
   "start_time": "2024-11-16T20:37:22.841477",
   "version": "2.4.0"
  }
 },
 "nbformat": 4,
 "nbformat_minor": 5
}
