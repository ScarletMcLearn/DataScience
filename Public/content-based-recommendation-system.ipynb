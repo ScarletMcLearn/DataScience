{
 "cells": [
  {
   "cell_type": "markdown",
   "metadata": {
    "papermill": {
     "duration": 0.019495,
     "end_time": "2024-11-02T16:01:59.994987",
     "exception": false,
     "start_time": "2024-11-02T16:01:59.975492",
     "status": "completed"
    },
    "tags": []
   },
   "source": [
    "# Content Based Recommendation Systems\n",
    "\n",
    "Recommendation systems are the systems that users predict future prefecences by using their past experiences and prefences. RS uses to a lot domains such as social media and e-commerce. Percent of 80 being watched movies and series on Netflix and percent of 60 being watched videos on Youtube has been explored by using thanks to recommendation systems. Amazon is in debt to recommendations systems percent of 35 of its gain. \n",
    "\n",
    "Recommendation systems are divided into three:\n",
    "\n",
    "* Collaborative Filtering\n",
    "* Content Based RS\n",
    "* Hybrid Models\n",
    "\n",
    "In this notebook we are going to discuss content based RS.\n",
    "\n",
    "## Content Based Recommendation Systems\n",
    "\n",
    "* CB are the systems that create a recommendation system by capturing similarity relationship between items according to comments, description or attributes of items which users interact. \n",
    "* It is used to models such as TF_IDF and Word2Vec in order to capture similarity.\n",
    "* It is very powerful that a item adding newly is recommend. \n",
    "* CB Filtering Approachs always provides apparent recommendation in order to use content descriprions. For example, if users have never used items having specific key words, it has no chance of recommendation. \n",
    "* The reason for this, designed model is always the special the user at hand. So experience of similar users is not benefited. This tends to reduce the variety of non-ideal recommended items. \n",
    "* Other disavantage in CB, although it is so powerful for present item recommendation, it is not successful in new user recommendation. In general they create hybrid model by combining content based filtering and collaborative filtering. "
   ]
  },
  {
   "cell_type": "markdown",
   "metadata": {
    "papermill": {
     "duration": 0.018237,
     "end_time": "2024-11-02T16:02:00.031960",
     "exception": false,
     "start_time": "2024-11-02T16:02:00.013723",
     "status": "completed"
    },
    "tags": []
   },
   "source": [
    "## What is TF-IDF?\n",
    "\n",
    "We use to capture similarity between content (in text data such as atribute, type etc.) TF-IDF or Word2Vec model. We need to understand this topic in order to set up right recommendation system. So what is tf-idf?\n",
    "\n",
    "TF-IDF is a weight factor which a word display important into document and had been calculated with statistics method. TF-IDF method use to a lot domains (sentiment analysis, RS, stop words filterin etc.) This method is divided into two. Fistly we will analyze Term Frequency(TF).\n",
    "\n",
    "### Term Frequency\n",
    "\n",
    "It express odds a word that is found document. For example \"Jandino: Whatever it Takes\" is a document. Odds of \"Jandino\" is 1/4 (number of Jandino / number of words in document)\n",
    "\n",
    "### Inverse Document Frequency\n",
    "\n",
    "It express logaritmic value of the ratio number of document and number of the word that contains document.\n",
    "\n",
    "**TF-IDF method used as multipy TF value and IDF value. (TF * IDF)**\n",
    "\n",
    "I applied this method in my model. And I found between similarity with cosine distance. "
   ]
  },
  {
   "cell_type": "code",
   "execution_count": 1,
   "metadata": {
    "_cell_guid": "b1076dfc-b9ad-4769-8c92-a6c4dae69d19",
    "_uuid": "8f2839f25d086af736a60e9eeb907d3b93b6e0e5",
    "execution": {
     "iopub.execute_input": "2024-11-02T16:02:00.078674Z",
     "iopub.status.busy": "2024-11-02T16:02:00.077816Z",
     "iopub.status.idle": "2024-11-02T16:02:01.164228Z",
     "shell.execute_reply": "2024-11-02T16:02:01.163297Z",
     "shell.execute_reply.started": "2024-11-02T16:01:31.608845Z"
    },
    "papermill": {
     "duration": 1.114603,
     "end_time": "2024-11-02T16:02:01.164418",
     "exception": false,
     "start_time": "2024-11-02T16:02:00.049815",
     "status": "completed"
    },
    "tags": []
   },
   "outputs": [
    {
     "name": "stdout",
     "output_type": "stream",
     "text": [
      "/kaggle/input/netflix-shows/netflix_titles.csv\n"
     ]
    }
   ],
   "source": [
    "# This Python 3 environment comes with many helpful analytics libraries installed\n",
    "# It is defined by the kaggle/python Docker image: https://github.com/kaggle/docker-python\n",
    "# For example, here's several helpful packages to load\n",
    "\n",
    "import numpy as np # linear algebra\n",
    "import pandas as pd # data processing, CSV file I/O (e.g. pd.read_csv)\n",
    "\n",
    "# For Text\n",
    "import re\n",
    "from sklearn.feature_extraction.text import TfidfVectorizer\n",
    "\n",
    "# Capture similarity \n",
    "from sklearn.metrics.pairwise import linear_kernel\n",
    "\n",
    "import os\n",
    "for dirname, _, filenames in os.walk('/kaggle/input'):\n",
    "    for filename in filenames:\n",
    "        print(os.path.join(dirname, filename))\n",
    "\n",
    "# You can write up to 20GB to the current directory (/kaggle/working/) that gets preserved as output when you create a version using \"Save & Run All\" \n",
    "# You can also write temporary files to /kaggle/temp/, but they won't be saved outside of the current session"
   ]
  },
  {
   "cell_type": "markdown",
   "metadata": {
    "papermill": {
     "duration": 0.019256,
     "end_time": "2024-11-02T16:02:01.202063",
     "exception": false,
     "start_time": "2024-11-02T16:02:01.182807",
     "status": "completed"
    },
    "tags": []
   },
   "source": [
    "Let's get to know our dataset."
   ]
  },
  {
   "cell_type": "code",
   "execution_count": 2,
   "metadata": {
    "_cell_guid": "79c7e3d0-c299-4dcb-8224-4455121ee9b0",
    "_uuid": "d629ff2d2480ee46fbb7e2d37f6b5fab8052498a",
    "execution": {
     "iopub.execute_input": "2024-11-02T16:02:01.249145Z",
     "iopub.status.busy": "2024-11-02T16:02:01.242385Z",
     "iopub.status.idle": "2024-11-02T16:02:01.397239Z",
     "shell.execute_reply": "2024-11-02T16:02:01.397910Z",
     "shell.execute_reply.started": "2024-11-02T16:01:32.658385Z"
    },
    "papermill": {
     "duration": 0.178366,
     "end_time": "2024-11-02T16:02:01.398083",
     "exception": false,
     "start_time": "2024-11-02T16:02:01.219717",
     "status": "completed"
    },
    "tags": []
   },
   "outputs": [
    {
     "data": {
      "text/html": [
       "<div>\n",
       "<style scoped>\n",
       "    .dataframe tbody tr th:only-of-type {\n",
       "        vertical-align: middle;\n",
       "    }\n",
       "\n",
       "    .dataframe tbody tr th {\n",
       "        vertical-align: top;\n",
       "    }\n",
       "\n",
       "    .dataframe thead th {\n",
       "        text-align: right;\n",
       "    }\n",
       "</style>\n",
       "<table border=\"1\" class=\"dataframe\">\n",
       "  <thead>\n",
       "    <tr style=\"text-align: right;\">\n",
       "      <th></th>\n",
       "      <th>show_id</th>\n",
       "      <th>type</th>\n",
       "      <th>title</th>\n",
       "      <th>director</th>\n",
       "      <th>cast</th>\n",
       "      <th>country</th>\n",
       "      <th>date_added</th>\n",
       "      <th>release_year</th>\n",
       "      <th>rating</th>\n",
       "      <th>duration</th>\n",
       "      <th>listed_in</th>\n",
       "      <th>description</th>\n",
       "    </tr>\n",
       "  </thead>\n",
       "  <tbody>\n",
       "    <tr>\n",
       "      <th>0</th>\n",
       "      <td>s1</td>\n",
       "      <td>Movie</td>\n",
       "      <td>Dick Johnson Is Dead</td>\n",
       "      <td>Kirsten Johnson</td>\n",
       "      <td>NaN</td>\n",
       "      <td>United States</td>\n",
       "      <td>September 25, 2021</td>\n",
       "      <td>2020</td>\n",
       "      <td>PG-13</td>\n",
       "      <td>90 min</td>\n",
       "      <td>Documentaries</td>\n",
       "      <td>As her father nears the end of his life, filmm...</td>\n",
       "    </tr>\n",
       "    <tr>\n",
       "      <th>1</th>\n",
       "      <td>s2</td>\n",
       "      <td>TV Show</td>\n",
       "      <td>Blood &amp; Water</td>\n",
       "      <td>NaN</td>\n",
       "      <td>Ama Qamata, Khosi Ngema, Gail Mabalane, Thaban...</td>\n",
       "      <td>South Africa</td>\n",
       "      <td>September 24, 2021</td>\n",
       "      <td>2021</td>\n",
       "      <td>TV-MA</td>\n",
       "      <td>2 Seasons</td>\n",
       "      <td>International TV Shows, TV Dramas, TV Mysteries</td>\n",
       "      <td>After crossing paths at a party, a Cape Town t...</td>\n",
       "    </tr>\n",
       "    <tr>\n",
       "      <th>2</th>\n",
       "      <td>s3</td>\n",
       "      <td>TV Show</td>\n",
       "      <td>Ganglands</td>\n",
       "      <td>Julien Leclercq</td>\n",
       "      <td>Sami Bouajila, Tracy Gotoas, Samuel Jouy, Nabi...</td>\n",
       "      <td>NaN</td>\n",
       "      <td>September 24, 2021</td>\n",
       "      <td>2021</td>\n",
       "      <td>TV-MA</td>\n",
       "      <td>1 Season</td>\n",
       "      <td>Crime TV Shows, International TV Shows, TV Act...</td>\n",
       "      <td>To protect his family from a powerful drug lor...</td>\n",
       "    </tr>\n",
       "    <tr>\n",
       "      <th>3</th>\n",
       "      <td>s4</td>\n",
       "      <td>TV Show</td>\n",
       "      <td>Jailbirds New Orleans</td>\n",
       "      <td>NaN</td>\n",
       "      <td>NaN</td>\n",
       "      <td>NaN</td>\n",
       "      <td>September 24, 2021</td>\n",
       "      <td>2021</td>\n",
       "      <td>TV-MA</td>\n",
       "      <td>1 Season</td>\n",
       "      <td>Docuseries, Reality TV</td>\n",
       "      <td>Feuds, flirtations and toilet talk go down amo...</td>\n",
       "    </tr>\n",
       "    <tr>\n",
       "      <th>4</th>\n",
       "      <td>s5</td>\n",
       "      <td>TV Show</td>\n",
       "      <td>Kota Factory</td>\n",
       "      <td>NaN</td>\n",
       "      <td>Mayur More, Jitendra Kumar, Ranjan Raj, Alam K...</td>\n",
       "      <td>India</td>\n",
       "      <td>September 24, 2021</td>\n",
       "      <td>2021</td>\n",
       "      <td>TV-MA</td>\n",
       "      <td>2 Seasons</td>\n",
       "      <td>International TV Shows, Romantic TV Shows, TV ...</td>\n",
       "      <td>In a city of coaching centers known to train I...</td>\n",
       "    </tr>\n",
       "  </tbody>\n",
       "</table>\n",
       "</div>"
      ],
      "text/plain": [
       "  show_id     type                  title         director  \\\n",
       "0      s1    Movie   Dick Johnson Is Dead  Kirsten Johnson   \n",
       "1      s2  TV Show          Blood & Water              NaN   \n",
       "2      s3  TV Show              Ganglands  Julien Leclercq   \n",
       "3      s4  TV Show  Jailbirds New Orleans              NaN   \n",
       "4      s5  TV Show           Kota Factory              NaN   \n",
       "\n",
       "                                                cast        country  \\\n",
       "0                                                NaN  United States   \n",
       "1  Ama Qamata, Khosi Ngema, Gail Mabalane, Thaban...   South Africa   \n",
       "2  Sami Bouajila, Tracy Gotoas, Samuel Jouy, Nabi...            NaN   \n",
       "3                                                NaN            NaN   \n",
       "4  Mayur More, Jitendra Kumar, Ranjan Raj, Alam K...          India   \n",
       "\n",
       "           date_added  release_year rating   duration  \\\n",
       "0  September 25, 2021          2020  PG-13     90 min   \n",
       "1  September 24, 2021          2021  TV-MA  2 Seasons   \n",
       "2  September 24, 2021          2021  TV-MA   1 Season   \n",
       "3  September 24, 2021          2021  TV-MA   1 Season   \n",
       "4  September 24, 2021          2021  TV-MA  2 Seasons   \n",
       "\n",
       "                                           listed_in  \\\n",
       "0                                      Documentaries   \n",
       "1    International TV Shows, TV Dramas, TV Mysteries   \n",
       "2  Crime TV Shows, International TV Shows, TV Act...   \n",
       "3                             Docuseries, Reality TV   \n",
       "4  International TV Shows, Romantic TV Shows, TV ...   \n",
       "\n",
       "                                         description  \n",
       "0  As her father nears the end of his life, filmm...  \n",
       "1  After crossing paths at a party, a Cape Town t...  \n",
       "2  To protect his family from a powerful drug lor...  \n",
       "3  Feuds, flirtations and toilet talk go down amo...  \n",
       "4  In a city of coaching centers known to train I...  "
      ]
     },
     "execution_count": 2,
     "metadata": {},
     "output_type": "execute_result"
    }
   ],
   "source": [
    "data = pd.read_csv(\"/kaggle/input/netflix-shows/netflix_titles.csv\")\n",
    "data.head()"
   ]
  },
  {
   "cell_type": "markdown",
   "metadata": {
    "papermill": {
     "duration": 0.019177,
     "end_time": "2024-11-02T16:02:01.435700",
     "exception": false,
     "start_time": "2024-11-02T16:02:01.416523",
     "status": "completed"
    },
    "tags": []
   },
   "source": [
    "> I wanted to make a suggestion depends on the cast members, description and \"listed_in\" which contains the shows type but there is another column named \"type\" it is a bit confusing I know. > "
   ]
  },
  {
   "cell_type": "markdown",
   "metadata": {
    "papermill": {
     "duration": 0.018314,
     "end_time": "2024-11-02T16:02:01.473663",
     "exception": false,
     "start_time": "2024-11-02T16:02:01.455349",
     "status": "completed"
    },
    "tags": []
   },
   "source": [
    "Drop nan values on these columns to make a proper matrix which contains linear_kernel values of selected strings."
   ]
  },
  {
   "cell_type": "code",
   "execution_count": 3,
   "metadata": {
    "execution": {
     "iopub.execute_input": "2024-11-02T16:02:01.529620Z",
     "iopub.status.busy": "2024-11-02T16:02:01.528408Z",
     "iopub.status.idle": "2024-11-02T16:02:01.557700Z",
     "shell.execute_reply": "2024-11-02T16:02:01.556820Z",
     "shell.execute_reply.started": "2024-11-02T16:01:32.808197Z"
    },
    "papermill": {
     "duration": 0.065642,
     "end_time": "2024-11-02T16:02:01.557846",
     "exception": false,
     "start_time": "2024-11-02T16:02:01.492204",
     "status": "completed"
    },
    "tags": []
   },
   "outputs": [],
   "source": [
    "data.dropna(subset=['cast','title','description','listed_in'],inplace=True,axis=0)\n",
    "data = data.reset_index(drop=True)"
   ]
  },
  {
   "cell_type": "markdown",
   "metadata": {
    "papermill": {
     "duration": 0.018008,
     "end_time": "2024-11-02T16:02:01.594142",
     "exception": false,
     "start_time": "2024-11-02T16:02:01.576134",
     "status": "completed"
    },
    "tags": []
   },
   "source": [
    "Let get to know feature that we will use:\n",
    "\n",
    "* type: media type (movie, tv show etc.)\n",
    "* title: media name\n",
    "* listed_in: place where it listed.\n",
    "* description: information about media\n",
    "\n",
    "In order to apply content based recommendation system, fistly we will clean text data and combine them."
   ]
  },
  {
   "cell_type": "code",
   "execution_count": 4,
   "metadata": {
    "execution": {
     "iopub.execute_input": "2024-11-02T16:02:01.660663Z",
     "iopub.status.busy": "2024-11-02T16:02:01.655359Z",
     "iopub.status.idle": "2024-11-02T16:02:01.844119Z",
     "shell.execute_reply": "2024-11-02T16:02:01.843185Z",
     "shell.execute_reply.started": "2024-11-02T16:01:32.848997Z"
    },
    "papermill": {
     "duration": 0.231709,
     "end_time": "2024-11-02T16:02:01.844451",
     "exception": false,
     "start_time": "2024-11-02T16:02:01.612742",
     "status": "completed"
    },
    "tags": []
   },
   "outputs": [],
   "source": [
    "data['listed_in'] = [re.sub(r'[^\\w\\s]', '', t) for t in data['listed_in']]\n",
    "data['cast'] = [re.sub(',',' ',re.sub(' ','',t)) for t in data['cast']]\n",
    "data['description'] = [re.sub(r'[^\\w\\s]', '', t) for t in data['description']]\n",
    "data['title'] = [re.sub(r'[^\\w\\s]', '', t) for t in data['title']]"
   ]
  },
  {
   "cell_type": "code",
   "execution_count": 5,
   "metadata": {
    "execution": {
     "iopub.execute_input": "2024-11-02T16:02:01.930357Z",
     "iopub.status.busy": "2024-11-02T16:02:01.908553Z",
     "iopub.status.idle": "2024-11-02T16:02:01.935529Z",
     "shell.execute_reply": "2024-11-02T16:02:01.934704Z",
     "shell.execute_reply.started": "2024-11-02T16:01:33.062476Z"
    },
    "papermill": {
     "duration": 0.072509,
     "end_time": "2024-11-02T16:02:01.935667",
     "exception": false,
     "start_time": "2024-11-02T16:02:01.863158",
     "status": "completed"
    },
    "tags": []
   },
   "outputs": [
    {
     "data": {
      "text/html": [
       "<div>\n",
       "<style scoped>\n",
       "    .dataframe tbody tr th:only-of-type {\n",
       "        vertical-align: middle;\n",
       "    }\n",
       "\n",
       "    .dataframe tbody tr th {\n",
       "        vertical-align: top;\n",
       "    }\n",
       "\n",
       "    .dataframe thead th {\n",
       "        text-align: right;\n",
       "    }\n",
       "</style>\n",
       "<table border=\"1\" class=\"dataframe\">\n",
       "  <thead>\n",
       "    <tr style=\"text-align: right;\">\n",
       "      <th></th>\n",
       "      <th>show_id</th>\n",
       "      <th>type</th>\n",
       "      <th>title</th>\n",
       "      <th>director</th>\n",
       "      <th>country</th>\n",
       "      <th>date_added</th>\n",
       "      <th>release_year</th>\n",
       "      <th>rating</th>\n",
       "      <th>duration</th>\n",
       "      <th>combined</th>\n",
       "    </tr>\n",
       "  </thead>\n",
       "  <tbody>\n",
       "    <tr>\n",
       "      <th>0</th>\n",
       "      <td>s2</td>\n",
       "      <td>TV Show</td>\n",
       "      <td>Blood  Water</td>\n",
       "      <td>NaN</td>\n",
       "      <td>South Africa</td>\n",
       "      <td>September 24, 2021</td>\n",
       "      <td>2021</td>\n",
       "      <td>TV-MA</td>\n",
       "      <td>2 Seasons</td>\n",
       "      <td>International TV Shows TV Dramas TV Mysteries ...</td>\n",
       "    </tr>\n",
       "    <tr>\n",
       "      <th>1</th>\n",
       "      <td>s3</td>\n",
       "      <td>TV Show</td>\n",
       "      <td>Ganglands</td>\n",
       "      <td>Julien Leclercq</td>\n",
       "      <td>NaN</td>\n",
       "      <td>September 24, 2021</td>\n",
       "      <td>2021</td>\n",
       "      <td>TV-MA</td>\n",
       "      <td>1 Season</td>\n",
       "      <td>Crime TV Shows International TV Shows TV Actio...</td>\n",
       "    </tr>\n",
       "    <tr>\n",
       "      <th>2</th>\n",
       "      <td>s5</td>\n",
       "      <td>TV Show</td>\n",
       "      <td>Kota Factory</td>\n",
       "      <td>NaN</td>\n",
       "      <td>India</td>\n",
       "      <td>September 24, 2021</td>\n",
       "      <td>2021</td>\n",
       "      <td>TV-MA</td>\n",
       "      <td>2 Seasons</td>\n",
       "      <td>International TV Shows Romantic TV Shows TV Co...</td>\n",
       "    </tr>\n",
       "    <tr>\n",
       "      <th>3</th>\n",
       "      <td>s6</td>\n",
       "      <td>TV Show</td>\n",
       "      <td>Midnight Mass</td>\n",
       "      <td>Mike Flanagan</td>\n",
       "      <td>NaN</td>\n",
       "      <td>September 24, 2021</td>\n",
       "      <td>2021</td>\n",
       "      <td>TV-MA</td>\n",
       "      <td>1 Season</td>\n",
       "      <td>TV Dramas TV Horror TV Mysteries  KateSiegel Z...</td>\n",
       "    </tr>\n",
       "    <tr>\n",
       "      <th>4</th>\n",
       "      <td>s7</td>\n",
       "      <td>Movie</td>\n",
       "      <td>My Little Pony A New Generation</td>\n",
       "      <td>Robert Cullen, José Luis Ucha</td>\n",
       "      <td>NaN</td>\n",
       "      <td>September 24, 2021</td>\n",
       "      <td>2021</td>\n",
       "      <td>PG</td>\n",
       "      <td>91 min</td>\n",
       "      <td>Children  Family Movies  VanessaHudgens Kimiko...</td>\n",
       "    </tr>\n",
       "  </tbody>\n",
       "</table>\n",
       "</div>"
      ],
      "text/plain": [
       "  show_id     type                            title  \\\n",
       "0      s2  TV Show                     Blood  Water   \n",
       "1      s3  TV Show                        Ganglands   \n",
       "2      s5  TV Show                     Kota Factory   \n",
       "3      s6  TV Show                    Midnight Mass   \n",
       "4      s7    Movie  My Little Pony A New Generation   \n",
       "\n",
       "                        director       country          date_added  \\\n",
       "0                            NaN  South Africa  September 24, 2021   \n",
       "1                Julien Leclercq           NaN  September 24, 2021   \n",
       "2                            NaN         India  September 24, 2021   \n",
       "3                  Mike Flanagan           NaN  September 24, 2021   \n",
       "4  Robert Cullen, José Luis Ucha           NaN  September 24, 2021   \n",
       "\n",
       "   release_year rating   duration  \\\n",
       "0          2021  TV-MA  2 Seasons   \n",
       "1          2021  TV-MA   1 Season   \n",
       "2          2021  TV-MA  2 Seasons   \n",
       "3          2021  TV-MA   1 Season   \n",
       "4          2021     PG     91 min   \n",
       "\n",
       "                                            combined  \n",
       "0  International TV Shows TV Dramas TV Mysteries ...  \n",
       "1  Crime TV Shows International TV Shows TV Actio...  \n",
       "2  International TV Shows Romantic TV Shows TV Co...  \n",
       "3  TV Dramas TV Horror TV Mysteries  KateSiegel Z...  \n",
       "4  Children  Family Movies  VanessaHudgens Kimiko...  "
      ]
     },
     "execution_count": 5,
     "metadata": {},
     "output_type": "execute_result"
    }
   ],
   "source": [
    "data[\"combined\"] = data['listed_in'] + '  ' + data['cast'] + ' ' + data['title'] + ' ' + data['description']\n",
    "data.drop(['listed_in','cast','description'],axis=1,inplace=True)\n",
    "data.head()"
   ]
  },
  {
   "cell_type": "code",
   "execution_count": 6,
   "metadata": {
    "execution": {
     "iopub.execute_input": "2024-11-02T16:02:02.012093Z",
     "iopub.status.busy": "2024-11-02T16:02:01.991255Z",
     "iopub.status.idle": "2024-11-02T16:02:06.293015Z",
     "shell.execute_reply": "2024-11-02T16:02:06.293946Z",
     "shell.execute_reply.started": "2024-11-02T16:01:33.113764Z"
    },
    "papermill": {
     "duration": 4.339567,
     "end_time": "2024-11-02T16:02:06.294179",
     "exception": false,
     "start_time": "2024-11-02T16:02:01.954612",
     "status": "completed"
    },
    "tags": []
   },
   "outputs": [],
   "source": [
    "# Content Similarity\n",
    "vectorizer = TfidfVectorizer()\n",
    "matrix = vectorizer.fit_transform(data[\"combined\"])\n",
    "cosine_similarities = linear_kernel(matrix,matrix)\n",
    "movie_title = data['title']\n",
    "indices = pd.Series(data.index, index=data['title'])"
   ]
  },
  {
   "cell_type": "markdown",
   "metadata": {
    "papermill": {
     "duration": 0.018923,
     "end_time": "2024-11-02T16:02:06.336982",
     "exception": false,
     "start_time": "2024-11-02T16:02:06.318059",
     "status": "completed"
    },
    "tags": []
   },
   "source": [
    "Now Let's set up our recommendation model."
   ]
  },
  {
   "cell_type": "code",
   "execution_count": 7,
   "metadata": {
    "execution": {
     "iopub.execute_input": "2024-11-02T16:02:06.387386Z",
     "iopub.status.busy": "2024-11-02T16:02:06.386437Z",
     "iopub.status.idle": "2024-11-02T16:02:06.390611Z",
     "shell.execute_reply": "2024-11-02T16:02:06.389750Z",
     "shell.execute_reply.started": "2024-11-02T16:01:37.284235Z"
    },
    "papermill": {
     "duration": 0.033993,
     "end_time": "2024-11-02T16:02:06.390754",
     "exception": false,
     "start_time": "2024-11-02T16:02:06.356761",
     "status": "completed"
    },
    "tags": []
   },
   "outputs": [],
   "source": [
    "def content_recommender(title):\n",
    "    idx = indices[title]\n",
    "    sim_scores = list(enumerate(cosine_similarities[idx]))\n",
    "    sim_scores = sorted(sim_scores, key=lambda x: x[1], reverse=True)\n",
    "    sim_scores = sim_scores[1:31]\n",
    "    movie_indices = [i[0] for i in sim_scores]\n",
    "    return movie_title.iloc[movie_indices]"
   ]
  },
  {
   "cell_type": "markdown",
   "metadata": {
    "papermill": {
     "duration": 0.019181,
     "end_time": "2024-11-02T16:02:06.431707",
     "exception": false,
     "start_time": "2024-11-02T16:02:06.412526",
     "status": "completed"
    },
    "tags": []
   },
   "source": [
    "Let's try our model whether works right."
   ]
  },
  {
   "cell_type": "code",
   "execution_count": 8,
   "metadata": {
    "execution": {
     "iopub.execute_input": "2024-11-02T16:02:06.480204Z",
     "iopub.status.busy": "2024-11-02T16:02:06.478949Z",
     "iopub.status.idle": "2024-11-02T16:02:06.481447Z",
     "shell.execute_reply": "2024-11-02T16:02:06.482198Z",
     "shell.execute_reply.started": "2024-11-02T16:01:37.293617Z"
    },
    "papermill": {
     "duration": 0.031427,
     "end_time": "2024-11-02T16:02:06.482394",
     "exception": false,
     "start_time": "2024-11-02T16:02:06.450967",
     "status": "completed"
    },
    "tags": []
   },
   "outputs": [],
   "source": [
    "def content_recommender(title):\n",
    "    idx = indices[title]\n",
    "    sim_scores = list(enumerate(cosine_similarities[idx]))\n",
    "    sim_scores = sorted(sim_scores, key=lambda x: x[1], reverse=True)\n",
    "    sim_scores = sim_scores[1:31]\n",
    "    movie_indices = [i[0] for i in sim_scores]\n",
    "    return  movie_title.iloc[movie_indices]"
   ]
  },
  {
   "cell_type": "markdown",
   "metadata": {
    "papermill": {
     "duration": 0.019106,
     "end_time": "2024-11-02T16:02:06.520706",
     "exception": false,
     "start_time": "2024-11-02T16:02:06.501600",
     "status": "completed"
    },
    "tags": []
   },
   "source": [
    "Here is our recommendations."
   ]
  },
  {
   "cell_type": "code",
   "execution_count": 9,
   "metadata": {
    "execution": {
     "iopub.execute_input": "2024-11-02T16:02:06.584871Z",
     "iopub.status.busy": "2024-11-02T16:02:06.583938Z",
     "iopub.status.idle": "2024-11-02T16:02:06.589073Z",
     "shell.execute_reply": "2024-11-02T16:02:06.588311Z",
     "shell.execute_reply.started": "2024-11-02T16:01:37.316035Z"
    },
    "papermill": {
     "duration": 0.048912,
     "end_time": "2024-11-02T16:02:06.589207",
     "exception": false,
     "start_time": "2024-11-02T16:02:06.540295",
     "status": "completed"
    },
    "tags": []
   },
   "outputs": [
    {
     "data": {
      "text/plain": [
       "709                                         Downton Abbey\n",
       "543                                             The Queen\n",
       "5283                          Witches A Century of Murder\n",
       "6665                                           London Spy\n",
       "6848                                       My Hotter Half\n",
       "4797                                                Reign\n",
       "7457      The Blue Planet A Natural History of the Oceans\n",
       "7689                          The Real Football Factories\n",
       "4528                                           Collateral\n",
       "4625                                             Lovesick\n",
       "7030                 Planet Earth The Complete Collection\n",
       "5546                                         Age Gap Love\n",
       "4566                          The Frankenstein Chronicles\n",
       "3859                                 Single Ladies Senior\n",
       "7458                                       The Bomb Squad\n",
       "6879                         Natures Great Events Diaries\n",
       "3888                                              Flowers\n",
       "5542                                               Africa\n",
       "7143                                        Ripper Street\n",
       "1874                                   Thomas and Friends\n",
       "6941    Oliver Stones Untold History of the United States\n",
       "6636                                           Life Story\n",
       "477                                            The A List\n",
       "2753                                              Dracula\n",
       "2638                                    Palazuelos mi rey\n",
       "6188                                        Frozen Planet\n",
       "5955                                            Dads Army\n",
       "5072                                        One More Time\n",
       "3772                                   Black Earth Rising\n",
       "6878                            Natures Great Events 2009\n",
       "Name: title, dtype: object"
      ]
     },
     "execution_count": 9,
     "metadata": {},
     "output_type": "execute_result"
    }
   ],
   "source": [
    "content_recommender('The Crown')"
   ]
  },
  {
   "cell_type": "markdown",
   "metadata": {
    "papermill": {
     "duration": 0.019085,
     "end_time": "2024-11-02T16:02:06.628057",
     "exception": false,
     "start_time": "2024-11-02T16:02:06.608972",
     "status": "completed"
    },
    "tags": []
   },
   "source": [
    "If you want to save it into csv:"
   ]
  },
  {
   "cell_type": "code",
   "execution_count": 10,
   "metadata": {
    "execution": {
     "iopub.execute_input": "2024-11-02T16:02:06.689355Z",
     "iopub.status.busy": "2024-11-02T16:02:06.688053Z",
     "iopub.status.idle": "2024-11-02T16:02:07.074204Z",
     "shell.execute_reply": "2024-11-02T16:02:07.073507Z",
     "shell.execute_reply.started": "2024-11-02T16:01:37.350521Z"
    },
    "papermill": {
     "duration": 0.426657,
     "end_time": "2024-11-02T16:02:07.074363",
     "exception": false,
     "start_time": "2024-11-02T16:02:06.647706",
     "status": "completed"
    },
    "tags": []
   },
   "outputs": [],
   "source": [
    "title = 'The Crown'\n",
    "suggestions = content_recommender(title)\n",
    "\n",
    "suggestions_df = pd.DataFrame(data=suggestions)\n",
    "suggestions_df.to_csv('suggestions_based_on_%s.csv'%title,index=False,header=False)"
   ]
  },
  {
   "cell_type": "markdown",
   "metadata": {
    "papermill": {
     "duration": 0.019235,
     "end_time": "2024-11-02T16:02:07.113844",
     "exception": false,
     "start_time": "2024-11-02T16:02:07.094609",
     "status": "completed"
    },
    "tags": []
   },
   "source": [
    "In this above. Our model brought the recommendations. We wanted to bring acording to Transformes series movie. Firstly it brought to Transformers movies.\n",
    "\n",
    "# Conclusion\n",
    "\n",
    "* In this notebook. I worked to explain content based recommendation system.\n",
    "* Content based RS models are powerful in new item recommendation. \n",
    "* In general it is used TF-IDF and Word2Vec model while content based RS designs.\n",
    "* TF-IDF method is the method which explains words frequency in document.\n",
    "* It can be created a recommendation model by using cosine distance with the aid of TF-IDF weights.\n",
    "\n",
    "If you benefit this notebook. Please upvote for my motivastion. I will be waiting your mind in comments. Your comments are so important to improve my skills. Thanks to your votes and comments."
   ]
  }
 ],
 "metadata": {
  "kaggle": {
   "accelerator": "none",
   "dataSources": [
    {
     "datasetId": 434238,
     "sourceId": 2654038,
     "sourceType": "datasetVersion"
    }
   ],
   "dockerImageVersionId": 30019,
   "isGpuEnabled": false,
   "isInternetEnabled": true,
   "language": "python",
   "sourceType": "notebook"
  },
  "kernelspec": {
   "display_name": "Python 3",
   "language": "python",
   "name": "python3"
  },
  "language_info": {
   "codemirror_mode": {
    "name": "ipython",
    "version": 3
   },
   "file_extension": ".py",
   "mimetype": "text/x-python",
   "name": "python",
   "nbconvert_exporter": "python",
   "pygments_lexer": "ipython3",
   "version": "3.7.6"
  },
  "papermill": {
   "duration": 12.629917,
   "end_time": "2024-11-02T16:02:07.241974",
   "environment_variables": {},
   "exception": null,
   "input_path": "__notebook__.ipynb",
   "output_path": "__notebook__.ipynb",
   "parameters": {},
   "start_time": "2024-11-02T16:01:54.612057",
   "version": "2.1.0"
  }
 },
 "nbformat": 4,
 "nbformat_minor": 4
}
