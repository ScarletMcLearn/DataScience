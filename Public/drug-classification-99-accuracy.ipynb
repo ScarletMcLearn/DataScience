{
 "cells": [
  {
   "cell_type": "code",
   "execution_count": 1,
   "id": "466d9906",
   "metadata": {
    "_cell_guid": "b1076dfc-b9ad-4769-8c92-a6c4dae69d19",
    "_uuid": "8f2839f25d086af736a60e9eeb907d3b93b6e0e5",
    "execution": {
     "iopub.execute_input": "2024-10-06T20:08:38.457825Z",
     "iopub.status.busy": "2024-10-06T20:08:38.456834Z",
     "iopub.status.idle": "2024-10-06T20:08:39.243738Z",
     "shell.execute_reply": "2024-10-06T20:08:39.242771Z"
    },
    "papermill": {
     "duration": 0.794853,
     "end_time": "2024-10-06T20:08:39.245977",
     "exception": false,
     "start_time": "2024-10-06T20:08:38.451124",
     "status": "completed"
    },
    "tags": []
   },
   "outputs": [
    {
     "name": "stdout",
     "output_type": "stream",
     "text": [
      "/kaggle/input/drug-classification/drug200.csv\n"
     ]
    }
   ],
   "source": [
    "# This Python 3 environment comes with many helpful analytics libraries installed\n",
    "# It is defined by the kaggle/python Docker image: https://github.com/kaggle/docker-python\n",
    "# For example, here's several helpful packages to load\n",
    "\n",
    "import numpy as np # linear algebra\n",
    "import pandas as pd # data processing, CSV file I/O (e.g. pd.read_csv)\n",
    "\n",
    "# Input data files are available in the read-only \"../input/\" directory\n",
    "# For example, running this (by clicking run or pressing Shift+Enter) will list all files under the input directory\n",
    "\n",
    "import os\n",
    "\n",
    "fn = []\n",
    "for dirname, _, filenames in os.walk('/kaggle/input'):\n",
    "    for filename in filenames:\n",
    "        fn.append(os.path.join(dirname, filename))\n",
    "        print(os.path.join(dirname, filename))\n",
    "\n",
    "# You can write up to 20GB to the current directory (/kaggle/working/) that gets preserved as output when you create a version using \"Save & Run All\" \n",
    "# You can also write temporary files to /kaggle/temp/, but they won't be saved outside of the current session"
   ]
  },
  {
   "cell_type": "code",
   "execution_count": 2,
   "id": "b742450a",
   "metadata": {
    "execution": {
     "iopub.execute_input": "2024-10-06T20:08:39.254894Z",
     "iopub.status.busy": "2024-10-06T20:08:39.254201Z",
     "iopub.status.idle": "2024-10-06T20:08:39.285137Z",
     "shell.execute_reply": "2024-10-06T20:08:39.284096Z"
    },
    "papermill": {
     "duration": 0.037719,
     "end_time": "2024-10-06T20:08:39.287358",
     "exception": false,
     "start_time": "2024-10-06T20:08:39.249639",
     "status": "completed"
    },
    "tags": []
   },
   "outputs": [
    {
     "data": {
      "text/html": [
       "<div>\n",
       "<style scoped>\n",
       "    .dataframe tbody tr th:only-of-type {\n",
       "        vertical-align: middle;\n",
       "    }\n",
       "\n",
       "    .dataframe tbody tr th {\n",
       "        vertical-align: top;\n",
       "    }\n",
       "\n",
       "    .dataframe thead th {\n",
       "        text-align: right;\n",
       "    }\n",
       "</style>\n",
       "<table border=\"1\" class=\"dataframe\">\n",
       "  <thead>\n",
       "    <tr style=\"text-align: right;\">\n",
       "      <th></th>\n",
       "      <th>Age</th>\n",
       "      <th>Sex</th>\n",
       "      <th>BP</th>\n",
       "      <th>Cholesterol</th>\n",
       "      <th>Na_to_K</th>\n",
       "      <th>Drug</th>\n",
       "    </tr>\n",
       "  </thead>\n",
       "  <tbody>\n",
       "    <tr>\n",
       "      <th>0</th>\n",
       "      <td>23</td>\n",
       "      <td>F</td>\n",
       "      <td>HIGH</td>\n",
       "      <td>HIGH</td>\n",
       "      <td>25.355</td>\n",
       "      <td>DrugY</td>\n",
       "    </tr>\n",
       "    <tr>\n",
       "      <th>1</th>\n",
       "      <td>47</td>\n",
       "      <td>M</td>\n",
       "      <td>LOW</td>\n",
       "      <td>HIGH</td>\n",
       "      <td>13.093</td>\n",
       "      <td>drugC</td>\n",
       "    </tr>\n",
       "    <tr>\n",
       "      <th>2</th>\n",
       "      <td>47</td>\n",
       "      <td>M</td>\n",
       "      <td>LOW</td>\n",
       "      <td>HIGH</td>\n",
       "      <td>10.114</td>\n",
       "      <td>drugC</td>\n",
       "    </tr>\n",
       "    <tr>\n",
       "      <th>3</th>\n",
       "      <td>28</td>\n",
       "      <td>F</td>\n",
       "      <td>NORMAL</td>\n",
       "      <td>HIGH</td>\n",
       "      <td>7.798</td>\n",
       "      <td>drugX</td>\n",
       "    </tr>\n",
       "    <tr>\n",
       "      <th>4</th>\n",
       "      <td>61</td>\n",
       "      <td>F</td>\n",
       "      <td>LOW</td>\n",
       "      <td>HIGH</td>\n",
       "      <td>18.043</td>\n",
       "      <td>DrugY</td>\n",
       "    </tr>\n",
       "  </tbody>\n",
       "</table>\n",
       "</div>"
      ],
      "text/plain": [
       "   Age Sex      BP Cholesterol  Na_to_K   Drug\n",
       "0   23   F    HIGH        HIGH   25.355  DrugY\n",
       "1   47   M     LOW        HIGH   13.093  drugC\n",
       "2   47   M     LOW        HIGH   10.114  drugC\n",
       "3   28   F  NORMAL        HIGH    7.798  drugX\n",
       "4   61   F     LOW        HIGH   18.043  DrugY"
      ]
     },
     "execution_count": 2,
     "metadata": {},
     "output_type": "execute_result"
    }
   ],
   "source": [
    "import pandas as pd\n",
    "\n",
    "# Reading the CSV file\n",
    "df = pd.read_csv(fn[0])\n",
    "\n",
    "# Displaying the first few rows of the DataFrame\n",
    "df.head()"
   ]
  },
  {
   "cell_type": "code",
   "execution_count": 3,
   "id": "119938ee",
   "metadata": {
    "execution": {
     "iopub.execute_input": "2024-10-06T20:08:39.296318Z",
     "iopub.status.busy": "2024-10-06T20:08:39.295915Z",
     "iopub.status.idle": "2024-10-06T20:08:40.467345Z",
     "shell.execute_reply": "2024-10-06T20:08:40.466269Z"
    },
    "papermill": {
     "duration": 1.178554,
     "end_time": "2024-10-06T20:08:40.469698",
     "exception": false,
     "start_time": "2024-10-06T20:08:39.291144",
     "status": "completed"
    },
    "tags": []
   },
   "outputs": [
    {
     "data": {
      "text/html": [
       "<div>\n",
       "<style scoped>\n",
       "    .dataframe tbody tr th:only-of-type {\n",
       "        vertical-align: middle;\n",
       "    }\n",
       "\n",
       "    .dataframe tbody tr th {\n",
       "        vertical-align: top;\n",
       "    }\n",
       "\n",
       "    .dataframe thead th {\n",
       "        text-align: right;\n",
       "    }\n",
       "</style>\n",
       "<table border=\"1\" class=\"dataframe\">\n",
       "  <thead>\n",
       "    <tr style=\"text-align: right;\">\n",
       "      <th></th>\n",
       "      <th>Age</th>\n",
       "      <th>Sex</th>\n",
       "      <th>BP</th>\n",
       "      <th>Cholesterol</th>\n",
       "      <th>Na_to_K</th>\n",
       "      <th>Drug</th>\n",
       "    </tr>\n",
       "  </thead>\n",
       "  <tbody>\n",
       "    <tr>\n",
       "      <th>0</th>\n",
       "      <td>23</td>\n",
       "      <td>0</td>\n",
       "      <td>0</td>\n",
       "      <td>0</td>\n",
       "      <td>25.355</td>\n",
       "      <td>0</td>\n",
       "    </tr>\n",
       "    <tr>\n",
       "      <th>1</th>\n",
       "      <td>47</td>\n",
       "      <td>1</td>\n",
       "      <td>1</td>\n",
       "      <td>0</td>\n",
       "      <td>13.093</td>\n",
       "      <td>3</td>\n",
       "    </tr>\n",
       "    <tr>\n",
       "      <th>2</th>\n",
       "      <td>47</td>\n",
       "      <td>1</td>\n",
       "      <td>1</td>\n",
       "      <td>0</td>\n",
       "      <td>10.114</td>\n",
       "      <td>3</td>\n",
       "    </tr>\n",
       "    <tr>\n",
       "      <th>3</th>\n",
       "      <td>28</td>\n",
       "      <td>0</td>\n",
       "      <td>2</td>\n",
       "      <td>0</td>\n",
       "      <td>7.798</td>\n",
       "      <td>4</td>\n",
       "    </tr>\n",
       "    <tr>\n",
       "      <th>4</th>\n",
       "      <td>61</td>\n",
       "      <td>0</td>\n",
       "      <td>1</td>\n",
       "      <td>0</td>\n",
       "      <td>18.043</td>\n",
       "      <td>0</td>\n",
       "    </tr>\n",
       "    <tr>\n",
       "      <th>...</th>\n",
       "      <td>...</td>\n",
       "      <td>...</td>\n",
       "      <td>...</td>\n",
       "      <td>...</td>\n",
       "      <td>...</td>\n",
       "      <td>...</td>\n",
       "    </tr>\n",
       "    <tr>\n",
       "      <th>195</th>\n",
       "      <td>56</td>\n",
       "      <td>0</td>\n",
       "      <td>1</td>\n",
       "      <td>0</td>\n",
       "      <td>11.567</td>\n",
       "      <td>3</td>\n",
       "    </tr>\n",
       "    <tr>\n",
       "      <th>196</th>\n",
       "      <td>16</td>\n",
       "      <td>1</td>\n",
       "      <td>1</td>\n",
       "      <td>0</td>\n",
       "      <td>12.006</td>\n",
       "      <td>3</td>\n",
       "    </tr>\n",
       "    <tr>\n",
       "      <th>197</th>\n",
       "      <td>52</td>\n",
       "      <td>1</td>\n",
       "      <td>2</td>\n",
       "      <td>0</td>\n",
       "      <td>9.894</td>\n",
       "      <td>4</td>\n",
       "    </tr>\n",
       "    <tr>\n",
       "      <th>198</th>\n",
       "      <td>23</td>\n",
       "      <td>1</td>\n",
       "      <td>2</td>\n",
       "      <td>1</td>\n",
       "      <td>14.020</td>\n",
       "      <td>4</td>\n",
       "    </tr>\n",
       "    <tr>\n",
       "      <th>199</th>\n",
       "      <td>40</td>\n",
       "      <td>0</td>\n",
       "      <td>1</td>\n",
       "      <td>1</td>\n",
       "      <td>11.349</td>\n",
       "      <td>4</td>\n",
       "    </tr>\n",
       "  </tbody>\n",
       "</table>\n",
       "<p>200 rows × 6 columns</p>\n",
       "</div>"
      ],
      "text/plain": [
       "     Age  Sex  BP  Cholesterol  Na_to_K  Drug\n",
       "0     23    0   0            0   25.355     0\n",
       "1     47    1   1            0   13.093     3\n",
       "2     47    1   1            0   10.114     3\n",
       "3     28    0   2            0    7.798     4\n",
       "4     61    0   1            0   18.043     0\n",
       "..   ...  ...  ..          ...      ...   ...\n",
       "195   56    0   1            0   11.567     3\n",
       "196   16    1   1            0   12.006     3\n",
       "197   52    1   2            0    9.894     4\n",
       "198   23    1   2            1   14.020     4\n",
       "199   40    0   1            1   11.349     4\n",
       "\n",
       "[200 rows x 6 columns]"
      ]
     },
     "execution_count": 3,
     "metadata": {},
     "output_type": "execute_result"
    }
   ],
   "source": [
    "import pandas as pd\n",
    "from sklearn.preprocessing import LabelEncoder\n",
    "\n",
    "# # Sample DataFrame\n",
    "# data = {\n",
    "#     'Age': [23, 45, 56, 67],\n",
    "#     'Sex': ['F', 'M', 'F', 'M'],\n",
    "#     'BP': ['HIGH', 'LOW', 'NORMAL', 'HIGH'],\n",
    "#     'Cholesterol': ['NORMAL', 'HIGH', 'NORMAL', 'HIGH'],\n",
    "#     'Na_to_K': [15.0, 13.5, 14.2, 16.0],\n",
    "#     'Drug': ['drugY', 'drugC', 'drugX', 'drugA']\n",
    "# }\n",
    "\n",
    "# df = pd.DataFrame(data)\n",
    "\n",
    "# Columns to label encode\n",
    "columns_to_encode = ['Sex', 'BP', 'Cholesterol', 'Drug']\n",
    "\n",
    "# Initialize the LabelEncoder\n",
    "le = LabelEncoder()\n",
    "\n",
    "# Apply label encoding to each column\n",
    "for col in columns_to_encode:\n",
    "    df[col] = le.fit_transform(df[col])\n",
    "\n",
    "# Display the new DataFrame\n",
    "df"
   ]
  },
  {
   "cell_type": "code",
   "execution_count": 4,
   "id": "188b0887",
   "metadata": {
    "execution": {
     "iopub.execute_input": "2024-10-06T20:08:40.479956Z",
     "iopub.status.busy": "2024-10-06T20:08:40.479050Z",
     "iopub.status.idle": "2024-10-06T20:08:40.589736Z",
     "shell.execute_reply": "2024-10-06T20:08:40.588236Z"
    },
    "papermill": {
     "duration": 0.11882,
     "end_time": "2024-10-06T20:08:40.592547",
     "exception": false,
     "start_time": "2024-10-06T20:08:40.473727",
     "status": "completed"
    },
    "tags": []
   },
   "outputs": [
    {
     "name": "stdout",
     "output_type": "stream",
     "text": [
      "Training set: (120, 5), (120,)\n",
      "Testing set: (40, 5), (40,)\n",
      "Validation set: (40, 5), (40,)\n"
     ]
    }
   ],
   "source": [
    "from sklearn.model_selection import train_test_split\n",
    "\n",
    "# Features and target\n",
    "X = df.drop('Drug', axis=1)\n",
    "y = df['Drug']\n",
    "\n",
    "# Split into train and temp (test + validation)\n",
    "X_train, X_temp, y_train, y_temp = train_test_split(X, y, test_size=0.4, stratify=y, random_state=42)\n",
    "\n",
    "# Split temp into test and validation\n",
    "X_test, X_val, y_test, y_val = train_test_split(X_temp, y_temp, test_size=0.5, stratify=y_temp, random_state=42)\n",
    "\n",
    "# Display the shapes of the resulting DataFrames\n",
    "print(f\"Training set: {X_train.shape}, {y_train.shape}\")\n",
    "print(f\"Testing set: {X_test.shape}, {y_test.shape}\")\n",
    "print(f\"Validation set: {X_val.shape}, {y_val.shape}\")"
   ]
  },
  {
   "cell_type": "code",
   "execution_count": 5,
   "id": "fd537093",
   "metadata": {
    "execution": {
     "iopub.execute_input": "2024-10-06T20:08:40.602298Z",
     "iopub.status.busy": "2024-10-06T20:08:40.601894Z",
     "iopub.status.idle": "2024-10-06T20:08:40.617520Z",
     "shell.execute_reply": "2024-10-06T20:08:40.616535Z"
    },
    "papermill": {
     "duration": 0.023217,
     "end_time": "2024-10-06T20:08:40.619854",
     "exception": false,
     "start_time": "2024-10-06T20:08:40.596637",
     "status": "completed"
    },
    "tags": []
   },
   "outputs": [
    {
     "name": "stdout",
     "output_type": "stream",
     "text": [
      "Unique counts in y_train:\n",
      "Drug\n",
      "0    55\n",
      "4    32\n",
      "1    14\n",
      "3    10\n",
      "2     9\n",
      "Name: count, dtype: int64\n",
      "\n",
      "Unique counts in y_test:\n",
      "Drug\n",
      "0    18\n",
      "4    11\n",
      "1     4\n",
      "2     4\n",
      "3     3\n",
      "Name: count, dtype: int64\n",
      "\n",
      "Unique counts in y_val:\n",
      "Drug\n",
      "0    18\n",
      "4    11\n",
      "1     5\n",
      "2     3\n",
      "3     3\n",
      "Name: count, dtype: int64\n"
     ]
    }
   ],
   "source": [
    "# Assuming y_train, y_test, and y_val are already defined\n",
    "\n",
    "# Unique counts in y_train\n",
    "train_counts = y_train.value_counts()\n",
    "print(\"Unique counts in y_train:\")\n",
    "print(train_counts)\n",
    "\n",
    "# Unique counts in y_test\n",
    "test_counts = y_test.value_counts()\n",
    "print(\"\\nUnique counts in y_test:\")\n",
    "print(test_counts)\n",
    "\n",
    "# Unique counts in y_val\n",
    "val_counts = y_val.value_counts()\n",
    "print(\"\\nUnique counts in y_val:\")\n",
    "print(val_counts)\n"
   ]
  },
  {
   "cell_type": "code",
   "execution_count": 6,
   "id": "2598eb5a",
   "metadata": {
    "execution": {
     "iopub.execute_input": "2024-10-06T20:08:40.629665Z",
     "iopub.status.busy": "2024-10-06T20:08:40.629242Z",
     "iopub.status.idle": "2024-10-06T20:08:43.816992Z",
     "shell.execute_reply": "2024-10-06T20:08:43.815699Z"
    },
    "papermill": {
     "duration": 3.195348,
     "end_time": "2024-10-06T20:08:43.819346",
     "exception": false,
     "start_time": "2024-10-06T20:08:40.623998",
     "status": "completed"
    },
    "tags": []
   },
   "outputs": [
    {
     "name": "stdout",
     "output_type": "stream",
     "text": [
      "Test Accuracy: 0.9750\n",
      "Validation Accuracy: 1.0000\n"
     ]
    }
   ],
   "source": [
    "from sklearn.model_selection import GridSearchCV\n",
    "from sklearn.tree import DecisionTreeClassifier\n",
    "from sklearn.metrics import accuracy_score\n",
    "\n",
    "# Assuming x_train, x_test, y_train, y_test, x_val, y_val are already defined\n",
    "\n",
    "# Define the parameter grid\n",
    "param_grid = {\n",
    "    'criterion': ['gini', 'entropy'],\n",
    "    'max_depth': [None, 10, 20, 30, 40, 50],\n",
    "    'min_samples_split': [2, 5, 10],\n",
    "    'min_samples_leaf': [1, 2, 4]\n",
    "}\n",
    "\n",
    "# Initialize the Decision Tree classifier\n",
    "dt = DecisionTreeClassifier()\n",
    "\n",
    "# Initialize GridSearchCV\n",
    "grid_search = GridSearchCV(estimator=dt,\n",
    "                           param_grid=param_grid, \n",
    "                           cv=5, scoring='accuracy', n_jobs=-1)\n",
    "\n",
    "# Fit the model\n",
    "grid_search.fit(X_train, y_train)\n",
    "\n",
    "# Get the best model\n",
    "best_model = grid_search.best_estimator_\n",
    "\n",
    "# Test the best model\n",
    "y_pred_test = best_model.predict(X_test)\n",
    "test_accuracy = accuracy_score(y_test, y_pred_test)\n",
    "print(f\"Test Accuracy: {test_accuracy:.4f}\")\n",
    "\n",
    "# Evaluate on validation data\n",
    "y_pred_val = best_model.predict(X_val)\n",
    "val_accuracy = accuracy_score(y_val, y_pred_val)\n",
    "print(f\"Validation Accuracy: {val_accuracy:.4f}\")"
   ]
  },
  {
   "cell_type": "code",
   "execution_count": 7,
   "id": "fdd6074b",
   "metadata": {
    "execution": {
     "iopub.execute_input": "2024-10-06T20:08:43.830120Z",
     "iopub.status.busy": "2024-10-06T20:08:43.829715Z",
     "iopub.status.idle": "2024-10-06T20:08:43.844104Z",
     "shell.execute_reply": "2024-10-06T20:08:43.843180Z"
    },
    "papermill": {
     "duration": 0.022429,
     "end_time": "2024-10-06T20:08:43.846183",
     "exception": false,
     "start_time": "2024-10-06T20:08:43.823754",
     "status": "completed"
    },
    "tags": []
   },
   "outputs": [
    {
     "data": {
      "text/html": [
       "<div>\n",
       "<style scoped>\n",
       "    .dataframe tbody tr th:only-of-type {\n",
       "        vertical-align: middle;\n",
       "    }\n",
       "\n",
       "    .dataframe tbody tr th {\n",
       "        vertical-align: top;\n",
       "    }\n",
       "\n",
       "    .dataframe thead th {\n",
       "        text-align: right;\n",
       "    }\n",
       "</style>\n",
       "<table border=\"1\" class=\"dataframe\">\n",
       "  <thead>\n",
       "    <tr style=\"text-align: right;\">\n",
       "      <th></th>\n",
       "      <th>Age</th>\n",
       "      <th>Sex</th>\n",
       "      <th>BP</th>\n",
       "      <th>Cholesterol</th>\n",
       "      <th>Na_to_K</th>\n",
       "      <th>Drug</th>\n",
       "    </tr>\n",
       "  </thead>\n",
       "  <tbody>\n",
       "    <tr>\n",
       "      <th>0</th>\n",
       "      <td>23</td>\n",
       "      <td>0</td>\n",
       "      <td>0</td>\n",
       "      <td>0</td>\n",
       "      <td>25.355</td>\n",
       "      <td>0</td>\n",
       "    </tr>\n",
       "    <tr>\n",
       "      <th>1</th>\n",
       "      <td>47</td>\n",
       "      <td>1</td>\n",
       "      <td>1</td>\n",
       "      <td>0</td>\n",
       "      <td>13.093</td>\n",
       "      <td>3</td>\n",
       "    </tr>\n",
       "    <tr>\n",
       "      <th>2</th>\n",
       "      <td>47</td>\n",
       "      <td>1</td>\n",
       "      <td>1</td>\n",
       "      <td>0</td>\n",
       "      <td>10.114</td>\n",
       "      <td>3</td>\n",
       "    </tr>\n",
       "    <tr>\n",
       "      <th>3</th>\n",
       "      <td>28</td>\n",
       "      <td>0</td>\n",
       "      <td>2</td>\n",
       "      <td>0</td>\n",
       "      <td>7.798</td>\n",
       "      <td>4</td>\n",
       "    </tr>\n",
       "    <tr>\n",
       "      <th>4</th>\n",
       "      <td>61</td>\n",
       "      <td>0</td>\n",
       "      <td>1</td>\n",
       "      <td>0</td>\n",
       "      <td>18.043</td>\n",
       "      <td>0</td>\n",
       "    </tr>\n",
       "    <tr>\n",
       "      <th>...</th>\n",
       "      <td>...</td>\n",
       "      <td>...</td>\n",
       "      <td>...</td>\n",
       "      <td>...</td>\n",
       "      <td>...</td>\n",
       "      <td>...</td>\n",
       "    </tr>\n",
       "    <tr>\n",
       "      <th>195</th>\n",
       "      <td>56</td>\n",
       "      <td>0</td>\n",
       "      <td>1</td>\n",
       "      <td>0</td>\n",
       "      <td>11.567</td>\n",
       "      <td>3</td>\n",
       "    </tr>\n",
       "    <tr>\n",
       "      <th>196</th>\n",
       "      <td>16</td>\n",
       "      <td>1</td>\n",
       "      <td>1</td>\n",
       "      <td>0</td>\n",
       "      <td>12.006</td>\n",
       "      <td>3</td>\n",
       "    </tr>\n",
       "    <tr>\n",
       "      <th>197</th>\n",
       "      <td>52</td>\n",
       "      <td>1</td>\n",
       "      <td>2</td>\n",
       "      <td>0</td>\n",
       "      <td>9.894</td>\n",
       "      <td>4</td>\n",
       "    </tr>\n",
       "    <tr>\n",
       "      <th>198</th>\n",
       "      <td>23</td>\n",
       "      <td>1</td>\n",
       "      <td>2</td>\n",
       "      <td>1</td>\n",
       "      <td>14.020</td>\n",
       "      <td>4</td>\n",
       "    </tr>\n",
       "    <tr>\n",
       "      <th>199</th>\n",
       "      <td>40</td>\n",
       "      <td>0</td>\n",
       "      <td>1</td>\n",
       "      <td>1</td>\n",
       "      <td>11.349</td>\n",
       "      <td>4</td>\n",
       "    </tr>\n",
       "  </tbody>\n",
       "</table>\n",
       "<p>200 rows × 6 columns</p>\n",
       "</div>"
      ],
      "text/plain": [
       "     Age  Sex  BP  Cholesterol  Na_to_K  Drug\n",
       "0     23    0   0            0   25.355     0\n",
       "1     47    1   1            0   13.093     3\n",
       "2     47    1   1            0   10.114     3\n",
       "3     28    0   2            0    7.798     4\n",
       "4     61    0   1            0   18.043     0\n",
       "..   ...  ...  ..          ...      ...   ...\n",
       "195   56    0   1            0   11.567     3\n",
       "196   16    1   1            0   12.006     3\n",
       "197   52    1   2            0    9.894     4\n",
       "198   23    1   2            1   14.020     4\n",
       "199   40    0   1            1   11.349     4\n",
       "\n",
       "[200 rows x 6 columns]"
      ]
     },
     "execution_count": 7,
     "metadata": {},
     "output_type": "execute_result"
    }
   ],
   "source": [
    "df"
   ]
  },
  {
   "cell_type": "code",
   "execution_count": 8,
   "id": "7729d420",
   "metadata": {
    "execution": {
     "iopub.execute_input": "2024-10-06T20:08:43.856323Z",
     "iopub.status.busy": "2024-10-06T20:08:43.855950Z",
     "iopub.status.idle": "2024-10-06T20:08:44.068420Z",
     "shell.execute_reply": "2024-10-06T20:08:44.067403Z"
    },
    "papermill": {
     "duration": 0.220118,
     "end_time": "2024-10-06T20:08:44.070751",
     "exception": false,
     "start_time": "2024-10-06T20:08:43.850633",
     "status": "completed"
    },
    "tags": []
   },
   "outputs": [
    {
     "data": {
      "text/plain": [
       "Drug\n",
       "0    91\n",
       "3    91\n",
       "4    91\n",
       "1    91\n",
       "2    91\n",
       "Name: count, dtype: int64"
      ]
     },
     "execution_count": 8,
     "metadata": {},
     "output_type": "execute_result"
    }
   ],
   "source": [
    "import pandas as pd\n",
    "from imblearn.over_sampling import SMOTE\n",
    "\n",
    "# Assuming df is your DataFrame and 'target' is the column you want to balance\n",
    "X = df.drop('Drug', axis=1)\n",
    "y = df['Drug']\n",
    "\n",
    "# Apply SMOTE\n",
    "smote = SMOTE(random_state=42)\n",
    "X_resampled, y_resampled = smote.fit_resample(X, y)\n",
    "\n",
    "# Create a new DataFrame with the resampled data\n",
    "df_resampled = pd.concat([pd.DataFrame(X_resampled, columns=X.columns), pd.DataFrame(y_resampled, columns=['Drug'])], axis=1)\n",
    "\n",
    "df_resampled['Drug'].value_counts()"
   ]
  },
  {
   "cell_type": "code",
   "execution_count": 9,
   "id": "4abc8120",
   "metadata": {
    "execution": {
     "iopub.execute_input": "2024-10-06T20:08:44.081597Z",
     "iopub.status.busy": "2024-10-06T20:08:44.081082Z",
     "iopub.status.idle": "2024-10-06T20:08:44.094939Z",
     "shell.execute_reply": "2024-10-06T20:08:44.093732Z"
    },
    "papermill": {
     "duration": 0.021665,
     "end_time": "2024-10-06T20:08:44.097005",
     "exception": false,
     "start_time": "2024-10-06T20:08:44.075340",
     "status": "completed"
    },
    "tags": []
   },
   "outputs": [
    {
     "name": "stdout",
     "output_type": "stream",
     "text": [
      "Training set: (273, 5), (273,)\n",
      "Testing set: (91, 5), (91,)\n",
      "Validation set: (91, 5), (91,)\n"
     ]
    }
   ],
   "source": [
    "from sklearn.model_selection import train_test_split\n",
    "\n",
    "# Features and target\n",
    "X = df_resampled.drop('Drug', axis=1)\n",
    "y = df_resampled['Drug']\n",
    "\n",
    "# Split into train and temp (test + validation)\n",
    "X_train, X_temp, y_train, y_temp = train_test_split(X, y, test_size=0.4, stratify=y, random_state=42)\n",
    "\n",
    "# Split temp into test and validation\n",
    "X_test, X_val, y_test, y_val = train_test_split(X_temp, y_temp, test_size=0.5, stratify=y_temp, random_state=42)\n",
    "\n",
    "# Display the shapes of the resulting DataFrames\n",
    "print(f\"Training set: {X_train.shape}, {y_train.shape}\")\n",
    "print(f\"Testing set: {X_test.shape}, {y_test.shape}\")\n",
    "print(f\"Validation set: {X_val.shape}, {y_val.shape}\")"
   ]
  },
  {
   "cell_type": "code",
   "execution_count": 10,
   "id": "dcdb1e59",
   "metadata": {
    "execution": {
     "iopub.execute_input": "2024-10-06T20:08:44.108749Z",
     "iopub.status.busy": "2024-10-06T20:08:44.108009Z",
     "iopub.status.idle": "2024-10-06T20:08:45.112059Z",
     "shell.execute_reply": "2024-10-06T20:08:45.110960Z"
    },
    "papermill": {
     "duration": 1.013152,
     "end_time": "2024-10-06T20:08:45.114685",
     "exception": false,
     "start_time": "2024-10-06T20:08:44.101533",
     "status": "completed"
    },
    "tags": []
   },
   "outputs": [
    {
     "name": "stdout",
     "output_type": "stream",
     "text": [
      "Test Accuracy: 0.9890\n",
      "Validation Accuracy: 0.9890\n"
     ]
    }
   ],
   "source": [
    "from sklearn.model_selection import GridSearchCV\n",
    "from sklearn.tree import DecisionTreeClassifier\n",
    "from sklearn.metrics import accuracy_score\n",
    "\n",
    "# Assuming x_train, x_test, y_train, y_test, x_val, y_val are already defined\n",
    "\n",
    "# Define the parameter grid\n",
    "param_grid = {\n",
    "    'criterion': ['gini', 'entropy'],\n",
    "    'max_depth': [None, 10, 20, 30, 40, 50],\n",
    "    'min_samples_split': [2, 5, 10],\n",
    "    'min_samples_leaf': [1, 2, 4]\n",
    "}\n",
    "\n",
    "# Initialize the Decision Tree classifier\n",
    "dt = DecisionTreeClassifier()\n",
    "\n",
    "# Initialize GridSearchCV\n",
    "grid_search = GridSearchCV(estimator=dt,\n",
    "                           param_grid=param_grid, \n",
    "                           cv=5, scoring='accuracy', n_jobs=-1)\n",
    "\n",
    "# Fit the model\n",
    "grid_search.fit(X_train, y_train)\n",
    "\n",
    "# Get the best model\n",
    "best_model = grid_search.best_estimator_\n",
    "\n",
    "# Test the best model\n",
    "y_pred_test = best_model.predict(X_test)\n",
    "test_accuracy = accuracy_score(y_test, y_pred_test)\n",
    "print(f\"Test Accuracy: {test_accuracy:.4f}\")\n",
    "\n",
    "# Evaluate on validation data\n",
    "y_pred_val = best_model.predict(X_val)\n",
    "val_accuracy = accuracy_score(y_val, y_pred_val)\n",
    "print(f\"Validation Accuracy: {val_accuracy:.4f}\")"
   ]
  },
  {
   "cell_type": "code",
   "execution_count": null,
   "id": "781487a4",
   "metadata": {
    "papermill": {
     "duration": 0.004493,
     "end_time": "2024-10-06T20:08:45.124130",
     "exception": false,
     "start_time": "2024-10-06T20:08:45.119637",
     "status": "completed"
    },
    "tags": []
   },
   "outputs": [],
   "source": []
  }
 ],
 "metadata": {
  "kaggle": {
   "accelerator": "none",
   "dataSources": [
    {
     "datasetId": 830916,
     "sourceId": 1419436,
     "sourceType": "datasetVersion"
    }
   ],
   "dockerImageVersionId": 30786,
   "isGpuEnabled": false,
   "isInternetEnabled": true,
   "language": "python",
   "sourceType": "notebook"
  },
  "kernelspec": {
   "display_name": "Python 3",
   "language": "python",
   "name": "python3"
  },
  "language_info": {
   "codemirror_mode": {
    "name": "ipython",
    "version": 3
   },
   "file_extension": ".py",
   "mimetype": "text/x-python",
   "name": "python",
   "nbconvert_exporter": "python",
   "pygments_lexer": "ipython3",
   "version": "3.10.14"
  },
  "papermill": {
   "default_parameters": {},
   "duration": 11.829953,
   "end_time": "2024-10-06T20:08:47.748620",
   "environment_variables": {},
   "exception": null,
   "input_path": "__notebook__.ipynb",
   "output_path": "__notebook__.ipynb",
   "parameters": {},
   "start_time": "2024-10-06T20:08:35.918667",
   "version": "2.6.0"
  }
 },
 "nbformat": 4,
 "nbformat_minor": 5
}
