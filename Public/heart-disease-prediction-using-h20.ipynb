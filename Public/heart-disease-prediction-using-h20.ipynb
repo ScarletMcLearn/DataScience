{
 "cells": [
  {
   "cell_type": "markdown",
   "metadata": {
    "_uuid": "113d2d176140238d031f7553b1777ad58de1f235"
   },
   "source": [
    " # H20\n",
    "This is an introductory notebook for people wanting to get started with H2O (the open source machine learning package by H2O.ai)\n",
    "H2O is the world’s number one machine learning platform. \n",
    "\n",
    "It is an open-source software, and the H2O-3 GitHub repository is available for anyone to start hacking. This hands-on guide aims to explain the basic principles behind H2O and get you as a data scientist started as quickly as possible in the most simple way. The rest is just machine learning.\n",
    "\n",
    "After reading this guide, you’ll be able to:\n",
    "\n",
    "- Understand which basic problems H2O solves and why,\n",
    "- play with H2O — explore data and create and tune models,\n",
    "- see beyond the horizon. Understand where H2O can take you."
   ]
  },
  {
   "cell_type": "code",
   "execution_count": 1,
   "metadata": {
    "_cell_guid": "b1076dfc-b9ad-4769-8c92-a6c4dae69d19",
    "_uuid": "8f2839f25d086af736a60e9eeb907d3b93b6e0e5"
   },
   "outputs": [
    {
     "name": "stdout",
     "output_type": "stream",
     "text": [
      "['heart.csv']\n"
     ]
    }
   ],
   "source": [
    "import h2o\n",
    "import time\n",
    "import seaborn\n",
    "import itertools\n",
    "import numpy as np\n",
    "import pandas as pd\n",
    "import seaborn as sns\n",
    "import matplotlib.pyplot as plt\n",
    "from h2o.estimators.glm import H2OGeneralizedLinearEstimator\n",
    "from h2o.estimators.gbm import H2OGradientBoostingEstimator\n",
    "from h2o.estimators.random_forest import H2ORandomForestEstimator\n",
    "\n",
    "%matplotlib inline\n",
    "import os\n",
    "print(os.listdir(\"../input\"))\n",
    "\n",
    "# Any results you write to the current directory are saved as output."
   ]
  },
  {
   "cell_type": "markdown",
   "metadata": {
    "_cell_guid": "79c7e3d0-c299-4dcb-8224-4455121ee9b0",
    "_uuid": "d629ff2d2480ee46fbb7e2d37f6b5fab8052498a",
    "collapsed": true,
    "jupyter": {
     "outputs_hidden": true
    }
   },
   "source": [
    "Once the module in imported, the first step is to initialize the h2o module.\n",
    "\n",
    "The h2o.init() command is pretty smart and does a lot of things. First, an attempt is made to search for an existing H2O instance being started already, before starting a new one. When none is found automatically or specified manually with argument available, a new instance of H2O is started.\n",
    "\n",
    "During startup, H2O is going to print some useful information. Version of the Python it is running on, H2O’s version, how to connect to H2O’s Flow interface or where error logs reside, just to name a few."
   ]
  },
  {
   "cell_type": "code",
   "execution_count": 2,
   "metadata": {
    "_uuid": "2996c55b37a4148dfe3c5270bf2c28b549e0bf75"
   },
   "outputs": [
    {
     "name": "stdout",
     "output_type": "stream",
     "text": [
      "Checking whether there is an H2O instance running at http://localhost:54321..... not found.\n",
      "Attempting to start a local H2O server...\n",
      "  Java Version: openjdk version \"1.8.0_181\"; OpenJDK Runtime Environment (build 1.8.0_181-8u181-b13-2~deb9u1-b13); OpenJDK 64-Bit Server VM (build 25.181-b13, mixed mode)\n",
      "  Starting server from /opt/conda/lib/python3.6/site-packages/h2o/backend/bin/h2o.jar\n",
      "  Ice root: /tmp/tmpjzcq7vsd\n",
      "  JVM stdout: /tmp/tmpjzcq7vsd/h2o_unknownUser_started_from_python.out\n",
      "  JVM stderr: /tmp/tmpjzcq7vsd/h2o_unknownUser_started_from_python.err\n",
      "  Server is running at http://127.0.0.1:54321\n",
      "Connecting to H2O server at http://127.0.0.1:54321... successful.\n",
      "Warning: Your H2O cluster version is too old (5 years and 9 months)! Please download and install the latest version from http://h2o.ai/download/\n"
     ]
    },
    {
     "data": {
      "text/html": [
       "<div style=\"overflow:auto\"><table style=\"width:50%\"><tr><td>H2O cluster uptime:</td>\n",
       "<td>02 secs</td></tr>\n",
       "<tr><td>H2O cluster timezone:</td>\n",
       "<td>Etc/UTC</td></tr>\n",
       "<tr><td>H2O data parsing timezone:</td>\n",
       "<td>UTC</td></tr>\n",
       "<tr><td>H2O cluster version:</td>\n",
       "<td>3.22.1.4</td></tr>\n",
       "<tr><td>H2O cluster version age:</td>\n",
       "<td>5 years and 9 months !!!</td></tr>\n",
       "<tr><td>H2O cluster name:</td>\n",
       "<td>H2O_from_python_unknownUser_qlv4m5</td></tr>\n",
       "<tr><td>H2O cluster total nodes:</td>\n",
       "<td>1</td></tr>\n",
       "<tr><td>H2O cluster free memory:</td>\n",
       "<td>6.969 Gb</td></tr>\n",
       "<tr><td>H2O cluster total cores:</td>\n",
       "<td>4</td></tr>\n",
       "<tr><td>H2O cluster allowed cores:</td>\n",
       "<td>4</td></tr>\n",
       "<tr><td>H2O cluster status:</td>\n",
       "<td>accepting new members, healthy</td></tr>\n",
       "<tr><td>H2O connection url:</td>\n",
       "<td>http://127.0.0.1:54321</td></tr>\n",
       "<tr><td>H2O connection proxy:</td>\n",
       "<td>None</td></tr>\n",
       "<tr><td>H2O internal security:</td>\n",
       "<td>False</td></tr>\n",
       "<tr><td>H2O API Extensions:</td>\n",
       "<td>Amazon S3, XGBoost, Algos, AutoML, Core V3, Core V4</td></tr>\n",
       "<tr><td>Python version:</td>\n",
       "<td>3.6.6 final</td></tr></table></div>"
      ],
      "text/plain": [
       "--------------------------  ---------------------------------------------------\n",
       "H2O cluster uptime:         02 secs\n",
       "H2O cluster timezone:       Etc/UTC\n",
       "H2O data parsing timezone:  UTC\n",
       "H2O cluster version:        3.22.1.4\n",
       "H2O cluster version age:    5 years and 9 months !!!\n",
       "H2O cluster name:           H2O_from_python_unknownUser_qlv4m5\n",
       "H2O cluster total nodes:    1\n",
       "H2O cluster free memory:    6.969 Gb\n",
       "H2O cluster total cores:    4\n",
       "H2O cluster allowed cores:  4\n",
       "H2O cluster status:         accepting new members, healthy\n",
       "H2O connection url:         http://127.0.0.1:54321\n",
       "H2O connection proxy:\n",
       "H2O internal security:      False\n",
       "H2O API Extensions:         Amazon S3, XGBoost, Algos, AutoML, Core V3, Core V4\n",
       "Python version:             3.6.6 final\n",
       "--------------------------  ---------------------------------------------------"
      ]
     },
     "metadata": {},
     "output_type": "display_data"
    }
   ],
   "source": [
    "h2o.init()"
   ]
  },
  {
   "cell_type": "markdown",
   "metadata": {
    "_uuid": "15933e5e195a1148037a9ff06e0e98e5a879f097"
   },
   "source": [
    "Now that the initialization is done, let us first import the dataset. The command is very similar to pandas.read_csv and the data is stored in memory as H2OFrame\n",
    "\n",
    "H2O supports various file formats and data sources."
   ]
  },
  {
   "cell_type": "code",
   "execution_count": 3,
   "metadata": {
    "_uuid": "dde986e7324624f9c660083b510c09917dad8d64"
   },
   "outputs": [
    {
     "name": "stdout",
     "output_type": "stream",
     "text": [
      "Parse progress: |█████████████████████████████████████████████████████████| 100%\n"
     ]
    }
   ],
   "source": [
    "heart_df = h2o.import_file(\"../input/heart.csv\", destination_frame=\"heart_df\")"
   ]
  },
  {
   "cell_type": "markdown",
   "metadata": {
    "_uuid": "dc510236ce65af6ee8cc3c9a47cbf578cb160a94"
   },
   "source": [
    "# Data Exploration\n",
    "Now, lets look out the dataset with h20 dataframe"
   ]
  },
  {
   "cell_type": "code",
   "execution_count": 4,
   "metadata": {
    "_uuid": "fb9b1e89bcffb51eab0e3ba0727cf1ca08fdaf3c"
   },
   "outputs": [
    {
     "data": {
      "text/html": [
       "<table>\n",
       "<thead>\n",
       "<tr><th style=\"text-align: right;\">  ﻿age</th><th style=\"text-align: right;\">  sex</th><th style=\"text-align: right;\">  cp</th><th style=\"text-align: right;\">  trestbps</th><th style=\"text-align: right;\">  chol</th><th style=\"text-align: right;\">  fbs</th><th style=\"text-align: right;\">  restecg</th><th style=\"text-align: right;\">  thalach</th><th style=\"text-align: right;\">  exang</th><th style=\"text-align: right;\">  oldpeak</th><th style=\"text-align: right;\">  slope</th><th style=\"text-align: right;\">  ca</th><th style=\"text-align: right;\">  thal</th><th style=\"text-align: right;\">  target</th></tr>\n",
       "</thead>\n",
       "<tbody>\n",
       "<tr><td style=\"text-align: right;\">    63</td><td style=\"text-align: right;\">    1</td><td style=\"text-align: right;\">   3</td><td style=\"text-align: right;\">       145</td><td style=\"text-align: right;\">   233</td><td style=\"text-align: right;\">    1</td><td style=\"text-align: right;\">        0</td><td style=\"text-align: right;\">      150</td><td style=\"text-align: right;\">      0</td><td style=\"text-align: right;\">      2.3</td><td style=\"text-align: right;\">      0</td><td style=\"text-align: right;\">   0</td><td style=\"text-align: right;\">     1</td><td style=\"text-align: right;\">       1</td></tr>\n",
       "<tr><td style=\"text-align: right;\">    37</td><td style=\"text-align: right;\">    1</td><td style=\"text-align: right;\">   2</td><td style=\"text-align: right;\">       130</td><td style=\"text-align: right;\">   250</td><td style=\"text-align: right;\">    0</td><td style=\"text-align: right;\">        1</td><td style=\"text-align: right;\">      187</td><td style=\"text-align: right;\">      0</td><td style=\"text-align: right;\">      3.5</td><td style=\"text-align: right;\">      0</td><td style=\"text-align: right;\">   0</td><td style=\"text-align: right;\">     2</td><td style=\"text-align: right;\">       1</td></tr>\n",
       "<tr><td style=\"text-align: right;\">    41</td><td style=\"text-align: right;\">    0</td><td style=\"text-align: right;\">   1</td><td style=\"text-align: right;\">       130</td><td style=\"text-align: right;\">   204</td><td style=\"text-align: right;\">    0</td><td style=\"text-align: right;\">        0</td><td style=\"text-align: right;\">      172</td><td style=\"text-align: right;\">      0</td><td style=\"text-align: right;\">      1.4</td><td style=\"text-align: right;\">      2</td><td style=\"text-align: right;\">   0</td><td style=\"text-align: right;\">     2</td><td style=\"text-align: right;\">       1</td></tr>\n",
       "<tr><td style=\"text-align: right;\">    56</td><td style=\"text-align: right;\">    1</td><td style=\"text-align: right;\">   1</td><td style=\"text-align: right;\">       120</td><td style=\"text-align: right;\">   236</td><td style=\"text-align: right;\">    0</td><td style=\"text-align: right;\">        1</td><td style=\"text-align: right;\">      178</td><td style=\"text-align: right;\">      0</td><td style=\"text-align: right;\">      0.8</td><td style=\"text-align: right;\">      2</td><td style=\"text-align: right;\">   0</td><td style=\"text-align: right;\">     2</td><td style=\"text-align: right;\">       1</td></tr>\n",
       "<tr><td style=\"text-align: right;\">    57</td><td style=\"text-align: right;\">    0</td><td style=\"text-align: right;\">   0</td><td style=\"text-align: right;\">       120</td><td style=\"text-align: right;\">   354</td><td style=\"text-align: right;\">    0</td><td style=\"text-align: right;\">        1</td><td style=\"text-align: right;\">      163</td><td style=\"text-align: right;\">      1</td><td style=\"text-align: right;\">      0.6</td><td style=\"text-align: right;\">      2</td><td style=\"text-align: right;\">   0</td><td style=\"text-align: right;\">     2</td><td style=\"text-align: right;\">       1</td></tr>\n",
       "<tr><td style=\"text-align: right;\">    57</td><td style=\"text-align: right;\">    1</td><td style=\"text-align: right;\">   0</td><td style=\"text-align: right;\">       140</td><td style=\"text-align: right;\">   192</td><td style=\"text-align: right;\">    0</td><td style=\"text-align: right;\">        1</td><td style=\"text-align: right;\">      148</td><td style=\"text-align: right;\">      0</td><td style=\"text-align: right;\">      0.4</td><td style=\"text-align: right;\">      1</td><td style=\"text-align: right;\">   0</td><td style=\"text-align: right;\">     1</td><td style=\"text-align: right;\">       1</td></tr>\n",
       "<tr><td style=\"text-align: right;\">    56</td><td style=\"text-align: right;\">    0</td><td style=\"text-align: right;\">   1</td><td style=\"text-align: right;\">       140</td><td style=\"text-align: right;\">   294</td><td style=\"text-align: right;\">    0</td><td style=\"text-align: right;\">        0</td><td style=\"text-align: right;\">      153</td><td style=\"text-align: right;\">      0</td><td style=\"text-align: right;\">      1.3</td><td style=\"text-align: right;\">      1</td><td style=\"text-align: right;\">   0</td><td style=\"text-align: right;\">     2</td><td style=\"text-align: right;\">       1</td></tr>\n",
       "<tr><td style=\"text-align: right;\">    44</td><td style=\"text-align: right;\">    1</td><td style=\"text-align: right;\">   1</td><td style=\"text-align: right;\">       120</td><td style=\"text-align: right;\">   263</td><td style=\"text-align: right;\">    0</td><td style=\"text-align: right;\">        1</td><td style=\"text-align: right;\">      173</td><td style=\"text-align: right;\">      0</td><td style=\"text-align: right;\">      0  </td><td style=\"text-align: right;\">      2</td><td style=\"text-align: right;\">   0</td><td style=\"text-align: right;\">     3</td><td style=\"text-align: right;\">       1</td></tr>\n",
       "<tr><td style=\"text-align: right;\">    52</td><td style=\"text-align: right;\">    1</td><td style=\"text-align: right;\">   2</td><td style=\"text-align: right;\">       172</td><td style=\"text-align: right;\">   199</td><td style=\"text-align: right;\">    1</td><td style=\"text-align: right;\">        1</td><td style=\"text-align: right;\">      162</td><td style=\"text-align: right;\">      0</td><td style=\"text-align: right;\">      0.5</td><td style=\"text-align: right;\">      2</td><td style=\"text-align: right;\">   0</td><td style=\"text-align: right;\">     3</td><td style=\"text-align: right;\">       1</td></tr>\n",
       "<tr><td style=\"text-align: right;\">    57</td><td style=\"text-align: right;\">    1</td><td style=\"text-align: right;\">   2</td><td style=\"text-align: right;\">       150</td><td style=\"text-align: right;\">   168</td><td style=\"text-align: right;\">    0</td><td style=\"text-align: right;\">        1</td><td style=\"text-align: right;\">      174</td><td style=\"text-align: right;\">      0</td><td style=\"text-align: right;\">      1.6</td><td style=\"text-align: right;\">      2</td><td style=\"text-align: right;\">   0</td><td style=\"text-align: right;\">     2</td><td style=\"text-align: right;\">       1</td></tr>\n",
       "</tbody>\n",
       "</table>"
      ]
     },
     "metadata": {},
     "output_type": "display_data"
    },
    {
     "data": {
      "text/plain": []
     },
     "execution_count": 4,
     "metadata": {},
     "output_type": "execute_result"
    }
   ],
   "source": [
    "heart_df.head()"
   ]
  },
  {
   "cell_type": "code",
   "execution_count": 5,
   "metadata": {
    "_uuid": "fb19a125d5837ff92088c6f90f5ce8d720a07a0c"
   },
   "outputs": [
    {
     "name": "stdout",
     "output_type": "stream",
     "text": [
      "Rows:303\n",
      "Cols:14\n",
      "\n",
      "\n"
     ]
    },
    {
     "data": {
      "text/html": [
       "<table>\n",
       "<thead>\n",
       "<tr><th>       </th><th>﻿age             </th><th>sex                </th><th>cp                </th><th>trestbps          </th><th>chol              </th><th>fbs                </th><th>restecg           </th><th>thalach           </th><th>exang              </th><th>oldpeak           </th><th>slope             </th><th>ca                </th><th>thal              </th><th>target             </th></tr>\n",
       "</thead>\n",
       "<tbody>\n",
       "<tr><td>type   </td><td>int              </td><td>int                </td><td>int               </td><td>int               </td><td>int               </td><td>int                </td><td>int               </td><td>int               </td><td>int                </td><td>real              </td><td>int               </td><td>int               </td><td>int               </td><td>int                </td></tr>\n",
       "<tr><td>mins   </td><td>29.0             </td><td>0.0                </td><td>0.0               </td><td>94.0              </td><td>126.0             </td><td>0.0                </td><td>0.0               </td><td>71.0              </td><td>0.0                </td><td>0.0               </td><td>0.0               </td><td>0.0               </td><td>0.0               </td><td>0.0                </td></tr>\n",
       "<tr><td>mean   </td><td>54.36633663366333</td><td>0.6831683168316832 </td><td>0.9669966996699675</td><td>131.62376237623772</td><td>246.26402640264035</td><td>0.1485148514851485 </td><td>0.5280528052805283</td><td>149.6468646864687 </td><td>0.32673267326732675</td><td>1.0396039603960392</td><td>1.3993399339933994</td><td>0.7293729372937293</td><td>2.313531353135314 </td><td>0.5445544554455446 </td></tr>\n",
       "<tr><td>maxs   </td><td>77.0             </td><td>1.0                </td><td>3.0               </td><td>200.0             </td><td>564.0             </td><td>1.0                </td><td>2.0               </td><td>202.0             </td><td>1.0                </td><td>6.2               </td><td>2.0               </td><td>4.0               </td><td>3.0               </td><td>1.0                </td></tr>\n",
       "<tr><td>sigma  </td><td>9.08210098983786 </td><td>0.46601082333962385</td><td>1.0320524894832983</td><td>17.538142813517098</td><td>51.83075098793005 </td><td>0.35619787492797644</td><td>0.525859596359298 </td><td>22.905161114914087</td><td>0.4697944645223165 </td><td>1.1610750220686346</td><td>0.6162261453459621</td><td>1.0226063649693276</td><td>0.6122765072781408</td><td>0.49883478416439136</td></tr>\n",
       "<tr><td>zeros  </td><td>0                </td><td>96                 </td><td>143               </td><td>0                 </td><td>0                 </td><td>258                </td><td>147               </td><td>0                 </td><td>204                </td><td>99                </td><td>21                </td><td>175               </td><td>2                 </td><td>138                </td></tr>\n",
       "<tr><td>missing</td><td>0                </td><td>0                  </td><td>0                 </td><td>0                 </td><td>0                 </td><td>0                  </td><td>0                 </td><td>0                 </td><td>0                  </td><td>0                 </td><td>0                 </td><td>0                 </td><td>0                 </td><td>0                  </td></tr>\n",
       "<tr><td>0      </td><td>63.0             </td><td>1.0                </td><td>3.0               </td><td>145.0             </td><td>233.0             </td><td>1.0                </td><td>0.0               </td><td>150.0             </td><td>0.0                </td><td>2.3               </td><td>0.0               </td><td>0.0               </td><td>1.0               </td><td>1.0                </td></tr>\n",
       "<tr><td>1      </td><td>37.0             </td><td>1.0                </td><td>2.0               </td><td>130.0             </td><td>250.0             </td><td>0.0                </td><td>1.0               </td><td>187.0             </td><td>0.0                </td><td>3.5               </td><td>0.0               </td><td>0.0               </td><td>2.0               </td><td>1.0                </td></tr>\n",
       "<tr><td>2      </td><td>41.0             </td><td>0.0                </td><td>1.0               </td><td>130.0             </td><td>204.0             </td><td>0.0                </td><td>0.0               </td><td>172.0             </td><td>0.0                </td><td>1.4               </td><td>2.0               </td><td>0.0               </td><td>2.0               </td><td>1.0                </td></tr>\n",
       "<tr><td>3      </td><td>56.0             </td><td>1.0                </td><td>1.0               </td><td>120.0             </td><td>236.0             </td><td>0.0                </td><td>1.0               </td><td>178.0             </td><td>0.0                </td><td>0.8               </td><td>2.0               </td><td>0.0               </td><td>2.0               </td><td>1.0                </td></tr>\n",
       "<tr><td>4      </td><td>57.0             </td><td>0.0                </td><td>0.0               </td><td>120.0             </td><td>354.0             </td><td>0.0                </td><td>1.0               </td><td>163.0             </td><td>1.0                </td><td>0.6               </td><td>2.0               </td><td>0.0               </td><td>2.0               </td><td>1.0                </td></tr>\n",
       "<tr><td>5      </td><td>57.0             </td><td>1.0                </td><td>0.0               </td><td>140.0             </td><td>192.0             </td><td>0.0                </td><td>1.0               </td><td>148.0             </td><td>0.0                </td><td>0.4               </td><td>1.0               </td><td>0.0               </td><td>1.0               </td><td>1.0                </td></tr>\n",
       "<tr><td>6      </td><td>56.0             </td><td>0.0                </td><td>1.0               </td><td>140.0             </td><td>294.0             </td><td>0.0                </td><td>0.0               </td><td>153.0             </td><td>0.0                </td><td>1.3               </td><td>1.0               </td><td>0.0               </td><td>2.0               </td><td>1.0                </td></tr>\n",
       "<tr><td>7      </td><td>44.0             </td><td>1.0                </td><td>1.0               </td><td>120.0             </td><td>263.0             </td><td>0.0                </td><td>1.0               </td><td>173.0             </td><td>0.0                </td><td>0.0               </td><td>2.0               </td><td>0.0               </td><td>3.0               </td><td>1.0                </td></tr>\n",
       "<tr><td>8      </td><td>52.0             </td><td>1.0                </td><td>2.0               </td><td>172.0             </td><td>199.0             </td><td>1.0                </td><td>1.0               </td><td>162.0             </td><td>0.0                </td><td>0.5               </td><td>2.0               </td><td>0.0               </td><td>3.0               </td><td>1.0                </td></tr>\n",
       "<tr><td>9      </td><td>57.0             </td><td>1.0                </td><td>2.0               </td><td>150.0             </td><td>168.0             </td><td>0.0                </td><td>1.0               </td><td>174.0             </td><td>0.0                </td><td>1.6               </td><td>2.0               </td><td>0.0               </td><td>2.0               </td><td>1.0                </td></tr>\n",
       "</tbody>\n",
       "</table>"
      ]
     },
     "metadata": {},
     "output_type": "display_data"
    }
   ],
   "source": [
    "heart_df.describe()"
   ]
  },
  {
   "cell_type": "markdown",
   "metadata": {
    "_uuid": "7aebeb9412f6e105f464987ebacabf4b2b3554b7"
   },
   "source": [
    "# Histograms for all the features "
   ]
  },
  {
   "cell_type": "code",
   "execution_count": 6,
   "metadata": {
    "_uuid": "aae5e86b15f14ce479a08fbabb46660784557d0d"
   },
   "outputs": [
    {
     "name": "stderr",
     "output_type": "stream",
     "text": [
      "/opt/conda/lib/python3.6/site-packages/matplotlib/__init__.py:1867: MatplotlibDeprecationWarning: The *left* kwarg to `bar` is deprecated use *x* instead. Support for *left* will be removed in Matplotlib 3.0\n",
      "  return func(ax, *args, **kwargs)\n"
     ]
    },
    {
     "data": {
      "image/png": "[encoded data removed]",
      "text/plain": [
       "<Figure size 432x288 with 1 Axes>"
      ]
     },
     "metadata": {},
     "output_type": "display_data"
    },
    {
     "name": "stderr",
     "output_type": "stream",
     "text": [
      "/opt/conda/lib/python3.6/site-packages/matplotlib/__init__.py:1867: MatplotlibDeprecationWarning: The *left* kwarg to `bar` is deprecated use *x* instead. Support for *left* will be removed in Matplotlib 3.0\n",
      "  return func(ax, *args, **kwargs)\n"
     ]
    },
    {
     "data": {
      "image/png": "[encoded data removed]",
      "text/plain": [
       "<Figure size 432x288 with 1 Axes>"
      ]
     },
     "metadata": {},
     "output_type": "display_data"
    },
    {
     "name": "stderr",
     "output_type": "stream",
     "text": [
      "/opt/conda/lib/python3.6/site-packages/matplotlib/__init__.py:1867: MatplotlibDeprecationWarning: The *left* kwarg to `bar` is deprecated use *x* instead. Support for *left* will be removed in Matplotlib 3.0\n",
      "  return func(ax, *args, **kwargs)\n"
     ]
    },
    {
     "data": {
      "image/png": "[encoded data removed]",
      "text/plain": [
       "<Figure size 432x288 with 1 Axes>"
      ]
     },
     "metadata": {},
     "output_type": "display_data"
    },
    {
     "name": "stderr",
     "output_type": "stream",
     "text": [
      "/opt/conda/lib/python3.6/site-packages/matplotlib/__init__.py:1867: MatplotlibDeprecationWarning: The *left* kwarg to `bar` is deprecated use *x* instead. Support for *left* will be removed in Matplotlib 3.0\n",
      "  return func(ax, *args, **kwargs)\n"
     ]
    },
    {
     "data": {
      "image/png": "[encoded data removed]",
      "text/plain": [
       "<Figure size 432x288 with 1 Axes>"
      ]
     },
     "metadata": {},
     "output_type": "display_data"
    },
    {
     "name": "stderr",
     "output_type": "stream",
     "text": [
      "/opt/conda/lib/python3.6/site-packages/matplotlib/__init__.py:1867: MatplotlibDeprecationWarning: The *left* kwarg to `bar` is deprecated use *x* instead. Support for *left* will be removed in Matplotlib 3.0\n",
      "  return func(ax, *args, **kwargs)\n"
     ]
    },
    {
     "data": {
      "image/png": "[encoded data removed]",
      "text/plain": [
       "<Figure size 432x288 with 1 Axes>"
      ]
     },
     "metadata": {},
     "output_type": "display_data"
    },
    {
     "name": "stderr",
     "output_type": "stream",
     "text": [
      "/opt/conda/lib/python3.6/site-packages/matplotlib/__init__.py:1867: MatplotlibDeprecationWarning: The *left* kwarg to `bar` is deprecated use *x* instead. Support for *left* will be removed in Matplotlib 3.0\n",
      "  return func(ax, *args, **kwargs)\n"
     ]
    },
    {
     "data": {
      "image/png": "[encoded data removed]",
      "text/plain": [
       "<Figure size 432x288 with 1 Axes>"
      ]
     },
     "metadata": {},
     "output_type": "display_data"
    },
    {
     "name": "stderr",
     "output_type": "stream",
     "text": [
      "/opt/conda/lib/python3.6/site-packages/matplotlib/__init__.py:1867: MatplotlibDeprecationWarning: The *left* kwarg to `bar` is deprecated use *x* instead. Support for *left* will be removed in Matplotlib 3.0\n",
      "  return func(ax, *args, **kwargs)\n"
     ]
    },
    {
     "data": {
      "image/png": "[encoded data removed]",
      "text/plain": [
       "<Figure size 432x288 with 1 Axes>"
      ]
     },
     "metadata": {},
     "output_type": "display_data"
    },
    {
     "name": "stderr",
     "output_type": "stream",
     "text": [
      "/opt/conda/lib/python3.6/site-packages/matplotlib/__init__.py:1867: MatplotlibDeprecationWarning: The *left* kwarg to `bar` is deprecated use *x* instead. Support for *left* will be removed in Matplotlib 3.0\n",
      "  return func(ax, *args, **kwargs)\n"
     ]
    },
    {
     "data": {
      "image/png": "[encoded data removed]",
      "text/plain": [
       "<Figure size 432x288 with 1 Axes>"
      ]
     },
     "metadata": {},
     "output_type": "display_data"
    },
    {
     "name": "stderr",
     "output_type": "stream",
     "text": [
      "/opt/conda/lib/python3.6/site-packages/matplotlib/__init__.py:1867: MatplotlibDeprecationWarning: The *left* kwarg to `bar` is deprecated use *x* instead. Support for *left* will be removed in Matplotlib 3.0\n",
      "  return func(ax, *args, **kwargs)\n"
     ]
    },
    {
     "data": {
      "image/png": "[encoded data removed]",
      "text/plain": [
       "<Figure size 432x288 with 1 Axes>"
      ]
     },
     "metadata": {},
     "output_type": "display_data"
    },
    {
     "name": "stderr",
     "output_type": "stream",
     "text": [
      "/opt/conda/lib/python3.6/site-packages/matplotlib/__init__.py:1867: MatplotlibDeprecationWarning: The *left* kwarg to `bar` is deprecated use *x* instead. Support for *left* will be removed in Matplotlib 3.0\n",
      "  return func(ax, *args, **kwargs)\n"
     ]
    },
    {
     "data": {
      "image/png": "[encoded data removed]",
      "text/plain": [
       "<Figure size 432x288 with 1 Axes>"
      ]
     },
     "metadata": {},
     "output_type": "display_data"
    },
    {
     "name": "stderr",
     "output_type": "stream",
     "text": [
      "/opt/conda/lib/python3.6/site-packages/matplotlib/__init__.py:1867: MatplotlibDeprecationWarning: The *left* kwarg to `bar` is deprecated use *x* instead. Support for *left* will be removed in Matplotlib 3.0\n",
      "  return func(ax, *args, **kwargs)\n"
     ]
    },
    {
     "data": {
      "image/png": "[encoded data removed]",
      "text/plain": [
       "<Figure size 432x288 with 1 Axes>"
      ]
     },
     "metadata": {},
     "output_type": "display_data"
    },
    {
     "name": "stderr",
     "output_type": "stream",
     "text": [
      "/opt/conda/lib/python3.6/site-packages/matplotlib/__init__.py:1867: MatplotlibDeprecationWarning: The *left* kwarg to `bar` is deprecated use *x* instead. Support for *left* will be removed in Matplotlib 3.0\n",
      "  return func(ax, *args, **kwargs)\n"
     ]
    },
    {
     "data": {
      "image/png": "[encoded data removed]",
      "text/plain": [
       "<Figure size 432x288 with 1 Axes>"
      ]
     },
     "metadata": {},
     "output_type": "display_data"
    },
    {
     "name": "stderr",
     "output_type": "stream",
     "text": [
      "/opt/conda/lib/python3.6/site-packages/matplotlib/__init__.py:1867: MatplotlibDeprecationWarning: The *left* kwarg to `bar` is deprecated use *x* instead. Support for *left* will be removed in Matplotlib 3.0\n",
      "  return func(ax, *args, **kwargs)\n"
     ]
    },
    {
     "data": {
      "image/png": "[encoded data removed]",
      "text/plain": [
       "<Figure size 432x288 with 1 Axes>"
      ]
     },
     "metadata": {},
     "output_type": "display_data"
    },
    {
     "name": "stderr",
     "output_type": "stream",
     "text": [
      "/opt/conda/lib/python3.6/site-packages/matplotlib/__init__.py:1867: MatplotlibDeprecationWarning: The *left* kwarg to `bar` is deprecated use *x* instead. Support for *left* will be removed in Matplotlib 3.0\n",
      "  return func(ax, *args, **kwargs)\n"
     ]
    },
    {
     "data": {
      "image/png": "[encoded data removed]",
      "text/plain": [
       "<Figure size 432x288 with 1 Axes>"
      ]
     },
     "metadata": {},
     "output_type": "display_data"
    }
   ],
   "source": [
    "for col in heart_df.columns:\n",
    "    heart_df[col].hist()"
   ]
  },
  {
   "cell_type": "markdown",
   "metadata": {
    "_uuid": "9dde8db69273d4eadae567b0a7c15f735309a63a"
   },
   "source": [
    "# Correlation Heatmap"
   ]
  },
  {
   "cell_type": "code",
   "execution_count": 7,
   "metadata": {
    "_uuid": "d2d2fdf099de230a32985644b2ffa205a8f191be"
   },
   "outputs": [
    {
     "data": {
      "image/png": "[encoded data removed]",
      "text/plain": [
       "<Figure size 720x720 with 2 Axes>"
      ]
     },
     "metadata": {},
     "output_type": "display_data"
    }
   ],
   "source": [
    "plt.figure(figsize=(10,10))\n",
    "corr = heart_df.cor().as_data_frame()\n",
    "corr.index = heart_df.columns\n",
    "sns.heatmap(corr, annot = True, cmap='RdYlGn', vmin=-1, vmax=1)\n",
    "plt.title(\"Correlation Heatmap\", fontsize=16)\n",
    "plt.show()"
   ]
  },
  {
   "cell_type": "markdown",
   "metadata": {
    "_uuid": "16e3c614e701f7904a63ebe13e3eb3857822dc05"
   },
   "source": [
    "# Train Test validation split"
   ]
  },
  {
   "cell_type": "markdown",
   "metadata": {
    "_uuid": "74fdb439894922adfd59f0b8358a978d67261a58"
   },
   "source": [
    "Let us now split the data into three parts - train, valid and test datasets - at a ratio of 60%, 10% and 20% respectively. We could use split_frame() function for the same."
   ]
  },
  {
   "cell_type": "code",
   "execution_count": 8,
   "metadata": {
    "_uuid": "ccfea8d4fe74f471391081339139b9e2bf1c13dc"
   },
   "outputs": [
    {
     "name": "stdout",
     "output_type": "stream",
     "text": [
      "Number of rows in train, valid and test set :  185 32 86\n"
     ]
    }
   ],
   "source": [
    "train, valid, test = heart_df.split_frame(ratios=[0.6,0.1], seed=1234)\n",
    "response = \"target\"\n",
    "train[response] = train[response].asfactor()\n",
    "valid[response] = valid[response].asfactor()\n",
    "test[response] = test[response].asfactor()\n",
    "print(\"Number of rows in train, valid and test set : \", train.shape[0], valid.shape[0], test.shape[0])"
   ]
  },
  {
   "cell_type": "markdown",
   "metadata": {
    "_uuid": "66364c5d09db741eeee5dbd8f0c8cdff68af5ab7"
   },
   "source": [
    "# Modeling Building\n",
    "\n",
    "Now, let us build a baseline model using these splits. There are multiple algorithms available in the H2O module. \n",
    "First Starting with one of my favourite algo Gradient Boosting Machines"
   ]
  },
  {
   "cell_type": "code",
   "execution_count": 9,
   "metadata": {
    "_uuid": "69c4431a97a4b8a2ff0b00135764ebf75df6a0f3"
   },
   "outputs": [
    {
     "name": "stdout",
     "output_type": "stream",
     "text": [
      "gbm Model Build progress: |███████████████████████████████████████████████| 100%\n"
     ]
    }
   ],
   "source": [
    "predictors = heart_df.columns[:-1]\n",
    "gbm = H2OGradientBoostingEstimator()\n",
    "gbm.train(x=predictors, y=response, training_frame=train)"
   ]
  },
  {
   "cell_type": "code",
   "execution_count": 10,
   "metadata": {
    "_uuid": "c7f030d93d8c96e200135a1849a5d32c7b803a01"
   },
   "outputs": [
    {
     "name": "stdout",
     "output_type": "stream",
     "text": [
      "Model Details\n",
      "=============\n",
      "H2OGradientBoostingEstimator :  Gradient Boosting Machine\n",
      "Model Key:  GBM_model_python_1731786719723_1\n",
      "\n",
      "\n",
      "ModelMetricsBinomial: gbm\n",
      "** Reported on train data. **\n",
      "\n",
      "MSE: 0.015019592604081191\n",
      "RMSE: 0.12255444750836744\n",
      "LogLoss: 0.0939217678549615\n",
      "Mean Per-Class Error: 0.0\n",
      "AUC: 1.0\n",
      "pr_auc: 0.9904761904761905\n",
      "Gini: 1.0\n",
      "Confusion Matrix (Act/Pred) for max f1 @ threshold = 0.6206872083065069: \n"
     ]
    },
    {
     "data": {
      "text/html": [
       "<div style=\"overflow:auto\"><table style=\"width:50%\"><tr><td><b></b></td>\n",
       "<td><b>0</b></td>\n",
       "<td><b>1</b></td>\n",
       "<td><b>Error</b></td>\n",
       "<td><b>Rate</b></td></tr>\n",
       "<tr><td>0</td>\n",
       "<td>80.0</td>\n",
       "<td>0.0</td>\n",
       "<td>0.0</td>\n",
       "<td> (0.0/80.0)</td></tr>\n",
       "<tr><td>1</td>\n",
       "<td>0.0</td>\n",
       "<td>105.0</td>\n",
       "<td>0.0</td>\n",
       "<td> (0.0/105.0)</td></tr>\n",
       "<tr><td>Total</td>\n",
       "<td>80.0</td>\n",
       "<td>105.0</td>\n",
       "<td>0.0</td>\n",
       "<td> (0.0/185.0)</td></tr></table></div>"
      ],
      "text/plain": [
       "       0    1    Error    Rate\n",
       "-----  ---  ---  -------  -----------\n",
       "0      80   0    0        (0.0/80.0)\n",
       "1      0    105  0        (0.0/105.0)\n",
       "Total  80   105  0        (0.0/185.0)"
      ]
     },
     "metadata": {},
     "output_type": "display_data"
    },
    {
     "name": "stdout",
     "output_type": "stream",
     "text": [
      "Maximum Metrics: Maximum metrics at their respective thresholds\n",
      "\n"
     ]
    },
    {
     "data": {
      "text/html": [
       "<div style=\"overflow:auto\"><table style=\"width:50%\"><tr><td><b>metric</b></td>\n",
       "<td><b>threshold</b></td>\n",
       "<td><b>value</b></td>\n",
       "<td><b>idx</b></td></tr>\n",
       "<tr><td>max f1</td>\n",
       "<td>0.6206872</td>\n",
       "<td>1.0</td>\n",
       "<td>102.0</td></tr>\n",
       "<tr><td>max f2</td>\n",
       "<td>0.6206872</td>\n",
       "<td>1.0</td>\n",
       "<td>102.0</td></tr>\n",
       "<tr><td>max f0point5</td>\n",
       "<td>0.6206872</td>\n",
       "<td>1.0</td>\n",
       "<td>102.0</td></tr>\n",
       "<tr><td>max accuracy</td>\n",
       "<td>0.6206872</td>\n",
       "<td>1.0</td>\n",
       "<td>102.0</td></tr>\n",
       "<tr><td>max precision</td>\n",
       "<td>0.9943294</td>\n",
       "<td>1.0</td>\n",
       "<td>0.0</td></tr>\n",
       "<tr><td>max recall</td>\n",
       "<td>0.6206872</td>\n",
       "<td>1.0</td>\n",
       "<td>102.0</td></tr>\n",
       "<tr><td>max specificity</td>\n",
       "<td>0.9943294</td>\n",
       "<td>1.0</td>\n",
       "<td>0.0</td></tr>\n",
       "<tr><td>max absolute_mcc</td>\n",
       "<td>0.6206872</td>\n",
       "<td>1.0</td>\n",
       "<td>102.0</td></tr>\n",
       "<tr><td>max min_per_class_accuracy</td>\n",
       "<td>0.6206872</td>\n",
       "<td>1.0</td>\n",
       "<td>102.0</td></tr>\n",
       "<tr><td>max mean_per_class_accuracy</td>\n",
       "<td>0.6206872</td>\n",
       "<td>1.0</td>\n",
       "<td>102.0</td></tr></table></div>"
      ],
      "text/plain": [
       "metric                       threshold    value    idx\n",
       "---------------------------  -----------  -------  -----\n",
       "max f1                       0.620687     1        102\n",
       "max f2                       0.620687     1        102\n",
       "max f0point5                 0.620687     1        102\n",
       "max accuracy                 0.620687     1        102\n",
       "max precision                0.994329     1        0\n",
       "max recall                   0.620687     1        102\n",
       "max specificity              0.994329     1        0\n",
       "max absolute_mcc             0.620687     1        102\n",
       "max min_per_class_accuracy   0.620687     1        102\n",
       "max mean_per_class_accuracy  0.620687     1        102"
      ]
     },
     "metadata": {},
     "output_type": "display_data"
    },
    {
     "name": "stdout",
     "output_type": "stream",
     "text": [
      "Gains/Lift Table: Avg response rate: 56.76 %, avg score: 56.75 %\n",
      "\n"
     ]
    },
    {
     "data": {
      "text/html": [
       "<div style=\"overflow:auto\"><table style=\"width:50%\"><tr><td><b></b></td>\n",
       "<td><b>group</b></td>\n",
       "<td><b>cumulative_data_fraction</b></td>\n",
       "<td><b>lower_threshold</b></td>\n",
       "<td><b>lift</b></td>\n",
       "<td><b>cumulative_lift</b></td>\n",
       "<td><b>response_rate</b></td>\n",
       "<td><b>score</b></td>\n",
       "<td><b>cumulative_response_rate</b></td>\n",
       "<td><b>cumulative_score</b></td>\n",
       "<td><b>capture_rate</b></td>\n",
       "<td><b>cumulative_capture_rate</b></td>\n",
       "<td><b>gain</b></td>\n",
       "<td><b>cumulative_gain</b></td></tr>\n",
       "<tr><td></td>\n",
       "<td>1</td>\n",
       "<td>0.0162162</td>\n",
       "<td>0.9939246</td>\n",
       "<td>1.7619048</td>\n",
       "<td>1.7619048</td>\n",
       "<td>1.0</td>\n",
       "<td>0.9940595</td>\n",
       "<td>1.0</td>\n",
       "<td>0.9940595</td>\n",
       "<td>0.0285714</td>\n",
       "<td>0.0285714</td>\n",
       "<td>76.1904762</td>\n",
       "<td>76.1904762</td></tr>\n",
       "<tr><td></td>\n",
       "<td>2</td>\n",
       "<td>0.0216216</td>\n",
       "<td>0.9920876</td>\n",
       "<td>1.7619048</td>\n",
       "<td>1.7619048</td>\n",
       "<td>1.0</td>\n",
       "<td>0.9935224</td>\n",
       "<td>1.0</td>\n",
       "<td>0.9939252</td>\n",
       "<td>0.0095238</td>\n",
       "<td>0.0380952</td>\n",
       "<td>76.1904762</td>\n",
       "<td>76.1904762</td></tr>\n",
       "<tr><td></td>\n",
       "<td>3</td>\n",
       "<td>0.0324324</td>\n",
       "<td>0.9910855</td>\n",
       "<td>1.7619048</td>\n",
       "<td>1.7619048</td>\n",
       "<td>1.0</td>\n",
       "<td>0.9913786</td>\n",
       "<td>1.0</td>\n",
       "<td>0.9930764</td>\n",
       "<td>0.0190476</td>\n",
       "<td>0.0571429</td>\n",
       "<td>76.1904762</td>\n",
       "<td>76.1904762</td></tr>\n",
       "<tr><td></td>\n",
       "<td>4</td>\n",
       "<td>0.0432432</td>\n",
       "<td>0.9906699</td>\n",
       "<td>1.7619048</td>\n",
       "<td>1.7619048</td>\n",
       "<td>1.0</td>\n",
       "<td>0.9908432</td>\n",
       "<td>1.0</td>\n",
       "<td>0.9925181</td>\n",
       "<td>0.0190476</td>\n",
       "<td>0.0761905</td>\n",
       "<td>76.1904762</td>\n",
       "<td>76.1904762</td></tr>\n",
       "<tr><td></td>\n",
       "<td>5</td>\n",
       "<td>0.0540541</td>\n",
       "<td>0.9897086</td>\n",
       "<td>1.7619048</td>\n",
       "<td>1.7619048</td>\n",
       "<td>1.0</td>\n",
       "<td>0.9901017</td>\n",
       "<td>1.0</td>\n",
       "<td>0.9920348</td>\n",
       "<td>0.0190476</td>\n",
       "<td>0.0952381</td>\n",
       "<td>76.1904762</td>\n",
       "<td>76.1904762</td></tr>\n",
       "<tr><td></td>\n",
       "<td>6</td>\n",
       "<td>0.1027027</td>\n",
       "<td>0.9840288</td>\n",
       "<td>1.7619048</td>\n",
       "<td>1.7619048</td>\n",
       "<td>1.0</td>\n",
       "<td>0.9869992</td>\n",
       "<td>1.0</td>\n",
       "<td>0.9896495</td>\n",
       "<td>0.0857143</td>\n",
       "<td>0.1809524</td>\n",
       "<td>76.1904762</td>\n",
       "<td>76.1904762</td></tr>\n",
       "<tr><td></td>\n",
       "<td>7</td>\n",
       "<td>0.1513514</td>\n",
       "<td>0.9785795</td>\n",
       "<td>1.7619048</td>\n",
       "<td>1.7619048</td>\n",
       "<td>1.0</td>\n",
       "<td>0.9814336</td>\n",
       "<td>1.0</td>\n",
       "<td>0.9870087</td>\n",
       "<td>0.0857143</td>\n",
       "<td>0.2666667</td>\n",
       "<td>76.1904762</td>\n",
       "<td>76.1904762</td></tr>\n",
       "<tr><td></td>\n",
       "<td>8</td>\n",
       "<td>0.2</td>\n",
       "<td>0.9682271</td>\n",
       "<td>1.7619048</td>\n",
       "<td>1.7619048</td>\n",
       "<td>1.0</td>\n",
       "<td>0.9740732</td>\n",
       "<td>1.0</td>\n",
       "<td>0.9838622</td>\n",
       "<td>0.0857143</td>\n",
       "<td>0.3523810</td>\n",
       "<td>76.1904762</td>\n",
       "<td>76.1904762</td></tr>\n",
       "<tr><td></td>\n",
       "<td>9</td>\n",
       "<td>0.3027027</td>\n",
       "<td>0.9481295</td>\n",
       "<td>1.7619048</td>\n",
       "<td>1.7619048</td>\n",
       "<td>1.0</td>\n",
       "<td>0.9579325</td>\n",
       "<td>1.0</td>\n",
       "<td>0.9750646</td>\n",
       "<td>0.1809524</td>\n",
       "<td>0.5333333</td>\n",
       "<td>76.1904762</td>\n",
       "<td>76.1904762</td></tr>\n",
       "<tr><td></td>\n",
       "<td>10</td>\n",
       "<td>0.4</td>\n",
       "<td>0.9151543</td>\n",
       "<td>1.7619048</td>\n",
       "<td>1.7619048</td>\n",
       "<td>1.0</td>\n",
       "<td>0.9348482</td>\n",
       "<td>1.0</td>\n",
       "<td>0.9652823</td>\n",
       "<td>0.1714286</td>\n",
       "<td>0.7047619</td>\n",
       "<td>76.1904762</td>\n",
       "<td>76.1904762</td></tr>\n",
       "<tr><td></td>\n",
       "<td>11</td>\n",
       "<td>0.5027027</td>\n",
       "<td>0.8407227</td>\n",
       "<td>1.7619048</td>\n",
       "<td>1.7619048</td>\n",
       "<td>1.0</td>\n",
       "<td>0.8807677</td>\n",
       "<td>1.0</td>\n",
       "<td>0.9480158</td>\n",
       "<td>0.1809524</td>\n",
       "<td>0.8857143</td>\n",
       "<td>76.1904762</td>\n",
       "<td>76.1904762</td></tr>\n",
       "<tr><td></td>\n",
       "<td>12</td>\n",
       "<td>0.6</td>\n",
       "<td>0.2561422</td>\n",
       "<td>1.1746032</td>\n",
       "<td>1.6666667</td>\n",
       "<td>0.6666667</td>\n",
       "<td>0.6218200</td>\n",
       "<td>0.9459459</td>\n",
       "<td>0.8951192</td>\n",
       "<td>0.1142857</td>\n",
       "<td>1.0</td>\n",
       "<td>17.4603175</td>\n",
       "<td>66.6666667</td></tr>\n",
       "<tr><td></td>\n",
       "<td>13</td>\n",
       "<td>0.6972973</td>\n",
       "<td>0.1207280</td>\n",
       "<td>0.0</td>\n",
       "<td>1.4341085</td>\n",
       "<td>0.0</td>\n",
       "<td>0.1733150</td>\n",
       "<td>0.8139535</td>\n",
       "<td>0.7944023</td>\n",
       "<td>0.0</td>\n",
       "<td>1.0</td>\n",
       "<td>-100.0</td>\n",
       "<td>43.4108527</td></tr>\n",
       "<tr><td></td>\n",
       "<td>14</td>\n",
       "<td>0.8</td>\n",
       "<td>0.0472437</td>\n",
       "<td>0.0</td>\n",
       "<td>1.25</td>\n",
       "<td>0.0</td>\n",
       "<td>0.0784224</td>\n",
       "<td>0.7094595</td>\n",
       "<td>0.7024860</td>\n",
       "<td>0.0</td>\n",
       "<td>1.0</td>\n",
       "<td>-100.0</td>\n",
       "<td>25.0</td></tr>\n",
       "<tr><td></td>\n",
       "<td>15</td>\n",
       "<td>0.8972973</td>\n",
       "<td>0.0297128</td>\n",
       "<td>0.0</td>\n",
       "<td>1.1144578</td>\n",
       "<td>0.0</td>\n",
       "<td>0.0378435</td>\n",
       "<td>0.6325301</td>\n",
       "<td>0.6304163</td>\n",
       "<td>0.0</td>\n",
       "<td>1.0</td>\n",
       "<td>-100.0</td>\n",
       "<td>11.4457831</td></tr>\n",
       "<tr><td></td>\n",
       "<td>16</td>\n",
       "<td>1.0</td>\n",
       "<td>0.0066103</td>\n",
       "<td>0.0</td>\n",
       "<td>1.0</td>\n",
       "<td>0.0</td>\n",
       "<td>0.0175179</td>\n",
       "<td>0.5675676</td>\n",
       "<td>0.5674700</td>\n",
       "<td>0.0</td>\n",
       "<td>1.0</td>\n",
       "<td>-100.0</td>\n",
       "<td>0.0</td></tr></table></div>"
      ],
      "text/plain": [
       "    group    cumulative_data_fraction    lower_threshold    lift    cumulative_lift    response_rate    score      cumulative_response_rate    cumulative_score    capture_rate    cumulative_capture_rate    gain     cumulative_gain\n",
       "--  -------  --------------------------  -----------------  ------  -----------------  ---------------  ---------  --------------------------  ------------------  --------------  -------------------------  -------  -----------------\n",
       "    1        0.0162162                   0.993925           1.7619  1.7619             1                0.99406    1                           0.99406             0.0285714       0.0285714                  76.1905  76.1905\n",
       "    2        0.0216216                   0.992088           1.7619  1.7619             1                0.993522   1                           0.993925            0.00952381      0.0380952                  76.1905  76.1905\n",
       "    3        0.0324324                   0.991085           1.7619  1.7619             1                0.991379   1                           0.993076            0.0190476       0.0571429                  76.1905  76.1905\n",
       "    4        0.0432432                   0.99067            1.7619  1.7619             1                0.990843   1                           0.992518            0.0190476       0.0761905                  76.1905  76.1905\n",
       "    5        0.0540541                   0.989709           1.7619  1.7619             1                0.990102   1                           0.992035            0.0190476       0.0952381                  76.1905  76.1905\n",
       "    6        0.102703                    0.984029           1.7619  1.7619             1                0.986999   1                           0.98965             0.0857143       0.180952                   76.1905  76.1905\n",
       "    7        0.151351                    0.978579           1.7619  1.7619             1                0.981434   1                           0.987009            0.0857143       0.266667                   76.1905  76.1905\n",
       "    8        0.2                         0.968227           1.7619  1.7619             1                0.974073   1                           0.983862            0.0857143       0.352381                   76.1905  76.1905\n",
       "    9        0.302703                    0.94813            1.7619  1.7619             1                0.957932   1                           0.975065            0.180952        0.533333                   76.1905  76.1905\n",
       "    10       0.4                         0.915154           1.7619  1.7619             1                0.934848   1                           0.965282            0.171429        0.704762                   76.1905  76.1905\n",
       "    11       0.502703                    0.840723           1.7619  1.7619             1                0.880768   1                           0.948016            0.180952        0.885714                   76.1905  76.1905\n",
       "    12       0.6                         0.256142           1.1746  1.66667            0.666667         0.62182    0.945946                    0.895119            0.114286        1                          17.4603  66.6667\n",
       "    13       0.697297                    0.120728           0       1.43411            0                0.173315   0.813953                    0.794402            0               1                          -100     43.4109\n",
       "    14       0.8                         0.0472437          0       1.25               0                0.0784224  0.709459                    0.702486            0               1                          -100     25\n",
       "    15       0.897297                    0.0297128          0       1.11446            0                0.0378435  0.63253                     0.630416            0               1                          -100     11.4458\n",
       "    16       1                           0.00661033         0       1                  0                0.0175179  0.567568                    0.56747             0               1                          -100     0"
      ]
     },
     "metadata": {},
     "output_type": "display_data"
    },
    {
     "name": "stdout",
     "output_type": "stream",
     "text": [
      "\n",
      "Scoring History: \n"
     ]
    },
    {
     "data": {
      "text/html": [
       "<div style=\"overflow:auto\"><table style=\"width:50%\"><tr><td><b></b></td>\n",
       "<td><b>timestamp</b></td>\n",
       "<td><b>duration</b></td>\n",
       "<td><b>number_of_trees</b></td>\n",
       "<td><b>training_rmse</b></td>\n",
       "<td><b>training_logloss</b></td>\n",
       "<td><b>training_auc</b></td>\n",
       "<td><b>training_pr_auc</b></td>\n",
       "<td><b>training_lift</b></td>\n",
       "<td><b>training_classification_error</b></td></tr>\n",
       "<tr><td></td>\n",
       "<td>2024-11-16 19:52:11</td>\n",
       "<td> 0.032 sec</td>\n",
       "<td>0.0</td>\n",
       "<td>0.4954136</td>\n",
       "<td>0.6839884</td>\n",
       "<td>0.5</td>\n",
       "<td>0.0</td>\n",
       "<td>1.0</td>\n",
       "<td>0.4324324</td></tr>\n",
       "<tr><td></td>\n",
       "<td>2024-11-16 19:52:11</td>\n",
       "<td> 0.233 sec</td>\n",
       "<td>1.0</td>\n",
       "<td>0.4671036</td>\n",
       "<td>0.6284551</td>\n",
       "<td>0.9324405</td>\n",
       "<td>0.5801605</td>\n",
       "<td>1.7619048</td>\n",
       "<td>0.1459459</td></tr>\n",
       "<tr><td></td>\n",
       "<td>2024-11-16 19:52:11</td>\n",
       "<td> 0.263 sec</td>\n",
       "<td>2.0</td>\n",
       "<td>0.4420753</td>\n",
       "<td>0.5816058</td>\n",
       "<td>0.9448810</td>\n",
       "<td>0.9308608</td>\n",
       "<td>1.7619048</td>\n",
       "<td>0.1351351</td></tr>\n",
       "<tr><td></td>\n",
       "<td>2024-11-16 19:52:11</td>\n",
       "<td> 0.286 sec</td>\n",
       "<td>3.0</td>\n",
       "<td>0.4191787</td>\n",
       "<td>0.5400703</td>\n",
       "<td>0.9530952</td>\n",
       "<td>0.9377354</td>\n",
       "<td>1.7619048</td>\n",
       "<td>0.1189189</td></tr>\n",
       "<tr><td></td>\n",
       "<td>2024-11-16 19:52:11</td>\n",
       "<td> 0.305 sec</td>\n",
       "<td>4.0</td>\n",
       "<td>0.4001189</td>\n",
       "<td>0.5064497</td>\n",
       "<td>0.9641667</td>\n",
       "<td>0.9653604</td>\n",
       "<td>1.7619048</td>\n",
       "<td>0.1027027</td></tr>\n",
       "<tr><td>---</td>\n",
       "<td>---</td>\n",
       "<td>---</td>\n",
       "<td>---</td>\n",
       "<td>---</td>\n",
       "<td>---</td>\n",
       "<td>---</td>\n",
       "<td>---</td>\n",
       "<td>---</td>\n",
       "<td>---</td></tr>\n",
       "<tr><td></td>\n",
       "<td>2024-11-16 19:52:11</td>\n",
       "<td> 0.866 sec</td>\n",
       "<td>46.0</td>\n",
       "<td>0.1325552</td>\n",
       "<td>0.1034881</td>\n",
       "<td>0.9998810</td>\n",
       "<td>0.9903859</td>\n",
       "<td>1.7619048</td>\n",
       "<td>0.0054054</td></tr>\n",
       "<tr><td></td>\n",
       "<td>2024-11-16 19:52:11</td>\n",
       "<td> 0.875 sec</td>\n",
       "<td>47.0</td>\n",
       "<td>0.1301770</td>\n",
       "<td>0.1005399</td>\n",
       "<td>1.0</td>\n",
       "<td>0.9904762</td>\n",
       "<td>1.7619048</td>\n",
       "<td>0.0</td></tr>\n",
       "<tr><td></td>\n",
       "<td>2024-11-16 19:52:12</td>\n",
       "<td> 0.883 sec</td>\n",
       "<td>48.0</td>\n",
       "<td>0.1282831</td>\n",
       "<td>0.0987821</td>\n",
       "<td>0.9998810</td>\n",
       "<td>0.9903859</td>\n",
       "<td>1.7619048</td>\n",
       "<td>0.0054054</td></tr>\n",
       "<tr><td></td>\n",
       "<td>2024-11-16 19:52:12</td>\n",
       "<td> 0.894 sec</td>\n",
       "<td>49.0</td>\n",
       "<td>0.1253304</td>\n",
       "<td>0.0963466</td>\n",
       "<td>1.0</td>\n",
       "<td>0.9904762</td>\n",
       "<td>1.7619048</td>\n",
       "<td>0.0</td></tr>\n",
       "<tr><td></td>\n",
       "<td>2024-11-16 19:52:12</td>\n",
       "<td> 0.905 sec</td>\n",
       "<td>50.0</td>\n",
       "<td>0.1225544</td>\n",
       "<td>0.0939218</td>\n",
       "<td>1.0</td>\n",
       "<td>0.9904762</td>\n",
       "<td>1.7619048</td>\n",
       "<td>0.0</td></tr></table></div>"
      ],
      "text/plain": [
       "     timestamp            duration    number_of_trees    training_rmse        training_logloss     training_auc        training_pr_auc     training_lift      training_classification_error\n",
       "---  -------------------  ----------  -----------------  -------------------  -------------------  ------------------  ------------------  -----------------  -------------------------------\n",
       "     2024-11-16 19:52:11  0.032 sec   0.0                0.495413588643875    0.6839884329677799   0.5                 0.0                 1.0                0.43243243243243246\n",
       "     2024-11-16 19:52:11  0.233 sec   1.0                0.46710364338941185  0.6284551477249529   0.9324404761904763  0.5801605311973852  1.761904761904762  0.14594594594594595\n",
       "     2024-11-16 19:52:11  0.263 sec   2.0                0.44207526128393676  0.5816057690041095   0.9448809523809525  0.930860788319375   1.761904761904762  0.13513513513513514\n",
       "     2024-11-16 19:52:11  0.286 sec   3.0                0.41917866119310454  0.5400703099839408   0.9530952380952382  0.9377353600025577  1.761904761904762  0.11891891891891893\n",
       "     2024-11-16 19:52:11  0.305 sec   4.0                0.40011889618064395  0.5064496856214906   0.9641666666666667  0.9653603677041023  1.761904761904762  0.10270270270270271\n",
       "---  ---                  ---         ---                ---                  ---                  ---                 ---                 ---                ---\n",
       "     2024-11-16 19:52:11  0.866 sec   46.0               0.1325551911967843   0.10348812809237333  0.9998809523809523  0.9903859153724384  1.761904761904762  0.005405405405405406\n",
       "     2024-11-16 19:52:11  0.875 sec   47.0               0.1301770140144547   0.10053985372479565  1.0                 0.9904761904761905  1.761904761904762  0.0\n",
       "     2024-11-16 19:52:12  0.883 sec   48.0               0.12828307248846696  0.09878209032793565  0.9998809523809523  0.9903859153724384  1.761904761904762  0.005405405405405406\n",
       "     2024-11-16 19:52:12  0.894 sec   49.0               0.12533040337760715  0.0963465857903351   1.0                 0.9904761904761905  1.761904761904762  0.0\n",
       "     2024-11-16 19:52:12  0.905 sec   50.0               0.12255444750836744  0.0939217678549615   1.0                 0.9904761904761905  1.761904761904762  0.0"
      ]
     },
     "metadata": {},
     "output_type": "display_data"
    },
    {
     "name": "stdout",
     "output_type": "stream",
     "text": [
      "\n",
      "See the whole table with table.as_data_frame()\n",
      "Variable Importances: \n"
     ]
    },
    {
     "data": {
      "text/html": [
       "<div style=\"overflow:auto\"><table style=\"width:50%\"><tr><td><b>variable</b></td>\n",
       "<td><b>relative_importance</b></td>\n",
       "<td><b>scaled_importance</b></td>\n",
       "<td><b>percentage</b></td></tr>\n",
       "<tr><td>cp</td>\n",
       "<td>49.7725296</td>\n",
       "<td>1.0</td>\n",
       "<td>0.2342191</td></tr>\n",
       "<tr><td>ca</td>\n",
       "<td>35.6740952</td>\n",
       "<td>0.7167427</td>\n",
       "<td>0.1678749</td></tr>\n",
       "<tr><td>﻿age</td>\n",
       "<td>24.6013737</td>\n",
       "<td>0.4942761</td>\n",
       "<td>0.1157689</td></tr>\n",
       "<tr><td>thal</td>\n",
       "<td>24.5945969</td>\n",
       "<td>0.4941400</td>\n",
       "<td>0.1157370</td></tr>\n",
       "<tr><td>oldpeak</td>\n",
       "<td>20.6189556</td>\n",
       "<td>0.4142638</td>\n",
       "<td>0.0970285</td></tr>\n",
       "<tr><td>chol</td>\n",
       "<td>14.6140299</td>\n",
       "<td>0.2936164</td>\n",
       "<td>0.0687706</td></tr>\n",
       "<tr><td>trestbps</td>\n",
       "<td>13.2631454</td>\n",
       "<td>0.2664752</td>\n",
       "<td>0.0624136</td></tr>\n",
       "<tr><td>thalach</td>\n",
       "<td>12.5052586</td>\n",
       "<td>0.2512482</td>\n",
       "<td>0.0588471</td></tr>\n",
       "<tr><td>sex</td>\n",
       "<td>7.9364138</td>\n",
       "<td>0.1594537</td>\n",
       "<td>0.0373471</td></tr>\n",
       "<tr><td>restecg</td>\n",
       "<td>4.2353444</td>\n",
       "<td>0.0850940</td>\n",
       "<td>0.0199306</td></tr>\n",
       "<tr><td>slope</td>\n",
       "<td>2.8934398</td>\n",
       "<td>0.0581333</td>\n",
       "<td>0.0136159</td></tr>\n",
       "<tr><td>exang</td>\n",
       "<td>1.7949187</td>\n",
       "<td>0.0360624</td>\n",
       "<td>0.0084465</td></tr>\n",
       "<tr><td>fbs</td>\n",
       "<td>0.0</td>\n",
       "<td>0.0</td>\n",
       "<td>0.0</td></tr></table></div>"
      ],
      "text/plain": [
       "variable    relative_importance    scaled_importance    percentage\n",
       "----------  ---------------------  -------------------  ------------\n",
       "cp          49.7725                1                    0.234219\n",
       "ca          35.6741                0.716743             0.167875\n",
       "﻿age        24.6014                0.494276             0.115769\n",
       "thal        24.5946                0.49414              0.115737\n",
       "oldpeak     20.619                 0.414264             0.0970285\n",
       "chol        14.614                 0.293616             0.0687706\n",
       "trestbps    13.2631                0.266475             0.0624136\n",
       "thalach     12.5053                0.251248             0.0588471\n",
       "sex         7.93641                0.159454             0.0373471\n",
       "restecg     4.23534                0.085094             0.0199306\n",
       "slope       2.89344                0.0581333            0.0136159\n",
       "exang       1.79492                0.0360624            0.00844651\n",
       "fbs         0                      0                    0"
      ]
     },
     "metadata": {},
     "output_type": "display_data"
    },
    {
     "name": "stdout",
     "output_type": "stream",
     "text": [
      "\n"
     ]
    }
   ],
   "source": [
    "print(gbm)"
   ]
  },
  {
   "cell_type": "markdown",
   "metadata": {
    "_uuid": "5710d0709cde5d6a1ba0d85af96a5428c3737140"
   },
   "source": [
    "Now that is quite a bit of information. We can look at them individually.\n",
    "\n",
    "1. First, we get the name of the model and a key to acces the model ( key is not much useful for us I guess )\n",
    "2. Error metrics on the train data like log-loss, mean per class error, AUC, Gini, MSE, RMSE\n",
    "3. Confusion matrix for max F1 threshold\n",
    "4. Threshold values for different metrics\n",
    "5. Gains / Lift table\n",
    "6. Scoring history - information on how the metrics changed in each of the epochs\n",
    "7. Feature importance\n",
    "Okay. I heard you. How can we use the metrics of train set (as we actually trained on this dataset). We need to evaluate them from the valid set. We can use the model_performance() function for the same. We can then print the metrics."
   ]
  },
  {
   "cell_type": "code",
   "execution_count": 11,
   "metadata": {
    "_uuid": "55d813b6f9d6a20d30b18bfc8f6bcb169b56151e"
   },
   "outputs": [
    {
     "name": "stdout",
     "output_type": "stream",
     "text": [
      "\n",
      "ModelMetricsBinomial: gbm\n",
      "** Reported on test data. **\n",
      "\n",
      "MSE: 0.1336486752877018\n",
      "RMSE: 0.36557991641732973\n",
      "LogLoss: 0.4664779135599224\n",
      "Mean Per-Class Error: 0.15625\n",
      "AUC: 0.875\n",
      "pr_auc: 0.8374431029510676\n",
      "Gini: 0.75\n",
      "Confusion Matrix (Act/Pred) for max f1 @ threshold = 0.2657951768076915: \n"
     ]
    },
    {
     "data": {
      "text/html": [
       "<div style=\"overflow:auto\"><table style=\"width:50%\"><tr><td><b></b></td>\n",
       "<td><b>0</b></td>\n",
       "<td><b>1</b></td>\n",
       "<td><b>Error</b></td>\n",
       "<td><b>Rate</b></td></tr>\n",
       "<tr><td>0</td>\n",
       "<td>12.0</td>\n",
       "<td>4.0</td>\n",
       "<td>0.25</td>\n",
       "<td> (4.0/16.0)</td></tr>\n",
       "<tr><td>1</td>\n",
       "<td>1.0</td>\n",
       "<td>15.0</td>\n",
       "<td>0.0625</td>\n",
       "<td> (1.0/16.0)</td></tr>\n",
       "<tr><td>Total</td>\n",
       "<td>13.0</td>\n",
       "<td>19.0</td>\n",
       "<td>0.1562</td>\n",
       "<td> (5.0/32.0)</td></tr></table></div>"
      ],
      "text/plain": [
       "       0    1    Error    Rate\n",
       "-----  ---  ---  -------  ----------\n",
       "0      12   4    0.25     (4.0/16.0)\n",
       "1      1    15   0.0625   (1.0/16.0)\n",
       "Total  13   19   0.1562   (5.0/32.0)"
      ]
     },
     "metadata": {},
     "output_type": "display_data"
    },
    {
     "name": "stdout",
     "output_type": "stream",
     "text": [
      "Maximum Metrics: Maximum metrics at their respective thresholds\n",
      "\n"
     ]
    },
    {
     "data": {
      "text/html": [
       "<div style=\"overflow:auto\"><table style=\"width:50%\"><tr><td><b>metric</b></td>\n",
       "<td><b>threshold</b></td>\n",
       "<td><b>value</b></td>\n",
       "<td><b>idx</b></td></tr>\n",
       "<tr><td>max f1</td>\n",
       "<td>0.2657952</td>\n",
       "<td>0.8571429</td>\n",
       "<td>18.0</td></tr>\n",
       "<tr><td>max f2</td>\n",
       "<td>0.2657952</td>\n",
       "<td>0.9036145</td>\n",
       "<td>18.0</td></tr>\n",
       "<tr><td>max f0point5</td>\n",
       "<td>0.6734153</td>\n",
       "<td>0.8552632</td>\n",
       "<td>14.0</td></tr>\n",
       "<tr><td>max accuracy</td>\n",
       "<td>0.6734153</td>\n",
       "<td>0.84375</td>\n",
       "<td>14.0</td></tr>\n",
       "<tr><td>max precision</td>\n",
       "<td>0.9913538</td>\n",
       "<td>1.0</td>\n",
       "<td>0.0</td></tr>\n",
       "<tr><td>max recall</td>\n",
       "<td>0.0098004</td>\n",
       "<td>1.0</td>\n",
       "<td>31.0</td></tr>\n",
       "<tr><td>max specificity</td>\n",
       "<td>0.9913538</td>\n",
       "<td>1.0</td>\n",
       "<td>0.0</td></tr>\n",
       "<tr><td>max absolute_mcc</td>\n",
       "<td>0.2657952</td>\n",
       "<td>0.6999132</td>\n",
       "<td>18.0</td></tr>\n",
       "<tr><td>max min_per_class_accuracy</td>\n",
       "<td>0.6734153</td>\n",
       "<td>0.8125</td>\n",
       "<td>14.0</td></tr>\n",
       "<tr><td>max mean_per_class_accuracy</td>\n",
       "<td>0.6734153</td>\n",
       "<td>0.84375</td>\n",
       "<td>14.0</td></tr></table></div>"
      ],
      "text/plain": [
       "metric                       threshold    value     idx\n",
       "---------------------------  -----------  --------  -----\n",
       "max f1                       0.265795     0.857143  18\n",
       "max f2                       0.265795     0.903614  18\n",
       "max f0point5                 0.673415     0.855263  14\n",
       "max accuracy                 0.673415     0.84375   14\n",
       "max precision                0.991354     1         0\n",
       "max recall                   0.00980037   1         31\n",
       "max specificity              0.991354     1         0\n",
       "max absolute_mcc             0.265795     0.699913  18\n",
       "max min_per_class_accuracy   0.673415     0.8125    14\n",
       "max mean_per_class_accuracy  0.673415     0.84375   14"
      ]
     },
     "metadata": {},
     "output_type": "display_data"
    },
    {
     "name": "stdout",
     "output_type": "stream",
     "text": [
      "Gains/Lift Table: Avg response rate: 50.00 %, avg score: 49.52 %\n",
      "\n"
     ]
    },
    {
     "data": {
      "text/html": [
       "<div style=\"overflow:auto\"><table style=\"width:50%\"><tr><td><b></b></td>\n",
       "<td><b>group</b></td>\n",
       "<td><b>cumulative_data_fraction</b></td>\n",
       "<td><b>lower_threshold</b></td>\n",
       "<td><b>lift</b></td>\n",
       "<td><b>cumulative_lift</b></td>\n",
       "<td><b>response_rate</b></td>\n",
       "<td><b>score</b></td>\n",
       "<td><b>cumulative_response_rate</b></td>\n",
       "<td><b>cumulative_score</b></td>\n",
       "<td><b>capture_rate</b></td>\n",
       "<td><b>cumulative_capture_rate</b></td>\n",
       "<td><b>gain</b></td>\n",
       "<td><b>cumulative_gain</b></td></tr>\n",
       "<tr><td></td>\n",
       "<td>1</td>\n",
       "<td>0.03125</td>\n",
       "<td>0.9912427</td>\n",
       "<td>2.0</td>\n",
       "<td>2.0</td>\n",
       "<td>1.0</td>\n",
       "<td>0.9913538</td>\n",
       "<td>1.0</td>\n",
       "<td>0.9913538</td>\n",
       "<td>0.0625</td>\n",
       "<td>0.0625</td>\n",
       "<td>100.0</td>\n",
       "<td>100.0</td></tr>\n",
       "<tr><td></td>\n",
       "<td>2</td>\n",
       "<td>0.03125</td>\n",
       "<td>0.9911315</td>\n",
       "<td>0.0</td>\n",
       "<td>2.0</td>\n",
       "<td>0.0</td>\n",
       "<td>0.0</td>\n",
       "<td>1.0</td>\n",
       "<td>0.9913538</td>\n",
       "<td>0.0</td>\n",
       "<td>0.0625</td>\n",
       "<td>-100.0</td>\n",
       "<td>100.0</td></tr>\n",
       "<tr><td></td>\n",
       "<td>3</td>\n",
       "<td>0.03125</td>\n",
       "<td>0.9910204</td>\n",
       "<td>0.0</td>\n",
       "<td>2.0</td>\n",
       "<td>0.0</td>\n",
       "<td>0.0</td>\n",
       "<td>1.0</td>\n",
       "<td>0.9913538</td>\n",
       "<td>0.0</td>\n",
       "<td>0.0625</td>\n",
       "<td>-100.0</td>\n",
       "<td>100.0</td></tr>\n",
       "<tr><td></td>\n",
       "<td>4</td>\n",
       "<td>0.0625</td>\n",
       "<td>0.9909854</td>\n",
       "<td>2.0</td>\n",
       "<td>2.0</td>\n",
       "<td>1.0</td>\n",
       "<td>0.9909953</td>\n",
       "<td>1.0</td>\n",
       "<td>0.9911746</td>\n",
       "<td>0.0625</td>\n",
       "<td>0.125</td>\n",
       "<td>100.0</td>\n",
       "<td>100.0</td></tr>\n",
       "<tr><td></td>\n",
       "<td>5</td>\n",
       "<td>0.0625</td>\n",
       "<td>0.9909726</td>\n",
       "<td>0.0</td>\n",
       "<td>2.0</td>\n",
       "<td>0.0</td>\n",
       "<td>0.0</td>\n",
       "<td>1.0</td>\n",
       "<td>0.9911746</td>\n",
       "<td>0.0</td>\n",
       "<td>0.125</td>\n",
       "<td>-100.0</td>\n",
       "<td>100.0</td></tr>\n",
       "<tr><td></td>\n",
       "<td>6</td>\n",
       "<td>0.125</td>\n",
       "<td>0.9896926</td>\n",
       "<td>2.0</td>\n",
       "<td>2.0</td>\n",
       "<td>1.0</td>\n",
       "<td>0.9904467</td>\n",
       "<td>1.0</td>\n",
       "<td>0.9908106</td>\n",
       "<td>0.125</td>\n",
       "<td>0.25</td>\n",
       "<td>100.0</td>\n",
       "<td>100.0</td></tr>\n",
       "<tr><td></td>\n",
       "<td>7</td>\n",
       "<td>0.15625</td>\n",
       "<td>0.9859748</td>\n",
       "<td>2.0</td>\n",
       "<td>2.0</td>\n",
       "<td>1.0</td>\n",
       "<td>0.9874731</td>\n",
       "<td>1.0</td>\n",
       "<td>0.9901431</td>\n",
       "<td>0.0625</td>\n",
       "<td>0.3125</td>\n",
       "<td>100.0</td>\n",
       "<td>100.0</td></tr>\n",
       "<tr><td></td>\n",
       "<td>8</td>\n",
       "<td>0.21875</td>\n",
       "<td>0.9520611</td>\n",
       "<td>2.0</td>\n",
       "<td>2.0</td>\n",
       "<td>1.0</td>\n",
       "<td>0.9728939</td>\n",
       "<td>1.0</td>\n",
       "<td>0.9852148</td>\n",
       "<td>0.125</td>\n",
       "<td>0.4375</td>\n",
       "<td>100.0</td>\n",
       "<td>100.0</td></tr>\n",
       "<tr><td></td>\n",
       "<td>9</td>\n",
       "<td>0.3125</td>\n",
       "<td>0.8689640</td>\n",
       "<td>1.3333333</td>\n",
       "<td>1.8</td>\n",
       "<td>0.6666667</td>\n",
       "<td>0.9034070</td>\n",
       "<td>0.9</td>\n",
       "<td>0.9606724</td>\n",
       "<td>0.125</td>\n",
       "<td>0.5625</td>\n",
       "<td>33.3333333</td>\n",
       "<td>80.0</td></tr>\n",
       "<tr><td></td>\n",
       "<td>10</td>\n",
       "<td>0.40625</td>\n",
       "<td>0.7112835</td>\n",
       "<td>1.3333333</td>\n",
       "<td>1.6923077</td>\n",
       "<td>0.6666667</td>\n",
       "<td>0.7740189</td>\n",
       "<td>0.8461538</td>\n",
       "<td>0.9175986</td>\n",
       "<td>0.125</td>\n",
       "<td>0.6875</td>\n",
       "<td>33.3333333</td>\n",
       "<td>69.2307692</td></tr>\n",
       "<tr><td></td>\n",
       "<td>11</td>\n",
       "<td>0.5</td>\n",
       "<td>0.3988929</td>\n",
       "<td>1.3333333</td>\n",
       "<td>1.625</td>\n",
       "<td>0.6666667</td>\n",
       "<td>0.5935619</td>\n",
       "<td>0.8125</td>\n",
       "<td>0.8568417</td>\n",
       "<td>0.125</td>\n",
       "<td>0.8125</td>\n",
       "<td>33.3333333</td>\n",
       "<td>62.5</td></tr>\n",
       "<tr><td></td>\n",
       "<td>12</td>\n",
       "<td>0.59375</td>\n",
       "<td>0.2410623</td>\n",
       "<td>1.3333333</td>\n",
       "<td>1.5789474</td>\n",
       "<td>0.6666667</td>\n",
       "<td>0.3197338</td>\n",
       "<td>0.7894737</td>\n",
       "<td>0.7720352</td>\n",
       "<td>0.125</td>\n",
       "<td>0.9375</td>\n",
       "<td>33.3333333</td>\n",
       "<td>57.8947368</td></tr>\n",
       "<tr><td></td>\n",
       "<td>13</td>\n",
       "<td>0.6875</td>\n",
       "<td>0.1307251</td>\n",
       "<td>0.0</td>\n",
       "<td>1.3636364</td>\n",
       "<td>0.0</td>\n",
       "<td>0.2043784</td>\n",
       "<td>0.6818182</td>\n",
       "<td>0.6946274</td>\n",
       "<td>0.0</td>\n",
       "<td>0.9375</td>\n",
       "<td>-100.0</td>\n",
       "<td>36.3636364</td></tr>\n",
       "<tr><td></td>\n",
       "<td>14</td>\n",
       "<td>0.78125</td>\n",
       "<td>0.0696308</td>\n",
       "<td>0.0</td>\n",
       "<td>1.2</td>\n",
       "<td>0.0</td>\n",
       "<td>0.1060166</td>\n",
       "<td>0.6</td>\n",
       "<td>0.6239941</td>\n",
       "<td>0.0</td>\n",
       "<td>0.9375</td>\n",
       "<td>-100.0</td>\n",
       "<td>20.0000000</td></tr>\n",
       "<tr><td></td>\n",
       "<td>15</td>\n",
       "<td>0.875</td>\n",
       "<td>0.0423665</td>\n",
       "<td>0.0</td>\n",
       "<td>1.0714286</td>\n",
       "<td>0.0</td>\n",
       "<td>0.0568715</td>\n",
       "<td>0.5357143</td>\n",
       "<td>0.5632310</td>\n",
       "<td>0.0</td>\n",
       "<td>0.9375</td>\n",
       "<td>-100.0</td>\n",
       "<td>7.1428571</td></tr>\n",
       "<tr><td></td>\n",
       "<td>16</td>\n",
       "<td>1.0</td>\n",
       "<td>0.0098004</td>\n",
       "<td>0.5</td>\n",
       "<td>1.0</td>\n",
       "<td>0.25</td>\n",
       "<td>0.0189165</td>\n",
       "<td>0.5</td>\n",
       "<td>0.4951917</td>\n",
       "<td>0.0625</td>\n",
       "<td>1.0</td>\n",
       "<td>-50.0</td>\n",
       "<td>0.0</td></tr></table></div>"
      ],
      "text/plain": [
       "    group    cumulative_data_fraction    lower_threshold    lift     cumulative_lift    response_rate    score      cumulative_response_rate    cumulative_score    capture_rate    cumulative_capture_rate    gain     cumulative_gain\n",
       "--  -------  --------------------------  -----------------  -------  -----------------  ---------------  ---------  --------------------------  ------------------  --------------  -------------------------  -------  -----------------\n",
       "    1        0.03125                     0.991243           2        2                  1                0.991354   1                           0.991354            0.0625          0.0625                     100      100\n",
       "    2        0.03125                     0.991132           0        2                  0                0          1                           0.991354            0               0.0625                     -100     100\n",
       "    3        0.03125                     0.99102            0        2                  0                0          1                           0.991354            0               0.0625                     -100     100\n",
       "    4        0.0625                      0.990985           2        2                  1                0.990995   1                           0.991175            0.0625          0.125                      100      100\n",
       "    5        0.0625                      0.990973           0        2                  0                0          1                           0.991175            0               0.125                      -100     100\n",
       "    6        0.125                       0.989693           2        2                  1                0.990447   1                           0.990811            0.125           0.25                       100      100\n",
       "    7        0.15625                     0.985975           2        2                  1                0.987473   1                           0.990143            0.0625          0.3125                     100      100\n",
       "    8        0.21875                     0.952061           2        2                  1                0.972894   1                           0.985215            0.125           0.4375                     100      100\n",
       "    9        0.3125                      0.868964           1.33333  1.8                0.666667         0.903407   0.9                         0.960672            0.125           0.5625                     33.3333  80\n",
       "    10       0.40625                     0.711283           1.33333  1.69231            0.666667         0.774019   0.846154                    0.917599            0.125           0.6875                     33.3333  69.2308\n",
       "    11       0.5                         0.398893           1.33333  1.625              0.666667         0.593562   0.8125                      0.856842            0.125           0.8125                     33.3333  62.5\n",
       "    12       0.59375                     0.241062           1.33333  1.57895            0.666667         0.319734   0.789474                    0.772035            0.125           0.9375                     33.3333  57.8947\n",
       "    13       0.6875                      0.130725           0        1.36364            0                0.204378   0.681818                    0.694627            0               0.9375                     -100     36.3636\n",
       "    14       0.78125                     0.0696308          0        1.2                0                0.106017   0.6                         0.623994            0               0.9375                     -100     20\n",
       "    15       0.875                       0.0423665          0        1.07143            0                0.0568715  0.535714                    0.563231            0               0.9375                     -100     7.14286\n",
       "    16       1                           0.00980037         0.5      1                  0.25             0.0189165  0.5                         0.495192            0.0625          1                          -50      0"
      ]
     },
     "metadata": {},
     "output_type": "display_data"
    },
    {
     "name": "stdout",
     "output_type": "stream",
     "text": [
      "\n",
      "\n"
     ]
    }
   ],
   "source": [
    "perf = gbm.model_performance(valid)\n",
    "print(perf)"
   ]
  },
  {
   "cell_type": "markdown",
   "metadata": {
    "_uuid": "8e3ff1787cd9ec083b86629d4957c0e2edf32946"
   },
   "source": [
    "So using our baseline model, we are getting about 0.87 auc in valid set and 0.1 auc in train set. Similarly, log loss is 0.466 in valid set and 0.093 in train set.\n",
    "\n",
    "Now we can use the validation set to tune our parameters. We can use the early stopping to find the number of iterations to train similar to other GBM implementations. We can set some random values for the parameters to start with. \n",
    "\n",
    "Please note that, we have added a new validation_frame parameter in this one compared to the previous one while training."
   ]
  },
  {
   "cell_type": "markdown",
   "metadata": {
    "_uuid": "afeb43bae79670846532af3b9e79ac0792c12578"
   },
   "source": [
    "# Model Tuning"
   ]
  },
  {
   "cell_type": "code",
   "execution_count": 12,
   "metadata": {
    "_uuid": "0627647c26af043e612782b8fca2ad17212067a9"
   },
   "outputs": [
    {
     "name": "stdout",
     "output_type": "stream",
     "text": [
      "gbm Model Build progress: |███████████████████████████████████████████████| 100%\n"
     ]
    }
   ],
   "source": [
    "gbm_tune = H2OGradientBoostingEstimator(\n",
    "    ntrees = 1000,\n",
    "    learn_rate = 0.01,\n",
    "    stopping_rounds = 20,\n",
    "    stopping_metric = \"AUC\",\n",
    "    col_sample_rate = 0.7,\n",
    "    sample_rate = 0.7,\n",
    "    seed = 1234\n",
    ")      \n",
    "gbm_tune.train(x=predictors, y=response, training_frame=train, validation_frame=valid)"
   ]
  },
  {
   "cell_type": "markdown",
   "metadata": {
    "_uuid": "21bc87c233e2809a6b54b21b928007a9963cfe7b"
   },
   "source": [
    "Now, Lets check out the performance of tuned model"
   ]
  },
  {
   "cell_type": "code",
   "execution_count": 13,
   "metadata": {
    "_uuid": "11667a046373c820e01e3a54eb8369e3bdf91e15"
   },
   "outputs": [
    {
     "data": {
      "text/plain": [
       "0.9140625"
      ]
     },
     "execution_count": 13,
     "metadata": {},
     "output_type": "execute_result"
    }
   ],
   "source": [
    "gbm_tune.model_performance(valid).auc()"
   ]
  },
  {
   "cell_type": "markdown",
   "metadata": {
    "_uuid": "f79b6801ad24fe211f227e137deaaa0c59f20fe5"
   },
   "source": [
    "!! Great we have achieved AUC of 0.91 which is satisfactory"
   ]
  },
  {
   "cell_type": "markdown",
   "metadata": {
    "_uuid": "97fc91e91175285be20c1dbaf74f91a0f3a51ab4"
   },
   "source": [
    "# Grid Search"
   ]
  },
  {
   "cell_type": "code",
   "execution_count": 14,
   "metadata": {
    "_uuid": "c2dcd430daf8ffaf8078401f4a1de91d50270217"
   },
   "outputs": [
    {
     "name": "stdout",
     "output_type": "stream",
     "text": [
      "gbm Grid Build progress: |████████████████████████████████████████████████| 100%\n"
     ]
    }
   ],
   "source": [
    "from h2o.grid.grid_search import H2OGridSearch\n",
    "\n",
    "gbm_grid = H2OGradientBoostingEstimator(\n",
    "    ntrees = 1000,\n",
    "    learn_rate = 0.01,\n",
    "    stopping_rounds = 20,\n",
    "    stopping_metric = \"AUC\",\n",
    "    col_sample_rate = 0.7,\n",
    "    sample_rate = 0.7,\n",
    "    seed = 1234\n",
    ") \n",
    "\n",
    "hyper_params = {'max_depth':[4,6,8,10,12]}\n",
    "grid = H2OGridSearch(gbm_grid, hyper_params,\n",
    "                         grid_id='depth_grid',\n",
    "                         search_criteria={'strategy': \"Cartesian\"})\n",
    "#Train grid search\n",
    "grid.train(x=predictors, \n",
    "           y=response,\n",
    "           training_frame=train,\n",
    "           validation_frame=valid)"
   ]
  },
  {
   "cell_type": "code",
   "execution_count": 15,
   "metadata": {
    "_uuid": "8f0de82840bdba72f89c9c9321bf5e0141fc247f"
   },
   "outputs": [
    {
     "name": "stdout",
     "output_type": "stream",
     "text": [
      "    max_depth           model_ids             logloss\n",
      "0          10  depth_grid_model_4  0.5373946106921493\n",
      "1           8  depth_grid_model_3  0.5373946106921493\n",
      "2           6  depth_grid_model_2  0.5373946106921493\n",
      "3          12  depth_grid_model_5  0.5373946106921493\n",
      "4           4  depth_grid_model_1  0.5378250211341893\n",
      "\n"
     ]
    }
   ],
   "source": [
    "print(grid)"
   ]
  },
  {
   "cell_type": "markdown",
   "metadata": {
    "_uuid": "e51f63880c0e2fa27f7d4ffa05cca8d63f4a4e25"
   },
   "source": [
    "As we can see this has printed the log loss performance at various depths. If we want to look at the validation AUC, then we can use the following."
   ]
  },
  {
   "cell_type": "code",
   "execution_count": 16,
   "metadata": {
    "_uuid": "3179f5a612b80febe8a51ad648012c4c32caedca"
   },
   "outputs": [
    {
     "name": "stdout",
     "output_type": "stream",
     "text": [
      "    max_depth           model_ids         auc\n",
      "0           4  depth_grid_model_1  0.91796875\n",
      "1          10  depth_grid_model_4   0.9140625\n",
      "2           8  depth_grid_model_3   0.9140625\n",
      "3           6  depth_grid_model_2   0.9140625\n",
      "4          12  depth_grid_model_5   0.9140625\n",
      "\n"
     ]
    }
   ],
   "source": [
    "sorted_grid = grid.get_grid(sort_by='auc',decreasing=True)\n",
    "print(sorted_grid)"
   ]
  },
  {
   "cell_type": "markdown",
   "metadata": {
    "_uuid": "8d900ab8a875cfb43f3b868794ec6e8d90df98cf"
   },
   "source": [
    "At max_depth of 4 maximum auc is achieved which is 0.917968 "
   ]
  },
  {
   "cell_type": "markdown",
   "metadata": {
    "_uuid": "e917030a88a2f6bfb344b35070f8b0cd8d64a7e2"
   },
   "source": [
    "Interestingly, there is not much change in the AUC for the top two results. Since we train on a very small sample, we might be getting this.\n",
    "\n",
    "Also please note that, we just searched for the max_depth parameter. Please do a more comprehensive search for better results. Please refer to this [notebook](https://github.com/h2oai/h2o-3/blob/master/h2o-docs/src/product/tutorials/gbm/gbmTuning.ipynb) for more comprehensive details on finetuning."
   ]
  },
  {
   "cell_type": "markdown",
   "metadata": {
    "_uuid": "83e34ed3ec66342ded34190b1bcd3edff48eea22"
   },
   "source": [
    "## K-Fold cross validation:\n",
    "\n",
    "Most of the times, we will just do K-fold cross valdiation. So now let us do the same using H2O. Just setting the nfolds parameter in the model will do the k-fold cross validation."
   ]
  },
  {
   "cell_type": "code",
   "execution_count": 17,
   "metadata": {
    "_uuid": "3665fb8ff56841300cf0810852337d2f896c3f4f"
   },
   "outputs": [
    {
     "name": "stdout",
     "output_type": "stream",
     "text": [
      "gbm Model Build progress: |███████████████████████████████████████████████| 100%\n"
     ]
    },
    {
     "data": {
      "text/html": [
       "<div>\n",
       "<style scoped>\n",
       "    .dataframe tbody tr th:only-of-type {\n",
       "        vertical-align: middle;\n",
       "    }\n",
       "\n",
       "    .dataframe tbody tr th {\n",
       "        vertical-align: top;\n",
       "    }\n",
       "\n",
       "    .dataframe thead th {\n",
       "        text-align: right;\n",
       "    }\n",
       "</style>\n",
       "<table border=\"1\" class=\"dataframe\">\n",
       "  <thead>\n",
       "    <tr style=\"text-align: right;\">\n",
       "      <th></th>\n",
       "      <th></th>\n",
       "      <th>mean</th>\n",
       "      <th>sd</th>\n",
       "      <th>cv_1_valid</th>\n",
       "      <th>cv_2_valid</th>\n",
       "      <th>cv_3_valid</th>\n",
       "      <th>cv_4_valid</th>\n",
       "    </tr>\n",
       "  </thead>\n",
       "  <tbody>\n",
       "    <tr>\n",
       "      <th>0</th>\n",
       "      <td>accuracy</td>\n",
       "      <td>0.838469</td>\n",
       "      <td>0.018592477</td>\n",
       "      <td>0.87234044</td>\n",
       "      <td>0.8235294</td>\n",
       "      <td>0.85365856</td>\n",
       "      <td>0.8043478</td>\n",
       "    </tr>\n",
       "    <tr>\n",
       "      <th>1</th>\n",
       "      <td>auc</td>\n",
       "      <td>0.8643752</td>\n",
       "      <td>0.024303041</td>\n",
       "      <td>0.9097744</td>\n",
       "      <td>0.863354</td>\n",
       "      <td>0.8132184</td>\n",
       "      <td>0.87115383</td>\n",
       "    </tr>\n",
       "    <tr>\n",
       "      <th>2</th>\n",
       "      <td>err</td>\n",
       "      <td>0.16153096</td>\n",
       "      <td>0.018592477</td>\n",
       "      <td>0.12765957</td>\n",
       "      <td>0.1764706</td>\n",
       "      <td>0.14634146</td>\n",
       "      <td>0.19565217</td>\n",
       "    </tr>\n",
       "    <tr>\n",
       "      <th>3</th>\n",
       "      <td>err_count</td>\n",
       "      <td>7.5</td>\n",
       "      <td>1.0606601</td>\n",
       "      <td>6.0</td>\n",
       "      <td>9.0</td>\n",
       "      <td>6.0</td>\n",
       "      <td>9.0</td>\n",
       "    </tr>\n",
       "    <tr>\n",
       "      <th>4</th>\n",
       "      <td>f0point5</td>\n",
       "      <td>0.84057343</td>\n",
       "      <td>0.04063255</td>\n",
       "      <td>0.8783784</td>\n",
       "      <td>0.859375</td>\n",
       "      <td>0.88235295</td>\n",
       "      <td>0.7421875</td>\n",
       "    </tr>\n",
       "    <tr>\n",
       "      <th>5</th>\n",
       "      <td>f1</td>\n",
       "      <td>0.85881275</td>\n",
       "      <td>0.0284391</td>\n",
       "      <td>0.8965517</td>\n",
       "      <td>0.8301887</td>\n",
       "      <td>0.9</td>\n",
       "      <td>0.80851066</td>\n",
       "    </tr>\n",
       "    <tr>\n",
       "      <th>6</th>\n",
       "      <td>f2</td>\n",
       "      <td>0.88115764</td>\n",
       "      <td>0.03303302</td>\n",
       "      <td>0.91549295</td>\n",
       "      <td>0.8029197</td>\n",
       "      <td>0.9183673</td>\n",
       "      <td>0.88785046</td>\n",
       "    </tr>\n",
       "    <tr>\n",
       "      <th>7</th>\n",
       "      <td>lift_top_group</td>\n",
       "      <td>1.8034483</td>\n",
       "      <td>0.22757204</td>\n",
       "      <td>1.6785715</td>\n",
       "      <td>1.8214285</td>\n",
       "      <td>1.4137931</td>\n",
       "      <td>2.3</td>\n",
       "    </tr>\n",
       "    <tr>\n",
       "      <th>8</th>\n",
       "      <td>logloss</td>\n",
       "      <td>0.4960855</td>\n",
       "      <td>0.07403843</td>\n",
       "      <td>0.38669455</td>\n",
       "      <td>0.667273</td>\n",
       "      <td>0.48352513</td>\n",
       "      <td>0.44684923</td>\n",
       "    </tr>\n",
       "    <tr>\n",
       "      <th>9</th>\n",
       "      <td>max_per_class_error</td>\n",
       "      <td>0.2664594</td>\n",
       "      <td>0.038766738</td>\n",
       "      <td>0.21052632</td>\n",
       "      <td>0.21428572</td>\n",
       "      <td>0.33333334</td>\n",
       "      <td>0.30769232</td>\n",
       "    </tr>\n",
       "    <tr>\n",
       "      <th>10</th>\n",
       "      <td>mcc</td>\n",
       "      <td>0.66639197</td>\n",
       "      <td>0.027774516</td>\n",
       "      <td>0.7333689</td>\n",
       "      <td>0.65224814</td>\n",
       "      <td>0.63327575</td>\n",
       "      <td>0.64667505</td>\n",
       "    </tr>\n",
       "    <tr>\n",
       "      <th>11</th>\n",
       "      <td>mean_per_class_accuracy</td>\n",
       "      <td>0.82666665</td>\n",
       "      <td>0.015215028</td>\n",
       "      <td>0.85902256</td>\n",
       "      <td>0.82763976</td>\n",
       "      <td>0.7988506</td>\n",
       "      <td>0.8211538</td>\n",
       "    </tr>\n",
       "    <tr>\n",
       "      <th>12</th>\n",
       "      <td>mean_per_class_error</td>\n",
       "      <td>0.17333332</td>\n",
       "      <td>0.015215028</td>\n",
       "      <td>0.14097744</td>\n",
       "      <td>0.17236024</td>\n",
       "      <td>0.20114942</td>\n",
       "      <td>0.17884615</td>\n",
       "    </tr>\n",
       "    <tr>\n",
       "      <th>13</th>\n",
       "      <td>mse</td>\n",
       "      <td>0.15524961</td>\n",
       "      <td>0.016515937</td>\n",
       "      <td>0.12695079</td>\n",
       "      <td>0.19087444</td>\n",
       "      <td>0.15812196</td>\n",
       "      <td>0.14505124</td>\n",
       "    </tr>\n",
       "    <tr>\n",
       "      <th>14</th>\n",
       "      <td>precision</td>\n",
       "      <td>0.83033454</td>\n",
       "      <td>0.05180867</td>\n",
       "      <td>0.8666667</td>\n",
       "      <td>0.88</td>\n",
       "      <td>0.87096775</td>\n",
       "      <td>0.7037037</td>\n",
       "    </tr>\n",
       "    <tr>\n",
       "      <th>15</th>\n",
       "      <td>r2</td>\n",
       "      <td>0.33697793</td>\n",
       "      <td>0.07546366</td>\n",
       "      <td>0.4728679</td>\n",
       "      <td>0.22909252</td>\n",
       "      <td>0.23619822</td>\n",
       "      <td>0.40975305</td>\n",
       "    </tr>\n",
       "    <tr>\n",
       "      <th>16</th>\n",
       "      <td>recall</td>\n",
       "      <td>0.89883006</td>\n",
       "      <td>0.046549994</td>\n",
       "      <td>0.9285714</td>\n",
       "      <td>0.78571427</td>\n",
       "      <td>0.9310345</td>\n",
       "      <td>0.95</td>\n",
       "    </tr>\n",
       "    <tr>\n",
       "      <th>17</th>\n",
       "      <td>rmse</td>\n",
       "      <td>0.39292368</td>\n",
       "      <td>0.020743383</td>\n",
       "      <td>0.35630152</td>\n",
       "      <td>0.4368918</td>\n",
       "      <td>0.39764553</td>\n",
       "      <td>0.38085592</td>\n",
       "    </tr>\n",
       "    <tr>\n",
       "      <th>18</th>\n",
       "      <td>specificity</td>\n",
       "      <td>0.7545033</td>\n",
       "      <td>0.057058897</td>\n",
       "      <td>0.7894737</td>\n",
       "      <td>0.8695652</td>\n",
       "      <td>0.6666667</td>\n",
       "      <td>0.6923077</td>\n",
       "    </tr>\n",
       "  </tbody>\n",
       "</table>\n",
       "</div>"
      ],
      "text/plain": [
       "                                   mean     ...      cv_3_valid  cv_4_valid\n",
       "0                  accuracy    0.838469     ...      0.85365856   0.8043478\n",
       "1                       auc   0.8643752     ...       0.8132184  0.87115383\n",
       "2                       err  0.16153096     ...      0.14634146  0.19565217\n",
       "3                 err_count         7.5     ...             6.0         9.0\n",
       "4                  f0point5  0.84057343     ...      0.88235295   0.7421875\n",
       "5                        f1  0.85881275     ...             0.9  0.80851066\n",
       "6                        f2  0.88115764     ...       0.9183673  0.88785046\n",
       "7            lift_top_group   1.8034483     ...       1.4137931         2.3\n",
       "8                   logloss   0.4960855     ...      0.48352513  0.44684923\n",
       "9       max_per_class_error   0.2664594     ...      0.33333334  0.30769232\n",
       "10                      mcc  0.66639197     ...      0.63327575  0.64667505\n",
       "11  mean_per_class_accuracy  0.82666665     ...       0.7988506   0.8211538\n",
       "12     mean_per_class_error  0.17333332     ...      0.20114942  0.17884615\n",
       "13                      mse  0.15524961     ...      0.15812196  0.14505124\n",
       "14                precision  0.83033454     ...      0.87096775   0.7037037\n",
       "15                       r2  0.33697793     ...      0.23619822  0.40975305\n",
       "16                   recall  0.89883006     ...       0.9310345        0.95\n",
       "17                     rmse  0.39292368     ...      0.39764553  0.38085592\n",
       "18              specificity   0.7545033     ...       0.6666667   0.6923077\n",
       "\n",
       "[19 rows x 7 columns]"
      ]
     },
     "execution_count": 17,
     "metadata": {},
     "output_type": "execute_result"
    }
   ],
   "source": [
    "cv_gbm = H2OGradientBoostingEstimator(\n",
    "    ntrees = 3000,\n",
    "    learn_rate = 0.05,\n",
    "    stopping_rounds = 20,\n",
    "    stopping_metric = \"AUC\",\n",
    "    nfolds=4, \n",
    "    seed=2018)\n",
    "cv_gbm.train(x = predictors, y = response, training_frame = train, validation_frame=valid)\n",
    "cv_summary = cv_gbm.cross_validation_metrics_summary().as_data_frame()\n",
    "cv_summary"
   ]
  },
  {
   "cell_type": "code",
   "execution_count": 18,
   "metadata": {
    "_uuid": "c2a46f245da50e73954a51e3336918b84d5a2f71"
   },
   "outputs": [
    {
     "data": {
      "text/plain": [
       "0.87109375"
      ]
     },
     "execution_count": 18,
     "metadata": {},
     "output_type": "execute_result"
    }
   ],
   "source": [
    "cv_gbm.model_performance(valid).auc()"
   ]
  },
  {
   "cell_type": "markdown",
   "metadata": {
    "_uuid": "8222540c622c81dcea017a4954a030b74530aa77"
   },
   "source": [
    "# H20 with XGBoost"
   ]
  },
  {
   "cell_type": "code",
   "execution_count": 19,
   "metadata": {
    "_uuid": "f852f58beb85dd59ccafa2b66962d284d64b86f6"
   },
   "outputs": [
    {
     "name": "stdout",
     "output_type": "stream",
     "text": [
      "xgboost Model Build progress: |███████████████████████████████████████████| 100%\n"
     ]
    },
    {
     "data": {
      "text/plain": [
       "0.890625"
      ]
     },
     "execution_count": 19,
     "metadata": {},
     "output_type": "execute_result"
    }
   ],
   "source": [
    "from h2o.estimators import H2OXGBoostEstimator\n",
    "\n",
    "cv_xgb = H2OXGBoostEstimator(\n",
    "    ntrees = 1000,\n",
    "    learn_rate = 0.05,\n",
    "    stopping_rounds = 20,\n",
    "    stopping_metric = \"AUC\",\n",
    "    nfolds=4, \n",
    "    seed=2018)\n",
    "cv_xgb.train(x = predictors, y = response, training_frame = train, validation_frame=valid)\n",
    "cv_xgb.model_performance(valid).auc()"
   ]
  },
  {
   "cell_type": "markdown",
   "metadata": {
    "_uuid": "7fc85475646f6faaf4401896e9d10e99086023cc"
   },
   "source": [
    "There is a improvement of 2 percent in comparison of GBM that's great"
   ]
  },
  {
   "cell_type": "markdown",
   "metadata": {
    "_uuid": "4dff78aca7bef82fe7139fd40fdd6764e97f5ab2"
   },
   "source": [
    "# feature importance\n",
    "feature importance is inbuilt with xgboost model to see what are the contribution features in heart disease prediction with XGboost."
   ]
  },
  {
   "cell_type": "code",
   "execution_count": 20,
   "metadata": {
    "_uuid": "f278d207125e841579178d3bbd28ee68491a1b21"
   },
   "outputs": [
    {
     "data": {
      "image/png": "[encoded data removed]",
      "text/plain": [
       "<Figure size 1008x720 with 1 Axes>"
      ]
     },
     "metadata": {},
     "output_type": "display_data"
    }
   ],
   "source": [
    "cv_xgb.varimp_plot()"
   ]
  },
  {
   "cell_type": "markdown",
   "metadata": {
    "_uuid": "8e3df0781f8b33737641391c99a34c1f5fbdf4c6"
   },
   "source": [
    "# AutoML : Automatic Machine Learning:\n",
    "\n",
    "\n",
    "\n",
    "H2O’s AutoML can be used for automating the machine learning workflow, which includes automatic training and tuning of many models within a user-specified time-limit. Stacked Ensembles will be automatically trained on collections of individual models to produce highly predictive ensemble models which, in most cases, will be the top performing models in the AutoML Leaderboard.\n",
    "\n",
    "So let us use the H2OAutoML function to do automatic machine learning. We can specify the max_models parameter which indicates the number of individual (or \"base\") models, and does not include the two ensemble models that are trained at the end."
   ]
  },
  {
   "cell_type": "code",
   "execution_count": 21,
   "metadata": {
    "_uuid": "9fda94f1bc670b1231085c5274cc2f8b7d02be8a"
   },
   "outputs": [
    {
     "name": "stdout",
     "output_type": "stream",
     "text": [
      "AutoML progress: |████████████████████████████████████████████████████████| 100%\n"
     ]
    }
   ],
   "source": [
    "from h2o.automl import H2OAutoML\n",
    "\n",
    "aml = H2OAutoML(max_models = 10, max_runtime_secs=100, seed = 1)\n",
    "aml.train(x=predictors, y=response, training_frame=train, validation_frame=valid)"
   ]
  },
  {
   "cell_type": "markdown",
   "metadata": {
    "_uuid": "f9c394e4ff12e146d7b5221f0285162e94dbea3a"
   },
   "source": [
    "now lets look out the auto ml leader board"
   ]
  },
  {
   "cell_type": "code",
   "execution_count": 22,
   "metadata": {
    "_uuid": "cf437943d7602065680cdff1132b4ffd39cbdbc5"
   },
   "outputs": [
    {
     "data": {
      "text/html": [
       "<table>\n",
       "<thead>\n",
       "<tr><th>model_id                                           </th><th style=\"text-align: right;\">     auc</th><th style=\"text-align: right;\">  logloss</th><th style=\"text-align: right;\">  mean_per_class_error</th><th style=\"text-align: right;\">    rmse</th><th style=\"text-align: right;\">     mse</th></tr>\n",
       "</thead>\n",
       "<tbody>\n",
       "<tr><td>XGBoost_1_AutoML_20241116_195231                   </td><td style=\"text-align: right;\">0.899167</td><td style=\"text-align: right;\"> 0.398868</td><td style=\"text-align: right;\">              0.186607</td><td style=\"text-align: right;\">0.355013</td><td style=\"text-align: right;\">0.126034</td></tr>\n",
       "<tr><td>XGBoost_2_AutoML_20241116_195231                   </td><td style=\"text-align: right;\">0.895119</td><td style=\"text-align: right;\"> 0.428728</td><td style=\"text-align: right;\">              0.19256 </td><td style=\"text-align: right;\">0.366966</td><td style=\"text-align: right;\">0.134664</td></tr>\n",
       "<tr><td>GLM_grid_1_AutoML_20241116_195231_model_1          </td><td style=\"text-align: right;\">0.885357</td><td style=\"text-align: right;\"> 0.424541</td><td style=\"text-align: right;\">              0.183929</td><td style=\"text-align: right;\">0.370201</td><td style=\"text-align: right;\">0.137049</td></tr>\n",
       "<tr><td>GBM_2_AutoML_20241116_195231                       </td><td style=\"text-align: right;\">0.884524</td><td style=\"text-align: right;\"> 0.420397</td><td style=\"text-align: right;\">              0.194345</td><td style=\"text-align: right;\">0.36822 </td><td style=\"text-align: right;\">0.135586</td></tr>\n",
       "<tr><td>GBM_4_AutoML_20241116_195231                       </td><td style=\"text-align: right;\">0.88369 </td><td style=\"text-align: right;\"> 0.422709</td><td style=\"text-align: right;\">              0.183631</td><td style=\"text-align: right;\">0.369373</td><td style=\"text-align: right;\">0.136436</td></tr>\n",
       "<tr><td>GBM_3_AutoML_20241116_195231                       </td><td style=\"text-align: right;\">0.882381</td><td style=\"text-align: right;\"> 0.425424</td><td style=\"text-align: right;\">              0.183631</td><td style=\"text-align: right;\">0.370959</td><td style=\"text-align: right;\">0.13761 </td></tr>\n",
       "<tr><td>StackedEnsemble_AllModels_AutoML_20241116_195231   </td><td style=\"text-align: right;\">0.88119 </td><td style=\"text-align: right;\"> 0.425714</td><td style=\"text-align: right;\">              0.174107</td><td style=\"text-align: right;\">0.366655</td><td style=\"text-align: right;\">0.134436</td></tr>\n",
       "<tr><td>StackedEnsemble_BestOfFamily_AutoML_20241116_195231</td><td style=\"text-align: right;\">0.879286</td><td style=\"text-align: right;\"> 0.425334</td><td style=\"text-align: right;\">              0.202083</td><td style=\"text-align: right;\">0.366843</td><td style=\"text-align: right;\">0.134573</td></tr>\n",
       "<tr><td>GBM_1_AutoML_20241116_195231                       </td><td style=\"text-align: right;\">0.876429</td><td style=\"text-align: right;\"> 0.454258</td><td style=\"text-align: right;\">              0.180655</td><td style=\"text-align: right;\">0.379555</td><td style=\"text-align: right;\">0.144062</td></tr>\n",
       "<tr><td>XGBoost_3_AutoML_20241116_195231                   </td><td style=\"text-align: right;\">0.87625 </td><td style=\"text-align: right;\"> 0.525554</td><td style=\"text-align: right;\">              0.160417</td><td style=\"text-align: right;\">0.413195</td><td style=\"text-align: right;\">0.17073 </td></tr>\n",
       "</tbody>\n",
       "</table>"
      ]
     },
     "metadata": {},
     "output_type": "display_data"
    },
    {
     "data": {
      "text/plain": []
     },
     "execution_count": 22,
     "metadata": {},
     "output_type": "execute_result"
    }
   ],
   "source": [
    "lb = aml.leaderboard\n",
    "lb"
   ]
  },
  {
   "cell_type": "markdown",
   "metadata": {
    "_uuid": "3bb554d905cce2e084e9399b2eea295921ac982b"
   },
   "source": [
    "As we can see XGboost AutoML is the top contributor.\n",
    "\n",
    "Please hit **Upvote** if you like the introductory kernel of H20.Please share your valuable feedback."
   ]
  },
  {
   "cell_type": "code",
   "execution_count": 23,
   "metadata": {
    "_uuid": "718782fe48fab16375111dab2512e34e15fd7c20"
   },
   "outputs": [],
   "source": []
  }
 ],
 "metadata": {
  "kaggle": {
   "accelerator": "none",
   "dataSources": [
    {
     "datasetId": 33180,
     "sourceId": 43520,
     "sourceType": "datasetVersion"
    }
   ],
   "dockerImageVersionId": 22192,
   "isGpuEnabled": false,
   "isInternetEnabled": false,
   "language": "python",
   "sourceType": "notebook"
  },
  "kernelspec": {
   "display_name": "Python 3",
   "language": "python",
   "name": "python3"
  },
  "language_info": {
   "codemirror_mode": {
    "name": "ipython",
    "version": 3
   },
   "file_extension": ".py",
   "mimetype": "text/x-python",
   "name": "python",
   "nbconvert_exporter": "python",
   "pygments_lexer": "ipython3",
   "version": "3.6.6"
  }
 },
 "nbformat": 4,
 "nbformat_minor": 4
}
