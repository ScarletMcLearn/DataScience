{
 "cells": [
  {
   "cell_type": "markdown",
   "metadata": {
    "papermill": {
     "duration": 0.017834,
     "end_time": "2024-10-28T17:15:15.394679",
     "exception": false,
     "start_time": "2024-10-28T17:15:15.376845",
     "status": "completed"
    },
    "tags": []
   },
   "source": [
    "# Introduction\n",
    "* The notebook gives an introduction to NLP.\n",
    "* The notebook also introduce us to some preprocessing techniques required for text data\n",
    "* We will be working on the famous fake news dataset."
   ]
  },
  {
   "cell_type": "code",
   "execution_count": 1,
   "metadata": {
    "_cell_guid": "b1076dfc-b9ad-4769-8c92-a6c4dae69d19",
    "_uuid": "8f2839f25d086af736a60e9eeb907d3b93b6e0e5",
    "execution": {
     "iopub.execute_input": "2024-10-28T17:15:15.434256Z",
     "iopub.status.busy": "2024-10-28T17:15:15.433452Z",
     "iopub.status.idle": "2024-10-28T17:15:21.911886Z",
     "shell.execute_reply": "2024-10-28T17:15:21.910922Z"
    },
    "papermill": {
     "duration": 6.501147,
     "end_time": "2024-10-28T17:15:21.912193",
     "exception": false,
     "start_time": "2024-10-28T17:15:15.411046",
     "status": "completed"
    },
    "tags": []
   },
   "outputs": [],
   "source": [
    "import numpy as np\n",
    "import pandas as pd\n",
    "import matplotlib.pyplot as plt\n",
    "from tensorflow.keras.layers import Embedding,LSTM,Dense,Dropout\n",
    "from tensorflow.keras.preprocessing.sequence import pad_sequences\n",
    "from tensorflow.keras.models import Sequential\n",
    "from tensorflow.keras.preprocessing.text import one_hot"
   ]
  },
  {
   "cell_type": "markdown",
   "metadata": {
    "papermill": {
     "duration": 0.015912,
     "end_time": "2024-10-28T17:15:21.944848",
     "exception": false,
     "start_time": "2024-10-28T17:15:21.928936",
     "status": "completed"
    },
    "tags": []
   },
   "source": [
    "### Importing dataset"
   ]
  },
  {
   "cell_type": "code",
   "execution_count": 2,
   "metadata": {
    "execution": {
     "iopub.execute_input": "2024-10-28T17:15:21.983712Z",
     "iopub.status.busy": "2024-10-28T17:15:21.982938Z",
     "iopub.status.idle": "2024-10-28T17:15:24.984288Z",
     "shell.execute_reply": "2024-10-28T17:15:24.983594Z"
    },
    "papermill": {
     "duration": 3.023248,
     "end_time": "2024-10-28T17:15:24.984459",
     "exception": false,
     "start_time": "2024-10-28T17:15:21.961211",
     "status": "completed"
    },
    "tags": []
   },
   "outputs": [],
   "source": [
    "df = pd.read_csv('../input/fake-news/train.csv')\n",
    "test = pd.read_csv('../input/fake-news/test.csv')"
   ]
  },
  {
   "cell_type": "code",
   "execution_count": 3,
   "metadata": {
    "execution": {
     "iopub.execute_input": "2024-10-28T17:15:25.033466Z",
     "iopub.status.busy": "2024-10-28T17:15:25.032612Z",
     "iopub.status.idle": "2024-10-28T17:15:25.053164Z",
     "shell.execute_reply": "2024-10-28T17:15:25.052604Z"
    },
    "papermill": {
     "duration": 0.051261,
     "end_time": "2024-10-28T17:15:25.053326",
     "exception": false,
     "start_time": "2024-10-28T17:15:25.002065",
     "status": "completed"
    },
    "tags": []
   },
   "outputs": [
    {
     "data": {
      "text/html": [
       "<div>\n",
       "<style scoped>\n",
       "    .dataframe tbody tr th:only-of-type {\n",
       "        vertical-align: middle;\n",
       "    }\n",
       "\n",
       "    .dataframe tbody tr th {\n",
       "        vertical-align: top;\n",
       "    }\n",
       "\n",
       "    .dataframe thead th {\n",
       "        text-align: right;\n",
       "    }\n",
       "</style>\n",
       "<table border=\"1\" class=\"dataframe\">\n",
       "  <thead>\n",
       "    <tr style=\"text-align: right;\">\n",
       "      <th></th>\n",
       "      <th>id</th>\n",
       "      <th>title</th>\n",
       "      <th>author</th>\n",
       "      <th>text</th>\n",
       "      <th>label</th>\n",
       "    </tr>\n",
       "  </thead>\n",
       "  <tbody>\n",
       "    <tr>\n",
       "      <th>0</th>\n",
       "      <td>0</td>\n",
       "      <td>House Dem Aide: We Didn’t Even See Comey’s Let...</td>\n",
       "      <td>Darrell Lucus</td>\n",
       "      <td>House Dem Aide: We Didn’t Even See Comey’s Let...</td>\n",
       "      <td>1</td>\n",
       "    </tr>\n",
       "    <tr>\n",
       "      <th>1</th>\n",
       "      <td>1</td>\n",
       "      <td>FLYNN: Hillary Clinton, Big Woman on Campus - ...</td>\n",
       "      <td>Daniel J. Flynn</td>\n",
       "      <td>Ever get the feeling your life circles the rou...</td>\n",
       "      <td>0</td>\n",
       "    </tr>\n",
       "    <tr>\n",
       "      <th>2</th>\n",
       "      <td>2</td>\n",
       "      <td>Why the Truth Might Get You Fired</td>\n",
       "      <td>Consortiumnews.com</td>\n",
       "      <td>Why the Truth Might Get You Fired October 29, ...</td>\n",
       "      <td>1</td>\n",
       "    </tr>\n",
       "    <tr>\n",
       "      <th>3</th>\n",
       "      <td>3</td>\n",
       "      <td>15 Civilians Killed In Single US Airstrike Hav...</td>\n",
       "      <td>Jessica Purkiss</td>\n",
       "      <td>Videos 15 Civilians Killed In Single US Airstr...</td>\n",
       "      <td>1</td>\n",
       "    </tr>\n",
       "    <tr>\n",
       "      <th>4</th>\n",
       "      <td>4</td>\n",
       "      <td>Iranian woman jailed for fictional unpublished...</td>\n",
       "      <td>Howard Portnoy</td>\n",
       "      <td>Print \\nAn Iranian woman has been sentenced to...</td>\n",
       "      <td>1</td>\n",
       "    </tr>\n",
       "  </tbody>\n",
       "</table>\n",
       "</div>"
      ],
      "text/plain": [
       "   id                                              title              author  \\\n",
       "0   0  House Dem Aide: We Didn’t Even See Comey’s Let...       Darrell Lucus   \n",
       "1   1  FLYNN: Hillary Clinton, Big Woman on Campus - ...     Daniel J. Flynn   \n",
       "2   2                  Why the Truth Might Get You Fired  Consortiumnews.com   \n",
       "3   3  15 Civilians Killed In Single US Airstrike Hav...     Jessica Purkiss   \n",
       "4   4  Iranian woman jailed for fictional unpublished...      Howard Portnoy   \n",
       "\n",
       "                                                text  label  \n",
       "0  House Dem Aide: We Didn’t Even See Comey’s Let...      1  \n",
       "1  Ever get the feeling your life circles the rou...      0  \n",
       "2  Why the Truth Might Get You Fired October 29, ...      1  \n",
       "3  Videos 15 Civilians Killed In Single US Airstr...      1  \n",
       "4  Print \\nAn Iranian woman has been sentenced to...      1  "
      ]
     },
     "execution_count": 3,
     "metadata": {},
     "output_type": "execute_result"
    }
   ],
   "source": [
    "df.head()"
   ]
  },
  {
   "cell_type": "markdown",
   "metadata": {
    "papermill": {
     "duration": 0.016859,
     "end_time": "2024-10-28T17:15:25.087777",
     "exception": false,
     "start_time": "2024-10-28T17:15:25.070918",
     "status": "completed"
    },
    "tags": []
   },
   "source": [
    "### Data preprocessing and cleaning"
   ]
  },
  {
   "cell_type": "code",
   "execution_count": 4,
   "metadata": {
    "execution": {
     "iopub.execute_input": "2024-10-28T17:15:25.128239Z",
     "iopub.status.busy": "2024-10-28T17:15:25.127319Z",
     "iopub.status.idle": "2024-10-28T17:15:25.142617Z",
     "shell.execute_reply": "2024-10-28T17:15:25.141898Z"
    },
    "papermill": {
     "duration": 0.038114,
     "end_time": "2024-10-28T17:15:25.142772",
     "exception": false,
     "start_time": "2024-10-28T17:15:25.104658",
     "status": "completed"
    },
    "tags": []
   },
   "outputs": [],
   "source": [
    "#filling NULL values with empty string\n",
    "df=df.fillna('')\n",
    "test=test.fillna('')"
   ]
  },
  {
   "cell_type": "code",
   "execution_count": 5,
   "metadata": {
    "execution": {
     "iopub.execute_input": "2024-10-28T17:15:25.183686Z",
     "iopub.status.busy": "2024-10-28T17:15:25.182914Z",
     "iopub.status.idle": "2024-10-28T17:15:25.220844Z",
     "shell.execute_reply": "2024-10-28T17:15:25.220273Z"
    },
    "papermill": {
     "duration": 0.061254,
     "end_time": "2024-10-28T17:15:25.221036",
     "exception": false,
     "start_time": "2024-10-28T17:15:25.159782",
     "status": "completed"
    },
    "tags": []
   },
   "outputs": [],
   "source": [
    "# We will be only using title and author name for prediction\n",
    "# Creating new coolumn total concatenating title and author\n",
    "df['total'] = df['title']+' '+df['author']\n",
    "test['total']=test['title']+' '+test['author']"
   ]
  },
  {
   "cell_type": "code",
   "execution_count": 6,
   "metadata": {
    "execution": {
     "iopub.execute_input": "2024-10-28T17:15:25.262695Z",
     "iopub.status.busy": "2024-10-28T17:15:25.261971Z",
     "iopub.status.idle": "2024-10-28T17:15:25.273638Z",
     "shell.execute_reply": "2024-10-28T17:15:25.272923Z"
    },
    "papermill": {
     "duration": 0.035356,
     "end_time": "2024-10-28T17:15:25.273795",
     "exception": false,
     "start_time": "2024-10-28T17:15:25.238439",
     "status": "completed"
    },
    "tags": []
   },
   "outputs": [
    {
     "name": "stdout",
     "output_type": "stream",
     "text": [
      "(20800, 5)\n",
      "(20800,)\n"
     ]
    }
   ],
   "source": [
    "X = df.drop('label',axis=1)\n",
    "y=df['label']\n",
    "print(X.shape)\n",
    "print(y.shape)"
   ]
  },
  {
   "cell_type": "code",
   "execution_count": 7,
   "metadata": {
    "execution": {
     "iopub.execute_input": "2024-10-28T17:15:25.314893Z",
     "iopub.status.busy": "2024-10-28T17:15:25.314211Z",
     "iopub.status.idle": "2024-10-28T17:15:25.321454Z",
     "shell.execute_reply": "2024-10-28T17:15:25.320790Z"
    },
    "papermill": {
     "duration": 0.030038,
     "end_time": "2024-10-28T17:15:25.321626",
     "exception": false,
     "start_time": "2024-10-28T17:15:25.291588",
     "status": "completed"
    },
    "tags": []
   },
   "outputs": [],
   "source": [
    "#Choosing vocabulary size to be 5000 and copying data to msg for further cleaning\n",
    "voc_size = 5000\n",
    "msg = X.copy()\n",
    "msg_test = test.copy()"
   ]
  },
  {
   "cell_type": "code",
   "execution_count": 8,
   "metadata": {
    "execution": {
     "iopub.execute_input": "2024-10-28T17:15:25.363168Z",
     "iopub.status.busy": "2024-10-28T17:15:25.362087Z",
     "iopub.status.idle": "2024-10-28T17:15:26.957175Z",
     "shell.execute_reply": "2024-10-28T17:15:26.957767Z"
    },
    "papermill": {
     "duration": 1.618587,
     "end_time": "2024-10-28T17:15:26.957970",
     "exception": false,
     "start_time": "2024-10-28T17:15:25.339383",
     "status": "completed"
    },
    "tags": []
   },
   "outputs": [
    {
     "name": "stdout",
     "output_type": "stream",
     "text": [
      "[nltk_data] Downloading package stopwords to /usr/share/nltk_data...\n",
      "[nltk_data]   Unzipping corpora/stopwords.zip.\n"
     ]
    },
    {
     "data": {
      "text/plain": [
       "True"
      ]
     },
     "execution_count": 8,
     "metadata": {},
     "output_type": "execute_result"
    }
   ],
   "source": [
    "#Downloading stopwords \n",
    "#Stopwords are the words in any language which does not add much meaning to a sentence.\n",
    "#They can safely be ignored without sacrificing the meaning of the sentence.\n",
    "import nltk\n",
    "import re\n",
    "from nltk.corpus import stopwords\n",
    "nltk.download('stopwords')"
   ]
  },
  {
   "cell_type": "code",
   "execution_count": 9,
   "metadata": {
    "execution": {
     "iopub.execute_input": "2024-10-28T17:15:27.002971Z",
     "iopub.status.busy": "2024-10-28T17:15:27.002217Z",
     "iopub.status.idle": "2024-10-28T17:15:27.005435Z",
     "shell.execute_reply": "2024-10-28T17:15:27.004751Z"
    },
    "papermill": {
     "duration": 0.027477,
     "end_time": "2024-10-28T17:15:27.005602",
     "exception": false,
     "start_time": "2024-10-28T17:15:26.978125",
     "status": "completed"
    },
    "tags": []
   },
   "outputs": [],
   "source": [
    "#We will be using Stemming here\n",
    "#Stemming map words to their root forms\n",
    "from nltk.stem.porter import PorterStemmer\n",
    "ps = PorterStemmer()\n",
    "corpus = []"
   ]
  },
  {
   "cell_type": "code",
   "execution_count": 10,
   "metadata": {
    "execution": {
     "iopub.execute_input": "2024-10-28T17:15:27.051366Z",
     "iopub.status.busy": "2024-10-28T17:15:27.050598Z",
     "iopub.status.idle": "2024-10-28T17:16:19.953882Z",
     "shell.execute_reply": "2024-10-28T17:16:19.953212Z"
    },
    "papermill": {
     "duration": 52.92973,
     "end_time": "2024-10-28T17:16:19.954101",
     "exception": false,
     "start_time": "2024-10-28T17:15:27.024371",
     "status": "completed"
    },
    "tags": []
   },
   "outputs": [],
   "source": [
    "# Applying stemming and some preprocessing\n",
    "for i in range(len(msg)):\n",
    "    # Remove all non-alphabetic characters and replace them with spaces\n",
    "    review = re.sub('[^a-zA-Z]', ' ', msg['total'][i])\n",
    "    \n",
    "    # Convert the text to lowercase\n",
    "    review = review.lower()\n",
    "    \n",
    "    # Split the text into individual words\n",
    "    review = review.split()\n",
    "    \n",
    "    # Apply stemming to each word and remove stopwords\n",
    "    review = [ps.stem(word) for word in review if not word in stopwords.words('english')]\n",
    "    \n",
    "    # Join the processed words back into a single string\n",
    "    review = ' '.join(review)\n",
    "    \n",
    "    # Append the processed review to the corpus\n",
    "    corpus.append(review)\n"
   ]
  },
  {
   "cell_type": "code",
   "execution_count": 11,
   "metadata": {
    "execution": {
     "iopub.execute_input": "2024-10-28T17:16:20.000163Z",
     "iopub.status.busy": "2024-10-28T17:16:19.999072Z",
     "iopub.status.idle": "2024-10-28T17:16:33.141095Z",
     "shell.execute_reply": "2024-10-28T17:16:33.140450Z"
    },
    "papermill": {
     "duration": 13.168063,
     "end_time": "2024-10-28T17:16:33.141282",
     "exception": false,
     "start_time": "2024-10-28T17:16:19.973219",
     "status": "completed"
    },
    "tags": []
   },
   "outputs": [],
   "source": [
    "#Applying stemming and some preprocessing for test data\n",
    "corpus_test = []\n",
    "for i in range(len(msg_test)):\n",
    "  review = re.sub('[^a-zA-Z]',' ',msg_test['total'][i])\n",
    "  review = review.lower()\n",
    "  review = review.split()\n",
    "  review = [ps.stem(word) for word in review if not word in stopwords.words('english')]\n",
    "  review = ' '.join(review)\n",
    "  corpus_test.append(review)"
   ]
  },
  {
   "cell_type": "code",
   "execution_count": 12,
   "metadata": {
    "execution": {
     "iopub.execute_input": "2024-10-28T17:16:33.198195Z",
     "iopub.status.busy": "2024-10-28T17:16:33.193027Z",
     "iopub.status.idle": "2024-10-28T17:16:33.745981Z",
     "shell.execute_reply": "2024-10-28T17:16:33.745225Z"
    },
    "papermill": {
     "duration": 0.585785,
     "end_time": "2024-10-28T17:16:33.746151",
     "exception": false,
     "start_time": "2024-10-28T17:16:33.160366",
     "status": "completed"
    },
    "tags": []
   },
   "outputs": [],
   "source": [
    "# Converting to one hot representation\n",
    "onehot_rep = [one_hot(words,voc_size)for words in corpus]\n",
    "onehot_rep_test = [one_hot(words,voc_size)for words in corpus_test]"
   ]
  },
  {
   "cell_type": "code",
   "execution_count": 13,
   "metadata": {
    "execution": {
     "iopub.execute_input": "2024-10-28T17:16:33.791524Z",
     "iopub.status.busy": "2024-10-28T17:16:33.790515Z",
     "iopub.status.idle": "2024-10-28T17:16:33.793850Z",
     "shell.execute_reply": "2024-10-28T17:16:33.794404Z"
    },
    "papermill": {
     "duration": 0.029179,
     "end_time": "2024-10-28T17:16:33.794589",
     "exception": false,
     "start_time": "2024-10-28T17:16:33.765410",
     "status": "completed"
    },
    "tags": []
   },
   "outputs": [
    {
     "data": {
      "text/plain": [
       "[[1699, 214, 4089, 396, 2412, 3683, 307, 2686, 3996, 683, 258, 1691],\n",
       " [2593, 4257, 2665, 4887, 3875, 3505, 3837, 2264, 3600, 2593],\n",
       " [2487, 1565, 4288, 1159, 337, 3304],\n",
       " [680, 3153, 3464, 2914, 4729, 1658, 2220, 39],\n",
       " [4138, 3875, 2045, 15, 2483, 1948, 3875, 200, 2367, 4051, 2487, 2787]]"
      ]
     },
     "execution_count": 13,
     "metadata": {},
     "output_type": "execute_result"
    }
   ],
   "source": [
    "onehot_rep[:5]"
   ]
  },
  {
   "cell_type": "code",
   "execution_count": 14,
   "metadata": {
    "execution": {
     "iopub.execute_input": "2024-10-28T17:16:33.844441Z",
     "iopub.status.busy": "2024-10-28T17:16:33.843401Z",
     "iopub.status.idle": "2024-10-28T17:16:33.964307Z",
     "shell.execute_reply": "2024-10-28T17:16:33.963656Z"
    },
    "papermill": {
     "duration": 0.14965,
     "end_time": "2024-10-28T17:16:33.964499",
     "exception": false,
     "start_time": "2024-10-28T17:16:33.814849",
     "status": "completed"
    },
    "tags": []
   },
   "outputs": [],
   "source": [
    "#Padding Sentences to make them of same size\n",
    "embedded_docs = pad_sequences(onehot_rep,padding='pre',maxlen=25)\n",
    "embedded_docs_test = pad_sequences(onehot_rep_test,padding='pre',maxlen=25)"
   ]
  },
  {
   "cell_type": "code",
   "execution_count": 15,
   "metadata": {
    "execution": {
     "iopub.execute_input": "2024-10-28T17:16:34.014244Z",
     "iopub.status.busy": "2024-10-28T17:16:34.013475Z",
     "iopub.status.idle": "2024-10-28T17:16:34.017385Z",
     "shell.execute_reply": "2024-10-28T17:16:34.017862Z"
    },
    "papermill": {
     "duration": 0.033794,
     "end_time": "2024-10-28T17:16:34.018100",
     "exception": false,
     "start_time": "2024-10-28T17:16:33.984306",
     "status": "completed"
    },
    "tags": []
   },
   "outputs": [
    {
     "data": {
      "text/plain": [
       "array([[   0,    0,    0,    0,    0,    0,    0,    0,    0,    0,    0,\n",
       "           0,    0, 1699,  214, 4089,  396, 2412, 3683,  307, 2686, 3996,\n",
       "         683,  258, 1691],\n",
       "       [   0,    0,    0,    0,    0,    0,    0,    0,    0,    0,    0,\n",
       "           0,    0,    0,    0, 2593, 4257, 2665, 4887, 3875, 3505, 3837,\n",
       "        2264, 3600, 2593],\n",
       "       [   0,    0,    0,    0,    0,    0,    0,    0,    0,    0,    0,\n",
       "           0,    0,    0,    0,    0,    0,    0,    0, 2487, 1565, 4288,\n",
       "        1159,  337, 3304],\n",
       "       [   0,    0,    0,    0,    0,    0,    0,    0,    0,    0,    0,\n",
       "           0,    0,    0,    0,    0,    0,  680, 3153, 3464, 2914, 4729,\n",
       "        1658, 2220,   39],\n",
       "       [   0,    0,    0,    0,    0,    0,    0,    0,    0,    0,    0,\n",
       "           0,    0, 4138, 3875, 2045,   15, 2483, 1948, 3875,  200, 2367,\n",
       "        4051, 2487, 2787]], dtype=int32)"
      ]
     },
     "execution_count": 15,
     "metadata": {},
     "output_type": "execute_result"
    }
   ],
   "source": [
    "embedded_docs[:5]"
   ]
  },
  {
   "cell_type": "markdown",
   "metadata": {
    "papermill": {
     "duration": 0.020696,
     "end_time": "2024-10-28T17:16:34.059405",
     "exception": false,
     "start_time": "2024-10-28T17:16:34.038709",
     "status": "completed"
    },
    "tags": []
   },
   "source": [
    "# Creating and training model"
   ]
  },
  {
   "cell_type": "code",
   "execution_count": 16,
   "metadata": {
    "execution": {
     "iopub.execute_input": "2024-10-28T17:16:34.107377Z",
     "iopub.status.busy": "2024-10-28T17:16:34.106416Z",
     "iopub.status.idle": "2024-10-28T17:16:34.546183Z",
     "shell.execute_reply": "2024-10-28T17:16:34.546816Z"
    },
    "papermill": {
     "duration": 0.467522,
     "end_time": "2024-10-28T17:16:34.547039",
     "exception": false,
     "start_time": "2024-10-28T17:16:34.079517",
     "status": "completed"
    },
    "tags": []
   },
   "outputs": [
    {
     "name": "stdout",
     "output_type": "stream",
     "text": [
      "Model: \"sequential\"\n",
      "_________________________________________________________________\n",
      "Layer (type)                 Output Shape              Param #   \n",
      "=================================================================\n",
      "embedding (Embedding)        (None, 25, 40)            200000    \n",
      "_________________________________________________________________\n",
      "dropout (Dropout)            (None, 25, 40)            0         \n",
      "_________________________________________________________________\n",
      "lstm (LSTM)                  (None, 100)               56400     \n",
      "_________________________________________________________________\n",
      "dropout_1 (Dropout)          (None, 100)               0         \n",
      "_________________________________________________________________\n",
      "dense (Dense)                (None, 64)                6464      \n",
      "_________________________________________________________________\n",
      "dropout_2 (Dropout)          (None, 64)                0         \n",
      "_________________________________________________________________\n",
      "dense_1 (Dense)              (None, 1)                 65        \n",
      "=================================================================\n",
      "Total params: 262,929\n",
      "Trainable params: 262,929\n",
      "Non-trainable params: 0\n",
      "_________________________________________________________________\n",
      "None\n"
     ]
    }
   ],
   "source": [
    "#We have used embedding layers with LSTM\n",
    "model = Sequential()\n",
    "model.add(Embedding(voc_size,40,input_length=25))\n",
    "model.add(Dropout(0.3))\n",
    "model.add(LSTM(100))\n",
    "model.add(Dropout(0.3))\n",
    "model.add(Dense(64,activation='relu'))\n",
    "model.add(Dropout(0.3))\n",
    "model.add(Dense(1,activation='sigmoid'))\n",
    "model.compile(loss='binary_crossentropy',optimizer='adam',metrics=['accuracy'])\n",
    "print(model.summary())"
   ]
  },
  {
   "cell_type": "code",
   "execution_count": 17,
   "metadata": {
    "execution": {
     "iopub.execute_input": "2024-10-28T17:16:34.594205Z",
     "iopub.status.busy": "2024-10-28T17:16:34.593322Z",
     "iopub.status.idle": "2024-10-28T17:16:34.602515Z",
     "shell.execute_reply": "2024-10-28T17:16:34.601697Z"
    },
    "papermill": {
     "duration": 0.03468,
     "end_time": "2024-10-28T17:16:34.602685",
     "exception": false,
     "start_time": "2024-10-28T17:16:34.568005",
     "status": "completed"
    },
    "tags": []
   },
   "outputs": [
    {
     "data": {
      "text/plain": [
       "((20800, 25), (20800,), (5200, 25))"
      ]
     },
     "execution_count": 17,
     "metadata": {},
     "output_type": "execute_result"
    }
   ],
   "source": [
    "#Converting into numpy array\n",
    "X_final = np.array(embedded_docs)\n",
    "y_final = np.array(y)\n",
    "test_final = np.array(embedded_docs_test)\n",
    "X_final.shape,y_final.shape,test_final.shape"
   ]
  },
  {
   "cell_type": "code",
   "execution_count": 18,
   "metadata": {
    "execution": {
     "iopub.execute_input": "2024-10-28T17:16:34.652638Z",
     "iopub.status.busy": "2024-10-28T17:16:34.651579Z",
     "iopub.status.idle": "2024-10-28T17:16:34.655912Z",
     "shell.execute_reply": "2024-10-28T17:16:34.655329Z"
    },
    "papermill": {
     "duration": 0.032299,
     "end_time": "2024-10-28T17:16:34.656115",
     "exception": false,
     "start_time": "2024-10-28T17:16:34.623816",
     "status": "completed"
    },
    "tags": []
   },
   "outputs": [
    {
     "data": {
      "text/plain": [
       "array([[   0,    0,    0,    0,    0,    0,    0,    0,    0,    0,    0,\n",
       "           0,    0, 1699,  214, 4089,  396, 2412, 3683,  307, 2686, 3996,\n",
       "         683,  258, 1691],\n",
       "       [   0,    0,    0,    0,    0,    0,    0,    0,    0,    0,    0,\n",
       "           0,    0,    0,    0, 2593, 4257, 2665, 4887, 3875, 3505, 3837,\n",
       "        2264, 3600, 2593],\n",
       "       [   0,    0,    0,    0,    0,    0,    0,    0,    0,    0,    0,\n",
       "           0,    0,    0,    0,    0,    0,    0,    0, 2487, 1565, 4288,\n",
       "        1159,  337, 3304],\n",
       "       [   0,    0,    0,    0,    0,    0,    0,    0,    0,    0,    0,\n",
       "           0,    0,    0,    0,    0,    0,  680, 3153, 3464, 2914, 4729,\n",
       "        1658, 2220,   39],\n",
       "       [   0,    0,    0,    0,    0,    0,    0,    0,    0,    0,    0,\n",
       "           0,    0, 4138, 3875, 2045,   15, 2483, 1948, 3875,  200, 2367,\n",
       "        4051, 2487, 2787]], dtype=int32)"
      ]
     },
     "execution_count": 18,
     "metadata": {},
     "output_type": "execute_result"
    }
   ],
   "source": [
    "X_final[:5]"
   ]
  },
  {
   "cell_type": "code",
   "execution_count": 19,
   "metadata": {
    "execution": {
     "iopub.execute_input": "2024-10-28T17:16:34.704284Z",
     "iopub.status.busy": "2024-10-28T17:16:34.703533Z",
     "iopub.status.idle": "2024-10-28T17:19:39.870350Z",
     "shell.execute_reply": "2024-10-28T17:19:39.854817Z"
    },
    "papermill": {
     "duration": 185.193104,
     "end_time": "2024-10-28T17:19:39.870578",
     "exception": false,
     "start_time": "2024-10-28T17:16:34.677474",
     "status": "completed"
    },
    "tags": []
   },
   "outputs": [
    {
     "name": "stdout",
     "output_type": "stream",
     "text": [
      "Epoch 1/20\n",
      "325/325 [==============================] - 11s 28ms/step - loss: 0.3310 - accuracy: 0.8194\n",
      "Epoch 2/20\n",
      "325/325 [==============================] - 9s 27ms/step - loss: 0.0215 - accuracy: 0.9940\n",
      "Epoch 3/20\n",
      "325/325 [==============================] - 9s 27ms/step - loss: 0.0079 - accuracy: 0.9982\n",
      "Epoch 4/20\n",
      "325/325 [==============================] - 9s 27ms/step - loss: 0.0049 - accuracy: 0.9989\n",
      "Epoch 5/20\n",
      "325/325 [==============================] - 9s 28ms/step - loss: 0.0036 - accuracy: 0.9988\n",
      "Epoch 6/20\n",
      "325/325 [==============================] - 9s 27ms/step - loss: 0.0022 - accuracy: 0.9993\n",
      "Epoch 7/20\n",
      "325/325 [==============================] - 9s 28ms/step - loss: 0.0020 - accuracy: 0.9994\n",
      "Epoch 8/20\n",
      "325/325 [==============================] - 9s 29ms/step - loss: 0.0019 - accuracy: 0.9994\n",
      "Epoch 9/20\n",
      "325/325 [==============================] - 9s 28ms/step - loss: 0.0013 - accuracy: 0.9996\n",
      "Epoch 10/20\n",
      "325/325 [==============================] - 9s 29ms/step - loss: 0.0021 - accuracy: 0.9995\n",
      "Epoch 11/20\n",
      "325/325 [==============================] - 9s 27ms/step - loss: 0.0010 - accuracy: 0.9997\n",
      "Epoch 12/20\n",
      "325/325 [==============================] - 9s 29ms/step - loss: 5.0616e-04 - accuracy: 0.9998\n",
      "Epoch 13/20\n",
      "325/325 [==============================] - 9s 28ms/step - loss: 7.9414e-04 - accuracy: 0.9998\n",
      "Epoch 14/20\n",
      "325/325 [==============================] - 9s 29ms/step - loss: 4.0557e-04 - accuracy: 0.9999\n",
      "Epoch 15/20\n",
      "325/325 [==============================] - 10s 29ms/step - loss: 0.0011 - accuracy: 0.9996\n",
      "Epoch 16/20\n",
      "325/325 [==============================] - 9s 28ms/step - loss: 1.6704e-04 - accuracy: 1.0000\n",
      "Epoch 17/20\n",
      "325/325 [==============================] - 9s 29ms/step - loss: 0.0016 - accuracy: 0.9996\n",
      "Epoch 18/20\n",
      "325/325 [==============================] - 9s 28ms/step - loss: 5.6033e-05 - accuracy: 1.0000\n",
      "Epoch 19/20\n",
      "325/325 [==============================] - 9s 29ms/step - loss: 3.8637e-05 - accuracy: 1.0000\n",
      "Epoch 20/20\n",
      "325/325 [==============================] - 9s 28ms/step - loss: 1.0940e-04 - accuracy: 1.0000\n"
     ]
    },
    {
     "data": {
      "text/plain": [
       "<tensorflow.python.keras.callbacks.History at 0x7d1f595dd950>"
      ]
     },
     "execution_count": 19,
     "metadata": {},
     "output_type": "execute_result"
    }
   ],
   "source": [
    "#training model\n",
    "model.fit(X_final,y_final,epochs=20,batch_size=64)"
   ]
  },
  {
   "cell_type": "markdown",
   "metadata": {
    "papermill": {
     "duration": 1.059774,
     "end_time": "2024-10-28T17:19:41.925010",
     "exception": false,
     "start_time": "2024-10-28T17:19:40.865236",
     "status": "completed"
    },
    "tags": []
   },
   "source": [
    "## Creating Submission file "
   ]
  },
  {
   "cell_type": "code",
   "execution_count": 20,
   "metadata": {
    "execution": {
     "iopub.execute_input": "2024-10-28T17:19:43.907245Z",
     "iopub.status.busy": "2024-10-28T17:19:43.906318Z",
     "iopub.status.idle": "2024-10-28T17:19:45.566101Z",
     "shell.execute_reply": "2024-10-28T17:19:45.565292Z"
    },
    "papermill": {
     "duration": 2.654918,
     "end_time": "2024-10-28T17:19:45.566280",
     "exception": false,
     "start_time": "2024-10-28T17:19:42.911362",
     "status": "completed"
    },
    "tags": []
   },
   "outputs": [
    {
     "name": "stderr",
     "output_type": "stream",
     "text": [
      "/opt/conda/lib/python3.7/site-packages/tensorflow/python/keras/engine/sequential.py:450: UserWarning: `model.predict_classes()` is deprecated and will be removed after 2021-01-01. Please use instead:* `np.argmax(model.predict(x), axis=-1)`,   if your model does multi-class classification   (e.g. if it uses a `softmax` last-layer activation).* `(model.predict(x) > 0.5).astype(\"int32\")`,   if your model does binary classification   (e.g. if it uses a `sigmoid` last-layer activation).\n",
      "  warnings.warn('`model.predict_classes()` is deprecated and '\n"
     ]
    }
   ],
   "source": [
    "y_pred = model.predict_classes(test_final)"
   ]
  },
  {
   "cell_type": "code",
   "execution_count": 21,
   "metadata": {
    "execution": {
     "iopub.execute_input": "2024-10-28T17:19:47.566063Z",
     "iopub.status.busy": "2024-10-28T17:19:47.565297Z",
     "iopub.status.idle": "2024-10-28T17:19:47.579310Z",
     "shell.execute_reply": "2024-10-28T17:19:47.578536Z"
    },
    "papermill": {
     "duration": 0.996892,
     "end_time": "2024-10-28T17:19:47.579483",
     "exception": false,
     "start_time": "2024-10-28T17:19:46.582591",
     "status": "completed"
    },
    "tags": []
   },
   "outputs": [],
   "source": [
    "final_sub = pd.DataFrame()\n",
    "final_sub['id']=test['id']\n",
    "final_sub['label'] = y_pred\n",
    "final_sub.to_csv('final_sub.csv',index=False)"
   ]
  },
  {
   "cell_type": "code",
   "execution_count": 22,
   "metadata": {
    "execution": {
     "iopub.execute_input": "2024-10-28T17:19:49.547212Z",
     "iopub.status.busy": "2024-10-28T17:19:49.546299Z",
     "iopub.status.idle": "2024-10-28T17:19:49.551534Z",
     "shell.execute_reply": "2024-10-28T17:19:49.550918Z"
    },
    "papermill": {
     "duration": 0.994323,
     "end_time": "2024-10-28T17:19:49.551705",
     "exception": false,
     "start_time": "2024-10-28T17:19:48.557382",
     "status": "completed"
    },
    "tags": []
   },
   "outputs": [
    {
     "data": {
      "text/html": [
       "<div>\n",
       "<style scoped>\n",
       "    .dataframe tbody tr th:only-of-type {\n",
       "        vertical-align: middle;\n",
       "    }\n",
       "\n",
       "    .dataframe tbody tr th {\n",
       "        vertical-align: top;\n",
       "    }\n",
       "\n",
       "    .dataframe thead th {\n",
       "        text-align: right;\n",
       "    }\n",
       "</style>\n",
       "<table border=\"1\" class=\"dataframe\">\n",
       "  <thead>\n",
       "    <tr style=\"text-align: right;\">\n",
       "      <th></th>\n",
       "      <th>id</th>\n",
       "      <th>label</th>\n",
       "    </tr>\n",
       "  </thead>\n",
       "  <tbody>\n",
       "    <tr>\n",
       "      <th>0</th>\n",
       "      <td>20800</td>\n",
       "      <td>0</td>\n",
       "    </tr>\n",
       "    <tr>\n",
       "      <th>1</th>\n",
       "      <td>20801</td>\n",
       "      <td>1</td>\n",
       "    </tr>\n",
       "    <tr>\n",
       "      <th>2</th>\n",
       "      <td>20802</td>\n",
       "      <td>1</td>\n",
       "    </tr>\n",
       "    <tr>\n",
       "      <th>3</th>\n",
       "      <td>20803</td>\n",
       "      <td>0</td>\n",
       "    </tr>\n",
       "    <tr>\n",
       "      <th>4</th>\n",
       "      <td>20804</td>\n",
       "      <td>1</td>\n",
       "    </tr>\n",
       "  </tbody>\n",
       "</table>\n",
       "</div>"
      ],
      "text/plain": [
       "      id  label\n",
       "0  20800      0\n",
       "1  20801      1\n",
       "2  20802      1\n",
       "3  20803      0\n",
       "4  20804      1"
      ]
     },
     "execution_count": 22,
     "metadata": {},
     "output_type": "execute_result"
    }
   ],
   "source": [
    "final_sub.head()"
   ]
  },
  {
   "cell_type": "markdown",
   "metadata": {
    "papermill": {
     "duration": 1.046914,
     "end_time": "2024-10-28T17:19:51.595038",
     "exception": false,
     "start_time": "2024-10-28T17:19:50.548124",
     "status": "completed"
    },
    "tags": []
   },
   "source": [
    "# Conclusion\n",
    "* LSTM with embedding layer works great\n",
    "* The model gives more than 99% accuracy on test data.\n",
    "* Furthermore we can also try vectoriztion or bi-directional LSTM.\n",
    "\n",
    "![](https://st3.depositphotos.com/1998651/13850/v/600/depositphotos_138506364-stock-illustration-cup-of-coffee-with-have.jpg)"
   ]
  },
  {
   "cell_type": "code",
   "execution_count": null,
   "metadata": {
    "papermill": {
     "duration": 0.992081,
     "end_time": "2024-10-28T17:19:53.571896",
     "exception": false,
     "start_time": "2024-10-28T17:19:52.579815",
     "status": "completed"
    },
    "tags": []
   },
   "outputs": [],
   "source": []
  },
  {
   "cell_type": "markdown",
   "metadata": {
    "papermill": {
     "duration": 1.004464,
     "end_time": "2024-10-28T17:19:55.640483",
     "exception": false,
     "start_time": "2024-10-28T17:19:54.636019",
     "status": "completed"
    },
    "tags": []
   },
   "source": []
  }
 ],
 "metadata": {
  "kaggle": {
   "accelerator": "none",
   "dataSources": [
    {
     "databundleVersionId": 109592,
     "sourceId": 8317,
     "sourceType": "competition"
    }
   ],
   "dockerImageVersionId": 30066,
   "isGpuEnabled": false,
   "isInternetEnabled": true,
   "language": "python",
   "sourceType": "notebook"
  },
  "kernelspec": {
   "display_name": "Python 3",
   "language": "python",
   "name": "python3"
  },
  "language_info": {
   "codemirror_mode": {
    "name": "ipython",
    "version": 3
   },
   "file_extension": ".py",
   "mimetype": "text/x-python",
   "name": "python",
   "nbconvert_exporter": "python",
   "pygments_lexer": "ipython3",
   "version": "3.7.9"
  },
  "papermill": {
   "default_parameters": {},
   "duration": 288.515266,
   "end_time": "2024-10-28T17:19:57.963850",
   "environment_variables": {},
   "exception": null,
   "input_path": "__notebook__.ipynb",
   "output_path": "__notebook__.ipynb",
   "parameters": {},
   "start_time": "2024-10-28T17:15:09.448584",
   "version": "2.2.2"
  }
 },
 "nbformat": 4,
 "nbformat_minor": 4
}
