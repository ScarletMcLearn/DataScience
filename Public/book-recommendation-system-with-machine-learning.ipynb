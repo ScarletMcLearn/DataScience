{
 "cells": [
  {
   "cell_type": "markdown",
   "id": "diverse-freight",
   "metadata": {
    "papermill": {
     "duration": 0.020943,
     "end_time": "2021-04-03T10:28:19.498641",
     "exception": false,
     "start_time": "2021-04-03T10:28:19.477698",
     "status": "completed"
    },
    "tags": []
   },
   "source": [
    "![](https://i2.wp.com/thecleverprogrammer.com/wp-content/uploads/2020/05/Data-Science-Project-Book-Recommendation-System-with.png?resize=1024%2C576&ssl=1)"
   ]
  },
  {
   "cell_type": "markdown",
   "id": "curious-postcard",
   "metadata": {
    "papermill": {
     "duration": 0.018984,
     "end_time": "2021-04-03T10:28:19.537137",
     "exception": false,
     "start_time": "2021-04-03T10:28:19.518153",
     "status": "completed"
    },
    "tags": []
   },
   "source": [
    "## Recommendation systems  :\n",
    "are among the most popular applications of data science. They are used to predict the Rating or Preference that a user would give to an item.\n",
    "\n",
    "Almost every major company has applied them in some form or the other: Amazon uses it to suggest products to customers, YouTube uses it to decide which video to play next on auto play, and Facebook uses it to recommend pages to like and people to follow."
   ]
  },
  {
   "cell_type": "markdown",
   "id": "human-springer",
   "metadata": {
    "papermill": {
     "duration": 0.019002,
     "end_time": "2021-04-03T10:28:19.575397",
     "exception": false,
     "start_time": "2021-04-03T10:28:19.556395",
     "status": "completed"
    },
    "tags": []
   },
   "source": [
    "# 1. import library and data"
   ]
  },
  {
   "cell_type": "code",
   "execution_count": 1,
   "id": "solid-claim",
   "metadata": {
    "_cell_guid": "b1076dfc-b9ad-4769-8c92-a6c4dae69d19",
    "_uuid": "8f2839f25d086af736a60e9eeb907d3b93b6e0e5",
    "execution": {
     "iopub.execute_input": "2021-04-03T10:28:19.622109Z",
     "iopub.status.busy": "2021-04-03T10:28:19.621455Z",
     "iopub.status.idle": "2021-04-03T10:28:22.786300Z",
     "shell.execute_reply": "2021-04-03T10:28:22.785512Z"
    },
    "papermill": {
     "duration": 3.191413,
     "end_time": "2021-04-03T10:28:22.786450",
     "exception": false,
     "start_time": "2021-04-03T10:28:19.595037",
     "status": "completed"
    },
    "tags": []
   },
   "outputs": [],
   "source": [
    "import pandas as pd\n",
    "import numpy as np\n",
    "import matplotlib.pyplot as plt\n",
    "books = pd.read_csv('../input/bookcrossing-dataset/Book reviews/Book reviews/BX_Books.csv', sep=';', error_bad_lines=False, encoding=\"latin-1\")\n",
    "books.columns = ['ISBN', 'bookTitle', 'bookAuthor', 'yearOfPublication', 'publisher', 'imageUrlS', 'imageUrlM', 'imageUrlL']\n"
   ]
  },
  {
   "cell_type": "code",
   "execution_count": 2,
   "id": "original-present",
   "metadata": {
    "execution": {
     "iopub.execute_input": "2021-04-03T10:28:22.831278Z",
     "iopub.status.busy": "2021-04-03T10:28:22.830660Z",
     "iopub.status.idle": "2021-04-03T10:28:23.358082Z",
     "shell.execute_reply": "2021-04-03T10:28:23.357404Z"
    },
    "papermill": {
     "duration": 0.551794,
     "end_time": "2021-04-03T10:28:23.358257",
     "exception": false,
     "start_time": "2021-04-03T10:28:22.806463",
     "status": "completed"
    },
    "tags": []
   },
   "outputs": [],
   "source": [
    "users = pd.read_csv('../input/bookcrossing-dataset/Book reviews/Book reviews/BX-Users.csv', sep=';', error_bad_lines=False, encoding=\"latin-1\")\n",
    "users.columns = ['userID', 'Location', 'Age']\n"
   ]
  },
  {
   "cell_type": "code",
   "execution_count": 3,
   "id": "nonprofit-acceptance",
   "metadata": {
    "execution": {
     "iopub.execute_input": "2021-04-03T10:28:23.405577Z",
     "iopub.status.busy": "2021-04-03T10:28:23.404878Z",
     "iopub.status.idle": "2021-04-03T10:28:24.677305Z",
     "shell.execute_reply": "2021-04-03T10:28:24.677812Z"
    },
    "papermill": {
     "duration": 1.298779,
     "end_time": "2021-04-03T10:28:24.677986",
     "exception": false,
     "start_time": "2021-04-03T10:28:23.379207",
     "status": "completed"
    },
    "tags": []
   },
   "outputs": [],
   "source": [
    "ratings = pd.read_csv('../input/bookcrossing-dataset/Book reviews/Book reviews/BX-Book-Ratings.csv', sep=';', error_bad_lines=False, encoding=\"latin-1\")\n",
    "ratings.columns = ['userID', 'ISBN', 'bookRating']\n",
    "\n"
   ]
  },
  {
   "cell_type": "code",
   "execution_count": 4,
   "id": "racial-maximum",
   "metadata": {
    "execution": {
     "iopub.execute_input": "2021-04-03T10:28:24.723435Z",
     "iopub.status.busy": "2021-04-03T10:28:24.722761Z",
     "iopub.status.idle": "2021-04-03T10:28:24.726394Z",
     "shell.execute_reply": "2021-04-03T10:28:24.725571Z"
    },
    "papermill": {
     "duration": 0.028667,
     "end_time": "2021-04-03T10:28:24.726559",
     "exception": false,
     "start_time": "2021-04-03T10:28:24.697892",
     "status": "completed"
    },
    "tags": []
   },
   "outputs": [
    {
     "name": "stdout",
     "output_type": "stream",
     "text": [
      "(1149780, 3)\n",
      "['userID', 'ISBN', 'bookRating']\n"
     ]
    }
   ],
   "source": [
    "print(ratings.shape)\n",
    "print(list(ratings.columns))"
   ]
  },
  {
   "cell_type": "code",
   "execution_count": 5,
   "id": "convertible-prototype",
   "metadata": {
    "execution": {
     "iopub.execute_input": "2021-04-03T10:28:24.787512Z",
     "iopub.status.busy": "2021-04-03T10:28:24.782281Z",
     "iopub.status.idle": "2021-04-03T10:28:25.036731Z",
     "shell.execute_reply": "2021-04-03T10:28:25.037437Z"
    },
    "papermill": {
     "duration": 0.289406,
     "end_time": "2021-04-03T10:28:25.037653",
     "exception": false,
     "start_time": "2021-04-03T10:28:24.748247",
     "status": "completed"
    },
    "tags": []
   },
   "outputs": [
    {
     "data": {
      "image/png": "[encoded data removed]",
      "text/plain": [
       "<Figure size 432x288 with 1 Axes>"
      ]
     },
     "metadata": {
      "needs_background": "light"
     },
     "output_type": "display_data"
    }
   ],
   "source": [
    "plt.rc(\"font\", size=15)\n",
    "ratings.bookRating.value_counts(sort=False).plot(kind='bar')\n",
    "plt.title('Rating Distribution\\n')\n",
    "plt.xlabel('Rating')\n",
    "plt.ylabel('Count')\n",
    "plt.show()"
   ]
  },
  {
   "cell_type": "code",
   "execution_count": 6,
   "id": "miniature-eugene",
   "metadata": {
    "execution": {
     "iopub.execute_input": "2021-04-03T10:28:25.106504Z",
     "iopub.status.busy": "2021-04-03T10:28:25.105680Z",
     "iopub.status.idle": "2021-04-03T10:28:25.111062Z",
     "shell.execute_reply": "2021-04-03T10:28:25.109545Z"
    },
    "papermill": {
     "duration": 0.041991,
     "end_time": "2021-04-03T10:28:25.111261",
     "exception": false,
     "start_time": "2021-04-03T10:28:25.069270",
     "status": "completed"
    },
    "tags": []
   },
   "outputs": [
    {
     "name": "stdout",
     "output_type": "stream",
     "text": [
      "(271379, 8)\n",
      "['ISBN', 'bookTitle', 'bookAuthor', 'yearOfPublication', 'publisher', 'imageUrlS', 'imageUrlM', 'imageUrlL']\n"
     ]
    }
   ],
   "source": [
    "print(books.shape)\n",
    "print(list(books.columns))"
   ]
  },
  {
   "cell_type": "code",
   "execution_count": 7,
   "id": "classified-farming",
   "metadata": {
    "execution": {
     "iopub.execute_input": "2021-04-03T10:28:25.182044Z",
     "iopub.status.busy": "2021-04-03T10:28:25.181317Z",
     "iopub.status.idle": "2021-04-03T10:28:25.186638Z",
     "shell.execute_reply": "2021-04-03T10:28:25.186046Z"
    },
    "papermill": {
     "duration": 0.043226,
     "end_time": "2021-04-03T10:28:25.186792",
     "exception": false,
     "start_time": "2021-04-03T10:28:25.143566",
     "status": "completed"
    },
    "tags": []
   },
   "outputs": [
    {
     "name": "stdout",
     "output_type": "stream",
     "text": [
      "(278858, 3)\n",
      "['userID', 'Location', 'Age']\n"
     ]
    }
   ],
   "source": [
    "print(users.shape)\n",
    "print(list(users.columns))"
   ]
  },
  {
   "cell_type": "code",
   "execution_count": 8,
   "id": "homeless-salmon",
   "metadata": {
    "execution": {
     "iopub.execute_input": "2021-04-03T10:28:25.256450Z",
     "iopub.status.busy": "2021-04-03T10:28:25.253969Z",
     "iopub.status.idle": "2021-04-03T10:28:25.410977Z",
     "shell.execute_reply": "2021-04-03T10:28:25.411641Z"
    },
    "papermill": {
     "duration": 0.203212,
     "end_time": "2021-04-03T10:28:25.411879",
     "exception": false,
     "start_time": "2021-04-03T10:28:25.208667",
     "status": "completed"
    },
    "tags": []
   },
   "outputs": [
    {
     "data": {
      "image/png": "[encoded data removed]",
      "text/plain": [
       "<Figure size 432x288 with 1 Axes>"
      ]
     },
     "metadata": {
      "needs_background": "light"
     },
     "output_type": "display_data"
    }
   ],
   "source": [
    "users.Age.hist(bins=[0, 10, 20, 30, 40, 50, 100])\n",
    "plt.title('Age Distribution\\n')\n",
    "plt.xlabel('Age')\n",
    "plt.ylabel('Count')\n",
    "plt.show()"
   ]
  },
  {
   "cell_type": "markdown",
   "id": "frank-daughter",
   "metadata": {
    "papermill": {
     "duration": 0.033787,
     "end_time": "2021-04-03T10:28:25.479664",
     "exception": false,
     "start_time": "2021-04-03T10:28:25.445877",
     "status": "completed"
    },
    "tags": []
   },
   "source": [
    "### To ensure statistical significance, users with less than 200 ratings, and books with less than 100 ratings are excluded."
   ]
  },
  {
   "cell_type": "code",
   "execution_count": 9,
   "id": "sensitive-address",
   "metadata": {
    "execution": {
     "iopub.execute_input": "2021-04-03T10:28:25.554640Z",
     "iopub.status.busy": "2021-04-03T10:28:25.553362Z",
     "iopub.status.idle": "2021-04-03T10:28:25.710022Z",
     "shell.execute_reply": "2021-04-03T10:28:25.709136Z"
    },
    "papermill": {
     "duration": 0.196335,
     "end_time": "2021-04-03T10:28:25.710192",
     "exception": false,
     "start_time": "2021-04-03T10:28:25.513857",
     "status": "completed"
    },
    "tags": []
   },
   "outputs": [],
   "source": [
    "counts1 = ratings['userID'].value_counts()\n",
    "ratings = ratings[ratings['userID'].isin(counts1[counts1 >= 200].index)]\n",
    "counts = ratings['bookRating'].value_counts()\n",
    "ratings = ratings[ratings['bookRating'].isin(counts[counts >= 100].index)]"
   ]
  },
  {
   "cell_type": "markdown",
   "id": "blocked-control",
   "metadata": {
    "papermill": {
     "duration": 0.034323,
     "end_time": "2021-04-03T10:28:25.779358",
     "exception": false,
     "start_time": "2021-04-03T10:28:25.745035",
     "status": "completed"
    },
    "tags": []
   },
   "source": [
    "## Collaborative Filtering Using k-Nearest Neighbors (kNN)\n",
    "kNN is a machine learning algorithm to find clusters of similar users based on common book ratings, and make predictions using the average rating of top-k nearest neighbors.\n",
    "\n",
    "For example, we first present ratings in a matrix with the matrix having one row for each item (book) and one column for each user."
   ]
  },
  {
   "cell_type": "code",
   "execution_count": 10,
   "id": "bearing-capitol",
   "metadata": {
    "execution": {
     "iopub.execute_input": "2021-04-03T10:28:25.857381Z",
     "iopub.status.busy": "2021-04-03T10:28:25.856001Z",
     "iopub.status.idle": "2021-04-03T10:28:26.766559Z",
     "shell.execute_reply": "2021-04-03T10:28:26.765805Z"
    },
    "papermill": {
     "duration": 0.952225,
     "end_time": "2021-04-03T10:28:26.766742",
     "exception": false,
     "start_time": "2021-04-03T10:28:25.814517",
     "status": "completed"
    },
    "tags": []
   },
   "outputs": [
    {
     "name": "stdout",
     "output_type": "stream",
     "text": [
      "   userID        ISBN  bookRating  \\\n",
      "0  277427  002542730X          10   \n",
      "1    3363  002542730X           0   \n",
      "2   11676  002542730X           6   \n",
      "3   12538  002542730X          10   \n",
      "4   13552  002542730X           0   \n",
      "\n",
      "                                           bookTitle  \n",
      "0  Politically Correct Bedtime Stories: Modern Ta...  \n",
      "1  Politically Correct Bedtime Stories: Modern Ta...  \n",
      "2  Politically Correct Bedtime Stories: Modern Ta...  \n",
      "3  Politically Correct Bedtime Stories: Modern Ta...  \n",
      "4  Politically Correct Bedtime Stories: Modern Ta...  \n"
     ]
    }
   ],
   "source": [
    "combine_book_rating = pd.merge(ratings, books, on='ISBN')\n",
    "columns = ['yearOfPublication', 'publisher', 'bookAuthor', 'imageUrlS', 'imageUrlM', 'imageUrlL']\n",
    "combine_book_rating = combine_book_rating.drop(columns, axis=1)\n",
    "print(combine_book_rating.head())"
   ]
  },
  {
   "cell_type": "markdown",
   "id": "noble-respect",
   "metadata": {
    "papermill": {
     "duration": 0.034673,
     "end_time": "2021-04-03T10:28:26.837447",
     "exception": false,
     "start_time": "2021-04-03T10:28:26.802774",
     "status": "completed"
    },
    "tags": []
   },
   "source": [
    "## Now we will group by book titles and create a new column for total rating count."
   ]
  },
  {
   "cell_type": "code",
   "execution_count": 11,
   "id": "aging-companion",
   "metadata": {
    "execution": {
     "iopub.execute_input": "2021-04-03T10:28:26.923762Z",
     "iopub.status.busy": "2021-04-03T10:28:26.914553Z",
     "iopub.status.idle": "2021-04-03T10:28:27.565656Z",
     "shell.execute_reply": "2021-04-03T10:28:27.564942Z"
    },
    "papermill": {
     "duration": 0.69318,
     "end_time": "2021-04-03T10:28:27.565798",
     "exception": false,
     "start_time": "2021-04-03T10:28:26.872618",
     "status": "completed"
    },
    "tags": []
   },
   "outputs": [
    {
     "name": "stdout",
     "output_type": "stream",
     "text": [
      "                                           bookTitle  totalRatingCount\n",
      "0   A Light in the Storm: The Civil War Diary of ...                 2\n",
      "1                              Always Have Popsicles                 1\n",
      "2               Apple Magic (The Collector's series)                 1\n",
      "3   Beyond IBM: Leadership Marketing and Finance ...                 1\n",
      "4   Clifford Visita El Hospital (Clifford El Gran...                 1\n"
     ]
    }
   ],
   "source": [
    "combine_book_rating = combine_book_rating.dropna(axis = 0, subset = ['bookTitle'])\n",
    "\n",
    "book_ratingCount = (combine_book_rating.\n",
    "     groupby(by = ['bookTitle'])['bookRating'].\n",
    "     count().\n",
    "     reset_index().\n",
    "     rename(columns = {'bookRating': 'totalRatingCount'})\n",
    "     [['bookTitle', 'totalRatingCount']]\n",
    "    )\n",
    "print(book_ratingCount.head())"
   ]
  },
  {
   "cell_type": "markdown",
   "id": "satisfactory-blocking",
   "metadata": {
    "papermill": {
     "duration": 0.023776,
     "end_time": "2021-04-03T10:28:27.613946",
     "exception": false,
     "start_time": "2021-04-03T10:28:27.590170",
     "status": "completed"
    },
    "tags": []
   },
   "source": [
    "### Now we will combine the rating data with the total rating count data, this gives us exactly what we need to find out which books are popular and filter out lesser-known books."
   ]
  },
  {
   "cell_type": "code",
   "execution_count": 12,
   "id": "atmospheric-principle",
   "metadata": {
    "execution": {
     "iopub.execute_input": "2021-04-03T10:28:27.672088Z",
     "iopub.status.busy": "2021-04-03T10:28:27.668995Z",
     "iopub.status.idle": "2021-04-03T10:28:28.048870Z",
     "shell.execute_reply": "2021-04-03T10:28:28.048174Z"
    },
    "papermill": {
     "duration": 0.410897,
     "end_time": "2021-04-03T10:28:28.049000",
     "exception": false,
     "start_time": "2021-04-03T10:28:27.638103",
     "status": "completed"
    },
    "tags": []
   },
   "outputs": [
    {
     "name": "stdout",
     "output_type": "stream",
     "text": [
      "   userID        ISBN  bookRating  \\\n",
      "0  277427  002542730X          10   \n",
      "1    3363  002542730X           0   \n",
      "2   11676  002542730X           6   \n",
      "3   12538  002542730X          10   \n",
      "4   13552  002542730X           0   \n",
      "\n",
      "                                           bookTitle  totalRatingCount  \n",
      "0  Politically Correct Bedtime Stories: Modern Ta...                82  \n",
      "1  Politically Correct Bedtime Stories: Modern Ta...                82  \n",
      "2  Politically Correct Bedtime Stories: Modern Ta...                82  \n",
      "3  Politically Correct Bedtime Stories: Modern Ta...                82  \n",
      "4  Politically Correct Bedtime Stories: Modern Ta...                82  \n",
      "count   160587.000\n",
      "mean         3.044\n",
      "std          7.428\n",
      "min          1.000\n",
      "25%          1.000\n",
      "50%          1.000\n",
      "75%          2.000\n",
      "max        365.000\n",
      "Name: totalRatingCount, dtype: float64\n"
     ]
    }
   ],
   "source": [
    "rating_with_totalRatingCount = combine_book_rating.merge(book_ratingCount, left_on = 'bookTitle', right_on = 'bookTitle', how = 'left')\n",
    "print(rating_with_totalRatingCount.head())\n",
    "\n",
    "pd.set_option('display.float_format', lambda x: '%.3f' % x)\n",
    "print(book_ratingCount['totalRatingCount'].describe())"
   ]
  },
  {
   "cell_type": "code",
   "execution_count": 13,
   "id": "retained-norfolk",
   "metadata": {
    "execution": {
     "iopub.execute_input": "2021-04-03T10:28:28.106283Z",
     "iopub.status.busy": "2021-04-03T10:28:28.105109Z",
     "iopub.status.idle": "2021-04-03T10:28:28.118092Z",
     "shell.execute_reply": "2021-04-03T10:28:28.117574Z"
    },
    "papermill": {
     "duration": 0.044131,
     "end_time": "2021-04-03T10:28:28.118263",
     "exception": false,
     "start_time": "2021-04-03T10:28:28.074132",
     "status": "completed"
    },
    "tags": []
   },
   "outputs": [
    {
     "name": "stdout",
     "output_type": "stream",
     "text": [
      "count   160587.000\n",
      "mean         3.044\n",
      "std          7.428\n",
      "min          1.000\n",
      "25%          1.000\n",
      "50%          1.000\n",
      "75%          2.000\n",
      "max        365.000\n",
      "Name: totalRatingCount, dtype: float64\n"
     ]
    }
   ],
   "source": [
    "pd.set_option('display.float_format', lambda x: '%.3f' % x)\n",
    "print(book_ratingCount['totalRatingCount'].describe())"
   ]
  },
  {
   "cell_type": "code",
   "execution_count": 14,
   "id": "prostate-camcorder",
   "metadata": {
    "execution": {
     "iopub.execute_input": "2021-04-03T10:28:28.174680Z",
     "iopub.status.busy": "2021-04-03T10:28:28.173994Z",
     "iopub.status.idle": "2021-04-03T10:28:28.183564Z",
     "shell.execute_reply": "2021-04-03T10:28:28.184174Z"
    },
    "papermill": {
     "duration": 0.041306,
     "end_time": "2021-04-03T10:28:28.184385",
     "exception": false,
     "start_time": "2021-04-03T10:28:28.143079",
     "status": "completed"
    },
    "tags": []
   },
   "outputs": [
    {
     "name": "stdout",
     "output_type": "stream",
     "text": [
      "0.900    5.000\n",
      "0.910    6.000\n",
      "0.920    7.000\n",
      "0.930    7.000\n",
      "0.940    8.000\n",
      "0.950   10.000\n",
      "0.960   11.000\n",
      "0.970   14.000\n",
      "0.980   19.000\n",
      "0.990   31.000\n",
      "Name: totalRatingCount, dtype: float64\n"
     ]
    }
   ],
   "source": [
    "print(book_ratingCount['totalRatingCount'].quantile(np.arange(.9, 1, .01)))"
   ]
  },
  {
   "cell_type": "code",
   "execution_count": 15,
   "id": "complicated-tournament",
   "metadata": {
    "execution": {
     "iopub.execute_input": "2021-04-03T10:28:28.241959Z",
     "iopub.status.busy": "2021-04-03T10:28:28.241265Z",
     "iopub.status.idle": "2021-04-03T10:28:28.304899Z",
     "shell.execute_reply": "2021-04-03T10:28:28.305395Z"
    },
    "papermill": {
     "duration": 0.094932,
     "end_time": "2021-04-03T10:28:28.305607",
     "exception": false,
     "start_time": "2021-04-03T10:28:28.210675",
     "status": "completed"
    },
    "tags": []
   },
   "outputs": [
    {
     "name": "stdout",
     "output_type": "stream",
     "text": [
      "   userID        ISBN  bookRating  \\\n",
      "0  277427  002542730X          10   \n",
      "1    3363  002542730X           0   \n",
      "2   11676  002542730X           6   \n",
      "3   12538  002542730X          10   \n",
      "4   13552  002542730X           0   \n",
      "\n",
      "                                           bookTitle  totalRatingCount  \n",
      "0  Politically Correct Bedtime Stories: Modern Ta...                82  \n",
      "1  Politically Correct Bedtime Stories: Modern Ta...                82  \n",
      "2  Politically Correct Bedtime Stories: Modern Ta...                82  \n",
      "3  Politically Correct Bedtime Stories: Modern Ta...                82  \n",
      "4  Politically Correct Bedtime Stories: Modern Ta...                82  \n"
     ]
    }
   ],
   "source": [
    "popularity_threshold = 50\n",
    "rating_popular_book = rating_with_totalRatingCount.query('totalRatingCount >= @popularity_threshold')\n",
    "print(rating_popular_book.head())"
   ]
  },
  {
   "cell_type": "markdown",
   "id": "altered-venezuela",
   "metadata": {
    "papermill": {
     "duration": 0.026046,
     "end_time": "2021-04-03T10:28:28.358543",
     "exception": false,
     "start_time": "2021-04-03T10:28:28.332497",
     "status": "completed"
    },
    "tags": []
   },
   "source": [
    "# Filter to users in US and Canada only"
   ]
  },
  {
   "cell_type": "code",
   "execution_count": 16,
   "id": "listed-european",
   "metadata": {
    "execution": {
     "iopub.execute_input": "2021-04-03T10:28:28.417677Z",
     "iopub.status.busy": "2021-04-03T10:28:28.414481Z",
     "iopub.status.idle": "2021-04-03T10:28:28.558487Z",
     "shell.execute_reply": "2021-04-03T10:28:28.558997Z"
    },
    "papermill": {
     "duration": 0.174414,
     "end_time": "2021-04-03T10:28:28.559187",
     "exception": false,
     "start_time": "2021-04-03T10:28:28.384773",
     "status": "completed"
    },
    "tags": []
   },
   "outputs": [
    {
     "name": "stdout",
     "output_type": "stream",
     "text": [
      "   userID        ISBN  bookRating  \\\n",
      "0  277427  002542730X          10   \n",
      "1    3363  002542730X           0   \n",
      "3   12538  002542730X          10   \n",
      "4   13552  002542730X           0   \n",
      "5   16795  002542730X           0   \n",
      "\n",
      "                                           bookTitle  totalRatingCount  \\\n",
      "0  Politically Correct Bedtime Stories: Modern Ta...                82   \n",
      "1  Politically Correct Bedtime Stories: Modern Ta...                82   \n",
      "3  Politically Correct Bedtime Stories: Modern Ta...                82   \n",
      "4  Politically Correct Bedtime Stories: Modern Ta...                82   \n",
      "5  Politically Correct Bedtime Stories: Modern Ta...                82   \n",
      "\n",
      "                        Location  \n",
      "0          gilbert, arizona, usa  \n",
      "1      knoxville, tennessee, usa  \n",
      "3          byron, minnesota, usa  \n",
      "4        cordova, tennessee, usa  \n",
      "5  mechanicsville, maryland, usa  \n"
     ]
    }
   ],
   "source": [
    "combined = rating_popular_book.merge(users, left_on = 'userID', right_on = 'userID', how = 'left')\n",
    "\n",
    "us_canada_user_rating = combined[combined['Location'].str.contains(\"usa|canada\")]\n",
    "us_canada_user_rating=us_canada_user_rating.drop('Age', axis=1)\n",
    "print(us_canada_user_rating.head())"
   ]
  },
  {
   "cell_type": "markdown",
   "id": "metropolitan-trail",
   "metadata": {
    "papermill": {
     "duration": 0.026079,
     "end_time": "2021-04-03T10:28:28.611800",
     "exception": false,
     "start_time": "2021-04-03T10:28:28.585721",
     "status": "completed"
    },
    "tags": []
   },
   "source": [
    "## Implementing kNN\n",
    "We convert our table to a 2D matrix, and fill the missing values with zeros (since we will calculate distances between rating vectors).\n",
    "\n",
    "We then transform the values(ratings) of the matrix dataframe into a scipy sparse matrix for more efficient calculations."
   ]
  },
  {
   "cell_type": "code",
   "execution_count": 17,
   "id": "compatible-coral",
   "metadata": {
    "execution": {
     "iopub.execute_input": "2021-04-03T10:28:28.672912Z",
     "iopub.status.busy": "2021-04-03T10:28:28.672289Z",
     "iopub.status.idle": "2021-04-03T10:28:30.255562Z",
     "shell.execute_reply": "2021-04-03T10:28:30.256248Z"
    },
    "papermill": {
     "duration": 1.618594,
     "end_time": "2021-04-03T10:28:30.256426",
     "exception": false,
     "start_time": "2021-04-03T10:28:28.637832",
     "status": "completed"
    },
    "tags": []
   },
   "outputs": [
    {
     "name": "stdout",
     "output_type": "stream",
     "text": [
      "NearestNeighbors(algorithm='brute', metric='cosine')\n"
     ]
    }
   ],
   "source": [
    "from scipy.sparse import csr_matrix\n",
    "us_canada_user_rating = us_canada_user_rating.drop_duplicates(['userID', 'bookTitle'])\n",
    "us_canada_user_rating_pivot = us_canada_user_rating.pivot(index = 'bookTitle', columns = 'userID', values = 'bookRating').fillna(0)\n",
    "us_canada_user_rating_matrix = csr_matrix(us_canada_user_rating_pivot.values)\n",
    "\n",
    "from sklearn.neighbors import NearestNeighbors\n",
    "\n",
    "model_knn = NearestNeighbors(metric = 'cosine', algorithm = 'brute')\n",
    "model_knn.fit(us_canada_user_rating_matrix)\n",
    "print(model_knn)"
   ]
  },
  {
   "cell_type": "code",
   "execution_count": 18,
   "id": "intellectual-trademark",
   "metadata": {
    "execution": {
     "iopub.execute_input": "2021-04-03T10:28:30.330658Z",
     "iopub.status.busy": "2021-04-03T10:28:30.324520Z",
     "iopub.status.idle": "2021-04-03T10:28:30.350826Z",
     "shell.execute_reply": "2021-04-03T10:28:30.350091Z"
    },
    "papermill": {
     "duration": 0.065819,
     "end_time": "2021-04-03T10:28:30.350964",
     "exception": false,
     "start_time": "2021-04-03T10:28:30.285145",
     "status": "completed"
    },
    "tags": []
   },
   "outputs": [
    {
     "name": "stdout",
     "output_type": "stream",
     "text": [
      "654\n",
      "[[0. 0. 0. 0. 0. 0. 0. 0. 0. 0. 0. 0. 0. 0. 0. 0. 0. 0. 0. 0. 0. 0. 0. 0.\n",
      "  0. 0. 0. 0. 0. 0. 0. 0. 0. 0. 0. 0. 0. 0. 0. 0. 0. 0. 0. 0. 0. 0. 0. 0.\n",
      "  0. 0. 0. 0. 0. 0. 0. 0. 0. 0. 0. 0. 0. 0. 0. 0. 0. 0. 0. 0. 0. 0. 0. 0.\n",
      "  0. 0. 0. 0. 0. 0. 0. 0. 0. 0. 0. 0. 0. 0. 0. 0. 0. 0. 0. 0. 0. 0. 0. 0.\n",
      "  0. 0. 8. 0. 0. 0. 0. 0. 0. 0. 0. 0. 0. 0. 0. 0. 0. 0. 0. 0. 0. 0. 0. 0.\n",
      "  0. 0. 0. 0. 0. 0. 0. 0. 0. 0. 9. 0. 0. 0. 0. 0. 0. 0. 0. 0. 0. 0. 0. 0.\n",
      "  0. 0. 0. 0. 0. 0. 0. 0. 0. 0. 0. 0. 0. 0. 0. 0. 0. 0. 0. 0. 0. 0. 0. 0.\n",
      "  0. 0. 0. 0. 0. 0. 0. 0. 0. 0. 0. 0. 0. 0. 0. 0. 0. 0. 0. 0. 0. 0. 0. 0.\n",
      "  0. 0. 0. 0. 0. 0. 0. 0. 0. 0. 0. 0. 0. 0. 0. 0. 0. 0. 0. 0. 0. 0. 0. 0.\n",
      "  0. 0. 0. 0. 0. 0. 0. 0. 0. 0. 0. 0. 0. 0. 0. 0. 0. 0. 0. 0. 0. 0. 0. 0.\n",
      "  0. 0. 0. 0. 0. 0. 0. 0. 0. 0. 0. 0. 0. 0. 0. 0. 0. 0. 5. 0. 0. 0. 0. 0.\n",
      "  0. 0. 0. 0. 0. 0. 0. 0. 0. 0. 0. 0. 0. 0. 0. 0. 0. 0. 0. 0. 0. 0. 0. 0.\n",
      "  0. 0. 0. 0. 0. 0. 0. 0. 0. 0. 0. 0. 0. 0. 0. 0. 0. 0. 0. 0. 0. 0. 0. 0.\n",
      "  0. 0. 0. 0. 0. 0. 0. 0. 0. 0. 0. 0. 0. 0. 0. 0. 0. 0. 0. 0. 0. 0. 0. 0.\n",
      "  0. 0. 0. 0. 0. 0. 0. 0. 0. 0. 0. 0. 0. 0. 0. 0. 0. 0. 0. 0. 0. 9. 0. 0.\n",
      "  0. 0. 0. 0. 0. 0. 0. 0. 0. 0. 0. 0. 0. 0. 0. 0. 0. 0. 0. 0. 0. 0. 0. 0.\n",
      "  0. 0. 0. 0. 0. 0. 0. 0. 0. 0. 0. 0. 0. 0. 0. 0. 0. 0. 0. 0. 0. 0. 0. 0.\n",
      "  0. 0. 0. 0. 0. 0. 0. 0. 0. 0. 0. 0. 0. 0. 0. 0. 0. 0. 0. 0. 0. 0. 0. 0.\n",
      "  0. 0. 0. 0. 0. 0. 0. 0. 0. 0. 0. 0. 0. 0. 0. 0. 0. 0. 0. 0. 0. 0. 0. 0.\n",
      "  0. 0. 0. 0. 0. 0. 0. 0. 0. 0. 0. 0. 0. 0. 0. 0. 0. 0. 0. 0. 0. 0. 0. 0.\n",
      "  0. 0. 0. 0. 0. 0. 0. 0. 0. 0. 0. 0. 0. 0. 0. 0. 0. 0. 0. 8. 0. 0. 0. 0.\n",
      "  0. 0. 0. 0. 0. 0. 0. 0. 0. 0. 0. 0. 0. 0. 0. 0. 0. 0. 0. 0. 0. 0. 0. 0.\n",
      "  0. 0. 0. 0. 0. 0. 0. 0. 0. 0. 0. 0. 0. 0. 0. 0. 0. 0. 0. 0. 0. 0. 0. 0.\n",
      "  0. 0. 0. 0. 0. 0. 0. 0. 0. 0. 0. 0. 0. 0. 0. 0. 0. 0. 0. 0. 0. 0. 0. 0.\n",
      "  0. 0. 0. 0. 0. 0. 0. 0. 0. 0. 7. 0. 0. 0. 0. 0. 0. 0. 0. 0. 0. 0. 0. 0.\n",
      "  0. 9. 0. 0. 0. 0. 0. 0. 0. 0. 0. 0. 0. 0. 0. 0. 0. 0. 0. 0. 0. 0. 0. 0.\n",
      "  0. 0. 0. 0. 0. 0. 0. 0. 0. 0. 0. 0. 0. 0. 0. 0. 0. 0. 0. 0. 0. 0. 0. 0.\n",
      "  0. 0. 0. 0. 0. 0. 0. 0. 0. 0. 0. 0. 0. 0. 0. 0. 0. 0. 0. 0. 0. 0. 0. 0.\n",
      "  0. 0. 0. 0. 0. 0. 0. 0. 0. 0. 0. 0. 0. 0. 0. 0. 0. 0. 0. 0. 0. 0. 0. 0.\n",
      "  0. 0. 0. 0. 0. 0. 0. 0. 0. 6. 0. 0. 0. 0. 0. 0. 0. 0. 0. 0. 0. 0. 0. 0.\n",
      "  0. 0. 0. 0. 0. 0. 0. 0. 0. 0. 0. 0. 0. 0.]]\n"
     ]
    },
    {
     "data": {
      "text/plain": [
       "'The Sum of All Fears (Jack Ryan Novels)'"
      ]
     },
     "execution_count": 18,
     "metadata": {},
     "output_type": "execute_result"
    }
   ],
   "source": [
    "query_index = np.random.choice(us_canada_user_rating_pivot.shape[0])\n",
    "print(query_index)\n",
    "print(us_canada_user_rating_pivot.iloc[query_index,:].values.reshape(1,-1))\n",
    "distances, indices = model_knn.kneighbors(us_canada_user_rating_pivot.iloc[query_index,:].values.reshape(1, -1), n_neighbors = 6)\n",
    "us_canada_user_rating_pivot.index[query_index]"
   ]
  },
  {
   "cell_type": "code",
   "execution_count": 19,
   "id": "rocky-sterling",
   "metadata": {
    "execution": {
     "iopub.execute_input": "2021-04-03T10:28:30.420419Z",
     "iopub.status.busy": "2021-04-03T10:28:30.419507Z",
     "iopub.status.idle": "2021-04-03T10:28:30.426910Z",
     "shell.execute_reply": "2021-04-03T10:28:30.426161Z"
    },
    "papermill": {
     "duration": 0.045915,
     "end_time": "2021-04-03T10:28:30.427081",
     "exception": false,
     "start_time": "2021-04-03T10:28:30.381166",
     "status": "completed"
    },
    "tags": []
   },
   "outputs": [
    {
     "name": "stdout",
     "output_type": "stream",
     "text": [
      "Recommendations for The Sum of All Fears (Jack Ryan Novels):\n",
      "\n",
      "1: Executive Orders (Jack Ryan Novels), with distance of 0.475603233353294:\n",
      "2: Red Storm Rising, with distance of 0.6239867005197803:\n",
      "3: Debt of Honor (Jack Ryan Novels), with distance of 0.6371505892071658:\n",
      "4: The Cardinal of the Kremlin (Jack Ryan Novels), with distance of 0.7134283750569277:\n",
      "5: Clear and Present Danger (Jack Ryan Novels), with distance of 0.7324223853633107:\n"
     ]
    }
   ],
   "source": [
    "for i in range(0, len(distances.flatten())):\n",
    "    if i == 0:\n",
    "        print('Recommendations for {0}:\\n'.format(us_canada_user_rating_pivot.index[query_index]))\n",
    "    else:\n",
    "        print('{0}: {1}, with distance of {2}:'.format(i, us_canada_user_rating_pivot.index[indices.flatten()[i]], distances.flatten()[i]))"
   ]
  },
  {
   "cell_type": "code",
   "execution_count": null,
   "id": "negative-blind",
   "metadata": {
    "papermill": {
     "duration": 0.04264,
     "end_time": "2021-04-03T10:28:30.506420",
     "exception": false,
     "start_time": "2021-04-03T10:28:30.463780",
     "status": "completed"
    },
    "tags": []
   },
   "outputs": [],
   "source": []
  }
 ],
 "metadata": {
  "kernelspec": {
   "display_name": "Python 3",
   "language": "python",
   "name": "python3"
  },
  "language_info": {
   "codemirror_mode": {
    "name": "ipython",
    "version": 3
   },
   "file_extension": ".py",
   "mimetype": "text/x-python",
   "name": "python",
   "nbconvert_exporter": "python",
   "pygments_lexer": "ipython3",
   "version": "3.7.9"
  },
  "papermill": {
   "default_parameters": {},
   "duration": 18.899825,
   "end_time": "2021-04-03T10:28:31.263538",
   "environment_variables": {},
   "exception": null,
   "input_path": "__notebook__.ipynb",
   "output_path": "__notebook__.ipynb",
   "parameters": {},
   "start_time": "2021-04-03T10:28:12.363713",
   "version": "2.3.2"
  }
 },
 "nbformat": 4,
 "nbformat_minor": 5
}
