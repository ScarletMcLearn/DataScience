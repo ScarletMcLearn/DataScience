{
 "cells": [
  {
   "cell_type": "markdown",
   "metadata": {
    "papermill": {
     "duration": 0.013093,
     "end_time": "2024-11-03T17:29:12.253955",
     "exception": false,
     "start_time": "2024-11-03T17:29:12.240862",
     "status": "completed"
    },
    "tags": []
   },
   "source": [
    "## How the Restaurant Recommendation System Works?\n",
    "\n",
    "The rapid growth in data collection has led to a new era of a data-driven world. Data is used to create more efficient systems and that’s where recommender systems come in.\n",
    "\n",
    "Recommendation systems are a type of information filtering systems because they improve the quality of search results and provide elements that are more relevant to the search item or that are related to the search history of the user.\n",
    "\n",
    "These are active information filtering systems that personalize the information provided to a user based on their interests, relevance of the information, etc. Recommendation systems are widely used to recommend movies, items, restaurants, places to visit, items to buy, etc.\n",
    "\n",
    "There are two types of recommendation systems:\n",
    "\n",
    "1. Content-based filtering\n",
    "2. Collaborative filtering\n",
    "\n",
    "![](https://i0.wp.com/thecleverprogrammer.com/wp-content/uploads/2020/11/1-recommendation.png?resize=1024%2C627&ssl=1)"
   ]
  },
  {
   "cell_type": "markdown",
   "metadata": {
    "papermill": {
     "duration": 0.01139,
     "end_time": "2024-11-03T17:29:12.277408",
     "exception": false,
     "start_time": "2024-11-03T17:29:12.266018",
     "status": "completed"
    },
    "tags": []
   },
   "source": [
    "I will start the task of Restaurant Recommendation System by importing the necessary Python Libraries:"
   ]
  },
  {
   "cell_type": "code",
   "execution_count": 1,
   "metadata": {
    "_cell_guid": "b1076dfc-b9ad-4769-8c92-a6c4dae69d19",
    "_uuid": "8f2839f25d086af736a60e9eeb907d3b93b6e0e5",
    "execution": {
     "iopub.execute_input": "2024-11-03T17:29:12.311040Z",
     "iopub.status.busy": "2024-11-03T17:29:12.310014Z",
     "iopub.status.idle": "2024-11-03T17:29:14.117622Z",
     "shell.execute_reply": "2024-11-03T17:29:14.116696Z"
    },
    "papermill": {
     "duration": 1.827883,
     "end_time": "2024-11-03T17:29:14.117851",
     "exception": false,
     "start_time": "2024-11-03T17:29:12.289968",
     "status": "completed"
    },
    "tags": []
   },
   "outputs": [],
   "source": [
    "import numpy as np\n",
    "import pandas as pd\n",
    "import seaborn as sb\n",
    "import matplotlib.pyplot as plt\n",
    "import seaborn as sns\n",
    "from sklearn.linear_model import LogisticRegression\n",
    "from sklearn.linear_model import LinearRegression\n",
    "from sklearn.model_selection import train_test_split\n",
    "from sklearn.metrics import classification_report\n",
    "from sklearn.metrics import confusion_matrix\n",
    "from sklearn.metrics import r2_score\n",
    "import warnings\n",
    "warnings.filterwarnings('always')\n",
    "warnings.filterwarnings('ignore')\n",
    "import re\n",
    "from nltk.corpus import stopwords\n",
    "from sklearn.metrics.pairwise import linear_kernel\n",
    "from sklearn.feature_extraction.text import CountVectorizer\n",
    "from sklearn.feature_extraction.text import TfidfVectorizer"
   ]
  },
  {
   "cell_type": "markdown",
   "metadata": {
    "papermill": {
     "duration": 0.011562,
     "end_time": "2024-11-03T17:29:14.142018",
     "exception": false,
     "start_time": "2024-11-03T17:29:14.130456",
     "status": "completed"
    },
    "tags": []
   },
   "source": [
    "Now, I will load and read the dataset:"
   ]
  },
  {
   "cell_type": "code",
   "execution_count": 2,
   "metadata": {
    "execution": {
     "iopub.execute_input": "2024-11-03T17:29:14.177256Z",
     "iopub.status.busy": "2024-11-03T17:29:14.174828Z",
     "iopub.status.idle": "2024-11-03T17:29:28.891988Z",
     "shell.execute_reply": "2024-11-03T17:29:28.891198Z"
    },
    "papermill": {
     "duration": 14.73812,
     "end_time": "2024-11-03T17:29:28.892161",
     "exception": false,
     "start_time": "2024-11-03T17:29:14.154041",
     "status": "completed"
    },
    "tags": []
   },
   "outputs": [
    {
     "data": {
      "text/html": [
       "<div>\n",
       "<style scoped>\n",
       "    .dataframe tbody tr th:only-of-type {\n",
       "        vertical-align: middle;\n",
       "    }\n",
       "\n",
       "    .dataframe tbody tr th {\n",
       "        vertical-align: top;\n",
       "    }\n",
       "\n",
       "    .dataframe thead th {\n",
       "        text-align: right;\n",
       "    }\n",
       "</style>\n",
       "<table border=\"1\" class=\"dataframe\">\n",
       "  <thead>\n",
       "    <tr style=\"text-align: right;\">\n",
       "      <th></th>\n",
       "      <th>url</th>\n",
       "      <th>address</th>\n",
       "      <th>name</th>\n",
       "      <th>online_order</th>\n",
       "      <th>book_table</th>\n",
       "      <th>rate</th>\n",
       "      <th>votes</th>\n",
       "      <th>phone</th>\n",
       "      <th>location</th>\n",
       "      <th>rest_type</th>\n",
       "      <th>dish_liked</th>\n",
       "      <th>cuisines</th>\n",
       "      <th>approx_cost(for two people)</th>\n",
       "      <th>reviews_list</th>\n",
       "      <th>menu_item</th>\n",
       "      <th>listed_in(type)</th>\n",
       "      <th>listed_in(city)</th>\n",
       "    </tr>\n",
       "  </thead>\n",
       "  <tbody>\n",
       "    <tr>\n",
       "      <th>0</th>\n",
       "      <td>https://www.zomato.com/bangalore/jalsa-banasha...</td>\n",
       "      <td>942, 21st Main Road, 2nd Stage, Banashankari, ...</td>\n",
       "      <td>Jalsa</td>\n",
       "      <td>Yes</td>\n",
       "      <td>Yes</td>\n",
       "      <td>4.1/5</td>\n",
       "      <td>775</td>\n",
       "      <td>080 42297555\\r\\n+91 9743772233</td>\n",
       "      <td>Banashankari</td>\n",
       "      <td>Casual Dining</td>\n",
       "      <td>Pasta, Lunch Buffet, Masala Papad, Paneer Laja...</td>\n",
       "      <td>North Indian, Mughlai, Chinese</td>\n",
       "      <td>800</td>\n",
       "      <td>[('Rated 4.0', 'RATED\\n  A beautiful place to ...</td>\n",
       "      <td>[]</td>\n",
       "      <td>Buffet</td>\n",
       "      <td>Banashankari</td>\n",
       "    </tr>\n",
       "    <tr>\n",
       "      <th>1</th>\n",
       "      <td>https://www.zomato.com/bangalore/spice-elephan...</td>\n",
       "      <td>2nd Floor, 80 Feet Road, Near Big Bazaar, 6th ...</td>\n",
       "      <td>Spice Elephant</td>\n",
       "      <td>Yes</td>\n",
       "      <td>No</td>\n",
       "      <td>4.1/5</td>\n",
       "      <td>787</td>\n",
       "      <td>080 41714161</td>\n",
       "      <td>Banashankari</td>\n",
       "      <td>Casual Dining</td>\n",
       "      <td>Momos, Lunch Buffet, Chocolate Nirvana, Thai G...</td>\n",
       "      <td>Chinese, North Indian, Thai</td>\n",
       "      <td>800</td>\n",
       "      <td>[('Rated 4.0', 'RATED\\n  Had been here for din...</td>\n",
       "      <td>[]</td>\n",
       "      <td>Buffet</td>\n",
       "      <td>Banashankari</td>\n",
       "    </tr>\n",
       "    <tr>\n",
       "      <th>2</th>\n",
       "      <td>https://www.zomato.com/SanchurroBangalore?cont...</td>\n",
       "      <td>1112, Next to KIMS Medical College, 17th Cross...</td>\n",
       "      <td>San Churro Cafe</td>\n",
       "      <td>Yes</td>\n",
       "      <td>No</td>\n",
       "      <td>3.8/5</td>\n",
       "      <td>918</td>\n",
       "      <td>+91 9663487993</td>\n",
       "      <td>Banashankari</td>\n",
       "      <td>Cafe, Casual Dining</td>\n",
       "      <td>Churros, Cannelloni, Minestrone Soup, Hot Choc...</td>\n",
       "      <td>Cafe, Mexican, Italian</td>\n",
       "      <td>800</td>\n",
       "      <td>[('Rated 3.0', \"RATED\\n  Ambience is not that ...</td>\n",
       "      <td>[]</td>\n",
       "      <td>Buffet</td>\n",
       "      <td>Banashankari</td>\n",
       "    </tr>\n",
       "    <tr>\n",
       "      <th>3</th>\n",
       "      <td>https://www.zomato.com/bangalore/addhuri-udupi...</td>\n",
       "      <td>1st Floor, Annakuteera, 3rd Stage, Banashankar...</td>\n",
       "      <td>Addhuri Udupi Bhojana</td>\n",
       "      <td>No</td>\n",
       "      <td>No</td>\n",
       "      <td>3.7/5</td>\n",
       "      <td>88</td>\n",
       "      <td>+91 9620009302</td>\n",
       "      <td>Banashankari</td>\n",
       "      <td>Quick Bites</td>\n",
       "      <td>Masala Dosa</td>\n",
       "      <td>South Indian, North Indian</td>\n",
       "      <td>300</td>\n",
       "      <td>[('Rated 4.0', \"RATED\\n  Great food and proper...</td>\n",
       "      <td>[]</td>\n",
       "      <td>Buffet</td>\n",
       "      <td>Banashankari</td>\n",
       "    </tr>\n",
       "    <tr>\n",
       "      <th>4</th>\n",
       "      <td>https://www.zomato.com/bangalore/grand-village...</td>\n",
       "      <td>10, 3rd Floor, Lakshmi Associates, Gandhi Baza...</td>\n",
       "      <td>Grand Village</td>\n",
       "      <td>No</td>\n",
       "      <td>No</td>\n",
       "      <td>3.8/5</td>\n",
       "      <td>166</td>\n",
       "      <td>+91 8026612447\\r\\n+91 9901210005</td>\n",
       "      <td>Basavanagudi</td>\n",
       "      <td>Casual Dining</td>\n",
       "      <td>Panipuri, Gol Gappe</td>\n",
       "      <td>North Indian, Rajasthani</td>\n",
       "      <td>600</td>\n",
       "      <td>[('Rated 4.0', 'RATED\\n  Very good restaurant ...</td>\n",
       "      <td>[]</td>\n",
       "      <td>Buffet</td>\n",
       "      <td>Banashankari</td>\n",
       "    </tr>\n",
       "  </tbody>\n",
       "</table>\n",
       "</div>"
      ],
      "text/plain": [
       "                                                 url  \\\n",
       "0  https://www.zomato.com/bangalore/jalsa-banasha...   \n",
       "1  https://www.zomato.com/bangalore/spice-elephan...   \n",
       "2  https://www.zomato.com/SanchurroBangalore?cont...   \n",
       "3  https://www.zomato.com/bangalore/addhuri-udupi...   \n",
       "4  https://www.zomato.com/bangalore/grand-village...   \n",
       "\n",
       "                                             address                   name  \\\n",
       "0  942, 21st Main Road, 2nd Stage, Banashankari, ...                  Jalsa   \n",
       "1  2nd Floor, 80 Feet Road, Near Big Bazaar, 6th ...         Spice Elephant   \n",
       "2  1112, Next to KIMS Medical College, 17th Cross...        San Churro Cafe   \n",
       "3  1st Floor, Annakuteera, 3rd Stage, Banashankar...  Addhuri Udupi Bhojana   \n",
       "4  10, 3rd Floor, Lakshmi Associates, Gandhi Baza...          Grand Village   \n",
       "\n",
       "  online_order book_table   rate  votes                             phone  \\\n",
       "0          Yes        Yes  4.1/5    775    080 42297555\\r\\n+91 9743772233   \n",
       "1          Yes         No  4.1/5    787                      080 41714161   \n",
       "2          Yes         No  3.8/5    918                    +91 9663487993   \n",
       "3           No         No  3.7/5     88                    +91 9620009302   \n",
       "4           No         No  3.8/5    166  +91 8026612447\\r\\n+91 9901210005   \n",
       "\n",
       "       location            rest_type  \\\n",
       "0  Banashankari        Casual Dining   \n",
       "1  Banashankari        Casual Dining   \n",
       "2  Banashankari  Cafe, Casual Dining   \n",
       "3  Banashankari          Quick Bites   \n",
       "4  Basavanagudi        Casual Dining   \n",
       "\n",
       "                                          dish_liked  \\\n",
       "0  Pasta, Lunch Buffet, Masala Papad, Paneer Laja...   \n",
       "1  Momos, Lunch Buffet, Chocolate Nirvana, Thai G...   \n",
       "2  Churros, Cannelloni, Minestrone Soup, Hot Choc...   \n",
       "3                                        Masala Dosa   \n",
       "4                                Panipuri, Gol Gappe   \n",
       "\n",
       "                         cuisines approx_cost(for two people)  \\\n",
       "0  North Indian, Mughlai, Chinese                         800   \n",
       "1     Chinese, North Indian, Thai                         800   \n",
       "2          Cafe, Mexican, Italian                         800   \n",
       "3      South Indian, North Indian                         300   \n",
       "4        North Indian, Rajasthani                         600   \n",
       "\n",
       "                                        reviews_list menu_item  \\\n",
       "0  [('Rated 4.0', 'RATED\\n  A beautiful place to ...        []   \n",
       "1  [('Rated 4.0', 'RATED\\n  Had been here for din...        []   \n",
       "2  [('Rated 3.0', \"RATED\\n  Ambience is not that ...        []   \n",
       "3  [('Rated 4.0', \"RATED\\n  Great food and proper...        []   \n",
       "4  [('Rated 4.0', 'RATED\\n  Very good restaurant ...        []   \n",
       "\n",
       "  listed_in(type) listed_in(city)  \n",
       "0          Buffet    Banashankari  \n",
       "1          Buffet    Banashankari  \n",
       "2          Buffet    Banashankari  \n",
       "3          Buffet    Banashankari  \n",
       "4          Buffet    Banashankari  "
      ]
     },
     "execution_count": 2,
     "metadata": {},
     "output_type": "execute_result"
    }
   ],
   "source": [
    "zomato_real=pd.read_csv(\"../input/zomato-bangalore-dataset/zomato.csv\")\n",
    "zomato_real.head() # prints the first 5 rows of the dataset"
   ]
  },
  {
   "cell_type": "markdown",
   "metadata": {
    "papermill": {
     "duration": 0.012915,
     "end_time": "2024-11-03T17:29:28.918634",
     "exception": false,
     "start_time": "2024-11-03T17:29:28.905719",
     "status": "completed"
    },
    "tags": []
   },
   "source": [
    "Now the next step is data cleaning and feature engineering for this step we need to do a lot of stuff with the data such as:\n",
    "\n",
    "1. Deleting Unnecessary Columns\n",
    "2. Removing the Duplicates\n",
    "3. Remove the NaN values from the dataset\n",
    "4. Changing the column names\n",
    "5. Data Transformations\n",
    "6. Data Cleaning\n",
    "7. Adjust the column names\n",
    "Now, let’s perform all the above steps in our data:"
   ]
  },
  {
   "cell_type": "code",
   "execution_count": 3,
   "metadata": {
    "execution": {
     "iopub.execute_input": "2024-11-03T17:29:28.980989Z",
     "iopub.status.busy": "2024-11-03T17:29:28.977983Z",
     "iopub.status.idle": "2024-11-03T17:31:18.060005Z",
     "shell.execute_reply": "2024-11-03T17:31:18.059138Z"
    },
    "papermill": {
     "duration": 109.128213,
     "end_time": "2024-11-03T17:31:18.060191",
     "exception": false,
     "start_time": "2024-11-03T17:29:28.931978",
     "status": "completed"
    },
    "tags": []
   },
   "outputs": [],
   "source": [
    "#Deleting Unnnecessary Columns\n",
    "zomato=zomato_real.drop(['url','dish_liked','phone'],axis=1) #Dropping the column \"dish_liked\", \"phone\", \"url\" and saving the new dataset as \"zomato\"\n",
    "\n",
    "#Removing the Duplicates\n",
    "zomato.duplicated().sum()\n",
    "zomato.drop_duplicates(inplace=True)\n",
    "\n",
    "#Remove the NaN values from the dataset\n",
    "zomato.isnull().sum()\n",
    "zomato.dropna(how='any',inplace=True)\n",
    "\n",
    "#Changing the column names\n",
    "zomato = zomato.rename(columns={'approx_cost(for two people)':'cost','listed_in(type)':'type', 'listed_in(city)':'city'})\n",
    "\n",
    "#Some Transformations\n",
    "zomato['cost'] = zomato['cost'].astype(str) #Changing the cost to string\n",
    "zomato['cost'] = zomato['cost'].apply(lambda x: x.replace(',','.')) #Using lambda function to replace ',' from cost\n",
    "zomato['cost'] = zomato['cost'].astype(float)\n",
    "#Removing '/5' from Rates\n",
    "zomato = zomato.loc[zomato.rate !='NEW']\n",
    "zomato = zomato.loc[zomato.rate !='-'].reset_index(drop=True)\n",
    "remove_slash = lambda x: x.replace('/5', '') if type(x) == np.str else x\n",
    "zomato.rate = zomato.rate.apply(remove_slash).str.strip().astype('float')\n",
    "\n",
    "# Adjust the column names\n",
    "zomato.name = zomato.name.apply(lambda x:x.title())\n",
    "zomato.online_order.replace(('Yes','No'),(True, False),inplace=True)\n",
    "zomato.book_table.replace(('Yes','No'),(True, False),inplace=True)\n",
    "\n",
    "## Computing Mean Rating\n",
    "restaurants = list(zomato['name'].unique())\n",
    "zomato['Mean Rating'] = 0\n",
    "\n",
    "for i in range(len(restaurants)):\n",
    "    zomato['Mean Rating'][zomato['name'] == restaurants[i]] = zomato['rate'][zomato['name'] == restaurants[i]].mean()\n",
    "    \n",
    "from sklearn.preprocessing import MinMaxScaler\n",
    "scaler = MinMaxScaler(feature_range = (1,5))\n",
    "zomato[['Mean Rating']] = scaler.fit_transform(zomato[['Mean Rating']]).round(2)"
   ]
  },
  {
   "cell_type": "markdown",
   "metadata": {
    "papermill": {
     "duration": 0.012788,
     "end_time": "2024-11-03T17:31:18.086598",
     "exception": false,
     "start_time": "2024-11-03T17:31:18.073810",
     "status": "completed"
    },
    "tags": []
   },
   "source": [
    "Now the next step is to perform some text preprocessing steps which include:\n",
    "\n",
    "1. Lower casing\n",
    "2. Removal of Punctuations\n",
    "3. Removal of Stopwords\n",
    "4. Removal of URLs\n",
    "5. Spelling correction\n",
    "\n",
    "Now let’s perform the above text preprocessing steps on the data:"
   ]
  },
  {
   "cell_type": "code",
   "execution_count": 4,
   "metadata": {
    "execution": {
     "iopub.execute_input": "2024-11-03T17:31:18.130743Z",
     "iopub.status.busy": "2024-11-03T17:31:18.121950Z",
     "iopub.status.idle": "2024-11-03T17:32:32.178666Z",
     "shell.execute_reply": "2024-11-03T17:32:32.179251Z"
    },
    "papermill": {
     "duration": 74.07982,
     "end_time": "2024-11-03T17:32:32.179472",
     "exception": false,
     "start_time": "2024-11-03T17:31:18.099652",
     "status": "completed"
    },
    "tags": []
   },
   "outputs": [
    {
     "data": {
      "text/html": [
       "<div>\n",
       "<style scoped>\n",
       "    .dataframe tbody tr th:only-of-type {\n",
       "        vertical-align: middle;\n",
       "    }\n",
       "\n",
       "    .dataframe tbody tr th {\n",
       "        vertical-align: top;\n",
       "    }\n",
       "\n",
       "    .dataframe thead th {\n",
       "        text-align: right;\n",
       "    }\n",
       "</style>\n",
       "<table border=\"1\" class=\"dataframe\">\n",
       "  <thead>\n",
       "    <tr style=\"text-align: right;\">\n",
       "      <th></th>\n",
       "      <th>reviews_list</th>\n",
       "      <th>cuisines</th>\n",
       "    </tr>\n",
       "  </thead>\n",
       "  <tbody>\n",
       "    <tr>\n",
       "      <th>22244</th>\n",
       "      <td>rated 40 ratedn totally love place cozy little...</td>\n",
       "      <td>Cafe, Healthy Food, Salad, Beverages, Desserts</td>\n",
       "    </tr>\n",
       "    <tr>\n",
       "      <th>21606</th>\n",
       "      <td>rated 10 ratedn ordered falooda good flavour u...</td>\n",
       "      <td>Beverages</td>\n",
       "    </tr>\n",
       "    <tr>\n",
       "      <th>39961</th>\n",
       "      <td>rated 30 ratedn costa personal fav coffee cost...</td>\n",
       "      <td>Cafe</td>\n",
       "    </tr>\n",
       "    <tr>\n",
       "      <th>5687</th>\n",
       "      <td>rated 40 ratedn pls send decent packaging sent...</td>\n",
       "      <td>North Indian, Gujarati</td>\n",
       "    </tr>\n",
       "    <tr>\n",
       "      <th>27413</th>\n",
       "      <td>rated 30 ratedn expected neer dosa n headed re...</td>\n",
       "      <td>Kerala</td>\n",
       "    </tr>\n",
       "  </tbody>\n",
       "</table>\n",
       "</div>"
      ],
      "text/plain": [
       "                                            reviews_list  \\\n",
       "22244  rated 40 ratedn totally love place cozy little...   \n",
       "21606  rated 10 ratedn ordered falooda good flavour u...   \n",
       "39961  rated 30 ratedn costa personal fav coffee cost...   \n",
       "5687   rated 40 ratedn pls send decent packaging sent...   \n",
       "27413  rated 30 ratedn expected neer dosa n headed re...   \n",
       "\n",
       "                                             cuisines  \n",
       "22244  Cafe, Healthy Food, Salad, Beverages, Desserts  \n",
       "21606                                       Beverages  \n",
       "39961                                            Cafe  \n",
       "5687                           North Indian, Gujarati  \n",
       "27413                                          Kerala  "
      ]
     },
     "execution_count": 4,
     "metadata": {},
     "output_type": "execute_result"
    }
   ],
   "source": [
    "## Lower Casing\n",
    "zomato[\"reviews_list\"] = zomato[\"reviews_list\"].str.lower()\n",
    "\n",
    "## Removal of Puctuations\n",
    "import string\n",
    "PUNCT_TO_REMOVE = string.punctuation\n",
    "def remove_punctuation(text):\n",
    "    \"\"\"custom function to remove the punctuation\"\"\"\n",
    "    return text.translate(str.maketrans('', '', PUNCT_TO_REMOVE))\n",
    "\n",
    "zomato[\"reviews_list\"] = zomato[\"reviews_list\"].apply(lambda text: remove_punctuation(text))\n",
    "\n",
    "## Removal of Stopwords\n",
    "from nltk.corpus import stopwords\n",
    "STOPWORDS = set(stopwords.words('english'))\n",
    "def remove_stopwords(text):\n",
    "    \"\"\"custom function to remove the stopwords\"\"\"\n",
    "    return \" \".join([word for word in str(text).split() if word not in STOPWORDS])\n",
    "\n",
    "zomato[\"reviews_list\"] = zomato[\"reviews_list\"].apply(lambda text: remove_stopwords(text))\n",
    "\n",
    "## Removal of URLS\n",
    "def remove_urls(text):\n",
    "    url_pattern = re.compile(r'https?://\\S+|www\\.\\S+')\n",
    "    return url_pattern.sub(r'', text)\n",
    "\n",
    "zomato[\"reviews_list\"] = zomato[\"reviews_list\"].apply(lambda text: remove_urls(text))\n",
    "\n",
    "zomato[['reviews_list', 'cuisines']].sample(5)"
   ]
  },
  {
   "cell_type": "code",
   "execution_count": 5,
   "metadata": {
    "execution": {
     "iopub.execute_input": "2024-11-03T17:32:32.220162Z",
     "iopub.status.busy": "2024-11-03T17:32:32.219290Z",
     "iopub.status.idle": "2024-11-03T17:32:32.242912Z",
     "shell.execute_reply": "2024-11-03T17:32:32.242239Z"
    },
    "papermill": {
     "duration": 0.049787,
     "end_time": "2024-11-03T17:32:32.243075",
     "exception": false,
     "start_time": "2024-11-03T17:32:32.193288",
     "status": "completed"
    },
    "tags": []
   },
   "outputs": [],
   "source": [
    "\n",
    "# RESTAURANT NAMES:\n",
    "restaurant_names = list(zomato['name'].unique())\n",
    "def get_top_words(column, top_nu_of_words, nu_of_word):\n",
    "    vec = CountVectorizer(ngram_range= nu_of_word, stop_words='english')\n",
    "    bag_of_words = vec.fit_transform(column)\n",
    "    sum_words = bag_of_words.sum(axis=0)\n",
    "    words_freq = [(word, sum_words[0, idx]) for word, idx in vec.vocabulary_.items()]\n",
    "    words_freq =sorted(words_freq, key = lambda x: x[1], reverse=True)\n",
    "    return words_freq[:top_nu_of_words]\n",
    "    \n",
    "zomato=zomato.drop(['address','rest_type', 'type', 'menu_item', 'votes'],axis=1)\n",
    "import pandas\n",
    "\n",
    "# Randomly sample 60% of your dataframe\n",
    "df_percent = zomato.sample(frac=0.5)"
   ]
  },
  {
   "cell_type": "markdown",
   "metadata": {
    "papermill": {
     "duration": 0.013896,
     "end_time": "2024-11-03T17:32:32.271176",
     "exception": false,
     "start_time": "2024-11-03T17:32:32.257280",
     "status": "completed"
    },
    "tags": []
   },
   "source": [
    "## TF-IDF Vectorization\n",
    "\n",
    "TF-IDF (Term Frequency-Inverse Document Frequency) vectors for each document. This will give you a matrix where each column represents a word in the general vocabulary (all words that appear in at least one document) and each column represents a restaurant, as before.\n",
    "\n",
    "TF-IDF is the statistical method of assessing the meaning of a word in a given document. Now, I will use the TF-IDF vectorization on the dataset:"
   ]
  },
  {
   "cell_type": "code",
   "execution_count": 6,
   "metadata": {
    "execution": {
     "iopub.execute_input": "2024-11-03T17:32:32.375582Z",
     "iopub.status.busy": "2024-11-03T17:32:32.370209Z",
     "iopub.status.idle": "2024-11-03T17:35:18.191807Z",
     "shell.execute_reply": "2024-11-03T17:35:18.191086Z"
    },
    "papermill": {
     "duration": 165.906645,
     "end_time": "2024-11-03T17:35:18.191993",
     "exception": false,
     "start_time": "2024-11-03T17:32:32.285348",
     "status": "completed"
    },
    "tags": []
   },
   "outputs": [],
   "source": [
    "df_percent.set_index('name', inplace=True)\n",
    "indices = pd.Series(df_percent.index)\n",
    "\n",
    "# Creating tf-idf matrix\n",
    "tfidf = TfidfVectorizer(analyzer='word', ngram_range=(1, 2), min_df=0, stop_words='english')\n",
    "tfidf_matrix = tfidf.fit_transform(df_percent['reviews_list'])\n",
    "\n",
    "cosine_similarities = linear_kernel(tfidf_matrix, tfidf_matrix)"
   ]
  },
  {
   "cell_type": "markdown",
   "metadata": {
    "papermill": {
     "duration": 0.014069,
     "end_time": "2024-11-03T17:35:18.220890",
     "exception": false,
     "start_time": "2024-11-03T17:35:18.206821",
     "status": "completed"
    },
    "tags": []
   },
   "source": [
    "Now the last step for creating a Restaurant Recommendation System is to write a function that will recommend restaurants:"
   ]
  },
  {
   "cell_type": "code",
   "execution_count": 7,
   "metadata": {
    "execution": {
     "iopub.execute_input": "2024-11-03T17:35:18.266223Z",
     "iopub.status.busy": "2024-11-03T17:35:18.265405Z",
     "iopub.status.idle": "2024-11-03T17:35:18.582614Z",
     "shell.execute_reply": "2024-11-03T17:35:18.583205Z"
    },
    "papermill": {
     "duration": 0.348111,
     "end_time": "2024-11-03T17:35:18.583409",
     "exception": false,
     "start_time": "2024-11-03T17:35:18.235298",
     "status": "completed"
    },
    "tags": []
   },
   "outputs": [
    {
     "name": "stdout",
     "output_type": "stream",
     "text": [
      "TOP 8 RESTAURANTS LIKE Pai Vihar WITH SIMILAR REVIEWS: \n"
     ]
    },
    {
     "data": {
      "text/html": [
       "<div>\n",
       "<style scoped>\n",
       "    .dataframe tbody tr th:only-of-type {\n",
       "        vertical-align: middle;\n",
       "    }\n",
       "\n",
       "    .dataframe tbody tr th {\n",
       "        vertical-align: top;\n",
       "    }\n",
       "\n",
       "    .dataframe thead th {\n",
       "        text-align: right;\n",
       "    }\n",
       "</style>\n",
       "<table border=\"1\" class=\"dataframe\">\n",
       "  <thead>\n",
       "    <tr style=\"text-align: right;\">\n",
       "      <th></th>\n",
       "      <th>cuisines</th>\n",
       "      <th>Mean Rating</th>\n",
       "      <th>cost</th>\n",
       "    </tr>\n",
       "  </thead>\n",
       "  <tbody>\n",
       "    <tr>\n",
       "      <th>Gokul Kuteera</th>\n",
       "      <td>North Indian, Chinese, South Indian</td>\n",
       "      <td>3.71</td>\n",
       "      <td>650.0</td>\n",
       "    </tr>\n",
       "    <tr>\n",
       "      <th>Gokul Kuteera</th>\n",
       "      <td>North Indian, Chinese</td>\n",
       "      <td>3.71</td>\n",
       "      <td>650.0</td>\n",
       "    </tr>\n",
       "    <tr>\n",
       "      <th>Cinnamon</th>\n",
       "      <td>North Indian, Asian, Continental</td>\n",
       "      <td>3.62</td>\n",
       "      <td>1.0</td>\n",
       "    </tr>\n",
       "    <tr>\n",
       "      <th>Agarwal Food Service</th>\n",
       "      <td>North Indian, Chinese, Biryani</td>\n",
       "      <td>3.39</td>\n",
       "      <td>400.0</td>\n",
       "    </tr>\n",
       "    <tr>\n",
       "      <th>Sri Krishna Kitchen</th>\n",
       "      <td>Fast Food</td>\n",
       "      <td>3.34</td>\n",
       "      <td>400.0</td>\n",
       "    </tr>\n",
       "    <tr>\n",
       "      <th>Sri Krishna Kitchen</th>\n",
       "      <td>North Indian, Chinese</td>\n",
       "      <td>3.34</td>\n",
       "      <td>350.0</td>\n",
       "    </tr>\n",
       "    <tr>\n",
       "      <th>Melange - Hotel Ekaa</th>\n",
       "      <td>North Indian, Chinese, Continental, Mangalorean</td>\n",
       "      <td>2.81</td>\n",
       "      <td>900.0</td>\n",
       "    </tr>\n",
       "    <tr>\n",
       "      <th>Punjabi Tasty Khana</th>\n",
       "      <td>North Indian, Chinese, Biryani</td>\n",
       "      <td>2.68</td>\n",
       "      <td>450.0</td>\n",
       "    </tr>\n",
       "  </tbody>\n",
       "</table>\n",
       "</div>"
      ],
      "text/plain": [
       "                                                             cuisines  \\\n",
       "Gokul Kuteera                     North Indian, Chinese, South Indian   \n",
       "Gokul Kuteera                                   North Indian, Chinese   \n",
       "Cinnamon                             North Indian, Asian, Continental   \n",
       "Agarwal Food Service                   North Indian, Chinese, Biryani   \n",
       "Sri Krishna Kitchen                                         Fast Food   \n",
       "Sri Krishna Kitchen                             North Indian, Chinese   \n",
       "Melange - Hotel Ekaa  North Indian, Chinese, Continental, Mangalorean   \n",
       "Punjabi Tasty Khana                    North Indian, Chinese, Biryani   \n",
       "\n",
       "                      Mean Rating   cost  \n",
       "Gokul Kuteera                3.71  650.0  \n",
       "Gokul Kuteera                3.71  650.0  \n",
       "Cinnamon                     3.62    1.0  \n",
       "Agarwal Food Service         3.39  400.0  \n",
       "Sri Krishna Kitchen          3.34  400.0  \n",
       "Sri Krishna Kitchen          3.34  350.0  \n",
       "Melange - Hotel Ekaa         2.81  900.0  \n",
       "Punjabi Tasty Khana          2.68  450.0  "
      ]
     },
     "execution_count": 7,
     "metadata": {},
     "output_type": "execute_result"
    }
   ],
   "source": [
    "def recommend(name, cosine_similarities = cosine_similarities):\n",
    "    \n",
    "    # Create a list to put top restaurants\n",
    "    recommend_restaurant = []\n",
    "    \n",
    "    # Find the index of the hotel entered\n",
    "    idx = indices[indices == name].index[0]\n",
    "    \n",
    "    # Find the restaurants with a similar cosine-sim value and order them from bigges number\n",
    "    score_series = pd.Series(cosine_similarities[idx]).sort_values(ascending=False)\n",
    "    \n",
    "    # Extract top 30 restaurant indexes with a similar cosine-sim value\n",
    "    top30_indexes = list(score_series.iloc[0:31].index)\n",
    "    \n",
    "    # Names of the top 30 restaurants\n",
    "    for each in top30_indexes:\n",
    "        recommend_restaurant.append(list(df_percent.index)[each])\n",
    "    \n",
    "    # Creating the new data set to show similar restaurants\n",
    "    df_new = pd.DataFrame(columns=['cuisines', 'Mean Rating', 'cost'])\n",
    "    \n",
    "    # Create the top 30 similar restaurants with some of their columns\n",
    "    for each in recommend_restaurant:\n",
    "        df_new = df_new.append(pd.DataFrame(df_percent[['cuisines','Mean Rating', 'cost']][df_percent.index == each].sample()))\n",
    "    \n",
    "    # Drop the same named restaurants and sort only the top 10 by the highest rating\n",
    "    df_new = df_new.drop_duplicates(subset=['cuisines','Mean Rating', 'cost'], keep=False)\n",
    "    df_new = df_new.sort_values(by='Mean Rating', ascending=False).head(10)\n",
    "    \n",
    "    print('TOP %s RESTAURANTS LIKE %s WITH SIMILAR REVIEWS: ' % (str(len(df_new)), name))\n",
    "    \n",
    "    return df_new\n",
    "recommend('Pai Vihar')"
   ]
  },
  {
   "cell_type": "markdown",
   "metadata": {
    "papermill": {
     "duration": 0.015446,
     "end_time": "2024-11-03T17:35:18.615108",
     "exception": false,
     "start_time": "2024-11-03T17:35:18.599662",
     "status": "completed"
    },
    "tags": []
   },
   "source": [
    "#### As as you can see that we got a fairly good output. So, I hope you liked this article on Machine Learning project on Restaurant Recommendation system with Python programming language. Feel free to ask your valuable questions in the comments section "
   ]
  },
  {
   "cell_type": "code",
   "execution_count": null,
   "metadata": {
    "papermill": {
     "duration": 0.015185,
     "end_time": "2024-11-03T17:35:18.645931",
     "exception": false,
     "start_time": "2024-11-03T17:35:18.630746",
     "status": "completed"
    },
    "tags": []
   },
   "outputs": [],
   "source": []
  }
 ],
 "metadata": {
  "kaggle": {
   "accelerator": "none",
   "dataSources": [
    {
     "datasetId": 926506,
     "sourceId": 1567895,
     "sourceType": "datasetVersion"
    }
   ],
   "dockerImageVersionId": 30066,
   "isGpuEnabled": false,
   "isInternetEnabled": true,
   "language": "python",
   "sourceType": "notebook"
  },
  "kernelspec": {
   "display_name": "Python 3",
   "language": "python",
   "name": "python3"
  },
  "language_info": {
   "codemirror_mode": {
    "name": "ipython",
    "version": 3
   },
   "file_extension": ".py",
   "mimetype": "text/x-python",
   "name": "python",
   "nbconvert_exporter": "python",
   "pygments_lexer": "ipython3",
   "version": "3.7.9"
  },
  "papermill": {
   "default_parameters": {},
   "duration": 374.972569,
   "end_time": "2024-11-03T17:35:20.828750",
   "environment_variables": {},
   "exception": null,
   "input_path": "__notebook__.ipynb",
   "output_path": "__notebook__.ipynb",
   "parameters": {},
   "start_time": "2024-11-03T17:29:05.856181",
   "version": "2.2.2"
  }
 },
 "nbformat": 4,
 "nbformat_minor": 4
}
