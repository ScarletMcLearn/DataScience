{
 "cells": [
  {
   "cell_type": "code",
   "execution_count": 1,
   "id": "a324207a-e2c9-4a96-9ddb-8d3b34e807b9",
   "metadata": {
    "tags": []
   },
   "outputs": [],
   "source": [
    "from BDShare.BDShare import * "
   ]
  },
  {
   "cell_type": "code",
   "execution_count": 4,
   "id": "2d19ac37-d68b-4308-a044-d0158906887f",
   "metadata": {
    "tags": []
   },
   "outputs": [],
   "source": [
    "###################################################################\n",
    "#\n",
    "#\n",
    "# ############### Import necessary libraries\n",
    "#\n",
    "#\n",
    "###################################################################\n",
    "import requests\n",
    "from bs4 import BeautifulSoup\n",
    "from functools import partial\n",
    "from random import randint\n",
    "import time, random\n",
    "from datetime import datetime\n",
    "import random\n",
    "from tqdm import tqdm\n",
    "import pandas as pd\n",
    "# from selenium.webdriver.support.wait import WebDriverWait\n",
    "# from selenium.webdriver.support import expected_conditions as EC\n",
    "# from datetime import datetime, timedelta\n",
    "import re\n",
    "\n",
    "\n",
    "\n",
    "\n",
    "###################################################################\n",
    "#\n",
    "#\n",
    "# ########## Get Company Data\n",
    "#\n",
    "#\n",
    "####################################################################\n",
    "debug = False\n",
    "def get_co_data(co_name):\n",
    "    user_agents = [\n",
    "        \"Mozilla/5.0 (Windows NT 10.0; Win64; x64) AppleWebKit/537.36 (KHTML, like Gecko) Chrome/91.0.4472.124 Safari/537.36\",\n",
    "        \"Mozilla/5.0 (Windows NT 10.0; Win64; x64; rv:89.0) Gecko/20100101 Firefox/89.0\",\n",
    "        \"Mozilla/5.0 (Macintosh; Intel Mac OS X 10_15_7) AppleWebKit/537.36 (KHTML, like Gecko) Chrome/91.0.4472.124 Safari/537.36\",\n",
    "        \"Mozilla/5.0 (Macintosh; Intel Mac OS X 10_15_7) AppleWebKit/537.36 (KHTML, like Gecko) Chrome/91.0.4472.124 Safari/537.36\",\n",
    "        \"Mozilla/5.0 (X11; Ubuntu; Linux x86_64; rv:89.0) Gecko/20100101 Firefox/89.0\",\n",
    "        \"Mozilla/5.0 (X11; Linux x86_64) AppleWebKit/537.36 (KHTML, like Gecko) Chrome/91.0.4472.124 Safari/537.36\",\n",
    "        \"Mozilla/5.0 (X11; Linux x86_64) AppleWebKit/537.36 (KHTML, like Gecko) Chrome/91.0.4472.124 Safari/537.36\",\n",
    "        \"Mozilla/5.0 (Windows NT 10.0; Win64; x64) AppleWebKit/537.36 (KHTML, like Gecko) Chrome/91.0.4472.124 Safari/537.36\",\n",
    "        \"Mozilla/5.0 (Windows NT 10.0; Win64; x64; rv:89.0) Gecko/20100101 Firefox/89.0\",\n",
    "        \"Mozilla/5.0 (Windows NT 10.0; Win64; x64) AppleWebKit/537.36 (KHTML, like Gecko) Chrome/91.0.4472.124 Safari/537.36\",\n",
    "        \"Mozilla/5.0 (Windows NT 10.0; Win64; x64; rv:89.0) Gecko/20100101 Firefox/89.0\",\n",
    "        \"Mozilla/5.0 (Windows NT 10.0; Win64; x64) AppleWebKit/537.36 (KHTML, like Gecko) Chrome/91.0.4472.124 Safari/537.36\",\n",
    "        \"Mozilla/5.0 (Windows NT 10.0; Win64; x64; rv:89.0) Gecko/20100101 Firefox/89.0\",\n",
    "        \"Mozilla/5.0 (Windows NT 10.0; Win64; x64) AppleWebKit/537.36 (KHTML, like Gecko) Chrome/91.0.4472.124 Safari/537.36\",\n",
    "        \"Mozilla/5.0 (Windows NT 10.0; Win64; x64; rv:89.0) Gecko/20100101 Firefox/89.0\",\n",
    "        \"Mozilla/5.0 (Windows NT 10.0; Win64; x64) AppleWebKit/537.36 (KHTML, like Gecko) Chrome/91.0.4472.124 Safari/537.36\",\n",
    "        \"Mozilla/5.0 (Windows NT 10.0; Win64; x64; rv:89.0) Gecko/20100101 Firefox/89.0\",\n",
    "        \"Mozilla/5.0 (Windows NT 10.0; Win64; x64) AppleWebKit/537.36 (KHTML, like Gecko) Chrome/91.0.4472.124 Safari/537.36\",\n",
    "        \"Mozilla/5.0 (Windows NT 10.0; Win64; x64; rv:89.0) Gecko/20100101 Firefox/89.0\",\n",
    "        \"Mozilla/5.0 (Windows NT 10.0; Win64; x64) AppleWebKit/537.36 (KHTML, like Gecko) Chrome/91.0.4472.124 Safari/537.36\",\n",
    "        \"Mozilla/5.0 (Windows NT 10.0; Win64; x64; rv:89.0) Gecko/20100101 Firefox/89.0\",\n",
    "        \"Mozilla/5.0 (Windows NT 10.0; Win64; x64) AppleWebKit/537.36 (KHTML, like Gecko) Chrome/91.0.4472.124 Safari/537.36\",\n",
    "        \"Mozilla/5.0 (Windows NT 10.0; Win64; x64; rv:89.0) Gecko/20100101 Firefox/89.0\",\n",
    "        \"Mozilla/5.0 (Windows NT 10.0; Win64; x64) AppleWebKit/537.36 (KHTML, like Gecko) Chrome/91.0.4472.124 Safari/537.36\",\n",
    "        \"Mozilla/5.0 (Windows NT 10.0; Win64; x64; rv:89.0) Gecko/20100101 Firefox/89.0\",\n",
    "        # Add more user agents here...\n",
    "        # ...\n",
    "    ]\n",
    "    \n",
    "    \n",
    "    \n",
    "    # Randomly select a user agent\n",
    "    random_user_agent = random.choice(user_agents)\n",
    "    \n",
    "    # Create a session object\n",
    "    session = requests.Session()\n",
    "    \n",
    "    # Set the user agent as a header for the session\n",
    "    session.headers.update({'User-Agent': random_user_agent,\n",
    "                            'Accept': 'text/plain'})\n",
    "    \n",
    "    url = 'https://www.dsebd.org/latest_share_price_scroll_l.php'\n",
    "    \n",
    "    # Make a request using the session\n",
    "    response = session.get(url)\n",
    "    \n",
    "    \n",
    "    \n",
    "    # soup = BeautifulSoup(response.text)\n",
    "    html_content = response.content\n",
    "    \n",
    "    # Parse the HTML content with BeautifulSoup\n",
    "    soup = BeautifulSoup(html_content, 'html.parser')\n",
    "\n",
    "    all_tr = soup.findAll('div', class_='table-responsive inner-scroll')[0].findAll('tr')\n",
    "    \n",
    "    tmp_c = 0\n",
    "    \n",
    "    for j in all_tr[1:]:   \n",
    "        curr_tr_data = j.findAll('td')\n",
    "        for i in range(len(curr_tr_data)):\n",
    "            if i == 0:\n",
    "                if debug==True:\n",
    "                    print(str(i) , \" : \", curr_tr_data[i])\n",
    "                serial=curr_tr_data[i].text\n",
    "                pass\n",
    "            if i % 10 == 0:\n",
    "                if debug==True:\n",
    "                    print(str(i) , \" : \", curr_tr_data[i])\n",
    "                if curr_tr_data[i].text == '--':\n",
    "                    volume = 0\n",
    "                else: \n",
    "                    volume = float(curr_tr_data[i].text.replace(',', ''))\n",
    "                pass\n",
    "            elif i % 9 == 0:\n",
    "                if debug==True:\n",
    "                    print(str(i) , \" : \", curr_tr_data[i])\n",
    "                if curr_tr_data[i].text == '--':\n",
    "                    value_of_trades = 0\n",
    "                else: \n",
    "                    value_of_trades = float(curr_tr_data[i].text.replace(',', ''))\n",
    "                pass\n",
    "            elif i % 8 == 0:\n",
    "                if debug==True:\n",
    "                    print(str(i) , \" : \", curr_tr_data[i])\n",
    "                if curr_tr_data[i].text == '--':\n",
    "                    number_of_trades = 0\n",
    "                else: \n",
    "                    number_of_trades = float(curr_tr_data[i].text.replace(',', ''))\n",
    "                pass\n",
    "            elif i % 7 == 0:\n",
    "                if debug==True:\n",
    "                    print(str(i) , \" : \", curr_tr_data[i])\n",
    "                if curr_tr_data[i].text == '--':\n",
    "                    percentage_change = 0\n",
    "                else: \n",
    "                    percentage_change = float(curr_tr_data[i].text.replace(',', ''))\n",
    "                pass\n",
    "            elif i % 6 == 0:\n",
    "                if debug==True:\n",
    "                    print(str(i) , \" : \", curr_tr_data[i])\n",
    "                if curr_tr_data[i].text == '--':\n",
    "                    yesterday_close_price = 0\n",
    "                else: \n",
    "                    yesterday_close_price = float(curr_tr_data[i].text.replace(',', ''))\n",
    "                pass\n",
    "            elif i % 5 == 0:\n",
    "                if debug==True:\n",
    "                    print(str(i) , \" : \", curr_tr_data[i])\n",
    "                if curr_tr_data[i].text == '--':\n",
    "                    close_price = 0\n",
    "                else:\n",
    "                    close_price = float(curr_tr_data[i].text.replace(',', '')) \n",
    "                pass\n",
    "            elif i % 4 == 0:\n",
    "                if debug==True:\n",
    "                    print(str(i) , \" : \", curr_tr_data[i])\n",
    "                if curr_tr_data[i].text == '--':\n",
    "                    last_low = 0\n",
    "                else:\n",
    "                    last_low = float(curr_tr_data[i].text.replace(',', ''))\n",
    "                pass\n",
    "            elif i % 3 == 0:\n",
    "                if debug==True:\n",
    "                    print(str(i) , \" : \", curr_tr_data[i])\n",
    "                if curr_tr_data[i].text == '--':\n",
    "                    last_high = 0\n",
    "                else:\n",
    "                    last_high = float(curr_tr_data[i].text.replace(',', ''))\n",
    "                pass\n",
    "            elif i % 2 == 0:\n",
    "                if debug==True:\n",
    "                    print(str(i) , \" : \", curr_tr_data[i])\n",
    "                if curr_tr_data[i].text == '--':\n",
    "                    last_trading_price = 0\n",
    "                else:\n",
    "                    last_trading_price = float(curr_tr_data[i].text.replace(',', ''))\n",
    "                pass\n",
    "            elif i % 1 == 0:\n",
    "                if debug==True:\n",
    "                    print(str(i) , \" : \", curr_tr_data[i])\n",
    "                if curr_tr_data[i].text == '--':\n",
    "                    trading_code = 'None'\n",
    "                else:\n",
    "                    trading_code = re.sub(r'[^a-zA-Z0-9]', '', curr_tr_data[i].text)\n",
    "                pass\n",
    "                \n",
    "        curr_co_data = {\n",
    "                        'serial':serial,\n",
    "                        'trading_code':trading_code,\n",
    "                        'last_trading_price':last_trading_price,\n",
    "                        'last_high':last_high,\n",
    "                        'last_low':last_low,\n",
    "                        'close_price':close_price,\n",
    "                        'yesterday_close_price':yesterday_close_price,\n",
    "                        'percentage_change':percentage_change,\n",
    "                        'number_of_trades':number_of_trades,\n",
    "                        'value_of_trades':value_of_trades,\n",
    "                        'volume':volume,                    \n",
    "                        }\n",
    "            # continue\n",
    "        tmp_c=tmp_c+1\n",
    "        if trading_code == co_name:\n",
    "            if debug==True:\n",
    "                print('Breaking')\n",
    "            return curr_co_data\n",
    "            break\n",
    "\n"
   ]
  },
  {
   "cell_type": "code",
   "execution_count": 28,
   "id": "fa2755bf-d6e6-4692-adc1-9b371312f871",
   "metadata": {
    "tags": []
   },
   "outputs": [],
   "source": [
    "user_agents = [\n",
    "        \"Mozilla/5.0 (Windows NT 10.0; Win64; x64) AppleWebKit/537.36 (KHTML, like Gecko) Chrome/91.0.4472.124 Safari/537.36\",\n",
    "        \"Mozilla/5.0 (Windows NT 10.0; Win64; x64; rv:89.0) Gecko/20100101 Firefox/89.0\",\n",
    "        \"Mozilla/5.0 (Macintosh; Intel Mac OS X 10_15_7) AppleWebKit/537.36 (KHTML, like Gecko) Chrome/91.0.4472.124 Safari/537.36\",\n",
    "        \"Mozilla/5.0 (Macintosh; Intel Mac OS X 10_15_7) AppleWebKit/537.36 (KHTML, like Gecko) Chrome/91.0.4472.124 Safari/537.36\",\n",
    "        \"Mozilla/5.0 (X11; Ubuntu; Linux x86_64; rv:89.0) Gecko/20100101 Firefox/89.0\",\n",
    "        \"Mozilla/5.0 (X11; Linux x86_64) AppleWebKit/537.36 (KHTML, like Gecko) Chrome/91.0.4472.124 Safari/537.36\",\n",
    "        \"Mozilla/5.0 (X11; Linux x86_64) AppleWebKit/537.36 (KHTML, like Gecko) Chrome/91.0.4472.124 Safari/537.36\",\n",
    "        \"Mozilla/5.0 (Windows NT 10.0; Win64; x64) AppleWebKit/537.36 (KHTML, like Gecko) Chrome/91.0.4472.124 Safari/537.36\",\n",
    "        \"Mozilla/5.0 (Windows NT 10.0; Win64; x64; rv:89.0) Gecko/20100101 Firefox/89.0\",\n",
    "        \"Mozilla/5.0 (Windows NT 10.0; Win64; x64) AppleWebKit/537.36 (KHTML, like Gecko) Chrome/91.0.4472.124 Safari/537.36\",\n",
    "        \"Mozilla/5.0 (Windows NT 10.0; Win64; x64; rv:89.0) Gecko/20100101 Firefox/89.0\",\n",
    "        \"Mozilla/5.0 (Windows NT 10.0; Win64; x64) AppleWebKit/537.36 (KHTML, like Gecko) Chrome/91.0.4472.124 Safari/537.36\",\n",
    "        \"Mozilla/5.0 (Windows NT 10.0; Win64; x64; rv:89.0) Gecko/20100101 Firefox/89.0\",\n",
    "        \"Mozilla/5.0 (Windows NT 10.0; Win64; x64) AppleWebKit/537.36 (KHTML, like Gecko) Chrome/91.0.4472.124 Safari/537.36\",\n",
    "        \"Mozilla/5.0 (Windows NT 10.0; Win64; x64; rv:89.0) Gecko/20100101 Firefox/89.0\",\n",
    "        \"Mozilla/5.0 (Windows NT 10.0; Win64; x64) AppleWebKit/537.36 (KHTML, like Gecko) Chrome/91.0.4472.124 Safari/537.36\",\n",
    "        \"Mozilla/5.0 (Windows NT 10.0; Win64; x64; rv:89.0) Gecko/20100101 Firefox/89.0\",\n",
    "        \"Mozilla/5.0 (Windows NT 10.0; Win64; x64) AppleWebKit/537.36 (KHTML, like Gecko) Chrome/91.0.4472.124 Safari/537.36\",\n",
    "        \"Mozilla/5.0 (Windows NT 10.0; Win64; x64; rv:89.0) Gecko/20100101 Firefox/89.0\",\n",
    "        \"Mozilla/5.0 (Windows NT 10.0; Win64; x64) AppleWebKit/537.36 (KHTML, like Gecko) Chrome/91.0.4472.124 Safari/537.36\",\n",
    "        \"Mozilla/5.0 (Windows NT 10.0; Win64; x64; rv:89.0) Gecko/20100101 Firefox/89.0\",\n",
    "        \"Mozilla/5.0 (Windows NT 10.0; Win64; x64) AppleWebKit/537.36 (KHTML, like Gecko) Chrome/91.0.4472.124 Safari/537.36\",\n",
    "        \"Mozilla/5.0 (Windows NT 10.0; Win64; x64; rv:89.0) Gecko/20100101 Firefox/89.0\",\n",
    "        \"Mozilla/5.0 (Windows NT 10.0; Win64; x64) AppleWebKit/537.36 (KHTML, like Gecko) Chrome/91.0.4472.124 Safari/537.36\",\n",
    "        \"Mozilla/5.0 (Windows NT 10.0; Win64; x64; rv:89.0) Gecko/20100101 Firefox/89.0\",\n",
    "        # Add more user agents here...\n",
    "        # ...\n",
    "    ]\n",
    "    \n",
    "    \n",
    "    \n",
    "# Randomly select a user agent\n",
    "random_user_agent = random.choice(user_agents)\n",
    "    \n",
    "# Create a session object\n",
    "session = requests.Session()\n",
    "    \n",
    "# Set the user agent as a header for the session\n",
    "session.headers.update({'User-Agent': random_user_agent,\n",
    "                            'Accept': 'text/plain'})\n",
    "    \n",
    "url = 'https://www.dsebd.org/latest_share_price_scroll_l.php'\n",
    "\n",
    "url = 'https://dsebd.org/top_ten_loser.php'\n",
    "    \n",
    "# Make a request using the session\n",
    "response = session.get(url)\n",
    "    \n",
    "    \n",
    "    \n",
    "# soup = BeautifulSoup(response.text)\n",
    "html_content = response.content\n",
    "    \n",
    "# Parse the HTML content with BeautifulSoup\n",
    "soup = BeautifulSoup(html_content, 'html.parser')\n",
    "\n",
    "# all_tr = soup.findAll('div', class_='table-responsive inner-scroll')[0].findAll('tr')\n",
    "    \n",
    "tmp_c = 0"
   ]
  },
  {
   "cell_type": "code",
   "execution_count": 29,
   "id": "ecbee434-2eb2-42f6-a10e-002965ed9be6",
   "metadata": {
    "tags": []
   },
   "outputs": [
    {
     "data": {
      "text/plain": [
       "3"
      ]
     },
     "execution_count": 29,
     "metadata": {},
     "output_type": "execute_result"
    }
   ],
   "source": [
    "len(\n",
    "    soup.findAll('div', class_='table-responsive')\n",
    ")"
   ]
  },
  {
   "cell_type": "code",
   "execution_count": 30,
   "id": "5944a517-38fd-46a3-bd49-b646d2b82cfe",
   "metadata": {
    "tags": []
   },
   "outputs": [],
   "source": [
    "tables = soup.findAll('div', class_='table-responsive')"
   ]
  },
  {
   "cell_type": "code",
   "execution_count": 31,
   "id": "15e4946e-6987-47b2-bb8a-64494f25197d",
   "metadata": {
    "tags": []
   },
   "outputs": [
    {
     "data": {
      "text/plain": [
       "<tr>\n",
       "<td width=\"4%\">1</td>\n",
       "<td width=\"15%\">\n",
       "<a class=\"ab1\" href=\"displayCompany.php?name=KBPPWBIL\">\n",
       "\t\t\t\t\t\t\t\t\t\t\t\tKBPPWBIL\t\t\t\t\t\t\t\t\t\t\t</a>\n",
       "</td>\n",
       "<td width=\"10%\">24.9</td>\n",
       "<td width=\"10%\">27.6</td>\n",
       "<td width=\"12%\">24.6</td>\n",
       "<td width=\"11%\">27.2</td>\n",
       "<td class=\"background-yellow\" width=\"12%\">-8.4559</td>\n",
       "</tr>"
      ]
     },
     "execution_count": 31,
     "metadata": {},
     "output_type": "execute_result"
    }
   ],
   "source": [
    "tables[0].findAll('tr')[1]"
   ]
  },
  {
   "cell_type": "code",
   "execution_count": 32,
   "id": "ff53d6af-8b85-42e4-b8a0-e55ec0469648",
   "metadata": {
    "tags": []
   },
   "outputs": [
    {
     "data": {
      "text/plain": [
       "'MEGHNAPET'"
      ]
     },
     "execution_count": 32,
     "metadata": {},
     "output_type": "execute_result"
    }
   ],
   "source": [
    "tables[0].findAll('tr')[2].findAll('td')[1].text.strip()"
   ]
  },
  {
   "cell_type": "code",
   "execution_count": null,
   "id": "244002d8-0559-488b-a61b-f8cdae9fda22",
   "metadata": {},
   "outputs": [],
   "source": []
  },
  {
   "cell_type": "code",
   "execution_count": null,
   "id": "c2f4e33a-c1bb-43b6-ac5f-876b3e11d738",
   "metadata": {},
   "outputs": [],
   "source": []
  },
  {
   "cell_type": "code",
   "execution_count": null,
   "id": "d8dd167a-d99e-434c-a3c1-b918aea2ccfe",
   "metadata": {},
   "outputs": [],
   "source": []
  },
  {
   "cell_type": "code",
   "execution_count": 50,
   "id": "259d15dc-32d9-4f57-821e-82ac925c9fdd",
   "metadata": {
    "tags": []
   },
   "outputs": [],
   "source": [
    "co_list = []\n",
    "\n",
    "for table in soup.findAll('div', class_='table-responsive'):\n",
    "    table_rows = table.findAll('tr')\n",
    "    for curr_row in table_rows:\n",
    "        try:\n",
    "            co_text = curr_row.findAll('td')[1].text.strip()\n",
    "            if len(co_text) < 23 and len(co_text) > 2:\n",
    "                co_list.append(co_text)\n",
    "        except:\n",
    "            pass\n",
    "        \n",
    "co_list = set(co_list)"
   ]
  },
  {
   "cell_type": "code",
   "execution_count": 51,
   "id": "d1a00c6f-1c29-4d99-8ef6-3d7e0ff242cc",
   "metadata": {
    "tags": []
   },
   "outputs": [
    {
     "data": {
      "text/plain": [
       "{'CRYSTALINS',\n",
       " 'DAFODILCOM',\n",
       " 'DESHBANDHU',\n",
       " 'EHL',\n",
       " 'INTRACO',\n",
       " 'ISNLTD',\n",
       " 'KBPPWBIL',\n",
       " 'LEGACYFOOT',\n",
       " 'MEGHNAPET',\n",
       " 'NORTHERN',\n",
       " 'PRIMELIFE',\n",
       " 'RSRMSTEEL',\n",
       " 'SEAPEARL',\n",
       " 'STANCERAM'}"
      ]
     },
     "execution_count": 51,
     "metadata": {},
     "output_type": "execute_result"
    }
   ],
   "source": [
    "co_list"
   ]
  },
  {
   "cell_type": "code",
   "execution_count": 40,
   "id": "08b4b9f2-bdcc-445f-884a-8b83eaade5db",
   "metadata": {
    "tags": []
   },
   "outputs": [
    {
     "data": {
      "text/plain": [
       "3"
      ]
     },
     "execution_count": 40,
     "metadata": {},
     "output_type": "execute_result"
    }
   ],
   "source": [
    "len(soup.findAll('div', class_='table-responsive'))"
   ]
  },
  {
   "cell_type": "code",
   "execution_count": 46,
   "id": "1bca6e2e-baa2-48a6-aa12-8b25a24b2f07",
   "metadata": {
    "tags": []
   },
   "outputs": [
    {
     "data": {
      "text/plain": [
       "'DAFODILCOM'"
      ]
     },
     "execution_count": 46,
     "metadata": {},
     "output_type": "execute_result"
    }
   ],
   "source": [
    "soup.findAll('div', class_='table-responsive')[1].findAll('tr')[9].findAll('td')[1].text.strip()"
   ]
  },
  {
   "cell_type": "code",
   "execution_count": 27,
   "id": "2750c337-9e63-4bae-af8c-427d28417a9c",
   "metadata": {
    "tags": []
   },
   "outputs": [
    {
     "data": {
      "text/plain": [
       "394"
      ]
     },
     "execution_count": 27,
     "metadata": {},
     "output_type": "execute_result"
    }
   ],
   "source": [
    "len(co_list)"
   ]
  },
  {
   "cell_type": "code",
   "execution_count": 49,
   "id": "e40bffdc-d639-40a7-af65-9e9ccf24b689",
   "metadata": {
    "tags": []
   },
   "outputs": [
    {
     "data": {
      "text/plain": [
       "23"
      ]
     },
     "execution_count": 49,
     "metadata": {},
     "output_type": "execute_result"
    }
   ],
   "source": [
    "len('CLOSEP* = Closing Price')"
   ]
  },
  {
   "cell_type": "code",
   "execution_count": null,
   "id": "109a7e8a-03e8-4b0e-b30c-e5ce1b8240d0",
   "metadata": {},
   "outputs": [],
   "source": []
  },
  {
   "cell_type": "code",
   "execution_count": null,
   "id": "dc94a320-2592-4859-8e48-bb7a0b63450e",
   "metadata": {},
   "outputs": [],
   "source": []
  },
  {
   "cell_type": "code",
   "execution_count": 52,
   "id": "73be5611-0ed6-4005-b660-b304d51765d7",
   "metadata": {
    "tags": []
   },
   "outputs": [
    {
     "data": {
      "text/plain": [
       "{'CRYSTALINS',\n",
       " 'DAFODILCOM',\n",
       " 'DESHBANDHU',\n",
       " 'EHL',\n",
       " 'INTRACO',\n",
       " 'ISNLTD',\n",
       " 'KBPPWBIL',\n",
       " 'LEGACYFOOT',\n",
       " 'MEGHNAPET',\n",
       " 'NORTHERN',\n",
       " 'PRIMELIFE',\n",
       " 'RSRMSTEEL',\n",
       " 'SEAPEARL',\n",
       " 'STANCERAM'}"
      ]
     },
     "execution_count": 52,
     "metadata": {},
     "output_type": "execute_result"
    }
   ],
   "source": [
    "def get_losers():\n",
    "    user_agents = [\n",
    "        \"Mozilla/5.0 (Windows NT 10.0; Win64; x64) AppleWebKit/537.36 (KHTML, like Gecko) Chrome/91.0.4472.124 Safari/537.36\",\n",
    "        \"Mozilla/5.0 (Windows NT 10.0; Win64; x64; rv:89.0) Gecko/20100101 Firefox/89.0\",\n",
    "        \"Mozilla/5.0 (Macintosh; Intel Mac OS X 10_15_7) AppleWebKit/537.36 (KHTML, like Gecko) Chrome/91.0.4472.124 Safari/537.36\",\n",
    "        \"Mozilla/5.0 (Macintosh; Intel Mac OS X 10_15_7) AppleWebKit/537.36 (KHTML, like Gecko) Chrome/91.0.4472.124 Safari/537.36\",\n",
    "        \"Mozilla/5.0 (X11; Ubuntu; Linux x86_64; rv:89.0) Gecko/20100101 Firefox/89.0\",\n",
    "        \"Mozilla/5.0 (X11; Linux x86_64) AppleWebKit/537.36 (KHTML, like Gecko) Chrome/91.0.4472.124 Safari/537.36\",\n",
    "        \"Mozilla/5.0 (X11; Linux x86_64) AppleWebKit/537.36 (KHTML, like Gecko) Chrome/91.0.4472.124 Safari/537.36\",\n",
    "        \"Mozilla/5.0 (Windows NT 10.0; Win64; x64) AppleWebKit/537.36 (KHTML, like Gecko) Chrome/91.0.4472.124 Safari/537.36\",\n",
    "        \"Mozilla/5.0 (Windows NT 10.0; Win64; x64; rv:89.0) Gecko/20100101 Firefox/89.0\",\n",
    "        \"Mozilla/5.0 (Windows NT 10.0; Win64; x64) AppleWebKit/537.36 (KHTML, like Gecko) Chrome/91.0.4472.124 Safari/537.36\",\n",
    "        \"Mozilla/5.0 (Windows NT 10.0; Win64; x64; rv:89.0) Gecko/20100101 Firefox/89.0\",\n",
    "        \"Mozilla/5.0 (Windows NT 10.0; Win64; x64) AppleWebKit/537.36 (KHTML, like Gecko) Chrome/91.0.4472.124 Safari/537.36\",\n",
    "        \"Mozilla/5.0 (Windows NT 10.0; Win64; x64; rv:89.0) Gecko/20100101 Firefox/89.0\",\n",
    "        \"Mozilla/5.0 (Windows NT 10.0; Win64; x64) AppleWebKit/537.36 (KHTML, like Gecko) Chrome/91.0.4472.124 Safari/537.36\",\n",
    "        \"Mozilla/5.0 (Windows NT 10.0; Win64; x64; rv:89.0) Gecko/20100101 Firefox/89.0\",\n",
    "        \"Mozilla/5.0 (Windows NT 10.0; Win64; x64) AppleWebKit/537.36 (KHTML, like Gecko) Chrome/91.0.4472.124 Safari/537.36\",\n",
    "        \"Mozilla/5.0 (Windows NT 10.0; Win64; x64; rv:89.0) Gecko/20100101 Firefox/89.0\",\n",
    "        \"Mozilla/5.0 (Windows NT 10.0; Win64; x64) AppleWebKit/537.36 (KHTML, like Gecko) Chrome/91.0.4472.124 Safari/537.36\",\n",
    "        \"Mozilla/5.0 (Windows NT 10.0; Win64; x64; rv:89.0) Gecko/20100101 Firefox/89.0\",\n",
    "        \"Mozilla/5.0 (Windows NT 10.0; Win64; x64) AppleWebKit/537.36 (KHTML, like Gecko) Chrome/91.0.4472.124 Safari/537.36\",\n",
    "        \"Mozilla/5.0 (Windows NT 10.0; Win64; x64; rv:89.0) Gecko/20100101 Firefox/89.0\",\n",
    "        \"Mozilla/5.0 (Windows NT 10.0; Win64; x64) AppleWebKit/537.36 (KHTML, like Gecko) Chrome/91.0.4472.124 Safari/537.36\",\n",
    "        \"Mozilla/5.0 (Windows NT 10.0; Win64; x64; rv:89.0) Gecko/20100101 Firefox/89.0\",\n",
    "        \"Mozilla/5.0 (Windows NT 10.0; Win64; x64) AppleWebKit/537.36 (KHTML, like Gecko) Chrome/91.0.4472.124 Safari/537.36\",\n",
    "        \"Mozilla/5.0 (Windows NT 10.0; Win64; x64; rv:89.0) Gecko/20100101 Firefox/89.0\",\n",
    "        # Add more user agents here...\n",
    "        # ...\n",
    "    ]\n",
    "    \n",
    "    \n",
    "\n",
    "    # Randomly select a user agent\n",
    "    random_user_agent = random.choice(user_agents)\n",
    "\n",
    "    # Create a session object\n",
    "    session = requests.Session()\n",
    "\n",
    "    # Set the user agent as a header for the session\n",
    "    session.headers.update({'User-Agent': random_user_agent,\n",
    "                                'Accept': 'text/plain'})\n",
    "\n",
    "    # url = 'https://www.dsebd.org/latest_share_price_scroll_l.php'\n",
    "\n",
    "    url = 'https://dsebd.org/top_ten_loser.php'\n",
    "\n",
    "    # Make a request using the session\n",
    "    response = session.get(url)\n",
    "\n",
    "\n",
    "\n",
    "    # soup = BeautifulSoup(response.text)\n",
    "    html_content = response.content\n",
    "\n",
    "    # Parse the HTML content with BeautifulSoup\n",
    "    soup = BeautifulSoup(html_content, 'html.parser')\n",
    "\n",
    "    co_list = []\n",
    "\n",
    "    for table in soup.findAll('div', class_='table-responsive'):\n",
    "        table_rows = table.findAll('tr')\n",
    "        for curr_row in table_rows:\n",
    "            try:\n",
    "                co_text = curr_row.findAll('td')[1].text.strip()\n",
    "                if len(co_text) < 23 and len(co_text) > 2:\n",
    "                    co_list.append(co_text)\n",
    "            except:\n",
    "                pass\n",
    "\n",
    "    co_list = set(co_list)\n",
    "    \n",
    "    return co_list\n",
    "\n",
    "get_losers()"
   ]
  },
  {
   "cell_type": "code",
   "execution_count": 53,
   "id": "dbadc2a1-799a-4996-9af0-5bacb107c088",
   "metadata": {
    "tags": []
   },
   "outputs": [
    {
     "data": {
      "text/plain": [
       "{'AGRANINS',\n",
       " 'DHAKAINS',\n",
       " 'FINEFOODS',\n",
       " 'GREENDELT',\n",
       " 'MEGHNALIFE',\n",
       " 'PARAMOUNT',\n",
       " 'PIONEERINS',\n",
       " 'RELIANCINS',\n",
       " 'SAMATALETH',\n",
       " 'SONARBAINS',\n",
       " 'STANDARINS',\n",
       " 'TAKAFULINS',\n",
       " 'TILIL',\n",
       " 'YPL'}"
      ]
     },
     "execution_count": 53,
     "metadata": {},
     "output_type": "execute_result"
    }
   ],
   "source": [
    "def get_gainers():\n",
    "    user_agents = [\n",
    "        \"Mozilla/5.0 (Windows NT 10.0; Win64; x64) AppleWebKit/537.36 (KHTML, like Gecko) Chrome/91.0.4472.124 Safari/537.36\",\n",
    "        \"Mozilla/5.0 (Windows NT 10.0; Win64; x64; rv:89.0) Gecko/20100101 Firefox/89.0\",\n",
    "        \"Mozilla/5.0 (Macintosh; Intel Mac OS X 10_15_7) AppleWebKit/537.36 (KHTML, like Gecko) Chrome/91.0.4472.124 Safari/537.36\",\n",
    "        \"Mozilla/5.0 (Macintosh; Intel Mac OS X 10_15_7) AppleWebKit/537.36 (KHTML, like Gecko) Chrome/91.0.4472.124 Safari/537.36\",\n",
    "        \"Mozilla/5.0 (X11; Ubuntu; Linux x86_64; rv:89.0) Gecko/20100101 Firefox/89.0\",\n",
    "        \"Mozilla/5.0 (X11; Linux x86_64) AppleWebKit/537.36 (KHTML, like Gecko) Chrome/91.0.4472.124 Safari/537.36\",\n",
    "        \"Mozilla/5.0 (X11; Linux x86_64) AppleWebKit/537.36 (KHTML, like Gecko) Chrome/91.0.4472.124 Safari/537.36\",\n",
    "        \"Mozilla/5.0 (Windows NT 10.0; Win64; x64) AppleWebKit/537.36 (KHTML, like Gecko) Chrome/91.0.4472.124 Safari/537.36\",\n",
    "        \"Mozilla/5.0 (Windows NT 10.0; Win64; x64; rv:89.0) Gecko/20100101 Firefox/89.0\",\n",
    "        \"Mozilla/5.0 (Windows NT 10.0; Win64; x64) AppleWebKit/537.36 (KHTML, like Gecko) Chrome/91.0.4472.124 Safari/537.36\",\n",
    "        \"Mozilla/5.0 (Windows NT 10.0; Win64; x64; rv:89.0) Gecko/20100101 Firefox/89.0\",\n",
    "        \"Mozilla/5.0 (Windows NT 10.0; Win64; x64) AppleWebKit/537.36 (KHTML, like Gecko) Chrome/91.0.4472.124 Safari/537.36\",\n",
    "        \"Mozilla/5.0 (Windows NT 10.0; Win64; x64; rv:89.0) Gecko/20100101 Firefox/89.0\",\n",
    "        \"Mozilla/5.0 (Windows NT 10.0; Win64; x64) AppleWebKit/537.36 (KHTML, like Gecko) Chrome/91.0.4472.124 Safari/537.36\",\n",
    "        \"Mozilla/5.0 (Windows NT 10.0; Win64; x64; rv:89.0) Gecko/20100101 Firefox/89.0\",\n",
    "        \"Mozilla/5.0 (Windows NT 10.0; Win64; x64) AppleWebKit/537.36 (KHTML, like Gecko) Chrome/91.0.4472.124 Safari/537.36\",\n",
    "        \"Mozilla/5.0 (Windows NT 10.0; Win64; x64; rv:89.0) Gecko/20100101 Firefox/89.0\",\n",
    "        \"Mozilla/5.0 (Windows NT 10.0; Win64; x64) AppleWebKit/537.36 (KHTML, like Gecko) Chrome/91.0.4472.124 Safari/537.36\",\n",
    "        \"Mozilla/5.0 (Windows NT 10.0; Win64; x64; rv:89.0) Gecko/20100101 Firefox/89.0\",\n",
    "        \"Mozilla/5.0 (Windows NT 10.0; Win64; x64) AppleWebKit/537.36 (KHTML, like Gecko) Chrome/91.0.4472.124 Safari/537.36\",\n",
    "        \"Mozilla/5.0 (Windows NT 10.0; Win64; x64; rv:89.0) Gecko/20100101 Firefox/89.0\",\n",
    "        \"Mozilla/5.0 (Windows NT 10.0; Win64; x64) AppleWebKit/537.36 (KHTML, like Gecko) Chrome/91.0.4472.124 Safari/537.36\",\n",
    "        \"Mozilla/5.0 (Windows NT 10.0; Win64; x64; rv:89.0) Gecko/20100101 Firefox/89.0\",\n",
    "        \"Mozilla/5.0 (Windows NT 10.0; Win64; x64) AppleWebKit/537.36 (KHTML, like Gecko) Chrome/91.0.4472.124 Safari/537.36\",\n",
    "        \"Mozilla/5.0 (Windows NT 10.0; Win64; x64; rv:89.0) Gecko/20100101 Firefox/89.0\",\n",
    "        # Add more user agents here...\n",
    "        # ...\n",
    "    ]\n",
    "    \n",
    "    \n",
    "\n",
    "    # Randomly select a user agent\n",
    "    random_user_agent = random.choice(user_agents)\n",
    "\n",
    "    # Create a session object\n",
    "    session = requests.Session()\n",
    "\n",
    "    # Set the user agent as a header for the session\n",
    "    session.headers.update({'User-Agent': random_user_agent,\n",
    "                                'Accept': 'text/plain'})\n",
    "\n",
    "    # url = 'https://www.dsebd.org/latest_share_price_scroll_l.php'\n",
    "\n",
    "    url = 'https://dsebd.org/top_ten_gainer.php'\n",
    "\n",
    "    # Make a request using the session\n",
    "    response = session.get(url)\n",
    "\n",
    "\n",
    "\n",
    "    # soup = BeautifulSoup(response.text)\n",
    "    html_content = response.content\n",
    "\n",
    "    # Parse the HTML content with BeautifulSoup\n",
    "    soup = BeautifulSoup(html_content, 'html.parser')\n",
    "\n",
    "    co_list = []\n",
    "\n",
    "    for table in soup.findAll('div', class_='table-responsive'):\n",
    "        table_rows = table.findAll('tr')\n",
    "        for curr_row in table_rows:\n",
    "            try:\n",
    "                co_text = curr_row.findAll('td')[1].text.strip()\n",
    "                if len(co_text) < 23 and len(co_text) > 2:\n",
    "                    co_list.append(co_text)\n",
    "            except:\n",
    "                pass\n",
    "\n",
    "    co_list = set(co_list)\n",
    "    \n",
    "    return co_list\n",
    "\n",
    "get_gainers()"
   ]
  },
  {
   "cell_type": "code",
   "execution_count": 54,
   "id": "530e6ca8-0831-4772-ae28-918f4c5f01c6",
   "metadata": {
    "tags": []
   },
   "outputs": [
    {
     "data": {
      "text/plain": [
       "{'ASIAINS',\n",
       " 'ASIAPACINS',\n",
       " 'CENTRALPHL',\n",
       " 'CNATEX',\n",
       " 'CONTININS',\n",
       " 'CRYSTALINS',\n",
       " 'DESHBANDHU',\n",
       " 'EASTERNINS',\n",
       " 'EHL',\n",
       " 'EMERALDOIL',\n",
       " 'FUWANGFOOD',\n",
       " 'GEMINISEA',\n",
       " 'GENNEXT',\n",
       " 'GREENDELT',\n",
       " 'INTRACO',\n",
       " 'JANATAINS',\n",
       " 'KBPPWBIL',\n",
       " 'KEYACOSMET',\n",
       " 'LEGACYFOOT',\n",
       " 'MEGHNAINS',\n",
       " 'MEGHNALIFE',\n",
       " 'MIRACLEIND',\n",
       " 'OAL',\n",
       " 'PARAMOUNT',\n",
       " 'PIONEERINS',\n",
       " 'RUPALILIFE',\n",
       " 'SEAPEARL',\n",
       " 'SIMTEX',\n",
       " 'SONALIPAPR',\n",
       " 'UNIQUEHRL',\n",
       " 'WMSHIPYARD',\n",
       " 'YPL'}"
      ]
     },
     "execution_count": 54,
     "metadata": {},
     "output_type": "execute_result"
    }
   ],
   "source": [
    "def get_top_shares():\n",
    "    user_agents = [\n",
    "        \"Mozilla/5.0 (Windows NT 10.0; Win64; x64) AppleWebKit/537.36 (KHTML, like Gecko) Chrome/91.0.4472.124 Safari/537.36\",\n",
    "        \"Mozilla/5.0 (Windows NT 10.0; Win64; x64; rv:89.0) Gecko/20100101 Firefox/89.0\",\n",
    "        \"Mozilla/5.0 (Macintosh; Intel Mac OS X 10_15_7) AppleWebKit/537.36 (KHTML, like Gecko) Chrome/91.0.4472.124 Safari/537.36\",\n",
    "        \"Mozilla/5.0 (Macintosh; Intel Mac OS X 10_15_7) AppleWebKit/537.36 (KHTML, like Gecko) Chrome/91.0.4472.124 Safari/537.36\",\n",
    "        \"Mozilla/5.0 (X11; Ubuntu; Linux x86_64; rv:89.0) Gecko/20100101 Firefox/89.0\",\n",
    "        \"Mozilla/5.0 (X11; Linux x86_64) AppleWebKit/537.36 (KHTML, like Gecko) Chrome/91.0.4472.124 Safari/537.36\",\n",
    "        \"Mozilla/5.0 (X11; Linux x86_64) AppleWebKit/537.36 (KHTML, like Gecko) Chrome/91.0.4472.124 Safari/537.36\",\n",
    "        \"Mozilla/5.0 (Windows NT 10.0; Win64; x64) AppleWebKit/537.36 (KHTML, like Gecko) Chrome/91.0.4472.124 Safari/537.36\",\n",
    "        \"Mozilla/5.0 (Windows NT 10.0; Win64; x64; rv:89.0) Gecko/20100101 Firefox/89.0\",\n",
    "        \"Mozilla/5.0 (Windows NT 10.0; Win64; x64) AppleWebKit/537.36 (KHTML, like Gecko) Chrome/91.0.4472.124 Safari/537.36\",\n",
    "        \"Mozilla/5.0 (Windows NT 10.0; Win64; x64; rv:89.0) Gecko/20100101 Firefox/89.0\",\n",
    "        \"Mozilla/5.0 (Windows NT 10.0; Win64; x64) AppleWebKit/537.36 (KHTML, like Gecko) Chrome/91.0.4472.124 Safari/537.36\",\n",
    "        \"Mozilla/5.0 (Windows NT 10.0; Win64; x64; rv:89.0) Gecko/20100101 Firefox/89.0\",\n",
    "        \"Mozilla/5.0 (Windows NT 10.0; Win64; x64) AppleWebKit/537.36 (KHTML, like Gecko) Chrome/91.0.4472.124 Safari/537.36\",\n",
    "        \"Mozilla/5.0 (Windows NT 10.0; Win64; x64; rv:89.0) Gecko/20100101 Firefox/89.0\",\n",
    "        \"Mozilla/5.0 (Windows NT 10.0; Win64; x64) AppleWebKit/537.36 (KHTML, like Gecko) Chrome/91.0.4472.124 Safari/537.36\",\n",
    "        \"Mozilla/5.0 (Windows NT 10.0; Win64; x64; rv:89.0) Gecko/20100101 Firefox/89.0\",\n",
    "        \"Mozilla/5.0 (Windows NT 10.0; Win64; x64) AppleWebKit/537.36 (KHTML, like Gecko) Chrome/91.0.4472.124 Safari/537.36\",\n",
    "        \"Mozilla/5.0 (Windows NT 10.0; Win64; x64; rv:89.0) Gecko/20100101 Firefox/89.0\",\n",
    "        \"Mozilla/5.0 (Windows NT 10.0; Win64; x64) AppleWebKit/537.36 (KHTML, like Gecko) Chrome/91.0.4472.124 Safari/537.36\",\n",
    "        \"Mozilla/5.0 (Windows NT 10.0; Win64; x64; rv:89.0) Gecko/20100101 Firefox/89.0\",\n",
    "        \"Mozilla/5.0 (Windows NT 10.0; Win64; x64) AppleWebKit/537.36 (KHTML, like Gecko) Chrome/91.0.4472.124 Safari/537.36\",\n",
    "        \"Mozilla/5.0 (Windows NT 10.0; Win64; x64; rv:89.0) Gecko/20100101 Firefox/89.0\",\n",
    "        \"Mozilla/5.0 (Windows NT 10.0; Win64; x64) AppleWebKit/537.36 (KHTML, like Gecko) Chrome/91.0.4472.124 Safari/537.36\",\n",
    "        \"Mozilla/5.0 (Windows NT 10.0; Win64; x64; rv:89.0) Gecko/20100101 Firefox/89.0\",\n",
    "        # Add more user agents here...\n",
    "        # ...\n",
    "    ]\n",
    "    \n",
    "    \n",
    "\n",
    "    # Randomly select a user agent\n",
    "    random_user_agent = random.choice(user_agents)\n",
    "\n",
    "    # Create a session object\n",
    "    session = requests.Session()\n",
    "\n",
    "    # Set the user agent as a header for the session\n",
    "    session.headers.update({'User-Agent': random_user_agent,\n",
    "                                'Accept': 'text/plain'})\n",
    "\n",
    "    # url = 'https://www.dsebd.org/latest_share_price_scroll_l.php'\n",
    "\n",
    "    url = 'https://dsebd.org/top_20_share.php'\n",
    "\n",
    "    # Make a request using the session\n",
    "    response = session.get(url)\n",
    "\n",
    "\n",
    "\n",
    "    # soup = BeautifulSoup(response.text)\n",
    "    html_content = response.content\n",
    "\n",
    "    # Parse the HTML content with BeautifulSoup\n",
    "    soup = BeautifulSoup(html_content, 'html.parser')\n",
    "\n",
    "    co_list = []\n",
    "\n",
    "    for table in soup.findAll('div', class_='table-responsive'):\n",
    "        table_rows = table.findAll('tr')\n",
    "        for curr_row in table_rows:\n",
    "            try:\n",
    "                co_text = curr_row.findAll('td')[1].text.strip()\n",
    "                if len(co_text) < 23 and len(co_text) > 2:\n",
    "                    co_list.append(co_text)\n",
    "            except:\n",
    "                pass\n",
    "\n",
    "    co_list = set(co_list)\n",
    "    \n",
    "    return co_list\n",
    "\n",
    "get_top_shares()"
   ]
  },
  {
   "cell_type": "code",
   "execution_count": null,
   "id": "1d1cb6d7-290f-4e00-a431-092b3f764a05",
   "metadata": {},
   "outputs": [],
   "source": []
  }
 ],
 "metadata": {
  "kernelspec": {
   "display_name": "Python 3 (ipykernel)",
   "language": "python",
   "name": "python3"
  },
  "language_info": {
   "codemirror_mode": {
    "name": "ipython",
    "version": 3
   },
   "file_extension": ".py",
   "mimetype": "text/x-python",
   "name": "python",
   "nbconvert_exporter": "python",
   "pygments_lexer": "ipython3",
   "version": "3.10.12"
  }
 },
 "nbformat": 4,
 "nbformat_minor": 5
}
