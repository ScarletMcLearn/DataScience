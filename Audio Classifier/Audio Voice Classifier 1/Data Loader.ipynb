{
 "cells": [
  {
   "cell_type": "code",
   "execution_count": 1,
   "id": "aef3d4b7-b3ef-4b9b-8518-9056d2ac73a2",
   "metadata": {
    "tags": []
   },
   "outputs": [
    {
     "name": "stderr",
     "output_type": "stream",
     "text": [
      "2023-07-23 13:50:56.052473: I tensorflow/core/platform/cpu_feature_guard.cc:182] This TensorFlow binary is optimized to use available CPU instructions in performance-critical operations.\n",
      "To enable the following instructions: AVX2 FMA, in other operations, rebuild TensorFlow with the appropriate compiler flags.\n",
      "2023-07-23 13:51:17.381832: W tensorflow/compiler/tf2tensorrt/utils/py_utils.cc:38] TF-TRT Warning: Could not find TensorRT\n"
     ]
    }
   ],
   "source": [
    "import os\n",
    "import numpy\n",
    "from tensorflow import keras\n",
    "import tensorflow as tf\n",
    "import librosa\n",
    "from matplotlib import pyplot\n",
    "from tqdm import tqdm\n",
    "import matplotlib.pyplot as plt\n",
    "import pickle\n",
    "from sklearn.model_selection import train_test_split\n",
    "import sys"
   ]
  },
  {
   "cell_type": "code",
   "execution_count": 2,
   "id": "ba4b7499-3323-4c2f-ad6a-5b9f9a56e1e9",
   "metadata": {
    "tags": []
   },
   "outputs": [],
   "source": [
    "def get_metadata(file_name):\n",
    "    if file_name[-len('03-01-06-02-02-01-07.wav'):][6:8] == '01':\n",
    "        emo = 'neutral'\n",
    "    elif file_name[-len('03-01-06-02-02-01-07.wav'):][6:8] == '02':\n",
    "        emo = 'calm'\n",
    "    elif file_name[-len('03-01-06-02-02-01-07.wav'):][6:8] == '03':\n",
    "        emo = 'happy'\n",
    "    elif file_name[-len('03-01-06-02-02-01-07.wav'):][6:8] == '04':\n",
    "        emo = 'sad'\n",
    "    elif file_name[-len('03-01-06-02-02-01-07.wav'):][6:8] == '05':\n",
    "        emo = 'angry'\n",
    "    elif file_name[-len('03-01-06-02-02-01-07.wav'):][6:8] == '06':\n",
    "        emo = 'fearful'\n",
    "    elif file_name[-len('03-01-06-02-02-01-07.wav'):][6:8] == '07':\n",
    "        emo = 'disgust'\n",
    "    elif file_name[-len('03-01-06-02-02-01-07.wav'):][6:8] == '08':\n",
    "        emo = 'surprised'\n",
    "        \n",
    "    if int(file_name[-len('03-01-06-02-02-01-07.wav'):][18:20]) % 2 == 0:  # Gender\n",
    "        gen = 'female'\n",
    "    else:\n",
    "        gen = 'male'\n",
    "        # 01 = neutral, 02 = calm, 03 = happy, 04 = sad, \n",
    "        # 05 = angry, 06 = fearful, 07 = disgust, \n",
    "        # 08 = surprised\n",
    "    return emo, gen"
   ]
  },
  {
   "cell_type": "code",
   "execution_count": 3,
   "id": "ffb3335d-a4fb-4dff-9c1e-57829646b43a",
   "metadata": {
    "tags": []
   },
   "outputs": [],
   "source": [
    "fn = []\n",
    "for dirname, _, filenames in os.walk('/mount/Project/Project Files/Data/Audio/Audio Speech Sentiment/'):\n",
    "    for filename in filenames:\n",
    "        fn.append(os.path.join(dirname, filename))"
   ]
  },
  {
   "cell_type": "code",
   "execution_count": 4,
   "id": "fa720b13-7e23-4ae6-a900-79cdddb67557",
   "metadata": {
    "tags": []
   },
   "outputs": [
    {
     "data": {
      "text/plain": [
       "1440"
      ]
     },
     "execution_count": 4,
     "metadata": {},
     "output_type": "execute_result"
    }
   ],
   "source": [
    "len(fn)"
   ]
  },
  {
   "cell_type": "code",
   "execution_count": null,
   "id": "af3dc489-e703-4763-b965-0508624ee7ad",
   "metadata": {},
   "outputs": [],
   "source": []
  }
 ],
 "metadata": {
  "kernelspec": {
   "display_name": "Python 3 (ipykernel)",
   "language": "python",
   "name": "python3"
  },
  "language_info": {
   "codemirror_mode": {
    "name": "ipython",
    "version": 3
   },
   "file_extension": ".py",
   "mimetype": "text/x-python",
   "name": "python",
   "nbconvert_exporter": "python",
   "pygments_lexer": "ipython3",
   "version": "3.10.6"
  }
 },
 "nbformat": 4,
 "nbformat_minor": 5
}
