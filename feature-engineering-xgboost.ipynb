{
 "cells": [
  {
   "cell_type": "markdown",
   "metadata": {
    "_uuid": "55f0ed2ac468f0eb59c24726ca0c9bdc8884c345"
   },
   "source": [
    "This notebook is simpified version of the final project in the [How to Win a Data Science Competition: Learn from Top Kagglers](https://www.coursera.org/learn/competitive-data-science) course. Simplified means without ensembling.\n",
    "\n",
    "#### Pipline\n",
    "* load data\n",
    "* heal data and remove outliers\n",
    "* work with shops/items/cats objects and features\n",
    "* create matrix as product of item/shop pairs within each month in the train set\n",
    "* get monthly sales for each item/shop pair in the train set and merge it to the matrix\n",
    "* clip item_cnt_month by (0,20)\n",
    "* append test to the matrix, fill 34 month nans with zeros\n",
    "* merge shops/items/cats to the matrix\n",
    "* add target lag features\n",
    "* add mean encoded features\n",
    "* add price trend features\n",
    "* add month\n",
    "* add days\n",
    "* add months since last sale/months since first sale features\n",
    "* cut first year and drop columns which can not be calculated for the test set\n",
    "* select best features\n",
    "* set validation strategy 34 test, 33 validation, less than 33 train\n",
    "* fit the model, predict and clip targets for the test set"
   ]
  },
  {
   "cell_type": "markdown",
   "metadata": {
    "_uuid": "f03379ee467570732ebb2b3d20062fea0584d57d"
   },
   "source": [
    "# Part 1, perfect features"
   ]
  },
  {
   "cell_type": "code",
   "execution_count": 1,
   "metadata": {
    "_cell_guid": "b1076dfc-b9ad-4769-8c92-a6c4dae69d19",
    "_uuid": "8f2839f25d086af736a60e9eeb907d3b93b6e0e5",
    "execution": {
     "iopub.execute_input": "2024-12-16T14:42:36.092012Z",
     "iopub.status.busy": "2024-12-16T14:42:36.091728Z",
     "iopub.status.idle": "2024-12-16T14:42:36.131192Z",
     "shell.execute_reply": "2024-12-16T14:42:36.130411Z",
     "shell.execute_reply.started": "2024-12-16T14:42:36.091975Z"
    }
   },
   "outputs": [
    {
     "data": {
      "text/plain": [
       "sys.version_info(major=3, minor=6, micro=5, releaselevel='final', serial=0)"
      ]
     },
     "execution_count": 1,
     "metadata": {},
     "output_type": "execute_result"
    }
   ],
   "source": [
    "# Importing required libraries for data manipulation and analysis\n",
    "import numpy as np  # Library for numerical operations\n",
    "import pandas as pd  # Library for data manipulation and analysis\n",
    "\n",
    "# Setting display options for pandas to allow for better visibility of large datasets\n",
    "pd.set_option('display.max_rows', 500)  # Display up to 500 rows in output\n",
    "pd.set_option('display.max_columns', 100)  # Display up to 100 columns in output\n",
    "\n",
    "# Importing utilities for combinations and encoding\n",
    "from itertools import product  # For generating Cartesian product of input iterables\n",
    "from sklearn.preprocessing import LabelEncoder  # For encoding categorical data into numeric form\n",
    "\n",
    "# Importing visualization libraries\n",
    "import seaborn as sns  # For creating attractive and informative statistical graphics\n",
    "import matplotlib.pyplot as plt  # For plotting charts and figures\n",
    "%matplotlib inline \n",
    "# Ensures plots are displayed inline within Jupyter Notebook\n",
    "\n",
    "# Importing XGBoost libraries for machine learning tasks\n",
    "from xgboost import XGBRegressor  # XGBoost's regression model\n",
    "from xgboost import plot_importance  # Function to plot feature importance of the model\n",
    "\n",
    "# Function to plot feature importance for an XGBoost model\n",
    "def plot_features(booster, figsize):    \n",
    "    \"\"\"\n",
    "    Plots the feature importance of an XGBoost model.\n",
    "    \n",
    "    Parameters:\n",
    "        booster: The trained XGBoost model\n",
    "        figsize: Tuple specifying the size of the figure (width, height)\n",
    "    \n",
    "    Returns:\n",
    "        matplotlib plot: A bar plot displaying the importance of features\n",
    "    \"\"\"\n",
    "    fig, ax = plt.subplots(1, 1, figsize=figsize)  # Create a figure and a single axis\n",
    "    return plot_importance(booster=booster, ax=ax)  # Plot feature importance on the axis\n",
    "\n",
    "# Importing additional libraries for various tasks\n",
    "import time  # For measuring execution time or working with time-related functions\n",
    "import sys  # Provides access to system-specific parameters and functions\n",
    "import gc  # Garbage collection interface for managing memory\n",
    "import pickle  # For serializing and saving Python objects\n",
    "\n",
    "# Displaying the Python version info\n",
    "sys.version_info \n",
    "# Provides details of the Python interpreter's version"
   ]
  },
  {
   "cell_type": "code",
   "execution_count": 2,
   "metadata": {
    "_uuid": "f0a1c729d4fb3d6609f9dfb163ebe92fa9dc654c",
    "execution": {
     "iopub.execute_input": "2024-12-16T14:42:37.875117Z",
     "iopub.status.busy": "2024-12-16T14:42:37.874825Z",
     "iopub.status.idle": "2024-12-16T14:42:39.716235Z",
     "shell.execute_reply": "2024-12-16T14:42:39.715523Z",
     "shell.execute_reply.started": "2024-12-16T14:42:37.875072Z"
    }
   },
   "outputs": [],
   "source": [
    "# Reading the 'items' dataset which contains information about items\n",
    "items = pd.read_csv('../input/items.csv')\n",
    "\n",
    "# Reading the 'shops' dataset which contains information about shops\n",
    "shops = pd.read_csv('../input/shops.csv')\n",
    "\n",
    "# Reading the 'item_categories' dataset which contains information about item categories\n",
    "cats = pd.read_csv('../input/item_categories.csv')\n",
    "\n",
    "# Reading the 'sales_train' dataset which contains historical sales data\n",
    "train = pd.read_csv('../input/sales_train.csv')\n",
    "\n",
    "# Reading the 'test' dataset, which is used for prediction, and setting 'ID' as the index to preserve it for later\n",
    "test = pd.read_csv('../input/test.csv').set_index('ID')"
   ]
  },
  {
   "cell_type": "markdown",
   "metadata": {
    "_uuid": "ed7a190645750a818e29a6291ba2553a91764c7c"
   },
   "source": [
    "## Outliers"
   ]
  },
  {
   "cell_type": "markdown",
   "metadata": {
    "_uuid": "425d8f2dc08378977b393bf80c5fdcf0fba2c992"
   },
   "source": [
    "There are items with strange prices and sales. After detailed exploration I decided to remove items with price > 100000 and sales > 1001 (1000 is ok)."
   ]
  },
  {
   "cell_type": "code",
   "execution_count": 3,
   "metadata": {
    "_uuid": "5a864412fafc3129a3e9bd5bb1f18a7cf0c62935",
    "execution": {
     "iopub.execute_input": "2024-12-16T14:42:41.545354Z",
     "iopub.status.busy": "2024-12-16T14:42:41.545037Z",
     "iopub.status.idle": "2024-12-16T14:42:44.381940Z",
     "shell.execute_reply": "2024-12-16T14:42:44.381026Z",
     "shell.execute_reply.started": "2024-12-16T14:42:41.545303Z"
    }
   },
   "outputs": [
    {
     "data": {
      "text/plain": [
       "<matplotlib.axes._subplots.AxesSubplot at 0x7e231fedd518>"
      ]
     },
     "execution_count": 3,
     "metadata": {},
     "output_type": "execute_result"
    },
    {
     "data": {
      "image/png": "[encoded data removed]",
      "text/plain": [
       "<matplotlib.figure.Figure at 0x7e2320703f98>"
      ]
     },
     "metadata": {},
     "output_type": "display_data"
    },
    {
     "data": {
      "image/png": "[encoded data removed]",
      "text/plain": [
       "<matplotlib.figure.Figure at 0x7e231ff08390>"
      ]
     },
     "metadata": {},
     "output_type": "display_data"
    }
   ],
   "source": [
    "# Creating a figure to visualize the distribution of daily item counts\n",
    "plt.figure(figsize=(10, 4))  # Setting the figure size to 10x4 inches\n",
    "plt.xlim(-100, 3000)  # Limiting the x-axis range to focus on relevant values\n",
    "sns.boxplot(x=train.item_cnt_day)  # Creating a box plot for daily item counts from the 'train' dataset\n",
    "\n",
    "# Creating a figure to visualize the distribution of item prices\n",
    "plt.figure(figsize=(10, 4))  # Setting the figure size to 10x4 inches\n",
    "plt.xlim(train.item_price.min(), train.item_price.max() * 1.1)  # Adjusting the x-axis to include a slight margin\n",
    "sns.boxplot(x=train.item_price)  # Creating a box plot for item prices from the 'train' dataset"
   ]
  },
  {
   "cell_type": "code",
   "execution_count": 4,
   "metadata": {
    "_uuid": "7e621535d112603c60aeb2c2f83dbbf96d36b732",
    "execution": {
     "iopub.execute_input": "2024-12-16T14:42:44.383670Z",
     "iopub.status.busy": "2024-12-16T14:42:44.383330Z",
     "iopub.status.idle": "2024-12-16T14:42:44.634557Z",
     "shell.execute_reply": "2024-12-16T14:42:44.633802Z",
     "shell.execute_reply.started": "2024-12-16T14:42:44.383606Z"
    }
   },
   "outputs": [],
   "source": [
    "# Filtering the 'train' dataset to remove rows with item prices greater than or equal to 100,000\n",
    "train = train[train.item_price < 100000]\n",
    "\n",
    "# Filtering the 'train' dataset to remove rows with daily item counts greater than or equal to 1,001\n",
    "train = train[train.item_cnt_day < 1001]"
   ]
  },
  {
   "cell_type": "markdown",
   "metadata": {
    "_uuid": "d2f99368478e3063b1c379537944e954d7186928"
   },
   "source": [
    "There is one item with price below zero. Fill it with median."
   ]
  },
  {
   "cell_type": "code",
   "execution_count": 5,
   "metadata": {
    "_uuid": "0fc6b90b22fe232f4240ac8f965cc52b3db5526a",
    "execution": {
     "iopub.execute_input": "2024-12-16T14:42:45.856331Z",
     "iopub.status.busy": "2024-12-16T14:42:45.856038Z",
     "iopub.status.idle": "2024-12-16T14:42:46.041694Z",
     "shell.execute_reply": "2024-12-16T14:42:46.040546Z",
     "shell.execute_reply.started": "2024-12-16T14:42:45.856290Z"
    }
   },
   "outputs": [],
   "source": [
    "# Calculating the median item price for a specific shop (shop_id=32), item (item_id=2973),\n",
    "# and month (date_block_num=4), where the item price is greater than 0\n",
    "median = train[\n",
    "    (train.shop_id == 32) & \n",
    "    (train.item_id == 2973) & \n",
    "    (train.date_block_num == 4) & \n",
    "    (train.item_price > 0)\n",
    "].item_price.median()\n",
    "\n",
    "# Replacing negative item prices in the 'train' dataset with the calculated median price\n",
    "train.loc[train.item_price < 0, 'item_price'] = median"
   ]
  },
  {
   "cell_type": "markdown",
   "metadata": {
    "_uuid": "7da194c285d696b5c6978148bf0143b9b2a7b0c5"
   },
   "source": [
    "Several shops are duplicates of each other (according to its name). Fix train and test set."
   ]
  },
  {
   "cell_type": "code",
   "execution_count": 6,
   "metadata": {
    "_uuid": "00fe91e9c482ea413abd774ff903fe3d152785dd",
    "execution": {
     "iopub.execute_input": "2024-12-16T13:11:15.664193Z",
     "iopub.status.busy": "2024-12-16T13:11:15.663858Z",
     "iopub.status.idle": "2024-12-16T13:11:16.015983Z",
     "shell.execute_reply": "2024-12-16T13:11:16.015122Z",
     "shell.execute_reply.started": "2024-12-16T13:11:15.664132Z"
    }
   },
   "outputs": [],
   "source": [
    "# Updating shop IDs in 'train' and 'test' datasets for consistency:\n",
    "# Yakutsk Ordzhonikidze, 56\n",
    "train.loc[train.shop_id == 0, 'shop_id'] = 57  # Replace shop_id 0 with 57 in the 'train' dataset\n",
    "test.loc[test.shop_id == 0, 'shop_id'] = 57    # Replace shop_id 0 with 57 in the 'test' dataset\n",
    "\n",
    "# Yakutsk Central Shopping Center (ТЦ \"Центральный\")\n",
    "train.loc[train.shop_id == 1, 'shop_id'] = 58  # Replace shop_id 1 with 58 in the 'train' dataset\n",
    "test.loc[test.shop_id == 1, 'shop_id'] = 58    # Replace shop_id 1 with 58 in the 'test' dataset\n",
    "\n",
    "# Zhukovsky Chkalova Street, 39m²\n",
    "train.loc[train.shop_id == 10, 'shop_id'] = 11  # Replace shop_id 10 with 11 in the 'train' dataset\n",
    "test.loc[test.shop_id == 10, 'shop_id'] = 11    # Replace shop_id 10 with 11 in the 'test' dataset"
   ]
  },
  {
   "cell_type": "markdown",
   "metadata": {
    "_uuid": "a30f0521464e1fa20444e66d24bbdcb76b93f6de"
   },
   "source": [
    "## Shops/Cats/Items preprocessing\n",
    "Observations:\n",
    "* Each shop_name starts with the city name.\n",
    "* Each category contains type and subtype in its name."
   ]
  },
  {
   "cell_type": "code",
   "execution_count": 7,
   "metadata": {
    "_uuid": "12fae4c8d0c8f3e817307d1e0ffc6831e9a8d696",
    "execution": {
     "iopub.execute_input": "2024-12-16T14:42:49.462061Z",
     "iopub.status.busy": "2024-12-16T14:42:49.461781Z",
     "iopub.status.idle": "2024-12-16T14:42:49.519296Z",
     "shell.execute_reply": "2024-12-16T14:42:49.518371Z",
     "shell.execute_reply.started": "2024-12-16T14:42:49.462022Z"
    }
   },
   "outputs": [],
   "source": [
    "# Standardizing shop names for consistency\n",
    "shops.loc[shops.shop_name == 'Сергиев Посад ТЦ \"7Я\"', 'shop_name'] = 'СергиевПосад ТЦ \"7Я\"'  # Remove space in shop name\n",
    "\n",
    "# Extracting the city name from the shop name\n",
    "shops['city'] = shops['shop_name'].str.split(' ').map(lambda x: x[0])  # Split shop name and take the first part as city name\n",
    "\n",
    "# Correcting city name for Yakutsk (!Якутск to Якутск)\n",
    "shops.loc[shops.city == '!Якутск', 'city'] = 'Якутск'\n",
    "\n",
    "# Encoding city names into numeric city codes\n",
    "shops['city_code'] = LabelEncoder().fit_transform(shops['city'])  # Transform city names to numeric codes\n",
    "\n",
    "# Keeping only relevant columns in the shops dataset\n",
    "shops = shops[['shop_id', 'city_code']]  # Retain shop_id and city_code columns\n",
    "\n",
    "# Splitting item categories into type and subtype\n",
    "cats['split'] = cats['item_category_name'].str.split('-')  # Split category name on '-'\n",
    "cats['type'] = cats['split'].map(lambda x: x[0].strip())  # Extract the first part (type) and strip whitespace\n",
    "\n",
    "# Encoding category types into numeric type codes\n",
    "cats['type_code'] = LabelEncoder().fit_transform(cats['type'])  # Transform type names to numeric codes\n",
    "\n",
    "# Extracting subtypes; if no subtype exists, use the type\n",
    "cats['subtype'] = cats['split'].map(lambda x: x[1].strip() if len(x) > 1 else x[0].strip())  # Extract subtype or fallback to type\n",
    "\n",
    "# Encoding subtypes into numeric subtype codes\n",
    "cats['subtype_code'] = LabelEncoder().fit_transform(cats['subtype'])  # Transform subtype names to numeric codes\n",
    "\n",
    "# Keeping only relevant columns in the categories dataset\n",
    "cats = cats[['item_category_id', 'type_code', 'subtype_code']]  # Retain category_id, type_code, and subtype_code\n",
    "\n",
    "# Dropping the 'item_name' column from the items dataset as it's not required\n",
    "items.drop(['item_name'], axis=1, inplace=True)"
   ]
  },
  {
   "cell_type": "markdown",
   "metadata": {
    "_uuid": "62c5f83fa222595da99294f465ab28e80ce415e9"
   },
   "source": [
    "## Monthly sales\n",
    "Test set is a product of some shops and some items within 34 month. There are 5100 items * 42 shops = 214200 pairs. 363 items are new compared to the train. Hence, for the most of the items in the test set target value should be zero. \n",
    "In the other hand train set contains only pairs which were sold or returned in the past. Tha main idea is to calculate monthly sales and <b>extend it with zero sales</b> for each unique pair within the month. This way train data will be similar to test data."
   ]
  },
  {
   "cell_type": "code",
   "execution_count": 8,
   "metadata": {
    "_uuid": "fb69350aef2c28cdb619e2532de1e24ab3c43899",
    "execution": {
     "iopub.execute_input": "2024-12-16T14:42:51.546394Z",
     "iopub.status.busy": "2024-12-16T14:42:51.546035Z",
     "iopub.status.idle": "2024-12-16T14:42:51.899024Z",
     "shell.execute_reply": "2024-12-16T14:42:51.898234Z",
     "shell.execute_reply.started": "2024-12-16T14:42:51.546320Z"
    }
   },
   "outputs": [
    {
     "data": {
      "text/plain": [
       "(363, 5100, 214200)"
      ]
     },
     "execution_count": 8,
     "metadata": {},
     "output_type": "execute_result"
    }
   ],
   "source": [
    "# len(list(set(test.item_id) - set(test.item_id).intersection(set(train.item_id)))), len(list(set(test.item_id))), len(test)\n",
    "\n",
    "# Calculating the number of items in the test dataset that are not present in the train dataset\n",
    "missing_items = len(list(set(test.item_id) - set(test.item_id).intersection(set(train.item_id))))\n",
    "\n",
    "# Calculating the total number of unique items in the test dataset\n",
    "unique_test_items = len(list(set(test.item_id)))\n",
    "\n",
    "# Calculating the total number of rows in the test dataset\n",
    "total_test_rows = len(test)\n",
    "\n",
    "# Displaying the results\n",
    "missing_items, unique_test_items, total_test_rows"
   ]
  },
  {
   "cell_type": "code",
   "execution_count": 9,
   "metadata": {
    "_uuid": "7626c7455ea71b65894c6c866519df15080fa2ac",
    "execution": {
     "iopub.execute_input": "2024-12-16T14:43:30.459117Z",
     "iopub.status.busy": "2024-12-16T14:43:30.458766Z",
     "iopub.status.idle": "2024-12-16T14:43:45.008354Z",
     "shell.execute_reply": "2024-12-16T14:43:45.007463Z",
     "shell.execute_reply.started": "2024-12-16T14:43:30.459042Z"
    }
   },
   "outputs": [
    {
     "data": {
      "text/plain": [
       "14.878815174102783"
      ]
     },
     "execution_count": 9,
     "metadata": {},
     "output_type": "execute_result"
    }
   ],
   "source": [
    "# Recording the current timestamp to measure execution time\n",
    "ts = time.time()\n",
    "\n",
    "# Initializing an empty list to store the resulting matrix\n",
    "matrix = []\n",
    "\n",
    "# Defining the column names for the matrix\n",
    "cols = ['date_block_num', 'shop_id', 'item_id']\n",
    "\n",
    "# Iterating through each month (date_block_num) from 0 to 33 (34 months in total)\n",
    "for i in range(34):\n",
    "    # Filtering the 'train' dataset for the current date_block_num\n",
    "    sales = train[train.date_block_num == i]\n",
    "    \n",
    "    # Generating all possible combinations of (date_block_num, shop_id, item_id) for the current month\n",
    "    matrix.append(np.array(\n",
    "        list(product([i], sales.shop_id.unique(), sales.item_id.unique())), \n",
    "        dtype='int16'\n",
    "    ))\n",
    "\n",
    "# Stacking the list of matrices vertically and creating a DataFrame\n",
    "matrix = pd.DataFrame(np.vstack(matrix), columns=cols)\n",
    "\n",
    "# Converting columns to appropriate data types for memory efficiency\n",
    "matrix['date_block_num'] = matrix['date_block_num'].astype(np.int8)  # Month index as int8\n",
    "matrix['shop_id'] = matrix['shop_id'].astype(np.int8)  # Shop ID as int8\n",
    "matrix['item_id'] = matrix['item_id'].astype(np.int16)  # Item ID as int16\n",
    "\n",
    "# Sorting the matrix by date_block_num, shop_id, and item_id\n",
    "matrix.sort_values(cols, inplace=True)\n",
    "\n",
    "# Calculating and displaying the execution time\n",
    "time.time() - ts"
   ]
  },
  {
   "cell_type": "markdown",
   "metadata": {
    "_uuid": "867e91a7570dd78b4834f4f1a166e58f80b63f93"
   },
   "source": [
    "Aggregate train set by shop/item pairs to calculate target aggreagates, then <b>clip(0,20)</b> target value. This way train target will be similar to the test predictions.\n",
    "\n",
    "<i>I use floats instead of ints for item_cnt_month to avoid downcasting it after concatination with the test set later. If it would be int16, after concatination with NaN values it becomes int64, but foat16 becomes float16 even with NaNs.</i>"
   ]
  },
  {
   "cell_type": "code",
   "execution_count": 10,
   "metadata": {
    "_uuid": "9fef5477060be7d2e6c85dcb79d8e18e6253f7dd",
    "execution": {
     "iopub.execute_input": "2024-12-16T14:43:58.378729Z",
     "iopub.status.busy": "2024-12-16T14:43:58.378382Z",
     "iopub.status.idle": "2024-12-16T14:43:58.393634Z",
     "shell.execute_reply": "2024-12-16T14:43:58.392792Z",
     "shell.execute_reply.started": "2024-12-16T14:43:58.378653Z"
    }
   },
   "outputs": [],
   "source": [
    "# Adding a new column 'revenue' to the 'train' dataset\n",
    "# Revenue is calculated as the product of 'item_price' and 'item_cnt_day'\n",
    "train['revenue'] = train['item_price'] * train['item_cnt_day']"
   ]
  },
  {
   "cell_type": "code",
   "execution_count": 11,
   "metadata": {
    "_uuid": "7dd27181918fc7df89676e24d72130d183929d2d",
    "execution": {
     "iopub.execute_input": "2024-12-16T14:44:34.330199Z",
     "iopub.status.busy": "2024-12-16T14:44:34.329851Z",
     "iopub.status.idle": "2024-12-16T14:44:41.168336Z",
     "shell.execute_reply": "2024-12-16T14:44:41.167444Z",
     "shell.execute_reply.started": "2024-12-16T14:44:34.330122Z"
    }
   },
   "outputs": [
    {
     "data": {
      "text/plain": [
       "6.9980456829071045"
      ]
     },
     "execution_count": 11,
     "metadata": {},
     "output_type": "execute_result"
    }
   ],
   "source": [
    "# Recording the current timestamp to measure execution time\n",
    "ts = time.time()\n",
    "\n",
    "# Grouping the 'train' dataset by date_block_num, shop_id, and item_id\n",
    "# Aggregating item_cnt_day by summing to calculate monthly item counts\n",
    "group = train.groupby(['date_block_num', 'shop_id', 'item_id']).agg({'item_cnt_day': ['sum']})\n",
    "\n",
    "# Renaming the aggregated column to 'item_cnt_month'\n",
    "group.columns = ['item_cnt_month']\n",
    "group.reset_index(inplace=True)  # Resetting index to convert grouped columns back into regular columns\n",
    "\n",
    "# Merging the aggregated data with the 'matrix' dataset\n",
    "# Using a left join to retain all rows from 'matrix' and add matching rows from 'group'\n",
    "matrix = pd.merge(matrix, group, on=cols, how='left')\n",
    "\n",
    "# Filling missing values in 'item_cnt_month' with 0 (for items with no sales in a given month)\n",
    "# Clipping values to the range [0, 20] to normalize target values for the model\n",
    "# Converting the column to float16 for memory efficiency\n",
    "matrix['item_cnt_month'] = (matrix['item_cnt_month']\n",
    "                            .fillna(0)\n",
    "                            .clip(0, 20)  # Clip values to the range [0, 20]\n",
    "                            .astype(np.float16))\n",
    "\n",
    "# Calculating and displaying the execution time\n",
    "time.time() - ts"
   ]
  },
  {
   "cell_type": "markdown",
   "metadata": {
    "_uuid": "315bc6107a93f3926a64fd09ea9244e9281ee41f"
   },
   "source": [
    "## Test set\n",
    "To use time tricks append test pairs to the matrix."
   ]
  },
  {
   "cell_type": "code",
   "execution_count": 12,
   "metadata": {
    "_uuid": "29d02bdb4fa768577607bf735b918ca81da85d41",
    "execution": {
     "iopub.execute_input": "2024-12-16T14:45:13.465393Z",
     "iopub.status.busy": "2024-12-16T14:45:13.465057Z",
     "iopub.status.idle": "2024-12-16T14:45:13.478959Z",
     "shell.execute_reply": "2024-12-16T14:45:13.477878Z",
     "shell.execute_reply.started": "2024-12-16T14:45:13.465336Z"
    }
   },
   "outputs": [],
   "source": [
    "# Assigning the date_block_num as 34 for all rows in the 'test' dataset, representing the prediction month\n",
    "test['date_block_num'] = 34\n",
    "\n",
    "# Converting the 'date_block_num' column to int8 type for memory efficiency\n",
    "test['date_block_num'] = test['date_block_num'].astype(np.int8)\n",
    "\n",
    "# Converting the 'shop_id' column to int8 type for memory efficiency\n",
    "test['shop_id'] = test['shop_id'].astype(np.int8)\n",
    "\n",
    "# Converting the 'item_id' column to int16 type for memory efficiency\n",
    "test['item_id'] = test['item_id'].astype(np.int16)"
   ]
  },
  {
   "cell_type": "code",
   "execution_count": 13,
   "metadata": {
    "_uuid": "177fbbab94c8057d67d61357d29581248468a74d",
    "execution": {
     "iopub.execute_input": "2024-12-16T14:45:31.434167Z",
     "iopub.status.busy": "2024-12-16T14:45:31.433727Z",
     "iopub.status.idle": "2024-12-16T14:45:31.564273Z",
     "shell.execute_reply": "2024-12-16T14:45:31.563380Z",
     "shell.execute_reply.started": "2024-12-16T14:45:31.434098Z"
    }
   },
   "outputs": [
    {
     "data": {
      "text/plain": [
       "0.11446666717529297"
      ]
     },
     "execution_count": 13,
     "metadata": {},
     "output_type": "execute_result"
    }
   ],
   "source": [
    "# Recording the current timestamp to measure execution time\n",
    "ts = time.time()\n",
    "\n",
    "# Concatenating the 'matrix' and 'test' datasets\n",
    "# Adding the test data to the matrix for the 34th month\n",
    "matrix = pd.concat([matrix, test], ignore_index=True, sort=False, keys=cols)\n",
    "\n",
    "# Filling any missing values in the matrix with 0 (for consistency across months)\n",
    "matrix.fillna(0, inplace=True)\n",
    "\n",
    "# Calculating and displaying the execution time\n",
    "time.time() - ts"
   ]
  },
  {
   "cell_type": "markdown",
   "metadata": {
    "_uuid": "233e394a6cebf36ef002dc76fef8d430026a52b3"
   },
   "source": [
    "## Shops/Items/Cats features"
   ]
  },
  {
   "cell_type": "code",
   "execution_count": 14,
   "metadata": {
    "_uuid": "7dfd5df3e2bcaee4c312f3979736f52c40f2560f",
    "execution": {
     "iopub.execute_input": "2024-12-16T14:46:03.098821Z",
     "iopub.status.busy": "2024-12-16T14:46:03.098443Z",
     "iopub.status.idle": "2024-12-16T14:46:11.412557Z",
     "shell.execute_reply": "2024-12-16T14:46:11.411542Z",
     "shell.execute_reply.started": "2024-12-16T14:46:03.098760Z"
    }
   },
   "outputs": [
    {
     "data": {
      "text/plain": [
       "8.257598161697388"
      ]
     },
     "execution_count": 14,
     "metadata": {},
     "output_type": "execute_result"
    }
   ],
   "source": [
    "# Recording the current timestamp to measure execution time\n",
    "ts = time.time()\n",
    "\n",
    "# Merging the 'matrix' dataset with the 'shops' dataset on 'shop_id' using a left join\n",
    "matrix = pd.merge(matrix, shops, on=['shop_id'], how='left')\n",
    "\n",
    "# Merging the 'matrix' dataset with the 'items' dataset on 'item_id' using a left join\n",
    "matrix = pd.merge(matrix, items, on=['item_id'], how='left')\n",
    "\n",
    "# Merging the 'matrix' dataset with the 'cats' dataset on 'item_category_id' using a left join\n",
    "matrix = pd.merge(matrix, cats, on=['item_category_id'], how='left')\n",
    "\n",
    "# Optimizing memory usage by converting columns to smaller data types\n",
    "matrix['city_code'] = matrix['city_code'].astype(np.int8)  # Convert 'city_code' to int8\n",
    "matrix['item_category_id'] = matrix['item_category_id'].astype(np.int8)  # Convert 'item_category_id' to int8\n",
    "matrix['type_code'] = matrix['type_code'].astype(np.int8)  # Convert 'type_code' to int8\n",
    "matrix['subtype_code'] = matrix['subtype_code'].astype(np.int8)  # Convert 'subtype_code' to int8\n",
    "\n",
    "# Calculating and displaying the execution time\n",
    "time.time() - ts"
   ]
  },
  {
   "cell_type": "markdown",
   "metadata": {
    "_uuid": "8358b291fdc8e0e7d1b5700974803b3f104715f7"
   },
   "source": [
    "## Traget lags"
   ]
  },
  {
   "cell_type": "code",
   "execution_count": 15,
   "metadata": {
    "_uuid": "9cd7bcc7643ce4545475e8e6f80d09a979aac42d",
    "execution": {
     "iopub.execute_input": "2024-12-16T14:46:33.208590Z",
     "iopub.status.busy": "2024-12-16T14:46:33.208223Z",
     "iopub.status.idle": "2024-12-16T14:46:33.223451Z",
     "shell.execute_reply": "2024-12-16T14:46:33.222423Z",
     "shell.execute_reply.started": "2024-12-16T14:46:33.208532Z"
    }
   },
   "outputs": [],
   "source": [
    "def lag_feature(df, lags, col):\n",
    "    \"\"\"\n",
    "    Adds lagged features to the DataFrame by shifting a given column for specified lags.\n",
    "\n",
    "    Parameters:\n",
    "        df (DataFrame): The input DataFrame containing the data.\n",
    "        lags (list): A list of integers representing the lag periods to be created.\n",
    "        col (str): The name of the column to create lagged features for.\n",
    "\n",
    "    Returns:\n",
    "        DataFrame: The original DataFrame with additional lagged feature columns.\n",
    "    \"\"\"\n",
    "    # Creating a temporary DataFrame with the required columns\n",
    "    tmp = df[['date_block_num', 'shop_id', 'item_id', col]]\n",
    "    \n",
    "    # Looping through each lag value\n",
    "    for i in lags:\n",
    "        shifted = tmp.copy()  # Create a copy of the temporary DataFrame\n",
    "        shifted.columns = ['date_block_num', 'shop_id', 'item_id', col + '_lag_' + str(i)]  # Rename columns for the lag\n",
    "        shifted['date_block_num'] += i  # Shift the 'date_block_num' column by the lag value\n",
    "        \n",
    "        # Merge the shifted data back into the original DataFrame\n",
    "        df = pd.merge(df, shifted, on=['date_block_num', 'shop_id', 'item_id'], how='left')\n",
    "    \n",
    "    return df"
   ]
  },
  {
   "cell_type": "code",
   "execution_count": 16,
   "metadata": {
    "_uuid": "78bf7ece93ebc4629ad0e48cd6a9927788d8706d",
    "execution": {
     "iopub.execute_input": "2024-12-16T14:46:51.223570Z",
     "iopub.status.busy": "2024-12-16T14:46:51.223186Z",
     "iopub.status.idle": "2024-12-16T14:47:36.887710Z",
     "shell.execute_reply": "2024-12-16T14:47:36.886845Z",
     "shell.execute_reply.started": "2024-12-16T14:46:51.223501Z"
    }
   },
   "outputs": [
    {
     "data": {
      "text/plain": [
       "45.42160153388977"
      ]
     },
     "execution_count": 16,
     "metadata": {},
     "output_type": "execute_result"
    }
   ],
   "source": [
    "# Recording the current timestamp to measure execution time\n",
    "ts = time.time()\n",
    "\n",
    "# Applying the lag_feature function to add lagged features for 'item_cnt_month'\n",
    "# Lag periods are [1, 2, 3, 6, 12]\n",
    "matrix = lag_feature(matrix, [1, 2, 3, 6, 12], 'item_cnt_month')\n",
    "\n",
    "# Calculating and displaying the execution time\n",
    "time.time() - ts"
   ]
  },
  {
   "cell_type": "markdown",
   "metadata": {
    "_uuid": "c67bf4dbcef884ffe9d19c65d37bc4de1f287ef6"
   },
   "source": [
    "## Mean encoded features"
   ]
  },
  {
   "cell_type": "code",
   "execution_count": 17,
   "metadata": {
    "_uuid": "763aca242154ea10fa0a62fffadb4ef90e9532d6",
    "execution": {
     "iopub.execute_input": "2024-12-16T14:47:36.889208Z",
     "iopub.status.busy": "2024-12-16T14:47:36.888897Z",
     "iopub.status.idle": "2024-12-16T14:47:53.706954Z",
     "shell.execute_reply": "2024-12-16T14:47:53.706138Z",
     "shell.execute_reply.started": "2024-12-16T14:47:36.889152Z"
    }
   },
   "outputs": [
    {
     "data": {
      "text/plain": [
       "17.569523334503174"
      ]
     },
     "execution_count": 17,
     "metadata": {},
     "output_type": "execute_result"
    }
   ],
   "source": [
    "# Recording the current timestamp to measure execution time\n",
    "ts = time.time()\n",
    "\n",
    "# Grouping by 'date_block_num' to calculate the average item count per month\n",
    "group = matrix.groupby(['date_block_num']).agg({'item_cnt_month': ['mean']})\n",
    "\n",
    "# Renaming the column to 'date_avg_item_cnt'\n",
    "group.columns = ['date_avg_item_cnt']\n",
    "group.reset_index(inplace=True)  # Resetting the index for merging\n",
    "\n",
    "# Merging the calculated averages back into the 'matrix' dataset\n",
    "matrix = pd.merge(matrix, group, on=['date_block_num'], how='left')\n",
    "\n",
    "# Converting 'date_avg_item_cnt' to float16 for memory efficiency\n",
    "matrix['date_avg_item_cnt'] = matrix['date_avg_item_cnt'].astype(np.float16)\n",
    "\n",
    "# Creating a lagged feature for 'date_avg_item_cnt' with a lag of 1 month\n",
    "matrix = lag_feature(matrix, [1], 'date_avg_item_cnt')\n",
    "\n",
    "# Dropping the original 'date_avg_item_cnt' column after lag creation\n",
    "matrix.drop(['date_avg_item_cnt'], axis=1, inplace=True)\n",
    "\n",
    "# Calculating and displaying the execution time\n",
    "time.time() - ts"
   ]
  },
  {
   "cell_type": "code",
   "execution_count": 18,
   "metadata": {
    "_uuid": "fc9166c4e678ebb99d03566f1751b7d4b5c690d2",
    "execution": {
     "iopub.execute_input": "2024-12-16T14:47:53.708701Z",
     "iopub.status.busy": "2024-12-16T14:47:53.708358Z",
     "iopub.status.idle": "2024-12-16T14:48:54.044704Z",
     "shell.execute_reply": "2024-12-16T14:48:54.043953Z",
     "shell.execute_reply.started": "2024-12-16T14:47:53.708633Z"
    }
   },
   "outputs": [
    {
     "data": {
      "text/plain": [
       "58.48855757713318"
      ]
     },
     "execution_count": 18,
     "metadata": {},
     "output_type": "execute_result"
    }
   ],
   "source": [
    "# Recording the current timestamp to measure execution time\n",
    "ts = time.time()\n",
    "\n",
    "# Grouping by 'date_block_num' and 'item_id' to calculate the average item count for each item per month\n",
    "group = matrix.groupby(['date_block_num', 'item_id']).agg({'item_cnt_month': ['mean']})\n",
    "\n",
    "# Renaming the column to 'date_item_avg_item_cnt'\n",
    "group.columns = ['date_item_avg_item_cnt']\n",
    "group.reset_index(inplace=True)  # Resetting the index for merging\n",
    "\n",
    "# Merging the calculated averages back into the 'matrix' dataset\n",
    "matrix = pd.merge(matrix, group, on=['date_block_num', 'item_id'], how='left')\n",
    "\n",
    "# Converting 'date_item_avg_item_cnt' to float16 for memory efficiency\n",
    "matrix['date_item_avg_item_cnt'] = matrix['date_item_avg_item_cnt'].astype(np.float16)\n",
    "\n",
    "# Creating lagged features for 'date_item_avg_item_cnt' with lags of 1, 2, 3, 6, and 12 months\n",
    "matrix = lag_feature(matrix, [1, 2, 3, 6, 12], 'date_item_avg_item_cnt')\n",
    "\n",
    "# Dropping the original 'date_item_avg_item_cnt' column after lag creation\n",
    "matrix.drop(['date_item_avg_item_cnt'], axis=1, inplace=True)\n",
    "\n",
    "# Calculating and displaying the execution time\n",
    "time.time() - ts"
   ]
  },
  {
   "cell_type": "code",
   "execution_count": 19,
   "metadata": {
    "_uuid": "73f2552c403c5f67bbf07f28d69efcc015d00f32",
    "execution": {
     "iopub.execute_input": "2024-12-16T14:48:54.046011Z",
     "iopub.status.busy": "2024-12-16T14:48:54.045783Z",
     "iopub.status.idle": "2024-12-16T14:49:57.118082Z",
     "shell.execute_reply": "2024-12-16T14:49:57.117135Z",
     "shell.execute_reply.started": "2024-12-16T14:48:54.045971Z"
    }
   },
   "outputs": [
    {
     "data": {
      "text/plain": [
       "63.80579924583435"
      ]
     },
     "execution_count": 19,
     "metadata": {},
     "output_type": "execute_result"
    }
   ],
   "source": [
    "# Recording the current timestamp to measure execution time\n",
    "ts = time.time()\n",
    "\n",
    "# Grouping by 'date_block_num' and 'shop_id' to calculate the average item count for each shop per month\n",
    "group = matrix.groupby(['date_block_num', 'shop_id']).agg({'item_cnt_month': ['mean']})\n",
    "\n",
    "# Renaming the column to 'date_shop_avg_item_cnt'\n",
    "group.columns = ['date_shop_avg_item_cnt']\n",
    "group.reset_index(inplace=True)  # Resetting the index for merging\n",
    "\n",
    "# Merging the calculated averages back into the 'matrix' dataset\n",
    "matrix = pd.merge(matrix, group, on=['date_block_num', 'shop_id'], how='left')\n",
    "\n",
    "# Converting 'date_shop_avg_item_cnt' to float16 for memory efficiency\n",
    "matrix['date_shop_avg_item_cnt'] = matrix['date_shop_avg_item_cnt'].astype(np.float16)\n",
    "\n",
    "# Creating lagged features for 'date_shop_avg_item_cnt' with lags of 1, 2, 3, 6, and 12 months\n",
    "matrix = lag_feature(matrix, [1, 2, 3, 6, 12], 'date_shop_avg_item_cnt')\n",
    "\n",
    "# Dropping the original 'date_shop_avg_item_cnt' column after lag creation\n",
    "matrix.drop(['date_shop_avg_item_cnt'], axis=1, inplace=True)\n",
    "\n",
    "# Calculating and displaying the execution time\n",
    "time.time() - ts"
   ]
  },
  {
   "cell_type": "code",
   "execution_count": 20,
   "metadata": {
    "_uuid": "c3948a9b206bc480b31385c29a713aa49747de19",
    "execution": {
     "iopub.execute_input": "2024-12-16T14:49:57.119951Z",
     "iopub.status.busy": "2024-12-16T14:49:57.119583Z",
     "iopub.status.idle": "2024-12-16T14:50:23.435820Z",
     "shell.execute_reply": "2024-12-16T14:50:23.435013Z",
     "shell.execute_reply.started": "2024-12-16T14:49:57.119884Z"
    }
   },
   "outputs": [
    {
     "data": {
      "text/plain": [
       "26.571646213531494"
      ]
     },
     "execution_count": 20,
     "metadata": {},
     "output_type": "execute_result"
    }
   ],
   "source": [
    "# Recording the current timestamp to measure execution time\n",
    "ts = time.time()\n",
    "\n",
    "# Grouping by 'date_block_num' and 'item_category_id' to calculate the average item count for each category per month\n",
    "group = matrix.groupby(['date_block_num', 'item_category_id']).agg({'item_cnt_month': ['mean']})\n",
    "\n",
    "# Renaming the column to 'date_cat_avg_item_cnt'\n",
    "group.columns = ['date_cat_avg_item_cnt']\n",
    "group.reset_index(inplace=True)  # Resetting the index for merging\n",
    "\n",
    "# Merging the calculated averages back into the 'matrix' dataset\n",
    "matrix = pd.merge(matrix, group, on=['date_block_num', 'item_category_id'], how='left')\n",
    "\n",
    "# Converting 'date_cat_avg_item_cnt' to float16 for memory efficiency\n",
    "matrix['date_cat_avg_item_cnt'] = matrix['date_cat_avg_item_cnt'].astype(np.float16)\n",
    "\n",
    "# Creating a lagged feature for 'date_cat_avg_item_cnt' with a lag of 1 month\n",
    "matrix = lag_feature(matrix, [1], 'date_cat_avg_item_cnt')\n",
    "\n",
    "# Dropping the original 'date_cat_avg_item_cnt' column after lag creation\n",
    "matrix.drop(['date_cat_avg_item_cnt'], axis=1, inplace=True)\n",
    "\n",
    "# Calculating and displaying the execution time\n",
    "time.time() - ts"
   ]
  },
  {
   "cell_type": "code",
   "execution_count": 21,
   "metadata": {
    "_uuid": "bf98335755692f0d7666eeac2db1961692f09a16",
    "execution": {
     "iopub.execute_input": "2024-12-16T14:50:23.437137Z",
     "iopub.status.busy": "2024-12-16T14:50:23.436919Z",
     "iopub.status.idle": "2024-12-16T14:50:51.594797Z",
     "shell.execute_reply": "2024-12-16T14:50:51.593840Z",
     "shell.execute_reply.started": "2024-12-16T14:50:23.437098Z"
    }
   },
   "outputs": [
    {
     "data": {
      "text/plain": [
       "28.175482511520386"
      ]
     },
     "execution_count": 21,
     "metadata": {},
     "output_type": "execute_result"
    }
   ],
   "source": [
    "# Recording the current timestamp to measure execution time\n",
    "ts = time.time()\n",
    "\n",
    "# Grouping by 'date_block_num', 'shop_id', and 'item_category_id' to calculate the average item count for each shop-category combination per month\n",
    "group = matrix.groupby(['date_block_num', 'shop_id', 'item_category_id']).agg({'item_cnt_month': ['mean']})\n",
    "\n",
    "# Renaming the column to 'date_shop_cat_avg_item_cnt'\n",
    "group.columns = ['date_shop_cat_avg_item_cnt']\n",
    "group.reset_index(inplace=True)  # Resetting the index for merging\n",
    "\n",
    "# Merging the calculated averages back into the 'matrix' dataset\n",
    "matrix = pd.merge(matrix, group, on=['date_block_num', 'shop_id', 'item_category_id'], how='left')\n",
    "\n",
    "# Converting 'date_shop_cat_avg_item_cnt' to float16 for memory efficiency\n",
    "matrix['date_shop_cat_avg_item_cnt'] = matrix['date_shop_cat_avg_item_cnt'].astype(np.float16)\n",
    "\n",
    "# Creating a lagged feature for 'date_shop_cat_avg_item_cnt' with a lag of 1 month\n",
    "matrix = lag_feature(matrix, [1], 'date_shop_cat_avg_item_cnt')\n",
    "\n",
    "# Dropping the original 'date_shop_cat_avg_item_cnt' column after lag creation\n",
    "matrix.drop(['date_shop_cat_avg_item_cnt'], axis=1, inplace=True)\n",
    "\n",
    "# Calculating and displaying the execution time\n",
    "time.time() - ts"
   ]
  },
  {
   "cell_type": "code",
   "execution_count": 22,
   "metadata": {
    "_uuid": "3959603ea684eb3cbfd17d557399caa6e9da88e4",
    "execution": {
     "iopub.execute_input": "2024-12-16T14:50:51.596189Z",
     "iopub.status.busy": "2024-12-16T14:50:51.595953Z",
     "iopub.status.idle": "2024-12-16T14:51:20.539603Z",
     "shell.execute_reply": "2024-12-16T14:51:20.538605Z",
     "shell.execute_reply.started": "2024-12-16T14:50:51.596148Z"
    }
   },
   "outputs": [
    {
     "data": {
      "text/plain": [
       "29.011411905288696"
      ]
     },
     "execution_count": 22,
     "metadata": {},
     "output_type": "execute_result"
    }
   ],
   "source": [
    "# Recording the current timestamp to measure execution time\n",
    "ts = time.time()\n",
    "\n",
    "# Grouping by 'date_block_num', 'shop_id', and 'type_code' to calculate the average item count for each shop-type combination per month\n",
    "group = matrix.groupby(['date_block_num', 'shop_id', 'type_code']).agg({'item_cnt_month': ['mean']})\n",
    "\n",
    "# Renaming the column to 'date_shop_type_avg_item_cnt'\n",
    "group.columns = ['date_shop_type_avg_item_cnt']\n",
    "group.reset_index(inplace=True)  # Resetting the index for merging\n",
    "\n",
    "# Merging the calculated averages back into the 'matrix' dataset\n",
    "matrix = pd.merge(matrix, group, on=['date_block_num', 'shop_id', 'type_code'], how='left')\n",
    "\n",
    "# Converting 'date_shop_type_avg_item_cnt' to float16 for memory efficiency\n",
    "matrix['date_shop_type_avg_item_cnt'] = matrix['date_shop_type_avg_item_cnt'].astype(np.float16)\n",
    "\n",
    "# Creating a lagged feature for 'date_shop_type_avg_item_cnt' with a lag of 1 month\n",
    "matrix = lag_feature(matrix, [1], 'date_shop_type_avg_item_cnt')\n",
    "\n",
    "# Dropping the original 'date_shop_type_avg_item_cnt' column after lag creation\n",
    "matrix.drop(['date_shop_type_avg_item_cnt'], axis=1, inplace=True)\n",
    "\n",
    "# Calculating and displaying the execution time\n",
    "time.time() - ts"
   ]
  },
  {
   "cell_type": "code",
   "execution_count": 23,
   "metadata": {
    "_uuid": "39f66d2e30f691237aa5d41ff9fc3a0eb7e9a788",
    "execution": {
     "iopub.execute_input": "2024-12-16T14:51:20.541550Z",
     "iopub.status.busy": "2024-12-16T14:51:20.541180Z",
     "iopub.status.idle": "2024-12-16T14:51:50.485184Z",
     "shell.execute_reply": "2024-12-16T14:51:50.484382Z",
     "shell.execute_reply.started": "2024-12-16T14:51:20.541481Z"
    }
   },
   "outputs": [
    {
     "data": {
      "text/plain": [
       "29.656524181365967"
      ]
     },
     "execution_count": 23,
     "metadata": {},
     "output_type": "execute_result"
    }
   ],
   "source": [
    "# Recording the current timestamp to measure execution time\n",
    "ts = time.time()\n",
    "\n",
    "# Grouping by 'date_block_num', 'shop_id', and 'subtype_code' to calculate the average item count for each shop-subtype combination per month\n",
    "group = matrix.groupby(['date_block_num', 'shop_id', 'subtype_code']).agg({'item_cnt_month': ['mean']})\n",
    "\n",
    "# Renaming the column to 'date_shop_subtype_avg_item_cnt'\n",
    "group.columns = ['date_shop_subtype_avg_item_cnt']\n",
    "group.reset_index(inplace=True)  # Resetting the index for merging\n",
    "\n",
    "# Merging the calculated averages back into the 'matrix' dataset\n",
    "matrix = pd.merge(matrix, group, on=['date_block_num', 'shop_id', 'subtype_code'], how='left')\n",
    "\n",
    "# Converting 'date_shop_subtype_avg_item_cnt' to float16 for memory efficiency\n",
    "matrix['date_shop_subtype_avg_item_cnt'] = matrix['date_shop_subtype_avg_item_cnt'].astype(np.float16)\n",
    "\n",
    "# Creating a lagged feature for 'date_shop_subtype_avg_item_cnt' with a lag of 1 month\n",
    "matrix = lag_feature(matrix, [1], 'date_shop_subtype_avg_item_cnt')\n",
    "\n",
    "# Dropping the original 'date_shop_subtype_avg_item_cnt' column after lag creation\n",
    "matrix.drop(['date_shop_subtype_avg_item_cnt'], axis=1, inplace=True)\n",
    "\n",
    "# Calculating and displaying the execution time\n",
    "time.time() - ts"
   ]
  },
  {
   "cell_type": "code",
   "execution_count": 24,
   "metadata": {
    "_uuid": "87d57d01beb0830138dabae79b4022d4c6a9cc12",
    "execution": {
     "iopub.execute_input": "2024-12-16T14:51:50.486833Z",
     "iopub.status.busy": "2024-12-16T14:51:50.486547Z",
     "iopub.status.idle": "2024-12-16T14:52:19.725562Z",
     "shell.execute_reply": "2024-12-16T14:52:19.724843Z",
     "shell.execute_reply.started": "2024-12-16T14:51:50.486779Z"
    }
   },
   "outputs": [
    {
     "data": {
      "text/plain": [
       "29.45118474960327"
      ]
     },
     "execution_count": 24,
     "metadata": {},
     "output_type": "execute_result"
    }
   ],
   "source": [
    "# Recording the current timestamp to measure execution time\n",
    "ts = time.time()\n",
    "\n",
    "# Grouping by 'date_block_num' and 'city_code' to calculate the average item count for each city per month\n",
    "group = matrix.groupby(['date_block_num', 'city_code']).agg({'item_cnt_month': ['mean']})\n",
    "\n",
    "# Renaming the column to 'date_city_avg_item_cnt'\n",
    "group.columns = ['date_city_avg_item_cnt']\n",
    "group.reset_index(inplace=True)  # Resetting the index for merging\n",
    "\n",
    "# Merging the calculated averages back into the 'matrix' dataset\n",
    "matrix = pd.merge(matrix, group, on=['date_block_num', 'city_code'], how='left')\n",
    "\n",
    "# Converting 'date_city_avg_item_cnt' to float16 for memory efficiency\n",
    "matrix['date_city_avg_item_cnt'] = matrix['date_city_avg_item_cnt'].astype(np.float16)\n",
    "\n",
    "# Creating a lagged feature for 'date_city_avg_item_cnt' with a lag of 1 month\n",
    "matrix = lag_feature(matrix, [1], 'date_city_avg_item_cnt')\n",
    "\n",
    "# Dropping the original 'date_city_avg_item_cnt' column after lag creation\n",
    "matrix.drop(['date_city_avg_item_cnt'], axis=1, inplace=True)\n",
    "\n",
    "# Calculating and displaying the execution time\n",
    "time.time() - ts"
   ]
  },
  {
   "cell_type": "code",
   "execution_count": 25,
   "metadata": {
    "_uuid": "db1f0170ec4a6fd9894bc53b36f3166d4b26abcf",
    "execution": {
     "iopub.execute_input": "2024-12-16T14:52:19.726907Z",
     "iopub.status.busy": "2024-12-16T14:52:19.726646Z",
     "iopub.status.idle": "2024-12-16T14:52:59.037651Z",
     "shell.execute_reply": "2024-12-16T14:52:59.036653Z",
     "shell.execute_reply.started": "2024-12-16T14:52:19.726850Z"
    }
   },
   "outputs": [
    {
     "data": {
      "text/plain": [
       "39.40172219276428"
      ]
     },
     "execution_count": 25,
     "metadata": {},
     "output_type": "execute_result"
    }
   ],
   "source": [
    "# Recording the current timestamp to measure execution time\n",
    "ts = time.time()\n",
    "\n",
    "# Grouping by 'date_block_num', 'item_id', and 'city_code' to calculate the average item count for each item-city combination per month\n",
    "group = matrix.groupby(['date_block_num', 'item_id', 'city_code']).agg({'item_cnt_month': ['mean']})\n",
    "\n",
    "# Renaming the column to 'date_item_city_avg_item_cnt'\n",
    "group.columns = ['date_item_city_avg_item_cnt']\n",
    "group.reset_index(inplace=True)  # Resetting the index for merging\n",
    "\n",
    "# Merging the calculated averages back into the 'matrix' dataset\n",
    "matrix = pd.merge(matrix, group, on=['date_block_num', 'item_id', 'city_code'], how='left')\n",
    "\n",
    "# Converting 'date_item_city_avg_item_cnt' to float16 for memory efficiency\n",
    "matrix['date_item_city_avg_item_cnt'] = matrix['date_item_city_avg_item_cnt'].astype(np.float16)\n",
    "\n",
    "# Creating a lagged feature for 'date_item_city_avg_item_cnt' with a lag of 1 month\n",
    "matrix = lag_feature(matrix, [1], 'date_item_city_avg_item_cnt')\n",
    "\n",
    "# Dropping the original 'date_item_city_avg_item_cnt' column after lag creation\n",
    "matrix.drop(['date_item_city_avg_item_cnt'], axis=1, inplace=True)\n",
    "\n",
    "# Calculating and displaying the execution time\n",
    "time.time() - ts"
   ]
  },
  {
   "cell_type": "code",
   "execution_count": 26,
   "metadata": {
    "_uuid": "3cd5232ad63357dacebe9d223cc93dd669132bb7",
    "execution": {
     "iopub.execute_input": "2024-12-16T14:52:59.039352Z",
     "iopub.status.busy": "2024-12-16T14:52:59.038994Z",
     "iopub.status.idle": "2024-12-16T14:53:29.334173Z",
     "shell.execute_reply": "2024-12-16T14:53:29.333481Z",
     "shell.execute_reply.started": "2024-12-16T14:52:59.039282Z"
    }
   },
   "outputs": [
    {
     "data": {
      "text/plain": [
       "31.008795499801636"
      ]
     },
     "execution_count": 26,
     "metadata": {},
     "output_type": "execute_result"
    }
   ],
   "source": [
    "# Recording the current timestamp to measure execution time\n",
    "ts = time.time()\n",
    "\n",
    "# Grouping by 'date_block_num' and 'type_code' to calculate the average item count for each type per month\n",
    "group = matrix.groupby(['date_block_num', 'type_code']).agg({'item_cnt_month': ['mean']})\n",
    "\n",
    "# Renaming the column to 'date_type_avg_item_cnt'\n",
    "group.columns = ['date_type_avg_item_cnt']\n",
    "group.reset_index(inplace=True)  # Resetting the index for merging\n",
    "\n",
    "# Merging the calculated averages back into the 'matrix' dataset\n",
    "matrix = pd.merge(matrix, group, on=['date_block_num', 'type_code'], how='left')\n",
    "\n",
    "# Converting 'date_type_avg_item_cnt' to float16 for memory efficiency\n",
    "matrix['date_type_avg_item_cnt'] = matrix['date_type_avg_item_cnt'].astype(np.float16)\n",
    "\n",
    "# Creating a lagged feature for 'date_type_avg_item_cnt' with a lag of 1 month\n",
    "matrix = lag_feature(matrix, [1], 'date_type_avg_item_cnt')\n",
    "\n",
    "# Dropping the original 'date_type_avg_item_cnt' column after lag creation\n",
    "matrix.drop(['date_type_avg_item_cnt'], axis=1, inplace=True)\n",
    "\n",
    "# Calculating and displaying the execution time\n",
    "time.time() - ts"
   ]
  },
  {
   "cell_type": "code",
   "execution_count": 27,
   "metadata": {
    "_uuid": "00394f3694ae9c7093176eadac7abeaa79ff5467",
    "execution": {
     "iopub.execute_input": "2024-12-16T14:53:29.335604Z",
     "iopub.status.busy": "2024-12-16T14:53:29.335377Z",
     "iopub.status.idle": "2024-12-16T14:54:00.911299Z",
     "shell.execute_reply": "2024-12-16T14:54:00.910452Z",
     "shell.execute_reply.started": "2024-12-16T14:53:29.335564Z"
    }
   },
   "outputs": [
    {
     "data": {
      "text/plain": [
       "31.69028615951538"
      ]
     },
     "execution_count": 27,
     "metadata": {},
     "output_type": "execute_result"
    }
   ],
   "source": [
    "# Recording the current timestamp to measure execution time\n",
    "ts = time.time()\n",
    "\n",
    "# Grouping by 'date_block_num' and 'subtype_code' to calculate the average item count for each subtype per month\n",
    "group = matrix.groupby(['date_block_num', 'subtype_code']).agg({'item_cnt_month': ['mean']})\n",
    "\n",
    "# Renaming the column to 'date_subtype_avg_item_cnt'\n",
    "group.columns = ['date_subtype_avg_item_cnt']\n",
    "group.reset_index(inplace=True)  # Resetting the index for merging\n",
    "\n",
    "# Merging the calculated averages back into the 'matrix' dataset\n",
    "matrix = pd.merge(matrix, group, on=['date_block_num', 'subtype_code'], how='left')\n",
    "\n",
    "# Converting 'date_subtype_avg_item_cnt' to float16 for memory efficiency\n",
    "matrix['date_subtype_avg_item_cnt'] = matrix['date_subtype_avg_item_cnt'].astype(np.float16)\n",
    "\n",
    "# Creating a lagged feature for 'date_subtype_avg_item_cnt' with a lag of 1 month\n",
    "matrix = lag_feature(matrix, [1], 'date_subtype_avg_item_cnt')\n",
    "\n",
    "# Dropping the original 'date_subtype_avg_item_cnt' column after lag creation\n",
    "matrix.drop(['date_subtype_avg_item_cnt'], axis=1, inplace=True)\n",
    "\n",
    "# Calculating and displaying the execution time\n",
    "time.time() - ts"
   ]
  },
  {
   "cell_type": "markdown",
   "metadata": {
    "_uuid": "6bcea31d93ab035ca3fa1ed7c0afddbf602c414a"
   },
   "source": [
    "## Trend features"
   ]
  },
  {
   "cell_type": "markdown",
   "metadata": {
    "_uuid": "0504e9613087237c255914d9ebd165fac4e88cd0"
   },
   "source": [
    "Price trend for the last six months."
   ]
  },
  {
   "cell_type": "code",
   "execution_count": 28,
   "metadata": {
    "_uuid": "0da2ded8502e273137991fd2bebbadaf19c19622",
    "execution": {
     "iopub.execute_input": "2024-12-16T14:54:00.913062Z",
     "iopub.status.busy": "2024-12-16T14:54:00.912717Z",
     "iopub.status.idle": "2024-12-16T14:59:55.961125Z",
     "shell.execute_reply": "2024-12-16T14:59:55.960399Z",
     "shell.execute_reply.started": "2024-12-16T14:54:00.912995Z"
    }
   },
   "outputs": [
    {
     "data": {
      "text/plain": [
       "366.85755157470703"
      ]
     },
     "execution_count": 28,
     "metadata": {},
     "output_type": "execute_result"
    }
   ],
   "source": [
    "# Recording the current timestamp to measure execution time\n",
    "ts = time.time()\n",
    "\n",
    "# Calculating the average price for each item across all time periods\n",
    "group = train.groupby(['item_id']).agg({'item_price': ['mean']})\n",
    "group.columns = ['item_avg_item_price']\n",
    "group.reset_index(inplace=True)\n",
    "\n",
    "# Merging the average item prices into the matrix\n",
    "matrix = pd.merge(matrix, group, on=['item_id'], how='left')\n",
    "matrix['item_avg_item_price'] = matrix['item_avg_item_price'].astype(np.float16)  # Optimizing memory usage\n",
    "\n",
    "# Calculating the average price for each item per month\n",
    "group = train.groupby(['date_block_num', 'item_id']).agg({'item_price': ['mean']})\n",
    "group.columns = ['date_item_avg_item_price']\n",
    "group.reset_index(inplace=True)\n",
    "\n",
    "# Merging the monthly average item prices into the matrix\n",
    "matrix = pd.merge(matrix, group, on=['date_block_num', 'item_id'], how='left')\n",
    "matrix['date_item_avg_item_price'] = matrix['date_item_avg_item_price'].astype(np.float16)  # Optimizing memory usage\n",
    "\n",
    "# Adding lagged features for 'date_item_avg_item_price' with specified lags\n",
    "lags = [1, 2, 3, 4, 5, 6]\n",
    "matrix = lag_feature(matrix, lags, 'date_item_avg_item_price')\n",
    "\n",
    "# Calculating price deltas (percentage change in price) for each lag\n",
    "for i in lags:\n",
    "    matrix['delta_price_lag_' + str(i)] = (\n",
    "        (matrix['date_item_avg_item_price_lag_' + str(i)] - matrix['item_avg_item_price']) /\n",
    "        matrix['item_avg_item_price']\n",
    "    )\n",
    "\n",
    "# Function to select the first non-null price delta across lags\n",
    "def select_trend(row):\n",
    "    for i in lags:\n",
    "        if row['delta_price_lag_' + str(i)]:\n",
    "            return row['delta_price_lag_' + str(i)]\n",
    "    return 0\n",
    "\n",
    "# Applying the trend selection function across rows\n",
    "matrix['delta_price_lag'] = matrix.apply(select_trend, axis=1)\n",
    "matrix['delta_price_lag'] = matrix['delta_price_lag'].astype(np.float16)  # Optimizing memory usage\n",
    "matrix['delta_price_lag'].fillna(0, inplace=True)  # Filling missing values with 0\n",
    "\n",
    "# Dropping unnecessary columns after feature engineering\n",
    "features_to_drop = ['item_avg_item_price', 'date_item_avg_item_price']\n",
    "for i in lags:\n",
    "    features_to_drop += ['date_item_avg_item_price_lag_' + str(i)]\n",
    "    features_to_drop += ['delta_price_lag_' + str(i)]\n",
    "\n",
    "matrix.drop(features_to_drop, axis=1, inplace=True)\n",
    "\n",
    "# Calculating and displaying the execution time\n",
    "time.time() - ts"
   ]
  },
  {
   "cell_type": "markdown",
   "metadata": {
    "_uuid": "17765ddb48f52abd88847a42c0a3ffe974e5b121"
   },
   "source": [
    "Last month shop revenue trend"
   ]
  },
  {
   "cell_type": "code",
   "execution_count": 29,
   "metadata": {
    "_uuid": "e633be47f1a22b41487866ce67fb874bd296339e",
    "execution": {
     "iopub.execute_input": "2024-12-16T14:59:55.962586Z",
     "iopub.status.busy": "2024-12-16T14:59:55.962301Z",
     "iopub.status.idle": "2024-12-16T15:00:34.372237Z",
     "shell.execute_reply": "2024-12-16T15:00:34.371509Z",
     "shell.execute_reply.started": "2024-12-16T14:59:55.962525Z"
    }
   },
   "outputs": [
    {
     "data": {
      "text/plain": [
       "38.765753746032715"
      ]
     },
     "execution_count": 29,
     "metadata": {},
     "output_type": "execute_result"
    }
   ],
   "source": [
    "# Recording the current timestamp to measure execution time\n",
    "ts = time.time()\n",
    "\n",
    "# Calculating total revenue for each shop per month\n",
    "group = train.groupby(['date_block_num', 'shop_id']).agg({'revenue': ['sum']})\n",
    "group.columns = ['date_shop_revenue']\n",
    "group.reset_index(inplace=True)\n",
    "\n",
    "# Merging monthly shop revenues into the matrix\n",
    "matrix = pd.merge(matrix, group, on=['date_block_num', 'shop_id'], how='left')\n",
    "matrix['date_shop_revenue'] = matrix['date_shop_revenue'].astype(np.float32)  # Optimizing memory usage\n",
    "\n",
    "# Calculating the average revenue for each shop across all months\n",
    "group = group.groupby(['shop_id']).agg({'date_shop_revenue': ['mean']})\n",
    "group.columns = ['shop_avg_revenue']\n",
    "group.reset_index(inplace=True)\n",
    "\n",
    "# Merging the average shop revenues into the matrix\n",
    "matrix = pd.merge(matrix, group, on=['shop_id'], how='left')\n",
    "matrix['shop_avg_revenue'] = matrix['shop_avg_revenue'].astype(np.float32)  # Optimizing memory usage\n",
    "\n",
    "# Calculating the revenue delta (percentage deviation from the shop's average revenue)\n",
    "matrix['delta_revenue'] = (\n",
    "    (matrix['date_shop_revenue'] - matrix['shop_avg_revenue']) / matrix['shop_avg_revenue']\n",
    ")\n",
    "matrix['delta_revenue'] = matrix['delta_revenue'].astype(np.float16)  # Optimizing memory usage\n",
    "\n",
    "# Adding a lagged feature for 'delta_revenue' with a lag of 1 month\n",
    "matrix = lag_feature(matrix, [1], 'delta_revenue')\n",
    "\n",
    "# Dropping intermediate columns that are no longer needed\n",
    "matrix.drop(['date_shop_revenue', 'shop_avg_revenue', 'delta_revenue'], axis=1, inplace=True)\n",
    "\n",
    "# Calculating and displaying the execution time\n",
    "time.time() - ts"
   ]
  },
  {
   "cell_type": "markdown",
   "metadata": {
    "_uuid": "47e06af411b7d26cd93dad3d6735e48e5fbdee50"
   },
   "source": [
    "## Special features"
   ]
  },
  {
   "cell_type": "code",
   "execution_count": 30,
   "metadata": {
    "_uuid": "bb521e1f33d4124a3b90b47447bdb29150770b6e",
    "execution": {
     "iopub.execute_input": "2024-12-16T15:00:34.373646Z",
     "iopub.status.busy": "2024-12-16T15:00:34.373376Z",
     "iopub.status.idle": "2024-12-16T15:00:34.442544Z",
     "shell.execute_reply": "2024-12-16T15:00:34.441758Z",
     "shell.execute_reply.started": "2024-12-16T15:00:34.373591Z"
    }
   },
   "outputs": [],
   "source": [
    "# Adding a new column 'month' to the matrix\n",
    "# The value is calculated as the remainder of 'date_block_num' divided by 12,\n",
    "# representing the month in a yearly cycle (0 = January, 11 = December)\n",
    "matrix['month'] = matrix['date_block_num'] % 12"
   ]
  },
  {
   "cell_type": "markdown",
   "metadata": {
    "_uuid": "b4dc4d2ff86483989c4b74fc02a0d01ca68a5c75"
   },
   "source": [
    "Number of days in a month. There are no leap years."
   ]
  },
  {
   "cell_type": "code",
   "execution_count": 31,
   "metadata": {
    "_uuid": "e23f0201056b73368e3b70d4c36c6bb9e4a55291",
    "execution": {
     "iopub.execute_input": "2024-12-16T15:00:34.444176Z",
     "iopub.status.busy": "2024-12-16T15:00:34.443834Z",
     "iopub.status.idle": "2024-12-16T15:00:34.640792Z",
     "shell.execute_reply": "2024-12-16T15:00:34.639986Z",
     "shell.execute_reply.started": "2024-12-16T15:00:34.444113Z"
    }
   },
   "outputs": [],
   "source": [
    "# Creating a Series that represents the number of days in each month (January to December)\n",
    "days = pd.Series([31, 28, 31, 30, 31, 30, 31, 31, 30, 31, 30, 31])\n",
    "\n",
    "# Mapping the 'month' column in the matrix to the number of days in that month\n",
    "# Converting the result to int8 for memory efficiency\n",
    "matrix['days'] = matrix['month'].map(days).astype(np.int8)"
   ]
  },
  {
   "cell_type": "markdown",
   "metadata": {
    "_uuid": "7c096e86eb0043c0f6eeb899de24e28ca4c4e044"
   },
   "source": [
    "Months since the last sale for each shop/item pair and for item only. I use programing approach.\n",
    "\n",
    "<i>Create HashTable with key equals to {shop_id,item_id} and value equals to date_block_num. Iterate data from the top. Foreach row if {row.shop_id,row.item_id} is not present in the table, then add it to the table and set its value to row.date_block_num. if HashTable contains key, then calculate the difference beteween cached value and row.date_block_num.</i>"
   ]
  },
  {
   "cell_type": "code",
   "execution_count": 32,
   "metadata": {
    "_uuid": "3458a7056c963167760921417d1f863f074f2b39",
    "execution": {
     "iopub.execute_input": "2024-12-16T15:00:34.642283Z",
     "iopub.status.busy": "2024-12-16T15:00:34.642015Z",
     "iopub.status.idle": "2024-12-16T15:16:55.488944Z",
     "shell.execute_reply": "2024-12-16T15:16:55.488112Z",
     "shell.execute_reply.started": "2024-12-16T15:00:34.642217Z"
    }
   },
   "outputs": [
    {
     "data": {
      "text/plain": [
       "1011.9656839370728"
      ]
     },
     "execution_count": 32,
     "metadata": {},
     "output_type": "execute_result"
    }
   ],
   "source": [
    "# Recording the current timestamp to measure execution time\n",
    "ts = time.time()\n",
    "\n",
    "# Initializing a cache to store the last sale month for each (item_id, shop_id) combination\n",
    "cache = {}\n",
    "\n",
    "# Adding a new column 'item_shop_last_sale' to track the number of months since the last sale for each item in each shop\n",
    "matrix['item_shop_last_sale'] = -1  # Default value of -1 for items with no previous sales\n",
    "matrix['item_shop_last_sale'] = matrix['item_shop_last_sale'].astype(np.int8)  # Optimizing memory usage\n",
    "\n",
    "# Iterating through each row in the matrix\n",
    "for idx, row in matrix.iterrows():\n",
    "    # Creating a unique key for each (item_id, shop_id) combination\n",
    "    key = str(row.item_id) + ' ' + str(row.shop_id)\n",
    "    \n",
    "    # Checking if the key is in the cache\n",
    "    if key not in cache:\n",
    "        # If not in cache and there is a sale, store the current date_block_num in the cache\n",
    "        if row.item_cnt_month != 0:\n",
    "            cache[key] = row.date_block_num\n",
    "    else:\n",
    "        # If the key is in the cache, calculate the months since the last sale\n",
    "        last_date_block_num = cache[key]\n",
    "        matrix.at[idx, 'item_shop_last_sale'] = row.date_block_num - last_date_block_num\n",
    "        # Update the cache with the current date_block_num\n",
    "        cache[key] = row.date_block_num\n",
    "\n",
    "# Calculating and displaying the execution time\n",
    "time.time() - ts"
   ]
  },
  {
   "cell_type": "code",
   "execution_count": 33,
   "metadata": {
    "_uuid": "28b29fae3906d870b4dc3064a7f359b6d3abf623",
    "execution": {
     "iopub.execute_input": "2024-12-16T15:16:55.490672Z",
     "iopub.status.busy": "2024-12-16T15:16:55.490370Z",
     "iopub.status.idle": "2024-12-16T15:26:25.545348Z",
     "shell.execute_reply": "2024-12-16T15:26:25.544439Z",
     "shell.execute_reply.started": "2024-12-16T15:16:55.490611Z"
    }
   },
   "outputs": [
    {
     "data": {
      "text/plain": [
       "587.1859619617462"
      ]
     },
     "execution_count": 33,
     "metadata": {},
     "output_type": "execute_result"
    }
   ],
   "source": [
    "# Recording the current timestamp to measure execution time\n",
    "ts = time.time()\n",
    "\n",
    "# Initializing a cache to store the last sale month for each item\n",
    "cache = {}\n",
    "\n",
    "# Adding a new column 'item_last_sale' to track the number of months since the last sale for each item\n",
    "matrix['item_last_sale'] = -1  # Default value of -1 for items with no previous sales\n",
    "matrix['item_last_sale'] = matrix['item_last_sale'].astype(np.int8)  # Optimizing memory usage\n",
    "\n",
    "# Iterating through each row in the matrix\n",
    "for idx, row in matrix.iterrows():\n",
    "    # Using the item_id as the key\n",
    "    key = row.item_id\n",
    "    \n",
    "    # Checking if the key is in the cache\n",
    "    if key not in cache:\n",
    "        # If not in cache and there is a sale, store the current date_block_num in the cache\n",
    "        if row.item_cnt_month != 0:\n",
    "            cache[key] = row.date_block_num\n",
    "    else:\n",
    "        # If the key is in the cache, calculate the months since the last sale\n",
    "        last_date_block_num = cache[key]\n",
    "        if row.date_block_num > last_date_block_num:\n",
    "            matrix.at[idx, 'item_last_sale'] = row.date_block_num - last_date_block_num\n",
    "            # Update the cache with the current date_block_num\n",
    "            cache[key] = row.date_block_num\n",
    "\n",
    "# Calculating and displaying the execution time\n",
    "time.time() - ts"
   ]
  },
  {
   "cell_type": "markdown",
   "metadata": {
    "_uuid": "61987e6adc1bec2ea897eec837c0253f7f73fdb5"
   },
   "source": [
    "Months since the first sale for each shop/item pair and for item only."
   ]
  },
  {
   "cell_type": "code",
   "execution_count": 34,
   "metadata": {
    "_uuid": "ad0869709bbada35726d5ca41dd913d817249f8e",
    "execution": {
     "iopub.execute_input": "2024-12-16T15:26:25.546994Z",
     "iopub.status.busy": "2024-12-16T15:26:25.546711Z",
     "iopub.status.idle": "2024-12-16T15:26:29.412398Z",
     "shell.execute_reply": "2024-12-16T15:26:29.411454Z",
     "shell.execute_reply.started": "2024-12-16T15:26:25.546944Z"
    }
   },
   "outputs": [
    {
     "data": {
      "text/plain": [
       "3.3567311763763428"
      ]
     },
     "execution_count": 34,
     "metadata": {},
     "output_type": "execute_result"
    }
   ],
   "source": [
    "# Recording the current timestamp to measure execution time\n",
    "ts = time.time()\n",
    "\n",
    "# Calculating the number of months since the first sale for each (item_id, shop_id) combination\n",
    "# This is done by subtracting the earliest 'date_block_num' for each group from the current 'date_block_num'\n",
    "matrix['item_shop_first_sale'] = matrix['date_block_num'] - matrix.groupby(['item_id', 'shop_id'])['date_block_num'].transform('min')\n",
    "\n",
    "# Calculating the number of months since the first sale for each item\n",
    "# This is done by subtracting the earliest 'date_block_num' for each item_id from the current 'date_block_num'\n",
    "matrix['item_first_sale'] = matrix['date_block_num'] - matrix.groupby('item_id')['date_block_num'].transform('min')\n",
    "\n",
    "# Calculating and displaying the execution time\n",
    "time.time() - ts"
   ]
  },
  {
   "cell_type": "markdown",
   "metadata": {
    "_uuid": "966cb34ccfe849fbb3707d93270691cb8eef7a89"
   },
   "source": [
    "## Final preparations\n",
    "Because of the using 12 as lag value drop first 12 months. Also drop all the columns with this month calculated values (other words which can not be calcucated for the test set)."
   ]
  },
  {
   "cell_type": "code",
   "execution_count": 35,
   "metadata": {
    "_uuid": "04df1bc4240f409a5d4521c6f70c2ced44f7c3d4",
    "execution": {
     "iopub.execute_input": "2024-12-16T15:26:29.413890Z",
     "iopub.status.busy": "2024-12-16T15:26:29.413634Z",
     "iopub.status.idle": "2024-12-16T15:26:31.851970Z",
     "shell.execute_reply": "2024-12-16T15:26:31.851192Z",
     "shell.execute_reply.started": "2024-12-16T15:26:29.413847Z"
    }
   },
   "outputs": [
    {
     "data": {
      "text/plain": [
       "2.2943944931030273"
      ]
     },
     "execution_count": 35,
     "metadata": {},
     "output_type": "execute_result"
    }
   ],
   "source": [
    "# Recording the current timestamp to measure execution time\n",
    "ts = time.time()\n",
    "\n",
    "# Filtering the matrix to retain rows where 'date_block_num' is greater than 11\n",
    "# This effectively removes data from the first 12 months (0 to 11) of the dataset\n",
    "matrix = matrix[matrix.date_block_num > 11]\n",
    "\n",
    "# Calculating and displaying the execution time\n",
    "time.time() - ts"
   ]
  },
  {
   "cell_type": "markdown",
   "metadata": {
    "_uuid": "48a14784050901f878b40f093e4bc34e07ecce05"
   },
   "source": [
    "Producing lags brings a lot of nulls."
   ]
  },
  {
   "cell_type": "code",
   "execution_count": 36,
   "metadata": {
    "_uuid": "8e5d8cb5cea9be28af4a0486cc1bf797e5b5c7ee",
    "execution": {
     "iopub.execute_input": "2024-12-16T15:26:31.853788Z",
     "iopub.status.busy": "2024-12-16T15:26:31.853446Z",
     "iopub.status.idle": "2024-12-16T15:26:40.889824Z",
     "shell.execute_reply": "2024-12-16T15:26:40.889066Z",
     "shell.execute_reply.started": "2024-12-16T15:26:31.853721Z"
    }
   },
   "outputs": [
    {
     "data": {
      "text/plain": [
       "8.894295692443848"
      ]
     },
     "execution_count": 36,
     "metadata": {},
     "output_type": "execute_result"
    }
   ],
   "source": [
    "# Recording the current timestamp to measure execution time\n",
    "ts = time.time()\n",
    "\n",
    "# Function to fill NaN values in lagged columns\n",
    "def fill_na(df):\n",
    "    \"\"\"\n",
    "    Fills NaN values in lagged columns of the DataFrame. Specifically, for lagged columns\n",
    "    related to 'item_cnt', NaN values are replaced with 0.\n",
    "\n",
    "    Parameters:\n",
    "        df (DataFrame): The input DataFrame containing lagged columns.\n",
    "\n",
    "    Returns:\n",
    "        DataFrame: The DataFrame with NaN values filled.\n",
    "    \"\"\"\n",
    "    for col in df.columns:\n",
    "        # Check if the column name contains '_lag_' and has any NaN values\n",
    "        if ('_lag_' in col) & (df[col].isnull().any()):\n",
    "            # If the column name contains 'item_cnt', fill NaN values with 0\n",
    "            if 'item_cnt' in col:\n",
    "                df[col].fillna(0, inplace=True)\n",
    "    return df\n",
    "\n",
    "# Applying the fill_na function to the matrix\n",
    "matrix = fill_na(matrix)\n",
    "\n",
    "# Calculating and displaying the execution time\n",
    "time.time() - ts"
   ]
  },
  {
   "cell_type": "code",
   "execution_count": 37,
   "metadata": {
    "_uuid": "00bf3fffc1b143d0555d03b9d79b5fd00d9d0dc9",
    "execution": {
     "iopub.execute_input": "2024-12-16T15:26:40.891243Z",
     "iopub.status.busy": "2024-12-16T15:26:40.890969Z",
     "iopub.status.idle": "2024-12-16T15:26:40.897734Z",
     "shell.execute_reply": "2024-12-16T15:26:40.896883Z",
     "shell.execute_reply.started": "2024-12-16T15:26:40.891182Z"
    }
   },
   "outputs": [
    {
     "data": {
      "text/plain": [
       "Index(['date_block_num', 'shop_id', 'item_id', 'item_cnt_month', 'city_code',\n",
       "       'item_category_id', 'type_code', 'subtype_code', 'item_cnt_month_lag_1',\n",
       "       'item_cnt_month_lag_2', 'item_cnt_month_lag_3', 'item_cnt_month_lag_6',\n",
       "       'item_cnt_month_lag_12', 'date_avg_item_cnt_lag_1',\n",
       "       'date_item_avg_item_cnt_lag_1', 'date_item_avg_item_cnt_lag_2',\n",
       "       'date_item_avg_item_cnt_lag_3', 'date_item_avg_item_cnt_lag_6',\n",
       "       'date_item_avg_item_cnt_lag_12', 'date_shop_avg_item_cnt_lag_1',\n",
       "       'date_shop_avg_item_cnt_lag_2', 'date_shop_avg_item_cnt_lag_3',\n",
       "       'date_shop_avg_item_cnt_lag_6', 'date_shop_avg_item_cnt_lag_12',\n",
       "       'date_cat_avg_item_cnt_lag_1', 'date_shop_cat_avg_item_cnt_lag_1',\n",
       "       'date_shop_type_avg_item_cnt_lag_1',\n",
       "       'date_shop_subtype_avg_item_cnt_lag_1', 'date_city_avg_item_cnt_lag_1',\n",
       "       'date_item_city_avg_item_cnt_lag_1', 'date_type_avg_item_cnt_lag_1',\n",
       "       'date_subtype_avg_item_cnt_lag_1', 'delta_price_lag',\n",
       "       'delta_revenue_lag_1', 'month', 'days', 'item_shop_last_sale',\n",
       "       'item_last_sale', 'item_shop_first_sale', 'item_first_sale'],\n",
       "      dtype='object')"
      ]
     },
     "execution_count": 37,
     "metadata": {},
     "output_type": "execute_result"
    }
   ],
   "source": [
    "matrix.columns"
   ]
  },
  {
   "cell_type": "code",
   "execution_count": 38,
   "metadata": {
    "_uuid": "5f4e4c5c552daf8d4da6999ae4b63f13459b2887",
    "execution": {
     "iopub.execute_input": "2024-12-16T15:26:40.899572Z",
     "iopub.status.busy": "2024-12-16T15:26:40.899184Z",
     "iopub.status.idle": "2024-12-16T15:26:40.913620Z",
     "shell.execute_reply": "2024-12-16T15:26:40.912756Z",
     "shell.execute_reply.started": "2024-12-16T15:26:40.899501Z"
    }
   },
   "outputs": [
    {
     "name": "stdout",
     "output_type": "stream",
     "text": [
      "<class 'pandas.core.frame.DataFrame'>\n",
      "Int64Index: 6639294 entries, 4488710 to 11128003\n",
      "Data columns (total 40 columns):\n",
      "date_block_num                          int8\n",
      "shop_id                                 int8\n",
      "item_id                                 int16\n",
      "item_cnt_month                          float16\n",
      "city_code                               int8\n",
      "item_category_id                        int8\n",
      "type_code                               int8\n",
      "subtype_code                            int8\n",
      "item_cnt_month_lag_1                    float16\n",
      "item_cnt_month_lag_2                    float16\n",
      "item_cnt_month_lag_3                    float16\n",
      "item_cnt_month_lag_6                    float16\n",
      "item_cnt_month_lag_12                   float16\n",
      "date_avg_item_cnt_lag_1                 float16\n",
      "date_item_avg_item_cnt_lag_1            float16\n",
      "date_item_avg_item_cnt_lag_2            float16\n",
      "date_item_avg_item_cnt_lag_3            float16\n",
      "date_item_avg_item_cnt_lag_6            float16\n",
      "date_item_avg_item_cnt_lag_12           float16\n",
      "date_shop_avg_item_cnt_lag_1            float16\n",
      "date_shop_avg_item_cnt_lag_2            float16\n",
      "date_shop_avg_item_cnt_lag_3            float16\n",
      "date_shop_avg_item_cnt_lag_6            float16\n",
      "date_shop_avg_item_cnt_lag_12           float16\n",
      "date_cat_avg_item_cnt_lag_1             float16\n",
      "date_shop_cat_avg_item_cnt_lag_1        float16\n",
      "date_shop_type_avg_item_cnt_lag_1       float16\n",
      "date_shop_subtype_avg_item_cnt_lag_1    float16\n",
      "date_city_avg_item_cnt_lag_1            float16\n",
      "date_item_city_avg_item_cnt_lag_1       float16\n",
      "date_type_avg_item_cnt_lag_1            float16\n",
      "date_subtype_avg_item_cnt_lag_1         float16\n",
      "delta_price_lag                         float16\n",
      "delta_revenue_lag_1                     float16\n",
      "month                                   int8\n",
      "days                                    int8\n",
      "item_shop_last_sale                     int8\n",
      "item_last_sale                          int8\n",
      "item_shop_first_sale                    int8\n",
      "item_first_sale                         int8\n",
      "dtypes: float16(27), int16(1), int8(12)\n",
      "memory usage: 481.2 MB\n"
     ]
    }
   ],
   "source": [
    "matrix.info()"
   ]
  },
  {
   "cell_type": "code",
   "execution_count": 39,
   "metadata": {
    "_uuid": "5d9988f8da8876f74092fbf827ceb6c61dd09d5e",
    "execution": {
     "iopub.execute_input": "2024-12-16T15:26:40.915481Z",
     "iopub.status.busy": "2024-12-16T15:26:40.915120Z",
     "iopub.status.idle": "2024-12-16T15:26:44.012832Z",
     "shell.execute_reply": "2024-12-16T15:26:44.011778Z",
     "shell.execute_reply.started": "2024-12-16T15:26:40.915402Z"
    }
   },
   "outputs": [],
   "source": [
    "matrix.to_pickle('data.pkl')\n",
    "del matrix\n",
    "del cache\n",
    "del group\n",
    "del items\n",
    "del shops\n",
    "del cats\n",
    "del train\n",
    "# leave test for submission\n",
    "gc.collect();"
   ]
  },
  {
   "cell_type": "markdown",
   "metadata": {
    "_uuid": "b69932efb440af8f6435f3cd802fbcd15682af71",
    "collapsed": true,
    "jupyter": {
     "outputs_hidden": true
    }
   },
   "source": [
    "# Part 2, xgboost"
   ]
  },
  {
   "cell_type": "code",
   "execution_count": 40,
   "metadata": {
    "_uuid": "a54364495b1818e9f069efa0c53500bf9e21d5f9",
    "execution": {
     "iopub.execute_input": "2024-12-16T15:26:44.014722Z",
     "iopub.status.busy": "2024-12-16T15:26:44.014332Z",
     "iopub.status.idle": "2024-12-16T15:26:45.114989Z",
     "shell.execute_reply": "2024-12-16T15:26:45.113906Z",
     "shell.execute_reply.started": "2024-12-16T15:26:44.014652Z"
    }
   },
   "outputs": [],
   "source": [
    "data = pd.read_pickle('data.pkl')"
   ]
  },
  {
   "cell_type": "markdown",
   "metadata": {
    "_uuid": "e5742775554b9e48e4d5c19784184069ad3eb9fb"
   },
   "source": [
    "Select perfect features"
   ]
  },
  {
   "cell_type": "code",
   "execution_count": 41,
   "metadata": {
    "_uuid": "bfc928a916bb8b285b2fe90fb1a311cf2fbbf2e3",
    "execution": {
     "iopub.execute_input": "2024-12-16T15:26:45.116976Z",
     "iopub.status.busy": "2024-12-16T15:26:45.116602Z",
     "iopub.status.idle": "2024-12-16T15:26:46.358156Z",
     "shell.execute_reply": "2024-12-16T15:26:46.357423Z",
     "shell.execute_reply.started": "2024-12-16T15:26:45.116895Z"
    }
   },
   "outputs": [],
   "source": [
    "data = data[[\n",
    "    'date_block_num',\n",
    "    'shop_id',\n",
    "    'item_id',\n",
    "    'item_cnt_month',\n",
    "    'city_code',\n",
    "    'item_category_id',\n",
    "    'type_code',\n",
    "    'subtype_code',\n",
    "    'item_cnt_month_lag_1',\n",
    "    'item_cnt_month_lag_2',\n",
    "    'item_cnt_month_lag_3',\n",
    "    'item_cnt_month_lag_6',\n",
    "    'item_cnt_month_lag_12',\n",
    "    'date_avg_item_cnt_lag_1',\n",
    "    'date_item_avg_item_cnt_lag_1',\n",
    "    'date_item_avg_item_cnt_lag_2',\n",
    "    'date_item_avg_item_cnt_lag_3',\n",
    "    'date_item_avg_item_cnt_lag_6',\n",
    "    'date_item_avg_item_cnt_lag_12',\n",
    "    'date_shop_avg_item_cnt_lag_1',\n",
    "    'date_shop_avg_item_cnt_lag_2',\n",
    "    'date_shop_avg_item_cnt_lag_3',\n",
    "    'date_shop_avg_item_cnt_lag_6',\n",
    "    'date_shop_avg_item_cnt_lag_12',\n",
    "    'date_cat_avg_item_cnt_lag_1',\n",
    "    'date_shop_cat_avg_item_cnt_lag_1',\n",
    "    #'date_shop_type_avg_item_cnt_lag_1',\n",
    "    #'date_shop_subtype_avg_item_cnt_lag_1',\n",
    "    'date_city_avg_item_cnt_lag_1',\n",
    "    'date_item_city_avg_item_cnt_lag_1',\n",
    "    #'date_type_avg_item_cnt_lag_1',\n",
    "    #'date_subtype_avg_item_cnt_lag_1',\n",
    "    'delta_price_lag',\n",
    "    'month',\n",
    "    'days',\n",
    "    'item_shop_last_sale',\n",
    "    'item_last_sale',\n",
    "    'item_shop_first_sale',\n",
    "    'item_first_sale',\n",
    "]]"
   ]
  },
  {
   "cell_type": "markdown",
   "metadata": {
    "_uuid": "11eb4f2f5ada18aa8993ec55e8c63e80758fc19e"
   },
   "source": [
    "Validation strategy is 34 month for the test set, 33 month for the validation set and 13-33 months for the train."
   ]
  },
  {
   "cell_type": "code",
   "execution_count": 42,
   "metadata": {
    "_uuid": "9af76d7b80064573a453e5e10c35b76fc31c47a4",
    "execution": {
     "iopub.execute_input": "2024-12-16T15:26:46.359534Z",
     "iopub.status.busy": "2024-12-16T15:26:46.359290Z",
     "iopub.status.idle": "2024-12-16T15:26:50.881340Z",
     "shell.execute_reply": "2024-12-16T15:26:50.880438Z",
     "shell.execute_reply.started": "2024-12-16T15:26:46.359491Z"
    }
   },
   "outputs": [],
   "source": [
    "# Splitting the dataset into training, validation, and test sets\n",
    "\n",
    "# Training set: Data from date_block_num < 33\n",
    "X_train = data[data.date_block_num < 33].drop(['item_cnt_month'], axis=1)  # Features for training\n",
    "Y_train = data[data.date_block_num < 33]['item_cnt_month']  # Target variable for training\n",
    "\n",
    "# Validation set: Data from date_block_num == 33\n",
    "X_valid = data[data.date_block_num == 33].drop(['item_cnt_month'], axis=1)  # Features for validation\n",
    "Y_valid = data[data.date_block_num == 33]['item_cnt_month']  # Target variable for validation\n",
    "\n",
    "# Test set: Data from date_block_num == 34\n",
    "X_test = data[data.date_block_num == 34].drop(['item_cnt_month'], axis=1)  # Features for testing"
   ]
  },
  {
   "cell_type": "code",
   "execution_count": 43,
   "metadata": {
    "_uuid": "6ea5437e8949db6d3e54e68b7b0c18cd0befe38c",
    "execution": {
     "iopub.execute_input": "2024-12-16T15:26:50.883279Z",
     "iopub.status.busy": "2024-12-16T15:26:50.882898Z",
     "iopub.status.idle": "2024-12-16T15:26:51.033063Z"
    }
   },
   "outputs": [
    {
     "data": {
      "text/plain": [
       "7"
      ]
     },
     "execution_count": 43,
     "metadata": {},
     "output_type": "execute_result"
    }
   ],
   "source": [
    "# Deleting the 'data' DataFrame to free up memory\n",
    "del data\n",
    "\n",
    "# Forcing garbage collection to clean up unreferenced objects\n",
    "gc.collect()"
   ]
  },
  {
   "cell_type": "code",
   "execution_count": 44,
   "metadata": {
    "_uuid": "acef75c36501f808d45f81fc69f9708fc3283bc3",
    "execution": {
     "iopub.execute_input": "2024-12-16T15:26:51.035341Z",
     "iopub.status.busy": "2024-12-16T15:26:51.034913Z"
    }
   },
   "outputs": [
    {
     "name": "stdout",
     "output_type": "stream",
     "text": [
      "[0]\tvalidation_0-rmse:1.15115\tvalidation_1-rmse:1.11798\n",
      "Multiple eval metrics have been passed: 'validation_1-rmse' will be used for early stopping.\n",
      "\n",
      "Will train until validation_1-rmse hasn't improved in 10 rounds.\n",
      "[1]\tvalidation_0-rmse:1.10687\tvalidation_1-rmse:1.08404\n",
      "[2]\tvalidation_0-rmse:1.06586\tvalidation_1-rmse:1.05307\n",
      "[3]\tvalidation_0-rmse:1.03083\tvalidation_1-rmse:1.02696\n",
      "[4]\tvalidation_0-rmse:1.0038\tvalidation_1-rmse:1.00857\n",
      "[5]\tvalidation_0-rmse:0.978529\tvalidation_1-rmse:0.990388\n",
      "[6]\tvalidation_0-rmse:0.957395\tvalidation_1-rmse:0.975655\n",
      "[7]\tvalidation_0-rmse:0.938939\tvalidation_1-rmse:0.96271\n",
      "[8]\tvalidation_0-rmse:0.923232\tvalidation_1-rmse:0.952649\n",
      "[9]\tvalidation_0-rmse:0.910424\tvalidation_1-rmse:0.944352\n",
      "[10]\tvalidation_0-rmse:0.899173\tvalidation_1-rmse:0.937611\n",
      "[11]\tvalidation_0-rmse:0.889466\tvalidation_1-rmse:0.932494\n",
      "[12]\tvalidation_0-rmse:0.881379\tvalidation_1-rmse:0.928056\n",
      "[13]\tvalidation_0-rmse:0.874594\tvalidation_1-rmse:0.924315\n",
      "[14]\tvalidation_0-rmse:0.868647\tvalidation_1-rmse:0.921059\n",
      "[15]\tvalidation_0-rmse:0.863089\tvalidation_1-rmse:0.918693\n",
      "[16]\tvalidation_0-rmse:0.858058\tvalidation_1-rmse:0.916832\n",
      "[17]\tvalidation_0-rmse:0.853956\tvalidation_1-rmse:0.91513\n",
      "[18]\tvalidation_0-rmse:0.850375\tvalidation_1-rmse:0.913957\n",
      "[19]\tvalidation_0-rmse:0.847462\tvalidation_1-rmse:0.912559\n",
      "[20]\tvalidation_0-rmse:0.844111\tvalidation_1-rmse:0.912796\n",
      "[21]\tvalidation_0-rmse:0.84148\tvalidation_1-rmse:0.911829\n",
      "[22]\tvalidation_0-rmse:0.83889\tvalidation_1-rmse:0.91081\n",
      "[23]\tvalidation_0-rmse:0.836327\tvalidation_1-rmse:0.909467\n",
      "[24]\tvalidation_0-rmse:0.833778\tvalidation_1-rmse:0.909143\n",
      "[25]\tvalidation_0-rmse:0.831529\tvalidation_1-rmse:0.908383\n",
      "[26]\tvalidation_0-rmse:0.830163\tvalidation_1-rmse:0.907943\n",
      "[27]\tvalidation_0-rmse:0.828674\tvalidation_1-rmse:0.907645\n",
      "[28]\tvalidation_0-rmse:0.827013\tvalidation_1-rmse:0.907034\n",
      "[29]\tvalidation_0-rmse:0.825432\tvalidation_1-rmse:0.906604\n",
      "[30]\tvalidation_0-rmse:0.824283\tvalidation_1-rmse:0.906815\n",
      "[31]\tvalidation_0-rmse:0.823251\tvalidation_1-rmse:0.906519\n",
      "[32]\tvalidation_0-rmse:0.822098\tvalidation_1-rmse:0.906345\n",
      "[33]\tvalidation_0-rmse:0.821213\tvalidation_1-rmse:0.906329\n",
      "[34]\tvalidation_0-rmse:0.820317\tvalidation_1-rmse:0.906179\n",
      "[35]\tvalidation_0-rmse:0.819347\tvalidation_1-rmse:0.906203\n",
      "[36]\tvalidation_0-rmse:0.81856\tvalidation_1-rmse:0.906378\n",
      "[37]\tvalidation_0-rmse:0.818015\tvalidation_1-rmse:0.90614\n",
      "[38]\tvalidation_0-rmse:0.817035\tvalidation_1-rmse:0.906135\n",
      "[39]\tvalidation_0-rmse:0.816415\tvalidation_1-rmse:0.906268\n",
      "[40]\tvalidation_0-rmse:0.815919\tvalidation_1-rmse:0.906379\n",
      "[41]\tvalidation_0-rmse:0.815426\tvalidation_1-rmse:0.906448\n",
      "[42]\tvalidation_0-rmse:0.814711\tvalidation_1-rmse:0.906425\n",
      "[43]\tvalidation_0-rmse:0.814034\tvalidation_1-rmse:0.906463\n",
      "[44]\tvalidation_0-rmse:0.813742\tvalidation_1-rmse:0.906246\n",
      "[45]\tvalidation_0-rmse:0.813137\tvalidation_1-rmse:0.905782\n",
      "[46]\tvalidation_0-rmse:0.812666\tvalidation_1-rmse:0.905902\n",
      "[47]\tvalidation_0-rmse:0.812359\tvalidation_1-rmse:0.905807\n",
      "[48]\tvalidation_0-rmse:0.811902\tvalidation_1-rmse:0.905914\n",
      "[49]\tvalidation_0-rmse:0.81132\tvalidation_1-rmse:0.90593\n",
      "[50]\tvalidation_0-rmse:0.810779\tvalidation_1-rmse:0.90599\n",
      "[51]\tvalidation_0-rmse:0.810446\tvalidation_1-rmse:0.905962\n",
      "[52]\tvalidation_0-rmse:0.810068\tvalidation_1-rmse:0.906491\n",
      "[53]\tvalidation_0-rmse:0.809446\tvalidation_1-rmse:0.907076\n",
      "[54]\tvalidation_0-rmse:0.808975\tvalidation_1-rmse:0.90696\n",
      "[55]\tvalidation_0-rmse:0.808728\tvalidation_1-rmse:0.906884\n",
      "Stopping. Best iteration:\n",
      "[45]\tvalidation_0-rmse:0.813137\tvalidation_1-rmse:0.905782\n",
      "\n"
     ]
    },
    {
     "data": {
      "text/plain": [
       "2215.5897619724274"
      ]
     },
     "execution_count": 44,
     "metadata": {},
     "output_type": "execute_result"
    }
   ],
   "source": [
    "# Recording the current timestamp to measure execution time\n",
    "ts = time.time()\n",
    "\n",
    "# Initializing the XGBoost Regressor model with specified hyperparameters\n",
    "model = XGBRegressor(\n",
    "    max_depth=8,                # Maximum depth of a tree\n",
    "    n_estimators=1000,          # Number of boosting rounds (trees)\n",
    "    min_child_weight=300,       # Minimum sum of instance weight (hessian) needed in a child\n",
    "    colsample_bytree=0.8,       # Fraction of features to be randomly sampled for each tree\n",
    "    subsample=0.8,              # Fraction of training samples used for each tree\n",
    "    eta=0.3,                    # Learning rate\n",
    "    seed=42                     # Random seed for reproducibility\n",
    ")\n",
    "\n",
    "# Training the model using the training set\n",
    "model.fit(\n",
    "    X_train,                    # Features for training\n",
    "    Y_train,                    # Target variable for training\n",
    "    eval_metric=\"rmse\",         # Evaluation metric: Root Mean Square Error\n",
    "    eval_set=[                  # Evaluation sets: Training and validation sets\n",
    "        (X_train, Y_train), \n",
    "        (X_valid, Y_valid)\n",
    "    ],\n",
    "    verbose=True,               # Verbose output during training\n",
    "    early_stopping_rounds=10    # Stop training if validation metric doesn't improve after 10 rounds\n",
    ")\n",
    "\n",
    "# Calculating and displaying the execution time\n",
    "time.time() - ts"
   ]
  },
  {
   "cell_type": "code",
   "execution_count": 45,
   "metadata": {
    "_uuid": "8ff5a80a22d046c5ca1cb27e938c757b607551d2"
   },
   "outputs": [],
   "source": [
    "# Generating predictions for the validation and test sets\n",
    "# Clipping the predictions to the range [0, 20] as required\n",
    "Y_pred = model.predict(X_valid).clip(0, 20)  # Predictions for the validation set\n",
    "Y_test = model.predict(X_test).clip(0, 20)   # Predictions for the test set\n",
    "\n",
    "# Creating a submission DataFrame for the test set\n",
    "submission = pd.DataFrame({\n",
    "    \"ID\": test.index,             # Test set IDs\n",
    "    \"item_cnt_month\": Y_test      # Predicted item counts\n",
    "})\n",
    "\n",
    "# Saving the submission DataFrame to a CSV file\n",
    "submission.to_csv('xgb_submission.csv', index=False)\n",
    "\n",
    "# Saving predictions for an ensemble\n",
    "# Storing validation set predictions\n",
    "pickle.dump(Y_pred, open('xgb_train.pickle', 'wb'))\n",
    "\n",
    "# Storing test set predictions\n",
    "pickle.dump(Y_test, open('xgb_test.pickle', 'wb'))"
   ]
  },
  {
   "cell_type": "code",
   "execution_count": 46,
   "metadata": {
    "_uuid": "c8adc7c93323eb77baeceb2e8db17390b5c4deb3"
   },
   "outputs": [
    {
     "data": {
      "text/plain": [
       "<matplotlib.axes._subplots.AxesSubplot at 0x7e231f607a90>"
      ]
     },
     "execution_count": 46,
     "metadata": {},
     "output_type": "execute_result"
    },
    {
     "data": {
      "image/png": "[encoded data removed]",
      "text/plain": [
       "<matplotlib.figure.Figure at 0x7e231ff70940>"
      ]
     },
     "metadata": {},
     "output_type": "display_data"
    }
   ],
   "source": [
    "# Plotting feature importance for the trained XGBoost model\n",
    "# Using the previously defined `plot_features` function\n",
    "plot_features(model, (10, 14))"
   ]
  },
  {
   "cell_type": "code",
   "execution_count": 47,
   "metadata": {},
   "outputs": [],
   "source": []
  }
 ],
 "metadata": {
  "kaggle": {
   "accelerator": "none",
   "dataSources": [
    {
     "databundleVersionId": 868304,
     "sourceId": 8587,
     "sourceType": "competition"
    }
   ],
   "dockerImageVersionId": 4692,
   "isGpuEnabled": false,
   "isInternetEnabled": false,
   "language": "python",
   "sourceType": "notebook"
  },
  "kernelspec": {
   "display_name": "Python 3",
   "language": "python",
   "name": "python3"
  },
  "language_info": {
   "codemirror_mode": {
    "name": "ipython",
    "version": 3
   },
   "file_extension": ".py",
   "mimetype": "text/x-python",
   "name": "python",
   "nbconvert_exporter": "python",
   "pygments_lexer": "ipython3",
   "version": "3.6.5"
  }
 },
 "nbformat": 4,
 "nbformat_minor": 4
}
