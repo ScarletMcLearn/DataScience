{
 "cells": [
  {
   "cell_type": "code",
   "execution_count": 1,
   "metadata": {
    "collapsed": false
   },
   "outputs": [
    {
     "name": "stdout",
     "output_type": "stream",
     "text": [
      "hi\n"
     ]
    }
   ],
   "source": [
    "import bs4 as bs\n",
    "import urllib.request \n",
    "\n",
    "import time\n",
    "from random import randint\n",
    "\n",
    "from os import linesep\n",
    "\n",
    "print(\"hi\")"
   ]
  },
  {
   "cell_type": "code",
   "execution_count": 13,
   "metadata": {
    "collapsed": false
   },
   "outputs": [
    {
     "name": "stdout",
     "output_type": "stream",
     "text": [
      "Now processing Link: http://nfs.sparknotes.com/macbeth/page_6.html\n",
      "\n"
     ]
    },
    {
     "ename": "AttributeError",
     "evalue": "'NoneType' object has no attribute 'text'",
     "output_type": "error",
     "traceback": [
      "\u001b[0;31m---------------------------------------------------------------------------\u001b[0m",
      "\u001b[0;31mAttributeError\u001b[0m                            Traceback (most recent call last)",
      "\u001b[0;32m<ipython-input-13-7ddcead86c85>\u001b[0m in \u001b[0;36m<module>\u001b[0;34m()\u001b[0m\n\u001b[1;32m     20\u001b[0m     \u001b[0;32mfor\u001b[0m \u001b[0mt\u001b[0m \u001b[0;32min\u001b[0m \u001b[0mTags\u001b[0m\u001b[0;34m[\u001b[0m\u001b[0mitem\u001b[0m\u001b[0;34m]\u001b[0m\u001b[0;34m:\u001b[0m\u001b[0;34m\u001b[0m\u001b[0m\n\u001b[1;32m     21\u001b[0m         \u001b[0;32mif\u001b[0m \u001b[0mt\u001b[0m\u001b[0;34m.\u001b[0m\u001b[0mfind\u001b[0m\u001b[0;34m(\u001b[0m\u001b[0;34m\"div\"\u001b[0m\u001b[0;34m,\u001b[0m \u001b[0;34m{\u001b[0m\u001b[0;34m\"class\"\u001b[0m\u001b[0;34m:\u001b[0m\u001b[0;34m\"original-line\"\u001b[0m\u001b[0;34m}\u001b[0m\u001b[0;34m)\u001b[0m\u001b[0;34m:\u001b[0m\u001b[0;34m\u001b[0m\u001b[0m\n\u001b[0;32m---> 22\u001b[0;31m             \u001b[0mOriginalTextList\u001b[0m\u001b[0;34m.\u001b[0m\u001b[0mappend\u001b[0m\u001b[0;34m(\u001b[0m\u001b[0;34m[\u001b[0m\u001b[0mstr\u001b[0m\u001b[0;34m(\u001b[0m\u001b[0mt\u001b[0m\u001b[0;34m.\u001b[0m\u001b[0mfind\u001b[0m\u001b[0;34m(\u001b[0m\u001b[0;34m\"b\"\u001b[0m\u001b[0;34m)\u001b[0m\u001b[0;34m.\u001b[0m\u001b[0mtext\u001b[0m\u001b[0;34m)\u001b[0m\u001b[0;34m.\u001b[0m\u001b[0mreplace\u001b[0m\u001b[0;34m(\u001b[0m\u001b[0;34m\"\\n\"\u001b[0m\u001b[0;34m,\u001b[0m \u001b[0;34m\" \"\u001b[0m\u001b[0;34m)\u001b[0m\u001b[0;34m,\u001b[0m \u001b[0mstr\u001b[0m\u001b[0;34m(\u001b[0m\u001b[0mt\u001b[0m\u001b[0;34m.\u001b[0m\u001b[0mfind\u001b[0m\u001b[0;34m(\u001b[0m\u001b[0;34m\"div\"\u001b[0m\u001b[0;34m)\u001b[0m\u001b[0;34m.\u001b[0m\u001b[0mtext\u001b[0m\u001b[0;34m)\u001b[0m\u001b[0;34m.\u001b[0m\u001b[0mreplace\u001b[0m\u001b[0;34m(\u001b[0m\u001b[0;34m\"\\n\"\u001b[0m\u001b[0;34m,\u001b[0m \u001b[0;34m\" \"\u001b[0m\u001b[0;34m)\u001b[0m\u001b[0;34m]\u001b[0m\u001b[0;34m)\u001b[0m\u001b[0;31m#dfsdhere cont\u001b[0m\u001b[0;34m\u001b[0m\u001b[0m\n\u001b[0m\u001b[1;32m     23\u001b[0m         \u001b[0;32melif\u001b[0m \u001b[0mt\u001b[0m\u001b[0;34m.\u001b[0m\u001b[0mfind\u001b[0m\u001b[0;34m(\u001b[0m\u001b[0;34m\"div\"\u001b[0m\u001b[0;34m,\u001b[0m \u001b[0;34m{\u001b[0m\u001b[0;34m\"class\"\u001b[0m\u001b[0;34m:\u001b[0m \u001b[0;34m\"modern-line\"\u001b[0m\u001b[0;34m}\u001b[0m\u001b[0;34m)\u001b[0m\u001b[0;34m:\u001b[0m\u001b[0;34m\u001b[0m\u001b[0m\n\u001b[1;32m     24\u001b[0m             \u001b[0mModernTextList\u001b[0m\u001b[0;34m.\u001b[0m\u001b[0mappend\u001b[0m\u001b[0;34m(\u001b[0m\u001b[0;34m[\u001b[0m\u001b[0mstr\u001b[0m\u001b[0;34m(\u001b[0m\u001b[0mt\u001b[0m\u001b[0;34m.\u001b[0m\u001b[0mfind\u001b[0m\u001b[0;34m(\u001b[0m\u001b[0;34m\"b\"\u001b[0m\u001b[0;34m)\u001b[0m\u001b[0;34m.\u001b[0m\u001b[0mtext\u001b[0m\u001b[0;34m.\u001b[0m\u001b[0mreplace\u001b[0m\u001b[0;34m(\u001b[0m\u001b[0;34m\"\\n\"\u001b[0m\u001b[0;34m,\u001b[0m \u001b[0;34m\" \"\u001b[0m\u001b[0;34m)\u001b[0m\u001b[0;34m)\u001b[0m\u001b[0;34m,\u001b[0m \u001b[0mstr\u001b[0m\u001b[0;34m(\u001b[0m\u001b[0mt\u001b[0m\u001b[0;34m.\u001b[0m\u001b[0mfind\u001b[0m\u001b[0;34m(\u001b[0m\u001b[0;34m\"div\"\u001b[0m\u001b[0;34m)\u001b[0m\u001b[0;34m.\u001b[0m\u001b[0mtext\u001b[0m\u001b[0;34m.\u001b[0m\u001b[0mreplace\u001b[0m\u001b[0;34m(\u001b[0m\u001b[0;34m\"\\n\"\u001b[0m\u001b[0;34m,\u001b[0m \u001b[0;34m\" \"\u001b[0m\u001b[0;34m)\u001b[0m\u001b[0;34m)\u001b[0m\u001b[0;34m]\u001b[0m\u001b[0;34m)\u001b[0m\u001b[0;34m\u001b[0m\u001b[0m\n",
      "\u001b[0;31mAttributeError\u001b[0m: 'NoneType' object has no attribute 'text'"
     ]
    }
   ],
   "source": [
    "link = \"http://nfs.sparknotes.com/macbeth/page_6.html\"\n",
    "    \n",
    "ModernTextList = [[\"List Of Modern Text\"],[\"Speaker\",\"Dialogue\"]]\n",
    "OriginalTextList = [[\"List Of Original Text\"],[\"Speaker\",\"Dialogue\"]]\n",
    "\n",
    "\n",
    "print(\"Now processing Link: \" + link + linesep)\n",
    "        \n",
    "sauce = urllib.request.urlopen(link).read() \n",
    "soup = bs.BeautifulSoup(sauce, \"lxml\")\n",
    "Tags = soup.find_all(\"tr\")\n",
    "    \n",
    "      \n",
    "ModernTextList = [[\"List Of Modern Text\"],[\"Speaker\",\"Dialogue\"]]\n",
    "OriginalTextList = [[\"List Of Original Text\"],[\"Speaker\",\"Dialogue\"]]\n",
    "\n",
    "\n",
    "for item in range(0, len(Tags)):\n",
    "\n",
    "    for t in Tags[item]:\n",
    "        if t.find(\"div\", {\"class\":\"original-line\"}):\n",
    "            OriginalTextList.append([str(t.find(\"b\").text).replace(\"\\n\", \" \"), str(t.find(\"div\").text).replace(\"\\n\", \" \")])#dfsdhere cont\n",
    "        elif t.find(\"div\", {\"class\": \"modern-line\"}):\n",
    "            ModernTextList.append([str(t.find(\"b\").text.replace(\"\\n\", \" \")), str(t.find(\"div\").text.replace(\"\\n\", \" \"))])\n"
   ]
  },
  {
   "cell_type": "code",
   "execution_count": 5,
   "metadata": {
    "collapsed": false
   },
   "outputs": [
    {
     "name": "stdout",
     "output_type": "stream",
     "text": [
      "['List Of Original Text']\n",
      "['Speaker', 'Dialogue']\n",
      "['CAPTAIN', \"As whence the sun 'gins his reflection\"]\n",
      "['DUNCAN', 'Dismayed not this our captains, Macbeth and Banquo?']\n",
      "['CAPTAIN', 'Yes, as sparrows eagles, or the hare the lion.']\n",
      "['DUNCAN', 'So well thy words become thee as thy wounds;']\n"
     ]
    }
   ],
   "source": [
    "for text in OriginalTextList:\n",
    "    print(text)"
   ]
  },
  {
   "cell_type": "code",
   "execution_count": 14,
   "metadata": {
    "collapsed": false
   },
   "outputs": [
    {
     "ename": "IndentationError",
     "evalue": "expected an indented block (<ipython-input-14-3e761fb0ed4d>, line 47)",
     "output_type": "error",
     "traceback": [
      "\u001b[0;36m  File \u001b[0;32m\"<ipython-input-14-3e761fb0ed4d>\"\u001b[0;36m, line \u001b[0;32m47\u001b[0m\n\u001b[0;31m    for t in Tags[item]:\u001b[0m\n\u001b[0m      ^\u001b[0m\n\u001b[0;31mIndentationError\u001b[0m\u001b[0;31m:\u001b[0m expected an indented block\n"
     ]
    }
   ],
   "source": [
    "    \n",
    "# link = \"http://nfs.sparknotes.com/macbeth/page_4.html\"\n",
    "    \n",
    "# ModernTextList = [[\"List Of Modern Text\"],[\"Speaker\",\"Dialogue\"]]\n",
    "# OriginalTextList = [[\"List Of Original Text\"],[\"Speaker\",\"Dialogue\"]]\n",
    "\n",
    "\n",
    "# print(\"Now processing Link: \" + link + linesep)\n",
    "        \n",
    "# sauce = urllib.request.urlopen(link).read() \n",
    "# soup = bs.BeautifulSoup(sauce, \"lxml\")\n",
    "# Tags = soup.find_all(\"tr\")\n",
    "    \n",
    "      \n",
    "# ModernTextList = [[\"List Of Modern Text\"],[\"Speaker\",\"Dialogue\"]]\n",
    "# OriginalTextList = [[\"List Of Original Text\"],[\"Speaker\",\"Dialogue\"]]\n",
    "\n",
    "\n",
    "# for item in range(0, len(Tags)):\n",
    "\n",
    "#     for t in Tags[item]:\n",
    "#         if t.find(\"div\", {\"class\":\"original-line\"}):\n",
    "#             OriginalTextList.append([str(t.find(\"b\").text).replace(\"\\n\", \" \"), str(t.find(\"div\").text).replace(\"\\n\", \" \")])#dfsdhere cont\n",
    "#         elif t.find(\"div\", {\"class\": \"modern-line\"}):\n",
    "#             ModernTextList.append([str(t.find(\"b\").text.replace(\"\\n\", \" \")), str(t.find(\"div\").text.replace(\"\\n\", \" \"))])\n",
    "\n",
    "\n",
    "link = \"http://nfs.sparknotes.com/macbeth/page_6.html\"\n",
    "    \n",
    "ModernTextList = [[\"List Of Modern Text\"],[\"Speaker\",\"Dialogue\"]]\n",
    "OriginalTextList = [[\"List Of Original Text\"],[\"Speaker\",\"Dialogue\"]]\n",
    "\n",
    "\n",
    "print(\"Now processing Link: \" + link + linesep)\n",
    "        \n",
    "sauce = urllib.request.urlopen(link).read() \n",
    "soup = bs.BeautifulSoup(sauce, \"lxml\")\n",
    "Tags = soup.find_all(\"tr\")\n",
    "    \n",
    "      \n",
    "ModernTextList = [[\"List Of Modern Text\"],[\"Speaker\",\"Dialogue\"]]\n",
    "OriginalTextList = [[\"List Of Original Text\"],[\"Speaker\",\"Dialogue\"]]\n",
    "\n",
    "\n",
    "for item in range(0, len(Tags)):\n",
    "\n",
    "    for t in Tags[item]:\n",
    "        if t.find(\"div\", {\"class\":\"original-line\"}):\n",
    "            OriginalTextList.append([str(t.find(\"b\").text).replace(\"\\n\", \" \"), str(t.find(\"div\").text).replace(\"\\n\", \" \")])#dfsdhere cont\n",
    "        elif t.find(\"div\", {\"class\": \"modern-line\"}):\n",
    "            ModernTextList.append([str(t.find(\"b\").text.replace(\"\\n\", \" \")), str(t.find(\"div\").text.replace(\"\\n\", \" \"))])\n"
   ]
  },
  {
   "cell_type": "code",
   "execution_count": null,
   "metadata": {
    "collapsed": true
   },
   "outputs": [],
   "source": []
  }
 ],
 "metadata": {
  "kernelspec": {
   "display_name": "Python 3",
   "language": "python",
   "name": "python3"
  },
  "language_info": {
   "codemirror_mode": {
    "name": "ipython",
    "version": 3
   },
   "file_extension": ".py",
   "mimetype": "text/x-python",
   "name": "python",
   "nbconvert_exporter": "python",
   "pygments_lexer": "ipython3",
   "version": "3.5.2"
  }
 },
 "nbformat": 4,
 "nbformat_minor": 2
}
