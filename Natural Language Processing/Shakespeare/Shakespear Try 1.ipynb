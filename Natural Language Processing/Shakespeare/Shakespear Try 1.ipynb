{
 "cells": [
  {
   "cell_type": "code",
   "execution_count": 1,
   "metadata": {
    "collapsed": true
   },
   "outputs": [],
   "source": [
    "# Shakespear Analysis"
   ]
  },
  {
   "cell_type": "markdown",
   "metadata": {},
   "source": [
    "Importing dependencies"
   ]
  },
  {
   "cell_type": "code",
   "execution_count": 2,
   "metadata": {
    "collapsed": false
   },
   "outputs": [],
   "source": [
    "import bs4 as bs\n",
    "import urllib.request "
   ]
  },
  {
   "cell_type": "code",
   "execution_count": 3,
   "metadata": {
    "collapsed": false
   },
   "outputs": [],
   "source": [
    "sauce = urllib.request.urlopen(\"http://nfs.sparknotes.com/macbeth/page_2.html\").read()\n",
    "\n",
    "#sauce = urllib.request.urlopen(\"https://pythonprogramming.net/parsememcparseface/\").read()"
   ]
  },
  {
   "cell_type": "code",
   "execution_count": 4,
   "metadata": {
    "collapsed": false
   },
   "outputs": [
    {
     "name": "stdout",
     "output_type": "stream",
     "text": [
      "Thunder and lightning. Enter three\n",
      "                        WITCHES\n",
      "\n",
      "When shall we three meet again?\n",
      "In thunder, lightning, or in rain?\n",
      "When the hurly-burly’s done,\n",
      "When the battle’s lost and won.\n",
      "That will be ere the set of sun.\n",
      "Where the place?\n",
      "Upon the heath.\n",
      "There to meet with Macbeth.\n",
      "\n",
      "I come, Graymalkin!\n",
      "Paddock calls.\n",
      "Anon.\n",
      "Fair is foul, and foul is fair\n",
      "Hover through the fog and filthy air.\n",
      "Exeunt\n"
     ]
    }
   ],
   "source": [
    "soup = bs.BeautifulSoup(sauce, \"lxml\")\n",
    "#print(soup)\n",
    "\n",
    "OriginalTextList = []\n",
    "\n",
    "for text in soup.find_all(True, {\"class\":[\"original-line\", \"original-stage\"]}, \"br\"):\n",
    "    OriginalTextList.append(text.text)\n",
    "    print(text.text)"
   ]
  },
  {
   "cell_type": "markdown",
   "metadata": {},
   "source": [
    "Experimenting with Bs4"
   ]
  },
  {
   "cell_type": "code",
   "execution_count": 5,
   "metadata": {
    "collapsed": false,
    "scrolled": true
   },
   "outputs": [
    {
     "name": "stdout",
     "output_type": "stream",
     "text": [
      "Thunder and lightning. Enter three\n",
      "                        WITCHES\n",
      "\n",
      "When shall we three meet again?\n",
      "In thunder, lightning, or in rain?\n",
      "When the hurly-burly’s done,\n",
      "When the battle’s lost and won.\n",
      "That will be ere the set of sun.\n",
      "Where the place?\n",
      "Upon the heath.\n",
      "There to meet with Macbeth.\n",
      "\n",
      "I come, Graymalkin!\n",
      "Paddock calls.\n",
      "Anon.\n",
      "Fair is foul, and foul is fair\n",
      "Hover through the fog and filthy air.\n",
      "Exeunt\n"
     ]
    },
    {
     "data": {
      "text/plain": [
       "16"
      ]
     },
     "execution_count": 5,
     "metadata": {},
     "output_type": "execute_result"
    }
   ],
   "source": [
    "for items in OriginalTextList:\n",
    "    print(items)\n",
    "    \n",
    "len(OriginalTextList)"
   ]
  },
  {
   "cell_type": "code",
   "execution_count": 6,
   "metadata": {
    "collapsed": false
   },
   "outputs": [],
   "source": [
    "# for i in (soup.contents):\n",
    "#     print (i)\n",
    "\n",
    "# print(soup.contents[3])"
   ]
  },
  {
   "cell_type": "code",
   "execution_count": 7,
   "metadata": {
    "collapsed": false,
    "scrolled": true
   },
   "outputs": [
    {
     "name": "stdout",
     "output_type": "stream",
     "text": [
      "When shall we three meet again?\n",
      "In thunder, lightning, or in rain?\n",
      "When the hurly-burly’s done,\n",
      "When the battle’s lost and won.\n",
      "That will be ere the set of sun.\n",
      "Where the place?\n",
      "Upon the heath.\n",
      "There to meet with Macbeth.\n",
      "I come, Graymalkin!\n",
      "Paddock calls.\n",
      "Anon.\n",
      "Fair is foul, and foul is fair\n",
      "Hover through the fog and filthy air.\n"
     ]
    }
   ],
   "source": [
    "# for item in soup.find_all('a'):\n",
    "#     print(item)\n",
    "\n",
    "# for item in soup.find_all('a'):\n",
    "# #     if item.find(class_='sparknotes-logo'):\n",
    "# #         print(item)\n",
    "#     print(item.get('href'))\n",
    "\n",
    "data = soup.find_all(\"div\", {\"class\":\"original-line\"})\n",
    "\n",
    "for item in data:\n",
    "    print(item.text)\n"
   ]
  },
  {
   "cell_type": "markdown",
   "metadata": {},
   "source": [
    "Back In Action"
   ]
  },
  {
   "cell_type": "code",
   "execution_count": 8,
   "metadata": {
    "collapsed": false
   },
   "outputs": [
    {
     "name": "stdout",
     "output_type": "stream",
     "text": [
      "<tr><td class=\"noFear-number\"></td><td class=\"noFear-left\"><h3 class=\"semi-bold\">Original Text</h3></td><td class=\"noFear-right\"><h3 class=\"semi-bold\">Modern Text</h3></td></tr>\n",
      "<tr><td class=\"noFear-number\"></td><td class=\"noFear-left\"><div class=\"original-stage\">Thunder and lightning. Enter three\n",
      "                        <b>WITCHES</b>\n",
      "</div></td><td class=\"noFear-right\"><div class=\"modern-stage\">Thunder and lightning. Three <b>WITCHES</b>\n",
      "                        enter</div></td></tr>\n",
      "<tr><td class=\"noFear-number\"><br/><br/></td><td class=\"noFear-left\">\n",
      "<b>FIRST WITCH</b>\n",
      "<div class=\"original-line\">When shall we three meet again?</div>\n",
      "<div class=\"original-line\">In thunder, lightning, or in rain?</div>\n",
      "</td><td class=\"noFear-right\">\n",
      "<b>FIRST WITCH</b>\n",
      "<div class=\"modern-line\">When should the three of us meet again? Will it be in thunder,\n",
      "                                lightning, or rain?</div>\n",
      "</td></tr>\n",
      "<tr><td class=\"noFear-number\"><br/><br/></td><td class=\"noFear-left\">\n",
      "<b>SECOND WITCH</b>\n",
      "<div class=\"original-line\">When the hurly-burly’s done,</div>\n",
      "<div class=\"original-line\">When the battle’s lost and won.</div>\n",
      "</td><td class=\"noFear-right\">\n",
      "<b>SECOND WITCH</b>\n",
      "<div class=\"modern-line\">We’ll meet when the noise of the battle is over, when one\n",
      "                                side has won and the other side has lost.</div>\n",
      "</td></tr>\n",
      "<tr><td class=\"noFear-number\"><br/>5</td><td class=\"noFear-left\">\n",
      "<b>THIRD WITCH</b>\n",
      "<div class=\"original-line\">That will be ere the set of sun.</div>\n",
      "</td><td class=\"noFear-right\">\n",
      "<b>THIRD WITCH</b>\n",
      "<div class=\"modern-line\">That will happen before sunset.</div>\n",
      "</td></tr>\n",
      "<tr><td class=\"noFear-number\"><br/></td><td class=\"noFear-left\">\n",
      "<b>FIRST WITCH</b>\n",
      "<div class=\"original-line\">Where the place?</div>\n",
      "</td><td class=\"noFear-right\">\n",
      "<b>FIRST WITCH</b>\n",
      "<div class=\"modern-line\">Where should we meet?</div>\n",
      "</td></tr>\n",
      "<tr><td class=\"noFear-number\"><br/></td><td class=\"noFear-left\">\n",
      "<b>SECOND WITCH</b>\n",
      "<div class=\"original-line\">Upon the heath.</div>\n",
      "</td><td class=\"noFear-right\">\n",
      "<b>SECOND WITCH</b>\n",
      "<div class=\"modern-line\">Let’s do it in the open field.</div>\n",
      "</td></tr>\n",
      "<tr><td class=\"noFear-number\"><br/></td><td class=\"noFear-left\">\n",
      "<b>THIRD WITCH</b>\n",
      "<div class=\"original-line\">There to meet with Macbeth.</div>\n",
      "</td><td class=\"noFear-right\">\n",
      "<b>THIRD WITCH</b>\n",
      "<div class=\"modern-line\">We’ll meet Macbeth there.</div>\n",
      "</td></tr>\n",
      "<tr><td class=\"noFear-number\"></td><td class=\"noFear-left\"><div class=\"original-stage\"></div></td><td class=\"noFear-right\"><div class=\"modern-stage\">The <b>WITCHES</b> hear the calls of their\n",
      "                        spirit friends or “familiars,” which look like\n",
      "                        animals—one is a cat and one is a toad.</div></td></tr>\n",
      "<tr><td class=\"noFear-number\"><br/></td><td class=\"noFear-left\">\n",
      "<b>FIRST WITCH</b>\n",
      "<div class=\"original-line\">I come, Graymalkin!</div>\n",
      "</td><td class=\"noFear-right\">\n",
      "<b>FIRST WITCH</b>\n",
      "<div class=\"modern-line\">\n",
      "<i>(calling to her cat)</i> I’m\n",
      "                                coming, Graymalkin!</div>\n",
      "</td></tr>\n",
      "<tr><td class=\"noFear-number\"><br/>10</td><td class=\"noFear-left\">\n",
      "<b>SECOND WITCH</b>\n",
      "<div class=\"original-line\">Paddock calls.</div>\n",
      "</td><td class=\"noFear-right\">\n",
      "<b>SECOND WITCH</b>\n",
      "<div class=\"modern-line\">My toad, Paddock, calls me.</div>\n",
      "</td></tr>\n",
      "<tr><td class=\"noFear-number\"><br/></td><td class=\"noFear-left\">\n",
      "<b>THIRD WITCH</b>\n",
      "<div class=\"original-line\">Anon.</div>\n",
      "</td><td class=\"noFear-right\">\n",
      "<b>THIRD WITCH</b>\n",
      "<div class=\"modern-line\">\n",
      "<i>(to her spirit)</i> I’ll be\n",
      "                                right here!</div>\n",
      "</td></tr>\n",
      "<tr><td class=\"noFear-number\"><br/><br/></td><td class=\"noFear-left\">\n",
      "<b>ALL</b>\n",
      "<div class=\"original-line\">Fair is foul, and foul is fair</div>\n",
      "<div class=\"original-line\">Hover through the fog and filthy air.</div>\n",
      "</td><td class=\"noFear-right\">\n",
      "<b>ALL</b>\n",
      "<div class=\"modern-line\">Fair is foul, and foul is fair. Let’s fly away through\n",
      "                                the fog and filthy air.</div>\n",
      "</td></tr>\n",
      "<tr><td class=\"noFear-number\"></td><td class=\"noFear-left\"><div class=\"original-stage\">Exeunt</div></td><td class=\"noFear-right\"><div class=\"modern-stage\">They exit.</div></td></tr>\n"
     ]
    }
   ],
   "source": [
    "Tags = soup.find_all(\"tr\")\n",
    "\n",
    "for tag in Tags:\n",
    "    print(tag)"
   ]
  },
  {
   "cell_type": "code",
   "execution_count": 9,
   "metadata": {
    "collapsed": false
   },
   "outputs": [],
   "source": [
    "for tag in Tags:\n",
    "    if (tag == \"tr\"):\n",
    "        print(tag.get_text)\n",
    "          "
   ]
  },
  {
   "cell_type": "code",
   "execution_count": 10,
   "metadata": {
    "collapsed": false
   },
   "outputs": [
    {
     "name": "stdout",
     "output_type": "stream",
     "text": [
      "Original TextModern Text\n",
      "Thunder and lightning. Enter three\n",
      "                        WITCHES\n",
      "Thunder and lightning. Three WITCHES\n",
      "                        enter\n",
      "\n",
      "FIRST WITCH\n",
      "When shall we three meet again?\n",
      "In thunder, lightning, or in rain?\n",
      "\n",
      "FIRST WITCH\n",
      "When should the three of us meet again? Will it be in thunder,\n",
      "                                lightning, or rain?\n",
      "\n",
      "\n",
      "SECOND WITCH\n",
      "When the hurly-burly’s done,\n",
      "When the battle’s lost and won.\n",
      "\n",
      "SECOND WITCH\n",
      "We’ll meet when the noise of the battle is over, when one\n",
      "                                side has won and the other side has lost.\n",
      "\n",
      "5\n",
      "THIRD WITCH\n",
      "That will be ere the set of sun.\n",
      "\n",
      "THIRD WITCH\n",
      "That will happen before sunset.\n",
      "\n",
      "\n",
      "FIRST WITCH\n",
      "Where the place?\n",
      "\n",
      "FIRST WITCH\n",
      "Where should we meet?\n",
      "\n",
      "\n",
      "SECOND WITCH\n",
      "Upon the heath.\n",
      "\n",
      "SECOND WITCH\n",
      "Let’s do it in the open field.\n",
      "\n",
      "\n",
      "THIRD WITCH\n",
      "There to meet with Macbeth.\n",
      "\n",
      "THIRD WITCH\n",
      "We’ll meet Macbeth there.\n",
      "\n",
      "The WITCHES hear the calls of their\n",
      "                        spirit friends or “familiars,” which look like\n",
      "                        animals—one is a cat and one is a toad.\n",
      "\n",
      "FIRST WITCH\n",
      "I come, Graymalkin!\n",
      "\n",
      "FIRST WITCH\n",
      "\n",
      "(calling to her cat) I’m\n",
      "                                coming, Graymalkin!\n",
      "\n",
      "10\n",
      "SECOND WITCH\n",
      "Paddock calls.\n",
      "\n",
      "SECOND WITCH\n",
      "My toad, Paddock, calls me.\n",
      "\n",
      "\n",
      "THIRD WITCH\n",
      "Anon.\n",
      "\n",
      "THIRD WITCH\n",
      "\n",
      "(to her spirit) I’ll be\n",
      "                                right here!\n",
      "\n",
      "\n",
      "ALL\n",
      "Fair is foul, and foul is fair\n",
      "Hover through the fog and filthy air.\n",
      "\n",
      "ALL\n",
      "Fair is foul, and foul is fair. Let’s fly away through\n",
      "                                the fog and filthy air.\n",
      "\n",
      "ExeuntThey exit.\n"
     ]
    }
   ],
   "source": [
    "for tag in Tags:\n",
    "    print(tag.get_text())"
   ]
  },
  {
   "cell_type": "code",
   "execution_count": 11,
   "metadata": {
    "collapsed": false
   },
   "outputs": [
    {
     "name": "stdout",
     "output_type": "stream",
     "text": [
      "Counter: 0\n",
      "Original TextModern Text\n",
      "Counter: 1\n",
      "Thunder and lightning. Enter three\n",
      "                        WITCHES\n",
      "Thunder and lightning. Three WITCHES\n",
      "                        enter\n",
      "Counter: 2\n",
      "\n",
      "FIRST WITCH\n",
      "When shall we three meet again?\n",
      "In thunder, lightning, or in rain?\n",
      "\n",
      "FIRST WITCH\n",
      "When should the three of us meet again? Will it be in thunder,\n",
      "                                lightning, or rain?\n",
      "\n",
      "Counter: 3\n",
      "\n",
      "SECOND WITCH\n",
      "When the hurly-burly’s done,\n",
      "When the battle’s lost and won.\n",
      "\n",
      "SECOND WITCH\n",
      "We’ll meet when the noise of the battle is over, when one\n",
      "                                side has won and the other side has lost.\n",
      "\n",
      "Counter: 4\n",
      "5\n",
      "THIRD WITCH\n",
      "That will be ere the set of sun.\n",
      "\n",
      "THIRD WITCH\n",
      "That will happen before sunset.\n",
      "\n",
      "Counter: 5\n",
      "\n",
      "FIRST WITCH\n",
      "Where the place?\n",
      "\n",
      "FIRST WITCH\n",
      "Where should we meet?\n",
      "\n",
      "Counter: 6\n",
      "\n",
      "SECOND WITCH\n",
      "Upon the heath.\n",
      "\n",
      "SECOND WITCH\n",
      "Let’s do it in the open field.\n",
      "\n",
      "Counter: 7\n",
      "\n",
      "THIRD WITCH\n",
      "There to meet with Macbeth.\n",
      "\n",
      "THIRD WITCH\n",
      "We’ll meet Macbeth there.\n",
      "\n",
      "Counter: 8\n",
      "The WITCHES hear the calls of their\n",
      "                        spirit friends or “familiars,” which look like\n",
      "                        animals—one is a cat and one is a toad.\n",
      "Counter: 9\n",
      "\n",
      "FIRST WITCH\n",
      "I come, Graymalkin!\n",
      "\n",
      "FIRST WITCH\n",
      "\n",
      "(calling to her cat) I’m\n",
      "                                coming, Graymalkin!\n",
      "\n",
      "Counter: 10\n",
      "10\n",
      "SECOND WITCH\n",
      "Paddock calls.\n",
      "\n",
      "SECOND WITCH\n",
      "My toad, Paddock, calls me.\n",
      "\n",
      "Counter: 11\n",
      "\n",
      "THIRD WITCH\n",
      "Anon.\n",
      "\n",
      "THIRD WITCH\n",
      "\n",
      "(to her spirit) I’ll be\n",
      "                                right here!\n",
      "\n",
      "Counter: 12\n",
      "\n",
      "ALL\n",
      "Fair is foul, and foul is fair\n",
      "Hover through the fog and filthy air.\n",
      "\n",
      "ALL\n",
      "Fair is foul, and foul is fair. Let’s fly away through\n",
      "                                the fog and filthy air.\n",
      "\n",
      "Counter: 13\n",
      "ExeuntThey exit.\n"
     ]
    }
   ],
   "source": [
    "for i in range(0, len(Tags)):\n",
    "    print(\"Counter: \" + str(i))\n",
    "    print(Tags[i].get_text())"
   ]
  },
  {
   "cell_type": "code",
   "execution_count": 12,
   "metadata": {
    "collapsed": false
   },
   "outputs": [
    {
     "data": {
      "text/plain": [
       "'\\nFIRST WITCH\\nWhen shall we three meet again?\\nIn thunder, lightning, or in rain?\\n\\nFIRST WITCH\\nWhen should the three of us meet again? Will it be in thunder,\\n                                lightning, or rain?\\n'"
      ]
     },
     "execution_count": 12,
     "metadata": {},
     "output_type": "execute_result"
    }
   ],
   "source": [
    "Tags[2].getText()"
   ]
  },
  {
   "cell_type": "code",
   "execution_count": 13,
   "metadata": {
    "collapsed": false
   },
   "outputs": [
    {
     "data": {
      "text/plain": [
       "3"
      ]
     },
     "execution_count": 13,
     "metadata": {},
     "output_type": "execute_result"
    }
   ],
   "source": [
    "len(Tags[2])"
   ]
  },
  {
   "cell_type": "code",
   "execution_count": 14,
   "metadata": {
    "collapsed": false
   },
   "outputs": [
    {
     "name": "stdout",
     "output_type": "stream",
     "text": [
      "Counter:  1\n",
      "Item: <td class=\"noFear-number\"><br/><br/></td>\n",
      "Item Text: \n",
      "Counter:  2\n",
      "Item: <td class=\"noFear-left\">\n",
      "<b>FIRST WITCH</b>\n",
      "<div class=\"original-line\">When shall we three meet again?</div>\n",
      "<div class=\"original-line\">In thunder, lightning, or in rain?</div>\n",
      "</td>\n",
      "Item Text: \n",
      "FIRST WITCH\n",
      "When shall we three meet again?\n",
      "In thunder, lightning, or in rain?\n",
      "\n",
      "Counter:  3\n",
      "Item: <td class=\"noFear-right\">\n",
      "<b>FIRST WITCH</b>\n",
      "<div class=\"modern-line\">When should the three of us meet again? Will it be in thunder,\n",
      "                                lightning, or rain?</div>\n",
      "</td>\n",
      "Item Text: \n",
      "FIRST WITCH\n",
      "When should the three of us meet again? Will it be in thunder,\n",
      "                                lightning, or rain?\n",
      "\n"
     ]
    }
   ],
   "source": [
    "# for item in range (0, len(Tags[2])):\n",
    "#     print((Tag[2])[item]\n",
    "\n",
    "from os import linesep as esc\n",
    "\n",
    "counter = 1\n",
    "\n",
    "for item in Tags[2]:\n",
    "    print(\"Counter: \", str(counter))\n",
    "    print(\"Item: \" + str(item))\n",
    "    print(\"Item Text: \" + str(item.get_text()))\n",
    "    \n",
    "    counter = counter + 1"
   ]
  },
  {
   "cell_type": "markdown",
   "metadata": {
    "collapsed": true
   },
   "source": [
    "Now I'm going to make some lists to store the text:\n",
    "\n",
    "One list with dictionaries of speaker and dialogue of original text\n",
    "Another list with dictionaries of speaker and dialogue of original text\n"
   ]
  },
  {
   "cell_type": "code",
   "execution_count": 15,
   "metadata": {
    "collapsed": false
   },
   "outputs": [
    {
     "data": {
      "text/plain": [
       "<tr><td class=\"noFear-number\"><br/><br/></td><td class=\"noFear-left\">\n",
       "<b>FIRST WITCH</b>\n",
       "<div class=\"original-line\">When shall we three meet again?</div>\n",
       "<div class=\"original-line\">In thunder, lightning, or in rain?</div>\n",
       "</td><td class=\"noFear-right\">\n",
       "<b>FIRST WITCH</b>\n",
       "<div class=\"modern-line\">When should the three of us meet again? Will it be in thunder,\n",
       "                                lightning, or rain?</div>\n",
       "</td></tr>"
      ]
     },
     "execution_count": 15,
     "metadata": {},
     "output_type": "execute_result"
    }
   ],
   "source": [
    "Tags[2]"
   ]
  },
  {
   "cell_type": "code",
   "execution_count": 16,
   "metadata": {
    "collapsed": false
   },
   "outputs": [
    {
     "name": "stdout",
     "output_type": "stream",
     "text": [
      "Counter: 1\n",
      "<td class=\"noFear-number\"><br/><br/></td>\n",
      "Counter: 2\n",
      "<td class=\"noFear-left\">\n",
      "<b>FIRST WITCH</b>\n",
      "<div class=\"original-line\">When shall we three meet again?</div>\n",
      "<div class=\"original-line\">In thunder, lightning, or in rain?</div>\n",
      "</td>\n",
      "Counter: 3\n",
      "<td class=\"noFear-right\">\n",
      "<b>FIRST WITCH</b>\n",
      "<div class=\"modern-line\">When should the three of us meet again? Will it be in thunder,\n",
      "                                lightning, or rain?</div>\n",
      "</td>\n"
     ]
    }
   ],
   "source": [
    "counter = 1\n",
    "for t in Tags[2]:\n",
    "    print (\"Counter: \" + str(counter) + esc + str(t))\n",
    "    counter = counter + 1"
   ]
  },
  {
   "cell_type": "code",
   "execution_count": 17,
   "metadata": {
    "collapsed": false
   },
   "outputs": [
    {
     "name": "stdout",
     "output_type": "stream",
     "text": [
      "Counter: 2\n",
      "Of Class : Original Line\n",
      "<td class=\"noFear-left\">\n",
      "<b>FIRST WITCH</b>\n",
      "<div class=\"original-line\">When shall we three meet again?</div>\n",
      "<div class=\"original-line\">In thunder, lightning, or in rain?</div>\n",
      "</td>\n",
      "Counter: 3\n",
      "Of Class : Modern Line\n",
      "<td class=\"noFear-right\">\n",
      "<b>FIRST WITCH</b>\n",
      "<div class=\"modern-line\">When should the three of us meet again? Will it be in thunder,\n",
      "                                lightning, or rain?</div>\n",
      "</td>\n"
     ]
    }
   ],
   "source": [
    "counter = 1\n",
    "\n",
    "\n",
    "for t in Tags[2]:\n",
    "    if t.find(\"div\", {\"class\":\"original-line\"}):\n",
    "        print (\"Counter: \" + str(counter) + esc + \"Of Class : Original Line\" + esc + str(t))\n",
    "    elif t.find(\"div\", {\"class\": \"modern-line\"}):\n",
    "        print (\"Counter: \" + str(counter) + esc + \"Of Class : Modern Line\" + esc + str(t))\n",
    "    counter = counter + 1"
   ]
  },
  {
   "cell_type": "code",
   "execution_count": 18,
   "metadata": {
    "collapsed": false
   },
   "outputs": [
    {
     "name": "stdout",
     "output_type": "stream",
     "text": [
      "Counter: 1\n",
      "Of Class : Original Line\n",
      "<td class=\"noFear-left\">\n",
      "<b>FIRST WITCH</b>\n",
      "<div class=\"original-line\">When shall we three meet again?</div>\n",
      "<div class=\"original-line\">In thunder, lightning, or in rain?</div>\n",
      "</td>\n",
      "\n",
      "Speaker <b>FIRST WITCH</b>\n",
      "Counter: 2\n",
      "Of Class : Modern Line\n",
      "<td class=\"noFear-right\">\n",
      "<b>FIRST WITCH</b>\n",
      "<div class=\"modern-line\">When should the three of us meet again? Will it be in thunder,\n",
      "                                lightning, or rain?</div>\n",
      "</td>\n"
     ]
    }
   ],
   "source": [
    "counter = 0\n",
    "\n",
    "for t in Tags[2]:\n",
    "    if t.find(\"div\", {\"class\":\"original-line\"}):\n",
    "        print (\"Counter: \" + str(counter) + esc + \"Of Class : Original Line\" + esc + str(t))\n",
    "        print (esc + \"Speaker \" + str(t.find(\"b\")))\n",
    "    elif t.find(\"div\", {\"class\": \"modern-line\"}):\n",
    "        print (\"Counter: \" + str(counter) + esc + \"Of Class : Modern Line\" + esc + str(t))\n",
    "    counter = counter + 1"
   ]
  },
  {
   "cell_type": "code",
   "execution_count": 19,
   "metadata": {
    "collapsed": false
   },
   "outputs": [
    {
     "ename": "NameError",
     "evalue": "name 'x' is not defined",
     "output_type": "error",
     "traceback": [
      "\u001b[0;31m---------------------------------------------------------------------------\u001b[0m",
      "\u001b[0;31mNameError\u001b[0m                                 Traceback (most recent call last)",
      "\u001b[0;32m<ipython-input-19-748885da6078>\u001b[0m in \u001b[0;36m<module>\u001b[0;34m()\u001b[0m\n\u001b[1;32m      2\u001b[0m \u001b[0;31m# eval(\"x+1\") = 2\u001b[0m\u001b[0;34m\u001b[0m\u001b[0;34m\u001b[0m\u001b[0m\n\u001b[1;32m      3\u001b[0m \u001b[0;34m\u001b[0m\u001b[0m\n\u001b[0;32m----> 4\u001b[0;31m \u001b[0mb\u001b[0m \u001b[0;34m=\u001b[0m \u001b[0meval\u001b[0m\u001b[0;34m(\u001b[0m\u001b[0;34m\"{x:2}\"\u001b[0m\u001b[0;34m)\u001b[0m\u001b[0;34m\u001b[0m\u001b[0m\n\u001b[0m\u001b[1;32m      5\u001b[0m \u001b[0;34m\u001b[0m\u001b[0m\n\u001b[1;32m      6\u001b[0m \u001b[0mb\u001b[0m\u001b[0;34m\u001b[0m\u001b[0m\n",
      "\u001b[0;32m<string>\u001b[0m in \u001b[0;36m<module>\u001b[0;34m()\u001b[0m\n",
      "\u001b[0;31mNameError\u001b[0m: name 'x' is not defined"
     ]
    }
   ],
   "source": [
    "# x = 1\n",
    "# eval(\"x+1\") = 2\n",
    "\n",
    "b = eval(\"{x:2}\")\n",
    "\n",
    "b"
   ]
  },
  {
   "cell_type": "code",
   "execution_count": 20,
   "metadata": {
    "collapsed": false
   },
   "outputs": [
    {
     "name": "stdout",
     "output_type": "stream",
     "text": [
      "[{'foo': 'kitty', 'muffin': 'lolz'}]\n",
      "<class 'dict'>\n"
     ]
    }
   ],
   "source": [
    "import ast\n",
    "\n",
    "a = ast.literal_eval(\"[{'muffin' : 'lolz', 'foo' : 'kitty'}]\")\n",
    "\n",
    "print(a)\n",
    "print(type(a[0]))"
   ]
  },
  {
   "cell_type": "code",
   "execution_count": 21,
   "metadata": {
    "collapsed": false
   },
   "outputs": [
    {
     "name": "stdout",
     "output_type": "stream",
     "text": [
      "Counter: 1\n",
      "Of Class : Original Line\n",
      "<td class=\"noFear-left\">\n",
      "<b>FIRST WITCH</b>\n",
      "<div class=\"original-line\">When shall we three meet again?</div>\n",
      "<div class=\"original-line\">In thunder, lightning, or in rain?</div>\n",
      "</td>\n",
      "\n",
      "Speaker <b>FIRST WITCH</b>\n",
      "Counter: 2\n",
      "Of Class : Modern Line\n",
      "<td class=\"noFear-right\">\n",
      "<b>FIRST WITCH</b>\n",
      "<div class=\"modern-line\">When should the three of us meet again? Will it be in thunder,\n",
      "                                lightning, or rain?</div>\n",
      "</td>\n",
      "[['List Of Original Text'], ['Speaker', 'Dialogue'], ['FIRST WITCH', 'When shall we three meet again?']]\n",
      "[['List Of Modern Text'], ['Speaker', 'Dialogue'], ['FIRST WITCH', 'When should the three of us meet again? Will it be in thunder,\\n                                lightning, or rain?']]\n"
     ]
    }
   ],
   "source": [
    "counter = 0\n",
    "\n",
    "ModernTextList = [[\"List Of Modern Text\"],[\"Speaker\",\"Dialogue\"]]\n",
    "OriginalTextList = [[\"List Of Original Text\"],[\"Speaker\",\"Dialogue\"]]\n",
    "\n",
    "for t in Tags[2]:\n",
    "    if t.find(\"div\", {\"class\":\"original-line\"}):\n",
    "        \n",
    "        print (\"Counter: \" + str(counter) + esc \n",
    "               + \"Of Class : Original Line\" + esc \n",
    "               + str(t))\n",
    "        \n",
    "        print (esc + \"Speaker \" + str(t.find(\"b\")))\n",
    "        \n",
    "        OriginalTextList.append([str(t.find(\"b\").text), str(t.find(\"div\").text)])#dfsdhere cont\n",
    "    elif t.find(\"div\", {\"class\": \"modern-line\"}):\n",
    "        print (\"Counter: \" + str(counter) + esc + \"Of Class : Modern Line\" + esc + str(t))\n",
    "        ModernTextList.append([str(t.find(\"b\").text), str(t.find(\"div\").text)])\n",
    "    counter = counter + 1\n",
    "    \n",
    "\n",
    "print(OriginalTextList)\n",
    "print(ModernTextList)"
   ]
  },
  {
   "cell_type": "code",
   "execution_count": 22,
   "metadata": {
    "collapsed": false
   },
   "outputs": [
    {
     "name": "stdout",
     "output_type": "stream",
     "text": [
      "Counter: 1\n",
      "Of Class : Original Line\n",
      "<td class=\"noFear-left\">\n",
      "<b>FIRST WITCH</b>\n",
      "<div class=\"original-line\">When shall we three meet again?</div>\n",
      "<div class=\"original-line\">In thunder, lightning, or in rain?</div>\n",
      "</td>\n",
      "\n",
      "Speaker <b>FIRST WITCH</b>\n",
      "Counter: 2\n",
      "Of Class : Modern Line\n",
      "<td class=\"noFear-right\">\n",
      "<b>FIRST WITCH</b>\n",
      "<div class=\"modern-line\">When should the three of us meet again? Will it be in thunder,\n",
      "                                lightning, or rain?</div>\n",
      "</td>\n",
      "[['List Of Original Text'], ['Speaker', 'Dialogue'], ['FIRST WITCH', 'When shall we three meet again?']]\n",
      "[['List Of Modern Text'], ['Speaker', 'Dialogue'], ['FIRST WITCH', 'When should the three of us meet again? Will it be in thunder,                                 lightning, or rain?']]\n"
     ]
    }
   ],
   "source": [
    "#copy of above cell - for experimenting with /n replacer\n",
    "\n",
    "counter = 0\n",
    "\n",
    "ModernTextList = [[\"List Of Modern Text\"],[\"Speaker\",\"Dialogue\"]]\n",
    "OriginalTextList = [[\"List Of Original Text\"],[\"Speaker\",\"Dialogue\"]]\n",
    "\n",
    "for t in Tags[2]:\n",
    "    if t.find(\"div\", {\"class\":\"original-line\"}):\n",
    "        \n",
    "        print (\"Counter: \" + str(counter) + esc \n",
    "               + \"Of Class : Original Line\" + esc \n",
    "               + str(t))\n",
    "        \n",
    "        print (esc + \"Speaker \" + str(t.find(\"b\")))\n",
    "        \n",
    "        OriginalTextList.append([str(t.find(\"b\").text).replace(\"\\n\", \" \"), str(t.find(\"div\").text).replace(\"\\n\", \" \")])#dfsdhere cont\n",
    "    elif t.find(\"div\", {\"class\": \"modern-line\"}):\n",
    "        print (\"Counter: \" + str(counter) + esc + \"Of Class : Modern Line\" + esc + str(t))\n",
    "        ModernTextList.append([str(t.find(\"b\").text.replace(\"\\n\", \" \")), str(t.find(\"div\").text.replace(\"\\n\", \" \"))])\n",
    "    counter = counter + 1\n",
    "    \n",
    "\n",
    "print(OriginalTextList)\n",
    "print(ModernTextList)\n",
    "\n",
    "\n"
   ]
  },
  {
   "cell_type": "code",
   "execution_count": 23,
   "metadata": {
    "collapsed": false
   },
   "outputs": [
    {
     "name": "stdout",
     "output_type": "stream",
     "text": [
      "[['List Of Original Text'], ['Speaker', 'Dialogue'], ['FIRST WITCH', 'When shall we three meet again?']]\n",
      "[['List Of Modern Text'], ['Speaker', 'Dialogue'], ['FIRST WITCH', 'When should the three of us meet again? Will it be in thunder,                                 lightning, or rain?']]\n"
     ]
    }
   ],
   "source": [
    "print(OriginalTextList)\n",
    "print(ModernTextList)\n",
    "\n",
    "# print(ModernTextList[2][1])\n",
    "\n"
   ]
  },
  {
   "cell_type": "code",
   "execution_count": 24,
   "metadata": {
    "collapsed": false
   },
   "outputs": [],
   "source": [
    "# Test2D = [[None],[None]]\n",
    "\n",
    "# print(Test2D)\n",
    "\n",
    "# Test2D[0][0] = [\"X\", \"Y\"]\n",
    "\n",
    "# print(Test2D)\n",
    "\n",
    "# Test2D.append([\"a\", \"b\"])\n",
    "\n",
    "# print(Test2D)"
   ]
  },
  {
   "cell_type": "code",
   "execution_count": 25,
   "metadata": {
    "collapsed": false
   },
   "outputs": [],
   "source": [
    "# Text = \"abcdefg\"\n",
    "# print(Text.replace(\"c\", \"e\"))\n",
    "\n",
    "# print(Text)\n",
    "\n",
    "# Text = Text.replace(\"c\", \"e\")\n",
    "\n",
    "# print(Text)\n",
    "\n",
    "# List = [\"abc\", \"babba\"],[\"naap\", \"craaap\"]\n",
    "\n",
    "# print(List[0][0])\n",
    "\n",
    "# print(List[0][1])\n",
    "\n",
    "# print(List[1][0])\n",
    "\n",
    "# print(List[1][1])\n",
    "\n",
    "# List[1][1] = List[1][1].replace(\"a\", \"b\")\n",
    "\n",
    "# print(List)"
   ]
  },
  {
   "cell_type": "code",
   "execution_count": 26,
   "metadata": {
    "collapsed": false
   },
   "outputs": [
    {
     "name": "stdout",
     "output_type": "stream",
     "text": [
      "[['Hello', 'Test']]\n",
      "<class 'str'>\n",
      "[['Hello', 'Test']]\n",
      "<class 'str'>\n"
     ]
    }
   ],
   "source": [
    "TestList = [[\"Hello\", \"Test\"]]\n",
    "\n",
    "print(TestList)\n",
    "\n",
    "print(type(str(TestList))\n",
    ")\n",
    "\n",
    "def ListToString(list):\n",
    "    return (str(list))\n",
    "\n",
    "b = ListToString(TestList)\n",
    "\n",
    "print(b)\n",
    "\n",
    "print(type(b))"
   ]
  },
  {
   "cell_type": "code",
   "execution_count": 27,
   "metadata": {
    "collapsed": false
   },
   "outputs": [
    {
     "name": "stdout",
     "output_type": "stream",
     "text": [
      "[['List Of Original Text'], ['Speaker', 'Dialogue'], ['FIRST WITCH', 'When shall we three meet again?']]\n",
      "[['List Of Modern Text'], ['Speaker', 'Dialogue'], ['FIRST WITCH', 'When should the three of us meet again? Will it be in thunder,                                 lightning, or rain?']]\n"
     ]
    }
   ],
   "source": [
    "#Final Tag Miner\n",
    "\n",
    "ModernTextList = [[\"List Of Modern Text\"],[\"Speaker\",\"Dialogue\"]]\n",
    "OriginalTextList = [[\"List Of Original Text\"],[\"Speaker\",\"Dialogue\"]]\n",
    "\n",
    "for t in Tags[2]:\n",
    "    if t.find(\"div\", {\"class\":\"original-line\"}):\n",
    "        \n",
    "#         print (\"Counter: \" + str(counter) + esc \n",
    "#                + \"Of Class : Original Line\" + esc \n",
    "#                + str(t))\n",
    "        \n",
    "#         print (esc + \"Speaker \" + str(t.find(\"b\")))\n",
    "        \n",
    "        OriginalTextList.append([str(t.find(\"b\").text).replace(\"\\n\", \" \"), str(t.find(\"div\").text).replace(\"\\n\", \" \")])#dfsdhere cont\n",
    "    elif t.find(\"div\", {\"class\": \"modern-line\"}):\n",
    "#         print (\"Counter: \" + str(counter) + esc + \"Of Class : Modern Line\" + esc + str(t))\n",
    "        ModernTextList.append([str(t.find(\"b\").text.replace(\"\\n\", \" \")), str(t.find(\"div\").text.replace(\"\\n\", \" \"))])\n",
    "    counter = counter + 1\n",
    "    \n",
    "\n",
    "print(OriginalTextList)\n",
    "print(ModernTextList)\n"
   ]
  },
  {
   "cell_type": "code",
   "execution_count": 28,
   "metadata": {
    "collapsed": true
   },
   "outputs": [],
   "source": [
    "# Writing to a file\n",
    "\n",
    "text = \"With some more wiggles\"\n",
    "\n",
    "saveFile = open(\"example.txt\", \"w\")\n",
    "\n",
    "saveFile.write(text)\n",
    "\n",
    "saveFile.close()\n",
    "\n",
    "append = open(\"example.txt\", \"a\")\n",
    "\n",
    "append.write(text)\n",
    "\n",
    "append.close()"
   ]
  },
  {
   "cell_type": "markdown",
   "metadata": {},
   "source": [
    "Writing To File\n",
    "\n",
    "Give filename and lists to write"
   ]
  },
  {
   "cell_type": "code",
   "execution_count": 29,
   "metadata": {
    "collapsed": false
   },
   "outputs": [],
   "source": [
    "def writer(file_name, lists):\n",
    "    \n",
    "    print(\"Converting To String...\")\n",
    "    \n",
    "    text = str(lists)\n",
    "    \n",
    "    print(\"Conversion Complete!\")\n",
    "    \n",
    "    print(\"Writing To File '\" + file_name + \"'.\")\n",
    "    \n",
    "    file = open(file_name, \"a\")\n",
    "    \n",
    "    print(\"Opened File.\")\n",
    "    \n",
    "    file.write(text)\n",
    "    \n",
    "    print(\"Wrote To File.\")\n",
    "    \n",
    "    file.close()\n",
    "    \n",
    "    print(\"Closed File.\")\n",
    "    \n",
    "    print(\"Writing Successful!\")\n",
    "    \n",
    "    return\n",
    "\n",
    "# writer(\"hi there.txt\", \"1234dss5\")"
   ]
  },
  {
   "cell_type": "code",
   "execution_count": 30,
   "metadata": {
    "collapsed": false
   },
   "outputs": [],
   "source": [
    "#Delete File Before UnCommenting! Structure Probs For Append - Eval\n",
    "\n",
    "# writer(file_name=\"Modern Text List\", lists=ModernTextList)"
   ]
  },
  {
   "cell_type": "code",
   "execution_count": 31,
   "metadata": {
    "collapsed": false
   },
   "outputs": [
    {
     "name": "stdout",
     "output_type": "stream",
     "text": [
      "[['List Of Modern Text'], ['Speaker', 'Dialogue'], ['FIRST WITCH', 'When should the three of us meet again? Will it be in thunder,                                 lightning, or rain?']]\n",
      "\n",
      "[['List Of Modern Text'], ['Speaker', 'Dialogue'], ['FIRST WITCH', 'When should the three of us meet again? Will it be in thunder,                                 lightning, or rain?']]\n"
     ]
    }
   ],
   "source": [
    "def reader(file_name):\n",
    "    file = open(file_name, \"r\").read()\n",
    "    print(file)\n",
    "    return(eval(file))\n",
    "    \n",
    "p = reader(\"Modern Text List\")\n",
    "\n",
    "print(p)"
   ]
  },
  {
   "cell_type": "code",
   "execution_count": 32,
   "metadata": {
    "collapsed": false
   },
   "outputs": [
    {
     "name": "stdout",
     "output_type": "stream",
     "text": [
      "[['List Of Modern Text'], ['Speaker', 'Dialogue'], ['FIRST WITCH', 'When should the three of us meet again? Will it be in thunder,                                 lightning, or rain?']]\n",
      "\n",
      "<class 'str'>\n",
      "[['List Of Modern Text'], ['Speaker', 'Dialogue'], ['FIRST WITCH', 'When should the three of us meet again? Will it be in thunder,                                 lightning, or rain?']]\n",
      "<class 'list'>\n",
      "Dialogue\n"
     ]
    }
   ],
   "source": [
    "# def reader(file_name= file_name):\n",
    "\n",
    "file = open(\"Modern Text List\", \"r\").read()\n",
    "\n",
    "print(file)\n",
    "\n",
    "print(type(file))\n",
    "\n",
    "print(eval(file))\n",
    "\n",
    "print(type(eval(file)))\n",
    "\n",
    "\n",
    "\n",
    "a = eval(file)\n",
    "\n",
    "print(a[1][1])\n"
   ]
  },
  {
   "cell_type": "code",
   "execution_count": 33,
   "metadata": {
    "collapsed": false
   },
   "outputs": [
    {
     "name": "stdout",
     "output_type": "stream",
     "text": [
      "[['List Of Modern Text'], ['Speaker', 'Dialogue'], ['FIRST WITCH', 'When should the three of us meet again? Will it be in thunder,                                 lightning, or rain?']]\n",
      "\n",
      "<class 'str'>\n",
      "[['List Of Modern Text'], ['Speaker', 'Dialogue'], ['FIRST WITCH', 'When should the three of us meet again? Will it be in thunder,                                 lightning, or rain?']]\n"
     ]
    }
   ],
   "source": [
    "#Fixing Bugs\n",
    "\n",
    "a = \"['Hello', 'World']\"\n",
    "# eval(a)\n",
    "\n",
    "def con(x):\n",
    "    return (eval(x))\n",
    "\n",
    "con(a)\n",
    "\n",
    "file = open(\"Modern Text List\", \"r\").read()\n",
    "print(file)\n",
    "\n",
    "print(type(file))\n",
    "\n",
    "print(eval(file))"
   ]
  },
  {
   "cell_type": "code",
   "execution_count": 34,
   "metadata": {
    "collapsed": false
   },
   "outputs": [
    {
     "name": "stdout",
     "output_type": "stream",
     "text": [
      "Text Sentence Tokens: ['When should the three of us meet again?', 'Will it be in thunder, lightning, or rain?']\n",
      "Text Word Tokens: ['When', 'should', 'the', 'three', 'of', 'us', 'meet', 'again', '?', 'Will', 'it', 'be', 'in', 'thunder', ',', 'lightning', ',', 'or', 'rain', '?']\n"
     ]
    }
   ],
   "source": [
    "# from nltk import FreqDist \n",
    "\n",
    "text = 'When should the three of us meet again? Will it be in thunder, lightning, or rain?'\n",
    "\n",
    "from nltk.tokenize import sent_tokenize, word_tokenize\n",
    "\n",
    "text_sentences = sent_tokenize(text)\n",
    "\n",
    "print(\"Text Sentence Tokens: \" + str(text_sentences))\n",
    "\n",
    "\n",
    "text_words = word_tokenize(text)\n",
    "\n",
    "print(\"Text Word Tokens: \" + str(text_words))\n",
    "\n",
    "\n",
    "# fdist = FreqDist( )\n",
    "\n",
    "\n",
    "# for w in fdist:\n",
    "#     print(w)"
   ]
  },
  {
   "cell_type": "code",
   "execution_count": 35,
   "metadata": {
    "collapsed": false
   },
   "outputs": [
    {
     "name": "stdout",
     "output_type": "stream",
     "text": [
      "['When', 'three', 'us', 'meet', '?', 'Will', 'thunder', ',', 'lightning', ',', 'rain', '?']\n"
     ]
    }
   ],
   "source": [
    "from nltk.corpus import stopwords\n",
    "\n",
    "stop_words = set(stopwords.words(\"english\"))\n",
    "\n",
    "filtered_sentence = [word for word in text_words if not word in stop_words]\n",
    "\n",
    "print(filtered_sentence)"
   ]
  },
  {
   "cell_type": "markdown",
   "metadata": {},
   "source": [
    "Filtering Words List From Stop Words"
   ]
  },
  {
   "cell_type": "code",
   "execution_count": 36,
   "metadata": {
    "collapsed": false
   },
   "outputs": [
    {
     "data": {
      "text/plain": [
       "['When',\n",
       " 'three',\n",
       " 'us',\n",
       " 'meet',\n",
       " '?',\n",
       " 'Will',\n",
       " 'thunder',\n",
       " ',',\n",
       " 'lightning',\n",
       " ',',\n",
       " 'rain',\n",
       " '?']"
      ]
     },
     "execution_count": 36,
     "metadata": {},
     "output_type": "execute_result"
    }
   ],
   "source": [
    "def filtered_sentence_list(unfiltered_sentence_list):\n",
    "    return ([word for word in unfiltered_sentence_list if not word in stop_words])\n",
    "\n",
    "filtered_sentence_list(text_words)"
   ]
  },
  {
   "cell_type": "code",
   "execution_count": 38,
   "metadata": {
    "collapsed": false
   },
   "outputs": [
    {
     "name": "stdout",
     "output_type": "stream",
     "text": [
      "python\n",
      "python\n",
      "python\n",
      "python\n",
      "pythonli\n"
     ]
    }
   ],
   "source": [
    "from nltk.stem import PorterStemmer as PS\n",
    "\n",
    "example_words = [\"python\",\"pythoner\",\"pythoning\",\"pythoned\",\"pythonly\"]\n",
    "\n",
    "for word in example_words:\n",
    "    print(PS().stem(word))"
   ]
  },
  {
   "cell_type": "markdown",
   "metadata": {},
   "source": [
    "PorterStemmer Funk"
   ]
  },
  {
   "cell_type": "code",
   "execution_count": 43,
   "metadata": {
    "collapsed": false
   },
   "outputs": [
    {
     "name": "stdout",
     "output_type": "stream",
     "text": [
      "Modern Filtered Sentence List:\n",
      "['When', 'three', 'us', 'meet', '?', 'Will', 'thunder', ',', 'lightning', ',', 'rain', '?']\n",
      "Porter Stemmed List: \n",
      "['When', 'three', 'us', 'meet', '?', 'Will', 'thunder', ',', 'lightn', ',', 'rain', '?']\n"
     ]
    }
   ],
   "source": [
    "from nltk.stem import PorterStemmer \n",
    "\n",
    "def porter_stemmed_list(listy):\n",
    "    out = []\n",
    "    for word in listy:\n",
    "        out.append(PorterStemmer().stem(word))\n",
    "    return(out)\n",
    "\n",
    "\n",
    "print(\"Modern Filtered Sentence List:\")\n",
    "print(filtered_sentence)\n",
    "\n",
    "print(\"Porter Stemmed List: \")\n",
    "print(porter_stemmed_list(filtered_sentence))"
   ]
  },
  {
   "cell_type": "code",
   "execution_count": 51,
   "metadata": {
    "collapsed": false
   },
   "outputs": [
    {
     "data": {
      "text/plain": [
       "[(',', 2),\n",
       " ('?', 2),\n",
       " ('rain', 1),\n",
       " ('lightning', 1),\n",
       " ('Will', 1),\n",
       " ('three', 1),\n",
       " ('meet', 1),\n",
       " ('When', 1),\n",
       " ('us', 1),\n",
       " ('thunder', 1)]"
      ]
     },
     "execution_count": 51,
     "metadata": {},
     "output_type": "execute_result"
    }
   ],
   "source": [
    "import nltk\n",
    "\n",
    "wordy = nltk.FreqDist(filtered_sentence)\n",
    "\n",
    "wordy.most_common(10)"
   ]
  },
  {
   "cell_type": "code",
   "execution_count": 54,
   "metadata": {
    "collapsed": false
   },
   "outputs": [
    {
     "name": "stdout",
     "output_type": "stream",
     "text": [
      "10\n",
      "12\n",
      "<FreqDist with 10 samples and 12 outcomes>\n"
     ]
    }
   ],
   "source": [
    "print(len(wordy))\n",
    "print(len(filtered_sentence))\n",
    "print(wordy)"
   ]
  },
  {
   "cell_type": "markdown",
   "metadata": {},
   "source": [
    "Word Freq"
   ]
  },
  {
   "cell_type": "code",
   "execution_count": 62,
   "metadata": {
    "collapsed": false
   },
   "outputs": [
    {
     "data": {
      "text/plain": [
       "[(',', 2)]"
      ]
     },
     "execution_count": 62,
     "metadata": {},
     "output_type": "execute_result"
    }
   ],
   "source": [
    "def frequent_words(list_of_words, percentage_value_of_frequency):\n",
    "    temp = nltk.FreqDist(list_of_words)\n",
    "    return (temp.most_common(int(percentage_value_of_frequency * len(list_of_words) / 100)))\n",
    "\n",
    "frequent_words(list_of_words=filtered_sentence, percentage_value_of_frequency=10)"
   ]
  },
  {
   "cell_type": "code",
   "execution_count": 66,
   "metadata": {
    "collapsed": false
   },
   "outputs": [
    {
     "data": {
      "text/plain": [
       "2"
      ]
     },
     "execution_count": 66,
     "metadata": {},
     "output_type": "execute_result"
    }
   ],
   "source": [
    "def frequency_of_words(list_of_words, word):\n",
    "    temp = nltk.FreqDist(list_of_words)\n",
    "    return (temp[word])\n",
    "\n",
    "frequency_of_words(list_of_words=filtered_sentence, word=\"?\")"
   ]
  },
  {
   "cell_type": "code",
   "execution_count": 67,
   "metadata": {
    "collapsed": false
   },
   "outputs": [
    {
     "data": {
      "text/plain": [
       "16.666666666666668"
      ]
     },
     "execution_count": 67,
     "metadata": {},
     "output_type": "execute_result"
    }
   ],
   "source": [
    "def percentage_frequency_of_words(list_of_words, word):\n",
    "    temp = nltk.FreqDist(list_of_words)\n",
    "    return (temp[word] * 100 / len(list_of_words))\n",
    "\n",
    "percentage_frequency_of_words(filtered_sentence, \"?\")"
   ]
  },
  {
   "cell_type": "code",
   "execution_count": 1,
   "metadata": {
    "collapsed": false
   },
   "outputs": [
    {
     "name": "stdout",
     "output_type": "stream",
     "text": [
      "hen should the thre of us met again? Wil it be in thunder,                                 lightning, or rain?\n"
     ]
    }
   ],
   "source": [
    "import re\n",
    "\n",
    "#doesnt work \n",
    "#happy - hapy\n",
    "\n",
    "class RepeatReplacer(object):\n",
    "     def __init__(self):\n",
    "            self.repeat_regexp = re.compile(r'(\\w*)(\\w)\\2(\\w*)')\n",
    "            self.repl = r'\\1\\2\\3'\n",
    "            \n",
    "     def replace(self, word):\n",
    "         repl_word = self.repeat_regexp.sub(self.repl, word)\n",
    "         if repl_word != word:\n",
    "             return self.replace(repl_word)\n",
    "         else:\n",
    "             return repl_word\n",
    "            \n",
    "replacer=RepeatReplacer()\n",
    "\n",
    "print(replacer.replace(\"hen should the three of us meet again? Will it be in thunder,                                 lightning, or rain?\"))\n"
   ]
  },
  {
   "cell_type": "code",
   "execution_count": 68,
   "metadata": {
    "collapsed": true
   },
   "outputs": [],
   "source": [
    "import pickle\n",
    "\n",
    "#>>> from cPickle import dump\n",
    "# >>> output = open('t2.pkl', 'wb')\n",
    "# >>> dump(t2, output, -1)\n",
    "# >>> output.close()\n",
    "# Now, in a separate Python process, we can load our saved tagger:\n",
    "# >>> from cPickle import load\n",
    "# >>> input = open('t2.pkl', 'rb')\n",
    "# >>> tagger = load(input)\n",
    "# >>> input.close()"
   ]
  }
 ],
 "metadata": {
  "kernelspec": {
   "display_name": "Python 3",
   "language": "python",
   "name": "python3"
  },
  "language_info": {
   "codemirror_mode": {
    "name": "ipython",
    "version": 3
   },
   "file_extension": ".py",
   "mimetype": "text/x-python",
   "name": "python",
   "nbconvert_exporter": "python",
   "pygments_lexer": "ipython3",
   "version": "3.5.2"
  }
 },
 "nbformat": 4,
 "nbformat_minor": 2
}
