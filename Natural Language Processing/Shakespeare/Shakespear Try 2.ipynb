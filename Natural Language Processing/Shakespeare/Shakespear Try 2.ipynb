{
 "cells": [
  {
   "cell_type": "code",
   "execution_count": 2,
   "metadata": {
    "collapsed": false
   },
   "outputs": [
    {
     "name": "stdout",
     "output_type": "stream",
     "text": [
      "hi\n"
     ]
    }
   ],
   "source": [
    "\n",
    "import bs4 as bs\n",
    "import urllib.request \n",
    "\n",
    "import time\n",
    "from random import randint\n",
    "\n",
    "from os import linesep\n",
    "\n",
    "print(\"hi\")"
   ]
  },
  {
   "cell_type": "code",
   "execution_count": 56,
   "metadata": {
    "collapsed": false
   },
   "outputs": [
    {
     "name": "stdout",
     "output_type": "stream",
     "text": [
      "Now processing Link: http://nfs.sparknotes.com/macbeth/page_2.html\n",
      "\n",
      "Now processing Link: http://nfs.sparknotes.com/macbeth/page_4.html\n",
      "\n",
      "Now processing Link: http://nfs.sparknotes.com/macbeth/page_6.html\n",
      "\n"
     ]
    },
    {
     "ename": "AttributeError",
     "evalue": "'NoneType' object has no attribute 'text'",
     "output_type": "error",
     "traceback": [
      "\u001b[0;31m---------------------------------------------------------------------------\u001b[0m",
      "\u001b[0;31mAttributeError\u001b[0m                            Traceback (most recent call last)",
      "\u001b[0;32m<ipython-input-56-b55dd452769b>\u001b[0m in \u001b[0;36m<module>\u001b[0;34m()\u001b[0m\n\u001b[1;32m     23\u001b[0m           \u001b[0;32mfor\u001b[0m \u001b[0mt\u001b[0m \u001b[0;32min\u001b[0m \u001b[0mTags\u001b[0m\u001b[0;34m[\u001b[0m\u001b[0mitem\u001b[0m\u001b[0;34m]\u001b[0m\u001b[0;34m:\u001b[0m\u001b[0;34m\u001b[0m\u001b[0m\n\u001b[1;32m     24\u001b[0m               \u001b[0;32mif\u001b[0m \u001b[0mt\u001b[0m\u001b[0;34m.\u001b[0m\u001b[0mfind\u001b[0m\u001b[0;34m(\u001b[0m\u001b[0;34m\"div\"\u001b[0m\u001b[0;34m,\u001b[0m \u001b[0;34m{\u001b[0m\u001b[0;34m\"class\"\u001b[0m\u001b[0;34m:\u001b[0m\u001b[0;34m\"original-line\"\u001b[0m\u001b[0;34m}\u001b[0m\u001b[0;34m)\u001b[0m\u001b[0;34m:\u001b[0m\u001b[0;34m\u001b[0m\u001b[0m\n\u001b[0;32m---> 25\u001b[0;31m                   \u001b[0mOriginalTextList\u001b[0m\u001b[0;34m.\u001b[0m\u001b[0mappend\u001b[0m\u001b[0;34m(\u001b[0m\u001b[0;34m[\u001b[0m\u001b[0mstr\u001b[0m\u001b[0;34m(\u001b[0m\u001b[0mt\u001b[0m\u001b[0;34m.\u001b[0m\u001b[0mfind\u001b[0m\u001b[0;34m(\u001b[0m\u001b[0;34m\"b\"\u001b[0m\u001b[0;34m)\u001b[0m\u001b[0;34m.\u001b[0m\u001b[0mtext\u001b[0m\u001b[0;34m)\u001b[0m\u001b[0;34m.\u001b[0m\u001b[0mreplace\u001b[0m\u001b[0;34m(\u001b[0m\u001b[0;34m\"\\n\"\u001b[0m\u001b[0;34m,\u001b[0m \u001b[0;34m\" \"\u001b[0m\u001b[0;34m)\u001b[0m\u001b[0;34m,\u001b[0m \u001b[0mstr\u001b[0m\u001b[0;34m(\u001b[0m\u001b[0mt\u001b[0m\u001b[0;34m.\u001b[0m\u001b[0mfind\u001b[0m\u001b[0;34m(\u001b[0m\u001b[0;34m\"div\"\u001b[0m\u001b[0;34m)\u001b[0m\u001b[0;34m.\u001b[0m\u001b[0mtext\u001b[0m\u001b[0;34m)\u001b[0m\u001b[0;34m.\u001b[0m\u001b[0mreplace\u001b[0m\u001b[0;34m(\u001b[0m\u001b[0;34m\"\\n\"\u001b[0m\u001b[0;34m,\u001b[0m \u001b[0;34m\" \"\u001b[0m\u001b[0;34m)\u001b[0m\u001b[0;34m]\u001b[0m\u001b[0;34m)\u001b[0m\u001b[0;31m#dfsdhere cont\u001b[0m\u001b[0;34m\u001b[0m\u001b[0m\n\u001b[0m\u001b[1;32m     26\u001b[0m               \u001b[0;32melif\u001b[0m \u001b[0mt\u001b[0m\u001b[0;34m.\u001b[0m\u001b[0mfind\u001b[0m\u001b[0;34m(\u001b[0m\u001b[0;34m\"div\"\u001b[0m\u001b[0;34m,\u001b[0m \u001b[0;34m{\u001b[0m\u001b[0;34m\"class\"\u001b[0m\u001b[0;34m:\u001b[0m \u001b[0;34m\"modern-line\"\u001b[0m\u001b[0;34m}\u001b[0m\u001b[0;34m)\u001b[0m\u001b[0;34m:\u001b[0m\u001b[0;34m\u001b[0m\u001b[0m\n\u001b[1;32m     27\u001b[0m                   \u001b[0mModernTextList\u001b[0m\u001b[0;34m.\u001b[0m\u001b[0mappend\u001b[0m\u001b[0;34m(\u001b[0m\u001b[0;34m[\u001b[0m\u001b[0mstr\u001b[0m\u001b[0;34m(\u001b[0m\u001b[0mt\u001b[0m\u001b[0;34m.\u001b[0m\u001b[0mfind\u001b[0m\u001b[0;34m(\u001b[0m\u001b[0;34m\"b\"\u001b[0m\u001b[0;34m)\u001b[0m\u001b[0;34m.\u001b[0m\u001b[0mtext\u001b[0m\u001b[0;34m.\u001b[0m\u001b[0mreplace\u001b[0m\u001b[0;34m(\u001b[0m\u001b[0;34m\"\\n\"\u001b[0m\u001b[0;34m,\u001b[0m \u001b[0;34m\" \"\u001b[0m\u001b[0;34m)\u001b[0m\u001b[0;34m)\u001b[0m\u001b[0;34m,\u001b[0m \u001b[0mstr\u001b[0m\u001b[0;34m(\u001b[0m\u001b[0mt\u001b[0m\u001b[0;34m.\u001b[0m\u001b[0mfind\u001b[0m\u001b[0;34m(\u001b[0m\u001b[0;34m\"div\"\u001b[0m\u001b[0;34m)\u001b[0m\u001b[0;34m.\u001b[0m\u001b[0mtext\u001b[0m\u001b[0;34m.\u001b[0m\u001b[0mreplace\u001b[0m\u001b[0;34m(\u001b[0m\u001b[0;34m\"\\n\"\u001b[0m\u001b[0;34m,\u001b[0m \u001b[0;34m\" \"\u001b[0m\u001b[0;34m)\u001b[0m\u001b[0;34m)\u001b[0m\u001b[0;34m]\u001b[0m\u001b[0;34m)\u001b[0m\u001b[0;34m\u001b[0m\u001b[0m\n",
      "\u001b[0;31mAttributeError\u001b[0m: 'NoneType' object has no attribute 'text'"
     ]
    }
   ],
   "source": [
    "domain = \"http://nfs.sparknotes.com/macbeth/page_\"\n",
    "\n",
    "ModernTextList = [[\"List Of Modern Text\"],[\"Speaker\",\"Dialogue\"]]\n",
    "OriginalTextList = [[\"List Of Original Text\"],[\"Speaker\",\"Dialogue\"]]\n",
    "\n",
    "\n",
    "for iter in range (2, 213, 2):\n",
    "#     print(iter, end= \" \")\n",
    "      link = domain + str(iter) + \".html\"\n",
    "      print(\"Now processing Link: \" + link + linesep)\n",
    "        \n",
    "      sauce = urllib.request.urlopen(link).read() \n",
    "      soup = bs.BeautifulSoup(sauce, \"lxml\")\n",
    "      Tags = soup.find_all(\"tr\")\n",
    "    \n",
    "      \n",
    "      ModernTextList = [[\"List Of Modern Text\"],[\"Speaker\",\"Dialogue\"]]\n",
    "      OriginalTextList = [[\"List Of Original Text\"],[\"Speaker\",\"Dialogue\"]]\n",
    "\n",
    "\n",
    "      for item in range(0, len(Tags)):\n",
    "\n",
    "          for t in Tags[item]:\n",
    "              if t.find(\"div\", {\"class\":\"original-line\"}):\n",
    "                  OriginalTextList.append([str(t.find(\"b\").text).replace(\"\\n\", \" \"), str(t.find(\"div\").text).replace(\"\\n\", \" \")])#dfsdhere cont\n",
    "              elif t.find(\"div\", {\"class\": \"modern-line\"}):\n",
    "                  ModernTextList.append([str(t.find(\"b\").text.replace(\"\\n\", \" \")), str(t.find(\"div\").text.replace(\"\\n\", \" \"))])\n",
    "\n",
    "      pauser = randint(2, 5)\n",
    "      time.sleep(pauser)\n",
    "    "
   ]
  },
  {
   "cell_type": "code",
   "execution_count": 26,
   "metadata": {
    "collapsed": true
   },
   "outputs": [],
   "source": [
    "sauce = urllib.request.urlopen(\"http://nfs.sparknotes.com/macbeth/page_2.html\").read()\n",
    "soup = bs.BeautifulSoup(sauce, \"lxml\")\n"
   ]
  },
  {
   "cell_type": "code",
   "execution_count": 42,
   "metadata": {
    "collapsed": false
   },
   "outputs": [
    {
     "name": "stdout",
     "output_type": "stream",
     "text": [
      "[['List Of Original Text'], ['Speaker', 'Dialogue'], ['FIRST WITCH', 'When shall we three meet again?'], ['SECOND WITCH', 'When the hurly-burly’s done,'], ['THIRD WITCH', 'That will be ere the set of sun.'], ['FIRST WITCH', 'Where the place?'], ['SECOND WITCH', 'Upon the heath.'], ['THIRD WITCH', 'There to meet with Macbeth.'], ['FIRST WITCH', 'I come, Graymalkin!'], ['SECOND WITCH', 'Paddock calls.'], ['THIRD WITCH', 'Anon.'], ['ALL', 'Fair is foul, and foul is fair']]\n",
      "[['List Of Modern Text'], ['Speaker', 'Dialogue'], ['FIRST WITCH', 'When should the three of us meet again? Will it be in thunder,                                 lightning, or rain?'], ['SECOND WITCH', 'We’ll meet when the noise of the battle is over, when one                                 side has won and the other side has lost.'], ['THIRD WITCH', 'That will happen before sunset.'], ['FIRST WITCH', 'Where should we meet?'], ['SECOND WITCH', 'Let’s do it in the open field.'], ['THIRD WITCH', 'We’ll meet Macbeth there.'], ['FIRST WITCH', ' (calling to her cat) I’m                                 coming, Graymalkin!'], ['SECOND WITCH', 'My toad, Paddock, calls me.'], ['THIRD WITCH', ' (to her spirit) I’ll be                                 right here!'], ['ALL', 'Fair is foul, and foul is fair. Let’s fly away through                                 the fog and filthy air.']]\n"
     ]
    }
   ],
   "source": [
    "Tags = soup.find_all(\"tr\")\n",
    "\n",
    "counter = 0\n",
    "\n",
    "#Final Tag Miner\n",
    "\n",
    "ModernTextList = [[\"List Of Modern Text\"],[\"Speaker\",\"Dialogue\"]]\n",
    "OriginalTextList = [[\"List Of Original Text\"],[\"Speaker\",\"Dialogue\"]]\n",
    "\n",
    "\n",
    "for item in range(0, len(Tags)):\n",
    "\n",
    "    for t in Tags[item]:\n",
    "        if t.find(\"div\", {\"class\":\"original-line\"}):\n",
    "            OriginalTextList.append([str(t.find(\"b\").text).replace(\"\\n\", \" \"), str(t.find(\"div\").text).replace(\"\\n\", \" \")])#dfsdhere cont\n",
    "        elif t.find(\"div\", {\"class\": \"modern-line\"}):\n",
    "            ModernTextList.append([str(t.find(\"b\").text.replace(\"\\n\", \" \")), str(t.find(\"div\").text.replace(\"\\n\", \" \"))])\n",
    "\n",
    "\n",
    "print(OriginalTextList)\n",
    "print(ModernTextList)\n",
    "\n",
    "    "
   ]
  },
  {
   "cell_type": "code",
   "execution_count": 49,
   "metadata": {
    "collapsed": false
   },
   "outputs": [
    {
     "name": "stdout",
     "output_type": "stream",
     "text": [
      "[['List Of Original Text'], ['Speaker', 'Dialogue'], ['DUNCAN', 'What bloody man is that? He can report,'], ['MALCOLM', '\\u2003\\u2003\\u2003\\u2003\\u2003This                                 is the sergeant'], ['CAPTAIN', '\\u2003\\u2003\\u2003\\u2003\\u2003Doubtful                                 it stood,'], ['DUNCAN', 'O valiant cousin! Worthy gentleman!']]\n"
     ]
    }
   ],
   "source": [
    "print(OriginalTextList)"
   ]
  },
  {
   "cell_type": "code",
   "execution_count": 50,
   "metadata": {
    "collapsed": false
   },
   "outputs": [
    {
     "data": {
      "text/plain": [
       "[['List Of Modern Text'],\n",
       " ['Speaker', 'Dialogue'],\n",
       " ['DUNCAN',\n",
       "  'Who is this bloody man? Judging from his appearance, I bet he can                                 tell us the latest news about the revolt.'],\n",
       " ['MALCOLM',\n",
       "  'This is the brave sergeant who fought to keep me from being                                 captured. Hail, brave friend! Tell the king what was happening in                                 the battle when you left it.'],\n",
       " ['CAPTAIN',\n",
       "  'For a while you couldn’t tell who would win. The armies                                 were like two exhausted swimmers clinging to each other and                                 struggling in the water, unable to move. The villainous rebel                                 Macdonwald was supported by foot soldiers and horsemen from Ireland                                 and the Hebrides, and Lady Luck was with him, smiling cruelly at his                                 enemies as if she were his whore. But Luck and Macdonwald together                                 weren’t strong enough. Brave Macbeth, laughing at Luck,                                 chopped his way through to Macdonwald, who didn’t even have                                 time to say good-bye or shake hands before Macbeth split him open                                 from his navel to his jawbone and stuck his head on our castle                                 walls.'],\n",
       " ['DUNCAN', 'My brave relative! What a worthy man!']]"
      ]
     },
     "execution_count": 50,
     "metadata": {},
     "output_type": "execute_result"
    }
   ],
   "source": [
    "ModernTextList"
   ]
  },
  {
   "cell_type": "code",
   "execution_count": 51,
   "metadata": {
    "collapsed": true
   },
   "outputs": [],
   "source": [
    "def writer(file_name, lists):\n",
    "    \n",
    "    print(\"Converting To String...\")\n",
    "    \n",
    "    text = str(lists)\n",
    "    \n",
    "    print(\"Conversion Complete!\")\n",
    "    \n",
    "    print(\"Writing To File '\" + file_name + \"'.\")\n",
    "    \n",
    "    file = open(file_name, \"a\")\n",
    "    \n",
    "    print(\"Opened File.\")\n",
    "    \n",
    "    file.write(text)\n",
    "    \n",
    "    print(\"Wrote To File.\")\n",
    "    \n",
    "    file.close()\n",
    "    \n",
    "    print(\"Closed File.\")\n",
    "    \n",
    "    print(\"Writing Successful!\")\n",
    "    \n",
    "    return\n"
   ]
  },
  {
   "cell_type": "code",
   "execution_count": 53,
   "metadata": {
    "collapsed": false
   },
   "outputs": [
    {
     "name": "stdout",
     "output_type": "stream",
     "text": [
      "Converting To String...\n",
      "Conversion Complete!\n",
      "Writing To File 'test1'.\n",
      "Opened File.\n",
      "Wrote To File.\n",
      "Closed File.\n",
      "Writing Successful!\n",
      "Converting To String...\n",
      "Conversion Complete!\n",
      "Writing To File 'test2'.\n",
      "Opened File.\n",
      "Wrote To File.\n",
      "Closed File.\n",
      "Writing Successful!\n"
     ]
    }
   ],
   "source": [
    "writer(\"test1\", ModernTextList)\n",
    "writer(\"test2\", OriginalTextList)"
   ]
  },
  {
   "cell_type": "code",
   "execution_count": 9,
   "metadata": {
    "collapsed": false
   },
   "outputs": [
    {
     "name": "stdout",
     "output_type": "stream",
     "text": [
      "Now processing Link: http://nfs.sparknotes.com/macbeth/page_6.html\n",
      "\n"
     ]
    }
   ],
   "source": [
    "link = \"http://nfs.sparknotes.com/macbeth/page_6.html\"\n",
    "\n",
    "print(\"Now processing Link: \" + link + linesep)\n",
    "        \n",
    "sauce = urllib.request.urlopen(link).read() \n",
    "soup = bs.BeautifulSoup(sauce, \"lxml\")\n",
    "Tags = soup.find_all(\"tr\")\n",
    "    \n",
    "      \n",
    "ModernTextList = [[\"List Of Modern Text\"],[\"Speaker\",\"Dialogue\"]]\n",
    "OriginalTextList = [[\"List Of Original Text\"],[\"Speaker\",\"Dialogue\"]]\n",
    "\n",
    "\n",
    "for item in range(0, len(Tags)):\n",
    "\n",
    "    for t in Tags[item]:\n",
    "          try:\n",
    "                if t.find(\"div\", {\"class\":\"original-line\"}):\n",
    "                      OriginalTextList.append([str(t.find(\"b\").text).replace(\"\\n\", \" \"), str(t.find(\"div\").text).replace(\"\\n\", \" \")])#dfsdhere cont\n",
    "                elif t.find(\"div\", {\"class\": \"modern-line\"}):\n",
    "                      ModernTextList.append([str(t.find(\"b\").text.replace(\"\\n\", \" \")), str(t.find(\"div\").text.replace(\"\\n\", \" \"))])\n",
    "\n",
    "          except (AttributeError):\n",
    "                continue\n",
    "        \n",
    "pauser = randint(2, 5)\n",
    "time.sleep(pauser)"
   ]
  },
  {
   "cell_type": "code",
   "execution_count": 10,
   "metadata": {
    "collapsed": false
   },
   "outputs": [
    {
     "data": {
      "text/plain": [
       "[['List Of Modern Text'],\n",
       " ['Speaker', 'Dialogue'],\n",
       " ['CAPTAIN',\n",
       "  'But in the same way that violent storms always come just as spring                                 appears, our success against Macdonwald created new problems for us.                                 Listen to this, King: as soon as we sent those Irish soldiers                                 running for cover, the Norwegian king saw his chance to attack us                                 with fresh troops and shiny weapons.'],\n",
       " ['DUNCAN',\n",
       "  'Didn’t this frighten our captains, Macbeth and                             Banquo?'],\n",
       " ['CAPTAIN',\n",
       "  \"The new challenge scared them about as much as sparrows frighten                                 eagles, or rabbits frighten a lion. To tell you the truth, they                                 fought the new enemy with twice as much force as before; they were                                 like cannons loaded with double ammunition. Maybe they wanted to                                 take a bath in their enemies' blood, or make that                                 battlefield as infamous as Golgotha, where Christ was crucified, I                                 don’t know. But I feel weak. My wounds must be tended                             to.\"],\n",
       " ['DUNCAN',\n",
       "  'Your words, like your wounds, bring you honor. Take him to the                                 surgeons.'],\n",
       " ['MALCOLM',\n",
       "  'The worthy Thane“Thane” is a Scottish title of nobility.Thane of Ross.'],\n",
       " ['LENNOX',\n",
       "  'His eyes seem frantic! He looks like someone with a strange tale                                 to tell.']]"
      ]
     },
     "execution_count": 10,
     "metadata": {},
     "output_type": "execute_result"
    }
   ],
   "source": [
    "ModernTextList"
   ]
  },
  {
   "cell_type": "code",
   "execution_count": 11,
   "metadata": {
    "collapsed": false
   },
   "outputs": [
    {
     "data": {
      "text/plain": [
       "[['List Of Original Text'],\n",
       " ['Speaker', 'Dialogue'],\n",
       " ['CAPTAIN', \"As whence the sun 'gins his reflection\"],\n",
       " ['DUNCAN', 'Dismayed not this our captains, Macbeth and Banquo?'],\n",
       " ['CAPTAIN', 'Yes, as sparrows eagles, or the hare the lion.'],\n",
       " ['DUNCAN', 'So well thy words become thee as thy wounds;'],\n",
       " ['MALCOLM',\n",
       "  '\\u2003\\u2003\\u2003\\u2003\\u2003The                                 worthy thane of Ross.'],\n",
       " ['LENNOX', 'What a haste looks through his eyes! So should he look']]"
      ]
     },
     "execution_count": 11,
     "metadata": {},
     "output_type": "execute_result"
    }
   ],
   "source": [
    "OriginalTextList"
   ]
  },
  {
   "cell_type": "code",
   "execution_count": 29,
   "metadata": {
    "collapsed": false
   },
   "outputs": [
    {
     "data": {
      "text/plain": [
       "<div id=\"noFear-comparison\"><table border=\"0\" cellpadding=\"0\" class=\"noFear\"><tr><td class=\"noFear-number\"></td><td class=\"noFear-left\"><h3 class=\"semi-bold\">Original Text</h3></td><td class=\"noFear-right\"><h3 class=\"semi-bold\">Modern Text</h3></td></tr>\n",
       "<tr><td class=\"noFear-number\"><br/>25<br/><br/><br/><br/><br/>30<br/><br/><br/></td><td class=\"noFear-left\">\n",
       "<b>CAPTAIN</b>\n",
       "<div class=\"original-line\">As whence the sun 'gins his reflection</div>\n",
       "<div class=\"original-line\">Shipwracking storms and direful thunders break,</div>\n",
       "<div class=\"original-line\">So from that spring whence comfort seemed to come</div>\n",
       "<div class=\"original-line\">Discomfort swells. Mark, King of Scotland, mark:</div>\n",
       "<div class=\"original-line\">No sooner justice had, with valor armed,</div>\n",
       "<div class=\"original-line\">Compelled these skipping kerns to trust their heels,</div>\n",
       "<div class=\"original-line\">But the Norweyan lord, surveying vantage,</div>\n",
       "<div class=\"original-line\">With furbished arms and new supplies of men,</div>\n",
       "<div class=\"original-line\">Began a fresh assault.</div>\n",
       "</td><td class=\"noFear-right\">\n",
       "<b>CAPTAIN</b>\n",
       "<div class=\"modern-line\">But in the same way that violent storms always come just as spring\n",
       "                                appears, our success against Macdonwald created new problems for us.\n",
       "                                Listen to this, King: as soon as we sent those Irish soldiers\n",
       "                                running for cover, the Norwegian king saw his chance to attack us\n",
       "                                with fresh troops and shiny weapons.</div>\n",
       "</td></tr>\n",
       "<tr><td class=\"noFear-number\"><br/></td><td class=\"noFear-left\">\n",
       "<b>DUNCAN</b>\n",
       "<div class=\"original-line\">Dismayed not this our captains, Macbeth and Banquo?</div>\n",
       "</td><td class=\"noFear-right\">\n",
       "<b>DUNCAN</b>\n",
       "<div class=\"modern-line\">Didn’t this frighten our captains, Macbeth and\n",
       "                            Banquo?</div>\n",
       "</td></tr>\n",
       "<tr><td class=\"noFear-number\"><br/>35<br/><br/><br/><br/><br/>40<br/><br/></td><td class=\"noFear-left\">\n",
       "<b>CAPTAIN</b>\n",
       "<div class=\"original-line\">Yes, as sparrows eagles, or the hare the lion.</div>\n",
       "<div class=\"original-line\">If I say sooth, I must report they were</div>\n",
       "<div class=\"original-line\">As cannons overcharged with double cracks,</div>\n",
       "<div class=\"original-line\">So they doubly redoubled strokes upon the foe.</div>\n",
       "<div class=\"original-line\">Except they meant to bathe in reeking wounds,</div>\n",
       "<div class=\"original-line\">Or memorize another Golgotha,</div>\n",
       "<div class=\"original-line\">I cannot tell—</div>\n",
       "<div class=\"original-line\">But I am faint, my gashes cry for help.</div>\n",
       "</td><td class=\"noFear-right\">\n",
       "<b>CAPTAIN</b>\n",
       "<div class=\"modern-line\">The new challenge scared them about as much as sparrows frighten\n",
       "                                eagles, or rabbits frighten a lion. To tell you the truth, they\n",
       "                                fought the new enemy with twice as much force as before; they were\n",
       "                                like cannons loaded with double ammunition. Maybe they wanted to\n",
       "                                take a bath in their enemies' blood, or make that\n",
       "                                battlefield as infamous as Golgotha, where Christ was crucified, I\n",
       "                                don’t know. But I feel weak. My wounds must be tended\n",
       "                            to.</div>\n",
       "</td></tr>\n",
       "<tr><td class=\"noFear-number\"><br/><br/></td><td class=\"noFear-left\">\n",
       "<b>DUNCAN</b>\n",
       "<div class=\"original-line\">So well thy words become thee as thy wounds;</div>\n",
       "<div class=\"original-line\">They smack of honor both. Go get him surgeons.</div>\n",
       "</td><td class=\"noFear-right\">\n",
       "<b>DUNCAN</b>\n",
       "<div class=\"modern-line\">Your words, like your wounds, bring you honor. Take him to the\n",
       "                                surgeons.</div>\n",
       "</td></tr>\n",
       "<tr><td class=\"noFear-number\"></td><td class=\"noFear-left\"><div class=\"original-stage\">Exit <b>CAPTAIN</b> with attendants</div></td><td class=\"noFear-right\"><div class=\"modern-stage\">The <b>CAPTAIN</b> exits, helped by\n",
       "                        attendants.</div></td></tr>\n",
       "<tr><td class=\"noFear-number\"></td><td class=\"noFear-left\"><div class=\"original-stage\">Enter <b>ROSS</b> and\n",
       "                        <b>ANGUS</b>\n",
       "</div></td><td class=\"noFear-right\"><div class=\"modern-stage\">\n",
       "<b>ROSS</b> and <b>ANGUS</b>\n",
       "                    enter.</div></td></tr>\n",
       "<tr><td class=\"noFear-number\">45</td><td class=\"noFear-left\">\n",
       "<div class=\"original-line\">Who comes here?</div>\n",
       "</td><td class=\"noFear-right\">\n",
       "<div class=\"modern-line\">Who is this?</div>\n",
       "</td></tr>\n",
       "<tr><td class=\"noFear-number\"><br/></td><td class=\"noFear-left\">\n",
       "<b>MALCOLM</b>\n",
       "<div class=\"original-line\">     The\n",
       "                                worthy thane of Ross.</div>\n",
       "</td><td class=\"noFear-right\">\n",
       "<b>MALCOLM</b>\n",
       "<div class=\"modern-line\">The worthy <a class=\"tooltip-link\" href=\"javascript:void(0);\"><span class=\"tooltip-css tooltip-background\"><h4 class=\"semi-bold\">Thane</h4><p>“Thane” is a Scottish title of nobility.</p></span>Thane</a> of Ross.</div>\n",
       "</td></tr>\n",
       "<tr><td class=\"noFear-number\"><br/><br/></td><td class=\"noFear-left\">\n",
       "<b>LENNOX</b>\n",
       "<div class=\"original-line\">What a haste looks through his eyes! So should he look</div>\n",
       "<div class=\"original-line\">That seems to speak things strange.</div>\n",
       "</td><td class=\"noFear-right\">\n",
       "<b>LENNOX</b>\n",
       "<div class=\"modern-line\">His eyes seem frantic! He looks like someone with a strange tale\n",
       "                                to tell.</div>\n",
       "</td></tr>\n",
       "</table></div>"
      ]
     },
     "execution_count": 29,
     "metadata": {},
     "output_type": "execute_result"
    }
   ],
   "source": [
    "link = \"http://nfs.sparknotes.com/macbeth/page_6.html\"\n",
    "\n",
    "sauce = urllib.request.urlopen(link).read() \n",
    "soup = bs.BeautifulSoup(sauce, \"lxml\")\n",
    "Tags = soup.find(\"div\", {\"id\":\"noFear-comparison\"})\n",
    "    \n",
    "      \n",
    "ModernTextList = [[\"List Of Modern Text\"],[\"Speaker\",\"Dialogue\"]]\n",
    "OriginalTextList = [[\"List Of Original Text\"],[\"Speaker\",\"Dialogue\"]]\n",
    "\n",
    "\n",
    "# supp = soup.find_all(\"tr\")\n",
    "\n",
    "Tags"
   ]
  },
  {
   "cell_type": "code",
   "execution_count": 30,
   "metadata": {
    "collapsed": false
   },
   "outputs": [],
   "source": [
    "for tag in Tags:\n",
    "    if tag.has_attr('b'):\n",
    "        print(tag)       "
   ]
  },
  {
   "cell_type": "code",
   "execution_count": 26,
   "metadata": {
    "collapsed": false
   },
   "outputs": [
    {
     "ename": "TypeError",
     "evalue": "unhashable type: 'dict'",
     "output_type": "error",
     "traceback": [
      "\u001b[0;31m---------------------------------------------------------------------------\u001b[0m",
      "\u001b[0;31mTypeError\u001b[0m                                 Traceback (most recent call last)",
      "\u001b[0;32m<ipython-input-26-299a02f47143>\u001b[0m in \u001b[0;36m<module>\u001b[0;34m()\u001b[0m\n\u001b[1;32m      1\u001b[0m \u001b[0;32mfor\u001b[0m \u001b[0mtag\u001b[0m \u001b[0;32min\u001b[0m \u001b[0mTags\u001b[0m\u001b[0;34m:\u001b[0m\u001b[0;34m\u001b[0m\u001b[0m\n\u001b[1;32m      2\u001b[0m     \u001b[0;32mif\u001b[0m \u001b[0mtag\u001b[0m\u001b[0;34m.\u001b[0m\u001b[0mfind\u001b[0m\u001b[0;34m(\u001b[0m\u001b[0;34m\"div\"\u001b[0m\u001b[0;34m)\u001b[0m\u001b[0;34m:\u001b[0m\u001b[0;34m\u001b[0m\u001b[0m\n\u001b[0;32m----> 3\u001b[0;31m         \u001b[0;32mif\u001b[0m \u001b[0mtag\u001b[0m\u001b[0;34m.\u001b[0m\u001b[0mhas_attr\u001b[0m\u001b[0;34m(\u001b[0m\u001b[0;34m{\u001b[0m\u001b[0;34m\"class\"\u001b[0m\u001b[0;34m:\u001b[0m\u001b[0;34m\"original-line\"\u001b[0m\u001b[0;34m}\u001b[0m\u001b[0;34m)\u001b[0m\u001b[0;34m:\u001b[0m\u001b[0;34m\u001b[0m\u001b[0m\n\u001b[0m\u001b[1;32m      4\u001b[0m             \u001b[0mprint\u001b[0m\u001b[0;34m(\u001b[0m\u001b[0mtag\u001b[0m\u001b[0;34m)\u001b[0m\u001b[0;34m\u001b[0m\u001b[0m\n",
      "\u001b[0;32m/usr/local/lib/python3.5/site-packages/bs4/element.py\u001b[0m in \u001b[0;36mhas_attr\u001b[0;34m(self, key)\u001b[0m\n\u001b[1;32m    987\u001b[0m \u001b[0;34m\u001b[0m\u001b[0m\n\u001b[1;32m    988\u001b[0m     \u001b[0;32mdef\u001b[0m \u001b[0mhas_attr\u001b[0m\u001b[0;34m(\u001b[0m\u001b[0mself\u001b[0m\u001b[0;34m,\u001b[0m \u001b[0mkey\u001b[0m\u001b[0;34m)\u001b[0m\u001b[0;34m:\u001b[0m\u001b[0;34m\u001b[0m\u001b[0m\n\u001b[0;32m--> 989\u001b[0;31m         \u001b[0;32mreturn\u001b[0m \u001b[0mkey\u001b[0m \u001b[0;32min\u001b[0m \u001b[0mself\u001b[0m\u001b[0;34m.\u001b[0m\u001b[0mattrs\u001b[0m\u001b[0;34m\u001b[0m\u001b[0m\n\u001b[0m\u001b[1;32m    990\u001b[0m \u001b[0;34m\u001b[0m\u001b[0m\n\u001b[1;32m    991\u001b[0m     \u001b[0;32mdef\u001b[0m \u001b[0m__hash__\u001b[0m\u001b[0;34m(\u001b[0m\u001b[0mself\u001b[0m\u001b[0;34m)\u001b[0m\u001b[0;34m:\u001b[0m\u001b[0;34m\u001b[0m\u001b[0m\n",
      "\u001b[0;31mTypeError\u001b[0m: unhashable type: 'dict'"
     ]
    }
   ],
   "source": [
    "for tag in Tags:\n",
    "    if tag.find(\"div\"):\n",
    "        if tag.has_attr({\"class\":\"original-line\"}):\n",
    "            print(tag)   "
   ]
  },
  {
   "cell_type": "code",
   "execution_count": 32,
   "metadata": {
    "collapsed": false
   },
   "outputs": [],
   "source": [
    "A = []\n",
    "B = []\n",
    "\n",
    "for t in Tags:\n",
    "        if t.find(\"div\", {\"class\":\"original-line\"}):\n",
    "            A.append([str(t.find(\"b\").text).replace(\"\\n\", \" \"), str(t.find(\"div\").text).replace(\"\\n\", \" \")])#dfsdhere cont\n",
    "        elif t.find(\"div\", {\"class\": \"modern-line\"}):\n",
    "            B.append([str(t.find(\"b\").text.replace(\"\\n\", \" \")), str(t.find(\"div\").text.replace(\"\\n\", \" \"))])\n"
   ]
  },
  {
   "cell_type": "code",
   "execution_count": 35,
   "metadata": {
    "collapsed": false
   },
   "outputs": [],
   "source": [
    "for items in B:\n",
    "    print(items)"
   ]
  }
 ],
 "metadata": {
  "kernelspec": {
   "display_name": "Python 3",
   "language": "python",
   "name": "python3"
  },
  "language_info": {
   "codemirror_mode": {
    "name": "ipython",
    "version": 3
   },
   "file_extension": ".py",
   "mimetype": "text/x-python",
   "name": "python",
   "nbconvert_exporter": "python",
   "pygments_lexer": "ipython3",
   "version": "3.5.2"
  }
 },
 "nbformat": 4,
 "nbformat_minor": 2
}
