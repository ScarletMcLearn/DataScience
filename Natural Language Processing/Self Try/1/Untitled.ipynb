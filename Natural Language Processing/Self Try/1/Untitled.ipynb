{
 "cells": [
  {
   "cell_type": "code",
   "execution_count": 4,
   "metadata": {
    "collapsed": true
   },
   "outputs": [],
   "source": [
    "import nltk, pprint"
   ]
  },
  {
   "cell_type": "code",
   "execution_count": 31,
   "metadata": {
    "collapsed": true
   },
   "outputs": [],
   "source": [
    "sentence = \"I feel so sad every night. Someone please kill me already. Based on the basing of easy death.\""
   ]
  },
  {
   "cell_type": "code",
   "execution_count": 32,
   "metadata": {},
   "outputs": [
    {
     "data": {
      "text/plain": [
       "'I feel so sad every night. Someone please kill me already. Based on the basing of easy death.'"
      ]
     },
     "execution_count": 32,
     "metadata": {},
     "output_type": "execute_result"
    }
   ],
   "source": [
    "sentence"
   ]
  },
  {
   "cell_type": "code",
   "execution_count": null,
   "metadata": {
    "collapsed": true
   },
   "outputs": [],
   "source": []
  },
  {
   "cell_type": "code",
   "execution_count": 33,
   "metadata": {
    "collapsed": true
   },
   "outputs": [],
   "source": [
    "from nltk import word_tokenize"
   ]
  },
  {
   "cell_type": "code",
   "execution_count": 34,
   "metadata": {
    "collapsed": true
   },
   "outputs": [],
   "source": [
    "tokens = word_tokenize(sentence)"
   ]
  },
  {
   "cell_type": "code",
   "execution_count": 35,
   "metadata": {},
   "outputs": [
    {
     "data": {
      "text/plain": [
       "['I',\n",
       " 'feel',\n",
       " 'so',\n",
       " 'sad',\n",
       " 'every',\n",
       " 'night',\n",
       " '.',\n",
       " 'Someone',\n",
       " 'please',\n",
       " 'kill',\n",
       " 'me',\n",
       " 'already',\n",
       " '.',\n",
       " 'Based',\n",
       " 'on',\n",
       " 'the',\n",
       " 'basing',\n",
       " 'of',\n",
       " 'easy',\n",
       " 'death',\n",
       " '.']"
      ]
     },
     "execution_count": 35,
     "metadata": {},
     "output_type": "execute_result"
    }
   ],
   "source": [
    "tokens"
   ]
  },
  {
   "cell_type": "code",
   "execution_count": null,
   "metadata": {
    "collapsed": true
   },
   "outputs": [],
   "source": []
  },
  {
   "cell_type": "code",
   "execution_count": 36,
   "metadata": {},
   "outputs": [
    {
     "name": "stdout",
     "output_type": "stream",
     "text": [
      "Displaying 1 of 1 matches:\n",
      "                                     feel so sad every night . Someone please \n"
     ]
    }
   ],
   "source": [
    "nltk.Text(tokens).concordance('feel')"
   ]
  },
  {
   "cell_type": "code",
   "execution_count": null,
   "metadata": {
    "collapsed": true
   },
   "outputs": [],
   "source": []
  },
  {
   "cell_type": "code",
   "execution_count": 37,
   "metadata": {},
   "outputs": [],
   "source": [
    "porter = nltk.PorterStemmer()"
   ]
  },
  {
   "cell_type": "code",
   "execution_count": 38,
   "metadata": {},
   "outputs": [
    {
     "data": {
      "text/plain": [
       "['I',\n",
       " 'feel',\n",
       " 'so',\n",
       " 'sad',\n",
       " 'everi',\n",
       " 'night',\n",
       " '.',\n",
       " 'someon',\n",
       " 'pleas',\n",
       " 'kill',\n",
       " 'me',\n",
       " 'alreadi',\n",
       " '.',\n",
       " 'base',\n",
       " 'on',\n",
       " 'the',\n",
       " 'base',\n",
       " 'of',\n",
       " 'easi',\n",
       " 'death',\n",
       " '.']"
      ]
     },
     "execution_count": 38,
     "metadata": {},
     "output_type": "execute_result"
    }
   ],
   "source": [
    "[porter.stem(t) for t in tokens]"
   ]
  },
  {
   "cell_type": "code",
   "execution_count": null,
   "metadata": {
    "collapsed": true
   },
   "outputs": [],
   "source": []
  },
  {
   "cell_type": "code",
   "execution_count": 42,
   "metadata": {},
   "outputs": [
    {
     "data": {
      "text/plain": [
       "['i',\n",
       " 'feel',\n",
       " 'so',\n",
       " 'sad',\n",
       " 'every',\n",
       " 'night',\n",
       " '.',\n",
       " 'someone',\n",
       " 'please',\n",
       " 'kill',\n",
       " 'me',\n",
       " 'already',\n",
       " '.',\n",
       " 'based',\n",
       " 'on',\n",
       " 'the',\n",
       " 'basing',\n",
       " 'of',\n",
       " 'easy',\n",
       " 'death',\n",
       " '.']"
      ]
     },
     "execution_count": 42,
     "metadata": {},
     "output_type": "execute_result"
    }
   ],
   "source": [
    "wnl = nltk.WordNetLemmatizer()\n",
    "\n",
    "[wnl.lemmatize(t.lower()) for t in tokens]"
   ]
  },
  {
   "cell_type": "code",
   "execution_count": null,
   "metadata": {
    "collapsed": true
   },
   "outputs": [],
   "source": []
  },
  {
   "cell_type": "code",
   "execution_count": 44,
   "metadata": {},
   "outputs": [],
   "source": [
    "from nltk.corpus import stopwords\n",
    "\n",
    "stop = stopwords.words('english')"
   ]
  },
  {
   "cell_type": "code",
   "execution_count": 50,
   "metadata": {},
   "outputs": [
    {
     "data": {
      "text/plain": [
       "['I',\n",
       " 'feel',\n",
       " 'sad',\n",
       " 'every',\n",
       " 'night',\n",
       " '.',\n",
       " 'Someone',\n",
       " 'please',\n",
       " 'kill',\n",
       " 'already',\n",
       " '.',\n",
       " 'Based',\n",
       " 'basing',\n",
       " 'easy',\n",
       " 'death',\n",
       " '.']"
      ]
     },
     "execution_count": 50,
     "metadata": {},
     "output_type": "execute_result"
    }
   ],
   "source": [
    "# >>> [i for i in L1 if i in L2]\n",
    "\n",
    "[word for word in tokens if word not in stop]"
   ]
  },
  {
   "cell_type": "code",
   "execution_count": null,
   "metadata": {
    "collapsed": true
   },
   "outputs": [],
   "source": []
  },
  {
   "cell_type": "code",
   "execution_count": 51,
   "metadata": {},
   "outputs": [
    {
     "data": {
      "text/plain": [
       "[Synset('car.n.01')]"
      ]
     },
     "execution_count": 51,
     "metadata": {},
     "output_type": "execute_result"
    }
   ],
   "source": [
    "from nltk.corpus import wordnet as wn\n",
    "\n",
    "wn.synsets('motorcar')"
   ]
  },
  {
   "cell_type": "code",
   "execution_count": 52,
   "metadata": {},
   "outputs": [
    {
     "data": {
      "text/plain": [
       "[Synset('sad.a.01'), Synset('sad.s.02'), Synset('deplorable.s.01')]"
      ]
     },
     "execution_count": 52,
     "metadata": {},
     "output_type": "execute_result"
    }
   ],
   "source": [
    "wn.synsets('sad')"
   ]
  },
  {
   "cell_type": "code",
   "execution_count": 57,
   "metadata": {},
   "outputs": [
    {
     "name": "stdout",
     "output_type": "stream",
     "text": [
      "[Synset('iodine.n.01'), Synset('one.n.01'), Synset('i.n.03'), Synset('one.s.01')]\n",
      "\n",
      "[Synset('feel.n.01'), Synset('spirit.n.02'), Synset('tactile_property.n.01'), Synset('feel.n.04'), Synset('feel.v.01'), Synset('find.v.05'), Synset('feel.v.03'), Synset('feel.v.04'), Synset('feel.v.05'), Synset('feel.v.06'), Synset('feel.v.07'), Synset('feel.v.08'), Synset('feel.v.09'), Synset('palpate.v.01'), Synset('feel.v.11'), Synset('feel.v.12'), Synset('feel.v.13')]\n",
      "\n",
      "[Synset('sol.n.03'), Synset('so.r.01'), Synset('so.r.02'), Synset('so.r.03'), Synset('so.r.04'), Synset('so.r.05'), Synset('thus.r.02'), Synset('so.r.07'), Synset('then.r.01'), Synset('therefore.r.01'), Synset('indeed.r.01')]\n",
      "\n",
      "[Synset('sad.a.01'), Synset('sad.s.02'), Synset('deplorable.s.01')]\n",
      "\n",
      "[Synset('every.s.01'), Synset('every.s.02')]\n",
      "\n",
      "[Synset('night.n.01'), Synset('night.n.02'), Synset('night.n.03'), Synset('night.n.04'), Synset('night.n.05'), Synset('night.n.06'), Synset('night.n.07'), Synset('nox.n.01')]\n",
      "\n",
      "[]\n",
      "\n",
      "[Synset('person.n.01')]\n",
      "\n",
      "[Synset('please.v.01'), Synset('please.v.02'), Synset('please.v.03'), Synset('please.r.01')]\n",
      "\n",
      "[Synset('killing.n.02'), Synset('kill.n.02'), Synset('kill.v.01'), Synset('kill.v.02'), Synset('stamp_out.v.01'), Synset('kill.v.04'), Synset('kill.v.05'), Synset('kill.v.06'), Synset('kill.v.07'), Synset('kill.v.08'), Synset('kill.v.09'), Synset('kill.v.10'), Synset('toss_off.v.02'), Synset('kill.v.12'), Synset('kill.v.13'), Synset('kill.v.14'), Synset('kill.v.15')]\n",
      "\n",
      "[Synset('maine.n.01')]\n",
      "\n",
      "[Synset('already.r.01')]\n",
      "\n",
      "[]\n",
      "\n",
      "[Synset('establish.v.08'), Synset('base.v.02'), Synset('free-base.v.01'), Synset('based.s.01'), Synset('based.s.02')]\n",
      "\n",
      "[Synset('on.a.01'), Synset('on.a.02'), Synset('along.r.01'), Synset('on.r.02'), Synset('on.r.03')]\n",
      "\n",
      "[]\n",
      "\n",
      "[Synset('establish.v.08'), Synset('base.v.02'), Synset('free-base.v.01')]\n",
      "\n",
      "[]\n",
      "\n",
      "[Synset('easy.a.01'), Synset('easy.s.02'), Synset('easy.a.03'), Synset('easy.s.04'), Synset('easy.s.05'), Synset('easy.s.06'), Synset('comfortable.s.05'), Synset('easy.s.08'), Synset('easy.s.09'), Synset('easy.s.10'), Synset('easy.s.11'), Synset('easy.s.12'), Synset('easily.r.01'), Synset('slowly.r.01'), Synset('easy.r.03')]\n",
      "\n",
      "[Synset('death.n.01'), Synset('death.n.02'), Synset('death.n.03'), Synset('death.n.04'), Synset('death.n.05'), Synset('death.n.06'), Synset('end.n.06'), Synset('death.n.08')]\n",
      "\n",
      "[]\n",
      "\n"
     ]
    }
   ],
   "source": [
    "for word in tokens:\n",
    "    print(wn.synsets(word), end='\\n\\n')"
   ]
  },
  {
   "cell_type": "code",
   "execution_count": 68,
   "metadata": {},
   "outputs": [
    {
     "data": {
      "text/plain": [
       "[Synset('sad.a.01'), Synset('sad.s.02'), Synset('deplorable.s.01')]"
      ]
     },
     "execution_count": 68,
     "metadata": {},
     "output_type": "execute_result"
    }
   ],
   "source": [
    "wn.synsets('sad')"
   ]
  },
  {
   "cell_type": "code",
   "execution_count": 66,
   "metadata": {},
   "outputs": [
    {
     "name": "stdout",
     "output_type": "stream",
     "text": [
      "['sad']\n"
     ]
    }
   ],
   "source": [
    "print(wn.synsets('sad')[0].lemma_names())"
   ]
  },
  {
   "cell_type": "code",
   "execution_count": 70,
   "metadata": {},
   "outputs": [
    {
     "name": "stdout",
     "output_type": "stream",
     "text": [
      "['sad']\n",
      "['sad']\n",
      "['deplorable', 'distressing', 'lamentable', 'pitiful', 'sad', 'sorry']\n"
     ]
    }
   ],
   "source": [
    "for word in wn.synsets('sad'):\n",
    "    print(word.lemma_names())"
   ]
  },
  {
   "cell_type": "code",
   "execution_count": 72,
   "metadata": {},
   "outputs": [
    {
     "name": "stdout",
     "output_type": "stream",
     "text": [
      "experiencing or showing sorrow or unhappiness\n",
      "\n",
      "of things that make you feel sad\n",
      "\n",
      "bad; unfortunate\n",
      "\n"
     ]
    }
   ],
   "source": [
    "for word in wn.synsets('sad'):\n",
    "    print(word.definition())\n",
    "    print()"
   ]
  },
  {
   "cell_type": "code",
   "execution_count": 73,
   "metadata": {},
   "outputs": [
    {
     "name": "stdout",
     "output_type": "stream",
     "text": [
      "['feeling sad because his dog had died', 'Better by far that you should forget and smile / Than that you should remember and be sad\"- Christina Rossetti']\n",
      "\n",
      "['sad news', \"she doesn't like sad movies\", 'it was a very sad story', 'When I am dead, my dearest, / Sing no sad songs for me\"- Christina Rossetti']\n",
      "\n",
      "['my finances were in a deplorable state', 'a lamentable decision', 'her clothes were in sad shape', 'a sorry state of affairs']\n",
      "\n"
     ]
    }
   ],
   "source": [
    "for word in wn.synsets('sad'):\n",
    "    print(word.examples())\n",
    "    print()"
   ]
  },
  {
   "cell_type": "code",
   "execution_count": 74,
   "metadata": {},
   "outputs": [
    {
     "name": "stdout",
     "output_type": "stream",
     "text": [
      "[Lemma('sad.a.01.sad')]\n",
      "\n",
      "[Lemma('sad.s.02.sad')]\n",
      "\n",
      "[Lemma('deplorable.s.01.deplorable'), Lemma('deplorable.s.01.distressing'), Lemma('deplorable.s.01.lamentable'), Lemma('deplorable.s.01.pitiful'), Lemma('deplorable.s.01.sad'), Lemma('deplorable.s.01.sorry')]\n",
      "\n"
     ]
    }
   ],
   "source": [
    "for word in wn.synsets('sad'):\n",
    "    print(word.lemmas())\n",
    "    print()"
   ]
  },
  {
   "cell_type": "code",
   "execution_count": 75,
   "metadata": {},
   "outputs": [
    {
     "name": "stdout",
     "output_type": "stream",
     "text": [
      "['sad']\n",
      "\n",
      "['sad']\n",
      "\n",
      "['deplorable', 'distressing', 'lamentable', 'pitiful', 'sad', 'sorry']\n",
      "\n"
     ]
    }
   ],
   "source": [
    "for word in wn.synsets('sad'):\n",
    "    print(word.lemma_names())\n",
    "    print()"
   ]
  },
  {
   "cell_type": "code",
   "execution_count": null,
   "metadata": {
    "collapsed": true
   },
   "outputs": [],
   "source": []
  },
  {
   "cell_type": "code",
   "execution_count": 76,
   "metadata": {},
   "outputs": [
    {
     "data": {
      "text/plain": [
       "[('I', 'PRP'),\n",
       " ('feel', 'VBP'),\n",
       " ('so', 'RB'),\n",
       " ('sad', 'JJ'),\n",
       " ('every', 'DT'),\n",
       " ('night', 'NN'),\n",
       " ('.', '.'),\n",
       " ('Someone', 'NNP'),\n",
       " ('please', 'NN'),\n",
       " ('kill', 'VB'),\n",
       " ('me', 'PRP'),\n",
       " ('already', 'RB'),\n",
       " ('.', '.'),\n",
       " ('Based', 'VBN'),\n",
       " ('on', 'IN'),\n",
       " ('the', 'DT'),\n",
       " ('basing', 'NN'),\n",
       " ('of', 'IN'),\n",
       " ('easy', 'JJ'),\n",
       " ('death', 'NN'),\n",
       " ('.', '.')]"
      ]
     },
     "execution_count": 76,
     "metadata": {},
     "output_type": "execute_result"
    }
   ],
   "source": [
    "nltk.pos_tag(tokens)"
   ]
  },
  {
   "cell_type": "code",
   "execution_count": 82,
   "metadata": {},
   "outputs": [
    {
     "name": "stdout",
     "output_type": "stream",
     "text": [
      "I\n",
      "PRP\n",
      "\n",
      "feel\n",
      "VBP\n",
      "\n",
      "so\n",
      "RB\n",
      "\n",
      "sad\n",
      "JJ\n",
      "\n",
      "every\n",
      "DT\n",
      "\n",
      "night\n",
      "NN\n",
      "\n",
      ".\n",
      ".\n",
      "\n",
      "Someone\n",
      "NNP\n",
      "\n",
      "please\n",
      "NN\n",
      "\n",
      "kill\n",
      "VB\n",
      "\n",
      "me\n",
      "PRP\n",
      "\n",
      "already\n",
      "RB\n",
      "\n",
      ".\n",
      ".\n",
      "\n",
      "Based\n",
      "VBN\n",
      "\n",
      "on\n",
      "IN\n",
      "\n",
      "the\n",
      "DT\n",
      "\n",
      "basing\n",
      "NN\n",
      "\n",
      "of\n",
      "IN\n",
      "\n",
      "easy\n",
      "JJ\n",
      "\n",
      "death\n",
      "NN\n",
      "\n",
      ".\n",
      ".\n",
      "\n"
     ]
    }
   ],
   "source": [
    "for word in nltk.pos_tag(tokens):\n",
    "    print(word[0])\n",
    "    print(word[1])\n",
    "    print()"
   ]
  },
  {
   "cell_type": "markdown",
   "metadata": {},
   "source": [
    "Table 2.1:\n",
    "\n",
    "Universal Part-of-Speech Tagset\n",
    "\n",
    "<table>\n",
    "<pre>\n",
    "Tag\tMeaning\tEnglish Examples\n",
    "ADJ\tadjective\tnew, good, high, special, big, local\n",
    "ADP\tadposition\ton, of, at, with, by, into, under\n",
    "ADV\tadverb\treally, already, still, early, now\n",
    "CONJ\tconjunction\tand, or, but, if, while, although\n",
    "DET\tdeterminer, article\tthe, a, some, most, every, no, which\n",
    "NOUN\tnoun\tyear, home, costs, time, Africa\n",
    "NUM\tnumeral\ttwenty-four, fourth, 1991, 14:24\n",
    "PRT\tparticle\tat, on, out, over per, that, up, with\n",
    "PRON\tpronoun\the, their, her, its, my, I, us\n",
    "VERB\tverb\tis, say, told, given, playing, would\n",
    ".\tpunctuation marks\t. , ; !\n",
    "X\tother\tersatz, esprit, dunno, gr8, univeristy\n",
    "</pre>\n",
    "</table>"
   ]
  },
  {
   "cell_type": "code",
   "execution_count": null,
   "metadata": {
    "collapsed": true
   },
   "outputs": [],
   "source": []
  },
  {
   "cell_type": "code",
   "execution_count": 84,
   "metadata": {},
   "outputs": [],
   "source": [
    "sentence_2 = nltk.pos_tag(tokens)"
   ]
  },
  {
   "cell_type": "code",
   "execution_count": 2,
   "metadata": {},
   "outputs": [
    {
     "name": "stdout",
     "output_type": "stream",
     "text": [
      "hdfgdf\n"
     ]
    }
   ],
   "source": [
    "a = raw_input('h')"
   ]
  },
  {
   "cell_type": "code",
   "execution_count": null,
   "metadata": {},
   "outputs": [],
   "source": [
    "import s"
   ]
  }
 ],
 "metadata": {
  "kernelspec": {
   "display_name": "Python 3",
   "language": "python",
   "name": "python3"
  },
  "language_info": {
   "codemirror_mode": {
    "name": "ipython",
    "version": 2
   },
   "file_extension": ".py",
   "mimetype": "text/x-python",
   "name": "python",
   "nbconvert_exporter": "python",
   "pygments_lexer": "ipython2",
   "version": "2.7.12"
  }
 },
 "nbformat": 4,
 "nbformat_minor": 2
}
