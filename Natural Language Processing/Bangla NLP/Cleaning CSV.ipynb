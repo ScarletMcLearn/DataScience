{
 "cells": [
  {
   "cell_type": "code",
   "execution_count": 27,
   "metadata": {},
   "outputs": [],
   "source": [
    "isascii = lambda s: len(s) == len(s.encode())"
   ]
  },
  {
   "cell_type": "code",
   "execution_count": 29,
   "metadata": {},
   "outputs": [
    {
     "name": "stdout",
     "output_type": "stream",
     "text": [
      "['abnormal', 'অস্বাভাবিক']\n",
      "Custom: abnormal, অস্বাভাবিক\n",
      "['abolish', 'উঠান']\n",
      "Custom: abolish, উঠান\n",
      "['abominable', 'জঘন্য']\n",
      "Custom: abominable, জঘন্য\n",
      "['abominably', 'জঘন্য পাপাচারণ']\n",
      "Custom: abominably, জঘন্য পাপাচারণ\n",
      "['abominate', 'ঘৃণায় পরিহার করা']\n",
      "Custom: abominate, ঘৃণায় পরিহার করা\n",
      "['abomination', 'কদর্যতা']\n",
      "Custom: abomination, কদর্যতা\n",
      "['abort', 'গর্ভপাত করান']\n",
      "Custom: abort, গর্ভপাত করান\n",
      "['aborted', 'বন্ধ্যা-করা']\n",
      "Custom: aborted, বন্ধ্যা-করা\n",
      "['aborts', 'aborts']\n",
      "Custom: aborts, aborts\n",
      "['abrade', 'ঘষা']\n",
      "Custom: abrade, ঘষা\n"
     ]
    }
   ],
   "source": [
    "import csv\n",
    "\n",
    "with open('Bangla Senti Corpus - Neg Word.csv', 'r') as csv_file:\n",
    "    csv_reader = csv.reader(csv_file)\n",
    "    \n",
    "    i = 0\n",
    "    \n",
    "    with open('cleaned_bang_neg.csv', 'w') as new_file:\n",
    "        csv_writer = csv.writer(new_file)\n",
    "\n",
    "        for row in csv_reader:\n",
    "            print(row)\n",
    "\n",
    "            print('Custom: ' + row[0] + ', ' + row[1])\n",
    "\n",
    "    #         print(type(row[1]))\n",
    "            if not isascii(row[1]):\n",
    "                csv_writer.writerow(row)\n",
    "\n",
    "\n",
    "            i = i + 1\n",
    "\n",
    "            if (i == 10):\n",
    "                break"
   ]
  },
  {
   "cell_type": "code",
   "execution_count": 31,
   "metadata": {},
   "outputs": [
    {
     "name": "stdout",
     "output_type": "stream",
     "text": [
      "Done!\n"
     ]
    }
   ],
   "source": [
    "import csv\n",
    "\n",
    "with open('Bangla Senti Corpus - Pos Word.csv', 'r') as csv_file:\n",
    "    csv_reader = csv.reader(csv_file)\n",
    "    \n",
    "#     i = 0\n",
    "    \n",
    "    with open('cleaned_bang_pos.csv', 'w') as new_file:\n",
    "        csv_writer = csv.writer(new_file)\n",
    "\n",
    "        for row in csv_reader:\n",
    "#             print(row)\n",
    "\n",
    "#             print('Custom: ' + row[0] + ', ' + row[1])\n",
    "\n",
    "    #         print(type(row[1]))\n",
    "            if not isascii(row[1]):\n",
    "                csv_writer.writerow(row)\n",
    "\n",
    "\n",
    "#             i = i + 1\n",
    "\n",
    "#             if (i == 10):\n",
    "#                 break\n",
    "\n",
    "print('Done!')"
   ]
  },
  {
   "cell_type": "code",
   "execution_count": 25,
   "metadata": {},
   "outputs": [
    {
     "name": "stdout",
     "output_type": "stream",
     "text": [
      "True\n",
      "False\n"
     ]
    }
   ],
   "source": [
    "mystring = 'test'\n",
    "\n",
    "mystring2 = 'ঘষা'\n",
    "\n",
    "isascii = lambda s: len(s) == len(s.encode())\n",
    "\n",
    "print(isascii(mystring))\n",
    "print(isascii(mystring2))"
   ]
  },
  {
   "cell_type": "code",
   "execution_count": null,
   "metadata": {},
   "outputs": [],
   "source": []
  }
 ],
 "metadata": {
  "kernelspec": {
   "display_name": "Python 3",
   "language": "python",
   "name": "python3"
  },
  "language_info": {
   "codemirror_mode": {
    "name": "ipython",
    "version": 3
   },
   "file_extension": ".py",
   "mimetype": "text/x-python",
   "name": "python",
   "nbconvert_exporter": "python",
   "pygments_lexer": "ipython3",
   "version": "3.6.6"
  }
 },
 "nbformat": 4,
 "nbformat_minor": 2
}
