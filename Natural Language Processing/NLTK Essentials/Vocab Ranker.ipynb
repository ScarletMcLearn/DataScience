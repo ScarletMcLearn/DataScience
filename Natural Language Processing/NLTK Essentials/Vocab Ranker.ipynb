{
 "cells": [
  {
   "cell_type": "code",
   "execution_count": 20,
   "metadata": {},
   "outputs": [
    {
     "name": "stdout",
     "output_type": "stream",
     "text": [
      "Starting with Positives. \n",
      "\n",
      "\n",
      "Word #0:  able \n",
      "\n",
      "Rank: \n",
      "Neutral - 0, \n",
      "Positive - 1, \n",
      "Very Positive - 2, \n",
      "Exteremely Positive - 3, \n",
      "Negative - -1, \n",
      "Very Negative - -2, \n",
      "Extremely Negative - -3\n",
      "3\n",
      "\n",
      "Word #1:  accept \n",
      "\n",
      "Rank: \n",
      "Neutral - 0, \n",
      "Positive - 1, \n",
      "Very Positive - 2, \n",
      "Exteremely Positive - 3, \n",
      "Negative - -1, \n",
      "Very Negative - -2, \n",
      "Extremely Negative - -3\n",
      "4\n",
      "\n",
      "Word #2:  acceptance \n",
      "\n",
      "Rank: \n",
      "Neutral - 0, \n",
      "Positive - 1, \n",
      "Very Positive - 2, \n",
      "Exteremely Positive - 3, \n",
      "Negative - -1, \n",
      "Very Negative - -2, \n",
      "Extremely Negative - -3\n",
      "2\n"
     ]
    }
   ],
   "source": [
    "import pickle\n",
    "\n",
    "pos = pickle.load(open('pos_word_list.pkl', 'rb'))\n",
    "\n",
    "neg = pickle.load(open('neg_word_list.pkl', 'rb'))\n",
    "\n",
    "pos_dict = []\n",
    "neg_dict = []\n",
    "\n",
    "\n",
    "print(\"Negatives with Positives. \")\n",
    "print()\n",
    "\n",
    "for _ in range(len(neg)):\n",
    "#     tmp = []\n",
    "    print(\"\\nWord #\"+str(_)+\" of \"+ str(len(neg)) + \": \", neg[_], '\\n')\n",
    "    rnk = input('Rank: \\nNeutral - 0, \\nPositive - 1, \\nVery Positive - 2, \\nExteremely Positive - 3, \\nNegative - -1, \\nVery Negative - -2, \\nExtremely Negative - -3\\n')\n",
    "    neg_dict.append([neg[_], rnk])"
   ]
  },
  {
   "cell_type": "code",
   "execution_count": 21,
   "metadata": {},
   "outputs": [
    {
     "data": {
      "text/plain": [
       "[['able', '3'], ['accept', '4'], ['acceptance', '2']]"
      ]
     },
     "execution_count": 21,
     "metadata": {},
     "output_type": "execute_result"
    }
   ],
   "source": [
    "pos_dict"
   ]
  },
  {
   "cell_type": "code",
   "execution_count": 8,
   "metadata": {},
   "outputs": [
    {
     "data": {
      "text/plain": [
       "1563"
      ]
     },
     "execution_count": 8,
     "metadata": {},
     "output_type": "execute_result"
    }
   ],
   "source": []
  },
  {
   "cell_type": "code",
   "execution_count": 22,
   "metadata": {},
   "outputs": [],
   "source": [
    "with open('pos_dict.pkl', 'wb') as f:\n",
    "   pickle.dump(pos_dict, f)"
   ]
  },
  {
   "cell_type": "code",
   "execution_count": 23,
   "metadata": {},
   "outputs": [],
   "source": [
    "pos_dict = pickle.load(open('tst.pkl', 'rb'))"
   ]
  },
  {
   "cell_type": "code",
   "execution_count": 24,
   "metadata": {},
   "outputs": [
    {
     "data": {
      "text/plain": [
       "[['able', '3'], ['accept', '4'], ['acceptance', '2']]"
      ]
     },
     "execution_count": 24,
     "metadata": {},
     "output_type": "execute_result"
    }
   ],
   "source": [
    "pos_dict"
   ]
  },
  {
   "cell_type": "code",
   "execution_count": null,
   "metadata": {},
   "outputs": [],
   "source": []
  }
 ],
 "metadata": {
  "kernelspec": {
   "display_name": "Python 3",
   "language": "python",
   "name": "python3"
  },
  "language_info": {
   "codemirror_mode": {
    "name": "ipython",
    "version": 3
   },
   "file_extension": ".py",
   "mimetype": "text/x-python",
   "name": "python",
   "nbconvert_exporter": "python",
   "pygments_lexer": "ipython3",
   "version": "3.5.2"
  }
 },
 "nbformat": 4,
 "nbformat_minor": 2
}
