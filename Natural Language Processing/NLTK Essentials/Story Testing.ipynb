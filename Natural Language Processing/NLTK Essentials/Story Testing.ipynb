{
 "cells": [
  {
   "cell_type": "code",
   "execution_count": 1,
   "metadata": {},
   "outputs": [],
   "source": [
    "import pickle"
   ]
  },
  {
   "cell_type": "code",
   "execution_count": 2,
   "metadata": {},
   "outputs": [],
   "source": [
    "docs = pickle.load( open( \"story_list.pkl\", \"rb\" ) )"
   ]
  },
  {
   "cell_type": "code",
   "execution_count": 3,
   "metadata": {},
   "outputs": [
    {
     "data": {
      "text/plain": [
       "17"
      ]
     },
     "execution_count": 3,
     "metadata": {},
     "output_type": "execute_result"
    }
   ],
   "source": [
    "len(docs)"
   ]
  },
  {
   "cell_type": "code",
   "execution_count": null,
   "metadata": {},
   "outputs": [],
   "source": []
  },
  {
   "cell_type": "code",
   "execution_count": 4,
   "metadata": {},
   "outputs": [
    {
     "data": {
      "text/plain": [
       "'fourth time many years confronted problem birthday present take young man incurably deranged mind desires man-made objects either hives evil vibrant malignant activity alone perceive gross comforts use found abstract world eliminating number articles might offend frighten gadget instance taboo parents chose dainty innocent basket ten different fruit jellies ten little time birth already married long time score years elapsed quite old drab gray hair pinned carelessly wore cheap black dresses unlike women age mrs. sol neighbor face pink mauve paint hat cluster flowers presented naked white countenance faultfinding light spring husband old country fairly successful businessman york wholly dependent brother isaac real american almost forty standing seldom saw isaac nicknamed friday birthday went wrong subway train lost life current two stations quarter hour hear nothing dutiful beating hearts rustling newspapers bus take next late kept waiting long time street corner come crammed garrulous children began rain walked brown path leading sanitarium waited instead boy shuffling room usually poor face sullen confused blotched acne nurse knew care appeared last brightly explained attempted take life right said visit parents might disturb place miserably understaffed things got mislaid mixed easily decided leave present office bring next time building waited husband open umbrella took arm kept clearing throat always upset reached shelter side street closed umbrella feet away swaying dripping tree tiny unfledged bird helplessly twitching long ride subway station husband exchange every time glanced old hands clasped twitching handle umbrella saw swollen veins skin felt mounting pressure tears looked around trying hook mind gave kind soft shock mixture compassion wonder notice one girl dark hair grubby red weeping shoulder older woman woman resemble resembled rebecca daughter married one minsk years last time boy tried method words masterpiece inventiveness succeeded envious thought learning fly stopped time really wanted tear hole world system delusions subject elaborate paper scientific monthly doctor sanitarium given read long husband puzzled mania article called rare cases patient imagines happening around veiled reference personality existence excludes real people conspiracy considers much intelligent men phenomenal nature shadows wherever goes clouds staring sky transmit means slow signs incredibly detailed information regarding thoughts discussed nightfall manual alphabet darkly gesticulating trees pebbles stains sun flecks form patterns representing awful way messages must intercept cipher theme around spies detached observers like glass surfaces still pools coats store windows prejudiced witnesses heart running water storms hysterical point insanity distorted opinion grotesquely misinterpret actions must always guard devote every minute module life decoding undulation things air exhales indexed filed away interest provokes limited immediate surroundings alas distance torrents wild scandal increase volume volubility silhouettes blood corpuscles magnified million flit vast plains still farther away great mountains unbearable solidity sum terms granite groaning firs ultimate truth emerged thunder foul air subway last dregs day mixed street lights wanted buy fish supper handed basket jelly jars telling go home accordingly returned tenement house walked third landing remembered given keys earlier truth era silence sat steps silence rose ten minutes later came trudging heavily stairs smiling wanly shaking head deprecation silliness entered flat went mirror straining corners mouth apart means thumbs horrible grimace removed hopelessly uncomfortable dental plate read newspaper laid table still reading ate pale victuals needed teeth knew moods also gone bed remained living room pack soiled playing cards old photograph albums across narrow courtyard rain tinkled dark ash cans windows blandly alight one man hands clasped head elbows raised seen lying supine untidy bed pulled blind examined photographs baby looked surprised babies photograph german maid leipzig fell fold album turned pages book minsk revolution leipzig berlin leipzig slanting house front badly focus boy four years old park shyly puckered forehead looking away eager squirrel stranger aunt rosa fussy angular wild-eyed old lady lived tremulous world bad news bankruptcies train accidents cancerous growths germans put death together people worried boy aged drew wonderful birds human hands feet suffered insomnia like man cousin famous chess player boy aged eight already hard understand afraid wallpaper passage afraid certain picture book merely showed idyllic landscape rocks hillside old cart wheel hanging one branch leafless tree year left europe remembered shame pity humiliating difficulties journey ugly vicious backward children special school placed arrived america came time life coinciding long convalescence pneumonia little phobias parents stubbornly regarded eccentricities prodigiously gifted child hardened dense tangle logically interacting illusions making totally inaccessible much accepted living mean accepting loss one joy another even joys case mere possibilities improvement thought recurrent waves pain reason husband endure visible giants hurting boy unimaginable fashion incalculable amount tenderness contained world fate tenderness either crushed wasted transformed madness neglected children humming unswept corners beautiful weeds hide nearly midnight living room heard husband moan presently staggered wearing nightgown old overcoat astrakhan collar much preferred nice blue sleep sleep asked sleep dying said lay stomach want call dr. doctors doctors moaned devil doctors must get quick otherwise responsible responsible hurled sitting position feet floor thumping forehead clenched right said quietly bring home tomorrow like tea said husband went difficulty retrieved playing cards photograph two slipped knave hearts nine spades ace spades maid bestial beau returned high spirits saying loud voice figured give bedroom us spend part night near part couch doctor see least twice week matter prince says much say anyway come telephone rang unusual hour ring stood middle room groping foot one slipper come childishly gaped wife knew english always attended speak dull little voice said number want wrong put receiver gently hand went heart frightened smiled quick smile immediately resumed excited monologue fetch soon day protection keep knives locked drawer even worst presented danger telephone rang second toneless anxious young voice asked incorrect number tell turning instead hung sat unexpected festive midnight tea sipped noisily face flushed every raised glass circular motion make sugar dissolve thoroughly vein side bald head stood conspicuously silvery bristles showed chin birthday present stood table poured another glass tea put spectacles pleasure luminous yellow green red little jars clumsy moist lips spelled eloquent grape beach plum quince got crab telephone rang'"
      ]
     },
     "execution_count": 4,
     "metadata": {},
     "output_type": "execute_result"
    }
   ],
   "source": [
    "docs[1]"
   ]
  },
  {
   "cell_type": "code",
   "execution_count": 6,
   "metadata": {},
   "outputs": [],
   "source": [
    "pos = pickle.load(open('pos_word_list.pkl', 'rb'))"
   ]
  },
  {
   "cell_type": "code",
   "execution_count": 101,
   "metadata": {},
   "outputs": [],
   "source": [
    "# pos"
   ]
  },
  {
   "cell_type": "code",
   "execution_count": 8,
   "metadata": {},
   "outputs": [],
   "source": [
    "neg = pickle.load(open('neg_word_list.pkl', 'rb'))"
   ]
  },
  {
   "cell_type": "code",
   "execution_count": 9,
   "metadata": {},
   "outputs": [],
   "source": [
    "pos_neg = pickle.load(open('pos_neg_word_list.pkl', 'rb'))"
   ]
  },
  {
   "cell_type": "code",
   "execution_count": 10,
   "metadata": {},
   "outputs": [
    {
     "data": {
      "text/plain": [
       "True"
      ]
     },
     "execution_count": 10,
     "metadata": {},
     "output_type": "execute_result"
    }
   ],
   "source": [
    "len(pos) + len(neg) == len(pos_neg)"
   ]
  },
  {
   "cell_type": "code",
   "execution_count": 13,
   "metadata": {},
   "outputs": [
    {
     "data": {
      "text/plain": [
       "6118"
      ]
     },
     "execution_count": 13,
     "metadata": {},
     "output_type": "execute_result"
    }
   ],
   "source": [
    "len(pos) + len(neg)"
   ]
  },
  {
   "cell_type": "code",
   "execution_count": 14,
   "metadata": {},
   "outputs": [],
   "source": [
    "pos_neg = None"
   ]
  },
  {
   "cell_type": "code",
   "execution_count": 17,
   "metadata": {},
   "outputs": [
    {
     "name": "stdout",
     "output_type": "stream",
     "text": [
      "Positives: 91\n",
      "Negatives: 99\n"
     ]
    }
   ],
   "source": [
    "neg_occ = 0\n",
    "pos_occ = 0\n",
    "\n",
    "pos_f = []\n",
    "neg_f = []\n",
    "\n",
    "for _ in (docs[1].split()):\n",
    "    if _ in pos:\n",
    "        pos_occ = pos_occ + 1\n",
    "        pos_f.append(_)\n",
    "        \n",
    "    elif _ in neg:\n",
    "        neg_occ = neg_occ + 1\n",
    "        neg_f.append(_)\n",
    "        \n",
    "print(\"Positives: \" + str(pos_occ))\n",
    "print(\"Negatives: \" + str(neg_occ))"
   ]
  },
  {
   "cell_type": "code",
   "execution_count": 19,
   "metadata": {},
   "outputs": [
    {
     "name": "stdout",
     "output_type": "stream",
     "text": [
      "['time', 'many', 'present', 'take', 'young', 'mind', 'vibrant', 'innocent', 'time', 'time', 'light', 'real', 'life', 'take', 'time', 'leading', 'take', 'life', 'things', 'easily', 'present', 'time', 'open', 'shelter', 'time', 'mind', 'kind', 'compassion', 'wonder', 'time', 'words', 'inventiveness', 'learning', 'time', 'real', 'intelligent', 'thoughts', 'still', 'heart', 'water', 'life', 'things', 'air', 'interest', 'still', 'great', 'ultimate', 'truth', 'air', 'go', 'truth', 'steps', 'smiling', 'still', 'living', 'seen', 'surprised', 'focus', 'eager', 'wonderful', 'human', 'famous', 'understand', 'certain', 'special', 'time', 'life', 'making', 'accepted', 'living', 'accepting', 'joy', 'improvement', 'reason', 'beautiful', 'living', 'nice', 'sleep', 'sleep', 'sleep', 'give', 'part', 'part', 'matter', 'heart', 'smile', 'excited', 'young', 'festive', 'present', 'pleasure']\n"
     ]
    }
   ],
   "source": [
    "print(pos_f)"
   ]
  },
  {
   "cell_type": "code",
   "execution_count": 20,
   "metadata": {},
   "outputs": [
    {
     "name": "stdout",
     "output_type": "stream",
     "text": [
      "['problem', 'evil', 'malignant', 'gross', 'offend', 'frighten', 'taboo', 'drab', 'cheap', 'wrong', 'lost', 'poor', 'sullen', 'confused', 'disturb', 'miserably', 'upset', 'dripping', 'tiny', 'helplessly', 'swollen', 'shock', 'dark', 'envious', 'delusions', 'puzzled', 'mania', 'conspiracy', 'slow', 'stains', 'awful', 'hysterical', 'insanity', 'distorted', 'misinterpret', 'limited', 'wild', 'scandal', 'unbearable', 'foul', 'straining', 'horrible', 'grimace', 'hopelessly', 'uncomfortable', 'pale', 'dark', 'blind', 'fell', 'badly', 'stranger', 'fussy', 'bad', 'cancerous', 'death', 'worried', 'suffered', 'hard', 'afraid', 'afraid', 'shame', 'pity', 'humiliating', 'difficulties', 'ugly', 'vicious', 'backward', 'stubbornly', 'hardened', 'dense', 'tangle', 'illusions', 'loss', 'hurting', 'unimaginable', 'tenderness', 'tenderness', 'crushed', 'wasted', 'madness', 'neglected', 'humming', 'moan', 'devil', 'difficulty', 'knave', 'bestial', 'loud', 'unusual', 'dull', 'wrong', 'worst', 'danger', 'anxious', 'incorrect', 'hung', 'unexpected', 'conspicuously', 'clumsy']\n"
     ]
    }
   ],
   "source": [
    "print(neg_f)"
   ]
  },
  {
   "cell_type": "code",
   "execution_count": 23,
   "metadata": {},
   "outputs": [
    {
     "data": {
      "text/plain": [
       "2.8852251109701967"
      ]
     },
     "execution_count": 23,
     "metadata": {},
     "output_type": "execute_result"
    }
   ],
   "source": [
    "len(pos_f)/len(docs[0].split()) * 100"
   ]
  },
  {
   "cell_type": "code",
   "execution_count": 22,
   "metadata": {},
   "outputs": [
    {
     "data": {
      "text/plain": [
       "3154"
      ]
     },
     "execution_count": 22,
     "metadata": {},
     "output_type": "execute_result"
    }
   ],
   "source": [
    "len(docs[0].split())"
   ]
  },
  {
   "cell_type": "code",
   "execution_count": 24,
   "metadata": {},
   "outputs": [
    {
     "data": {
      "text/plain": [
       "3.1388712745719722"
      ]
     },
     "execution_count": 24,
     "metadata": {},
     "output_type": "execute_result"
    }
   ],
   "source": [
    "len(neg_f)/len(docs[0].split()) * 100"
   ]
  },
  {
   "cell_type": "code",
   "execution_count": null,
   "metadata": {},
   "outputs": [],
   "source": []
  },
  {
   "cell_type": "code",
   "execution_count": 37,
   "metadata": {},
   "outputs": [],
   "source": [
    "# doc_1 = open('“Symbols and Signs” - Vladimir Nabokov.txt', 'rb')\n",
    "\n",
    "with open('“Symbols and Signs” - Vladimir Nabokov.txt', 'rb') as f:\n",
    "    doc_1 = f.readlines()"
   ]
  },
  {
   "cell_type": "code",
   "execution_count": 39,
   "metadata": {},
   "outputs": [
    {
     "name": "stdout",
     "output_type": "stream",
     "text": [
      "[b'or the fourth time in as many years, they were confronted with the problem of what birthday present to take to a young man who was incurably deranged in his mind. Desires he had none. Man-made objects were to him either hives of evil, vibrant with a malignant activity that he alone could perceive, or gross comforts for which no use could be found in his abstract world. After eliminating a number of articles that might offend him or frighten him (anything in the gadget line, for instance, was taboo), his parents chose a dainty and innocent trifle\\x97a basket with ten different fruit jellies in ten little jars.\\r\\n', b'\\r\\n', b'At the time of his birth, they had already been married for a long time; a score of years had elapsed, and now they were quite old. Her drab gray hair was pinned up carelessly. She wore cheap black dresses. Unlike other women of her age (such as Mrs. Sol, their next-door neighbor, whose face was all pink and mauve with paint and whose hat was a cluster of brookside flowers), she presented a naked white countenance to the faultfinding light of spring. Her husband, who in the old country had been a fairly successful businessman, was now, in New York, wholly dependent on his brother Isaac, a real American of almost forty years\\x92 standing. They seldom saw Isaac and had nicknamed him the Prince.\\r\\n', b'\\r\\n', b'That Friday, their son\\x92s birthday, everything went wrong. The subway train lost its life current between two stations and for a quarter of an hour they could hear nothing but the dutiful beating of their hearts and the rustling of newspapers. The bus they had to take next was late and kept them waiting a long time on a street corner, and when it did come, it was crammed with garrulous high-school children. It began to rain as they walked up the brown path leading to the sanitarium. There they waited again, and instead of their boy, shuffling into the room, as he usually did (his poor face sullen, confused, ill-shaven, and blotched with acne), a nurse they knew and did not care for appeared at last and brightly explained that he had again attempted to take his life. He was all right, she said, but a visit from his parents might disturb him. The place was so miserably understaffed, and things got mislaid or mixed up so easily, that they decided not to leave their present in the office but to bring it to him next time they came.\\r\\n', b'\\r\\n', b'Outside the building, she waited for her husband to open his umbrella and then took his arm. He kept clearing his throat, as he always did when he was upset. They reached the bus-stop shelter on the other side of the street and he closed his umbrella. A few feet away, under a swaying and dripping tree, a tiny unfledged bird was helplessly twitching in a puddle.\\r\\n', b'\\r\\n', b'During the long ride to the subway station, she and her husband did not exchange a word, and every time she glanced at his old hands, clasped and twitching upon the handle of his umbrella, and saw their swollen veins and brown-spotted skin, she felt the mounting pressure of tears. As she looked around, trying to hook her mind onto something, it gave her a kind of soft shock, a mixture of compassion and wonder, to notice that one of the passengers\\x97a girl with dark hair and grubby red toenails\\x97was weeping on the shoulder of an older woman. Whom did that woman resemble? She resembled Rebecca Borisovna, whose daughter had married one of the Soloveichiks\\x97in Minsk, years ago.\\r\\n', b'\\r\\n', b'The last time the boy had tried to do it, his method had been, in the doctor\\x92s words, a masterpiece of inventiveness; he would have succeeded had not an envious fellow-patient thought he was learning to fly and stopped him just in time. What he had really wanted to do was to tear a hole in his world and escape.\\r\\n', b'\\r\\n', b'The system of his delusions had been the subject of an elaborate paper in a scientific monthly, which the doctor at the sanitarium had given to them to read. But long before that, she and her husband had puzzled it out for themselves. \\x93Referential mania,\\x94 the article had called it. In these very rare cases, the patient imagines that everything happening around him is a veiled reference to his personality and existence. He excludes real people from the conspiracy, because he considers himself to be so much more intelligent than other men. Phenomenal nature shadows him wherever he goes. Clouds in the staring sky transmit to each other, by means of slow signs, incredibly detailed information regarding him. His in- most thoughts are discussed at nightfall, in manual alphabet, by darkly gesticulating trees. Pebbles or stains or sun flecks form patterns representing, in some awful way, messages that he must intercept. Everything is a cipher and of everything he is the theme. All around him, there are spies. Some of them are detached observers, like glass surfaces and still pools; others, such as coats in store windows, are prejudiced witnesses, lynchers at heart; others, again (running water, storms), are hysterical to the point of insanity, have a distorted opinion of him, and grotesquely misinterpret his actions. He must be always on his guard and devote every minute and module of life to the decoding of the undulation of things. The very air he exhales is indexed and filed away. If only the interest he provokes were limited to his immediate surroundings, but, alas, it is not! With distance, the torrents of wild scandal increase in volume and volubility. The silhouettes of his blood corpuscles, magnified a million times, flit over vast plains; and still farther away, great mountains of unbearable solidity and height sum up, in terms of granite and groaning firs, the ultimate truth of his being.\\r\\n', b'\\r\\n', b'When they emerged from the thunder and foul air of the subway, the last dregs of the day were mixed with the street lights. She wanted to buy some fish for supper, so she handed him the basket of jelly jars, telling him to go home. Accordingly, he returned to their tenement house, walked up to the third landing, and then remembered he had given her his keys earlier in the day.\\r\\n', b'\\r\\n', b'VIDEO FROM THE NEW YORKER\\r\\n', b'Lies and Truth in the Era of Trump\\r\\n', b'\\r\\n', b'In silence he sat down on the steps and in silence rose when, some ten minutes later, she came trudging heavily up the stairs, smiling wanly and shaking her head in deprecation of her silliness. They entered their two-room flat and he at once went to the mirror. Straining the corners of his mouth apart by means of his thumbs, with a horrible, mask-like grimace, he removed his new, hopelessly uncomfortable dental plate. He read his Russian-language newspaper while she laid the table. Still reading, he ate the pale victuals that needed no teeth. She knew his moods and was also silent.\\r\\n', b'\\r\\n', b'When he had gone to bed, she remained in the living room with her pack of soiled playing cards and her old photograph albums. Across the narrow courtyard, where the rain tinkled in the dark against some ash cans, windows were blandly alight, and in one of them a black-trousered man, with his hands clasped under his head and his elbows raised, could he seen lying supine on an untidy bed. She pulled the blind down and examined the photographs. As a baby, he looked more surprised than most babies. A photograph of a German maid they had had in Leipzig and her fat-faced fianc\\xe9 fell out of a fold of the album. She turned the pages of the book: Minsk, the Revolution, Leipzig, Berlin, Leipzig again, a slanting house front, badly out of focus. Here was the boy when he was four years old, in a park, shyly, with puckered forehead, looking away from an eager squirrel, as he would have from any other stranger. Here was Aunt Rosa, a fussy, angular, wild-eyed old lady, who had lived in a tremulous world of bad news, bankruptcies, train accidents, and cancerous growths until the Germans put her to death, together with all the people she had worried about. The boy, aged six\\x97that was when he drew wonderful birds with human hands and feet, and suffered from insomnia like a grown-up man. His cousin, now a famous chess player. The boy again, aged about eight, already hard to understand, afraid of the wallpaper in the passage, afraid of a certain picture in a book, which merely showed an idyllic landscape with rocks on a hillside and an old cart wheel hanging from the one branch of a leafless tree. Here he was at ten\\x97the year they left Europe. She remembered the shame, the pity, the humiliating difficulties of the journey, and the ugly, vicious, backward children he was with in the special school where he had been placed after they arrived in America. And then came a time in his life, coinciding with a long convalescence after pneumonia, when those little phobias of his, which his parents had stubbornly regarded as the eccentricities of a prodigiously gifted child, hardened, as it were, into a dense tangle of logically interacting illusions, making them totally inaccessible to normal minds.\\r\\n', b'\\r\\n', b'All this, and much more, she had accepted, for, after all, living does mean accepting the loss of one joy after another, not even joys in her case, mere possibilities of improvement. She thought of the recurrent waves of pain that for some reason or other she and her husband had had to endure; of the in visible giants hurting her boy in some unimaginable fashion; of the incalculable amount of tenderness contained in the world; of the fate of this tenderness, which is either crushed or wasted, or transformed into madness; of neglected children humming to themselves in unswept corners; of beautiful weeds that cannot hide from the farmer.\\r\\n', b'\\r\\n', b'It was nearly midnight when, from the living room, she heard her husband moan, and presently he staggered in, wearing over his nightgown the old overcoat with the astrakhan collar that he much preferred to his nice blue bathrobe.\\r\\n', b'\\r\\n', b'\\x93I can\\x92t sleep!\\x94 he cried.\\r\\n', b'\\r\\n', b'\\x93Why can\\x92t you sleep?\\x94 she asked. \\x93You were so tired.\\x94\\r\\n', b'\\r\\n', b'\\x93I can\\x92t sleep because I am dying,\\x94 he said, and lay down on the couch.\\r\\n', b'\\r\\n', b'\\x93Is it your stomach? Do you want me to call Dr. Solov?\\x94\\r\\n', b'\\r\\n', b'\\x93No doctors, no doctors,\\x94 he moaned. \\x93To the devil with doctors! We must get him out of there quick. Otherwise, we\\x92ll be responsible.... Responsible!\\x94 He hurled himself into a sitting position, both feet on the floor, thumping his forehead with his clenched fist.\\r\\n', b'\\r\\n', b'\\x93All right,\\x94 she said quietly. \\x93We will bring him home tomorrow morning.\\x94\\r\\n', b'\\r\\n', b'\\x93I would like some tea,\\x94 said her husband and went out to the bathroom.\\r\\n', b'\\r\\n', b'Bending with difficulty, she retrieved some playing cards and a photograph or two that had slipped to the floor\\x97the knave of hearts, the nine of spades, the ace of spades, the maid Elsa and her bestial beau. He returned in high spirits, saying in a loud voice, \\x93I have it all figured out. We will give him the bedroom. Each of us will spend part of the night near him and the other part on this couch. We will have the doctor see him at least twice a week. It does not matter what the Prince says. He won\\x92t have much to say anyway, because it will come out cheaper.\\x94\\r\\n', b'\\r\\n', b'The telephone rang. It was an unusual hour for it to ring. He stood in the middle of the room, groping with his foot for one slipper that had come off, and childishly, toothlessly, gaped at his wife. Since she knew more English than he, she always attended to the calls.\\r\\n', b'\\r\\n', b'\\x94Can I speak to Charlie?\\x94 a girl\\x92s dull little voice said to her now.\\r\\n', b'\\r\\n', b'\\x93What number do you want? . . . No. You have the wrong number.\\x94\\r\\n', b'\\r\\n', b'She put the receiver down gently and her hand went to her heart. \\x93It frightened me,\\x94 she said.\\r\\n', b'\\r\\n', b'He smiled a quick smile and immediately resumed his excited monologue. They would fetch him as soon as it was day. For his own protection, they would keep all the knives in a locked drawer. Even at his worst, he presented no danger to other people.\\r\\n', b'\\r\\n', b'The telephone rang a second time.\\r\\n', b'\\r\\n', b'The same toneless, anxious young voice asked for Charlie.\\r\\n', b'\\r\\n', b'\\x93You have the incorrect number. I will tell you what you are doing. You are turning the letter \\x91o\\x92 instead of the zero.\\x94 She hung up again.\\r\\n', b'\\r\\n', b'They sat down to their unexpected, festive midnight tea. He sipped noisily; his face was flushed; every now and then he raised his glass with a circular motion, so as to make the sugar dissolve more thoroughly. The vein on the side of his bald head stood out conspicuously, and silvery bristles showed on his chin. The birthday present stood on the table. While she poured him another glass of tea, he put on his spectacles and re\\xebxamined with pleasure the luminous yellow, green, and red little jars. His clumsy, moist lips spelled out their eloquent labels\\x97apricot, grape, beach plum, quince. He had got to crab apple when the telephone rang again. ?\\r\\n', b'\\r\\n']\n"
     ]
    }
   ],
   "source": [
    "print(doc_1)"
   ]
  },
  {
   "cell_type": "code",
   "execution_count": 33,
   "metadata": {},
   "outputs": [],
   "source": [
    "from nltk.tokenize import sent_tokenize \n",
    "from nltk.corpus import wordnet"
   ]
  },
  {
   "cell_type": "code",
   "execution_count": 73,
   "metadata": {},
   "outputs": [],
   "source": [
    "from nltk.corpus import stopwords\n",
    "\n",
    "stopset = set(stopwords.words('english'))\n",
    "\n",
    "stopset.update(['lt','p','/p','br','amp','quot','field','font','normal','span','0px','rgb','style','51', \n",
    "                'spacing','text','helvetica','size','family', 'space', 'arial', 'height', 'indent', 'letter'\n",
    "                'line','none','sans','serif','transform','line','variant','weight','times', 'new','strong', 'video', 'title'\n",
    "                'white','word','letter', 'roman','0pt','16','color','12','14','21', 'neue', 'apple', 'class',  ])"
   ]
  },
  {
   "cell_type": "code",
   "execution_count": 49,
   "metadata": {},
   "outputs": [],
   "source": [
    "doc_1 = list(doc_1)"
   ]
  },
  {
   "cell_type": "code",
   "execution_count": 61,
   "metadata": {},
   "outputs": [
    {
     "data": {
      "text/plain": [
       "str"
      ]
     },
     "execution_count": 61,
     "metadata": {},
     "output_type": "execute_result"
    }
   ],
   "source": [
    "type(str(doc_1[0]))"
   ]
  },
  {
   "cell_type": "code",
   "execution_count": 67,
   "metadata": {},
   "outputs": [],
   "source": [
    "sent_doc_1 = sent_tokenize(str(doc_1).replace('[', '').replace(']', ''))"
   ]
  },
  {
   "cell_type": "code",
   "execution_count": 68,
   "metadata": {},
   "outputs": [
    {
     "data": {
      "text/plain": [
       "\"b'or the fourth time in as many years, they were confronted with the problem of what birthday present to take to a young man who was incurably deranged in his mind.\""
      ]
     },
     "execution_count": 68,
     "metadata": {},
     "output_type": "execute_result"
    }
   ],
   "source": [
    "sent_doc_1[0]"
   ]
  },
  {
   "cell_type": "code",
   "execution_count": 97,
   "metadata": {},
   "outputs": [],
   "source": [
    "filtered_sent_doc_1 = []\n",
    "\n",
    "for sent in sent_doc_1:\n",
    "    tmp = []\n",
    "\n",
    "    for _ in sent.split():\n",
    "\n",
    "\n",
    "        if not _ in stopset and wordnet.synsets(_):\n",
    "            tmp.append(_)\n",
    "    #         print(_)\n",
    "\n",
    "    filtered_sent_doc_1.append(tmp)\n",
    "    #     print('W: ', _, end='\\n\\n')"
   ]
  },
  {
   "cell_type": "code",
   "execution_count": 98,
   "metadata": {},
   "outputs": [
    {
     "data": {
      "text/plain": [
       "[['fourth',\n",
       "  'time',\n",
       "  'many',\n",
       "  'confronted',\n",
       "  'problem',\n",
       "  'birthday',\n",
       "  'present',\n",
       "  'take',\n",
       "  'young',\n",
       "  'man',\n",
       "  'incurably',\n",
       "  'deranged'],\n",
       " ['Desires'],\n",
       " ['Man-made',\n",
       "  'objects',\n",
       "  'either',\n",
       "  'hives',\n",
       "  'vibrant',\n",
       "  'malignant',\n",
       "  'activity',\n",
       "  'alone',\n",
       "  'gross',\n",
       "  'comforts',\n",
       "  'use',\n",
       "  'found',\n",
       "  'abstract'],\n",
       " ['After',\n",
       "  'eliminating',\n",
       "  'number',\n",
       "  'articles',\n",
       "  'might',\n",
       "  'offend',\n",
       "  'frighten',\n",
       "  'gadget',\n",
       "  'parents',\n",
       "  'chose',\n",
       "  'dainty',\n",
       "  'innocent',\n",
       "  'basket',\n",
       "  'ten',\n",
       "  'different',\n",
       "  'fruit',\n",
       "  'jellies',\n",
       "  'ten',\n",
       "  'little',\n",
       "  'time',\n",
       "  'already',\n",
       "  'married',\n",
       "  'long',\n",
       "  'score',\n",
       "  'years',\n",
       "  'quite'],\n",
       " ['drab', 'gray', 'hair', 'pinned'],\n",
       " ['wore', 'cheap', 'black'],\n",
       " ['Unlike',\n",
       "  'women',\n",
       "  'age',\n",
       "  'Mrs.',\n",
       "  'face',\n",
       "  'pink',\n",
       "  'mauve',\n",
       "  'paint',\n",
       "  'hat',\n",
       "  'cluster',\n",
       "  'presented',\n",
       "  'naked',\n",
       "  'white',\n",
       "  'countenance',\n",
       "  'faultfinding',\n",
       "  'light'],\n",
       " ['old',\n",
       "  'country',\n",
       "  'fairly',\n",
       "  'successful',\n",
       "  'New',\n",
       "  'wholly',\n",
       "  'dependent',\n",
       "  'brother',\n",
       "  'real',\n",
       "  'American',\n",
       "  'almost',\n",
       "  'forty'],\n",
       " ['seldom', 'saw', 'Isaac', 'nicknamed', 'went'],\n",
       " ['subway',\n",
       "  'train',\n",
       "  'lost',\n",
       "  'life',\n",
       "  'current',\n",
       "  'two',\n",
       "  'stations',\n",
       "  'quarter',\n",
       "  'hour',\n",
       "  'hear',\n",
       "  'nothing',\n",
       "  'dutiful',\n",
       "  'beating',\n",
       "  'hearts',\n",
       "  'rustling'],\n",
       " ['bus',\n",
       "  'take',\n",
       "  'next',\n",
       "  'late',\n",
       "  'kept',\n",
       "  'waiting',\n",
       "  'long',\n",
       "  'time',\n",
       "  'street',\n",
       "  'crammed',\n",
       "  'garrulous'],\n",
       " ['It', 'began', 'rain', 'walked', 'brown', 'path', 'leading'],\n",
       " ['There',\n",
       "  'waited',\n",
       "  'instead',\n",
       "  'shuffling',\n",
       "  'usually',\n",
       "  'poor',\n",
       "  'face',\n",
       "  'blotched',\n",
       "  'nurse',\n",
       "  'knew',\n",
       "  'care',\n",
       "  'appeared',\n",
       "  'last',\n",
       "  'brightly',\n",
       "  'explained',\n",
       "  'attempted',\n",
       "  'take'],\n",
       " ['He', 'visit', 'parents', 'might', 'disturb'],\n",
       " ['place',\n",
       "  'miserably',\n",
       "  'things',\n",
       "  'got',\n",
       "  'mislaid',\n",
       "  'mixed',\n",
       "  'decided',\n",
       "  'leave',\n",
       "  'present',\n",
       "  'office',\n",
       "  'bring',\n",
       "  'next',\n",
       "  'time',\n",
       "  'waited',\n",
       "  'husband',\n",
       "  'open',\n",
       "  'umbrella',\n",
       "  'took'],\n",
       " ['He', 'kept', 'clearing', 'always'],\n",
       " ['reached', 'shelter', 'side', 'street', 'closed'],\n",
       " ['A',\n",
       "  'feet',\n",
       "  'swaying',\n",
       "  'dripping',\n",
       "  'tiny',\n",
       "  'unfledged',\n",
       "  'bird',\n",
       "  'helplessly',\n",
       "  'twitching',\n",
       "  'long',\n",
       "  'ride',\n",
       "  'subway',\n",
       "  'husband',\n",
       "  'exchange',\n",
       "  'every',\n",
       "  'time',\n",
       "  'glanced',\n",
       "  'old',\n",
       "  'clasped',\n",
       "  'twitching',\n",
       "  'handle',\n",
       "  'saw',\n",
       "  'swollen',\n",
       "  'veins',\n",
       "  'felt',\n",
       "  'mounting',\n",
       "  'pressure'],\n",
       " ['As',\n",
       "  'looked',\n",
       "  'trying',\n",
       "  'hook',\n",
       "  'mind',\n",
       "  'gave',\n",
       "  'kind',\n",
       "  'soft',\n",
       "  'mixture',\n",
       "  'compassion',\n",
       "  'notice',\n",
       "  'one',\n",
       "  'girl',\n",
       "  'dark',\n",
       "  'hair',\n",
       "  'grubby',\n",
       "  'red',\n",
       "  'weeping',\n",
       "  'shoulder',\n",
       "  'older'],\n",
       " ['woman'],\n",
       " ['resembled',\n",
       "  'Rebecca',\n",
       "  'daughter',\n",
       "  'married',\n",
       "  'one',\n",
       "  'years',\n",
       "  'last',\n",
       "  'time',\n",
       "  'boy',\n",
       "  'tried',\n",
       "  'method',\n",
       "  'masterpiece',\n",
       "  'succeeded',\n",
       "  'envious',\n",
       "  'thought',\n",
       "  'learning',\n",
       "  'fly',\n",
       "  'stopped'],\n",
       " ['really',\n",
       "  'wanted',\n",
       "  'tear',\n",
       "  'hole',\n",
       "  'world',\n",
       "  'system',\n",
       "  'delusions',\n",
       "  'subject',\n",
       "  'elaborate',\n",
       "  'paper',\n",
       "  'scientific',\n",
       "  'doctor',\n",
       "  'sanitarium',\n",
       "  'given'],\n",
       " ['But', 'long', 'husband', 'puzzled'],\n",
       " ['article', 'called'],\n",
       " ['In',\n",
       "  'rare',\n",
       "  'patient',\n",
       "  'imagines',\n",
       "  'happening',\n",
       "  'around',\n",
       "  'veiled',\n",
       "  'reference',\n",
       "  'personality'],\n",
       " ['He', 'excludes', 'real', 'people', 'considers', 'much', 'intelligent'],\n",
       " ['Phenomenal', 'nature', 'shadows', 'wherever'],\n",
       " ['Clouds',\n",
       "  'staring',\n",
       "  'sky',\n",
       "  'transmit',\n",
       "  'means',\n",
       "  'slow',\n",
       "  'incredibly',\n",
       "  'detailed',\n",
       "  'information',\n",
       "  'regarding'],\n",
       " ['thoughts', 'discussed', 'manual', 'darkly', 'gesticulating'],\n",
       " ['Pebbles',\n",
       "  'stains',\n",
       "  'sun',\n",
       "  'flecks',\n",
       "  'form',\n",
       "  'patterns',\n",
       "  'awful',\n",
       "  'messages',\n",
       "  'must'],\n",
       " ['cipher'],\n",
       " ['All', 'around'],\n",
       " ['Some',\n",
       "  'detached',\n",
       "  'like',\n",
       "  'glass',\n",
       "  'surfaces',\n",
       "  'still',\n",
       "  'coats',\n",
       "  'store',\n",
       "  'prejudiced',\n",
       "  'hysterical',\n",
       "  'point',\n",
       "  'distorted',\n",
       "  'opinion',\n",
       "  'grotesquely',\n",
       "  'misinterpret'],\n",
       " ['He',\n",
       "  'must',\n",
       "  'always',\n",
       "  'guard',\n",
       "  'devote',\n",
       "  'every',\n",
       "  'minute',\n",
       "  'module',\n",
       "  'life',\n",
       "  'decoding',\n",
       "  'undulation'],\n",
       " ['air', 'exhales', 'indexed', 'filed'],\n",
       " ['interest', 'provokes', 'limited', 'immediate'],\n",
       " ['torrents', 'wild', 'scandal', 'increase', 'volume'],\n",
       " ['silhouettes',\n",
       "  'blood',\n",
       "  'magnified',\n",
       "  'million',\n",
       "  'flit',\n",
       "  'vast',\n",
       "  'still',\n",
       "  'farther',\n",
       "  'great',\n",
       "  'mountains',\n",
       "  'unbearable',\n",
       "  'solidity',\n",
       "  'sum',\n",
       "  'terms',\n",
       "  'granite',\n",
       "  'groaning',\n",
       "  'ultimate',\n",
       "  'truth',\n",
       "  'emerged',\n",
       "  'thunder',\n",
       "  'foul',\n",
       "  'air',\n",
       "  'last',\n",
       "  'dregs',\n",
       "  'day',\n",
       "  'mixed',\n",
       "  'street'],\n",
       " ['wanted', 'buy', 'fish', 'handed', 'basket', 'jelly', 'telling', 'go'],\n",
       " ['returned',\n",
       "  'tenement',\n",
       "  'walked',\n",
       "  'third',\n",
       "  'remembered',\n",
       "  'given',\n",
       "  'keys',\n",
       "  'earlier',\n",
       "  'NEW',\n",
       "  'Truth',\n",
       "  'Era',\n",
       "  'silence',\n",
       "  'sat',\n",
       "  'steps',\n",
       "  'silence',\n",
       "  'rose',\n",
       "  'ten',\n",
       "  'minutes',\n",
       "  'came',\n",
       "  'trudging',\n",
       "  'heavily',\n",
       "  'smiling',\n",
       "  'wanly',\n",
       "  'shaking',\n",
       "  'head',\n",
       "  'deprecation'],\n",
       " ['entered', 'flat', 'went'],\n",
       " ['Straining',\n",
       "  'corners',\n",
       "  'mouth',\n",
       "  'apart',\n",
       "  'means',\n",
       "  'removed',\n",
       "  'hopelessly',\n",
       "  'uncomfortable',\n",
       "  'dental'],\n",
       " ['He', 'read', 'newspaper', 'laid'],\n",
       " ['Still', 'ate', 'pale', 'victuals', 'needed'],\n",
       " ['knew',\n",
       "  'moods',\n",
       "  'also',\n",
       "  'gone',\n",
       "  'remained',\n",
       "  'living',\n",
       "  'room',\n",
       "  'pack',\n",
       "  'soiled',\n",
       "  'playing',\n",
       "  'cards',\n",
       "  'old',\n",
       "  'photograph'],\n",
       " ['Across',\n",
       "  'narrow',\n",
       "  'rain',\n",
       "  'tinkled',\n",
       "  'dark',\n",
       "  'ash',\n",
       "  'windows',\n",
       "  'blandly',\n",
       "  'one',\n",
       "  'hands',\n",
       "  'clasped',\n",
       "  'head',\n",
       "  'elbows',\n",
       "  'seen',\n",
       "  'lying',\n",
       "  'supine',\n",
       "  'untidy'],\n",
       " ['pulled', 'blind', 'examined'],\n",
       " ['As', 'looked', 'surprised'],\n",
       " ['A', 'photograph', 'German', 'maid', 'Leipzig', 'fell', 'fold'],\n",
       " ['turned', 'pages', 'Leipzig', 'slanting', 'house', 'badly'],\n",
       " ['Here', 'boy', 'four', 'years', 'puckered', 'looking', 'away', 'eager'],\n",
       " ['Here',\n",
       "  'Aunt',\n",
       "  'wild-eyed',\n",
       "  'old',\n",
       "  'lived',\n",
       "  'tremulous',\n",
       "  'world',\n",
       "  'bad',\n",
       "  'train',\n",
       "  'cancerous',\n",
       "  'growths',\n",
       "  'Germans',\n",
       "  'put',\n",
       "  'together',\n",
       "  'people',\n",
       "  'worried'],\n",
       " ['aged',\n",
       "  'drew',\n",
       "  'wonderful',\n",
       "  'birds',\n",
       "  'human',\n",
       "  'hands',\n",
       "  'suffered',\n",
       "  'insomnia',\n",
       "  'like'],\n",
       " ['famous', 'chess'],\n",
       " ['boy',\n",
       "  'aged',\n",
       "  'already',\n",
       "  'hard',\n",
       "  'afraid',\n",
       "  'wallpaper',\n",
       "  'afraid',\n",
       "  'certain',\n",
       "  'picture',\n",
       "  'merely',\n",
       "  'showed',\n",
       "  'idyllic',\n",
       "  'landscape',\n",
       "  'rocks',\n",
       "  'hillside',\n",
       "  'old',\n",
       "  'cart',\n",
       "  'wheel',\n",
       "  'hanging',\n",
       "  'one',\n",
       "  'branch',\n",
       "  'leafless'],\n",
       " ['Here', 'year', 'left'],\n",
       " ['remembered',\n",
       "  'humiliating',\n",
       "  'difficulties',\n",
       "  'backward',\n",
       "  'children',\n",
       "  'special',\n",
       "  'school',\n",
       "  'placed',\n",
       "  'arrived'],\n",
       " ['came',\n",
       "  'time',\n",
       "  'coinciding',\n",
       "  'long',\n",
       "  'convalescence',\n",
       "  'little',\n",
       "  'phobias',\n",
       "  'parents',\n",
       "  'stubbornly',\n",
       "  'regarded',\n",
       "  'eccentricities',\n",
       "  'prodigiously',\n",
       "  'gifted',\n",
       "  'dense',\n",
       "  'tangle',\n",
       "  'logically',\n",
       "  'interacting',\n",
       "  'making',\n",
       "  'totally',\n",
       "  'inaccessible',\n",
       "  'much',\n",
       "  'living',\n",
       "  'mean',\n",
       "  'accepting',\n",
       "  'loss',\n",
       "  'one',\n",
       "  'joy',\n",
       "  'even',\n",
       "  'joys',\n",
       "  'mere',\n",
       "  'possibilities'],\n",
       " ['thought',\n",
       "  'recurrent',\n",
       "  'waves',\n",
       "  'pain',\n",
       "  'reason',\n",
       "  'husband',\n",
       "  'visible',\n",
       "  'giants',\n",
       "  'hurting',\n",
       "  'boy',\n",
       "  'unimaginable',\n",
       "  'incalculable',\n",
       "  'amount',\n",
       "  'tenderness',\n",
       "  'contained',\n",
       "  'fate',\n",
       "  'either',\n",
       "  'crushed',\n",
       "  'transformed',\n",
       "  'neglected',\n",
       "  'children',\n",
       "  'humming',\n",
       "  'unswept',\n",
       "  'beautiful',\n",
       "  'weeds',\n",
       "  'hide',\n",
       "  'nearly',\n",
       "  'midnight',\n",
       "  'living',\n",
       "  'heard',\n",
       "  'husband',\n",
       "  'presently',\n",
       "  'staggered',\n",
       "  'wearing',\n",
       "  'nightgown',\n",
       "  'old',\n",
       "  'overcoat',\n",
       "  'astrakhan',\n",
       "  'collar',\n",
       "  'much',\n",
       "  'preferred',\n",
       "  'nice',\n",
       "  'blue'],\n",
       " ['sleep', 'I', 'lay'],\n",
       " ['Do', 'want', 'call', 'Dr.'],\n",
       " ['devil'],\n",
       " ['must', 'get'],\n",
       " [],\n",
       " ['He',\n",
       "  'hurled',\n",
       "  'sitting',\n",
       "  'feet',\n",
       "  'thumping',\n",
       "  'forehead',\n",
       "  'clenched',\n",
       "  'said'],\n",
       " ['bring',\n",
       "  'home',\n",
       "  'tomorrow',\n",
       "  'like',\n",
       "  'said',\n",
       "  'husband',\n",
       "  'went',\n",
       "  'retrieved',\n",
       "  'playing',\n",
       "  'cards',\n",
       "  'photograph',\n",
       "  'two',\n",
       "  'slipped',\n",
       "  'knave',\n",
       "  'nine',\n",
       "  'ace',\n",
       "  'maid',\n",
       "  'bestial'],\n",
       " ['He', 'returned', 'high', 'saying', 'loud', 'figured'],\n",
       " ['give'],\n",
       " ['Each', 'us', 'spend', 'part', 'night', 'near', 'part'],\n",
       " ['doctor', 'see', 'least', 'twice'],\n",
       " ['It', 'matter', 'Prince'],\n",
       " ['He', 'much', 'say', 'come', 'telephone'],\n",
       " ['It', 'unusual', 'hour'],\n",
       " ['He',\n",
       "  'stood',\n",
       "  'middle',\n",
       "  'groping',\n",
       "  'foot',\n",
       "  'one',\n",
       "  'slipper',\n",
       "  'come',\n",
       "  'gaped'],\n",
       " ['knew',\n",
       "  'English',\n",
       "  'always',\n",
       "  'attended',\n",
       "  'I',\n",
       "  'speak',\n",
       "  'dull',\n",
       "  'little',\n",
       "  'voice',\n",
       "  'said',\n",
       "  'number'],\n",
       " [],\n",
       " [],\n",
       " [],\n",
       " ['No.'],\n",
       " ['wrong', 'put', 'receiver', 'gently', 'hand', 'went'],\n",
       " ['frightened',\n",
       "  'smiled',\n",
       "  'quick',\n",
       "  'smile',\n",
       "  'immediately',\n",
       "  'resumed',\n",
       "  'excited'],\n",
       " ['fetch', 'soon'],\n",
       " ['keep', 'knives', 'locked'],\n",
       " ['Even',\n",
       "  'presented',\n",
       "  'danger',\n",
       "  'telephone',\n",
       "  'rang',\n",
       "  'second',\n",
       "  'anxious',\n",
       "  'young',\n",
       "  'voice',\n",
       "  'asked',\n",
       "  'incorrect'],\n",
       " ['I', 'tell'],\n",
       " ['turning', 'instead', 'hung', 'sat', 'festive', 'midnight'],\n",
       " ['He',\n",
       "  'sipped',\n",
       "  'face',\n",
       "  'every',\n",
       "  'raised',\n",
       "  'glass',\n",
       "  'circular',\n",
       "  'make',\n",
       "  'sugar',\n",
       "  'dissolve'],\n",
       " ['vein', 'side', 'bald', 'head', 'stood', 'silvery', 'bristles', 'showed'],\n",
       " ['birthday', 'present', 'stood'],\n",
       " ['While',\n",
       "  'poured',\n",
       "  'another',\n",
       "  'glass',\n",
       "  'put',\n",
       "  'spectacles',\n",
       "  'pleasure',\n",
       "  'luminous',\n",
       "  'red',\n",
       "  'little'],\n",
       " ['moist', 'lips', 'spelled', 'eloquent', 'beach'],\n",
       " ['He', 'got', 'crab', 'telephone', 'rang'],\n",
       " []]"
      ]
     },
     "execution_count": 98,
     "metadata": {},
     "output_type": "execute_result"
    }
   ],
   "source": [
    "filtered_sent_doc_1"
   ]
  },
  {
   "cell_type": "code",
   "execution_count": 99,
   "metadata": {},
   "outputs": [
    {
     "data": {
      "text/plain": [
       "'Desires he had none.'"
      ]
     },
     "execution_count": 99,
     "metadata": {},
     "output_type": "execute_result"
    }
   ],
   "source": [
    "sent_doc_1[1]"
   ]
  },
  {
   "cell_type": "code",
   "execution_count": 108,
   "metadata": {},
   "outputs": [
    {
     "name": "stdout",
     "output_type": "stream",
     "text": [
      "Pos: time\n",
      "Pos: many\n",
      "Neg: problem\n",
      "Pos: present\n",
      "Pos: take\n",
      "Pos: young\n",
      "\n",
      "\n",
      "Pos: vibrant\n",
      "Neg: malignant\n",
      "Neg: gross\n",
      "\n",
      "Neg: offend\n",
      "Neg: frighten\n",
      "Pos: innocent\n",
      "Pos: time\n",
      "\n",
      "Neg: drab\n",
      "\n",
      "Neg: cheap\n",
      "\n",
      "Pos: light\n",
      "\n",
      "Pos: real\n",
      "\n",
      "\n",
      "Neg: lost\n",
      "Pos: life\n",
      "\n",
      "Pos: take\n",
      "Pos: time\n",
      "\n",
      "Pos: leading\n",
      "\n",
      "Neg: poor\n",
      "Pos: take\n",
      "\n",
      "Neg: disturb\n",
      "\n",
      "Neg: miserably\n",
      "Pos: things\n",
      "Pos: present\n",
      "Pos: time\n",
      "Pos: open\n",
      "\n",
      "\n",
      "Pos: shelter\n",
      "\n",
      "Neg: dripping\n",
      "Neg: tiny\n",
      "Neg: helplessly\n",
      "Pos: time\n",
      "Neg: swollen\n",
      "\n",
      "Pos: mind\n",
      "Pos: kind\n",
      "Pos: compassion\n",
      "Neg: dark\n",
      "\n",
      "\n",
      "Pos: time\n",
      "Neg: envious\n",
      "Pos: learning\n",
      "\n",
      "Neg: delusions\n",
      "\n",
      "Neg: puzzled\n",
      "\n",
      "\n",
      "\n",
      "Pos: real\n",
      "Pos: intelligent\n",
      "\n",
      "\n",
      "Neg: slow\n",
      "\n",
      "Pos: thoughts\n",
      "\n",
      "Neg: stains\n",
      "Neg: awful\n",
      "\n",
      "\n",
      "\n",
      "Pos: still\n",
      "Neg: hysterical\n",
      "Neg: distorted\n",
      "Neg: misinterpret\n",
      "\n",
      "Pos: life\n",
      "\n",
      "Pos: air\n",
      "\n",
      "Pos: interest\n",
      "Neg: limited\n",
      "\n",
      "Neg: wild\n",
      "Neg: scandal\n",
      "\n",
      "Pos: still\n",
      "Pos: great\n",
      "Neg: unbearable\n",
      "Pos: ultimate\n",
      "Pos: truth\n",
      "Neg: foul\n",
      "Pos: air\n",
      "\n",
      "Pos: go\n",
      "\n",
      "Pos: steps\n",
      "Pos: smiling\n",
      "\n",
      "\n",
      "Neg: hopelessly\n",
      "Neg: uncomfortable\n",
      "\n",
      "\n",
      "Neg: pale\n",
      "\n",
      "Pos: living\n",
      "\n",
      "Neg: dark\n",
      "Pos: seen\n",
      "\n",
      "Neg: blind\n",
      "\n",
      "Pos: surprised\n",
      "\n",
      "Neg: fell\n",
      "\n",
      "Neg: badly\n",
      "\n",
      "Pos: eager\n",
      "\n",
      "Neg: bad\n",
      "Neg: cancerous\n",
      "Neg: worried\n",
      "\n",
      "Pos: wonderful\n",
      "Pos: human\n",
      "Neg: suffered\n",
      "\n",
      "Pos: famous\n",
      "\n",
      "Neg: hard\n",
      "Neg: afraid\n",
      "Neg: afraid\n",
      "Pos: certain\n",
      "\n",
      "\n",
      "Neg: humiliating\n",
      "Neg: difficulties\n",
      "Neg: backward\n",
      "Pos: special\n",
      "\n",
      "Pos: time\n",
      "Neg: stubbornly\n",
      "Neg: dense\n",
      "Neg: tangle\n",
      "Pos: making\n",
      "Pos: living\n",
      "Pos: accepting\n",
      "Neg: loss\n",
      "Pos: joy\n",
      "\n",
      "Pos: reason\n",
      "Neg: hurting\n",
      "Neg: unimaginable\n",
      "Neg: tenderness\n",
      "Neg: crushed\n",
      "Neg: neglected\n",
      "Neg: humming\n",
      "Pos: beautiful\n",
      "Pos: living\n",
      "Pos: nice\n",
      "\n",
      "Pos: sleep\n",
      "\n",
      "\n",
      "Neg: devil\n",
      "\n",
      "\n",
      "\n",
      "\n",
      "Neg: knave\n",
      "Neg: bestial\n",
      "\n",
      "Neg: loud\n",
      "\n",
      "Pos: give\n",
      "\n",
      "Pos: part\n",
      "Pos: part\n",
      "\n",
      "\n",
      "Pos: matter\n",
      "\n",
      "\n",
      "Neg: unusual\n",
      "\n",
      "\n",
      "Neg: dull\n",
      "\n",
      "\n",
      "\n",
      "\n",
      "\n",
      "Neg: wrong\n",
      "\n",
      "Pos: smile\n",
      "Pos: excited\n",
      "\n",
      "\n",
      "\n",
      "Neg: danger\n",
      "Neg: anxious\n",
      "Pos: young\n",
      "Neg: incorrect\n",
      "\n",
      "\n",
      "Neg: hung\n",
      "Pos: festive\n",
      "\n",
      "\n",
      "\n",
      "Pos: present\n",
      "\n",
      "Pos: pleasure\n",
      "\n",
      "\n",
      "\n",
      "\n"
     ]
    }
   ],
   "source": [
    "score = []\n",
    "\n",
    "for i in range(len(filtered_sent_doc_1)):\n",
    "    t_scr = 0\n",
    "\n",
    "    for wrd in filtered_sent_doc_1[i]:      \n",
    "        if wrd in pos:\n",
    "            t_scr = t_scr + 1\n",
    "            print('Pos: ' + wrd)\n",
    "\n",
    "        elif wrd in neg:\n",
    "            t_scr = t_scr - 1\n",
    "            print('Neg: ' + wrd)\n",
    "\n",
    "    score.append(t_scr)\n",
    "    print()"
   ]
  },
  {
   "cell_type": "code",
   "execution_count": 110,
   "metadata": {},
   "outputs": [
    {
     "name": "stdout",
     "output_type": "stream",
     "text": [
      "[4, 0, -1, 0, -1, -1, 1, 1, 0, 0, 2, 1, 0, -1, 3, 0, 1, -3, 2, 0, 1, -1, -1, 0, 0, 2, 0, -1, 1, -2, 0, 0, -2, 1, 1, 0, -2, 3, 1, 2, 0, -2, 0, -1, 1, 0, -1, 1, -1, -1, 1, -3, 1, 1, -2, 0, -2, 1, -2, 1, 0, -1, 0, 0, 0, -2, -1, 1, 2, 0, 1, 0, -1, 0, -1, 0, 0, 0, 0, -1, 2, 0, 0, -2, 0, 0, 0, 0, 1, 1, 0, 0, 0]\n"
     ]
    }
   ],
   "source": [
    "print(score)"
   ]
  },
  {
   "cell_type": "code",
   "execution_count": 111,
   "metadata": {},
   "outputs": [
    {
     "data": {
      "text/plain": [
       "['drab', 'gray', 'hair', 'pinned']"
      ]
     },
     "execution_count": 111,
     "metadata": {},
     "output_type": "execute_result"
    }
   ],
   "source": [
    "filtered_sent_doc_1[4]"
   ]
  },
  {
   "cell_type": "code",
   "execution_count": 112,
   "metadata": {},
   "outputs": [
    {
     "data": {
      "text/plain": [
       "-1"
      ]
     },
     "execution_count": 112,
     "metadata": {},
     "output_type": "execute_result"
    }
   ],
   "source": [
    "score[4]"
   ]
  },
  {
   "cell_type": "code",
   "execution_count": null,
   "metadata": {},
   "outputs": [],
   "source": []
  },
  {
   "cell_type": "code",
   "execution_count": 120,
   "metadata": {},
   "outputs": [],
   "source": [
    "import matplotlib.pyplot as plt\n",
    "\n",
    "y = [ _ for _ in range(len(score))]"
   ]
  },
  {
   "cell_type": "code",
   "execution_count": 127,
   "metadata": {},
   "outputs": [
    {
     "data": {
      "text/plain": [
       "<matplotlib.collections.PathCollection at 0x7fc5d49f59b0>"
      ]
     },
     "execution_count": 127,
     "metadata": {},
     "output_type": "execute_result"
    },
    {
     "data": {
      "image/png": "[encoded data removed]",
      "text/plain": [
       "<Figure size 432x288 with 1 Axes>"
      ]
     },
     "metadata": {},
     "output_type": "display_data"
    }
   ],
   "source": [
    "plt.scatter(y, score, label='senti_scores', color='k', marker='*', s=100)"
   ]
  },
  {
   "cell_type": "code",
   "execution_count": null,
   "metadata": {},
   "outputs": [],
   "source": []
  }
 ],
 "metadata": {
  "kernelspec": {
   "display_name": "Python 3",
   "language": "python",
   "name": "python3"
  },
  "language_info": {
   "codemirror_mode": {
    "name": "ipython",
    "version": 3
   },
   "file_extension": ".py",
   "mimetype": "text/x-python",
   "name": "python",
   "nbconvert_exporter": "python",
   "pygments_lexer": "ipython3",
   "version": "3.5.2"
  }
 },
 "nbformat": 4,
 "nbformat_minor": 2
}
